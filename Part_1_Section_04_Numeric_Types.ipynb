{
  "cells": [
    {
      "cell_type": "markdown",
      "metadata": {
        "id": "view-in-github",
        "colab_type": "text"
      },
      "source": [
        "<a href=\"https://colab.research.google.com/github/aserdargun/DSML101/blob/main/Part_1_Section_04_Numeric_Types.ipynb\" target=\"_parent\"><img src=\"https://colab.research.google.com/assets/colab-badge.svg\" alt=\"Open In Colab\"/></a>"
      ]
    },
    {
      "cell_type": "markdown",
      "id": "a841e701-a326-4a18-9ddc-7a32c8f41875",
      "metadata": {
        "id": "a841e701-a326-4a18-9ddc-7a32c8f41875"
      },
      "source": [
        "# **PART 1: FUNCTIONAL PROGRAMMING**"
      ]
    },
    {
      "cell_type": "markdown",
      "id": "07744e47-8b93-4af2-8c49-2c480f2118f4",
      "metadata": {
        "id": "07744e47-8b93-4af2-8c49-2c480f2118f4"
      },
      "source": [
        "## Section 04 - Numeric Types"
      ]
    },
    {
      "cell_type": "markdown",
      "id": "d10b5732-7c2a-461a-9614-b6d79f81b125",
      "metadata": {
        "id": "d10b5732-7c2a-461a-9614-b6d79f81b125"
      },
      "source": [
        "### 01 - Integers - Data Type"
      ]
    },
    {
      "cell_type": "markdown",
      "id": "0bcbc768-cfce-4d0f-880a-4eaa8ffb9757",
      "metadata": {
        "id": "0bcbc768-cfce-4d0f-880a-4eaa8ffb9757"
      },
      "source": [
        "Integers are objects - instances of the `int` class"
      ]
    },
    {
      "cell_type": "code",
      "execution_count": null,
      "id": "032f9bff-e18c-4f11-83ea-87fc0605970e",
      "metadata": {
        "id": "032f9bff-e18c-4f11-83ea-87fc0605970e",
        "outputId": "8199badf-5558-4de3-9913-61096c7b3ac8"
      },
      "outputs": [
        {
          "name": "stdout",
          "output_type": "stream",
          "text": [
            "<class 'int'>\n"
          ]
        }
      ],
      "source": [
        "print(type(100))"
      ]
    },
    {
      "cell_type": "markdown",
      "id": "441745e2-0d2f-44c8-a803-c09176490533",
      "metadata": {
        "id": "441745e2-0d2f-44c8-a803-c09176490533"
      },
      "source": [
        "They are a variable length data type that can theoretically handle any integer magnitude. This will take up a variable amount of memory that depends on the particular size of the integer."
      ]
    },
    {
      "cell_type": "code",
      "execution_count": null,
      "id": "039aa38a-557c-429c-b529-8b4008f21bae",
      "metadata": {
        "id": "039aa38a-557c-429c-b529-8b4008f21bae"
      },
      "outputs": [],
      "source": [
        "import sys"
      ]
    },
    {
      "cell_type": "markdown",
      "id": "1ac238d2-b9ad-4f47-8c02-4104e7c49bf5",
      "metadata": {
        "id": "1ac238d2-b9ad-4f47-8c02-4104e7c49bf5"
      },
      "source": [
        "Creating an integer object requires an overhead of 24 bytes."
      ]
    },
    {
      "cell_type": "code",
      "execution_count": null,
      "id": "02615298-6b3a-4d54-8782-ba5608bf28c5",
      "metadata": {
        "id": "02615298-6b3a-4d54-8782-ba5608bf28c5",
        "outputId": "c4fa3d36-936e-4d2e-c874-285376f26fa8"
      },
      "outputs": [
        {
          "data": {
            "text/plain": [
              "24"
            ]
          },
          "execution_count": 5,
          "metadata": {},
          "output_type": "execute_result"
        }
      ],
      "source": [
        "sys.getsizeof(0)"
      ]
    },
    {
      "cell_type": "markdown",
      "id": "744c206c-a3d5-475a-b218-24cbf0401dcd",
      "metadata": {
        "id": "744c206c-a3d5-475a-b218-24cbf0401dcd"
      },
      "source": [
        "Here we see that to store the number 1 required 4 bytes (32 bits) on top of the 24 byte overhead:"
      ]
    },
    {
      "cell_type": "code",
      "execution_count": null,
      "id": "c481fa75-7bf1-474f-9e80-4b7936b1f07d",
      "metadata": {
        "id": "c481fa75-7bf1-474f-9e80-4b7936b1f07d",
        "outputId": "e6b51285-223e-4e01-ef4e-72ac63774021"
      },
      "outputs": [
        {
          "data": {
            "text/plain": [
              "28"
            ]
          },
          "execution_count": 6,
          "metadata": {},
          "output_type": "execute_result"
        }
      ],
      "source": [
        "sys.getsizeof(1)"
      ]
    },
    {
      "cell_type": "markdown",
      "id": "7e47f7f7-32be-44f6-8702-dffe724b0f79",
      "metadata": {
        "id": "7e47f7f7-32be-44f6-8702-dffe724b0f79"
      },
      "source": [
        "Larger numbers will require more storage space:"
      ]
    },
    {
      "cell_type": "code",
      "execution_count": null,
      "id": "0b82a7ed-25ae-44ff-84dc-442a932b605a",
      "metadata": {
        "id": "0b82a7ed-25ae-44ff-84dc-442a932b605a",
        "outputId": "1cd9daed-ea64-402e-e2a1-7c3d98e5a235"
      },
      "outputs": [
        {
          "data": {
            "text/plain": [
              "160"
            ]
          },
          "execution_count": 7,
          "metadata": {},
          "output_type": "execute_result"
        }
      ],
      "source": [
        "sys.getsizeof(2**1000)"
      ]
    },
    {
      "cell_type": "markdown",
      "id": "4acea490-a995-416d-b2bb-c3ea55720403",
      "metadata": {
        "id": "4acea490-a995-416d-b2bb-c3ea55720403"
      },
      "source": [
        "Larger integers will also slow down calcultaions."
      ]
    },
    {
      "cell_type": "code",
      "execution_count": null,
      "id": "78d5f496-d099-49fc-975a-5e5efbd33b69",
      "metadata": {
        "id": "78d5f496-d099-49fc-975a-5e5efbd33b69"
      },
      "outputs": [],
      "source": [
        "import time"
      ]
    },
    {
      "cell_type": "code",
      "execution_count": null,
      "id": "b3cbae2f-9462-4698-8e21-695b0972c25c",
      "metadata": {
        "id": "b3cbae2f-9462-4698-8e21-695b0972c25c"
      },
      "outputs": [],
      "source": [
        "def calc(a):\n",
        "    for i in range(10000000):\n",
        "        a * 2"
      ]
    },
    {
      "cell_type": "markdown",
      "id": "8589d04a-bb26-4b34-8cd4-a1acb8e9fb7a",
      "metadata": {
        "id": "8589d04a-bb26-4b34-8cd4-a1acb8e9fb7a"
      },
      "source": [
        "We start with a small integer value for a (10):"
      ]
    },
    {
      "cell_type": "code",
      "execution_count": null,
      "id": "7e0e0b79-3aa6-4956-bc40-d29ac30cbe65",
      "metadata": {
        "id": "7e0e0b79-3aa6-4956-bc40-d29ac30cbe65",
        "outputId": "b09499fd-56c3-4247-de5f-9c240e898a3c"
      },
      "outputs": [
        {
          "name": "stdout",
          "output_type": "stream",
          "text": [
            "0.47732889999997496\n"
          ]
        }
      ],
      "source": [
        "start = time.perf_counter()\n",
        "calc(10)\n",
        "end = time.perf_counter()\n",
        "print(end - start)"
      ]
    },
    {
      "cell_type": "markdown",
      "id": "e6f65bf6-9ee2-454d-a293-e2d816254024",
      "metadata": {
        "id": "e6f65bf6-9ee2-454d-a293-e2d816254024"
      },
      "source": [
        "Now we set a to something larger `2**100`:"
      ]
    },
    {
      "cell_type": "code",
      "execution_count": null,
      "id": "e25e5fdd-9277-40e9-8b3e-deea1d2a6482",
      "metadata": {
        "id": "e25e5fdd-9277-40e9-8b3e-deea1d2a6482",
        "outputId": "177b71f2-4ec7-44cb-8589-b10afddefe17"
      },
      "outputs": [
        {
          "name": "stdout",
          "output_type": "stream",
          "text": [
            "1.0395105000000058\n"
          ]
        }
      ],
      "source": [
        "start = time.perf_counter()\n",
        "calc(2**100)\n",
        "end = time.perf_counter()\n",
        "print(end - start)"
      ]
    },
    {
      "cell_type": "markdown",
      "id": "4a0c7b78-0b8d-46d5-a6ba-6c1a3a5d4849",
      "metadata": {
        "id": "4a0c7b78-0b8d-46d5-a6ba-6c1a3a5d4849"
      },
      "source": [
        "Finally we set a to some really large  value `2**10000`"
      ]
    },
    {
      "cell_type": "code",
      "execution_count": null,
      "id": "b6e5e083-4477-4f7d-b49e-b1f1b31ec163",
      "metadata": {
        "id": "b6e5e083-4477-4f7d-b49e-b1f1b31ec163",
        "outputId": "6ab5d325-2855-45f9-e091-00d4c2407ae2"
      },
      "outputs": [
        {
          "name": "stdout",
          "output_type": "stream",
          "text": [
            "6.573301500000014\n"
          ]
        }
      ],
      "source": [
        "start = time.perf_counter()\n",
        "calc(2**10000)\n",
        "end = time.perf_counter()\n",
        "print(end - start)"
      ]
    },
    {
      "cell_type": "markdown",
      "id": "20ccd410-624a-424e-a0bf-88874a6b7da4",
      "metadata": {
        "id": "20ccd410-624a-424e-a0bf-88874a6b7da4"
      },
      "source": [
        "### 02 - Integers - Operations"
      ]
    },
    {
      "cell_type": "markdown",
      "id": "9c7705de-b995-4c53-97ce-80d0294edf35",
      "metadata": {
        "id": "9c7705de-b995-4c53-97ce-80d0294edf35"
      },
      "source": [
        "Addition, subtraction, multiplication and exponentiation of integers always resul in an integer. (In the case of exponentiation this holds for positive integer exponents.)"
      ]
    },
    {
      "cell_type": "code",
      "execution_count": null,
      "id": "71c221ec-2e7e-4640-b37d-b3a2fb20535f",
      "metadata": {
        "id": "71c221ec-2e7e-4640-b37d-b3a2fb20535f",
        "outputId": "5beafc08-c838-45cd-fde7-8674e07c761e"
      },
      "outputs": [
        {
          "data": {
            "text/plain": [
              "int"
            ]
          },
          "execution_count": 16,
          "metadata": {},
          "output_type": "execute_result"
        }
      ],
      "source": [
        "type(2 + 3)"
      ]
    },
    {
      "cell_type": "code",
      "execution_count": null,
      "id": "4630d4f8-c441-40cd-9388-2b06660a3293",
      "metadata": {
        "id": "4630d4f8-c441-40cd-9388-2b06660a3293",
        "outputId": "b0bdda45-8d44-41c6-8305-ea36b44e1a22"
      },
      "outputs": [
        {
          "data": {
            "text/plain": [
              "int"
            ]
          },
          "execution_count": 17,
          "metadata": {},
          "output_type": "execute_result"
        }
      ],
      "source": [
        "type(3 - 10)"
      ]
    },
    {
      "cell_type": "code",
      "execution_count": null,
      "id": "9970744e-30ba-4aee-8f49-c063c2b52735",
      "metadata": {
        "id": "9970744e-30ba-4aee-8f49-c063c2b52735",
        "outputId": "a9be8da6-ca5c-4967-f307-f27a44bd042c"
      },
      "outputs": [
        {
          "data": {
            "text/plain": [
              "int"
            ]
          },
          "execution_count": 18,
          "metadata": {},
          "output_type": "execute_result"
        }
      ],
      "source": [
        "type(3 * 5)"
      ]
    },
    {
      "cell_type": "code",
      "execution_count": null,
      "id": "626feff1-ce43-47f8-beed-6005055b27b6",
      "metadata": {
        "id": "626feff1-ce43-47f8-beed-6005055b27b6",
        "outputId": "94f3d685-ce35-45e7-ba44-1b019db6ce90"
      },
      "outputs": [
        {
          "data": {
            "text/plain": [
              "int"
            ]
          },
          "execution_count": 19,
          "metadata": {},
          "output_type": "execute_result"
        }
      ],
      "source": [
        "type(3 ** 4)"
      ]
    },
    {
      "cell_type": "markdown",
      "id": "1bccf393-b530-413c-9e98-b244b8cd0a7a",
      "metadata": {
        "id": "1bccf393-b530-413c-9e98-b244b8cd0a7a"
      },
      "source": [
        "But the standard division operator `/` always results in a float value."
      ]
    },
    {
      "cell_type": "code",
      "execution_count": null,
      "id": "06bee9a5-660a-4ec4-832a-2e14aaf30532",
      "metadata": {
        "id": "06bee9a5-660a-4ec4-832a-2e14aaf30532",
        "outputId": "5f4e6334-70ac-4ff1-b7f4-44b963a7a8f2"
      },
      "outputs": [
        {
          "data": {
            "text/plain": [
              "float"
            ]
          },
          "execution_count": 21,
          "metadata": {},
          "output_type": "execute_result"
        }
      ],
      "source": [
        "type(2 / 3)"
      ]
    },
    {
      "cell_type": "code",
      "execution_count": null,
      "id": "f5ff2390-c617-4103-a804-08835ca4282d",
      "metadata": {
        "id": "f5ff2390-c617-4103-a804-08835ca4282d",
        "outputId": "5e160e5d-3d3d-4951-d438-3f427c1e2695"
      },
      "outputs": [
        {
          "data": {
            "text/plain": [
              "float"
            ]
          },
          "execution_count": 22,
          "metadata": {},
          "output_type": "execute_result"
        }
      ],
      "source": [
        "type(10 / 2)"
      ]
    },
    {
      "cell_type": "markdown",
      "id": "199a44d9-8e53-444e-bc07-6082f17a24b0",
      "metadata": {
        "id": "199a44d9-8e53-444e-bc07-6082f17a24b0"
      },
      "source": [
        "The `math.floor()` method will return the floor of any number."
      ]
    },
    {
      "cell_type": "code",
      "execution_count": null,
      "id": "c144543b-28cb-4681-ad01-08318ff02929",
      "metadata": {
        "id": "c144543b-28cb-4681-ad01-08318ff02929"
      },
      "outputs": [],
      "source": [
        "import math"
      ]
    },
    {
      "cell_type": "markdown",
      "id": "bd8447bb-4b53-4a39-a323-431396ef267e",
      "metadata": {
        "id": "bd8447bb-4b53-4a39-a323-431396ef267e"
      },
      "source": [
        "For non-negative values (>=0), the floor of the value is the same as the integer portion of the value (truncation)"
      ]
    },
    {
      "cell_type": "code",
      "execution_count": null,
      "id": "fcde838d-081a-4c14-b130-188488f33730",
      "metadata": {
        "id": "fcde838d-081a-4c14-b130-188488f33730",
        "outputId": "57d9a8fd-5db6-4a8d-c03f-2733e88eebcf"
      },
      "outputs": [
        {
          "data": {
            "text/plain": [
              "3"
            ]
          },
          "execution_count": 25,
          "metadata": {},
          "output_type": "execute_result"
        }
      ],
      "source": [
        "math.floor(3.15)"
      ]
    },
    {
      "cell_type": "code",
      "execution_count": null,
      "id": "050d14df-25d2-476d-aae0-be688cdf08ad",
      "metadata": {
        "id": "050d14df-25d2-476d-aae0-be688cdf08ad",
        "outputId": "3b9e25f0-d58b-4800-c8ef-50b96293190d"
      },
      "outputs": [
        {
          "data": {
            "text/plain": [
              "3"
            ]
          },
          "execution_count": 26,
          "metadata": {},
          "output_type": "execute_result"
        }
      ],
      "source": [
        "math.floor(3.9999999)"
      ]
    },
    {
      "cell_type": "markdown",
      "id": "f76bcd81-590b-4196-a45d-f95bd66cbe78",
      "metadata": {
        "id": "f76bcd81-590b-4196-a45d-f95bd66cbe78"
      },
      "source": [
        "However, this is not the case for negative values:"
      ]
    },
    {
      "cell_type": "code",
      "execution_count": null,
      "id": "c62c9742-8c9f-471c-b9e4-080572a6c9f1",
      "metadata": {
        "id": "c62c9742-8c9f-471c-b9e4-080572a6c9f1",
        "outputId": "2c5c8fe9-def8-47af-88a8-ef60f85fc640"
      },
      "outputs": [
        {
          "data": {
            "text/plain": [
              "-4"
            ]
          },
          "execution_count": 27,
          "metadata": {},
          "output_type": "execute_result"
        }
      ],
      "source": [
        "math.floor(-3.15)"
      ]
    },
    {
      "cell_type": "code",
      "execution_count": null,
      "id": "ae08836d-cfa5-433c-8cb9-cf34da3452f0",
      "metadata": {
        "id": "ae08836d-cfa5-433c-8cb9-cf34da3452f0",
        "outputId": "14d8e829-bef2-49dc-acf9-c46d9707727a"
      },
      "outputs": [
        {
          "data": {
            "text/plain": [
              "-4"
            ]
          },
          "execution_count": 28,
          "metadata": {},
          "output_type": "execute_result"
        }
      ],
      "source": [
        "math.floor(-3.0000001)"
      ]
    },
    {
      "cell_type": "markdown",
      "id": "2bff3c3f-327f-4b2e-a47b-960aa0b00543",
      "metadata": {
        "id": "2bff3c3f-327f-4b2e-a47b-960aa0b00543"
      },
      "source": [
        "**The Floor Division Operator**\n",
        "\n",
        "The floor division operator `a//b` is the floor of `a / b`\n",
        "\n",
        "i.e. `a // b = math.floor(a / b)`\n",
        "\n",
        "This is true whether `a` and `b` are positive or negative."
      ]
    },
    {
      "cell_type": "code",
      "execution_count": null,
      "id": "d1ab21fe-9f31-45c9-b727-d71020520357",
      "metadata": {
        "id": "d1ab21fe-9f31-45c9-b727-d71020520357",
        "outputId": "9aedb6f9-6827-46f4-9751-0426185d4fac"
      },
      "outputs": [
        {
          "name": "stdout",
          "output_type": "stream",
          "text": [
            "2.0625\n",
            "2\n",
            "2\n"
          ]
        }
      ],
      "source": [
        "a = 33\n",
        "b = 16\n",
        "print(a/b)\n",
        "print(a//b)\n",
        "print(math.floor(a/b))"
      ]
    },
    {
      "cell_type": "markdown",
      "id": "10a81059-43d0-419b-924a-9ebfd87ad8bb",
      "metadata": {
        "id": "10a81059-43d0-419b-924a-9ebfd87ad8bb"
      },
      "source": [
        "For positive numbers, `a//b` is basically the same as truncating (taking the integer portion) of `a / b`.\n",
        "\n",
        "But this is not the case for negative numbers."
      ]
    },
    {
      "cell_type": "code",
      "execution_count": null,
      "id": "b25a1507-e0b8-444a-964b-8b6cd716ffc1",
      "metadata": {
        "id": "b25a1507-e0b8-444a-964b-8b6cd716ffc1",
        "outputId": "5644b86e-9cf6-4b69-db4b-899cfdb4e80a"
      },
      "outputs": [
        {
          "name": "stdout",
          "output_type": "stream",
          "text": [
            "-33/16 = -2.0625\n",
            "trunc(-33/16) = -2\n",
            "-33//16 = -3\n",
            "floor(-33//16) = -3\n"
          ]
        }
      ],
      "source": [
        "a = -33\n",
        "b = 16\n",
        "print('{0}/{1} = {2}'.format(a, b, a/b))\n",
        "print('trunc({0}/{1}) = {2}'.format(a, b, math.trunc(a/b)))\n",
        "print('{0}//{1} = {2}'.format(a, b, a//b))\n",
        "print('floor({0}//{1}) = {2}'.format(a, b, math.floor(a/b)))"
      ]
    },
    {
      "cell_type": "code",
      "execution_count": null,
      "id": "66f45418-39f3-40d3-a3d0-a6effa02d29e",
      "metadata": {
        "id": "66f45418-39f3-40d3-a3d0-a6effa02d29e",
        "outputId": "f5a7a6e4-7b86-4803-b643-6ed3c382840d"
      },
      "outputs": [
        {
          "name": "stdout",
          "output_type": "stream",
          "text": [
            "33/-16 = -2.0625\n",
            "trunc(33/-16) = -2\n",
            "33//-16 = -3\n",
            "floor(33//-16) = -3\n"
          ]
        }
      ],
      "source": [
        "a = 33\n",
        "b = -16\n",
        "print('{0}/{1} = {2}'.format(a, b, a/b))\n",
        "print('trunc({0}/{1}) = {2}'.format(a, b, math.trunc(a/b)))\n",
        "print('{0}//{1} = {2}'.format(a, b, a//b))\n",
        "print('floor({0}//{1}) = {2}'.format(a, b, math.floor(a/b)))"
      ]
    },
    {
      "cell_type": "markdown",
      "id": "ea0b40c8-3071-4fe7-8682-9fe5f997edbc",
      "metadata": {
        "id": "ea0b40c8-3071-4fe7-8682-9fe5f997edbc"
      },
      "source": [
        "**The Modulo Operator**\n",
        "The modulo operator and the floor division operator will always satisfy the following equation:\n",
        "\n",
        "`a = b * (a // b) + a % b`"
      ]
    },
    {
      "cell_type": "code",
      "execution_count": null,
      "id": "f3033571-45c7-44a0-a314-4dd9edd6cba0",
      "metadata": {
        "id": "f3033571-45c7-44a0-a314-4dd9edd6cba0",
        "outputId": "db60e5b2-ffb8-47c3-b735-2ebac563368a"
      },
      "outputs": [
        {
          "name": "stdout",
          "output_type": "stream",
          "text": [
            "13/4 = 3.25\n",
            "13//4 = 3\n",
            "13%4 = 1\n",
            "True\n"
          ]
        }
      ],
      "source": [
        "a = 13\n",
        "b = 4\n",
        "print('{0}/{1} = {2}'.format(a, b, a/b))\n",
        "print('{0}//{1} = {2}'.format(a, b, a//b))\n",
        "print('{0}%{1} = {2}'.format(a, b, a%b))\n",
        "print(a == b * (a//b) + a%b)"
      ]
    },
    {
      "cell_type": "code",
      "execution_count": null,
      "id": "7201fdf3-70e3-4ab9-a39e-70cc6c3d41ed",
      "metadata": {
        "id": "7201fdf3-70e3-4ab9-a39e-70cc6c3d41ed",
        "outputId": "b5fc226d-c2ac-4576-df81-edfd255a683d"
      },
      "outputs": [
        {
          "name": "stdout",
          "output_type": "stream",
          "text": [
            "-13/4 = -3.25\n",
            "-13//4 = -4\n",
            "-13%4 = 3\n",
            "True\n"
          ]
        }
      ],
      "source": [
        "a = -13\n",
        "b = 4\n",
        "print('{0}/{1} = {2}'.format(a, b, a/b))\n",
        "print('{0}//{1} = {2}'.format(a, b, a//b))\n",
        "print('{0}%{1} = {2}'.format(a, b, a%b))\n",
        "print(a == b * (a//b) + a%b)"
      ]
    },
    {
      "cell_type": "code",
      "execution_count": null,
      "id": "09f82426-0804-4b49-afd1-0de884c63497",
      "metadata": {
        "id": "09f82426-0804-4b49-afd1-0de884c63497",
        "outputId": "0a87e077-e5bd-4fd5-f874-56dfc89323a0"
      },
      "outputs": [
        {
          "name": "stdout",
          "output_type": "stream",
          "text": [
            "13/-4 = -3.25\n",
            "13//-4 = -4\n",
            "13%-4 = -3\n",
            "True\n"
          ]
        }
      ],
      "source": [
        "a = 13\n",
        "b = -4\n",
        "print('{0}/{1} = {2}'.format(a, b, a/b))\n",
        "print('{0}//{1} = {2}'.format(a, b, a//b))\n",
        "print('{0}%{1} = {2}'.format(a, b, a%b))\n",
        "print(a == b * (a//b) + a%b)"
      ]
    },
    {
      "cell_type": "code",
      "execution_count": null,
      "id": "32a96598-86eb-4666-b186-8d6094dbf72a",
      "metadata": {
        "id": "32a96598-86eb-4666-b186-8d6094dbf72a",
        "outputId": "ed76242c-4345-49e6-e678-393c7850a6aa"
      },
      "outputs": [
        {
          "name": "stdout",
          "output_type": "stream",
          "text": [
            "-13/-4 = 3.25\n",
            "-13//-4 = 3\n",
            "-13%-4 = -1\n",
            "True\n"
          ]
        }
      ],
      "source": [
        "a = -13\n",
        "b = -4\n",
        "print('{0}/{1} = {2}'.format(a, b, a/b))\n",
        "print('{0}//{1} = {2}'.format(a, b, a//b))\n",
        "print('{0}%{1} = {2}'.format(a, b, a%b))\n",
        "print(a == b * (a//b) + a%b)"
      ]
    },
    {
      "cell_type": "markdown",
      "id": "ac4b1104-339f-4734-afc4-4483b2405cc5",
      "metadata": {
        "id": "ac4b1104-339f-4734-afc4-4483b2405cc5"
      },
      "source": [
        "### 03 - Integers - Constructors and Bases"
      ]
    },
    {
      "cell_type": "markdown",
      "id": "0cf740d8-9610-4a3b-84a9-8f30d5defe09",
      "metadata": {
        "id": "0cf740d8-9610-4a3b-84a9-8f30d5defe09"
      },
      "source": [
        "**Constructors**\n",
        "The `int` class has two constructors"
      ]
    },
    {
      "cell_type": "code",
      "execution_count": null,
      "id": "f0d65bec-15f3-4b67-bcd5-90a8b1ac5d1f",
      "metadata": {
        "id": "f0d65bec-15f3-4b67-bcd5-90a8b1ac5d1f",
        "outputId": "163d585d-ebe7-4073-c369-23e6d3c09534"
      },
      "outputs": [
        {
          "name": "stdout",
          "output_type": "stream",
          "text": [
            "Help on class int in module builtins:\n",
            "\n",
            "class int(object)\n",
            " |  int([x]) -> integer\n",
            " |  int(x, base=10) -> integer\n",
            " |  \n",
            " |  Convert a number or string to an integer, or return 0 if no arguments\n",
            " |  are given.  If x is a number, return x.__int__().  For floating point\n",
            " |  numbers, this truncates towards zero.\n",
            " |  \n",
            " |  If x is not a number or if base is given, then x must be a string,\n",
            " |  bytes, or bytearray instance representing an integer literal in the\n",
            " |  given base.  The literal can be preceded by '+' or '-' and be surrounded\n",
            " |  by whitespace.  The base defaults to 10.  Valid bases are 0 and 2-36.\n",
            " |  Base 0 means to interpret the base from the string as an integer literal.\n",
            " |  >>> int('0b100', base=0)\n",
            " |  4\n",
            " |  \n",
            " |  Built-in subclasses:\n",
            " |      bool\n",
            " |  \n",
            " |  Methods defined here:\n",
            " |  \n",
            " |  __abs__(self, /)\n",
            " |      abs(self)\n",
            " |  \n",
            " |  __add__(self, value, /)\n",
            " |      Return self+value.\n",
            " |  \n",
            " |  __and__(self, value, /)\n",
            " |      Return self&value.\n",
            " |  \n",
            " |  __bool__(self, /)\n",
            " |      True if self else False\n",
            " |  \n",
            " |  __ceil__(...)\n",
            " |      Ceiling of an Integral returns itself.\n",
            " |  \n",
            " |  __divmod__(self, value, /)\n",
            " |      Return divmod(self, value).\n",
            " |  \n",
            " |  __eq__(self, value, /)\n",
            " |      Return self==value.\n",
            " |  \n",
            " |  __float__(self, /)\n",
            " |      float(self)\n",
            " |  \n",
            " |  __floor__(...)\n",
            " |      Flooring an Integral returns itself.\n",
            " |  \n",
            " |  __floordiv__(self, value, /)\n",
            " |      Return self//value.\n",
            " |  \n",
            " |  __format__(self, format_spec, /)\n",
            " |      Default object formatter.\n",
            " |  \n",
            " |  __ge__(self, value, /)\n",
            " |      Return self>=value.\n",
            " |  \n",
            " |  __getattribute__(self, name, /)\n",
            " |      Return getattr(self, name).\n",
            " |  \n",
            " |  __getnewargs__(self, /)\n",
            " |  \n",
            " |  __gt__(self, value, /)\n",
            " |      Return self>value.\n",
            " |  \n",
            " |  __hash__(self, /)\n",
            " |      Return hash(self).\n",
            " |  \n",
            " |  __index__(self, /)\n",
            " |      Return self converted to an integer, if self is suitable for use as an index into a list.\n",
            " |  \n",
            " |  __int__(self, /)\n",
            " |      int(self)\n",
            " |  \n",
            " |  __invert__(self, /)\n",
            " |      ~self\n",
            " |  \n",
            " |  __le__(self, value, /)\n",
            " |      Return self<=value.\n",
            " |  \n",
            " |  __lshift__(self, value, /)\n",
            " |      Return self<<value.\n",
            " |  \n",
            " |  __lt__(self, value, /)\n",
            " |      Return self<value.\n",
            " |  \n",
            " |  __mod__(self, value, /)\n",
            " |      Return self%value.\n",
            " |  \n",
            " |  __mul__(self, value, /)\n",
            " |      Return self*value.\n",
            " |  \n",
            " |  __ne__(self, value, /)\n",
            " |      Return self!=value.\n",
            " |  \n",
            " |  __neg__(self, /)\n",
            " |      -self\n",
            " |  \n",
            " |  __or__(self, value, /)\n",
            " |      Return self|value.\n",
            " |  \n",
            " |  __pos__(self, /)\n",
            " |      +self\n",
            " |  \n",
            " |  __pow__(self, value, mod=None, /)\n",
            " |      Return pow(self, value, mod).\n",
            " |  \n",
            " |  __radd__(self, value, /)\n",
            " |      Return value+self.\n",
            " |  \n",
            " |  __rand__(self, value, /)\n",
            " |      Return value&self.\n",
            " |  \n",
            " |  __rdivmod__(self, value, /)\n",
            " |      Return divmod(value, self).\n",
            " |  \n",
            " |  __repr__(self, /)\n",
            " |      Return repr(self).\n",
            " |  \n",
            " |  __rfloordiv__(self, value, /)\n",
            " |      Return value//self.\n",
            " |  \n",
            " |  __rlshift__(self, value, /)\n",
            " |      Return value<<self.\n",
            " |  \n",
            " |  __rmod__(self, value, /)\n",
            " |      Return value%self.\n",
            " |  \n",
            " |  __rmul__(self, value, /)\n",
            " |      Return value*self.\n",
            " |  \n",
            " |  __ror__(self, value, /)\n",
            " |      Return value|self.\n",
            " |  \n",
            " |  __round__(...)\n",
            " |      Rounding an Integral returns itself.\n",
            " |      Rounding with an ndigits argument also returns an integer.\n",
            " |  \n",
            " |  __rpow__(self, value, mod=None, /)\n",
            " |      Return pow(value, self, mod).\n",
            " |  \n",
            " |  __rrshift__(self, value, /)\n",
            " |      Return value>>self.\n",
            " |  \n",
            " |  __rshift__(self, value, /)\n",
            " |      Return self>>value.\n",
            " |  \n",
            " |  __rsub__(self, value, /)\n",
            " |      Return value-self.\n",
            " |  \n",
            " |  __rtruediv__(self, value, /)\n",
            " |      Return value/self.\n",
            " |  \n",
            " |  __rxor__(self, value, /)\n",
            " |      Return value^self.\n",
            " |  \n",
            " |  __sizeof__(self, /)\n",
            " |      Returns size in memory, in bytes.\n",
            " |  \n",
            " |  __sub__(self, value, /)\n",
            " |      Return self-value.\n",
            " |  \n",
            " |  __truediv__(self, value, /)\n",
            " |      Return self/value.\n",
            " |  \n",
            " |  __trunc__(...)\n",
            " |      Truncating an Integral returns itself.\n",
            " |  \n",
            " |  __xor__(self, value, /)\n",
            " |      Return self^value.\n",
            " |  \n",
            " |  as_integer_ratio(self, /)\n",
            " |      Return integer ratio.\n",
            " |      \n",
            " |      Return a pair of integers, whose ratio is exactly equal to the original int\n",
            " |      and with a positive denominator.\n",
            " |      \n",
            " |      >>> (10).as_integer_ratio()\n",
            " |      (10, 1)\n",
            " |      >>> (-10).as_integer_ratio()\n",
            " |      (-10, 1)\n",
            " |      >>> (0).as_integer_ratio()\n",
            " |      (0, 1)\n",
            " |  \n",
            " |  bit_length(self, /)\n",
            " |      Number of bits necessary to represent self in binary.\n",
            " |      \n",
            " |      >>> bin(37)\n",
            " |      '0b100101'\n",
            " |      >>> (37).bit_length()\n",
            " |      6\n",
            " |  \n",
            " |  conjugate(...)\n",
            " |      Returns self, the complex conjugate of any int.\n",
            " |  \n",
            " |  to_bytes(self, /, length, byteorder, *, signed=False)\n",
            " |      Return an array of bytes representing an integer.\n",
            " |      \n",
            " |      length\n",
            " |        Length of bytes object to use.  An OverflowError is raised if the\n",
            " |        integer is not representable with the given number of bytes.\n",
            " |      byteorder\n",
            " |        The byte order used to represent the integer.  If byteorder is 'big',\n",
            " |        the most significant byte is at the beginning of the byte array.  If\n",
            " |        byteorder is 'little', the most significant byte is at the end of the\n",
            " |        byte array.  To request the native byte order of the host system, use\n",
            " |        `sys.byteorder' as the byte order value.\n",
            " |      signed\n",
            " |        Determines whether two's complement is used to represent the integer.\n",
            " |        If signed is False and a negative integer is given, an OverflowError\n",
            " |        is raised.\n",
            " |  \n",
            " |  ----------------------------------------------------------------------\n",
            " |  Class methods defined here:\n",
            " |  \n",
            " |  from_bytes(bytes, byteorder, *, signed=False) from builtins.type\n",
            " |      Return the integer represented by the given array of bytes.\n",
            " |      \n",
            " |      bytes\n",
            " |        Holds the array of bytes to convert.  The argument must either\n",
            " |        support the buffer protocol or be an iterable object producing bytes.\n",
            " |        Bytes and bytearray are examples of built-in objects that support the\n",
            " |        buffer protocol.\n",
            " |      byteorder\n",
            " |        The byte order used to represent the integer.  If byteorder is 'big',\n",
            " |        the most significant byte is at the beginning of the byte array.  If\n",
            " |        byteorder is 'little', the most significant byte is at the end of the\n",
            " |        byte array.  To request the native byte order of the host system, use\n",
            " |        `sys.byteorder' as the byte order value.\n",
            " |      signed\n",
            " |        Indicates whether two's complement is used to represent the integer.\n",
            " |  \n",
            " |  ----------------------------------------------------------------------\n",
            " |  Static methods defined here:\n",
            " |  \n",
            " |  __new__(*args, **kwargs) from builtins.type\n",
            " |      Create and return a new object.  See help(type) for accurate signature.\n",
            " |  \n",
            " |  ----------------------------------------------------------------------\n",
            " |  Data descriptors defined here:\n",
            " |  \n",
            " |  denominator\n",
            " |      the denominator of a rational number in lowest terms\n",
            " |  \n",
            " |  imag\n",
            " |      the imaginary part of a complex number\n",
            " |  \n",
            " |  numerator\n",
            " |      the numerator of a rational number in lowest terms\n",
            " |  \n",
            " |  real\n",
            " |      the real part of a complex number\n",
            "\n"
          ]
        }
      ],
      "source": [
        "help(int)"
      ]
    },
    {
      "cell_type": "code",
      "execution_count": null,
      "id": "83dd97e4-e7a4-4055-a2f2-1cd2fe357909",
      "metadata": {
        "id": "83dd97e4-e7a4-4055-a2f2-1cd2fe357909",
        "outputId": "699bf389-bc56-444f-99f1-b5a4f32add53"
      },
      "outputs": [
        {
          "data": {
            "text/plain": [
              "10"
            ]
          },
          "execution_count": 37,
          "metadata": {},
          "output_type": "execute_result"
        }
      ],
      "source": [
        "int(10)"
      ]
    },
    {
      "cell_type": "code",
      "execution_count": null,
      "id": "59475cde-5ce9-4f33-8962-c58a1b238460",
      "metadata": {
        "id": "59475cde-5ce9-4f33-8962-c58a1b238460",
        "outputId": "8a2313df-d632-4612-bccb-8a2d6594a7b5"
      },
      "outputs": [
        {
          "data": {
            "text/plain": [
              "10"
            ]
          },
          "execution_count": 38,
          "metadata": {},
          "output_type": "execute_result"
        }
      ],
      "source": [
        "int(10.9)"
      ]
    },
    {
      "cell_type": "code",
      "execution_count": null,
      "id": "f8845c48-d139-44f4-a734-ad592f75f258",
      "metadata": {
        "id": "f8845c48-d139-44f4-a734-ad592f75f258",
        "outputId": "f956c965-b157-47e0-9d2b-90348c516166"
      },
      "outputs": [
        {
          "data": {
            "text/plain": [
              "-10"
            ]
          },
          "execution_count": 39,
          "metadata": {},
          "output_type": "execute_result"
        }
      ],
      "source": [
        "int(-10.9)"
      ]
    },
    {
      "cell_type": "code",
      "execution_count": null,
      "id": "e4192168-869f-4544-af84-691f1f9ab065",
      "metadata": {
        "id": "e4192168-869f-4544-af84-691f1f9ab065"
      },
      "outputs": [],
      "source": [
        "from fractions import Fraction"
      ]
    },
    {
      "cell_type": "code",
      "execution_count": null,
      "id": "99aead14-f983-43ce-aad7-db9daed53575",
      "metadata": {
        "id": "99aead14-f983-43ce-aad7-db9daed53575"
      },
      "outputs": [],
      "source": [
        "a = Fraction(22, 7)"
      ]
    },
    {
      "cell_type": "code",
      "execution_count": null,
      "id": "ab055fb5-fc90-451b-aaf3-b87d5cfc3943",
      "metadata": {
        "id": "ab055fb5-fc90-451b-aaf3-b87d5cfc3943",
        "outputId": "f764454f-c3b2-4a3b-e5e1-b5f1f2573236"
      },
      "outputs": [
        {
          "data": {
            "text/plain": [
              "Fraction(22, 7)"
            ]
          },
          "execution_count": 42,
          "metadata": {},
          "output_type": "execute_result"
        }
      ],
      "source": [
        "a"
      ]
    },
    {
      "cell_type": "code",
      "execution_count": null,
      "id": "8083d284-d15c-46fa-a8fa-2b60cded997a",
      "metadata": {
        "id": "8083d284-d15c-46fa-a8fa-2b60cded997a",
        "outputId": "c61ce76f-4737-4071-8819-214c066d81bb"
      },
      "outputs": [
        {
          "data": {
            "text/plain": [
              "3"
            ]
          },
          "execution_count": 43,
          "metadata": {},
          "output_type": "execute_result"
        }
      ],
      "source": [
        "int(a)"
      ]
    },
    {
      "cell_type": "markdown",
      "id": "10d69a84-4179-4ab7-bcc3-9e5266410d9e",
      "metadata": {
        "id": "10d69a84-4179-4ab7-bcc3-9e5266410d9e"
      },
      "source": [
        "We can use the second constructor to generate integers (base 10) from strings in any base."
      ]
    },
    {
      "cell_type": "code",
      "execution_count": null,
      "id": "b39989af-986a-4c13-b0f9-3f2ef25c9f4f",
      "metadata": {
        "id": "b39989af-986a-4c13-b0f9-3f2ef25c9f4f",
        "outputId": "81db39a0-4d53-4527-d283-39aeef14d4a3"
      },
      "outputs": [
        {
          "data": {
            "text/plain": [
              "10"
            ]
          },
          "execution_count": 45,
          "metadata": {},
          "output_type": "execute_result"
        }
      ],
      "source": [
        "int(\"10\")"
      ]
    },
    {
      "cell_type": "code",
      "execution_count": null,
      "id": "4a9195e2-71c0-4455-a917-2b3c66b92b79",
      "metadata": {
        "id": "4a9195e2-71c0-4455-a917-2b3c66b92b79",
        "outputId": "2221ad5f-62f9-4d2c-f1db-1bb616a433b6"
      },
      "outputs": [
        {
          "data": {
            "text/plain": [
              "5"
            ]
          },
          "execution_count": 46,
          "metadata": {},
          "output_type": "execute_result"
        }
      ],
      "source": [
        "int(\"101\", 2)"
      ]
    },
    {
      "cell_type": "code",
      "execution_count": null,
      "id": "755dd590-16fe-490f-a3a6-1bd7af2684ca",
      "metadata": {
        "id": "755dd590-16fe-490f-a3a6-1bd7af2684ca",
        "outputId": "16981de4-9f0d-4d7e-8102-f4a8690e4986"
      },
      "outputs": [
        {
          "data": {
            "text/plain": [
              "5"
            ]
          },
          "execution_count": 47,
          "metadata": {},
          "output_type": "execute_result"
        }
      ],
      "source": [
        "int(\"101\", 2)"
      ]
    },
    {
      "cell_type": "code",
      "execution_count": null,
      "id": "648789a6-fac5-4ffa-bdf1-a9aaac3416cb",
      "metadata": {
        "id": "648789a6-fac5-4ffa-bdf1-a9aaac3416cb",
        "outputId": "2f80d6d4-10b2-4843-d952-4426a89f2a41"
      },
      "outputs": [
        {
          "data": {
            "text/plain": [
              "5"
            ]
          },
          "execution_count": 48,
          "metadata": {},
          "output_type": "execute_result"
        }
      ],
      "source": [
        "int(\"101\", base=2)"
      ]
    },
    {
      "cell_type": "markdown",
      "id": "58e73d6d-dbb4-4a94-94a0-b0db8adbafb9",
      "metadata": {
        "id": "58e73d6d-dbb4-4a94-94a0-b0db8adbafb9"
      },
      "source": [
        "Python uses `a-z` for bases from 11 to 36."
      ]
    },
    {
      "cell_type": "markdown",
      "id": "00ea21a1-faa3-4dca-8477-907795248095",
      "metadata": {
        "id": "00ea21a1-faa3-4dca-8477-907795248095"
      },
      "source": [
        "---\n",
        "**BE CAREFUL!**"
      ]
    },
    {
      "cell_type": "markdown",
      "id": "a45870bb-7e77-4f94-a221-c52f453194d8",
      "metadata": {
        "id": "a45870bb-7e77-4f94-a221-c52f453194d8"
      },
      "source": [
        "*Note that the letters are not case sensitive.*"
      ]
    },
    {
      "cell_type": "code",
      "execution_count": null,
      "id": "a0b470e5-e2ae-467f-a7d0-5b5accbdf33d",
      "metadata": {
        "id": "a0b470e5-e2ae-467f-a7d0-5b5accbdf33d",
        "outputId": "07aaa7e3-9060-4fe8-dc69-6b934c4fd97f"
      },
      "outputs": [
        {
          "data": {
            "text/plain": [
              "3866"
            ]
          },
          "execution_count": 51,
          "metadata": {},
          "output_type": "execute_result"
        }
      ],
      "source": [
        "int(\"F1A\", base=16)"
      ]
    },
    {
      "cell_type": "markdown",
      "id": "117734d3-2e39-4fe4-bc18-c1c2b76a1267",
      "metadata": {
        "id": "117734d3-2e39-4fe4-bc18-c1c2b76a1267"
      },
      "source": [
        "int(\"f1a\", base=16)"
      ]
    },
    {
      "cell_type": "markdown",
      "id": "6c6fa43f-98b0-40a0-ac5c-6e640882f359",
      "metadata": {
        "id": "6c6fa43f-98b0-40a0-ac5c-6e640882f359"
      },
      "source": [
        "*Of course, the string must be a valid number in whatever base you specify.*"
      ]
    },
    {
      "cell_type": "code",
      "execution_count": null,
      "id": "19e8a832-d3b7-4c89-890c-5ca3e9dbe700",
      "metadata": {
        "id": "19e8a832-d3b7-4c89-890c-5ca3e9dbe700",
        "outputId": "033f4b5d-8e24-4cd7-8b97-19983c24e4a4"
      },
      "outputs": [
        {
          "ename": "ValueError",
          "evalue": "invalid literal for int() with base 11: 'B1A'",
          "output_type": "error",
          "traceback": [
            "\u001b[1;31m---------------------------------------------------------------------------\u001b[0m",
            "\u001b[1;31mValueError\u001b[0m                                Traceback (most recent call last)",
            "Input \u001b[1;32mIn [53]\u001b[0m, in \u001b[0;36m<cell line: 1>\u001b[1;34m()\u001b[0m\n\u001b[1;32m----> 1\u001b[0m \u001b[38;5;28;43mint\u001b[39;49m\u001b[43m(\u001b[49m\u001b[38;5;124;43m'\u001b[39;49m\u001b[38;5;124;43mB1A\u001b[39;49m\u001b[38;5;124;43m'\u001b[39;49m\u001b[43m,\u001b[49m\u001b[43m \u001b[49m\u001b[43mbase\u001b[49m\u001b[38;5;241;43m=\u001b[39;49m\u001b[38;5;241;43m11\u001b[39;49m\u001b[43m)\u001b[49m\n",
            "\u001b[1;31mValueError\u001b[0m: invalid literal for int() with base 11: 'B1A'"
          ]
        }
      ],
      "source": [
        "int('B1A', base=11)"
      ]
    },
    {
      "cell_type": "code",
      "execution_count": null,
      "id": "33060b3d-99d1-43e6-954f-b2032d7db02e",
      "metadata": {
        "id": "33060b3d-99d1-43e6-954f-b2032d7db02e",
        "outputId": "98fc2af1-3fcc-4c41-cfda-f6110f9f10d6"
      },
      "outputs": [
        {
          "data": {
            "text/plain": [
              "1606"
            ]
          },
          "execution_count": 54,
          "metadata": {},
          "output_type": "execute_result"
        }
      ],
      "source": [
        "int('B1A', 12)"
      ]
    },
    {
      "cell_type": "markdown",
      "id": "55393710-4aef-4ecc-9a1f-5d4a46c513ce",
      "metadata": {
        "id": "55393710-4aef-4ecc-9a1f-5d4a46c513ce"
      },
      "source": [
        "**Base Representations**\n",
        "\n",
        "**Built-ins**"
      ]
    },
    {
      "cell_type": "code",
      "execution_count": null,
      "id": "72c29761-1510-4a2b-98a4-8efc2fd7ac98",
      "metadata": {
        "id": "72c29761-1510-4a2b-98a4-8efc2fd7ac98",
        "outputId": "ee30dbd4-26b6-4617-e8ab-534013a479eb"
      },
      "outputs": [
        {
          "data": {
            "text/plain": [
              "'0b1010'"
            ]
          },
          "execution_count": 55,
          "metadata": {},
          "output_type": "execute_result"
        }
      ],
      "source": [
        "bin(10)"
      ]
    },
    {
      "cell_type": "code",
      "execution_count": null,
      "id": "928dd2d4-7030-4e35-871c-1be67809c380",
      "metadata": {
        "id": "928dd2d4-7030-4e35-871c-1be67809c380",
        "outputId": "69acc6c7-f6b4-49bf-a815-c9ef0106c5e2"
      },
      "outputs": [
        {
          "data": {
            "text/plain": [
              "'0o12'"
            ]
          },
          "execution_count": 56,
          "metadata": {},
          "output_type": "execute_result"
        }
      ],
      "source": [
        "oct(10)"
      ]
    },
    {
      "cell_type": "code",
      "execution_count": null,
      "id": "51497aa9-a24c-4006-818a-6dc0d8e6267c",
      "metadata": {
        "id": "51497aa9-a24c-4006-818a-6dc0d8e6267c",
        "outputId": "4e626ad3-c7d6-448e-d577-58155d0498a1"
      },
      "outputs": [
        {
          "data": {
            "text/plain": [
              "'0xa'"
            ]
          },
          "execution_count": 57,
          "metadata": {},
          "output_type": "execute_result"
        }
      ],
      "source": [
        "hex(10)"
      ]
    },
    {
      "cell_type": "markdown",
      "id": "9a439def-7b88-4d7b-acd6-bdca24a041c8",
      "metadata": {
        "id": "9a439def-7b88-4d7b-acd6-bdca24a041c8"
      },
      "source": [
        "---\n",
        "\n",
        "**BE CAREFUL!**"
      ]
    },
    {
      "cell_type": "markdown",
      "id": "1a28d8f4-ed73-4232-8229-f7e7509c51ca",
      "metadata": {
        "id": "1a28d8f4-ed73-4232-8229-f7e7509c51ca"
      },
      "source": [
        "*Note the `0b`, `0o`, `0x` prefixes.*\n",
        "\n",
        "*You can use these in your own strings as well, and they correspond to prefixes used in integer literals as well.*"
      ]
    },
    {
      "cell_type": "code",
      "execution_count": null,
      "id": "063fad24-c62b-4adb-b826-1090a2011fe9",
      "metadata": {
        "id": "063fad24-c62b-4adb-b826-1090a2011fe9"
      },
      "outputs": [],
      "source": [
        "a = int('1010', 2)\n",
        "b = int('0b1010', 2)\n",
        "c = 0b1010"
      ]
    },
    {
      "cell_type": "code",
      "execution_count": null,
      "id": "fd357102-522d-4017-907f-d4eea06ea87d",
      "metadata": {
        "id": "fd357102-522d-4017-907f-d4eea06ea87d",
        "outputId": "a2987d85-06c0-4e02-faac-87f26fc0ceb3"
      },
      "outputs": [
        {
          "name": "stdout",
          "output_type": "stream",
          "text": [
            "10 10 10\n"
          ]
        }
      ],
      "source": [
        "print(a, b, c)"
      ]
    },
    {
      "cell_type": "code",
      "execution_count": null,
      "id": "7333643b-5cd8-4545-84d3-dd028971c3a7",
      "metadata": {
        "id": "7333643b-5cd8-4545-84d3-dd028971c3a7"
      },
      "outputs": [],
      "source": [
        "a = int('f1a', 16)\n",
        "b = int('0xf1a', 16)\n",
        "c = 0xf1a"
      ]
    },
    {
      "cell_type": "code",
      "execution_count": null,
      "id": "21960679-7d4b-409a-8d4d-0c6764524bdd",
      "metadata": {
        "id": "21960679-7d4b-409a-8d4d-0c6764524bdd",
        "outputId": "2da52144-4037-4ce2-cdcd-edb8d72d9576"
      },
      "outputs": [
        {
          "name": "stdout",
          "output_type": "stream",
          "text": [
            "3866 3866 3866\n"
          ]
        }
      ],
      "source": [
        "print(a, b, c)"
      ]
    },
    {
      "cell_type": "markdown",
      "id": "48d585b2-3396-4e97-9fe6-4a372d55bdbe",
      "metadata": {
        "id": "48d585b2-3396-4e97-9fe6-4a372d55bdbe"
      },
      "source": [
        "For literals, the `a-z` characters are not case-sensitive either."
      ]
    },
    {
      "cell_type": "code",
      "execution_count": null,
      "id": "a073b2cd-dfe5-4476-8ff8-682023d466ba",
      "metadata": {
        "id": "a073b2cd-dfe5-4476-8ff8-682023d466ba"
      },
      "outputs": [],
      "source": [
        "a = 0xf1a\n",
        "b = 0xF1a\n",
        "c = 0XF1A"
      ]
    },
    {
      "cell_type": "code",
      "execution_count": null,
      "id": "74d22e28-4000-43a2-901b-09995467051b",
      "metadata": {
        "id": "74d22e28-4000-43a2-901b-09995467051b",
        "outputId": "ca76fdab-d7d4-4b44-b6a0-9656734edc56"
      },
      "outputs": [
        {
          "name": "stdout",
          "output_type": "stream",
          "text": [
            "3866 3866 3866\n"
          ]
        }
      ],
      "source": [
        "print(a, b, c)"
      ]
    },
    {
      "cell_type": "markdown",
      "id": "73c3e924-01a2-4f7c-84c7-7672acf832e1",
      "metadata": {
        "id": "73c3e924-01a2-4f7c-84c7-7672acf832e1"
      },
      "source": [
        "**Custom Rebasing**"
      ]
    },
    {
      "cell_type": "markdown",
      "id": "65c14f8c-e174-4d60-8492-48dd57222302",
      "metadata": {
        "id": "65c14f8c-e174-4d60-8492-48dd57222302"
      },
      "source": [
        "Python only provides built-in function to rebase to base 2, 8, 16.\n",
        "\n",
        "For other bases, you have to provide your own algorithm (or leverage some 3rd party library of your choice)"
      ]
    },
    {
      "cell_type": "code",
      "execution_count": null,
      "id": "5319edff-d859-4bad-abc5-dfd00d324372",
      "metadata": {
        "id": "5319edff-d859-4bad-abc5-dfd00d324372"
      },
      "outputs": [],
      "source": [
        "def from_base10(n, b):\n",
        "    if b < 2:\n",
        "        raise ValueError('Base b must be >= 2')\n",
        "    if n < 0:\n",
        "        raise ValueError('Number n must be >= 0')\n",
        "    if n == 0:\n",
        "        return [0]\n",
        "    digits = []\n",
        "    while n > 0:\n",
        "        # m = n % b\n",
        "        # n = n // b\n",
        "        # which is the same as:\n",
        "        n, m = divmod(n, b)\n",
        "        digits.insert(0, m)\n",
        "    return digits"
      ]
    },
    {
      "cell_type": "code",
      "execution_count": null,
      "id": "aa5d1e1b-2ad1-42b5-b788-5ecd9da88c5b",
      "metadata": {
        "id": "aa5d1e1b-2ad1-42b5-b788-5ecd9da88c5b",
        "outputId": "6938baa5-5ce5-46ad-e16d-d78704a09c14"
      },
      "outputs": [
        {
          "data": {
            "text/plain": [
              "[1, 0, 1, 0]"
            ]
          },
          "execution_count": 66,
          "metadata": {},
          "output_type": "execute_result"
        }
      ],
      "source": [
        "from_base10(10, 2)"
      ]
    },
    {
      "cell_type": "code",
      "execution_count": null,
      "id": "7e59b0b6-19be-4882-b606-39d5923c62ab",
      "metadata": {
        "id": "7e59b0b6-19be-4882-b606-39d5923c62ab",
        "outputId": "3b7696ec-0928-4c69-8468-4da2bb50cfda"
      },
      "outputs": [
        {
          "data": {
            "text/plain": [
              "[15, 15]"
            ]
          },
          "execution_count": 67,
          "metadata": {},
          "output_type": "execute_result"
        }
      ],
      "source": [
        "from_base10(255, 16)"
      ]
    },
    {
      "cell_type": "markdown",
      "id": "a0beeeff-9154-4bdb-be30-6825e67bd9ac",
      "metadata": {
        "id": "a0beeeff-9154-4bdb-be30-6825e67bd9ac"
      },
      "source": [
        "Next we may want to encode the digits into strings using different characters for each digit in the base."
      ]
    },
    {
      "cell_type": "code",
      "execution_count": null,
      "id": "8ec89b9a-9364-4037-a821-060dc147e84a",
      "metadata": {
        "id": "8ec89b9a-9364-4037-a821-060dc147e84a"
      },
      "outputs": [],
      "source": [
        "def encode(digits, digit_map):\n",
        "    # we require that digit_map has at least as many\n",
        "    # characters as the max number in digits\n",
        "    if max(digits) >= len(digit_map):\n",
        "        raise ValueError(\"digit_map is not long enough to encode digits\")\n",
        "    \n",
        "    # we'll see this later, but the following would be better:\n",
        "    encoding = ''.join([digit_map[d] for d in digits])\n",
        "    return encoding"
      ]
    },
    {
      "cell_type": "markdown",
      "id": "1b191d8a-3f97-4fd5-8906-170734444d72",
      "metadata": {
        "id": "1b191d8a-3f97-4fd5-8906-170734444d72"
      },
      "source": [
        "Now we can encode any list of digits:"
      ]
    },
    {
      "cell_type": "code",
      "execution_count": null,
      "id": "45fe64a7-82c0-4cd1-adfb-f03bf66baaca",
      "metadata": {
        "id": "45fe64a7-82c0-4cd1-adfb-f03bf66baaca",
        "outputId": "1257568b-c0ea-43a6-cf17-3a4996b985b2"
      },
      "outputs": [
        {
          "data": {
            "text/plain": [
              "'TFT'"
            ]
          },
          "execution_count": 69,
          "metadata": {},
          "output_type": "execute_result"
        }
      ],
      "source": [
        "encode([1, 0, 1], \"FT\")"
      ]
    },
    {
      "cell_type": "code",
      "execution_count": null,
      "id": "9056da61-02be-4455-82ae-194a5c073a9e",
      "metadata": {
        "id": "9056da61-02be-4455-82ae-194a5c073a9e",
        "outputId": "ed0dfc09-17dd-470e-c6cc-11b302abc4db"
      },
      "outputs": [
        {
          "data": {
            "text/plain": [
              "'1AB'"
            ]
          },
          "execution_count": 70,
          "metadata": {},
          "output_type": "execute_result"
        }
      ],
      "source": [
        "encode([1, 10, 11], '0123456789AB')"
      ]
    },
    {
      "cell_type": "markdown",
      "id": "a850dbc5-2cc7-4564-957e-5478f9b8a81e",
      "metadata": {
        "id": "a850dbc5-2cc7-4564-957e-5478f9b8a81e"
      },
      "source": [
        "And we can combine both functions into a sinhle one for easier use:"
      ]
    },
    {
      "cell_type": "code",
      "execution_count": null,
      "id": "a777fa4b-57af-4bbc-9f3d-680ff41a2ee3",
      "metadata": {
        "id": "a777fa4b-57af-4bbc-9f3d-680ff41a2ee3"
      },
      "outputs": [],
      "source": [
        "def rebase_from10(number, base):\n",
        "    digit_map = '0123456789ABCDEFGHIJKLMNOPQRSTUVWXYZ'\n",
        "    if base < 2 or base > 36:\n",
        "        raise ValueError('Invalid base: 2 <= base <= 36')\n",
        "    # we store the sign of number and maket it positive\n",
        "    # we'll re-insert the sign at the end\n",
        "    sign = -1 if number < 0 else 1\n",
        "    number *= sign\n",
        "\n",
        "    digits = from_base10(number, base)\n",
        "    encoding = encode(digits, digit_map)\n",
        "    if sign == -1:\n",
        "        encoding = '-' + encoding\n",
        "    return encoding"
      ]
    },
    {
      "cell_type": "code",
      "execution_count": null,
      "id": "691f7c38-bff1-4b42-bf9c-c8c4f207fda2",
      "metadata": {
        "id": "691f7c38-bff1-4b42-bf9c-c8c4f207fda2",
        "outputId": "ad01daf3-1670-4f52-af08-0f0f40c7d68c"
      },
      "outputs": [
        {
          "name": "stdout",
          "output_type": "stream",
          "text": [
            "1010\n",
            "10\n"
          ]
        }
      ],
      "source": [
        "e = rebase_from10(10, 2)\n",
        "print(e)\n",
        "print(int(e, 2))"
      ]
    },
    {
      "cell_type": "code",
      "execution_count": null,
      "id": "09318dce-fae3-410e-801f-ff1ef6552981",
      "metadata": {
        "id": "09318dce-fae3-410e-801f-ff1ef6552981",
        "outputId": "30e381f6-e1e2-4936-d3a0-e7f42e37eb37"
      },
      "outputs": [
        {
          "name": "stdout",
          "output_type": "stream",
          "text": [
            "-1010\n",
            "-10\n"
          ]
        }
      ],
      "source": [
        "e = rebase_from10(-10, 2)\n",
        "print(e)\n",
        "print(int(e, 2))"
      ]
    },
    {
      "cell_type": "code",
      "execution_count": null,
      "id": "cb5c9e29-b3c5-4a60-960e-ddcc49372ca9",
      "metadata": {
        "id": "cb5c9e29-b3c5-4a60-960e-ddcc49372ca9",
        "outputId": "9dc9b6e2-776f-499d-9789-80d5c8191a0e"
      },
      "outputs": [
        {
          "data": {
            "text/plain": [
              "'10A'"
            ]
          },
          "execution_count": 74,
          "metadata": {},
          "output_type": "execute_result"
        }
      ],
      "source": [
        "rebase_from10(131, 11)"
      ]
    },
    {
      "cell_type": "code",
      "execution_count": null,
      "id": "b9ae51ba-f6a3-4680-8f98-6293d2579741",
      "metadata": {
        "id": "b9ae51ba-f6a3-4680-8f98-6293d2579741",
        "outputId": "e1a4c57e-1419-45a7-f668-6ed60e65e537"
      },
      "outputs": [
        {
          "data": {
            "text/plain": [
              "'FFF'"
            ]
          },
          "execution_count": 75,
          "metadata": {},
          "output_type": "execute_result"
        }
      ],
      "source": [
        "rebase_from10(4095, 16)"
      ]
    },
    {
      "cell_type": "code",
      "execution_count": null,
      "id": "e3faab3e-17dc-4b12-8cfe-6b9f75bc2d95",
      "metadata": {
        "id": "e3faab3e-17dc-4b12-8cfe-6b9f75bc2d95",
        "outputId": "cdbb5291-6efe-41c0-f147-01b74d65e156"
      },
      "outputs": [
        {
          "data": {
            "text/plain": [
              "'-FFF'"
            ]
          },
          "execution_count": 76,
          "metadata": {},
          "output_type": "execute_result"
        }
      ],
      "source": [
        "rebase_from10(-4095, 16)"
      ]
    },
    {
      "cell_type": "markdown",
      "id": "041a24ec-7d84-4cf7-9527-da3fa174c36f",
      "metadata": {
        "id": "041a24ec-7d84-4cf7-9527-da3fa174c36f"
      },
      "source": [
        "### 04 - Rational Numbers"
      ]
    },
    {
      "cell_type": "code",
      "execution_count": null,
      "id": "4aadacf0-76fc-44d7-9b04-b841b27abe71",
      "metadata": {
        "id": "4aadacf0-76fc-44d7-9b04-b841b27abe71"
      },
      "outputs": [],
      "source": [
        "from fractions import Fraction"
      ]
    },
    {
      "cell_type": "markdown",
      "id": "21f5fb47-8f4f-43bf-a72c-c847c8101d4f",
      "metadata": {
        "id": "21f5fb47-8f4f-43bf-a72c-c847c8101d4f"
      },
      "source": [
        "We can get some info on the Fraction class:"
      ]
    },
    {
      "cell_type": "code",
      "execution_count": null,
      "id": "49834a39-649a-40b6-8fa4-e6166e6a2c45",
      "metadata": {
        "id": "49834a39-649a-40b6-8fa4-e6166e6a2c45",
        "outputId": "0404766d-9be1-4df5-fe53-8f88e4730e85"
      },
      "outputs": [
        {
          "name": "stdout",
          "output_type": "stream",
          "text": [
            "Help on class Fraction in module fractions:\n",
            "\n",
            "class Fraction(numbers.Rational)\n",
            " |  Fraction(numerator=0, denominator=None, *, _normalize=True)\n",
            " |  \n",
            " |  This class implements rational numbers.\n",
            " |  \n",
            " |  In the two-argument form of the constructor, Fraction(8, 6) will\n",
            " |  produce a rational number equivalent to 4/3. Both arguments must\n",
            " |  be Rational. The numerator defaults to 0 and the denominator\n",
            " |  defaults to 1 so that Fraction(3) == 3 and Fraction() == 0.\n",
            " |  \n",
            " |  Fractions can also be constructed from:\n",
            " |  \n",
            " |    - numeric strings similar to those accepted by the\n",
            " |      float constructor (for example, '-2.3' or '1e10')\n",
            " |  \n",
            " |    - strings of the form '123/456'\n",
            " |  \n",
            " |    - float and Decimal instances\n",
            " |  \n",
            " |    - other Rational instances (including integers)\n",
            " |  \n",
            " |  Method resolution order:\n",
            " |      Fraction\n",
            " |      numbers.Rational\n",
            " |      numbers.Real\n",
            " |      numbers.Complex\n",
            " |      numbers.Number\n",
            " |      builtins.object\n",
            " |  \n",
            " |  Methods defined here:\n",
            " |  \n",
            " |  __abs__(a)\n",
            " |      abs(a)\n",
            " |  \n",
            " |  __add__(a, b)\n",
            " |      a + b\n",
            " |  \n",
            " |  __bool__(a)\n",
            " |      a != 0\n",
            " |  \n",
            " |  __ceil__(a)\n",
            " |      math.ceil(a)\n",
            " |  \n",
            " |  __copy__(self)\n",
            " |  \n",
            " |  __deepcopy__(self, memo)\n",
            " |  \n",
            " |  __divmod__(a, b)\n",
            " |      (a // b, a % b)\n",
            " |  \n",
            " |  __eq__(a, b)\n",
            " |      a == b\n",
            " |  \n",
            " |  __floor__(a)\n",
            " |      math.floor(a)\n",
            " |  \n",
            " |  __floordiv__(a, b)\n",
            " |      a // b\n",
            " |  \n",
            " |  __ge__(a, b)\n",
            " |      a >= b\n",
            " |  \n",
            " |  __gt__(a, b)\n",
            " |      a > b\n",
            " |  \n",
            " |  __hash__(self)\n",
            " |      hash(self)\n",
            " |  \n",
            " |  __le__(a, b)\n",
            " |      a <= b\n",
            " |  \n",
            " |  __lt__(a, b)\n",
            " |      a < b\n",
            " |  \n",
            " |  __mod__(a, b)\n",
            " |      a % b\n",
            " |  \n",
            " |  __mul__(a, b)\n",
            " |      a * b\n",
            " |  \n",
            " |  __neg__(a)\n",
            " |      -a\n",
            " |  \n",
            " |  __pos__(a)\n",
            " |      +a: Coerces a subclass instance to Fraction\n",
            " |  \n",
            " |  __pow__(a, b)\n",
            " |      a ** b\n",
            " |      \n",
            " |      If b is not an integer, the result will be a float or complex\n",
            " |      since roots are generally irrational. If b is an integer, the\n",
            " |      result will be rational.\n",
            " |  \n",
            " |  __radd__(b, a)\n",
            " |      a + b\n",
            " |  \n",
            " |  __rdivmod__(b, a)\n",
            " |      (a // b, a % b)\n",
            " |  \n",
            " |  __reduce__(self)\n",
            " |      Helper for pickle.\n",
            " |  \n",
            " |  __repr__(self)\n",
            " |      repr(self)\n",
            " |  \n",
            " |  __rfloordiv__(b, a)\n",
            " |      a // b\n",
            " |  \n",
            " |  __rmod__(b, a)\n",
            " |      a % b\n",
            " |  \n",
            " |  __rmul__(b, a)\n",
            " |      a * b\n",
            " |  \n",
            " |  __round__(self, ndigits=None)\n",
            " |      round(self, ndigits)\n",
            " |      \n",
            " |      Rounds half toward even.\n",
            " |  \n",
            " |  __rpow__(b, a)\n",
            " |      a ** b\n",
            " |  \n",
            " |  __rsub__(b, a)\n",
            " |      a - b\n",
            " |  \n",
            " |  __rtruediv__(b, a)\n",
            " |      a / b\n",
            " |  \n",
            " |  __str__(self)\n",
            " |      str(self)\n",
            " |  \n",
            " |  __sub__(a, b)\n",
            " |      a - b\n",
            " |  \n",
            " |  __truediv__(a, b)\n",
            " |      a / b\n",
            " |  \n",
            " |  __trunc__(a)\n",
            " |      trunc(a)\n",
            " |  \n",
            " |  as_integer_ratio(self)\n",
            " |      Return the integer ratio as a tuple.\n",
            " |      \n",
            " |      Return a tuple of two integers, whose ratio is equal to the\n",
            " |      Fraction and with a positive denominator.\n",
            " |  \n",
            " |  limit_denominator(self, max_denominator=1000000)\n",
            " |      Closest Fraction to self with denominator at most max_denominator.\n",
            " |      \n",
            " |      >>> Fraction('3.141592653589793').limit_denominator(10)\n",
            " |      Fraction(22, 7)\n",
            " |      >>> Fraction('3.141592653589793').limit_denominator(100)\n",
            " |      Fraction(311, 99)\n",
            " |      >>> Fraction(4321, 8765).limit_denominator(10000)\n",
            " |      Fraction(4321, 8765)\n",
            " |  \n",
            " |  ----------------------------------------------------------------------\n",
            " |  Class methods defined here:\n",
            " |  \n",
            " |  from_decimal(dec) from abc.ABCMeta\n",
            " |      Converts a finite Decimal instance to a rational number, exactly.\n",
            " |  \n",
            " |  from_float(f) from abc.ABCMeta\n",
            " |      Converts a finite float to a rational number, exactly.\n",
            " |      \n",
            " |      Beware that Fraction.from_float(0.3) != Fraction(3, 10).\n",
            " |  \n",
            " |  ----------------------------------------------------------------------\n",
            " |  Static methods defined here:\n",
            " |  \n",
            " |  __new__(cls, numerator=0, denominator=None, *, _normalize=True)\n",
            " |      Constructs a Rational.\n",
            " |      \n",
            " |      Takes a string like '3/2' or '1.5', another Rational instance, a\n",
            " |      numerator/denominator pair, or a float.\n",
            " |      \n",
            " |      Examples\n",
            " |      --------\n",
            " |      \n",
            " |      >>> Fraction(10, -8)\n",
            " |      Fraction(-5, 4)\n",
            " |      >>> Fraction(Fraction(1, 7), 5)\n",
            " |      Fraction(1, 35)\n",
            " |      >>> Fraction(Fraction(1, 7), Fraction(2, 3))\n",
            " |      Fraction(3, 14)\n",
            " |      >>> Fraction('314')\n",
            " |      Fraction(314, 1)\n",
            " |      >>> Fraction('-35/4')\n",
            " |      Fraction(-35, 4)\n",
            " |      >>> Fraction('3.1415') # conversion from numeric string\n",
            " |      Fraction(6283, 2000)\n",
            " |      >>> Fraction('-47e-2') # string may include a decimal exponent\n",
            " |      Fraction(-47, 100)\n",
            " |      >>> Fraction(1.47)  # direct construction from float (exact conversion)\n",
            " |      Fraction(6620291452234629, 4503599627370496)\n",
            " |      >>> Fraction(2.25)\n",
            " |      Fraction(9, 4)\n",
            " |      >>> Fraction(Decimal('1.47'))\n",
            " |      Fraction(147, 100)\n",
            " |  \n",
            " |  ----------------------------------------------------------------------\n",
            " |  Readonly properties defined here:\n",
            " |  \n",
            " |  denominator\n",
            " |  \n",
            " |  numerator\n",
            " |  \n",
            " |  ----------------------------------------------------------------------\n",
            " |  Data and other attributes defined here:\n",
            " |  \n",
            " |  __abstractmethods__ = frozenset()\n",
            " |  \n",
            " |  ----------------------------------------------------------------------\n",
            " |  Methods inherited from numbers.Rational:\n",
            " |  \n",
            " |  __float__(self)\n",
            " |      float(self) = self.numerator / self.denominator\n",
            " |      \n",
            " |      It's important that this conversion use the integer's \"true\"\n",
            " |      division rather than casting one side to float before dividing\n",
            " |      so that ratios of huge integers convert without overflowing.\n",
            " |  \n",
            " |  ----------------------------------------------------------------------\n",
            " |  Methods inherited from numbers.Real:\n",
            " |  \n",
            " |  __complex__(self)\n",
            " |      complex(self) == complex(float(self), 0)\n",
            " |  \n",
            " |  conjugate(self)\n",
            " |      Conjugate is a no-op for Reals.\n",
            " |  \n",
            " |  ----------------------------------------------------------------------\n",
            " |  Readonly properties inherited from numbers.Real:\n",
            " |  \n",
            " |  imag\n",
            " |      Real numbers have no imaginary component.\n",
            " |  \n",
            " |  real\n",
            " |      Real numbers are their real component.\n",
            "\n"
          ]
        }
      ],
      "source": [
        "help(Fraction)"
      ]
    },
    {
      "cell_type": "markdown",
      "id": "59bf111d-9c9a-48ba-b29d-9a18dc050a9b",
      "metadata": {
        "id": "59bf111d-9c9a-48ba-b29d-9a18dc050a9b"
      },
      "source": [
        "We can create Fraction objects in a variety of ways:\n",
        "\n",
        "Using integers:"
      ]
    },
    {
      "cell_type": "code",
      "execution_count": null,
      "id": "4c1f04ef-963f-4455-b46b-ef84dad70c80",
      "metadata": {
        "id": "4c1f04ef-963f-4455-b46b-ef84dad70c80",
        "outputId": "13ed681f-9e27-4fc0-94f7-e27c633cb626"
      },
      "outputs": [
        {
          "data": {
            "text/plain": [
              "Fraction(1, 1)"
            ]
          },
          "execution_count": 80,
          "metadata": {},
          "output_type": "execute_result"
        }
      ],
      "source": [
        "Fraction(1)"
      ]
    },
    {
      "cell_type": "code",
      "execution_count": null,
      "id": "5c3f7e2e-0881-41df-93bd-79a78fa11733",
      "metadata": {
        "id": "5c3f7e2e-0881-41df-93bd-79a78fa11733",
        "outputId": "fd2fb4ac-28be-4895-884c-0cc02e8a9c66"
      },
      "outputs": [
        {
          "data": {
            "text/plain": [
              "Fraction(1, 3)"
            ]
          },
          "execution_count": 81,
          "metadata": {},
          "output_type": "execute_result"
        }
      ],
      "source": [
        "Fraction(1, 3)"
      ]
    },
    {
      "cell_type": "markdown",
      "id": "c6f433a7-ca67-40b6-8eaf-67fe395b7f23",
      "metadata": {
        "id": "c6f433a7-ca67-40b6-8eaf-67fe395b7f23"
      },
      "source": [
        "Using rational numbers:"
      ]
    },
    {
      "cell_type": "code",
      "execution_count": null,
      "id": "a207403f-77ee-4a26-99ce-dd51138c88ee",
      "metadata": {
        "id": "a207403f-77ee-4a26-99ce-dd51138c88ee",
        "outputId": "ec404e9d-1e10-48e5-c0bc-cbe75449ee62"
      },
      "outputs": [
        {
          "data": {
            "text/plain": [
              "Fraction(8, 9)"
            ]
          },
          "execution_count": 83,
          "metadata": {},
          "output_type": "execute_result"
        }
      ],
      "source": [
        "x = Fraction(2, 3)\n",
        "y = Fraction(3, 4)\n",
        "# 2/3 / 3/4 --> 2/3 * 4/3 --> 8/9\n",
        "Fraction(x, y)"
      ]
    },
    {
      "cell_type": "markdown",
      "id": "083d571d-23c3-48b2-8307-34251c2c1267",
      "metadata": {
        "id": "083d571d-23c3-48b2-8307-34251c2c1267"
      },
      "source": [
        "Using floats:"
      ]
    },
    {
      "cell_type": "code",
      "execution_count": null,
      "id": "facdcd40-1f45-4aa4-aa60-575293d4ab96",
      "metadata": {
        "id": "facdcd40-1f45-4aa4-aa60-575293d4ab96",
        "outputId": "73aa68e5-c8fa-4956-b010-47992d384a38"
      },
      "outputs": [
        {
          "data": {
            "text/plain": [
              "Fraction(1, 8)"
            ]
          },
          "execution_count": 84,
          "metadata": {},
          "output_type": "execute_result"
        }
      ],
      "source": [
        "Fraction(0.125)"
      ]
    },
    {
      "cell_type": "code",
      "execution_count": null,
      "id": "f15b80bf-98de-4a30-8058-709a3bb63f66",
      "metadata": {
        "id": "f15b80bf-98de-4a30-8058-709a3bb63f66",
        "outputId": "7ac54438-58a4-4f66-9977-dcd75198f895"
      },
      "outputs": [
        {
          "data": {
            "text/plain": [
              "Fraction(1, 2)"
            ]
          },
          "execution_count": 85,
          "metadata": {},
          "output_type": "execute_result"
        }
      ],
      "source": [
        "Fraction(0.5)"
      ]
    },
    {
      "cell_type": "markdown",
      "id": "0d329586-509e-4691-99a2-7ff44695daf0",
      "metadata": {
        "id": "0d329586-509e-4691-99a2-7ff44695daf0"
      },
      "source": [
        "Using strings:"
      ]
    },
    {
      "cell_type": "code",
      "execution_count": null,
      "id": "abebebc8-e478-43ab-9736-cf32392e9129",
      "metadata": {
        "id": "abebebc8-e478-43ab-9736-cf32392e9129",
        "outputId": "0490c42a-f920-49ae-8bcb-87e48dfb8eef"
      },
      "outputs": [
        {
          "data": {
            "text/plain": [
              "Fraction(21, 2)"
            ]
          },
          "execution_count": 86,
          "metadata": {},
          "output_type": "execute_result"
        }
      ],
      "source": [
        "Fraction('10.5')"
      ]
    },
    {
      "cell_type": "code",
      "execution_count": null,
      "id": "52d23b07-2d50-4753-9acd-9918e881bf74",
      "metadata": {
        "id": "52d23b07-2d50-4753-9acd-9918e881bf74",
        "outputId": "8f718946-d875-48b1-f9d9-91ad353809c9"
      },
      "outputs": [
        {
          "data": {
            "text/plain": [
              "Fraction(22, 7)"
            ]
          },
          "execution_count": 87,
          "metadata": {},
          "output_type": "execute_result"
        }
      ],
      "source": [
        "Fraction('22/7')"
      ]
    },
    {
      "cell_type": "markdown",
      "id": "75757fe8-a254-4268-9fb0-f3027a7c2686",
      "metadata": {
        "id": "75757fe8-a254-4268-9fb0-f3027a7c2686"
      },
      "source": [
        "Fractions are automatically reduced:"
      ]
    },
    {
      "cell_type": "code",
      "execution_count": null,
      "id": "2c5ee5cc-35a2-4f17-9e12-34133eefb0b2",
      "metadata": {
        "id": "2c5ee5cc-35a2-4f17-9e12-34133eefb0b2",
        "outputId": "06db8877-fb69-4eb7-e475-8ea7a2990d00"
      },
      "outputs": [
        {
          "data": {
            "text/plain": [
              "Fraction(1, 2)"
            ]
          },
          "execution_count": 88,
          "metadata": {},
          "output_type": "execute_result"
        }
      ],
      "source": [
        "Fraction(8, 16)"
      ]
    },
    {
      "cell_type": "markdown",
      "id": "029c954c-c036-4318-84a4-8fbb250739bf",
      "metadata": {
        "id": "029c954c-c036-4318-84a4-8fbb250739bf"
      },
      "source": [
        "Negative sign is attached to the numerator:"
      ]
    },
    {
      "cell_type": "code",
      "execution_count": null,
      "id": "b3b31e7c-841b-4471-b7d6-c60483f3c34c",
      "metadata": {
        "id": "b3b31e7c-841b-4471-b7d6-c60483f3c34c",
        "outputId": "aae0cff0-d770-4b41-ca83-6b90f32083ac"
      },
      "outputs": [
        {
          "data": {
            "text/plain": [
              "Fraction(-1, 4)"
            ]
          },
          "execution_count": 89,
          "metadata": {},
          "output_type": "execute_result"
        }
      ],
      "source": [
        "Fraction(-1, 4)"
      ]
    },
    {
      "cell_type": "markdown",
      "id": "0f078582-037c-4a39-bdbb-71935fe476a1",
      "metadata": {
        "id": "0f078582-037c-4a39-bdbb-71935fe476a1"
      },
      "source": [
        "Standard arithmetic operators are supported:"
      ]
    },
    {
      "cell_type": "code",
      "execution_count": null,
      "id": "36b87b92-e421-43d3-a389-63a330d82f66",
      "metadata": {
        "id": "36b87b92-e421-43d3-a389-63a330d82f66",
        "outputId": "b3222b6f-2551-44a3-9144-00c799da8dc4"
      },
      "outputs": [
        {
          "data": {
            "text/plain": [
              "Fraction(1, 1)"
            ]
          },
          "execution_count": 90,
          "metadata": {},
          "output_type": "execute_result"
        }
      ],
      "source": [
        "Fraction(1, 3) + Fraction(1, 3) + Fraction(1, 3)"
      ]
    },
    {
      "cell_type": "code",
      "execution_count": null,
      "id": "83100e19-791d-4c18-aa36-fe382c478744",
      "metadata": {
        "id": "83100e19-791d-4c18-aa36-fe382c478744",
        "outputId": "78bea705-575a-4c30-8ffa-82d528b2723f"
      },
      "outputs": [
        {
          "data": {
            "text/plain": [
              "Fraction(1, 8)"
            ]
          },
          "execution_count": 91,
          "metadata": {},
          "output_type": "execute_result"
        }
      ],
      "source": [
        "Fraction(1, 2) * Fraction(1, 4)"
      ]
    },
    {
      "cell_type": "code",
      "execution_count": null,
      "id": "7bb3ac86-6782-428f-9b0d-507fdddaa3c5",
      "metadata": {
        "id": "7bb3ac86-6782-428f-9b0d-507fdddaa3c5",
        "outputId": "dc9ad0f7-1460-44b7-a5aa-806124af60ad"
      },
      "outputs": [
        {
          "data": {
            "text/plain": [
              "Fraction(3, 2)"
            ]
          },
          "execution_count": 92,
          "metadata": {},
          "output_type": "execute_result"
        }
      ],
      "source": [
        "Fraction(1, 2) / Fraction(1, 3)"
      ]
    },
    {
      "cell_type": "markdown",
      "id": "96f977f8-2cb7-4cda-aec3-7aac60e0cce9",
      "metadata": {
        "id": "96f977f8-2cb7-4cda-aec3-7aac60e0cce9"
      },
      "source": [
        "We can recover the numerator and denominator (integers):"
      ]
    },
    {
      "cell_type": "code",
      "execution_count": null,
      "id": "d2315be4-b3d1-490a-8b17-22a6c857f6f9",
      "metadata": {
        "id": "d2315be4-b3d1-490a-8b17-22a6c857f6f9",
        "outputId": "11e125cc-d038-4e1d-ceb5-bf914169ec24"
      },
      "outputs": [
        {
          "name": "stdout",
          "output_type": "stream",
          "text": [
            "22\n",
            "7\n"
          ]
        }
      ],
      "source": [
        "x = Fraction(22, 7)\n",
        "print(x.numerator)\n",
        "print(x.denominator)"
      ]
    },
    {
      "cell_type": "markdown",
      "id": "7d8285d3-184a-47f7-b175-51331ae1e434",
      "metadata": {
        "id": "7d8285d3-184a-47f7-b175-51331ae1e434"
      },
      "source": [
        "Since floats have finite precision, any float can be convertted to a rational number:"
      ]
    },
    {
      "cell_type": "code",
      "execution_count": null,
      "id": "c47a688b-6465-4e1f-a01a-8370e9be7d7b",
      "metadata": {
        "id": "c47a688b-6465-4e1f-a01a-8370e9be7d7b",
        "outputId": "752dfec0-e2ee-4605-c0a7-55e4742fdf89"
      },
      "outputs": [
        {
          "name": "stdout",
          "output_type": "stream",
          "text": [
            "884279719003555/281474976710656\n",
            "3.141592653589793\n"
          ]
        }
      ],
      "source": [
        "import math\n",
        "x = Fraction(math.pi)\n",
        "print(x)\n",
        "print(float(x))"
      ]
    },
    {
      "cell_type": "code",
      "execution_count": null,
      "id": "3431707e-2bfb-4084-809d-a83d796814f8",
      "metadata": {
        "id": "3431707e-2bfb-4084-809d-a83d796814f8",
        "outputId": "edbcbcae-5d2f-44f6-f683-b9ed070dc335"
      },
      "outputs": [
        {
          "name": "stdout",
          "output_type": "stream",
          "text": [
            "6369051672525773/4503599627370496\n"
          ]
        }
      ],
      "source": [
        "x = Fraction(math.sqrt(2))\n",
        "print(x)"
      ]
    },
    {
      "cell_type": "markdown",
      "id": "77409329-2dd1-42b0-97f9-dd32a0dc24f1",
      "metadata": {
        "id": "77409329-2dd1-42b0-97f9-dd32a0dc24f1"
      },
      "source": [
        "---\n",
        "\n",
        "**BE CAREFUL!**"
      ]
    },
    {
      "cell_type": "markdown",
      "id": "0629a267-280c-4ba1-92a8-08acc501ed3a",
      "metadata": {
        "id": "0629a267-280c-4ba1-92a8-08acc501ed3a"
      },
      "source": [
        "*Note that these rational values are approximations to the irrational number `pi` and `sqrt(2)`*\n",
        "\n",
        "*Float number representations (as we will examine in future lessons) do not always have an exact representation.*\n",
        "\n",
        "*The number 0.125 (1/8) has an exact representation:*"
      ]
    },
    {
      "cell_type": "code",
      "execution_count": null,
      "id": "a157be72-a57b-40b2-9c58-c227890905a0",
      "metadata": {
        "id": "a157be72-a57b-40b2-9c58-c227890905a0",
        "outputId": "d7afdeae-eed0-4493-c661-7ec558b6c340"
      },
      "outputs": [
        {
          "data": {
            "text/plain": [
              "Fraction(1, 8)"
            ]
          },
          "execution_count": 96,
          "metadata": {},
          "output_type": "execute_result"
        }
      ],
      "source": [
        "Fraction(0.125)"
      ]
    },
    {
      "cell_type": "markdown",
      "id": "40aa9034-c811-4564-a4c7-b19af53f4297",
      "metadata": {
        "id": "40aa9034-c811-4564-a4c7-b19af53f4297"
      },
      "source": [
        "*and so we see the expected equivalent fraction.*\n",
        "\n",
        "*But, 0.3 (3/10) does not have an exact representation:*"
      ]
    },
    {
      "cell_type": "code",
      "execution_count": null,
      "id": "0119c48e-9f8a-474b-8732-2a198a82c6aa",
      "metadata": {
        "id": "0119c48e-9f8a-474b-8732-2a198a82c6aa",
        "outputId": "3c5ec1c1-e5d2-48b3-a453-468240869167"
      },
      "outputs": [
        {
          "data": {
            "text/plain": [
              "Fraction(3, 10)"
            ]
          },
          "execution_count": 97,
          "metadata": {},
          "output_type": "execute_result"
        }
      ],
      "source": [
        "Fraction(3, 10)"
      ]
    },
    {
      "cell_type": "markdown",
      "id": "297c9c4d-1ec6-4152-9d4b-0ebeb782ea9b",
      "metadata": {
        "id": "297c9c4d-1ec6-4152-9d4b-0ebeb782ea9b"
      },
      "source": [
        "*but*"
      ]
    },
    {
      "cell_type": "code",
      "execution_count": null,
      "id": "8bf95b70-9061-4a8e-bc93-56723f0a4601",
      "metadata": {
        "id": "8bf95b70-9061-4a8e-bc93-56723f0a4601",
        "outputId": "4b557eef-1e9a-4290-cf82-34adade59d1b"
      },
      "outputs": [
        {
          "data": {
            "text/plain": [
              "Fraction(5404319552844595, 18014398509481984)"
            ]
          },
          "execution_count": 98,
          "metadata": {},
          "output_type": "execute_result"
        }
      ],
      "source": [
        "Fraction(0.3)"
      ]
    },
    {
      "cell_type": "markdown",
      "id": "4be4ec14-cd6b-4829-94f9-141c821e0688",
      "metadata": {
        "id": "4be4ec14-cd6b-4829-94f9-141c821e0688"
      },
      "source": [
        "We will study this in upcoming lessons.\n",
        "\n",
        "Bur for now, let's just see a quick explanation:"
      ]
    },
    {
      "cell_type": "code",
      "execution_count": null,
      "id": "10ba60e5-42e7-4bc2-871f-a13e349fb4c2",
      "metadata": {
        "id": "10ba60e5-42e7-4bc2-871f-a13e349fb4c2"
      },
      "outputs": [],
      "source": [
        "x = 0.3"
      ]
    },
    {
      "cell_type": "code",
      "execution_count": null,
      "id": "1a39c5ed-3ecb-4d9b-8d88-ace5a4801689",
      "metadata": {
        "id": "1a39c5ed-3ecb-4d9b-8d88-ace5a4801689",
        "outputId": "5b5af745-c703-4d59-b03b-7b9e9bd5f4b1"
      },
      "outputs": [
        {
          "name": "stdout",
          "output_type": "stream",
          "text": [
            "0.3\n"
          ]
        }
      ],
      "source": [
        "print(x)"
      ]
    },
    {
      "cell_type": "markdown",
      "id": "cf9994da-534c-41c1-91b5-7914c60d4858",
      "metadata": {
        "id": "cf9994da-534c-41c1-91b5-7914c60d4858"
      },
      "source": [
        "Everything looks ok here - why am I saying 0.3 (float) is just an approximation?\n",
        "\n",
        "Python is trying to format the displayed value for readability - so it rounds the number for a better display format!\n",
        "\n",
        "We can instead choose to display the value using a certain number of digits:"
      ]
    },
    {
      "cell_type": "code",
      "execution_count": null,
      "id": "530152c9-1ca6-4a94-b9f8-d10a6c7b1a69",
      "metadata": {
        "id": "530152c9-1ca6-4a94-b9f8-d10a6c7b1a69",
        "outputId": "41250caf-4c88-4cf0-b4c9-dd059e659ee2"
      },
      "outputs": [
        {
          "data": {
            "text/plain": [
              "'0.30000'"
            ]
          },
          "execution_count": 102,
          "metadata": {},
          "output_type": "execute_result"
        }
      ],
      "source": [
        "format(x, '.5f')"
      ]
    },
    {
      "cell_type": "markdown",
      "id": "2d44a077-1acb-4ebd-b148-b4dabe4d4cca",
      "metadata": {
        "id": "2d44a077-1acb-4ebd-b148-b4dabe4d4cca"
      },
      "source": [
        "At 5 digits after the decimal, we might still think 0.3 is an exact representation.\n",
        "\n",
        "But let's display a few more digits:"
      ]
    },
    {
      "cell_type": "code",
      "execution_count": null,
      "id": "afe4bd76-92f6-48d3-930b-5a0769297df4",
      "metadata": {
        "id": "afe4bd76-92f6-48d3-930b-5a0769297df4",
        "outputId": "4d6638b7-6ec3-4323-e2a2-03fe31ec49cc"
      },
      "outputs": [
        {
          "data": {
            "text/plain": [
              "'0.300000000000000'"
            ]
          },
          "execution_count": 103,
          "metadata": {},
          "output_type": "execute_result"
        }
      ],
      "source": [
        "format(x, '.15f')"
      ]
    },
    {
      "cell_type": "markdown",
      "id": "95c0f8a9-2688-4ccd-8d91-364104018619",
      "metadata": {
        "id": "95c0f8a9-2688-4ccd-8d91-364104018619"
      },
      "source": [
        "---\n",
        "**BE CAREFUL!**"
      ]
    },
    {
      "cell_type": "markdown",
      "id": "3aab8cd7-ed89-4a5f-b288-2dbb271620cb",
      "metadata": {
        "id": "3aab8cd7-ed89-4a5f-b288-2dbb271620cb"
      },
      "source": [
        "*Hmm... 15 digits and still looking good!*\n",
        "\n",
        "*How about 25 digits...*"
      ]
    },
    {
      "cell_type": "code",
      "execution_count": null,
      "id": "00f50e45-3d66-4a07-8eaa-926520ded5b2",
      "metadata": {
        "id": "00f50e45-3d66-4a07-8eaa-926520ded5b2",
        "outputId": "e1c2bbf8-667a-448d-caa5-9df6e45eef55"
      },
      "outputs": [
        {
          "data": {
            "text/plain": [
              "'0.2999999999999999888977698'"
            ]
          },
          "execution_count": 104,
          "metadata": {},
          "output_type": "execute_result"
        }
      ],
      "source": [
        "format(x, '.25f')"
      ]
    },
    {
      "cell_type": "markdown",
      "id": "f1d37fe3-a7a4-46ee-9cf0-69cbbc19e341",
      "metadata": {
        "id": "f1d37fe3-a7a4-46ee-9cf0-69cbbc19e341"
      },
      "source": [
        "Now we see that `x` is not quite 0.3...\n",
        "\n",
        "In fact, we can quantify the delta this way:"
      ]
    },
    {
      "cell_type": "code",
      "execution_count": null,
      "id": "3d0fa9b6-8098-4a79-849c-0821d171bb82",
      "metadata": {
        "id": "3d0fa9b6-8098-4a79-849c-0821d171bb82"
      },
      "outputs": [],
      "source": [
        "delta = Fraction(0.3) - Fraction(3, 10)"
      ]
    },
    {
      "cell_type": "markdown",
      "id": "7bbd6185-8d36-483d-908f-753f4b619e0a",
      "metadata": {
        "id": "7bbd6185-8d36-483d-908f-753f4b619e0a"
      },
      "source": [
        "Theoretically, delta should be 0, but it's not:"
      ]
    },
    {
      "cell_type": "code",
      "execution_count": null,
      "id": "702cb289-010b-4b2a-81e7-df8e9fe69b11",
      "metadata": {
        "id": "702cb289-010b-4b2a-81e7-df8e9fe69b11",
        "outputId": "16aae3ac-077e-4f1c-c4b0-e64e6936437c"
      },
      "outputs": [
        {
          "data": {
            "text/plain": [
              "False"
            ]
          },
          "execution_count": 106,
          "metadata": {},
          "output_type": "execute_result"
        }
      ],
      "source": [
        "delta == 0"
      ]
    },
    {
      "cell_type": "code",
      "execution_count": null,
      "id": "b81ee447-116e-4e5c-bf0e-593cc8ae9cad",
      "metadata": {
        "id": "b81ee447-116e-4e5c-bf0e-593cc8ae9cad",
        "outputId": "af3d8433-5dc6-4c46-887c-c1de3400bb06"
      },
      "outputs": [
        {
          "data": {
            "text/plain": [
              "Fraction(-1, 90071992547409920)"
            ]
          },
          "execution_count": 107,
          "metadata": {},
          "output_type": "execute_result"
        }
      ],
      "source": [
        "delta"
      ]
    },
    {
      "cell_type": "markdown",
      "id": "ea9a1b83-41df-49b7-8227-8ec554431598",
      "metadata": {
        "id": "ea9a1b83-41df-49b7-8227-8ec554431598"
      },
      "source": [
        "`delta` is a very small number, the above fraction...\n",
        "\n",
        "As a float:"
      ]
    },
    {
      "cell_type": "code",
      "execution_count": null,
      "id": "b96df20d-4500-41a0-8571-e53bc36f2b5a",
      "metadata": {
        "id": "b96df20d-4500-41a0-8571-e53bc36f2b5a",
        "outputId": "e1b5d361-e70e-4764-ca47-131f69847589"
      },
      "outputs": [
        {
          "data": {
            "text/plain": [
              "-1.1102230246251566e-17"
            ]
          },
          "execution_count": 108,
          "metadata": {},
          "output_type": "execute_result"
        }
      ],
      "source": [
        "float(delta)"
      ]
    },
    {
      "cell_type": "markdown",
      "id": "75289dde-8106-450c-b9e7-60a9c1760bcd",
      "metadata": {
        "id": "75289dde-8106-450c-b9e7-60a9c1760bcd"
      },
      "source": [
        "**Constraining the denominator**"
      ]
    },
    {
      "cell_type": "code",
      "execution_count": null,
      "id": "69e1d5f4-0e3f-40a1-89e6-55587c016e17",
      "metadata": {
        "id": "69e1d5f4-0e3f-40a1-89e6-55587c016e17",
        "outputId": "8575c8d9-3122-4f89-b464-f635df2022a9"
      },
      "outputs": [
        {
          "name": "stdout",
          "output_type": "stream",
          "text": [
            "884279719003555/281474976710656\n",
            "3.1415926535897931159979635\n"
          ]
        }
      ],
      "source": [
        "x = Fraction(math.pi)\n",
        "print(x)\n",
        "print(format(float(x), '.25f'))"
      ]
    },
    {
      "cell_type": "code",
      "execution_count": null,
      "id": "a737a7da-7ad2-40f1-8acc-770ac9b3f772",
      "metadata": {
        "id": "a737a7da-7ad2-40f1-8acc-770ac9b3f772",
        "outputId": "c4381dc9-cc1b-45a2-ade0-00cadf7ff254"
      },
      "outputs": [
        {
          "name": "stdout",
          "output_type": "stream",
          "text": [
            "22/7\n",
            "3.1428571428571427937015414\n"
          ]
        }
      ],
      "source": [
        "y = x.limit_denominator(10)\n",
        "print(y)\n",
        "print(format(float(y), '.25f'))"
      ]
    },
    {
      "cell_type": "code",
      "execution_count": null,
      "id": "6deeb143-e92a-4b86-adfe-cf70eff9c7c2",
      "metadata": {
        "id": "6deeb143-e92a-4b86-adfe-cf70eff9c7c2",
        "outputId": "2d17ef9c-50cd-47a3-fdeb-d120fd6f8ec8"
      },
      "outputs": [
        {
          "name": "stdout",
          "output_type": "stream",
          "text": [
            "311/99\n",
            "3.1414141414141414365701621\n"
          ]
        }
      ],
      "source": [
        "y = x.limit_denominator(100)\n",
        "print(y)\n",
        "print(format(float(y), '.25f'))"
      ]
    },
    {
      "cell_type": "code",
      "execution_count": null,
      "id": "33d3a793-0128-484b-b70a-d9e18a257cee",
      "metadata": {
        "id": "33d3a793-0128-484b-b70a-d9e18a257cee",
        "outputId": "54ca9b93-92b5-490a-9369-607cd78156a9"
      },
      "outputs": [
        {
          "name": "stdout",
          "output_type": "stream",
          "text": [
            "355/113\n",
            "3.1415929203539825209645642\n"
          ]
        }
      ],
      "source": [
        "y = x.limit_denominator(500)\n",
        "print(y)\n",
        "print(format(float(y), '.25f'))"
      ]
    },
    {
      "cell_type": "markdown",
      "id": "e60196bc-a291-41dc-883d-a35e5cac35bd",
      "metadata": {
        "id": "e60196bc-a291-41dc-883d-a35e5cac35bd"
      },
      "source": [
        "### 05 - Floats - Internal Representation"
      ]
    },
    {
      "cell_type": "markdown",
      "id": "aee90871-dce4-477f-8873-61a602648e13",
      "metadata": {
        "id": "aee90871-dce4-477f-8873-61a602648e13"
      },
      "source": [
        "The `float` class can be used to represent real numbers."
      ]
    },
    {
      "cell_type": "code",
      "execution_count": null,
      "id": "a0000b34-a5bb-473a-bb42-4c1adf35b705",
      "metadata": {
        "id": "a0000b34-a5bb-473a-bb42-4c1adf35b705",
        "outputId": "c8b94d00-7d95-4943-995a-9cb8fdca90fb"
      },
      "outputs": [
        {
          "name": "stdout",
          "output_type": "stream",
          "text": [
            "Help on class float in module builtins:\n",
            "\n",
            "class float(object)\n",
            " |  float(x=0, /)\n",
            " |  \n",
            " |  Convert a string or number to a floating point number, if possible.\n",
            " |  \n",
            " |  Methods defined here:\n",
            " |  \n",
            " |  __abs__(self, /)\n",
            " |      abs(self)\n",
            " |  \n",
            " |  __add__(self, value, /)\n",
            " |      Return self+value.\n",
            " |  \n",
            " |  __bool__(self, /)\n",
            " |      True if self else False\n",
            " |  \n",
            " |  __ceil__(self, /)\n",
            " |      Return the ceiling as an Integral.\n",
            " |  \n",
            " |  __divmod__(self, value, /)\n",
            " |      Return divmod(self, value).\n",
            " |  \n",
            " |  __eq__(self, value, /)\n",
            " |      Return self==value.\n",
            " |  \n",
            " |  __float__(self, /)\n",
            " |      float(self)\n",
            " |  \n",
            " |  __floor__(self, /)\n",
            " |      Return the floor as an Integral.\n",
            " |  \n",
            " |  __floordiv__(self, value, /)\n",
            " |      Return self//value.\n",
            " |  \n",
            " |  __format__(self, format_spec, /)\n",
            " |      Formats the float according to format_spec.\n",
            " |  \n",
            " |  __ge__(self, value, /)\n",
            " |      Return self>=value.\n",
            " |  \n",
            " |  __getattribute__(self, name, /)\n",
            " |      Return getattr(self, name).\n",
            " |  \n",
            " |  __getnewargs__(self, /)\n",
            " |  \n",
            " |  __gt__(self, value, /)\n",
            " |      Return self>value.\n",
            " |  \n",
            " |  __hash__(self, /)\n",
            " |      Return hash(self).\n",
            " |  \n",
            " |  __int__(self, /)\n",
            " |      int(self)\n",
            " |  \n",
            " |  __le__(self, value, /)\n",
            " |      Return self<=value.\n",
            " |  \n",
            " |  __lt__(self, value, /)\n",
            " |      Return self<value.\n",
            " |  \n",
            " |  __mod__(self, value, /)\n",
            " |      Return self%value.\n",
            " |  \n",
            " |  __mul__(self, value, /)\n",
            " |      Return self*value.\n",
            " |  \n",
            " |  __ne__(self, value, /)\n",
            " |      Return self!=value.\n",
            " |  \n",
            " |  __neg__(self, /)\n",
            " |      -self\n",
            " |  \n",
            " |  __pos__(self, /)\n",
            " |      +self\n",
            " |  \n",
            " |  __pow__(self, value, mod=None, /)\n",
            " |      Return pow(self, value, mod).\n",
            " |  \n",
            " |  __radd__(self, value, /)\n",
            " |      Return value+self.\n",
            " |  \n",
            " |  __rdivmod__(self, value, /)\n",
            " |      Return divmod(value, self).\n",
            " |  \n",
            " |  __repr__(self, /)\n",
            " |      Return repr(self).\n",
            " |  \n",
            " |  __rfloordiv__(self, value, /)\n",
            " |      Return value//self.\n",
            " |  \n",
            " |  __rmod__(self, value, /)\n",
            " |      Return value%self.\n",
            " |  \n",
            " |  __rmul__(self, value, /)\n",
            " |      Return value*self.\n",
            " |  \n",
            " |  __round__(self, ndigits=None, /)\n",
            " |      Return the Integral closest to x, rounding half toward even.\n",
            " |      \n",
            " |      When an argument is passed, work like built-in round(x, ndigits).\n",
            " |  \n",
            " |  __rpow__(self, value, mod=None, /)\n",
            " |      Return pow(value, self, mod).\n",
            " |  \n",
            " |  __rsub__(self, value, /)\n",
            " |      Return value-self.\n",
            " |  \n",
            " |  __rtruediv__(self, value, /)\n",
            " |      Return value/self.\n",
            " |  \n",
            " |  __sub__(self, value, /)\n",
            " |      Return self-value.\n",
            " |  \n",
            " |  __truediv__(self, value, /)\n",
            " |      Return self/value.\n",
            " |  \n",
            " |  __trunc__(self, /)\n",
            " |      Return the Integral closest to x between 0 and x.\n",
            " |  \n",
            " |  as_integer_ratio(self, /)\n",
            " |      Return integer ratio.\n",
            " |      \n",
            " |      Return a pair of integers, whose ratio is exactly equal to the original float\n",
            " |      and with a positive denominator.\n",
            " |      \n",
            " |      Raise OverflowError on infinities and a ValueError on NaNs.\n",
            " |      \n",
            " |      >>> (10.0).as_integer_ratio()\n",
            " |      (10, 1)\n",
            " |      >>> (0.0).as_integer_ratio()\n",
            " |      (0, 1)\n",
            " |      >>> (-.25).as_integer_ratio()\n",
            " |      (-1, 4)\n",
            " |  \n",
            " |  conjugate(self, /)\n",
            " |      Return self, the complex conjugate of any float.\n",
            " |  \n",
            " |  hex(self, /)\n",
            " |      Return a hexadecimal representation of a floating-point number.\n",
            " |      \n",
            " |      >>> (-0.1).hex()\n",
            " |      '-0x1.999999999999ap-4'\n",
            " |      >>> 3.14159.hex()\n",
            " |      '0x1.921f9f01b866ep+1'\n",
            " |  \n",
            " |  is_integer(self, /)\n",
            " |      Return True if the float is an integer.\n",
            " |  \n",
            " |  ----------------------------------------------------------------------\n",
            " |  Class methods defined here:\n",
            " |  \n",
            " |  __getformat__(typestr, /) from builtins.type\n",
            " |      You probably don't want to use this function.\n",
            " |      \n",
            " |        typestr\n",
            " |          Must be 'double' or 'float'.\n",
            " |      \n",
            " |      It exists mainly to be used in Python's test suite.\n",
            " |      \n",
            " |      This function returns whichever of 'unknown', 'IEEE, big-endian' or 'IEEE,\n",
            " |      little-endian' best describes the format of floating point numbers used by the\n",
            " |      C type named by typestr.\n",
            " |  \n",
            " |  __setformat__(typestr, fmt, /) from builtins.type\n",
            " |      You probably don't want to use this function.\n",
            " |      \n",
            " |        typestr\n",
            " |          Must be 'double' or 'float'.\n",
            " |        fmt\n",
            " |          Must be one of 'unknown', 'IEEE, big-endian' or 'IEEE, little-endian',\n",
            " |          and in addition can only be one of the latter two if it appears to\n",
            " |          match the underlying C reality.\n",
            " |      \n",
            " |      It exists mainly to be used in Python's test suite.\n",
            " |      \n",
            " |      Override the automatic determination of C-level floating point type.\n",
            " |      This affects how floats are converted to and from binary strings.\n",
            " |  \n",
            " |  fromhex(string, /) from builtins.type\n",
            " |      Create a floating-point number from a hexadecimal string.\n",
            " |      \n",
            " |      >>> float.fromhex('0x1.ffffp10')\n",
            " |      2047.984375\n",
            " |      >>> float.fromhex('-0x1p-1074')\n",
            " |      -5e-324\n",
            " |  \n",
            " |  ----------------------------------------------------------------------\n",
            " |  Static methods defined here:\n",
            " |  \n",
            " |  __new__(*args, **kwargs) from builtins.type\n",
            " |      Create and return a new object.  See help(type) for accurate signature.\n",
            " |  \n",
            " |  ----------------------------------------------------------------------\n",
            " |  Data descriptors defined here:\n",
            " |  \n",
            " |  imag\n",
            " |      the imaginary part of a complex number\n",
            " |  \n",
            " |  real\n",
            " |      the real part of a complex number\n",
            "\n"
          ]
        }
      ],
      "source": [
        "help(float)"
      ]
    },
    {
      "cell_type": "markdown",
      "id": "cad18b2a-ce83-4a6e-b457-33ffd055e4ca",
      "metadata": {
        "id": "cad18b2a-ce83-4a6e-b457-33ffd055e4ca"
      },
      "source": [
        "The `float` class has a single constructor, which can take a number or a string and will attempt to convert it to a float."
      ]
    },
    {
      "cell_type": "code",
      "execution_count": null,
      "id": "5c0811a5-54da-4516-a4a0-9f4b33f622b4",
      "metadata": {
        "id": "5c0811a5-54da-4516-a4a0-9f4b33f622b4",
        "outputId": "9ad86166-3392-43fd-ced9-b3c4483d8c97"
      },
      "outputs": [
        {
          "data": {
            "text/plain": [
              "10.0"
            ]
          },
          "execution_count": 114,
          "metadata": {},
          "output_type": "execute_result"
        }
      ],
      "source": [
        "float(10)"
      ]
    },
    {
      "cell_type": "code",
      "execution_count": null,
      "id": "ba50be58-06be-4231-9fc6-fe9dcc276c57",
      "metadata": {
        "id": "ba50be58-06be-4231-9fc6-fe9dcc276c57",
        "outputId": "4aeae6e0-d5d2-4dfa-ca9e-a48653682155"
      },
      "outputs": [
        {
          "data": {
            "text/plain": [
              "3.14"
            ]
          },
          "execution_count": 115,
          "metadata": {},
          "output_type": "execute_result"
        }
      ],
      "source": [
        "float(3.14)"
      ]
    },
    {
      "cell_type": "code",
      "execution_count": null,
      "id": "a1c80e59-c71b-4ee7-adbd-bdc0ba05f155",
      "metadata": {
        "id": "a1c80e59-c71b-4ee7-adbd-bdc0ba05f155",
        "outputId": "8347095e-0808-4e56-c166-af57aee6284d"
      },
      "outputs": [
        {
          "data": {
            "text/plain": [
              "0.1"
            ]
          },
          "execution_count": 116,
          "metadata": {},
          "output_type": "execute_result"
        }
      ],
      "source": [
        "float('0.1')"
      ]
    },
    {
      "cell_type": "markdown",
      "id": "252e99ff-5a55-4e7a-a224-ac1db104fa0e",
      "metadata": {
        "id": "252e99ff-5a55-4e7a-a224-ac1db104fa0e"
      },
      "source": [
        "---\n",
        "\n",
        "**BE CAREFUL**"
      ]
    },
    {
      "cell_type": "markdown",
      "id": "994dd9ad-100d-4f2a-8cd4-733cc6bb16ab",
      "metadata": {
        "id": "994dd9ad-100d-4f2a-8cd4-733cc6bb16ab"
      },
      "source": [
        "*However, strings that represent fractions cannot be converted to floats, unlike the Fraction class we saw earlier.*"
      ]
    },
    {
      "cell_type": "code",
      "execution_count": null,
      "id": "7e5a9c94-5add-4e16-961a-4eac1f33612f",
      "metadata": {
        "id": "7e5a9c94-5add-4e16-961a-4eac1f33612f",
        "outputId": "df647014-ec11-4fb9-c3b9-aa72278783b5"
      },
      "outputs": [
        {
          "ename": "ValueError",
          "evalue": "could not convert string to float: '22/7'",
          "output_type": "error",
          "traceback": [
            "\u001b[1;31m---------------------------------------------------------------------------\u001b[0m",
            "\u001b[1;31mValueError\u001b[0m                                Traceback (most recent call last)",
            "Input \u001b[1;32mIn [117]\u001b[0m, in \u001b[0;36m<cell line: 1>\u001b[1;34m()\u001b[0m\n\u001b[1;32m----> 1\u001b[0m \u001b[38;5;28;43mfloat\u001b[39;49m\u001b[43m(\u001b[49m\u001b[38;5;124;43m'\u001b[39;49m\u001b[38;5;124;43m22/7\u001b[39;49m\u001b[38;5;124;43m'\u001b[39;49m\u001b[43m)\u001b[49m\n",
            "\u001b[1;31mValueError\u001b[0m: could not convert string to float: '22/7'"
          ]
        }
      ],
      "source": [
        "float('22/7')"
      ]
    },
    {
      "cell_type": "markdown",
      "id": "1da14e9c-b9d9-467f-806b-043889d3e2fc",
      "metadata": {
        "id": "1da14e9c-b9d9-467f-806b-043889d3e2fc"
      },
      "source": [
        "*If you really want to get a float from a string such as `'22/7'`, you could first create a `Fraction`, then create a `float` from that:*"
      ]
    },
    {
      "cell_type": "code",
      "execution_count": null,
      "id": "7af54434-e1f3-4b07-84be-f6a84d09bc7e",
      "metadata": {
        "id": "7af54434-e1f3-4b07-84be-f6a84d09bc7e"
      },
      "outputs": [],
      "source": [
        "from fractions import Fraction"
      ]
    },
    {
      "cell_type": "code",
      "execution_count": null,
      "id": "353be455-98e9-4bd8-9db2-c5abc68b4ee1",
      "metadata": {
        "id": "353be455-98e9-4bd8-9db2-c5abc68b4ee1",
        "outputId": "cf7fadcf-c0ef-4ea5-c67c-ab127042a55a"
      },
      "outputs": [
        {
          "data": {
            "text/plain": [
              "3.142857142857143"
            ]
          },
          "execution_count": 119,
          "metadata": {},
          "output_type": "execute_result"
        }
      ],
      "source": [
        "float(Fraction('22/7'))"
      ]
    },
    {
      "cell_type": "markdown",
      "id": "77782f73-0594-49a3-b8d4-9421dab7ac35",
      "metadata": {
        "id": "77782f73-0594-49a3-b8d4-9421dab7ac35"
      },
      "source": [
        "*Floats do not always have an exact representation:*"
      ]
    },
    {
      "cell_type": "code",
      "execution_count": null,
      "id": "c3cada1a-bdca-4f53-bbed-10a1f7c4974c",
      "metadata": {
        "id": "c3cada1a-bdca-4f53-bbed-10a1f7c4974c",
        "outputId": "697bd5c5-98fa-48ae-cb09-9144c29b2b10"
      },
      "outputs": [
        {
          "name": "stdout",
          "output_type": "stream",
          "text": [
            "0.1\n"
          ]
        }
      ],
      "source": [
        "print(0.1)"
      ]
    },
    {
      "cell_type": "markdown",
      "id": "98f0dd02-d338-4d33-b006-2971ed768d7b",
      "metadata": {
        "id": "98f0dd02-d338-4d33-b006-2971ed768d7b"
      },
      "source": [
        "*Although this looks like `0.1` exactly, we need to reveal more digits after the decimal point to see what's going on:*"
      ]
    },
    {
      "cell_type": "code",
      "execution_count": null,
      "id": "b45c0664-120a-4f08-8b8c-f8c6fe81f32a",
      "metadata": {
        "id": "b45c0664-120a-4f08-8b8c-f8c6fe81f32a",
        "outputId": "bc52af74-619b-49cf-dbf4-6282a65333d5"
      },
      "outputs": [
        {
          "data": {
            "text/plain": [
              "'0.1000000000000000055511151'"
            ]
          },
          "execution_count": 121,
          "metadata": {},
          "output_type": "execute_result"
        }
      ],
      "source": [
        "format(0.1, '.25f')"
      ]
    },
    {
      "cell_type": "markdown",
      "id": "e113551a-7653-4e64-ba46-9a69a8815e41",
      "metadata": {
        "id": "e113551a-7653-4e64-ba46-9a69a8815e41"
      },
      "source": [
        "*However, certain numbers can be represented exactly in a binary fraction expansion:*"
      ]
    },
    {
      "cell_type": "code",
      "execution_count": null,
      "id": "9d151240-4180-49a9-b6fb-61a3c6b25c38",
      "metadata": {
        "id": "9d151240-4180-49a9-b6fb-61a3c6b25c38",
        "outputId": "2aaa533b-16d2-4ec9-8589-e1a8fb24c50d"
      },
      "outputs": [
        {
          "data": {
            "text/plain": [
              "'0.1250000000000000000000000'"
            ]
          },
          "execution_count": 122,
          "metadata": {},
          "output_type": "execute_result"
        }
      ],
      "source": [
        "format(0.125, '.25f')"
      ]
    },
    {
      "cell_type": "markdown",
      "id": "d889b0f1-b650-4153-a063-128ecca1aebf",
      "metadata": {
        "id": "d889b0f1-b650-4153-a063-128ecca1aebf"
      },
      "source": [
        "*This is because 0.125 is precisely 1/8 or 1/(2^3)*"
      ]
    },
    {
      "cell_type": "markdown",
      "id": "6e7d3bbb-f656-4c3a-8987-03f0198454a1",
      "metadata": {
        "tags": [],
        "id": "6e7d3bbb-f656-4c3a-8987-03f0198454a1"
      },
      "source": [
        "### 06 - Floats - Equality Testing"
      ]
    },
    {
      "cell_type": "markdown",
      "id": "abb3a99e-a20d-421a-b077-0c30090bd5bb",
      "metadata": {
        "id": "abb3a99e-a20d-421a-b077-0c30090bd5bb"
      },
      "source": [
        "Because not all real numbers have an exact `float` representation, equality testing can be tricky."
      ]
    },
    {
      "cell_type": "code",
      "execution_count": null,
      "id": "a283a632-722c-46a9-ba7d-0b518e88404c",
      "metadata": {
        "id": "a283a632-722c-46a9-ba7d-0b518e88404c",
        "outputId": "3d1db308-1387-446c-de13-1ad6f3a6c2d8"
      },
      "outputs": [
        {
          "data": {
            "text/plain": [
              "False"
            ]
          },
          "execution_count": 123,
          "metadata": {},
          "output_type": "execute_result"
        }
      ],
      "source": [
        "x = 0.1 + 0.1 + 0.1\n",
        "y = 0.3\n",
        "x == y"
      ]
    },
    {
      "cell_type": "markdown",
      "id": "36927453-d4ba-47b7-af5c-e3f91de250aa",
      "metadata": {
        "id": "36927453-d4ba-47b7-af5c-e3f91de250aa"
      },
      "source": [
        "This is because `0.1` and `0.3` do not have exact representations:"
      ]
    },
    {
      "cell_type": "code",
      "execution_count": null,
      "id": "a996e27a-d47e-47dc-b05c-1198a15b4a9a",
      "metadata": {
        "id": "a996e27a-d47e-47dc-b05c-1198a15b4a9a",
        "outputId": "dfae2a1d-80cb-4e70-cc1b-ae7aca0eacc1"
      },
      "outputs": [
        {
          "name": "stdout",
          "output_type": "stream",
          "text": [
            "0.1 --> 0.1000000000000000055511151\n",
            "x --> 0.3000000000000000444089210\n",
            "y --> 0.2999999999999999888977698\n"
          ]
        }
      ],
      "source": [
        "print('0.1 --> {0:.25f}'.format(0.1))\n",
        "print('x --> {0:.25f}'.format(x))\n",
        "print('y --> {0:.25f}'.format(y))"
      ]
    },
    {
      "cell_type": "markdown",
      "id": "f3a78ee7-5c15-4a8b-a900-b28e26020eab",
      "metadata": {
        "id": "f3a78ee7-5c15-4a8b-a900-b28e26020eab"
      },
      "source": [
        "However, in some (limited) cases where all the numbers involved do have an exact representation, it will work:"
      ]
    },
    {
      "cell_type": "code",
      "execution_count": null,
      "id": "c9fab6f3-d7d5-4476-8e02-13690e7230e5",
      "metadata": {
        "id": "c9fab6f3-d7d5-4476-8e02-13690e7230e5",
        "outputId": "e6189725-6210-47cd-8da2-7cf00032c7a4"
      },
      "outputs": [
        {
          "data": {
            "text/plain": [
              "True"
            ]
          },
          "execution_count": 125,
          "metadata": {},
          "output_type": "execute_result"
        }
      ],
      "source": [
        "x = 0.125 + 0.125 + 0.125\n",
        "y = 0.375\n",
        "x == y"
      ]
    },
    {
      "cell_type": "code",
      "execution_count": null,
      "id": "08b80a40-d608-4293-8ab3-3bcc044bde33",
      "metadata": {
        "id": "08b80a40-d608-4293-8ab3-3bcc044bde33",
        "outputId": "2234a0e8-e2b4-421d-9200-3b178e7e9449"
      },
      "outputs": [
        {
          "name": "stdout",
          "output_type": "stream",
          "text": [
            "0.125 --> 0.1250000000000000000000000\n",
            "x --> 0.3750000000000000000000000\n",
            "y --> 0.3750000000000000000000000\n"
          ]
        }
      ],
      "source": [
        "print('0.125 --> {0:.25f}'.format(0.125))\n",
        "print('x --> {0:.25f}'.format(x))\n",
        "print('y --> {0:.25f}'.format(y))"
      ]
    },
    {
      "cell_type": "markdown",
      "id": "24d3494e-ddfe-407e-844c-c8b6fdee4750",
      "metadata": {
        "id": "24d3494e-ddfe-407e-844c-c8b6fdee4750"
      },
      "source": [
        "One simple way to get around this is to round to a specific number of digits and then compare."
      ]
    },
    {
      "cell_type": "code",
      "execution_count": null,
      "id": "f0f7c7a0-49a8-4a69-90d0-5f37ede2431d",
      "metadata": {
        "id": "f0f7c7a0-49a8-4a69-90d0-5f37ede2431d",
        "outputId": "ba67a0c0-88ea-4518-bc7b-03034061f4bb"
      },
      "outputs": [
        {
          "data": {
            "text/plain": [
              "True"
            ]
          },
          "execution_count": 127,
          "metadata": {},
          "output_type": "execute_result"
        }
      ],
      "source": [
        "x = 0.1 + 0.1 + 0.1\n",
        "y = 0.3\n",
        "round(x, 5) == round(y, 5)"
      ]
    },
    {
      "cell_type": "markdown",
      "id": "181843c8-185d-4cb6-b734-5a58f08871d6",
      "metadata": {
        "id": "181843c8-185d-4cb6-b734-5a58f08871d6"
      },
      "source": [
        "We can also use a more flexible technique implemented by the `isclose` method in the `math` module."
      ]
    },
    {
      "cell_type": "code",
      "execution_count": null,
      "id": "e831109b-c529-4ef4-ac80-76f9d4369edc",
      "metadata": {
        "id": "e831109b-c529-4ef4-ac80-76f9d4369edc"
      },
      "outputs": [],
      "source": [
        "from math import isclose"
      ]
    },
    {
      "cell_type": "code",
      "execution_count": null,
      "id": "b0914c98-9d1c-4146-92b7-ecbfc49e554a",
      "metadata": {
        "id": "b0914c98-9d1c-4146-92b7-ecbfc49e554a",
        "outputId": "4ebb0f87-bd48-44e4-fa5c-6aa105281340"
      },
      "outputs": [
        {
          "name": "stdout",
          "output_type": "stream",
          "text": [
            "Help on built-in function isclose in module math:\n",
            "\n",
            "isclose(a, b, *, rel_tol=1e-09, abs_tol=0.0)\n",
            "    Determine whether two floating point numbers are close in value.\n",
            "    \n",
            "      rel_tol\n",
            "        maximum difference for being considered \"close\", relative to the\n",
            "        magnitude of the input values\n",
            "      abs_tol\n",
            "        maximum difference for being considered \"close\", regardless of the\n",
            "        magnitude of the input values\n",
            "    \n",
            "    Return True if a is close in value to b, and False otherwise.\n",
            "    \n",
            "    For the values to be considered close, the difference between them\n",
            "    must be smaller than at least one of the tolerances.\n",
            "    \n",
            "    -inf, inf and NaN behave similarly to the IEEE 754 Standard.  That\n",
            "    is, NaN is not close to anything, even itself.  inf and -inf are\n",
            "    only close to themselves.\n",
            "\n"
          ]
        }
      ],
      "source": [
        "help(isclose)"
      ]
    },
    {
      "cell_type": "code",
      "execution_count": null,
      "id": "c94f0845-2bab-4bdd-a0ce-bdf6d1b1caaf",
      "metadata": {
        "id": "c94f0845-2bab-4bdd-a0ce-bdf6d1b1caaf",
        "outputId": "9a73ccc8-76fa-4b5b-fd07-b377000daf39"
      },
      "outputs": [
        {
          "data": {
            "text/plain": [
              "True"
            ]
          },
          "execution_count": 130,
          "metadata": {},
          "output_type": "execute_result"
        }
      ],
      "source": [
        "x = 0.1 + 0.1 + 0.1\n",
        "y = 0.3\n",
        "isclose(x, y)"
      ]
    },
    {
      "cell_type": "markdown",
      "id": "b3142544-8f6e-411c-b68b-109d3a1b4e38",
      "metadata": {
        "id": "b3142544-8f6e-411c-b68b-109d3a1b4e38"
      },
      "source": [
        "The `isclose` method takes two optional parameters, `rel_tol` and `abs_tol`.\n",
        "\n",
        "`rel_tol` is a relative tolerance that will be relative to the magnitude of the largest of the two numbers being compared. Useful when we want to see if two numbers are close to each other as a percentage of their magnitudes.\n",
        "\n",
        "`abs_tol` is an absolute tolerance that is independent of the magnitunde of the numbers we are compairing - this is useful for numbers that are close to zero.\n",
        "\n",
        "In this situation we might consider x and y to be close to each other:"
      ]
    },
    {
      "cell_type": "code",
      "execution_count": null,
      "id": "7e2b1def-3773-4662-bc11-1413ef4f3478",
      "metadata": {
        "id": "7e2b1def-3773-4662-bc11-1413ef4f3478"
      },
      "outputs": [],
      "source": [
        "x = 123456789.01\n",
        "y = 123456780.02"
      ]
    },
    {
      "cell_type": "markdown",
      "id": "7ca54758-9091-46a6-acfb-fcc19070100c",
      "metadata": {
        "id": "7ca54758-9091-46a6-acfb-fcc19070100c"
      },
      "source": [
        "but not in this case:"
      ]
    },
    {
      "cell_type": "code",
      "execution_count": null,
      "id": "8ca1a0cc-0813-47bf-8a31-c07b45ed7e01",
      "metadata": {
        "id": "8ca1a0cc-0813-47bf-8a31-c07b45ed7e01"
      },
      "outputs": [],
      "source": [
        "x = 0.01\n",
        "y = 0.02"
      ]
    },
    {
      "cell_type": "markdown",
      "id": "8fbc71b8-7437-4cfa-afba-04a58e8a6da0",
      "metadata": {
        "id": "8fbc71b8-7437-4cfa-afba-04a58e8a6da0"
      },
      "source": [
        "In both these cases the difference between the two numbers was `0.01`, yet in one case we considered the numvers \"equal\" and in the other, not \"equal\". Realtive tomerances are useful to handle thse scenarios."
      ]
    },
    {
      "cell_type": "code",
      "execution_count": null,
      "id": "d8eb1041-d997-4fbf-a197-b37875fe7685",
      "metadata": {
        "id": "d8eb1041-d997-4fbf-a197-b37875fe7685",
        "outputId": "861a9844-0793-4df5-e24d-6af658e706ed"
      },
      "outputs": [
        {
          "data": {
            "text/plain": [
              "True"
            ]
          },
          "execution_count": 134,
          "metadata": {},
          "output_type": "execute_result"
        }
      ],
      "source": [
        "isclose(123456789.01, 123456789.02, rel_tol=0.01)"
      ]
    },
    {
      "cell_type": "code",
      "execution_count": null,
      "id": "8f9f600b-212d-4826-bbba-a32744853c7f",
      "metadata": {
        "id": "8f9f600b-212d-4826-bbba-a32744853c7f",
        "outputId": "6d76ba44-d32b-42eb-8835-8e6d54fa500d"
      },
      "outputs": [
        {
          "data": {
            "text/plain": [
              "False"
            ]
          },
          "execution_count": 135,
          "metadata": {},
          "output_type": "execute_result"
        }
      ],
      "source": [
        "isclose(0.01, 0.02, rel_tol=0.01)"
      ]
    },
    {
      "cell_type": "markdown",
      "id": "b9f8bd4b-e6ac-45db-98ab-60b4182611c5",
      "metadata": {
        "id": "b9f8bd4b-e6ac-45db-98ab-60b4182611c5"
      },
      "source": [
        "On the other hand, we have to be careful with relative tolerances when working with values that are close to zero:"
      ]
    },
    {
      "cell_type": "code",
      "execution_count": null,
      "id": "1c8fcb78-9582-4f0c-94cc-d1cce1f64535",
      "metadata": {
        "id": "1c8fcb78-9582-4f0c-94cc-d1cce1f64535",
        "outputId": "f394a776-e5df-4154-f98d-151131b1c5fc"
      },
      "outputs": [
        {
          "data": {
            "text/plain": [
              "False"
            ]
          },
          "execution_count": 136,
          "metadata": {},
          "output_type": "execute_result"
        }
      ],
      "source": [
        "x = 0.0000001\n",
        "y = 0.0000002\n",
        "isclose(x, y, rel_tol=0.01)"
      ]
    },
    {
      "cell_type": "markdown",
      "id": "699c8881-1a1b-4925-ad2a-1ad2f762827b",
      "metadata": {
        "id": "699c8881-1a1b-4925-ad2a-1ad2f762827b"
      },
      "source": [
        "So, we could use an absolute tolerance here:"
      ]
    },
    {
      "cell_type": "code",
      "execution_count": null,
      "id": "948af9f8-485b-4454-9307-ce76e18adf9f",
      "metadata": {
        "id": "948af9f8-485b-4454-9307-ce76e18adf9f",
        "outputId": "6cc5f095-f3ae-48a3-aaab-f217b373e99a"
      },
      "outputs": [
        {
          "data": {
            "text/plain": [
              "True"
            ]
          },
          "execution_count": 137,
          "metadata": {},
          "output_type": "execute_result"
        }
      ],
      "source": [
        "isclose(x, y, abs_tol=0.0001, rel_tol=0)"
      ]
    },
    {
      "cell_type": "markdown",
      "id": "f3e0bfb7-613c-4e5b-bf58-a5fc36956920",
      "metadata": {
        "id": "f3e0bfb7-613c-4e5b-bf58-a5fc36956920"
      },
      "source": [
        "In general, we can combine the use of both relative and absolute tolerances in this way:"
      ]
    },
    {
      "cell_type": "code",
      "execution_count": null,
      "id": "8224fbc6-4969-43a5-b43c-4ae8b6d461f2",
      "metadata": {
        "id": "8224fbc6-4969-43a5-b43c-4ae8b6d461f2",
        "outputId": "23908d0d-04d7-4e8e-cc62-1a74ebf49374"
      },
      "outputs": [
        {
          "name": "stdout",
          "output_type": "stream",
          "text": [
            "x = y: True\n",
            "a = b: True\n"
          ]
        }
      ],
      "source": [
        "x = 0.0000001\n",
        "y = 0.0000002\n",
        "\n",
        "a = 123456789.01\n",
        "b = 123456789.02\n",
        "\n",
        "print('x = y:', isclose(x, y, abs_tol=0.0001, rel_tol=0.01))\n",
        "print('a = b:', isclose(a, b, abs_tol=0.0001, rel_tol=0.01))"
      ]
    },
    {
      "cell_type": "markdown",
      "id": "d418655e-ef36-483e-8373-1ec757a2b54d",
      "metadata": {
        "id": "d418655e-ef36-483e-8373-1ec757a2b54d"
      },
      "source": [
        "### 07 - Floats - Coercing to Integers"
      ]
    },
    {
      "cell_type": "markdown",
      "id": "bef89a57-0678-4ac9-8cf1-a020da2f98cb",
      "metadata": {
        "id": "bef89a57-0678-4ac9-8cf1-a020da2f98cb"
      },
      "source": [
        "**Truncation**"
      ]
    },
    {
      "cell_type": "code",
      "execution_count": null,
      "id": "52cfb0fd-efb2-40a6-91a3-df8ba6712445",
      "metadata": {
        "id": "52cfb0fd-efb2-40a6-91a3-df8ba6712445"
      },
      "outputs": [],
      "source": [
        "from math import trunc"
      ]
    },
    {
      "cell_type": "code",
      "execution_count": null,
      "id": "b29f3aef-f85e-4da6-a286-c4a1b2c94f09",
      "metadata": {
        "id": "b29f3aef-f85e-4da6-a286-c4a1b2c94f09",
        "outputId": "bbb0dabc-fe1a-4a18-8a74-74b8faccd193"
      },
      "outputs": [
        {
          "data": {
            "text/plain": [
              "(10, 10, 10)"
            ]
          },
          "execution_count": 141,
          "metadata": {},
          "output_type": "execute_result"
        }
      ],
      "source": [
        "trunc(10.3), trunc(10.5), trunc(10.6)"
      ]
    },
    {
      "cell_type": "code",
      "execution_count": null,
      "id": "2f10f5d6-8356-451b-a761-806b7588ffd9",
      "metadata": {
        "id": "2f10f5d6-8356-451b-a761-806b7588ffd9",
        "outputId": "a3069185-11a3-4bd6-c774-1ab5cfb2cb1b"
      },
      "outputs": [
        {
          "data": {
            "text/plain": [
              "(-10, -10, -10)"
            ]
          },
          "execution_count": 142,
          "metadata": {},
          "output_type": "execute_result"
        }
      ],
      "source": [
        "trunc(-10.6), trunc(-10.5), trunc(-10.3)"
      ]
    },
    {
      "cell_type": "markdown",
      "id": "4917a144-e5c7-4be5-b215-209566b945b5",
      "metadata": {
        "id": "4917a144-e5c7-4be5-b215-209566b945b5"
      },
      "source": [
        "The `ìnt` constructor uses truncation when a float is passed in:"
      ]
    },
    {
      "cell_type": "code",
      "execution_count": null,
      "id": "ad42cfcb-fe72-4bd3-a9d2-0311f878549c",
      "metadata": {
        "id": "ad42cfcb-fe72-4bd3-a9d2-0311f878549c",
        "outputId": "e910a0ff-6fbd-49e0-bfe9-722b1bbc5329"
      },
      "outputs": [
        {
          "data": {
            "text/plain": [
              "(10, 10, 10)"
            ]
          },
          "execution_count": 143,
          "metadata": {},
          "output_type": "execute_result"
        }
      ],
      "source": [
        "int(10.3), int(10.5), int(10.6)"
      ]
    },
    {
      "cell_type": "code",
      "execution_count": null,
      "id": "b8a065e0-8585-477f-a9cd-bb1313aaf986",
      "metadata": {
        "id": "b8a065e0-8585-477f-a9cd-bb1313aaf986",
        "outputId": "ff08e0dc-33da-43a8-e518-44886fb1eea1"
      },
      "outputs": [
        {
          "data": {
            "text/plain": [
              "(-10, -10, -10)"
            ]
          },
          "execution_count": 144,
          "metadata": {},
          "output_type": "execute_result"
        }
      ],
      "source": [
        "int(-10.5), int(-10.5), int(-10.4)"
      ]
    },
    {
      "cell_type": "markdown",
      "id": "1c0190f2-69e9-442f-9a2d-9c4515fb2b38",
      "metadata": {
        "id": "1c0190f2-69e9-442f-9a2d-9c4515fb2b38"
      },
      "source": [
        "**Floor**"
      ]
    },
    {
      "cell_type": "code",
      "execution_count": null,
      "id": "e5fe73f6-b8ec-4fab-a5a8-5930c5f867dc",
      "metadata": {
        "id": "e5fe73f6-b8ec-4fab-a5a8-5930c5f867dc"
      },
      "outputs": [],
      "source": [
        "from math import floor"
      ]
    },
    {
      "cell_type": "code",
      "execution_count": null,
      "id": "9c769b28-2f0b-40d3-858c-fa4ad47b11cd",
      "metadata": {
        "id": "9c769b28-2f0b-40d3-858c-fa4ad47b11cd",
        "outputId": "82099fcd-103a-4552-caf1-27c8644fd12a"
      },
      "outputs": [
        {
          "data": {
            "text/plain": [
              "(10, 10, 10)"
            ]
          },
          "execution_count": 146,
          "metadata": {},
          "output_type": "execute_result"
        }
      ],
      "source": [
        "floor(10.4), floor(10.5), floor(10.6)"
      ]
    },
    {
      "cell_type": "code",
      "execution_count": null,
      "id": "77cb418f-c79b-4f23-b4e0-f93325457159",
      "metadata": {
        "id": "77cb418f-c79b-4f23-b4e0-f93325457159",
        "outputId": "469b66cc-626e-41f2-88b1-efc8ee5f0d75"
      },
      "outputs": [
        {
          "data": {
            "text/plain": [
              "(-11, -11, -11)"
            ]
          },
          "execution_count": 147,
          "metadata": {},
          "output_type": "execute_result"
        }
      ],
      "source": [
        "floor(-10.4), floor(-10.5), floor(-10.6)"
      ]
    },
    {
      "cell_type": "markdown",
      "id": "a55f471b-78c0-4279-9386-ea0e2597e236",
      "metadata": {
        "id": "a55f471b-78c0-4279-9386-ea0e2597e236"
      },
      "source": [
        "**Ceiling**"
      ]
    },
    {
      "cell_type": "code",
      "execution_count": null,
      "id": "71ff9f06-cb61-425a-8c5f-13a74be9923d",
      "metadata": {
        "id": "71ff9f06-cb61-425a-8c5f-13a74be9923d"
      },
      "outputs": [],
      "source": [
        "from math import ceil"
      ]
    },
    {
      "cell_type": "code",
      "execution_count": null,
      "id": "9e2737af-0a0f-4d38-90f5-3c1c4e5b62b9",
      "metadata": {
        "id": "9e2737af-0a0f-4d38-90f5-3c1c4e5b62b9",
        "outputId": "1d9b6d2f-a135-49fa-8a1e-4f41654bce0b"
      },
      "outputs": [
        {
          "data": {
            "text/plain": [
              "(11, 11, 11)"
            ]
          },
          "execution_count": 149,
          "metadata": {},
          "output_type": "execute_result"
        }
      ],
      "source": [
        "ceil(10.4), ceil(10.5), ceil(10.6)"
      ]
    },
    {
      "cell_type": "code",
      "execution_count": null,
      "id": "2a0f55c2-bf95-4f16-ab1f-e90b5c8895b7",
      "metadata": {
        "id": "2a0f55c2-bf95-4f16-ab1f-e90b5c8895b7",
        "outputId": "8b7ff0d0-b464-408d-c804-2c211b4b7172"
      },
      "outputs": [
        {
          "data": {
            "text/plain": [
              "(-10, -10, -10)"
            ]
          },
          "execution_count": 150,
          "metadata": {},
          "output_type": "execute_result"
        }
      ],
      "source": [
        "ceil(-10.4), ceil(-10.5), ceil(-10.6)"
      ]
    },
    {
      "cell_type": "markdown",
      "id": "2fba2c6e-5b09-4429-8185-7a24ddedc9ba",
      "metadata": {
        "id": "2fba2c6e-5b09-4429-8185-7a24ddedc9ba"
      },
      "source": [
        "### 08 - Floats - Rounding"
      ]
    },
    {
      "cell_type": "code",
      "execution_count": null,
      "id": "cea298f6-04c9-4ebc-8b34-f1c2e3a9d335",
      "metadata": {
        "id": "cea298f6-04c9-4ebc-8b34-f1c2e3a9d335",
        "outputId": "10c74b89-4710-4c6d-93ee-828a4e388493"
      },
      "outputs": [
        {
          "name": "stdout",
          "output_type": "stream",
          "text": [
            "Help on built-in function round in module builtins:\n",
            "\n",
            "round(number, ndigits=None)\n",
            "    Round a number to a given precision in decimal digits.\n",
            "    \n",
            "    The return value is an integer if ndigits is omitted or None.  Otherwise\n",
            "    the return value has the same type as the number.  ndigits may be negative.\n",
            "\n"
          ]
        }
      ],
      "source": [
        "help(round)"
      ]
    },
    {
      "cell_type": "markdown",
      "id": "55f87fcb-1e02-4ad2-813b-8bdd55d4f69d",
      "metadata": {
        "id": "55f87fcb-1e02-4ad2-813b-8bdd55d4f69d"
      },
      "source": [
        "**n = 0**"
      ]
    },
    {
      "cell_type": "code",
      "execution_count": null,
      "id": "82f75a8a-6559-45bc-9049-bde134cca6b2",
      "metadata": {
        "id": "82f75a8a-6559-45bc-9049-bde134cca6b2",
        "outputId": "3a05a59e-474d-462d-e8af-b647c585b74b"
      },
      "outputs": [
        {
          "data": {
            "text/plain": [
              "(2, int)"
            ]
          },
          "execution_count": 156,
          "metadata": {},
          "output_type": "execute_result"
        }
      ],
      "source": [
        "a = round(1.5)\n",
        "a, type(a)"
      ]
    },
    {
      "cell_type": "code",
      "execution_count": null,
      "id": "c01acb3b-22d4-4b2d-9107-cdb1e149fe49",
      "metadata": {
        "id": "c01acb3b-22d4-4b2d-9107-cdb1e149fe49",
        "outputId": "eb390764-e5a1-46c2-f4e3-580988d192e6"
      },
      "outputs": [
        {
          "data": {
            "text/plain": [
              "(2.0, float)"
            ]
          },
          "execution_count": 157,
          "metadata": {},
          "output_type": "execute_result"
        }
      ],
      "source": [
        "a = round(1.5, 0)\n",
        "a, type(a)"
      ]
    },
    {
      "cell_type": "markdown",
      "id": "742c7217-cb01-4364-96d5-2ab491df8440",
      "metadata": {
        "id": "742c7217-cb01-4364-96d5-2ab491df8440"
      },
      "source": [
        "**n > 0**"
      ]
    },
    {
      "cell_type": "code",
      "execution_count": null,
      "id": "5c51f6b4-1a63-41f6-a85b-ce7d5a7591f5",
      "metadata": {
        "id": "5c51f6b4-1a63-41f6-a85b-ce7d5a7591f5",
        "outputId": "0a611ca7-edda-4358-cf6f-46d6755c5716"
      },
      "outputs": [
        {
          "data": {
            "text/plain": [
              "(1.889, 1.89, 1.9, 2.0)"
            ]
          },
          "execution_count": 158,
          "metadata": {},
          "output_type": "execute_result"
        }
      ],
      "source": [
        "round(1.8888, 3), round(1.8888, 2), round(1.8888, 1), round(1.8888, 0)"
      ]
    },
    {
      "cell_type": "markdown",
      "id": "8695a923-2a23-4535-9335-10aaeb1c579c",
      "metadata": {
        "id": "8695a923-2a23-4535-9335-10aaeb1c579c"
      },
      "source": [
        "**n < 0**"
      ]
    },
    {
      "cell_type": "code",
      "execution_count": null,
      "id": "c2355028-bf56-4b02-bff5-93530e9b60b7",
      "metadata": {
        "id": "c2355028-bf56-4b02-bff5-93530e9b60b7",
        "outputId": "6f9ab49b-3cd6-4750-9f80-c98a7ef51c4f"
      },
      "outputs": [
        {
          "data": {
            "text/plain": [
              "(888.9, 889.0, 890.0, 900.0, 1000.0)"
            ]
          },
          "execution_count": 159,
          "metadata": {},
          "output_type": "execute_result"
        }
      ],
      "source": [
        "round(888.88, 1), round(888.88, 0), \\\n",
        "round(888.88, -1), round(888.88, -2), \\\n",
        "round(888.88, -3)"
      ]
    },
    {
      "cell_type": "markdown",
      "id": "7a052e11-5239-4c0b-8a91-003ce72aa413",
      "metadata": {
        "id": "7a052e11-5239-4c0b-8a91-003ce72aa413"
      },
      "source": [
        "**Ties**"
      ]
    },
    {
      "cell_type": "code",
      "execution_count": null,
      "id": "7e33523e-8660-4f01-b8a5-22e68b87f0db",
      "metadata": {
        "id": "7e33523e-8660-4f01-b8a5-22e68b87f0db",
        "outputId": "111a1eb6-50e1-4003-bc9b-ffa2f8002af6"
      },
      "outputs": [
        {
          "data": {
            "text/plain": [
              "1.2"
            ]
          },
          "execution_count": 160,
          "metadata": {},
          "output_type": "execute_result"
        }
      ],
      "source": [
        "round(1.25, 1)"
      ]
    },
    {
      "cell_type": "code",
      "execution_count": null,
      "id": "e4fe69c8-1e18-4996-aafe-9f0e18cc1bf6",
      "metadata": {
        "id": "e4fe69c8-1e18-4996-aafe-9f0e18cc1bf6",
        "outputId": "923df565-8631-4f40-8482-3689c9c845f6"
      },
      "outputs": [
        {
          "data": {
            "text/plain": [
              "1.4"
            ]
          },
          "execution_count": 161,
          "metadata": {},
          "output_type": "execute_result"
        }
      ],
      "source": [
        "round(1.35, 1)"
      ]
    },
    {
      "cell_type": "markdown",
      "id": "4e415b32-81c1-4353-9d6f-53d34fa1cb18",
      "metadata": {
        "id": "4e415b32-81c1-4353-9d6f-53d34fa1cb18"
      },
      "source": [
        "This is rounding to nearest, with ties to nearest number with even least significant digit, ake Banker's Rounding.\n",
        "\n",
        "Works similarly with n negative."
      ]
    },
    {
      "cell_type": "code",
      "execution_count": null,
      "id": "69f240d4-d2dd-4132-8232-975b1a19d4e4",
      "metadata": {
        "id": "69f240d4-d2dd-4132-8232-975b1a19d4e4",
        "outputId": "797efba2-61bf-4e3c-ff84-3c1583cde82d"
      },
      "outputs": [
        {
          "data": {
            "text/plain": [
              "20"
            ]
          },
          "execution_count": 163,
          "metadata": {},
          "output_type": "execute_result"
        }
      ],
      "source": [
        "round(15, -1)"
      ]
    },
    {
      "cell_type": "code",
      "execution_count": null,
      "id": "93958c38-27ed-4177-9ca1-6e2440e6776a",
      "metadata": {
        "id": "93958c38-27ed-4177-9ca1-6e2440e6776a",
        "outputId": "bdead740-ad0e-4a1b-e4ec-a5e5253363e5"
      },
      "outputs": [
        {
          "data": {
            "text/plain": [
              "20"
            ]
          },
          "execution_count": 164,
          "metadata": {},
          "output_type": "execute_result"
        }
      ],
      "source": [
        "round(25, -1)"
      ]
    },
    {
      "cell_type": "markdown",
      "id": "fdc2a534-f7bc-4230-ac36-d2e6bde4109a",
      "metadata": {
        "id": "fdc2a534-f7bc-4230-ac36-d2e6bde4109a"
      },
      "source": [
        "---\n",
        "\n",
        "**BE CAREFUL!**"
      ]
    },
    {
      "cell_type": "markdown",
      "id": "794a9224-b4bc-4d92-ae90-fecc2dba4faa",
      "metadata": {
        "id": "794a9224-b4bc-4d92-ae90-fecc2dba4faa"
      },
      "source": [
        "**Rounding to closest, ties away from zero**"
      ]
    },
    {
      "cell_type": "markdown",
      "id": "3b2b38b8-cd63-45e9-8394-3e9c3652d445",
      "metadata": {
        "id": "3b2b38b8-cd63-45e9-8394-3e9c3652d445"
      },
      "source": [
        "*This is traditionally the type of rounding taught in school, which is different from the Banker's Rounding implemented in Python (and in many other programming languages)*\n",
        "\n",
        "*This is rounding to nearest even number.*\n",
        "\n",
        "1.5 --> 2\n",
        "\n",
        "2.5 --> 3\n",
        "\n",
        "-1.5 --> -2\n",
        "-2.5 --> -3"
      ]
    },
    {
      "cell_type": "markdown",
      "id": "9baaa8b4-0ba5-4a6d-a091-1306b87273f1",
      "metadata": {
        "id": "9baaa8b4-0ba5-4a6d-a091-1306b87273f1"
      },
      "source": [
        "To do this thepe of rounding (to nearest 1) we can add (for positive numbers) or subtract (for negative numbers) 0.5 and then truncate the resulting number."
      ]
    },
    {
      "cell_type": "code",
      "execution_count": null,
      "id": "ab6baa64-4063-4fb9-b4b7-94e4d0591652",
      "metadata": {
        "id": "ab6baa64-4063-4fb9-b4b7-94e4d0591652"
      },
      "outputs": [],
      "source": [
        "def _round(x):\n",
        "    from math import copysign\n",
        "    return int(x + 0.5 * copysign(1, x))"
      ]
    },
    {
      "cell_type": "code",
      "execution_count": null,
      "id": "9824bd61-cc3f-4058-9043-67dbb69de4d6",
      "metadata": {
        "id": "9824bd61-cc3f-4058-9043-67dbb69de4d6",
        "outputId": "d029d18d-e686-4ac4-b726-afaaa3973cb1"
      },
      "outputs": [
        {
          "data": {
            "text/plain": [
              "(2, 2)"
            ]
          },
          "execution_count": 167,
          "metadata": {},
          "output_type": "execute_result"
        }
      ],
      "source": [
        "round(1.5), _round(1.5)"
      ]
    },
    {
      "cell_type": "code",
      "execution_count": null,
      "id": "4a0db247-569b-43d3-ac45-72a120bb42a3",
      "metadata": {
        "id": "4a0db247-569b-43d3-ac45-72a120bb42a3",
        "outputId": "5c180ff5-6826-423c-9b24-a00999a69e54"
      },
      "outputs": [
        {
          "data": {
            "text/plain": [
              "(2, 3)"
            ]
          },
          "execution_count": 168,
          "metadata": {},
          "output_type": "execute_result"
        }
      ],
      "source": [
        "round(2.5), _round(2.5)"
      ]
    },
    {
      "cell_type": "markdown",
      "id": "40799eb1-fd1e-45de-8a46-bf0715bfccd0",
      "metadata": {
        "id": "40799eb1-fd1e-45de-8a46-bf0715bfccd0"
      },
      "source": [
        "### 09 - Decimals"
      ]
    },
    {
      "cell_type": "code",
      "execution_count": null,
      "id": "7273c102-d84f-4f4c-a93e-046f4e9fe2c5",
      "metadata": {
        "id": "7273c102-d84f-4f4c-a93e-046f4e9fe2c5"
      },
      "outputs": [],
      "source": [
        "import decimal"
      ]
    },
    {
      "cell_type": "code",
      "execution_count": null,
      "id": "f4c267c6-90e8-4e51-8ae5-de3afa04817c",
      "metadata": {
        "id": "f4c267c6-90e8-4e51-8ae5-de3afa04817c"
      },
      "outputs": [],
      "source": [
        "from decimal import Decimal"
      ]
    },
    {
      "cell_type": "markdown",
      "id": "c410146e-56b9-4283-80f0-1f9ef63ccd87",
      "metadata": {
        "id": "c410146e-56b9-4283-80f0-1f9ef63ccd87"
      },
      "source": [
        "Decimals have context, that can be used to specify rounding and precision (amongst other things)\n",
        "\n",
        "Contexts can be local (temporary contexts) or global (default)"
      ]
    },
    {
      "cell_type": "markdown",
      "id": "561229df-bb36-4f68-8a54-c863e38c0064",
      "metadata": {
        "id": "561229df-bb36-4f68-8a54-c863e38c0064"
      },
      "source": [
        "**Global Context**"
      ]
    },
    {
      "cell_type": "code",
      "execution_count": null,
      "id": "91edf605-82ea-47d3-8bcc-519bd982b2fc",
      "metadata": {
        "id": "91edf605-82ea-47d3-8bcc-519bd982b2fc"
      },
      "outputs": [],
      "source": [
        "g_ctx = decimal.getcontext()"
      ]
    },
    {
      "cell_type": "code",
      "execution_count": null,
      "id": "d5f1275b-08da-43d0-9aeb-8f78cd1238d1",
      "metadata": {
        "id": "d5f1275b-08da-43d0-9aeb-8f78cd1238d1",
        "outputId": "cec8771c-3c34-4d69-8235-1ccd7817d42e"
      },
      "outputs": [
        {
          "data": {
            "text/plain": [
              "28"
            ]
          },
          "execution_count": 172,
          "metadata": {},
          "output_type": "execute_result"
        }
      ],
      "source": [
        "g_ctx.prec"
      ]
    },
    {
      "cell_type": "code",
      "execution_count": null,
      "id": "b93a87b5-846a-47e9-84b4-4db3689fd57a",
      "metadata": {
        "id": "b93a87b5-846a-47e9-84b4-4db3689fd57a"
      },
      "outputs": [],
      "source": [
        "g_ctx.prec = 6"
      ]
    },
    {
      "cell_type": "code",
      "execution_count": null,
      "id": "feb7ba11-989e-4ce5-a817-cef1938df942",
      "metadata": {
        "id": "feb7ba11-989e-4ce5-a817-cef1938df942"
      },
      "outputs": [],
      "source": [
        "g_ctx.rounding = decimal.ROUND_HALF_UP"
      ]
    },
    {
      "cell_type": "markdown",
      "id": "4e2a3833-8637-48ab-91d6-1d7091315247",
      "metadata": {
        "id": "4e2a3833-8637-48ab-91d6-1d7091315247"
      },
      "source": [
        "And if we read this back directly from the global context:"
      ]
    },
    {
      "cell_type": "code",
      "execution_count": null,
      "id": "72ce8dc0-f1e2-43e9-a459-d43bf07d9395",
      "metadata": {
        "id": "72ce8dc0-f1e2-43e9-a459-d43bf07d9395",
        "outputId": "8c1a382e-06e7-48b7-8c53-bd2979c05744"
      },
      "outputs": [
        {
          "data": {
            "text/plain": [
              "6"
            ]
          },
          "execution_count": 175,
          "metadata": {},
          "output_type": "execute_result"
        }
      ],
      "source": [
        "decimal.getcontext().prec"
      ]
    },
    {
      "cell_type": "code",
      "execution_count": null,
      "id": "f46b351b-dcff-47f0-8c6d-e8466e7266b3",
      "metadata": {
        "id": "f46b351b-dcff-47f0-8c6d-e8466e7266b3",
        "outputId": "5b21f223-bdf7-4b22-ff1a-ce2c2e1957ab"
      },
      "outputs": [
        {
          "data": {
            "text/plain": [
              "'ROUND_HALF_UP'"
            ]
          },
          "execution_count": 176,
          "metadata": {},
          "output_type": "execute_result"
        }
      ],
      "source": [
        "decimal.getcontext().rounding"
      ]
    },
    {
      "cell_type": "markdown",
      "id": "e6719d89-351f-4ac4-ace5-e3633edf6062",
      "metadata": {
        "id": "e6719d89-351f-4ac4-ace5-e3633edf6062"
      },
      "source": [
        "we see that the global context was indeed changed."
      ]
    },
    {
      "cell_type": "markdown",
      "id": "d00ffb87-0e64-42da-8445-8402ea652414",
      "metadata": {
        "id": "d00ffb87-0e64-42da-8445-8402ea652414"
      },
      "source": [
        "**Local Context**"
      ]
    },
    {
      "cell_type": "markdown",
      "id": "55b76fbd-8d98-4e9d-9da1-b46a45cfa512",
      "metadata": {
        "id": "55b76fbd-8d98-4e9d-9da1-b46a45cfa512"
      },
      "source": [
        "The `localcontext()` function will return a context manager thar we can use with a `with` statement:"
      ]
    },
    {
      "cell_type": "code",
      "execution_count": null,
      "id": "c9a3b65a-9199-47ff-8693-0bb763c1f76a",
      "metadata": {
        "id": "c9a3b65a-9199-47ff-8693-0bb763c1f76a",
        "outputId": "941f0f46-6d61-4c72-e74a-bcb8e4ac455a"
      },
      "outputs": [
        {
          "name": "stdout",
          "output_type": "stream",
          "text": [
            "6\n",
            "ROUND_HALF_UP\n"
          ]
        }
      ],
      "source": [
        "with decimal.localcontext() as ctx:\n",
        "    print(ctx.prec)\n",
        "    print(ctx.rounding)"
      ]
    },
    {
      "cell_type": "markdown",
      "id": "f7377e8d-694d-4a72-be09-3c36eee64678",
      "metadata": {
        "id": "f7377e8d-694d-4a72-be09-3c36eee64678"
      },
      "source": [
        "Since no argument was specified in the `localcontext()` call, it provides us a context manager that uses a copy of the global context.\n",
        "\n",
        "Modifying the local context has no effect on the global context."
      ]
    },
    {
      "cell_type": "code",
      "execution_count": null,
      "id": "adfddecc-b13d-4e2e-bea9-a461abe233d4",
      "metadata": {
        "id": "adfddecc-b13d-4e2e-bea9-a461abe233d4",
        "outputId": "ffda2a3e-98a8-4e17-df95-bbf15a83c346"
      },
      "outputs": [
        {
          "name": "stdout",
          "output_type": "stream",
          "text": [
            "local prec = 10, global prec = 6\n"
          ]
        }
      ],
      "source": [
        "with decimal.localcontext() as ctx:\n",
        "    ctx.prec = 10\n",
        "    print('local prec = {0}, global prec = {1}'.format(ctx.prec, g_ctx.prec))"
      ]
    },
    {
      "cell_type": "markdown",
      "id": "00404736-822f-4ebf-9af8-d448f9c0ae8f",
      "metadata": {
        "id": "00404736-822f-4ebf-9af8-d448f9c0ae8f"
      },
      "source": [
        "**Rounding**"
      ]
    },
    {
      "cell_type": "code",
      "execution_count": null,
      "id": "6bbdad14-a0bd-4081-ba22-2bc661e86b3d",
      "metadata": {
        "id": "6bbdad14-a0bd-4081-ba22-2bc661e86b3d",
        "outputId": "c14091b2-2a0e-44e8-ca6a-9797294c40a1"
      },
      "outputs": [
        {
          "data": {
            "text/plain": [
              "'ROUND_HALF_UP'"
            ]
          },
          "execution_count": 180,
          "metadata": {},
          "output_type": "execute_result"
        }
      ],
      "source": [
        "decimal.getcontext().rounding"
      ]
    },
    {
      "cell_type": "markdown",
      "id": "3ab3e9f2-8a3f-4d5b-9ba8-751a3df1f6d7",
      "metadata": {
        "id": "3ab3e9f2-8a3f-4d5b-9ba8-751a3df1f6d7"
      },
      "source": [
        "The rounding mechanism is ROUND_HALF_UP because we set the global context to that earlier in this notebook. Note that normally the default is ROUND_HALF_EVEN.\n",
        "\n",
        "So we first reset our global context rounding to that:"
      ]
    },
    {
      "cell_type": "code",
      "execution_count": null,
      "id": "9ed26182-f8af-4b1e-a0bd-36a326dc2162",
      "metadata": {
        "id": "9ed26182-f8af-4b1e-a0bd-36a326dc2162"
      },
      "outputs": [],
      "source": [
        "decimal.getcontext().rounding = decimal.ROUND_HALF_EVEN"
      ]
    },
    {
      "cell_type": "code",
      "execution_count": null,
      "id": "fce4d929-d2c3-4f73-b8cf-e120efc6362e",
      "metadata": {
        "id": "fce4d929-d2c3-4f73-b8cf-e120efc6362e",
        "outputId": "3f5c78b0-d492-4c84-b1f5-deb2c8dcd4d6"
      },
      "outputs": [
        {
          "name": "stdout",
          "output_type": "stream",
          "text": [
            "1.2\n",
            "1.4\n"
          ]
        }
      ],
      "source": [
        "x = Decimal('1.25')\n",
        "y = Decimal('1.35')\n",
        "print(round(x, 1))\n",
        "print(round(y, 1))"
      ]
    },
    {
      "cell_type": "markdown",
      "id": "71dceab9-2946-47e2-bf5a-b62ffc038006",
      "metadata": {
        "id": "71dceab9-2946-47e2-bf5a-b62ffc038006"
      },
      "source": [
        "Let's change the rounding mechanism in the global context to ROUND_HALF_UP"
      ]
    },
    {
      "cell_type": "code",
      "execution_count": null,
      "id": "38e87438-2b90-4e8b-870f-a0067fce6374",
      "metadata": {
        "id": "38e87438-2b90-4e8b-870f-a0067fce6374"
      },
      "outputs": [],
      "source": [
        "decimal.getcontext().rounding = decimal.ROUND_HALF_UP"
      ]
    },
    {
      "cell_type": "code",
      "execution_count": null,
      "id": "56c14f1c-1438-40af-9b70-951a84f719b3",
      "metadata": {
        "id": "56c14f1c-1438-40af-9b70-951a84f719b3",
        "outputId": "9e6503bc-bbeb-43cd-b18c-e13b72e18c70"
      },
      "outputs": [
        {
          "name": "stdout",
          "output_type": "stream",
          "text": [
            "1.3\n",
            "1.4\n"
          ]
        }
      ],
      "source": [
        "x = Decimal('1.25')\n",
        "y = Decimal('1.35')\n",
        "print(round(x, 1))\n",
        "print(round(y, 1))"
      ]
    },
    {
      "cell_type": "markdown",
      "id": "cb028e6c-7d18-40e7-a4ab-d8ea9c6fc5e1",
      "metadata": {
        "id": "cb028e6c-7d18-40e7-a4ab-d8ea9c6fc5e1"
      },
      "source": [
        "As you may have realized, changing the global context is a pain if you need to constantly switch between precisions and rounding algorithms. Also, it could introduce bugs if you forget that you changed the global context somewhere further up in your module.\n",
        "\n",
        "For this reason, it is usually better to use a local context manager instead:\n",
        "\n",
        "First we reset our global context rounding to the default:"
      ]
    },
    {
      "cell_type": "code",
      "execution_count": null,
      "id": "e242782b-b96e-4d3d-a59f-55017bb7d9d1",
      "metadata": {
        "id": "e242782b-b96e-4d3d-a59f-55017bb7d9d1"
      },
      "outputs": [],
      "source": [
        "decimal.getcontext().rounding = decimal.ROUND_HALF_EVEN"
      ]
    },
    {
      "cell_type": "code",
      "execution_count": null,
      "id": "6444b44f-285e-44cf-bbff-a3140cb4e2f0",
      "metadata": {
        "id": "6444b44f-285e-44cf-bbff-a3140cb4e2f0",
        "outputId": "9b27a2d7-979c-45c5-c110-8467b42ede05"
      },
      "outputs": [
        {
          "name": "stdout",
          "output_type": "stream",
          "text": [
            "1.2 1.4\n",
            "1.3 1.4\n",
            "1.2 1.4\n"
          ]
        }
      ],
      "source": [
        "from string import ascii_letters\n",
        "x = Decimal('1.25')\n",
        "y = Decimal('1.35')\n",
        "print(round(x, 1), round(y, 1))\n",
        "with decimal.localcontext() as ctx:\n",
        "    ctx.rounding = decimal.ROUND_HALF_UP\n",
        "    print(round(x, 1), round(y, 1))\n",
        "print(round(x, 1), round(y, 1))"
      ]
    },
    {
      "cell_type": "markdown",
      "id": "3ef7d408-3f49-4a4e-87c8-7a2278d0b4fa",
      "metadata": {
        "id": "3ef7d408-3f49-4a4e-87c8-7a2278d0b4fa"
      },
      "source": [
        "### 10 - Decimals - Constructors and Contexts"
      ]
    },
    {
      "cell_type": "markdown",
      "id": "2f93497e-5851-4e7b-9a53-bffaf898b117",
      "metadata": {
        "id": "2f93497e-5851-4e7b-9a53-bffaf898b117"
      },
      "source": [
        "The `Decimal` constructor can handle a variety of data types."
      ]
    },
    {
      "cell_type": "code",
      "execution_count": null,
      "id": "e14b1ddc-fec9-49cf-9e0a-4b48970d111c",
      "metadata": {
        "id": "e14b1ddc-fec9-49cf-9e0a-4b48970d111c"
      },
      "outputs": [],
      "source": [
        "import decimal\n",
        "from decimal import Decimal"
      ]
    },
    {
      "cell_type": "markdown",
      "id": "d43ff2ef-6427-44ad-9fbe-51b02f0769f6",
      "metadata": {
        "id": "d43ff2ef-6427-44ad-9fbe-51b02f0769f6"
      },
      "source": [
        "**Integers**"
      ]
    },
    {
      "cell_type": "code",
      "execution_count": null,
      "id": "abb82899-31ed-44dc-848e-d29b5cb3cfb9",
      "metadata": {
        "id": "abb82899-31ed-44dc-848e-d29b5cb3cfb9",
        "outputId": "be59ac77-60f7-4620-fbbd-cf4a5a20b0bc"
      },
      "outputs": [
        {
          "data": {
            "text/plain": [
              "Decimal('10')"
            ]
          },
          "execution_count": 189,
          "metadata": {},
          "output_type": "execute_result"
        }
      ],
      "source": [
        "Decimal(10)"
      ]
    },
    {
      "cell_type": "code",
      "execution_count": null,
      "id": "250b31fd-d45c-4407-9bf6-e7120194353e",
      "metadata": {
        "id": "250b31fd-d45c-4407-9bf6-e7120194353e",
        "outputId": "03ce53e1-158e-4a39-ac4b-f495f7f3acb2"
      },
      "outputs": [
        {
          "data": {
            "text/plain": [
              "Decimal('-10')"
            ]
          },
          "execution_count": 190,
          "metadata": {},
          "output_type": "execute_result"
        }
      ],
      "source": [
        "Decimal(-10)"
      ]
    },
    {
      "cell_type": "markdown",
      "id": "352eb705-e739-4ff6-a076-480a2ee65f5d",
      "metadata": {
        "id": "352eb705-e739-4ff6-a076-480a2ee65f5d"
      },
      "source": [
        "**Strings**"
      ]
    },
    {
      "cell_type": "code",
      "execution_count": null,
      "id": "5993a8a7-7c31-4b48-aea0-0fdb2ba3da58",
      "metadata": {
        "id": "5993a8a7-7c31-4b48-aea0-0fdb2ba3da58",
        "outputId": "bf57144a-1af1-4ecd-b0fd-1361e1adfc0f"
      },
      "outputs": [
        {
          "data": {
            "text/plain": [
              "Decimal('0.1')"
            ]
          },
          "execution_count": 192,
          "metadata": {},
          "output_type": "execute_result"
        }
      ],
      "source": [
        "Decimal('0.1')"
      ]
    },
    {
      "cell_type": "code",
      "execution_count": null,
      "id": "a95f89e4-d324-4bab-b282-b9c11060ea1e",
      "metadata": {
        "id": "a95f89e4-d324-4bab-b282-b9c11060ea1e",
        "outputId": "5a71e77c-cb6f-4432-f70a-8f955180b957"
      },
      "outputs": [
        {
          "data": {
            "text/plain": [
              "Decimal('-3.1415')"
            ]
          },
          "execution_count": 193,
          "metadata": {},
          "output_type": "execute_result"
        }
      ],
      "source": [
        "Decimal('-3.1415')"
      ]
    },
    {
      "cell_type": "markdown",
      "id": "801a7310-aef8-416b-b9f0-042638363b52",
      "metadata": {
        "id": "801a7310-aef8-416b-b9f0-042638363b52"
      },
      "source": [
        "**Tuples**"
      ]
    },
    {
      "cell_type": "code",
      "execution_count": null,
      "id": "c663a9d2-5511-4b30-8548-8c552216f610",
      "metadata": {
        "id": "c663a9d2-5511-4b30-8548-8c552216f610",
        "outputId": "033be75c-3b34-4eb1-b892-43f6976f5841"
      },
      "outputs": [
        {
          "data": {
            "text/plain": [
              "Decimal('3.1414')"
            ]
          },
          "execution_count": 194,
          "metadata": {},
          "output_type": "execute_result"
        }
      ],
      "source": [
        "Decimal((0, (3,1,4,1,4), -4))"
      ]
    },
    {
      "cell_type": "code",
      "execution_count": null,
      "id": "88c38059-187a-4121-b64d-26c4b745abc5",
      "metadata": {
        "id": "88c38059-187a-4121-b64d-26c4b745abc5",
        "outputId": "660fa535-253c-4bee-ee8d-c736a6fb6c2f"
      },
      "outputs": [
        {
          "data": {
            "text/plain": [
              "Decimal('-1.234')"
            ]
          },
          "execution_count": 195,
          "metadata": {},
          "output_type": "execute_result"
        }
      ],
      "source": [
        "Decimal((1, (1,2,3,4), -3))"
      ]
    },
    {
      "cell_type": "code",
      "execution_count": null,
      "id": "d2d0a8ee-4ff9-4e77-9ffc-bcdf312cefa0",
      "metadata": {
        "id": "d2d0a8ee-4ff9-4e77-9ffc-bcdf312cefa0",
        "outputId": "99b8af44-5a0a-4e7b-d8ea-1d92434654b3"
      },
      "outputs": [
        {
          "data": {
            "text/plain": [
              "Decimal('1.23E+5')"
            ]
          },
          "execution_count": 196,
          "metadata": {},
          "output_type": "execute_result"
        }
      ],
      "source": [
        "Decimal((0, (1,2,3), 3))"
      ]
    },
    {
      "cell_type": "markdown",
      "id": "b27aeb02-2436-42e9-ad00-09c97a202a36",
      "metadata": {
        "id": "b27aeb02-2436-42e9-ad00-09c97a202a36"
      },
      "source": [
        "---\n",
        "\n",
        "**BE CAREFUL!**"
      ]
    },
    {
      "cell_type": "markdown",
      "id": "7c064fd1-d1c7-43e5-8d08-6a140837e80c",
      "metadata": {
        "id": "7c064fd1-d1c7-43e5-8d08-6a140837e80c"
      },
      "source": [
        "*Tuple components are sign=0, digits=(3,1,4,1,4), exponent=-4 but we don't use parameters with this key=value format.*\n",
        "\n",
        "`Decimal((0, (3,1,4,1,4), -4))`"
      ]
    },
    {
      "cell_type": "markdown",
      "id": "cf523319-cba8-4c9f-bbce-4b3bd54f497e",
      "metadata": {
        "id": "cf523319-cba8-4c9f-bbce-4b3bd54f497e"
      },
      "source": [
        "---\n",
        "\n",
        "**BE CAREFUL!**"
      ]
    },
    {
      "cell_type": "markdown",
      "id": "2badd568-464d-41fe-987d-761a40e72995",
      "metadata": {
        "id": "2badd568-464d-41fe-987d-761a40e72995"
      },
      "source": [
        "**But don't use Floats**"
      ]
    },
    {
      "cell_type": "code",
      "execution_count": null,
      "id": "3a88430e-8b5b-4239-9aca-2dd59a306cce",
      "metadata": {
        "id": "3a88430e-8b5b-4239-9aca-2dd59a306cce",
        "outputId": "20a98be7-84ad-4bf8-a5ce-84abd5b0a6c9"
      },
      "outputs": [
        {
          "data": {
            "text/plain": [
              "'0.1000000000000000055511151'"
            ]
          },
          "execution_count": 198,
          "metadata": {},
          "output_type": "execute_result"
        }
      ],
      "source": [
        "format(0.1, '.25f')"
      ]
    },
    {
      "cell_type": "code",
      "execution_count": null,
      "id": "c5f77bd3-ed52-4528-9e65-6c0043604a9a",
      "metadata": {
        "id": "c5f77bd3-ed52-4528-9e65-6c0043604a9a",
        "outputId": "95440e48-af78-4c2d-906f-1f2b4cacbdc4"
      },
      "outputs": [
        {
          "data": {
            "text/plain": [
              "Decimal('0.1000000000000000055511151231257827021181583404541015625')"
            ]
          },
          "execution_count": 199,
          "metadata": {},
          "output_type": "execute_result"
        }
      ],
      "source": [
        "Decimal(0.1)"
      ]
    },
    {
      "cell_type": "markdown",
      "id": "8d485ccf-a387-43ad-b688-1c8739251511",
      "metadata": {
        "id": "8d485ccf-a387-43ad-b688-1c8739251511"
      },
      "source": [
        "As you can see, since we passed an approximate binary float to the Decimal constructor it did it's best to represent that binary float exactly!!\n",
        "\n",
        "So, instead, use strings or tuples in the Decimal constructor."
      ]
    },
    {
      "cell_type": "markdown",
      "id": "8042ad50-1a47-46ba-89c4-6be5e2a7e68d",
      "metadata": {
        "id": "8042ad50-1a47-46ba-89c4-6be5e2a7e68d"
      },
      "source": [
        "**Context Precision and the Constructor**"
      ]
    },
    {
      "cell_type": "markdown",
      "id": "e14c1cb6-16a6-4249-9d9d-992ec724fb88",
      "metadata": {
        "id": "e14c1cb6-16a6-4249-9d9d-992ec724fb88"
      },
      "source": [
        "The context precision does not affect the precision used when creating a Decimal object - those are independent of each other.\n",
        "\n",
        "Let's set our global (default) context to a precision of 2"
      ]
    },
    {
      "cell_type": "code",
      "execution_count": null,
      "id": "542b9b7e-a210-46dd-9fa1-fc53f90cc8a0",
      "metadata": {
        "id": "542b9b7e-a210-46dd-9fa1-fc53f90cc8a0"
      },
      "outputs": [],
      "source": [
        "decimal.getcontext().prec = 2"
      ]
    },
    {
      "cell_type": "markdown",
      "id": "39317e84-4638-4d28-96fe-caca12b22031",
      "metadata": {
        "id": "39317e84-4638-4d28-96fe-caca12b22031"
      },
      "source": [
        "Now we can create decimal numbers of higher precision than that:"
      ]
    },
    {
      "cell_type": "code",
      "execution_count": null,
      "id": "c72a7ff1-2a99-4899-8939-d49c8b5690ac",
      "metadata": {
        "id": "c72a7ff1-2a99-4899-8939-d49c8b5690ac"
      },
      "outputs": [],
      "source": [
        "a = Decimal('0.12345')\n",
        "b = Decimal('0.12345')"
      ]
    },
    {
      "cell_type": "code",
      "execution_count": null,
      "id": "1683b2d3-d73b-43c3-a718-80d15efcae0c",
      "metadata": {
        "id": "1683b2d3-d73b-43c3-a718-80d15efcae0c",
        "outputId": "7e8d662b-a511-4fc7-bd4b-20dcb8521fc9"
      },
      "outputs": [
        {
          "data": {
            "text/plain": [
              "Decimal('0.12345')"
            ]
          },
          "execution_count": 202,
          "metadata": {},
          "output_type": "execute_result"
        }
      ],
      "source": [
        "a"
      ]
    },
    {
      "cell_type": "code",
      "execution_count": null,
      "id": "4430b4ea-acf0-4358-b45f-6de3e50ec317",
      "metadata": {
        "id": "4430b4ea-acf0-4358-b45f-6de3e50ec317",
        "outputId": "27e2633e-2354-4823-a444-eb862cd4e1c9"
      },
      "outputs": [
        {
          "data": {
            "text/plain": [
              "Decimal('0.12345')"
            ]
          },
          "execution_count": 203,
          "metadata": {},
          "output_type": "execute_result"
        }
      ],
      "source": [
        "b"
      ]
    },
    {
      "cell_type": "markdown",
      "id": "6268d908-ac2b-45d9-837d-03f12c980277",
      "metadata": {
        "id": "6268d908-ac2b-45d9-837d-03f12c980277"
      },
      "source": [
        "But when we add those two numbers up, the context precision will matter:"
      ]
    },
    {
      "cell_type": "code",
      "execution_count": null,
      "id": "59975557-957d-4330-8bbd-5fe595d5e5c2",
      "metadata": {
        "id": "59975557-957d-4330-8bbd-5fe595d5e5c2",
        "outputId": "9f3f93a6-e6a6-4006-ead1-3a213f6a8d43"
      },
      "outputs": [
        {
          "data": {
            "text/plain": [
              "Decimal('0.25')"
            ]
          },
          "execution_count": 204,
          "metadata": {},
          "output_type": "execute_result"
        }
      ],
      "source": [
        "decimal.getcontext().prec = 2\n",
        "a + b"
      ]
    },
    {
      "cell_type": "markdown",
      "id": "31f35cc4-005a-4e8a-9c7c-cb3ce5dfc6ab",
      "metadata": {
        "id": "31f35cc4-005a-4e8a-9c7c-cb3ce5dfc6ab"
      },
      "source": [
        "As you can see, we ended up with a sum that was rounded to 2 digits after the decimal point (precision = 2)"
      ]
    },
    {
      "cell_type": "markdown",
      "id": "2c678f26-8c6a-4e90-88ba-74f0d074857a",
      "metadata": {
        "id": "2c678f26-8c6a-4e90-88ba-74f0d074857a"
      },
      "source": [
        "**Local and Global Contexts are Independent**"
      ]
    },
    {
      "cell_type": "code",
      "execution_count": null,
      "id": "e494c95f-a3a4-4ce3-bdec-376ce3e66e9b",
      "metadata": {
        "id": "e494c95f-a3a4-4ce3-bdec-376ce3e66e9b"
      },
      "outputs": [],
      "source": [
        "decimal.getcontext().prec = 6"
      ]
    },
    {
      "cell_type": "code",
      "execution_count": null,
      "id": "7d2fe395-98e9-4d8e-99c5-21463a5f0450",
      "metadata": {
        "id": "7d2fe395-98e9-4d8e-99c5-21463a5f0450",
        "outputId": "ee980a27-4f89-4b81-fefe-74be751ce245"
      },
      "outputs": [
        {
          "data": {
            "text/plain": [
              "'ROUND_HALF_EVEN'"
            ]
          },
          "execution_count": 206,
          "metadata": {},
          "output_type": "execute_result"
        }
      ],
      "source": [
        "decimal.getcontext().rounding"
      ]
    },
    {
      "cell_type": "code",
      "execution_count": null,
      "id": "cf165e6b-9d43-4ba1-9d4c-4393e5759ebd",
      "metadata": {
        "id": "cf165e6b-9d43-4ba1-9d4c-4393e5759ebd",
        "outputId": "8b71837a-2a47-44f3-ec57-91e12bf51c37"
      },
      "outputs": [
        {
          "name": "stdout",
          "output_type": "stream",
          "text": [
            "0.24690\n",
            "c within local context: 0.25\n",
            "c within global context: 0.25\n"
          ]
        }
      ],
      "source": [
        "a = Decimal('0.12345')\n",
        "b = Decimal('0.12345')\n",
        "print(a + b)\n",
        "with decimal.localcontext() as ctx:\n",
        "    ctx.prec = 2\n",
        "    c = a + b\n",
        "    print('c within local context: {0}'.format(c))\n",
        "print('c within global context: {0}'.format(c))"
      ]
    },
    {
      "cell_type": "markdown",
      "id": "1e3ab0b6-cff2-452c-983b-a0246c3ec8f9",
      "metadata": {
        "id": "1e3ab0b6-cff2-452c-983b-a0246c3ec8f9"
      },
      "source": [
        "Since c was created within the local context by adding a and b, and the local context had a precision of 2, c was rounded to 2 digits after the decimal point.\n",
        "\n",
        "Once the local context is destroyed (after the with block), the variable c still exists, and its precision is still just 2 - it doesn't magically suddenly get the global context's precision of 6."
      ]
    },
    {
      "cell_type": "markdown",
      "id": "6a340c51-05e6-482c-b798-6e6464ef2750",
      "metadata": {
        "id": "6a340c51-05e6-482c-b798-6e6464ef2750"
      },
      "source": [
        "### 11 - Decimals - Math Operations"
      ]
    },
    {
      "cell_type": "markdown",
      "id": "cf0717bc-6a29-4855-9866-27a51842ca5a",
      "metadata": {
        "id": "cf0717bc-6a29-4855-9866-27a51842ca5a"
      },
      "source": [
        "**Div and Mod**"
      ]
    },
    {
      "cell_type": "markdown",
      "id": "0b620d67-e703-46d0-882a-2c1b50bfb3b4",
      "metadata": {
        "id": "0b620d67-e703-46d0-882a-2c1b50bfb3b4"
      },
      "source": [
        "The `//` and `%` operators (and consequently, the `divmod()` function) behave differently for integers and Decimals.\n",
        "\n",
        "Thi is because integer division for Decimals is performed differently, and results in a truncated division, whereas integers use a floored division.\n",
        "\n",
        "These differences are only when negative number are involved. If all numbers involved are positive, then integer and Decimal div and mod operations are equal.\n",
        "\n",
        "But in both cases the `//` and `%` operators satisfy the equation:\n",
        "\n",
        "`n = d * (n //d ) + (n % d)`"
      ]
    },
    {
      "cell_type": "code",
      "execution_count": null,
      "id": "f29dd334-f6ba-4b83-98c8-682973bcf16d",
      "metadata": {
        "id": "f29dd334-f6ba-4b83-98c8-682973bcf16d"
      },
      "outputs": [],
      "source": [
        "import decimal\n",
        "from decimal import Decimal"
      ]
    },
    {
      "cell_type": "code",
      "execution_count": null,
      "id": "bd493a16-9625-4c47-b7d9-b910aed00ffc",
      "metadata": {
        "id": "bd493a16-9625-4c47-b7d9-b910aed00ffc",
        "outputId": "62c662b4-d4d2-432d-f816-8760d92f7797"
      },
      "outputs": [
        {
          "name": "stdout",
          "output_type": "stream",
          "text": [
            "3 1\n",
            "(3, 1)\n",
            "True\n"
          ]
        }
      ],
      "source": [
        "x = 10\n",
        "y = 3\n",
        "print(x//y, x%y)\n",
        "print(divmod(x, y))\n",
        "print( x ==  y * (x//y) + x % y)"
      ]
    },
    {
      "cell_type": "code",
      "execution_count": null,
      "id": "ec5e7d25-642e-46a8-bbec-45d568d8edce",
      "metadata": {
        "id": "ec5e7d25-642e-46a8-bbec-45d568d8edce",
        "outputId": "e2bd3d3d-2cd1-4a37-9e10-6961e504b286"
      },
      "outputs": [
        {
          "name": "stdout",
          "output_type": "stream",
          "text": [
            "3 1\n",
            "(Decimal('3'), Decimal('1'))\n",
            "True\n"
          ]
        }
      ],
      "source": [
        "a = Decimal('10')\n",
        "b = Decimal('3')\n",
        "print(a//b, a%b)\n",
        "print(divmod(a,b))\n",
        "print( a == b * (a//b) + a % b)"
      ]
    },
    {
      "cell_type": "markdown",
      "id": "ede79996-f845-43a6-9d49-e86891c38167",
      "metadata": {
        "id": "ede79996-f845-43a6-9d49-e86891c38167"
      },
      "source": [
        "As we can see, the `//` and `%` operators had the same result when both numbers were positive."
      ]
    },
    {
      "cell_type": "code",
      "execution_count": null,
      "id": "0a9d417a-b435-4077-b393-b6fdd455ea52",
      "metadata": {
        "id": "0a9d417a-b435-4077-b393-b6fdd455ea52",
        "outputId": "83627266-db35-4388-df5b-fb870e4098d0"
      },
      "outputs": [
        {
          "name": "stdout",
          "output_type": "stream",
          "text": [
            "-4 2\n",
            "(-4, 2)\n",
            "True\n"
          ]
        }
      ],
      "source": [
        "x = -10\n",
        "y = 3\n",
        "print(x//y, x%y)\n",
        "print(divmod(x, y))\n",
        "print( x == y * (x//y) + x % y)"
      ]
    },
    {
      "cell_type": "code",
      "execution_count": null,
      "id": "3473c3c8-0de7-4ea4-94c4-cc0f40816a2f",
      "metadata": {
        "id": "3473c3c8-0de7-4ea4-94c4-cc0f40816a2f",
        "outputId": "2d91e98e-eb5f-4afa-d5e0-67e3c3f4f9f0"
      },
      "outputs": [
        {
          "name": "stdout",
          "output_type": "stream",
          "text": [
            "-3 -1\n",
            "(Decimal('-3'), Decimal('-1'))\n",
            "True\n"
          ]
        }
      ],
      "source": [
        "a = Decimal('-10')\n",
        "b = Decimal('3')\n",
        "print(a//b, a%b)\n",
        "print(divmod(a, b))\n",
        "print( a == b * (a//b) + a % b)"
      ]
    },
    {
      "cell_type": "markdown",
      "id": "b5ee33ed-da91-4f94-bbdb-ae5946db023f",
      "metadata": {
        "id": "b5ee33ed-da91-4f94-bbdb-ae5946db023f"
      },
      "source": [
        "On the other hand, we see that in this case the `//` and `% ` operators did not result in the same values, although the equation was satisfied in both instances."
      ]
    },
    {
      "cell_type": "markdown",
      "id": "0a461ffa-5f17-42d7-a8d6-815d00367561",
      "metadata": {
        "id": "0a461ffa-5f17-42d7-a8d6-815d00367561"
      },
      "source": [
        "**Other Mathematical Functions**"
      ]
    },
    {
      "cell_type": "markdown",
      "id": "344e9c8c-ddf7-48ad-9f25-ff7d50277472",
      "metadata": {
        "id": "344e9c8c-ddf7-48ad-9f25-ff7d50277472"
      },
      "source": [
        "The Decimal class implements a variety of mathematical functions."
      ]
    },
    {
      "cell_type": "code",
      "execution_count": null,
      "id": "55e2d413-1949-4fa9-bac1-d44eb8096d01",
      "metadata": {
        "id": "55e2d413-1949-4fa9-bac1-d44eb8096d01",
        "outputId": "ec0ea904-983f-4670-ee4a-115035354fdd"
      },
      "outputs": [
        {
          "name": "stdout",
          "output_type": "stream",
          "text": [
            "0.176091\n",
            "0.405465\n",
            "4.48169\n",
            "1.22474\n"
          ]
        }
      ],
      "source": [
        "a = Decimal('1.5')\n",
        "print(a.log10()) # base 10 logarithm\n",
        "print(a.ln())    # natural logarithm (base e)\n",
        "print(a.exp())   # e ** a\n",
        "print(a.sqrt())  # square root"
      ]
    },
    {
      "cell_type": "markdown",
      "id": "ada2d49b-07b8-4e4f-bff5-24a33dd74346",
      "metadata": {
        "id": "ada2d49b-07b8-4e4f-bff5-24a33dd74346"
      },
      "source": [
        "Although you can use the math function of the math module, be aware that the math module functions will cast the Decimal numbers to floats when it performs the various operations. So, if the precision is important (which it probably is if you decided to use Decimal numbers in the first place), choouse the math functions of the Decimal class over those of the math module."
      ]
    },
    {
      "cell_type": "code",
      "execution_count": null,
      "id": "3117d6fb-bb4d-4576-990e-86f8977324c6",
      "metadata": {
        "id": "3117d6fb-bb4d-4576-990e-86f8977324c6"
      },
      "outputs": [],
      "source": [
        "x = 2\n",
        "x_dec = Decimal(2)"
      ]
    },
    {
      "cell_type": "code",
      "execution_count": null,
      "id": "21a7585c-8867-42f8-9b99-20617733964c",
      "metadata": {
        "id": "21a7585c-8867-42f8-9b99-20617733964c"
      },
      "outputs": [],
      "source": [
        "import math"
      ]
    },
    {
      "cell_type": "code",
      "execution_count": null,
      "id": "cca0ba38-902f-4374-8033-44198a89f611",
      "metadata": {
        "id": "cca0ba38-902f-4374-8033-44198a89f611"
      },
      "outputs": [],
      "source": [
        "root_float = math.sqrt(x)\n",
        "root_mixed = math.sqrt(x_dec)\n",
        "root_dec = x_dec.sqrt()"
      ]
    },
    {
      "cell_type": "code",
      "execution_count": null,
      "id": "43784bc5-0d4d-4b43-abd7-b40dce8168cc",
      "metadata": {
        "id": "43784bc5-0d4d-4b43-abd7-b40dce8168cc",
        "outputId": "add9e8b5-b648-4059-aed1-64e289fb5df1"
      },
      "outputs": [
        {
          "name": "stdout",
          "output_type": "stream",
          "text": [
            "1.414213562373095145474621859\n",
            "1.414213562373095145474621859\n",
            "1.41421\n"
          ]
        }
      ],
      "source": [
        "print(format(root_float, '1.27f'))\n",
        "print(format(root_mixed, '1.27f'))\n",
        "print(root_dec)"
      ]
    },
    {
      "cell_type": "code",
      "execution_count": null,
      "id": "2a32ea74-b68d-4ce4-b5b5-8679c0ef0f3b",
      "metadata": {
        "id": "2a32ea74-b68d-4ce4-b5b5-8679c0ef0f3b",
        "outputId": "d1b4260e-9eb5-4470-e949-31261bc1d03f"
      },
      "outputs": [
        {
          "name": "stdout",
          "output_type": "stream",
          "text": [
            "2.000000000000000444089209850\n",
            "2.000000000000000444089209850\n",
            "1.99999\n"
          ]
        }
      ],
      "source": [
        "print(format(root_float * root_float, '1.27f'))\n",
        "print(format(root_mixed * root_mixed, '1.27f'))\n",
        "print(root_dec * root_dec)"
      ]
    },
    {
      "cell_type": "code",
      "execution_count": null,
      "id": "a548a71d-6312-42fa-9c1b-e3596523dd63",
      "metadata": {
        "id": "a548a71d-6312-42fa-9c1b-e3596523dd63",
        "outputId": "20a20009-b341-40b5-a50b-5153bbab8dd4"
      },
      "outputs": [
        {
          "name": "stdout",
          "output_type": "stream",
          "text": [
            "0.100000000000000005551115123\n",
            "0.100000000000000005551115123\n",
            "0.1\n"
          ]
        }
      ],
      "source": [
        "x = 0.01\n",
        "x_dec = Decimal('0.01')\n",
        "\n",
        "root_float = math.sqrt(x)\n",
        "root_mixed = math.sqrt(x_dec)\n",
        "root_dec = x_dec.sqrt()\n",
        "\n",
        "print(format(root_float, '1.27f'))\n",
        "print(format(root_mixed, '1.27f'))\n",
        "print(root_dec)"
      ]
    },
    {
      "cell_type": "code",
      "execution_count": null,
      "id": "070d2e06-f4a7-4a8a-924b-26590da41931",
      "metadata": {
        "id": "070d2e06-f4a7-4a8a-924b-26590da41931",
        "outputId": "436f8066-d173-4346-f1e5-a9797149c3b6"
      },
      "outputs": [
        {
          "name": "stdout",
          "output_type": "stream",
          "text": [
            "0.010000000000000001942890293\n",
            "0.010000000000000001942890293\n",
            "0.01\n"
          ]
        }
      ],
      "source": [
        "print(format(root_float * root_float, '1.27f'))\n",
        "print(format(root_mixed * root_mixed, '1.27f'))\n",
        "print(root_dec * root_dec)"
      ]
    },
    {
      "cell_type": "markdown",
      "id": "048386fa-a36f-42f4-901b-f50cf3288861",
      "metadata": {
        "id": "048386fa-a36f-42f4-901b-f50cf3288861"
      },
      "source": [
        "### 12 - Decimals - Performance Considerations"
      ]
    },
    {
      "cell_type": "markdown",
      "id": "ed435eb6-3825-4b6e-bc13-32771d2e18e4",
      "metadata": {
        "id": "ed435eb6-3825-4b6e-bc13-32771d2e18e4"
      },
      "source": [
        "**Memory Footprint**"
      ]
    },
    {
      "cell_type": "markdown",
      "id": "94cccdfd-6a48-47f9-bcd6-5cc612df6186",
      "metadata": {
        "id": "94cccdfd-6a48-47f9-bcd6-5cc612df6186"
      },
      "source": [
        "Decimals take up a lot more memory than floats."
      ]
    },
    {
      "cell_type": "code",
      "execution_count": null,
      "id": "9642be84-e89f-4241-9511-ae846604d15a",
      "metadata": {
        "id": "9642be84-e89f-4241-9511-ae846604d15a"
      },
      "outputs": [],
      "source": [
        "import sys\n",
        "from decimal import Decimal"
      ]
    },
    {
      "cell_type": "code",
      "execution_count": null,
      "id": "c03a96f3-2ecb-46c1-9db2-f59bd057b285",
      "metadata": {
        "id": "c03a96f3-2ecb-46c1-9db2-f59bd057b285"
      },
      "outputs": [],
      "source": [
        "a = 3.1415\n",
        "b = Decimal('3.1415')"
      ]
    },
    {
      "cell_type": "code",
      "execution_count": null,
      "id": "3e20b52b-fc79-4686-8e81-291b1d904a92",
      "metadata": {
        "id": "3e20b52b-fc79-4686-8e81-291b1d904a92",
        "outputId": "cf21fb41-5929-45bb-ce1c-83ed19bdb488"
      },
      "outputs": [
        {
          "data": {
            "text/plain": [
              "24"
            ]
          },
          "execution_count": 225,
          "metadata": {},
          "output_type": "execute_result"
        }
      ],
      "source": [
        "sys.getsizeof(a)"
      ]
    },
    {
      "cell_type": "markdown",
      "id": "39c3adf1-ff00-4427-821f-93364705cd20",
      "metadata": {
        "id": "39c3adf1-ff00-4427-821f-93364705cd20"
      },
      "source": [
        "24 bytes are used to store the gloat 3.1415"
      ]
    },
    {
      "cell_type": "code",
      "execution_count": null,
      "id": "1f2f306f-7a8c-4b88-9c35-bbea6422b69f",
      "metadata": {
        "id": "1f2f306f-7a8c-4b88-9c35-bbea6422b69f",
        "outputId": "1b7b2ff5-7c8a-46cb-ac2f-f229bb7bbad2"
      },
      "outputs": [
        {
          "data": {
            "text/plain": [
              "104"
            ]
          },
          "execution_count": 226,
          "metadata": {},
          "output_type": "execute_result"
        }
      ],
      "source": [
        "sys.getsizeof(b)"
      ]
    },
    {
      "cell_type": "markdown",
      "id": "73e65691-f24c-4240-b381-011c5989fb23",
      "metadata": {
        "id": "73e65691-f24c-4240-b381-011c5989fb23"
      },
      "source": [
        "104 bytes are used to store the Decimal 3.1415"
      ]
    },
    {
      "cell_type": "markdown",
      "id": "719d1a8c-64d9-4846-bc50-72bf548e56a6",
      "metadata": {
        "id": "719d1a8c-64d9-4846-bc50-72bf548e56a6"
      },
      "source": [
        "**Computational Performance**"
      ]
    },
    {
      "cell_type": "markdown",
      "id": "cd719afe-d1d6-413f-ae29-e4fb6a2d9454",
      "metadata": {
        "id": "cd719afe-d1d6-413f-ae29-e4fb6a2d9454"
      },
      "source": [
        "Decimal arithmetic is also much slower than float arithmetic (on a CPUi an even more so if using a GPU)\n",
        "\n",
        "We can do some rough timings to illustrate this.\n",
        "\n",
        "First we look at the performance difference creating floats vs decimals:"
      ]
    },
    {
      "cell_type": "code",
      "execution_count": null,
      "id": "107ce839-1fa3-4d43-9223-4eeb621f9bec",
      "metadata": {
        "id": "107ce839-1fa3-4d43-9223-4eeb621f9bec"
      },
      "outputs": [],
      "source": [
        "import time\n",
        "from decimal import Decimal\n",
        "\n",
        "def run_float(n=1):\n",
        "    for i in range(n):\n",
        "        a = 3.1415\n",
        "\n",
        "def run_decimal(n=1):\n",
        "    for i in range(n):\n",
        "        a = Decimal('3.1415')"
      ]
    },
    {
      "cell_type": "markdown",
      "id": "cd2ec480-ffd8-4611-8d6f-efc0d2d5a602",
      "metadata": {
        "id": "cd2ec480-ffd8-4611-8d6f-efc0d2d5a602"
      },
      "source": [
        "Timing float and Decimal operations:"
      ]
    },
    {
      "cell_type": "code",
      "execution_count": null,
      "id": "8202f4ba-263a-41de-abc6-c0633152a8b7",
      "metadata": {
        "id": "8202f4ba-263a-41de-abc6-c0633152a8b7"
      },
      "outputs": [],
      "source": [
        "n = 10000000"
      ]
    },
    {
      "cell_type": "code",
      "execution_count": null,
      "id": "3b5a156e-932d-47c2-bfb8-9ff695072f5d",
      "metadata": {
        "id": "3b5a156e-932d-47c2-bfb8-9ff695072f5d",
        "outputId": "706afd8c-9b1c-4f53-e676-4f9b50c0c7c6"
      },
      "outputs": [
        {
          "name": "stdout",
          "output_type": "stream",
          "text": [
            "float:  0.36456689999977243\n",
            "decimal:  5.793422599999758\n"
          ]
        }
      ],
      "source": [
        "start = time.perf_counter()\n",
        "run_float(n)\n",
        "end = time.perf_counter()\n",
        "print('float: ', end-start)\n",
        "\n",
        "start = time.perf_counter()\n",
        "run_decimal(n)\n",
        "end = time.perf_counter()\n",
        "print('decimal: ', end-start)"
      ]
    },
    {
      "cell_type": "markdown",
      "id": "5ed3ee85-0578-4d91-9519-add3d4fa43fb",
      "metadata": {
        "id": "5ed3ee85-0578-4d91-9519-add3d4fa43fb"
      },
      "source": [
        "We make a slight variant here to see how addition compares between the two types:"
      ]
    },
    {
      "cell_type": "code",
      "execution_count": null,
      "id": "c4183beb-d164-498a-97ad-f49aed206997",
      "metadata": {
        "id": "c4183beb-d164-498a-97ad-f49aed206997",
        "outputId": "2c173bfc-e76d-4d5b-8306-7a954e6994c5"
      },
      "outputs": [
        {
          "name": "stdout",
          "output_type": "stream",
          "text": [
            "float:  0.8951041000000259\n",
            "decimal:  1.6607788999999684\n"
          ]
        }
      ],
      "source": [
        "def run_float(n=1):\n",
        "    a = 3.1415\n",
        "    for i in range(n):\n",
        "        a + a\n",
        "    \n",
        "def run_decimal(n=1):\n",
        "    a = Decimal('3.1415')\n",
        "    for i in range(n):\n",
        "        a + a\n",
        "\n",
        "start = time.perf_counter()\n",
        "run_float(n)\n",
        "end = time.perf_counter()\n",
        "print('float: ', end-start)\n",
        "\n",
        "start = time.perf_counter()\n",
        "run_decimal(n)\n",
        "end = time.perf_counter()\n",
        "print('decimal: ', end-start)"
      ]
    },
    {
      "cell_type": "markdown",
      "id": "b95c9094-1bc5-4380-ac49-e962a0f6759a",
      "metadata": {
        "id": "b95c9094-1bc5-4380-ac49-e962a0f6759a"
      },
      "source": [
        "How about square roots:\n",
        "\n",
        "(We drop the n count a bit)"
      ]
    },
    {
      "cell_type": "code",
      "execution_count": null,
      "id": "ee4e0912-3355-4ec2-bf9d-757a9fbf5844",
      "metadata": {
        "id": "ee4e0912-3355-4ec2-bf9d-757a9fbf5844",
        "outputId": "1742da21-1999-4d63-a92f-a722f93094e6"
      },
      "outputs": [
        {
          "name": "stdout",
          "output_type": "stream",
          "text": [
            "float:  1.1838782000004358\n",
            "decimal:  7.016659200000504\n"
          ]
        }
      ],
      "source": [
        "n = 5000000\n",
        "\n",
        "import math\n",
        "\n",
        "def run_float(n=1):\n",
        "    a = 3.1415\n",
        "    for i in range(n):\n",
        "        math.sqrt(a)\n",
        "        \n",
        "def run_decimal(n=1):\n",
        "    a = Decimal('3.1415')\n",
        "    for i in range(n):\n",
        "        a.sqrt()\n",
        "        \n",
        "start = time.perf_counter()\n",
        "run_float(n)\n",
        "end = time.perf_counter()\n",
        "print('float: ', end-start)\n",
        "\n",
        "start = time.perf_counter()\n",
        "run_decimal(n)\n",
        "end = time.perf_counter()\n",
        "print('decimal: ', end-start)"
      ]
    },
    {
      "cell_type": "markdown",
      "id": "3d3f5e52-0c39-4644-b48b-a4e8dd7efa0f",
      "metadata": {
        "id": "3d3f5e52-0c39-4644-b48b-a4e8dd7efa0f"
      },
      "source": [
        "### 13 - Complex Numbers"
      ]
    },
    {
      "cell_type": "markdown",
      "id": "78039072-7edc-456d-8c54-c66728e621c3",
      "metadata": {
        "id": "78039072-7edc-456d-8c54-c66728e621c3"
      },
      "source": [
        "Python's built-in class provides support for complex numbers.\n",
        "\n",
        "Complex numbers are defined in rectangular coordinates (real and imaginary parts) using either the constructor or a literal expression.\n",
        "\n",
        "The complex number `1 + 2j` can be defined in either of these ways:"
      ]
    },
    {
      "cell_type": "code",
      "execution_count": null,
      "id": "2563c991-1e33-4527-bb24-5cee25d10a0d",
      "metadata": {
        "id": "2563c991-1e33-4527-bb24-5cee25d10a0d"
      },
      "outputs": [],
      "source": [
        "a = complex(1, 2)\n",
        "b = 1 + 2j"
      ]
    },
    {
      "cell_type": "code",
      "execution_count": null,
      "id": "3906eca5-6b13-478b-bce2-8aa305286cdb",
      "metadata": {
        "id": "3906eca5-6b13-478b-bce2-8aa305286cdb",
        "outputId": "adcf4bfb-4d27-4e67-8930-a1617f5e0ba4"
      },
      "outputs": [
        {
          "data": {
            "text/plain": [
              "True"
            ]
          },
          "execution_count": 234,
          "metadata": {},
          "output_type": "execute_result"
        }
      ],
      "source": [
        "a == b"
      ]
    },
    {
      "cell_type": "markdown",
      "id": "7bf4c391-ea5f-4df4-aff3-79170ade557f",
      "metadata": {
        "id": "7bf4c391-ea5f-4df4-aff3-79170ade557f"
      },
      "source": [
        "Note that the real and imaginary parts are defined as floats, and can be retrieved as follows:"
      ]
    },
    {
      "cell_type": "code",
      "execution_count": null,
      "id": "124432f7-b2ed-4d4c-9520-4e007cdf1293",
      "metadata": {
        "id": "124432f7-b2ed-4d4c-9520-4e007cdf1293",
        "outputId": "15f7f931-4346-4c9e-c1e2-ca2b7ec68961"
      },
      "outputs": [
        {
          "data": {
            "text/plain": [
              "(1.0, float)"
            ]
          },
          "execution_count": 235,
          "metadata": {},
          "output_type": "execute_result"
        }
      ],
      "source": [
        "a.real, type(a.real)"
      ]
    },
    {
      "cell_type": "code",
      "execution_count": null,
      "id": "5806c1c6-aecd-4538-b6af-b08f452d0655",
      "metadata": {
        "id": "5806c1c6-aecd-4538-b6af-b08f452d0655",
        "outputId": "46aa43b2-3842-4e39-9901-5d14bd840f72"
      },
      "outputs": [
        {
          "data": {
            "text/plain": [
              "(2.0, float)"
            ]
          },
          "execution_count": 236,
          "metadata": {},
          "output_type": "execute_result"
        }
      ],
      "source": [
        "a.imag, type(a.imag)"
      ]
    },
    {
      "cell_type": "markdown",
      "id": "ba9e13b0-4a33-402b-95f0-bcc1a760289b",
      "metadata": {
        "id": "ba9e13b0-4a33-402b-95f0-bcc1a760289b"
      },
      "source": [
        "The complex conjugate can be calculated as follows:"
      ]
    },
    {
      "cell_type": "code",
      "execution_count": null,
      "id": "32431ef4-10b4-4f39-b07c-978e8080501f",
      "metadata": {
        "id": "32431ef4-10b4-4f39-b07c-978e8080501f",
        "outputId": "d82828e0-9065-44a4-e03f-6551d571421e"
      },
      "outputs": [
        {
          "data": {
            "text/plain": [
              "(1-2j)"
            ]
          },
          "execution_count": 237,
          "metadata": {},
          "output_type": "execute_result"
        }
      ],
      "source": [
        "a.conjugate()"
      ]
    },
    {
      "cell_type": "markdown",
      "id": "f037d681-baaf-4a37-a2cd-838f78f170ae",
      "metadata": {
        "id": "f037d681-baaf-4a37-a2cd-838f78f170ae"
      },
      "source": [
        "The standard arithmetic operators are polymorphic and defined for complex numbers."
      ]
    },
    {
      "cell_type": "code",
      "execution_count": null,
      "id": "b08ce3fc-88db-415e-88ce-7c306c375df0",
      "metadata": {
        "id": "b08ce3fc-88db-415e-88ce-7c306c375df0"
      },
      "outputs": [],
      "source": [
        "a = 1 + 2j\n",
        "b = 3 - 4j\n",
        "c = 5j\n",
        "d = 10"
      ]
    },
    {
      "cell_type": "code",
      "execution_count": null,
      "id": "a800c7ea-7505-4cdd-9b90-00d0d413054d",
      "metadata": {
        "id": "a800c7ea-7505-4cdd-9b90-00d0d413054d",
        "outputId": "d0be5db1-669e-4fb5-d5cf-d50291362c35"
      },
      "outputs": [
        {
          "data": {
            "text/plain": [
              "(4-2j)"
            ]
          },
          "execution_count": 239,
          "metadata": {},
          "output_type": "execute_result"
        }
      ],
      "source": [
        "a + b"
      ]
    },
    {
      "cell_type": "code",
      "execution_count": null,
      "id": "417f7324-e563-432a-aadf-83c84c5d2486",
      "metadata": {
        "id": "417f7324-e563-432a-aadf-83c84c5d2486",
        "outputId": "3ff13788-f217-49cd-f5de-2bf9b8b31403"
      },
      "outputs": [
        {
          "data": {
            "text/plain": [
              "(20+15j)"
            ]
          },
          "execution_count": 240,
          "metadata": {},
          "output_type": "execute_result"
        }
      ],
      "source": [
        "b * c"
      ]
    },
    {
      "cell_type": "code",
      "execution_count": null,
      "id": "236ed09a-a4a8-4579-b17d-93c649b539c7",
      "metadata": {
        "id": "236ed09a-a4a8-4579-b17d-93c649b539c7",
        "outputId": "8fb4fab9-6e67-4b24-d789-a59afe81241a"
      },
      "outputs": [
        {
          "data": {
            "text/plain": [
              "0.5j"
            ]
          },
          "execution_count": 241,
          "metadata": {},
          "output_type": "execute_result"
        }
      ],
      "source": [
        "c / d"
      ]
    },
    {
      "cell_type": "code",
      "execution_count": null,
      "id": "99041782-5a7b-45c8-985e-fff0a8b5a750",
      "metadata": {
        "id": "99041782-5a7b-45c8-985e-fff0a8b5a750",
        "outputId": "3089e509-bfd4-4567-d7a2-5bf4bf1c5479"
      },
      "outputs": [
        {
          "data": {
            "text/plain": [
              "(9-2j)"
            ]
          },
          "execution_count": 242,
          "metadata": {},
          "output_type": "execute_result"
        }
      ],
      "source": [
        "d - a"
      ]
    },
    {
      "cell_type": "markdown",
      "id": "980b1b77-79b2-4b9c-880d-6f404054d495",
      "metadata": {
        "id": "980b1b77-79b2-4b9c-880d-6f404054d495"
      },
      "source": [
        "The `//` and `%` operators, although also polymorphic, are not defined for complex numbers:"
      ]
    },
    {
      "cell_type": "code",
      "execution_count": null,
      "id": "b6e7a577-6b0e-407f-827c-356359a0d947",
      "metadata": {
        "id": "b6e7a577-6b0e-407f-827c-356359a0d947",
        "outputId": "2bb13db6-5f00-4dbe-b808-d08ff182cf33"
      },
      "outputs": [
        {
          "ename": "TypeError",
          "evalue": "can't take floor of complex number.",
          "output_type": "error",
          "traceback": [
            "\u001b[1;31m---------------------------------------------------------------------------\u001b[0m",
            "\u001b[1;31mTypeError\u001b[0m                                 Traceback (most recent call last)",
            "Input \u001b[1;32mIn [243]\u001b[0m, in \u001b[0;36m<cell line: 1>\u001b[1;34m()\u001b[0m\n\u001b[1;32m----> 1\u001b[0m \u001b[43ma\u001b[49m\u001b[43m \u001b[49m\u001b[38;5;241;43m/\u001b[39;49m\u001b[38;5;241;43m/\u001b[39;49m\u001b[43m \u001b[49m\u001b[43mb\u001b[49m\n",
            "\u001b[1;31mTypeError\u001b[0m: can't take floor of complex number."
          ]
        }
      ],
      "source": [
        "a // b"
      ]
    },
    {
      "cell_type": "code",
      "execution_count": null,
      "id": "94937473-cea5-48d4-bc40-423aab177fa1",
      "metadata": {
        "id": "94937473-cea5-48d4-bc40-423aab177fa1",
        "outputId": "7a39763c-7373-4105-dcfb-eb13981a58b3"
      },
      "outputs": [
        {
          "ename": "TypeError",
          "evalue": "can't mod complex numbers.",
          "output_type": "error",
          "traceback": [
            "\u001b[1;31m---------------------------------------------------------------------------\u001b[0m",
            "\u001b[1;31mTypeError\u001b[0m                                 Traceback (most recent call last)",
            "Input \u001b[1;32mIn [244]\u001b[0m, in \u001b[0;36m<cell line: 1>\u001b[1;34m()\u001b[0m\n\u001b[1;32m----> 1\u001b[0m \u001b[43ma\u001b[49m\u001b[43m \u001b[49m\u001b[38;5;241;43m%\u001b[39;49m\u001b[43m \u001b[49m\u001b[43mb\u001b[49m\n",
            "\u001b[1;31mTypeError\u001b[0m: can't mod complex numbers."
          ]
        }
      ],
      "source": [
        "a % b"
      ]
    },
    {
      "cell_type": "markdown",
      "id": "1d8819c8-23a0-4622-bef6-f1853528b3ef",
      "metadata": {
        "id": "1d8819c8-23a0-4622-bef6-f1853528b3ef"
      },
      "source": [
        "The `==` and `!=` operators support complex numbers - but since the real and imaginary parts of complex numbers are floats, the same problems comparing floats using `==` and `!=` also apply to complex numbers."
      ]
    },
    {
      "cell_type": "code",
      "execution_count": null,
      "id": "a2f7f77c-798f-46ad-82ec-0fa3d439e8a8",
      "metadata": {
        "id": "a2f7f77c-798f-46ad-82ec-0fa3d439e8a8"
      },
      "outputs": [],
      "source": [
        "a = 0.1j"
      ]
    },
    {
      "cell_type": "code",
      "execution_count": null,
      "id": "83608e7b-832e-4e14-8126-fb1c8b15d12f",
      "metadata": {
        "id": "83608e7b-832e-4e14-8126-fb1c8b15d12f",
        "outputId": "282d6b28-cd5c-46c6-b0d8-3cf3d3d3af89"
      },
      "outputs": [
        {
          "data": {
            "text/plain": [
              "False"
            ]
          },
          "execution_count": 246,
          "metadata": {},
          "output_type": "execute_result"
        }
      ],
      "source": [
        "a + a + a == 0.3j"
      ]
    },
    {
      "cell_type": "markdown",
      "id": "f64c42cf-5004-43cb-9eb4-d04d134fe00c",
      "metadata": {
        "id": "f64c42cf-5004-43cb-9eb4-d04d134fe00c"
      },
      "source": [
        "In addition, the standard comparison operators `(<, <=, >, >=)` are not defined for complex numbers."
      ]
    },
    {
      "cell_type": "code",
      "execution_count": null,
      "id": "901d2569-0676-4676-a23b-2719f9d37560",
      "metadata": {
        "id": "901d2569-0676-4676-a23b-2719f9d37560",
        "outputId": "2080ec26-8f61-4b39-c5c4-03fe2e69b02f"
      },
      "outputs": [
        {
          "ename": "TypeError",
          "evalue": "'<' not supported between instances of 'complex' and 'complex'",
          "output_type": "error",
          "traceback": [
            "\u001b[1;31m---------------------------------------------------------------------------\u001b[0m",
            "\u001b[1;31mTypeError\u001b[0m                                 Traceback (most recent call last)",
            "Input \u001b[1;32mIn [247]\u001b[0m, in \u001b[0;36m<cell line: 3>\u001b[1;34m()\u001b[0m\n\u001b[0;32m      1\u001b[0m a \u001b[38;5;241m=\u001b[39m \u001b[38;5;241m1\u001b[39m \u001b[38;5;241m+\u001b[39m \u001b[38;5;241m1\u001b[39mj\n\u001b[0;32m      2\u001b[0m b \u001b[38;5;241m=\u001b[39m \u001b[38;5;241m100\u001b[39m \u001b[38;5;241m+\u001b[39m \u001b[38;5;241m100\u001b[39mj\n\u001b[1;32m----> 3\u001b[0m \u001b[43ma\u001b[49m\u001b[43m \u001b[49m\u001b[38;5;241;43m<\u001b[39;49m\u001b[43m \u001b[49m\u001b[43mb\u001b[49m\n",
            "\u001b[1;31mTypeError\u001b[0m: '<' not supported between instances of 'complex' and 'complex'"
          ]
        }
      ],
      "source": [
        "a = 1 + 1j\n",
        "b = 100 + 100j\n",
        "a < b"
      ]
    },
    {
      "cell_type": "markdown",
      "id": "b81adf48-9d17-47e5-8b5f-918a90339e09",
      "metadata": {
        "id": "b81adf48-9d17-47e5-8b5f-918a90339e09"
      },
      "source": [
        "**Math Functions**"
      ]
    },
    {
      "cell_type": "markdown",
      "id": "18a9dff1-5309-41b8-b4cd-73e4d28082c3",
      "metadata": {
        "id": "18a9dff1-5309-41b8-b4cd-73e4d28082c3"
      },
      "source": [
        "The `cmath` module provides complex alternatives to the standard `math` functions.\n",
        "\n",
        "In addition, the `cmath` module provides the complex implementation of the `isclose()` method available for floats."
      ]
    },
    {
      "cell_type": "code",
      "execution_count": null,
      "id": "bbfbd4ba-5954-45f9-ae18-c1b57576b368",
      "metadata": {
        "id": "bbfbd4ba-5954-45f9-ae18-c1b57576b368",
        "outputId": "edc214b0-5652-47e1-8777-6fe70db32e7c"
      },
      "outputs": [
        {
          "name": "stdout",
          "output_type": "stream",
          "text": [
            "(1.7462845577958914+1.4316108957382214j)\n"
          ]
        }
      ],
      "source": [
        "import cmath\n",
        "\n",
        "a = 1 + 5j\n",
        "print(cmath.sqrt(a))"
      ]
    },
    {
      "cell_type": "markdown",
      "id": "e4ecdf05-307b-4d42-b175-75353a4fb669",
      "metadata": {
        "id": "e4ecdf05-307b-4d42-b175-75353a4fb669"
      },
      "source": [
        "The standard `math` module functions will not work with complex numbers:"
      ]
    },
    {
      "cell_type": "code",
      "execution_count": null,
      "id": "05250b78-ac6d-4fcb-a101-393d0e1d5cfd",
      "metadata": {
        "id": "05250b78-ac6d-4fcb-a101-393d0e1d5cfd",
        "outputId": "5b95ce18-4211-4f7a-aca8-8d1b9258b794"
      },
      "outputs": [
        {
          "ename": "TypeError",
          "evalue": "can't convert complex to float",
          "output_type": "error",
          "traceback": [
            "\u001b[1;31m---------------------------------------------------------------------------\u001b[0m",
            "\u001b[1;31mTypeError\u001b[0m                                 Traceback (most recent call last)",
            "Input \u001b[1;32mIn [250]\u001b[0m, in \u001b[0;36m<cell line: 2>\u001b[1;34m()\u001b[0m\n\u001b[0;32m      1\u001b[0m \u001b[38;5;28;01mimport\u001b[39;00m \u001b[38;5;21;01mmath\u001b[39;00m\n\u001b[1;32m----> 2\u001b[0m \u001b[38;5;28mprint\u001b[39m(\u001b[43mmath\u001b[49m\u001b[38;5;241;43m.\u001b[39;49m\u001b[43msqrt\u001b[49m\u001b[43m(\u001b[49m\u001b[43ma\u001b[49m\u001b[43m)\u001b[49m)\n",
            "\u001b[1;31mTypeError\u001b[0m: can't convert complex to float"
          ]
        }
      ],
      "source": [
        "import math\n",
        "print(math.sqrt(a))"
      ]
    },
    {
      "cell_type": "markdown",
      "id": "4b84f333-1a64-46f0-9b9d-befb61bf5235",
      "metadata": {
        "id": "4b84f333-1a64-46f0-9b9d-befb61bf5235"
      },
      "source": [
        "**Polar / Rectangular Conversions**"
      ]
    },
    {
      "cell_type": "markdown",
      "id": "7713545d-80a9-4dfa-bcf7-6a2faa88c2b9",
      "metadata": {
        "id": "7713545d-80a9-4dfa-bcf7-6a2faa88c2b9"
      },
      "source": [
        "The `cmath.phase()` function can be used to return the phase (or argument) of any complex number.\n",
        "\n",
        "The standard `abs()` function supports complex numbers and will return the magnitude (euclidean norm) of the complex number."
      ]
    },
    {
      "cell_type": "code",
      "execution_count": null,
      "id": "8631e9e8-eaf2-41e6-b3d9-6549aa7e7a19",
      "metadata": {
        "id": "8631e9e8-eaf2-41e6-b3d9-6549aa7e7a19"
      },
      "outputs": [],
      "source": [
        "a = 1 + 1j"
      ]
    },
    {
      "cell_type": "code",
      "execution_count": null,
      "id": "dc53cd59-bf94-4bac-b570-757a7f50b118",
      "metadata": {
        "id": "dc53cd59-bf94-4bac-b570-757a7f50b118",
        "outputId": "b7cb54f2-2c2a-4caa-d84a-4c3d42f183e1"
      },
      "outputs": [
        {
          "name": "stdout",
          "output_type": "stream",
          "text": [
            "(1+1j) = (1.4142135623730951,0.7853981633974483)\n"
          ]
        }
      ],
      "source": [
        "r = abs(a)\n",
        "phi = cmath.phase(a)\n",
        "print('{0} = ({1},{2})'.format(a, r, phi))"
      ]
    },
    {
      "cell_type": "markdown",
      "id": "d15dfa1f-8f31-44e1-a59d-1ba8a8151a13",
      "metadata": {
        "id": "d15dfa1f-8f31-44e1-a59d-1ba8a8151a13"
      },
      "source": [
        "Complex numbers in polar coordinates can be converted to rectangular coordinates using the `math.rect()` function:"
      ]
    },
    {
      "cell_type": "code",
      "execution_count": null,
      "id": "1532b127-cba0-47fe-b0b3-cd0f8924a140",
      "metadata": {
        "id": "1532b127-cba0-47fe-b0b3-cd0f8924a140",
        "outputId": "6f232fe4-725d-4db5-8b5d-24d0160d9977"
      },
      "outputs": [
        {
          "name": "stdout",
          "output_type": "stream",
          "text": [
            "(1.0000000000000002+1.0000000000000002j)\n"
          ]
        }
      ],
      "source": [
        "r = math.sqrt(2)\n",
        "phi = cmath.pi/4\n",
        "print(cmath.rect(r, phi))"
      ]
    },
    {
      "cell_type": "markdown",
      "id": "5ac05e43-e8c4-489d-bac4-73fc686ce9e8",
      "metadata": {
        "id": "5ac05e43-e8c4-489d-bac4-73fc686ce9e8"
      },
      "source": [
        "**Euler's Identity and the isclose() function**"
      ]
    },
    {
      "cell_type": "markdown",
      "id": "dae14431-a048-47e7-8ffd-7528e694459b",
      "metadata": {
        "id": "dae14431-a048-47e7-8ffd-7528e694459b"
      },
      "source": [
        "`e^i*pi + 1 = 0`"
      ]
    },
    {
      "cell_type": "code",
      "execution_count": null,
      "id": "8f1b50a6-ed45-4d2a-bc6e-cff3a8423d82",
      "metadata": {
        "id": "8f1b50a6-ed45-4d2a-bc6e-cff3a8423d82",
        "outputId": "8d323b04-d183-4a2d-b7a0-1b687db3b0ad"
      },
      "outputs": [
        {
          "name": "stdout",
          "output_type": "stream",
          "text": [
            "1.2246467991473532e-16j\n"
          ]
        }
      ],
      "source": [
        "RHS = cmath.exp(cmath.pi * 1j) + 1\n",
        "print(RHS)"
      ]
    },
    {
      "cell_type": "markdown",
      "id": "4b19f166-824c-4784-84bd-43bcad60bc6d",
      "metadata": {
        "id": "4b19f166-824c-4784-84bd-43bcad60bc6d"
      },
      "source": [
        "Which, because of limited precision is not quite zero.\n",
        "\n",
        "However, the result is very close to zero.\n",
        "\n",
        "We can use the `isclose()` method of the `cmath` module, which behaves similarly to the `math.isclose()` method. Since we are testing for closeness of two numbers close to zero, we need to make sure an absolute tolerance is also specified:"
      ]
    },
    {
      "cell_type": "code",
      "execution_count": null,
      "id": "f64c1225-4e83-4004-a0a8-6bb2e60f9318",
      "metadata": {
        "id": "f64c1225-4e83-4004-a0a8-6bb2e60f9318",
        "outputId": "5d38800d-250c-40a0-aeaf-d20461ea3b85"
      },
      "outputs": [
        {
          "data": {
            "text/plain": [
              "True"
            ]
          },
          "execution_count": 256,
          "metadata": {},
          "output_type": "execute_result"
        }
      ],
      "source": [
        "cmath.isclose(RHS, 0, abs_tol=0.00001)"
      ]
    },
    {
      "cell_type": "markdown",
      "id": "defb2ca2-f6a7-4510-b561-0715bf7e0a66",
      "metadata": {
        "id": "defb2ca2-f6a7-4510-b561-0715bf7e0a66"
      },
      "source": [
        "If we had not specified an absolute tolerance:"
      ]
    },
    {
      "cell_type": "code",
      "execution_count": null,
      "id": "aac53eb5-1121-43f7-838d-201026f04901",
      "metadata": {
        "id": "aac53eb5-1121-43f7-838d-201026f04901",
        "outputId": "8511c8ac-11a2-46c5-e82c-ecc7dbdcd8bf"
      },
      "outputs": [
        {
          "data": {
            "text/plain": [
              "False"
            ]
          },
          "execution_count": 257,
          "metadata": {},
          "output_type": "execute_result"
        }
      ],
      "source": [
        "cmath.isclose(RHS, 0)"
      ]
    },
    {
      "cell_type": "markdown",
      "id": "e972f3f8-dde4-44d5-819d-ff51214afd96",
      "metadata": {
        "id": "e972f3f8-dde4-44d5-819d-ff51214afd96"
      },
      "source": [
        "### 14 - Booleans"
      ]
    },
    {
      "cell_type": "markdown",
      "id": "f0ebf2ec-d4d1-40f9-942b-d04eb92f6e9b",
      "metadata": {
        "id": "f0ebf2ec-d4d1-40f9-942b-d04eb92f6e9b"
      },
      "source": [
        "The `bool` class is used to represent boolean values.\n",
        "\n",
        "The `bool` class inherits from the `int` class."
      ]
    },
    {
      "cell_type": "code",
      "execution_count": null,
      "id": "138dfce7-84b1-43d4-a339-a86b56abe49b",
      "metadata": {
        "id": "138dfce7-84b1-43d4-a339-a86b56abe49b",
        "outputId": "98453d4a-0be1-436f-cd36-2a5bbe5f6b4b"
      },
      "outputs": [
        {
          "data": {
            "text/plain": [
              "True"
            ]
          },
          "execution_count": 258,
          "metadata": {},
          "output_type": "execute_result"
        }
      ],
      "source": [
        "issubclass(bool, int)"
      ]
    },
    {
      "cell_type": "markdown",
      "id": "0b67603e-51b7-4a0a-adfd-a91f4111b8cc",
      "metadata": {
        "id": "0b67603e-51b7-4a0a-adfd-a91f4111b8cc"
      },
      "source": [
        "Two built-in constants, `True` and `False` are singleton instances of the bool class with underlying int varues of 1 and 0 respectively."
      ]
    },
    {
      "cell_type": "code",
      "execution_count": null,
      "id": "b014b645-0188-490d-b6f8-ff21c1937b8b",
      "metadata": {
        "id": "b014b645-0188-490d-b6f8-ff21c1937b8b",
        "outputId": "035bb6ba-da04-4719-a8a2-3951c96b56c2"
      },
      "outputs": [
        {
          "data": {
            "text/plain": [
              "(bool, 140735898179688, 1)"
            ]
          },
          "execution_count": 259,
          "metadata": {},
          "output_type": "execute_result"
        }
      ],
      "source": [
        "type(True), id(True), int(True)"
      ]
    },
    {
      "cell_type": "code",
      "execution_count": null,
      "id": "945c2efc-6e41-47d1-881a-27469fe70578",
      "metadata": {
        "id": "945c2efc-6e41-47d1-881a-27469fe70578",
        "outputId": "b588df22-0326-483c-efda-00680e0164e9"
      },
      "outputs": [
        {
          "data": {
            "text/plain": [
              "(bool, 140735898179720, 0)"
            ]
          },
          "execution_count": 260,
          "metadata": {},
          "output_type": "execute_result"
        }
      ],
      "source": [
        "type(False), id(False), int(False)"
      ]
    },
    {
      "cell_type": "markdown",
      "id": "d4becc10-4cfb-47ad-96c1-8d491b63d38c",
      "metadata": {
        "id": "d4becc10-4cfb-47ad-96c1-8d491b63d38c"
      },
      "source": [
        "These two values are instances of the `bool` class, and by inheritance are also `int` objects."
      ]
    },
    {
      "cell_type": "code",
      "execution_count": null,
      "id": "60096830-35c3-4075-96bf-d2a244d8973e",
      "metadata": {
        "id": "60096830-35c3-4075-96bf-d2a244d8973e",
        "outputId": "df29cac6-678c-4aa8-bc8d-10db83bc3c6e"
      },
      "outputs": [
        {
          "data": {
            "text/plain": [
              "True"
            ]
          },
          "execution_count": 261,
          "metadata": {},
          "output_type": "execute_result"
        }
      ],
      "source": [
        "isinstance(True, bool)"
      ]
    },
    {
      "cell_type": "code",
      "execution_count": null,
      "id": "745b4f33-18b2-462c-b260-c0cb96ee339a",
      "metadata": {
        "id": "745b4f33-18b2-462c-b260-c0cb96ee339a",
        "outputId": "71bf9af8-ba7f-432a-ea01-06dfcc95c6b6"
      },
      "outputs": [
        {
          "data": {
            "text/plain": [
              "True"
            ]
          },
          "execution_count": 262,
          "metadata": {},
          "output_type": "execute_result"
        }
      ],
      "source": [
        "isinstance(True, int)"
      ]
    },
    {
      "cell_type": "markdown",
      "id": "22ec95dd-b221-442e-a8cf-a21be41369f4",
      "metadata": {
        "id": "22ec95dd-b221-442e-a8cf-a21be41369f4"
      },
      "source": [
        "Since `True` and `False` are singletons, we can use either the `is` operator, or the `==` operator to compare them to any boolean expression."
      ]
    },
    {
      "cell_type": "code",
      "execution_count": null,
      "id": "c478ff3a-3c80-43d2-8173-eadc38d0f1a1",
      "metadata": {
        "id": "c478ff3a-3c80-43d2-8173-eadc38d0f1a1",
        "outputId": "373f72bc-e45a-42d6-c3cb-cc81e6fe0341"
      },
      "outputs": [
        {
          "data": {
            "text/plain": [
              "(140735898179688, 140735898179688)"
            ]
          },
          "execution_count": 263,
          "metadata": {},
          "output_type": "execute_result"
        }
      ],
      "source": [
        "id(True), id(1 < 2)"
      ]
    },
    {
      "cell_type": "code",
      "execution_count": null,
      "id": "0f0ec9fd-f17a-46bf-8a54-88839044178a",
      "metadata": {
        "id": "0f0ec9fd-f17a-46bf-8a54-88839044178a",
        "outputId": "e6215f43-9062-491a-ed0d-1fa82f99b682"
      },
      "outputs": [
        {
          "data": {
            "text/plain": [
              "(140735898179720, 140735898179720)"
            ]
          },
          "execution_count": 264,
          "metadata": {},
          "output_type": "execute_result"
        }
      ],
      "source": [
        "id(False), id(1 == 3)"
      ]
    },
    {
      "cell_type": "code",
      "execution_count": null,
      "id": "7834a9e5-5cf6-4cf2-941a-36f17e659727",
      "metadata": {
        "id": "7834a9e5-5cf6-4cf2-941a-36f17e659727",
        "outputId": "963a3dc3-2f94-4467-feba-6d62848104b6"
      },
      "outputs": [
        {
          "data": {
            "text/plain": [
              "(True, True)"
            ]
          },
          "execution_count": 265,
          "metadata": {},
          "output_type": "execute_result"
        }
      ],
      "source": [
        "(1 < 2) is True, (1 < 2) == True"
      ]
    },
    {
      "cell_type": "code",
      "execution_count": null,
      "id": "80d10b6e-7776-49fb-8358-ebd2f1b8105a",
      "metadata": {
        "id": "80d10b6e-7776-49fb-8358-ebd2f1b8105a",
        "outputId": "8215fb6a-a501-4cad-84a4-37be315ae330"
      },
      "outputs": [
        {
          "data": {
            "text/plain": [
              "(True, True)"
            ]
          },
          "execution_count": 266,
          "metadata": {},
          "output_type": "execute_result"
        }
      ],
      "source": [
        "(1 == 2) is False, (1 == 2) == False"
      ]
    },
    {
      "cell_type": "markdown",
      "id": "7182ed4d-1b90-4854-b8f5-dbceb45a70ca",
      "metadata": {
        "id": "7182ed4d-1b90-4854-b8f5-dbceb45a70ca"
      },
      "source": [
        "---\n",
        "**BE CAREFUL!**"
      ]
    },
    {
      "cell_type": "markdown",
      "id": "a1bc4da5-3b64-4962-b3c2-70f2e2deb70e",
      "metadata": {
        "id": "a1bc4da5-3b64-4962-b3c2-70f2e2deb70e"
      },
      "source": [
        "*Be careful with that last comparsion, the parentheses are necessary!*"
      ]
    },
    {
      "cell_type": "code",
      "execution_count": null,
      "id": "a2400d42-0946-4b1e-989f-4e6303914bdd",
      "metadata": {
        "id": "a2400d42-0946-4b1e-989f-4e6303914bdd",
        "outputId": "e2e48b30-224d-4894-964c-86e19e79ed26"
      },
      "outputs": [
        {
          "data": {
            "text/plain": [
              "False"
            ]
          },
          "execution_count": 268,
          "metadata": {},
          "output_type": "execute_result"
        }
      ],
      "source": [
        "1 == 2 == False"
      ]
    },
    {
      "cell_type": "code",
      "execution_count": null,
      "id": "e0e7e5ad-fef6-49ea-ae75-b57e88e6e0bf",
      "metadata": {
        "id": "e0e7e5ad-fef6-49ea-ae75-b57e88e6e0bf",
        "outputId": "0681b2a7-6429-4a16-f664-0a7fcee5e500"
      },
      "outputs": [
        {
          "data": {
            "text/plain": [
              "True"
            ]
          },
          "execution_count": 269,
          "metadata": {},
          "output_type": "execute_result"
        }
      ],
      "source": [
        "(1 == 2) == False"
      ]
    },
    {
      "cell_type": "markdown",
      "id": "c223b64c-4a48-4c8e-8d32-e91446b4a765",
      "metadata": {
        "id": "c223b64c-4a48-4c8e-8d32-e91446b4a765"
      },
      "source": [
        "*We'll look into this in detail later, but, for now, this happens because a chained comparison such as `a == b == c` is actually evaluated as `a == b and b == c`*\n",
        "\n",
        "*So `1 == 2 == False` is the same as `1 == 2 and 2 == False`*"
      ]
    },
    {
      "cell_type": "code",
      "execution_count": null,
      "id": "add23376-7933-4bea-89ac-1ed603541974",
      "metadata": {
        "id": "add23376-7933-4bea-89ac-1ed603541974",
        "outputId": "cb18e574-73e3-49b5-81c9-e22539c77c73"
      },
      "outputs": [
        {
          "data": {
            "text/plain": [
              "(False, False, False)"
            ]
          },
          "execution_count": 270,
          "metadata": {},
          "output_type": "execute_result"
        }
      ],
      "source": [
        "1 == 2, 2 == False, 1==2 and 2==False"
      ]
    },
    {
      "cell_type": "markdown",
      "id": "3a6acbaf-c0e1-494f-9c22-efaf5f682d8f",
      "metadata": {
        "id": "3a6acbaf-c0e1-494f-9c22-efaf5f682d8f"
      },
      "source": [
        "*But,*"
      ]
    },
    {
      "cell_type": "code",
      "execution_count": null,
      "id": "01f02cbb-5412-4fcb-94df-d1278afb89ac",
      "metadata": {
        "id": "01f02cbb-5412-4fcb-94df-d1278afb89ac",
        "outputId": "2234a9e7-6900-4924-af08-cef5235188d0"
      },
      "outputs": [
        {
          "data": {
            "text/plain": [
              "False"
            ]
          },
          "execution_count": 271,
          "metadata": {},
          "output_type": "execute_result"
        }
      ],
      "source": [
        "(1 == 2)"
      ]
    },
    {
      "cell_type": "markdown",
      "id": "20e03719-0d32-4d1d-9d71-da9f1ac846af",
      "metadata": {
        "id": "20e03719-0d32-4d1d-9d71-da9f1ac846af"
      },
      "source": [
        "*So ``(1 == 2) == False` evaluates to True*\n",
        "\n",
        "*But since `False` is also `0`, we get the following:*"
      ]
    },
    {
      "cell_type": "code",
      "execution_count": null,
      "id": "d067e6cf-9b65-4f89-bb18-16387ed59e2e",
      "metadata": {
        "id": "d067e6cf-9b65-4f89-bb18-16387ed59e2e",
        "outputId": "525190cc-08a9-40d8-98ba-f49afb41df41"
      },
      "outputs": [
        {
          "data": {
            "text/plain": [
              "True"
            ]
          },
          "execution_count": 272,
          "metadata": {},
          "output_type": "execute_result"
        }
      ],
      "source": [
        "(1 == 2) == 0"
      ]
    },
    {
      "cell_type": "markdown",
      "id": "6a79da7d-89be-4c7e-a72d-87cdbef8b9c4",
      "metadata": {
        "id": "6a79da7d-89be-4c7e-a72d-87cdbef8b9c4"
      },
      "source": [
        "The underlying integer values of True and False are:"
      ]
    },
    {
      "cell_type": "code",
      "execution_count": null,
      "id": "c7b8e9cd-960a-45d5-8890-cb7cc43cf1af",
      "metadata": {
        "id": "c7b8e9cd-960a-45d5-8890-cb7cc43cf1af",
        "outputId": "214dd2f2-dc9c-4633-8565-ff83acfe70ff"
      },
      "outputs": [
        {
          "data": {
            "text/plain": [
              "(1, 0)"
            ]
          },
          "execution_count": 273,
          "metadata": {},
          "output_type": "execute_result"
        }
      ],
      "source": [
        "int(True), int(False)"
      ]
    },
    {
      "cell_type": "markdown",
      "id": "1d79d3d1-911f-41cc-a533-f9d261a8edbf",
      "metadata": {
        "id": "1d79d3d1-911f-41cc-a533-f9d261a8edbf"
      },
      "source": [
        "So, using an equality comparison:"
      ]
    },
    {
      "cell_type": "code",
      "execution_count": null,
      "id": "2123e8c3-ffa9-4680-a210-e1a3d8ddc2ab",
      "metadata": {
        "id": "2123e8c3-ffa9-4680-a210-e1a3d8ddc2ab",
        "outputId": "14d8faa2-b710-4545-8142-5470be011ff5"
      },
      "outputs": [
        {
          "data": {
            "text/plain": [
              "(True, True)"
            ]
          },
          "execution_count": 275,
          "metadata": {},
          "output_type": "execute_result"
        }
      ],
      "source": [
        "1 == True, 0 == False"
      ]
    },
    {
      "cell_type": "markdown",
      "id": "195d2ac5-c9b9-4609-ab72-f487fe8ecdb1",
      "metadata": {
        "id": "195d2ac5-c9b9-4609-ab72-f487fe8ecdb1"
      },
      "source": [
        "But, from an object perspective 1 and True are not the same (similarly with 0 and False)"
      ]
    },
    {
      "cell_type": "code",
      "execution_count": null,
      "id": "07a8bb2e-15a1-4083-8652-9dece68c3621",
      "metadata": {
        "id": "07a8bb2e-15a1-4083-8652-9dece68c3621",
        "outputId": "56278e31-d59e-4ff9-a53c-e6e7229688a7"
      },
      "outputs": [
        {
          "name": "stderr",
          "output_type": "stream",
          "text": [
            "<>:1: SyntaxWarning: \"is\" with a literal. Did you mean \"==\"?\n",
            "<>:1: SyntaxWarning: \"is\" with a literal. Did you mean \"==\"?\n",
            "C:\\Users\\aserd\\AppData\\Local\\Temp\\ipykernel_2072\\1072280335.py:1: SyntaxWarning: \"is\" with a literal. Did you mean \"==\"?\n",
            "  1 == True, 1 is True\n"
          ]
        },
        {
          "data": {
            "text/plain": [
              "(True, False)"
            ]
          },
          "execution_count": 277,
          "metadata": {},
          "output_type": "execute_result"
        }
      ],
      "source": [
        "1 == True, 1 is True"
      ]
    },
    {
      "cell_type": "code",
      "execution_count": null,
      "id": "8e47b914-db66-4d7c-8bb7-172b9bffcd95",
      "metadata": {
        "id": "8e47b914-db66-4d7c-8bb7-172b9bffcd95",
        "outputId": "4f961b94-63b6-4143-b99c-7667d2f64782"
      },
      "outputs": [
        {
          "name": "stderr",
          "output_type": "stream",
          "text": [
            "<>:1: SyntaxWarning: \"is\" with a literal. Did you mean \"==\"?\n",
            "<>:1: SyntaxWarning: \"is\" with a literal. Did you mean \"==\"?\n",
            "C:\\Users\\aserd\\AppData\\Local\\Temp\\ipykernel_2072\\2948352474.py:1: SyntaxWarning: \"is\" with a literal. Did you mean \"==\"?\n",
            "  0 == False, 0 is False\n"
          ]
        },
        {
          "data": {
            "text/plain": [
              "(True, False)"
            ]
          },
          "execution_count": 278,
          "metadata": {},
          "output_type": "execute_result"
        }
      ],
      "source": [
        "0 == False, 0 is False"
      ]
    },
    {
      "cell_type": "markdown",
      "id": "62083e5d-a864-4ee8-88cd-0fe11bf8ed91",
      "metadata": {
        "id": "62083e5d-a864-4ee8-88cd-0fe11bf8ed91"
      },
      "source": [
        "Any integer can be cast to a boolean, and follows the rule:\n",
        "\n",
        "bool(x) = True for any x except for zero which returns False"
      ]
    },
    {
      "cell_type": "code",
      "execution_count": null,
      "id": "ffd0f343-3191-40d1-ab5e-80ddc4b2b7a0",
      "metadata": {
        "id": "ffd0f343-3191-40d1-ab5e-80ddc4b2b7a0",
        "outputId": "78027a13-5e88-4b08-81ef-c35680f5bd6d"
      },
      "outputs": [
        {
          "data": {
            "text/plain": [
              "False"
            ]
          },
          "execution_count": 279,
          "metadata": {},
          "output_type": "execute_result"
        }
      ],
      "source": [
        "bool(0)"
      ]
    },
    {
      "cell_type": "code",
      "execution_count": null,
      "id": "41205e14-9cad-4b07-a256-38aa15740d22",
      "metadata": {
        "id": "41205e14-9cad-4b07-a256-38aa15740d22",
        "outputId": "5382edf1-84bf-4996-bbde-fc290e991c00"
      },
      "outputs": [
        {
          "data": {
            "text/plain": [
              "(True, True, True)"
            ]
          },
          "execution_count": 280,
          "metadata": {},
          "output_type": "execute_result"
        }
      ],
      "source": [
        "bool(1), bool(100), bool(-1)"
      ]
    },
    {
      "cell_type": "markdown",
      "id": "35de1c43-f966-4527-b4f5-0508d89e74eb",
      "metadata": {
        "id": "35de1c43-f966-4527-b4f5-0508d89e74eb"
      },
      "source": [
        "Since booleans are subclassed from integers, they can behave like integers, and because of polymorphism all the standard integer operators, properties and methods apply."
      ]
    },
    {
      "cell_type": "code",
      "execution_count": null,
      "id": "a1ced953-9440-4a8a-8d78-928c7003685d",
      "metadata": {
        "id": "a1ced953-9440-4a8a-8d78-928c7003685d",
        "outputId": "aabe7f6e-3396-4743-8baf-c59198e30d23"
      },
      "outputs": [
        {
          "data": {
            "text/plain": [
              "True"
            ]
          },
          "execution_count": 281,
          "metadata": {},
          "output_type": "execute_result"
        }
      ],
      "source": [
        "True > False"
      ]
    },
    {
      "cell_type": "code",
      "execution_count": null,
      "id": "2c0fde72-b06a-4dd8-beb2-93c44eb7427f",
      "metadata": {
        "id": "2c0fde72-b06a-4dd8-beb2-93c44eb7427f",
        "outputId": "e9dd06e8-76d3-4c01-b608-b525a6ed2eb0"
      },
      "outputs": [
        {
          "data": {
            "text/plain": [
              "3"
            ]
          },
          "execution_count": 282,
          "metadata": {},
          "output_type": "execute_result"
        }
      ],
      "source": [
        "True + 2"
      ]
    },
    {
      "cell_type": "code",
      "execution_count": null,
      "id": "165871ff-ad29-4008-9359-d8629acee143",
      "metadata": {
        "id": "165871ff-ad29-4008-9359-d8629acee143",
        "outputId": "5df55444-0407-4790-873d-2d542452f0c2"
      },
      "outputs": [
        {
          "data": {
            "text/plain": [
              "0"
            ]
          },
          "execution_count": 283,
          "metadata": {},
          "output_type": "execute_result"
        }
      ],
      "source": [
        "False // 2"
      ]
    },
    {
      "cell_type": "code",
      "execution_count": null,
      "id": "a4223e8c-c957-4848-8452-53237592b777",
      "metadata": {
        "id": "a4223e8c-c957-4848-8452-53237592b777",
        "outputId": "9151f1c0-0189-40e1-ff99-8458f518fe6c"
      },
      "outputs": [
        {
          "data": {
            "text/plain": [
              "3"
            ]
          },
          "execution_count": 284,
          "metadata": {},
          "output_type": "execute_result"
        }
      ],
      "source": [
        "True + True + True"
      ]
    },
    {
      "cell_type": "code",
      "execution_count": null,
      "id": "dc065cb1-9907-4bb2-ac51-14ad74a16377",
      "metadata": {
        "id": "dc065cb1-9907-4bb2-ac51-14ad74a16377",
        "outputId": "7425575f-3981-4a7e-b780-c01f5d082771"
      },
      "outputs": [
        {
          "data": {
            "text/plain": [
              "1"
            ]
          },
          "execution_count": 285,
          "metadata": {},
          "output_type": "execute_result"
        }
      ],
      "source": [
        "(True + True + True) % 2"
      ]
    },
    {
      "cell_type": "code",
      "execution_count": null,
      "id": "a4bca786-cea6-4dd0-bf6f-7388b85eb4a6",
      "metadata": {
        "id": "a4bca786-cea6-4dd0-bf6f-7388b85eb4a6",
        "outputId": "133e9732-09c0-439d-fd6e-568db01d157b"
      },
      "outputs": [
        {
          "data": {
            "text/plain": [
              "-1"
            ]
          },
          "execution_count": 286,
          "metadata": {},
          "output_type": "execute_result"
        }
      ],
      "source": [
        "-True"
      ]
    },
    {
      "cell_type": "code",
      "execution_count": null,
      "id": "58778103-ec79-48d3-a121-865bb6bd9ea8",
      "metadata": {
        "id": "58778103-ec79-48d3-a121-865bb6bd9ea8",
        "outputId": "9dfa1e94-44e4-438a-dcf5-eb9bedabf015"
      },
      "outputs": [
        {
          "data": {
            "text/plain": [
              "0"
            ]
          },
          "execution_count": 287,
          "metadata": {},
          "output_type": "execute_result"
        }
      ],
      "source": [
        "100 * False"
      ]
    },
    {
      "cell_type": "markdown",
      "id": "a58ef0bb-9f3f-4caf-b73c-2a2e64711dde",
      "metadata": {
        "id": "a58ef0bb-9f3f-4caf-b73c-2a2e64711dde"
      },
      "source": [
        "I certainly do not recommend you write code like that shown above, but aware that it does work."
      ]
    },
    {
      "cell_type": "markdown",
      "id": "16f437d6-3d67-4a3c-8b93-af6cc0ee3461",
      "metadata": {
        "id": "16f437d6-3d67-4a3c-8b93-af6cc0ee3461"
      },
      "source": [
        "### 15 - Booleans - Truth Values"
      ]
    },
    {
      "cell_type": "markdown",
      "id": "76432de2-3910-4e1c-a429-ef70674369a0",
      "metadata": {
        "id": "76432de2-3910-4e1c-a429-ef70674369a0"
      },
      "source": [
        "All objects in Python have an associated `truth value`, or `truthyness`\n",
        "\n",
        "We saw in a previous lecture that integers have an inherent truth value:"
      ]
    },
    {
      "cell_type": "code",
      "execution_count": null,
      "id": "d656293c-f2b9-4e17-b37f-a28385cfae90",
      "metadata": {
        "id": "d656293c-f2b9-4e17-b37f-a28385cfae90",
        "outputId": "bfcb2613-8719-46db-d550-801b7da55a85"
      },
      "outputs": [
        {
          "data": {
            "text/plain": [
              "False"
            ]
          },
          "execution_count": 288,
          "metadata": {},
          "output_type": "execute_result"
        }
      ],
      "source": [
        "bool(0)"
      ]
    },
    {
      "cell_type": "code",
      "execution_count": null,
      "id": "25d149a4-38bb-418d-9674-1fc94b22b3cf",
      "metadata": {
        "id": "25d149a4-38bb-418d-9674-1fc94b22b3cf",
        "outputId": "9fea816c-da25-4f0d-c4b3-f10cb0267a4c"
      },
      "outputs": [
        {
          "data": {
            "text/plain": [
              "(True, True, True)"
            ]
          },
          "execution_count": 289,
          "metadata": {},
          "output_type": "execute_result"
        }
      ],
      "source": [
        "bool(1), bool(-1), bool(100)"
      ]
    },
    {
      "cell_type": "markdown",
      "id": "fa80df5a-2532-41f1-86af-bf78338f0d57",
      "metadata": {
        "id": "fa80df5a-2532-41f1-86af-bf78338f0d57"
      },
      "source": [
        "This truthyness has nothing to do with the fact that `bool` is a subclass of `int`.\n",
        "\n",
        "Instead, it has to do with the fact that the `int` class implements a `__bool__()` method:"
      ]
    },
    {
      "cell_type": "code",
      "execution_count": null,
      "id": "3a63b935-baa7-40d2-b830-9fddea9f80ae",
      "metadata": {
        "id": "3a63b935-baa7-40d2-b830-9fddea9f80ae",
        "outputId": "f2a7a74b-9912-4d80-ae20-aee61cabf682"
      },
      "outputs": [
        {
          "name": "stdout",
          "output_type": "stream",
          "text": [
            "Help on class bool in module builtins:\n",
            "\n",
            "class bool(int)\n",
            " |  bool(x) -> bool\n",
            " |  \n",
            " |  Returns True when the argument x is true, False otherwise.\n",
            " |  The builtins True and False are the only two instances of the class bool.\n",
            " |  The class bool is a subclass of the class int, and cannot be subclassed.\n",
            " |  \n",
            " |  Method resolution order:\n",
            " |      bool\n",
            " |      int\n",
            " |      object\n",
            " |  \n",
            " |  Methods defined here:\n",
            " |  \n",
            " |  __and__(self, value, /)\n",
            " |      Return self&value.\n",
            " |  \n",
            " |  __or__(self, value, /)\n",
            " |      Return self|value.\n",
            " |  \n",
            " |  __rand__(self, value, /)\n",
            " |      Return value&self.\n",
            " |  \n",
            " |  __repr__(self, /)\n",
            " |      Return repr(self).\n",
            " |  \n",
            " |  __ror__(self, value, /)\n",
            " |      Return value|self.\n",
            " |  \n",
            " |  __rxor__(self, value, /)\n",
            " |      Return value^self.\n",
            " |  \n",
            " |  __xor__(self, value, /)\n",
            " |      Return self^value.\n",
            " |  \n",
            " |  ----------------------------------------------------------------------\n",
            " |  Static methods defined here:\n",
            " |  \n",
            " |  __new__(*args, **kwargs) from builtins.type\n",
            " |      Create and return a new object.  See help(type) for accurate signature.\n",
            " |  \n",
            " |  ----------------------------------------------------------------------\n",
            " |  Methods inherited from int:\n",
            " |  \n",
            " |  __abs__(self, /)\n",
            " |      abs(self)\n",
            " |  \n",
            " |  __add__(self, value, /)\n",
            " |      Return self+value.\n",
            " |  \n",
            " |  __bool__(self, /)\n",
            " |      True if self else False\n",
            " |  \n",
            " |  __ceil__(...)\n",
            " |      Ceiling of an Integral returns itself.\n",
            " |  \n",
            " |  __divmod__(self, value, /)\n",
            " |      Return divmod(self, value).\n",
            " |  \n",
            " |  __eq__(self, value, /)\n",
            " |      Return self==value.\n",
            " |  \n",
            " |  __float__(self, /)\n",
            " |      float(self)\n",
            " |  \n",
            " |  __floor__(...)\n",
            " |      Flooring an Integral returns itself.\n",
            " |  \n",
            " |  __floordiv__(self, value, /)\n",
            " |      Return self//value.\n",
            " |  \n",
            " |  __format__(self, format_spec, /)\n",
            " |      Default object formatter.\n",
            " |  \n",
            " |  __ge__(self, value, /)\n",
            " |      Return self>=value.\n",
            " |  \n",
            " |  __getattribute__(self, name, /)\n",
            " |      Return getattr(self, name).\n",
            " |  \n",
            " |  __getnewargs__(self, /)\n",
            " |  \n",
            " |  __gt__(self, value, /)\n",
            " |      Return self>value.\n",
            " |  \n",
            " |  __hash__(self, /)\n",
            " |      Return hash(self).\n",
            " |  \n",
            " |  __index__(self, /)\n",
            " |      Return self converted to an integer, if self is suitable for use as an index into a list.\n",
            " |  \n",
            " |  __int__(self, /)\n",
            " |      int(self)\n",
            " |  \n",
            " |  __invert__(self, /)\n",
            " |      ~self\n",
            " |  \n",
            " |  __le__(self, value, /)\n",
            " |      Return self<=value.\n",
            " |  \n",
            " |  __lshift__(self, value, /)\n",
            " |      Return self<<value.\n",
            " |  \n",
            " |  __lt__(self, value, /)\n",
            " |      Return self<value.\n",
            " |  \n",
            " |  __mod__(self, value, /)\n",
            " |      Return self%value.\n",
            " |  \n",
            " |  __mul__(self, value, /)\n",
            " |      Return self*value.\n",
            " |  \n",
            " |  __ne__(self, value, /)\n",
            " |      Return self!=value.\n",
            " |  \n",
            " |  __neg__(self, /)\n",
            " |      -self\n",
            " |  \n",
            " |  __pos__(self, /)\n",
            " |      +self\n",
            " |  \n",
            " |  __pow__(self, value, mod=None, /)\n",
            " |      Return pow(self, value, mod).\n",
            " |  \n",
            " |  __radd__(self, value, /)\n",
            " |      Return value+self.\n",
            " |  \n",
            " |  __rdivmod__(self, value, /)\n",
            " |      Return divmod(value, self).\n",
            " |  \n",
            " |  __rfloordiv__(self, value, /)\n",
            " |      Return value//self.\n",
            " |  \n",
            " |  __rlshift__(self, value, /)\n",
            " |      Return value<<self.\n",
            " |  \n",
            " |  __rmod__(self, value, /)\n",
            " |      Return value%self.\n",
            " |  \n",
            " |  __rmul__(self, value, /)\n",
            " |      Return value*self.\n",
            " |  \n",
            " |  __round__(...)\n",
            " |      Rounding an Integral returns itself.\n",
            " |      Rounding with an ndigits argument also returns an integer.\n",
            " |  \n",
            " |  __rpow__(self, value, mod=None, /)\n",
            " |      Return pow(value, self, mod).\n",
            " |  \n",
            " |  __rrshift__(self, value, /)\n",
            " |      Return value>>self.\n",
            " |  \n",
            " |  __rshift__(self, value, /)\n",
            " |      Return self>>value.\n",
            " |  \n",
            " |  __rsub__(self, value, /)\n",
            " |      Return value-self.\n",
            " |  \n",
            " |  __rtruediv__(self, value, /)\n",
            " |      Return value/self.\n",
            " |  \n",
            " |  __sizeof__(self, /)\n",
            " |      Returns size in memory, in bytes.\n",
            " |  \n",
            " |  __sub__(self, value, /)\n",
            " |      Return self-value.\n",
            " |  \n",
            " |  __truediv__(self, value, /)\n",
            " |      Return self/value.\n",
            " |  \n",
            " |  __trunc__(...)\n",
            " |      Truncating an Integral returns itself.\n",
            " |  \n",
            " |  as_integer_ratio(self, /)\n",
            " |      Return integer ratio.\n",
            " |      \n",
            " |      Return a pair of integers, whose ratio is exactly equal to the original int\n",
            " |      and with a positive denominator.\n",
            " |      \n",
            " |      >>> (10).as_integer_ratio()\n",
            " |      (10, 1)\n",
            " |      >>> (-10).as_integer_ratio()\n",
            " |      (-10, 1)\n",
            " |      >>> (0).as_integer_ratio()\n",
            " |      (0, 1)\n",
            " |  \n",
            " |  bit_length(self, /)\n",
            " |      Number of bits necessary to represent self in binary.\n",
            " |      \n",
            " |      >>> bin(37)\n",
            " |      '0b100101'\n",
            " |      >>> (37).bit_length()\n",
            " |      6\n",
            " |  \n",
            " |  conjugate(...)\n",
            " |      Returns self, the complex conjugate of any int.\n",
            " |  \n",
            " |  to_bytes(self, /, length, byteorder, *, signed=False)\n",
            " |      Return an array of bytes representing an integer.\n",
            " |      \n",
            " |      length\n",
            " |        Length of bytes object to use.  An OverflowError is raised if the\n",
            " |        integer is not representable with the given number of bytes.\n",
            " |      byteorder\n",
            " |        The byte order used to represent the integer.  If byteorder is 'big',\n",
            " |        the most significant byte is at the beginning of the byte array.  If\n",
            " |        byteorder is 'little', the most significant byte is at the end of the\n",
            " |        byte array.  To request the native byte order of the host system, use\n",
            " |        `sys.byteorder' as the byte order value.\n",
            " |      signed\n",
            " |        Determines whether two's complement is used to represent the integer.\n",
            " |        If signed is False and a negative integer is given, an OverflowError\n",
            " |        is raised.\n",
            " |  \n",
            " |  ----------------------------------------------------------------------\n",
            " |  Class methods inherited from int:\n",
            " |  \n",
            " |  from_bytes(bytes, byteorder, *, signed=False) from builtins.type\n",
            " |      Return the integer represented by the given array of bytes.\n",
            " |      \n",
            " |      bytes\n",
            " |        Holds the array of bytes to convert.  The argument must either\n",
            " |        support the buffer protocol or be an iterable object producing bytes.\n",
            " |        Bytes and bytearray are examples of built-in objects that support the\n",
            " |        buffer protocol.\n",
            " |      byteorder\n",
            " |        The byte order used to represent the integer.  If byteorder is 'big',\n",
            " |        the most significant byte is at the beginning of the byte array.  If\n",
            " |        byteorder is 'little', the most significant byte is at the end of the\n",
            " |        byte array.  To request the native byte order of the host system, use\n",
            " |        `sys.byteorder' as the byte order value.\n",
            " |      signed\n",
            " |        Indicates whether two's complement is used to represent the integer.\n",
            " |  \n",
            " |  ----------------------------------------------------------------------\n",
            " |  Data descriptors inherited from int:\n",
            " |  \n",
            " |  denominator\n",
            " |      the denominator of a rational number in lowest terms\n",
            " |  \n",
            " |  imag\n",
            " |      the imaginary part of a complex number\n",
            " |  \n",
            " |  numerator\n",
            " |      the numerator of a rational number in lowest terms\n",
            " |  \n",
            " |  real\n",
            " |      the real part of a complex number\n",
            "\n"
          ]
        }
      ],
      "source": [
        "help(bool)"
      ]
    },
    {
      "cell_type": "markdown",
      "id": "e672e59b-133b-4785-82aa-7a3a10414492",
      "metadata": {
        "id": "e672e59b-133b-4785-82aa-7a3a10414492"
      },
      "source": [
        "If you scroll down in the documentation you should reach a section that looks like this:\n",
        "\n",
        "`| __bool__(self, /)`\n",
        "\n",
        "`|    self != 0`\n",
        "\n",
        "So, when we write:"
      ]
    },
    {
      "cell_type": "code",
      "execution_count": null,
      "id": "76bc36c8-bcf1-4b7d-98f9-c1a5b233358a",
      "metadata": {
        "id": "76bc36c8-bcf1-4b7d-98f9-c1a5b233358a",
        "outputId": "43cd5c0b-922c-40f3-fe55-9c2f31ce9b76"
      },
      "outputs": [
        {
          "data": {
            "text/plain": [
              "True"
            ]
          },
          "execution_count": 291,
          "metadata": {},
          "output_type": "execute_result"
        }
      ],
      "source": [
        "bool(100)"
      ]
    },
    {
      "cell_type": "code",
      "execution_count": null,
      "id": "847b3170-3ac7-43bf-942f-2b105684d496",
      "metadata": {
        "id": "847b3170-3ac7-43bf-942f-2b105684d496",
        "outputId": "19a458fe-694a-4886-d90f-751ec959abdb"
      },
      "outputs": [
        {
          "data": {
            "text/plain": [
              "True"
            ]
          },
          "execution_count": 292,
          "metadata": {},
          "output_type": "execute_result"
        }
      ],
      "source": [
        "(100).__bool__()"
      ]
    },
    {
      "cell_type": "code",
      "execution_count": null,
      "id": "1985ec41-6643-4c0b-b12f-d1337ef8c32e",
      "metadata": {
        "id": "1985ec41-6643-4c0b-b12f-d1337ef8c32e",
        "outputId": "73d0d180-79d4-4d54-fb11-ce29d167812c"
      },
      "outputs": [
        {
          "data": {
            "text/plain": [
              "False"
            ]
          },
          "execution_count": 293,
          "metadata": {},
          "output_type": "execute_result"
        }
      ],
      "source": [
        "(0).__bool__()"
      ]
    },
    {
      "cell_type": "markdown",
      "id": "0cacabd3-36b5-44a0-93f0-258d8286f5d5",
      "metadata": {
        "id": "0cacabd3-36b5-44a0-93f0-258d8286f5d5"
      },
      "source": [
        "Most objects will implement either the `__bool__()` or `__len__()` methods. If they don't, then their associated value will be `True` always."
      ]
    },
    {
      "cell_type": "markdown",
      "id": "73e2c8f1-2449-48d9-a43a-561a67e19e54",
      "metadata": {
        "id": "73e2c8f1-2449-48d9-a43a-561a67e19e54"
      },
      "source": [
        "**Numeric Types**"
      ]
    },
    {
      "cell_type": "markdown",
      "id": "5c317f03-3800-4f02-b297-60719695c986",
      "metadata": {
        "id": "5c317f03-3800-4f02-b297-60719695c986"
      },
      "source": [
        "Any non-zero numeric value is truthy. Any zero numeric value is falsy:"
      ]
    },
    {
      "cell_type": "code",
      "execution_count": null,
      "id": "8e0b4ed5-00f3-46ed-b41d-b781c9d2e270",
      "metadata": {
        "id": "8e0b4ed5-00f3-46ed-b41d-b781c9d2e270",
        "outputId": "7268aeb2-b464-49d5-e2ec-bded70b04cc1"
      },
      "outputs": [
        {
          "data": {
            "text/plain": [
              "(True, True, True, True)"
            ]
          },
          "execution_count": 296,
          "metadata": {},
          "output_type": "execute_result"
        }
      ],
      "source": [
        "from fractions import Fraction\n",
        "from decimal import Decimal\n",
        "bool(10), bool(1.5), bool(Fraction(3, 4)), bool(Decimal('10.5'))"
      ]
    },
    {
      "cell_type": "code",
      "execution_count": null,
      "id": "19b9cbb1-9a72-4476-8426-596325a480a1",
      "metadata": {
        "id": "19b9cbb1-9a72-4476-8426-596325a480a1",
        "outputId": "b9062dd5-c205-4454-f9e6-789012ce81fc"
      },
      "outputs": [
        {
          "data": {
            "text/plain": [
              "(False, False, False, False, False)"
            ]
          },
          "execution_count": 297,
          "metadata": {},
          "output_type": "execute_result"
        }
      ],
      "source": [
        "bool(0), bool(0.0), bool(Fraction(0,1)), bool(Decimal('0')), bool(0j)"
      ]
    },
    {
      "cell_type": "markdown",
      "id": "f8c56d2c-4d18-4113-80ce-eb9594397ba1",
      "metadata": {
        "id": "f8c56d2c-4d18-4113-80ce-eb9594397ba1"
      },
      "source": [
        "**Sequence Types**"
      ]
    },
    {
      "cell_type": "markdown",
      "id": "97a37249-704d-4eee-ad3d-a69849b17262",
      "metadata": {
        "id": "97a37249-704d-4eee-ad3d-a69849b17262"
      },
      "source": [
        "An empty sequence type object is Falsy, a non-empty one is truthy:"
      ]
    },
    {
      "cell_type": "code",
      "execution_count": null,
      "id": "9673c241-00cb-47f7-97fc-164d54d175ae",
      "metadata": {
        "id": "9673c241-00cb-47f7-97fc-164d54d175ae",
        "outputId": "c8c737b1-9dcc-4efd-ac48-e4b2fe1f74fd"
      },
      "outputs": [
        {
          "data": {
            "text/plain": [
              "(True, True, True, True)"
            ]
          },
          "execution_count": 298,
          "metadata": {},
          "output_type": "execute_result"
        }
      ],
      "source": [
        "bool([1, 2, 3]), bool((1, 2, 3)), bool('abc'), bool(1j)"
      ]
    },
    {
      "cell_type": "code",
      "execution_count": null,
      "id": "3ba6cd6b-31f8-4e7f-aa9b-0cd8d6f26e50",
      "metadata": {
        "id": "3ba6cd6b-31f8-4e7f-aa9b-0cd8d6f26e50",
        "outputId": "ee1810d4-fff9-42b5-c31a-abf4c2a33662"
      },
      "outputs": [
        {
          "data": {
            "text/plain": [
              "(False, False, False)"
            ]
          },
          "execution_count": 299,
          "metadata": {},
          "output_type": "execute_result"
        }
      ],
      "source": [
        "bool([]), bool(()), bool('')"
      ]
    },
    {
      "cell_type": "markdown",
      "id": "d73bc109-6fcb-4a85-a0f7-bf48fb2253f7",
      "metadata": {
        "id": "d73bc109-6fcb-4a85-a0f7-bf48fb2253f7"
      },
      "source": [
        "**Mapping Types**"
      ]
    },
    {
      "cell_type": "markdown",
      "id": "c08e6eb1-3871-45c1-a496-42c73b49b61f",
      "metadata": {
        "id": "c08e6eb1-3871-45c1-a496-42c73b49b61f"
      },
      "source": [
        "Similarly, an empty mapping type will be falsy, a non-empty one truthy:"
      ]
    },
    {
      "cell_type": "code",
      "execution_count": null,
      "id": "d9965f67-bb52-459c-a895-7fbf3004e101",
      "metadata": {
        "id": "d9965f67-bb52-459c-a895-7fbf3004e101",
        "outputId": "66d4c1c2-162c-4775-e453-4f0f4267a37a"
      },
      "outputs": [
        {
          "data": {
            "text/plain": [
              "(True, True)"
            ]
          },
          "execution_count": 300,
          "metadata": {},
          "output_type": "execute_result"
        }
      ],
      "source": [
        "bool({'a': 1}), bool({1, 2, 3})"
      ]
    },
    {
      "cell_type": "code",
      "execution_count": null,
      "id": "949e20a7-8b84-45aa-8dce-a7f98804c0be",
      "metadata": {
        "id": "949e20a7-8b84-45aa-8dce-a7f98804c0be",
        "outputId": "4a127558-2a26-4d2e-a074-c9bf960bf7f4"
      },
      "outputs": [
        {
          "data": {
            "text/plain": [
              "(False, False)"
            ]
          },
          "execution_count": 301,
          "metadata": {},
          "output_type": "execute_result"
        }
      ],
      "source": [
        "bool({}), bool(set())"
      ]
    },
    {
      "cell_type": "markdown",
      "id": "a613df2f-e7d0-47df-8e07-c8469c811f70",
      "metadata": {
        "id": "a613df2f-e7d0-47df-8e07-c8469c811f70"
      },
      "source": [
        "**The None Object**"
      ]
    },
    {
      "cell_type": "markdown",
      "id": "036ac45b-c4e4-4b32-be60-7a9f863ef9c9",
      "metadata": {
        "id": "036ac45b-c4e4-4b32-be60-7a9f863ef9c9"
      },
      "source": [
        "The Singleton `None` object is always falsy:"
      ]
    },
    {
      "cell_type": "code",
      "execution_count": null,
      "id": "39fe4b4d-633b-4ba8-8558-90b73d492ded",
      "metadata": {
        "id": "39fe4b4d-633b-4ba8-8558-90b73d492ded",
        "outputId": "d26935b2-a0d6-4881-98d1-2240925a0c86"
      },
      "outputs": [
        {
          "data": {
            "text/plain": [
              "False"
            ]
          },
          "execution_count": 302,
          "metadata": {},
          "output_type": "execute_result"
        }
      ],
      "source": [
        "bool(None)"
      ]
    },
    {
      "cell_type": "markdown",
      "id": "2c45c96d-ea50-4c0a-8ae4-7721d42fec38",
      "metadata": {
        "id": "2c45c96d-ea50-4c0a-8ae4-7721d42fec38"
      },
      "source": [
        "**One Application of Truth Values**"
      ]
    },
    {
      "cell_type": "markdown",
      "id": "255ed099-e37b-4d9f-9842-9ca9638360cd",
      "metadata": {
        "id": "255ed099-e37b-4d9f-9842-9ca9638360cd"
      },
      "source": [
        "Any conditional expression which involves objects other than `bool` types, will use the associated truth value as the result of the conditional expression."
      ]
    },
    {
      "cell_type": "code",
      "execution_count": null,
      "id": "a2bbaa4c-abf4-49e2-ba0a-833deb6fa7a9",
      "metadata": {
        "id": "a2bbaa4c-abf4-49e2-ba0a-833deb6fa7a9",
        "outputId": "f3093070-2700-4df8-d39d-10038c22c553"
      },
      "outputs": [
        {
          "name": "stdout",
          "output_type": "stream",
          "text": [
            "1\n"
          ]
        }
      ],
      "source": [
        "a = [1, 2, 3]\n",
        "if a:\n",
        "    print(a[0])\n",
        "else:\n",
        "    print('a is None, or a is empty')"
      ]
    },
    {
      "cell_type": "code",
      "execution_count": null,
      "id": "d43734cb-d1c0-44eb-95b0-7a70e316c9cb",
      "metadata": {
        "id": "d43734cb-d1c0-44eb-95b0-7a70e316c9cb",
        "outputId": "b6455e0d-d086-485a-ede1-50f678ba3864"
      },
      "outputs": [
        {
          "name": "stdout",
          "output_type": "stream",
          "text": [
            "a is None, or a is empty\n"
          ]
        }
      ],
      "source": [
        "a = []\n",
        "if a:\n",
        "    print(a[0])\n",
        "else:\n",
        "    print('a is None, or a is empty')"
      ]
    },
    {
      "cell_type": "code",
      "execution_count": null,
      "id": "65968370-8292-4a46-9be3-71d7fff41c8a",
      "metadata": {
        "id": "65968370-8292-4a46-9be3-71d7fff41c8a",
        "outputId": "1851f405-a54b-411c-ea5e-0eb05a6ca6e7"
      },
      "outputs": [
        {
          "name": "stdout",
          "output_type": "stream",
          "text": [
            "a\n"
          ]
        }
      ],
      "source": [
        "a = 'abc'\n",
        "if a:\n",
        "    print(a[0])\n",
        "else:\n",
        "    print('a is None, or a is empty')"
      ]
    },
    {
      "cell_type": "code",
      "execution_count": null,
      "id": "562ba75c-1ced-49fe-9d7b-9f39d11cab0c",
      "metadata": {
        "id": "562ba75c-1ced-49fe-9d7b-9f39d11cab0c",
        "outputId": "03a5be6b-90c9-4ec5-becb-2033752e60e2"
      },
      "outputs": [
        {
          "name": "stdout",
          "output_type": "stream",
          "text": [
            "a is None, or a is empty\n"
          ]
        }
      ],
      "source": [
        "a = ''\n",
        "if a:\n",
        "    print(a[0])\n",
        "else:\n",
        "    print('a is None, or a is empty')"
      ]
    },
    {
      "cell_type": "markdown",
      "id": "5bbaa25e-b4db-4756-beb1-390fcbf38b04",
      "metadata": {
        "id": "5bbaa25e-b4db-4756-beb1-390fcbf38b04"
      },
      "source": [
        "We could write this using a more lengthy expression:"
      ]
    },
    {
      "cell_type": "code",
      "execution_count": null,
      "id": "1395cd96-789c-4dea-937f-48a886aa4dd2",
      "metadata": {
        "id": "1395cd96-789c-4dea-937f-48a886aa4dd2",
        "outputId": "5e0722fd-c5e7-497e-fa26-292e1f4f8892"
      },
      "outputs": [
        {
          "name": "stdout",
          "output_type": "stream",
          "text": [
            "a\n"
          ]
        }
      ],
      "source": [
        "a = 'abc'\n",
        "if a is not None and len(a) > 0:\n",
        "    print(a[0])\n",
        "else:\n",
        "    print('a is None, or a is empty')"
      ]
    },
    {
      "cell_type": "markdown",
      "id": "3603f883-7a61-478d-a529-066e740003b3",
      "metadata": {
        "id": "3603f883-7a61-478d-a529-066e740003b3"
      },
      "source": [
        "Doing the following would break our code in some instances:"
      ]
    },
    {
      "cell_type": "code",
      "execution_count": null,
      "id": "b23bfeba-1edc-46c8-ba07-fdba57b2569b",
      "metadata": {
        "id": "b23bfeba-1edc-46c8-ba07-fdba57b2569b",
        "outputId": "fa420caa-49a2-4c1b-ed6a-606766263a74"
      },
      "outputs": [
        {
          "name": "stdout",
          "output_type": "stream",
          "text": [
            "a\n"
          ]
        }
      ],
      "source": [
        "a = 'abc'\n",
        "if a is not None:\n",
        "    print(a[0])"
      ]
    },
    {
      "cell_type": "markdown",
      "id": "03d002d6-c422-43a3-a0ba-56c448879077",
      "metadata": {
        "id": "03d002d6-c422-43a3-a0ba-56c448879077"
      },
      "source": [
        "works, but:"
      ]
    },
    {
      "cell_type": "code",
      "execution_count": null,
      "id": "f00db1b5-148d-45fa-8318-103640c5ee5e",
      "metadata": {
        "id": "f00db1b5-148d-45fa-8318-103640c5ee5e",
        "outputId": "505bc02b-386d-4d7a-f6fd-51c881aa90b0"
      },
      "outputs": [
        {
          "ename": "IndexError",
          "evalue": "string index out of range",
          "output_type": "error",
          "traceback": [
            "\u001b[1;31m---------------------------------------------------------------------------\u001b[0m",
            "\u001b[1;31mIndexError\u001b[0m                                Traceback (most recent call last)",
            "Input \u001b[1;32mIn [310]\u001b[0m, in \u001b[0;36m<cell line: 2>\u001b[1;34m()\u001b[0m\n\u001b[0;32m      1\u001b[0m a \u001b[38;5;241m=\u001b[39m \u001b[38;5;124m'\u001b[39m\u001b[38;5;124m'\u001b[39m\n\u001b[0;32m      2\u001b[0m \u001b[38;5;28;01mif\u001b[39;00m a \u001b[38;5;129;01mis\u001b[39;00m \u001b[38;5;129;01mnot\u001b[39;00m \u001b[38;5;28;01mNone\u001b[39;00m:\n\u001b[1;32m----> 3\u001b[0m     \u001b[38;5;28mprint\u001b[39m(\u001b[43ma\u001b[49m\u001b[43m[\u001b[49m\u001b[38;5;241;43m0\u001b[39;49m\u001b[43m]\u001b[49m)\n",
            "\u001b[1;31mIndexError\u001b[0m: string index out of range"
          ]
        }
      ],
      "source": [
        "a = ''\n",
        "if a is not None:\n",
        "    print(a[0])"
      ]
    },
    {
      "cell_type": "code",
      "execution_count": null,
      "id": "fcd24ac7-5e22-478e-a1e5-90bf7cf38981",
      "metadata": {
        "id": "fcd24ac7-5e22-478e-a1e5-90bf7cf38981",
        "outputId": "61a165b1-ca9b-42c9-ee7a-85a075d60287"
      },
      "outputs": [
        {
          "ename": "TypeError",
          "evalue": "object of type 'NoneType' has no len()",
          "output_type": "error",
          "traceback": [
            "\u001b[1;31m---------------------------------------------------------------------------\u001b[0m",
            "\u001b[1;31mTypeError\u001b[0m                                 Traceback (most recent call last)",
            "Input \u001b[1;32mIn [311]\u001b[0m, in \u001b[0;36m<cell line: 2>\u001b[1;34m()\u001b[0m\n\u001b[0;32m      1\u001b[0m a \u001b[38;5;241m=\u001b[39m \u001b[38;5;28;01mNone\u001b[39;00m\n\u001b[1;32m----> 2\u001b[0m \u001b[38;5;28;01mif\u001b[39;00m \u001b[38;5;28;43mlen\u001b[39;49m\u001b[43m(\u001b[49m\u001b[43ma\u001b[49m\u001b[43m)\u001b[49m \u001b[38;5;241m>\u001b[39m \u001b[38;5;241m0\u001b[39m:\n\u001b[0;32m      3\u001b[0m     \u001b[38;5;28mprint\u001b[39m(a[\u001b[38;5;241m0\u001b[39m])\n",
            "\u001b[1;31mTypeError\u001b[0m: object of type 'NoneType' has no len()"
          ]
        }
      ],
      "source": [
        "a = None\n",
        "if len(a) > 0:\n",
        "    print(a[0])"
      ]
    },
    {
      "cell_type": "markdown",
      "id": "0e5d0110-bc07-4ff1-8f6b-2644d64f2668",
      "metadata": {
        "id": "0e5d0110-bc07-4ff1-8f6b-2644d64f2668"
      },
      "source": [
        "to be through we would need to write:"
      ]
    },
    {
      "cell_type": "code",
      "execution_count": null,
      "id": "8716cc5c-d0b5-4b6c-9479-c9046d78610d",
      "metadata": {
        "id": "8716cc5c-d0b5-4b6c-9479-c9046d78610d"
      },
      "outputs": [],
      "source": [
        "a = None\n",
        "if a is not None and len(a) > 0:\n",
        "    print(a[0])"
      ]
    },
    {
      "cell_type": "markdown",
      "id": "e4cdd143-12df-4470-9a2b-94b1e4f61ee9",
      "metadata": {
        "id": "e4cdd143-12df-4470-9a2b-94b1e4f61ee9"
      },
      "source": [
        "Also, the order of the boolean expressions matter here!\n",
        "\n",
        "We'll discuss this and short-circuit evaluations.\n",
        "\n",
        "For example:"
      ]
    },
    {
      "cell_type": "code",
      "execution_count": null,
      "id": "c942a4d0-a513-439d-9742-94f04fe5cd9f",
      "metadata": {
        "id": "c942a4d0-a513-439d-9742-94f04fe5cd9f",
        "outputId": "99a5141c-95b8-424e-ca2b-dbe7a3219925"
      },
      "outputs": [
        {
          "ename": "TypeError",
          "evalue": "object of type 'NoneType' has no len()",
          "output_type": "error",
          "traceback": [
            "\u001b[1;31m---------------------------------------------------------------------------\u001b[0m",
            "\u001b[1;31mTypeError\u001b[0m                                 Traceback (most recent call last)",
            "Input \u001b[1;32mIn [318]\u001b[0m, in \u001b[0;36m<cell line: 2>\u001b[1;34m()\u001b[0m\n\u001b[0;32m      1\u001b[0m a \u001b[38;5;241m=\u001b[39m \u001b[38;5;28;01mNone\u001b[39;00m\n\u001b[1;32m----> 2\u001b[0m \u001b[38;5;28;01mif\u001b[39;00m \u001b[38;5;28;43mlen\u001b[39;49m\u001b[43m(\u001b[49m\u001b[43ma\u001b[49m\u001b[43m)\u001b[49m \u001b[38;5;241m>\u001b[39m \u001b[38;5;241m0\u001b[39m \u001b[38;5;129;01mand\u001b[39;00m a \u001b[38;5;129;01mis\u001b[39;00m \u001b[38;5;129;01mnot\u001b[39;00m \u001b[38;5;28;01mNone\u001b[39;00m:\n\u001b[0;32m      3\u001b[0m     \u001b[38;5;28mprint\u001b[39m(a[\u001b[38;5;241m0\u001b[39m])\n",
            "\u001b[1;31mTypeError\u001b[0m: object of type 'NoneType' has no len()"
          ]
        }
      ],
      "source": [
        "a = None\n",
        "if len(a) > 0 and a is not None:\n",
        "    print(a[0])"
      ]
    },
    {
      "cell_type": "markdown",
      "id": "a2f35bb0-50b0-48ca-8b90-6fdc6b51aba0",
      "metadata": {
        "id": "a2f35bb0-50b0-48ca-8b90-6fdc6b51aba0"
      },
      "source": [
        "### 16 - Booleans - Precedence and Short-Circuiting"
      ]
    },
    {
      "cell_type": "code",
      "execution_count": null,
      "id": "2055b87a-574e-49be-a1dd-71e71ee6f27c",
      "metadata": {
        "id": "2055b87a-574e-49be-a1dd-71e71ee6f27c",
        "outputId": "b7082bc9-cc64-48ce-ff67-823d02b7bea4"
      },
      "outputs": [
        {
          "data": {
            "text/plain": [
              "True"
            ]
          },
          "execution_count": 319,
          "metadata": {},
          "output_type": "execute_result"
        }
      ],
      "source": [
        "True or True and False"
      ]
    },
    {
      "cell_type": "markdown",
      "id": "a94061ea-6bb7-40be-88a3-5b6f8d1405dc",
      "metadata": {
        "id": "a94061ea-6bb7-40be-88a3-5b6f8d1405dc"
      },
      "source": [
        "this is equivalent, becaouse of `and` having higher precedence than `or`, to:"
      ]
    },
    {
      "cell_type": "code",
      "execution_count": null,
      "id": "ec764a35-b037-4662-a7ea-d06a69275864",
      "metadata": {
        "id": "ec764a35-b037-4662-a7ea-d06a69275864",
        "outputId": "59c7ed9a-57eb-4227-c2b7-38a11214c028"
      },
      "outputs": [
        {
          "data": {
            "text/plain": [
              "True"
            ]
          },
          "execution_count": 320,
          "metadata": {},
          "output_type": "execute_result"
        }
      ],
      "source": [
        "True or (True and False)"
      ]
    },
    {
      "cell_type": "markdown",
      "id": "71bd06ed-ee2c-42b3-938c-b7484494d1de",
      "metadata": {
        "id": "71bd06ed-ee2c-42b3-938c-b7484494d1de"
      },
      "source": [
        "This is not the same as:"
      ]
    },
    {
      "cell_type": "code",
      "execution_count": null,
      "id": "bbb01c30-7920-45cf-9234-11e6db05c8d1",
      "metadata": {
        "id": "bbb01c30-7920-45cf-9234-11e6db05c8d1",
        "outputId": "97b42fe9-fb5f-405c-f061-03a9f19b8113"
      },
      "outputs": [
        {
          "data": {
            "text/plain": [
              "False"
            ]
          },
          "execution_count": 321,
          "metadata": {},
          "output_type": "execute_result"
        }
      ],
      "source": [
        "(True or True) and False"
      ]
    },
    {
      "cell_type": "markdown",
      "id": "8608fa90-53fb-4858-803d-e9b8787a9315",
      "metadata": {
        "id": "8608fa90-53fb-4858-803d-e9b8787a9315"
      },
      "source": [
        "**Short-Circuiting**"
      ]
    },
    {
      "cell_type": "code",
      "execution_count": null,
      "id": "4b544381-5985-4edf-a2b8-3c42ef90e77e",
      "metadata": {
        "id": "4b544381-5985-4edf-a2b8-3c42ef90e77e",
        "outputId": "ddc06c7e-9e57-44c9-b9d2-a2a9755e73fc"
      },
      "outputs": [
        {
          "ename": "ZeroDivisionError",
          "evalue": "division by zero",
          "output_type": "error",
          "traceback": [
            "\u001b[1;31m---------------------------------------------------------------------------\u001b[0m",
            "\u001b[1;31mZeroDivisionError\u001b[0m                         Traceback (most recent call last)",
            "Input \u001b[1;32mIn [322]\u001b[0m, in \u001b[0;36m<cell line: 4>\u001b[1;34m()\u001b[0m\n\u001b[0;32m      1\u001b[0m a \u001b[38;5;241m=\u001b[39m \u001b[38;5;241m100\u001b[39m\n\u001b[0;32m      2\u001b[0m b \u001b[38;5;241m=\u001b[39m \u001b[38;5;241m0\u001b[39m\n\u001b[1;32m----> 4\u001b[0m \u001b[38;5;28;01mif\u001b[39;00m \u001b[43ma\u001b[49m\u001b[38;5;241;43m/\u001b[39;49m\u001b[43mb\u001b[49m \u001b[38;5;241m>\u001b[39m \u001b[38;5;241m2\u001b[39m:\n\u001b[0;32m      5\u001b[0m     \u001b[38;5;28mprint\u001b[39m(\u001b[38;5;124m'\u001b[39m\u001b[38;5;124ma is at least double b\u001b[39m\u001b[38;5;124m'\u001b[39m)\n",
            "\u001b[1;31mZeroDivisionError\u001b[0m: division by zero"
          ]
        }
      ],
      "source": [
        "a = 100\n",
        "b = 0\n",
        "\n",
        "if a/b > 2:\n",
        "    print('a is at least double b')"
      ]
    },
    {
      "cell_type": "code",
      "execution_count": null,
      "id": "e772e4fd-81aa-47d3-b1e3-2e75433acc68",
      "metadata": {
        "id": "e772e4fd-81aa-47d3-b1e3-2e75433acc68"
      },
      "outputs": [],
      "source": [
        "a = 10\n",
        "b = 0\n",
        "if b and a/b > 2:\n",
        "    print('a is at least double b')"
      ]
    },
    {
      "cell_type": "markdown",
      "id": "80abd6e6-e666-4947-b17c-7e6b089ed0a4",
      "metadata": {
        "id": "80abd6e6-e666-4947-b17c-7e6b089ed0a4"
      },
      "source": [
        "Can also be useful to deal with null or empty strings in a database:"
      ]
    },
    {
      "cell_type": "code",
      "execution_count": null,
      "id": "3045f82e-1c36-42d2-a57d-74e623a9c7f4",
      "metadata": {
        "id": "3045f82e-1c36-42d2-a57d-74e623a9c7f4"
      },
      "outputs": [],
      "source": [
        "import string"
      ]
    },
    {
      "cell_type": "code",
      "execution_count": null,
      "id": "aa564148-1eb9-4fe4-b077-07d70416f78d",
      "metadata": {
        "id": "aa564148-1eb9-4fe4-b077-07d70416f78d",
        "outputId": "06748a19-5a08-46a4-e899-ad57ff59fd10"
      },
      "outputs": [
        {
          "name": "stdout",
          "output_type": "stream",
          "text": [
            "Help on module string:\n",
            "\n",
            "NAME\n",
            "    string - A collection of string constants.\n",
            "\n",
            "MODULE REFERENCE\n",
            "    https://docs.python.org/3.9/library/string\n",
            "    \n",
            "    The following documentation is automatically generated from the Python\n",
            "    source files.  It may be incomplete, incorrect or include features that\n",
            "    are considered implementation detail and may vary between Python\n",
            "    implementations.  When in doubt, consult the module reference at the\n",
            "    location listed above.\n",
            "\n",
            "DESCRIPTION\n",
            "    Public module variables:\n",
            "    \n",
            "    whitespace -- a string containing all ASCII whitespace\n",
            "    ascii_lowercase -- a string containing all ASCII lowercase letters\n",
            "    ascii_uppercase -- a string containing all ASCII uppercase letters\n",
            "    ascii_letters -- a string containing all ASCII letters\n",
            "    digits -- a string containing all ASCII decimal digits\n",
            "    hexdigits -- a string containing all ASCII hexadecimal digits\n",
            "    octdigits -- a string containing all ASCII octal digits\n",
            "    punctuation -- a string containing all ASCII punctuation characters\n",
            "    printable -- a string containing all ASCII characters considered printable\n",
            "\n",
            "CLASSES\n",
            "    builtins.object\n",
            "        Formatter\n",
            "        Template\n",
            "    \n",
            "    class Formatter(builtins.object)\n",
            "     |  Methods defined here:\n",
            "     |  \n",
            "     |  check_unused_args(self, used_args, args, kwargs)\n",
            "     |  \n",
            "     |  convert_field(self, value, conversion)\n",
            "     |  \n",
            "     |  format(self, format_string, /, *args, **kwargs)\n",
            "     |  \n",
            "     |  format_field(self, value, format_spec)\n",
            "     |  \n",
            "     |  get_field(self, field_name, args, kwargs)\n",
            "     |      # given a field_name, find the object it references.\n",
            "     |      #  field_name:   the field being looked up, e.g. \"0.name\"\n",
            "     |      #                 or \"lookup[3]\"\n",
            "     |      #  used_args:    a set of which args have been used\n",
            "     |      #  args, kwargs: as passed in to vformat\n",
            "     |  \n",
            "     |  get_value(self, key, args, kwargs)\n",
            "     |  \n",
            "     |  parse(self, format_string)\n",
            "     |      # returns an iterable that contains tuples of the form:\n",
            "     |      # (literal_text, field_name, format_spec, conversion)\n",
            "     |      # literal_text can be zero length\n",
            "     |      # field_name can be None, in which case there's no\n",
            "     |      #  object to format and output\n",
            "     |      # if field_name is not None, it is looked up, formatted\n",
            "     |      #  with format_spec and conversion and then used\n",
            "     |  \n",
            "     |  vformat(self, format_string, args, kwargs)\n",
            "     |  \n",
            "     |  ----------------------------------------------------------------------\n",
            "     |  Data descriptors defined here:\n",
            "     |  \n",
            "     |  __dict__\n",
            "     |      dictionary for instance variables (if defined)\n",
            "     |  \n",
            "     |  __weakref__\n",
            "     |      list of weak references to the object (if defined)\n",
            "    \n",
            "    class Template(builtins.object)\n",
            "     |  Template(template)\n",
            "     |  \n",
            "     |  A string class for supporting $-substitutions.\n",
            "     |  \n",
            "     |  Methods defined here:\n",
            "     |  \n",
            "     |  __init__(self, template)\n",
            "     |      Initialize self.  See help(type(self)) for accurate signature.\n",
            "     |  \n",
            "     |  safe_substitute(self, mapping={}, /, **kws)\n",
            "     |  \n",
            "     |  substitute(self, mapping={}, /, **kws)\n",
            "     |  \n",
            "     |  ----------------------------------------------------------------------\n",
            "     |  Class methods defined here:\n",
            "     |  \n",
            "     |  __init_subclass__() from builtins.type\n",
            "     |      This method is called when a class is subclassed.\n",
            "     |      \n",
            "     |      The default implementation does nothing. It may be\n",
            "     |      overridden to extend subclasses.\n",
            "     |  \n",
            "     |  ----------------------------------------------------------------------\n",
            "     |  Data descriptors defined here:\n",
            "     |  \n",
            "     |  __dict__\n",
            "     |      dictionary for instance variables (if defined)\n",
            "     |  \n",
            "     |  __weakref__\n",
            "     |      list of weak references to the object (if defined)\n",
            "     |  \n",
            "     |  ----------------------------------------------------------------------\n",
            "     |  Data and other attributes defined here:\n",
            "     |  \n",
            "     |  braceidpattern = None\n",
            "     |  \n",
            "     |  delimiter = '$'\n",
            "     |  \n",
            "     |  flags = re.IGNORECASE\n",
            "     |  \n",
            "     |  idpattern = '(?a:[_a-z][_a-z0-9]*)'\n",
            "     |  \n",
            "     |  pattern = re.compile('\\n            \\\\$(?:\\n              ...identifie...\n",
            "\n",
            "FUNCTIONS\n",
            "    capwords(s, sep=None)\n",
            "        capwords(s [,sep]) -> string\n",
            "        \n",
            "        Split the argument into words using split, capitalize each\n",
            "        word using capitalize, and join the capitalized words using\n",
            "        join.  If the optional second argument sep is absent or None,\n",
            "        runs of whitespace characters are replaced by a single space\n",
            "        and leading and trailing whitespace are removed, otherwise\n",
            "        sep is used to split and join the words.\n",
            "\n",
            "DATA\n",
            "    __all__ = ['ascii_letters', 'ascii_lowercase', 'ascii_uppercase', 'cap...\n",
            "    ascii_letters = 'abcdefghijklmnopqrstuvwxyzABCDEFGHIJKLMNOPQRSTUVWXYZ'\n",
            "    ascii_lowercase = 'abcdefghijklmnopqrstuvwxyz'\n",
            "    ascii_uppercase = 'ABCDEFGHIJKLMNOPQRSTUVWXYZ'\n",
            "    digits = '0123456789'\n",
            "    hexdigits = '0123456789abcdefABCDEF'\n",
            "    octdigits = '01234567'\n",
            "    printable = '0123456789abcdefghijklmnopqrstuvwxyzABCDEFGHIJKLMNOPQRSTU...\n",
            "    punctuation = '!\"#$%&\\'()*+,-./:;<=>?@[\\\\]^_`{|}~'\n",
            "    whitespace = ' \\t\\n\\r\\x0b\\x0c'\n",
            "\n",
            "FILE\n",
            "    c:\\users\\aserd\\anaconda3\\lib\\string.py\n",
            "\n",
            "\n"
          ]
        }
      ],
      "source": [
        "help(string)"
      ]
    },
    {
      "cell_type": "code",
      "execution_count": null,
      "id": "e47d62fc-53b5-4a6e-b518-00c0b201c223",
      "metadata": {
        "id": "e47d62fc-53b5-4a6e-b518-00c0b201c223",
        "outputId": "2a47b3e7-8f9f-48c7-e3e6-a51c2f40a229"
      },
      "outputs": [
        {
          "data": {
            "text/plain": [
              "'0123456789'"
            ]
          },
          "execution_count": 326,
          "metadata": {},
          "output_type": "execute_result"
        }
      ],
      "source": [
        "string.digits"
      ]
    },
    {
      "cell_type": "code",
      "execution_count": null,
      "id": "83104649-9f00-439d-9154-811aaba1e62f",
      "metadata": {
        "id": "83104649-9f00-439d-9154-811aaba1e62f",
        "outputId": "6be5e252-9155-405b-a225-24593f3c6906"
      },
      "outputs": [
        {
          "data": {
            "text/plain": [
              "'abcdefghijklmnopqrstuvwxyzABCDEFGHIJKLMNOPQRSTUVWXYZ'"
            ]
          },
          "execution_count": 327,
          "metadata": {},
          "output_type": "execute_result"
        }
      ],
      "source": [
        "string.ascii_letters"
      ]
    },
    {
      "cell_type": "code",
      "execution_count": null,
      "id": "5a1186d1-8e40-43fd-ae72-e8112d750ef6",
      "metadata": {
        "id": "5a1186d1-8e40-43fd-ae72-e8112d750ef6",
        "outputId": "21532454-c041-4f94-984f-f64f2a52a6fd"
      },
      "outputs": [
        {
          "ename": "IndexError",
          "evalue": "string index out of range",
          "output_type": "error",
          "traceback": [
            "\u001b[1;31m---------------------------------------------------------------------------\u001b[0m",
            "\u001b[1;31mIndexError\u001b[0m                                Traceback (most recent call last)",
            "Input \u001b[1;32mIn [328]\u001b[0m, in \u001b[0;36m<cell line: 2>\u001b[1;34m()\u001b[0m\n\u001b[0;32m      1\u001b[0m name \u001b[38;5;241m=\u001b[39m \u001b[38;5;124m'\u001b[39m\u001b[38;5;124m'\u001b[39m\n\u001b[1;32m----> 2\u001b[0m \u001b[38;5;28;01mif\u001b[39;00m \u001b[43mname\u001b[49m\u001b[43m[\u001b[49m\u001b[38;5;241;43m0\u001b[39;49m\u001b[43m]\u001b[49m \u001b[38;5;129;01min\u001b[39;00m string\u001b[38;5;241m.\u001b[39mdigits:\n\u001b[0;32m      3\u001b[0m     \u001b[38;5;28mprint\u001b[39m(\u001b[38;5;124m'\u001b[39m\u001b[38;5;124mName cannot start with a digit!\u001b[39m\u001b[38;5;124m'\u001b[39m)\n",
            "\u001b[1;31mIndexError\u001b[0m: string index out of range"
          ]
        }
      ],
      "source": [
        "name = ''\n",
        "if name[0] in string.digits:\n",
        "    print('Name cannot start with a digit!')"
      ]
    },
    {
      "cell_type": "code",
      "execution_count": null,
      "id": "bdf1006d-4ddf-4035-aac6-262a8949df9e",
      "metadata": {
        "id": "bdf1006d-4ddf-4035-aac6-262a8949df9e"
      },
      "outputs": [],
      "source": [
        "name = ''\n",
        "if name and name[0] in string.digits:\n",
        "    print('Name cannot start with a digit!')"
      ]
    },
    {
      "cell_type": "code",
      "execution_count": null,
      "id": "c48b10c7-472a-4ae3-a3ed-1968c49c983f",
      "metadata": {
        "id": "c48b10c7-472a-4ae3-a3ed-1968c49c983f"
      },
      "outputs": [],
      "source": [
        "name = None\n",
        "if name and name[0] in string.digits:\n",
        "    print('Name cannot start with a digit!')"
      ]
    },
    {
      "cell_type": "code",
      "execution_count": null,
      "id": "8c96913e-ccc3-4981-9c0a-96af28d548f3",
      "metadata": {
        "id": "8c96913e-ccc3-4981-9c0a-96af28d548f3"
      },
      "outputs": [],
      "source": [
        "name = 'Bob'\n",
        "if name and name[0] in string.digits:\n",
        "    print('Name cannot start with a digit!')"
      ]
    },
    {
      "cell_type": "code",
      "execution_count": null,
      "id": "98130256-77e3-483f-ad5e-33c1c71b3c48",
      "metadata": {
        "id": "98130256-77e3-483f-ad5e-33c1c71b3c48",
        "outputId": "7c3749a9-4c9c-47d4-e869-35e6aced349a"
      },
      "outputs": [
        {
          "name": "stdout",
          "output_type": "stream",
          "text": [
            "Name cannot start with a digit!\n"
          ]
        }
      ],
      "source": [
        "name = '1Bob'\n",
        "if name and name[0] in string.digits:\n",
        "    print('Name cannot start with a digit!')"
      ]
    },
    {
      "cell_type": "markdown",
      "id": "6f3446cd-e808-4dfd-a2da-e18c6a7f2b6d",
      "metadata": {
        "id": "6f3446cd-e808-4dfd-a2da-e18c6a7f2b6d"
      },
      "source": [
        "### 17 - Booleans: Boolean Operators"
      ]
    },
    {
      "cell_type": "markdown",
      "id": "a3ebdc4e-21d2-427c-98a7-30757ef0f928",
      "metadata": {
        "id": "a3ebdc4e-21d2-427c-98a7-30757ef0f928"
      },
      "source": [
        "The way the Boolean operators `and`, `or` actually work is a little different in Python:"
      ]
    },
    {
      "cell_type": "markdown",
      "id": "16f53b5b-55a4-4f49-b593-678f04c7c9b2",
      "metadata": {
        "id": "16f53b5b-55a4-4f49-b593-678f04c7c9b2"
      },
      "source": [
        "**or**"
      ]
    },
    {
      "cell_type": "markdown",
      "id": "de24cf24-6858-4ba2-9fc1-b60815ea7066",
      "metadata": {
        "id": "de24cf24-6858-4ba2-9fc1-b60815ea7066"
      },
      "source": [
        "`X or Y`: if X is falsy, return Y, otherwise evaluates and returns X"
      ]
    },
    {
      "cell_type": "code",
      "execution_count": null,
      "id": "0ae42ce2-d665-457d-93b0-f2a60ccfd1c2",
      "metadata": {
        "id": "0ae42ce2-d665-457d-93b0-f2a60ccfd1c2",
        "outputId": "fcc006bf-ddca-4c2e-de4a-185297b569e0"
      },
      "outputs": [
        {
          "data": {
            "text/plain": [
              "'abc'"
            ]
          },
          "execution_count": 333,
          "metadata": {},
          "output_type": "execute_result"
        }
      ],
      "source": [
        "'' or 'abc'"
      ]
    },
    {
      "cell_type": "code",
      "execution_count": null,
      "id": "765484e5-f3b0-4776-b2d0-63ce27c05469",
      "metadata": {
        "id": "765484e5-f3b0-4776-b2d0-63ce27c05469",
        "outputId": "8ccbd3e5-9625-4421-b508-890767f2d970"
      },
      "outputs": [
        {
          "data": {
            "text/plain": [
              "100"
            ]
          },
          "execution_count": 334,
          "metadata": {},
          "output_type": "execute_result"
        }
      ],
      "source": [
        "0 or 100"
      ]
    },
    {
      "cell_type": "code",
      "execution_count": null,
      "id": "bcd3d803-3bbc-426e-af73-61a3bebe6a81",
      "metadata": {
        "id": "bcd3d803-3bbc-426e-af73-61a3bebe6a81",
        "outputId": "7a568635-9e4e-477e-ca70-8f311834bce8"
      },
      "outputs": [
        {
          "data": {
            "text/plain": [
              "[1, 2, 3]"
            ]
          },
          "execution_count": 335,
          "metadata": {},
          "output_type": "execute_result"
        }
      ],
      "source": [
        "[] or [1, 2, 3]"
      ]
    },
    {
      "cell_type": "code",
      "execution_count": null,
      "id": "a2ed0c92-8251-4c0e-8f87-7bc07226ce38",
      "metadata": {
        "id": "a2ed0c92-8251-4c0e-8f87-7bc07226ce38",
        "outputId": "d81c9762-cf0b-4bd6-a24d-c98a6af96e6e"
      },
      "outputs": [
        {
          "data": {
            "text/plain": [
              "[1, 2]"
            ]
          },
          "execution_count": 336,
          "metadata": {},
          "output_type": "execute_result"
        }
      ],
      "source": [
        "[1, 2] or [1, 2, 3]"
      ]
    },
    {
      "cell_type": "markdown",
      "id": "fb441931-9002-4929-8c43-903fab1069d0",
      "metadata": {
        "id": "fb441931-9002-4929-8c43-903fab1069d0"
      },
      "source": [
        "---\n",
        "\n",
        "**BE CAREFUL!**"
      ]
    },
    {
      "cell_type": "markdown",
      "id": "f53f5485-377a-40c9-87a5-c895ab53bf71",
      "metadata": {
        "id": "f53f5485-377a-40c9-87a5-c895ab53bf71"
      },
      "source": [
        "*You should note that the truth value of `Y` is never even considered when evaluating the `or` result.*\n",
        "\n",
        "*Only the left operand matters.*\n",
        "\n",
        "*Of course, Y will be evaluated if it is being returned - bur its truth value does not affect how the `or` is being calculated.*\n",
        "\n",
        "*You probably will notice that this means `Y` is not evaluated if `X` is returned - short-circuiting!!*\n",
        "\n",
        "*We could(almost!) write the `or` operator ourselves in this way:*"
      ]
    },
    {
      "cell_type": "code",
      "execution_count": null,
      "id": "12c17b6f-554e-450b-a409-623b8664d019",
      "metadata": {
        "id": "12c17b6f-554e-450b-a409-623b8664d019"
      },
      "outputs": [],
      "source": [
        "def _or(x, y):\n",
        "    if x:\n",
        "        return x\n",
        "    else:\n",
        "        return y"
      ]
    },
    {
      "cell_type": "code",
      "execution_count": null,
      "id": "9ba4dc76-b6f3-4984-8394-dd064a33076f",
      "metadata": {
        "id": "9ba4dc76-b6f3-4984-8394-dd064a33076f",
        "outputId": "cf8092f2-7fe6-4328-8c23-8d2393c01191"
      },
      "outputs": [
        {
          "name": "stdout",
          "output_type": "stream",
          "text": [
            "True\n",
            "True\n",
            "True\n"
          ]
        }
      ],
      "source": [
        "print(_or(0, 100) == (0 or 100))\n",
        "print(_or(None, 'n/a') == (None or 'n/a'))\n",
        "print(_or('abc', 'n/a') == ('abc' or 'n/a'))"
      ]
    },
    {
      "cell_type": "markdown",
      "id": "ea18b45e-f7bb-4448-b842-dd9e7da04be5",
      "metadata": {
        "id": "ea18b45e-f7bb-4448-b842-dd9e7da04be5"
      },
      "source": [
        "Why did I say almost?\n",
        "\n",
        "Unlike the `or` operator, our `_or` function will always evaluate x and y (they are passed as arguments) - so we do not have short-circuiting!"
      ]
    },
    {
      "cell_type": "code",
      "execution_count": null,
      "id": "b628ddc6-6305-4f4e-b2da-55823af12ddc",
      "metadata": {
        "id": "b628ddc6-6305-4f4e-b2da-55823af12ddc",
        "outputId": "d1f33bd6-d220-44a8-cb4f-7620bcf00ff7"
      },
      "outputs": [
        {
          "data": {
            "text/plain": [
              "1"
            ]
          },
          "execution_count": 340,
          "metadata": {},
          "output_type": "execute_result"
        }
      ],
      "source": [
        "1 or 1/0"
      ]
    },
    {
      "cell_type": "code",
      "execution_count": null,
      "id": "0160c49f-9566-4c70-8280-20395b7d36fb",
      "metadata": {
        "id": "0160c49f-9566-4c70-8280-20395b7d36fb",
        "outputId": "1e47c455-d369-4680-bebd-37a94f3709d3"
      },
      "outputs": [
        {
          "ename": "ZeroDivisionError",
          "evalue": "division by zero",
          "output_type": "error",
          "traceback": [
            "\u001b[1;31m---------------------------------------------------------------------------\u001b[0m",
            "\u001b[1;31mZeroDivisionError\u001b[0m                         Traceback (most recent call last)",
            "Input \u001b[1;32mIn [341]\u001b[0m, in \u001b[0;36m<cell line: 1>\u001b[1;34m()\u001b[0m\n\u001b[1;32m----> 1\u001b[0m _or(\u001b[38;5;241m1\u001b[39m, \u001b[38;5;241;43m1\u001b[39;49m\u001b[38;5;241;43m/\u001b[39;49m\u001b[38;5;241;43m0\u001b[39;49m)\n",
            "\u001b[1;31mZeroDivisionError\u001b[0m: division by zero"
          ]
        }
      ],
      "source": [
        "_or(1, 1/0)"
      ]
    },
    {
      "cell_type": "markdown",
      "id": "c05de6ee-c08d-4f83-b062-5f6d24777d24",
      "metadata": {
        "id": "c05de6ee-c08d-4f83-b062-5f6d24777d24"
      },
      "source": [
        "**and**"
      ]
    },
    {
      "cell_type": "markdown",
      "id": "3ff445ab-2521-4b7c-b47a-2db80b7190da",
      "metadata": {
        "id": "3ff445ab-2521-4b7c-b47a-2db80b7190da"
      },
      "source": [
        "`X and Y`: If X is falsy, returns X, otherwise evaluates and returns Y\n",
        "\n",
        "Once again, note that the truth value of Y is never considered when evaluating `and`, and the `Y` is only evaluated if it needs to be returned (short-circuiting)"
      ]
    },
    {
      "cell_type": "code",
      "execution_count": null,
      "id": "1746fb9a-0461-4ea0-889b-c7e6f91a2aa9",
      "metadata": {
        "id": "1746fb9a-0461-4ea0-889b-c7e6f91a2aa9"
      },
      "outputs": [],
      "source": [
        "s1 = None\n",
        "s2 = ''\n",
        "s3 = 'abc'"
      ]
    },
    {
      "cell_type": "code",
      "execution_count": null,
      "id": "591e0985-ce54-4e1e-8271-b4695b732546",
      "metadata": {
        "id": "591e0985-ce54-4e1e-8271-b4695b732546",
        "outputId": "314c9e20-d264-4b29-f5c4-4b49b18c8603"
      },
      "outputs": [
        {
          "name": "stdout",
          "output_type": "stream",
          "text": [
            "None\n",
            "\n",
            "a\n"
          ]
        }
      ],
      "source": [
        "print(s1 and s1[0])\n",
        "print(s2 and s2[0])\n",
        "print(s3 and s3[0])"
      ]
    },
    {
      "cell_type": "code",
      "execution_count": null,
      "id": "098ffb03-607a-4b51-9cee-520acb23330d",
      "metadata": {
        "id": "098ffb03-607a-4b51-9cee-520acb23330d",
        "outputId": "99885c52-52df-4547-842d-57b0095dc660"
      },
      "outputs": [
        {
          "name": "stdout",
          "output_type": "stream",
          "text": [
            "\n",
            "\n",
            "a\n"
          ]
        }
      ],
      "source": [
        "print((s1 and s1[0]) or '')\n",
        "print((s2 and s2[0]) or '')\n",
        "print((s3 and s3[0]) or '')"
      ]
    },
    {
      "cell_type": "markdown",
      "id": "28cfe5c5-aa1a-469f-8831-39585fe3ad2f",
      "metadata": {
        "id": "28cfe5c5-aa1a-469f-8831-39585fe3ad2f"
      },
      "source": [
        "This technique will also work to return any default value if `s` is an empty string or None:"
      ]
    },
    {
      "cell_type": "code",
      "execution_count": null,
      "id": "30aec42e-7237-426e-9b43-a09cadb467a0",
      "metadata": {
        "id": "30aec42e-7237-426e-9b43-a09cadb467a0",
        "outputId": "cb11abad-97d2-4a5c-d770-13ee3d9f6a61"
      },
      "outputs": [
        {
          "name": "stdout",
          "output_type": "stream",
          "text": [
            "n/a\n",
            "n/a\n",
            "a\n"
          ]
        }
      ],
      "source": [
        "print((s1 and s1[0]) or 'n/a')\n",
        "print((s2 and s2[0]) or 'n/a')\n",
        "print((s3 and s3[0]) or 'n/a')"
      ]
    },
    {
      "cell_type": "markdown",
      "id": "8b8467d1-f7bc-4c06-ba69-7b74cfd4fd3d",
      "metadata": {
        "id": "8b8467d1-f7bc-4c06-ba69-7b74cfd4fd3d"
      },
      "source": [
        "The `not` function"
      ]
    },
    {
      "cell_type": "code",
      "execution_count": null,
      "id": "ec166312-356b-4da2-bce1-4aeab0c470cf",
      "metadata": {
        "id": "ec166312-356b-4da2-bce1-4aeab0c470cf",
        "outputId": "3231f22b-961c-4881-f0b7-f8918a073654"
      },
      "outputs": [
        {
          "data": {
            "text/plain": [
              "False"
            ]
          },
          "execution_count": 346,
          "metadata": {},
          "output_type": "execute_result"
        }
      ],
      "source": [
        "not 'abc'"
      ]
    },
    {
      "cell_type": "code",
      "execution_count": null,
      "id": "15c22d42-bac5-4b8d-bb1e-4c24ff601f12",
      "metadata": {
        "id": "15c22d42-bac5-4b8d-bb1e-4c24ff601f12",
        "outputId": "8412bdc5-1930-403f-d17a-029b205ddcee"
      },
      "outputs": [
        {
          "data": {
            "text/plain": [
              "True"
            ]
          },
          "execution_count": 347,
          "metadata": {},
          "output_type": "execute_result"
        }
      ],
      "source": [
        "not []"
      ]
    },
    {
      "cell_type": "code",
      "execution_count": null,
      "id": "540c3a25-fb3c-482e-9997-50cf6185afc0",
      "metadata": {
        "id": "540c3a25-fb3c-482e-9997-50cf6185afc0",
        "outputId": "7f599e26-6f3b-43ec-f445-914eee282165"
      },
      "outputs": [
        {
          "data": {
            "text/plain": [
              "False"
            ]
          },
          "execution_count": 348,
          "metadata": {},
          "output_type": "execute_result"
        }
      ],
      "source": [
        "bool(None)"
      ]
    },
    {
      "cell_type": "code",
      "execution_count": null,
      "id": "37a63bf3-29fa-4f72-ae51-53464df13fbf",
      "metadata": {
        "id": "37a63bf3-29fa-4f72-ae51-53464df13fbf",
        "outputId": "5cd8f981-bef7-4545-d65d-186457828d6c"
      },
      "outputs": [
        {
          "data": {
            "text/plain": [
              "True"
            ]
          },
          "execution_count": 349,
          "metadata": {},
          "output_type": "execute_result"
        }
      ],
      "source": [
        "not None"
      ]
    },
    {
      "cell_type": "markdown",
      "id": "ab086f22-1d87-401e-9a49-38cff6bd6768",
      "metadata": {
        "id": "ab086f22-1d87-401e-9a49-38cff6bd6768"
      },
      "source": [
        "### 18 - Comparison Operators"
      ]
    },
    {
      "cell_type": "markdown",
      "id": "80d0af42-be3e-429b-8899-6f697c7045b4",
      "metadata": {
        "id": "80d0af42-be3e-429b-8899-6f697c7045b4"
      },
      "source": [
        "**Identity and Membership Operators**"
      ]
    },
    {
      "cell_type": "markdown",
      "id": "dce3542e-0c4e-426e-80e5-def6f56b421b",
      "metadata": {
        "id": "dce3542e-0c4e-426e-80e5-def6f56b421b"
      },
      "source": [
        "The `is` and `is not` operators will work with any data type since they are comparing the memory addresses of the objects (which are integers)"
      ]
    },
    {
      "cell_type": "code",
      "execution_count": null,
      "id": "74076b34-0a42-4131-a18e-4b01add3a922",
      "metadata": {
        "id": "74076b34-0a42-4131-a18e-4b01add3a922",
        "outputId": "bd623f0d-9332-4805-b7d1-627db72afcc1"
      },
      "outputs": [
        {
          "name": "stderr",
          "output_type": "stream",
          "text": [
            "<>:1: SyntaxWarning: \"is\" with a literal. Did you mean \"==\"?\n",
            "<>:1: SyntaxWarning: \"is\" with a literal. Did you mean \"==\"?\n",
            "C:\\Users\\aserd\\AppData\\Local\\Temp\\ipykernel_2072\\2697711678.py:1: SyntaxWarning: \"is\" with a literal. Did you mean \"==\"?\n",
            "  0.1 is (3+4j)\n"
          ]
        },
        {
          "data": {
            "text/plain": [
              "False"
            ]
          },
          "execution_count": 350,
          "metadata": {},
          "output_type": "execute_result"
        }
      ],
      "source": [
        "0.1 is (3+4j)"
      ]
    },
    {
      "cell_type": "code",
      "execution_count": null,
      "id": "d4ced6c0-3e18-424e-89c3-1aa941ffff6b",
      "metadata": {
        "id": "d4ced6c0-3e18-424e-89c3-1aa941ffff6b",
        "outputId": "ac81dba5-471e-4a32-9668-8c9102a34eab"
      },
      "outputs": [
        {
          "name": "stderr",
          "output_type": "stream",
          "text": [
            "<>:1: SyntaxWarning: \"is\" with a literal. Did you mean \"==\"?\n",
            "<>:1: SyntaxWarning: \"is\" with a literal. Did you mean \"==\"?\n",
            "C:\\Users\\aserd\\AppData\\Local\\Temp\\ipykernel_2072\\3744826144.py:1: SyntaxWarning: \"is\" with a literal. Did you mean \"==\"?\n",
            "  'a' is [1, 2, 3]\n"
          ]
        },
        {
          "data": {
            "text/plain": [
              "False"
            ]
          },
          "execution_count": 351,
          "metadata": {},
          "output_type": "execute_result"
        }
      ],
      "source": [
        "'a' is [1, 2, 3]"
      ]
    },
    {
      "cell_type": "markdown",
      "id": "1b727620-d81b-4761-800c-d7bce3e73017",
      "metadata": {
        "id": "1b727620-d81b-4761-800c-d7bce3e73017"
      },
      "source": [
        "The `in` and `not in` operators are used with iterables and test membership:"
      ]
    },
    {
      "cell_type": "code",
      "execution_count": null,
      "id": "31e6e5a2-80b4-474d-b0b6-d3c7fa78c431",
      "metadata": {
        "id": "31e6e5a2-80b4-474d-b0b6-d3c7fa78c431",
        "outputId": "5f3e1734-bfaf-4559-d3ad-8338f4c3ad18"
      },
      "outputs": [
        {
          "data": {
            "text/plain": [
              "True"
            ]
          },
          "execution_count": 352,
          "metadata": {},
          "output_type": "execute_result"
        }
      ],
      "source": [
        "1 in [1, 2, 3]"
      ]
    },
    {
      "cell_type": "code",
      "execution_count": null,
      "id": "030e05df-1a65-4a74-afbe-9928017c3b7e",
      "metadata": {
        "id": "030e05df-1a65-4a74-afbe-9928017c3b7e",
        "outputId": "cb6ac93b-0bb5-48fb-ade4-9464f89eff44"
      },
      "outputs": [
        {
          "data": {
            "text/plain": [
              "False"
            ]
          },
          "execution_count": 353,
          "metadata": {},
          "output_type": "execute_result"
        }
      ],
      "source": [
        "[1, 2] in [1, 2, 3]"
      ]
    },
    {
      "cell_type": "code",
      "execution_count": null,
      "id": "35015b58-7415-4aee-bbf2-8f78b55ba167",
      "metadata": {
        "id": "35015b58-7415-4aee-bbf2-8f78b55ba167",
        "outputId": "8e97650e-135f-4095-cffc-3edf55cf26a4"
      },
      "outputs": [
        {
          "data": {
            "text/plain": [
              "True"
            ]
          },
          "execution_count": 354,
          "metadata": {},
          "output_type": "execute_result"
        }
      ],
      "source": [
        "[1, 2] in [[1,2], [2,3], 'abc']"
      ]
    },
    {
      "cell_type": "code",
      "execution_count": null,
      "id": "76ab4bb2-54c5-4591-94f1-2e7fccb36642",
      "metadata": {
        "id": "76ab4bb2-54c5-4591-94f1-2e7fccb36642",
        "outputId": "b65e694d-3e33-487f-d6e7-227a6936a6ea"
      },
      "outputs": [
        {
          "data": {
            "text/plain": [
              "True"
            ]
          },
          "execution_count": 355,
          "metadata": {},
          "output_type": "execute_result"
        }
      ],
      "source": [
        "'key1' in {'key1': 1, 'key2': 2}"
      ]
    },
    {
      "cell_type": "code",
      "execution_count": null,
      "id": "37c8baa1-044e-4bba-9781-a34d692d2428",
      "metadata": {
        "id": "37c8baa1-044e-4bba-9781-a34d692d2428",
        "outputId": "a8d16d5d-5ca9-4091-c205-09dadc8e5b22"
      },
      "outputs": [
        {
          "data": {
            "text/plain": [
              "False"
            ]
          },
          "execution_count": 356,
          "metadata": {},
          "output_type": "execute_result"
        }
      ],
      "source": [
        "1 in {'key1': 1, 'key2': 2}"
      ]
    },
    {
      "cell_type": "markdown",
      "id": "058a63c3-a641-4065-9194-7eddc18760b9",
      "metadata": {
        "id": "058a63c3-a641-4065-9194-7eddc18760b9"
      },
      "source": [
        "We'll come back to these operators in later sections on iterables and mappings."
      ]
    },
    {
      "cell_type": "markdown",
      "id": "df8b2447-2b2a-4fed-a1c7-e291b28148c4",
      "metadata": {
        "id": "df8b2447-2b2a-4fed-a1c7-e291b28148c4"
      },
      "source": [
        "**Equality Operators**"
      ]
    },
    {
      "cell_type": "markdown",
      "id": "4c62ce9e-c095-4057-b90e-10ce278d39e7",
      "metadata": {
        "id": "4c62ce9e-c095-4057-b90e-10ce278d39e7"
      },
      "source": [
        "The `==` and `!=` operators are value comparision operators.\n",
        "\n",
        "They will work with mixed types that are comparable in some sense.\n",
        "\n",
        "For example, you can compare Fraction and Decimal objects, but it would not make sense to compare string and integer objects"
      ]
    },
    {
      "cell_type": "code",
      "execution_count": null,
      "id": "0bc3e9b4-a1b7-4ffe-9d99-6059f6c2946a",
      "metadata": {
        "id": "0bc3e9b4-a1b7-4ffe-9d99-6059f6c2946a",
        "outputId": "207015e4-abf3-42f1-a239-acc97951c817"
      },
      "outputs": [
        {
          "data": {
            "text/plain": [
              "False"
            ]
          },
          "execution_count": 357,
          "metadata": {},
          "output_type": "execute_result"
        }
      ],
      "source": [
        "1 == '1'"
      ]
    },
    {
      "cell_type": "code",
      "execution_count": null,
      "id": "52957e0c-1172-428f-983f-1172624dde6e",
      "metadata": {
        "id": "52957e0c-1172-428f-983f-1172624dde6e"
      },
      "outputs": [],
      "source": [
        "from decimal import Decimal\n",
        "from fractions import Fraction"
      ]
    },
    {
      "cell_type": "code",
      "execution_count": null,
      "id": "04c05447-e3e7-4187-af3b-0530d084a48a",
      "metadata": {
        "id": "04c05447-e3e7-4187-af3b-0530d084a48a",
        "outputId": "f2618a81-8487-4d27-94e1-1fffe2bca710"
      },
      "outputs": [
        {
          "data": {
            "text/plain": [
              "True"
            ]
          },
          "execution_count": 359,
          "metadata": {},
          "output_type": "execute_result"
        }
      ],
      "source": [
        "Decimal('0.1') == Fraction(1, 10)"
      ]
    },
    {
      "cell_type": "code",
      "execution_count": null,
      "id": "388cee99-461e-4d72-8418-5543b7cb4027",
      "metadata": {
        "id": "388cee99-461e-4d72-8418-5543b7cb4027",
        "outputId": "44bfc160-5495-48cc-9dfc-7be89ffdfe42"
      },
      "outputs": [
        {
          "data": {
            "text/plain": [
              "True"
            ]
          },
          "execution_count": 360,
          "metadata": {},
          "output_type": "execute_result"
        }
      ],
      "source": [
        "1 == 1 + 0j"
      ]
    },
    {
      "cell_type": "code",
      "execution_count": null,
      "id": "5922539b-bf0d-4c12-b1d5-04d68f54f4ad",
      "metadata": {
        "id": "5922539b-bf0d-4c12-b1d5-04d68f54f4ad",
        "outputId": "713caa56-ebda-4d4a-a027-e7f7692861ac"
      },
      "outputs": [
        {
          "data": {
            "text/plain": [
              "True"
            ]
          },
          "execution_count": 361,
          "metadata": {},
          "output_type": "execute_result"
        }
      ],
      "source": [
        "True == Fraction(2, 2)"
      ]
    },
    {
      "cell_type": "code",
      "execution_count": null,
      "id": "58863b64-f043-4ce3-a0b7-b4f2e7458507",
      "metadata": {
        "id": "58863b64-f043-4ce3-a0b7-b4f2e7458507",
        "outputId": "8aa6ca66-53e7-45a6-8dae-a334d001fe0f"
      },
      "outputs": [
        {
          "data": {
            "text/plain": [
              "True"
            ]
          },
          "execution_count": 362,
          "metadata": {},
          "output_type": "execute_result"
        }
      ],
      "source": [
        "False == 0j"
      ]
    },
    {
      "cell_type": "markdown",
      "id": "f3762758-d2cb-41ec-8ff5-45d5f48b0678",
      "metadata": {
        "id": "f3762758-d2cb-41ec-8ff5-45d5f48b0678"
      },
      "source": [
        "**Ordering Comparisions**"
      ]
    },
    {
      "cell_type": "markdown",
      "id": "fed24ecd-d035-4f57-ad76-18c4f8174f12",
      "metadata": {
        "id": "fed24ecd-d035-4f57-ad76-18c4f8174f12"
      },
      "source": [
        "Many, but not all data types have an ordering defined.\n",
        "\n",
        "For example, complex numbers do not."
      ]
    },
    {
      "cell_type": "code",
      "execution_count": null,
      "id": "b64b8110-7559-4f8d-80c2-f9de5b66769c",
      "metadata": {
        "id": "b64b8110-7559-4f8d-80c2-f9de5b66769c",
        "outputId": "07dcb1e1-c275-46db-d1c4-092309de1dc1"
      },
      "outputs": [
        {
          "ename": "TypeError",
          "evalue": "'<' not supported between instances of 'complex' and 'complex'",
          "output_type": "error",
          "traceback": [
            "\u001b[1;31m---------------------------------------------------------------------------\u001b[0m",
            "\u001b[1;31mTypeError\u001b[0m                                 Traceback (most recent call last)",
            "Input \u001b[1;32mIn [364]\u001b[0m, in \u001b[0;36m<cell line: 1>\u001b[1;34m()\u001b[0m\n\u001b[1;32m----> 1\u001b[0m \u001b[38;5;241;43m1\u001b[39;49m\u001b[43m \u001b[49m\u001b[38;5;241;43m+\u001b[39;49m\u001b[43m \u001b[49m\u001b[38;5;241;43m1\u001b[39;49m\u001b[43mj\u001b[49m\u001b[43m \u001b[49m\u001b[38;5;241;43m<\u001b[39;49m\u001b[43m \u001b[49m\u001b[38;5;241;43m2\u001b[39;49m\u001b[43m \u001b[49m\u001b[38;5;241;43m+\u001b[39;49m\u001b[43m \u001b[49m\u001b[38;5;241;43m2\u001b[39;49m\u001b[43mj\u001b[49m\n",
            "\u001b[1;31mTypeError\u001b[0m: '<' not supported between instances of 'complex' and 'complex'"
          ]
        }
      ],
      "source": [
        "1 + 1j < 2 + 2j"
      ]
    },
    {
      "cell_type": "markdown",
      "id": "4822084b-81d9-4ccc-adb0-f6f82adbf6eb",
      "metadata": {
        "id": "4822084b-81d9-4ccc-adb0-f6f82adbf6eb"
      },
      "source": [
        "Mixed type ordering comparisons is supported, but again, it needs to make sense:"
      ]
    },
    {
      "cell_type": "code",
      "execution_count": null,
      "id": "24af7d64-714a-42f0-b9de-89b09f890342",
      "metadata": {
        "id": "24af7d64-714a-42f0-b9de-89b09f890342",
        "outputId": "bdd42d6d-74f4-4de8-e412-3a90a1358e2e"
      },
      "outputs": [
        {
          "ename": "TypeError",
          "evalue": "'<' not supported between instances of 'int' and 'str'",
          "output_type": "error",
          "traceback": [
            "\u001b[1;31m---------------------------------------------------------------------------\u001b[0m",
            "\u001b[1;31mTypeError\u001b[0m                                 Traceback (most recent call last)",
            "Input \u001b[1;32mIn [365]\u001b[0m, in \u001b[0;36m<cell line: 1>\u001b[1;34m()\u001b[0m\n\u001b[1;32m----> 1\u001b[0m \u001b[38;5;241;43m1\u001b[39;49m\u001b[43m \u001b[49m\u001b[38;5;241;43m<\u001b[39;49m\u001b[43m \u001b[49m\u001b[38;5;124;43m'\u001b[39;49m\u001b[38;5;124;43ma\u001b[39;49m\u001b[38;5;124;43m'\u001b[39;49m\n",
            "\u001b[1;31mTypeError\u001b[0m: '<' not supported between instances of 'int' and 'str'"
          ]
        }
      ],
      "source": [
        "1 < 'a'"
      ]
    },
    {
      "cell_type": "code",
      "execution_count": null,
      "id": "f7b972cd-1eaf-4e44-a22b-b838ce391ce9",
      "metadata": {
        "id": "f7b972cd-1eaf-4e44-a22b-b838ce391ce9",
        "outputId": "5a24d98a-6a83-490c-a533-b732d7d9458f"
      },
      "outputs": [
        {
          "data": {
            "text/plain": [
              "True"
            ]
          },
          "execution_count": 366,
          "metadata": {},
          "output_type": "execute_result"
        }
      ],
      "source": [
        "Decimal('0.1') < Fraction(1, 2)"
      ]
    },
    {
      "cell_type": "markdown",
      "id": "ac3fba4d-84fa-40ac-9fa2-2f226c4cbea2",
      "metadata": {
        "id": "ac3fba4d-84fa-40ac-9fa2-2f226c4cbea2"
      },
      "source": [
        "**Chained Comparisons**"
      ]
    },
    {
      "cell_type": "markdown",
      "id": "ecd94a8d-5dca-425d-a117-30a5059bd334",
      "metadata": {
        "id": "ecd94a8d-5dca-425d-a117-30a5059bd334"
      },
      "source": [
        "It is possible to chain comparisons.\n",
        "\n",
        "For example, in `a<b<c`, Python simply ands the pairwise comparisions: `a<b and b<c`"
      ]
    },
    {
      "cell_type": "code",
      "execution_count": null,
      "id": "0b848929-7e20-4d1d-91be-c54b42dc3d2a",
      "metadata": {
        "id": "0b848929-7e20-4d1d-91be-c54b42dc3d2a",
        "outputId": "6f5c70d3-6479-4c8e-896f-4161d41e0d1a"
      },
      "outputs": [
        {
          "data": {
            "text/plain": [
              "True"
            ]
          },
          "execution_count": 367,
          "metadata": {},
          "output_type": "execute_result"
        }
      ],
      "source": [
        "1 < 2 < 3"
      ]
    },
    {
      "cell_type": "code",
      "execution_count": null,
      "id": "cd4141f1-de4e-4408-9a88-235e332b313f",
      "metadata": {
        "id": "cd4141f1-de4e-4408-9a88-235e332b313f",
        "outputId": "2e0ada7c-b9c0-4ed0-a1d6-10e0c1941546"
      },
      "outputs": [
        {
          "data": {
            "text/plain": [
              "True"
            ]
          },
          "execution_count": 368,
          "metadata": {},
          "output_type": "execute_result"
        }
      ],
      "source": [
        "1 < 2 > -5 < 50 > 4"
      ]
    },
    {
      "cell_type": "code",
      "execution_count": null,
      "id": "2b050b0d-93ea-42c8-864b-b49824fff01b",
      "metadata": {
        "id": "2b050b0d-93ea-42c8-864b-b49824fff01b",
        "outputId": "44fbb6bd-9155-4c17-fa28-fae8680e99c7"
      },
      "outputs": [
        {
          "data": {
            "text/plain": [
              "True"
            ]
          },
          "execution_count": 369,
          "metadata": {},
          "output_type": "execute_result"
        }
      ],
      "source": [
        "1 < 2 == Decimal('2.0')"
      ]
    },
    {
      "cell_type": "code",
      "execution_count": null,
      "id": "61c25bf4-4f03-4035-9c14-77fce451ecf3",
      "metadata": {
        "id": "61c25bf4-4f03-4035-9c14-77fce451ecf3",
        "outputId": "49f48c6e-903d-47c9-f622-0084dfcd072d"
      },
      "outputs": [
        {
          "data": {
            "text/plain": [
              "False"
            ]
          },
          "execution_count": 370,
          "metadata": {},
          "output_type": "execute_result"
        }
      ],
      "source": [
        "import string\n",
        "'A' < 'a' < 'z' < 'Z' in string.ascii_letters"
      ]
    }
  ],
  "metadata": {
    "kernelspec": {
      "display_name": "Python 3 (ipykernel)",
      "language": "python",
      "name": "python3"
    },
    "language_info": {
      "codemirror_mode": {
        "name": "ipython",
        "version": 3
      },
      "file_extension": ".py",
      "mimetype": "text/x-python",
      "name": "python",
      "nbconvert_exporter": "python",
      "pygments_lexer": "ipython3",
      "version": "3.9.12"
    },
    "colab": {
      "provenance": [],
      "include_colab_link": true
    }
  },
  "nbformat": 4,
  "nbformat_minor": 5
}