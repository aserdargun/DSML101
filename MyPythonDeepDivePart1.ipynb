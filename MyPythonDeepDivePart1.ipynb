{
  "cells": [
    {
      "cell_type": "markdown",
      "metadata": {
        "id": "view-in-github",
        "colab_type": "text"
      },
      "source": [
        "<a href=\"https://colab.research.google.com/github/aserdargun/aserdargun/blob/main/MyPythonDeepDivePart1.ipynb\" target=\"_parent\"><img src=\"https://colab.research.google.com/assets/colab-badge.svg\" alt=\"Open In Colab\"/></a>"
      ]
    },
    {
      "cell_type": "markdown",
      "metadata": {
        "id": "OY_w8yR51-Pu"
      },
      "source": [
        "# INTRODUCTION"
      ]
    },
    {
      "cell_type": "markdown",
      "metadata": {
        "id": "UTPh0QApvioa"
      },
      "source": [
        "I am starting with the zen of python. If you write \"import this\" and understand what is this, you will see significant effects on your syntax."
      ]
    },
    {
      "cell_type": "code",
      "execution_count": null,
      "metadata": {
        "colab": {
          "background_save": true,
          "base_uri": "https://localhost:8080/"
        },
        "id": "yo32NMAXH1Cr",
        "outputId": "79bfe301-a2d0-4ff1-c341-163a4bfbb212"
      },
      "outputs": [
        {
          "name": "stdout",
          "output_type": "stream",
          "text": [
            "The Zen of Python, by Tim Peters\n",
            "\n",
            "Beautiful is better than ugly.\n",
            "Explicit is better than implicit.\n",
            "Simple is better than complex.\n",
            "Complex is better than complicated.\n",
            "Flat is better than nested.\n",
            "Sparse is better than dense.\n",
            "Readability counts.\n",
            "Special cases aren't special enough to break the rules.\n",
            "Although practicality beats purity.\n",
            "Errors should never pass silently.\n",
            "Unless explicitly silenced.\n",
            "In the face of ambiguity, refuse the temptation to guess.\n",
            "There should be one-- and preferably only one --obvious way to do it.\n",
            "Although that way may not be obvious at first unless you're Dutch.\n",
            "Now is better than never.\n",
            "Although never is often better than *right* now.\n",
            "If the implementation is hard to explain, it's a bad idea.\n",
            "If the implementation is easy to explain, it may be a good idea.\n",
            "Namespaces are one honking great idea -- let's do more of those!\n"
          ]
        }
      ],
      "source": [
        "import this"
      ]
    },
    {
      "cell_type": "markdown",
      "metadata": {
        "id": "Nlmpup6YzQui"
      },
      "source": [
        "If you want to have more details on it, you should go https://peps.python.org/pep-0008/ PEP8. PEP is an abbrevation of Python Enchancement Proposals. \n",
        "\n",
        "You can see the PEP index in this https://peps.python.org/pep-0000/"
      ]
    },
    {
      "cell_type": "markdown",
      "metadata": {
        "id": "pJT46SQm0GhR"
      },
      "source": [
        "The resource of this study is from Fred Baptiste's DeepDive Series. Special thanks to Fred Baptiste. https://github.com/aserdargun/python-deepdive\n",
        "\n",
        "* [Part 1](https://www.udemy.com/course/python-3-deep-dive-part-1/?referralCode=E46B931C71EE01845062/): Mainly functional programming\n",
        "* [Part 2](https://www.udemy.com/course/python-3-deep-dive-part-2/?referralCode=3E7AFEF5174F04E5C8D4/): Mainly iterables, iterators and generators\n",
        "* [Part 3](https://www.udemy.com/course/python-3-deep-dive-part-3/?referralCode=C5B0D9AB965B9BF4C49F/): Mainly hash maps\n",
        "* [Part 4](https://www.udemy.com/course/python-3-deep-dive-part-4/?referralCode=3BB758BE4C04FB983E6F/): OOP\n",
        "\n",
        "\n",
        "I only want to emphasize some caveats, also good understanding for me and sharing with others who want to learn Python in details."
      ]
    },
    {
      "cell_type": "markdown",
      "metadata": {
        "id": "MPyvJeNW1Kee"
      },
      "source": [
        "# **PART 1: FUNCTIONAL PROGRAMMING**\n"
      ]
    },
    {
      "cell_type": "markdown",
      "metadata": {
        "id": "fgBQSVSx37kc"
      },
      "source": [
        "## Section 02 - A Quick Refresher"
      ]
    },
    {
      "cell_type": "markdown",
      "metadata": {
        "id": "mYx0Fr184Bxm"
      },
      "source": [
        "### 01 - Multi-Line Statements and Strings"
      ]
    },
    {
      "cell_type": "markdown",
      "metadata": {
        "id": "D4LadCsM3X3p"
      },
      "source": [
        "**Implicit Examples**"
      ]
    },
    {
      "cell_type": "markdown",
      "metadata": {
        "id": "msrEUo8J5iBi"
      },
      "source": [
        "Multi-Line Statement"
      ]
    },
    {
      "cell_type": "code",
      "execution_count": null,
      "metadata": {
        "id": "o2dWFHE5vQHF"
      },
      "outputs": [],
      "source": [
        "a = [1,\n",
        "     2,\n",
        "     3]"
      ]
    },
    {
      "cell_type": "code",
      "execution_count": null,
      "metadata": {
        "colab": {
          "base_uri": "https://localhost:8080/"
        },
        "id": "kADa5Y2F48s9",
        "outputId": "0eeb356d-8d87-4bcf-fc60-cc2c4c28f9f0"
      },
      "outputs": [
        {
          "data": {
            "text/plain": [
              "[1, 2, 3]"
            ]
          },
          "execution_count": 3,
          "metadata": {},
          "output_type": "execute_result"
        }
      ],
      "source": [
        "a"
      ]
    },
    {
      "cell_type": "markdown",
      "metadata": {
        "id": "ecwiR_ff5qet"
      },
      "source": [
        "Multi-Line Statement with comments to the end of each line."
      ]
    },
    {
      "cell_type": "code",
      "execution_count": null,
      "metadata": {
        "id": "TnS1p0wo49ka"
      },
      "outputs": [],
      "source": [
        "a = [1, #first element\n",
        "     2, #second element\n",
        "     3, #third element\n",
        "     ]"
      ]
    },
    {
      "cell_type": "code",
      "execution_count": null,
      "metadata": {
        "colab": {
          "base_uri": "https://localhost:8080/"
        },
        "id": "gwYjThj15QJg",
        "outputId": "e05e6a40-8fed-41cb-d832-ef0079167b67"
      },
      "outputs": [
        {
          "data": {
            "text/plain": [
              "[1, 2, 3]"
            ]
          },
          "execution_count": 5,
          "metadata": {},
          "output_type": "execute_result"
        }
      ],
      "source": [
        "a"
      ]
    },
    {
      "cell_type": "markdown",
      "metadata": {
        "id": "21bR4dUsGqwI"
      },
      "source": [
        "\n",
        "\n",
        "---\n",
        "**BE CAREFUL!**\n"
      ]
    },
    {
      "cell_type": "markdown",
      "metadata": {
        "id": "LidAnlJb6TIP"
      },
      "source": [
        "*If you use comments, you must close off the collection on a new line.*"
      ]
    },
    {
      "cell_type": "code",
      "execution_count": null,
      "metadata": {
        "colab": {
          "base_uri": "https://localhost:8080/",
          "height": 131
        },
        "id": "WoQA9SMr6Acw",
        "outputId": "2d400cdd-c068-4268-e11a-0f1d43d472b5"
      },
      "outputs": [
        {
          "ename": "SyntaxError",
          "evalue": "unexpected EOF while parsing (1010823888.py, line 2)",
          "output_type": "error",
          "traceback": [
            "\u001b[1;36m  Input \u001b[1;32mIn [6]\u001b[1;36m\u001b[0m\n\u001b[1;33m    2 # second element]\u001b[0m\n\u001b[1;37m                       ^\u001b[0m\n\u001b[1;31mSyntaxError\u001b[0m\u001b[1;31m:\u001b[0m unexpected EOF while parsing\n"
          ]
        }
      ],
      "source": [
        "a = [1, #first element\n",
        "     2 # second element]"
      ]
    },
    {
      "cell_type": "markdown",
      "metadata": {
        "id": "VJ2-WdcwGscx"
      },
      "source": [
        "\n",
        "\n",
        "---\n",
        "\n"
      ]
    },
    {
      "cell_type": "markdown",
      "metadata": {
        "id": "D8XD_7-u9WOG"
      },
      "source": [
        "This works the same way for tuples, sets, and dictionaries."
      ]
    },
    {
      "cell_type": "markdown",
      "metadata": {
        "id": "dafq91zC9wSb"
      },
      "source": [
        "Tuple"
      ]
    },
    {
      "cell_type": "code",
      "execution_count": null,
      "metadata": {
        "id": "R1pRXnqR5Qnx"
      },
      "outputs": [],
      "source": [
        "a = (1, #first element\n",
        "     2, #second element\n",
        "     3, #third element\n",
        "     )"
      ]
    },
    {
      "cell_type": "code",
      "execution_count": null,
      "metadata": {
        "colab": {
          "base_uri": "https://localhost:8080/"
        },
        "id": "HdijBf7d9tDm",
        "outputId": "733c056b-b682-4ea6-e11d-32e753321c14"
      },
      "outputs": [
        {
          "data": {
            "text/plain": [
              "(1, 2, 3)"
            ]
          },
          "execution_count": 8,
          "metadata": {},
          "output_type": "execute_result"
        }
      ],
      "source": [
        "a"
      ]
    },
    {
      "cell_type": "markdown",
      "metadata": {
        "id": "eow4ML-b9zQZ"
      },
      "source": [
        "Set"
      ]
    },
    {
      "cell_type": "code",
      "execution_count": null,
      "metadata": {
        "id": "nG5YRvIn9tbY"
      },
      "outputs": [],
      "source": [
        "a = {1, #first element\n",
        "     2, #second element\n",
        "     }"
      ]
    },
    {
      "cell_type": "code",
      "execution_count": null,
      "metadata": {
        "colab": {
          "base_uri": "https://localhost:8080/"
        },
        "id": "2FyXRpt498b-",
        "outputId": "28cf92b3-143f-4b9d-feb8-87d67fb39a38"
      },
      "outputs": [
        {
          "data": {
            "text/plain": [
              "{1, 2}"
            ]
          },
          "execution_count": 10,
          "metadata": {},
          "output_type": "execute_result"
        }
      ],
      "source": [
        "a"
      ]
    },
    {
      "cell_type": "markdown",
      "metadata": {
        "id": "x9cEhG5--HDl"
      },
      "source": [
        "Dictionary"
      ]
    },
    {
      "cell_type": "markdown",
      "metadata": {
        "id": "iOugr15v-ZyP"
      },
      "source": [
        "you can use each of key and value pairs comments in dictionary."
      ]
    },
    {
      "cell_type": "code",
      "execution_count": null,
      "metadata": {
        "id": "G_xS45i_995I"
      },
      "outputs": [],
      "source": [
        "a = {'key1': 'value1', #comment,\n",
        "     'key2': #comment\n",
        "     'value2' #comment\n",
        "     }"
      ]
    },
    {
      "cell_type": "code",
      "execution_count": null,
      "metadata": {
        "colab": {
          "base_uri": "https://localhost:8080/"
        },
        "id": "5VXFOIxH-SRp",
        "outputId": "df92df99-72a4-420d-db5a-917b637b8e20"
      },
      "outputs": [
        {
          "data": {
            "text/plain": [
              "{'key1': 'value1', 'key2': 'value2'}"
            ]
          },
          "execution_count": 12,
          "metadata": {},
          "output_type": "execute_result"
        }
      ],
      "source": [
        "a"
      ]
    },
    {
      "cell_type": "markdown",
      "metadata": {
        "id": "f6YLYy5b_YoQ"
      },
      "source": [
        "Function Parameter"
      ]
    },
    {
      "cell_type": "markdown",
      "metadata": {
        "id": "XfSylmNBAGqk"
      },
      "source": [
        "A parameter is the variable listed inside the parentheses in the function definition."
      ]
    },
    {
      "cell_type": "code",
      "execution_count": null,
      "metadata": {
        "id": "m90lAeKZ_YZQ"
      },
      "outputs": [],
      "source": [
        "def my_func(a, #some comment\n",
        "            b, c):\n",
        "    print(a, b ,c)"
      ]
    },
    {
      "cell_type": "markdown",
      "metadata": {
        "id": "1gytMNVNAMko"
      },
      "source": [
        "Function Argument"
      ]
    },
    {
      "cell_type": "markdown",
      "metadata": {
        "id": "m3TUKVFfAOni"
      },
      "source": [
        "An argument is the value that are sent to the function when it is called."
      ]
    },
    {
      "cell_type": "code",
      "execution_count": null,
      "metadata": {
        "colab": {
          "base_uri": "https://localhost:8080/"
        },
        "id": "A1fqn_7u-wC1",
        "outputId": "6386a8ba-7a55-4946-ee91-5530a0222450"
      },
      "outputs": [
        {
          "name": "stdout",
          "output_type": "stream",
          "text": [
            "10 20 30\n"
          ]
        }
      ],
      "source": [
        "my_func(10, #comment\n",
        "        20, #comment\n",
        "        30)"
      ]
    },
    {
      "cell_type": "markdown",
      "metadata": {
        "id": "TW4RS-QIBCdd"
      },
      "source": [
        "**Explicit Examples**"
      ]
    },
    {
      "cell_type": "markdown",
      "metadata": {
        "id": "m_n7QI04BLgo"
      },
      "source": [
        "You can use the `\\` character to explicitly create multi-line statements."
      ]
    },
    {
      "cell_type": "code",
      "execution_count": null,
      "metadata": {
        "colab": {
          "base_uri": "https://localhost:8080/"
        },
        "id": "9as55QUUAkX1",
        "outputId": "826e1dda-87de-4575-9159-de21b757dc51"
      },
      "outputs": [
        {
          "name": "stdout",
          "output_type": "stream",
          "text": [
            "yes!!\n"
          ]
        }
      ],
      "source": [
        "a = 10\n",
        "b = 20\n",
        "c = 30\n",
        "if a > 5 \\\n",
        "  and b > 10 \\\n",
        "  and c > 20:\n",
        "  print('yes!!')"
      ]
    },
    {
      "cell_type": "markdown",
      "metadata": {
        "id": "1z9Hv-6qBt2c"
      },
      "source": [
        "The indentation in continued-lines does not matter:"
      ]
    },
    {
      "cell_type": "code",
      "execution_count": null,
      "metadata": {
        "colab": {
          "base_uri": "https://localhost:8080/"
        },
        "id": "zKev4sbJBz0M",
        "outputId": "5e37115d-9508-44c3-8581-8de63e148f5a"
      },
      "outputs": [
        {
          "name": "stdout",
          "output_type": "stream",
          "text": [
            "yes!!\n"
          ]
        }
      ],
      "source": [
        "a = 10\n",
        "b = 20\n",
        "c = 30\n",
        "if a > 5 \\\n",
        "    and b > 10 \\\n",
        "        and c > 20:\n",
        "    print('yes!!')"
      ]
    },
    {
      "cell_type": "markdown",
      "metadata": {
        "id": "a61yj2gQCTDF"
      },
      "source": [
        "**Multi-Line Strings**"
      ]
    },
    {
      "cell_type": "markdown",
      "metadata": {
        "id": "9sJvo2YJCXoS"
      },
      "source": [
        "You can create multi-line strings by using triple delimiters (single or double quotes)"
      ]
    },
    {
      "cell_type": "code",
      "execution_count": null,
      "metadata": {
        "id": "8VSsNWwbB_81"
      },
      "outputs": [],
      "source": [
        "a = '''this is \n",
        "a multi-line string'''"
      ]
    },
    {
      "cell_type": "code",
      "execution_count": null,
      "metadata": {
        "colab": {
          "base_uri": "https://localhost:8080/"
        },
        "id": "lcIx46QZClkU",
        "outputId": "ec3b3bf2-1cd6-47b6-939e-a81f60a799c4"
      },
      "outputs": [
        {
          "name": "stdout",
          "output_type": "stream",
          "text": [
            "this is \n",
            "a multi-line string\n"
          ]
        }
      ],
      "source": [
        "print(a)"
      ]
    },
    {
      "cell_type": "markdown",
      "metadata": {
        "id": "AdjlmYZBCp2l"
      },
      "source": [
        "If you call with a directly in notebook, you will see with escape characters such as `\\n`."
      ]
    },
    {
      "cell_type": "code",
      "execution_count": null,
      "metadata": {
        "colab": {
          "base_uri": "https://localhost:8080/",
          "height": 35
        },
        "id": "DP4OrGSjCmPE",
        "outputId": "e8280c01-887c-4f9e-adef-921da5331884"
      },
      "outputs": [
        {
          "data": {
            "text/plain": [
              "'this is \\na multi-line string'"
            ]
          },
          "execution_count": 19,
          "metadata": {},
          "output_type": "execute_result"
        }
      ],
      "source": [
        "a"
      ]
    },
    {
      "cell_type": "markdown",
      "metadata": {
        "id": "1ZvfBZCKDB2v"
      },
      "source": [
        "Any character you type is preserved. You can also mix in escaped characters line any nırmal string. (i.e.: `\\n`)"
      ]
    },
    {
      "cell_type": "code",
      "execution_count": null,
      "metadata": {
        "id": "r7xaA_dwCnPI"
      },
      "outputs": [],
      "source": [
        "a = \"\"\"some items:\\n\n",
        "    1. item 1\n",
        "    2. item 2\"\"\""
      ]
    },
    {
      "cell_type": "code",
      "execution_count": null,
      "metadata": {
        "colab": {
          "base_uri": "https://localhost:8080/"
        },
        "id": "eofFGJHHDjHI",
        "outputId": "8341b278-053a-4255-c0a4-7474fe523924"
      },
      "outputs": [
        {
          "name": "stdout",
          "output_type": "stream",
          "text": [
            "some items:\n",
            "\n",
            "    1. item 1\n",
            "    2. item 2\n"
          ]
        }
      ],
      "source": [
        "print(a)"
      ]
    },
    {
      "cell_type": "markdown",
      "metadata": {
        "id": "pZbAIh0hGv_S"
      },
      "source": [
        "\n",
        "\n",
        "---\n",
        "**BE CAREFUL!**\n"
      ]
    },
    {
      "cell_type": "markdown",
      "metadata": {
        "id": "QJ3oZANuD5Yr"
      },
      "source": [
        "*if you indent your multi-line strings - the extra spaces are preserved!*"
      ]
    },
    {
      "cell_type": "code",
      "execution_count": null,
      "metadata": {
        "id": "vRKpiU4vDkN0"
      },
      "outputs": [],
      "source": [
        "def my_func():\n",
        "    a = '''a multi-line string\n",
        "    that is actually indented in the second line'''\n",
        "    return a"
      ]
    },
    {
      "cell_type": "code",
      "execution_count": null,
      "metadata": {
        "colab": {
          "base_uri": "https://localhost:8080/"
        },
        "id": "6Qz4j3yMEL4O",
        "outputId": "44d41724-a5c2-4b93-e3a5-30c939df4938"
      },
      "outputs": [
        {
          "name": "stdout",
          "output_type": "stream",
          "text": [
            "a multi-line string\n",
            "    that is actually indented in the second line\n"
          ]
        }
      ],
      "source": [
        "print(my_func())"
      ]
    },
    {
      "cell_type": "code",
      "execution_count": null,
      "metadata": {
        "id": "08RKuSa_EMxz"
      },
      "outputs": [],
      "source": [
        "def my_func():\n",
        "    a = '''a multi-line string\n",
        "that is not indented in the second line'''\n",
        "    return a"
      ]
    },
    {
      "cell_type": "code",
      "execution_count": null,
      "metadata": {
        "colab": {
          "base_uri": "https://localhost:8080/"
        },
        "id": "TxZFOOkrE2s6",
        "outputId": "9a40b7e4-2691-4106-8869-37d83400700a"
      },
      "outputs": [
        {
          "name": "stdout",
          "output_type": "stream",
          "text": [
            "a multi-line string\n",
            "that is not indented in the second line\n"
          ]
        }
      ],
      "source": [
        "print(my_func())"
      ]
    },
    {
      "cell_type": "markdown",
      "metadata": {
        "id": "PWKT6IbiGyZv"
      },
      "source": [
        "\n",
        "\n",
        "---\n",
        "\n",
        "**BE CAREFUL!**"
      ]
    },
    {
      "cell_type": "markdown",
      "metadata": {
        "id": "7ZrOZAgAFCOe"
      },
      "source": [
        "*Note that these multi-line strings are not comments - they are real strings and, unlike comments, are part of your compiled code. They are however used to create comments, such as docstrings, that we will cover later in this course.*"
      ]
    },
    {
      "cell_type": "markdown",
      "metadata": {
        "id": "YS8ZIPP7G0I_"
      },
      "source": [
        "\n",
        "\n",
        "---\n",
        "\n",
        "**BE CAREFUL!**"
      ]
    },
    {
      "cell_type": "markdown",
      "metadata": {
        "id": "iC5nicMGFrIj"
      },
      "source": [
        "*In general, use `#` to comment your code, and use multi-line strings only when actually needed (like for docstrings).\n",
        "Also, there are no multi-line comments in Python. You simply have to use a `#` on every line.*"
      ]
    },
    {
      "cell_type": "code",
      "execution_count": null,
      "metadata": {
        "id": "xpfRM-gAE4Wy"
      },
      "outputs": [],
      "source": [
        "# this is\n",
        "#   a multi-line\n",
        "#   comment"
      ]
    },
    {
      "cell_type": "markdown",
      "metadata": {
        "id": "joBdYDKZGH1K"
      },
      "source": [
        "*The following works, but the above formatting is preferrable.*"
      ]
    },
    {
      "cell_type": "code",
      "execution_count": null,
      "metadata": {
        "id": "-B_FQ-4EGDa3"
      },
      "outputs": [],
      "source": [
        "# this is\n",
        "    # a multi-line\n",
        "    # comment"
      ]
    },
    {
      "cell_type": "markdown",
      "metadata": {
        "id": "AnWBiepdG3WZ"
      },
      "source": [
        "\n",
        "\n",
        "---\n",
        "\n"
      ]
    },
    {
      "cell_type": "markdown",
      "metadata": {
        "id": "w4LiV36uQnOf"
      },
      "source": [
        "### 02 - Conditionals"
      ]
    },
    {
      "cell_type": "markdown",
      "metadata": {
        "id": "U-6fbvdrbXJ5"
      },
      "source": [
        "This is achieved using `if`, `elif` and `else` or the ternary operator (aka conditional expression)"
      ]
    },
    {
      "cell_type": "code",
      "execution_count": null,
      "metadata": {
        "colab": {
          "base_uri": "https://localhost:8080/"
        },
        "id": "MONbFoNKbrfO",
        "outputId": "4ae41b64-e4af-4bae-89ec-fe14a8a0d844"
      },
      "outputs": [
        {
          "name": "stdout",
          "output_type": "stream",
          "text": [
            "a < 3\n"
          ]
        }
      ],
      "source": [
        "a = 2\n",
        "if a < 3:\n",
        "    print('a < 3')\n",
        "else:\n",
        "    print('a >= 3')"
      ]
    },
    {
      "cell_type": "markdown",
      "metadata": {
        "id": "Fr1O62RDb105"
      },
      "source": [
        "`if` statements can be nested."
      ]
    },
    {
      "cell_type": "code",
      "execution_count": null,
      "metadata": {
        "colab": {
          "base_uri": "https://localhost:8080/"
        },
        "id": "mtyC3ksIbzgt",
        "outputId": "09fe47e3-a221-40e9-efda-7fc96e07eb59"
      },
      "outputs": [
        {
          "name": "stdout",
          "output_type": "stream",
          "text": [
            "a >= 10\n"
          ]
        }
      ],
      "source": [
        "a = 15\n",
        "\n",
        "if a < 5:\n",
        "    print('a < 5')\n",
        "else:\n",
        "    if a < 10:\n",
        "        print('5 <= a < 10')\n",
        "    else:\n",
        "        print('a >= 10')"
      ]
    },
    {
      "cell_type": "markdown",
      "metadata": {
        "id": "INokNcNXcHtP"
      },
      "source": [
        "But the `elif` statement provides for better readability."
      ]
    },
    {
      "cell_type": "code",
      "execution_count": null,
      "metadata": {
        "colab": {
          "base_uri": "https://localhost:8080/"
        },
        "id": "vuMMkc9ZcCdK",
        "outputId": "e5964793-639b-47b9-a03e-1a8eee73a740"
      },
      "outputs": [
        {
          "name": "stdout",
          "output_type": "stream",
          "text": [
            "a >= 10\n"
          ]
        }
      ],
      "source": [
        "a = 15\n",
        "\n",
        "if a < 5:\n",
        "    print('a < 5')\n",
        "elif a < 10:\n",
        "    print('5 <= a < 10')\n",
        "else:\n",
        "    print('a >= 10')"
      ]
    },
    {
      "cell_type": "markdown",
      "metadata": {
        "id": "A9bupp_vckgr"
      },
      "source": [
        "Python also provides a conditional expression (ternary operator):\n",
        "\n",
        "`X if (condition) else Y`\n",
        "\n",
        "returns (and evaluates) X if (conditions) is True, otherwise returns (and evaluates) Y"
      ]
    },
    {
      "cell_type": "code",
      "execution_count": null,
      "metadata": {
        "colab": {
          "base_uri": "https://localhost:8080/"
        },
        "id": "OBMNLm10cc6Z",
        "outputId": "a660c836-8aa0-4689-eafc-de3580d5ec63"
      },
      "outputs": [
        {
          "name": "stdout",
          "output_type": "stream",
          "text": [
            "a < 10\n"
          ]
        }
      ],
      "source": [
        "a = 5\n",
        "res = 'a < 10' if a < 10 else 'a >= 10'\n",
        "print(res)"
      ]
    },
    {
      "cell_type": "code",
      "execution_count": null,
      "metadata": {
        "colab": {
          "base_uri": "https://localhost:8080/"
        },
        "id": "ieGWgPLpc9_E",
        "outputId": "7d62a6f1-a1b5-4b6f-bc8f-62863a0ef477"
      },
      "outputs": [
        {
          "name": "stdout",
          "output_type": "stream",
          "text": [
            "a >= 10\n"
          ]
        }
      ],
      "source": [
        "a = 15\n",
        "res = 'a < 10' if a < 10 else 'a >= 10'\n",
        "print(res)"
      ]
    },
    {
      "cell_type": "markdown",
      "metadata": {
        "id": "h60yIWLBdWTO"
      },
      "source": [
        "\n",
        "\n",
        "---\n",
        "**BE CAREFUL!**\n"
      ]
    },
    {
      "cell_type": "markdown",
      "metadata": {
        "id": "ARVmnFE2dYvN"
      },
      "source": [
        "*Note that X and Y can be any expression, not just literal values:*"
      ]
    },
    {
      "cell_type": "code",
      "execution_count": null,
      "metadata": {
        "id": "fxFq8yyZdIoK"
      },
      "outputs": [],
      "source": [
        "def say_hello():\n",
        "    print('Hello!')\n",
        "\n",
        "def say_goodbye():\n",
        "    print('Goodbye!')"
      ]
    },
    {
      "cell_type": "code",
      "execution_count": null,
      "metadata": {
        "colab": {
          "base_uri": "https://localhost:8080/"
        },
        "id": "I2se5d-jl0_7",
        "outputId": "f63c397c-9de0-4b05-99a0-1f1500abbd33"
      },
      "outputs": [
        {
          "name": "stdout",
          "output_type": "stream",
          "text": [
            "Hello!\n"
          ]
        }
      ],
      "source": [
        "a = 5\n",
        "say_hello() if a < 10 else say_goodbye()"
      ]
    },
    {
      "cell_type": "code",
      "execution_count": null,
      "metadata": {
        "colab": {
          "base_uri": "https://localhost:8080/"
        },
        "id": "uTSLom6Dl8B8",
        "outputId": "742b1b4d-2ec7-4c14-e618-abab63b6302e"
      },
      "outputs": [
        {
          "name": "stdout",
          "output_type": "stream",
          "text": [
            "Goodbye!\n"
          ]
        }
      ],
      "source": [
        "a = 15\n",
        "say_hello() if a < 10 else say_goodbye()"
      ]
    },
    {
      "cell_type": "markdown",
      "metadata": {
        "id": "RgNkT9cJdXru"
      },
      "source": [
        "\n",
        "\n",
        "---\n",
        "\n"
      ]
    },
    {
      "cell_type": "markdown",
      "metadata": {
        "id": "DUieE-gpqOdV"
      },
      "source": [
        "### 03 - Functions"
      ]
    },
    {
      "cell_type": "markdown",
      "metadata": {
        "id": "Ps1C_qQlqTq0"
      },
      "source": [
        "Python has many built-in functions and methods we can use\n",
        "Some are available by default:"
      ]
    },
    {
      "cell_type": "code",
      "execution_count": null,
      "metadata": {
        "colab": {
          "base_uri": "https://localhost:8080/"
        },
        "id": "u8ZxfkFrqhfo",
        "outputId": "c966fdf9-27cd-41b2-e876-13c861a1a306"
      },
      "outputs": [
        {
          "data": {
            "text/plain": [
              "3"
            ]
          },
          "execution_count": 36,
          "metadata": {},
          "output_type": "execute_result"
        }
      ],
      "source": [
        "s = [1, 2, 3]\n",
        "len(s)"
      ]
    },
    {
      "cell_type": "markdown",
      "metadata": {
        "id": "xMrGRmZoqmGo"
      },
      "source": [
        "While some need to be imported:"
      ]
    },
    {
      "cell_type": "code",
      "execution_count": null,
      "metadata": {
        "id": "ikzGJ0__qlvx"
      },
      "outputs": [],
      "source": [
        "from math import sqrt"
      ]
    },
    {
      "cell_type": "code",
      "execution_count": null,
      "metadata": {
        "colab": {
          "base_uri": "https://localhost:8080/"
        },
        "id": "nBIRKsP4qkxM",
        "outputId": "1b775cf7-5f79-47a2-e4b5-009978e93e96"
      },
      "outputs": [
        {
          "data": {
            "text/plain": [
              "2.0"
            ]
          },
          "execution_count": 38,
          "metadata": {},
          "output_type": "execute_result"
        }
      ],
      "source": [
        "sqrt(4)"
      ]
    },
    {
      "cell_type": "markdown",
      "metadata": {
        "id": "-3nsSBNWqt7g"
      },
      "source": [
        "Entire modules can be imported:"
      ]
    },
    {
      "cell_type": "code",
      "execution_count": null,
      "metadata": {
        "id": "-pxYOdRrqr5e"
      },
      "outputs": [],
      "source": [
        "import math"
      ]
    },
    {
      "cell_type": "code",
      "execution_count": null,
      "metadata": {
        "colab": {
          "base_uri": "https://localhost:8080/"
        },
        "id": "Q4KbWy0_qxTL",
        "outputId": "f896515d-5d78-4302-cada-083590a67224"
      },
      "outputs": [
        {
          "data": {
            "text/plain": [
              "2.718281828459045"
            ]
          },
          "execution_count": 40,
          "metadata": {},
          "output_type": "execute_result"
        }
      ],
      "source": [
        "math.exp(1)"
      ]
    },
    {
      "cell_type": "markdown",
      "metadata": {
        "id": "HS2lQgj4qz6f"
      },
      "source": [
        "We can define our own functions:"
      ]
    },
    {
      "cell_type": "code",
      "execution_count": null,
      "metadata": {
        "id": "1J70TOinqyaF"
      },
      "outputs": [],
      "source": [
        "def func_1():\n",
        "    print('running func1')"
      ]
    },
    {
      "cell_type": "code",
      "execution_count": null,
      "metadata": {
        "colab": {
          "base_uri": "https://localhost:8080/"
        },
        "id": "aX7htV08rQKc",
        "outputId": "aa700d71-1b88-495b-aee0-3c7740039214"
      },
      "outputs": [
        {
          "name": "stdout",
          "output_type": "stream",
          "text": [
            "running func1\n"
          ]
        }
      ],
      "source": [
        "func_1()"
      ]
    },
    {
      "cell_type": "markdown",
      "metadata": {
        "id": "0GFFVC0CraRE"
      },
      "source": [
        "\n",
        "\n",
        "---\n",
        "**BE CAREFUL!**\n"
      ]
    },
    {
      "cell_type": "markdown",
      "metadata": {
        "id": "o-3IwKLFrc4X"
      },
      "source": [
        "*Note that to \"call\" or \"invoke\" a function we need to use the `()`.\n",
        "Simply using the function name without the `()` refers to the function, but does not call it:* "
      ]
    },
    {
      "cell_type": "code",
      "execution_count": null,
      "metadata": {
        "colab": {
          "base_uri": "https://localhost:8080/"
        },
        "id": "r9uQD0yNrRON",
        "outputId": "13024804-6461-4408-e38c-3025fcc81128"
      },
      "outputs": [
        {
          "data": {
            "text/plain": [
              "<function __main__.func_1()>"
            ]
          },
          "execution_count": 43,
          "metadata": {},
          "output_type": "execute_result"
        }
      ],
      "source": [
        "func_1"
      ]
    },
    {
      "cell_type": "markdown",
      "metadata": {
        "id": "w7LBaslRrbiT"
      },
      "source": [
        "\n",
        "\n",
        "---\n",
        "\n"
      ]
    },
    {
      "cell_type": "markdown",
      "metadata": {
        "id": "tFm1g74vsLU_"
      },
      "source": [
        "*We can also define functions that take parameters:*"
      ]
    },
    {
      "cell_type": "code",
      "execution_count": null,
      "metadata": {
        "id": "y2Odn5PVsO0w"
      },
      "outputs": [],
      "source": [
        "def func_2(a, b):\n",
        "    return a * b"
      ]
    },
    {
      "cell_type": "markdown",
      "metadata": {
        "id": "jSw9oB10so0B"
      },
      "source": [
        "\n",
        "\n",
        "---\n",
        "**BE CAREFUL!**\n"
      ]
    },
    {
      "cell_type": "markdown",
      "metadata": {
        "id": "SxkG44OysvPI"
      },
      "source": [
        "*Note that `a` and `b` can be any type (this is an example of polymorphism - which we will look into more detail later in this course).\n",
        "But the function will fail to run if `a` and `b` are types that are not \"compatible\" with the ` * ` operator:*"
      ]
    },
    {
      "cell_type": "code",
      "execution_count": null,
      "metadata": {
        "colab": {
          "base_uri": "https://localhost:8080/"
        },
        "id": "uR5dV-jpspb3",
        "outputId": "ce20d6eb-03c0-4465-df70-ced5b5f70ca6"
      },
      "outputs": [
        {
          "data": {
            "text/plain": [
              "6"
            ]
          },
          "execution_count": 45,
          "metadata": {},
          "output_type": "execute_result"
        }
      ],
      "source": [
        "func_2(3, 2)"
      ]
    },
    {
      "cell_type": "code",
      "execution_count": null,
      "metadata": {
        "colab": {
          "base_uri": "https://localhost:8080/",
          "height": 35
        },
        "id": "5OPLXrZwsTBV",
        "outputId": "11dd9f1e-d664-47f0-a4f8-eeb824114688"
      },
      "outputs": [
        {
          "data": {
            "text/plain": [
              "'aaa'"
            ]
          },
          "execution_count": 46,
          "metadata": {},
          "output_type": "execute_result"
        }
      ],
      "source": [
        "func_2('a', 3)"
      ]
    },
    {
      "cell_type": "code",
      "execution_count": null,
      "metadata": {
        "colab": {
          "base_uri": "https://localhost:8080/",
          "height": 236
        },
        "id": "3Gg_lph5tJqO",
        "outputId": "124718a1-6bdf-4f8d-d275-7167ee55e405"
      },
      "outputs": [
        {
          "ename": "TypeError",
          "evalue": "can't multiply sequence by non-int of type 'str'",
          "output_type": "error",
          "traceback": [
            "\u001b[1;31m---------------------------------------------------------------------------\u001b[0m",
            "\u001b[1;31mTypeError\u001b[0m                                 Traceback (most recent call last)",
            "Input \u001b[1;32mIn [47]\u001b[0m, in \u001b[0;36m<cell line: 1>\u001b[1;34m()\u001b[0m\n\u001b[1;32m----> 1\u001b[0m \u001b[43mfunc_2\u001b[49m\u001b[43m(\u001b[49m\u001b[38;5;124;43m'\u001b[39;49m\u001b[38;5;124;43ma\u001b[39;49m\u001b[38;5;124;43m'\u001b[39;49m\u001b[43m,\u001b[49m\u001b[43m \u001b[49m\u001b[38;5;124;43m'\u001b[39;49m\u001b[38;5;124;43mb\u001b[39;49m\u001b[38;5;124;43m'\u001b[39;49m\u001b[43m)\u001b[49m\n",
            "Input \u001b[1;32mIn [44]\u001b[0m, in \u001b[0;36mfunc_2\u001b[1;34m(a, b)\u001b[0m\n\u001b[0;32m      1\u001b[0m \u001b[38;5;28;01mdef\u001b[39;00m \u001b[38;5;21mfunc_2\u001b[39m(a, b):\n\u001b[1;32m----> 2\u001b[0m     \u001b[38;5;28;01mreturn\u001b[39;00m \u001b[43ma\u001b[49m\u001b[43m \u001b[49m\u001b[38;5;241;43m*\u001b[39;49m\u001b[43m \u001b[49m\u001b[43mb\u001b[49m\n",
            "\u001b[1;31mTypeError\u001b[0m: can't multiply sequence by non-int of type 'str'"
          ]
        }
      ],
      "source": [
        "func_2('a', 'b')"
      ]
    },
    {
      "cell_type": "markdown",
      "metadata": {
        "id": "-BUvGWXfsqCx"
      },
      "source": [
        "\n",
        "\n",
        "---\n",
        "\n"
      ]
    },
    {
      "cell_type": "markdown",
      "metadata": {
        "id": "Omjd-9pxtdsy"
      },
      "source": [
        "It is possible to use type annotations:"
      ]
    },
    {
      "cell_type": "code",
      "execution_count": null,
      "metadata": {
        "id": "bBSgIPTZtgdv"
      },
      "outputs": [],
      "source": [
        "def func_3(a: int, b: int):\n",
        "    return a * b"
      ]
    },
    {
      "cell_type": "code",
      "execution_count": null,
      "metadata": {
        "id": "_ns0NQR3tkua"
      },
      "outputs": [],
      "source": [
        "func_3(2 ,3)"
      ]
    },
    {
      "cell_type": "code",
      "execution_count": null,
      "metadata": {
        "id": "A8vStEnhtmTl"
      },
      "outputs": [],
      "source": [
        "func_3('a', 2)"
      ]
    },
    {
      "cell_type": "markdown",
      "metadata": {
        "id": "KtGSmFuYturH"
      },
      "source": [
        "\n",
        "\n",
        "---\n",
        "**BE CAREFUL!**\n"
      ]
    },
    {
      "cell_type": "markdown",
      "metadata": {
        "id": "D7oiV6yAtvyI"
      },
      "source": [
        "*But as you can see, these do not enforce a data type! They are simply metadata that can be used by external libraries, and many IDE's.*"
      ]
    },
    {
      "cell_type": "markdown",
      "metadata": {
        "id": "FpMgxPgityHj"
      },
      "source": [
        "\n",
        "\n",
        "---\n",
        "\n"
      ]
    },
    {
      "cell_type": "markdown",
      "metadata": {
        "id": "fLNGnWhyuB5J"
      },
      "source": [
        "Functions are objects, just like integers are objects, and they can be assigned to variables just as an integer can:"
      ]
    },
    {
      "cell_type": "code",
      "execution_count": null,
      "metadata": {
        "id": "SdAXSqs8twgd",
        "outputId": "f30e4fe3-43fb-4625-e75d-42bb2b765909"
      },
      "outputs": [
        {
          "ename": "NameError",
          "evalue": "name 'func_3' is not defined",
          "output_type": "error",
          "traceback": [
            "\u001b[1;31m---------------------------------------------------------------------------\u001b[0m",
            "\u001b[1;31mNameError\u001b[0m                                 Traceback (most recent call last)",
            "Input \u001b[1;32mIn [48]\u001b[0m, in \u001b[0;36m<cell line: 1>\u001b[1;34m()\u001b[0m\n\u001b[1;32m----> 1\u001b[0m my_func \u001b[38;5;241m=\u001b[39m \u001b[43mfunc_3\u001b[49m\n",
            "\u001b[1;31mNameError\u001b[0m: name 'func_3' is not defined"
          ]
        }
      ],
      "source": [
        "my_func = func_3"
      ]
    },
    {
      "cell_type": "code",
      "execution_count": null,
      "metadata": {
        "colab": {
          "base_uri": "https://localhost:8080/",
          "height": 35
        },
        "id": "uDIN0gV8tqZ5",
        "outputId": "dadd66d1-a754-4f15-d067-5b13006d3863"
      },
      "outputs": [
        {
          "ename": "TypeError",
          "evalue": "my_func() takes 0 positional arguments but 2 were given",
          "output_type": "error",
          "traceback": [
            "\u001b[1;31m---------------------------------------------------------------------------\u001b[0m",
            "\u001b[1;31mTypeError\u001b[0m                                 Traceback (most recent call last)",
            "Input \u001b[1;32mIn [49]\u001b[0m, in \u001b[0;36m<cell line: 1>\u001b[1;34m()\u001b[0m\n\u001b[1;32m----> 1\u001b[0m \u001b[43mmy_func\u001b[49m\u001b[43m(\u001b[49m\u001b[38;5;124;43m'\u001b[39;49m\u001b[38;5;124;43ma\u001b[39;49m\u001b[38;5;124;43m'\u001b[39;49m\u001b[43m,\u001b[49m\u001b[43m \u001b[49m\u001b[38;5;241;43m2\u001b[39;49m\u001b[43m)\u001b[49m\n",
            "\u001b[1;31mTypeError\u001b[0m: my_func() takes 0 positional arguments but 2 were given"
          ]
        }
      ],
      "source": [
        "my_func('a', 2)"
      ]
    },
    {
      "cell_type": "markdown",
      "metadata": {
        "id": "JOcRfUlTuU89"
      },
      "source": [
        "\n",
        "\n",
        "---\n",
        "**BE CAREFUL!**\n"
      ]
    },
    {
      "cell_type": "markdown",
      "metadata": {
        "id": "V3muNLi4uWAv"
      },
      "source": [
        "*Functions must always return something. If you do not specify a return value, Python will automatically return the `None` object:*"
      ]
    },
    {
      "cell_type": "code",
      "execution_count": null,
      "metadata": {
        "id": "5FGjXXz6uPga"
      },
      "outputs": [],
      "source": [
        "def func_4():\n",
        "    # does something but does not return a value\n",
        "    a = 2"
      ]
    },
    {
      "cell_type": "code",
      "execution_count": null,
      "metadata": {
        "id": "EoVmqsB7urU3"
      },
      "outputs": [],
      "source": [
        "res = func_4()"
      ]
    },
    {
      "cell_type": "code",
      "execution_count": null,
      "metadata": {
        "colab": {
          "base_uri": "https://localhost:8080/"
        },
        "id": "M7dcQt0NuthJ",
        "outputId": "b4101173-d87b-4cdc-9b29-994f9c100f2e"
      },
      "outputs": [
        {
          "name": "stdout",
          "output_type": "stream",
          "text": [
            "None\n"
          ]
        }
      ],
      "source": [
        "print(res)"
      ]
    },
    {
      "cell_type": "markdown",
      "metadata": {
        "id": "S9xtGaEKuV3u"
      },
      "source": [
        "\n",
        "\n",
        "---\n",
        "\n"
      ]
    },
    {
      "cell_type": "markdown",
      "metadata": {
        "id": "vMk4UlnkuzWv"
      },
      "source": [
        "The `def` keyword is an executable piece of code that creates the function (an instance of the function class) and essentially assigns it to a variable name ( the function name)."
      ]
    },
    {
      "cell_type": "markdown",
      "metadata": {
        "id": "Oh_5v3_IvKax"
      },
      "source": [
        "\n",
        "\n",
        "---\n",
        "**BE CAREFUL!**\n"
      ]
    },
    {
      "cell_type": "markdown",
      "metadata": {
        "id": "-mG94d6IvMzI"
      },
      "source": [
        "*Note that the function is defined when `def` is reached, but the code inside it is not evaluated until the function is called.\n",
        "This is why we can define functions that call other functions defined later - as long as we don't call them before all the necessary functions are defined.\n",
        "For example, the following will work:*"
      ]
    },
    {
      "cell_type": "code",
      "execution_count": null,
      "metadata": {
        "colab": {
          "base_uri": "https://localhost:8080/"
        },
        "id": "PYFrmNQkvh2t",
        "outputId": "0ddeb14c-a4c1-4324-cf94-59956bc3bd02"
      },
      "outputs": [
        {
          "name": "stdout",
          "output_type": "stream",
          "text": [
            "Hello\n"
          ]
        }
      ],
      "source": [
        "def fn_1():\n",
        "    fn_2()\n",
        "\n",
        "def fn_2():\n",
        "    print('Hello')\n",
        "\n",
        "fn_1()"
      ]
    },
    {
      "cell_type": "markdown",
      "metadata": {
        "id": "ydiZ4yCrv3ZH"
      },
      "source": [
        "*But this will not work:*"
      ]
    },
    {
      "cell_type": "code",
      "execution_count": null,
      "metadata": {
        "colab": {
          "base_uri": "https://localhost:8080/",
          "height": 357
        },
        "id": "Qzzqefnivu-A",
        "outputId": "24699942-3477-439d-96df-d163be713ac8"
      },
      "outputs": [
        {
          "ename": "NameError",
          "evalue": "name 'fn_4' is not defined",
          "output_type": "error",
          "traceback": [
            "\u001b[1;31m---------------------------------------------------------------------------\u001b[0m",
            "\u001b[1;31mNameError\u001b[0m                                 Traceback (most recent call last)",
            "Input \u001b[1;32mIn [54]\u001b[0m, in \u001b[0;36m<cell line: 4>\u001b[1;34m()\u001b[0m\n\u001b[0;32m      1\u001b[0m \u001b[38;5;28;01mdef\u001b[39;00m \u001b[38;5;21mfn_3\u001b[39m():\n\u001b[0;32m      2\u001b[0m     fn_4\n\u001b[1;32m----> 4\u001b[0m \u001b[43mfn_3\u001b[49m\u001b[43m(\u001b[49m\u001b[43m)\u001b[49m\n\u001b[0;32m      6\u001b[0m \u001b[38;5;28;01mdef\u001b[39;00m \u001b[38;5;21mfn_4\u001b[39m():\n\u001b[0;32m      7\u001b[0m     \u001b[38;5;28mprint\u001b[39m(\u001b[38;5;124m'\u001b[39m\u001b[38;5;124mHello\u001b[39m\u001b[38;5;124m'\u001b[39m)\n",
            "Input \u001b[1;32mIn [54]\u001b[0m, in \u001b[0;36mfn_3\u001b[1;34m()\u001b[0m\n\u001b[0;32m      1\u001b[0m \u001b[38;5;28;01mdef\u001b[39;00m \u001b[38;5;21mfn_3\u001b[39m():\n\u001b[1;32m----> 2\u001b[0m     \u001b[43mfn_4\u001b[49m\n",
            "\u001b[1;31mNameError\u001b[0m: name 'fn_4' is not defined"
          ]
        }
      ],
      "source": [
        "def fn_3():\n",
        "    fn_4\n",
        "\n",
        "fn_3()\n",
        "\n",
        "def fn_4():\n",
        "    print('Hello')"
      ]
    },
    {
      "cell_type": "markdown",
      "metadata": {
        "id": "0h9i3hWVv2Mm"
      },
      "source": [
        "\n",
        "\n",
        "---\n",
        "\n"
      ]
    },
    {
      "cell_type": "markdown",
      "metadata": {
        "id": "sR8VQFhhwJR9"
      },
      "source": [
        "We also have the `lambda` keyword, that also creates a new function, but does not assign it to any specific name - instead it just returns the function object - which we can, if we wish, assign yo a variable ourselves:"
      ]
    },
    {
      "cell_type": "code",
      "execution_count": null,
      "metadata": {
        "id": "PLB2IQx-wXHP"
      },
      "outputs": [],
      "source": [
        "func_5 = lambda x: x ** 2"
      ]
    },
    {
      "cell_type": "code",
      "execution_count": null,
      "metadata": {
        "colab": {
          "base_uri": "https://localhost:8080/"
        },
        "id": "nOYTFI1kwaaL",
        "outputId": "88af6200-0a73-4a3a-a541-bbf244a22238"
      },
      "outputs": [
        {
          "data": {
            "text/plain": [
              "<function __main__.<lambda>(x)>"
            ]
          },
          "execution_count": 56,
          "metadata": {},
          "output_type": "execute_result"
        }
      ],
      "source": [
        "func_5"
      ]
    },
    {
      "cell_type": "code",
      "execution_count": null,
      "metadata": {
        "colab": {
          "base_uri": "https://localhost:8080/"
        },
        "id": "eMD22An3wbkg",
        "outputId": "a022c6f1-b0dc-4aa5-93e2-09d61407e517"
      },
      "outputs": [
        {
          "data": {
            "text/plain": [
              "4"
            ]
          },
          "execution_count": 57,
          "metadata": {},
          "output_type": "execute_result"
        }
      ],
      "source": [
        "func_5(2)"
      ]
    },
    {
      "cell_type": "markdown",
      "metadata": {
        "id": "-iibcL9XwmF_"
      },
      "source": [
        "### 04 - The While Loop"
      ]
    },
    {
      "cell_type": "markdown",
      "metadata": {
        "id": "hGMaflo5wp6V"
      },
      "source": [
        "The while loop is a way to repeat a block of code as long as a specified condition is met.\n",
        "\n",
        "```\n",
        "while <exp is true>:\n",
        "    code block\n",
        "```"
      ]
    },
    {
      "cell_type": "code",
      "execution_count": null,
      "metadata": {
        "colab": {
          "base_uri": "https://localhost:8080/"
        },
        "id": "dgAFVi2W15TD",
        "outputId": "e7fa06bd-10dc-4ef5-ae8a-fe6285838014"
      },
      "outputs": [
        {
          "name": "stdout",
          "output_type": "stream",
          "text": [
            "0\n",
            "1\n",
            "2\n",
            "3\n",
            "4\n"
          ]
        }
      ],
      "source": [
        "i = 0\n",
        "while i < 5:\n",
        "    print(i)\n",
        "    i += 1"
      ]
    },
    {
      "cell_type": "markdown",
      "metadata": {
        "id": "d5iBIchd2cBW"
      },
      "source": [
        "\n",
        "\n",
        "---\n",
        "**BE CAREFUL!**\n"
      ]
    },
    {
      "cell_type": "markdown",
      "metadata": {
        "id": "hROR-Yaa2eFU"
      },
      "source": [
        "*Note that there is no guarantee that a while loop will execute at all, not even once, because the condition is tested before the loop runs.*"
      ]
    },
    {
      "cell_type": "code",
      "execution_count": null,
      "metadata": {
        "id": "mlxWoTnf2cqu"
      },
      "outputs": [],
      "source": [
        "i = 5\n",
        "while i < 5:\n",
        "    print(i)\n",
        "    i += 1"
      ]
    },
    {
      "cell_type": "markdown",
      "metadata": {
        "id": "TWR8uxVQ20el"
      },
      "source": [
        "*Some languages have a concept of a while loop that is guaranteed to executed at least one:*\n",
        "```\n",
        "do\n",
        "    code block\n",
        "while <exp is true>\n",
        "```\n",
        "*There is no such thing in Python, but it's easy to write code that works that way.*\n"
      ]
    },
    {
      "cell_type": "markdown",
      "metadata": {
        "id": "ezdXwHW02dCv"
      },
      "source": [
        "\n",
        "\n",
        "---\n",
        "\n"
      ]
    },
    {
      "cell_type": "markdown",
      "metadata": {
        "id": "NxEFtpJo3UkW"
      },
      "source": [
        "We create an infinite loop and test the condition inside the loop and break out of the loop when the condition becomes false:"
      ]
    },
    {
      "cell_type": "code",
      "execution_count": null,
      "metadata": {
        "colab": {
          "base_uri": "https://localhost:8080/"
        },
        "id": "KZcXo97G2PnB",
        "outputId": "484c90da-8189-492b-b3a6-7bf34df8d8c6"
      },
      "outputs": [
        {
          "name": "stdout",
          "output_type": "stream",
          "text": [
            "5\n"
          ]
        }
      ],
      "source": [
        "i = 5\n",
        "\n",
        "while True:\n",
        "    print(i)\n",
        "    if i >= 5:\n",
        "        break"
      ]
    },
    {
      "cell_type": "markdown",
      "metadata": {
        "id": "SmOf4eHy3m2y"
      },
      "source": [
        "As you can see the loop executed once ( and will always execute at least once, no matter the starting value of `i`.)\n",
        "This is a standard pattern and can be useful in a varity of scenarios.\n",
        "A simple example might be getting repetitive user input until the user performs and action or provides some specific value.\n",
        "we might try it this way:"
      ]
    },
    {
      "cell_type": "code",
      "execution_count": null,
      "metadata": {
        "colab": {
          "base_uri": "https://localhost:8080/"
        },
        "id": "1TwOVhUL3jml",
        "outputId": "1a581efa-33c0-4faf-c913-7db10bc10fa9"
      },
      "outputs": [
        {
          "name": "stdin",
          "output_type": "stream",
          "text": [
            "Please enter your name: serdar\n"
          ]
        },
        {
          "name": "stdout",
          "output_type": "stream",
          "text": [
            "Hello, serdar\n"
          ]
        }
      ],
      "source": [
        "min_length = 2\n",
        "name = input('Please enter your name:')\n",
        "while not(len(name) >= min_length and name.isprintable() and name.isalpha()):\n",
        "    name = input('Please enter your name:')\n",
        "print('Hello, {0}'.format(name))"
      ]
    },
    {
      "cell_type": "markdown",
      "metadata": {
        "id": "XdbVyRRE4pwV"
      },
      "source": [
        "This works just fine, but notice that we had to write the code to elicit user input twice in our code. This is not good practice, and we can easily clean this up as follows:"
      ]
    },
    {
      "cell_type": "code",
      "execution_count": null,
      "metadata": {
        "colab": {
          "base_uri": "https://localhost:8080/"
        },
        "id": "-v91qpyf4aUG",
        "outputId": "ea49d74a-9eb2-41a3-cbf5-af27a0ab79f4"
      },
      "outputs": [
        {
          "name": "stdin",
          "output_type": "stream",
          "text": [
            "Please enter your name: serdar\n"
          ]
        },
        {
          "name": "stdout",
          "output_type": "stream",
          "text": [
            "Hello, serdar\n"
          ]
        }
      ],
      "source": [
        "min_length = 2\n",
        "\n",
        "while True:\n",
        "    name = input('Please enter your name:')\n",
        "    if len(name) >= min_length and name.isprintable() and name.isalpha():\n",
        "        break\n",
        "\n",
        "print('Hello, {0}'.format(name))"
      ]
    },
    {
      "cell_type": "markdown",
      "metadata": {
        "id": "4Vj9eZwX5LHC"
      },
      "source": [
        "We saw how the `break` statement exists the while loop and execution resumes on the line immediately after the while code block.\n",
        "\n",
        "Sometimes, we just want to cut the current iteration short, but continue looping, without exiting the loop itself.\n",
        "\n",
        "This is done using `continue` statement."
      ]
    },
    {
      "cell_type": "code",
      "execution_count": null,
      "metadata": {
        "colab": {
          "base_uri": "https://localhost:8080/"
        },
        "id": "IUEZ16-44_iO",
        "outputId": "a30afc4c-da0d-419a-852d-955674a0b2f0"
      },
      "outputs": [
        {
          "name": "stdout",
          "output_type": "stream",
          "text": [
            "2\n",
            "4\n",
            "6\n",
            "8\n",
            "10\n"
          ]
        }
      ],
      "source": [
        "a = 0\n",
        "while a < 10:\n",
        "    a += 1\n",
        "    if a % 2:\n",
        "        continue\n",
        "    print(a)"
      ]
    },
    {
      "cell_type": "markdown",
      "metadata": {
        "id": "IKX7dyKMPSFC"
      },
      "source": [
        "\n",
        "\n",
        "---\n",
        "**BE CAREFUL!**\n"
      ]
    },
    {
      "cell_type": "markdown",
      "metadata": {
        "id": "VuWfr8EA5tJl"
      },
      "source": [
        "*The while loop also can be used with an `else` clause!!*\n",
        "\n",
        "*The `else` is executed if the `while` loop terminated without hitting a `break` statement (we say the loop terminated normally)*\n",
        "\n",
        "*Suppose we want to test if some value is present in some list, and if not we want to append it to the list (again there are better ways of doing this):*\n",
        "\n",
        "*First, here's how we might do it wihout the benefit of the `else` clause:*"
      ]
    },
    {
      "cell_type": "code",
      "execution_count": null,
      "metadata": {
        "colab": {
          "base_uri": "https://localhost:8080/"
        },
        "id": "oI4TFIMO5poQ",
        "outputId": "b7840556-eac7-4dac-a2b1-0c5f9b7b1c92"
      },
      "outputs": [
        {
          "name": "stdout",
          "output_type": "stream",
          "text": [
            "[1, 2, 3, 10]\n"
          ]
        }
      ],
      "source": [
        "l = [1, 2, 3]\n",
        "val = 10\n",
        "\n",
        "found = False\n",
        "idx = 0\n",
        "while idx < len(l):\n",
        "    if l[idx] == val:\n",
        "        found = True\n",
        "        break\n",
        "    idx += 1\n",
        "\n",
        "if not found:\n",
        "    l.append(val)\n",
        "print(l)"
      ]
    },
    {
      "cell_type": "markdown",
      "metadata": {
        "id": "S6v7XH4i7CwY"
      },
      "source": [
        "Using the `else` clause is easier:"
      ]
    },
    {
      "cell_type": "code",
      "execution_count": null,
      "metadata": {
        "colab": {
          "base_uri": "https://localhost:8080/"
        },
        "id": "KPurKYXd7AwD",
        "outputId": "1f903755-0619-4820-b30b-991a60cbe380"
      },
      "outputs": [
        {
          "name": "stdout",
          "output_type": "stream",
          "text": [
            "[1, 2, 3, 10]\n"
          ]
        }
      ],
      "source": [
        "l = [1, 2, 3]\n",
        "val = 10\n",
        "\n",
        "idx = 0\n",
        "while idx < len(l):\n",
        "    if l[idx] == val:\n",
        "        break\n",
        "    idx += 1\n",
        "else:\n",
        "    l.append(val)\n",
        "\n",
        "print(l)"
      ]
    },
    {
      "cell_type": "code",
      "execution_count": null,
      "metadata": {
        "colab": {
          "base_uri": "https://localhost:8080/"
        },
        "id": "EWkiS2Q77rUX",
        "outputId": "98534d9c-7422-4e9f-c2cc-0842ee11c73d"
      },
      "outputs": [
        {
          "name": "stdout",
          "output_type": "stream",
          "text": [
            "[1, 2, 3]\n"
          ]
        }
      ],
      "source": [
        "l = [1, 2, 3]\n",
        "val = 3\n",
        "\n",
        "idx = 0\n",
        "while idx < len(l):\n",
        "    if l[idx] == val:\n",
        "        break\n",
        "    idx += 1\n",
        "else:\n",
        "    l.append(val)\n",
        "\n",
        "print(l)"
      ]
    },
    {
      "cell_type": "markdown",
      "metadata": {
        "id": "64x6CPpUPqiU"
      },
      "source": [
        "\n",
        "\n",
        "---\n",
        "\n"
      ]
    },
    {
      "cell_type": "markdown",
      "metadata": {
        "id": "oUHikNHZ778M"
      },
      "source": [
        "### 05 - Loop Break and Continue inside a Try...Except...Finally"
      ]
    },
    {
      "cell_type": "markdown",
      "metadata": {
        "id": "YdM7Psvk-d7l"
      },
      "source": [
        "Recall that in a `try` statement, the `finally` clause always runs:"
      ]
    },
    {
      "cell_type": "code",
      "execution_count": null,
      "metadata": {
        "colab": {
          "base_uri": "https://localhost:8080/"
        },
        "id": "K3tUkRPS76r_",
        "outputId": "6e384934-e545-4cc5-824a-302f754382fc"
      },
      "outputs": [
        {
          "name": "stdout",
          "output_type": "stream",
          "text": [
            "this always executes\n"
          ]
        }
      ],
      "source": [
        "from six import b\n",
        "a = 10\n",
        "b = 1\n",
        "try:\n",
        "    a / b\n",
        "except ZeroDivisionError:\n",
        "    print('division by 0')\n",
        "finally:\n",
        "    print('this always executes')"
      ]
    },
    {
      "cell_type": "code",
      "execution_count": null,
      "metadata": {
        "colab": {
          "base_uri": "https://localhost:8080/"
        },
        "id": "4Wv3OpH--ucg",
        "outputId": "95d3921c-10ec-49fd-c2cb-e5c33e62c14e"
      },
      "outputs": [
        {
          "name": "stdout",
          "output_type": "stream",
          "text": [
            "division by 0\n",
            "this always executes\n"
          ]
        }
      ],
      "source": [
        "from six import b\n",
        "a = 10\n",
        "b = 0\n",
        "try:\n",
        "    a / b\n",
        "except ZeroDivisionError:\n",
        "    print('division by 0')\n",
        "finally:\n",
        "    print('this always executes')"
      ]
    },
    {
      "cell_type": "markdown",
      "metadata": {
        "id": "21B0Jn8K-6z6"
      },
      "source": [
        "So, what happens when using a `try` statement within a `while` loop, and a `continue` or `break` statement is encountered?"
      ]
    },
    {
      "cell_type": "code",
      "execution_count": null,
      "metadata": {
        "colab": {
          "base_uri": "https://localhost:8080/"
        },
        "id": "p_AEQuUE-xHB",
        "outputId": "6bb1d52c-9ef3-4642-9de3-ce90b681b850"
      },
      "outputs": [
        {
          "name": "stdout",
          "output_type": "stream",
          "text": [
            "----------\n",
            "1, 1 - always executes\n",
            "1, 1 - main loop\n",
            "----------\n",
            "2, 0 - division by 0\n",
            "2, 0 - always executes\n",
            "----------\n",
            "3, -1 - always executes\n",
            "3, -1 - main loop\n"
          ]
        }
      ],
      "source": [
        "a = 0\n",
        "b = 2\n",
        "\n",
        "while a < 3:\n",
        "    print('----------')\n",
        "    a += 1\n",
        "    b -=1\n",
        "    try:\n",
        "        res = a / b\n",
        "    except ZeroDivisionError:\n",
        "        print('{0}, {1} - division by 0'.format(a, b))\n",
        "        res = 0\n",
        "        continue\n",
        "    finally:\n",
        "        print('{0}, {1} - always executes'.format(a, b))\n",
        "    print('{0}, {1} - main loop'.format(a, b))"
      ]
    },
    {
      "cell_type": "markdown",
      "metadata": {
        "id": "1c-NPAue_r_G"
      },
      "source": [
        "As you can see in the above result, the finally code still executed, even though the current iteration was cut short with the continue statement.\n",
        "<p>This works the same with a break statement:"
      ]
    },
    {
      "cell_type": "code",
      "execution_count": null,
      "metadata": {
        "colab": {
          "base_uri": "https://localhost:8080/"
        },
        "id": "CfGnHjre_pH7",
        "outputId": "7807dfc0-3a01-493f-9fcb-61ddea1a2ddf"
      },
      "outputs": [
        {
          "name": "stdout",
          "output_type": "stream",
          "text": [
            "----------\n",
            "1, 1 - always executes\n",
            "1, 1 - main loop\n",
            "----------\n",
            "2, 0 - division by 0\n",
            "2, 0 - always executes\n"
          ]
        }
      ],
      "source": [
        "a = 0\n",
        "b = 2\n",
        "\n",
        "while a < 3:\n",
        "    print('----------')\n",
        "    a += 1\n",
        "    b -=1\n",
        "    try:\n",
        "        res = a / b\n",
        "    except ZeroDivisionError:\n",
        "        print('{0}, {1} - division by 0'.format(a, b))\n",
        "        res = 0\n",
        "        break\n",
        "    finally:\n",
        "        print('{0}, {1} - always executes'.format(a, b))\n",
        "    print('{0}, {1} - main loop'.format(a, b))"
      ]
    },
    {
      "cell_type": "markdown",
      "metadata": {
        "id": "Sx9fog_6AEqI"
      },
      "source": [
        "We can even combine all this with the `else` clause:"
      ]
    },
    {
      "cell_type": "code",
      "execution_count": null,
      "metadata": {
        "colab": {
          "base_uri": "https://localhost:8080/"
        },
        "id": "Poytn0R9ADN6",
        "outputId": "4719bedb-ff0f-4bbf-af21-c8a2898129bd"
      },
      "outputs": [
        {
          "name": "stdout",
          "output_type": "stream",
          "text": [
            "----------\n",
            "1, 1 - always executes\n",
            "1, 1 - main loop\n",
            "----------\n",
            "2, 0 - division by 0\n",
            "2, 0 - always executes\n"
          ]
        }
      ],
      "source": [
        "a = 0\n",
        "b = 2\n",
        "\n",
        "while a < 3:\n",
        "    print('----------')\n",
        "    a += 1\n",
        "    b -=1\n",
        "    try:\n",
        "        res = a / b\n",
        "    except ZeroDivisionError:\n",
        "        print('{0}, {1} - division by 0'.format(a, b))\n",
        "        res = 0\n",
        "        break\n",
        "    finally:\n",
        "        print('{0}, {1} - always executes'.format(a, b))\n",
        "    print('{0}, {1} - main loop'.format(a, b))\n",
        "else:\n",
        "    print('\\n\\nno errors were encountered!')"
      ]
    },
    {
      "cell_type": "code",
      "execution_count": null,
      "metadata": {
        "colab": {
          "base_uri": "https://localhost:8080/"
        },
        "id": "oe49LGmLAUTT",
        "outputId": "8915e233-7c0a-44cb-98d9-73a7cb75cf8b"
      },
      "outputs": [
        {
          "name": "stdout",
          "output_type": "stream",
          "text": [
            "----------\n",
            "1, 4 - always executes\n",
            "1, 4 - main loop\n",
            "----------\n",
            "2, 3 - always executes\n",
            "2, 3 - main loop\n",
            "----------\n",
            "3, 2 - always executes\n",
            "3, 2 - main loop\n",
            "\n",
            "\n",
            "no errors were encountered!\n"
          ]
        }
      ],
      "source": [
        "a = 0\n",
        "b = 5\n",
        "\n",
        "while a < 3:\n",
        "    print('----------')\n",
        "    a += 1\n",
        "    b -=1\n",
        "    try:\n",
        "        res = a / b\n",
        "    except ZeroDivisionError:\n",
        "        print('{0}, {1} - division by 0'.format(a, b))\n",
        "        res = 0\n",
        "        break\n",
        "    finally:\n",
        "        print('{0}, {1} - always executes'.format(a, b))\n",
        "    print('{0}, {1} - main loop'.format(a, b))\n",
        "else:\n",
        "    print('\\n\\nno errors were encountered!')"
      ]
    },
    {
      "cell_type": "markdown",
      "metadata": {
        "id": "5PLXfwC4Ay3e"
      },
      "source": [
        "### 06 - The For Loop"
      ]
    },
    {
      "cell_type": "markdown",
      "metadata": {
        "id": "DHYw3dvRBQIc"
      },
      "source": [
        "In Python, an iterable is an object capable of returning values one at a time.\n",
        "\n",
        "Many objects in Python are iterable: lists, strings, file objects and many more."
      ]
    },
    {
      "cell_type": "markdown",
      "metadata": {
        "id": "EV-7BSlkBgtS"
      },
      "source": [
        "\n",
        "\n",
        "---\n",
        "\n",
        "**BE CAREFUL!**"
      ]
    },
    {
      "cell_type": "markdown",
      "metadata": {
        "id": "SV956iMGBntC"
      },
      "source": [
        "*Note: Our definition of an iterable did not state it was a collection of values - we only said it is an object that can return values one at a time - that's a subtle difference that when we look into iterators and generators.*"
      ]
    },
    {
      "cell_type": "markdown",
      "metadata": {
        "id": "QVeb5ix7Biyf"
      },
      "source": [
        "\n",
        "\n",
        "---\n",
        "\n"
      ]
    },
    {
      "cell_type": "markdown",
      "metadata": {
        "id": "97Q7GFH-CAxU"
      },
      "source": [
        "The `for` keyword can be used to iterate an iterable.\n",
        "\n",
        "If you come with a background in another programming language, you have probably seen for loops defined this way:\n",
        "\n",
        "\n",
        "```\n",
        "for (int i=0; i < 5; i++) {\n",
        "    //code block\n",
        "}\n",
        "```\n",
        "This form of the `for` loop is simply a repetition, very similar to a `while` loop - in fact it is equivalent to what we could write in Python as follows:\n"
      ]
    },
    {
      "cell_type": "code",
      "execution_count": null,
      "metadata": {
        "colab": {
          "base_uri": "https://localhost:8080/"
        },
        "id": "2Duhk3wbAYmI",
        "outputId": "7a87a569-5840-431d-bb9d-c6038a152a33"
      },
      "outputs": [
        {
          "name": "stdout",
          "output_type": "stream",
          "text": [
            "0\n",
            "1\n",
            "2\n",
            "3\n",
            "4\n"
          ]
        }
      ],
      "source": [
        "i = 0\n",
        "while i < 5:\n",
        "    #code block\n",
        "    print(i)\n",
        "    i += 1\n",
        "i = None"
      ]
    },
    {
      "cell_type": "markdown",
      "metadata": {
        "id": "Bxnx3KS4C09W"
      },
      "source": [
        "But that's NOT what the `for` statement does in Python - the `for` statement is a way to iterate over iterables, and has nothing to do with the `for` loop we just saw. The closest equivalent we have in Python is the `while` loop written as above.\n",
        "\n",
        "The use the `for` loop in Python, we require an iterable object to work with.\n",
        "\n",
        "A simple iterable object is generated via the `range()` function"
      ]
    },
    {
      "cell_type": "code",
      "execution_count": null,
      "metadata": {
        "colab": {
          "base_uri": "https://localhost:8080/"
        },
        "id": "xTpHbp5yCxji",
        "outputId": "5d03be74-9c7d-4f8f-899f-da2782ba26cd"
      },
      "outputs": [
        {
          "name": "stdout",
          "output_type": "stream",
          "text": [
            "0\n",
            "1\n",
            "2\n",
            "3\n",
            "4\n"
          ]
        }
      ],
      "source": [
        "for i in range(5):\n",
        "    print(i)"
      ]
    },
    {
      "cell_type": "markdown",
      "metadata": {
        "id": "lMNSE4GyDXo3"
      },
      "source": [
        "Many objects are iterable in Python:"
      ]
    },
    {
      "cell_type": "code",
      "execution_count": null,
      "metadata": {
        "colab": {
          "base_uri": "https://localhost:8080/"
        },
        "id": "NXj8Xe6uDVud",
        "outputId": "141dc3f4-20ea-480c-86a0-379c14fe4f38"
      },
      "outputs": [
        {
          "name": "stdout",
          "output_type": "stream",
          "text": [
            "1\n",
            "2\n",
            "3\n"
          ]
        }
      ],
      "source": [
        "for x in [1, 2, 3]:\n",
        "    print(x)"
      ]
    },
    {
      "cell_type": "code",
      "execution_count": null,
      "metadata": {
        "colab": {
          "base_uri": "https://localhost:8080/"
        },
        "id": "rgg4RQFmDdag",
        "outputId": "14b3b240-ae52-4a79-a8f6-93ca6858aa66"
      },
      "outputs": [
        {
          "name": "stdout",
          "output_type": "stream",
          "text": [
            "h\n",
            "e\n",
            "l\n",
            "l\n",
            "o\n"
          ]
        }
      ],
      "source": [
        "for x in 'hello':\n",
        "    print(x)"
      ]
    },
    {
      "cell_type": "code",
      "execution_count": null,
      "metadata": {
        "colab": {
          "base_uri": "https://localhost:8080/"
        },
        "id": "0aEQgsdjDgLc",
        "outputId": "3d107dfe-77d1-4ae3-ac70-662f6d8cedec"
      },
      "outputs": [
        {
          "name": "stdout",
          "output_type": "stream",
          "text": [
            "a\n",
            "b\n",
            "c\n"
          ]
        }
      ],
      "source": [
        "for x in ('a', 'b', 'c'):\n",
        "    print(x)"
      ]
    },
    {
      "cell_type": "markdown",
      "metadata": {
        "id": "kfb2NlE-DlGb"
      },
      "source": [
        "When we iterate over an iterable, each iteration returns the `next` value (or object) in the iterable:"
      ]
    },
    {
      "cell_type": "code",
      "execution_count": null,
      "metadata": {
        "colab": {
          "base_uri": "https://localhost:8080/"
        },
        "id": "BOXGw5FaDkMe",
        "outputId": "6898f9b7-8701-44d6-c1f1-07541b4ccf5e"
      },
      "outputs": [
        {
          "name": "stdout",
          "output_type": "stream",
          "text": [
            "(1, 2)\n",
            "(3, 4)\n",
            "(5, 6)\n"
          ]
        }
      ],
      "source": [
        "for x in [(1, 2), (3, 4), (5, 6)]:\n",
        "    print(x)"
      ]
    },
    {
      "cell_type": "markdown",
      "metadata": {
        "id": "e94CLlBLDze_"
      },
      "source": [
        "We can even assign the individual tuple values to specific named variables:"
      ]
    },
    {
      "cell_type": "code",
      "execution_count": null,
      "metadata": {
        "colab": {
          "base_uri": "https://localhost:8080/"
        },
        "id": "dPo1IuFGDxwE",
        "outputId": "377e0059-7d28-42ba-b1eb-b003b7accaf9"
      },
      "outputs": [
        {
          "name": "stdout",
          "output_type": "stream",
          "text": [
            "1 2\n",
            "3 4\n",
            "5 6\n"
          ]
        }
      ],
      "source": [
        "for i, j in [(1, 2), (3, 4), (5, 6)]:\n",
        "    print(i, j)"
      ]
    },
    {
      "cell_type": "markdown",
      "metadata": {
        "id": "HOR9TBmEEA2q"
      },
      "source": [
        "The `break` and `continue` statements work just as well in `for` loops as they do in `while` loops:"
      ]
    },
    {
      "cell_type": "code",
      "execution_count": null,
      "metadata": {
        "colab": {
          "base_uri": "https://localhost:8080/"
        },
        "id": "ZRtJLBZDD9Ei",
        "outputId": "2d8a470d-7299-4080-d679-cbdcc1420c91"
      },
      "outputs": [
        {
          "name": "stdout",
          "output_type": "stream",
          "text": [
            "0\n",
            "1\n",
            "2\n",
            "4\n"
          ]
        }
      ],
      "source": [
        "for i in range(5):\n",
        "    if i == 3:\n",
        "        continue\n",
        "    print(i)"
      ]
    },
    {
      "cell_type": "code",
      "execution_count": null,
      "metadata": {
        "colab": {
          "base_uri": "https://localhost:8080/"
        },
        "id": "j6xj0bu1EJ4E",
        "outputId": "fae40c9f-c539-4a41-957c-3df8036c7a1a"
      },
      "outputs": [
        {
          "name": "stdout",
          "output_type": "stream",
          "text": [
            "0\n",
            "1\n",
            "2\n"
          ]
        }
      ],
      "source": [
        "for i in range(5):\n",
        "    if i == 3:\n",
        "        break\n",
        "    print(i)"
      ]
    },
    {
      "cell_type": "markdown",
      "metadata": {
        "id": "1nXUSeaHFAOZ"
      },
      "source": [
        "\n",
        "\n",
        "---\n",
        "**BE CAREFUL**"
      ]
    },
    {
      "cell_type": "markdown",
      "metadata": {
        "id": "pc9c7nuSEPjT"
      },
      "source": [
        "*The `for` loop, like the `while` loop, also supports an `else` clause which is executed if and only if the loop terminates normally (i.e. did not exit because of a `break` statement)*"
      ]
    },
    {
      "cell_type": "code",
      "execution_count": null,
      "metadata": {
        "colab": {
          "base_uri": "https://localhost:8080/"
        },
        "id": "2xBbzGcnEN4u",
        "outputId": "b5781bc3-810c-41ce-906a-c713e213e0d6"
      },
      "outputs": [
        {
          "name": "stdout",
          "output_type": "stream",
          "text": [
            "1\n",
            "2\n",
            "3\n",
            "4\n",
            "No multiples of 7 encountered\n"
          ]
        }
      ],
      "source": [
        "for i in range(1, 5):\n",
        "    print(i)\n",
        "    if i % 7 == 0:\n",
        "        print('multiple of 7 found')\n",
        "        break\n",
        "else:\n",
        "    print('No multiples of 7 encountered')"
      ]
    },
    {
      "cell_type": "code",
      "execution_count": null,
      "metadata": {
        "colab": {
          "base_uri": "https://localhost:8080/"
        },
        "id": "snHX5LG3EmKH",
        "outputId": "4d9f7399-03a5-4b94-d728-80ecc0dfe7a3"
      },
      "outputs": [
        {
          "name": "stdout",
          "output_type": "stream",
          "text": [
            "1\n",
            "2\n",
            "3\n",
            "4\n",
            "5\n",
            "6\n",
            "7\n",
            "multiple of 7 found\n"
          ]
        }
      ],
      "source": [
        "for i in range(1, 8):\n",
        "    print(i)\n",
        "    if i % 7 == 0:\n",
        "        print('multiple of 7 found')\n",
        "        break\n",
        "else:\n",
        "    print('No multiples of 7 encountered')"
      ]
    },
    {
      "cell_type": "markdown",
      "metadata": {
        "id": "2tCnDgzcFEkP"
      },
      "source": [
        "\n",
        "\n",
        "---\n",
        "\n"
      ]
    },
    {
      "cell_type": "markdown",
      "metadata": {
        "id": "fIFTMXMnFMg3"
      },
      "source": [
        "Similarly to the `while` loop, `break` and `continue` work just the same in the context of a `try` statement's `finally` clause."
      ]
    },
    {
      "cell_type": "code",
      "execution_count": null,
      "metadata": {
        "colab": {
          "base_uri": "https://localhost:8080/"
        },
        "id": "gkh_TemcFUAm",
        "outputId": "45151b03-d439-4fae-9b38-7e7e8a639c15"
      },
      "outputs": [
        {
          "name": "stdout",
          "output_type": "stream",
          "text": [
            "-----------\n",
            "always runs\n",
            "0\n",
            "-----------\n",
            "always runs\n",
            "1\n",
            "-----------\n",
            "always runs\n",
            "2\n",
            "-----------\n",
            "divided by 0\n",
            "always runs\n",
            "-----------\n",
            "always runs\n",
            "4\n"
          ]
        }
      ],
      "source": [
        "for i in range(5):\n",
        "    print('-----------')\n",
        "    try:\n",
        "        10 / (i - 3)\n",
        "    except ZeroDivisionError:\n",
        "        print('divided by 0')\n",
        "        continue\n",
        "    finally:\n",
        "        print('always runs')\n",
        "    print(i)"
      ]
    },
    {
      "cell_type": "markdown",
      "metadata": {
        "id": "XtUyLF6OFmPw"
      },
      "source": [
        "There are a number of standard techniques to iterate over iterables:"
      ]
    },
    {
      "cell_type": "code",
      "execution_count": null,
      "metadata": {
        "colab": {
          "base_uri": "https://localhost:8080/"
        },
        "id": "ASsw_qTDFiHv",
        "outputId": "f637a8e6-ed58-44fd-d161-6bbefc0f06a4"
      },
      "outputs": [
        {
          "name": "stdout",
          "output_type": "stream",
          "text": [
            "h\n",
            "e\n",
            "l\n",
            "l\n",
            "o\n"
          ]
        }
      ],
      "source": [
        "s = 'hello'\n",
        "for c in s:\n",
        "    print(c)"
      ]
    },
    {
      "cell_type": "markdown",
      "metadata": {
        "id": "QJW73PedFwWM"
      },
      "source": [
        "But sometimes, for indexable iterable types (e.g. sequences), we want to also know the index of the item in the loop:"
      ]
    },
    {
      "cell_type": "code",
      "execution_count": null,
      "metadata": {
        "colab": {
          "base_uri": "https://localhost:8080/"
        },
        "id": "KQTQ7GeMFvCt",
        "outputId": "b51f7e3e-20f3-4175-dcdd-ecc56ad42a78"
      },
      "outputs": [
        {
          "name": "stdout",
          "output_type": "stream",
          "text": [
            "0 h\n",
            "1 e\n",
            "2 l\n",
            "3 l\n",
            "4 o\n"
          ]
        }
      ],
      "source": [
        "s = 'hello'\n",
        "i = 0\n",
        "for c in s:\n",
        "    print(i, c)\n",
        "    i += 1"
      ]
    },
    {
      "cell_type": "markdown",
      "metadata": {
        "id": "L3h7QUeDGD-c"
      },
      "source": [
        "Slightly better approach might be:"
      ]
    },
    {
      "cell_type": "code",
      "execution_count": null,
      "metadata": {
        "colab": {
          "base_uri": "https://localhost:8080/"
        },
        "id": "2TdIbxg6GAgy",
        "outputId": "57cb6788-5857-4660-8ed7-6ad9c5dc8d82"
      },
      "outputs": [
        {
          "name": "stdout",
          "output_type": "stream",
          "text": [
            "0 h\n",
            "1 e\n",
            "2 l\n",
            "3 l\n",
            "4 o\n"
          ]
        }
      ],
      "source": [
        "s = 'hello'\n",
        "\n",
        "for i in range(len(s)):\n",
        "    print(i, s[i])"
      ]
    },
    {
      "cell_type": "markdown",
      "metadata": {
        "id": "ycciCcheGRKI"
      },
      "source": [
        "or even better:"
      ]
    },
    {
      "cell_type": "code",
      "execution_count": null,
      "metadata": {
        "colab": {
          "base_uri": "https://localhost:8080/"
        },
        "id": "KDHUQUJ1GNYA",
        "outputId": "3acd3da5-aa45-4799-e03f-ee9c18314cfe"
      },
      "outputs": [
        {
          "name": "stdout",
          "output_type": "stream",
          "text": [
            "0 h\n",
            "1 e\n",
            "2 l\n",
            "3 l\n",
            "4 o\n"
          ]
        }
      ],
      "source": [
        "s = 'hello'\n",
        "\n",
        "for i, c in enumerate(s):\n",
        "    print(i, c)"
      ]
    },
    {
      "cell_type": "markdown",
      "metadata": {
        "id": "BnQXJa3gGcui"
      },
      "source": [
        "### 07 - Classes"
      ]
    },
    {
      "cell_type": "markdown",
      "metadata": {
        "id": "jY1XZZ30GfiG"
      },
      "source": [
        "**Custom Classes**"
      ]
    },
    {
      "cell_type": "markdown",
      "metadata": {
        "id": "_jYRafl_Q18y"
      },
      "source": [
        "To create a custom class we use the `class` keyword, and we can initialize class attributes in the special method `__init__`."
      ]
    },
    {
      "cell_type": "code",
      "execution_count": null,
      "metadata": {
        "id": "JBIGUHa_GW3E"
      },
      "outputs": [],
      "source": [
        "class Rectangle:\n",
        "    def __init__(self, width, height):\n",
        "        self.width = width\n",
        "        self.height = height"
      ]
    },
    {
      "cell_type": "markdown",
      "metadata": {
        "id": "JCSQHUf2RQZh"
      },
      "source": [
        "We create instances of the `Rectangle` class by calling it with arguments that are passed to the `__init__` method as the second and third arguments. The first argument `(self)` is automatically filled in by Python and contains the object being created."
      ]
    },
    {
      "cell_type": "markdown",
      "metadata": {
        "id": "cJ9zQeWLRlWa"
      },
      "source": [
        "\n",
        "\n",
        "---\n",
        "**BE CAREFUL!**\n"
      ]
    },
    {
      "cell_type": "markdown",
      "metadata": {
        "id": "B4RdeVX5RpkD"
      },
      "source": [
        "*Note that using `self` is just a convention (although a good one, and you should use it to make your code more understandable by others), you could really call it whatever (valid) name you choose.*"
      ]
    },
    {
      "cell_type": "markdown",
      "metadata": {
        "id": "ISck9D1lRp9f"
      },
      "source": [
        "\n",
        "\n",
        "---\n",
        "\n"
      ]
    },
    {
      "cell_type": "markdown",
      "metadata": {
        "id": "2e-g6mfLSC7C"
      },
      "source": [
        "But just because you can does not mean you should!"
      ]
    },
    {
      "cell_type": "code",
      "execution_count": null,
      "metadata": {
        "id": "zzyvoBsCRPGH"
      },
      "outputs": [],
      "source": [
        "r1 = Rectangle(10, 20)\n",
        "r2 = Rectangle(3, 5)"
      ]
    },
    {
      "cell_type": "code",
      "execution_count": null,
      "metadata": {
        "colab": {
          "base_uri": "https://localhost:8080/"
        },
        "id": "NwFMNDw-SMYf",
        "outputId": "53c7fc68-dfd8-4141-9422-88a3568396fe"
      },
      "outputs": [
        {
          "data": {
            "text/plain": [
              "10"
            ]
          },
          "execution_count": 92,
          "metadata": {},
          "output_type": "execute_result"
        }
      ],
      "source": [
        "r1.width"
      ]
    },
    {
      "cell_type": "code",
      "execution_count": null,
      "metadata": {
        "colab": {
          "base_uri": "https://localhost:8080/"
        },
        "id": "zSvEuMf-SNwL",
        "outputId": "676e8a1a-a624-4129-b20c-319fd7c4a6f4"
      },
      "outputs": [
        {
          "data": {
            "text/plain": [
              "5"
            ]
          },
          "execution_count": 93,
          "metadata": {},
          "output_type": "execute_result"
        }
      ],
      "source": [
        "r2.height"
      ]
    },
    {
      "cell_type": "markdown",
      "metadata": {
        "id": "YlC0GqlcSWRL"
      },
      "source": [
        "`width` and `height` are attributes of the `Rectangle` class. But since they are just values (not callables), we call them properties.\n",
        "\n",
        "Attributes that are callables are called methods.\n",
        "\n",
        "You'll note that we were able to retrieve the `width` and `height` attributes (properties) using a dot notation, where we specify the object we are interested in, then a dot, then the attribute we are interested in.\n",
        "\n",
        "We can add callable attributes to our class (methods), that will also be referenced using the dot notation.\n",
        "\n",
        "Again, we will create instance methods, which means the method will require the first argument to be the object being used when the method is called."
      ]
    },
    {
      "cell_type": "code",
      "execution_count": null,
      "metadata": {
        "id": "68r6-cLkSPPs"
      },
      "outputs": [],
      "source": [
        "class Rectangle:\n",
        "    def __init__(self, width, height):\n",
        "        self.width = width\n",
        "        self.height = height\n",
        "    \n",
        "    def area(self):\n",
        "        return self.width * self.height\n",
        "\n",
        "    def perimeter(the_referenced_object):\n",
        "        return 2 * (the_referenced_object.width + the_referenced_object.height)"
      ]
    },
    {
      "cell_type": "code",
      "execution_count": null,
      "metadata": {
        "id": "KjeQ1dG2Tvo4"
      },
      "outputs": [],
      "source": [
        "r1 = Rectangle(10, 20)"
      ]
    },
    {
      "cell_type": "code",
      "execution_count": null,
      "metadata": {
        "colab": {
          "base_uri": "https://localhost:8080/"
        },
        "id": "Y2-r7LQbT-ye",
        "outputId": "61289e60-d68b-4668-aa2a-bcc79c6b1141"
      },
      "outputs": [
        {
          "data": {
            "text/plain": [
              "200"
            ]
          },
          "execution_count": 96,
          "metadata": {},
          "output_type": "execute_result"
        }
      ],
      "source": [
        "r1.area()"
      ]
    },
    {
      "cell_type": "markdown",
      "metadata": {
        "id": "A9Feg4GkUCsl"
      },
      "source": [
        "When we ran the above line of code, our object was `r1`, so when `area` was called, Python in fact called the method area in the `Rectangle` class automatically passing `r1` to the `self` parameter.\n",
        "\n",
        "This is why we can use a name other than `self`, such as in the `perimeter` method:"
      ]
    },
    {
      "cell_type": "code",
      "execution_count": null,
      "metadata": {
        "colab": {
          "base_uri": "https://localhost:8080/"
        },
        "id": "uXrEGkgFT_fk",
        "outputId": "1784c289-84ef-4a70-feec-b38d9d517fd6"
      },
      "outputs": [
        {
          "data": {
            "text/plain": [
              "60"
            ]
          },
          "execution_count": 97,
          "metadata": {},
          "output_type": "execute_result"
        }
      ],
      "source": [
        "r1.perimeter()"
      ]
    },
    {
      "cell_type": "markdown",
      "metadata": {
        "id": "1m7X3h5IUjfZ"
      },
      "source": [
        "Again, I'm just illustrating a point, don't actually do that!"
      ]
    },
    {
      "cell_type": "code",
      "execution_count": null,
      "metadata": {
        "id": "K-A4Idc5UdrG"
      },
      "outputs": [],
      "source": [
        "class Rectangle:\n",
        "    def __init__(self, width, height):\n",
        "        self.width = width\n",
        "        self.height = height\n",
        "    \n",
        "    def area(self):\n",
        "        return self.width * self.height\n",
        "\n",
        "    def perimeter(self):\n",
        "        return 2 * (self.width + self.height)"
      ]
    },
    {
      "cell_type": "code",
      "execution_count": null,
      "metadata": {
        "id": "IdeVXlA4U6Tx"
      },
      "outputs": [],
      "source": [
        "r1 = Rectangle(10, 20)"
      ]
    },
    {
      "cell_type": "markdown",
      "metadata": {
        "id": "k0E_c0mXVRKc"
      },
      "source": [
        "Python defines a bunch of special methods that we can use to give our classes functionality that resembles functionality of built-in and standard library objects.\n",
        "\n",
        "Many people refer to them as magic methods, but there's nothing magical about them - unlike magic, they are well documented and understood!!\n",
        "\n",
        "These special methods provide us an easy way to overload operators in Python.\n",
        "\n",
        "For example, we can obtain the string representation of an integer using the built-in `str` function:"
      ]
    },
    {
      "cell_type": "code",
      "execution_count": null,
      "metadata": {
        "colab": {
          "base_uri": "https://localhost:8080/",
          "height": 35
        },
        "id": "upJBldZLU-4j",
        "outputId": "b63c934b-5897-4fee-dbe9-38e7ed17179f"
      },
      "outputs": [
        {
          "data": {
            "text/plain": [
              "'10'"
            ]
          },
          "execution_count": 100,
          "metadata": {},
          "output_type": "execute_result"
        }
      ],
      "source": [
        "str(10)"
      ]
    },
    {
      "cell_type": "markdown",
      "metadata": {
        "id": "cpTRVpx5V8zr"
      },
      "source": [
        "What happens if we try this with our `Rectangle` object?"
      ]
    },
    {
      "cell_type": "code",
      "execution_count": null,
      "metadata": {
        "colab": {
          "base_uri": "https://localhost:8080/",
          "height": 35
        },
        "id": "5EAyTM5oV7up",
        "outputId": "11c9d496-b15c-4e18-e9e1-2f5f1f0970b6"
      },
      "outputs": [
        {
          "data": {
            "text/plain": [
              "'<__main__.Rectangle object at 0x000001BD6D436E20>'"
            ]
          },
          "execution_count": 101,
          "metadata": {},
          "output_type": "execute_result"
        }
      ],
      "source": [
        "str(r1)"
      ]
    },
    {
      "cell_type": "markdown",
      "metadata": {
        "id": "0bvKrg8wWJTC"
      },
      "source": [
        "Not exactly what we might have expected. On the other hand, how is Python supposed to know how to display our rectangle as a string?\n",
        "<p>We could write a method in the class such as:"
      ]
    },
    {
      "cell_type": "code",
      "execution_count": null,
      "metadata": {
        "id": "8PcNB2d9WEDF"
      },
      "outputs": [],
      "source": [
        "class Rectangle:\n",
        "    def __init__(self, width, height):\n",
        "        self.width = width\n",
        "        self.height = height\n",
        "    \n",
        "    def area(self):\n",
        "        return self.width * self.height\n",
        "    \n",
        "    def perimeter(self):\n",
        "        return 2 * (self.width + self.height)\n",
        "    \n",
        "    def to_str(self):\n",
        "        return 'Rectangle (width={0}, height={1})'.format(self.width, self.height)"
      ]
    },
    {
      "cell_type": "markdown",
      "metadata": {
        "id": "qPUG7THbW3F1"
      },
      "source": [
        "So we could get a string from our object as follows:"
      ]
    },
    {
      "cell_type": "code",
      "execution_count": null,
      "metadata": {
        "colab": {
          "base_uri": "https://localhost:8080/",
          "height": 35
        },
        "id": "N_YMilc0W1z0",
        "outputId": "5e377eb4-b88e-4f9d-af24-5a29c9799449"
      },
      "outputs": [
        {
          "data": {
            "text/plain": [
              "'Rectangle (width=10, height=20)'"
            ]
          },
          "execution_count": 103,
          "metadata": {},
          "output_type": "execute_result"
        }
      ],
      "source": [
        "r1 = Rectangle(10, 20)\n",
        "r1.to_str()"
      ]
    },
    {
      "cell_type": "markdown",
      "metadata": {
        "id": "R_2uARH2XCq-"
      },
      "source": [
        "But of course, using the built-in `str` function still does not work:"
      ]
    },
    {
      "cell_type": "code",
      "execution_count": null,
      "metadata": {
        "colab": {
          "base_uri": "https://localhost:8080/",
          "height": 35
        },
        "id": "iCnrCRhQW_zc",
        "outputId": "a5458dd5-6a30-4f08-e3f6-b378c0323d19"
      },
      "outputs": [
        {
          "data": {
            "text/plain": [
              "'<__main__.Rectangle object at 0x000001BD6D42E520>'"
            ]
          },
          "execution_count": 104,
          "metadata": {},
          "output_type": "execute_result"
        }
      ],
      "source": [
        "str(r1)"
      ]
    },
    {
      "cell_type": "markdown",
      "metadata": {
        "id": "taXsuADfXYVs"
      },
      "source": [
        "Does this mean we are our of luck, and anyone who writes a class in Python will need to provide some method to do this, and probably come up with their own name for the method too, maybe `to_str`, `make_string`, `stringify`, and who knows what else.\n",
        "\n",
        "Fortunately, this is where these special methods come in. When we call `str(r1)`, Python will first look to see if our class `(Rectangle)` has a special method called  `__str__` .\n",
        "\n",
        "If the `__str__` method is present, then Python will call it and return that value.\n",
        "\n",
        "There's actually another one called `__repr__` which is related, but we'll focus on `__str__` for now.\n",
        "\n",
        "\n",
        "\n",
        "\n",
        "\n",
        "\n"
      ]
    },
    {
      "cell_type": "code",
      "execution_count": null,
      "metadata": {
        "id": "7Zu14JO3XSIu"
      },
      "outputs": [],
      "source": [
        "class Rectangle:\n",
        "    def __init__(self, width, height):\n",
        "        self.width = width\n",
        "        self.height = height\n",
        "        \n",
        "    def area(self):\n",
        "        return self.width * self.height\n",
        "    \n",
        "    def perimeter(self):\n",
        "        return 2 * (self.width + self.height)\n",
        "    \n",
        "    def __str__(self):\n",
        "        return 'Rectangle (width={0}, height={1})'.format(self.width, self.height)"
      ]
    },
    {
      "cell_type": "code",
      "execution_count": null,
      "metadata": {
        "id": "00QETuRcZBKE"
      },
      "outputs": [],
      "source": [
        "r1 = Rectangle(10, 20)"
      ]
    },
    {
      "cell_type": "code",
      "execution_count": null,
      "metadata": {
        "colab": {
          "base_uri": "https://localhost:8080/",
          "height": 35
        },
        "id": "Ys4NV35xZDi0",
        "outputId": "3790ef3d-1269-41b2-b728-c69803b2859f"
      },
      "outputs": [
        {
          "data": {
            "text/plain": [
              "'Rectangle (width=10, height=20)'"
            ]
          },
          "execution_count": 107,
          "metadata": {},
          "output_type": "execute_result"
        }
      ],
      "source": [
        "str(r1)"
      ]
    },
    {
      "cell_type": "markdown",
      "metadata": {
        "id": "qJKeLZ7OZGD1"
      },
      "source": [
        "However, in Jupyter (and interactive console if you are using that), look what happens here:"
      ]
    },
    {
      "cell_type": "code",
      "execution_count": null,
      "metadata": {
        "colab": {
          "base_uri": "https://localhost:8080/"
        },
        "id": "Ml68O2iHZEjp",
        "outputId": "e27f2903-dbe9-48f9-f638-d29b0744e880"
      },
      "outputs": [
        {
          "data": {
            "text/plain": [
              "<__main__.Rectangle at 0x1bd6d2565e0>"
            ]
          },
          "execution_count": 108,
          "metadata": {},
          "output_type": "execute_result"
        }
      ],
      "source": [
        "r1"
      ]
    },
    {
      "cell_type": "markdown",
      "metadata": {
        "id": "mfQYeh3DZQyG"
      },
      "source": [
        "As you can see we still get that default. That's because here Python is not converting `r1` to a string, but instead looking for a string representation of the object. It is looking for the `__repr__` method."
      ]
    },
    {
      "cell_type": "code",
      "execution_count": null,
      "metadata": {
        "id": "wHG0lC7IZOik"
      },
      "outputs": [],
      "source": [
        "class Rectangle:\n",
        "    def __init__(self, width, height):\n",
        "        self.width = width\n",
        "        self.height = height\n",
        "        \n",
        "    def area(self):\n",
        "        return self.width * self.height\n",
        "    \n",
        "    def perimeter(self):\n",
        "        return 2 * (self.width + self.height)\n",
        "    \n",
        "    def __str__(self):\n",
        "        return 'Rectangle (width={0}, height={1})'.format(self.width, self.height)\n",
        "    \n",
        "    def __repr__(self):\n",
        "        return 'Rectangle({0}, {1})'.format(self.width, self.height)"
      ]
    },
    {
      "cell_type": "code",
      "execution_count": null,
      "metadata": {
        "id": "9cCL4245a1ef"
      },
      "outputs": [],
      "source": [
        "r1 = Rectangle(10, 20)"
      ]
    },
    {
      "cell_type": "code",
      "execution_count": null,
      "metadata": {
        "colab": {
          "base_uri": "https://localhost:8080/"
        },
        "id": "SNNfOZ7Ia4RZ",
        "outputId": "c205d41a-e843-4277-e27c-8a74a3dfab94"
      },
      "outputs": [
        {
          "name": "stdout",
          "output_type": "stream",
          "text": [
            "Rectangle (width=10, height=20)\n"
          ]
        }
      ],
      "source": [
        "print(r1) # uses __str__"
      ]
    },
    {
      "cell_type": "code",
      "execution_count": null,
      "metadata": {
        "colab": {
          "base_uri": "https://localhost:8080/"
        },
        "id": "0qYLLzp0a7PD",
        "outputId": "35ab84cc-d609-4845-bc34-d9c66bebb8df"
      },
      "outputs": [
        {
          "data": {
            "text/plain": [
              "Rectangle(10, 20)"
            ]
          },
          "execution_count": 112,
          "metadata": {},
          "output_type": "execute_result"
        }
      ],
      "source": [
        "r1 # uses __repr__"
      ]
    },
    {
      "cell_type": "markdown",
      "metadata": {
        "id": "sCD4oSubbCao"
      },
      "source": [
        "How about the comparison operators, such as `==` or `<` ?"
      ]
    },
    {
      "cell_type": "code",
      "execution_count": null,
      "metadata": {
        "id": "Va2Dz2n9a-_f"
      },
      "outputs": [],
      "source": [
        "r1 = Rectangle(10, 20)\n",
        "r2 = Rectangle(10, 20)"
      ]
    },
    {
      "cell_type": "code",
      "execution_count": null,
      "metadata": {
        "colab": {
          "base_uri": "https://localhost:8080/"
        },
        "id": "2CVktgGWbOLa",
        "outputId": "61ffac8a-5c71-4dd3-bd2f-1899d94adc94"
      },
      "outputs": [
        {
          "data": {
            "text/plain": [
              "False"
            ]
          },
          "execution_count": 114,
          "metadata": {},
          "output_type": "execute_result"
        }
      ],
      "source": [
        "r1 == r2"
      ]
    },
    {
      "cell_type": "markdown",
      "metadata": {
        "id": "hboUI_7FbS8d"
      },
      "source": [
        "As you can see, Python does not consider `r1` and `r2` as equal (using the `==` operator). Again, how is Python supposed to know that two `Rectangle` objects with the same `height` and `width` should be considered equal?\n",
        "\n",
        "We just need to tell Python how to do it, using the special method `__eq__`\n"
      ]
    },
    {
      "cell_type": "code",
      "execution_count": null,
      "metadata": {
        "id": "0-Iaj27fbQz9"
      },
      "outputs": [],
      "source": [
        "class Rectangle:\n",
        "    def __init__(self, width, height):\n",
        "        self.width = width\n",
        "        self.height = height\n",
        "        \n",
        "    def area(self):\n",
        "        return self.width * self.height\n",
        "    \n",
        "    def perimeter(self):\n",
        "        return 2 * (self.width + self.height)\n",
        "    \n",
        "    def __str__(self):\n",
        "        return 'Rectangle (width={0}, height={1})'.format(self.width, self.height)\n",
        "    \n",
        "    def __repr__(self):\n",
        "        return 'Rectangle({0}, {1})'.format(self.width, self.height)\n",
        "    \n",
        "    def __eq__(self, other):\n",
        "        print('self={0}, other={1}'.format(self, other))\n",
        "        if isinstance(other, Rectangle):\n",
        "            return (self.width, self.height) == (other.width, other.height)\n",
        "        else:\n",
        "            return False"
      ]
    },
    {
      "cell_type": "code",
      "execution_count": null,
      "metadata": {
        "id": "NT4VzIlIb7ra"
      },
      "outputs": [],
      "source": [
        "r1 = Rectangle(10, 20)\n",
        "r2 = Rectangle(10, 20)"
      ]
    },
    {
      "cell_type": "code",
      "execution_count": null,
      "metadata": {
        "colab": {
          "base_uri": "https://localhost:8080/"
        },
        "id": "cELtb-bCb9su",
        "outputId": "47494d8d-468d-4b49-dcb9-2cf94bdd74b9"
      },
      "outputs": [
        {
          "data": {
            "text/plain": [
              "False"
            ]
          },
          "execution_count": 117,
          "metadata": {},
          "output_type": "execute_result"
        }
      ],
      "source": [
        "r1 is r2"
      ]
    },
    {
      "cell_type": "code",
      "execution_count": null,
      "metadata": {
        "colab": {
          "base_uri": "https://localhost:8080/"
        },
        "id": "QKsUUujWb-sy",
        "outputId": "b7659843-d14e-4a0e-f329-5b3ec374ccd8"
      },
      "outputs": [
        {
          "name": "stdout",
          "output_type": "stream",
          "text": [
            "self=Rectangle (width=10, height=20), other=Rectangle (width=10, height=20)\n"
          ]
        },
        {
          "data": {
            "text/plain": [
              "True"
            ]
          },
          "execution_count": 118,
          "metadata": {},
          "output_type": "execute_result"
        }
      ],
      "source": [
        "r1 == r2"
      ]
    },
    {
      "cell_type": "code",
      "execution_count": null,
      "metadata": {
        "id": "Ewa-vwdVcAER"
      },
      "outputs": [],
      "source": [
        "r3 = Rectangle(2, 3)"
      ]
    },
    {
      "cell_type": "markdown",
      "metadata": {
        "id": "oBWbDOUtcEup"
      },
      "source": [
        "And if we try to compare our `Rectangle` to a different type:"
      ]
    },
    {
      "cell_type": "code",
      "execution_count": null,
      "metadata": {
        "colab": {
          "base_uri": "https://localhost:8080/"
        },
        "id": "SXfqb9jccDwz",
        "outputId": "2e6db0bf-25d2-4e60-ad55-62c47c7f5257"
      },
      "outputs": [
        {
          "name": "stdout",
          "output_type": "stream",
          "text": [
            "self=Rectangle (width=10, height=20), other=100\n"
          ]
        },
        {
          "data": {
            "text/plain": [
              "False"
            ]
          },
          "execution_count": 120,
          "metadata": {},
          "output_type": "execute_result"
        }
      ],
      "source": [
        "r1 == 100"
      ]
    },
    {
      "cell_type": "markdown",
      "metadata": {
        "id": "VrOAVlq9cLJJ"
      },
      "source": [
        "Let's remove that `print` statement - I only put that in so you could see what the arguments were, in practice you should avoid side effects."
      ]
    },
    {
      "cell_type": "code",
      "execution_count": null,
      "metadata": {
        "id": "89XKIE3ScJDG"
      },
      "outputs": [],
      "source": [
        "class Rectangle:\n",
        "    def __init__(self, width, height):\n",
        "        self.width = width\n",
        "        self.height = height\n",
        "        \n",
        "    def area(self):\n",
        "        return self.width * self.height\n",
        "    \n",
        "    def perimeter(self):\n",
        "        return 2 * (self.width + self.height)\n",
        "    \n",
        "    def __str__(self):\n",
        "        return 'Rectangle (width={0}, height={1})'.format(self.width, self.height)\n",
        "    \n",
        "    def __repr__(self):\n",
        "        return 'Rectangle({0}, {1})'.format(self.width, self.height)\n",
        "    \n",
        "    def __eq__(self, other):\n",
        "        if isinstance(other, Rectangle):\n",
        "            return (self.width, self.height) == (other.width, other.height)\n",
        "        else:\n",
        "            return False"
      ]
    },
    {
      "cell_type": "markdown",
      "metadata": {
        "id": "xUQN1X0LcXt0"
      },
      "source": [
        "What about `<`, `>`, `<=`, etc.?\n",
        "\n",
        "Again, Python has special methods we can use to provide that functionality.\n",
        "\n",
        "These are methods such as `__lt__`, `__gt__`, `__le__`, etc."
      ]
    },
    {
      "cell_type": "code",
      "execution_count": null,
      "metadata": {
        "id": "gFWitioccWlv"
      },
      "outputs": [],
      "source": [
        "class Rectangle:\n",
        "    def __init__(self, width, height):\n",
        "        self.width = width\n",
        "        self.height = height\n",
        "        \n",
        "    def area(self):\n",
        "        return self.width * self.height\n",
        "    \n",
        "    def perimeter(self):\n",
        "        return 2 * (self.width + self.height)\n",
        "    \n",
        "    def __str__(self):\n",
        "        return 'Rectangle (width={0}, height={1})'.format(self.width, self.height)\n",
        "    \n",
        "    def __repr__(self):\n",
        "        return 'Rectangle({0}, {1})'.format(self.width, self.height)\n",
        "    \n",
        "    def __eq__(self, other):\n",
        "        if isinstance(other, Rectangle):\n",
        "            return (self.width, self.height) == (other.width, other.height)\n",
        "        else:\n",
        "            return False\n",
        "    \n",
        "    def __lt__(self, other):\n",
        "        if isinstance(other, Rectangle):\n",
        "            return self.area() < other.area()\n",
        "        else:\n",
        "            return NotImplemented"
      ]
    },
    {
      "cell_type": "code",
      "execution_count": null,
      "metadata": {
        "id": "9ukjJLLvcsTc"
      },
      "outputs": [],
      "source": [
        "r1 = Rectangle(100, 200)\n",
        "r2 = Rectangle(10, 20)"
      ]
    },
    {
      "cell_type": "code",
      "execution_count": null,
      "metadata": {
        "colab": {
          "base_uri": "https://localhost:8080/"
        },
        "id": "mSWzYL7Zctkf",
        "outputId": "fe1f2ecf-c517-41cf-bb0c-0f28f9916316"
      },
      "outputs": [
        {
          "data": {
            "text/plain": [
              "False"
            ]
          },
          "execution_count": 124,
          "metadata": {},
          "output_type": "execute_result"
        }
      ],
      "source": [
        "r1 < r2"
      ]
    },
    {
      "cell_type": "code",
      "execution_count": null,
      "metadata": {
        "colab": {
          "base_uri": "https://localhost:8080/"
        },
        "id": "N1rdJhd9cvrq",
        "outputId": "c6df8748-75b7-40ad-a370-4e7713171140"
      },
      "outputs": [
        {
          "data": {
            "text/plain": [
              "True"
            ]
          },
          "execution_count": 125,
          "metadata": {},
          "output_type": "execute_result"
        }
      ],
      "source": [
        "r2 < r1"
      ]
    },
    {
      "cell_type": "markdown",
      "metadata": {
        "id": "yirBf4RVcyQ3"
      },
      "source": [
        "What about `>` ?"
      ]
    },
    {
      "cell_type": "code",
      "execution_count": null,
      "metadata": {
        "colab": {
          "base_uri": "https://localhost:8080/"
        },
        "id": "ng4TtBUqcxGT",
        "outputId": "593f7dc0-389f-4dbd-8cec-2637612d9207"
      },
      "outputs": [
        {
          "data": {
            "text/plain": [
              "True"
            ]
          },
          "execution_count": 126,
          "metadata": {},
          "output_type": "execute_result"
        }
      ],
      "source": [
        "r1 > r2"
      ]
    },
    {
      "cell_type": "markdown",
      "metadata": {
        "id": "zbsEmrpLc3Yx"
      },
      "source": [
        "How did that work? We did not define a `__gt__` method\n",
        "\n",
        "Well, Python cleverly decided that since `r1 > r2` was not implemented, it would give `r2 < r1`\n",
        "\n",
        "a try. And since, `__lt__` is defined, it worked!\n",
        "\n",
        "Of course, `<=` is not going to magically work!"
      ]
    },
    {
      "cell_type": "code",
      "execution_count": null,
      "metadata": {
        "colab": {
          "base_uri": "https://localhost:8080/",
          "height": 166
        },
        "id": "nyFxy8xLc1o8",
        "outputId": "91038747-fd53-4109-d8f5-c80c745d5299"
      },
      "outputs": [
        {
          "ename": "TypeError",
          "evalue": "'<=' not supported between instances of 'Rectangle' and 'Rectangle'",
          "output_type": "error",
          "traceback": [
            "\u001b[1;31m---------------------------------------------------------------------------\u001b[0m",
            "\u001b[1;31mTypeError\u001b[0m                                 Traceback (most recent call last)",
            "Input \u001b[1;32mIn [127]\u001b[0m, in \u001b[0;36m<cell line: 1>\u001b[1;34m()\u001b[0m\n\u001b[1;32m----> 1\u001b[0m \u001b[43mr1\u001b[49m\u001b[43m \u001b[49m\u001b[38;5;241;43m<\u001b[39;49m\u001b[38;5;241;43m=\u001b[39;49m\u001b[43m \u001b[49m\u001b[43mr2\u001b[49m\n",
            "\u001b[1;31mTypeError\u001b[0m: '<=' not supported between instances of 'Rectangle' and 'Rectangle'"
          ]
        }
      ],
      "source": [
        "r1 <= r2"
      ]
    },
    {
      "cell_type": "markdown",
      "metadata": {
        "id": "UPFH_MdVde9S"
      },
      "source": [
        "If you come from a Java background, you are probably thinking that using \"bare\" properties (direct access), such as `height` and `width` is a terrible design idea.\n",
        "\n",
        "It is for Java, but not for Python.\n",
        "\n",
        "Although you can use bare properties in Java, If you ever need to intercept the getting or setting of a property, you will need to write a method (such as `getWidth` and `setWidth`.) The problem is that if you used a  bare width property for example, a lot of your code might be using `obj.width` (as we have been doing here). The instant you make the `width` private and instead implement getters and setters, you break your code. Hence one of the reasons why in Java we just write getters and setters for properties from the beginning.\n",
        "\n",
        "With Python this is not the case - we can change any bare property into getters and setters without beraking the code that uses that bare property.\n",
        "\n",
        "I'll show you a quick example here, but we'll come back to this topic in much more detail later.\n",
        "Let's take our `Rectangle` class once again. I'll use a simplified version to keep the code short."
      ]
    },
    {
      "cell_type": "code",
      "execution_count": null,
      "metadata": {
        "id": "GcTyU4K2dSeO"
      },
      "outputs": [],
      "source": [
        "class Rectangle:\n",
        "    def __init__(self, width, height):\n",
        "        self.width = width\n",
        "        self.height = height\n",
        "    \n",
        "    def __repr__(self):\n",
        "        return 'Rectangle({0}, {1})'.format(self.width, self.height)"
      ]
    },
    {
      "cell_type": "code",
      "execution_count": null,
      "metadata": {
        "id": "7110ALhHe450"
      },
      "outputs": [],
      "source": [
        "r1 = Rectangle(10, 20)"
      ]
    },
    {
      "cell_type": "code",
      "execution_count": null,
      "metadata": {
        "colab": {
          "base_uri": "https://localhost:8080/"
        },
        "id": "d6JwgJFQe72s",
        "outputId": "0b14c6da-e750-4204-afe8-021d08f9aae9"
      },
      "outputs": [
        {
          "data": {
            "text/plain": [
              "10"
            ]
          },
          "execution_count": 130,
          "metadata": {},
          "output_type": "execute_result"
        }
      ],
      "source": [
        "r1.width"
      ]
    },
    {
      "cell_type": "code",
      "execution_count": null,
      "metadata": {
        "id": "aQ1UUebWe9Gx"
      },
      "outputs": [],
      "source": [
        "r1.width = 100"
      ]
    },
    {
      "cell_type": "code",
      "execution_count": null,
      "metadata": {
        "colab": {
          "base_uri": "https://localhost:8080/"
        },
        "id": "s2gceerWe-fd",
        "outputId": "3332cf1b-337d-44e4-89c2-03a8ebbdbb12"
      },
      "outputs": [
        {
          "data": {
            "text/plain": [
              "Rectangle(100, 20)"
            ]
          },
          "execution_count": 132,
          "metadata": {},
          "output_type": "execute_result"
        }
      ],
      "source": [
        "r1"
      ]
    },
    {
      "cell_type": "markdown",
      "metadata": {
        "id": "dEZOwiCCfAy8"
      },
      "source": [
        "As you saw we can get and set the width property directly.\n",
        "\n",
        "But let's say after this code has been released for a while and users of our class have been using it (and specifically setting and getting the `width` and `height` attribute a lot), but now we want to make sure users cannot set a non-positive value (i.e. `<=` 0) for `width` (or `height`, but we'll focus on `width` as an example).\n",
        "\n",
        "In a language like Java, we would implement `getWidth` and `setWidth` and make width private - which would break any code directly accessing the `width` property.\n",
        "\n",
        "In Python we can use some special decorators (more on those later) to encapsulate our property getters and setters:"
      ]
    },
    {
      "cell_type": "code",
      "execution_count": null,
      "metadata": {
        "id": "jlAmY0Xge-08"
      },
      "outputs": [],
      "source": [
        "class Rectangle:\n",
        "    def __init__(self, width, height):\n",
        "        self._width = width\n",
        "        self._height = height\n",
        "    \n",
        "    def __repr__(self):\n",
        "        return 'Rectangle({0}, {1})'.format(self.width, self.height)\n",
        "    \n",
        "    @property\n",
        "    def width(self):\n",
        "        return self._width\n",
        "    \n",
        "    @width.setter\n",
        "    def width(self, width):\n",
        "        if width <= 0:\n",
        "            raise ValueError('Width must be positive.')\n",
        "        self._width = width\n",
        "    \n",
        "    @property\n",
        "    def height(self):\n",
        "        return self._height\n",
        "    \n",
        "    @height.setter\n",
        "    def height(self, height):\n",
        "        if height <= 0:\n",
        "            raise ValueError('Height must be positive.')\n",
        "        self._height = height"
      ]
    },
    {
      "cell_type": "code",
      "execution_count": null,
      "metadata": {
        "id": "PE4VN_S9gIdZ"
      },
      "outputs": [],
      "source": [
        "r1 = Rectangle(10, 20)"
      ]
    },
    {
      "cell_type": "code",
      "execution_count": null,
      "metadata": {
        "colab": {
          "base_uri": "https://localhost:8080/"
        },
        "id": "SF9uQfMagLWl",
        "outputId": "ca0581d8-98f2-4728-aedd-13e83c6ae11d"
      },
      "outputs": [
        {
          "data": {
            "text/plain": [
              "10"
            ]
          },
          "execution_count": 135,
          "metadata": {},
          "output_type": "execute_result"
        }
      ],
      "source": [
        "r1.width"
      ]
    },
    {
      "cell_type": "code",
      "execution_count": null,
      "metadata": {
        "id": "nQSNTuxCgM2d"
      },
      "outputs": [],
      "source": [
        "r1.width = 100"
      ]
    },
    {
      "cell_type": "code",
      "execution_count": null,
      "metadata": {
        "colab": {
          "base_uri": "https://localhost:8080/"
        },
        "id": "L7IhPti0gOKQ",
        "outputId": "b72cfb5b-587f-4c53-eb18-04e310f443cb"
      },
      "outputs": [
        {
          "data": {
            "text/plain": [
              "Rectangle(100, 20)"
            ]
          },
          "execution_count": 137,
          "metadata": {},
          "output_type": "execute_result"
        }
      ],
      "source": [
        "r1"
      ]
    },
    {
      "cell_type": "code",
      "execution_count": null,
      "metadata": {
        "colab": {
          "base_uri": "https://localhost:8080/",
          "height": 288
        },
        "id": "s-OR5ix4gSZk",
        "outputId": "00ba3a49-bf04-42ea-b08a-785211ec6b15"
      },
      "outputs": [
        {
          "ename": "ValueError",
          "evalue": "Width must be positive.",
          "output_type": "error",
          "traceback": [
            "\u001b[1;31m---------------------------------------------------------------------------\u001b[0m",
            "\u001b[1;31mValueError\u001b[0m                                Traceback (most recent call last)",
            "Input \u001b[1;32mIn [138]\u001b[0m, in \u001b[0;36m<cell line: 1>\u001b[1;34m()\u001b[0m\n\u001b[1;32m----> 1\u001b[0m r1\u001b[38;5;241m.\u001b[39mwidth \u001b[38;5;241m=\u001b[39m \u001b[38;5;241m-\u001b[39m\u001b[38;5;241m10\u001b[39m\n",
            "Input \u001b[1;32mIn [133]\u001b[0m, in \u001b[0;36mRectangle.width\u001b[1;34m(self, width)\u001b[0m\n\u001b[0;32m     13\u001b[0m \u001b[38;5;129m@width\u001b[39m\u001b[38;5;241m.\u001b[39msetter\n\u001b[0;32m     14\u001b[0m \u001b[38;5;28;01mdef\u001b[39;00m \u001b[38;5;21mwidth\u001b[39m(\u001b[38;5;28mself\u001b[39m, width):\n\u001b[0;32m     15\u001b[0m     \u001b[38;5;28;01mif\u001b[39;00m width \u001b[38;5;241m<\u001b[39m\u001b[38;5;241m=\u001b[39m \u001b[38;5;241m0\u001b[39m:\n\u001b[1;32m---> 16\u001b[0m         \u001b[38;5;28;01mraise\u001b[39;00m \u001b[38;5;167;01mValueError\u001b[39;00m(\u001b[38;5;124m'\u001b[39m\u001b[38;5;124mWidth must be positive.\u001b[39m\u001b[38;5;124m'\u001b[39m)\n\u001b[0;32m     17\u001b[0m     \u001b[38;5;28mself\u001b[39m\u001b[38;5;241m.\u001b[39m_width \u001b[38;5;241m=\u001b[39m width\n",
            "\u001b[1;31mValueError\u001b[0m: Width must be positive."
          ]
        }
      ],
      "source": [
        "r1.width = -10"
      ]
    },
    {
      "cell_type": "markdown",
      "metadata": {
        "id": "-PqxUR84gV5N"
      },
      "source": [
        "There are more things we should do to properly implement all this, in particular we should also be checking the positive and negative values during the `__init__` phase. We do so by using the accessor methods for `height` and `width`:"
      ]
    },
    {
      "cell_type": "code",
      "execution_count": null,
      "metadata": {
        "id": "HU5Ui2aEgUt0"
      },
      "outputs": [],
      "source": [
        "class Rectangle:\n",
        "    def __init__(self, width, height):\n",
        "        self._width = None\n",
        "        self._height = None\n",
        "        # now we call our accessor methods to set the width and height\n",
        "        self.width = width\n",
        "        self.height = height\n",
        "    \n",
        "    def __repr__(self):\n",
        "        return 'Rectangle({0}, {1})'.format(self.width, self.height)\n",
        "    \n",
        "    @property\n",
        "    def width(self):\n",
        "        return self._width\n",
        "    \n",
        "    @width.setter\n",
        "    def width(self, width):\n",
        "        if width <= 0:\n",
        "            raise ValueError('Width must be positive.')\n",
        "        self._width = width\n",
        "    \n",
        "    @property\n",
        "    def height(self):\n",
        "        return self._height\n",
        "    \n",
        "    @height.setter\n",
        "    def height(self, height):\n",
        "        if height <= 0:\n",
        "            raise ValueError('Height must be positive.')\n",
        "        self._height = height"
      ]
    },
    {
      "cell_type": "code",
      "execution_count": null,
      "metadata": {
        "colab": {
          "base_uri": "https://localhost:8080/",
          "height": 312
        },
        "id": "HAIjIf10go6Q",
        "outputId": "1b44404c-4843-4ec5-ebca-eb0d47d18849"
      },
      "outputs": [
        {
          "ename": "ValueError",
          "evalue": "Width must be positive.",
          "output_type": "error",
          "traceback": [
            "\u001b[1;31m---------------------------------------------------------------------------\u001b[0m",
            "\u001b[1;31mValueError\u001b[0m                                Traceback (most recent call last)",
            "Input \u001b[1;32mIn [140]\u001b[0m, in \u001b[0;36m<cell line: 1>\u001b[1;34m()\u001b[0m\n\u001b[1;32m----> 1\u001b[0m r1 \u001b[38;5;241m=\u001b[39m \u001b[43mRectangle\u001b[49m\u001b[43m(\u001b[49m\u001b[38;5;241;43m0\u001b[39;49m\u001b[43m,\u001b[49m\u001b[43m \u001b[49m\u001b[38;5;241;43m10\u001b[39;49m\u001b[43m)\u001b[49m\n",
            "Input \u001b[1;32mIn [139]\u001b[0m, in \u001b[0;36mRectangle.__init__\u001b[1;34m(self, width, height)\u001b[0m\n\u001b[0;32m      4\u001b[0m \u001b[38;5;28mself\u001b[39m\u001b[38;5;241m.\u001b[39m_height \u001b[38;5;241m=\u001b[39m \u001b[38;5;28;01mNone\u001b[39;00m\n\u001b[0;32m      5\u001b[0m \u001b[38;5;66;03m# now we call our accessor methods to set the width and height\u001b[39;00m\n\u001b[1;32m----> 6\u001b[0m \u001b[38;5;28mself\u001b[39m\u001b[38;5;241m.\u001b[39mwidth \u001b[38;5;241m=\u001b[39m width\n\u001b[0;32m      7\u001b[0m \u001b[38;5;28mself\u001b[39m\u001b[38;5;241m.\u001b[39mheight \u001b[38;5;241m=\u001b[39m height\n",
            "Input \u001b[1;32mIn [139]\u001b[0m, in \u001b[0;36mRectangle.width\u001b[1;34m(self, width)\u001b[0m\n\u001b[0;32m     16\u001b[0m \u001b[38;5;129m@width\u001b[39m\u001b[38;5;241m.\u001b[39msetter\n\u001b[0;32m     17\u001b[0m \u001b[38;5;28;01mdef\u001b[39;00m \u001b[38;5;21mwidth\u001b[39m(\u001b[38;5;28mself\u001b[39m, width):\n\u001b[0;32m     18\u001b[0m     \u001b[38;5;28;01mif\u001b[39;00m width \u001b[38;5;241m<\u001b[39m\u001b[38;5;241m=\u001b[39m \u001b[38;5;241m0\u001b[39m:\n\u001b[1;32m---> 19\u001b[0m         \u001b[38;5;28;01mraise\u001b[39;00m \u001b[38;5;167;01mValueError\u001b[39;00m(\u001b[38;5;124m'\u001b[39m\u001b[38;5;124mWidth must be positive.\u001b[39m\u001b[38;5;124m'\u001b[39m)\n\u001b[0;32m     20\u001b[0m     \u001b[38;5;28mself\u001b[39m\u001b[38;5;241m.\u001b[39m_width \u001b[38;5;241m=\u001b[39m width\n",
            "\u001b[1;31mValueError\u001b[0m: Width must be positive."
          ]
        }
      ],
      "source": [
        "r1 = Rectangle(0, 10)"
      ]
    },
    {
      "cell_type": "markdown",
      "metadata": {
        "id": "7wfDUSYsgrl2"
      },
      "source": [
        "There more we should be doing, like checking that the width and height being passed in are numeric types, and so on. Espcially during the `__init__` phase. - we would rather raise an exception when the object is being created rather than delay things and raise an exception when the user calls some method like area - that way the exception will be on the line that creates the object - makes debugging much easier!\n",
        "\n",
        "There are mant more of these special methods, and we'll look in detail at them later in this course."
      ]
    },
    {
      "cell_type": "markdown",
      "metadata": {
        "id": "QgH3CzU7fix4"
      },
      "source": [
        "## Section 03 - Variables and Memory"
      ]
    },
    {
      "cell_type": "markdown",
      "metadata": {
        "id": "Pc-0wIYaf_Ic"
      },
      "source": [
        "### 01 - Variables and Memory References"
      ]
    },
    {
      "cell_type": "markdown",
      "metadata": {
        "id": "9cwH3Ai3gIc9"
      },
      "source": [
        "We can find the memory address that a variable references, by using `id()` function.\n",
        "\n",
        "The `id()` function returns the memory address of its argument as a base-10 integer.\n",
        "\n",
        "We can use the function `hex()` to convert the base-10 to base-16"
      ]
    },
    {
      "cell_type": "code",
      "execution_count": null,
      "metadata": {
        "colab": {
          "base_uri": "https://localhost:8080/"
        },
        "id": "vsZFdb4tghck",
        "outputId": "7f939aa3-44f1-41d4-ef80-e7617ab41e67"
      },
      "outputs": [
        {
          "name": "stdout",
          "output_type": "stream",
          "text": [
            "my_var = 10\n",
            "memory address of my_var (decimal): 1912987740752\n",
            "memory address of my_var (hex): 0x1bd66f46a50\n"
          ]
        }
      ],
      "source": [
        "my_var = 10\n",
        "print('my_var = {0}'.format(my_var))\n",
        "print('memory address of my_var (decimal): {0}'.format(id(my_var)))\n",
        "print('memory address of my_var (hex): {0}'.format(hex(id(my_var))))"
      ]
    },
    {
      "cell_type": "code",
      "execution_count": null,
      "metadata": {
        "colab": {
          "base_uri": "https://localhost:8080/"
        },
        "id": "9n1gebHpmUCO",
        "outputId": "98a55025-5045-4314-fc99-a4cb41289292"
      },
      "outputs": [
        {
          "name": "stdout",
          "output_type": "stream",
          "text": [
            "greeting = Hello\n",
            "memory address of my_var (decimal): 1913102098352\n",
            "memory address of my_var (hex): 0x1bd6dc55fb0\n"
          ]
        }
      ],
      "source": [
        "greeting = 'Hello'\n",
        "print('greeting = {0}'.format(greeting))\n",
        "print('memory address of my_var (decimal): {0}'.format(id(greeting)))\n",
        "print('memory address of my_var (hex): {0}'.format(hex(id(greeting))))"
      ]
    },
    {
      "cell_type": "markdown",
      "metadata": {
        "id": "p4I54ii-mieD"
      },
      "source": [
        "\n",
        "\n",
        "---\n",
        "**BE CAREFUL!**\n"
      ]
    },
    {
      "cell_type": "markdown",
      "metadata": {
        "id": "P3yTV464mpSd"
      },
      "source": [
        "*Note how the memory address of `my_var` is different from that of `greeting`.*\n",
        "\n",
        "*Strictly speaking, `my_var` is not \"equal\" to 10.*\n",
        "\n",
        "*Instead `my_var` is a reference to an (integer) object (containing the value 10) located at the memory address `id(my_var)`*\n",
        "\n",
        "*Similarly for the variable `greeting`*"
      ]
    },
    {
      "cell_type": "markdown",
      "metadata": {
        "id": "i-4_QuqZmqA1"
      },
      "source": [
        "\n",
        "\n",
        "---\n",
        "\n"
      ]
    },
    {
      "cell_type": "markdown",
      "metadata": {
        "id": "FIDMB4CUoWg2"
      },
      "source": [
        "### 02 - Reference Counting"
      ]
    },
    {
      "cell_type": "markdown",
      "metadata": {
        "id": "hd5pDDyLoxIz"
      },
      "source": [
        "Method that returns the reference count for a given variable's memory address:"
      ]
    },
    {
      "cell_type": "code",
      "execution_count": null,
      "metadata": {
        "id": "3OD3uBiXmjLp"
      },
      "outputs": [],
      "source": [
        "import ctypes\n",
        "\n",
        "def ref_count(address):\n",
        "    return ctypes.c_long.from_address(address).value"
      ]
    },
    {
      "cell_type": "markdown",
      "metadata": {
        "id": "uqudCRoQpnN_"
      },
      "source": [
        "Let's make a variable, and check it's reference count:"
      ]
    },
    {
      "cell_type": "code",
      "execution_count": null,
      "metadata": {
        "colab": {
          "base_uri": "https://localhost:8080/"
        },
        "id": "3s6w0cZAmgkk",
        "outputId": "a4278264-aa1e-4c83-8fcb-ea43571142ee"
      },
      "outputs": [
        {
          "data": {
            "text/plain": [
              "1"
            ]
          },
          "execution_count": 144,
          "metadata": {},
          "output_type": "execute_result"
        }
      ],
      "source": [
        "my_var = [1, 2, 3, 4]\n",
        "ref_count(id(my_var))"
      ]
    },
    {
      "cell_type": "markdown",
      "metadata": {
        "id": "ePCcUxc-p-Mx"
      },
      "source": [
        "There is another built-in function we can use to obtain the reference count:"
      ]
    },
    {
      "cell_type": "code",
      "execution_count": null,
      "metadata": {
        "colab": {
          "base_uri": "https://localhost:8080/"
        },
        "id": "vzNfkTsipxYt",
        "outputId": "b693dbce-facd-420e-dee4-e96e1c167a12"
      },
      "outputs": [
        {
          "data": {
            "text/plain": [
              "2"
            ]
          },
          "execution_count": 145,
          "metadata": {},
          "output_type": "execute_result"
        }
      ],
      "source": [
        "import sys\n",
        "sys.getrefcount(my_var)"
      ]
    },
    {
      "cell_type": "markdown",
      "metadata": {
        "id": "USeRi8EVqN9m"
      },
      "source": [
        "But why is this returning 3, instead of the expected 2 we obtained with the previous function?\n",
        "\n",
        "Answer: The `sys.getrefcount()` function takes `my_var` as an argument, this means it receives (and stores) a reference to `my_var`'s memory address also - hence the count is off by 1. So we will use `from_address()` instead.\n",
        "\n",
        "We make another reference to the same reference as `my_var`:"
      ]
    },
    {
      "cell_type": "code",
      "execution_count": null,
      "metadata": {
        "id": "n3o2eCw3qF19"
      },
      "outputs": [],
      "source": [
        "other_var = my_var"
      ]
    },
    {
      "cell_type": "markdown",
      "metadata": {
        "id": "4djYf3wmsFxV"
      },
      "source": [
        "Let's look at the memory address of those two variables and the reference counts:"
      ]
    },
    {
      "cell_type": "code",
      "execution_count": null,
      "metadata": {
        "colab": {
          "base_uri": "https://localhost:8080/"
        },
        "id": "Y4GvnSvJsFHV",
        "outputId": "4a1c2ab6-56c8-44c4-c540-b4381546defe"
      },
      "outputs": [
        {
          "name": "stdout",
          "output_type": "stream",
          "text": [
            "0x1bd6dd08fc0 0x1bd6dd08fc0\n",
            "2\n"
          ]
        }
      ],
      "source": [
        "print(hex(id(my_var)), hex(id(other_var)))\n",
        "print(ref_count(id(my_var)))"
      ]
    },
    {
      "cell_type": "markdown",
      "metadata": {
        "id": "4lxraMUjsbjs"
      },
      "source": [
        "Force one reference to go away:"
      ]
    },
    {
      "cell_type": "code",
      "execution_count": null,
      "metadata": {
        "id": "0zmP4_WKsRdg"
      },
      "outputs": [],
      "source": [
        "other_var = None"
      ]
    },
    {
      "cell_type": "markdown",
      "metadata": {
        "id": "KgVtKORCsfMt"
      },
      "source": [
        "And we look at the reference count again:"
      ]
    },
    {
      "cell_type": "code",
      "execution_count": null,
      "metadata": {
        "colab": {
          "base_uri": "https://localhost:8080/"
        },
        "id": "R4EK52Fnsede",
        "outputId": "00e00b44-42d5-4e68-df4c-a66990b7c1d5"
      },
      "outputs": [
        {
          "name": "stdout",
          "output_type": "stream",
          "text": [
            "1\n"
          ]
        }
      ],
      "source": [
        "print(ref_count(id(my_var)))"
      ]
    },
    {
      "cell_type": "markdown",
      "metadata": {
        "id": "Wf_JO3Bqso6P"
      },
      "source": [
        "We see that the reference count has gone back to 2.\n",
        "\n",
        "You'll probably never need  to do anythinli like this in Python. Memory management is completely transparent - this is just to illustrate some of what is going behind the scenes as it helps to understand upcoming concepts."
      ]
    },
    {
      "cell_type": "markdown",
      "metadata": {
        "id": "enysIZjKtJEH"
      },
      "source": [
        "\n",
        "\n",
        "---\n",
        "**BE CAREFUL!**\n"
      ]
    },
    {
      "cell_type": "markdown",
      "metadata": {
        "id": "YOEW7TUAtMkx"
      },
      "source": [
        "*In Google Colab Environment, `getrefcount()` function gives us the value 3, but in your local Jupyter notebook, it will be 2.*"
      ]
    },
    {
      "cell_type": "markdown",
      "metadata": {
        "id": "xlXqpINZtNBr"
      },
      "source": [
        "\n",
        "\n",
        "---\n",
        "\n"
      ]
    },
    {
      "cell_type": "markdown",
      "metadata": {
        "id": "urSFYDTwtr9g"
      },
      "source": [
        "### 03 - Garbage Collection"
      ]
    },
    {
      "cell_type": "code",
      "execution_count": null,
      "metadata": {
        "id": "U3--CgREskJ7"
      },
      "outputs": [],
      "source": [
        "import ctypes\n",
        "import gc"
      ]
    },
    {
      "cell_type": "markdown",
      "metadata": {
        "id": "9xuQEi0ftw3o"
      },
      "source": [
        "We use the same function that we used in the lesson on reference counting to calculate the numver of references to a specified object (using its memory address to avoid creating an extra reference)"
      ]
    },
    {
      "cell_type": "code",
      "execution_count": null,
      "metadata": {
        "id": "61idNhd0uVji"
      },
      "outputs": [],
      "source": [
        "def ref_count(address):\n",
        "    return ctypes.c_long.from_address(address).value"
      ]
    },
    {
      "cell_type": "markdown",
      "metadata": {
        "id": "6jK5Z4BYugSe"
      },
      "source": [
        "We create a function that will search the objects in the GC for a specified id and tell us if the object was found or not:"
      ]
    },
    {
      "cell_type": "code",
      "execution_count": null,
      "metadata": {
        "id": "LacjQyuZue45"
      },
      "outputs": [],
      "source": [
        "def object_by_id(object_id):\n",
        "    for obj in gc.get_objects():\n",
        "        if id(obj) == object_id:\n",
        "            return \"Object exists\"\n",
        "    return \"Not found\""
      ]
    },
    {
      "cell_type": "markdown",
      "metadata": {
        "id": "IPDQCkMc0GyO"
      },
      "source": [
        "Next we define two classes that we will use to create a circular reference.\n",
        "\n",
        "Class A's constructor will create an instance of class B and pass itself to class B's constructor that will then store that reference in some instance variable."
      ]
    },
    {
      "cell_type": "code",
      "execution_count": null,
      "metadata": {
        "id": "fDMsFxkb1bzd"
      },
      "outputs": [],
      "source": [
        "class A:\n",
        "    def __init__(self):\n",
        "        self.b = B(self)\n",
        "        print('A: self: {0}, b:{1}'.format(hex(id(self)), hex(id(self.b))))"
      ]
    },
    {
      "cell_type": "code",
      "execution_count": null,
      "metadata": {
        "id": "H5Fm7jL-0GMe"
      },
      "outputs": [],
      "source": [
        "class B:\n",
        "    def __init__(self, a):\n",
        "        self.a = a\n",
        "        print('B: self: {0}, a: {1}'.format(hex(id(self)), hex(id(self.a))))"
      ]
    },
    {
      "cell_type": "markdown",
      "metadata": {
        "id": "DoplELrc4SF-"
      },
      "source": [
        "We turn off the GC so we can see how reference counts are affected when the GC does not run and whne it does (by running it manually)"
      ]
    },
    {
      "cell_type": "code",
      "execution_count": null,
      "metadata": {
        "id": "w0t1g2wF4Q0g"
      },
      "outputs": [],
      "source": [
        "gc.disable()"
      ]
    },
    {
      "cell_type": "markdown",
      "metadata": {
        "id": "7XJbfIa14iIB"
      },
      "source": [
        "Now we create an instance of A, which will, in turn, create an instance of B which will store a reference to the calling A instance."
      ]
    },
    {
      "cell_type": "code",
      "execution_count": null,
      "metadata": {
        "colab": {
          "base_uri": "https://localhost:8080/"
        },
        "id": "m2ETG0si4hfh",
        "outputId": "b8c48113-136b-4c58-fd08-002ba20250c1"
      },
      "outputs": [
        {
          "name": "stdout",
          "output_type": "stream",
          "text": [
            "B: self: 0x1bd6d40d670, a: 0x1bd6d40d0d0\n",
            "A: self: 0x1bd6d40d0d0, b:0x1bd6d40d670\n"
          ]
        }
      ],
      "source": [
        "my_var = A()"
      ]
    },
    {
      "cell_type": "markdown",
      "metadata": {
        "id": "iyCUtFB15ENp"
      },
      "source": [
        "As we can see A and B's constructors ran, and we also see from the memory addresses that we have a circular reference.\n",
        "\n",
        "In fact `my_var` is also a reference to the same A instance:"
      ]
    },
    {
      "cell_type": "code",
      "execution_count": null,
      "metadata": {
        "colab": {
          "base_uri": "https://localhost:8080/"
        },
        "id": "zwHVgiKd5B89",
        "outputId": "b6536dd0-cbfd-4f14-f877-afb83af267a7"
      },
      "outputs": [
        {
          "name": "stdout",
          "output_type": "stream",
          "text": [
            "0x1bd6d40d0d0\n"
          ]
        }
      ],
      "source": [
        "print(hex(id(my_var)))"
      ]
    },
    {
      "cell_type": "markdown",
      "metadata": {
        "id": "riBAJZqF5bMb"
      },
      "source": [
        "Another way to see this:"
      ]
    },
    {
      "cell_type": "code",
      "execution_count": null,
      "metadata": {
        "colab": {
          "base_uri": "https://localhost:8080/"
        },
        "id": "KUx5I_Jw5aTz",
        "outputId": "74550cd8-09b4-453f-8d81-8bbf33239168"
      },
      "outputs": [
        {
          "name": "stdout",
          "output_type": "stream",
          "text": [
            "a: \t0x1bd6d40d0d0\n",
            "a.b: \t0x1bd6d40d670\n",
            "b.a: \t0x1bd6d40d0d0\n"
          ]
        }
      ],
      "source": [
        "print('a: \\t{0}'.format(hex(id(my_var))))\n",
        "print('a.b: \\t{0}'.format(hex(id(my_var.b))))\n",
        "print('b.a: \\t{0}'.format(hex(id(my_var.b.a))))"
      ]
    },
    {
      "cell_type": "code",
      "execution_count": null,
      "metadata": {
        "id": "ira069C65eQV"
      },
      "outputs": [],
      "source": [
        "a_id = id(my_var)\n",
        "b_id = id(my_var.b)"
      ]
    },
    {
      "cell_type": "markdown",
      "metadata": {
        "id": "XO43hnWy5g1g"
      },
      "source": [
        "We can see how many references we have for `a` and `b`"
      ]
    },
    {
      "cell_type": "code",
      "execution_count": null,
      "metadata": {
        "id": "wnEgvSNn8IsY"
      },
      "outputs": [],
      "source": [
        "my_var = None"
      ]
    },
    {
      "cell_type": "code",
      "execution_count": null,
      "metadata": {
        "colab": {
          "base_uri": "https://localhost:8080/"
        },
        "id": "kZHWewxS5gQS",
        "outputId": "fc9773fd-3bbe-4fdd-8a4d-9190fe4a07d3"
      },
      "outputs": [
        {
          "name": "stdout",
          "output_type": "stream",
          "text": [
            "refcount(a) = 1\n",
            "refcount(b) = 1\n",
            "a: Object exists\n",
            "b: Object exists\n"
          ]
        }
      ],
      "source": [
        "print('refcount(a) = {0}'.format(ref_count(a_id)))\n",
        "print('refcount(b) = {0}'.format(ref_count(b_id)))\n",
        "print('a: {0}'.format(object_by_id(a_id)))\n",
        "print('b: {0}'.format(object_by_id(b_id)))"
      ]
    },
    {
      "cell_type": "markdown",
      "metadata": {
        "id": "VAk49XhV58u6"
      },
      "source": [
        "As we can see, the reference counts are now both equal to 1 (a pure circular reference), and reference counting alone did not destroy the A and B instances - they're still around. If no garbage collection is performed this would result in a memory leak.\n",
        "\n",
        "Let's run the GC manually and re-check whether the objects still exist:"
      ]
    },
    {
      "cell_type": "code",
      "execution_count": null,
      "metadata": {
        "colab": {
          "base_uri": "https://localhost:8080/"
        },
        "id": "X6dDmJgO5p4t",
        "outputId": "ce4b7066-abdf-4acd-c605-22a5f76187fe"
      },
      "outputs": [
        {
          "name": "stdout",
          "output_type": "stream",
          "text": [
            "refcount(a) = 0\n",
            "refcount(b) = 0\n",
            "a: Not found\n",
            "b: Not found\n"
          ]
        }
      ],
      "source": [
        "gc.collect()\n",
        "print('refcount(a) = {0}'.format(ref_count(a_id)))\n",
        "print('refcount(b) = {0}'.format(ref_count(b_id)))\n",
        "print('a: {0}'.format(object_by_id(a_id)))\n",
        "print('b: {0}'.format(object_by_id(b_id)))"
      ]
    },
    {
      "cell_type": "markdown",
      "metadata": {
        "id": "uxHf7YyC8Vai"
      },
      "source": [
        "### 04 - Dynamic vs Static Typing"
      ]
    },
    {
      "cell_type": "markdown",
      "metadata": {
        "id": "7VsarCHT8a6J"
      },
      "source": [
        "Python is dynamically typed.\n",
        "\n",
        "This means that the type of a variable is simply the type of the object the variable name points to (references).The variable itself has no associated type."
      ]
    },
    {
      "cell_type": "code",
      "execution_count": null,
      "metadata": {
        "id": "GI2FVgkB806p"
      },
      "outputs": [],
      "source": [
        "a = \"hello\""
      ]
    },
    {
      "cell_type": "code",
      "execution_count": null,
      "metadata": {
        "colab": {
          "base_uri": "https://localhost:8080/"
        },
        "id": "V3ozcnm48aSC",
        "outputId": "09d8dbc0-82dc-4514-a2f8-e681fde3170b"
      },
      "outputs": [
        {
          "data": {
            "text/plain": [
              "str"
            ]
          },
          "execution_count": 164,
          "metadata": {},
          "output_type": "execute_result"
        }
      ],
      "source": [
        "type(a)"
      ]
    },
    {
      "cell_type": "code",
      "execution_count": null,
      "metadata": {
        "id": "Mrohh-2x8Amp"
      },
      "outputs": [],
      "source": [
        "a = 10"
      ]
    },
    {
      "cell_type": "code",
      "execution_count": null,
      "metadata": {
        "colab": {
          "base_uri": "https://localhost:8080/"
        },
        "id": "1xmG0MRU84XC",
        "outputId": "07dc264f-7774-49e6-dfa7-dc897c83464c"
      },
      "outputs": [
        {
          "data": {
            "text/plain": [
              "int"
            ]
          },
          "execution_count": 166,
          "metadata": {},
          "output_type": "execute_result"
        }
      ],
      "source": [
        "type(a)"
      ]
    },
    {
      "cell_type": "code",
      "execution_count": null,
      "metadata": {
        "id": "ujIGX6oo85J1"
      },
      "outputs": [],
      "source": [
        "a = lambda x: x ** 2"
      ]
    },
    {
      "cell_type": "code",
      "execution_count": null,
      "metadata": {
        "colab": {
          "base_uri": "https://localhost:8080/"
        },
        "id": "-QGu-fq-88GU",
        "outputId": "d9499af1-dafb-4e3c-8652-0f691225ca15"
      },
      "outputs": [
        {
          "data": {
            "text/plain": [
              "4"
            ]
          },
          "execution_count": 168,
          "metadata": {},
          "output_type": "execute_result"
        }
      ],
      "source": [
        "a(2)"
      ]
    },
    {
      "cell_type": "code",
      "execution_count": null,
      "metadata": {
        "colab": {
          "base_uri": "https://localhost:8080/"
        },
        "id": "VvVIXaMx88m7",
        "outputId": "a5709cb6-59fb-4e40-b709-bdf74dd2e9f1"
      },
      "outputs": [
        {
          "data": {
            "text/plain": [
              "function"
            ]
          },
          "execution_count": 169,
          "metadata": {},
          "output_type": "execute_result"
        }
      ],
      "source": [
        "type(a)"
      ]
    },
    {
      "cell_type": "markdown",
      "metadata": {
        "id": "FFxeUw958-wb"
      },
      "source": [
        "As you can see from the above examples, the type of the variable `a` changed over time - in fact it was simply the type of the object `a` was referencing at that time. No type was ever attached to the variable name itself."
      ]
    },
    {
      "cell_type": "markdown",
      "metadata": {
        "id": "qLpRyQG09ZIH"
      },
      "source": [
        "### 05 - Variable Re-Assignment"
      ]
    },
    {
      "cell_type": "markdown",
      "metadata": {
        "id": "KPfInvZP9dlI"
      },
      "source": [
        "Notice how the memory address of `a` is different every time."
      ]
    },
    {
      "cell_type": "code",
      "execution_count": null,
      "metadata": {
        "colab": {
          "base_uri": "https://localhost:8080/",
          "height": 35
        },
        "id": "5dHwHkY689Yv",
        "outputId": "b8979443-b760-475c-a06c-e9827ed284a1"
      },
      "outputs": [
        {
          "data": {
            "text/plain": [
              "'0x1bd66f46a50'"
            ]
          },
          "execution_count": 170,
          "metadata": {},
          "output_type": "execute_result"
        }
      ],
      "source": [
        "a = 10\n",
        "hex(id(a))"
      ]
    },
    {
      "cell_type": "code",
      "execution_count": null,
      "metadata": {
        "colab": {
          "base_uri": "https://localhost:8080/",
          "height": 35
        },
        "id": "gUkwg-GI90ud",
        "outputId": "46e028f0-cdef-467b-ae5a-6e640bc35544"
      },
      "outputs": [
        {
          "data": {
            "text/plain": [
              "'0x1bd66f46af0'"
            ]
          },
          "execution_count": 171,
          "metadata": {},
          "output_type": "execute_result"
        }
      ],
      "source": [
        "a = 15\n",
        "hex(id(a))"
      ]
    },
    {
      "cell_type": "code",
      "execution_count": null,
      "metadata": {
        "colab": {
          "base_uri": "https://localhost:8080/",
          "height": 35
        },
        "id": "gqs_vJsy91eU",
        "outputId": "390ea6ec-7eef-48de-e6e4-96e3073d76e3"
      },
      "outputs": [
        {
          "data": {
            "text/plain": [
              "'0x1bd66f469b0'"
            ]
          },
          "execution_count": 172,
          "metadata": {},
          "output_type": "execute_result"
        }
      ],
      "source": [
        "a = 5\n",
        "hex(id(a))"
      ]
    },
    {
      "cell_type": "code",
      "execution_count": null,
      "metadata": {
        "colab": {
          "base_uri": "https://localhost:8080/",
          "height": 35
        },
        "id": "aY7dOAHn95_l",
        "outputId": "39abe691-c2eb-4043-f32c-fefb2cc02ecd"
      },
      "outputs": [
        {
          "data": {
            "text/plain": [
              "'0x1bd66f469d0'"
            ]
          },
          "execution_count": 173,
          "metadata": {},
          "output_type": "execute_result"
        }
      ],
      "source": [
        "a = a + 1\n",
        "hex(id(a))"
      ]
    },
    {
      "cell_type": "markdown",
      "metadata": {
        "id": "Ls_eIjSb982P"
      },
      "source": [
        "However, look at this:"
      ]
    },
    {
      "cell_type": "code",
      "execution_count": null,
      "metadata": {
        "colab": {
          "base_uri": "https://localhost:8080/"
        },
        "id": "3FudF9n_98Lo",
        "outputId": "43c5e9e7-eb0d-4bb4-b5f4-ace1fd5c29b8"
      },
      "outputs": [
        {
          "name": "stdout",
          "output_type": "stream",
          "text": [
            "0x1bd66f46a50\n",
            "0x1bd66f46a50\n"
          ]
        }
      ],
      "source": [
        "a = 10\n",
        "b = 10\n",
        "print(hex(id(a)))\n",
        "print(hex(id(b)))"
      ]
    },
    {
      "cell_type": "markdown",
      "metadata": {
        "id": "fq_VucXq-EK1"
      },
      "source": [
        "The memory adresses of both `a` and `b` are the same!!"
      ]
    },
    {
      "cell_type": "markdown",
      "metadata": {
        "id": "UGxlI8rr-QFg"
      },
      "source": [
        "### 06 - Object Mutability"
      ]
    },
    {
      "cell_type": "markdown",
      "metadata": {
        "id": "K6cUmjK3-S7C"
      },
      "source": [
        "Certain Python built-in object types (aka data types) are mutable.\n",
        "\n",
        "That is, the internal contents (state) of the object in memory can be modified."
      ]
    },
    {
      "cell_type": "code",
      "execution_count": null,
      "metadata": {
        "colab": {
          "base_uri": "https://localhost:8080/"
        },
        "id": "UhEnPSko-DG0",
        "outputId": "812dd489-3633-4e4d-81f2-4db3a93437a3"
      },
      "outputs": [
        {
          "name": "stdout",
          "output_type": "stream",
          "text": [
            "[1, 2, 3]\n",
            "0x1bd6d3d6040\n"
          ]
        }
      ],
      "source": [
        "my_list = [1, 2, 3]\n",
        "print(my_list)\n",
        "print(hex(id(my_list)))"
      ]
    },
    {
      "cell_type": "code",
      "execution_count": null,
      "metadata": {
        "colab": {
          "base_uri": "https://localhost:8080/"
        },
        "id": "dPUOhALM-hzJ",
        "outputId": "c60e788a-ee83-4e31-de5f-903263133829"
      },
      "outputs": [
        {
          "name": "stdout",
          "output_type": "stream",
          "text": [
            "[1, 2, 3, 4]\n",
            "0x1bd6d3d6040\n"
          ]
        }
      ],
      "source": [
        "my_list.append(4)\n",
        "print(my_list)\n",
        "print(hex(id(my_list)))"
      ]
    },
    {
      "cell_type": "markdown",
      "metadata": {
        "id": "XK9MEOXl-nt-"
      },
      "source": [
        "As you can see, the memory address of `my_list` has not changed.\n",
        "\n",
        "But the contents of `my_list` has changed from [1, 2, 3] to [1, 2, 3, 4].\n"
      ]
    },
    {
      "cell_type": "markdown",
      "metadata": {
        "id": "m_TOiQGj_GA3"
      },
      "source": [
        "\n",
        "\n",
        "---\n",
        "**BE CAREFUL!**\n"
      ]
    },
    {
      "cell_type": "markdown",
      "metadata": {
        "id": "6y1ynncU_J8_"
      },
      "source": [
        "*On the other hand, consider this:*"
      ]
    },
    {
      "cell_type": "code",
      "execution_count": null,
      "metadata": {
        "colab": {
          "base_uri": "https://localhost:8080/"
        },
        "id": "nsSCW-mP-mpU",
        "outputId": "20cbf2f9-9e08-4ce9-cdcc-f3b278b72362"
      },
      "outputs": [
        {
          "name": "stdout",
          "output_type": "stream",
          "text": [
            "[1, 2, 3]\n",
            "0x1bd6ddb6880\n"
          ]
        }
      ],
      "source": [
        "my_list_1 = [1, 2, 3]\n",
        "print(my_list_1)\n",
        "print(hex(id(my_list_1)))"
      ]
    },
    {
      "cell_type": "code",
      "execution_count": null,
      "metadata": {
        "colab": {
          "base_uri": "https://localhost:8080/"
        },
        "id": "l8eTt06e-61K",
        "outputId": "9728d738-9a05-4360-8f5d-0b90e57e2f30"
      },
      "outputs": [
        {
          "name": "stdout",
          "output_type": "stream",
          "text": [
            "[1, 2, 3, 4]\n",
            "0x1bd6d3af080\n"
          ]
        }
      ],
      "source": [
        "my_list_1 = my_list_1 + [4]\n",
        "print(my_list_1)\n",
        "print(hex(id(my_list_1)))"
      ]
    },
    {
      "cell_type": "markdown",
      "metadata": {
        "id": "BTFws2uu-9xj"
      },
      "source": [
        "*Notice here that the memory address of `my_list_1` did change.*\n",
        "\n",
        "*This is because concatenating two lists objects `my_list_1` and `[4]` did not modify the contents of `my_list_1` - instead it created a new list object and re-assigned `my_list_1` to reference this new object.*\n",
        "\n",
        "*Similarly with ditionary objects that are also mutable types.*"
      ]
    },
    {
      "cell_type": "markdown",
      "metadata": {
        "id": "ux56aZ1j_3zM"
      },
      "source": [
        "\n",
        "\n",
        "---\n",
        "\n"
      ]
    },
    {
      "cell_type": "code",
      "execution_count": null,
      "metadata": {
        "colab": {
          "base_uri": "https://localhost:8080/"
        },
        "id": "lhZGeeqS-8F7",
        "outputId": "360c077e-058f-4b9f-92ee-3e8bddf35f8f"
      },
      "outputs": [
        {
          "name": "stdout",
          "output_type": "stream",
          "text": [
            "{'key1': 'value 1'}\n",
            "0x1bd6dc4f280\n"
          ]
        }
      ],
      "source": [
        "my_dict = dict(key1 = 'value 1')\n",
        "print(my_dict)\n",
        "print(hex(id(my_dict)))"
      ]
    },
    {
      "cell_type": "code",
      "execution_count": null,
      "metadata": {
        "colab": {
          "base_uri": "https://localhost:8080/"
        },
        "id": "fxMukl-8_JTx",
        "outputId": "3b434b8f-c88e-4d2d-e1a9-2ae21392ab5c"
      },
      "outputs": [
        {
          "name": "stdout",
          "output_type": "stream",
          "text": [
            "{'key1': 'modified value 1'}\n",
            "0x1bd6dc4f280\n"
          ]
        }
      ],
      "source": [
        "my_dict['key1'] = 'modified value 1'\n",
        "print(my_dict)\n",
        "print(hex(id(my_dict)))"
      ]
    },
    {
      "cell_type": "code",
      "execution_count": null,
      "metadata": {
        "colab": {
          "base_uri": "https://localhost:8080/"
        },
        "id": "jrqe31xsAGHG",
        "outputId": "7f9554f0-bc8e-4cc1-e934-4158f6e3c1b6"
      },
      "outputs": [
        {
          "name": "stdout",
          "output_type": "stream",
          "text": [
            "{'key1': 'modified value 1', 'key2': 'value 2'}\n",
            "0x1bd6dc4f280\n"
          ]
        }
      ],
      "source": [
        "my_dict['key2'] = 'value 2'\n",
        "print(my_dict)\n",
        "print(hex(id(my_dict)))"
      ]
    },
    {
      "cell_type": "markdown",
      "metadata": {
        "id": "7JyH1WWCASRf"
      },
      "source": [
        "Once again we see that while we are modifying the contents of the dictionary, the memory address of `my_dict` has not changed.\n",
        "\n",
        "Now consider the immutable sequence type: tuple\n",
        "\n",
        "The tuple is immutable, so elements cannot be added, removed or replaced."
      ]
    },
    {
      "cell_type": "code",
      "execution_count": null,
      "metadata": {
        "id": "Bzov2IvyAPCm"
      },
      "outputs": [],
      "source": [
        "t = (1 ,2 ,3)"
      ]
    },
    {
      "cell_type": "markdown",
      "metadata": {
        "id": "msnln1ZcAkno"
      },
      "source": [
        "This tuple will never change at all. It has three elementes, the integers 1, 2 , and 3. This will remain the case as long as `t`'s reference is not changed."
      ]
    },
    {
      "cell_type": "markdown",
      "metadata": {
        "id": "DSDxgg5AB6QW"
      },
      "source": [
        "\n",
        "\n",
        "---\n",
        "**BE CAREFUL!**\n"
      ]
    },
    {
      "cell_type": "markdown",
      "metadata": {
        "id": "4I7lBNLAB7PS"
      },
      "source": [
        "*But, consider the following tuple:*"
      ]
    },
    {
      "cell_type": "code",
      "execution_count": null,
      "metadata": {
        "id": "tjJF_3H-AkGt"
      },
      "outputs": [],
      "source": [
        "a = [1, 2]\n",
        "b = [3, 4]\n",
        "t = (a, b)"
      ]
    },
    {
      "cell_type": "markdown",
      "metadata": {
        "id": "uW9tyyYoA4Lg"
      },
      "source": [
        "*Now, `t` is still immutable, i.e. it contains a reference to the object `a` abd the object `b`. That will never change as long as `t`'s reference is not re-assigned.*\n",
        "\n",
        "*However, the elements `a` and `b` are, themselves, mutable.*"
      ]
    },
    {
      "cell_type": "code",
      "execution_count": null,
      "metadata": {
        "colab": {
          "base_uri": "https://localhost:8080/"
        },
        "id": "TdirfipAA28_",
        "outputId": "81c765b7-c40c-4de5-8778-6b3df5f9e026"
      },
      "outputs": [
        {
          "name": "stdout",
          "output_type": "stream",
          "text": [
            "([1, 2, 3], [3, 4, 5])\n"
          ]
        }
      ],
      "source": [
        "a.append(3)\n",
        "b.append(5)\n",
        "print(t)"
      ]
    },
    {
      "cell_type": "markdown",
      "metadata": {
        "id": "XirNTsfWBVAa"
      },
      "source": [
        "*Observe that the contents of `a` and `b` did change!*\n",
        "\n",
        "*So immutability can be a littlme more subtle than just thinking something can never change.*\n",
        "\n",
        "*The tuple `t` did not change - it contains two elements, that are the references `a` and `b`. And that will not change. But, because the referenced elements are mutable themselves, it appears as though the tuple has changed.*\n",
        "\n",
        "*It  hasn't though - tha distinction is subtle but important to understand!*"
      ]
    },
    {
      "cell_type": "markdown",
      "metadata": {
        "id": "MX4NiNTSB_j1"
      },
      "source": [
        "\n",
        "\n",
        "---\n",
        "\n"
      ]
    },
    {
      "cell_type": "markdown",
      "metadata": {
        "id": "Pl4IlZeMDLor"
      },
      "source": [
        "### 07 - Function Arguments and Mutability"
      ]
    },
    {
      "cell_type": "markdown",
      "metadata": {
        "id": "EYT9p3-SDTgl"
      },
      "source": [
        "Consider a function that receives a string argument, and changes the argument in some way:"
      ]
    },
    {
      "cell_type": "code",
      "execution_count": null,
      "metadata": {
        "id": "1xY-g3VbDXAP"
      },
      "outputs": [],
      "source": [
        "def process(s):\n",
        "    print('initial s # = {0}'.format(hex(id(s))))\n",
        "    s = s + ' world'\n",
        "    print('s after change # = {0}'.format(hex(id(s))))"
      ]
    },
    {
      "cell_type": "code",
      "execution_count": null,
      "metadata": {
        "colab": {
          "base_uri": "https://localhost:8080/"
        },
        "id": "G6dCzzWzBTaJ",
        "outputId": "a8c894b6-a260-4c27-cb15-2019dee47a1a"
      },
      "outputs": [
        {
          "name": "stdout",
          "output_type": "stream",
          "text": [
            "my_var # = 0x1bd6be28130\n"
          ]
        }
      ],
      "source": [
        "my_var = 'hello'\n",
        "print('my_var # = {0}'.format(hex(id(my_var))))"
      ]
    },
    {
      "cell_type": "markdown",
      "metadata": {
        "id": "ZGfepy0eHv-7"
      },
      "source": [
        "Note that when s is received, it is referencing the same object as `my_var`.\n",
        "\n",
        "After we \"modify\" s, s is pointing to a new memory address:"
      ]
    },
    {
      "cell_type": "code",
      "execution_count": null,
      "metadata": {
        "colab": {
          "base_uri": "https://localhost:8080/"
        },
        "id": "rYtMsBNCGAol",
        "outputId": "91ea89fb-b2f0-4b8f-9e15-c958989b3d2e"
      },
      "outputs": [
        {
          "name": "stdout",
          "output_type": "stream",
          "text": [
            "initial s # = 0x1bd6be28130\n",
            "s after change # = 0x1bd6d3f4bf0\n"
          ]
        }
      ],
      "source": [
        "process(my_var)"
      ]
    },
    {
      "cell_type": "markdown",
      "metadata": {
        "id": "1_0f0OIuICvS"
      },
      "source": [
        "And our own variable `my_var` is still pointing to the original memory address:"
      ]
    },
    {
      "cell_type": "code",
      "execution_count": null,
      "metadata": {
        "colab": {
          "base_uri": "https://localhost:8080/"
        },
        "id": "L7bVxpiRH-qH",
        "outputId": "e98ad8f1-b697-4476-c1ca-b41227ad0991"
      },
      "outputs": [
        {
          "name": "stdout",
          "output_type": "stream",
          "text": [
            "my_var # = 0x1bd6be28130\n"
          ]
        }
      ],
      "source": [
        "print('my_var # = {0}'.format(hex(id(my_var))))"
      ]
    },
    {
      "cell_type": "markdown",
      "metadata": {
        "id": "yA6HCHeAKVLm"
      },
      "source": [
        "Let's see how this works with mutable objects:"
      ]
    },
    {
      "cell_type": "code",
      "execution_count": null,
      "metadata": {
        "id": "4vj1O1yyKTAx"
      },
      "outputs": [],
      "source": [
        "def modify_list(items):\n",
        "    print('initial items # = {0}'.format(hex(id(items))))\n",
        "    if len(items) > 0:\n",
        "        items[0] = items[0] ** 2\n",
        "    items.pop()\n",
        "    items.append(5)\n",
        "    print('final items # = {0}'.format(hex(id(items))))"
      ]
    },
    {
      "cell_type": "code",
      "execution_count": null,
      "metadata": {
        "colab": {
          "base_uri": "https://localhost:8080/"
        },
        "id": "FC6FhUDvKwVN",
        "outputId": "52c6188b-8e7b-4e2f-d397-8827135ae067"
      },
      "outputs": [
        {
          "name": "stdout",
          "output_type": "stream",
          "text": [
            "my_list # = 0x1bd6d39d080\n"
          ]
        }
      ],
      "source": [
        "my_list = [2, 3, 4]\n",
        "print('my_list # = {0}'.format(hex(id(my_list))))"
      ]
    },
    {
      "cell_type": "code",
      "execution_count": null,
      "metadata": {
        "colab": {
          "base_uri": "https://localhost:8080/"
        },
        "id": "rEFu-1vDK5Pi",
        "outputId": "93264d58-58f0-4d0f-9671-46546c79aba8"
      },
      "outputs": [
        {
          "name": "stdout",
          "output_type": "stream",
          "text": [
            "initial items # = 0x1bd6d39d080\n",
            "final items # = 0x1bd6d39d080\n"
          ]
        }
      ],
      "source": [
        "modify_list(my_list)"
      ]
    },
    {
      "cell_type": "code",
      "execution_count": null,
      "metadata": {
        "colab": {
          "base_uri": "https://localhost:8080/"
        },
        "id": "er9mKxlqK9z8",
        "outputId": "041f2007-f1c0-4bd4-ab88-690800bcf9a0"
      },
      "outputs": [
        {
          "name": "stdout",
          "output_type": "stream",
          "text": [
            "[4, 3, 5]\n",
            "my_list # = 0x1bd6d39d080\n"
          ]
        }
      ],
      "source": [
        "print(my_list)\n",
        "print('my_list # = {0}'.format(hex(id(my_list))))"
      ]
    },
    {
      "cell_type": "markdown",
      "metadata": {
        "id": "J3_1ZJmaLR2-"
      },
      "source": [
        "As you can see, thoughout all the code, the memory address referenced by `my_list` and `items` is always the same (shared) reference - we are simply modifying the contents (internal state) of the object at that memory address.\n",
        "\n",
        "Now, even with immutable container objects we have to be careful, e.g. a tuple containing a list (the tuple is immutable, but the list element inside the tuple is mutable)"
      ]
    },
    {
      "cell_type": "code",
      "execution_count": null,
      "metadata": {
        "id": "1gtAvPcOLOsp"
      },
      "outputs": [],
      "source": [
        "def modify_tuple(t):\n",
        "    print('initial t # = {0}'.format(hex(id(t))))\n",
        "    t[0].append(100)\n",
        "    print('final t # = {0}'.format(hex(id(t))))"
      ]
    },
    {
      "cell_type": "code",
      "execution_count": null,
      "metadata": {
        "id": "pWUPUet_MITG"
      },
      "outputs": [],
      "source": [
        "my_tuple = ([1, 2], 'a')"
      ]
    },
    {
      "cell_type": "code",
      "execution_count": null,
      "metadata": {
        "colab": {
          "base_uri": "https://localhost:8080/",
          "height": 35
        },
        "id": "1L7-QqElMLp9",
        "outputId": "8dab9aa0-3cab-4eda-8ee2-a0a6ce11bdee"
      },
      "outputs": [
        {
          "data": {
            "text/plain": [
              "'0x1bd6de25b00'"
            ]
          },
          "execution_count": 195,
          "metadata": {},
          "output_type": "execute_result"
        }
      ],
      "source": [
        "hex(id(my_tuple))"
      ]
    },
    {
      "cell_type": "code",
      "execution_count": null,
      "metadata": {
        "colab": {
          "base_uri": "https://localhost:8080/"
        },
        "id": "q1QvQxA4MNEA",
        "outputId": "88af3a55-eac4-4711-fb61-b1b8df963416"
      },
      "outputs": [
        {
          "name": "stdout",
          "output_type": "stream",
          "text": [
            "initial t # = 0x1bd6de25b00\n",
            "final t # = 0x1bd6de25b00\n"
          ]
        }
      ],
      "source": [
        "modify_tuple(my_tuple)"
      ]
    },
    {
      "cell_type": "code",
      "execution_count": null,
      "metadata": {
        "colab": {
          "base_uri": "https://localhost:8080/"
        },
        "id": "t9xleyNWMPdT",
        "outputId": "0835c343-f449-490c-9d7f-bcf40d677a2a"
      },
      "outputs": [
        {
          "data": {
            "text/plain": [
              "([1, 2, 100], 'a')"
            ]
          },
          "execution_count": 197,
          "metadata": {},
          "output_type": "execute_result"
        }
      ],
      "source": [
        "my_tuple"
      ]
    },
    {
      "cell_type": "markdown",
      "metadata": {
        "id": "QPXyOHv0MSVi"
      },
      "source": [
        "As you can see, the first element of the tuple was mutated."
      ]
    },
    {
      "cell_type": "markdown",
      "metadata": {
        "id": "1W-JxmEVf0QH"
      },
      "source": [
        "### 08 - Shared References and Mutability"
      ]
    },
    {
      "cell_type": "markdown",
      "metadata": {
        "id": "kABYLJdUf5Oe"
      },
      "source": [
        "The following sets up a shared reference between the variables `my_var_1` and `my_var_2`"
      ]
    },
    {
      "cell_type": "code",
      "execution_count": null,
      "metadata": {
        "colab": {
          "base_uri": "https://localhost:8080/"
        },
        "id": "dRTYVProMRh8",
        "outputId": "09e864b9-222d-4d39-fc9f-14b23b699947"
      },
      "outputs": [
        {
          "name": "stdout",
          "output_type": "stream",
          "text": [
            "hello\n",
            "hello\n"
          ]
        }
      ],
      "source": [
        "my_var_1 = 'hello'\n",
        "my_var_2 = my_var_1\n",
        "print(my_var_1)\n",
        "print(my_var_2)"
      ]
    },
    {
      "cell_type": "code",
      "execution_count": null,
      "metadata": {
        "colab": {
          "base_uri": "https://localhost:8080/"
        },
        "id": "mkaCjgQBgPLB",
        "outputId": "0b3967c7-0dad-43c2-8abb-6ee0206a6a7d"
      },
      "outputs": [
        {
          "name": "stdout",
          "output_type": "stream",
          "text": [
            "0x1bd6be28130\n",
            "0x1bd6be28130\n"
          ]
        }
      ],
      "source": [
        "print(hex(id(my_var_1)))\n",
        "print(hex(id(my_var_2)))"
      ]
    },
    {
      "cell_type": "code",
      "execution_count": null,
      "metadata": {
        "id": "YD72RaMVgi73"
      },
      "outputs": [],
      "source": [
        "my_var_2 = my_var_2 + ' world!'"
      ]
    },
    {
      "cell_type": "code",
      "execution_count": null,
      "metadata": {
        "colab": {
          "base_uri": "https://localhost:8080/"
        },
        "id": "ZkHeoYXAgrFw",
        "outputId": "75706ae4-2f1b-4c9c-8ec1-edd70108ac98"
      },
      "outputs": [
        {
          "name": "stdout",
          "output_type": "stream",
          "text": [
            "0x1bd6be28130\n",
            "0x1bd6dc4f2f0\n"
          ]
        }
      ],
      "source": [
        "print(hex(id(my_var_1)))\n",
        "print(hex(id(my_var_2)))"
      ]
    },
    {
      "cell_type": "markdown",
      "metadata": {
        "id": "s1kRhpaJg1Y7"
      },
      "source": [
        "\n",
        "\n",
        "---\n",
        "**BE CAREFUL!**\n"
      ]
    },
    {
      "cell_type": "markdown",
      "metadata": {
        "id": "nree_m-bg457"
      },
      "source": [
        "*Be careful if the variable type is mutable!*\n",
        "\n",
        "*Here we create a list `(my_list_1)` and create a variable `(my_list_2)` referencing the same list object:*"
      ]
    },
    {
      "cell_type": "code",
      "execution_count": null,
      "metadata": {
        "colab": {
          "base_uri": "https://localhost:8080/"
        },
        "id": "K1gCgeZtgwfq",
        "outputId": "3308b22d-0a2b-4d30-ca62-31745d7ef245"
      },
      "outputs": [
        {
          "name": "stdout",
          "output_type": "stream",
          "text": [
            "[1, 2, 3]\n",
            "[1, 2, 3]\n"
          ]
        }
      ],
      "source": [
        "my_list_1 = [1, 2, 3]\n",
        "my_list_2 = my_list_1\n",
        "print(my_list_1)\n",
        "print(my_list_2)"
      ]
    },
    {
      "cell_type": "markdown",
      "metadata": {
        "id": "laW3ld2_hmuF"
      },
      "source": [
        "*As we can see they have the same memory address (shared reference):*"
      ]
    },
    {
      "cell_type": "code",
      "execution_count": null,
      "metadata": {
        "colab": {
          "base_uri": "https://localhost:8080/"
        },
        "id": "6juScz8nhcnC",
        "outputId": "8b1e54b5-a616-48d7-aedd-31a9905926b4"
      },
      "outputs": [
        {
          "name": "stdout",
          "output_type": "stream",
          "text": [
            "0x1bd6dd55740\n",
            "0x1bd6dd55740\n"
          ]
        }
      ],
      "source": [
        "print(hex(id(my_list_1)))\n",
        "print(hex(id(my_list_2)))"
      ]
    },
    {
      "cell_type": "markdown",
      "metadata": {
        "id": "6EBhx-wMiCOB"
      },
      "source": [
        "\n",
        "\n",
        "---\n",
        "\n"
      ]
    },
    {
      "cell_type": "markdown",
      "metadata": {
        "id": "85N_C0CAhyhP"
      },
      "source": [
        "Now we modify the list referenced by `my_list_2`:"
      ]
    },
    {
      "cell_type": "code",
      "execution_count": null,
      "metadata": {
        "id": "EFtMDjiVhvMZ"
      },
      "outputs": [],
      "source": [
        "my_list_2.append(4)"
      ]
    },
    {
      "cell_type": "markdown",
      "metadata": {
        "id": "raeoZH5AiH0p"
      },
      "source": [
        "`my_list_2` has been modified:"
      ]
    },
    {
      "cell_type": "code",
      "execution_count": null,
      "metadata": {
        "colab": {
          "base_uri": "https://localhost:8080/"
        },
        "id": "rCwSEpUxiGvB",
        "outputId": "0a94ec89-3897-4d6a-fbb3-a60700c6ae40"
      },
      "outputs": [
        {
          "name": "stdout",
          "output_type": "stream",
          "text": [
            "[1, 2, 3, 4]\n"
          ]
        }
      ],
      "source": [
        "print(my_list_2)"
      ]
    },
    {
      "cell_type": "markdown",
      "metadata": {
        "id": "E7RyXtO7iQid"
      },
      "source": [
        "And since my_list_1 references the same list object, it has also changed:"
      ]
    },
    {
      "cell_type": "code",
      "execution_count": null,
      "metadata": {
        "colab": {
          "base_uri": "https://localhost:8080/"
        },
        "id": "2Dok-85EiP3m",
        "outputId": "66484233-673f-4659-aca9-33bae1f6b405"
      },
      "outputs": [
        {
          "name": "stdout",
          "output_type": "stream",
          "text": [
            "[1, 2, 3, 4]\n"
          ]
        }
      ],
      "source": [
        "print(my_list_1)"
      ]
    },
    {
      "cell_type": "markdown",
      "metadata": {
        "id": "TqMkxc7Nia7u"
      },
      "source": [
        "As you can see, both variables still share the same reference:"
      ]
    },
    {
      "cell_type": "code",
      "execution_count": null,
      "metadata": {
        "colab": {
          "base_uri": "https://localhost:8080/"
        },
        "id": "q_Ef0yO_iXKm",
        "outputId": "39d1ca1d-cac3-4929-8fef-0807434608e8"
      },
      "outputs": [
        {
          "name": "stdout",
          "output_type": "stream",
          "text": [
            "0x1bd6dd55740\n",
            "0x1bd6dd55740\n"
          ]
        }
      ],
      "source": [
        "print(hex(id(my_list_1)))\n",
        "print(hex(id(my_list_2)))"
      ]
    },
    {
      "cell_type": "markdown",
      "metadata": {
        "id": "mRnVSSPoim_H"
      },
      "source": [
        "**Behind the scenes with Python's memory manager**"
      ]
    },
    {
      "cell_type": "markdown",
      "metadata": {
        "id": "8rjpxtzMiuD4"
      },
      "source": [
        "Recall from a few lectures back:"
      ]
    },
    {
      "cell_type": "code",
      "execution_count": null,
      "metadata": {
        "id": "74_yqlXpiknY"
      },
      "outputs": [],
      "source": [
        "a = 10\n",
        "b = 10"
      ]
    },
    {
      "cell_type": "code",
      "execution_count": null,
      "metadata": {
        "colab": {
          "base_uri": "https://localhost:8080/"
        },
        "id": "nzZvgFt_iy8B",
        "outputId": "20c2a882-baf2-4d19-9f00-2aa0b026c2d6"
      },
      "outputs": [
        {
          "name": "stdout",
          "output_type": "stream",
          "text": [
            "0x1bd66f46a50\n",
            "0x1bd66f46a50\n"
          ]
        }
      ],
      "source": [
        "print(hex(id(a)))\n",
        "print(hex(id(b)))"
      ]
    },
    {
      "cell_type": "markdown",
      "metadata": {
        "id": "-Jmf9QDci26Z"
      },
      "source": [
        "Same memory address!!\n",
        "\n",
        "This is safe for Python to do because integer objects are immutable.\n",
        "\n",
        "So, even though `a` and `b` initially shared the same memory address, we can never modify a's value by \"modifying\" b' value.\n",
        "\n",
        "The only way to change `b`'s value is to change it's reference, which will never affect `a`."
      ]
    },
    {
      "cell_type": "code",
      "execution_count": null,
      "metadata": {
        "id": "DKtm7qxRi2B4"
      },
      "outputs": [],
      "source": [
        "b = 15"
      ]
    },
    {
      "cell_type": "code",
      "execution_count": null,
      "metadata": {
        "colab": {
          "base_uri": "https://localhost:8080/"
        },
        "id": "BOyrNJqnk5Qz",
        "outputId": "79928d89-b7af-4090-93f0-85b70f44e3e2"
      },
      "outputs": [
        {
          "name": "stdout",
          "output_type": "stream",
          "text": [
            "0x1bd66f46a50\n",
            "0x1bd66f46af0\n"
          ]
        }
      ],
      "source": [
        "print(hex(id(a)))\n",
        "print(hex(id(b)))"
      ]
    },
    {
      "cell_type": "markdown",
      "metadata": {
        "id": "5AJNiSsmk8_A"
      },
      "source": [
        "However, for mutable objects, Python's memory manager does not do this, since that would not be safe."
      ]
    },
    {
      "cell_type": "code",
      "execution_count": null,
      "metadata": {
        "id": "Bj_IMcHtk8Nd"
      },
      "outputs": [],
      "source": [
        "my_list_1 = [1, 2, 3]\n",
        "my_list_2 = [1, 2 ,3]"
      ]
    },
    {
      "cell_type": "markdown",
      "metadata": {
        "id": "kkp4sdzLlKT7"
      },
      "source": [
        "As you can see, although the two variables were assingend identical \"contents\", the memory addresses are not the same:"
      ]
    },
    {
      "cell_type": "code",
      "execution_count": null,
      "metadata": {
        "colab": {
          "base_uri": "https://localhost:8080/"
        },
        "id": "_T5jeTKHlJx4",
        "outputId": "53fe4ba7-a0ec-43be-f4ba-3a30066590be"
      },
      "outputs": [
        {
          "name": "stdout",
          "output_type": "stream",
          "text": [
            "0x1bd6d266e80\n",
            "0x1bd6dcfed00\n"
          ]
        }
      ],
      "source": [
        "print(hex(id(my_list_1)))\n",
        "print(hex(id(my_list_2)))"
      ]
    },
    {
      "cell_type": "markdown",
      "metadata": {
        "id": "mMwhfroblbJz"
      },
      "source": [
        "### 09 - Variable Equality"
      ]
    },
    {
      "cell_type": "markdown",
      "metadata": {
        "id": "5UrNKrjLlgAi"
      },
      "source": [
        "From the previous lecture we know that `a` and `b` will have a shared reference:"
      ]
    },
    {
      "cell_type": "code",
      "execution_count": null,
      "metadata": {
        "colab": {
          "base_uri": "https://localhost:8080/"
        },
        "id": "-Mjmi9gGlV9a",
        "outputId": "584f02e1-a0c5-44fb-eb59-ab1c1ec381f3"
      },
      "outputs": [
        {
          "name": "stdout",
          "output_type": "stream",
          "text": [
            "0x1bd66f46a50\n",
            "0x1bd66f46a50\n"
          ]
        }
      ],
      "source": [
        "a = 10\n",
        "b = 10\n",
        "\n",
        "print(hex(id(a)))\n",
        "print(hex(id(b)))"
      ]
    },
    {
      "cell_type": "markdown",
      "metadata": {
        "id": "DkNvgw2flxRH"
      },
      "source": [
        "When we use the `is` operator, we are comparing t he moemory address references:"
      ]
    },
    {
      "cell_type": "code",
      "execution_count": null,
      "metadata": {
        "colab": {
          "base_uri": "https://localhost:8080/"
        },
        "id": "BjlSH89mltkH",
        "outputId": "92016d26-1e78-45f9-c7c6-880c3f1058fa"
      },
      "outputs": [
        {
          "name": "stdout",
          "output_type": "stream",
          "text": [
            "a is b  True\n"
          ]
        }
      ],
      "source": [
        "print(\"a is b \", a is b)"
      ]
    },
    {
      "cell_type": "markdown",
      "metadata": {
        "id": "wvGvOix4l57p"
      },
      "source": [
        "But if we use the `==` operator, we are comparing the contents:"
      ]
    },
    {
      "cell_type": "code",
      "execution_count": null,
      "metadata": {
        "colab": {
          "base_uri": "https://localhost:8080/"
        },
        "id": "kOMkm-O-l4zj",
        "outputId": "dc5fa079-03b0-4961-8a76-1e76fc1b8cd8"
      },
      "outputs": [
        {
          "name": "stdout",
          "output_type": "stream",
          "text": [
            "a == b True\n"
          ]
        }
      ],
      "source": [
        "print(\"a == b\", a == b)"
      ]
    },
    {
      "cell_type": "markdown",
      "metadata": {
        "id": "eSNXTdcimCZh"
      },
      "source": [
        "The following however, do not have a shared reference:"
      ]
    },
    {
      "cell_type": "code",
      "execution_count": null,
      "metadata": {
        "colab": {
          "base_uri": "https://localhost:8080/"
        },
        "id": "KVQpzMx1mBbU",
        "outputId": "788e0d19-08f7-4f3b-cae2-aeb9bd03462d"
      },
      "outputs": [
        {
          "name": "stdout",
          "output_type": "stream",
          "text": [
            "0x1bd6dd585c0\n",
            "0x1bd6dd49b80\n"
          ]
        }
      ],
      "source": [
        "a = [1, 2, 3]\n",
        "b = [1, 2, 3]\n",
        "\n",
        "print(hex(id(a)))\n",
        "print(hex(id(b)))"
      ]
    },
    {
      "cell_type": "markdown",
      "metadata": {
        "id": "V-S8R16vmitB"
      },
      "source": [
        "Although they are not the same objects, they do contain the same \"values\""
      ]
    },
    {
      "cell_type": "code",
      "execution_count": null,
      "metadata": {
        "colab": {
          "base_uri": "https://localhost:8080/"
        },
        "id": "LuxX93UumM4L",
        "outputId": "f0764494-9f6a-4443-c967-8a0dfe2dca9e"
      },
      "outputs": [
        {
          "name": "stdout",
          "output_type": "stream",
          "text": [
            "a is b False\n",
            "a == b True\n"
          ]
        }
      ],
      "source": [
        "print(\"a is b\", a is b)\n",
        "print(\"a == b\", a == b)"
      ]
    },
    {
      "cell_type": "markdown",
      "metadata": {
        "id": "SiDY-LqwmtkM"
      },
      "source": [
        "Python will attempt to compare values as best as posssible, for example:"
      ]
    },
    {
      "cell_type": "code",
      "execution_count": null,
      "metadata": {
        "id": "aHtexCYqmstK"
      },
      "outputs": [],
      "source": [
        "a = 10\n",
        "b = 10.0"
      ]
    },
    {
      "cell_type": "markdown",
      "metadata": {
        "id": "zWYMW2xOm1Ee"
      },
      "source": [
        "These are not the same reference, since one object is an `int` and the other is a `float`"
      ]
    },
    {
      "cell_type": "code",
      "execution_count": null,
      "metadata": {
        "colab": {
          "base_uri": "https://localhost:8080/"
        },
        "id": "XRubRmQum0eo",
        "outputId": "407fe647-dd13-4f92-e3ac-77c19c980d71"
      },
      "outputs": [
        {
          "name": "stdout",
          "output_type": "stream",
          "text": [
            "<class 'int'>\n",
            "<class 'float'>\n"
          ]
        }
      ],
      "source": [
        "print(type(a))\n",
        "print(type(b))"
      ]
    },
    {
      "cell_type": "code",
      "execution_count": null,
      "metadata": {
        "colab": {
          "base_uri": "https://localhost:8080/"
        },
        "id": "4BC7yIwom_kD",
        "outputId": "9f9334bb-6df4-4c99-9aab-9183e04a5369"
      },
      "outputs": [
        {
          "name": "stdout",
          "output_type": "stream",
          "text": [
            "0x1bd66f46a50\n",
            "0x1bd6de3c530\n"
          ]
        }
      ],
      "source": [
        "print(hex(id(a)))\n",
        "print(hex(id(b)))"
      ]
    },
    {
      "cell_type": "code",
      "execution_count": null,
      "metadata": {
        "colab": {
          "base_uri": "https://localhost:8080/"
        },
        "id": "x6rbH_kEnDD4",
        "outputId": "e5f33b9e-58af-4719-aa57-23868c29d70f"
      },
      "outputs": [
        {
          "name": "stdout",
          "output_type": "stream",
          "text": [
            "a is b False\n",
            "a == b True\n"
          ]
        }
      ],
      "source": [
        "print(\"a is b\", a is b)\n",
        "print(\"a == b\", a == b)"
      ]
    },
    {
      "cell_type": "markdown",
      "metadata": {
        "id": "xH-LwMhnnGmd"
      },
      "source": [
        "So, even though `a` is an integer 10, and `b` is a float 10.0, the values will still compare as equal.\n",
        "\n",
        "In fact, this will also have the same behavior:"
      ]
    },
    {
      "cell_type": "code",
      "execution_count": null,
      "metadata": {
        "colab": {
          "base_uri": "https://localhost:8080/"
        },
        "id": "FvBJXl3NnFdz",
        "outputId": "9e13e6e0-e650-4c37-b308-b8825750b03b"
      },
      "outputs": [
        {
          "name": "stdout",
          "output_type": "stream",
          "text": [
            "<class 'complex'>\n"
          ]
        }
      ],
      "source": [
        "c = 10 + 0j\n",
        "print(type(c))"
      ]
    },
    {
      "cell_type": "code",
      "execution_count": null,
      "metadata": {
        "colab": {
          "base_uri": "https://localhost:8080/"
        },
        "id": "45IQi_s4nWdI",
        "outputId": "3c2019e6-978a-4487-872b-8c4dd1a69115"
      },
      "outputs": [
        {
          "name": "stdout",
          "output_type": "stream",
          "text": [
            "a is c False\n",
            "a == c True\n"
          ]
        }
      ],
      "source": [
        "print(\"a is c\", a is c)\n",
        "print(\"a == c\", a == c)"
      ]
    },
    {
      "cell_type": "markdown",
      "metadata": {
        "id": "gFAc9OXgnbRB"
      },
      "source": [
        "**The None Object**"
      ]
    },
    {
      "cell_type": "markdown",
      "metadata": {
        "id": "VdmQn4yhnewb"
      },
      "source": [
        "`None` is a built-in \"variable\" of type `NoneType`.\n",
        "\n",
        "Basically the keyword `None` is a reference to an object instance of `NoneType`.\n",
        "\n",
        "NoneType objects are immutable! Python's memory manager will therefore use shared references to the None object."
      ]
    },
    {
      "cell_type": "code",
      "execution_count": null,
      "metadata": {
        "colab": {
          "base_uri": "https://localhost:8080/"
        },
        "id": "pmFNla4lnZiZ",
        "outputId": "c6460ff6-a563-4da0-b756-1d777046f863"
      },
      "outputs": [
        {
          "name": "stdout",
          "output_type": "stream",
          "text": [
            "None\n"
          ]
        }
      ],
      "source": [
        "print(None)"
      ]
    },
    {
      "cell_type": "code",
      "execution_count": null,
      "metadata": {
        "colab": {
          "background_save": true,
          "base_uri": "https://localhost:8080/",
          "height": 35
        },
        "id": "zDN2ViHqn-wu",
        "outputId": "00d05916-8657-4526-9859-463a26d322c5"
      },
      "outputs": [
        {
          "data": {
            "text/plain": [
              "'0x7ffb565c9cd8'"
            ]
          },
          "execution_count": 226,
          "metadata": {},
          "output_type": "execute_result"
        }
      ],
      "source": [
        "hex(id(None))"
      ]
    },
    {
      "cell_type": "code",
      "execution_count": null,
      "metadata": {
        "colab": {
          "background_save": true,
          "base_uri": "https://localhost:8080/"
        },
        "id": "Cyg_aVlwoHMA",
        "outputId": "35356c7a-874b-4213-9a1a-1133171aacb9"
      },
      "outputs": [
        {
          "data": {
            "text/plain": [
              "NoneType"
            ]
          },
          "execution_count": 227,
          "metadata": {},
          "output_type": "execute_result"
        }
      ],
      "source": [
        "type(None)"
      ]
    },
    {
      "cell_type": "code",
      "execution_count": null,
      "metadata": {
        "colab": {
          "background_save": true,
          "base_uri": "https://localhost:8080/"
        },
        "id": "tik9taUyn_8T",
        "outputId": "6e1b8d60-c410-44d1-b368-2c81b23f2348"
      },
      "outputs": [
        {
          "name": "stdout",
          "output_type": "stream",
          "text": [
            "<class 'NoneType'>\n",
            "0x7ffb565c9cd8\n"
          ]
        }
      ],
      "source": [
        "a = None\n",
        "print(type(a))\n",
        "print(hex(id(a)))"
      ]
    },
    {
      "cell_type": "code",
      "execution_count": null,
      "metadata": {
        "colab": {
          "background_save": true,
          "base_uri": "https://localhost:8080/"
        },
        "id": "g4alerswoDD6",
        "outputId": "7cb5f0b5-b3b4-45ba-a822-effe812463d5"
      },
      "outputs": [
        {
          "data": {
            "text/plain": [
              "True"
            ]
          },
          "execution_count": 229,
          "metadata": {},
          "output_type": "execute_result"
        }
      ],
      "source": [
        "a is None"
      ]
    },
    {
      "cell_type": "code",
      "execution_count": null,
      "metadata": {
        "colab": {
          "background_save": true,
          "base_uri": "https://localhost:8080/"
        },
        "id": "GsaJrNGFoL0d",
        "outputId": "f946c7fc-48a0-45df-be3a-356fcd8f4144"
      },
      "outputs": [
        {
          "data": {
            "text/plain": [
              "True"
            ]
          },
          "execution_count": 230,
          "metadata": {},
          "output_type": "execute_result"
        }
      ],
      "source": [
        "a == None"
      ]
    },
    {
      "cell_type": "code",
      "execution_count": null,
      "metadata": {
        "colab": {
          "background_save": true,
          "base_uri": "https://localhost:8080/",
          "height": 35
        },
        "id": "NJnl0z4doM9T",
        "outputId": "343c540a-f904-44d8-e566-c6ba5ab3a6d6"
      },
      "outputs": [
        {
          "data": {
            "text/plain": [
              "'0x7ffb565c9cd8'"
            ]
          },
          "execution_count": 231,
          "metadata": {},
          "output_type": "execute_result"
        }
      ],
      "source": [
        "b = None\n",
        "hex(id(b))"
      ]
    },
    {
      "cell_type": "code",
      "execution_count": null,
      "metadata": {
        "colab": {
          "background_save": true,
          "base_uri": "https://localhost:8080/"
        },
        "id": "qzmqXjvMoN8N",
        "outputId": "31906153-b991-4f1d-9d26-5c66be6adccb"
      },
      "outputs": [
        {
          "data": {
            "text/plain": [
              "True"
            ]
          },
          "execution_count": 232,
          "metadata": {},
          "output_type": "execute_result"
        }
      ],
      "source": [
        "a is b"
      ]
    },
    {
      "cell_type": "code",
      "execution_count": null,
      "metadata": {
        "colab": {
          "background_save": true,
          "base_uri": "https://localhost:8080/"
        },
        "id": "i2ZlANWDoV8V",
        "outputId": "12b8e40a-1078-4eca-d9bc-05e57a52a6ff"
      },
      "outputs": [
        {
          "data": {
            "text/plain": [
              "True"
            ]
          },
          "execution_count": 233,
          "metadata": {},
          "output_type": "execute_result"
        }
      ],
      "source": [
        "a == b"
      ]
    },
    {
      "cell_type": "code",
      "execution_count": null,
      "metadata": {
        "colab": {
          "background_save": true
        },
        "id": "VdMpun7moW70"
      },
      "outputs": [],
      "source": [
        "l = []"
      ]
    },
    {
      "cell_type": "code",
      "execution_count": null,
      "metadata": {
        "colab": {
          "background_save": true,
          "base_uri": "https://localhost:8080/"
        },
        "id": "UxZnGr0zoYSv",
        "outputId": "a958f0e2-7af9-4b0b-fab2-b7905581bbae"
      },
      "outputs": [
        {
          "data": {
            "text/plain": [
              "list"
            ]
          },
          "execution_count": 235,
          "metadata": {},
          "output_type": "execute_result"
        }
      ],
      "source": [
        "type(l)"
      ]
    },
    {
      "cell_type": "code",
      "execution_count": null,
      "metadata": {
        "colab": {
          "background_save": true,
          "base_uri": "https://localhost:8080/"
        },
        "id": "L0_MJPMboZvt",
        "outputId": "4c06efb6-399d-40d2-97d0-1c31e5addc72"
      },
      "outputs": [
        {
          "data": {
            "text/plain": [
              "False"
            ]
          },
          "execution_count": 236,
          "metadata": {},
          "output_type": "execute_result"
        }
      ],
      "source": [
        "l is None"
      ]
    },
    {
      "cell_type": "code",
      "execution_count": null,
      "metadata": {
        "colab": {
          "background_save": true,
          "base_uri": "https://localhost:8080/"
        },
        "id": "vvpOGawzochp",
        "outputId": "9625326f-3fac-420f-e948-212f4e2f1be5"
      },
      "outputs": [
        {
          "data": {
            "text/plain": [
              "False"
            ]
          },
          "execution_count": 237,
          "metadata": {},
          "output_type": "execute_result"
        }
      ],
      "source": [
        "l == None"
      ]
    },
    {
      "cell_type": "markdown",
      "metadata": {
        "id": "XEXZMQyvokNQ"
      },
      "source": [
        "### 10 - Everything is an Object"
      ]
    },
    {
      "cell_type": "code",
      "execution_count": null,
      "metadata": {
        "colab": {
          "background_save": true
        },
        "id": "tg4vpD-XoeXO"
      },
      "outputs": [],
      "source": [
        "a = 10"
      ]
    },
    {
      "cell_type": "markdown",
      "metadata": {
        "id": "gySbmSnfuyiU"
      },
      "source": [
        "`a` is an object of type `int`, i.e. `a` is an instance of the `int` class."
      ]
    },
    {
      "cell_type": "code",
      "execution_count": null,
      "metadata": {
        "colab": {
          "background_save": true,
          "base_uri": "https://localhost:8080/"
        },
        "id": "6AcIgEKOuxHy",
        "outputId": "c9c2e83d-d5bd-4a96-95de-d8800a9bab35"
      },
      "outputs": [
        {
          "name": "stdout",
          "output_type": "stream",
          "text": [
            "<class 'int'>\n"
          ]
        }
      ],
      "source": [
        "print(type(a))"
      ]
    },
    {
      "cell_type": "markdown",
      "metadata": {
        "id": "TsloVbEMvAkC"
      },
      "source": [
        "if `int` is a class, we should be able to declare it using standard class instatiation:"
      ]
    },
    {
      "cell_type": "code",
      "execution_count": null,
      "metadata": {
        "colab": {
          "background_save": true
        },
        "id": "H7d1kH6xu_gE"
      },
      "outputs": [],
      "source": [
        "b = int(10)"
      ]
    },
    {
      "cell_type": "code",
      "execution_count": null,
      "metadata": {
        "colab": {
          "background_save": true,
          "base_uri": "https://localhost:8080/"
        },
        "id": "ftss9aHuvJX7",
        "outputId": "5542e36a-2f7a-448c-9939-1b7e9f7fb5cb"
      },
      "outputs": [
        {
          "name": "stdout",
          "output_type": "stream",
          "text": [
            "10\n",
            "<class 'int'>\n"
          ]
        }
      ],
      "source": [
        "print(b)\n",
        "print(type(b))"
      ]
    },
    {
      "cell_type": "markdown",
      "metadata": {
        "id": "RZNt3L_9vNJ7"
      },
      "source": [
        "We can even request the class documentation:"
      ]
    },
    {
      "cell_type": "code",
      "execution_count": null,
      "metadata": {
        "colab": {
          "background_save": true,
          "base_uri": "https://localhost:8080/"
        },
        "id": "CV8ekCbhvMMy",
        "outputId": "f4c6620c-f2cf-4fa3-e6aa-8b3f65ba8b1a"
      },
      "outputs": [
        {
          "name": "stdout",
          "output_type": "stream",
          "text": [
            "Help on class int in module builtins:\n",
            "\n",
            "class int(object)\n",
            " |  int([x]) -> integer\n",
            " |  int(x, base=10) -> integer\n",
            " |  \n",
            " |  Convert a number or string to an integer, or return 0 if no arguments\n",
            " |  are given.  If x is a number, return x.__int__().  For floating point\n",
            " |  numbers, this truncates towards zero.\n",
            " |  \n",
            " |  If x is not a number or if base is given, then x must be a string,\n",
            " |  bytes, or bytearray instance representing an integer literal in the\n",
            " |  given base.  The literal can be preceded by '+' or '-' and be surrounded\n",
            " |  by whitespace.  The base defaults to 10.  Valid bases are 0 and 2-36.\n",
            " |  Base 0 means to interpret the base from the string as an integer literal.\n",
            " |  >>> int('0b100', base=0)\n",
            " |  4\n",
            " |  \n",
            " |  Built-in subclasses:\n",
            " |      bool\n",
            " |  \n",
            " |  Methods defined here:\n",
            " |  \n",
            " |  __abs__(self, /)\n",
            " |      abs(self)\n",
            " |  \n",
            " |  __add__(self, value, /)\n",
            " |      Return self+value.\n",
            " |  \n",
            " |  __and__(self, value, /)\n",
            " |      Return self&value.\n",
            " |  \n",
            " |  __bool__(self, /)\n",
            " |      True if self else False\n",
            " |  \n",
            " |  __ceil__(...)\n",
            " |      Ceiling of an Integral returns itself.\n",
            " |  \n",
            " |  __divmod__(self, value, /)\n",
            " |      Return divmod(self, value).\n",
            " |  \n",
            " |  __eq__(self, value, /)\n",
            " |      Return self==value.\n",
            " |  \n",
            " |  __float__(self, /)\n",
            " |      float(self)\n",
            " |  \n",
            " |  __floor__(...)\n",
            " |      Flooring an Integral returns itself.\n",
            " |  \n",
            " |  __floordiv__(self, value, /)\n",
            " |      Return self//value.\n",
            " |  \n",
            " |  __format__(self, format_spec, /)\n",
            " |      Default object formatter.\n",
            " |  \n",
            " |  __ge__(self, value, /)\n",
            " |      Return self>=value.\n",
            " |  \n",
            " |  __getattribute__(self, name, /)\n",
            " |      Return getattr(self, name).\n",
            " |  \n",
            " |  __getnewargs__(self, /)\n",
            " |  \n",
            " |  __gt__(self, value, /)\n",
            " |      Return self>value.\n",
            " |  \n",
            " |  __hash__(self, /)\n",
            " |      Return hash(self).\n",
            " |  \n",
            " |  __index__(self, /)\n",
            " |      Return self converted to an integer, if self is suitable for use as an index into a list.\n",
            " |  \n",
            " |  __int__(self, /)\n",
            " |      int(self)\n",
            " |  \n",
            " |  __invert__(self, /)\n",
            " |      ~self\n",
            " |  \n",
            " |  __le__(self, value, /)\n",
            " |      Return self<=value.\n",
            " |  \n",
            " |  __lshift__(self, value, /)\n",
            " |      Return self<<value.\n",
            " |  \n",
            " |  __lt__(self, value, /)\n",
            " |      Return self<value.\n",
            " |  \n",
            " |  __mod__(self, value, /)\n",
            " |      Return self%value.\n",
            " |  \n",
            " |  __mul__(self, value, /)\n",
            " |      Return self*value.\n",
            " |  \n",
            " |  __ne__(self, value, /)\n",
            " |      Return self!=value.\n",
            " |  \n",
            " |  __neg__(self, /)\n",
            " |      -self\n",
            " |  \n",
            " |  __or__(self, value, /)\n",
            " |      Return self|value.\n",
            " |  \n",
            " |  __pos__(self, /)\n",
            " |      +self\n",
            " |  \n",
            " |  __pow__(self, value, mod=None, /)\n",
            " |      Return pow(self, value, mod).\n",
            " |  \n",
            " |  __radd__(self, value, /)\n",
            " |      Return value+self.\n",
            " |  \n",
            " |  __rand__(self, value, /)\n",
            " |      Return value&self.\n",
            " |  \n",
            " |  __rdivmod__(self, value, /)\n",
            " |      Return divmod(value, self).\n",
            " |  \n",
            " |  __repr__(self, /)\n",
            " |      Return repr(self).\n",
            " |  \n",
            " |  __rfloordiv__(self, value, /)\n",
            " |      Return value//self.\n",
            " |  \n",
            " |  __rlshift__(self, value, /)\n",
            " |      Return value<<self.\n",
            " |  \n",
            " |  __rmod__(self, value, /)\n",
            " |      Return value%self.\n",
            " |  \n",
            " |  __rmul__(self, value, /)\n",
            " |      Return value*self.\n",
            " |  \n",
            " |  __ror__(self, value, /)\n",
            " |      Return value|self.\n",
            " |  \n",
            " |  __round__(...)\n",
            " |      Rounding an Integral returns itself.\n",
            " |      Rounding with an ndigits argument also returns an integer.\n",
            " |  \n",
            " |  __rpow__(self, value, mod=None, /)\n",
            " |      Return pow(value, self, mod).\n",
            " |  \n",
            " |  __rrshift__(self, value, /)\n",
            " |      Return value>>self.\n",
            " |  \n",
            " |  __rshift__(self, value, /)\n",
            " |      Return self>>value.\n",
            " |  \n",
            " |  __rsub__(self, value, /)\n",
            " |      Return value-self.\n",
            " |  \n",
            " |  __rtruediv__(self, value, /)\n",
            " |      Return value/self.\n",
            " |  \n",
            " |  __rxor__(self, value, /)\n",
            " |      Return value^self.\n",
            " |  \n",
            " |  __sizeof__(self, /)\n",
            " |      Returns size in memory, in bytes.\n",
            " |  \n",
            " |  __sub__(self, value, /)\n",
            " |      Return self-value.\n",
            " |  \n",
            " |  __truediv__(self, value, /)\n",
            " |      Return self/value.\n",
            " |  \n",
            " |  __trunc__(...)\n",
            " |      Truncating an Integral returns itself.\n",
            " |  \n",
            " |  __xor__(self, value, /)\n",
            " |      Return self^value.\n",
            " |  \n",
            " |  as_integer_ratio(self, /)\n",
            " |      Return integer ratio.\n",
            " |      \n",
            " |      Return a pair of integers, whose ratio is exactly equal to the original int\n",
            " |      and with a positive denominator.\n",
            " |      \n",
            " |      >>> (10).as_integer_ratio()\n",
            " |      (10, 1)\n",
            " |      >>> (-10).as_integer_ratio()\n",
            " |      (-10, 1)\n",
            " |      >>> (0).as_integer_ratio()\n",
            " |      (0, 1)\n",
            " |  \n",
            " |  bit_length(self, /)\n",
            " |      Number of bits necessary to represent self in binary.\n",
            " |      \n",
            " |      >>> bin(37)\n",
            " |      '0b100101'\n",
            " |      >>> (37).bit_length()\n",
            " |      6\n",
            " |  \n",
            " |  conjugate(...)\n",
            " |      Returns self, the complex conjugate of any int.\n",
            " |  \n",
            " |  to_bytes(self, /, length, byteorder, *, signed=False)\n",
            " |      Return an array of bytes representing an integer.\n",
            " |      \n",
            " |      length\n",
            " |        Length of bytes object to use.  An OverflowError is raised if the\n",
            " |        integer is not representable with the given number of bytes.\n",
            " |      byteorder\n",
            " |        The byte order used to represent the integer.  If byteorder is 'big',\n",
            " |        the most significant byte is at the beginning of the byte array.  If\n",
            " |        byteorder is 'little', the most significant byte is at the end of the\n",
            " |        byte array.  To request the native byte order of the host system, use\n",
            " |        `sys.byteorder' as the byte order value.\n",
            " |      signed\n",
            " |        Determines whether two's complement is used to represent the integer.\n",
            " |        If signed is False and a negative integer is given, an OverflowError\n",
            " |        is raised.\n",
            " |  \n",
            " |  ----------------------------------------------------------------------\n",
            " |  Class methods defined here:\n",
            " |  \n",
            " |  from_bytes(bytes, byteorder, *, signed=False) from builtins.type\n",
            " |      Return the integer represented by the given array of bytes.\n",
            " |      \n",
            " |      bytes\n",
            " |        Holds the array of bytes to convert.  The argument must either\n",
            " |        support the buffer protocol or be an iterable object producing bytes.\n",
            " |        Bytes and bytearray are examples of built-in objects that support the\n",
            " |        buffer protocol.\n",
            " |      byteorder\n",
            " |        The byte order used to represent the integer.  If byteorder is 'big',\n",
            " |        the most significant byte is at the beginning of the byte array.  If\n",
            " |        byteorder is 'little', the most significant byte is at the end of the\n",
            " |        byte array.  To request the native byte order of the host system, use\n",
            " |        `sys.byteorder' as the byte order value.\n",
            " |      signed\n",
            " |        Indicates whether two's complement is used to represent the integer.\n",
            " |  \n",
            " |  ----------------------------------------------------------------------\n",
            " |  Static methods defined here:\n",
            " |  \n",
            " |  __new__(*args, **kwargs) from builtins.type\n",
            " |      Create and return a new object.  See help(type) for accurate signature.\n",
            " |  \n",
            " |  ----------------------------------------------------------------------\n",
            " |  Data descriptors defined here:\n",
            " |  \n",
            " |  denominator\n",
            " |      the denominator of a rational number in lowest terms\n",
            " |  \n",
            " |  imag\n",
            " |      the imaginary part of a complex number\n",
            " |  \n",
            " |  numerator\n",
            " |      the numerator of a rational number in lowest terms\n",
            " |  \n",
            " |  real\n",
            " |      the real part of a complex number\n",
            "\n"
          ]
        }
      ],
      "source": [
        "help(int)"
      ]
    },
    {
      "cell_type": "markdown",
      "metadata": {
        "id": "KuT31BPGz2sJ"
      },
      "source": [
        "As we see from the docs, we can even create an `int` using an overloaded constructor:"
      ]
    },
    {
      "cell_type": "code",
      "execution_count": null,
      "metadata": {
        "colab": {
          "background_save": true
        },
        "id": "FKQV2ovzvUPt"
      },
      "outputs": [],
      "source": [
        "b = int('10', base=2)"
      ]
    },
    {
      "cell_type": "code",
      "execution_count": null,
      "metadata": {
        "colab": {
          "background_save": true,
          "base_uri": "https://localhost:8080/"
        },
        "id": "1Fyifv7M0DOM",
        "outputId": "98f6dc88-3ced-474d-f9ab-d387d614d6bc"
      },
      "outputs": [
        {
          "name": "stdout",
          "output_type": "stream",
          "text": [
            "2\n",
            "<class 'int'>\n"
          ]
        }
      ],
      "source": [
        "print(b)\n",
        "print(type(b))"
      ]
    },
    {
      "cell_type": "markdown",
      "metadata": {
        "id": "rbgAgcSg0HP0"
      },
      "source": [
        "**Functions are Objects too**"
      ]
    },
    {
      "cell_type": "code",
      "execution_count": null,
      "metadata": {
        "colab": {
          "background_save": true
        },
        "id": "hZSD5ysp0Fdi"
      },
      "outputs": [],
      "source": [
        "def square(a):\n",
        "    return a ** 2"
      ]
    },
    {
      "cell_type": "code",
      "execution_count": null,
      "metadata": {
        "colab": {
          "background_save": true,
          "base_uri": "https://localhost:8080/"
        },
        "id": "8INmuYNt0Ptp",
        "outputId": "7b9e429a-f42c-44ba-86aa-7c6ba47510d8"
      },
      "outputs": [
        {
          "data": {
            "text/plain": [
              "function"
            ]
          },
          "execution_count": 246,
          "metadata": {},
          "output_type": "execute_result"
        }
      ],
      "source": [
        "type(square)"
      ]
    },
    {
      "cell_type": "markdown",
      "metadata": {
        "id": "MTUTYkbr0SC4"
      },
      "source": [
        "In fact, we can even assign them to a variable:"
      ]
    },
    {
      "cell_type": "code",
      "execution_count": null,
      "metadata": {
        "colab": {
          "background_save": true
        },
        "id": "1R6J9Bzk0Q3q"
      },
      "outputs": [],
      "source": [
        "f = square"
      ]
    },
    {
      "cell_type": "code",
      "execution_count": null,
      "metadata": {
        "colab": {
          "background_save": true,
          "base_uri": "https://localhost:8080/"
        },
        "id": "T09DUsAL0WB9",
        "outputId": "8a81cce5-78d3-4472-809f-fb1985bc7199"
      },
      "outputs": [
        {
          "data": {
            "text/plain": [
              "function"
            ]
          },
          "execution_count": 248,
          "metadata": {},
          "output_type": "execute_result"
        }
      ],
      "source": [
        "type(f)"
      ]
    },
    {
      "cell_type": "code",
      "execution_count": null,
      "metadata": {
        "colab": {
          "background_save": true,
          "base_uri": "https://localhost:8080/"
        },
        "id": "Qe6lo4PO0WzX",
        "outputId": "c8c87a44-36de-4474-d1b7-a66c0376f24f"
      },
      "outputs": [
        {
          "data": {
            "text/plain": [
              "True"
            ]
          },
          "execution_count": 249,
          "metadata": {},
          "output_type": "execute_result"
        }
      ],
      "source": [
        "f is square"
      ]
    },
    {
      "cell_type": "code",
      "execution_count": null,
      "metadata": {
        "colab": {
          "background_save": true,
          "base_uri": "https://localhost:8080/"
        },
        "id": "RSbJlWwD0Xpe",
        "outputId": "57258452-555c-4589-faf7-1dbbba820018"
      },
      "outputs": [
        {
          "data": {
            "text/plain": [
              "4"
            ]
          },
          "execution_count": 250,
          "metadata": {},
          "output_type": "execute_result"
        }
      ],
      "source": [
        "f(2)"
      ]
    },
    {
      "cell_type": "code",
      "execution_count": null,
      "metadata": {
        "colab": {
          "background_save": true,
          "base_uri": "https://localhost:8080/"
        },
        "id": "CWQPl8ML0YIU",
        "outputId": "264e0624-e215-4a9f-ebf0-9fe451c562bd"
      },
      "outputs": [
        {
          "data": {
            "text/plain": [
              "int"
            ]
          },
          "execution_count": 251,
          "metadata": {},
          "output_type": "execute_result"
        }
      ],
      "source": [
        "type(f(2))"
      ]
    },
    {
      "cell_type": "markdown",
      "metadata": {
        "id": "R7svvTaX0aYg"
      },
      "source": [
        "A function can return a function:"
      ]
    },
    {
      "cell_type": "code",
      "execution_count": null,
      "metadata": {
        "colab": {
          "background_save": true
        },
        "id": "lPSsmPYh0ZlG"
      },
      "outputs": [],
      "source": [
        "def cube(a):\n",
        "    return a ** 3"
      ]
    },
    {
      "cell_type": "code",
      "execution_count": null,
      "metadata": {
        "colab": {
          "background_save": true
        },
        "id": "3LimZ-FW0gQ2"
      },
      "outputs": [],
      "source": [
        "def select_function(fn_id):\n",
        "    if fn_id == 1:\n",
        "        return square\n",
        "    else:\n",
        "        return cube"
      ]
    },
    {
      "cell_type": "code",
      "execution_count": null,
      "metadata": {
        "colab": {
          "background_save": true,
          "base_uri": "https://localhost:8080/"
        },
        "id": "s0Py0Eli0obc",
        "outputId": "5122cd9f-9016-42f0-f690-0bf293bcb62d"
      },
      "outputs": [
        {
          "name": "stdout",
          "output_type": "stream",
          "text": [
            "0x1bd6dd53c10\n",
            "0x1bd6dd53c10\n",
            "0x1bd6dd53700\n",
            "<class 'function'>\n",
            "f is square:  True\n",
            "f is cube:  False\n",
            "<function square at 0x000001BD6DD53C10>\n",
            "4\n"
          ]
        }
      ],
      "source": [
        "f = select_function(1)\n",
        "print(hex(id(f)))\n",
        "print(hex(id(square)))\n",
        "print(hex(id(cube)))\n",
        "print(type(f))\n",
        "print('f is square: ', f is square)\n",
        "print('f is cube: ', f is cube)\n",
        "print(f)\n",
        "print(f(2))"
      ]
    },
    {
      "cell_type": "markdown",
      "metadata": {
        "id": "aU1bSYiC2ACX"
      },
      "source": [
        "We could even call it this way:"
      ]
    },
    {
      "cell_type": "code",
      "execution_count": null,
      "metadata": {
        "colab": {
          "background_save": true,
          "base_uri": "https://localhost:8080/"
        },
        "id": "thWSi9K-056t",
        "outputId": "8deb5115-c642-4a9b-eeff-6a462ef10662"
      },
      "outputs": [
        {
          "data": {
            "text/plain": [
              "25"
            ]
          },
          "execution_count": 255,
          "metadata": {},
          "output_type": "execute_result"
        }
      ],
      "source": [
        "select_function(1)(5)"
      ]
    },
    {
      "cell_type": "markdown",
      "metadata": {
        "id": "KIbR1CVw2GJo"
      },
      "source": [
        "A Function can be passed as an argument to another function.\n",
        "\n",
        "(This example is pretty useless, but it illustrates the point effectively)"
      ]
    },
    {
      "cell_type": "code",
      "execution_count": null,
      "metadata": {
        "colab": {
          "background_save": true
        },
        "id": "iCko0dRU2E0D"
      },
      "outputs": [],
      "source": [
        "def exec_function(fn, n):\n",
        "    return fn(n)"
      ]
    },
    {
      "cell_type": "code",
      "execution_count": null,
      "metadata": {
        "colab": {
          "background_save": true,
          "base_uri": "https://localhost:8080/"
        },
        "id": "gJcR-Hsm2TgT",
        "outputId": "e767b36c-7ff2-4868-8c49-ad1f81710e8e"
      },
      "outputs": [
        {
          "name": "stdout",
          "output_type": "stream",
          "text": [
            "8\n"
          ]
        }
      ],
      "source": [
        "result = exec_function(cube, 2)\n",
        "print(result)"
      ]
    },
    {
      "cell_type": "markdown",
      "metadata": {
        "id": "VUAy6ViZ2kfJ"
      },
      "source": [
        "### 11 - Python Optimizations - Interning"
      ]
    },
    {
      "cell_type": "markdown",
      "metadata": {
        "id": "59-SFCiy2pyl"
      },
      "source": [
        "Earlier, we saw shared references being created automatically by Python:"
      ]
    },
    {
      "cell_type": "code",
      "execution_count": null,
      "metadata": {
        "colab": {
          "background_save": true,
          "base_uri": "https://localhost:8080/"
        },
        "id": "-TFMShry2X6J",
        "outputId": "53a7864c-55cd-449a-df50-64f25a425c1a"
      },
      "outputs": [
        {
          "name": "stdout",
          "output_type": "stream",
          "text": [
            "1912987932112\n",
            "1912987932112\n"
          ]
        }
      ],
      "source": [
        "a = 100\n",
        "b = 100\n",
        "print(id(a))\n",
        "print(id(b))"
      ]
    },
    {
      "cell_type": "markdown",
      "metadata": {
        "id": "W7RKjwV23HxU"
      },
      "source": [
        "Note how `a` and `b` reference the same object."
      ]
    },
    {
      "cell_type": "markdown",
      "metadata": {
        "id": "M2P8cadn3iQy"
      },
      "source": [
        "\n",
        "\n",
        "---\n",
        "**BE CAREFUL!**"
      ]
    },
    {
      "cell_type": "markdown",
      "metadata": {
        "id": "oxVjpWTX3l8r"
      },
      "source": [
        "*But consider the following example:*"
      ]
    },
    {
      "cell_type": "code",
      "execution_count": null,
      "metadata": {
        "colab": {
          "background_save": true,
          "base_uri": "https://localhost:8080/"
        },
        "id": "59EHRLN73G2j",
        "outputId": "204f047e-08e4-44df-b10b-fc69b2a9d98d"
      },
      "outputs": [
        {
          "name": "stdout",
          "output_type": "stream",
          "text": [
            "1913103682928\n",
            "1913103682896\n"
          ]
        }
      ],
      "source": [
        "a = 500\n",
        "b = 500\n",
        "print(id(a))\n",
        "print(id(b))"
      ]
    },
    {
      "cell_type": "markdown",
      "metadata": {
        "id": "4DoLimwG3UIj"
      },
      "source": [
        "*As you can see, the variables `a` and `b` do not point to the same object!*\n",
        "\n",
        "*This is because Python pre-caches integer objects in the range [-5, 256]*\n",
        "\n",
        "*So for example:*"
      ]
    },
    {
      "cell_type": "code",
      "execution_count": null,
      "metadata": {
        "colab": {
          "background_save": true,
          "base_uri": "https://localhost:8080/"
        },
        "id": "csuo6pNG3TVC",
        "outputId": "8d2d8337-c2af-4f54-efd3-b35f90bc7f24"
      },
      "outputs": [
        {
          "name": "stdout",
          "output_type": "stream",
          "text": [
            "1912987937168\n",
            "1912987937168\n"
          ]
        }
      ],
      "source": [
        "a = 256\n",
        "b = 256\n",
        "print(id(a))\n",
        "print(id(b))"
      ]
    },
    {
      "cell_type": "markdown",
      "metadata": {
        "id": "SC6OA_6c348D"
      },
      "source": [
        "*and*"
      ]
    },
    {
      "cell_type": "code",
      "execution_count": null,
      "metadata": {
        "colab": {
          "background_save": true,
          "base_uri": "https://localhost:8080/"
        },
        "id": "J1KrlZIP34SY",
        "outputId": "7b29bb16-e781-4d24-ea27-258bf5ab9066"
      },
      "outputs": [
        {
          "name": "stdout",
          "output_type": "stream",
          "text": [
            "1912987740272\n",
            "1912987740272\n"
          ]
        }
      ],
      "source": [
        "a = -5\n",
        "b = -5\n",
        "print(id(a))\n",
        "print(id(b))"
      ]
    },
    {
      "cell_type": "markdown",
      "metadata": {
        "id": "XvjluBVC3_BL"
      },
      "source": [
        "do have the same reference.\n",
        "\n",
        "*This is called **interning**: Python **interns** the integers in the range [-5, 256].*\n",
        "\n",
        "*The integers in the range [-5, 256] are essentially **singleton** objects.*"
      ]
    },
    {
      "cell_type": "code",
      "execution_count": null,
      "metadata": {
        "colab": {
          "background_save": true
        },
        "id": "zY_P7-xi3-Ha"
      },
      "outputs": [],
      "source": [
        "a = 10\n",
        "b = int(10)\n",
        "c = int('10')\n",
        "d = int('1010', 2)"
      ]
    },
    {
      "cell_type": "code",
      "execution_count": null,
      "metadata": {
        "colab": {
          "background_save": true,
          "base_uri": "https://localhost:8080/"
        },
        "id": "Ocj_ycZy5YMv",
        "outputId": "4411e810-2670-41e0-d9fa-46094e1b31e8"
      },
      "outputs": [
        {
          "name": "stdout",
          "output_type": "stream",
          "text": [
            "10 10 10 10\n"
          ]
        }
      ],
      "source": [
        "print(a, b, c, d)"
      ]
    },
    {
      "cell_type": "code",
      "execution_count": null,
      "metadata": {
        "colab": {
          "background_save": true,
          "base_uri": "https://localhost:8080/"
        },
        "id": "ot6bt_gh5fuh",
        "outputId": "fc43dcbb-4cbe-4189-b9e6-f7ff3b76a46c"
      },
      "outputs": [
        {
          "data": {
            "text/plain": [
              "True"
            ]
          },
          "execution_count": 264,
          "metadata": {},
          "output_type": "execute_result"
        }
      ],
      "source": [
        "a is b"
      ]
    },
    {
      "cell_type": "code",
      "execution_count": null,
      "metadata": {
        "colab": {
          "background_save": true,
          "base_uri": "https://localhost:8080/"
        },
        "id": "eyG_JneI55y6",
        "outputId": "2d666e13-f358-4d15-ea14-44a36a5247e5"
      },
      "outputs": [
        {
          "data": {
            "text/plain": [
              "True"
            ]
          },
          "execution_count": 265,
          "metadata": {},
          "output_type": "execute_result"
        }
      ],
      "source": [
        "a is c"
      ]
    },
    {
      "cell_type": "code",
      "execution_count": null,
      "metadata": {
        "colab": {
          "background_save": true,
          "base_uri": "https://localhost:8080/"
        },
        "id": "w1ArDGIo580T",
        "outputId": "2d36b0fc-72be-4776-d9b5-3328782b5fae"
      },
      "outputs": [
        {
          "data": {
            "text/plain": [
              "True"
            ]
          },
          "execution_count": 266,
          "metadata": {},
          "output_type": "execute_result"
        }
      ],
      "source": [
        "a is d"
      ]
    },
    {
      "cell_type": "markdown",
      "metadata": {
        "id": "42tOgkid5-pP"
      },
      "source": [
        "As you can see, all these variables were created in different ways, but since the integer object with value 10 behaves like a singleton, they all ended up pointing to the same object in memory."
      ]
    },
    {
      "cell_type": "markdown",
      "metadata": {
        "id": "1V0GLwns6naH"
      },
      "source": [
        "### 12 - Python Optimizations: String Interning"
      ]
    },
    {
      "cell_type": "markdown",
      "metadata": {
        "id": "w-GFSEko6vHX"
      },
      "source": [
        "Python will automatically intern certain strings.\n",
        "\n",
        "In particular all the identifiers (variable names, function names, class names, etc) are interned (singleton objects created).\n",
        "\n",
        "Python will also intern string literals that look like identifiers.\n",
        "\n",
        "For example:"
      ]
    },
    {
      "cell_type": "code",
      "execution_count": null,
      "metadata": {
        "colab": {
          "background_save": true,
          "base_uri": "https://localhost:8080/"
        },
        "id": "NJlKCaUV6m8_",
        "outputId": "729e90bd-372f-4451-9923-23c320f3921c"
      },
      "outputs": [
        {
          "name": "stdout",
          "output_type": "stream",
          "text": [
            "1913070453040\n",
            "1913070453040\n"
          ]
        }
      ],
      "source": [
        "a = 'hello'\n",
        "b = 'hello'\n",
        "print(id(a))\n",
        "print(id(b))"
      ]
    },
    {
      "cell_type": "markdown",
      "metadata": {
        "id": "XO0kFNB079u2"
      },
      "source": [
        "\n",
        "\n",
        "---\n",
        "**BE CAREFUL!**\n"
      ]
    },
    {
      "cell_type": "markdown",
      "metadata": {
        "id": "6vjcz8Mx7cin"
      },
      "source": [
        "*But not the following:*"
      ]
    },
    {
      "cell_type": "code",
      "execution_count": null,
      "metadata": {
        "colab": {
          "background_save": true,
          "base_uri": "https://localhost:8080/"
        },
        "id": "1YdHR43g59me",
        "outputId": "1580c672-ba27-49ac-cb3d-367387ba9286"
      },
      "outputs": [
        {
          "name": "stdout",
          "output_type": "stream",
          "text": [
            "1913102940016\n",
            "1913103009456\n"
          ]
        }
      ],
      "source": [
        "a = 'hello, world!'\n",
        "b = 'hello, world!'\n",
        "print(id(a))\n",
        "print(id(b))"
      ]
    },
    {
      "cell_type": "markdown",
      "metadata": {
        "id": "lArs4yQs8Bob"
      },
      "source": [
        "\n",
        "\n",
        "---\n",
        "\n"
      ]
    },
    {
      "cell_type": "markdown",
      "metadata": {
        "id": "-lH0_OBY7k0M"
      },
      "source": [
        "However, because the following literals resemble identifiers, even though they are quite long, Python will still automatically intern them:"
      ]
    },
    {
      "cell_type": "code",
      "execution_count": null,
      "metadata": {
        "colab": {
          "background_save": true,
          "base_uri": "https://localhost:8080/"
        },
        "id": "t_DKj9327j9G",
        "outputId": "f132c000-568d-48ae-a4a9-696731c6e18e"
      },
      "outputs": [
        {
          "name": "stdout",
          "output_type": "stream",
          "text": [
            "1913102788784\n",
            "1913102788784\n"
          ]
        }
      ],
      "source": [
        "a = 'hello_world'\n",
        "b = 'hello_world'\n",
        "print(id(a))\n",
        "print(id(b))"
      ]
    },
    {
      "cell_type": "markdown",
      "metadata": {
        "id": "dUEyVG6T8YAc"
      },
      "source": [
        "And even longer:"
      ]
    },
    {
      "cell_type": "code",
      "execution_count": null,
      "metadata": {
        "colab": {
          "background_save": true,
          "base_uri": "https://localhost:8080/"
        },
        "id": "EpJzuRl08bty",
        "outputId": "0a854cfd-76a9-40b7-ff8b-47f5b4c2a158"
      },
      "outputs": [
        {
          "name": "stdout",
          "output_type": "stream",
          "text": [
            "1913103483488\n",
            "1913103483488\n"
          ]
        }
      ],
      "source": [
        "a = '_this_is_a_long_string_that_could_be_used_as_an_identifier'\n",
        "b = '_this_is_a_long_string_that_could_be_used_as_an_identifier'\n",
        "print(id(a))\n",
        "print(id(b))"
      ]
    },
    {
      "cell_type": "markdown",
      "metadata": {
        "id": "FR39R6zc8dqj"
      },
      "source": [
        "Even if the string starts with a digit:"
      ]
    },
    {
      "cell_type": "code",
      "execution_count": null,
      "metadata": {
        "colab": {
          "background_save": true,
          "base_uri": "https://localhost:8080/"
        },
        "id": "8tFK3yL88cUS",
        "outputId": "e5fa3def-edd5-4f8d-c6ca-13418c9c80ac"
      },
      "outputs": [
        {
          "name": "stdout",
          "output_type": "stream",
          "text": [
            "1913102771760\n",
            "1913102771760\n"
          ]
        }
      ],
      "source": [
        "a = '1_hello_world'\n",
        "b = '1_hello_world'\n",
        "print(id(a))\n",
        "print(id(b))"
      ]
    },
    {
      "cell_type": "markdown",
      "metadata": {
        "id": "eQGgx6zl8sAZ"
      },
      "source": [
        "That was interned (pointer is the same), but look at this one:"
      ]
    },
    {
      "cell_type": "code",
      "execution_count": null,
      "metadata": {
        "colab": {
          "background_save": true,
          "base_uri": "https://localhost:8080/"
        },
        "id": "HoLR5jGo8h2M",
        "outputId": "d5409060-1266-4bb9-853b-345faa5b1d71"
      },
      "outputs": [
        {
          "name": "stdout",
          "output_type": "stream",
          "text": [
            "1913102771440\n",
            "1913102771632\n"
          ]
        }
      ],
      "source": [
        "a = '1 hello world'\n",
        "b = '1 hello world'\n",
        "print(id(a))\n",
        "print(id(b))"
      ]
    },
    {
      "cell_type": "markdown",
      "metadata": {
        "id": "kODku2MN80WH"
      },
      "source": [
        "Interning strings (making them singleton objects) means that testing for string equality can be done faster by comparing the memory address:"
      ]
    },
    {
      "cell_type": "code",
      "execution_count": null,
      "metadata": {
        "colab": {
          "background_save": true,
          "base_uri": "https://localhost:8080/"
        },
        "id": "X0h_iDCk8yhn",
        "outputId": "925da4ee-865d-46ac-9234-d6d500d5e2b9"
      },
      "outputs": [
        {
          "name": "stdout",
          "output_type": "stream",
          "text": [
            "a==b: True\n",
            "a is b: True\n"
          ]
        }
      ],
      "source": [
        "a = 'this_is_a_long_string'\n",
        "b = 'this_is_a_long_string'\n",
        "print('a==b:', a == b)\n",
        "print('a is b:', a is b)"
      ]
    },
    {
      "cell_type": "markdown",
      "metadata": {
        "id": "cAcwYsPi9CVe"
      },
      "source": [
        "\n",
        "\n",
        "---\n",
        "**BE CAREFUL!**\n"
      ]
    },
    {
      "cell_type": "markdown",
      "metadata": {
        "id": "kqxbrBl19GEY"
      },
      "source": [
        "*Note: Remember, using `is` ONLY works if the strings were interned!*\n",
        "\n",
        "*Here's where this technique fails:*"
      ]
    },
    {
      "cell_type": "code",
      "execution_count": null,
      "metadata": {
        "colab": {
          "background_save": true,
          "base_uri": "https://localhost:8080/"
        },
        "id": "PFhIVb0-8--s",
        "outputId": "e16d5dc5-ca34-47ab-a705-f1b150e05ad3"
      },
      "outputs": [
        {
          "name": "stdout",
          "output_type": "stream",
          "text": [
            "a==b: True\n",
            "a is b: False\n"
          ]
        }
      ],
      "source": [
        "a = 'hello world'\n",
        "b = 'hello world'\n",
        "print('a==b:', a==b)\n",
        "print('a is b:', a is b)"
      ]
    },
    {
      "cell_type": "markdown",
      "metadata": {
        "id": "fTiTnnJo9X9Z"
      },
      "source": [
        "\n",
        "\n",
        "---\n",
        "\n"
      ]
    },
    {
      "cell_type": "markdown",
      "metadata": {
        "id": "Xyw3udiT9Y7Z"
      },
      "source": [
        "You can force strings to be interned (but only use it if you have a valid performance optimization need):"
      ]
    },
    {
      "cell_type": "code",
      "execution_count": null,
      "metadata": {
        "colab": {
          "background_save": true
        },
        "id": "C3kwbiYB9WMr"
      },
      "outputs": [],
      "source": [
        "import sys"
      ]
    },
    {
      "cell_type": "code",
      "execution_count": null,
      "metadata": {
        "colab": {
          "background_save": true,
          "base_uri": "https://localhost:8080/"
        },
        "id": "x2cyL6YD9m-L",
        "outputId": "ccbb1d0b-d8c9-4c34-abb6-4e16c5c9a2a3"
      },
      "outputs": [
        {
          "name": "stdout",
          "output_type": "stream",
          "text": [
            "1913102771056\n",
            "1913102771056\n",
            "1913102771440\n"
          ]
        }
      ],
      "source": [
        "a = sys.intern('hello world')\n",
        "b = sys.intern('hello world')\n",
        "c = 'hello world'\n",
        "print(id(a))\n",
        "print(id(b))\n",
        "print(id(c))"
      ]
    },
    {
      "cell_type": "markdown",
      "metadata": {
        "id": "ARm-x8xG9pxa"
      },
      "source": [
        "Notice how `a` and `b` are pointing to the same object, but `c` is NOT.\n",
        "\n",
        "So, since both `a` and `b` were interned we can use `is` to test for equality of the two strings:"
      ]
    },
    {
      "cell_type": "code",
      "execution_count": null,
      "metadata": {
        "colab": {
          "background_save": true,
          "base_uri": "https://localhost:8080/"
        },
        "id": "AS6t61q29pCz",
        "outputId": "14d02bac-3b23-4c02-f2f3-9dde1fbdcf4f"
      },
      "outputs": [
        {
          "name": "stdout",
          "output_type": "stream",
          "text": [
            "a==b: True\n",
            "a is b True\n"
          ]
        }
      ],
      "source": [
        "print('a==b:', a==b)\n",
        "print('a is b', a is b)"
      ]
    },
    {
      "cell_type": "markdown",
      "metadata": {
        "id": "qdk2Q3_I-LVL"
      },
      "source": [
        "So, does interning really make a big speed difference?\n",
        "\n",
        "Yes, but only if you are performing a lot of comparisons.\n",
        "\n",
        "Let's run som quick and dirty benchamarks:"
      ]
    },
    {
      "cell_type": "code",
      "execution_count": null,
      "metadata": {
        "colab": {
          "background_save": true
        },
        "id": "mwRGJhhr-Acf"
      },
      "outputs": [],
      "source": [
        "def compare_using_equals(n):\n",
        "    a = 'a long string that is not interned' * 200\n",
        "    b = 'a long string that is not interned' * 200\n",
        "    for i in range(n):\n",
        "        if a == b:\n",
        "            pass"
      ]
    },
    {
      "cell_type": "code",
      "execution_count": null,
      "metadata": {
        "colab": {
          "background_save": true
        },
        "id": "B2KP0wj2-iPz"
      },
      "outputs": [],
      "source": [
        "def compare_using_interning(n):\n",
        "    a = sys.intern('a long string that is not interned' * 200)\n",
        "    b = sys.intern('a long string that is not interned' * 200)\n",
        "    for i in range(n):\n",
        "        if a is b:\n",
        "            pass"
      ]
    },
    {
      "cell_type": "code",
      "execution_count": null,
      "metadata": {
        "colab": {
          "background_save": true,
          "base_uri": "https://localhost:8080/"
        },
        "id": "2jeqazim-jT2",
        "outputId": "8ee38ffd-5bf9-40df-e702-5cf78d073ff1"
      },
      "outputs": [
        {
          "name": "stdout",
          "output_type": "stream",
          "text": [
            "equality:  3.9986509999999953\n"
          ]
        }
      ],
      "source": [
        "\n",
        "import time\n",
        "\n",
        "start = time.perf_counter()\n",
        "compare_using_equals(10000000)\n",
        "end = time.perf_counter()\n",
        "\n",
        "print('equality: ', end-start)"
      ]
    },
    {
      "cell_type": "code",
      "execution_count": null,
      "metadata": {
        "colab": {
          "background_save": true,
          "base_uri": "https://localhost:8080/"
        },
        "id": "Y_o8JA13-kgm",
        "outputId": "3b62a484-8d85-4f2f-8f99-f79f792b612d"
      },
      "outputs": [
        {
          "name": "stdout",
          "output_type": "stream",
          "text": [
            "identity:  0.42319870000000037\n"
          ]
        }
      ],
      "source": [
        "start = time.perf_counter()\n",
        "compare_using_interning(10000000)\n",
        "end = time.perf_counter()\n",
        "\n",
        "print('identity: ', end-start)"
      ]
    },
    {
      "cell_type": "markdown",
      "metadata": {
        "id": "tkZH2uCm-m8z"
      },
      "source": [
        "As you can see, the performance difference, especially for long strings, and for many comparisons, can be quite radical!"
      ]
    },
    {
      "cell_type": "markdown",
      "metadata": {
        "id": "qwn5sMv3-9Q5"
      },
      "source": [
        "### 13 - Python Optimizations - PeepHole"
      ]
    },
    {
      "cell_type": "markdown",
      "metadata": {
        "id": "_b-qAHpx_Ea3"
      },
      "source": [
        "Peephole optimizations refer to a certain class of optimization stratigies Python employs during any compilation phases."
      ]
    },
    {
      "cell_type": "markdown",
      "metadata": {
        "id": "lToFCtIl_fBp"
      },
      "source": [
        "**Constant Expressions**"
      ]
    },
    {
      "cell_type": "markdown",
      "metadata": {
        "id": "-y14fnSt_iSv"
      },
      "source": [
        "Let's see how Python reduces constant expressions for optimization purposes:"
      ]
    },
    {
      "cell_type": "code",
      "execution_count": null,
      "metadata": {
        "colab": {
          "background_save": true
        },
        "id": "HJmb_2Oj-vIs"
      },
      "outputs": [],
      "source": [
        "def my_func():\n",
        "    a = 24 *60\n",
        "    b = (1, 2) * 5\n",
        "    c = 'abc' * 3\n",
        "    d = 'ab' * 11\n",
        "    e = 'the quick brown fox' * 10\n",
        "    f = [1, 2] * 5"
      ]
    },
    {
      "cell_type": "code",
      "execution_count": null,
      "metadata": {
        "colab": {
          "background_save": true,
          "base_uri": "https://localhost:8080/"
        },
        "id": "Vb7FDKhb_2JZ",
        "outputId": "65529b93-981c-4cef-9285-f70728ef8859"
      },
      "outputs": [
        {
          "data": {
            "text/plain": [
              "(None,\n",
              " 1440,\n",
              " (1, 2, 1, 2, 1, 2, 1, 2, 1, 2),\n",
              " 'abcabcabc',\n",
              " 'ababababababababababab',\n",
              " 'the quick brown foxthe quick brown foxthe quick brown foxthe quick brown foxthe quick brown foxthe quick brown foxthe quick brown foxthe quick brown foxthe quick brown foxthe quick brown fox',\n",
              " 1,\n",
              " 2,\n",
              " 5)"
            ]
          },
          "execution_count": 283,
          "metadata": {},
          "output_type": "execute_result"
        }
      ],
      "source": [
        "my_func.__code__.co_consts"
      ]
    },
    {
      "cell_type": "markdown",
      "metadata": {
        "id": "jqdD4n_o_95a"
      },
      "source": [
        "As you can see in the example above `24 * 60` was pre-calculated and cached as a constant (`1440`).\n",
        "\n",
        "Similarly, `(1, 2) * 5` was cached as `(1, 2, 1, 2, 1, 2, 1, 2, 1, 2)` and `'abc' * 3` was cached as `abcabcabc`\n",
        "\n",
        "On the other hand, note how `'the quick brown fox'* 10` was not pre-calculated (too long).\n",
        "\n",
        "Similarly `[1, 2] * 5` was not pre-calculated either siince a list is mutable, and hence not a constant."
      ]
    },
    {
      "cell_type": "markdown",
      "metadata": {
        "id": "XJOyiW4EAz5Z"
      },
      "source": [
        "**Membership Tests**"
      ]
    },
    {
      "cell_type": "markdown",
      "metadata": {
        "id": "gFkrY_8oA2dM"
      },
      "source": [
        "In membership testing, optimizations are applied as can be seen below:"
      ]
    },
    {
      "cell_type": "code",
      "execution_count": null,
      "metadata": {
        "colab": {
          "background_save": true
        },
        "id": "JBsKIW2c_6fu"
      },
      "outputs": [],
      "source": [
        "def my_func():\n",
        "    if e in [1, 2, 3]:\n",
        "        pass"
      ]
    },
    {
      "cell_type": "code",
      "execution_count": null,
      "metadata": {
        "colab": {
          "background_save": true,
          "base_uri": "https://localhost:8080/"
        },
        "id": "LNpyUNhbA_Dn",
        "outputId": "a459f111-4f5b-477c-be81-afbe4cc9b2c5"
      },
      "outputs": [
        {
          "data": {
            "text/plain": [
              "(None, (1, 2, 3))"
            ]
          },
          "execution_count": 285,
          "metadata": {},
          "output_type": "execute_result"
        }
      ],
      "source": [
        "my_func.__code__.co_consts"
      ]
    },
    {
      "cell_type": "markdown",
      "metadata": {
        "id": "NLNth3DVBEHN"
      },
      "source": [
        "As you can see, the mutable list `[1, 2, 3]` was converted to an immutable tuple.\n",
        "\n",
        "It is OK to do this here, since we are testing membersip of the list at that point in time, hence it is safe to convert it to a tuple, which is more efficient tan testing membership of a list.\n",
        "\n",
        "In the same way, set membership will be converted to frozen set membership:"
      ]
    },
    {
      "cell_type": "code",
      "execution_count": null,
      "metadata": {
        "colab": {
          "background_save": true
        },
        "id": "z3gb7ybmBCiC"
      },
      "outputs": [],
      "source": [
        "def my_func():\n",
        "    if e in {1, 2, 3}:\n",
        "        pass"
      ]
    },
    {
      "cell_type": "code",
      "execution_count": null,
      "metadata": {
        "colab": {
          "background_save": true,
          "base_uri": "https://localhost:8080/"
        },
        "id": "liqXYs47BrsH",
        "outputId": "72ae8065-94c3-42aa-9fc1-9104005b2c29"
      },
      "outputs": [
        {
          "data": {
            "text/plain": [
              "(None, frozenset({1, 2, 3}))"
            ]
          },
          "execution_count": 287,
          "metadata": {},
          "output_type": "execute_result"
        }
      ],
      "source": [
        "my_func.__code__.co_consts"
      ]
    },
    {
      "cell_type": "markdown",
      "metadata": {
        "id": "orjCmysmBz4N"
      },
      "source": [
        "In general, when you are writing your code, if you can use `set` membership testing, prefer that over a list or tuple - it is quite a bit more efficien.\n",
        "\n",
        "Let's do a small quick (and dirty) benchmark of this:"
      ]
    },
    {
      "cell_type": "code",
      "execution_count": null,
      "metadata": {
        "colab": {
          "background_save": true,
          "base_uri": "https://localhost:8080/"
        },
        "id": "ERxzzZY1CL9Y",
        "outputId": "80acd78e-876c-4cc8-d118-07360bc3004a"
      },
      "outputs": [
        {
          "name": "stdout",
          "output_type": "stream",
          "text": [
            "['a', 'b', 'c', 'd', 'e', 'f', 'g', 'h', 'i', 'j', 'k', 'l', 'm', 'n', 'o', 'p', 'q', 'r', 's', 't', 'u', 'v', 'w', 'x', 'y', 'z', 'A', 'B', 'C', 'D', 'E', 'F', 'G', 'H', 'I', 'J', 'K', 'L', 'M', 'N', 'O', 'P', 'Q', 'R', 'S', 'T', 'U', 'V', 'W', 'X', 'Y', 'Z']\n",
            "\n",
            "('a', 'b', 'c', 'd', 'e', 'f', 'g', 'h', 'i', 'j', 'k', 'l', 'm', 'n', 'o', 'p', 'q', 'r', 's', 't', 'u', 'v', 'w', 'x', 'y', 'z', 'A', 'B', 'C', 'D', 'E', 'F', 'G', 'H', 'I', 'J', 'K', 'L', 'M', 'N', 'O', 'P', 'Q', 'R', 'S', 'T', 'U', 'V', 'W', 'X', 'Y', 'Z')\n",
            "\n",
            "{'o', 'R', 'X', 'e', 'v', 'C', 'M', 'g', 'G', 'k', 'Q', 'j', 'Y', 'F', 'H', 'x', 'P', 'L', 'W', 'B', 'J', 'q', 'I', 'r', 'a', 'U', 'y', 'S', 'O', 'z', 'u', 'p', 'b', 'h', 'w', 'd', 'N', 'A', 't', 'Z', 'l', 'n', 'D', 'T', 'E', 'm', 'i', 'K', 'c', 'f', 'V', 's'}\n"
          ]
        }
      ],
      "source": [
        "import string\n",
        "import time\n",
        "\n",
        "char_list = list(string.ascii_letters)\n",
        "char_tuple = tuple(string.ascii_letters)\n",
        "char_set = set(string.ascii_letters)\n",
        "\n",
        "print(char_list)\n",
        "print()\n",
        "print(char_tuple)\n",
        "print()\n",
        "print(char_set)"
      ]
    },
    {
      "cell_type": "code",
      "execution_count": null,
      "metadata": {
        "colab": {
          "background_save": true
        },
        "id": "b2dCJa6TBtGL"
      },
      "outputs": [],
      "source": [
        "def membership_test(n, container):\n",
        "    for i in range(n):\n",
        "        if 'p' in container:\n",
        "            pass"
      ]
    },
    {
      "cell_type": "code",
      "execution_count": null,
      "metadata": {
        "colab": {
          "background_save": true,
          "base_uri": "https://localhost:8080/"
        },
        "id": "7ci7Qz_vDJh0",
        "outputId": "bea1065b-d8a2-48f7-a434-aa4159d5c31a"
      },
      "outputs": [
        {
          "name": "stdout",
          "output_type": "stream",
          "text": [
            "list membership:  3.063117500000004\n"
          ]
        }
      ],
      "source": [
        "start = time.perf_counter()\n",
        "membership_test(10000000, char_list)\n",
        "end = time.perf_counter()\n",
        "print('list membership: ', end-start)"
      ]
    },
    {
      "cell_type": "code",
      "execution_count": null,
      "metadata": {
        "colab": {
          "background_save": true,
          "base_uri": "https://localhost:8080/"
        },
        "id": "Sm7Wkxz8DWcB",
        "outputId": "70c6c148-b00c-42cd-a6c1-4b54f688fc25"
      },
      "outputs": [
        {
          "name": "stdout",
          "output_type": "stream",
          "text": [
            "tuple membership:  3.1191759999999817\n"
          ]
        }
      ],
      "source": [
        "start = time.perf_counter()\n",
        "membership_test(10000000, char_tuple)\n",
        "end = time.perf_counter()\n",
        "print('tuple membership: ', end-start)"
      ]
    },
    {
      "cell_type": "code",
      "execution_count": null,
      "metadata": {
        "colab": {
          "background_save": true,
          "base_uri": "https://localhost:8080/"
        },
        "id": "WPBAcm6PDaFB",
        "outputId": "c7e01710-4dd9-4279-bfb5-788f5863c4c8"
      },
      "outputs": [
        {
          "name": "stdout",
          "output_type": "stream",
          "text": [
            "set membership:  0.4353029000000106\n"
          ]
        }
      ],
      "source": [
        "start = time.perf_counter()\n",
        "membership_test(10000000, char_set)\n",
        "end = time.perf_counter()\n",
        "print('set membership: ', end-start)"
      ]
    },
    {
      "cell_type": "markdown",
      "metadata": {
        "id": "k6YrHUCsDfXn"
      },
      "source": [
        "As you can see, set membership tests run quite a bit faster - which is not suprising since they are basically dictionary-like objects, so hash maps are used for looking up an item to determine membership."
      ]
    },
    {
      "cell_type": "markdown",
      "metadata": {
        "id": "JQcy6a8tES3I"
      },
      "source": [
        "## Section 04 - Numeric Types"
      ]
    },
    {
      "cell_type": "markdown",
      "metadata": {
        "id": "aOUAFii_Ecm7"
      },
      "source": [
        "### 01 - Integers - Data Type"
      ]
    },
    {
      "cell_type": "markdown",
      "metadata": {
        "id": "jJmp4rz9EiRh"
      },
      "source": [
        "Integers are objects - instances of the `int` class"
      ]
    },
    {
      "cell_type": "code",
      "execution_count": null,
      "metadata": {
        "colab": {
          "background_save": true,
          "base_uri": "https://localhost:8080/"
        },
        "id": "JD7psBJNDdFz",
        "outputId": "0b13b715-bd78-45fc-8cc2-f77b8a42d098"
      },
      "outputs": [
        {
          "name": "stdout",
          "output_type": "stream",
          "text": [
            "<class 'int'>\n"
          ]
        }
      ],
      "source": [
        "print(type(100))"
      ]
    },
    {
      "cell_type": "markdown",
      "metadata": {
        "id": "o_VhI1xMNbLv"
      },
      "source": [
        "They are a variable length data type that can theoretically handle any integer magnitude. This will take up a variable amount of memory that depends on the particular size of the integer."
      ]
    },
    {
      "cell_type": "code",
      "execution_count": null,
      "metadata": {
        "colab": {
          "background_save": true
        },
        "id": "D66fuG9lNaMn"
      },
      "outputs": [],
      "source": [
        "import sys"
      ]
    },
    {
      "cell_type": "markdown",
      "metadata": {
        "id": "D4yfxuMZPTmh"
      },
      "source": [
        "Creating an integer object requires an overhead of 24 bytes."
      ]
    },
    {
      "cell_type": "code",
      "execution_count": null,
      "metadata": {
        "colab": {
          "background_save": true,
          "base_uri": "https://localhost:8080/"
        },
        "id": "hVCotNtIPTAH",
        "outputId": "51b314e1-0f49-4b1e-d94a-8842d67c2bbf"
      },
      "outputs": [
        {
          "data": {
            "text/plain": [
              "24"
            ]
          },
          "execution_count": 295,
          "metadata": {},
          "output_type": "execute_result"
        }
      ],
      "source": [
        "sys.getsizeof(0)"
      ]
    },
    {
      "cell_type": "markdown",
      "metadata": {
        "id": "r2rFPQCRRwN2"
      },
      "source": [
        "Here we see that to store the number 1 required 4 bytes (32 bits) on top of the 24 byte overhead:"
      ]
    },
    {
      "cell_type": "code",
      "execution_count": null,
      "metadata": {
        "colab": {
          "background_save": true,
          "base_uri": "https://localhost:8080/"
        },
        "id": "yo95zv8uRuyw",
        "outputId": "5d0b39fc-06af-436d-911d-9b3045fdf902"
      },
      "outputs": [
        {
          "data": {
            "text/plain": [
              "28"
            ]
          },
          "execution_count": 296,
          "metadata": {},
          "output_type": "execute_result"
        }
      ],
      "source": [
        "sys.getsizeof(1)"
      ]
    },
    {
      "cell_type": "markdown",
      "metadata": {
        "id": "WIyCSzV_R6fL"
      },
      "source": [
        "Larger numbers will require more storage space:"
      ]
    },
    {
      "cell_type": "code",
      "execution_count": null,
      "metadata": {
        "colab": {
          "background_save": true,
          "base_uri": "https://localhost:8080/"
        },
        "id": "984_xxuPR5Re",
        "outputId": "81f77fbe-d6f6-4030-a7dc-9347573e1890"
      },
      "outputs": [
        {
          "data": {
            "text/plain": [
              "160"
            ]
          },
          "execution_count": 297,
          "metadata": {},
          "output_type": "execute_result"
        }
      ],
      "source": [
        "sys.getsizeof(2**1000)"
      ]
    },
    {
      "cell_type": "markdown",
      "metadata": {
        "id": "zYa9RhSvSIDR"
      },
      "source": [
        "Larger integers will also slow down calcultaions."
      ]
    },
    {
      "cell_type": "code",
      "execution_count": null,
      "metadata": {
        "colab": {
          "background_save": true
        },
        "id": "Mb3oPxKqSBk7"
      },
      "outputs": [],
      "source": [
        "import time"
      ]
    },
    {
      "cell_type": "code",
      "execution_count": null,
      "metadata": {
        "colab": {
          "background_save": true
        },
        "id": "VP1djTQQSL1Y"
      },
      "outputs": [],
      "source": [
        "def calc(a):\n",
        "    for i in range(10000000):\n",
        "        a * 2"
      ]
    },
    {
      "cell_type": "markdown",
      "metadata": {
        "id": "S6XwJ0UzSRqO"
      },
      "source": [
        "We start with a small integer value for a (10):"
      ]
    },
    {
      "cell_type": "code",
      "execution_count": null,
      "metadata": {
        "colab": {
          "background_save": true,
          "base_uri": "https://localhost:8080/"
        },
        "id": "TEppneYdSPcc",
        "outputId": "c59758fc-a8d7-44d0-8a73-50a771287f64"
      },
      "outputs": [
        {
          "name": "stdout",
          "output_type": "stream",
          "text": [
            "0.5026356999999848\n"
          ]
        }
      ],
      "source": [
        "start = time.perf_counter()\n",
        "calc(10)\n",
        "end = time.perf_counter()\n",
        "print(end - start)"
      ]
    },
    {
      "cell_type": "markdown",
      "metadata": {
        "id": "Iwh-5cz1So8_"
      },
      "source": [
        "Now we set a to something larger `2**100`:"
      ]
    },
    {
      "cell_type": "code",
      "execution_count": null,
      "metadata": {
        "colab": {
          "background_save": true,
          "base_uri": "https://localhost:8080/"
        },
        "id": "Ve55JBq-Sea6",
        "outputId": "1c3c1e3a-1e7b-4535-a525-3d549fde009e"
      },
      "outputs": [
        {
          "name": "stdout",
          "output_type": "stream",
          "text": [
            "1.0437325999999985\n"
          ]
        }
      ],
      "source": [
        "start = time.perf_counter()\n",
        "calc(2**100)\n",
        "end = time.perf_counter()\n",
        "print(end - start)"
      ]
    },
    {
      "cell_type": "markdown",
      "metadata": {
        "id": "vsnS43KNTA5C"
      },
      "source": [
        "Finally we set a to some really large  value `2**10000`"
      ]
    },
    {
      "cell_type": "code",
      "execution_count": null,
      "metadata": {
        "colab": {
          "background_save": true,
          "base_uri": "https://localhost:8080/"
        },
        "id": "X8zUvnLFS_pi",
        "outputId": "633eacd9-9199-4077-aae9-5874d131026b"
      },
      "outputs": [
        {
          "name": "stdout",
          "output_type": "stream",
          "text": [
            "7.096484700000019\n"
          ]
        }
      ],
      "source": [
        "start = time.perf_counter()\n",
        "calc(2**10000)\n",
        "end = time.perf_counter()\n",
        "print(end - start)"
      ]
    },
    {
      "cell_type": "markdown",
      "metadata": {
        "id": "pUNzyHyMTRT5"
      },
      "source": [
        "### 02 - Integers - Operations"
      ]
    },
    {
      "cell_type": "markdown",
      "metadata": {
        "id": "3eC9YwPQTXXC"
      },
      "source": [
        "Addition, subtraction, multiplicatin and exponentiation of integers always resul in an integer. (In the case of exponentiation this holds for positive integer exponents.)"
      ]
    },
    {
      "cell_type": "code",
      "execution_count": null,
      "metadata": {
        "colab": {
          "background_save": true,
          "base_uri": "https://localhost:8080/"
        },
        "id": "CHvCrWg1TNaP",
        "outputId": "debff9f0-1e91-4787-a6d1-989ec8847a6f"
      },
      "outputs": [
        {
          "data": {
            "text/plain": [
              "int"
            ]
          },
          "execution_count": 303,
          "metadata": {},
          "output_type": "execute_result"
        }
      ],
      "source": [
        "type(2 + 3)"
      ]
    },
    {
      "cell_type": "code",
      "execution_count": null,
      "metadata": {
        "colab": {
          "background_save": true,
          "base_uri": "https://localhost:8080/"
        },
        "id": "U64Yditnjctp",
        "outputId": "e6329f98-f0cf-403e-da03-db5e4ed5df82"
      },
      "outputs": [
        {
          "data": {
            "text/plain": [
              "int"
            ]
          },
          "execution_count": 304,
          "metadata": {},
          "output_type": "execute_result"
        }
      ],
      "source": [
        "type(3 - 10)"
      ]
    },
    {
      "cell_type": "code",
      "execution_count": null,
      "metadata": {
        "colab": {
          "background_save": true,
          "base_uri": "https://localhost:8080/"
        },
        "id": "atuOXiANjeTm",
        "outputId": "5668f82a-bd92-4787-8063-c8a9bcc1c98d"
      },
      "outputs": [
        {
          "data": {
            "text/plain": [
              "int"
            ]
          },
          "execution_count": 305,
          "metadata": {},
          "output_type": "execute_result"
        }
      ],
      "source": [
        "type(3 * 5)"
      ]
    },
    {
      "cell_type": "code",
      "execution_count": null,
      "metadata": {
        "colab": {
          "background_save": true,
          "base_uri": "https://localhost:8080/"
        },
        "id": "u3pIyeA0jf2Q",
        "outputId": "a559a188-f0fe-4af9-eb12-00d8f46b7189"
      },
      "outputs": [
        {
          "data": {
            "text/plain": [
              "int"
            ]
          },
          "execution_count": 306,
          "metadata": {},
          "output_type": "execute_result"
        }
      ],
      "source": [
        "type(3 ** 4)"
      ]
    },
    {
      "cell_type": "markdown",
      "metadata": {
        "id": "Sf7Hp3hHjku2"
      },
      "source": [
        "But the standard division operator `/` always results in a float value."
      ]
    },
    {
      "cell_type": "code",
      "execution_count": null,
      "metadata": {
        "colab": {
          "background_save": true,
          "base_uri": "https://localhost:8080/"
        },
        "id": "p6VbwGq-jjhZ",
        "outputId": "95f58eb8-39b9-4a71-ed61-73ab78d53e51"
      },
      "outputs": [
        {
          "data": {
            "text/plain": [
              "float"
            ]
          },
          "execution_count": 307,
          "metadata": {},
          "output_type": "execute_result"
        }
      ],
      "source": [
        "type(2 / 3)"
      ]
    },
    {
      "cell_type": "code",
      "execution_count": null,
      "metadata": {
        "colab": {
          "background_save": true,
          "base_uri": "https://localhost:8080/"
        },
        "id": "vmGQCShBjsEs",
        "outputId": "b0c09e31-cf54-4524-bcd0-871e9e72fd96"
      },
      "outputs": [
        {
          "data": {
            "text/plain": [
              "float"
            ]
          },
          "execution_count": 308,
          "metadata": {},
          "output_type": "execute_result"
        }
      ],
      "source": [
        "type(10 / 2)"
      ]
    },
    {
      "cell_type": "markdown",
      "metadata": {
        "id": "kMh4msdVkB_2"
      },
      "source": [
        "The `math.floor()` method will return the floor of any number."
      ]
    },
    {
      "cell_type": "code",
      "execution_count": null,
      "metadata": {
        "colab": {
          "background_save": true
        },
        "id": "tZRLI9Htj5os"
      },
      "outputs": [],
      "source": [
        "import math"
      ]
    },
    {
      "cell_type": "markdown",
      "metadata": {
        "id": "IzlGiQ0LkQ5O"
      },
      "source": [
        "For non-negative values (>=0), the floor of the value is the same as the integer portion of the value (truncation)"
      ]
    },
    {
      "cell_type": "code",
      "execution_count": null,
      "metadata": {
        "colab": {
          "background_save": true,
          "base_uri": "https://localhost:8080/"
        },
        "id": "qD79i7w_kJFA",
        "outputId": "89e949b5-2ff3-4688-bb9b-d47f7a02ab3d"
      },
      "outputs": [
        {
          "data": {
            "text/plain": [
              "3"
            ]
          },
          "execution_count": 310,
          "metadata": {},
          "output_type": "execute_result"
        }
      ],
      "source": [
        "math.floor(3.15)"
      ]
    },
    {
      "cell_type": "code",
      "execution_count": null,
      "metadata": {
        "colab": {
          "background_save": true,
          "base_uri": "https://localhost:8080/"
        },
        "id": "43pxNFzckfcs",
        "outputId": "38e5f23e-2b51-4cd9-e4cf-0f1ad249eebe"
      },
      "outputs": [
        {
          "data": {
            "text/plain": [
              "3"
            ]
          },
          "execution_count": 311,
          "metadata": {},
          "output_type": "execute_result"
        }
      ],
      "source": [
        "math.floor(3.9999999)"
      ]
    },
    {
      "cell_type": "markdown",
      "metadata": {
        "id": "BefC3V9fkkIY"
      },
      "source": [
        "However, this is not the case for negative values:"
      ]
    },
    {
      "cell_type": "code",
      "execution_count": null,
      "metadata": {
        "colab": {
          "background_save": true,
          "base_uri": "https://localhost:8080/"
        },
        "id": "mo_Y46kbkjG4",
        "outputId": "1418b64f-e9fb-4b73-f618-8a69992bf0e8"
      },
      "outputs": [
        {
          "data": {
            "text/plain": [
              "-4"
            ]
          },
          "execution_count": 312,
          "metadata": {},
          "output_type": "execute_result"
        }
      ],
      "source": [
        "math.floor(-3.15)"
      ]
    },
    {
      "cell_type": "code",
      "execution_count": null,
      "metadata": {
        "colab": {
          "background_save": true,
          "base_uri": "https://localhost:8080/"
        },
        "id": "ZRT0GcJBkpT-",
        "outputId": "fd6f4d9b-94a8-49b1-ebcd-f1b65b979cde"
      },
      "outputs": [
        {
          "data": {
            "text/plain": [
              "-4"
            ]
          },
          "execution_count": 313,
          "metadata": {},
          "output_type": "execute_result"
        }
      ],
      "source": [
        "math.floor(-3.0000001)"
      ]
    },
    {
      "cell_type": "markdown",
      "metadata": {
        "id": "RWg1HrIJksDV"
      },
      "source": [
        "**The Floor Division Operator**\n",
        "\n",
        "The floor division operator `a//b` is the floor of `a / b`\n",
        "\n",
        "i.e. `a // b = math.floor(a / b)`\n",
        "\n",
        "This is true whether `a` and `b` are positive or negative."
      ]
    },
    {
      "cell_type": "code",
      "execution_count": null,
      "metadata": {
        "colab": {
          "background_save": true,
          "base_uri": "https://localhost:8080/"
        },
        "id": "9NMYilVhkrKV",
        "outputId": "09203d6b-0218-44a9-9b94-68521b0476f8"
      },
      "outputs": [
        {
          "name": "stdout",
          "output_type": "stream",
          "text": [
            "2.0625\n",
            "2\n",
            "2\n"
          ]
        }
      ],
      "source": [
        "a = 33\n",
        "b = 16\n",
        "print(a/b)\n",
        "print(a//b)\n",
        "print(math.floor(a/b))"
      ]
    },
    {
      "cell_type": "markdown",
      "metadata": {
        "id": "c9CaGO3SlQX3"
      },
      "source": [
        "For positive numbers, `a//b` is basically the same as truncating (taking the integer portion) of `a / b`.\n",
        "\n",
        "But this is not the case for negative numbers."
      ]
    },
    {
      "cell_type": "code",
      "execution_count": null,
      "metadata": {
        "colab": {
          "background_save": true,
          "base_uri": "https://localhost:8080/"
        },
        "id": "PWZMdQyQlEZ1",
        "outputId": "94dc0905-6951-4ac8-998c-90d11d065a9e"
      },
      "outputs": [
        {
          "name": "stdout",
          "output_type": "stream",
          "text": [
            "-33/16 = -2.0625\n",
            "trunc(-33/16) = -2\n",
            "-33//16 = -3\n",
            "floor(-33//16) = -3\n"
          ]
        }
      ],
      "source": [
        "a = -33\n",
        "b = 16\n",
        "print('{0}/{1} = {2}'.format(a, b, a/b))\n",
        "print('trunc({0}/{1}) = {2}'.format(a, b, math.trunc(a/b)))\n",
        "print('{0}//{1} = {2}'.format(a, b, a//b))\n",
        "print('floor({0}//{1}) = {2}'.format(a, b, math.floor(a/b)))"
      ]
    },
    {
      "cell_type": "code",
      "execution_count": null,
      "metadata": {
        "colab": {
          "background_save": true,
          "base_uri": "https://localhost:8080/"
        },
        "id": "H7YjmbLDl9HQ",
        "outputId": "750099e8-cae4-40c4-f10d-1dd74b5affb4"
      },
      "outputs": [
        {
          "name": "stdout",
          "output_type": "stream",
          "text": [
            "33/-16 = -2.0625\n",
            "trunc(33/-16) = -2\n",
            "33//-16 = -3\n",
            "floor(33//-16) = -3\n"
          ]
        }
      ],
      "source": [
        "a = 33\n",
        "b = -16\n",
        "print('{0}/{1} = {2}'.format(a, b, a/b))\n",
        "print('trunc({0}/{1}) = {2}'.format(a, b, math.trunc(a/b)))\n",
        "print('{0}//{1} = {2}'.format(a, b, a//b))\n",
        "print('floor({0}//{1}) = {2}'.format(a, b, math.floor(a/b)))"
      ]
    },
    {
      "cell_type": "markdown",
      "metadata": {
        "id": "cANiQgHMmFJG"
      },
      "source": [
        "**The Modulo Operator**\n",
        "The modulo operator and the floor division operator will always satisfy the following equation:\n",
        "\n",
        "`a = b * (a // b) + a % b`"
      ]
    },
    {
      "cell_type": "code",
      "execution_count": null,
      "metadata": {
        "colab": {
          "background_save": true,
          "base_uri": "https://localhost:8080/"
        },
        "id": "nFsOTKfemEQg",
        "outputId": "de4666a9-f76b-4d84-a0f8-49b26a6ba859"
      },
      "outputs": [
        {
          "name": "stdout",
          "output_type": "stream",
          "text": [
            "13/4 = 3.25\n",
            "13//4 = 3\n",
            "13%4 = 1\n",
            "True\n"
          ]
        }
      ],
      "source": [
        "a = 13\n",
        "b = 4\n",
        "print('{0}/{1} = {2}'.format(a, b, a/b))\n",
        "print('{0}//{1} = {2}'.format(a, b, a//b))\n",
        "print('{0}%{1} = {2}'.format(a, b, a%b))\n",
        "print(a == b * (a//b) + a%b)"
      ]
    },
    {
      "cell_type": "code",
      "execution_count": null,
      "metadata": {
        "colab": {
          "background_save": true,
          "base_uri": "https://localhost:8080/"
        },
        "id": "f8KPcSe0merk",
        "outputId": "c654080d-1c1a-4b89-d3ed-0441abeb00ab"
      },
      "outputs": [
        {
          "name": "stdout",
          "output_type": "stream",
          "text": [
            "-13/4 = -3.25\n",
            "-13//4 = -4\n",
            "-13%4 = 3\n",
            "True\n"
          ]
        }
      ],
      "source": [
        "a = -13\n",
        "b = 4\n",
        "print('{0}/{1} = {2}'.format(a, b, a/b))\n",
        "print('{0}//{1} = {2}'.format(a, b, a//b))\n",
        "print('{0}%{1} = {2}'.format(a, b, a%b))\n",
        "print(a == b * (a//b) + a%b)"
      ]
    },
    {
      "cell_type": "code",
      "execution_count": null,
      "metadata": {
        "colab": {
          "background_save": true,
          "base_uri": "https://localhost:8080/"
        },
        "id": "IlzRmsQrmk8k",
        "outputId": "d2503a69-10d5-4045-dbcd-c7ebfa0cc85c"
      },
      "outputs": [
        {
          "name": "stdout",
          "output_type": "stream",
          "text": [
            "13/-4 = -3.25\n",
            "13//-4 = -4\n",
            "13%-4 = -3\n",
            "True\n"
          ]
        }
      ],
      "source": [
        "a = 13\n",
        "b = -4\n",
        "print('{0}/{1} = {2}'.format(a, b, a/b))\n",
        "print('{0}//{1} = {2}'.format(a, b, a//b))\n",
        "print('{0}%{1} = {2}'.format(a, b, a%b))\n",
        "print(a == b * (a//b) + a%b)"
      ]
    },
    {
      "cell_type": "code",
      "execution_count": null,
      "metadata": {
        "colab": {
          "background_save": true,
          "base_uri": "https://localhost:8080/"
        },
        "id": "uODPbcBkmmy7",
        "outputId": "8369067c-41c5-428b-d227-39311b224d37"
      },
      "outputs": [
        {
          "name": "stdout",
          "output_type": "stream",
          "text": [
            "-13/-4 = 3.25\n",
            "-13//-4 = 3\n",
            "-13%-4 = -1\n",
            "True\n"
          ]
        }
      ],
      "source": [
        "a = -13\n",
        "b = -4\n",
        "print('{0}/{1} = {2}'.format(a, b, a/b))\n",
        "print('{0}//{1} = {2}'.format(a, b, a//b))\n",
        "print('{0}%{1} = {2}'.format(a, b, a%b))\n",
        "print(a == b * (a//b) + a%b)"
      ]
    },
    {
      "cell_type": "markdown",
      "metadata": {
        "id": "_yJl8G8vmsgw"
      },
      "source": [
        "### 03 - Integers - Constructors and Bases"
      ]
    },
    {
      "cell_type": "markdown",
      "metadata": {
        "id": "_hz1YDrFmwww"
      },
      "source": [
        "**Constructors**\n",
        "The `int` class has two constructors"
      ]
    },
    {
      "cell_type": "code",
      "execution_count": null,
      "metadata": {
        "colab": {
          "background_save": true,
          "base_uri": "https://localhost:8080/"
        },
        "id": "yHwfwdZmmoEZ",
        "outputId": "21b3bb47-7a5d-473d-9cb2-33d470db53ba"
      },
      "outputs": [
        {
          "name": "stdout",
          "output_type": "stream",
          "text": [
            "Help on class int in module builtins:\n",
            "\n",
            "class int(object)\n",
            " |  int([x]) -> integer\n",
            " |  int(x, base=10) -> integer\n",
            " |  \n",
            " |  Convert a number or string to an integer, or return 0 if no arguments\n",
            " |  are given.  If x is a number, return x.__int__().  For floating point\n",
            " |  numbers, this truncates towards zero.\n",
            " |  \n",
            " |  If x is not a number or if base is given, then x must be a string,\n",
            " |  bytes, or bytearray instance representing an integer literal in the\n",
            " |  given base.  The literal can be preceded by '+' or '-' and be surrounded\n",
            " |  by whitespace.  The base defaults to 10.  Valid bases are 0 and 2-36.\n",
            " |  Base 0 means to interpret the base from the string as an integer literal.\n",
            " |  >>> int('0b100', base=0)\n",
            " |  4\n",
            " |  \n",
            " |  Built-in subclasses:\n",
            " |      bool\n",
            " |  \n",
            " |  Methods defined here:\n",
            " |  \n",
            " |  __abs__(self, /)\n",
            " |      abs(self)\n",
            " |  \n",
            " |  __add__(self, value, /)\n",
            " |      Return self+value.\n",
            " |  \n",
            " |  __and__(self, value, /)\n",
            " |      Return self&value.\n",
            " |  \n",
            " |  __bool__(self, /)\n",
            " |      True if self else False\n",
            " |  \n",
            " |  __ceil__(...)\n",
            " |      Ceiling of an Integral returns itself.\n",
            " |  \n",
            " |  __divmod__(self, value, /)\n",
            " |      Return divmod(self, value).\n",
            " |  \n",
            " |  __eq__(self, value, /)\n",
            " |      Return self==value.\n",
            " |  \n",
            " |  __float__(self, /)\n",
            " |      float(self)\n",
            " |  \n",
            " |  __floor__(...)\n",
            " |      Flooring an Integral returns itself.\n",
            " |  \n",
            " |  __floordiv__(self, value, /)\n",
            " |      Return self//value.\n",
            " |  \n",
            " |  __format__(self, format_spec, /)\n",
            " |      Default object formatter.\n",
            " |  \n",
            " |  __ge__(self, value, /)\n",
            " |      Return self>=value.\n",
            " |  \n",
            " |  __getattribute__(self, name, /)\n",
            " |      Return getattr(self, name).\n",
            " |  \n",
            " |  __getnewargs__(self, /)\n",
            " |  \n",
            " |  __gt__(self, value, /)\n",
            " |      Return self>value.\n",
            " |  \n",
            " |  __hash__(self, /)\n",
            " |      Return hash(self).\n",
            " |  \n",
            " |  __index__(self, /)\n",
            " |      Return self converted to an integer, if self is suitable for use as an index into a list.\n",
            " |  \n",
            " |  __int__(self, /)\n",
            " |      int(self)\n",
            " |  \n",
            " |  __invert__(self, /)\n",
            " |      ~self\n",
            " |  \n",
            " |  __le__(self, value, /)\n",
            " |      Return self<=value.\n",
            " |  \n",
            " |  __lshift__(self, value, /)\n",
            " |      Return self<<value.\n",
            " |  \n",
            " |  __lt__(self, value, /)\n",
            " |      Return self<value.\n",
            " |  \n",
            " |  __mod__(self, value, /)\n",
            " |      Return self%value.\n",
            " |  \n",
            " |  __mul__(self, value, /)\n",
            " |      Return self*value.\n",
            " |  \n",
            " |  __ne__(self, value, /)\n",
            " |      Return self!=value.\n",
            " |  \n",
            " |  __neg__(self, /)\n",
            " |      -self\n",
            " |  \n",
            " |  __or__(self, value, /)\n",
            " |      Return self|value.\n",
            " |  \n",
            " |  __pos__(self, /)\n",
            " |      +self\n",
            " |  \n",
            " |  __pow__(self, value, mod=None, /)\n",
            " |      Return pow(self, value, mod).\n",
            " |  \n",
            " |  __radd__(self, value, /)\n",
            " |      Return value+self.\n",
            " |  \n",
            " |  __rand__(self, value, /)\n",
            " |      Return value&self.\n",
            " |  \n",
            " |  __rdivmod__(self, value, /)\n",
            " |      Return divmod(value, self).\n",
            " |  \n",
            " |  __repr__(self, /)\n",
            " |      Return repr(self).\n",
            " |  \n",
            " |  __rfloordiv__(self, value, /)\n",
            " |      Return value//self.\n",
            " |  \n",
            " |  __rlshift__(self, value, /)\n",
            " |      Return value<<self.\n",
            " |  \n",
            " |  __rmod__(self, value, /)\n",
            " |      Return value%self.\n",
            " |  \n",
            " |  __rmul__(self, value, /)\n",
            " |      Return value*self.\n",
            " |  \n",
            " |  __ror__(self, value, /)\n",
            " |      Return value|self.\n",
            " |  \n",
            " |  __round__(...)\n",
            " |      Rounding an Integral returns itself.\n",
            " |      Rounding with an ndigits argument also returns an integer.\n",
            " |  \n",
            " |  __rpow__(self, value, mod=None, /)\n",
            " |      Return pow(value, self, mod).\n",
            " |  \n",
            " |  __rrshift__(self, value, /)\n",
            " |      Return value>>self.\n",
            " |  \n",
            " |  __rshift__(self, value, /)\n",
            " |      Return self>>value.\n",
            " |  \n",
            " |  __rsub__(self, value, /)\n",
            " |      Return value-self.\n",
            " |  \n",
            " |  __rtruediv__(self, value, /)\n",
            " |      Return value/self.\n",
            " |  \n",
            " |  __rxor__(self, value, /)\n",
            " |      Return value^self.\n",
            " |  \n",
            " |  __sizeof__(self, /)\n",
            " |      Returns size in memory, in bytes.\n",
            " |  \n",
            " |  __sub__(self, value, /)\n",
            " |      Return self-value.\n",
            " |  \n",
            " |  __truediv__(self, value, /)\n",
            " |      Return self/value.\n",
            " |  \n",
            " |  __trunc__(...)\n",
            " |      Truncating an Integral returns itself.\n",
            " |  \n",
            " |  __xor__(self, value, /)\n",
            " |      Return self^value.\n",
            " |  \n",
            " |  as_integer_ratio(self, /)\n",
            " |      Return integer ratio.\n",
            " |      \n",
            " |      Return a pair of integers, whose ratio is exactly equal to the original int\n",
            " |      and with a positive denominator.\n",
            " |      \n",
            " |      >>> (10).as_integer_ratio()\n",
            " |      (10, 1)\n",
            " |      >>> (-10).as_integer_ratio()\n",
            " |      (-10, 1)\n",
            " |      >>> (0).as_integer_ratio()\n",
            " |      (0, 1)\n",
            " |  \n",
            " |  bit_length(self, /)\n",
            " |      Number of bits necessary to represent self in binary.\n",
            " |      \n",
            " |      >>> bin(37)\n",
            " |      '0b100101'\n",
            " |      >>> (37).bit_length()\n",
            " |      6\n",
            " |  \n",
            " |  conjugate(...)\n",
            " |      Returns self, the complex conjugate of any int.\n",
            " |  \n",
            " |  to_bytes(self, /, length, byteorder, *, signed=False)\n",
            " |      Return an array of bytes representing an integer.\n",
            " |      \n",
            " |      length\n",
            " |        Length of bytes object to use.  An OverflowError is raised if the\n",
            " |        integer is not representable with the given number of bytes.\n",
            " |      byteorder\n",
            " |        The byte order used to represent the integer.  If byteorder is 'big',\n",
            " |        the most significant byte is at the beginning of the byte array.  If\n",
            " |        byteorder is 'little', the most significant byte is at the end of the\n",
            " |        byte array.  To request the native byte order of the host system, use\n",
            " |        `sys.byteorder' as the byte order value.\n",
            " |      signed\n",
            " |        Determines whether two's complement is used to represent the integer.\n",
            " |        If signed is False and a negative integer is given, an OverflowError\n",
            " |        is raised.\n",
            " |  \n",
            " |  ----------------------------------------------------------------------\n",
            " |  Class methods defined here:\n",
            " |  \n",
            " |  from_bytes(bytes, byteorder, *, signed=False) from builtins.type\n",
            " |      Return the integer represented by the given array of bytes.\n",
            " |      \n",
            " |      bytes\n",
            " |        Holds the array of bytes to convert.  The argument must either\n",
            " |        support the buffer protocol or be an iterable object producing bytes.\n",
            " |        Bytes and bytearray are examples of built-in objects that support the\n",
            " |        buffer protocol.\n",
            " |      byteorder\n",
            " |        The byte order used to represent the integer.  If byteorder is 'big',\n",
            " |        the most significant byte is at the beginning of the byte array.  If\n",
            " |        byteorder is 'little', the most significant byte is at the end of the\n",
            " |        byte array.  To request the native byte order of the host system, use\n",
            " |        `sys.byteorder' as the byte order value.\n",
            " |      signed\n",
            " |        Indicates whether two's complement is used to represent the integer.\n",
            " |  \n",
            " |  ----------------------------------------------------------------------\n",
            " |  Static methods defined here:\n",
            " |  \n",
            " |  __new__(*args, **kwargs) from builtins.type\n",
            " |      Create and return a new object.  See help(type) for accurate signature.\n",
            " |  \n",
            " |  ----------------------------------------------------------------------\n",
            " |  Data descriptors defined here:\n",
            " |  \n",
            " |  denominator\n",
            " |      the denominator of a rational number in lowest terms\n",
            " |  \n",
            " |  imag\n",
            " |      the imaginary part of a complex number\n",
            " |  \n",
            " |  numerator\n",
            " |      the numerator of a rational number in lowest terms\n",
            " |  \n",
            " |  real\n",
            " |      the real part of a complex number\n",
            "\n"
          ]
        }
      ],
      "source": [
        "help(int)"
      ]
    },
    {
      "cell_type": "code",
      "execution_count": null,
      "metadata": {
        "colab": {
          "background_save": true,
          "base_uri": "https://localhost:8080/"
        },
        "id": "-sXjuFUGm_ET",
        "outputId": "f5a42c10-e79f-4d06-ea13-2ce31d991f35"
      },
      "outputs": [
        {
          "data": {
            "text/plain": [
              "10"
            ]
          },
          "execution_count": 322,
          "metadata": {},
          "output_type": "execute_result"
        }
      ],
      "source": [
        "int(10)"
      ]
    },
    {
      "cell_type": "code",
      "execution_count": null,
      "metadata": {
        "colab": {
          "background_save": true,
          "base_uri": "https://localhost:8080/"
        },
        "id": "cTMXdebHnCrC",
        "outputId": "97ef8375-fde7-42db-f291-1414a8e1dc6a"
      },
      "outputs": [
        {
          "data": {
            "text/plain": [
              "10"
            ]
          },
          "execution_count": 323,
          "metadata": {},
          "output_type": "execute_result"
        }
      ],
      "source": [
        "int(10.9)"
      ]
    },
    {
      "cell_type": "code",
      "execution_count": null,
      "metadata": {
        "colab": {
          "background_save": true,
          "base_uri": "https://localhost:8080/"
        },
        "id": "dnKR-i5mnDrb",
        "outputId": "0809acfd-c2cf-4585-9916-03b019443ce4"
      },
      "outputs": [
        {
          "data": {
            "text/plain": [
              "-10"
            ]
          },
          "execution_count": 324,
          "metadata": {},
          "output_type": "execute_result"
        }
      ],
      "source": [
        "int(-10.9)"
      ]
    },
    {
      "cell_type": "code",
      "execution_count": null,
      "metadata": {
        "colab": {
          "background_save": true
        },
        "id": "YgsOaZFMnE9d"
      },
      "outputs": [],
      "source": [
        "from fractions import Fraction"
      ]
    },
    {
      "cell_type": "code",
      "execution_count": null,
      "metadata": {
        "colab": {
          "background_save": true
        },
        "id": "bDEY_TranHe_"
      },
      "outputs": [],
      "source": [
        "a = Fraction(22, 7)"
      ]
    },
    {
      "cell_type": "code",
      "execution_count": null,
      "metadata": {
        "colab": {
          "background_save": true,
          "base_uri": "https://localhost:8080/"
        },
        "id": "4LCxU8CenI-4",
        "outputId": "9abf3675-cfff-4bdd-c2f7-83649ccc0d56"
      },
      "outputs": [
        {
          "data": {
            "text/plain": [
              "Fraction(22, 7)"
            ]
          },
          "execution_count": 327,
          "metadata": {},
          "output_type": "execute_result"
        }
      ],
      "source": [
        "a"
      ]
    },
    {
      "cell_type": "code",
      "execution_count": null,
      "metadata": {
        "colab": {
          "background_save": true,
          "base_uri": "https://localhost:8080/"
        },
        "id": "R8IN6chonJYW",
        "outputId": "90e21885-3d68-4866-9222-31d66376cca4"
      },
      "outputs": [
        {
          "data": {
            "text/plain": [
              "3"
            ]
          },
          "execution_count": 328,
          "metadata": {},
          "output_type": "execute_result"
        }
      ],
      "source": [
        "int(a)"
      ]
    },
    {
      "cell_type": "markdown",
      "metadata": {
        "id": "upPclTFPnOEX"
      },
      "source": [
        "We can use the second constructor to generate integers (base 10) from strings in any base."
      ]
    },
    {
      "cell_type": "code",
      "execution_count": null,
      "metadata": {
        "colab": {
          "background_save": true,
          "base_uri": "https://localhost:8080/"
        },
        "id": "vuqcq-OqnLyM",
        "outputId": "d83250a2-78be-493e-e1e6-6a746abd34ca"
      },
      "outputs": [
        {
          "data": {
            "text/plain": [
              "10"
            ]
          },
          "execution_count": 329,
          "metadata": {},
          "output_type": "execute_result"
        }
      ],
      "source": [
        "int(\"10\")"
      ]
    },
    {
      "cell_type": "code",
      "execution_count": null,
      "metadata": {
        "colab": {
          "background_save": true,
          "base_uri": "https://localhost:8080/"
        },
        "id": "pqfhqD13nVg3",
        "outputId": "d4aa04d5-652b-49d0-86b2-f0ce824d4ae6"
      },
      "outputs": [
        {
          "data": {
            "text/plain": [
              "5"
            ]
          },
          "execution_count": 330,
          "metadata": {},
          "output_type": "execute_result"
        }
      ],
      "source": [
        "int(\"101\", 2)"
      ]
    },
    {
      "cell_type": "code",
      "execution_count": null,
      "metadata": {
        "colab": {
          "background_save": true,
          "base_uri": "https://localhost:8080/"
        },
        "id": "Zz7AKn8qnXtg",
        "outputId": "509f6757-f085-4996-d790-0f6bdd529b82"
      },
      "outputs": [
        {
          "data": {
            "text/plain": [
              "5"
            ]
          },
          "execution_count": 331,
          "metadata": {},
          "output_type": "execute_result"
        }
      ],
      "source": [
        "int(\"101\", 2)"
      ]
    },
    {
      "cell_type": "code",
      "execution_count": null,
      "metadata": {
        "colab": {
          "background_save": true,
          "base_uri": "https://localhost:8080/"
        },
        "id": "7_nVyJ9BoXuV",
        "outputId": "b982c2a4-d4c2-445c-9ff9-4d232ba77796"
      },
      "outputs": [
        {
          "data": {
            "text/plain": [
              "5"
            ]
          },
          "execution_count": 332,
          "metadata": {},
          "output_type": "execute_result"
        }
      ],
      "source": [
        "int(\"101\", base=2)"
      ]
    },
    {
      "cell_type": "markdown",
      "metadata": {
        "id": "vfyprorAoo58"
      },
      "source": [
        "Python uses `a-z` for bases from 11 to 36.\n"
      ]
    },
    {
      "cell_type": "markdown",
      "metadata": {
        "id": "yA9uLFWno8hu"
      },
      "source": [
        "\n",
        "\n",
        "---\n",
        "**BE CAREFUL!**\n"
      ]
    },
    {
      "cell_type": "markdown",
      "metadata": {
        "id": "0dfTMMNNpA0N"
      },
      "source": [
        "\n",
        "*Note that the letters are not case sensitive.*"
      ]
    },
    {
      "cell_type": "code",
      "execution_count": null,
      "metadata": {
        "colab": {
          "background_save": true,
          "base_uri": "https://localhost:8080/"
        },
        "id": "CA4HKlbXok8q",
        "outputId": "140adaf9-24f4-4196-c60f-a59a112ba10a"
      },
      "outputs": [
        {
          "data": {
            "text/plain": [
              "3866"
            ]
          },
          "execution_count": 333,
          "metadata": {},
          "output_type": "execute_result"
        }
      ],
      "source": [
        "int(\"F1A\", base=16)"
      ]
    },
    {
      "cell_type": "code",
      "execution_count": null,
      "metadata": {
        "colab": {
          "background_save": true,
          "base_uri": "https://localhost:8080/"
        },
        "id": "3h0sW8AHo2hs",
        "outputId": "9132e230-25f0-46d3-e4b3-d13266964415"
      },
      "outputs": [
        {
          "data": {
            "text/plain": [
              "3866"
            ]
          },
          "execution_count": 334,
          "metadata": {},
          "output_type": "execute_result"
        }
      ],
      "source": [
        "int(\"f1a\", base=16)"
      ]
    },
    {
      "cell_type": "markdown",
      "metadata": {
        "id": "ZpaubviNpFZp"
      },
      "source": [
        "*Of course, the string must be a valid number in whatever base you specify.*"
      ]
    },
    {
      "cell_type": "code",
      "execution_count": null,
      "metadata": {
        "colab": {
          "background_save": true,
          "base_uri": "https://localhost:8080/",
          "height": 166
        },
        "id": "NrGkN9iio5JF",
        "outputId": "72b4cd35-dd96-46a7-97a5-0478ec00669c"
      },
      "outputs": [
        {
          "ename": "ValueError",
          "evalue": "invalid literal for int() with base 11: 'B1A'",
          "output_type": "error",
          "traceback": [
            "\u001b[1;31m---------------------------------------------------------------------------\u001b[0m",
            "\u001b[1;31mValueError\u001b[0m                                Traceback (most recent call last)",
            "Input \u001b[1;32mIn [335]\u001b[0m, in \u001b[0;36m<cell line: 1>\u001b[1;34m()\u001b[0m\n\u001b[1;32m----> 1\u001b[0m \u001b[38;5;28;43mint\u001b[39;49m\u001b[43m(\u001b[49m\u001b[38;5;124;43m'\u001b[39;49m\u001b[38;5;124;43mB1A\u001b[39;49m\u001b[38;5;124;43m'\u001b[39;49m\u001b[43m,\u001b[49m\u001b[43m \u001b[49m\u001b[43mbase\u001b[49m\u001b[38;5;241;43m=\u001b[39;49m\u001b[38;5;241;43m11\u001b[39;49m\u001b[43m)\u001b[49m\n",
            "\u001b[1;31mValueError\u001b[0m: invalid literal for int() with base 11: 'B1A'"
          ]
        }
      ],
      "source": [
        "int('B1A', base=11)"
      ]
    },
    {
      "cell_type": "code",
      "execution_count": null,
      "metadata": {
        "colab": {
          "background_save": true
        },
        "id": "kBoGAPLRpRDN"
      },
      "outputs": [],
      "source": [
        "int('B1A', 12)"
      ]
    },
    {
      "cell_type": "markdown",
      "metadata": {
        "id": "ahj9T8AapyAG"
      },
      "source": [
        "\n",
        "\n",
        "---\n",
        "\n"
      ]
    },
    {
      "cell_type": "markdown",
      "metadata": {
        "id": "r-UXfX6OpX4V"
      },
      "source": [
        "**Base Representations**\n",
        "\n",
        "**Built-ins**"
      ]
    },
    {
      "cell_type": "code",
      "execution_count": null,
      "metadata": {
        "colab": {
          "background_save": true
        },
        "id": "7SY5vp-KpUaQ",
        "outputId": "3e1528c9-3670-4563-e9a6-6bdefd0174cb"
      },
      "outputs": [
        {
          "data": {
            "text/plain": [
              "'0b1010'"
            ]
          },
          "execution_count": 336,
          "metadata": {},
          "output_type": "execute_result"
        }
      ],
      "source": [
        "bin(10)"
      ]
    },
    {
      "cell_type": "code",
      "execution_count": null,
      "metadata": {
        "colab": {
          "background_save": true
        },
        "id": "OJ_GEZbdpfMA",
        "outputId": "fa320f60-0f84-4f71-8e6c-be5a0bd02fd9"
      },
      "outputs": [
        {
          "data": {
            "text/plain": [
              "'0o12'"
            ]
          },
          "execution_count": 337,
          "metadata": {},
          "output_type": "execute_result"
        }
      ],
      "source": [
        "oct(10)"
      ]
    },
    {
      "cell_type": "code",
      "execution_count": null,
      "metadata": {
        "colab": {
          "background_save": true
        },
        "id": "JcLFPLHqpkC4",
        "outputId": "daa38ffa-4b00-460b-dcf4-0cd98d961441"
      },
      "outputs": [
        {
          "data": {
            "text/plain": [
              "'0xa'"
            ]
          },
          "execution_count": 338,
          "metadata": {},
          "output_type": "execute_result"
        }
      ],
      "source": [
        "hex(10)"
      ]
    },
    {
      "cell_type": "markdown",
      "metadata": {
        "id": "S61hYkv7ptSE"
      },
      "source": [
        "\n",
        "\n",
        "---\n",
        "\n",
        "**BE CAREFUL!**"
      ]
    },
    {
      "cell_type": "markdown",
      "metadata": {
        "id": "z7pazemmpwdH"
      },
      "source": [
        "*Note the `0b`, `0o`, `0x` prefixes.*\n",
        "\n",
        "*You can use these in your own strings as well, and they correspond to prefixes used in integer literals as well.*"
      ]
    },
    {
      "cell_type": "code",
      "execution_count": null,
      "metadata": {
        "colab": {
          "background_save": true
        },
        "id": "fj-azhwgpko9"
      },
      "outputs": [],
      "source": [
        "a = int('1010', 2)\n",
        "b = int('0b1010', 2)\n",
        "c = 0b1010"
      ]
    },
    {
      "cell_type": "code",
      "execution_count": null,
      "metadata": {
        "colab": {
          "background_save": true
        },
        "id": "os6o-J9tqMK8",
        "outputId": "43dfd528-9fec-455f-94dc-95c8caa6fbdf"
      },
      "outputs": [
        {
          "name": "stdout",
          "output_type": "stream",
          "text": [
            "10 10 10\n"
          ]
        }
      ],
      "source": [
        "print(a, b, c)"
      ]
    },
    {
      "cell_type": "code",
      "execution_count": null,
      "metadata": {
        "colab": {
          "background_save": true
        },
        "id": "lUQuRBMsqNaQ"
      },
      "outputs": [],
      "source": [
        "a = int('f1a', 16)\n",
        "b = int('0xf1a', 16)\n",
        "c = 0xf1a"
      ]
    },
    {
      "cell_type": "code",
      "execution_count": null,
      "metadata": {
        "colab": {
          "background_save": true
        },
        "id": "9KZxfw3wqV-T",
        "outputId": "06560416-7f7a-407c-b4b7-9f88ba8687d0"
      },
      "outputs": [
        {
          "name": "stdout",
          "output_type": "stream",
          "text": [
            "3866 3866 3866\n"
          ]
        }
      ],
      "source": [
        "print(a, b, c)"
      ]
    },
    {
      "cell_type": "markdown",
      "metadata": {
        "id": "4hmuTmIxqZUT"
      },
      "source": [
        "For literals, the `a-z` characters are not case-sensitive either."
      ]
    },
    {
      "cell_type": "code",
      "execution_count": null,
      "metadata": {
        "colab": {
          "background_save": true
        },
        "id": "RgsyS2xqqXx7"
      },
      "outputs": [],
      "source": [
        "a = 0xf1a\n",
        "b = 0xF1a\n",
        "c = 0XF1A"
      ]
    },
    {
      "cell_type": "code",
      "execution_count": null,
      "metadata": {
        "colab": {
          "background_save": true
        },
        "id": "ooZzXxDmqqWp",
        "outputId": "6d1fb421-376d-424f-f035-479dae36b09a"
      },
      "outputs": [
        {
          "name": "stdout",
          "output_type": "stream",
          "text": [
            "3866 3866 3866\n"
          ]
        }
      ],
      "source": [
        "print(a, b, c)"
      ]
    },
    {
      "cell_type": "markdown",
      "metadata": {
        "id": "Qj6DKccbqt6X"
      },
      "source": [
        "**Custom Rebasing**"
      ]
    },
    {
      "cell_type": "markdown",
      "metadata": {
        "id": "L1xlkUMJqwsf"
      },
      "source": [
        "Python only provides built-in function to rebase to base 2, 8, 16.\n",
        "\n",
        "For other bases, you have to provide your own algorithm (or leverage some 3rd party library of your choice)"
      ]
    },
    {
      "cell_type": "code",
      "execution_count": null,
      "metadata": {
        "colab": {
          "background_save": true
        },
        "id": "SziLW3Dqqr4f"
      },
      "outputs": [],
      "source": [
        "def from_base10(n, b):\n",
        "    if b < 2:\n",
        "        raise ValueError('Base b must be >= 2')\n",
        "    if n < 0:\n",
        "        raise ValueError('Number n must be >= 0')\n",
        "    if n == 0:\n",
        "        return [0]\n",
        "    digits = []\n",
        "    while n > 0:\n",
        "        # m = n % b\n",
        "        # n = n // b\n",
        "        # which is the same as:\n",
        "        n, m = divmod(n, b)\n",
        "        digits.insert(0, m)\n",
        "    return digits"
      ]
    },
    {
      "cell_type": "code",
      "execution_count": null,
      "metadata": {
        "colab": {
          "background_save": true
        },
        "id": "eFtqFhCPr4vC",
        "outputId": "ff98c7a7-8605-4b7d-af71-7e4368085363"
      },
      "outputs": [
        {
          "data": {
            "text/plain": [
              "[1, 0, 1, 0]"
            ]
          },
          "execution_count": 346,
          "metadata": {},
          "output_type": "execute_result"
        }
      ],
      "source": [
        "from_base10(10, 2)"
      ]
    },
    {
      "cell_type": "code",
      "execution_count": null,
      "metadata": {
        "colab": {
          "background_save": true
        },
        "id": "Qb2RoGqDr6VY",
        "outputId": "9af06e4a-ca10-41ef-c86d-b3aa97e9daa0"
      },
      "outputs": [
        {
          "data": {
            "text/plain": [
              "[15, 15]"
            ]
          },
          "execution_count": 347,
          "metadata": {},
          "output_type": "execute_result"
        }
      ],
      "source": [
        "from_base10(255, 16)"
      ]
    },
    {
      "cell_type": "markdown",
      "metadata": {
        "id": "h6Wk0vvVsA-T"
      },
      "source": [
        "Next we may want to encode the digits into strings using different characters for each digit in the base."
      ]
    },
    {
      "cell_type": "code",
      "execution_count": null,
      "metadata": {
        "colab": {
          "background_save": true
        },
        "id": "7MbPujUTr_3f"
      },
      "outputs": [],
      "source": [
        "def encode(digits, digit_map):\n",
        "    # we require that digit_map has at least as many\n",
        "    # characters as the max number in digits\n",
        "    if max(digits) >= len(digit_map):\n",
        "        raise ValueError(\"digit_map is not long enough to encode digits\")\n",
        "    \n",
        "    # we'll see this later, but the following would be better:\n",
        "    encoding = ''.join([digit_map[d] for d in digits])\n",
        "    return encoding"
      ]
    },
    {
      "cell_type": "markdown",
      "metadata": {
        "id": "nThRevuluEV4"
      },
      "source": [
        "Now we can encode any list of digits:"
      ]
    },
    {
      "cell_type": "code",
      "execution_count": null,
      "metadata": {
        "colab": {
          "background_save": true
        },
        "id": "LEzqn7oRuDO1",
        "outputId": "be4169ca-77d5-4b12-8d50-078159e8147b"
      },
      "outputs": [
        {
          "data": {
            "text/plain": [
              "'TFT'"
            ]
          },
          "execution_count": 349,
          "metadata": {},
          "output_type": "execute_result"
        }
      ],
      "source": [
        "encode([1, 0, 1], \"FT\")"
      ]
    },
    {
      "cell_type": "code",
      "execution_count": null,
      "metadata": {
        "colab": {
          "background_save": true
        },
        "id": "J89b2UJDuROX",
        "outputId": "6ba61109-3d55-4656-ab91-2828793a7517"
      },
      "outputs": [
        {
          "data": {
            "text/plain": [
              "'1AB'"
            ]
          },
          "execution_count": 350,
          "metadata": {},
          "output_type": "execute_result"
        }
      ],
      "source": [
        "encode([1, 10, 11], '0123456789AB')"
      ]
    },
    {
      "cell_type": "markdown",
      "metadata": {
        "id": "iuV87jGSuatl"
      },
      "source": [
        "And we can combine both functions into a sinhle one for easier use:"
      ]
    },
    {
      "cell_type": "code",
      "execution_count": null,
      "metadata": {
        "colab": {
          "background_save": true
        },
        "id": "RKGA5--TuWRn"
      },
      "outputs": [],
      "source": [
        "def rebase_from10(number, base):\n",
        "    digit_map = '0123456789ABCDEFGHIJKLMNOPQRSTUVWXYZ'\n",
        "    if base < 2 or base > 36:\n",
        "        raise ValueError('Invalid base: 2 <= base <= 36')\n",
        "    # we store the sign of number and maket it positive\n",
        "    # we'll re-insert the sign at the end\n",
        "    sign = -1 if number < 0 else 1\n",
        "    number *= sign\n",
        "\n",
        "    digits = from_base10(number, base)\n",
        "    encoding = encode(digits, digit_map)\n",
        "    if sign == -1:\n",
        "        encoding = '-' + encoding\n",
        "    return encoding"
      ]
    },
    {
      "cell_type": "code",
      "execution_count": null,
      "metadata": {
        "colab": {
          "background_save": true
        },
        "id": "JX08GPlpvNFP",
        "outputId": "fb25b917-968b-486e-b577-51fbd88bc26f"
      },
      "outputs": [
        {
          "name": "stdout",
          "output_type": "stream",
          "text": [
            "1010\n",
            "10\n"
          ]
        }
      ],
      "source": [
        "e = rebase_from10(10, 2)\n",
        "print(e)\n",
        "print(int(e, 2))"
      ]
    },
    {
      "cell_type": "code",
      "execution_count": null,
      "metadata": {
        "colab": {
          "background_save": true
        },
        "id": "ycVcLolKvRoz",
        "outputId": "49d74939-a7d1-4ee7-a3c0-63056a909220"
      },
      "outputs": [
        {
          "name": "stdout",
          "output_type": "stream",
          "text": [
            "-1010\n",
            "-10\n"
          ]
        }
      ],
      "source": [
        "e = rebase_from10(-10, 2)\n",
        "print(e)\n",
        "print(int(e, 2))"
      ]
    },
    {
      "cell_type": "code",
      "execution_count": null,
      "metadata": {
        "colab": {
          "background_save": true
        },
        "id": "xy0D4u05xIMW",
        "outputId": "534fd76f-c321-4f14-c7f6-6b7383d4722c"
      },
      "outputs": [
        {
          "data": {
            "text/plain": [
              "'10A'"
            ]
          },
          "execution_count": 354,
          "metadata": {},
          "output_type": "execute_result"
        }
      ],
      "source": [
        "rebase_from10(131, 11)"
      ]
    },
    {
      "cell_type": "code",
      "execution_count": null,
      "metadata": {
        "colab": {
          "background_save": true
        },
        "id": "3jPmxPA3xLiP",
        "outputId": "83ba78f6-56a3-4e3c-95d9-a423fe9a40f7"
      },
      "outputs": [
        {
          "data": {
            "text/plain": [
              "'FFF'"
            ]
          },
          "execution_count": 355,
          "metadata": {},
          "output_type": "execute_result"
        }
      ],
      "source": [
        "rebase_from10(4095, 16)"
      ]
    },
    {
      "cell_type": "code",
      "execution_count": null,
      "metadata": {
        "colab": {
          "background_save": true
        },
        "id": "LxsQGfumxOG4",
        "outputId": "2a93af20-3949-4175-fd3d-c5d9675bbbd9"
      },
      "outputs": [
        {
          "data": {
            "text/plain": [
              "'-FFF'"
            ]
          },
          "execution_count": 356,
          "metadata": {},
          "output_type": "execute_result"
        }
      ],
      "source": [
        "rebase_from10(-4095, 16)"
      ]
    },
    {
      "cell_type": "markdown",
      "metadata": {
        "id": "mfjV__Kpyeex"
      },
      "source": [
        "### 04 - Rational Numbers"
      ]
    },
    {
      "cell_type": "code",
      "execution_count": null,
      "metadata": {
        "colab": {
          "background_save": true
        },
        "id": "GKiahS8ExSov"
      },
      "outputs": [],
      "source": [
        "from fractions import Fraction"
      ]
    },
    {
      "cell_type": "markdown",
      "metadata": {
        "id": "MOaSj37Lyzne"
      },
      "source": [
        "We can get some info on the Fraction class:"
      ]
    },
    {
      "cell_type": "code",
      "execution_count": null,
      "metadata": {
        "colab": {
          "background_save": true
        },
        "id": "ym6nqiDUyriy",
        "outputId": "88faf9c7-7638-46d4-a2ce-1750dcf40416"
      },
      "outputs": [
        {
          "name": "stdout",
          "output_type": "stream",
          "text": [
            "Help on class Fraction in module fractions:\n",
            "\n",
            "class Fraction(numbers.Rational)\n",
            " |  Fraction(numerator=0, denominator=None, *, _normalize=True)\n",
            " |  \n",
            " |  This class implements rational numbers.\n",
            " |  \n",
            " |  In the two-argument form of the constructor, Fraction(8, 6) will\n",
            " |  produce a rational number equivalent to 4/3. Both arguments must\n",
            " |  be Rational. The numerator defaults to 0 and the denominator\n",
            " |  defaults to 1 so that Fraction(3) == 3 and Fraction() == 0.\n",
            " |  \n",
            " |  Fractions can also be constructed from:\n",
            " |  \n",
            " |    - numeric strings similar to those accepted by the\n",
            " |      float constructor (for example, '-2.3' or '1e10')\n",
            " |  \n",
            " |    - strings of the form '123/456'\n",
            " |  \n",
            " |    - float and Decimal instances\n",
            " |  \n",
            " |    - other Rational instances (including integers)\n",
            " |  \n",
            " |  Method resolution order:\n",
            " |      Fraction\n",
            " |      numbers.Rational\n",
            " |      numbers.Real\n",
            " |      numbers.Complex\n",
            " |      numbers.Number\n",
            " |      builtins.object\n",
            " |  \n",
            " |  Methods defined here:\n",
            " |  \n",
            " |  __abs__(a)\n",
            " |      abs(a)\n",
            " |  \n",
            " |  __add__(a, b)\n",
            " |      a + b\n",
            " |  \n",
            " |  __bool__(a)\n",
            " |      a != 0\n",
            " |  \n",
            " |  __ceil__(a)\n",
            " |      math.ceil(a)\n",
            " |  \n",
            " |  __copy__(self)\n",
            " |  \n",
            " |  __deepcopy__(self, memo)\n",
            " |  \n",
            " |  __divmod__(a, b)\n",
            " |      (a // b, a % b)\n",
            " |  \n",
            " |  __eq__(a, b)\n",
            " |      a == b\n",
            " |  \n",
            " |  __floor__(a)\n",
            " |      math.floor(a)\n",
            " |  \n",
            " |  __floordiv__(a, b)\n",
            " |      a // b\n",
            " |  \n",
            " |  __ge__(a, b)\n",
            " |      a >= b\n",
            " |  \n",
            " |  __gt__(a, b)\n",
            " |      a > b\n",
            " |  \n",
            " |  __hash__(self)\n",
            " |      hash(self)\n",
            " |  \n",
            " |  __le__(a, b)\n",
            " |      a <= b\n",
            " |  \n",
            " |  __lt__(a, b)\n",
            " |      a < b\n",
            " |  \n",
            " |  __mod__(a, b)\n",
            " |      a % b\n",
            " |  \n",
            " |  __mul__(a, b)\n",
            " |      a * b\n",
            " |  \n",
            " |  __neg__(a)\n",
            " |      -a\n",
            " |  \n",
            " |  __pos__(a)\n",
            " |      +a: Coerces a subclass instance to Fraction\n",
            " |  \n",
            " |  __pow__(a, b)\n",
            " |      a ** b\n",
            " |      \n",
            " |      If b is not an integer, the result will be a float or complex\n",
            " |      since roots are generally irrational. If b is an integer, the\n",
            " |      result will be rational.\n",
            " |  \n",
            " |  __radd__(b, a)\n",
            " |      a + b\n",
            " |  \n",
            " |  __rdivmod__(b, a)\n",
            " |      (a // b, a % b)\n",
            " |  \n",
            " |  __reduce__(self)\n",
            " |      Helper for pickle.\n",
            " |  \n",
            " |  __repr__(self)\n",
            " |      repr(self)\n",
            " |  \n",
            " |  __rfloordiv__(b, a)\n",
            " |      a // b\n",
            " |  \n",
            " |  __rmod__(b, a)\n",
            " |      a % b\n",
            " |  \n",
            " |  __rmul__(b, a)\n",
            " |      a * b\n",
            " |  \n",
            " |  __round__(self, ndigits=None)\n",
            " |      round(self, ndigits)\n",
            " |      \n",
            " |      Rounds half toward even.\n",
            " |  \n",
            " |  __rpow__(b, a)\n",
            " |      a ** b\n",
            " |  \n",
            " |  __rsub__(b, a)\n",
            " |      a - b\n",
            " |  \n",
            " |  __rtruediv__(b, a)\n",
            " |      a / b\n",
            " |  \n",
            " |  __str__(self)\n",
            " |      str(self)\n",
            " |  \n",
            " |  __sub__(a, b)\n",
            " |      a - b\n",
            " |  \n",
            " |  __truediv__(a, b)\n",
            " |      a / b\n",
            " |  \n",
            " |  __trunc__(a)\n",
            " |      trunc(a)\n",
            " |  \n",
            " |  as_integer_ratio(self)\n",
            " |      Return the integer ratio as a tuple.\n",
            " |      \n",
            " |      Return a tuple of two integers, whose ratio is equal to the\n",
            " |      Fraction and with a positive denominator.\n",
            " |  \n",
            " |  limit_denominator(self, max_denominator=1000000)\n",
            " |      Closest Fraction to self with denominator at most max_denominator.\n",
            " |      \n",
            " |      >>> Fraction('3.141592653589793').limit_denominator(10)\n",
            " |      Fraction(22, 7)\n",
            " |      >>> Fraction('3.141592653589793').limit_denominator(100)\n",
            " |      Fraction(311, 99)\n",
            " |      >>> Fraction(4321, 8765).limit_denominator(10000)\n",
            " |      Fraction(4321, 8765)\n",
            " |  \n",
            " |  ----------------------------------------------------------------------\n",
            " |  Class methods defined here:\n",
            " |  \n",
            " |  from_decimal(dec) from abc.ABCMeta\n",
            " |      Converts a finite Decimal instance to a rational number, exactly.\n",
            " |  \n",
            " |  from_float(f) from abc.ABCMeta\n",
            " |      Converts a finite float to a rational number, exactly.\n",
            " |      \n",
            " |      Beware that Fraction.from_float(0.3) != Fraction(3, 10).\n",
            " |  \n",
            " |  ----------------------------------------------------------------------\n",
            " |  Static methods defined here:\n",
            " |  \n",
            " |  __new__(cls, numerator=0, denominator=None, *, _normalize=True)\n",
            " |      Constructs a Rational.\n",
            " |      \n",
            " |      Takes a string like '3/2' or '1.5', another Rational instance, a\n",
            " |      numerator/denominator pair, or a float.\n",
            " |      \n",
            " |      Examples\n",
            " |      --------\n",
            " |      \n",
            " |      >>> Fraction(10, -8)\n",
            " |      Fraction(-5, 4)\n",
            " |      >>> Fraction(Fraction(1, 7), 5)\n",
            " |      Fraction(1, 35)\n",
            " |      >>> Fraction(Fraction(1, 7), Fraction(2, 3))\n",
            " |      Fraction(3, 14)\n",
            " |      >>> Fraction('314')\n",
            " |      Fraction(314, 1)\n",
            " |      >>> Fraction('-35/4')\n",
            " |      Fraction(-35, 4)\n",
            " |      >>> Fraction('3.1415') # conversion from numeric string\n",
            " |      Fraction(6283, 2000)\n",
            " |      >>> Fraction('-47e-2') # string may include a decimal exponent\n",
            " |      Fraction(-47, 100)\n",
            " |      >>> Fraction(1.47)  # direct construction from float (exact conversion)\n",
            " |      Fraction(6620291452234629, 4503599627370496)\n",
            " |      >>> Fraction(2.25)\n",
            " |      Fraction(9, 4)\n",
            " |      >>> Fraction(Decimal('1.47'))\n",
            " |      Fraction(147, 100)\n",
            " |  \n",
            " |  ----------------------------------------------------------------------\n",
            " |  Readonly properties defined here:\n",
            " |  \n",
            " |  denominator\n",
            " |  \n",
            " |  numerator\n",
            " |  \n",
            " |  ----------------------------------------------------------------------\n",
            " |  Data and other attributes defined here:\n",
            " |  \n",
            " |  __abstractmethods__ = frozenset()\n",
            " |  \n",
            " |  ----------------------------------------------------------------------\n",
            " |  Methods inherited from numbers.Rational:\n",
            " |  \n",
            " |  __float__(self)\n",
            " |      float(self) = self.numerator / self.denominator\n",
            " |      \n",
            " |      It's important that this conversion use the integer's \"true\"\n",
            " |      division rather than casting one side to float before dividing\n",
            " |      so that ratios of huge integers convert without overflowing.\n",
            " |  \n",
            " |  ----------------------------------------------------------------------\n",
            " |  Methods inherited from numbers.Real:\n",
            " |  \n",
            " |  __complex__(self)\n",
            " |      complex(self) == complex(float(self), 0)\n",
            " |  \n",
            " |  conjugate(self)\n",
            " |      Conjugate is a no-op for Reals.\n",
            " |  \n",
            " |  ----------------------------------------------------------------------\n",
            " |  Readonly properties inherited from numbers.Real:\n",
            " |  \n",
            " |  imag\n",
            " |      Real numbers have no imaginary component.\n",
            " |  \n",
            " |  real\n",
            " |      Real numbers are their real component.\n",
            "\n"
          ]
        }
      ],
      "source": [
        "help(Fraction)"
      ]
    },
    {
      "cell_type": "markdown",
      "metadata": {
        "id": "dlGeDZx5y8LW"
      },
      "source": [
        "We can create Fraction objects in a variety of ways:\n",
        "\n",
        "Using integers:"
      ]
    },
    {
      "cell_type": "code",
      "execution_count": null,
      "metadata": {
        "colab": {
          "background_save": true
        },
        "id": "YaQCeRdty4cG",
        "outputId": "aaf8ebac-a201-49de-ee52-91680cc8efba"
      },
      "outputs": [
        {
          "data": {
            "text/plain": [
              "Fraction(1, 1)"
            ]
          },
          "execution_count": 359,
          "metadata": {},
          "output_type": "execute_result"
        }
      ],
      "source": [
        "Fraction(1)"
      ]
    },
    {
      "cell_type": "code",
      "execution_count": null,
      "metadata": {
        "colab": {
          "background_save": true
        },
        "id": "MXdaPzIdzCLq",
        "outputId": "33071291-a317-4fcb-8e1f-4d49fdaa842c"
      },
      "outputs": [
        {
          "data": {
            "text/plain": [
              "Fraction(1, 3)"
            ]
          },
          "execution_count": 360,
          "metadata": {},
          "output_type": "execute_result"
        }
      ],
      "source": [
        "Fraction(1, 3)"
      ]
    },
    {
      "cell_type": "markdown",
      "metadata": {
        "id": "XAYdYfrwzEUP"
      },
      "source": [
        "Using rational numbers:"
      ]
    },
    {
      "cell_type": "code",
      "execution_count": null,
      "metadata": {
        "colab": {
          "background_save": true
        },
        "id": "yzXOoACvzDrx",
        "outputId": "fa003a39-0662-440e-d4ac-1e1751a90888"
      },
      "outputs": [
        {
          "data": {
            "text/plain": [
              "Fraction(8, 9)"
            ]
          },
          "execution_count": 361,
          "metadata": {},
          "output_type": "execute_result"
        }
      ],
      "source": [
        "x = Fraction(2, 3)\n",
        "y = Fraction(3, 4)\n",
        "# 2/3 / 3/4 --> 2/3 * 4/3 --> 8/9\n",
        "Fraction(x, y)"
      ]
    },
    {
      "cell_type": "markdown",
      "metadata": {
        "id": "xup7asjSzgub"
      },
      "source": [
        "Using floats:"
      ]
    },
    {
      "cell_type": "code",
      "execution_count": null,
      "metadata": {
        "colab": {
          "background_save": true
        },
        "id": "-014wIRFzfMA",
        "outputId": "47b2e015-1c13-43d3-a2fc-d6a74dac0b25"
      },
      "outputs": [
        {
          "data": {
            "text/plain": [
              "Fraction(1, 8)"
            ]
          },
          "execution_count": 362,
          "metadata": {},
          "output_type": "execute_result"
        }
      ],
      "source": [
        "Fraction(0.125)"
      ]
    },
    {
      "cell_type": "code",
      "execution_count": null,
      "metadata": {
        "colab": {
          "background_save": true
        },
        "id": "TsFolcCpzkjW",
        "outputId": "0d30f323-e5ff-42de-caf8-39769d412c83"
      },
      "outputs": [
        {
          "data": {
            "text/plain": [
              "Fraction(1, 2)"
            ]
          },
          "execution_count": 363,
          "metadata": {},
          "output_type": "execute_result"
        }
      ],
      "source": [
        "Fraction(0.5)"
      ]
    },
    {
      "cell_type": "markdown",
      "metadata": {
        "id": "i8D5WCQqznVG"
      },
      "source": [
        "Using strings:"
      ]
    },
    {
      "cell_type": "code",
      "execution_count": null,
      "metadata": {
        "colab": {
          "background_save": true
        },
        "id": "1H_-GcZazmmo",
        "outputId": "d27b5f82-753c-4cef-dcaf-3ece829a66fa"
      },
      "outputs": [
        {
          "data": {
            "text/plain": [
              "Fraction(21, 2)"
            ]
          },
          "execution_count": 364,
          "metadata": {},
          "output_type": "execute_result"
        }
      ],
      "source": [
        "Fraction('10.5')"
      ]
    },
    {
      "cell_type": "code",
      "execution_count": null,
      "metadata": {
        "colab": {
          "background_save": true
        },
        "id": "kx-I562Mztnp",
        "outputId": "0a396233-d056-4795-dd59-cac01e0a6dc1"
      },
      "outputs": [
        {
          "data": {
            "text/plain": [
              "Fraction(22, 7)"
            ]
          },
          "execution_count": 365,
          "metadata": {},
          "output_type": "execute_result"
        }
      ],
      "source": [
        "Fraction('22/7')"
      ]
    },
    {
      "cell_type": "markdown",
      "metadata": {
        "id": "wCW9_OoYzxwU"
      },
      "source": [
        "Fractions are automatically reduced:"
      ]
    },
    {
      "cell_type": "code",
      "execution_count": null,
      "metadata": {
        "colab": {
          "background_save": true
        },
        "id": "KxveDPFPzwCW",
        "outputId": "20df08c2-d369-48eb-bdeb-73e6343251c7"
      },
      "outputs": [
        {
          "data": {
            "text/plain": [
              "Fraction(1, 2)"
            ]
          },
          "execution_count": 366,
          "metadata": {},
          "output_type": "execute_result"
        }
      ],
      "source": [
        "Fraction(8, 16)"
      ]
    },
    {
      "cell_type": "markdown",
      "metadata": {
        "id": "sFs-KxShz5-p"
      },
      "source": [
        "Negative sign is attached to the numerator:"
      ]
    },
    {
      "cell_type": "code",
      "execution_count": null,
      "metadata": {
        "colab": {
          "background_save": true
        },
        "id": "-yi9cPOcz5G3",
        "outputId": "50120367-1c80-42ce-b320-a37ffc80c025"
      },
      "outputs": [
        {
          "data": {
            "text/plain": [
              "Fraction(-1, 4)"
            ]
          },
          "execution_count": 367,
          "metadata": {},
          "output_type": "execute_result"
        }
      ],
      "source": [
        "Fraction(-1, 4)"
      ]
    },
    {
      "cell_type": "markdown",
      "metadata": {
        "id": "7iXshp7w0BCb"
      },
      "source": [
        "Standard arithmetic operators are supported:"
      ]
    },
    {
      "cell_type": "code",
      "execution_count": null,
      "metadata": {
        "colab": {
          "background_save": true
        },
        "id": "p3FyQUM30ARd",
        "outputId": "9fa99b6a-72cf-4d22-a2c3-e40a5d86bf99"
      },
      "outputs": [
        {
          "data": {
            "text/plain": [
              "Fraction(1, 1)"
            ]
          },
          "execution_count": 368,
          "metadata": {},
          "output_type": "execute_result"
        }
      ],
      "source": [
        "Fraction(1, 3) + Fraction(1, 3) + Fraction(1, 3)"
      ]
    },
    {
      "cell_type": "code",
      "execution_count": null,
      "metadata": {
        "colab": {
          "background_save": true
        },
        "id": "80_Sj3HS0ZLo",
        "outputId": "9f913e3f-7455-48d6-a564-156a76bf1669"
      },
      "outputs": [
        {
          "data": {
            "text/plain": [
              "Fraction(1, 8)"
            ]
          },
          "execution_count": 369,
          "metadata": {},
          "output_type": "execute_result"
        }
      ],
      "source": [
        "Fraction(1, 2) * Fraction(1, 4)"
      ]
    },
    {
      "cell_type": "code",
      "execution_count": null,
      "metadata": {
        "colab": {
          "background_save": true
        },
        "id": "ALQrpu-z0XpZ",
        "outputId": "561be7cb-db50-4c38-979e-30ff09186a30"
      },
      "outputs": [
        {
          "data": {
            "text/plain": [
              "Fraction(3, 2)"
            ]
          },
          "execution_count": 370,
          "metadata": {},
          "output_type": "execute_result"
        }
      ],
      "source": [
        "Fraction(1, 2) / Fraction(1, 3)"
      ]
    },
    {
      "cell_type": "markdown",
      "metadata": {
        "id": "IApUxIs30o94"
      },
      "source": [
        "We can recover the numerator and denominator (integers):"
      ]
    },
    {
      "cell_type": "code",
      "execution_count": null,
      "metadata": {
        "colab": {
          "background_save": true
        },
        "id": "nHlZVC7R0nnf",
        "outputId": "cefcf5e9-7f8e-428e-8413-48dd609dfddf"
      },
      "outputs": [
        {
          "name": "stdout",
          "output_type": "stream",
          "text": [
            "22\n",
            "7\n"
          ]
        }
      ],
      "source": [
        "x = Fraction(22, 7)\n",
        "print(x.numerator)\n",
        "print(x.denominator)"
      ]
    },
    {
      "cell_type": "markdown",
      "metadata": {
        "id": "yV50Oyqy0ssu"
      },
      "source": [
        "Since floats have finite precision, any float can be convertted to a rational number:"
      ]
    },
    {
      "cell_type": "code",
      "execution_count": null,
      "metadata": {
        "colab": {
          "background_save": true
        },
        "id": "2QkFOHku07ZK",
        "outputId": "b4b19cd6-398d-434f-f07c-5fbecc89f9f6"
      },
      "outputs": [
        {
          "name": "stdout",
          "output_type": "stream",
          "text": [
            "884279719003555/281474976710656\n",
            "3.141592653589793\n"
          ]
        }
      ],
      "source": [
        "import math\n",
        "x = Fraction(math.pi)\n",
        "print(x)\n",
        "print(float(x))"
      ]
    },
    {
      "cell_type": "code",
      "execution_count": null,
      "metadata": {
        "colab": {
          "background_save": true
        },
        "id": "UupkLYvR1AhT",
        "outputId": "40c9212e-d40e-41c9-d14b-7481cd5d0f5a"
      },
      "outputs": [
        {
          "name": "stdout",
          "output_type": "stream",
          "text": [
            "6369051672525773/4503599627370496\n"
          ]
        }
      ],
      "source": [
        "x = Fraction(math.sqrt(2))\n",
        "print(x)"
      ]
    },
    {
      "cell_type": "markdown",
      "metadata": {
        "id": "a7sqb6w01JLw"
      },
      "source": [
        "\n",
        "\n",
        "---\n",
        "\n",
        "**BE CAREFUL!**"
      ]
    },
    {
      "cell_type": "markdown",
      "metadata": {
        "id": "ZRYaK3Dk1MsW"
      },
      "source": [
        "*Note that these rational values are approximations to the irrational number `pi` and `sqrt(2)`*\n",
        "\n",
        "*Float number representations (as we will examine in future lessons) do not always have an exact representation.*\n",
        "\n",
        "*The number 0.125 (1/8) has an exact representation:*"
      ]
    },
    {
      "cell_type": "code",
      "execution_count": null,
      "metadata": {
        "colab": {
          "background_save": true
        },
        "id": "j3YKTfFF1GOv",
        "outputId": "10b649a3-f15a-45c0-d5dd-3e703b708d94"
      },
      "outputs": [
        {
          "data": {
            "text/plain": [
              "Fraction(1, 8)"
            ]
          },
          "execution_count": 374,
          "metadata": {},
          "output_type": "execute_result"
        }
      ],
      "source": [
        "Fraction(0.125)"
      ]
    },
    {
      "cell_type": "markdown",
      "metadata": {
        "id": "Ty5X-5221pEx"
      },
      "source": [
        "*and so we see the expected equivalent fraction.*\n",
        "\n",
        "*But, 0.3 (3/10) does not have an exact representation:*"
      ]
    },
    {
      "cell_type": "code",
      "execution_count": null,
      "metadata": {
        "colab": {
          "background_save": true
        },
        "id": "WZtX3UPk1oTg",
        "outputId": "3b90f0d3-1d2c-4c92-e34d-39a67b046bdd"
      },
      "outputs": [
        {
          "data": {
            "text/plain": [
              "Fraction(3, 10)"
            ]
          },
          "execution_count": 375,
          "metadata": {},
          "output_type": "execute_result"
        }
      ],
      "source": [
        "Fraction(3, 10)"
      ]
    },
    {
      "cell_type": "markdown",
      "metadata": {
        "id": "Uu_P2Pu61zlK"
      },
      "source": [
        "*but*"
      ]
    },
    {
      "cell_type": "code",
      "execution_count": null,
      "metadata": {
        "colab": {
          "background_save": true
        },
        "id": "6s37RrTN10jO",
        "outputId": "79d14fe8-6f8c-47d0-a959-6d82687039c1"
      },
      "outputs": [
        {
          "data": {
            "text/plain": [
              "Fraction(5404319552844595, 18014398509481984)"
            ]
          },
          "execution_count": 376,
          "metadata": {},
          "output_type": "execute_result"
        }
      ],
      "source": [
        "Fraction(0.3)"
      ]
    },
    {
      "cell_type": "markdown",
      "metadata": {
        "id": "KIh9lUSn3POL"
      },
      "source": [
        "\n",
        "\n",
        "---\n",
        "\n"
      ]
    },
    {
      "cell_type": "markdown",
      "metadata": {
        "id": "KW2TYuuK16Gc"
      },
      "source": [
        "We will study this in upcoming lessons.\n",
        "\n",
        "Bur for now, let's just see a quick explanation:"
      ]
    },
    {
      "cell_type": "code",
      "execution_count": null,
      "metadata": {
        "colab": {
          "background_save": true
        },
        "id": "PEmLsqBc1y3S"
      },
      "outputs": [],
      "source": [
        "x = 0.3"
      ]
    },
    {
      "cell_type": "code",
      "execution_count": null,
      "metadata": {
        "colab": {
          "background_save": true
        },
        "id": "uD5FBQeP2Ay6",
        "outputId": "32d79894-7c43-4c83-a415-76a1d4e93ae7"
      },
      "outputs": [
        {
          "name": "stdout",
          "output_type": "stream",
          "text": [
            "0.3\n"
          ]
        }
      ],
      "source": [
        "print(x)"
      ]
    },
    {
      "cell_type": "markdown",
      "metadata": {
        "id": "aQQkPcWz2CR1"
      },
      "source": [
        "Everything looks ok here - why am I saying 0.3 (float) is just an approximation?\n",
        "\n",
        "Python is trying to format the displayed value for readability - so it rounds the number for a better display format!\n",
        "\n",
        "We can instead choose to display the value using a certain number of digits:"
      ]
    },
    {
      "cell_type": "code",
      "execution_count": null,
      "metadata": {
        "colab": {
          "background_save": true
        },
        "id": "dhqhB_hY2BXo",
        "outputId": "36d64d82-a223-4600-86b1-89ea26770072"
      },
      "outputs": [
        {
          "data": {
            "text/plain": [
              "'0.30000'"
            ]
          },
          "execution_count": 379,
          "metadata": {},
          "output_type": "execute_result"
        }
      ],
      "source": [
        "format(x, '.5f')"
      ]
    },
    {
      "cell_type": "markdown",
      "metadata": {
        "id": "JQtVgRvP2hnB"
      },
      "source": [
        "At 5 digits after the decimal, we might still think 0.3 is an exact representation.\n",
        "\n",
        "But let's display a few more digits:"
      ]
    },
    {
      "cell_type": "code",
      "execution_count": null,
      "metadata": {
        "colab": {
          "background_save": true
        },
        "id": "fhPpuSEl2d__",
        "outputId": "a614a888-5510-4ac4-e459-df09a919f6df"
      },
      "outputs": [
        {
          "data": {
            "text/plain": [
              "'0.300000000000000'"
            ]
          },
          "execution_count": 380,
          "metadata": {},
          "output_type": "execute_result"
        }
      ],
      "source": [
        "format(x, '.15f')"
      ]
    },
    {
      "cell_type": "markdown",
      "metadata": {
        "id": "Sn9kFbl_351a"
      },
      "source": [
        "\n",
        "\n",
        "---\n",
        "**BE CAREFUL!**\n"
      ]
    },
    {
      "cell_type": "markdown",
      "metadata": {
        "id": "2jpH7x6S2wFO"
      },
      "source": [
        "*Hmm... 15 digits and still looking good!*\n",
        "\n",
        "*How about 25 digits...*"
      ]
    },
    {
      "cell_type": "code",
      "execution_count": null,
      "metadata": {
        "colab": {
          "background_save": true
        },
        "id": "6NBd31Uj2vWI",
        "outputId": "c31d9fcd-55ec-444c-f209-094c1e33de6d"
      },
      "outputs": [
        {
          "data": {
            "text/plain": [
              "'0.2999999999999999888977698'"
            ]
          },
          "execution_count": 381,
          "metadata": {},
          "output_type": "execute_result"
        }
      ],
      "source": [
        "format(x, '.25f')"
      ]
    },
    {
      "cell_type": "markdown",
      "metadata": {
        "id": "3V5O0KwI3_PA"
      },
      "source": [
        "\n",
        "\n",
        "---\n",
        "\n"
      ]
    },
    {
      "cell_type": "markdown",
      "metadata": {
        "id": "SXDG5fjf4F9t"
      },
      "source": [
        "Now we see that `x` is not quite 0.3...\n",
        "\n",
        "In fact, we can quantify the delta this way:"
      ]
    },
    {
      "cell_type": "code",
      "execution_count": null,
      "metadata": {
        "colab": {
          "background_save": true
        },
        "id": "d-BFJiZ13-9b"
      },
      "outputs": [],
      "source": [
        "delta = Fraction(0.3) - Fraction(3, 10)"
      ]
    },
    {
      "cell_type": "markdown",
      "metadata": {
        "id": "59gDqH6J4SB6"
      },
      "source": [
        "Theoretically, delta should be 0, but it's not:"
      ]
    },
    {
      "cell_type": "code",
      "execution_count": null,
      "metadata": {
        "colab": {
          "background_save": true
        },
        "id": "I9Q2y_jM2-lX",
        "outputId": "256376dd-2358-4dc1-876e-971b78e2f150"
      },
      "outputs": [
        {
          "data": {
            "text/plain": [
              "False"
            ]
          },
          "execution_count": 383,
          "metadata": {},
          "output_type": "execute_result"
        }
      ],
      "source": [
        "delta == 0"
      ]
    },
    {
      "cell_type": "code",
      "execution_count": null,
      "metadata": {
        "colab": {
          "background_save": true
        },
        "id": "8Ra3HNjP4XTS",
        "outputId": "2f967829-cefa-4dc4-e567-8966aa955568"
      },
      "outputs": [
        {
          "data": {
            "text/plain": [
              "Fraction(-1, 90071992547409920)"
            ]
          },
          "execution_count": 384,
          "metadata": {},
          "output_type": "execute_result"
        }
      ],
      "source": [
        "delta"
      ]
    },
    {
      "cell_type": "markdown",
      "metadata": {
        "id": "Th9b7qIi4Zsj"
      },
      "source": [
        "`delta` is a very small number, the above fraction...\n",
        "\n",
        "As a float:"
      ]
    },
    {
      "cell_type": "code",
      "execution_count": null,
      "metadata": {
        "colab": {
          "background_save": true
        },
        "id": "_knTb6Nj4YSY",
        "outputId": "fdd1f3f0-bff2-4bb0-c6ff-5b153e55780c"
      },
      "outputs": [
        {
          "data": {
            "text/plain": [
              "-1.1102230246251566e-17"
            ]
          },
          "execution_count": 385,
          "metadata": {},
          "output_type": "execute_result"
        }
      ],
      "source": [
        "float(delta)"
      ]
    },
    {
      "cell_type": "markdown",
      "metadata": {
        "id": "-Spgyj7S5Nuf"
      },
      "source": [
        "**Constraining the denominator**"
      ]
    },
    {
      "cell_type": "code",
      "execution_count": null,
      "metadata": {
        "colab": {
          "background_save": true
        },
        "id": "KQOelMfH4fvk",
        "outputId": "98610d26-3f0b-4f36-8aab-b21288b24ac2"
      },
      "outputs": [
        {
          "name": "stdout",
          "output_type": "stream",
          "text": [
            "884279719003555/281474976710656\n",
            "3.1415926535897931159979635\n"
          ]
        }
      ],
      "source": [
        "x = Fraction(math.pi)\n",
        "print(x)\n",
        "print(format(float(x), '.25f'))"
      ]
    },
    {
      "cell_type": "code",
      "execution_count": null,
      "metadata": {
        "colab": {
          "background_save": true
        },
        "id": "lnMM2W925X-5",
        "outputId": "fa9bb5b1-2083-4867-c9e7-3c828fde688f"
      },
      "outputs": [
        {
          "name": "stdout",
          "output_type": "stream",
          "text": [
            "22/7\n",
            "3.1428571428571427937015414\n"
          ]
        }
      ],
      "source": [
        "y = x.limit_denominator(10)\n",
        "print(y)\n",
        "print(format(float(y), '.25f'))"
      ]
    },
    {
      "cell_type": "code",
      "execution_count": null,
      "metadata": {
        "colab": {
          "background_save": true
        },
        "id": "AS9ppHxz5eEz",
        "outputId": "bfb7cdbe-602a-4623-cc6f-11c4feb7b5c0"
      },
      "outputs": [
        {
          "name": "stdout",
          "output_type": "stream",
          "text": [
            "311/99\n",
            "3.1414141414141414365701621\n"
          ]
        }
      ],
      "source": [
        "y = x.limit_denominator(100)\n",
        "print(y)\n",
        "print(format(float(y), '.25f'))"
      ]
    },
    {
      "cell_type": "code",
      "execution_count": null,
      "metadata": {
        "colab": {
          "background_save": true
        },
        "id": "jR_Bn23x5kTo",
        "outputId": "f75548f6-7a2f-476e-8f20-e3aa74561604"
      },
      "outputs": [
        {
          "name": "stdout",
          "output_type": "stream",
          "text": [
            "355/113\n",
            "3.1415929203539825209645642\n"
          ]
        }
      ],
      "source": [
        "y = x.limit_denominator(500)\n",
        "print(y)\n",
        "print(format(float(y), '.25f'))"
      ]
    },
    {
      "cell_type": "markdown",
      "metadata": {
        "id": "aA-j8BAr6FXx"
      },
      "source": [
        "### 05 - Floats - Internal Representation"
      ]
    },
    {
      "cell_type": "markdown",
      "metadata": {
        "id": "PhSap1oa6KUv"
      },
      "source": [
        "The `float` class can be used to represent real numbers."
      ]
    },
    {
      "cell_type": "code",
      "execution_count": null,
      "metadata": {
        "colab": {
          "background_save": true
        },
        "id": "OyHhZlTB50e_",
        "outputId": "ec24baa1-16f1-41cf-dd4d-97f7d91b6219"
      },
      "outputs": [
        {
          "name": "stdout",
          "output_type": "stream",
          "text": [
            "Help on class float in module builtins:\n",
            "\n",
            "class float(object)\n",
            " |  float(x=0, /)\n",
            " |  \n",
            " |  Convert a string or number to a floating point number, if possible.\n",
            " |  \n",
            " |  Methods defined here:\n",
            " |  \n",
            " |  __abs__(self, /)\n",
            " |      abs(self)\n",
            " |  \n",
            " |  __add__(self, value, /)\n",
            " |      Return self+value.\n",
            " |  \n",
            " |  __bool__(self, /)\n",
            " |      True if self else False\n",
            " |  \n",
            " |  __ceil__(self, /)\n",
            " |      Return the ceiling as an Integral.\n",
            " |  \n",
            " |  __divmod__(self, value, /)\n",
            " |      Return divmod(self, value).\n",
            " |  \n",
            " |  __eq__(self, value, /)\n",
            " |      Return self==value.\n",
            " |  \n",
            " |  __float__(self, /)\n",
            " |      float(self)\n",
            " |  \n",
            " |  __floor__(self, /)\n",
            " |      Return the floor as an Integral.\n",
            " |  \n",
            " |  __floordiv__(self, value, /)\n",
            " |      Return self//value.\n",
            " |  \n",
            " |  __format__(self, format_spec, /)\n",
            " |      Formats the float according to format_spec.\n",
            " |  \n",
            " |  __ge__(self, value, /)\n",
            " |      Return self>=value.\n",
            " |  \n",
            " |  __getattribute__(self, name, /)\n",
            " |      Return getattr(self, name).\n",
            " |  \n",
            " |  __getnewargs__(self, /)\n",
            " |  \n",
            " |  __gt__(self, value, /)\n",
            " |      Return self>value.\n",
            " |  \n",
            " |  __hash__(self, /)\n",
            " |      Return hash(self).\n",
            " |  \n",
            " |  __int__(self, /)\n",
            " |      int(self)\n",
            " |  \n",
            " |  __le__(self, value, /)\n",
            " |      Return self<=value.\n",
            " |  \n",
            " |  __lt__(self, value, /)\n",
            " |      Return self<value.\n",
            " |  \n",
            " |  __mod__(self, value, /)\n",
            " |      Return self%value.\n",
            " |  \n",
            " |  __mul__(self, value, /)\n",
            " |      Return self*value.\n",
            " |  \n",
            " |  __ne__(self, value, /)\n",
            " |      Return self!=value.\n",
            " |  \n",
            " |  __neg__(self, /)\n",
            " |      -self\n",
            " |  \n",
            " |  __pos__(self, /)\n",
            " |      +self\n",
            " |  \n",
            " |  __pow__(self, value, mod=None, /)\n",
            " |      Return pow(self, value, mod).\n",
            " |  \n",
            " |  __radd__(self, value, /)\n",
            " |      Return value+self.\n",
            " |  \n",
            " |  __rdivmod__(self, value, /)\n",
            " |      Return divmod(value, self).\n",
            " |  \n",
            " |  __repr__(self, /)\n",
            " |      Return repr(self).\n",
            " |  \n",
            " |  __rfloordiv__(self, value, /)\n",
            " |      Return value//self.\n",
            " |  \n",
            " |  __rmod__(self, value, /)\n",
            " |      Return value%self.\n",
            " |  \n",
            " |  __rmul__(self, value, /)\n",
            " |      Return value*self.\n",
            " |  \n",
            " |  __round__(self, ndigits=None, /)\n",
            " |      Return the Integral closest to x, rounding half toward even.\n",
            " |      \n",
            " |      When an argument is passed, work like built-in round(x, ndigits).\n",
            " |  \n",
            " |  __rpow__(self, value, mod=None, /)\n",
            " |      Return pow(value, self, mod).\n",
            " |  \n",
            " |  __rsub__(self, value, /)\n",
            " |      Return value-self.\n",
            " |  \n",
            " |  __rtruediv__(self, value, /)\n",
            " |      Return value/self.\n",
            " |  \n",
            " |  __sub__(self, value, /)\n",
            " |      Return self-value.\n",
            " |  \n",
            " |  __truediv__(self, value, /)\n",
            " |      Return self/value.\n",
            " |  \n",
            " |  __trunc__(self, /)\n",
            " |      Return the Integral closest to x between 0 and x.\n",
            " |  \n",
            " |  as_integer_ratio(self, /)\n",
            " |      Return integer ratio.\n",
            " |      \n",
            " |      Return a pair of integers, whose ratio is exactly equal to the original float\n",
            " |      and with a positive denominator.\n",
            " |      \n",
            " |      Raise OverflowError on infinities and a ValueError on NaNs.\n",
            " |      \n",
            " |      >>> (10.0).as_integer_ratio()\n",
            " |      (10, 1)\n",
            " |      >>> (0.0).as_integer_ratio()\n",
            " |      (0, 1)\n",
            " |      >>> (-.25).as_integer_ratio()\n",
            " |      (-1, 4)\n",
            " |  \n",
            " |  conjugate(self, /)\n",
            " |      Return self, the complex conjugate of any float.\n",
            " |  \n",
            " |  hex(self, /)\n",
            " |      Return a hexadecimal representation of a floating-point number.\n",
            " |      \n",
            " |      >>> (-0.1).hex()\n",
            " |      '-0x1.999999999999ap-4'\n",
            " |      >>> 3.14159.hex()\n",
            " |      '0x1.921f9f01b866ep+1'\n",
            " |  \n",
            " |  is_integer(self, /)\n",
            " |      Return True if the float is an integer.\n",
            " |  \n",
            " |  ----------------------------------------------------------------------\n",
            " |  Class methods defined here:\n",
            " |  \n",
            " |  __getformat__(typestr, /) from builtins.type\n",
            " |      You probably don't want to use this function.\n",
            " |      \n",
            " |        typestr\n",
            " |          Must be 'double' or 'float'.\n",
            " |      \n",
            " |      It exists mainly to be used in Python's test suite.\n",
            " |      \n",
            " |      This function returns whichever of 'unknown', 'IEEE, big-endian' or 'IEEE,\n",
            " |      little-endian' best describes the format of floating point numbers used by the\n",
            " |      C type named by typestr.\n",
            " |  \n",
            " |  __setformat__(typestr, fmt, /) from builtins.type\n",
            " |      You probably don't want to use this function.\n",
            " |      \n",
            " |        typestr\n",
            " |          Must be 'double' or 'float'.\n",
            " |        fmt\n",
            " |          Must be one of 'unknown', 'IEEE, big-endian' or 'IEEE, little-endian',\n",
            " |          and in addition can only be one of the latter two if it appears to\n",
            " |          match the underlying C reality.\n",
            " |      \n",
            " |      It exists mainly to be used in Python's test suite.\n",
            " |      \n",
            " |      Override the automatic determination of C-level floating point type.\n",
            " |      This affects how floats are converted to and from binary strings.\n",
            " |  \n",
            " |  fromhex(string, /) from builtins.type\n",
            " |      Create a floating-point number from a hexadecimal string.\n",
            " |      \n",
            " |      >>> float.fromhex('0x1.ffffp10')\n",
            " |      2047.984375\n",
            " |      >>> float.fromhex('-0x1p-1074')\n",
            " |      -5e-324\n",
            " |  \n",
            " |  ----------------------------------------------------------------------\n",
            " |  Static methods defined here:\n",
            " |  \n",
            " |  __new__(*args, **kwargs) from builtins.type\n",
            " |      Create and return a new object.  See help(type) for accurate signature.\n",
            " |  \n",
            " |  ----------------------------------------------------------------------\n",
            " |  Data descriptors defined here:\n",
            " |  \n",
            " |  imag\n",
            " |      the imaginary part of a complex number\n",
            " |  \n",
            " |  real\n",
            " |      the real part of a complex number\n",
            "\n"
          ]
        }
      ],
      "source": [
        "help(float)"
      ]
    },
    {
      "cell_type": "markdown",
      "metadata": {
        "id": "P3vO-B55F-JN"
      },
      "source": [
        "The `float` class has a single constructor, which can take a number or a string and will attempt to convert it to a float."
      ]
    },
    {
      "cell_type": "code",
      "execution_count": null,
      "metadata": {
        "colab": {
          "background_save": true
        },
        "id": "xMmhAARn6XCA",
        "outputId": "520832ba-272a-42f0-cde6-2a181f8957c7"
      },
      "outputs": [
        {
          "data": {
            "text/plain": [
              "10.0"
            ]
          },
          "execution_count": 391,
          "metadata": {},
          "output_type": "execute_result"
        }
      ],
      "source": [
        "float(10)"
      ]
    },
    {
      "cell_type": "code",
      "execution_count": null,
      "metadata": {
        "colab": {
          "background_save": true
        },
        "id": "4j8ZS1kpGJBo",
        "outputId": "65f714cd-a799-4ff7-d73f-95ae6f4f8f88"
      },
      "outputs": [
        {
          "data": {
            "text/plain": [
              "3.14"
            ]
          },
          "execution_count": 392,
          "metadata": {},
          "output_type": "execute_result"
        }
      ],
      "source": [
        "float(3.14)"
      ]
    },
    {
      "cell_type": "code",
      "execution_count": null,
      "metadata": {
        "colab": {
          "background_save": true
        },
        "id": "DtMgdni_GKYv",
        "outputId": "ebb58f30-4eae-42da-f1f3-c072bb354e01"
      },
      "outputs": [
        {
          "data": {
            "text/plain": [
              "0.1"
            ]
          },
          "execution_count": 393,
          "metadata": {},
          "output_type": "execute_result"
        }
      ],
      "source": [
        "float('0.1')"
      ]
    },
    {
      "cell_type": "markdown",
      "metadata": {
        "id": "bZl21O6vGj_q"
      },
      "source": [
        "\n",
        "\n",
        "---\n",
        "\n",
        "**BE CAREFUL**"
      ]
    },
    {
      "cell_type": "markdown",
      "metadata": {
        "id": "qksByV54GM-w"
      },
      "source": [
        "*However, strings that represent fractions cannot be converted to floats, unlike the Fraction class we saw earlier.*"
      ]
    },
    {
      "cell_type": "code",
      "execution_count": null,
      "metadata": {
        "colab": {
          "background_save": true
        },
        "id": "C7Km2DQ7GL8j",
        "outputId": "55bfa904-f327-4542-d456-a6c80bea7e99"
      },
      "outputs": [
        {
          "ename": "ValueError",
          "evalue": "could not convert string to float: '22/7'",
          "output_type": "error",
          "traceback": [
            "\u001b[1;31m---------------------------------------------------------------------------\u001b[0m",
            "\u001b[1;31mValueError\u001b[0m                                Traceback (most recent call last)",
            "Input \u001b[1;32mIn [394]\u001b[0m, in \u001b[0;36m<cell line: 1>\u001b[1;34m()\u001b[0m\n\u001b[1;32m----> 1\u001b[0m \u001b[38;5;28;43mfloat\u001b[39;49m\u001b[43m(\u001b[49m\u001b[38;5;124;43m'\u001b[39;49m\u001b[38;5;124;43m22/7\u001b[39;49m\u001b[38;5;124;43m'\u001b[39;49m\u001b[43m)\u001b[49m\n",
            "\u001b[1;31mValueError\u001b[0m: could not convert string to float: '22/7'"
          ]
        }
      ],
      "source": [
        "float('22/7')"
      ]
    },
    {
      "cell_type": "markdown",
      "metadata": {
        "id": "kqG7xrDuGpc8"
      },
      "source": [
        "*If you really want to get a float from a string such as `'22/7'`, you could first create a `Fraction`, then create a `float` from that:*"
      ]
    },
    {
      "cell_type": "code",
      "execution_count": null,
      "metadata": {
        "colab": {
          "background_save": true
        },
        "id": "aL1-DUbEGfDO"
      },
      "outputs": [],
      "source": [
        "from fractions import Fraction"
      ]
    },
    {
      "cell_type": "code",
      "execution_count": null,
      "metadata": {
        "colab": {
          "background_save": true
        },
        "id": "8aNdED0cG7s5",
        "outputId": "03dc7109-3480-4bc0-a1ce-46bee93ebdaa"
      },
      "outputs": [
        {
          "data": {
            "text/plain": [
              "3.142857142857143"
            ]
          },
          "execution_count": 396,
          "metadata": {},
          "output_type": "execute_result"
        }
      ],
      "source": [
        "float(Fraction('22/7'))"
      ]
    },
    {
      "cell_type": "markdown",
      "metadata": {
        "id": "AYdJe1G0G_rm"
      },
      "source": [
        "*Floats do not always have an exact representation:*"
      ]
    },
    {
      "cell_type": "code",
      "execution_count": null,
      "metadata": {
        "colab": {
          "background_save": true
        },
        "id": "MB-JZ0WQG-Lg",
        "outputId": "beea6714-2f63-4190-b1b1-599c40cfa690"
      },
      "outputs": [
        {
          "name": "stdout",
          "output_type": "stream",
          "text": [
            "0.1\n"
          ]
        }
      ],
      "source": [
        "print(0.1)"
      ]
    },
    {
      "cell_type": "markdown",
      "metadata": {
        "id": "J3kh9wOJHIWB"
      },
      "source": [
        "*Although this looks like `0.1` exactly, we need to reveal more digits after the decimal point to see what's going on:*"
      ]
    },
    {
      "cell_type": "code",
      "execution_count": null,
      "metadata": {
        "colab": {
          "background_save": true
        },
        "id": "VXpeYhm_HEg_",
        "outputId": "24050850-e653-4c11-8a6f-cf265dd386de"
      },
      "outputs": [
        {
          "data": {
            "text/plain": [
              "'0.1000000000000000055511151'"
            ]
          },
          "execution_count": 398,
          "metadata": {},
          "output_type": "execute_result"
        }
      ],
      "source": [
        "format(0.1, '.25f')"
      ]
    },
    {
      "cell_type": "markdown",
      "metadata": {
        "id": "c-30r9oTHVuX"
      },
      "source": [
        "*However, certain numbers can be represented exactly in a binary fraction expansion:*"
      ]
    },
    {
      "cell_type": "code",
      "execution_count": null,
      "metadata": {
        "colab": {
          "background_save": true
        },
        "id": "YH_oItAaHUvU",
        "outputId": "f5c472cc-8a51-44ed-b41d-87ee370d0d2f"
      },
      "outputs": [
        {
          "data": {
            "text/plain": [
              "'0.1250000000000000000000000'"
            ]
          },
          "execution_count": 399,
          "metadata": {},
          "output_type": "execute_result"
        }
      ],
      "source": [
        "format(0.125, '.25f')"
      ]
    },
    {
      "cell_type": "markdown",
      "metadata": {
        "id": "QH89oSpKHf0e"
      },
      "source": [
        "*This is because 0.125 is precisely 1/8 or 1/(2^3)*"
      ]
    },
    {
      "cell_type": "markdown",
      "metadata": {
        "id": "c7UStlopHtVx"
      },
      "source": [
        "\n",
        "\n",
        "---\n",
        "\n"
      ]
    },
    {
      "cell_type": "markdown",
      "metadata": {
        "id": "BlCWyCD1sTG5"
      },
      "source": [
        "### 06 - Floats - Equality Testing"
      ]
    },
    {
      "cell_type": "markdown",
      "metadata": {
        "id": "zFg7HwoBsYMp"
      },
      "source": [
        "Because not all real numbers have an exact `float` representation, equality testing can be tricky."
      ]
    },
    {
      "cell_type": "code",
      "execution_count": null,
      "metadata": {
        "colab": {
          "background_save": true
        },
        "id": "FFPUmG8vHk7V",
        "outputId": "9d5e56c4-3e09-4432-ffae-b8a5e9a023fc"
      },
      "outputs": [
        {
          "data": {
            "text/plain": [
              "False"
            ]
          },
          "execution_count": 400,
          "metadata": {},
          "output_type": "execute_result"
        }
      ],
      "source": [
        "x = 0.1 + 0.1 + 0.1\n",
        "y = 0.3\n",
        "x == y"
      ]
    },
    {
      "cell_type": "markdown",
      "metadata": {
        "id": "ukT_0zk4sntV"
      },
      "source": [
        "This is because `0.1` and `0.3` do not have exact representations:"
      ]
    },
    {
      "cell_type": "code",
      "execution_count": null,
      "metadata": {
        "colab": {
          "background_save": true
        },
        "id": "UGsFmKErsmyJ",
        "outputId": "0422ec4a-9ac8-4e10-9980-19b0cc1d7e7c"
      },
      "outputs": [
        {
          "name": "stdout",
          "output_type": "stream",
          "text": [
            "0.1 --> 0.1000000000000000055511151\n",
            "x --> 0.3000000000000000444089210\n",
            "y --> 0.2999999999999999888977698\n"
          ]
        }
      ],
      "source": [
        "print('0.1 --> {0:.25f}'.format(0.1))\n",
        "print('x --> {0:.25f}'.format(x))\n",
        "print('y --> {0:.25f}'.format(y))"
      ]
    },
    {
      "cell_type": "markdown",
      "metadata": {
        "id": "4sP0dbwOtBwp"
      },
      "source": [
        "However, in some (limited) cases where all the numbers involved do have an exact representation, it will work:"
      ]
    },
    {
      "cell_type": "code",
      "execution_count": null,
      "metadata": {
        "colab": {
          "background_save": true
        },
        "id": "hRNIAturs-2V",
        "outputId": "49fbe9ba-8b17-4d9d-f6f3-203fe111e98a"
      },
      "outputs": [
        {
          "data": {
            "text/plain": [
              "True"
            ]
          },
          "execution_count": 402,
          "metadata": {},
          "output_type": "execute_result"
        }
      ],
      "source": [
        "x = 0.125 + 0.125 + 0.125\n",
        "y = 0.375\n",
        "x == y"
      ]
    },
    {
      "cell_type": "code",
      "execution_count": null,
      "metadata": {
        "colab": {
          "background_save": true
        },
        "id": "1qXUvyfBtMQx",
        "outputId": "59a6c1c1-d7af-41fb-8547-793f5c943eb0"
      },
      "outputs": [
        {
          "name": "stdout",
          "output_type": "stream",
          "text": [
            "0.125 --> 0.1250000000000000000000000\n",
            "x --> 0.3750000000000000000000000\n",
            "y --> 0.3750000000000000000000000\n"
          ]
        }
      ],
      "source": [
        "print('0.125 --> {0:.25f}'.format(0.125))\n",
        "print('x --> {0:.25f}'.format(x))\n",
        "print('y --> {0:.25f}'.format(y))"
      ]
    },
    {
      "cell_type": "markdown",
      "metadata": {
        "id": "dChh4oXxthlS"
      },
      "source": [
        "One simple way to get around this is to round to a specific number of digits and then compare."
      ]
    },
    {
      "cell_type": "code",
      "execution_count": null,
      "metadata": {
        "colab": {
          "background_save": true
        },
        "id": "vodSdcAItgeB",
        "outputId": "448d2cff-f4eb-465b-d726-370255c99523"
      },
      "outputs": [
        {
          "data": {
            "text/plain": [
              "True"
            ]
          },
          "execution_count": 404,
          "metadata": {},
          "output_type": "execute_result"
        }
      ],
      "source": [
        "x = 0.1 + 0.1 + 0.1\n",
        "y = 0.3\n",
        "round(x, 5) == round(y, 5)"
      ]
    },
    {
      "cell_type": "markdown",
      "metadata": {
        "id": "S23Qb553twQE"
      },
      "source": [
        "We can also use a more flexible technique implemented by the `isclose` method in the `math` module."
      ]
    },
    {
      "cell_type": "code",
      "execution_count": null,
      "metadata": {
        "colab": {
          "background_save": true
        },
        "id": "hsNyTmzRtvcG"
      },
      "outputs": [],
      "source": [
        "from math import isclose"
      ]
    },
    {
      "cell_type": "code",
      "execution_count": null,
      "metadata": {
        "colab": {
          "background_save": true
        },
        "id": "EXtHEyPqt8fX",
        "outputId": "60d49a15-2a23-411c-8ea1-6bde2ec56e94"
      },
      "outputs": [
        {
          "name": "stdout",
          "output_type": "stream",
          "text": [
            "Help on built-in function isclose in module math:\n",
            "\n",
            "isclose(a, b, *, rel_tol=1e-09, abs_tol=0.0)\n",
            "    Determine whether two floating point numbers are close in value.\n",
            "    \n",
            "      rel_tol\n",
            "        maximum difference for being considered \"close\", relative to the\n",
            "        magnitude of the input values\n",
            "      abs_tol\n",
            "        maximum difference for being considered \"close\", regardless of the\n",
            "        magnitude of the input values\n",
            "    \n",
            "    Return True if a is close in value to b, and False otherwise.\n",
            "    \n",
            "    For the values to be considered close, the difference between them\n",
            "    must be smaller than at least one of the tolerances.\n",
            "    \n",
            "    -inf, inf and NaN behave similarly to the IEEE 754 Standard.  That\n",
            "    is, NaN is not close to anything, even itself.  inf and -inf are\n",
            "    only close to themselves.\n",
            "\n"
          ]
        }
      ],
      "source": [
        "help(isclose)"
      ]
    },
    {
      "cell_type": "code",
      "execution_count": null,
      "metadata": {
        "colab": {
          "background_save": true
        },
        "id": "AjORw4qQt9dL",
        "outputId": "2fe310b3-41e2-4b15-adea-f4a87d13e4eb"
      },
      "outputs": [
        {
          "data": {
            "text/plain": [
              "True"
            ]
          },
          "execution_count": 407,
          "metadata": {},
          "output_type": "execute_result"
        }
      ],
      "source": [
        "x = 0.1 + 0.1 + 0.1\n",
        "y = 0.3\n",
        "isclose(x, y)"
      ]
    },
    {
      "cell_type": "markdown",
      "metadata": {
        "id": "kTSD4o_LuT-d"
      },
      "source": [
        "The `isclose` method takes two optional parameters, `rel_tol` and `abs_tol`.\n",
        "\n",
        "`rel_tol` is a relative tolerance that will be relative to the magnitude of the largest of the two numbers being compared. Useful when we want to see if two numbers are close to each other as a percentage of their magnitudes.\n",
        "\n",
        "`abs_tol` is an absolute tolerance that is independent of the magnitunde of the numbers we are compairing - this is useful for numbers that are close to zero.\n",
        "\n",
        "In this situation we might consider x and y to be close to each other:"
      ]
    },
    {
      "cell_type": "code",
      "execution_count": null,
      "metadata": {
        "colab": {
          "background_save": true
        },
        "id": "DPl_dT3luGne"
      },
      "outputs": [],
      "source": [
        "x = 123456789.01\n",
        "y = 123456780.02"
      ]
    },
    {
      "cell_type": "markdown",
      "metadata": {
        "id": "sNBid8CAvKq9"
      },
      "source": [
        "but not in this case:"
      ]
    },
    {
      "cell_type": "code",
      "execution_count": null,
      "metadata": {
        "colab": {
          "background_save": true
        },
        "id": "o47xLuKvvKIj"
      },
      "outputs": [],
      "source": [
        "x = 0.01\n",
        "y = 0.02"
      ]
    },
    {
      "cell_type": "markdown",
      "metadata": {
        "id": "DLd5632ivTzT"
      },
      "source": [
        "In both these cases the difference between the two numbers was `0.01`, yet in one case we considered the numvers \"equal\" and in the other, not \"equal\". Realtive tomerances are useful to handle thse scenarios."
      ]
    },
    {
      "cell_type": "code",
      "execution_count": null,
      "metadata": {
        "colab": {
          "background_save": true
        },
        "id": "D-HbQGvBvPV5",
        "outputId": "7ec5f37d-a8a0-4898-cdee-f24b1a0a96cf"
      },
      "outputs": [
        {
          "data": {
            "text/plain": [
              "True"
            ]
          },
          "execution_count": 410,
          "metadata": {},
          "output_type": "execute_result"
        }
      ],
      "source": [
        "isclose(123456789.01, 123456789.02, rel_tol=0.01)"
      ]
    },
    {
      "cell_type": "code",
      "execution_count": null,
      "metadata": {
        "colab": {
          "background_save": true
        },
        "id": "-S2t3sTCv02n",
        "outputId": "ff7869b1-adb6-425d-d3f8-5f938222b806"
      },
      "outputs": [
        {
          "data": {
            "text/plain": [
              "False"
            ]
          },
          "execution_count": 411,
          "metadata": {},
          "output_type": "execute_result"
        }
      ],
      "source": [
        "isclose(0.01, 0.02, rel_tol=0.01)"
      ]
    },
    {
      "cell_type": "markdown",
      "metadata": {
        "id": "weioBCBGv6tf"
      },
      "source": [
        "On the other hand, we have to be careful with relative tolerances when working with values that are close to zero:"
      ]
    },
    {
      "cell_type": "code",
      "execution_count": null,
      "metadata": {
        "colab": {
          "background_save": true
        },
        "id": "13LP_7FRv5sL",
        "outputId": "011e90b1-5fea-4d35-8162-52df4f54ebc2"
      },
      "outputs": [
        {
          "data": {
            "text/plain": [
              "False"
            ]
          },
          "execution_count": 412,
          "metadata": {},
          "output_type": "execute_result"
        }
      ],
      "source": [
        "x = 0.0000001\n",
        "y = 0.0000002\n",
        "isclose(x, y, rel_tol=0.01)"
      ]
    },
    {
      "cell_type": "markdown",
      "metadata": {
        "id": "z4SiQcBBwIYA"
      },
      "source": [
        "So, we could use an absolute tolerance here:"
      ]
    },
    {
      "cell_type": "code",
      "execution_count": null,
      "metadata": {
        "colab": {
          "background_save": true
        },
        "id": "i-iKERoFwHl1",
        "outputId": "5dc2f89e-96d2-404c-ecda-e1ae3f0e048b"
      },
      "outputs": [
        {
          "data": {
            "text/plain": [
              "True"
            ]
          },
          "execution_count": 413,
          "metadata": {},
          "output_type": "execute_result"
        }
      ],
      "source": [
        "isclose(x, y, abs_tol=0.0001, rel_tol=0)"
      ]
    },
    {
      "cell_type": "markdown",
      "metadata": {
        "id": "hC0Vk4yBwSY8"
      },
      "source": [
        "In general, we can combine the use of both relative and absolute tolerances in this way:"
      ]
    },
    {
      "cell_type": "code",
      "execution_count": null,
      "metadata": {
        "colab": {
          "background_save": true
        },
        "id": "JevE3VR8wRPo",
        "outputId": "da1043d8-84b8-410d-988b-e79dd2cb32c5"
      },
      "outputs": [
        {
          "name": "stdout",
          "output_type": "stream",
          "text": [
            "x = y: True\n",
            "a = b: True\n"
          ]
        }
      ],
      "source": [
        "x = 0.0000001\n",
        "y = 0.0000002\n",
        "\n",
        "a = 123456789.01\n",
        "b = 123456789.02\n",
        "\n",
        "print('x = y:', isclose(x, y, abs_tol=0.0001, rel_tol=0.01))\n",
        "print('a = b:', isclose(a, b, abs_tol=0.0001, rel_tol=0.01))"
      ]
    },
    {
      "cell_type": "markdown",
      "metadata": {
        "id": "ZSThjseVxK1v"
      },
      "source": [
        "### 07 - Floats - Coercing to Integers"
      ]
    },
    {
      "cell_type": "markdown",
      "metadata": {
        "id": "KZXUMEnzxTjz"
      },
      "source": [
        "**Truncation**"
      ]
    },
    {
      "cell_type": "code",
      "execution_count": null,
      "metadata": {
        "colab": {
          "background_save": true
        },
        "id": "V-AYnLfNw5sb"
      },
      "outputs": [],
      "source": [
        "from math import trunc"
      ]
    },
    {
      "cell_type": "code",
      "execution_count": null,
      "metadata": {
        "colab": {
          "background_save": true
        },
        "id": "hEJvsTTTxbBB",
        "outputId": "5c6d1b9a-7ae2-44ff-dfa0-750ed8e6d316"
      },
      "outputs": [
        {
          "data": {
            "text/plain": [
              "(10, 10, 10)"
            ]
          },
          "execution_count": 416,
          "metadata": {},
          "output_type": "execute_result"
        }
      ],
      "source": [
        "trunc(10.3), trunc(10.5), trunc(10.6)"
      ]
    },
    {
      "cell_type": "code",
      "execution_count": null,
      "metadata": {
        "colab": {
          "background_save": true
        },
        "id": "srf5rSUIxfdr",
        "outputId": "5ad609ca-f149-48bc-cd43-4b76c703e1ce"
      },
      "outputs": [
        {
          "data": {
            "text/plain": [
              "(-10, -10, -10)"
            ]
          },
          "execution_count": 417,
          "metadata": {},
          "output_type": "execute_result"
        }
      ],
      "source": [
        "trunc(-10.6), trunc(-10.5), trunc(-10.3)"
      ]
    },
    {
      "cell_type": "markdown",
      "metadata": {
        "id": "3FlbvSisxnTV"
      },
      "source": [
        "The `ìnt` constructor uses truncation when a float is passed in:"
      ]
    },
    {
      "cell_type": "code",
      "execution_count": null,
      "metadata": {
        "colab": {
          "background_save": true
        },
        "id": "nXkM01w8xmRP",
        "outputId": "d701bfac-39dc-4fa4-b265-ca285ab8e0a6"
      },
      "outputs": [
        {
          "data": {
            "text/plain": [
              "(10, 10, 10)"
            ]
          },
          "execution_count": 418,
          "metadata": {},
          "output_type": "execute_result"
        }
      ],
      "source": [
        "int(10.3), int(10.5), int(10.6)"
      ]
    },
    {
      "cell_type": "code",
      "execution_count": null,
      "metadata": {
        "colab": {
          "background_save": true
        },
        "id": "zE4nWztzxwKd",
        "outputId": "627e4130-21f9-4fa9-fe0c-569b669d17a8"
      },
      "outputs": [
        {
          "data": {
            "text/plain": [
              "(-10, -10, -10)"
            ]
          },
          "execution_count": 419,
          "metadata": {},
          "output_type": "execute_result"
        }
      ],
      "source": [
        "int(-10.5), int(-10.5), int(-10.4)"
      ]
    },
    {
      "cell_type": "markdown",
      "metadata": {
        "id": "7cqqMkAvx2th"
      },
      "source": [
        "**Floor**"
      ]
    },
    {
      "cell_type": "code",
      "execution_count": null,
      "metadata": {
        "colab": {
          "background_save": true
        },
        "id": "eTr6LEaWx2A5"
      },
      "outputs": [],
      "source": [
        "from math import floor"
      ]
    },
    {
      "cell_type": "code",
      "execution_count": null,
      "metadata": {
        "colab": {
          "background_save": true
        },
        "id": "6arIsyoXx8Qt",
        "outputId": "a2b83969-f3d0-4c86-ab04-0096c989826d"
      },
      "outputs": [
        {
          "data": {
            "text/plain": [
              "(10, 10, 10)"
            ]
          },
          "execution_count": 421,
          "metadata": {},
          "output_type": "execute_result"
        }
      ],
      "source": [
        "floor(10.4), floor(10.5), floor(10.6)"
      ]
    },
    {
      "cell_type": "code",
      "execution_count": null,
      "metadata": {
        "colab": {
          "background_save": true
        },
        "id": "OSlZwTVlyAY-",
        "outputId": "f0317f74-d6c0-47f6-9701-cc935085c05b"
      },
      "outputs": [
        {
          "data": {
            "text/plain": [
              "(-11, -11, -11)"
            ]
          },
          "execution_count": 422,
          "metadata": {},
          "output_type": "execute_result"
        }
      ],
      "source": [
        "floor(-10.4), floor(-10.5), floor(-10.6)"
      ]
    },
    {
      "cell_type": "markdown",
      "metadata": {
        "id": "PTfE5bcAyHPF"
      },
      "source": [
        "**Ceiling**"
      ]
    },
    {
      "cell_type": "code",
      "execution_count": null,
      "metadata": {
        "colab": {
          "background_save": true
        },
        "id": "PUcVtPpHyGJ7"
      },
      "outputs": [],
      "source": [
        "from math import ceil"
      ]
    },
    {
      "cell_type": "code",
      "execution_count": null,
      "metadata": {
        "colab": {
          "background_save": true
        },
        "id": "DHO4xIYtyLgh",
        "outputId": "814e3c6a-1b3f-420a-f4d2-da005432beb7"
      },
      "outputs": [
        {
          "data": {
            "text/plain": [
              "(11, 11, 11)"
            ]
          },
          "execution_count": 424,
          "metadata": {},
          "output_type": "execute_result"
        }
      ],
      "source": [
        "ceil(10.4), ceil(10.5), ceil(10.6)"
      ]
    },
    {
      "cell_type": "code",
      "execution_count": null,
      "metadata": {
        "colab": {
          "background_save": true
        },
        "id": "HGTD9_GHyOyn",
        "outputId": "179fe640-a352-4623-ccc1-b8299250bbeb"
      },
      "outputs": [
        {
          "data": {
            "text/plain": [
              "(-10, -10, -10)"
            ]
          },
          "execution_count": 425,
          "metadata": {},
          "output_type": "execute_result"
        }
      ],
      "source": [
        "ceil(-10.4), ceil(-10.5), ceil(-10.6)"
      ]
    },
    {
      "cell_type": "markdown",
      "metadata": {
        "id": "e_nRSSEzycsN"
      },
      "source": [
        "### 08 - Floats - Rounding"
      ]
    },
    {
      "cell_type": "code",
      "execution_count": null,
      "metadata": {
        "colab": {
          "background_save": true
        },
        "id": "9R5lqIrwyTGF",
        "outputId": "bc375e89-ab9b-4c16-f707-52aace4e6c48"
      },
      "outputs": [
        {
          "name": "stdout",
          "output_type": "stream",
          "text": [
            "Help on built-in function round in module builtins:\n",
            "\n",
            "round(number, ndigits=None)\n",
            "    Round a number to a given precision in decimal digits.\n",
            "    \n",
            "    The return value is an integer if ndigits is omitted or None.  Otherwise\n",
            "    the return value has the same type as the number.  ndigits may be negative.\n",
            "\n"
          ]
        }
      ],
      "source": [
        "help(round)"
      ]
    },
    {
      "cell_type": "markdown",
      "metadata": {
        "id": "lwgtq1HMyj6R"
      },
      "source": [
        "**n = 0**"
      ]
    },
    {
      "cell_type": "code",
      "execution_count": null,
      "metadata": {
        "colab": {
          "background_save": true
        },
        "id": "etvJxitTyh4n",
        "outputId": "9c61f523-2c6e-46bd-83fe-4d13b1fd12b3"
      },
      "outputs": [
        {
          "data": {
            "text/plain": [
              "(2, int)"
            ]
          },
          "execution_count": 427,
          "metadata": {},
          "output_type": "execute_result"
        }
      ],
      "source": [
        "a = round(1.5)\n",
        "a, type(a)"
      ]
    },
    {
      "cell_type": "code",
      "execution_count": null,
      "metadata": {
        "colab": {
          "background_save": true
        },
        "id": "h3JOyjg-yoCj",
        "outputId": "5adc0faa-c8d2-4e33-b743-5de6b0f28f7a"
      },
      "outputs": [
        {
          "data": {
            "text/plain": [
              "(2.0, float)"
            ]
          },
          "execution_count": 428,
          "metadata": {},
          "output_type": "execute_result"
        }
      ],
      "source": [
        "a = round(1.5, 0)\n",
        "a, type(a)"
      ]
    },
    {
      "cell_type": "markdown",
      "metadata": {
        "id": "_yfBHkuay5Py"
      },
      "source": [
        "**n > 0**"
      ]
    },
    {
      "cell_type": "code",
      "execution_count": null,
      "metadata": {
        "colab": {
          "background_save": true
        },
        "id": "1llRZ85HytIi",
        "outputId": "fa04c9a4-aedf-4f1d-9d8a-e23687691c44"
      },
      "outputs": [
        {
          "data": {
            "text/plain": [
              "(1.889, 1.89, 1.9, 2.0)"
            ]
          },
          "execution_count": 429,
          "metadata": {},
          "output_type": "execute_result"
        }
      ],
      "source": [
        "round(1.8888, 3), round(1.8888, 2), round(1.8888, 1), round(1.8888, 0)"
      ]
    },
    {
      "cell_type": "markdown",
      "metadata": {
        "id": "CSGcnjzKzGHi"
      },
      "source": [
        "**n < 0**"
      ]
    },
    {
      "cell_type": "code",
      "execution_count": null,
      "metadata": {
        "colab": {
          "background_save": true
        },
        "id": "NScnLVxdzCdd",
        "outputId": "383bc658-d732-4430-d253-27e092595c15"
      },
      "outputs": [
        {
          "data": {
            "text/plain": [
              "(888.9, 889.0, 890.0, 900.0, 1000.0)"
            ]
          },
          "execution_count": 430,
          "metadata": {},
          "output_type": "execute_result"
        }
      ],
      "source": [
        "round(888.88, 1), round(888.88, 0), \\\n",
        "round(888.88, -1), round(888.88, -2), \\\n",
        "round(888.88, -3)"
      ]
    },
    {
      "cell_type": "markdown",
      "metadata": {
        "id": "Sqp5kPhbzcHd"
      },
      "source": [
        "**Ties**"
      ]
    },
    {
      "cell_type": "code",
      "execution_count": null,
      "metadata": {
        "colab": {
          "background_save": true
        },
        "id": "0f7Ksm53zVWE",
        "outputId": "9d977922-687f-48c9-e32b-007ccffb6fda"
      },
      "outputs": [
        {
          "data": {
            "text/plain": [
              "1.2"
            ]
          },
          "execution_count": 431,
          "metadata": {},
          "output_type": "execute_result"
        }
      ],
      "source": [
        "round(1.25, 1)"
      ]
    },
    {
      "cell_type": "code",
      "execution_count": null,
      "metadata": {
        "colab": {
          "background_save": true
        },
        "id": "PJGfBrRuzepa",
        "outputId": "db2feedd-4d57-4542-c7cd-ab437b4a16f0"
      },
      "outputs": [
        {
          "data": {
            "text/plain": [
              "1.4"
            ]
          },
          "execution_count": 432,
          "metadata": {},
          "output_type": "execute_result"
        }
      ],
      "source": [
        "round(1.35, 1)"
      ]
    },
    {
      "cell_type": "markdown",
      "metadata": {
        "id": "yjqqj_qgzhW3"
      },
      "source": [
        "This is rounding to nearest, with ties to nearest number with even least significant digit, ake Banker's Rounding.\n",
        "\n",
        "Works similarly with n negative."
      ]
    },
    {
      "cell_type": "code",
      "execution_count": null,
      "metadata": {
        "colab": {
          "background_save": true
        },
        "id": "DNJbSikuzgW4",
        "outputId": "032520c8-a2c6-43d7-ea08-406816389cd3"
      },
      "outputs": [
        {
          "data": {
            "text/plain": [
              "20"
            ]
          },
          "execution_count": 433,
          "metadata": {},
          "output_type": "execute_result"
        }
      ],
      "source": [
        "round(15, -1)"
      ]
    },
    {
      "cell_type": "code",
      "execution_count": null,
      "metadata": {
        "colab": {
          "background_save": true
        },
        "id": "_MsUMzwAzvg8",
        "outputId": "f113679c-4676-47dd-c685-d0cfc5d45ee2"
      },
      "outputs": [
        {
          "data": {
            "text/plain": [
              "20"
            ]
          },
          "execution_count": 434,
          "metadata": {},
          "output_type": "execute_result"
        }
      ],
      "source": [
        "round(25, -1)"
      ]
    },
    {
      "cell_type": "markdown",
      "metadata": {
        "id": "cvZtpoY90yhz"
      },
      "source": [
        "\n",
        "\n",
        "---\n",
        "\n",
        "**BE CAREFUL!**"
      ]
    },
    {
      "cell_type": "markdown",
      "metadata": {
        "id": "SIVpzfr6zzeb"
      },
      "source": [
        "**Rounding to closest, ties away from zero**"
      ]
    },
    {
      "cell_type": "markdown",
      "metadata": {
        "id": "2nVMXocYz3qj"
      },
      "source": [
        "*This is traditionally the type of rounding taught in school, which is different from the Banker's Rounding implemented in Python (and in many other programming languages)*\n",
        "\n",
        "*This is rounding to nearest even number.*\n",
        "\n",
        "1.5 --> 2\n",
        "\n",
        "2.5 --> 3\n",
        "\n",
        "-1.5 --> -2\n",
        "-2.5 --> -3\n",
        "\n"
      ]
    },
    {
      "cell_type": "markdown",
      "metadata": {
        "id": "sMwgRum504jY"
      },
      "source": [
        "\n",
        "\n",
        "---\n",
        "\n"
      ]
    },
    {
      "cell_type": "markdown",
      "metadata": {
        "id": "LG0wmS6U04gO"
      },
      "source": [
        "To do this thepe of rounding (to nearest 1) we can add (for positive numbers) or subtract (for negative numbers) 0.5 and then truncate the resulting number."
      ]
    },
    {
      "cell_type": "code",
      "execution_count": null,
      "metadata": {
        "colab": {
          "background_save": true
        },
        "id": "BbVGfQazz3Tb"
      },
      "outputs": [],
      "source": [
        "def _round(x):\n",
        "    from math import copysign\n",
        "    return int(x + 0.5 * copysign(1, x))"
      ]
    },
    {
      "cell_type": "code",
      "execution_count": null,
      "metadata": {
        "colab": {
          "background_save": true
        },
        "id": "aU6LZiVtzy28",
        "outputId": "f73585be-301b-4eb9-ecc2-b2a17803b368"
      },
      "outputs": [
        {
          "data": {
            "text/plain": [
              "(2, 2)"
            ]
          },
          "execution_count": 436,
          "metadata": {},
          "output_type": "execute_result"
        }
      ],
      "source": [
        "round(1.5), _round(1.5)"
      ]
    },
    {
      "cell_type": "code",
      "execution_count": null,
      "metadata": {
        "colab": {
          "background_save": true
        },
        "id": "CHCYByzS1gb9",
        "outputId": "318bd776-4dd1-43af-91d6-db6bcaad977b"
      },
      "outputs": [
        {
          "data": {
            "text/plain": [
              "(2, 3)"
            ]
          },
          "execution_count": 437,
          "metadata": {},
          "output_type": "execute_result"
        }
      ],
      "source": [
        "round(2.5), _round(2.5)"
      ]
    },
    {
      "cell_type": "markdown",
      "metadata": {
        "id": "rE9UG9Pk1yZY"
      },
      "source": [
        "### 09 - Decimals"
      ]
    },
    {
      "cell_type": "code",
      "execution_count": null,
      "metadata": {
        "colab": {
          "background_save": true
        },
        "id": "w-2cfb-Z1kb1"
      },
      "outputs": [],
      "source": [
        "import decimal"
      ]
    },
    {
      "cell_type": "code",
      "execution_count": null,
      "metadata": {
        "colab": {
          "background_save": true
        },
        "id": "i10O7Whn3WJd"
      },
      "outputs": [],
      "source": [
        "from decimal import Decimal"
      ]
    },
    {
      "cell_type": "markdown",
      "metadata": {
        "id": "xG702E013acf"
      },
      "source": [
        "Decimals have context, that can be used to specify rounding and precision (amongst other things)\n",
        "\n",
        "Contexts can be local (temporary contexts) or global (default)"
      ]
    },
    {
      "cell_type": "markdown",
      "metadata": {
        "id": "Mr1pjehB3svo"
      },
      "source": [
        "**Global Context**"
      ]
    },
    {
      "cell_type": "code",
      "execution_count": null,
      "metadata": {
        "colab": {
          "background_save": true
        },
        "id": "f6NPESvY3Zrz"
      },
      "outputs": [],
      "source": [
        "g_ctx = decimal.getcontext()"
      ]
    },
    {
      "cell_type": "code",
      "execution_count": null,
      "metadata": {
        "colab": {
          "background_save": true
        },
        "id": "3c_7OzlI3wwN",
        "outputId": "57be933e-2a9d-4b4d-e1f5-6fbf4938376e"
      },
      "outputs": [
        {
          "data": {
            "text/plain": [
              "28"
            ]
          },
          "execution_count": 441,
          "metadata": {},
          "output_type": "execute_result"
        }
      ],
      "source": [
        "g_ctx.prec"
      ]
    },
    {
      "cell_type": "code",
      "execution_count": null,
      "metadata": {
        "colab": {
          "background_save": true
        },
        "id": "5HMqB8Kg3xzn"
      },
      "outputs": [],
      "source": [
        "g_ctx.prec = 6"
      ]
    },
    {
      "cell_type": "code",
      "execution_count": null,
      "metadata": {
        "colab": {
          "background_save": true
        },
        "id": "AKxNIc2r31cO"
      },
      "outputs": [],
      "source": [
        "g_ctx.rounding = decimal.ROUND_HALF_UP"
      ]
    },
    {
      "cell_type": "markdown",
      "metadata": {
        "id": "rd4pJPtV36jw"
      },
      "source": [
        "And if we read this back directly from the global context:"
      ]
    },
    {
      "cell_type": "code",
      "execution_count": null,
      "metadata": {
        "colab": {
          "background_save": true
        },
        "id": "x8l6pqXf35yN",
        "outputId": "26eba692-dce9-4927-e9a4-40ea632b583b"
      },
      "outputs": [
        {
          "data": {
            "text/plain": [
              "6"
            ]
          },
          "execution_count": 444,
          "metadata": {},
          "output_type": "execute_result"
        }
      ],
      "source": [
        "decimal.getcontext().prec"
      ]
    },
    {
      "cell_type": "code",
      "execution_count": null,
      "metadata": {
        "colab": {
          "background_save": true
        },
        "id": "87vpLNLh4AZC",
        "outputId": "dc65db3e-5eaf-4b95-e69a-d8cfba5fee50"
      },
      "outputs": [
        {
          "data": {
            "text/plain": [
              "'ROUND_HALF_UP'"
            ]
          },
          "execution_count": 445,
          "metadata": {},
          "output_type": "execute_result"
        }
      ],
      "source": [
        "decimal.getcontext().rounding"
      ]
    },
    {
      "cell_type": "markdown",
      "metadata": {
        "id": "mDZ7qlJG4EZd"
      },
      "source": [
        "we see that the global context was indeed changed."
      ]
    },
    {
      "cell_type": "markdown",
      "metadata": {
        "id": "CU-6o9_t4JXe"
      },
      "source": [
        "**Local Context**"
      ]
    },
    {
      "cell_type": "markdown",
      "metadata": {
        "id": "dlixVmT64Ldg"
      },
      "source": [
        "The `localcontext()` function will return a context manager thar we can use with a `with` statement:"
      ]
    },
    {
      "cell_type": "code",
      "execution_count": null,
      "metadata": {
        "colab": {
          "background_save": true
        },
        "id": "VPT195tK4DZb",
        "outputId": "a2155e50-322f-4429-f95d-e99ecb67f469"
      },
      "outputs": [
        {
          "name": "stdout",
          "output_type": "stream",
          "text": [
            "6\n",
            "ROUND_HALF_UP\n"
          ]
        }
      ],
      "source": [
        "with decimal.localcontext() as ctx:\n",
        "    print(ctx.prec)\n",
        "    print(ctx.rounding)"
      ]
    },
    {
      "cell_type": "markdown",
      "metadata": {
        "id": "Bpc2lrYm4j3_"
      },
      "source": [
        "Since no argument was specified in the `localcontext()` call, it provides us a context manager that uses a copy of the global context.\n",
        "\n",
        "Modifying the local context has no effect on the global context."
      ]
    },
    {
      "cell_type": "code",
      "execution_count": null,
      "metadata": {
        "colab": {
          "background_save": true
        },
        "id": "WR-tSoMj4ao_",
        "outputId": "cb10dfee-ce3c-41d3-e4e6-8d0afb0a34be"
      },
      "outputs": [
        {
          "name": "stdout",
          "output_type": "stream",
          "text": [
            "local prec = 10, global prec = 6\n"
          ]
        }
      ],
      "source": [
        "with decimal.localcontext() as ctx:\n",
        "    ctx.prec = 10\n",
        "    print('local prec = {0}, global prec = {1}'.format(ctx.prec, g_ctx.prec))"
      ]
    },
    {
      "cell_type": "markdown",
      "metadata": {
        "id": "GjRvaFAC5Q8_"
      },
      "source": [
        "**Rounding**"
      ]
    },
    {
      "cell_type": "code",
      "execution_count": null,
      "metadata": {
        "colab": {
          "background_save": true
        },
        "id": "09VAGF2w5PJp",
        "outputId": "6171c25e-b5fd-47dc-af43-24f6a308db19"
      },
      "outputs": [
        {
          "data": {
            "text/plain": [
              "'ROUND_HALF_UP'"
            ]
          },
          "execution_count": 448,
          "metadata": {},
          "output_type": "execute_result"
        }
      ],
      "source": [
        "decimal.getcontext().rounding"
      ]
    },
    {
      "cell_type": "markdown",
      "metadata": {
        "id": "cCOWIHOh5Vk4"
      },
      "source": [
        "The rounding mechanism is ROUND_HALF_UP because we set the global context to that earlier in this notebook. Note that normally the default is ROUND_HALF_EVEN.\n",
        "\n",
        "So we first reset our global context rounding to that:"
      ]
    },
    {
      "cell_type": "code",
      "execution_count": null,
      "metadata": {
        "colab": {
          "background_save": true
        },
        "id": "UoSHEOsL5UF4"
      },
      "outputs": [],
      "source": [
        "decimal.getcontext().rounding = decimal.ROUND_HALF_EVEN"
      ]
    },
    {
      "cell_type": "code",
      "execution_count": null,
      "metadata": {
        "colab": {
          "background_save": true
        },
        "id": "RSKye2Gn5nRi",
        "outputId": "0772a78a-bd63-490c-ab90-d16bb6c69536"
      },
      "outputs": [
        {
          "name": "stdout",
          "output_type": "stream",
          "text": [
            "1.2\n",
            "1.4\n"
          ]
        }
      ],
      "source": [
        "x = Decimal('1.25')\n",
        "y = Decimal('1.35')\n",
        "print(round(x, 1))\n",
        "print(round(y, 1))"
      ]
    },
    {
      "cell_type": "markdown",
      "metadata": {
        "id": "C7MOIYMo5wpo"
      },
      "source": [
        "Let's change the rounding mechanism in the global context to ROUND_HALF_UP"
      ]
    },
    {
      "cell_type": "code",
      "execution_count": null,
      "metadata": {
        "colab": {
          "background_save": true
        },
        "id": "eiw9voSN5vWd"
      },
      "outputs": [],
      "source": [
        "decimal.getcontext().rounding = decimal.ROUND_HALF_UP"
      ]
    },
    {
      "cell_type": "code",
      "execution_count": null,
      "metadata": {
        "colab": {
          "background_save": true
        },
        "id": "8fC9Duu555G0",
        "outputId": "e62b5b3e-04a3-421f-93ec-7972c6ab6db2"
      },
      "outputs": [
        {
          "name": "stdout",
          "output_type": "stream",
          "text": [
            "1.3\n",
            "1.4\n"
          ]
        }
      ],
      "source": [
        "x = Decimal('1.25')\n",
        "y = Decimal('1.35')\n",
        "print(round(x, 1))\n",
        "print(round(y, 1))"
      ]
    },
    {
      "cell_type": "markdown",
      "metadata": {
        "id": "whLDwTPX6J9o"
      },
      "source": [
        "As you may have realized, changing the global context is a pain if you need to constantly switch between precisions and rounding algorithms. Also, it could introduce bugs if you forget that you changed the global context somewhere further up in your module.\n",
        "\n",
        "For this reason, it is usually better to use a local context manager instead:\n",
        "\n",
        "First we reset our global context rounding to the default:"
      ]
    },
    {
      "cell_type": "code",
      "execution_count": null,
      "metadata": {
        "colab": {
          "background_save": true
        },
        "id": "BzSeMwhq6CYF"
      },
      "outputs": [],
      "source": [
        "decimal.getcontext().rounding = decimal.ROUND_HALF_EVEN"
      ]
    },
    {
      "cell_type": "code",
      "execution_count": null,
      "metadata": {
        "colab": {
          "background_save": true
        },
        "id": "ndIXBKaZ6o7Z",
        "outputId": "6703bdb5-e7c7-41c7-aee4-085b525da77b"
      },
      "outputs": [
        {
          "name": "stdout",
          "output_type": "stream",
          "text": [
            "1.2 1.4\n",
            "1.3 1.4\n",
            "1.2 1.4\n"
          ]
        }
      ],
      "source": [
        "from string import ascii_letters\n",
        "x = Decimal('1.25')\n",
        "y = Decimal('1.35')\n",
        "print(round(x, 1), round(y, 1))\n",
        "with decimal.localcontext() as ctx:\n",
        "    ctx.rounding = decimal.ROUND_HALF_UP\n",
        "    print(round(x, 1), round(y, 1))\n",
        "print(round(x, 1), round(y, 1))"
      ]
    },
    {
      "cell_type": "markdown",
      "metadata": {
        "id": "vPjwYhJz7SIg"
      },
      "source": [
        "### 10 - Decimals - Constructors and Contexts"
      ]
    },
    {
      "cell_type": "markdown",
      "metadata": {
        "id": "OJg5bLpz7X_U"
      },
      "source": [
        "The `Decimal` constructor can handle a variety of data types."
      ]
    },
    {
      "cell_type": "code",
      "execution_count": null,
      "metadata": {
        "colab": {
          "background_save": true
        },
        "id": "E4E7Copd6_qt"
      },
      "outputs": [],
      "source": [
        "import decimal\n",
        "from decimal import Decimal"
      ]
    },
    {
      "cell_type": "markdown",
      "metadata": {
        "id": "l0C2XqHSEKHk"
      },
      "source": [
        "**Integers**"
      ]
    },
    {
      "cell_type": "code",
      "execution_count": null,
      "metadata": {
        "colab": {
          "background_save": true
        },
        "id": "MmKbm6gbEJEq",
        "outputId": "f8d9cc3a-fa62-406a-f809-b14d7090f681"
      },
      "outputs": [
        {
          "data": {
            "text/plain": [
              "Decimal('10')"
            ]
          },
          "execution_count": 456,
          "metadata": {},
          "output_type": "execute_result"
        }
      ],
      "source": [
        "Decimal(10)"
      ]
    },
    {
      "cell_type": "code",
      "execution_count": null,
      "metadata": {
        "colab": {
          "background_save": true
        },
        "id": "e13eFb5EEUcJ",
        "outputId": "f3590bc3-882c-41b3-d1cf-b4c2a530ac2d"
      },
      "outputs": [
        {
          "data": {
            "text/plain": [
              "Decimal('-10')"
            ]
          },
          "execution_count": 457,
          "metadata": {},
          "output_type": "execute_result"
        }
      ],
      "source": [
        "Decimal(-10)"
      ]
    },
    {
      "cell_type": "markdown",
      "metadata": {
        "id": "zgFOSx2jEwKQ"
      },
      "source": [
        "**Strings**"
      ]
    },
    {
      "cell_type": "code",
      "execution_count": null,
      "metadata": {
        "colab": {
          "background_save": true
        },
        "id": "lLoexwQAEs5b",
        "outputId": "210b6aff-95ed-4211-b6b0-c50a2b456f14"
      },
      "outputs": [
        {
          "data": {
            "text/plain": [
              "Decimal('0.1')"
            ]
          },
          "execution_count": 458,
          "metadata": {},
          "output_type": "execute_result"
        }
      ],
      "source": [
        "Decimal('0.1')"
      ]
    },
    {
      "cell_type": "code",
      "execution_count": null,
      "metadata": {
        "colab": {
          "background_save": true
        },
        "id": "gvlYVDkZEzsZ",
        "outputId": "c7246ae7-f4d6-4067-80b1-e14108509694"
      },
      "outputs": [
        {
          "data": {
            "text/plain": [
              "Decimal('-3.1415')"
            ]
          },
          "execution_count": 459,
          "metadata": {},
          "output_type": "execute_result"
        }
      ],
      "source": [
        "Decimal('-3.1415')"
      ]
    },
    {
      "cell_type": "markdown",
      "metadata": {
        "id": "NS_nsnKbE6tc"
      },
      "source": [
        "**Tuples**"
      ]
    },
    {
      "cell_type": "code",
      "execution_count": null,
      "metadata": {
        "colab": {
          "background_save": true
        },
        "id": "5jHV9pJ5E5A2",
        "outputId": "d00a64fc-a642-45d3-9868-f71f900ac86f"
      },
      "outputs": [
        {
          "data": {
            "text/plain": [
              "Decimal('3.1414')"
            ]
          },
          "execution_count": 460,
          "metadata": {},
          "output_type": "execute_result"
        }
      ],
      "source": [
        "Decimal((0, (3,1,4,1,4), -4))"
      ]
    },
    {
      "cell_type": "code",
      "execution_count": null,
      "metadata": {
        "colab": {
          "background_save": true
        },
        "id": "3ZoYr9CwFCt8",
        "outputId": "5c201d32-c2e8-447c-8eca-437ec64f6413"
      },
      "outputs": [
        {
          "data": {
            "text/plain": [
              "Decimal('-1.234')"
            ]
          },
          "execution_count": 461,
          "metadata": {},
          "output_type": "execute_result"
        }
      ],
      "source": [
        "Decimal((1, (1,2,3,4), -3))"
      ]
    },
    {
      "cell_type": "code",
      "execution_count": null,
      "metadata": {
        "colab": {
          "background_save": true
        },
        "id": "_DRIs6ybFGWx",
        "outputId": "552022d3-055d-4aa8-a021-b4513e261a3a"
      },
      "outputs": [
        {
          "data": {
            "text/plain": [
              "Decimal('1.23E+5')"
            ]
          },
          "execution_count": 462,
          "metadata": {},
          "output_type": "execute_result"
        }
      ],
      "source": [
        "Decimal((0, (1,2,3), 3))"
      ]
    },
    {
      "cell_type": "markdown",
      "metadata": {
        "id": "-egcRRHKGqrD"
      },
      "source": [
        "\n",
        "\n",
        "---\n",
        "\n",
        "**BE CAREFUL!**"
      ]
    },
    {
      "cell_type": "markdown",
      "metadata": {
        "id": "Q6G-MLf7F5jV"
      },
      "source": [
        "*Tuple components are sign=0, digits=(3,1,4,1,4), exponent=-4 but we don't use parameters with this key=value format.*\n",
        "\n",
        "`Decimal((0, (3,1,4,1,4), -4))`"
      ]
    },
    {
      "cell_type": "markdown",
      "metadata": {
        "id": "2l3RXSUbHMC1"
      },
      "source": [
        "\n",
        "\n",
        "---\n",
        "\n",
        "**BE CAREFUL!**"
      ]
    },
    {
      "cell_type": "markdown",
      "metadata": {
        "id": "ncnRjW5YHQHC"
      },
      "source": [
        "**But don't use Floats**"
      ]
    },
    {
      "cell_type": "code",
      "execution_count": null,
      "metadata": {
        "colab": {
          "background_save": true
        },
        "id": "1zreEhW7Fgu8",
        "outputId": "a0cccc7c-cbf1-4d3f-e8d6-4406febf8b0e"
      },
      "outputs": [
        {
          "data": {
            "text/plain": [
              "'0.1000000000000000055511151'"
            ]
          },
          "execution_count": 463,
          "metadata": {},
          "output_type": "execute_result"
        }
      ],
      "source": [
        "format(0.1, '.25f')"
      ]
    },
    {
      "cell_type": "code",
      "execution_count": null,
      "metadata": {
        "colab": {
          "background_save": true
        },
        "id": "CWmXDlr1HXYw",
        "outputId": "a43eb1cd-10b7-4c1c-e7a1-d4c434ec97c8"
      },
      "outputs": [
        {
          "data": {
            "text/plain": [
              "Decimal('0.1000000000000000055511151231257827021181583404541015625')"
            ]
          },
          "execution_count": 464,
          "metadata": {},
          "output_type": "execute_result"
        }
      ],
      "source": [
        "Decimal(0.1)"
      ]
    },
    {
      "cell_type": "markdown",
      "metadata": {
        "id": "4XhHHrrNHakK"
      },
      "source": [
        "As you can see, since we passed an approximate binary float to the Decimal constructor it did it's best to represent that binary float exactly!!\n",
        "\n",
        "So, instead, use strings or tuples in the Decimal constructor."
      ]
    },
    {
      "cell_type": "markdown",
      "metadata": {
        "id": "vSyYX2VMIUuf"
      },
      "source": [
        "**Context Precision and the Constructor**"
      ]
    },
    {
      "cell_type": "markdown",
      "metadata": {
        "id": "t3iCyaQ7IYPr"
      },
      "source": [
        "The context precision does not affect the precision used when creating a Decimal object - those are independent of each other.\n",
        "\n",
        "Let's set our global (default) context to a precision of 2"
      ]
    },
    {
      "cell_type": "code",
      "execution_count": null,
      "metadata": {
        "colab": {
          "background_save": true
        },
        "id": "DPIfNv5vHZer"
      },
      "outputs": [],
      "source": [
        "decimal.getcontext().prec = 2"
      ]
    },
    {
      "cell_type": "markdown",
      "metadata": {
        "id": "mxhfPf4xIrLS"
      },
      "source": [
        "Now we can create decimal numbers of higher precision than that:"
      ]
    },
    {
      "cell_type": "code",
      "execution_count": null,
      "metadata": {
        "colab": {
          "background_save": true
        },
        "id": "ZdRnIy9TInAd"
      },
      "outputs": [],
      "source": [
        "a = Decimal('0.12345')\n",
        "b = Decimal('0.12345')"
      ]
    },
    {
      "cell_type": "code",
      "execution_count": null,
      "metadata": {
        "colab": {
          "background_save": true
        },
        "id": "4WT0M_zpIzWi",
        "outputId": "2c5a9cff-39d1-4dc3-e829-52e66ee27b59"
      },
      "outputs": [
        {
          "data": {
            "text/plain": [
              "Decimal('0.12345')"
            ]
          },
          "execution_count": 467,
          "metadata": {},
          "output_type": "execute_result"
        }
      ],
      "source": [
        "a"
      ]
    },
    {
      "cell_type": "code",
      "execution_count": null,
      "metadata": {
        "colab": {
          "background_save": true
        },
        "id": "Fo8auSoGI0DE",
        "outputId": "52ebf098-a562-4c0a-ee68-b17bedd44d91"
      },
      "outputs": [
        {
          "data": {
            "text/plain": [
              "Decimal('0.12345')"
            ]
          },
          "execution_count": 468,
          "metadata": {},
          "output_type": "execute_result"
        }
      ],
      "source": [
        "b"
      ]
    },
    {
      "cell_type": "markdown",
      "metadata": {
        "id": "hSvAezh3I3s0"
      },
      "source": [
        "But when we add those two numbers up, the context precision will matter:"
      ]
    },
    {
      "cell_type": "code",
      "execution_count": null,
      "metadata": {
        "colab": {
          "background_save": true
        },
        "id": "AYJOHE-xI1GC",
        "outputId": "9156b4e0-cae3-4c98-ff34-427409d356f9"
      },
      "outputs": [
        {
          "data": {
            "text/plain": [
              "Decimal('0.25')"
            ]
          },
          "execution_count": 469,
          "metadata": {},
          "output_type": "execute_result"
        }
      ],
      "source": [
        "decimal.getcontext().prec = 2\n",
        "a + b"
      ]
    },
    {
      "cell_type": "markdown",
      "metadata": {
        "id": "zeoSRGTXJS_P"
      },
      "source": [
        "As you can see, we ended up with a sum that was rounded to 2 digits after the decimal point (precision = 2)"
      ]
    },
    {
      "cell_type": "markdown",
      "metadata": {
        "id": "N4FNatPlJdYD"
      },
      "source": [
        "**Local and Global Contexts are Independent**"
      ]
    },
    {
      "cell_type": "code",
      "execution_count": null,
      "metadata": {
        "colab": {
          "background_save": true
        },
        "id": "8kyMmADqI9AU"
      },
      "outputs": [],
      "source": [
        "decimal.getcontext().prec = 6"
      ]
    },
    {
      "cell_type": "code",
      "execution_count": null,
      "metadata": {
        "colab": {
          "background_save": true
        },
        "id": "6P8dQAYeJk5m",
        "outputId": "95a938f1-8f96-4799-f162-09f62a195cda"
      },
      "outputs": [
        {
          "data": {
            "text/plain": [
              "'ROUND_HALF_EVEN'"
            ]
          },
          "execution_count": 471,
          "metadata": {},
          "output_type": "execute_result"
        }
      ],
      "source": [
        "decimal.getcontext().rounding"
      ]
    },
    {
      "cell_type": "code",
      "execution_count": null,
      "metadata": {
        "colab": {
          "background_save": true
        },
        "id": "ybG-soPYJmzd",
        "outputId": "5d3bc6fe-f9a5-4aad-e594-0744ceeb8fc6"
      },
      "outputs": [
        {
          "name": "stdout",
          "output_type": "stream",
          "text": [
            "0.24690\n",
            "c within local context: 0.25\n",
            "c within global context: 0.25\n"
          ]
        }
      ],
      "source": [
        "a = Decimal('0.12345')\n",
        "b = Decimal('0.12345')\n",
        "print(a + b)\n",
        "with decimal.localcontext() as ctx:\n",
        "    ctx.prec = 2\n",
        "    c = a + b\n",
        "    print('c within local context: {0}'.format(c))\n",
        "print('c within global context: {0}'.format(c))"
      ]
    },
    {
      "cell_type": "markdown",
      "metadata": {
        "id": "vt2IhgoJKCom"
      },
      "source": [
        "Since c was created within the local context by adding a and b, and the local context had a precision of 2, c was rounded to 2 digits after the decimal point.\n",
        "\n",
        "Once the local context is destroyed (after the with block), the variable c still exists, and its precision is still just 2 - it doesn't magically suddenly get the global context's precision of 6."
      ]
    },
    {
      "cell_type": "markdown",
      "metadata": {
        "id": "tBt9n2ySK3mn"
      },
      "source": [
        "### 11 - Decimals - Math Operations"
      ]
    },
    {
      "cell_type": "markdown",
      "metadata": {
        "id": "QISjCICgK8N1"
      },
      "source": [
        "**Div and Mod**"
      ]
    },
    {
      "cell_type": "markdown",
      "metadata": {
        "id": "y_9iRhJEPDhB"
      },
      "source": [
        "The `//` and `%` operators (and consequently, the `divmod()` function) behave differently for integers and Decimals.\n",
        "\n",
        "Thi is because integer division for Decimals is performed differently, and results in a truncated division, whereas integers use a floored division.\n",
        "\n",
        "These differences are only when negative number are involved. If all numbers involved are positive, then integer and Decimal div and mod operations are equal.\n",
        "\n",
        "But in both cases the `//` and `%` operators satisfy the equation:\n",
        "\n",
        "`n = d * (n //d ) + (n % d)`"
      ]
    },
    {
      "cell_type": "code",
      "execution_count": null,
      "metadata": {
        "colab": {
          "background_save": true
        },
        "id": "9O3hZqmGJ9th"
      },
      "outputs": [],
      "source": [
        "import decimal\n",
        "from decimal import Decimal"
      ]
    },
    {
      "cell_type": "code",
      "execution_count": null,
      "metadata": {
        "colab": {
          "background_save": true
        },
        "id": "tFi2nwbdQG4q",
        "outputId": "d4a8fca4-1781-4f14-d95f-33d45c9b62e0"
      },
      "outputs": [
        {
          "name": "stdout",
          "output_type": "stream",
          "text": [
            "3 1\n",
            "(3, 1)\n",
            "True\n"
          ]
        }
      ],
      "source": [
        "x = 10\n",
        "y = 3\n",
        "print(x//y, x%y)\n",
        "print(divmod(x, y))\n",
        "print( x ==  y * (x//y) + x % y)"
      ]
    },
    {
      "cell_type": "code",
      "execution_count": null,
      "metadata": {
        "colab": {
          "background_save": true
        },
        "id": "LQEo-h3EQUtZ",
        "outputId": "9e3c1152-0739-4d90-8002-7884e4c32901"
      },
      "outputs": [
        {
          "name": "stdout",
          "output_type": "stream",
          "text": [
            "3 1\n",
            "(Decimal('3'), Decimal('1'))\n",
            "True\n"
          ]
        }
      ],
      "source": [
        "a = Decimal('10')\n",
        "b = Decimal('3')\n",
        "print(a//b, a%b)\n",
        "print(divmod(a,b))\n",
        "print( a == b * (a//b) + a % b)"
      ]
    },
    {
      "cell_type": "markdown",
      "metadata": {
        "id": "ziYAg90uQn_Z"
      },
      "source": [
        "As we can see, the `//` and `%` operators had the same result when both numbers were positive."
      ]
    },
    {
      "cell_type": "code",
      "execution_count": null,
      "metadata": {
        "colab": {
          "background_save": true
        },
        "id": "bfrivuyEQle3",
        "outputId": "0bf96d2d-5bd6-4962-a636-6ae806c9a7ab"
      },
      "outputs": [
        {
          "name": "stdout",
          "output_type": "stream",
          "text": [
            "-4 2\n",
            "(-4, 2)\n",
            "True\n"
          ]
        }
      ],
      "source": [
        "x = -10\n",
        "y = 3\n",
        "print(x//y, x%y)\n",
        "print(divmod(x, y))\n",
        "print( x == y * (x//y) + x % y)"
      ]
    },
    {
      "cell_type": "code",
      "execution_count": null,
      "metadata": {
        "colab": {
          "background_save": true
        },
        "id": "AeEgcBMBQ4nV",
        "outputId": "3cb9e48a-4d4e-4428-b3af-06ee91c500ab"
      },
      "outputs": [
        {
          "name": "stdout",
          "output_type": "stream",
          "text": [
            "-3 -1\n",
            "(Decimal('-3'), Decimal('-1'))\n",
            "True\n"
          ]
        }
      ],
      "source": [
        "a = Decimal('-10')\n",
        "b = Decimal('3')\n",
        "print(a//b, a%b)\n",
        "print(divmod(a, b))\n",
        "print( a == b * (a//b) + a % b)"
      ]
    },
    {
      "cell_type": "markdown",
      "metadata": {
        "id": "pwwBmYlFRB_W"
      },
      "source": [
        "On the other hand, we see that in this case the `//` and `% ` operators did not result in the same values, although the equation was satisfied in both instances."
      ]
    },
    {
      "cell_type": "markdown",
      "metadata": {
        "id": "IezeSGyLRcNd"
      },
      "source": [
        "**Other Mathematical Functions**"
      ]
    },
    {
      "cell_type": "markdown",
      "metadata": {
        "id": "sDHm0TAIRgLY"
      },
      "source": [
        "The Decimal class implements a variety of mathematical functions."
      ]
    },
    {
      "cell_type": "code",
      "execution_count": null,
      "metadata": {
        "colab": {
          "background_save": true
        },
        "id": "JC8HMlrSRAEU",
        "outputId": "76af363b-8a72-4841-9907-93889ef1faf6"
      },
      "outputs": [
        {
          "name": "stdout",
          "output_type": "stream",
          "text": [
            "0.176091\n",
            "0.405465\n",
            "4.48169\n",
            "1.22474\n"
          ]
        }
      ],
      "source": [
        "a = Decimal('1.5')\n",
        "print(a.log10()) # base 10 logarithm\n",
        "print(a.ln())    # natural logarithm (base e)\n",
        "print(a.exp())   # e ** a\n",
        "print(a.sqrt())  # square root"
      ]
    },
    {
      "cell_type": "markdown",
      "metadata": {
        "id": "ubcTjoMKR5er"
      },
      "source": [
        "Although you can use the math function of the math module, be aware that the math module functions will cast the Decimal numbers to floats when it performs the various operations. So, if the precision is important (which it probably is if you decided to use Decimal numbers in the first place), choouse the math functions of the Decimal class over those of the math module."
      ]
    },
    {
      "cell_type": "code",
      "execution_count": null,
      "metadata": {
        "colab": {
          "background_save": true
        },
        "id": "RPs98dQvR4Ah"
      },
      "outputs": [],
      "source": [
        "x = 2\n",
        "x_dec = Decimal(2)"
      ]
    },
    {
      "cell_type": "code",
      "execution_count": null,
      "metadata": {
        "colab": {
          "background_save": true
        },
        "id": "fWJjdSeqSocQ"
      },
      "outputs": [],
      "source": [
        "import math"
      ]
    },
    {
      "cell_type": "code",
      "execution_count": null,
      "metadata": {
        "colab": {
          "background_save": true
        },
        "id": "oRglPWgeSpFe"
      },
      "outputs": [],
      "source": [
        "root_float = math.sqrt(x)\n",
        "root_mixed = math.sqrt(x_dec)\n",
        "root_dec = x_dec.sqrt()"
      ]
    },
    {
      "cell_type": "code",
      "execution_count": null,
      "metadata": {
        "colab": {
          "background_save": true
        },
        "id": "6x5up-O5SwkZ",
        "outputId": "536d1bfd-2ea7-4416-b35c-1a00a791ee74"
      },
      "outputs": [
        {
          "name": "stdout",
          "output_type": "stream",
          "text": [
            "1.414213562373095145474621859\n",
            "1.414213562373095145474621859\n",
            "1.41421\n"
          ]
        }
      ],
      "source": [
        "print(format(root_float, '1.27f'))\n",
        "print(format(root_mixed, '1.27f'))\n",
        "print(root_dec)"
      ]
    },
    {
      "cell_type": "code",
      "execution_count": null,
      "metadata": {
        "colab": {
          "background_save": true
        },
        "id": "Rog7bQFzTBYO",
        "outputId": "2e6be84a-a553-4e1b-ae97-3fd16ae39c44"
      },
      "outputs": [
        {
          "name": "stdout",
          "output_type": "stream",
          "text": [
            "2.000000000000000444089209850\n",
            "2.000000000000000444089209850\n",
            "1.99999\n"
          ]
        }
      ],
      "source": [
        "print(format(root_float * root_float, '1.27f'))\n",
        "print(format(root_mixed * root_mixed, '1.27f'))\n",
        "print(root_dec * root_dec)"
      ]
    },
    {
      "cell_type": "code",
      "execution_count": null,
      "metadata": {
        "colab": {
          "background_save": true
        },
        "id": "wJ0FYYX1TSfO",
        "outputId": "d9a6e12f-75dd-4bf6-b614-0a4ae4d51421"
      },
      "outputs": [
        {
          "name": "stdout",
          "output_type": "stream",
          "text": [
            "0.100000000000000005551115123\n",
            "0.100000000000000005551115123\n",
            "0.1\n"
          ]
        }
      ],
      "source": [
        "x = 0.01\n",
        "x_dec = Decimal('0.01')\n",
        "\n",
        "root_float = math.sqrt(x)\n",
        "root_mixed = math.sqrt(x_dec)\n",
        "root_dec = x_dec.sqrt()\n",
        "\n",
        "print(format(root_float, '1.27f'))\n",
        "print(format(root_mixed, '1.27f'))\n",
        "print(root_dec)"
      ]
    },
    {
      "cell_type": "code",
      "execution_count": null,
      "metadata": {
        "colab": {
          "background_save": true
        },
        "id": "ngT56jAuTUcM",
        "outputId": "a4bf9f0c-2840-4db3-b382-ae021b791066"
      },
      "outputs": [
        {
          "name": "stdout",
          "output_type": "stream",
          "text": [
            "0.010000000000000001942890293\n",
            "0.010000000000000001942890293\n",
            "0.01\n"
          ]
        }
      ],
      "source": [
        "print(format(root_float * root_float, '1.27f'))\n",
        "print(format(root_mixed * root_mixed, '1.27f'))\n",
        "print(root_dec * root_dec)"
      ]
    },
    {
      "cell_type": "markdown",
      "metadata": {
        "id": "iK_PKU7OTo0k"
      },
      "source": [
        "### 12 - Decimals - Performance Considerations"
      ]
    },
    {
      "cell_type": "markdown",
      "metadata": {
        "id": "I6-Z2HtKTv7f"
      },
      "source": [
        "**Memory Footprint**"
      ]
    },
    {
      "cell_type": "markdown",
      "metadata": {
        "id": "v9iPUc_DTy1T"
      },
      "source": [
        "Decimals take up a lot more memory than floats."
      ]
    },
    {
      "cell_type": "code",
      "execution_count": null,
      "metadata": {
        "colab": {
          "background_save": true
        },
        "id": "zDnEf8cdTXwV"
      },
      "outputs": [],
      "source": [
        "import sys\n",
        "from decimal import Decimal"
      ]
    },
    {
      "cell_type": "code",
      "execution_count": null,
      "metadata": {
        "colab": {
          "background_save": true
        },
        "id": "EOQ9VVa_T7Mz"
      },
      "outputs": [],
      "source": [
        "a = 3.1415\n",
        "b = Decimal('3.1415')"
      ]
    },
    {
      "cell_type": "code",
      "execution_count": null,
      "metadata": {
        "colab": {
          "background_save": true
        },
        "id": "b1O2brBTT_75",
        "outputId": "6ee91db6-576d-4b5c-db2c-089f4c0b5558"
      },
      "outputs": [
        {
          "data": {
            "text/plain": [
              "24"
            ]
          },
          "execution_count": 488,
          "metadata": {},
          "output_type": "execute_result"
        }
      ],
      "source": [
        "sys.getsizeof(a)"
      ]
    },
    {
      "cell_type": "markdown",
      "metadata": {
        "id": "UAzw_kqEUDbS"
      },
      "source": [
        "24 bytes are used to store the gloat 3.1415"
      ]
    },
    {
      "cell_type": "code",
      "execution_count": null,
      "metadata": {
        "colab": {
          "background_save": true
        },
        "id": "-lnMFHjdUBmw",
        "outputId": "4dd63a1d-b0e9-4f77-8b0a-d81557d50bd9"
      },
      "outputs": [
        {
          "data": {
            "text/plain": [
              "104"
            ]
          },
          "execution_count": 489,
          "metadata": {},
          "output_type": "execute_result"
        }
      ],
      "source": [
        "sys.getsizeof(b)"
      ]
    },
    {
      "cell_type": "markdown",
      "metadata": {
        "id": "Vcok8AmoUKMN"
      },
      "source": [
        "104 bytes are used to store the Decimal 3.1415"
      ]
    },
    {
      "cell_type": "markdown",
      "metadata": {
        "id": "Yj49Al-oUOdw"
      },
      "source": [
        "**Computational Performance**"
      ]
    },
    {
      "cell_type": "markdown",
      "metadata": {
        "id": "c48_Ag_xURva"
      },
      "source": [
        "Decimal arithmetic is also much slower than float arithmetic (on a CPUi an even more so if using a GPU)\n",
        "\n",
        "We can do some rough timings to illustrate this.\n",
        "\n",
        "First we look at the performance difference creating floats vs decimals:"
      ]
    },
    {
      "cell_type": "code",
      "execution_count": null,
      "metadata": {
        "colab": {
          "background_save": true
        },
        "id": "_PJaj5M6UJQs"
      },
      "outputs": [],
      "source": [
        "import time\n",
        "from decimal import Decimal\n",
        "\n",
        "def run_float(n=1):\n",
        "    for i in range(n):\n",
        "        a = 3.1415\n",
        "\n",
        "def run_decimal(n=1):\n",
        "    for i in range(n):\n",
        "        a = Decimal('3.1415')\n"
      ]
    },
    {
      "cell_type": "markdown",
      "metadata": {
        "id": "cJl4MCLaU1SQ"
      },
      "source": [
        "Timing float and Decimal operations:"
      ]
    },
    {
      "cell_type": "code",
      "execution_count": null,
      "metadata": {
        "colab": {
          "background_save": true
        },
        "id": "ou4FatyOU0tj"
      },
      "outputs": [],
      "source": [
        "n = 10000000"
      ]
    },
    {
      "cell_type": "code",
      "execution_count": null,
      "metadata": {
        "colab": {
          "background_save": true
        },
        "id": "S96CjZrCU5e2",
        "outputId": "4edc228a-8d44-444b-c19c-f34bdd059b2b"
      },
      "outputs": [
        {
          "name": "stdout",
          "output_type": "stream",
          "text": [
            "float:  0.33721430000002783\n",
            "decimal:  4.585748599999988\n"
          ]
        }
      ],
      "source": [
        "start = time.perf_counter()\n",
        "run_float(n)\n",
        "end = time.perf_counter()\n",
        "print('float: ', end-start)\n",
        "\n",
        "start = time.perf_counter()\n",
        "run_decimal(n)\n",
        "end = time.perf_counter()\n",
        "print('decimal: ', end-start)"
      ]
    },
    {
      "cell_type": "markdown",
      "metadata": {
        "id": "1sEVj9dVVNI5"
      },
      "source": [
        "We make a slight variant here to see how addition compares between the two types:"
      ]
    },
    {
      "cell_type": "code",
      "execution_count": null,
      "metadata": {
        "colab": {
          "background_save": true
        },
        "id": "U7II1XPLVLe6",
        "outputId": "90b0059e-a1c9-408c-f9cd-7952e2629286"
      },
      "outputs": [
        {
          "name": "stdout",
          "output_type": "stream",
          "text": [
            "float:  0.6837014999999838\n",
            "decimal:  1.3214925999999991\n"
          ]
        }
      ],
      "source": [
        "def run_float(n=1):\n",
        "    a = 3.1415\n",
        "    for i in range(n):\n",
        "        a + a\n",
        "    \n",
        "def run_decimal(n=1):\n",
        "    a = Decimal('3.1415')\n",
        "    for i in range(n):\n",
        "        a + a\n",
        "\n",
        "start = time.perf_counter()\n",
        "run_float(n)\n",
        "end = time.perf_counter()\n",
        "print('float: ', end-start)\n",
        "\n",
        "start = time.perf_counter()\n",
        "run_decimal(n)\n",
        "end = time.perf_counter()\n",
        "print('decimal: ', end-start)"
      ]
    },
    {
      "cell_type": "markdown",
      "metadata": {
        "id": "5xr_rZfRVplO"
      },
      "source": [
        "How about square roots:\n",
        "\n",
        "(We drop the n count a bit)"
      ]
    },
    {
      "cell_type": "code",
      "execution_count": null,
      "metadata": {
        "colab": {
          "background_save": true
        },
        "id": "M8xA9MatVi21",
        "outputId": "c23ae72e-13ba-4d33-e594-2dca14f5ee42"
      },
      "outputs": [
        {
          "name": "stdout",
          "output_type": "stream",
          "text": [
            "float:  0.8804561000000035\n",
            "decimal:  5.74647490000001\n"
          ]
        }
      ],
      "source": [
        "n = 5000000\n",
        "\n",
        "import math\n",
        "\n",
        "def run_float(n=1):\n",
        "    a = 3.1415\n",
        "    for i in range(n):\n",
        "        math.sqrt(a)\n",
        "        \n",
        "def run_decimal(n=1):\n",
        "    a = Decimal('3.1415')\n",
        "    for i in range(n):\n",
        "        a.sqrt()\n",
        "        \n",
        "start = time.perf_counter()\n",
        "run_float(n)\n",
        "end = time.perf_counter()\n",
        "print('float: ', end-start)\n",
        "\n",
        "start = time.perf_counter()\n",
        "run_decimal(n)\n",
        "end = time.perf_counter()\n",
        "print('decimal: ', end-start)"
      ]
    },
    {
      "cell_type": "markdown",
      "metadata": {
        "id": "72WMZaGTV1sq"
      },
      "source": [
        "### 13 - Complex Numbers"
      ]
    },
    {
      "cell_type": "markdown",
      "metadata": {
        "id": "Fbq5sK9fV5OD"
      },
      "source": [
        "Python's built-in class provides support for complex numbers.\n",
        "\n",
        "Complex numbers are defined in rectangular coordinates (real and imaginary parts) using either the constructor or a literal expression.\n",
        "\n",
        "The complex number `1 + 2j` can be defined in either of these ways:"
      ]
    },
    {
      "cell_type": "code",
      "execution_count": null,
      "metadata": {
        "colab": {
          "background_save": true
        },
        "id": "h-plS00_Vwrn"
      },
      "outputs": [],
      "source": [
        "a = complex(1, 2)\n",
        "b = 1 + 2j"
      ]
    },
    {
      "cell_type": "code",
      "execution_count": null,
      "metadata": {
        "colab": {
          "background_save": true
        },
        "id": "oHIGhI8fq05l",
        "outputId": "4c795f4f-7153-4251-a7da-7012af409095"
      },
      "outputs": [
        {
          "data": {
            "text/plain": [
              "True"
            ]
          },
          "execution_count": 496,
          "metadata": {},
          "output_type": "execute_result"
        }
      ],
      "source": [
        "a == b"
      ]
    },
    {
      "cell_type": "markdown",
      "metadata": {
        "id": "9Ht6POUbq3uf"
      },
      "source": [
        "Note that the real and imaginary parts are defined as floats, and can be retrieved as follows:"
      ]
    },
    {
      "cell_type": "code",
      "execution_count": null,
      "metadata": {
        "colab": {
          "background_save": true
        },
        "id": "xNYNhaldq2CD",
        "outputId": "8a73886b-45c9-456e-e3a4-de4e9cf6c80d"
      },
      "outputs": [
        {
          "data": {
            "text/plain": [
              "(1.0, float)"
            ]
          },
          "execution_count": 497,
          "metadata": {},
          "output_type": "execute_result"
        }
      ],
      "source": [
        "a.real, type(a.real)"
      ]
    },
    {
      "cell_type": "code",
      "execution_count": null,
      "metadata": {
        "colab": {
          "background_save": true
        },
        "id": "1qv2VSJCrCWk",
        "outputId": "fc63aad6-fc9d-4ac3-8a1d-7a98909d56e6"
      },
      "outputs": [
        {
          "data": {
            "text/plain": [
              "(2.0, float)"
            ]
          },
          "execution_count": 498,
          "metadata": {},
          "output_type": "execute_result"
        }
      ],
      "source": [
        "a.imag, type(a.imag)"
      ]
    },
    {
      "cell_type": "markdown",
      "metadata": {
        "id": "k2oJn6xprHt2"
      },
      "source": [
        "The complex conjugate can be calculated as follows:"
      ]
    },
    {
      "cell_type": "code",
      "execution_count": null,
      "metadata": {
        "colab": {
          "background_save": true
        },
        "id": "f0UfsuUarGqJ",
        "outputId": "8e03d967-786e-40db-ffa1-caa90a577c3b"
      },
      "outputs": [
        {
          "data": {
            "text/plain": [
              "(1-2j)"
            ]
          },
          "execution_count": 499,
          "metadata": {},
          "output_type": "execute_result"
        }
      ],
      "source": [
        "a.conjugate()"
      ]
    },
    {
      "cell_type": "markdown",
      "metadata": {
        "id": "cse4dVxorTIE"
      },
      "source": [
        "The standard arithmetic operators are polymorphic and defined for complex numbers."
      ]
    },
    {
      "cell_type": "code",
      "execution_count": null,
      "metadata": {
        "colab": {
          "background_save": true
        },
        "id": "ZzmbWaW4rR8o"
      },
      "outputs": [],
      "source": [
        "a = 1 + 2j\n",
        "b = 3 - 4j\n",
        "c = 5j\n",
        "d = 10"
      ]
    },
    {
      "cell_type": "code",
      "execution_count": null,
      "metadata": {
        "colab": {
          "background_save": true
        },
        "id": "oPZjAX5irdwu",
        "outputId": "3ce159b9-17dc-4d63-bb74-9b66d0e0a0ea"
      },
      "outputs": [
        {
          "data": {
            "text/plain": [
              "(4-2j)"
            ]
          },
          "execution_count": 501,
          "metadata": {},
          "output_type": "execute_result"
        }
      ],
      "source": [
        "a + b"
      ]
    },
    {
      "cell_type": "code",
      "execution_count": null,
      "metadata": {
        "colab": {
          "background_save": true
        },
        "id": "NQOalS7vreS4",
        "outputId": "b25e9a91-0d35-46da-d6e8-fca73e94a196"
      },
      "outputs": [
        {
          "data": {
            "text/plain": [
              "(20+15j)"
            ]
          },
          "execution_count": 502,
          "metadata": {},
          "output_type": "execute_result"
        }
      ],
      "source": [
        "b * c"
      ]
    },
    {
      "cell_type": "code",
      "execution_count": null,
      "metadata": {
        "colab": {
          "background_save": true
        },
        "id": "YLPJ-JVarlbx",
        "outputId": "0ac4f898-2a13-45fb-e989-60ae44e9386e"
      },
      "outputs": [
        {
          "data": {
            "text/plain": [
              "0.5j"
            ]
          },
          "execution_count": 503,
          "metadata": {},
          "output_type": "execute_result"
        }
      ],
      "source": [
        "c / d"
      ]
    },
    {
      "cell_type": "code",
      "execution_count": null,
      "metadata": {
        "colab": {
          "background_save": true
        },
        "id": "84LiZp4Drnu3",
        "outputId": "b04f1ddb-136c-48a7-d590-aeb6309661ba"
      },
      "outputs": [
        {
          "data": {
            "text/plain": [
              "(9-2j)"
            ]
          },
          "execution_count": 504,
          "metadata": {},
          "output_type": "execute_result"
        }
      ],
      "source": [
        "d - a"
      ]
    },
    {
      "cell_type": "markdown",
      "metadata": {
        "id": "Z7ITB6bfrtBa"
      },
      "source": [
        "The `//` and `%` operators, although also polymorphic, are not defined for complex numbers:"
      ]
    },
    {
      "cell_type": "code",
      "execution_count": null,
      "metadata": {
        "colab": {
          "background_save": true
        },
        "id": "28Eh8k6JrpUP",
        "outputId": "d9b29c72-b92b-42cf-b78b-a6f8449713c4"
      },
      "outputs": [
        {
          "ename": "TypeError",
          "evalue": "can't take floor of complex number.",
          "output_type": "error",
          "traceback": [
            "\u001b[1;31m---------------------------------------------------------------------------\u001b[0m",
            "\u001b[1;31mTypeError\u001b[0m                                 Traceback (most recent call last)",
            "Input \u001b[1;32mIn [505]\u001b[0m, in \u001b[0;36m<cell line: 1>\u001b[1;34m()\u001b[0m\n\u001b[1;32m----> 1\u001b[0m \u001b[43ma\u001b[49m\u001b[43m \u001b[49m\u001b[38;5;241;43m/\u001b[39;49m\u001b[38;5;241;43m/\u001b[39;49m\u001b[43m \u001b[49m\u001b[43mb\u001b[49m\n",
            "\u001b[1;31mTypeError\u001b[0m: can't take floor of complex number."
          ]
        }
      ],
      "source": [
        "a // b"
      ]
    },
    {
      "cell_type": "code",
      "execution_count": null,
      "metadata": {
        "colab": {
          "background_save": true
        },
        "id": "Cc8P4HThr29y"
      },
      "outputs": [],
      "source": [
        "a % b"
      ]
    },
    {
      "cell_type": "markdown",
      "metadata": {
        "id": "XUgZXPfyr7u1"
      },
      "source": [
        "The `==` and `!=` operators support complex numbers - but since the real and imaginary parts of complex numbers are floats, the same problems comparing floats using `==` and `!=` also apply to complex numbers."
      ]
    },
    {
      "cell_type": "code",
      "execution_count": null,
      "metadata": {
        "colab": {
          "background_save": true
        },
        "id": "EufIIWmkr6pe"
      },
      "outputs": [],
      "source": [
        "a = 0.1j"
      ]
    },
    {
      "cell_type": "code",
      "execution_count": null,
      "metadata": {
        "colab": {
          "background_save": true
        },
        "id": "-lbmFZn6tDL1"
      },
      "outputs": [],
      "source": [
        "a + a + a == 0.3j"
      ]
    },
    {
      "cell_type": "markdown",
      "metadata": {
        "id": "RaTc6RlWtGEs"
      },
      "source": [
        "In addition, the standard comparison operators `(<, <=, >, >=)` are not defined for complex numbers."
      ]
    },
    {
      "cell_type": "code",
      "execution_count": null,
      "metadata": {
        "colab": {
          "background_save": true
        },
        "id": "pMXMKub0tFGd"
      },
      "outputs": [],
      "source": [
        "a = 1 + 1j\n",
        "b = 100 + 100j\n",
        "a < b"
      ]
    },
    {
      "cell_type": "markdown",
      "metadata": {
        "id": "LGo0GJsPtX4I"
      },
      "source": [
        "**Math Functions**"
      ]
    },
    {
      "cell_type": "markdown",
      "metadata": {
        "id": "Rtcx-Xhltl38"
      },
      "source": [
        "The `cmath` module provides complex alternatives to the standard `math` functions.\n",
        "\n",
        "In addition, the `cmath` module provides the complex implementation of the `isclose()` method available for floats."
      ]
    },
    {
      "cell_type": "code",
      "execution_count": null,
      "metadata": {
        "colab": {
          "background_save": true
        },
        "id": "bUk8MuTxtV9n"
      },
      "outputs": [],
      "source": [
        "import cmath\n",
        "\n",
        "a = 1 + 5j\n",
        "print(cmath.sqrt(a))"
      ]
    },
    {
      "cell_type": "markdown",
      "metadata": {
        "id": "DohbCMfcuABT"
      },
      "source": [
        "The standard `math` module functions will not work with complex numbers:"
      ]
    },
    {
      "cell_type": "code",
      "execution_count": null,
      "metadata": {
        "colab": {
          "background_save": true
        },
        "id": "Ymbx2QSwt-uf"
      },
      "outputs": [],
      "source": [
        "import math\n",
        "print(math.sqrt(a))"
      ]
    },
    {
      "cell_type": "markdown",
      "metadata": {
        "id": "dWtNh9hIuJlu"
      },
      "source": [
        "**Polar / Rectangular Conversions**"
      ]
    },
    {
      "cell_type": "markdown",
      "metadata": {
        "id": "00hBMB1iuNuc"
      },
      "source": [
        "The `cmath.phase()` function can be used to return the phase (or argument) of any complex number.\n",
        "\n",
        "The standard `abs()` function supports complex numbers and will return the magnitude (euclidean norm) of the complex number."
      ]
    },
    {
      "cell_type": "code",
      "execution_count": null,
      "metadata": {
        "colab": {
          "background_save": true
        },
        "id": "5s-Rq4nruIm9"
      },
      "outputs": [],
      "source": [
        "a = 1 + 1j"
      ]
    },
    {
      "cell_type": "code",
      "execution_count": null,
      "metadata": {
        "colab": {
          "background_save": true
        },
        "id": "infzJ3LVuhFS"
      },
      "outputs": [],
      "source": [
        "r = abs(a)\n",
        "phi = cmath.phase(a)\n",
        "print('{0} = ({1},{2})'.format(a, r, phi))"
      ]
    },
    {
      "cell_type": "markdown",
      "metadata": {
        "id": "Ui2ZGvkxusSw"
      },
      "source": [
        "Complex numbers in polar coordinates can be converted to rectangular coordinates using the `math.rect()` function:"
      ]
    },
    {
      "cell_type": "code",
      "execution_count": null,
      "metadata": {
        "colab": {
          "background_save": true
        },
        "id": "ZjzCovOdurOE"
      },
      "outputs": [],
      "source": [
        "r = math.sqrt(2)\n",
        "phi = cmath.pi/4\n",
        "print(cmath.rect(r, phi))"
      ]
    },
    {
      "cell_type": "markdown",
      "metadata": {
        "id": "l972qKQEvMbX"
      },
      "source": [
        "**Euler's Identity and the isclose() function**"
      ]
    },
    {
      "cell_type": "markdown",
      "metadata": {
        "id": "Bf7CPbfdvQXw"
      },
      "source": [
        "`e^i*pi + 1 = 0`"
      ]
    },
    {
      "cell_type": "code",
      "execution_count": null,
      "metadata": {
        "colab": {
          "background_save": true
        },
        "id": "jpu0TotGvJYy"
      },
      "outputs": [],
      "source": [
        "RHS = cmath.exp(cmath.pi * 1j) + 1\n",
        "print(RHS)"
      ]
    },
    {
      "cell_type": "markdown",
      "metadata": {
        "id": "B2qsjKckvhia"
      },
      "source": [
        "Which, because of limited precision is not quite zero.\n",
        "\n",
        "However, the result is very close to zero.\n",
        "\n",
        "We can use the `isclose()` method of the `cmath` module, which behaves similarly to the `math.isclose()` method. Since we are testing for closeness of two numbers close to zero, we need to make sure an absolute tolerance is also specified:"
      ]
    },
    {
      "cell_type": "code",
      "execution_count": null,
      "metadata": {
        "colab": {
          "background_save": true
        },
        "id": "e8oMEt-Pvgel"
      },
      "outputs": [],
      "source": [
        "cmath.isclose(RHS, 0, abs_tol=0.00001)"
      ]
    },
    {
      "cell_type": "markdown",
      "metadata": {
        "id": "YfFQoNlcv8mO"
      },
      "source": [
        "If we had not specified an absolute tolerance:"
      ]
    },
    {
      "cell_type": "code",
      "execution_count": null,
      "metadata": {
        "colab": {
          "background_save": true
        },
        "id": "MKD7a2Hmv6-O"
      },
      "outputs": [],
      "source": [
        "cmath.isclose(RHS, 0)"
      ]
    },
    {
      "cell_type": "markdown",
      "metadata": {
        "id": "IB4k_6lgJQBA"
      },
      "source": [
        "### 14 - Booleans"
      ]
    },
    {
      "cell_type": "markdown",
      "metadata": {
        "id": "yKxoOndDJSsE"
      },
      "source": [
        "The `bool` class is used to represent boolean values.\n",
        "\n",
        "The `bool` class inherits from the `int` class."
      ]
    },
    {
      "cell_type": "code",
      "execution_count": null,
      "metadata": {
        "colab": {
          "background_save": true
        },
        "id": "hY7IXcjwwBrh"
      },
      "outputs": [],
      "source": [
        "issubclass(bool, int)"
      ]
    },
    {
      "cell_type": "markdown",
      "metadata": {
        "id": "G8kQQeU4JklW"
      },
      "source": [
        "Two built-in constants, `True` and `False` are singleton instances of the bool class with underlying int varues of 1 and 0 respectively."
      ]
    },
    {
      "cell_type": "code",
      "execution_count": null,
      "metadata": {
        "colab": {
          "background_save": true
        },
        "id": "4a5ziHOrJiPO"
      },
      "outputs": [],
      "source": [
        "type(True), id(True), int(True)"
      ]
    },
    {
      "cell_type": "code",
      "execution_count": null,
      "metadata": {
        "colab": {
          "background_save": true
        },
        "id": "tkRag4xmJ00T"
      },
      "outputs": [],
      "source": [
        "type(False), id(False), int(False)"
      ]
    },
    {
      "cell_type": "markdown",
      "metadata": {
        "id": "zHE6pmGAJ7KC"
      },
      "source": [
        "These two values are instances of the `bool` class, and by inheritance are also `int` objects."
      ]
    },
    {
      "cell_type": "code",
      "execution_count": null,
      "metadata": {
        "colab": {
          "background_save": true
        },
        "id": "Iqj9Nhi_J6UK"
      },
      "outputs": [],
      "source": [
        "isinstance(True, bool)"
      ]
    },
    {
      "cell_type": "code",
      "execution_count": null,
      "metadata": {
        "colab": {
          "background_save": true
        },
        "id": "LZ0q0AgiKFaV"
      },
      "outputs": [],
      "source": [
        "isinstance(True, int)"
      ]
    },
    {
      "cell_type": "markdown",
      "metadata": {
        "id": "WA8kUsyyKI7t"
      },
      "source": [
        "Since `True` and `False` are singletons, we can use either the `is` operator, or the `==` operator to compare them to any boolean expression."
      ]
    },
    {
      "cell_type": "code",
      "execution_count": null,
      "metadata": {
        "colab": {
          "background_save": true
        },
        "id": "w_6a0c5uKHA4"
      },
      "outputs": [],
      "source": [
        "id(True), id(1 < 2)"
      ]
    },
    {
      "cell_type": "code",
      "execution_count": null,
      "metadata": {
        "colab": {
          "background_save": true
        },
        "id": "CFpIm7rgKbPq"
      },
      "outputs": [],
      "source": [
        "id(False), id(1 == 3)"
      ]
    },
    {
      "cell_type": "code",
      "execution_count": null,
      "metadata": {
        "colab": {
          "background_save": true
        },
        "id": "e_9CmW_oKkAA"
      },
      "outputs": [],
      "source": [
        "(1 < 2) is True, (1 < 2) == True"
      ]
    },
    {
      "cell_type": "code",
      "execution_count": null,
      "metadata": {
        "colab": {
          "background_save": true
        },
        "id": "G5lTy2XuMY4K"
      },
      "outputs": [],
      "source": [
        "(1 == 2) is False, (1 == 2) == False"
      ]
    },
    {
      "cell_type": "markdown",
      "metadata": {
        "id": "s3Wcg9TIMflv"
      },
      "source": [
        "\n",
        "\n",
        "---\n",
        "**BE CAREFUL!**\n"
      ]
    },
    {
      "cell_type": "markdown",
      "metadata": {
        "id": "vxSOoKYzMjX4"
      },
      "source": [
        "*Be careful with that last comparsion, the parentheses are necessary!*"
      ]
    },
    {
      "cell_type": "code",
      "execution_count": null,
      "metadata": {
        "colab": {
          "background_save": true
        },
        "id": "5D8GxB-pMjBF"
      },
      "outputs": [],
      "source": [
        "1 == 2 == False"
      ]
    },
    {
      "cell_type": "code",
      "execution_count": null,
      "metadata": {
        "colab": {
          "background_save": true
        },
        "id": "RzE1t5sAMd3k"
      },
      "outputs": [],
      "source": [
        "(1 == 2) == False"
      ]
    },
    {
      "cell_type": "markdown",
      "metadata": {
        "id": "mwYnNx40Myoi"
      },
      "source": [
        "*We'll look into this in detail later, but, for now, this happens because a chained comparison such as `a == b == c` is actually evaluated as `a == b and b == c`*\n",
        "\n",
        "*So `1 == 2 == False` is the same as `1 == 2 and 2 == False`*"
      ]
    },
    {
      "cell_type": "code",
      "execution_count": null,
      "metadata": {
        "colab": {
          "background_save": true
        },
        "id": "eT-H8xxyMxrf"
      },
      "outputs": [],
      "source": [
        "1 == 2, 2 == False, 1==2 and 2==False"
      ]
    },
    {
      "cell_type": "markdown",
      "metadata": {
        "id": "obKc8_hoNOIp"
      },
      "source": [
        "*But,*"
      ]
    },
    {
      "cell_type": "code",
      "execution_count": null,
      "metadata": {
        "colab": {
          "background_save": true
        },
        "id": "F29nMgu4NJki"
      },
      "outputs": [],
      "source": [
        "(1 == 2)"
      ]
    },
    {
      "cell_type": "markdown",
      "metadata": {
        "id": "vyGIHtxcNX8G"
      },
      "source": [
        "*So ``(1 == 2) == False` evaluates to True*\n",
        "\n",
        "*But since `False` is also `0`, we get the following:*"
      ]
    },
    {
      "cell_type": "code",
      "execution_count": null,
      "metadata": {
        "colab": {
          "background_save": true
        },
        "id": "t5q4hc4qNWwH"
      },
      "outputs": [],
      "source": [
        "(1 == 2) == 0"
      ]
    },
    {
      "cell_type": "markdown",
      "metadata": {
        "id": "RK5PGeBfPAl8"
      },
      "source": [
        "\n",
        "\n",
        "---\n",
        "\n"
      ]
    },
    {
      "cell_type": "markdown",
      "metadata": {
        "id": "X0S1WnImNsz4"
      },
      "source": [
        "The underlying integer values of True and False are:"
      ]
    },
    {
      "cell_type": "code",
      "execution_count": null,
      "metadata": {
        "colab": {
          "background_save": true
        },
        "id": "LL5vwl_XNjdV"
      },
      "outputs": [],
      "source": [
        "int(True), int(False)"
      ]
    },
    {
      "cell_type": "markdown",
      "metadata": {
        "id": "YRbRXCeeN01l"
      },
      "source": [
        "So, using an equality comparison:"
      ]
    },
    {
      "cell_type": "code",
      "execution_count": null,
      "metadata": {
        "colab": {
          "background_save": true
        },
        "id": "7sMb3ONZNzJY"
      },
      "outputs": [],
      "source": [
        "1 == True, 0 == False"
      ]
    },
    {
      "cell_type": "markdown",
      "metadata": {
        "id": "aBOTdnVVPJDp"
      },
      "source": [
        "But, from an object perspective 1 and True are not the same (similarly with 0 and False)"
      ]
    },
    {
      "cell_type": "code",
      "execution_count": null,
      "metadata": {
        "colab": {
          "background_save": true
        },
        "id": "MZD7b8RoPH4n"
      },
      "outputs": [],
      "source": [
        "1 == True, 1 is True"
      ]
    },
    {
      "cell_type": "code",
      "execution_count": null,
      "metadata": {
        "colab": {
          "background_save": true
        },
        "id": "PRlJ8WGsPUJz"
      },
      "outputs": [],
      "source": [
        "0 == False, 0 is False"
      ]
    },
    {
      "cell_type": "markdown",
      "metadata": {
        "id": "uz8x-zO8QCp-"
      },
      "source": [
        "Any integer can be cast to a boolean, and follows the rule:\n",
        "\n",
        "bool(x) = True for any x except for zero which returns False"
      ]
    },
    {
      "cell_type": "code",
      "execution_count": null,
      "metadata": {
        "colab": {
          "background_save": true
        },
        "id": "o1AbQz9fPaij"
      },
      "outputs": [],
      "source": [
        "bool(0)"
      ]
    },
    {
      "cell_type": "code",
      "execution_count": null,
      "metadata": {
        "colab": {
          "background_save": true
        },
        "id": "4UNzwnOmQT0o"
      },
      "outputs": [],
      "source": [
        "bool(1), bool(100), bool(-1)"
      ]
    },
    {
      "cell_type": "markdown",
      "metadata": {
        "id": "flS7W9XpQaSV"
      },
      "source": [
        "Since booleans are subclassed from integers, they can behave like integers, and because of polymorphism all the standard integer operators, properties and methods apply."
      ]
    },
    {
      "cell_type": "code",
      "execution_count": null,
      "metadata": {
        "colab": {
          "background_save": true
        },
        "id": "1FtNYGacQXiu"
      },
      "outputs": [],
      "source": [
        "True > False"
      ]
    },
    {
      "cell_type": "code",
      "execution_count": null,
      "metadata": {
        "colab": {
          "background_save": true
        },
        "id": "7BgRjSkgQpjX"
      },
      "outputs": [],
      "source": [
        "True + 2"
      ]
    },
    {
      "cell_type": "code",
      "execution_count": null,
      "metadata": {
        "colab": {
          "background_save": true
        },
        "id": "8nVfHNDJQvRU"
      },
      "outputs": [],
      "source": [
        "False // 2"
      ]
    },
    {
      "cell_type": "code",
      "execution_count": null,
      "metadata": {
        "colab": {
          "background_save": true
        },
        "id": "Hha_W8AiQwTd"
      },
      "outputs": [],
      "source": [
        "True + True + True"
      ]
    },
    {
      "cell_type": "code",
      "execution_count": null,
      "metadata": {
        "colab": {
          "background_save": true
        },
        "id": "ysz4K6zFQx7x"
      },
      "outputs": [],
      "source": [
        "(True + True + True) % 2"
      ]
    },
    {
      "cell_type": "code",
      "execution_count": null,
      "metadata": {
        "colab": {
          "background_save": true
        },
        "id": "NxxDI5CNRABv"
      },
      "outputs": [],
      "source": [
        "-True"
      ]
    },
    {
      "cell_type": "code",
      "execution_count": null,
      "metadata": {
        "colab": {
          "background_save": true
        },
        "id": "aW1Uv8B1RiJr"
      },
      "outputs": [],
      "source": [
        "100 * False"
      ]
    },
    {
      "cell_type": "markdown",
      "metadata": {
        "id": "bwSr3cpuSELQ"
      },
      "source": [
        "I certainly do not recommend you write code like that shown above, but aware that it does work."
      ]
    },
    {
      "cell_type": "markdown",
      "metadata": {
        "id": "ZThoA0BVTBHr"
      },
      "source": [
        "### 15 - Booleans - Truth Values"
      ]
    },
    {
      "cell_type": "markdown",
      "metadata": {
        "id": "Ok_HlLjATI-7"
      },
      "source": [
        "All objects in Python have an associated `truth value`, or `truthyness`\n",
        "\n",
        "We saw in a previous lecture that integers have an inherent truth value:"
      ]
    },
    {
      "cell_type": "code",
      "execution_count": null,
      "metadata": {
        "colab": {
          "background_save": true
        },
        "id": "tpiAp95rRjeZ"
      },
      "outputs": [],
      "source": [
        "bool(0)"
      ]
    },
    {
      "cell_type": "code",
      "execution_count": null,
      "metadata": {
        "colab": {
          "background_save": true
        },
        "id": "wUM4IL0XUBQs"
      },
      "outputs": [],
      "source": [
        "bool(1), bool(-1), bool(100)"
      ]
    },
    {
      "cell_type": "markdown",
      "metadata": {
        "id": "FQz8NWOLUUat"
      },
      "source": [
        "This truthyness has nothing to do with the fact that `bool` is a subclass of `int`.\n",
        "\n",
        "Instead, it has to do with the fact that the `int` class implements a `__bool__()` method:"
      ]
    },
    {
      "cell_type": "code",
      "execution_count": null,
      "metadata": {
        "colab": {
          "background_save": true
        },
        "id": "fLRxy6SXUGH1"
      },
      "outputs": [],
      "source": [
        "help(bool)"
      ]
    },
    {
      "cell_type": "markdown",
      "metadata": {
        "id": "uva1zE0dVMsV"
      },
      "source": [
        "If you scroll down in the documentation you should reach a section that looks like this:\n",
        "\n",
        "`| __bool__(self, /)`\n",
        "\n",
        "`|    self != 0`\n",
        "\n",
        "So, when we write:"
      ]
    },
    {
      "cell_type": "code",
      "execution_count": null,
      "metadata": {
        "colab": {
          "background_save": true
        },
        "id": "uv88OjNLVAo3"
      },
      "outputs": [],
      "source": [
        "bool(100)"
      ]
    },
    {
      "cell_type": "code",
      "execution_count": null,
      "metadata": {
        "colab": {
          "background_save": true
        },
        "id": "cAVU92WVWLUk"
      },
      "outputs": [],
      "source": [
        "(100).__bool__()"
      ]
    },
    {
      "cell_type": "code",
      "execution_count": null,
      "metadata": {
        "colab": {
          "background_save": true
        },
        "id": "93I2lEoJWWFc"
      },
      "outputs": [],
      "source": [
        "(0).__bool__()"
      ]
    },
    {
      "cell_type": "markdown",
      "metadata": {
        "id": "5zBHUgQJWcQP"
      },
      "source": [
        "Most objects will implement either the `__bool__()` or `__len__()` methods. If they don't, then their associated value will be `True` always."
      ]
    },
    {
      "cell_type": "markdown",
      "metadata": {
        "id": "3_vceP9HWxHp"
      },
      "source": [
        "**Numeric Types**"
      ]
    },
    {
      "cell_type": "markdown",
      "metadata": {
        "id": "FqnnQYU8W00k"
      },
      "source": [
        "Any non-zero numeric value is truthy. Any zero numeric value is falsy:"
      ]
    },
    {
      "cell_type": "code",
      "execution_count": null,
      "metadata": {
        "colab": {
          "background_save": true
        },
        "id": "8JUeiil-WZCt"
      },
      "outputs": [],
      "source": [
        "from fractions import Fraction\n",
        "from decimal import Decimal\n",
        "bool(10), bool(1.5), bool(Fraction(3, 4)), bool(Decimal('10.5'))"
      ]
    },
    {
      "cell_type": "code",
      "execution_count": null,
      "metadata": {
        "colab": {
          "background_save": true
        },
        "id": "69C8uuYyXUHh"
      },
      "outputs": [],
      "source": [
        "bool(0), bool(0.0), bool(Fraction(0,1)), bool(Decimal('0')), bool(0j)"
      ]
    },
    {
      "cell_type": "markdown",
      "metadata": {
        "id": "cuLwg7wcXzCP"
      },
      "source": [
        "**Sequence Types**"
      ]
    },
    {
      "cell_type": "markdown",
      "metadata": {
        "id": "xKNgNJ_EX1YV"
      },
      "source": [
        "An empty sequence type object is Falsy, a non-empty one is truthy:"
      ]
    },
    {
      "cell_type": "code",
      "execution_count": null,
      "metadata": {
        "colab": {
          "background_save": true
        },
        "id": "HbRyESQ7Xpz1"
      },
      "outputs": [],
      "source": [
        "bool([1, 2, 3]), bool((1, 2, 3)), bool('abc'), bool(1j)"
      ]
    },
    {
      "cell_type": "code",
      "execution_count": null,
      "metadata": {
        "colab": {
          "background_save": true
        },
        "id": "tGFmcCf9YBVL"
      },
      "outputs": [],
      "source": [
        "bool([]), bool(()), bool('')"
      ]
    },
    {
      "cell_type": "markdown",
      "metadata": {
        "id": "fkYRlc9MYJUL"
      },
      "source": [
        "**Mapping Types**"
      ]
    },
    {
      "cell_type": "markdown",
      "metadata": {
        "id": "hbbTCT3pYMVC"
      },
      "source": [
        "Similarly, an empty mapping type will be falsy, a non-empty one truthy:"
      ]
    },
    {
      "cell_type": "code",
      "execution_count": null,
      "metadata": {
        "colab": {
          "background_save": true
        },
        "id": "NmS3uFT_YFcr"
      },
      "outputs": [],
      "source": [
        "bool({'a': 1}), bool({1, 2, 3})"
      ]
    },
    {
      "cell_type": "code",
      "execution_count": null,
      "metadata": {
        "colab": {
          "background_save": true
        },
        "id": "c6-u5dJmYXYM"
      },
      "outputs": [],
      "source": [
        "bool({}), bool(set())"
      ]
    },
    {
      "cell_type": "markdown",
      "metadata": {
        "id": "TvLZ-FvKYhTV"
      },
      "source": [
        "**The None Object**"
      ]
    },
    {
      "cell_type": "markdown",
      "metadata": {
        "id": "guBlkUtFYj3P"
      },
      "source": [
        "The Singleton `None` object is always falsy:"
      ]
    },
    {
      "cell_type": "code",
      "execution_count": null,
      "metadata": {
        "colab": {
          "background_save": true
        },
        "id": "1D6PaJsNYfl_"
      },
      "outputs": [],
      "source": [
        "bool(None)"
      ]
    },
    {
      "cell_type": "markdown",
      "metadata": {
        "id": "4nZvXsIgYqnc"
      },
      "source": [
        "**One Application of Truth Values**"
      ]
    },
    {
      "cell_type": "markdown",
      "metadata": {
        "id": "u0mNQvfZY62j"
      },
      "source": [
        "Any conditional expression which involves objects other than `bool` types, will use the associated truth value as the result of the conditional expression."
      ]
    },
    {
      "cell_type": "code",
      "execution_count": null,
      "metadata": {
        "colab": {
          "background_save": true
        },
        "id": "MeJVV85eYopS"
      },
      "outputs": [],
      "source": [
        "a = [1, 2, 3]\n",
        "if a:\n",
        "    print(a[0])\n",
        "else:\n",
        "    print('a is None, or a is empty')"
      ]
    },
    {
      "cell_type": "code",
      "execution_count": null,
      "metadata": {
        "colab": {
          "background_save": true
        },
        "id": "TFd_yoRJZOLM"
      },
      "outputs": [],
      "source": [
        "a = []\n",
        "if a:\n",
        "    print(a[0])\n",
        "else:\n",
        "    print('a is None, or a is empty')"
      ]
    },
    {
      "cell_type": "code",
      "execution_count": null,
      "metadata": {
        "colab": {
          "background_save": true
        },
        "id": "JYuWT_qwZVUx"
      },
      "outputs": [],
      "source": [
        "a = 'abc'\n",
        "if a:\n",
        "    print(a[0])\n",
        "else:\n",
        "    print('a is None, or a is empty')"
      ]
    },
    {
      "cell_type": "code",
      "execution_count": null,
      "metadata": {
        "colab": {
          "background_save": true
        },
        "id": "cGcNVcbmZ_4u"
      },
      "outputs": [],
      "source": [
        "a = ''\n",
        "if a:\n",
        "    print(a[0])\n",
        "else:\n",
        "    print('a is None, or a is empty')"
      ]
    },
    {
      "cell_type": "markdown",
      "metadata": {
        "id": "ey87WuRoaL9W"
      },
      "source": [
        "We could write this using a more lengthy expression:"
      ]
    },
    {
      "cell_type": "code",
      "execution_count": null,
      "metadata": {
        "colab": {
          "background_save": true
        },
        "id": "-a_1wZWeaGGm"
      },
      "outputs": [],
      "source": [
        "a = 'abc'\n",
        "if a is not None and len(a) > 0:\n",
        "    print(a[0])\n",
        "else:\n",
        "    print('a is None, or a is empty')"
      ]
    },
    {
      "cell_type": "markdown",
      "metadata": {
        "id": "pVd1gH8gaZEU"
      },
      "source": [
        "Doing the following would break our code in some instances:"
      ]
    },
    {
      "cell_type": "code",
      "execution_count": null,
      "metadata": {
        "colab": {
          "background_save": true
        },
        "id": "NEECHlc4aYPX"
      },
      "outputs": [],
      "source": [
        "a = 'abc'\n",
        "if a is not None:\n",
        "    print(a[0])"
      ]
    },
    {
      "cell_type": "markdown",
      "metadata": {
        "id": "XqbmJfYYajFK"
      },
      "source": [
        "works, but:"
      ]
    },
    {
      "cell_type": "code",
      "execution_count": null,
      "metadata": {
        "colab": {
          "background_save": true
        },
        "id": "BcCd-Vk_agwV"
      },
      "outputs": [],
      "source": [
        "a = ''\n",
        "if a is not None:\n",
        "    print(a[0])"
      ]
    },
    {
      "cell_type": "code",
      "execution_count": null,
      "metadata": {
        "colab": {
          "background_save": true
        },
        "id": "Q6at31uyapHR"
      },
      "outputs": [],
      "source": [
        "a = None\n",
        "if len(a) > 0:\n",
        "    print(a[0])"
      ]
    },
    {
      "cell_type": "markdown",
      "metadata": {
        "id": "ix_a0zqZa1c2"
      },
      "source": [
        "to be through we would need to write:"
      ]
    },
    {
      "cell_type": "code",
      "execution_count": null,
      "metadata": {
        "colab": {
          "background_save": true
        },
        "id": "3JcVFet8aue2"
      },
      "outputs": [],
      "source": [
        "a = None\n",
        "if a is not None and len(a) > 0:\n",
        "    print(a[0])"
      ]
    },
    {
      "cell_type": "markdown",
      "metadata": {
        "id": "I56YYH1YbAR9"
      },
      "source": [
        "Also, the order of the boolean expressions matter here!\n",
        "\n",
        "We'll discuss this and short-circuit evaluations.\n",
        "\n",
        "For example:"
      ]
    },
    {
      "cell_type": "code",
      "execution_count": null,
      "metadata": {
        "colab": {
          "background_save": true
        },
        "id": "bWP2UlnYa-9x"
      },
      "outputs": [],
      "source": [
        "a = None\n",
        "if len(a) > 0 and a is not None:\n",
        "    print(a[0])"
      ]
    },
    {
      "cell_type": "markdown",
      "metadata": {
        "id": "ZyOV_4Vqbh7B"
      },
      "source": [
        "### 16 - Booleans - Precedence and Short-Circuiting"
      ]
    },
    {
      "cell_type": "code",
      "execution_count": null,
      "metadata": {
        "colab": {
          "background_save": true
        },
        "id": "If6wQeiObRyU"
      },
      "outputs": [],
      "source": [
        "True or True and False"
      ]
    },
    {
      "cell_type": "markdown",
      "metadata": {
        "id": "r6oaZ9yNqAfV"
      },
      "source": [
        "this is equivalent, becaouse of `and` having higher precedence than `or`, to:"
      ]
    },
    {
      "cell_type": "code",
      "execution_count": null,
      "metadata": {
        "colab": {
          "background_save": true
        },
        "id": "ccj2tnK5p_H2"
      },
      "outputs": [],
      "source": [
        "True or (True and False)"
      ]
    },
    {
      "cell_type": "markdown",
      "metadata": {
        "id": "MS49iJnNqQlH"
      },
      "source": [
        "This is not the same as:"
      ]
    },
    {
      "cell_type": "code",
      "execution_count": null,
      "metadata": {
        "colab": {
          "background_save": true
        },
        "id": "ac7rzh2KqPfu"
      },
      "outputs": [],
      "source": [
        "(True or True) and False"
      ]
    },
    {
      "cell_type": "markdown",
      "metadata": {
        "id": "QL9jm7qtqfD5"
      },
      "source": [
        "**Short-Circuiting**"
      ]
    },
    {
      "cell_type": "code",
      "execution_count": null,
      "metadata": {
        "colab": {
          "background_save": true
        },
        "id": "dC_qa5lJqVDy"
      },
      "outputs": [],
      "source": [
        "a = 100\n",
        "b = 0\n",
        "\n",
        "if a/b > 2:\n",
        "    print('a is at least double b')"
      ]
    },
    {
      "cell_type": "code",
      "execution_count": null,
      "metadata": {
        "colab": {
          "background_save": true
        },
        "id": "q0nDoUFrqogk"
      },
      "outputs": [],
      "source": [
        "a = 10\n",
        "b = 0\n",
        "if b and a/b > 2:\n",
        "    print('a is at least double b')"
      ]
    },
    {
      "cell_type": "markdown",
      "metadata": {
        "id": "d0ZBNwURqygi"
      },
      "source": [
        "Can also be useful to deal with null or empty strings in a database:"
      ]
    },
    {
      "cell_type": "code",
      "execution_count": null,
      "metadata": {
        "colab": {
          "background_save": true
        },
        "id": "qrax18qFqxnZ"
      },
      "outputs": [],
      "source": [
        "import string"
      ]
    },
    {
      "cell_type": "code",
      "execution_count": null,
      "metadata": {
        "colab": {
          "background_save": true
        },
        "id": "vVdle0_Aq-fD"
      },
      "outputs": [],
      "source": [
        "help(string)"
      ]
    },
    {
      "cell_type": "code",
      "execution_count": null,
      "metadata": {
        "colab": {
          "background_save": true
        },
        "id": "8WnSIAOcq_XH"
      },
      "outputs": [],
      "source": [
        "string.digits"
      ]
    },
    {
      "cell_type": "code",
      "execution_count": null,
      "metadata": {
        "colab": {
          "background_save": true
        },
        "id": "z0WKbzyfrDxW"
      },
      "outputs": [],
      "source": [
        "string.ascii_letters"
      ]
    },
    {
      "cell_type": "code",
      "execution_count": null,
      "metadata": {
        "colab": {
          "background_save": true
        },
        "id": "ClyPcjNhrFhe"
      },
      "outputs": [],
      "source": [
        "name = ''\n",
        "if name[0] in string.digits:\n",
        "    print('Name cannot start with a digit!')"
      ]
    },
    {
      "cell_type": "code",
      "execution_count": null,
      "metadata": {
        "colab": {
          "background_save": true
        },
        "id": "FDQFcBw1rM-c"
      },
      "outputs": [],
      "source": [
        "name = ''\n",
        "if name and name[0] in string.digits:\n",
        "    print('Name cannot start with a digit!')"
      ]
    },
    {
      "cell_type": "code",
      "execution_count": null,
      "metadata": {
        "colab": {
          "background_save": true
        },
        "id": "xNiqfcssrg53"
      },
      "outputs": [],
      "source": [
        "name = None\n",
        "if name and name[0] in string.digits:\n",
        "    print('Name cannot start with a digit!')"
      ]
    },
    {
      "cell_type": "code",
      "execution_count": null,
      "metadata": {
        "colab": {
          "background_save": true
        },
        "id": "jzSr0-qTrqq6"
      },
      "outputs": [],
      "source": [
        "name = 'Bob'\n",
        "if name and name[0] in string.digits:\n",
        "    print('Name cannot start with a digit!')"
      ]
    },
    {
      "cell_type": "code",
      "execution_count": null,
      "metadata": {
        "colab": {
          "background_save": true
        },
        "id": "eqKMKec3rr_F"
      },
      "outputs": [],
      "source": [
        "name = '1Bob'\n",
        "if name and name[0] in string.digits:\n",
        "    print('Name cannot start with a digit!')"
      ]
    },
    {
      "cell_type": "markdown",
      "metadata": {
        "id": "LrqwL-gDr6Dp"
      },
      "source": [
        "### 17 - Booleains: Boolean Operators"
      ]
    },
    {
      "cell_type": "markdown",
      "metadata": {
        "id": "7fq6dvIBr_ho"
      },
      "source": [
        "The way the Boolean operators `and`, `or` actually work is a little different in Python:"
      ]
    },
    {
      "cell_type": "markdown",
      "metadata": {
        "id": "IGzKFGOasNPZ"
      },
      "source": [
        "**or**"
      ]
    },
    {
      "cell_type": "markdown",
      "metadata": {
        "id": "ls8U85LcsPJy"
      },
      "source": [
        "`X or Y`: if X is falsy, return Y, otherwise evaluates and returns X"
      ]
    },
    {
      "cell_type": "code",
      "execution_count": null,
      "metadata": {
        "colab": {
          "background_save": true
        },
        "id": "pNKHDTj7rtiT"
      },
      "outputs": [],
      "source": [
        "'' or 'abc'"
      ]
    },
    {
      "cell_type": "code",
      "execution_count": null,
      "metadata": {
        "colab": {
          "background_save": true
        },
        "id": "K6nLrWQcsZH3"
      },
      "outputs": [],
      "source": [
        "0 or 100"
      ]
    },
    {
      "cell_type": "code",
      "execution_count": null,
      "metadata": {
        "colab": {
          "background_save": true
        },
        "id": "dMa4ZESisaMP"
      },
      "outputs": [],
      "source": [
        "[] or [1, 2, 3]"
      ]
    },
    {
      "cell_type": "code",
      "execution_count": null,
      "metadata": {
        "colab": {
          "background_save": true
        },
        "id": "b5GCHOI4sdL2"
      },
      "outputs": [],
      "source": [
        "[1, 2] or [1, 2, 3]"
      ]
    },
    {
      "cell_type": "markdown",
      "metadata": {
        "id": "CCAX5ieHskKO"
      },
      "source": [
        "\n",
        "\n",
        "---\n",
        "\n",
        "**BE CAREFUL!**"
      ]
    },
    {
      "cell_type": "markdown",
      "metadata": {
        "id": "ZjbUxevMsxaQ"
      },
      "source": [
        "*You should note that the truth value of `Y` is never even considered when evaluating the `or` result.*\n",
        "\n",
        "*Only the left operand matters.*\n",
        "\n",
        "*Of course, Y will be evaluated if it is being returned - bur its truth value does not affect how the `or` is being calculated.*\n",
        "\n",
        "*You probably will notice that this means `Y` is not evaluated if `X` is returned - short-circuiting!!*\n",
        "\n",
        "*We could(almost!) write the `or` operator ourselves in this way:*"
      ]
    },
    {
      "cell_type": "markdown",
      "metadata": {
        "id": "7AyF1_5mt2XK"
      },
      "source": [
        "\n",
        "\n",
        "---\n",
        "\n"
      ]
    },
    {
      "cell_type": "code",
      "execution_count": null,
      "metadata": {
        "colab": {
          "background_save": true
        },
        "id": "mOZhMtlNsi0A"
      },
      "outputs": [],
      "source": [
        "def _or(x, y):\n",
        "    if x:\n",
        "        return x\n",
        "    else:\n",
        "        return y"
      ]
    },
    {
      "cell_type": "code",
      "execution_count": null,
      "metadata": {
        "colab": {
          "background_save": true
        },
        "id": "w4XCAUfVtjkU"
      },
      "outputs": [],
      "source": [
        "print(_or(0, 100) == (0 or 100))\n",
        "print(_or(None, 'n/a') == (None or 'n/a'))\n",
        "print(_or('abc', 'n/a') == ('abc' or 'n/a'))"
      ]
    },
    {
      "cell_type": "markdown",
      "metadata": {
        "id": "6iRizM6yt1RZ"
      },
      "source": [
        "Why did I say almost?\n",
        "\n",
        "Unlike the `or` operator, our `_or` function will always evaluate x and y (they are passed as arguments) - so we do not have short-circuiting!"
      ]
    },
    {
      "cell_type": "code",
      "execution_count": null,
      "metadata": {
        "colab": {
          "background_save": true
        },
        "id": "UuaA1pq3tz9k"
      },
      "outputs": [],
      "source": [
        "1 or 1/0"
      ]
    },
    {
      "cell_type": "code",
      "execution_count": null,
      "metadata": {
        "colab": {
          "background_save": true
        },
        "id": "QoJ9A5BTuLGC"
      },
      "outputs": [],
      "source": [
        "_or(1, 1/0)"
      ]
    },
    {
      "cell_type": "markdown",
      "metadata": {
        "id": "UOr2ljBouVa3"
      },
      "source": [
        "**and**"
      ]
    },
    {
      "cell_type": "markdown",
      "metadata": {
        "id": "NpB7M5F3uXVA"
      },
      "source": [
        "`X and Y`: If X is falsy, returns X, otherwise evaluates and returns Y\n",
        "\n",
        "Once again, note that the truth value of Y is never considered when evaluating `and`, and the `Y` is only evaluated if it needs to be returned (short-circuiting)"
      ]
    },
    {
      "cell_type": "code",
      "execution_count": null,
      "metadata": {
        "colab": {
          "background_save": true
        },
        "id": "mxnwBLEguPWW"
      },
      "outputs": [],
      "source": [
        "s1 = None\n",
        "s2 = ''\n",
        "s3 = 'abc'"
      ]
    },
    {
      "cell_type": "code",
      "execution_count": null,
      "metadata": {
        "colab": {
          "background_save": true
        },
        "id": "VJfW-zAVuur7"
      },
      "outputs": [],
      "source": [
        "print(s1 and s1[0])\n",
        "print(s2 and s2[0])\n",
        "print(s3 and s3[0])"
      ]
    },
    {
      "cell_type": "code",
      "execution_count": null,
      "metadata": {
        "colab": {
          "background_save": true
        },
        "id": "mNHhNm26u1sw"
      },
      "outputs": [],
      "source": [
        "print((s1 and s1[0]) or '')\n",
        "print((s2 and s2[0]) or '')\n",
        "print((s3 and s3[0]) or '')"
      ]
    },
    {
      "cell_type": "markdown",
      "metadata": {
        "id": "dtAd9G5HvMJQ"
      },
      "source": [
        "This technique will also work to return any default value if `s` is an empty string or None:"
      ]
    },
    {
      "cell_type": "code",
      "execution_count": null,
      "metadata": {
        "colab": {
          "background_save": true
        },
        "id": "1VSUB_m3vKjA"
      },
      "outputs": [],
      "source": [
        "print((s1 and s1[0]) or 'n/a')\n",
        "print((s2 and s2[0]) or 'n/a')\n",
        "print((s3 and s3[0]) or 'n/a')"
      ]
    },
    {
      "cell_type": "markdown",
      "metadata": {
        "id": "SPkypwxGvj6H"
      },
      "source": [
        "The `not` function"
      ]
    },
    {
      "cell_type": "code",
      "execution_count": null,
      "metadata": {
        "colab": {
          "background_save": true
        },
        "id": "hL9zFIe6vamL"
      },
      "outputs": [],
      "source": [
        "not 'abc'"
      ]
    },
    {
      "cell_type": "code",
      "execution_count": null,
      "metadata": {
        "colab": {
          "background_save": true
        },
        "id": "P2yZGfzovqIk"
      },
      "outputs": [],
      "source": [
        "not []"
      ]
    },
    {
      "cell_type": "code",
      "execution_count": null,
      "metadata": {
        "colab": {
          "background_save": true
        },
        "id": "hJ4vRxeNvq9f"
      },
      "outputs": [],
      "source": [
        "bool(None)"
      ]
    },
    {
      "cell_type": "code",
      "execution_count": null,
      "metadata": {
        "colab": {
          "background_save": true
        },
        "id": "6sCEZJ3kvtJu"
      },
      "outputs": [],
      "source": [
        "not None"
      ]
    },
    {
      "cell_type": "markdown",
      "metadata": {
        "id": "I8geUeNuvz_G"
      },
      "source": [
        "### 18 - Comparison Operators"
      ]
    },
    {
      "cell_type": "markdown",
      "metadata": {
        "id": "Ug2GffQHv5Ws"
      },
      "source": [
        "**Identity and Membersgip Operators**"
      ]
    },
    {
      "cell_type": "markdown",
      "metadata": {
        "id": "qDF1KIK0v9e1"
      },
      "source": [
        "The `is` and `is not` operators will work with any data type since they are comparing the memory addresses of the objects (which are integers)"
      ]
    },
    {
      "cell_type": "code",
      "execution_count": null,
      "metadata": {
        "colab": {
          "background_save": true
        },
        "id": "v4sZAnEovua_"
      },
      "outputs": [],
      "source": [
        "0.1 is (3+4j)"
      ]
    },
    {
      "cell_type": "code",
      "execution_count": null,
      "metadata": {
        "colab": {
          "background_save": true
        },
        "id": "oyjIL5ZbwR0G"
      },
      "outputs": [],
      "source": [
        "'a' is [1, 2, 3]"
      ]
    },
    {
      "cell_type": "markdown",
      "metadata": {
        "id": "Kk1uMnUPwXF7"
      },
      "source": [
        "The `in` and `not in` operators are used with iterables and test membership:"
      ]
    },
    {
      "cell_type": "code",
      "execution_count": null,
      "metadata": {
        "colab": {
          "background_save": true
        },
        "id": "uu5WlXNYwWHf"
      },
      "outputs": [],
      "source": [
        "1 in [1, 2, 3]"
      ]
    },
    {
      "cell_type": "code",
      "execution_count": null,
      "metadata": {
        "colab": {
          "background_save": true
        },
        "id": "UOT030vQwfK0"
      },
      "outputs": [],
      "source": [
        "[1, 2] in [1, 2, 3]"
      ]
    },
    {
      "cell_type": "code",
      "execution_count": null,
      "metadata": {
        "colab": {
          "background_save": true
        },
        "id": "kGcPs-p3wiFv"
      },
      "outputs": [],
      "source": [
        "[1, 2] in [[1,2], [2,3], 'abc']"
      ]
    },
    {
      "cell_type": "code",
      "execution_count": null,
      "metadata": {
        "colab": {
          "background_save": true
        },
        "id": "Lo8BQgv-wmrU"
      },
      "outputs": [],
      "source": [
        "'key1' in {'key1': 1, 'key2': 2}"
      ]
    },
    {
      "cell_type": "code",
      "execution_count": null,
      "metadata": {
        "colab": {
          "background_save": true
        },
        "id": "l3HfCOYywr2b"
      },
      "outputs": [],
      "source": [
        "1 in {'key1': 1, 'key2': 2}"
      ]
    },
    {
      "cell_type": "markdown",
      "metadata": {
        "id": "iboFODFPw1K7"
      },
      "source": [
        "We'll come back to these operators in later sections on iterables and mappings."
      ]
    },
    {
      "cell_type": "markdown",
      "metadata": {
        "id": "wiqDtEliw6pC"
      },
      "source": [
        "**Equality Operators**"
      ]
    },
    {
      "cell_type": "markdown",
      "metadata": {
        "id": "RtQwYGW4w9c2"
      },
      "source": [
        "The `==` and `!=` operators are value comparision operators.\n",
        "\n",
        "They will work with mixed types that are comparable in some sense.\n",
        "\n",
        "For example, you can compare Fraction and Decimal objects, but it would not make sense to compare string and integer objects"
      ]
    },
    {
      "cell_type": "code",
      "execution_count": null,
      "metadata": {
        "colab": {
          "background_save": true
        },
        "id": "lLAKTxnHwxKH"
      },
      "outputs": [],
      "source": [
        "1 == '1'"
      ]
    },
    {
      "cell_type": "code",
      "execution_count": null,
      "metadata": {
        "colab": {
          "background_save": true
        },
        "id": "fnGJuChOxSSP"
      },
      "outputs": [],
      "source": [
        "from decimal import Decimal\n",
        "from fractions import Fraction"
      ]
    },
    {
      "cell_type": "code",
      "execution_count": null,
      "metadata": {
        "colab": {
          "background_save": true
        },
        "id": "t3Bf5k6GxWwX"
      },
      "outputs": [],
      "source": [
        "Decimal('0.1') == Fraction(1, 10)"
      ]
    },
    {
      "cell_type": "code",
      "execution_count": null,
      "metadata": {
        "colab": {
          "background_save": true
        },
        "id": "M-3vqsm5xZlP"
      },
      "outputs": [],
      "source": [
        "1 == 1 + 0j"
      ]
    },
    {
      "cell_type": "code",
      "execution_count": null,
      "metadata": {
        "colab": {
          "background_save": true
        },
        "id": "Z6_Edf2GxdAA"
      },
      "outputs": [],
      "source": [
        "True == Fraction(2, 2)"
      ]
    },
    {
      "cell_type": "code",
      "execution_count": null,
      "metadata": {
        "colab": {
          "background_save": true
        },
        "id": "kgwvZzTOxe6q"
      },
      "outputs": [],
      "source": [
        "False == 0j"
      ]
    },
    {
      "cell_type": "markdown",
      "metadata": {
        "id": "FHDtRiYFxiJK"
      },
      "source": [
        "**Ordering Comparisions**"
      ]
    },
    {
      "cell_type": "markdown",
      "metadata": {
        "id": "7BsCrO4ixluU"
      },
      "source": [
        "Many, but not all data types have an ordering defined.\n",
        "\n",
        "For example, complex numbers do not."
      ]
    },
    {
      "cell_type": "code",
      "execution_count": null,
      "metadata": {
        "colab": {
          "background_save": true
        },
        "id": "2yHkBJhExg4Q"
      },
      "outputs": [],
      "source": [
        "1 + 1j < 2 + 2j"
      ]
    },
    {
      "cell_type": "markdown",
      "metadata": {
        "id": "bhXoVIDJxwFY"
      },
      "source": [
        "Mixed type ordering comparisons is supported, but again, it needs to make sense:"
      ]
    },
    {
      "cell_type": "code",
      "execution_count": null,
      "metadata": {
        "colab": {
          "background_save": true
        },
        "id": "DnFHNh7uxvEV"
      },
      "outputs": [],
      "source": [
        "1 < 'a'"
      ]
    },
    {
      "cell_type": "code",
      "execution_count": null,
      "metadata": {
        "colab": {
          "background_save": true
        },
        "id": "Jo6ACQjqx3l1"
      },
      "outputs": [],
      "source": [
        "Decimal('0.1') < Fraction(1, 2)"
      ]
    },
    {
      "cell_type": "markdown",
      "metadata": {
        "id": "0h54WFj8x9LF"
      },
      "source": [
        "**Chained Comparisons**"
      ]
    },
    {
      "cell_type": "markdown",
      "metadata": {
        "id": "R4FGAzYLyASH"
      },
      "source": [
        "It is possible to chain comparisons.\n",
        "\n",
        "For example, in `a<b<c`, Python simply ands the pairwise comparisions: `a<b and b<c`"
      ]
    },
    {
      "cell_type": "code",
      "execution_count": null,
      "metadata": {
        "colab": {
          "background_save": true
        },
        "id": "VE8jnfsTx8LA"
      },
      "outputs": [],
      "source": [
        "1 < 2 < 3"
      ]
    },
    {
      "cell_type": "code",
      "execution_count": null,
      "metadata": {
        "colab": {
          "background_save": true
        },
        "id": "IINhTUczyUAU"
      },
      "outputs": [],
      "source": [
        "1 < 2 > -5 < 50 > 4"
      ]
    },
    {
      "cell_type": "code",
      "execution_count": null,
      "metadata": {
        "colab": {
          "background_save": true
        },
        "id": "2_kraxONyXvu"
      },
      "outputs": [],
      "source": [
        "1 < 2 == Decimal('2.0')"
      ]
    },
    {
      "cell_type": "code",
      "execution_count": null,
      "metadata": {
        "colab": {
          "background_save": true
        },
        "id": "OnbeoX0Wyafg"
      },
      "outputs": [],
      "source": [
        "import string\n",
        "'A' < 'a' < 'z' < 'Z' in string.ascii_letters"
      ]
    },
    {
      "cell_type": "markdown",
      "metadata": {
        "id": "c9Jj6-E2yvdE"
      },
      "source": [
        "## Section 05 - Function Parameters"
      ]
    },
    {
      "cell_type": "markdown",
      "metadata": {
        "id": "ifq5IblIy2Ok"
      },
      "source": [
        "### 01 - Positional Arguments"
      ]
    },
    {
      "cell_type": "code",
      "execution_count": null,
      "metadata": {
        "colab": {
          "background_save": true
        },
        "id": "SvNSOvUyyjDk"
      },
      "outputs": [],
      "source": [
        "def my_func(a, b, c):\n",
        "    print(\"a={0}, b={1}, c={2}\".format(a, b, c))"
      ]
    },
    {
      "cell_type": "code",
      "execution_count": null,
      "metadata": {
        "colab": {
          "background_save": true
        },
        "id": "UBlRPBGBSxjt"
      },
      "outputs": [],
      "source": [
        "my_func(1, 2, 3)"
      ]
    },
    {
      "cell_type": "markdown",
      "metadata": {
        "id": "yj_0M0VHS0Dp"
      },
      "source": [
        "**Default Values**"
      ]
    },
    {
      "cell_type": "code",
      "execution_count": null,
      "metadata": {
        "colab": {
          "background_save": true
        },
        "id": "ekwkjlNCSzE_"
      },
      "outputs": [],
      "source": [
        "def my_func(a, b=2, c):\n",
        "    print(a, b, c)"
      ]
    },
    {
      "cell_type": "code",
      "execution_count": null,
      "metadata": {
        "colab": {
          "background_save": true
        },
        "id": "PLxLQQwPS8st"
      },
      "outputs": [],
      "source": [
        "def my_func(a, b=2, c=3):\n",
        "    print(\"a={0}, b={1}, c={2}\".format(a, b, c))"
      ]
    },
    {
      "cell_type": "code",
      "execution_count": null,
      "metadata": {
        "colab": {
          "background_save": true
        },
        "id": "dEUJLvAaTGt-"
      },
      "outputs": [],
      "source": [
        "my_func(10, 20, 30)"
      ]
    },
    {
      "cell_type": "code",
      "execution_count": null,
      "metadata": {
        "colab": {
          "background_save": true
        },
        "id": "iHMyDR3ZTJab"
      },
      "outputs": [],
      "source": [
        "my_func(10, 20)"
      ]
    },
    {
      "cell_type": "code",
      "execution_count": null,
      "metadata": {
        "colab": {
          "background_save": true
        },
        "id": "oWp6QPkETLM5"
      },
      "outputs": [],
      "source": [
        "my_func(10)"
      ]
    },
    {
      "cell_type": "markdown",
      "metadata": {
        "id": "lqCzLiSPTNfB"
      },
      "source": [
        "Since `a` does not have a default value, it must be specified:"
      ]
    },
    {
      "cell_type": "code",
      "execution_count": null,
      "metadata": {
        "colab": {
          "background_save": true
        },
        "id": "vjgr-cv4TMxF"
      },
      "outputs": [],
      "source": [
        "my_func()"
      ]
    },
    {
      "cell_type": "markdown",
      "metadata": {
        "id": "chhSMnrSTU3H"
      },
      "source": [
        "**Keyword Arguments (named arguments)**"
      ]
    },
    {
      "cell_type": "markdown",
      "metadata": {
        "id": "CzYfC3e1TYwa"
      },
      "source": [
        "Positional arguments, can optionally, be specified using their corresponding parameter name.\n",
        "\n",
        "This allows us to pass the arguments without using the positional assignment:"
      ]
    },
    {
      "cell_type": "code",
      "execution_count": null,
      "metadata": {
        "colab": {
          "background_save": true
        },
        "id": "-zCKYQmNTT6i"
      },
      "outputs": [],
      "source": [
        "def my_func(a, b=2, c=3):\n",
        "    print(\"a={0}, b={1}, c={2}\".format(a, b, c))"
      ]
    },
    {
      "cell_type": "code",
      "execution_count": null,
      "metadata": {
        "colab": {
          "background_save": true
        },
        "id": "f_uizkErTsqk"
      },
      "outputs": [],
      "source": [
        "my_func(c=30, b=20, a=10)"
      ]
    },
    {
      "cell_type": "code",
      "execution_count": null,
      "metadata": {
        "colab": {
          "background_save": true
        },
        "id": "5meWHoMiTxAI"
      },
      "outputs": [],
      "source": [
        "my_func(10, c=30, b=20)"
      ]
    },
    {
      "cell_type": "markdown",
      "metadata": {
        "id": "mfEcr4mXT4BI"
      },
      "source": [
        "\n",
        "\n",
        "---\n",
        "**BE CAREFUL!**\n"
      ]
    },
    {
      "cell_type": "markdown",
      "metadata": {
        "id": "_otliEDsUDq_"
      },
      "source": [
        "*Note that once a keyword argument has been used, all arguments thereafter must also be named:*"
      ]
    },
    {
      "cell_type": "code",
      "execution_count": null,
      "metadata": {
        "colab": {
          "background_save": true
        },
        "id": "WJs5n1kMTzyd"
      },
      "outputs": [],
      "source": [
        "my_func(10, b=20, 30)"
      ]
    },
    {
      "cell_type": "markdown",
      "metadata": {
        "id": "CyP8sv5XUPLB"
      },
      "source": [
        "However, if a parameter has a default value, it an be omitted from the argument list, named or not:"
      ]
    },
    {
      "cell_type": "code",
      "execution_count": null,
      "metadata": {
        "colab": {
          "background_save": true
        },
        "id": "4R3qRC1QUCws"
      },
      "outputs": [],
      "source": [
        "my_func(10, c=30)"
      ]
    },
    {
      "cell_type": "code",
      "execution_count": null,
      "metadata": {
        "colab": {
          "background_save": true
        },
        "id": "OM_yKZ6QUYB3"
      },
      "outputs": [],
      "source": [
        "my_func(a=30, c=10)"
      ]
    },
    {
      "cell_type": "code",
      "execution_count": null,
      "metadata": {
        "colab": {
          "background_save": true
        },
        "id": "O77XHQzhUa_t"
      },
      "outputs": [],
      "source": [
        "my_func(c=10, a=30)"
      ]
    },
    {
      "cell_type": "markdown",
      "metadata": {
        "id": "C4f9jQcJVQyD"
      },
      "source": [
        "### 02 - Unpacking Iterables"
      ]
    },
    {
      "cell_type": "markdown",
      "metadata": {
        "id": "bjYTDTPZVX2B"
      },
      "source": [
        "**Side Note on Tuples**"
      ]
    },
    {
      "cell_type": "markdown",
      "metadata": {
        "id": "g4IBl7GAVbxw"
      },
      "source": [
        "This is a tuple:"
      ]
    },
    {
      "cell_type": "code",
      "execution_count": null,
      "metadata": {
        "colab": {
          "background_save": true
        },
        "id": "_ZspPkDdUdJB"
      },
      "outputs": [],
      "source": [
        "a = (1, 2, 3)"
      ]
    },
    {
      "cell_type": "code",
      "execution_count": null,
      "metadata": {
        "colab": {
          "background_save": true
        },
        "id": "2hABB2UeVfUJ"
      },
      "outputs": [],
      "source": [
        "type(a)"
      ]
    },
    {
      "cell_type": "markdown",
      "metadata": {
        "id": "MukRISevVi2G"
      },
      "source": [
        "This is also a tuple:"
      ]
    },
    {
      "cell_type": "code",
      "execution_count": null,
      "metadata": {
        "colab": {
          "background_save": true
        },
        "id": "UrNX8k2cVgQI"
      },
      "outputs": [],
      "source": [
        "a = 1, 2, 3"
      ]
    },
    {
      "cell_type": "code",
      "execution_count": null,
      "metadata": {
        "colab": {
          "background_save": true
        },
        "id": "d3-g51NhVlMh"
      },
      "outputs": [],
      "source": [
        "type(a)"
      ]
    },
    {
      "cell_type": "markdown",
      "metadata": {
        "id": "ABmo0AmAVtlL"
      },
      "source": [
        "In fact what defines a tuple is not `()`, but the `,` (comma)\n",
        "\n",
        "To create a tuple with a single element:"
      ]
    },
    {
      "cell_type": "code",
      "execution_count": null,
      "metadata": {
        "colab": {
          "background_save": true
        },
        "id": "yNIVKIJ5VmsP"
      },
      "outputs": [],
      "source": [
        "a = (1)"
      ]
    },
    {
      "cell_type": "markdown",
      "metadata": {
        "id": "_MReRovyV5ga"
      },
      "source": [
        "will not work!!"
      ]
    },
    {
      "cell_type": "code",
      "execution_count": null,
      "metadata": {
        "colab": {
          "background_save": true
        },
        "id": "t5FqGTDWV4lz"
      },
      "outputs": [],
      "source": [
        "type(a)"
      ]
    },
    {
      "cell_type": "markdown",
      "metadata": {
        "id": "Zq4kazx_V92J"
      },
      "source": [
        "Instead, we have to use a comma:"
      ]
    },
    {
      "cell_type": "code",
      "execution_count": null,
      "metadata": {
        "colab": {
          "background_save": true
        },
        "id": "M8LtuqwZV8g_"
      },
      "outputs": [],
      "source": [
        "a = (1,)"
      ]
    },
    {
      "cell_type": "code",
      "execution_count": null,
      "metadata": {
        "colab": {
          "background_save": true
        },
        "id": "so8z8klDWFA9"
      },
      "outputs": [],
      "source": [
        "type(a)"
      ]
    },
    {
      "cell_type": "markdown",
      "metadata": {
        "id": "jZdJM47PWHHP"
      },
      "source": [
        "And in fact, we don't even need the `()`:"
      ]
    },
    {
      "cell_type": "code",
      "execution_count": null,
      "metadata": {
        "colab": {
          "background_save": true
        },
        "id": "RbJqIjuiWGSl"
      },
      "outputs": [],
      "source": [
        "a = 1,"
      ]
    },
    {
      "cell_type": "code",
      "execution_count": null,
      "metadata": {
        "colab": {
          "background_save": true
        },
        "id": "8dfgu5VSWOLS"
      },
      "outputs": [],
      "source": [
        "type(a)"
      ]
    },
    {
      "cell_type": "markdown",
      "metadata": {
        "id": "hjpOOcS7WQCv"
      },
      "source": [
        "The only exception is to create an empty tuple:"
      ]
    },
    {
      "cell_type": "code",
      "execution_count": null,
      "metadata": {
        "colab": {
          "background_save": true
        },
        "id": "G86EOdMlWO8h"
      },
      "outputs": [],
      "source": [
        "a = ()"
      ]
    },
    {
      "cell_type": "code",
      "execution_count": null,
      "metadata": {
        "colab": {
          "background_save": true
        },
        "id": "edWT0Yw_WToI"
      },
      "outputs": [],
      "source": [
        "type(a)"
      ]
    },
    {
      "cell_type": "markdown",
      "metadata": {
        "id": "Fys8KBCYWU61"
      },
      "source": [
        "Or we can use the tuple constructor:"
      ]
    },
    {
      "cell_type": "code",
      "execution_count": null,
      "metadata": {
        "colab": {
          "background_save": true
        },
        "id": "EIUW8NzfWUIj"
      },
      "outputs": [],
      "source": [
        "a = tuple()"
      ]
    },
    {
      "cell_type": "code",
      "execution_count": null,
      "metadata": {
        "colab": {
          "background_save": true
        },
        "id": "yd8dY3v2WZsc"
      },
      "outputs": [],
      "source": [
        "type(a)"
      ]
    },
    {
      "cell_type": "markdown",
      "metadata": {
        "id": "w0OAVP_TWds0"
      },
      "source": [
        "**Unpacking**"
      ]
    },
    {
      "cell_type": "markdown",
      "metadata": {
        "id": "YwpOdoduWfhL"
      },
      "source": [
        "Unpacking is a way to split an iterable object into individual variables contained in a list or tuple:"
      ]
    },
    {
      "cell_type": "code",
      "execution_count": null,
      "metadata": {
        "colab": {
          "background_save": true
        },
        "id": "VDj5LRmXWgIY"
      },
      "outputs": [],
      "source": [
        "l = [1, 2, 3, 4]"
      ]
    },
    {
      "cell_type": "code",
      "execution_count": null,
      "metadata": {
        "colab": {
          "background_save": true
        },
        "id": "LcGaqnkPWbbX"
      },
      "outputs": [],
      "source": [
        "a, b, c, d = l"
      ]
    },
    {
      "cell_type": "code",
      "execution_count": null,
      "metadata": {
        "colab": {
          "background_save": true
        },
        "id": "wgCJnh34WrVZ"
      },
      "outputs": [],
      "source": [
        "print(a, b, c, d)"
      ]
    },
    {
      "cell_type": "markdown",
      "metadata": {
        "id": "7SpnljOCWyMV"
      },
      "source": [
        "Strings are iterables too:"
      ]
    },
    {
      "cell_type": "code",
      "execution_count": null,
      "metadata": {
        "colab": {
          "background_save": true
        },
        "id": "EH3Sfel1Wt6P"
      },
      "outputs": [],
      "source": [
        "a, b, c = 'XYZ'\n",
        "print(a, b, c)"
      ]
    },
    {
      "cell_type": "markdown",
      "metadata": {
        "id": "35opXCFaXHWN"
      },
      "source": [
        "**Swapping Two Variables**"
      ]
    },
    {
      "cell_type": "markdown",
      "metadata": {
        "id": "7JrCu5z1XLAo"
      },
      "source": [
        "Here's a quick application of unpacking to swap ehe values of two variables.\n",
        "\n",
        "First we look at the \"traditional\" way you would have to do it in other languages such as Java:"
      ]
    },
    {
      "cell_type": "code",
      "execution_count": null,
      "metadata": {
        "colab": {
          "background_save": true
        },
        "id": "NdsfouGrXErI"
      },
      "outputs": [],
      "source": [
        "a = 10\n",
        "b = 20\n",
        "print(\"a={0}, b={1}\".format(a, b))\n",
        "\n",
        "tmp = a\n",
        "a = b\n",
        "b = tmp\n",
        "print(\"a={0}, b={1}\".format(a, b))"
      ]
    },
    {
      "cell_type": "markdown",
      "metadata": {
        "id": "duY6kwvYXsab"
      },
      "source": [
        "But using unpacking we can simplify this:"
      ]
    },
    {
      "cell_type": "code",
      "execution_count": null,
      "metadata": {
        "colab": {
          "background_save": true
        },
        "id": "mLJdoH5mXreO"
      },
      "outputs": [],
      "source": [
        "a = 10\n",
        "b = 20\n",
        "print(\"a={0}, b={1}\".format(a, b))\n",
        "\n",
        "a, b = b, a\n",
        "print(\"a={0}, b={1}\".format(a, b))"
      ]
    },
    {
      "cell_type": "markdown",
      "metadata": {
        "id": "RwwIK_uSYmgK"
      },
      "source": [
        "In fact, we can even simplify the initial assignment of values to a and b as follows:"
      ]
    },
    {
      "cell_type": "code",
      "execution_count": null,
      "metadata": {
        "colab": {
          "background_save": true
        },
        "id": "J1zZt1PpYg3K"
      },
      "outputs": [],
      "source": [
        "a, b = 10, 20\n",
        "print(\"a={0}, b={1}\".format(a, b))\n",
        "\n",
        "a,b = b, a\n",
        "print(\"a={0}, b={1}\".format(a, b))"
      ]
    },
    {
      "cell_type": "markdown",
      "metadata": {
        "id": "ion4vp1_Y4ZG"
      },
      "source": [
        "**Unpacking Unordered Objects**"
      ]
    },
    {
      "cell_type": "code",
      "execution_count": null,
      "metadata": {
        "colab": {
          "background_save": true
        },
        "id": "i5K37u8XYzBf"
      },
      "outputs": [],
      "source": [
        "dict1 = {'p': 1, 'y': 2, 't': 3, 'h': 4, 'o': 5, 'n': 6}"
      ]
    },
    {
      "cell_type": "code",
      "execution_count": null,
      "metadata": {
        "colab": {
          "background_save": true
        },
        "id": "W1If7Fj1ZG6l"
      },
      "outputs": [],
      "source": [
        "dict1"
      ]
    },
    {
      "cell_type": "code",
      "execution_count": null,
      "metadata": {
        "colab": {
          "background_save": true
        },
        "id": "tZYkT7cXZHXf"
      },
      "outputs": [],
      "source": [
        "for c in dict1:\n",
        "    print(c)"
      ]
    },
    {
      "cell_type": "code",
      "execution_count": null,
      "metadata": {
        "colab": {
          "background_save": true
        },
        "id": "C8PzpzrSZJ8i"
      },
      "outputs": [],
      "source": [
        "a, b, c, d, e, f = dict1\n",
        "print(a)\n",
        "print(b)\n",
        "print(c)\n",
        "print(d)\n",
        "print(e)\n",
        "print(f)"
      ]
    },
    {
      "cell_type": "markdown",
      "metadata": {
        "id": "YuoEEFkBZlB8"
      },
      "source": [
        "\n",
        "\n",
        "---\n",
        "**BE CAREFUL!**\n"
      ]
    },
    {
      "cell_type": "markdown",
      "metadata": {
        "id": "gxqc7ZXeZ3IT"
      },
      "source": [
        "*Note that this order is not guaranteed. You can always use an OrderedDict if that is requirement.*\n",
        "\n",
        "*The same applies to sets.*"
      ]
    },
    {
      "cell_type": "code",
      "execution_count": null,
      "metadata": {
        "colab": {
          "background_save": true
        },
        "id": "Yx_VRheiZRto"
      },
      "outputs": [],
      "source": [
        "s = {'p', 'y', 't', 'h', 'o', 'n'}"
      ]
    },
    {
      "cell_type": "code",
      "execution_count": null,
      "metadata": {
        "colab": {
          "background_save": true
        },
        "id": "rknx0GsjaouY"
      },
      "outputs": [],
      "source": [
        "type(s)"
      ]
    },
    {
      "cell_type": "code",
      "execution_count": null,
      "metadata": {
        "colab": {
          "background_save": true
        },
        "id": "XzeGchDiaqEi"
      },
      "outputs": [],
      "source": [
        "print(s)"
      ]
    },
    {
      "cell_type": "code",
      "execution_count": null,
      "metadata": {
        "colab": {
          "background_save": true
        },
        "id": "Ul76-2PHauGv"
      },
      "outputs": [],
      "source": [
        "for c in s:\n",
        "    print(c)"
      ]
    },
    {
      "cell_type": "code",
      "execution_count": null,
      "metadata": {
        "colab": {
          "background_save": true
        },
        "id": "MqgKa0qKa7jH"
      },
      "outputs": [],
      "source": [
        "a, b, c, d, e, f = s"
      ]
    },
    {
      "cell_type": "code",
      "execution_count": null,
      "metadata": {
        "colab": {
          "background_save": true
        },
        "id": "b9r3KKhNa_A0"
      },
      "outputs": [],
      "source": [
        "print(a)\n",
        "print(b)\n",
        "print(c)\n",
        "print(d)\n",
        "print(e)\n",
        "print(f)"
      ]
    },
    {
      "cell_type": "markdown",
      "metadata": {
        "id": "m-2XV2NObF8j"
      },
      "source": [
        "### 03 - Extended Unpacking"
      ]
    },
    {
      "cell_type": "markdown",
      "metadata": {
        "id": "R2ehMs7CbJlJ"
      },
      "source": [
        "Let's see how we might split a list into it's first element, and \"everything else\" using slicing:"
      ]
    },
    {
      "cell_type": "code",
      "execution_count": null,
      "metadata": {
        "colab": {
          "background_save": true
        },
        "id": "a-TS-xcfbAUb"
      },
      "outputs": [],
      "source": [
        "l = [1, 2, 3, 4, 5, 6]"
      ]
    },
    {
      "cell_type": "code",
      "execution_count": null,
      "metadata": {
        "colab": {
          "background_save": true
        },
        "id": "52smTBdTbbJ3"
      },
      "outputs": [],
      "source": [
        "a = l[0]\n",
        "b = l[1:]\n",
        "print(a)\n",
        "print(b)"
      ]
    },
    {
      "cell_type": "markdown",
      "metadata": {
        "id": "cZNqZlgubjr8"
      },
      "source": [
        "We can even use unpacking to simplify this slightly:"
      ]
    },
    {
      "cell_type": "code",
      "execution_count": null,
      "metadata": {
        "colab": {
          "background_save": true
        },
        "id": "n8mFGfNvbfoa"
      },
      "outputs": [],
      "source": [
        "a, *b = l\n",
        "print(a)\n",
        "print(b)"
      ]
    },
    {
      "cell_type": "markdown",
      "metadata": {
        "id": "7grcoxyccTDB"
      },
      "source": [
        "\n",
        "\n",
        "---\n",
        "\n",
        "**BE CAREFUL!**"
      ]
    },
    {
      "cell_type": "markdown",
      "metadata": {
        "id": "wl1l0Y71b3Wu"
      },
      "source": [
        "Note that the `*` operator can only appear once in left hand side!\n",
        "\n",
        "*On the other hand, Right hand side it is OK to use.*\n"
      ]
    },
    {
      "cell_type": "markdown",
      "metadata": {
        "id": "W2bSFnpNca2A"
      },
      "source": [
        "\n",
        "\n",
        "---\n",
        "\n"
      ]
    },
    {
      "cell_type": "markdown",
      "metadata": {
        "id": "UbVPKza0cbi5"
      },
      "source": [
        "Like standard unpacking, this extended unpacking will work with any iterable.\n",
        "\n",
        "With tuples:"
      ]
    },
    {
      "cell_type": "code",
      "execution_count": null,
      "metadata": {
        "colab": {
          "background_save": true
        },
        "id": "4oKap5O2bwHI"
      },
      "outputs": [],
      "source": [
        "a, *b = -10, 5, 2, 100\n",
        "print(a)\n",
        "print(b)"
      ]
    },
    {
      "cell_type": "markdown",
      "metadata": {
        "id": "N_qr3wlLcPFQ"
      },
      "source": [
        "With strings:"
      ]
    },
    {
      "cell_type": "code",
      "execution_count": null,
      "metadata": {
        "colab": {
          "background_save": true
        },
        "id": "S6iSTQzpcNvr"
      },
      "outputs": [],
      "source": [
        "a, *b = 'python'\n",
        "print(a)\n",
        "print(b)"
      ]
    },
    {
      "cell_type": "markdown",
      "metadata": {
        "id": "2NmDlGV6cjpd"
      },
      "source": [
        "What about extracting the first, second, last elements and the rest.\n",
        "\n",
        "Again we can use slicing:"
      ]
    },
    {
      "cell_type": "code",
      "execution_count": null,
      "metadata": {
        "colab": {
          "background_save": true
        },
        "id": "ieJ1gp2_ciCj"
      },
      "outputs": [],
      "source": [
        "s = 'python'\n",
        "\n",
        "a, b, c, d = s[0], s[1], s[2:-1], s[-1]\n",
        "print(a)\n",
        "print(b)\n",
        "print(c)\n",
        "print(d)"
      ]
    },
    {
      "cell_type": "markdown",
      "metadata": {
        "id": "jF3-0Usdc3k5"
      },
      "source": [
        "But we can just as easily do it this way using unpacking:"
      ]
    },
    {
      "cell_type": "code",
      "execution_count": null,
      "metadata": {
        "colab": {
          "background_save": true
        },
        "id": "j0508PaFc0m4"
      },
      "outputs": [],
      "source": [
        "a, b, *c, d = s\n",
        "print(a)\n",
        "print(b)\n",
        "print(c)\n",
        "print(d)"
      ]
    },
    {
      "cell_type": "markdown",
      "metadata": {
        "id": "EmIbR-3FdFuR"
      },
      "source": [
        "As you can see though, `c` is a list of characters, nor a string.\n",
        "\n",
        "It that's a problem we can easily fix it this way:"
      ]
    },
    {
      "cell_type": "code",
      "execution_count": null,
      "metadata": {
        "colab": {
          "background_save": true
        },
        "id": "hqtv5kNVdBdY"
      },
      "outputs": [],
      "source": [
        "print(c)\n",
        "c = ''.join(c)\n",
        "print(c)"
      ]
    },
    {
      "cell_type": "markdown",
      "metadata": {
        "id": "1wjf0NEfdYPm"
      },
      "source": [
        "We can also use unpacking on the right hand side of an assignment expression:"
      ]
    },
    {
      "cell_type": "code",
      "execution_count": null,
      "metadata": {
        "colab": {
          "background_save": true
        },
        "id": "2uAxTQApdUO5"
      },
      "outputs": [],
      "source": [
        "l1 = [1, 2, 3]\n",
        "l2 = [4, 5, 6]\n",
        "l = [*l1, *l2]\n",
        "print(l)"
      ]
    },
    {
      "cell_type": "code",
      "execution_count": null,
      "metadata": {
        "colab": {
          "background_save": true
        },
        "id": "p-Bt1FPrdkYb"
      },
      "outputs": [],
      "source": [
        "l1 = [1, 2, 3]\n",
        "s = 'ABC'\n",
        "l = [*l1, *s]\n",
        "print(l)"
      ]
    },
    {
      "cell_type": "markdown",
      "metadata": {
        "id": "3xZyyAp1dtKQ"
      },
      "source": [
        "This unpacking works with unordered types such as sets and dictionaries as well.\n",
        "\n",
        "The only thing is that it may not be very useful considering there is no particular ordering, so a first or last element has no real useful meaning."
      ]
    },
    {
      "cell_type": "code",
      "execution_count": null,
      "metadata": {
        "colab": {
          "background_save": true
        },
        "id": "6rTQeDbtdsBf"
      },
      "outputs": [],
      "source": [
        "s = {10, -99, 3, 'd'}"
      ]
    },
    {
      "cell_type": "code",
      "execution_count": null,
      "metadata": {
        "colab": {
          "background_save": true
        },
        "id": "V4zieryHeA3V"
      },
      "outputs": [],
      "source": [
        "for c in s:\n",
        "    print(c)"
      ]
    },
    {
      "cell_type": "markdown",
      "metadata": {
        "id": "WUxW6tODeD9m"
      },
      "source": [
        "As you can see, the order of the elements when we created the set was not retained!"
      ]
    },
    {
      "cell_type": "code",
      "execution_count": null,
      "metadata": {
        "colab": {
          "background_save": true
        },
        "id": "7VPpLm38eCZz"
      },
      "outputs": [],
      "source": [
        "s = {10, -99, 3, 'd'}\n",
        "a, b, *c = s\n",
        "print(a)\n",
        "print(b)\n",
        "print(c)"
      ]
    },
    {
      "cell_type": "markdown",
      "metadata": {
        "id": "ZpC9JA-zeSDT"
      },
      "source": [
        "So unpacking this way is of limited use.\n",
        "\n",
        "However consider this:"
      ]
    },
    {
      "cell_type": "code",
      "execution_count": null,
      "metadata": {
        "colab": {
          "background_save": true
        },
        "id": "1L96GbOTeQ7U"
      },
      "outputs": [],
      "source": [
        "s = {10, -99, 3, 'd'}\n",
        "*a, = s\n",
        "print(a)"
      ]
    },
    {
      "cell_type": "markdown",
      "metadata": {
        "id": "ZTnT6AonecWd"
      },
      "source": [
        "At first blush, this doesn't look terribly exciting - we simply unpacked the set values into a list.\n",
        "\n",
        "But tihs is actually quite useful in both sets and dictionaries to combine things (although to be sure, there are alternative ways to do this as well - which we'll cover later in this course)"
      ]
    },
    {
      "cell_type": "code",
      "execution_count": null,
      "metadata": {
        "colab": {
          "background_save": true
        },
        "id": "sKa6HCVmea3q"
      },
      "outputs": [],
      "source": [
        "s1 = {1, 2, 3}\n",
        "s2 = {3, 4, 5}"
      ]
    },
    {
      "cell_type": "markdown",
      "metadata": {
        "id": "tnZQedVEfQhm"
      },
      "source": [
        "How can we combine both these sets into a single merged set?"
      ]
    },
    {
      "cell_type": "code",
      "execution_count": null,
      "metadata": {
        "colab": {
          "background_save": true
        },
        "id": "zrTawn1SfQA-"
      },
      "outputs": [],
      "source": [
        "s1 + s2"
      ]
    },
    {
      "cell_type": "markdown",
      "metadata": {
        "id": "8noPoi3XfbvL"
      },
      "source": [
        "Well, + doesn't work...\n",
        "\n",
        "We could use the built-in method for unioning sets:"
      ]
    },
    {
      "cell_type": "code",
      "execution_count": null,
      "metadata": {
        "colab": {
          "background_save": true
        },
        "id": "Nh8yRrOafWsu"
      },
      "outputs": [],
      "source": [
        "help(set)"
      ]
    },
    {
      "cell_type": "code",
      "execution_count": null,
      "metadata": {
        "colab": {
          "background_save": true
        },
        "id": "T6PvDUH9fiju",
        "outputId": "5252a411-b365-47b0-ebe0-2d2c58fb9acc"
      },
      "outputs": [
        {
          "ename": "NameError",
          "evalue": "name 's1' is not defined",
          "output_type": "error",
          "traceback": [
            "\u001b[1;31m---------------------------------------------------------------------------\u001b[0m",
            "\u001b[1;31mNameError\u001b[0m                                 Traceback (most recent call last)",
            "Input \u001b[1;32mIn [506]\u001b[0m, in \u001b[0;36m<cell line: 1>\u001b[1;34m()\u001b[0m\n\u001b[1;32m----> 1\u001b[0m \u001b[38;5;28mprint\u001b[39m(\u001b[43ms1\u001b[49m)\n\u001b[0;32m      2\u001b[0m \u001b[38;5;28mprint\u001b[39m(s2)\n\u001b[0;32m      3\u001b[0m s1\u001b[38;5;241m.\u001b[39munion(s2)\n",
            "\u001b[1;31mNameError\u001b[0m: name 's1' is not defined"
          ]
        }
      ],
      "source": [
        "print(s1)\n",
        "print(s2)\n",
        "s1.union(s2)"
      ]
    },
    {
      "cell_type": "markdown",
      "metadata": {
        "id": "c6jdvBSqfo6k"
      },
      "source": [
        "What about joining 4 different sets?"
      ]
    },
    {
      "cell_type": "code",
      "execution_count": null,
      "metadata": {
        "colab": {
          "background_save": true
        },
        "id": "ffwZrMegfnvX",
        "outputId": "70f10c7a-be2a-43ce-bbba-bea3c45385bd"
      },
      "outputs": [
        {
          "name": "stdout",
          "output_type": "stream",
          "text": [
            "{1, 2, 3, 4, 5, 6, 7, 8, 9}\n",
            "{1, 2, 3, 4, 5, 6, 7, 8, 9}\n"
          ]
        }
      ],
      "source": [
        "s1 = {1, 2, 3}\n",
        "s2 = {3, 4, 5}\n",
        "s3 = {5, 6, 7}\n",
        "s4 = {7, 8, 9}\n",
        "print(s1.union(s2).union(s3).union(s4))\n",
        "print(s1.union(s2, s3, s4))"
      ]
    },
    {
      "cell_type": "markdown",
      "metadata": {
        "id": "l3H1Diunfuiz"
      },
      "source": [
        "Or we could use unpacking in this way:"
      ]
    },
    {
      "cell_type": "code",
      "execution_count": null,
      "metadata": {
        "colab": {
          "background_save": true
        },
        "id": "OXHKaXuBfth9",
        "outputId": "7730418d-b383-4f5e-bedb-68722b728441"
      },
      "outputs": [
        {
          "data": {
            "text/plain": [
              "{1, 2, 3, 4, 5, 6, 7, 8, 9}"
            ]
          },
          "execution_count": 508,
          "metadata": {},
          "output_type": "execute_result"
        }
      ],
      "source": [
        "{*s1, *s2, *s3, *s4}"
      ]
    },
    {
      "cell_type": "markdown",
      "metadata": {
        "id": "IyfL5-I0f6qB"
      },
      "source": [
        "What we did here was to unpack each set directly into another set!\n",
        "\n",
        "The same works for dictionaries - just remember that `*` for dictionaries unpacks the keys only."
      ]
    },
    {
      "cell_type": "code",
      "execution_count": null,
      "metadata": {
        "colab": {
          "background_save": true
        },
        "id": "YVTC6vMRf5IV",
        "outputId": "920d1ed5-412c-499c-9028-9747f73cb482"
      },
      "outputs": [
        {
          "data": {
            "text/plain": [
              "{'key1': 1, 'key2': 3, 'key3': 3}"
            ]
          },
          "execution_count": 509,
          "metadata": {},
          "output_type": "execute_result"
        }
      ],
      "source": [
        "d1 = {'key1': 1, 'key2': 2}\n",
        "d2 = {'key2': 3, 'key3': 3}\n",
        "\n",
        "{**d1, **d2}"
      ]
    },
    {
      "cell_type": "markdown",
      "metadata": {
        "id": "yl48jMzFgTVk"
      },
      "source": [
        "Notice what happened to the value of key2. The value for the second occurence of key2 was retained (overwritten).\n",
        "\n",
        "In fact, if we write the unpacking reversing the order of d1 and d2:"
      ]
    },
    {
      "cell_type": "code",
      "execution_count": null,
      "metadata": {
        "colab": {
          "background_save": true
        },
        "id": "Ix1Z7uyagREZ",
        "outputId": "fb663b79-5586-4683-9c43-1d0c16d6df6f"
      },
      "outputs": [
        {
          "data": {
            "text/plain": [
              "{'key2': 2, 'key3': 3, 'key1': 1}"
            ]
          },
          "execution_count": 510,
          "metadata": {},
          "output_type": "execute_result"
        }
      ],
      "source": [
        "{**d2, **d1}"
      ]
    },
    {
      "cell_type": "markdown",
      "metadata": {
        "id": "NRmE9Qcig7lI"
      },
      "source": [
        "we see that the value of key2 is now 2, since it was the second occurence.\n",
        "\n",
        "Of course, we can unpack a dictionary into a dictionary as seen above, but we can mix in our own key-value pairs as well - it is just a dictionary literal after all."
      ]
    },
    {
      "cell_type": "code",
      "execution_count": null,
      "metadata": {
        "colab": {
          "background_save": true
        },
        "id": "QyTiKfDwg2j6",
        "outputId": "3a1f0835-51da-49d9-a8ff-b1a4d0c1cf57"
      },
      "outputs": [
        {
          "data": {
            "text/plain": [
              "{'a': 1, 'b': 2, 'key1': 1, 'key2': 3, 'key3': 3, 'c': 3}"
            ]
          },
          "execution_count": 511,
          "metadata": {},
          "output_type": "execute_result"
        }
      ],
      "source": [
        "{'a': 1, 'b': 2, **d1, **d2, 'c': 3}"
      ]
    },
    {
      "cell_type": "markdown",
      "metadata": {
        "id": "Gpxw73usiEOd"
      },
      "source": [
        "Again, if we have the same keys, only the \"latest\" value of the key is retained:"
      ]
    },
    {
      "cell_type": "code",
      "execution_count": null,
      "metadata": {
        "colab": {
          "background_save": true
        },
        "id": "xGFDH-Ngh__i",
        "outputId": "4feb692c-1263-4c03-e9cf-a493cccd3f82"
      },
      "outputs": [
        {
          "data": {
            "text/plain": [
              "{'key1': 1, 'key2': 3, 'key3': 200}"
            ]
          },
          "execution_count": 512,
          "metadata": {},
          "output_type": "execute_result"
        }
      ],
      "source": [
        "{'key1': 100, **d1, **d2, 'key3': 200}"
      ]
    },
    {
      "cell_type": "markdown",
      "metadata": {
        "id": "wrCXwqXyisXH"
      },
      "source": [
        "**Nested Unpacking**"
      ]
    },
    {
      "cell_type": "markdown",
      "metadata": {
        "id": "I_xodB1xiu8s"
      },
      "source": [
        "Python even supports nested unpacking:"
      ]
    },
    {
      "cell_type": "code",
      "execution_count": null,
      "metadata": {
        "colab": {
          "background_save": true
        },
        "id": "FNE65wjNiWNb",
        "outputId": "837cf5cc-2ee6-4376-bfa8-562859d3f114"
      },
      "outputs": [
        {
          "name": "stdout",
          "output_type": "stream",
          "text": [
            "1\n",
            "2\n",
            "X\n",
            "Y\n"
          ]
        }
      ],
      "source": [
        "a, b, (c, d) = [1, 2, ['X', 'Y']]\n",
        "print(a)\n",
        "print(b)\n",
        "print(c)\n",
        "print(d)"
      ]
    },
    {
      "cell_type": "markdown",
      "metadata": {
        "id": "k2WPd-xPi9wO"
      },
      "source": [
        "In fact, since a string is an iterable, we can even write:"
      ]
    },
    {
      "cell_type": "code",
      "execution_count": null,
      "metadata": {
        "colab": {
          "background_save": true
        },
        "id": "4VIYxzERi6gL",
        "outputId": "f5e82687-bb29-4b2d-9f51-87cb1fe8a4f1"
      },
      "outputs": [
        {
          "name": "stdout",
          "output_type": "stream",
          "text": [
            "1\n",
            "2\n",
            "X\n",
            "Y\n"
          ]
        }
      ],
      "source": [
        "a, b, (c, d) = [1, 2, 'XY']\n",
        "print(a)\n",
        "print(b)\n",
        "print(c)\n",
        "print(d)"
      ]
    },
    {
      "cell_type": "markdown",
      "metadata": {
        "id": "T2xtdD3LjFDZ"
      },
      "source": [
        "We can even write something like this:"
      ]
    },
    {
      "cell_type": "code",
      "execution_count": null,
      "metadata": {
        "colab": {
          "background_save": true
        },
        "id": "U6sh_jt9jD3d",
        "outputId": "55c12975-cd95-4055-9664-578dea75face"
      },
      "outputs": [
        {
          "name": "stdout",
          "output_type": "stream",
          "text": [
            "1\n",
            "2\n",
            "p\n",
            "y\n",
            "['t', 'h', 'o', 'n']\n"
          ]
        }
      ],
      "source": [
        "a, b, (c, d, *e) = [1, 2, 'python']\n",
        "print(a)\n",
        "print(b)\n",
        "print(c)\n",
        "print(d)\n",
        "print(e)"
      ]
    },
    {
      "cell_type": "markdown",
      "metadata": {
        "id": "M6SMY1c8jWb-"
      },
      "source": [
        "Remember when we said that we can use `*` only once...\n",
        "\n",
        "How abour this then="
      ]
    },
    {
      "cell_type": "code",
      "execution_count": null,
      "metadata": {
        "colab": {
          "background_save": true
        },
        "id": "rkHi6ZrMjSHx",
        "outputId": "276700fd-d9f4-4cd4-c0a8-4b4cb8e7172f"
      },
      "outputs": [
        {
          "name": "stdout",
          "output_type": "stream",
          "text": [
            "1\n",
            "[2, 3]\n",
            "p\n",
            "y\n",
            "['t', 'h', 'o', 'n']\n"
          ]
        }
      ],
      "source": [
        "a, *b, (c, d, *e) = [1, 2, 3, 'python']\n",
        "print(a)\n",
        "print(b)\n",
        "print(c)\n",
        "print(d)\n",
        "print(e)"
      ]
    },
    {
      "cell_type": "markdown",
      "metadata": {
        "id": "VppzLKYSjhuY"
      },
      "source": [
        "We can break down what happened here in multiple steps:"
      ]
    },
    {
      "cell_type": "code",
      "execution_count": null,
      "metadata": {
        "colab": {
          "background_save": true
        },
        "id": "w7EqymGBjf-g",
        "outputId": "b6865734-cd55-4088-d7d6-63dd8e41fb2f"
      },
      "outputs": [
        {
          "name": "stdout",
          "output_type": "stream",
          "text": [
            "1\n",
            "[2, 3]\n",
            "python\n"
          ]
        }
      ],
      "source": [
        "a, *b, tmp = [1, 2, 3, 'python']\n",
        "print(a)\n",
        "print(b)\n",
        "print(tmp)"
      ]
    },
    {
      "cell_type": "code",
      "execution_count": null,
      "metadata": {
        "colab": {
          "background_save": true
        },
        "id": "F_u23XU0jq5v",
        "outputId": "eb4601fa-f4d8-48df-bd7a-b6fd0dc9d082"
      },
      "outputs": [
        {
          "name": "stdout",
          "output_type": "stream",
          "text": [
            "p\n",
            "y\n",
            "['t', 'h', 'o', 'n']\n"
          ]
        }
      ],
      "source": [
        "c, d, *e = tmp\n",
        "print(c)\n",
        "print(d)\n",
        "print(e)\n"
      ]
    },
    {
      "cell_type": "markdown",
      "metadata": {
        "id": "cEWo873ejxIg"
      },
      "source": [
        "So putting it together we get our original line of code:"
      ]
    },
    {
      "cell_type": "code",
      "execution_count": null,
      "metadata": {
        "colab": {
          "background_save": true
        },
        "id": "s1tbeWExjwFA",
        "outputId": "8df3454c-75ef-4310-a84b-96da194a9477"
      },
      "outputs": [
        {
          "name": "stdout",
          "output_type": "stream",
          "text": [
            "1\n",
            "[2, 3]\n",
            "p\n",
            "y\n",
            "['t', 'h', 'o', 'n']\n"
          ]
        }
      ],
      "source": [
        "a, *b, (c, d, *e) = [1, 2, 3, 'python']\n",
        "print(a)\n",
        "print(b)\n",
        "print(c)\n",
        "print(d)\n",
        "print(e)"
      ]
    },
    {
      "cell_type": "markdown",
      "metadata": {
        "id": "Xtwvey3gkT6D"
      },
      "source": [
        "If we wanted to do the same thing using slicing:"
      ]
    },
    {
      "cell_type": "code",
      "execution_count": null,
      "metadata": {
        "colab": {
          "background_save": true
        },
        "id": "trpqash2j2F_",
        "outputId": "d02f2638-e81e-4145-8226-a04bf00baba4"
      },
      "outputs": [
        {
          "data": {
            "text/plain": [
              "(1, [2, 3], 'p', 'y', ['t', 'h', 'o', 'n'])"
            ]
          },
          "execution_count": 520,
          "metadata": {},
          "output_type": "execute_result"
        }
      ],
      "source": [
        "l = [1, 2, 3, 'python']\n",
        "l[0], l[1:-1], l[-1][0], l[-1][1], list(l[-1][2:])"
      ]
    },
    {
      "cell_type": "code",
      "execution_count": null,
      "metadata": {
        "colab": {
          "background_save": true
        },
        "id": "k88_pf5PkjjR",
        "outputId": "02868831-78c2-4d9a-a109-ac74d5f5188a"
      },
      "outputs": [
        {
          "name": "stdout",
          "output_type": "stream",
          "text": [
            "1\n",
            "[2, 3]\n",
            "p\n",
            "y\n",
            "['t', 'h', 'o', 'n']\n"
          ]
        }
      ],
      "source": [
        "l = [1, 2, 3, 'python']\n",
        "a, b, c, d, e = l[0], l[1:-1], l[-1][0], l[-1][1], list(l[-1][2:])\n",
        "print(a)\n",
        "print(b)\n",
        "print(c)\n",
        "print(d)\n",
        "print(e)"
      ]
    },
    {
      "cell_type": "markdown",
      "metadata": {
        "id": "IKFHslHWk1_k"
      },
      "source": [
        "Of course, this works for arbitrary lengths and indexable sequence types:"
      ]
    },
    {
      "cell_type": "code",
      "execution_count": null,
      "metadata": {
        "colab": {
          "background_save": true
        },
        "id": "dBLVlZUEkvX9",
        "outputId": "25fa8640-e2a1-4008-df50-f484522bc9ce"
      },
      "outputs": [
        {
          "name": "stdout",
          "output_type": "stream",
          "text": [
            "1\n",
            "[2, 3, 4]\n",
            "u\n",
            "n\n",
            "['l', 'a', 'd', 'e', 'n', ' ', 's', 'w', 'a', 'l', 'l', 'o', 'w']\n"
          ]
        }
      ],
      "source": [
        "l = [1, 2, 3, 4, 'unladen swallow']\n",
        "a, b, c, d, e = l[0], l[1:-1], l[-1][0], l[-1][1], list(l[-1][2:])\n",
        "print(a)\n",
        "print(b)\n",
        "print(c)\n",
        "print(d)\n",
        "print(e)"
      ]
    },
    {
      "cell_type": "markdown",
      "metadata": {
        "id": "h2ONfjHGlEly"
      },
      "source": [
        "or even:"
      ]
    },
    {
      "cell_type": "code",
      "execution_count": null,
      "metadata": {
        "colab": {
          "background_save": true
        },
        "id": "SspugQS2lB69",
        "outputId": "459c546c-7955-4049-ca65-bb865a50795b"
      },
      "outputs": [
        {
          "name": "stdout",
          "output_type": "stream",
          "text": [
            "1\n",
            "[2, 3, 4]\n",
            "a\n",
            "b\n",
            "['c', 'd']\n"
          ]
        }
      ],
      "source": [
        "l = [1, 2, 3, 4, ['a', 'b', 'c', 'd']]\n",
        "a, b, c, d, e = l[0], l[1:-1], l[-1][0], l[-1][1], list(l[-1][2:])\n",
        "print(a)\n",
        "print(b)\n",
        "print(c)\n",
        "print(d)\n",
        "print(e)"
      ]
    },
    {
      "cell_type": "markdown",
      "metadata": {
        "id": "4j5T5AzroRKj"
      },
      "source": [
        "### 04 - Star - Args"
      ]
    },
    {
      "cell_type": "markdown",
      "metadata": {
        "id": "oVnKi6MNoUmw"
      },
      "source": [
        "**args**"
      ]
    },
    {
      "cell_type": "markdown",
      "metadata": {
        "id": "MpHWGJSLoV9z"
      },
      "source": [
        "Recall from iterable unpacking:"
      ]
    },
    {
      "cell_type": "code",
      "execution_count": null,
      "metadata": {
        "colab": {
          "background_save": true
        },
        "id": "M0OQ9JyJoYtW"
      },
      "outputs": [],
      "source": [
        "a, b, *c = 10, 20, 'a', 'b'"
      ]
    },
    {
      "cell_type": "code",
      "execution_count": null,
      "metadata": {
        "colab": {
          "background_save": true
        },
        "id": "IQ61b-yFobyD",
        "outputId": "34097db1-c8b9-4442-cb3f-0feb85afc441"
      },
      "outputs": [
        {
          "name": "stdout",
          "output_type": "stream",
          "text": [
            "10 20\n"
          ]
        }
      ],
      "source": [
        "print(a, b)"
      ]
    },
    {
      "cell_type": "code",
      "execution_count": null,
      "metadata": {
        "colab": {
          "background_save": true
        },
        "id": "bYa1tenUocqR",
        "outputId": "97bb4eb8-5578-43c1-f22d-bd66db9cfc13"
      },
      "outputs": [
        {
          "name": "stdout",
          "output_type": "stream",
          "text": [
            "['a', 'b']\n"
          ]
        }
      ],
      "source": [
        "print(c)"
      ]
    },
    {
      "cell_type": "markdown",
      "metadata": {
        "id": "EbKceDKlofD2"
      },
      "source": [
        "We can use a similar concept in function definitions to allow for arbitrary numbers of positional parameters/arguments:"
      ]
    },
    {
      "cell_type": "code",
      "execution_count": null,
      "metadata": {
        "colab": {
          "background_save": true
        },
        "id": "pxQGUfPbodtG"
      },
      "outputs": [],
      "source": [
        "def func1(a, b, *args):\n",
        "    print(a)\n",
        "    print(b)\n",
        "    print(args)"
      ]
    },
    {
      "cell_type": "code",
      "execution_count": null,
      "metadata": {
        "colab": {
          "background_save": true
        },
        "id": "iyl0-OMKosYX",
        "outputId": "f6c3ba70-0ab9-45bc-a76d-40834ce39501"
      },
      "outputs": [
        {
          "name": "stdout",
          "output_type": "stream",
          "text": [
            "1\n",
            "2\n",
            "('a', 'b')\n"
          ]
        }
      ],
      "source": [
        "func1(1, 2, 'a', 'b')"
      ]
    },
    {
      "cell_type": "markdown",
      "metadata": {
        "id": "AZpYrH9rrcmY"
      },
      "source": [
        "\n",
        "\n",
        "---\n",
        "\n",
        "**BE CAREFUL!**"
      ]
    },
    {
      "cell_type": "markdown",
      "metadata": {
        "id": "6Jn7UZXRowC1"
      },
      "source": [
        "*A few things to note:*\n",
        "\n",
        "1. Unlike iterable unpacking, `*args` will be a `tuple`, not a list.\n",
        "2. The name of the parameter `args` can be anything you prefer.\n",
        "3. You cannot specify positional arguments after `*args` parameter - this does something different that we'll cover in the next lecture."
      ]
    },
    {
      "cell_type": "code",
      "execution_count": null,
      "metadata": {
        "colab": {
          "background_save": true
        },
        "id": "oJLj_W4Pou3j"
      },
      "outputs": [],
      "source": [
        "def func1(a, b, *my_vars):\n",
        "    print(a)\n",
        "    print(b)\n",
        "    print(my_vars)"
      ]
    },
    {
      "cell_type": "code",
      "execution_count": null,
      "metadata": {
        "colab": {
          "background_save": true
        },
        "id": "0NlyI1uDrUL2",
        "outputId": "9b212ba1-70b7-41d8-875b-0e2fe2640207"
      },
      "outputs": [
        {
          "name": "stdout",
          "output_type": "stream",
          "text": [
            "10\n",
            "20\n",
            "('a', 'b', 'c')\n"
          ]
        }
      ],
      "source": [
        "func1(10, 20, 'a', 'b', 'c')"
      ]
    },
    {
      "cell_type": "code",
      "execution_count": null,
      "metadata": {
        "colab": {
          "background_save": true
        },
        "id": "ktIecCFTrYE5"
      },
      "outputs": [],
      "source": [
        "def func1(a, b, *c, d):\n",
        "    print(a)\n",
        "    print(b)\n",
        "    print(c)\n",
        "    print(d)"
      ]
    },
    {
      "cell_type": "code",
      "execution_count": null,
      "metadata": {
        "colab": {
          "base_uri": "https://localhost:8080/",
          "height": 166
        },
        "id": "nywGkluar4gK",
        "outputId": "f1beb526-8f70-439e-dfb4-7b52354df5fd"
      },
      "outputs": [
        {
          "ename": "TypeError",
          "evalue": "func1() missing 1 required keyword-only argument: 'd'",
          "output_type": "error",
          "traceback": [
            "\u001b[1;31m---------------------------------------------------------------------------\u001b[0m",
            "\u001b[1;31mTypeError\u001b[0m                                 Traceback (most recent call last)",
            "Input \u001b[1;32mIn [532]\u001b[0m, in \u001b[0;36m<cell line: 1>\u001b[1;34m()\u001b[0m\n\u001b[1;32m----> 1\u001b[0m \u001b[43mfunc1\u001b[49m\u001b[43m(\u001b[49m\u001b[38;5;241;43m10\u001b[39;49m\u001b[43m,\u001b[49m\u001b[43m \u001b[49m\u001b[38;5;241;43m20\u001b[39;49m\u001b[43m,\u001b[49m\u001b[43m \u001b[49m\u001b[38;5;124;43m'\u001b[39;49m\u001b[38;5;124;43ma\u001b[39;49m\u001b[38;5;124;43m'\u001b[39;49m\u001b[43m,\u001b[49m\u001b[43m \u001b[49m\u001b[38;5;124;43m'\u001b[39;49m\u001b[38;5;124;43mb\u001b[39;49m\u001b[38;5;124;43m'\u001b[39;49m\u001b[43m,\u001b[49m\u001b[43m \u001b[49m\u001b[38;5;241;43m100\u001b[39;49m\u001b[43m)\u001b[49m\n",
            "\u001b[1;31mTypeError\u001b[0m: func1() missing 1 required keyword-only argument: 'd'"
          ]
        }
      ],
      "source": [
        "func1(10, 20, 'a', 'b', 100)"
      ]
    },
    {
      "cell_type": "markdown",
      "metadata": {
        "id": "MA5Ak0gYrpJP"
      },
      "source": [
        "\n",
        "\n",
        "---\n",
        "\n"
      ]
    },
    {
      "cell_type": "markdown",
      "metadata": {
        "id": "nVPhYtFNr8hl"
      },
      "source": [
        "Let's see how we might use this to calculate the average of an arbitrary number of parameters."
      ]
    },
    {
      "cell_type": "code",
      "execution_count": null,
      "metadata": {
        "id": "W-G1SiW5r5zw"
      },
      "outputs": [],
      "source": [
        "def avg(*args):\n",
        "    count = len(args)\n",
        "    total = sum(args)\n",
        "    return total/count"
      ]
    },
    {
      "cell_type": "code",
      "execution_count": null,
      "metadata": {
        "colab": {
          "base_uri": "https://localhost:8080/"
        },
        "id": "rD3YZcMqsJHr",
        "outputId": "a025c205-aeb9-4ebc-ba63-212f14b2267a"
      },
      "outputs": [
        {
          "data": {
            "text/plain": [
              "3.0"
            ]
          },
          "execution_count": 534,
          "metadata": {},
          "output_type": "execute_result"
        }
      ],
      "source": [
        "avg(2, 2, 4, 4)"
      ]
    },
    {
      "cell_type": "markdown",
      "metadata": {
        "id": "Ki_mXwecsMVp"
      },
      "source": [
        "But watch what happens here:"
      ]
    },
    {
      "cell_type": "code",
      "execution_count": null,
      "metadata": {
        "colab": {
          "base_uri": "https://localhost:8080/",
          "height": 253
        },
        "id": "In97Y4pusLIM",
        "outputId": "41895ff8-1a6d-46e7-a400-fc185fff0992"
      },
      "outputs": [
        {
          "ename": "ZeroDivisionError",
          "evalue": "division by zero",
          "output_type": "error",
          "traceback": [
            "\u001b[1;31m---------------------------------------------------------------------------\u001b[0m",
            "\u001b[1;31mZeroDivisionError\u001b[0m                         Traceback (most recent call last)",
            "Input \u001b[1;32mIn [535]\u001b[0m, in \u001b[0;36m<cell line: 1>\u001b[1;34m()\u001b[0m\n\u001b[1;32m----> 1\u001b[0m \u001b[43mavg\u001b[49m\u001b[43m(\u001b[49m\u001b[43m)\u001b[49m\n",
            "Input \u001b[1;32mIn [533]\u001b[0m, in \u001b[0;36mavg\u001b[1;34m(*args)\u001b[0m\n\u001b[0;32m      2\u001b[0m count \u001b[38;5;241m=\u001b[39m \u001b[38;5;28mlen\u001b[39m(args)\n\u001b[0;32m      3\u001b[0m total \u001b[38;5;241m=\u001b[39m \u001b[38;5;28msum\u001b[39m(args)\n\u001b[1;32m----> 4\u001b[0m \u001b[38;5;28;01mreturn\u001b[39;00m \u001b[43mtotal\u001b[49m\u001b[38;5;241;43m/\u001b[39;49m\u001b[43mcount\u001b[49m\n",
            "\u001b[1;31mZeroDivisionError\u001b[0m: division by zero"
          ]
        }
      ],
      "source": [
        "avg()"
      ]
    },
    {
      "cell_type": "markdown",
      "metadata": {
        "id": "2Lpo4BGRsQT_"
      },
      "source": [
        "The problem is that we passed zero arguments.\n",
        "\n",
        "We can fix this in one of two ways:"
      ]
    },
    {
      "cell_type": "code",
      "execution_count": null,
      "metadata": {
        "id": "OB9_PwI-sPM9"
      },
      "outputs": [],
      "source": [
        "def avg(*args):\n",
        "    count = len(args)\n",
        "    total = sum(args)\n",
        "    if count == 0:\n",
        "        return 0\n",
        "    else:\n",
        "        return total/count"
      ]
    },
    {
      "cell_type": "code",
      "execution_count": null,
      "metadata": {
        "colab": {
          "base_uri": "https://localhost:8080/"
        },
        "id": "0qbNaQ_MsgtG",
        "outputId": "226d027c-bce9-4731-d9ae-df4573c03683"
      },
      "outputs": [
        {
          "data": {
            "text/plain": [
              "3.0"
            ]
          },
          "execution_count": 537,
          "metadata": {},
          "output_type": "execute_result"
        }
      ],
      "source": [
        "avg(2, 2, 4, 4)"
      ]
    },
    {
      "cell_type": "code",
      "execution_count": null,
      "metadata": {
        "colab": {
          "base_uri": "https://localhost:8080/"
        },
        "id": "9hpzfjFFsiVy",
        "outputId": "38738cbc-daae-461e-e1f0-06bcef2b0585"
      },
      "outputs": [
        {
          "data": {
            "text/plain": [
              "0"
            ]
          },
          "execution_count": 538,
          "metadata": {},
          "output_type": "execute_result"
        }
      ],
      "source": [
        "avg()"
      ]
    },
    {
      "cell_type": "markdown",
      "metadata": {
        "id": "aUa-4U61skoF"
      },
      "source": [
        "But we may now want to allow specfying zero arguments, in which case we can split our parameters into a required (non-defaulted) positional argument, and the rest:"
      ]
    },
    {
      "cell_type": "code",
      "execution_count": null,
      "metadata": {
        "id": "upDfUt_JsjJK"
      },
      "outputs": [],
      "source": [
        "def avg(a, *args):\n",
        "    count = len(args) + 1\n",
        "    total = a + sum(args)\n",
        "    return total/count"
      ]
    },
    {
      "cell_type": "code",
      "execution_count": null,
      "metadata": {
        "colab": {
          "base_uri": "https://localhost:8080/"
        },
        "id": "3I4wTnU1s8ee",
        "outputId": "51448ba3-a40a-4765-f38f-18d8a9331c83"
      },
      "outputs": [
        {
          "data": {
            "text/plain": [
              "3.0"
            ]
          },
          "execution_count": 540,
          "metadata": {},
          "output_type": "execute_result"
        }
      ],
      "source": [
        "avg(2, 2, 4, 4)"
      ]
    },
    {
      "cell_type": "code",
      "execution_count": null,
      "metadata": {
        "colab": {
          "base_uri": "https://localhost:8080/",
          "height": 166
        },
        "id": "9o1B9ZuKs99J",
        "outputId": "1088fc22-eb8b-43ea-d0f0-99ddce23cd6f"
      },
      "outputs": [
        {
          "ename": "TypeError",
          "evalue": "avg() missing 1 required positional argument: 'a'",
          "output_type": "error",
          "traceback": [
            "\u001b[1;31m---------------------------------------------------------------------------\u001b[0m",
            "\u001b[1;31mTypeError\u001b[0m                                 Traceback (most recent call last)",
            "Input \u001b[1;32mIn [541]\u001b[0m, in \u001b[0;36m<cell line: 1>\u001b[1;34m()\u001b[0m\n\u001b[1;32m----> 1\u001b[0m \u001b[43mavg\u001b[49m\u001b[43m(\u001b[49m\u001b[43m)\u001b[49m\n",
            "\u001b[1;31mTypeError\u001b[0m: avg() missing 1 required positional argument: 'a'"
          ]
        }
      ],
      "source": [
        "avg()"
      ]
    },
    {
      "cell_type": "markdown",
      "metadata": {
        "id": "uepL-epdtAXD"
      },
      "source": [
        "As you can see, an exception occurs if we do not specify at least one argument."
      ]
    },
    {
      "cell_type": "markdown",
      "metadata": {
        "id": "T-Jn9tm4tJ3N"
      },
      "source": [
        "**Unpacking an iterable into positional arguments**"
      ]
    },
    {
      "cell_type": "code",
      "execution_count": null,
      "metadata": {
        "id": "-9kRdNsvs-pY"
      },
      "outputs": [],
      "source": [
        "def func1(a, b, c):\n",
        "    print(a)\n",
        "    print(b)\n",
        "    print(c)"
      ]
    },
    {
      "cell_type": "code",
      "execution_count": null,
      "metadata": {
        "id": "kfejscRZtWRX"
      },
      "outputs": [],
      "source": [
        "l = [10, 20, 30]"
      ]
    },
    {
      "cell_type": "markdown",
      "metadata": {
        "id": "I0bsulmotZRG"
      },
      "source": [
        "This will not work:"
      ]
    },
    {
      "cell_type": "code",
      "execution_count": null,
      "metadata": {
        "colab": {
          "base_uri": "https://localhost:8080/",
          "height": 166
        },
        "id": "n1ifLg0wtYVm",
        "outputId": "75cb1291-5649-4ec6-b9cc-19a8425f4805"
      },
      "outputs": [
        {
          "ename": "TypeError",
          "evalue": "func1() missing 2 required positional arguments: 'b' and 'c'",
          "output_type": "error",
          "traceback": [
            "\u001b[1;31m---------------------------------------------------------------------------\u001b[0m",
            "\u001b[1;31mTypeError\u001b[0m                                 Traceback (most recent call last)",
            "Input \u001b[1;32mIn [544]\u001b[0m, in \u001b[0;36m<cell line: 1>\u001b[1;34m()\u001b[0m\n\u001b[1;32m----> 1\u001b[0m \u001b[43mfunc1\u001b[49m\u001b[43m(\u001b[49m\u001b[43ml\u001b[49m\u001b[43m)\u001b[49m\n",
            "\u001b[1;31mTypeError\u001b[0m: func1() missing 2 required positional arguments: 'b' and 'c'"
          ]
        }
      ],
      "source": [
        "func1(l)"
      ]
    },
    {
      "cell_type": "markdown",
      "metadata": {
        "id": "ULo3jbHDtc3N"
      },
      "source": [
        "The function expects three positional arguments, but we only supplied a single one (albeit a list).\n",
        "\n",
        "But we could unpack the list, and then pass it to as the function arguments:"
      ]
    },
    {
      "cell_type": "code",
      "execution_count": null,
      "metadata": {
        "colab": {
          "base_uri": "https://localhost:8080/"
        },
        "id": "BCt_15gmtbmA",
        "outputId": "833de720-e5e6-49c3-a8d0-31b388020adb"
      },
      "outputs": [
        {
          "data": {
            "text/plain": [
              "(10, 20, 30)"
            ]
          },
          "execution_count": 545,
          "metadata": {},
          "output_type": "execute_result"
        }
      ],
      "source": [
        "*l,"
      ]
    },
    {
      "cell_type": "code",
      "execution_count": null,
      "metadata": {
        "colab": {
          "base_uri": "https://localhost:8080/"
        },
        "id": "zY24D272t9Il",
        "outputId": "380e4829-8119-47cf-9eb9-46cb2dad9116"
      },
      "outputs": [
        {
          "name": "stdout",
          "output_type": "stream",
          "text": [
            "10\n",
            "20\n",
            "30\n"
          ]
        }
      ],
      "source": [
        "func1(*l)"
      ]
    },
    {
      "cell_type": "markdown",
      "metadata": {
        "id": "JqNLmWzSuN3H"
      },
      "source": [
        "What about mixing positional and keyword arguments with this?"
      ]
    },
    {
      "cell_type": "code",
      "execution_count": null,
      "metadata": {
        "id": "5MNQztXfuLkk"
      },
      "outputs": [],
      "source": [
        "def func1(a, b, c, *d):\n",
        "    print(a)\n",
        "    print(b)\n",
        "    print(c)\n",
        "    print(d)"
      ]
    },
    {
      "cell_type": "code",
      "execution_count": null,
      "metadata": {
        "colab": {
          "base_uri": "https://localhost:8080/",
          "height": 131
        },
        "id": "EgSpZ8pLuAO1",
        "outputId": "6408ba3a-446f-42ed-8264-5584a281e9d8"
      },
      "outputs": [
        {
          "ename": "SyntaxError",
          "evalue": "positional argument follows keyword argument (3288857041.py, line 1)",
          "output_type": "error",
          "traceback": [
            "\u001b[1;36m  Input \u001b[1;32mIn [548]\u001b[1;36m\u001b[0m\n\u001b[1;33m    func1(10, c=20, b=10, 'a', 'b')\u001b[0m\n\u001b[1;37m                                  ^\u001b[0m\n\u001b[1;31mSyntaxError\u001b[0m\u001b[1;31m:\u001b[0m positional argument follows keyword argument\n"
          ]
        }
      ],
      "source": [
        "func1(10, c=20, b=10, 'a', 'b')"
      ]
    },
    {
      "cell_type": "markdown",
      "metadata": {
        "id": "vlU0cx11uJVP"
      },
      "source": [
        "Recall that once a keyword argument is used in a function call, we cannot use positional arguments after that.\n",
        "\n",
        "However, in the next lecture we'll look at how to address this issue."
      ]
    },
    {
      "cell_type": "markdown",
      "metadata": {
        "id": "H94r2ThHvae3"
      },
      "source": [
        "### 05 - Keyword Arguments"
      ]
    },
    {
      "cell_type": "markdown",
      "metadata": {
        "id": "-bqUaMQsvegr"
      },
      "source": [
        "Recall: positional parameters defined in functions can also be passed as named (keyword) arguments."
      ]
    },
    {
      "cell_type": "code",
      "execution_count": null,
      "metadata": {
        "id": "KzfpHHVgvDMK"
      },
      "outputs": [],
      "source": [
        "def func1(a, b, c):\n",
        "    print(a, b, c)"
      ]
    },
    {
      "cell_type": "code",
      "execution_count": null,
      "metadata": {
        "colab": {
          "base_uri": "https://localhost:8080/"
        },
        "id": "12O7SGkNAUIw",
        "outputId": "35404ed0-2417-401a-b492-be91f12af018"
      },
      "outputs": [
        {
          "name": "stdout",
          "output_type": "stream",
          "text": [
            "10 20 30\n"
          ]
        }
      ],
      "source": [
        "func1(10, 20, 30)"
      ]
    },
    {
      "cell_type": "code",
      "execution_count": null,
      "metadata": {
        "colab": {
          "base_uri": "https://localhost:8080/"
        },
        "id": "ofexpOVPAX2Y",
        "outputId": "d13301c7-f6aa-4593-fd33-da1d5eb32040"
      },
      "outputs": [
        {
          "name": "stdout",
          "output_type": "stream",
          "text": [
            "10 20 30\n"
          ]
        }
      ],
      "source": [
        "func1(b=20, c=30, a=10)"
      ]
    },
    {
      "cell_type": "code",
      "execution_count": null,
      "metadata": {
        "colab": {
          "base_uri": "https://localhost:8080/"
        },
        "id": "XeqqB1qiAenN",
        "outputId": "503542b6-864a-4383-d56e-bcf93f751eb9"
      },
      "outputs": [
        {
          "name": "stdout",
          "output_type": "stream",
          "text": [
            "10 20 30\n"
          ]
        }
      ],
      "source": [
        "func1(10, c=30, b=20)"
      ]
    },
    {
      "cell_type": "markdown",
      "metadata": {
        "id": "mxrPsJ1nAkT8"
      },
      "source": [
        "Using a named argument is optional and up to the caller.\n",
        "\n",
        "What if we wanted to force calls to our function to use named arguments?\n",
        "\n",
        "We can do so by exhausting all the positional arguments, and then adding some additional parameters in the function definition:"
      ]
    },
    {
      "cell_type": "code",
      "execution_count": null,
      "metadata": {
        "id": "y7PLkWENAi3Y"
      },
      "outputs": [],
      "source": [
        "def func1(a, b, *args, d):\n",
        "    print(a, b, args, d)"
      ]
    },
    {
      "cell_type": "markdown",
      "metadata": {
        "id": "EH6vk3ZIBAd0"
      },
      "source": [
        "Now we will need at least two positional arguments, an optional (possibly even zero) number of additional arguments, and this extra argument which is supposed to go into `d`. This argument can only be passed to the function using a named (keyword) argument:\n",
        "\n",
        "So, this will not work:"
      ]
    },
    {
      "cell_type": "code",
      "execution_count": null,
      "metadata": {
        "colab": {
          "base_uri": "https://localhost:8080/",
          "height": 166
        },
        "id": "ummpKoXjA_2c",
        "outputId": "0972cec9-967e-46cb-b244-7d70f7b4a124"
      },
      "outputs": [
        {
          "ename": "TypeError",
          "evalue": "func1() missing 1 required keyword-only argument: 'd'",
          "output_type": "error",
          "traceback": [
            "\u001b[1;31m---------------------------------------------------------------------------\u001b[0m",
            "\u001b[1;31mTypeError\u001b[0m                                 Traceback (most recent call last)",
            "Input \u001b[1;32mIn [554]\u001b[0m, in \u001b[0;36m<cell line: 1>\u001b[1;34m()\u001b[0m\n\u001b[1;32m----> 1\u001b[0m \u001b[43mfunc1\u001b[49m\u001b[43m(\u001b[49m\u001b[38;5;241;43m10\u001b[39;49m\u001b[43m,\u001b[49m\u001b[43m \u001b[49m\u001b[38;5;241;43m20\u001b[39;49m\u001b[43m,\u001b[49m\u001b[43m \u001b[49m\u001b[38;5;124;43m'\u001b[39;49m\u001b[38;5;124;43ma\u001b[39;49m\u001b[38;5;124;43m'\u001b[39;49m\u001b[43m,\u001b[49m\u001b[43m \u001b[49m\u001b[38;5;124;43m'\u001b[39;49m\u001b[38;5;124;43mb\u001b[39;49m\u001b[38;5;124;43m'\u001b[39;49m\u001b[43m,\u001b[49m\u001b[43m \u001b[49m\u001b[38;5;241;43m100\u001b[39;49m\u001b[43m)\u001b[49m\n",
            "\u001b[1;31mTypeError\u001b[0m: func1() missing 1 required keyword-only argument: 'd'"
          ]
        }
      ],
      "source": [
        "func1(10, 20, 'a', 'b', 100)"
      ]
    },
    {
      "cell_type": "markdown",
      "metadata": {
        "id": "zZ5K8EW9BqiE"
      },
      "source": [
        "But this will:"
      ]
    },
    {
      "cell_type": "code",
      "execution_count": null,
      "metadata": {
        "colab": {
          "base_uri": "https://localhost:8080/"
        },
        "id": "M0pbWN77BpOm",
        "outputId": "92803995-a0d0-43c7-a468-3b4834d255ef"
      },
      "outputs": [
        {
          "name": "stdout",
          "output_type": "stream",
          "text": [
            "10 20 ('a', 'b') 100\n"
          ]
        }
      ],
      "source": [
        "func1(10, 20, 'a', 'b', d=100)"
      ]
    },
    {
      "cell_type": "markdown",
      "metadata": {
        "id": "SU51L-RiBzOs"
      },
      "source": [
        "As you can see, `d` took the keyword argument, while the remaining arguments were handled as positional parameters.\n",
        "\n",
        "We can even define a function that has only optional positional and mandatory keyword arguments:"
      ]
    },
    {
      "cell_type": "code",
      "execution_count": null,
      "metadata": {
        "id": "04mRk67jBvmz"
      },
      "outputs": [],
      "source": [
        "def func1(*args, d):\n",
        "    print(args)\n",
        "    print(d)"
      ]
    },
    {
      "cell_type": "code",
      "execution_count": null,
      "metadata": {
        "colab": {
          "base_uri": "https://localhost:8080/"
        },
        "id": "VlMHoeR1CF_S",
        "outputId": "2d46f1ab-8c96-4c09-f393-c8d0f4687631"
      },
      "outputs": [
        {
          "name": "stdout",
          "output_type": "stream",
          "text": [
            "(1, 2, 3)\n",
            "hello\n"
          ]
        }
      ],
      "source": [
        "func1(1, 2, 3, d='hello')"
      ]
    },
    {
      "cell_type": "markdown",
      "metadata": {
        "id": "yZbwK7UMCO7W"
      },
      "source": [
        "We can of course, not pass any positional arguments:"
      ]
    },
    {
      "cell_type": "code",
      "execution_count": null,
      "metadata": {
        "colab": {
          "base_uri": "https://localhost:8080/"
        },
        "id": "1lBQ3FxBCOPo",
        "outputId": "e1ec947e-e514-424a-a5fe-2d7cb7d7d820"
      },
      "outputs": [
        {
          "name": "stdout",
          "output_type": "stream",
          "text": [
            "()\n",
            "hello\n"
          ]
        }
      ],
      "source": [
        "func1(d='hello')"
      ]
    },
    {
      "cell_type": "markdown",
      "metadata": {
        "id": "sQ4nNZWICY1D"
      },
      "source": [
        "but the positional argument is mandatory (since no default was provided in the function definition):"
      ]
    },
    {
      "cell_type": "code",
      "execution_count": null,
      "metadata": {
        "colab": {
          "base_uri": "https://localhost:8080/",
          "height": 166
        },
        "id": "EkYvwZB6CVi1",
        "outputId": "505ad75f-ccbd-47ea-98f2-cd071968dbb8"
      },
      "outputs": [
        {
          "ename": "TypeError",
          "evalue": "func1() missing 1 required keyword-only argument: 'd'",
          "output_type": "error",
          "traceback": [
            "\u001b[1;31m---------------------------------------------------------------------------\u001b[0m",
            "\u001b[1;31mTypeError\u001b[0m                                 Traceback (most recent call last)",
            "Input \u001b[1;32mIn [559]\u001b[0m, in \u001b[0;36m<cell line: 1>\u001b[1;34m()\u001b[0m\n\u001b[1;32m----> 1\u001b[0m \u001b[43mfunc1\u001b[49m\u001b[43m(\u001b[49m\u001b[43m)\u001b[49m\n",
            "\u001b[1;31mTypeError\u001b[0m: func1() missing 1 required keyword-only argument: 'd'"
          ]
        }
      ],
      "source": [
        "func1()"
      ]
    },
    {
      "cell_type": "markdown",
      "metadata": {
        "id": "kRqu1cqXCmkG"
      },
      "source": [
        "To make the keyword argument optional, we just need to specify a default value in the function definition:"
      ]
    },
    {
      "cell_type": "code",
      "execution_count": null,
      "metadata": {
        "id": "srl2rg2vCgAl"
      },
      "outputs": [],
      "source": [
        "def func1(*args, d='n/a'):\n",
        "    print(args)\n",
        "    print(d)"
      ]
    },
    {
      "cell_type": "code",
      "execution_count": null,
      "metadata": {
        "colab": {
          "base_uri": "https://localhost:8080/"
        },
        "id": "SgeIcvfAC3jG",
        "outputId": "10ff3038-5f36-408f-e5e6-66fba47e8d01"
      },
      "outputs": [
        {
          "name": "stdout",
          "output_type": "stream",
          "text": [
            "(1, 2, 3)\n",
            "n/a\n"
          ]
        }
      ],
      "source": [
        "func1(1, 2, 3)"
      ]
    },
    {
      "cell_type": "code",
      "execution_count": null,
      "metadata": {
        "colab": {
          "base_uri": "https://localhost:8080/"
        },
        "id": "-LYqf7qHC4zw",
        "outputId": "bc0a9dd8-71cf-41c9-93b4-1eced6effc6e"
      },
      "outputs": [
        {
          "name": "stdout",
          "output_type": "stream",
          "text": [
            "()\n",
            "n/a\n"
          ]
        }
      ],
      "source": [
        "func1()"
      ]
    },
    {
      "cell_type": "markdown",
      "metadata": {
        "id": "hHxVjWJ6DLbZ"
      },
      "source": [
        "Sometimes we want only keyword arguments, in which case we still have to exhaust the positional arguments first - but we can use the following syntax if we do not want any positional parameters passed in:"
      ]
    },
    {
      "cell_type": "code",
      "execution_count": null,
      "metadata": {
        "id": "eUR5B7XtC6gv"
      },
      "outputs": [],
      "source": [
        "def func1(*, d='hello'):\n",
        "    print(d)"
      ]
    },
    {
      "cell_type": "code",
      "execution_count": null,
      "metadata": {
        "colab": {
          "base_uri": "https://localhost:8080/",
          "height": 166
        },
        "id": "d2J_7cKIDeaf",
        "outputId": "8775c83f-c00c-441a-82a5-126e7fc617de"
      },
      "outputs": [
        {
          "ename": "TypeError",
          "evalue": "func1() takes 0 positional arguments but 1 positional argument (and 1 keyword-only argument) were given",
          "output_type": "error",
          "traceback": [
            "\u001b[1;31m---------------------------------------------------------------------------\u001b[0m",
            "\u001b[1;31mTypeError\u001b[0m                                 Traceback (most recent call last)",
            "Input \u001b[1;32mIn [564]\u001b[0m, in \u001b[0;36m<cell line: 1>\u001b[1;34m()\u001b[0m\n\u001b[1;32m----> 1\u001b[0m \u001b[43mfunc1\u001b[49m\u001b[43m(\u001b[49m\u001b[38;5;241;43m10\u001b[39;49m\u001b[43m,\u001b[49m\u001b[43m \u001b[49m\u001b[43md\u001b[49m\u001b[38;5;241;43m=\u001b[39;49m\u001b[38;5;124;43m'\u001b[39;49m\u001b[38;5;124;43mbye\u001b[39;49m\u001b[38;5;124;43m'\u001b[39;49m\u001b[43m)\u001b[49m\n",
            "\u001b[1;31mTypeError\u001b[0m: func1() takes 0 positional arguments but 1 positional argument (and 1 keyword-only argument) were given"
          ]
        }
      ],
      "source": [
        "func1(10, d='bye')"
      ]
    },
    {
      "cell_type": "code",
      "execution_count": null,
      "metadata": {
        "colab": {
          "base_uri": "https://localhost:8080/"
        },
        "id": "ZCakcrTQDkfj",
        "outputId": "d3a25484-db08-43b0-f240-bf9c1e01f820"
      },
      "outputs": [
        {
          "name": "stdout",
          "output_type": "stream",
          "text": [
            "bye\n"
          ]
        }
      ],
      "source": [
        "func1(d='bye')"
      ]
    },
    {
      "cell_type": "markdown",
      "metadata": {
        "id": "CoVAxYbLDvsh"
      },
      "source": [
        "Of course, if we do not provide a default value for the keyword argument, then we effectively are forcing the caller to provide the keyword argument:"
      ]
    },
    {
      "cell_type": "code",
      "execution_count": null,
      "metadata": {
        "id": "8Brlpg57DsSn"
      },
      "outputs": [],
      "source": [
        "def func1(*, a, b):\n",
        "    print(a)\n",
        "    print(b)"
      ]
    },
    {
      "cell_type": "code",
      "execution_count": null,
      "metadata": {
        "colab": {
          "base_uri": "https://localhost:8080/"
        },
        "id": "I7laCrSKD_eZ",
        "outputId": "87564960-6bc5-4e1f-902f-a3e719db45dd"
      },
      "outputs": [
        {
          "name": "stdout",
          "output_type": "stream",
          "text": [
            "10\n",
            "20\n"
          ]
        }
      ],
      "source": [
        "func1(a=10, b=20)"
      ]
    },
    {
      "cell_type": "markdown",
      "metadata": {
        "id": "WVmlS5SYEEqK"
      },
      "source": [
        "but, the following would not work:"
      ]
    },
    {
      "cell_type": "code",
      "execution_count": null,
      "metadata": {
        "colab": {
          "base_uri": "https://localhost:8080/",
          "height": 166
        },
        "id": "tH-tJEdFEByQ",
        "outputId": "c2eaca37-2531-4cd2-e36e-4c11c7ff1729"
      },
      "outputs": [
        {
          "ename": "TypeError",
          "evalue": "func1() takes 0 positional arguments but 2 were given",
          "output_type": "error",
          "traceback": [
            "\u001b[1;31m---------------------------------------------------------------------------\u001b[0m",
            "\u001b[1;31mTypeError\u001b[0m                                 Traceback (most recent call last)",
            "Input \u001b[1;32mIn [568]\u001b[0m, in \u001b[0;36m<cell line: 1>\u001b[1;34m()\u001b[0m\n\u001b[1;32m----> 1\u001b[0m \u001b[43mfunc1\u001b[49m\u001b[43m(\u001b[49m\u001b[38;5;241;43m10\u001b[39;49m\u001b[43m,\u001b[49m\u001b[43m \u001b[49m\u001b[38;5;241;43m20\u001b[39;49m\u001b[43m)\u001b[49m\n",
            "\u001b[1;31mTypeError\u001b[0m: func1() takes 0 positional arguments but 2 were given"
          ]
        }
      ],
      "source": [
        "func1(10, 20)"
      ]
    },
    {
      "cell_type": "markdown",
      "metadata": {
        "id": "-8u0HPdQELoh"
      },
      "source": [
        "Unlike positional parameters, keyword arguments do not have to be defined with non-defaulted and then defaulted arguments:"
      ]
    },
    {
      "cell_type": "code",
      "execution_count": null,
      "metadata": {
        "id": "I3xAxGjOEJaK"
      },
      "outputs": [],
      "source": [
        "def func1(a, *, b='hello', c):\n",
        "    print(a, b, c)"
      ]
    },
    {
      "cell_type": "code",
      "execution_count": null,
      "metadata": {
        "colab": {
          "base_uri": "https://localhost:8080/"
        },
        "id": "3agRYhU5EYYm",
        "outputId": "b71be1cd-8d24-40b6-a14c-63f7d7b9abce"
      },
      "outputs": [
        {
          "name": "stdout",
          "output_type": "stream",
          "text": [
            "5 hello bye\n"
          ]
        }
      ],
      "source": [
        "func1(5, c='bye')"
      ]
    },
    {
      "cell_type": "markdown",
      "metadata": {
        "id": "AoH9LP7vEia3"
      },
      "source": [
        "We can also include positional non-defaulted (first), positional defaulted (after positional non-defaulted) folowed lastly (after exhausting positional arguments) by keyword args (defaulted or non-defaulted in any order)"
      ]
    },
    {
      "cell_type": "code",
      "execution_count": null,
      "metadata": {
        "id": "VPh0Jb7PEabE"
      },
      "outputs": [],
      "source": [
        "def func1(a, b=20, *args, d=0, e='n/a'):\n",
        "    print(a, b, args, d, e)"
      ]
    },
    {
      "cell_type": "code",
      "execution_count": null,
      "metadata": {
        "colab": {
          "base_uri": "https://localhost:8080/"
        },
        "id": "hxxudQuIE9Sz",
        "outputId": "a03a9063-8e5c-42ff-ca54-73fb3fa7a314"
      },
      "outputs": [
        {
          "name": "stdout",
          "output_type": "stream",
          "text": [
            "5 4 (3, 2, 1) 0 all engines running\n"
          ]
        }
      ],
      "source": [
        "func1(5, 4, 3, 2, 1, d=0, e='all engines running')"
      ]
    },
    {
      "cell_type": "code",
      "execution_count": null,
      "metadata": {
        "colab": {
          "base_uri": "https://localhost:8080/"
        },
        "id": "Rv8-jzNMFCBi",
        "outputId": "ee95fec1-ba44-4cc2-bdcf-bc62537c0fdc"
      },
      "outputs": [
        {
          "name": "stdout",
          "output_type": "stream",
          "text": [
            "0 600 () gooood morning python!\n"
          ]
        }
      ],
      "source": [
        "func1(0, 600, d='gooood morning', e='python!')"
      ]
    },
    {
      "cell_type": "code",
      "execution_count": null,
      "metadata": {
        "colab": {
          "base_uri": "https://localhost:8080/"
        },
        "id": "q4ZQPFicFJY1",
        "outputId": "0d85aab6-deaa-40c8-f91e-c4dd0ec4e4d8"
      },
      "outputs": [
        {
          "name": "stdout",
          "output_type": "stream",
          "text": [
            "11 m/s (24, 'mph') unladen swallow\n"
          ]
        }
      ],
      "source": [
        "func1(11, 'm/s', 24, 'mph', d='unladen', e='swallow')"
      ]
    },
    {
      "cell_type": "markdown",
      "metadata": {
        "id": "S5wnzrQFFSYl"
      },
      "source": [
        "As you can see, defining parameters and passing arguments is exteremly flexible in Python! Even more so, when you account for the fact that the parameters are not statically typed!"
      ]
    },
    {
      "cell_type": "markdown",
      "metadata": {
        "id": "X92p5UQLFg7M"
      },
      "source": [
        "### 06 - Kwargs"
      ]
    },
    {
      "cell_type": "code",
      "execution_count": null,
      "metadata": {
        "id": "HBhRF3FLFRjU"
      },
      "outputs": [],
      "source": [
        "def func(**kwargs):\n",
        "    print(kwargs)"
      ]
    },
    {
      "cell_type": "code",
      "execution_count": null,
      "metadata": {
        "colab": {
          "base_uri": "https://localhost:8080/"
        },
        "id": "A_38OsVU8ATq",
        "outputId": "b5b8449d-3859-45cf-97fa-96d3c20ede8f"
      },
      "outputs": [
        {
          "name": "stdout",
          "output_type": "stream",
          "text": [
            "{'x': 100, 'y': 200}\n"
          ]
        }
      ],
      "source": [
        "func(x=100, y=200)"
      ]
    },
    {
      "cell_type": "markdown",
      "metadata": {
        "id": "rbOxcGO58Fls"
      },
      "source": [
        "We can also use it in conjunction with *args:"
      ]
    },
    {
      "cell_type": "code",
      "execution_count": null,
      "metadata": {
        "id": "FV1T_6LN8Ekr"
      },
      "outputs": [],
      "source": [
        "def func(*args, **kwargs):\n",
        "    print(args)\n",
        "    print(kwargs)"
      ]
    },
    {
      "cell_type": "code",
      "execution_count": null,
      "metadata": {
        "colab": {
          "base_uri": "https://localhost:8080/"
        },
        "id": "JDQ3hPoo8OTj",
        "outputId": "7f9d9ace-5ac5-4c6b-91f7-bfe6548b7430"
      },
      "outputs": [
        {
          "name": "stdout",
          "output_type": "stream",
          "text": [
            "(1, 2)\n",
            "{'a': 100, 'b': 200}\n"
          ]
        }
      ],
      "source": [
        "func(1, 2, a=100, b=200)"
      ]
    },
    {
      "cell_type": "markdown",
      "metadata": {
        "id": "BwR_PxXz8UXL"
      },
      "source": [
        "\n",
        "\n",
        "---\n",
        "\n",
        "**BE CAREFUL!**"
      ]
    },
    {
      "cell_type": "markdown",
      "metadata": {
        "id": "x3bCXQxG8afi"
      },
      "source": [
        "*Note: You cannot do the following:*"
      ]
    },
    {
      "cell_type": "code",
      "execution_count": null,
      "metadata": {
        "colab": {
          "base_uri": "https://localhost:8080/",
          "height": 131
        },
        "id": "jfsPy5o78SUH",
        "outputId": "ac5db40c-05c9-4414-fc23-ab65796d827d"
      },
      "outputs": [
        {
          "ename": "SyntaxError",
          "evalue": "named arguments must follow bare * (1249865622.py, line 1)",
          "output_type": "error",
          "traceback": [
            "\u001b[1;36m  Input \u001b[1;32mIn [579]\u001b[1;36m\u001b[0m\n\u001b[1;33m    def func(*, **kwargs):\u001b[0m\n\u001b[1;37m                ^\u001b[0m\n\u001b[1;31mSyntaxError\u001b[0m\u001b[1;31m:\u001b[0m named arguments must follow bare *\n"
          ]
        }
      ],
      "source": [
        "def func(*, **kwargs):\n",
        "    print(kwargs)"
      ]
    },
    {
      "cell_type": "markdown",
      "metadata": {
        "id": "-ZHY5SoE8kjP"
      },
      "source": [
        "\n",
        "\n",
        "---"
      ]
    },
    {
      "cell_type": "markdown",
      "metadata": {
        "id": "Rnh6pvjs8oao"
      },
      "source": [
        "Also, you cannot specify parameters after `**kwargs` has been used:"
      ]
    },
    {
      "cell_type": "code",
      "execution_count": null,
      "metadata": {
        "colab": {
          "base_uri": "https://localhost:8080/",
          "height": 131
        },
        "id": "1itRFFlZ8g2q",
        "outputId": "0087a450-78a7-4e81-c5e7-426ff3e9e9da"
      },
      "outputs": [
        {
          "ename": "SyntaxError",
          "evalue": "invalid syntax (1664570957.py, line 1)",
          "output_type": "error",
          "traceback": [
            "\u001b[1;36m  Input \u001b[1;32mIn [580]\u001b[1;36m\u001b[0m\n\u001b[1;33m    def func(a, b, **kwargs, c):\u001b[0m\n\u001b[1;37m                             ^\u001b[0m\n\u001b[1;31mSyntaxError\u001b[0m\u001b[1;31m:\u001b[0m invalid syntax\n"
          ]
        }
      ],
      "source": [
        "def func(a, b, **kwargs, c):\n",
        "    pass"
      ]
    },
    {
      "cell_type": "markdown",
      "metadata": {
        "id": "7TFGXFKp843r"
      },
      "source": [
        "If you want to specify both specific keyword-only arguments and `**kwargs`, you will need to first get to a point where you can define a keyword-only argument (i.e. exhaust the positional arguments, using either `*args` or just `*`)"
      ]
    },
    {
      "cell_type": "code",
      "execution_count": null,
      "metadata": {
        "id": "GIVqctKx83dd"
      },
      "outputs": [],
      "source": [
        "def func(*, d, **kwargs):\n",
        "    print(d)\n",
        "    print(kwargs)"
      ]
    },
    {
      "cell_type": "code",
      "execution_count": null,
      "metadata": {
        "colab": {
          "base_uri": "https://localhost:8080/"
        },
        "id": "JQzOmQC99VSt",
        "outputId": "ebce0b5a-9580-4564-d967-f79a6aeabe64"
      },
      "outputs": [
        {
          "name": "stdout",
          "output_type": "stream",
          "text": [
            "1\n",
            "{'x': 100, 'y': 200}\n"
          ]
        }
      ],
      "source": [
        "func(d=1, x=100, y=200)"
      ]
    },
    {
      "cell_type": "markdown",
      "metadata": {
        "id": "Pobi3OL69gDe"
      },
      "source": [
        "### 07 - Putting it all Together"
      ]
    },
    {
      "cell_type": "markdown",
      "metadata": {
        "id": "81KDLelN9knA"
      },
      "source": [
        "Positionals Only: no extra positionals, no defaults (all positionals required)"
      ]
    },
    {
      "cell_type": "code",
      "execution_count": null,
      "metadata": {
        "id": "VFfdB_Pv9X3x"
      },
      "outputs": [],
      "source": [
        "def func(a, b):\n",
        "    print(a, b)"
      ]
    },
    {
      "cell_type": "code",
      "execution_count": null,
      "metadata": {
        "colab": {
          "base_uri": "https://localhost:8080/"
        },
        "id": "TiAl5Sbw9sxT",
        "outputId": "459f42ce-9e68-4fc9-fa27-642775a51dc9"
      },
      "outputs": [
        {
          "name": "stdout",
          "output_type": "stream",
          "text": [
            "hello world\n"
          ]
        }
      ],
      "source": [
        "func('hello', 'world')"
      ]
    },
    {
      "cell_type": "code",
      "execution_count": null,
      "metadata": {
        "colab": {
          "base_uri": "https://localhost:8080/"
        },
        "id": "TFhLzF629waT",
        "outputId": "e31a7cae-d167-4d9a-a8e4-a49f1dbd58f8"
      },
      "outputs": [
        {
          "name": "stdout",
          "output_type": "stream",
          "text": [
            "hello world\n"
          ]
        }
      ],
      "source": [
        "func(b='world', a='hello')"
      ]
    },
    {
      "cell_type": "markdown",
      "metadata": {
        "id": "GenYTUGV976J"
      },
      "source": [
        "Positionals Only: no extra positionals, defaults (some positionals optional)"
      ]
    },
    {
      "cell_type": "code",
      "execution_count": null,
      "metadata": {
        "id": "n_nurg4N941_"
      },
      "outputs": [],
      "source": [
        "def func(a, b='world', c=10):\n",
        "    print(a, b, c)"
      ]
    },
    {
      "cell_type": "code",
      "execution_count": null,
      "metadata": {
        "colab": {
          "base_uri": "https://localhost:8080/"
        },
        "id": "aTNdBPDK-FJI",
        "outputId": "d0366762-d0d5-4fed-f1f5-9d046b3beb40"
      },
      "outputs": [
        {
          "name": "stdout",
          "output_type": "stream",
          "text": [
            "hello world 10\n"
          ]
        }
      ],
      "source": [
        "func('hello')"
      ]
    },
    {
      "cell_type": "code",
      "execution_count": null,
      "metadata": {
        "colab": {
          "base_uri": "https://localhost:8080/"
        },
        "id": "_vgMSPvh-Ivy",
        "outputId": "5f13838d-601c-43ff-e342-0e51b8913e64"
      },
      "outputs": [
        {
          "name": "stdout",
          "output_type": "stream",
          "text": [
            "hello world !\n"
          ]
        }
      ],
      "source": [
        "func('hello', c='!')"
      ]
    },
    {
      "cell_type": "markdown",
      "metadata": {
        "id": "fDLul81--QRu"
      },
      "source": [
        "Positionals Only: extra positionals, no defaults (all positionals required)"
      ]
    },
    {
      "cell_type": "code",
      "execution_count": null,
      "metadata": {
        "id": "wLCNessc-Ov0"
      },
      "outputs": [],
      "source": [
        "def func(a, b, *args):\n",
        "    print(a, b, args)"
      ]
    },
    {
      "cell_type": "code",
      "execution_count": null,
      "metadata": {
        "colab": {
          "base_uri": "https://localhost:8080/"
        },
        "id": "haccJ9qj-Zje",
        "outputId": "196c0d3d-b029-47c7-d7dc-bb3e6cb6a5c4"
      },
      "outputs": [
        {
          "name": "stdout",
          "output_type": "stream",
          "text": [
            "1 2 ('x', 'y', 'z')\n"
          ]
        }
      ],
      "source": [
        "func(1, 2, 'x', 'y', 'z')"
      ]
    },
    {
      "cell_type": "markdown",
      "metadata": {
        "id": "dDMFcQ8T-dax"
      },
      "source": [
        "\n",
        "\n",
        "---\n",
        "**BE CAREFUL!**\n"
      ]
    },
    {
      "cell_type": "markdown",
      "metadata": {
        "id": "qm7NkCO--huT"
      },
      "source": [
        "*Note that we cannot call the function this way:*"
      ]
    },
    {
      "cell_type": "code",
      "execution_count": null,
      "metadata": {
        "colab": {
          "base_uri": "https://localhost:8080/",
          "height": 131
        },
        "id": "xZQvlYDa-mhZ",
        "outputId": "667ebc4b-73f6-4a92-d278-35755ed85b1a"
      },
      "outputs": [
        {
          "ename": "SyntaxError",
          "evalue": "positional argument follows keyword argument (2513684084.py, line 1)",
          "output_type": "error",
          "traceback": [
            "\u001b[1;36m  Input \u001b[1;32mIn [591]\u001b[1;36m\u001b[0m\n\u001b[1;33m    func(b=2, a=1, 'x', 'y', 'z')\u001b[0m\n\u001b[1;37m                                ^\u001b[0m\n\u001b[1;31mSyntaxError\u001b[0m\u001b[1;31m:\u001b[0m positional argument follows keyword argument\n"
          ]
        }
      ],
      "source": [
        "func(b=2, a=1, 'x', 'y', 'z')"
      ]
    },
    {
      "cell_type": "markdown",
      "metadata": {
        "id": "ixRPXK-v-mJi"
      },
      "source": [
        "Keywords Only: no positionals, no defaults (all keyword args required)"
      ]
    },
    {
      "cell_type": "code",
      "execution_count": null,
      "metadata": {
        "id": "KY8-QoUUAt6h"
      },
      "outputs": [],
      "source": [
        "def func(*, a, b):\n",
        "    print(a, b)"
      ]
    },
    {
      "cell_type": "code",
      "execution_count": null,
      "metadata": {
        "colab": {
          "base_uri": "https://localhost:8080/"
        },
        "id": "qk96W9CnA83y",
        "outputId": "80c03d18-3f52-489f-b8a0-d7950ba19ef6"
      },
      "outputs": [
        {
          "name": "stdout",
          "output_type": "stream",
          "text": [
            "1 2\n"
          ]
        }
      ],
      "source": [
        "func(a=1, b=2)"
      ]
    },
    {
      "cell_type": "markdown",
      "metadata": {
        "id": "rRbNClKIBCAe"
      },
      "source": [
        "Keywords Only: no positionals, some defaults (not all keyword args required)"
      ]
    },
    {
      "cell_type": "code",
      "execution_count": null,
      "metadata": {
        "id": "G0--gHB3BAk5"
      },
      "outputs": [],
      "source": [
        "def func(*, a=1, b):\n",
        "    print(a, b)"
      ]
    },
    {
      "cell_type": "code",
      "execution_count": null,
      "metadata": {
        "colab": {
          "base_uri": "https://localhost:8080/"
        },
        "id": "puofVG1YBNcj",
        "outputId": "a3a5d6dc-fe0a-4fc2-8598-0180e7eac029"
      },
      "outputs": [
        {
          "name": "stdout",
          "output_type": "stream",
          "text": [
            "10 20\n"
          ]
        }
      ],
      "source": [
        "func(a=10, b=20)"
      ]
    },
    {
      "cell_type": "code",
      "execution_count": null,
      "metadata": {
        "colab": {
          "base_uri": "https://localhost:8080/"
        },
        "id": "TQNHdc-rBPUS",
        "outputId": "eb8f8070-7356-4a27-a676-b066028a7b4f"
      },
      "outputs": [
        {
          "name": "stdout",
          "output_type": "stream",
          "text": [
            "1 2\n"
          ]
        }
      ],
      "source": [
        "func(b=2)"
      ]
    },
    {
      "cell_type": "markdown",
      "metadata": {
        "id": "83uz7bO0BUgH"
      },
      "source": [
        "Keywords and Positionals: some positionals (no defaults), keywords (no defaults)"
      ]
    },
    {
      "cell_type": "code",
      "execution_count": null,
      "metadata": {
        "id": "5LQdOy4LBRsE"
      },
      "outputs": [],
      "source": [
        "def func(a, b, *, c, d):\n",
        "    print(a, b, c, d)"
      ]
    },
    {
      "cell_type": "code",
      "execution_count": null,
      "metadata": {
        "colab": {
          "base_uri": "https://localhost:8080/"
        },
        "id": "KUn--VmpBfIC",
        "outputId": "11f4a466-0e33-4301-ee77-34b875573562"
      },
      "outputs": [
        {
          "name": "stdout",
          "output_type": "stream",
          "text": [
            "1 2 3 4\n"
          ]
        }
      ],
      "source": [
        "func(1, 2, c=3, d=4)"
      ]
    },
    {
      "cell_type": "code",
      "execution_count": null,
      "metadata": {
        "colab": {
          "base_uri": "https://localhost:8080/"
        },
        "id": "E_JLT5thBj2N",
        "outputId": "59dd5d45-5ae1-4987-c10f-6a6b09f5c552"
      },
      "outputs": [
        {
          "name": "stdout",
          "output_type": "stream",
          "text": [
            "1 2 3 4\n"
          ]
        }
      ],
      "source": [
        "func(1, 2, d=4, c=3)"
      ]
    },
    {
      "cell_type": "code",
      "execution_count": null,
      "metadata": {
        "colab": {
          "base_uri": "https://localhost:8080/"
        },
        "id": "iM7PVZpNBmuN",
        "outputId": "62cb6dfa-d660-4aed-9caa-9faac150e147"
      },
      "outputs": [
        {
          "name": "stdout",
          "output_type": "stream",
          "text": [
            "1 2 3 4\n"
          ]
        }
      ],
      "source": [
        "func(1, c=3, d=4, b=2)"
      ]
    },
    {
      "cell_type": "markdown",
      "metadata": {
        "id": "-qGBlvocBrjv"
      },
      "source": [
        "Keywords and Positionals: some positional defaults"
      ]
    },
    {
      "cell_type": "code",
      "execution_count": null,
      "metadata": {
        "id": "YYuuVpQHBqgZ"
      },
      "outputs": [],
      "source": [
        "def func(a, b=2, *, c, d=4):\n",
        "    print(a, b, c, d)"
      ]
    },
    {
      "cell_type": "code",
      "execution_count": null,
      "metadata": {
        "colab": {
          "base_uri": "https://localhost:8080/"
        },
        "id": "9VW8i8eIB2LT",
        "outputId": "547c00bc-49c2-4240-96c9-92aad0b40dba"
      },
      "outputs": [
        {
          "name": "stdout",
          "output_type": "stream",
          "text": [
            "1 2 3 4\n"
          ]
        }
      ],
      "source": [
        "func(1, c=3)"
      ]
    },
    {
      "cell_type": "code",
      "execution_count": null,
      "metadata": {
        "colab": {
          "base_uri": "https://localhost:8080/"
        },
        "id": "aZmLXsfKB3RB",
        "outputId": "e7f28315-ded4-423c-e13c-95706c9f112e"
      },
      "outputs": [
        {
          "name": "stdout",
          "output_type": "stream",
          "text": [
            "1 2 3 4\n"
          ]
        }
      ],
      "source": [
        "func(c=3, a=1)"
      ]
    },
    {
      "cell_type": "code",
      "execution_count": null,
      "metadata": {
        "colab": {
          "base_uri": "https://localhost:8080/"
        },
        "id": "4fUvYxMqB5DG",
        "outputId": "efac9757-8015-4f5c-a220-01eca248b526"
      },
      "outputs": [
        {
          "name": "stdout",
          "output_type": "stream",
          "text": [
            "1 2 3 4\n"
          ]
        }
      ],
      "source": [
        "func(1, 2, c=3, d=4)"
      ]
    },
    {
      "cell_type": "code",
      "execution_count": null,
      "metadata": {
        "colab": {
          "base_uri": "https://localhost:8080/"
        },
        "id": "4kqErN17B7Bq",
        "outputId": "f601a9ae-8ba8-44f4-c5c6-8f30058af226"
      },
      "outputs": [
        {
          "name": "stdout",
          "output_type": "stream",
          "text": [
            "1 2 3 4\n"
          ]
        }
      ],
      "source": [
        "func(c=3, a=1, b=2, d=4)"
      ]
    },
    {
      "cell_type": "markdown",
      "metadata": {
        "id": "_WwrCD-WB_UB"
      },
      "source": [
        "Keywords and Positionals: extra positionals"
      ]
    },
    {
      "cell_type": "code",
      "execution_count": null,
      "metadata": {
        "id": "JmL992ebB-N-"
      },
      "outputs": [],
      "source": [
        "def func(a, b=2, *args, c=3, d):\n",
        "    print(a, b, args, c, d)"
      ]
    },
    {
      "cell_type": "code",
      "execution_count": null,
      "metadata": {
        "colab": {
          "base_uri": "https://localhost:8080/"
        },
        "id": "YmM-nBRZCHpT",
        "outputId": "80e6075f-3528-4fb8-8f2b-0bd6e203ba59"
      },
      "outputs": [
        {
          "name": "stdout",
          "output_type": "stream",
          "text": [
            "1 2 ('x', 'y', 'z') 3 4\n"
          ]
        }
      ],
      "source": [
        "func(1, 2, 'x', 'y', 'z', c=3, d=4)"
      ]
    },
    {
      "cell_type": "markdown",
      "metadata": {
        "id": "SYQLVXc0COCk"
      },
      "source": [
        "\n",
        "\n",
        "---\n",
        "**BE CAREFUL!**\n"
      ]
    },
    {
      "cell_type": "markdown",
      "metadata": {
        "id": "XWDjuVNCCRuI"
      },
      "source": [
        "*Note that if we are going to use the extra arguments, then we cannot actually use a default value for b:*"
      ]
    },
    {
      "cell_type": "code",
      "execution_count": null,
      "metadata": {
        "colab": {
          "base_uri": "https://localhost:8080/"
        },
        "id": "kduRempeCMXq",
        "outputId": "9c6a3be5-cdf5-4d29-903e-6264dc590f0c"
      },
      "outputs": [
        {
          "name": "stdout",
          "output_type": "stream",
          "text": [
            "1 x ('y', 'z') 3 4\n"
          ]
        }
      ],
      "source": [
        "func(1, 'x', 'y', 'z', c=3, d=4)"
      ]
    },
    {
      "cell_type": "markdown",
      "metadata": {
        "id": "MoQxdfFlCh6Q"
      },
      "source": [
        "as you can see, `b` was assigned the value `x`"
      ]
    },
    {
      "cell_type": "markdown",
      "metadata": {
        "id": "4WbhfMw7CoTk"
      },
      "source": [
        "Keywords and Positionals: no extra positional, extra keywords"
      ]
    },
    {
      "cell_type": "code",
      "execution_count": null,
      "metadata": {
        "id": "fps6YcmYCgVp"
      },
      "outputs": [],
      "source": [
        "def func(a, b, *, c, d=4, **kwargs):\n",
        "    print(a, b, c, d, kwargs)"
      ]
    },
    {
      "cell_type": "code",
      "execution_count": null,
      "metadata": {
        "colab": {
          "base_uri": "https://localhost:8080/"
        },
        "id": "uHvCVEjmC2yM",
        "outputId": "6aef4b15-9078-4207-d561-80e77e6f88bc"
      },
      "outputs": [
        {
          "name": "stdout",
          "output_type": "stream",
          "text": [
            "1 2 3 4 {'x': 100, 'y': 200, 'z': 300}\n"
          ]
        }
      ],
      "source": [
        "func(1, 2, c=3, x=100, y=200, z=300)"
      ]
    },
    {
      "cell_type": "code",
      "execution_count": null,
      "metadata": {
        "colab": {
          "base_uri": "https://localhost:8080/"
        },
        "id": "XHPe2ATOC7ZS",
        "outputId": "991a47df-5ac3-4fc6-c320-3e0c762ff26e"
      },
      "outputs": [
        {
          "name": "stdout",
          "output_type": "stream",
          "text": [
            "1 2 3 4 {'x': 100, 'y': 200, 'z': 300}\n"
          ]
        }
      ],
      "source": [
        "func(x=100, y=200, z=300, c=3, b=2, a=1)"
      ]
    },
    {
      "cell_type": "markdown",
      "metadata": {
        "id": "JAUMCzCqDFQn"
      },
      "source": [
        "Keywords and Positionals: extra positionals, extra keywords"
      ]
    },
    {
      "cell_type": "code",
      "execution_count": null,
      "metadata": {
        "id": "AR7kIFPfC_nb"
      },
      "outputs": [],
      "source": [
        "def func(a, b, *args, c, d=4, **kwargs):\n",
        "    print(a, b, args, c, d, kwargs)"
      ]
    },
    {
      "cell_type": "code",
      "execution_count": null,
      "metadata": {
        "colab": {
          "base_uri": "https://localhost:8080/"
        },
        "id": "XtzjW8WqDSPI",
        "outputId": "98a63ef5-302d-4316-a77c-e31a14e175e6"
      },
      "outputs": [
        {
          "name": "stdout",
          "output_type": "stream",
          "text": [
            "1 2 ('x', 'y', '<') 3 5 {'x': 100, 'y': 200, 'z': 300}\n"
          ]
        }
      ],
      "source": [
        "func(1, 2, 'x', 'y', '<', c=3, d=5, x=100, y=200, z=300)"
      ]
    },
    {
      "cell_type": "markdown",
      "metadata": {
        "id": "jGtPkMjrDeV-"
      },
      "source": [
        "Keywords and Positionals: only extra positional and extra keywords"
      ]
    },
    {
      "cell_type": "code",
      "execution_count": null,
      "metadata": {
        "id": "1NGHtsZ_DZ_2"
      },
      "outputs": [],
      "source": [
        "def func(*args, **kwargs):\n",
        "    print(args, kwargs)"
      ]
    },
    {
      "cell_type": "code",
      "execution_count": null,
      "metadata": {
        "colab": {
          "base_uri": "https://localhost:8080/"
        },
        "id": "wECTvl8cDpU7",
        "outputId": "8b1d720d-d888-4d92-8cff-e3df9a4a4ab7"
      },
      "outputs": [
        {
          "name": "stdout",
          "output_type": "stream",
          "text": [
            "(1, 2, 3) {'x': 100, 'y': 200, 'z': 300}\n"
          ]
        }
      ],
      "source": [
        "func(1, 2, 3, x=100, y=200, z=300)"
      ]
    },
    {
      "cell_type": "markdown",
      "metadata": {
        "id": "39dt075cKc3o"
      },
      "source": [
        "You can see above in a summary table."
      ]
    },
    {
      "cell_type": "markdown",
      "metadata": {
        "id": "onhSfTrqDxJL"
      },
      "source": [
        "**The Print Function**"
      ]
    },
    {
      "cell_type": "code",
      "execution_count": null,
      "metadata": {
        "colab": {
          "base_uri": "https://localhost:8080/"
        },
        "id": "bn6mIE2NDuKh",
        "outputId": "6901ddda-622e-4e0e-b36b-2770dfb1a34b"
      },
      "outputs": [
        {
          "name": "stdout",
          "output_type": "stream",
          "text": [
            "Help on built-in function print in module builtins:\n",
            "\n",
            "print(...)\n",
            "    print(value, ..., sep=' ', end='\\n', file=sys.stdout, flush=False)\n",
            "    \n",
            "    Prints the values to a stream, or to sys.stdout by default.\n",
            "    Optional keyword arguments:\n",
            "    file:  a file-like object (stream); defaults to the current sys.stdout.\n",
            "    sep:   string inserted between values, default a space.\n",
            "    end:   string appended after the last value, default a newline.\n",
            "    flush: whether to forcibly flush the stream.\n",
            "\n"
          ]
        }
      ],
      "source": [
        "help(print)"
      ]
    },
    {
      "cell_type": "code",
      "execution_count": null,
      "metadata": {
        "colab": {
          "base_uri": "https://localhost:8080/"
        },
        "id": "3pPc0cobD0ds",
        "outputId": "40f90413-b691-431a-9e91-38cdf64bec65"
      },
      "outputs": [
        {
          "name": "stdout",
          "output_type": "stream",
          "text": [
            "1 2 3\n"
          ]
        }
      ],
      "source": [
        "print(1, 2, 3)"
      ]
    },
    {
      "cell_type": "code",
      "execution_count": null,
      "metadata": {
        "colab": {
          "base_uri": "https://localhost:8080/"
        },
        "id": "ps2ICO7OD30r",
        "outputId": "d78a5295-e38b-47f9-e6bc-6120a027cb4d"
      },
      "outputs": [
        {
          "name": "stdout",
          "output_type": "stream",
          "text": [
            "1--2--3\n"
          ]
        }
      ],
      "source": [
        "print(1, 2, 3, sep='--')"
      ]
    },
    {
      "cell_type": "code",
      "execution_count": null,
      "metadata": {
        "colab": {
          "base_uri": "https://localhost:8080/"
        },
        "id": "0eRHzgzLD7mr",
        "outputId": "6367e959-0591-4f95-b021-97b2f2ff1ff2"
      },
      "outputs": [
        {
          "name": "stdout",
          "output_type": "stream",
          "text": [
            "1 2 3***\n"
          ]
        }
      ],
      "source": [
        "print(1, 2, 3, end='***\\n')"
      ]
    },
    {
      "cell_type": "code",
      "execution_count": null,
      "metadata": {
        "colab": {
          "base_uri": "https://localhost:8080/"
        },
        "id": "L-lAr4l-D__X",
        "outputId": "18c216b4-dd6c-4c8a-c553-0183a308ab5d"
      },
      "outputs": [
        {
          "name": "stdout",
          "output_type": "stream",
          "text": [
            "1\t2\t3\t***\t4\t5\t6\t***\n"
          ]
        }
      ],
      "source": [
        "print(1, 2, 3, sep='\\t', end='\\t***\\t')\n",
        "print(4, 5, 6, sep='\\t', end='\\t***\\n')"
      ]
    },
    {
      "cell_type": "markdown",
      "metadata": {
        "id": "R5lWI3peEEyg"
      },
      "source": [
        "**Another Use Case**"
      ]
    },
    {
      "cell_type": "code",
      "execution_count": null,
      "metadata": {
        "id": "t2ZX6geTEB1f"
      },
      "outputs": [],
      "source": [
        "def calc_hi_lo_avg(*args, log_to_console=False):\n",
        "    hi = int(bool(args)) and max(args)\n",
        "    lo = int(bool(args)) and min(args)\n",
        "    avg = (hi + lo)/2\n",
        "    if log_to_console:\n",
        "        print(\"high={0}, low={1}, avg={2}\".format(hi, lo, avg))\n",
        "    return avg"
      ]
    },
    {
      "cell_type": "code",
      "execution_count": null,
      "metadata": {
        "colab": {
          "base_uri": "https://localhost:8080/"
        },
        "id": "NoAj5ziVEKnv",
        "outputId": "1b9bb1a4-b1c5-41b5-9dc5-e43c4ff137e1"
      },
      "outputs": [
        {
          "name": "stdout",
          "output_type": "stream",
          "text": [
            "3.0\n"
          ]
        }
      ],
      "source": [
        "avg = calc_hi_lo_avg(1, 2, 3, 4, 5)\n",
        "print(avg)"
      ]
    },
    {
      "cell_type": "code",
      "execution_count": null,
      "metadata": {
        "colab": {
          "base_uri": "https://localhost:8080/"
        },
        "id": "Uk_rxDupEL0o",
        "outputId": "d2a88532-2423-4aca-9109-26d07d2b57c3"
      },
      "outputs": [
        {
          "name": "stdout",
          "output_type": "stream",
          "text": [
            "high=5, low=1, avg=3.0\n",
            "3.0\n"
          ]
        }
      ],
      "source": [
        "avg = calc_hi_lo_avg(1, 2, 3, 4, 5, log_to_console=True)\n",
        "print(avg)"
      ]
    },
    {
      "cell_type": "markdown",
      "metadata": {
        "id": "q8cUGJrmlxCP"
      },
      "source": [
        "### 08 - Simple Function Timer"
      ]
    },
    {
      "cell_type": "markdown",
      "metadata": {
        "id": "8-hz6cZHl1P2"
      },
      "source": [
        "We want to create a simple function that can time how fast a function runs.\n",
        "\n",
        "We want this function to be generic in the sense that it can be used to time any function (along with it's positional and keyword arguments), as well as specifying the number of the time the function should be timed, and the returns the average of the timings.\n",
        "\n",
        "we'll call our function `time_it`, and it will need to have the following parameters:\n",
        "\n",
        "- the function we want to time\n",
        "- the positional arguments of the function we want to time (if any)\n",
        "- the keyword-only arguments of the function we want to time (if any)\n",
        "- the number of times we want to run this function"
      ]
    },
    {
      "cell_type": "code",
      "execution_count": null,
      "metadata": {
        "id": "RtQg0TEsmiy4"
      },
      "outputs": [],
      "source": [
        "import time"
      ]
    },
    {
      "cell_type": "code",
      "execution_count": null,
      "metadata": {
        "id": "mIjjLF41mkq1"
      },
      "outputs": [],
      "source": [
        "def time_it(fn, *args, rep=5, **kwargs):\n",
        "    print(args, rep, kwargs)"
      ]
    },
    {
      "cell_type": "markdown",
      "metadata": {
        "id": "zHsCDG6mpU08"
      },
      "source": [
        "Now we could the function this way:"
      ]
    },
    {
      "cell_type": "code",
      "execution_count": null,
      "metadata": {
        "colab": {
          "base_uri": "https://localhost:8080/"
        },
        "id": "TUPskcrDpUKi",
        "outputId": "53e46eaf-77ac-45ca-c9ad-80fe4c6b8a8a"
      },
      "outputs": [
        {
          "name": "stdout",
          "output_type": "stream",
          "text": [
            "(1, 2, 3) 5 {'sep': '-'}\n"
          ]
        }
      ],
      "source": [
        "time_it(print, 1, 2, 3, sep='-')"
      ]
    },
    {
      "cell_type": "markdown",
      "metadata": {
        "id": "jBjP92wzppLT"
      },
      "source": [
        "Let's modify our fucntion to actually run the print function with any positional and keyword args (except for rep) passed to it."
      ]
    },
    {
      "cell_type": "code",
      "execution_count": null,
      "metadata": {
        "id": "kN6XJ71Kpgmw"
      },
      "outputs": [],
      "source": [
        "def time_it(fn, *args, rep=5, **kwargs):\n",
        "    for i in range(rep):\n",
        "        fn(*args, **kwargs)"
      ]
    },
    {
      "cell_type": "code",
      "execution_count": null,
      "metadata": {
        "colab": {
          "base_uri": "https://localhost:8080/"
        },
        "id": "-2LIkO69p6PV",
        "outputId": "7c6d049b-a4ea-4863-b58b-2879116ddd8e"
      },
      "outputs": [
        {
          "name": "stdout",
          "output_type": "stream",
          "text": [
            "1-2-3\n",
            "1-2-3\n",
            "1-2-3\n",
            "1-2-3\n",
            "1-2-3\n"
          ]
        }
      ],
      "source": [
        "time_it(print, 1, 2, 3, sep='-')"
      ]
    },
    {
      "cell_type": "markdown",
      "metadata": {
        "id": "vpwtUunoqCEn"
      },
      "source": [
        "As you can see `1, 2, 3` was passed to the `print` function's positional parameters, and keyword-only arg `sep` was also passed to it.\n",
        "\n",
        "We can even add more arguments:"
      ]
    },
    {
      "cell_type": "code",
      "execution_count": null,
      "metadata": {
        "colab": {
          "base_uri": "https://localhost:8080/"
        },
        "id": "CYkdHm7sqBG6",
        "outputId": "7729ffd6-6548-4fb9-c33d-49e96d791103"
      },
      "outputs": [
        {
          "name": "stdout",
          "output_type": "stream",
          "text": [
            "1-2-3 *** 1-2-3 *** 1-2-3 *** "
          ]
        }
      ],
      "source": [
        "time_it(print, 1, 2, 3, sep='-', end=' *** ', rep=3)"
      ]
    },
    {
      "cell_type": "markdown",
      "metadata": {
        "id": "xsm4Njf7qa2n"
      },
      "source": [
        "Now all that's really left for us to do is to time the function and return the average time:"
      ]
    },
    {
      "cell_type": "code",
      "execution_count": null,
      "metadata": {
        "id": "eYWrJd8fqZoX"
      },
      "outputs": [],
      "source": [
        "def time_it(fn, *args, rep=5, **kwargs):\n",
        "    start = time.perf_counter()\n",
        "    for i in range(rep):\n",
        "        fn(*args, **kwargs)\n",
        "    end = time.perf_counter()\n",
        "    return (end - start) / rep"
      ]
    },
    {
      "cell_type": "markdown",
      "metadata": {
        "id": "zfXCUmN2q2by"
      },
      "source": [
        "Let's write a few functions we might want to time:\n",
        "\n",
        "We'll create three functions that all do the same thing: calculate powers of n**k for k in some range of integer values."
      ]
    },
    {
      "cell_type": "code",
      "execution_count": null,
      "metadata": {
        "id": "JJ_p3QVyqyo4"
      },
      "outputs": [],
      "source": [
        "def compute_powers_1(n, *, start=1, end):\n",
        "    # using a for loop\n",
        "    results = []\n",
        "    for i in range(start, end):\n",
        "        results.append(n**i)\n",
        "    return results"
      ]
    },
    {
      "cell_type": "code",
      "execution_count": null,
      "metadata": {
        "id": "FTCKucDgrDk1"
      },
      "outputs": [],
      "source": [
        "def compute_powers_2(n, *, start=1, end):\n",
        "    # using a list comprehension\n",
        "    return [n**i for i in range(start, end)]"
      ]
    },
    {
      "cell_type": "code",
      "execution_count": null,
      "metadata": {
        "id": "tFbnnfknrmDJ"
      },
      "outputs": [],
      "source": [
        "def compute_powers_3(n, *, start=1, end):\n",
        "    # using a generator expression\n",
        "    return (n**i for i in range(start, end))"
      ]
    },
    {
      "cell_type": "markdown",
      "metadata": {
        "id": "oJ8atJvcrxvv"
      },
      "source": [
        "Let's run these functions and see the results:"
      ]
    },
    {
      "cell_type": "code",
      "execution_count": null,
      "metadata": {
        "colab": {
          "base_uri": "https://localhost:8080/"
        },
        "id": "H33tbkccrweA",
        "outputId": "f9670bd0-c040-4d6d-cb5e-f99221836f77"
      },
      "outputs": [
        {
          "data": {
            "text/plain": [
              "[2, 4, 8, 16]"
            ]
          },
          "execution_count": 634,
          "metadata": {},
          "output_type": "execute_result"
        }
      ],
      "source": [
        "compute_powers_1(2, end=5)"
      ]
    },
    {
      "cell_type": "code",
      "execution_count": null,
      "metadata": {
        "colab": {
          "base_uri": "https://localhost:8080/"
        },
        "id": "QYxQ-wwNr2pu",
        "outputId": "6113f6d5-8037-47e7-db0f-5b9caa215335"
      },
      "outputs": [
        {
          "data": {
            "text/plain": [
              "[2, 4, 8, 16]"
            ]
          },
          "execution_count": 635,
          "metadata": {},
          "output_type": "execute_result"
        }
      ],
      "source": [
        "compute_powers_2(2, end=5)"
      ]
    },
    {
      "cell_type": "code",
      "execution_count": null,
      "metadata": {
        "colab": {
          "base_uri": "https://localhost:8080/"
        },
        "id": "MBca_j3kr7MK",
        "outputId": "7e742337-5598-4b92-ebcf-968a727c6efc"
      },
      "outputs": [
        {
          "data": {
            "text/plain": [
              "[2, 4, 8, 16]"
            ]
          },
          "execution_count": 636,
          "metadata": {},
          "output_type": "execute_result"
        }
      ],
      "source": [
        "list(compute_powers_3(2, end=5))"
      ]
    },
    {
      "cell_type": "markdown",
      "metadata": {
        "id": "EwHe8QgRsAVY"
      },
      "source": [
        "Finally let's run these functions through our time_it function and see the results:"
      ]
    },
    {
      "cell_type": "code",
      "execution_count": null,
      "metadata": {
        "colab": {
          "base_uri": "https://localhost:8080/"
        },
        "id": "yDisR0kTr-4h",
        "outputId": "83d4462e-fc83-477a-cd41-5201e1fb6530"
      },
      "outputs": [
        {
          "data": {
            "text/plain": [
              "0.540746575"
            ]
          },
          "execution_count": 637,
          "metadata": {},
          "output_type": "execute_result"
        }
      ],
      "source": [
        "time_it(compute_powers_1, n=2, end=20000, rep=4)"
      ]
    },
    {
      "cell_type": "code",
      "execution_count": null,
      "metadata": {
        "colab": {
          "base_uri": "https://localhost:8080/"
        },
        "id": "rImXdzUusKYF",
        "outputId": "8f98bb9e-e72e-4d0b-f972-b46dece112e5"
      },
      "outputs": [
        {
          "data": {
            "text/plain": [
              "0.5232385249999965"
            ]
          },
          "execution_count": 638,
          "metadata": {},
          "output_type": "execute_result"
        }
      ],
      "source": [
        "time_it(compute_powers_2, n=2, end=20000, rep=4)"
      ]
    },
    {
      "cell_type": "code",
      "execution_count": null,
      "metadata": {
        "colab": {
          "base_uri": "https://localhost:8080/"
        },
        "id": "kWQdi4xdsN7D",
        "outputId": "6c776adb-c28b-4dc6-8987-a42a653ae83c"
      },
      "outputs": [
        {
          "data": {
            "text/plain": [
              "3.3000000030369847e-06"
            ]
          },
          "execution_count": 639,
          "metadata": {},
          "output_type": "execute_result"
        }
      ],
      "source": [
        "time_it(compute_powers_3, n=2, end=20000, rep=4)"
      ]
    },
    {
      "cell_type": "markdown",
      "metadata": {
        "id": "x6LsbsDMsVEX"
      },
      "source": [
        "Although the `compute_powers_3` function appears to be much faster than the other two, it doesn't quite do the same thing!\n"
      ]
    },
    {
      "cell_type": "markdown",
      "metadata": {
        "id": "19DQRZoMsgwS"
      },
      "source": [
        "### 09 - Parameter Defaults - Beware"
      ]
    },
    {
      "cell_type": "markdown",
      "metadata": {
        "id": "IcOMgFUBsoNZ"
      },
      "source": [
        "**Default Values - Beware!**"
      ]
    },
    {
      "cell_type": "code",
      "execution_count": null,
      "metadata": {
        "id": "5vC6CPHIsQeu"
      },
      "outputs": [],
      "source": [
        "from datetime import datetime"
      ]
    },
    {
      "cell_type": "code",
      "execution_count": null,
      "metadata": {
        "colab": {
          "base_uri": "https://localhost:8080/"
        },
        "id": "Bim7gXgLstwP",
        "outputId": "a720f462-9338-42b6-d741-9798d26575cf"
      },
      "outputs": [
        {
          "name": "stdout",
          "output_type": "stream",
          "text": [
            "2022-10-25 07:32:53.183885\n"
          ]
        }
      ],
      "source": [
        "print(datetime.utcnow())"
      ]
    },
    {
      "cell_type": "code",
      "execution_count": null,
      "metadata": {
        "id": "nZBSH4ceswYy"
      },
      "outputs": [],
      "source": [
        "def log(msg, *, dt=datetime.utcnow()):\n",
        "    print('{0}: {1}'.format(dt, msg))"
      ]
    },
    {
      "cell_type": "code",
      "execution_count": null,
      "metadata": {
        "colab": {
          "base_uri": "https://localhost:8080/"
        },
        "id": "BsarcU18s4pJ",
        "outputId": "b3546c04-1aad-44bc-cc4e-df2521c3a935"
      },
      "outputs": [
        {
          "name": "stdout",
          "output_type": "stream",
          "text": [
            "2022-10-25 07:32:53.199964: message 1\n"
          ]
        }
      ],
      "source": [
        "log('message 1')"
      ]
    },
    {
      "cell_type": "code",
      "execution_count": null,
      "metadata": {
        "colab": {
          "base_uri": "https://localhost:8080/"
        },
        "id": "uJam63evs7FY",
        "outputId": "7b2d21cb-5d5b-4d15-f4f6-80c3a2d5799d"
      },
      "outputs": [
        {
          "name": "stdout",
          "output_type": "stream",
          "text": [
            "2001-01-01 00:00:00: message 2\n"
          ]
        }
      ],
      "source": [
        "log('message 2', dt='2001-01-01 00:00:00')"
      ]
    },
    {
      "cell_type": "code",
      "execution_count": null,
      "metadata": {
        "colab": {
          "base_uri": "https://localhost:8080/"
        },
        "id": "k3SHJyXGtBgV",
        "outputId": "e881405f-aa18-4b2a-aa1e-a3f8c556f740"
      },
      "outputs": [
        {
          "name": "stdout",
          "output_type": "stream",
          "text": [
            "2022-10-25 07:32:53.199964: message 3\n"
          ]
        }
      ],
      "source": [
        "log('message 3')"
      ]
    },
    {
      "cell_type": "code",
      "execution_count": null,
      "metadata": {
        "colab": {
          "base_uri": "https://localhost:8080/"
        },
        "id": "uWojt2XjtDFs",
        "outputId": "2087aef8-0be5-487d-aebf-01857f78b85d"
      },
      "outputs": [
        {
          "name": "stdout",
          "output_type": "stream",
          "text": [
            "2022-10-25 07:32:53.199964: message 4\n"
          ]
        }
      ],
      "source": [
        "log('message 4')"
      ]
    },
    {
      "cell_type": "markdown",
      "metadata": {
        "id": "sV0JBmUotFTk"
      },
      "source": [
        "As you can see, the default for ``dt` is calculated when the function is defined and is NOT re-evaluated when the function is called."
      ]
    },
    {
      "cell_type": "markdown",
      "metadata": {
        "id": "0D_-OsiStTcn"
      },
      "source": [
        "**Solution Pattern**"
      ]
    },
    {
      "cell_type": "markdown",
      "metadata": {
        "id": "1rYswROdtXsc"
      },
      "source": [
        "Here is one pattern we can use to achieve the desired result:\n",
        "\n",
        "We actually set the default to None - this makes the argument optional, and we can then test for None inside the function and default to the current time if it is None."
      ]
    },
    {
      "cell_type": "code",
      "execution_count": null,
      "metadata": {
        "id": "pfDj0WgEtXSh"
      },
      "outputs": [],
      "source": [
        "def log(msg, *, dt=None):\n",
        "    dt = dt or datetime.utcnow()\n",
        "    # above is equivalent to:\n",
        "    # if not dt:\n",
        "    #    dt = datetime.utcnow()\n",
        "    print('{0}: {1}'.format(dt, msg))"
      ]
    },
    {
      "cell_type": "code",
      "execution_count": null,
      "metadata": {
        "colab": {
          "base_uri": "https://localhost:8080/"
        },
        "id": "ud3lghJttEWL",
        "outputId": "43930fc0-6369-4afe-a2a8-2656e5746cff"
      },
      "outputs": [
        {
          "name": "stdout",
          "output_type": "stream",
          "text": [
            "2022-10-25 07:32:53.292888: message 1\n"
          ]
        }
      ],
      "source": [
        "log('message 1')"
      ]
    },
    {
      "cell_type": "code",
      "execution_count": null,
      "metadata": {
        "colab": {
          "base_uri": "https://localhost:8080/"
        },
        "id": "ZxGkW_bwt8oM",
        "outputId": "b4c68837-9d13-4ded-9276-985bf6969b22"
      },
      "outputs": [
        {
          "name": "stdout",
          "output_type": "stream",
          "text": [
            "2022-10-25 07:32:53.308919: message 2\n"
          ]
        }
      ],
      "source": [
        "log('message 2')"
      ]
    },
    {
      "cell_type": "code",
      "execution_count": null,
      "metadata": {
        "colab": {
          "base_uri": "https://localhost:8080/"
        },
        "id": "9_75Gec5t93X",
        "outputId": "1c5663a4-9f90-47ca-ceaa-d2f133a0dd45"
      },
      "outputs": [
        {
          "name": "stdout",
          "output_type": "stream",
          "text": [
            "2001-01-01 00:00:00: message 3\n"
          ]
        }
      ],
      "source": [
        "log('message 3', dt='2001-01-01 00:00:00')"
      ]
    },
    {
      "cell_type": "code",
      "execution_count": null,
      "metadata": {
        "colab": {
          "base_uri": "https://localhost:8080/"
        },
        "id": "tZquRijRuCjz",
        "outputId": "6860b561-ac4a-43b2-b13b-804e8df01903"
      },
      "outputs": [
        {
          "name": "stdout",
          "output_type": "stream",
          "text": [
            "2022-10-25 07:32:53.340516: message 4\n"
          ]
        }
      ],
      "source": [
        "log('message 4')"
      ]
    },
    {
      "cell_type": "markdown",
      "metadata": {
        "id": "SrxZ4UZOukZm"
      },
      "source": [
        "### 10 - Parameter Defaults - Beware Again"
      ]
    },
    {
      "cell_type": "markdown",
      "metadata": {
        "id": "3O6DWH0HuybL"
      },
      "source": [
        "Another gotcha with parameter defaults comes with mutable types, and is an easy trap to fall into.\n",
        "\n",
        "Again, you have to remember that function parameter defaults are evaluated once, when the function is defined (i.e. then the module is loaded, or in this Jupyter notebook, when we \"execute\" the function definition), and not every time the function is called."
      ]
    },
    {
      "cell_type": "markdown",
      "metadata": {
        "id": "uj-e1RX8veCI"
      },
      "source": [
        "Consider the following scenario.\n",
        "\n",
        "We are creating a grocery list, and we want our list to contain consistently formatted data with name, quantity and measurement unit:\n",
        "```\n",
        "bananas (2 units)\n",
        "grapes (1 bunch)\n",
        "milk (1 liter)\n",
        "python (1 medium-rare)\n",
        "```"
      ]
    },
    {
      "cell_type": "markdown",
      "metadata": {
        "id": "y_x2RsgrwE1m"
      },
      "source": [
        "To make sure the data is consistent, we want to use a function thet we can call to add the item to our list.\n",
        "\n",
        "So we'll need to provide it our current grocery list as well as the item information to be added:"
      ]
    },
    {
      "cell_type": "code",
      "execution_count": null,
      "metadata": {
        "id": "oXIDVMA2uEOP"
      },
      "outputs": [],
      "source": [
        "def add_item(name, quantity, unit, grocery_list):\n",
        "    item_fmt = \"{0} ({1} {2})\".format(name, quantity, unit)\n",
        "    grocery_list.append(item_fmt)\n",
        "    return grocery_list"
      ]
    },
    {
      "cell_type": "markdown",
      "metadata": {
        "id": "AWRhkwcWwvhF"
      },
      "source": [
        "We have two stores we want to visit, so we set up two grocery lists:"
      ]
    },
    {
      "cell_type": "code",
      "execution_count": null,
      "metadata": {
        "id": "u0kaa4QVwuzo"
      },
      "outputs": [],
      "source": [
        "store_1 = []\n",
        "store_2 = []"
      ]
    },
    {
      "cell_type": "code",
      "execution_count": null,
      "metadata": {
        "colab": {
          "base_uri": "https://localhost:8080/"
        },
        "id": "A56cKxqtw5qy",
        "outputId": "9c9bc527-a6c3-46e4-8613-fa812e0e40bb"
      },
      "outputs": [
        {
          "data": {
            "text/plain": [
              "['python (1 medium-rare)']"
            ]
          },
          "execution_count": 654,
          "metadata": {},
          "output_type": "execute_result"
        }
      ],
      "source": [
        "add_item('bananas', 2, 'units', store_1)\n",
        "add_item('grapes', 1, 'bunch', store_1)\n",
        "add_item('python', 1, 'medium-rare', store_2)"
      ]
    },
    {
      "cell_type": "code",
      "execution_count": null,
      "metadata": {
        "colab": {
          "base_uri": "https://localhost:8080/"
        },
        "id": "UMIa9QvvxHsS",
        "outputId": "00f7fe48-fc0a-406f-a3f3-5684e194bb96"
      },
      "outputs": [
        {
          "data": {
            "text/plain": [
              "['bananas (2 units)', 'grapes (1 bunch)']"
            ]
          },
          "execution_count": 655,
          "metadata": {},
          "output_type": "execute_result"
        }
      ],
      "source": [
        "store_1"
      ]
    },
    {
      "cell_type": "code",
      "execution_count": null,
      "metadata": {
        "colab": {
          "base_uri": "https://localhost:8080/"
        },
        "id": "egpNqrz4xJbn",
        "outputId": "42f6d3d9-5449-4494-aaad-ff34b7e30da2"
      },
      "outputs": [
        {
          "data": {
            "text/plain": [
              "['python (1 medium-rare)']"
            ]
          },
          "execution_count": 656,
          "metadata": {},
          "output_type": "execute_result"
        }
      ],
      "source": [
        "store_2"
      ]
    },
    {
      "cell_type": "markdown",
      "metadata": {
        "id": "rne_UZMpx-bE"
      },
      "source": [
        "Ok, working great. But let's make the function a little easier to use - if the user does not supply an existing grocery list to append the item to, let's just go ahead and default our `grocery_list` to an empty list hence starting a new shopping list:"
      ]
    },
    {
      "cell_type": "code",
      "execution_count": null,
      "metadata": {
        "id": "d9sQ6ziLxK5X"
      },
      "outputs": [],
      "source": [
        "def add_item(name, quantity, unit, grocery_list=[]):\n",
        "    item_fmt = \"{0} ({1} {2})\".format(name, quantity, unit)\n",
        "    grocery_list.append(item_fmt)\n",
        "    return grocery_list"
      ]
    },
    {
      "cell_type": "code",
      "execution_count": null,
      "metadata": {
        "colab": {
          "base_uri": "https://localhost:8080/"
        },
        "id": "S8bcvcXtywWZ",
        "outputId": "ebf006db-f0f5-45ff-d2ce-eaeddf8150d4"
      },
      "outputs": [
        {
          "data": {
            "text/plain": [
              "['banans (2 units)', 'grapes (1 bunch)']"
            ]
          },
          "execution_count": 658,
          "metadata": {},
          "output_type": "execute_result"
        }
      ],
      "source": [
        "store_1 = add_item('banans', 2, 'units')\n",
        "add_item('grapes', 1, 'bunch', store_1)"
      ]
    },
    {
      "cell_type": "code",
      "execution_count": null,
      "metadata": {
        "colab": {
          "base_uri": "https://localhost:8080/"
        },
        "id": "a1343RrFy4kZ",
        "outputId": "5bc269c1-37d0-47ef-b377-4c1d12083944"
      },
      "outputs": [
        {
          "data": {
            "text/plain": [
              "['banans (2 units)', 'grapes (1 bunch)']"
            ]
          },
          "execution_count": 659,
          "metadata": {},
          "output_type": "execute_result"
        }
      ],
      "source": [
        "store_1"
      ]
    },
    {
      "cell_type": "markdown",
      "metadata": {
        "id": "J4PZIflLzISe"
      },
      "source": [
        "OK, so that seems to be working as exprected.\n",
        "\n",
        "Let's start our second list:"
      ]
    },
    {
      "cell_type": "code",
      "execution_count": null,
      "metadata": {
        "id": "DLRGqRLxzGZY"
      },
      "outputs": [],
      "source": [
        "store_2 = add_item('milk', 1, 'gallon')"
      ]
    },
    {
      "cell_type": "code",
      "execution_count": null,
      "metadata": {
        "colab": {
          "base_uri": "https://localhost:8080/"
        },
        "id": "LAoRpnX0zPZ-",
        "outputId": "ac4d5b7a-bd26-49a0-f840-4919a99971f3"
      },
      "outputs": [
        {
          "name": "stdout",
          "output_type": "stream",
          "text": [
            "['banans (2 units)', 'grapes (1 bunch)', 'milk (1 gallon)']\n"
          ]
        }
      ],
      "source": [
        "print(store_2)"
      ]
    },
    {
      "cell_type": "markdown",
      "metadata": {
        "id": "U84MVQ60zT42"
      },
      "source": [
        "?? Whats going on= Our second list somehow contains the items that are in the first list.\n",
        "\n",
        "What happened is that the returned value in the first call we made was the default grocery list - but remember that the list was created once and for all when the function was created not called. So everytime we call the function, that is the same list being used as the default.\n",
        "\n",
        "When we started our first list, we were adding item to that default list.\n",
        "\n",
        "Wgen we started our second list, we were adding items to the same default list (since it is the same object).\n",
        "\n",
        "We can avoid this problem using the same pattern as in the previous example we had with the default date time value. We use `None` as a default value instead, and generate a new empty list (hence starting a new list) if none vas provided."
      ]
    },
    {
      "cell_type": "code",
      "execution_count": null,
      "metadata": {
        "id": "2LQIMvQ_zQ9y"
      },
      "outputs": [],
      "source": [
        "def add_item(name, quantity, unit, grocery_list=None):\n",
        "    if not grocery_list:\n",
        "        grocery_list = []\n",
        "    item_fmt =\"{0}, ({1} {2})\".format(name, quantity, unit)\n",
        "    grocery_list.append(item_fmt)\n",
        "    return grocery_list"
      ]
    },
    {
      "cell_type": "code",
      "execution_count": null,
      "metadata": {
        "colab": {
          "base_uri": "https://localhost:8080/"
        },
        "id": "Mv8qsXaA0d9I",
        "outputId": "2a8c3baf-210e-4006-cf45-beadceb80d3c"
      },
      "outputs": [
        {
          "data": {
            "text/plain": [
              "['bananas, (2 units)', 'grapes, (1 bunch)']"
            ]
          },
          "execution_count": 663,
          "metadata": {},
          "output_type": "execute_result"
        }
      ],
      "source": [
        "store_1 = add_item('bananas', 2, 'units')\n",
        "add_item('grapes', 1, 'bunch', store_1)"
      ]
    },
    {
      "cell_type": "code",
      "execution_count": null,
      "metadata": {
        "colab": {
          "base_uri": "https://localhost:8080/"
        },
        "id": "EbLBL2P-0gBj",
        "outputId": "3c648980-91c9-418b-d727-791f9c16da9d"
      },
      "outputs": [
        {
          "data": {
            "text/plain": [
              "['milk, (1 gallon)']"
            ]
          },
          "execution_count": 664,
          "metadata": {},
          "output_type": "execute_result"
        }
      ],
      "source": [
        "store_2 = add_item('milk', 1, 'gallon')\n",
        "store_2"
      ]
    },
    {
      "cell_type": "markdown",
      "metadata": {
        "id": "3Hf0-93E0lhW"
      },
      "source": [
        "Issue resolved!\n",
        "However, there are legitimate use cases (well, almost legitimate, often we're better off using a different approach that we'll see when we look at closures), but here's asimple one.\n",
        "\n",
        "We want our function to cache results, so that we don't recalculate something more that once.\n",
        "\n",
        "Let's say we have a factorial function, that can be defined recursively as:\n",
        "`n! = n * (n-1)!`"
      ]
    },
    {
      "cell_type": "code",
      "execution_count": null,
      "metadata": {
        "id": "FE4mIwsz0hbN"
      },
      "outputs": [],
      "source": [
        "def factorial(n):\n",
        "    if n < 1:\n",
        "        return 1\n",
        "    else:\n",
        "        print('calculating {0}!'.format(n))\n",
        "        return n * factorial(n-1)"
      ]
    },
    {
      "cell_type": "code",
      "execution_count": null,
      "metadata": {
        "colab": {
          "base_uri": "https://localhost:8080/"
        },
        "id": "EnbwzPvf1UoE",
        "outputId": "8dc7d809-53f3-47be-ddc7-8412dac1db7b"
      },
      "outputs": [
        {
          "name": "stdout",
          "output_type": "stream",
          "text": [
            "calculating 3!\n",
            "calculating 2!\n",
            "calculating 1!\n"
          ]
        },
        {
          "data": {
            "text/plain": [
              "6"
            ]
          },
          "execution_count": 666,
          "metadata": {},
          "output_type": "execute_result"
        }
      ],
      "source": [
        "factorial(3)"
      ]
    },
    {
      "cell_type": "code",
      "execution_count": null,
      "metadata": {
        "colab": {
          "base_uri": "https://localhost:8080/"
        },
        "id": "D_rn3NFB1V7q",
        "outputId": "581dd195-aa1f-4cdb-fbec-d0c16bc3272d"
      },
      "outputs": [
        {
          "name": "stdout",
          "output_type": "stream",
          "text": [
            "calculating 3!\n",
            "calculating 2!\n",
            "calculating 1!\n"
          ]
        },
        {
          "data": {
            "text/plain": [
              "6"
            ]
          },
          "execution_count": 667,
          "metadata": {},
          "output_type": "execute_result"
        }
      ],
      "source": [
        "factorial(3)"
      ]
    },
    {
      "cell_type": "markdown",
      "metadata": {
        "id": "L2Tnz3Zo1ZTn"
      },
      "source": [
        "As you can see we had to recalculate all those factorials the second time around.\n",
        "\n",
        "Let's cache the results leveraging what we saw in the previous example:"
      ]
    },
    {
      "cell_type": "code",
      "execution_count": null,
      "metadata": {
        "id": "E7FujQnK1YLn"
      },
      "outputs": [],
      "source": [
        "def factorial(n, cache={}):\n",
        "    if n < 1:\n",
        "        return 1\n",
        "    elif n in cache:\n",
        "        return cache[n]\n",
        "    else:\n",
        "        print('calculating {0}'.format(n))\n",
        "        result = n * factorial(n-1)\n",
        "        cache[n] = result\n",
        "        return result"
      ]
    },
    {
      "cell_type": "code",
      "execution_count": null,
      "metadata": {
        "colab": {
          "base_uri": "https://localhost:8080/"
        },
        "id": "1cNJeRdC17yY",
        "outputId": "a268c039-334b-41e2-b9d1-0614dc29f1c1"
      },
      "outputs": [
        {
          "name": "stdout",
          "output_type": "stream",
          "text": [
            "calculating 3\n",
            "calculating 2\n",
            "calculating 1\n"
          ]
        },
        {
          "data": {
            "text/plain": [
              "6"
            ]
          },
          "execution_count": 669,
          "metadata": {},
          "output_type": "execute_result"
        }
      ],
      "source": [
        "factorial(3)"
      ]
    },
    {
      "cell_type": "code",
      "execution_count": null,
      "metadata": {
        "colab": {
          "base_uri": "https://localhost:8080/"
        },
        "id": "helrAGjh2Cn7",
        "outputId": "68233759-962f-491c-b05d-e91b7463829d"
      },
      "outputs": [
        {
          "data": {
            "text/plain": [
              "6"
            ]
          },
          "execution_count": 670,
          "metadata": {},
          "output_type": "execute_result"
        }
      ],
      "source": [
        "factorial(3)"
      ]
    },
    {
      "cell_type": "markdown",
      "metadata": {
        "id": "a3ojEz2o2E6z"
      },
      "source": [
        "Now as you can see, the second time around we did not have to recalculate all the factorials. In fact, to calculate higher factorials, you'll notice that we don't need to re-run all the recursive calls:"
      ]
    },
    {
      "cell_type": "code",
      "execution_count": null,
      "metadata": {
        "colab": {
          "base_uri": "https://localhost:8080/"
        },
        "id": "x2b1-Mm_2Dvb",
        "outputId": "e5807fd0-eb93-4a68-fc44-39f9cf99b455"
      },
      "outputs": [
        {
          "name": "stdout",
          "output_type": "stream",
          "text": [
            "calculating 5\n",
            "calculating 4\n"
          ]
        },
        {
          "data": {
            "text/plain": [
              "120"
            ]
          },
          "execution_count": 671,
          "metadata": {},
          "output_type": "execute_result"
        }
      ],
      "source": [
        "factorial(5)"
      ]
    },
    {
      "cell_type": "markdown",
      "metadata": {
        "id": "y11jM9VW2aIp"
      },
      "source": [
        "`5!` and `4!` was calculated since they weren't cached, but since `3!` was already cached we didn't have to recalculate it - it was a quick lookup instead.\n",
        "\n",
        "This technique is something called memoization, and we'll come back to it in much more detail when we discuss closures and decorators."
      ]
    },
    {
      "cell_type": "markdown",
      "metadata": {
        "id": "YG5ByEfk3NET"
      },
      "source": [
        "## Section 06 - First-Class Functions"
      ]
    },
    {
      "cell_type": "markdown",
      "metadata": {
        "id": "mIxVihCb3TNa"
      },
      "source": [
        "### 01 - Docstrings and Annotations"
      ]
    },
    {
      "cell_type": "markdown",
      "metadata": {
        "id": "z28w76a_3a9k"
      },
      "source": [
        "**Docstrings**"
      ]
    },
    {
      "cell_type": "markdown",
      "metadata": {
        "id": "YCOeoyt4rbao"
      },
      "source": [
        "When we call `help()` on a class, function, module, etc. Python will typically display some information:"
      ]
    },
    {
      "cell_type": "code",
      "execution_count": null,
      "metadata": {
        "colab": {
          "base_uri": "https://localhost:8080/"
        },
        "id": "CLfhbkWE2VSt",
        "outputId": "e56f1dda-d470-45be-b372-5418becb475e"
      },
      "outputs": [
        {
          "name": "stdout",
          "output_type": "stream",
          "text": [
            "Help on built-in function print in module builtins:\n",
            "\n",
            "print(...)\n",
            "    print(value, ..., sep=' ', end='\\n', file=sys.stdout, flush=False)\n",
            "    \n",
            "    Prints the values to a stream, or to sys.stdout by default.\n",
            "    Optional keyword arguments:\n",
            "    file:  a file-like object (stream); defaults to the current sys.stdout.\n",
            "    sep:   string inserted between values, default a space.\n",
            "    end:   string appended after the last value, default a newline.\n",
            "    flush: whether to forcibly flush the stream.\n",
            "\n"
          ]
        }
      ],
      "source": [
        "help(print)"
      ]
    },
    {
      "cell_type": "markdown",
      "metadata": {
        "id": "IljRySuwtoD0"
      },
      "source": [
        "We can define such help using docstrings and annotations."
      ]
    },
    {
      "cell_type": "code",
      "execution_count": null,
      "metadata": {
        "id": "m3aVA96fro7u"
      },
      "outputs": [],
      "source": [
        "def my_func(a, b):\n",
        "    return a*b"
      ]
    },
    {
      "cell_type": "code",
      "execution_count": null,
      "metadata": {
        "colab": {
          "base_uri": "https://localhost:8080/"
        },
        "id": "6c3KVLtKtujn",
        "outputId": "b5f93511-259f-4ed5-fc07-4e92d981d6ae"
      },
      "outputs": [
        {
          "name": "stdout",
          "output_type": "stream",
          "text": [
            "Help on function my_func in module __main__:\n",
            "\n",
            "my_func(a, b)\n",
            "\n"
          ]
        }
      ],
      "source": [
        "help(my_func)"
      ]
    },
    {
      "cell_type": "markdown",
      "metadata": {
        "id": "1ZVxYtDPtydt"
      },
      "source": [
        "Pretty bare! So let's add some additional help:"
      ]
    },
    {
      "cell_type": "code",
      "execution_count": null,
      "metadata": {
        "id": "7qt1cHyDtv59"
      },
      "outputs": [],
      "source": [
        "def my_func(a, b):\n",
        "    'Returns the product of a and b'\n",
        "    return a*b"
      ]
    },
    {
      "cell_type": "code",
      "execution_count": null,
      "metadata": {
        "colab": {
          "base_uri": "https://localhost:8080/"
        },
        "id": "EGonyS33t9mj",
        "outputId": "45e0c270-11b8-4d2f-a866-59329f91658e"
      },
      "outputs": [
        {
          "name": "stdout",
          "output_type": "stream",
          "text": [
            "Help on function my_func in module __main__:\n",
            "\n",
            "my_func(a, b)\n",
            "    Returns the product of a and b\n",
            "\n"
          ]
        }
      ],
      "source": [
        "help(my_func)"
      ]
    },
    {
      "cell_type": "markdown",
      "metadata": {
        "id": "6Lpn016ouAPo"
      },
      "source": [
        "Doctstrings can span multiple lines using a multi-line string literal:"
      ]
    },
    {
      "cell_type": "code",
      "execution_count": null,
      "metadata": {
        "id": "zrJKyK_Ot-tq"
      },
      "outputs": [],
      "source": [
        "def fact(n):\n",
        "    '''Calculate n! (factorial function)\n",
        "\n",
        "    Inputs:\n",
        "        n: non-negative integer\n",
        "    Returns:\n",
        "        the factorial of n\n",
        "    '''\n",
        "\n",
        "    if n < 0:\n",
        "        '''Note that this is not part of the docstring!'''\n",
        "        return 1\n",
        "    else:\n",
        "        return n * fact(n-1)"
      ]
    },
    {
      "cell_type": "code",
      "execution_count": null,
      "metadata": {
        "colab": {
          "base_uri": "https://localhost:8080/"
        },
        "id": "F2GfTZ1mub3i",
        "outputId": "14075e4e-e652-4ef2-eb9b-0e07e114fe89"
      },
      "outputs": [
        {
          "name": "stdout",
          "output_type": "stream",
          "text": [
            "Help on function fact in module __main__:\n",
            "\n",
            "fact(n)\n",
            "    Calculate n! (factorial function)\n",
            "    \n",
            "    Inputs:\n",
            "        n: non-negative integer\n",
            "    Returns:\n",
            "        the factorial of n\n",
            "\n"
          ]
        }
      ],
      "source": [
        "help(fact)"
      ]
    },
    {
      "cell_type": "markdown",
      "metadata": {
        "id": "5uaXI2emue7W"
      },
      "source": [
        "Docstrings, when found, are simply attached to the function in the `__doc__` property:"
      ]
    },
    {
      "cell_type": "code",
      "execution_count": null,
      "metadata": {
        "colab": {
          "base_uri": "https://localhost:8080/",
          "height": 35
        },
        "id": "86wfK1k-udsj",
        "outputId": "8a37c1f6-77e0-4dff-d3a4-32617e67fcaf"
      },
      "outputs": [
        {
          "data": {
            "text/plain": [
              "'Calculate n! (factorial function)\\n\\n    Inputs:\\n        n: non-negative integer\\n    Returns:\\n        the factorial of n\\n    '"
            ]
          },
          "execution_count": 679,
          "metadata": {},
          "output_type": "execute_result"
        }
      ],
      "source": [
        "fact.__doc__"
      ]
    },
    {
      "cell_type": "markdown",
      "metadata": {
        "id": "d7mAW6ZEuoca"
      },
      "source": [
        "And the Python `help()` function simply returns the contents of `__doc__`"
      ]
    },
    {
      "cell_type": "markdown",
      "metadata": {
        "id": "rggN-loFuub6"
      },
      "source": [
        "**Annotations**"
      ]
    },
    {
      "cell_type": "markdown",
      "metadata": {
        "id": "JAx7ssqXuwax"
      },
      "source": [
        "We can also add metadata annotations to a function's parameters and return. The metadata annotations can be any expression (string, type, function call, etc)"
      ]
    },
    {
      "cell_type": "code",
      "execution_count": null,
      "metadata": {
        "id": "CbdNV_PHunPT"
      },
      "outputs": [],
      "source": [
        "def my_func(a: 'annotation for a',\n",
        "            b: 'annotation for b')->'annotation for return':\n",
        "            return a*b"
      ]
    },
    {
      "cell_type": "code",
      "execution_count": null,
      "metadata": {
        "colab": {
          "base_uri": "https://localhost:8080/"
        },
        "id": "GcUIR2OXvpJo",
        "outputId": "a16215fd-9c1b-40e0-f20e-70ffb2ee464f"
      },
      "outputs": [
        {
          "name": "stdout",
          "output_type": "stream",
          "text": [
            "Help on function my_func in module __main__:\n",
            "\n",
            "my_func(a: 'annotation for a', b: 'annotation for b') -> 'annotation for return'\n",
            "\n"
          ]
        }
      ],
      "source": [
        "help(my_func)"
      ]
    },
    {
      "cell_type": "markdown",
      "metadata": {
        "id": "NHyg26Yfv0Rk"
      },
      "source": [
        "The annotations can be any expression not just strings:"
      ]
    },
    {
      "cell_type": "code",
      "execution_count": null,
      "metadata": {
        "id": "b19UtD5fvq5j"
      },
      "outputs": [],
      "source": [
        "x = 3\n",
        "y = 5\n",
        "def my_func(a: str) -> 'a repeated ' + str(max(3, 5)) + ' times':\n",
        "    return a*max(x, y)"
      ]
    },
    {
      "cell_type": "code",
      "execution_count": null,
      "metadata": {
        "colab": {
          "base_uri": "https://localhost:8080/"
        },
        "id": "vx75nfoLwCzT",
        "outputId": "005e37d2-8392-472a-ad95-2ed294953d3b"
      },
      "outputs": [
        {
          "name": "stdout",
          "output_type": "stream",
          "text": [
            "Help on function my_func in module __main__:\n",
            "\n",
            "my_func(a: str) -> 'a repeated 5 times'\n",
            "\n"
          ]
        }
      ],
      "source": [
        "help(my_func)"
      ]
    },
    {
      "cell_type": "markdown",
      "metadata": {
        "id": "72POminywGHU"
      },
      "source": [
        "\n",
        "\n",
        "---\n",
        "\n",
        "**BE CAREFUL!**"
      ]
    },
    {
      "cell_type": "markdown",
      "metadata": {
        "id": "ZtLTUR7awLNa"
      },
      "source": [
        "**Note that these annotations do not force a type on the parameters or the return value - the are simply there for documentation purposes within Python and may be used by external applications and modules, such as IDE's.**\n"
      ]
    },
    {
      "cell_type": "markdown",
      "metadata": {
        "id": "KjgU3fmmwoEV"
      },
      "source": [
        "\n",
        "\n",
        "---\n",
        "\n"
      ]
    },
    {
      "cell_type": "markdown",
      "metadata": {
        "id": "RuriEbb1wrAJ"
      },
      "source": [
        "Just like docstrings are stored in the `__doc__` property, annotations are stored in the `__annotations__` property - a dictionary whose keys are the parameter names, and values are the annotation."
      ]
    },
    {
      "cell_type": "code",
      "execution_count": null,
      "metadata": {
        "colab": {
          "base_uri": "https://localhost:8080/"
        },
        "id": "IDq_54eMwEcL",
        "outputId": "9f7f3e43-63f8-4ceb-afcc-f23a8a1fc8dd"
      },
      "outputs": [
        {
          "data": {
            "text/plain": [
              "{'a': str, 'return': 'a repeated 5 times'}"
            ]
          },
          "execution_count": 684,
          "metadata": {},
          "output_type": "execute_result"
        }
      ],
      "source": [
        "my_func.__annotations__"
      ]
    },
    {
      "cell_type": "markdown",
      "metadata": {
        "id": "jXxt6BJIw-Eo"
      },
      "source": [
        "Of course we can combine both docstrings and annotations:"
      ]
    },
    {
      "cell_type": "code",
      "execution_count": null,
      "metadata": {
        "id": "Im_yq4I5w9By"
      },
      "outputs": [],
      "source": [
        "def fact(n: 'int >= 0') ->int:\n",
        "    '''Calculate n! (factorial function)\n",
        "\n",
        "    Inputs:\n",
        "        n: non-negative integer\n",
        "    Returns:\n",
        "        the factorial of n\n",
        "    '''\n",
        "\n",
        "    if n < 0:\n",
        "        '''Note that this is not part of the docstring!'''\n",
        "        return 1\n",
        "    else:\n",
        "        return n * fact(n-1)"
      ]
    },
    {
      "cell_type": "code",
      "execution_count": null,
      "metadata": {
        "colab": {
          "base_uri": "https://localhost:8080/"
        },
        "id": "VGFbYZ_dxNdz",
        "outputId": "57b0235b-753f-418d-e8df-33108515494f"
      },
      "outputs": [
        {
          "name": "stdout",
          "output_type": "stream",
          "text": [
            "Help on function fact in module __main__:\n",
            "\n",
            "fact(n: 'int >= 0') -> int\n",
            "    Calculate n! (factorial function)\n",
            "    \n",
            "    Inputs:\n",
            "        n: non-negative integer\n",
            "    Returns:\n",
            "        the factorial of n\n",
            "\n"
          ]
        }
      ],
      "source": [
        "help(fact)"
      ]
    },
    {
      "cell_type": "markdown",
      "metadata": {
        "id": "cpxW0n3rxRa8"
      },
      "source": [
        "Annotations will work with default parameters too: just specify the default after the annotation:"
      ]
    },
    {
      "cell_type": "code",
      "execution_count": null,
      "metadata": {
        "id": "3QizVm07xPYE"
      },
      "outputs": [],
      "source": [
        "def my_func(a:str='a', b:int=1)->str:\n",
        "    return a*b"
      ]
    },
    {
      "cell_type": "code",
      "execution_count": null,
      "metadata": {
        "colab": {
          "base_uri": "https://localhost:8080/"
        },
        "id": "dA4ifB_PxezN",
        "outputId": "ba204827-12e1-45f1-ad6d-b4b566915e74"
      },
      "outputs": [
        {
          "name": "stdout",
          "output_type": "stream",
          "text": [
            "Help on function my_func in module __main__:\n",
            "\n",
            "my_func(a: str = 'a', b: int = 1) -> str\n",
            "\n"
          ]
        }
      ],
      "source": [
        "help(my_func)"
      ]
    },
    {
      "cell_type": "code",
      "execution_count": null,
      "metadata": {
        "colab": {
          "base_uri": "https://localhost:8080/",
          "height": 35
        },
        "id": "5KWwn29dxf_-",
        "outputId": "2c362c3f-4977-4168-e1aa-7e7e26c796df"
      },
      "outputs": [
        {
          "data": {
            "text/plain": [
              "'a'"
            ]
          },
          "execution_count": 689,
          "metadata": {},
          "output_type": "execute_result"
        }
      ],
      "source": [
        "my_func()"
      ]
    },
    {
      "cell_type": "code",
      "execution_count": null,
      "metadata": {
        "colab": {
          "base_uri": "https://localhost:8080/",
          "height": 35
        },
        "id": "Xry8pfkixjXF",
        "outputId": "c4bfcbab-fb11-41a3-c23b-e0b17acc8a4d"
      },
      "outputs": [
        {
          "data": {
            "text/plain": [
              "'abcabcabc'"
            ]
          },
          "execution_count": 690,
          "metadata": {},
          "output_type": "execute_result"
        }
      ],
      "source": [
        "my_func('abc', 3)"
      ]
    },
    {
      "cell_type": "code",
      "execution_count": null,
      "metadata": {
        "id": "6X9QjQ36xmuq"
      },
      "outputs": [],
      "source": [
        "def my_func(a:int=0, *args:'additional args'):\n",
        "    print(a, args)"
      ]
    },
    {
      "cell_type": "code",
      "execution_count": null,
      "metadata": {
        "colab": {
          "base_uri": "https://localhost:8080/"
        },
        "id": "Iq0Nyqftx1cf",
        "outputId": "74065352-e090-4cdd-dc53-a7237ddec503"
      },
      "outputs": [
        {
          "data": {
            "text/plain": [
              "{'a': int, 'args': 'additional args'}"
            ]
          },
          "execution_count": 692,
          "metadata": {},
          "output_type": "execute_result"
        }
      ],
      "source": [
        "my_func.__annotations__"
      ]
    },
    {
      "cell_type": "code",
      "execution_count": null,
      "metadata": {
        "colab": {
          "base_uri": "https://localhost:8080/"
        },
        "id": "rqAH6NdMx3Qh",
        "outputId": "d6bb585d-54e5-4ba4-8cd1-f8103d7ad567"
      },
      "outputs": [
        {
          "name": "stdout",
          "output_type": "stream",
          "text": [
            "Help on function my_func in module __main__:\n",
            "\n",
            "my_func(a: int = 0, *args: 'additional args')\n",
            "\n"
          ]
        }
      ],
      "source": [
        "help(my_func)"
      ]
    },
    {
      "cell_type": "markdown",
      "metadata": {
        "id": "H9ffjcf8yvNx"
      },
      "source": [
        "### 02 - Lambda Expressions"
      ]
    },
    {
      "cell_type": "code",
      "execution_count": null,
      "metadata": {
        "colab": {
          "base_uri": "https://localhost:8080/"
        },
        "id": "M4ae2_5MyHm1",
        "outputId": "6c6d94e9-d5ee-4903-d879-109faf54067f"
      },
      "outputs": [
        {
          "data": {
            "text/plain": [
              "<function __main__.<lambda>(x)>"
            ]
          },
          "execution_count": 694,
          "metadata": {},
          "output_type": "execute_result"
        }
      ],
      "source": [
        "lambda x: x**2"
      ]
    },
    {
      "cell_type": "markdown",
      "metadata": {
        "id": "iQFgAeijy_yf"
      },
      "source": [
        "As you can see, the above expression expression just created a function."
      ]
    },
    {
      "cell_type": "markdown",
      "metadata": {
        "id": "yisNjVQ6zMEi"
      },
      "source": [
        "**Assigning to a Variable**"
      ]
    },
    {
      "cell_type": "code",
      "execution_count": null,
      "metadata": {
        "id": "NdCAvTkGy-n3"
      },
      "outputs": [],
      "source": [
        "func = lambda x: x**2"
      ]
    },
    {
      "cell_type": "code",
      "execution_count": null,
      "metadata": {
        "colab": {
          "base_uri": "https://localhost:8080/"
        },
        "id": "qbDcBCTHzRJ1",
        "outputId": "de30d184-1104-43af-c428-7e0c6b0fb428"
      },
      "outputs": [
        {
          "data": {
            "text/plain": [
              "function"
            ]
          },
          "execution_count": 696,
          "metadata": {},
          "output_type": "execute_result"
        }
      ],
      "source": [
        "type(func)"
      ]
    },
    {
      "cell_type": "code",
      "execution_count": null,
      "metadata": {
        "colab": {
          "base_uri": "https://localhost:8080/"
        },
        "id": "W_JHA3o4zSEc",
        "outputId": "6005ee15-73dd-414c-de92-dba5686d70a7"
      },
      "outputs": [
        {
          "data": {
            "text/plain": [
              "9"
            ]
          },
          "execution_count": 697,
          "metadata": {},
          "output_type": "execute_result"
        }
      ],
      "source": [
        "func(3)"
      ]
    },
    {
      "cell_type": "markdown",
      "metadata": {
        "id": "a_JAE9uBzT90"
      },
      "source": [
        "We can specify arguments for lambdas just like we would for any function created using `def`, except for annotations:"
      ]
    },
    {
      "cell_type": "code",
      "execution_count": null,
      "metadata": {
        "id": "V4fnp_qCzSzg"
      },
      "outputs": [],
      "source": [
        "func_1 = lambda x, y=10: (x, y)"
      ]
    },
    {
      "cell_type": "code",
      "execution_count": null,
      "metadata": {
        "colab": {
          "base_uri": "https://localhost:8080/"
        },
        "id": "Ue2MLU8R1Spq",
        "outputId": "a061f9fe-dbba-448e-b0ab-04e5b64ebb4b"
      },
      "outputs": [
        {
          "data": {
            "text/plain": [
              "(1, 2)"
            ]
          },
          "execution_count": 699,
          "metadata": {},
          "output_type": "execute_result"
        }
      ],
      "source": [
        "func_1(1, 2)"
      ]
    },
    {
      "cell_type": "code",
      "execution_count": null,
      "metadata": {
        "colab": {
          "base_uri": "https://localhost:8080/"
        },
        "id": "lzDewavo1Uh-",
        "outputId": "2c79bf48-8da6-41a5-fa74-4d87fda79afc"
      },
      "outputs": [
        {
          "data": {
            "text/plain": [
              "(1, 10)"
            ]
          },
          "execution_count": 700,
          "metadata": {},
          "output_type": "execute_result"
        }
      ],
      "source": [
        "func_1(1)"
      ]
    },
    {
      "cell_type": "markdown",
      "metadata": {
        "id": "f5gc_BPT1YwN"
      },
      "source": [
        "We can even use `*` and `**`:"
      ]
    },
    {
      "cell_type": "code",
      "execution_count": null,
      "metadata": {
        "id": "ki7-ROv11W__"
      },
      "outputs": [],
      "source": [
        "func_2 = lambda x, *args, y, **kwargs: (x, *args, y, {**kwargs})"
      ]
    },
    {
      "cell_type": "code",
      "execution_count": null,
      "metadata": {
        "colab": {
          "base_uri": "https://localhost:8080/"
        },
        "id": "DwyFDXSd18QW",
        "outputId": "a68933d9-df48-4c97-f72c-df50bcb74dad"
      },
      "outputs": [
        {
          "data": {
            "text/plain": [
              "(1, 'a', 'b', 100, {'a': 10, 'b': 20})"
            ]
          },
          "execution_count": 702,
          "metadata": {},
          "output_type": "execute_result"
        }
      ],
      "source": [
        "func_2(1, 'a', 'b', y=100, a=10, b=20)"
      ]
    },
    {
      "cell_type": "markdown",
      "metadata": {
        "id": "vet9GhA62Ca5"
      },
      "source": [
        "**Passing as an Argument**"
      ]
    },
    {
      "cell_type": "markdown",
      "metadata": {
        "id": "_0uAyIq12E3F"
      },
      "source": [
        "Lambdas are functions, and can therefore be passed to any other function as an argument (or returned from another function)"
      ]
    },
    {
      "cell_type": "code",
      "execution_count": null,
      "metadata": {
        "id": "lnrJ4HG52BRZ"
      },
      "outputs": [],
      "source": [
        "def apply_func(x, fn):\n",
        "    return fn(x)"
      ]
    },
    {
      "cell_type": "code",
      "execution_count": null,
      "metadata": {
        "colab": {
          "base_uri": "https://localhost:8080/"
        },
        "id": "BlDnFkZS2UDM",
        "outputId": "a136ace0-4912-4523-8698-ec60da656c6a"
      },
      "outputs": [
        {
          "data": {
            "text/plain": [
              "9"
            ]
          },
          "execution_count": 704,
          "metadata": {},
          "output_type": "execute_result"
        }
      ],
      "source": [
        "apply_func(3, lambda x: x**2)"
      ]
    },
    {
      "cell_type": "code",
      "execution_count": null,
      "metadata": {
        "colab": {
          "base_uri": "https://localhost:8080/"
        },
        "id": "0-BVStwz2YDD",
        "outputId": "4e4307ab-ea3e-4eec-f4e3-c510482fdad4"
      },
      "outputs": [
        {
          "data": {
            "text/plain": [
              "27"
            ]
          },
          "execution_count": 705,
          "metadata": {},
          "output_type": "execute_result"
        }
      ],
      "source": [
        "apply_func(3, lambda x: x**3)"
      ]
    },
    {
      "cell_type": "markdown",
      "metadata": {
        "id": "hNkfDfsE2rqo"
      },
      "source": [
        "Of course we can make this even more generic:"
      ]
    },
    {
      "cell_type": "code",
      "execution_count": null,
      "metadata": {
        "id": "sm82PkbD2qBS"
      },
      "outputs": [],
      "source": [
        "def apply_func(fn, *args, **kwargs):\n",
        "    return fn(*args, **kwargs)"
      ]
    },
    {
      "cell_type": "code",
      "execution_count": null,
      "metadata": {
        "colab": {
          "base_uri": "https://localhost:8080/"
        },
        "id": "J5is40R220AM",
        "outputId": "894a70ae-a8ea-4290-ffbf-529a8e103089"
      },
      "outputs": [
        {
          "data": {
            "text/plain": [
              "3"
            ]
          },
          "execution_count": 707,
          "metadata": {},
          "output_type": "execute_result"
        }
      ],
      "source": [
        "apply_func(lambda x, y: x+y, 1, y=2)"
      ]
    },
    {
      "cell_type": "code",
      "execution_count": null,
      "metadata": {
        "colab": {
          "base_uri": "https://localhost:8080/"
        },
        "id": "OsP9HQIH25HV",
        "outputId": "3e30a5c2-824a-4383-b1c0-559d5a6b9529"
      },
      "outputs": [
        {
          "data": {
            "text/plain": [
              "3"
            ]
          },
          "execution_count": 708,
          "metadata": {},
          "output_type": "execute_result"
        }
      ],
      "source": [
        "apply_func(lambda x, *, y: x+y, 1, y=2)"
      ]
    },
    {
      "cell_type": "code",
      "execution_count": null,
      "metadata": {
        "colab": {
          "base_uri": "https://localhost:8080/"
        },
        "id": "0RV0zC7r3AD7",
        "outputId": "536aa451-1836-46fe-8062-720dc679fd2a"
      },
      "outputs": [
        {
          "data": {
            "text/plain": [
              "15"
            ]
          },
          "execution_count": 709,
          "metadata": {},
          "output_type": "execute_result"
        }
      ],
      "source": [
        "apply_func(lambda *args: sum(args), 1, 2, 3, 4,5)"
      ]
    },
    {
      "cell_type": "markdown",
      "metadata": {
        "id": "DbEaBln03Jx9"
      },
      "source": [
        "Of course, we don't have to use lambdas when calling `apply_func`, we can also pass in a function defined using a `def` statement:"
      ]
    },
    {
      "cell_type": "code",
      "execution_count": null,
      "metadata": {
        "id": "J4h8RMjJ3IYh"
      },
      "outputs": [],
      "source": [
        "def multiply(x, y):\n",
        "    return x * y"
      ]
    },
    {
      "cell_type": "code",
      "execution_count": null,
      "metadata": {
        "colab": {
          "base_uri": "https://localhost:8080/",
          "height": 35
        },
        "id": "M3SSc1Mv3XIh",
        "outputId": "a65cd8a4-4124-4026-8403-9f5db34e201e"
      },
      "outputs": [
        {
          "data": {
            "text/plain": [
              "'aaaaa'"
            ]
          },
          "execution_count": 711,
          "metadata": {},
          "output_type": "execute_result"
        }
      ],
      "source": [
        "apply_func(multiply, 'a', 5)"
      ]
    },
    {
      "cell_type": "code",
      "execution_count": null,
      "metadata": {
        "colab": {
          "base_uri": "https://localhost:8080/",
          "height": 35
        },
        "id": "_Z2XsyhW3ZlX",
        "outputId": "7bcec0c7-d2f3-459a-a795-aa0cedc083f4"
      },
      "outputs": [
        {
          "data": {
            "text/plain": [
              "'aaaaa'"
            ]
          },
          "execution_count": 712,
          "metadata": {},
          "output_type": "execute_result"
        }
      ],
      "source": [
        "apply_func(lambda x, y: x*y, 'a', 5)"
      ]
    },
    {
      "cell_type": "markdown",
      "metadata": {
        "id": "UdALPcjL3jnQ"
      },
      "source": [
        "### 03 - Lambdas and Sorting"
      ]
    },
    {
      "cell_type": "markdown",
      "metadata": {
        "id": "A3VJ-JDR3ncq"
      },
      "source": [
        "Python has a built-in `sorted` method that can be used to sort any iterable. It will be use the default ordering of the particular items, but sometimes you may want to (or need to) specify a different criteria for sorting.\n",
        "\n",
        "Let's start wit a simple list:"
      ]
    },
    {
      "cell_type": "code",
      "execution_count": null,
      "metadata": {
        "id": "B0h6XN0C3fCk"
      },
      "outputs": [],
      "source": [
        "l = ['a', 'B', 'c', 'D']"
      ]
    },
    {
      "cell_type": "code",
      "execution_count": null,
      "metadata": {
        "colab": {
          "base_uri": "https://localhost:8080/"
        },
        "id": "Wb4AIHJ-4J5V",
        "outputId": "aa7d63fa-ffe9-4422-92e1-175910bc9550"
      },
      "outputs": [
        {
          "data": {
            "text/plain": [
              "['B', 'D', 'a', 'c']"
            ]
          },
          "execution_count": 714,
          "metadata": {},
          "output_type": "execute_result"
        }
      ],
      "source": [
        "sorted(l)"
      ]
    },
    {
      "cell_type": "markdown",
      "metadata": {
        "id": "oJmVcBzB4WGo"
      },
      "source": [
        "As you can see there is a difference between upper and lower-case characters when sorting strings.\n",
        "\n",
        "What if we wanted to make a cese-insensitive sort?\n",
        "\n",
        "Python's `sorted` function has a keyword-only argument that allows us to modify the values that are used to sort the list."
      ]
    },
    {
      "cell_type": "code",
      "execution_count": null,
      "metadata": {
        "colab": {
          "base_uri": "https://localhost:8080/"
        },
        "id": "w1i2tm1E4K9C",
        "outputId": "92882959-8276-4308-8c95-97dd25a54e43"
      },
      "outputs": [
        {
          "data": {
            "text/plain": [
              "['a', 'B', 'c', 'D']"
            ]
          },
          "execution_count": 715,
          "metadata": {},
          "output_type": "execute_result"
        }
      ],
      "source": [
        "sorted(l, key=str.upper)"
      ]
    },
    {
      "cell_type": "markdown",
      "metadata": {
        "id": "ENmW3THz5I_R"
      },
      "source": [
        "We could habe used a lambda here (but you should not, this is just to illustrate using a lambda in this case):"
      ]
    },
    {
      "cell_type": "code",
      "execution_count": null,
      "metadata": {
        "colab": {
          "base_uri": "https://localhost:8080/"
        },
        "id": "pCtt66vN443_",
        "outputId": "2ee34df6-3d74-46d8-97aa-479e9c21feff"
      },
      "outputs": [
        {
          "data": {
            "text/plain": [
              "['a', 'B', 'c', 'D']"
            ]
          },
          "execution_count": 716,
          "metadata": {},
          "output_type": "execute_result"
        }
      ],
      "source": [
        "sorted(l, key = lambda s: s.upper())"
      ]
    },
    {
      "cell_type": "markdown",
      "metadata": {
        "id": "Vm2gV65w5Zug"
      },
      "source": [
        "Let's look at how we might create a sorted list from a dictionary:"
      ]
    },
    {
      "cell_type": "code",
      "execution_count": null,
      "metadata": {
        "id": "-xRgkkKL5Ukc"
      },
      "outputs": [],
      "source": [
        "d = {'def': 300, 'abc': 200, 'ghi': 100}"
      ]
    },
    {
      "cell_type": "code",
      "execution_count": null,
      "metadata": {
        "colab": {
          "base_uri": "https://localhost:8080/"
        },
        "id": "6a-jvIgP5i6K",
        "outputId": "8d2b75f2-57d9-4d68-c1c1-020ef2717a51"
      },
      "outputs": [
        {
          "data": {
            "text/plain": [
              "{'def': 300, 'abc': 200, 'ghi': 100}"
            ]
          },
          "execution_count": 718,
          "metadata": {},
          "output_type": "execute_result"
        }
      ],
      "source": [
        "d"
      ]
    },
    {
      "cell_type": "code",
      "execution_count": null,
      "metadata": {
        "colab": {
          "base_uri": "https://localhost:8080/"
        },
        "id": "C9umUven5jG2",
        "outputId": "58115680-da7e-476f-c6cc-68dfd702a736"
      },
      "outputs": [
        {
          "data": {
            "text/plain": [
              "['abc', 'def', 'ghi']"
            ]
          },
          "execution_count": 719,
          "metadata": {},
          "output_type": "execute_result"
        }
      ],
      "source": [
        "sorted(d)"
      ]
    },
    {
      "cell_type": "markdown",
      "metadata": {
        "id": "fz6XFCcJ5mCB"
      },
      "source": [
        "What happened here?\n",
        "\n",
        "Remember that iterating dictionaries actually iterates the keys - so we ended up with the keys sorted alphabetically.\n",
        "\n",
        "What if we want to return the keys sored by their associated value instead?"
      ]
    },
    {
      "cell_type": "code",
      "execution_count": null,
      "metadata": {
        "colab": {
          "base_uri": "https://localhost:8080/"
        },
        "id": "sbC4wVdK5lHM",
        "outputId": "6b56dd70-20ad-4150-cd4c-fcfe56dde98e"
      },
      "outputs": [
        {
          "data": {
            "text/plain": [
              "['ghi', 'abc', 'def']"
            ]
          },
          "execution_count": 720,
          "metadata": {},
          "output_type": "execute_result"
        }
      ],
      "source": [
        "sorted(d, key=lambda k: d[k])"
      ]
    },
    {
      "cell_type": "markdown",
      "metadata": {
        "id": "_PY_Kgd06FxD"
      },
      "source": [
        "Maybe we want to sort complex numbers based on their distance from the origin:"
      ]
    },
    {
      "cell_type": "code",
      "execution_count": null,
      "metadata": {
        "id": "N3plwf7k597e"
      },
      "outputs": [],
      "source": [
        "def dist(x):\n",
        "    return (x.real)**2 + (x.imag)**2"
      ]
    },
    {
      "cell_type": "code",
      "execution_count": null,
      "metadata": {
        "id": "auxFGSaS6P5x"
      },
      "outputs": [],
      "source": [
        "l = [3+3j, 1+1j, 0]"
      ]
    },
    {
      "cell_type": "markdown",
      "metadata": {
        "id": "v9UJa4J36VJX"
      },
      "source": [
        "Trying to sort this list directly won't work since Python does not have an ordering defined for complex numbers:"
      ]
    },
    {
      "cell_type": "code",
      "execution_count": null,
      "metadata": {
        "colab": {
          "base_uri": "https://localhost:8080/",
          "height": 166
        },
        "id": "vOV23xaq6UGV",
        "outputId": "bdf1aee6-43bd-4094-8a78-8b8610ac13db"
      },
      "outputs": [
        {
          "ename": "TypeError",
          "evalue": "'<' not supported between instances of 'complex' and 'complex'",
          "output_type": "error",
          "traceback": [
            "\u001b[1;31m---------------------------------------------------------------------------\u001b[0m",
            "\u001b[1;31mTypeError\u001b[0m                                 Traceback (most recent call last)",
            "Input \u001b[1;32mIn [723]\u001b[0m, in \u001b[0;36m<cell line: 1>\u001b[1;34m()\u001b[0m\n\u001b[1;32m----> 1\u001b[0m \u001b[38;5;28;43msorted\u001b[39;49m\u001b[43m(\u001b[49m\u001b[43ml\u001b[49m\u001b[43m)\u001b[49m\n",
            "\u001b[1;31mTypeError\u001b[0m: '<' not supported between instances of 'complex' and 'complex'"
          ]
        }
      ],
      "source": [
        "sorted(l)"
      ]
    },
    {
      "cell_type": "code",
      "execution_count": null,
      "metadata": {
        "colab": {
          "base_uri": "https://localhost:8080/"
        },
        "id": "GykMa9i36dfI",
        "outputId": "adbc2bcf-0edb-49ee-d2ea-da14c3693d91"
      },
      "outputs": [
        {
          "data": {
            "text/plain": [
              "[0, (1+1j), (3+3j)]"
            ]
          },
          "execution_count": 724,
          "metadata": {},
          "output_type": "execute_result"
        }
      ],
      "source": [
        "sorted(l, key=dist)"
      ]
    },
    {
      "cell_type": "markdown",
      "metadata": {
        "id": "04lBKVJJ6lKz"
      },
      "source": [
        "Of course, if we're only going to use the `dist` function once, we can just do the same thing this way:"
      ]
    },
    {
      "cell_type": "code",
      "execution_count": null,
      "metadata": {
        "colab": {
          "base_uri": "https://localhost:8080/"
        },
        "id": "WvJOCY6H6hpU",
        "outputId": "3b60691b-996c-43e7-f52f-8335d067d01b"
      },
      "outputs": [
        {
          "data": {
            "text/plain": [
              "[0, (1+1j), (3+3j)]"
            ]
          },
          "execution_count": 725,
          "metadata": {},
          "output_type": "execute_result"
        }
      ],
      "source": [
        "sorted(l, key=lambda x: (x.real)**2 + (x.imag)**2)"
      ]
    },
    {
      "cell_type": "markdown",
      "metadata": {
        "id": "UoxbWVPA60TL"
      },
      "source": [
        "And here's another example where we want to sort a list of strings based on the last character of the string:"
      ]
    },
    {
      "cell_type": "code",
      "execution_count": null,
      "metadata": {
        "id": "PHOf1t_R6zD3"
      },
      "outputs": [],
      "source": [
        "l = ['Cleese', 'Idle', 'Palin', 'Chapman', 'Gilliam', 'Jones']"
      ]
    },
    {
      "cell_type": "code",
      "execution_count": null,
      "metadata": {
        "colab": {
          "base_uri": "https://localhost:8080/"
        },
        "id": "J3rQ6LNw69Fz",
        "outputId": "9a89318e-a3b5-47c2-ee8f-8e690594c922"
      },
      "outputs": [
        {
          "data": {
            "text/plain": [
              "['Chapman', 'Cleese', 'Gilliam', 'Idle', 'Jones', 'Palin']"
            ]
          },
          "execution_count": 727,
          "metadata": {},
          "output_type": "execute_result"
        }
      ],
      "source": [
        "sorted(l)"
      ]
    },
    {
      "cell_type": "code",
      "execution_count": null,
      "metadata": {
        "colab": {
          "base_uri": "https://localhost:8080/"
        },
        "id": "Njwl4bOp6-Mu",
        "outputId": "4f5dd527-17bb-4377-df4e-7aea24c112d0"
      },
      "outputs": [
        {
          "data": {
            "text/plain": [
              "['Cleese', 'Idle', 'Gilliam', 'Palin', 'Chapman', 'Jones']"
            ]
          },
          "execution_count": 728,
          "metadata": {},
          "output_type": "execute_result"
        }
      ],
      "source": [
        "sorted(l, key=lambda s: s[-1])"
      ]
    },
    {
      "cell_type": "markdown",
      "metadata": {
        "id": "MkZqme317Jx9"
      },
      "source": [
        "### 04 - Challenge - Randomizing an Iterable using Sorted"
      ]
    },
    {
      "cell_type": "code",
      "execution_count": null,
      "metadata": {
        "id": "KCzmrLGZ7DV0"
      },
      "outputs": [],
      "source": [
        "import random"
      ]
    },
    {
      "cell_type": "code",
      "execution_count": null,
      "metadata": {
        "colab": {
          "base_uri": "https://localhost:8080/"
        },
        "id": "cjO9pVE270n9",
        "outputId": "7986a1b6-e47d-4b6e-8f10-56905fd52013"
      },
      "outputs": [
        {
          "name": "stdout",
          "output_type": "stream",
          "text": [
            "Help on built-in function random:\n",
            "\n",
            "random() method of random.Random instance\n",
            "    random() -> x in the interval [0, 1).\n",
            "\n"
          ]
        }
      ],
      "source": [
        "help(random.random)"
      ]
    },
    {
      "cell_type": "code",
      "execution_count": null,
      "metadata": {
        "colab": {
          "base_uri": "https://localhost:8080/"
        },
        "id": "yN-wyfa972Py",
        "outputId": "f2eb49f3-a48e-495b-9174-b13c11dea9ae"
      },
      "outputs": [
        {
          "data": {
            "text/plain": [
              "0.8665762539487375"
            ]
          },
          "execution_count": 731,
          "metadata": {},
          "output_type": "execute_result"
        }
      ],
      "source": [
        "random.random()"
      ]
    },
    {
      "cell_type": "code",
      "execution_count": null,
      "metadata": {
        "id": "RhEqfOa775Pl"
      },
      "outputs": [],
      "source": [
        "l = [1, 2, 3, 4, 5, 6, 7, 8, 9, 10]"
      ]
    },
    {
      "cell_type": "code",
      "execution_count": null,
      "metadata": {
        "colab": {
          "base_uri": "https://localhost:8080/"
        },
        "id": "-q4npbeK791u",
        "outputId": "aa042102-53f6-401d-8814-442db7a2413a"
      },
      "outputs": [
        {
          "data": {
            "text/plain": [
              "[3, 5, 10, 1, 9, 6, 8, 2, 4, 7]"
            ]
          },
          "execution_count": 733,
          "metadata": {},
          "output_type": "execute_result"
        }
      ],
      "source": [
        "sorted(l, key=lambda x: random.random())"
      ]
    },
    {
      "cell_type": "markdown",
      "metadata": {
        "id": "P_lBAjdZ8Hoy"
      },
      "source": [
        "Of course, this works for any iterable:"
      ]
    },
    {
      "cell_type": "code",
      "execution_count": null,
      "metadata": {
        "colab": {
          "base_uri": "https://localhost:8080/"
        },
        "id": "bvyAScz48GWX",
        "outputId": "d1e16e34-24aa-4220-da32-4b8621de2750"
      },
      "outputs": [
        {
          "data": {
            "text/plain": [
              "['c', 'f', 'b', 'g', 'e', 'a', 'd']"
            ]
          },
          "execution_count": 734,
          "metadata": {},
          "output_type": "execute_result"
        }
      ],
      "source": [
        "sorted('abcdefg', key = lambda x: random.random())"
      ]
    },
    {
      "cell_type": "markdown",
      "metadata": {
        "id": "yqtzRYn18ZUX"
      },
      "source": [
        "And to get a string back instead of just a list:"
      ]
    },
    {
      "cell_type": "code",
      "execution_count": null,
      "metadata": {
        "colab": {
          "base_uri": "https://localhost:8080/",
          "height": 35
        },
        "id": "p_RHKPuJ8Yg4",
        "outputId": "c64c410d-8118-4565-d906-830a5b76b189"
      },
      "outputs": [
        {
          "data": {
            "text/plain": [
              "'fabegcd'"
            ]
          },
          "execution_count": 735,
          "metadata": {},
          "output_type": "execute_result"
        }
      ],
      "source": [
        "''.join(sorted('abcdefg', key = lambda x: random.random()))"
      ]
    },
    {
      "cell_type": "markdown",
      "metadata": {
        "id": "rgtDmxTg8mms"
      },
      "source": [
        "### 05 - Function Introspection"
      ]
    },
    {
      "cell_type": "code",
      "execution_count": null,
      "metadata": {
        "id": "DD6TXO4q8k7c"
      },
      "outputs": [],
      "source": [
        "def fact(n: \"some non-negative integer\") -> \"n! or 0 if n < 0\":\n",
        "    \"\"\"Calculates the factorial of a non-negative integer n\n",
        "\n",
        "    if n is negative, returns 0.\n",
        "    \"\"\"\n",
        "    if n < 0:\n",
        "        return 0\n",
        "    elif n <= 1:\n",
        "        return 1\n",
        "    else:\n",
        "        return n * fact(n-1)"
      ]
    },
    {
      "cell_type": "markdown",
      "metadata": {
        "id": "ckqU6Nz_CQnS"
      },
      "source": [
        "Since functions are objects, we can add attributes to a function:"
      ]
    },
    {
      "cell_type": "code",
      "execution_count": null,
      "metadata": {
        "id": "SYh9jBsj9ivF"
      },
      "outputs": [],
      "source": [
        "fact.short_description = \"factorial function\""
      ]
    },
    {
      "cell_type": "code",
      "execution_count": null,
      "metadata": {
        "colab": {
          "base_uri": "https://localhost:8080/"
        },
        "id": "L5Zld5X0CaNa",
        "outputId": "98c8852e-4475-494a-e577-7589676cd05e"
      },
      "outputs": [
        {
          "name": "stdout",
          "output_type": "stream",
          "text": [
            "factorial function\n"
          ]
        }
      ],
      "source": [
        "print(fact.short_description)"
      ]
    },
    {
      "cell_type": "markdown",
      "metadata": {
        "id": "4nY_fIrmCeVr"
      },
      "source": [
        "We can see all the attributes that belong to a function using the `dir` function:"
      ]
    },
    {
      "cell_type": "code",
      "execution_count": null,
      "metadata": {
        "colab": {
          "base_uri": "https://localhost:8080/"
        },
        "id": "jcyIK-XtCcv6",
        "outputId": "2490aaf4-a109-4e6f-e3b7-9126ef3e5886"
      },
      "outputs": [
        {
          "data": {
            "text/plain": [
              "['__annotations__',\n",
              " '__call__',\n",
              " '__class__',\n",
              " '__closure__',\n",
              " '__code__',\n",
              " '__defaults__',\n",
              " '__delattr__',\n",
              " '__dict__',\n",
              " '__dir__',\n",
              " '__doc__',\n",
              " '__eq__',\n",
              " '__format__',\n",
              " '__ge__',\n",
              " '__get__',\n",
              " '__getattribute__',\n",
              " '__globals__',\n",
              " '__gt__',\n",
              " '__hash__',\n",
              " '__init__',\n",
              " '__init_subclass__',\n",
              " '__kwdefaults__',\n",
              " '__le__',\n",
              " '__lt__',\n",
              " '__module__',\n",
              " '__name__',\n",
              " '__ne__',\n",
              " '__new__',\n",
              " '__qualname__',\n",
              " '__reduce__',\n",
              " '__reduce_ex__',\n",
              " '__repr__',\n",
              " '__setattr__',\n",
              " '__sizeof__',\n",
              " '__str__',\n",
              " '__subclasshook__',\n",
              " 'short_description']"
            ]
          },
          "execution_count": 739,
          "metadata": {},
          "output_type": "execute_result"
        }
      ],
      "source": [
        "dir(fact)"
      ]
    },
    {
      "cell_type": "markdown",
      "metadata": {
        "id": "gdYjfArpCnrX"
      },
      "source": [
        "We can see our `short_description` attribute, as well as some attributes we have seen before: `annotations` and `doc`"
      ]
    },
    {
      "cell_type": "code",
      "execution_count": null,
      "metadata": {
        "colab": {
          "base_uri": "https://localhost:8080/",
          "height": 35
        },
        "id": "YgB9wcvRClJn",
        "outputId": "e4f2b247-366e-4213-da07-d760935fe899"
      },
      "outputs": [
        {
          "data": {
            "text/plain": [
              "'Calculates the factorial of a non-negative integer n\\n\\n    if n is negative, returns 0.\\n    '"
            ]
          },
          "execution_count": 740,
          "metadata": {},
          "output_type": "execute_result"
        }
      ],
      "source": [
        "fact.__doc__"
      ]
    },
    {
      "cell_type": "code",
      "execution_count": null,
      "metadata": {
        "colab": {
          "base_uri": "https://localhost:8080/"
        },
        "id": "JzpLaxriC0Xu",
        "outputId": "ad2051a4-c293-4031-fa3e-cd28f41b6174"
      },
      "outputs": [
        {
          "data": {
            "text/plain": [
              "{'n': 'some non-negative integer', 'return': 'n! or 0 if n < 0'}"
            ]
          },
          "execution_count": 741,
          "metadata": {},
          "output_type": "execute_result"
        }
      ],
      "source": [
        "fact.__annotations__"
      ]
    },
    {
      "cell_type": "markdown",
      "metadata": {
        "id": "UUlsSMUcC4AW"
      },
      "source": [
        "We'll revisit some of these attributes later in this course, but let's take a look a few here:"
      ]
    },
    {
      "cell_type": "code",
      "execution_count": null,
      "metadata": {
        "id": "EJi1EdlqC2Jk"
      },
      "outputs": [],
      "source": [
        "def my_func(a, b=2, c=3, *, kw1, kw2=2, **kwargs):\n",
        "    pass"
      ]
    },
    {
      "cell_type": "markdown",
      "metadata": {
        "id": "RnqD8NTuF220"
      },
      "source": [
        "Let's assign `my_func` to another variable:"
      ]
    },
    {
      "cell_type": "code",
      "execution_count": null,
      "metadata": {
        "id": "pygOLVMoDHzX"
      },
      "outputs": [],
      "source": [
        "f = my_func"
      ]
    },
    {
      "cell_type": "markdown",
      "metadata": {
        "id": "vvX9GK_VF_XL"
      },
      "source": [
        "The `name` attribute holds the function's name:"
      ]
    },
    {
      "cell_type": "code",
      "execution_count": null,
      "metadata": {
        "colab": {
          "base_uri": "https://localhost:8080/",
          "height": 35
        },
        "id": "oFRnlHBtF96c",
        "outputId": "3641e0a2-6a06-42c0-88d1-0db68ad5be44"
      },
      "outputs": [
        {
          "data": {
            "text/plain": [
              "'my_func'"
            ]
          },
          "execution_count": 744,
          "metadata": {},
          "output_type": "execute_result"
        }
      ],
      "source": [
        "my_func.__name__"
      ]
    },
    {
      "cell_type": "code",
      "execution_count": null,
      "metadata": {
        "colab": {
          "base_uri": "https://localhost:8080/",
          "height": 35
        },
        "id": "yQ8mbDjuGFyw",
        "outputId": "bef43f48-07ac-4904-a757-66073a5c33e3"
      },
      "outputs": [
        {
          "data": {
            "text/plain": [
              "'my_func'"
            ]
          },
          "execution_count": 745,
          "metadata": {},
          "output_type": "execute_result"
        }
      ],
      "source": [
        "f.__name__"
      ]
    },
    {
      "cell_type": "markdown",
      "metadata": {
        "id": "rpL_nihsGSez"
      },
      "source": [
        "The `defaults` attribute is a tuple contatining any positional parameter defaults:"
      ]
    },
    {
      "cell_type": "code",
      "execution_count": null,
      "metadata": {
        "colab": {
          "base_uri": "https://localhost:8080/"
        },
        "id": "jPo_BUWvGHek",
        "outputId": "a65a165e-72a9-4dc8-ed57-3abfa6573f49"
      },
      "outputs": [
        {
          "data": {
            "text/plain": [
              "(2, 3)"
            ]
          },
          "execution_count": 746,
          "metadata": {},
          "output_type": "execute_result"
        }
      ],
      "source": [
        "my_func.__defaults__"
      ]
    },
    {
      "cell_type": "code",
      "execution_count": null,
      "metadata": {
        "colab": {
          "base_uri": "https://localhost:8080/"
        },
        "id": "FV7y_noHGbQC",
        "outputId": "f5d8c2e8-0e15-4fa2-c534-43b65ea61a2e"
      },
      "outputs": [
        {
          "data": {
            "text/plain": [
              "{'kw2': 2}"
            ]
          },
          "execution_count": 747,
          "metadata": {},
          "output_type": "execute_result"
        }
      ],
      "source": [
        "my_func.__kwdefaults__"
      ]
    },
    {
      "cell_type": "markdown",
      "metadata": {
        "id": "GMW13S6oGqEb"
      },
      "source": [
        "Let's create a function with some local variables:"
      ]
    },
    {
      "cell_type": "code",
      "execution_count": null,
      "metadata": {
        "id": "_IZey8f7GjGy"
      },
      "outputs": [],
      "source": [
        "def my_func(a, b=1, *args, **kwargs):\n",
        "    i = 10\n",
        "    b = min(i, b)\n",
        "    return a * b"
      ]
    },
    {
      "cell_type": "code",
      "execution_count": null,
      "metadata": {
        "colab": {
          "base_uri": "https://localhost:8080/",
          "height": 35
        },
        "id": "j5ue36jrG1B4",
        "outputId": "a5674974-7a97-4092-9495-7f6bfb32049f"
      },
      "outputs": [
        {
          "data": {
            "text/plain": [
              "'aaaaaaaaaa'"
            ]
          },
          "execution_count": 749,
          "metadata": {},
          "output_type": "execute_result"
        }
      ],
      "source": [
        "my_func('a', 100)"
      ]
    },
    {
      "cell_type": "markdown",
      "metadata": {
        "id": "VNXYP9bpHPvD"
      },
      "source": [
        "The `code` attribute contains a `code` object:"
      ]
    },
    {
      "cell_type": "code",
      "execution_count": null,
      "metadata": {
        "colab": {
          "base_uri": "https://localhost:8080/"
        },
        "id": "EHYRwO5SG2mh",
        "outputId": "00ce5a84-3e54-45cc-f5d6-07bd1ab7a0f8"
      },
      "outputs": [
        {
          "data": {
            "text/plain": [
              "<code object my_func at 0x000001BD6F09A9D0, file \"C:\\Users\\aserd\\AppData\\Local\\Temp\\ipykernel_18756\\802511939.py\", line 1>"
            ]
          },
          "execution_count": 750,
          "metadata": {},
          "output_type": "execute_result"
        }
      ],
      "source": [
        "my_func.__code__"
      ]
    },
    {
      "cell_type": "markdown",
      "metadata": {
        "id": "CJzjInzSHZ2u"
      },
      "source": [
        "This `code` object itself has various properties:"
      ]
    },
    {
      "cell_type": "code",
      "execution_count": null,
      "metadata": {
        "colab": {
          "base_uri": "https://localhost:8080/"
        },
        "id": "9ldvZA24HXon",
        "outputId": "8ad45e9d-708d-450c-8d0e-6c619fc002d9"
      },
      "outputs": [
        {
          "data": {
            "text/plain": [
              "['__class__',\n",
              " '__delattr__',\n",
              " '__dir__',\n",
              " '__doc__',\n",
              " '__eq__',\n",
              " '__format__',\n",
              " '__ge__',\n",
              " '__getattribute__',\n",
              " '__gt__',\n",
              " '__hash__',\n",
              " '__init__',\n",
              " '__init_subclass__',\n",
              " '__le__',\n",
              " '__lt__',\n",
              " '__ne__',\n",
              " '__new__',\n",
              " '__reduce__',\n",
              " '__reduce_ex__',\n",
              " '__repr__',\n",
              " '__setattr__',\n",
              " '__sizeof__',\n",
              " '__str__',\n",
              " '__subclasshook__',\n",
              " 'co_argcount',\n",
              " 'co_cellvars',\n",
              " 'co_code',\n",
              " 'co_consts',\n",
              " 'co_filename',\n",
              " 'co_firstlineno',\n",
              " 'co_flags',\n",
              " 'co_freevars',\n",
              " 'co_kwonlyargcount',\n",
              " 'co_lnotab',\n",
              " 'co_name',\n",
              " 'co_names',\n",
              " 'co_nlocals',\n",
              " 'co_posonlyargcount',\n",
              " 'co_stacksize',\n",
              " 'co_varnames',\n",
              " 'replace']"
            ]
          },
          "execution_count": 751,
          "metadata": {},
          "output_type": "execute_result"
        }
      ],
      "source": [
        "dir(my_func.__code__)"
      ]
    },
    {
      "cell_type": "markdown",
      "metadata": {
        "id": "19NGpBy1HmWB"
      },
      "source": [
        "Attribute `co_varnames` is a tuple containing the parameter names and local variables:"
      ]
    },
    {
      "cell_type": "code",
      "execution_count": null,
      "metadata": {
        "colab": {
          "base_uri": "https://localhost:8080/"
        },
        "id": "tvq_lsf_Hgjw",
        "outputId": "e83a78d1-8ae7-4109-fd0c-36fa3571e040"
      },
      "outputs": [
        {
          "data": {
            "text/plain": [
              "('a', 'b', 'args', 'kwargs', 'i')"
            ]
          },
          "execution_count": 752,
          "metadata": {},
          "output_type": "execute_result"
        }
      ],
      "source": [
        "my_func.__code__.co_varnames"
      ]
    },
    {
      "cell_type": "markdown",
      "metadata": {
        "id": "zIAE9DJFHyMb"
      },
      "source": [
        "Attribute `co_argcount` returns the number of arguments (minus any * and ** args)"
      ]
    },
    {
      "cell_type": "code",
      "execution_count": null,
      "metadata": {
        "colab": {
          "base_uri": "https://localhost:8080/"
        },
        "id": "NqEBHX79HwaW",
        "outputId": "326f0e49-efaa-4c5e-a89f-2f9f2bacaa19"
      },
      "outputs": [
        {
          "data": {
            "text/plain": [
              "2"
            ]
          },
          "execution_count": 753,
          "metadata": {},
          "output_type": "execute_result"
        }
      ],
      "source": [
        "my_func.__code__.co_argcount"
      ]
    },
    {
      "cell_type": "markdown",
      "metadata": {
        "id": "wugqeShXIJpx"
      },
      "source": [
        "**The inspect module**"
      ]
    },
    {
      "cell_type": "markdown",
      "metadata": {
        "id": "dbXYis8bIMqk"
      },
      "source": [
        "it is much easier to use the inspect module!"
      ]
    },
    {
      "cell_type": "code",
      "execution_count": null,
      "metadata": {
        "id": "qLKA4RS2IBv4"
      },
      "outputs": [],
      "source": [
        "import inspect"
      ]
    },
    {
      "cell_type": "code",
      "execution_count": null,
      "metadata": {
        "colab": {
          "base_uri": "https://localhost:8080/"
        },
        "id": "JkhEfGhyJXzg",
        "outputId": "dacb7f7b-3aee-4035-e992-746380389d84"
      },
      "outputs": [
        {
          "data": {
            "text/plain": [
              "True"
            ]
          },
          "execution_count": 755,
          "metadata": {},
          "output_type": "execute_result"
        }
      ],
      "source": [
        "inspect.isfunction(my_func)"
      ]
    },
    {
      "cell_type": "markdown",
      "metadata": {
        "id": "eSE7CvHyJx35"
      },
      "source": [
        "\n",
        "\n",
        "---\n",
        "\n",
        "**BE CAREFUL!**"
      ]
    },
    {
      "cell_type": "markdown",
      "metadata": {
        "id": "nywiELSpJozn"
      },
      "source": [
        "*By the way, there is a difference between a function and a method! A method is a function that is bound to some object:*"
      ]
    },
    {
      "cell_type": "code",
      "execution_count": null,
      "metadata": {
        "colab": {
          "base_uri": "https://localhost:8080/"
        },
        "id": "pvLDgtPEJar5",
        "outputId": "d4b159dc-b736-4899-b513-b7c9852b15ac"
      },
      "outputs": [
        {
          "data": {
            "text/plain": [
              "False"
            ]
          },
          "execution_count": 756,
          "metadata": {},
          "output_type": "execute_result"
        }
      ],
      "source": [
        "inspect.ismethod(my_func)"
      ]
    },
    {
      "cell_type": "markdown",
      "metadata": {
        "id": "pU5-G6deSDNv"
      },
      "source": [
        "\n",
        "\n",
        "---\n",
        "\n"
      ]
    },
    {
      "cell_type": "code",
      "execution_count": null,
      "metadata": {
        "id": "hGaAdqwpJ8y-"
      },
      "outputs": [],
      "source": [
        "class MyClass:\n",
        "    def f_instance(self):\n",
        "        pass\n",
        "    \n",
        "    @classmethod\n",
        "    def f_class(cls):\n",
        "        pass\n",
        "    \n",
        "    @staticmethod\n",
        "    def f_static():\n",
        "        pass"
      ]
    },
    {
      "cell_type": "markdown",
      "metadata": {
        "id": "8gmHp-D6SbNy"
      },
      "source": [
        "`Instance methods` are bound to the `instance` of a class (not the class itself)\n",
        "\n",
        "`Class methods` are bound to the `class`, not instances\n",
        "\n",
        "`Static methods` are no bound either to the class or its instances"
      ]
    },
    {
      "cell_type": "code",
      "execution_count": null,
      "metadata": {
        "colab": {
          "base_uri": "https://localhost:8080/"
        },
        "id": "vWVHLdhFSasZ",
        "outputId": "5d0ec0f8-3726-472a-a8ef-73c3e8c54c0b"
      },
      "outputs": [
        {
          "data": {
            "text/plain": [
              "(True, False)"
            ]
          },
          "execution_count": 758,
          "metadata": {},
          "output_type": "execute_result"
        }
      ],
      "source": [
        "inspect.isfunction(MyClass.f_instance), inspect.ismethod(MyClass.f_instance)"
      ]
    },
    {
      "cell_type": "code",
      "execution_count": null,
      "metadata": {
        "colab": {
          "base_uri": "https://localhost:8080/"
        },
        "id": "g9ncjJIeUH7t",
        "outputId": "89a57418-3550-46c6-b581-69cd4a3401ea"
      },
      "outputs": [
        {
          "data": {
            "text/plain": [
              "(False, True)"
            ]
          },
          "execution_count": 759,
          "metadata": {},
          "output_type": "execute_result"
        }
      ],
      "source": [
        "inspect.isfunction(MyClass.f_class), inspect.ismethod(MyClass.f_class)"
      ]
    },
    {
      "cell_type": "code",
      "execution_count": null,
      "metadata": {
        "colab": {
          "base_uri": "https://localhost:8080/"
        },
        "id": "ie_tp6IEURma",
        "outputId": "640d9c09-d345-4839-d381-cb9132238200"
      },
      "outputs": [
        {
          "data": {
            "text/plain": [
              "(True, False)"
            ]
          },
          "execution_count": 760,
          "metadata": {},
          "output_type": "execute_result"
        }
      ],
      "source": [
        "inspect.isfunction(MyClass.f_static), inspect.ismethod(MyClass.f_static)"
      ]
    },
    {
      "cell_type": "code",
      "execution_count": null,
      "metadata": {
        "id": "VdH2D0GSUay_"
      },
      "outputs": [],
      "source": [
        "my_obj = MyClass()"
      ]
    },
    {
      "cell_type": "code",
      "execution_count": null,
      "metadata": {
        "colab": {
          "base_uri": "https://localhost:8080/"
        },
        "id": "QVXZVl1YUnoT",
        "outputId": "d448bb7f-b9aa-4869-84c4-90fdbec46c97"
      },
      "outputs": [
        {
          "data": {
            "text/plain": [
              "(False, True)"
            ]
          },
          "execution_count": 762,
          "metadata": {},
          "output_type": "execute_result"
        }
      ],
      "source": [
        "inspect.isfunction(my_obj.f_instance), inspect.ismethod(my_obj.f_class)"
      ]
    },
    {
      "cell_type": "code",
      "execution_count": null,
      "metadata": {
        "colab": {
          "base_uri": "https://localhost:8080/"
        },
        "id": "5iqE264iU1G2",
        "outputId": "0cc9442b-27ec-4c15-b093-5c5ccde497d5"
      },
      "outputs": [
        {
          "data": {
            "text/plain": [
              "(False, True)"
            ]
          },
          "execution_count": 763,
          "metadata": {},
          "output_type": "execute_result"
        }
      ],
      "source": [
        "inspect.isfunction(my_obj.f_class), inspect.ismethod(my_obj.f_class)"
      ]
    },
    {
      "cell_type": "code",
      "execution_count": null,
      "metadata": {
        "colab": {
          "base_uri": "https://localhost:8080/"
        },
        "id": "OOGUWEEOU7VT",
        "outputId": "f920891c-1a38-4942-f7e1-bab86cdb05c8"
      },
      "outputs": [
        {
          "data": {
            "text/plain": [
              "(True, False)"
            ]
          },
          "execution_count": 764,
          "metadata": {},
          "output_type": "execute_result"
        }
      ],
      "source": [
        "inspect.isfunction(my_obj.f_static), inspect.ismethod(my_obj.f_static)"
      ]
    },
    {
      "cell_type": "markdown",
      "metadata": {
        "id": "EFRtLCIqVNq6"
      },
      "source": [
        "If you just want to know if something is a function or method:"
      ]
    },
    {
      "cell_type": "code",
      "execution_count": null,
      "metadata": {
        "colab": {
          "base_uri": "https://localhost:8080/"
        },
        "id": "VAjXfTa8U_qR",
        "outputId": "517daf7b-f5de-4148-cc23-af65e4684978"
      },
      "outputs": [
        {
          "data": {
            "text/plain": [
              "True"
            ]
          },
          "execution_count": 765,
          "metadata": {},
          "output_type": "execute_result"
        }
      ],
      "source": [
        "inspect.isroutine(my_func)"
      ]
    },
    {
      "cell_type": "code",
      "execution_count": null,
      "metadata": {
        "colab": {
          "base_uri": "https://localhost:8080/"
        },
        "id": "4nKBhQV9VUAo",
        "outputId": "5d0f2f52-798a-4e64-e05a-3a7cd6ca0131"
      },
      "outputs": [
        {
          "data": {
            "text/plain": [
              "True"
            ]
          },
          "execution_count": 766,
          "metadata": {},
          "output_type": "execute_result"
        }
      ],
      "source": [
        "inspect.isroutine(MyClass.f_instance)"
      ]
    },
    {
      "cell_type": "code",
      "execution_count": null,
      "metadata": {
        "colab": {
          "base_uri": "https://localhost:8080/"
        },
        "id": "N6-QG-wBVaXg",
        "outputId": "d6676717-4bf0-45a7-e307-a3861010c4f1"
      },
      "outputs": [
        {
          "data": {
            "text/plain": [
              "True"
            ]
          },
          "execution_count": 767,
          "metadata": {},
          "output_type": "execute_result"
        }
      ],
      "source": [
        "inspect.isroutine(my_obj.f_class)"
      ]
    },
    {
      "cell_type": "code",
      "execution_count": null,
      "metadata": {
        "colab": {
          "base_uri": "https://localhost:8080/"
        },
        "id": "Mq4HGw0SVfGJ",
        "outputId": "c39f1414-bcf3-4019-e3c0-0ac14e67ccac"
      },
      "outputs": [
        {
          "data": {
            "text/plain": [
              "True"
            ]
          },
          "execution_count": 768,
          "metadata": {},
          "output_type": "execute_result"
        }
      ],
      "source": [
        "inspect.isroutine(my_obj.f_static)"
      ]
    },
    {
      "cell_type": "markdown",
      "metadata": {
        "id": "-0xmW9dfVqmQ"
      },
      "source": [
        "**Introspecting Callable Code**"
      ]
    },
    {
      "cell_type": "markdown",
      "metadata": {
        "id": "zElhoVn7VtvM"
      },
      "source": [
        "We can get back the source code of our function using the `getsource()` method:"
      ]
    },
    {
      "cell_type": "code",
      "execution_count": null,
      "metadata": {
        "colab": {
          "base_uri": "https://localhost:8080/",
          "height": 53
        },
        "id": "UDDrmTsXVhZu",
        "outputId": "40feccc1-8176-45f1-bbc5-2298f14b2ca5"
      },
      "outputs": [
        {
          "data": {
            "text/plain": [
              "'def fact(n: \"some non-negative integer\") -> \"n! or 0 if n < 0\":\\n    \"\"\"Calculates the factorial of a non-negative integer n\\n\\n    if n is negative, returns 0.\\n    \"\"\"\\n    if n < 0:\\n        return 0\\n    elif n <= 1:\\n        return 1\\n    else:\\n        return n * fact(n-1)\\n'"
            ]
          },
          "execution_count": 769,
          "metadata": {},
          "output_type": "execute_result"
        }
      ],
      "source": [
        "inspect.getsource(fact)"
      ]
    },
    {
      "cell_type": "code",
      "execution_count": null,
      "metadata": {
        "colab": {
          "base_uri": "https://localhost:8080/"
        },
        "id": "9I_e7bFcV2G8",
        "outputId": "a3e74644-15ff-44f8-bea5-2b1c9d472c66"
      },
      "outputs": [
        {
          "name": "stdout",
          "output_type": "stream",
          "text": [
            "def fact(n: \"some non-negative integer\") -> \"n! or 0 if n < 0\":\n",
            "    \"\"\"Calculates the factorial of a non-negative integer n\n",
            "\n",
            "    if n is negative, returns 0.\n",
            "    \"\"\"\n",
            "    if n < 0:\n",
            "        return 0\n",
            "    elif n <= 1:\n",
            "        return 1\n",
            "    else:\n",
            "        return n * fact(n-1)\n",
            "\n"
          ]
        }
      ],
      "source": [
        "print(inspect.getsource(fact))"
      ]
    },
    {
      "cell_type": "code",
      "execution_count": null,
      "metadata": {
        "colab": {
          "base_uri": "https://localhost:8080/",
          "height": 35
        },
        "id": "hPxoDwh6V6wC",
        "outputId": "7060dbd8-f482-4f78-d01d-e60d4a0d62a9"
      },
      "outputs": [
        {
          "data": {
            "text/plain": [
              "'    def f_instance(self):\\n        pass\\n'"
            ]
          },
          "execution_count": 771,
          "metadata": {},
          "output_type": "execute_result"
        }
      ],
      "source": [
        "inspect.getsource(MyClass.f_instance)"
      ]
    },
    {
      "cell_type": "code",
      "execution_count": null,
      "metadata": {
        "colab": {
          "base_uri": "https://localhost:8080/",
          "height": 35
        },
        "id": "afglhrQeV_5W",
        "outputId": "f193bbf3-d87b-443f-b42b-115779c0e608"
      },
      "outputs": [
        {
          "data": {
            "text/plain": [
              "'    def f_instance(self):\\n        pass\\n'"
            ]
          },
          "execution_count": 772,
          "metadata": {},
          "output_type": "execute_result"
        }
      ],
      "source": [
        "inspect.getsource(my_obj.f_instance)"
      ]
    },
    {
      "cell_type": "markdown",
      "metadata": {
        "id": "YwMC6I4sWHLr"
      },
      "source": [
        "We can also find out where the function was defined:"
      ]
    },
    {
      "cell_type": "code",
      "execution_count": null,
      "metadata": {
        "colab": {
          "base_uri": "https://localhost:8080/"
        },
        "id": "lfnRDGHGWFKq",
        "outputId": "ee97629c-21a2-4d85-9518-c3ba25d17880"
      },
      "outputs": [
        {
          "data": {
            "text/plain": [
              "<module '__main__'>"
            ]
          },
          "execution_count": 773,
          "metadata": {},
          "output_type": "execute_result"
        }
      ],
      "source": [
        "inspect.getmodule(fact)"
      ]
    },
    {
      "cell_type": "code",
      "execution_count": null,
      "metadata": {
        "colab": {
          "base_uri": "https://localhost:8080/"
        },
        "id": "Ic7I7NnSWNFu",
        "outputId": "21494d30-cc5e-4719-cbd9-1c692800bb52"
      },
      "outputs": [
        {
          "data": {
            "text/plain": [
              "<module 'builtins' (built-in)>"
            ]
          },
          "execution_count": 774,
          "metadata": {},
          "output_type": "execute_result"
        }
      ],
      "source": [
        "inspect.getmodule(print)"
      ]
    },
    {
      "cell_type": "code",
      "execution_count": null,
      "metadata": {
        "id": "UKGx5uzNWSmS"
      },
      "outputs": [],
      "source": [
        "# setting up variable\n",
        "i = 10\n",
        "\n",
        "# comment line 1\n",
        "# comment line 2\n",
        "def my_func(a, b=1):\n",
        "    # comment inside my_func\n",
        "    pass"
      ]
    },
    {
      "cell_type": "code",
      "execution_count": null,
      "metadata": {
        "colab": {
          "base_uri": "https://localhost:8080/",
          "height": 35
        },
        "id": "PumIgBwdWV38",
        "outputId": "e37a820f-aab7-44e2-a755-9e88857ad51d"
      },
      "outputs": [
        {
          "data": {
            "text/plain": [
              "'# comment line 1\\n# comment line 2\\n'"
            ]
          },
          "execution_count": 776,
          "metadata": {},
          "output_type": "execute_result"
        }
      ],
      "source": [
        "inspect.getcomments(my_func)"
      ]
    },
    {
      "cell_type": "code",
      "execution_count": null,
      "metadata": {
        "colab": {
          "base_uri": "https://localhost:8080/"
        },
        "id": "Qnrfho79WYme",
        "outputId": "e4b51814-ad9f-481d-b9d2-d7c962b36dfc"
      },
      "outputs": [
        {
          "name": "stdout",
          "output_type": "stream",
          "text": [
            "# comment line 1\n",
            "# comment line 2\n",
            "\n"
          ]
        }
      ],
      "source": [
        "print(inspect.getcomments(my_func))"
      ]
    },
    {
      "cell_type": "markdown",
      "metadata": {
        "id": "XB7geJjlWdyp"
      },
      "source": [
        "**Introspecting Callable Signatures**"
      ]
    },
    {
      "cell_type": "code",
      "execution_count": null,
      "metadata": {
        "id": "a2FiXg1RWcmv"
      },
      "outputs": [],
      "source": [
        "# TODO: Provide Implementation\n",
        "def my_func(a: 'a string',\n",
        "            b: int = 1,\n",
        "            *args: 'additional positional args',\n",
        "            kw1: 'first keyword-only arg',\n",
        "            kw2: 'second keyword-only arg'=10,\n",
        "            **kwargs: 'additional keyword-only args') -> str:\n",
        "    \"\"\"does something\n",
        "    or other\"\"\"\n",
        "    pass"
      ]
    },
    {
      "cell_type": "code",
      "execution_count": null,
      "metadata": {
        "colab": {
          "base_uri": "https://localhost:8080/"
        },
        "id": "tvQKVL93XMfR",
        "outputId": "6eb3727d-45ae-40f8-dbf3-c27ff6586495"
      },
      "outputs": [
        {
          "data": {
            "text/plain": [
              "<Signature (a: 'a string', b: int = 1, *args: 'additional positional args', kw1: 'first keyword-only arg', kw2: 'second keyword-only arg' = 10, **kwargs: 'additional keyword-only args') -> str>"
            ]
          },
          "execution_count": 779,
          "metadata": {},
          "output_type": "execute_result"
        }
      ],
      "source": [
        "inspect.signature(my_func)"
      ]
    },
    {
      "cell_type": "code",
      "execution_count": null,
      "metadata": {
        "colab": {
          "base_uri": "https://localhost:8080/"
        },
        "id": "CVkfAmvwXTzG",
        "outputId": "5796976d-1fba-497b-e945-49d8d3fbfeca"
      },
      "outputs": [
        {
          "data": {
            "text/plain": [
              "inspect.Signature"
            ]
          },
          "execution_count": 780,
          "metadata": {},
          "output_type": "execute_result"
        }
      ],
      "source": [
        "type(inspect.signature(my_func))"
      ]
    },
    {
      "cell_type": "code",
      "execution_count": null,
      "metadata": {
        "id": "a41EDNzwXYjn"
      },
      "outputs": [],
      "source": [
        "sig = inspect.signature(my_func)"
      ]
    },
    {
      "cell_type": "code",
      "execution_count": null,
      "metadata": {
        "colab": {
          "base_uri": "https://localhost:8080/"
        },
        "id": "I34Rg2lKXb_V",
        "outputId": "b09fedfe-52a7-4ad9-a10e-30b4d3219b36"
      },
      "outputs": [
        {
          "data": {
            "text/plain": [
              "['__class__',\n",
              " '__delattr__',\n",
              " '__dir__',\n",
              " '__doc__',\n",
              " '__eq__',\n",
              " '__format__',\n",
              " '__ge__',\n",
              " '__getattribute__',\n",
              " '__gt__',\n",
              " '__hash__',\n",
              " '__init__',\n",
              " '__init_subclass__',\n",
              " '__le__',\n",
              " '__lt__',\n",
              " '__module__',\n",
              " '__ne__',\n",
              " '__new__',\n",
              " '__reduce__',\n",
              " '__reduce_ex__',\n",
              " '__repr__',\n",
              " '__setattr__',\n",
              " '__setstate__',\n",
              " '__sizeof__',\n",
              " '__slots__',\n",
              " '__str__',\n",
              " '__subclasshook__',\n",
              " '_bind',\n",
              " '_bound_arguments_cls',\n",
              " '_hash_basis',\n",
              " '_parameter_cls',\n",
              " '_parameters',\n",
              " '_return_annotation',\n",
              " 'bind',\n",
              " 'bind_partial',\n",
              " 'empty',\n",
              " 'from_builtin',\n",
              " 'from_callable',\n",
              " 'from_function',\n",
              " 'parameters',\n",
              " 'replace',\n",
              " 'return_annotation']"
            ]
          },
          "execution_count": 782,
          "metadata": {},
          "output_type": "execute_result"
        }
      ],
      "source": [
        "dir(sig)"
      ]
    },
    {
      "cell_type": "code",
      "execution_count": null,
      "metadata": {
        "colab": {
          "base_uri": "https://localhost:8080/"
        },
        "id": "vv6lr76UXd1u",
        "outputId": "6788533a-e619-4e16-c1a0-a2c3943416d3"
      },
      "outputs": [
        {
          "name": "stdout",
          "output_type": "stream",
          "text": [
            "a a: 'a string'\n",
            "b b: int = 1\n",
            "args *args: 'additional positional args'\n",
            "kw1 kw1: 'first keyword-only arg'\n",
            "kw2 kw2: 'second keyword-only arg' = 10\n",
            "kwargs **kwargs: 'additional keyword-only args'\n"
          ]
        }
      ],
      "source": [
        "for param_name, param in sig.parameters.items():\n",
        "    print(param_name, param)"
      ]
    },
    {
      "cell_type": "code",
      "execution_count": null,
      "metadata": {
        "id": "pt3wFzAxXqxq"
      },
      "outputs": [],
      "source": [
        "def print_info(f: \"callable\") -> None:\n",
        "    print(f.__name__)\n",
        "    print('=' * len(f.__name__), end='\\n\\n')\n",
        "\n",
        "    print('{0}\\n{1}\\n'.format(inspect.getcomments(f),\n",
        "                              inspect.cleandoc(f.__doc__)))\n",
        "    \n",
        "    print('{0}\\n{1}'.format('Inputs', '-'*len('Inputs')))\n",
        "\n",
        "    sig = inspect.signature(f)\n",
        "    for param in sig.parameters.values():\n",
        "        print('Name:', param.name)\n",
        "        print('Default:', param.default)\n",
        "        print('Annotation:', param.annotation)\n",
        "        print('Kind:', param.kind)\n",
        "        print('----------------\\n')\n",
        "    \n",
        "    print('{0}\\n{1}'.format('\\n\\nOutput', '-'*len('Output')))\n",
        "    print(sig.return_annotation)"
      ]
    },
    {
      "cell_type": "code",
      "execution_count": null,
      "metadata": {
        "colab": {
          "base_uri": "https://localhost:8080/"
        },
        "id": "T1DtayYuY3AL",
        "outputId": "09ad665b-01e4-43f3-a549-2f1c8e319f75"
      },
      "outputs": [
        {
          "name": "stdout",
          "output_type": "stream",
          "text": [
            "my_func\n",
            "=======\n",
            "\n",
            "# TODO: Provide Implementation\n",
            "\n",
            "does something\n",
            "or other\n",
            "\n",
            "Inputs\n",
            "------\n",
            "Name: a\n",
            "Default: <class 'inspect._empty'>\n",
            "Annotation: a string\n",
            "Kind: POSITIONAL_OR_KEYWORD\n",
            "----------------\n",
            "\n",
            "Name: b\n",
            "Default: 1\n",
            "Annotation: <class 'int'>\n",
            "Kind: POSITIONAL_OR_KEYWORD\n",
            "----------------\n",
            "\n",
            "Name: args\n",
            "Default: <class 'inspect._empty'>\n",
            "Annotation: additional positional args\n",
            "Kind: VAR_POSITIONAL\n",
            "----------------\n",
            "\n",
            "Name: kw1\n",
            "Default: <class 'inspect._empty'>\n",
            "Annotation: first keyword-only arg\n",
            "Kind: KEYWORD_ONLY\n",
            "----------------\n",
            "\n",
            "Name: kw2\n",
            "Default: 10\n",
            "Annotation: second keyword-only arg\n",
            "Kind: KEYWORD_ONLY\n",
            "----------------\n",
            "\n",
            "Name: kwargs\n",
            "Default: <class 'inspect._empty'>\n",
            "Annotation: additional keyword-only args\n",
            "Kind: VAR_KEYWORD\n",
            "----------------\n",
            "\n",
            "\n",
            "\n",
            "Output\n",
            "------\n",
            "<class 'str'>\n"
          ]
        }
      ],
      "source": [
        "print_info(my_func)"
      ]
    },
    {
      "cell_type": "markdown",
      "metadata": {
        "id": "Vnny4l0XZAfk"
      },
      "source": [
        "**A Side Note on Positional Only Arguments**"
      ]
    },
    {
      "cell_type": "markdown",
      "metadata": {
        "id": "xbdfjzufZFEX"
      },
      "source": [
        "Some built-in callables have arguments that are positional only (i.e. cannot be specified using a keyword).\n",
        "\n",
        "However, Python does not currently have any syntax that allows us to define callables with positional only arguments.\n",
        "\n",
        "In general, the documentation uses a `/` character to indicate that all preceding arguments are positional-only. But not always :( "
      ]
    },
    {
      "cell_type": "code",
      "execution_count": null,
      "metadata": {
        "colab": {
          "base_uri": "https://localhost:8080/"
        },
        "id": "vwEwS_1TY7Ei",
        "outputId": "92ca25a9-e969-4353-acf2-58b79214766d"
      },
      "outputs": [
        {
          "name": "stdout",
          "output_type": "stream",
          "text": [
            "Help on built-in function divmod in module builtins:\n",
            "\n",
            "divmod(x, y, /)\n",
            "    Return the tuple (x//y, x%y).  Invariant: div*y + mod == x.\n",
            "\n"
          ]
        }
      ],
      "source": [
        "help(divmod)"
      ]
    },
    {
      "cell_type": "markdown",
      "metadata": {
        "id": "3oRDz9tBZtNK"
      },
      "source": [
        "Here we see that the `divmod` function takes two positional-only parameters:"
      ]
    },
    {
      "cell_type": "code",
      "execution_count": null,
      "metadata": {
        "colab": {
          "base_uri": "https://localhost:8080/"
        },
        "id": "GMovFz7XZriD",
        "outputId": "8d782e34-0a09-410c-dcdc-d6258c4b393b"
      },
      "outputs": [
        {
          "data": {
            "text/plain": [
              "(3, 1)"
            ]
          },
          "execution_count": 787,
          "metadata": {},
          "output_type": "execute_result"
        }
      ],
      "source": [
        "divmod(10, 3)"
      ]
    },
    {
      "cell_type": "code",
      "execution_count": null,
      "metadata": {
        "colab": {
          "base_uri": "https://localhost:8080/",
          "height": 166
        },
        "id": "h9IdMuEcZ0Zz",
        "outputId": "1d79e910-b468-40e3-941f-5fe19bc3a193"
      },
      "outputs": [
        {
          "ename": "TypeError",
          "evalue": "divmod() takes no keyword arguments",
          "output_type": "error",
          "traceback": [
            "\u001b[1;31m---------------------------------------------------------------------------\u001b[0m",
            "\u001b[1;31mTypeError\u001b[0m                                 Traceback (most recent call last)",
            "Input \u001b[1;32mIn [788]\u001b[0m, in \u001b[0;36m<cell line: 1>\u001b[1;34m()\u001b[0m\n\u001b[1;32m----> 1\u001b[0m \u001b[38;5;28;43mdivmod\u001b[39;49m\u001b[43m(\u001b[49m\u001b[43mx\u001b[49m\u001b[38;5;241;43m=\u001b[39;49m\u001b[38;5;241;43m10\u001b[39;49m\u001b[43m,\u001b[49m\u001b[43m \u001b[49m\u001b[43my\u001b[49m\u001b[38;5;241;43m=\u001b[39;49m\u001b[38;5;241;43m3\u001b[39;49m\u001b[43m)\u001b[49m\n",
            "\u001b[1;31mTypeError\u001b[0m: divmod() takes no keyword arguments"
          ]
        }
      ],
      "source": [
        "divmod(x=10, y=3)"
      ]
    },
    {
      "cell_type": "markdown",
      "metadata": {
        "id": "V1XD099xaEL8"
      },
      "source": [
        "\n",
        "\n",
        "---\n",
        "**BE CAREFUL!**\n"
      ]
    },
    {
      "cell_type": "markdown",
      "metadata": {
        "id": "UoECZ9P8Z3iE"
      },
      "source": [
        "*Similarly, the string `replace` function also takes positional-only arguments, however, the documentation not indicate this!*\n",
        "\n",
        "*It has been updated*"
      ]
    },
    {
      "cell_type": "code",
      "execution_count": null,
      "metadata": {
        "colab": {
          "base_uri": "https://localhost:8080/"
        },
        "id": "UP4x35INZ2YX",
        "outputId": "1bed3503-c3cc-48bc-df8d-9e5fe1b89f11"
      },
      "outputs": [
        {
          "name": "stdout",
          "output_type": "stream",
          "text": [
            "Help on method_descriptor:\n",
            "\n",
            "replace(self, old, new, count=-1, /)\n",
            "    Return a copy with all occurrences of substring old replaced by new.\n",
            "    \n",
            "      count\n",
            "        Maximum number of occurrences to replace.\n",
            "        -1 (the default value) means replace all occurrences.\n",
            "    \n",
            "    If the optional argument count is given, only the first count occurrences are\n",
            "    replaced.\n",
            "\n"
          ]
        }
      ],
      "source": [
        "help(str.replace)"
      ]
    },
    {
      "cell_type": "code",
      "execution_count": null,
      "metadata": {
        "colab": {
          "base_uri": "https://localhost:8080/",
          "height": 35
        },
        "id": "AIIIM8s3aK9z",
        "outputId": "04135cfd-cd76-4de6-cf50-13d1f8fbbecd"
      },
      "outputs": [
        {
          "data": {
            "text/plain": [
              "'xyzdefg'"
            ]
          },
          "execution_count": 790,
          "metadata": {},
          "output_type": "execute_result"
        }
      ],
      "source": [
        "'abcdefg'.replace('abc', 'xyz')"
      ]
    },
    {
      "cell_type": "code",
      "execution_count": null,
      "metadata": {
        "colab": {
          "base_uri": "https://localhost:8080/",
          "height": 166
        },
        "id": "Cf8rp-lQaWhR",
        "outputId": "cb9435a5-0f0b-484b-fbbb-8c4a4738395b"
      },
      "outputs": [
        {
          "ename": "TypeError",
          "evalue": "str.replace() takes no keyword arguments",
          "output_type": "error",
          "traceback": [
            "\u001b[1;31m---------------------------------------------------------------------------\u001b[0m",
            "\u001b[1;31mTypeError\u001b[0m                                 Traceback (most recent call last)",
            "Input \u001b[1;32mIn [791]\u001b[0m, in \u001b[0;36m<cell line: 1>\u001b[1;34m()\u001b[0m\n\u001b[1;32m----> 1\u001b[0m \u001b[38;5;124;43m'\u001b[39;49m\u001b[38;5;124;43mabcdefg\u001b[39;49m\u001b[38;5;124;43m'\u001b[39;49m\u001b[38;5;241;43m.\u001b[39;49m\u001b[43mreplace\u001b[49m\u001b[43m(\u001b[49m\u001b[43mold\u001b[49m\u001b[38;5;241;43m=\u001b[39;49m\u001b[38;5;124;43m'\u001b[39;49m\u001b[38;5;124;43mabc\u001b[39;49m\u001b[38;5;124;43m'\u001b[39;49m\u001b[43m,\u001b[49m\u001b[43m \u001b[49m\u001b[43mnew\u001b[49m\u001b[38;5;241;43m=\u001b[39;49m\u001b[38;5;124;43m'\u001b[39;49m\u001b[38;5;124;43mxyz\u001b[39;49m\u001b[38;5;124;43m'\u001b[39;49m\u001b[43m)\u001b[49m\n",
            "\u001b[1;31mTypeError\u001b[0m: str.replace() takes no keyword arguments"
          ]
        }
      ],
      "source": [
        "'abcdefg'.replace(old='abc', new='xyz')"
      ]
    },
    {
      "cell_type": "markdown",
      "metadata": {
        "id": "zqYTEJOyacba"
      },
      "source": [
        "### 06 - Callables"
      ]
    },
    {
      "cell_type": "markdown",
      "metadata": {
        "id": "zm02kLdIakW6"
      },
      "source": [
        "A callable is an object that can be called (using the `()` operator), and always returns a value.\n",
        "\n",
        "We can check if an object is callable by using the built-in function `callable`"
      ]
    },
    {
      "cell_type": "markdown",
      "metadata": {
        "id": "RQ7GIg2EsBUc"
      },
      "source": [
        "**Functions and Methods are callable**"
      ]
    },
    {
      "cell_type": "code",
      "execution_count": null,
      "metadata": {
        "colab": {
          "base_uri": "https://localhost:8080/"
        },
        "id": "fUqUVIzKaX4N",
        "outputId": "138ebcc0-f579-4a55-c1dd-9055661bcd5d"
      },
      "outputs": [
        {
          "data": {
            "text/plain": [
              "True"
            ]
          },
          "execution_count": 792,
          "metadata": {},
          "output_type": "execute_result"
        }
      ],
      "source": [
        "callable(print)"
      ]
    },
    {
      "cell_type": "code",
      "execution_count": null,
      "metadata": {
        "colab": {
          "base_uri": "https://localhost:8080/"
        },
        "id": "3bc4q952sNTB",
        "outputId": "d2e18f68-20b7-4609-809a-131f69552376"
      },
      "outputs": [
        {
          "data": {
            "text/plain": [
              "True"
            ]
          },
          "execution_count": 793,
          "metadata": {},
          "output_type": "execute_result"
        }
      ],
      "source": [
        "callable(len)"
      ]
    },
    {
      "cell_type": "code",
      "execution_count": null,
      "metadata": {
        "colab": {
          "base_uri": "https://localhost:8080/"
        },
        "id": "HHIPZKiasPd8",
        "outputId": "f86a8962-49de-436e-8d25-93dda8329ed5"
      },
      "outputs": [
        {
          "data": {
            "text/plain": [
              "[True,\n",
              " True,\n",
              " True,\n",
              " True,\n",
              " True,\n",
              " True,\n",
              " True,\n",
              " True,\n",
              " True,\n",
              " True,\n",
              " True,\n",
              " True,\n",
              " True,\n",
              " True,\n",
              " True]"
            ]
          },
          "execution_count": 794,
          "metadata": {},
          "output_type": "execute_result"
        }
      ],
      "source": [
        "from decimal import Decimal\n",
        "from fractions import Fraction\n",
        "[callable(list), callable(bytearray), callable(set), callable(dict),\n",
        "callable(bool), callable(int), callable(float), callable(complex),\n",
        "callable(tuple), callable(bytes), callable(frozenset), callable(Decimal),\n",
        "callable(Fraction), callable(range), callable(str)\n",
        "]"
      ]
    },
    {
      "cell_type": "code",
      "execution_count": null,
      "metadata": {
        "colab": {
          "base_uri": "https://localhost:8080/"
        },
        "id": "zKOz6fc_01ef",
        "outputId": "f4fb70cc-3f3f-4c9a-92c2-ceeb23bcf4c0"
      },
      "outputs": [
        {
          "data": {
            "text/plain": [
              "True"
            ]
          },
          "execution_count": 795,
          "metadata": {},
          "output_type": "execute_result"
        }
      ],
      "source": [
        "l = [1, 2, 3]\n",
        "callable(l.append)"
      ]
    },
    {
      "cell_type": "code",
      "execution_count": null,
      "metadata": {
        "id": "zQ4cvQud4GvW"
      },
      "outputs": [],
      "source": [
        "s = 'abc'"
      ]
    },
    {
      "cell_type": "markdown",
      "metadata": {
        "id": "D1tf0V-T4KjC"
      },
      "source": [
        "Callables always return a value:"
      ]
    },
    {
      "cell_type": "code",
      "execution_count": null,
      "metadata": {
        "colab": {
          "base_uri": "https://localhost:8080/"
        },
        "id": "QgxZmrUH4JZr",
        "outputId": "7fe39dcf-1b4a-4339-a392-a3801db2d203"
      },
      "outputs": [
        {
          "name": "stdout",
          "output_type": "stream",
          "text": [
            "hello\n",
            "None\n"
          ]
        }
      ],
      "source": [
        "result = print('hello')\n",
        "print(result)"
      ]
    },
    {
      "cell_type": "code",
      "execution_count": null,
      "metadata": {
        "colab": {
          "base_uri": "https://localhost:8080/"
        },
        "id": "IF-5Z-9v4Piw",
        "outputId": "4ba4afed-e7b3-412c-8df8-1de2d588ef4d"
      },
      "outputs": [
        {
          "name": "stdout",
          "output_type": "stream",
          "text": [
            "None\n",
            "[1, 2, 3, 4]\n"
          ]
        }
      ],
      "source": [
        "l = [1, 2, 3]\n",
        "result = l.append(4)\n",
        "print(result)\n",
        "print(l)"
      ]
    },
    {
      "cell_type": "code",
      "execution_count": null,
      "metadata": {
        "colab": {
          "base_uri": "https://localhost:8080/"
        },
        "id": "0t1rO5uO4WdC",
        "outputId": "0d182944-1825-4bda-ff9c-fc4b0eb2631a"
      },
      "outputs": [
        {
          "name": "stdout",
          "output_type": "stream",
          "text": [
            "ABC\n"
          ]
        }
      ],
      "source": [
        "s = 'abc'\n",
        "result = s.upper()\n",
        "print(result)\n"
      ]
    },
    {
      "cell_type": "markdown",
      "metadata": {
        "id": "X19AoM6p457Z"
      },
      "source": [
        "**Classes are callable:**"
      ]
    },
    {
      "cell_type": "code",
      "execution_count": null,
      "metadata": {
        "id": "a5KyUrUi42ot"
      },
      "outputs": [],
      "source": [
        "from decimal import Decimal"
      ]
    },
    {
      "cell_type": "code",
      "execution_count": null,
      "metadata": {
        "colab": {
          "base_uri": "https://localhost:8080/"
        },
        "id": "MFi9LZmN4-08",
        "outputId": "c5e81993-a2e5-4b17-ba48-abbc1b58d265"
      },
      "outputs": [
        {
          "data": {
            "text/plain": [
              "True"
            ]
          },
          "execution_count": 801,
          "metadata": {},
          "output_type": "execute_result"
        }
      ],
      "source": [
        "callable(Decimal)"
      ]
    },
    {
      "cell_type": "code",
      "execution_count": null,
      "metadata": {
        "colab": {
          "base_uri": "https://localhost:8080/"
        },
        "id": "hUozRe605ABg",
        "outputId": "41ef1143-c888-4f5f-a438-755cf214eb0a"
      },
      "outputs": [
        {
          "name": "stdout",
          "output_type": "stream",
          "text": [
            "10.5\n"
          ]
        }
      ],
      "source": [
        "result = Decimal('10.5')\n",
        "print(result)"
      ]
    },
    {
      "cell_type": "markdown",
      "metadata": {
        "id": "JdcDqoLS5fLV"
      },
      "source": [
        "**Class instances may be callable:**"
      ]
    },
    {
      "cell_type": "code",
      "execution_count": null,
      "metadata": {
        "id": "IxcAqj8o5IQG"
      },
      "outputs": [],
      "source": [
        "class MyClass:\n",
        "    def __init__(self):\n",
        "        print('initializing...')\n",
        "        self.counter = 0\n",
        "\n",
        "    def __call__(self, x=1):\n",
        "        self.counter += x\n",
        "        print(self.counter)"
      ]
    },
    {
      "cell_type": "code",
      "execution_count": null,
      "metadata": {
        "colab": {
          "base_uri": "https://localhost:8080/"
        },
        "id": "tS02DjS26ky7",
        "outputId": "3130b01b-e337-407d-8d02-fdbe04afaee0"
      },
      "outputs": [
        {
          "name": "stdout",
          "output_type": "stream",
          "text": [
            "initializing...\n"
          ]
        }
      ],
      "source": [
        "my_obj = MyClass()"
      ]
    },
    {
      "cell_type": "code",
      "execution_count": null,
      "metadata": {
        "colab": {
          "base_uri": "https://localhost:8080/"
        },
        "id": "KA47VsI-6m7c",
        "outputId": "f13293ef-4c3e-4368-c306-78790c007bf0"
      },
      "outputs": [
        {
          "data": {
            "text/plain": [
              "True"
            ]
          },
          "execution_count": 805,
          "metadata": {},
          "output_type": "execute_result"
        }
      ],
      "source": [
        "callable(my_obj.__init__)"
      ]
    },
    {
      "cell_type": "code",
      "execution_count": null,
      "metadata": {
        "colab": {
          "base_uri": "https://localhost:8080/"
        },
        "id": "gTylWHXo6qXk",
        "outputId": "4b296678-a1a3-4e72-ea41-eb4848894a84"
      },
      "outputs": [
        {
          "data": {
            "text/plain": [
              "True"
            ]
          },
          "execution_count": 806,
          "metadata": {},
          "output_type": "execute_result"
        }
      ],
      "source": [
        "callable(my_obj.__call__)"
      ]
    },
    {
      "cell_type": "code",
      "execution_count": null,
      "metadata": {
        "colab": {
          "base_uri": "https://localhost:8080/"
        },
        "id": "incOqXN066q9",
        "outputId": "c51ae58f-d1be-4add-ab4e-8e6a6a08e32e"
      },
      "outputs": [
        {
          "name": "stdout",
          "output_type": "stream",
          "text": [
            "1\n"
          ]
        }
      ],
      "source": [
        "my_obj()"
      ]
    },
    {
      "cell_type": "code",
      "execution_count": null,
      "metadata": {
        "colab": {
          "base_uri": "https://localhost:8080/"
        },
        "id": "EUqC3GB4686u",
        "outputId": "10218e6c-ecb7-46bb-dcaa-17326f7d365e"
      },
      "outputs": [
        {
          "name": "stdout",
          "output_type": "stream",
          "text": [
            "2\n"
          ]
        }
      ],
      "source": [
        "my_obj()"
      ]
    },
    {
      "cell_type": "code",
      "execution_count": null,
      "metadata": {
        "colab": {
          "base_uri": "https://localhost:8080/"
        },
        "id": "DYvBxAlO6_ZU",
        "outputId": "6665e2e7-2dce-4c00-8220-bd22f5537643"
      },
      "outputs": [
        {
          "name": "stdout",
          "output_type": "stream",
          "text": [
            "12\n"
          ]
        }
      ],
      "source": [
        "my_obj(10)"
      ]
    },
    {
      "cell_type": "code",
      "execution_count": null,
      "metadata": {
        "colab": {
          "base_uri": "https://localhost:8080/"
        },
        "id": "eSkACW7M7suz",
        "outputId": "d0eb63ab-53b9-4dd1-f0dc-1cd396ce7243"
      },
      "outputs": [
        {
          "data": {
            "text/plain": [
              "True"
            ]
          },
          "execution_count": 810,
          "metadata": {},
          "output_type": "execute_result"
        }
      ],
      "source": [
        "callable(my_obj)"
      ]
    },
    {
      "cell_type": "markdown",
      "metadata": {
        "id": "cIGxpdGR-Kgq"
      },
      "source": [
        "### 07 - Map, Fiter, Zip and List Comprehensions"
      ]
    },
    {
      "cell_type": "markdown",
      "metadata": {
        "id": "PXgBnmm1-U5D"
      },
      "source": [
        "**Higher - Order Functions: Map and Filter**"
      ]
    },
    {
      "cell_type": "markdown",
      "metadata": {
        "id": "0pYPUte8--j5"
      },
      "source": [
        "**Definition: ** A function that takes a function as an argument, and/or returns a function as its return value.\n",
        "\n",
        "For example, the `sorted` function is a higher-order function as we saw in an earlier video."
      ]
    },
    {
      "cell_type": "markdown",
      "metadata": {
        "id": "BrH2CL5e_NKt"
      },
      "source": [
        "**Map**"
      ]
    },
    {
      "cell_type": "markdown",
      "metadata": {
        "id": "aLj6PNtM_PFN"
      },
      "source": [
        "The `map` built-in function is a higher-order function that applies a function to an iterable type object:"
      ]
    },
    {
      "cell_type": "code",
      "execution_count": null,
      "metadata": {
        "colab": {
          "base_uri": "https://localhost:8080/"
        },
        "id": "Okdqw_mD70qc",
        "outputId": "5a48f61d-73a1-40d3-a998-4a220e0e6bec"
      },
      "outputs": [
        {
          "name": "stdout",
          "output_type": "stream",
          "text": [
            "Help on class map in module builtins:\n",
            "\n",
            "class map(object)\n",
            " |  map(func, *iterables) --> map object\n",
            " |  \n",
            " |  Make an iterator that computes the function using arguments from\n",
            " |  each of the iterables.  Stops when the shortest iterable is exhausted.\n",
            " |  \n",
            " |  Methods defined here:\n",
            " |  \n",
            " |  __getattribute__(self, name, /)\n",
            " |      Return getattr(self, name).\n",
            " |  \n",
            " |  __iter__(self, /)\n",
            " |      Implement iter(self).\n",
            " |  \n",
            " |  __next__(self, /)\n",
            " |      Implement next(self).\n",
            " |  \n",
            " |  __reduce__(...)\n",
            " |      Return state information for pickling.\n",
            " |  \n",
            " |  ----------------------------------------------------------------------\n",
            " |  Static methods defined here:\n",
            " |  \n",
            " |  __new__(*args, **kwargs) from builtins.type\n",
            " |      Create and return a new object.  See help(type) for accurate signature.\n",
            "\n"
          ]
        }
      ],
      "source": [
        "help(map)"
      ]
    },
    {
      "cell_type": "code",
      "execution_count": null,
      "metadata": {
        "id": "Ggr4LKuI_jr2"
      },
      "outputs": [],
      "source": [
        "def fact(n):\n",
        "    return 1 if n < 2 else n * fact(n-1)"
      ]
    },
    {
      "cell_type": "code",
      "execution_count": null,
      "metadata": {
        "colab": {
          "base_uri": "https://localhost:8080/"
        },
        "id": "dG9QiDkl_r3t",
        "outputId": "665ac216-f3c3-4ea3-a14e-5f337afd5367"
      },
      "outputs": [
        {
          "data": {
            "text/plain": [
              "6"
            ]
          },
          "execution_count": 813,
          "metadata": {},
          "output_type": "execute_result"
        }
      ],
      "source": [
        "fact(3)"
      ]
    },
    {
      "cell_type": "code",
      "execution_count": null,
      "metadata": {
        "colab": {
          "base_uri": "https://localhost:8080/"
        },
        "id": "aQBdD344_s8o",
        "outputId": "ed968a00-e850-4c86-bc1d-9fb740ac44d3"
      },
      "outputs": [
        {
          "data": {
            "text/plain": [
              "24"
            ]
          },
          "execution_count": 814,
          "metadata": {},
          "output_type": "execute_result"
        }
      ],
      "source": [
        "fact(4)"
      ]
    },
    {
      "cell_type": "code",
      "execution_count": null,
      "metadata": {
        "colab": {
          "base_uri": "https://localhost:8080/"
        },
        "id": "iGxOuUhx_uW4",
        "outputId": "288d5ccb-803b-493d-8559-2d32e2066b7f"
      },
      "outputs": [
        {
          "data": {
            "text/plain": [
              "<map at 0x1bd6d4c9070>"
            ]
          },
          "execution_count": 815,
          "metadata": {},
          "output_type": "execute_result"
        }
      ],
      "source": [
        "map(fact, [1, 2, 3, 4, 5])"
      ]
    },
    {
      "cell_type": "markdown",
      "metadata": {
        "id": "4pKcpGsm_yDW"
      },
      "source": [
        "The `map` function returns a `map` object, which is an iterable - we can either convert that to a list or enumerate it:"
      ]
    },
    {
      "cell_type": "code",
      "execution_count": null,
      "metadata": {
        "id": "8arENRKi_w8u"
      },
      "outputs": [],
      "source": [
        "l = list(map(fact, [1, 2, 3, 4, 5]))"
      ]
    },
    {
      "cell_type": "markdown",
      "metadata": {
        "id": "jMRqV_c6__Jv"
      },
      "source": [
        "We can also use it this way:"
      ]
    },
    {
      "cell_type": "code",
      "execution_count": null,
      "metadata": {
        "colab": {
          "base_uri": "https://localhost:8080/"
        },
        "id": "9is_IANP_907",
        "outputId": "2dca4d66-7858-4511-ccc8-6c2b04527873"
      },
      "outputs": [
        {
          "data": {
            "text/plain": [
              "[11, 22, 33, 44, 55]"
            ]
          },
          "execution_count": 817,
          "metadata": {},
          "output_type": "execute_result"
        }
      ],
      "source": [
        "l1 = [1, 2, 3, 4, 5]\n",
        "l2 = [10, 20, 30, 40, 50]\n",
        "\n",
        "f = lambda x, y: x+y\n",
        "\n",
        "m = map(f, l1, l2)\n",
        "list(m)"
      ]
    },
    {
      "cell_type": "markdown",
      "metadata": {
        "id": "KNmIUojaARBK"
      },
      "source": [
        "**Filter**"
      ]
    },
    {
      "cell_type": "code",
      "execution_count": null,
      "metadata": {
        "colab": {
          "base_uri": "https://localhost:8080/"
        },
        "id": "Mo79TyIYAL6R",
        "outputId": "41ae54e9-3c3a-4c5d-834d-a54b35bc15e4"
      },
      "outputs": [
        {
          "name": "stdout",
          "output_type": "stream",
          "text": [
            "Help on class filter in module builtins:\n",
            "\n",
            "class filter(object)\n",
            " |  filter(function or None, iterable) --> filter object\n",
            " |  \n",
            " |  Return an iterator yielding those items of iterable for which function(item)\n",
            " |  is true. If function is None, return the items that are true.\n",
            " |  \n",
            " |  Methods defined here:\n",
            " |  \n",
            " |  __getattribute__(self, name, /)\n",
            " |      Return getattr(self, name).\n",
            " |  \n",
            " |  __iter__(self, /)\n",
            " |      Implement iter(self).\n",
            " |  \n",
            " |  __next__(self, /)\n",
            " |      Implement next(self).\n",
            " |  \n",
            " |  __reduce__(...)\n",
            " |      Return state information for pickling.\n",
            " |  \n",
            " |  ----------------------------------------------------------------------\n",
            " |  Static methods defined here:\n",
            " |  \n",
            " |  __new__(*args, **kwargs) from builtins.type\n",
            " |      Create and return a new object.  See help(type) for accurate signature.\n",
            "\n"
          ]
        }
      ],
      "source": [
        "help(filter)"
      ]
    },
    {
      "cell_type": "markdown",
      "metadata": {
        "id": "7jTzwP7YAcRJ"
      },
      "source": [
        "The `filter` function is a function that filters an iterable based on the truthyness of the elements, or the truthyness of the elements after applying a function to them. Like the `map` function, the `filter` function returns an iterable that we can view by generating a list from it, or simply enumerating in a for loop."
      ]
    },
    {
      "cell_type": "code",
      "execution_count": null,
      "metadata": {
        "colab": {
          "base_uri": "https://localhost:8080/"
        },
        "id": "Z5jTGBmJATUF",
        "outputId": "76dcd31c-d851-45cb-d76b-652115d4c830"
      },
      "outputs": [
        {
          "name": "stdout",
          "output_type": "stream",
          "text": [
            "1\n",
            "2\n",
            "3\n",
            "4\n",
            "5\n",
            "6\n"
          ]
        }
      ],
      "source": [
        "l = [0, 1, 2, 3, 4, 5, 6]\n",
        "for e in filter(None, l):\n",
        "    print(e)"
      ]
    },
    {
      "cell_type": "markdown",
      "metadata": {
        "id": "fDsRTSDbBHL6"
      },
      "source": [
        "Notice how `0` was eliminated from the list, since `0` is `falsy`.\n",
        "\n",
        "We can use a function for this filtering.\n",
        "\n",
        "Suppose we want to filter our all odd values, only retaining even values:\n",
        "\n",
        "We could first define a function to return True if the value is even, and False otherwise:"
      ]
    },
    {
      "cell_type": "code",
      "execution_count": null,
      "metadata": {
        "id": "G1l2aDwNBF2L"
      },
      "outputs": [],
      "source": [
        "def is_even(n):\n",
        "    return n % 2 == 0"
      ]
    },
    {
      "cell_type": "code",
      "execution_count": null,
      "metadata": {
        "colab": {
          "base_uri": "https://localhost:8080/"
        },
        "id": "VqMqAu1nCJJ6",
        "outputId": "d7d4f9e6-6187-4174-d384-31dc392f3eaa"
      },
      "outputs": [
        {
          "name": "stdout",
          "output_type": "stream",
          "text": [
            "[2, 4, 6, 8]\n"
          ]
        }
      ],
      "source": [
        "l = [1, 2, 3, 4, 5, 6, 7, 8, 9]\n",
        "result = filter(is_even, l)\n",
        "print(list(result))"
      ]
    },
    {
      "cell_type": "markdown",
      "metadata": {
        "id": "8gM-XM8nCfXY"
      },
      "source": [
        "Of course, we could just use a lambda expression instead:"
      ]
    },
    {
      "cell_type": "code",
      "execution_count": null,
      "metadata": {
        "colab": {
          "base_uri": "https://localhost:8080/"
        },
        "id": "yEiqDuUtCRC0",
        "outputId": "880956fa-35b9-45c7-af55-c3b2d021b7ff"
      },
      "outputs": [
        {
          "name": "stdout",
          "output_type": "stream",
          "text": [
            "[2, 4, 6, 8]\n"
          ]
        }
      ],
      "source": [
        "l = [1, 2, 3, 4, 5, 6, 7, 8, 9]\n",
        "result = filter(lambda x: x % 2 == 0, l)\n",
        "print(list(result))"
      ]
    },
    {
      "cell_type": "markdown",
      "metadata": {
        "id": "kb5EvsFAC1Ev"
      },
      "source": [
        "**Alternatives to `map` and `filter` using Comprehensions**"
      ]
    },
    {
      "cell_type": "markdown",
      "metadata": {
        "id": "YQ78WMZ7C7KM"
      },
      "source": [
        "We'll cover comprehensions in much more detail later, but, for now, just be aware that we can use comprehensions instead of the `map` and `filter` functions - you decide which one you find more readable and enjoyable to write."
      ]
    },
    {
      "cell_type": "markdown",
      "metadata": {
        "id": "i5nOpeX9DL5f"
      },
      "source": [
        "**Map using a list comprehension:**"
      ]
    },
    {
      "cell_type": "markdown",
      "metadata": {
        "id": "xWl1q-oLDRGa"
      },
      "source": [
        "- factorial example"
      ]
    },
    {
      "cell_type": "code",
      "execution_count": null,
      "metadata": {
        "colab": {
          "base_uri": "https://localhost:8080/"
        },
        "id": "m18G8lVODPht",
        "outputId": "863b6a29-cefc-4b33-94c1-e5435437a119"
      },
      "outputs": [
        {
          "name": "stdout",
          "output_type": "stream",
          "text": [
            "[1, 2, 6, 24, 120]\n"
          ]
        }
      ],
      "source": [
        "l = [1, 2, 3, 4, 5]\n",
        "result = [fact(i) for i in l]\n",
        "print(result)"
      ]
    },
    {
      "cell_type": "markdown",
      "metadata": {
        "id": "llQbaVeaDgFb"
      },
      "source": [
        "- two iterables example"
      ]
    },
    {
      "cell_type": "markdown",
      "metadata": {
        "id": "hc85nx6MDjPk"
      },
      "source": [
        "Before we do this example we need to know about the `zip` function."
      ]
    },
    {
      "cell_type": "markdown",
      "metadata": {
        "id": "Aw74STSPDsMn"
      },
      "source": [
        "The `zip` built-in function will take one or more iterables, and generate an iterable of tuples where each tuple contains one element from each iterable:"
      ]
    },
    {
      "cell_type": "code",
      "execution_count": null,
      "metadata": {
        "colab": {
          "base_uri": "https://localhost:8080/"
        },
        "id": "JK1mMHAsCxrj",
        "outputId": "3432592d-7cdf-45b6-9388-5f4deaffde9c"
      },
      "outputs": [
        {
          "data": {
            "text/plain": [
              "[(1, 'a'), (2, 'b'), (3, 'c')]"
            ]
          },
          "execution_count": 824,
          "metadata": {},
          "output_type": "execute_result"
        }
      ],
      "source": [
        "l1 = 1, 2 ,3\n",
        "l2 = 'a', 'b', 'c'\n",
        "list(zip(l1, l2))"
      ]
    },
    {
      "cell_type": "code",
      "execution_count": null,
      "metadata": {
        "colab": {
          "base_uri": "https://localhost:8080/"
        },
        "id": "lxjd1ZsIFZ1U",
        "outputId": "8462a004-3f8b-49f3-e739-a9fe22daf6cd"
      },
      "outputs": [
        {
          "data": {
            "text/plain": [
              "[(1, 10, 'a'), (2, 20, 'b'), (3, 30, 'c')]"
            ]
          },
          "execution_count": 825,
          "metadata": {},
          "output_type": "execute_result"
        }
      ],
      "source": [
        "l1 = 1, 2, 3\n",
        "l2 = [10, 20, 30]\n",
        "l3 = ('a', 'b', 'c')\n",
        "list(zip(l1, l2, l3))"
      ]
    },
    {
      "cell_type": "code",
      "execution_count": null,
      "metadata": {
        "colab": {
          "base_uri": "https://localhost:8080/"
        },
        "id": "BGqmC6EBFcNE",
        "outputId": "6fc3bccb-4aa9-489c-fb27-fc04b2c2181c"
      },
      "outputs": [
        {
          "data": {
            "text/plain": [
              "[(1, 10, 'a'), (2, 20, 'b'), (3, 30, 'c')]"
            ]
          },
          "execution_count": 826,
          "metadata": {},
          "output_type": "execute_result"
        }
      ],
      "source": [
        "l1 = [1, 2, 3]\n",
        "l2 = (10, 20, 30)\n",
        "l3 = 'abc'\n",
        "list(zip(l1, l2, l3))"
      ]
    },
    {
      "cell_type": "code",
      "execution_count": null,
      "metadata": {
        "colab": {
          "base_uri": "https://localhost:8080/"
        },
        "id": "fCf301FtFdm6",
        "outputId": "838378fa-6a44-44a0-871d-008f39c29717"
      },
      "outputs": [
        {
          "data": {
            "text/plain": [
              "[(0, 'p'), (1, 'y'), (2, 't'), (3, 'h'), (4, 'o'), (5, 'n')]"
            ]
          },
          "execution_count": 827,
          "metadata": {},
          "output_type": "execute_result"
        }
      ],
      "source": [
        "l1 = range(100)\n",
        "l2 = 'python'\n",
        "list(zip(l1, l2))"
      ]
    },
    {
      "cell_type": "markdown",
      "metadata": {
        "id": "0RK-2AQQFg2A"
      },
      "source": [
        "Using the `zip` function we can now add our two lists element by element as follows:"
      ]
    },
    {
      "cell_type": "markdown",
      "metadata": {
        "id": "ulhNOIIGGNMU"
      },
      "source": [
        "**Filtering using a comprehension**"
      ]
    },
    {
      "cell_type": "markdown",
      "metadata": {
        "id": "AsKSmWBnGQbV"
      },
      "source": [
        "We can very easily filter an iterable using a comprehension as follows:"
      ]
    },
    {
      "cell_type": "code",
      "execution_count": null,
      "metadata": {
        "colab": {
          "base_uri": "https://localhost:8080/"
        },
        "id": "mdq6-hH1Fe3k",
        "outputId": "305ddd57-69ce-4fb2-ccfe-9685a04a13e0"
      },
      "outputs": [
        {
          "name": "stdout",
          "output_type": "stream",
          "text": [
            "[2, 4, 6, 8]\n"
          ]
        }
      ],
      "source": [
        "l = [1, 2, 3, 4, 5, 6, 7, 8, 9]\n",
        "\n",
        "result = [i for i in l if i % 2 == 0]\n",
        "print(result)"
      ]
    },
    {
      "cell_type": "markdown",
      "metadata": {
        "id": "yBanCfo1Gf_N"
      },
      "source": [
        "As you can see, we did not even need a lambda expression!"
      ]
    },
    {
      "cell_type": "markdown",
      "metadata": {
        "id": "CYCTaAdlGkej"
      },
      "source": [
        "**Combining `map` and `filter`**"
      ]
    },
    {
      "cell_type": "code",
      "execution_count": null,
      "metadata": {
        "colab": {
          "base_uri": "https://localhost:8080/"
        },
        "id": "cyVOJqpDGeOo",
        "outputId": "294dee9d-7455-4924-af69-ce220d1a1084"
      },
      "outputs": [
        {
          "data": {
            "text/plain": [
              "[0, 1, 4, 9, 16]"
            ]
          },
          "execution_count": 829,
          "metadata": {},
          "output_type": "execute_result"
        }
      ],
      "source": [
        "list(filter(lambda y: y < 25, map(lambda x: x**2, range(10))))"
      ]
    },
    {
      "cell_type": "markdown",
      "metadata": {
        "id": "7GBXCkqfG1fP"
      },
      "source": [
        "Alternatively, we can use a list comprehension to do the same thing:"
      ]
    },
    {
      "cell_type": "code",
      "execution_count": null,
      "metadata": {
        "colab": {
          "base_uri": "https://localhost:8080/"
        },
        "id": "dMxg2IQ8G04r",
        "outputId": "bc5af85e-4163-4e95-f715-5fbe7ec72e43"
      },
      "outputs": [
        {
          "data": {
            "text/plain": [
              "[0, 1, 4, 9, 16]"
            ]
          },
          "execution_count": 830,
          "metadata": {},
          "output_type": "execute_result"
        }
      ],
      "source": [
        "[x**2 for x in range(10) if x**2 < 25]"
      ]
    },
    {
      "cell_type": "markdown",
      "metadata": {
        "id": "ERuo8IggIOCy"
      },
      "source": [
        "### 08 - Reducing Functions"
      ]
    },
    {
      "cell_type": "markdown",
      "metadata": {
        "id": "RM-XHYxWIRVj"
      },
      "source": [
        "**Maximum and Minimum**"
      ]
    },
    {
      "cell_type": "markdown",
      "metadata": {
        "id": "LSbuRjrYIU-i"
      },
      "source": [
        "Suppose we want to find the maximum value in a list:"
      ]
    },
    {
      "cell_type": "code",
      "execution_count": null,
      "metadata": {
        "id": "oNewpFtXHQ4i"
      },
      "outputs": [],
      "source": [
        "l = [5, 8, 6, 10, 9]"
      ]
    },
    {
      "cell_type": "markdown",
      "metadata": {
        "id": "3L2vV7oWIj57"
      },
      "source": [
        "We can solve this problem using a `for` loop.\n",
        "\n",
        "First we define a function that returns the maximum of two arguments:"
      ]
    },
    {
      "cell_type": "code",
      "execution_count": null,
      "metadata": {
        "id": "qvNkXeTWIdbO"
      },
      "outputs": [],
      "source": [
        "_max = lambda a, b: a if a > b else b"
      ]
    },
    {
      "cell_type": "code",
      "execution_count": null,
      "metadata": {
        "id": "dKn2dFQ5Ivdu"
      },
      "outputs": [],
      "source": [
        "def max_sequence(sequence):\n",
        "    result = sequence[0]\n",
        "    for x in sequence[1:]:\n",
        "        result = _max(result, x)\n",
        "    return result"
      ]
    },
    {
      "cell_type": "code",
      "execution_count": null,
      "metadata": {
        "colab": {
          "base_uri": "https://localhost:8080/"
        },
        "id": "iUiWMxt2I5QH",
        "outputId": "23336956-e513-4093-be4c-3793c54a5dfd"
      },
      "outputs": [
        {
          "data": {
            "text/plain": [
              "10"
            ]
          },
          "execution_count": 834,
          "metadata": {},
          "output_type": "execute_result"
        }
      ],
      "source": [
        "max_sequence(l)"
      ]
    },
    {
      "cell_type": "markdown",
      "metadata": {
        "id": "S2Rzsps3JRQq"
      },
      "source": [
        "To calculate the minimum, all we need to do is to change the function that is repeatedly applied:"
      ]
    },
    {
      "cell_type": "code",
      "execution_count": null,
      "metadata": {
        "id": "m0h1dfEqI6jG"
      },
      "outputs": [],
      "source": [
        "_min = lambda a, b: a if a < b else b"
      ]
    },
    {
      "cell_type": "code",
      "execution_count": null,
      "metadata": {
        "id": "8nPBrErgYJXe"
      },
      "outputs": [],
      "source": [
        "def min_sequence(sequence):\n",
        "    result = sequence[0]\n",
        "    for x in sequence[1:]:\n",
        "        result = _min(result, x)\n",
        "    return result"
      ]
    },
    {
      "cell_type": "code",
      "execution_count": null,
      "metadata": {
        "colab": {
          "base_uri": "https://localhost:8080/"
        },
        "id": "1TsT7cbrYMrk",
        "outputId": "cef2f053-106d-4da0-be76-e2637d4b8dad"
      },
      "outputs": [
        {
          "name": "stdout",
          "output_type": "stream",
          "text": [
            "[5, 8, 6, 10, 9]\n",
            "5\n"
          ]
        }
      ],
      "source": [
        "print(l)\n",
        "print(min_sequence(l))"
      ]
    },
    {
      "cell_type": "markdown",
      "metadata": {
        "id": "-PCktpWOYPjp"
      },
      "source": [
        "In general we could write it like this:"
      ]
    },
    {
      "cell_type": "code",
      "execution_count": null,
      "metadata": {
        "id": "K8dIzkAuYOhV"
      },
      "outputs": [],
      "source": [
        "def _reduce(fn, sequence):\n",
        "    result = sequence[0]\n",
        "    for x in sequence[1:]:\n",
        "        result = fn(result, x)\n",
        "    return result"
      ]
    },
    {
      "cell_type": "code",
      "execution_count": null,
      "metadata": {
        "colab": {
          "base_uri": "https://localhost:8080/"
        },
        "id": "6_1lyLfWYauy",
        "outputId": "9bd26a9e-595e-4c98-cedb-2042f7d5d4ae"
      },
      "outputs": [
        {
          "data": {
            "text/plain": [
              "10"
            ]
          },
          "execution_count": 839,
          "metadata": {},
          "output_type": "execute_result"
        }
      ],
      "source": [
        "_reduce(_max, l)"
      ]
    },
    {
      "cell_type": "code",
      "execution_count": null,
      "metadata": {
        "colab": {
          "base_uri": "https://localhost:8080/"
        },
        "id": "K_WSY2KpYcNj",
        "outputId": "47df135e-feb2-4bb6-830c-988ab3f54afa"
      },
      "outputs": [
        {
          "data": {
            "text/plain": [
              "5"
            ]
          },
          "execution_count": 840,
          "metadata": {},
          "output_type": "execute_result"
        }
      ],
      "source": [
        "_reduce(_min, l)"
      ]
    },
    {
      "cell_type": "markdown",
      "metadata": {
        "id": "itoEIyD7Yl-k"
      },
      "source": [
        "We could even just use a lambda direcly in the call to `_reduce`:"
      ]
    },
    {
      "cell_type": "code",
      "execution_count": null,
      "metadata": {
        "colab": {
          "base_uri": "https://localhost:8080/"
        },
        "id": "gHK5eV6sYk2U",
        "outputId": "22bdf148-ea48-445d-ed85-ecaa44a67f54"
      },
      "outputs": [
        {
          "data": {
            "text/plain": [
              "10"
            ]
          },
          "execution_count": 841,
          "metadata": {},
          "output_type": "execute_result"
        }
      ],
      "source": [
        "_reduce(lambda a, b: a if a > b else b, l)"
      ]
    },
    {
      "cell_type": "code",
      "execution_count": null,
      "metadata": {
        "colab": {
          "base_uri": "https://localhost:8080/"
        },
        "id": "lGRb1SDvYwgz",
        "outputId": "62d4dca2-90fb-4cf7-c74c-ce9efc14beb8"
      },
      "outputs": [
        {
          "data": {
            "text/plain": [
              "5"
            ]
          },
          "execution_count": 842,
          "metadata": {},
          "output_type": "execute_result"
        }
      ],
      "source": [
        "_reduce(lambda a, b: a if a < b else b, l)"
      ]
    },
    {
      "cell_type": "markdown",
      "metadata": {
        "id": "QzUYnv8qY1f4"
      },
      "source": [
        "Using the same approach, we could even add all the elements of a sequence together:"
      ]
    },
    {
      "cell_type": "code",
      "execution_count": null,
      "metadata": {
        "colab": {
          "base_uri": "https://localhost:8080/"
        },
        "id": "jJAW4wmtY0MK",
        "outputId": "0b6bc05e-1dd0-4a02-8089-ca67b18a903e"
      },
      "outputs": [
        {
          "name": "stdout",
          "output_type": "stream",
          "text": [
            "[5, 8, 6, 10, 9]\n"
          ]
        }
      ],
      "source": [
        "print(l)"
      ]
    },
    {
      "cell_type": "code",
      "execution_count": null,
      "metadata": {
        "colab": {
          "base_uri": "https://localhost:8080/"
        },
        "id": "ryB7GvmNY85e",
        "outputId": "dcacf713-1da2-4f0e-a46a-33fd0b20ca3a"
      },
      "outputs": [
        {
          "data": {
            "text/plain": [
              "38"
            ]
          },
          "execution_count": 844,
          "metadata": {},
          "output_type": "execute_result"
        }
      ],
      "source": [
        "_reduce(lambda a, b: a + b, l)"
      ]
    },
    {
      "cell_type": "markdown",
      "metadata": {
        "id": "ip6SotlOZQfA"
      },
      "source": [
        "Python actually implements a reduce function, which is found in the `functools` module. Unline our `_reduce` function, it can handle any iterable, not just sequences."
      ]
    },
    {
      "cell_type": "code",
      "execution_count": null,
      "metadata": {
        "id": "NgG8dIZhZAg3"
      },
      "outputs": [],
      "source": [
        "from functools import reduce"
      ]
    },
    {
      "cell_type": "code",
      "execution_count": null,
      "metadata": {
        "colab": {
          "base_uri": "https://localhost:8080/"
        },
        "id": "lvO0ak4mZghx",
        "outputId": "074cd7dd-e749-4ac1-b414-2d6e7f84d21d"
      },
      "outputs": [
        {
          "data": {
            "text/plain": [
              "[5, 8, 6, 10, 9]"
            ]
          },
          "execution_count": 846,
          "metadata": {},
          "output_type": "execute_result"
        }
      ],
      "source": [
        "l"
      ]
    },
    {
      "cell_type": "code",
      "execution_count": null,
      "metadata": {
        "colab": {
          "base_uri": "https://localhost:8080/"
        },
        "id": "zsP2H5_6ZhaN",
        "outputId": "8a08a750-1fb8-472a-9e24-6de58b2de6e2"
      },
      "outputs": [
        {
          "data": {
            "text/plain": [
              "10"
            ]
          },
          "execution_count": 847,
          "metadata": {},
          "output_type": "execute_result"
        }
      ],
      "source": [
        "reduce(lambda a, b: a if a > b else b, l)"
      ]
    },
    {
      "cell_type": "code",
      "execution_count": null,
      "metadata": {
        "colab": {
          "base_uri": "https://localhost:8080/"
        },
        "id": "GJ4e2ZMLZliS",
        "outputId": "fb40d174-fc58-49d2-8d51-d94517cef269"
      },
      "outputs": [
        {
          "data": {
            "text/plain": [
              "5"
            ]
          },
          "execution_count": 848,
          "metadata": {},
          "output_type": "execute_result"
        }
      ],
      "source": [
        "reduce(lambda a, b: a if a < b else b, l)"
      ]
    },
    {
      "cell_type": "code",
      "execution_count": null,
      "metadata": {
        "colab": {
          "base_uri": "https://localhost:8080/"
        },
        "id": "G8LpQ2cjZqEv",
        "outputId": "9aeab656-b5db-44b9-e438-2ed944e75d9b"
      },
      "outputs": [
        {
          "data": {
            "text/plain": [
              "38"
            ]
          },
          "execution_count": 849,
          "metadata": {},
          "output_type": "execute_result"
        }
      ],
      "source": [
        "reduce(lambda a, b: a + b, l)"
      ]
    },
    {
      "cell_type": "markdown",
      "metadata": {
        "id": "Pq7CYAdFZvLi"
      },
      "source": [
        "Finding the max and min of an iterable is such a common thing that Python provides a built-in function to do just that:"
      ]
    },
    {
      "cell_type": "code",
      "execution_count": null,
      "metadata": {
        "colab": {
          "base_uri": "https://localhost:8080/"
        },
        "id": "Pp_CEDTNZs5_",
        "outputId": "e5654244-bd3f-41eb-a112-0720ad23b6f2"
      },
      "outputs": [
        {
          "data": {
            "text/plain": [
              "(10, 5)"
            ]
          },
          "execution_count": 850,
          "metadata": {},
          "output_type": "execute_result"
        }
      ],
      "source": [
        "max(l), min(l)"
      ]
    },
    {
      "cell_type": "markdown",
      "metadata": {
        "id": "_a1qDXLgZ5KG"
      },
      "source": [
        "Finding the sum of all the elements in an iterable is also common enough that Python implements the `sum` function:"
      ]
    },
    {
      "cell_type": "code",
      "execution_count": null,
      "metadata": {
        "colab": {
          "base_uri": "https://localhost:8080/"
        },
        "id": "TPOiTnbUZ4Jv",
        "outputId": "b7e4aa1b-3b1c-4708-b5b6-733dd6819975"
      },
      "outputs": [
        {
          "data": {
            "text/plain": [
              "38"
            ]
          },
          "execution_count": 851,
          "metadata": {},
          "output_type": "execute_result"
        }
      ],
      "source": [
        "sum(l)"
      ]
    },
    {
      "cell_type": "markdown",
      "metadata": {
        "id": "IUTlS2YSaHcs"
      },
      "source": [
        "**The `any` and `all` built-ins**"
      ]
    },
    {
      "cell_type": "markdown",
      "metadata": {
        "id": "h55C-a5kbolA"
      },
      "source": [
        "Python provides two additional built-in reducing functions: `any` and `all`\n",
        "\n",
        "The `any` function will return `True` if any element in the iterable is truthy:"
      ]
    },
    {
      "cell_type": "code",
      "execution_count": null,
      "metadata": {
        "colab": {
          "base_uri": "https://localhost:8080/"
        },
        "id": "LXngE42baECV",
        "outputId": "abbf6cf4-0720-4112-f6d9-84aaddd9efab"
      },
      "outputs": [
        {
          "data": {
            "text/plain": [
              "True"
            ]
          },
          "execution_count": 852,
          "metadata": {},
          "output_type": "execute_result"
        }
      ],
      "source": [
        "l = [0, 1, 2]\n",
        "any(l)"
      ]
    },
    {
      "cell_type": "code",
      "execution_count": null,
      "metadata": {
        "colab": {
          "base_uri": "https://localhost:8080/"
        },
        "id": "BTsPf7z-b1-N",
        "outputId": "5a0c1663-34f4-47dc-c3de-08864ba4e761"
      },
      "outputs": [
        {
          "data": {
            "text/plain": [
              "False"
            ]
          },
          "execution_count": 853,
          "metadata": {},
          "output_type": "execute_result"
        }
      ],
      "source": [
        "l = [0, 0, 0]\n",
        "any(l)"
      ]
    },
    {
      "cell_type": "markdown",
      "metadata": {
        "id": "dcDlonYHcpj7"
      },
      "source": [
        "On the other hand, `all` will return True if every element of the iterable is truthy:"
      ]
    },
    {
      "cell_type": "code",
      "execution_count": null,
      "metadata": {
        "colab": {
          "base_uri": "https://localhost:8080/"
        },
        "id": "pQjuWckNcS51",
        "outputId": "cc08db0e-e1ec-4410-acbb-cf3f39697bb9"
      },
      "outputs": [
        {
          "data": {
            "text/plain": [
              "False"
            ]
          },
          "execution_count": 854,
          "metadata": {},
          "output_type": "execute_result"
        }
      ],
      "source": [
        "l = [0, 1, 2]\n",
        "all(l)"
      ]
    },
    {
      "cell_type": "code",
      "execution_count": null,
      "metadata": {
        "colab": {
          "base_uri": "https://localhost:8080/"
        },
        "id": "oqRQcdmOc080",
        "outputId": "be3622cc-c6f1-4ab4-ff42-b95d04345995"
      },
      "outputs": [
        {
          "data": {
            "text/plain": [
              "True"
            ]
          },
          "execution_count": 855,
          "metadata": {},
          "output_type": "execute_result"
        }
      ],
      "source": [
        "l = [1, 2, 3]\n",
        "all(l)"
      ]
    },
    {
      "cell_type": "markdown",
      "metadata": {
        "id": "STjZ1aEkc4C3"
      },
      "source": [
        "We can implement these functions ourselves using `reduce` if we choose to - simply use the Boolean `or` or `and` operators as the function passed to `reduce` to implement `any` and `all` respectively."
      ]
    },
    {
      "cell_type": "markdown",
      "metadata": {
        "id": "yA-Cz-QFdIgb"
      },
      "source": [
        "**any**"
      ]
    },
    {
      "cell_type": "code",
      "execution_count": null,
      "metadata": {
        "colab": {
          "base_uri": "https://localhost:8080/"
        },
        "id": "co2ZWLOuc2v3",
        "outputId": "f23196b2-ec65-449f-bedd-35219381ee17"
      },
      "outputs": [
        {
          "data": {
            "text/plain": [
              "True"
            ]
          },
          "execution_count": 856,
          "metadata": {},
          "output_type": "execute_result"
        }
      ],
      "source": [
        "l = [0, 1, 2]\n",
        "reduce(lambda a, b: bool(a or b), l)"
      ]
    },
    {
      "cell_type": "code",
      "execution_count": null,
      "metadata": {
        "colab": {
          "base_uri": "https://localhost:8080/"
        },
        "id": "DfyIm6MwdPHU",
        "outputId": "d2ae8c42-918c-4c13-9f1a-21a8bd43d493"
      },
      "outputs": [
        {
          "data": {
            "text/plain": [
              "False"
            ]
          },
          "execution_count": 857,
          "metadata": {},
          "output_type": "execute_result"
        }
      ],
      "source": [
        "l = [0, 0 ,0]\n",
        "reduce(lambda a, b: bool(a or b), l)"
      ]
    },
    {
      "cell_type": "markdown",
      "metadata": {
        "id": "sm6J_XpFdavW"
      },
      "source": [
        "**all**"
      ]
    },
    {
      "cell_type": "code",
      "execution_count": null,
      "metadata": {
        "colab": {
          "base_uri": "https://localhost:8080/"
        },
        "id": "TPo4xIYhdYnu",
        "outputId": "d265f17b-1230-49d8-c01e-f06bf22d349a"
      },
      "outputs": [
        {
          "data": {
            "text/plain": [
              "False"
            ]
          },
          "execution_count": 858,
          "metadata": {},
          "output_type": "execute_result"
        }
      ],
      "source": [
        "l = [0, 1, 2]\n",
        "reduce(lambda a, b: bool(a and b), l)"
      ]
    },
    {
      "cell_type": "code",
      "execution_count": null,
      "metadata": {
        "colab": {
          "base_uri": "https://localhost:8080/"
        },
        "id": "gf_p93IddkVX",
        "outputId": "ba13bcf9-70c3-46a9-ec95-ac12574c16e1"
      },
      "outputs": [
        {
          "data": {
            "text/plain": [
              "True"
            ]
          },
          "execution_count": 859,
          "metadata": {},
          "output_type": "execute_result"
        }
      ],
      "source": [
        "l = [1, 2, 3]\n",
        "reduce(lambda a, b: bool(a and b), l)"
      ]
    },
    {
      "cell_type": "markdown",
      "metadata": {
        "id": "R9h9tHxRdzOL"
      },
      "source": [
        "**Products**"
      ]
    },
    {
      "cell_type": "markdown",
      "metadata": {
        "id": "4xDhE-2Jd1iC"
      },
      "source": [
        "Sometimes we may want to find the product of every element of an iterable.\n",
        "\n",
        "Python does not provide us a built-in method to do this, so we have to either use a procedural approach, or we can use the `reduce` function.\n",
        "\n",
        "We start by defining a function that multiplies two arguments together:"
      ]
    },
    {
      "cell_type": "code",
      "execution_count": null,
      "metadata": {
        "id": "-tjel_NrdsR-"
      },
      "outputs": [],
      "source": [
        "def mult(a, b):\n",
        "    return a * b"
      ]
    },
    {
      "cell_type": "markdown",
      "metadata": {
        "id": "hCU0IgKVeTe3"
      },
      "source": [
        "Then we can use the `reduce` function:"
      ]
    },
    {
      "cell_type": "code",
      "execution_count": null,
      "metadata": {
        "colab": {
          "base_uri": "https://localhost:8080/"
        },
        "id": "H3ist2fMeS3n",
        "outputId": "3505917d-8438-4141-c7d3-70e6196c2eed"
      },
      "outputs": [
        {
          "data": {
            "text/plain": [
              "24"
            ]
          },
          "execution_count": 861,
          "metadata": {},
          "output_type": "execute_result"
        }
      ],
      "source": [
        "l = [2, 3, 4]\n",
        "reduce(mult, l)"
      ]
    },
    {
      "cell_type": "markdown",
      "metadata": {
        "id": "fi05WpLpeZ6Z"
      },
      "source": [
        "Remember what this did:\n",
        "\n",
        "```\n",
        "step 1: result = 2\n",
        "step 2: result = mult(result, 3) = mult(2, 3) = 6\n",
        "step 3: result = mult(result, 4) = mult(6, 4) = 24\n",
        "step 4: l exhausted, return result --> 24\n",
        "\n",
        "```"
      ]
    },
    {
      "cell_type": "markdown",
      "metadata": {
        "id": "He_A5VHxfyTX"
      },
      "source": [
        "Of course, we can also just use a lambda:"
      ]
    },
    {
      "cell_type": "code",
      "execution_count": null,
      "metadata": {
        "colab": {
          "base_uri": "https://localhost:8080/"
        },
        "id": "oEiJ5H-oeY6i",
        "outputId": "be3dff41-b309-4250-f3b2-a6084bf3f58f"
      },
      "outputs": [
        {
          "data": {
            "text/plain": [
              "24"
            ]
          },
          "execution_count": 862,
          "metadata": {},
          "output_type": "execute_result"
        }
      ],
      "source": [
        "reduce(lambda a, b: a * b, l)"
      ]
    },
    {
      "cell_type": "markdown",
      "metadata": {
        "id": "kmdjx3uXf4e_"
      },
      "source": [
        "**Factorials**"
      ]
    },
    {
      "cell_type": "markdown",
      "metadata": {
        "id": "Xcvl530rf7t6"
      },
      "source": [
        "A special case of the product we just did would be calculating  the factorial of some number `(n!)`:\n",
        "\n",
        "Recall:\n",
        "\n",
        "`n! = 1 * 2 * 3 * ... * n`\n",
        "\n",
        "In other words, we are calculating the product of a sequence containing consecutive integers from 1 to n (inclusive)\n",
        "\n",
        "We can easily writ this using a simple for loop:"
      ]
    },
    {
      "cell_type": "code",
      "execution_count": null,
      "metadata": {
        "id": "u6m-c2O4f3EK"
      },
      "outputs": [],
      "source": [
        "def fact(n):\n",
        "    if n <= 1:\n",
        "        return 1\n",
        "    else:\n",
        "        result = 1\n",
        "        for i in range(2, n+1):\n",
        "            result *= i\n",
        "        return result"
      ]
    },
    {
      "cell_type": "code",
      "execution_count": null,
      "metadata": {
        "colab": {
          "base_uri": "https://localhost:8080/"
        },
        "id": "y8_ywW-mge5y",
        "outputId": "0e0d993e-e62f-4e86-99dc-d2c8ebb61ccd"
      },
      "outputs": [
        {
          "data": {
            "text/plain": [
              "(1, 2, 6, 24, 120)"
            ]
          },
          "execution_count": 864,
          "metadata": {},
          "output_type": "execute_result"
        }
      ],
      "source": [
        "fact(1), fact(2), fact(3), fact(4), fact(5)"
      ]
    },
    {
      "cell_type": "markdown",
      "metadata": {
        "id": "OBi1kY-lgrgt"
      },
      "source": [
        "We could also write this using a recursive function:"
      ]
    },
    {
      "cell_type": "code",
      "execution_count": null,
      "metadata": {
        "id": "GzT7ImhcgixP"
      },
      "outputs": [],
      "source": [
        "def fact(n):\n",
        "    if n <= 1:\n",
        "        return 1\n",
        "    else:\n",
        "        return n * fact(n-1)"
      ]
    },
    {
      "cell_type": "code",
      "execution_count": null,
      "metadata": {
        "colab": {
          "base_uri": "https://localhost:8080/"
        },
        "id": "y9W2sifpgy2e",
        "outputId": "c65697ba-7ba7-4813-f66c-049969fb42c8"
      },
      "outputs": [
        {
          "data": {
            "text/plain": [
              "(1, 2, 6, 24, 120)"
            ]
          },
          "execution_count": 866,
          "metadata": {},
          "output_type": "execute_result"
        }
      ],
      "source": [
        "fact(1), fact(2), fact(3), fact(4), fact(5)"
      ]
    },
    {
      "cell_type": "markdown",
      "metadata": {
        "id": "zyYOuEvRhKDR"
      },
      "source": [
        "Finally we can also write this using `reduce` as follows:"
      ]
    },
    {
      "cell_type": "code",
      "execution_count": null,
      "metadata": {
        "colab": {
          "base_uri": "https://localhost:8080/"
        },
        "id": "I95YXgCRg0ul",
        "outputId": "14e933d5-a2af-410f-ac41-a839db88874d"
      },
      "outputs": [
        {
          "data": {
            "text/plain": [
              "120"
            ]
          },
          "execution_count": 867,
          "metadata": {},
          "output_type": "execute_result"
        }
      ],
      "source": [
        "n = 5\n",
        "reduce(lambda a, b: a * b, range(1, n+1))"
      ]
    },
    {
      "cell_type": "markdown",
      "metadata": {
        "id": "5PhG-2VmhU6V"
      },
      "source": [
        "As you can see, the `reduce` approach, although concise, is sometimes more difficult to understand than the plain loop or recursive approach."
      ]
    },
    {
      "cell_type": "markdown",
      "metadata": {
        "id": "gVZ9bLeehd4q"
      },
      "source": [
        "**`reduce` initializer**"
      ]
    },
    {
      "cell_type": "markdown",
      "metadata": {
        "id": "G7s5ye2zhhO6"
      },
      "source": [
        "Suppose we want to provide some sort of default when calculate the product of the elements of an iterable if that iterable is empty:"
      ]
    },
    {
      "cell_type": "code",
      "execution_count": null,
      "metadata": {
        "colab": {
          "base_uri": "https://localhost:8080/"
        },
        "id": "eljeqCcXhThw",
        "outputId": "ccb4ff1d-821a-4cdc-db2d-f94d97da961b"
      },
      "outputs": [
        {
          "data": {
            "text/plain": [
              "6"
            ]
          },
          "execution_count": 868,
          "metadata": {},
          "output_type": "execute_result"
        }
      ],
      "source": [
        "l = [1, 2, 3]\n",
        "reduce(lambda x, y: x*y, l)"
      ]
    },
    {
      "cell_type": "markdown",
      "metadata": {
        "id": "kahYrMHOhvJT"
      },
      "source": [
        "but if `l` is empty:"
      ]
    },
    {
      "cell_type": "code",
      "execution_count": null,
      "metadata": {
        "colab": {
          "base_uri": "https://localhost:8080/",
          "height": 184
        },
        "id": "y4IBCa37huCT",
        "outputId": "42c3fab7-ab3d-42f5-85df-fe132d449355"
      },
      "outputs": [
        {
          "ename": "TypeError",
          "evalue": "reduce() of empty sequence with no initial value",
          "output_type": "error",
          "traceback": [
            "\u001b[1;31m---------------------------------------------------------------------------\u001b[0m",
            "\u001b[1;31mTypeError\u001b[0m                                 Traceback (most recent call last)",
            "Input \u001b[1;32mIn [869]\u001b[0m, in \u001b[0;36m<cell line: 2>\u001b[1;34m()\u001b[0m\n\u001b[0;32m      1\u001b[0m l \u001b[38;5;241m=\u001b[39m []\n\u001b[1;32m----> 2\u001b[0m \u001b[43mreduce\u001b[49m\u001b[43m(\u001b[49m\u001b[38;5;28;43;01mlambda\u001b[39;49;00m\u001b[43m \u001b[49m\u001b[43mx\u001b[49m\u001b[43m,\u001b[49m\u001b[43m \u001b[49m\u001b[43my\u001b[49m\u001b[43m:\u001b[49m\u001b[43m \u001b[49m\u001b[43mx\u001b[49m\u001b[38;5;241;43m*\u001b[39;49m\u001b[43my\u001b[49m\u001b[43m,\u001b[49m\u001b[43m \u001b[49m\u001b[43ml\u001b[49m\u001b[43m)\u001b[49m\n",
            "\u001b[1;31mTypeError\u001b[0m: reduce() of empty sequence with no initial value"
          ]
        }
      ],
      "source": [
        "l = []\n",
        "reduce(lambda x, y: x*y, l)"
      ]
    },
    {
      "cell_type": "markdown",
      "metadata": {
        "id": "_qbewIDlh1gm"
      },
      "source": [
        "To fix this, we can provide an initializer. In tihs case, we will use `1` since that will not affect the result of the product, and still allow us to return a value for an empty iterable."
      ]
    },
    {
      "cell_type": "code",
      "execution_count": null,
      "metadata": {
        "colab": {
          "base_uri": "https://localhost:8080/"
        },
        "id": "oG8T5ZAch0bT",
        "outputId": "ecb9f4da-8bb3-45f2-95a0-83b91d979014"
      },
      "outputs": [
        {
          "data": {
            "text/plain": [
              "1"
            ]
          },
          "execution_count": 870,
          "metadata": {},
          "output_type": "execute_result"
        }
      ],
      "source": [
        "l = []\n",
        "reduce(lambda x, y: x*y, l, 1)"
      ]
    },
    {
      "cell_type": "markdown",
      "metadata": {
        "id": "7LqdHMJSio25"
      },
      "source": [
        "### 09 - Partial Functions"
      ]
    },
    {
      "cell_type": "code",
      "execution_count": null,
      "metadata": {
        "id": "qe6pjuAoih5s"
      },
      "outputs": [],
      "source": [
        "from functools import partial"
      ]
    },
    {
      "cell_type": "code",
      "execution_count": null,
      "metadata": {
        "id": "WVd7GrmRiuC8"
      },
      "outputs": [],
      "source": [
        "def my_func(a, b, c):\n",
        "    print(a, b, c)"
      ]
    },
    {
      "cell_type": "code",
      "execution_count": null,
      "metadata": {
        "id": "WgTaBDBoix4g"
      },
      "outputs": [],
      "source": [
        "f = partial(my_func, 10)"
      ]
    },
    {
      "cell_type": "code",
      "execution_count": null,
      "metadata": {
        "colab": {
          "base_uri": "https://localhost:8080/"
        },
        "id": "WVqHXrfTizva",
        "outputId": "00614b3d-f86f-4c64-d377-a73535460252"
      },
      "outputs": [
        {
          "name": "stdout",
          "output_type": "stream",
          "text": [
            "10 20 30\n"
          ]
        }
      ],
      "source": [
        "f(20, 30)"
      ]
    },
    {
      "cell_type": "markdown",
      "metadata": {
        "id": "0o5hFEWAjKRv"
      },
      "source": [
        "We could have done this using another function (or a lambda) as well:"
      ]
    },
    {
      "cell_type": "code",
      "execution_count": null,
      "metadata": {
        "id": "kr4vT3TMi1Zf"
      },
      "outputs": [],
      "source": [
        "def partial_func(b, c):\n",
        "    return my_func(10, b, c)"
      ]
    },
    {
      "cell_type": "code",
      "execution_count": null,
      "metadata": {
        "colab": {
          "base_uri": "https://localhost:8080/"
        },
        "id": "7GJc6cxpjTZr",
        "outputId": "2a16e75a-7ed9-4504-a72b-f44f3c541629"
      },
      "outputs": [
        {
          "name": "stdout",
          "output_type": "stream",
          "text": [
            "10 20 30\n"
          ]
        }
      ],
      "source": [
        "partial_func(20, 30)"
      ]
    },
    {
      "cell_type": "markdown",
      "metadata": {
        "id": "yj4eWCQKjXaM"
      },
      "source": [
        "or, using a lambda:"
      ]
    },
    {
      "cell_type": "code",
      "execution_count": null,
      "metadata": {
        "id": "WEenMQ__jVhP"
      },
      "outputs": [],
      "source": [
        "fn = lambda b, c: my_func(10, b, c)"
      ]
    },
    {
      "cell_type": "code",
      "execution_count": null,
      "metadata": {
        "colab": {
          "base_uri": "https://localhost:8080/"
        },
        "id": "rJAxD-mSjfBY",
        "outputId": "dfb2516c-73f0-4214-940d-e1ee197ab1ab"
      },
      "outputs": [
        {
          "name": "stdout",
          "output_type": "stream",
          "text": [
            "10 20 30\n"
          ]
        }
      ],
      "source": [
        "fn(20, 30)"
      ]
    },
    {
      "cell_type": "markdown",
      "metadata": {
        "id": "MehHEW3tjh1E"
      },
      "source": [
        "Any of these ways is fine, but sometimes partial is just a cleaner more concise way to do it.\n",
        "\n",
        "Also, it is quite flexible with parameters:"
      ]
    },
    {
      "cell_type": "code",
      "execution_count": null,
      "metadata": {
        "id": "nv1W-q08jfzA"
      },
      "outputs": [],
      "source": [
        "def my_func(a, b, *args, k1, k2, **kwargs):\n",
        "    print(a, b, args, k1, k2, kwargs)"
      ]
    },
    {
      "cell_type": "code",
      "execution_count": null,
      "metadata": {
        "id": "1jYc9m7yjysU"
      },
      "outputs": [],
      "source": [
        "f = partial(my_func, 10, k1='a')"
      ]
    },
    {
      "cell_type": "code",
      "execution_count": null,
      "metadata": {
        "colab": {
          "base_uri": "https://localhost:8080/"
        },
        "id": "bFqJWH5nj2G2",
        "outputId": "f175a3da-86b5-4a61-9e42-3301391e9b25"
      },
      "outputs": [
        {
          "name": "stdout",
          "output_type": "stream",
          "text": [
            "10 20 (30, 40) a b {'k3': 'c'}\n"
          ]
        }
      ],
      "source": [
        "f(20, 30, 40, k2='b', k3='c')"
      ]
    },
    {
      "cell_type": "markdown",
      "metadata": {
        "id": "bF9WEuZDj62b"
      },
      "source": [
        "We can of course do the same thing using a regular function too:"
      ]
    },
    {
      "cell_type": "code",
      "execution_count": null,
      "metadata": {
        "id": "SasOj-dKj55o"
      },
      "outputs": [],
      "source": [
        "def f(b, *args, k2, **kwargs):\n",
        "    return my_func(10, b, *args, k1='a', k2=k2, **kwargs)"
      ]
    },
    {
      "cell_type": "code",
      "execution_count": null,
      "metadata": {
        "colab": {
          "base_uri": "https://localhost:8080/"
        },
        "id": "HNkMoSLfkGba",
        "outputId": "a9734ddc-9fe7-45a2-bbaf-b76cd4868e1a"
      },
      "outputs": [
        {
          "name": "stdout",
          "output_type": "stream",
          "text": [
            "10 20 (30, 40) a b {'k3': 'c'}\n"
          ]
        }
      ],
      "source": [
        "f(20, 30, 40, k2='b', k3='c')"
      ]
    },
    {
      "cell_type": "markdown",
      "metadata": {
        "id": "WWcUhA_VkKiu"
      },
      "source": [
        "As you can see in this case, using `partial` seems a lot simpler.\n",
        "\n",
        "Also, you are not stuck having to specify the first argument in your partial:"
      ]
    },
    {
      "cell_type": "code",
      "execution_count": null,
      "metadata": {
        "id": "_-dohGvGkJgG"
      },
      "outputs": [],
      "source": [
        "def power(base, exponent):\n",
        "    return base ** exponent"
      ]
    },
    {
      "cell_type": "code",
      "execution_count": null,
      "metadata": {
        "colab": {
          "base_uri": "https://localhost:8080/"
        },
        "id": "Ina-I8hNkXzm",
        "outputId": "6e3f7ec0-56b3-4aff-b973-bab44d28084c"
      },
      "outputs": [
        {
          "data": {
            "text/plain": [
              "8"
            ]
          },
          "execution_count": 885,
          "metadata": {},
          "output_type": "execute_result"
        }
      ],
      "source": [
        "power(2, 3)"
      ]
    },
    {
      "cell_type": "code",
      "execution_count": null,
      "metadata": {
        "id": "A9e8tGJZkYgr"
      },
      "outputs": [],
      "source": [
        "square = partial(power, exponent=2)"
      ]
    },
    {
      "cell_type": "code",
      "execution_count": null,
      "metadata": {
        "colab": {
          "base_uri": "https://localhost:8080/"
        },
        "id": "7iRD6Tr2kbI2",
        "outputId": "6a45860c-eea6-493f-de75-bcbdbd23b977"
      },
      "outputs": [
        {
          "data": {
            "text/plain": [
              "16"
            ]
          },
          "execution_count": 887,
          "metadata": {},
          "output_type": "execute_result"
        }
      ],
      "source": [
        "square(4)"
      ]
    },
    {
      "cell_type": "code",
      "execution_count": null,
      "metadata": {
        "id": "e1dVNEPXkfgK"
      },
      "outputs": [],
      "source": [
        "cube = partial(power, exponent=3)"
      ]
    },
    {
      "cell_type": "code",
      "execution_count": null,
      "metadata": {
        "colab": {
          "base_uri": "https://localhost:8080/"
        },
        "id": "pGp5VQMxktXs",
        "outputId": "c9df6aa7-3637-462f-f941-b4378fee1827"
      },
      "outputs": [
        {
          "data": {
            "text/plain": [
              "8"
            ]
          },
          "execution_count": 889,
          "metadata": {},
          "output_type": "execute_result"
        }
      ],
      "source": [
        "cube(2)"
      ]
    },
    {
      "cell_type": "code",
      "execution_count": null,
      "metadata": {
        "colab": {
          "base_uri": "https://localhost:8080/",
          "height": 166
        },
        "id": "XFPe4ZAtuwBP",
        "outputId": "ee5c4817-b5ac-4cd1-cc9d-209dd98196f6"
      },
      "outputs": [
        {
          "ename": "TypeError",
          "evalue": "power() got multiple values for argument 'exponent'",
          "output_type": "error",
          "traceback": [
            "\u001b[1;31m---------------------------------------------------------------------------\u001b[0m",
            "\u001b[1;31mTypeError\u001b[0m                                 Traceback (most recent call last)",
            "Input \u001b[1;32mIn [890]\u001b[0m, in \u001b[0;36m<cell line: 1>\u001b[1;34m()\u001b[0m\n\u001b[1;32m----> 1\u001b[0m \u001b[43mcube\u001b[49m\u001b[43m(\u001b[49m\u001b[38;5;241;43m2\u001b[39;49m\u001b[43m,\u001b[49m\u001b[43m \u001b[49m\u001b[38;5;241;43m4\u001b[39;49m\u001b[43m)\u001b[49m\n",
            "\u001b[1;31mTypeError\u001b[0m: power() got multiple values for argument 'exponent'"
          ]
        }
      ],
      "source": [
        "cube(2, 4)"
      ]
    },
    {
      "cell_type": "markdown",
      "metadata": {
        "id": "agL1W8w1kvMA"
      },
      "source": [
        "You can even call it this way:"
      ]
    },
    {
      "cell_type": "code",
      "execution_count": null,
      "metadata": {
        "colab": {
          "base_uri": "https://localhost:8080/"
        },
        "id": "Rr47XfiKu0Gy",
        "outputId": "8bd7175e-bc10-4856-c0c6-9f5a6811227e"
      },
      "outputs": [
        {
          "data": {
            "text/plain": [
              "16"
            ]
          },
          "execution_count": 891,
          "metadata": {},
          "output_type": "execute_result"
        }
      ],
      "source": [
        "cube(2, exponent=4)"
      ]
    },
    {
      "cell_type": "code",
      "execution_count": null,
      "metadata": {
        "colab": {
          "base_uri": "https://localhost:8080/"
        },
        "id": "wLhiuAFokuaO",
        "outputId": "59c0bac0-31bd-448d-f93f-e365551658db"
      },
      "outputs": [
        {
          "data": {
            "text/plain": [
              "27"
            ]
          },
          "execution_count": 892,
          "metadata": {},
          "output_type": "execute_result"
        }
      ],
      "source": [
        "cube(base=3)"
      ]
    },
    {
      "cell_type": "code",
      "execution_count": null,
      "metadata": {
        "id": "vPeLuflfkyec"
      },
      "outputs": [],
      "source": [
        "func1 = partial(power, 4)"
      ]
    },
    {
      "cell_type": "code",
      "execution_count": null,
      "metadata": {
        "colab": {
          "base_uri": "https://localhost:8080/"
        },
        "id": "JKeYYWPmk33O",
        "outputId": "380db933-b3ed-4abb-c557-2b7bc43f330b"
      },
      "outputs": [
        {
          "data": {
            "text/plain": [
              "16"
            ]
          },
          "execution_count": 894,
          "metadata": {},
          "output_type": "execute_result"
        }
      ],
      "source": [
        "func1(2)"
      ]
    },
    {
      "cell_type": "code",
      "execution_count": null,
      "metadata": {
        "id": "H8EoGzPPk6aY"
      },
      "outputs": [],
      "source": [
        "def my_func1(a, b, c):\n",
        "    return [a, b, c]"
      ]
    },
    {
      "cell_type": "code",
      "execution_count": null,
      "metadata": {
        "colab": {
          "base_uri": "https://localhost:8080/"
        },
        "id": "4KjHftVflnwM",
        "outputId": "17a171a5-13e1-4510-86b6-e10d2b8c461b"
      },
      "outputs": [
        {
          "data": {
            "text/plain": [
              "[4, 1, 2]"
            ]
          },
          "execution_count": 896,
          "metadata": {},
          "output_type": "execute_result"
        }
      ],
      "source": [
        "func1 = partial(my_func1, 4)\n",
        "func1(1,2)"
      ]
    },
    {
      "cell_type": "code",
      "execution_count": null,
      "metadata": {
        "colab": {
          "base_uri": "https://localhost:8080/"
        },
        "id": "6Q7mEIv4mCmZ",
        "outputId": "b0594d0a-8cc8-4f36-b3c8-1a7fbfbf5eb3"
      },
      "outputs": [
        {
          "data": {
            "text/plain": [
              "[1, 2, 4]"
            ]
          },
          "execution_count": 897,
          "metadata": {},
          "output_type": "execute_result"
        }
      ],
      "source": [
        "func1 = partial(my_func1, c=4)\n",
        "func1(1,2)"
      ]
    },
    {
      "cell_type": "code",
      "execution_count": null,
      "metadata": {
        "colab": {
          "base_uri": "https://localhost:8080/",
          "height": 184
        },
        "id": "AeYRNvG_mkts",
        "outputId": "3f72fae2-47c7-420a-c9dc-b891daa218e3"
      },
      "outputs": [
        {
          "ename": "TypeError",
          "evalue": "my_func1() got multiple values for argument 'b'",
          "output_type": "error",
          "traceback": [
            "\u001b[1;31m---------------------------------------------------------------------------\u001b[0m",
            "\u001b[1;31mTypeError\u001b[0m                                 Traceback (most recent call last)",
            "Input \u001b[1;32mIn [898]\u001b[0m, in \u001b[0;36m<cell line: 2>\u001b[1;34m()\u001b[0m\n\u001b[0;32m      1\u001b[0m func1 \u001b[38;5;241m=\u001b[39m partial(my_func1, b\u001b[38;5;241m=\u001b[39m\u001b[38;5;241m4\u001b[39m)\n\u001b[1;32m----> 2\u001b[0m \u001b[43mfunc1\u001b[49m\u001b[43m(\u001b[49m\u001b[38;5;241;43m1\u001b[39;49m\u001b[43m,\u001b[49m\u001b[38;5;241;43m2\u001b[39;49m\u001b[43m)\u001b[49m\n",
            "\u001b[1;31mTypeError\u001b[0m: my_func1() got multiple values for argument 'b'"
          ]
        }
      ],
      "source": [
        "func1 = partial(my_func1, b=4)\n",
        "func1(1,2)"
      ]
    },
    {
      "cell_type": "markdown",
      "metadata": {
        "id": "tuLyn2YnmzwR"
      },
      "source": [
        "\n",
        "\n",
        "---\n",
        "**BE CAREFUL!**\n"
      ]
    },
    {
      "cell_type": "markdown",
      "metadata": {
        "id": "TipmCJeum4Oy"
      },
      "source": [
        "**CAVEAT**\n",
        "\n",
        "*We can certainly use variables of literals when creating partials, but we have to be careful.*"
      ]
    },
    {
      "cell_type": "code",
      "execution_count": null,
      "metadata": {
        "id": "tuF8bsj1mnhx"
      },
      "outputs": [],
      "source": [
        "def my_func(a, b, c):\n",
        "    print(a, b, c)"
      ]
    },
    {
      "cell_type": "code",
      "execution_count": null,
      "metadata": {
        "id": "NmsCKZ99oa-v"
      },
      "outputs": [],
      "source": [
        "a = 10\n",
        "f = partial(my_func, a)"
      ]
    },
    {
      "cell_type": "code",
      "execution_count": null,
      "metadata": {
        "colab": {
          "base_uri": "https://localhost:8080/"
        },
        "id": "AoCcZ_djoc0H",
        "outputId": "751c88e0-645d-4908-baaf-f5472228cd3e"
      },
      "outputs": [
        {
          "name": "stdout",
          "output_type": "stream",
          "text": [
            "10 20 30\n"
          ]
        }
      ],
      "source": [
        "f(20, 30)"
      ]
    },
    {
      "cell_type": "markdown",
      "metadata": {
        "id": "A0S9cbxNoiOY"
      },
      "source": [
        "*Now let's change the value of the variable `a` and see what happens:*"
      ]
    },
    {
      "cell_type": "code",
      "execution_count": null,
      "metadata": {
        "id": "S-HZ2z5jog_8"
      },
      "outputs": [],
      "source": [
        "a = 100"
      ]
    },
    {
      "cell_type": "code",
      "execution_count": null,
      "metadata": {
        "colab": {
          "base_uri": "https://localhost:8080/"
        },
        "id": "7Hyh8wxIonBR",
        "outputId": "66323f28-ef40-4bd0-ca04-78fe0394c10e"
      },
      "outputs": [
        {
          "name": "stdout",
          "output_type": "stream",
          "text": [
            "10 20 30\n"
          ]
        }
      ],
      "source": [
        "f(20, 30)"
      ]
    },
    {
      "cell_type": "markdown",
      "metadata": {
        "id": "UEvBz0FvosKe"
      },
      "source": [
        "*As you can see, the value for `a` is fixed once the partial has been created.*\n",
        "\n",
        "*In fact, the memory address of `a` is baked in to the partial, and `a` is immutable.*\n",
        "\n",
        "*If we use a mutable obkect, things are different:*"
      ]
    },
    {
      "cell_type": "code",
      "execution_count": null,
      "metadata": {
        "id": "FiIgKFTwon3k"
      },
      "outputs": [],
      "source": [
        "a = [10, 20]\n",
        "f = partial(my_func, a)"
      ]
    },
    {
      "cell_type": "code",
      "execution_count": null,
      "metadata": {
        "colab": {
          "base_uri": "https://localhost:8080/"
        },
        "id": "ZEUcMU_7o9dp",
        "outputId": "599e9dba-6af6-4be5-c1d8-96fb5dbd597a"
      },
      "outputs": [
        {
          "name": "stdout",
          "output_type": "stream",
          "text": [
            "[10, 20] 100 200\n"
          ]
        }
      ],
      "source": [
        "f(100, 200)"
      ]
    },
    {
      "cell_type": "code",
      "execution_count": null,
      "metadata": {
        "id": "t-w3d4ZMo-VH"
      },
      "outputs": [],
      "source": [
        "a.append(30)"
      ]
    },
    {
      "cell_type": "code",
      "execution_count": null,
      "metadata": {
        "colab": {
          "base_uri": "https://localhost:8080/"
        },
        "id": "xkSXeYFBpAUd",
        "outputId": "9538a753-976a-4ce6-e3b9-0aca629c7135"
      },
      "outputs": [
        {
          "name": "stdout",
          "output_type": "stream",
          "text": [
            "[10, 20, 30] 100 200\n"
          ]
        }
      ],
      "source": [
        "f(100, 200)"
      ]
    },
    {
      "cell_type": "markdown",
      "metadata": {
        "id": "DniyxAp3pGft"
      },
      "source": [
        "\n",
        "\n",
        "---\n",
        "\n"
      ]
    },
    {
      "cell_type": "markdown",
      "metadata": {
        "id": "N3uidtErpKRj"
      },
      "source": [
        "**Use Cases**"
      ]
    },
    {
      "cell_type": "markdown",
      "metadata": {
        "id": "XTuq3nolpMS1"
      },
      "source": [
        "We tent to use partials in situation where we need to call a function that actually requires more parameters then we can supply.\n",
        "\n",
        "Often this is because we are working with exiting libraries or code, and we have a special case.\n",
        "\n",
        "For example, suppose we habe points (represented as tuples), and we want to sort them based on the distance of the point from some other fixed point:"
      ]
    },
    {
      "cell_type": "code",
      "execution_count": null,
      "metadata": {
        "id": "rc03bqpFpB_8"
      },
      "outputs": [],
      "source": [
        "origin = (0, 0)\n",
        "l = [(1, 1), (0, 2), (-3, 2), (0, 0), (10, 10)]"
      ]
    },
    {
      "cell_type": "code",
      "execution_count": null,
      "metadata": {
        "id": "yKbeaGt_pvTb"
      },
      "outputs": [],
      "source": [
        "dist2 = lambda x, y:(x[0]-y[0])**2 + (x[1]-y[1])**2"
      ]
    },
    {
      "cell_type": "code",
      "execution_count": null,
      "metadata": {
        "colab": {
          "base_uri": "https://localhost:8080/"
        },
        "id": "efI-D1KMp3mA",
        "outputId": "350c98c5-aa38-4b14-c26b-81051765809d"
      },
      "outputs": [
        {
          "data": {
            "text/plain": [
              "2"
            ]
          },
          "execution_count": 910,
          "metadata": {},
          "output_type": "execute_result"
        }
      ],
      "source": [
        "dist2((0,0), (1,1))"
      ]
    },
    {
      "cell_type": "code",
      "execution_count": null,
      "metadata": {
        "colab": {
          "base_uri": "https://localhost:8080/"
        },
        "id": "rNSjUcgDp6ln",
        "outputId": "9ca617ba-29ed-4828-bd93-76c3a2b2f674"
      },
      "outputs": [
        {
          "data": {
            "text/plain": [
              "[(0, 0), (1, 1), (0, 2), (-3, 2), (10, 10)]"
            ]
          },
          "execution_count": 911,
          "metadata": {},
          "output_type": "execute_result"
        }
      ],
      "source": [
        "sorted(l, key = lambda x: dist2((0,0), x))"
      ]
    },
    {
      "cell_type": "code",
      "execution_count": null,
      "metadata": {
        "colab": {
          "base_uri": "https://localhost:8080/"
        },
        "id": "6lBNRoZwqA-B",
        "outputId": "5c2b499e-e967-4b9e-9ddb-128b4f9ce14e"
      },
      "outputs": [
        {
          "data": {
            "text/plain": [
              "[(0, 0), (1, 1), (0, 2), (-3, 2), (10, 10)]"
            ]
          },
          "execution_count": 912,
          "metadata": {},
          "output_type": "execute_result"
        }
      ],
      "source": [
        "sorted(l, key=partial(dist2, (0, 0)))"
      ]
    },
    {
      "cell_type": "markdown",
      "metadata": {
        "id": "pjR9RKLFqZYS"
      },
      "source": [
        "Another use case is when using callback functions. Usually these are used when running asynchronous operations, and you provide a callable to another callable which will be called when the first callable completes its execution.\n",
        "\n",
        "Very ofteni this asynchronous callable will specify the number of variables that the callback function must have - this may not be what we want, maybe we want to add some additional info.\n",
        "\n",
        "We'll look at asynchronous processing later in this course.\n",
        "\n",
        "Often we can also use partial functions to make our life a bit easier.\n",
        "\n",
        "Consider a situation where we have some generic `email()` function that can be used to notify when various things happen in our application. But depending on what is happening we may want to norify different people. Let's see how we may do this:"
      ]
    },
    {
      "cell_type": "code",
      "execution_count": null,
      "metadata": {
        "id": "ZGutBb75qE2m"
      },
      "outputs": [],
      "source": [
        "def sendmail(to, subject, body):\n",
        "    # code to send email\n",
        "    print('To:{0}, Subject:{1}, Body:{2}'.format(to, subject, body))"
      ]
    },
    {
      "cell_type": "markdown",
      "metadata": {
        "id": "GnTGEG4wtLJG"
      },
      "source": [
        "Now, we may have different email addresses we want to send notifications to, maybe defined in a config file in our app. Here, I'll just use hardcoded variables:"
      ]
    },
    {
      "cell_type": "code",
      "execution_count": null,
      "metadata": {
        "id": "Gudf8YbstEQg"
      },
      "outputs": [],
      "source": [
        "email_admin = 'palin@python.edu'\n",
        "email_devteam = 'idle@python.edu;cleese@python.edu'"
      ]
    },
    {
      "cell_type": "markdown",
      "metadata": {
        "id": "9DRA8EXxte8B"
      },
      "source": [
        "Now when we want to send emails we would have to write things like:"
      ]
    },
    {
      "cell_type": "code",
      "execution_count": null,
      "metadata": {
        "colab": {
          "base_uri": "https://localhost:8080/"
        },
        "id": "51douhblteES",
        "outputId": "24eadf44-0250-472f-f1af-0ac65ec7739c"
      },
      "outputs": [
        {
          "name": "stdout",
          "output_type": "stream",
          "text": [
            "To:palin@python.edu, Subject:My App Notification, Body:the parrot is dead.\n",
            "To:palin@python.edu;idle@python.edu;cleese@python.edu, Subject:My App Notification, Body:the ministry is closed until further notice.\n"
          ]
        }
      ],
      "source": [
        "sendmail(email_admin, 'My App Notification', 'the parrot is dead.')\n",
        "sendmail(';'.join((email_admin, email_devteam)), 'My App Notification', 'the ministry is closed until further notice.')"
      ]
    },
    {
      "cell_type": "markdown",
      "metadata": {
        "id": "yFfp3ui0tten"
      },
      "source": [
        "We could simply our life a little using partials this way:"
      ]
    },
    {
      "cell_type": "code",
      "execution_count": null,
      "metadata": {
        "id": "Lx_aOIkPtriZ"
      },
      "outputs": [],
      "source": [
        "send_admin = partial(sendmail, email_admin, 'For you eyes only')\n",
        "send_dev = partial(sendmail, email_devteam, 'Dear IT:')\n",
        "send_all = partial(sendmail, ';'.join((email_admin, email_devteam)), 'Loyal Subjects')"
      ]
    },
    {
      "cell_type": "code",
      "execution_count": null,
      "metadata": {
        "colab": {
          "base_uri": "https://localhost:8080/"
        },
        "id": "FZCi34-it6QE",
        "outputId": "ac03a6e8-fe86-4725-8f72-9e6a061c5f45"
      },
      "outputs": [
        {
          "name": "stdout",
          "output_type": "stream",
          "text": [
            "To:palin@python.edu, Subject:For you eyes only, Body:the parrot is dead.\n",
            "To:palin@python.edu;idle@python.edu;cleese@python.edu, Subject:Loyal Subjects, Body:the ministry is closed until further notice.\n"
          ]
        }
      ],
      "source": [
        "send_admin('the parrot is dead.')\n",
        "send_all('the ministry is closed until further notice.')"
      ]
    },
    {
      "cell_type": "markdown",
      "metadata": {
        "id": "Zzvq603duAB0"
      },
      "source": [
        "Finally, let's make this a little more complex, with a mixture of positional and keyword-only arguments:"
      ]
    },
    {
      "cell_type": "code",
      "execution_count": null,
      "metadata": {
        "id": "SnXv9y_Vt8K6"
      },
      "outputs": [],
      "source": [
        "def sendmail(to, subject, body, *, cc=None, bcc=email_devteam):\n",
        "    # code to send email\n",
        "    print('To:{0}, Subject:{1}, Body:{2}, CC:{3}, BCC:{4}'.format(to, \n",
        "                                                                  subject, \n",
        "                                                                  body, \n",
        "                                                                  cc, \n",
        "                                                                  bcc))"
      ]
    },
    {
      "cell_type": "code",
      "execution_count": null,
      "metadata": {
        "id": "mwO-kE5ouQrZ"
      },
      "outputs": [],
      "source": [
        "send_admin = partial(sendmail, email_admin, 'General Admin')\n",
        "send_admin_secret = partial(sendmail, email_admin, 'For your eyes only', cc=None, bcc=None)"
      ]
    },
    {
      "cell_type": "code",
      "execution_count": null,
      "metadata": {
        "colab": {
          "base_uri": "https://localhost:8080/"
        },
        "id": "ufJnfZsCuSss",
        "outputId": "e8c0f2fb-db1d-49aa-dd02-c826869242a8"
      },
      "outputs": [
        {
          "name": "stdout",
          "output_type": "stream",
          "text": [
            "To:palin@python.edu, Subject:General Admin, Body:and now for something completely different, CC:None, BCC:idle@python.edu;cleese@python.edu\n"
          ]
        }
      ],
      "source": [
        "send_admin('and now for something completely different')"
      ]
    },
    {
      "cell_type": "code",
      "execution_count": null,
      "metadata": {
        "colab": {
          "base_uri": "https://localhost:8080/"
        },
        "id": "zoUbnEivuT36",
        "outputId": "99f52cbd-412b-464f-81e3-1bcc291a093d"
      },
      "outputs": [
        {
          "name": "stdout",
          "output_type": "stream",
          "text": [
            "To:palin@python.edu, Subject:For your eyes only, Body:the parrot is dead!, CC:None, BCC:None\n"
          ]
        }
      ],
      "source": [
        "send_admin_secret('the parrot is dead!')"
      ]
    },
    {
      "cell_type": "code",
      "execution_count": null,
      "metadata": {
        "colab": {
          "base_uri": "https://localhost:8080/"
        },
        "id": "GoTKTnCruZrZ",
        "outputId": "62298e23-9202-4035-ddd8-8aef474c3d36"
      },
      "outputs": [
        {
          "name": "stdout",
          "output_type": "stream",
          "text": [
            "To:palin@python.edu, Subject:For your eyes only, Body:the parrot is no more!, CC:None, BCC:idle@python.edu;cleese@python.edu\n"
          ]
        }
      ],
      "source": [
        "send_admin_secret('the parrot is no more!', bcc=email_devteam)"
      ]
    },
    {
      "cell_type": "markdown",
      "metadata": {
        "id": "xF6MezCDu4HD"
      },
      "source": [
        "### 10 - The Operator Module"
      ]
    },
    {
      "cell_type": "code",
      "execution_count": null,
      "metadata": {
        "id": "Std4N9s5vAAh"
      },
      "outputs": [],
      "source": [
        "import operator"
      ]
    },
    {
      "cell_type": "code",
      "execution_count": null,
      "metadata": {
        "colab": {
          "base_uri": "https://localhost:8080/"
        },
        "id": "Fk6dUO0gvDCj",
        "outputId": "0e626366-a0e4-4f2f-edce-3ed59cf70810"
      },
      "outputs": [
        {
          "data": {
            "text/plain": [
              "['__abs__',\n",
              " '__add__',\n",
              " '__all__',\n",
              " '__and__',\n",
              " '__builtins__',\n",
              " '__cached__',\n",
              " '__concat__',\n",
              " '__contains__',\n",
              " '__delitem__',\n",
              " '__doc__',\n",
              " '__eq__',\n",
              " '__file__',\n",
              " '__floordiv__',\n",
              " '__ge__',\n",
              " '__getitem__',\n",
              " '__gt__',\n",
              " '__iadd__',\n",
              " '__iand__',\n",
              " '__iconcat__',\n",
              " '__ifloordiv__',\n",
              " '__ilshift__',\n",
              " '__imatmul__',\n",
              " '__imod__',\n",
              " '__imul__',\n",
              " '__index__',\n",
              " '__inv__',\n",
              " '__invert__',\n",
              " '__ior__',\n",
              " '__ipow__',\n",
              " '__irshift__',\n",
              " '__isub__',\n",
              " '__itruediv__',\n",
              " '__ixor__',\n",
              " '__le__',\n",
              " '__loader__',\n",
              " '__lshift__',\n",
              " '__lt__',\n",
              " '__matmul__',\n",
              " '__mod__',\n",
              " '__mul__',\n",
              " '__name__',\n",
              " '__ne__',\n",
              " '__neg__',\n",
              " '__not__',\n",
              " '__or__',\n",
              " '__package__',\n",
              " '__pos__',\n",
              " '__pow__',\n",
              " '__rshift__',\n",
              " '__setitem__',\n",
              " '__spec__',\n",
              " '__sub__',\n",
              " '__truediv__',\n",
              " '__xor__',\n",
              " '_abs',\n",
              " 'abs',\n",
              " 'add',\n",
              " 'and_',\n",
              " 'attrgetter',\n",
              " 'concat',\n",
              " 'contains',\n",
              " 'countOf',\n",
              " 'delitem',\n",
              " 'eq',\n",
              " 'floordiv',\n",
              " 'ge',\n",
              " 'getitem',\n",
              " 'gt',\n",
              " 'iadd',\n",
              " 'iand',\n",
              " 'iconcat',\n",
              " 'ifloordiv',\n",
              " 'ilshift',\n",
              " 'imatmul',\n",
              " 'imod',\n",
              " 'imul',\n",
              " 'index',\n",
              " 'indexOf',\n",
              " 'inv',\n",
              " 'invert',\n",
              " 'ior',\n",
              " 'ipow',\n",
              " 'irshift',\n",
              " 'is_',\n",
              " 'is_not',\n",
              " 'isub',\n",
              " 'itemgetter',\n",
              " 'itruediv',\n",
              " 'ixor',\n",
              " 'le',\n",
              " 'length_hint',\n",
              " 'lshift',\n",
              " 'lt',\n",
              " 'matmul',\n",
              " 'methodcaller',\n",
              " 'mod',\n",
              " 'mul',\n",
              " 'ne',\n",
              " 'neg',\n",
              " 'not_',\n",
              " 'or_',\n",
              " 'pos',\n",
              " 'pow',\n",
              " 'rshift',\n",
              " 'setitem',\n",
              " 'sub',\n",
              " 'truediv',\n",
              " 'truth',\n",
              " 'xor']"
            ]
          },
          "execution_count": 924,
          "metadata": {},
          "output_type": "execute_result"
        }
      ],
      "source": [
        "dir(operator)"
      ]
    },
    {
      "cell_type": "markdown",
      "metadata": {
        "id": "Uke2X9tkvFww"
      },
      "source": [
        "**Arithmetic Operators**"
      ]
    },
    {
      "cell_type": "markdown",
      "metadata": {
        "id": "j-VEKBCuvIVD"
      },
      "source": [
        "A variety of artihmetic operators are implemented."
      ]
    },
    {
      "cell_type": "code",
      "execution_count": null,
      "metadata": {
        "colab": {
          "base_uri": "https://localhost:8080/"
        },
        "id": "PTAKfairvD6r",
        "outputId": "167fc4cc-c852-4376-aeb5-e7f0307291f1"
      },
      "outputs": [
        {
          "data": {
            "text/plain": [
              "3"
            ]
          },
          "execution_count": 925,
          "metadata": {},
          "output_type": "execute_result"
        }
      ],
      "source": [
        "operator.add(1, 2)"
      ]
    },
    {
      "cell_type": "code",
      "execution_count": null,
      "metadata": {
        "colab": {
          "base_uri": "https://localhost:8080/"
        },
        "id": "rAFrCh7CvNDg",
        "outputId": "0fb40c05-55c4-4a8b-b2e5-39ee6fe9c275"
      },
      "outputs": [
        {
          "data": {
            "text/plain": [
              "6"
            ]
          },
          "execution_count": 926,
          "metadata": {},
          "output_type": "execute_result"
        }
      ],
      "source": [
        "operator.mul(2, 3)"
      ]
    },
    {
      "cell_type": "code",
      "execution_count": null,
      "metadata": {
        "colab": {
          "base_uri": "https://localhost:8080/"
        },
        "id": "onGeUfClvOwQ",
        "outputId": "bc74e56f-3c4b-41b3-900d-1c5fd36239af"
      },
      "outputs": [
        {
          "data": {
            "text/plain": [
              "8"
            ]
          },
          "execution_count": 927,
          "metadata": {},
          "output_type": "execute_result"
        }
      ],
      "source": [
        "operator.pow(2, 3)"
      ]
    },
    {
      "cell_type": "code",
      "execution_count": null,
      "metadata": {
        "colab": {
          "base_uri": "https://localhost:8080/"
        },
        "id": "04GxbW6cvRAB",
        "outputId": "d385164a-fa7a-4205-8308-1b0b4e566000"
      },
      "outputs": [
        {
          "data": {
            "text/plain": [
              "1"
            ]
          },
          "execution_count": 928,
          "metadata": {},
          "output_type": "execute_result"
        }
      ],
      "source": [
        "operator.mod(13, 2)"
      ]
    },
    {
      "cell_type": "code",
      "execution_count": null,
      "metadata": {
        "colab": {
          "base_uri": "https://localhost:8080/"
        },
        "id": "B_VftinKvSt5",
        "outputId": "3ff6ade5-21c1-45e2-92bb-b2462354abea"
      },
      "outputs": [
        {
          "data": {
            "text/plain": [
              "6"
            ]
          },
          "execution_count": 929,
          "metadata": {},
          "output_type": "execute_result"
        }
      ],
      "source": [
        "operator.floordiv(13, 2)"
      ]
    },
    {
      "cell_type": "code",
      "execution_count": null,
      "metadata": {
        "colab": {
          "base_uri": "https://localhost:8080/"
        },
        "id": "Avqoejw3vVLB",
        "outputId": "5f4117b8-0c80-4f0a-bf98-03c5290d06c6"
      },
      "outputs": [
        {
          "data": {
            "text/plain": [
              "1.5"
            ]
          },
          "execution_count": 930,
          "metadata": {},
          "output_type": "execute_result"
        }
      ],
      "source": [
        "operator.truediv(3, 2)"
      ]
    },
    {
      "cell_type": "markdown",
      "metadata": {
        "id": "NR0iLuLDvX8X"
      },
      "source": [
        "These would have been very handy in our previous section:"
      ]
    },
    {
      "cell_type": "code",
      "execution_count": null,
      "metadata": {
        "id": "TBpX4crzvW_0"
      },
      "outputs": [],
      "source": [
        "from functools import reduce"
      ]
    },
    {
      "cell_type": "code",
      "execution_count": null,
      "metadata": {
        "colab": {
          "base_uri": "https://localhost:8080/"
        },
        "id": "icGRoVLovdSx",
        "outputId": "f29eea51-dcd7-4cda-e9ec-787a1fad0ef2"
      },
      "outputs": [
        {
          "data": {
            "text/plain": [
              "24"
            ]
          },
          "execution_count": 932,
          "metadata": {},
          "output_type": "execute_result"
        }
      ],
      "source": [
        "reduce(lambda x, y: x*y, [1, 2, 3, 4])"
      ]
    },
    {
      "cell_type": "markdown",
      "metadata": {
        "id": "HFUR_bsivhsd"
      },
      "source": [
        "Instead of defining a lambda, we could simply use `operator.mul`"
      ]
    },
    {
      "cell_type": "code",
      "execution_count": null,
      "metadata": {
        "colab": {
          "base_uri": "https://localhost:8080/"
        },
        "id": "47CfnpfUvgrw",
        "outputId": "f41f09a2-c073-4ef5-84d3-2e5a28d320bd"
      },
      "outputs": [
        {
          "data": {
            "text/plain": [
              "24"
            ]
          },
          "execution_count": 933,
          "metadata": {},
          "output_type": "execute_result"
        }
      ],
      "source": [
        "reduce(operator.mul, [1, 2, 3, 4])"
      ]
    },
    {
      "cell_type": "markdown",
      "metadata": {
        "id": "e2wa4-QYvxJC"
      },
      "source": [
        "**Comparison and Boolean Operators**"
      ]
    },
    {
      "cell_type": "markdown",
      "metadata": {
        "id": "SdAGrdbXv07y"
      },
      "source": [
        "Comparison and Boolean operators are also implemented as functions:"
      ]
    },
    {
      "cell_type": "code",
      "execution_count": null,
      "metadata": {
        "colab": {
          "base_uri": "https://localhost:8080/"
        },
        "id": "E-BBh_MwvwJG",
        "outputId": "d0ac031a-dd75-4b3c-a268-f52655ca40bb"
      },
      "outputs": [
        {
          "data": {
            "text/plain": [
              "True"
            ]
          },
          "execution_count": 934,
          "metadata": {},
          "output_type": "execute_result"
        }
      ],
      "source": [
        "operator.lt(10, 100)"
      ]
    },
    {
      "cell_type": "code",
      "execution_count": null,
      "metadata": {
        "colab": {
          "base_uri": "https://localhost:8080/"
        },
        "id": "8SUg_J4lwI3w",
        "outputId": "853ea925-023a-44be-9274-15df5bf095c6"
      },
      "outputs": [
        {
          "data": {
            "text/plain": [
              "True"
            ]
          },
          "execution_count": 935,
          "metadata": {},
          "output_type": "execute_result"
        }
      ],
      "source": [
        "operator.le(10, 10)"
      ]
    },
    {
      "cell_type": "code",
      "execution_count": null,
      "metadata": {
        "colab": {
          "base_uri": "https://localhost:8080/"
        },
        "id": "Z5LyiXB8wL4I",
        "outputId": "f08854fa-64a7-48af-ba44-5f13ab0606a3"
      },
      "outputs": [
        {
          "data": {
            "text/plain": [
              "False"
            ]
          },
          "execution_count": 936,
          "metadata": {},
          "output_type": "execute_result"
        }
      ],
      "source": [
        "operator.is_('abc', 'def')"
      ]
    },
    {
      "cell_type": "markdown",
      "metadata": {
        "id": "49I4FkBiwPlb"
      },
      "source": [
        "We can even get the truthyness of an object:"
      ]
    },
    {
      "cell_type": "code",
      "execution_count": null,
      "metadata": {
        "colab": {
          "base_uri": "https://localhost:8080/"
        },
        "id": "Fh8Mvfe3wOjC",
        "outputId": "c23d4276-c149-4f40-8b28-adf1aba941a1"
      },
      "outputs": [
        {
          "data": {
            "text/plain": [
              "True"
            ]
          },
          "execution_count": 937,
          "metadata": {},
          "output_type": "execute_result"
        }
      ],
      "source": [
        "operator.truth([1, 2])"
      ]
    },
    {
      "cell_type": "code",
      "execution_count": null,
      "metadata": {
        "colab": {
          "base_uri": "https://localhost:8080/"
        },
        "id": "m5JeMn9swVIJ",
        "outputId": "9ef1097d-a594-4296-a63a-acc670fe3aa6"
      },
      "outputs": [
        {
          "data": {
            "text/plain": [
              "False"
            ]
          },
          "execution_count": 938,
          "metadata": {},
          "output_type": "execute_result"
        }
      ],
      "source": [
        "operator.truth([])"
      ]
    },
    {
      "cell_type": "code",
      "execution_count": null,
      "metadata": {
        "colab": {
          "base_uri": "https://localhost:8080/"
        },
        "id": "V9N6M61ZwWu6",
        "outputId": "08a18d35-425e-4ff2-f873-63212932c80c"
      },
      "outputs": [
        {
          "data": {
            "text/plain": [
              "False"
            ]
          },
          "execution_count": 939,
          "metadata": {},
          "output_type": "execute_result"
        }
      ],
      "source": [
        "operator.and_(True, False)"
      ]
    },
    {
      "cell_type": "code",
      "execution_count": null,
      "metadata": {
        "colab": {
          "base_uri": "https://localhost:8080/"
        },
        "id": "m7f8p_nEwZee",
        "outputId": "cdd09864-8ec7-4566-8d74-66fd5db03130"
      },
      "outputs": [
        {
          "data": {
            "text/plain": [
              "True"
            ]
          },
          "execution_count": 940,
          "metadata": {},
          "output_type": "execute_result"
        }
      ],
      "source": [
        "operator.or_(True, False)"
      ]
    },
    {
      "cell_type": "markdown",
      "metadata": {
        "id": "JFribN1fwcnL"
      },
      "source": [
        "**Element and Atribute Getters and Setters**"
      ]
    },
    {
      "cell_type": "markdown",
      "metadata": {
        "id": "92kCPVkTwf_1"
      },
      "source": [
        "We generally select an item by index from a sequence by using `[n]`"
      ]
    },
    {
      "cell_type": "code",
      "execution_count": null,
      "metadata": {
        "colab": {
          "base_uri": "https://localhost:8080/"
        },
        "id": "ChTB07E_wb0s",
        "outputId": "0b48746d-fbce-4c57-8005-ce40155933ec"
      },
      "outputs": [
        {
          "data": {
            "text/plain": [
              "2"
            ]
          },
          "execution_count": 941,
          "metadata": {},
          "output_type": "execute_result"
        }
      ],
      "source": [
        "my_list = [1, 2, 3, 4]\n",
        "my_list[1]"
      ]
    },
    {
      "cell_type": "markdown",
      "metadata": {
        "id": "zt4mpBBowry7"
      },
      "source": [
        "We can do the same thing using:"
      ]
    },
    {
      "cell_type": "code",
      "execution_count": null,
      "metadata": {
        "colab": {
          "base_uri": "https://localhost:8080/"
        },
        "id": "nOr-ZZbEwqNz",
        "outputId": "c16d6154-2dac-4b94-a335-ad2974d668db"
      },
      "outputs": [
        {
          "data": {
            "text/plain": [
              "2"
            ]
          },
          "execution_count": 942,
          "metadata": {},
          "output_type": "execute_result"
        }
      ],
      "source": [
        "operator.getitem(my_list, 1)"
      ]
    },
    {
      "cell_type": "markdown",
      "metadata": {
        "id": "jvMEL58Jw83K"
      },
      "source": [
        "In the sequence is mutable, we can also set or remove items:"
      ]
    },
    {
      "cell_type": "code",
      "execution_count": null,
      "metadata": {
        "colab": {
          "base_uri": "https://localhost:8080/"
        },
        "id": "dO9DDG7Gw8KT",
        "outputId": "a04d33bc-868a-4da9-f2d7-b31ab96ea2e3"
      },
      "outputs": [
        {
          "name": "stdout",
          "output_type": "stream",
          "text": [
            "[1, 100, 3]\n"
          ]
        }
      ],
      "source": [
        "my_list = [1, 2, 3, 4]\n",
        "my_list[1] = 100\n",
        "del my_list[3]\n",
        "print(my_list)"
      ]
    },
    {
      "cell_type": "code",
      "execution_count": null,
      "metadata": {
        "colab": {
          "base_uri": "https://localhost:8080/"
        },
        "id": "u9EIP3BsxM3S",
        "outputId": "5a615e79-40cc-4ec7-8a7d-ae71a9dbb425"
      },
      "outputs": [
        {
          "name": "stdout",
          "output_type": "stream",
          "text": [
            "[1, 100, 3]\n"
          ]
        }
      ],
      "source": [
        "my_list = [1, 2, 3, 4]\n",
        "operator.setitem(my_list, 1, 100)\n",
        "operator.delitem(my_list,3)\n",
        "print(my_list)"
      ]
    },
    {
      "cell_type": "markdown",
      "metadata": {
        "id": "f_Ia1Oz1yLS_"
      },
      "source": [
        "We can also do the same thing using the `operator` module's `itemgetter` function.\n",
        "\n",
        "The difference is that this returns a callable:"
      ]
    },
    {
      "cell_type": "code",
      "execution_count": null,
      "metadata": {
        "id": "qOu7bVuIxhji"
      },
      "outputs": [],
      "source": [
        "f = operator.itemgetter(2)"
      ]
    },
    {
      "cell_type": "markdown",
      "metadata": {
        "id": "AldbE2PJyYHB"
      },
      "source": [
        "Now, `f(my_list)` will return `my_list[2]`"
      ]
    },
    {
      "cell_type": "code",
      "execution_count": null,
      "metadata": {
        "colab": {
          "base_uri": "https://localhost:8080/"
        },
        "id": "TvNhkLOIyXGc",
        "outputId": "5d5edb51-23a8-4ff2-9718-0c463c7ea876"
      },
      "outputs": [
        {
          "data": {
            "text/plain": [
              "3"
            ]
          },
          "execution_count": 946,
          "metadata": {},
          "output_type": "execute_result"
        }
      ],
      "source": [
        "f(my_list)"
      ]
    },
    {
      "cell_type": "code",
      "execution_count": null,
      "metadata": {
        "colab": {
          "base_uri": "https://localhost:8080/",
          "height": 35
        },
        "id": "QV7p5SaWyee6",
        "outputId": "a2d33436-d75c-4d81-b8a5-73dc24fe79ce"
      },
      "outputs": [
        {
          "data": {
            "text/plain": [
              "'t'"
            ]
          },
          "execution_count": 947,
          "metadata": {},
          "output_type": "execute_result"
        }
      ],
      "source": [
        "x = 'python'\n",
        "f(x)"
      ]
    },
    {
      "cell_type": "markdown",
      "metadata": {
        "id": "P63pLi9Eymb1"
      },
      "source": [
        "Furthermore, we can pass more than one index to `itemgetter`:"
      ]
    },
    {
      "cell_type": "code",
      "execution_count": null,
      "metadata": {
        "id": "_BsObZOJyjkI"
      },
      "outputs": [],
      "source": [
        "f = operator.itemgetter(2, 3)"
      ]
    },
    {
      "cell_type": "code",
      "execution_count": null,
      "metadata": {
        "colab": {
          "base_uri": "https://localhost:8080/"
        },
        "id": "fujjt5Vdysql",
        "outputId": "cc081e7f-7526-4bc4-8085-17b2ee295e75"
      },
      "outputs": [
        {
          "data": {
            "text/plain": [
              "(3, 4)"
            ]
          },
          "execution_count": 949,
          "metadata": {},
          "output_type": "execute_result"
        }
      ],
      "source": [
        "my_list = [1, 2, 3, 4]\n",
        "f(my_list)"
      ]
    },
    {
      "cell_type": "code",
      "execution_count": null,
      "metadata": {
        "colab": {
          "base_uri": "https://localhost:8080/"
        },
        "id": "2N3bw4KJyvRw",
        "outputId": "fde16075-e418-4b36-f48b-e89f32a1fd10"
      },
      "outputs": [
        {
          "data": {
            "text/plain": [
              "('t', 'h')"
            ]
          },
          "execution_count": 950,
          "metadata": {},
          "output_type": "execute_result"
        }
      ],
      "source": [
        "x = 'python'\n",
        "f(x)"
      ]
    },
    {
      "cell_type": "markdown",
      "metadata": {
        "id": "Q_QqKYKMyz39"
      },
      "source": [
        "Similarly, `operator.attrgetter` does the same thing, but with object attributes."
      ]
    },
    {
      "cell_type": "code",
      "execution_count": null,
      "metadata": {
        "id": "EFj7xVVkyy3E"
      },
      "outputs": [],
      "source": [
        "class MyClass:\n",
        "    def __init__(self):\n",
        "        self.a = 10\n",
        "        self.b = 20\n",
        "        self.c = 30\n",
        "\n",
        "    def test(self):\n",
        "        print('test method running...')"
      ]
    },
    {
      "cell_type": "code",
      "execution_count": null,
      "metadata": {
        "id": "pQ_dX0u1zG8S"
      },
      "outputs": [],
      "source": [
        "obj = MyClass()"
      ]
    },
    {
      "cell_type": "code",
      "execution_count": null,
      "metadata": {
        "colab": {
          "base_uri": "https://localhost:8080/"
        },
        "id": "p_mD411UzKTH",
        "outputId": "f4903a1b-bd67-4ee9-a77f-84f232a39742"
      },
      "outputs": [
        {
          "data": {
            "text/plain": [
              "(10, 20, 30)"
            ]
          },
          "execution_count": 953,
          "metadata": {},
          "output_type": "execute_result"
        }
      ],
      "source": [
        "obj.a, obj.b, obj.c"
      ]
    },
    {
      "cell_type": "code",
      "execution_count": null,
      "metadata": {
        "id": "9oMTiMI3zMfA"
      },
      "outputs": [],
      "source": [
        "f = operator.attrgetter('a')"
      ]
    },
    {
      "cell_type": "code",
      "execution_count": null,
      "metadata": {
        "colab": {
          "base_uri": "https://localhost:8080/"
        },
        "id": "eRt_t967zQ-F",
        "outputId": "eaa53e4b-3cbe-4af0-db12-12d99790e87e"
      },
      "outputs": [
        {
          "data": {
            "text/plain": [
              "10"
            ]
          },
          "execution_count": 955,
          "metadata": {},
          "output_type": "execute_result"
        }
      ],
      "source": [
        "f(obj)"
      ]
    },
    {
      "cell_type": "code",
      "execution_count": null,
      "metadata": {
        "colab": {
          "base_uri": "https://localhost:8080/"
        },
        "id": "7s3HqaqKzSzr",
        "outputId": "4bc90c44-1cfe-4fee-e131-7afbe79eb086"
      },
      "outputs": [
        {
          "data": {
            "text/plain": [
              "20"
            ]
          },
          "execution_count": 956,
          "metadata": {},
          "output_type": "execute_result"
        }
      ],
      "source": [
        "my_var = 'b'\n",
        "operator.attrgetter(my_var)(obj)"
      ]
    },
    {
      "cell_type": "code",
      "execution_count": null,
      "metadata": {
        "colab": {
          "base_uri": "https://localhost:8080/"
        },
        "id": "b2ox0Fj9zYCq",
        "outputId": "e5c6e771-3429-40b8-c868-a9bc96c4d2c4"
      },
      "outputs": [
        {
          "data": {
            "text/plain": [
              "30"
            ]
          },
          "execution_count": 957,
          "metadata": {},
          "output_type": "execute_result"
        }
      ],
      "source": [
        "my_var = 'c'\n",
        "operator.attrgetter(my_var)(obj)"
      ]
    },
    {
      "cell_type": "code",
      "execution_count": null,
      "metadata": {
        "id": "L4KWmx1ZzZwb"
      },
      "outputs": [],
      "source": [
        "f = operator.attrgetter('a', 'b', 'c')"
      ]
    },
    {
      "cell_type": "code",
      "execution_count": null,
      "metadata": {
        "colab": {
          "base_uri": "https://localhost:8080/"
        },
        "id": "EdINwSG1zbys",
        "outputId": "c008507f-2358-42c2-a387-dbbf8e71b61f"
      },
      "outputs": [
        {
          "data": {
            "text/plain": [
              "(10, 20, 30)"
            ]
          },
          "execution_count": 959,
          "metadata": {},
          "output_type": "execute_result"
        }
      ],
      "source": [
        "f(obj)"
      ]
    },
    {
      "cell_type": "markdown",
      "metadata": {
        "id": "lVphkE99zdZa"
      },
      "source": [
        "Of course, attributes can also be methods.\n",
        "In this case, `attrgetter` will return the object's `test` method - a callable that can then ve called using `()`:"
      ]
    },
    {
      "cell_type": "code",
      "execution_count": null,
      "metadata": {
        "id": "Xa4Ui55Nzccg"
      },
      "outputs": [],
      "source": [
        "f = operator.attrgetter('test')"
      ]
    },
    {
      "cell_type": "code",
      "execution_count": null,
      "metadata": {
        "id": "UfK3OdGxzt3x"
      },
      "outputs": [],
      "source": [
        "obj_test_method = f(obj)"
      ]
    },
    {
      "cell_type": "code",
      "execution_count": null,
      "metadata": {
        "colab": {
          "base_uri": "https://localhost:8080/"
        },
        "id": "ZdDST88Vzv9w",
        "outputId": "c9b4f392-6764-425e-ed9a-dc8f2b55a0b8"
      },
      "outputs": [
        {
          "name": "stdout",
          "output_type": "stream",
          "text": [
            "test method running...\n"
          ]
        }
      ],
      "source": [
        "obj_test_method()"
      ]
    },
    {
      "cell_type": "markdown",
      "metadata": {
        "id": "hiVOVed6z0Xm"
      },
      "source": [
        "Just like lambdas, we do not need to assign them to a variable name in order to use them:"
      ]
    },
    {
      "cell_type": "code",
      "execution_count": null,
      "metadata": {
        "colab": {
          "base_uri": "https://localhost:8080/"
        },
        "id": "tmZdNGpZzyEi",
        "outputId": "49c3b7ff-19bb-459e-e277-f8bbf8f726e7"
      },
      "outputs": [
        {
          "data": {
            "text/plain": [
              "(10, 20)"
            ]
          },
          "execution_count": 963,
          "metadata": {},
          "output_type": "execute_result"
        }
      ],
      "source": [
        "operator.attrgetter('a', 'b')(obj)"
      ]
    },
    {
      "cell_type": "code",
      "execution_count": null,
      "metadata": {
        "colab": {
          "base_uri": "https://localhost:8080/"
        },
        "id": "Tn1tYo7Zz7YE",
        "outputId": "dc1f8b7d-d99f-4917-b4b8-bbc7a6d7841e"
      },
      "outputs": [
        {
          "data": {
            "text/plain": [
              "('t', 'h')"
            ]
          },
          "execution_count": 964,
          "metadata": {},
          "output_type": "execute_result"
        }
      ],
      "source": [
        "operator.itemgetter(2, 3)('python')"
      ]
    },
    {
      "cell_type": "markdown",
      "metadata": {
        "id": "VquZMPNN0AUF"
      },
      "source": [
        "Of course, we can achieve the same thing using functions or lambdas:"
      ]
    },
    {
      "cell_type": "code",
      "execution_count": null,
      "metadata": {
        "id": "HfQuEaR4z-di"
      },
      "outputs": [],
      "source": [
        "f = lambda x: (x.a, x.b, x.c)"
      ]
    },
    {
      "cell_type": "code",
      "execution_count": null,
      "metadata": {
        "colab": {
          "base_uri": "https://localhost:8080/"
        },
        "id": "EiaYdeML0HBN",
        "outputId": "2260d9f9-e1f7-41d3-d4d4-a5f1b8cf109e"
      },
      "outputs": [
        {
          "data": {
            "text/plain": [
              "(10, 20, 30)"
            ]
          },
          "execution_count": 966,
          "metadata": {},
          "output_type": "execute_result"
        }
      ],
      "source": [
        "f(obj)"
      ]
    },
    {
      "cell_type": "code",
      "execution_count": null,
      "metadata": {
        "id": "EGzfc6QV0IMN"
      },
      "outputs": [],
      "source": [
        "f = lambda x: (x[2], x[3])"
      ]
    },
    {
      "cell_type": "code",
      "execution_count": null,
      "metadata": {
        "colab": {
          "base_uri": "https://localhost:8080/"
        },
        "id": "eU2boml80LiR",
        "outputId": "870acf00-8346-4ac3-c096-a564dd03010a"
      },
      "outputs": [
        {
          "data": {
            "text/plain": [
              "(3, 4)"
            ]
          },
          "execution_count": 968,
          "metadata": {},
          "output_type": "execute_result"
        }
      ],
      "source": [
        "f([1, 2, 3, 4])"
      ]
    },
    {
      "cell_type": "code",
      "execution_count": null,
      "metadata": {
        "colab": {
          "base_uri": "https://localhost:8080/"
        },
        "id": "C9at0OjG0NeG",
        "outputId": "25cae497-7f6d-4604-c4a1-199fc0b82c3e"
      },
      "outputs": [
        {
          "data": {
            "text/plain": [
              "('t', 'h')"
            ]
          },
          "execution_count": 969,
          "metadata": {},
          "output_type": "execute_result"
        }
      ],
      "source": [
        "f('python')"
      ]
    },
    {
      "cell_type": "markdown",
      "metadata": {
        "id": "HzUs-aWn0QO3"
      },
      "source": [
        "**Use Case Example: Sorting**"
      ]
    },
    {
      "cell_type": "markdown",
      "metadata": {
        "id": "cKKg4Eop0UMy"
      },
      "source": [
        "Suppose we want to sort a list of complex numbers based on the real part of the numbers:"
      ]
    },
    {
      "cell_type": "code",
      "execution_count": null,
      "metadata": {
        "colab": {
          "base_uri": "https://localhost:8080/"
        },
        "id": "mTOi9Kwn0PFC",
        "outputId": "aee065f1-14a4-4379-e67e-c30120023588"
      },
      "outputs": [
        {
          "data": {
            "text/plain": [
              "2.0"
            ]
          },
          "execution_count": 970,
          "metadata": {},
          "output_type": "execute_result"
        }
      ],
      "source": [
        "a = 2 + 5j\n",
        "a.real"
      ]
    },
    {
      "cell_type": "code",
      "execution_count": null,
      "metadata": {
        "colab": {
          "base_uri": "https://localhost:8080/"
        },
        "id": "m72OlJKN0aNY",
        "outputId": "0161599f-5a47-461e-a34c-220c671d9fd1"
      },
      "outputs": [
        {
          "data": {
            "text/plain": [
              "[(5+3j), (8+2j), (10+1j)]"
            ]
          },
          "execution_count": 971,
          "metadata": {},
          "output_type": "execute_result"
        }
      ],
      "source": [
        "l = [10+1j, 8+2j, 5+3j]\n",
        "sorted(l, key=operator.attrgetter('real'))"
      ]
    },
    {
      "cell_type": "markdown",
      "metadata": {
        "id": "MzZ3BRDt0iHM"
      },
      "source": [
        "Or if we want to sort a list of string based on the last character of the strings:"
      ]
    },
    {
      "cell_type": "code",
      "execution_count": null,
      "metadata": {
        "id": "aWe4plbn0goj"
      },
      "outputs": [],
      "source": [
        "l = ['aaz', 'aad', 'aaa', 'aac']"
      ]
    },
    {
      "cell_type": "markdown",
      "metadata": {
        "id": "ig_kuLMQ0rc3"
      },
      "source": [
        "Or maybe we want to sort a list of tuples based on the first item of each tuple:"
      ]
    },
    {
      "cell_type": "code",
      "execution_count": null,
      "metadata": {
        "colab": {
          "base_uri": "https://localhost:8080/"
        },
        "id": "cYGC6Svp0qYl",
        "outputId": "09a0b124-9327-4c9b-ae75-88eba9567e5e"
      },
      "outputs": [
        {
          "data": {
            "text/plain": [
              "[(1, 2, 3), (2, 3, 4), (3, 4), (4,)]"
            ]
          },
          "execution_count": 973,
          "metadata": {},
          "output_type": "execute_result"
        }
      ],
      "source": [
        "l = [(2, 3, 4), (1, 2, 3), (4, ), (3, 4)]\n",
        "sorted(l, key=operator.itemgetter(0))"
      ]
    },
    {
      "cell_type": "markdown",
      "metadata": {
        "id": "ZyClZEpZ06SL"
      },
      "source": [
        "**Slicing**"
      ]
    },
    {
      "cell_type": "code",
      "execution_count": null,
      "metadata": {
        "id": "FouugKzx01oi"
      },
      "outputs": [],
      "source": [
        "l = [1, 2, 3, 4]"
      ]
    },
    {
      "cell_type": "code",
      "execution_count": null,
      "metadata": {
        "colab": {
          "base_uri": "https://localhost:8080/"
        },
        "id": "voH7Rka309pb",
        "outputId": "ba61d006-b484-469b-9c19-faa95d856a69"
      },
      "outputs": [
        {
          "data": {
            "text/plain": [
              "[1, 2]"
            ]
          },
          "execution_count": 975,
          "metadata": {},
          "output_type": "execute_result"
        }
      ],
      "source": [
        "l[0:2]"
      ]
    },
    {
      "cell_type": "code",
      "execution_count": null,
      "metadata": {
        "colab": {
          "base_uri": "https://localhost:8080/"
        },
        "id": "_Y8TaSpW0-Yf",
        "outputId": "adcc9ac4-b49c-4d31-a200-36bf2c3f2af1"
      },
      "outputs": [
        {
          "name": "stdout",
          "output_type": "stream",
          "text": [
            "['a', 'b', 'c', 3, 4]\n"
          ]
        }
      ],
      "source": [
        "l[0:2] = ['a', 'b', 'c']\n",
        "print(l)"
      ]
    },
    {
      "cell_type": "code",
      "execution_count": null,
      "metadata": {
        "colab": {
          "base_uri": "https://localhost:8080/"
        },
        "id": "PmY0B2Pl1CDq",
        "outputId": "dabef932-c445-4fdf-b407-1c82b2f61dac"
      },
      "outputs": [
        {
          "name": "stdout",
          "output_type": "stream",
          "text": [
            "['a', 'b', 'c']\n"
          ]
        }
      ],
      "source": [
        "del l[3:5]\n",
        "print(l)"
      ]
    },
    {
      "cell_type": "markdown",
      "metadata": {
        "id": "oaHQAfke1Hjm"
      },
      "source": [
        "We can do the same thing this way:"
      ]
    },
    {
      "cell_type": "code",
      "execution_count": null,
      "metadata": {
        "id": "ZvFsd_4g1GuI"
      },
      "outputs": [],
      "source": [
        "l = [1, 2, 3, 4]"
      ]
    },
    {
      "cell_type": "code",
      "execution_count": null,
      "metadata": {
        "colab": {
          "base_uri": "https://localhost:8080/"
        },
        "id": "o6DYaEgf1LfB",
        "outputId": "f56c7adc-a556-4b2e-a7c1-762b18e6ad54"
      },
      "outputs": [
        {
          "data": {
            "text/plain": [
              "[1, 2]"
            ]
          },
          "execution_count": 979,
          "metadata": {},
          "output_type": "execute_result"
        }
      ],
      "source": [
        "operator.getitem(l, slice(0,2))"
      ]
    },
    {
      "cell_type": "code",
      "execution_count": null,
      "metadata": {
        "colab": {
          "base_uri": "https://localhost:8080/"
        },
        "id": "dyzgvfHU1PyC",
        "outputId": "e32b09a6-1fd5-4166-b791-c1f911f7dc06"
      },
      "outputs": [
        {
          "name": "stdout",
          "output_type": "stream",
          "text": [
            "['a', 'b', 'c', 3, 4]\n"
          ]
        }
      ],
      "source": [
        "operator.setitem(l, slice(0,2), ['a', 'b', 'c'])\n",
        "print(l)"
      ]
    },
    {
      "cell_type": "code",
      "execution_count": null,
      "metadata": {
        "colab": {
          "base_uri": "https://localhost:8080/"
        },
        "id": "s8PZyqRP1Uyk",
        "outputId": "5d67c9c0-4df9-4463-cd9d-6f214b7eb045"
      },
      "outputs": [
        {
          "name": "stdout",
          "output_type": "stream",
          "text": [
            "['a', 'b', 'c']\n"
          ]
        }
      ],
      "source": [
        "operator.delitem(l, slice(3, 5))\n",
        "print(l)"
      ]
    },
    {
      "cell_type": "markdown",
      "metadata": {
        "id": "KNsm4B_x1ZOz"
      },
      "source": [
        "**Calling another Callable**"
      ]
    },
    {
      "cell_type": "code",
      "execution_count": null,
      "metadata": {
        "colab": {
          "base_uri": "https://localhost:8080/",
          "height": 35
        },
        "id": "Fh_cg66o1X0H",
        "outputId": "34249e4a-0d01-486c-fa43-2274000ec2a0"
      },
      "outputs": [
        {
          "data": {
            "text/plain": [
              "'PYTHON'"
            ]
          },
          "execution_count": 982,
          "metadata": {},
          "output_type": "execute_result"
        }
      ],
      "source": [
        "x = 'python'\n",
        "x.upper()"
      ]
    },
    {
      "cell_type": "code",
      "execution_count": null,
      "metadata": {
        "colab": {
          "base_uri": "https://localhost:8080/",
          "height": 35
        },
        "id": "E2o1pU2F1d04",
        "outputId": "4c9c6305-c2c3-4a22-dc0b-020d668a4cb0"
      },
      "outputs": [
        {
          "data": {
            "text/plain": [
              "'PYTHON'"
            ]
          },
          "execution_count": 983,
          "metadata": {},
          "output_type": "execute_result"
        }
      ],
      "source": [
        "operator.methodcaller('upper')('python')"
      ]
    },
    {
      "cell_type": "markdown",
      "metadata": {
        "id": "Y8GaIB2q1heX"
      },
      "source": [
        "Of course, since `upper` is just an attribute of the string object `x`, we could also have used:"
      ]
    },
    {
      "cell_type": "code",
      "execution_count": null,
      "metadata": {
        "colab": {
          "base_uri": "https://localhost:8080/",
          "height": 35
        },
        "id": "2JjgoWlX1gkp",
        "outputId": "ae761fba-7f4b-4792-804c-94aa549aa898"
      },
      "outputs": [
        {
          "data": {
            "text/plain": [
              "'PYTHON'"
            ]
          },
          "execution_count": 984,
          "metadata": {},
          "output_type": "execute_result"
        }
      ],
      "source": [
        "operator.attrgetter('upper')(x)()"
      ]
    },
    {
      "cell_type": "markdown",
      "metadata": {
        "id": "fOuTcXHA1uVS"
      },
      "source": [
        "If the callable takes in more than one parameter, they can be specified as additional arguments in `methodcaller`:"
      ]
    },
    {
      "cell_type": "code",
      "execution_count": null,
      "metadata": {
        "id": "KdCYtEYk1rEp"
      },
      "outputs": [],
      "source": [
        "class MyClass:\n",
        "    def __init__(self):\n",
        "        self.a = 10\n",
        "        self.b = 20\n",
        "\n",
        "    def do_something(self, c):\n",
        "        print(self.a, self.b, c)"
      ]
    },
    {
      "cell_type": "code",
      "execution_count": null,
      "metadata": {
        "id": "h-qd42ec2B7I"
      },
      "outputs": [],
      "source": [
        "obj = MyClass()"
      ]
    },
    {
      "cell_type": "code",
      "execution_count": null,
      "metadata": {
        "colab": {
          "base_uri": "https://localhost:8080/"
        },
        "id": "j_6ZgT6l2DRF",
        "outputId": "3c77c0bf-e9a5-4efb-d4ef-126623b1f926"
      },
      "outputs": [
        {
          "name": "stdout",
          "output_type": "stream",
          "text": [
            "10 20 100\n"
          ]
        }
      ],
      "source": [
        "obj.do_something(100)"
      ]
    },
    {
      "cell_type": "code",
      "execution_count": null,
      "metadata": {
        "colab": {
          "base_uri": "https://localhost:8080/"
        },
        "id": "gatQwldT2FC8",
        "outputId": "e5499bf4-d23c-46bc-c803-75747f1ceee0"
      },
      "outputs": [
        {
          "name": "stdout",
          "output_type": "stream",
          "text": [
            "10 20 100\n"
          ]
        }
      ],
      "source": [
        "operator.methodcaller('do_something', 100)(obj)"
      ]
    },
    {
      "cell_type": "code",
      "execution_count": null,
      "metadata": {
        "id": "fvH5z1pn2JeK"
      },
      "outputs": [],
      "source": [
        "class MyClass:\n",
        "    def __init__(self):\n",
        "        self.a = 10\n",
        "        self.b = 20\n",
        "    \n",
        "    def do_something(self, *, c):\n",
        "        print(self.a, self.b, c)"
      ]
    },
    {
      "cell_type": "code",
      "execution_count": null,
      "metadata": {
        "colab": {
          "base_uri": "https://localhost:8080/"
        },
        "id": "d7WCEugj2POw",
        "outputId": "dd9377e0-c999-479e-81c1-48ad763d780d"
      },
      "outputs": [
        {
          "name": "stdout",
          "output_type": "stream",
          "text": [
            "10 20 100\n"
          ]
        }
      ],
      "source": [
        "obj.do_something(c=100)"
      ]
    },
    {
      "cell_type": "code",
      "execution_count": null,
      "metadata": {
        "colab": {
          "base_uri": "https://localhost:8080/"
        },
        "id": "8wHibT6R2SkN",
        "outputId": "88410a0f-6c29-478a-d9c0-b7490e9e49ef"
      },
      "outputs": [
        {
          "name": "stdout",
          "output_type": "stream",
          "text": [
            "10 20 100\n"
          ]
        }
      ],
      "source": [
        "operator.methodcaller('do_something', c=100)(obj)"
      ]
    },
    {
      "cell_type": "markdown",
      "metadata": {
        "id": "PimcPvTz2Yph"
      },
      "source": [
        "More information on the `operator` module can be found here:\n",
        "\n",
        "https://docs.python.org/3/library/operator.html"
      ]
    },
    {
      "cell_type": "markdown",
      "metadata": {
        "id": "XvnVqQfm2zst"
      },
      "source": [
        "## Section 07 - Scopes, Closures and Decorators"
      ]
    },
    {
      "cell_type": "markdown",
      "metadata": {
        "id": "lRlDbUyn24Ux"
      },
      "source": [
        "### 01 - Global and Local Scopes"
      ]
    },
    {
      "cell_type": "markdown",
      "metadata": {
        "id": "NkUH_obD29GG"
      },
      "source": [
        "In Python the `global` scope refers to the `module` scope.\n",
        "\n",
        "The scope of a variable is normally defined by where it is (lexically) defined in the code."
      ]
    },
    {
      "cell_type": "code",
      "execution_count": null,
      "metadata": {
        "id": "cGaFgImb2WIK"
      },
      "outputs": [],
      "source": [
        "a = 10"
      ]
    },
    {
      "cell_type": "markdown",
      "metadata": {
        "id": "9qhqHBQm37O_"
      },
      "source": [
        "In this case, `a` is defined inside the main module, so it is a global variable."
      ]
    },
    {
      "cell_type": "code",
      "execution_count": null,
      "metadata": {
        "id": "a8vlJ2oV36ZO"
      },
      "outputs": [],
      "source": [
        "def my_fucn(n):\n",
        "    c = n ** 2\n",
        "    return c"
      ]
    },
    {
      "cell_type": "markdown",
      "metadata": {
        "id": "qqZsNk7y4XUp"
      },
      "source": [
        "In this case, `c` was defined inside the function `my_func`, so it is `local`  to the function `my_func`. In this example, `n` is also `local` to `my_func`\n",
        "\n",
        "Global variables can be accessed from any inner scope in the module, for example:"
      ]
    },
    {
      "cell_type": "code",
      "execution_count": null,
      "metadata": {
        "id": "q53X4c-y4Weh"
      },
      "outputs": [],
      "source": [
        "def my_func(n):\n",
        "    print('global:', a)\n",
        "    c = a ** n\n",
        "    return c"
      ]
    },
    {
      "cell_type": "code",
      "execution_count": null,
      "metadata": {
        "colab": {
          "base_uri": "https://localhost:8080/"
        },
        "id": "exTrS07T4xqb",
        "outputId": "bd906b03-1cfd-4334-dd89-36bb5a78269f"
      },
      "outputs": [
        {
          "name": "stdout",
          "output_type": "stream",
          "text": [
            "global: 10\n"
          ]
        },
        {
          "data": {
            "text/plain": [
              "100"
            ]
          },
          "execution_count": 995,
          "metadata": {},
          "output_type": "execute_result"
        }
      ],
      "source": [
        "my_func(2)"
      ]
    },
    {
      "cell_type": "markdown",
      "metadata": {
        "id": "tQYXhlXL44yt"
      },
      "source": [
        "As you can see, `my_func` was able to reference the global variable `a`.\n",
        "\n",
        "But remember that the scope of a variable is determined by where it is assigned. In particular, any variable defined (i.e. assigned a value) inside a function is local to that function, even if the variable name happens to be global too!"
      ]
    },
    {
      "cell_type": "code",
      "execution_count": null,
      "metadata": {
        "id": "KkvsjsvY4yvX"
      },
      "outputs": [],
      "source": [
        "def my_func(n):\n",
        "    a = 2\n",
        "    c = a ** 2\n",
        "    return c"
      ]
    },
    {
      "cell_type": "code",
      "execution_count": null,
      "metadata": {
        "colab": {
          "base_uri": "https://localhost:8080/"
        },
        "id": "115YEQ-X5WEn",
        "outputId": "1aa10063-4daa-4517-f486-c229ee997325"
      },
      "outputs": [
        {
          "name": "stdout",
          "output_type": "stream",
          "text": [
            "10\n",
            "4\n",
            "10\n"
          ]
        }
      ],
      "source": [
        "print(a)\n",
        "print(my_func(3))\n",
        "print(a)"
      ]
    },
    {
      "cell_type": "markdown",
      "metadata": {
        "id": "gZkWRs-35a9t"
      },
      "source": [
        "In order to change the value of a global variable within an inner scope, we can use the `global` keyword as follows:"
      ]
    },
    {
      "cell_type": "code",
      "execution_count": null,
      "metadata": {
        "id": "SP8nIKAr5Y56"
      },
      "outputs": [],
      "source": [
        "def my_func(n):\n",
        "    global a\n",
        "    a = 2\n",
        "    c = a ** 2\n",
        "    return c"
      ]
    },
    {
      "cell_type": "code",
      "execution_count": null,
      "metadata": {
        "colab": {
          "base_uri": "https://localhost:8080/"
        },
        "id": "jliIM8QC5ntn",
        "outputId": "f6bb4267-ea7e-4e5c-efa1-63b1d6177e87"
      },
      "outputs": [
        {
          "name": "stdout",
          "output_type": "stream",
          "text": [
            "10\n",
            "4\n",
            "2\n"
          ]
        }
      ],
      "source": [
        "print(a)\n",
        "print(my_func(3))\n",
        "print(a)"
      ]
    },
    {
      "cell_type": "markdown",
      "metadata": {
        "id": "b9sVTww95tTb"
      },
      "source": [
        "As you can see, the value of the global variable `a` was changed within `my_func`.\n",
        "\n",
        "In fact, we can create global variables from within an inner function - Python will simply create the variable and place it in the global scope instead of the local scope:"
      ]
    },
    {
      "cell_type": "code",
      "execution_count": null,
      "metadata": {
        "id": "VNrBCTWf5qnO"
      },
      "outputs": [],
      "source": [
        "def my_func(n):\n",
        "    global var\n",
        "    var = 'hello world'\n",
        "    return n ** 2"
      ]
    },
    {
      "cell_type": "markdown",
      "metadata": {
        "id": "ERexTL566gLC"
      },
      "source": [
        "Now, `var` does not exist yet, since the function has not run:"
      ]
    },
    {
      "cell_type": "code",
      "execution_count": null,
      "metadata": {
        "colab": {
          "base_uri": "https://localhost:8080/",
          "height": 166
        },
        "id": "dI6AuRGa6e7F",
        "outputId": "5535dcf2-5613-47d7-b9d4-017340ed4fa6"
      },
      "outputs": [
        {
          "ename": "NameError",
          "evalue": "name 'var' is not defined",
          "output_type": "error",
          "traceback": [
            "\u001b[1;31m---------------------------------------------------------------------------\u001b[0m",
            "\u001b[1;31mNameError\u001b[0m                                 Traceback (most recent call last)",
            "Input \u001b[1;32mIn [1001]\u001b[0m, in \u001b[0;36m<cell line: 1>\u001b[1;34m()\u001b[0m\n\u001b[1;32m----> 1\u001b[0m \u001b[38;5;28mprint\u001b[39m(\u001b[43mvar\u001b[49m)\n",
            "\u001b[1;31mNameError\u001b[0m: name 'var' is not defined"
          ]
        }
      ],
      "source": [
        "print(var)"
      ]
    },
    {
      "cell_type": "markdown",
      "metadata": {
        "id": "Q-S9DNgi6m2u"
      },
      "source": [
        "Once we call the function though, it will create that global `var`:"
      ]
    },
    {
      "cell_type": "code",
      "execution_count": null,
      "metadata": {
        "colab": {
          "base_uri": "https://localhost:8080/"
        },
        "id": "SY9OQtL06lH4",
        "outputId": "75aec548-a476-47fd-fcf8-d09d44045416"
      },
      "outputs": [
        {
          "data": {
            "text/plain": [
              "4"
            ]
          },
          "execution_count": 1002,
          "metadata": {},
          "output_type": "execute_result"
        }
      ],
      "source": [
        "my_func(2)"
      ]
    },
    {
      "cell_type": "code",
      "execution_count": null,
      "metadata": {
        "colab": {
          "base_uri": "https://localhost:8080/"
        },
        "id": "0fSBsc896sQb",
        "outputId": "692180bb-f6c4-440c-efb8-41a37b17abca"
      },
      "outputs": [
        {
          "name": "stdout",
          "output_type": "stream",
          "text": [
            "hello world\n"
          ]
        }
      ],
      "source": [
        "print(var)"
      ]
    },
    {
      "cell_type": "markdown",
      "metadata": {
        "id": "-bTIjhDN6uZc"
      },
      "source": [
        "\n",
        "\n",
        "---\n",
        "\n",
        "**BE CAREFUL!**"
      ]
    },
    {
      "cell_type": "markdown",
      "metadata": {
        "id": "65zOE5id6x7Y"
      },
      "source": [
        "*Remember that whenever you assign a value to a variable without having specified the variable as `global`, it is `local` in the current scope. Moreover, it does not matter where the assignment in the code takes place, the variable is considered local in the entire scope - Python determines the scope of objects at compile-time, nor at run-time.*"
      ]
    },
    {
      "cell_type": "markdown",
      "metadata": {
        "id": "jo1iKenM7Mma"
      },
      "source": [
        "*Let's see an example of this:*"
      ]
    },
    {
      "cell_type": "code",
      "execution_count": null,
      "metadata": {
        "id": "3Nz1-SsH6tQ4"
      },
      "outputs": [],
      "source": [
        "a = 10\n",
        "b = 100"
      ]
    },
    {
      "cell_type": "code",
      "execution_count": null,
      "metadata": {
        "id": "OB-jDTSI7QPp"
      },
      "outputs": [],
      "source": [
        "def my_func():\n",
        "    print(a)\n",
        "    print(b)"
      ]
    },
    {
      "cell_type": "code",
      "execution_count": null,
      "metadata": {
        "colab": {
          "base_uri": "https://localhost:8080/"
        },
        "id": "TcNXJ67C7Tci",
        "outputId": "e0e45aee-5116-4ea1-8cd5-090e5c078d51"
      },
      "outputs": [
        {
          "name": "stdout",
          "output_type": "stream",
          "text": [
            "10\n",
            "100\n"
          ]
        }
      ],
      "source": [
        "my_func()"
      ]
    },
    {
      "cell_type": "markdown",
      "metadata": {
        "id": "YEVM2LhlLxkU"
      },
      "source": [
        "\n",
        "\n",
        "---\n",
        "\n"
      ]
    },
    {
      "cell_type": "markdown",
      "metadata": {
        "id": "0HO17zNZ7WKZ"
      },
      "source": [
        "So, this works as expected - `a` and `b` are taken from the global scope since they are referenced before being assigned a value in the local scope.\n",
        "\n",
        "But now consider the following example:"
      ]
    },
    {
      "cell_type": "code",
      "execution_count": null,
      "metadata": {
        "id": "wRZ7Zj0s7UZ2"
      },
      "outputs": [],
      "source": [
        "a = 10\n",
        "b = 100\n",
        "\n",
        "def my_func():\n",
        "    print(a)\n",
        "    print(b)\n",
        "    b = 1000"
      ]
    },
    {
      "cell_type": "code",
      "execution_count": null,
      "metadata": {
        "colab": {
          "base_uri": "https://localhost:8080/",
          "height": 288
        },
        "id": "nAw26t6l7qP-",
        "outputId": "06711892-0f6f-49df-bc74-c19f7d5b290e"
      },
      "outputs": [
        {
          "name": "stdout",
          "output_type": "stream",
          "text": [
            "10\n"
          ]
        },
        {
          "ename": "UnboundLocalError",
          "evalue": "local variable 'b' referenced before assignment",
          "output_type": "error",
          "traceback": [
            "\u001b[1;31m---------------------------------------------------------------------------\u001b[0m",
            "\u001b[1;31mUnboundLocalError\u001b[0m                         Traceback (most recent call last)",
            "Input \u001b[1;32mIn [1008]\u001b[0m, in \u001b[0;36m<cell line: 1>\u001b[1;34m()\u001b[0m\n\u001b[1;32m----> 1\u001b[0m \u001b[43mmy_func\u001b[49m\u001b[43m(\u001b[49m\u001b[43m)\u001b[49m\n",
            "Input \u001b[1;32mIn [1007]\u001b[0m, in \u001b[0;36mmy_func\u001b[1;34m()\u001b[0m\n\u001b[0;32m      4\u001b[0m \u001b[38;5;28;01mdef\u001b[39;00m \u001b[38;5;21mmy_func\u001b[39m():\n\u001b[0;32m      5\u001b[0m     \u001b[38;5;28mprint\u001b[39m(a)\n\u001b[1;32m----> 6\u001b[0m     \u001b[38;5;28mprint\u001b[39m(\u001b[43mb\u001b[49m)\n\u001b[0;32m      7\u001b[0m     b \u001b[38;5;241m=\u001b[39m \u001b[38;5;241m1000\u001b[39m\n",
            "\u001b[1;31mUnboundLocalError\u001b[0m: local variable 'b' referenced before assignment"
          ]
        }
      ],
      "source": [
        "my_func()"
      ]
    },
    {
      "cell_type": "markdown",
      "metadata": {
        "id": "iPM6QfmM7u6p"
      },
      "source": [
        "As you can see, `b` in the line `print(b)` is considered a `local` variable - that's because the next line assigns a value to `b` - hence `b` is scoped as local by Python for the entire function.\n",
        "\n",
        "Of course, functions are also objects, and scoping applies equally to function objects too. For example, we can \"mask\" the built-in `print` Python function:"
      ]
    },
    {
      "cell_type": "code",
      "execution_count": null,
      "metadata": {
        "colab": {
          "base_uri": "https://localhost:8080/",
          "height": 35
        },
        "id": "PpC4XP2M7q5x",
        "outputId": "78922ba5-9dc0-413b-819f-6c9222acefc1"
      },
      "outputs": [
        {
          "data": {
            "text/plain": [
              "'hello world'"
            ]
          },
          "execution_count": 1009,
          "metadata": {},
          "output_type": "execute_result"
        }
      ],
      "source": [
        "print = lambda x: 'hello {0}'.format(x)\n",
        "\n",
        "def my_func(name):\n",
        "    return print(name)\n",
        "\n",
        "my_func('world')"
      ]
    },
    {
      "cell_type": "markdown",
      "metadata": {
        "id": "Rb6CSwmN8WlB"
      },
      "source": [
        "You may be wondering how we get our real `print` function back!"
      ]
    },
    {
      "cell_type": "code",
      "execution_count": null,
      "metadata": {
        "id": "5qgzr7HW8Vil"
      },
      "outputs": [],
      "source": [
        "del print"
      ]
    },
    {
      "cell_type": "code",
      "execution_count": null,
      "metadata": {
        "colab": {
          "base_uri": "https://localhost:8080/"
        },
        "id": "7l4ub2uV8cnU",
        "outputId": "b4088868-61c1-4e79-ea40-f03ddfe89b5d"
      },
      "outputs": [
        {
          "name": "stdout",
          "output_type": "stream",
          "text": [
            "hello\n"
          ]
        }
      ],
      "source": [
        "print('hello')"
      ]
    },
    {
      "cell_type": "markdown",
      "metadata": {
        "id": "uxGVrmmK8e4O"
      },
      "source": [
        "Yay!!\n",
        "\n",
        "If you have experience in some other programming languages you may ve wondering if loops and other code \"blocks\" haver their own local scope too. For example in Java, the following would not work:\n",
        "\n",
        "```\n",
        "for (int i=0; i<10; i++) {\n",
        "    int x = 2 * i;\n",
        "}\n",
        "system.out.println(x);\n",
        "```\n",
        "\n",
        "But in Python it works perfectly fine:"
      ]
    },
    {
      "cell_type": "code",
      "execution_count": null,
      "metadata": {
        "colab": {
          "base_uri": "https://localhost:8080/"
        },
        "id": "HF42MFrV8dvm",
        "outputId": "171f749d-d69e-49ed-fece-77adb71f058c"
      },
      "outputs": [
        {
          "name": "stdout",
          "output_type": "stream",
          "text": [
            "18\n"
          ]
        }
      ],
      "source": [
        "for i in range(10):\n",
        "    x = 2 * i\n",
        "print(x)"
      ]
    },
    {
      "cell_type": "markdown",
      "metadata": {
        "id": "JbQEP9gR8-Ou"
      },
      "source": [
        "In this case, when we assigned a value to `x`, Python put it in the global (module) scope, so we can reference it after the `for` loop has finished running."
      ]
    },
    {
      "cell_type": "markdown",
      "metadata": {
        "id": "zDgvlBsHs0BF"
      },
      "source": [
        "### 02 - Nonlocal Scopes"
      ]
    },
    {
      "cell_type": "markdown",
      "metadata": {
        "id": "9DMrT0-Ys4VC"
      },
      "source": [
        "Functions defined inside another function can reference variables from that enlosing scope, just like functions can reference variables from the global scope."
      ]
    },
    {
      "cell_type": "code",
      "execution_count": null,
      "metadata": {
        "id": "l2wPzMOJ89Z2"
      },
      "outputs": [],
      "source": [
        "def outer_func():\n",
        "    x = 'hello'\n",
        "\n",
        "    def inner_func():\n",
        "        print(x)\n",
        "    \n",
        "    inner_func()"
      ]
    },
    {
      "cell_type": "code",
      "execution_count": null,
      "metadata": {
        "colab": {
          "base_uri": "https://localhost:8080/"
        },
        "id": "vumWMsxxtolW",
        "outputId": "ba0516e0-60a2-49dd-d7bd-144f0fbd2a0f"
      },
      "outputs": [
        {
          "name": "stdout",
          "output_type": "stream",
          "text": [
            "hello\n"
          ]
        }
      ],
      "source": [
        "outer_func()"
      ]
    },
    {
      "cell_type": "markdown",
      "metadata": {
        "id": "91NTwS7Tt8MH"
      },
      "source": [
        "in fact, any level of nesting is supported since Python just keeps looking in enclosing scopes until it finds what it needs (or fails to finde it by the time it finishes looking in the built-in scope, in which case a runtime error occurrs.)"
      ]
    },
    {
      "cell_type": "code",
      "execution_count": null,
      "metadata": {
        "id": "N7guVTkNtqa6"
      },
      "outputs": [],
      "source": [
        "def outer_func():\n",
        "    x = 'hello'\n",
        "    def inner1():\n",
        "        def inner2():\n",
        "            print(x)\n",
        "        inner2()\n",
        "    inner1()"
      ]
    },
    {
      "cell_type": "code",
      "execution_count": null,
      "metadata": {
        "colab": {
          "base_uri": "https://localhost:8080/"
        },
        "id": "Mj6-olOwvKJV",
        "outputId": "7b8b25ee-3023-4f60-c227-2cf8708b14a5"
      },
      "outputs": [
        {
          "name": "stdout",
          "output_type": "stream",
          "text": [
            "hello\n"
          ]
        }
      ],
      "source": [
        "outer_func()"
      ]
    },
    {
      "cell_type": "markdown",
      "metadata": {
        "id": "69kbOP17vTq6"
      },
      "source": [
        "But if we assign a value to a variable, it is considered part of the local scope, and potentially masks enclosing scope variable names:"
      ]
    },
    {
      "cell_type": "code",
      "execution_count": null,
      "metadata": {
        "id": "IHnv1pbzvLqZ"
      },
      "outputs": [],
      "source": [
        "def outer():\n",
        "    x = 'hello'\n",
        "    def inner():\n",
        "        x = 'python'\n",
        "    inner()\n",
        "    print(x)"
      ]
    },
    {
      "cell_type": "code",
      "execution_count": null,
      "metadata": {
        "colab": {
          "base_uri": "https://localhost:8080/"
        },
        "id": "RJKf9ODGwYjr",
        "outputId": "afc5a43f-e426-4f7c-bf39-8586b82696e9"
      },
      "outputs": [
        {
          "name": "stdout",
          "output_type": "stream",
          "text": [
            "hello\n"
          ]
        }
      ],
      "source": [
        "outer()"
      ]
    },
    {
      "cell_type": "markdown",
      "metadata": {
        "id": "S0fC0qJ0wejt"
      },
      "source": [
        "As you can see, `x` in outer was not changed.\n",
        "\n",
        "To achieve this, we can use the `nonlocal` keyword:"
      ]
    },
    {
      "cell_type": "code",
      "execution_count": null,
      "metadata": {
        "id": "Q53N2-iGwaQq"
      },
      "outputs": [],
      "source": [
        "def outer():\n",
        "    x = 'hello'\n",
        "    def inner():\n",
        "        nonlocal x\n",
        "        x = 'python'\n",
        "    inner()\n",
        "    print(x)"
      ]
    },
    {
      "cell_type": "code",
      "execution_count": null,
      "metadata": {
        "colab": {
          "base_uri": "https://localhost:8080/"
        },
        "id": "1-wQGutbwx7G",
        "outputId": "6c8a6c65-3b2d-40e8-d897-d979ee9b5122"
      },
      "outputs": [
        {
          "name": "stdout",
          "output_type": "stream",
          "text": [
            "python\n"
          ]
        }
      ],
      "source": [
        "outer()"
      ]
    },
    {
      "cell_type": "markdown",
      "metadata": {
        "id": "s_RHNzgxxChR"
      },
      "source": [
        "Of course, this can work at any level as well:"
      ]
    },
    {
      "cell_type": "code",
      "execution_count": null,
      "metadata": {
        "id": "cQ67YXw4wy7u"
      },
      "outputs": [],
      "source": [
        "def outer():\n",
        "    x = 'hello'\n",
        "\n",
        "    def inner1():\n",
        "        def inner2():\n",
        "            nonlocal x\n",
        "            x = 'python'\n",
        "        inner2()\n",
        "    inner1()\n",
        "    print(x)"
      ]
    },
    {
      "cell_type": "code",
      "execution_count": null,
      "metadata": {
        "colab": {
          "base_uri": "https://localhost:8080/"
        },
        "id": "TOWPy8DExX4k",
        "outputId": "84ebd535-72c7-4eab-b29f-71b381d966cc"
      },
      "outputs": [
        {
          "name": "stdout",
          "output_type": "stream",
          "text": [
            "python\n"
          ]
        }
      ],
      "source": [
        "outer()"
      ]
    },
    {
      "cell_type": "markdown",
      "metadata": {
        "id": "7vprA_C2xjBL"
      },
      "source": [
        "How far Python looks up the chain depends on the first occurence of the variable name in an enclosing scope.\n",
        "\n",
        "Consider the following example:"
      ]
    },
    {
      "cell_type": "code",
      "execution_count": null,
      "metadata": {
        "id": "XmbuBFQGxZeU"
      },
      "outputs": [],
      "source": [
        "def outer():\n",
        "    x = 'hello'\n",
        "    def inner1():\n",
        "        x = 'python'\n",
        "        def inner2():\n",
        "            nonlocal x\n",
        "            x = 'monty'\n",
        "        print('inner1 (before):', x)\n",
        "        inner2()\n",
        "        print('inner2 (after):', x)\n",
        "    inner1()\n",
        "    print('outer:', x)"
      ]
    },
    {
      "cell_type": "code",
      "execution_count": null,
      "metadata": {
        "colab": {
          "base_uri": "https://localhost:8080/"
        },
        "id": "pcrXh50WyANI",
        "outputId": "1d7eeff1-de43-4e26-f910-fc44c03a7b58"
      },
      "outputs": [
        {
          "name": "stdout",
          "output_type": "stream",
          "text": [
            "inner1 (before): python\n",
            "inner2 (after): monty\n",
            "outer: hello\n"
          ]
        }
      ],
      "source": [
        "outer()"
      ]
    },
    {
      "cell_type": "markdown",
      "metadata": {
        "id": "wi1_5ZZHyh3X"
      },
      "source": [
        "What happened here, is that `x` in `inner1` masked `x` in `outer`. But `inner2` indicated to Python that `x` was nonlocal, so the first local variable up in the enclosing scope chain Python found was the one in `inner1`, hence `x` in `inner2` is actually referencing `x` that is local to `inner1`\n",
        "\n",
        "We can change this behavior by making the variable `x` in `inner` nonlocal as well:"
      ]
    },
    {
      "cell_type": "code",
      "execution_count": null,
      "metadata": {
        "id": "UfJhQm_PyBPh"
      },
      "outputs": [],
      "source": [
        "def outer():\n",
        "    x = 'hello'\n",
        "    def inner1():\n",
        "        nonlocal x\n",
        "        x = 'python'\n",
        "        def inner2():\n",
        "            nonlocal x\n",
        "            x = 'monty'\n",
        "        print('inner1 (before):', x)\n",
        "        inner2()\n",
        "        print('inner1 (after):', x)\n",
        "    inner1()\n",
        "    print('outer:', x)"
      ]
    },
    {
      "cell_type": "code",
      "execution_count": null,
      "metadata": {
        "colab": {
          "base_uri": "https://localhost:8080/"
        },
        "id": "tyMcExGC2QDe",
        "outputId": "3ee5ecd8-f883-4a1c-d93c-94e2228df9e3"
      },
      "outputs": [
        {
          "name": "stdout",
          "output_type": "stream",
          "text": [
            "inner1 (before): python\n",
            "inner1 (after): monty\n",
            "outer: monty\n"
          ]
        }
      ],
      "source": [
        "outer()"
      ]
    },
    {
      "cell_type": "code",
      "execution_count": null,
      "metadata": {
        "id": "1F2HdBsC2RVq"
      },
      "outputs": [],
      "source": [
        "x = 100\n",
        "def outer():\n",
        "    x = 'python'  # masks global x\n",
        "    def inner1():\n",
        "        nonlocal x  # refers to x in outer\n",
        "        x = 'monty' # changed x in outer scope\n",
        "        def inner2():\n",
        "            global x  # refers to x in global scope\n",
        "            x = 'hello'\n",
        "        print('inner1 (before):', x)\n",
        "        inner2()\n",
        "        print('inner1 (after):', x)\n",
        "    inner1()\n",
        "    print('outer', x)   "
      ]
    },
    {
      "cell_type": "code",
      "execution_count": null,
      "metadata": {
        "colab": {
          "base_uri": "https://localhost:8080/"
        },
        "id": "T_V2x2wg5S6f",
        "outputId": "1309ec9e-6950-4b7c-f657-24ded79521ff"
      },
      "outputs": [
        {
          "name": "stdout",
          "output_type": "stream",
          "text": [
            "inner1 (before): monty\n",
            "inner1 (after): monty\n",
            "outer monty\n",
            "hello\n"
          ]
        }
      ],
      "source": [
        "outer()\n",
        "print(x)"
      ]
    },
    {
      "cell_type": "markdown",
      "metadata": {
        "id": "jzCwqwGIbkSB"
      },
      "source": [
        "\n",
        "\n",
        "---\n",
        "**BE CAREFUL!**\n"
      ]
    },
    {
      "cell_type": "markdown",
      "metadata": {
        "id": "t5FySPwDZII0"
      },
      "source": [
        "*But this will not work. In `inner` Python is looking for a local variable called `x`. `outer` has a label called `x`, but it is a global variable, not local one - hence Python does not find a local variable in the scope chain.*"
      ]
    },
    {
      "cell_type": "code",
      "execution_count": null,
      "metadata": {
        "colab": {
          "base_uri": "https://localhost:8080/",
          "height": 131
        },
        "id": "lOv8WI7u5UI9",
        "outputId": "a3e4f170-22f4-412d-b92c-9eb770bc3684"
      },
      "outputs": [
        {
          "ename": "SyntaxError",
          "evalue": "no binding for nonlocal 'x' found (766560350.py, line 7)",
          "output_type": "error",
          "traceback": [
            "\u001b[1;36m  Input \u001b[1;32mIn [1029]\u001b[1;36m\u001b[0m\n\u001b[1;33m    nonlocal x\u001b[0m\n\u001b[1;37m    ^\u001b[0m\n\u001b[1;31mSyntaxError\u001b[0m\u001b[1;31m:\u001b[0m no binding for nonlocal 'x' found\n"
          ]
        }
      ],
      "source": [
        "x = 100\n",
        "def outer():\n",
        "    global x\n",
        "    x = 'python'\n",
        "\n",
        "    def inner():\n",
        "        nonlocal x\n",
        "        x = 'monty'\n",
        "    inner()"
      ]
    },
    {
      "cell_type": "markdown",
      "metadata": {
        "id": "Ohby18OQboIh"
      },
      "source": [
        "\n",
        "\n",
        "---\n",
        "\n"
      ]
    },
    {
      "cell_type": "markdown",
      "metadata": {
        "id": "s8ZRR70RbDEJ"
      },
      "source": [
        "### 03 - Closures"
      ]
    },
    {
      "cell_type": "markdown",
      "metadata": {
        "id": "86QBJcIibGT-"
      },
      "source": [
        "Let's examine that concept of a cell to create an indirect reference for variables that are in multiple scopes."
      ]
    },
    {
      "cell_type": "code",
      "execution_count": null,
      "metadata": {
        "id": "r0Ztn_bRZtfV"
      },
      "outputs": [],
      "source": [
        "def outer():\n",
        "    x = 'python'\n",
        "    def inner():\n",
        "        print(x)\n",
        "    return inner"
      ]
    },
    {
      "cell_type": "code",
      "execution_count": null,
      "metadata": {
        "id": "ybntkQzp3IG2"
      },
      "outputs": [],
      "source": [
        "fn = outer()"
      ]
    },
    {
      "cell_type": "code",
      "execution_count": null,
      "metadata": {
        "colab": {
          "base_uri": "https://localhost:8080/"
        },
        "id": "pq8VzC9d3Jc6",
        "outputId": "2596449e-78eb-4bb4-ab25-669ad15a0275"
      },
      "outputs": [
        {
          "data": {
            "text/plain": [
              "('x',)"
            ]
          },
          "execution_count": 1032,
          "metadata": {},
          "output_type": "execute_result"
        }
      ],
      "source": [
        "fn.__code__.co_freevars"
      ]
    },
    {
      "cell_type": "markdown",
      "metadata": {
        "id": "bc-uWZt53Z33"
      },
      "source": [
        "As we can see, `x` is a free variable in the closure."
      ]
    },
    {
      "cell_type": "code",
      "execution_count": null,
      "metadata": {
        "colab": {
          "base_uri": "https://localhost:8080/"
        },
        "id": "BnDb4fu43YtR",
        "outputId": "971ad2a6-1799-4e91-a01b-50710285cd1e"
      },
      "outputs": [
        {
          "data": {
            "text/plain": [
              "(<cell at 0x000001BD6D3BE370: str object at 0x000001BD69839A30>,)"
            ]
          },
          "execution_count": 1033,
          "metadata": {},
          "output_type": "execute_result"
        }
      ],
      "source": [
        "fn.__closure__"
      ]
    },
    {
      "cell_type": "markdown",
      "metadata": {
        "id": "YPJvV14C3jdw"
      },
      "source": [
        "Here we see that the free variable `x` is actually a reference to a cell object that is itself a reference to a string object.\n",
        "\n",
        "Let's see what the memory address of `x` is in the outer function and the inner function. To be sure string interning does not play a role, I am going to use an object that we know Python will not automatically intern, like a list."
      ]
    },
    {
      "cell_type": "code",
      "execution_count": null,
      "metadata": {
        "id": "D5soaX__3fY_"
      },
      "outputs": [],
      "source": [
        "def outer():\n",
        "    x = [1, 2, 3]\n",
        "    print('outer:', hex(id(x)))\n",
        "    def inner():\n",
        "        print('inner:', hex(id(x)))\n",
        "        print(x)\n",
        "    return inner"
      ]
    },
    {
      "cell_type": "code",
      "execution_count": null,
      "metadata": {
        "colab": {
          "base_uri": "https://localhost:8080/"
        },
        "id": "S4g6qdat4aPe",
        "outputId": "86ab660f-4caa-47e7-994b-1196c772bc60"
      },
      "outputs": [
        {
          "name": "stdout",
          "output_type": "stream",
          "text": [
            "outer: 0x1bd7015a4c0\n"
          ]
        }
      ],
      "source": [
        "fn = outer()"
      ]
    },
    {
      "cell_type": "code",
      "execution_count": null,
      "metadata": {
        "colab": {
          "base_uri": "https://localhost:8080/"
        },
        "id": "aW9EVcDu4bUB",
        "outputId": "71e3d2a2-cff4-4a68-d9b5-f6ac1de6096b"
      },
      "outputs": [
        {
          "data": {
            "text/plain": [
              "(<cell at 0x000001BD6C1363D0: list object at 0x000001BD7015A4C0>,)"
            ]
          },
          "execution_count": 1036,
          "metadata": {},
          "output_type": "execute_result"
        }
      ],
      "source": [
        "fn.__closure__"
      ]
    },
    {
      "cell_type": "code",
      "execution_count": null,
      "metadata": {
        "colab": {
          "base_uri": "https://localhost:8080/"
        },
        "id": "VYO2OynA4k_-",
        "outputId": "17c8424e-d566-44ee-86c3-f8786b3e5871"
      },
      "outputs": [
        {
          "name": "stdout",
          "output_type": "stream",
          "text": [
            "inner: 0x1bd7015a4c0\n",
            "[1, 2, 3]\n"
          ]
        }
      ],
      "source": [
        "fn()"
      ]
    },
    {
      "cell_type": "markdown",
      "metadata": {
        "id": "LZ1xneLd5BE-"
      },
      "source": [
        "As you can see, each the memory address of `x` in `outer`, `inner` and the cell all point to the same object."
      ]
    },
    {
      "cell_type": "markdown",
      "metadata": {
        "id": "37KdHCJg8xac"
      },
      "source": [
        "**Modifying the Free Variable**"
      ]
    },
    {
      "cell_type": "markdown",
      "metadata": {
        "id": "Yn3kUSH581Qd"
      },
      "source": [
        "We know we can modify nonlocal variables by using the `nonlocal` keyword. So the following will work:"
      ]
    },
    {
      "cell_type": "code",
      "execution_count": null,
      "metadata": {
        "id": "5vSz1fut4yPR"
      },
      "outputs": [],
      "source": [
        "def counter():\n",
        "    count = 0 # local variable\n",
        "\n",
        "    def inc():\n",
        "        nonlocal count # this is the count variable in counter\n",
        "        count += 1\n",
        "        return count\n",
        "    return inc"
      ]
    },
    {
      "cell_type": "code",
      "execution_count": null,
      "metadata": {
        "id": "HPJwygRE0Axk"
      },
      "outputs": [],
      "source": [
        "c = counter()"
      ]
    },
    {
      "cell_type": "code",
      "execution_count": null,
      "metadata": {
        "colab": {
          "base_uri": "https://localhost:8080/"
        },
        "id": "JYSSKcfT0CA0",
        "outputId": "e73f930f-bcef-4c70-d92a-6dd681b06b67"
      },
      "outputs": [
        {
          "data": {
            "text/plain": [
              "1"
            ]
          },
          "execution_count": 1040,
          "metadata": {},
          "output_type": "execute_result"
        }
      ],
      "source": [
        "c()"
      ]
    },
    {
      "cell_type": "code",
      "execution_count": null,
      "metadata": {
        "colab": {
          "base_uri": "https://localhost:8080/"
        },
        "id": "yQ5Tw7Pl0Cyb",
        "outputId": "0791b523-073a-4168-8915-870dcde948e4"
      },
      "outputs": [
        {
          "data": {
            "text/plain": [
              "2"
            ]
          },
          "execution_count": 1041,
          "metadata": {},
          "output_type": "execute_result"
        }
      ],
      "source": [
        "c()"
      ]
    },
    {
      "cell_type": "markdown",
      "metadata": {
        "id": "DZ8Mp_060EsH"
      },
      "source": [
        "**Shared Extended Scopes**"
      ]
    },
    {
      "cell_type": "markdown",
      "metadata": {
        "id": "fFrckMzy0HvB"
      },
      "source": [
        "As we saw in the lecture, we can set up nonlocal variables in different inner functions that reference the same outer scope variable, i.e. we have a free variable that is shared between two closure. This works because both non local variables and the outer local variable all point back to the same cell object."
      ]
    },
    {
      "cell_type": "code",
      "execution_count": null,
      "metadata": {
        "id": "frU1pw9W0DKD"
      },
      "outputs": [],
      "source": [
        "def outer():\n",
        "    count = 0\n",
        "    def inc1():\n",
        "        nonlocal count\n",
        "        count += 1\n",
        "        return count\n",
        "\n",
        "    def inc2():\n",
        "        nonlocal count\n",
        "        count += 1\n",
        "        return count\n",
        "\n",
        "    return inc1, inc2"
      ]
    },
    {
      "cell_type": "code",
      "execution_count": null,
      "metadata": {
        "id": "aaKUJklM0tZ7"
      },
      "outputs": [],
      "source": [
        "fn1, fn2 = outer()"
      ]
    },
    {
      "cell_type": "code",
      "execution_count": null,
      "metadata": {
        "colab": {
          "base_uri": "https://localhost:8080/"
        },
        "id": "XnMVbAkB0xno",
        "outputId": "04468c3b-2786-4f0f-d02e-9274d513f1db"
      },
      "outputs": [
        {
          "data": {
            "text/plain": [
              "((<cell at 0x000001BD6D3BE850: int object at 0x000001BD66F46910>,),\n",
              " (<cell at 0x000001BD6D3BE850: int object at 0x000001BD66F46910>,))"
            ]
          },
          "execution_count": 1044,
          "metadata": {},
          "output_type": "execute_result"
        }
      ],
      "source": [
        "fn1.__closure__, fn2.__closure__"
      ]
    },
    {
      "cell_type": "markdown",
      "metadata": {
        "id": "XVqOrNV8082d"
      },
      "source": [
        "As you can see here, the `count` label points to the same cell."
      ]
    },
    {
      "cell_type": "code",
      "execution_count": null,
      "metadata": {
        "colab": {
          "base_uri": "https://localhost:8080/"
        },
        "id": "D37XQ_Sk041Y",
        "outputId": "dd3bc0c8-3acd-4f18-eec7-4fb6022c47e0"
      },
      "outputs": [
        {
          "data": {
            "text/plain": [
              "1"
            ]
          },
          "execution_count": 1045,
          "metadata": {},
          "output_type": "execute_result"
        }
      ],
      "source": [
        "fn1()"
      ]
    },
    {
      "cell_type": "code",
      "execution_count": null,
      "metadata": {
        "colab": {
          "base_uri": "https://localhost:8080/"
        },
        "id": "mNTZakiA1C_N",
        "outputId": "cb2215ca-2ea1-4412-f591-b20493f9e8c5"
      },
      "outputs": [
        {
          "data": {
            "text/plain": [
              "2"
            ]
          },
          "execution_count": 1046,
          "metadata": {},
          "output_type": "execute_result"
        }
      ],
      "source": [
        "fn1()"
      ]
    },
    {
      "cell_type": "code",
      "execution_count": null,
      "metadata": {
        "colab": {
          "base_uri": "https://localhost:8080/"
        },
        "id": "C3vBSmMM1MAL",
        "outputId": "116f40f1-ea21-431b-82d6-0e47daaefd8a"
      },
      "outputs": [
        {
          "data": {
            "text/plain": [
              "3"
            ]
          },
          "execution_count": 1047,
          "metadata": {},
          "output_type": "execute_result"
        }
      ],
      "source": [
        "fn2()"
      ]
    },
    {
      "cell_type": "markdown",
      "metadata": {
        "id": "0NI0biOf1N9v"
      },
      "source": [
        "**Multiple Instances of Closures**"
      ]
    },
    {
      "cell_type": "markdown",
      "metadata": {
        "id": "UIy31J4o1ROY"
      },
      "source": [
        "Recall that every time a function is called, a new local scope is created."
      ]
    },
    {
      "cell_type": "code",
      "execution_count": null,
      "metadata": {
        "id": "pGdjqpc91QyH"
      },
      "outputs": [],
      "source": [
        "from time import perf_counter\n",
        "\n",
        "def func():\n",
        "    x = perf_counter()\n",
        "    print(x, id(x))"
      ]
    },
    {
      "cell_type": "code",
      "execution_count": null,
      "metadata": {
        "colab": {
          "base_uri": "https://localhost:8080/"
        },
        "id": "TpKkAl9a1d4-",
        "outputId": "3129d2c5-0671-4f6e-c4cc-4080f77e2ea7"
      },
      "outputs": [
        {
          "name": "stdout",
          "output_type": "stream",
          "text": [
            "364.5782928 1913141141584\n"
          ]
        }
      ],
      "source": [
        "func()"
      ]
    },
    {
      "cell_type": "code",
      "execution_count": null,
      "metadata": {
        "colab": {
          "base_uri": "https://localhost:8080/"
        },
        "id": "CUVdKFC91epA",
        "outputId": "1a53197a-a226-476b-e7bb-46aaf97ec033"
      },
      "outputs": [
        {
          "name": "stdout",
          "output_type": "stream",
          "text": [
            "364.6355855 1913140894352\n"
          ]
        }
      ],
      "source": [
        "func()"
      ]
    },
    {
      "cell_type": "markdown",
      "metadata": {
        "id": "11nsVLc41g-H"
      },
      "source": [
        "The same thing happens with closures, they have their own extended scope every time the closure is created:"
      ]
    },
    {
      "cell_type": "code",
      "execution_count": null,
      "metadata": {
        "id": "xMlT8X7m1gQV"
      },
      "outputs": [],
      "source": [
        "def pow(n):\n",
        "    # n is local to pow\n",
        "    def inner(x):\n",
        "        # x is local to inner\n",
        "        return x ** n\n",
        "    return inner"
      ]
    },
    {
      "cell_type": "markdown",
      "metadata": {
        "id": "XJ9Al9-L11nK"
      },
      "source": [
        "In this example, `n`, in the function `inner` is a free variable, so we have a closure that contains `inner` and the free variable `n`"
      ]
    },
    {
      "cell_type": "code",
      "execution_count": null,
      "metadata": {
        "id": "LhBo7Wfe10k_"
      },
      "outputs": [],
      "source": [
        "square = pow(2)"
      ]
    },
    {
      "cell_type": "code",
      "execution_count": null,
      "metadata": {
        "colab": {
          "base_uri": "https://localhost:8080/"
        },
        "id": "JueWxgmL2LF2",
        "outputId": "aebe8c80-3db8-4da4-d94c-68e03ecdaaf7"
      },
      "outputs": [
        {
          "data": {
            "text/plain": [
              "25"
            ]
          },
          "execution_count": 1053,
          "metadata": {},
          "output_type": "execute_result"
        }
      ],
      "source": [
        "square(5)"
      ]
    },
    {
      "cell_type": "code",
      "execution_count": null,
      "metadata": {
        "id": "83-nZCCE2L6L"
      },
      "outputs": [],
      "source": [
        "cube = pow(3)"
      ]
    },
    {
      "cell_type": "code",
      "execution_count": null,
      "metadata": {
        "colab": {
          "base_uri": "https://localhost:8080/"
        },
        "id": "emJ1cJGj2heW",
        "outputId": "7cf25718-bf2f-4ee7-ae0e-dd89104a7e6b"
      },
      "outputs": [
        {
          "data": {
            "text/plain": [
              "125"
            ]
          },
          "execution_count": 1055,
          "metadata": {},
          "output_type": "execute_result"
        }
      ],
      "source": [
        "cube(5)"
      ]
    },
    {
      "cell_type": "markdown",
      "metadata": {
        "id": "UWpMISjC2jd8"
      },
      "source": [
        "We can see that the cell used for the free variable in both cases is different:"
      ]
    },
    {
      "cell_type": "code",
      "execution_count": null,
      "metadata": {
        "colab": {
          "base_uri": "https://localhost:8080/"
        },
        "id": "JWC43MWg2ivk",
        "outputId": "b52c2699-5992-48d7-b698-7ce2de2f1fce"
      },
      "outputs": [
        {
          "data": {
            "text/plain": [
              "(<cell at 0x000001BD6D3BE550: int object at 0x000001BD66F46950>,)"
            ]
          },
          "execution_count": 1056,
          "metadata": {},
          "output_type": "execute_result"
        }
      ],
      "source": [
        "square.__closure__"
      ]
    },
    {
      "cell_type": "code",
      "execution_count": null,
      "metadata": {
        "colab": {
          "base_uri": "https://localhost:8080/"
        },
        "id": "kumKPNJ_2qRx",
        "outputId": "fff57fbb-2f79-45cc-c50e-4036acdf8818"
      },
      "outputs": [
        {
          "data": {
            "text/plain": [
              "(<cell at 0x000001BD6D31C0A0: int object at 0x000001BD66F46970>,)"
            ]
          },
          "execution_count": 1057,
          "metadata": {},
          "output_type": "execute_result"
        }
      ],
      "source": [
        "cube.__closure__"
      ]
    },
    {
      "cell_type": "markdown",
      "metadata": {
        "id": "QXPuoJsb29ly"
      },
      "source": [
        "In fact, these functions (`square` and `cube`) are not the same functions, even though they were \"created\" from the same `power` function:\n"
      ]
    },
    {
      "cell_type": "code",
      "execution_count": null,
      "metadata": {
        "colab": {
          "base_uri": "https://localhost:8080/"
        },
        "id": "7zWNUw-r28eu",
        "outputId": "e556c54a-b98f-4014-e917-5c767f23cd19"
      },
      "outputs": [
        {
          "data": {
            "text/plain": [
              "(1913123246144, 1913141060512)"
            ]
          },
          "execution_count": 1058,
          "metadata": {},
          "output_type": "execute_result"
        }
      ],
      "source": [
        "id(square), id(cube)"
      ]
    },
    {
      "cell_type": "markdown",
      "metadata": {
        "id": "wGkQ7jhL3m4d"
      },
      "source": [
        "\n",
        "\n",
        "---\n",
        "\n",
        "**BE CAREFUL**"
      ]
    },
    {
      "cell_type": "markdown",
      "metadata": {
        "id": "hHQhZP1I30Dc"
      },
      "source": [
        "*Remember when I said the captured variable is a reference established when the closure is created, but the value is looked up only once the function is called?*\n",
        "\n",
        "*This can create very subtle bugs in your program.*\n",
        "\n",
        "*Consider the following example where we want to create some functions that can add 1, 2, 3, 4 and to whatever is passed to them.*\n",
        "\n",
        "*We could do the following:*"
      ]
    },
    {
      "cell_type": "code",
      "execution_count": null,
      "metadata": {
        "id": "_3BvUoYS3aJQ"
      },
      "outputs": [],
      "source": [
        "def adder(n):\n",
        "    def inner(x):\n",
        "        return x + n\n",
        "    return inner"
      ]
    },
    {
      "cell_type": "code",
      "execution_count": null,
      "metadata": {
        "id": "e4fomhit4Vcg"
      },
      "outputs": [],
      "source": [
        "add_1 = adder(1)\n",
        "add_2 = adder(2)\n",
        "add_3 = adder(3)\n",
        "add_4 = adder(4)"
      ]
    },
    {
      "cell_type": "code",
      "execution_count": null,
      "metadata": {
        "colab": {
          "base_uri": "https://localhost:8080/"
        },
        "id": "CqeqxqlW4dtc",
        "outputId": "78506465-1213-4b85-e82e-2ec520f0a5a6"
      },
      "outputs": [
        {
          "data": {
            "text/plain": [
              "(11, 12, 13, 14)"
            ]
          },
          "execution_count": 1061,
          "metadata": {},
          "output_type": "execute_result"
        }
      ],
      "source": [
        "add_1(10), add_2(10), add_3(10), add_4(10)"
      ]
    },
    {
      "cell_type": "markdown",
      "metadata": {
        "id": "8J3f2ezm9FW_"
      },
      "source": [
        "\n",
        "\n",
        "---\n",
        "\n"
      ]
    },
    {
      "cell_type": "markdown",
      "metadata": {
        "id": "KvuTZnm24i2u"
      },
      "source": [
        "But suppose we want to get a little fancier and do it as follows:"
      ]
    },
    {
      "cell_type": "code",
      "execution_count": null,
      "metadata": {
        "id": "x0U2DomC4hzH"
      },
      "outputs": [],
      "source": [
        "def create_adders():\n",
        "    adders = []\n",
        "    for n in range(1, 5):\n",
        "        adders.append(lambda x: x + n)\n",
        "    return adders"
      ]
    },
    {
      "cell_type": "code",
      "execution_count": null,
      "metadata": {
        "id": "Ozz-76VR4wYx"
      },
      "outputs": [],
      "source": [
        "adders = create_adders()"
      ]
    },
    {
      "cell_type": "markdown",
      "metadata": {
        "id": "zUgpF23z4zDq"
      },
      "source": [
        "Now technically we have 4 functions in the `adders` list:"
      ]
    },
    {
      "cell_type": "code",
      "execution_count": null,
      "metadata": {
        "colab": {
          "base_uri": "https://localhost:8080/"
        },
        "id": "7yfBMuWT4yTz",
        "outputId": "8b5e9ebe-aebd-4633-a312-468db07bb8a6"
      },
      "outputs": [
        {
          "data": {
            "text/plain": [
              "[<function __main__.create_adders.<locals>.<lambda>(x)>,\n",
              " <function __main__.create_adders.<locals>.<lambda>(x)>,\n",
              " <function __main__.create_adders.<locals>.<lambda>(x)>,\n",
              " <function __main__.create_adders.<locals>.<lambda>(x)>]"
            ]
          },
          "execution_count": 1064,
          "metadata": {},
          "output_type": "execute_result"
        }
      ],
      "source": [
        "adders"
      ]
    },
    {
      "cell_type": "markdown",
      "metadata": {
        "id": "DLcpAzYx44uH"
      },
      "source": [
        "The first one should add 1 to the value we pass it, the second should add 2, and so on."
      ]
    },
    {
      "cell_type": "code",
      "execution_count": null,
      "metadata": {
        "colab": {
          "base_uri": "https://localhost:8080/"
        },
        "id": "kSLrpIMa43kJ",
        "outputId": "115b031c-c3c4-495b-98d0-d660ac593944"
      },
      "outputs": [
        {
          "data": {
            "text/plain": [
              "14"
            ]
          },
          "execution_count": 1065,
          "metadata": {},
          "output_type": "execute_result"
        }
      ],
      "source": [
        "adders[3](10)"
      ]
    },
    {
      "cell_type": "markdown",
      "metadata": {
        "id": "9LXf--RJ5ABl"
      },
      "source": [
        "Yep! that works for the 4rh function."
      ]
    },
    {
      "cell_type": "code",
      "execution_count": null,
      "metadata": {
        "colab": {
          "base_uri": "https://localhost:8080/"
        },
        "id": "s6LSBx9r4_QF",
        "outputId": "47f56db2-8fd2-459b-a79c-3c91e1582107"
      },
      "outputs": [
        {
          "data": {
            "text/plain": [
              "14"
            ]
          },
          "execution_count": 1066,
          "metadata": {},
          "output_type": "execute_result"
        }
      ],
      "source": [
        "adders[0](10)"
      ]
    },
    {
      "cell_type": "markdown",
      "metadata": {
        "id": "Kox5eLnA5F5m"
      },
      "source": [
        "Uh Oh - what happened? In fact we get the same behavior from every one of those functions:"
      ]
    },
    {
      "cell_type": "code",
      "execution_count": null,
      "metadata": {
        "colab": {
          "base_uri": "https://localhost:8080/"
        },
        "id": "ayFmfTid5FDY",
        "outputId": "7af88626-e04b-4b8b-ccbe-f3115a393449"
      },
      "outputs": [
        {
          "data": {
            "text/plain": [
              "(14, 14, 14, 14)"
            ]
          },
          "execution_count": 1067,
          "metadata": {},
          "output_type": "execute_result"
        }
      ],
      "source": [
        "adders[0](10), adders[1](10), adders[2](10), adders[3](10)"
      ]
    },
    {
      "cell_type": "markdown",
      "metadata": {
        "id": "JOC5aOPB5UJn"
      },
      "source": [
        "Remember what I said about when the variable is captured and when the value is looked up?\n",
        "\n",
        "when the lambdas are created their `n` is the `n` used in the loop - the same `n` !!\n",
        "\n"
      ]
    },
    {
      "cell_type": "code",
      "execution_count": null,
      "metadata": {
        "colab": {
          "base_uri": "https://localhost:8080/"
        },
        "id": "vpAn1eZm5RNT",
        "outputId": "cf690ceb-2585-42f4-b3b0-5fdbd435cbe0"
      },
      "outputs": [
        {
          "data": {
            "text/plain": [
              "('n',)"
            ]
          },
          "execution_count": 1068,
          "metadata": {},
          "output_type": "execute_result"
        }
      ],
      "source": [
        "adders[0].__code__.co_freevars"
      ]
    },
    {
      "cell_type": "code",
      "execution_count": null,
      "metadata": {
        "colab": {
          "base_uri": "https://localhost:8080/"
        },
        "id": "o8V6KIVL5orq",
        "outputId": "b96702a1-2b2e-4e1e-a650-d7126e2de21a"
      },
      "outputs": [
        {
          "data": {
            "text/plain": [
              "(<cell at 0x000001BD6D547580: int object at 0x000001BD66F46990>,)"
            ]
          },
          "execution_count": 1069,
          "metadata": {},
          "output_type": "execute_result"
        }
      ],
      "source": [
        "adders[0].__closure__"
      ]
    },
    {
      "cell_type": "code",
      "execution_count": null,
      "metadata": {
        "colab": {
          "base_uri": "https://localhost:8080/"
        },
        "id": "-535Iu9F5qrz",
        "outputId": "bce6a35c-7f46-4a8e-afce-396f85f5ff80"
      },
      "outputs": [
        {
          "data": {
            "text/plain": [
              "(<cell at 0x000001BD6D547580: int object at 0x000001BD66F46990>,)"
            ]
          },
          "execution_count": 1070,
          "metadata": {},
          "output_type": "execute_result"
        }
      ],
      "source": [
        "adders[1].__closure__"
      ]
    },
    {
      "cell_type": "code",
      "execution_count": null,
      "metadata": {
        "colab": {
          "base_uri": "https://localhost:8080/"
        },
        "id": "QBHTAmRw5tWs",
        "outputId": "f0d56cdd-878f-429e-b29f-c2ed25b34610"
      },
      "outputs": [
        {
          "data": {
            "text/plain": [
              "(<cell at 0x000001BD6D547580: int object at 0x000001BD66F46990>,)"
            ]
          },
          "execution_count": 1071,
          "metadata": {},
          "output_type": "execute_result"
        }
      ],
      "source": [
        "adders[2].__closure__"
      ]
    },
    {
      "cell_type": "code",
      "execution_count": null,
      "metadata": {
        "colab": {
          "base_uri": "https://localhost:8080/"
        },
        "id": "S1ctcU635wLX",
        "outputId": "db0b1136-5d29-4bc6-8969-2d8c9d798c5c"
      },
      "outputs": [
        {
          "data": {
            "text/plain": [
              "(<cell at 0x000001BD6D547580: int object at 0x000001BD66F46990>,)"
            ]
          },
          "execution_count": 1072,
          "metadata": {},
          "output_type": "execute_result"
        }
      ],
      "source": [
        "adders[3].__closure__"
      ]
    },
    {
      "cell_type": "markdown",
      "metadata": {
        "id": "jAxyDAwH53ep"
      },
      "source": [
        "So, by the time we call `adder[i]`, the free variable `n` (shared between all adders) is set to 4."
      ]
    },
    {
      "cell_type": "code",
      "execution_count": null,
      "metadata": {
        "colab": {
          "base_uri": "https://localhost:8080/",
          "height": 35
        },
        "id": "nrxiQmWu5x8K",
        "outputId": "82360a5c-4e29-4935-b831-be8c85e1576a"
      },
      "outputs": [
        {
          "data": {
            "text/plain": [
              "'0x1bd66f46990'"
            ]
          },
          "execution_count": 1073,
          "metadata": {},
          "output_type": "execute_result"
        }
      ],
      "source": [
        "hex(id(4))"
      ]
    },
    {
      "cell_type": "markdown",
      "metadata": {
        "id": "S8PMwG4N6mSY"
      },
      "source": [
        "As we can see the memory address of the singleton integer 4, is what that cell is point to.\n",
        "\n",
        "If you want to use a loop to do this and not end up using the same cell for each of the free variables, we can use a simple trick that forces the evaluation of `n` at the time the closure is created, instead of when the closure function is evaluated.\n",
        "\n",
        "We can do this by creating a parameter for `n` in our lambda whose default value is the current value of `n` - remember from an earlier video that parameter defaults are evaluated when the function is created, not called."
      ]
    },
    {
      "cell_type": "code",
      "execution_count": null,
      "metadata": {
        "id": "XzIbCsPx6hE9"
      },
      "outputs": [],
      "source": [
        "def create_adders():\n",
        "    adders = []\n",
        "    for n in range(1, 5):\n",
        "        adders.append(lambda x, step=n: x + step)\n",
        "    return adders"
      ]
    },
    {
      "cell_type": "code",
      "execution_count": null,
      "metadata": {
        "id": "jTk5M0QX8pGP"
      },
      "outputs": [],
      "source": [
        "adders = create_adders()"
      ]
    },
    {
      "cell_type": "code",
      "execution_count": null,
      "metadata": {
        "id": "gZX1E3gQ8rH6"
      },
      "outputs": [],
      "source": [
        "adders[0].__closure__"
      ]
    },
    {
      "cell_type": "markdown",
      "metadata": {
        "id": "STRLYMx_8xG-"
      },
      "source": [
        "Why aren't we getting anything in the closure? What about free variables?"
      ]
    },
    {
      "cell_type": "code",
      "execution_count": null,
      "metadata": {
        "colab": {
          "base_uri": "https://localhost:8080/"
        },
        "id": "B8vMMyef8wiO",
        "outputId": "128e9f8c-56ea-4bd5-d6ea-166c984abb51"
      },
      "outputs": [
        {
          "data": {
            "text/plain": [
              "()"
            ]
          },
          "execution_count": 1077,
          "metadata": {},
          "output_type": "execute_result"
        }
      ],
      "source": [
        "adders[0].__code__.co_freevars"
      ]
    },
    {
      "cell_type": "markdown",
      "metadata": {
        "id": "sZNfSSbb9Jey"
      },
      "source": [
        "Hmm, nothing either... Why?\n",
        "\n",
        "Well, look at the lambda in that loop. Does it reference the variable `n` (other than in the default value)?\n",
        "\n",
        "No. Hence, `n` is not a free variable in this case, and our lambda is just a plain lambda, not a closure.\n",
        "\n",
        "And this code will now work as expected:"
      ]
    },
    {
      "cell_type": "code",
      "execution_count": null,
      "metadata": {
        "colab": {
          "base_uri": "https://localhost:8080/"
        },
        "id": "UgBhN_ie87Vy",
        "outputId": "de267802-a11b-4c83-9f11-c2aa4b44a441"
      },
      "outputs": [
        {
          "data": {
            "text/plain": [
              "11"
            ]
          },
          "execution_count": 1078,
          "metadata": {},
          "output_type": "execute_result"
        }
      ],
      "source": [
        "adders[0](10)"
      ]
    },
    {
      "cell_type": "code",
      "execution_count": null,
      "metadata": {
        "colab": {
          "base_uri": "https://localhost:8080/"
        },
        "id": "SzVss-wY9jI-",
        "outputId": "cf81a1ab-355a-473e-ece3-08a3083e4710"
      },
      "outputs": [
        {
          "data": {
            "text/plain": [
              "12"
            ]
          },
          "execution_count": 1079,
          "metadata": {},
          "output_type": "execute_result"
        }
      ],
      "source": [
        "adders[1](10)"
      ]
    },
    {
      "cell_type": "code",
      "execution_count": null,
      "metadata": {
        "colab": {
          "base_uri": "https://localhost:8080/"
        },
        "id": "L8I8ratQ9ka2",
        "outputId": "03d44084-efcb-440c-e847-e2f756515dd8"
      },
      "outputs": [
        {
          "data": {
            "text/plain": [
              "13"
            ]
          },
          "execution_count": 1080,
          "metadata": {},
          "output_type": "execute_result"
        }
      ],
      "source": [
        "adders[2](10)"
      ]
    },
    {
      "cell_type": "code",
      "execution_count": null,
      "metadata": {
        "colab": {
          "base_uri": "https://localhost:8080/"
        },
        "id": "dTNyyb9G9lwk",
        "outputId": "57fcdb77-2e6f-4e0d-faac-b43fd8b1cfd9"
      },
      "outputs": [
        {
          "data": {
            "text/plain": [
              "14"
            ]
          },
          "execution_count": 1081,
          "metadata": {},
          "output_type": "execute_result"
        }
      ],
      "source": [
        "adders[3](10)"
      ]
    },
    {
      "cell_type": "markdown",
      "metadata": {
        "id": "3T9kfYxa9ovt"
      },
      "source": [
        "You just understand that since the default values are evaluated when the function (lambda in this case) is created, the then-current `n` value is assigned to the local variable `step`. So `step` will not change every time the lambda is called, and since `n` is not referenced inside the function (and therefore evaluated when the lambda is called), `n` is not a free variable."
      ]
    },
    {
      "cell_type": "markdown",
      "metadata": {
        "id": "BR4xBNs9-CEX"
      },
      "source": [
        "**Nested Closures**"
      ]
    },
    {
      "cell_type": "markdown",
      "metadata": {
        "id": "mVBQkW-W-D1O"
      },
      "source": [
        "We can also nest closures, as can be seen in this example:"
      ]
    },
    {
      "cell_type": "code",
      "execution_count": null,
      "metadata": {
        "id": "X6cXx-dZ9m9i"
      },
      "outputs": [],
      "source": [
        "def incrementer(n):\n",
        "    def inner(start):\n",
        "        current = start\n",
        "        def inc():\n",
        "            a = 10 # local var\n",
        "            nonlocal current\n",
        "            current += n\n",
        "            return current\n",
        "        return inc\n",
        "    return inner"
      ]
    },
    {
      "cell_type": "code",
      "execution_count": null,
      "metadata": {
        "id": "a-N4wZe_-VzK"
      },
      "outputs": [],
      "source": [
        "fn = incrementer(2)"
      ]
    },
    {
      "cell_type": "code",
      "execution_count": null,
      "metadata": {
        "colab": {
          "base_uri": "https://localhost:8080/"
        },
        "id": "emarMTaO-XDO",
        "outputId": "48035af4-477b-4cd7-9d5e-be76e3baae69"
      },
      "outputs": [
        {
          "data": {
            "text/plain": [
              "<function __main__.incrementer.<locals>.inner(start)>"
            ]
          },
          "execution_count": 1084,
          "metadata": {},
          "output_type": "execute_result"
        }
      ],
      "source": [
        "fn"
      ]
    },
    {
      "cell_type": "code",
      "execution_count": null,
      "metadata": {
        "colab": {
          "base_uri": "https://localhost:8080/"
        },
        "id": "XB-7bQus-XxI",
        "outputId": "a3f5b473-83ca-49be-8156-347d8dadaa9b"
      },
      "outputs": [
        {
          "data": {
            "text/plain": [
              "('n',)"
            ]
          },
          "execution_count": 1085,
          "metadata": {},
          "output_type": "execute_result"
        }
      ],
      "source": [
        "fn.__code__.co_freevars"
      ]
    },
    {
      "cell_type": "code",
      "execution_count": null,
      "metadata": {
        "colab": {
          "base_uri": "https://localhost:8080/"
        },
        "id": "uFw7RWRK-asd",
        "outputId": "94c74a02-47e1-4a89-a5eb-3dbecfcc5ac7"
      },
      "outputs": [
        {
          "data": {
            "text/plain": [
              "(<cell at 0x000001BD6D45CDF0: int object at 0x000001BD66F46950>,)"
            ]
          },
          "execution_count": 1086,
          "metadata": {},
          "output_type": "execute_result"
        }
      ],
      "source": [
        "fn.__closure__"
      ]
    },
    {
      "cell_type": "code",
      "execution_count": null,
      "metadata": {
        "id": "4xIt8tiZ-e-G"
      },
      "outputs": [],
      "source": [
        "inc_2 = fn(100)"
      ]
    },
    {
      "cell_type": "code",
      "execution_count": null,
      "metadata": {
        "colab": {
          "base_uri": "https://localhost:8080/"
        },
        "id": "thZaLC2p-hLT",
        "outputId": "369408c1-6032-4a31-ad12-c20968df0443"
      },
      "outputs": [
        {
          "data": {
            "text/plain": [
              "<function __main__.incrementer.<locals>.inner.<locals>.inc()>"
            ]
          },
          "execution_count": 1088,
          "metadata": {},
          "output_type": "execute_result"
        }
      ],
      "source": [
        "inc_2"
      ]
    },
    {
      "cell_type": "code",
      "execution_count": null,
      "metadata": {
        "colab": {
          "base_uri": "https://localhost:8080/"
        },
        "id": "CIvc45rd-i4Q",
        "outputId": "1cd7ec75-b01c-4825-b5cb-2204d2695b73"
      },
      "outputs": [
        {
          "data": {
            "text/plain": [
              "(<cell at 0x000001BD6D32C2E0: int object at 0x000001BD66F755D0>,\n",
              " <cell at 0x000001BD6D45CDF0: int object at 0x000001BD66F46950>)"
            ]
          },
          "execution_count": 1089,
          "metadata": {},
          "output_type": "execute_result"
        }
      ],
      "source": [
        "inc_2.__closure__"
      ]
    },
    {
      "cell_type": "markdown",
      "metadata": {
        "id": "3K02hHqz-na5"
      },
      "source": [
        "Here you can see that the second free variable `n`, is pointing to the same cell as the free variable in `fn`.\n",
        "\n",
        "Note that `a` is a local variable, and is not considered a free variable.\n",
        "\n",
        "And we can call the closures as follows:"
      ]
    },
    {
      "cell_type": "code",
      "execution_count": null,
      "metadata": {
        "colab": {
          "base_uri": "https://localhost:8080/"
        },
        "id": "4RiaYT74-lZn",
        "outputId": "69863e2f-1abb-450f-bbf9-c3bc5ddcc78a"
      },
      "outputs": [
        {
          "data": {
            "text/plain": [
              "102"
            ]
          },
          "execution_count": 1090,
          "metadata": {},
          "output_type": "execute_result"
        }
      ],
      "source": [
        "inc_2()"
      ]
    },
    {
      "cell_type": "code",
      "execution_count": null,
      "metadata": {
        "colab": {
          "base_uri": "https://localhost:8080/"
        },
        "id": "QP-uov7B-1fj",
        "outputId": "cf9b0abc-2e3b-40c1-8542-2149256811f3"
      },
      "outputs": [
        {
          "data": {
            "text/plain": [
              "104"
            ]
          },
          "execution_count": 1091,
          "metadata": {},
          "output_type": "execute_result"
        }
      ],
      "source": [
        "inc_2()"
      ]
    },
    {
      "cell_type": "code",
      "execution_count": null,
      "metadata": {
        "id": "MzvXKiv_-3HR"
      },
      "outputs": [],
      "source": [
        "inc_3 = incrementer(3)(200)"
      ]
    },
    {
      "cell_type": "code",
      "execution_count": null,
      "metadata": {
        "colab": {
          "base_uri": "https://localhost:8080/"
        },
        "id": "20-kGib5-5yx",
        "outputId": "450b9e78-8714-4a65-a3b3-b36cf293dbc4"
      },
      "outputs": [
        {
          "data": {
            "text/plain": [
              "203"
            ]
          },
          "execution_count": 1093,
          "metadata": {},
          "output_type": "execute_result"
        }
      ],
      "source": [
        "inc_3()"
      ]
    },
    {
      "cell_type": "code",
      "execution_count": null,
      "metadata": {
        "colab": {
          "base_uri": "https://localhost:8080/"
        },
        "id": "z8V-Mczy-6kx",
        "outputId": "d02145b8-47e2-49c0-b5cb-46920e4beb8f"
      },
      "outputs": [
        {
          "data": {
            "text/plain": [
              "206"
            ]
          },
          "execution_count": 1094,
          "metadata": {},
          "output_type": "execute_result"
        }
      ],
      "source": [
        "inc_3()"
      ]
    },
    {
      "cell_type": "markdown",
      "metadata": {
        "id": "sN83q0U_IYMk"
      },
      "source": [
        "### 04 - Closure Applications - Part 1"
      ]
    },
    {
      "cell_type": "markdown",
      "metadata": {
        "id": "PzFBRPn_IdgB"
      },
      "source": [
        "In this example we are going to build an averager function that can average multiple values.\n",
        "\n",
        "The twist is that we want to simply be able to feed numbers to that function and get a running average over time, not average a list which requires performing the same calculations (sum and count) over and over again."
      ]
    },
    {
      "cell_type": "code",
      "execution_count": null,
      "metadata": {
        "id": "b9D3m11x-7hU"
      },
      "outputs": [],
      "source": [
        "class Averager:\n",
        "    def __init__(self):\n",
        "        self.numbers = []\n",
        "\n",
        "    def add(self, number):\n",
        "        self.numbers.append(number)\n",
        "        total = sum(self.numbers)\n",
        "        count = len(self.numbers)\n",
        "        return total / count"
      ]
    },
    {
      "cell_type": "code",
      "execution_count": null,
      "metadata": {
        "id": "edU5GMhYJDnX"
      },
      "outputs": [],
      "source": [
        "a = Averager()"
      ]
    },
    {
      "cell_type": "code",
      "execution_count": null,
      "metadata": {
        "colab": {
          "base_uri": "https://localhost:8080/"
        },
        "id": "kxq4iaL_JJJT",
        "outputId": "35456590-a5cb-4ce7-dcbb-3d53de837b46"
      },
      "outputs": [
        {
          "data": {
            "text/plain": [
              "10.0"
            ]
          },
          "execution_count": 1097,
          "metadata": {},
          "output_type": "execute_result"
        }
      ],
      "source": [
        "a.add(10)"
      ]
    },
    {
      "cell_type": "code",
      "execution_count": null,
      "metadata": {
        "colab": {
          "base_uri": "https://localhost:8080/"
        },
        "id": "eEeWwfQeJKst",
        "outputId": "4f9b3b3d-e2b7-4331-b078-984caab4e7eb"
      },
      "outputs": [
        {
          "data": {
            "text/plain": [
              "15.0"
            ]
          },
          "execution_count": 1098,
          "metadata": {},
          "output_type": "execute_result"
        }
      ],
      "source": [
        "a.add(20)"
      ]
    },
    {
      "cell_type": "code",
      "execution_count": null,
      "metadata": {
        "colab": {
          "base_uri": "https://localhost:8080/"
        },
        "id": "AupwwTWCJNbh",
        "outputId": "a3d71062-5433-4672-b565-39934ac6a1cd"
      },
      "outputs": [
        {
          "data": {
            "text/plain": [
              "20.0"
            ]
          },
          "execution_count": 1099,
          "metadata": {},
          "output_type": "execute_result"
        }
      ],
      "source": [
        "a.add(30)"
      ]
    },
    {
      "cell_type": "markdown",
      "metadata": {
        "id": "QD6ntgfkJegJ"
      },
      "source": [
        "We can do this using a closure as follows:"
      ]
    },
    {
      "cell_type": "code",
      "execution_count": null,
      "metadata": {
        "id": "HMCzeFqDJP74"
      },
      "outputs": [],
      "source": [
        "def averager():\n",
        "    numbers = []\n",
        "    def add(number):\n",
        "        numbers.append(number)\n",
        "        total = sum(numbers)\n",
        "        count = len(numbers)\n",
        "        return total / count\n",
        "    return add"
      ]
    },
    {
      "cell_type": "code",
      "execution_count": null,
      "metadata": {
        "id": "yz2PkMzTJt9C"
      },
      "outputs": [],
      "source": [
        "a = averager()"
      ]
    },
    {
      "cell_type": "code",
      "execution_count": null,
      "metadata": {
        "colab": {
          "base_uri": "https://localhost:8080/"
        },
        "id": "qMy9mMBcJwv9",
        "outputId": "bafdbd4f-6e2e-42f2-ba38-b21f6d975d8e"
      },
      "outputs": [
        {
          "data": {
            "text/plain": [
              "10.0"
            ]
          },
          "execution_count": 1102,
          "metadata": {},
          "output_type": "execute_result"
        }
      ],
      "source": [
        "a(10)"
      ]
    },
    {
      "cell_type": "code",
      "execution_count": null,
      "metadata": {
        "colab": {
          "base_uri": "https://localhost:8080/"
        },
        "id": "PLOplObeJyPF",
        "outputId": "23372535-dec1-4eca-d3fc-e3ea9e612bd0"
      },
      "outputs": [
        {
          "data": {
            "text/plain": [
              "15.0"
            ]
          },
          "execution_count": 1103,
          "metadata": {},
          "output_type": "execute_result"
        }
      ],
      "source": [
        "a(20)"
      ]
    },
    {
      "cell_type": "code",
      "execution_count": null,
      "metadata": {
        "colab": {
          "base_uri": "https://localhost:8080/"
        },
        "id": "Ixuf2wM5JxWC",
        "outputId": "1e1c0660-1462-4df5-b96a-483da75008ee"
      },
      "outputs": [
        {
          "data": {
            "text/plain": [
              "20.0"
            ]
          },
          "execution_count": 1104,
          "metadata": {},
          "output_type": "execute_result"
        }
      ],
      "source": [
        "a(30)"
      ]
    },
    {
      "cell_type": "markdown",
      "metadata": {
        "id": "Txi4yM-SJ2Ag"
      },
      "source": [
        "Now, instead of storing a list and recalculating `total` and `count` every yime we need the new average, we are going to store running total and count and update each value each time a new value is added to the running average, and then return `total / count`.\n",
        "\n",
        "Let's start with a class approach first, where we will use instance variables to store the running total and count and provide an instance method to add a new number and return the current average."
      ]
    },
    {
      "cell_type": "code",
      "execution_count": null,
      "metadata": {
        "id": "Dii2CEeGJ0FD"
      },
      "outputs": [],
      "source": [
        "class Averager:\n",
        "    def __init__(self):\n",
        "        self._count = 0\n",
        "        self._total = 0\n",
        "\n",
        "    def add(self, value):\n",
        "        self._total += value\n",
        "        self._count += 1\n",
        "        return self._total / self._count"
      ]
    },
    {
      "cell_type": "code",
      "execution_count": null,
      "metadata": {
        "id": "H9bDHA_rLC8V"
      },
      "outputs": [],
      "source": [
        "a = Averager()"
      ]
    },
    {
      "cell_type": "code",
      "execution_count": null,
      "metadata": {
        "colab": {
          "base_uri": "https://localhost:8080/"
        },
        "id": "KxMF_EbmLD_6",
        "outputId": "04029a9d-1dcc-43ac-f72a-75715fc0d1f8"
      },
      "outputs": [
        {
          "data": {
            "text/plain": [
              "10.0"
            ]
          },
          "execution_count": 1107,
          "metadata": {},
          "output_type": "execute_result"
        }
      ],
      "source": [
        "a.add(10)"
      ]
    },
    {
      "cell_type": "code",
      "execution_count": null,
      "metadata": {
        "colab": {
          "base_uri": "https://localhost:8080/"
        },
        "id": "0jSZG-6fLE-J",
        "outputId": "216f6f33-43cf-44c4-b56f-3cc66c00fd7b"
      },
      "outputs": [
        {
          "data": {
            "text/plain": [
              "15.0"
            ]
          },
          "execution_count": 1108,
          "metadata": {},
          "output_type": "execute_result"
        }
      ],
      "source": [
        "a.add(20)"
      ]
    },
    {
      "cell_type": "code",
      "execution_count": null,
      "metadata": {
        "colab": {
          "base_uri": "https://localhost:8080/"
        },
        "id": "XqCsHQG_LFuq",
        "outputId": "8d2463a8-50d8-4246-e9a3-a63744102b98"
      },
      "outputs": [
        {
          "data": {
            "text/plain": [
              "20.0"
            ]
          },
          "execution_count": 1109,
          "metadata": {},
          "output_type": "execute_result"
        }
      ],
      "source": [
        "a.add(30)"
      ]
    },
    {
      "cell_type": "markdown",
      "metadata": {
        "id": "qdw2IzNqLKID"
      },
      "source": [
        "Now, let's see how we might use a closure to achieve the same thing."
      ]
    },
    {
      "cell_type": "code",
      "execution_count": null,
      "metadata": {
        "id": "c86RyK2SLGoq"
      },
      "outputs": [],
      "source": [
        "def averager():\n",
        "    total = 0\n",
        "    count = 0\n",
        "\n",
        "    def add(value):\n",
        "        nonlocal total, count\n",
        "        total +=  value\n",
        "        count += 1\n",
        "        return 0 if count == 0 else total / count\n",
        "        \n",
        "    return add"
      ]
    },
    {
      "cell_type": "code",
      "execution_count": null,
      "metadata": {
        "id": "dC2110uULdvN"
      },
      "outputs": [],
      "source": [
        "a = averager()"
      ]
    },
    {
      "cell_type": "code",
      "execution_count": null,
      "metadata": {
        "colab": {
          "base_uri": "https://localhost:8080/"
        },
        "id": "yh8rnjnwLe0Y",
        "outputId": "fa21108d-1e00-400d-db8b-06f04804491f"
      },
      "outputs": [
        {
          "data": {
            "text/plain": [
              "10.0"
            ]
          },
          "execution_count": 1112,
          "metadata": {},
          "output_type": "execute_result"
        }
      ],
      "source": [
        "a(10)"
      ]
    },
    {
      "cell_type": "code",
      "execution_count": null,
      "metadata": {
        "colab": {
          "base_uri": "https://localhost:8080/"
        },
        "id": "i_ymmN_FLfif",
        "outputId": "f90dce75-3430-4244-9ecf-8eef9cddd9c0"
      },
      "outputs": [
        {
          "data": {
            "text/plain": [
              "15.0"
            ]
          },
          "execution_count": 1113,
          "metadata": {},
          "output_type": "execute_result"
        }
      ],
      "source": [
        "a(20)"
      ]
    },
    {
      "cell_type": "code",
      "execution_count": null,
      "metadata": {
        "colab": {
          "base_uri": "https://localhost:8080/"
        },
        "id": "MXTx6mj_LhMj",
        "outputId": "e3f98d2c-5a7f-4c07-b0f8-c6e2e5ae6dbb"
      },
      "outputs": [
        {
          "data": {
            "text/plain": [
              "20.0"
            ]
          },
          "execution_count": 1114,
          "metadata": {},
          "output_type": "execute_result"
        }
      ],
      "source": [
        "a(30)"
      ]
    },
    {
      "cell_type": "markdown",
      "metadata": {
        "id": "A-Or95-gLjwd"
      },
      "source": [
        "**Generalizing this example**"
      ]
    },
    {
      "cell_type": "markdown",
      "metadata": {
        "id": "JyCXQY7BLmQb"
      },
      "source": [
        "We saw that we were essentially able t o convert a class to an equivalent functionality using closures. This is actually true in a much more general sense - very often, classes that  define a single method (other than initializers) can be implemented using a closure instead.\n",
        "\n",
        "Let's look at another example of this.\n",
        "\n",
        "Suppose we want something that keep track of the running elapsed time in seconds."
      ]
    },
    {
      "cell_type": "code",
      "execution_count": null,
      "metadata": {
        "id": "RMmv3uLNLhyo"
      },
      "outputs": [],
      "source": [
        "from time import perf_counter"
      ]
    },
    {
      "cell_type": "code",
      "execution_count": null,
      "metadata": {
        "id": "x7QfDcDzMJtO"
      },
      "outputs": [],
      "source": [
        "class Timer:\n",
        "    def __init__(self):\n",
        "        self._start = perf_counter()\n",
        "\n",
        "    def __call__(self):\n",
        "        return (perf_counter() - self._start)"
      ]
    },
    {
      "cell_type": "code",
      "execution_count": null,
      "metadata": {
        "id": "Vr7J6yUQMW-8"
      },
      "outputs": [],
      "source": [
        "a = Timer()"
      ]
    },
    {
      "cell_type": "markdown",
      "metadata": {
        "id": "_F2rm15EMYbz"
      },
      "source": [
        "Now wait a bit before running the next line of code:"
      ]
    },
    {
      "cell_type": "code",
      "execution_count": null,
      "metadata": {
        "colab": {
          "base_uri": "https://localhost:8080/"
        },
        "id": "9hIyhYqpMXv5",
        "outputId": "a1b40923-a2d2-4b99-dc9c-a19aa69101f1"
      },
      "outputs": [
        {
          "data": {
            "text/plain": [
              "0.4692751000000044"
            ]
          },
          "execution_count": 1118,
          "metadata": {},
          "output_type": "execute_result"
        }
      ],
      "source": [
        "a()"
      ]
    },
    {
      "cell_type": "markdown",
      "metadata": {
        "id": "_-5kocgCMdaD"
      },
      "source": [
        "Let's start another \"timer\":"
      ]
    },
    {
      "cell_type": "code",
      "execution_count": null,
      "metadata": {
        "id": "BxgldgFfMcRw"
      },
      "outputs": [],
      "source": [
        "b = Timer()"
      ]
    },
    {
      "cell_type": "code",
      "execution_count": null,
      "metadata": {
        "colab": {
          "base_uri": "https://localhost:8080/"
        },
        "id": "5cbWX1fCMiYZ",
        "outputId": "bd0ba0de-ad26-4da0-bacc-fcb608a1383d"
      },
      "outputs": [
        {
          "name": "stdout",
          "output_type": "stream",
          "text": [
            "1.0517947000000163\n",
            "0.23379779999999073\n"
          ]
        }
      ],
      "source": [
        "print(a())\n",
        "print(b())"
      ]
    },
    {
      "cell_type": "markdown",
      "metadata": {
        "id": "U16XxPgIMsyt"
      },
      "source": [
        "Now let's rewrite this using a closure instead:"
      ]
    },
    {
      "cell_type": "code",
      "execution_count": null,
      "metadata": {
        "id": "2vmBO0K9MpA1"
      },
      "outputs": [],
      "source": [
        "def timer():\n",
        "    start = perf_counter()\n",
        "\n",
        "    def elapsed():\n",
        "        # we don't even need to makee start nonlocal\n",
        "        # since we are only reading it\n",
        "        return perf_counter() - start\n",
        "    \n",
        "    return elapsed"
      ]
    },
    {
      "cell_type": "code",
      "execution_count": null,
      "metadata": {
        "id": "_pZSha61NCtC"
      },
      "outputs": [],
      "source": [
        "x = timer()"
      ]
    },
    {
      "cell_type": "code",
      "execution_count": null,
      "metadata": {
        "colab": {
          "base_uri": "https://localhost:8080/"
        },
        "id": "KdenIMUnNENt",
        "outputId": "1418a361-d514-4003-c415-5a7ad6932554"
      },
      "outputs": [
        {
          "data": {
            "text/plain": [
              "0.17816759999999476"
            ]
          },
          "execution_count": 1123,
          "metadata": {},
          "output_type": "execute_result"
        }
      ],
      "source": [
        "x()"
      ]
    },
    {
      "cell_type": "code",
      "execution_count": null,
      "metadata": {
        "id": "U30amnniNQBN"
      },
      "outputs": [],
      "source": [
        "y = timer()"
      ]
    },
    {
      "cell_type": "code",
      "execution_count": null,
      "metadata": {
        "colab": {
          "base_uri": "https://localhost:8080/"
        },
        "id": "f-08WxnJNRk0",
        "outputId": "cd1e39bd-d839-4f4f-8e0c-f73b1c103d47"
      },
      "outputs": [
        {
          "name": "stdout",
          "output_type": "stream",
          "text": [
            "0.7378444999999942\n",
            "0.35069929999997385\n"
          ]
        }
      ],
      "source": [
        "print(x())\n",
        "print(y())"
      ]
    },
    {
      "cell_type": "code",
      "execution_count": null,
      "metadata": {
        "colab": {
          "base_uri": "https://localhost:8080/"
        },
        "id": "_rKfd5vVNUNY",
        "outputId": "bede8263-26eb-46e1-a153-dbfa093d0fef"
      },
      "outputs": [
        {
          "name": "stdout",
          "output_type": "stream",
          "text": [
            "2.755622399999993\n",
            "1.9374119999999948\n",
            "0.9767978000000426\n",
            "0.5892082999999957\n"
          ]
        }
      ],
      "source": [
        "print(a())\n",
        "print(b())\n",
        "print(x())\n",
        "print(y())"
      ]
    },
    {
      "cell_type": "markdown",
      "metadata": {
        "id": "NV5jHM9JNmtO"
      },
      "source": [
        "### 05 - Closure Applications - Part 2"
      ]
    },
    {
      "cell_type": "markdown",
      "metadata": {
        "id": "NG0H6pGGNuDn"
      },
      "source": [
        "**Example 1**"
      ]
    },
    {
      "cell_type": "markdown",
      "metadata": {
        "id": "S0XepvjANxc-"
      },
      "source": [
        "Let's write a small function that can increment a counter for us - we don't have an incrementor in Python (the ++ operator in Java or C++ for example):"
      ]
    },
    {
      "cell_type": "code",
      "execution_count": null,
      "metadata": {
        "id": "_EtdySKNNYDr"
      },
      "outputs": [],
      "source": [
        "def counter(initial_value):\n",
        "    # initial_value is a local variable here\n",
        "\n",
        "    def inc(increment=1):\n",
        "        nonlocal initial_value\n",
        "        # initial_value is a nonlocal (captured) variable here\n",
        "        initial_value += increment\n",
        "        return initial_value\n",
        "    \n",
        "    return inc"
      ]
    },
    {
      "cell_type": "code",
      "execution_count": null,
      "metadata": {
        "id": "nYf6pA6yOd5Z"
      },
      "outputs": [],
      "source": [
        "counter1 = counter(0)"
      ]
    },
    {
      "cell_type": "code",
      "execution_count": null,
      "metadata": {
        "colab": {
          "base_uri": "https://localhost:8080/"
        },
        "id": "q5g0xtRoOio7",
        "outputId": "6d0fee31-81ba-4ad2-d8b1-927b142bceff"
      },
      "outputs": [
        {
          "name": "stdout",
          "output_type": "stream",
          "text": [
            "0\n"
          ]
        }
      ],
      "source": [
        "print(counter1(0))"
      ]
    },
    {
      "cell_type": "code",
      "execution_count": null,
      "metadata": {
        "colab": {
          "base_uri": "https://localhost:8080/"
        },
        "id": "6dNITZLROkvc",
        "outputId": "3d9987ac-5c90-4ae7-e20e-3e07ee7fb728"
      },
      "outputs": [
        {
          "name": "stdout",
          "output_type": "stream",
          "text": [
            "1\n"
          ]
        }
      ],
      "source": [
        "print(counter1())"
      ]
    },
    {
      "cell_type": "code",
      "execution_count": null,
      "metadata": {
        "colab": {
          "base_uri": "https://localhost:8080/"
        },
        "id": "oZ8KGFJqOozb",
        "outputId": "f57ee86c-dbd0-4fab-ec57-943299a017c5"
      },
      "outputs": [
        {
          "name": "stdout",
          "output_type": "stream",
          "text": [
            "2\n"
          ]
        }
      ],
      "source": [
        "print(counter1())"
      ]
    },
    {
      "cell_type": "code",
      "execution_count": null,
      "metadata": {
        "colab": {
          "base_uri": "https://localhost:8080/"
        },
        "id": "yY2Z40W4Oq1w",
        "outputId": "52ee62f3-da52-49c7-a9ec-aca288e0df19"
      },
      "outputs": [
        {
          "name": "stdout",
          "output_type": "stream",
          "text": [
            "10\n"
          ]
        }
      ],
      "source": [
        "print(counter1(8))"
      ]
    },
    {
      "cell_type": "code",
      "execution_count": null,
      "metadata": {
        "id": "IBm-BGNTOsfa"
      },
      "outputs": [],
      "source": [
        "counter2 = counter(1000)"
      ]
    },
    {
      "cell_type": "code",
      "execution_count": null,
      "metadata": {
        "colab": {
          "base_uri": "https://localhost:8080/"
        },
        "id": "2hjGDYyDOvfa",
        "outputId": "3b4c4e10-357a-451d-a618-0360f6f4566b"
      },
      "outputs": [
        {
          "name": "stdout",
          "output_type": "stream",
          "text": [
            "1000\n"
          ]
        }
      ],
      "source": [
        "print(counter2(0))"
      ]
    },
    {
      "cell_type": "code",
      "execution_count": null,
      "metadata": {
        "colab": {
          "base_uri": "https://localhost:8080/"
        },
        "id": "rnuUOwH6OwvT",
        "outputId": "cd0210f9-2c32-4d11-bfa6-7bda0c21b8ad"
      },
      "outputs": [
        {
          "name": "stdout",
          "output_type": "stream",
          "text": [
            "1001\n"
          ]
        }
      ],
      "source": [
        "print(counter2(1))"
      ]
    },
    {
      "cell_type": "code",
      "execution_count": null,
      "metadata": {
        "colab": {
          "base_uri": "https://localhost:8080/"
        },
        "id": "qi1boaksOyBi",
        "outputId": "7abd4ba6-bc22-42f1-cb2e-d1bb7108ccb6"
      },
      "outputs": [
        {
          "name": "stdout",
          "output_type": "stream",
          "text": [
            "1002\n"
          ]
        }
      ],
      "source": [
        "print(counter2())"
      ]
    },
    {
      "cell_type": "code",
      "execution_count": null,
      "metadata": {
        "colab": {
          "base_uri": "https://localhost:8080/"
        },
        "id": "l2v3TmLaOzOs",
        "outputId": "5ac654f9-a231-4dcd-80e5-bbadf585078e"
      },
      "outputs": [
        {
          "name": "stdout",
          "output_type": "stream",
          "text": [
            "1222\n"
          ]
        }
      ],
      "source": [
        "print(counter2(220))"
      ]
    },
    {
      "cell_type": "markdown",
      "metadata": {
        "id": "iuk4svK0O6_y"
      },
      "source": [
        "As you can see, each closure maintains a reference to the initial_value variable that was created when `counter` function was called - each time that function was called, a new local variable initial_value was created (with a value assigned from the argument), and it became a nonlocal (captured) variable in the inner scope."
      ]
    },
    {
      "cell_type": "markdown",
      "metadata": {
        "id": "rkjPNk0CQPLT"
      },
      "source": [
        "**Example 2**"
      ]
    },
    {
      "cell_type": "markdown",
      "metadata": {
        "id": "CWMemF6aQQ50"
      },
      "source": [
        "Let's modify this example to now build something that can run, and maintain a count of how many yimes we have run som function."
      ]
    },
    {
      "cell_type": "code",
      "execution_count": null,
      "metadata": {
        "id": "r_gXJvDRO1xy"
      },
      "outputs": [],
      "source": [
        "def counter(fn):\n",
        "    cnt = 0 # initially fn has been run zero times\n",
        "\n",
        "    def inner(*args, **kwargs):\n",
        "        nonlocal cnt\n",
        "        cnt = cnt + 1\n",
        "        print('{0} has been called {1} times'.format(fn.__name__, cnt))\n",
        "        return fn(*args, **kwargs)\n",
        "        \n",
        "    return inner"
      ]
    },
    {
      "cell_type": "code",
      "execution_count": null,
      "metadata": {
        "id": "GmDyrbWzQuof"
      },
      "outputs": [],
      "source": [
        "def add(a, b):\n",
        "    return a + b"
      ]
    },
    {
      "cell_type": "code",
      "execution_count": null,
      "metadata": {
        "id": "gcOkViIpQwXo"
      },
      "outputs": [],
      "source": [
        "counted_add = counter(add)"
      ]
    },
    {
      "cell_type": "markdown",
      "metadata": {
        "id": "8TWfGP3sRCCw"
      },
      "source": [
        "And the free variables are:"
      ]
    },
    {
      "cell_type": "code",
      "execution_count": null,
      "metadata": {
        "colab": {
          "base_uri": "https://localhost:8080/"
        },
        "id": "l6_nkD5fQz9c",
        "outputId": "97326563-33d6-4798-b499-2f6fd3b724ca"
      },
      "outputs": [
        {
          "data": {
            "text/plain": [
              "('cnt', 'fn')"
            ]
          },
          "execution_count": 1141,
          "metadata": {},
          "output_type": "execute_result"
        }
      ],
      "source": [
        "counted_add.__code__.co_freevars"
      ]
    },
    {
      "cell_type": "markdown",
      "metadata": {
        "id": "LEhkPz0dRIjz"
      },
      "source": [
        "We can now call the `counted_add` function:"
      ]
    },
    {
      "cell_type": "code",
      "execution_count": null,
      "metadata": {
        "colab": {
          "base_uri": "https://localhost:8080/"
        },
        "id": "vlO0sBZYRHXv",
        "outputId": "f1ea2c59-7489-4eaa-9721-fd438fa8102e"
      },
      "outputs": [
        {
          "name": "stdout",
          "output_type": "stream",
          "text": [
            "add has been called 1 times\n"
          ]
        },
        {
          "data": {
            "text/plain": [
              "3"
            ]
          },
          "execution_count": 1142,
          "metadata": {},
          "output_type": "execute_result"
        }
      ],
      "source": [
        "counted_add(1, 2)"
      ]
    },
    {
      "cell_type": "code",
      "execution_count": null,
      "metadata": {
        "colab": {
          "base_uri": "https://localhost:8080/"
        },
        "id": "kGYSls8FROCU",
        "outputId": "be46eeb9-4e50-4f38-97d2-a17c1f1b828d"
      },
      "outputs": [
        {
          "name": "stdout",
          "output_type": "stream",
          "text": [
            "add has been called 2 times\n"
          ]
        },
        {
          "data": {
            "text/plain": [
              "5"
            ]
          },
          "execution_count": 1143,
          "metadata": {},
          "output_type": "execute_result"
        }
      ],
      "source": [
        "counted_add(2, 3)"
      ]
    },
    {
      "cell_type": "code",
      "execution_count": null,
      "metadata": {
        "id": "Hpq8Dbm6RRxy"
      },
      "outputs": [],
      "source": [
        "def mult(a, b, c):\n",
        "    return a * b * c"
      ]
    },
    {
      "cell_type": "code",
      "execution_count": null,
      "metadata": {
        "id": "zJb7bCRzRU5_"
      },
      "outputs": [],
      "source": [
        "counted_mult = counter(mult)"
      ]
    },
    {
      "cell_type": "code",
      "execution_count": null,
      "metadata": {
        "colab": {
          "base_uri": "https://localhost:8080/"
        },
        "id": "HU-UpYxzRXTs",
        "outputId": "703bd58b-89de-4d39-f4ec-5dd62311fd68"
      },
      "outputs": [
        {
          "name": "stdout",
          "output_type": "stream",
          "text": [
            "mult has been called 1 times\n"
          ]
        },
        {
          "data": {
            "text/plain": [
              "6"
            ]
          },
          "execution_count": 1146,
          "metadata": {},
          "output_type": "execute_result"
        }
      ],
      "source": [
        "counted_mult(1, 2, 3)"
      ]
    },
    {
      "cell_type": "code",
      "execution_count": null,
      "metadata": {
        "colab": {
          "base_uri": "https://localhost:8080/"
        },
        "id": "Yh2sNYrWRYuX",
        "outputId": "f89c217e-e78e-44b0-a5fb-8fdf1bcc121a"
      },
      "outputs": [
        {
          "name": "stdout",
          "output_type": "stream",
          "text": [
            "mult has been called 2 times\n"
          ]
        },
        {
          "data": {
            "text/plain": [
              "24"
            ]
          },
          "execution_count": 1147,
          "metadata": {},
          "output_type": "execute_result"
        }
      ],
      "source": [
        "counted_mult(2, 3, 4)"
      ]
    },
    {
      "cell_type": "markdown",
      "metadata": {
        "id": "AY-f3QBY5zHe"
      },
      "source": [
        "**Example 3**"
      ]
    },
    {
      "cell_type": "markdown",
      "metadata": {
        "id": "yZAYBMWQ53Wo"
      },
      "source": [
        "Let's take this one step further, and actually store the function name and the number of calls in a global dictionary instead of just printing it out all the time."
      ]
    },
    {
      "cell_type": "code",
      "execution_count": null,
      "metadata": {
        "id": "zMTX1g90RbBN"
      },
      "outputs": [],
      "source": [
        "counters = dict()\n",
        "\n",
        "def counter(fn):\n",
        "    cnt = 0 # initially fn has been run zero times\n",
        "\n",
        "    def inner(*args, **kwargs):\n",
        "        nonlocal cnt\n",
        "        cnt = cnt + 1\n",
        "        counters[fn.__name__] = cnt # counters is global\n",
        "        return fn(*args, **kwargs)\n",
        "        \n",
        "    return inner"
      ]
    },
    {
      "cell_type": "code",
      "execution_count": null,
      "metadata": {
        "id": "brc9Awe46Zkf"
      },
      "outputs": [],
      "source": [
        "counted_add = counter(add)\n",
        "counted_mult = counter(mult)"
      ]
    },
    {
      "cell_type": "markdown",
      "metadata": {
        "id": "REMZB66W6e3K"
      },
      "source": [
        "Note that `counters` is a `global` variable, and therefore not a free variable:"
      ]
    },
    {
      "cell_type": "code",
      "execution_count": null,
      "metadata": {
        "id": "x6zoMTGT6ehF"
      },
      "outputs": [],
      "source": []
    },
    {
      "cell_type": "code",
      "execution_count": null,
      "metadata": {
        "id": "2-CEEdz9EZkJ"
      },
      "outputs": [],
      "source": []
    }
  ],
  "metadata": {
    "colab": {
      "collapsed_sections": [],
      "provenance": [],
      "toc_visible": true,
      "include_colab_link": true
    },
    "kernelspec": {
      "display_name": "Python 3 (ipykernel)",
      "language": "python",
      "name": "python3"
    },
    "language_info": {
      "codemirror_mode": {
        "name": "ipython",
        "version": 3
      },
      "file_extension": ".py",
      "mimetype": "text/x-python",
      "name": "python",
      "nbconvert_exporter": "python",
      "pygments_lexer": "ipython3",
      "version": "3.9.12"
    }
  },
  "nbformat": 4,
  "nbformat_minor": 0
}