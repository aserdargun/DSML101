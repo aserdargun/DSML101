{
 "cells": [
  {
   "cell_type": "markdown",
   "id": "54e47576",
   "metadata": {
    "papermill": {
     "duration": 0.01301,
     "end_time": "2022-12-25T10:06:32.154004",
     "exception": false,
     "start_time": "2022-12-25T10:06:32.140994",
     "status": "completed"
    },
    "tags": []
   },
   "source": [
    "# Customer Segmentation with Unsupervised Learning"
   ]
  },
  {
   "cell_type": "markdown",
   "id": "269e82a5",
   "metadata": {
    "papermill": {
     "duration": 0.012999,
     "end_time": "2022-12-25T10:06:32.178395",
     "exception": false,
     "start_time": "2022-12-25T10:06:32.165396",
     "status": "completed"
    },
    "tags": []
   },
   "source": [
    "**Business Problem**\n",
    "\n",
    "An online shoe selling company willing to set marketing strategies on customer segments which they want to make segmentation. Intended for this, Customer behaviours will be determined and customers will be groupbed by using this aggregated behaviours.\n",
    "\n",
    "**Story of Dataset**\n",
    "\n",
    "This dataset has been taken from a shoe selling company. This dataset consists of last orders between 2020 to 2021 years and Customers', who purchased from omnichannel(either of online and offline),historical behaviours data.\n",
    "\n",
    "12 variables, 19.945 observation, 2.7 MB\n",
    "\n",
    "**Variables**\n",
    "\n",
    "master_id: Unique customer id\n",
    "\n",
    "order_channel: Purchasing platform channel (Android, ios, desktop, mobile)\n",
    "\n",
    "last_order_channel: Last order channel\n",
    "\n",
    "first_order_date: Customer's first order date\n",
    "\n",
    "last_order_date: Customer's last order date\n",
    "\n",
    "last_order_date_online: Customer's first online order date\n",
    "\n",
    "last_order_date_offline: Customer's first offline order date\n",
    "\n",
    "order_num_total_ever_online: Customer's total online order amount\n",
    "\n",
    "order_num_total_ever_offnline: Customer's total offnline order amount\n",
    "\n",
    "interested_in_categories_12 Customer's order categories list in last 12 months"
   ]
  },
  {
   "cell_type": "markdown",
   "id": "d6c0d247",
   "metadata": {
    "papermill": {
     "duration": 0.011019,
     "end_time": "2022-12-25T10:06:32.200881",
     "exception": false,
     "start_time": "2022-12-25T10:06:32.189862",
     "status": "completed"
    },
    "tags": []
   },
   "source": [
    "# TASK 1. Data Preperations"
   ]
  },
  {
   "cell_type": "markdown",
   "id": "951b106a",
   "metadata": {
    "papermill": {
     "duration": 0.011002,
     "end_time": "2022-12-25T10:06:32.223332",
     "exception": false,
     "start_time": "2022-12-25T10:06:32.212330",
     "status": "completed"
    },
    "tags": []
   },
   "source": [
    "# Step 1.1. Reading Dataset"
   ]
  },
  {
   "cell_type": "code",
   "execution_count": 1,
   "id": "aa6c2c87",
   "metadata": {
    "execution": {
     "iopub.execute_input": "2022-12-25T10:06:32.248269Z",
     "iopub.status.busy": "2022-12-25T10:06:32.247746Z",
     "iopub.status.idle": "2022-12-25T10:06:33.295443Z",
     "shell.execute_reply": "2022-12-25T10:06:33.293913Z"
    },
    "papermill": {
     "duration": 1.063959,
     "end_time": "2022-12-25T10:06:33.298690",
     "exception": false,
     "start_time": "2022-12-25T10:06:32.234731",
     "status": "completed"
    },
    "tags": []
   },
   "outputs": [],
   "source": [
    "import numpy as np\n",
    "import pandas as pd\n",
    "import seaborn as sns\n",
    "import matplotlib.pyplot as plt"
   ]
  },
  {
   "cell_type": "code",
   "execution_count": 2,
   "id": "c616bca9",
   "metadata": {
    "execution": {
     "iopub.execute_input": "2022-12-25T10:06:33.323567Z",
     "iopub.status.busy": "2022-12-25T10:06:33.323152Z",
     "iopub.status.idle": "2022-12-25T10:06:33.445679Z",
     "shell.execute_reply": "2022-12-25T10:06:33.444687Z"
    },
    "papermill": {
     "duration": 0.13785,
     "end_time": "2022-12-25T10:06:33.448212",
     "exception": false,
     "start_time": "2022-12-25T10:06:33.310362",
     "status": "completed"
    },
    "tags": []
   },
   "outputs": [],
   "source": [
    "df = pd.read_csv(\"/kaggle/input/flodata/flo_data_20k.csv\")"
   ]
  },
  {
   "cell_type": "code",
   "execution_count": 3,
   "id": "6cd2c86d",
   "metadata": {
    "execution": {
     "iopub.execute_input": "2022-12-25T10:06:33.474626Z",
     "iopub.status.busy": "2022-12-25T10:06:33.473464Z",
     "iopub.status.idle": "2022-12-25T10:06:33.502409Z",
     "shell.execute_reply": "2022-12-25T10:06:33.501268Z"
    },
    "papermill": {
     "duration": 0.044854,
     "end_time": "2022-12-25T10:06:33.505182",
     "exception": false,
     "start_time": "2022-12-25T10:06:33.460328",
     "status": "completed"
    },
    "tags": []
   },
   "outputs": [
    {
     "data": {
      "text/html": [
       "<div>\n",
       "<style scoped>\n",
       "    .dataframe tbody tr th:only-of-type {\n",
       "        vertical-align: middle;\n",
       "    }\n",
       "\n",
       "    .dataframe tbody tr th {\n",
       "        vertical-align: top;\n",
       "    }\n",
       "\n",
       "    .dataframe thead th {\n",
       "        text-align: right;\n",
       "    }\n",
       "</style>\n",
       "<table border=\"1\" class=\"dataframe\">\n",
       "  <thead>\n",
       "    <tr style=\"text-align: right;\">\n",
       "      <th></th>\n",
       "      <th>master_id</th>\n",
       "      <th>order_channel</th>\n",
       "      <th>last_order_channel</th>\n",
       "      <th>first_order_date</th>\n",
       "      <th>last_order_date</th>\n",
       "      <th>last_order_date_online</th>\n",
       "      <th>last_order_date_offline</th>\n",
       "      <th>order_num_total_ever_online</th>\n",
       "      <th>order_num_total_ever_offline</th>\n",
       "      <th>customer_value_total_ever_offline</th>\n",
       "      <th>customer_value_total_ever_online</th>\n",
       "      <th>interested_in_categories_12</th>\n",
       "    </tr>\n",
       "  </thead>\n",
       "  <tbody>\n",
       "    <tr>\n",
       "      <th>0</th>\n",
       "      <td>cc294636-19f0-11eb-8d74-000d3a38a36f</td>\n",
       "      <td>Android App</td>\n",
       "      <td>Offline</td>\n",
       "      <td>2020-10-30</td>\n",
       "      <td>2021-02-26</td>\n",
       "      <td>2021-02-21</td>\n",
       "      <td>2021-02-26</td>\n",
       "      <td>4.0</td>\n",
       "      <td>1.0</td>\n",
       "      <td>139.99</td>\n",
       "      <td>799.38</td>\n",
       "      <td>[KADIN]</td>\n",
       "    </tr>\n",
       "    <tr>\n",
       "      <th>1</th>\n",
       "      <td>f431bd5a-ab7b-11e9-a2fc-000d3a38a36f</td>\n",
       "      <td>Android App</td>\n",
       "      <td>Mobile</td>\n",
       "      <td>2017-02-08</td>\n",
       "      <td>2021-02-16</td>\n",
       "      <td>2021-02-16</td>\n",
       "      <td>2020-01-10</td>\n",
       "      <td>19.0</td>\n",
       "      <td>2.0</td>\n",
       "      <td>159.97</td>\n",
       "      <td>1853.58</td>\n",
       "      <td>[ERKEK, COCUK, KADIN, AKTIFSPOR]</td>\n",
       "    </tr>\n",
       "    <tr>\n",
       "      <th>2</th>\n",
       "      <td>69b69676-1a40-11ea-941b-000d3a38a36f</td>\n",
       "      <td>Android App</td>\n",
       "      <td>Android App</td>\n",
       "      <td>2019-11-27</td>\n",
       "      <td>2020-11-27</td>\n",
       "      <td>2020-11-27</td>\n",
       "      <td>2019-12-01</td>\n",
       "      <td>3.0</td>\n",
       "      <td>2.0</td>\n",
       "      <td>189.97</td>\n",
       "      <td>395.35</td>\n",
       "      <td>[ERKEK, KADIN]</td>\n",
       "    </tr>\n",
       "    <tr>\n",
       "      <th>3</th>\n",
       "      <td>1854e56c-491f-11eb-806e-000d3a38a36f</td>\n",
       "      <td>Android App</td>\n",
       "      <td>Android App</td>\n",
       "      <td>2021-01-06</td>\n",
       "      <td>2021-01-17</td>\n",
       "      <td>2021-01-17</td>\n",
       "      <td>2021-01-06</td>\n",
       "      <td>1.0</td>\n",
       "      <td>1.0</td>\n",
       "      <td>39.99</td>\n",
       "      <td>81.98</td>\n",
       "      <td>[AKTIFCOCUK, COCUK]</td>\n",
       "    </tr>\n",
       "    <tr>\n",
       "      <th>4</th>\n",
       "      <td>d6ea1074-f1f5-11e9-9346-000d3a38a36f</td>\n",
       "      <td>Desktop</td>\n",
       "      <td>Desktop</td>\n",
       "      <td>2019-08-03</td>\n",
       "      <td>2021-03-07</td>\n",
       "      <td>2021-03-07</td>\n",
       "      <td>2019-08-03</td>\n",
       "      <td>1.0</td>\n",
       "      <td>1.0</td>\n",
       "      <td>49.99</td>\n",
       "      <td>159.99</td>\n",
       "      <td>[AKTIFSPOR]</td>\n",
       "    </tr>\n",
       "  </tbody>\n",
       "</table>\n",
       "</div>"
      ],
      "text/plain": [
       "                              master_id order_channel last_order_channel  \\\n",
       "0  cc294636-19f0-11eb-8d74-000d3a38a36f   Android App            Offline   \n",
       "1  f431bd5a-ab7b-11e9-a2fc-000d3a38a36f   Android App             Mobile   \n",
       "2  69b69676-1a40-11ea-941b-000d3a38a36f   Android App        Android App   \n",
       "3  1854e56c-491f-11eb-806e-000d3a38a36f   Android App        Android App   \n",
       "4  d6ea1074-f1f5-11e9-9346-000d3a38a36f       Desktop            Desktop   \n",
       "\n",
       "  first_order_date last_order_date last_order_date_online  \\\n",
       "0       2020-10-30      2021-02-26             2021-02-21   \n",
       "1       2017-02-08      2021-02-16             2021-02-16   \n",
       "2       2019-11-27      2020-11-27             2020-11-27   \n",
       "3       2021-01-06      2021-01-17             2021-01-17   \n",
       "4       2019-08-03      2021-03-07             2021-03-07   \n",
       "\n",
       "  last_order_date_offline  order_num_total_ever_online  \\\n",
       "0              2021-02-26                          4.0   \n",
       "1              2020-01-10                         19.0   \n",
       "2              2019-12-01                          3.0   \n",
       "3              2021-01-06                          1.0   \n",
       "4              2019-08-03                          1.0   \n",
       "\n",
       "   order_num_total_ever_offline  customer_value_total_ever_offline  \\\n",
       "0                           1.0                             139.99   \n",
       "1                           2.0                             159.97   \n",
       "2                           2.0                             189.97   \n",
       "3                           1.0                              39.99   \n",
       "4                           1.0                              49.99   \n",
       "\n",
       "   customer_value_total_ever_online       interested_in_categories_12  \n",
       "0                            799.38                           [KADIN]  \n",
       "1                           1853.58  [ERKEK, COCUK, KADIN, AKTIFSPOR]  \n",
       "2                            395.35                    [ERKEK, KADIN]  \n",
       "3                             81.98               [AKTIFCOCUK, COCUK]  \n",
       "4                            159.99                       [AKTIFSPOR]  "
      ]
     },
     "execution_count": 3,
     "metadata": {},
     "output_type": "execute_result"
    }
   ],
   "source": [
    "df.head()"
   ]
  },
  {
   "cell_type": "markdown",
   "id": "8493f6f4",
   "metadata": {
    "papermill": {
     "duration": 0.011579,
     "end_time": "2022-12-25T10:06:33.528602",
     "exception": false,
     "start_time": "2022-12-25T10:06:33.517023",
     "status": "completed"
    },
    "tags": []
   },
   "source": [
    "# Step 1.2. Selecting Variables Using for Customer Segmentation\n",
    "\n",
    "New variables can be created such as Tenure (Customer Age), Recency (Number of days before from Last purchase date)"
   ]
  },
  {
   "cell_type": "code",
   "execution_count": 4,
   "id": "632be4d6",
   "metadata": {
    "execution": {
     "iopub.execute_input": "2022-12-25T10:06:33.553932Z",
     "iopub.status.busy": "2022-12-25T10:06:33.553501Z",
     "iopub.status.idle": "2022-12-25T10:06:33.587115Z",
     "shell.execute_reply": "2022-12-25T10:06:33.585754Z"
    },
    "papermill": {
     "duration": 0.049417,
     "end_time": "2022-12-25T10:06:33.589788",
     "exception": false,
     "start_time": "2022-12-25T10:06:33.540371",
     "status": "completed"
    },
    "tags": []
   },
   "outputs": [],
   "source": [
    "import datetime as dt\n",
    "df['tenure'] = (pd.to_datetime('today') - pd.to_datetime(df['first_order_date'])).dt.days\n",
    "df['recency'] = (pd.to_datetime('today') - pd.to_datetime(df['last_order_date'])).dt.days\n",
    "df['frequency'] = df['order_num_total_ever_online'] + df['order_num_total_ever_offline']\n",
    "df['monetary'] = df['customer_value_total_ever_online'] + df['customer_value_total_ever_offline']\n",
    "df[\"order_num_total\"] = df[\"order_num_total_ever_online\"] + df[\"order_num_total_ever_offline\"]\n",
    "df[\"customer_value_total\"] = df[\"customer_value_total_ever_offline\"] + df[\"customer_value_total_ever_online\"]"
   ]
  },
  {
   "cell_type": "code",
   "execution_count": 5,
   "id": "275f3195",
   "metadata": {
    "execution": {
     "iopub.execute_input": "2022-12-25T10:06:33.615115Z",
     "iopub.status.busy": "2022-12-25T10:06:33.614694Z",
     "iopub.status.idle": "2022-12-25T10:06:33.639905Z",
     "shell.execute_reply": "2022-12-25T10:06:33.638763Z"
    },
    "papermill": {
     "duration": 0.040813,
     "end_time": "2022-12-25T10:06:33.642525",
     "exception": false,
     "start_time": "2022-12-25T10:06:33.601712",
     "status": "completed"
    },
    "tags": []
   },
   "outputs": [
    {
     "data": {
      "text/html": [
       "<div>\n",
       "<style scoped>\n",
       "    .dataframe tbody tr th:only-of-type {\n",
       "        vertical-align: middle;\n",
       "    }\n",
       "\n",
       "    .dataframe tbody tr th {\n",
       "        vertical-align: top;\n",
       "    }\n",
       "\n",
       "    .dataframe thead th {\n",
       "        text-align: right;\n",
       "    }\n",
       "</style>\n",
       "<table border=\"1\" class=\"dataframe\">\n",
       "  <thead>\n",
       "    <tr style=\"text-align: right;\">\n",
       "      <th></th>\n",
       "      <th>master_id</th>\n",
       "      <th>order_channel</th>\n",
       "      <th>last_order_channel</th>\n",
       "      <th>first_order_date</th>\n",
       "      <th>last_order_date</th>\n",
       "      <th>last_order_date_online</th>\n",
       "      <th>last_order_date_offline</th>\n",
       "      <th>order_num_total_ever_online</th>\n",
       "      <th>order_num_total_ever_offline</th>\n",
       "      <th>customer_value_total_ever_offline</th>\n",
       "      <th>customer_value_total_ever_online</th>\n",
       "      <th>interested_in_categories_12</th>\n",
       "      <th>tenure</th>\n",
       "      <th>recency</th>\n",
       "      <th>frequency</th>\n",
       "      <th>monetary</th>\n",
       "      <th>order_num_total</th>\n",
       "      <th>customer_value_total</th>\n",
       "    </tr>\n",
       "  </thead>\n",
       "  <tbody>\n",
       "    <tr>\n",
       "      <th>0</th>\n",
       "      <td>cc294636-19f0-11eb-8d74-000d3a38a36f</td>\n",
       "      <td>Android App</td>\n",
       "      <td>Offline</td>\n",
       "      <td>2020-10-30</td>\n",
       "      <td>2021-02-26</td>\n",
       "      <td>2021-02-21</td>\n",
       "      <td>2021-02-26</td>\n",
       "      <td>4.0</td>\n",
       "      <td>1.0</td>\n",
       "      <td>139.99</td>\n",
       "      <td>799.38</td>\n",
       "      <td>[KADIN]</td>\n",
       "      <td>786</td>\n",
       "      <td>667</td>\n",
       "      <td>5.0</td>\n",
       "      <td>939.37</td>\n",
       "      <td>5.0</td>\n",
       "      <td>939.37</td>\n",
       "    </tr>\n",
       "    <tr>\n",
       "      <th>1</th>\n",
       "      <td>f431bd5a-ab7b-11e9-a2fc-000d3a38a36f</td>\n",
       "      <td>Android App</td>\n",
       "      <td>Mobile</td>\n",
       "      <td>2017-02-08</td>\n",
       "      <td>2021-02-16</td>\n",
       "      <td>2021-02-16</td>\n",
       "      <td>2020-01-10</td>\n",
       "      <td>19.0</td>\n",
       "      <td>2.0</td>\n",
       "      <td>159.97</td>\n",
       "      <td>1853.58</td>\n",
       "      <td>[ERKEK, COCUK, KADIN, AKTIFSPOR]</td>\n",
       "      <td>2146</td>\n",
       "      <td>677</td>\n",
       "      <td>21.0</td>\n",
       "      <td>2013.55</td>\n",
       "      <td>21.0</td>\n",
       "      <td>2013.55</td>\n",
       "    </tr>\n",
       "    <tr>\n",
       "      <th>2</th>\n",
       "      <td>69b69676-1a40-11ea-941b-000d3a38a36f</td>\n",
       "      <td>Android App</td>\n",
       "      <td>Android App</td>\n",
       "      <td>2019-11-27</td>\n",
       "      <td>2020-11-27</td>\n",
       "      <td>2020-11-27</td>\n",
       "      <td>2019-12-01</td>\n",
       "      <td>3.0</td>\n",
       "      <td>2.0</td>\n",
       "      <td>189.97</td>\n",
       "      <td>395.35</td>\n",
       "      <td>[ERKEK, KADIN]</td>\n",
       "      <td>1124</td>\n",
       "      <td>758</td>\n",
       "      <td>5.0</td>\n",
       "      <td>585.32</td>\n",
       "      <td>5.0</td>\n",
       "      <td>585.32</td>\n",
       "    </tr>\n",
       "    <tr>\n",
       "      <th>3</th>\n",
       "      <td>1854e56c-491f-11eb-806e-000d3a38a36f</td>\n",
       "      <td>Android App</td>\n",
       "      <td>Android App</td>\n",
       "      <td>2021-01-06</td>\n",
       "      <td>2021-01-17</td>\n",
       "      <td>2021-01-17</td>\n",
       "      <td>2021-01-06</td>\n",
       "      <td>1.0</td>\n",
       "      <td>1.0</td>\n",
       "      <td>39.99</td>\n",
       "      <td>81.98</td>\n",
       "      <td>[AKTIFCOCUK, COCUK]</td>\n",
       "      <td>718</td>\n",
       "      <td>707</td>\n",
       "      <td>2.0</td>\n",
       "      <td>121.97</td>\n",
       "      <td>2.0</td>\n",
       "      <td>121.97</td>\n",
       "    </tr>\n",
       "    <tr>\n",
       "      <th>4</th>\n",
       "      <td>d6ea1074-f1f5-11e9-9346-000d3a38a36f</td>\n",
       "      <td>Desktop</td>\n",
       "      <td>Desktop</td>\n",
       "      <td>2019-08-03</td>\n",
       "      <td>2021-03-07</td>\n",
       "      <td>2021-03-07</td>\n",
       "      <td>2019-08-03</td>\n",
       "      <td>1.0</td>\n",
       "      <td>1.0</td>\n",
       "      <td>49.99</td>\n",
       "      <td>159.99</td>\n",
       "      <td>[AKTIFSPOR]</td>\n",
       "      <td>1240</td>\n",
       "      <td>658</td>\n",
       "      <td>2.0</td>\n",
       "      <td>209.98</td>\n",
       "      <td>2.0</td>\n",
       "      <td>209.98</td>\n",
       "    </tr>\n",
       "  </tbody>\n",
       "</table>\n",
       "</div>"
      ],
      "text/plain": [
       "                              master_id order_channel last_order_channel  \\\n",
       "0  cc294636-19f0-11eb-8d74-000d3a38a36f   Android App            Offline   \n",
       "1  f431bd5a-ab7b-11e9-a2fc-000d3a38a36f   Android App             Mobile   \n",
       "2  69b69676-1a40-11ea-941b-000d3a38a36f   Android App        Android App   \n",
       "3  1854e56c-491f-11eb-806e-000d3a38a36f   Android App        Android App   \n",
       "4  d6ea1074-f1f5-11e9-9346-000d3a38a36f       Desktop            Desktop   \n",
       "\n",
       "  first_order_date last_order_date last_order_date_online  \\\n",
       "0       2020-10-30      2021-02-26             2021-02-21   \n",
       "1       2017-02-08      2021-02-16             2021-02-16   \n",
       "2       2019-11-27      2020-11-27             2020-11-27   \n",
       "3       2021-01-06      2021-01-17             2021-01-17   \n",
       "4       2019-08-03      2021-03-07             2021-03-07   \n",
       "\n",
       "  last_order_date_offline  order_num_total_ever_online  \\\n",
       "0              2021-02-26                          4.0   \n",
       "1              2020-01-10                         19.0   \n",
       "2              2019-12-01                          3.0   \n",
       "3              2021-01-06                          1.0   \n",
       "4              2019-08-03                          1.0   \n",
       "\n",
       "   order_num_total_ever_offline  customer_value_total_ever_offline  \\\n",
       "0                           1.0                             139.99   \n",
       "1                           2.0                             159.97   \n",
       "2                           2.0                             189.97   \n",
       "3                           1.0                              39.99   \n",
       "4                           1.0                              49.99   \n",
       "\n",
       "   customer_value_total_ever_online       interested_in_categories_12  tenure  \\\n",
       "0                            799.38                           [KADIN]     786   \n",
       "1                           1853.58  [ERKEK, COCUK, KADIN, AKTIFSPOR]    2146   \n",
       "2                            395.35                    [ERKEK, KADIN]    1124   \n",
       "3                             81.98               [AKTIFCOCUK, COCUK]     718   \n",
       "4                            159.99                       [AKTIFSPOR]    1240   \n",
       "\n",
       "   recency  frequency  monetary  order_num_total  customer_value_total  \n",
       "0      667        5.0    939.37              5.0                939.37  \n",
       "1      677       21.0   2013.55             21.0               2013.55  \n",
       "2      758        5.0    585.32              5.0                585.32  \n",
       "3      707        2.0    121.97              2.0                121.97  \n",
       "4      658        2.0    209.98              2.0                209.98  "
      ]
     },
     "execution_count": 5,
     "metadata": {},
     "output_type": "execute_result"
    }
   ],
   "source": [
    "df.head()"
   ]
  },
  {
   "cell_type": "code",
   "execution_count": 6,
   "id": "e31fc332",
   "metadata": {
    "execution": {
     "iopub.execute_input": "2022-12-25T10:06:33.669616Z",
     "iopub.status.busy": "2022-12-25T10:06:33.668722Z",
     "iopub.status.idle": "2022-12-25T10:06:33.696721Z",
     "shell.execute_reply": "2022-12-25T10:06:33.695496Z"
    },
    "papermill": {
     "duration": 0.04465,
     "end_time": "2022-12-25T10:06:33.699652",
     "exception": false,
     "start_time": "2022-12-25T10:06:33.655002",
     "status": "completed"
    },
    "tags": []
   },
   "outputs": [
    {
     "name": "stdout",
     "output_type": "stream",
     "text": [
      "<class 'pandas.core.frame.DataFrame'>\n",
      "RangeIndex: 19945 entries, 0 to 19944\n",
      "Data columns (total 18 columns):\n",
      " #   Column                             Non-Null Count  Dtype  \n",
      "---  ------                             --------------  -----  \n",
      " 0   master_id                          19945 non-null  object \n",
      " 1   order_channel                      19945 non-null  object \n",
      " 2   last_order_channel                 19945 non-null  object \n",
      " 3   first_order_date                   19945 non-null  object \n",
      " 4   last_order_date                    19945 non-null  object \n",
      " 5   last_order_date_online             19945 non-null  object \n",
      " 6   last_order_date_offline            19945 non-null  object \n",
      " 7   order_num_total_ever_online        19945 non-null  float64\n",
      " 8   order_num_total_ever_offline       19945 non-null  float64\n",
      " 9   customer_value_total_ever_offline  19945 non-null  float64\n",
      " 10  customer_value_total_ever_online   19945 non-null  float64\n",
      " 11  interested_in_categories_12        19945 non-null  object \n",
      " 12  tenure                             19945 non-null  int64  \n",
      " 13  recency                            19945 non-null  int64  \n",
      " 14  frequency                          19945 non-null  float64\n",
      " 15  monetary                           19945 non-null  float64\n",
      " 16  order_num_total                    19945 non-null  float64\n",
      " 17  customer_value_total               19945 non-null  float64\n",
      "dtypes: float64(8), int64(2), object(8)\n",
      "memory usage: 2.7+ MB\n"
     ]
    }
   ],
   "source": [
    "df.info()"
   ]
  },
  {
   "cell_type": "code",
   "execution_count": 7,
   "id": "633ba851",
   "metadata": {
    "execution": {
     "iopub.execute_input": "2022-12-25T10:06:33.725564Z",
     "iopub.status.busy": "2022-12-25T10:06:33.725149Z",
     "iopub.status.idle": "2022-12-25T10:06:33.731042Z",
     "shell.execute_reply": "2022-12-25T10:06:33.729828Z"
    },
    "papermill": {
     "duration": 0.021755,
     "end_time": "2022-12-25T10:06:33.733556",
     "exception": false,
     "start_time": "2022-12-25T10:06:33.711801",
     "status": "completed"
    },
    "tags": []
   },
   "outputs": [],
   "source": [
    "num_cols = [col for col in df.columns if df[col].dtypes !=\"O\"]"
   ]
  },
  {
   "cell_type": "code",
   "execution_count": 8,
   "id": "71862d0b",
   "metadata": {
    "execution": {
     "iopub.execute_input": "2022-12-25T10:06:33.760092Z",
     "iopub.status.busy": "2022-12-25T10:06:33.759695Z",
     "iopub.status.idle": "2022-12-25T10:06:33.783929Z",
     "shell.execute_reply": "2022-12-25T10:06:33.782719Z"
    },
    "papermill": {
     "duration": 0.040909,
     "end_time": "2022-12-25T10:06:33.786663",
     "exception": false,
     "start_time": "2022-12-25T10:06:33.745754",
     "status": "completed"
    },
    "tags": []
   },
   "outputs": [
    {
     "data": {
      "text/html": [
       "<div>\n",
       "<style scoped>\n",
       "    .dataframe tbody tr th:only-of-type {\n",
       "        vertical-align: middle;\n",
       "    }\n",
       "\n",
       "    .dataframe tbody tr th {\n",
       "        vertical-align: top;\n",
       "    }\n",
       "\n",
       "    .dataframe thead th {\n",
       "        text-align: right;\n",
       "    }\n",
       "</style>\n",
       "<table border=\"1\" class=\"dataframe\">\n",
       "  <thead>\n",
       "    <tr style=\"text-align: right;\">\n",
       "      <th></th>\n",
       "      <th>order_num_total_ever_online</th>\n",
       "      <th>order_num_total_ever_offline</th>\n",
       "      <th>customer_value_total_ever_offline</th>\n",
       "      <th>customer_value_total_ever_online</th>\n",
       "      <th>tenure</th>\n",
       "      <th>recency</th>\n",
       "      <th>frequency</th>\n",
       "      <th>monetary</th>\n",
       "      <th>order_num_total</th>\n",
       "      <th>customer_value_total</th>\n",
       "    </tr>\n",
       "  </thead>\n",
       "  <tbody>\n",
       "    <tr>\n",
       "      <th>0</th>\n",
       "      <td>4.0</td>\n",
       "      <td>1.0</td>\n",
       "      <td>139.99</td>\n",
       "      <td>799.38</td>\n",
       "      <td>786</td>\n",
       "      <td>667</td>\n",
       "      <td>5.0</td>\n",
       "      <td>939.37</td>\n",
       "      <td>5.0</td>\n",
       "      <td>939.37</td>\n",
       "    </tr>\n",
       "    <tr>\n",
       "      <th>1</th>\n",
       "      <td>19.0</td>\n",
       "      <td>2.0</td>\n",
       "      <td>159.97</td>\n",
       "      <td>1853.58</td>\n",
       "      <td>2146</td>\n",
       "      <td>677</td>\n",
       "      <td>21.0</td>\n",
       "      <td>2013.55</td>\n",
       "      <td>21.0</td>\n",
       "      <td>2013.55</td>\n",
       "    </tr>\n",
       "    <tr>\n",
       "      <th>2</th>\n",
       "      <td>3.0</td>\n",
       "      <td>2.0</td>\n",
       "      <td>189.97</td>\n",
       "      <td>395.35</td>\n",
       "      <td>1124</td>\n",
       "      <td>758</td>\n",
       "      <td>5.0</td>\n",
       "      <td>585.32</td>\n",
       "      <td>5.0</td>\n",
       "      <td>585.32</td>\n",
       "    </tr>\n",
       "    <tr>\n",
       "      <th>3</th>\n",
       "      <td>1.0</td>\n",
       "      <td>1.0</td>\n",
       "      <td>39.99</td>\n",
       "      <td>81.98</td>\n",
       "      <td>718</td>\n",
       "      <td>707</td>\n",
       "      <td>2.0</td>\n",
       "      <td>121.97</td>\n",
       "      <td>2.0</td>\n",
       "      <td>121.97</td>\n",
       "    </tr>\n",
       "    <tr>\n",
       "      <th>4</th>\n",
       "      <td>1.0</td>\n",
       "      <td>1.0</td>\n",
       "      <td>49.99</td>\n",
       "      <td>159.99</td>\n",
       "      <td>1240</td>\n",
       "      <td>658</td>\n",
       "      <td>2.0</td>\n",
       "      <td>209.98</td>\n",
       "      <td>2.0</td>\n",
       "      <td>209.98</td>\n",
       "    </tr>\n",
       "  </tbody>\n",
       "</table>\n",
       "</div>"
      ],
      "text/plain": [
       "   order_num_total_ever_online  order_num_total_ever_offline  \\\n",
       "0                          4.0                           1.0   \n",
       "1                         19.0                           2.0   \n",
       "2                          3.0                           2.0   \n",
       "3                          1.0                           1.0   \n",
       "4                          1.0                           1.0   \n",
       "\n",
       "   customer_value_total_ever_offline  customer_value_total_ever_online  \\\n",
       "0                             139.99                            799.38   \n",
       "1                             159.97                           1853.58   \n",
       "2                             189.97                            395.35   \n",
       "3                              39.99                             81.98   \n",
       "4                              49.99                            159.99   \n",
       "\n",
       "   tenure  recency  frequency  monetary  order_num_total  customer_value_total  \n",
       "0     786      667        5.0    939.37              5.0                939.37  \n",
       "1    2146      677       21.0   2013.55             21.0               2013.55  \n",
       "2    1124      758        5.0    585.32              5.0                585.32  \n",
       "3     718      707        2.0    121.97              2.0                121.97  \n",
       "4    1240      658        2.0    209.98              2.0                209.98  "
      ]
     },
     "execution_count": 8,
     "metadata": {},
     "output_type": "execute_result"
    }
   ],
   "source": [
    "df[num_cols].head()"
   ]
  },
  {
   "cell_type": "code",
   "execution_count": 9,
   "id": "39c06ee0",
   "metadata": {
    "execution": {
     "iopub.execute_input": "2022-12-25T10:06:33.813091Z",
     "iopub.status.busy": "2022-12-25T10:06:33.812663Z",
     "iopub.status.idle": "2022-12-25T10:06:33.820110Z",
     "shell.execute_reply": "2022-12-25T10:06:33.818826Z"
    },
    "papermill": {
     "duration": 0.023605,
     "end_time": "2022-12-25T10:06:33.822645",
     "exception": false,
     "start_time": "2022-12-25T10:06:33.799040",
     "status": "completed"
    },
    "tags": []
   },
   "outputs": [],
   "source": [
    "def correlation_matrix(df, cols):\n",
    "    fig = plt.gcf()\n",
    "    fig.set_size_inches(10, 8)\n",
    "    plt.xticks(fontsize=10)\n",
    "    plt.yticks(fontsize=10)\n",
    "    fig = sns.heatmap(df[cols].corr(), annot=True, linewidths=0.5, annot_kws={'size': 12}, linecolor='w', cmap='RdBu')\n",
    "    plt.show(block=True)"
   ]
  },
  {
   "cell_type": "code",
   "execution_count": 10,
   "id": "3fba932d",
   "metadata": {
    "execution": {
     "iopub.execute_input": "2022-12-25T10:06:33.849395Z",
     "iopub.status.busy": "2022-12-25T10:06:33.848937Z",
     "iopub.status.idle": "2022-12-25T10:06:34.665922Z",
     "shell.execute_reply": "2022-12-25T10:06:34.664515Z"
    },
    "papermill": {
     "duration": 0.83334,
     "end_time": "2022-12-25T10:06:34.668876",
     "exception": false,
     "start_time": "2022-12-25T10:06:33.835536",
     "status": "completed"
    },
    "tags": []
   },
   "outputs": [
    {
     "data": {
      "image/png": "[encoded data removed]",
      "text/plain": [
       "<Figure size 720x576 with 2 Axes>"
      ]
     },
     "metadata": {
      "needs_background": "light"
     },
     "output_type": "display_data"
    }
   ],
   "source": [
    "correlation_matrix(df, num_cols)"
   ]
  },
  {
   "cell_type": "code",
   "execution_count": 11,
   "id": "098c4e4f",
   "metadata": {
    "execution": {
     "iopub.execute_input": "2022-12-25T10:06:34.699672Z",
     "iopub.status.busy": "2022-12-25T10:06:34.697699Z",
     "iopub.status.idle": "2022-12-25T10:06:34.704166Z",
     "shell.execute_reply": "2022-12-25T10:06:34.703180Z"
    },
    "papermill": {
     "duration": 0.023929,
     "end_time": "2022-12-25T10:06:34.706682",
     "exception": false,
     "start_time": "2022-12-25T10:06:34.682753",
     "status": "completed"
    },
    "tags": []
   },
   "outputs": [],
   "source": [
    "cat_cols = [\"order_channel\", \"last_order_channel\"]"
   ]
  },
  {
   "cell_type": "code",
   "execution_count": 12,
   "id": "c64cc548",
   "metadata": {
    "execution": {
     "iopub.execute_input": "2022-12-25T10:06:34.735888Z",
     "iopub.status.busy": "2022-12-25T10:06:34.734804Z",
     "iopub.status.idle": "2022-12-25T10:06:34.748014Z",
     "shell.execute_reply": "2022-12-25T10:06:34.746986Z"
    },
    "papermill": {
     "duration": 0.030185,
     "end_time": "2022-12-25T10:06:34.750288",
     "exception": false,
     "start_time": "2022-12-25T10:06:34.720103",
     "status": "completed"
    },
    "tags": []
   },
   "outputs": [
    {
     "data": {
      "text/plain": [
       "order_channel         4\n",
       "last_order_channel    5\n",
       "dtype: int64"
      ]
     },
     "execution_count": 12,
     "metadata": {},
     "output_type": "execute_result"
    }
   ],
   "source": [
    "df[cat_cols].nunique()"
   ]
  },
  {
   "cell_type": "code",
   "execution_count": 13,
   "id": "1c61c970",
   "metadata": {
    "execution": {
     "iopub.execute_input": "2022-12-25T10:06:34.779735Z",
     "iopub.status.busy": "2022-12-25T10:06:34.778697Z",
     "iopub.status.idle": "2022-12-25T10:06:34.788608Z",
     "shell.execute_reply": "2022-12-25T10:06:34.787354Z"
    },
    "papermill": {
     "duration": 0.027492,
     "end_time": "2022-12-25T10:06:34.791418",
     "exception": false,
     "start_time": "2022-12-25T10:06:34.763926",
     "status": "completed"
    },
    "tags": []
   },
   "outputs": [
    {
     "name": "stdout",
     "output_type": "stream",
     "text": [
      "['Android App' 'Desktop' 'Mobile' 'Ios App']\n",
      "['Offline' 'Mobile' 'Android App' 'Desktop' 'Ios App']\n"
     ]
    }
   ],
   "source": [
    "for col in cat_cols:\n",
    "    print(df[col].unique())"
   ]
  },
  {
   "cell_type": "code",
   "execution_count": 14,
   "id": "a8be5535",
   "metadata": {
    "execution": {
     "iopub.execute_input": "2022-12-25T10:06:34.821160Z",
     "iopub.status.busy": "2022-12-25T10:06:34.820733Z",
     "iopub.status.idle": "2022-12-25T10:06:34.827476Z",
     "shell.execute_reply": "2022-12-25T10:06:34.826648Z"
    },
    "papermill": {
     "duration": 0.024217,
     "end_time": "2022-12-25T10:06:34.829641",
     "exception": false,
     "start_time": "2022-12-25T10:06:34.805424",
     "status": "completed"
    },
    "tags": []
   },
   "outputs": [],
   "source": [
    "def one_hot_encoder(dataframe, categorical_cols, drop_first=True):\n",
    "    dataframe = pd.get_dummies(dataframe, columns=categorical_cols, drop_first=drop_first)\n",
    "    return dataframe"
   ]
  },
  {
   "cell_type": "code",
   "execution_count": 15,
   "id": "956c658b",
   "metadata": {
    "execution": {
     "iopub.execute_input": "2022-12-25T10:06:34.859527Z",
     "iopub.status.busy": "2022-12-25T10:06:34.858506Z",
     "iopub.status.idle": "2022-12-25T10:06:34.879905Z",
     "shell.execute_reply": "2022-12-25T10:06:34.878608Z"
    },
    "papermill": {
     "duration": 0.038961,
     "end_time": "2022-12-25T10:06:34.882629",
     "exception": false,
     "start_time": "2022-12-25T10:06:34.843668",
     "status": "completed"
    },
    "tags": []
   },
   "outputs": [],
   "source": [
    "df = one_hot_encoder(df, cat_cols)"
   ]
  },
  {
   "cell_type": "code",
   "execution_count": 16,
   "id": "541047c9",
   "metadata": {
    "execution": {
     "iopub.execute_input": "2022-12-25T10:06:34.911731Z",
     "iopub.status.busy": "2022-12-25T10:06:34.911288Z",
     "iopub.status.idle": "2022-12-25T10:06:34.937594Z",
     "shell.execute_reply": "2022-12-25T10:06:34.936362Z"
    },
    "papermill": {
     "duration": 0.043568,
     "end_time": "2022-12-25T10:06:34.939937",
     "exception": false,
     "start_time": "2022-12-25T10:06:34.896369",
     "status": "completed"
    },
    "tags": []
   },
   "outputs": [
    {
     "data": {
      "text/html": [
       "<div>\n",
       "<style scoped>\n",
       "    .dataframe tbody tr th:only-of-type {\n",
       "        vertical-align: middle;\n",
       "    }\n",
       "\n",
       "    .dataframe tbody tr th {\n",
       "        vertical-align: top;\n",
       "    }\n",
       "\n",
       "    .dataframe thead th {\n",
       "        text-align: right;\n",
       "    }\n",
       "</style>\n",
       "<table border=\"1\" class=\"dataframe\">\n",
       "  <thead>\n",
       "    <tr style=\"text-align: right;\">\n",
       "      <th></th>\n",
       "      <th>master_id</th>\n",
       "      <th>first_order_date</th>\n",
       "      <th>last_order_date</th>\n",
       "      <th>last_order_date_online</th>\n",
       "      <th>last_order_date_offline</th>\n",
       "      <th>order_num_total_ever_online</th>\n",
       "      <th>order_num_total_ever_offline</th>\n",
       "      <th>customer_value_total_ever_offline</th>\n",
       "      <th>customer_value_total_ever_online</th>\n",
       "      <th>interested_in_categories_12</th>\n",
       "      <th>...</th>\n",
       "      <th>monetary</th>\n",
       "      <th>order_num_total</th>\n",
       "      <th>customer_value_total</th>\n",
       "      <th>order_channel_Desktop</th>\n",
       "      <th>order_channel_Ios App</th>\n",
       "      <th>order_channel_Mobile</th>\n",
       "      <th>last_order_channel_Desktop</th>\n",
       "      <th>last_order_channel_Ios App</th>\n",
       "      <th>last_order_channel_Mobile</th>\n",
       "      <th>last_order_channel_Offline</th>\n",
       "    </tr>\n",
       "  </thead>\n",
       "  <tbody>\n",
       "    <tr>\n",
       "      <th>0</th>\n",
       "      <td>cc294636-19f0-11eb-8d74-000d3a38a36f</td>\n",
       "      <td>2020-10-30</td>\n",
       "      <td>2021-02-26</td>\n",
       "      <td>2021-02-21</td>\n",
       "      <td>2021-02-26</td>\n",
       "      <td>4.0</td>\n",
       "      <td>1.0</td>\n",
       "      <td>139.99</td>\n",
       "      <td>799.38</td>\n",
       "      <td>[KADIN]</td>\n",
       "      <td>...</td>\n",
       "      <td>939.37</td>\n",
       "      <td>5.0</td>\n",
       "      <td>939.37</td>\n",
       "      <td>0</td>\n",
       "      <td>0</td>\n",
       "      <td>0</td>\n",
       "      <td>0</td>\n",
       "      <td>0</td>\n",
       "      <td>0</td>\n",
       "      <td>1</td>\n",
       "    </tr>\n",
       "    <tr>\n",
       "      <th>1</th>\n",
       "      <td>f431bd5a-ab7b-11e9-a2fc-000d3a38a36f</td>\n",
       "      <td>2017-02-08</td>\n",
       "      <td>2021-02-16</td>\n",
       "      <td>2021-02-16</td>\n",
       "      <td>2020-01-10</td>\n",
       "      <td>19.0</td>\n",
       "      <td>2.0</td>\n",
       "      <td>159.97</td>\n",
       "      <td>1853.58</td>\n",
       "      <td>[ERKEK, COCUK, KADIN, AKTIFSPOR]</td>\n",
       "      <td>...</td>\n",
       "      <td>2013.55</td>\n",
       "      <td>21.0</td>\n",
       "      <td>2013.55</td>\n",
       "      <td>0</td>\n",
       "      <td>0</td>\n",
       "      <td>0</td>\n",
       "      <td>0</td>\n",
       "      <td>0</td>\n",
       "      <td>1</td>\n",
       "      <td>0</td>\n",
       "    </tr>\n",
       "    <tr>\n",
       "      <th>2</th>\n",
       "      <td>69b69676-1a40-11ea-941b-000d3a38a36f</td>\n",
       "      <td>2019-11-27</td>\n",
       "      <td>2020-11-27</td>\n",
       "      <td>2020-11-27</td>\n",
       "      <td>2019-12-01</td>\n",
       "      <td>3.0</td>\n",
       "      <td>2.0</td>\n",
       "      <td>189.97</td>\n",
       "      <td>395.35</td>\n",
       "      <td>[ERKEK, KADIN]</td>\n",
       "      <td>...</td>\n",
       "      <td>585.32</td>\n",
       "      <td>5.0</td>\n",
       "      <td>585.32</td>\n",
       "      <td>0</td>\n",
       "      <td>0</td>\n",
       "      <td>0</td>\n",
       "      <td>0</td>\n",
       "      <td>0</td>\n",
       "      <td>0</td>\n",
       "      <td>0</td>\n",
       "    </tr>\n",
       "    <tr>\n",
       "      <th>3</th>\n",
       "      <td>1854e56c-491f-11eb-806e-000d3a38a36f</td>\n",
       "      <td>2021-01-06</td>\n",
       "      <td>2021-01-17</td>\n",
       "      <td>2021-01-17</td>\n",
       "      <td>2021-01-06</td>\n",
       "      <td>1.0</td>\n",
       "      <td>1.0</td>\n",
       "      <td>39.99</td>\n",
       "      <td>81.98</td>\n",
       "      <td>[AKTIFCOCUK, COCUK]</td>\n",
       "      <td>...</td>\n",
       "      <td>121.97</td>\n",
       "      <td>2.0</td>\n",
       "      <td>121.97</td>\n",
       "      <td>0</td>\n",
       "      <td>0</td>\n",
       "      <td>0</td>\n",
       "      <td>0</td>\n",
       "      <td>0</td>\n",
       "      <td>0</td>\n",
       "      <td>0</td>\n",
       "    </tr>\n",
       "    <tr>\n",
       "      <th>4</th>\n",
       "      <td>d6ea1074-f1f5-11e9-9346-000d3a38a36f</td>\n",
       "      <td>2019-08-03</td>\n",
       "      <td>2021-03-07</td>\n",
       "      <td>2021-03-07</td>\n",
       "      <td>2019-08-03</td>\n",
       "      <td>1.0</td>\n",
       "      <td>1.0</td>\n",
       "      <td>49.99</td>\n",
       "      <td>159.99</td>\n",
       "      <td>[AKTIFSPOR]</td>\n",
       "      <td>...</td>\n",
       "      <td>209.98</td>\n",
       "      <td>2.0</td>\n",
       "      <td>209.98</td>\n",
       "      <td>1</td>\n",
       "      <td>0</td>\n",
       "      <td>0</td>\n",
       "      <td>1</td>\n",
       "      <td>0</td>\n",
       "      <td>0</td>\n",
       "      <td>0</td>\n",
       "    </tr>\n",
       "  </tbody>\n",
       "</table>\n",
       "<p>5 rows × 23 columns</p>\n",
       "</div>"
      ],
      "text/plain": [
       "                              master_id first_order_date last_order_date  \\\n",
       "0  cc294636-19f0-11eb-8d74-000d3a38a36f       2020-10-30      2021-02-26   \n",
       "1  f431bd5a-ab7b-11e9-a2fc-000d3a38a36f       2017-02-08      2021-02-16   \n",
       "2  69b69676-1a40-11ea-941b-000d3a38a36f       2019-11-27      2020-11-27   \n",
       "3  1854e56c-491f-11eb-806e-000d3a38a36f       2021-01-06      2021-01-17   \n",
       "4  d6ea1074-f1f5-11e9-9346-000d3a38a36f       2019-08-03      2021-03-07   \n",
       "\n",
       "  last_order_date_online last_order_date_offline  order_num_total_ever_online  \\\n",
       "0             2021-02-21              2021-02-26                          4.0   \n",
       "1             2021-02-16              2020-01-10                         19.0   \n",
       "2             2020-11-27              2019-12-01                          3.0   \n",
       "3             2021-01-17              2021-01-06                          1.0   \n",
       "4             2021-03-07              2019-08-03                          1.0   \n",
       "\n",
       "   order_num_total_ever_offline  customer_value_total_ever_offline  \\\n",
       "0                           1.0                             139.99   \n",
       "1                           2.0                             159.97   \n",
       "2                           2.0                             189.97   \n",
       "3                           1.0                              39.99   \n",
       "4                           1.0                              49.99   \n",
       "\n",
       "   customer_value_total_ever_online       interested_in_categories_12  ...  \\\n",
       "0                            799.38                           [KADIN]  ...   \n",
       "1                           1853.58  [ERKEK, COCUK, KADIN, AKTIFSPOR]  ...   \n",
       "2                            395.35                    [ERKEK, KADIN]  ...   \n",
       "3                             81.98               [AKTIFCOCUK, COCUK]  ...   \n",
       "4                            159.99                       [AKTIFSPOR]  ...   \n",
       "\n",
       "   monetary  order_num_total  customer_value_total  order_channel_Desktop  \\\n",
       "0    939.37              5.0                939.37                      0   \n",
       "1   2013.55             21.0               2013.55                      0   \n",
       "2    585.32              5.0                585.32                      0   \n",
       "3    121.97              2.0                121.97                      0   \n",
       "4    209.98              2.0                209.98                      1   \n",
       "\n",
       "   order_channel_Ios App  order_channel_Mobile  last_order_channel_Desktop  \\\n",
       "0                      0                     0                           0   \n",
       "1                      0                     0                           0   \n",
       "2                      0                     0                           0   \n",
       "3                      0                     0                           0   \n",
       "4                      0                     0                           1   \n",
       "\n",
       "   last_order_channel_Ios App  last_order_channel_Mobile  \\\n",
       "0                           0                          0   \n",
       "1                           0                          1   \n",
       "2                           0                          0   \n",
       "3                           0                          0   \n",
       "4                           0                          0   \n",
       "\n",
       "   last_order_channel_Offline  \n",
       "0                           1  \n",
       "1                           0  \n",
       "2                           0  \n",
       "3                           0  \n",
       "4                           0  \n",
       "\n",
       "[5 rows x 23 columns]"
      ]
     },
     "execution_count": 16,
     "metadata": {},
     "output_type": "execute_result"
    }
   ],
   "source": [
    "df.head()"
   ]
  },
  {
   "cell_type": "markdown",
   "id": "83d47a15",
   "metadata": {
    "papermill": {
     "duration": 0.01695,
     "end_time": "2022-12-25T10:06:34.972052",
     "exception": false,
     "start_time": "2022-12-25T10:06:34.955102",
     "status": "completed"
    },
    "tags": []
   },
   "source": [
    "# TASK 2. Customer Segmentation with K-Means"
   ]
  },
  {
   "cell_type": "markdown",
   "id": "c66ce624",
   "metadata": {
    "papermill": {
     "duration": 0.016403,
     "end_time": "2022-12-25T10:06:35.006587",
     "exception": false,
     "start_time": "2022-12-25T10:06:34.990184",
     "status": "completed"
    },
    "tags": []
   },
   "source": [
    "# Step 2.1. Standardization of Variables"
   ]
  },
  {
   "cell_type": "code",
   "execution_count": 17,
   "id": "8f1caf12",
   "metadata": {
    "execution": {
     "iopub.execute_input": "2022-12-25T10:06:35.038846Z",
     "iopub.status.busy": "2022-12-25T10:06:35.037167Z",
     "iopub.status.idle": "2022-12-25T10:06:35.204667Z",
     "shell.execute_reply": "2022-12-25T10:06:35.203649Z"
    },
    "papermill": {
     "duration": 0.186483,
     "end_time": "2022-12-25T10:06:35.207458",
     "exception": false,
     "start_time": "2022-12-25T10:06:35.020975",
     "status": "completed"
    },
    "tags": []
   },
   "outputs": [
    {
     "data": {
      "text/html": [
       "<div>\n",
       "<style scoped>\n",
       "    .dataframe tbody tr th:only-of-type {\n",
       "        vertical-align: middle;\n",
       "    }\n",
       "\n",
       "    .dataframe tbody tr th {\n",
       "        vertical-align: top;\n",
       "    }\n",
       "\n",
       "    .dataframe thead th {\n",
       "        text-align: right;\n",
       "    }\n",
       "</style>\n",
       "<table border=\"1\" class=\"dataframe\">\n",
       "  <thead>\n",
       "    <tr style=\"text-align: right;\">\n",
       "      <th></th>\n",
       "      <th>order_num_total_ever_online</th>\n",
       "      <th>order_num_total_ever_offline</th>\n",
       "      <th>customer_value_total_ever_offline</th>\n",
       "      <th>customer_value_total_ever_online</th>\n",
       "      <th>tenure</th>\n",
       "      <th>recency</th>\n",
       "      <th>frequency</th>\n",
       "      <th>monetary</th>\n",
       "      <th>order_num_total</th>\n",
       "      <th>customer_value_total</th>\n",
       "    </tr>\n",
       "  </thead>\n",
       "  <tbody>\n",
       "    <tr>\n",
       "      <th>0</th>\n",
       "      <td>0.210422</td>\n",
       "      <td>-0.443039</td>\n",
       "      <td>-0.377854</td>\n",
       "      <td>0.362797</td>\n",
       "      <td>-1.122127</td>\n",
       "      <td>-0.382058</td>\n",
       "      <td>-0.005222</td>\n",
       "      <td>0.210107</td>\n",
       "      <td>-0.005222</td>\n",
       "      <td>0.210107</td>\n",
       "    </tr>\n",
       "    <tr>\n",
       "      <th>1</th>\n",
       "      <td>3.760263</td>\n",
       "      <td>0.041732</td>\n",
       "      <td>-0.311591</td>\n",
       "      <td>1.628981</td>\n",
       "      <td>1.476349</td>\n",
       "      <td>-0.285232</td>\n",
       "      <td>3.368463</td>\n",
       "      <td>1.409799</td>\n",
       "      <td>3.368463</td>\n",
       "      <td>1.409799</td>\n",
       "    </tr>\n",
       "    <tr>\n",
       "      <th>2</th>\n",
       "      <td>-0.026234</td>\n",
       "      <td>0.041732</td>\n",
       "      <td>-0.212097</td>\n",
       "      <td>-0.122477</td>\n",
       "      <td>-0.476329</td>\n",
       "      <td>0.499055</td>\n",
       "      <td>-0.005222</td>\n",
       "      <td>-0.185312</td>\n",
       "      <td>-0.005222</td>\n",
       "      <td>-0.185312</td>\n",
       "    </tr>\n",
       "    <tr>\n",
       "      <th>3</th>\n",
       "      <td>-0.499547</td>\n",
       "      <td>-0.443039</td>\n",
       "      <td>-0.709501</td>\n",
       "      <td>-0.498860</td>\n",
       "      <td>-1.252050</td>\n",
       "      <td>0.005244</td>\n",
       "      <td>-0.637788</td>\n",
       "      <td>-0.702802</td>\n",
       "      <td>-0.637788</td>\n",
       "      <td>-0.702802</td>\n",
       "    </tr>\n",
       "    <tr>\n",
       "      <th>4</th>\n",
       "      <td>-0.499547</td>\n",
       "      <td>-0.443039</td>\n",
       "      <td>-0.676337</td>\n",
       "      <td>-0.405164</td>\n",
       "      <td>-0.254694</td>\n",
       "      <td>-0.469201</td>\n",
       "      <td>-0.637788</td>\n",
       "      <td>-0.604508</td>\n",
       "      <td>-0.637788</td>\n",
       "      <td>-0.604508</td>\n",
       "    </tr>\n",
       "  </tbody>\n",
       "</table>\n",
       "</div>"
      ],
      "text/plain": [
       "   order_num_total_ever_online  order_num_total_ever_offline  \\\n",
       "0                     0.210422                     -0.443039   \n",
       "1                     3.760263                      0.041732   \n",
       "2                    -0.026234                      0.041732   \n",
       "3                    -0.499547                     -0.443039   \n",
       "4                    -0.499547                     -0.443039   \n",
       "\n",
       "   customer_value_total_ever_offline  customer_value_total_ever_online  \\\n",
       "0                          -0.377854                          0.362797   \n",
       "1                          -0.311591                          1.628981   \n",
       "2                          -0.212097                         -0.122477   \n",
       "3                          -0.709501                         -0.498860   \n",
       "4                          -0.676337                         -0.405164   \n",
       "\n",
       "     tenure   recency  frequency  monetary  order_num_total  \\\n",
       "0 -1.122127 -0.382058  -0.005222  0.210107        -0.005222   \n",
       "1  1.476349 -0.285232   3.368463  1.409799         3.368463   \n",
       "2 -0.476329  0.499055  -0.005222 -0.185312        -0.005222   \n",
       "3 -1.252050  0.005244  -0.637788 -0.702802        -0.637788   \n",
       "4 -0.254694 -0.469201  -0.637788 -0.604508        -0.637788   \n",
       "\n",
       "   customer_value_total  \n",
       "0              0.210107  \n",
       "1              1.409799  \n",
       "2             -0.185312  \n",
       "3             -0.702802  \n",
       "4             -0.604508  "
      ]
     },
     "execution_count": 17,
     "metadata": {},
     "output_type": "execute_result"
    }
   ],
   "source": [
    "from sklearn.preprocessing import StandardScaler\n",
    "sc = StandardScaler()\n",
    "X = sc.fit_transform(df[num_cols])\n",
    "X = pd.DataFrame(X, columns=num_cols)\n",
    "X.head()"
   ]
  },
  {
   "cell_type": "markdown",
   "id": "667872f7",
   "metadata": {
    "papermill": {
     "duration": 0.01404,
     "end_time": "2022-12-25T10:06:35.235986",
     "exception": false,
     "start_time": "2022-12-25T10:06:35.221946",
     "status": "completed"
    },
    "tags": []
   },
   "source": [
    "# Step 2.2. Specifying Optimum Clustering Number"
   ]
  },
  {
   "cell_type": "code",
   "execution_count": 18,
   "id": "88909c3f",
   "metadata": {
    "execution": {
     "iopub.execute_input": "2022-12-25T10:06:35.266707Z",
     "iopub.status.busy": "2022-12-25T10:06:35.266277Z",
     "iopub.status.idle": "2022-12-25T10:07:04.302508Z",
     "shell.execute_reply": "2022-12-25T10:07:04.301034Z"
    },
    "papermill": {
     "duration": 29.054785,
     "end_time": "2022-12-25T10:07:04.305018",
     "exception": false,
     "start_time": "2022-12-25T10:06:35.250233",
     "status": "completed"
    },
    "tags": []
   },
   "outputs": [
    {
     "data": {
      "image/png": "[encoded data removed]",
      "text/plain": [
       "<Figure size 432x288 with 1 Axes>"
      ]
     },
     "metadata": {
      "needs_background": "light"
     },
     "output_type": "display_data"
    }
   ],
   "source": [
    "from sklearn.cluster import KMeans\n",
    "kmeans = KMeans()\n",
    "ssd = []\n",
    "K = range(1, 15)\n",
    "\n",
    "for k in K:\n",
    "    kmeans = KMeans(n_clusters=k).fit(X)\n",
    "    ssd.append(kmeans.inertia_)\n",
    "    \n",
    "plt.plot(K, ssd, \"bx-\")\n",
    "plt.xlabel(\"SSE/SSR/SSD for Different K Values\")\n",
    "plt.title(\"Elbow Method for Optimum clustering number\")\n",
    "plt.show()"
   ]
  },
  {
   "cell_type": "code",
   "execution_count": 19,
   "id": "acdff2fd",
   "metadata": {
    "execution": {
     "iopub.execute_input": "2022-12-25T10:07:04.337672Z",
     "iopub.status.busy": "2022-12-25T10:07:04.336269Z",
     "iopub.status.idle": "2022-12-25T10:07:04.341905Z",
     "shell.execute_reply": "2022-12-25T10:07:04.341099Z"
    },
    "papermill": {
     "duration": 0.024226,
     "end_time": "2022-12-25T10:07:04.344200",
     "exception": false,
     "start_time": "2022-12-25T10:07:04.319974",
     "status": "completed"
    },
    "tags": []
   },
   "outputs": [],
   "source": [
    "# pip install yellowbrick"
   ]
  },
  {
   "cell_type": "code",
   "execution_count": 20,
   "id": "a11d6b30",
   "metadata": {
    "execution": {
     "iopub.execute_input": "2022-12-25T10:07:04.375923Z",
     "iopub.status.busy": "2022-12-25T10:07:04.374822Z",
     "iopub.status.idle": "2022-12-25T10:07:48.278912Z",
     "shell.execute_reply": "2022-12-25T10:07:48.277522Z"
    },
    "papermill": {
     "duration": 43.93873,
     "end_time": "2022-12-25T10:07:48.297560",
     "exception": false,
     "start_time": "2022-12-25T10:07:04.358830",
     "status": "completed"
    },
    "tags": []
   },
   "outputs": [
    {
     "data": {
      "image/png": "[encoded data removed]",
      "text/plain": [
       "<Figure size 576x396 with 2 Axes>"
      ]
     },
     "metadata": {},
     "output_type": "display_data"
    },
    {
     "data": {
      "text/plain": [
       "<AxesSubplot:title={'center':'Distortion Score Elbow for KMeans Clustering'}, xlabel='k', ylabel='distortion score'>"
      ]
     },
     "execution_count": 20,
     "metadata": {},
     "output_type": "execute_result"
    }
   ],
   "source": [
    "from yellowbrick.cluster import KElbowVisualizer\n",
    "kmeans = KMeans()\n",
    "elbow = KElbowVisualizer(kmeans, k=(2, 20))\n",
    "elbow.fit(X)\n",
    "elbow.show(block=True)"
   ]
  },
  {
   "cell_type": "code",
   "execution_count": 21,
   "id": "a5a79792",
   "metadata": {
    "execution": {
     "iopub.execute_input": "2022-12-25T10:07:48.330486Z",
     "iopub.status.busy": "2022-12-25T10:07:48.330046Z",
     "iopub.status.idle": "2022-12-25T10:07:48.339571Z",
     "shell.execute_reply": "2022-12-25T10:07:48.338370Z"
    },
    "papermill": {
     "duration": 0.029127,
     "end_time": "2022-12-25T10:07:48.342138",
     "exception": false,
     "start_time": "2022-12-25T10:07:48.313011",
     "status": "completed"
    },
    "tags": []
   },
   "outputs": [
    {
     "data": {
      "text/plain": [
       "8"
      ]
     },
     "execution_count": 21,
     "metadata": {},
     "output_type": "execute_result"
    }
   ],
   "source": [
    "elbow.elbow_value_"
   ]
  },
  {
   "cell_type": "markdown",
   "id": "f3a1d236",
   "metadata": {
    "papermill": {
     "duration": 0.015739,
     "end_time": "2022-12-25T10:07:48.374125",
     "exception": false,
     "start_time": "2022-12-25T10:07:48.358386",
     "status": "completed"
    },
    "tags": []
   },
   "source": [
    "# Step 2.3. Modelling and Segmentation of Customers"
   ]
  },
  {
   "cell_type": "code",
   "execution_count": 22,
   "id": "d610604d",
   "metadata": {
    "execution": {
     "iopub.execute_input": "2022-12-25T10:07:48.408650Z",
     "iopub.status.busy": "2022-12-25T10:07:48.407236Z",
     "iopub.status.idle": "2022-12-25T10:07:50.619737Z",
     "shell.execute_reply": "2022-12-25T10:07:50.618619Z"
    },
    "papermill": {
     "duration": 2.232422,
     "end_time": "2022-12-25T10:07:50.622363",
     "exception": false,
     "start_time": "2022-12-25T10:07:48.389941",
     "status": "completed"
    },
    "tags": []
   },
   "outputs": [
    {
     "data": {
      "text/plain": [
       "array([[-0.14128145,  1.42426001,  1.71940976, -0.08952695, -0.04203676,\n",
       "        -0.29829641,  0.49361521,  0.49577523,  0.49361521,  0.49577523],\n",
       "       [ 0.06525193, -0.04261322, -0.06116596, -0.1233148 ,  2.27896708,\n",
       "         0.29127646,  0.03960305, -0.13526401,  0.03960305, -0.13526401],\n",
       "       [ 4.31081272,  0.29487665,  0.22495673,  3.46407825,  1.45929303,\n",
       "        -0.42157153,  3.96909779,  3.29687599,  3.96909779,  3.29687599],\n",
       "       [-0.27520623, -0.183983  , -0.19364266, -0.21968176, -0.4417766 ,\n",
       "        -0.64102259, -0.32522761, -0.26948457, -0.32522761, -0.26948457],\n",
       "       [-0.31208094, -0.19717109, -0.23167443, -0.25512885, -0.25071556,\n",
       "         1.16871776, -0.36381843, -0.31525299, -0.36381843, -0.31525299],\n",
       "       [ 0.04658278, 25.28712872, 18.67014342,  0.3528747 , -0.03952635,\n",
       "         0.07078788, 11.04035317,  6.6154248 , 11.04035317,  6.6154248 ],\n",
       "       [20.32618901, -0.16602674,  0.860791  , 32.33279837,  1.6305654 ,\n",
       "        -0.8910832 , 18.03796981, 30.3549695 , 18.03796981, 30.3549695 ],\n",
       "       [ 1.26427313, -0.04822518, -0.09431733,  1.09340649,  0.46206511,\n",
       "        -0.3363999 ,  1.10546343,  0.98495688,  1.10546343,  0.98495688]])"
      ]
     },
     "execution_count": 22,
     "metadata": {},
     "output_type": "execute_result"
    }
   ],
   "source": [
    "kmeans = KMeans(n_clusters=elbow.elbow_value_, init='k-means++', random_state=1).fit(X)\n",
    "kmeans.cluster_centers_ "
   ]
  },
  {
   "cell_type": "code",
   "execution_count": 23,
   "id": "74de5ddc",
   "metadata": {
    "execution": {
     "iopub.execute_input": "2022-12-25T10:07:50.658128Z",
     "iopub.status.busy": "2022-12-25T10:07:50.657711Z",
     "iopub.status.idle": "2022-12-25T10:07:50.665749Z",
     "shell.execute_reply": "2022-12-25T10:07:50.664349Z"
    },
    "papermill": {
     "duration": 0.028959,
     "end_time": "2022-12-25T10:07:50.669418",
     "exception": false,
     "start_time": "2022-12-25T10:07:50.640459",
     "status": "completed"
    },
    "tags": []
   },
   "outputs": [
    {
     "data": {
      "text/plain": [
       "{'algorithm': 'auto',\n",
       " 'copy_x': True,\n",
       " 'init': 'k-means++',\n",
       " 'max_iter': 300,\n",
       " 'n_clusters': 8,\n",
       " 'n_init': 10,\n",
       " 'random_state': 1,\n",
       " 'tol': 0.0001,\n",
       " 'verbose': 0}"
      ]
     },
     "execution_count": 23,
     "metadata": {},
     "output_type": "execute_result"
    }
   ],
   "source": [
    "kmeans.get_params()"
   ]
  },
  {
   "cell_type": "code",
   "execution_count": 24,
   "id": "bbd1c0c9",
   "metadata": {
    "execution": {
     "iopub.execute_input": "2022-12-25T10:07:50.703009Z",
     "iopub.status.busy": "2022-12-25T10:07:50.702607Z",
     "iopub.status.idle": "2022-12-25T10:07:50.721878Z",
     "shell.execute_reply": "2022-12-25T10:07:50.720529Z"
    },
    "papermill": {
     "duration": 0.039215,
     "end_time": "2022-12-25T10:07:50.724379",
     "exception": false,
     "start_time": "2022-12-25T10:07:50.685164",
     "status": "completed"
    },
    "tags": []
   },
   "outputs": [
    {
     "data": {
      "text/html": [
       "<div>\n",
       "<style scoped>\n",
       "    .dataframe tbody tr th:only-of-type {\n",
       "        vertical-align: middle;\n",
       "    }\n",
       "\n",
       "    .dataframe tbody tr th {\n",
       "        vertical-align: top;\n",
       "    }\n",
       "\n",
       "    .dataframe thead th {\n",
       "        text-align: right;\n",
       "    }\n",
       "</style>\n",
       "<table border=\"1\" class=\"dataframe\">\n",
       "  <thead>\n",
       "    <tr style=\"text-align: right;\">\n",
       "      <th></th>\n",
       "      <th>order_num_total_ever_online</th>\n",
       "      <th>order_num_total_ever_offline</th>\n",
       "      <th>customer_value_total_ever_offline</th>\n",
       "      <th>customer_value_total_ever_online</th>\n",
       "      <th>tenure</th>\n",
       "      <th>recency</th>\n",
       "      <th>frequency</th>\n",
       "      <th>monetary</th>\n",
       "      <th>order_num_total</th>\n",
       "      <th>customer_value_total</th>\n",
       "      <th>cluster</th>\n",
       "    </tr>\n",
       "  </thead>\n",
       "  <tbody>\n",
       "    <tr>\n",
       "      <th>0</th>\n",
       "      <td>0.210422</td>\n",
       "      <td>-0.443039</td>\n",
       "      <td>-0.377854</td>\n",
       "      <td>0.362797</td>\n",
       "      <td>-1.122127</td>\n",
       "      <td>-0.382058</td>\n",
       "      <td>-0.005222</td>\n",
       "      <td>0.210107</td>\n",
       "      <td>-0.005222</td>\n",
       "      <td>0.210107</td>\n",
       "      <td>3</td>\n",
       "    </tr>\n",
       "    <tr>\n",
       "      <th>1</th>\n",
       "      <td>3.760263</td>\n",
       "      <td>0.041732</td>\n",
       "      <td>-0.311591</td>\n",
       "      <td>1.628981</td>\n",
       "      <td>1.476349</td>\n",
       "      <td>-0.285232</td>\n",
       "      <td>3.368463</td>\n",
       "      <td>1.409799</td>\n",
       "      <td>3.368463</td>\n",
       "      <td>1.409799</td>\n",
       "      <td>2</td>\n",
       "    </tr>\n",
       "    <tr>\n",
       "      <th>2</th>\n",
       "      <td>-0.026234</td>\n",
       "      <td>0.041732</td>\n",
       "      <td>-0.212097</td>\n",
       "      <td>-0.122477</td>\n",
       "      <td>-0.476329</td>\n",
       "      <td>0.499055</td>\n",
       "      <td>-0.005222</td>\n",
       "      <td>-0.185312</td>\n",
       "      <td>-0.005222</td>\n",
       "      <td>-0.185312</td>\n",
       "      <td>4</td>\n",
       "    </tr>\n",
       "    <tr>\n",
       "      <th>3</th>\n",
       "      <td>-0.499547</td>\n",
       "      <td>-0.443039</td>\n",
       "      <td>-0.709501</td>\n",
       "      <td>-0.498860</td>\n",
       "      <td>-1.252050</td>\n",
       "      <td>0.005244</td>\n",
       "      <td>-0.637788</td>\n",
       "      <td>-0.702802</td>\n",
       "      <td>-0.637788</td>\n",
       "      <td>-0.702802</td>\n",
       "      <td>3</td>\n",
       "    </tr>\n",
       "    <tr>\n",
       "      <th>4</th>\n",
       "      <td>-0.499547</td>\n",
       "      <td>-0.443039</td>\n",
       "      <td>-0.676337</td>\n",
       "      <td>-0.405164</td>\n",
       "      <td>-0.254694</td>\n",
       "      <td>-0.469201</td>\n",
       "      <td>-0.637788</td>\n",
       "      <td>-0.604508</td>\n",
       "      <td>-0.637788</td>\n",
       "      <td>-0.604508</td>\n",
       "      <td>3</td>\n",
       "    </tr>\n",
       "  </tbody>\n",
       "</table>\n",
       "</div>"
      ],
      "text/plain": [
       "   order_num_total_ever_online  order_num_total_ever_offline  \\\n",
       "0                     0.210422                     -0.443039   \n",
       "1                     3.760263                      0.041732   \n",
       "2                    -0.026234                      0.041732   \n",
       "3                    -0.499547                     -0.443039   \n",
       "4                    -0.499547                     -0.443039   \n",
       "\n",
       "   customer_value_total_ever_offline  customer_value_total_ever_online  \\\n",
       "0                          -0.377854                          0.362797   \n",
       "1                          -0.311591                          1.628981   \n",
       "2                          -0.212097                         -0.122477   \n",
       "3                          -0.709501                         -0.498860   \n",
       "4                          -0.676337                         -0.405164   \n",
       "\n",
       "     tenure   recency  frequency  monetary  order_num_total  \\\n",
       "0 -1.122127 -0.382058  -0.005222  0.210107        -0.005222   \n",
       "1  1.476349 -0.285232   3.368463  1.409799         3.368463   \n",
       "2 -0.476329  0.499055  -0.005222 -0.185312        -0.005222   \n",
       "3 -1.252050  0.005244  -0.637788 -0.702802        -0.637788   \n",
       "4 -0.254694 -0.469201  -0.637788 -0.604508        -0.637788   \n",
       "\n",
       "   customer_value_total  cluster  \n",
       "0              0.210107        3  \n",
       "1              1.409799        2  \n",
       "2             -0.185312        4  \n",
       "3             -0.702802        3  \n",
       "4             -0.604508        3  "
      ]
     },
     "execution_count": 24,
     "metadata": {},
     "output_type": "execute_result"
    }
   ],
   "source": [
    "clusters_kmeans = kmeans.labels_\n",
    "X[\"cluster\"] = clusters_kmeans   \n",
    "X.head()"
   ]
  },
  {
   "cell_type": "code",
   "execution_count": 25,
   "id": "2357081d",
   "metadata": {
    "execution": {
     "iopub.execute_input": "2022-12-25T10:07:50.761346Z",
     "iopub.status.busy": "2022-12-25T10:07:50.760495Z",
     "iopub.status.idle": "2022-12-25T10:07:50.772180Z",
     "shell.execute_reply": "2022-12-25T10:07:50.770994Z"
    },
    "papermill": {
     "duration": 0.031681,
     "end_time": "2022-12-25T10:07:50.774490",
     "exception": false,
     "start_time": "2022-12-25T10:07:50.742809",
     "status": "completed"
    },
    "tags": []
   },
   "outputs": [
    {
     "data": {
      "text/plain": [
       "3    43.750313\n",
       "4    27.570820\n",
       "7     9.726749\n",
       "0     8.503384\n",
       "1     8.428177\n",
       "2     1.920281\n",
       "5     0.065179\n",
       "6     0.035097\n",
       "Name: cluster, dtype: float64"
      ]
     },
     "execution_count": 25,
     "metadata": {},
     "output_type": "execute_result"
    }
   ],
   "source": [
    "X[\"cluster\"].value_counts()            \n",
    "X[\"cluster\"].value_counts() / len(X) * 100"
   ]
  },
  {
   "cell_type": "markdown",
   "id": "5c913269",
   "metadata": {
    "papermill": {
     "duration": 0.015976,
     "end_time": "2022-12-25T10:07:50.807051",
     "exception": false,
     "start_time": "2022-12-25T10:07:50.791075",
     "status": "completed"
    },
    "tags": []
   },
   "source": [
    "# Step 2.4. Statistical Analysis of Each Segment"
   ]
  },
  {
   "cell_type": "code",
   "execution_count": 26,
   "id": "68b69a56",
   "metadata": {
    "execution": {
     "iopub.execute_input": "2022-12-25T10:07:50.841544Z",
     "iopub.status.busy": "2022-12-25T10:07:50.841112Z",
     "iopub.status.idle": "2022-12-25T10:07:50.909171Z",
     "shell.execute_reply": "2022-12-25T10:07:50.908071Z"
    },
    "papermill": {
     "duration": 0.088336,
     "end_time": "2022-12-25T10:07:50.911726",
     "exception": false,
     "start_time": "2022-12-25T10:07:50.823390",
     "status": "completed"
    },
    "tags": []
   },
   "outputs": [
    {
     "data": {
      "text/html": [
       "<div>\n",
       "<style scoped>\n",
       "    .dataframe tbody tr th:only-of-type {\n",
       "        vertical-align: middle;\n",
       "    }\n",
       "\n",
       "    .dataframe tbody tr th {\n",
       "        vertical-align: top;\n",
       "    }\n",
       "\n",
       "    .dataframe thead th {\n",
       "        text-align: right;\n",
       "    }\n",
       "</style>\n",
       "<table border=\"1\" class=\"dataframe\">\n",
       "  <thead>\n",
       "    <tr style=\"text-align: right;\">\n",
       "      <th></th>\n",
       "      <th>cluster</th>\n",
       "      <th>0</th>\n",
       "      <th>1</th>\n",
       "      <th>2</th>\n",
       "      <th>3</th>\n",
       "      <th>4</th>\n",
       "      <th>5</th>\n",
       "      <th>6</th>\n",
       "      <th>7</th>\n",
       "    </tr>\n",
       "  </thead>\n",
       "  <tbody>\n",
       "    <tr>\n",
       "      <th rowspan=\"4\" valign=\"top\">order_num_total_ever_online</th>\n",
       "      <th>mean</th>\n",
       "      <td>-0.141214</td>\n",
       "      <td>0.065556</td>\n",
       "      <td>4.310813</td>\n",
       "      <td>-0.275231</td>\n",
       "      <td>-0.311995</td>\n",
       "      <td>0.046583</td>\n",
       "      <td>20.326189</td>\n",
       "      <td>1.264273</td>\n",
       "    </tr>\n",
       "    <tr>\n",
       "      <th>median</th>\n",
       "      <td>-0.262891</td>\n",
       "      <td>-0.026234</td>\n",
       "      <td>3.996919</td>\n",
       "      <td>-0.499547</td>\n",
       "      <td>-0.499547</td>\n",
       "      <td>-0.262891</td>\n",
       "      <td>15.593067</td>\n",
       "      <td>1.157046</td>\n",
       "    </tr>\n",
       "    <tr>\n",
       "      <th>count</th>\n",
       "      <td>1696.000000</td>\n",
       "      <td>1681.000000</td>\n",
       "      <td>383.000000</td>\n",
       "      <td>8726.000000</td>\n",
       "      <td>5499.000000</td>\n",
       "      <td>13.000000</td>\n",
       "      <td>7.000000</td>\n",
       "      <td>1940.000000</td>\n",
       "    </tr>\n",
       "    <tr>\n",
       "      <th>std</th>\n",
       "      <td>0.393056</td>\n",
       "      <td>0.520256</td>\n",
       "      <td>2.008758</td>\n",
       "      <td>0.295065</td>\n",
       "      <td>0.275450</td>\n",
       "      <td>0.787183</td>\n",
       "      <td>14.238753</td>\n",
       "      <td>0.695785</td>\n",
       "    </tr>\n",
       "    <tr>\n",
       "      <th rowspan=\"4\" valign=\"top\">order_num_total_ever_offline</th>\n",
       "      <th>mean</th>\n",
       "      <td>1.423731</td>\n",
       "      <td>-0.043052</td>\n",
       "      <td>0.294877</td>\n",
       "      <td>-0.184153</td>\n",
       "      <td>-0.196818</td>\n",
       "      <td>25.287129</td>\n",
       "      <td>-0.166027</td>\n",
       "      <td>-0.048225</td>\n",
       "    </tr>\n",
       "    <tr>\n",
       "      <th>median</th>\n",
       "      <td>1.011275</td>\n",
       "      <td>-0.443039</td>\n",
       "      <td>0.041732</td>\n",
       "      <td>-0.443039</td>\n",
       "      <td>-0.443039</td>\n",
       "      <td>21.371668</td>\n",
       "      <td>-0.443039</td>\n",
       "      <td>-0.443039</td>\n",
       "    </tr>\n",
       "    <tr>\n",
       "      <th>count</th>\n",
       "      <td>1696.000000</td>\n",
       "      <td>1681.000000</td>\n",
       "      <td>383.000000</td>\n",
       "      <td>8726.000000</td>\n",
       "      <td>5499.000000</td>\n",
       "      <td>13.000000</td>\n",
       "      <td>7.000000</td>\n",
       "      <td>1940.000000</td>\n",
       "    </tr>\n",
       "    <tr>\n",
       "      <th>std</th>\n",
       "      <td>1.108158</td>\n",
       "      <td>0.537401</td>\n",
       "      <td>1.082721</td>\n",
       "      <td>0.370243</td>\n",
       "      <td>0.375024</td>\n",
       "      <td>13.404403</td>\n",
       "      <td>0.549679</td>\n",
       "      <td>0.509182</td>\n",
       "    </tr>\n",
       "    <tr>\n",
       "      <th rowspan=\"4\" valign=\"top\">customer_value_total_ever_offline</th>\n",
       "      <th>mean</th>\n",
       "      <td>1.718705</td>\n",
       "      <td>-0.060912</td>\n",
       "      <td>0.224957</td>\n",
       "      <td>-0.193833</td>\n",
       "      <td>-0.231507</td>\n",
       "      <td>18.670143</td>\n",
       "      <td>0.860791</td>\n",
       "      <td>-0.094317</td>\n",
       "    </tr>\n",
       "    <tr>\n",
       "      <th>median</th>\n",
       "      <td>1.409475</td>\n",
       "      <td>-0.212031</td>\n",
       "      <td>-0.209610</td>\n",
       "      <td>-0.311525</td>\n",
       "      <td>-0.344723</td>\n",
       "      <td>12.415633</td>\n",
       "      <td>0.945252</td>\n",
       "      <td>-0.244383</td>\n",
       "    </tr>\n",
       "    <tr>\n",
       "      <th>count</th>\n",
       "      <td>1696.000000</td>\n",
       "      <td>1681.000000</td>\n",
       "      <td>383.000000</td>\n",
       "      <td>8726.000000</td>\n",
       "      <td>5499.000000</td>\n",
       "      <td>13.000000</td>\n",
       "      <td>7.000000</td>\n",
       "      <td>1940.000000</td>\n",
       "    </tr>\n",
       "    <tr>\n",
       "      <th>std</th>\n",
       "      <td>1.259153</td>\n",
       "      <td>0.582982</td>\n",
       "      <td>1.264995</td>\n",
       "      <td>0.437557</td>\n",
       "      <td>0.434230</td>\n",
       "      <td>14.433813</td>\n",
       "      <td>1.513316</td>\n",
       "      <td>0.575630</td>\n",
       "    </tr>\n",
       "    <tr>\n",
       "      <th rowspan=\"4\" valign=\"top\">customer_value_total_ever_online</th>\n",
       "      <th>mean</th>\n",
       "      <td>-0.089342</td>\n",
       "      <td>-0.123157</td>\n",
       "      <td>3.464078</td>\n",
       "      <td>-0.219735</td>\n",
       "      <td>-0.255121</td>\n",
       "      <td>0.352875</td>\n",
       "      <td>32.332798</td>\n",
       "      <td>1.093406</td>\n",
       "    </tr>\n",
       "    <tr>\n",
       "      <th>median</th>\n",
       "      <td>-0.203009</td>\n",
       "      <td>-0.192620</td>\n",
       "      <td>2.954954</td>\n",
       "      <td>-0.304423</td>\n",
       "      <td>-0.336234</td>\n",
       "      <td>-0.305690</td>\n",
       "      <td>36.262115</td>\n",
       "      <td>0.964216</td>\n",
       "    </tr>\n",
       "    <tr>\n",
       "      <th>count</th>\n",
       "      <td>1696.000000</td>\n",
       "      <td>1681.000000</td>\n",
       "      <td>383.000000</td>\n",
       "      <td>8726.000000</td>\n",
       "      <td>5499.000000</td>\n",
       "      <td>13.000000</td>\n",
       "      <td>7.000000</td>\n",
       "      <td>1940.000000</td>\n",
       "    </tr>\n",
       "    <tr>\n",
       "      <th>std</th>\n",
       "      <td>0.381814</td>\n",
       "      <td>0.346559</td>\n",
       "      <td>1.809355</td>\n",
       "      <td>0.285365</td>\n",
       "      <td>0.269698</td>\n",
       "      <td>1.322773</td>\n",
       "      <td>14.545352</td>\n",
       "      <td>0.638985</td>\n",
       "    </tr>\n",
       "    <tr>\n",
       "      <th rowspan=\"4\" valign=\"top\">tenure</th>\n",
       "      <th>mean</th>\n",
       "      <td>-0.042527</td>\n",
       "      <td>2.281095</td>\n",
       "      <td>1.459293</td>\n",
       "      <td>-0.441555</td>\n",
       "      <td>-0.250154</td>\n",
       "      <td>-0.039526</td>\n",
       "      <td>1.630565</td>\n",
       "      <td>0.462065</td>\n",
       "    </tr>\n",
       "    <tr>\n",
       "      <th>median</th>\n",
       "      <td>-0.182090</td>\n",
       "      <td>2.261624</td>\n",
       "      <td>1.430494</td>\n",
       "      <td>-0.424742</td>\n",
       "      <td>-0.321567</td>\n",
       "      <td>0.056741</td>\n",
       "      <td>1.302481</td>\n",
       "      <td>0.099730</td>\n",
       "    </tr>\n",
       "    <tr>\n",
       "      <th>count</th>\n",
       "      <td>1696.000000</td>\n",
       "      <td>1681.000000</td>\n",
       "      <td>383.000000</td>\n",
       "      <td>8726.000000</td>\n",
       "      <td>5499.000000</td>\n",
       "      <td>13.000000</td>\n",
       "      <td>7.000000</td>\n",
       "      <td>1940.000000</td>\n",
       "    </tr>\n",
       "    <tr>\n",
       "      <th>std</th>\n",
       "      <td>0.654283</td>\n",
       "      <td>0.823896</td>\n",
       "      <td>1.337509</td>\n",
       "      <td>0.473649</td>\n",
       "      <td>0.461704</td>\n",
       "      <td>0.534017</td>\n",
       "      <td>2.274596</td>\n",
       "      <td>1.062249</td>\n",
       "    </tr>\n",
       "    <tr>\n",
       "      <th rowspan=\"4\" valign=\"top\">recency</th>\n",
       "      <th>mean</th>\n",
       "      <td>-0.298100</td>\n",
       "      <td>0.290024</td>\n",
       "      <td>-0.421572</td>\n",
       "      <td>-0.640830</td>\n",
       "      <td>1.169181</td>\n",
       "      <td>0.070788</td>\n",
       "      <td>-0.891083</td>\n",
       "      <td>-0.336400</td>\n",
       "    </tr>\n",
       "    <tr>\n",
       "      <th>median</th>\n",
       "      <td>-0.498248</td>\n",
       "      <td>0.179530</td>\n",
       "      <td>-0.720947</td>\n",
       "      <td>-0.701582</td>\n",
       "      <td>1.070325</td>\n",
       "      <td>-0.488566</td>\n",
       "      <td>-0.992058</td>\n",
       "      <td>-0.575709</td>\n",
       "    </tr>\n",
       "    <tr>\n",
       "      <th>count</th>\n",
       "      <td>1696.000000</td>\n",
       "      <td>1681.000000</td>\n",
       "      <td>383.000000</td>\n",
       "      <td>8726.000000</td>\n",
       "      <td>5499.000000</td>\n",
       "      <td>13.000000</td>\n",
       "      <td>7.000000</td>\n",
       "      <td>1940.000000</td>\n",
       "    </tr>\n",
       "    <tr>\n",
       "      <th>std</th>\n",
       "      <td>0.806003</td>\n",
       "      <td>0.993876</td>\n",
       "      <td>0.825619</td>\n",
       "      <td>0.449173</td>\n",
       "      <td>0.615104</td>\n",
       "      <td>1.071663</td>\n",
       "      <td>0.267448</td>\n",
       "      <td>0.844676</td>\n",
       "    </tr>\n",
       "    <tr>\n",
       "      <th rowspan=\"4\" valign=\"top\">frequency</th>\n",
       "      <th>mean</th>\n",
       "      <td>0.493445</td>\n",
       "      <td>0.039683</td>\n",
       "      <td>3.969098</td>\n",
       "      <td>-0.325323</td>\n",
       "      <td>-0.363588</td>\n",
       "      <td>11.040353</td>\n",
       "      <td>18.037970</td>\n",
       "      <td>1.105463</td>\n",
       "    </tr>\n",
       "    <tr>\n",
       "      <th>median</th>\n",
       "      <td>0.416488</td>\n",
       "      <td>-0.005222</td>\n",
       "      <td>3.579318</td>\n",
       "      <td>-0.426933</td>\n",
       "      <td>-0.426933</td>\n",
       "      <td>9.272412</td>\n",
       "      <td>13.700374</td>\n",
       "      <td>1.049054</td>\n",
       "    </tr>\n",
       "    <tr>\n",
       "      <th>count</th>\n",
       "      <td>1696.000000</td>\n",
       "      <td>1681.000000</td>\n",
       "      <td>383.000000</td>\n",
       "      <td>8726.000000</td>\n",
       "      <td>5499.000000</td>\n",
       "      <td>13.000000</td>\n",
       "      <td>7.000000</td>\n",
       "      <td>1940.000000</td>\n",
       "    </tr>\n",
       "    <tr>\n",
       "      <th>std</th>\n",
       "      <td>0.589289</td>\n",
       "      <td>0.491110</td>\n",
       "      <td>1.797578</td>\n",
       "      <td>0.293098</td>\n",
       "      <td>0.287476</td>\n",
       "      <td>5.694746</td>\n",
       "      <td>12.713170</td>\n",
       "      <td>0.650846</td>\n",
       "    </tr>\n",
       "    <tr>\n",
       "      <th rowspan=\"4\" valign=\"top\">monetary</th>\n",
       "      <th>mean</th>\n",
       "      <td>0.495710</td>\n",
       "      <td>-0.135032</td>\n",
       "      <td>3.296876</td>\n",
       "      <td>-0.269598</td>\n",
       "      <td>-0.315189</td>\n",
       "      <td>6.615425</td>\n",
       "      <td>30.354969</td>\n",
       "      <td>0.984957</td>\n",
       "    </tr>\n",
       "    <tr>\n",
       "      <th>median</th>\n",
       "      <td>0.379471</td>\n",
       "      <td>-0.168269</td>\n",
       "      <td>2.860368</td>\n",
       "      <td>-0.325788</td>\n",
       "      <td>-0.371635</td>\n",
       "      <td>4.302103</td>\n",
       "      <td>34.037141</td>\n",
       "      <td>0.871480</td>\n",
       "    </tr>\n",
       "    <tr>\n",
       "      <th>count</th>\n",
       "      <td>1696.000000</td>\n",
       "      <td>1681.000000</td>\n",
       "      <td>383.000000</td>\n",
       "      <td>8726.000000</td>\n",
       "      <td>5499.000000</td>\n",
       "      <td>13.000000</td>\n",
       "      <td>7.000000</td>\n",
       "      <td>1940.000000</td>\n",
       "    </tr>\n",
       "    <tr>\n",
       "      <th>std</th>\n",
       "      <td>0.552945</td>\n",
       "      <td>0.342119</td>\n",
       "      <td>1.670891</td>\n",
       "      <td>0.295907</td>\n",
       "      <td>0.289146</td>\n",
       "      <td>5.406099</td>\n",
       "      <td>13.715929</td>\n",
       "      <td>0.629612</td>\n",
       "    </tr>\n",
       "    <tr>\n",
       "      <th rowspan=\"4\" valign=\"top\">order_num_total</th>\n",
       "      <th>mean</th>\n",
       "      <td>0.493445</td>\n",
       "      <td>0.039683</td>\n",
       "      <td>3.969098</td>\n",
       "      <td>-0.325323</td>\n",
       "      <td>-0.363588</td>\n",
       "      <td>11.040353</td>\n",
       "      <td>18.037970</td>\n",
       "      <td>1.105463</td>\n",
       "    </tr>\n",
       "    <tr>\n",
       "      <th>median</th>\n",
       "      <td>0.416488</td>\n",
       "      <td>-0.005222</td>\n",
       "      <td>3.579318</td>\n",
       "      <td>-0.426933</td>\n",
       "      <td>-0.426933</td>\n",
       "      <td>9.272412</td>\n",
       "      <td>13.700374</td>\n",
       "      <td>1.049054</td>\n",
       "    </tr>\n",
       "    <tr>\n",
       "      <th>count</th>\n",
       "      <td>1696.000000</td>\n",
       "      <td>1681.000000</td>\n",
       "      <td>383.000000</td>\n",
       "      <td>8726.000000</td>\n",
       "      <td>5499.000000</td>\n",
       "      <td>13.000000</td>\n",
       "      <td>7.000000</td>\n",
       "      <td>1940.000000</td>\n",
       "    </tr>\n",
       "    <tr>\n",
       "      <th>std</th>\n",
       "      <td>0.589289</td>\n",
       "      <td>0.491110</td>\n",
       "      <td>1.797578</td>\n",
       "      <td>0.293098</td>\n",
       "      <td>0.287476</td>\n",
       "      <td>5.694746</td>\n",
       "      <td>12.713170</td>\n",
       "      <td>0.650846</td>\n",
       "    </tr>\n",
       "    <tr>\n",
       "      <th rowspan=\"4\" valign=\"top\">customer_value_total</th>\n",
       "      <th>mean</th>\n",
       "      <td>0.495710</td>\n",
       "      <td>-0.135032</td>\n",
       "      <td>3.296876</td>\n",
       "      <td>-0.269598</td>\n",
       "      <td>-0.315189</td>\n",
       "      <td>6.615425</td>\n",
       "      <td>30.354969</td>\n",
       "      <td>0.984957</td>\n",
       "    </tr>\n",
       "    <tr>\n",
       "      <th>median</th>\n",
       "      <td>0.379471</td>\n",
       "      <td>-0.168269</td>\n",
       "      <td>2.860368</td>\n",
       "      <td>-0.325788</td>\n",
       "      <td>-0.371635</td>\n",
       "      <td>4.302103</td>\n",
       "      <td>34.037141</td>\n",
       "      <td>0.871480</td>\n",
       "    </tr>\n",
       "    <tr>\n",
       "      <th>count</th>\n",
       "      <td>1696.000000</td>\n",
       "      <td>1681.000000</td>\n",
       "      <td>383.000000</td>\n",
       "      <td>8726.000000</td>\n",
       "      <td>5499.000000</td>\n",
       "      <td>13.000000</td>\n",
       "      <td>7.000000</td>\n",
       "      <td>1940.000000</td>\n",
       "    </tr>\n",
       "    <tr>\n",
       "      <th>std</th>\n",
       "      <td>0.552945</td>\n",
       "      <td>0.342119</td>\n",
       "      <td>1.670891</td>\n",
       "      <td>0.295907</td>\n",
       "      <td>0.289146</td>\n",
       "      <td>5.406099</td>\n",
       "      <td>13.715929</td>\n",
       "      <td>0.629612</td>\n",
       "    </tr>\n",
       "  </tbody>\n",
       "</table>\n",
       "</div>"
      ],
      "text/plain": [
       "cluster                                             0            1  \\\n",
       "order_num_total_ever_online       mean      -0.141214     0.065556   \n",
       "                                  median    -0.262891    -0.026234   \n",
       "                                  count   1696.000000  1681.000000   \n",
       "                                  std        0.393056     0.520256   \n",
       "order_num_total_ever_offline      mean       1.423731    -0.043052   \n",
       "                                  median     1.011275    -0.443039   \n",
       "                                  count   1696.000000  1681.000000   \n",
       "                                  std        1.108158     0.537401   \n",
       "customer_value_total_ever_offline mean       1.718705    -0.060912   \n",
       "                                  median     1.409475    -0.212031   \n",
       "                                  count   1696.000000  1681.000000   \n",
       "                                  std        1.259153     0.582982   \n",
       "customer_value_total_ever_online  mean      -0.089342    -0.123157   \n",
       "                                  median    -0.203009    -0.192620   \n",
       "                                  count   1696.000000  1681.000000   \n",
       "                                  std        0.381814     0.346559   \n",
       "tenure                            mean      -0.042527     2.281095   \n",
       "                                  median    -0.182090     2.261624   \n",
       "                                  count   1696.000000  1681.000000   \n",
       "                                  std        0.654283     0.823896   \n",
       "recency                           mean      -0.298100     0.290024   \n",
       "                                  median    -0.498248     0.179530   \n",
       "                                  count   1696.000000  1681.000000   \n",
       "                                  std        0.806003     0.993876   \n",
       "frequency                         mean       0.493445     0.039683   \n",
       "                                  median     0.416488    -0.005222   \n",
       "                                  count   1696.000000  1681.000000   \n",
       "                                  std        0.589289     0.491110   \n",
       "monetary                          mean       0.495710    -0.135032   \n",
       "                                  median     0.379471    -0.168269   \n",
       "                                  count   1696.000000  1681.000000   \n",
       "                                  std        0.552945     0.342119   \n",
       "order_num_total                   mean       0.493445     0.039683   \n",
       "                                  median     0.416488    -0.005222   \n",
       "                                  count   1696.000000  1681.000000   \n",
       "                                  std        0.589289     0.491110   \n",
       "customer_value_total              mean       0.495710    -0.135032   \n",
       "                                  median     0.379471    -0.168269   \n",
       "                                  count   1696.000000  1681.000000   \n",
       "                                  std        0.552945     0.342119   \n",
       "\n",
       "cluster                                            2            3  \\\n",
       "order_num_total_ever_online       mean      4.310813    -0.275231   \n",
       "                                  median    3.996919    -0.499547   \n",
       "                                  count   383.000000  8726.000000   \n",
       "                                  std       2.008758     0.295065   \n",
       "order_num_total_ever_offline      mean      0.294877    -0.184153   \n",
       "                                  median    0.041732    -0.443039   \n",
       "                                  count   383.000000  8726.000000   \n",
       "                                  std       1.082721     0.370243   \n",
       "customer_value_total_ever_offline mean      0.224957    -0.193833   \n",
       "                                  median   -0.209610    -0.311525   \n",
       "                                  count   383.000000  8726.000000   \n",
       "                                  std       1.264995     0.437557   \n",
       "customer_value_total_ever_online  mean      3.464078    -0.219735   \n",
       "                                  median    2.954954    -0.304423   \n",
       "                                  count   383.000000  8726.000000   \n",
       "                                  std       1.809355     0.285365   \n",
       "tenure                            mean      1.459293    -0.441555   \n",
       "                                  median    1.430494    -0.424742   \n",
       "                                  count   383.000000  8726.000000   \n",
       "                                  std       1.337509     0.473649   \n",
       "recency                           mean     -0.421572    -0.640830   \n",
       "                                  median   -0.720947    -0.701582   \n",
       "                                  count   383.000000  8726.000000   \n",
       "                                  std       0.825619     0.449173   \n",
       "frequency                         mean      3.969098    -0.325323   \n",
       "                                  median    3.579318    -0.426933   \n",
       "                                  count   383.000000  8726.000000   \n",
       "                                  std       1.797578     0.293098   \n",
       "monetary                          mean      3.296876    -0.269598   \n",
       "                                  median    2.860368    -0.325788   \n",
       "                                  count   383.000000  8726.000000   \n",
       "                                  std       1.670891     0.295907   \n",
       "order_num_total                   mean      3.969098    -0.325323   \n",
       "                                  median    3.579318    -0.426933   \n",
       "                                  count   383.000000  8726.000000   \n",
       "                                  std       1.797578     0.293098   \n",
       "customer_value_total              mean      3.296876    -0.269598   \n",
       "                                  median    2.860368    -0.325788   \n",
       "                                  count   383.000000  8726.000000   \n",
       "                                  std       1.670891     0.295907   \n",
       "\n",
       "cluster                                             4          5          6  \\\n",
       "order_num_total_ever_online       mean      -0.311995   0.046583  20.326189   \n",
       "                                  median    -0.499547  -0.262891  15.593067   \n",
       "                                  count   5499.000000  13.000000   7.000000   \n",
       "                                  std        0.275450   0.787183  14.238753   \n",
       "order_num_total_ever_offline      mean      -0.196818  25.287129  -0.166027   \n",
       "                                  median    -0.443039  21.371668  -0.443039   \n",
       "                                  count   5499.000000  13.000000   7.000000   \n",
       "                                  std        0.375024  13.404403   0.549679   \n",
       "customer_value_total_ever_offline mean      -0.231507  18.670143   0.860791   \n",
       "                                  median    -0.344723  12.415633   0.945252   \n",
       "                                  count   5499.000000  13.000000   7.000000   \n",
       "                                  std        0.434230  14.433813   1.513316   \n",
       "customer_value_total_ever_online  mean      -0.255121   0.352875  32.332798   \n",
       "                                  median    -0.336234  -0.305690  36.262115   \n",
       "                                  count   5499.000000  13.000000   7.000000   \n",
       "                                  std        0.269698   1.322773  14.545352   \n",
       "tenure                            mean      -0.250154  -0.039526   1.630565   \n",
       "                                  median    -0.321567   0.056741   1.302481   \n",
       "                                  count   5499.000000  13.000000   7.000000   \n",
       "                                  std        0.461704   0.534017   2.274596   \n",
       "recency                           mean       1.169181   0.070788  -0.891083   \n",
       "                                  median     1.070325  -0.488566  -0.992058   \n",
       "                                  count   5499.000000  13.000000   7.000000   \n",
       "                                  std        0.615104   1.071663   0.267448   \n",
       "frequency                         mean      -0.363588  11.040353  18.037970   \n",
       "                                  median    -0.426933   9.272412  13.700374   \n",
       "                                  count   5499.000000  13.000000   7.000000   \n",
       "                                  std        0.287476   5.694746  12.713170   \n",
       "monetary                          mean      -0.315189   6.615425  30.354969   \n",
       "                                  median    -0.371635   4.302103  34.037141   \n",
       "                                  count   5499.000000  13.000000   7.000000   \n",
       "                                  std        0.289146   5.406099  13.715929   \n",
       "order_num_total                   mean      -0.363588  11.040353  18.037970   \n",
       "                                  median    -0.426933   9.272412  13.700374   \n",
       "                                  count   5499.000000  13.000000   7.000000   \n",
       "                                  std        0.287476   5.694746  12.713170   \n",
       "customer_value_total              mean      -0.315189   6.615425  30.354969   \n",
       "                                  median    -0.371635   4.302103  34.037141   \n",
       "                                  count   5499.000000  13.000000   7.000000   \n",
       "                                  std        0.289146   5.406099  13.715929   \n",
       "\n",
       "cluster                                             7  \n",
       "order_num_total_ever_online       mean       1.264273  \n",
       "                                  median     1.157046  \n",
       "                                  count   1940.000000  \n",
       "                                  std        0.695785  \n",
       "order_num_total_ever_offline      mean      -0.048225  \n",
       "                                  median    -0.443039  \n",
       "                                  count   1940.000000  \n",
       "                                  std        0.509182  \n",
       "customer_value_total_ever_offline mean      -0.094317  \n",
       "                                  median    -0.244383  \n",
       "                                  count   1940.000000  \n",
       "                                  std        0.575630  \n",
       "customer_value_total_ever_online  mean       1.093406  \n",
       "                                  median     0.964216  \n",
       "                                  count   1940.000000  \n",
       "                                  std        0.638985  \n",
       "tenure                            mean       0.462065  \n",
       "                                  median     0.099730  \n",
       "                                  count   1940.000000  \n",
       "                                  std        1.062249  \n",
       "recency                           mean      -0.336400  \n",
       "                                  median    -0.575709  \n",
       "                                  count   1940.000000  \n",
       "                                  std        0.844676  \n",
       "frequency                         mean       1.105463  \n",
       "                                  median     1.049054  \n",
       "                                  count   1940.000000  \n",
       "                                  std        0.650846  \n",
       "monetary                          mean       0.984957  \n",
       "                                  median     0.871480  \n",
       "                                  count   1940.000000  \n",
       "                                  std        0.629612  \n",
       "order_num_total                   mean       1.105463  \n",
       "                                  median     1.049054  \n",
       "                                  count   1940.000000  \n",
       "                                  std        0.650846  \n",
       "customer_value_total              mean       0.984957  \n",
       "                                  median     0.871480  \n",
       "                                  count   1940.000000  \n",
       "                                  std        0.629612  "
      ]
     },
     "execution_count": 26,
     "metadata": {},
     "output_type": "execute_result"
    }
   ],
   "source": [
    "X.groupby('cluster').agg(['mean', 'median', 'count', 'std']).T"
   ]
  },
  {
   "cell_type": "code",
   "execution_count": 27,
   "id": "dc1dec39",
   "metadata": {
    "execution": {
     "iopub.execute_input": "2022-12-25T10:07:50.948084Z",
     "iopub.status.busy": "2022-12-25T10:07:50.947666Z",
     "iopub.status.idle": "2022-12-25T10:07:51.179722Z",
     "shell.execute_reply": "2022-12-25T10:07:51.178531Z"
    },
    "papermill": {
     "duration": 0.253134,
     "end_time": "2022-12-25T10:07:51.182205",
     "exception": false,
     "start_time": "2022-12-25T10:07:50.929071",
     "status": "completed"
    },
    "tags": []
   },
   "outputs": [
    {
     "data": {
      "image/png": "[encoded data removed]",
      "text/plain": [
       "<Figure size 576x396 with 1 Axes>"
      ]
     },
     "metadata": {},
     "output_type": "display_data"
    }
   ],
   "source": [
    "sns.countplot(x='cluster', data=X)\n",
    "plt.show()"
   ]
  },
  {
   "cell_type": "code",
   "execution_count": 28,
   "id": "2e43f025",
   "metadata": {
    "execution": {
     "iopub.execute_input": "2022-12-25T10:07:51.220288Z",
     "iopub.status.busy": "2022-12-25T10:07:51.219860Z",
     "iopub.status.idle": "2022-12-25T10:07:57.949548Z",
     "shell.execute_reply": "2022-12-25T10:07:57.948035Z"
    },
    "papermill": {
     "duration": 6.752421,
     "end_time": "2022-12-25T10:07:57.952694",
     "exception": false,
     "start_time": "2022-12-25T10:07:51.200273",
     "status": "completed"
    },
    "tags": []
   },
   "outputs": [
    {
     "data": {
      "image/png": "[encoded data removed]",
      "text/plain": [
       "<Figure size 576x396 with 1 Axes>"
      ]
     },
     "metadata": {},
     "output_type": "display_data"
    },
    {
     "data": {
      "image/png": "[encoded data removed]",
      "text/plain": [
       "<Figure size 576x396 with 1 Axes>"
      ]
     },
     "metadata": {},
     "output_type": "display_data"
    },
    {
     "data": {
      "image/png": "[encoded data removed]",
      "text/plain": [
       "<Figure size 576x396 with 1 Axes>"
      ]
     },
     "metadata": {},
     "output_type": "display_data"
    },
    {
     "data": {
      "image/png": "[encoded data removed]",
      "text/plain": [
       "<Figure size 576x396 with 1 Axes>"
      ]
     },
     "metadata": {},
     "output_type": "display_data"
    },
    {
     "data": {
      "image/png": "[encoded data removed]",
      "text/plain": [
       "<Figure size 576x396 with 1 Axes>"
      ]
     },
     "metadata": {},
     "output_type": "display_data"
    },
    {
     "data": {
      "image/png": "[encoded data removed]",
      "text/plain": [
       "<Figure size 576x396 with 1 Axes>"
      ]
     },
     "metadata": {},
     "output_type": "display_data"
    },
    {
     "data": {
      "image/png": "[encoded data removed]",
      "text/plain": [
       "<Figure size 576x396 with 1 Axes>"
      ]
     },
     "metadata": {},
     "output_type": "display_data"
    },
    {
     "data": {
      "image/png": "[encoded data removed]",
      "text/plain": [
       "<Figure size 576x396 with 1 Axes>"
      ]
     },
     "metadata": {},
     "output_type": "display_data"
    },
    {
     "data": {
      "image/png": "[encoded data removed]",
      "text/plain": [
       "<Figure size 576x396 with 1 Axes>"
      ]
     },
     "metadata": {},
     "output_type": "display_data"
    },
    {
     "data": {
      "image/png": "[encoded data removed]",
      "text/plain": [
       "<Figure size 576x396 with 1 Axes>"
      ]
     },
     "metadata": {},
     "output_type": "display_data"
    }
   ],
   "source": [
    "for i in num_cols:\n",
    "    sns.barplot(x='cluster', y=i, data=X)\n",
    "    plt.show()"
   ]
  },
  {
   "cell_type": "markdown",
   "id": "97a9e5f1",
   "metadata": {
    "papermill": {
     "duration": 0.021451,
     "end_time": "2022-12-25T10:07:57.996416",
     "exception": false,
     "start_time": "2022-12-25T10:07:57.974965",
     "status": "completed"
    },
    "tags": []
   },
   "source": [
    "# TASK 3. Customer Segmentation with Hiearchical Clustering "
   ]
  },
  {
   "cell_type": "markdown",
   "id": "cb51705e",
   "metadata": {
    "papermill": {
     "duration": 0.020655,
     "end_time": "2022-12-25T10:07:58.038033",
     "exception": false,
     "start_time": "2022-12-25T10:07:58.017378",
     "status": "completed"
    },
    "tags": []
   },
   "source": [
    "# Step 3.1. Specifying Optimum Clustering Number by Using Standardized DataFrame in Task 2"
   ]
  },
  {
   "cell_type": "code",
   "execution_count": 29,
   "id": "286241bc",
   "metadata": {
    "execution": {
     "iopub.execute_input": "2022-12-25T10:07:58.081009Z",
     "iopub.status.busy": "2022-12-25T10:07:58.080584Z",
     "iopub.status.idle": "2022-12-25T10:09:29.324040Z",
     "shell.execute_reply": "2022-12-25T10:09:29.322699Z"
    },
    "papermill": {
     "duration": 91.267953,
     "end_time": "2022-12-25T10:09:29.326800",
     "exception": false,
     "start_time": "2022-12-25T10:07:58.058847",
     "status": "completed"
    },
    "tags": []
   },
   "outputs": [],
   "source": [
    "from scipy.cluster.hierarchy import linkage, dendrogram\n",
    "\n",
    "hc_average = linkage(X, \"average\")  \n",
    "hc_ward = linkage(X, \"ward\")  \n",
    "hc_complete = linkage(X, \"complete\") \n",
    "hc_single = linkage(X, \"single\")  \n",
    "hc_centroid = linkage(X, \"centroid\")"
   ]
  },
  {
   "cell_type": "code",
   "execution_count": 30,
   "id": "2e9f0b69",
   "metadata": {
    "execution": {
     "iopub.execute_input": "2022-12-25T10:09:29.368899Z",
     "iopub.status.busy": "2022-12-25T10:09:29.368454Z",
     "iopub.status.idle": "2022-12-25T10:09:29.374549Z",
     "shell.execute_reply": "2022-12-25T10:09:29.373386Z"
    },
    "papermill": {
     "duration": 0.030092,
     "end_time": "2022-12-25T10:09:29.377079",
     "exception": false,
     "start_time": "2022-12-25T10:09:29.346987",
     "status": "completed"
    },
    "tags": []
   },
   "outputs": [],
   "source": [
    "def plot_hc(hc_type):\n",
    "    plt.figure(figsize=(7, 5))\n",
    "    plt.title(\"Hierarchical Clustering Dendrogram\")\n",
    "    plt.xlabel(\"Observation Units\")\n",
    "    plt.ylabel(\"Distances\")\n",
    "    dendrogram(hc_type,\n",
    "               truncate_mode=\"lastp\",\n",
    "               p=10,\n",
    "               show_contracted=True,\n",
    "               leaf_font_size=10)\n",
    "    plt.show()"
   ]
  },
  {
   "cell_type": "code",
   "execution_count": 31,
   "id": "dbbb0d88",
   "metadata": {
    "execution": {
     "iopub.execute_input": "2022-12-25T10:09:29.419368Z",
     "iopub.status.busy": "2022-12-25T10:09:29.418190Z",
     "iopub.status.idle": "2022-12-25T10:10:45.521540Z",
     "shell.execute_reply": "2022-12-25T10:10:45.520177Z"
    },
    "papermill": {
     "duration": 76.147621,
     "end_time": "2022-12-25T10:10:45.544503",
     "exception": false,
     "start_time": "2022-12-25T10:09:29.396882",
     "status": "completed"
    },
    "tags": []
   },
   "outputs": [
    {
     "data": {
      "image/png": "[encoded data removed]",
      "text/plain": [
       "<Figure size 504x360 with 1 Axes>"
      ]
     },
     "metadata": {},
     "output_type": "display_data"
    }
   ],
   "source": [
    "plot_hc(hc_average)"
   ]
  },
  {
   "cell_type": "code",
   "execution_count": 32,
   "id": "021b56c5",
   "metadata": {
    "execution": {
     "iopub.execute_input": "2022-12-25T10:10:45.587749Z",
     "iopub.status.busy": "2022-12-25T10:10:45.587328Z",
     "iopub.status.idle": "2022-12-25T10:12:02.520220Z",
     "shell.execute_reply": "2022-12-25T10:12:02.518677Z"
    },
    "papermill": {
     "duration": 76.96337,
     "end_time": "2022-12-25T10:12:02.528557",
     "exception": false,
     "start_time": "2022-12-25T10:10:45.565187",
     "status": "completed"
    },
    "tags": []
   },
   "outputs": [
    {
     "data": {
      "image/png": "[encoded data removed]",
      "text/plain": [
       "<Figure size 504x360 with 1 Axes>"
      ]
     },
     "metadata": {},
     "output_type": "display_data"
    }
   ],
   "source": [
    "plot_hc(hc_ward)"
   ]
  },
  {
   "cell_type": "code",
   "execution_count": 33,
   "id": "b87c5113",
   "metadata": {
    "execution": {
     "iopub.execute_input": "2022-12-25T10:12:02.572755Z",
     "iopub.status.busy": "2022-12-25T10:12:02.572335Z",
     "iopub.status.idle": "2022-12-25T10:13:18.962763Z",
     "shell.execute_reply": "2022-12-25T10:13:18.961436Z"
    },
    "papermill": {
     "duration": 76.435209,
     "end_time": "2022-12-25T10:13:18.984631",
     "exception": false,
     "start_time": "2022-12-25T10:12:02.549422",
     "status": "completed"
    },
    "tags": []
   },
   "outputs": [
    {
     "data": {
      "image/png": "[encoded data removed]",
      "text/plain": [
       "<Figure size 504x360 with 1 Axes>"
      ]
     },
     "metadata": {},
     "output_type": "display_data"
    }
   ],
   "source": [
    "plot_hc(hc_complete)"
   ]
  },
  {
   "cell_type": "code",
   "execution_count": 34,
   "id": "ee248322",
   "metadata": {
    "execution": {
     "iopub.execute_input": "2022-12-25T10:13:19.029255Z",
     "iopub.status.busy": "2022-12-25T10:13:19.028832Z",
     "iopub.status.idle": "2022-12-25T10:14:35.976684Z",
     "shell.execute_reply": "2022-12-25T10:14:35.975407Z"
    },
    "papermill": {
     "duration": 76.994415,
     "end_time": "2022-12-25T10:14:36.000512",
     "exception": false,
     "start_time": "2022-12-25T10:13:19.006097",
     "status": "completed"
    },
    "tags": []
   },
   "outputs": [
    {
     "data": {
      "image/png": "[encoded data removed]",
      "text/plain": [
       "<Figure size 504x360 with 1 Axes>"
      ]
     },
     "metadata": {},
     "output_type": "display_data"
    }
   ],
   "source": [
    "plot_hc(hc_single)"
   ]
  },
  {
   "cell_type": "code",
   "execution_count": 35,
   "id": "7f9ee4aa",
   "metadata": {
    "execution": {
     "iopub.execute_input": "2022-12-25T10:14:36.046119Z",
     "iopub.status.busy": "2022-12-25T10:14:36.045335Z",
     "iopub.status.idle": "2022-12-25T10:15:52.787645Z",
     "shell.execute_reply": "2022-12-25T10:15:52.786380Z"
    },
    "papermill": {
     "duration": 76.789732,
     "end_time": "2022-12-25T10:15:52.811890",
     "exception": false,
     "start_time": "2022-12-25T10:14:36.022158",
     "status": "completed"
    },
    "tags": []
   },
   "outputs": [
    {
     "data": {
      "image/png": "[encoded data removed]",
      "text/plain": [
       "<Figure size 504x360 with 1 Axes>"
      ]
     },
     "metadata": {},
     "output_type": "display_data"
    }
   ],
   "source": [
    "plot_hc(hc_centroid)"
   ]
  },
  {
   "cell_type": "markdown",
   "id": "d85297df",
   "metadata": {
    "papermill": {
     "duration": 0.021913,
     "end_time": "2022-12-25T10:15:52.855577",
     "exception": false,
     "start_time": "2022-12-25T10:15:52.833664",
     "status": "completed"
    },
    "tags": []
   },
   "source": [
    "# Step 3.2. Creating Model and Segmentation of Customers"
   ]
  },
  {
   "cell_type": "code",
   "execution_count": 36,
   "id": "ee5b3849",
   "metadata": {
    "execution": {
     "iopub.execute_input": "2022-12-25T10:15:52.900730Z",
     "iopub.status.busy": "2022-12-25T10:15:52.900356Z",
     "iopub.status.idle": "2022-12-25T10:16:13.655483Z",
     "shell.execute_reply": "2022-12-25T10:16:13.654386Z"
    },
    "papermill": {
     "duration": 20.780884,
     "end_time": "2022-12-25T10:16:13.658161",
     "exception": false,
     "start_time": "2022-12-25T10:15:52.877277",
     "status": "completed"
    },
    "tags": []
   },
   "outputs": [
    {
     "data": {
      "text/html": [
       "<div>\n",
       "<style scoped>\n",
       "    .dataframe tbody tr th:only-of-type {\n",
       "        vertical-align: middle;\n",
       "    }\n",
       "\n",
       "    .dataframe tbody tr th {\n",
       "        vertical-align: top;\n",
       "    }\n",
       "\n",
       "    .dataframe thead th {\n",
       "        text-align: right;\n",
       "    }\n",
       "</style>\n",
       "<table border=\"1\" class=\"dataframe\">\n",
       "  <thead>\n",
       "    <tr style=\"text-align: right;\">\n",
       "      <th></th>\n",
       "      <th>order_num_total_ever_online</th>\n",
       "      <th>order_num_total_ever_offline</th>\n",
       "      <th>customer_value_total_ever_offline</th>\n",
       "      <th>customer_value_total_ever_online</th>\n",
       "      <th>tenure</th>\n",
       "      <th>recency</th>\n",
       "      <th>frequency</th>\n",
       "      <th>monetary</th>\n",
       "      <th>order_num_total</th>\n",
       "      <th>customer_value_total</th>\n",
       "      <th>cluster</th>\n",
       "      <th>cluster_hc</th>\n",
       "    </tr>\n",
       "  </thead>\n",
       "  <tbody>\n",
       "    <tr>\n",
       "      <th>0</th>\n",
       "      <td>0.210422</td>\n",
       "      <td>-0.443039</td>\n",
       "      <td>-0.377854</td>\n",
       "      <td>0.362797</td>\n",
       "      <td>-1.122127</td>\n",
       "      <td>-0.382058</td>\n",
       "      <td>-0.005222</td>\n",
       "      <td>0.210107</td>\n",
       "      <td>-0.005222</td>\n",
       "      <td>0.210107</td>\n",
       "      <td>3</td>\n",
       "      <td>1</td>\n",
       "    </tr>\n",
       "    <tr>\n",
       "      <th>1</th>\n",
       "      <td>3.760263</td>\n",
       "      <td>0.041732</td>\n",
       "      <td>-0.311591</td>\n",
       "      <td>1.628981</td>\n",
       "      <td>1.476349</td>\n",
       "      <td>-0.285232</td>\n",
       "      <td>3.368463</td>\n",
       "      <td>1.409799</td>\n",
       "      <td>3.368463</td>\n",
       "      <td>1.409799</td>\n",
       "      <td>2</td>\n",
       "      <td>0</td>\n",
       "    </tr>\n",
       "    <tr>\n",
       "      <th>2</th>\n",
       "      <td>-0.026234</td>\n",
       "      <td>0.041732</td>\n",
       "      <td>-0.212097</td>\n",
       "      <td>-0.122477</td>\n",
       "      <td>-0.476329</td>\n",
       "      <td>0.499055</td>\n",
       "      <td>-0.005222</td>\n",
       "      <td>-0.185312</td>\n",
       "      <td>-0.005222</td>\n",
       "      <td>-0.185312</td>\n",
       "      <td>4</td>\n",
       "      <td>1</td>\n",
       "    </tr>\n",
       "    <tr>\n",
       "      <th>3</th>\n",
       "      <td>-0.499547</td>\n",
       "      <td>-0.443039</td>\n",
       "      <td>-0.709501</td>\n",
       "      <td>-0.498860</td>\n",
       "      <td>-1.252050</td>\n",
       "      <td>0.005244</td>\n",
       "      <td>-0.637788</td>\n",
       "      <td>-0.702802</td>\n",
       "      <td>-0.637788</td>\n",
       "      <td>-0.702802</td>\n",
       "      <td>3</td>\n",
       "      <td>1</td>\n",
       "    </tr>\n",
       "    <tr>\n",
       "      <th>4</th>\n",
       "      <td>-0.499547</td>\n",
       "      <td>-0.443039</td>\n",
       "      <td>-0.676337</td>\n",
       "      <td>-0.405164</td>\n",
       "      <td>-0.254694</td>\n",
       "      <td>-0.469201</td>\n",
       "      <td>-0.637788</td>\n",
       "      <td>-0.604508</td>\n",
       "      <td>-0.637788</td>\n",
       "      <td>-0.604508</td>\n",
       "      <td>3</td>\n",
       "      <td>1</td>\n",
       "    </tr>\n",
       "  </tbody>\n",
       "</table>\n",
       "</div>"
      ],
      "text/plain": [
       "   order_num_total_ever_online  order_num_total_ever_offline  \\\n",
       "0                     0.210422                     -0.443039   \n",
       "1                     3.760263                      0.041732   \n",
       "2                    -0.026234                      0.041732   \n",
       "3                    -0.499547                     -0.443039   \n",
       "4                    -0.499547                     -0.443039   \n",
       "\n",
       "   customer_value_total_ever_offline  customer_value_total_ever_online  \\\n",
       "0                          -0.377854                          0.362797   \n",
       "1                          -0.311591                          1.628981   \n",
       "2                          -0.212097                         -0.122477   \n",
       "3                          -0.709501                         -0.498860   \n",
       "4                          -0.676337                         -0.405164   \n",
       "\n",
       "     tenure   recency  frequency  monetary  order_num_total  \\\n",
       "0 -1.122127 -0.382058  -0.005222  0.210107        -0.005222   \n",
       "1  1.476349 -0.285232   3.368463  1.409799         3.368463   \n",
       "2 -0.476329  0.499055  -0.005222 -0.185312        -0.005222   \n",
       "3 -1.252050  0.005244  -0.637788 -0.702802        -0.637788   \n",
       "4 -0.254694 -0.469201  -0.637788 -0.604508        -0.637788   \n",
       "\n",
       "   customer_value_total  cluster  cluster_hc  \n",
       "0              0.210107        3           1  \n",
       "1              1.409799        2           0  \n",
       "2             -0.185312        4           1  \n",
       "3             -0.702802        3           1  \n",
       "4             -0.604508        3           1  "
      ]
     },
     "execution_count": 36,
     "metadata": {},
     "output_type": "execute_result"
    }
   ],
   "source": [
    "from sklearn.cluster import AgglomerativeClustering\n",
    "hc = AgglomerativeClustering(n_clusters=3, affinity='euclidean', linkage='ward')\n",
    "clusters_hc = hc.fit_predict(X)\n",
    "clusters_hc\n",
    "X['cluster_hc'] = clusters_hc\n",
    "X.head()"
   ]
  },
  {
   "cell_type": "code",
   "execution_count": 37,
   "id": "3bc6bacc",
   "metadata": {
    "execution": {
     "iopub.execute_input": "2022-12-25T10:16:13.708851Z",
     "iopub.status.busy": "2022-12-25T10:16:13.708443Z",
     "iopub.status.idle": "2022-12-25T10:16:13.715387Z",
     "shell.execute_reply": "2022-12-25T10:16:13.714658Z"
    },
    "papermill": {
     "duration": 0.037072,
     "end_time": "2022-12-25T10:16:13.718943",
     "exception": false,
     "start_time": "2022-12-25T10:16:13.681871",
     "status": "completed"
    },
    "tags": []
   },
   "outputs": [
    {
     "data": {
      "text/plain": [
       "array([1, 0, 2])"
      ]
     },
     "execution_count": 37,
     "metadata": {},
     "output_type": "execute_result"
    }
   ],
   "source": [
    "X[\"cluster_hc\"].unique()"
   ]
  },
  {
   "cell_type": "code",
   "execution_count": 38,
   "id": "753d3e5a",
   "metadata": {
    "execution": {
     "iopub.execute_input": "2022-12-25T10:16:13.769752Z",
     "iopub.status.busy": "2022-12-25T10:16:13.769386Z",
     "iopub.status.idle": "2022-12-25T10:16:13.778587Z",
     "shell.execute_reply": "2022-12-25T10:16:13.777537Z"
    },
    "papermill": {
     "duration": 0.040908,
     "end_time": "2022-12-25T10:16:13.782412",
     "exception": false,
     "start_time": "2022-12-25T10:16:13.741504",
     "status": "completed"
    },
    "tags": []
   },
   "outputs": [
    {
     "data": {
      "text/plain": [
       "1    14225\n",
       "2     3379\n",
       "0     2341\n",
       "Name: cluster_hc, dtype: int64"
      ]
     },
     "execution_count": 38,
     "metadata": {},
     "output_type": "execute_result"
    }
   ],
   "source": [
    "X[\"cluster_hc\"].value_counts()"
   ]
  },
  {
   "cell_type": "markdown",
   "id": "bdd91175",
   "metadata": {
    "papermill": {
     "duration": 0.023672,
     "end_time": "2022-12-25T10:16:13.829710",
     "exception": false,
     "start_time": "2022-12-25T10:16:13.806038",
     "status": "completed"
    },
    "tags": []
   },
   "source": [
    "# Step 3.3. Statistical Analysis of Each Segment"
   ]
  },
  {
   "cell_type": "code",
   "execution_count": 39,
   "id": "7c50ee2a",
   "metadata": {
    "execution": {
     "iopub.execute_input": "2022-12-25T10:16:13.879253Z",
     "iopub.status.busy": "2022-12-25T10:16:13.878881Z",
     "iopub.status.idle": "2022-12-25T10:16:14.088944Z",
     "shell.execute_reply": "2022-12-25T10:16:14.087669Z"
    },
    "papermill": {
     "duration": 0.2395,
     "end_time": "2022-12-25T10:16:14.091518",
     "exception": false,
     "start_time": "2022-12-25T10:16:13.852018",
     "status": "completed"
    },
    "tags": []
   },
   "outputs": [
    {
     "data": {
      "image/png": "[encoded data removed]",
      "text/plain": [
       "<Figure size 576x396 with 1 Axes>"
      ]
     },
     "metadata": {},
     "output_type": "display_data"
    }
   ],
   "source": [
    "sns.countplot(x='cluster_hc', data=X)\n",
    "plt.show()"
   ]
  },
  {
   "cell_type": "code",
   "execution_count": 40,
   "id": "50ec39e7",
   "metadata": {
    "execution": {
     "iopub.execute_input": "2022-12-25T10:16:14.138868Z",
     "iopub.status.busy": "2022-12-25T10:16:14.138483Z",
     "iopub.status.idle": "2022-12-25T10:16:19.327006Z",
     "shell.execute_reply": "2022-12-25T10:16:19.325889Z"
    },
    "papermill": {
     "duration": 5.215122,
     "end_time": "2022-12-25T10:16:19.329532",
     "exception": false,
     "start_time": "2022-12-25T10:16:14.114410",
     "status": "completed"
    },
    "tags": []
   },
   "outputs": [
    {
     "data": {
      "image/png": "[encoded data removed]",
      "text/plain": [
       "<Figure size 576x396 with 1 Axes>"
      ]
     },
     "metadata": {},
     "output_type": "display_data"
    },
    {
     "data": {
      "image/png": "[encoded data removed]",
      "text/plain": [
       "<Figure size 576x396 with 1 Axes>"
      ]
     },
     "metadata": {},
     "output_type": "display_data"
    },
    {
     "data": {
      "image/png": "[encoded data removed]",
      "text/plain": [
       "<Figure size 576x396 with 1 Axes>"
      ]
     },
     "metadata": {},
     "output_type": "display_data"
    },
    {
     "data": {
      "image/png": "[encoded data removed]",
      "text/plain": [
       "<Figure size 576x396 with 1 Axes>"
      ]
     },
     "metadata": {},
     "output_type": "display_data"
    },
    {
     "data": {
      "image/png": "[encoded data removed]",
      "text/plain": [
       "<Figure size 576x396 with 1 Axes>"
      ]
     },
     "metadata": {},
     "output_type": "display_data"
    },
    {
     "data": {
      "image/png": "[encoded data removed]",
      "text/plain": [
       "<Figure size 576x396 with 1 Axes>"
      ]
     },
     "metadata": {},
     "output_type": "display_data"
    },
    {
     "data": {
      "image/png": "[encoded data removed]",
      "text/plain": [
       "<Figure size 576x396 with 1 Axes>"
      ]
     },
     "metadata": {},
     "output_type": "display_data"
    },
    {
     "data": {
      "image/png": "[encoded data removed]",
      "text/plain": [
       "<Figure size 576x396 with 1 Axes>"
      ]
     },
     "metadata": {},
     "output_type": "display_data"
    },
    {
     "data": {
      "image/png": "[encoded data removed]",
      "text/plain": [
       "<Figure size 576x396 with 1 Axes>"
      ]
     },
     "metadata": {},
     "output_type": "display_data"
    },
    {
     "data": {
      "image/png": "[encoded data removed]",
      "text/plain": [
       "<Figure size 576x396 with 1 Axes>"
      ]
     },
     "metadata": {},
     "output_type": "display_data"
    }
   ],
   "source": [
    "for i in num_cols:\n",
    "    sns.barplot(x='cluster_hc', y=i, data=X)\n",
    "    plt.show()"
   ]
  }
 ],
 "metadata": {
  "kernelspec": {
   "display_name": "Python 3",
   "language": "python",
   "name": "python3"
  },
  "language_info": {
   "codemirror_mode": {
    "name": "ipython",
    "version": 3
   },
   "file_extension": ".py",
   "mimetype": "text/x-python",
   "name": "python",
   "nbconvert_exporter": "python",
   "pygments_lexer": "ipython3",
   "version": "3.7.12"
  },
  "papermill": {
   "default_parameters": {},
   "duration": 596.448649,
   "end_time": "2022-12-25T10:16:20.179282",
   "environment_variables": {},
   "exception": null,
   "input_path": "__notebook__.ipynb",
   "output_path": "__notebook__.ipynb",
   "parameters": {},
   "start_time": "2022-12-25T10:06:23.730633",
   "version": "2.3.4"
  }
 },
 "nbformat": 4,
 "nbformat_minor": 5
}
