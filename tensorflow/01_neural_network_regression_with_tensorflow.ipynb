{
  "nbformat": 4,
  "nbformat_minor": 0,
  "metadata": {
    "colab": {
      "provenance": [],
      "mount_file_id": "1iYQ3D2GJ9SszMI9c3BRxETm8Bon989aI",
      "authorship_tag": "ABX9TyO5ynbuud4MLz2uBbDn82V+",
      "include_colab_link": true
    },
    "kernelspec": {
      "name": "python3",
      "display_name": "Python 3"
    },
    "language_info": {
      "name": "python"
    }
  },
  "cells": [
    {
      "cell_type": "markdown",
      "metadata": {
        "id": "view-in-github",
        "colab_type": "text"
      },
      "source": [
        "<a href=\"https://colab.research.google.com/github/aserdargun/DSML101/blob/main/tensorflow/01_neural_network_regression_with_tensorflow.ipynb\" target=\"_parent\"><img src=\"https://colab.research.google.com/assets/colab-badge.svg\" alt=\"Open In Colab\"/></a>"
      ]
    },
    {
      "cell_type": "markdown",
      "source": [
        "# Introduction to Regression with Neural Networks in TensorFlow\n",
        "\n",
        "There are many definitions for a regression problem but in our case, we're going to simplify it: predicting a numerical variable based on some other combination of variables, even shorter... predicting a number."
      ],
      "metadata": {
        "id": "hdjFd5CrE8fS"
      }
    },
    {
      "cell_type": "code",
      "source": [
        "# import TensorFlow\n",
        "import tensorflow as tf\n",
        "print(tf.__version__)"
      ],
      "metadata": {
        "colab": {
          "base_uri": "https://localhost:8080/"
        },
        "id": "J2xGiv-YNecn",
        "outputId": "7b6db2fd-18bf-4ced-c95b-86612a696c60"
      },
      "execution_count": null,
      "outputs": [
        {
          "output_type": "stream",
          "name": "stdout",
          "text": [
            "2.12.0\n"
          ]
        }
      ]
    },
    {
      "cell_type": "markdown",
      "source": [
        "## Creating data to fit"
      ],
      "metadata": {
        "id": "i92mbXeaNlIv"
      }
    },
    {
      "cell_type": "code",
      "source": [
        "import numpy as np\n",
        "import matplotlib.pyplot as plt\n",
        "\n",
        "# Create features\n",
        "X = np.array([-7.0, -4.0, -1.0, 2.0, 5.0, 8.0, 11.0, 14.0])\n",
        "\n",
        "# Create labels\n",
        "y = np.array([3.0, 6.0, 9.0, 12.0, 15.0, 18.0, 21.0, 24.0])\n",
        "\n",
        "# Visualize it\n",
        "plt.scatter(X, y)"
      ],
      "metadata": {
        "colab": {
          "base_uri": "https://localhost:8080/",
          "height": 452
        },
        "id": "9uOR18KRNrdF",
        "outputId": "efa4fa73-1723-4b40-fef2-36b1c759d7d4"
      },
      "execution_count": null,
      "outputs": [
        {
          "output_type": "execute_result",
          "data": {
            "text/plain": [
              "<matplotlib.collections.PathCollection at 0x7d273d418190>"
            ]
          },
          "metadata": {},
          "execution_count": 2
        },
        {
          "output_type": "display_data",
          "data": {
            "text/plain": [
              "<Figure size 640x480 with 1 Axes>"
            ],
            "image/png": "[encoded data removed]"
          },
          "metadata": {}
        }
      ]
    },
    {
      "cell_type": "code",
      "source": [
        "y == X + 10"
      ],
      "metadata": {
        "colab": {
          "base_uri": "https://localhost:8080/"
        },
        "id": "40UupusZOJL1",
        "outputId": "776495cd-f546-447f-8fb8-a24ceb87fddd"
      },
      "execution_count": null,
      "outputs": [
        {
          "output_type": "execute_result",
          "data": {
            "text/plain": [
              "array([ True,  True,  True,  True,  True,  True,  True,  True])"
            ]
          },
          "metadata": {},
          "execution_count": 3
        }
      ]
    },
    {
      "cell_type": "markdown",
      "source": [
        "## Input and output shapes"
      ],
      "metadata": {
        "id": "Bn5tbNBxOXix"
      }
    },
    {
      "cell_type": "code",
      "source": [
        "# Create a demo tensor for our housing prediction problem\n",
        "house_info = tf.constant([\"bedroom\", \"bathroom\", \"garage\"])\n",
        "house_price = tf.constant([939700])\n",
        "house_info, house_price"
      ],
      "metadata": {
        "colab": {
          "base_uri": "https://localhost:8080/"
        },
        "id": "F8CQcloXOmGN",
        "outputId": "49ee38ca-c3fa-46b1-9808-fe032c35a2be"
      },
      "execution_count": null,
      "outputs": [
        {
          "output_type": "execute_result",
          "data": {
            "text/plain": [
              "(<tf.Tensor: shape=(3,), dtype=string, numpy=array([b'bedroom', b'bathroom', b'garage'], dtype=object)>,\n",
              " <tf.Tensor: shape=(1,), dtype=int32, numpy=array([939700], dtype=int32)>)"
            ]
          },
          "metadata": {},
          "execution_count": 4
        }
      ]
    },
    {
      "cell_type": "code",
      "source": [
        "input_shape = X.shape\n",
        "output_shape = y.shape\n",
        "input_shape, output_shape"
      ],
      "metadata": {
        "colab": {
          "base_uri": "https://localhost:8080/"
        },
        "id": "wCAwz5UGO-c1",
        "outputId": "8f20730f-30d4-4827-9ce3-cc39bafc63d7"
      },
      "execution_count": null,
      "outputs": [
        {
          "output_type": "execute_result",
          "data": {
            "text/plain": [
              "((8,), (8,))"
            ]
          },
          "metadata": {},
          "execution_count": 5
        }
      ]
    },
    {
      "cell_type": "code",
      "source": [
        "X[0], y[0]"
      ],
      "metadata": {
        "colab": {
          "base_uri": "https://localhost:8080/"
        },
        "id": "WwM11BA1PL6X",
        "outputId": "b9c694c3-20eb-4b93-c50a-1a6f8efe48ee"
      },
      "execution_count": null,
      "outputs": [
        {
          "output_type": "execute_result",
          "data": {
            "text/plain": [
              "(-7.0, 3.0)"
            ]
          },
          "metadata": {},
          "execution_count": 6
        }
      ]
    },
    {
      "cell_type": "code",
      "source": [
        "X[1], y[1]"
      ],
      "metadata": {
        "colab": {
          "base_uri": "https://localhost:8080/"
        },
        "id": "pz96-ePsPSYb",
        "outputId": "59a2edfd-886a-4047-c026-2ea647b08743"
      },
      "execution_count": null,
      "outputs": [
        {
          "output_type": "execute_result",
          "data": {
            "text/plain": [
              "(-4.0, 6.0)"
            ]
          },
          "metadata": {},
          "execution_count": 7
        }
      ]
    },
    {
      "cell_type": "code",
      "source": [
        "input_shape = X[0].shape\n",
        "output_shape = y[0].shape\n",
        "input_shape, output_shape"
      ],
      "metadata": {
        "colab": {
          "base_uri": "https://localhost:8080/"
        },
        "id": "q56Mk9waPUfM",
        "outputId": "723a81ed-9d1f-4ff3-affb-f5cc69733987"
      },
      "execution_count": null,
      "outputs": [
        {
          "output_type": "execute_result",
          "data": {
            "text/plain": [
              "((), ())"
            ]
          },
          "metadata": {},
          "execution_count": 8
        }
      ]
    },
    {
      "cell_type": "code",
      "source": [
        "X[0].ndim"
      ],
      "metadata": {
        "colab": {
          "base_uri": "https://localhost:8080/"
        },
        "id": "6IhgINGkPeVe",
        "outputId": "4138e583-e3d0-4605-fcf1-c7c36ba51897"
      },
      "execution_count": null,
      "outputs": [
        {
          "output_type": "execute_result",
          "data": {
            "text/plain": [
              "0"
            ]
          },
          "metadata": {},
          "execution_count": 9
        }
      ]
    },
    {
      "cell_type": "code",
      "source": [
        "X[0], y[0]"
      ],
      "metadata": {
        "colab": {
          "base_uri": "https://localhost:8080/"
        },
        "id": "r-FZ1F7oPmNk",
        "outputId": "48541cba-4b2a-47ec-ce5d-c8b3742f34bf"
      },
      "execution_count": null,
      "outputs": [
        {
          "output_type": "execute_result",
          "data": {
            "text/plain": [
              "(-7.0, 3.0)"
            ]
          },
          "metadata": {},
          "execution_count": 10
        }
      ]
    },
    {
      "cell_type": "code",
      "source": [
        "# Turn our NumPy arrays into tensors with dtype float32\n",
        "X = tf.cast(tf.constant(X), dtype=tf.float32)\n",
        "y = tf.cast(tf.constant(y), dtype=tf.float32)\n",
        "X, y"
      ],
      "metadata": {
        "colab": {
          "base_uri": "https://localhost:8080/"
        },
        "id": "reLl4hLqPpbo",
        "outputId": "e7281c68-7eae-4250-f88c-fe137c124f91"
      },
      "execution_count": null,
      "outputs": [
        {
          "output_type": "execute_result",
          "data": {
            "text/plain": [
              "(<tf.Tensor: shape=(8,), dtype=float32, numpy=array([-7., -4., -1.,  2.,  5.,  8., 11., 14.], dtype=float32)>,\n",
              " <tf.Tensor: shape=(8,), dtype=float32, numpy=array([ 3.,  6.,  9., 12., 15., 18., 21., 24.], dtype=float32)>)"
            ]
          },
          "metadata": {},
          "execution_count": 11
        }
      ]
    },
    {
      "cell_type": "code",
      "source": [
        "input_shape = X[0].shape\n",
        "output_shape = y[0].shape\n",
        "input_shape, output_shape"
      ],
      "metadata": {
        "colab": {
          "base_uri": "https://localhost:8080/"
        },
        "id": "UkmtlfsFQV66",
        "outputId": "e945b2c2-f3de-4278-8e59-22551b1f6c5a"
      },
      "execution_count": null,
      "outputs": [
        {
          "output_type": "execute_result",
          "data": {
            "text/plain": [
              "(TensorShape([]), TensorShape([]))"
            ]
          },
          "metadata": {},
          "execution_count": 12
        }
      ]
    },
    {
      "cell_type": "markdown",
      "source": [
        "## Steps in modelling with TensorFlow\n",
        "\n",
        "1. **Creating a model** - define the input and output layers, as well as the hidden layers of a deep learning model.\n",
        "2. **Compiling a model** - define the loss function (in other words, the function which tells our model how wrong it is)\n",
        "and the optimizer (tells our model how to improve the patterns its learning) and evaluation metrics (what we can use interpret the performance of our model).\n",
        "3. **Fitting a model** - letting the model try to find patterns between X & y (features and labels)"
      ],
      "metadata": {
        "id": "UKoiCWCmQfIl"
      }
    },
    {
      "cell_type": "markdown",
      "source": [
        "```\n",
        "# Optionally, the first layer can receive an `input_shape` argument:\n",
        "model = tf.keras.Sequential()\n",
        "model.add(tf.keras.layers.Dense(8, input_shape=(16,)))\n",
        "# Afterwards, we do automatic shape inference:\n",
        "model.add(tf.keras.layers.Dense(4))\n",
        "\n",
        "model = tf.keras.Sequential()\n",
        "model.add(tf.keras.layers.Dense(8, input_shape=(16,)))\n",
        "...\n",
        "\n",
        "model = tf.keras.Sequential()\n",
        "model.add(tf.keras.layers.Dense(1))\n",
        "model.add(tf.keras.layers.Dense(1))\n",
        "```"
      ],
      "metadata": {
        "id": "3rrblYjjYMwm"
      }
    },
    {
      "cell_type": "code",
      "source": [
        "# Set random seed\n",
        "tf.random.set_seed(42)\n",
        "\n",
        "# 1. Create a model using the Sequential API\n",
        "model = tf.keras.Sequential([\n",
        "    tf.keras.layers.Dense(1)\n",
        "])\n",
        "\n",
        "# 2. Compile the model\n",
        "model.compile(loss=tf.keras.losses.mae, # mae is short for mean absolute error\n",
        "              optimizer=tf.keras.optimizers.SGD(), # sgd is short for stochastic gradient descent\n",
        "              metrics=[\"mae\"])\n",
        "\n",
        "# 3. Fit the model\n",
        "model.fit(tf.expand_dims(X, axis=-1), y, epochs=5)"
      ],
      "metadata": {
        "colab": {
          "base_uri": "https://localhost:8080/"
        },
        "id": "m8SEHhLqWBbv",
        "outputId": "fb7db38b-33d8-43bd-cc4b-5c89dff39601"
      },
      "execution_count": null,
      "outputs": [
        {
          "output_type": "stream",
          "name": "stdout",
          "text": [
            "Epoch 1/5\n",
            "1/1 [==============================] - 1s 553ms/step - loss: 9.6531 - mae: 9.6531\n",
            "Epoch 2/5\n",
            "1/1 [==============================] - 0s 8ms/step - loss: 9.5206 - mae: 9.5206\n",
            "Epoch 3/5\n",
            "1/1 [==============================] - 0s 13ms/step - loss: 9.3881 - mae: 9.3881\n",
            "Epoch 4/5\n",
            "1/1 [==============================] - 0s 10ms/step - loss: 9.2556 - mae: 9.2556\n",
            "Epoch 5/5\n",
            "1/1 [==============================] - 0s 10ms/step - loss: 9.1231 - mae: 9.1231\n"
          ]
        },
        {
          "output_type": "execute_result",
          "data": {
            "text/plain": [
              "<keras.callbacks.History at 0x7d273b3c2d40>"
            ]
          },
          "metadata": {},
          "execution_count": 13
        }
      ]
    },
    {
      "cell_type": "code",
      "source": [
        "# Check out X and y\n",
        "X, y"
      ],
      "metadata": {
        "colab": {
          "base_uri": "https://localhost:8080/"
        },
        "id": "hzedvqvhZUnc",
        "outputId": "9cc82579-2f87-436d-99ed-83589c1108cf"
      },
      "execution_count": null,
      "outputs": [
        {
          "output_type": "execute_result",
          "data": {
            "text/plain": [
              "(<tf.Tensor: shape=(8,), dtype=float32, numpy=array([-7., -4., -1.,  2.,  5.,  8., 11., 14.], dtype=float32)>,\n",
              " <tf.Tensor: shape=(8,), dtype=float32, numpy=array([ 3.,  6.,  9., 12., 15., 18., 21., 24.], dtype=float32)>)"
            ]
          },
          "metadata": {},
          "execution_count": 14
        }
      ]
    },
    {
      "cell_type": "code",
      "source": [
        "# Try and make a prediction using our model\n",
        "y_pred = model.predict([17.0])\n",
        "y_pred"
      ],
      "metadata": {
        "colab": {
          "base_uri": "https://localhost:8080/"
        },
        "id": "zI9coH99akYl",
        "outputId": "945be0a9-abc0-477e-bc94-f5a4bb462b46"
      },
      "execution_count": null,
      "outputs": [
        {
          "output_type": "stream",
          "name": "stdout",
          "text": [
            "1/1 [==============================] - 0s 171ms/step\n"
          ]
        },
        {
          "output_type": "execute_result",
          "data": {
            "text/plain": [
              "array([[21.709871]], dtype=float32)"
            ]
          },
          "metadata": {},
          "execution_count": 15
        }
      ]
    },
    {
      "cell_type": "code",
      "source": [
        "y_pred + 11"
      ],
      "metadata": {
        "colab": {
          "base_uri": "https://localhost:8080/"
        },
        "id": "RJRKhXvWawUp",
        "outputId": "12f80118-7f20-4a5a-c1a8-46da03687e0a"
      },
      "execution_count": null,
      "outputs": [
        {
          "output_type": "execute_result",
          "data": {
            "text/plain": [
              "array([[32.70987]], dtype=float32)"
            ]
          },
          "metadata": {},
          "execution_count": 16
        }
      ]
    },
    {
      "cell_type": "markdown",
      "source": [
        "## Improve our model\n",
        "\n",
        "We can improve our model, by altering the steps we took to create a model.\n",
        "\n",
        "1. **Creating a model** - here we might add more layers, increase the number of hidden units (all called neurons) within each of the hidden layers, change the activation function of each layer.\n",
        "2. **Compiling a model** - here we might change the optimization function or perhaps the **learning rate** of the optimization function.\n",
        "3. **Fitting a model** - here we might fit a model for more **epochs** (leave it training for longer) or on more data (give the model more examples to learn from)"
      ],
      "metadata": {
        "id": "VMgE1eG3a5_n"
      }
    },
    {
      "cell_type": "code",
      "source": [
        "# Let's rebuild our model\n",
        "\n",
        "# 1. Create the model\n",
        "model = tf.keras.Sequential([\n",
        "    tf.keras.layers.Dense(1)\n",
        "])\n",
        "\n",
        "# 2. Compile the model\n",
        "model.compile(loss=tf.keras.losses.mae,\n",
        "              optimizer=tf.keras.optimizers.SGD(),\n",
        "              metrics=[\"mae\"])\n",
        "\n",
        "# 3. Fit the model (this time we'll train for longer)\n",
        "model.fit(tf.expand_dims(X, axis=-1), y, epochs=100)"
      ],
      "metadata": {
        "colab": {
          "base_uri": "https://localhost:8080/"
        },
        "id": "94v50oGThl6O",
        "outputId": "8954a61b-9010-49ec-8526-3b743e68d6a8"
      },
      "execution_count": null,
      "outputs": [
        {
          "output_type": "stream",
          "name": "stdout",
          "text": [
            "Epoch 1/100\n",
            "1/1 [==============================] - 1s 552ms/step - loss: 8.9207 - mae: 8.9207\n",
            "Epoch 2/100\n",
            "1/1 [==============================] - 0s 11ms/step - loss: 8.7882 - mae: 8.7882\n",
            "Epoch 3/100\n",
            "1/1 [==============================] - 0s 10ms/step - loss: 8.6557 - mae: 8.6557\n",
            "Epoch 4/100\n",
            "1/1 [==============================] - 0s 9ms/step - loss: 8.5232 - mae: 8.5232\n",
            "Epoch 5/100\n",
            "1/1 [==============================] - 0s 10ms/step - loss: 8.3907 - mae: 8.3907\n",
            "Epoch 6/100\n",
            "1/1 [==============================] - 0s 9ms/step - loss: 8.2582 - mae: 8.2582\n",
            "Epoch 7/100\n",
            "1/1 [==============================] - 0s 10ms/step - loss: 8.1257 - mae: 8.1257\n",
            "Epoch 8/100\n",
            "1/1 [==============================] - 0s 10ms/step - loss: 7.9932 - mae: 7.9932\n",
            "Epoch 9/100\n",
            "1/1 [==============================] - 0s 9ms/step - loss: 7.8607 - mae: 7.8607\n",
            "Epoch 10/100\n",
            "1/1 [==============================] - 0s 13ms/step - loss: 7.7282 - mae: 7.7282\n",
            "Epoch 11/100\n",
            "1/1 [==============================] - 0s 11ms/step - loss: 7.5957 - mae: 7.5957\n",
            "Epoch 12/100\n",
            "1/1 [==============================] - 0s 23ms/step - loss: 7.4632 - mae: 7.4632\n",
            "Epoch 13/100\n",
            "1/1 [==============================] - 0s 12ms/step - loss: 7.4100 - mae: 7.4100\n",
            "Epoch 14/100\n",
            "1/1 [==============================] - 0s 42ms/step - loss: 7.4044 - mae: 7.4044\n",
            "Epoch 15/100\n",
            "1/1 [==============================] - 0s 14ms/step - loss: 7.3988 - mae: 7.3988\n",
            "Epoch 16/100\n",
            "1/1 [==============================] - 0s 10ms/step - loss: 7.3931 - mae: 7.3931\n",
            "Epoch 17/100\n",
            "1/1 [==============================] - 0s 11ms/step - loss: 7.3875 - mae: 7.3875\n",
            "Epoch 18/100\n",
            "1/1 [==============================] - 0s 10ms/step - loss: 7.3819 - mae: 7.3819\n",
            "Epoch 19/100\n",
            "1/1 [==============================] - 0s 33ms/step - loss: 7.3763 - mae: 7.3763\n",
            "Epoch 20/100\n",
            "1/1 [==============================] - 0s 12ms/step - loss: 7.3706 - mae: 7.3706\n",
            "Epoch 21/100\n",
            "1/1 [==============================] - 0s 18ms/step - loss: 7.3650 - mae: 7.3650\n",
            "Epoch 22/100\n",
            "1/1 [==============================] - 0s 20ms/step - loss: 7.3594 - mae: 7.3594\n",
            "Epoch 23/100\n",
            "1/1 [==============================] - 0s 22ms/step - loss: 7.3538 - mae: 7.3538\n",
            "Epoch 24/100\n",
            "1/1 [==============================] - 0s 22ms/step - loss: 7.3481 - mae: 7.3481\n",
            "Epoch 25/100\n",
            "1/1 [==============================] - 0s 15ms/step - loss: 7.3425 - mae: 7.3425\n",
            "Epoch 26/100\n",
            "1/1 [==============================] - 0s 20ms/step - loss: 7.3369 - mae: 7.3369\n",
            "Epoch 27/100\n",
            "1/1 [==============================] - 0s 20ms/step - loss: 7.3313 - mae: 7.3313\n",
            "Epoch 28/100\n",
            "1/1 [==============================] - 0s 34ms/step - loss: 7.3256 - mae: 7.3256\n",
            "Epoch 29/100\n",
            "1/1 [==============================] - 0s 15ms/step - loss: 7.3200 - mae: 7.3200\n",
            "Epoch 30/100\n",
            "1/1 [==============================] - 0s 17ms/step - loss: 7.3144 - mae: 7.3144\n",
            "Epoch 31/100\n",
            "1/1 [==============================] - 0s 10ms/step - loss: 7.3088 - mae: 7.3088\n",
            "Epoch 32/100\n",
            "1/1 [==============================] - 0s 10ms/step - loss: 7.3031 - mae: 7.3031\n",
            "Epoch 33/100\n",
            "1/1 [==============================] - 0s 9ms/step - loss: 7.2975 - mae: 7.2975\n",
            "Epoch 34/100\n",
            "1/1 [==============================] - 0s 10ms/step - loss: 7.2919 - mae: 7.2919\n",
            "Epoch 35/100\n",
            "1/1 [==============================] - 0s 10ms/step - loss: 7.2863 - mae: 7.2863\n",
            "Epoch 36/100\n",
            "1/1 [==============================] - 0s 9ms/step - loss: 7.2806 - mae: 7.2806\n",
            "Epoch 37/100\n",
            "1/1 [==============================] - 0s 14ms/step - loss: 7.2750 - mae: 7.2750\n",
            "Epoch 38/100\n",
            "1/1 [==============================] - 0s 20ms/step - loss: 7.2694 - mae: 7.2694\n",
            "Epoch 39/100\n",
            "1/1 [==============================] - 0s 13ms/step - loss: 7.2638 - mae: 7.2638\n",
            "Epoch 40/100\n",
            "1/1 [==============================] - 0s 14ms/step - loss: 7.2581 - mae: 7.2581\n",
            "Epoch 41/100\n",
            "1/1 [==============================] - 0s 13ms/step - loss: 7.2525 - mae: 7.2525\n",
            "Epoch 42/100\n",
            "1/1 [==============================] - 0s 12ms/step - loss: 7.2469 - mae: 7.2469\n",
            "Epoch 43/100\n",
            "1/1 [==============================] - 0s 13ms/step - loss: 7.2413 - mae: 7.2413\n",
            "Epoch 44/100\n",
            "1/1 [==============================] - 0s 12ms/step - loss: 7.2356 - mae: 7.2356\n",
            "Epoch 45/100\n",
            "1/1 [==============================] - 0s 12ms/step - loss: 7.2300 - mae: 7.2300\n",
            "Epoch 46/100\n",
            "1/1 [==============================] - 0s 19ms/step - loss: 7.2244 - mae: 7.2244\n",
            "Epoch 47/100\n",
            "1/1 [==============================] - 0s 13ms/step - loss: 7.2188 - mae: 7.2188\n",
            "Epoch 48/100\n",
            "1/1 [==============================] - 0s 14ms/step - loss: 7.2131 - mae: 7.2131\n",
            "Epoch 49/100\n",
            "1/1 [==============================] - 0s 15ms/step - loss: 7.2075 - mae: 7.2075\n",
            "Epoch 50/100\n",
            "1/1 [==============================] - 0s 28ms/step - loss: 7.2019 - mae: 7.2019\n",
            "Epoch 51/100\n",
            "1/1 [==============================] - 0s 14ms/step - loss: 7.1962 - mae: 7.1962\n",
            "Epoch 52/100\n",
            "1/1 [==============================] - 0s 14ms/step - loss: 7.1906 - mae: 7.1906\n",
            "Epoch 53/100\n",
            "1/1 [==============================] - 0s 14ms/step - loss: 7.1850 - mae: 7.1850\n",
            "Epoch 54/100\n",
            "1/1 [==============================] - 0s 12ms/step - loss: 7.1794 - mae: 7.1794\n",
            "Epoch 55/100\n",
            "1/1 [==============================] - 0s 15ms/step - loss: 7.1738 - mae: 7.1738\n",
            "Epoch 56/100\n",
            "1/1 [==============================] - 0s 15ms/step - loss: 7.1681 - mae: 7.1681\n",
            "Epoch 57/100\n",
            "1/1 [==============================] - 0s 12ms/step - loss: 7.1625 - mae: 7.1625\n",
            "Epoch 58/100\n",
            "1/1 [==============================] - 0s 13ms/step - loss: 7.1569 - mae: 7.1569\n",
            "Epoch 59/100\n",
            "1/1 [==============================] - 0s 20ms/step - loss: 7.1512 - mae: 7.1512\n",
            "Epoch 60/100\n",
            "1/1 [==============================] - 0s 28ms/step - loss: 7.1456 - mae: 7.1456\n",
            "Epoch 61/100\n",
            "1/1 [==============================] - 0s 14ms/step - loss: 7.1400 - mae: 7.1400\n",
            "Epoch 62/100\n",
            "1/1 [==============================] - 0s 14ms/step - loss: 7.1344 - mae: 7.1344\n",
            "Epoch 63/100\n",
            "1/1 [==============================] - 0s 29ms/step - loss: 7.1288 - mae: 7.1288\n",
            "Epoch 64/100\n",
            "1/1 [==============================] - 0s 36ms/step - loss: 7.1231 - mae: 7.1231\n",
            "Epoch 65/100\n",
            "1/1 [==============================] - 0s 23ms/step - loss: 7.1175 - mae: 7.1175\n",
            "Epoch 66/100\n",
            "1/1 [==============================] - 0s 20ms/step - loss: 7.1119 - mae: 7.1119\n",
            "Epoch 67/100\n",
            "1/1 [==============================] - 0s 17ms/step - loss: 7.1062 - mae: 7.1062\n",
            "Epoch 68/100\n",
            "1/1 [==============================] - 0s 19ms/step - loss: 7.1006 - mae: 7.1006\n",
            "Epoch 69/100\n",
            "1/1 [==============================] - 0s 19ms/step - loss: 7.0950 - mae: 7.0950\n",
            "Epoch 70/100\n",
            "1/1 [==============================] - 0s 26ms/step - loss: 7.0894 - mae: 7.0894\n",
            "Epoch 71/100\n",
            "1/1 [==============================] - 0s 20ms/step - loss: 7.0838 - mae: 7.0838\n",
            "Epoch 72/100\n",
            "1/1 [==============================] - 0s 23ms/step - loss: 7.0781 - mae: 7.0781\n",
            "Epoch 73/100\n",
            "1/1 [==============================] - 0s 19ms/step - loss: 7.0725 - mae: 7.0725\n",
            "Epoch 74/100\n",
            "1/1 [==============================] - 0s 13ms/step - loss: 7.0669 - mae: 7.0669\n",
            "Epoch 75/100\n",
            "1/1 [==============================] - 0s 15ms/step - loss: 7.0613 - mae: 7.0613\n",
            "Epoch 76/100\n",
            "1/1 [==============================] - 0s 14ms/step - loss: 7.0556 - mae: 7.0556\n",
            "Epoch 77/100\n",
            "1/1 [==============================] - 0s 10ms/step - loss: 7.0500 - mae: 7.0500\n",
            "Epoch 78/100\n",
            "1/1 [==============================] - 0s 10ms/step - loss: 7.0444 - mae: 7.0444\n",
            "Epoch 79/100\n",
            "1/1 [==============================] - 0s 11ms/step - loss: 7.0388 - mae: 7.0388\n",
            "Epoch 80/100\n",
            "1/1 [==============================] - 0s 11ms/step - loss: 7.0331 - mae: 7.0331\n",
            "Epoch 81/100\n",
            "1/1 [==============================] - 0s 9ms/step - loss: 7.0275 - mae: 7.0275\n",
            "Epoch 82/100\n",
            "1/1 [==============================] - 0s 13ms/step - loss: 7.0219 - mae: 7.0219\n",
            "Epoch 83/100\n",
            "1/1 [==============================] - 0s 9ms/step - loss: 7.0163 - mae: 7.0163\n",
            "Epoch 84/100\n",
            "1/1 [==============================] - 0s 8ms/step - loss: 7.0106 - mae: 7.0106\n",
            "Epoch 85/100\n",
            "1/1 [==============================] - 0s 8ms/step - loss: 7.0050 - mae: 7.0050\n",
            "Epoch 86/100\n",
            "1/1 [==============================] - 0s 8ms/step - loss: 6.9994 - mae: 6.9994\n",
            "Epoch 87/100\n",
            "1/1 [==============================] - 0s 8ms/step - loss: 6.9938 - mae: 6.9938\n",
            "Epoch 88/100\n",
            "1/1 [==============================] - 0s 9ms/step - loss: 6.9881 - mae: 6.9881\n",
            "Epoch 89/100\n",
            "1/1 [==============================] - 0s 18ms/step - loss: 6.9825 - mae: 6.9825\n",
            "Epoch 90/100\n",
            "1/1 [==============================] - 0s 17ms/step - loss: 6.9769 - mae: 6.9769\n",
            "Epoch 91/100\n",
            "1/1 [==============================] - 0s 14ms/step - loss: 6.9713 - mae: 6.9713\n",
            "Epoch 92/100\n",
            "1/1 [==============================] - 0s 16ms/step - loss: 6.9656 - mae: 6.9656\n",
            "Epoch 93/100\n",
            "1/1 [==============================] - 0s 28ms/step - loss: 6.9600 - mae: 6.9600\n",
            "Epoch 94/100\n",
            "1/1 [==============================] - 0s 18ms/step - loss: 6.9544 - mae: 6.9544\n",
            "Epoch 95/100\n",
            "1/1 [==============================] - 0s 20ms/step - loss: 6.9488 - mae: 6.9488\n",
            "Epoch 96/100\n",
            "1/1 [==============================] - 0s 25ms/step - loss: 6.9431 - mae: 6.9431\n",
            "Epoch 97/100\n",
            "1/1 [==============================] - 0s 15ms/step - loss: 6.9375 - mae: 6.9375\n",
            "Epoch 98/100\n",
            "1/1 [==============================] - 0s 31ms/step - loss: 6.9319 - mae: 6.9319\n",
            "Epoch 99/100\n",
            "1/1 [==============================] - 0s 15ms/step - loss: 6.9263 - mae: 6.9263\n",
            "Epoch 100/100\n",
            "1/1 [==============================] - 0s 12ms/step - loss: 6.9206 - mae: 6.9206\n"
          ]
        },
        {
          "output_type": "execute_result",
          "data": {
            "text/plain": [
              "<keras.callbacks.History at 0x7d2738113a30>"
            ]
          },
          "metadata": {},
          "execution_count": 17
        }
      ]
    },
    {
      "cell_type": "code",
      "source": [
        "# Remind ourselves of the data\n",
        "X, y"
      ],
      "metadata": {
        "colab": {
          "base_uri": "https://localhost:8080/"
        },
        "id": "5-ESaLklnCuh",
        "outputId": "baa6a7ec-972c-4ebf-c3ac-59fdf5387687"
      },
      "execution_count": null,
      "outputs": [
        {
          "output_type": "execute_result",
          "data": {
            "text/plain": [
              "(<tf.Tensor: shape=(8,), dtype=float32, numpy=array([-7., -4., -1.,  2.,  5.,  8., 11., 14.], dtype=float32)>,\n",
              " <tf.Tensor: shape=(8,), dtype=float32, numpy=array([ 3.,  6.,  9., 12., 15., 18., 21., 24.], dtype=float32)>)"
            ]
          },
          "metadata": {},
          "execution_count": 18
        }
      ]
    },
    {
      "cell_type": "code",
      "source": [
        "# Let's see if our models's prediction has improved...\n",
        "model.predict([17.0])"
      ],
      "metadata": {
        "colab": {
          "base_uri": "https://localhost:8080/"
        },
        "id": "95VMTwgcoA7M",
        "outputId": "86372bed-4c90-448f-bfa8-3b38b95b8dd1"
      },
      "execution_count": null,
      "outputs": [
        {
          "output_type": "stream",
          "name": "stdout",
          "text": [
            "1/1 [==============================] - 0s 253ms/step\n"
          ]
        },
        {
          "output_type": "execute_result",
          "data": {
            "text/plain": [
              "array([[30.162481]], dtype=float32)"
            ]
          },
          "metadata": {},
          "execution_count": 19
        }
      ]
    },
    {
      "cell_type": "code",
      "source": [
        "# Let's see if we can make another to improve our model\n",
        "\n",
        "# 1. Create the model (this time with an extra hidden layer with 100 hidden units)\n",
        "model = tf.keras.Sequential([\n",
        "    tf.keras.layers.Dense(50, activation=None),\n",
        "    tf.keras.layers.Dense(1)\n",
        "])\n",
        "\n",
        "# 2. Compile the model\n",
        "model.compile(loss=\"mae\",\n",
        "              optimizer=tf.keras.optimizers.Adam(learning_rate=0.01),\n",
        "              metrics=[\"mae\"])\n",
        "\n",
        "# 3. Fit the model\n",
        "model.fit(tf.expand_dims(X, axis=-1), y, epochs=100)"
      ],
      "metadata": {
        "colab": {
          "base_uri": "https://localhost:8080/"
        },
        "id": "lf2Bl1wepEjh",
        "outputId": "e0a81c44-ba27-4495-b764-68a4e5623ca4"
      },
      "execution_count": null,
      "outputs": [
        {
          "output_type": "stream",
          "name": "stdout",
          "text": [
            "Epoch 1/100\n",
            "1/1 [==============================] - 3s 3s/step - loss: 14.1804 - mae: 14.1804\n",
            "Epoch 2/100\n",
            "1/1 [==============================] - 0s 24ms/step - loss: 13.4949 - mae: 13.4949\n",
            "Epoch 3/100\n",
            "1/1 [==============================] - 0s 12ms/step - loss: 12.8126 - mae: 12.8126\n",
            "Epoch 4/100\n",
            "1/1 [==============================] - 0s 17ms/step - loss: 12.1321 - mae: 12.1321\n",
            "Epoch 5/100\n",
            "1/1 [==============================] - 0s 20ms/step - loss: 11.4518 - mae: 11.4518\n",
            "Epoch 6/100\n",
            "1/1 [==============================] - 0s 30ms/step - loss: 10.7695 - mae: 10.7695\n",
            "Epoch 7/100\n",
            "1/1 [==============================] - 0s 29ms/step - loss: 10.0831 - mae: 10.0831\n",
            "Epoch 8/100\n",
            "1/1 [==============================] - 0s 26ms/step - loss: 9.3902 - mae: 9.3902\n",
            "Epoch 9/100\n",
            "1/1 [==============================] - 0s 23ms/step - loss: 8.6888 - mae: 8.6888\n",
            "Epoch 10/100\n",
            "1/1 [==============================] - 0s 31ms/step - loss: 7.9766 - mae: 7.9766\n",
            "Epoch 11/100\n",
            "1/1 [==============================] - 0s 23ms/step - loss: 7.2511 - mae: 7.2511\n",
            "Epoch 12/100\n",
            "1/1 [==============================] - 0s 25ms/step - loss: 6.7196 - mae: 6.7196\n",
            "Epoch 13/100\n",
            "1/1 [==============================] - 0s 23ms/step - loss: 6.8071 - mae: 6.8071\n",
            "Epoch 14/100\n",
            "1/1 [==============================] - 0s 19ms/step - loss: 7.0913 - mae: 7.0913\n",
            "Epoch 15/100\n",
            "1/1 [==============================] - 0s 20ms/step - loss: 7.2713 - mae: 7.2713\n",
            "Epoch 16/100\n",
            "1/1 [==============================] - 0s 17ms/step - loss: 7.4698 - mae: 7.4698\n",
            "Epoch 17/100\n",
            "1/1 [==============================] - 0s 21ms/step - loss: 7.4672 - mae: 7.4672\n",
            "Epoch 18/100\n",
            "1/1 [==============================] - 0s 17ms/step - loss: 7.3017 - mae: 7.3017\n",
            "Epoch 19/100\n",
            "1/1 [==============================] - 0s 24ms/step - loss: 7.0176 - mae: 7.0176\n",
            "Epoch 20/100\n",
            "1/1 [==============================] - 0s 18ms/step - loss: 6.8011 - mae: 6.8011\n",
            "Epoch 21/100\n",
            "1/1 [==============================] - 0s 15ms/step - loss: 6.5634 - mae: 6.5634\n",
            "Epoch 22/100\n",
            "1/1 [==============================] - 0s 18ms/step - loss: 6.3091 - mae: 6.3091\n",
            "Epoch 23/100\n",
            "1/1 [==============================] - 0s 38ms/step - loss: 6.0731 - mae: 6.0731\n",
            "Epoch 24/100\n",
            "1/1 [==============================] - 0s 27ms/step - loss: 6.0289 - mae: 6.0289\n",
            "Epoch 25/100\n",
            "1/1 [==============================] - 0s 31ms/step - loss: 5.9806 - mae: 5.9806\n",
            "Epoch 26/100\n",
            "1/1 [==============================] - 0s 28ms/step - loss: 6.0785 - mae: 6.0785\n",
            "Epoch 27/100\n",
            "1/1 [==============================] - 0s 28ms/step - loss: 6.1037 - mae: 6.1037\n",
            "Epoch 28/100\n",
            "1/1 [==============================] - 0s 26ms/step - loss: 6.0328 - mae: 6.0328\n",
            "Epoch 29/100\n",
            "1/1 [==============================] - 0s 17ms/step - loss: 5.8770 - mae: 5.8770\n",
            "Epoch 30/100\n",
            "1/1 [==============================] - 0s 14ms/step - loss: 5.6448 - mae: 5.6448\n",
            "Epoch 31/100\n",
            "1/1 [==============================] - 0s 25ms/step - loss: 5.5065 - mae: 5.5065\n",
            "Epoch 32/100\n",
            "1/1 [==============================] - 0s 24ms/step - loss: 5.4003 - mae: 5.4003\n",
            "Epoch 33/100\n",
            "1/1 [==============================] - 0s 19ms/step - loss: 5.3396 - mae: 5.3396\n",
            "Epoch 34/100\n",
            "1/1 [==============================] - 0s 18ms/step - loss: 5.3387 - mae: 5.3387\n",
            "Epoch 35/100\n",
            "1/1 [==============================] - 0s 19ms/step - loss: 5.2949 - mae: 5.2949\n",
            "Epoch 36/100\n",
            "1/1 [==============================] - 0s 19ms/step - loss: 5.2118 - mae: 5.2118\n",
            "Epoch 37/100\n",
            "1/1 [==============================] - 0s 14ms/step - loss: 5.0925 - mae: 5.0925\n",
            "Epoch 38/100\n",
            "1/1 [==============================] - 0s 22ms/step - loss: 4.9403 - mae: 4.9403\n",
            "Epoch 39/100\n",
            "1/1 [==============================] - 0s 18ms/step - loss: 4.7582 - mae: 4.7582\n",
            "Epoch 40/100\n",
            "1/1 [==============================] - 0s 13ms/step - loss: 4.6528 - mae: 4.6528\n",
            "Epoch 41/100\n",
            "1/1 [==============================] - 0s 22ms/step - loss: 4.5647 - mae: 4.5647\n",
            "Epoch 42/100\n",
            "1/1 [==============================] - 0s 12ms/step - loss: 4.4692 - mae: 4.4692\n",
            "Epoch 43/100\n",
            "1/1 [==============================] - 0s 15ms/step - loss: 4.4468 - mae: 4.4468\n",
            "Epoch 44/100\n",
            "1/1 [==============================] - 0s 10ms/step - loss: 4.3284 - mae: 4.3284\n",
            "Epoch 45/100\n",
            "1/1 [==============================] - 0s 10ms/step - loss: 4.1084 - mae: 4.1084\n",
            "Epoch 46/100\n",
            "1/1 [==============================] - 0s 12ms/step - loss: 3.9647 - mae: 3.9647\n",
            "Epoch 47/100\n",
            "1/1 [==============================] - 0s 11ms/step - loss: 3.8144 - mae: 3.8144\n",
            "Epoch 48/100\n",
            "1/1 [==============================] - 0s 10ms/step - loss: 3.6572 - mae: 3.6572\n",
            "Epoch 49/100\n",
            "1/1 [==============================] - 0s 15ms/step - loss: 3.5620 - mae: 3.5620\n",
            "Epoch 50/100\n",
            "1/1 [==============================] - 0s 27ms/step - loss: 3.4403 - mae: 3.4403\n",
            "Epoch 51/100\n",
            "1/1 [==============================] - 0s 26ms/step - loss: 3.2684 - mae: 3.2684\n",
            "Epoch 52/100\n",
            "1/1 [==============================] - 0s 24ms/step - loss: 3.0490 - mae: 3.0490\n",
            "Epoch 53/100\n",
            "1/1 [==============================] - 0s 15ms/step - loss: 2.8676 - mae: 2.8676\n",
            "Epoch 54/100\n",
            "1/1 [==============================] - 0s 17ms/step - loss: 2.7033 - mae: 2.7033\n",
            "Epoch 55/100\n",
            "1/1 [==============================] - 0s 20ms/step - loss: 2.6170 - mae: 2.6170\n",
            "Epoch 56/100\n",
            "1/1 [==============================] - 0s 17ms/step - loss: 2.3973 - mae: 2.3973\n",
            "Epoch 57/100\n",
            "1/1 [==============================] - 0s 15ms/step - loss: 2.1067 - mae: 2.1067\n",
            "Epoch 58/100\n",
            "1/1 [==============================] - 0s 24ms/step - loss: 1.9122 - mae: 1.9122\n",
            "Epoch 59/100\n",
            "1/1 [==============================] - 0s 20ms/step - loss: 1.7424 - mae: 1.7424\n",
            "Epoch 60/100\n",
            "1/1 [==============================] - 0s 15ms/step - loss: 1.5067 - mae: 1.5067\n",
            "Epoch 61/100\n",
            "1/1 [==============================] - 0s 15ms/step - loss: 1.2082 - mae: 1.2082\n",
            "Epoch 62/100\n",
            "1/1 [==============================] - 0s 12ms/step - loss: 1.0310 - mae: 1.0310\n",
            "Epoch 63/100\n",
            "1/1 [==============================] - 0s 12ms/step - loss: 0.8076 - mae: 0.8076\n",
            "Epoch 64/100\n",
            "1/1 [==============================] - 0s 43ms/step - loss: 0.4347 - mae: 0.4347\n",
            "Epoch 65/100\n",
            "1/1 [==============================] - 0s 15ms/step - loss: 0.3279 - mae: 0.3279\n",
            "Epoch 66/100\n",
            "1/1 [==============================] - 0s 12ms/step - loss: 0.1602 - mae: 0.1602\n",
            "Epoch 67/100\n",
            "1/1 [==============================] - 0s 13ms/step - loss: 0.5210 - mae: 0.5210\n",
            "Epoch 68/100\n",
            "1/1 [==============================] - 0s 13ms/step - loss: 0.6441 - mae: 0.6441\n",
            "Epoch 69/100\n",
            "1/1 [==============================] - 0s 18ms/step - loss: 0.6095 - mae: 0.6095\n",
            "Epoch 70/100\n",
            "1/1 [==============================] - 0s 25ms/step - loss: 0.7778 - mae: 0.7778\n",
            "Epoch 71/100\n",
            "1/1 [==============================] - 0s 19ms/step - loss: 0.7679 - mae: 0.7679\n",
            "Epoch 72/100\n",
            "1/1 [==============================] - 0s 16ms/step - loss: 0.7131 - mae: 0.7131\n",
            "Epoch 73/100\n",
            "1/1 [==============================] - 0s 21ms/step - loss: 0.7213 - mae: 0.7213\n",
            "Epoch 74/100\n",
            "1/1 [==============================] - 0s 29ms/step - loss: 0.5778 - mae: 0.5778\n",
            "Epoch 75/100\n",
            "1/1 [==============================] - 0s 14ms/step - loss: 0.5391 - mae: 0.5391\n",
            "Epoch 76/100\n",
            "1/1 [==============================] - 0s 19ms/step - loss: 0.4221 - mae: 0.4221\n",
            "Epoch 77/100\n",
            "1/1 [==============================] - 0s 15ms/step - loss: 0.2012 - mae: 0.2012\n",
            "Epoch 78/100\n",
            "1/1 [==============================] - 0s 18ms/step - loss: 0.1461 - mae: 0.1461\n",
            "Epoch 79/100\n",
            "1/1 [==============================] - 0s 23ms/step - loss: 0.1978 - mae: 0.1978\n",
            "Epoch 80/100\n",
            "1/1 [==============================] - 0s 18ms/step - loss: 0.2545 - mae: 0.2545\n",
            "Epoch 81/100\n",
            "1/1 [==============================] - 0s 28ms/step - loss: 0.3650 - mae: 0.3650\n",
            "Epoch 82/100\n",
            "1/1 [==============================] - 0s 27ms/step - loss: 0.3655 - mae: 0.3655\n",
            "Epoch 83/100\n",
            "1/1 [==============================] - 0s 20ms/step - loss: 0.4336 - mae: 0.4336\n",
            "Epoch 84/100\n",
            "1/1 [==============================] - 0s 18ms/step - loss: 0.4229 - mae: 0.4229\n",
            "Epoch 85/100\n",
            "1/1 [==============================] - 0s 16ms/step - loss: 0.2859 - mae: 0.2859\n",
            "Epoch 86/100\n",
            "1/1 [==============================] - 0s 44ms/step - loss: 0.2967 - mae: 0.2967\n",
            "Epoch 87/100\n",
            "1/1 [==============================] - 0s 36ms/step - loss: 0.1681 - mae: 0.1681\n",
            "Epoch 88/100\n",
            "1/1 [==============================] - 0s 23ms/step - loss: 0.1876 - mae: 0.1876\n",
            "Epoch 89/100\n",
            "1/1 [==============================] - 0s 30ms/step - loss: 0.1607 - mae: 0.1607\n",
            "Epoch 90/100\n",
            "1/1 [==============================] - 0s 12ms/step - loss: 0.2649 - mae: 0.2649\n",
            "Epoch 91/100\n",
            "1/1 [==============================] - 0s 14ms/step - loss: 0.2764 - mae: 0.2764\n",
            "Epoch 92/100\n",
            "1/1 [==============================] - 0s 32ms/step - loss: 0.2786 - mae: 0.2786\n",
            "Epoch 93/100\n",
            "1/1 [==============================] - 0s 34ms/step - loss: 0.2696 - mae: 0.2696\n",
            "Epoch 94/100\n",
            "1/1 [==============================] - 0s 17ms/step - loss: 0.1852 - mae: 0.1852\n",
            "Epoch 95/100\n",
            "1/1 [==============================] - 0s 16ms/step - loss: 0.1012 - mae: 0.1012\n",
            "Epoch 96/100\n",
            "1/1 [==============================] - 0s 22ms/step - loss: 0.1974 - mae: 0.1974\n",
            "Epoch 97/100\n",
            "1/1 [==============================] - 0s 24ms/step - loss: 0.1495 - mae: 0.1495\n",
            "Epoch 98/100\n",
            "1/1 [==============================] - 0s 18ms/step - loss: 0.2533 - mae: 0.2533\n",
            "Epoch 99/100\n",
            "1/1 [==============================] - 0s 16ms/step - loss: 0.3406 - mae: 0.3406\n",
            "Epoch 100/100\n",
            "1/1 [==============================] - 0s 30ms/step - loss: 0.2761 - mae: 0.2761\n"
          ]
        },
        {
          "output_type": "execute_result",
          "data": {
            "text/plain": [
              "<keras.callbacks.History at 0x7d272ae9a4d0>"
            ]
          },
          "metadata": {},
          "execution_count": 20
        }
      ]
    },
    {
      "cell_type": "code",
      "source": [
        "# Let's remind ourselves of the data\n",
        "X, y"
      ],
      "metadata": {
        "colab": {
          "base_uri": "https://localhost:8080/"
        },
        "id": "uIH0g55_qKWw",
        "outputId": "cd6f1a21-6986-499e-919d-e4332a16bfcf"
      },
      "execution_count": null,
      "outputs": [
        {
          "output_type": "execute_result",
          "data": {
            "text/plain": [
              "(<tf.Tensor: shape=(8,), dtype=float32, numpy=array([-7., -4., -1.,  2.,  5.,  8., 11., 14.], dtype=float32)>,\n",
              " <tf.Tensor: shape=(8,), dtype=float32, numpy=array([ 3.,  6.,  9., 12., 15., 18., 21., 24.], dtype=float32)>)"
            ]
          },
          "metadata": {},
          "execution_count": 21
        }
      ]
    },
    {
      "cell_type": "code",
      "source": [
        "# Let's try to make a prediction\n",
        "model.predict([17.0])"
      ],
      "metadata": {
        "colab": {
          "base_uri": "https://localhost:8080/"
        },
        "id": "DGC0A_Yqrx6L",
        "outputId": "177c5a35-6d1a-4e58-98bc-203b265c7acd"
      },
      "execution_count": null,
      "outputs": [
        {
          "output_type": "stream",
          "name": "stdout",
          "text": [
            "1/1 [==============================] - 0s 248ms/step\n"
          ]
        },
        {
          "output_type": "execute_result",
          "data": {
            "text/plain": [
              "array([[27.087973]], dtype=float32)"
            ]
          },
          "metadata": {},
          "execution_count": 22
        }
      ]
    },
    {
      "cell_type": "markdown",
      "source": [
        "## Evaluating a model\n",
        "\n",
        "In practive, a typical workflow you'll go through when building neural networks is:\n",
        "\n",
        "```\n",
        "Build a model -> fit it -> evaluate it -> tweak a model -> fit it -> evaluate it...\n",
        "```"
      ],
      "metadata": {
        "id": "Z6XBdXSYr238"
      }
    },
    {
      "cell_type": "markdown",
      "source": [
        "When it comes to evaluation... there are 3 words you should memorize:\n",
        "\n",
        "> \"Visualize, visualize, visualize\"\n",
        "\n",
        "It's a good idea to visualize:\n",
        "* The data - what data are we working with? What does it look like?\n",
        "* The model itself - what does our model look like?\n",
        "* The training o a model - how does a model perform while it learns?\n",
        "* The predictions of the model line up against the ground truth (the original labels)"
      ],
      "metadata": {
        "id": "RkeH-BNOuRZR"
      }
    },
    {
      "cell_type": "code",
      "source": [
        "# Make a bigger dataset\n",
        "X = tf.range(-100, 100, 4)\n",
        "X"
      ],
      "metadata": {
        "colab": {
          "base_uri": "https://localhost:8080/"
        },
        "id": "o3KMXNoMw5PX",
        "outputId": "01ab41b2-e10f-4854-ea82-cdde5003023a"
      },
      "execution_count": null,
      "outputs": [
        {
          "output_type": "execute_result",
          "data": {
            "text/plain": [
              "<tf.Tensor: shape=(50,), dtype=int32, numpy=\n",
              "array([-100,  -96,  -92,  -88,  -84,  -80,  -76,  -72,  -68,  -64,  -60,\n",
              "        -56,  -52,  -48,  -44,  -40,  -36,  -32,  -28,  -24,  -20,  -16,\n",
              "        -12,   -8,   -4,    0,    4,    8,   12,   16,   20,   24,   28,\n",
              "         32,   36,   40,   44,   48,   52,   56,   60,   64,   68,   72,\n",
              "         76,   80,   84,   88,   92,   96], dtype=int32)>"
            ]
          },
          "metadata": {},
          "execution_count": 23
        }
      ]
    },
    {
      "cell_type": "code",
      "source": [
        "# Make labels for the dataset\n",
        "y = X + 10\n",
        "y"
      ],
      "metadata": {
        "colab": {
          "base_uri": "https://localhost:8080/"
        },
        "id": "x7sHTuxVw-wG",
        "outputId": "4de4c139-ac18-4ced-d748-e36ac76b2543"
      },
      "execution_count": null,
      "outputs": [
        {
          "output_type": "execute_result",
          "data": {
            "text/plain": [
              "<tf.Tensor: shape=(50,), dtype=int32, numpy=\n",
              "array([-90, -86, -82, -78, -74, -70, -66, -62, -58, -54, -50, -46, -42,\n",
              "       -38, -34, -30, -26, -22, -18, -14, -10,  -6,  -2,   2,   6,  10,\n",
              "        14,  18,  22,  26,  30,  34,  38,  42,  46,  50,  54,  58,  62,\n",
              "        66,  70,  74,  78,  82,  86,  90,  94,  98, 102, 106], dtype=int32)>"
            ]
          },
          "metadata": {},
          "execution_count": 24
        }
      ]
    },
    {
      "cell_type": "code",
      "source": [
        "# Visualize the data\n",
        "import matplotlib.pyplot as plt\n",
        "plt.scatter(X, y)"
      ],
      "metadata": {
        "colab": {
          "base_uri": "https://localhost:8080/",
          "height": 447
        },
        "id": "UCWRK9AlxHe5",
        "outputId": "f34b6a55-973c-4cd3-a409-1f4f0e25f8f1"
      },
      "execution_count": null,
      "outputs": [
        {
          "output_type": "execute_result",
          "data": {
            "text/plain": [
              "<matplotlib.collections.PathCollection at 0x7d272bffd7e0>"
            ]
          },
          "metadata": {},
          "execution_count": 25
        },
        {
          "output_type": "display_data",
          "data": {
            "text/plain": [
              "<Figure size 640x480 with 1 Axes>"
            ],
            "image/png": "[encoded data removed]"
          },
          "metadata": {}
        }
      ]
    },
    {
      "cell_type": "markdown",
      "source": [
        "### The 3 sets...\n",
        "\n",
        "* **Training set** - the model learns from this data, which is typically 70-80% of the total data you habe available.\n",
        "* **Validation set** - the model gets tuned on this data, which is typically 10-15% of the data aailable.\n",
        "* **Test set** - the model gets evaluated on this data to test what is has learned, this set is typically 10-15% of the total data available."
      ],
      "metadata": {
        "id": "suG-sFhTxTJ-"
      }
    },
    {
      "cell_type": "code",
      "source": [
        "# Check the length of how many samples we have\n",
        "len(X)"
      ],
      "metadata": {
        "colab": {
          "base_uri": "https://localhost:8080/"
        },
        "id": "KXzE5qapyjwO",
        "outputId": "1197406d-f024-4af0-8442-22e474e4896c"
      },
      "execution_count": null,
      "outputs": [
        {
          "output_type": "execute_result",
          "data": {
            "text/plain": [
              "50"
            ]
          },
          "metadata": {},
          "execution_count": 26
        }
      ]
    },
    {
      "cell_type": "code",
      "source": [
        "# Splt the data into train and test sets\n",
        "X_train = X[:40] # first 40 are training samples (80% of the data)\n",
        "y_train = y[:40]\n",
        "\n",
        "X_test = X[40:] # last 10 are t esting samples (20% of the data)\n",
        "y_test = y[40:]\n",
        "\n",
        "len(X_train), len(X_test), len(y_train), len(y_test)"
      ],
      "metadata": {
        "colab": {
          "base_uri": "https://localhost:8080/"
        },
        "id": "9xciRcyTy85B",
        "outputId": "c01b7ce7-2aac-476f-ea25-5430a824b975"
      },
      "execution_count": null,
      "outputs": [
        {
          "output_type": "execute_result",
          "data": {
            "text/plain": [
              "(40, 10, 40, 10)"
            ]
          },
          "metadata": {},
          "execution_count": 27
        }
      ]
    },
    {
      "cell_type": "markdown",
      "source": [
        "### Visualising the data\n",
        "\n",
        "Now we've got our data in training and test sets... let's visualize it again!"
      ],
      "metadata": {
        "id": "Z612va6qzj2l"
      }
    },
    {
      "cell_type": "code",
      "source": [
        "plt.figure(figsize=(10, 7))\n",
        "# Plot training data in blue\n",
        "plt.scatter(X_train, y_train, c=\"b\", label=\"Training data\")\n",
        "# Plot test data in green\n",
        "plt.scatter(X_test, y_test, c=\"g\", label=\"Testing data\")\n",
        "# Show a legend\n",
        "plt.legend()"
      ],
      "metadata": {
        "colab": {
          "base_uri": "https://localhost:8080/",
          "height": 616
        },
        "id": "LWgcLE56z9ai",
        "outputId": "9bbf5459-9f3f-4bb7-b9fc-a5b43ef8aac4"
      },
      "execution_count": null,
      "outputs": [
        {
          "output_type": "execute_result",
          "data": {
            "text/plain": [
              "<matplotlib.legend.Legend at 0x7d2738a33280>"
            ]
          },
          "metadata": {},
          "execution_count": 28
        },
        {
          "output_type": "display_data",
          "data": {
            "text/plain": [
              "<Figure size 1000x700 with 1 Axes>"
            ],
            "image/png": "[encoded data removed]"
          },
          "metadata": {}
        }
      ]
    },
    {
      "cell_type": "code",
      "source": [
        "# Let's have a look at how to build a neural network for our data\n",
        "\n",
        "# 1. Create a model\n",
        "model = tf.keras.Sequential([\n",
        "    tf.keras.layers.Dense(1)\n",
        "])\n",
        "\n",
        "# 2. Compile the model\n",
        "model.compile(loss=tf.keras.losses.mae,\n",
        "              optimizer=tf.keras.optimizers.SGD(),\n",
        "              metrics=[\"mae\"])\n",
        "\n",
        "# 3. Fit the model\n",
        "model.fit(tf.expand_dims(X_train, axis=-1), y_train, epochs=100)"
      ],
      "metadata": {
        "colab": {
          "base_uri": "https://localhost:8080/"
        },
        "id": "EvvENRAm0TqZ",
        "outputId": "0b9728ae-e6c4-4422-e502-324d504a1dfd"
      },
      "execution_count": null,
      "outputs": [
        {
          "output_type": "stream",
          "name": "stdout",
          "text": [
            "Epoch 1/100\n",
            "2/2 [==============================] - 1s 14ms/step - loss: 101.8222 - mae: 101.8222\n",
            "Epoch 2/100\n",
            "2/2 [==============================] - 0s 10ms/step - loss: 66.3668 - mae: 66.3668\n",
            "Epoch 3/100\n",
            "2/2 [==============================] - 0s 18ms/step - loss: 29.0879 - mae: 29.0879\n",
            "Epoch 4/100\n",
            "2/2 [==============================] - 0s 9ms/step - loss: 10.3850 - mae: 10.3850\n",
            "Epoch 5/100\n",
            "2/2 [==============================] - 0s 11ms/step - loss: 11.4135 - mae: 11.4135\n",
            "Epoch 6/100\n",
            "2/2 [==============================] - 0s 10ms/step - loss: 10.5308 - mae: 10.5308\n",
            "Epoch 7/100\n",
            "2/2 [==============================] - 0s 20ms/step - loss: 9.4943 - mae: 9.4943\n",
            "Epoch 8/100\n",
            "2/2 [==============================] - 0s 10ms/step - loss: 9.3556 - mae: 9.3556\n",
            "Epoch 9/100\n",
            "2/2 [==============================] - 0s 15ms/step - loss: 7.5410 - mae: 7.5410\n",
            "Epoch 10/100\n",
            "2/2 [==============================] - 0s 11ms/step - loss: 12.6197 - mae: 12.6197\n",
            "Epoch 11/100\n",
            "2/2 [==============================] - 0s 14ms/step - loss: 10.3694 - mae: 10.3694\n",
            "Epoch 12/100\n",
            "2/2 [==============================] - 0s 14ms/step - loss: 18.5248 - mae: 18.5248\n",
            "Epoch 13/100\n",
            "2/2 [==============================] - 0s 21ms/step - loss: 9.7632 - mae: 9.7632\n",
            "Epoch 14/100\n",
            "2/2 [==============================] - 0s 11ms/step - loss: 15.6387 - mae: 15.6387\n",
            "Epoch 15/100\n",
            "2/2 [==============================] - 0s 8ms/step - loss: 11.7342 - mae: 11.7342\n",
            "Epoch 16/100\n",
            "2/2 [==============================] - 0s 21ms/step - loss: 8.4757 - mae: 8.4757\n",
            "Epoch 17/100\n",
            "2/2 [==============================] - 0s 7ms/step - loss: 13.4560 - mae: 13.4560\n",
            "Epoch 18/100\n",
            "2/2 [==============================] - 0s 8ms/step - loss: 11.2319 - mae: 11.2319\n",
            "Epoch 19/100\n",
            "2/2 [==============================] - 0s 19ms/step - loss: 18.3468 - mae: 18.3468\n",
            "Epoch 20/100\n",
            "2/2 [==============================] - 0s 9ms/step - loss: 15.0528 - mae: 15.0528\n",
            "Epoch 21/100\n",
            "2/2 [==============================] - 0s 14ms/step - loss: 10.9225 - mae: 10.9225\n",
            "Epoch 22/100\n",
            "2/2 [==============================] - 0s 10ms/step - loss: 8.6807 - mae: 8.6807\n",
            "Epoch 23/100\n",
            "2/2 [==============================] - 0s 9ms/step - loss: 9.6989 - mae: 9.6989\n",
            "Epoch 24/100\n",
            "2/2 [==============================] - 0s 16ms/step - loss: 8.6059 - mae: 8.6059\n",
            "Epoch 25/100\n",
            "2/2 [==============================] - 0s 9ms/step - loss: 11.5947 - mae: 11.5947\n",
            "Epoch 26/100\n",
            "2/2 [==============================] - 0s 29ms/step - loss: 15.1886 - mae: 15.1886\n",
            "Epoch 27/100\n",
            "2/2 [==============================] - 0s 19ms/step - loss: 12.0772 - mae: 12.0772\n",
            "Epoch 28/100\n",
            "2/2 [==============================] - 0s 18ms/step - loss: 13.3720 - mae: 13.3720\n",
            "Epoch 29/100\n",
            "2/2 [==============================] - 0s 16ms/step - loss: 9.6283 - mae: 9.6283\n",
            "Epoch 30/100\n",
            "2/2 [==============================] - 0s 10ms/step - loss: 17.1518 - mae: 17.1518\n",
            "Epoch 31/100\n",
            "2/2 [==============================] - 0s 9ms/step - loss: 22.9277 - mae: 22.9277\n",
            "Epoch 32/100\n",
            "2/2 [==============================] - 0s 17ms/step - loss: 7.9438 - mae: 7.9438\n",
            "Epoch 33/100\n",
            "2/2 [==============================] - 0s 17ms/step - loss: 14.1236 - mae: 14.1236\n",
            "Epoch 34/100\n",
            "2/2 [==============================] - 0s 12ms/step - loss: 12.3641 - mae: 12.3641\n",
            "Epoch 35/100\n",
            "2/2 [==============================] - 0s 24ms/step - loss: 8.2981 - mae: 8.2981\n",
            "Epoch 36/100\n",
            "2/2 [==============================] - 0s 9ms/step - loss: 10.5272 - mae: 10.5272\n",
            "Epoch 37/100\n",
            "2/2 [==============================] - 0s 11ms/step - loss: 10.1682 - mae: 10.1682\n",
            "Epoch 38/100\n",
            "2/2 [==============================] - 0s 6ms/step - loss: 11.3750 - mae: 11.3750\n",
            "Epoch 39/100\n",
            "2/2 [==============================] - 0s 33ms/step - loss: 14.7481 - mae: 14.7481\n",
            "Epoch 40/100\n",
            "2/2 [==============================] - 0s 12ms/step - loss: 12.8785 - mae: 12.8785\n",
            "Epoch 41/100\n",
            "2/2 [==============================] - 0s 16ms/step - loss: 9.2661 - mae: 9.2661\n",
            "Epoch 42/100\n",
            "2/2 [==============================] - 0s 36ms/step - loss: 11.0513 - mae: 11.0513\n",
            "Epoch 43/100\n",
            "2/2 [==============================] - 0s 22ms/step - loss: 8.3637 - mae: 8.3637\n",
            "Epoch 44/100\n",
            "2/2 [==============================] - 0s 38ms/step - loss: 13.1009 - mae: 13.1009\n",
            "Epoch 45/100\n",
            "2/2 [==============================] - 0s 18ms/step - loss: 13.6647 - mae: 13.6647\n",
            "Epoch 46/100\n",
            "2/2 [==============================] - 0s 11ms/step - loss: 8.2945 - mae: 8.2945\n",
            "Epoch 47/100\n",
            "2/2 [==============================] - 0s 17ms/step - loss: 8.7647 - mae: 8.7647\n",
            "Epoch 48/100\n",
            "2/2 [==============================] - 0s 15ms/step - loss: 10.0696 - mae: 10.0696\n",
            "Epoch 49/100\n",
            "2/2 [==============================] - 0s 70ms/step - loss: 8.5499 - mae: 8.5499\n",
            "Epoch 50/100\n",
            "2/2 [==============================] - 0s 22ms/step - loss: 9.0571 - mae: 9.0571\n",
            "Epoch 51/100\n",
            "2/2 [==============================] - 0s 19ms/step - loss: 9.4070 - mae: 9.4070\n",
            "Epoch 52/100\n",
            "2/2 [==============================] - 0s 23ms/step - loss: 14.2220 - mae: 14.2220\n",
            "Epoch 53/100\n",
            "2/2 [==============================] - 0s 20ms/step - loss: 14.8819 - mae: 14.8819\n",
            "Epoch 54/100\n",
            "2/2 [==============================] - 0s 22ms/step - loss: 14.8168 - mae: 14.8168\n",
            "Epoch 55/100\n",
            "2/2 [==============================] - 0s 19ms/step - loss: 12.5990 - mae: 12.5990\n",
            "Epoch 56/100\n",
            "2/2 [==============================] - 0s 15ms/step - loss: 7.6060 - mae: 7.6060\n",
            "Epoch 57/100\n",
            "2/2 [==============================] - 0s 26ms/step - loss: 8.8337 - mae: 8.8337\n",
            "Epoch 58/100\n",
            "2/2 [==============================] - 0s 13ms/step - loss: 8.4167 - mae: 8.4167\n",
            "Epoch 59/100\n",
            "2/2 [==============================] - 0s 10ms/step - loss: 9.2165 - mae: 9.2165\n",
            "Epoch 60/100\n",
            "2/2 [==============================] - 0s 10ms/step - loss: 9.1556 - mae: 9.1556\n",
            "Epoch 61/100\n",
            "2/2 [==============================] - 0s 10ms/step - loss: 10.7036 - mae: 10.7036\n",
            "Epoch 62/100\n",
            "2/2 [==============================] - 0s 17ms/step - loss: 7.4589 - mae: 7.4589\n",
            "Epoch 63/100\n",
            "2/2 [==============================] - 0s 22ms/step - loss: 10.5368 - mae: 10.5368\n",
            "Epoch 64/100\n",
            "2/2 [==============================] - 0s 12ms/step - loss: 12.1323 - mae: 12.1323\n",
            "Epoch 65/100\n",
            "2/2 [==============================] - 0s 12ms/step - loss: 9.4692 - mae: 9.4692\n",
            "Epoch 66/100\n",
            "2/2 [==============================] - 0s 28ms/step - loss: 11.5351 - mae: 11.5351\n",
            "Epoch 67/100\n",
            "2/2 [==============================] - 0s 23ms/step - loss: 8.0612 - mae: 8.0612\n",
            "Epoch 68/100\n",
            "2/2 [==============================] - 0s 11ms/step - loss: 8.5903 - mae: 8.5903\n",
            "Epoch 69/100\n",
            "2/2 [==============================] - 0s 46ms/step - loss: 12.2733 - mae: 12.2733\n",
            "Epoch 70/100\n",
            "2/2 [==============================] - 0s 24ms/step - loss: 8.9815 - mae: 8.9815\n",
            "Epoch 71/100\n",
            "2/2 [==============================] - 0s 12ms/step - loss: 9.9560 - mae: 9.9560\n",
            "Epoch 72/100\n",
            "2/2 [==============================] - 0s 14ms/step - loss: 9.9948 - mae: 9.9948\n",
            "Epoch 73/100\n",
            "2/2 [==============================] - 0s 7ms/step - loss: 12.4599 - mae: 12.4599\n",
            "Epoch 74/100\n",
            "2/2 [==============================] - 0s 8ms/step - loss: 10.5962 - mae: 10.5962\n",
            "Epoch 75/100\n",
            "2/2 [==============================] - 0s 7ms/step - loss: 9.6530 - mae: 9.6530\n",
            "Epoch 76/100\n",
            "2/2 [==============================] - 0s 18ms/step - loss: 11.1198 - mae: 11.1198\n",
            "Epoch 77/100\n",
            "2/2 [==============================] - 0s 8ms/step - loss: 8.3003 - mae: 8.3003\n",
            "Epoch 78/100\n",
            "2/2 [==============================] - 0s 10ms/step - loss: 8.9927 - mae: 8.9927\n",
            "Epoch 79/100\n",
            "2/2 [==============================] - 0s 9ms/step - loss: 19.8023 - mae: 19.8023\n",
            "Epoch 80/100\n",
            "2/2 [==============================] - 0s 12ms/step - loss: 17.8290 - mae: 17.8290\n",
            "Epoch 81/100\n",
            "2/2 [==============================] - 0s 25ms/step - loss: 7.1037 - mae: 7.1037\n",
            "Epoch 82/100\n",
            "2/2 [==============================] - 0s 16ms/step - loss: 10.4312 - mae: 10.4312\n",
            "Epoch 83/100\n",
            "2/2 [==============================] - 0s 12ms/step - loss: 9.8546 - mae: 9.8546\n",
            "Epoch 84/100\n",
            "2/2 [==============================] - 0s 7ms/step - loss: 7.9600 - mae: 7.9600\n",
            "Epoch 85/100\n",
            "2/2 [==============================] - 0s 11ms/step - loss: 9.4683 - mae: 9.4683\n",
            "Epoch 86/100\n",
            "2/2 [==============================] - 0s 16ms/step - loss: 9.5120 - mae: 9.5120\n",
            "Epoch 87/100\n",
            "2/2 [==============================] - 0s 15ms/step - loss: 11.4529 - mae: 11.4529\n",
            "Epoch 88/100\n",
            "2/2 [==============================] - 0s 29ms/step - loss: 9.9545 - mae: 9.9545\n",
            "Epoch 89/100\n",
            "2/2 [==============================] - 0s 12ms/step - loss: 7.2763 - mae: 7.2763\n",
            "Epoch 90/100\n",
            "2/2 [==============================] - 0s 12ms/step - loss: 12.7127 - mae: 12.7127\n",
            "Epoch 91/100\n",
            "2/2 [==============================] - 0s 15ms/step - loss: 7.3351 - mae: 7.3351\n",
            "Epoch 92/100\n",
            "2/2 [==============================] - 0s 7ms/step - loss: 7.6991 - mae: 7.6991\n",
            "Epoch 93/100\n",
            "2/2 [==============================] - 0s 11ms/step - loss: 7.1430 - mae: 7.1430\n",
            "Epoch 94/100\n",
            "2/2 [==============================] - 0s 14ms/step - loss: 12.5613 - mae: 12.5613\n",
            "Epoch 95/100\n",
            "2/2 [==============================] - 0s 16ms/step - loss: 9.9400 - mae: 9.9400\n",
            "Epoch 96/100\n",
            "2/2 [==============================] - 0s 9ms/step - loss: 9.1656 - mae: 9.1656\n",
            "Epoch 97/100\n",
            "2/2 [==============================] - 0s 10ms/step - loss: 12.1101 - mae: 12.1101\n",
            "Epoch 98/100\n",
            "2/2 [==============================] - 0s 9ms/step - loss: 9.0845 - mae: 9.0845\n",
            "Epoch 99/100\n",
            "2/2 [==============================] - 0s 16ms/step - loss: 8.5209 - mae: 8.5209\n",
            "Epoch 100/100\n",
            "2/2 [==============================] - 0s 18ms/step - loss: 14.4770 - mae: 14.4770\n"
          ]
        },
        {
          "output_type": "execute_result",
          "data": {
            "text/plain": [
              "<keras.callbacks.History at 0x7d273861f370>"
            ]
          },
          "metadata": {},
          "execution_count": 29
        }
      ]
    },
    {
      "cell_type": "markdown",
      "source": [
        "### Visualizing the model"
      ],
      "metadata": {
        "id": "2ckBKkg4j8Cr"
      }
    },
    {
      "cell_type": "code",
      "source": [
        "model.summary()"
      ],
      "metadata": {
        "colab": {
          "base_uri": "https://localhost:8080/"
        },
        "id": "95IpJ2OIk3fx",
        "outputId": "27448c4a-dd37-4625-80bb-9bb2d9474af4"
      },
      "execution_count": null,
      "outputs": [
        {
          "output_type": "stream",
          "name": "stdout",
          "text": [
            "Model: \"sequential_3\"\n",
            "_________________________________________________________________\n",
            " Layer (type)                Output Shape              Param #   \n",
            "=================================================================\n",
            " dense_4 (Dense)             (None, 1)                 2         \n",
            "                                                                 \n",
            "=================================================================\n",
            "Total params: 2\n",
            "Trainable params: 2\n",
            "Non-trainable params: 0\n",
            "_________________________________________________________________\n"
          ]
        }
      ]
    },
    {
      "cell_type": "code",
      "source": [
        "model.build()"
      ],
      "metadata": {
        "id": "lSoAFd4ik4tV"
      },
      "execution_count": null,
      "outputs": []
    },
    {
      "cell_type": "code",
      "source": [
        "X[0].shape"
      ],
      "metadata": {
        "colab": {
          "base_uri": "https://localhost:8080/"
        },
        "id": "yXjrankkm09E",
        "outputId": "06e9d89b-4d0b-4edf-9130-3ff995d36f5d"
      },
      "execution_count": null,
      "outputs": [
        {
          "output_type": "execute_result",
          "data": {
            "text/plain": [
              "TensorShape([])"
            ]
          },
          "metadata": {},
          "execution_count": 32
        }
      ]
    },
    {
      "cell_type": "code",
      "source": [
        "X[0], y[0]"
      ],
      "metadata": {
        "colab": {
          "base_uri": "https://localhost:8080/"
        },
        "id": "seUl6oHbm4Ql",
        "outputId": "3e1dde2a-1c9a-4d73-bc86-ad4e979a757d"
      },
      "execution_count": null,
      "outputs": [
        {
          "output_type": "execute_result",
          "data": {
            "text/plain": [
              "(<tf.Tensor: shape=(), dtype=int32, numpy=-100>,\n",
              " <tf.Tensor: shape=(), dtype=int32, numpy=-90>)"
            ]
          },
          "metadata": {},
          "execution_count": 33
        }
      ]
    },
    {
      "cell_type": "code",
      "source": [
        "# Let's create a model which builds automatically by defining the input_shape argument\n",
        "tf.random.set_seed(42)\n",
        "\n",
        "# 1.  Create a model (same as above)\n",
        "model = tf.keras.Sequential([\n",
        "    tf.keras.layers.Dense(10, input_shape=[1], name=\"input_layer\"),\n",
        "    tf.keras.layers.Dense(1, name=\"output_layer\")\n",
        "], name=\"model_1\")\n",
        "\n",
        "# 2. Compile the model\n",
        "model.compile(loss=tf.keras.losses.mae,\n",
        "              optimizer=tf.keras.optimizers.SGD(),\n",
        "              metrics=[\"mae\"])"
      ],
      "metadata": {
        "id": "iKxRVczUmPlu"
      },
      "execution_count": null,
      "outputs": []
    },
    {
      "cell_type": "code",
      "source": [
        "model.summary()"
      ],
      "metadata": {
        "colab": {
          "base_uri": "https://localhost:8080/"
        },
        "id": "pisgL2YFnHkw",
        "outputId": "7cc86891-2430-4696-b214-928e9f9e0425"
      },
      "execution_count": null,
      "outputs": [
        {
          "output_type": "stream",
          "name": "stdout",
          "text": [
            "Model: \"model_1\"\n",
            "_________________________________________________________________\n",
            " Layer (type)                Output Shape              Param #   \n",
            "=================================================================\n",
            " input_layer (Dense)         (None, 10)                20        \n",
            "                                                                 \n",
            " output_layer (Dense)        (None, 1)                 11        \n",
            "                                                                 \n",
            "=================================================================\n",
            "Total params: 31\n",
            "Trainable params: 31\n",
            "Non-trainable params: 0\n",
            "_________________________________________________________________\n"
          ]
        }
      ]
    },
    {
      "cell_type": "markdown",
      "source": [
        "* Total params - total number of parameters in the model.\n",
        "* Trainable parameters - these are the parameters (patterns) the model can update as it trains.\n",
        "* Non-trainable params - these parameters aren't updated during training (this is typical when you bring parameters from other models during **transfer learning**).\n",
        "\n",
        "📚 **Resource:** For a more in-depth overview of the trainable parameters within a layer, check out MIT's deep learning video.\n",
        "\n",
        "⚒ **Exercise:** Try plaiyng around with the number of hidden units in the dense layer, see how that effects the number of parameters (total and trainable) by calling `model.summary()`."
      ],
      "metadata": {
        "id": "5di9RlHonImk"
      }
    },
    {
      "cell_type": "code",
      "source": [
        "# Let's fit our model to the training data\n",
        "model.fit(X_train, y_train, epochs=100, verbose=0)"
      ],
      "metadata": {
        "colab": {
          "base_uri": "https://localhost:8080/"
        },
        "id": "NJzZGm7-nz54",
        "outputId": "be855c09-6e46-4f14-bb51-93f7a3cc5245"
      },
      "execution_count": null,
      "outputs": [
        {
          "output_type": "execute_result",
          "data": {
            "text/plain": [
              "<keras.callbacks.History at 0x7d27386e42e0>"
            ]
          },
          "metadata": {},
          "execution_count": 36
        }
      ]
    },
    {
      "cell_type": "code",
      "source": [
        "# Get a summary of our model\n",
        "model.summary()"
      ],
      "metadata": {
        "colab": {
          "base_uri": "https://localhost:8080/"
        },
        "id": "lGBl8cDpqOTZ",
        "outputId": "1c110f1e-c93e-4410-f63c-695c393b69e5"
      },
      "execution_count": null,
      "outputs": [
        {
          "output_type": "stream",
          "name": "stdout",
          "text": [
            "Model: \"model_1\"\n",
            "_________________________________________________________________\n",
            " Layer (type)                Output Shape              Param #   \n",
            "=================================================================\n",
            " input_layer (Dense)         (None, 10)                20        \n",
            "                                                                 \n",
            " output_layer (Dense)        (None, 1)                 11        \n",
            "                                                                 \n",
            "=================================================================\n",
            "Total params: 31\n",
            "Trainable params: 31\n",
            "Non-trainable params: 0\n",
            "_________________________________________________________________\n"
          ]
        }
      ]
    },
    {
      "cell_type": "code",
      "source": [
        "from tensorflow.keras.utils import plot_model\n",
        "\n",
        "plot_model(model=model, show_shapes=True)"
      ],
      "metadata": {
        "colab": {
          "base_uri": "https://localhost:8080/",
          "height": 312
        },
        "id": "LpVu94IRyA83",
        "outputId": "a13753e1-daf2-4501-ed71-bb77c4e5395d"
      },
      "execution_count": null,
      "outputs": [
        {
          "output_type": "execute_result",
          "data": {
            "image/png": "[encoded data removed]",
            "text/plain": [
              "<IPython.core.display.Image object>"
            ]
          },
          "metadata": {},
          "execution_count": 38
        }
      ]
    },
    {
      "cell_type": "markdown",
      "source": [
        "### Visualizing our model's predictions\n",
        "\n",
        "To visualize predictions, it's a good idea to plot theam against the ground truth labels.\n",
        "\n",
        "Often you'll see this in the form of `y_test` or `y_true` versus `y_pred` (ground truth versus your model's predictions)."
      ],
      "metadata": {
        "id": "hb49ldURyyXy"
      }
    },
    {
      "cell_type": "code",
      "source": [
        "# Make some predictions\n",
        "y_pred = model.predict(X_test)\n",
        "y_pred"
      ],
      "metadata": {
        "colab": {
          "base_uri": "https://localhost:8080/"
        },
        "id": "Ww5J7K610h90",
        "outputId": "940d70d7-fa31-4ebe-b7b1-931242a5614f"
      },
      "execution_count": null,
      "outputs": [
        {
          "output_type": "stream",
          "name": "stdout",
          "text": [
            "1/1 [==============================] - 0s 343ms/step\n"
          ]
        },
        {
          "output_type": "execute_result",
          "data": {
            "text/plain": [
              "array([[ 76.025856],\n",
              "       [ 80.97686 ],\n",
              "       [ 85.92785 ],\n",
              "       [ 90.87886 ],\n",
              "       [ 95.82984 ],\n",
              "       [100.780846],\n",
              "       [105.73185 ],\n",
              "       [110.68284 ],\n",
              "       [115.63384 ],\n",
              "       [120.58483 ]], dtype=float32)"
            ]
          },
          "metadata": {},
          "execution_count": 39
        }
      ]
    },
    {
      "cell_type": "code",
      "source": [
        "y_test"
      ],
      "metadata": {
        "colab": {
          "base_uri": "https://localhost:8080/"
        },
        "id": "sgIKbCHY1ViP",
        "outputId": "b3357be9-8dde-4dd6-8941-60caa1d3bab1"
      },
      "execution_count": null,
      "outputs": [
        {
          "output_type": "execute_result",
          "data": {
            "text/plain": [
              "<tf.Tensor: shape=(10,), dtype=int32, numpy=array([ 70,  74,  78,  82,  86,  90,  94,  98, 102, 106], dtype=int32)>"
            ]
          },
          "metadata": {},
          "execution_count": 40
        }
      ]
    },
    {
      "cell_type": "markdown",
      "source": [
        "⌨ **Note:** If you feel like you're going to reuse some kind of functionality in the future, it's a good ideo to turn it into a function."
      ],
      "metadata": {
        "id": "wo5yGkFD1oTQ"
      }
    },
    {
      "cell_type": "code",
      "source": [
        "# Let's create a plotting function\n",
        "def plot_predictions(train_data=X_train,\n",
        "                     train_labels=y_train,\n",
        "                     test_data=X_test,\n",
        "                     test_labels=y_test,\n",
        "                     predictions=y_pred):\n",
        "    \"\"\"\n",
        "    Plots training data, test data and compares predictions to ground truth labels.\n",
        "    \"\"\"\n",
        "    plt.figure(figsize=(10, 7))\n",
        "    # Plot training data in blue\n",
        "    plt.scatter(train_data, train_labels, c=\"b\", label=\"Training data\")\n",
        "    # Plot testing data in green\n",
        "    plt.scatter(test_data, test_labels, c=\"g\", label=\"Test data\")\n",
        "    # Plot model's predictions in red\n",
        "    plt.scatter(test_data, predictions, c=\"r\", label=\"Predictions\")\n",
        "    # Show the legend\n",
        "    plt.legend()"
      ],
      "metadata": {
        "id": "wH7odsQU1XrK"
      },
      "execution_count": null,
      "outputs": []
    },
    {
      "cell_type": "code",
      "source": [
        "plot_predictions(train_data=X_train,\n",
        "                 train_labels=y_train,\n",
        "                 test_data=X_test,\n",
        "                 test_labels=y_test,\n",
        "                 predictions=y_pred)"
      ],
      "metadata": {
        "colab": {
          "base_uri": "https://localhost:8080/",
          "height": 599
        },
        "id": "LclSG7O33kPr",
        "outputId": "861898d2-306e-466d-f91c-88fcac0407d2"
      },
      "execution_count": null,
      "outputs": [
        {
          "output_type": "display_data",
          "data": {
            "text/plain": [
              "<Figure size 1000x700 with 1 Axes>"
            ],
            "image/png": "[encoded data removed]"
          },
          "metadata": {}
        }
      ]
    },
    {
      "cell_type": "markdown",
      "source": [
        "### Evaluating our model's predictions with regression evaluation metric\n",
        "\n",
        "Depending o the problem you're working on, there will be diferent evaluation metrics to evaluate your model's performance.\n",
        "\n",
        "Since we're working on a regression, two of the main metrics:\n",
        "* MAE - mean absolute error, \"on average, how wring is each o my model's predictions\"\n",
        "* MSE - mean square error, \"square the average errors\"\n"
      ],
      "metadata": {
        "id": "OR4XP8-03m4q"
      }
    },
    {
      "cell_type": "code",
      "source": [
        "# Evaluate the model on the test\n",
        "model.evaluate(X_test, y_test)"
      ],
      "metadata": {
        "colab": {
          "base_uri": "https://localhost:8080/"
        },
        "id": "yk9JuZ4U5BF_",
        "outputId": "659a0ed1-e899-41bb-ae20-ecd26fb4ee10"
      },
      "execution_count": null,
      "outputs": [
        {
          "output_type": "stream",
          "name": "stdout",
          "text": [
            "1/1 [==============================] - 1s 574ms/step - loss: 10.3053 - mae: 10.3053\n"
          ]
        },
        {
          "output_type": "execute_result",
          "data": {
            "text/plain": [
              "[10.30534839630127, 10.30534839630127]"
            ]
          },
          "metadata": {},
          "execution_count": 43
        }
      ]
    },
    {
      "cell_type": "code",
      "source": [
        "# Calculate the mean absolute error\n",
        "mae = tf.metrics.mean_absolute_error(y_true=y_test,\n",
        "                                     y_pred=tf.constant(y_pred))\n",
        "mae"
      ],
      "metadata": {
        "colab": {
          "base_uri": "https://localhost:8080/"
        },
        "id": "AZjVbnDjEL_N",
        "outputId": "dd4bda73-c1ad-44f9-8356-599b20e7fb67"
      },
      "execution_count": null,
      "outputs": [
        {
          "output_type": "execute_result",
          "data": {
            "text/plain": [
              "<tf.Tensor: shape=(10,), dtype=float32, numpy=\n",
              "array([13.584486, 11.209256, 10.01443 , 10.175772, 11.531937, 14.068507,\n",
              "       17.78548 , 22.682838, 27.633844, 32.58483 ], dtype=float32)>"
            ]
          },
          "metadata": {},
          "execution_count": 44
        }
      ]
    },
    {
      "cell_type": "code",
      "source": [
        "tf.constant(y_pred)"
      ],
      "metadata": {
        "colab": {
          "base_uri": "https://localhost:8080/"
        },
        "id": "SlP3LBWuDo3h",
        "outputId": "b2efc0a2-f98f-4885-92a1-7a174642596e"
      },
      "execution_count": null,
      "outputs": [
        {
          "output_type": "execute_result",
          "data": {
            "text/plain": [
              "<tf.Tensor: shape=(10, 1), dtype=float32, numpy=\n",
              "array([[ 76.025856],\n",
              "       [ 80.97686 ],\n",
              "       [ 85.92785 ],\n",
              "       [ 90.87886 ],\n",
              "       [ 95.82984 ],\n",
              "       [100.780846],\n",
              "       [105.73185 ],\n",
              "       [110.68284 ],\n",
              "       [115.63384 ],\n",
              "       [120.58483 ]], dtype=float32)>"
            ]
          },
          "metadata": {},
          "execution_count": 45
        }
      ]
    },
    {
      "cell_type": "code",
      "source": [
        "y_test"
      ],
      "metadata": {
        "colab": {
          "base_uri": "https://localhost:8080/"
        },
        "id": "xQERyOp0EHVW",
        "outputId": "7ed7c19f-29ea-4d02-9a07-3e02b43b9321"
      },
      "execution_count": null,
      "outputs": [
        {
          "output_type": "execute_result",
          "data": {
            "text/plain": [
              "<tf.Tensor: shape=(10,), dtype=int32, numpy=array([ 70,  74,  78,  82,  86,  90,  94,  98, 102, 106], dtype=int32)>"
            ]
          },
          "metadata": {},
          "execution_count": 46
        }
      ]
    },
    {
      "cell_type": "code",
      "source": [
        "tf.squeeze(y_pred)"
      ],
      "metadata": {
        "colab": {
          "base_uri": "https://localhost:8080/"
        },
        "id": "p_768ROCEH2K",
        "outputId": "cafc6590-87f9-49c4-e09b-0a0e2e949abc"
      },
      "execution_count": null,
      "outputs": [
        {
          "output_type": "execute_result",
          "data": {
            "text/plain": [
              "<tf.Tensor: shape=(10,), dtype=float32, numpy=\n",
              "array([ 76.025856,  80.97686 ,  85.92785 ,  90.87886 ,  95.82984 ,\n",
              "       100.780846, 105.73185 , 110.68284 , 115.63384 , 120.58483 ],\n",
              "      dtype=float32)>"
            ]
          },
          "metadata": {},
          "execution_count": 47
        }
      ]
    },
    {
      "cell_type": "code",
      "source": [
        "# Calculate the mean absolute error\n",
        "mae = tf.metrics.mean_absolute_error(y_true=y_test,\n",
        "                                     y_pred=tf.squeeze(y_pred))\n",
        "mae"
      ],
      "metadata": {
        "colab": {
          "base_uri": "https://localhost:8080/"
        },
        "id": "SvMaaA65FZk2",
        "outputId": "303eea20-f7d8-46d7-9912-7e4b6083bb85"
      },
      "execution_count": null,
      "outputs": [
        {
          "output_type": "execute_result",
          "data": {
            "text/plain": [
              "<tf.Tensor: shape=(), dtype=float32, numpy=10.305347>"
            ]
          },
          "metadata": {},
          "execution_count": 48
        }
      ]
    },
    {
      "cell_type": "code",
      "source": [
        "# Calculate the mean square error\n",
        "mse = tf.metrics.mean_squared_error(y_true=y_test,\n",
        "                                   y_pred=tf.squeeze(y_pred))\n",
        "mse"
      ],
      "metadata": {
        "colab": {
          "base_uri": "https://localhost:8080/"
        },
        "id": "AST6jJZ-Fou_",
        "outputId": "a70f0862-1f89-4989-ad27-40c5a23c74eb"
      },
      "execution_count": null,
      "outputs": [
        {
          "output_type": "execute_result",
          "data": {
            "text/plain": [
              "<tf.Tensor: shape=(), dtype=float32, numpy=113.66145>"
            ]
          },
          "metadata": {},
          "execution_count": 49
        }
      ]
    },
    {
      "cell_type": "code",
      "source": [
        "# Make some functions to reuse MAE and MSE\n",
        "def mae(y_true, y_pred):\n",
        "    return tf.metrics.mean_absolute_error(y_true=y_true,\n",
        "                                          y_pred=tf.squeeze(y_pred))\n",
        "\n",
        "def mse(y_true, y_pred):\n",
        "    return tf.metrics.mean_squared_error(y_true=y_true,\n",
        "                                         y_pred=tf.squeeze(y_pred))"
      ],
      "metadata": {
        "id": "rzaVvfTtGwY-"
      },
      "execution_count": null,
      "outputs": []
    },
    {
      "cell_type": "markdown",
      "source": [
        "### Running experimetns to improve our model\n",
        "\n",
        "```\n",
        "Build a model -> fit it -> evaluate it -> tweak it -> fit it -> evaluate it -> tweak it -> fit it -> evaluate it ...\n",
        "```\n",
        "\n",
        "1. Get more data - get more examples for your model to train on (more opportunities to learn patterns or relationships between features and labels).\n",
        "2. Make your model larger (using a more complex model) - this might come in the form of more layers or more hidden units in each layer.\n",
        "3. Train for longer - give your model more of a chance to find patterns in the data.\n",
        "\n",
        "Let's do 3 modelling experiments:\n",
        "\n",
        "1. `model_1` - same as the original model, 1 layer, trained for 100 epochs.\n",
        "2. `model_2` - 2 layers, trained for 100 epochs\n",
        "3. `model_3` - 2 layers, trained for 500 epochs\n",
        "\n",
        "**Build `model_1`**"
      ],
      "metadata": {
        "id": "f5XyuTVuH8wG"
      }
    },
    {
      "cell_type": "code",
      "source": [
        "# Set random seed\n",
        "tf.random.set_seed(42)\n",
        "\n",
        "# 1. Create the model\n",
        "model_1 = tf.keras.Sequential([\n",
        "    tf.keras.layers.Dense(1)\n",
        "])\n",
        "\n",
        "# 2. Compile the model\n",
        "model_1.compile(loss=tf.keras.losses.mae,\n",
        "                optimizer=tf.keras.optimizers.SGD(),\n",
        "                metrics=[\"mae\"])\n",
        "\n",
        "# 3. Fit the model\n",
        "model_1.fit(tf.expand_dims(X_train, axis=-1), y_train, epochs=100)"
      ],
      "metadata": {
        "colab": {
          "base_uri": "https://localhost:8080/"
        },
        "id": "9W4WnJJvx949",
        "outputId": "f0d7ac81-8bbc-4de0-d46c-65993a2cffbe"
      },
      "execution_count": null,
      "outputs": [
        {
          "output_type": "stream",
          "name": "stdout",
          "text": [
            "Epoch 1/100\n",
            "2/2 [==============================] - 1s 34ms/step - loss: 100.8349 - mae: 100.8349\n",
            "Epoch 2/100\n",
            "2/2 [==============================] - 0s 13ms/step - loss: 65.3794 - mae: 65.3794\n",
            "Epoch 3/100\n",
            "2/2 [==============================] - 0s 13ms/step - loss: 28.1466 - mae: 28.1466\n",
            "Epoch 4/100\n",
            "2/2 [==============================] - 0s 13ms/step - loss: 10.7172 - mae: 10.7172\n",
            "Epoch 5/100\n",
            "2/2 [==============================] - 0s 21ms/step - loss: 11.7965 - mae: 11.7965\n",
            "Epoch 6/100\n",
            "2/2 [==============================] - 0s 16ms/step - loss: 10.9141 - mae: 10.9141\n",
            "Epoch 7/100\n",
            "2/2 [==============================] - 0s 10ms/step - loss: 8.7299 - mae: 8.7299\n",
            "Epoch 8/100\n",
            "2/2 [==============================] - 0s 13ms/step - loss: 7.7677 - mae: 7.7677\n",
            "Epoch 9/100\n",
            "2/2 [==============================] - 0s 18ms/step - loss: 19.9833 - mae: 19.9833\n",
            "Epoch 10/100\n",
            "2/2 [==============================] - 0s 18ms/step - loss: 13.7379 - mae: 13.7379\n",
            "Epoch 11/100\n",
            "2/2 [==============================] - 0s 17ms/step - loss: 11.8157 - mae: 11.8157\n",
            "Epoch 12/100\n",
            "2/2 [==============================] - 0s 20ms/step - loss: 16.4147 - mae: 16.4147\n",
            "Epoch 13/100\n",
            "2/2 [==============================] - 0s 23ms/step - loss: 11.9573 - mae: 11.9573\n",
            "Epoch 14/100\n",
            "2/2 [==============================] - 0s 23ms/step - loss: 13.8828 - mae: 13.8828\n",
            "Epoch 15/100\n",
            "2/2 [==============================] - 0s 16ms/step - loss: 11.2724 - mae: 11.2724\n",
            "Epoch 16/100\n",
            "2/2 [==============================] - 0s 13ms/step - loss: 8.6149 - mae: 8.6149\n",
            "Epoch 17/100\n",
            "2/2 [==============================] - 0s 10ms/step - loss: 13.7764 - mae: 13.7764\n",
            "Epoch 18/100\n",
            "2/2 [==============================] - 0s 18ms/step - loss: 11.6319 - mae: 11.6319\n",
            "Epoch 19/100\n",
            "2/2 [==============================] - 0s 11ms/step - loss: 17.7703 - mae: 17.7703\n",
            "Epoch 20/100\n",
            "2/2 [==============================] - 0s 22ms/step - loss: 14.9061 - mae: 14.9061\n",
            "Epoch 21/100\n",
            "2/2 [==============================] - 0s 10ms/step - loss: 10.8108 - mae: 10.8108\n",
            "Epoch 22/100\n",
            "2/2 [==============================] - 0s 12ms/step - loss: 8.5556 - mae: 8.5556\n",
            "Epoch 23/100\n",
            "2/2 [==============================] - 0s 15ms/step - loss: 9.7951 - mae: 9.7951\n",
            "Epoch 24/100\n",
            "2/2 [==============================] - 0s 13ms/step - loss: 10.9123 - mae: 10.9123\n",
            "Epoch 25/100\n",
            "2/2 [==============================] - 0s 9ms/step - loss: 9.1618 - mae: 9.1618\n",
            "Epoch 26/100\n",
            "2/2 [==============================] - 0s 10ms/step - loss: 13.1437 - mae: 13.1437\n",
            "Epoch 27/100\n",
            "2/2 [==============================] - 0s 10ms/step - loss: 10.4616 - mae: 10.4616\n",
            "Epoch 28/100\n",
            "2/2 [==============================] - 0s 11ms/step - loss: 13.4888 - mae: 13.4888\n",
            "Epoch 29/100\n",
            "2/2 [==============================] - 0s 9ms/step - loss: 9.6529 - mae: 9.6529\n",
            "Epoch 30/100\n",
            "2/2 [==============================] - 0s 16ms/step - loss: 17.3334 - mae: 17.3334\n",
            "Epoch 31/100\n",
            "2/2 [==============================] - 0s 10ms/step - loss: 22.7644 - mae: 22.7644\n",
            "Epoch 32/100\n",
            "2/2 [==============================] - 0s 20ms/step - loss: 7.9465 - mae: 7.9465\n",
            "Epoch 33/100\n",
            "2/2 [==============================] - 0s 17ms/step - loss: 14.2323 - mae: 14.2323\n",
            "Epoch 34/100\n",
            "2/2 [==============================] - 0s 11ms/step - loss: 12.4976 - mae: 12.4976\n",
            "Epoch 35/100\n",
            "2/2 [==============================] - 0s 7ms/step - loss: 8.2620 - mae: 8.2620\n",
            "Epoch 36/100\n",
            "2/2 [==============================] - 0s 13ms/step - loss: 10.4621 - mae: 10.4621\n",
            "Epoch 37/100\n",
            "2/2 [==============================] - 0s 12ms/step - loss: 10.1171 - mae: 10.1171\n",
            "Epoch 38/100\n",
            "2/2 [==============================] - 0s 18ms/step - loss: 11.2801 - mae: 11.2801\n",
            "Epoch 39/100\n",
            "2/2 [==============================] - 0s 17ms/step - loss: 14.8561 - mae: 14.8561\n",
            "Epoch 40/100\n",
            "2/2 [==============================] - 0s 13ms/step - loss: 12.9856 - mae: 12.9856\n",
            "Epoch 41/100\n",
            "2/2 [==============================] - 0s 16ms/step - loss: 9.3864 - mae: 9.3864\n",
            "Epoch 42/100\n",
            "2/2 [==============================] - 0s 13ms/step - loss: 10.9757 - mae: 10.9757\n",
            "Epoch 43/100\n",
            "2/2 [==============================] - 0s 15ms/step - loss: 8.3514 - mae: 8.3514\n",
            "Epoch 44/100\n",
            "2/2 [==============================] - 0s 14ms/step - loss: 12.9710 - mae: 12.9710\n",
            "Epoch 45/100\n",
            "2/2 [==============================] - 0s 15ms/step - loss: 13.7867 - mae: 13.7867\n",
            "Epoch 46/100\n",
            "2/2 [==============================] - 0s 31ms/step - loss: 8.4752 - mae: 8.4752\n",
            "Epoch 47/100\n",
            "2/2 [==============================] - 0s 12ms/step - loss: 9.1774 - mae: 9.1774\n",
            "Epoch 48/100\n",
            "2/2 [==============================] - 0s 13ms/step - loss: 10.6721 - mae: 10.6721\n",
            "Epoch 49/100\n",
            "2/2 [==============================] - 0s 18ms/step - loss: 7.7914 - mae: 7.7914\n",
            "Epoch 50/100\n",
            "2/2 [==============================] - 0s 27ms/step - loss: 9.5906 - mae: 9.5906\n",
            "Epoch 51/100\n",
            "2/2 [==============================] - 0s 10ms/step - loss: 9.1921 - mae: 9.1921\n",
            "Epoch 52/100\n",
            "2/2 [==============================] - 0s 13ms/step - loss: 16.4179 - mae: 16.4179\n",
            "Epoch 53/100\n",
            "2/2 [==============================] - 0s 17ms/step - loss: 14.1319 - mae: 14.1319\n",
            "Epoch 54/100\n",
            "2/2 [==============================] - 0s 19ms/step - loss: 21.0892 - mae: 21.0892\n",
            "Epoch 55/100\n",
            "2/2 [==============================] - 0s 18ms/step - loss: 16.4524 - mae: 16.4524\n",
            "Epoch 56/100\n",
            "2/2 [==============================] - 0s 23ms/step - loss: 9.9290 - mae: 9.9290\n",
            "Epoch 57/100\n",
            "2/2 [==============================] - 0s 13ms/step - loss: 9.6622 - mae: 9.6622\n",
            "Epoch 58/100\n",
            "2/2 [==============================] - 0s 11ms/step - loss: 8.9899 - mae: 8.9899\n",
            "Epoch 59/100\n",
            "2/2 [==============================] - 0s 20ms/step - loss: 10.1852 - mae: 10.1852\n",
            "Epoch 60/100\n",
            "2/2 [==============================] - 0s 15ms/step - loss: 8.4673 - mae: 8.4673\n",
            "Epoch 61/100\n",
            "2/2 [==============================] - 0s 15ms/step - loss: 9.3143 - mae: 9.3143\n",
            "Epoch 62/100\n",
            "2/2 [==============================] - 0s 16ms/step - loss: 7.1039 - mae: 7.1039\n",
            "Epoch 63/100\n",
            "2/2 [==============================] - 0s 14ms/step - loss: 8.6654 - mae: 8.6654\n",
            "Epoch 64/100\n",
            "2/2 [==============================] - 0s 12ms/step - loss: 9.2441 - mae: 9.2441\n",
            "Epoch 65/100\n",
            "2/2 [==============================] - 0s 16ms/step - loss: 10.4909 - mae: 10.4909\n",
            "Epoch 66/100\n",
            "2/2 [==============================] - 0s 14ms/step - loss: 15.6935 - mae: 15.6935\n",
            "Epoch 67/100\n",
            "2/2 [==============================] - 0s 14ms/step - loss: 10.0854 - mae: 10.0854\n",
            "Epoch 68/100\n",
            "2/2 [==============================] - 0s 13ms/step - loss: 9.0558 - mae: 9.0558\n",
            "Epoch 69/100\n",
            "2/2 [==============================] - 0s 13ms/step - loss: 12.5665 - mae: 12.5665\n",
            "Epoch 70/100\n",
            "2/2 [==============================] - 0s 10ms/step - loss: 8.9967 - mae: 8.9967\n",
            "Epoch 71/100\n",
            "2/2 [==============================] - 0s 27ms/step - loss: 9.9721 - mae: 9.9721\n",
            "Epoch 72/100\n",
            "2/2 [==============================] - 0s 15ms/step - loss: 10.0084 - mae: 10.0084\n",
            "Epoch 73/100\n",
            "2/2 [==============================] - 0s 23ms/step - loss: 12.4823 - mae: 12.4823\n",
            "Epoch 74/100\n",
            "2/2 [==============================] - 0s 19ms/step - loss: 10.5828 - mae: 10.5828\n",
            "Epoch 75/100\n",
            "2/2 [==============================] - 0s 12ms/step - loss: 9.6676 - mae: 9.6676\n",
            "Epoch 76/100\n",
            "2/2 [==============================] - 0s 22ms/step - loss: 11.1383 - mae: 11.1383\n",
            "Epoch 77/100\n",
            "2/2 [==============================] - 0s 16ms/step - loss: 8.3139 - mae: 8.3139\n",
            "Epoch 78/100\n",
            "2/2 [==============================] - 0s 18ms/step - loss: 9.0139 - mae: 9.0139\n",
            "Epoch 79/100\n",
            "2/2 [==============================] - 0s 14ms/step - loss: 19.7776 - mae: 19.7776\n",
            "Epoch 80/100\n",
            "2/2 [==============================] - 0s 15ms/step - loss: 17.8542 - mae: 17.8542\n",
            "Epoch 81/100\n",
            "2/2 [==============================] - 0s 28ms/step - loss: 7.0995 - mae: 7.0995\n",
            "Epoch 82/100\n",
            "2/2 [==============================] - 0s 11ms/step - loss: 10.4477 - mae: 10.4477\n",
            "Epoch 83/100\n",
            "2/2 [==============================] - 0s 12ms/step - loss: 9.8739 - mae: 9.8739\n",
            "Epoch 84/100\n",
            "2/2 [==============================] - 0s 24ms/step - loss: 7.9583 - mae: 7.9583\n",
            "Epoch 85/100\n",
            "2/2 [==============================] - 0s 9ms/step - loss: 9.4622 - mae: 9.4622\n",
            "Epoch 86/100\n",
            "2/2 [==============================] - 0s 16ms/step - loss: 9.2823 - mae: 9.2823\n",
            "Epoch 87/100\n",
            "2/2 [==============================] - 0s 9ms/step - loss: 12.0689 - mae: 12.0689\n",
            "Epoch 88/100\n",
            "2/2 [==============================] - 0s 7ms/step - loss: 10.6906 - mae: 10.6906\n",
            "Epoch 89/100\n",
            "2/2 [==============================] - 0s 15ms/step - loss: 7.2940 - mae: 7.2940\n",
            "Epoch 90/100\n",
            "2/2 [==============================] - 0s 16ms/step - loss: 12.8336 - mae: 12.8336\n",
            "Epoch 91/100\n",
            "2/2 [==============================] - 0s 14ms/step - loss: 7.5091 - mae: 7.5091\n",
            "Epoch 92/100\n",
            "2/2 [==============================] - 0s 16ms/step - loss: 6.7766 - mae: 6.7766\n",
            "Epoch 93/100\n",
            "2/2 [==============================] - 0s 10ms/step - loss: 11.9838 - mae: 11.9838\n",
            "Epoch 94/100\n",
            "2/2 [==============================] - 0s 18ms/step - loss: 8.9144 - mae: 8.9144\n",
            "Epoch 95/100\n",
            "2/2 [==============================] - 0s 19ms/step - loss: 7.7526 - mae: 7.7526\n",
            "Epoch 96/100\n",
            "2/2 [==============================] - 0s 20ms/step - loss: 6.7772 - mae: 6.7772\n",
            "Epoch 97/100\n",
            "2/2 [==============================] - 0s 19ms/step - loss: 8.6683 - mae: 8.6683\n",
            "Epoch 98/100\n",
            "2/2 [==============================] - 0s 11ms/step - loss: 9.4105 - mae: 9.4105\n",
            "Epoch 99/100\n",
            "2/2 [==============================] - 0s 13ms/step - loss: 9.1471 - mae: 9.1471\n",
            "Epoch 100/100\n",
            "2/2 [==============================] - 0s 10ms/step - loss: 10.5011 - mae: 10.5011\n"
          ]
        },
        {
          "output_type": "execute_result",
          "data": {
            "text/plain": [
              "<keras.callbacks.History at 0x7d273880e410>"
            ]
          },
          "metadata": {},
          "execution_count": 51
        }
      ]
    },
    {
      "cell_type": "code",
      "source": [
        "# Make and plot predictions for model_1\n",
        "y_preds_1 = model_1.predict(X_test)\n",
        "plot_predictions(predictions=y_preds_1)"
      ],
      "metadata": {
        "colab": {
          "base_uri": "https://localhost:8080/",
          "height": 654
        },
        "id": "waT2gXRnyr6s",
        "outputId": "8e6f3ed6-ab5d-4522-930d-33c3ab448bf9"
      },
      "execution_count": null,
      "outputs": [
        {
          "output_type": "stream",
          "name": "stderr",
          "text": [
            "WARNING:tensorflow:5 out of the last 5 calls to <function Model.make_predict_function.<locals>.predict_function at 0x7d273894ce50> triggered tf.function retracing. Tracing is expensive and the excessive number of tracings could be due to (1) creating @tf.function repeatedly in a loop, (2) passing tensors with different shapes, (3) passing Python objects instead of tensors. For (1), please define your @tf.function outside of the loop. For (2), @tf.function has reduce_retracing=True option that can avoid unnecessary retracing. For (3), please refer to https://www.tensorflow.org/guide/function#controlling_retracing and https://www.tensorflow.org/api_docs/python/tf/function for  more details.\n"
          ]
        },
        {
          "output_type": "stream",
          "name": "stdout",
          "text": [
            "1/1 [==============================] - 0s 264ms/step\n"
          ]
        },
        {
          "output_type": "display_data",
          "data": {
            "text/plain": [
              "<Figure size 1000x700 with 1 Axes>"
            ],
            "image/png": "[encoded data removed]"
          },
          "metadata": {}
        }
      ]
    },
    {
      "cell_type": "code",
      "source": [
        "tf.constant(y_preds_1), tf.squeeze(y_preds_1)"
      ],
      "metadata": {
        "colab": {
          "base_uri": "https://localhost:8080/"
        },
        "id": "FOrakhbJ3OnZ",
        "outputId": "f1c4519c-ab98-496c-fe2c-4a5977873cc6"
      },
      "execution_count": null,
      "outputs": [
        {
          "output_type": "execute_result",
          "data": {
            "text/plain": [
              "(<tf.Tensor: shape=(10, 1), dtype=float32, numpy=\n",
              " array([[56.437347],\n",
              "        [60.115585],\n",
              "        [63.793823],\n",
              "        [67.47206 ],\n",
              "        [71.15031 ],\n",
              "        [74.828545],\n",
              "        [78.50678 ],\n",
              "        [82.18503 ],\n",
              "        [85.863266],\n",
              "        [89.541504]], dtype=float32)>,\n",
              " <tf.Tensor: shape=(10,), dtype=float32, numpy=\n",
              " array([56.437347, 60.115585, 63.793823, 67.47206 , 71.15031 , 74.828545,\n",
              "        78.50678 , 82.18503 , 85.863266, 89.541504], dtype=float32)>)"
            ]
          },
          "metadata": {},
          "execution_count": 53
        }
      ]
    },
    {
      "cell_type": "code",
      "source": [
        "# Calculate model_1 evaluation metrics\n",
        "mae_1 = mae(y_test, y_preds_1)\n",
        "mse_1 = mse(y_test, y_preds_1)\n",
        "mae_1, mse_1"
      ],
      "metadata": {
        "colab": {
          "base_uri": "https://localhost:8080/"
        },
        "id": "_-0EEkJv2hP_",
        "outputId": "3f64e6e4-34ec-4494-f584-023126c6f960"
      },
      "execution_count": null,
      "outputs": [
        {
          "output_type": "execute_result",
          "data": {
            "text/plain": [
              "(<tf.Tensor: shape=(), dtype=float32, numpy=15.010574>,\n",
              " <tf.Tensor: shape=(), dtype=float32, numpy=226.17148>)"
            ]
          },
          "metadata": {},
          "execution_count": 54
        }
      ]
    },
    {
      "cell_type": "markdown",
      "source": [
        "**Build `model_2`**\n",
        "\n",
        "* 2 dense layers, trained for 100 epochs"
      ],
      "metadata": {
        "id": "m6pgcUpl3LlW"
      }
    },
    {
      "cell_type": "code",
      "source": [
        "# Set the random seed\n",
        "tf.random.set_seed(42)\n",
        "\n",
        "# 1. Create the model\n",
        "model_2 = tf.keras.Sequential([\n",
        "    tf.keras.layers.Dense(10),\n",
        "    tf.keras.layers.Dense(1)\n",
        "])\n",
        "\n",
        "# 2. Compile the model\n",
        "model_2.compile(loss=tf.keras.losses.mae,\n",
        "                optimizer=tf.keras.optimizers.SGD(),\n",
        "                metrics=[\"mse\"])\n",
        "\n",
        "# 3. Fit the model\n",
        "model_2.fit(tf.expand_dims(X_train, axis=-1), y_train, epochs=100)"
      ],
      "metadata": {
        "id": "mOoN55R9AffS",
        "colab": {
          "base_uri": "https://localhost:8080/"
        },
        "outputId": "b6da2440-9eb0-4355-8a22-75ce9fe15e3a"
      },
      "execution_count": null,
      "outputs": [
        {
          "output_type": "stream",
          "name": "stdout",
          "text": [
            "Epoch 1/100\n",
            "2/2 [==============================] - 1s 23ms/step - loss: 63.7510 - mse: 6208.8252\n",
            "Epoch 2/100\n",
            "2/2 [==============================] - 0s 8ms/step - loss: 24.9265 - mse: 968.7299\n",
            "Epoch 3/100\n",
            "2/2 [==============================] - 0s 17ms/step - loss: 18.1272 - mse: 480.1105\n",
            "Epoch 4/100\n",
            "2/2 [==============================] - 0s 8ms/step - loss: 13.3192 - mse: 235.8876\n",
            "Epoch 5/100\n",
            "2/2 [==============================] - 0s 19ms/step - loss: 14.7354 - mse: 270.1627\n",
            "Epoch 6/100\n",
            "2/2 [==============================] - 0s 7ms/step - loss: 11.7458 - mse: 161.5354\n",
            "Epoch 7/100\n",
            "2/2 [==============================] - 0s 15ms/step - loss: 12.8249 - mse: 224.6115\n",
            "Epoch 8/100\n",
            "2/2 [==============================] - 0s 7ms/step - loss: 11.1007 - mse: 156.8317\n",
            "Epoch 9/100\n",
            "2/2 [==============================] - 0s 12ms/step - loss: 40.3417 - mse: 2563.5862\n",
            "Epoch 10/100\n",
            "2/2 [==============================] - 0s 14ms/step - loss: 27.7504 - mse: 1084.7423\n",
            "Epoch 11/100\n",
            "2/2 [==============================] - 0s 43ms/step - loss: 10.2560 - mse: 147.6609\n",
            "Epoch 12/100\n",
            "2/2 [==============================] - 0s 18ms/step - loss: 25.3499 - mse: 895.0939\n",
            "Epoch 13/100\n",
            "2/2 [==============================] - 0s 28ms/step - loss: 16.9390 - mse: 396.8955\n",
            "Epoch 14/100\n",
            "2/2 [==============================] - 0s 17ms/step - loss: 25.8224 - mse: 1040.5558\n",
            "Epoch 15/100\n",
            "2/2 [==============================] - 0s 15ms/step - loss: 17.6588 - mse: 431.8577\n",
            "Epoch 16/100\n",
            "2/2 [==============================] - 0s 15ms/step - loss: 10.0770 - mse: 124.3201\n",
            "Epoch 17/100\n",
            "2/2 [==============================] - 0s 11ms/step - loss: 18.6610 - mse: 465.8761\n",
            "Epoch 18/100\n",
            "2/2 [==============================] - 0s 15ms/step - loss: 11.7880 - mse: 213.2766\n",
            "Epoch 19/100\n",
            "2/2 [==============================] - 0s 12ms/step - loss: 16.4895 - mse: 436.1025\n",
            "Epoch 20/100\n",
            "2/2 [==============================] - 0s 6ms/step - loss: 8.2449 - mse: 93.4046\n",
            "Epoch 21/100\n",
            "2/2 [==============================] - 0s 11ms/step - loss: 14.4226 - mse: 288.5601\n",
            "Epoch 22/100\n",
            "2/2 [==============================] - 0s 12ms/step - loss: 12.8364 - mse: 245.7665\n",
            "Epoch 23/100\n",
            "2/2 [==============================] - 0s 16ms/step - loss: 15.4750 - mse: 314.9479\n",
            "Epoch 24/100\n",
            "2/2 [==============================] - 0s 15ms/step - loss: 15.2646 - mse: 315.8423\n",
            "Epoch 25/100\n",
            "2/2 [==============================] - 0s 38ms/step - loss: 14.3405 - mse: 272.7519\n",
            "Epoch 26/100\n",
            "2/2 [==============================] - 0s 21ms/step - loss: 19.3435 - mse: 567.8191\n",
            "Epoch 27/100\n",
            "2/2 [==============================] - 0s 16ms/step - loss: 11.4583 - mse: 169.2599\n",
            "Epoch 28/100\n",
            "2/2 [==============================] - 0s 9ms/step - loss: 29.1023 - mse: 1376.7410\n",
            "Epoch 29/100\n",
            "2/2 [==============================] - 0s 11ms/step - loss: 9.2555 - mse: 94.5654\n",
            "Epoch 30/100\n",
            "2/2 [==============================] - 0s 10ms/step - loss: 29.8337 - mse: 1612.2405\n",
            "Epoch 31/100\n",
            "2/2 [==============================] - 0s 12ms/step - loss: 54.1351 - mse: 5250.4277\n",
            "Epoch 32/100\n",
            "2/2 [==============================] - 0s 13ms/step - loss: 9.5739 - mse: 101.2466\n",
            "Epoch 33/100\n",
            "2/2 [==============================] - 0s 10ms/step - loss: 12.1650 - mse: 181.0826\n",
            "Epoch 34/100\n",
            "2/2 [==============================] - 0s 9ms/step - loss: 23.8886 - mse: 864.6126\n",
            "Epoch 35/100\n",
            "2/2 [==============================] - 0s 9ms/step - loss: 12.6284 - mse: 242.6982\n",
            "Epoch 36/100\n",
            "2/2 [==============================] - 0s 12ms/step - loss: 21.5420 - mse: 661.8458\n",
            "Epoch 37/100\n",
            "2/2 [==============================] - 0s 13ms/step - loss: 11.3732 - mse: 149.9531\n",
            "Epoch 38/100\n",
            "2/2 [==============================] - 0s 22ms/step - loss: 13.4479 - mse: 268.2891\n",
            "Epoch 39/100\n",
            "2/2 [==============================] - 0s 10ms/step - loss: 10.7847 - mse: 138.7908\n",
            "Epoch 40/100\n",
            "2/2 [==============================] - 0s 10ms/step - loss: 16.5690 - mse: 398.4371\n",
            "Epoch 41/100\n",
            "2/2 [==============================] - 0s 36ms/step - loss: 10.9613 - mse: 180.0399\n",
            "Epoch 42/100\n",
            "2/2 [==============================] - 0s 11ms/step - loss: 9.2914 - mse: 115.3438\n",
            "Epoch 43/100\n",
            "2/2 [==============================] - 0s 14ms/step - loss: 9.5927 - mse: 111.2587\n",
            "Epoch 44/100\n",
            "2/2 [==============================] - 0s 10ms/step - loss: 27.9368 - mse: 1251.3582\n",
            "Epoch 45/100\n",
            "2/2 [==============================] - 0s 9ms/step - loss: 11.2735 - mse: 146.5688\n",
            "Epoch 46/100\n",
            "2/2 [==============================] - 0s 12ms/step - loss: 13.8735 - mse: 281.8552\n",
            "Epoch 47/100\n",
            "2/2 [==============================] - 0s 15ms/step - loss: 11.9186 - mse: 212.0168\n",
            "Epoch 48/100\n",
            "2/2 [==============================] - 0s 11ms/step - loss: 16.9507 - mse: 389.0702\n",
            "Epoch 49/100\n",
            "2/2 [==============================] - 0s 18ms/step - loss: 9.7810 - mse: 105.0706\n",
            "Epoch 50/100\n",
            "2/2 [==============================] - 0s 10ms/step - loss: 14.1756 - mse: 281.1918\n",
            "Epoch 51/100\n",
            "2/2 [==============================] - 0s 7ms/step - loss: 11.7413 - mse: 161.3818\n",
            "Epoch 52/100\n",
            "2/2 [==============================] - 0s 23ms/step - loss: 31.3929 - mse: 1712.5240\n",
            "Epoch 53/100\n",
            "2/2 [==============================] - 0s 20ms/step - loss: 14.7291 - mse: 321.3434\n",
            "Epoch 54/100\n",
            "2/2 [==============================] - 0s 28ms/step - loss: 24.6196 - mse: 912.1550\n",
            "Epoch 55/100\n",
            "2/2 [==============================] - 0s 7ms/step - loss: 23.9038 - mse: 859.1071\n",
            "Epoch 56/100\n",
            "2/2 [==============================] - 0s 11ms/step - loss: 11.1258 - mse: 171.1444\n",
            "Epoch 57/100\n",
            "2/2 [==============================] - 0s 7ms/step - loss: 13.0644 - mse: 211.5947\n",
            "Epoch 58/100\n",
            "2/2 [==============================] - 0s 10ms/step - loss: 9.7837 - mse: 105.6722\n",
            "Epoch 59/100\n",
            "2/2 [==============================] - 0s 16ms/step - loss: 13.2407 - mse: 245.5117\n",
            "Epoch 60/100\n",
            "2/2 [==============================] - 0s 12ms/step - loss: 10.8357 - mse: 137.9331\n",
            "Epoch 61/100\n",
            "2/2 [==============================] - 0s 11ms/step - loss: 13.4163 - mse: 238.2900\n",
            "Epoch 62/100\n",
            "2/2 [==============================] - 0s 33ms/step - loss: 17.3818 - mse: 460.6968\n",
            "Epoch 63/100\n",
            "2/2 [==============================] - 0s 10ms/step - loss: 9.1389 - mse: 87.7154\n",
            "Epoch 64/100\n",
            "2/2 [==============================] - 0s 26ms/step - loss: 18.2535 - mse: 484.4018\n",
            "Epoch 65/100\n",
            "2/2 [==============================] - 0s 14ms/step - loss: 10.0933 - mse: 113.9110\n",
            "Epoch 66/100\n",
            "2/2 [==============================] - 0s 24ms/step - loss: 24.0815 - mse: 873.6909\n",
            "Epoch 67/100\n",
            "2/2 [==============================] - 0s 25ms/step - loss: 10.8412 - mse: 140.5949\n",
            "Epoch 68/100\n",
            "2/2 [==============================] - 0s 18ms/step - loss: 10.7372 - mse: 155.7724\n",
            "Epoch 69/100\n",
            "2/2 [==============================] - 0s 29ms/step - loss: 23.0446 - mse: 766.8343\n",
            "Epoch 70/100\n",
            "2/2 [==============================] - 0s 12ms/step - loss: 8.8530 - mse: 142.8038\n",
            "Epoch 71/100\n",
            "2/2 [==============================] - 0s 11ms/step - loss: 16.0898 - mse: 353.0986\n",
            "Epoch 72/100\n",
            "2/2 [==============================] - 0s 21ms/step - loss: 7.7688 - mse: 91.3710\n",
            "Epoch 73/100\n",
            "2/2 [==============================] - 0s 11ms/step - loss: 10.6376 - mse: 185.6259\n",
            "Epoch 74/100\n",
            "2/2 [==============================] - 0s 16ms/step - loss: 27.9171 - mse: 1093.0516\n",
            "Epoch 75/100\n",
            "2/2 [==============================] - 0s 7ms/step - loss: 10.4635 - mse: 146.2111\n",
            "Epoch 76/100\n",
            "2/2 [==============================] - 0s 12ms/step - loss: 13.4587 - mse: 235.4064\n",
            "Epoch 77/100\n",
            "2/2 [==============================] - 0s 20ms/step - loss: 19.2893 - mse: 583.7103\n",
            "Epoch 78/100\n",
            "2/2 [==============================] - 0s 20ms/step - loss: 8.9056 - mse: 84.7942\n",
            "Epoch 79/100\n",
            "2/2 [==============================] - 0s 12ms/step - loss: 27.9480 - mse: 1222.8743\n",
            "Epoch 80/100\n",
            "2/2 [==============================] - 0s 12ms/step - loss: 30.0311 - mse: 1429.9192\n",
            "Epoch 81/100\n",
            "2/2 [==============================] - 0s 16ms/step - loss: 13.8293 - mse: 270.4805\n",
            "Epoch 82/100\n",
            "2/2 [==============================] - 0s 8ms/step - loss: 15.7462 - mse: 341.6532\n",
            "Epoch 83/100\n",
            "2/2 [==============================] - 0s 12ms/step - loss: 9.2589 - mse: 95.2774\n",
            "Epoch 84/100\n",
            "2/2 [==============================] - 0s 10ms/step - loss: 8.1961 - mse: 109.8997\n",
            "Epoch 85/100\n",
            "2/2 [==============================] - 0s 11ms/step - loss: 18.7565 - mse: 549.5064\n",
            "Epoch 86/100\n",
            "2/2 [==============================] - 0s 13ms/step - loss: 22.2467 - mse: 708.2355\n",
            "Epoch 87/100\n",
            "2/2 [==============================] - 0s 15ms/step - loss: 11.2899 - mse: 152.1223\n",
            "Epoch 88/100\n",
            "2/2 [==============================] - 0s 11ms/step - loss: 26.2331 - mse: 981.8812\n",
            "Epoch 89/100\n",
            "2/2 [==============================] - 0s 11ms/step - loss: 9.5865 - mse: 131.1380\n",
            "Epoch 90/100\n",
            "2/2 [==============================] - 0s 12ms/step - loss: 18.4679 - mse: 489.0833\n",
            "Epoch 91/100\n",
            "2/2 [==============================] - 0s 20ms/step - loss: 10.4029 - mse: 165.7628\n",
            "Epoch 92/100\n",
            "2/2 [==============================] - 0s 10ms/step - loss: 17.7050 - mse: 428.3628\n",
            "Epoch 93/100\n",
            "2/2 [==============================] - 0s 18ms/step - loss: 6.8553 - mse: 64.2653\n",
            "Epoch 94/100\n",
            "2/2 [==============================] - 0s 13ms/step - loss: 17.6089 - mse: 470.3293\n",
            "Epoch 95/100\n",
            "2/2 [==============================] - 0s 22ms/step - loss: 17.3117 - mse: 415.2165\n",
            "Epoch 96/100\n",
            "2/2 [==============================] - 0s 14ms/step - loss: 11.4963 - mse: 209.0786\n",
            "Epoch 97/100\n",
            "2/2 [==============================] - 0s 7ms/step - loss: 18.2476 - mse: 450.5306\n",
            "Epoch 98/100\n",
            "2/2 [==============================] - 0s 12ms/step - loss: 9.7230 - mse: 179.0814\n",
            "Epoch 99/100\n",
            "2/2 [==============================] - 0s 12ms/step - loss: 16.9061 - mse: 446.4772\n",
            "Epoch 100/100\n",
            "2/2 [==============================] - 0s 9ms/step - loss: 17.7728 - mse: 464.9439\n"
          ]
        },
        {
          "output_type": "execute_result",
          "data": {
            "text/plain": [
              "<keras.callbacks.History at 0x7d27387f90c0>"
            ]
          },
          "metadata": {},
          "execution_count": 55
        }
      ]
    },
    {
      "cell_type": "code",
      "source": [
        "# Make and plot predictions of model_2\n",
        "y_preds_2 = model_2.predict(X_test)\n",
        "plot_predictions(predictions=y_preds_2)"
      ],
      "metadata": {
        "colab": {
          "base_uri": "https://localhost:8080/",
          "height": 654
        },
        "id": "I_rmvVeNBokk",
        "outputId": "433b5f74-ee1c-4dda-b4c2-2e33a00d1fde"
      },
      "execution_count": null,
      "outputs": [
        {
          "output_type": "stream",
          "name": "stderr",
          "text": [
            "WARNING:tensorflow:6 out of the last 6 calls to <function Model.make_predict_function.<locals>.predict_function at 0x7d27386cff40> triggered tf.function retracing. Tracing is expensive and the excessive number of tracings could be due to (1) creating @tf.function repeatedly in a loop, (2) passing tensors with different shapes, (3) passing Python objects instead of tensors. For (1), please define your @tf.function outside of the loop. For (2), @tf.function has reduce_retracing=True option that can avoid unnecessary retracing. For (3), please refer to https://www.tensorflow.org/guide/function#controlling_retracing and https://www.tensorflow.org/api_docs/python/tf/function for  more details.\n"
          ]
        },
        {
          "output_type": "stream",
          "name": "stdout",
          "text": [
            "1/1 [==============================] - 0s 198ms/step\n"
          ]
        },
        {
          "output_type": "display_data",
          "data": {
            "text/plain": [
              "<Figure size 1000x700 with 1 Axes>"
            ],
            "image/png": "[encoded data removed]"
          },
          "metadata": {}
        }
      ]
    },
    {
      "cell_type": "code",
      "source": [
        "# Calculate model_' evaluation metrics\n",
        "mae_2 = mae(y_test, y_preds_2)\n",
        "mse_2 = mse(y_test, y_preds_2)\n",
        "mae_2, mse_2"
      ],
      "metadata": {
        "colab": {
          "base_uri": "https://localhost:8080/"
        },
        "id": "MRNguvdXF3mM",
        "outputId": "a6613767-4681-415f-eb0d-b7bf24036cc3"
      },
      "execution_count": null,
      "outputs": [
        {
          "output_type": "execute_result",
          "data": {
            "text/plain": [
              "(<tf.Tensor: shape=(), dtype=float32, numpy=42.93093>,\n",
              " <tf.Tensor: shape=(), dtype=float32, numpy=1868.6774>)"
            ]
          },
          "metadata": {},
          "execution_count": 57
        }
      ]
    },
    {
      "cell_type": "markdown",
      "source": [
        "**Build `model_3`**\n",
        "\n",
        "* 2 layers, trained for 500 epochs"
      ],
      "metadata": {
        "id": "OyzoI5XLGSk-"
      }
    },
    {
      "cell_type": "code",
      "source": [
        "# Set random seed\n",
        "tf.random.set_seed(42)\n",
        "\n",
        "# 1. Create a model\n",
        "model_3 = tf.keras.Sequential([\n",
        "    tf.keras.layers.Dense(10),\n",
        "    tf.keras.layers.Dense(1)\n",
        "])\n",
        "\n",
        "# 2. Compile the model\n",
        "model_3.compile(loss=tf.keras.losses.mae,\n",
        "                optimizer=tf.keras.optimizers.SGD(),\n",
        "                metrics=[\"mae\"])\n",
        "\n",
        "# 3. Fit the model\n",
        "model_3.fit(tf.expand_dims(X_train, axis=-1), y_train, epochs=500)"
      ],
      "metadata": {
        "colab": {
          "base_uri": "https://localhost:8080/"
        },
        "id": "F9Z_D3o8GsCc",
        "outputId": "597db1fd-1056-425b-954f-03bc3c2f548b"
      },
      "execution_count": null,
      "outputs": [
        {
          "output_type": "stream",
          "name": "stdout",
          "text": [
            "Epoch 1/500\n",
            "2/2 [==============================] - 1s 15ms/step - loss: 32.7582 - mae: 32.7582\n",
            "Epoch 2/500\n",
            "2/2 [==============================] - 0s 13ms/step - loss: 24.4950 - mae: 24.4950\n",
            "Epoch 3/500\n",
            "2/2 [==============================] - 0s 11ms/step - loss: 30.0301 - mae: 30.0301\n",
            "Epoch 4/500\n",
            "2/2 [==============================] - 0s 14ms/step - loss: 26.2052 - mae: 26.2052\n",
            "Epoch 5/500\n",
            "2/2 [==============================] - 0s 9ms/step - loss: 14.3726 - mae: 14.3726\n",
            "Epoch 6/500\n",
            "2/2 [==============================] - 0s 8ms/step - loss: 11.4667 - mae: 11.4667\n",
            "Epoch 7/500\n",
            "2/2 [==============================] - 0s 8ms/step - loss: 12.4972 - mae: 12.4972\n",
            "Epoch 8/500\n",
            "2/2 [==============================] - 0s 16ms/step - loss: 10.9718 - mae: 10.9718\n",
            "Epoch 9/500\n",
            "2/2 [==============================] - 0s 11ms/step - loss: 39.0458 - mae: 39.0458\n",
            "Epoch 10/500\n",
            "2/2 [==============================] - 0s 10ms/step - loss: 26.6231 - mae: 26.6231\n",
            "Epoch 11/500\n",
            "2/2 [==============================] - 0s 9ms/step - loss: 11.7909 - mae: 11.7909\n",
            "Epoch 12/500\n",
            "2/2 [==============================] - 0s 9ms/step - loss: 23.5501 - mae: 23.5501\n",
            "Epoch 13/500\n",
            "2/2 [==============================] - 0s 29ms/step - loss: 21.2115 - mae: 21.2115\n",
            "Epoch 14/500\n",
            "2/2 [==============================] - 0s 9ms/step - loss: 23.6803 - mae: 23.6803\n",
            "Epoch 15/500\n",
            "2/2 [==============================] - 0s 9ms/step - loss: 15.7555 - mae: 15.7555\n",
            "Epoch 16/500\n",
            "2/2 [==============================] - 0s 17ms/step - loss: 10.4322 - mae: 10.4322\n",
            "Epoch 17/500\n",
            "2/2 [==============================] - 0s 18ms/step - loss: 19.6769 - mae: 19.6769\n",
            "Epoch 18/500\n",
            "2/2 [==============================] - 0s 9ms/step - loss: 13.3091 - mae: 13.3091\n",
            "Epoch 19/500\n",
            "2/2 [==============================] - 0s 10ms/step - loss: 16.0935 - mae: 16.0935\n",
            "Epoch 20/500\n",
            "2/2 [==============================] - 0s 19ms/step - loss: 10.2126 - mae: 10.2126\n",
            "Epoch 21/500\n",
            "2/2 [==============================] - 0s 22ms/step - loss: 13.7687 - mae: 13.7687\n",
            "Epoch 22/500\n",
            "2/2 [==============================] - 0s 10ms/step - loss: 22.0227 - mae: 22.0227\n",
            "Epoch 23/500\n",
            "2/2 [==============================] - 0s 8ms/step - loss: 10.4413 - mae: 10.4413\n",
            "Epoch 24/500\n",
            "2/2 [==============================] - 0s 33ms/step - loss: 15.7234 - mae: 15.7234\n",
            "Epoch 25/500\n",
            "2/2 [==============================] - 0s 14ms/step - loss: 14.8822 - mae: 14.8822\n",
            "Epoch 26/500\n",
            "2/2 [==============================] - 0s 19ms/step - loss: 19.4889 - mae: 19.4889\n",
            "Epoch 27/500\n",
            "2/2 [==============================] - 0s 8ms/step - loss: 11.3717 - mae: 11.3717\n",
            "Epoch 28/500\n",
            "2/2 [==============================] - 0s 8ms/step - loss: 28.6288 - mae: 28.6288\n",
            "Epoch 29/500\n",
            "2/2 [==============================] - 0s 16ms/step - loss: 9.2424 - mae: 9.2424\n",
            "Epoch 30/500\n",
            "2/2 [==============================] - 0s 8ms/step - loss: 29.4676 - mae: 29.4676\n",
            "Epoch 31/500\n",
            "2/2 [==============================] - 0s 21ms/step - loss: 53.4159 - mae: 53.4159\n",
            "Epoch 32/500\n",
            "2/2 [==============================] - 0s 9ms/step - loss: 9.4774 - mae: 9.4774\n",
            "Epoch 33/500\n",
            "2/2 [==============================] - 0s 10ms/step - loss: 12.0554 - mae: 12.0554\n",
            "Epoch 34/500\n",
            "2/2 [==============================] - 0s 15ms/step - loss: 23.3472 - mae: 23.3472\n",
            "Epoch 35/500\n",
            "2/2 [==============================] - 0s 19ms/step - loss: 11.8272 - mae: 11.8272\n",
            "Epoch 36/500\n",
            "2/2 [==============================] - 0s 10ms/step - loss: 21.7874 - mae: 21.7874\n",
            "Epoch 37/500\n",
            "2/2 [==============================] - 0s 11ms/step - loss: 11.1509 - mae: 11.1509\n",
            "Epoch 38/500\n",
            "2/2 [==============================] - 0s 8ms/step - loss: 12.7603 - mae: 12.7603\n",
            "Epoch 39/500\n",
            "2/2 [==============================] - 0s 16ms/step - loss: 12.0446 - mae: 12.0446\n",
            "Epoch 40/500\n",
            "2/2 [==============================] - 0s 10ms/step - loss: 15.6242 - mae: 15.6242\n",
            "Epoch 41/500\n",
            "2/2 [==============================] - 0s 20ms/step - loss: 11.8525 - mae: 11.8525\n",
            "Epoch 42/500\n",
            "2/2 [==============================] - 0s 18ms/step - loss: 9.9664 - mae: 9.9664\n",
            "Epoch 43/500\n",
            "2/2 [==============================] - 0s 19ms/step - loss: 9.8094 - mae: 9.8094\n",
            "Epoch 44/500\n",
            "2/2 [==============================] - 0s 21ms/step - loss: 30.6209 - mae: 30.6209\n",
            "Epoch 45/500\n",
            "2/2 [==============================] - 0s 14ms/step - loss: 12.0049 - mae: 12.0049\n",
            "Epoch 46/500\n",
            "2/2 [==============================] - 0s 16ms/step - loss: 16.1519 - mae: 16.1519\n",
            "Epoch 47/500\n",
            "2/2 [==============================] - 0s 22ms/step - loss: 15.0396 - mae: 15.0396\n",
            "Epoch 48/500\n",
            "2/2 [==============================] - 0s 14ms/step - loss: 14.2575 - mae: 14.2575\n",
            "Epoch 49/500\n",
            "2/2 [==============================] - 0s 15ms/step - loss: 13.8133 - mae: 13.8133\n",
            "Epoch 50/500\n",
            "2/2 [==============================] - 0s 16ms/step - loss: 12.6767 - mae: 12.6767\n",
            "Epoch 51/500\n",
            "2/2 [==============================] - 0s 29ms/step - loss: 14.7245 - mae: 14.7245\n",
            "Epoch 52/500\n",
            "2/2 [==============================] - 0s 22ms/step - loss: 18.6325 - mae: 18.6325\n",
            "Epoch 53/500\n",
            "2/2 [==============================] - 0s 21ms/step - loss: 23.9652 - mae: 23.9652\n",
            "Epoch 54/500\n",
            "2/2 [==============================] - 0s 15ms/step - loss: 23.6552 - mae: 23.6552\n",
            "Epoch 55/500\n",
            "2/2 [==============================] - 0s 11ms/step - loss: 24.5876 - mae: 24.5876\n",
            "Epoch 56/500\n",
            "2/2 [==============================] - 0s 12ms/step - loss: 11.3397 - mae: 11.3397\n",
            "Epoch 57/500\n",
            "2/2 [==============================] - 0s 24ms/step - loss: 13.3583 - mae: 13.3583\n",
            "Epoch 58/500\n",
            "2/2 [==============================] - 0s 35ms/step - loss: 9.9472 - mae: 9.9472\n",
            "Epoch 59/500\n",
            "2/2 [==============================] - 0s 29ms/step - loss: 13.9127 - mae: 13.9127\n",
            "Epoch 60/500\n",
            "2/2 [==============================] - 0s 18ms/step - loss: 9.9900 - mae: 9.9900\n",
            "Epoch 61/500\n",
            "2/2 [==============================] - 0s 15ms/step - loss: 14.9698 - mae: 14.9698\n",
            "Epoch 62/500\n",
            "2/2 [==============================] - 0s 20ms/step - loss: 11.9247 - mae: 11.9247\n",
            "Epoch 63/500\n",
            "2/2 [==============================] - 0s 16ms/step - loss: 10.2866 - mae: 10.2866\n",
            "Epoch 64/500\n",
            "2/2 [==============================] - 0s 8ms/step - loss: 23.8862 - mae: 23.8862\n",
            "Epoch 65/500\n",
            "2/2 [==============================] - 0s 11ms/step - loss: 10.4634 - mae: 10.4634\n",
            "Epoch 66/500\n",
            "2/2 [==============================] - 0s 11ms/step - loss: 20.9332 - mae: 20.9332\n",
            "Epoch 67/500\n",
            "2/2 [==============================] - 0s 9ms/step - loss: 10.4419 - mae: 10.4419\n",
            "Epoch 68/500\n",
            "2/2 [==============================] - 0s 13ms/step - loss: 14.1775 - mae: 14.1775\n",
            "Epoch 69/500\n",
            "2/2 [==============================] - 0s 27ms/step - loss: 10.5136 - mae: 10.5136\n",
            "Epoch 70/500\n",
            "2/2 [==============================] - 0s 8ms/step - loss: 12.5852 - mae: 12.5852\n",
            "Epoch 71/500\n",
            "2/2 [==============================] - 0s 21ms/step - loss: 13.0153 - mae: 13.0153\n",
            "Epoch 72/500\n",
            "2/2 [==============================] - 0s 8ms/step - loss: 19.3643 - mae: 19.3643\n",
            "Epoch 73/500\n",
            "2/2 [==============================] - 0s 8ms/step - loss: 11.1296 - mae: 11.1296\n",
            "Epoch 74/500\n",
            "2/2 [==============================] - 0s 15ms/step - loss: 21.4541 - mae: 21.4541\n",
            "Epoch 75/500\n",
            "2/2 [==============================] - 0s 24ms/step - loss: 9.4617 - mae: 9.4617\n",
            "Epoch 76/500\n",
            "2/2 [==============================] - 0s 24ms/step - loss: 12.2857 - mae: 12.2857\n",
            "Epoch 77/500\n",
            "2/2 [==============================] - 0s 12ms/step - loss: 16.3295 - mae: 16.3295\n",
            "Epoch 78/500\n",
            "2/2 [==============================] - 0s 9ms/step - loss: 9.0095 - mae: 9.0095\n",
            "Epoch 79/500\n",
            "2/2 [==============================] - 0s 9ms/step - loss: 23.5806 - mae: 23.5806\n",
            "Epoch 80/500\n",
            "2/2 [==============================] - 0s 8ms/step - loss: 26.2796 - mae: 26.2796\n",
            "Epoch 81/500\n",
            "2/2 [==============================] - 0s 14ms/step - loss: 11.4485 - mae: 11.4485\n",
            "Epoch 82/500\n",
            "2/2 [==============================] - 0s 9ms/step - loss: 12.4367 - mae: 12.4367\n",
            "Epoch 83/500\n",
            "2/2 [==============================] - 0s 9ms/step - loss: 17.1005 - mae: 17.1005\n",
            "Epoch 84/500\n",
            "2/2 [==============================] - 0s 11ms/step - loss: 7.2536 - mae: 7.2536\n",
            "Epoch 85/500\n",
            "2/2 [==============================] - 0s 11ms/step - loss: 37.1971 - mae: 37.1971\n",
            "Epoch 86/500\n",
            "2/2 [==============================] - 0s 32ms/step - loss: 21.2114 - mae: 21.2114\n",
            "Epoch 87/500\n",
            "2/2 [==============================] - 0s 12ms/step - loss: 11.0232 - mae: 11.0232\n",
            "Epoch 88/500\n",
            "2/2 [==============================] - 0s 11ms/step - loss: 25.0756 - mae: 25.0756\n",
            "Epoch 89/500\n",
            "2/2 [==============================] - 0s 10ms/step - loss: 9.3561 - mae: 9.3561\n",
            "Epoch 90/500\n",
            "2/2 [==============================] - 0s 11ms/step - loss: 17.3765 - mae: 17.3765\n",
            "Epoch 91/500\n",
            "2/2 [==============================] - 0s 16ms/step - loss: 10.7981 - mae: 10.7981\n",
            "Epoch 92/500\n",
            "2/2 [==============================] - 0s 8ms/step - loss: 19.0662 - mae: 19.0662\n",
            "Epoch 93/500\n",
            "2/2 [==============================] - 0s 11ms/step - loss: 8.3159 - mae: 8.3159\n",
            "Epoch 94/500\n",
            "2/2 [==============================] - 0s 11ms/step - loss: 11.5563 - mae: 11.5563\n",
            "Epoch 95/500\n",
            "2/2 [==============================] - 0s 11ms/step - loss: 26.1065 - mae: 26.1065\n",
            "Epoch 96/500\n",
            "2/2 [==============================] - 0s 11ms/step - loss: 11.1845 - mae: 11.1845\n",
            "Epoch 97/500\n",
            "2/2 [==============================] - 0s 12ms/step - loss: 16.7795 - mae: 16.7795\n",
            "Epoch 98/500\n",
            "2/2 [==============================] - 0s 11ms/step - loss: 6.5879 - mae: 6.5879\n",
            "Epoch 99/500\n",
            "2/2 [==============================] - 0s 10ms/step - loss: 12.6034 - mae: 12.6034\n",
            "Epoch 100/500\n",
            "2/2 [==============================] - 0s 34ms/step - loss: 19.4183 - mae: 19.4183\n",
            "Epoch 101/500\n",
            "2/2 [==============================] - 0s 33ms/step - loss: 16.0533 - mae: 16.0533\n",
            "Epoch 102/500\n",
            "2/2 [==============================] - 0s 10ms/step - loss: 11.1819 - mae: 11.1819\n",
            "Epoch 103/500\n",
            "2/2 [==============================] - 0s 15ms/step - loss: 9.3231 - mae: 9.3231\n",
            "Epoch 104/500\n",
            "2/2 [==============================] - 0s 24ms/step - loss: 24.9217 - mae: 24.9217\n",
            "Epoch 105/500\n",
            "2/2 [==============================] - 0s 15ms/step - loss: 11.9683 - mae: 11.9683\n",
            "Epoch 106/500\n",
            "2/2 [==============================] - 0s 13ms/step - loss: 10.0813 - mae: 10.0813\n",
            "Epoch 107/500\n",
            "2/2 [==============================] - 0s 11ms/step - loss: 22.4770 - mae: 22.4770\n",
            "Epoch 108/500\n",
            "2/2 [==============================] - 0s 27ms/step - loss: 8.1242 - mae: 8.1242\n",
            "Epoch 109/500\n",
            "2/2 [==============================] - 0s 30ms/step - loss: 13.3121 - mae: 13.3121\n",
            "Epoch 110/500\n",
            "2/2 [==============================] - 0s 29ms/step - loss: 7.9963 - mae: 7.9963\n",
            "Epoch 111/500\n",
            "2/2 [==============================] - 0s 23ms/step - loss: 15.7762 - mae: 15.7762\n",
            "Epoch 112/500\n",
            "2/2 [==============================] - 0s 21ms/step - loss: 8.7483 - mae: 8.7483\n",
            "Epoch 113/500\n",
            "2/2 [==============================] - 0s 27ms/step - loss: 22.6282 - mae: 22.6282\n",
            "Epoch 114/500\n",
            "2/2 [==============================] - 0s 35ms/step - loss: 18.9849 - mae: 18.9849\n",
            "Epoch 115/500\n",
            "2/2 [==============================] - 0s 27ms/step - loss: 11.0836 - mae: 11.0836\n",
            "Epoch 116/500\n",
            "2/2 [==============================] - 0s 31ms/step - loss: 23.0716 - mae: 23.0716\n",
            "Epoch 117/500\n",
            "2/2 [==============================] - 0s 18ms/step - loss: 9.5627 - mae: 9.5627\n",
            "Epoch 118/500\n",
            "2/2 [==============================] - 0s 22ms/step - loss: 10.6213 - mae: 10.6213\n",
            "Epoch 119/500\n",
            "2/2 [==============================] - 0s 28ms/step - loss: 8.0476 - mae: 8.0476\n",
            "Epoch 120/500\n",
            "2/2 [==============================] - 0s 32ms/step - loss: 29.3507 - mae: 29.3507\n",
            "Epoch 121/500\n",
            "2/2 [==============================] - 0s 36ms/step - loss: 8.0842 - mae: 8.0842\n",
            "Epoch 122/500\n",
            "2/2 [==============================] - 0s 33ms/step - loss: 28.0234 - mae: 28.0234\n",
            "Epoch 123/500\n",
            "2/2 [==============================] - 0s 19ms/step - loss: 32.5472 - mae: 32.5472\n",
            "Epoch 124/500\n",
            "2/2 [==============================] - 0s 30ms/step - loss: 19.3696 - mae: 19.3696\n",
            "Epoch 125/500\n",
            "2/2 [==============================] - 0s 27ms/step - loss: 9.5344 - mae: 9.5344\n",
            "Epoch 126/500\n",
            "2/2 [==============================] - 0s 17ms/step - loss: 9.6059 - mae: 9.6059\n",
            "Epoch 127/500\n",
            "2/2 [==============================] - 0s 30ms/step - loss: 12.7209 - mae: 12.7209\n",
            "Epoch 128/500\n",
            "2/2 [==============================] - 0s 19ms/step - loss: 12.8226 - mae: 12.8226\n",
            "Epoch 129/500\n",
            "2/2 [==============================] - 0s 14ms/step - loss: 13.9487 - mae: 13.9487\n",
            "Epoch 130/500\n",
            "2/2 [==============================] - 0s 10ms/step - loss: 10.2455 - mae: 10.2455\n",
            "Epoch 131/500\n",
            "2/2 [==============================] - 0s 14ms/step - loss: 21.7071 - mae: 21.7071\n",
            "Epoch 132/500\n",
            "2/2 [==============================] - 0s 14ms/step - loss: 8.2877 - mae: 8.2877\n",
            "Epoch 133/500\n",
            "2/2 [==============================] - 0s 13ms/step - loss: 9.0682 - mae: 9.0682\n",
            "Epoch 134/500\n",
            "2/2 [==============================] - 0s 15ms/step - loss: 16.9048 - mae: 16.9048\n",
            "Epoch 135/500\n",
            "2/2 [==============================] - 0s 12ms/step - loss: 10.6613 - mae: 10.6613\n",
            "Epoch 136/500\n",
            "2/2 [==============================] - 0s 22ms/step - loss: 18.5105 - mae: 18.5105\n",
            "Epoch 137/500\n",
            "2/2 [==============================] - 0s 14ms/step - loss: 23.4973 - mae: 23.4973\n",
            "Epoch 138/500\n",
            "2/2 [==============================] - 0s 15ms/step - loss: 9.2836 - mae: 9.2836\n",
            "Epoch 139/500\n",
            "2/2 [==============================] - 0s 10ms/step - loss: 9.0164 - mae: 9.0164\n",
            "Epoch 140/500\n",
            "2/2 [==============================] - 0s 7ms/step - loss: 16.9584 - mae: 16.9584\n",
            "Epoch 141/500\n",
            "2/2 [==============================] - 0s 7ms/step - loss: 8.3271 - mae: 8.3271\n",
            "Epoch 142/500\n",
            "2/2 [==============================] - 0s 11ms/step - loss: 34.0112 - mae: 34.0112\n",
            "Epoch 143/500\n",
            "2/2 [==============================] - 0s 9ms/step - loss: 23.0806 - mae: 23.0806\n",
            "Epoch 144/500\n",
            "2/2 [==============================] - 0s 7ms/step - loss: 11.3420 - mae: 11.3420\n",
            "Epoch 145/500\n",
            "2/2 [==============================] - 0s 7ms/step - loss: 25.0430 - mae: 25.0430\n",
            "Epoch 146/500\n",
            "2/2 [==============================] - 0s 7ms/step - loss: 11.1490 - mae: 11.1490\n",
            "Epoch 147/500\n",
            "2/2 [==============================] - 0s 6ms/step - loss: 14.0965 - mae: 14.0965\n",
            "Epoch 148/500\n",
            "2/2 [==============================] - 0s 7ms/step - loss: 16.9474 - mae: 16.9474\n",
            "Epoch 149/500\n",
            "2/2 [==============================] - 0s 8ms/step - loss: 9.2481 - mae: 9.2481\n",
            "Epoch 150/500\n",
            "2/2 [==============================] - 0s 9ms/step - loss: 7.9410 - mae: 7.9410\n",
            "Epoch 151/500\n",
            "2/2 [==============================] - 0s 7ms/step - loss: 16.4729 - mae: 16.4729\n",
            "Epoch 152/500\n",
            "2/2 [==============================] - 0s 6ms/step - loss: 9.7975 - mae: 9.7975\n",
            "Epoch 153/500\n",
            "2/2 [==============================] - 0s 6ms/step - loss: 26.7888 - mae: 26.7888\n",
            "Epoch 154/500\n",
            "2/2 [==============================] - 0s 8ms/step - loss: 11.9364 - mae: 11.9364\n",
            "Epoch 155/500\n",
            "2/2 [==============================] - 0s 7ms/step - loss: 15.2999 - mae: 15.2999\n",
            "Epoch 156/500\n",
            "2/2 [==============================] - 0s 7ms/step - loss: 16.6820 - mae: 16.6820\n",
            "Epoch 157/500\n",
            "2/2 [==============================] - 0s 5ms/step - loss: 19.2233 - mae: 19.2233\n",
            "Epoch 158/500\n",
            "2/2 [==============================] - 0s 6ms/step - loss: 8.2475 - mae: 8.2475\n",
            "Epoch 159/500\n",
            "2/2 [==============================] - 0s 6ms/step - loss: 7.9962 - mae: 7.9962\n",
            "Epoch 160/500\n",
            "2/2 [==============================] - 0s 10ms/step - loss: 20.9908 - mae: 20.9908\n",
            "Epoch 161/500\n",
            "2/2 [==============================] - 0s 6ms/step - loss: 23.7176 - mae: 23.7176\n",
            "Epoch 162/500\n",
            "2/2 [==============================] - 0s 9ms/step - loss: 18.6498 - mae: 18.6498\n",
            "Epoch 163/500\n",
            "2/2 [==============================] - 0s 6ms/step - loss: 17.6056 - mae: 17.6056\n",
            "Epoch 164/500\n",
            "2/2 [==============================] - 0s 6ms/step - loss: 11.0438 - mae: 11.0438\n",
            "Epoch 165/500\n",
            "2/2 [==============================] - 0s 6ms/step - loss: 9.6287 - mae: 9.6287\n",
            "Epoch 166/500\n",
            "2/2 [==============================] - 0s 6ms/step - loss: 21.5960 - mae: 21.5960\n",
            "Epoch 167/500\n",
            "2/2 [==============================] - 0s 6ms/step - loss: 26.2807 - mae: 26.2807\n",
            "Epoch 168/500\n",
            "2/2 [==============================] - 0s 6ms/step - loss: 9.8765 - mae: 9.8765\n",
            "Epoch 169/500\n",
            "2/2 [==============================] - 0s 8ms/step - loss: 22.5416 - mae: 22.5416\n",
            "Epoch 170/500\n",
            "2/2 [==============================] - 0s 6ms/step - loss: 10.1664 - mae: 10.1664\n",
            "Epoch 171/500\n",
            "2/2 [==============================] - 0s 7ms/step - loss: 18.0624 - mae: 18.0624\n",
            "Epoch 172/500\n",
            "2/2 [==============================] - 0s 7ms/step - loss: 28.8021 - mae: 28.8021\n",
            "Epoch 173/500\n",
            "2/2 [==============================] - 0s 6ms/step - loss: 16.5077 - mae: 16.5077\n",
            "Epoch 174/500\n",
            "2/2 [==============================] - 0s 6ms/step - loss: 11.2264 - mae: 11.2264\n",
            "Epoch 175/500\n",
            "2/2 [==============================] - 0s 7ms/step - loss: 27.5951 - mae: 27.5951\n",
            "Epoch 176/500\n",
            "2/2 [==============================] - 0s 7ms/step - loss: 8.2795 - mae: 8.2795\n",
            "Epoch 177/500\n",
            "2/2 [==============================] - 0s 7ms/step - loss: 9.2732 - mae: 9.2732\n",
            "Epoch 178/500\n",
            "2/2 [==============================] - 0s 7ms/step - loss: 18.1030 - mae: 18.1030\n",
            "Epoch 179/500\n",
            "2/2 [==============================] - 0s 7ms/step - loss: 10.6251 - mae: 10.6251\n",
            "Epoch 180/500\n",
            "2/2 [==============================] - 0s 8ms/step - loss: 7.9139 - mae: 7.9139\n",
            "Epoch 181/500\n",
            "2/2 [==============================] - 0s 8ms/step - loss: 17.3560 - mae: 17.3560\n",
            "Epoch 182/500\n",
            "2/2 [==============================] - 0s 7ms/step - loss: 11.0102 - mae: 11.0102\n",
            "Epoch 183/500\n",
            "2/2 [==============================] - 0s 10ms/step - loss: 11.6851 - mae: 11.6851\n",
            "Epoch 184/500\n",
            "2/2 [==============================] - 0s 6ms/step - loss: 30.3080 - mae: 30.3080\n",
            "Epoch 185/500\n",
            "2/2 [==============================] - 0s 8ms/step - loss: 8.1927 - mae: 8.1927\n",
            "Epoch 186/500\n",
            "2/2 [==============================] - 0s 8ms/step - loss: 18.6790 - mae: 18.6790\n",
            "Epoch 187/500\n",
            "2/2 [==============================] - 0s 7ms/step - loss: 8.7803 - mae: 8.7803\n",
            "Epoch 188/500\n",
            "2/2 [==============================] - 0s 7ms/step - loss: 23.6606 - mae: 23.6606\n",
            "Epoch 189/500\n",
            "2/2 [==============================] - 0s 7ms/step - loss: 9.4171 - mae: 9.4171\n",
            "Epoch 190/500\n",
            "2/2 [==============================] - 0s 7ms/step - loss: 17.1894 - mae: 17.1894\n",
            "Epoch 191/500\n",
            "2/2 [==============================] - 0s 6ms/step - loss: 8.5681 - mae: 8.5681\n",
            "Epoch 192/500\n",
            "2/2 [==============================] - 0s 7ms/step - loss: 15.1639 - mae: 15.1639\n",
            "Epoch 193/500\n",
            "2/2 [==============================] - 0s 6ms/step - loss: 29.9938 - mae: 29.9938\n",
            "Epoch 194/500\n",
            "2/2 [==============================] - 0s 9ms/step - loss: 9.6023 - mae: 9.6023\n",
            "Epoch 195/500\n",
            "2/2 [==============================] - 0s 7ms/step - loss: 11.9966 - mae: 11.9966\n",
            "Epoch 196/500\n",
            "2/2 [==============================] - 0s 10ms/step - loss: 23.3364 - mae: 23.3364\n",
            "Epoch 197/500\n",
            "2/2 [==============================] - 0s 7ms/step - loss: 18.1722 - mae: 18.1722\n",
            "Epoch 198/500\n",
            "2/2 [==============================] - 0s 10ms/step - loss: 10.8417 - mae: 10.8417\n",
            "Epoch 199/500\n",
            "2/2 [==============================] - 0s 8ms/step - loss: 22.4616 - mae: 22.4616\n",
            "Epoch 200/500\n",
            "2/2 [==============================] - 0s 7ms/step - loss: 17.1092 - mae: 17.1092\n",
            "Epoch 201/500\n",
            "2/2 [==============================] - 0s 7ms/step - loss: 7.3961 - mae: 7.3961\n",
            "Epoch 202/500\n",
            "2/2 [==============================] - 0s 8ms/step - loss: 26.0884 - mae: 26.0884\n",
            "Epoch 203/500\n",
            "2/2 [==============================] - 0s 7ms/step - loss: 13.3959 - mae: 13.3959\n",
            "Epoch 204/500\n",
            "2/2 [==============================] - 0s 7ms/step - loss: 18.4584 - mae: 18.4584\n",
            "Epoch 205/500\n",
            "2/2 [==============================] - 0s 6ms/step - loss: 9.2494 - mae: 9.2494\n",
            "Epoch 206/500\n",
            "2/2 [==============================] - 0s 6ms/step - loss: 10.3385 - mae: 10.3385\n",
            "Epoch 207/500\n",
            "2/2 [==============================] - 0s 6ms/step - loss: 20.6939 - mae: 20.6939\n",
            "Epoch 208/500\n",
            "2/2 [==============================] - 0s 6ms/step - loss: 16.1869 - mae: 16.1869\n",
            "Epoch 209/500\n",
            "2/2 [==============================] - 0s 6ms/step - loss: 14.0900 - mae: 14.0900\n",
            "Epoch 210/500\n",
            "2/2 [==============================] - 0s 6ms/step - loss: 18.9785 - mae: 18.9785\n",
            "Epoch 211/500\n",
            "2/2 [==============================] - 0s 6ms/step - loss: 10.2200 - mae: 10.2200\n",
            "Epoch 212/500\n",
            "2/2 [==============================] - 0s 6ms/step - loss: 19.5807 - mae: 19.5807\n",
            "Epoch 213/500\n",
            "2/2 [==============================] - 0s 6ms/step - loss: 14.7216 - mae: 14.7216\n",
            "Epoch 214/500\n",
            "2/2 [==============================] - 0s 6ms/step - loss: 14.3873 - mae: 14.3873\n",
            "Epoch 215/500\n",
            "2/2 [==============================] - 0s 7ms/step - loss: 22.8784 - mae: 22.8784\n",
            "Epoch 216/500\n",
            "2/2 [==============================] - 0s 6ms/step - loss: 14.3804 - mae: 14.3804\n",
            "Epoch 217/500\n",
            "2/2 [==============================] - 0s 6ms/step - loss: 9.1569 - mae: 9.1569\n",
            "Epoch 218/500\n",
            "2/2 [==============================] - 0s 6ms/step - loss: 11.9287 - mae: 11.9287\n",
            "Epoch 219/500\n",
            "2/2 [==============================] - 0s 6ms/step - loss: 6.7783 - mae: 6.7783\n",
            "Epoch 220/500\n",
            "2/2 [==============================] - 0s 6ms/step - loss: 7.1319 - mae: 7.1319\n",
            "Epoch 221/500\n",
            "2/2 [==============================] - 0s 6ms/step - loss: 38.3959 - mae: 38.3959\n",
            "Epoch 222/500\n",
            "2/2 [==============================] - 0s 5ms/step - loss: 38.4010 - mae: 38.4010\n",
            "Epoch 223/500\n",
            "2/2 [==============================] - 0s 6ms/step - loss: 5.5111 - mae: 5.5111\n",
            "Epoch 224/500\n",
            "2/2 [==============================] - 0s 6ms/step - loss: 15.0298 - mae: 15.0298\n",
            "Epoch 225/500\n",
            "2/2 [==============================] - 0s 6ms/step - loss: 17.0934 - mae: 17.0934\n",
            "Epoch 226/500\n",
            "2/2 [==============================] - 0s 6ms/step - loss: 16.2763 - mae: 16.2763\n",
            "Epoch 227/500\n",
            "2/2 [==============================] - 0s 7ms/step - loss: 16.6223 - mae: 16.6223\n",
            "Epoch 228/500\n",
            "2/2 [==============================] - 0s 9ms/step - loss: 10.0280 - mae: 10.0280\n",
            "Epoch 229/500\n",
            "2/2 [==============================] - 0s 7ms/step - loss: 17.9484 - mae: 17.9484\n",
            "Epoch 230/500\n",
            "2/2 [==============================] - 0s 8ms/step - loss: 15.5529 - mae: 15.5529\n",
            "Epoch 231/500\n",
            "2/2 [==============================] - 0s 9ms/step - loss: 21.0444 - mae: 21.0444\n",
            "Epoch 232/500\n",
            "2/2 [==============================] - 0s 6ms/step - loss: 25.6503 - mae: 25.6503\n",
            "Epoch 233/500\n",
            "2/2 [==============================] - 0s 7ms/step - loss: 16.6205 - mae: 16.6205\n",
            "Epoch 234/500\n",
            "2/2 [==============================] - 0s 7ms/step - loss: 7.3967 - mae: 7.3967\n",
            "Epoch 235/500\n",
            "2/2 [==============================] - 0s 7ms/step - loss: 17.2582 - mae: 17.2582\n",
            "Epoch 236/500\n",
            "2/2 [==============================] - 0s 8ms/step - loss: 7.2669 - mae: 7.2669\n",
            "Epoch 237/500\n",
            "2/2 [==============================] - 0s 6ms/step - loss: 9.3786 - mae: 9.3786\n",
            "Epoch 238/500\n",
            "2/2 [==============================] - 0s 11ms/step - loss: 8.2129 - mae: 8.2129\n",
            "Epoch 239/500\n",
            "2/2 [==============================] - 0s 8ms/step - loss: 17.2647 - mae: 17.2647\n",
            "Epoch 240/500\n",
            "2/2 [==============================] - 0s 7ms/step - loss: 8.9955 - mae: 8.9955\n",
            "Epoch 241/500\n",
            "2/2 [==============================] - 0s 8ms/step - loss: 13.3348 - mae: 13.3348\n",
            "Epoch 242/500\n",
            "2/2 [==============================] - 0s 6ms/step - loss: 8.8951 - mae: 8.8951\n",
            "Epoch 243/500\n",
            "2/2 [==============================] - 0s 10ms/step - loss: 19.0033 - mae: 19.0033\n",
            "Epoch 244/500\n",
            "2/2 [==============================] - 0s 9ms/step - loss: 14.0258 - mae: 14.0258\n",
            "Epoch 245/500\n",
            "2/2 [==============================] - 0s 7ms/step - loss: 14.6568 - mae: 14.6568\n",
            "Epoch 246/500\n",
            "2/2 [==============================] - 0s 11ms/step - loss: 15.7940 - mae: 15.7940\n",
            "Epoch 247/500\n",
            "2/2 [==============================] - 0s 6ms/step - loss: 17.6659 - mae: 17.6659\n",
            "Epoch 248/500\n",
            "2/2 [==============================] - 0s 6ms/step - loss: 13.2245 - mae: 13.2245\n",
            "Epoch 249/500\n",
            "2/2 [==============================] - 0s 6ms/step - loss: 14.5114 - mae: 14.5114\n",
            "Epoch 250/500\n",
            "2/2 [==============================] - 0s 6ms/step - loss: 23.2194 - mae: 23.2194\n",
            "Epoch 251/500\n",
            "2/2 [==============================] - 0s 6ms/step - loss: 9.3572 - mae: 9.3572\n",
            "Epoch 252/500\n",
            "2/2 [==============================] - 0s 7ms/step - loss: 36.7066 - mae: 36.7066\n",
            "Epoch 253/500\n",
            "2/2 [==============================] - 0s 8ms/step - loss: 21.8731 - mae: 21.8731\n",
            "Epoch 254/500\n",
            "2/2 [==============================] - 0s 6ms/step - loss: 7.3349 - mae: 7.3349\n",
            "Epoch 255/500\n",
            "2/2 [==============================] - 0s 8ms/step - loss: 24.7350 - mae: 24.7350\n",
            "Epoch 256/500\n",
            "2/2 [==============================] - 0s 10ms/step - loss: 12.4698 - mae: 12.4698\n",
            "Epoch 257/500\n",
            "2/2 [==============================] - 0s 6ms/step - loss: 10.6248 - mae: 10.6248\n",
            "Epoch 258/500\n",
            "2/2 [==============================] - 0s 9ms/step - loss: 14.2413 - mae: 14.2413\n",
            "Epoch 259/500\n",
            "2/2 [==============================] - 0s 6ms/step - loss: 11.2919 - mae: 11.2919\n",
            "Epoch 260/500\n",
            "2/2 [==============================] - 0s 6ms/step - loss: 31.6534 - mae: 31.6534\n",
            "Epoch 261/500\n",
            "2/2 [==============================] - 0s 6ms/step - loss: 11.2245 - mae: 11.2245\n",
            "Epoch 262/500\n",
            "2/2 [==============================] - 0s 6ms/step - loss: 10.0746 - mae: 10.0746\n",
            "Epoch 263/500\n",
            "2/2 [==============================] - 0s 7ms/step - loss: 8.9790 - mae: 8.9790\n",
            "Epoch 264/500\n",
            "2/2 [==============================] - 0s 10ms/step - loss: 21.5223 - mae: 21.5223\n",
            "Epoch 265/500\n",
            "2/2 [==============================] - 0s 10ms/step - loss: 11.4489 - mae: 11.4489\n",
            "Epoch 266/500\n",
            "2/2 [==============================] - 0s 6ms/step - loss: 13.2884 - mae: 13.2884\n",
            "Epoch 267/500\n",
            "2/2 [==============================] - 0s 6ms/step - loss: 11.0870 - mae: 11.0870\n",
            "Epoch 268/500\n",
            "2/2 [==============================] - 0s 6ms/step - loss: 19.1523 - mae: 19.1523\n",
            "Epoch 269/500\n",
            "2/2 [==============================] - 0s 9ms/step - loss: 40.7215 - mae: 40.7215\n",
            "Epoch 270/500\n",
            "2/2 [==============================] - 0s 6ms/step - loss: 12.9471 - mae: 12.9471\n",
            "Epoch 271/500\n",
            "2/2 [==============================] - 0s 6ms/step - loss: 14.7672 - mae: 14.7672\n",
            "Epoch 272/500\n",
            "2/2 [==============================] - 0s 7ms/step - loss: 28.5089 - mae: 28.5089\n",
            "Epoch 273/500\n",
            "2/2 [==============================] - 0s 8ms/step - loss: 7.3896 - mae: 7.3896\n",
            "Epoch 274/500\n",
            "2/2 [==============================] - 0s 6ms/step - loss: 6.3719 - mae: 6.3719\n",
            "Epoch 275/500\n",
            "2/2 [==============================] - 0s 9ms/step - loss: 36.9062 - mae: 36.9062\n",
            "Epoch 276/500\n",
            "2/2 [==============================] - 0s 6ms/step - loss: 8.3076 - mae: 8.3076\n",
            "Epoch 277/500\n",
            "2/2 [==============================] - 0s 7ms/step - loss: 27.7242 - mae: 27.7242\n",
            "Epoch 278/500\n",
            "2/2 [==============================] - 0s 8ms/step - loss: 10.6857 - mae: 10.6857\n",
            "Epoch 279/500\n",
            "2/2 [==============================] - 0s 6ms/step - loss: 16.1138 - mae: 16.1138\n",
            "Epoch 280/500\n",
            "2/2 [==============================] - 0s 6ms/step - loss: 21.2374 - mae: 21.2374\n",
            "Epoch 281/500\n",
            "2/2 [==============================] - 0s 8ms/step - loss: 23.7882 - mae: 23.7882\n",
            "Epoch 282/500\n",
            "2/2 [==============================] - 0s 6ms/step - loss: 8.2783 - mae: 8.2783\n",
            "Epoch 283/500\n",
            "2/2 [==============================] - 0s 6ms/step - loss: 8.4583 - mae: 8.4583\n",
            "Epoch 284/500\n",
            "2/2 [==============================] - 0s 10ms/step - loss: 26.6201 - mae: 26.6201\n",
            "Epoch 285/500\n",
            "2/2 [==============================] - 0s 11ms/step - loss: 14.2271 - mae: 14.2271\n",
            "Epoch 286/500\n",
            "2/2 [==============================] - 0s 10ms/step - loss: 5.2750 - mae: 5.2750\n",
            "Epoch 287/500\n",
            "2/2 [==============================] - 0s 7ms/step - loss: 20.8231 - mae: 20.8231\n",
            "Epoch 288/500\n",
            "2/2 [==============================] - 0s 6ms/step - loss: 27.6034 - mae: 27.6034\n",
            "Epoch 289/500\n",
            "2/2 [==============================] - 0s 6ms/step - loss: 10.4410 - mae: 10.4410\n",
            "Epoch 290/500\n",
            "2/2 [==============================] - 0s 6ms/step - loss: 16.3129 - mae: 16.3129\n",
            "Epoch 291/500\n",
            "2/2 [==============================] - 0s 6ms/step - loss: 16.5017 - mae: 16.5017\n",
            "Epoch 292/500\n",
            "2/2 [==============================] - 0s 6ms/step - loss: 7.4410 - mae: 7.4410\n",
            "Epoch 293/500\n",
            "2/2 [==============================] - 0s 7ms/step - loss: 16.5523 - mae: 16.5523\n",
            "Epoch 294/500\n",
            "2/2 [==============================] - 0s 7ms/step - loss: 25.3379 - mae: 25.3379\n",
            "Epoch 295/500\n",
            "2/2 [==============================] - 0s 8ms/step - loss: 14.5742 - mae: 14.5742\n",
            "Epoch 296/500\n",
            "2/2 [==============================] - 0s 7ms/step - loss: 4.6826 - mae: 4.6826\n",
            "Epoch 297/500\n",
            "2/2 [==============================] - 0s 6ms/step - loss: 7.2918 - mae: 7.2918\n",
            "Epoch 298/500\n",
            "2/2 [==============================] - 0s 7ms/step - loss: 19.6034 - mae: 19.6034\n",
            "Epoch 299/500\n",
            "2/2 [==============================] - 0s 6ms/step - loss: 6.6272 - mae: 6.6272\n",
            "Epoch 300/500\n",
            "2/2 [==============================] - 0s 6ms/step - loss: 22.0485 - mae: 22.0485\n",
            "Epoch 301/500\n",
            "2/2 [==============================] - 0s 7ms/step - loss: 9.1428 - mae: 9.1428\n",
            "Epoch 302/500\n",
            "2/2 [==============================] - 0s 8ms/step - loss: 11.1930 - mae: 11.1930\n",
            "Epoch 303/500\n",
            "2/2 [==============================] - 0s 7ms/step - loss: 9.3452 - mae: 9.3452\n",
            "Epoch 304/500\n",
            "2/2 [==============================] - 0s 7ms/step - loss: 23.7017 - mae: 23.7017\n",
            "Epoch 305/500\n",
            "2/2 [==============================] - 0s 8ms/step - loss: 7.9295 - mae: 7.9295\n",
            "Epoch 306/500\n",
            "2/2 [==============================] - 0s 8ms/step - loss: 23.7493 - mae: 23.7493\n",
            "Epoch 307/500\n",
            "2/2 [==============================] - 0s 7ms/step - loss: 5.8909 - mae: 5.8909\n",
            "Epoch 308/500\n",
            "2/2 [==============================] - 0s 6ms/step - loss: 21.3282 - mae: 21.3282\n",
            "Epoch 309/500\n",
            "2/2 [==============================] - 0s 8ms/step - loss: 18.4024 - mae: 18.4024\n",
            "Epoch 310/500\n",
            "2/2 [==============================] - 0s 7ms/step - loss: 4.5053 - mae: 4.5053\n",
            "Epoch 311/500\n",
            "2/2 [==============================] - 0s 9ms/step - loss: 6.5156 - mae: 6.5156\n",
            "Epoch 312/500\n",
            "2/2 [==============================] - 0s 8ms/step - loss: 35.4362 - mae: 35.4362\n",
            "Epoch 313/500\n",
            "2/2 [==============================] - 0s 6ms/step - loss: 28.9139 - mae: 28.9139\n",
            "Epoch 314/500\n",
            "2/2 [==============================] - 0s 8ms/step - loss: 11.1974 - mae: 11.1974\n",
            "Epoch 315/500\n",
            "2/2 [==============================] - 0s 8ms/step - loss: 23.5569 - mae: 23.5569\n",
            "Epoch 316/500\n",
            "2/2 [==============================] - 0s 11ms/step - loss: 14.4184 - mae: 14.4184\n",
            "Epoch 317/500\n",
            "2/2 [==============================] - 0s 11ms/step - loss: 19.9642 - mae: 19.9642\n",
            "Epoch 318/500\n",
            "2/2 [==============================] - 0s 7ms/step - loss: 8.0006 - mae: 8.0006\n",
            "Epoch 319/500\n",
            "2/2 [==============================] - 0s 6ms/step - loss: 18.0992 - mae: 18.0992\n",
            "Epoch 320/500\n",
            "2/2 [==============================] - 0s 7ms/step - loss: 10.6350 - mae: 10.6350\n",
            "Epoch 321/500\n",
            "2/2 [==============================] - 0s 6ms/step - loss: 7.0251 - mae: 7.0251\n",
            "Epoch 322/500\n",
            "2/2 [==============================] - 0s 6ms/step - loss: 8.6778 - mae: 8.6778\n",
            "Epoch 323/500\n",
            "2/2 [==============================] - 0s 6ms/step - loss: 18.3444 - mae: 18.3444\n",
            "Epoch 324/500\n",
            "2/2 [==============================] - 0s 6ms/step - loss: 6.3073 - mae: 6.3073\n",
            "Epoch 325/500\n",
            "2/2 [==============================] - 0s 6ms/step - loss: 14.6019 - mae: 14.6019\n",
            "Epoch 326/500\n",
            "2/2 [==============================] - 0s 6ms/step - loss: 6.9896 - mae: 6.9896\n",
            "Epoch 327/500\n",
            "2/2 [==============================] - 0s 7ms/step - loss: 17.6081 - mae: 17.6081\n",
            "Epoch 328/500\n",
            "2/2 [==============================] - 0s 7ms/step - loss: 14.3784 - mae: 14.3784\n",
            "Epoch 329/500\n",
            "2/2 [==============================] - 0s 7ms/step - loss: 17.6929 - mae: 17.6929\n",
            "Epoch 330/500\n",
            "2/2 [==============================] - 0s 7ms/step - loss: 6.7825 - mae: 6.7825\n",
            "Epoch 331/500\n",
            "2/2 [==============================] - 0s 7ms/step - loss: 19.7255 - mae: 19.7255\n",
            "Epoch 332/500\n",
            "2/2 [==============================] - 0s 6ms/step - loss: 10.5457 - mae: 10.5457\n",
            "Epoch 333/500\n",
            "2/2 [==============================] - 0s 6ms/step - loss: 16.3261 - mae: 16.3261\n",
            "Epoch 334/500\n",
            "2/2 [==============================] - 0s 7ms/step - loss: 9.7242 - mae: 9.7242\n",
            "Epoch 335/500\n",
            "2/2 [==============================] - 0s 6ms/step - loss: 13.0587 - mae: 13.0587\n",
            "Epoch 336/500\n",
            "2/2 [==============================] - 0s 11ms/step - loss: 32.4961 - mae: 32.4961\n",
            "Epoch 337/500\n",
            "2/2 [==============================] - 0s 11ms/step - loss: 11.0411 - mae: 11.0411\n",
            "Epoch 338/500\n",
            "2/2 [==============================] - 0s 7ms/step - loss: 19.9592 - mae: 19.9592\n",
            "Epoch 339/500\n",
            "2/2 [==============================] - 0s 7ms/step - loss: 34.3005 - mae: 34.3005\n",
            "Epoch 340/500\n",
            "2/2 [==============================] - 0s 8ms/step - loss: 8.7203 - mae: 8.7203\n",
            "Epoch 341/500\n",
            "2/2 [==============================] - 0s 6ms/step - loss: 21.9472 - mae: 21.9472\n",
            "Epoch 342/500\n",
            "2/2 [==============================] - 0s 6ms/step - loss: 13.8479 - mae: 13.8479\n",
            "Epoch 343/500\n",
            "2/2 [==============================] - 0s 6ms/step - loss: 11.6942 - mae: 11.6942\n",
            "Epoch 344/500\n",
            "2/2 [==============================] - 0s 7ms/step - loss: 10.6933 - mae: 10.6933\n",
            "Epoch 345/500\n",
            "2/2 [==============================] - 0s 6ms/step - loss: 30.9069 - mae: 30.9069\n",
            "Epoch 346/500\n",
            "2/2 [==============================] - 0s 11ms/step - loss: 10.6423 - mae: 10.6423\n",
            "Epoch 347/500\n",
            "2/2 [==============================] - 0s 9ms/step - loss: 25.5669 - mae: 25.5669\n",
            "Epoch 348/500\n",
            "2/2 [==============================] - 0s 8ms/step - loss: 13.2789 - mae: 13.2789\n",
            "Epoch 349/500\n",
            "2/2 [==============================] - 0s 7ms/step - loss: 13.0383 - mae: 13.0383\n",
            "Epoch 350/500\n",
            "2/2 [==============================] - 0s 8ms/step - loss: 15.4019 - mae: 15.4019\n",
            "Epoch 351/500\n",
            "2/2 [==============================] - 0s 8ms/step - loss: 32.8757 - mae: 32.8757\n",
            "Epoch 352/500\n",
            "2/2 [==============================] - 0s 7ms/step - loss: 14.0861 - mae: 14.0861\n",
            "Epoch 353/500\n",
            "2/2 [==============================] - 0s 12ms/step - loss: 17.7812 - mae: 17.7812\n",
            "Epoch 354/500\n",
            "2/2 [==============================] - 0s 7ms/step - loss: 11.3439 - mae: 11.3439\n",
            "Epoch 355/500\n",
            "2/2 [==============================] - 0s 7ms/step - loss: 26.7722 - mae: 26.7722\n",
            "Epoch 356/500\n",
            "2/2 [==============================] - 0s 7ms/step - loss: 10.1477 - mae: 10.1477\n",
            "Epoch 357/500\n",
            "2/2 [==============================] - 0s 7ms/step - loss: 14.7051 - mae: 14.7051\n",
            "Epoch 358/500\n",
            "2/2 [==============================] - 0s 6ms/step - loss: 14.5781 - mae: 14.5781\n",
            "Epoch 359/500\n",
            "2/2 [==============================] - 0s 6ms/step - loss: 12.3532 - mae: 12.3532\n",
            "Epoch 360/500\n",
            "2/2 [==============================] - 0s 10ms/step - loss: 20.3675 - mae: 20.3675\n",
            "Epoch 361/500\n",
            "2/2 [==============================] - 0s 10ms/step - loss: 10.8729 - mae: 10.8729\n",
            "Epoch 362/500\n",
            "2/2 [==============================] - 0s 7ms/step - loss: 6.8183 - mae: 6.8183\n",
            "Epoch 363/500\n",
            "2/2 [==============================] - 0s 6ms/step - loss: 23.7759 - mae: 23.7759\n",
            "Epoch 364/500\n",
            "2/2 [==============================] - 0s 6ms/step - loss: 29.4643 - mae: 29.4643\n",
            "Epoch 365/500\n",
            "2/2 [==============================] - 0s 7ms/step - loss: 8.2723 - mae: 8.2723\n",
            "Epoch 366/500\n",
            "2/2 [==============================] - 0s 7ms/step - loss: 6.1104 - mae: 6.1104\n",
            "Epoch 367/500\n",
            "2/2 [==============================] - 0s 9ms/step - loss: 34.5442 - mae: 34.5442\n",
            "Epoch 368/500\n",
            "2/2 [==============================] - 0s 8ms/step - loss: 7.3494 - mae: 7.3494\n",
            "Epoch 369/500\n",
            "2/2 [==============================] - 0s 8ms/step - loss: 8.6976 - mae: 8.6976\n",
            "Epoch 370/500\n",
            "2/2 [==============================] - 0s 8ms/step - loss: 14.2437 - mae: 14.2437\n",
            "Epoch 371/500\n",
            "2/2 [==============================] - 0s 8ms/step - loss: 6.8502 - mae: 6.8502\n",
            "Epoch 372/500\n",
            "2/2 [==============================] - 0s 6ms/step - loss: 6.5594 - mae: 6.5594\n",
            "Epoch 373/500\n",
            "2/2 [==============================] - 0s 6ms/step - loss: 24.1859 - mae: 24.1859\n",
            "Epoch 374/500\n",
            "2/2 [==============================] - 0s 6ms/step - loss: 10.2252 - mae: 10.2252\n",
            "Epoch 375/500\n",
            "2/2 [==============================] - 0s 7ms/step - loss: 12.8493 - mae: 12.8493\n",
            "Epoch 376/500\n",
            "2/2 [==============================] - 0s 6ms/step - loss: 14.7216 - mae: 14.7216\n",
            "Epoch 377/500\n",
            "2/2 [==============================] - 0s 6ms/step - loss: 14.6528 - mae: 14.6528\n",
            "Epoch 378/500\n",
            "2/2 [==============================] - 0s 6ms/step - loss: 16.1776 - mae: 16.1776\n",
            "Epoch 379/500\n",
            "2/2 [==============================] - 0s 6ms/step - loss: 20.6052 - mae: 20.6052\n",
            "Epoch 380/500\n",
            "2/2 [==============================] - 0s 7ms/step - loss: 34.2021 - mae: 34.2021\n",
            "Epoch 381/500\n",
            "2/2 [==============================] - 0s 6ms/step - loss: 8.8592 - mae: 8.8592\n",
            "Epoch 382/500\n",
            "2/2 [==============================] - 0s 6ms/step - loss: 9.6166 - mae: 9.6166\n",
            "Epoch 383/500\n",
            "2/2 [==============================] - 0s 7ms/step - loss: 5.7670 - mae: 5.7670\n",
            "Epoch 384/500\n",
            "2/2 [==============================] - 0s 6ms/step - loss: 8.7140 - mae: 8.7140\n",
            "Epoch 385/500\n",
            "2/2 [==============================] - 0s 6ms/step - loss: 4.9654 - mae: 4.9654\n",
            "Epoch 386/500\n",
            "2/2 [==============================] - 0s 6ms/step - loss: 25.1214 - mae: 25.1214\n",
            "Epoch 387/500\n",
            "2/2 [==============================] - 0s 6ms/step - loss: 15.1251 - mae: 15.1251\n",
            "Epoch 388/500\n",
            "2/2 [==============================] - 0s 11ms/step - loss: 6.6486 - mae: 6.6486\n",
            "Epoch 389/500\n",
            "2/2 [==============================] - 0s 7ms/step - loss: 17.5645 - mae: 17.5645\n",
            "Epoch 390/500\n",
            "2/2 [==============================] - 0s 6ms/step - loss: 23.8522 - mae: 23.8522\n",
            "Epoch 391/500\n",
            "2/2 [==============================] - 0s 9ms/step - loss: 16.5336 - mae: 16.5336\n",
            "Epoch 392/500\n",
            "2/2 [==============================] - 0s 6ms/step - loss: 8.3703 - mae: 8.3703\n",
            "Epoch 393/500\n",
            "2/2 [==============================] - 0s 7ms/step - loss: 18.1394 - mae: 18.1394\n",
            "Epoch 394/500\n",
            "2/2 [==============================] - 0s 6ms/step - loss: 14.1990 - mae: 14.1990\n",
            "Epoch 395/500\n",
            "2/2 [==============================] - 0s 6ms/step - loss: 28.6668 - mae: 28.6668\n",
            "Epoch 396/500\n",
            "2/2 [==============================] - 0s 7ms/step - loss: 8.2289 - mae: 8.2289\n",
            "Epoch 397/500\n",
            "2/2 [==============================] - 0s 6ms/step - loss: 10.5227 - mae: 10.5227\n",
            "Epoch 398/500\n",
            "2/2 [==============================] - 0s 7ms/step - loss: 7.4008 - mae: 7.4008\n",
            "Epoch 399/500\n",
            "2/2 [==============================] - 0s 7ms/step - loss: 15.6007 - mae: 15.6007\n",
            "Epoch 400/500\n",
            "2/2 [==============================] - 0s 7ms/step - loss: 6.7468 - mae: 6.7468\n",
            "Epoch 401/500\n",
            "2/2 [==============================] - 0s 7ms/step - loss: 8.0127 - mae: 8.0127\n",
            "Epoch 402/500\n",
            "2/2 [==============================] - 0s 6ms/step - loss: 16.4472 - mae: 16.4472\n",
            "Epoch 403/500\n",
            "2/2 [==============================] - 0s 6ms/step - loss: 12.3679 - mae: 12.3679\n",
            "Epoch 404/500\n",
            "2/2 [==============================] - 0s 6ms/step - loss: 22.9461 - mae: 22.9461\n",
            "Epoch 405/500\n",
            "2/2 [==============================] - 0s 6ms/step - loss: 18.0722 - mae: 18.0722\n",
            "Epoch 406/500\n",
            "2/2 [==============================] - 0s 7ms/step - loss: 7.0646 - mae: 7.0646\n",
            "Epoch 407/500\n",
            "2/2 [==============================] - 0s 7ms/step - loss: 12.6297 - mae: 12.6297\n",
            "Epoch 408/500\n",
            "2/2 [==============================] - 0s 10ms/step - loss: 5.6812 - mae: 5.6812\n",
            "Epoch 409/500\n",
            "2/2 [==============================] - 0s 11ms/step - loss: 31.1603 - mae: 31.1603\n",
            "Epoch 410/500\n",
            "2/2 [==============================] - 0s 6ms/step - loss: 9.2771 - mae: 9.2771\n",
            "Epoch 411/500\n",
            "2/2 [==============================] - 0s 7ms/step - loss: 14.8885 - mae: 14.8885\n",
            "Epoch 412/500\n",
            "2/2 [==============================] - 0s 8ms/step - loss: 21.7732 - mae: 21.7732\n",
            "Epoch 413/500\n",
            "2/2 [==============================] - 0s 6ms/step - loss: 12.5645 - mae: 12.5645\n",
            "Epoch 414/500\n",
            "2/2 [==============================] - 0s 6ms/step - loss: 6.0822 - mae: 6.0822\n",
            "Epoch 415/500\n",
            "2/2 [==============================] - 0s 9ms/step - loss: 13.2408 - mae: 13.2408\n",
            "Epoch 416/500\n",
            "2/2 [==============================] - 0s 6ms/step - loss: 27.4653 - mae: 27.4653\n",
            "Epoch 417/500\n",
            "2/2 [==============================] - 0s 7ms/step - loss: 10.5453 - mae: 10.5453\n",
            "Epoch 418/500\n",
            "2/2 [==============================] - 0s 8ms/step - loss: 12.8539 - mae: 12.8539\n",
            "Epoch 419/500\n",
            "2/2 [==============================] - 0s 8ms/step - loss: 15.9004 - mae: 15.9004\n",
            "Epoch 420/500\n",
            "2/2 [==============================] - 0s 6ms/step - loss: 24.7933 - mae: 24.7933\n",
            "Epoch 421/500\n",
            "2/2 [==============================] - 0s 7ms/step - loss: 17.2730 - mae: 17.2730\n",
            "Epoch 422/500\n",
            "2/2 [==============================] - 0s 7ms/step - loss: 7.8204 - mae: 7.8204\n",
            "Epoch 423/500\n",
            "2/2 [==============================] - 0s 8ms/step - loss: 25.4171 - mae: 25.4171\n",
            "Epoch 424/500\n",
            "2/2 [==============================] - 0s 6ms/step - loss: 15.0195 - mae: 15.0195\n",
            "Epoch 425/500\n",
            "2/2 [==============================] - 0s 8ms/step - loss: 7.1274 - mae: 7.1274\n",
            "Epoch 426/500\n",
            "2/2 [==============================] - 0s 8ms/step - loss: 20.2315 - mae: 20.2315\n",
            "Epoch 427/500\n",
            "2/2 [==============================] - 0s 8ms/step - loss: 6.2905 - mae: 6.2905\n",
            "Epoch 428/500\n",
            "2/2 [==============================] - 0s 7ms/step - loss: 12.9303 - mae: 12.9303\n",
            "Epoch 429/500\n",
            "2/2 [==============================] - 0s 6ms/step - loss: 10.7295 - mae: 10.7295\n",
            "Epoch 430/500\n",
            "2/2 [==============================] - 0s 8ms/step - loss: 11.3402 - mae: 11.3402\n",
            "Epoch 431/500\n",
            "2/2 [==============================] - 0s 8ms/step - loss: 10.5581 - mae: 10.5581\n",
            "Epoch 432/500\n",
            "2/2 [==============================] - 0s 6ms/step - loss: 11.3873 - mae: 11.3873\n",
            "Epoch 433/500\n",
            "2/2 [==============================] - 0s 6ms/step - loss: 11.3863 - mae: 11.3863\n",
            "Epoch 434/500\n",
            "2/2 [==============================] - 0s 10ms/step - loss: 30.4212 - mae: 30.4212\n",
            "Epoch 435/500\n",
            "2/2 [==============================] - 0s 7ms/step - loss: 10.5051 - mae: 10.5051\n",
            "Epoch 436/500\n",
            "2/2 [==============================] - 0s 6ms/step - loss: 28.9054 - mae: 28.9054\n",
            "Epoch 437/500\n",
            "2/2 [==============================] - 0s 8ms/step - loss: 8.6126 - mae: 8.6126\n",
            "Epoch 438/500\n",
            "2/2 [==============================] - 0s 6ms/step - loss: 12.7383 - mae: 12.7383\n",
            "Epoch 439/500\n",
            "2/2 [==============================] - 0s 6ms/step - loss: 33.6907 - mae: 33.6907\n",
            "Epoch 440/500\n",
            "2/2 [==============================] - 0s 6ms/step - loss: 15.1117 - mae: 15.1117\n",
            "Epoch 441/500\n",
            "2/2 [==============================] - 0s 6ms/step - loss: 17.4924 - mae: 17.4924\n",
            "Epoch 442/500\n",
            "2/2 [==============================] - 0s 6ms/step - loss: 22.3352 - mae: 22.3352\n",
            "Epoch 443/500\n",
            "2/2 [==============================] - 0s 6ms/step - loss: 23.5118 - mae: 23.5118\n",
            "Epoch 444/500\n",
            "2/2 [==============================] - 0s 6ms/step - loss: 10.9381 - mae: 10.9381\n",
            "Epoch 445/500\n",
            "2/2 [==============================] - 0s 6ms/step - loss: 14.9319 - mae: 14.9319\n",
            "Epoch 446/500\n",
            "2/2 [==============================] - 0s 6ms/step - loss: 18.0196 - mae: 18.0196\n",
            "Epoch 447/500\n",
            "2/2 [==============================] - 0s 6ms/step - loss: 5.4122 - mae: 5.4122\n",
            "Epoch 448/500\n",
            "2/2 [==============================] - 0s 6ms/step - loss: 10.0700 - mae: 10.0700\n",
            "Epoch 449/500\n",
            "2/2 [==============================] - 0s 6ms/step - loss: 14.0192 - mae: 14.0192\n",
            "Epoch 450/500\n",
            "2/2 [==============================] - 0s 8ms/step - loss: 16.7908 - mae: 16.7908\n",
            "Epoch 451/500\n",
            "2/2 [==============================] - 0s 6ms/step - loss: 14.2962 - mae: 14.2962\n",
            "Epoch 452/500\n",
            "2/2 [==============================] - 0s 5ms/step - loss: 30.6338 - mae: 30.6338\n",
            "Epoch 453/500\n",
            "2/2 [==============================] - 0s 10ms/step - loss: 7.6483 - mae: 7.6483\n",
            "Epoch 454/500\n",
            "2/2 [==============================] - 0s 8ms/step - loss: 28.1584 - mae: 28.1584\n",
            "Epoch 455/500\n",
            "2/2 [==============================] - 0s 7ms/step - loss: 7.9656 - mae: 7.9656\n",
            "Epoch 456/500\n",
            "2/2 [==============================] - 0s 8ms/step - loss: 10.4018 - mae: 10.4018\n",
            "Epoch 457/500\n",
            "2/2 [==============================] - 0s 10ms/step - loss: 15.0361 - mae: 15.0361\n",
            "Epoch 458/500\n",
            "2/2 [==============================] - 0s 9ms/step - loss: 16.5683 - mae: 16.5683\n",
            "Epoch 459/500\n",
            "2/2 [==============================] - 0s 9ms/step - loss: 26.8716 - mae: 26.8716\n",
            "Epoch 460/500\n",
            "2/2 [==============================] - 0s 7ms/step - loss: 12.4490 - mae: 12.4490\n",
            "Epoch 461/500\n",
            "2/2 [==============================] - 0s 7ms/step - loss: 12.4888 - mae: 12.4888\n",
            "Epoch 462/500\n",
            "2/2 [==============================] - 0s 6ms/step - loss: 13.3230 - mae: 13.3230\n",
            "Epoch 463/500\n",
            "2/2 [==============================] - 0s 6ms/step - loss: 29.5643 - mae: 29.5643\n",
            "Epoch 464/500\n",
            "2/2 [==============================] - 0s 7ms/step - loss: 3.4570 - mae: 3.4570\n",
            "Epoch 465/500\n",
            "2/2 [==============================] - 0s 7ms/step - loss: 15.2226 - mae: 15.2226\n",
            "Epoch 466/500\n",
            "2/2 [==============================] - 0s 7ms/step - loss: 20.8495 - mae: 20.8495\n",
            "Epoch 467/500\n",
            "2/2 [==============================] - 0s 6ms/step - loss: 30.4673 - mae: 30.4673\n",
            "Epoch 468/500\n",
            "2/2 [==============================] - 0s 6ms/step - loss: 11.0345 - mae: 11.0345\n",
            "Epoch 469/500\n",
            "2/2 [==============================] - 0s 5ms/step - loss: 12.8086 - mae: 12.8086\n",
            "Epoch 470/500\n",
            "2/2 [==============================] - 0s 6ms/step - loss: 3.2253 - mae: 3.2253\n",
            "Epoch 471/500\n",
            "2/2 [==============================] - 0s 6ms/step - loss: 16.7044 - mae: 16.7044\n",
            "Epoch 472/500\n",
            "2/2 [==============================] - 0s 7ms/step - loss: 13.3958 - mae: 13.3958\n",
            "Epoch 473/500\n",
            "2/2 [==============================] - 0s 7ms/step - loss: 15.2828 - mae: 15.2828\n",
            "Epoch 474/500\n",
            "2/2 [==============================] - 0s 8ms/step - loss: 11.7500 - mae: 11.7500\n",
            "Epoch 475/500\n",
            "2/2 [==============================] - 0s 7ms/step - loss: 16.4202 - mae: 16.4202\n",
            "Epoch 476/500\n",
            "2/2 [==============================] - 0s 8ms/step - loss: 13.8794 - mae: 13.8794\n",
            "Epoch 477/500\n",
            "2/2 [==============================] - 0s 7ms/step - loss: 30.6780 - mae: 30.6780\n",
            "Epoch 478/500\n",
            "2/2 [==============================] - 0s 12ms/step - loss: 8.5980 - mae: 8.5980\n",
            "Epoch 479/500\n",
            "2/2 [==============================] - 0s 9ms/step - loss: 10.7404 - mae: 10.7404\n",
            "Epoch 480/500\n",
            "2/2 [==============================] - 0s 6ms/step - loss: 17.9086 - mae: 17.9086\n",
            "Epoch 481/500\n",
            "2/2 [==============================] - 0s 7ms/step - loss: 15.8115 - mae: 15.8115\n",
            "Epoch 482/500\n",
            "2/2 [==============================] - 0s 9ms/step - loss: 21.3150 - mae: 21.3150\n",
            "Epoch 483/500\n",
            "2/2 [==============================] - 0s 10ms/step - loss: 25.3655 - mae: 25.3655\n",
            "Epoch 484/500\n",
            "2/2 [==============================] - 0s 7ms/step - loss: 23.9559 - mae: 23.9559\n",
            "Epoch 485/500\n",
            "2/2 [==============================] - 0s 6ms/step - loss: 5.7584 - mae: 5.7584\n",
            "Epoch 486/500\n",
            "2/2 [==============================] - 0s 6ms/step - loss: 19.9788 - mae: 19.9788\n",
            "Epoch 487/500\n",
            "2/2 [==============================] - 0s 6ms/step - loss: 14.0432 - mae: 14.0432\n",
            "Epoch 488/500\n",
            "2/2 [==============================] - 0s 6ms/step - loss: 30.6141 - mae: 30.6141\n",
            "Epoch 489/500\n",
            "2/2 [==============================] - 0s 8ms/step - loss: 11.9462 - mae: 11.9462\n",
            "Epoch 490/500\n",
            "2/2 [==============================] - 0s 8ms/step - loss: 12.7370 - mae: 12.7370\n",
            "Epoch 491/500\n",
            "2/2 [==============================] - 0s 9ms/step - loss: 23.6206 - mae: 23.6206\n",
            "Epoch 492/500\n",
            "2/2 [==============================] - 0s 10ms/step - loss: 20.5218 - mae: 20.5218\n",
            "Epoch 493/500\n",
            "2/2 [==============================] - 0s 8ms/step - loss: 4.9801 - mae: 4.9801\n",
            "Epoch 494/500\n",
            "2/2 [==============================] - 0s 10ms/step - loss: 12.7825 - mae: 12.7825\n",
            "Epoch 495/500\n",
            "2/2 [==============================] - 0s 9ms/step - loss: 13.3807 - mae: 13.3807\n",
            "Epoch 496/500\n",
            "2/2 [==============================] - 0s 9ms/step - loss: 12.6748 - mae: 12.6748\n",
            "Epoch 497/500\n",
            "2/2 [==============================] - 0s 7ms/step - loss: 17.6215 - mae: 17.6215\n",
            "Epoch 498/500\n",
            "2/2 [==============================] - 0s 8ms/step - loss: 23.5534 - mae: 23.5534\n",
            "Epoch 499/500\n",
            "2/2 [==============================] - 0s 7ms/step - loss: 9.3673 - mae: 9.3673\n",
            "Epoch 500/500\n",
            "2/2 [==============================] - 0s 6ms/step - loss: 14.6289 - mae: 14.6289\n"
          ]
        },
        {
          "output_type": "execute_result",
          "data": {
            "text/plain": [
              "<keras.callbacks.History at 0x7d273846c280>"
            ]
          },
          "metadata": {},
          "execution_count": 58
        }
      ]
    },
    {
      "cell_type": "code",
      "source": [
        "# Make and plot some predictions\n",
        "y_preds_3 = model_3.predict(X_test)\n",
        "plot_predictions(predictions=y_preds_3)"
      ],
      "metadata": {
        "colab": {
          "base_uri": "https://localhost:8080/",
          "height": 616
        },
        "id": "8UUWTXayHKJb",
        "outputId": "77f67f92-3245-4952-b017-b77ce30c019a"
      },
      "execution_count": null,
      "outputs": [
        {
          "output_type": "stream",
          "name": "stdout",
          "text": [
            "1/1 [==============================] - 0s 101ms/step\n"
          ]
        },
        {
          "output_type": "display_data",
          "data": {
            "text/plain": [
              "<Figure size 1000x700 with 1 Axes>"
            ],
            "image/png": "[encoded data removed]"
          },
          "metadata": {}
        }
      ]
    },
    {
      "cell_type": "code",
      "source": [
        "# Calculate model_3 evaluation metrics\n",
        "mae_3 = mae(y_test, y_preds_3)\n",
        "mse_3 = mse(y_test, y_preds_3)\n",
        "mae_3, mse_3"
      ],
      "metadata": {
        "colab": {
          "base_uri": "https://localhost:8080/"
        },
        "id": "Um5b-hK0He4N",
        "outputId": "d7f56a7f-870f-4cd2-88e1-c891300ed11d"
      },
      "execution_count": null,
      "outputs": [
        {
          "output_type": "execute_result",
          "data": {
            "text/plain": [
              "(<tf.Tensor: shape=(), dtype=float32, numpy=68.699646>,\n",
              " <tf.Tensor: shape=(), dtype=float32, numpy=4806.1104>)"
            ]
          },
          "metadata": {},
          "execution_count": 60
        }
      ]
    },
    {
      "cell_type": "markdown",
      "source": [
        "⌨ **Note:** You want to start with small experiments (small models) and make sure they work and then increase their scale when necessary."
      ],
      "metadata": {
        "id": "aKn2RdteJ55B"
      }
    },
    {
      "cell_type": "markdown",
      "source": [
        "## Comparing the results of our experiments\n",
        "\n",
        "We've run a few experiments, let's compare the results."
      ],
      "metadata": {
        "id": "hB9u7NZPIM6f"
      }
    },
    {
      "cell_type": "code",
      "source": [
        "# Let's compare our model's results using a pandas DataFrame\n",
        "import pandas as pd\n",
        "\n",
        "model_results = [[\"model_1\", mae_1.numpy(), mse_1.numpy()],\n",
        "                 [\"model_2\", mae_2.numpy(), mse_2.numpy()],\n",
        "                 [\"model_3\", mae_3.numpy(), mse_3.numpy()]]\n",
        "\n",
        "all_results = pd.DataFrame(model_results, columns=[\"model\", \"mae\", \"mse\"])\n",
        "all_results"
      ],
      "metadata": {
        "colab": {
          "base_uri": "https://localhost:8080/",
          "height": 143
        },
        "id": "H0HLd_sVJh_L",
        "outputId": "a8c59ca2-00ad-4d16-f804-592172b89806"
      },
      "execution_count": null,
      "outputs": [
        {
          "output_type": "execute_result",
          "data": {
            "text/plain": [
              "     model        mae          mse\n",
              "0  model_1  15.010574   226.171478\n",
              "1  model_2  42.930931  1868.677368\n",
              "2  model_3  68.699646  4806.110352"
            ],
            "text/html": [
              "\n",
              "\n",
              "  <div id=\"df-b1b6454a-6d82-40b7-a3cd-65537eea0697\">\n",
              "    <div class=\"colab-df-container\">\n",
              "      <div>\n",
              "<style scoped>\n",
              "    .dataframe tbody tr th:only-of-type {\n",
              "        vertical-align: middle;\n",
              "    }\n",
              "\n",
              "    .dataframe tbody tr th {\n",
              "        vertical-align: top;\n",
              "    }\n",
              "\n",
              "    .dataframe thead th {\n",
              "        text-align: right;\n",
              "    }\n",
              "</style>\n",
              "<table border=\"1\" class=\"dataframe\">\n",
              "  <thead>\n",
              "    <tr style=\"text-align: right;\">\n",
              "      <th></th>\n",
              "      <th>model</th>\n",
              "      <th>mae</th>\n",
              "      <th>mse</th>\n",
              "    </tr>\n",
              "  </thead>\n",
              "  <tbody>\n",
              "    <tr>\n",
              "      <th>0</th>\n",
              "      <td>model_1</td>\n",
              "      <td>15.010574</td>\n",
              "      <td>226.171478</td>\n",
              "    </tr>\n",
              "    <tr>\n",
              "      <th>1</th>\n",
              "      <td>model_2</td>\n",
              "      <td>42.930931</td>\n",
              "      <td>1868.677368</td>\n",
              "    </tr>\n",
              "    <tr>\n",
              "      <th>2</th>\n",
              "      <td>model_3</td>\n",
              "      <td>68.699646</td>\n",
              "      <td>4806.110352</td>\n",
              "    </tr>\n",
              "  </tbody>\n",
              "</table>\n",
              "</div>\n",
              "      <button class=\"colab-df-convert\" onclick=\"convertToInteractive('df-b1b6454a-6d82-40b7-a3cd-65537eea0697')\"\n",
              "              title=\"Convert this dataframe to an interactive table.\"\n",
              "              style=\"display:none;\">\n",
              "\n",
              "  <svg xmlns=\"http://www.w3.org/2000/svg\" height=\"24px\"viewBox=\"0 0 24 24\"\n",
              "       width=\"24px\">\n",
              "    <path d=\"M0 0h24v24H0V0z\" fill=\"none\"/>\n",
              "    <path d=\"M18.56 5.44l.94 2.06.94-2.06 2.06-.94-2.06-.94-.94-2.06-.94 2.06-2.06.94zm-11 1L8.5 8.5l.94-2.06 2.06-.94-2.06-.94L8.5 2.5l-.94 2.06-2.06.94zm10 10l.94 2.06.94-2.06 2.06-.94-2.06-.94-.94-2.06-.94 2.06-2.06.94z\"/><path d=\"M17.41 7.96l-1.37-1.37c-.4-.4-.92-.59-1.43-.59-.52 0-1.04.2-1.43.59L10.3 9.45l-7.72 7.72c-.78.78-.78 2.05 0 2.83L4 21.41c.39.39.9.59 1.41.59.51 0 1.02-.2 1.41-.59l7.78-7.78 2.81-2.81c.8-.78.8-2.07 0-2.86zM5.41 20L4 18.59l7.72-7.72 1.47 1.35L5.41 20z\"/>\n",
              "  </svg>\n",
              "      </button>\n",
              "\n",
              "\n",
              "\n",
              "    <div id=\"df-12ab5895-84e7-474f-89fd-24b2ee5b87e1\">\n",
              "      <button class=\"colab-df-quickchart\" onclick=\"quickchart('df-12ab5895-84e7-474f-89fd-24b2ee5b87e1')\"\n",
              "              title=\"Suggest charts.\"\n",
              "              style=\"display:none;\">\n",
              "\n",
              "<svg xmlns=\"http://www.w3.org/2000/svg\" height=\"24px\"viewBox=\"0 0 24 24\"\n",
              "     width=\"24px\">\n",
              "    <g>\n",
              "        <path d=\"M19 3H5c-1.1 0-2 .9-2 2v14c0 1.1.9 2 2 2h14c1.1 0 2-.9 2-2V5c0-1.1-.9-2-2-2zM9 17H7v-7h2v7zm4 0h-2V7h2v10zm4 0h-2v-4h2v4z\"/>\n",
              "    </g>\n",
              "</svg>\n",
              "      </button>\n",
              "    </div>\n",
              "\n",
              "<style>\n",
              "  .colab-df-quickchart {\n",
              "    background-color: #E8F0FE;\n",
              "    border: none;\n",
              "    border-radius: 50%;\n",
              "    cursor: pointer;\n",
              "    display: none;\n",
              "    fill: #1967D2;\n",
              "    height: 32px;\n",
              "    padding: 0 0 0 0;\n",
              "    width: 32px;\n",
              "  }\n",
              "\n",
              "  .colab-df-quickchart:hover {\n",
              "    background-color: #E2EBFA;\n",
              "    box-shadow: 0px 1px 2px rgba(60, 64, 67, 0.3), 0px 1px 3px 1px rgba(60, 64, 67, 0.15);\n",
              "    fill: #174EA6;\n",
              "  }\n",
              "\n",
              "  [theme=dark] .colab-df-quickchart {\n",
              "    background-color: #3B4455;\n",
              "    fill: #D2E3FC;\n",
              "  }\n",
              "\n",
              "  [theme=dark] .colab-df-quickchart:hover {\n",
              "    background-color: #434B5C;\n",
              "    box-shadow: 0px 1px 3px 1px rgba(0, 0, 0, 0.15);\n",
              "    filter: drop-shadow(0px 1px 2px rgba(0, 0, 0, 0.3));\n",
              "    fill: #FFFFFF;\n",
              "  }\n",
              "</style>\n",
              "\n",
              "    <script>\n",
              "      async function quickchart(key) {\n",
              "        const containerElement = document.querySelector('#' + key);\n",
              "        const charts = await google.colab.kernel.invokeFunction(\n",
              "            'suggestCharts', [key], {});\n",
              "      }\n",
              "    </script>\n",
              "\n",
              "      <script>\n",
              "\n",
              "function displayQuickchartButton(domScope) {\n",
              "  let quickchartButtonEl =\n",
              "    domScope.querySelector('#df-12ab5895-84e7-474f-89fd-24b2ee5b87e1 button.colab-df-quickchart');\n",
              "  quickchartButtonEl.style.display =\n",
              "    google.colab.kernel.accessAllowed ? 'block' : 'none';\n",
              "}\n",
              "\n",
              "        displayQuickchartButton(document);\n",
              "      </script>\n",
              "      <style>\n",
              "    .colab-df-container {\n",
              "      display:flex;\n",
              "      flex-wrap:wrap;\n",
              "      gap: 12px;\n",
              "    }\n",
              "\n",
              "    .colab-df-convert {\n",
              "      background-color: #E8F0FE;\n",
              "      border: none;\n",
              "      border-radius: 50%;\n",
              "      cursor: pointer;\n",
              "      display: none;\n",
              "      fill: #1967D2;\n",
              "      height: 32px;\n",
              "      padding: 0 0 0 0;\n",
              "      width: 32px;\n",
              "    }\n",
              "\n",
              "    .colab-df-convert:hover {\n",
              "      background-color: #E2EBFA;\n",
              "      box-shadow: 0px 1px 2px rgba(60, 64, 67, 0.3), 0px 1px 3px 1px rgba(60, 64, 67, 0.15);\n",
              "      fill: #174EA6;\n",
              "    }\n",
              "\n",
              "    [theme=dark] .colab-df-convert {\n",
              "      background-color: #3B4455;\n",
              "      fill: #D2E3FC;\n",
              "    }\n",
              "\n",
              "    [theme=dark] .colab-df-convert:hover {\n",
              "      background-color: #434B5C;\n",
              "      box-shadow: 0px 1px 3px 1px rgba(0, 0, 0, 0.15);\n",
              "      filter: drop-shadow(0px 1px 2px rgba(0, 0, 0, 0.3));\n",
              "      fill: #FFFFFF;\n",
              "    }\n",
              "  </style>\n",
              "\n",
              "      <script>\n",
              "        const buttonEl =\n",
              "          document.querySelector('#df-b1b6454a-6d82-40b7-a3cd-65537eea0697 button.colab-df-convert');\n",
              "        buttonEl.style.display =\n",
              "          google.colab.kernel.accessAllowed ? 'block' : 'none';\n",
              "\n",
              "        async function convertToInteractive(key) {\n",
              "          const element = document.querySelector('#df-b1b6454a-6d82-40b7-a3cd-65537eea0697');\n",
              "          const dataTable =\n",
              "            await google.colab.kernel.invokeFunction('convertToInteractive',\n",
              "                                                     [key], {});\n",
              "          if (!dataTable) return;\n",
              "\n",
              "          const docLinkHtml = 'Like what you see? Visit the ' +\n",
              "            '<a target=\"_blank\" href=https://colab.research.google.com/notebooks/data_table.ipynb>data table notebook</a>'\n",
              "            + ' to learn more about interactive tables.';\n",
              "          element.innerHTML = '';\n",
              "          dataTable['output_type'] = 'display_data';\n",
              "          await google.colab.output.renderOutput(dataTable, element);\n",
              "          const docLink = document.createElement('div');\n",
              "          docLink.innerHTML = docLinkHtml;\n",
              "          element.appendChild(docLink);\n",
              "        }\n",
              "      </script>\n",
              "    </div>\n",
              "  </div>\n"
            ]
          },
          "metadata": {},
          "execution_count": 61
        }
      ]
    },
    {
      "cell_type": "markdown",
      "source": [
        "Looks like `model_2` performed the best..."
      ],
      "metadata": {
        "id": "UD9-x_BRLxfN"
      }
    },
    {
      "cell_type": "code",
      "source": [
        "model_2.summary()"
      ],
      "metadata": {
        "colab": {
          "base_uri": "https://localhost:8080/"
        },
        "id": "fA1Xh9oGK_A1",
        "outputId": "ae702c9d-8d63-49dd-8b47-91c6c222d97d"
      },
      "execution_count": null,
      "outputs": [
        {
          "output_type": "stream",
          "name": "stdout",
          "text": [
            "Model: \"sequential_5\"\n",
            "_________________________________________________________________\n",
            " Layer (type)                Output Shape              Param #   \n",
            "=================================================================\n",
            " dense_6 (Dense)             (None, 10)                20        \n",
            "                                                                 \n",
            " dense_7 (Dense)             (None, 1)                 11        \n",
            "                                                                 \n",
            "=================================================================\n",
            "Total params: 31\n",
            "Trainable params: 31\n",
            "Non-trainable params: 0\n",
            "_________________________________________________________________\n"
          ]
        }
      ]
    },
    {
      "cell_type": "markdown",
      "source": [
        "> ⌨ **Note:** One of your main goals should be to minimize the time between your experiments. The more experiments you do, the more things you'll figure out which don't work and in turn, get closer to figuring out what does work. Remember the machine learning practioner's motto: \"experiment, experiment, experiment\"."
      ],
      "metadata": {
        "id": "XtfnK8seLgle"
      }
    },
    {
      "cell_type": "markdown",
      "source": [
        "## Tracking your experiments\n",
        "\n",
        "One really good habit in machine learning modelling is to track the results of your experiments.\n",
        "\n",
        "And when doing so, it can be tedious if you're running lots of experiments.\n",
        "\n",
        "Luckily, there are tools to help us!\n",
        "\n",
        "📚 **Resource:** As you build more models, you'll want to look into using:\n",
        "\n",
        "* TensorBorad - a component of the TensorFlow library to help track modelling experiments (we'll see this one later).\n",
        "* Weights & Biases - a tool for tracking all of kinds of machine learning experiments (plugs straight into TensorBoard)"
      ],
      "metadata": {
        "id": "chCaZ6UmMDF6"
      }
    },
    {
      "cell_type": "markdown",
      "source": [
        "## Saving our models\n",
        "\n",
        "Saving our models allows us to use them outside of Google Colab (or wherever they were trained) such as in a web application or a mobile app.\n",
        "\n",
        "There are two main formats we can save our model's too:\n",
        "\n",
        "1. The SavedModel format\n",
        "2. The HDF5 format"
      ],
      "metadata": {
        "id": "EwIm70cMNhe7"
      }
    },
    {
      "cell_type": "code",
      "source": [
        "# Save model using the SavedModel_format\n",
        "model_2.save(\"best_model_SavedModel_format\")"
      ],
      "metadata": {
        "colab": {
          "base_uri": "https://localhost:8080/"
        },
        "id": "rSYAJ_SGPCDC",
        "outputId": "62c4ac0f-d8f6-4d75-9e35-c9d8df5d6467"
      },
      "execution_count": null,
      "outputs": [
        {
          "output_type": "stream",
          "name": "stderr",
          "text": [
            "WARNING:absl:Found untraced functions such as _update_step_xla while saving (showing 1 of 1). These functions will not be directly callable after loading.\n"
          ]
        }
      ]
    },
    {
      "cell_type": "code",
      "source": [
        "# Save model using the HDF5 format\n",
        "model_2.save(\"best_model_HDF5_format.h5\")"
      ],
      "metadata": {
        "id": "uSwMdU49PQKX"
      },
      "execution_count": null,
      "outputs": []
    },
    {
      "cell_type": "markdown",
      "source": [
        "## Loading in a saved model"
      ],
      "metadata": {
        "id": "kCvSZxbYQ5qx"
      }
    },
    {
      "cell_type": "code",
      "source": [
        "# Load in the SavedModel format model\n",
        "loaded_SavedModel_format = tf.keras.models.load_model(\"best_model_SavedModel_format\")\n",
        "loaded_SavedModel_format.summary()"
      ],
      "metadata": {
        "colab": {
          "base_uri": "https://localhost:8080/"
        },
        "id": "Y5d9v6NnRp-N",
        "outputId": "35221a3e-1f93-4821-8023-0fb07d8aecad"
      },
      "execution_count": null,
      "outputs": [
        {
          "output_type": "stream",
          "name": "stdout",
          "text": [
            "Model: \"sequential_5\"\n",
            "_________________________________________________________________\n",
            " Layer (type)                Output Shape              Param #   \n",
            "=================================================================\n",
            " dense_6 (Dense)             (None, 10)                20        \n",
            "                                                                 \n",
            " dense_7 (Dense)             (None, 1)                 11        \n",
            "                                                                 \n",
            "=================================================================\n",
            "Total params: 31\n",
            "Trainable params: 31\n",
            "Non-trainable params: 0\n",
            "_________________________________________________________________\n"
          ]
        }
      ]
    },
    {
      "cell_type": "code",
      "source": [
        "# Compare model_2 predictions with SavedModel format model predictions\n",
        "model_2_preds = model_2.predict(X_test)\n",
        "loaded_SavedModel_format_preds = loaded_SavedModel_format.predict(X_test)\n",
        "model_2_preds == loaded_SavedModel_format_preds"
      ],
      "metadata": {
        "colab": {
          "base_uri": "https://localhost:8080/"
        },
        "id": "bxLeay9XR9ve",
        "outputId": "94049014-1a7d-4380-d612-d7a257221a58"
      },
      "execution_count": null,
      "outputs": [
        {
          "output_type": "stream",
          "name": "stdout",
          "text": [
            "1/1 [==============================] - 0s 47ms/step\n",
            "1/1 [==============================] - 0s 79ms/step\n"
          ]
        },
        {
          "output_type": "execute_result",
          "data": {
            "text/plain": [
              "array([[ True],\n",
              "       [ True],\n",
              "       [ True],\n",
              "       [ True],\n",
              "       [ True],\n",
              "       [ True],\n",
              "       [ True],\n",
              "       [ True],\n",
              "       [ True],\n",
              "       [ True]])"
            ]
          },
          "metadata": {},
          "execution_count": 66
        }
      ]
    },
    {
      "cell_type": "code",
      "source": [
        "# Compare the MAEof model_2 preds and loaded SavedModel\n",
        "mae(y_true=y_test, y_pred=model_2_preds) == mae(y_true=y_test, y_pred=loaded_SavedModel_format_preds)"
      ],
      "metadata": {
        "colab": {
          "base_uri": "https://localhost:8080/"
        },
        "id": "ICCRpMPpU0QP",
        "outputId": "8b604227-42c0-4b6e-e66c-b882a6c1d1c6"
      },
      "execution_count": null,
      "outputs": [
        {
          "output_type": "execute_result",
          "data": {
            "text/plain": [
              "<tf.Tensor: shape=(), dtype=bool, numpy=True>"
            ]
          },
          "metadata": {},
          "execution_count": 67
        }
      ]
    },
    {
      "cell_type": "code",
      "source": [
        "# Load in a model using the .h5 format\n",
        "loaded_h5_model = tf.keras.models.load_model(\"/content/best_model_HDF5_format.h5\")\n",
        "loaded_h5_model.summary()"
      ],
      "metadata": {
        "colab": {
          "base_uri": "https://localhost:8080/"
        },
        "id": "yOPMT5BUUCNX",
        "outputId": "b6153778-6921-4f84-b8bd-8bdc973859b3"
      },
      "execution_count": null,
      "outputs": [
        {
          "output_type": "stream",
          "name": "stdout",
          "text": [
            "Model: \"sequential_5\"\n",
            "_________________________________________________________________\n",
            " Layer (type)                Output Shape              Param #   \n",
            "=================================================================\n",
            " dense_6 (Dense)             (None, 10)                20        \n",
            "                                                                 \n",
            " dense_7 (Dense)             (None, 1)                 11        \n",
            "                                                                 \n",
            "=================================================================\n",
            "Total params: 31\n",
            "Trainable params: 31\n",
            "Non-trainable params: 0\n",
            "_________________________________________________________________\n"
          ]
        }
      ]
    },
    {
      "cell_type": "code",
      "source": [
        "model_2.summary()"
      ],
      "metadata": {
        "colab": {
          "base_uri": "https://localhost:8080/"
        },
        "id": "qsI8ZGpdSZIA",
        "outputId": "7f3e84cc-6210-434c-a786-63137bb5553b"
      },
      "execution_count": null,
      "outputs": [
        {
          "output_type": "stream",
          "name": "stdout",
          "text": [
            "Model: \"sequential_5\"\n",
            "_________________________________________________________________\n",
            " Layer (type)                Output Shape              Param #   \n",
            "=================================================================\n",
            " dense_6 (Dense)             (None, 10)                20        \n",
            "                                                                 \n",
            " dense_7 (Dense)             (None, 1)                 11        \n",
            "                                                                 \n",
            "=================================================================\n",
            "Total params: 31\n",
            "Trainable params: 31\n",
            "Non-trainable params: 0\n",
            "_________________________________________________________________\n"
          ]
        }
      ]
    },
    {
      "cell_type": "code",
      "source": [
        "# Check to see if loaded .h5 model predictions match model_2\n",
        "model_2_preds = model_2.predict(X_test)\n",
        "loaded_h5_model_preds = loaded_h5_model.predict(X_test)\n",
        "model_2_preds == loaded_h5_model_preds"
      ],
      "metadata": {
        "colab": {
          "base_uri": "https://localhost:8080/"
        },
        "id": "aGcbummsTpPA",
        "outputId": "ce346046-a6a5-4ab8-d241-97d33ff6e03d"
      },
      "execution_count": null,
      "outputs": [
        {
          "output_type": "stream",
          "name": "stdout",
          "text": [
            "1/1 [==============================] - 0s 32ms/step\n",
            "1/1 [==============================] - 0s 75ms/step\n"
          ]
        },
        {
          "output_type": "execute_result",
          "data": {
            "text/plain": [
              "array([[ True],\n",
              "       [ True],\n",
              "       [ True],\n",
              "       [ True],\n",
              "       [ True],\n",
              "       [ True],\n",
              "       [ True],\n",
              "       [ True],\n",
              "       [ True],\n",
              "       [ True]])"
            ]
          },
          "metadata": {},
          "execution_count": 70
        }
      ]
    },
    {
      "cell_type": "markdown",
      "source": [
        "## Download a model (or any other file) from Google Colab\n",
        "\n",
        "If you want to download your files from Google Colab:\n",
        "\n",
        "1. You can go to the \"files\" tab and right click on the file you're after and click \"download\".\n",
        "2. Use code (see the cell below).\n",
        "3. Save it to Google Drive by connecting Google Drive and copying it there (see 2nd code cell below)."
      ],
      "metadata": {
        "id": "_obnHAvZUk4a"
      }
    },
    {
      "cell_type": "code",
      "source": [
        "from google.colab import drive\n",
        "drive.mount('/content/drive')"
      ],
      "metadata": {
        "colab": {
          "base_uri": "https://localhost:8080/"
        },
        "id": "pTyN1PoLXFw0",
        "outputId": "7ae69d1e-4550-43f0-b282-fb4463472082"
      },
      "execution_count": null,
      "outputs": [
        {
          "output_type": "stream",
          "name": "stdout",
          "text": [
            "Drive already mounted at /content/drive; to attempt to forcibly remount, call drive.mount(\"/content/drive\", force_remount=True).\n"
          ]
        }
      ]
    },
    {
      "cell_type": "code",
      "source": [
        "# Download a file from Google Colab\n",
        "from google.colab import files\n",
        "files.download(\"/content/best_model_HDF5_format.h5\")"
      ],
      "metadata": {
        "colab": {
          "base_uri": "https://localhost:8080/",
          "height": 17
        },
        "id": "CT9HaPztWB_y",
        "outputId": "1e2eea88-3e78-477f-ad05-758911e65c48"
      },
      "execution_count": null,
      "outputs": [
        {
          "output_type": "display_data",
          "data": {
            "text/plain": [
              "<IPython.core.display.Javascript object>"
            ],
            "application/javascript": [
              "\n",
              "    async function download(id, filename, size) {\n",
              "      if (!google.colab.kernel.accessAllowed) {\n",
              "        return;\n",
              "      }\n",
              "      const div = document.createElement('div');\n",
              "      const label = document.createElement('label');\n",
              "      label.textContent = `Downloading \"${filename}\": `;\n",
              "      div.appendChild(label);\n",
              "      const progress = document.createElement('progress');\n",
              "      progress.max = size;\n",
              "      div.appendChild(progress);\n",
              "      document.body.appendChild(div);\n",
              "\n",
              "      const buffers = [];\n",
              "      let downloaded = 0;\n",
              "\n",
              "      const channel = await google.colab.kernel.comms.open(id);\n",
              "      // Send a message to notify the kernel that we're ready.\n",
              "      channel.send({})\n",
              "\n",
              "      for await (const message of channel.messages) {\n",
              "        // Send a message to notify the kernel that we're ready.\n",
              "        channel.send({})\n",
              "        if (message.buffers) {\n",
              "          for (const buffer of message.buffers) {\n",
              "            buffers.push(buffer);\n",
              "            downloaded += buffer.byteLength;\n",
              "            progress.value = downloaded;\n",
              "          }\n",
              "        }\n",
              "      }\n",
              "      const blob = new Blob(buffers, {type: 'application/binary'});\n",
              "      const a = document.createElement('a');\n",
              "      a.href = window.URL.createObjectURL(blob);\n",
              "      a.download = filename;\n",
              "      div.appendChild(a);\n",
              "      a.click();\n",
              "      div.remove();\n",
              "    }\n",
              "  "
            ]
          },
          "metadata": {}
        },
        {
          "output_type": "display_data",
          "data": {
            "text/plain": [
              "<IPython.core.display.Javascript object>"
            ],
            "application/javascript": [
              "download(\"download_46b229c0-bdc0-42c7-9495-7be50054c1fd\", \"best_model_HDF5_format.h5\", 21952)"
            ]
          },
          "metadata": {}
        }
      ]
    },
    {
      "cell_type": "code",
      "source": [
        "# Save a file from Google Colab to Google Drive (requires mounting Google Drive)\n",
        "!cp /content/best_model_HDF5_format.h5 '/content/drive/MyDrive/Colab Notebooks'"
      ],
      "metadata": {
        "id": "cNI3Td00WsBq"
      },
      "execution_count": null,
      "outputs": []
    },
    {
      "cell_type": "code",
      "source": [
        "!ls '/content/drive/MyDrive/Colab Notebooks'"
      ],
      "metadata": {
        "colab": {
          "base_uri": "https://localhost:8080/"
        },
        "id": "uIJvWBJQX4_V",
        "outputId": "53c9d961-0515-452e-f2b7-511bceefa71b"
      },
      "execution_count": null,
      "outputs": [
        {
          "output_type": "stream",
          "name": "stdout",
          "text": [
            " 00_tensorflow_fundamentals_exercises.ipynb\n",
            " 00_tensorflow_fundamentals.ipynb\n",
            " 01_neural_network_regression_with_tensorflow.ipynb\n",
            "'09 Neural Nets - Pretrained Image Classification.ipynb'\n",
            " best_model_HDF5_format.h5\n",
            " Part-1-Section-02-A_Quick_Refresher.ipynb\n",
            " Part-1-Section-03-Variables_and_Memory.ipynb\n",
            " Part-1-Section-04-Numeric_Types.ipynb\n",
            " Part-1-Section-05-Function_Parameters.ipynb\n",
            " Part-1-Section-06-First-Class_Functions.ipynb\n",
            " Part-1-Section-07-Scopes_Closures_and_Decorators.ipynb\n",
            " Part-1-Section-08-Tuples_as_Data_Structures_and_Named_Tuples.ipynb\n",
            " Part-1-Section-09-Modules_Packages_and_Namespaces.ipynb\n"
          ]
        }
      ]
    },
    {
      "cell_type": "markdown",
      "source": [
        "## A larger example"
      ],
      "metadata": {
        "id": "dv_zgvUgYEVk"
      }
    },
    {
      "cell_type": "code",
      "source": [
        "# Import required libraries\n",
        "import tensorflow as tf\n",
        "import pandas as pd\n",
        "import matplotlib.pyplot as plt"
      ],
      "metadata": {
        "id": "Mvo2JPSppVGQ"
      },
      "execution_count": null,
      "outputs": []
    },
    {
      "cell_type": "code",
      "source": [
        "# Read in the insurance dataset\n",
        "insurance = pd.read_csv(\"https://raw.githubusercontent.com/stedy/Machine-Learning-with-R-datasets/master/insurance.csv\")\n",
        "insurance"
      ],
      "metadata": {
        "colab": {
          "base_uri": "https://localhost:8080/",
          "height": 424
        },
        "id": "sqEOFc0rpWwv",
        "outputId": "f46cf313-2755-4c40-d634-5cd851571e54"
      },
      "execution_count": null,
      "outputs": [
        {
          "output_type": "execute_result",
          "data": {
            "text/plain": [
              "      age     sex     bmi  children smoker     region      charges\n",
              "0      19  female  27.900         0    yes  southwest  16884.92400\n",
              "1      18    male  33.770         1     no  southeast   1725.55230\n",
              "2      28    male  33.000         3     no  southeast   4449.46200\n",
              "3      33    male  22.705         0     no  northwest  21984.47061\n",
              "4      32    male  28.880         0     no  northwest   3866.85520\n",
              "...   ...     ...     ...       ...    ...        ...          ...\n",
              "1333   50    male  30.970         3     no  northwest  10600.54830\n",
              "1334   18  female  31.920         0     no  northeast   2205.98080\n",
              "1335   18  female  36.850         0     no  southeast   1629.83350\n",
              "1336   21  female  25.800         0     no  southwest   2007.94500\n",
              "1337   61  female  29.070         0    yes  northwest  29141.36030\n",
              "\n",
              "[1338 rows x 7 columns]"
            ],
            "text/html": [
              "\n",
              "\n",
              "  <div id=\"df-7079575e-6a5b-4934-af62-00ba361e4b30\">\n",
              "    <div class=\"colab-df-container\">\n",
              "      <div>\n",
              "<style scoped>\n",
              "    .dataframe tbody tr th:only-of-type {\n",
              "        vertical-align: middle;\n",
              "    }\n",
              "\n",
              "    .dataframe tbody tr th {\n",
              "        vertical-align: top;\n",
              "    }\n",
              "\n",
              "    .dataframe thead th {\n",
              "        text-align: right;\n",
              "    }\n",
              "</style>\n",
              "<table border=\"1\" class=\"dataframe\">\n",
              "  <thead>\n",
              "    <tr style=\"text-align: right;\">\n",
              "      <th></th>\n",
              "      <th>age</th>\n",
              "      <th>sex</th>\n",
              "      <th>bmi</th>\n",
              "      <th>children</th>\n",
              "      <th>smoker</th>\n",
              "      <th>region</th>\n",
              "      <th>charges</th>\n",
              "    </tr>\n",
              "  </thead>\n",
              "  <tbody>\n",
              "    <tr>\n",
              "      <th>0</th>\n",
              "      <td>19</td>\n",
              "      <td>female</td>\n",
              "      <td>27.900</td>\n",
              "      <td>0</td>\n",
              "      <td>yes</td>\n",
              "      <td>southwest</td>\n",
              "      <td>16884.92400</td>\n",
              "    </tr>\n",
              "    <tr>\n",
              "      <th>1</th>\n",
              "      <td>18</td>\n",
              "      <td>male</td>\n",
              "      <td>33.770</td>\n",
              "      <td>1</td>\n",
              "      <td>no</td>\n",
              "      <td>southeast</td>\n",
              "      <td>1725.55230</td>\n",
              "    </tr>\n",
              "    <tr>\n",
              "      <th>2</th>\n",
              "      <td>28</td>\n",
              "      <td>male</td>\n",
              "      <td>33.000</td>\n",
              "      <td>3</td>\n",
              "      <td>no</td>\n",
              "      <td>southeast</td>\n",
              "      <td>4449.46200</td>\n",
              "    </tr>\n",
              "    <tr>\n",
              "      <th>3</th>\n",
              "      <td>33</td>\n",
              "      <td>male</td>\n",
              "      <td>22.705</td>\n",
              "      <td>0</td>\n",
              "      <td>no</td>\n",
              "      <td>northwest</td>\n",
              "      <td>21984.47061</td>\n",
              "    </tr>\n",
              "    <tr>\n",
              "      <th>4</th>\n",
              "      <td>32</td>\n",
              "      <td>male</td>\n",
              "      <td>28.880</td>\n",
              "      <td>0</td>\n",
              "      <td>no</td>\n",
              "      <td>northwest</td>\n",
              "      <td>3866.85520</td>\n",
              "    </tr>\n",
              "    <tr>\n",
              "      <th>...</th>\n",
              "      <td>...</td>\n",
              "      <td>...</td>\n",
              "      <td>...</td>\n",
              "      <td>...</td>\n",
              "      <td>...</td>\n",
              "      <td>...</td>\n",
              "      <td>...</td>\n",
              "    </tr>\n",
              "    <tr>\n",
              "      <th>1333</th>\n",
              "      <td>50</td>\n",
              "      <td>male</td>\n",
              "      <td>30.970</td>\n",
              "      <td>3</td>\n",
              "      <td>no</td>\n",
              "      <td>northwest</td>\n",
              "      <td>10600.54830</td>\n",
              "    </tr>\n",
              "    <tr>\n",
              "      <th>1334</th>\n",
              "      <td>18</td>\n",
              "      <td>female</td>\n",
              "      <td>31.920</td>\n",
              "      <td>0</td>\n",
              "      <td>no</td>\n",
              "      <td>northeast</td>\n",
              "      <td>2205.98080</td>\n",
              "    </tr>\n",
              "    <tr>\n",
              "      <th>1335</th>\n",
              "      <td>18</td>\n",
              "      <td>female</td>\n",
              "      <td>36.850</td>\n",
              "      <td>0</td>\n",
              "      <td>no</td>\n",
              "      <td>southeast</td>\n",
              "      <td>1629.83350</td>\n",
              "    </tr>\n",
              "    <tr>\n",
              "      <th>1336</th>\n",
              "      <td>21</td>\n",
              "      <td>female</td>\n",
              "      <td>25.800</td>\n",
              "      <td>0</td>\n",
              "      <td>no</td>\n",
              "      <td>southwest</td>\n",
              "      <td>2007.94500</td>\n",
              "    </tr>\n",
              "    <tr>\n",
              "      <th>1337</th>\n",
              "      <td>61</td>\n",
              "      <td>female</td>\n",
              "      <td>29.070</td>\n",
              "      <td>0</td>\n",
              "      <td>yes</td>\n",
              "      <td>northwest</td>\n",
              "      <td>29141.36030</td>\n",
              "    </tr>\n",
              "  </tbody>\n",
              "</table>\n",
              "<p>1338 rows × 7 columns</p>\n",
              "</div>\n",
              "      <button class=\"colab-df-convert\" onclick=\"convertToInteractive('df-7079575e-6a5b-4934-af62-00ba361e4b30')\"\n",
              "              title=\"Convert this dataframe to an interactive table.\"\n",
              "              style=\"display:none;\">\n",
              "\n",
              "  <svg xmlns=\"http://www.w3.org/2000/svg\" height=\"24px\"viewBox=\"0 0 24 24\"\n",
              "       width=\"24px\">\n",
              "    <path d=\"M0 0h24v24H0V0z\" fill=\"none\"/>\n",
              "    <path d=\"M18.56 5.44l.94 2.06.94-2.06 2.06-.94-2.06-.94-.94-2.06-.94 2.06-2.06.94zm-11 1L8.5 8.5l.94-2.06 2.06-.94-2.06-.94L8.5 2.5l-.94 2.06-2.06.94zm10 10l.94 2.06.94-2.06 2.06-.94-2.06-.94-.94-2.06-.94 2.06-2.06.94z\"/><path d=\"M17.41 7.96l-1.37-1.37c-.4-.4-.92-.59-1.43-.59-.52 0-1.04.2-1.43.59L10.3 9.45l-7.72 7.72c-.78.78-.78 2.05 0 2.83L4 21.41c.39.39.9.59 1.41.59.51 0 1.02-.2 1.41-.59l7.78-7.78 2.81-2.81c.8-.78.8-2.07 0-2.86zM5.41 20L4 18.59l7.72-7.72 1.47 1.35L5.41 20z\"/>\n",
              "  </svg>\n",
              "      </button>\n",
              "\n",
              "\n",
              "\n",
              "    <div id=\"df-4569129d-10a5-4fb9-8e2d-d502a7a62194\">\n",
              "      <button class=\"colab-df-quickchart\" onclick=\"quickchart('df-4569129d-10a5-4fb9-8e2d-d502a7a62194')\"\n",
              "              title=\"Suggest charts.\"\n",
              "              style=\"display:none;\">\n",
              "\n",
              "<svg xmlns=\"http://www.w3.org/2000/svg\" height=\"24px\"viewBox=\"0 0 24 24\"\n",
              "     width=\"24px\">\n",
              "    <g>\n",
              "        <path d=\"M19 3H5c-1.1 0-2 .9-2 2v14c0 1.1.9 2 2 2h14c1.1 0 2-.9 2-2V5c0-1.1-.9-2-2-2zM9 17H7v-7h2v7zm4 0h-2V7h2v10zm4 0h-2v-4h2v4z\"/>\n",
              "    </g>\n",
              "</svg>\n",
              "      </button>\n",
              "    </div>\n",
              "\n",
              "<style>\n",
              "  .colab-df-quickchart {\n",
              "    background-color: #E8F0FE;\n",
              "    border: none;\n",
              "    border-radius: 50%;\n",
              "    cursor: pointer;\n",
              "    display: none;\n",
              "    fill: #1967D2;\n",
              "    height: 32px;\n",
              "    padding: 0 0 0 0;\n",
              "    width: 32px;\n",
              "  }\n",
              "\n",
              "  .colab-df-quickchart:hover {\n",
              "    background-color: #E2EBFA;\n",
              "    box-shadow: 0px 1px 2px rgba(60, 64, 67, 0.3), 0px 1px 3px 1px rgba(60, 64, 67, 0.15);\n",
              "    fill: #174EA6;\n",
              "  }\n",
              "\n",
              "  [theme=dark] .colab-df-quickchart {\n",
              "    background-color: #3B4455;\n",
              "    fill: #D2E3FC;\n",
              "  }\n",
              "\n",
              "  [theme=dark] .colab-df-quickchart:hover {\n",
              "    background-color: #434B5C;\n",
              "    box-shadow: 0px 1px 3px 1px rgba(0, 0, 0, 0.15);\n",
              "    filter: drop-shadow(0px 1px 2px rgba(0, 0, 0, 0.3));\n",
              "    fill: #FFFFFF;\n",
              "  }\n",
              "</style>\n",
              "\n",
              "    <script>\n",
              "      async function quickchart(key) {\n",
              "        const containerElement = document.querySelector('#' + key);\n",
              "        const charts = await google.colab.kernel.invokeFunction(\n",
              "            'suggestCharts', [key], {});\n",
              "      }\n",
              "    </script>\n",
              "\n",
              "      <script>\n",
              "\n",
              "function displayQuickchartButton(domScope) {\n",
              "  let quickchartButtonEl =\n",
              "    domScope.querySelector('#df-4569129d-10a5-4fb9-8e2d-d502a7a62194 button.colab-df-quickchart');\n",
              "  quickchartButtonEl.style.display =\n",
              "    google.colab.kernel.accessAllowed ? 'block' : 'none';\n",
              "}\n",
              "\n",
              "        displayQuickchartButton(document);\n",
              "      </script>\n",
              "      <style>\n",
              "    .colab-df-container {\n",
              "      display:flex;\n",
              "      flex-wrap:wrap;\n",
              "      gap: 12px;\n",
              "    }\n",
              "\n",
              "    .colab-df-convert {\n",
              "      background-color: #E8F0FE;\n",
              "      border: none;\n",
              "      border-radius: 50%;\n",
              "      cursor: pointer;\n",
              "      display: none;\n",
              "      fill: #1967D2;\n",
              "      height: 32px;\n",
              "      padding: 0 0 0 0;\n",
              "      width: 32px;\n",
              "    }\n",
              "\n",
              "    .colab-df-convert:hover {\n",
              "      background-color: #E2EBFA;\n",
              "      box-shadow: 0px 1px 2px rgba(60, 64, 67, 0.3), 0px 1px 3px 1px rgba(60, 64, 67, 0.15);\n",
              "      fill: #174EA6;\n",
              "    }\n",
              "\n",
              "    [theme=dark] .colab-df-convert {\n",
              "      background-color: #3B4455;\n",
              "      fill: #D2E3FC;\n",
              "    }\n",
              "\n",
              "    [theme=dark] .colab-df-convert:hover {\n",
              "      background-color: #434B5C;\n",
              "      box-shadow: 0px 1px 3px 1px rgba(0, 0, 0, 0.15);\n",
              "      filter: drop-shadow(0px 1px 2px rgba(0, 0, 0, 0.3));\n",
              "      fill: #FFFFFF;\n",
              "    }\n",
              "  </style>\n",
              "\n",
              "      <script>\n",
              "        const buttonEl =\n",
              "          document.querySelector('#df-7079575e-6a5b-4934-af62-00ba361e4b30 button.colab-df-convert');\n",
              "        buttonEl.style.display =\n",
              "          google.colab.kernel.accessAllowed ? 'block' : 'none';\n",
              "\n",
              "        async function convertToInteractive(key) {\n",
              "          const element = document.querySelector('#df-7079575e-6a5b-4934-af62-00ba361e4b30');\n",
              "          const dataTable =\n",
              "            await google.colab.kernel.invokeFunction('convertToInteractive',\n",
              "                                                     [key], {});\n",
              "          if (!dataTable) return;\n",
              "\n",
              "          const docLinkHtml = 'Like what you see? Visit the ' +\n",
              "            '<a target=\"_blank\" href=https://colab.research.google.com/notebooks/data_table.ipynb>data table notebook</a>'\n",
              "            + ' to learn more about interactive tables.';\n",
              "          element.innerHTML = '';\n",
              "          dataTable['output_type'] = 'display_data';\n",
              "          await google.colab.output.renderOutput(dataTable, element);\n",
              "          const docLink = document.createElement('div');\n",
              "          docLink.innerHTML = docLinkHtml;\n",
              "          element.appendChild(docLink);\n",
              "        }\n",
              "      </script>\n",
              "    </div>\n",
              "  </div>\n"
            ]
          },
          "metadata": {},
          "execution_count": 77
        }
      ]
    },
    {
      "cell_type": "code",
      "source": [
        "insurance[\"smoker\"], insurance[\"age\"]"
      ],
      "metadata": {
        "id": "rPcwqtYqsnYY",
        "colab": {
          "base_uri": "https://localhost:8080/"
        },
        "outputId": "70753cfd-6548-4ea3-ad2e-9c46a45f5aa7"
      },
      "execution_count": null,
      "outputs": [
        {
          "output_type": "execute_result",
          "data": {
            "text/plain": [
              "(0       yes\n",
              " 1        no\n",
              " 2        no\n",
              " 3        no\n",
              " 4        no\n",
              "        ... \n",
              " 1333     no\n",
              " 1334     no\n",
              " 1335     no\n",
              " 1336     no\n",
              " 1337    yes\n",
              " Name: smoker, Length: 1338, dtype: object,\n",
              " 0       19\n",
              " 1       18\n",
              " 2       28\n",
              " 3       33\n",
              " 4       32\n",
              "         ..\n",
              " 1333    50\n",
              " 1334    18\n",
              " 1335    18\n",
              " 1336    21\n",
              " 1337    61\n",
              " Name: age, Length: 1338, dtype: int64)"
            ]
          },
          "metadata": {},
          "execution_count": 80
        }
      ]
    },
    {
      "cell_type": "code",
      "source": [
        "# Let's try one-hot encode our DataFrame so it's all numbers\n",
        "insurance_one_hot = pd.get_dummies(insurance)\n",
        "insurance_one_hot.head()"
      ],
      "metadata": {
        "colab": {
          "base_uri": "https://localhost:8080/",
          "height": 206
        },
        "id": "yGTXgR_dt5b_",
        "outputId": "3acbfef4-25f7-4002-fdd2-e818a13f7307"
      },
      "execution_count": null,
      "outputs": [
        {
          "output_type": "execute_result",
          "data": {
            "text/plain": [
              "   age     bmi  children      charges  sex_female  sex_male  smoker_no  \\\n",
              "0   19  27.900         0  16884.92400           1         0          0   \n",
              "1   18  33.770         1   1725.55230           0         1          1   \n",
              "2   28  33.000         3   4449.46200           0         1          1   \n",
              "3   33  22.705         0  21984.47061           0         1          1   \n",
              "4   32  28.880         0   3866.85520           0         1          1   \n",
              "\n",
              "   smoker_yes  region_northeast  region_northwest  region_southeast  \\\n",
              "0           1                 0                 0                 0   \n",
              "1           0                 0                 0                 1   \n",
              "2           0                 0                 0                 1   \n",
              "3           0                 0                 1                 0   \n",
              "4           0                 0                 1                 0   \n",
              "\n",
              "   region_southwest  \n",
              "0                 1  \n",
              "1                 0  \n",
              "2                 0  \n",
              "3                 0  \n",
              "4                 0  "
            ],
            "text/html": [
              "\n",
              "\n",
              "  <div id=\"df-eeee44e8-44b4-420e-af43-164dca5907d2\">\n",
              "    <div class=\"colab-df-container\">\n",
              "      <div>\n",
              "<style scoped>\n",
              "    .dataframe tbody tr th:only-of-type {\n",
              "        vertical-align: middle;\n",
              "    }\n",
              "\n",
              "    .dataframe tbody tr th {\n",
              "        vertical-align: top;\n",
              "    }\n",
              "\n",
              "    .dataframe thead th {\n",
              "        text-align: right;\n",
              "    }\n",
              "</style>\n",
              "<table border=\"1\" class=\"dataframe\">\n",
              "  <thead>\n",
              "    <tr style=\"text-align: right;\">\n",
              "      <th></th>\n",
              "      <th>age</th>\n",
              "      <th>bmi</th>\n",
              "      <th>children</th>\n",
              "      <th>charges</th>\n",
              "      <th>sex_female</th>\n",
              "      <th>sex_male</th>\n",
              "      <th>smoker_no</th>\n",
              "      <th>smoker_yes</th>\n",
              "      <th>region_northeast</th>\n",
              "      <th>region_northwest</th>\n",
              "      <th>region_southeast</th>\n",
              "      <th>region_southwest</th>\n",
              "    </tr>\n",
              "  </thead>\n",
              "  <tbody>\n",
              "    <tr>\n",
              "      <th>0</th>\n",
              "      <td>19</td>\n",
              "      <td>27.900</td>\n",
              "      <td>0</td>\n",
              "      <td>16884.92400</td>\n",
              "      <td>1</td>\n",
              "      <td>0</td>\n",
              "      <td>0</td>\n",
              "      <td>1</td>\n",
              "      <td>0</td>\n",
              "      <td>0</td>\n",
              "      <td>0</td>\n",
              "      <td>1</td>\n",
              "    </tr>\n",
              "    <tr>\n",
              "      <th>1</th>\n",
              "      <td>18</td>\n",
              "      <td>33.770</td>\n",
              "      <td>1</td>\n",
              "      <td>1725.55230</td>\n",
              "      <td>0</td>\n",
              "      <td>1</td>\n",
              "      <td>1</td>\n",
              "      <td>0</td>\n",
              "      <td>0</td>\n",
              "      <td>0</td>\n",
              "      <td>1</td>\n",
              "      <td>0</td>\n",
              "    </tr>\n",
              "    <tr>\n",
              "      <th>2</th>\n",
              "      <td>28</td>\n",
              "      <td>33.000</td>\n",
              "      <td>3</td>\n",
              "      <td>4449.46200</td>\n",
              "      <td>0</td>\n",
              "      <td>1</td>\n",
              "      <td>1</td>\n",
              "      <td>0</td>\n",
              "      <td>0</td>\n",
              "      <td>0</td>\n",
              "      <td>1</td>\n",
              "      <td>0</td>\n",
              "    </tr>\n",
              "    <tr>\n",
              "      <th>3</th>\n",
              "      <td>33</td>\n",
              "      <td>22.705</td>\n",
              "      <td>0</td>\n",
              "      <td>21984.47061</td>\n",
              "      <td>0</td>\n",
              "      <td>1</td>\n",
              "      <td>1</td>\n",
              "      <td>0</td>\n",
              "      <td>0</td>\n",
              "      <td>1</td>\n",
              "      <td>0</td>\n",
              "      <td>0</td>\n",
              "    </tr>\n",
              "    <tr>\n",
              "      <th>4</th>\n",
              "      <td>32</td>\n",
              "      <td>28.880</td>\n",
              "      <td>0</td>\n",
              "      <td>3866.85520</td>\n",
              "      <td>0</td>\n",
              "      <td>1</td>\n",
              "      <td>1</td>\n",
              "      <td>0</td>\n",
              "      <td>0</td>\n",
              "      <td>1</td>\n",
              "      <td>0</td>\n",
              "      <td>0</td>\n",
              "    </tr>\n",
              "  </tbody>\n",
              "</table>\n",
              "</div>\n",
              "      <button class=\"colab-df-convert\" onclick=\"convertToInteractive('df-eeee44e8-44b4-420e-af43-164dca5907d2')\"\n",
              "              title=\"Convert this dataframe to an interactive table.\"\n",
              "              style=\"display:none;\">\n",
              "\n",
              "  <svg xmlns=\"http://www.w3.org/2000/svg\" height=\"24px\"viewBox=\"0 0 24 24\"\n",
              "       width=\"24px\">\n",
              "    <path d=\"M0 0h24v24H0V0z\" fill=\"none\"/>\n",
              "    <path d=\"M18.56 5.44l.94 2.06.94-2.06 2.06-.94-2.06-.94-.94-2.06-.94 2.06-2.06.94zm-11 1L8.5 8.5l.94-2.06 2.06-.94-2.06-.94L8.5 2.5l-.94 2.06-2.06.94zm10 10l.94 2.06.94-2.06 2.06-.94-2.06-.94-.94-2.06-.94 2.06-2.06.94z\"/><path d=\"M17.41 7.96l-1.37-1.37c-.4-.4-.92-.59-1.43-.59-.52 0-1.04.2-1.43.59L10.3 9.45l-7.72 7.72c-.78.78-.78 2.05 0 2.83L4 21.41c.39.39.9.59 1.41.59.51 0 1.02-.2 1.41-.59l7.78-7.78 2.81-2.81c.8-.78.8-2.07 0-2.86zM5.41 20L4 18.59l7.72-7.72 1.47 1.35L5.41 20z\"/>\n",
              "  </svg>\n",
              "      </button>\n",
              "\n",
              "\n",
              "\n",
              "    <div id=\"df-3f29c584-9da5-4dcf-b26f-a9393bdf7e8a\">\n",
              "      <button class=\"colab-df-quickchart\" onclick=\"quickchart('df-3f29c584-9da5-4dcf-b26f-a9393bdf7e8a')\"\n",
              "              title=\"Suggest charts.\"\n",
              "              style=\"display:none;\">\n",
              "\n",
              "<svg xmlns=\"http://www.w3.org/2000/svg\" height=\"24px\"viewBox=\"0 0 24 24\"\n",
              "     width=\"24px\">\n",
              "    <g>\n",
              "        <path d=\"M19 3H5c-1.1 0-2 .9-2 2v14c0 1.1.9 2 2 2h14c1.1 0 2-.9 2-2V5c0-1.1-.9-2-2-2zM9 17H7v-7h2v7zm4 0h-2V7h2v10zm4 0h-2v-4h2v4z\"/>\n",
              "    </g>\n",
              "</svg>\n",
              "      </button>\n",
              "    </div>\n",
              "\n",
              "<style>\n",
              "  .colab-df-quickchart {\n",
              "    background-color: #E8F0FE;\n",
              "    border: none;\n",
              "    border-radius: 50%;\n",
              "    cursor: pointer;\n",
              "    display: none;\n",
              "    fill: #1967D2;\n",
              "    height: 32px;\n",
              "    padding: 0 0 0 0;\n",
              "    width: 32px;\n",
              "  }\n",
              "\n",
              "  .colab-df-quickchart:hover {\n",
              "    background-color: #E2EBFA;\n",
              "    box-shadow: 0px 1px 2px rgba(60, 64, 67, 0.3), 0px 1px 3px 1px rgba(60, 64, 67, 0.15);\n",
              "    fill: #174EA6;\n",
              "  }\n",
              "\n",
              "  [theme=dark] .colab-df-quickchart {\n",
              "    background-color: #3B4455;\n",
              "    fill: #D2E3FC;\n",
              "  }\n",
              "\n",
              "  [theme=dark] .colab-df-quickchart:hover {\n",
              "    background-color: #434B5C;\n",
              "    box-shadow: 0px 1px 3px 1px rgba(0, 0, 0, 0.15);\n",
              "    filter: drop-shadow(0px 1px 2px rgba(0, 0, 0, 0.3));\n",
              "    fill: #FFFFFF;\n",
              "  }\n",
              "</style>\n",
              "\n",
              "    <script>\n",
              "      async function quickchart(key) {\n",
              "        const containerElement = document.querySelector('#' + key);\n",
              "        const charts = await google.colab.kernel.invokeFunction(\n",
              "            'suggestCharts', [key], {});\n",
              "      }\n",
              "    </script>\n",
              "\n",
              "      <script>\n",
              "\n",
              "function displayQuickchartButton(domScope) {\n",
              "  let quickchartButtonEl =\n",
              "    domScope.querySelector('#df-3f29c584-9da5-4dcf-b26f-a9393bdf7e8a button.colab-df-quickchart');\n",
              "  quickchartButtonEl.style.display =\n",
              "    google.colab.kernel.accessAllowed ? 'block' : 'none';\n",
              "}\n",
              "\n",
              "        displayQuickchartButton(document);\n",
              "      </script>\n",
              "      <style>\n",
              "    .colab-df-container {\n",
              "      display:flex;\n",
              "      flex-wrap:wrap;\n",
              "      gap: 12px;\n",
              "    }\n",
              "\n",
              "    .colab-df-convert {\n",
              "      background-color: #E8F0FE;\n",
              "      border: none;\n",
              "      border-radius: 50%;\n",
              "      cursor: pointer;\n",
              "      display: none;\n",
              "      fill: #1967D2;\n",
              "      height: 32px;\n",
              "      padding: 0 0 0 0;\n",
              "      width: 32px;\n",
              "    }\n",
              "\n",
              "    .colab-df-convert:hover {\n",
              "      background-color: #E2EBFA;\n",
              "      box-shadow: 0px 1px 2px rgba(60, 64, 67, 0.3), 0px 1px 3px 1px rgba(60, 64, 67, 0.15);\n",
              "      fill: #174EA6;\n",
              "    }\n",
              "\n",
              "    [theme=dark] .colab-df-convert {\n",
              "      background-color: #3B4455;\n",
              "      fill: #D2E3FC;\n",
              "    }\n",
              "\n",
              "    [theme=dark] .colab-df-convert:hover {\n",
              "      background-color: #434B5C;\n",
              "      box-shadow: 0px 1px 3px 1px rgba(0, 0, 0, 0.15);\n",
              "      filter: drop-shadow(0px 1px 2px rgba(0, 0, 0, 0.3));\n",
              "      fill: #FFFFFF;\n",
              "    }\n",
              "  </style>\n",
              "\n",
              "      <script>\n",
              "        const buttonEl =\n",
              "          document.querySelector('#df-eeee44e8-44b4-420e-af43-164dca5907d2 button.colab-df-convert');\n",
              "        buttonEl.style.display =\n",
              "          google.colab.kernel.accessAllowed ? 'block' : 'none';\n",
              "\n",
              "        async function convertToInteractive(key) {\n",
              "          const element = document.querySelector('#df-eeee44e8-44b4-420e-af43-164dca5907d2');\n",
              "          const dataTable =\n",
              "            await google.colab.kernel.invokeFunction('convertToInteractive',\n",
              "                                                     [key], {});\n",
              "          if (!dataTable) return;\n",
              "\n",
              "          const docLinkHtml = 'Like what you see? Visit the ' +\n",
              "            '<a target=\"_blank\" href=https://colab.research.google.com/notebooks/data_table.ipynb>data table notebook</a>'\n",
              "            + ' to learn more about interactive tables.';\n",
              "          element.innerHTML = '';\n",
              "          dataTable['output_type'] = 'display_data';\n",
              "          await google.colab.output.renderOutput(dataTable, element);\n",
              "          const docLink = document.createElement('div');\n",
              "          docLink.innerHTML = docLinkHtml;\n",
              "          element.appendChild(docLink);\n",
              "        }\n",
              "      </script>\n",
              "    </div>\n",
              "  </div>\n"
            ]
          },
          "metadata": {},
          "execution_count": 84
        }
      ]
    },
    {
      "cell_type": "code",
      "source": [
        "# Create X & y values (features and labels)\n",
        "X = insurance_one_hot.drop(\"charges\", axis=1)\n",
        "y = insurance_one_hot[\"charges\"]"
      ],
      "metadata": {
        "id": "wmL7d2_FvhnK"
      },
      "execution_count": null,
      "outputs": []
    },
    {
      "cell_type": "code",
      "source": [
        "# View X\n",
        "X.head()"
      ],
      "metadata": {
        "colab": {
          "base_uri": "https://localhost:8080/",
          "height": 206
        },
        "id": "ifdKo15vzE3Z",
        "outputId": "641a2cad-b8f8-43de-fef6-9ea60107fb97"
      },
      "execution_count": null,
      "outputs": [
        {
          "output_type": "execute_result",
          "data": {
            "text/plain": [
              "   age     bmi  children  sex_female  sex_male  smoker_no  smoker_yes  \\\n",
              "0   19  27.900         0           1         0          0           1   \n",
              "1   18  33.770         1           0         1          1           0   \n",
              "2   28  33.000         3           0         1          1           0   \n",
              "3   33  22.705         0           0         1          1           0   \n",
              "4   32  28.880         0           0         1          1           0   \n",
              "\n",
              "   region_northeast  region_northwest  region_southeast  region_southwest  \n",
              "0                 0                 0                 0                 1  \n",
              "1                 0                 0                 1                 0  \n",
              "2                 0                 0                 1                 0  \n",
              "3                 0                 1                 0                 0  \n",
              "4                 0                 1                 0                 0  "
            ],
            "text/html": [
              "\n",
              "\n",
              "  <div id=\"df-603dbad5-5f13-409d-99f5-5a660f90e7ce\">\n",
              "    <div class=\"colab-df-container\">\n",
              "      <div>\n",
              "<style scoped>\n",
              "    .dataframe tbody tr th:only-of-type {\n",
              "        vertical-align: middle;\n",
              "    }\n",
              "\n",
              "    .dataframe tbody tr th {\n",
              "        vertical-align: top;\n",
              "    }\n",
              "\n",
              "    .dataframe thead th {\n",
              "        text-align: right;\n",
              "    }\n",
              "</style>\n",
              "<table border=\"1\" class=\"dataframe\">\n",
              "  <thead>\n",
              "    <tr style=\"text-align: right;\">\n",
              "      <th></th>\n",
              "      <th>age</th>\n",
              "      <th>bmi</th>\n",
              "      <th>children</th>\n",
              "      <th>sex_female</th>\n",
              "      <th>sex_male</th>\n",
              "      <th>smoker_no</th>\n",
              "      <th>smoker_yes</th>\n",
              "      <th>region_northeast</th>\n",
              "      <th>region_northwest</th>\n",
              "      <th>region_southeast</th>\n",
              "      <th>region_southwest</th>\n",
              "    </tr>\n",
              "  </thead>\n",
              "  <tbody>\n",
              "    <tr>\n",
              "      <th>0</th>\n",
              "      <td>19</td>\n",
              "      <td>27.900</td>\n",
              "      <td>0</td>\n",
              "      <td>1</td>\n",
              "      <td>0</td>\n",
              "      <td>0</td>\n",
              "      <td>1</td>\n",
              "      <td>0</td>\n",
              "      <td>0</td>\n",
              "      <td>0</td>\n",
              "      <td>1</td>\n",
              "    </tr>\n",
              "    <tr>\n",
              "      <th>1</th>\n",
              "      <td>18</td>\n",
              "      <td>33.770</td>\n",
              "      <td>1</td>\n",
              "      <td>0</td>\n",
              "      <td>1</td>\n",
              "      <td>1</td>\n",
              "      <td>0</td>\n",
              "      <td>0</td>\n",
              "      <td>0</td>\n",
              "      <td>1</td>\n",
              "      <td>0</td>\n",
              "    </tr>\n",
              "    <tr>\n",
              "      <th>2</th>\n",
              "      <td>28</td>\n",
              "      <td>33.000</td>\n",
              "      <td>3</td>\n",
              "      <td>0</td>\n",
              "      <td>1</td>\n",
              "      <td>1</td>\n",
              "      <td>0</td>\n",
              "      <td>0</td>\n",
              "      <td>0</td>\n",
              "      <td>1</td>\n",
              "      <td>0</td>\n",
              "    </tr>\n",
              "    <tr>\n",
              "      <th>3</th>\n",
              "      <td>33</td>\n",
              "      <td>22.705</td>\n",
              "      <td>0</td>\n",
              "      <td>0</td>\n",
              "      <td>1</td>\n",
              "      <td>1</td>\n",
              "      <td>0</td>\n",
              "      <td>0</td>\n",
              "      <td>1</td>\n",
              "      <td>0</td>\n",
              "      <td>0</td>\n",
              "    </tr>\n",
              "    <tr>\n",
              "      <th>4</th>\n",
              "      <td>32</td>\n",
              "      <td>28.880</td>\n",
              "      <td>0</td>\n",
              "      <td>0</td>\n",
              "      <td>1</td>\n",
              "      <td>1</td>\n",
              "      <td>0</td>\n",
              "      <td>0</td>\n",
              "      <td>1</td>\n",
              "      <td>0</td>\n",
              "      <td>0</td>\n",
              "    </tr>\n",
              "  </tbody>\n",
              "</table>\n",
              "</div>\n",
              "      <button class=\"colab-df-convert\" onclick=\"convertToInteractive('df-603dbad5-5f13-409d-99f5-5a660f90e7ce')\"\n",
              "              title=\"Convert this dataframe to an interactive table.\"\n",
              "              style=\"display:none;\">\n",
              "\n",
              "  <svg xmlns=\"http://www.w3.org/2000/svg\" height=\"24px\"viewBox=\"0 0 24 24\"\n",
              "       width=\"24px\">\n",
              "    <path d=\"M0 0h24v24H0V0z\" fill=\"none\"/>\n",
              "    <path d=\"M18.56 5.44l.94 2.06.94-2.06 2.06-.94-2.06-.94-.94-2.06-.94 2.06-2.06.94zm-11 1L8.5 8.5l.94-2.06 2.06-.94-2.06-.94L8.5 2.5l-.94 2.06-2.06.94zm10 10l.94 2.06.94-2.06 2.06-.94-2.06-.94-.94-2.06-.94 2.06-2.06.94z\"/><path d=\"M17.41 7.96l-1.37-1.37c-.4-.4-.92-.59-1.43-.59-.52 0-1.04.2-1.43.59L10.3 9.45l-7.72 7.72c-.78.78-.78 2.05 0 2.83L4 21.41c.39.39.9.59 1.41.59.51 0 1.02-.2 1.41-.59l7.78-7.78 2.81-2.81c.8-.78.8-2.07 0-2.86zM5.41 20L4 18.59l7.72-7.72 1.47 1.35L5.41 20z\"/>\n",
              "  </svg>\n",
              "      </button>\n",
              "\n",
              "\n",
              "\n",
              "    <div id=\"df-0e5775f9-cf96-40d3-96f2-1954524e4e2b\">\n",
              "      <button class=\"colab-df-quickchart\" onclick=\"quickchart('df-0e5775f9-cf96-40d3-96f2-1954524e4e2b')\"\n",
              "              title=\"Suggest charts.\"\n",
              "              style=\"display:none;\">\n",
              "\n",
              "<svg xmlns=\"http://www.w3.org/2000/svg\" height=\"24px\"viewBox=\"0 0 24 24\"\n",
              "     width=\"24px\">\n",
              "    <g>\n",
              "        <path d=\"M19 3H5c-1.1 0-2 .9-2 2v14c0 1.1.9 2 2 2h14c1.1 0 2-.9 2-2V5c0-1.1-.9-2-2-2zM9 17H7v-7h2v7zm4 0h-2V7h2v10zm4 0h-2v-4h2v4z\"/>\n",
              "    </g>\n",
              "</svg>\n",
              "      </button>\n",
              "    </div>\n",
              "\n",
              "<style>\n",
              "  .colab-df-quickchart {\n",
              "    background-color: #E8F0FE;\n",
              "    border: none;\n",
              "    border-radius: 50%;\n",
              "    cursor: pointer;\n",
              "    display: none;\n",
              "    fill: #1967D2;\n",
              "    height: 32px;\n",
              "    padding: 0 0 0 0;\n",
              "    width: 32px;\n",
              "  }\n",
              "\n",
              "  .colab-df-quickchart:hover {\n",
              "    background-color: #E2EBFA;\n",
              "    box-shadow: 0px 1px 2px rgba(60, 64, 67, 0.3), 0px 1px 3px 1px rgba(60, 64, 67, 0.15);\n",
              "    fill: #174EA6;\n",
              "  }\n",
              "\n",
              "  [theme=dark] .colab-df-quickchart {\n",
              "    background-color: #3B4455;\n",
              "    fill: #D2E3FC;\n",
              "  }\n",
              "\n",
              "  [theme=dark] .colab-df-quickchart:hover {\n",
              "    background-color: #434B5C;\n",
              "    box-shadow: 0px 1px 3px 1px rgba(0, 0, 0, 0.15);\n",
              "    filter: drop-shadow(0px 1px 2px rgba(0, 0, 0, 0.3));\n",
              "    fill: #FFFFFF;\n",
              "  }\n",
              "</style>\n",
              "\n",
              "    <script>\n",
              "      async function quickchart(key) {\n",
              "        const containerElement = document.querySelector('#' + key);\n",
              "        const charts = await google.colab.kernel.invokeFunction(\n",
              "            'suggestCharts', [key], {});\n",
              "      }\n",
              "    </script>\n",
              "\n",
              "      <script>\n",
              "\n",
              "function displayQuickchartButton(domScope) {\n",
              "  let quickchartButtonEl =\n",
              "    domScope.querySelector('#df-0e5775f9-cf96-40d3-96f2-1954524e4e2b button.colab-df-quickchart');\n",
              "  quickchartButtonEl.style.display =\n",
              "    google.colab.kernel.accessAllowed ? 'block' : 'none';\n",
              "}\n",
              "\n",
              "        displayQuickchartButton(document);\n",
              "      </script>\n",
              "      <style>\n",
              "    .colab-df-container {\n",
              "      display:flex;\n",
              "      flex-wrap:wrap;\n",
              "      gap: 12px;\n",
              "    }\n",
              "\n",
              "    .colab-df-convert {\n",
              "      background-color: #E8F0FE;\n",
              "      border: none;\n",
              "      border-radius: 50%;\n",
              "      cursor: pointer;\n",
              "      display: none;\n",
              "      fill: #1967D2;\n",
              "      height: 32px;\n",
              "      padding: 0 0 0 0;\n",
              "      width: 32px;\n",
              "    }\n",
              "\n",
              "    .colab-df-convert:hover {\n",
              "      background-color: #E2EBFA;\n",
              "      box-shadow: 0px 1px 2px rgba(60, 64, 67, 0.3), 0px 1px 3px 1px rgba(60, 64, 67, 0.15);\n",
              "      fill: #174EA6;\n",
              "    }\n",
              "\n",
              "    [theme=dark] .colab-df-convert {\n",
              "      background-color: #3B4455;\n",
              "      fill: #D2E3FC;\n",
              "    }\n",
              "\n",
              "    [theme=dark] .colab-df-convert:hover {\n",
              "      background-color: #434B5C;\n",
              "      box-shadow: 0px 1px 3px 1px rgba(0, 0, 0, 0.15);\n",
              "      filter: drop-shadow(0px 1px 2px rgba(0, 0, 0, 0.3));\n",
              "      fill: #FFFFFF;\n",
              "    }\n",
              "  </style>\n",
              "\n",
              "      <script>\n",
              "        const buttonEl =\n",
              "          document.querySelector('#df-603dbad5-5f13-409d-99f5-5a660f90e7ce button.colab-df-convert');\n",
              "        buttonEl.style.display =\n",
              "          google.colab.kernel.accessAllowed ? 'block' : 'none';\n",
              "\n",
              "        async function convertToInteractive(key) {\n",
              "          const element = document.querySelector('#df-603dbad5-5f13-409d-99f5-5a660f90e7ce');\n",
              "          const dataTable =\n",
              "            await google.colab.kernel.invokeFunction('convertToInteractive',\n",
              "                                                     [key], {});\n",
              "          if (!dataTable) return;\n",
              "\n",
              "          const docLinkHtml = 'Like what you see? Visit the ' +\n",
              "            '<a target=\"_blank\" href=https://colab.research.google.com/notebooks/data_table.ipynb>data table notebook</a>'\n",
              "            + ' to learn more about interactive tables.';\n",
              "          element.innerHTML = '';\n",
              "          dataTable['output_type'] = 'display_data';\n",
              "          await google.colab.output.renderOutput(dataTable, element);\n",
              "          const docLink = document.createElement('div');\n",
              "          docLink.innerHTML = docLinkHtml;\n",
              "          element.appendChild(docLink);\n",
              "        }\n",
              "      </script>\n",
              "    </div>\n",
              "  </div>\n"
            ]
          },
          "metadata": {},
          "execution_count": 105
        }
      ]
    },
    {
      "cell_type": "code",
      "source": [
        "# View y\n",
        "y.head()"
      ],
      "metadata": {
        "colab": {
          "base_uri": "https://localhost:8080/"
        },
        "id": "ahE733OszKn1",
        "outputId": "79979b4f-a81c-4ffa-e64a-ecae30006849"
      },
      "execution_count": null,
      "outputs": [
        {
          "output_type": "execute_result",
          "data": {
            "text/plain": [
              "0    16884.92400\n",
              "1     1725.55230\n",
              "2     4449.46200\n",
              "3    21984.47061\n",
              "4     3866.85520\n",
              "Name: charges, dtype: float64"
            ]
          },
          "metadata": {},
          "execution_count": 106
        }
      ]
    },
    {
      "cell_type": "code",
      "source": [
        "# Create training and test sets\n",
        "from sklearn.model_selection import train_test_split\n",
        "X_train, X_test, y_train, y_test = train_test_split(X, y, test_size=0.2, random_state=42)\n",
        "len(X), len(X_train), len(X_test)"
      ],
      "metadata": {
        "colab": {
          "base_uri": "https://localhost:8080/"
        },
        "id": "_2_lp8bryy_V",
        "outputId": "54e6f32f-d6e5-40e5-ad5f-7ae3350f0807"
      },
      "execution_count": null,
      "outputs": [
        {
          "output_type": "execute_result",
          "data": {
            "text/plain": [
              "(1338, 1070, 268)"
            ]
          },
          "metadata": {},
          "execution_count": 101
        }
      ]
    },
    {
      "cell_type": "code",
      "source": [
        "# Build a neural network (sort of like model_2 above)\n",
        "tf.random.set_seed(42)\n",
        "\n",
        "# 1. Create a model\n",
        "insurance_model = tf.keras.Sequential([\n",
        "    tf.keras.layers.Dense(10),\n",
        "    tf.keras.layers.Dense(1)\n",
        "])\n",
        "\n",
        "# 2. Compile the model\n",
        "insurance_model.compile(loss=tf.keras.losses.mae,\n",
        "                        optimizer=tf.keras.optimizers.SGD(),\n",
        "                        metrics=[\"mae\"])\n",
        "\n",
        "# 3. Fit the model\n",
        "insurance_model.fit(X_train, y_train, epochs=100)"
      ],
      "metadata": {
        "colab": {
          "base_uri": "https://localhost:8080/"
        },
        "id": "AUVBZxE_y0oL",
        "outputId": "6970af35-8ea8-424c-fae1-047b2e894050"
      },
      "execution_count": null,
      "outputs": [
        {
          "output_type": "stream",
          "name": "stdout",
          "text": [
            "Epoch 1/100\n",
            "34/34 [==============================] - 1s 3ms/step - loss: 8703.8096 - mae: 8703.8096\n",
            "Epoch 2/100\n",
            "34/34 [==============================] - 0s 4ms/step - loss: 7884.5718 - mae: 7884.5718\n",
            "Epoch 3/100\n",
            "34/34 [==============================] - 0s 3ms/step - loss: 7574.7246 - mae: 7574.7246\n",
            "Epoch 4/100\n",
            "34/34 [==============================] - 0s 2ms/step - loss: 7676.6416 - mae: 7676.6416\n",
            "Epoch 5/100\n",
            "34/34 [==============================] - 0s 2ms/step - loss: 7735.5396 - mae: 7735.5396\n",
            "Epoch 6/100\n",
            "34/34 [==============================] - 0s 2ms/step - loss: 7611.2822 - mae: 7611.2822\n",
            "Epoch 7/100\n",
            "34/34 [==============================] - 0s 1ms/step - loss: 7567.4492 - mae: 7567.4492\n",
            "Epoch 8/100\n",
            "34/34 [==============================] - 0s 1ms/step - loss: 7794.8916 - mae: 7794.8916\n",
            "Epoch 9/100\n",
            "34/34 [==============================] - 0s 2ms/step - loss: 7622.1426 - mae: 7622.1426\n",
            "Epoch 10/100\n",
            "34/34 [==============================] - 0s 2ms/step - loss: 7708.0601 - mae: 7708.0601\n",
            "Epoch 11/100\n",
            "34/34 [==============================] - 0s 2ms/step - loss: 7606.1069 - mae: 7606.1069\n",
            "Epoch 12/100\n",
            "34/34 [==============================] - 0s 1ms/step - loss: 7637.1538 - mae: 7637.1538\n",
            "Epoch 13/100\n",
            "34/34 [==============================] - 0s 2ms/step - loss: 7688.8232 - mae: 7688.8232\n",
            "Epoch 14/100\n",
            "34/34 [==============================] - 0s 2ms/step - loss: 7711.9351 - mae: 7711.9351\n",
            "Epoch 15/100\n",
            "34/34 [==============================] - 0s 2ms/step - loss: 7591.0801 - mae: 7591.0801\n",
            "Epoch 16/100\n",
            "34/34 [==============================] - 0s 2ms/step - loss: 7689.7661 - mae: 7689.7661\n",
            "Epoch 17/100\n",
            "34/34 [==============================] - 0s 2ms/step - loss: 7563.7227 - mae: 7563.7227\n",
            "Epoch 18/100\n",
            "34/34 [==============================] - 0s 2ms/step - loss: 7808.5845 - mae: 7808.5845\n",
            "Epoch 19/100\n",
            "34/34 [==============================] - 0s 2ms/step - loss: 7597.8154 - mae: 7597.8154\n",
            "Epoch 20/100\n",
            "34/34 [==============================] - 0s 2ms/step - loss: 7877.6636 - mae: 7877.6636\n",
            "Epoch 21/100\n",
            "34/34 [==============================] - 0s 2ms/step - loss: 7541.9272 - mae: 7541.9272\n",
            "Epoch 22/100\n",
            "34/34 [==============================] - 0s 2ms/step - loss: 7961.0708 - mae: 7961.0708\n",
            "Epoch 23/100\n",
            "34/34 [==============================] - 0s 2ms/step - loss: 7643.7764 - mae: 7643.7764\n",
            "Epoch 24/100\n",
            "34/34 [==============================] - 0s 1ms/step - loss: 7557.1167 - mae: 7557.1167\n",
            "Epoch 25/100\n",
            "34/34 [==============================] - 0s 1ms/step - loss: 7617.1572 - mae: 7617.1572\n",
            "Epoch 26/100\n",
            "34/34 [==============================] - 0s 1ms/step - loss: 7625.0591 - mae: 7625.0591\n",
            "Epoch 27/100\n",
            "34/34 [==============================] - 0s 1ms/step - loss: 7546.0259 - mae: 7546.0259\n",
            "Epoch 28/100\n",
            "34/34 [==============================] - 0s 2ms/step - loss: 7470.7944 - mae: 7470.7944\n",
            "Epoch 29/100\n",
            "34/34 [==============================] - 0s 1ms/step - loss: 7683.4541 - mae: 7683.4541\n",
            "Epoch 30/100\n",
            "34/34 [==============================] - 0s 2ms/step - loss: 7598.5186 - mae: 7598.5186\n",
            "Epoch 31/100\n",
            "34/34 [==============================] - 0s 2ms/step - loss: 7496.8208 - mae: 7496.8208\n",
            "Epoch 32/100\n",
            "34/34 [==============================] - 0s 2ms/step - loss: 7582.3071 - mae: 7582.3071\n",
            "Epoch 33/100\n",
            "34/34 [==============================] - 0s 2ms/step - loss: 7453.0171 - mae: 7453.0171\n",
            "Epoch 34/100\n",
            "34/34 [==============================] - 0s 2ms/step - loss: 7488.3174 - mae: 7488.3174\n",
            "Epoch 35/100\n",
            "34/34 [==============================] - 0s 1ms/step - loss: 7424.5420 - mae: 7424.5420\n",
            "Epoch 36/100\n",
            "34/34 [==============================] - 0s 1ms/step - loss: 7531.5679 - mae: 7531.5679\n",
            "Epoch 37/100\n",
            "34/34 [==============================] - 0s 2ms/step - loss: 7525.2383 - mae: 7525.2383\n",
            "Epoch 38/100\n",
            "34/34 [==============================] - 0s 2ms/step - loss: 7409.1230 - mae: 7409.1230\n",
            "Epoch 39/100\n",
            "34/34 [==============================] - 0s 1ms/step - loss: 7547.3755 - mae: 7547.3755\n",
            "Epoch 40/100\n",
            "34/34 [==============================] - 0s 2ms/step - loss: 7558.6104 - mae: 7558.6104\n",
            "Epoch 41/100\n",
            "34/34 [==============================] - 0s 2ms/step - loss: 7729.1587 - mae: 7729.1587\n",
            "Epoch 42/100\n",
            "34/34 [==============================] - 0s 2ms/step - loss: 7807.0454 - mae: 7807.0454\n",
            "Epoch 43/100\n",
            "34/34 [==============================] - 0s 1ms/step - loss: 7470.7617 - mae: 7470.7617\n",
            "Epoch 44/100\n",
            "34/34 [==============================] - 0s 2ms/step - loss: 7466.7993 - mae: 7466.7993\n",
            "Epoch 45/100\n",
            "34/34 [==============================] - 0s 1ms/step - loss: 7462.9663 - mae: 7462.9663\n",
            "Epoch 46/100\n",
            "34/34 [==============================] - 0s 2ms/step - loss: 7415.7451 - mae: 7415.7451\n",
            "Epoch 47/100\n",
            "34/34 [==============================] - 0s 2ms/step - loss: 7519.8457 - mae: 7519.8457\n",
            "Epoch 48/100\n",
            "34/34 [==============================] - 0s 2ms/step - loss: 7454.4526 - mae: 7454.4526\n",
            "Epoch 49/100\n",
            "34/34 [==============================] - 0s 1ms/step - loss: 7530.6260 - mae: 7530.6260\n",
            "Epoch 50/100\n",
            "34/34 [==============================] - 0s 2ms/step - loss: 7477.3184 - mae: 7477.3184\n",
            "Epoch 51/100\n",
            "34/34 [==============================] - 0s 2ms/step - loss: 7456.5059 - mae: 7456.5059\n",
            "Epoch 52/100\n",
            "34/34 [==============================] - 0s 2ms/step - loss: 7565.5776 - mae: 7565.5776\n",
            "Epoch 53/100\n",
            "34/34 [==============================] - 0s 1ms/step - loss: 7434.6792 - mae: 7434.6792\n",
            "Epoch 54/100\n",
            "34/34 [==============================] - 0s 2ms/step - loss: 7350.9805 - mae: 7350.9805\n",
            "Epoch 55/100\n",
            "34/34 [==============================] - 0s 2ms/step - loss: 7469.6094 - mae: 7469.6099\n",
            "Epoch 56/100\n",
            "34/34 [==============================] - 0s 1ms/step - loss: 7231.1934 - mae: 7231.1934\n",
            "Epoch 57/100\n",
            "34/34 [==============================] - 0s 2ms/step - loss: 7471.9424 - mae: 7471.9424\n",
            "Epoch 58/100\n",
            "34/34 [==============================] - 0s 2ms/step - loss: 7502.7061 - mae: 7502.7061\n",
            "Epoch 59/100\n",
            "34/34 [==============================] - 0s 1ms/step - loss: 7624.1987 - mae: 7624.1987\n",
            "Epoch 60/100\n",
            "34/34 [==============================] - 0s 2ms/step - loss: 7480.2178 - mae: 7480.2178\n",
            "Epoch 61/100\n",
            "34/34 [==============================] - 0s 1ms/step - loss: 7337.9897 - mae: 7337.9897\n",
            "Epoch 62/100\n",
            "34/34 [==============================] - 0s 2ms/step - loss: 7134.6729 - mae: 7134.6729\n",
            "Epoch 63/100\n",
            "34/34 [==============================] - 0s 2ms/step - loss: 7248.2197 - mae: 7248.2197\n",
            "Epoch 64/100\n",
            "34/34 [==============================] - 0s 2ms/step - loss: 7291.6250 - mae: 7291.6250\n",
            "Epoch 65/100\n",
            "34/34 [==============================] - 0s 2ms/step - loss: 7520.3730 - mae: 7520.3730\n",
            "Epoch 66/100\n",
            "34/34 [==============================] - 0s 1ms/step - loss: 7164.6831 - mae: 7164.6831\n",
            "Epoch 67/100\n",
            "34/34 [==============================] - 0s 2ms/step - loss: 7290.9512 - mae: 7290.9512\n",
            "Epoch 68/100\n",
            "34/34 [==============================] - 0s 2ms/step - loss: 7560.2715 - mae: 7560.2715\n",
            "Epoch 69/100\n",
            "34/34 [==============================] - 0s 1ms/step - loss: 7601.1016 - mae: 7601.1016\n",
            "Epoch 70/100\n",
            "34/34 [==============================] - 0s 2ms/step - loss: 7676.3960 - mae: 7676.3960\n",
            "Epoch 71/100\n",
            "34/34 [==============================] - 0s 1ms/step - loss: 7373.2310 - mae: 7373.2310\n",
            "Epoch 72/100\n",
            "34/34 [==============================] - 0s 1ms/step - loss: 7322.9463 - mae: 7322.9463\n",
            "Epoch 73/100\n",
            "34/34 [==============================] - 0s 2ms/step - loss: 7326.1680 - mae: 7326.1680\n",
            "Epoch 74/100\n",
            "34/34 [==============================] - 0s 2ms/step - loss: 7297.5161 - mae: 7297.5161\n",
            "Epoch 75/100\n",
            "34/34 [==============================] - 0s 1ms/step - loss: 7334.4653 - mae: 7334.4653\n",
            "Epoch 76/100\n",
            "34/34 [==============================] - 0s 1ms/step - loss: 7169.8193 - mae: 7169.8193\n",
            "Epoch 77/100\n",
            "34/34 [==============================] - 0s 1ms/step - loss: 7251.3208 - mae: 7251.3208\n",
            "Epoch 78/100\n",
            "34/34 [==============================] - 0s 2ms/step - loss: 7364.0645 - mae: 7364.0645\n",
            "Epoch 79/100\n",
            "34/34 [==============================] - 0s 2ms/step - loss: 7619.9673 - mae: 7619.9673\n",
            "Epoch 80/100\n",
            "34/34 [==============================] - 0s 1ms/step - loss: 7129.3271 - mae: 7129.3271\n",
            "Epoch 81/100\n",
            "34/34 [==============================] - 0s 2ms/step - loss: 7299.4902 - mae: 7299.4902\n",
            "Epoch 82/100\n",
            "34/34 [==============================] - 0s 2ms/step - loss: 7272.9224 - mae: 7272.9224\n",
            "Epoch 83/100\n",
            "34/34 [==============================] - 0s 2ms/step - loss: 7429.4277 - mae: 7429.4277\n",
            "Epoch 84/100\n",
            "34/34 [==============================] - 0s 1ms/step - loss: 7185.2656 - mae: 7185.2656\n",
            "Epoch 85/100\n",
            "34/34 [==============================] - 0s 2ms/step - loss: 7365.7534 - mae: 7365.7534\n",
            "Epoch 86/100\n",
            "34/34 [==============================] - 0s 2ms/step - loss: 7491.1641 - mae: 7491.1641\n",
            "Epoch 87/100\n",
            "34/34 [==============================] - 0s 2ms/step - loss: 7296.8198 - mae: 7296.8198\n",
            "Epoch 88/100\n",
            "34/34 [==============================] - 0s 2ms/step - loss: 7245.4785 - mae: 7245.4785\n",
            "Epoch 89/100\n",
            "34/34 [==============================] - 0s 2ms/step - loss: 7430.7280 - mae: 7430.7280\n",
            "Epoch 90/100\n",
            "34/34 [==============================] - 0s 2ms/step - loss: 7149.2549 - mae: 7149.2549\n",
            "Epoch 91/100\n",
            "34/34 [==============================] - 0s 2ms/step - loss: 7219.8486 - mae: 7219.8486\n",
            "Epoch 92/100\n",
            "34/34 [==============================] - 0s 2ms/step - loss: 7412.9854 - mae: 7412.9854\n",
            "Epoch 93/100\n",
            "34/34 [==============================] - 0s 2ms/step - loss: 7421.1016 - mae: 7421.1016\n",
            "Epoch 94/100\n",
            "34/34 [==============================] - 0s 1ms/step - loss: 7237.1787 - mae: 7237.1787\n",
            "Epoch 95/100\n",
            "34/34 [==============================] - 0s 1ms/step - loss: 7499.7383 - mae: 7499.7383\n",
            "Epoch 96/100\n",
            "34/34 [==============================] - 0s 2ms/step - loss: 7200.7432 - mae: 7200.7432\n",
            "Epoch 97/100\n",
            "34/34 [==============================] - 0s 2ms/step - loss: 7101.5239 - mae: 7101.5239\n",
            "Epoch 98/100\n",
            "34/34 [==============================] - 0s 2ms/step - loss: 7243.4302 - mae: 7243.4302\n",
            "Epoch 99/100\n",
            "34/34 [==============================] - 0s 1ms/step - loss: 7423.3359 - mae: 7423.3359\n",
            "Epoch 100/100\n",
            "34/34 [==============================] - 0s 1ms/step - loss: 7320.0557 - mae: 7320.0557\n"
          ]
        },
        {
          "output_type": "execute_result",
          "data": {
            "text/plain": [
              "<keras.callbacks.History at 0x7d2722962050>"
            ]
          },
          "metadata": {},
          "execution_count": 107
        }
      ]
    },
    {
      "cell_type": "code",
      "source": [
        "# Check the results of the insurance model on the test data\n",
        "insurance_model.evaluate(X_test, y_test)"
      ],
      "metadata": {
        "colab": {
          "base_uri": "https://localhost:8080/"
        },
        "id": "fv4pah_t0Ug7",
        "outputId": "dad39daa-d65d-45df-c26b-71c46e3f534e"
      },
      "execution_count": null,
      "outputs": [
        {
          "output_type": "stream",
          "name": "stdout",
          "text": [
            "9/9 [==============================] - 1s 4ms/step - loss: 8957.3232 - mae: 8957.3232\n"
          ]
        },
        {
          "output_type": "execute_result",
          "data": {
            "text/plain": [
              "[8957.3232421875, 8957.3232421875]"
            ]
          },
          "metadata": {},
          "execution_count": 108
        }
      ]
    },
    {
      "cell_type": "code",
      "source": [
        "y_train.median(), y_train.mean()"
      ],
      "metadata": {
        "colab": {
          "base_uri": "https://localhost:8080/"
        },
        "id": "B35ZkZhK2x1l",
        "outputId": "ef28cb0d-dc7d-4ca6-9fd9-91b7f4b0467c"
      },
      "execution_count": null,
      "outputs": [
        {
          "output_type": "execute_result",
          "data": {
            "text/plain": [
              "(9575.4421, 13346.089736364485)"
            ]
          },
          "metadata": {},
          "execution_count": 111
        }
      ]
    },
    {
      "cell_type": "markdown",
      "source": [
        "Right now it looks like our model isn't performing too well... let's try and improve it!\n",
        "\n",
        "To (try) improve our model, we'll run 2 experiments:\n",
        "1. Add an extra layer with more hidden units and use the Adam optimizer\n",
        "2. Same as above but train for longer (200 epochs)\n",
        "3. (insert your own experiment here)"
      ],
      "metadata": {
        "id": "lQ_Ul_6o26MV"
      }
    },
    {
      "cell_type": "code",
      "source": [
        "# Set random seed\n",
        "tf.random.set_seed(42)\n",
        "\n",
        "# 1. Create the model\n",
        "insurance_model_2 = tf.keras.Sequential([\n",
        "    tf.keras.layers.Dense(100),\n",
        "    tf.keras.layers.Dense(10),\n",
        "    tf.keras.layers.Dense(1)\n",
        "])\n",
        "\n",
        "# 2. Compile the model\n",
        "insurance_model_2.compile(loss=tf.keras.losses.mae,\n",
        "                          optimizer=tf.keras.optimizers.Adam(),\n",
        "                          metrics=[\"mae\"])\n",
        "\n",
        "# 3. Fit the model\n",
        "insurance_model_2.fit(X_train, y_train, epochs=100, verbose=1)"
      ],
      "metadata": {
        "colab": {
          "base_uri": "https://localhost:8080/"
        },
        "id": "rdWExUYW3U-_",
        "outputId": "3be0a3c4-e36d-415d-a283-fb63fc05ec41"
      },
      "execution_count": null,
      "outputs": [
        {
          "output_type": "stream",
          "name": "stdout",
          "text": [
            "Epoch 1/100\n",
            "34/34 [==============================] - 2s 4ms/step - loss: 13293.8438 - mae: 13293.8438\n",
            "Epoch 2/100\n",
            "34/34 [==============================] - 0s 3ms/step - loss: 13136.9375 - mae: 13136.9375\n",
            "Epoch 3/100\n",
            "34/34 [==============================] - 0s 3ms/step - loss: 12813.9639 - mae: 12813.9639\n",
            "Epoch 4/100\n",
            "34/34 [==============================] - 0s 4ms/step - loss: 12169.5615 - mae: 12169.5615\n",
            "Epoch 5/100\n",
            "34/34 [==============================] - 0s 3ms/step - loss: 11062.3857 - mae: 11062.3857\n",
            "Epoch 6/100\n",
            "34/34 [==============================] - 0s 2ms/step - loss: 9606.8633 - mae: 9606.8633\n",
            "Epoch 7/100\n",
            "34/34 [==============================] - 0s 2ms/step - loss: 8243.5059 - mae: 8243.5059\n",
            "Epoch 8/100\n",
            "34/34 [==============================] - 0s 2ms/step - loss: 7553.0244 - mae: 7553.0244\n",
            "Epoch 9/100\n",
            "34/34 [==============================] - 0s 3ms/step - loss: 7434.3096 - mae: 7434.3096\n",
            "Epoch 10/100\n",
            "34/34 [==============================] - 0s 4ms/step - loss: 7413.0591 - mae: 7413.0591\n",
            "Epoch 11/100\n",
            "34/34 [==============================] - 0s 3ms/step - loss: 7393.9878 - mae: 7393.9878\n",
            "Epoch 12/100\n",
            "34/34 [==============================] - 0s 3ms/step - loss: 7372.0430 - mae: 7372.0430\n",
            "Epoch 13/100\n",
            "34/34 [==============================] - 0s 3ms/step - loss: 7351.5132 - mae: 7351.5132\n",
            "Epoch 14/100\n",
            "34/34 [==============================] - 0s 3ms/step - loss: 7328.8828 - mae: 7328.8828\n",
            "Epoch 15/100\n",
            "34/34 [==============================] - 0s 3ms/step - loss: 7309.9941 - mae: 7309.9941\n",
            "Epoch 16/100\n",
            "34/34 [==============================] - 0s 4ms/step - loss: 7287.6445 - mae: 7287.6445\n",
            "Epoch 17/100\n",
            "34/34 [==============================] - 0s 3ms/step - loss: 7267.6685 - mae: 7267.6685\n",
            "Epoch 18/100\n",
            "34/34 [==============================] - 0s 3ms/step - loss: 7243.9082 - mae: 7243.9082\n",
            "Epoch 19/100\n",
            "34/34 [==============================] - 0s 3ms/step - loss: 7221.6650 - mae: 7221.6650\n",
            "Epoch 20/100\n",
            "34/34 [==============================] - 0s 3ms/step - loss: 7198.1855 - mae: 7198.1855\n",
            "Epoch 21/100\n",
            "34/34 [==============================] - 0s 3ms/step - loss: 7179.6279 - mae: 7179.6279\n",
            "Epoch 22/100\n",
            "34/34 [==============================] - 0s 3ms/step - loss: 7151.6538 - mae: 7151.6538\n",
            "Epoch 23/100\n",
            "34/34 [==============================] - 0s 3ms/step - loss: 7126.5371 - mae: 7126.5371\n",
            "Epoch 24/100\n",
            "34/34 [==============================] - 0s 4ms/step - loss: 7101.7051 - mae: 7101.7051\n",
            "Epoch 25/100\n",
            "34/34 [==============================] - 0s 4ms/step - loss: 7083.1680 - mae: 7083.1680\n",
            "Epoch 26/100\n",
            "34/34 [==============================] - 0s 4ms/step - loss: 7051.7998 - mae: 7051.7998\n",
            "Epoch 27/100\n",
            "34/34 [==============================] - 0s 4ms/step - loss: 7022.7993 - mae: 7022.7993\n",
            "Epoch 28/100\n",
            "34/34 [==============================] - 0s 4ms/step - loss: 6994.5952 - mae: 6994.5952\n",
            "Epoch 29/100\n",
            "34/34 [==============================] - 0s 4ms/step - loss: 6966.7930 - mae: 6966.7930\n",
            "Epoch 30/100\n",
            "34/34 [==============================] - 0s 3ms/step - loss: 6938.7354 - mae: 6938.7354\n",
            "Epoch 31/100\n",
            "34/34 [==============================] - 0s 3ms/step - loss: 6907.8311 - mae: 6907.8311\n",
            "Epoch 32/100\n",
            "34/34 [==============================] - 0s 3ms/step - loss: 6879.5757 - mae: 6879.5757\n",
            "Epoch 33/100\n",
            "34/34 [==============================] - 0s 3ms/step - loss: 6847.6685 - mae: 6847.6685\n",
            "Epoch 34/100\n",
            "34/34 [==============================] - 0s 3ms/step - loss: 6816.6880 - mae: 6816.6880\n",
            "Epoch 35/100\n",
            "34/34 [==============================] - 0s 3ms/step - loss: 6782.2642 - mae: 6782.2642\n",
            "Epoch 36/100\n",
            "34/34 [==============================] - 0s 3ms/step - loss: 6747.5688 - mae: 6747.5688\n",
            "Epoch 37/100\n",
            "34/34 [==============================] - 0s 3ms/step - loss: 6711.7495 - mae: 6711.7495\n",
            "Epoch 38/100\n",
            "34/34 [==============================] - 0s 3ms/step - loss: 6679.9268 - mae: 6679.9268\n",
            "Epoch 39/100\n",
            "34/34 [==============================] - 0s 3ms/step - loss: 6641.9292 - mae: 6641.9292\n",
            "Epoch 40/100\n",
            "34/34 [==============================] - 0s 3ms/step - loss: 6606.6470 - mae: 6606.6470\n",
            "Epoch 41/100\n",
            "34/34 [==============================] - 0s 3ms/step - loss: 6574.4033 - mae: 6574.4033\n",
            "Epoch 42/100\n",
            "34/34 [==============================] - 0s 3ms/step - loss: 6549.3521 - mae: 6549.3521\n",
            "Epoch 43/100\n",
            "34/34 [==============================] - 0s 3ms/step - loss: 6520.5586 - mae: 6520.5586\n",
            "Epoch 44/100\n",
            "34/34 [==============================] - 0s 2ms/step - loss: 6497.9292 - mae: 6497.9292\n",
            "Epoch 45/100\n",
            "34/34 [==============================] - 0s 3ms/step - loss: 6487.5264 - mae: 6487.5264\n",
            "Epoch 46/100\n",
            "34/34 [==============================] - 0s 3ms/step - loss: 6469.4878 - mae: 6469.4878\n",
            "Epoch 47/100\n",
            "34/34 [==============================] - 0s 3ms/step - loss: 6452.8535 - mae: 6452.8535\n",
            "Epoch 48/100\n",
            "34/34 [==============================] - 0s 3ms/step - loss: 6439.6807 - mae: 6439.6807\n",
            "Epoch 49/100\n",
            "34/34 [==============================] - 0s 3ms/step - loss: 6426.4751 - mae: 6426.4751\n",
            "Epoch 50/100\n",
            "34/34 [==============================] - 0s 3ms/step - loss: 6412.3389 - mae: 6412.3389\n",
            "Epoch 51/100\n",
            "34/34 [==============================] - 0s 2ms/step - loss: 6398.9946 - mae: 6398.9946\n",
            "Epoch 52/100\n",
            "34/34 [==============================] - 0s 2ms/step - loss: 6387.1938 - mae: 6387.1938\n",
            "Epoch 53/100\n",
            "34/34 [==============================] - 0s 3ms/step - loss: 6372.8135 - mae: 6372.8135\n",
            "Epoch 54/100\n",
            "34/34 [==============================] - 0s 3ms/step - loss: 6359.3853 - mae: 6359.3853\n",
            "Epoch 55/100\n",
            "34/34 [==============================] - 0s 3ms/step - loss: 6345.2822 - mae: 6345.2822\n",
            "Epoch 56/100\n",
            "34/34 [==============================] - 0s 3ms/step - loss: 6331.4565 - mae: 6331.4565\n",
            "Epoch 57/100\n",
            "34/34 [==============================] - 0s 3ms/step - loss: 6318.1533 - mae: 6318.1533\n",
            "Epoch 58/100\n",
            "34/34 [==============================] - 0s 3ms/step - loss: 6303.9131 - mae: 6303.9131\n",
            "Epoch 59/100\n",
            "34/34 [==============================] - 0s 3ms/step - loss: 6288.1924 - mae: 6288.1924\n",
            "Epoch 60/100\n",
            "34/34 [==============================] - 0s 2ms/step - loss: 6277.7642 - mae: 6277.7642\n",
            "Epoch 61/100\n",
            "34/34 [==============================] - 0s 3ms/step - loss: 6258.3794 - mae: 6258.3794\n",
            "Epoch 62/100\n",
            "34/34 [==============================] - 0s 2ms/step - loss: 6245.4199 - mae: 6245.4199\n",
            "Epoch 63/100\n",
            "34/34 [==============================] - 0s 2ms/step - loss: 6226.7222 - mae: 6226.7222\n",
            "Epoch 64/100\n",
            "34/34 [==============================] - 0s 2ms/step - loss: 6208.2881 - mae: 6208.2881\n",
            "Epoch 65/100\n",
            "34/34 [==============================] - 0s 3ms/step - loss: 6191.2500 - mae: 6191.2500\n",
            "Epoch 66/100\n",
            "34/34 [==============================] - 0s 2ms/step - loss: 6173.7661 - mae: 6173.7661\n",
            "Epoch 67/100\n",
            "34/34 [==============================] - 0s 3ms/step - loss: 6160.4917 - mae: 6160.4917\n",
            "Epoch 68/100\n",
            "34/34 [==============================] - 0s 3ms/step - loss: 6138.0898 - mae: 6138.0898\n",
            "Epoch 69/100\n",
            "34/34 [==============================] - 0s 11ms/step - loss: 6120.6289 - mae: 6120.6289\n",
            "Epoch 70/100\n",
            "34/34 [==============================] - 0s 11ms/step - loss: 6099.7520 - mae: 6099.7520\n",
            "Epoch 71/100\n",
            "34/34 [==============================] - 0s 5ms/step - loss: 6079.3477 - mae: 6079.3477\n",
            "Epoch 72/100\n",
            "34/34 [==============================] - 0s 5ms/step - loss: 6059.8540 - mae: 6059.8540\n",
            "Epoch 73/100\n",
            "34/34 [==============================] - 0s 3ms/step - loss: 6044.3770 - mae: 6044.3770\n",
            "Epoch 74/100\n",
            "34/34 [==============================] - 0s 4ms/step - loss: 6015.3770 - mae: 6015.3770\n",
            "Epoch 75/100\n",
            "34/34 [==============================] - 0s 3ms/step - loss: 5992.7920 - mae: 5992.7920\n",
            "Epoch 76/100\n",
            "34/34 [==============================] - 0s 2ms/step - loss: 5977.7358 - mae: 5977.7358\n",
            "Epoch 77/100\n",
            "34/34 [==============================] - 0s 2ms/step - loss: 5944.8013 - mae: 5944.8013\n",
            "Epoch 78/100\n",
            "34/34 [==============================] - 0s 2ms/step - loss: 5920.1045 - mae: 5920.1045\n",
            "Epoch 79/100\n",
            "34/34 [==============================] - 0s 2ms/step - loss: 5894.8096 - mae: 5894.8096\n",
            "Epoch 80/100\n",
            "34/34 [==============================] - 0s 2ms/step - loss: 5865.6099 - mae: 5865.6099\n",
            "Epoch 81/100\n",
            "34/34 [==============================] - 0s 2ms/step - loss: 5839.0552 - mae: 5839.0552\n",
            "Epoch 82/100\n",
            "34/34 [==============================] - 0s 2ms/step - loss: 5808.6509 - mae: 5808.6509\n",
            "Epoch 83/100\n",
            "34/34 [==============================] - 0s 2ms/step - loss: 5779.7842 - mae: 5779.7842\n",
            "Epoch 84/100\n",
            "34/34 [==============================] - 0s 2ms/step - loss: 5744.1313 - mae: 5744.1313\n",
            "Epoch 85/100\n",
            "34/34 [==============================] - 0s 2ms/step - loss: 5714.4424 - mae: 5714.4424\n",
            "Epoch 86/100\n",
            "34/34 [==============================] - 0s 2ms/step - loss: 5679.4629 - mae: 5679.4629\n",
            "Epoch 87/100\n",
            "34/34 [==============================] - 0s 2ms/step - loss: 5642.1333 - mae: 5642.1333\n",
            "Epoch 88/100\n",
            "34/34 [==============================] - 0s 2ms/step - loss: 5604.8105 - mae: 5604.8105\n",
            "Epoch 89/100\n",
            "34/34 [==============================] - 0s 2ms/step - loss: 5563.4453 - mae: 5563.4453\n",
            "Epoch 90/100\n",
            "34/34 [==============================] - 0s 2ms/step - loss: 5519.7822 - mae: 5519.7822\n",
            "Epoch 91/100\n",
            "34/34 [==============================] - 0s 2ms/step - loss: 5480.5889 - mae: 5480.5889\n",
            "Epoch 92/100\n",
            "34/34 [==============================] - 0s 2ms/step - loss: 5429.7134 - mae: 5429.7134\n",
            "Epoch 93/100\n",
            "34/34 [==============================] - 0s 2ms/step - loss: 5385.3638 - mae: 5385.3638\n",
            "Epoch 94/100\n",
            "34/34 [==============================] - 0s 2ms/step - loss: 5336.6343 - mae: 5336.6343\n",
            "Epoch 95/100\n",
            "34/34 [==============================] - 0s 2ms/step - loss: 5281.2046 - mae: 5281.2046\n",
            "Epoch 96/100\n",
            "34/34 [==============================] - 0s 2ms/step - loss: 5232.9189 - mae: 5232.9189\n",
            "Epoch 97/100\n",
            "34/34 [==============================] - 0s 2ms/step - loss: 5175.8867 - mae: 5175.8867\n",
            "Epoch 98/100\n",
            "34/34 [==============================] - 0s 2ms/step - loss: 5111.2227 - mae: 5111.2227\n",
            "Epoch 99/100\n",
            "34/34 [==============================] - 0s 2ms/step - loss: 5048.9312 - mae: 5048.9312\n",
            "Epoch 100/100\n",
            "34/34 [==============================] - 0s 2ms/step - loss: 4988.5093 - mae: 4988.5093\n"
          ]
        },
        {
          "output_type": "execute_result",
          "data": {
            "text/plain": [
              "<keras.callbacks.History at 0x7d27281c2da0>"
            ]
          },
          "metadata": {},
          "execution_count": 116
        }
      ]
    },
    {
      "cell_type": "code",
      "source": [
        "# Evalueate the larger model\n",
        "insurance_model_2.evaluate(X_test, y_test)"
      ],
      "metadata": {
        "colab": {
          "base_uri": "https://localhost:8080/"
        },
        "id": "DNyI7MxB4XNr",
        "outputId": "3bae91d7-944c-4554-9da1-e1cac02ca482"
      },
      "execution_count": null,
      "outputs": [
        {
          "output_type": "stream",
          "name": "stdout",
          "text": [
            "9/9 [==============================] - 0s 2ms/step - loss: 4858.8594 - mae: 4858.8594\n"
          ]
        },
        {
          "output_type": "execute_result",
          "data": {
            "text/plain": [
              "[4858.859375, 4858.859375]"
            ]
          },
          "metadata": {},
          "execution_count": 117
        }
      ]
    },
    {
      "cell_type": "code",
      "source": [
        "# Set random set\n",
        "tf.random.set_seed(42)\n",
        "\n",
        "# 1. Create the model (same as above)\n",
        "insurance_model_3 = tf.keras.Sequential([\n",
        "    tf.keras.layers.Dense(100),\n",
        "    tf.keras.layers.Dense(10),\n",
        "    tf.keras.layers.Dense(1)\n",
        "])\n",
        "\n",
        "# 2. Compile the model\n",
        "insurance_model_3.compile(loss=tf.keras.losses.mae,\n",
        "                          optimizer=tf.keras.optimizers.Adam(),\n",
        "                          metrics=[\"mae\"])\n",
        "\n",
        "# 3. Fit the model\n",
        "history = insurance_model_3.fit(X_train, y_train, epochs=200)"
      ],
      "metadata": {
        "colab": {
          "base_uri": "https://localhost:8080/"
        },
        "id": "cYmsRH4B5JqQ",
        "outputId": "007fde8e-a5d6-4edb-ec5f-d0a311c042d0"
      },
      "execution_count": null,
      "outputs": [
        {
          "output_type": "stream",
          "name": "stdout",
          "text": [
            "Epoch 1/200\n",
            "34/34 [==============================] - 1s 3ms/step - loss: 13293.7773 - mae: 13293.7773\n",
            "Epoch 2/200\n",
            "34/34 [==============================] - 0s 3ms/step - loss: 13123.1016 - mae: 13123.1016\n",
            "Epoch 3/200\n",
            "34/34 [==============================] - 0s 3ms/step - loss: 12763.5283 - mae: 12763.5283\n",
            "Epoch 4/200\n",
            "34/34 [==============================] - 0s 5ms/step - loss: 12052.9443 - mae: 12052.9443\n",
            "Epoch 5/200\n",
            "34/34 [==============================] - 0s 5ms/step - loss: 10875.0820 - mae: 10875.0820\n",
            "Epoch 6/200\n",
            "34/34 [==============================] - 0s 5ms/step - loss: 9403.7236 - mae: 9403.7236\n",
            "Epoch 7/200\n",
            "34/34 [==============================] - 0s 5ms/step - loss: 8098.1562 - mae: 8098.1562\n",
            "Epoch 8/200\n",
            "34/34 [==============================] - 0s 4ms/step - loss: 7511.6558 - mae: 7511.6558\n",
            "Epoch 9/200\n",
            "34/34 [==============================] - 0s 4ms/step - loss: 7422.2397 - mae: 7422.2397\n",
            "Epoch 10/200\n",
            "34/34 [==============================] - 0s 5ms/step - loss: 7402.0981 - mae: 7402.0981\n",
            "Epoch 11/200\n",
            "34/34 [==============================] - 0s 4ms/step - loss: 7382.9473 - mae: 7382.9473\n",
            "Epoch 12/200\n",
            "34/34 [==============================] - 0s 4ms/step - loss: 7360.0693 - mae: 7360.0693\n",
            "Epoch 13/200\n",
            "34/34 [==============================] - 0s 5ms/step - loss: 7338.9985 - mae: 7338.9985\n",
            "Epoch 14/200\n",
            "34/34 [==============================] - 0s 4ms/step - loss: 7315.8267 - mae: 7315.8267\n",
            "Epoch 15/200\n",
            "34/34 [==============================] - 0s 9ms/step - loss: 7296.2959 - mae: 7296.2959\n",
            "Epoch 16/200\n",
            "34/34 [==============================] - 0s 12ms/step - loss: 7273.3052 - mae: 7273.3052\n",
            "Epoch 17/200\n",
            "34/34 [==============================] - 0s 11ms/step - loss: 7251.8579 - mae: 7251.8579\n",
            "Epoch 18/200\n",
            "34/34 [==============================] - 0s 9ms/step - loss: 7227.7397 - mae: 7227.7397\n",
            "Epoch 19/200\n",
            "34/34 [==============================] - 0s 6ms/step - loss: 7204.2686 - mae: 7204.2686\n",
            "Epoch 20/200\n",
            "34/34 [==============================] - 0s 3ms/step - loss: 7179.4590 - mae: 7179.4590\n",
            "Epoch 21/200\n",
            "34/34 [==============================] - 0s 3ms/step - loss: 7159.6318 - mae: 7159.6318\n",
            "Epoch 22/200\n",
            "34/34 [==============================] - 0s 2ms/step - loss: 7130.5234 - mae: 7130.5234\n",
            "Epoch 23/200\n",
            "34/34 [==============================] - 0s 3ms/step - loss: 7103.6230 - mae: 7103.6230\n",
            "Epoch 24/200\n",
            "34/34 [==============================] - 0s 3ms/step - loss: 7077.0400 - mae: 7077.0400\n",
            "Epoch 25/200\n",
            "34/34 [==============================] - 0s 2ms/step - loss: 7056.9019 - mae: 7056.9019\n",
            "Epoch 26/200\n",
            "34/34 [==============================] - 0s 3ms/step - loss: 7023.9268 - mae: 7023.9268\n",
            "Epoch 27/200\n",
            "34/34 [==============================] - 0s 3ms/step - loss: 6993.7388 - mae: 6993.7388\n",
            "Epoch 28/200\n",
            "34/34 [==============================] - 0s 3ms/step - loss: 6963.5576 - mae: 6963.5576\n",
            "Epoch 29/200\n",
            "34/34 [==============================] - 0s 3ms/step - loss: 6933.4985 - mae: 6933.4985\n",
            "Epoch 30/200\n",
            "34/34 [==============================] - 0s 3ms/step - loss: 6905.3149 - mae: 6905.3149\n",
            "Epoch 31/200\n",
            "34/34 [==============================] - 0s 3ms/step - loss: 6872.3843 - mae: 6872.3843\n",
            "Epoch 32/200\n",
            "34/34 [==============================] - 0s 3ms/step - loss: 6841.6875 - mae: 6841.6875\n",
            "Epoch 33/200\n",
            "34/34 [==============================] - 0s 2ms/step - loss: 6808.4214 - mae: 6808.4214\n",
            "Epoch 34/200\n",
            "34/34 [==============================] - 0s 3ms/step - loss: 6774.5342 - mae: 6774.5342\n",
            "Epoch 35/200\n",
            "34/34 [==============================] - 0s 3ms/step - loss: 6738.1504 - mae: 6738.1504\n",
            "Epoch 36/200\n",
            "34/34 [==============================] - 0s 2ms/step - loss: 6702.7598 - mae: 6702.7598\n",
            "Epoch 37/200\n",
            "34/34 [==============================] - 0s 2ms/step - loss: 6665.7827 - mae: 6665.7827\n",
            "Epoch 38/200\n",
            "34/34 [==============================] - 0s 2ms/step - loss: 6634.8281 - mae: 6634.8281\n",
            "Epoch 39/200\n",
            "34/34 [==============================] - 0s 2ms/step - loss: 6596.3418 - mae: 6596.3418\n",
            "Epoch 40/200\n",
            "34/34 [==============================] - 0s 2ms/step - loss: 6564.8252 - mae: 6564.8252\n",
            "Epoch 41/200\n",
            "34/34 [==============================] - 0s 2ms/step - loss: 6540.2905 - mae: 6540.2905\n",
            "Epoch 42/200\n",
            "34/34 [==============================] - 0s 2ms/step - loss: 6517.3721 - mae: 6517.3721\n",
            "Epoch 43/200\n",
            "34/34 [==============================] - 0s 2ms/step - loss: 6494.8037 - mae: 6494.8037\n",
            "Epoch 44/200\n",
            "34/34 [==============================] - 0s 2ms/step - loss: 6475.4800 - mae: 6475.4800\n",
            "Epoch 45/200\n",
            "34/34 [==============================] - 0s 2ms/step - loss: 6466.5840 - mae: 6466.5840\n",
            "Epoch 46/200\n",
            "34/34 [==============================] - 0s 2ms/step - loss: 6448.2393 - mae: 6448.2393\n",
            "Epoch 47/200\n",
            "34/34 [==============================] - 0s 2ms/step - loss: 6433.0156 - mae: 6433.0156\n",
            "Epoch 48/200\n",
            "34/34 [==============================] - 0s 2ms/step - loss: 6418.2119 - mae: 6418.2119\n",
            "Epoch 49/200\n",
            "34/34 [==============================] - 0s 2ms/step - loss: 6407.4023 - mae: 6407.4023\n",
            "Epoch 50/200\n",
            "34/34 [==============================] - 0s 2ms/step - loss: 6391.8540 - mae: 6391.8540\n",
            "Epoch 51/200\n",
            "34/34 [==============================] - 0s 2ms/step - loss: 6378.4688 - mae: 6378.4688\n",
            "Epoch 52/200\n",
            "34/34 [==============================] - 0s 2ms/step - loss: 6365.8755 - mae: 6365.8755\n",
            "Epoch 53/200\n",
            "34/34 [==============================] - 0s 2ms/step - loss: 6350.7720 - mae: 6350.7720\n",
            "Epoch 54/200\n",
            "34/34 [==============================] - 0s 2ms/step - loss: 6336.1504 - mae: 6336.1504\n",
            "Epoch 55/200\n",
            "34/34 [==============================] - 0s 2ms/step - loss: 6321.9800 - mae: 6321.9800\n",
            "Epoch 56/200\n",
            "34/34 [==============================] - 0s 2ms/step - loss: 6307.1182 - mae: 6307.1182\n",
            "Epoch 57/200\n",
            "34/34 [==============================] - 0s 2ms/step - loss: 6293.3330 - mae: 6293.3330\n",
            "Epoch 58/200\n",
            "34/34 [==============================] - 0s 2ms/step - loss: 6278.5884 - mae: 6278.5884\n",
            "Epoch 59/200\n",
            "34/34 [==============================] - 0s 2ms/step - loss: 6262.6328 - mae: 6262.6328\n",
            "Epoch 60/200\n",
            "34/34 [==============================] - 0s 2ms/step - loss: 6250.4946 - mae: 6250.4946\n",
            "Epoch 61/200\n",
            "34/34 [==============================] - 0s 2ms/step - loss: 6229.5571 - mae: 6229.5571\n",
            "Epoch 62/200\n",
            "34/34 [==============================] - 0s 2ms/step - loss: 6216.7515 - mae: 6216.7515\n",
            "Epoch 63/200\n",
            "34/34 [==============================] - 0s 2ms/step - loss: 6196.9644 - mae: 6196.9644\n",
            "Epoch 64/200\n",
            "34/34 [==============================] - 0s 2ms/step - loss: 6178.6924 - mae: 6178.6924\n",
            "Epoch 65/200\n",
            "34/34 [==============================] - 0s 2ms/step - loss: 6160.4067 - mae: 6160.4067\n",
            "Epoch 66/200\n",
            "34/34 [==============================] - 0s 2ms/step - loss: 6141.7549 - mae: 6141.7549\n",
            "Epoch 67/200\n",
            "34/34 [==============================] - 0s 2ms/step - loss: 6127.9961 - mae: 6127.9961\n",
            "Epoch 68/200\n",
            "34/34 [==============================] - 0s 2ms/step - loss: 6104.0332 - mae: 6104.0332\n",
            "Epoch 69/200\n",
            "34/34 [==============================] - 0s 2ms/step - loss: 6085.6982 - mae: 6085.6982\n",
            "Epoch 70/200\n",
            "34/34 [==============================] - 0s 2ms/step - loss: 6063.8154 - mae: 6063.8154\n",
            "Epoch 71/200\n",
            "34/34 [==============================] - 0s 2ms/step - loss: 6042.4556 - mae: 6042.4556\n",
            "Epoch 72/200\n",
            "34/34 [==============================] - 0s 2ms/step - loss: 6021.9619 - mae: 6021.9619\n",
            "Epoch 73/200\n",
            "34/34 [==============================] - 0s 2ms/step - loss: 6005.1172 - mae: 6005.1172\n",
            "Epoch 74/200\n",
            "34/34 [==============================] - 0s 2ms/step - loss: 5974.1475 - mae: 5974.1475\n",
            "Epoch 75/200\n",
            "34/34 [==============================] - 0s 2ms/step - loss: 5951.5254 - mae: 5951.5254\n",
            "Epoch 76/200\n",
            "34/34 [==============================] - 0s 2ms/step - loss: 5933.5786 - mae: 5933.5786\n",
            "Epoch 77/200\n",
            "34/34 [==============================] - 0s 2ms/step - loss: 5900.2764 - mae: 5900.2764\n",
            "Epoch 78/200\n",
            "34/34 [==============================] - 0s 2ms/step - loss: 5873.3604 - mae: 5873.3604\n",
            "Epoch 79/200\n",
            "34/34 [==============================] - 0s 2ms/step - loss: 5846.6030 - mae: 5846.6030\n",
            "Epoch 80/200\n",
            "34/34 [==============================] - 0s 2ms/step - loss: 5815.0122 - mae: 5815.0122\n",
            "Epoch 81/200\n",
            "34/34 [==============================] - 0s 2ms/step - loss: 5787.0796 - mae: 5787.0796\n",
            "Epoch 82/200\n",
            "34/34 [==============================] - 0s 2ms/step - loss: 5754.1060 - mae: 5754.1060\n",
            "Epoch 83/200\n",
            "34/34 [==============================] - 0s 2ms/step - loss: 5723.4873 - mae: 5723.4873\n",
            "Epoch 84/200\n",
            "34/34 [==============================] - 0s 2ms/step - loss: 5686.2544 - mae: 5686.2544\n",
            "Epoch 85/200\n",
            "34/34 [==============================] - 0s 2ms/step - loss: 5656.3223 - mae: 5656.3223\n",
            "Epoch 86/200\n",
            "34/34 [==============================] - 0s 2ms/step - loss: 5619.1680 - mae: 5619.1680\n",
            "Epoch 87/200\n",
            "34/34 [==============================] - 0s 2ms/step - loss: 5577.5967 - mae: 5577.5967\n",
            "Epoch 88/200\n",
            "34/34 [==============================] - 0s 2ms/step - loss: 5538.4722 - mae: 5538.4722\n",
            "Epoch 89/200\n",
            "34/34 [==============================] - 0s 2ms/step - loss: 5493.6880 - mae: 5493.6880\n",
            "Epoch 90/200\n",
            "34/34 [==============================] - 0s 2ms/step - loss: 5446.4448 - mae: 5446.4448\n",
            "Epoch 91/200\n",
            "34/34 [==============================] - 0s 2ms/step - loss: 5404.8086 - mae: 5404.8086\n",
            "Epoch 92/200\n",
            "34/34 [==============================] - 0s 2ms/step - loss: 5353.4722 - mae: 5353.4722\n",
            "Epoch 93/200\n",
            "34/34 [==============================] - 0s 2ms/step - loss: 5303.5322 - mae: 5303.5322\n",
            "Epoch 94/200\n",
            "34/34 [==============================] - 0s 2ms/step - loss: 5251.7188 - mae: 5251.7188\n",
            "Epoch 95/200\n",
            "34/34 [==============================] - 0s 2ms/step - loss: 5193.0103 - mae: 5193.0103\n",
            "Epoch 96/200\n",
            "34/34 [==============================] - 0s 2ms/step - loss: 5141.7720 - mae: 5141.7720\n",
            "Epoch 97/200\n",
            "34/34 [==============================] - 0s 2ms/step - loss: 5082.5000 - mae: 5082.5000\n",
            "Epoch 98/200\n",
            "34/34 [==============================] - 0s 2ms/step - loss: 5013.0596 - mae: 5013.0596\n",
            "Epoch 99/200\n",
            "34/34 [==============================] - 0s 2ms/step - loss: 4944.4390 - mae: 4944.4390\n",
            "Epoch 100/200\n",
            "34/34 [==============================] - 0s 2ms/step - loss: 4885.4595 - mae: 4885.4595\n",
            "Epoch 101/200\n",
            "34/34 [==============================] - 0s 2ms/step - loss: 4803.3423 - mae: 4803.3423\n",
            "Epoch 102/200\n",
            "34/34 [==============================] - 0s 2ms/step - loss: 4723.5894 - mae: 4723.5894\n",
            "Epoch 103/200\n",
            "34/34 [==============================] - 0s 2ms/step - loss: 4646.1401 - mae: 4646.1401\n",
            "Epoch 104/200\n",
            "34/34 [==============================] - 0s 2ms/step - loss: 4559.2280 - mae: 4559.2280\n",
            "Epoch 105/200\n",
            "34/34 [==============================] - 0s 2ms/step - loss: 4465.2173 - mae: 4465.2173\n",
            "Epoch 106/200\n",
            "34/34 [==============================] - 0s 2ms/step - loss: 4385.2959 - mae: 4385.2959\n",
            "Epoch 107/200\n",
            "34/34 [==============================] - 0s 2ms/step - loss: 4301.8867 - mae: 4301.8867\n",
            "Epoch 108/200\n",
            "34/34 [==============================] - 0s 2ms/step - loss: 4218.8208 - mae: 4218.8208\n",
            "Epoch 109/200\n",
            "34/34 [==============================] - 0s 2ms/step - loss: 4139.2749 - mae: 4139.2749\n",
            "Epoch 110/200\n",
            "34/34 [==============================] - 0s 2ms/step - loss: 4068.1057 - mae: 4068.1057\n",
            "Epoch 111/200\n",
            "34/34 [==============================] - 0s 2ms/step - loss: 4005.4673 - mae: 4005.4673\n",
            "Epoch 112/200\n",
            "34/34 [==============================] - 0s 2ms/step - loss: 3965.5593 - mae: 3965.5593\n",
            "Epoch 113/200\n",
            "34/34 [==============================] - 0s 2ms/step - loss: 3929.4917 - mae: 3929.4917\n",
            "Epoch 114/200\n",
            "34/34 [==============================] - 0s 2ms/step - loss: 3909.8091 - mae: 3909.8091\n",
            "Epoch 115/200\n",
            "34/34 [==============================] - 0s 2ms/step - loss: 3877.7395 - mae: 3877.7395\n",
            "Epoch 116/200\n",
            "34/34 [==============================] - 0s 2ms/step - loss: 3864.3694 - mae: 3864.3694\n",
            "Epoch 117/200\n",
            "34/34 [==============================] - 0s 2ms/step - loss: 3857.8674 - mae: 3857.8674\n",
            "Epoch 118/200\n",
            "34/34 [==============================] - 0s 2ms/step - loss: 3843.0742 - mae: 3843.0742\n",
            "Epoch 119/200\n",
            "34/34 [==============================] - 0s 5ms/step - loss: 3826.4053 - mae: 3826.4053\n",
            "Epoch 120/200\n",
            "34/34 [==============================] - 0s 6ms/step - loss: 3814.0588 - mae: 3814.0588\n",
            "Epoch 121/200\n",
            "34/34 [==============================] - 0s 3ms/step - loss: 3808.3159 - mae: 3808.3159\n",
            "Epoch 122/200\n",
            "34/34 [==============================] - 0s 4ms/step - loss: 3806.6887 - mae: 3806.6887\n",
            "Epoch 123/200\n",
            "34/34 [==============================] - 0s 3ms/step - loss: 3800.2649 - mae: 3800.2649\n",
            "Epoch 124/200\n",
            "34/34 [==============================] - 0s 3ms/step - loss: 3793.8308 - mae: 3793.8308\n",
            "Epoch 125/200\n",
            "34/34 [==============================] - 0s 2ms/step - loss: 3786.0024 - mae: 3786.0024\n",
            "Epoch 126/200\n",
            "34/34 [==============================] - 0s 3ms/step - loss: 3794.4800 - mae: 3794.4800\n",
            "Epoch 127/200\n",
            "34/34 [==============================] - 0s 3ms/step - loss: 3789.3916 - mae: 3789.3916\n",
            "Epoch 128/200\n",
            "34/34 [==============================] - 0s 5ms/step - loss: 3783.5908 - mae: 3783.5908\n",
            "Epoch 129/200\n",
            "34/34 [==============================] - 0s 6ms/step - loss: 3791.4917 - mae: 3791.4917\n",
            "Epoch 130/200\n",
            "34/34 [==============================] - 0s 5ms/step - loss: 3779.4089 - mae: 3779.4089\n",
            "Epoch 131/200\n",
            "34/34 [==============================] - 0s 4ms/step - loss: 3775.6765 - mae: 3775.6765\n",
            "Epoch 132/200\n",
            "34/34 [==============================] - 0s 3ms/step - loss: 3769.7188 - mae: 3769.7188\n",
            "Epoch 133/200\n",
            "34/34 [==============================] - 0s 2ms/step - loss: 3764.9380 - mae: 3764.9380\n",
            "Epoch 134/200\n",
            "34/34 [==============================] - 0s 2ms/step - loss: 3765.8438 - mae: 3765.8438\n",
            "Epoch 135/200\n",
            "34/34 [==============================] - 0s 2ms/step - loss: 3762.1472 - mae: 3762.1472\n",
            "Epoch 136/200\n",
            "34/34 [==============================] - 0s 3ms/step - loss: 3761.2852 - mae: 3761.2852\n",
            "Epoch 137/200\n",
            "34/34 [==============================] - 0s 4ms/step - loss: 3768.3743 - mae: 3768.3743\n",
            "Epoch 138/200\n",
            "34/34 [==============================] - 0s 3ms/step - loss: 3778.6619 - mae: 3778.6619\n",
            "Epoch 139/200\n",
            "34/34 [==============================] - 0s 3ms/step - loss: 3756.2395 - mae: 3756.2395\n",
            "Epoch 140/200\n",
            "34/34 [==============================] - 0s 2ms/step - loss: 3757.8020 - mae: 3757.8020\n",
            "Epoch 141/200\n",
            "34/34 [==============================] - 0s 2ms/step - loss: 3758.3931 - mae: 3758.3931\n",
            "Epoch 142/200\n",
            "34/34 [==============================] - 0s 2ms/step - loss: 3761.9067 - mae: 3761.9067\n",
            "Epoch 143/200\n",
            "34/34 [==============================] - 0s 3ms/step - loss: 3748.0825 - mae: 3748.0825\n",
            "Epoch 144/200\n",
            "34/34 [==============================] - 0s 2ms/step - loss: 3745.6287 - mae: 3745.6287\n",
            "Epoch 145/200\n",
            "34/34 [==============================] - 0s 2ms/step - loss: 3746.5935 - mae: 3746.5935\n",
            "Epoch 146/200\n",
            "34/34 [==============================] - 0s 2ms/step - loss: 3752.7434 - mae: 3752.7434\n",
            "Epoch 147/200\n",
            "34/34 [==============================] - 0s 4ms/step - loss: 3745.3601 - mae: 3745.3601\n",
            "Epoch 148/200\n",
            "34/34 [==============================] - 0s 3ms/step - loss: 3755.0327 - mae: 3755.0327\n",
            "Epoch 149/200\n",
            "34/34 [==============================] - 0s 2ms/step - loss: 3739.0000 - mae: 3739.0000\n",
            "Epoch 150/200\n",
            "34/34 [==============================] - 0s 2ms/step - loss: 3734.3027 - mae: 3734.3027\n",
            "Epoch 151/200\n",
            "34/34 [==============================] - 0s 2ms/step - loss: 3735.3721 - mae: 3735.3721\n",
            "Epoch 152/200\n",
            "34/34 [==============================] - 0s 3ms/step - loss: 3738.8088 - mae: 3738.8088\n",
            "Epoch 153/200\n",
            "34/34 [==============================] - 0s 4ms/step - loss: 3740.2385 - mae: 3740.2385\n",
            "Epoch 154/200\n",
            "34/34 [==============================] - 0s 5ms/step - loss: 3732.6755 - mae: 3732.6755\n",
            "Epoch 155/200\n",
            "34/34 [==============================] - 0s 6ms/step - loss: 3732.8201 - mae: 3732.8201\n",
            "Epoch 156/200\n",
            "34/34 [==============================] - 0s 6ms/step - loss: 3731.6499 - mae: 3731.6499\n",
            "Epoch 157/200\n",
            "34/34 [==============================] - 0s 4ms/step - loss: 3729.1538 - mae: 3729.1538\n",
            "Epoch 158/200\n",
            "34/34 [==============================] - 0s 6ms/step - loss: 3724.4741 - mae: 3724.4741\n",
            "Epoch 159/200\n",
            "34/34 [==============================] - 0s 6ms/step - loss: 3722.1162 - mae: 3722.1162\n",
            "Epoch 160/200\n",
            "34/34 [==============================] - 0s 6ms/step - loss: 3728.7854 - mae: 3728.7854\n",
            "Epoch 161/200\n",
            "34/34 [==============================] - 0s 7ms/step - loss: 3723.2622 - mae: 3723.2622\n",
            "Epoch 162/200\n",
            "34/34 [==============================] - 0s 14ms/step - loss: 3720.4109 - mae: 3720.4109\n",
            "Epoch 163/200\n",
            "34/34 [==============================] - 1s 17ms/step - loss: 3717.9180 - mae: 3717.9180\n",
            "Epoch 164/200\n",
            "34/34 [==============================] - 1s 18ms/step - loss: 3722.5098 - mae: 3722.5098\n",
            "Epoch 165/200\n",
            "34/34 [==============================] - 1s 16ms/step - loss: 3712.8440 - mae: 3712.8440\n",
            "Epoch 166/200\n",
            "34/34 [==============================] - 0s 13ms/step - loss: 3716.8320 - mae: 3716.8320\n",
            "Epoch 167/200\n",
            "34/34 [==============================] - 0s 11ms/step - loss: 3715.2305 - mae: 3715.2305\n",
            "Epoch 168/200\n",
            "34/34 [==============================] - 0s 13ms/step - loss: 3710.5776 - mae: 3710.5776\n",
            "Epoch 169/200\n",
            "34/34 [==============================] - 0s 12ms/step - loss: 3710.5127 - mae: 3710.5127\n",
            "Epoch 170/200\n",
            "34/34 [==============================] - 0s 9ms/step - loss: 3703.2390 - mae: 3703.2390\n",
            "Epoch 171/200\n",
            "34/34 [==============================] - 0s 7ms/step - loss: 3703.3582 - mae: 3703.3582\n",
            "Epoch 172/200\n",
            "34/34 [==============================] - 0s 6ms/step - loss: 3704.6560 - mae: 3704.6560\n",
            "Epoch 173/200\n",
            "34/34 [==============================] - 0s 4ms/step - loss: 3701.0991 - mae: 3701.0991\n",
            "Epoch 174/200\n",
            "34/34 [==============================] - 0s 2ms/step - loss: 3704.2871 - mae: 3704.2871\n",
            "Epoch 175/200\n",
            "34/34 [==============================] - 0s 2ms/step - loss: 3706.3887 - mae: 3706.3887\n",
            "Epoch 176/200\n",
            "34/34 [==============================] - 0s 2ms/step - loss: 3701.2083 - mae: 3701.2083\n",
            "Epoch 177/200\n",
            "34/34 [==============================] - 0s 2ms/step - loss: 3694.2456 - mae: 3694.2456\n",
            "Epoch 178/200\n",
            "34/34 [==============================] - 0s 2ms/step - loss: 3690.8811 - mae: 3690.8811\n",
            "Epoch 179/200\n",
            "34/34 [==============================] - 0s 2ms/step - loss: 3701.7456 - mae: 3701.7456\n",
            "Epoch 180/200\n",
            "34/34 [==============================] - 0s 2ms/step - loss: 3704.9358 - mae: 3704.9358\n",
            "Epoch 181/200\n",
            "34/34 [==============================] - 0s 2ms/step - loss: 3691.2917 - mae: 3691.2917\n",
            "Epoch 182/200\n",
            "34/34 [==============================] - 0s 2ms/step - loss: 3687.9705 - mae: 3687.9705\n",
            "Epoch 183/200\n",
            "34/34 [==============================] - 0s 3ms/step - loss: 3686.3667 - mae: 3686.3667\n",
            "Epoch 184/200\n",
            "34/34 [==============================] - 0s 3ms/step - loss: 3694.3840 - mae: 3694.3840\n",
            "Epoch 185/200\n",
            "34/34 [==============================] - 0s 2ms/step - loss: 3688.7051 - mae: 3688.7051\n",
            "Epoch 186/200\n",
            "34/34 [==============================] - 0s 2ms/step - loss: 3692.2671 - mae: 3692.2671\n",
            "Epoch 187/200\n",
            "34/34 [==============================] - 0s 2ms/step - loss: 3683.2566 - mae: 3683.2566\n",
            "Epoch 188/200\n",
            "34/34 [==============================] - 0s 2ms/step - loss: 3690.5330 - mae: 3690.5330\n",
            "Epoch 189/200\n",
            "34/34 [==============================] - 0s 2ms/step - loss: 3678.5420 - mae: 3678.5420\n",
            "Epoch 190/200\n",
            "34/34 [==============================] - 0s 2ms/step - loss: 3678.3140 - mae: 3678.3140\n",
            "Epoch 191/200\n",
            "34/34 [==============================] - 0s 3ms/step - loss: 3696.1345 - mae: 3696.1345\n",
            "Epoch 192/200\n",
            "34/34 [==============================] - 0s 2ms/step - loss: 3680.3669 - mae: 3680.3669\n",
            "Epoch 193/200\n",
            "34/34 [==============================] - 0s 2ms/step - loss: 3670.1030 - mae: 3670.1030\n",
            "Epoch 194/200\n",
            "34/34 [==============================] - 0s 2ms/step - loss: 3671.3030 - mae: 3671.3030\n",
            "Epoch 195/200\n",
            "34/34 [==============================] - 0s 2ms/step - loss: 3668.2227 - mae: 3668.2227\n",
            "Epoch 196/200\n",
            "34/34 [==============================] - 0s 2ms/step - loss: 3676.7063 - mae: 3676.7063\n",
            "Epoch 197/200\n",
            "34/34 [==============================] - 0s 2ms/step - loss: 3661.1423 - mae: 3661.1423\n",
            "Epoch 198/200\n",
            "34/34 [==============================] - 0s 4ms/step - loss: 3668.0393 - mae: 3668.0393\n",
            "Epoch 199/200\n",
            "34/34 [==============================] - 0s 3ms/step - loss: 3675.8972 - mae: 3675.8972\n",
            "Epoch 200/200\n",
            "34/34 [==============================] - 0s 3ms/step - loss: 3662.6724 - mae: 3662.6724\n"
          ]
        }
      ]
    },
    {
      "cell_type": "code",
      "source": [
        "# Evaluate our third model\n",
        "insurance_model_3.evaluate(X_test, y_test)"
      ],
      "metadata": {
        "colab": {
          "base_uri": "https://localhost:8080/"
        },
        "id": "4kIGMcKI6FRu",
        "outputId": "ef820432-0b30-45cc-d204-97175d3287af"
      },
      "execution_count": null,
      "outputs": [
        {
          "output_type": "stream",
          "name": "stdout",
          "text": [
            "9/9 [==============================] - 0s 5ms/step - loss: 3482.9177 - mae: 3482.9177\n"
          ]
        },
        {
          "output_type": "execute_result",
          "data": {
            "text/plain": [
              "[3482.917724609375, 3482.917724609375]"
            ]
          },
          "metadata": {},
          "execution_count": 124
        }
      ]
    },
    {
      "cell_type": "code",
      "source": [
        "insurance_model.evaluate(X_test, y_test)"
      ],
      "metadata": {
        "colab": {
          "base_uri": "https://localhost:8080/"
        },
        "id": "6b-9_ZBh6Pk6",
        "outputId": "fd12d5a1-d959-4143-991c-8dca1bcc4097"
      },
      "execution_count": null,
      "outputs": [
        {
          "output_type": "stream",
          "name": "stdout",
          "text": [
            "9/9 [==============================] - 0s 3ms/step - loss: 8957.3232 - mae: 8957.3232\n"
          ]
        },
        {
          "output_type": "execute_result",
          "data": {
            "text/plain": [
              "[8957.3232421875, 8957.3232421875]"
            ]
          },
          "metadata": {},
          "execution_count": 125
        }
      ]
    },
    {
      "cell_type": "code",
      "source": [
        "# Plot histroy (also known as a loss curve or a training curve)\n",
        "pd.DataFrame(history.history).plot()\n",
        "plt.ylabel(\"loss\")\n",
        "plt.xlabel(\"epochs\")"
      ],
      "metadata": {
        "colab": {
          "base_uri": "https://localhost:8080/",
          "height": 466
        },
        "id": "PzvFvflT6bqK",
        "outputId": "b771c456-198d-4b83-8327-d7f0b23171b9"
      },
      "execution_count": null,
      "outputs": [
        {
          "output_type": "execute_result",
          "data": {
            "text/plain": [
              "Text(0.5, 0, 'epochs')"
            ]
          },
          "metadata": {},
          "execution_count": 126
        },
        {
          "output_type": "display_data",
          "data": {
            "text/plain": [
              "<Figure size 640x480 with 1 Axes>"
            ],
            "image/png": "[encoded data removed]"
          },
          "metadata": {}
        }
      ]
    },
    {
      "cell_type": "markdown",
      "source": [
        "> ❓**Question:** How long should you train for?\n",
        "\n",
        "It depends. Really... it depends on the problem you're working on. However, many people havve asked this question before... so TensorFlow has a solution! It's called the [Early Stopping Callback](https://www.tensorflow.org/api_docs/python/tf/keras/callbacks/EarlyStopping), which is a TensorFlow component you can add to your model to stop training once it stops improving a certain metric."
      ],
      "metadata": {
        "id": "swixKNiW6qWM"
      }
    },
    {
      "cell_type": "markdown",
      "source": [
        "## Preprocessing data (normalization and standardization)\n",
        "\n",
        "In terms of scaling values, neural networks tend to prefer normalization.\n",
        "\n",
        "If you're not sure on which to use, you could try both and see which performs better."
      ],
      "metadata": {
        "id": "wG2P4qZF70MA"
      }
    },
    {
      "cell_type": "code",
      "source": [
        "X"
      ],
      "metadata": {
        "colab": {
          "base_uri": "https://localhost:8080/",
          "height": 424
        },
        "id": "FyuOzH-k8IAM",
        "outputId": "7532d8de-bc54-46be-e07b-3586c1690c0d"
      },
      "execution_count": null,
      "outputs": [
        {
          "output_type": "execute_result",
          "data": {
            "text/plain": [
              "      age     bmi  children  sex_female  sex_male  smoker_no  smoker_yes  \\\n",
              "0      19  27.900         0           1         0          0           1   \n",
              "1      18  33.770         1           0         1          1           0   \n",
              "2      28  33.000         3           0         1          1           0   \n",
              "3      33  22.705         0           0         1          1           0   \n",
              "4      32  28.880         0           0         1          1           0   \n",
              "...   ...     ...       ...         ...       ...        ...         ...   \n",
              "1333   50  30.970         3           0         1          1           0   \n",
              "1334   18  31.920         0           1         0          1           0   \n",
              "1335   18  36.850         0           1         0          1           0   \n",
              "1336   21  25.800         0           1         0          1           0   \n",
              "1337   61  29.070         0           1         0          0           1   \n",
              "\n",
              "      region_northeast  region_northwest  region_southeast  region_southwest  \n",
              "0                    0                 0                 0                 1  \n",
              "1                    0                 0                 1                 0  \n",
              "2                    0                 0                 1                 0  \n",
              "3                    0                 1                 0                 0  \n",
              "4                    0                 1                 0                 0  \n",
              "...                ...               ...               ...               ...  \n",
              "1333                 0                 1                 0                 0  \n",
              "1334                 1                 0                 0                 0  \n",
              "1335                 0                 0                 1                 0  \n",
              "1336                 0                 0                 0                 1  \n",
              "1337                 0                 1                 0                 0  \n",
              "\n",
              "[1338 rows x 11 columns]"
            ],
            "text/html": [
              "\n",
              "\n",
              "  <div id=\"df-a7e27dfa-1da1-4279-9117-8e3f1a3555b2\">\n",
              "    <div class=\"colab-df-container\">\n",
              "      <div>\n",
              "<style scoped>\n",
              "    .dataframe tbody tr th:only-of-type {\n",
              "        vertical-align: middle;\n",
              "    }\n",
              "\n",
              "    .dataframe tbody tr th {\n",
              "        vertical-align: top;\n",
              "    }\n",
              "\n",
              "    .dataframe thead th {\n",
              "        text-align: right;\n",
              "    }\n",
              "</style>\n",
              "<table border=\"1\" class=\"dataframe\">\n",
              "  <thead>\n",
              "    <tr style=\"text-align: right;\">\n",
              "      <th></th>\n",
              "      <th>age</th>\n",
              "      <th>bmi</th>\n",
              "      <th>children</th>\n",
              "      <th>sex_female</th>\n",
              "      <th>sex_male</th>\n",
              "      <th>smoker_no</th>\n",
              "      <th>smoker_yes</th>\n",
              "      <th>region_northeast</th>\n",
              "      <th>region_northwest</th>\n",
              "      <th>region_southeast</th>\n",
              "      <th>region_southwest</th>\n",
              "    </tr>\n",
              "  </thead>\n",
              "  <tbody>\n",
              "    <tr>\n",
              "      <th>0</th>\n",
              "      <td>19</td>\n",
              "      <td>27.900</td>\n",
              "      <td>0</td>\n",
              "      <td>1</td>\n",
              "      <td>0</td>\n",
              "      <td>0</td>\n",
              "      <td>1</td>\n",
              "      <td>0</td>\n",
              "      <td>0</td>\n",
              "      <td>0</td>\n",
              "      <td>1</td>\n",
              "    </tr>\n",
              "    <tr>\n",
              "      <th>1</th>\n",
              "      <td>18</td>\n",
              "      <td>33.770</td>\n",
              "      <td>1</td>\n",
              "      <td>0</td>\n",
              "      <td>1</td>\n",
              "      <td>1</td>\n",
              "      <td>0</td>\n",
              "      <td>0</td>\n",
              "      <td>0</td>\n",
              "      <td>1</td>\n",
              "      <td>0</td>\n",
              "    </tr>\n",
              "    <tr>\n",
              "      <th>2</th>\n",
              "      <td>28</td>\n",
              "      <td>33.000</td>\n",
              "      <td>3</td>\n",
              "      <td>0</td>\n",
              "      <td>1</td>\n",
              "      <td>1</td>\n",
              "      <td>0</td>\n",
              "      <td>0</td>\n",
              "      <td>0</td>\n",
              "      <td>1</td>\n",
              "      <td>0</td>\n",
              "    </tr>\n",
              "    <tr>\n",
              "      <th>3</th>\n",
              "      <td>33</td>\n",
              "      <td>22.705</td>\n",
              "      <td>0</td>\n",
              "      <td>0</td>\n",
              "      <td>1</td>\n",
              "      <td>1</td>\n",
              "      <td>0</td>\n",
              "      <td>0</td>\n",
              "      <td>1</td>\n",
              "      <td>0</td>\n",
              "      <td>0</td>\n",
              "    </tr>\n",
              "    <tr>\n",
              "      <th>4</th>\n",
              "      <td>32</td>\n",
              "      <td>28.880</td>\n",
              "      <td>0</td>\n",
              "      <td>0</td>\n",
              "      <td>1</td>\n",
              "      <td>1</td>\n",
              "      <td>0</td>\n",
              "      <td>0</td>\n",
              "      <td>1</td>\n",
              "      <td>0</td>\n",
              "      <td>0</td>\n",
              "    </tr>\n",
              "    <tr>\n",
              "      <th>...</th>\n",
              "      <td>...</td>\n",
              "      <td>...</td>\n",
              "      <td>...</td>\n",
              "      <td>...</td>\n",
              "      <td>...</td>\n",
              "      <td>...</td>\n",
              "      <td>...</td>\n",
              "      <td>...</td>\n",
              "      <td>...</td>\n",
              "      <td>...</td>\n",
              "      <td>...</td>\n",
              "    </tr>\n",
              "    <tr>\n",
              "      <th>1333</th>\n",
              "      <td>50</td>\n",
              "      <td>30.970</td>\n",
              "      <td>3</td>\n",
              "      <td>0</td>\n",
              "      <td>1</td>\n",
              "      <td>1</td>\n",
              "      <td>0</td>\n",
              "      <td>0</td>\n",
              "      <td>1</td>\n",
              "      <td>0</td>\n",
              "      <td>0</td>\n",
              "    </tr>\n",
              "    <tr>\n",
              "      <th>1334</th>\n",
              "      <td>18</td>\n",
              "      <td>31.920</td>\n",
              "      <td>0</td>\n",
              "      <td>1</td>\n",
              "      <td>0</td>\n",
              "      <td>1</td>\n",
              "      <td>0</td>\n",
              "      <td>1</td>\n",
              "      <td>0</td>\n",
              "      <td>0</td>\n",
              "      <td>0</td>\n",
              "    </tr>\n",
              "    <tr>\n",
              "      <th>1335</th>\n",
              "      <td>18</td>\n",
              "      <td>36.850</td>\n",
              "      <td>0</td>\n",
              "      <td>1</td>\n",
              "      <td>0</td>\n",
              "      <td>1</td>\n",
              "      <td>0</td>\n",
              "      <td>0</td>\n",
              "      <td>0</td>\n",
              "      <td>1</td>\n",
              "      <td>0</td>\n",
              "    </tr>\n",
              "    <tr>\n",
              "      <th>1336</th>\n",
              "      <td>21</td>\n",
              "      <td>25.800</td>\n",
              "      <td>0</td>\n",
              "      <td>1</td>\n",
              "      <td>0</td>\n",
              "      <td>1</td>\n",
              "      <td>0</td>\n",
              "      <td>0</td>\n",
              "      <td>0</td>\n",
              "      <td>0</td>\n",
              "      <td>1</td>\n",
              "    </tr>\n",
              "    <tr>\n",
              "      <th>1337</th>\n",
              "      <td>61</td>\n",
              "      <td>29.070</td>\n",
              "      <td>0</td>\n",
              "      <td>1</td>\n",
              "      <td>0</td>\n",
              "      <td>0</td>\n",
              "      <td>1</td>\n",
              "      <td>0</td>\n",
              "      <td>1</td>\n",
              "      <td>0</td>\n",
              "      <td>0</td>\n",
              "    </tr>\n",
              "  </tbody>\n",
              "</table>\n",
              "<p>1338 rows × 11 columns</p>\n",
              "</div>\n",
              "      <button class=\"colab-df-convert\" onclick=\"convertToInteractive('df-a7e27dfa-1da1-4279-9117-8e3f1a3555b2')\"\n",
              "              title=\"Convert this dataframe to an interactive table.\"\n",
              "              style=\"display:none;\">\n",
              "\n",
              "  <svg xmlns=\"http://www.w3.org/2000/svg\" height=\"24px\"viewBox=\"0 0 24 24\"\n",
              "       width=\"24px\">\n",
              "    <path d=\"M0 0h24v24H0V0z\" fill=\"none\"/>\n",
              "    <path d=\"M18.56 5.44l.94 2.06.94-2.06 2.06-.94-2.06-.94-.94-2.06-.94 2.06-2.06.94zm-11 1L8.5 8.5l.94-2.06 2.06-.94-2.06-.94L8.5 2.5l-.94 2.06-2.06.94zm10 10l.94 2.06.94-2.06 2.06-.94-2.06-.94-.94-2.06-.94 2.06-2.06.94z\"/><path d=\"M17.41 7.96l-1.37-1.37c-.4-.4-.92-.59-1.43-.59-.52 0-1.04.2-1.43.59L10.3 9.45l-7.72 7.72c-.78.78-.78 2.05 0 2.83L4 21.41c.39.39.9.59 1.41.59.51 0 1.02-.2 1.41-.59l7.78-7.78 2.81-2.81c.8-.78.8-2.07 0-2.86zM5.41 20L4 18.59l7.72-7.72 1.47 1.35L5.41 20z\"/>\n",
              "  </svg>\n",
              "      </button>\n",
              "\n",
              "\n",
              "\n",
              "    <div id=\"df-c07da1a4-eb41-4630-a4b9-649e9bc48bb4\">\n",
              "      <button class=\"colab-df-quickchart\" onclick=\"quickchart('df-c07da1a4-eb41-4630-a4b9-649e9bc48bb4')\"\n",
              "              title=\"Suggest charts.\"\n",
              "              style=\"display:none;\">\n",
              "\n",
              "<svg xmlns=\"http://www.w3.org/2000/svg\" height=\"24px\"viewBox=\"0 0 24 24\"\n",
              "     width=\"24px\">\n",
              "    <g>\n",
              "        <path d=\"M19 3H5c-1.1 0-2 .9-2 2v14c0 1.1.9 2 2 2h14c1.1 0 2-.9 2-2V5c0-1.1-.9-2-2-2zM9 17H7v-7h2v7zm4 0h-2V7h2v10zm4 0h-2v-4h2v4z\"/>\n",
              "    </g>\n",
              "</svg>\n",
              "      </button>\n",
              "    </div>\n",
              "\n",
              "<style>\n",
              "  .colab-df-quickchart {\n",
              "    background-color: #E8F0FE;\n",
              "    border: none;\n",
              "    border-radius: 50%;\n",
              "    cursor: pointer;\n",
              "    display: none;\n",
              "    fill: #1967D2;\n",
              "    height: 32px;\n",
              "    padding: 0 0 0 0;\n",
              "    width: 32px;\n",
              "  }\n",
              "\n",
              "  .colab-df-quickchart:hover {\n",
              "    background-color: #E2EBFA;\n",
              "    box-shadow: 0px 1px 2px rgba(60, 64, 67, 0.3), 0px 1px 3px 1px rgba(60, 64, 67, 0.15);\n",
              "    fill: #174EA6;\n",
              "  }\n",
              "\n",
              "  [theme=dark] .colab-df-quickchart {\n",
              "    background-color: #3B4455;\n",
              "    fill: #D2E3FC;\n",
              "  }\n",
              "\n",
              "  [theme=dark] .colab-df-quickchart:hover {\n",
              "    background-color: #434B5C;\n",
              "    box-shadow: 0px 1px 3px 1px rgba(0, 0, 0, 0.15);\n",
              "    filter: drop-shadow(0px 1px 2px rgba(0, 0, 0, 0.3));\n",
              "    fill: #FFFFFF;\n",
              "  }\n",
              "</style>\n",
              "\n",
              "    <script>\n",
              "      async function quickchart(key) {\n",
              "        const containerElement = document.querySelector('#' + key);\n",
              "        const charts = await google.colab.kernel.invokeFunction(\n",
              "            'suggestCharts', [key], {});\n",
              "      }\n",
              "    </script>\n",
              "\n",
              "      <script>\n",
              "\n",
              "function displayQuickchartButton(domScope) {\n",
              "  let quickchartButtonEl =\n",
              "    domScope.querySelector('#df-c07da1a4-eb41-4630-a4b9-649e9bc48bb4 button.colab-df-quickchart');\n",
              "  quickchartButtonEl.style.display =\n",
              "    google.colab.kernel.accessAllowed ? 'block' : 'none';\n",
              "}\n",
              "\n",
              "        displayQuickchartButton(document);\n",
              "      </script>\n",
              "      <style>\n",
              "    .colab-df-container {\n",
              "      display:flex;\n",
              "      flex-wrap:wrap;\n",
              "      gap: 12px;\n",
              "    }\n",
              "\n",
              "    .colab-df-convert {\n",
              "      background-color: #E8F0FE;\n",
              "      border: none;\n",
              "      border-radius: 50%;\n",
              "      cursor: pointer;\n",
              "      display: none;\n",
              "      fill: #1967D2;\n",
              "      height: 32px;\n",
              "      padding: 0 0 0 0;\n",
              "      width: 32px;\n",
              "    }\n",
              "\n",
              "    .colab-df-convert:hover {\n",
              "      background-color: #E2EBFA;\n",
              "      box-shadow: 0px 1px 2px rgba(60, 64, 67, 0.3), 0px 1px 3px 1px rgba(60, 64, 67, 0.15);\n",
              "      fill: #174EA6;\n",
              "    }\n",
              "\n",
              "    [theme=dark] .colab-df-convert {\n",
              "      background-color: #3B4455;\n",
              "      fill: #D2E3FC;\n",
              "    }\n",
              "\n",
              "    [theme=dark] .colab-df-convert:hover {\n",
              "      background-color: #434B5C;\n",
              "      box-shadow: 0px 1px 3px 1px rgba(0, 0, 0, 0.15);\n",
              "      filter: drop-shadow(0px 1px 2px rgba(0, 0, 0, 0.3));\n",
              "      fill: #FFFFFF;\n",
              "    }\n",
              "  </style>\n",
              "\n",
              "      <script>\n",
              "        const buttonEl =\n",
              "          document.querySelector('#df-a7e27dfa-1da1-4279-9117-8e3f1a3555b2 button.colab-df-convert');\n",
              "        buttonEl.style.display =\n",
              "          google.colab.kernel.accessAllowed ? 'block' : 'none';\n",
              "\n",
              "        async function convertToInteractive(key) {\n",
              "          const element = document.querySelector('#df-a7e27dfa-1da1-4279-9117-8e3f1a3555b2');\n",
              "          const dataTable =\n",
              "            await google.colab.kernel.invokeFunction('convertToInteractive',\n",
              "                                                     [key], {});\n",
              "          if (!dataTable) return;\n",
              "\n",
              "          const docLinkHtml = 'Like what you see? Visit the ' +\n",
              "            '<a target=\"_blank\" href=https://colab.research.google.com/notebooks/data_table.ipynb>data table notebook</a>'\n",
              "            + ' to learn more about interactive tables.';\n",
              "          element.innerHTML = '';\n",
              "          dataTable['output_type'] = 'display_data';\n",
              "          await google.colab.output.renderOutput(dataTable, element);\n",
              "          const docLink = document.createElement('div');\n",
              "          docLink.innerHTML = docLinkHtml;\n",
              "          element.appendChild(docLink);\n",
              "        }\n",
              "      </script>\n",
              "    </div>\n",
              "  </div>\n"
            ]
          },
          "metadata": {},
          "execution_count": 128
        }
      ]
    },
    {
      "cell_type": "markdown",
      "source": [
        "To prepare our data, we can borrow a few classes from Scikit-Learn."
      ],
      "metadata": {
        "id": "MFGJUwU6Eqd2"
      }
    },
    {
      "cell_type": "code",
      "source": [
        "from sklearn.compose import make_column_transformer\n",
        "from sklearn.preprocessing import MinMaxScaler, OneHotEncoder\n",
        "from sklearn.model_selection import train_test_split\n",
        "\n",
        "# Create a column transformer\n",
        "ct = make_column_transformer(\n",
        "    (MinMaxScaler(), [\"age\",\"bmi\",\"children\"]), # turn all values in these columns between 0 and 1\n",
        "    (OneHotEncoder(handle_unknown=\"ignore\"), [\"sex\",\"smoker\",\"region\"])\n",
        ")\n",
        "\n",
        "# Create X & y\n",
        "X = insurance.drop(\"charges\", axis=1)\n",
        "y = insurance[\"charges\"]\n",
        "\n",
        "# Build our train and test sets\n",
        "X_train, X_test, y_train, y_test = train_test_split(X, y, test_size=0.2, random_state=42)\n",
        "\n",
        "# Fit the columns transformer to our training data\n",
        "ct.fit(X_train)\n",
        "\n",
        "# Transform training and test data with normalization (MinMaxScaler) and OneHotEncoder\n",
        "X_train_normal = ct.transform(X_train)\n",
        "X_test_normal = ct.transform(X_test)"
      ],
      "metadata": {
        "id": "Z6CbM6rwEMBb"
      },
      "execution_count": null,
      "outputs": []
    },
    {
      "cell_type": "code",
      "source": [
        "# What does our data look like now?\n",
        "X_train.loc[0]"
      ],
      "metadata": {
        "colab": {
          "base_uri": "https://localhost:8080/"
        },
        "id": "5mwMKpe0Gr6k",
        "outputId": "4ef6ed2c-de45-4453-984a-7bf7ae1719bb"
      },
      "execution_count": null,
      "outputs": [
        {
          "output_type": "execute_result",
          "data": {
            "text/plain": [
              "age                19\n",
              "sex            female\n",
              "bmi              27.9\n",
              "children            0\n",
              "smoker            yes\n",
              "region      southwest\n",
              "Name: 0, dtype: object"
            ]
          },
          "metadata": {},
          "execution_count": 144
        }
      ]
    },
    {
      "cell_type": "code",
      "source": [
        "X_train_normal[0]"
      ],
      "metadata": {
        "colab": {
          "base_uri": "https://localhost:8080/"
        },
        "id": "M0CJkiE3HXFq",
        "outputId": "811a6a8d-a1c5-4a73-f3b9-ab8876ad4096"
      },
      "execution_count": null,
      "outputs": [
        {
          "output_type": "execute_result",
          "data": {
            "text/plain": [
              "array([0.60869565, 0.10734463, 0.4       , 1.        , 0.        ,\n",
              "       1.        , 0.        , 0.        , 1.        , 0.        ,\n",
              "       0.        ])"
            ]
          },
          "metadata": {},
          "execution_count": 145
        }
      ]
    },
    {
      "cell_type": "code",
      "source": [
        "X_train_normal"
      ],
      "metadata": {
        "colab": {
          "base_uri": "https://localhost:8080/"
        },
        "id": "UsTrHvcMHifY",
        "outputId": "42cb1215-33df-4da4-f9c2-8190972621c0"
      },
      "execution_count": null,
      "outputs": [
        {
          "output_type": "execute_result",
          "data": {
            "text/plain": [
              "array([[0.60869565, 0.10734463, 0.4       , ..., 1.        , 0.        ,\n",
              "        0.        ],\n",
              "       [0.63043478, 0.22491256, 0.        , ..., 0.        , 0.        ,\n",
              "        0.        ],\n",
              "       [0.73913043, 0.23944041, 0.        , ..., 0.        , 1.        ,\n",
              "        0.        ],\n",
              "       ...,\n",
              "       [0.86956522, 0.24791499, 0.        , ..., 0.        , 0.        ,\n",
              "        0.        ],\n",
              "       [0.41304348, 0.85122411, 0.4       , ..., 0.        , 0.        ,\n",
              "        1.        ],\n",
              "       [0.80434783, 0.37503363, 0.        , ..., 0.        , 0.        ,\n",
              "        1.        ]])"
            ]
          },
          "metadata": {},
          "execution_count": 147
        }
      ]
    },
    {
      "cell_type": "code",
      "source": [
        "X_train.shape, X_train_normal.shape"
      ],
      "metadata": {
        "colab": {
          "base_uri": "https://localhost:8080/"
        },
        "id": "7br9-zzmHtUk",
        "outputId": "392dd895-4ff1-4582-9d5a-50820b54062e"
      },
      "execution_count": null,
      "outputs": [
        {
          "output_type": "execute_result",
          "data": {
            "text/plain": [
              "((1070, 6), (1070, 11))"
            ]
          },
          "metadata": {},
          "execution_count": 148
        }
      ]
    },
    {
      "cell_type": "markdown",
      "source": [
        "Beautiful! Our data has been normalized and one hot encoded.\n",
        "Now let's build a neural network model on our normalized data."
      ],
      "metadata": {
        "id": "GuLhS-_0H2qT"
      }
    },
    {
      "cell_type": "code",
      "source": [
        "# Build a neural network model to fit on our normalized data\n",
        "tf.random.set_seed(42)\n",
        "\n",
        "# 1. Create the model\n",
        "insurance_model_4 = tf.keras.Sequential([\n",
        "    tf.keras.layers.Dense(100),\n",
        "    tf.keras.layers.Dense(10),\n",
        "    tf.keras.layers.Dense(1)\n",
        "])\n",
        "\n",
        "# 2. Compile the model\n",
        "insurance_model_4.compile(loss=tf.keras.losses.mae,\n",
        "                          optimizer=tf.keras.optimizers.Adam(),\n",
        "                          metrics=[\"mae\"])\n",
        "\n",
        "# 3. Fit the model\n",
        "insurance_model_4.fit(X_train_normal, y_train, epochs=100)"
      ],
      "metadata": {
        "colab": {
          "base_uri": "https://localhost:8080/"
        },
        "id": "FpS06yHPIAzx",
        "outputId": "66d5fcd4-3cf6-43d0-8944-f1acec8b099b"
      },
      "execution_count": null,
      "outputs": [
        {
          "output_type": "stream",
          "name": "stdout",
          "text": [
            "Epoch 1/100\n",
            "34/34 [==============================] - 1s 4ms/step - loss: 13343.3057 - mae: 13343.3057\n",
            "Epoch 2/100\n",
            "34/34 [==============================] - 0s 3ms/step - loss: 13333.1748 - mae: 13333.1748\n",
            "Epoch 3/100\n",
            "34/34 [==============================] - 0s 3ms/step - loss: 13309.0088 - mae: 13309.0088\n",
            "Epoch 4/100\n",
            "34/34 [==============================] - 0s 3ms/step - loss: 13259.7949 - mae: 13259.7949\n",
            "Epoch 5/100\n",
            "34/34 [==============================] - 0s 3ms/step - loss: 13173.9961 - mae: 13173.9961\n",
            "Epoch 6/100\n",
            "34/34 [==============================] - 0s 4ms/step - loss: 13040.5986 - mae: 13040.5986\n",
            "Epoch 7/100\n",
            "34/34 [==============================] - 0s 3ms/step - loss: 12849.3945 - mae: 12849.3945\n",
            "Epoch 8/100\n",
            "34/34 [==============================] - 0s 3ms/step - loss: 12590.4365 - mae: 12590.4365\n",
            "Epoch 9/100\n",
            "34/34 [==============================] - 0s 3ms/step - loss: 12253.7100 - mae: 12253.7100\n",
            "Epoch 10/100\n",
            "34/34 [==============================] - 0s 4ms/step - loss: 11837.6621 - mae: 11837.6621\n",
            "Epoch 11/100\n",
            "34/34 [==============================] - 0s 5ms/step - loss: 11355.5488 - mae: 11355.5488\n",
            "Epoch 12/100\n",
            "34/34 [==============================] - 0s 6ms/step - loss: 10851.0225 - mae: 10851.0225\n",
            "Epoch 13/100\n",
            "34/34 [==============================] - 0s 7ms/step - loss: 10351.5762 - mae: 10351.5762\n",
            "Epoch 14/100\n",
            "34/34 [==============================] - 0s 5ms/step - loss: 9860.6426 - mae: 9860.6426\n",
            "Epoch 15/100\n",
            "34/34 [==============================] - 0s 4ms/step - loss: 9401.4688 - mae: 9401.4688\n",
            "Epoch 16/100\n",
            "34/34 [==============================] - 0s 4ms/step - loss: 8997.0234 - mae: 8997.0234\n",
            "Epoch 17/100\n",
            "34/34 [==============================] - 0s 2ms/step - loss: 8666.1084 - mae: 8666.1084\n",
            "Epoch 18/100\n",
            "34/34 [==============================] - 0s 2ms/step - loss: 8397.1494 - mae: 8397.1494\n",
            "Epoch 19/100\n",
            "34/34 [==============================] - 0s 2ms/step - loss: 8197.7715 - mae: 8197.7715\n",
            "Epoch 20/100\n",
            "34/34 [==============================] - 0s 2ms/step - loss: 8060.6187 - mae: 8060.6187\n",
            "Epoch 21/100\n",
            "34/34 [==============================] - 0s 2ms/step - loss: 7958.1431 - mae: 7958.1431\n",
            "Epoch 22/100\n",
            "34/34 [==============================] - 0s 2ms/step - loss: 7887.1470 - mae: 7887.1470\n",
            "Epoch 23/100\n",
            "34/34 [==============================] - 0s 2ms/step - loss: 7830.4458 - mae: 7830.4458\n",
            "Epoch 24/100\n",
            "34/34 [==============================] - 0s 2ms/step - loss: 7779.3359 - mae: 7779.3359\n",
            "Epoch 25/100\n",
            "34/34 [==============================] - 0s 2ms/step - loss: 7740.5913 - mae: 7740.5913\n",
            "Epoch 26/100\n",
            "34/34 [==============================] - 0s 2ms/step - loss: 7689.2402 - mae: 7689.2402\n",
            "Epoch 27/100\n",
            "34/34 [==============================] - 0s 2ms/step - loss: 7646.9067 - mae: 7646.9067\n",
            "Epoch 28/100\n",
            "34/34 [==============================] - 0s 2ms/step - loss: 7603.7100 - mae: 7603.7100\n",
            "Epoch 29/100\n",
            "34/34 [==============================] - 0s 2ms/step - loss: 7560.6030 - mae: 7560.6030\n",
            "Epoch 30/100\n",
            "34/34 [==============================] - 0s 2ms/step - loss: 7516.3320 - mae: 7516.3320\n",
            "Epoch 31/100\n",
            "34/34 [==============================] - 0s 2ms/step - loss: 7471.6572 - mae: 7471.6572\n",
            "Epoch 32/100\n",
            "34/34 [==============================] - 0s 2ms/step - loss: 7426.6484 - mae: 7426.6484\n",
            "Epoch 33/100\n",
            "34/34 [==============================] - 0s 2ms/step - loss: 7381.2388 - mae: 7381.2388\n",
            "Epoch 34/100\n",
            "34/34 [==============================] - 0s 2ms/step - loss: 7332.0488 - mae: 7332.0488\n",
            "Epoch 35/100\n",
            "34/34 [==============================] - 0s 2ms/step - loss: 7284.1562 - mae: 7284.1562\n",
            "Epoch 36/100\n",
            "34/34 [==============================] - 0s 2ms/step - loss: 7232.8423 - mae: 7232.8423\n",
            "Epoch 37/100\n",
            "34/34 [==============================] - 0s 2ms/step - loss: 7181.2339 - mae: 7181.2339\n",
            "Epoch 38/100\n",
            "34/34 [==============================] - 0s 2ms/step - loss: 7128.9614 - mae: 7128.9614\n",
            "Epoch 39/100\n",
            "34/34 [==============================] - 0s 2ms/step - loss: 7072.7119 - mae: 7072.7119\n",
            "Epoch 40/100\n",
            "34/34 [==============================] - 0s 2ms/step - loss: 7015.8301 - mae: 7015.8301\n",
            "Epoch 41/100\n",
            "34/34 [==============================] - 0s 2ms/step - loss: 6957.7910 - mae: 6957.7910\n",
            "Epoch 42/100\n",
            "34/34 [==============================] - 0s 2ms/step - loss: 6897.2822 - mae: 6897.2822\n",
            "Epoch 43/100\n",
            "34/34 [==============================] - 0s 2ms/step - loss: 6832.7651 - mae: 6832.7651\n",
            "Epoch 44/100\n",
            "34/34 [==============================] - 0s 2ms/step - loss: 6764.4961 - mae: 6764.4961\n",
            "Epoch 45/100\n",
            "34/34 [==============================] - 0s 2ms/step - loss: 6695.2158 - mae: 6695.2158\n",
            "Epoch 46/100\n",
            "34/34 [==============================] - 0s 2ms/step - loss: 6623.9619 - mae: 6623.9619\n",
            "Epoch 47/100\n",
            "34/34 [==============================] - 0s 2ms/step - loss: 6550.1602 - mae: 6550.1602\n",
            "Epoch 48/100\n",
            "34/34 [==============================] - 0s 2ms/step - loss: 6468.8594 - mae: 6468.8594\n",
            "Epoch 49/100\n",
            "34/34 [==============================] - 0s 2ms/step - loss: 6387.3843 - mae: 6387.3843\n",
            "Epoch 50/100\n",
            "34/34 [==============================] - 0s 2ms/step - loss: 6298.7339 - mae: 6298.7339\n",
            "Epoch 51/100\n",
            "34/34 [==============================] - 0s 2ms/step - loss: 6210.6992 - mae: 6210.6992\n",
            "Epoch 52/100\n",
            "34/34 [==============================] - 0s 2ms/step - loss: 6114.6040 - mae: 6114.6040\n",
            "Epoch 53/100\n",
            "34/34 [==============================] - 0s 2ms/step - loss: 6015.1265 - mae: 6015.1265\n",
            "Epoch 54/100\n",
            "34/34 [==============================] - 0s 2ms/step - loss: 5912.6289 - mae: 5912.6289\n",
            "Epoch 55/100\n",
            "34/34 [==============================] - 0s 2ms/step - loss: 5801.7690 - mae: 5801.7690\n",
            "Epoch 56/100\n",
            "34/34 [==============================] - 0s 2ms/step - loss: 5689.6221 - mae: 5689.6221\n",
            "Epoch 57/100\n",
            "34/34 [==============================] - 0s 2ms/step - loss: 5571.2593 - mae: 5571.2593\n",
            "Epoch 58/100\n",
            "34/34 [==============================] - 0s 2ms/step - loss: 5452.8682 - mae: 5452.8682\n",
            "Epoch 59/100\n",
            "34/34 [==============================] - 0s 2ms/step - loss: 5330.0630 - mae: 5330.0630\n",
            "Epoch 60/100\n",
            "34/34 [==============================] - 0s 2ms/step - loss: 5204.0742 - mae: 5204.0742\n",
            "Epoch 61/100\n",
            "34/34 [==============================] - 0s 2ms/step - loss: 5076.3296 - mae: 5076.3296\n",
            "Epoch 62/100\n",
            "34/34 [==============================] - 0s 2ms/step - loss: 4942.9868 - mae: 4942.9868\n",
            "Epoch 63/100\n",
            "34/34 [==============================] - 0s 2ms/step - loss: 4813.9800 - mae: 4813.9800\n",
            "Epoch 64/100\n",
            "34/34 [==============================] - 0s 2ms/step - loss: 4682.3745 - mae: 4682.3745\n",
            "Epoch 65/100\n",
            "34/34 [==============================] - 0s 2ms/step - loss: 4558.7651 - mae: 4558.7651\n",
            "Epoch 66/100\n",
            "34/34 [==============================] - 0s 2ms/step - loss: 4443.3569 - mae: 4443.3569\n",
            "Epoch 67/100\n",
            "34/34 [==============================] - 0s 2ms/step - loss: 4339.0161 - mae: 4339.0161\n",
            "Epoch 68/100\n",
            "34/34 [==============================] - 0s 2ms/step - loss: 4234.3940 - mae: 4234.3940\n",
            "Epoch 69/100\n",
            "34/34 [==============================] - 0s 2ms/step - loss: 4137.2026 - mae: 4137.2026\n",
            "Epoch 70/100\n",
            "34/34 [==============================] - 0s 2ms/step - loss: 4048.9382 - mae: 4048.9382\n",
            "Epoch 71/100\n",
            "34/34 [==============================] - 0s 2ms/step - loss: 3968.8215 - mae: 3968.8215\n",
            "Epoch 72/100\n",
            "34/34 [==============================] - 0s 2ms/step - loss: 3899.2798 - mae: 3899.2798\n",
            "Epoch 73/100\n",
            "34/34 [==============================] - 0s 2ms/step - loss: 3842.9722 - mae: 3842.9722\n",
            "Epoch 74/100\n",
            "34/34 [==============================] - 0s 2ms/step - loss: 3794.2139 - mae: 3794.2139\n",
            "Epoch 75/100\n",
            "34/34 [==============================] - 0s 2ms/step - loss: 3758.9324 - mae: 3758.9324\n",
            "Epoch 76/100\n",
            "34/34 [==============================] - 0s 2ms/step - loss: 3733.3586 - mae: 3733.3586\n",
            "Epoch 77/100\n",
            "34/34 [==============================] - 0s 2ms/step - loss: 3711.6958 - mae: 3711.6958\n",
            "Epoch 78/100\n",
            "34/34 [==============================] - 0s 2ms/step - loss: 3697.3635 - mae: 3697.3635\n",
            "Epoch 79/100\n",
            "34/34 [==============================] - 0s 2ms/step - loss: 3687.6099 - mae: 3687.6099\n",
            "Epoch 80/100\n",
            "34/34 [==============================] - 0s 2ms/step - loss: 3678.7668 - mae: 3678.7668\n",
            "Epoch 81/100\n",
            "34/34 [==============================] - 0s 2ms/step - loss: 3673.5349 - mae: 3673.5349\n",
            "Epoch 82/100\n",
            "34/34 [==============================] - 0s 2ms/step - loss: 3670.7031 - mae: 3670.7031\n",
            "Epoch 83/100\n",
            "34/34 [==============================] - 0s 2ms/step - loss: 3664.8293 - mae: 3664.8293\n",
            "Epoch 84/100\n",
            "34/34 [==============================] - 0s 2ms/step - loss: 3662.2837 - mae: 3662.2837\n",
            "Epoch 85/100\n",
            "34/34 [==============================] - 0s 2ms/step - loss: 3659.7561 - mae: 3659.7561\n",
            "Epoch 86/100\n",
            "34/34 [==============================] - 0s 2ms/step - loss: 3658.7583 - mae: 3658.7583\n",
            "Epoch 87/100\n",
            "34/34 [==============================] - 0s 2ms/step - loss: 3655.5273 - mae: 3655.5273\n",
            "Epoch 88/100\n",
            "34/34 [==============================] - 0s 2ms/step - loss: 3653.3687 - mae: 3653.3687\n",
            "Epoch 89/100\n",
            "34/34 [==============================] - 0s 2ms/step - loss: 3652.1277 - mae: 3652.1277\n",
            "Epoch 90/100\n",
            "34/34 [==============================] - 0s 2ms/step - loss: 3650.1143 - mae: 3650.1143\n",
            "Epoch 91/100\n",
            "34/34 [==============================] - 0s 2ms/step - loss: 3647.0496 - mae: 3647.0496\n",
            "Epoch 92/100\n",
            "34/34 [==============================] - 0s 2ms/step - loss: 3646.3870 - mae: 3646.3870\n",
            "Epoch 93/100\n",
            "34/34 [==============================] - 0s 2ms/step - loss: 3644.1772 - mae: 3644.1772\n",
            "Epoch 94/100\n",
            "34/34 [==============================] - 0s 2ms/step - loss: 3642.3586 - mae: 3642.3586\n",
            "Epoch 95/100\n",
            "34/34 [==============================] - 0s 2ms/step - loss: 3642.9517 - mae: 3642.9517\n",
            "Epoch 96/100\n",
            "34/34 [==============================] - 0s 2ms/step - loss: 3640.4973 - mae: 3640.4973\n",
            "Epoch 97/100\n",
            "34/34 [==============================] - 0s 2ms/step - loss: 3637.9370 - mae: 3637.9370\n",
            "Epoch 98/100\n",
            "34/34 [==============================] - 0s 2ms/step - loss: 3635.7952 - mae: 3635.7952\n",
            "Epoch 99/100\n",
            "34/34 [==============================] - 0s 2ms/step - loss: 3634.9377 - mae: 3634.9377\n",
            "Epoch 100/100\n",
            "34/34 [==============================] - 0s 2ms/step - loss: 3633.9248 - mae: 3633.9248\n"
          ]
        },
        {
          "output_type": "execute_result",
          "data": {
            "text/plain": [
              "<keras.callbacks.History at 0x7d27277df6a0>"
            ]
          },
          "metadata": {},
          "execution_count": 150
        }
      ]
    },
    {
      "cell_type": "code",
      "source": [
        "# Evaluate our insurance model trained on normalized data\n",
        "insurance_model_4.evaluate(X_test_normal, y_test)"
      ],
      "metadata": {
        "colab": {
          "base_uri": "https://localhost:8080/"
        },
        "id": "u_0jVw8hI4LF",
        "outputId": "45147131-65c7-42b7-e1aa-d97e49649030"
      },
      "execution_count": null,
      "outputs": [
        {
          "output_type": "stream",
          "name": "stdout",
          "text": [
            "9/9 [==============================] - 1s 3ms/step - loss: 3436.0471 - mae: 3436.0471\n"
          ]
        },
        {
          "output_type": "execute_result",
          "data": {
            "text/plain": [
              "[3436.047119140625, 3436.047119140625]"
            ]
          },
          "metadata": {},
          "execution_count": 152
        }
      ]
    },
    {
      "cell_type": "code",
      "source": [
        "# Insurance model 2\n",
        "# 9/9 [==============================] - 0s 2ms/step - loss: 4858.8594 - mae: 4858.8594 [4858.859375, 4858.859375]"
      ],
      "metadata": {
        "id": "JAWmAtNsJKY8"
      },
      "execution_count": null,
      "outputs": []
    },
    {
      "cell_type": "code",
      "source": [
        "insurance_model_2.summary()"
      ],
      "metadata": {
        "colab": {
          "base_uri": "https://localhost:8080/"
        },
        "id": "SrIm-Zx9IWRm",
        "outputId": "925b361d-296c-4bd7-d76f-75e0c9776dce"
      },
      "execution_count": null,
      "outputs": [
        {
          "output_type": "stream",
          "name": "stdout",
          "text": [
            "Model: \"sequential_16\"\n",
            "_________________________________________________________________\n",
            " Layer (type)                Output Shape              Param #   \n",
            "=================================================================\n",
            " dense_30 (Dense)            (None, 100)               1200      \n",
            "                                                                 \n",
            " dense_31 (Dense)            (None, 10)                1010      \n",
            "                                                                 \n",
            " dense_32 (Dense)            (None, 1)                 11        \n",
            "                                                                 \n",
            "=================================================================\n",
            "Total params: 2,221\n",
            "Trainable params: 2,221\n",
            "Non-trainable params: 0\n",
            "_________________________________________________________________\n"
          ]
        }
      ]
    },
    {
      "cell_type": "code",
      "source": [],
      "metadata": {
        "id": "c0WlNi89IVpJ"
      },
      "execution_count": null,
      "outputs": []
    },
    {
      "cell_type": "code",
      "source": [
        "X[\"age\"].plot(kind=\"hist\")"
      ],
      "metadata": {
        "colab": {
          "base_uri": "https://localhost:8080/",
          "height": 447
        },
        "id": "ASyrSrGT86by",
        "outputId": "128bc8a9-d4be-4e1d-d23d-3e60e22ec952"
      },
      "execution_count": null,
      "outputs": [
        {
          "output_type": "execute_result",
          "data": {
            "text/plain": [
              "<Axes: ylabel='Frequency'>"
            ]
          },
          "metadata": {},
          "execution_count": 137
        },
        {
          "output_type": "display_data",
          "data": {
            "text/plain": [
              "<Figure size 640x480 with 1 Axes>"
            ],
            "image/png": "[encoded data removed]"
          },
          "metadata": {}
        }
      ]
    },
    {
      "cell_type": "code",
      "source": [
        "X[\"bmi\"].plot(kind=\"hist\")"
      ],
      "metadata": {
        "colab": {
          "base_uri": "https://localhost:8080/",
          "height": 447
        },
        "id": "Tchk_8qs9AE5",
        "outputId": "a3db3118-7cc4-426e-d4b7-26b0839dd63b"
      },
      "execution_count": null,
      "outputs": [
        {
          "output_type": "execute_result",
          "data": {
            "text/plain": [
              "<Axes: ylabel='Frequency'>"
            ]
          },
          "metadata": {},
          "execution_count": 133
        },
        {
          "output_type": "display_data",
          "data": {
            "text/plain": [
              "<Figure size 640x480 with 1 Axes>"
            ],
            "image/png": "[encoded data removed]"
          },
          "metadata": {}
        }
      ]
    },
    {
      "cell_type": "code",
      "source": [
        "X[\"children\"].value_counts()"
      ],
      "metadata": {
        "colab": {
          "base_uri": "https://localhost:8080/"
        },
        "id": "VIhDoz4X9I1p",
        "outputId": "2300c2c7-7095-4655-bec0-28e61efe04a4"
      },
      "execution_count": null,
      "outputs": [
        {
          "output_type": "execute_result",
          "data": {
            "text/plain": [
              "0    574\n",
              "1    324\n",
              "2    240\n",
              "3    157\n",
              "4     25\n",
              "5     18\n",
              "Name: children, dtype: int64"
            ]
          },
          "metadata": {},
          "execution_count": 134
        }
      ]
    },
    {
      "cell_type": "code",
      "source": [
        "import pandas as pd\n",
        "import matplotlib.pyplot as plt\n",
        "import tensorflow as tf\n",
        "\n",
        "# Read in the insurance dataframe\n",
        "insurance = pd.read_csv(\"https://raw.githubusercontent.com/stedy/Machine-Learning-with-R-datasets/master/insurance.csv\")\n",
        "insurance"
      ],
      "metadata": {
        "colab": {
          "base_uri": "https://localhost:8080/",
          "height": 424
        },
        "id": "_LKZJZac9SrJ",
        "outputId": "e246f423-c3f8-420d-dcf8-6135866f95ee"
      },
      "execution_count": null,
      "outputs": [
        {
          "output_type": "execute_result",
          "data": {
            "text/plain": [
              "      age     sex     bmi  children smoker     region      charges\n",
              "0      19  female  27.900         0    yes  southwest  16884.92400\n",
              "1      18    male  33.770         1     no  southeast   1725.55230\n",
              "2      28    male  33.000         3     no  southeast   4449.46200\n",
              "3      33    male  22.705         0     no  northwest  21984.47061\n",
              "4      32    male  28.880         0     no  northwest   3866.85520\n",
              "...   ...     ...     ...       ...    ...        ...          ...\n",
              "1333   50    male  30.970         3     no  northwest  10600.54830\n",
              "1334   18  female  31.920         0     no  northeast   2205.98080\n",
              "1335   18  female  36.850         0     no  southeast   1629.83350\n",
              "1336   21  female  25.800         0     no  southwest   2007.94500\n",
              "1337   61  female  29.070         0    yes  northwest  29141.36030\n",
              "\n",
              "[1338 rows x 7 columns]"
            ],
            "text/html": [
              "\n",
              "\n",
              "  <div id=\"df-4d837925-6fe5-4c5c-8962-db2650091f74\">\n",
              "    <div class=\"colab-df-container\">\n",
              "      <div>\n",
              "<style scoped>\n",
              "    .dataframe tbody tr th:only-of-type {\n",
              "        vertical-align: middle;\n",
              "    }\n",
              "\n",
              "    .dataframe tbody tr th {\n",
              "        vertical-align: top;\n",
              "    }\n",
              "\n",
              "    .dataframe thead th {\n",
              "        text-align: right;\n",
              "    }\n",
              "</style>\n",
              "<table border=\"1\" class=\"dataframe\">\n",
              "  <thead>\n",
              "    <tr style=\"text-align: right;\">\n",
              "      <th></th>\n",
              "      <th>age</th>\n",
              "      <th>sex</th>\n",
              "      <th>bmi</th>\n",
              "      <th>children</th>\n",
              "      <th>smoker</th>\n",
              "      <th>region</th>\n",
              "      <th>charges</th>\n",
              "    </tr>\n",
              "  </thead>\n",
              "  <tbody>\n",
              "    <tr>\n",
              "      <th>0</th>\n",
              "      <td>19</td>\n",
              "      <td>female</td>\n",
              "      <td>27.900</td>\n",
              "      <td>0</td>\n",
              "      <td>yes</td>\n",
              "      <td>southwest</td>\n",
              "      <td>16884.92400</td>\n",
              "    </tr>\n",
              "    <tr>\n",
              "      <th>1</th>\n",
              "      <td>18</td>\n",
              "      <td>male</td>\n",
              "      <td>33.770</td>\n",
              "      <td>1</td>\n",
              "      <td>no</td>\n",
              "      <td>southeast</td>\n",
              "      <td>1725.55230</td>\n",
              "    </tr>\n",
              "    <tr>\n",
              "      <th>2</th>\n",
              "      <td>28</td>\n",
              "      <td>male</td>\n",
              "      <td>33.000</td>\n",
              "      <td>3</td>\n",
              "      <td>no</td>\n",
              "      <td>southeast</td>\n",
              "      <td>4449.46200</td>\n",
              "    </tr>\n",
              "    <tr>\n",
              "      <th>3</th>\n",
              "      <td>33</td>\n",
              "      <td>male</td>\n",
              "      <td>22.705</td>\n",
              "      <td>0</td>\n",
              "      <td>no</td>\n",
              "      <td>northwest</td>\n",
              "      <td>21984.47061</td>\n",
              "    </tr>\n",
              "    <tr>\n",
              "      <th>4</th>\n",
              "      <td>32</td>\n",
              "      <td>male</td>\n",
              "      <td>28.880</td>\n",
              "      <td>0</td>\n",
              "      <td>no</td>\n",
              "      <td>northwest</td>\n",
              "      <td>3866.85520</td>\n",
              "    </tr>\n",
              "    <tr>\n",
              "      <th>...</th>\n",
              "      <td>...</td>\n",
              "      <td>...</td>\n",
              "      <td>...</td>\n",
              "      <td>...</td>\n",
              "      <td>...</td>\n",
              "      <td>...</td>\n",
              "      <td>...</td>\n",
              "    </tr>\n",
              "    <tr>\n",
              "      <th>1333</th>\n",
              "      <td>50</td>\n",
              "      <td>male</td>\n",
              "      <td>30.970</td>\n",
              "      <td>3</td>\n",
              "      <td>no</td>\n",
              "      <td>northwest</td>\n",
              "      <td>10600.54830</td>\n",
              "    </tr>\n",
              "    <tr>\n",
              "      <th>1334</th>\n",
              "      <td>18</td>\n",
              "      <td>female</td>\n",
              "      <td>31.920</td>\n",
              "      <td>0</td>\n",
              "      <td>no</td>\n",
              "      <td>northeast</td>\n",
              "      <td>2205.98080</td>\n",
              "    </tr>\n",
              "    <tr>\n",
              "      <th>1335</th>\n",
              "      <td>18</td>\n",
              "      <td>female</td>\n",
              "      <td>36.850</td>\n",
              "      <td>0</td>\n",
              "      <td>no</td>\n",
              "      <td>southeast</td>\n",
              "      <td>1629.83350</td>\n",
              "    </tr>\n",
              "    <tr>\n",
              "      <th>1336</th>\n",
              "      <td>21</td>\n",
              "      <td>female</td>\n",
              "      <td>25.800</td>\n",
              "      <td>0</td>\n",
              "      <td>no</td>\n",
              "      <td>southwest</td>\n",
              "      <td>2007.94500</td>\n",
              "    </tr>\n",
              "    <tr>\n",
              "      <th>1337</th>\n",
              "      <td>61</td>\n",
              "      <td>female</td>\n",
              "      <td>29.070</td>\n",
              "      <td>0</td>\n",
              "      <td>yes</td>\n",
              "      <td>northwest</td>\n",
              "      <td>29141.36030</td>\n",
              "    </tr>\n",
              "  </tbody>\n",
              "</table>\n",
              "<p>1338 rows × 7 columns</p>\n",
              "</div>\n",
              "      <button class=\"colab-df-convert\" onclick=\"convertToInteractive('df-4d837925-6fe5-4c5c-8962-db2650091f74')\"\n",
              "              title=\"Convert this dataframe to an interactive table.\"\n",
              "              style=\"display:none;\">\n",
              "\n",
              "  <svg xmlns=\"http://www.w3.org/2000/svg\" height=\"24px\"viewBox=\"0 0 24 24\"\n",
              "       width=\"24px\">\n",
              "    <path d=\"M0 0h24v24H0V0z\" fill=\"none\"/>\n",
              "    <path d=\"M18.56 5.44l.94 2.06.94-2.06 2.06-.94-2.06-.94-.94-2.06-.94 2.06-2.06.94zm-11 1L8.5 8.5l.94-2.06 2.06-.94-2.06-.94L8.5 2.5l-.94 2.06-2.06.94zm10 10l.94 2.06.94-2.06 2.06-.94-2.06-.94-.94-2.06-.94 2.06-2.06.94z\"/><path d=\"M17.41 7.96l-1.37-1.37c-.4-.4-.92-.59-1.43-.59-.52 0-1.04.2-1.43.59L10.3 9.45l-7.72 7.72c-.78.78-.78 2.05 0 2.83L4 21.41c.39.39.9.59 1.41.59.51 0 1.02-.2 1.41-.59l7.78-7.78 2.81-2.81c.8-.78.8-2.07 0-2.86zM5.41 20L4 18.59l7.72-7.72 1.47 1.35L5.41 20z\"/>\n",
              "  </svg>\n",
              "      </button>\n",
              "\n",
              "\n",
              "\n",
              "    <div id=\"df-6d5f9961-8f51-4de8-a483-398cf731fb3d\">\n",
              "      <button class=\"colab-df-quickchart\" onclick=\"quickchart('df-6d5f9961-8f51-4de8-a483-398cf731fb3d')\"\n",
              "              title=\"Suggest charts.\"\n",
              "              style=\"display:none;\">\n",
              "\n",
              "<svg xmlns=\"http://www.w3.org/2000/svg\" height=\"24px\"viewBox=\"0 0 24 24\"\n",
              "     width=\"24px\">\n",
              "    <g>\n",
              "        <path d=\"M19 3H5c-1.1 0-2 .9-2 2v14c0 1.1.9 2 2 2h14c1.1 0 2-.9 2-2V5c0-1.1-.9-2-2-2zM9 17H7v-7h2v7zm4 0h-2V7h2v10zm4 0h-2v-4h2v4z\"/>\n",
              "    </g>\n",
              "</svg>\n",
              "      </button>\n",
              "    </div>\n",
              "\n",
              "<style>\n",
              "  .colab-df-quickchart {\n",
              "    background-color: #E8F0FE;\n",
              "    border: none;\n",
              "    border-radius: 50%;\n",
              "    cursor: pointer;\n",
              "    display: none;\n",
              "    fill: #1967D2;\n",
              "    height: 32px;\n",
              "    padding: 0 0 0 0;\n",
              "    width: 32px;\n",
              "  }\n",
              "\n",
              "  .colab-df-quickchart:hover {\n",
              "    background-color: #E2EBFA;\n",
              "    box-shadow: 0px 1px 2px rgba(60, 64, 67, 0.3), 0px 1px 3px 1px rgba(60, 64, 67, 0.15);\n",
              "    fill: #174EA6;\n",
              "  }\n",
              "\n",
              "  [theme=dark] .colab-df-quickchart {\n",
              "    background-color: #3B4455;\n",
              "    fill: #D2E3FC;\n",
              "  }\n",
              "\n",
              "  [theme=dark] .colab-df-quickchart:hover {\n",
              "    background-color: #434B5C;\n",
              "    box-shadow: 0px 1px 3px 1px rgba(0, 0, 0, 0.15);\n",
              "    filter: drop-shadow(0px 1px 2px rgba(0, 0, 0, 0.3));\n",
              "    fill: #FFFFFF;\n",
              "  }\n",
              "</style>\n",
              "\n",
              "    <script>\n",
              "      async function quickchart(key) {\n",
              "        const containerElement = document.querySelector('#' + key);\n",
              "        const charts = await google.colab.kernel.invokeFunction(\n",
              "            'suggestCharts', [key], {});\n",
              "      }\n",
              "    </script>\n",
              "\n",
              "      <script>\n",
              "\n",
              "function displayQuickchartButton(domScope) {\n",
              "  let quickchartButtonEl =\n",
              "    domScope.querySelector('#df-6d5f9961-8f51-4de8-a483-398cf731fb3d button.colab-df-quickchart');\n",
              "  quickchartButtonEl.style.display =\n",
              "    google.colab.kernel.accessAllowed ? 'block' : 'none';\n",
              "}\n",
              "\n",
              "        displayQuickchartButton(document);\n",
              "      </script>\n",
              "      <style>\n",
              "    .colab-df-container {\n",
              "      display:flex;\n",
              "      flex-wrap:wrap;\n",
              "      gap: 12px;\n",
              "    }\n",
              "\n",
              "    .colab-df-convert {\n",
              "      background-color: #E8F0FE;\n",
              "      border: none;\n",
              "      border-radius: 50%;\n",
              "      cursor: pointer;\n",
              "      display: none;\n",
              "      fill: #1967D2;\n",
              "      height: 32px;\n",
              "      padding: 0 0 0 0;\n",
              "      width: 32px;\n",
              "    }\n",
              "\n",
              "    .colab-df-convert:hover {\n",
              "      background-color: #E2EBFA;\n",
              "      box-shadow: 0px 1px 2px rgba(60, 64, 67, 0.3), 0px 1px 3px 1px rgba(60, 64, 67, 0.15);\n",
              "      fill: #174EA6;\n",
              "    }\n",
              "\n",
              "    [theme=dark] .colab-df-convert {\n",
              "      background-color: #3B4455;\n",
              "      fill: #D2E3FC;\n",
              "    }\n",
              "\n",
              "    [theme=dark] .colab-df-convert:hover {\n",
              "      background-color: #434B5C;\n",
              "      box-shadow: 0px 1px 3px 1px rgba(0, 0, 0, 0.15);\n",
              "      filter: drop-shadow(0px 1px 2px rgba(0, 0, 0, 0.3));\n",
              "      fill: #FFFFFF;\n",
              "    }\n",
              "  </style>\n",
              "\n",
              "      <script>\n",
              "        const buttonEl =\n",
              "          document.querySelector('#df-4d837925-6fe5-4c5c-8962-db2650091f74 button.colab-df-convert');\n",
              "        buttonEl.style.display =\n",
              "          google.colab.kernel.accessAllowed ? 'block' : 'none';\n",
              "\n",
              "        async function convertToInteractive(key) {\n",
              "          const element = document.querySelector('#df-4d837925-6fe5-4c5c-8962-db2650091f74');\n",
              "          const dataTable =\n",
              "            await google.colab.kernel.invokeFunction('convertToInteractive',\n",
              "                                                     [key], {});\n",
              "          if (!dataTable) return;\n",
              "\n",
              "          const docLinkHtml = 'Like what you see? Visit the ' +\n",
              "            '<a target=\"_blank\" href=https://colab.research.google.com/notebooks/data_table.ipynb>data table notebook</a>'\n",
              "            + ' to learn more about interactive tables.';\n",
              "          element.innerHTML = '';\n",
              "          dataTable['output_type'] = 'display_data';\n",
              "          await google.colab.output.renderOutput(dataTable, element);\n",
              "          const docLink = document.createElement('div');\n",
              "          docLink.innerHTML = docLinkHtml;\n",
              "          element.appendChild(docLink);\n",
              "        }\n",
              "      </script>\n",
              "    </div>\n",
              "  </div>\n"
            ]
          },
          "metadata": {},
          "execution_count": 135
        }
      ]
    }
  ]
}