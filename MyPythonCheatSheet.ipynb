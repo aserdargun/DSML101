{
  "nbformat": 4,
  "nbformat_minor": 0,
  "metadata": {
    "colab": {
      "provenance": [],
      "collapsed_sections": [],
      "toc_visible": true,
      "authorship_tag": "ABX9TyOLPECH1bNvfQ5Q1VQL6k7z",
      "include_colab_link": true
    },
    "kernelspec": {
      "name": "python3",
      "display_name": "Python 3"
    },
    "language_info": {
      "name": "python"
    }
  },
  "cells": [
    {
      "cell_type": "markdown",
      "metadata": {
        "id": "view-in-github",
        "colab_type": "text"
      },
      "source": [
        "<a href=\"https://colab.research.google.com/github/aserdargun/aserdargun/blob/main/MyPythonCheatSheet.ipynb\" target=\"_parent\"><img src=\"https://colab.research.google.com/assets/colab-badge.svg\" alt=\"Open In Colab\"/></a>"
      ]
    },
    {
      "cell_type": "markdown",
      "source": [
        "# INTRODUCTION"
      ],
      "metadata": {
        "id": "OY_w8yR51-Pu"
      }
    },
    {
      "cell_type": "markdown",
      "source": [
        "I am starting with the zen of python. If you write \"import this\" and understand what is this, you will see significant effects on your syntax."
      ],
      "metadata": {
        "id": "UTPh0QApvioa"
      }
    },
    {
      "cell_type": "code",
      "execution_count": 1,
      "metadata": {
        "colab": {
          "base_uri": "https://localhost:8080/"
        },
        "id": "yo32NMAXH1Cr",
        "outputId": "b52e759b-6945-4a8b-84f5-6aec7cc2a6eb"
      },
      "outputs": [
        {
          "output_type": "stream",
          "name": "stdout",
          "text": [
            "The Zen of Python, by Tim Peters\n",
            "\n",
            "Beautiful is better than ugly.\n",
            "Explicit is better than implicit.\n",
            "Simple is better than complex.\n",
            "Complex is better than complicated.\n",
            "Flat is better than nested.\n",
            "Sparse is better than dense.\n",
            "Readability counts.\n",
            "Special cases aren't special enough to break the rules.\n",
            "Although practicality beats purity.\n",
            "Errors should never pass silently.\n",
            "Unless explicitly silenced.\n",
            "In the face of ambiguity, refuse the temptation to guess.\n",
            "There should be one-- and preferably only one --obvious way to do it.\n",
            "Although that way may not be obvious at first unless you're Dutch.\n",
            "Now is better than never.\n",
            "Although never is often better than *right* now.\n",
            "If the implementation is hard to explain, it's a bad idea.\n",
            "If the implementation is easy to explain, it may be a good idea.\n",
            "Namespaces are one honking great idea -- let's do more of those!\n"
          ]
        }
      ],
      "source": [
        "import this"
      ]
    },
    {
      "cell_type": "markdown",
      "source": [
        "If you want to have more details on it, you should go https://peps.python.org/pep-0008/ PEP8. PEP is an abbrevation of Python Enchancement Proposals. You can see the PEP index in this https://peps.python.org/pep-0000/"
      ],
      "metadata": {
        "id": "Nlmpup6YzQui"
      }
    },
    {
      "cell_type": "markdown",
      "source": [
        "The resource of this study is from Fred Baptiste's DeepDive Series. Special thanks to Fred Baptiste. https://github.com/aserdargun/python-deepdive\n",
        "\n",
        "* [Part 1](https://www.udemy.com/course/python-3-deep-dive-part-1/?referralCode=E46B931C71EE01845062/): Mainly functional programming\n",
        "* [Part 2](https://www.udemy.com/course/python-3-deep-dive-part-2/?referralCode=3E7AFEF5174F04E5C8D4/): Mainly iterables, iterators and generators\n",
        "* [Part 3](https://www.udemy.com/course/python-3-deep-dive-part-3/?referralCode=C5B0D9AB965B9BF4C49F/): Mainly hash maps\n",
        "* [Part 4](https://www.udemy.com/course/python-3-deep-dive-part-4/?referralCode=3BB758BE4C04FB983E6F/): OOP\n",
        "\n",
        "\n",
        "I only want to emphasize some caveats, also good understanding for me and sharing with others who want to learn Python in details."
      ],
      "metadata": {
        "id": "pJT46SQm0GhR"
      }
    },
    {
      "cell_type": "markdown",
      "source": [
        "# **PART 1: FUNCTIONAL PROGRAMMING**\n"
      ],
      "metadata": {
        "id": "MPyvJeNW1Kee"
      }
    },
    {
      "cell_type": "markdown",
      "source": [
        "## Section 02 - A Quick Refresher"
      ],
      "metadata": {
        "id": "fgBQSVSx37kc"
      }
    },
    {
      "cell_type": "markdown",
      "source": [
        "### 01 - Multi-Line Statements and Strings"
      ],
      "metadata": {
        "id": "mYx0Fr184Bxm"
      }
    },
    {
      "cell_type": "markdown",
      "source": [
        "**Implicit Examples**"
      ],
      "metadata": {
        "id": "D4LadCsM3X3p"
      }
    },
    {
      "cell_type": "markdown",
      "source": [
        "Multi-Line Statement"
      ],
      "metadata": {
        "id": "msrEUo8J5iBi"
      }
    },
    {
      "cell_type": "code",
      "source": [
        "a = [1,\n",
        "     2,\n",
        "     3]"
      ],
      "metadata": {
        "id": "o2dWFHE5vQHF"
      },
      "execution_count": 2,
      "outputs": []
    },
    {
      "cell_type": "code",
      "source": [
        "a"
      ],
      "metadata": {
        "colab": {
          "base_uri": "https://localhost:8080/"
        },
        "id": "kADa5Y2F48s9",
        "outputId": "0eeb356d-8d87-4bcf-fc60-cc2c4c28f9f0"
      },
      "execution_count": 3,
      "outputs": [
        {
          "output_type": "execute_result",
          "data": {
            "text/plain": [
              "[1, 2, 3]"
            ]
          },
          "metadata": {},
          "execution_count": 3
        }
      ]
    },
    {
      "cell_type": "markdown",
      "source": [
        "Multi-Line Statement with comments to the end of each line."
      ],
      "metadata": {
        "id": "ecwiR_ff5qet"
      }
    },
    {
      "cell_type": "code",
      "source": [
        "a = [1, #first element\n",
        "     2, #second element\n",
        "     3, #third element\n",
        "     ]"
      ],
      "metadata": {
        "id": "TnS1p0wo49ka"
      },
      "execution_count": 4,
      "outputs": []
    },
    {
      "cell_type": "code",
      "source": [
        "a"
      ],
      "metadata": {
        "colab": {
          "base_uri": "https://localhost:8080/"
        },
        "id": "gwYjThj15QJg",
        "outputId": "e05e6a40-8fed-41cb-d832-ef0079167b67"
      },
      "execution_count": 5,
      "outputs": [
        {
          "output_type": "execute_result",
          "data": {
            "text/plain": [
              "[1, 2, 3]"
            ]
          },
          "metadata": {},
          "execution_count": 5
        }
      ]
    },
    {
      "cell_type": "markdown",
      "source": [
        "\n",
        "\n",
        "---\n",
        "\n"
      ],
      "metadata": {
        "id": "21bR4dUsGqwI"
      }
    },
    {
      "cell_type": "markdown",
      "source": [
        "**CAVEAT, BE CAREFUL!**"
      ],
      "metadata": {
        "id": "SBma30m46Bd7"
      }
    },
    {
      "cell_type": "markdown",
      "source": [
        "*If you use comments, you must close off the collection on a new line.*"
      ],
      "metadata": {
        "id": "LidAnlJb6TIP"
      }
    },
    {
      "cell_type": "code",
      "source": [
        "a = [1, #first element\n",
        "     2 # second element]"
      ],
      "metadata": {
        "colab": {
          "base_uri": "https://localhost:8080/",
          "height": 131
        },
        "id": "WoQA9SMr6Acw",
        "outputId": "2d400cdd-c068-4268-e11a-0f1d43d472b5"
      },
      "execution_count": 6,
      "outputs": [
        {
          "output_type": "error",
          "ename": "SyntaxError",
          "evalue": "ignored",
          "traceback": [
            "\u001b[0;36m  File \u001b[0;32m\"<ipython-input-6-193b73c5495b>\"\u001b[0;36m, line \u001b[0;32m2\u001b[0m\n\u001b[0;31m    2 # second element]\u001b[0m\n\u001b[0m                       ^\u001b[0m\n\u001b[0;31mSyntaxError\u001b[0m\u001b[0;31m:\u001b[0m unexpected EOF while parsing\n"
          ]
        }
      ]
    },
    {
      "cell_type": "markdown",
      "source": [
        "\n",
        "\n",
        "---\n",
        "\n"
      ],
      "metadata": {
        "id": "VJ2-WdcwGscx"
      }
    },
    {
      "cell_type": "markdown",
      "source": [
        "This works the same way for tuples, sets, and dictionaries."
      ],
      "metadata": {
        "id": "D8XD_7-u9WOG"
      }
    },
    {
      "cell_type": "markdown",
      "source": [
        "Tuple"
      ],
      "metadata": {
        "id": "dafq91zC9wSb"
      }
    },
    {
      "cell_type": "code",
      "source": [
        "a = (1, #first element\n",
        "     2, #second element\n",
        "     3, #third element\n",
        "     )"
      ],
      "metadata": {
        "id": "R1pRXnqR5Qnx"
      },
      "execution_count": 17,
      "outputs": []
    },
    {
      "cell_type": "code",
      "source": [
        "a"
      ],
      "metadata": {
        "colab": {
          "base_uri": "https://localhost:8080/"
        },
        "id": "HdijBf7d9tDm",
        "outputId": "733c056b-b682-4ea6-e11d-32e753321c14"
      },
      "execution_count": 18,
      "outputs": [
        {
          "output_type": "execute_result",
          "data": {
            "text/plain": [
              "(1, 2, 3)"
            ]
          },
          "metadata": {},
          "execution_count": 18
        }
      ]
    },
    {
      "cell_type": "markdown",
      "source": [
        "Set"
      ],
      "metadata": {
        "id": "eow4ML-b9zQZ"
      }
    },
    {
      "cell_type": "code",
      "source": [
        "a = {1, #first element\n",
        "     2, #second element\n",
        "     }"
      ],
      "metadata": {
        "id": "nG5YRvIn9tbY"
      },
      "execution_count": 19,
      "outputs": []
    },
    {
      "cell_type": "code",
      "source": [
        "a"
      ],
      "metadata": {
        "colab": {
          "base_uri": "https://localhost:8080/"
        },
        "id": "2FyXRpt498b-",
        "outputId": "28cf92b3-143f-4b9d-feb8-87d67fb39a38"
      },
      "execution_count": 20,
      "outputs": [
        {
          "output_type": "execute_result",
          "data": {
            "text/plain": [
              "{1, 2}"
            ]
          },
          "metadata": {},
          "execution_count": 20
        }
      ]
    },
    {
      "cell_type": "markdown",
      "source": [
        "Dictionary"
      ],
      "metadata": {
        "id": "x9cEhG5--HDl"
      }
    },
    {
      "cell_type": "markdown",
      "source": [
        "you can use each of key and value pairs comments in dictionary."
      ],
      "metadata": {
        "id": "iOugr15v-ZyP"
      }
    },
    {
      "cell_type": "code",
      "source": [
        "a = {'key1': 'value1', #comment,\n",
        "     'key2': #comment\n",
        "     'value2' #comment\n",
        "     }"
      ],
      "metadata": {
        "id": "G_xS45i_995I"
      },
      "execution_count": 21,
      "outputs": []
    },
    {
      "cell_type": "code",
      "source": [
        "a"
      ],
      "metadata": {
        "colab": {
          "base_uri": "https://localhost:8080/"
        },
        "id": "5VXFOIxH-SRp",
        "outputId": "df92df99-72a4-420d-db5a-917b637b8e20"
      },
      "execution_count": 22,
      "outputs": [
        {
          "output_type": "execute_result",
          "data": {
            "text/plain": [
              "{'key1': 'value1', 'key2': 'value2'}"
            ]
          },
          "metadata": {},
          "execution_count": 22
        }
      ]
    },
    {
      "cell_type": "markdown",
      "source": [
        "Function Parameter"
      ],
      "metadata": {
        "id": "f6YLYy5b_YoQ"
      }
    },
    {
      "cell_type": "markdown",
      "source": [
        "A parameter is the variable listed inside the parentheses in the function definition."
      ],
      "metadata": {
        "id": "XfSylmNBAGqk"
      }
    },
    {
      "cell_type": "code",
      "source": [
        "def my_func(a, #some comment\n",
        "            b, c):\n",
        "    print(a, b ,c)"
      ],
      "metadata": {
        "id": "m90lAeKZ_YZQ"
      },
      "execution_count": 23,
      "outputs": []
    },
    {
      "cell_type": "markdown",
      "source": [
        "Function Argument"
      ],
      "metadata": {
        "id": "1gytMNVNAMko"
      }
    },
    {
      "cell_type": "markdown",
      "source": [
        "An argument is the value that are sent to the function when it is called."
      ],
      "metadata": {
        "id": "m3TUKVFfAOni"
      }
    },
    {
      "cell_type": "code",
      "source": [
        "my_func(10, #comment\n",
        "        20, #comment\n",
        "        30)"
      ],
      "metadata": {
        "colab": {
          "base_uri": "https://localhost:8080/"
        },
        "id": "A1fqn_7u-wC1",
        "outputId": "6386a8ba-7a55-4946-ee91-5530a0222450"
      },
      "execution_count": 24,
      "outputs": [
        {
          "output_type": "stream",
          "name": "stdout",
          "text": [
            "10 20 30\n"
          ]
        }
      ]
    },
    {
      "cell_type": "markdown",
      "source": [
        "**Explicit Examples**"
      ],
      "metadata": {
        "id": "TW4RS-QIBCdd"
      }
    },
    {
      "cell_type": "markdown",
      "source": [
        "You can use the \\ character to explicitly create multi-line statements."
      ],
      "metadata": {
        "id": "m_n7QI04BLgo"
      }
    },
    {
      "cell_type": "code",
      "source": [
        "a = 10\n",
        "b = 20\n",
        "c = 30\n",
        "if a > 5 \\\n",
        "  and b > 10 \\\n",
        "  and c > 20:\n",
        "  print('yes!!')"
      ],
      "metadata": {
        "colab": {
          "base_uri": "https://localhost:8080/"
        },
        "id": "9as55QUUAkX1",
        "outputId": "826e1dda-87de-4575-9159-de21b757dc51"
      },
      "execution_count": 7,
      "outputs": [
        {
          "output_type": "stream",
          "name": "stdout",
          "text": [
            "yes!!\n"
          ]
        }
      ]
    },
    {
      "cell_type": "markdown",
      "source": [
        "The indentation in continued-lines does not matter:"
      ],
      "metadata": {
        "id": "1z9Hv-6qBt2c"
      }
    },
    {
      "cell_type": "code",
      "source": [
        "a = 10\n",
        "b = 20\n",
        "c = 30\n",
        "if a > 5 \\\n",
        "    and b > 10 \\\n",
        "        and c > 20:\n",
        "    print('yes!!')"
      ],
      "metadata": {
        "colab": {
          "base_uri": "https://localhost:8080/"
        },
        "id": "zKev4sbJBz0M",
        "outputId": "5e37115d-9508-44c3-8581-8de63e148f5a"
      },
      "execution_count": 8,
      "outputs": [
        {
          "output_type": "stream",
          "name": "stdout",
          "text": [
            "yes!!\n"
          ]
        }
      ]
    },
    {
      "cell_type": "markdown",
      "source": [
        "**Multi-Line Strings**"
      ],
      "metadata": {
        "id": "a61yj2gQCTDF"
      }
    },
    {
      "cell_type": "markdown",
      "source": [
        "You can create multi-line strings by using triple delimiters (single or double quotes)"
      ],
      "metadata": {
        "id": "9sJvo2YJCXoS"
      }
    },
    {
      "cell_type": "code",
      "source": [
        "a = '''this is \n",
        "a multi-line string'''"
      ],
      "metadata": {
        "id": "8VSsNWwbB_81"
      },
      "execution_count": 9,
      "outputs": []
    },
    {
      "cell_type": "code",
      "source": [
        "print(a)"
      ],
      "metadata": {
        "colab": {
          "base_uri": "https://localhost:8080/"
        },
        "id": "lcIx46QZClkU",
        "outputId": "ec3b3bf2-1cd6-47b6-939e-a81f60a799c4"
      },
      "execution_count": 10,
      "outputs": [
        {
          "output_type": "stream",
          "name": "stdout",
          "text": [
            "this is \n",
            "a multi-line string\n"
          ]
        }
      ]
    },
    {
      "cell_type": "markdown",
      "source": [
        "If you call with a directly in notebook, you will see with escape characters such as \\n."
      ],
      "metadata": {
        "id": "AdjlmYZBCp2l"
      }
    },
    {
      "cell_type": "code",
      "source": [
        "a"
      ],
      "metadata": {
        "colab": {
          "base_uri": "https://localhost:8080/",
          "height": 35
        },
        "id": "DP4OrGSjCmPE",
        "outputId": "e8280c01-887c-4f9e-adef-921da5331884"
      },
      "execution_count": 11,
      "outputs": [
        {
          "output_type": "execute_result",
          "data": {
            "text/plain": [
              "'this is \\na multi-line string'"
            ],
            "application/vnd.google.colaboratory.intrinsic+json": {
              "type": "string"
            }
          },
          "metadata": {},
          "execution_count": 11
        }
      ]
    },
    {
      "cell_type": "markdown",
      "source": [
        "Any character you type is preserved. You can also mix in escaped characters line any nırmal string. (ie: \\n)"
      ],
      "metadata": {
        "id": "1ZvfBZCKDB2v"
      }
    },
    {
      "cell_type": "code",
      "source": [
        "a = \"\"\"some items:\\n\n",
        "    1. item 1\n",
        "    2. item 2\"\"\""
      ],
      "metadata": {
        "id": "r7xaA_dwCnPI"
      },
      "execution_count": 12,
      "outputs": []
    },
    {
      "cell_type": "code",
      "source": [
        "print(a)"
      ],
      "metadata": {
        "colab": {
          "base_uri": "https://localhost:8080/"
        },
        "id": "eofFGJHHDjHI",
        "outputId": "8341b278-053a-4255-c0a4-7474fe523924"
      },
      "execution_count": 13,
      "outputs": [
        {
          "output_type": "stream",
          "name": "stdout",
          "text": [
            "some items:\n",
            "\n",
            "    1. item 1\n",
            "    2. item 2\n"
          ]
        }
      ]
    },
    {
      "cell_type": "markdown",
      "source": [
        "\n",
        "\n",
        "---\n",
        "\n"
      ],
      "metadata": {
        "id": "pZbAIh0hGv_S"
      }
    },
    {
      "cell_type": "markdown",
      "source": [
        "**CAVEAT, BE CAREFUL!**"
      ],
      "metadata": {
        "id": "9QJbeAvgD4So"
      }
    },
    {
      "cell_type": "markdown",
      "source": [
        "*if you indent your multi-line strings - the extra spaces are preserved!*"
      ],
      "metadata": {
        "id": "QJ3oZANuD5Yr"
      }
    },
    {
      "cell_type": "code",
      "source": [
        "def my_func():\n",
        "    a = '''a multi-line string\n",
        "    that is actually indented in the second line'''\n",
        "    return a"
      ],
      "metadata": {
        "id": "vRKpiU4vDkN0"
      },
      "execution_count": 14,
      "outputs": []
    },
    {
      "cell_type": "code",
      "source": [
        "print(my_func())"
      ],
      "metadata": {
        "colab": {
          "base_uri": "https://localhost:8080/"
        },
        "id": "6Qz4j3yMEL4O",
        "outputId": "44d41724-a5c2-4b93-e3a5-30c939df4938"
      },
      "execution_count": 15,
      "outputs": [
        {
          "output_type": "stream",
          "name": "stdout",
          "text": [
            "a multi-line string\n",
            "    that is actually indented in the second line\n"
          ]
        }
      ]
    },
    {
      "cell_type": "code",
      "source": [
        "def my_func():\n",
        "    a = '''a multi-line string\n",
        "that is not indented in the second line'''\n",
        "    return a"
      ],
      "metadata": {
        "id": "08RKuSa_EMxz"
      },
      "execution_count": 27,
      "outputs": []
    },
    {
      "cell_type": "code",
      "source": [
        "print(my_func())"
      ],
      "metadata": {
        "colab": {
          "base_uri": "https://localhost:8080/"
        },
        "id": "TxZFOOkrE2s6",
        "outputId": "9a40b7e4-2691-4106-8869-37d83400700a"
      },
      "execution_count": 28,
      "outputs": [
        {
          "output_type": "stream",
          "name": "stdout",
          "text": [
            "a multi-line string\n",
            "that is not indented in the second line\n"
          ]
        }
      ]
    },
    {
      "cell_type": "markdown",
      "source": [
        "\n",
        "\n",
        "---\n",
        "\n"
      ],
      "metadata": {
        "id": "PWKT6IbiGyZv"
      }
    },
    {
      "cell_type": "markdown",
      "source": [
        "**CAVEAT, BE CAREFUL!**"
      ],
      "metadata": {
        "id": "2S1RsZU6E_b3"
      }
    },
    {
      "cell_type": "markdown",
      "source": [
        "*Note that these multi-line strings are not comments - they are real strings and, unlike comments, are part of your compiled code. They are however used to create comments, such as docstrings, that we will cover later in this course.*"
      ],
      "metadata": {
        "id": "7ZrOZAgAFCOe"
      }
    },
    {
      "cell_type": "markdown",
      "source": [
        "\n",
        "\n",
        "---\n",
        "\n"
      ],
      "metadata": {
        "id": "YS8ZIPP7G0I_"
      }
    },
    {
      "cell_type": "markdown",
      "source": [
        "**CAVEAT, BE CAREFUL!**"
      ],
      "metadata": {
        "id": "2ERk9kBOFqM_"
      }
    },
    {
      "cell_type": "markdown",
      "source": [
        "In general, use # to comment your code, and use multi-line strings only when actually needed (like for docstrings).\n",
        "Also, there are no multi-line comments in Python. You simply have to use a # on every line."
      ],
      "metadata": {
        "id": "iC5nicMGFrIj"
      }
    },
    {
      "cell_type": "code",
      "source": [
        "# this is\n",
        "#   a multi-line\n",
        "#   comment"
      ],
      "metadata": {
        "id": "xpfRM-gAE4Wy"
      },
      "execution_count": 29,
      "outputs": []
    },
    {
      "cell_type": "markdown",
      "source": [
        "The following works, but the above formatting is preferrable."
      ],
      "metadata": {
        "id": "joBdYDKZGH1K"
      }
    },
    {
      "cell_type": "code",
      "source": [
        "# this is\n",
        "    # a multi-line\n",
        "    # comment"
      ],
      "metadata": {
        "id": "-B_FQ-4EGDa3"
      },
      "execution_count": 30,
      "outputs": []
    },
    {
      "cell_type": "markdown",
      "source": [
        "\n",
        "\n",
        "---\n",
        "\n"
      ],
      "metadata": {
        "id": "AnWBiepdG3WZ"
      }
    },
    {
      "cell_type": "markdown",
      "source": [
        "### 02 - Conditionals"
      ],
      "metadata": {
        "id": "w4LiV36uQnOf"
      }
    },
    {
      "cell_type": "markdown",
      "source": [
        "This is achieved using if, elif and else or the ternary operator (aka conditional expression)"
      ],
      "metadata": {
        "id": "U-6fbvdrbXJ5"
      }
    },
    {
      "cell_type": "code",
      "source": [
        "a = 2\n",
        "if a < 3:\n",
        "    print('a < 3')\n",
        "else:\n",
        "    print('a >= 3')"
      ],
      "metadata": {
        "colab": {
          "base_uri": "https://localhost:8080/"
        },
        "id": "MONbFoNKbrfO",
        "outputId": "4ae41b64-e4af-4bae-89ec-fe14a8a0d844"
      },
      "execution_count": 31,
      "outputs": [
        {
          "output_type": "stream",
          "name": "stdout",
          "text": [
            "a < 3\n"
          ]
        }
      ]
    },
    {
      "cell_type": "markdown",
      "source": [
        "if statements can be nested."
      ],
      "metadata": {
        "id": "Fr1O62RDb105"
      }
    },
    {
      "cell_type": "code",
      "source": [
        "a = 15\n",
        "\n",
        "if a < 5:\n",
        "    print('a < 5')\n",
        "else:\n",
        "    if a < 10:\n",
        "        print('5 <= a < 10')\n",
        "    else:\n",
        "        print('a >= 10')"
      ],
      "metadata": {
        "colab": {
          "base_uri": "https://localhost:8080/"
        },
        "id": "mtyC3ksIbzgt",
        "outputId": "09fe47e3-a221-40e9-efda-7fc96e07eb59"
      },
      "execution_count": 33,
      "outputs": [
        {
          "output_type": "stream",
          "name": "stdout",
          "text": [
            "a >= 10\n"
          ]
        }
      ]
    },
    {
      "cell_type": "markdown",
      "source": [
        "But the elif statement provides for better readability."
      ],
      "metadata": {
        "id": "INokNcNXcHtP"
      }
    },
    {
      "cell_type": "code",
      "source": [
        "a = 15\n",
        "\n",
        "if a < 5:\n",
        "    print('a < 5')\n",
        "elif a < 10:\n",
        "    print('5 <= a < 10')\n",
        "else:\n",
        "    print('a >= 10')"
      ],
      "metadata": {
        "colab": {
          "base_uri": "https://localhost:8080/"
        },
        "id": "vuMMkc9ZcCdK",
        "outputId": "e5964793-639b-47b9-a03e-1a8eee73a740"
      },
      "execution_count": 34,
      "outputs": [
        {
          "output_type": "stream",
          "name": "stdout",
          "text": [
            "a >= 10\n"
          ]
        }
      ]
    },
    {
      "cell_type": "markdown",
      "source": [
        "Python also provides a conditional expression (ternary operator):\n",
        "\n",
        "X if (condition) else Y\n",
        "\n",
        "returns (and evaluates) X if (conditions) is True, otherwise returns (and evaluates) Y"
      ],
      "metadata": {
        "id": "A9bupp_vckgr"
      }
    },
    {
      "cell_type": "code",
      "source": [
        "a = 5\n",
        "res = 'a < 10' if a < 10 else 'a >= 10'\n",
        "print(res)"
      ],
      "metadata": {
        "colab": {
          "base_uri": "https://localhost:8080/"
        },
        "id": "OBMNLm10cc6Z",
        "outputId": "a660c836-8aa0-4689-eafc-de3580d5ec63"
      },
      "execution_count": 35,
      "outputs": [
        {
          "output_type": "stream",
          "name": "stdout",
          "text": [
            "a < 10\n"
          ]
        }
      ]
    },
    {
      "cell_type": "code",
      "source": [
        "a = 15\n",
        "res = 'a < 10' if a < 10 else 'a >= 10'\n",
        "print(res)"
      ],
      "metadata": {
        "colab": {
          "base_uri": "https://localhost:8080/"
        },
        "id": "ieGWgPLpc9_E",
        "outputId": "7d62a6f1-a1b5-4b6f-bc8f-62863a0ef477"
      },
      "execution_count": 36,
      "outputs": [
        {
          "output_type": "stream",
          "name": "stdout",
          "text": [
            "a >= 10\n"
          ]
        }
      ]
    },
    {
      "cell_type": "markdown",
      "source": [
        "\n",
        "\n",
        "---\n",
        "\n"
      ],
      "metadata": {
        "id": "h60yIWLBdWTO"
      }
    },
    {
      "cell_type": "markdown",
      "source": [
        "**CAVEAT, BE CAREFUL!**"
      ],
      "metadata": {
        "id": "Cogm4_9wdU3G"
      }
    },
    {
      "cell_type": "markdown",
      "source": [
        "*Note that X and Y can be any expression, not just literal values:*"
      ],
      "metadata": {
        "id": "ARVmnFE2dYvN"
      }
    },
    {
      "cell_type": "code",
      "source": [
        "def say_hello():\n",
        "    print('Hello!')\n",
        "\n",
        "def say_goodbye():\n",
        "    print('Goodbye!')"
      ],
      "metadata": {
        "id": "fxFq8yyZdIoK"
      },
      "execution_count": 37,
      "outputs": []
    },
    {
      "cell_type": "code",
      "source": [
        "a = 5\n",
        "say_hello() if a < 10 else say_goodbye()"
      ],
      "metadata": {
        "colab": {
          "base_uri": "https://localhost:8080/"
        },
        "id": "I2se5d-jl0_7",
        "outputId": "f63c397c-9de0-4b05-99a0-1f1500abbd33"
      },
      "execution_count": 38,
      "outputs": [
        {
          "output_type": "stream",
          "name": "stdout",
          "text": [
            "Hello!\n"
          ]
        }
      ]
    },
    {
      "cell_type": "code",
      "source": [
        "a = 15\n",
        "say_hello() if a < 10 else say_goodbye()"
      ],
      "metadata": {
        "colab": {
          "base_uri": "https://localhost:8080/"
        },
        "id": "uTSLom6Dl8B8",
        "outputId": "742b1b4d-2ec7-4c14-e618-abab63b6302e"
      },
      "execution_count": 39,
      "outputs": [
        {
          "output_type": "stream",
          "name": "stdout",
          "text": [
            "Goodbye!\n"
          ]
        }
      ]
    },
    {
      "cell_type": "markdown",
      "source": [
        "\n",
        "\n",
        "---\n",
        "\n"
      ],
      "metadata": {
        "id": "RgNkT9cJdXru"
      }
    }
  ]
}