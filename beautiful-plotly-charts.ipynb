{
 "cells": [
  {
   "cell_type": "markdown",
   "id": "0e1d24d5",
   "metadata": {
    "dc": {
     "key": "4"
    },
    "id": "-Sxae4jbdiT2",
    "papermill": {
     "duration": 0.029709,
     "end_time": "2022-11-19T13:23:28.307857",
     "exception": false,
     "start_time": "2022-11-19T13:23:28.278148",
     "status": "completed"
    },
    "run_control": {
     "frozen": true
    },
    "tags": [
     "context"
    ]
   },
   "source": [
    "# Introduction\n",
    "\n",
    "In this notebook, we will do a comprehensive analysis of the Android app market by comparing thousands of apps in the Google Play store."
   ]
  },
  {
   "cell_type": "markdown",
   "id": "e2bdfa77",
   "metadata": {
    "papermill": {
     "duration": 0.02687,
     "end_time": "2022-11-19T13:23:28.360982",
     "exception": false,
     "start_time": "2022-11-19T13:23:28.334112",
     "status": "completed"
    },
    "tags": []
   },
   "source": [
    "**Wrestle the Android App Store Data into Beautiful Looking Charts with Plotly**"
   ]
  },
  {
   "cell_type": "markdown",
   "id": "ee23051c",
   "metadata": {
    "papermill": {
     "duration": 0.026525,
     "end_time": "2022-11-19T13:23:28.414800",
     "exception": false,
     "start_time": "2022-11-19T13:23:28.388275",
     "status": "completed"
    },
    "tags": []
   },
   "source": [
    "Have you ever thought about building your own an iOS or Android app? If so, then you probably have wondered about how things work in the app stores. Today we'll replicate some of the app store analytics provided by companies like App Annie or Sensor Tower that helps inform development and app marketing strategies for many companies. This stuff is BIG business!\n",
    "\n",
    "In this module, we will compare thousands of apps in the Google Play Store so that we can gain insight into:\n",
    "\n",
    "* How competitive different app categories (e.g., Games, Lifestyle, Weather) are\n",
    "\n",
    "* Which app category offers compelling opportunities based on its popularity\n",
    "\n",
    "* How many downloads you would give up by making your app paid vs. free\n",
    "\n",
    "* How much you can reasonably charge for a paid app\n",
    "\n",
    "* Which paid apps have had the highest revenue\n",
    "\n",
    "* How many paid apps will recoup their development costs based on their sales revenue\n",
    "\n",
    "Today you'll learn:\n",
    "\n",
    "* How to quickly remove duplicates\n",
    "\n",
    "* How to remove unwanted symbols and convert data into a numeric format\n",
    "\n",
    "* How to wrangle columns containing nested data with Pandas\n",
    "\n",
    "* How to create compelling data visualisations with the plotly library\n",
    "\n",
    "* Create vertical, horizontal and grouped bar charts\n",
    "\n",
    "* Create pie and donut charts for categorical data\n",
    "\n",
    "* Use colour scales to make beautiful scatter plots"
   ]
  },
  {
   "cell_type": "markdown",
   "id": "5659f2ca",
   "metadata": {
    "id": "sDT5lMxadiT3",
    "papermill": {
     "duration": 0.028435,
     "end_time": "2022-11-19T13:23:28.469164",
     "exception": false,
     "start_time": "2022-11-19T13:23:28.440729",
     "status": "completed"
    },
    "tags": []
   },
   "source": [
    "# About the Dataset of Google Play Store Apps & Reviews"
   ]
  },
  {
   "cell_type": "markdown",
   "id": "cb8494aa",
   "metadata": {
    "id": "5CiydsdNdiT3",
    "papermill": {
     "duration": 0.025685,
     "end_time": "2022-11-19T13:23:28.521373",
     "exception": false,
     "start_time": "2022-11-19T13:23:28.495688",
     "status": "completed"
    },
    "tags": []
   },
   "source": [
    "**Data Source:** <br>\n",
    "App and review data was scraped from the Google Play Store by Lavanya Gupta in 2018. Original files listed [here](\n",
    "https://www.kaggle.com/lava18/google-play-store-apps)."
   ]
  },
  {
   "cell_type": "markdown",
   "id": "3df52b3e",
   "metadata": {
    "id": "BBKBNy4UdiT4",
    "papermill": {
     "duration": 0.025999,
     "end_time": "2022-11-19T13:23:28.573386",
     "exception": false,
     "start_time": "2022-11-19T13:23:28.547387",
     "status": "completed"
    },
    "tags": []
   },
   "source": [
    "# Import Statements"
   ]
  },
  {
   "cell_type": "code",
   "execution_count": 1,
   "id": "01da087e",
   "metadata": {
    "execution": {
     "iopub.execute_input": "2022-11-19T13:23:28.628140Z",
     "iopub.status.busy": "2022-11-19T13:23:28.627361Z",
     "iopub.status.idle": "2022-11-19T13:23:28.637591Z",
     "shell.execute_reply": "2022-11-19T13:23:28.636645Z"
    },
    "executionInfo": {
     "elapsed": 594,
     "status": "ok",
     "timestamp": 1602234478794,
     "user": {
      "displayName": "Philipp Muellauer",
      "photoUrl": "https://lh3.googleusercontent.com/a-/AOh14GjjWitgsmZ0M9Wmzf-SRYD005WcMGhejWWHMUiZnFw=s64",
      "userId": "02749974243016517270"
     },
     "user_tz": -60
    },
    "id": "_5mfFH4_diT4",
    "papermill": {
     "duration": 0.040701,
     "end_time": "2022-11-19T13:23:28.639879",
     "exception": false,
     "start_time": "2022-11-19T13:23:28.599178",
     "status": "completed"
    },
    "tags": []
   },
   "outputs": [],
   "source": [
    "import pandas as pd\n"
   ]
  },
  {
   "cell_type": "markdown",
   "id": "30a5f15c",
   "metadata": {
    "id": "KegC9nPDdiT7",
    "papermill": {
     "duration": 0.025871,
     "end_time": "2022-11-19T13:23:28.692288",
     "exception": false,
     "start_time": "2022-11-19T13:23:28.666417",
     "status": "completed"
    },
    "tags": []
   },
   "source": [
    "# Notebook Presentation"
   ]
  },
  {
   "cell_type": "code",
   "execution_count": 2,
   "id": "f4998dce",
   "metadata": {
    "execution": {
     "iopub.execute_input": "2022-11-19T13:23:28.747209Z",
     "iopub.status.busy": "2022-11-19T13:23:28.746460Z",
     "iopub.status.idle": "2022-11-19T13:23:28.750820Z",
     "shell.execute_reply": "2022-11-19T13:23:28.749985Z"
    },
    "id": "WPL7rhJndiT7",
    "papermill": {
     "duration": 0.034118,
     "end_time": "2022-11-19T13:23:28.752879",
     "exception": false,
     "start_time": "2022-11-19T13:23:28.718761",
     "status": "completed"
    },
    "tags": []
   },
   "outputs": [],
   "source": [
    "# Show numeric output in decimal format e.g., 2.15\n",
    "pd.options.display.float_format = '{:,.2f}'.format"
   ]
  },
  {
   "cell_type": "markdown",
   "id": "2a5532a1",
   "metadata": {
    "id": "Uc9LOZu9diT-",
    "papermill": {
     "duration": 0.025386,
     "end_time": "2022-11-19T13:23:28.804798",
     "exception": false,
     "start_time": "2022-11-19T13:23:28.779412",
     "status": "completed"
    },
    "tags": []
   },
   "source": [
    "# Read the Dataset"
   ]
  },
  {
   "cell_type": "code",
   "execution_count": 3,
   "id": "4efe0e63",
   "metadata": {
    "execution": {
     "iopub.execute_input": "2022-11-19T13:23:28.859667Z",
     "iopub.status.busy": "2022-11-19T13:23:28.858852Z",
     "iopub.status.idle": "2022-11-19T13:23:28.935892Z",
     "shell.execute_reply": "2022-11-19T13:23:28.934625Z"
    },
    "executionInfo": {
     "elapsed": 441,
     "status": "error",
     "timestamp": 1602234486357,
     "user": {
      "displayName": "Philipp Muellauer",
      "photoUrl": "https://lh3.googleusercontent.com/a-/AOh14GjjWitgsmZ0M9Wmzf-SRYD005WcMGhejWWHMUiZnFw=s64",
      "userId": "02749974243016517270"
     },
     "user_tz": -60
    },
    "id": "zU0Zisv_diT-",
    "outputId": "f88a917e-30a1-45a4-b17a-ab21e557913c",
    "papermill": {
     "duration": 0.108199,
     "end_time": "2022-11-19T13:23:28.938962",
     "exception": false,
     "start_time": "2022-11-19T13:23:28.830763",
     "status": "completed"
    },
    "tags": []
   },
   "outputs": [],
   "source": [
    "df_apps = pd.read_csv('../input/google-play-store-apps-reviews/apps.csv')"
   ]
  },
  {
   "cell_type": "markdown",
   "id": "8408de8f",
   "metadata": {
    "id": "iKvSUwQldiUA",
    "papermill": {
     "duration": 0.027653,
     "end_time": "2022-11-19T13:23:28.992662",
     "exception": false,
     "start_time": "2022-11-19T13:23:28.965009",
     "status": "completed"
    },
    "tags": []
   },
   "source": [
    "# Data Cleaning - Removing NaN Values and Duplicates"
   ]
  },
  {
   "cell_type": "markdown",
   "id": "36af7012",
   "metadata": {
    "id": "MWTzYZIds5L9",
    "papermill": {
     "duration": 0.025881,
     "end_time": "2022-11-19T13:23:29.044525",
     "exception": false,
     "start_time": "2022-11-19T13:23:29.018644",
     "status": "completed"
    },
    "tags": []
   },
   "source": [
    "**Challenge**: How many rows and columns does `df_apps` have? What are the column names? Look at a random sample of 5 different rows with [.sample()](https://pandas.pydata.org/pandas-docs/stable/reference/api/pandas.DataFrame.sample.html)."
   ]
  },
  {
   "cell_type": "markdown",
   "id": "ad93d20a",
   "metadata": {
    "papermill": {
     "duration": 0.025806,
     "end_time": "2022-11-19T13:23:29.096338",
     "exception": false,
     "start_time": "2022-11-19T13:23:29.070532",
     "status": "completed"
    },
    "tags": []
   },
   "source": [
    "Compared to the previous projects we are working with a fairly large DataFrame this time."
   ]
  },
  {
   "cell_type": "code",
   "execution_count": 4,
   "id": "c3b32dc2",
   "metadata": {
    "execution": {
     "iopub.execute_input": "2022-11-19T13:23:29.150013Z",
     "iopub.status.busy": "2022-11-19T13:23:29.149305Z",
     "iopub.status.idle": "2022-11-19T13:23:29.157121Z",
     "shell.execute_reply": "2022-11-19T13:23:29.156328Z"
    },
    "id": "HJI7UsPrnuRf",
    "papermill": {
     "duration": 0.037148,
     "end_time": "2022-11-19T13:23:29.159382",
     "exception": false,
     "start_time": "2022-11-19T13:23:29.122234",
     "status": "completed"
    },
    "tags": []
   },
   "outputs": [
    {
     "data": {
      "text/plain": [
       "(10841, 12)"
      ]
     },
     "execution_count": 4,
     "metadata": {},
     "output_type": "execute_result"
    }
   ],
   "source": [
    "df_apps.shape"
   ]
  },
  {
   "cell_type": "markdown",
   "id": "a3751355",
   "metadata": {
    "id": "fKXFjPkmnuYA",
    "papermill": {
     "duration": 0.026103,
     "end_time": "2022-11-19T13:23:29.211673",
     "exception": false,
     "start_time": "2022-11-19T13:23:29.185570",
     "status": "completed"
    },
    "tags": []
   },
   "source": [
    "tells us we have 10841 rows and 12 columns.\n",
    "\n",
    "We can already see that there are some data issues that we need to fix. In the Ratings and Type columns there are NaN (Not a number values) and in the Price column we have dollar signs that will cause problems.\n",
    "\n",
    "The `.sample(n)` method will give us n random rows. This is another handy way to inspect our DataFrame."
   ]
  },
  {
   "cell_type": "code",
   "execution_count": 5,
   "id": "a877a868",
   "metadata": {
    "execution": {
     "iopub.execute_input": "2022-11-19T13:23:29.266029Z",
     "iopub.status.busy": "2022-11-19T13:23:29.265599Z",
     "iopub.status.idle": "2022-11-19T13:23:29.295741Z",
     "shell.execute_reply": "2022-11-19T13:23:29.294978Z"
    },
    "id": "MUluaHF5nueH",
    "papermill": {
     "duration": 0.059865,
     "end_time": "2022-11-19T13:23:29.298131",
     "exception": false,
     "start_time": "2022-11-19T13:23:29.238266",
     "status": "completed"
    },
    "tags": []
   },
   "outputs": [
    {
     "data": {
      "text/html": [
       "<div>\n",
       "<style scoped>\n",
       "    .dataframe tbody tr th:only-of-type {\n",
       "        vertical-align: middle;\n",
       "    }\n",
       "\n",
       "    .dataframe tbody tr th {\n",
       "        vertical-align: top;\n",
       "    }\n",
       "\n",
       "    .dataframe thead th {\n",
       "        text-align: right;\n",
       "    }\n",
       "</style>\n",
       "<table border=\"1\" class=\"dataframe\">\n",
       "  <thead>\n",
       "    <tr style=\"text-align: right;\">\n",
       "      <th></th>\n",
       "      <th>App</th>\n",
       "      <th>Category</th>\n",
       "      <th>Rating</th>\n",
       "      <th>Reviews</th>\n",
       "      <th>Size_MBs</th>\n",
       "      <th>Installs</th>\n",
       "      <th>Type</th>\n",
       "      <th>Price</th>\n",
       "      <th>Content_Rating</th>\n",
       "      <th>Genres</th>\n",
       "      <th>Last_Updated</th>\n",
       "      <th>Android_Ver</th>\n",
       "    </tr>\n",
       "  </thead>\n",
       "  <tbody>\n",
       "    <tr>\n",
       "      <th>7585</th>\n",
       "      <td>LEGO® TV</td>\n",
       "      <td>FAMILY</td>\n",
       "      <td>3.70</td>\n",
       "      <td>17250</td>\n",
       "      <td>7.20</td>\n",
       "      <td>1,000,000</td>\n",
       "      <td>Free</td>\n",
       "      <td>0</td>\n",
       "      <td>Everyone 10+</td>\n",
       "      <td>Entertainment;Music &amp; Video</td>\n",
       "      <td>August 4, 2018</td>\n",
       "      <td>5.0 and up</td>\n",
       "    </tr>\n",
       "    <tr>\n",
       "      <th>5262</th>\n",
       "      <td>AC remote control mobile</td>\n",
       "      <td>TOOLS</td>\n",
       "      <td>3.90</td>\n",
       "      <td>3043</td>\n",
       "      <td>7.70</td>\n",
       "      <td>100,000</td>\n",
       "      <td>Free</td>\n",
       "      <td>0</td>\n",
       "      <td>Everyone</td>\n",
       "      <td>Tools</td>\n",
       "      <td>June 2, 2017</td>\n",
       "      <td>4.0.3 and up</td>\n",
       "    </tr>\n",
       "    <tr>\n",
       "      <th>560</th>\n",
       "      <td>FoothillsVet</td>\n",
       "      <td>MEDICAL</td>\n",
       "      <td>5.00</td>\n",
       "      <td>2</td>\n",
       "      <td>29.00</td>\n",
       "      <td>50</td>\n",
       "      <td>Free</td>\n",
       "      <td>0</td>\n",
       "      <td>Everyone</td>\n",
       "      <td>Medical</td>\n",
       "      <td>July 11, 2018</td>\n",
       "      <td>4.0.3 and up</td>\n",
       "    </tr>\n",
       "    <tr>\n",
       "      <th>943</th>\n",
       "      <td>AF Johannesburg</td>\n",
       "      <td>FAMILY</td>\n",
       "      <td>NaN</td>\n",
       "      <td>3</td>\n",
       "      <td>11.00</td>\n",
       "      <td>100</td>\n",
       "      <td>Free</td>\n",
       "      <td>0</td>\n",
       "      <td>Everyone</td>\n",
       "      <td>Education</td>\n",
       "      <td>May 2, 2017</td>\n",
       "      <td>4.1 and up</td>\n",
       "    </tr>\n",
       "    <tr>\n",
       "      <th>1962</th>\n",
       "      <td>FK Željezničar Izzy</td>\n",
       "      <td>FAMILY</td>\n",
       "      <td>4.90</td>\n",
       "      <td>119</td>\n",
       "      <td>17.00</td>\n",
       "      <td>1,000</td>\n",
       "      <td>Free</td>\n",
       "      <td>0</td>\n",
       "      <td>Everyone</td>\n",
       "      <td>Entertainment</td>\n",
       "      <td>November 18, 2016</td>\n",
       "      <td>4.4 and up</td>\n",
       "    </tr>\n",
       "  </tbody>\n",
       "</table>\n",
       "</div>"
      ],
      "text/plain": [
       "                           App Category  Rating  Reviews  Size_MBs   Installs  \\\n",
       "7585                  LEGO® TV   FAMILY    3.70    17250      7.20  1,000,000   \n",
       "5262  AC remote control mobile    TOOLS    3.90     3043      7.70    100,000   \n",
       "560               FoothillsVet  MEDICAL    5.00        2     29.00         50   \n",
       "943            AF Johannesburg   FAMILY     NaN        3     11.00        100   \n",
       "1962       FK Željezničar Izzy   FAMILY    4.90      119     17.00      1,000   \n",
       "\n",
       "      Type Price Content_Rating                       Genres  \\\n",
       "7585  Free     0   Everyone 10+  Entertainment;Music & Video   \n",
       "5262  Free     0       Everyone                        Tools   \n",
       "560   Free     0       Everyone                      Medical   \n",
       "943   Free     0       Everyone                    Education   \n",
       "1962  Free     0       Everyone                Entertainment   \n",
       "\n",
       "           Last_Updated   Android_Ver  \n",
       "7585     August 4, 2018    5.0 and up  \n",
       "5262       June 2, 2017  4.0.3 and up  \n",
       "560       July 11, 2018  4.0.3 and up  \n",
       "943         May 2, 2017    4.1 and up  \n",
       "1962  November 18, 2016    4.4 and up  "
      ]
     },
     "execution_count": 5,
     "metadata": {},
     "output_type": "execute_result"
    }
   ],
   "source": [
    "df_apps.sample(5)"
   ]
  },
  {
   "cell_type": "markdown",
   "id": "12caf8fb",
   "metadata": {
    "id": "Hh81sMcvdiUI",
    "papermill": {
     "duration": 0.026045,
     "end_time": "2022-11-19T13:23:29.351627",
     "exception": false,
     "start_time": "2022-11-19T13:23:29.325582",
     "status": "completed"
    },
    "tags": []
   },
   "source": [
    "### Drop Unused Columns\n",
    "\n",
    "**Challenge**: Remove the columns called `Last_Updated` and `Android_Version` from the DataFrame. We will not use these columns. "
   ]
  },
  {
   "cell_type": "markdown",
   "id": "abaa23ca",
   "metadata": {
    "papermill": {
     "duration": 0.026905,
     "end_time": "2022-11-19T13:23:29.404819",
     "exception": false,
     "start_time": "2022-11-19T13:23:29.377914",
     "status": "completed"
    },
    "tags": []
   },
   "source": [
    "To remove the unwanted columns, we simply provide a list of the column names `['Last_Updated', ‘Android_Ver']` to the `.drop()` method. By setting `axis=1` we are specifying that we want to drop certain columns."
   ]
  },
  {
   "cell_type": "code",
   "execution_count": 6,
   "id": "70aaf263",
   "metadata": {
    "execution": {
     "iopub.execute_input": "2022-11-19T13:23:29.459766Z",
     "iopub.status.busy": "2022-11-19T13:23:29.459031Z",
     "iopub.status.idle": "2022-11-19T13:23:29.478730Z",
     "shell.execute_reply": "2022-11-19T13:23:29.477536Z"
    },
    "id": "t7EMSKAOnyzI",
    "papermill": {
     "duration": 0.049903,
     "end_time": "2022-11-19T13:23:29.481007",
     "exception": false,
     "start_time": "2022-11-19T13:23:29.431104",
     "status": "completed"
    },
    "tags": []
   },
   "outputs": [
    {
     "data": {
      "text/html": [
       "<div>\n",
       "<style scoped>\n",
       "    .dataframe tbody tr th:only-of-type {\n",
       "        vertical-align: middle;\n",
       "    }\n",
       "\n",
       "    .dataframe tbody tr th {\n",
       "        vertical-align: top;\n",
       "    }\n",
       "\n",
       "    .dataframe thead th {\n",
       "        text-align: right;\n",
       "    }\n",
       "</style>\n",
       "<table border=\"1\" class=\"dataframe\">\n",
       "  <thead>\n",
       "    <tr style=\"text-align: right;\">\n",
       "      <th></th>\n",
       "      <th>App</th>\n",
       "      <th>Category</th>\n",
       "      <th>Rating</th>\n",
       "      <th>Reviews</th>\n",
       "      <th>Size_MBs</th>\n",
       "      <th>Installs</th>\n",
       "      <th>Type</th>\n",
       "      <th>Price</th>\n",
       "      <th>Content_Rating</th>\n",
       "      <th>Genres</th>\n",
       "    </tr>\n",
       "  </thead>\n",
       "  <tbody>\n",
       "    <tr>\n",
       "      <th>0</th>\n",
       "      <td>Ak Parti Yardım Toplama</td>\n",
       "      <td>SOCIAL</td>\n",
       "      <td>NaN</td>\n",
       "      <td>0</td>\n",
       "      <td>8.70</td>\n",
       "      <td>0</td>\n",
       "      <td>Paid</td>\n",
       "      <td>$13.99</td>\n",
       "      <td>Teen</td>\n",
       "      <td>Social</td>\n",
       "    </tr>\n",
       "    <tr>\n",
       "      <th>1</th>\n",
       "      <td>Ain Arabic Kids Alif Ba ta</td>\n",
       "      <td>FAMILY</td>\n",
       "      <td>NaN</td>\n",
       "      <td>0</td>\n",
       "      <td>33.00</td>\n",
       "      <td>0</td>\n",
       "      <td>Paid</td>\n",
       "      <td>$2.99</td>\n",
       "      <td>Everyone</td>\n",
       "      <td>Education</td>\n",
       "    </tr>\n",
       "    <tr>\n",
       "      <th>2</th>\n",
       "      <td>Popsicle Launcher for Android P 9.0 launcher</td>\n",
       "      <td>PERSONALIZATION</td>\n",
       "      <td>NaN</td>\n",
       "      <td>0</td>\n",
       "      <td>5.50</td>\n",
       "      <td>0</td>\n",
       "      <td>Paid</td>\n",
       "      <td>$1.49</td>\n",
       "      <td>Everyone</td>\n",
       "      <td>Personalization</td>\n",
       "    </tr>\n",
       "    <tr>\n",
       "      <th>3</th>\n",
       "      <td>Command &amp; Conquer: Rivals</td>\n",
       "      <td>FAMILY</td>\n",
       "      <td>NaN</td>\n",
       "      <td>0</td>\n",
       "      <td>19.00</td>\n",
       "      <td>0</td>\n",
       "      <td>NaN</td>\n",
       "      <td>0</td>\n",
       "      <td>Everyone 10+</td>\n",
       "      <td>Strategy</td>\n",
       "    </tr>\n",
       "    <tr>\n",
       "      <th>4</th>\n",
       "      <td>CX Network</td>\n",
       "      <td>BUSINESS</td>\n",
       "      <td>NaN</td>\n",
       "      <td>0</td>\n",
       "      <td>10.00</td>\n",
       "      <td>0</td>\n",
       "      <td>Free</td>\n",
       "      <td>0</td>\n",
       "      <td>Everyone</td>\n",
       "      <td>Business</td>\n",
       "    </tr>\n",
       "  </tbody>\n",
       "</table>\n",
       "</div>"
      ],
      "text/plain": [
       "                                            App         Category  Rating  \\\n",
       "0                       Ak Parti Yardım Toplama           SOCIAL     NaN   \n",
       "1                    Ain Arabic Kids Alif Ba ta           FAMILY     NaN   \n",
       "2  Popsicle Launcher for Android P 9.0 launcher  PERSONALIZATION     NaN   \n",
       "3                     Command & Conquer: Rivals           FAMILY     NaN   \n",
       "4                                    CX Network         BUSINESS     NaN   \n",
       "\n",
       "   Reviews  Size_MBs Installs  Type   Price Content_Rating           Genres  \n",
       "0        0      8.70        0  Paid  $13.99           Teen           Social  \n",
       "1        0     33.00        0  Paid   $2.99       Everyone        Education  \n",
       "2        0      5.50        0  Paid   $1.49       Everyone  Personalization  \n",
       "3        0     19.00        0   NaN       0   Everyone 10+         Strategy  \n",
       "4        0     10.00        0  Free       0       Everyone         Business  "
      ]
     },
     "execution_count": 6,
     "metadata": {},
     "output_type": "execute_result"
    }
   ],
   "source": [
    "df_apps.drop([\"Last_Updated\", \"Android_Ver\"], axis=1, inplace=True)\n",
    "df_apps.head()"
   ]
  },
  {
   "cell_type": "markdown",
   "id": "5f3c8acb",
   "metadata": {
    "papermill": {
     "duration": 0.026782,
     "end_time": "2022-11-19T13:23:29.534289",
     "exception": false,
     "start_time": "2022-11-19T13:23:29.507507",
     "status": "completed"
    },
    "tags": []
   },
   "source": [
    "To find and remove the rows with the NaN values we can create a subset of the DataFrame based on where `.isna()` evaluates to `True`. We see that NaN values in ratings are associated with no reviews (and no installs). That makes sense."
   ]
  },
  {
   "cell_type": "markdown",
   "id": "9e18f38b",
   "metadata": {
    "id": "YQGe1DIKdiUM",
    "papermill": {
     "duration": 0.029079,
     "end_time": "2022-11-19T13:23:29.593261",
     "exception": false,
     "start_time": "2022-11-19T13:23:29.564182",
     "status": "completed"
    },
    "tags": []
   },
   "source": [
    "### Find and Remove NaN values in Ratings\n",
    "\n",
    "**Challenge**: How may rows have a NaN value (not-a-number) in the Ratings column? Create DataFrame called `df_apps_clean` that does not include these rows. "
   ]
  },
  {
   "cell_type": "code",
   "execution_count": 7,
   "id": "eaacb78e",
   "metadata": {
    "execution": {
     "iopub.execute_input": "2022-11-19T13:23:29.658302Z",
     "iopub.status.busy": "2022-11-19T13:23:29.657872Z",
     "iopub.status.idle": "2022-11-19T13:23:29.677605Z",
     "shell.execute_reply": "2022-11-19T13:23:29.676355Z"
    },
    "id": "grcP1IOZn1Wv",
    "papermill": {
     "duration": 0.051697,
     "end_time": "2022-11-19T13:23:29.680828",
     "exception": false,
     "start_time": "2022-11-19T13:23:29.629131",
     "status": "completed"
    },
    "tags": []
   },
   "outputs": [
    {
     "name": "stdout",
     "output_type": "stream",
     "text": [
      "(1474, 10)\n"
     ]
    },
    {
     "data": {
      "text/html": [
       "<div>\n",
       "<style scoped>\n",
       "    .dataframe tbody tr th:only-of-type {\n",
       "        vertical-align: middle;\n",
       "    }\n",
       "\n",
       "    .dataframe tbody tr th {\n",
       "        vertical-align: top;\n",
       "    }\n",
       "\n",
       "    .dataframe thead th {\n",
       "        text-align: right;\n",
       "    }\n",
       "</style>\n",
       "<table border=\"1\" class=\"dataframe\">\n",
       "  <thead>\n",
       "    <tr style=\"text-align: right;\">\n",
       "      <th></th>\n",
       "      <th>App</th>\n",
       "      <th>Category</th>\n",
       "      <th>Rating</th>\n",
       "      <th>Reviews</th>\n",
       "      <th>Size_MBs</th>\n",
       "      <th>Installs</th>\n",
       "      <th>Type</th>\n",
       "      <th>Price</th>\n",
       "      <th>Content_Rating</th>\n",
       "      <th>Genres</th>\n",
       "    </tr>\n",
       "  </thead>\n",
       "  <tbody>\n",
       "    <tr>\n",
       "      <th>0</th>\n",
       "      <td>Ak Parti Yardım Toplama</td>\n",
       "      <td>SOCIAL</td>\n",
       "      <td>NaN</td>\n",
       "      <td>0</td>\n",
       "      <td>8.70</td>\n",
       "      <td>0</td>\n",
       "      <td>Paid</td>\n",
       "      <td>$13.99</td>\n",
       "      <td>Teen</td>\n",
       "      <td>Social</td>\n",
       "    </tr>\n",
       "    <tr>\n",
       "      <th>1</th>\n",
       "      <td>Ain Arabic Kids Alif Ba ta</td>\n",
       "      <td>FAMILY</td>\n",
       "      <td>NaN</td>\n",
       "      <td>0</td>\n",
       "      <td>33.00</td>\n",
       "      <td>0</td>\n",
       "      <td>Paid</td>\n",
       "      <td>$2.99</td>\n",
       "      <td>Everyone</td>\n",
       "      <td>Education</td>\n",
       "    </tr>\n",
       "    <tr>\n",
       "      <th>2</th>\n",
       "      <td>Popsicle Launcher for Android P 9.0 launcher</td>\n",
       "      <td>PERSONALIZATION</td>\n",
       "      <td>NaN</td>\n",
       "      <td>0</td>\n",
       "      <td>5.50</td>\n",
       "      <td>0</td>\n",
       "      <td>Paid</td>\n",
       "      <td>$1.49</td>\n",
       "      <td>Everyone</td>\n",
       "      <td>Personalization</td>\n",
       "    </tr>\n",
       "    <tr>\n",
       "      <th>3</th>\n",
       "      <td>Command &amp; Conquer: Rivals</td>\n",
       "      <td>FAMILY</td>\n",
       "      <td>NaN</td>\n",
       "      <td>0</td>\n",
       "      <td>19.00</td>\n",
       "      <td>0</td>\n",
       "      <td>NaN</td>\n",
       "      <td>0</td>\n",
       "      <td>Everyone 10+</td>\n",
       "      <td>Strategy</td>\n",
       "    </tr>\n",
       "    <tr>\n",
       "      <th>4</th>\n",
       "      <td>CX Network</td>\n",
       "      <td>BUSINESS</td>\n",
       "      <td>NaN</td>\n",
       "      <td>0</td>\n",
       "      <td>10.00</td>\n",
       "      <td>0</td>\n",
       "      <td>Free</td>\n",
       "      <td>0</td>\n",
       "      <td>Everyone</td>\n",
       "      <td>Business</td>\n",
       "    </tr>\n",
       "  </tbody>\n",
       "</table>\n",
       "</div>"
      ],
      "text/plain": [
       "                                            App         Category  Rating  \\\n",
       "0                       Ak Parti Yardım Toplama           SOCIAL     NaN   \n",
       "1                    Ain Arabic Kids Alif Ba ta           FAMILY     NaN   \n",
       "2  Popsicle Launcher for Android P 9.0 launcher  PERSONALIZATION     NaN   \n",
       "3                     Command & Conquer: Rivals           FAMILY     NaN   \n",
       "4                                    CX Network         BUSINESS     NaN   \n",
       "\n",
       "   Reviews  Size_MBs Installs  Type   Price Content_Rating           Genres  \n",
       "0        0      8.70        0  Paid  $13.99           Teen           Social  \n",
       "1        0     33.00        0  Paid   $2.99       Everyone        Education  \n",
       "2        0      5.50        0  Paid   $1.49       Everyone  Personalization  \n",
       "3        0     19.00        0   NaN       0   Everyone 10+         Strategy  \n",
       "4        0     10.00        0  Free       0       Everyone         Business  "
      ]
     },
     "execution_count": 7,
     "metadata": {},
     "output_type": "execute_result"
    }
   ],
   "source": [
    "nan_rows = df_apps[df_apps.Rating.isna()]\n",
    "print(nan_rows.shape)\n",
    "nan_rows.head()"
   ]
  },
  {
   "cell_type": "markdown",
   "id": "7f7498eb",
   "metadata": {
    "papermill": {
     "duration": 0.026579,
     "end_time": "2022-11-19T13:23:29.734571",
     "exception": false,
     "start_time": "2022-11-19T13:23:29.707992",
     "status": "completed"
    },
    "tags": []
   },
   "source": [
    "We can drop the NaN values with `.dropna()`:"
   ]
  },
  {
   "cell_type": "code",
   "execution_count": 8,
   "id": "005361bc",
   "metadata": {
    "execution": {
     "iopub.execute_input": "2022-11-19T13:23:29.790776Z",
     "iopub.status.busy": "2022-11-19T13:23:29.790074Z",
     "iopub.status.idle": "2022-11-19T13:23:29.806776Z",
     "shell.execute_reply": "2022-11-19T13:23:29.805557Z"
    },
    "id": "IbQnnPaUn1Pw",
    "papermill": {
     "duration": 0.047184,
     "end_time": "2022-11-19T13:23:29.809200",
     "exception": false,
     "start_time": "2022-11-19T13:23:29.762016",
     "status": "completed"
    },
    "tags": []
   },
   "outputs": [
    {
     "data": {
      "text/plain": [
       "(9367, 10)"
      ]
     },
     "execution_count": 8,
     "metadata": {},
     "output_type": "execute_result"
    }
   ],
   "source": [
    "df_apps_clean = df_apps.dropna()\n",
    "df_apps_clean.shape"
   ]
  },
  {
   "cell_type": "markdown",
   "id": "d07ad107",
   "metadata": {
    "papermill": {
     "duration": 0.027443,
     "end_time": "2022-11-19T13:23:29.863776",
     "exception": false,
     "start_time": "2022-11-19T13:23:29.836333",
     "status": "completed"
    },
    "tags": []
   },
   "source": [
    "This leaves us with 9,367 entries in our DataFrame. But there may be other problems with the data too:\n"
   ]
  },
  {
   "cell_type": "markdown",
   "id": "3bfe8303",
   "metadata": {
    "id": "pD26SWlxdiUV",
    "papermill": {
     "duration": 0.03873,
     "end_time": "2022-11-19T13:23:29.943993",
     "exception": false,
     "start_time": "2022-11-19T13:23:29.905263",
     "status": "completed"
    },
    "tags": []
   },
   "source": [
    "### Find and Remove Duplicates\n",
    "\n",
    "**Challenge**: Are there any duplicates in data? Check for duplicates using the [.duplicated()](https://pandas.pydata.org/pandas-docs/stable/reference/api/pandas.DataFrame.duplicated.html) function. How many entries can you find for the \"Instagram\" app? Use [.drop_duplicates()](https://pandas.pydata.org/pandas-docs/stable/reference/api/pandas.DataFrame.drop_duplicates.html) to remove any duplicates from `df_apps_clean`. \n"
   ]
  },
  {
   "cell_type": "markdown",
   "id": "ad7338d1",
   "metadata": {
    "papermill": {
     "duration": 0.028868,
     "end_time": "2022-11-19T13:23:30.013461",
     "exception": false,
     "start_time": "2022-11-19T13:23:29.984593",
     "status": "completed"
    },
    "tags": []
   },
   "source": [
    "There are indeed duplicates in the data. We can show them using the `.duplicated()` method, which brings up 476 rows:"
   ]
  },
  {
   "cell_type": "code",
   "execution_count": 9,
   "id": "06b3fa74",
   "metadata": {
    "execution": {
     "iopub.execute_input": "2022-11-19T13:23:30.071410Z",
     "iopub.status.busy": "2022-11-19T13:23:30.071006Z",
     "iopub.status.idle": "2022-11-19T13:23:30.101634Z",
     "shell.execute_reply": "2022-11-19T13:23:30.100151Z"
    },
    "id": "lE7X6KG3n5pR",
    "papermill": {
     "duration": 0.062952,
     "end_time": "2022-11-19T13:23:30.104136",
     "exception": false,
     "start_time": "2022-11-19T13:23:30.041184",
     "status": "completed"
    },
    "tags": []
   },
   "outputs": [
    {
     "name": "stdout",
     "output_type": "stream",
     "text": [
      "(476, 10)\n"
     ]
    },
    {
     "data": {
      "text/html": [
       "<div>\n",
       "<style scoped>\n",
       "    .dataframe tbody tr th:only-of-type {\n",
       "        vertical-align: middle;\n",
       "    }\n",
       "\n",
       "    .dataframe tbody tr th {\n",
       "        vertical-align: top;\n",
       "    }\n",
       "\n",
       "    .dataframe thead th {\n",
       "        text-align: right;\n",
       "    }\n",
       "</style>\n",
       "<table border=\"1\" class=\"dataframe\">\n",
       "  <thead>\n",
       "    <tr style=\"text-align: right;\">\n",
       "      <th></th>\n",
       "      <th>App</th>\n",
       "      <th>Category</th>\n",
       "      <th>Rating</th>\n",
       "      <th>Reviews</th>\n",
       "      <th>Size_MBs</th>\n",
       "      <th>Installs</th>\n",
       "      <th>Type</th>\n",
       "      <th>Price</th>\n",
       "      <th>Content_Rating</th>\n",
       "      <th>Genres</th>\n",
       "    </tr>\n",
       "  </thead>\n",
       "  <tbody>\n",
       "    <tr>\n",
       "      <th>946</th>\n",
       "      <td>420 BZ Budeze Delivery</td>\n",
       "      <td>MEDICAL</td>\n",
       "      <td>5.00</td>\n",
       "      <td>2</td>\n",
       "      <td>11.00</td>\n",
       "      <td>100</td>\n",
       "      <td>Free</td>\n",
       "      <td>0</td>\n",
       "      <td>Mature 17+</td>\n",
       "      <td>Medical</td>\n",
       "    </tr>\n",
       "    <tr>\n",
       "      <th>1133</th>\n",
       "      <td>MouseMingle</td>\n",
       "      <td>DATING</td>\n",
       "      <td>2.70</td>\n",
       "      <td>3</td>\n",
       "      <td>3.90</td>\n",
       "      <td>100</td>\n",
       "      <td>Free</td>\n",
       "      <td>0</td>\n",
       "      <td>Mature 17+</td>\n",
       "      <td>Dating</td>\n",
       "    </tr>\n",
       "    <tr>\n",
       "      <th>1196</th>\n",
       "      <td>Cardiac diagnosis (heart rate, arrhythmia)</td>\n",
       "      <td>MEDICAL</td>\n",
       "      <td>4.40</td>\n",
       "      <td>8</td>\n",
       "      <td>6.50</td>\n",
       "      <td>100</td>\n",
       "      <td>Paid</td>\n",
       "      <td>$12.99</td>\n",
       "      <td>Everyone</td>\n",
       "      <td>Medical</td>\n",
       "    </tr>\n",
       "    <tr>\n",
       "      <th>1231</th>\n",
       "      <td>Sway Medical</td>\n",
       "      <td>MEDICAL</td>\n",
       "      <td>5.00</td>\n",
       "      <td>3</td>\n",
       "      <td>22.00</td>\n",
       "      <td>100</td>\n",
       "      <td>Free</td>\n",
       "      <td>0</td>\n",
       "      <td>Everyone</td>\n",
       "      <td>Medical</td>\n",
       "    </tr>\n",
       "    <tr>\n",
       "      <th>1247</th>\n",
       "      <td>Chat Kids - Chat Room For Kids</td>\n",
       "      <td>DATING</td>\n",
       "      <td>4.70</td>\n",
       "      <td>6</td>\n",
       "      <td>4.90</td>\n",
       "      <td>100</td>\n",
       "      <td>Free</td>\n",
       "      <td>0</td>\n",
       "      <td>Mature 17+</td>\n",
       "      <td>Dating</td>\n",
       "    </tr>\n",
       "  </tbody>\n",
       "</table>\n",
       "</div>"
      ],
      "text/plain": [
       "                                             App Category  Rating  Reviews  \\\n",
       "946                       420 BZ Budeze Delivery  MEDICAL    5.00        2   \n",
       "1133                                 MouseMingle   DATING    2.70        3   \n",
       "1196  Cardiac diagnosis (heart rate, arrhythmia)  MEDICAL    4.40        8   \n",
       "1231                                Sway Medical  MEDICAL    5.00        3   \n",
       "1247              Chat Kids - Chat Room For Kids   DATING    4.70        6   \n",
       "\n",
       "      Size_MBs Installs  Type   Price Content_Rating   Genres  \n",
       "946      11.00      100  Free       0     Mature 17+  Medical  \n",
       "1133      3.90      100  Free       0     Mature 17+   Dating  \n",
       "1196      6.50      100  Paid  $12.99       Everyone  Medical  \n",
       "1231     22.00      100  Free       0       Everyone  Medical  \n",
       "1247      4.90      100  Free       0     Mature 17+   Dating  "
      ]
     },
     "execution_count": 9,
     "metadata": {},
     "output_type": "execute_result"
    }
   ],
   "source": [
    "duplicated_rows = df_apps_clean[df_apps_clean.duplicated()]\n",
    "print(duplicated_rows.shape)\n",
    "duplicated_rows.head()"
   ]
  },
  {
   "cell_type": "markdown",
   "id": "e40fa831",
   "metadata": {
    "papermill": {
     "duration": 0.027236,
     "end_time": "2022-11-19T13:23:30.159462",
     "exception": false,
     "start_time": "2022-11-19T13:23:30.132226",
     "status": "completed"
    },
    "tags": []
   },
   "source": [
    "We can actually check for an individual app like ‘Instagram’ by looking up all the entries with that name in the App column."
   ]
  },
  {
   "cell_type": "code",
   "execution_count": 10,
   "id": "98e96859",
   "metadata": {
    "execution": {
     "iopub.execute_input": "2022-11-19T13:23:30.216478Z",
     "iopub.status.busy": "2022-11-19T13:23:30.215654Z",
     "iopub.status.idle": "2022-11-19T13:23:30.236904Z",
     "shell.execute_reply": "2022-11-19T13:23:30.235162Z"
    },
    "id": "GK2rP7wgn53-",
    "papermill": {
     "duration": 0.053033,
     "end_time": "2022-11-19T13:23:30.239574",
     "exception": false,
     "start_time": "2022-11-19T13:23:30.186541",
     "status": "completed"
    },
    "tags": []
   },
   "outputs": [
    {
     "data": {
      "text/html": [
       "<div>\n",
       "<style scoped>\n",
       "    .dataframe tbody tr th:only-of-type {\n",
       "        vertical-align: middle;\n",
       "    }\n",
       "\n",
       "    .dataframe tbody tr th {\n",
       "        vertical-align: top;\n",
       "    }\n",
       "\n",
       "    .dataframe thead th {\n",
       "        text-align: right;\n",
       "    }\n",
       "</style>\n",
       "<table border=\"1\" class=\"dataframe\">\n",
       "  <thead>\n",
       "    <tr style=\"text-align: right;\">\n",
       "      <th></th>\n",
       "      <th>App</th>\n",
       "      <th>Category</th>\n",
       "      <th>Rating</th>\n",
       "      <th>Reviews</th>\n",
       "      <th>Size_MBs</th>\n",
       "      <th>Installs</th>\n",
       "      <th>Type</th>\n",
       "      <th>Price</th>\n",
       "      <th>Content_Rating</th>\n",
       "      <th>Genres</th>\n",
       "    </tr>\n",
       "  </thead>\n",
       "  <tbody>\n",
       "    <tr>\n",
       "      <th>10806</th>\n",
       "      <td>Instagram</td>\n",
       "      <td>SOCIAL</td>\n",
       "      <td>4.50</td>\n",
       "      <td>66577313</td>\n",
       "      <td>5.30</td>\n",
       "      <td>1,000,000,000</td>\n",
       "      <td>Free</td>\n",
       "      <td>0</td>\n",
       "      <td>Teen</td>\n",
       "      <td>Social</td>\n",
       "    </tr>\n",
       "    <tr>\n",
       "      <th>10808</th>\n",
       "      <td>Instagram</td>\n",
       "      <td>SOCIAL</td>\n",
       "      <td>4.50</td>\n",
       "      <td>66577446</td>\n",
       "      <td>5.30</td>\n",
       "      <td>1,000,000,000</td>\n",
       "      <td>Free</td>\n",
       "      <td>0</td>\n",
       "      <td>Teen</td>\n",
       "      <td>Social</td>\n",
       "    </tr>\n",
       "    <tr>\n",
       "      <th>10809</th>\n",
       "      <td>Instagram</td>\n",
       "      <td>SOCIAL</td>\n",
       "      <td>4.50</td>\n",
       "      <td>66577313</td>\n",
       "      <td>5.30</td>\n",
       "      <td>1,000,000,000</td>\n",
       "      <td>Free</td>\n",
       "      <td>0</td>\n",
       "      <td>Teen</td>\n",
       "      <td>Social</td>\n",
       "    </tr>\n",
       "    <tr>\n",
       "      <th>10810</th>\n",
       "      <td>Instagram</td>\n",
       "      <td>SOCIAL</td>\n",
       "      <td>4.50</td>\n",
       "      <td>66509917</td>\n",
       "      <td>5.30</td>\n",
       "      <td>1,000,000,000</td>\n",
       "      <td>Free</td>\n",
       "      <td>0</td>\n",
       "      <td>Teen</td>\n",
       "      <td>Social</td>\n",
       "    </tr>\n",
       "  </tbody>\n",
       "</table>\n",
       "</div>"
      ],
      "text/plain": [
       "             App Category  Rating   Reviews  Size_MBs       Installs  Type  \\\n",
       "10806  Instagram   SOCIAL    4.50  66577313      5.30  1,000,000,000  Free   \n",
       "10808  Instagram   SOCIAL    4.50  66577446      5.30  1,000,000,000  Free   \n",
       "10809  Instagram   SOCIAL    4.50  66577313      5.30  1,000,000,000  Free   \n",
       "10810  Instagram   SOCIAL    4.50  66509917      5.30  1,000,000,000  Free   \n",
       "\n",
       "      Price Content_Rating  Genres  \n",
       "10806     0           Teen  Social  \n",
       "10808     0           Teen  Social  \n",
       "10809     0           Teen  Social  \n",
       "10810     0           Teen  Social  "
      ]
     },
     "execution_count": 10,
     "metadata": {},
     "output_type": "execute_result"
    }
   ],
   "source": [
    "df_apps_clean[df_apps_clean.App == \"Instagram\"]"
   ]
  },
  {
   "cell_type": "markdown",
   "id": "9a9bd439",
   "metadata": {
    "papermill": {
     "duration": 0.031228,
     "end_time": "2022-11-19T13:23:30.312522",
     "exception": false,
     "start_time": "2022-11-19T13:23:30.281294",
     "status": "completed"
    },
    "tags": []
   },
   "source": [
    "So how do we get rid of duplicates? Can we simply call `.drop_duplicates()`?"
   ]
  },
  {
   "cell_type": "code",
   "execution_count": 11,
   "id": "efa1fd4c",
   "metadata": {
    "execution": {
     "iopub.execute_input": "2022-11-19T13:23:30.370070Z",
     "iopub.status.busy": "2022-11-19T13:23:30.369672Z",
     "iopub.status.idle": "2022-11-19T13:23:30.387906Z",
     "shell.execute_reply": "2022-11-19T13:23:30.386542Z"
    },
    "id": "Wtt09kiRn6GS",
    "papermill": {
     "duration": 0.050713,
     "end_time": "2022-11-19T13:23:30.390810",
     "exception": false,
     "start_time": "2022-11-19T13:23:30.340097",
     "status": "completed"
    },
    "tags": []
   },
   "outputs": [],
   "source": [
    "df_apps_clean = df_apps_clean.drop_duplicates()"
   ]
  },
  {
   "cell_type": "markdown",
   "id": "590da11a",
   "metadata": {
    "papermill": {
     "duration": 0.026977,
     "end_time": "2022-11-19T13:23:30.445420",
     "exception": false,
     "start_time": "2022-11-19T13:23:30.418443",
     "status": "completed"
    },
    "tags": []
   },
   "source": [
    "Not really. If we do this without specifying how to identify duplicates, we see that 3 copies of Instagram are retained because they have a different number of reviews. We need to provide the column names that should be used in the comparison to identify duplicates. For example:"
   ]
  },
  {
   "cell_type": "code",
   "execution_count": 12,
   "id": "30119d88",
   "metadata": {
    "execution": {
     "iopub.execute_input": "2022-11-19T13:23:30.502759Z",
     "iopub.status.busy": "2022-11-19T13:23:30.502340Z",
     "iopub.status.idle": "2022-11-19T13:23:30.524336Z",
     "shell.execute_reply": "2022-11-19T13:23:30.523319Z"
    },
    "id": "30yZCwtKn5xC",
    "papermill": {
     "duration": 0.053328,
     "end_time": "2022-11-19T13:23:30.526754",
     "exception": false,
     "start_time": "2022-11-19T13:23:30.473426",
     "status": "completed"
    },
    "tags": []
   },
   "outputs": [
    {
     "data": {
      "text/html": [
       "<div>\n",
       "<style scoped>\n",
       "    .dataframe tbody tr th:only-of-type {\n",
       "        vertical-align: middle;\n",
       "    }\n",
       "\n",
       "    .dataframe tbody tr th {\n",
       "        vertical-align: top;\n",
       "    }\n",
       "\n",
       "    .dataframe thead th {\n",
       "        text-align: right;\n",
       "    }\n",
       "</style>\n",
       "<table border=\"1\" class=\"dataframe\">\n",
       "  <thead>\n",
       "    <tr style=\"text-align: right;\">\n",
       "      <th></th>\n",
       "      <th>App</th>\n",
       "      <th>Category</th>\n",
       "      <th>Rating</th>\n",
       "      <th>Reviews</th>\n",
       "      <th>Size_MBs</th>\n",
       "      <th>Installs</th>\n",
       "      <th>Type</th>\n",
       "      <th>Price</th>\n",
       "      <th>Content_Rating</th>\n",
       "      <th>Genres</th>\n",
       "    </tr>\n",
       "  </thead>\n",
       "  <tbody>\n",
       "    <tr>\n",
       "      <th>10806</th>\n",
       "      <td>Instagram</td>\n",
       "      <td>SOCIAL</td>\n",
       "      <td>4.50</td>\n",
       "      <td>66577313</td>\n",
       "      <td>5.30</td>\n",
       "      <td>1,000,000,000</td>\n",
       "      <td>Free</td>\n",
       "      <td>0</td>\n",
       "      <td>Teen</td>\n",
       "      <td>Social</td>\n",
       "    </tr>\n",
       "  </tbody>\n",
       "</table>\n",
       "</div>"
      ],
      "text/plain": [
       "             App Category  Rating   Reviews  Size_MBs       Installs  Type  \\\n",
       "10806  Instagram   SOCIAL    4.50  66577313      5.30  1,000,000,000  Free   \n",
       "\n",
       "      Price Content_Rating  Genres  \n",
       "10806     0           Teen  Social  "
      ]
     },
     "execution_count": 12,
     "metadata": {},
     "output_type": "execute_result"
    }
   ],
   "source": [
    "df_apps_clean = df_apps_clean.drop_duplicates(subset=[\"App\", \"Type\", \"Price\"])\n",
    "df_apps_clean[df_apps_clean.App == \"Instagram\"]"
   ]
  },
  {
   "cell_type": "code",
   "execution_count": 13,
   "id": "56e51017",
   "metadata": {
    "execution": {
     "iopub.execute_input": "2022-11-19T13:23:30.587243Z",
     "iopub.status.busy": "2022-11-19T13:23:30.586396Z",
     "iopub.status.idle": "2022-11-19T13:23:30.593626Z",
     "shell.execute_reply": "2022-11-19T13:23:30.592328Z"
    },
    "id": "AagS_wgWn5ib",
    "papermill": {
     "duration": 0.039154,
     "end_time": "2022-11-19T13:23:30.595851",
     "exception": false,
     "start_time": "2022-11-19T13:23:30.556697",
     "status": "completed"
    },
    "tags": []
   },
   "outputs": [
    {
     "data": {
      "text/plain": [
       "(8199, 10)"
      ]
     },
     "execution_count": 13,
     "metadata": {},
     "output_type": "execute_result"
    }
   ],
   "source": [
    "df_apps_clean.shape"
   ]
  },
  {
   "cell_type": "markdown",
   "id": "b3c8e6a8",
   "metadata": {
    "papermill": {
     "duration": 0.027542,
     "end_time": "2022-11-19T13:23:30.651718",
     "exception": false,
     "start_time": "2022-11-19T13:23:30.624176",
     "status": "completed"
    },
    "tags": []
   },
   "source": [
    "This leaves us with 8,199 entries after removing duplicates. Huzzah! 💪"
   ]
  },
  {
   "cell_type": "markdown",
   "id": "e112033f",
   "metadata": {
    "papermill": {
     "duration": 0.028581,
     "end_time": "2022-11-19T13:23:30.708111",
     "exception": false,
     "start_time": "2022-11-19T13:23:30.679530",
     "status": "completed"
    },
    "tags": []
   },
   "source": [
    "**What else should I know about the data?**\n",
    "\n",
    "\n",
    "\n",
    "So we can see that 13 different features were originally scraped from the Google Play Store.\n",
    "\n",
    "\n",
    "* Obviously, the data is just a sample out of all the Android apps. It doesn't include all Android apps of which there are millions.\n",
    "\n",
    "* I’ll assume that the sample is representative of the App Store as a whole. This is not necessarily the case as, during the web scraping process, this sample was served up based on geographical location and user behaviour of the person who scraped it - in our case Lavanya Gupta.\n",
    "\n",
    "* The data was compiled around 2017/2018. The pricing data reflect the price in USD Dollars at the time of scraping. (developers can offer promotions and change their app’s pricing).\n",
    "\n",
    "* I’ve converted the app’s size to a floating-point number in MBs. If data was missing, it has been replaced by the average size for that category.\n",
    "\n",
    "* The installs are not the exact number of installs. If an app has 245,239 installs then Google will simply report an order of magnitude like 100,000+. I’ve removed the '+' and we’ll assume the exact number of installs in that column for simplicity.\n",
    "\n"
   ]
  },
  {
   "cell_type": "markdown",
   "id": "e973438e",
   "metadata": {
    "id": "GJrM69CfdiUh",
    "papermill": {
     "duration": 0.027949,
     "end_time": "2022-11-19T13:23:30.763801",
     "exception": false,
     "start_time": "2022-11-19T13:23:30.735852",
     "status": "completed"
    },
    "tags": []
   },
   "source": [
    "# Find Highest Rated Apps\n",
    "\n",
    "**Challenge**: Identify which apps are the highest rated. What problem might you encounter if you rely exclusively on ratings alone to determine the quality of an app?"
   ]
  },
  {
   "cell_type": "markdown",
   "id": "282521dd",
   "metadata": {
    "papermill": {
     "duration": 0.027451,
     "end_time": "2022-11-19T13:23:30.819065",
     "exception": false,
     "start_time": "2022-11-19T13:23:30.791614",
     "status": "completed"
    },
    "tags": []
   },
   "source": [
    "This challenge should have been fairly straightforward if you remembered to use the `.sort_values()` function."
   ]
  },
  {
   "cell_type": "code",
   "execution_count": 14,
   "id": "2db5062f",
   "metadata": {
    "execution": {
     "iopub.execute_input": "2022-11-19T13:23:30.877174Z",
     "iopub.status.busy": "2022-11-19T13:23:30.876503Z",
     "iopub.status.idle": "2022-11-19T13:23:30.893234Z",
     "shell.execute_reply": "2022-11-19T13:23:30.892187Z"
    },
    "id": "rp7vFHBMn7st",
    "papermill": {
     "duration": 0.048294,
     "end_time": "2022-11-19T13:23:30.895508",
     "exception": false,
     "start_time": "2022-11-19T13:23:30.847214",
     "status": "completed"
    },
    "tags": []
   },
   "outputs": [
    {
     "data": {
      "text/html": [
       "<div>\n",
       "<style scoped>\n",
       "    .dataframe tbody tr th:only-of-type {\n",
       "        vertical-align: middle;\n",
       "    }\n",
       "\n",
       "    .dataframe tbody tr th {\n",
       "        vertical-align: top;\n",
       "    }\n",
       "\n",
       "    .dataframe thead th {\n",
       "        text-align: right;\n",
       "    }\n",
       "</style>\n",
       "<table border=\"1\" class=\"dataframe\">\n",
       "  <thead>\n",
       "    <tr style=\"text-align: right;\">\n",
       "      <th></th>\n",
       "      <th>App</th>\n",
       "      <th>Category</th>\n",
       "      <th>Rating</th>\n",
       "      <th>Reviews</th>\n",
       "      <th>Size_MBs</th>\n",
       "      <th>Installs</th>\n",
       "      <th>Type</th>\n",
       "      <th>Price</th>\n",
       "      <th>Content_Rating</th>\n",
       "      <th>Genres</th>\n",
       "    </tr>\n",
       "  </thead>\n",
       "  <tbody>\n",
       "    <tr>\n",
       "      <th>21</th>\n",
       "      <td>KBA-EZ Health Guide</td>\n",
       "      <td>MEDICAL</td>\n",
       "      <td>5.00</td>\n",
       "      <td>4</td>\n",
       "      <td>25.00</td>\n",
       "      <td>1</td>\n",
       "      <td>Free</td>\n",
       "      <td>0</td>\n",
       "      <td>Everyone</td>\n",
       "      <td>Medical</td>\n",
       "    </tr>\n",
       "    <tr>\n",
       "      <th>1230</th>\n",
       "      <td>Sway Medical</td>\n",
       "      <td>MEDICAL</td>\n",
       "      <td>5.00</td>\n",
       "      <td>3</td>\n",
       "      <td>22.00</td>\n",
       "      <td>100</td>\n",
       "      <td>Free</td>\n",
       "      <td>0</td>\n",
       "      <td>Everyone</td>\n",
       "      <td>Medical</td>\n",
       "    </tr>\n",
       "    <tr>\n",
       "      <th>1227</th>\n",
       "      <td>AJ Men's Grooming</td>\n",
       "      <td>LIFESTYLE</td>\n",
       "      <td>5.00</td>\n",
       "      <td>2</td>\n",
       "      <td>22.00</td>\n",
       "      <td>100</td>\n",
       "      <td>Free</td>\n",
       "      <td>0</td>\n",
       "      <td>Everyone</td>\n",
       "      <td>Lifestyle</td>\n",
       "    </tr>\n",
       "    <tr>\n",
       "      <th>1224</th>\n",
       "      <td>FK Dedinje BGD</td>\n",
       "      <td>SPORTS</td>\n",
       "      <td>5.00</td>\n",
       "      <td>36</td>\n",
       "      <td>2.60</td>\n",
       "      <td>100</td>\n",
       "      <td>Free</td>\n",
       "      <td>0</td>\n",
       "      <td>Everyone</td>\n",
       "      <td>Sports</td>\n",
       "    </tr>\n",
       "    <tr>\n",
       "      <th>1223</th>\n",
       "      <td>CB VIDEO VISION</td>\n",
       "      <td>PHOTOGRAPHY</td>\n",
       "      <td>5.00</td>\n",
       "      <td>13</td>\n",
       "      <td>2.60</td>\n",
       "      <td>100</td>\n",
       "      <td>Free</td>\n",
       "      <td>0</td>\n",
       "      <td>Everyone</td>\n",
       "      <td>Photography</td>\n",
       "    </tr>\n",
       "  </tbody>\n",
       "</table>\n",
       "</div>"
      ],
      "text/plain": [
       "                      App     Category  Rating  Reviews  Size_MBs Installs  \\\n",
       "21    KBA-EZ Health Guide      MEDICAL    5.00        4     25.00        1   \n",
       "1230         Sway Medical      MEDICAL    5.00        3     22.00      100   \n",
       "1227    AJ Men's Grooming    LIFESTYLE    5.00        2     22.00      100   \n",
       "1224       FK Dedinje BGD       SPORTS    5.00       36      2.60      100   \n",
       "1223      CB VIDEO VISION  PHOTOGRAPHY    5.00       13      2.60      100   \n",
       "\n",
       "      Type Price Content_Rating       Genres  \n",
       "21    Free     0       Everyone      Medical  \n",
       "1230  Free     0       Everyone      Medical  \n",
       "1227  Free     0       Everyone    Lifestyle  \n",
       "1224  Free     0       Everyone       Sports  \n",
       "1223  Free     0       Everyone  Photography  "
      ]
     },
     "execution_count": 14,
     "metadata": {},
     "output_type": "execute_result"
    }
   ],
   "source": [
    "df_apps_clean.sort_values('Rating', ascending=False).head()"
   ]
  },
  {
   "cell_type": "markdown",
   "id": "742aa602",
   "metadata": {
    "id": "28o1Tro4diUi",
    "papermill": {
     "duration": 0.027807,
     "end_time": "2022-11-19T13:23:30.951510",
     "exception": false,
     "start_time": "2022-11-19T13:23:30.923703",
     "status": "completed"
    },
    "tags": []
   },
   "source": [
    "# Find 5 Largest Apps in terms of Size (MBs)\n",
    "\n",
    "**Challenge**: What's the size in megabytes (MB) of the largest Android apps in the Google Play Store. Based on the data, do you think there could be limit in place or can developers make apps as large as they please? "
   ]
  },
  {
   "cell_type": "markdown",
   "id": "adcb4a2b",
   "metadata": {
    "papermill": {
     "duration": 0.027588,
     "end_time": "2022-11-19T13:23:31.007112",
     "exception": false,
     "start_time": "2022-11-19T13:23:30.979524",
     "status": "completed"
    },
    "tags": []
   },
   "source": [
    "Only apps with very few reviews (and a low number on installs) have perfect 5 star ratings (most likely by friends and family)."
   ]
  },
  {
   "cell_type": "code",
   "execution_count": 15,
   "id": "fd519b25",
   "metadata": {
    "execution": {
     "iopub.execute_input": "2022-11-19T13:23:31.066268Z",
     "iopub.status.busy": "2022-11-19T13:23:31.065824Z",
     "iopub.status.idle": "2022-11-19T13:23:31.084109Z",
     "shell.execute_reply": "2022-11-19T13:23:31.082931Z"
    },
    "id": "n5r0pJCOn9Vu",
    "papermill": {
     "duration": 0.051482,
     "end_time": "2022-11-19T13:23:31.086610",
     "exception": false,
     "start_time": "2022-11-19T13:23:31.035128",
     "status": "completed"
    },
    "tags": []
   },
   "outputs": [
    {
     "data": {
      "text/html": [
       "<div>\n",
       "<style scoped>\n",
       "    .dataframe tbody tr th:only-of-type {\n",
       "        vertical-align: middle;\n",
       "    }\n",
       "\n",
       "    .dataframe tbody tr th {\n",
       "        vertical-align: top;\n",
       "    }\n",
       "\n",
       "    .dataframe thead th {\n",
       "        text-align: right;\n",
       "    }\n",
       "</style>\n",
       "<table border=\"1\" class=\"dataframe\">\n",
       "  <thead>\n",
       "    <tr style=\"text-align: right;\">\n",
       "      <th></th>\n",
       "      <th>App</th>\n",
       "      <th>Category</th>\n",
       "      <th>Rating</th>\n",
       "      <th>Reviews</th>\n",
       "      <th>Size_MBs</th>\n",
       "      <th>Installs</th>\n",
       "      <th>Type</th>\n",
       "      <th>Price</th>\n",
       "      <th>Content_Rating</th>\n",
       "      <th>Genres</th>\n",
       "    </tr>\n",
       "  </thead>\n",
       "  <tbody>\n",
       "    <tr>\n",
       "      <th>9942</th>\n",
       "      <td>Talking Babsy Baby: Baby Games</td>\n",
       "      <td>LIFESTYLE</td>\n",
       "      <td>4.00</td>\n",
       "      <td>140995</td>\n",
       "      <td>100.00</td>\n",
       "      <td>10,000,000</td>\n",
       "      <td>Free</td>\n",
       "      <td>0</td>\n",
       "      <td>Everyone</td>\n",
       "      <td>Lifestyle;Pretend Play</td>\n",
       "    </tr>\n",
       "    <tr>\n",
       "      <th>10687</th>\n",
       "      <td>Hungry Shark Evolution</td>\n",
       "      <td>GAME</td>\n",
       "      <td>4.50</td>\n",
       "      <td>6074334</td>\n",
       "      <td>100.00</td>\n",
       "      <td>100,000,000</td>\n",
       "      <td>Free</td>\n",
       "      <td>0</td>\n",
       "      <td>Teen</td>\n",
       "      <td>Arcade</td>\n",
       "    </tr>\n",
       "    <tr>\n",
       "      <th>9943</th>\n",
       "      <td>Miami crime simulator</td>\n",
       "      <td>GAME</td>\n",
       "      <td>4.00</td>\n",
       "      <td>254518</td>\n",
       "      <td>100.00</td>\n",
       "      <td>10,000,000</td>\n",
       "      <td>Free</td>\n",
       "      <td>0</td>\n",
       "      <td>Mature 17+</td>\n",
       "      <td>Action</td>\n",
       "    </tr>\n",
       "    <tr>\n",
       "      <th>9944</th>\n",
       "      <td>Gangster Town: Vice District</td>\n",
       "      <td>FAMILY</td>\n",
       "      <td>4.30</td>\n",
       "      <td>65146</td>\n",
       "      <td>100.00</td>\n",
       "      <td>10,000,000</td>\n",
       "      <td>Free</td>\n",
       "      <td>0</td>\n",
       "      <td>Mature 17+</td>\n",
       "      <td>Simulation</td>\n",
       "    </tr>\n",
       "    <tr>\n",
       "      <th>3144</th>\n",
       "      <td>Vi Trainer</td>\n",
       "      <td>HEALTH_AND_FITNESS</td>\n",
       "      <td>3.60</td>\n",
       "      <td>124</td>\n",
       "      <td>100.00</td>\n",
       "      <td>5,000</td>\n",
       "      <td>Free</td>\n",
       "      <td>0</td>\n",
       "      <td>Everyone</td>\n",
       "      <td>Health &amp; Fitness</td>\n",
       "    </tr>\n",
       "  </tbody>\n",
       "</table>\n",
       "</div>"
      ],
      "text/plain": [
       "                                  App            Category  Rating  Reviews  \\\n",
       "9942   Talking Babsy Baby: Baby Games           LIFESTYLE    4.00   140995   \n",
       "10687          Hungry Shark Evolution                GAME    4.50  6074334   \n",
       "9943            Miami crime simulator                GAME    4.00   254518   \n",
       "9944     Gangster Town: Vice District              FAMILY    4.30    65146   \n",
       "3144                       Vi Trainer  HEALTH_AND_FITNESS    3.60      124   \n",
       "\n",
       "       Size_MBs     Installs  Type Price Content_Rating  \\\n",
       "9942     100.00   10,000,000  Free     0       Everyone   \n",
       "10687    100.00  100,000,000  Free     0           Teen   \n",
       "9943     100.00   10,000,000  Free     0     Mature 17+   \n",
       "9944     100.00   10,000,000  Free     0     Mature 17+   \n",
       "3144     100.00        5,000  Free     0       Everyone   \n",
       "\n",
       "                       Genres  \n",
       "9942   Lifestyle;Pretend Play  \n",
       "10687                  Arcade  \n",
       "9943                   Action  \n",
       "9944               Simulation  \n",
       "3144         Health & Fitness  "
      ]
     },
     "execution_count": 15,
     "metadata": {},
     "output_type": "execute_result"
    }
   ],
   "source": [
    "df_apps_clean.sort_values('Size_MBs', ascending=False).head()"
   ]
  },
  {
   "cell_type": "markdown",
   "id": "34803503",
   "metadata": {
    "id": "C3gTckh7diUk",
    "papermill": {
     "duration": 0.028121,
     "end_time": "2022-11-19T13:23:31.143423",
     "exception": false,
     "start_time": "2022-11-19T13:23:31.115302",
     "status": "completed"
    },
    "tags": []
   },
   "source": [
    "# Find the 5 App with Most Reviews\n",
    "\n",
    "**Challenge**: Which apps have the highest number of reviews? Are there any paid apps among the top 50?"
   ]
  },
  {
   "cell_type": "markdown",
   "id": "0c0c579d",
   "metadata": {
    "papermill": {
     "duration": 0.029139,
     "end_time": "2022-11-19T13:23:31.200823",
     "exception": false,
     "start_time": "2022-11-19T13:23:31.171684",
     "status": "completed"
    },
    "tags": []
   },
   "source": [
    "Here we can clearly see that there seems to be an upper bound of 100 MB for the size of an app. A quick google search would also have revealed that this limit is imposed by the Google Play Store itself. It’s interesting to see that a number of apps actually hit that limit exactly."
   ]
  },
  {
   "cell_type": "code",
   "execution_count": 16,
   "id": "559171e1",
   "metadata": {
    "execution": {
     "iopub.execute_input": "2022-11-19T13:23:31.261247Z",
     "iopub.status.busy": "2022-11-19T13:23:31.260476Z",
     "iopub.status.idle": "2022-11-19T13:23:31.290221Z",
     "shell.execute_reply": "2022-11-19T13:23:31.289039Z"
    },
    "id": "TLt98G0Sn_De",
    "papermill": {
     "duration": 0.062995,
     "end_time": "2022-11-19T13:23:31.293124",
     "exception": false,
     "start_time": "2022-11-19T13:23:31.230129",
     "status": "completed"
    },
    "tags": []
   },
   "outputs": [
    {
     "data": {
      "text/html": [
       "<div>\n",
       "<style scoped>\n",
       "    .dataframe tbody tr th:only-of-type {\n",
       "        vertical-align: middle;\n",
       "    }\n",
       "\n",
       "    .dataframe tbody tr th {\n",
       "        vertical-align: top;\n",
       "    }\n",
       "\n",
       "    .dataframe thead th {\n",
       "        text-align: right;\n",
       "    }\n",
       "</style>\n",
       "<table border=\"1\" class=\"dataframe\">\n",
       "  <thead>\n",
       "    <tr style=\"text-align: right;\">\n",
       "      <th></th>\n",
       "      <th>App</th>\n",
       "      <th>Category</th>\n",
       "      <th>Rating</th>\n",
       "      <th>Reviews</th>\n",
       "      <th>Size_MBs</th>\n",
       "      <th>Installs</th>\n",
       "      <th>Type</th>\n",
       "      <th>Price</th>\n",
       "      <th>Content_Rating</th>\n",
       "      <th>Genres</th>\n",
       "    </tr>\n",
       "  </thead>\n",
       "  <tbody>\n",
       "    <tr>\n",
       "      <th>10805</th>\n",
       "      <td>Facebook</td>\n",
       "      <td>SOCIAL</td>\n",
       "      <td>4.10</td>\n",
       "      <td>78158306</td>\n",
       "      <td>5.30</td>\n",
       "      <td>1,000,000,000</td>\n",
       "      <td>Free</td>\n",
       "      <td>0</td>\n",
       "      <td>Teen</td>\n",
       "      <td>Social</td>\n",
       "    </tr>\n",
       "    <tr>\n",
       "      <th>10785</th>\n",
       "      <td>WhatsApp Messenger</td>\n",
       "      <td>COMMUNICATION</td>\n",
       "      <td>4.40</td>\n",
       "      <td>69119316</td>\n",
       "      <td>3.50</td>\n",
       "      <td>1,000,000,000</td>\n",
       "      <td>Free</td>\n",
       "      <td>0</td>\n",
       "      <td>Everyone</td>\n",
       "      <td>Communication</td>\n",
       "    </tr>\n",
       "    <tr>\n",
       "      <th>10806</th>\n",
       "      <td>Instagram</td>\n",
       "      <td>SOCIAL</td>\n",
       "      <td>4.50</td>\n",
       "      <td>66577313</td>\n",
       "      <td>5.30</td>\n",
       "      <td>1,000,000,000</td>\n",
       "      <td>Free</td>\n",
       "      <td>0</td>\n",
       "      <td>Teen</td>\n",
       "      <td>Social</td>\n",
       "    </tr>\n",
       "    <tr>\n",
       "      <th>10784</th>\n",
       "      <td>Messenger – Text and Video Chat for Free</td>\n",
       "      <td>COMMUNICATION</td>\n",
       "      <td>4.00</td>\n",
       "      <td>56642847</td>\n",
       "      <td>3.50</td>\n",
       "      <td>1,000,000,000</td>\n",
       "      <td>Free</td>\n",
       "      <td>0</td>\n",
       "      <td>Everyone</td>\n",
       "      <td>Communication</td>\n",
       "    </tr>\n",
       "    <tr>\n",
       "      <th>10650</th>\n",
       "      <td>Clash of Clans</td>\n",
       "      <td>GAME</td>\n",
       "      <td>4.60</td>\n",
       "      <td>44891723</td>\n",
       "      <td>98.00</td>\n",
       "      <td>100,000,000</td>\n",
       "      <td>Free</td>\n",
       "      <td>0</td>\n",
       "      <td>Everyone 10+</td>\n",
       "      <td>Strategy</td>\n",
       "    </tr>\n",
       "    <tr>\n",
       "      <th>10744</th>\n",
       "      <td>Clean Master- Space Cleaner &amp; Antivirus</td>\n",
       "      <td>TOOLS</td>\n",
       "      <td>4.70</td>\n",
       "      <td>42916526</td>\n",
       "      <td>3.40</td>\n",
       "      <td>500,000,000</td>\n",
       "      <td>Free</td>\n",
       "      <td>0</td>\n",
       "      <td>Everyone</td>\n",
       "      <td>Tools</td>\n",
       "    </tr>\n",
       "    <tr>\n",
       "      <th>10835</th>\n",
       "      <td>Subway Surfers</td>\n",
       "      <td>GAME</td>\n",
       "      <td>4.50</td>\n",
       "      <td>27722264</td>\n",
       "      <td>76.00</td>\n",
       "      <td>1,000,000,000</td>\n",
       "      <td>Free</td>\n",
       "      <td>0</td>\n",
       "      <td>Everyone 10+</td>\n",
       "      <td>Arcade</td>\n",
       "    </tr>\n",
       "    <tr>\n",
       "      <th>10828</th>\n",
       "      <td>YouTube</td>\n",
       "      <td>VIDEO_PLAYERS</td>\n",
       "      <td>4.30</td>\n",
       "      <td>25655305</td>\n",
       "      <td>4.65</td>\n",
       "      <td>1,000,000,000</td>\n",
       "      <td>Free</td>\n",
       "      <td>0</td>\n",
       "      <td>Teen</td>\n",
       "      <td>Video Players &amp; Editors</td>\n",
       "    </tr>\n",
       "    <tr>\n",
       "      <th>10746</th>\n",
       "      <td>Security Master - Antivirus, VPN, AppLock, Boo...</td>\n",
       "      <td>TOOLS</td>\n",
       "      <td>4.70</td>\n",
       "      <td>24900999</td>\n",
       "      <td>3.40</td>\n",
       "      <td>500,000,000</td>\n",
       "      <td>Free</td>\n",
       "      <td>0</td>\n",
       "      <td>Everyone</td>\n",
       "      <td>Tools</td>\n",
       "    </tr>\n",
       "    <tr>\n",
       "      <th>10584</th>\n",
       "      <td>Clash Royale</td>\n",
       "      <td>GAME</td>\n",
       "      <td>4.60</td>\n",
       "      <td>23133508</td>\n",
       "      <td>97.00</td>\n",
       "      <td>100,000,000</td>\n",
       "      <td>Free</td>\n",
       "      <td>0</td>\n",
       "      <td>Everyone 10+</td>\n",
       "      <td>Strategy</td>\n",
       "    </tr>\n",
       "    <tr>\n",
       "      <th>10763</th>\n",
       "      <td>Candy Crush Saga</td>\n",
       "      <td>GAME</td>\n",
       "      <td>4.40</td>\n",
       "      <td>22426677</td>\n",
       "      <td>74.00</td>\n",
       "      <td>500,000,000</td>\n",
       "      <td>Free</td>\n",
       "      <td>0</td>\n",
       "      <td>Everyone</td>\n",
       "      <td>Casual</td>\n",
       "    </tr>\n",
       "    <tr>\n",
       "      <th>10770</th>\n",
       "      <td>UC Browser - Fast Download Private &amp; Secure</td>\n",
       "      <td>COMMUNICATION</td>\n",
       "      <td>4.50</td>\n",
       "      <td>17712922</td>\n",
       "      <td>40.00</td>\n",
       "      <td>500,000,000</td>\n",
       "      <td>Free</td>\n",
       "      <td>0</td>\n",
       "      <td>Teen</td>\n",
       "      <td>Communication</td>\n",
       "    </tr>\n",
       "    <tr>\n",
       "      <th>10735</th>\n",
       "      <td>Snapchat</td>\n",
       "      <td>SOCIAL</td>\n",
       "      <td>4.00</td>\n",
       "      <td>17014787</td>\n",
       "      <td>5.30</td>\n",
       "      <td>500,000,000</td>\n",
       "      <td>Free</td>\n",
       "      <td>0</td>\n",
       "      <td>Teen</td>\n",
       "      <td>Social</td>\n",
       "    </tr>\n",
       "    <tr>\n",
       "      <th>10489</th>\n",
       "      <td>360 Security - Free Antivirus, Booster, Cleaner</td>\n",
       "      <td>TOOLS</td>\n",
       "      <td>4.60</td>\n",
       "      <td>16771865</td>\n",
       "      <td>3.40</td>\n",
       "      <td>100,000,000</td>\n",
       "      <td>Free</td>\n",
       "      <td>0</td>\n",
       "      <td>Everyone</td>\n",
       "      <td>Tools</td>\n",
       "    </tr>\n",
       "    <tr>\n",
       "      <th>10731</th>\n",
       "      <td>My Talking Tom</td>\n",
       "      <td>GAME</td>\n",
       "      <td>4.50</td>\n",
       "      <td>14891223</td>\n",
       "      <td>36.00</td>\n",
       "      <td>500,000,000</td>\n",
       "      <td>Free</td>\n",
       "      <td>0</td>\n",
       "      <td>Everyone</td>\n",
       "      <td>Casual</td>\n",
       "    </tr>\n",
       "    <tr>\n",
       "      <th>10594</th>\n",
       "      <td>8 Ball Pool</td>\n",
       "      <td>GAME</td>\n",
       "      <td>4.50</td>\n",
       "      <td>14198297</td>\n",
       "      <td>52.00</td>\n",
       "      <td>100,000,000</td>\n",
       "      <td>Free</td>\n",
       "      <td>0</td>\n",
       "      <td>Everyone</td>\n",
       "      <td>Sports</td>\n",
       "    </tr>\n",
       "    <tr>\n",
       "      <th>10302</th>\n",
       "      <td>DU Battery Saver - Battery Charger &amp; Battery Life</td>\n",
       "      <td>TOOLS</td>\n",
       "      <td>4.50</td>\n",
       "      <td>13479633</td>\n",
       "      <td>14.00</td>\n",
       "      <td>100,000,000</td>\n",
       "      <td>Free</td>\n",
       "      <td>0</td>\n",
       "      <td>Everyone</td>\n",
       "      <td>Tools</td>\n",
       "    </tr>\n",
       "    <tr>\n",
       "      <th>10354</th>\n",
       "      <td>BBM - Free Calls &amp; Messages</td>\n",
       "      <td>COMMUNICATION</td>\n",
       "      <td>4.30</td>\n",
       "      <td>12842860</td>\n",
       "      <td>3.50</td>\n",
       "      <td>100,000,000</td>\n",
       "      <td>Free</td>\n",
       "      <td>0</td>\n",
       "      <td>Everyone</td>\n",
       "      <td>Communication</td>\n",
       "    </tr>\n",
       "    <tr>\n",
       "      <th>10549</th>\n",
       "      <td>Cache Cleaner-DU Speed Booster (booster &amp; clea...</td>\n",
       "      <td>TOOLS</td>\n",
       "      <td>4.50</td>\n",
       "      <td>12759663</td>\n",
       "      <td>15.00</td>\n",
       "      <td>100,000,000</td>\n",
       "      <td>Free</td>\n",
       "      <td>0</td>\n",
       "      <td>Everyone</td>\n",
       "      <td>Tools</td>\n",
       "    </tr>\n",
       "    <tr>\n",
       "      <th>10757</th>\n",
       "      <td>Twitter</td>\n",
       "      <td>NEWS_AND_MAGAZINES</td>\n",
       "      <td>4.30</td>\n",
       "      <td>11667403</td>\n",
       "      <td>6.30</td>\n",
       "      <td>500,000,000</td>\n",
       "      <td>Free</td>\n",
       "      <td>0</td>\n",
       "      <td>Mature 17+</td>\n",
       "      <td>News &amp; Magazines</td>\n",
       "    </tr>\n",
       "    <tr>\n",
       "      <th>10721</th>\n",
       "      <td>Viber Messenger</td>\n",
       "      <td>COMMUNICATION</td>\n",
       "      <td>4.30</td>\n",
       "      <td>11334799</td>\n",
       "      <td>3.50</td>\n",
       "      <td>500,000,000</td>\n",
       "      <td>Free</td>\n",
       "      <td>0</td>\n",
       "      <td>Everyone</td>\n",
       "      <td>Communication</td>\n",
       "    </tr>\n",
       "    <tr>\n",
       "      <th>10578</th>\n",
       "      <td>Shadow Fight 2</td>\n",
       "      <td>GAME</td>\n",
       "      <td>4.60</td>\n",
       "      <td>10979062</td>\n",
       "      <td>88.00</td>\n",
       "      <td>100,000,000</td>\n",
       "      <td>Free</td>\n",
       "      <td>0</td>\n",
       "      <td>Everyone 10+</td>\n",
       "      <td>Action</td>\n",
       "    </tr>\n",
       "    <tr>\n",
       "      <th>10813</th>\n",
       "      <td>Google Photos</td>\n",
       "      <td>PHOTOGRAPHY</td>\n",
       "      <td>4.50</td>\n",
       "      <td>10858556</td>\n",
       "      <td>6.90</td>\n",
       "      <td>1,000,000,000</td>\n",
       "      <td>Free</td>\n",
       "      <td>0</td>\n",
       "      <td>Everyone</td>\n",
       "      <td>Photography</td>\n",
       "    </tr>\n",
       "    <tr>\n",
       "      <th>10724</th>\n",
       "      <td>LINE: Free Calls &amp; Messages</td>\n",
       "      <td>COMMUNICATION</td>\n",
       "      <td>4.20</td>\n",
       "      <td>10790289</td>\n",
       "      <td>3.50</td>\n",
       "      <td>500,000,000</td>\n",
       "      <td>Free</td>\n",
       "      <td>0</td>\n",
       "      <td>Everyone</td>\n",
       "      <td>Communication</td>\n",
       "    </tr>\n",
       "    <tr>\n",
       "      <th>10717</th>\n",
       "      <td>Pou</td>\n",
       "      <td>GAME</td>\n",
       "      <td>4.30</td>\n",
       "      <td>10485308</td>\n",
       "      <td>24.00</td>\n",
       "      <td>500,000,000</td>\n",
       "      <td>Free</td>\n",
       "      <td>0</td>\n",
       "      <td>Everyone</td>\n",
       "      <td>Casual</td>\n",
       "    </tr>\n",
       "    <tr>\n",
       "      <th>10792</th>\n",
       "      <td>Skype - free IM &amp; video calls</td>\n",
       "      <td>COMMUNICATION</td>\n",
       "      <td>4.10</td>\n",
       "      <td>10484169</td>\n",
       "      <td>3.50</td>\n",
       "      <td>1,000,000,000</td>\n",
       "      <td>Free</td>\n",
       "      <td>0</td>\n",
       "      <td>Everyone</td>\n",
       "      <td>Communication</td>\n",
       "    </tr>\n",
       "    <tr>\n",
       "      <th>10628</th>\n",
       "      <td>Pokémon GO</td>\n",
       "      <td>GAME</td>\n",
       "      <td>4.10</td>\n",
       "      <td>10424925</td>\n",
       "      <td>85.00</td>\n",
       "      <td>100,000,000</td>\n",
       "      <td>Free</td>\n",
       "      <td>0</td>\n",
       "      <td>Everyone</td>\n",
       "      <td>Adventure</td>\n",
       "    </tr>\n",
       "    <tr>\n",
       "      <th>10388</th>\n",
       "      <td>Minion Rush: Despicable Me Official Game</td>\n",
       "      <td>GAME</td>\n",
       "      <td>4.50</td>\n",
       "      <td>10216538</td>\n",
       "      <td>36.00</td>\n",
       "      <td>100,000,000</td>\n",
       "      <td>Free</td>\n",
       "      <td>0</td>\n",
       "      <td>Everyone 10+</td>\n",
       "      <td>Casual;Action &amp; Adventure</td>\n",
       "    </tr>\n",
       "    <tr>\n",
       "      <th>10694</th>\n",
       "      <td>Yes day</td>\n",
       "      <td>GAME</td>\n",
       "      <td>4.50</td>\n",
       "      <td>10055521</td>\n",
       "      <td>94.00</td>\n",
       "      <td>100,000,000</td>\n",
       "      <td>Free</td>\n",
       "      <td>0</td>\n",
       "      <td>Everyone</td>\n",
       "      <td>Casual</td>\n",
       "    </tr>\n",
       "    <tr>\n",
       "      <th>10695</th>\n",
       "      <td>Hay Day</td>\n",
       "      <td>FAMILY</td>\n",
       "      <td>4.50</td>\n",
       "      <td>10053186</td>\n",
       "      <td>94.00</td>\n",
       "      <td>100,000,000</td>\n",
       "      <td>Free</td>\n",
       "      <td>0</td>\n",
       "      <td>Everyone</td>\n",
       "      <td>Casual</td>\n",
       "    </tr>\n",
       "    <tr>\n",
       "      <th>10644</th>\n",
       "      <td>Dream League Soccer 2018</td>\n",
       "      <td>GAME</td>\n",
       "      <td>4.60</td>\n",
       "      <td>9882639</td>\n",
       "      <td>74.00</td>\n",
       "      <td>100,000,000</td>\n",
       "      <td>Free</td>\n",
       "      <td>0</td>\n",
       "      <td>Everyone</td>\n",
       "      <td>Sports</td>\n",
       "    </tr>\n",
       "    <tr>\n",
       "      <th>10696</th>\n",
       "      <td>My Talking Angela</td>\n",
       "      <td>GAME</td>\n",
       "      <td>4.50</td>\n",
       "      <td>9881829</td>\n",
       "      <td>99.00</td>\n",
       "      <td>100,000,000</td>\n",
       "      <td>Free</td>\n",
       "      <td>0</td>\n",
       "      <td>Everyone</td>\n",
       "      <td>Casual</td>\n",
       "    </tr>\n",
       "    <tr>\n",
       "      <th>10660</th>\n",
       "      <td>VivaVideo - Video Editor &amp; Photo Movie</td>\n",
       "      <td>VIDEO_PLAYERS</td>\n",
       "      <td>4.60</td>\n",
       "      <td>9879473</td>\n",
       "      <td>40.00</td>\n",
       "      <td>100,000,000</td>\n",
       "      <td>Free</td>\n",
       "      <td>0</td>\n",
       "      <td>Teen</td>\n",
       "      <td>Video Players &amp; Editors</td>\n",
       "    </tr>\n",
       "    <tr>\n",
       "      <th>10786</th>\n",
       "      <td>Google Chrome: Fast &amp; Secure</td>\n",
       "      <td>COMMUNICATION</td>\n",
       "      <td>4.30</td>\n",
       "      <td>9642995</td>\n",
       "      <td>3.50</td>\n",
       "      <td>1,000,000,000</td>\n",
       "      <td>Free</td>\n",
       "      <td>0</td>\n",
       "      <td>Everyone</td>\n",
       "      <td>Communication</td>\n",
       "    </tr>\n",
       "    <tr>\n",
       "      <th>10817</th>\n",
       "      <td>Maps - Navigate &amp; Explore</td>\n",
       "      <td>TRAVEL_AND_LOCAL</td>\n",
       "      <td>4.30</td>\n",
       "      <td>9235155</td>\n",
       "      <td>12.00</td>\n",
       "      <td>1,000,000,000</td>\n",
       "      <td>Free</td>\n",
       "      <td>0</td>\n",
       "      <td>Everyone</td>\n",
       "      <td>Travel &amp; Local</td>\n",
       "    </tr>\n",
       "    <tr>\n",
       "      <th>10672</th>\n",
       "      <td>Hill Climb Racing</td>\n",
       "      <td>GAME</td>\n",
       "      <td>4.40</td>\n",
       "      <td>8923587</td>\n",
       "      <td>63.00</td>\n",
       "      <td>100,000,000</td>\n",
       "      <td>Free</td>\n",
       "      <td>0</td>\n",
       "      <td>Everyone</td>\n",
       "      <td>Racing</td>\n",
       "    </tr>\n",
       "    <tr>\n",
       "      <th>10734</th>\n",
       "      <td>Facebook Lite</td>\n",
       "      <td>SOCIAL</td>\n",
       "      <td>4.30</td>\n",
       "      <td>8606259</td>\n",
       "      <td>5.30</td>\n",
       "      <td>500,000,000</td>\n",
       "      <td>Free</td>\n",
       "      <td>0</td>\n",
       "      <td>Teen</td>\n",
       "      <td>Social</td>\n",
       "    </tr>\n",
       "    <tr>\n",
       "      <th>10649</th>\n",
       "      <td>Asphalt 8: Airborne</td>\n",
       "      <td>GAME</td>\n",
       "      <td>4.50</td>\n",
       "      <td>8389714</td>\n",
       "      <td>92.00</td>\n",
       "      <td>100,000,000</td>\n",
       "      <td>Free</td>\n",
       "      <td>0</td>\n",
       "      <td>Teen</td>\n",
       "      <td>Racing</td>\n",
       "    </tr>\n",
       "    <tr>\n",
       "      <th>10699</th>\n",
       "      <td>Mobile Legends: Bang Bang</td>\n",
       "      <td>GAME</td>\n",
       "      <td>4.40</td>\n",
       "      <td>8219586</td>\n",
       "      <td>99.00</td>\n",
       "      <td>100,000,000</td>\n",
       "      <td>Free</td>\n",
       "      <td>0</td>\n",
       "      <td>Teen</td>\n",
       "      <td>Action</td>\n",
       "    </tr>\n",
       "    <tr>\n",
       "      <th>10322</th>\n",
       "      <td>Battery Doctor-Battery Life Saver &amp; Battery Co...</td>\n",
       "      <td>TOOLS</td>\n",
       "      <td>4.50</td>\n",
       "      <td>8190074</td>\n",
       "      <td>17.00</td>\n",
       "      <td>100,000,000</td>\n",
       "      <td>Free</td>\n",
       "      <td>0</td>\n",
       "      <td>Everyone</td>\n",
       "      <td>Tools</td>\n",
       "    </tr>\n",
       "    <tr>\n",
       "      <th>10396</th>\n",
       "      <td>Piano Tiles 2™</td>\n",
       "      <td>GAME</td>\n",
       "      <td>4.70</td>\n",
       "      <td>8118880</td>\n",
       "      <td>36.00</td>\n",
       "      <td>100,000,000</td>\n",
       "      <td>Free</td>\n",
       "      <td>0</td>\n",
       "      <td>Everyone</td>\n",
       "      <td>Arcade</td>\n",
       "    </tr>\n",
       "    <tr>\n",
       "      <th>10777</th>\n",
       "      <td>Temple Run 2</td>\n",
       "      <td>GAME</td>\n",
       "      <td>4.30</td>\n",
       "      <td>8118609</td>\n",
       "      <td>62.00</td>\n",
       "      <td>500,000,000</td>\n",
       "      <td>Free</td>\n",
       "      <td>0</td>\n",
       "      <td>Everyone</td>\n",
       "      <td>Action</td>\n",
       "    </tr>\n",
       "    <tr>\n",
       "      <th>10822</th>\n",
       "      <td>Google</td>\n",
       "      <td>TOOLS</td>\n",
       "      <td>4.40</td>\n",
       "      <td>8033493</td>\n",
       "      <td>3.40</td>\n",
       "      <td>1,000,000,000</td>\n",
       "      <td>Free</td>\n",
       "      <td>0</td>\n",
       "      <td>Everyone</td>\n",
       "      <td>Tools</td>\n",
       "    </tr>\n",
       "    <tr>\n",
       "      <th>10359</th>\n",
       "      <td>Truecaller: Caller ID, SMS spam blocking &amp; Dialer</td>\n",
       "      <td>COMMUNICATION</td>\n",
       "      <td>4.50</td>\n",
       "      <td>7820209</td>\n",
       "      <td>3.50</td>\n",
       "      <td>100,000,000</td>\n",
       "      <td>Free</td>\n",
       "      <td>0</td>\n",
       "      <td>Everyone</td>\n",
       "      <td>Communication</td>\n",
       "    </tr>\n",
       "    <tr>\n",
       "      <th>10711</th>\n",
       "      <td>SHAREit - Transfer &amp; Share</td>\n",
       "      <td>TOOLS</td>\n",
       "      <td>4.60</td>\n",
       "      <td>7790693</td>\n",
       "      <td>17.00</td>\n",
       "      <td>500,000,000</td>\n",
       "      <td>Free</td>\n",
       "      <td>0</td>\n",
       "      <td>Everyone</td>\n",
       "      <td>Tools</td>\n",
       "    </tr>\n",
       "    <tr>\n",
       "      <th>10389</th>\n",
       "      <td>Sniper 3D Gun Shooter: Free Shooting Games - FPS</td>\n",
       "      <td>GAME</td>\n",
       "      <td>4.60</td>\n",
       "      <td>7671249</td>\n",
       "      <td>36.00</td>\n",
       "      <td>100,000,000</td>\n",
       "      <td>Free</td>\n",
       "      <td>0</td>\n",
       "      <td>Mature 17+</td>\n",
       "      <td>Action</td>\n",
       "    </tr>\n",
       "    <tr>\n",
       "      <th>10676</th>\n",
       "      <td>Farm Heroes Saga</td>\n",
       "      <td>GAME</td>\n",
       "      <td>4.40</td>\n",
       "      <td>7614130</td>\n",
       "      <td>70.00</td>\n",
       "      <td>100,000,000</td>\n",
       "      <td>Free</td>\n",
       "      <td>0</td>\n",
       "      <td>Everyone</td>\n",
       "      <td>Casual</td>\n",
       "    </tr>\n",
       "    <tr>\n",
       "      <th>10576</th>\n",
       "      <td>PicsArt Photo Studio: Collage Maker &amp; Pic Editor</td>\n",
       "      <td>PHOTOGRAPHY</td>\n",
       "      <td>4.50</td>\n",
       "      <td>7594559</td>\n",
       "      <td>34.00</td>\n",
       "      <td>100,000,000</td>\n",
       "      <td>Free</td>\n",
       "      <td>0</td>\n",
       "      <td>Teen</td>\n",
       "      <td>Photography</td>\n",
       "    </tr>\n",
       "    <tr>\n",
       "      <th>10461</th>\n",
       "      <td>PhotoGrid: Video &amp; Pic Collage Maker, Photo Ed...</td>\n",
       "      <td>PHOTOGRAPHY</td>\n",
       "      <td>4.60</td>\n",
       "      <td>7529865</td>\n",
       "      <td>6.90</td>\n",
       "      <td>100,000,000</td>\n",
       "      <td>Free</td>\n",
       "      <td>0</td>\n",
       "      <td>Everyone</td>\n",
       "      <td>Photography</td>\n",
       "    </tr>\n",
       "    <tr>\n",
       "      <th>10502</th>\n",
       "      <td>GO Launcher - 3D parallax Themes &amp; HD Wallpapers</td>\n",
       "      <td>PERSONALIZATION</td>\n",
       "      <td>4.50</td>\n",
       "      <td>7464996</td>\n",
       "      <td>6.15</td>\n",
       "      <td>100,000,000</td>\n",
       "      <td>Free</td>\n",
       "      <td>0</td>\n",
       "      <td>Everyone</td>\n",
       "      <td>Personalization</td>\n",
       "    </tr>\n",
       "  </tbody>\n",
       "</table>\n",
       "</div>"
      ],
      "text/plain": [
       "                                                     App            Category  \\\n",
       "10805                                           Facebook              SOCIAL   \n",
       "10785                                 WhatsApp Messenger       COMMUNICATION   \n",
       "10806                                          Instagram              SOCIAL   \n",
       "10784           Messenger – Text and Video Chat for Free       COMMUNICATION   \n",
       "10650                                     Clash of Clans                GAME   \n",
       "10744            Clean Master- Space Cleaner & Antivirus               TOOLS   \n",
       "10835                                     Subway Surfers                GAME   \n",
       "10828                                            YouTube       VIDEO_PLAYERS   \n",
       "10746  Security Master - Antivirus, VPN, AppLock, Boo...               TOOLS   \n",
       "10584                                       Clash Royale                GAME   \n",
       "10763                                   Candy Crush Saga                GAME   \n",
       "10770        UC Browser - Fast Download Private & Secure       COMMUNICATION   \n",
       "10735                                           Snapchat              SOCIAL   \n",
       "10489    360 Security - Free Antivirus, Booster, Cleaner               TOOLS   \n",
       "10731                                     My Talking Tom                GAME   \n",
       "10594                                        8 Ball Pool                GAME   \n",
       "10302  DU Battery Saver - Battery Charger & Battery Life               TOOLS   \n",
       "10354                        BBM - Free Calls & Messages       COMMUNICATION   \n",
       "10549  Cache Cleaner-DU Speed Booster (booster & clea...               TOOLS   \n",
       "10757                                            Twitter  NEWS_AND_MAGAZINES   \n",
       "10721                                    Viber Messenger       COMMUNICATION   \n",
       "10578                                     Shadow Fight 2                GAME   \n",
       "10813                                      Google Photos         PHOTOGRAPHY   \n",
       "10724                        LINE: Free Calls & Messages       COMMUNICATION   \n",
       "10717                                                Pou                GAME   \n",
       "10792                      Skype - free IM & video calls       COMMUNICATION   \n",
       "10628                                         Pokémon GO                GAME   \n",
       "10388           Minion Rush: Despicable Me Official Game                GAME   \n",
       "10694                                            Yes day                GAME   \n",
       "10695                                            Hay Day              FAMILY   \n",
       "10644                           Dream League Soccer 2018                GAME   \n",
       "10696                                  My Talking Angela                GAME   \n",
       "10660             VivaVideo - Video Editor & Photo Movie       VIDEO_PLAYERS   \n",
       "10786                       Google Chrome: Fast & Secure       COMMUNICATION   \n",
       "10817                          Maps - Navigate & Explore    TRAVEL_AND_LOCAL   \n",
       "10672                                  Hill Climb Racing                GAME   \n",
       "10734                                      Facebook Lite              SOCIAL   \n",
       "10649                                Asphalt 8: Airborne                GAME   \n",
       "10699                          Mobile Legends: Bang Bang                GAME   \n",
       "10322  Battery Doctor-Battery Life Saver & Battery Co...               TOOLS   \n",
       "10396                                     Piano Tiles 2™                GAME   \n",
       "10777                                       Temple Run 2                GAME   \n",
       "10822                                             Google               TOOLS   \n",
       "10359  Truecaller: Caller ID, SMS spam blocking & Dialer       COMMUNICATION   \n",
       "10711                         SHAREit - Transfer & Share               TOOLS   \n",
       "10389   Sniper 3D Gun Shooter: Free Shooting Games - FPS                GAME   \n",
       "10676                                   Farm Heroes Saga                GAME   \n",
       "10576   PicsArt Photo Studio: Collage Maker & Pic Editor         PHOTOGRAPHY   \n",
       "10461  PhotoGrid: Video & Pic Collage Maker, Photo Ed...         PHOTOGRAPHY   \n",
       "10502   GO Launcher - 3D parallax Themes & HD Wallpapers     PERSONALIZATION   \n",
       "\n",
       "       Rating   Reviews  Size_MBs       Installs  Type Price Content_Rating  \\\n",
       "10805    4.10  78158306      5.30  1,000,000,000  Free     0           Teen   \n",
       "10785    4.40  69119316      3.50  1,000,000,000  Free     0       Everyone   \n",
       "10806    4.50  66577313      5.30  1,000,000,000  Free     0           Teen   \n",
       "10784    4.00  56642847      3.50  1,000,000,000  Free     0       Everyone   \n",
       "10650    4.60  44891723     98.00    100,000,000  Free     0   Everyone 10+   \n",
       "10744    4.70  42916526      3.40    500,000,000  Free     0       Everyone   \n",
       "10835    4.50  27722264     76.00  1,000,000,000  Free     0   Everyone 10+   \n",
       "10828    4.30  25655305      4.65  1,000,000,000  Free     0           Teen   \n",
       "10746    4.70  24900999      3.40    500,000,000  Free     0       Everyone   \n",
       "10584    4.60  23133508     97.00    100,000,000  Free     0   Everyone 10+   \n",
       "10763    4.40  22426677     74.00    500,000,000  Free     0       Everyone   \n",
       "10770    4.50  17712922     40.00    500,000,000  Free     0           Teen   \n",
       "10735    4.00  17014787      5.30    500,000,000  Free     0           Teen   \n",
       "10489    4.60  16771865      3.40    100,000,000  Free     0       Everyone   \n",
       "10731    4.50  14891223     36.00    500,000,000  Free     0       Everyone   \n",
       "10594    4.50  14198297     52.00    100,000,000  Free     0       Everyone   \n",
       "10302    4.50  13479633     14.00    100,000,000  Free     0       Everyone   \n",
       "10354    4.30  12842860      3.50    100,000,000  Free     0       Everyone   \n",
       "10549    4.50  12759663     15.00    100,000,000  Free     0       Everyone   \n",
       "10757    4.30  11667403      6.30    500,000,000  Free     0     Mature 17+   \n",
       "10721    4.30  11334799      3.50    500,000,000  Free     0       Everyone   \n",
       "10578    4.60  10979062     88.00    100,000,000  Free     0   Everyone 10+   \n",
       "10813    4.50  10858556      6.90  1,000,000,000  Free     0       Everyone   \n",
       "10724    4.20  10790289      3.50    500,000,000  Free     0       Everyone   \n",
       "10717    4.30  10485308     24.00    500,000,000  Free     0       Everyone   \n",
       "10792    4.10  10484169      3.50  1,000,000,000  Free     0       Everyone   \n",
       "10628    4.10  10424925     85.00    100,000,000  Free     0       Everyone   \n",
       "10388    4.50  10216538     36.00    100,000,000  Free     0   Everyone 10+   \n",
       "10694    4.50  10055521     94.00    100,000,000  Free     0       Everyone   \n",
       "10695    4.50  10053186     94.00    100,000,000  Free     0       Everyone   \n",
       "10644    4.60   9882639     74.00    100,000,000  Free     0       Everyone   \n",
       "10696    4.50   9881829     99.00    100,000,000  Free     0       Everyone   \n",
       "10660    4.60   9879473     40.00    100,000,000  Free     0           Teen   \n",
       "10786    4.30   9642995      3.50  1,000,000,000  Free     0       Everyone   \n",
       "10817    4.30   9235155     12.00  1,000,000,000  Free     0       Everyone   \n",
       "10672    4.40   8923587     63.00    100,000,000  Free     0       Everyone   \n",
       "10734    4.30   8606259      5.30    500,000,000  Free     0           Teen   \n",
       "10649    4.50   8389714     92.00    100,000,000  Free     0           Teen   \n",
       "10699    4.40   8219586     99.00    100,000,000  Free     0           Teen   \n",
       "10322    4.50   8190074     17.00    100,000,000  Free     0       Everyone   \n",
       "10396    4.70   8118880     36.00    100,000,000  Free     0       Everyone   \n",
       "10777    4.30   8118609     62.00    500,000,000  Free     0       Everyone   \n",
       "10822    4.40   8033493      3.40  1,000,000,000  Free     0       Everyone   \n",
       "10359    4.50   7820209      3.50    100,000,000  Free     0       Everyone   \n",
       "10711    4.60   7790693     17.00    500,000,000  Free     0       Everyone   \n",
       "10389    4.60   7671249     36.00    100,000,000  Free     0     Mature 17+   \n",
       "10676    4.40   7614130     70.00    100,000,000  Free     0       Everyone   \n",
       "10576    4.50   7594559     34.00    100,000,000  Free     0           Teen   \n",
       "10461    4.60   7529865      6.90    100,000,000  Free     0       Everyone   \n",
       "10502    4.50   7464996      6.15    100,000,000  Free     0       Everyone   \n",
       "\n",
       "                          Genres  \n",
       "10805                     Social  \n",
       "10785              Communication  \n",
       "10806                     Social  \n",
       "10784              Communication  \n",
       "10650                   Strategy  \n",
       "10744                      Tools  \n",
       "10835                     Arcade  \n",
       "10828    Video Players & Editors  \n",
       "10746                      Tools  \n",
       "10584                   Strategy  \n",
       "10763                     Casual  \n",
       "10770              Communication  \n",
       "10735                     Social  \n",
       "10489                      Tools  \n",
       "10731                     Casual  \n",
       "10594                     Sports  \n",
       "10302                      Tools  \n",
       "10354              Communication  \n",
       "10549                      Tools  \n",
       "10757           News & Magazines  \n",
       "10721              Communication  \n",
       "10578                     Action  \n",
       "10813                Photography  \n",
       "10724              Communication  \n",
       "10717                     Casual  \n",
       "10792              Communication  \n",
       "10628                  Adventure  \n",
       "10388  Casual;Action & Adventure  \n",
       "10694                     Casual  \n",
       "10695                     Casual  \n",
       "10644                     Sports  \n",
       "10696                     Casual  \n",
       "10660    Video Players & Editors  \n",
       "10786              Communication  \n",
       "10817             Travel & Local  \n",
       "10672                     Racing  \n",
       "10734                     Social  \n",
       "10649                     Racing  \n",
       "10699                     Action  \n",
       "10322                      Tools  \n",
       "10396                     Arcade  \n",
       "10777                     Action  \n",
       "10822                      Tools  \n",
       "10359              Communication  \n",
       "10711                      Tools  \n",
       "10389                     Action  \n",
       "10676                     Casual  \n",
       "10576                Photography  \n",
       "10461                Photography  \n",
       "10502            Personalization  "
      ]
     },
     "execution_count": 16,
     "metadata": {},
     "output_type": "execute_result"
    }
   ],
   "source": [
    "df_apps_clean.sort_values('Reviews', ascending=False).head(50)"
   ]
  },
  {
   "cell_type": "markdown",
   "id": "69cbaa4d",
   "metadata": {
    "papermill": {
     "duration": 0.029352,
     "end_time": "2022-11-19T13:23:31.353022",
     "exception": false,
     "start_time": "2022-11-19T13:23:31.323670",
     "status": "completed"
    },
    "tags": []
   },
   "source": [
    "If you look at the number of reviews, you can find the most popular apps on the Android App Store. These include the usual suspects: Facebook, WhatsApp, Instagram etc. What’s also notable is that the list of the top 50 most reviewed apps does not include a single paid app! "
   ]
  },
  {
   "cell_type": "markdown",
   "id": "3ff1fb76",
   "metadata": {
    "id": "BFoRqpezjebe",
    "papermill": {
     "duration": 0.02969,
     "end_time": "2022-11-19T13:23:31.412882",
     "exception": false,
     "start_time": "2022-11-19T13:23:31.383192",
     "status": "completed"
    },
    "tags": []
   },
   "source": [
    "# Plotly Pie and Donut Charts - Visualise Categorical Data: Content Ratings"
   ]
  },
  {
   "cell_type": "markdown",
   "id": "6395ee1b",
   "metadata": {
    "papermill": {
     "duration": 0.029384,
     "end_time": "2022-11-19T13:23:31.472274",
     "exception": false,
     "start_time": "2022-11-19T13:23:31.442890",
     "status": "completed"
    },
    "tags": []
   },
   "source": [
    "All Android apps have a content rating like “Everyone” or “Teen” or “Mature 17+”. Let’s take a look at the distribution of the content ratings in our dataset and see how to visualise it with plotly - a popular data visualisation library that you can use alongside or instead of Matplotlib.\n",
    "\n",
    "First, we’ll count the number of occurrences of each rating with `.value_counts()`"
   ]
  },
  {
   "cell_type": "code",
   "execution_count": 17,
   "id": "2f2981a8",
   "metadata": {
    "execution": {
     "iopub.execute_input": "2022-11-19T13:23:31.534089Z",
     "iopub.status.busy": "2022-11-19T13:23:31.533671Z",
     "iopub.status.idle": "2022-11-19T13:23:31.545291Z",
     "shell.execute_reply": "2022-11-19T13:23:31.543316Z"
    },
    "id": "c0IIxNGnoFKM",
    "papermill": {
     "duration": 0.045877,
     "end_time": "2022-11-19T13:23:31.548116",
     "exception": false,
     "start_time": "2022-11-19T13:23:31.502239",
     "status": "completed"
    },
    "tags": []
   },
   "outputs": [
    {
     "data": {
      "text/plain": [
       "Everyone           6621\n",
       "Teen                912\n",
       "Mature 17+          357\n",
       "Everyone 10+        305\n",
       "Adults only 18+       3\n",
       "Unrated               1\n",
       "Name: Content_Rating, dtype: int64"
      ]
     },
     "execution_count": 17,
     "metadata": {},
     "output_type": "execute_result"
    }
   ],
   "source": [
    "ratings = df_apps_clean.Content_Rating.value_counts()\n",
    "ratings"
   ]
  },
  {
   "cell_type": "markdown",
   "id": "8ef66747",
   "metadata": {
    "papermill": {
     "duration": 0.045154,
     "end_time": "2022-11-19T13:23:31.631938",
     "exception": false,
     "start_time": "2022-11-19T13:23:31.586784",
     "status": "completed"
    },
    "tags": []
   },
   "source": [
    "The first step in creating charts with plotly is to `import` plotly.express. This is the fastest way to create a beautiful graphic with a minimal amount of code in plotly.\n"
   ]
  },
  {
   "cell_type": "code",
   "execution_count": 18,
   "id": "e1497fcb",
   "metadata": {
    "execution": {
     "iopub.execute_input": "2022-11-19T13:23:31.701052Z",
     "iopub.status.busy": "2022-11-19T13:23:31.700396Z",
     "iopub.status.idle": "2022-11-19T13:23:33.179215Z",
     "shell.execute_reply": "2022-11-19T13:23:33.177978Z"
    },
    "id": "TSiV6ZkjoFVg",
    "papermill": {
     "duration": 1.513329,
     "end_time": "2022-11-19T13:23:33.182092",
     "exception": false,
     "start_time": "2022-11-19T13:23:31.668763",
     "status": "completed"
    },
    "tags": []
   },
   "outputs": [],
   "source": [
    "import plotly.express as px"
   ]
  },
  {
   "cell_type": "markdown",
   "id": "53939383",
   "metadata": {
    "papermill": {
     "duration": 0.029835,
     "end_time": "2022-11-19T13:23:33.242013",
     "exception": false,
     "start_time": "2022-11-19T13:23:33.212178",
     "status": "completed"
    },
    "tags": []
   },
   "source": [
    "To create a pie chart we simply call `px.pie()` and then `.show()` the resulting figure. Plotly refers to all their figures, be they line charts, bar charts, or pie charts as graph_objects."
   ]
  },
  {
   "cell_type": "code",
   "execution_count": 19,
   "id": "9a58092f",
   "metadata": {
    "execution": {
     "iopub.execute_input": "2022-11-19T13:23:33.303584Z",
     "iopub.status.busy": "2022-11-19T13:23:33.302724Z",
     "iopub.status.idle": "2022-11-19T13:23:34.373308Z",
     "shell.execute_reply": "2022-11-19T13:23:34.372034Z"
    },
    "id": "7kil2mdfoFOr",
    "papermill": {
     "duration": 1.10449,
     "end_time": "2022-11-19T13:23:34.375975",
     "exception": false,
     "start_time": "2022-11-19T13:23:33.271485",
     "status": "completed"
    },
    "tags": []
   },
   "outputs": [
    {
     "data": {
      "text/html": [
       "        <script type=\"text/javascript\">\n",
       "        window.PlotlyConfig = {MathJaxConfig: 'local'};\n",
       "        if (window.MathJax && window.MathJax.Hub && window.MathJax.Hub.Config) {window.MathJax.Hub.Config({SVG: {font: \"STIX-Web\"}});}\n",
       "        if (typeof require !== 'undefined') {\n",
       "        require.undef(\"plotly\");\n",
       "        requirejs.config({\n",
       "            paths: {\n",
       "                'plotly': ['https://cdn.plot.ly/plotly-2.14.0.min']\n",
       "            }\n",
       "        });\n",
       "        require(['plotly'], function(Plotly) {\n",
       "            window._Plotly = Plotly;\n",
       "        });\n",
       "        }\n",
       "        </script>\n",
       "        "
      ]
     },
     "metadata": {},
     "output_type": "display_data"
    },
    {
     "data": {
      "text/html": [
       "<div>                            <div id=\"7b81da79-e80e-408b-8b42-84e54f23917d\" class=\"plotly-graph-div\" style=\"height:525px; width:100%;\"></div>            <script type=\"text/javascript\">                require([\"plotly\"], function(Plotly) {                    window.PLOTLYENV=window.PLOTLYENV || {};                                    if (document.getElementById(\"7b81da79-e80e-408b-8b42-84e54f23917d\")) {                    Plotly.newPlot(                        \"7b81da79-e80e-408b-8b42-84e54f23917d\",                        [{\"domain\":{\"x\":[0.0,1.0],\"y\":[0.0,1.0]},\"hovertemplate\":\"value=%{value}<extra></extra>\",\"legendgroup\":\"\",\"name\":\"\",\"showlegend\":false,\"values\":[6621,912,357,305,3,1],\"type\":\"pie\"}],                        {\"template\":{\"data\":{\"histogram2dcontour\":[{\"type\":\"histogram2dcontour\",\"colorbar\":{\"outlinewidth\":0,\"ticks\":\"\"},\"colorscale\":[[0.0,\"#0d0887\"],[0.1111111111111111,\"#46039f\"],[0.2222222222222222,\"#7201a8\"],[0.3333333333333333,\"#9c179e\"],[0.4444444444444444,\"#bd3786\"],[0.5555555555555556,\"#d8576b\"],[0.6666666666666666,\"#ed7953\"],[0.7777777777777778,\"#fb9f3a\"],[0.8888888888888888,\"#fdca26\"],[1.0,\"#f0f921\"]]}],\"choropleth\":[{\"type\":\"choropleth\",\"colorbar\":{\"outlinewidth\":0,\"ticks\":\"\"}}],\"histogram2d\":[{\"type\":\"histogram2d\",\"colorbar\":{\"outlinewidth\":0,\"ticks\":\"\"},\"colorscale\":[[0.0,\"#0d0887\"],[0.1111111111111111,\"#46039f\"],[0.2222222222222222,\"#7201a8\"],[0.3333333333333333,\"#9c179e\"],[0.4444444444444444,\"#bd3786\"],[0.5555555555555556,\"#d8576b\"],[0.6666666666666666,\"#ed7953\"],[0.7777777777777778,\"#fb9f3a\"],[0.8888888888888888,\"#fdca26\"],[1.0,\"#f0f921\"]]}],\"heatmap\":[{\"type\":\"heatmap\",\"colorbar\":{\"outlinewidth\":0,\"ticks\":\"\"},\"colorscale\":[[0.0,\"#0d0887\"],[0.1111111111111111,\"#46039f\"],[0.2222222222222222,\"#7201a8\"],[0.3333333333333333,\"#9c179e\"],[0.4444444444444444,\"#bd3786\"],[0.5555555555555556,\"#d8576b\"],[0.6666666666666666,\"#ed7953\"],[0.7777777777777778,\"#fb9f3a\"],[0.8888888888888888,\"#fdca26\"],[1.0,\"#f0f921\"]]}],\"heatmapgl\":[{\"type\":\"heatmapgl\",\"colorbar\":{\"outlinewidth\":0,\"ticks\":\"\"},\"colorscale\":[[0.0,\"#0d0887\"],[0.1111111111111111,\"#46039f\"],[0.2222222222222222,\"#7201a8\"],[0.3333333333333333,\"#9c179e\"],[0.4444444444444444,\"#bd3786\"],[0.5555555555555556,\"#d8576b\"],[0.6666666666666666,\"#ed7953\"],[0.7777777777777778,\"#fb9f3a\"],[0.8888888888888888,\"#fdca26\"],[1.0,\"#f0f921\"]]}],\"contourcarpet\":[{\"type\":\"contourcarpet\",\"colorbar\":{\"outlinewidth\":0,\"ticks\":\"\"}}],\"contour\":[{\"type\":\"contour\",\"colorbar\":{\"outlinewidth\":0,\"ticks\":\"\"},\"colorscale\":[[0.0,\"#0d0887\"],[0.1111111111111111,\"#46039f\"],[0.2222222222222222,\"#7201a8\"],[0.3333333333333333,\"#9c179e\"],[0.4444444444444444,\"#bd3786\"],[0.5555555555555556,\"#d8576b\"],[0.6666666666666666,\"#ed7953\"],[0.7777777777777778,\"#fb9f3a\"],[0.8888888888888888,\"#fdca26\"],[1.0,\"#f0f921\"]]}],\"surface\":[{\"type\":\"surface\",\"colorbar\":{\"outlinewidth\":0,\"ticks\":\"\"},\"colorscale\":[[0.0,\"#0d0887\"],[0.1111111111111111,\"#46039f\"],[0.2222222222222222,\"#7201a8\"],[0.3333333333333333,\"#9c179e\"],[0.4444444444444444,\"#bd3786\"],[0.5555555555555556,\"#d8576b\"],[0.6666666666666666,\"#ed7953\"],[0.7777777777777778,\"#fb9f3a\"],[0.8888888888888888,\"#fdca26\"],[1.0,\"#f0f921\"]]}],\"mesh3d\":[{\"type\":\"mesh3d\",\"colorbar\":{\"outlinewidth\":0,\"ticks\":\"\"}}],\"scatter\":[{\"fillpattern\":{\"fillmode\":\"overlay\",\"size\":10,\"solidity\":0.2},\"type\":\"scatter\"}],\"parcoords\":[{\"type\":\"parcoords\",\"line\":{\"colorbar\":{\"outlinewidth\":0,\"ticks\":\"\"}}}],\"scatterpolargl\":[{\"type\":\"scatterpolargl\",\"marker\":{\"colorbar\":{\"outlinewidth\":0,\"ticks\":\"\"}}}],\"bar\":[{\"error_x\":{\"color\":\"#2a3f5f\"},\"error_y\":{\"color\":\"#2a3f5f\"},\"marker\":{\"line\":{\"color\":\"#E5ECF6\",\"width\":0.5},\"pattern\":{\"fillmode\":\"overlay\",\"size\":10,\"solidity\":0.2}},\"type\":\"bar\"}],\"scattergeo\":[{\"type\":\"scattergeo\",\"marker\":{\"colorbar\":{\"outlinewidth\":0,\"ticks\":\"\"}}}],\"scatterpolar\":[{\"type\":\"scatterpolar\",\"marker\":{\"colorbar\":{\"outlinewidth\":0,\"ticks\":\"\"}}}],\"histogram\":[{\"marker\":{\"pattern\":{\"fillmode\":\"overlay\",\"size\":10,\"solidity\":0.2}},\"type\":\"histogram\"}],\"scattergl\":[{\"type\":\"scattergl\",\"marker\":{\"colorbar\":{\"outlinewidth\":0,\"ticks\":\"\"}}}],\"scatter3d\":[{\"type\":\"scatter3d\",\"line\":{\"colorbar\":{\"outlinewidth\":0,\"ticks\":\"\"}},\"marker\":{\"colorbar\":{\"outlinewidth\":0,\"ticks\":\"\"}}}],\"scattermapbox\":[{\"type\":\"scattermapbox\",\"marker\":{\"colorbar\":{\"outlinewidth\":0,\"ticks\":\"\"}}}],\"scatterternary\":[{\"type\":\"scatterternary\",\"marker\":{\"colorbar\":{\"outlinewidth\":0,\"ticks\":\"\"}}}],\"scattercarpet\":[{\"type\":\"scattercarpet\",\"marker\":{\"colorbar\":{\"outlinewidth\":0,\"ticks\":\"\"}}}],\"carpet\":[{\"aaxis\":{\"endlinecolor\":\"#2a3f5f\",\"gridcolor\":\"white\",\"linecolor\":\"white\",\"minorgridcolor\":\"white\",\"startlinecolor\":\"#2a3f5f\"},\"baxis\":{\"endlinecolor\":\"#2a3f5f\",\"gridcolor\":\"white\",\"linecolor\":\"white\",\"minorgridcolor\":\"white\",\"startlinecolor\":\"#2a3f5f\"},\"type\":\"carpet\"}],\"table\":[{\"cells\":{\"fill\":{\"color\":\"#EBF0F8\"},\"line\":{\"color\":\"white\"}},\"header\":{\"fill\":{\"color\":\"#C8D4E3\"},\"line\":{\"color\":\"white\"}},\"type\":\"table\"}],\"barpolar\":[{\"marker\":{\"line\":{\"color\":\"#E5ECF6\",\"width\":0.5},\"pattern\":{\"fillmode\":\"overlay\",\"size\":10,\"solidity\":0.2}},\"type\":\"barpolar\"}],\"pie\":[{\"automargin\":true,\"type\":\"pie\"}]},\"layout\":{\"autotypenumbers\":\"strict\",\"colorway\":[\"#636efa\",\"#EF553B\",\"#00cc96\",\"#ab63fa\",\"#FFA15A\",\"#19d3f3\",\"#FF6692\",\"#B6E880\",\"#FF97FF\",\"#FECB52\"],\"font\":{\"color\":\"#2a3f5f\"},\"hovermode\":\"closest\",\"hoverlabel\":{\"align\":\"left\"},\"paper_bgcolor\":\"white\",\"plot_bgcolor\":\"#E5ECF6\",\"polar\":{\"bgcolor\":\"#E5ECF6\",\"angularaxis\":{\"gridcolor\":\"white\",\"linecolor\":\"white\",\"ticks\":\"\"},\"radialaxis\":{\"gridcolor\":\"white\",\"linecolor\":\"white\",\"ticks\":\"\"}},\"ternary\":{\"bgcolor\":\"#E5ECF6\",\"aaxis\":{\"gridcolor\":\"white\",\"linecolor\":\"white\",\"ticks\":\"\"},\"baxis\":{\"gridcolor\":\"white\",\"linecolor\":\"white\",\"ticks\":\"\"},\"caxis\":{\"gridcolor\":\"white\",\"linecolor\":\"white\",\"ticks\":\"\"}},\"coloraxis\":{\"colorbar\":{\"outlinewidth\":0,\"ticks\":\"\"}},\"colorscale\":{\"sequential\":[[0.0,\"#0d0887\"],[0.1111111111111111,\"#46039f\"],[0.2222222222222222,\"#7201a8\"],[0.3333333333333333,\"#9c179e\"],[0.4444444444444444,\"#bd3786\"],[0.5555555555555556,\"#d8576b\"],[0.6666666666666666,\"#ed7953\"],[0.7777777777777778,\"#fb9f3a\"],[0.8888888888888888,\"#fdca26\"],[1.0,\"#f0f921\"]],\"sequentialminus\":[[0.0,\"#0d0887\"],[0.1111111111111111,\"#46039f\"],[0.2222222222222222,\"#7201a8\"],[0.3333333333333333,\"#9c179e\"],[0.4444444444444444,\"#bd3786\"],[0.5555555555555556,\"#d8576b\"],[0.6666666666666666,\"#ed7953\"],[0.7777777777777778,\"#fb9f3a\"],[0.8888888888888888,\"#fdca26\"],[1.0,\"#f0f921\"]],\"diverging\":[[0,\"#8e0152\"],[0.1,\"#c51b7d\"],[0.2,\"#de77ae\"],[0.3,\"#f1b6da\"],[0.4,\"#fde0ef\"],[0.5,\"#f7f7f7\"],[0.6,\"#e6f5d0\"],[0.7,\"#b8e186\"],[0.8,\"#7fbc41\"],[0.9,\"#4d9221\"],[1,\"#276419\"]]},\"xaxis\":{\"gridcolor\":\"white\",\"linecolor\":\"white\",\"ticks\":\"\",\"title\":{\"standoff\":15},\"zerolinecolor\":\"white\",\"automargin\":true,\"zerolinewidth\":2},\"yaxis\":{\"gridcolor\":\"white\",\"linecolor\":\"white\",\"ticks\":\"\",\"title\":{\"standoff\":15},\"zerolinecolor\":\"white\",\"automargin\":true,\"zerolinewidth\":2},\"scene\":{\"xaxis\":{\"backgroundcolor\":\"#E5ECF6\",\"gridcolor\":\"white\",\"linecolor\":\"white\",\"showbackground\":true,\"ticks\":\"\",\"zerolinecolor\":\"white\",\"gridwidth\":2},\"yaxis\":{\"backgroundcolor\":\"#E5ECF6\",\"gridcolor\":\"white\",\"linecolor\":\"white\",\"showbackground\":true,\"ticks\":\"\",\"zerolinecolor\":\"white\",\"gridwidth\":2},\"zaxis\":{\"backgroundcolor\":\"#E5ECF6\",\"gridcolor\":\"white\",\"linecolor\":\"white\",\"showbackground\":true,\"ticks\":\"\",\"zerolinecolor\":\"white\",\"gridwidth\":2}},\"shapedefaults\":{\"line\":{\"color\":\"#2a3f5f\"}},\"annotationdefaults\":{\"arrowcolor\":\"#2a3f5f\",\"arrowhead\":0,\"arrowwidth\":1},\"geo\":{\"bgcolor\":\"white\",\"landcolor\":\"#E5ECF6\",\"subunitcolor\":\"white\",\"showland\":true,\"showlakes\":true,\"lakecolor\":\"white\"},\"title\":{\"x\":0.05},\"mapbox\":{\"style\":\"light\"}}},\"legend\":{\"tracegroupgap\":0},\"margin\":{\"t\":60}},                        {\"responsive\": true}                    ).then(function(){\n",
       "                            \n",
       "var gd = document.getElementById('7b81da79-e80e-408b-8b42-84e54f23917d');\n",
       "var x = new MutationObserver(function (mutations, observer) {{\n",
       "        var display = window.getComputedStyle(gd).display;\n",
       "        if (!display || display === 'none') {{\n",
       "            console.log([gd, 'removed!']);\n",
       "            Plotly.purge(gd);\n",
       "            observer.disconnect();\n",
       "        }}\n",
       "}});\n",
       "\n",
       "// Listen for the removal of the full notebook cells\n",
       "var notebookContainer = gd.closest('#notebook-container');\n",
       "if (notebookContainer) {{\n",
       "    x.observe(notebookContainer, {childList: true});\n",
       "}}\n",
       "\n",
       "// Listen for the clearing of the current output cell\n",
       "var outputEl = gd.closest('.output');\n",
       "if (outputEl) {{\n",
       "    x.observe(outputEl, {childList: true});\n",
       "}}\n",
       "\n",
       "                        })                };                });            </script>        </div>"
      ]
     },
     "metadata": {},
     "output_type": "display_data"
    }
   ],
   "source": [
    "fig = px.pie(labels=ratings.index, values=ratings.values)\n",
    "fig.show()"
   ]
  },
  {
   "cell_type": "markdown",
   "id": "9ac1d0dd",
   "metadata": {
    "papermill": {
     "duration": 0.030337,
     "end_time": "2022-11-19T13:23:34.438364",
     "exception": false,
     "start_time": "2022-11-19T13:23:34.408027",
     "status": "completed"
    },
    "tags": []
   },
   "source": [
    "Let’s customise our pie chart. Looking at the .pie() documentation we see a number of parameters that we can set, like title or names."
   ]
  },
  {
   "cell_type": "markdown",
   "id": "28835f21",
   "metadata": {
    "papermill": {
     "duration": 0.029662,
     "end_time": "2022-11-19T13:23:34.498211",
     "exception": false,
     "start_time": "2022-11-19T13:23:34.468549",
     "status": "completed"
    },
    "tags": []
   },
   "source": [
    "If you’d like to configure other aspects of the chart, that you can’t see in the list of parameters, you can call a method called `.update_traces()`. In plotly lingo, “traces” refer to graphical marks on a figure. Think of “traces” as collections of attributes. Here we update the traces to change how the text is displayed."
   ]
  },
  {
   "cell_type": "code",
   "execution_count": 20,
   "id": "b4439aff",
   "metadata": {
    "execution": {
     "iopub.execute_input": "2022-11-19T13:23:34.562439Z",
     "iopub.status.busy": "2022-11-19T13:23:34.561435Z",
     "iopub.status.idle": "2022-11-19T13:23:34.616929Z",
     "shell.execute_reply": "2022-11-19T13:23:34.615716Z"
    },
    "id": "6ZaHYNy2oFEE",
    "papermill": {
     "duration": 0.089778,
     "end_time": "2022-11-19T13:23:34.619555",
     "exception": false,
     "start_time": "2022-11-19T13:23:34.529777",
     "status": "completed"
    },
    "tags": []
   },
   "outputs": [
    {
     "data": {
      "text/html": [
       "<div>                            <div id=\"2eb5462a-ce12-4497-b66a-176e8b21fcb6\" class=\"plotly-graph-div\" style=\"height:525px; width:100%;\"></div>            <script type=\"text/javascript\">                require([\"plotly\"], function(Plotly) {                    window.PLOTLYENV=window.PLOTLYENV || {};                                    if (document.getElementById(\"2eb5462a-ce12-4497-b66a-176e8b21fcb6\")) {                    Plotly.newPlot(                        \"2eb5462a-ce12-4497-b66a-176e8b21fcb6\",                        [{\"domain\":{\"x\":[0.0,1.0],\"y\":[0.0,1.0]},\"hovertemplate\":\"label=%{label}<br>value=%{value}<extra></extra>\",\"labels\":[\"Everyone\",\"Teen\",\"Mature 17+\",\"Everyone 10+\",\"Adults only 18+\",\"Unrated\"],\"legendgroup\":\"\",\"name\":\"\",\"showlegend\":true,\"values\":[6621,912,357,305,3,1],\"type\":\"pie\",\"textinfo\":\"percent+label\",\"textposition\":\"outside\"}],                        {\"template\":{\"data\":{\"histogram2dcontour\":[{\"type\":\"histogram2dcontour\",\"colorbar\":{\"outlinewidth\":0,\"ticks\":\"\"},\"colorscale\":[[0.0,\"#0d0887\"],[0.1111111111111111,\"#46039f\"],[0.2222222222222222,\"#7201a8\"],[0.3333333333333333,\"#9c179e\"],[0.4444444444444444,\"#bd3786\"],[0.5555555555555556,\"#d8576b\"],[0.6666666666666666,\"#ed7953\"],[0.7777777777777778,\"#fb9f3a\"],[0.8888888888888888,\"#fdca26\"],[1.0,\"#f0f921\"]]}],\"choropleth\":[{\"type\":\"choropleth\",\"colorbar\":{\"outlinewidth\":0,\"ticks\":\"\"}}],\"histogram2d\":[{\"type\":\"histogram2d\",\"colorbar\":{\"outlinewidth\":0,\"ticks\":\"\"},\"colorscale\":[[0.0,\"#0d0887\"],[0.1111111111111111,\"#46039f\"],[0.2222222222222222,\"#7201a8\"],[0.3333333333333333,\"#9c179e\"],[0.4444444444444444,\"#bd3786\"],[0.5555555555555556,\"#d8576b\"],[0.6666666666666666,\"#ed7953\"],[0.7777777777777778,\"#fb9f3a\"],[0.8888888888888888,\"#fdca26\"],[1.0,\"#f0f921\"]]}],\"heatmap\":[{\"type\":\"heatmap\",\"colorbar\":{\"outlinewidth\":0,\"ticks\":\"\"},\"colorscale\":[[0.0,\"#0d0887\"],[0.1111111111111111,\"#46039f\"],[0.2222222222222222,\"#7201a8\"],[0.3333333333333333,\"#9c179e\"],[0.4444444444444444,\"#bd3786\"],[0.5555555555555556,\"#d8576b\"],[0.6666666666666666,\"#ed7953\"],[0.7777777777777778,\"#fb9f3a\"],[0.8888888888888888,\"#fdca26\"],[1.0,\"#f0f921\"]]}],\"heatmapgl\":[{\"type\":\"heatmapgl\",\"colorbar\":{\"outlinewidth\":0,\"ticks\":\"\"},\"colorscale\":[[0.0,\"#0d0887\"],[0.1111111111111111,\"#46039f\"],[0.2222222222222222,\"#7201a8\"],[0.3333333333333333,\"#9c179e\"],[0.4444444444444444,\"#bd3786\"],[0.5555555555555556,\"#d8576b\"],[0.6666666666666666,\"#ed7953\"],[0.7777777777777778,\"#fb9f3a\"],[0.8888888888888888,\"#fdca26\"],[1.0,\"#f0f921\"]]}],\"contourcarpet\":[{\"type\":\"contourcarpet\",\"colorbar\":{\"outlinewidth\":0,\"ticks\":\"\"}}],\"contour\":[{\"type\":\"contour\",\"colorbar\":{\"outlinewidth\":0,\"ticks\":\"\"},\"colorscale\":[[0.0,\"#0d0887\"],[0.1111111111111111,\"#46039f\"],[0.2222222222222222,\"#7201a8\"],[0.3333333333333333,\"#9c179e\"],[0.4444444444444444,\"#bd3786\"],[0.5555555555555556,\"#d8576b\"],[0.6666666666666666,\"#ed7953\"],[0.7777777777777778,\"#fb9f3a\"],[0.8888888888888888,\"#fdca26\"],[1.0,\"#f0f921\"]]}],\"surface\":[{\"type\":\"surface\",\"colorbar\":{\"outlinewidth\":0,\"ticks\":\"\"},\"colorscale\":[[0.0,\"#0d0887\"],[0.1111111111111111,\"#46039f\"],[0.2222222222222222,\"#7201a8\"],[0.3333333333333333,\"#9c179e\"],[0.4444444444444444,\"#bd3786\"],[0.5555555555555556,\"#d8576b\"],[0.6666666666666666,\"#ed7953\"],[0.7777777777777778,\"#fb9f3a\"],[0.8888888888888888,\"#fdca26\"],[1.0,\"#f0f921\"]]}],\"mesh3d\":[{\"type\":\"mesh3d\",\"colorbar\":{\"outlinewidth\":0,\"ticks\":\"\"}}],\"scatter\":[{\"fillpattern\":{\"fillmode\":\"overlay\",\"size\":10,\"solidity\":0.2},\"type\":\"scatter\"}],\"parcoords\":[{\"type\":\"parcoords\",\"line\":{\"colorbar\":{\"outlinewidth\":0,\"ticks\":\"\"}}}],\"scatterpolargl\":[{\"type\":\"scatterpolargl\",\"marker\":{\"colorbar\":{\"outlinewidth\":0,\"ticks\":\"\"}}}],\"bar\":[{\"error_x\":{\"color\":\"#2a3f5f\"},\"error_y\":{\"color\":\"#2a3f5f\"},\"marker\":{\"line\":{\"color\":\"#E5ECF6\",\"width\":0.5},\"pattern\":{\"fillmode\":\"overlay\",\"size\":10,\"solidity\":0.2}},\"type\":\"bar\"}],\"scattergeo\":[{\"type\":\"scattergeo\",\"marker\":{\"colorbar\":{\"outlinewidth\":0,\"ticks\":\"\"}}}],\"scatterpolar\":[{\"type\":\"scatterpolar\",\"marker\":{\"colorbar\":{\"outlinewidth\":0,\"ticks\":\"\"}}}],\"histogram\":[{\"marker\":{\"pattern\":{\"fillmode\":\"overlay\",\"size\":10,\"solidity\":0.2}},\"type\":\"histogram\"}],\"scattergl\":[{\"type\":\"scattergl\",\"marker\":{\"colorbar\":{\"outlinewidth\":0,\"ticks\":\"\"}}}],\"scatter3d\":[{\"type\":\"scatter3d\",\"line\":{\"colorbar\":{\"outlinewidth\":0,\"ticks\":\"\"}},\"marker\":{\"colorbar\":{\"outlinewidth\":0,\"ticks\":\"\"}}}],\"scattermapbox\":[{\"type\":\"scattermapbox\",\"marker\":{\"colorbar\":{\"outlinewidth\":0,\"ticks\":\"\"}}}],\"scatterternary\":[{\"type\":\"scatterternary\",\"marker\":{\"colorbar\":{\"outlinewidth\":0,\"ticks\":\"\"}}}],\"scattercarpet\":[{\"type\":\"scattercarpet\",\"marker\":{\"colorbar\":{\"outlinewidth\":0,\"ticks\":\"\"}}}],\"carpet\":[{\"aaxis\":{\"endlinecolor\":\"#2a3f5f\",\"gridcolor\":\"white\",\"linecolor\":\"white\",\"minorgridcolor\":\"white\",\"startlinecolor\":\"#2a3f5f\"},\"baxis\":{\"endlinecolor\":\"#2a3f5f\",\"gridcolor\":\"white\",\"linecolor\":\"white\",\"minorgridcolor\":\"white\",\"startlinecolor\":\"#2a3f5f\"},\"type\":\"carpet\"}],\"table\":[{\"cells\":{\"fill\":{\"color\":\"#EBF0F8\"},\"line\":{\"color\":\"white\"}},\"header\":{\"fill\":{\"color\":\"#C8D4E3\"},\"line\":{\"color\":\"white\"}},\"type\":\"table\"}],\"barpolar\":[{\"marker\":{\"line\":{\"color\":\"#E5ECF6\",\"width\":0.5},\"pattern\":{\"fillmode\":\"overlay\",\"size\":10,\"solidity\":0.2}},\"type\":\"barpolar\"}],\"pie\":[{\"automargin\":true,\"type\":\"pie\"}]},\"layout\":{\"autotypenumbers\":\"strict\",\"colorway\":[\"#636efa\",\"#EF553B\",\"#00cc96\",\"#ab63fa\",\"#FFA15A\",\"#19d3f3\",\"#FF6692\",\"#B6E880\",\"#FF97FF\",\"#FECB52\"],\"font\":{\"color\":\"#2a3f5f\"},\"hovermode\":\"closest\",\"hoverlabel\":{\"align\":\"left\"},\"paper_bgcolor\":\"white\",\"plot_bgcolor\":\"#E5ECF6\",\"polar\":{\"bgcolor\":\"#E5ECF6\",\"angularaxis\":{\"gridcolor\":\"white\",\"linecolor\":\"white\",\"ticks\":\"\"},\"radialaxis\":{\"gridcolor\":\"white\",\"linecolor\":\"white\",\"ticks\":\"\"}},\"ternary\":{\"bgcolor\":\"#E5ECF6\",\"aaxis\":{\"gridcolor\":\"white\",\"linecolor\":\"white\",\"ticks\":\"\"},\"baxis\":{\"gridcolor\":\"white\",\"linecolor\":\"white\",\"ticks\":\"\"},\"caxis\":{\"gridcolor\":\"white\",\"linecolor\":\"white\",\"ticks\":\"\"}},\"coloraxis\":{\"colorbar\":{\"outlinewidth\":0,\"ticks\":\"\"}},\"colorscale\":{\"sequential\":[[0.0,\"#0d0887\"],[0.1111111111111111,\"#46039f\"],[0.2222222222222222,\"#7201a8\"],[0.3333333333333333,\"#9c179e\"],[0.4444444444444444,\"#bd3786\"],[0.5555555555555556,\"#d8576b\"],[0.6666666666666666,\"#ed7953\"],[0.7777777777777778,\"#fb9f3a\"],[0.8888888888888888,\"#fdca26\"],[1.0,\"#f0f921\"]],\"sequentialminus\":[[0.0,\"#0d0887\"],[0.1111111111111111,\"#46039f\"],[0.2222222222222222,\"#7201a8\"],[0.3333333333333333,\"#9c179e\"],[0.4444444444444444,\"#bd3786\"],[0.5555555555555556,\"#d8576b\"],[0.6666666666666666,\"#ed7953\"],[0.7777777777777778,\"#fb9f3a\"],[0.8888888888888888,\"#fdca26\"],[1.0,\"#f0f921\"]],\"diverging\":[[0,\"#8e0152\"],[0.1,\"#c51b7d\"],[0.2,\"#de77ae\"],[0.3,\"#f1b6da\"],[0.4,\"#fde0ef\"],[0.5,\"#f7f7f7\"],[0.6,\"#e6f5d0\"],[0.7,\"#b8e186\"],[0.8,\"#7fbc41\"],[0.9,\"#4d9221\"],[1,\"#276419\"]]},\"xaxis\":{\"gridcolor\":\"white\",\"linecolor\":\"white\",\"ticks\":\"\",\"title\":{\"standoff\":15},\"zerolinecolor\":\"white\",\"automargin\":true,\"zerolinewidth\":2},\"yaxis\":{\"gridcolor\":\"white\",\"linecolor\":\"white\",\"ticks\":\"\",\"title\":{\"standoff\":15},\"zerolinecolor\":\"white\",\"automargin\":true,\"zerolinewidth\":2},\"scene\":{\"xaxis\":{\"backgroundcolor\":\"#E5ECF6\",\"gridcolor\":\"white\",\"linecolor\":\"white\",\"showbackground\":true,\"ticks\":\"\",\"zerolinecolor\":\"white\",\"gridwidth\":2},\"yaxis\":{\"backgroundcolor\":\"#E5ECF6\",\"gridcolor\":\"white\",\"linecolor\":\"white\",\"showbackground\":true,\"ticks\":\"\",\"zerolinecolor\":\"white\",\"gridwidth\":2},\"zaxis\":{\"backgroundcolor\":\"#E5ECF6\",\"gridcolor\":\"white\",\"linecolor\":\"white\",\"showbackground\":true,\"ticks\":\"\",\"zerolinecolor\":\"white\",\"gridwidth\":2}},\"shapedefaults\":{\"line\":{\"color\":\"#2a3f5f\"}},\"annotationdefaults\":{\"arrowcolor\":\"#2a3f5f\",\"arrowhead\":0,\"arrowwidth\":1},\"geo\":{\"bgcolor\":\"white\",\"landcolor\":\"#E5ECF6\",\"subunitcolor\":\"white\",\"showland\":true,\"showlakes\":true,\"lakecolor\":\"white\"},\"title\":{\"x\":0.05},\"mapbox\":{\"style\":\"light\"}}},\"legend\":{\"tracegroupgap\":0},\"title\":{\"text\":\"Content Rating\"}},                        {\"responsive\": true}                    ).then(function(){\n",
       "                            \n",
       "var gd = document.getElementById('2eb5462a-ce12-4497-b66a-176e8b21fcb6');\n",
       "var x = new MutationObserver(function (mutations, observer) {{\n",
       "        var display = window.getComputedStyle(gd).display;\n",
       "        if (!display || display === 'none') {{\n",
       "            console.log([gd, 'removed!']);\n",
       "            Plotly.purge(gd);\n",
       "            observer.disconnect();\n",
       "        }}\n",
       "}});\n",
       "\n",
       "// Listen for the removal of the full notebook cells\n",
       "var notebookContainer = gd.closest('#notebook-container');\n",
       "if (notebookContainer) {{\n",
       "    x.observe(notebookContainer, {childList: true});\n",
       "}}\n",
       "\n",
       "// Listen for the clearing of the current output cell\n",
       "var outputEl = gd.closest('.output');\n",
       "if (outputEl) {{\n",
       "    x.observe(outputEl, {childList: true});\n",
       "}}\n",
       "\n",
       "                        })                };                });            </script>        </div>"
      ]
     },
     "metadata": {},
     "output_type": "display_data"
    }
   ],
   "source": [
    "fig = px.pie(labels=ratings.index,\n",
    "values=ratings.values,\n",
    "title=\"Content Rating\",\n",
    "names=ratings.index,\n",
    ")\n",
    "fig.update_traces(textposition='outside', textinfo='percent+label')\n",
    " \n",
    "fig.show()"
   ]
  },
  {
   "cell_type": "markdown",
   "id": "65188a75",
   "metadata": {
    "papermill": {
     "duration": 0.029943,
     "end_time": "2022-11-19T13:23:34.680421",
     "exception": false,
     "start_time": "2022-11-19T13:23:34.650478",
     "status": "completed"
    },
    "tags": []
   },
   "source": [
    "To create a donut 🍩 chart, we can simply add a value for the hole argument:"
   ]
  },
  {
   "cell_type": "code",
   "execution_count": 21,
   "id": "4d4eff37",
   "metadata": {
    "execution": {
     "iopub.execute_input": "2022-11-19T13:23:34.744938Z",
     "iopub.status.busy": "2022-11-19T13:23:34.744494Z",
     "iopub.status.idle": "2022-11-19T13:23:34.798692Z",
     "shell.execute_reply": "2022-11-19T13:23:34.797715Z"
    },
    "papermill": {
     "duration": 0.088724,
     "end_time": "2022-11-19T13:23:34.801261",
     "exception": false,
     "start_time": "2022-11-19T13:23:34.712537",
     "status": "completed"
    },
    "tags": []
   },
   "outputs": [
    {
     "data": {
      "text/html": [
       "<div>                            <div id=\"5ec85b02-9ef2-4192-ab0f-e1b491416d95\" class=\"plotly-graph-div\" style=\"height:525px; width:100%;\"></div>            <script type=\"text/javascript\">                require([\"plotly\"], function(Plotly) {                    window.PLOTLYENV=window.PLOTLYENV || {};                                    if (document.getElementById(\"5ec85b02-9ef2-4192-ab0f-e1b491416d95\")) {                    Plotly.newPlot(                        \"5ec85b02-9ef2-4192-ab0f-e1b491416d95\",                        [{\"domain\":{\"x\":[0.0,1.0],\"y\":[0.0,1.0]},\"hole\":0.6,\"hovertemplate\":\"label=%{label}<br>value=%{value}<extra></extra>\",\"labels\":[\"Everyone\",\"Teen\",\"Mature 17+\",\"Everyone 10+\",\"Adults only 18+\",\"Unrated\"],\"legendgroup\":\"\",\"name\":\"\",\"showlegend\":true,\"values\":[6621,912,357,305,3,1],\"type\":\"pie\",\"textfont\":{\"size\":15},\"textinfo\":\"percent\",\"textposition\":\"inside\"}],                        {\"template\":{\"data\":{\"histogram2dcontour\":[{\"type\":\"histogram2dcontour\",\"colorbar\":{\"outlinewidth\":0,\"ticks\":\"\"},\"colorscale\":[[0.0,\"#0d0887\"],[0.1111111111111111,\"#46039f\"],[0.2222222222222222,\"#7201a8\"],[0.3333333333333333,\"#9c179e\"],[0.4444444444444444,\"#bd3786\"],[0.5555555555555556,\"#d8576b\"],[0.6666666666666666,\"#ed7953\"],[0.7777777777777778,\"#fb9f3a\"],[0.8888888888888888,\"#fdca26\"],[1.0,\"#f0f921\"]]}],\"choropleth\":[{\"type\":\"choropleth\",\"colorbar\":{\"outlinewidth\":0,\"ticks\":\"\"}}],\"histogram2d\":[{\"type\":\"histogram2d\",\"colorbar\":{\"outlinewidth\":0,\"ticks\":\"\"},\"colorscale\":[[0.0,\"#0d0887\"],[0.1111111111111111,\"#46039f\"],[0.2222222222222222,\"#7201a8\"],[0.3333333333333333,\"#9c179e\"],[0.4444444444444444,\"#bd3786\"],[0.5555555555555556,\"#d8576b\"],[0.6666666666666666,\"#ed7953\"],[0.7777777777777778,\"#fb9f3a\"],[0.8888888888888888,\"#fdca26\"],[1.0,\"#f0f921\"]]}],\"heatmap\":[{\"type\":\"heatmap\",\"colorbar\":{\"outlinewidth\":0,\"ticks\":\"\"},\"colorscale\":[[0.0,\"#0d0887\"],[0.1111111111111111,\"#46039f\"],[0.2222222222222222,\"#7201a8\"],[0.3333333333333333,\"#9c179e\"],[0.4444444444444444,\"#bd3786\"],[0.5555555555555556,\"#d8576b\"],[0.6666666666666666,\"#ed7953\"],[0.7777777777777778,\"#fb9f3a\"],[0.8888888888888888,\"#fdca26\"],[1.0,\"#f0f921\"]]}],\"heatmapgl\":[{\"type\":\"heatmapgl\",\"colorbar\":{\"outlinewidth\":0,\"ticks\":\"\"},\"colorscale\":[[0.0,\"#0d0887\"],[0.1111111111111111,\"#46039f\"],[0.2222222222222222,\"#7201a8\"],[0.3333333333333333,\"#9c179e\"],[0.4444444444444444,\"#bd3786\"],[0.5555555555555556,\"#d8576b\"],[0.6666666666666666,\"#ed7953\"],[0.7777777777777778,\"#fb9f3a\"],[0.8888888888888888,\"#fdca26\"],[1.0,\"#f0f921\"]]}],\"contourcarpet\":[{\"type\":\"contourcarpet\",\"colorbar\":{\"outlinewidth\":0,\"ticks\":\"\"}}],\"contour\":[{\"type\":\"contour\",\"colorbar\":{\"outlinewidth\":0,\"ticks\":\"\"},\"colorscale\":[[0.0,\"#0d0887\"],[0.1111111111111111,\"#46039f\"],[0.2222222222222222,\"#7201a8\"],[0.3333333333333333,\"#9c179e\"],[0.4444444444444444,\"#bd3786\"],[0.5555555555555556,\"#d8576b\"],[0.6666666666666666,\"#ed7953\"],[0.7777777777777778,\"#fb9f3a\"],[0.8888888888888888,\"#fdca26\"],[1.0,\"#f0f921\"]]}],\"surface\":[{\"type\":\"surface\",\"colorbar\":{\"outlinewidth\":0,\"ticks\":\"\"},\"colorscale\":[[0.0,\"#0d0887\"],[0.1111111111111111,\"#46039f\"],[0.2222222222222222,\"#7201a8\"],[0.3333333333333333,\"#9c179e\"],[0.4444444444444444,\"#bd3786\"],[0.5555555555555556,\"#d8576b\"],[0.6666666666666666,\"#ed7953\"],[0.7777777777777778,\"#fb9f3a\"],[0.8888888888888888,\"#fdca26\"],[1.0,\"#f0f921\"]]}],\"mesh3d\":[{\"type\":\"mesh3d\",\"colorbar\":{\"outlinewidth\":0,\"ticks\":\"\"}}],\"scatter\":[{\"fillpattern\":{\"fillmode\":\"overlay\",\"size\":10,\"solidity\":0.2},\"type\":\"scatter\"}],\"parcoords\":[{\"type\":\"parcoords\",\"line\":{\"colorbar\":{\"outlinewidth\":0,\"ticks\":\"\"}}}],\"scatterpolargl\":[{\"type\":\"scatterpolargl\",\"marker\":{\"colorbar\":{\"outlinewidth\":0,\"ticks\":\"\"}}}],\"bar\":[{\"error_x\":{\"color\":\"#2a3f5f\"},\"error_y\":{\"color\":\"#2a3f5f\"},\"marker\":{\"line\":{\"color\":\"#E5ECF6\",\"width\":0.5},\"pattern\":{\"fillmode\":\"overlay\",\"size\":10,\"solidity\":0.2}},\"type\":\"bar\"}],\"scattergeo\":[{\"type\":\"scattergeo\",\"marker\":{\"colorbar\":{\"outlinewidth\":0,\"ticks\":\"\"}}}],\"scatterpolar\":[{\"type\":\"scatterpolar\",\"marker\":{\"colorbar\":{\"outlinewidth\":0,\"ticks\":\"\"}}}],\"histogram\":[{\"marker\":{\"pattern\":{\"fillmode\":\"overlay\",\"size\":10,\"solidity\":0.2}},\"type\":\"histogram\"}],\"scattergl\":[{\"type\":\"scattergl\",\"marker\":{\"colorbar\":{\"outlinewidth\":0,\"ticks\":\"\"}}}],\"scatter3d\":[{\"type\":\"scatter3d\",\"line\":{\"colorbar\":{\"outlinewidth\":0,\"ticks\":\"\"}},\"marker\":{\"colorbar\":{\"outlinewidth\":0,\"ticks\":\"\"}}}],\"scattermapbox\":[{\"type\":\"scattermapbox\",\"marker\":{\"colorbar\":{\"outlinewidth\":0,\"ticks\":\"\"}}}],\"scatterternary\":[{\"type\":\"scatterternary\",\"marker\":{\"colorbar\":{\"outlinewidth\":0,\"ticks\":\"\"}}}],\"scattercarpet\":[{\"type\":\"scattercarpet\",\"marker\":{\"colorbar\":{\"outlinewidth\":0,\"ticks\":\"\"}}}],\"carpet\":[{\"aaxis\":{\"endlinecolor\":\"#2a3f5f\",\"gridcolor\":\"white\",\"linecolor\":\"white\",\"minorgridcolor\":\"white\",\"startlinecolor\":\"#2a3f5f\"},\"baxis\":{\"endlinecolor\":\"#2a3f5f\",\"gridcolor\":\"white\",\"linecolor\":\"white\",\"minorgridcolor\":\"white\",\"startlinecolor\":\"#2a3f5f\"},\"type\":\"carpet\"}],\"table\":[{\"cells\":{\"fill\":{\"color\":\"#EBF0F8\"},\"line\":{\"color\":\"white\"}},\"header\":{\"fill\":{\"color\":\"#C8D4E3\"},\"line\":{\"color\":\"white\"}},\"type\":\"table\"}],\"barpolar\":[{\"marker\":{\"line\":{\"color\":\"#E5ECF6\",\"width\":0.5},\"pattern\":{\"fillmode\":\"overlay\",\"size\":10,\"solidity\":0.2}},\"type\":\"barpolar\"}],\"pie\":[{\"automargin\":true,\"type\":\"pie\"}]},\"layout\":{\"autotypenumbers\":\"strict\",\"colorway\":[\"#636efa\",\"#EF553B\",\"#00cc96\",\"#ab63fa\",\"#FFA15A\",\"#19d3f3\",\"#FF6692\",\"#B6E880\",\"#FF97FF\",\"#FECB52\"],\"font\":{\"color\":\"#2a3f5f\"},\"hovermode\":\"closest\",\"hoverlabel\":{\"align\":\"left\"},\"paper_bgcolor\":\"white\",\"plot_bgcolor\":\"#E5ECF6\",\"polar\":{\"bgcolor\":\"#E5ECF6\",\"angularaxis\":{\"gridcolor\":\"white\",\"linecolor\":\"white\",\"ticks\":\"\"},\"radialaxis\":{\"gridcolor\":\"white\",\"linecolor\":\"white\",\"ticks\":\"\"}},\"ternary\":{\"bgcolor\":\"#E5ECF6\",\"aaxis\":{\"gridcolor\":\"white\",\"linecolor\":\"white\",\"ticks\":\"\"},\"baxis\":{\"gridcolor\":\"white\",\"linecolor\":\"white\",\"ticks\":\"\"},\"caxis\":{\"gridcolor\":\"white\",\"linecolor\":\"white\",\"ticks\":\"\"}},\"coloraxis\":{\"colorbar\":{\"outlinewidth\":0,\"ticks\":\"\"}},\"colorscale\":{\"sequential\":[[0.0,\"#0d0887\"],[0.1111111111111111,\"#46039f\"],[0.2222222222222222,\"#7201a8\"],[0.3333333333333333,\"#9c179e\"],[0.4444444444444444,\"#bd3786\"],[0.5555555555555556,\"#d8576b\"],[0.6666666666666666,\"#ed7953\"],[0.7777777777777778,\"#fb9f3a\"],[0.8888888888888888,\"#fdca26\"],[1.0,\"#f0f921\"]],\"sequentialminus\":[[0.0,\"#0d0887\"],[0.1111111111111111,\"#46039f\"],[0.2222222222222222,\"#7201a8\"],[0.3333333333333333,\"#9c179e\"],[0.4444444444444444,\"#bd3786\"],[0.5555555555555556,\"#d8576b\"],[0.6666666666666666,\"#ed7953\"],[0.7777777777777778,\"#fb9f3a\"],[0.8888888888888888,\"#fdca26\"],[1.0,\"#f0f921\"]],\"diverging\":[[0,\"#8e0152\"],[0.1,\"#c51b7d\"],[0.2,\"#de77ae\"],[0.3,\"#f1b6da\"],[0.4,\"#fde0ef\"],[0.5,\"#f7f7f7\"],[0.6,\"#e6f5d0\"],[0.7,\"#b8e186\"],[0.8,\"#7fbc41\"],[0.9,\"#4d9221\"],[1,\"#276419\"]]},\"xaxis\":{\"gridcolor\":\"white\",\"linecolor\":\"white\",\"ticks\":\"\",\"title\":{\"standoff\":15},\"zerolinecolor\":\"white\",\"automargin\":true,\"zerolinewidth\":2},\"yaxis\":{\"gridcolor\":\"white\",\"linecolor\":\"white\",\"ticks\":\"\",\"title\":{\"standoff\":15},\"zerolinecolor\":\"white\",\"automargin\":true,\"zerolinewidth\":2},\"scene\":{\"xaxis\":{\"backgroundcolor\":\"#E5ECF6\",\"gridcolor\":\"white\",\"linecolor\":\"white\",\"showbackground\":true,\"ticks\":\"\",\"zerolinecolor\":\"white\",\"gridwidth\":2},\"yaxis\":{\"backgroundcolor\":\"#E5ECF6\",\"gridcolor\":\"white\",\"linecolor\":\"white\",\"showbackground\":true,\"ticks\":\"\",\"zerolinecolor\":\"white\",\"gridwidth\":2},\"zaxis\":{\"backgroundcolor\":\"#E5ECF6\",\"gridcolor\":\"white\",\"linecolor\":\"white\",\"showbackground\":true,\"ticks\":\"\",\"zerolinecolor\":\"white\",\"gridwidth\":2}},\"shapedefaults\":{\"line\":{\"color\":\"#2a3f5f\"}},\"annotationdefaults\":{\"arrowcolor\":\"#2a3f5f\",\"arrowhead\":0,\"arrowwidth\":1},\"geo\":{\"bgcolor\":\"white\",\"landcolor\":\"#E5ECF6\",\"subunitcolor\":\"white\",\"showland\":true,\"showlakes\":true,\"lakecolor\":\"white\"},\"title\":{\"x\":0.05},\"mapbox\":{\"style\":\"light\"}}},\"legend\":{\"tracegroupgap\":0},\"title\":{\"text\":\"Content Rating\"}},                        {\"responsive\": true}                    ).then(function(){\n",
       "                            \n",
       "var gd = document.getElementById('5ec85b02-9ef2-4192-ab0f-e1b491416d95');\n",
       "var x = new MutationObserver(function (mutations, observer) {{\n",
       "        var display = window.getComputedStyle(gd).display;\n",
       "        if (!display || display === 'none') {{\n",
       "            console.log([gd, 'removed!']);\n",
       "            Plotly.purge(gd);\n",
       "            observer.disconnect();\n",
       "        }}\n",
       "}});\n",
       "\n",
       "// Listen for the removal of the full notebook cells\n",
       "var notebookContainer = gd.closest('#notebook-container');\n",
       "if (notebookContainer) {{\n",
       "    x.observe(notebookContainer, {childList: true});\n",
       "}}\n",
       "\n",
       "// Listen for the clearing of the current output cell\n",
       "var outputEl = gd.closest('.output');\n",
       "if (outputEl) {{\n",
       "    x.observe(outputEl, {childList: true});\n",
       "}}\n",
       "\n",
       "                        })                };                });            </script>        </div>"
      ]
     },
     "metadata": {},
     "output_type": "display_data"
    }
   ],
   "source": [
    "fig = px.pie(labels=ratings.index,\n",
    "values=ratings.values,\n",
    "title=\"Content Rating\",\n",
    "names=ratings.index,\n",
    "hole=0.6,\n",
    ")\n",
    "fig.update_traces(textposition='inside', textfont_size=15, textinfo='percent')\n",
    " \n",
    "fig.show()"
   ]
  },
  {
   "cell_type": "markdown",
   "id": "12c96954",
   "metadata": {
    "id": "RoPpW37xdiUm",
    "papermill": {
     "duration": 0.031432,
     "end_time": "2022-11-19T13:23:34.863413",
     "exception": false,
     "start_time": "2022-11-19T13:23:34.831981",
     "status": "completed"
    },
    "tags": []
   },
   "source": [
    "# Numeric Type Conversion: Examine the Number of Installs\n",
    "\n",
    "**Challenge**: How many apps had over 1 billion (that's right - BILLION) installations? How many apps just had a single install? \n",
    "\n",
    "Check the datatype of the Installs column.\n",
    "\n",
    "Count the number of apps at each level of installations. \n",
    "\n",
    "Convert the number of installations (the Installs column) to a numeric data type. Hint: this is a 2-step process. You'll have make sure you remove non-numeric characters first. "
   ]
  },
  {
   "cell_type": "markdown",
   "id": "1813e61b",
   "metadata": {
    "papermill": {
     "duration": 0.030408,
     "end_time": "2022-11-19T13:23:34.925101",
     "exception": false,
     "start_time": "2022-11-19T13:23:34.894693",
     "status": "completed"
    },
    "tags": []
   },
   "source": [
    "**Data Cleaning & Converting Data to Numeric Types**\n",
    "\n",
    "To check the data types you can either use `.describe()` on the column or `.info()` on the DataFrame."
   ]
  },
  {
   "cell_type": "code",
   "execution_count": 22,
   "id": "9589eb9a",
   "metadata": {
    "execution": {
     "iopub.execute_input": "2022-11-19T13:23:34.988451Z",
     "iopub.status.busy": "2022-11-19T13:23:34.988016Z",
     "iopub.status.idle": "2022-11-19T13:23:34.997815Z",
     "shell.execute_reply": "2022-11-19T13:23:34.996883Z"
    },
    "id": "uTNyWsPboJLq",
    "papermill": {
     "duration": 0.044231,
     "end_time": "2022-11-19T13:23:35.000158",
     "exception": false,
     "start_time": "2022-11-19T13:23:34.955927",
     "status": "completed"
    },
    "tags": []
   },
   "outputs": [
    {
     "data": {
      "text/plain": [
       "count          8199\n",
       "unique           19\n",
       "top       1,000,000\n",
       "freq           1417\n",
       "Name: Installs, dtype: object"
      ]
     },
     "execution_count": 22,
     "metadata": {},
     "output_type": "execute_result"
    }
   ],
   "source": [
    "df_apps_clean.Installs.describe()"
   ]
  },
  {
   "cell_type": "code",
   "execution_count": 23,
   "id": "b8f09b9a",
   "metadata": {
    "execution": {
     "iopub.execute_input": "2022-11-19T13:23:35.066130Z",
     "iopub.status.busy": "2022-11-19T13:23:35.064839Z",
     "iopub.status.idle": "2022-11-19T13:23:35.085645Z",
     "shell.execute_reply": "2022-11-19T13:23:35.083735Z"
    },
    "id": "yzR49fYcoJRI",
    "papermill": {
     "duration": 0.056739,
     "end_time": "2022-11-19T13:23:35.088765",
     "exception": false,
     "start_time": "2022-11-19T13:23:35.032026",
     "status": "completed"
    },
    "tags": []
   },
   "outputs": [
    {
     "name": "stdout",
     "output_type": "stream",
     "text": [
      "<class 'pandas.core.frame.DataFrame'>\n",
      "Int64Index: 8199 entries, 21 to 10835\n",
      "Data columns (total 10 columns):\n",
      " #   Column          Non-Null Count  Dtype  \n",
      "---  ------          --------------  -----  \n",
      " 0   App             8199 non-null   object \n",
      " 1   Category        8199 non-null   object \n",
      " 2   Rating          8199 non-null   float64\n",
      " 3   Reviews         8199 non-null   int64  \n",
      " 4   Size_MBs        8199 non-null   float64\n",
      " 5   Installs        8199 non-null   object \n",
      " 6   Type            8199 non-null   object \n",
      " 7   Price           8199 non-null   object \n",
      " 8   Content_Rating  8199 non-null   object \n",
      " 9   Genres          8199 non-null   object \n",
      "dtypes: float64(2), int64(1), object(7)\n",
      "memory usage: 704.6+ KB\n"
     ]
    }
   ],
   "source": [
    "df_apps_clean.info()"
   ]
  },
  {
   "cell_type": "markdown",
   "id": "3f1f61f3",
   "metadata": {
    "papermill": {
     "duration": 0.031683,
     "end_time": "2022-11-19T13:23:35.154204",
     "exception": false,
     "start_time": "2022-11-19T13:23:35.122521",
     "status": "completed"
    },
    "tags": []
   },
   "source": [
    "Both of these show that we are dealing with a non-numeric data type. In this case, the type is \"object\"."
   ]
  },
  {
   "cell_type": "markdown",
   "id": "ad66e929",
   "metadata": {
    "papermill": {
     "duration": 0.031409,
     "end_time": "2022-11-19T13:23:35.216643",
     "exception": false,
     "start_time": "2022-11-19T13:23:35.185234",
     "status": "completed"
    },
    "tags": []
   },
   "source": [
    "If we take two of the columns, say Installs and the App name, we can count the number of entries per level of installations with `.groupby()` and `.count()`. However, because we are dealing with a non-numeric data type, the ordering is not helpful. The reason Python is not recognising our installs as numbers is because of the comma (,) characters."
   ]
  },
  {
   "cell_type": "code",
   "execution_count": 24,
   "id": "ba37cd60",
   "metadata": {
    "execution": {
     "iopub.execute_input": "2022-11-19T13:23:35.280552Z",
     "iopub.status.busy": "2022-11-19T13:23:35.280153Z",
     "iopub.status.idle": "2022-11-19T13:23:35.295893Z",
     "shell.execute_reply": "2022-11-19T13:23:35.294819Z"
    },
    "id": "cFjptR-JoJOE",
    "papermill": {
     "duration": 0.050752,
     "end_time": "2022-11-19T13:23:35.298331",
     "exception": false,
     "start_time": "2022-11-19T13:23:35.247579",
     "status": "completed"
    },
    "tags": []
   },
   "outputs": [
    {
     "data": {
      "text/html": [
       "<div>\n",
       "<style scoped>\n",
       "    .dataframe tbody tr th:only-of-type {\n",
       "        vertical-align: middle;\n",
       "    }\n",
       "\n",
       "    .dataframe tbody tr th {\n",
       "        vertical-align: top;\n",
       "    }\n",
       "\n",
       "    .dataframe thead th {\n",
       "        text-align: right;\n",
       "    }\n",
       "</style>\n",
       "<table border=\"1\" class=\"dataframe\">\n",
       "  <thead>\n",
       "    <tr style=\"text-align: right;\">\n",
       "      <th></th>\n",
       "      <th>App</th>\n",
       "    </tr>\n",
       "    <tr>\n",
       "      <th>Installs</th>\n",
       "      <th></th>\n",
       "    </tr>\n",
       "  </thead>\n",
       "  <tbody>\n",
       "    <tr>\n",
       "      <th>1</th>\n",
       "      <td>3</td>\n",
       "    </tr>\n",
       "    <tr>\n",
       "      <th>1,000</th>\n",
       "      <td>698</td>\n",
       "    </tr>\n",
       "    <tr>\n",
       "      <th>1,000,000</th>\n",
       "      <td>1417</td>\n",
       "    </tr>\n",
       "    <tr>\n",
       "      <th>1,000,000,000</th>\n",
       "      <td>20</td>\n",
       "    </tr>\n",
       "    <tr>\n",
       "      <th>10</th>\n",
       "      <td>69</td>\n",
       "    </tr>\n",
       "    <tr>\n",
       "      <th>10,000</th>\n",
       "      <td>988</td>\n",
       "    </tr>\n",
       "    <tr>\n",
       "      <th>10,000,000</th>\n",
       "      <td>933</td>\n",
       "    </tr>\n",
       "    <tr>\n",
       "      <th>100</th>\n",
       "      <td>303</td>\n",
       "    </tr>\n",
       "    <tr>\n",
       "      <th>100,000</th>\n",
       "      <td>1096</td>\n",
       "    </tr>\n",
       "    <tr>\n",
       "      <th>100,000,000</th>\n",
       "      <td>189</td>\n",
       "    </tr>\n",
       "    <tr>\n",
       "      <th>5</th>\n",
       "      <td>9</td>\n",
       "    </tr>\n",
       "    <tr>\n",
       "      <th>5,000</th>\n",
       "      <td>425</td>\n",
       "    </tr>\n",
       "    <tr>\n",
       "      <th>5,000,000</th>\n",
       "      <td>607</td>\n",
       "    </tr>\n",
       "    <tr>\n",
       "      <th>50</th>\n",
       "      <td>56</td>\n",
       "    </tr>\n",
       "    <tr>\n",
       "      <th>50,000</th>\n",
       "      <td>457</td>\n",
       "    </tr>\n",
       "    <tr>\n",
       "      <th>50,000,000</th>\n",
       "      <td>202</td>\n",
       "    </tr>\n",
       "    <tr>\n",
       "      <th>500</th>\n",
       "      <td>199</td>\n",
       "    </tr>\n",
       "    <tr>\n",
       "      <th>500,000</th>\n",
       "      <td>504</td>\n",
       "    </tr>\n",
       "    <tr>\n",
       "      <th>500,000,000</th>\n",
       "      <td>24</td>\n",
       "    </tr>\n",
       "  </tbody>\n",
       "</table>\n",
       "</div>"
      ],
      "text/plain": [
       "                App\n",
       "Installs           \n",
       "1                 3\n",
       "1,000           698\n",
       "1,000,000      1417\n",
       "1,000,000,000    20\n",
       "10               69\n",
       "10,000          988\n",
       "10,000,000      933\n",
       "100             303\n",
       "100,000        1096\n",
       "100,000,000     189\n",
       "5                 9\n",
       "5,000           425\n",
       "5,000,000       607\n",
       "50               56\n",
       "50,000          457\n",
       "50,000,000      202\n",
       "500             199\n",
       "500,000         504\n",
       "500,000,000      24"
      ]
     },
     "execution_count": 24,
     "metadata": {},
     "output_type": "execute_result"
    }
   ],
   "source": [
    "df_apps_clean[[\"App\", \"Installs\"]].groupby(\"Installs\").count()"
   ]
  },
  {
   "cell_type": "markdown",
   "id": "fbf78668",
   "metadata": {
    "papermill": {
     "duration": 0.032224,
     "end_time": "2022-11-19T13:23:35.362890",
     "exception": false,
     "start_time": "2022-11-19T13:23:35.330666",
     "status": "completed"
    },
    "tags": []
   },
   "source": [
    "We can remove the comma (,) character - or any character for that matter - from a DataFrame using the string’s .replace() method. Here we’re saying: “replace the , with an empty string”. This completely removes all the commas in the Installs column. We can then convert our data to a number using `.to_numeric()`."
   ]
  },
  {
   "cell_type": "code",
   "execution_count": 25,
   "id": "0d15482f",
   "metadata": {
    "execution": {
     "iopub.execute_input": "2022-11-19T13:23:35.428792Z",
     "iopub.status.busy": "2022-11-19T13:23:35.428393Z",
     "iopub.status.idle": "2022-11-19T13:23:35.456164Z",
     "shell.execute_reply": "2022-11-19T13:23:35.455030Z"
    },
    "id": "8AMmxKHgoJGT",
    "papermill": {
     "duration": 0.063608,
     "end_time": "2022-11-19T13:23:35.458660",
     "exception": false,
     "start_time": "2022-11-19T13:23:35.395052",
     "status": "completed"
    },
    "tags": []
   },
   "outputs": [
    {
     "data": {
      "text/html": [
       "<div>\n",
       "<style scoped>\n",
       "    .dataframe tbody tr th:only-of-type {\n",
       "        vertical-align: middle;\n",
       "    }\n",
       "\n",
       "    .dataframe tbody tr th {\n",
       "        vertical-align: top;\n",
       "    }\n",
       "\n",
       "    .dataframe thead th {\n",
       "        text-align: right;\n",
       "    }\n",
       "</style>\n",
       "<table border=\"1\" class=\"dataframe\">\n",
       "  <thead>\n",
       "    <tr style=\"text-align: right;\">\n",
       "      <th></th>\n",
       "      <th>App</th>\n",
       "    </tr>\n",
       "    <tr>\n",
       "      <th>Installs</th>\n",
       "      <th></th>\n",
       "    </tr>\n",
       "  </thead>\n",
       "  <tbody>\n",
       "    <tr>\n",
       "      <th>1</th>\n",
       "      <td>3</td>\n",
       "    </tr>\n",
       "    <tr>\n",
       "      <th>5</th>\n",
       "      <td>9</td>\n",
       "    </tr>\n",
       "    <tr>\n",
       "      <th>10</th>\n",
       "      <td>69</td>\n",
       "    </tr>\n",
       "    <tr>\n",
       "      <th>50</th>\n",
       "      <td>56</td>\n",
       "    </tr>\n",
       "    <tr>\n",
       "      <th>100</th>\n",
       "      <td>303</td>\n",
       "    </tr>\n",
       "    <tr>\n",
       "      <th>500</th>\n",
       "      <td>199</td>\n",
       "    </tr>\n",
       "    <tr>\n",
       "      <th>1000</th>\n",
       "      <td>698</td>\n",
       "    </tr>\n",
       "    <tr>\n",
       "      <th>5000</th>\n",
       "      <td>425</td>\n",
       "    </tr>\n",
       "    <tr>\n",
       "      <th>10000</th>\n",
       "      <td>988</td>\n",
       "    </tr>\n",
       "    <tr>\n",
       "      <th>50000</th>\n",
       "      <td>457</td>\n",
       "    </tr>\n",
       "    <tr>\n",
       "      <th>100000</th>\n",
       "      <td>1096</td>\n",
       "    </tr>\n",
       "    <tr>\n",
       "      <th>500000</th>\n",
       "      <td>504</td>\n",
       "    </tr>\n",
       "    <tr>\n",
       "      <th>1000000</th>\n",
       "      <td>1417</td>\n",
       "    </tr>\n",
       "    <tr>\n",
       "      <th>5000000</th>\n",
       "      <td>607</td>\n",
       "    </tr>\n",
       "    <tr>\n",
       "      <th>10000000</th>\n",
       "      <td>933</td>\n",
       "    </tr>\n",
       "    <tr>\n",
       "      <th>50000000</th>\n",
       "      <td>202</td>\n",
       "    </tr>\n",
       "    <tr>\n",
       "      <th>100000000</th>\n",
       "      <td>189</td>\n",
       "    </tr>\n",
       "    <tr>\n",
       "      <th>500000000</th>\n",
       "      <td>24</td>\n",
       "    </tr>\n",
       "    <tr>\n",
       "      <th>1000000000</th>\n",
       "      <td>20</td>\n",
       "    </tr>\n",
       "  </tbody>\n",
       "</table>\n",
       "</div>"
      ],
      "text/plain": [
       "             App\n",
       "Installs        \n",
       "1              3\n",
       "5              9\n",
       "10            69\n",
       "50            56\n",
       "100          303\n",
       "500          199\n",
       "1000         698\n",
       "5000         425\n",
       "10000        988\n",
       "50000        457\n",
       "100000      1096\n",
       "500000       504\n",
       "1000000     1417\n",
       "5000000      607\n",
       "10000000     933\n",
       "50000000     202\n",
       "100000000    189\n",
       "500000000     24\n",
       "1000000000    20"
      ]
     },
     "execution_count": 25,
     "metadata": {},
     "output_type": "execute_result"
    }
   ],
   "source": [
    "df_apps_clean.Installs = df_apps_clean.Installs.astype(str).str.replace(',', \"\")\n",
    "df_apps_clean.Installs = pd.to_numeric(df_apps_clean.Installs)\n",
    "df_apps_clean[['App', 'Installs']].groupby('Installs').count()"
   ]
  },
  {
   "cell_type": "markdown",
   "id": "dfcfab76",
   "metadata": {
    "papermill": {
     "duration": 0.031558,
     "end_time": "2022-11-19T13:23:35.522831",
     "exception": false,
     "start_time": "2022-11-19T13:23:35.491273",
     "status": "completed"
    },
    "tags": []
   },
   "source": [
    "Let's examine the Price column more closely."
   ]
  },
  {
   "cell_type": "markdown",
   "id": "a4c2de37",
   "metadata": {
    "id": "7T4sfNpFdiUv",
    "papermill": {
     "duration": 0.031144,
     "end_time": "2022-11-19T13:23:35.585556",
     "exception": false,
     "start_time": "2022-11-19T13:23:35.554412",
     "status": "completed"
    },
    "tags": []
   },
   "source": [
    "# Find the Most Expensive Apps, Filter out the Junk, and Calculate a (ballpark) Sales Revenue Estimate\n",
    "\n",
    "Let's examine the Price column more closely.\n",
    "\n",
    "**Challenge**: Convert the price column to numeric data. Then investigate the top 20 most expensive apps in the dataset.\n",
    "\n",
    "Remove all apps that cost more than $250 from the `df_apps_clean` DataFrame.\n",
    "\n",
    "Add a column called 'Revenue_Estimate' to the DataFrame. This column should hold the price of the app times the number of installs. What are the top 10 highest grossing paid apps according to this estimate? Out of the top 10 highest grossing paid apps, how many are games?\n"
   ]
  },
  {
   "cell_type": "markdown",
   "id": "513a50bc",
   "metadata": {
    "papermill": {
     "duration": 0.030915,
     "end_time": "2022-11-19T13:23:35.647653",
     "exception": false,
     "start_time": "2022-11-19T13:23:35.616738",
     "status": "completed"
    },
    "tags": []
   },
   "source": [
    "If you look at the data type of the price column:"
   ]
  },
  {
   "cell_type": "code",
   "execution_count": 26,
   "id": "ba8b5c86",
   "metadata": {
    "execution": {
     "iopub.execute_input": "2022-11-19T13:23:35.712781Z",
     "iopub.status.busy": "2022-11-19T13:23:35.712367Z",
     "iopub.status.idle": "2022-11-19T13:23:35.723158Z",
     "shell.execute_reply": "2022-11-19T13:23:35.721997Z"
    },
    "papermill": {
     "duration": 0.045906,
     "end_time": "2022-11-19T13:23:35.725383",
     "exception": false,
     "start_time": "2022-11-19T13:23:35.679477",
     "status": "completed"
    },
    "tags": []
   },
   "outputs": [
    {
     "data": {
      "text/plain": [
       "count     8199\n",
       "unique      73\n",
       "top          0\n",
       "freq      7595\n",
       "Name: Price, dtype: object"
      ]
     },
     "execution_count": 26,
     "metadata": {},
     "output_type": "execute_result"
    }
   ],
   "source": [
    "df_apps_clean.Price.describe()"
   ]
  },
  {
   "cell_type": "markdown",
   "id": "4252acbb",
   "metadata": {
    "papermill": {
     "duration": 0.032971,
     "end_time": "2022-11-19T13:23:35.790106",
     "exception": false,
     "start_time": "2022-11-19T13:23:35.757135",
     "status": "completed"
    },
    "tags": []
   },
   "source": [
    "You also see that is of type object. The reason is the dollar $ signs that we’ve spotted before. To convert the price column to numeric data we use the .replace() method once again, but this time we filter out the dollar sign."
   ]
  },
  {
   "cell_type": "code",
   "execution_count": 27,
   "id": "adc7260f",
   "metadata": {
    "execution": {
     "iopub.execute_input": "2022-11-19T13:23:35.855040Z",
     "iopub.status.busy": "2022-11-19T13:23:35.854632Z",
     "iopub.status.idle": "2022-11-19T13:23:35.887887Z",
     "shell.execute_reply": "2022-11-19T13:23:35.886575Z"
    },
    "id": "CqhX2WCJoQEp",
    "papermill": {
     "duration": 0.069199,
     "end_time": "2022-11-19T13:23:35.890689",
     "exception": false,
     "start_time": "2022-11-19T13:23:35.821490",
     "status": "completed"
    },
    "tags": []
   },
   "outputs": [
    {
     "name": "stderr",
     "output_type": "stream",
     "text": [
      "/opt/conda/lib/python3.7/site-packages/ipykernel_launcher.py:1: FutureWarning:\n",
      "\n",
      "The default value of regex will change from True to False in a future version. In addition, single character regular expressions will *not* be treated as literal strings when regex=True.\n",
      "\n"
     ]
    },
    {
     "data": {
      "text/html": [
       "<div>\n",
       "<style scoped>\n",
       "    .dataframe tbody tr th:only-of-type {\n",
       "        vertical-align: middle;\n",
       "    }\n",
       "\n",
       "    .dataframe tbody tr th {\n",
       "        vertical-align: top;\n",
       "    }\n",
       "\n",
       "    .dataframe thead th {\n",
       "        text-align: right;\n",
       "    }\n",
       "</style>\n",
       "<table border=\"1\" class=\"dataframe\">\n",
       "  <thead>\n",
       "    <tr style=\"text-align: right;\">\n",
       "      <th></th>\n",
       "      <th>App</th>\n",
       "      <th>Category</th>\n",
       "      <th>Rating</th>\n",
       "      <th>Reviews</th>\n",
       "      <th>Size_MBs</th>\n",
       "      <th>Installs</th>\n",
       "      <th>Type</th>\n",
       "      <th>Price</th>\n",
       "      <th>Content_Rating</th>\n",
       "      <th>Genres</th>\n",
       "    </tr>\n",
       "  </thead>\n",
       "  <tbody>\n",
       "    <tr>\n",
       "      <th>3946</th>\n",
       "      <td>I'm Rich - Trump Edition</td>\n",
       "      <td>LIFESTYLE</td>\n",
       "      <td>3.60</td>\n",
       "      <td>275</td>\n",
       "      <td>7.30</td>\n",
       "      <td>10000</td>\n",
       "      <td>Paid</td>\n",
       "      <td>400.00</td>\n",
       "      <td>Everyone</td>\n",
       "      <td>Lifestyle</td>\n",
       "    </tr>\n",
       "    <tr>\n",
       "      <th>2461</th>\n",
       "      <td>I AM RICH PRO PLUS</td>\n",
       "      <td>FINANCE</td>\n",
       "      <td>4.00</td>\n",
       "      <td>36</td>\n",
       "      <td>41.00</td>\n",
       "      <td>1000</td>\n",
       "      <td>Paid</td>\n",
       "      <td>399.99</td>\n",
       "      <td>Everyone</td>\n",
       "      <td>Finance</td>\n",
       "    </tr>\n",
       "    <tr>\n",
       "      <th>4606</th>\n",
       "      <td>I Am Rich Premium</td>\n",
       "      <td>FINANCE</td>\n",
       "      <td>4.10</td>\n",
       "      <td>1867</td>\n",
       "      <td>4.70</td>\n",
       "      <td>50000</td>\n",
       "      <td>Paid</td>\n",
       "      <td>399.99</td>\n",
       "      <td>Everyone</td>\n",
       "      <td>Finance</td>\n",
       "    </tr>\n",
       "    <tr>\n",
       "      <th>3145</th>\n",
       "      <td>I am rich(premium)</td>\n",
       "      <td>FINANCE</td>\n",
       "      <td>3.50</td>\n",
       "      <td>472</td>\n",
       "      <td>0.94</td>\n",
       "      <td>5000</td>\n",
       "      <td>Paid</td>\n",
       "      <td>399.99</td>\n",
       "      <td>Everyone</td>\n",
       "      <td>Finance</td>\n",
       "    </tr>\n",
       "    <tr>\n",
       "      <th>3554</th>\n",
       "      <td>💎 I'm rich</td>\n",
       "      <td>LIFESTYLE</td>\n",
       "      <td>3.80</td>\n",
       "      <td>718</td>\n",
       "      <td>26.00</td>\n",
       "      <td>10000</td>\n",
       "      <td>Paid</td>\n",
       "      <td>399.99</td>\n",
       "      <td>Everyone</td>\n",
       "      <td>Lifestyle</td>\n",
       "    </tr>\n",
       "    <tr>\n",
       "      <th>5765</th>\n",
       "      <td>I am rich</td>\n",
       "      <td>LIFESTYLE</td>\n",
       "      <td>3.80</td>\n",
       "      <td>3547</td>\n",
       "      <td>1.80</td>\n",
       "      <td>100000</td>\n",
       "      <td>Paid</td>\n",
       "      <td>399.99</td>\n",
       "      <td>Everyone</td>\n",
       "      <td>Lifestyle</td>\n",
       "    </tr>\n",
       "    <tr>\n",
       "      <th>1946</th>\n",
       "      <td>I am rich (Most expensive app)</td>\n",
       "      <td>FINANCE</td>\n",
       "      <td>4.10</td>\n",
       "      <td>129</td>\n",
       "      <td>2.70</td>\n",
       "      <td>1000</td>\n",
       "      <td>Paid</td>\n",
       "      <td>399.99</td>\n",
       "      <td>Teen</td>\n",
       "      <td>Finance</td>\n",
       "    </tr>\n",
       "    <tr>\n",
       "      <th>2775</th>\n",
       "      <td>I Am Rich Pro</td>\n",
       "      <td>FAMILY</td>\n",
       "      <td>4.40</td>\n",
       "      <td>201</td>\n",
       "      <td>2.70</td>\n",
       "      <td>5000</td>\n",
       "      <td>Paid</td>\n",
       "      <td>399.99</td>\n",
       "      <td>Everyone</td>\n",
       "      <td>Entertainment</td>\n",
       "    </tr>\n",
       "    <tr>\n",
       "      <th>3221</th>\n",
       "      <td>I am Rich Plus</td>\n",
       "      <td>FAMILY</td>\n",
       "      <td>4.00</td>\n",
       "      <td>856</td>\n",
       "      <td>8.70</td>\n",
       "      <td>10000</td>\n",
       "      <td>Paid</td>\n",
       "      <td>399.99</td>\n",
       "      <td>Everyone</td>\n",
       "      <td>Entertainment</td>\n",
       "    </tr>\n",
       "    <tr>\n",
       "      <th>3114</th>\n",
       "      <td>I am Rich</td>\n",
       "      <td>FINANCE</td>\n",
       "      <td>4.30</td>\n",
       "      <td>180</td>\n",
       "      <td>3.80</td>\n",
       "      <td>5000</td>\n",
       "      <td>Paid</td>\n",
       "      <td>399.99</td>\n",
       "      <td>Everyone</td>\n",
       "      <td>Finance</td>\n",
       "    </tr>\n",
       "    <tr>\n",
       "      <th>1331</th>\n",
       "      <td>most expensive app (H)</td>\n",
       "      <td>FAMILY</td>\n",
       "      <td>4.30</td>\n",
       "      <td>6</td>\n",
       "      <td>1.50</td>\n",
       "      <td>100</td>\n",
       "      <td>Paid</td>\n",
       "      <td>399.99</td>\n",
       "      <td>Everyone</td>\n",
       "      <td>Entertainment</td>\n",
       "    </tr>\n",
       "    <tr>\n",
       "      <th>2394</th>\n",
       "      <td>I am Rich!</td>\n",
       "      <td>FINANCE</td>\n",
       "      <td>3.80</td>\n",
       "      <td>93</td>\n",
       "      <td>22.00</td>\n",
       "      <td>1000</td>\n",
       "      <td>Paid</td>\n",
       "      <td>399.99</td>\n",
       "      <td>Everyone</td>\n",
       "      <td>Finance</td>\n",
       "    </tr>\n",
       "    <tr>\n",
       "      <th>3897</th>\n",
       "      <td>I Am Rich</td>\n",
       "      <td>FAMILY</td>\n",
       "      <td>3.60</td>\n",
       "      <td>217</td>\n",
       "      <td>4.90</td>\n",
       "      <td>10000</td>\n",
       "      <td>Paid</td>\n",
       "      <td>389.99</td>\n",
       "      <td>Everyone</td>\n",
       "      <td>Entertainment</td>\n",
       "    </tr>\n",
       "    <tr>\n",
       "      <th>2193</th>\n",
       "      <td>I am extremely Rich</td>\n",
       "      <td>LIFESTYLE</td>\n",
       "      <td>2.90</td>\n",
       "      <td>41</td>\n",
       "      <td>2.90</td>\n",
       "      <td>1000</td>\n",
       "      <td>Paid</td>\n",
       "      <td>379.99</td>\n",
       "      <td>Everyone</td>\n",
       "      <td>Lifestyle</td>\n",
       "    </tr>\n",
       "    <tr>\n",
       "      <th>3856</th>\n",
       "      <td>I am rich VIP</td>\n",
       "      <td>LIFESTYLE</td>\n",
       "      <td>3.80</td>\n",
       "      <td>411</td>\n",
       "      <td>2.60</td>\n",
       "      <td>10000</td>\n",
       "      <td>Paid</td>\n",
       "      <td>299.99</td>\n",
       "      <td>Everyone</td>\n",
       "      <td>Lifestyle</td>\n",
       "    </tr>\n",
       "    <tr>\n",
       "      <th>2281</th>\n",
       "      <td>Vargo Anesthesia Mega App</td>\n",
       "      <td>MEDICAL</td>\n",
       "      <td>4.60</td>\n",
       "      <td>92</td>\n",
       "      <td>32.00</td>\n",
       "      <td>1000</td>\n",
       "      <td>Paid</td>\n",
       "      <td>79.99</td>\n",
       "      <td>Everyone</td>\n",
       "      <td>Medical</td>\n",
       "    </tr>\n",
       "    <tr>\n",
       "      <th>1407</th>\n",
       "      <td>LTC AS Legal</td>\n",
       "      <td>MEDICAL</td>\n",
       "      <td>4.00</td>\n",
       "      <td>6</td>\n",
       "      <td>1.30</td>\n",
       "      <td>100</td>\n",
       "      <td>Paid</td>\n",
       "      <td>39.99</td>\n",
       "      <td>Everyone</td>\n",
       "      <td>Medical</td>\n",
       "    </tr>\n",
       "    <tr>\n",
       "      <th>2629</th>\n",
       "      <td>I am Rich Person</td>\n",
       "      <td>LIFESTYLE</td>\n",
       "      <td>4.20</td>\n",
       "      <td>134</td>\n",
       "      <td>1.80</td>\n",
       "      <td>1000</td>\n",
       "      <td>Paid</td>\n",
       "      <td>37.99</td>\n",
       "      <td>Everyone</td>\n",
       "      <td>Lifestyle</td>\n",
       "    </tr>\n",
       "    <tr>\n",
       "      <th>2481</th>\n",
       "      <td>A Manual of Acupuncture</td>\n",
       "      <td>MEDICAL</td>\n",
       "      <td>3.50</td>\n",
       "      <td>214</td>\n",
       "      <td>68.00</td>\n",
       "      <td>1000</td>\n",
       "      <td>Paid</td>\n",
       "      <td>33.99</td>\n",
       "      <td>Everyone</td>\n",
       "      <td>Medical</td>\n",
       "    </tr>\n",
       "    <tr>\n",
       "      <th>4264</th>\n",
       "      <td>Golfshot Plus: Golf GPS</td>\n",
       "      <td>SPORTS</td>\n",
       "      <td>4.10</td>\n",
       "      <td>3387</td>\n",
       "      <td>25.00</td>\n",
       "      <td>50000</td>\n",
       "      <td>Paid</td>\n",
       "      <td>29.99</td>\n",
       "      <td>Everyone</td>\n",
       "      <td>Sports</td>\n",
       "    </tr>\n",
       "  </tbody>\n",
       "</table>\n",
       "</div>"
      ],
      "text/plain": [
       "                                 App   Category  Rating  Reviews  Size_MBs  \\\n",
       "3946        I'm Rich - Trump Edition  LIFESTYLE    3.60      275      7.30   \n",
       "2461              I AM RICH PRO PLUS    FINANCE    4.00       36     41.00   \n",
       "4606               I Am Rich Premium    FINANCE    4.10     1867      4.70   \n",
       "3145              I am rich(premium)    FINANCE    3.50      472      0.94   \n",
       "3554                      💎 I'm rich  LIFESTYLE    3.80      718     26.00   \n",
       "5765                       I am rich  LIFESTYLE    3.80     3547      1.80   \n",
       "1946  I am rich (Most expensive app)    FINANCE    4.10      129      2.70   \n",
       "2775                   I Am Rich Pro     FAMILY    4.40      201      2.70   \n",
       "3221                  I am Rich Plus     FAMILY    4.00      856      8.70   \n",
       "3114                       I am Rich    FINANCE    4.30      180      3.80   \n",
       "1331          most expensive app (H)     FAMILY    4.30        6      1.50   \n",
       "2394                      I am Rich!    FINANCE    3.80       93     22.00   \n",
       "3897                       I Am Rich     FAMILY    3.60      217      4.90   \n",
       "2193             I am extremely Rich  LIFESTYLE    2.90       41      2.90   \n",
       "3856                   I am rich VIP  LIFESTYLE    3.80      411      2.60   \n",
       "2281       Vargo Anesthesia Mega App    MEDICAL    4.60       92     32.00   \n",
       "1407                    LTC AS Legal    MEDICAL    4.00        6      1.30   \n",
       "2629                I am Rich Person  LIFESTYLE    4.20      134      1.80   \n",
       "2481         A Manual of Acupuncture    MEDICAL    3.50      214     68.00   \n",
       "4264         Golfshot Plus: Golf GPS     SPORTS    4.10     3387     25.00   \n",
       "\n",
       "      Installs  Type  Price Content_Rating         Genres  \n",
       "3946     10000  Paid 400.00       Everyone      Lifestyle  \n",
       "2461      1000  Paid 399.99       Everyone        Finance  \n",
       "4606     50000  Paid 399.99       Everyone        Finance  \n",
       "3145      5000  Paid 399.99       Everyone        Finance  \n",
       "3554     10000  Paid 399.99       Everyone      Lifestyle  \n",
       "5765    100000  Paid 399.99       Everyone      Lifestyle  \n",
       "1946      1000  Paid 399.99           Teen        Finance  \n",
       "2775      5000  Paid 399.99       Everyone  Entertainment  \n",
       "3221     10000  Paid 399.99       Everyone  Entertainment  \n",
       "3114      5000  Paid 399.99       Everyone        Finance  \n",
       "1331       100  Paid 399.99       Everyone  Entertainment  \n",
       "2394      1000  Paid 399.99       Everyone        Finance  \n",
       "3897     10000  Paid 389.99       Everyone  Entertainment  \n",
       "2193      1000  Paid 379.99       Everyone      Lifestyle  \n",
       "3856     10000  Paid 299.99       Everyone      Lifestyle  \n",
       "2281      1000  Paid  79.99       Everyone        Medical  \n",
       "1407       100  Paid  39.99       Everyone        Medical  \n",
       "2629      1000  Paid  37.99       Everyone      Lifestyle  \n",
       "2481      1000  Paid  33.99       Everyone        Medical  \n",
       "4264     50000  Paid  29.99       Everyone         Sports  "
      ]
     },
     "execution_count": 27,
     "metadata": {},
     "output_type": "execute_result"
    }
   ],
   "source": [
    "df_apps_clean.Price = df_apps_clean.Price.astype(str).str.replace('$', \"\")\n",
    "df_apps_clean.Price = pd.to_numeric(df_apps_clean.Price)\n",
    " \n",
    "df_apps_clean.sort_values('Price', ascending=False).head(20)"
   ]
  },
  {
   "cell_type": "markdown",
   "id": "7ae58eb8",
   "metadata": {
    "papermill": {
     "duration": 0.03177,
     "end_time": "2022-11-19T13:23:35.955040",
     "exception": false,
     "start_time": "2022-11-19T13:23:35.923270",
     "status": "completed"
    },
    "tags": []
   },
   "source": [
    "What’s going on here? There are 15 I am Rich Apps in the Google Play Store apparently. They all cost 300 or more, which is the main point of the app. The story goes that in 2008, Armin Heinrich released the very first I am Rich app in the iOS App Store for 999.90. The app does absolutely nothing. It just displays the picture of a gemstone and can be used to prove to your friends how rich you are. Armin actually made a total of 7 sales before the app was hastily removed by Apple. Nonetheless, it inspired a bunch of copycats on the Android App Store, but if you search today, you’ll find all of these apps have disappeared as well. The high installation numbers are likely gamed by making the app was available for free at some point to get reviews and appear more legitimate."
   ]
  },
  {
   "cell_type": "markdown",
   "id": "3354eeaf",
   "metadata": {
    "id": "Rgposh-CdiU4",
    "papermill": {
     "duration": 0.031564,
     "end_time": "2022-11-19T13:23:36.018598",
     "exception": false,
     "start_time": "2022-11-19T13:23:35.987034",
     "status": "completed"
    },
    "tags": []
   },
   "source": [
    "### The most expensive apps sub $250"
   ]
  },
  {
   "cell_type": "markdown",
   "id": "4a72da71",
   "metadata": {
    "papermill": {
     "duration": 0.031725,
     "end_time": "2022-11-19T13:23:36.082740",
     "exception": false,
     "start_time": "2022-11-19T13:23:36.051015",
     "status": "completed"
    },
    "tags": []
   },
   "source": [
    "Leaving this bad data in our dataset will misrepresent our analysis of the most expensive 'real' apps. Here’s how we can remove these rows:"
   ]
  },
  {
   "cell_type": "code",
   "execution_count": 28,
   "id": "011f8660",
   "metadata": {
    "execution": {
     "iopub.execute_input": "2022-11-19T13:23:36.149004Z",
     "iopub.status.busy": "2022-11-19T13:23:36.148575Z",
     "iopub.status.idle": "2022-11-19T13:23:36.168558Z",
     "shell.execute_reply": "2022-11-19T13:23:36.166989Z"
    },
    "id": "c8_n8z8XoUML",
    "papermill": {
     "duration": 0.056321,
     "end_time": "2022-11-19T13:23:36.171143",
     "exception": false,
     "start_time": "2022-11-19T13:23:36.114822",
     "status": "completed"
    },
    "tags": []
   },
   "outputs": [
    {
     "data": {
      "text/html": [
       "<div>\n",
       "<style scoped>\n",
       "    .dataframe tbody tr th:only-of-type {\n",
       "        vertical-align: middle;\n",
       "    }\n",
       "\n",
       "    .dataframe tbody tr th {\n",
       "        vertical-align: top;\n",
       "    }\n",
       "\n",
       "    .dataframe thead th {\n",
       "        text-align: right;\n",
       "    }\n",
       "</style>\n",
       "<table border=\"1\" class=\"dataframe\">\n",
       "  <thead>\n",
       "    <tr style=\"text-align: right;\">\n",
       "      <th></th>\n",
       "      <th>App</th>\n",
       "      <th>Category</th>\n",
       "      <th>Rating</th>\n",
       "      <th>Reviews</th>\n",
       "      <th>Size_MBs</th>\n",
       "      <th>Installs</th>\n",
       "      <th>Type</th>\n",
       "      <th>Price</th>\n",
       "      <th>Content_Rating</th>\n",
       "      <th>Genres</th>\n",
       "    </tr>\n",
       "  </thead>\n",
       "  <tbody>\n",
       "    <tr>\n",
       "      <th>2281</th>\n",
       "      <td>Vargo Anesthesia Mega App</td>\n",
       "      <td>MEDICAL</td>\n",
       "      <td>4.60</td>\n",
       "      <td>92</td>\n",
       "      <td>32.00</td>\n",
       "      <td>1000</td>\n",
       "      <td>Paid</td>\n",
       "      <td>79.99</td>\n",
       "      <td>Everyone</td>\n",
       "      <td>Medical</td>\n",
       "    </tr>\n",
       "    <tr>\n",
       "      <th>1407</th>\n",
       "      <td>LTC AS Legal</td>\n",
       "      <td>MEDICAL</td>\n",
       "      <td>4.00</td>\n",
       "      <td>6</td>\n",
       "      <td>1.30</td>\n",
       "      <td>100</td>\n",
       "      <td>Paid</td>\n",
       "      <td>39.99</td>\n",
       "      <td>Everyone</td>\n",
       "      <td>Medical</td>\n",
       "    </tr>\n",
       "    <tr>\n",
       "      <th>2629</th>\n",
       "      <td>I am Rich Person</td>\n",
       "      <td>LIFESTYLE</td>\n",
       "      <td>4.20</td>\n",
       "      <td>134</td>\n",
       "      <td>1.80</td>\n",
       "      <td>1000</td>\n",
       "      <td>Paid</td>\n",
       "      <td>37.99</td>\n",
       "      <td>Everyone</td>\n",
       "      <td>Lifestyle</td>\n",
       "    </tr>\n",
       "    <tr>\n",
       "      <th>2481</th>\n",
       "      <td>A Manual of Acupuncture</td>\n",
       "      <td>MEDICAL</td>\n",
       "      <td>3.50</td>\n",
       "      <td>214</td>\n",
       "      <td>68.00</td>\n",
       "      <td>1000</td>\n",
       "      <td>Paid</td>\n",
       "      <td>33.99</td>\n",
       "      <td>Everyone</td>\n",
       "      <td>Medical</td>\n",
       "    </tr>\n",
       "    <tr>\n",
       "      <th>2463</th>\n",
       "      <td>PTA Content Master</td>\n",
       "      <td>MEDICAL</td>\n",
       "      <td>4.20</td>\n",
       "      <td>64</td>\n",
       "      <td>41.00</td>\n",
       "      <td>1000</td>\n",
       "      <td>Paid</td>\n",
       "      <td>29.99</td>\n",
       "      <td>Everyone</td>\n",
       "      <td>Medical</td>\n",
       "    </tr>\n",
       "  </tbody>\n",
       "</table>\n",
       "</div>"
      ],
      "text/plain": [
       "                            App   Category  Rating  Reviews  Size_MBs  \\\n",
       "2281  Vargo Anesthesia Mega App    MEDICAL    4.60       92     32.00   \n",
       "1407               LTC AS Legal    MEDICAL    4.00        6      1.30   \n",
       "2629           I am Rich Person  LIFESTYLE    4.20      134      1.80   \n",
       "2481    A Manual of Acupuncture    MEDICAL    3.50      214     68.00   \n",
       "2463         PTA Content Master    MEDICAL    4.20       64     41.00   \n",
       "\n",
       "      Installs  Type  Price Content_Rating     Genres  \n",
       "2281      1000  Paid  79.99       Everyone    Medical  \n",
       "1407       100  Paid  39.99       Everyone    Medical  \n",
       "2629      1000  Paid  37.99       Everyone  Lifestyle  \n",
       "2481      1000  Paid  33.99       Everyone    Medical  \n",
       "2463      1000  Paid  29.99       Everyone    Medical  "
      ]
     },
     "execution_count": 28,
     "metadata": {},
     "output_type": "execute_result"
    }
   ],
   "source": [
    "df_apps_clean = df_apps_clean[df_apps_clean['Price'] < 250]\n",
    "df_apps_clean.sort_values('Price', ascending=False).head(5)"
   ]
  },
  {
   "cell_type": "markdown",
   "id": "698ab969",
   "metadata": {
    "id": "VGu85CLb4OOH",
    "papermill": {
     "duration": 0.032547,
     "end_time": "2022-11-19T13:23:36.236234",
     "exception": false,
     "start_time": "2022-11-19T13:23:36.203687",
     "status": "completed"
    },
    "tags": []
   },
   "source": [
    "### Highest Grossing Paid Apps (ballpark estimate)"
   ]
  },
  {
   "cell_type": "markdown",
   "id": "8bffd492",
   "metadata": {
    "papermill": {
     "duration": 0.032491,
     "end_time": "2022-11-19T13:23:36.300930",
     "exception": false,
     "start_time": "2022-11-19T13:23:36.268439",
     "status": "completed"
    },
    "tags": []
   },
   "source": [
    "We can work out the highest grossing paid apps now. All we need to do is multiply the values in the price and the installs column to get the number:"
   ]
  },
  {
   "cell_type": "code",
   "execution_count": 29,
   "id": "373eda8a",
   "metadata": {
    "execution": {
     "iopub.execute_input": "2022-11-19T13:23:36.368330Z",
     "iopub.status.busy": "2022-11-19T13:23:36.367918Z",
     "iopub.status.idle": "2022-11-19T13:23:36.388734Z",
     "shell.execute_reply": "2022-11-19T13:23:36.387706Z"
    },
    "id": "3mDi45iIoVzE",
    "papermill": {
     "duration": 0.058041,
     "end_time": "2022-11-19T13:23:36.391204",
     "exception": false,
     "start_time": "2022-11-19T13:23:36.333163",
     "status": "completed"
    },
    "tags": []
   },
   "outputs": [
    {
     "data": {
      "text/html": [
       "<div>\n",
       "<style scoped>\n",
       "    .dataframe tbody tr th:only-of-type {\n",
       "        vertical-align: middle;\n",
       "    }\n",
       "\n",
       "    .dataframe tbody tr th {\n",
       "        vertical-align: top;\n",
       "    }\n",
       "\n",
       "    .dataframe thead th {\n",
       "        text-align: right;\n",
       "    }\n",
       "</style>\n",
       "<table border=\"1\" class=\"dataframe\">\n",
       "  <thead>\n",
       "    <tr style=\"text-align: right;\">\n",
       "      <th></th>\n",
       "      <th>App</th>\n",
       "      <th>Category</th>\n",
       "      <th>Rating</th>\n",
       "      <th>Reviews</th>\n",
       "      <th>Size_MBs</th>\n",
       "      <th>Installs</th>\n",
       "      <th>Type</th>\n",
       "      <th>Price</th>\n",
       "      <th>Content_Rating</th>\n",
       "      <th>Genres</th>\n",
       "      <th>Revenue_Estimate</th>\n",
       "    </tr>\n",
       "  </thead>\n",
       "  <tbody>\n",
       "    <tr>\n",
       "      <th>9220</th>\n",
       "      <td>Minecraft</td>\n",
       "      <td>FAMILY</td>\n",
       "      <td>4.50</td>\n",
       "      <td>2376564</td>\n",
       "      <td>19.00</td>\n",
       "      <td>10000000</td>\n",
       "      <td>Paid</td>\n",
       "      <td>6.99</td>\n",
       "      <td>Everyone 10+</td>\n",
       "      <td>Arcade;Action &amp; Adventure</td>\n",
       "      <td>69,900,000.00</td>\n",
       "    </tr>\n",
       "    <tr>\n",
       "      <th>8825</th>\n",
       "      <td>Hitman Sniper</td>\n",
       "      <td>GAME</td>\n",
       "      <td>4.60</td>\n",
       "      <td>408292</td>\n",
       "      <td>29.00</td>\n",
       "      <td>10000000</td>\n",
       "      <td>Paid</td>\n",
       "      <td>0.99</td>\n",
       "      <td>Mature 17+</td>\n",
       "      <td>Action</td>\n",
       "      <td>9,900,000.00</td>\n",
       "    </tr>\n",
       "    <tr>\n",
       "      <th>7151</th>\n",
       "      <td>Grand Theft Auto: San Andreas</td>\n",
       "      <td>GAME</td>\n",
       "      <td>4.40</td>\n",
       "      <td>348962</td>\n",
       "      <td>26.00</td>\n",
       "      <td>1000000</td>\n",
       "      <td>Paid</td>\n",
       "      <td>6.99</td>\n",
       "      <td>Mature 17+</td>\n",
       "      <td>Action</td>\n",
       "      <td>6,990,000.00</td>\n",
       "    </tr>\n",
       "    <tr>\n",
       "      <th>7477</th>\n",
       "      <td>Facetune - For Free</td>\n",
       "      <td>PHOTOGRAPHY</td>\n",
       "      <td>4.40</td>\n",
       "      <td>49553</td>\n",
       "      <td>48.00</td>\n",
       "      <td>1000000</td>\n",
       "      <td>Paid</td>\n",
       "      <td>5.99</td>\n",
       "      <td>Everyone</td>\n",
       "      <td>Photography</td>\n",
       "      <td>5,990,000.00</td>\n",
       "    </tr>\n",
       "    <tr>\n",
       "      <th>7977</th>\n",
       "      <td>Sleep as Android Unlock</td>\n",
       "      <td>LIFESTYLE</td>\n",
       "      <td>4.50</td>\n",
       "      <td>23966</td>\n",
       "      <td>0.85</td>\n",
       "      <td>1000000</td>\n",
       "      <td>Paid</td>\n",
       "      <td>5.99</td>\n",
       "      <td>Everyone</td>\n",
       "      <td>Lifestyle</td>\n",
       "      <td>5,990,000.00</td>\n",
       "    </tr>\n",
       "    <tr>\n",
       "      <th>6594</th>\n",
       "      <td>DraStic DS Emulator</td>\n",
       "      <td>GAME</td>\n",
       "      <td>4.60</td>\n",
       "      <td>87766</td>\n",
       "      <td>12.00</td>\n",
       "      <td>1000000</td>\n",
       "      <td>Paid</td>\n",
       "      <td>4.99</td>\n",
       "      <td>Everyone</td>\n",
       "      <td>Action</td>\n",
       "      <td>4,990,000.00</td>\n",
       "    </tr>\n",
       "    <tr>\n",
       "      <th>6082</th>\n",
       "      <td>Weather Live</td>\n",
       "      <td>WEATHER</td>\n",
       "      <td>4.50</td>\n",
       "      <td>76593</td>\n",
       "      <td>4.75</td>\n",
       "      <td>500000</td>\n",
       "      <td>Paid</td>\n",
       "      <td>5.99</td>\n",
       "      <td>Everyone</td>\n",
       "      <td>Weather</td>\n",
       "      <td>2,995,000.00</td>\n",
       "    </tr>\n",
       "    <tr>\n",
       "      <th>7954</th>\n",
       "      <td>Bloons TD 5</td>\n",
       "      <td>FAMILY</td>\n",
       "      <td>4.60</td>\n",
       "      <td>190086</td>\n",
       "      <td>94.00</td>\n",
       "      <td>1000000</td>\n",
       "      <td>Paid</td>\n",
       "      <td>2.99</td>\n",
       "      <td>Everyone</td>\n",
       "      <td>Strategy</td>\n",
       "      <td>2,990,000.00</td>\n",
       "    </tr>\n",
       "    <tr>\n",
       "      <th>7633</th>\n",
       "      <td>Five Nights at Freddy's</td>\n",
       "      <td>GAME</td>\n",
       "      <td>4.60</td>\n",
       "      <td>100805</td>\n",
       "      <td>50.00</td>\n",
       "      <td>1000000</td>\n",
       "      <td>Paid</td>\n",
       "      <td>2.99</td>\n",
       "      <td>Teen</td>\n",
       "      <td>Action</td>\n",
       "      <td>2,990,000.00</td>\n",
       "    </tr>\n",
       "    <tr>\n",
       "      <th>6746</th>\n",
       "      <td>Card Wars - Adventure Time</td>\n",
       "      <td>FAMILY</td>\n",
       "      <td>4.30</td>\n",
       "      <td>129603</td>\n",
       "      <td>23.00</td>\n",
       "      <td>1000000</td>\n",
       "      <td>Paid</td>\n",
       "      <td>2.99</td>\n",
       "      <td>Everyone 10+</td>\n",
       "      <td>Card;Action &amp; Adventure</td>\n",
       "      <td>2,990,000.00</td>\n",
       "    </tr>\n",
       "  </tbody>\n",
       "</table>\n",
       "</div>"
      ],
      "text/plain": [
       "                                App     Category  Rating  Reviews  Size_MBs  \\\n",
       "9220                      Minecraft       FAMILY    4.50  2376564     19.00   \n",
       "8825                  Hitman Sniper         GAME    4.60   408292     29.00   \n",
       "7151  Grand Theft Auto: San Andreas         GAME    4.40   348962     26.00   \n",
       "7477            Facetune - For Free  PHOTOGRAPHY    4.40    49553     48.00   \n",
       "7977        Sleep as Android Unlock    LIFESTYLE    4.50    23966      0.85   \n",
       "6594            DraStic DS Emulator         GAME    4.60    87766     12.00   \n",
       "6082                   Weather Live      WEATHER    4.50    76593      4.75   \n",
       "7954                    Bloons TD 5       FAMILY    4.60   190086     94.00   \n",
       "7633        Five Nights at Freddy's         GAME    4.60   100805     50.00   \n",
       "6746     Card Wars - Adventure Time       FAMILY    4.30   129603     23.00   \n",
       "\n",
       "      Installs  Type  Price Content_Rating                     Genres  \\\n",
       "9220  10000000  Paid   6.99   Everyone 10+  Arcade;Action & Adventure   \n",
       "8825  10000000  Paid   0.99     Mature 17+                     Action   \n",
       "7151   1000000  Paid   6.99     Mature 17+                     Action   \n",
       "7477   1000000  Paid   5.99       Everyone                Photography   \n",
       "7977   1000000  Paid   5.99       Everyone                  Lifestyle   \n",
       "6594   1000000  Paid   4.99       Everyone                     Action   \n",
       "6082    500000  Paid   5.99       Everyone                    Weather   \n",
       "7954   1000000  Paid   2.99       Everyone                   Strategy   \n",
       "7633   1000000  Paid   2.99           Teen                     Action   \n",
       "6746   1000000  Paid   2.99   Everyone 10+    Card;Action & Adventure   \n",
       "\n",
       "      Revenue_Estimate  \n",
       "9220     69,900,000.00  \n",
       "8825      9,900,000.00  \n",
       "7151      6,990,000.00  \n",
       "7477      5,990,000.00  \n",
       "7977      5,990,000.00  \n",
       "6594      4,990,000.00  \n",
       "6082      2,995,000.00  \n",
       "7954      2,990,000.00  \n",
       "7633      2,990,000.00  \n",
       "6746      2,990,000.00  "
      ]
     },
     "execution_count": 29,
     "metadata": {},
     "output_type": "execute_result"
    }
   ],
   "source": [
    "df_apps_clean['Revenue_Estimate'] = df_apps_clean.Installs.mul(df_apps_clean.Price)\n",
    "df_apps_clean.sort_values('Revenue_Estimate', ascending=False)[:10]"
   ]
  },
  {
   "cell_type": "markdown",
   "id": "2cc76ae7",
   "metadata": {
    "papermill": {
     "duration": 0.03251,
     "end_time": "2022-11-19T13:23:36.456720",
     "exception": false,
     "start_time": "2022-11-19T13:23:36.424210",
     "status": "completed"
    },
    "tags": []
   },
   "source": [
    "This generously assumes of course that all the installs would have been made at the listed price, which is unlikely, as there are always promotions and free give-aways on the App Stores."
   ]
  },
  {
   "cell_type": "markdown",
   "id": "065e2d58",
   "metadata": {
    "papermill": {
     "duration": 0.032337,
     "end_time": "2022-11-19T13:23:36.522163",
     "exception": false,
     "start_time": "2022-11-19T13:23:36.489826",
     "status": "completed"
    },
    "tags": []
   },
   "source": [
    "The top spot of the highest-grossing paid app goes to … Minecraft at close to $70 million. It’s quite interesting that Minecraft (along with Bloons and Card Wars) is actually listed in the Family category rather than in the Game category. If we include these titles, we see that 7 out the top 10 highest-grossing apps are games. The Google Play Store seems to be quite flexible with its category labels."
   ]
  },
  {
   "cell_type": "markdown",
   "id": "d5cbf0be",
   "metadata": {
    "dc": {
     "key": "18"
    },
    "id": "lvpM2MyTdiU6",
    "papermill": {
     "duration": 0.032847,
     "end_time": "2022-11-19T13:23:36.587719",
     "exception": false,
     "start_time": "2022-11-19T13:23:36.554872",
     "status": "completed"
    },
    "run_control": {
     "frozen": true
    },
    "tags": [
     "context"
    ]
   },
   "source": [
    "# Plotly Bar Charts & Scatter Plots: Analysing App Categories"
   ]
  },
  {
   "cell_type": "markdown",
   "id": "3ffa11ca",
   "metadata": {
    "papermill": {
     "duration": 0.032318,
     "end_time": "2022-11-19T13:23:36.652828",
     "exception": false,
     "start_time": "2022-11-19T13:23:36.620510",
     "status": "completed"
    },
    "tags": []
   },
   "source": [
    "If you were to release an app, would you choose to go after a competitive category with many other apps? Or would you target a popular category with a high number of downloads? Or perhaps you can target a category which is both popular but also one where the downloads are spread out among many different apps. That way, even if it’s more difficult to discover among all the other apps, your app has a better chance of getting installed, right? Let’s analyse this with bar charts and scatter plots and figure out which categories are dominating the market."
   ]
  },
  {
   "cell_type": "markdown",
   "id": "a10f9af5",
   "metadata": {
    "papermill": {
     "duration": 0.03261,
     "end_time": "2022-11-19T13:23:36.718285",
     "exception": false,
     "start_time": "2022-11-19T13:23:36.685675",
     "status": "completed"
    },
    "tags": []
   },
   "source": [
    "We can find the number of different categories like so:"
   ]
  },
  {
   "cell_type": "code",
   "execution_count": 30,
   "id": "f6249e07",
   "metadata": {
    "execution": {
     "iopub.execute_input": "2022-11-19T13:23:36.786712Z",
     "iopub.status.busy": "2022-11-19T13:23:36.786281Z",
     "iopub.status.idle": "2022-11-19T13:23:36.794329Z",
     "shell.execute_reply": "2022-11-19T13:23:36.792859Z"
    },
    "id": "3L6hK0aLoYxY",
    "papermill": {
     "duration": 0.04536,
     "end_time": "2022-11-19T13:23:36.796652",
     "exception": false,
     "start_time": "2022-11-19T13:23:36.751292",
     "status": "completed"
    },
    "tags": []
   },
   "outputs": [
    {
     "data": {
      "text/plain": [
       "33"
      ]
     },
     "execution_count": 30,
     "metadata": {},
     "output_type": "execute_result"
    }
   ],
   "source": [
    "df_apps_clean.Category.nunique()"
   ]
  },
  {
   "cell_type": "markdown",
   "id": "5918eab2",
   "metadata": {
    "papermill": {
     "duration": 0.03313,
     "end_time": "2022-11-19T13:23:36.862718",
     "exception": false,
     "start_time": "2022-11-19T13:23:36.829588",
     "status": "completed"
    },
    "tags": []
   },
   "source": [
    "Which shows us that we there are 33 unique categories."
   ]
  },
  {
   "cell_type": "markdown",
   "id": "58b65909",
   "metadata": {
    "papermill": {
     "duration": 0.032714,
     "end_time": "2022-11-19T13:23:36.928668",
     "exception": false,
     "start_time": "2022-11-19T13:23:36.895954",
     "status": "completed"
    },
    "tags": []
   },
   "source": [
    "To calculate the number of apps per category we can use our old friend `.value_counts()`"
   ]
  },
  {
   "cell_type": "code",
   "execution_count": 31,
   "id": "f90af402",
   "metadata": {
    "execution": {
     "iopub.execute_input": "2022-11-19T13:23:36.996794Z",
     "iopub.status.busy": "2022-11-19T13:23:36.996349Z",
     "iopub.status.idle": "2022-11-19T13:23:37.006665Z",
     "shell.execute_reply": "2022-11-19T13:23:37.005590Z"
    },
    "id": "mg50Ts9joYz1",
    "papermill": {
     "duration": 0.047299,
     "end_time": "2022-11-19T13:23:37.008912",
     "exception": false,
     "start_time": "2022-11-19T13:23:36.961613",
     "status": "completed"
    },
    "tags": []
   },
   "outputs": [
    {
     "data": {
      "text/plain": [
       "FAMILY             1606\n",
       "GAME                910\n",
       "TOOLS               719\n",
       "PRODUCTIVITY        301\n",
       "PERSONALIZATION     298\n",
       "LIFESTYLE           297\n",
       "FINANCE             296\n",
       "MEDICAL             292\n",
       "PHOTOGRAPHY         263\n",
       "BUSINESS            262\n",
       "Name: Category, dtype: int64"
      ]
     },
     "execution_count": 31,
     "metadata": {},
     "output_type": "execute_result"
    }
   ],
   "source": [
    "top10_category = df_apps_clean.Category.value_counts()[:10]\n",
    "top10_category"
   ]
  },
  {
   "cell_type": "markdown",
   "id": "ddde7f32",
   "metadata": {
    "id": "0tTurR7qdiU9",
    "papermill": {
     "duration": 0.033012,
     "end_time": "2022-11-19T13:23:37.075779",
     "exception": false,
     "start_time": "2022-11-19T13:23:37.042767",
     "status": "completed"
    },
    "tags": []
   },
   "source": [
    "### Vertical Bar Chart - Highest Competition (Number of Apps)"
   ]
  },
  {
   "cell_type": "markdown",
   "id": "93240e64",
   "metadata": {
    "papermill": {
     "duration": 0.032518,
     "end_time": "2022-11-19T13:23:37.141605",
     "exception": false,
     "start_time": "2022-11-19T13:23:37.109087",
     "status": "completed"
    },
    "tags": []
   },
   "source": [
    "To visualise this data in a bar chart we can use the plotly express (our px) bar() function:"
   ]
  },
  {
   "cell_type": "code",
   "execution_count": 32,
   "id": "445ae7c2",
   "metadata": {
    "execution": {
     "iopub.execute_input": "2022-11-19T13:23:37.209726Z",
     "iopub.status.busy": "2022-11-19T13:23:37.209252Z",
     "iopub.status.idle": "2022-11-19T13:23:37.290431Z",
     "shell.execute_reply": "2022-11-19T13:23:37.289246Z"
    },
    "id": "SFSMH00AoaMB",
    "papermill": {
     "duration": 0.11852,
     "end_time": "2022-11-19T13:23:37.293144",
     "exception": false,
     "start_time": "2022-11-19T13:23:37.174624",
     "status": "completed"
    },
    "tags": []
   },
   "outputs": [
    {
     "data": {
      "text/html": [
       "<div>                            <div id=\"67dd2819-8e57-4250-8cb8-9528454fdc79\" class=\"plotly-graph-div\" style=\"height:525px; width:100%;\"></div>            <script type=\"text/javascript\">                require([\"plotly\"], function(Plotly) {                    window.PLOTLYENV=window.PLOTLYENV || {};                                    if (document.getElementById(\"67dd2819-8e57-4250-8cb8-9528454fdc79\")) {                    Plotly.newPlot(                        \"67dd2819-8e57-4250-8cb8-9528454fdc79\",                        [{\"alignmentgroup\":\"True\",\"hovertemplate\":\"x=%{x}<br>y=%{y}<extra></extra>\",\"legendgroup\":\"\",\"marker\":{\"color\":\"#636efa\",\"pattern\":{\"shape\":\"\"}},\"name\":\"\",\"offsetgroup\":\"\",\"orientation\":\"v\",\"showlegend\":false,\"textposition\":\"auto\",\"x\":[\"FAMILY\",\"GAME\",\"TOOLS\",\"PRODUCTIVITY\",\"PERSONALIZATION\",\"LIFESTYLE\",\"FINANCE\",\"MEDICAL\",\"PHOTOGRAPHY\",\"BUSINESS\"],\"xaxis\":\"x\",\"y\":[1606,910,719,301,298,297,296,292,263,262],\"yaxis\":\"y\",\"type\":\"bar\"}],                        {\"template\":{\"data\":{\"histogram2dcontour\":[{\"type\":\"histogram2dcontour\",\"colorbar\":{\"outlinewidth\":0,\"ticks\":\"\"},\"colorscale\":[[0.0,\"#0d0887\"],[0.1111111111111111,\"#46039f\"],[0.2222222222222222,\"#7201a8\"],[0.3333333333333333,\"#9c179e\"],[0.4444444444444444,\"#bd3786\"],[0.5555555555555556,\"#d8576b\"],[0.6666666666666666,\"#ed7953\"],[0.7777777777777778,\"#fb9f3a\"],[0.8888888888888888,\"#fdca26\"],[1.0,\"#f0f921\"]]}],\"choropleth\":[{\"type\":\"choropleth\",\"colorbar\":{\"outlinewidth\":0,\"ticks\":\"\"}}],\"histogram2d\":[{\"type\":\"histogram2d\",\"colorbar\":{\"outlinewidth\":0,\"ticks\":\"\"},\"colorscale\":[[0.0,\"#0d0887\"],[0.1111111111111111,\"#46039f\"],[0.2222222222222222,\"#7201a8\"],[0.3333333333333333,\"#9c179e\"],[0.4444444444444444,\"#bd3786\"],[0.5555555555555556,\"#d8576b\"],[0.6666666666666666,\"#ed7953\"],[0.7777777777777778,\"#fb9f3a\"],[0.8888888888888888,\"#fdca26\"],[1.0,\"#f0f921\"]]}],\"heatmap\":[{\"type\":\"heatmap\",\"colorbar\":{\"outlinewidth\":0,\"ticks\":\"\"},\"colorscale\":[[0.0,\"#0d0887\"],[0.1111111111111111,\"#46039f\"],[0.2222222222222222,\"#7201a8\"],[0.3333333333333333,\"#9c179e\"],[0.4444444444444444,\"#bd3786\"],[0.5555555555555556,\"#d8576b\"],[0.6666666666666666,\"#ed7953\"],[0.7777777777777778,\"#fb9f3a\"],[0.8888888888888888,\"#fdca26\"],[1.0,\"#f0f921\"]]}],\"heatmapgl\":[{\"type\":\"heatmapgl\",\"colorbar\":{\"outlinewidth\":0,\"ticks\":\"\"},\"colorscale\":[[0.0,\"#0d0887\"],[0.1111111111111111,\"#46039f\"],[0.2222222222222222,\"#7201a8\"],[0.3333333333333333,\"#9c179e\"],[0.4444444444444444,\"#bd3786\"],[0.5555555555555556,\"#d8576b\"],[0.6666666666666666,\"#ed7953\"],[0.7777777777777778,\"#fb9f3a\"],[0.8888888888888888,\"#fdca26\"],[1.0,\"#f0f921\"]]}],\"contourcarpet\":[{\"type\":\"contourcarpet\",\"colorbar\":{\"outlinewidth\":0,\"ticks\":\"\"}}],\"contour\":[{\"type\":\"contour\",\"colorbar\":{\"outlinewidth\":0,\"ticks\":\"\"},\"colorscale\":[[0.0,\"#0d0887\"],[0.1111111111111111,\"#46039f\"],[0.2222222222222222,\"#7201a8\"],[0.3333333333333333,\"#9c179e\"],[0.4444444444444444,\"#bd3786\"],[0.5555555555555556,\"#d8576b\"],[0.6666666666666666,\"#ed7953\"],[0.7777777777777778,\"#fb9f3a\"],[0.8888888888888888,\"#fdca26\"],[1.0,\"#f0f921\"]]}],\"surface\":[{\"type\":\"surface\",\"colorbar\":{\"outlinewidth\":0,\"ticks\":\"\"},\"colorscale\":[[0.0,\"#0d0887\"],[0.1111111111111111,\"#46039f\"],[0.2222222222222222,\"#7201a8\"],[0.3333333333333333,\"#9c179e\"],[0.4444444444444444,\"#bd3786\"],[0.5555555555555556,\"#d8576b\"],[0.6666666666666666,\"#ed7953\"],[0.7777777777777778,\"#fb9f3a\"],[0.8888888888888888,\"#fdca26\"],[1.0,\"#f0f921\"]]}],\"mesh3d\":[{\"type\":\"mesh3d\",\"colorbar\":{\"outlinewidth\":0,\"ticks\":\"\"}}],\"scatter\":[{\"fillpattern\":{\"fillmode\":\"overlay\",\"size\":10,\"solidity\":0.2},\"type\":\"scatter\"}],\"parcoords\":[{\"type\":\"parcoords\",\"line\":{\"colorbar\":{\"outlinewidth\":0,\"ticks\":\"\"}}}],\"scatterpolargl\":[{\"type\":\"scatterpolargl\",\"marker\":{\"colorbar\":{\"outlinewidth\":0,\"ticks\":\"\"}}}],\"bar\":[{\"error_x\":{\"color\":\"#2a3f5f\"},\"error_y\":{\"color\":\"#2a3f5f\"},\"marker\":{\"line\":{\"color\":\"#E5ECF6\",\"width\":0.5},\"pattern\":{\"fillmode\":\"overlay\",\"size\":10,\"solidity\":0.2}},\"type\":\"bar\"}],\"scattergeo\":[{\"type\":\"scattergeo\",\"marker\":{\"colorbar\":{\"outlinewidth\":0,\"ticks\":\"\"}}}],\"scatterpolar\":[{\"type\":\"scatterpolar\",\"marker\":{\"colorbar\":{\"outlinewidth\":0,\"ticks\":\"\"}}}],\"histogram\":[{\"marker\":{\"pattern\":{\"fillmode\":\"overlay\",\"size\":10,\"solidity\":0.2}},\"type\":\"histogram\"}],\"scattergl\":[{\"type\":\"scattergl\",\"marker\":{\"colorbar\":{\"outlinewidth\":0,\"ticks\":\"\"}}}],\"scatter3d\":[{\"type\":\"scatter3d\",\"line\":{\"colorbar\":{\"outlinewidth\":0,\"ticks\":\"\"}},\"marker\":{\"colorbar\":{\"outlinewidth\":0,\"ticks\":\"\"}}}],\"scattermapbox\":[{\"type\":\"scattermapbox\",\"marker\":{\"colorbar\":{\"outlinewidth\":0,\"ticks\":\"\"}}}],\"scatterternary\":[{\"type\":\"scatterternary\",\"marker\":{\"colorbar\":{\"outlinewidth\":0,\"ticks\":\"\"}}}],\"scattercarpet\":[{\"type\":\"scattercarpet\",\"marker\":{\"colorbar\":{\"outlinewidth\":0,\"ticks\":\"\"}}}],\"carpet\":[{\"aaxis\":{\"endlinecolor\":\"#2a3f5f\",\"gridcolor\":\"white\",\"linecolor\":\"white\",\"minorgridcolor\":\"white\",\"startlinecolor\":\"#2a3f5f\"},\"baxis\":{\"endlinecolor\":\"#2a3f5f\",\"gridcolor\":\"white\",\"linecolor\":\"white\",\"minorgridcolor\":\"white\",\"startlinecolor\":\"#2a3f5f\"},\"type\":\"carpet\"}],\"table\":[{\"cells\":{\"fill\":{\"color\":\"#EBF0F8\"},\"line\":{\"color\":\"white\"}},\"header\":{\"fill\":{\"color\":\"#C8D4E3\"},\"line\":{\"color\":\"white\"}},\"type\":\"table\"}],\"barpolar\":[{\"marker\":{\"line\":{\"color\":\"#E5ECF6\",\"width\":0.5},\"pattern\":{\"fillmode\":\"overlay\",\"size\":10,\"solidity\":0.2}},\"type\":\"barpolar\"}],\"pie\":[{\"automargin\":true,\"type\":\"pie\"}]},\"layout\":{\"autotypenumbers\":\"strict\",\"colorway\":[\"#636efa\",\"#EF553B\",\"#00cc96\",\"#ab63fa\",\"#FFA15A\",\"#19d3f3\",\"#FF6692\",\"#B6E880\",\"#FF97FF\",\"#FECB52\"],\"font\":{\"color\":\"#2a3f5f\"},\"hovermode\":\"closest\",\"hoverlabel\":{\"align\":\"left\"},\"paper_bgcolor\":\"white\",\"plot_bgcolor\":\"#E5ECF6\",\"polar\":{\"bgcolor\":\"#E5ECF6\",\"angularaxis\":{\"gridcolor\":\"white\",\"linecolor\":\"white\",\"ticks\":\"\"},\"radialaxis\":{\"gridcolor\":\"white\",\"linecolor\":\"white\",\"ticks\":\"\"}},\"ternary\":{\"bgcolor\":\"#E5ECF6\",\"aaxis\":{\"gridcolor\":\"white\",\"linecolor\":\"white\",\"ticks\":\"\"},\"baxis\":{\"gridcolor\":\"white\",\"linecolor\":\"white\",\"ticks\":\"\"},\"caxis\":{\"gridcolor\":\"white\",\"linecolor\":\"white\",\"ticks\":\"\"}},\"coloraxis\":{\"colorbar\":{\"outlinewidth\":0,\"ticks\":\"\"}},\"colorscale\":{\"sequential\":[[0.0,\"#0d0887\"],[0.1111111111111111,\"#46039f\"],[0.2222222222222222,\"#7201a8\"],[0.3333333333333333,\"#9c179e\"],[0.4444444444444444,\"#bd3786\"],[0.5555555555555556,\"#d8576b\"],[0.6666666666666666,\"#ed7953\"],[0.7777777777777778,\"#fb9f3a\"],[0.8888888888888888,\"#fdca26\"],[1.0,\"#f0f921\"]],\"sequentialminus\":[[0.0,\"#0d0887\"],[0.1111111111111111,\"#46039f\"],[0.2222222222222222,\"#7201a8\"],[0.3333333333333333,\"#9c179e\"],[0.4444444444444444,\"#bd3786\"],[0.5555555555555556,\"#d8576b\"],[0.6666666666666666,\"#ed7953\"],[0.7777777777777778,\"#fb9f3a\"],[0.8888888888888888,\"#fdca26\"],[1.0,\"#f0f921\"]],\"diverging\":[[0,\"#8e0152\"],[0.1,\"#c51b7d\"],[0.2,\"#de77ae\"],[0.3,\"#f1b6da\"],[0.4,\"#fde0ef\"],[0.5,\"#f7f7f7\"],[0.6,\"#e6f5d0\"],[0.7,\"#b8e186\"],[0.8,\"#7fbc41\"],[0.9,\"#4d9221\"],[1,\"#276419\"]]},\"xaxis\":{\"gridcolor\":\"white\",\"linecolor\":\"white\",\"ticks\":\"\",\"title\":{\"standoff\":15},\"zerolinecolor\":\"white\",\"automargin\":true,\"zerolinewidth\":2},\"yaxis\":{\"gridcolor\":\"white\",\"linecolor\":\"white\",\"ticks\":\"\",\"title\":{\"standoff\":15},\"zerolinecolor\":\"white\",\"automargin\":true,\"zerolinewidth\":2},\"scene\":{\"xaxis\":{\"backgroundcolor\":\"#E5ECF6\",\"gridcolor\":\"white\",\"linecolor\":\"white\",\"showbackground\":true,\"ticks\":\"\",\"zerolinecolor\":\"white\",\"gridwidth\":2},\"yaxis\":{\"backgroundcolor\":\"#E5ECF6\",\"gridcolor\":\"white\",\"linecolor\":\"white\",\"showbackground\":true,\"ticks\":\"\",\"zerolinecolor\":\"white\",\"gridwidth\":2},\"zaxis\":{\"backgroundcolor\":\"#E5ECF6\",\"gridcolor\":\"white\",\"linecolor\":\"white\",\"showbackground\":true,\"ticks\":\"\",\"zerolinecolor\":\"white\",\"gridwidth\":2}},\"shapedefaults\":{\"line\":{\"color\":\"#2a3f5f\"}},\"annotationdefaults\":{\"arrowcolor\":\"#2a3f5f\",\"arrowhead\":0,\"arrowwidth\":1},\"geo\":{\"bgcolor\":\"white\",\"landcolor\":\"#E5ECF6\",\"subunitcolor\":\"white\",\"showland\":true,\"showlakes\":true,\"lakecolor\":\"white\"},\"title\":{\"x\":0.05},\"mapbox\":{\"style\":\"light\"}}},\"xaxis\":{\"anchor\":\"y\",\"domain\":[0.0,1.0],\"title\":{\"text\":\"x\"}},\"yaxis\":{\"anchor\":\"x\",\"domain\":[0.0,1.0],\"title\":{\"text\":\"y\"}},\"legend\":{\"tracegroupgap\":0},\"margin\":{\"t\":60},\"barmode\":\"relative\"},                        {\"responsive\": true}                    ).then(function(){\n",
       "                            \n",
       "var gd = document.getElementById('67dd2819-8e57-4250-8cb8-9528454fdc79');\n",
       "var x = new MutationObserver(function (mutations, observer) {{\n",
       "        var display = window.getComputedStyle(gd).display;\n",
       "        if (!display || display === 'none') {{\n",
       "            console.log([gd, 'removed!']);\n",
       "            Plotly.purge(gd);\n",
       "            observer.disconnect();\n",
       "        }}\n",
       "}});\n",
       "\n",
       "// Listen for the removal of the full notebook cells\n",
       "var notebookContainer = gd.closest('#notebook-container');\n",
       "if (notebookContainer) {{\n",
       "    x.observe(notebookContainer, {childList: true});\n",
       "}}\n",
       "\n",
       "// Listen for the clearing of the current output cell\n",
       "var outputEl = gd.closest('.output');\n",
       "if (outputEl) {{\n",
       "    x.observe(outputEl, {childList: true});\n",
       "}}\n",
       "\n",
       "                        })                };                });            </script>        </div>"
      ]
     },
     "metadata": {},
     "output_type": "display_data"
    }
   ],
   "source": [
    "bar = px.bar(x = top10_category.index, # index = category name\n",
    "             y = top10_category.values)\n",
    " \n",
    "bar.show()"
   ]
  },
  {
   "cell_type": "markdown",
   "id": "d0b7b596",
   "metadata": {
    "papermill": {
     "duration": 0.103515,
     "end_time": "2022-11-19T13:23:37.429956",
     "exception": false,
     "start_time": "2022-11-19T13:23:37.326441",
     "status": "completed"
    },
    "tags": []
   },
   "source": [
    "Based on the number of apps, the Family and Game categories are the most competitive. Releasing yet another app into these categories will make it hard to get noticed."
   ]
  },
  {
   "cell_type": "markdown",
   "id": "c263762f",
   "metadata": {
    "papermill": {
     "duration": 0.033196,
     "end_time": "2022-11-19T13:23:37.496449",
     "exception": false,
     "start_time": "2022-11-19T13:23:37.463253",
     "status": "completed"
    },
    "tags": []
   },
   "source": [
    "But what if we look at it from a different perspective? What matters is not just the total number of apps in the category but how often apps are downloaded in that category. This will give us an idea of how popular a category is. First, we have to group all our apps by category and sum the number of installations:"
   ]
  },
  {
   "cell_type": "markdown",
   "id": "68d75b4e",
   "metadata": {
    "id": "57mowetLdiU_",
    "papermill": {
     "duration": 0.032962,
     "end_time": "2022-11-19T13:23:37.562625",
     "exception": false,
     "start_time": "2022-11-19T13:23:37.529663",
     "status": "completed"
    },
    "tags": []
   },
   "source": [
    "### Horizontal Bar Chart - Most Popular Categories (Highest Downloads)"
   ]
  },
  {
   "cell_type": "code",
   "execution_count": 33,
   "id": "33663819",
   "metadata": {
    "execution": {
     "iopub.execute_input": "2022-11-19T13:23:37.631527Z",
     "iopub.status.busy": "2022-11-19T13:23:37.630638Z",
     "iopub.status.idle": "2022-11-19T13:23:37.644585Z",
     "shell.execute_reply": "2022-11-19T13:23:37.643504Z"
    },
    "id": "zHO7eTJmocLm",
    "papermill": {
     "duration": 0.051142,
     "end_time": "2022-11-19T13:23:37.647268",
     "exception": false,
     "start_time": "2022-11-19T13:23:37.596126",
     "status": "completed"
    },
    "tags": []
   },
   "outputs": [],
   "source": [
    "category_installs = df_apps_clean.groupby('Category').agg({'Installs': pd.Series.sum})\n",
    "category_installs.sort_values('Installs', ascending=True, inplace=True)"
   ]
  },
  {
   "cell_type": "markdown",
   "id": "90cc3880",
   "metadata": {
    "papermill": {
     "duration": 0.033568,
     "end_time": "2022-11-19T13:23:37.714130",
     "exception": false,
     "start_time": "2022-11-19T13:23:37.680562",
     "status": "completed"
    },
    "tags": []
   },
   "source": [
    "Then we can create a horizontal bar chart, simply by adding the orientation parameter:"
   ]
  },
  {
   "cell_type": "code",
   "execution_count": 34,
   "id": "bdb5b20b",
   "metadata": {
    "execution": {
     "iopub.execute_input": "2022-11-19T13:23:37.782520Z",
     "iopub.status.busy": "2022-11-19T13:23:37.782124Z",
     "iopub.status.idle": "2022-11-19T13:23:37.841336Z",
     "shell.execute_reply": "2022-11-19T13:23:37.840168Z"
    },
    "id": "h7aUARLtocCy",
    "papermill": {
     "duration": 0.096216,
     "end_time": "2022-11-19T13:23:37.843604",
     "exception": false,
     "start_time": "2022-11-19T13:23:37.747388",
     "status": "completed"
    },
    "tags": []
   },
   "outputs": [
    {
     "data": {
      "text/html": [
       "<div>                            <div id=\"6da2a561-a1fc-4a50-abdc-4e9754ff1303\" class=\"plotly-graph-div\" style=\"height:525px; width:100%;\"></div>            <script type=\"text/javascript\">                require([\"plotly\"], function(Plotly) {                    window.PLOTLYENV=window.PLOTLYENV || {};                                    if (document.getElementById(\"6da2a561-a1fc-4a50-abdc-4e9754ff1303\")) {                    Plotly.newPlot(                        \"6da2a561-a1fc-4a50-abdc-4e9754ff1303\",                        [{\"alignmentgroup\":\"True\",\"hovertemplate\":\"x=%{x}<br>y=%{y}<extra></extra>\",\"legendgroup\":\"\",\"marker\":{\"color\":\"#636efa\",\"pattern\":{\"shape\":\"\"}},\"name\":\"\",\"offsetgroup\":\"\",\"orientation\":\"h\",\"showlegend\":false,\"textposition\":\"auto\",\"x\":[15949410,26916200,31116110,39162676,44931100,52083000,53129800,97082000,114233100,140912410,211677750,352852000,361096500,455249400,503267560,503611120,692018120,1096431465,1134006220,1400331540,1532352930,1665791655,2113660000,2369110650,2894859300,3916897200,4437554490,4649143130,5487841475,5788070180,8099724500,11039241530,13858762717],\"xaxis\":\"x\",\"y\":[\"EVENTS\",\"BEAUTY\",\"PARENTING\",\"MEDICAL\",\"COMICS\",\"LIBRARIES_AND_DEMO\",\"AUTO_AND_VEHICLES\",\"HOUSE_AND_HOME\",\"ART_AND_DESIGN\",\"DATING\",\"FOOD_AND_DRINK\",\"EDUCATION\",\"WEATHER\",\"FINANCE\",\"MAPS_AND_NAVIGATION\",\"LIFESTYLE\",\"BUSINESS\",\"SPORTS\",\"HEALTH_AND_FITNESS\",\"SHOPPING\",\"PERSONALIZATION\",\"BOOKS_AND_REFERENCE\",\"ENTERTAINMENT\",\"NEWS_AND_MAGAZINES\",\"TRAVEL_AND_LOCAL\",\"VIDEO_PLAYERS\",\"FAMILY\",\"PHOTOGRAPHY\",\"SOCIAL\",\"PRODUCTIVITY\",\"TOOLS\",\"COMMUNICATION\",\"GAME\"],\"yaxis\":\"y\",\"type\":\"bar\"}],                        {\"template\":{\"data\":{\"histogram2dcontour\":[{\"type\":\"histogram2dcontour\",\"colorbar\":{\"outlinewidth\":0,\"ticks\":\"\"},\"colorscale\":[[0.0,\"#0d0887\"],[0.1111111111111111,\"#46039f\"],[0.2222222222222222,\"#7201a8\"],[0.3333333333333333,\"#9c179e\"],[0.4444444444444444,\"#bd3786\"],[0.5555555555555556,\"#d8576b\"],[0.6666666666666666,\"#ed7953\"],[0.7777777777777778,\"#fb9f3a\"],[0.8888888888888888,\"#fdca26\"],[1.0,\"#f0f921\"]]}],\"choropleth\":[{\"type\":\"choropleth\",\"colorbar\":{\"outlinewidth\":0,\"ticks\":\"\"}}],\"histogram2d\":[{\"type\":\"histogram2d\",\"colorbar\":{\"outlinewidth\":0,\"ticks\":\"\"},\"colorscale\":[[0.0,\"#0d0887\"],[0.1111111111111111,\"#46039f\"],[0.2222222222222222,\"#7201a8\"],[0.3333333333333333,\"#9c179e\"],[0.4444444444444444,\"#bd3786\"],[0.5555555555555556,\"#d8576b\"],[0.6666666666666666,\"#ed7953\"],[0.7777777777777778,\"#fb9f3a\"],[0.8888888888888888,\"#fdca26\"],[1.0,\"#f0f921\"]]}],\"heatmap\":[{\"type\":\"heatmap\",\"colorbar\":{\"outlinewidth\":0,\"ticks\":\"\"},\"colorscale\":[[0.0,\"#0d0887\"],[0.1111111111111111,\"#46039f\"],[0.2222222222222222,\"#7201a8\"],[0.3333333333333333,\"#9c179e\"],[0.4444444444444444,\"#bd3786\"],[0.5555555555555556,\"#d8576b\"],[0.6666666666666666,\"#ed7953\"],[0.7777777777777778,\"#fb9f3a\"],[0.8888888888888888,\"#fdca26\"],[1.0,\"#f0f921\"]]}],\"heatmapgl\":[{\"type\":\"heatmapgl\",\"colorbar\":{\"outlinewidth\":0,\"ticks\":\"\"},\"colorscale\":[[0.0,\"#0d0887\"],[0.1111111111111111,\"#46039f\"],[0.2222222222222222,\"#7201a8\"],[0.3333333333333333,\"#9c179e\"],[0.4444444444444444,\"#bd3786\"],[0.5555555555555556,\"#d8576b\"],[0.6666666666666666,\"#ed7953\"],[0.7777777777777778,\"#fb9f3a\"],[0.8888888888888888,\"#fdca26\"],[1.0,\"#f0f921\"]]}],\"contourcarpet\":[{\"type\":\"contourcarpet\",\"colorbar\":{\"outlinewidth\":0,\"ticks\":\"\"}}],\"contour\":[{\"type\":\"contour\",\"colorbar\":{\"outlinewidth\":0,\"ticks\":\"\"},\"colorscale\":[[0.0,\"#0d0887\"],[0.1111111111111111,\"#46039f\"],[0.2222222222222222,\"#7201a8\"],[0.3333333333333333,\"#9c179e\"],[0.4444444444444444,\"#bd3786\"],[0.5555555555555556,\"#d8576b\"],[0.6666666666666666,\"#ed7953\"],[0.7777777777777778,\"#fb9f3a\"],[0.8888888888888888,\"#fdca26\"],[1.0,\"#f0f921\"]]}],\"surface\":[{\"type\":\"surface\",\"colorbar\":{\"outlinewidth\":0,\"ticks\":\"\"},\"colorscale\":[[0.0,\"#0d0887\"],[0.1111111111111111,\"#46039f\"],[0.2222222222222222,\"#7201a8\"],[0.3333333333333333,\"#9c179e\"],[0.4444444444444444,\"#bd3786\"],[0.5555555555555556,\"#d8576b\"],[0.6666666666666666,\"#ed7953\"],[0.7777777777777778,\"#fb9f3a\"],[0.8888888888888888,\"#fdca26\"],[1.0,\"#f0f921\"]]}],\"mesh3d\":[{\"type\":\"mesh3d\",\"colorbar\":{\"outlinewidth\":0,\"ticks\":\"\"}}],\"scatter\":[{\"fillpattern\":{\"fillmode\":\"overlay\",\"size\":10,\"solidity\":0.2},\"type\":\"scatter\"}],\"parcoords\":[{\"type\":\"parcoords\",\"line\":{\"colorbar\":{\"outlinewidth\":0,\"ticks\":\"\"}}}],\"scatterpolargl\":[{\"type\":\"scatterpolargl\",\"marker\":{\"colorbar\":{\"outlinewidth\":0,\"ticks\":\"\"}}}],\"bar\":[{\"error_x\":{\"color\":\"#2a3f5f\"},\"error_y\":{\"color\":\"#2a3f5f\"},\"marker\":{\"line\":{\"color\":\"#E5ECF6\",\"width\":0.5},\"pattern\":{\"fillmode\":\"overlay\",\"size\":10,\"solidity\":0.2}},\"type\":\"bar\"}],\"scattergeo\":[{\"type\":\"scattergeo\",\"marker\":{\"colorbar\":{\"outlinewidth\":0,\"ticks\":\"\"}}}],\"scatterpolar\":[{\"type\":\"scatterpolar\",\"marker\":{\"colorbar\":{\"outlinewidth\":0,\"ticks\":\"\"}}}],\"histogram\":[{\"marker\":{\"pattern\":{\"fillmode\":\"overlay\",\"size\":10,\"solidity\":0.2}},\"type\":\"histogram\"}],\"scattergl\":[{\"type\":\"scattergl\",\"marker\":{\"colorbar\":{\"outlinewidth\":0,\"ticks\":\"\"}}}],\"scatter3d\":[{\"type\":\"scatter3d\",\"line\":{\"colorbar\":{\"outlinewidth\":0,\"ticks\":\"\"}},\"marker\":{\"colorbar\":{\"outlinewidth\":0,\"ticks\":\"\"}}}],\"scattermapbox\":[{\"type\":\"scattermapbox\",\"marker\":{\"colorbar\":{\"outlinewidth\":0,\"ticks\":\"\"}}}],\"scatterternary\":[{\"type\":\"scatterternary\",\"marker\":{\"colorbar\":{\"outlinewidth\":0,\"ticks\":\"\"}}}],\"scattercarpet\":[{\"type\":\"scattercarpet\",\"marker\":{\"colorbar\":{\"outlinewidth\":0,\"ticks\":\"\"}}}],\"carpet\":[{\"aaxis\":{\"endlinecolor\":\"#2a3f5f\",\"gridcolor\":\"white\",\"linecolor\":\"white\",\"minorgridcolor\":\"white\",\"startlinecolor\":\"#2a3f5f\"},\"baxis\":{\"endlinecolor\":\"#2a3f5f\",\"gridcolor\":\"white\",\"linecolor\":\"white\",\"minorgridcolor\":\"white\",\"startlinecolor\":\"#2a3f5f\"},\"type\":\"carpet\"}],\"table\":[{\"cells\":{\"fill\":{\"color\":\"#EBF0F8\"},\"line\":{\"color\":\"white\"}},\"header\":{\"fill\":{\"color\":\"#C8D4E3\"},\"line\":{\"color\":\"white\"}},\"type\":\"table\"}],\"barpolar\":[{\"marker\":{\"line\":{\"color\":\"#E5ECF6\",\"width\":0.5},\"pattern\":{\"fillmode\":\"overlay\",\"size\":10,\"solidity\":0.2}},\"type\":\"barpolar\"}],\"pie\":[{\"automargin\":true,\"type\":\"pie\"}]},\"layout\":{\"autotypenumbers\":\"strict\",\"colorway\":[\"#636efa\",\"#EF553B\",\"#00cc96\",\"#ab63fa\",\"#FFA15A\",\"#19d3f3\",\"#FF6692\",\"#B6E880\",\"#FF97FF\",\"#FECB52\"],\"font\":{\"color\":\"#2a3f5f\"},\"hovermode\":\"closest\",\"hoverlabel\":{\"align\":\"left\"},\"paper_bgcolor\":\"white\",\"plot_bgcolor\":\"#E5ECF6\",\"polar\":{\"bgcolor\":\"#E5ECF6\",\"angularaxis\":{\"gridcolor\":\"white\",\"linecolor\":\"white\",\"ticks\":\"\"},\"radialaxis\":{\"gridcolor\":\"white\",\"linecolor\":\"white\",\"ticks\":\"\"}},\"ternary\":{\"bgcolor\":\"#E5ECF6\",\"aaxis\":{\"gridcolor\":\"white\",\"linecolor\":\"white\",\"ticks\":\"\"},\"baxis\":{\"gridcolor\":\"white\",\"linecolor\":\"white\",\"ticks\":\"\"},\"caxis\":{\"gridcolor\":\"white\",\"linecolor\":\"white\",\"ticks\":\"\"}},\"coloraxis\":{\"colorbar\":{\"outlinewidth\":0,\"ticks\":\"\"}},\"colorscale\":{\"sequential\":[[0.0,\"#0d0887\"],[0.1111111111111111,\"#46039f\"],[0.2222222222222222,\"#7201a8\"],[0.3333333333333333,\"#9c179e\"],[0.4444444444444444,\"#bd3786\"],[0.5555555555555556,\"#d8576b\"],[0.6666666666666666,\"#ed7953\"],[0.7777777777777778,\"#fb9f3a\"],[0.8888888888888888,\"#fdca26\"],[1.0,\"#f0f921\"]],\"sequentialminus\":[[0.0,\"#0d0887\"],[0.1111111111111111,\"#46039f\"],[0.2222222222222222,\"#7201a8\"],[0.3333333333333333,\"#9c179e\"],[0.4444444444444444,\"#bd3786\"],[0.5555555555555556,\"#d8576b\"],[0.6666666666666666,\"#ed7953\"],[0.7777777777777778,\"#fb9f3a\"],[0.8888888888888888,\"#fdca26\"],[1.0,\"#f0f921\"]],\"diverging\":[[0,\"#8e0152\"],[0.1,\"#c51b7d\"],[0.2,\"#de77ae\"],[0.3,\"#f1b6da\"],[0.4,\"#fde0ef\"],[0.5,\"#f7f7f7\"],[0.6,\"#e6f5d0\"],[0.7,\"#b8e186\"],[0.8,\"#7fbc41\"],[0.9,\"#4d9221\"],[1,\"#276419\"]]},\"xaxis\":{\"gridcolor\":\"white\",\"linecolor\":\"white\",\"ticks\":\"\",\"title\":{\"standoff\":15},\"zerolinecolor\":\"white\",\"automargin\":true,\"zerolinewidth\":2},\"yaxis\":{\"gridcolor\":\"white\",\"linecolor\":\"white\",\"ticks\":\"\",\"title\":{\"standoff\":15},\"zerolinecolor\":\"white\",\"automargin\":true,\"zerolinewidth\":2},\"scene\":{\"xaxis\":{\"backgroundcolor\":\"#E5ECF6\",\"gridcolor\":\"white\",\"linecolor\":\"white\",\"showbackground\":true,\"ticks\":\"\",\"zerolinecolor\":\"white\",\"gridwidth\":2},\"yaxis\":{\"backgroundcolor\":\"#E5ECF6\",\"gridcolor\":\"white\",\"linecolor\":\"white\",\"showbackground\":true,\"ticks\":\"\",\"zerolinecolor\":\"white\",\"gridwidth\":2},\"zaxis\":{\"backgroundcolor\":\"#E5ECF6\",\"gridcolor\":\"white\",\"linecolor\":\"white\",\"showbackground\":true,\"ticks\":\"\",\"zerolinecolor\":\"white\",\"gridwidth\":2}},\"shapedefaults\":{\"line\":{\"color\":\"#2a3f5f\"}},\"annotationdefaults\":{\"arrowcolor\":\"#2a3f5f\",\"arrowhead\":0,\"arrowwidth\":1},\"geo\":{\"bgcolor\":\"white\",\"landcolor\":\"#E5ECF6\",\"subunitcolor\":\"white\",\"showland\":true,\"showlakes\":true,\"lakecolor\":\"white\"},\"title\":{\"x\":0.05},\"mapbox\":{\"style\":\"light\"}}},\"xaxis\":{\"anchor\":\"y\",\"domain\":[0.0,1.0],\"title\":{\"text\":\"x\"}},\"yaxis\":{\"anchor\":\"x\",\"domain\":[0.0,1.0],\"title\":{\"text\":\"y\"}},\"legend\":{\"tracegroupgap\":0},\"margin\":{\"t\":60},\"barmode\":\"relative\"},                        {\"responsive\": true}                    ).then(function(){\n",
       "                            \n",
       "var gd = document.getElementById('6da2a561-a1fc-4a50-abdc-4e9754ff1303');\n",
       "var x = new MutationObserver(function (mutations, observer) {{\n",
       "        var display = window.getComputedStyle(gd).display;\n",
       "        if (!display || display === 'none') {{\n",
       "            console.log([gd, 'removed!']);\n",
       "            Plotly.purge(gd);\n",
       "            observer.disconnect();\n",
       "        }}\n",
       "}});\n",
       "\n",
       "// Listen for the removal of the full notebook cells\n",
       "var notebookContainer = gd.closest('#notebook-container');\n",
       "if (notebookContainer) {{\n",
       "    x.observe(notebookContainer, {childList: true});\n",
       "}}\n",
       "\n",
       "// Listen for the clearing of the current output cell\n",
       "var outputEl = gd.closest('.output');\n",
       "if (outputEl) {{\n",
       "    x.observe(outputEl, {childList: true});\n",
       "}}\n",
       "\n",
       "                        })                };                });            </script>        </div>"
      ]
     },
     "metadata": {},
     "output_type": "display_data"
    }
   ],
   "source": [
    "h_bar = px.bar(x = category_installs.Installs,\n",
    "               y = category_installs.index,\n",
    "               orientation='h')\n",
    " \n",
    "h_bar.show()"
   ]
  },
  {
   "cell_type": "markdown",
   "id": "2a12faad",
   "metadata": {
    "papermill": {
     "duration": 0.033444,
     "end_time": "2022-11-19T13:23:37.911520",
     "exception": false,
     "start_time": "2022-11-19T13:23:37.878076",
     "status": "completed"
    },
    "tags": []
   },
   "source": [
    "We can also add a custom title and axis labels like so:"
   ]
  },
  {
   "cell_type": "code",
   "execution_count": 35,
   "id": "85aca5c3",
   "metadata": {
    "execution": {
     "iopub.execute_input": "2022-11-19T13:23:37.980742Z",
     "iopub.status.busy": "2022-11-19T13:23:37.979884Z",
     "iopub.status.idle": "2022-11-19T13:23:38.042170Z",
     "shell.execute_reply": "2022-11-19T13:23:38.041029Z"
    },
    "papermill": {
     "duration": 0.099837,
     "end_time": "2022-11-19T13:23:38.045067",
     "exception": false,
     "start_time": "2022-11-19T13:23:37.945230",
     "status": "completed"
    },
    "tags": []
   },
   "outputs": [
    {
     "data": {
      "text/html": [
       "<div>                            <div id=\"9bae1da3-a50e-4725-bcd7-aa85ccd29840\" class=\"plotly-graph-div\" style=\"height:525px; width:100%;\"></div>            <script type=\"text/javascript\">                require([\"plotly\"], function(Plotly) {                    window.PLOTLYENV=window.PLOTLYENV || {};                                    if (document.getElementById(\"9bae1da3-a50e-4725-bcd7-aa85ccd29840\")) {                    Plotly.newPlot(                        \"9bae1da3-a50e-4725-bcd7-aa85ccd29840\",                        [{\"alignmentgroup\":\"True\",\"hovertemplate\":\"x=%{x}<br>y=%{y}<extra></extra>\",\"legendgroup\":\"\",\"marker\":{\"color\":\"#636efa\",\"pattern\":{\"shape\":\"\"}},\"name\":\"\",\"offsetgroup\":\"\",\"orientation\":\"h\",\"showlegend\":false,\"textposition\":\"auto\",\"x\":[15949410,26916200,31116110,39162676,44931100,52083000,53129800,97082000,114233100,140912410,211677750,352852000,361096500,455249400,503267560,503611120,692018120,1096431465,1134006220,1400331540,1532352930,1665791655,2113660000,2369110650,2894859300,3916897200,4437554490,4649143130,5487841475,5788070180,8099724500,11039241530,13858762717],\"xaxis\":\"x\",\"y\":[\"EVENTS\",\"BEAUTY\",\"PARENTING\",\"MEDICAL\",\"COMICS\",\"LIBRARIES_AND_DEMO\",\"AUTO_AND_VEHICLES\",\"HOUSE_AND_HOME\",\"ART_AND_DESIGN\",\"DATING\",\"FOOD_AND_DRINK\",\"EDUCATION\",\"WEATHER\",\"FINANCE\",\"MAPS_AND_NAVIGATION\",\"LIFESTYLE\",\"BUSINESS\",\"SPORTS\",\"HEALTH_AND_FITNESS\",\"SHOPPING\",\"PERSONALIZATION\",\"BOOKS_AND_REFERENCE\",\"ENTERTAINMENT\",\"NEWS_AND_MAGAZINES\",\"TRAVEL_AND_LOCAL\",\"VIDEO_PLAYERS\",\"FAMILY\",\"PHOTOGRAPHY\",\"SOCIAL\",\"PRODUCTIVITY\",\"TOOLS\",\"COMMUNICATION\",\"GAME\"],\"yaxis\":\"y\",\"type\":\"bar\"}],                        {\"template\":{\"data\":{\"histogram2dcontour\":[{\"type\":\"histogram2dcontour\",\"colorbar\":{\"outlinewidth\":0,\"ticks\":\"\"},\"colorscale\":[[0.0,\"#0d0887\"],[0.1111111111111111,\"#46039f\"],[0.2222222222222222,\"#7201a8\"],[0.3333333333333333,\"#9c179e\"],[0.4444444444444444,\"#bd3786\"],[0.5555555555555556,\"#d8576b\"],[0.6666666666666666,\"#ed7953\"],[0.7777777777777778,\"#fb9f3a\"],[0.8888888888888888,\"#fdca26\"],[1.0,\"#f0f921\"]]}],\"choropleth\":[{\"type\":\"choropleth\",\"colorbar\":{\"outlinewidth\":0,\"ticks\":\"\"}}],\"histogram2d\":[{\"type\":\"histogram2d\",\"colorbar\":{\"outlinewidth\":0,\"ticks\":\"\"},\"colorscale\":[[0.0,\"#0d0887\"],[0.1111111111111111,\"#46039f\"],[0.2222222222222222,\"#7201a8\"],[0.3333333333333333,\"#9c179e\"],[0.4444444444444444,\"#bd3786\"],[0.5555555555555556,\"#d8576b\"],[0.6666666666666666,\"#ed7953\"],[0.7777777777777778,\"#fb9f3a\"],[0.8888888888888888,\"#fdca26\"],[1.0,\"#f0f921\"]]}],\"heatmap\":[{\"type\":\"heatmap\",\"colorbar\":{\"outlinewidth\":0,\"ticks\":\"\"},\"colorscale\":[[0.0,\"#0d0887\"],[0.1111111111111111,\"#46039f\"],[0.2222222222222222,\"#7201a8\"],[0.3333333333333333,\"#9c179e\"],[0.4444444444444444,\"#bd3786\"],[0.5555555555555556,\"#d8576b\"],[0.6666666666666666,\"#ed7953\"],[0.7777777777777778,\"#fb9f3a\"],[0.8888888888888888,\"#fdca26\"],[1.0,\"#f0f921\"]]}],\"heatmapgl\":[{\"type\":\"heatmapgl\",\"colorbar\":{\"outlinewidth\":0,\"ticks\":\"\"},\"colorscale\":[[0.0,\"#0d0887\"],[0.1111111111111111,\"#46039f\"],[0.2222222222222222,\"#7201a8\"],[0.3333333333333333,\"#9c179e\"],[0.4444444444444444,\"#bd3786\"],[0.5555555555555556,\"#d8576b\"],[0.6666666666666666,\"#ed7953\"],[0.7777777777777778,\"#fb9f3a\"],[0.8888888888888888,\"#fdca26\"],[1.0,\"#f0f921\"]]}],\"contourcarpet\":[{\"type\":\"contourcarpet\",\"colorbar\":{\"outlinewidth\":0,\"ticks\":\"\"}}],\"contour\":[{\"type\":\"contour\",\"colorbar\":{\"outlinewidth\":0,\"ticks\":\"\"},\"colorscale\":[[0.0,\"#0d0887\"],[0.1111111111111111,\"#46039f\"],[0.2222222222222222,\"#7201a8\"],[0.3333333333333333,\"#9c179e\"],[0.4444444444444444,\"#bd3786\"],[0.5555555555555556,\"#d8576b\"],[0.6666666666666666,\"#ed7953\"],[0.7777777777777778,\"#fb9f3a\"],[0.8888888888888888,\"#fdca26\"],[1.0,\"#f0f921\"]]}],\"surface\":[{\"type\":\"surface\",\"colorbar\":{\"outlinewidth\":0,\"ticks\":\"\"},\"colorscale\":[[0.0,\"#0d0887\"],[0.1111111111111111,\"#46039f\"],[0.2222222222222222,\"#7201a8\"],[0.3333333333333333,\"#9c179e\"],[0.4444444444444444,\"#bd3786\"],[0.5555555555555556,\"#d8576b\"],[0.6666666666666666,\"#ed7953\"],[0.7777777777777778,\"#fb9f3a\"],[0.8888888888888888,\"#fdca26\"],[1.0,\"#f0f921\"]]}],\"mesh3d\":[{\"type\":\"mesh3d\",\"colorbar\":{\"outlinewidth\":0,\"ticks\":\"\"}}],\"scatter\":[{\"fillpattern\":{\"fillmode\":\"overlay\",\"size\":10,\"solidity\":0.2},\"type\":\"scatter\"}],\"parcoords\":[{\"type\":\"parcoords\",\"line\":{\"colorbar\":{\"outlinewidth\":0,\"ticks\":\"\"}}}],\"scatterpolargl\":[{\"type\":\"scatterpolargl\",\"marker\":{\"colorbar\":{\"outlinewidth\":0,\"ticks\":\"\"}}}],\"bar\":[{\"error_x\":{\"color\":\"#2a3f5f\"},\"error_y\":{\"color\":\"#2a3f5f\"},\"marker\":{\"line\":{\"color\":\"#E5ECF6\",\"width\":0.5},\"pattern\":{\"fillmode\":\"overlay\",\"size\":10,\"solidity\":0.2}},\"type\":\"bar\"}],\"scattergeo\":[{\"type\":\"scattergeo\",\"marker\":{\"colorbar\":{\"outlinewidth\":0,\"ticks\":\"\"}}}],\"scatterpolar\":[{\"type\":\"scatterpolar\",\"marker\":{\"colorbar\":{\"outlinewidth\":0,\"ticks\":\"\"}}}],\"histogram\":[{\"marker\":{\"pattern\":{\"fillmode\":\"overlay\",\"size\":10,\"solidity\":0.2}},\"type\":\"histogram\"}],\"scattergl\":[{\"type\":\"scattergl\",\"marker\":{\"colorbar\":{\"outlinewidth\":0,\"ticks\":\"\"}}}],\"scatter3d\":[{\"type\":\"scatter3d\",\"line\":{\"colorbar\":{\"outlinewidth\":0,\"ticks\":\"\"}},\"marker\":{\"colorbar\":{\"outlinewidth\":0,\"ticks\":\"\"}}}],\"scattermapbox\":[{\"type\":\"scattermapbox\",\"marker\":{\"colorbar\":{\"outlinewidth\":0,\"ticks\":\"\"}}}],\"scatterternary\":[{\"type\":\"scatterternary\",\"marker\":{\"colorbar\":{\"outlinewidth\":0,\"ticks\":\"\"}}}],\"scattercarpet\":[{\"type\":\"scattercarpet\",\"marker\":{\"colorbar\":{\"outlinewidth\":0,\"ticks\":\"\"}}}],\"carpet\":[{\"aaxis\":{\"endlinecolor\":\"#2a3f5f\",\"gridcolor\":\"white\",\"linecolor\":\"white\",\"minorgridcolor\":\"white\",\"startlinecolor\":\"#2a3f5f\"},\"baxis\":{\"endlinecolor\":\"#2a3f5f\",\"gridcolor\":\"white\",\"linecolor\":\"white\",\"minorgridcolor\":\"white\",\"startlinecolor\":\"#2a3f5f\"},\"type\":\"carpet\"}],\"table\":[{\"cells\":{\"fill\":{\"color\":\"#EBF0F8\"},\"line\":{\"color\":\"white\"}},\"header\":{\"fill\":{\"color\":\"#C8D4E3\"},\"line\":{\"color\":\"white\"}},\"type\":\"table\"}],\"barpolar\":[{\"marker\":{\"line\":{\"color\":\"#E5ECF6\",\"width\":0.5},\"pattern\":{\"fillmode\":\"overlay\",\"size\":10,\"solidity\":0.2}},\"type\":\"barpolar\"}],\"pie\":[{\"automargin\":true,\"type\":\"pie\"}]},\"layout\":{\"autotypenumbers\":\"strict\",\"colorway\":[\"#636efa\",\"#EF553B\",\"#00cc96\",\"#ab63fa\",\"#FFA15A\",\"#19d3f3\",\"#FF6692\",\"#B6E880\",\"#FF97FF\",\"#FECB52\"],\"font\":{\"color\":\"#2a3f5f\"},\"hovermode\":\"closest\",\"hoverlabel\":{\"align\":\"left\"},\"paper_bgcolor\":\"white\",\"plot_bgcolor\":\"#E5ECF6\",\"polar\":{\"bgcolor\":\"#E5ECF6\",\"angularaxis\":{\"gridcolor\":\"white\",\"linecolor\":\"white\",\"ticks\":\"\"},\"radialaxis\":{\"gridcolor\":\"white\",\"linecolor\":\"white\",\"ticks\":\"\"}},\"ternary\":{\"bgcolor\":\"#E5ECF6\",\"aaxis\":{\"gridcolor\":\"white\",\"linecolor\":\"white\",\"ticks\":\"\"},\"baxis\":{\"gridcolor\":\"white\",\"linecolor\":\"white\",\"ticks\":\"\"},\"caxis\":{\"gridcolor\":\"white\",\"linecolor\":\"white\",\"ticks\":\"\"}},\"coloraxis\":{\"colorbar\":{\"outlinewidth\":0,\"ticks\":\"\"}},\"colorscale\":{\"sequential\":[[0.0,\"#0d0887\"],[0.1111111111111111,\"#46039f\"],[0.2222222222222222,\"#7201a8\"],[0.3333333333333333,\"#9c179e\"],[0.4444444444444444,\"#bd3786\"],[0.5555555555555556,\"#d8576b\"],[0.6666666666666666,\"#ed7953\"],[0.7777777777777778,\"#fb9f3a\"],[0.8888888888888888,\"#fdca26\"],[1.0,\"#f0f921\"]],\"sequentialminus\":[[0.0,\"#0d0887\"],[0.1111111111111111,\"#46039f\"],[0.2222222222222222,\"#7201a8\"],[0.3333333333333333,\"#9c179e\"],[0.4444444444444444,\"#bd3786\"],[0.5555555555555556,\"#d8576b\"],[0.6666666666666666,\"#ed7953\"],[0.7777777777777778,\"#fb9f3a\"],[0.8888888888888888,\"#fdca26\"],[1.0,\"#f0f921\"]],\"diverging\":[[0,\"#8e0152\"],[0.1,\"#c51b7d\"],[0.2,\"#de77ae\"],[0.3,\"#f1b6da\"],[0.4,\"#fde0ef\"],[0.5,\"#f7f7f7\"],[0.6,\"#e6f5d0\"],[0.7,\"#b8e186\"],[0.8,\"#7fbc41\"],[0.9,\"#4d9221\"],[1,\"#276419\"]]},\"xaxis\":{\"gridcolor\":\"white\",\"linecolor\":\"white\",\"ticks\":\"\",\"title\":{\"standoff\":15},\"zerolinecolor\":\"white\",\"automargin\":true,\"zerolinewidth\":2},\"yaxis\":{\"gridcolor\":\"white\",\"linecolor\":\"white\",\"ticks\":\"\",\"title\":{\"standoff\":15},\"zerolinecolor\":\"white\",\"automargin\":true,\"zerolinewidth\":2},\"scene\":{\"xaxis\":{\"backgroundcolor\":\"#E5ECF6\",\"gridcolor\":\"white\",\"linecolor\":\"white\",\"showbackground\":true,\"ticks\":\"\",\"zerolinecolor\":\"white\",\"gridwidth\":2},\"yaxis\":{\"backgroundcolor\":\"#E5ECF6\",\"gridcolor\":\"white\",\"linecolor\":\"white\",\"showbackground\":true,\"ticks\":\"\",\"zerolinecolor\":\"white\",\"gridwidth\":2},\"zaxis\":{\"backgroundcolor\":\"#E5ECF6\",\"gridcolor\":\"white\",\"linecolor\":\"white\",\"showbackground\":true,\"ticks\":\"\",\"zerolinecolor\":\"white\",\"gridwidth\":2}},\"shapedefaults\":{\"line\":{\"color\":\"#2a3f5f\"}},\"annotationdefaults\":{\"arrowcolor\":\"#2a3f5f\",\"arrowhead\":0,\"arrowwidth\":1},\"geo\":{\"bgcolor\":\"white\",\"landcolor\":\"#E5ECF6\",\"subunitcolor\":\"white\",\"showland\":true,\"showlakes\":true,\"lakecolor\":\"white\"},\"title\":{\"x\":0.05},\"mapbox\":{\"style\":\"light\"}}},\"xaxis\":{\"anchor\":\"y\",\"domain\":[0.0,1.0],\"title\":{\"text\":\"Number of Downloads\"}},\"yaxis\":{\"anchor\":\"x\",\"domain\":[0.0,1.0],\"title\":{\"text\":\"Category\"}},\"legend\":{\"tracegroupgap\":0},\"title\":{\"text\":\"Category Popularity\"},\"barmode\":\"relative\"},                        {\"responsive\": true}                    ).then(function(){\n",
       "                            \n",
       "var gd = document.getElementById('9bae1da3-a50e-4725-bcd7-aa85ccd29840');\n",
       "var x = new MutationObserver(function (mutations, observer) {{\n",
       "        var display = window.getComputedStyle(gd).display;\n",
       "        if (!display || display === 'none') {{\n",
       "            console.log([gd, 'removed!']);\n",
       "            Plotly.purge(gd);\n",
       "            observer.disconnect();\n",
       "        }}\n",
       "}});\n",
       "\n",
       "// Listen for the removal of the full notebook cells\n",
       "var notebookContainer = gd.closest('#notebook-container');\n",
       "if (notebookContainer) {{\n",
       "    x.observe(notebookContainer, {childList: true});\n",
       "}}\n",
       "\n",
       "// Listen for the clearing of the current output cell\n",
       "var outputEl = gd.closest('.output');\n",
       "if (outputEl) {{\n",
       "    x.observe(outputEl, {childList: true});\n",
       "}}\n",
       "\n",
       "                        })                };                });            </script>        </div>"
      ]
     },
     "metadata": {},
     "output_type": "display_data"
    }
   ],
   "source": [
    "h_bar = px.bar(x = category_installs.Installs,\n",
    "               y = category_installs.index,\n",
    "               orientation='h',\n",
    "               title='Category Popularity')\n",
    " \n",
    "h_bar.update_layout(xaxis_title='Number of Downloads', yaxis_title='Category')\n",
    "h_bar.show()"
   ]
  },
  {
   "cell_type": "markdown",
   "id": "fb382ba5",
   "metadata": {
    "papermill": {
     "duration": 0.03372,
     "end_time": "2022-11-19T13:23:38.112736",
     "exception": false,
     "start_time": "2022-11-19T13:23:38.079016",
     "status": "completed"
    },
    "tags": []
   },
   "source": [
    "Now we see that Games and Tools are actually the most popular categories. If we plot the popularity of a category next to the number of apps in that category we can get an idea of how concentrated a category is. Do few apps have most of the downloads or are the downloads spread out over many apps?"
   ]
  },
  {
   "cell_type": "markdown",
   "id": "ab5bae11",
   "metadata": {
    "id": "Uxk24qMk8vrz",
    "papermill": {
     "duration": 0.035268,
     "end_time": "2022-11-19T13:23:38.182562",
     "exception": false,
     "start_time": "2022-11-19T13:23:38.147294",
     "status": "completed"
    },
    "tags": []
   },
   "source": [
    "### Category Concentration - Downloads vs. Competition\n",
    "\n",
    "**Challenge**: \n",
    "* First, create a DataFrame that has the number of apps in one column and the number of installs in another:\n",
    "\n",
    "<img src=https://imgur.com/uQRSlXi.png width=\"350\">\n",
    "\n",
    "* Then use the [plotly express examples from the documentation](https://plotly.com/python/line-and-scatter/) alongside the [.scatter() API reference](https://plotly.com/python-api-reference/generated/plotly.express.scatter.html)to create scatter plot that looks like this. \n",
    "\n",
    "<img src=https://imgur.com/cHsqh6a.png>\n",
    "\n",
    "*Hint*: Use the size, hover_name and color parameters in .scatter(). To scale the yaxis, call .update_layout() and specify that the yaxis should be on a log-scale like so: yaxis=dict(type='log') "
   ]
  },
  {
   "cell_type": "markdown",
   "id": "c03b131c",
   "metadata": {
    "papermill": {
     "duration": 0.033424,
     "end_time": "2022-11-19T13:23:38.250690",
     "exception": false,
     "start_time": "2022-11-19T13:23:38.217266",
     "status": "completed"
    },
    "tags": []
   },
   "source": [
    "First, we need to work out the number of apps in each category (similar to what we did previously)."
   ]
  },
  {
   "cell_type": "code",
   "execution_count": 36,
   "id": "79b9dc66",
   "metadata": {
    "execution": {
     "iopub.execute_input": "2022-11-19T13:23:38.321401Z",
     "iopub.status.busy": "2022-11-19T13:23:38.320991Z",
     "iopub.status.idle": "2022-11-19T13:23:38.332534Z",
     "shell.execute_reply": "2022-11-19T13:23:38.331564Z"
    },
    "id": "tVvGPDY7oe5A",
    "papermill": {
     "duration": 0.049701,
     "end_time": "2022-11-19T13:23:38.335047",
     "exception": false,
     "start_time": "2022-11-19T13:23:38.285346",
     "status": "completed"
    },
    "tags": []
   },
   "outputs": [],
   "source": [
    "cat_number = df_apps_clean.groupby('Category').agg({'App': pd.Series.count})"
   ]
  },
  {
   "cell_type": "markdown",
   "id": "24dcadeb",
   "metadata": {
    "papermill": {
     "duration": 0.033758,
     "end_time": "2022-11-19T13:23:38.402646",
     "exception": false,
     "start_time": "2022-11-19T13:23:38.368888",
     "status": "completed"
    },
    "tags": []
   },
   "source": [
    "Then we can use `.merge()` and combine the two DataFrames."
   ]
  },
  {
   "cell_type": "code",
   "execution_count": 37,
   "id": "82d9542f",
   "metadata": {
    "execution": {
     "iopub.execute_input": "2022-11-19T13:23:38.474661Z",
     "iopub.status.busy": "2022-11-19T13:23:38.474041Z",
     "iopub.status.idle": "2022-11-19T13:23:38.501273Z",
     "shell.execute_reply": "2022-11-19T13:23:38.499760Z"
    },
    "papermill": {
     "duration": 0.066164,
     "end_time": "2022-11-19T13:23:38.503547",
     "exception": false,
     "start_time": "2022-11-19T13:23:38.437383",
     "status": "completed"
    },
    "tags": []
   },
   "outputs": [
    {
     "name": "stdout",
     "output_type": "stream",
     "text": [
      "The dimensions of the DataFrame are: (33, 2)\n"
     ]
    },
    {
     "data": {
      "text/html": [
       "<div>\n",
       "<style scoped>\n",
       "    .dataframe tbody tr th:only-of-type {\n",
       "        vertical-align: middle;\n",
       "    }\n",
       "\n",
       "    .dataframe tbody tr th {\n",
       "        vertical-align: top;\n",
       "    }\n",
       "\n",
       "    .dataframe thead th {\n",
       "        text-align: right;\n",
       "    }\n",
       "</style>\n",
       "<table border=\"1\" class=\"dataframe\">\n",
       "  <thead>\n",
       "    <tr style=\"text-align: right;\">\n",
       "      <th></th>\n",
       "      <th>App</th>\n",
       "      <th>Installs</th>\n",
       "    </tr>\n",
       "    <tr>\n",
       "      <th>Category</th>\n",
       "      <th></th>\n",
       "      <th></th>\n",
       "    </tr>\n",
       "  </thead>\n",
       "  <tbody>\n",
       "    <tr>\n",
       "      <th>GAME</th>\n",
       "      <td>910</td>\n",
       "      <td>13858762717</td>\n",
       "    </tr>\n",
       "    <tr>\n",
       "      <th>COMMUNICATION</th>\n",
       "      <td>257</td>\n",
       "      <td>11039241530</td>\n",
       "    </tr>\n",
       "    <tr>\n",
       "      <th>TOOLS</th>\n",
       "      <td>719</td>\n",
       "      <td>8099724500</td>\n",
       "    </tr>\n",
       "    <tr>\n",
       "      <th>PRODUCTIVITY</th>\n",
       "      <td>301</td>\n",
       "      <td>5788070180</td>\n",
       "    </tr>\n",
       "    <tr>\n",
       "      <th>SOCIAL</th>\n",
       "      <td>203</td>\n",
       "      <td>5487841475</td>\n",
       "    </tr>\n",
       "    <tr>\n",
       "      <th>PHOTOGRAPHY</th>\n",
       "      <td>263</td>\n",
       "      <td>4649143130</td>\n",
       "    </tr>\n",
       "    <tr>\n",
       "      <th>FAMILY</th>\n",
       "      <td>1606</td>\n",
       "      <td>4437554490</td>\n",
       "    </tr>\n",
       "    <tr>\n",
       "      <th>VIDEO_PLAYERS</th>\n",
       "      <td>148</td>\n",
       "      <td>3916897200</td>\n",
       "    </tr>\n",
       "    <tr>\n",
       "      <th>TRAVEL_AND_LOCAL</th>\n",
       "      <td>187</td>\n",
       "      <td>2894859300</td>\n",
       "    </tr>\n",
       "    <tr>\n",
       "      <th>NEWS_AND_MAGAZINES</th>\n",
       "      <td>204</td>\n",
       "      <td>2369110650</td>\n",
       "    </tr>\n",
       "    <tr>\n",
       "      <th>ENTERTAINMENT</th>\n",
       "      <td>102</td>\n",
       "      <td>2113660000</td>\n",
       "    </tr>\n",
       "    <tr>\n",
       "      <th>BOOKS_AND_REFERENCE</th>\n",
       "      <td>169</td>\n",
       "      <td>1665791655</td>\n",
       "    </tr>\n",
       "    <tr>\n",
       "      <th>PERSONALIZATION</th>\n",
       "      <td>298</td>\n",
       "      <td>1532352930</td>\n",
       "    </tr>\n",
       "    <tr>\n",
       "      <th>SHOPPING</th>\n",
       "      <td>180</td>\n",
       "      <td>1400331540</td>\n",
       "    </tr>\n",
       "    <tr>\n",
       "      <th>HEALTH_AND_FITNESS</th>\n",
       "      <td>243</td>\n",
       "      <td>1134006220</td>\n",
       "    </tr>\n",
       "    <tr>\n",
       "      <th>SPORTS</th>\n",
       "      <td>260</td>\n",
       "      <td>1096431465</td>\n",
       "    </tr>\n",
       "    <tr>\n",
       "      <th>BUSINESS</th>\n",
       "      <td>262</td>\n",
       "      <td>692018120</td>\n",
       "    </tr>\n",
       "    <tr>\n",
       "      <th>LIFESTYLE</th>\n",
       "      <td>297</td>\n",
       "      <td>503611120</td>\n",
       "    </tr>\n",
       "    <tr>\n",
       "      <th>MAPS_AND_NAVIGATION</th>\n",
       "      <td>118</td>\n",
       "      <td>503267560</td>\n",
       "    </tr>\n",
       "    <tr>\n",
       "      <th>FINANCE</th>\n",
       "      <td>296</td>\n",
       "      <td>455249400</td>\n",
       "    </tr>\n",
       "    <tr>\n",
       "      <th>WEATHER</th>\n",
       "      <td>72</td>\n",
       "      <td>361096500</td>\n",
       "    </tr>\n",
       "    <tr>\n",
       "      <th>EDUCATION</th>\n",
       "      <td>118</td>\n",
       "      <td>352852000</td>\n",
       "    </tr>\n",
       "    <tr>\n",
       "      <th>FOOD_AND_DRINK</th>\n",
       "      <td>94</td>\n",
       "      <td>211677750</td>\n",
       "    </tr>\n",
       "    <tr>\n",
       "      <th>DATING</th>\n",
       "      <td>134</td>\n",
       "      <td>140912410</td>\n",
       "    </tr>\n",
       "    <tr>\n",
       "      <th>ART_AND_DESIGN</th>\n",
       "      <td>61</td>\n",
       "      <td>114233100</td>\n",
       "    </tr>\n",
       "    <tr>\n",
       "      <th>HOUSE_AND_HOME</th>\n",
       "      <td>62</td>\n",
       "      <td>97082000</td>\n",
       "    </tr>\n",
       "    <tr>\n",
       "      <th>AUTO_AND_VEHICLES</th>\n",
       "      <td>73</td>\n",
       "      <td>53129800</td>\n",
       "    </tr>\n",
       "    <tr>\n",
       "      <th>LIBRARIES_AND_DEMO</th>\n",
       "      <td>64</td>\n",
       "      <td>52083000</td>\n",
       "    </tr>\n",
       "    <tr>\n",
       "      <th>COMICS</th>\n",
       "      <td>54</td>\n",
       "      <td>44931100</td>\n",
       "    </tr>\n",
       "    <tr>\n",
       "      <th>MEDICAL</th>\n",
       "      <td>292</td>\n",
       "      <td>39162676</td>\n",
       "    </tr>\n",
       "    <tr>\n",
       "      <th>PARENTING</th>\n",
       "      <td>50</td>\n",
       "      <td>31116110</td>\n",
       "    </tr>\n",
       "    <tr>\n",
       "      <th>BEAUTY</th>\n",
       "      <td>42</td>\n",
       "      <td>26916200</td>\n",
       "    </tr>\n",
       "    <tr>\n",
       "      <th>EVENTS</th>\n",
       "      <td>45</td>\n",
       "      <td>15949410</td>\n",
       "    </tr>\n",
       "  </tbody>\n",
       "</table>\n",
       "</div>"
      ],
      "text/plain": [
       "                      App     Installs\n",
       "Category                              \n",
       "GAME                  910  13858762717\n",
       "COMMUNICATION         257  11039241530\n",
       "TOOLS                 719   8099724500\n",
       "PRODUCTIVITY          301   5788070180\n",
       "SOCIAL                203   5487841475\n",
       "PHOTOGRAPHY           263   4649143130\n",
       "FAMILY               1606   4437554490\n",
       "VIDEO_PLAYERS         148   3916897200\n",
       "TRAVEL_AND_LOCAL      187   2894859300\n",
       "NEWS_AND_MAGAZINES    204   2369110650\n",
       "ENTERTAINMENT         102   2113660000\n",
       "BOOKS_AND_REFERENCE   169   1665791655\n",
       "PERSONALIZATION       298   1532352930\n",
       "SHOPPING              180   1400331540\n",
       "HEALTH_AND_FITNESS    243   1134006220\n",
       "SPORTS                260   1096431465\n",
       "BUSINESS              262    692018120\n",
       "LIFESTYLE             297    503611120\n",
       "MAPS_AND_NAVIGATION   118    503267560\n",
       "FINANCE               296    455249400\n",
       "WEATHER                72    361096500\n",
       "EDUCATION             118    352852000\n",
       "FOOD_AND_DRINK         94    211677750\n",
       "DATING                134    140912410\n",
       "ART_AND_DESIGN         61    114233100\n",
       "HOUSE_AND_HOME         62     97082000\n",
       "AUTO_AND_VEHICLES      73     53129800\n",
       "LIBRARIES_AND_DEMO     64     52083000\n",
       "COMICS                 54     44931100\n",
       "MEDICAL               292     39162676\n",
       "PARENTING              50     31116110\n",
       "BEAUTY                 42     26916200\n",
       "EVENTS                 45     15949410"
      ]
     },
     "execution_count": 37,
     "metadata": {},
     "output_type": "execute_result"
    }
   ],
   "source": [
    "cat_merged_df = pd.merge(cat_number, category_installs, on='Category', how=\"inner\")\n",
    "print(f'The dimensions of the DataFrame are: {cat_merged_df.shape}')\n",
    "cat_merged_df.sort_values('Installs', ascending=False)"
   ]
  },
  {
   "cell_type": "markdown",
   "id": "10e03a36",
   "metadata": {
    "papermill": {
     "duration": 0.033837,
     "end_time": "2022-11-19T13:23:38.571804",
     "exception": false,
     "start_time": "2022-11-19T13:23:38.537967",
     "status": "completed"
    },
    "tags": []
   },
   "source": [
    "Now we can create the chart. Note that we can pass in an entire DataFrame and specify which columns should be used for the x and y by column name."
   ]
  },
  {
   "cell_type": "code",
   "execution_count": 38,
   "id": "4321ce87",
   "metadata": {
    "execution": {
     "iopub.execute_input": "2022-11-19T13:23:38.642124Z",
     "iopub.status.busy": "2022-11-19T13:23:38.641244Z",
     "iopub.status.idle": "2022-11-19T13:23:38.742140Z",
     "shell.execute_reply": "2022-11-19T13:23:38.741293Z"
    },
    "papermill": {
     "duration": 0.1387,
     "end_time": "2022-11-19T13:23:38.744663",
     "exception": false,
     "start_time": "2022-11-19T13:23:38.605963",
     "status": "completed"
    },
    "tags": []
   },
   "outputs": [
    {
     "data": {
      "text/html": [
       "<div>                            <div id=\"fed4845d-90b1-4be1-ad1d-07a6582175d6\" class=\"plotly-graph-div\" style=\"height:525px; width:100%;\"></div>            <script type=\"text/javascript\">                require([\"plotly\"], function(Plotly) {                    window.PLOTLYENV=window.PLOTLYENV || {};                                    if (document.getElementById(\"fed4845d-90b1-4be1-ad1d-07a6582175d6\")) {                    Plotly.newPlot(                        \"fed4845d-90b1-4be1-ad1d-07a6582175d6\",                        [{\"hovertemplate\":\"<b>%{hovertext}</b><br><br>App=%{marker.size}<br>Installs=%{marker.color}<extra></extra>\",\"hovertext\":[\"ART_AND_DESIGN\",\"AUTO_AND_VEHICLES\",\"BEAUTY\",\"BOOKS_AND_REFERENCE\",\"BUSINESS\",\"COMICS\",\"COMMUNICATION\",\"DATING\",\"EDUCATION\",\"ENTERTAINMENT\",\"EVENTS\",\"FAMILY\",\"FINANCE\",\"FOOD_AND_DRINK\",\"GAME\",\"HEALTH_AND_FITNESS\",\"HOUSE_AND_HOME\",\"LIBRARIES_AND_DEMO\",\"LIFESTYLE\",\"MAPS_AND_NAVIGATION\",\"MEDICAL\",\"NEWS_AND_MAGAZINES\",\"PARENTING\",\"PERSONALIZATION\",\"PHOTOGRAPHY\",\"PRODUCTIVITY\",\"SHOPPING\",\"SOCIAL\",\"SPORTS\",\"TOOLS\",\"TRAVEL_AND_LOCAL\",\"VIDEO_PLAYERS\",\"WEATHER\"],\"legendgroup\":\"\",\"marker\":{\"color\":[114233100,53129800,26916200,1665791655,692018120,44931100,11039241530,140912410,352852000,2113660000,15949410,4437554490,455249400,211677750,13858762717,1134006220,97082000,52083000,503611120,503267560,39162676,2369110650,31116110,1532352930,4649143130,5788070180,1400331540,5487841475,1096431465,8099724500,2894859300,3916897200,361096500],\"coloraxis\":\"coloraxis\",\"size\":[61,73,42,169,262,54,257,134,118,102,45,1606,296,94,910,243,62,64,297,118,292,204,50,298,263,301,180,203,260,719,187,148,72],\"sizemode\":\"area\",\"sizeref\":4.015,\"symbol\":\"circle\"},\"mode\":\"markers\",\"name\":\"\",\"orientation\":\"v\",\"showlegend\":false,\"x\":[61,73,42,169,262,54,257,134,118,102,45,1606,296,94,910,243,62,64,297,118,292,204,50,298,263,301,180,203,260,719,187,148,72],\"xaxis\":\"x\",\"y\":[114233100,53129800,26916200,1665791655,692018120,44931100,11039241530,140912410,352852000,2113660000,15949410,4437554490,455249400,211677750,13858762717,1134006220,97082000,52083000,503611120,503267560,39162676,2369110650,31116110,1532352930,4649143130,5788070180,1400331540,5487841475,1096431465,8099724500,2894859300,3916897200,361096500],\"yaxis\":\"y\",\"type\":\"scatter\"}],                        {\"template\":{\"data\":{\"histogram2dcontour\":[{\"type\":\"histogram2dcontour\",\"colorbar\":{\"outlinewidth\":0,\"ticks\":\"\"},\"colorscale\":[[0.0,\"#0d0887\"],[0.1111111111111111,\"#46039f\"],[0.2222222222222222,\"#7201a8\"],[0.3333333333333333,\"#9c179e\"],[0.4444444444444444,\"#bd3786\"],[0.5555555555555556,\"#d8576b\"],[0.6666666666666666,\"#ed7953\"],[0.7777777777777778,\"#fb9f3a\"],[0.8888888888888888,\"#fdca26\"],[1.0,\"#f0f921\"]]}],\"choropleth\":[{\"type\":\"choropleth\",\"colorbar\":{\"outlinewidth\":0,\"ticks\":\"\"}}],\"histogram2d\":[{\"type\":\"histogram2d\",\"colorbar\":{\"outlinewidth\":0,\"ticks\":\"\"},\"colorscale\":[[0.0,\"#0d0887\"],[0.1111111111111111,\"#46039f\"],[0.2222222222222222,\"#7201a8\"],[0.3333333333333333,\"#9c179e\"],[0.4444444444444444,\"#bd3786\"],[0.5555555555555556,\"#d8576b\"],[0.6666666666666666,\"#ed7953\"],[0.7777777777777778,\"#fb9f3a\"],[0.8888888888888888,\"#fdca26\"],[1.0,\"#f0f921\"]]}],\"heatmap\":[{\"type\":\"heatmap\",\"colorbar\":{\"outlinewidth\":0,\"ticks\":\"\"},\"colorscale\":[[0.0,\"#0d0887\"],[0.1111111111111111,\"#46039f\"],[0.2222222222222222,\"#7201a8\"],[0.3333333333333333,\"#9c179e\"],[0.4444444444444444,\"#bd3786\"],[0.5555555555555556,\"#d8576b\"],[0.6666666666666666,\"#ed7953\"],[0.7777777777777778,\"#fb9f3a\"],[0.8888888888888888,\"#fdca26\"],[1.0,\"#f0f921\"]]}],\"heatmapgl\":[{\"type\":\"heatmapgl\",\"colorbar\":{\"outlinewidth\":0,\"ticks\":\"\"},\"colorscale\":[[0.0,\"#0d0887\"],[0.1111111111111111,\"#46039f\"],[0.2222222222222222,\"#7201a8\"],[0.3333333333333333,\"#9c179e\"],[0.4444444444444444,\"#bd3786\"],[0.5555555555555556,\"#d8576b\"],[0.6666666666666666,\"#ed7953\"],[0.7777777777777778,\"#fb9f3a\"],[0.8888888888888888,\"#fdca26\"],[1.0,\"#f0f921\"]]}],\"contourcarpet\":[{\"type\":\"contourcarpet\",\"colorbar\":{\"outlinewidth\":0,\"ticks\":\"\"}}],\"contour\":[{\"type\":\"contour\",\"colorbar\":{\"outlinewidth\":0,\"ticks\":\"\"},\"colorscale\":[[0.0,\"#0d0887\"],[0.1111111111111111,\"#46039f\"],[0.2222222222222222,\"#7201a8\"],[0.3333333333333333,\"#9c179e\"],[0.4444444444444444,\"#bd3786\"],[0.5555555555555556,\"#d8576b\"],[0.6666666666666666,\"#ed7953\"],[0.7777777777777778,\"#fb9f3a\"],[0.8888888888888888,\"#fdca26\"],[1.0,\"#f0f921\"]]}],\"surface\":[{\"type\":\"surface\",\"colorbar\":{\"outlinewidth\":0,\"ticks\":\"\"},\"colorscale\":[[0.0,\"#0d0887\"],[0.1111111111111111,\"#46039f\"],[0.2222222222222222,\"#7201a8\"],[0.3333333333333333,\"#9c179e\"],[0.4444444444444444,\"#bd3786\"],[0.5555555555555556,\"#d8576b\"],[0.6666666666666666,\"#ed7953\"],[0.7777777777777778,\"#fb9f3a\"],[0.8888888888888888,\"#fdca26\"],[1.0,\"#f0f921\"]]}],\"mesh3d\":[{\"type\":\"mesh3d\",\"colorbar\":{\"outlinewidth\":0,\"ticks\":\"\"}}],\"scatter\":[{\"fillpattern\":{\"fillmode\":\"overlay\",\"size\":10,\"solidity\":0.2},\"type\":\"scatter\"}],\"parcoords\":[{\"type\":\"parcoords\",\"line\":{\"colorbar\":{\"outlinewidth\":0,\"ticks\":\"\"}}}],\"scatterpolargl\":[{\"type\":\"scatterpolargl\",\"marker\":{\"colorbar\":{\"outlinewidth\":0,\"ticks\":\"\"}}}],\"bar\":[{\"error_x\":{\"color\":\"#2a3f5f\"},\"error_y\":{\"color\":\"#2a3f5f\"},\"marker\":{\"line\":{\"color\":\"#E5ECF6\",\"width\":0.5},\"pattern\":{\"fillmode\":\"overlay\",\"size\":10,\"solidity\":0.2}},\"type\":\"bar\"}],\"scattergeo\":[{\"type\":\"scattergeo\",\"marker\":{\"colorbar\":{\"outlinewidth\":0,\"ticks\":\"\"}}}],\"scatterpolar\":[{\"type\":\"scatterpolar\",\"marker\":{\"colorbar\":{\"outlinewidth\":0,\"ticks\":\"\"}}}],\"histogram\":[{\"marker\":{\"pattern\":{\"fillmode\":\"overlay\",\"size\":10,\"solidity\":0.2}},\"type\":\"histogram\"}],\"scattergl\":[{\"type\":\"scattergl\",\"marker\":{\"colorbar\":{\"outlinewidth\":0,\"ticks\":\"\"}}}],\"scatter3d\":[{\"type\":\"scatter3d\",\"line\":{\"colorbar\":{\"outlinewidth\":0,\"ticks\":\"\"}},\"marker\":{\"colorbar\":{\"outlinewidth\":0,\"ticks\":\"\"}}}],\"scattermapbox\":[{\"type\":\"scattermapbox\",\"marker\":{\"colorbar\":{\"outlinewidth\":0,\"ticks\":\"\"}}}],\"scatterternary\":[{\"type\":\"scatterternary\",\"marker\":{\"colorbar\":{\"outlinewidth\":0,\"ticks\":\"\"}}}],\"scattercarpet\":[{\"type\":\"scattercarpet\",\"marker\":{\"colorbar\":{\"outlinewidth\":0,\"ticks\":\"\"}}}],\"carpet\":[{\"aaxis\":{\"endlinecolor\":\"#2a3f5f\",\"gridcolor\":\"white\",\"linecolor\":\"white\",\"minorgridcolor\":\"white\",\"startlinecolor\":\"#2a3f5f\"},\"baxis\":{\"endlinecolor\":\"#2a3f5f\",\"gridcolor\":\"white\",\"linecolor\":\"white\",\"minorgridcolor\":\"white\",\"startlinecolor\":\"#2a3f5f\"},\"type\":\"carpet\"}],\"table\":[{\"cells\":{\"fill\":{\"color\":\"#EBF0F8\"},\"line\":{\"color\":\"white\"}},\"header\":{\"fill\":{\"color\":\"#C8D4E3\"},\"line\":{\"color\":\"white\"}},\"type\":\"table\"}],\"barpolar\":[{\"marker\":{\"line\":{\"color\":\"#E5ECF6\",\"width\":0.5},\"pattern\":{\"fillmode\":\"overlay\",\"size\":10,\"solidity\":0.2}},\"type\":\"barpolar\"}],\"pie\":[{\"automargin\":true,\"type\":\"pie\"}]},\"layout\":{\"autotypenumbers\":\"strict\",\"colorway\":[\"#636efa\",\"#EF553B\",\"#00cc96\",\"#ab63fa\",\"#FFA15A\",\"#19d3f3\",\"#FF6692\",\"#B6E880\",\"#FF97FF\",\"#FECB52\"],\"font\":{\"color\":\"#2a3f5f\"},\"hovermode\":\"closest\",\"hoverlabel\":{\"align\":\"left\"},\"paper_bgcolor\":\"white\",\"plot_bgcolor\":\"#E5ECF6\",\"polar\":{\"bgcolor\":\"#E5ECF6\",\"angularaxis\":{\"gridcolor\":\"white\",\"linecolor\":\"white\",\"ticks\":\"\"},\"radialaxis\":{\"gridcolor\":\"white\",\"linecolor\":\"white\",\"ticks\":\"\"}},\"ternary\":{\"bgcolor\":\"#E5ECF6\",\"aaxis\":{\"gridcolor\":\"white\",\"linecolor\":\"white\",\"ticks\":\"\"},\"baxis\":{\"gridcolor\":\"white\",\"linecolor\":\"white\",\"ticks\":\"\"},\"caxis\":{\"gridcolor\":\"white\",\"linecolor\":\"white\",\"ticks\":\"\"}},\"coloraxis\":{\"colorbar\":{\"outlinewidth\":0,\"ticks\":\"\"}},\"colorscale\":{\"sequential\":[[0.0,\"#0d0887\"],[0.1111111111111111,\"#46039f\"],[0.2222222222222222,\"#7201a8\"],[0.3333333333333333,\"#9c179e\"],[0.4444444444444444,\"#bd3786\"],[0.5555555555555556,\"#d8576b\"],[0.6666666666666666,\"#ed7953\"],[0.7777777777777778,\"#fb9f3a\"],[0.8888888888888888,\"#fdca26\"],[1.0,\"#f0f921\"]],\"sequentialminus\":[[0.0,\"#0d0887\"],[0.1111111111111111,\"#46039f\"],[0.2222222222222222,\"#7201a8\"],[0.3333333333333333,\"#9c179e\"],[0.4444444444444444,\"#bd3786\"],[0.5555555555555556,\"#d8576b\"],[0.6666666666666666,\"#ed7953\"],[0.7777777777777778,\"#fb9f3a\"],[0.8888888888888888,\"#fdca26\"],[1.0,\"#f0f921\"]],\"diverging\":[[0,\"#8e0152\"],[0.1,\"#c51b7d\"],[0.2,\"#de77ae\"],[0.3,\"#f1b6da\"],[0.4,\"#fde0ef\"],[0.5,\"#f7f7f7\"],[0.6,\"#e6f5d0\"],[0.7,\"#b8e186\"],[0.8,\"#7fbc41\"],[0.9,\"#4d9221\"],[1,\"#276419\"]]},\"xaxis\":{\"gridcolor\":\"white\",\"linecolor\":\"white\",\"ticks\":\"\",\"title\":{\"standoff\":15},\"zerolinecolor\":\"white\",\"automargin\":true,\"zerolinewidth\":2},\"yaxis\":{\"gridcolor\":\"white\",\"linecolor\":\"white\",\"ticks\":\"\",\"title\":{\"standoff\":15},\"zerolinecolor\":\"white\",\"automargin\":true,\"zerolinewidth\":2},\"scene\":{\"xaxis\":{\"backgroundcolor\":\"#E5ECF6\",\"gridcolor\":\"white\",\"linecolor\":\"white\",\"showbackground\":true,\"ticks\":\"\",\"zerolinecolor\":\"white\",\"gridwidth\":2},\"yaxis\":{\"backgroundcolor\":\"#E5ECF6\",\"gridcolor\":\"white\",\"linecolor\":\"white\",\"showbackground\":true,\"ticks\":\"\",\"zerolinecolor\":\"white\",\"gridwidth\":2},\"zaxis\":{\"backgroundcolor\":\"#E5ECF6\",\"gridcolor\":\"white\",\"linecolor\":\"white\",\"showbackground\":true,\"ticks\":\"\",\"zerolinecolor\":\"white\",\"gridwidth\":2}},\"shapedefaults\":{\"line\":{\"color\":\"#2a3f5f\"}},\"annotationdefaults\":{\"arrowcolor\":\"#2a3f5f\",\"arrowhead\":0,\"arrowwidth\":1},\"geo\":{\"bgcolor\":\"white\",\"landcolor\":\"#E5ECF6\",\"subunitcolor\":\"white\",\"showland\":true,\"showlakes\":true,\"lakecolor\":\"white\"},\"title\":{\"x\":0.05},\"mapbox\":{\"style\":\"light\"}}},\"xaxis\":{\"anchor\":\"y\",\"domain\":[0.0,1.0],\"title\":{\"text\":\"Number of Apps (Lower=More Concentrated)\"}},\"yaxis\":{\"anchor\":\"x\",\"domain\":[0.0,1.0],\"title\":{\"text\":\"Installs\"},\"type\":\"log\"},\"coloraxis\":{\"colorbar\":{\"title\":{\"text\":\"Installs\"}},\"colorscale\":[[0.0,\"#0d0887\"],[0.1111111111111111,\"#46039f\"],[0.2222222222222222,\"#7201a8\"],[0.3333333333333333,\"#9c179e\"],[0.4444444444444444,\"#bd3786\"],[0.5555555555555556,\"#d8576b\"],[0.6666666666666666,\"#ed7953\"],[0.7777777777777778,\"#fb9f3a\"],[0.8888888888888888,\"#fdca26\"],[1.0,\"#f0f921\"]]},\"legend\":{\"tracegroupgap\":0,\"itemsizing\":\"constant\"},\"title\":{\"text\":\"Category Concentration\"}},                        {\"responsive\": true}                    ).then(function(){\n",
       "                            \n",
       "var gd = document.getElementById('fed4845d-90b1-4be1-ad1d-07a6582175d6');\n",
       "var x = new MutationObserver(function (mutations, observer) {{\n",
       "        var display = window.getComputedStyle(gd).display;\n",
       "        if (!display || display === 'none') {{\n",
       "            console.log([gd, 'removed!']);\n",
       "            Plotly.purge(gd);\n",
       "            observer.disconnect();\n",
       "        }}\n",
       "}});\n",
       "\n",
       "// Listen for the removal of the full notebook cells\n",
       "var notebookContainer = gd.closest('#notebook-container');\n",
       "if (notebookContainer) {{\n",
       "    x.observe(notebookContainer, {childList: true});\n",
       "}}\n",
       "\n",
       "// Listen for the clearing of the current output cell\n",
       "var outputEl = gd.closest('.output');\n",
       "if (outputEl) {{\n",
       "    x.observe(outputEl, {childList: true});\n",
       "}}\n",
       "\n",
       "                        })                };                });            </script>        </div>"
      ]
     },
     "metadata": {},
     "output_type": "display_data"
    }
   ],
   "source": [
    "scatter = px.scatter(cat_merged_df, # data\n",
    "                    x='App', # column name\n",
    "                    y='Installs',\n",
    "                    title='Category Concentration',\n",
    "                    size='App',\n",
    "                    hover_name=cat_merged_df.index,\n",
    "                    color='Installs')\n",
    " \n",
    "scatter.update_layout(xaxis_title=\"Number of Apps (Lower=More Concentrated)\",\n",
    "                      yaxis_title=\"Installs\",\n",
    "                      yaxis=dict(type='log'))\n",
    " \n",
    "scatter.show()"
   ]
  },
  {
   "cell_type": "markdown",
   "id": "94e720d9",
   "metadata": {
    "papermill": {
     "duration": 0.035611,
     "end_time": "2022-11-19T13:23:38.815585",
     "exception": false,
     "start_time": "2022-11-19T13:23:38.779974",
     "status": "completed"
    },
    "tags": []
   },
   "source": [
    "What we see is that the categories like Family, Tools, and Game have many different apps sharing a high number of downloads. But for the categories like video players and entertainment, all the downloads are concentrated in very few apps."
   ]
  },
  {
   "cell_type": "markdown",
   "id": "cccdd0d4",
   "metadata": {
    "id": "dmXDF75WdiVC",
    "papermill": {
     "duration": 0.035716,
     "end_time": "2022-11-19T13:23:38.887304",
     "exception": false,
     "start_time": "2022-11-19T13:23:38.851588",
     "status": "completed"
    },
    "tags": []
   },
   "source": [
    "# Extracting Nested Data from a Column\n",
    "\n",
    "**Challenge**: How many different types of genres are there? Can an app belong to more than one genre? Check what happens when you use .value_counts() on a column with nested values? See if you can work around this problem by using the .split() function and the DataFrame's [.stack() method](https://pandas.pydata.org/pandas-docs/stable/reference/api/pandas.DataFrame.stack.html). \n"
   ]
  },
  {
   "cell_type": "markdown",
   "id": "1796cf08",
   "metadata": {
    "papermill": {
     "duration": 0.035459,
     "end_time": "2022-11-19T13:23:38.958840",
     "exception": false,
     "start_time": "2022-11-19T13:23:38.923381",
     "status": "completed"
    },
    "tags": []
   },
   "source": [
    "If we look at the number of unique values in the Genres column we get 114. But this is not accurate if we have nested data like we do here. We can see this using `.value_counts()` and looking at the values that just have a single entry. There we see that the semi-colon (;) separates the genre names."
   ]
  },
  {
   "cell_type": "code",
   "execution_count": 39,
   "id": "20659072",
   "metadata": {
    "execution": {
     "iopub.execute_input": "2022-11-19T13:23:39.033389Z",
     "iopub.status.busy": "2022-11-19T13:23:39.032257Z",
     "iopub.status.idle": "2022-11-19T13:23:39.040850Z",
     "shell.execute_reply": "2022-11-19T13:23:39.039692Z"
    },
    "id": "3Lo69kS6ogdm",
    "papermill": {
     "duration": 0.048463,
     "end_time": "2022-11-19T13:23:39.043140",
     "exception": false,
     "start_time": "2022-11-19T13:23:38.994677",
     "status": "completed"
    },
    "tags": []
   },
   "outputs": [
    {
     "data": {
      "text/plain": [
       "114"
      ]
     },
     "execution_count": 39,
     "metadata": {},
     "output_type": "execute_result"
    }
   ],
   "source": [
    "len(df_apps_clean.Genres.unique())"
   ]
  },
  {
   "cell_type": "code",
   "execution_count": 40,
   "id": "561ff684",
   "metadata": {
    "execution": {
     "iopub.execute_input": "2022-11-19T13:23:39.117861Z",
     "iopub.status.busy": "2022-11-19T13:23:39.117478Z",
     "iopub.status.idle": "2022-11-19T13:23:39.127702Z",
     "shell.execute_reply": "2022-11-19T13:23:39.126830Z"
    },
    "papermill": {
     "duration": 0.05,
     "end_time": "2022-11-19T13:23:39.129938",
     "exception": false,
     "start_time": "2022-11-19T13:23:39.079938",
     "status": "completed"
    },
    "tags": []
   },
   "outputs": [
    {
     "data": {
      "text/plain": [
       "Lifestyle;Pretend Play      1\n",
       "Strategy;Education          1\n",
       "Adventure;Education         1\n",
       "Role Playing;Brain Games    1\n",
       "Tools;Education             1\n",
       "Name: Genres, dtype: int64"
      ]
     },
     "execution_count": 40,
     "metadata": {},
     "output_type": "execute_result"
    }
   ],
   "source": [
    "df_apps_clean.Genres.value_counts().sort_values(ascending=True)[:5]"
   ]
  },
  {
   "cell_type": "markdown",
   "id": "b0a7abec",
   "metadata": {
    "papermill": {
     "duration": 0.035614,
     "end_time": "2022-11-19T13:23:39.201638",
     "exception": false,
     "start_time": "2022-11-19T13:23:39.166024",
     "status": "completed"
    },
    "tags": []
   },
   "source": [
    "We somehow need to separate the genre names to get a clear picture. This is where the string’s `.split()` method comes in handy. After we’ve separated our genre names based on the semi-colon, we can add them all into a single column with `.stack()` and then use `.value_counts()`."
   ]
  },
  {
   "cell_type": "code",
   "execution_count": 41,
   "id": "101de8b2",
   "metadata": {
    "execution": {
     "iopub.execute_input": "2022-11-19T13:23:39.278035Z",
     "iopub.status.busy": "2022-11-19T13:23:39.277619Z",
     "iopub.status.idle": "2022-11-19T13:23:39.303370Z",
     "shell.execute_reply": "2022-11-19T13:23:39.301655Z"
    },
    "papermill": {
     "duration": 0.068757,
     "end_time": "2022-11-19T13:23:39.306590",
     "exception": false,
     "start_time": "2022-11-19T13:23:39.237833",
     "status": "completed"
    },
    "tags": []
   },
   "outputs": [
    {
     "name": "stdout",
     "output_type": "stream",
     "text": [
      "We now have a single column with shape: (8564,)\n",
      "Number of genres: 53\n"
     ]
    }
   ],
   "source": [
    "# Split the strings on the semi-colon and then .stack them.\n",
    "stack = df_apps_clean.Genres.str.split(';', expand=True).stack()\n",
    "print(f'We now have a single column with shape: {stack.shape}')\n",
    "num_genres = stack.value_counts()\n",
    "print(f'Number of genres: {len(num_genres)}')"
   ]
  },
  {
   "cell_type": "markdown",
   "id": "69614a10",
   "metadata": {
    "papermill": {
     "duration": 0.03575,
     "end_time": "2022-11-19T13:23:39.379465",
     "exception": false,
     "start_time": "2022-11-19T13:23:39.343715",
     "status": "completed"
    },
    "tags": []
   },
   "source": [
    "This shows us we actually have 53 different genres."
   ]
  },
  {
   "cell_type": "markdown",
   "id": "90237733",
   "metadata": {
    "id": "F3zaKvfydiVI",
    "papermill": {
     "duration": 0.036241,
     "end_time": "2022-11-19T13:23:39.452316",
     "exception": false,
     "start_time": "2022-11-19T13:23:39.416075",
     "status": "completed"
    },
    "tags": []
   },
   "source": [
    "# Colour Scales in Plotly Charts - Competition in Genres"
   ]
  },
  {
   "cell_type": "markdown",
   "id": "9cd4146e",
   "metadata": {
    "id": "Ucw6RT59diVK",
    "papermill": {
     "duration": 0.035858,
     "end_time": "2022-11-19T13:23:39.524329",
     "exception": false,
     "start_time": "2022-11-19T13:23:39.488471",
     "status": "completed"
    },
    "tags": []
   },
   "source": [
    "**Challenge**: Can you create this chart with the Series containing the genre data? \n",
    "\n",
    "<img src=https://imgur.com/DbcoQli.png width=400>\n",
    "\n",
    "Try experimenting with the built in colour scales in Plotly. You can find a full list [here](https://plotly.com/python/builtin-colorscales/). \n",
    "\n",
    "* Find a way to set the colour scale using the color_continuous_scale parameter. \n",
    "* Find a way to make the color axis disappear by using coloraxis_showscale. "
   ]
  },
  {
   "cell_type": "code",
   "execution_count": 42,
   "id": "7c874832",
   "metadata": {
    "execution": {
     "iopub.execute_input": "2022-11-19T13:23:39.603658Z",
     "iopub.status.busy": "2022-11-19T13:23:39.603288Z",
     "iopub.status.idle": "2022-11-19T13:23:39.671814Z",
     "shell.execute_reply": "2022-11-19T13:23:39.670754Z"
    },
    "id": "c5xbfMgxojoA",
    "papermill": {
     "duration": 0.109672,
     "end_time": "2022-11-19T13:23:39.674493",
     "exception": false,
     "start_time": "2022-11-19T13:23:39.564821",
     "status": "completed"
    },
    "tags": []
   },
   "outputs": [
    {
     "data": {
      "text/html": [
       "<div>                            <div id=\"e13dca8c-e8e6-4268-8057-f806aa6c5efe\" class=\"plotly-graph-div\" style=\"height:525px; width:100%;\"></div>            <script type=\"text/javascript\">                require([\"plotly\"], function(Plotly) {                    window.PLOTLYENV=window.PLOTLYENV || {};                                    if (document.getElementById(\"e13dca8c-e8e6-4268-8057-f806aa6c5efe\")) {                    Plotly.newPlot(                        \"e13dca8c-e8e6-4268-8057-f806aa6c5efe\",                        [{\"alignmentgroup\":\"True\",\"hovertemplate\":\"<b>%{hovertext}</b><br><br>x=%{x}<br>y=%{y}<br>color=%{marker.color}<extra></extra>\",\"hovertext\":[\"Tools\",\"Education\",\"Entertainment\",\"Action\",\"Productivity\",\"Personalization\",\"Lifestyle\",\"Finance\",\"Medical\",\"Sports\",\"Photography\",\"Business\",\"Communication\",\"Health & Fitness\",\"Casual\"],\"legendgroup\":\"\",\"marker\":{\"color\":[719,587,498,304,301,298,298,296,292,270,263,262,258,245,216],\"coloraxis\":\"coloraxis\",\"pattern\":{\"shape\":\"\"}},\"name\":\"\",\"offsetgroup\":\"\",\"orientation\":\"v\",\"showlegend\":false,\"textposition\":\"auto\",\"x\":[\"Tools\",\"Education\",\"Entertainment\",\"Action\",\"Productivity\",\"Personalization\",\"Lifestyle\",\"Finance\",\"Medical\",\"Sports\",\"Photography\",\"Business\",\"Communication\",\"Health & Fitness\",\"Casual\"],\"xaxis\":\"x\",\"y\":[719,587,498,304,301,298,298,296,292,270,263,262,258,245,216],\"yaxis\":\"y\",\"type\":\"bar\"}],                        {\"template\":{\"data\":{\"histogram2dcontour\":[{\"type\":\"histogram2dcontour\",\"colorbar\":{\"outlinewidth\":0,\"ticks\":\"\"},\"colorscale\":[[0.0,\"#0d0887\"],[0.1111111111111111,\"#46039f\"],[0.2222222222222222,\"#7201a8\"],[0.3333333333333333,\"#9c179e\"],[0.4444444444444444,\"#bd3786\"],[0.5555555555555556,\"#d8576b\"],[0.6666666666666666,\"#ed7953\"],[0.7777777777777778,\"#fb9f3a\"],[0.8888888888888888,\"#fdca26\"],[1.0,\"#f0f921\"]]}],\"choropleth\":[{\"type\":\"choropleth\",\"colorbar\":{\"outlinewidth\":0,\"ticks\":\"\"}}],\"histogram2d\":[{\"type\":\"histogram2d\",\"colorbar\":{\"outlinewidth\":0,\"ticks\":\"\"},\"colorscale\":[[0.0,\"#0d0887\"],[0.1111111111111111,\"#46039f\"],[0.2222222222222222,\"#7201a8\"],[0.3333333333333333,\"#9c179e\"],[0.4444444444444444,\"#bd3786\"],[0.5555555555555556,\"#d8576b\"],[0.6666666666666666,\"#ed7953\"],[0.7777777777777778,\"#fb9f3a\"],[0.8888888888888888,\"#fdca26\"],[1.0,\"#f0f921\"]]}],\"heatmap\":[{\"type\":\"heatmap\",\"colorbar\":{\"outlinewidth\":0,\"ticks\":\"\"},\"colorscale\":[[0.0,\"#0d0887\"],[0.1111111111111111,\"#46039f\"],[0.2222222222222222,\"#7201a8\"],[0.3333333333333333,\"#9c179e\"],[0.4444444444444444,\"#bd3786\"],[0.5555555555555556,\"#d8576b\"],[0.6666666666666666,\"#ed7953\"],[0.7777777777777778,\"#fb9f3a\"],[0.8888888888888888,\"#fdca26\"],[1.0,\"#f0f921\"]]}],\"heatmapgl\":[{\"type\":\"heatmapgl\",\"colorbar\":{\"outlinewidth\":0,\"ticks\":\"\"},\"colorscale\":[[0.0,\"#0d0887\"],[0.1111111111111111,\"#46039f\"],[0.2222222222222222,\"#7201a8\"],[0.3333333333333333,\"#9c179e\"],[0.4444444444444444,\"#bd3786\"],[0.5555555555555556,\"#d8576b\"],[0.6666666666666666,\"#ed7953\"],[0.7777777777777778,\"#fb9f3a\"],[0.8888888888888888,\"#fdca26\"],[1.0,\"#f0f921\"]]}],\"contourcarpet\":[{\"type\":\"contourcarpet\",\"colorbar\":{\"outlinewidth\":0,\"ticks\":\"\"}}],\"contour\":[{\"type\":\"contour\",\"colorbar\":{\"outlinewidth\":0,\"ticks\":\"\"},\"colorscale\":[[0.0,\"#0d0887\"],[0.1111111111111111,\"#46039f\"],[0.2222222222222222,\"#7201a8\"],[0.3333333333333333,\"#9c179e\"],[0.4444444444444444,\"#bd3786\"],[0.5555555555555556,\"#d8576b\"],[0.6666666666666666,\"#ed7953\"],[0.7777777777777778,\"#fb9f3a\"],[0.8888888888888888,\"#fdca26\"],[1.0,\"#f0f921\"]]}],\"surface\":[{\"type\":\"surface\",\"colorbar\":{\"outlinewidth\":0,\"ticks\":\"\"},\"colorscale\":[[0.0,\"#0d0887\"],[0.1111111111111111,\"#46039f\"],[0.2222222222222222,\"#7201a8\"],[0.3333333333333333,\"#9c179e\"],[0.4444444444444444,\"#bd3786\"],[0.5555555555555556,\"#d8576b\"],[0.6666666666666666,\"#ed7953\"],[0.7777777777777778,\"#fb9f3a\"],[0.8888888888888888,\"#fdca26\"],[1.0,\"#f0f921\"]]}],\"mesh3d\":[{\"type\":\"mesh3d\",\"colorbar\":{\"outlinewidth\":0,\"ticks\":\"\"}}],\"scatter\":[{\"fillpattern\":{\"fillmode\":\"overlay\",\"size\":10,\"solidity\":0.2},\"type\":\"scatter\"}],\"parcoords\":[{\"type\":\"parcoords\",\"line\":{\"colorbar\":{\"outlinewidth\":0,\"ticks\":\"\"}}}],\"scatterpolargl\":[{\"type\":\"scatterpolargl\",\"marker\":{\"colorbar\":{\"outlinewidth\":0,\"ticks\":\"\"}}}],\"bar\":[{\"error_x\":{\"color\":\"#2a3f5f\"},\"error_y\":{\"color\":\"#2a3f5f\"},\"marker\":{\"line\":{\"color\":\"#E5ECF6\",\"width\":0.5},\"pattern\":{\"fillmode\":\"overlay\",\"size\":10,\"solidity\":0.2}},\"type\":\"bar\"}],\"scattergeo\":[{\"type\":\"scattergeo\",\"marker\":{\"colorbar\":{\"outlinewidth\":0,\"ticks\":\"\"}}}],\"scatterpolar\":[{\"type\":\"scatterpolar\",\"marker\":{\"colorbar\":{\"outlinewidth\":0,\"ticks\":\"\"}}}],\"histogram\":[{\"marker\":{\"pattern\":{\"fillmode\":\"overlay\",\"size\":10,\"solidity\":0.2}},\"type\":\"histogram\"}],\"scattergl\":[{\"type\":\"scattergl\",\"marker\":{\"colorbar\":{\"outlinewidth\":0,\"ticks\":\"\"}}}],\"scatter3d\":[{\"type\":\"scatter3d\",\"line\":{\"colorbar\":{\"outlinewidth\":0,\"ticks\":\"\"}},\"marker\":{\"colorbar\":{\"outlinewidth\":0,\"ticks\":\"\"}}}],\"scattermapbox\":[{\"type\":\"scattermapbox\",\"marker\":{\"colorbar\":{\"outlinewidth\":0,\"ticks\":\"\"}}}],\"scatterternary\":[{\"type\":\"scatterternary\",\"marker\":{\"colorbar\":{\"outlinewidth\":0,\"ticks\":\"\"}}}],\"scattercarpet\":[{\"type\":\"scattercarpet\",\"marker\":{\"colorbar\":{\"outlinewidth\":0,\"ticks\":\"\"}}}],\"carpet\":[{\"aaxis\":{\"endlinecolor\":\"#2a3f5f\",\"gridcolor\":\"white\",\"linecolor\":\"white\",\"minorgridcolor\":\"white\",\"startlinecolor\":\"#2a3f5f\"},\"baxis\":{\"endlinecolor\":\"#2a3f5f\",\"gridcolor\":\"white\",\"linecolor\":\"white\",\"minorgridcolor\":\"white\",\"startlinecolor\":\"#2a3f5f\"},\"type\":\"carpet\"}],\"table\":[{\"cells\":{\"fill\":{\"color\":\"#EBF0F8\"},\"line\":{\"color\":\"white\"}},\"header\":{\"fill\":{\"color\":\"#C8D4E3\"},\"line\":{\"color\":\"white\"}},\"type\":\"table\"}],\"barpolar\":[{\"marker\":{\"line\":{\"color\":\"#E5ECF6\",\"width\":0.5},\"pattern\":{\"fillmode\":\"overlay\",\"size\":10,\"solidity\":0.2}},\"type\":\"barpolar\"}],\"pie\":[{\"automargin\":true,\"type\":\"pie\"}]},\"layout\":{\"autotypenumbers\":\"strict\",\"colorway\":[\"#636efa\",\"#EF553B\",\"#00cc96\",\"#ab63fa\",\"#FFA15A\",\"#19d3f3\",\"#FF6692\",\"#B6E880\",\"#FF97FF\",\"#FECB52\"],\"font\":{\"color\":\"#2a3f5f\"},\"hovermode\":\"closest\",\"hoverlabel\":{\"align\":\"left\"},\"paper_bgcolor\":\"white\",\"plot_bgcolor\":\"#E5ECF6\",\"polar\":{\"bgcolor\":\"#E5ECF6\",\"angularaxis\":{\"gridcolor\":\"white\",\"linecolor\":\"white\",\"ticks\":\"\"},\"radialaxis\":{\"gridcolor\":\"white\",\"linecolor\":\"white\",\"ticks\":\"\"}},\"ternary\":{\"bgcolor\":\"#E5ECF6\",\"aaxis\":{\"gridcolor\":\"white\",\"linecolor\":\"white\",\"ticks\":\"\"},\"baxis\":{\"gridcolor\":\"white\",\"linecolor\":\"white\",\"ticks\":\"\"},\"caxis\":{\"gridcolor\":\"white\",\"linecolor\":\"white\",\"ticks\":\"\"}},\"coloraxis\":{\"colorbar\":{\"outlinewidth\":0,\"ticks\":\"\"}},\"colorscale\":{\"sequential\":[[0.0,\"#0d0887\"],[0.1111111111111111,\"#46039f\"],[0.2222222222222222,\"#7201a8\"],[0.3333333333333333,\"#9c179e\"],[0.4444444444444444,\"#bd3786\"],[0.5555555555555556,\"#d8576b\"],[0.6666666666666666,\"#ed7953\"],[0.7777777777777778,\"#fb9f3a\"],[0.8888888888888888,\"#fdca26\"],[1.0,\"#f0f921\"]],\"sequentialminus\":[[0.0,\"#0d0887\"],[0.1111111111111111,\"#46039f\"],[0.2222222222222222,\"#7201a8\"],[0.3333333333333333,\"#9c179e\"],[0.4444444444444444,\"#bd3786\"],[0.5555555555555556,\"#d8576b\"],[0.6666666666666666,\"#ed7953\"],[0.7777777777777778,\"#fb9f3a\"],[0.8888888888888888,\"#fdca26\"],[1.0,\"#f0f921\"]],\"diverging\":[[0,\"#8e0152\"],[0.1,\"#c51b7d\"],[0.2,\"#de77ae\"],[0.3,\"#f1b6da\"],[0.4,\"#fde0ef\"],[0.5,\"#f7f7f7\"],[0.6,\"#e6f5d0\"],[0.7,\"#b8e186\"],[0.8,\"#7fbc41\"],[0.9,\"#4d9221\"],[1,\"#276419\"]]},\"xaxis\":{\"gridcolor\":\"white\",\"linecolor\":\"white\",\"ticks\":\"\",\"title\":{\"standoff\":15},\"zerolinecolor\":\"white\",\"automargin\":true,\"zerolinewidth\":2},\"yaxis\":{\"gridcolor\":\"white\",\"linecolor\":\"white\",\"ticks\":\"\",\"title\":{\"standoff\":15},\"zerolinecolor\":\"white\",\"automargin\":true,\"zerolinewidth\":2},\"scene\":{\"xaxis\":{\"backgroundcolor\":\"#E5ECF6\",\"gridcolor\":\"white\",\"linecolor\":\"white\",\"showbackground\":true,\"ticks\":\"\",\"zerolinecolor\":\"white\",\"gridwidth\":2},\"yaxis\":{\"backgroundcolor\":\"#E5ECF6\",\"gridcolor\":\"white\",\"linecolor\":\"white\",\"showbackground\":true,\"ticks\":\"\",\"zerolinecolor\":\"white\",\"gridwidth\":2},\"zaxis\":{\"backgroundcolor\":\"#E5ECF6\",\"gridcolor\":\"white\",\"linecolor\":\"white\",\"showbackground\":true,\"ticks\":\"\",\"zerolinecolor\":\"white\",\"gridwidth\":2}},\"shapedefaults\":{\"line\":{\"color\":\"#2a3f5f\"}},\"annotationdefaults\":{\"arrowcolor\":\"#2a3f5f\",\"arrowhead\":0,\"arrowwidth\":1},\"geo\":{\"bgcolor\":\"white\",\"landcolor\":\"#E5ECF6\",\"subunitcolor\":\"white\",\"showland\":true,\"showlakes\":true,\"lakecolor\":\"white\"},\"title\":{\"x\":0.05},\"mapbox\":{\"style\":\"light\"}}},\"xaxis\":{\"anchor\":\"y\",\"domain\":[0.0,1.0],\"title\":{\"text\":\"Genre\"}},\"yaxis\":{\"anchor\":\"x\",\"domain\":[0.0,1.0],\"title\":{\"text\":\"Number of Apps\"}},\"coloraxis\":{\"colorbar\":{\"title\":{\"text\":\"color\"}},\"colorscale\":[[0.0,\"rgb(75, 41, 145)\"],[0.16666666666666666,\"rgb(135, 44, 162)\"],[0.3333333333333333,\"rgb(192, 54, 157)\"],[0.5,\"rgb(234, 79, 136)\"],[0.6666666666666666,\"rgb(250, 120, 118)\"],[0.8333333333333334,\"rgb(246, 169, 122)\"],[1.0,\"rgb(237, 217, 163)\"]],\"showscale\":false},\"legend\":{\"tracegroupgap\":0},\"title\":{\"text\":\"Top Genres\"},\"barmode\":\"relative\"},                        {\"responsive\": true}                    ).then(function(){\n",
       "                            \n",
       "var gd = document.getElementById('e13dca8c-e8e6-4268-8057-f806aa6c5efe');\n",
       "var x = new MutationObserver(function (mutations, observer) {{\n",
       "        var display = window.getComputedStyle(gd).display;\n",
       "        if (!display || display === 'none') {{\n",
       "            console.log([gd, 'removed!']);\n",
       "            Plotly.purge(gd);\n",
       "            observer.disconnect();\n",
       "        }}\n",
       "}});\n",
       "\n",
       "// Listen for the removal of the full notebook cells\n",
       "var notebookContainer = gd.closest('#notebook-container');\n",
       "if (notebookContainer) {{\n",
       "    x.observe(notebookContainer, {childList: true});\n",
       "}}\n",
       "\n",
       "// Listen for the clearing of the current output cell\n",
       "var outputEl = gd.closest('.output');\n",
       "if (outputEl) {{\n",
       "    x.observe(outputEl, {childList: true});\n",
       "}}\n",
       "\n",
       "                        })                };                });            </script>        </div>"
      ]
     },
     "metadata": {},
     "output_type": "display_data"
    }
   ],
   "source": [
    "bar = px.bar(x = num_genres.index[:15], # index = category name\n",
    "             y = num_genres.values[:15], # count\n",
    "             title='Top Genres',\n",
    "             hover_name=num_genres.index[:15],\n",
    "             color=num_genres.values[:15],\n",
    "             color_continuous_scale='Agsunset')\n",
    " \n",
    "bar.update_layout(xaxis_title='Genre',\n",
    "yaxis_title='Number of Apps',\n",
    "coloraxis_showscale=False)\n",
    " \n",
    "bar.show()"
   ]
  },
  {
   "cell_type": "markdown",
   "id": "b806c119",
   "metadata": {
    "id": "BIWG_10PyIzL",
    "papermill": {
     "duration": 0.038242,
     "end_time": "2022-11-19T13:23:39.749588",
     "exception": false,
     "start_time": "2022-11-19T13:23:39.711346",
     "status": "completed"
    },
    "tags": []
   },
   "source": [
    "# Grouped Bar Charts: Free vs. Paid Apps per Category"
   ]
  },
  {
   "cell_type": "markdown",
   "id": "18ae87ae",
   "metadata": {
    "papermill": {
     "duration": 0.036772,
     "end_time": "2022-11-19T13:23:39.824031",
     "exception": false,
     "start_time": "2022-11-19T13:23:39.787259",
     "status": "completed"
    },
    "tags": []
   },
   "source": [
    "Now that we’ve looked at the total number of apps per category and the total number of apps per genre, let’s see what the split is between free and paid apps."
   ]
  },
  {
   "cell_type": "code",
   "execution_count": 43,
   "id": "8add7dd2",
   "metadata": {
    "execution": {
     "iopub.execute_input": "2022-11-19T13:23:39.900553Z",
     "iopub.status.busy": "2022-11-19T13:23:39.898812Z",
     "iopub.status.idle": "2022-11-19T13:23:39.908034Z",
     "shell.execute_reply": "2022-11-19T13:23:39.907231Z"
    },
    "papermill": {
     "duration": 0.04939,
     "end_time": "2022-11-19T13:23:39.910210",
     "exception": false,
     "start_time": "2022-11-19T13:23:39.860820",
     "status": "completed"
    },
    "tags": []
   },
   "outputs": [
    {
     "data": {
      "text/plain": [
       "Free    7595\n",
       "Paid     589\n",
       "Name: Type, dtype: int64"
      ]
     },
     "execution_count": 43,
     "metadata": {},
     "output_type": "execute_result"
    }
   ],
   "source": [
    "df_apps_clean.Type.value_counts()"
   ]
  },
  {
   "cell_type": "markdown",
   "id": "5332e996",
   "metadata": {
    "papermill": {
     "duration": 0.036177,
     "end_time": "2022-11-19T13:23:39.983796",
     "exception": false,
     "start_time": "2022-11-19T13:23:39.947619",
     "status": "completed"
    },
    "tags": []
   },
   "source": [
    "We see that the majority of apps are free on the Google Play Store. But perhaps some categories have more paid apps than others. Let’s investigate. We can group our data first by Category and then by Type. Then we can add up the number of apps per each type. Using `as_index=False` we push all the data into columns rather than end up with our Categories as the index."
   ]
  },
  {
   "cell_type": "code",
   "execution_count": 44,
   "id": "351362a4",
   "metadata": {
    "execution": {
     "iopub.execute_input": "2022-11-19T13:23:40.058465Z",
     "iopub.status.busy": "2022-11-19T13:23:40.058055Z",
     "iopub.status.idle": "2022-11-19T13:23:40.078025Z",
     "shell.execute_reply": "2022-11-19T13:23:40.077196Z"
    },
    "id": "ANMs7xywolDH",
    "papermill": {
     "duration": 0.060052,
     "end_time": "2022-11-19T13:23:40.080257",
     "exception": false,
     "start_time": "2022-11-19T13:23:40.020205",
     "status": "completed"
    },
    "tags": []
   },
   "outputs": [
    {
     "data": {
      "text/html": [
       "<div>\n",
       "<style scoped>\n",
       "    .dataframe tbody tr th:only-of-type {\n",
       "        vertical-align: middle;\n",
       "    }\n",
       "\n",
       "    .dataframe tbody tr th {\n",
       "        vertical-align: top;\n",
       "    }\n",
       "\n",
       "    .dataframe thead th {\n",
       "        text-align: right;\n",
       "    }\n",
       "</style>\n",
       "<table border=\"1\" class=\"dataframe\">\n",
       "  <thead>\n",
       "    <tr style=\"text-align: right;\">\n",
       "      <th></th>\n",
       "      <th>Category</th>\n",
       "      <th>Type</th>\n",
       "      <th>App</th>\n",
       "    </tr>\n",
       "  </thead>\n",
       "  <tbody>\n",
       "    <tr>\n",
       "      <th>0</th>\n",
       "      <td>ART_AND_DESIGN</td>\n",
       "      <td>Free</td>\n",
       "      <td>58</td>\n",
       "    </tr>\n",
       "    <tr>\n",
       "      <th>1</th>\n",
       "      <td>ART_AND_DESIGN</td>\n",
       "      <td>Paid</td>\n",
       "      <td>3</td>\n",
       "    </tr>\n",
       "    <tr>\n",
       "      <th>2</th>\n",
       "      <td>AUTO_AND_VEHICLES</td>\n",
       "      <td>Free</td>\n",
       "      <td>72</td>\n",
       "    </tr>\n",
       "    <tr>\n",
       "      <th>3</th>\n",
       "      <td>AUTO_AND_VEHICLES</td>\n",
       "      <td>Paid</td>\n",
       "      <td>1</td>\n",
       "    </tr>\n",
       "    <tr>\n",
       "      <th>4</th>\n",
       "      <td>BEAUTY</td>\n",
       "      <td>Free</td>\n",
       "      <td>42</td>\n",
       "    </tr>\n",
       "  </tbody>\n",
       "</table>\n",
       "</div>"
      ],
      "text/plain": [
       "            Category  Type  App\n",
       "0     ART_AND_DESIGN  Free   58\n",
       "1     ART_AND_DESIGN  Paid    3\n",
       "2  AUTO_AND_VEHICLES  Free   72\n",
       "3  AUTO_AND_VEHICLES  Paid    1\n",
       "4             BEAUTY  Free   42"
      ]
     },
     "execution_count": 44,
     "metadata": {},
     "output_type": "execute_result"
    }
   ],
   "source": [
    "df_free_vs_paid = df_apps_clean.groupby([\"Category\", \"Type\"], as_index=False).agg({'App': pd.Series.count})\n",
    "df_free_vs_paid.head()"
   ]
  },
  {
   "cell_type": "markdown",
   "id": "f1a4bb75",
   "metadata": {
    "papermill": {
     "duration": 0.036764,
     "end_time": "2022-11-19T13:23:40.154748",
     "exception": false,
     "start_time": "2022-11-19T13:23:40.117984",
     "status": "completed"
    },
    "tags": []
   },
   "source": [
    "Unsurprisingly the biggest categories have the most paid apps. However, there might be some patterns if we put the numbers of a graph!"
   ]
  },
  {
   "cell_type": "markdown",
   "id": "db4182de",
   "metadata": {
    "id": "wmRXm0TW1e_Z",
    "papermill": {
     "duration": 0.03786,
     "end_time": "2022-11-19T13:23:40.229341",
     "exception": false,
     "start_time": "2022-11-19T13:23:40.191481",
     "status": "completed"
    },
    "tags": []
   },
   "source": [
    "**Challenge**: Use the plotly express bar [chart examples](https://plotly.com/python/bar-charts/#bar-chart-with-sorted-or-ordered-categories) and the [.bar() API reference](https://plotly.com/python-api-reference/generated/plotly.express.bar.html#plotly.express.bar) to create this bar chart: \n",
    "\n",
    "<img src=https://imgur.com/LE0XCxA.png>\n",
    "\n",
    "You'll want to use the `df_free_vs_paid` DataFrame that you created above that has the total number of free and paid apps per category. \n",
    "\n",
    "See if you can figure out how to get the look above by changing the `categoryorder` to 'total descending' as outlined in the documentation here [here](https://plotly.com/python/categorical-axes/#automatically-sorting-categories-by-name-or-total-value). "
   ]
  },
  {
   "cell_type": "markdown",
   "id": "77066eb1",
   "metadata": {
    "papermill": {
     "duration": 0.036338,
     "end_time": "2022-11-19T13:23:40.302307",
     "exception": false,
     "start_time": "2022-11-19T13:23:40.265969",
     "status": "completed"
    },
    "tags": []
   },
   "source": [
    "The key is using the `color` and `barmode` parameters for the .bar() method. To get a particular order, you can pass a dictionary to the axis parameter in `.update_layout()`."
   ]
  },
  {
   "cell_type": "code",
   "execution_count": 45,
   "id": "7971af09",
   "metadata": {
    "execution": {
     "iopub.execute_input": "2022-11-19T13:23:40.380743Z",
     "iopub.status.busy": "2022-11-19T13:23:40.380101Z",
     "iopub.status.idle": "2022-11-19T13:23:40.456999Z",
     "shell.execute_reply": "2022-11-19T13:23:40.455862Z"
    },
    "id": "tqOntrS7onGt",
    "papermill": {
     "duration": 0.119687,
     "end_time": "2022-11-19T13:23:40.459703",
     "exception": false,
     "start_time": "2022-11-19T13:23:40.340016",
     "status": "completed"
    },
    "tags": []
   },
   "outputs": [
    {
     "data": {
      "text/html": [
       "<div>                            <div id=\"1153ef46-9c6b-40e6-9c9c-e5765cd208da\" class=\"plotly-graph-div\" style=\"height:525px; width:100%;\"></div>            <script type=\"text/javascript\">                require([\"plotly\"], function(Plotly) {                    window.PLOTLYENV=window.PLOTLYENV || {};                                    if (document.getElementById(\"1153ef46-9c6b-40e6-9c9c-e5765cd208da\")) {                    Plotly.newPlot(                        \"1153ef46-9c6b-40e6-9c9c-e5765cd208da\",                        [{\"alignmentgroup\":\"True\",\"hovertemplate\":\"Type=Free<br>Category=%{x}<br>App=%{y}<extra></extra>\",\"legendgroup\":\"Free\",\"marker\":{\"color\":\"#636efa\",\"pattern\":{\"shape\":\"\"}},\"name\":\"Free\",\"offsetgroup\":\"Free\",\"orientation\":\"v\",\"showlegend\":true,\"textposition\":\"auto\",\"x\":[\"ART_AND_DESIGN\",\"AUTO_AND_VEHICLES\",\"BEAUTY\",\"BOOKS_AND_REFERENCE\",\"BUSINESS\",\"COMICS\",\"COMMUNICATION\",\"DATING\",\"EDUCATION\",\"ENTERTAINMENT\",\"EVENTS\",\"FAMILY\",\"FINANCE\",\"FOOD_AND_DRINK\",\"GAME\",\"HEALTH_AND_FITNESS\",\"HOUSE_AND_HOME\",\"LIBRARIES_AND_DEMO\",\"LIFESTYLE\",\"MAPS_AND_NAVIGATION\",\"MEDICAL\",\"NEWS_AND_MAGAZINES\",\"PARENTING\",\"PERSONALIZATION\",\"PHOTOGRAPHY\",\"PRODUCTIVITY\",\"SHOPPING\",\"SOCIAL\",\"SPORTS\",\"TOOLS\",\"TRAVEL_AND_LOCAL\",\"VIDEO_PLAYERS\",\"WEATHER\"],\"xaxis\":\"x\",\"y\":[58,72,42,161,253,54,235,131,114,100,45,1456,289,92,834,232,62,64,284,113,229,202,48,233,248,283,178,201,238,656,179,144,65],\"yaxis\":\"y\",\"type\":\"bar\"},{\"alignmentgroup\":\"True\",\"hovertemplate\":\"Type=Paid<br>Category=%{x}<br>App=%{y}<extra></extra>\",\"legendgroup\":\"Paid\",\"marker\":{\"color\":\"#EF553B\",\"pattern\":{\"shape\":\"\"}},\"name\":\"Paid\",\"offsetgroup\":\"Paid\",\"orientation\":\"v\",\"showlegend\":true,\"textposition\":\"auto\",\"x\":[\"ART_AND_DESIGN\",\"AUTO_AND_VEHICLES\",\"BOOKS_AND_REFERENCE\",\"BUSINESS\",\"COMMUNICATION\",\"DATING\",\"EDUCATION\",\"ENTERTAINMENT\",\"FAMILY\",\"FINANCE\",\"FOOD_AND_DRINK\",\"GAME\",\"HEALTH_AND_FITNESS\",\"LIFESTYLE\",\"MAPS_AND_NAVIGATION\",\"MEDICAL\",\"NEWS_AND_MAGAZINES\",\"PARENTING\",\"PERSONALIZATION\",\"PHOTOGRAPHY\",\"PRODUCTIVITY\",\"SHOPPING\",\"SOCIAL\",\"SPORTS\",\"TOOLS\",\"TRAVEL_AND_LOCAL\",\"VIDEO_PLAYERS\",\"WEATHER\"],\"xaxis\":\"x\",\"y\":[3,1,8,9,22,3,4,2,150,7,2,76,11,13,5,63,2,2,65,15,18,2,2,22,63,8,4,7],\"yaxis\":\"y\",\"type\":\"bar\"}],                        {\"template\":{\"data\":{\"histogram2dcontour\":[{\"type\":\"histogram2dcontour\",\"colorbar\":{\"outlinewidth\":0,\"ticks\":\"\"},\"colorscale\":[[0.0,\"#0d0887\"],[0.1111111111111111,\"#46039f\"],[0.2222222222222222,\"#7201a8\"],[0.3333333333333333,\"#9c179e\"],[0.4444444444444444,\"#bd3786\"],[0.5555555555555556,\"#d8576b\"],[0.6666666666666666,\"#ed7953\"],[0.7777777777777778,\"#fb9f3a\"],[0.8888888888888888,\"#fdca26\"],[1.0,\"#f0f921\"]]}],\"choropleth\":[{\"type\":\"choropleth\",\"colorbar\":{\"outlinewidth\":0,\"ticks\":\"\"}}],\"histogram2d\":[{\"type\":\"histogram2d\",\"colorbar\":{\"outlinewidth\":0,\"ticks\":\"\"},\"colorscale\":[[0.0,\"#0d0887\"],[0.1111111111111111,\"#46039f\"],[0.2222222222222222,\"#7201a8\"],[0.3333333333333333,\"#9c179e\"],[0.4444444444444444,\"#bd3786\"],[0.5555555555555556,\"#d8576b\"],[0.6666666666666666,\"#ed7953\"],[0.7777777777777778,\"#fb9f3a\"],[0.8888888888888888,\"#fdca26\"],[1.0,\"#f0f921\"]]}],\"heatmap\":[{\"type\":\"heatmap\",\"colorbar\":{\"outlinewidth\":0,\"ticks\":\"\"},\"colorscale\":[[0.0,\"#0d0887\"],[0.1111111111111111,\"#46039f\"],[0.2222222222222222,\"#7201a8\"],[0.3333333333333333,\"#9c179e\"],[0.4444444444444444,\"#bd3786\"],[0.5555555555555556,\"#d8576b\"],[0.6666666666666666,\"#ed7953\"],[0.7777777777777778,\"#fb9f3a\"],[0.8888888888888888,\"#fdca26\"],[1.0,\"#f0f921\"]]}],\"heatmapgl\":[{\"type\":\"heatmapgl\",\"colorbar\":{\"outlinewidth\":0,\"ticks\":\"\"},\"colorscale\":[[0.0,\"#0d0887\"],[0.1111111111111111,\"#46039f\"],[0.2222222222222222,\"#7201a8\"],[0.3333333333333333,\"#9c179e\"],[0.4444444444444444,\"#bd3786\"],[0.5555555555555556,\"#d8576b\"],[0.6666666666666666,\"#ed7953\"],[0.7777777777777778,\"#fb9f3a\"],[0.8888888888888888,\"#fdca26\"],[1.0,\"#f0f921\"]]}],\"contourcarpet\":[{\"type\":\"contourcarpet\",\"colorbar\":{\"outlinewidth\":0,\"ticks\":\"\"}}],\"contour\":[{\"type\":\"contour\",\"colorbar\":{\"outlinewidth\":0,\"ticks\":\"\"},\"colorscale\":[[0.0,\"#0d0887\"],[0.1111111111111111,\"#46039f\"],[0.2222222222222222,\"#7201a8\"],[0.3333333333333333,\"#9c179e\"],[0.4444444444444444,\"#bd3786\"],[0.5555555555555556,\"#d8576b\"],[0.6666666666666666,\"#ed7953\"],[0.7777777777777778,\"#fb9f3a\"],[0.8888888888888888,\"#fdca26\"],[1.0,\"#f0f921\"]]}],\"surface\":[{\"type\":\"surface\",\"colorbar\":{\"outlinewidth\":0,\"ticks\":\"\"},\"colorscale\":[[0.0,\"#0d0887\"],[0.1111111111111111,\"#46039f\"],[0.2222222222222222,\"#7201a8\"],[0.3333333333333333,\"#9c179e\"],[0.4444444444444444,\"#bd3786\"],[0.5555555555555556,\"#d8576b\"],[0.6666666666666666,\"#ed7953\"],[0.7777777777777778,\"#fb9f3a\"],[0.8888888888888888,\"#fdca26\"],[1.0,\"#f0f921\"]]}],\"mesh3d\":[{\"type\":\"mesh3d\",\"colorbar\":{\"outlinewidth\":0,\"ticks\":\"\"}}],\"scatter\":[{\"fillpattern\":{\"fillmode\":\"overlay\",\"size\":10,\"solidity\":0.2},\"type\":\"scatter\"}],\"parcoords\":[{\"type\":\"parcoords\",\"line\":{\"colorbar\":{\"outlinewidth\":0,\"ticks\":\"\"}}}],\"scatterpolargl\":[{\"type\":\"scatterpolargl\",\"marker\":{\"colorbar\":{\"outlinewidth\":0,\"ticks\":\"\"}}}],\"bar\":[{\"error_x\":{\"color\":\"#2a3f5f\"},\"error_y\":{\"color\":\"#2a3f5f\"},\"marker\":{\"line\":{\"color\":\"#E5ECF6\",\"width\":0.5},\"pattern\":{\"fillmode\":\"overlay\",\"size\":10,\"solidity\":0.2}},\"type\":\"bar\"}],\"scattergeo\":[{\"type\":\"scattergeo\",\"marker\":{\"colorbar\":{\"outlinewidth\":0,\"ticks\":\"\"}}}],\"scatterpolar\":[{\"type\":\"scatterpolar\",\"marker\":{\"colorbar\":{\"outlinewidth\":0,\"ticks\":\"\"}}}],\"histogram\":[{\"marker\":{\"pattern\":{\"fillmode\":\"overlay\",\"size\":10,\"solidity\":0.2}},\"type\":\"histogram\"}],\"scattergl\":[{\"type\":\"scattergl\",\"marker\":{\"colorbar\":{\"outlinewidth\":0,\"ticks\":\"\"}}}],\"scatter3d\":[{\"type\":\"scatter3d\",\"line\":{\"colorbar\":{\"outlinewidth\":0,\"ticks\":\"\"}},\"marker\":{\"colorbar\":{\"outlinewidth\":0,\"ticks\":\"\"}}}],\"scattermapbox\":[{\"type\":\"scattermapbox\",\"marker\":{\"colorbar\":{\"outlinewidth\":0,\"ticks\":\"\"}}}],\"scatterternary\":[{\"type\":\"scatterternary\",\"marker\":{\"colorbar\":{\"outlinewidth\":0,\"ticks\":\"\"}}}],\"scattercarpet\":[{\"type\":\"scattercarpet\",\"marker\":{\"colorbar\":{\"outlinewidth\":0,\"ticks\":\"\"}}}],\"carpet\":[{\"aaxis\":{\"endlinecolor\":\"#2a3f5f\",\"gridcolor\":\"white\",\"linecolor\":\"white\",\"minorgridcolor\":\"white\",\"startlinecolor\":\"#2a3f5f\"},\"baxis\":{\"endlinecolor\":\"#2a3f5f\",\"gridcolor\":\"white\",\"linecolor\":\"white\",\"minorgridcolor\":\"white\",\"startlinecolor\":\"#2a3f5f\"},\"type\":\"carpet\"}],\"table\":[{\"cells\":{\"fill\":{\"color\":\"#EBF0F8\"},\"line\":{\"color\":\"white\"}},\"header\":{\"fill\":{\"color\":\"#C8D4E3\"},\"line\":{\"color\":\"white\"}},\"type\":\"table\"}],\"barpolar\":[{\"marker\":{\"line\":{\"color\":\"#E5ECF6\",\"width\":0.5},\"pattern\":{\"fillmode\":\"overlay\",\"size\":10,\"solidity\":0.2}},\"type\":\"barpolar\"}],\"pie\":[{\"automargin\":true,\"type\":\"pie\"}]},\"layout\":{\"autotypenumbers\":\"strict\",\"colorway\":[\"#636efa\",\"#EF553B\",\"#00cc96\",\"#ab63fa\",\"#FFA15A\",\"#19d3f3\",\"#FF6692\",\"#B6E880\",\"#FF97FF\",\"#FECB52\"],\"font\":{\"color\":\"#2a3f5f\"},\"hovermode\":\"closest\",\"hoverlabel\":{\"align\":\"left\"},\"paper_bgcolor\":\"white\",\"plot_bgcolor\":\"#E5ECF6\",\"polar\":{\"bgcolor\":\"#E5ECF6\",\"angularaxis\":{\"gridcolor\":\"white\",\"linecolor\":\"white\",\"ticks\":\"\"},\"radialaxis\":{\"gridcolor\":\"white\",\"linecolor\":\"white\",\"ticks\":\"\"}},\"ternary\":{\"bgcolor\":\"#E5ECF6\",\"aaxis\":{\"gridcolor\":\"white\",\"linecolor\":\"white\",\"ticks\":\"\"},\"baxis\":{\"gridcolor\":\"white\",\"linecolor\":\"white\",\"ticks\":\"\"},\"caxis\":{\"gridcolor\":\"white\",\"linecolor\":\"white\",\"ticks\":\"\"}},\"coloraxis\":{\"colorbar\":{\"outlinewidth\":0,\"ticks\":\"\"}},\"colorscale\":{\"sequential\":[[0.0,\"#0d0887\"],[0.1111111111111111,\"#46039f\"],[0.2222222222222222,\"#7201a8\"],[0.3333333333333333,\"#9c179e\"],[0.4444444444444444,\"#bd3786\"],[0.5555555555555556,\"#d8576b\"],[0.6666666666666666,\"#ed7953\"],[0.7777777777777778,\"#fb9f3a\"],[0.8888888888888888,\"#fdca26\"],[1.0,\"#f0f921\"]],\"sequentialminus\":[[0.0,\"#0d0887\"],[0.1111111111111111,\"#46039f\"],[0.2222222222222222,\"#7201a8\"],[0.3333333333333333,\"#9c179e\"],[0.4444444444444444,\"#bd3786\"],[0.5555555555555556,\"#d8576b\"],[0.6666666666666666,\"#ed7953\"],[0.7777777777777778,\"#fb9f3a\"],[0.8888888888888888,\"#fdca26\"],[1.0,\"#f0f921\"]],\"diverging\":[[0,\"#8e0152\"],[0.1,\"#c51b7d\"],[0.2,\"#de77ae\"],[0.3,\"#f1b6da\"],[0.4,\"#fde0ef\"],[0.5,\"#f7f7f7\"],[0.6,\"#e6f5d0\"],[0.7,\"#b8e186\"],[0.8,\"#7fbc41\"],[0.9,\"#4d9221\"],[1,\"#276419\"]]},\"xaxis\":{\"gridcolor\":\"white\",\"linecolor\":\"white\",\"ticks\":\"\",\"title\":{\"standoff\":15},\"zerolinecolor\":\"white\",\"automargin\":true,\"zerolinewidth\":2},\"yaxis\":{\"gridcolor\":\"white\",\"linecolor\":\"white\",\"ticks\":\"\",\"title\":{\"standoff\":15},\"zerolinecolor\":\"white\",\"automargin\":true,\"zerolinewidth\":2},\"scene\":{\"xaxis\":{\"backgroundcolor\":\"#E5ECF6\",\"gridcolor\":\"white\",\"linecolor\":\"white\",\"showbackground\":true,\"ticks\":\"\",\"zerolinecolor\":\"white\",\"gridwidth\":2},\"yaxis\":{\"backgroundcolor\":\"#E5ECF6\",\"gridcolor\":\"white\",\"linecolor\":\"white\",\"showbackground\":true,\"ticks\":\"\",\"zerolinecolor\":\"white\",\"gridwidth\":2},\"zaxis\":{\"backgroundcolor\":\"#E5ECF6\",\"gridcolor\":\"white\",\"linecolor\":\"white\",\"showbackground\":true,\"ticks\":\"\",\"zerolinecolor\":\"white\",\"gridwidth\":2}},\"shapedefaults\":{\"line\":{\"color\":\"#2a3f5f\"}},\"annotationdefaults\":{\"arrowcolor\":\"#2a3f5f\",\"arrowhead\":0,\"arrowwidth\":1},\"geo\":{\"bgcolor\":\"white\",\"landcolor\":\"#E5ECF6\",\"subunitcolor\":\"white\",\"showland\":true,\"showlakes\":true,\"lakecolor\":\"white\"},\"title\":{\"x\":0.05},\"mapbox\":{\"style\":\"light\"}}},\"xaxis\":{\"anchor\":\"y\",\"domain\":[0.0,1.0],\"title\":{\"text\":\"Category\"},\"categoryorder\":\"total descending\"},\"yaxis\":{\"anchor\":\"x\",\"domain\":[0.0,1.0],\"title\":{\"text\":\"Number of Apps\"},\"type\":\"log\"},\"legend\":{\"title\":{\"text\":\"Type\"},\"tracegroupgap\":0},\"title\":{\"text\":\"Free vs Paid Apps by Category\"},\"barmode\":\"group\"},                        {\"responsive\": true}                    ).then(function(){\n",
       "                            \n",
       "var gd = document.getElementById('1153ef46-9c6b-40e6-9c9c-e5765cd208da');\n",
       "var x = new MutationObserver(function (mutations, observer) {{\n",
       "        var display = window.getComputedStyle(gd).display;\n",
       "        if (!display || display === 'none') {{\n",
       "            console.log([gd, 'removed!']);\n",
       "            Plotly.purge(gd);\n",
       "            observer.disconnect();\n",
       "        }}\n",
       "}});\n",
       "\n",
       "// Listen for the removal of the full notebook cells\n",
       "var notebookContainer = gd.closest('#notebook-container');\n",
       "if (notebookContainer) {{\n",
       "    x.observe(notebookContainer, {childList: true});\n",
       "}}\n",
       "\n",
       "// Listen for the clearing of the current output cell\n",
       "var outputEl = gd.closest('.output');\n",
       "if (outputEl) {{\n",
       "    x.observe(outputEl, {childList: true});\n",
       "}}\n",
       "\n",
       "                        })                };                });            </script>        </div>"
      ]
     },
     "metadata": {},
     "output_type": "display_data"
    }
   ],
   "source": [
    "g_bar = px.bar(df_free_vs_paid,\n",
    "               x='Category',\n",
    "               y='App',\n",
    "               title='Free vs Paid Apps by Category',\n",
    "               color='Type',\n",
    "               barmode='group')\n",
    " \n",
    "g_bar.update_layout(xaxis_title='Category',\n",
    "                    yaxis_title='Number of Apps',\n",
    "                    xaxis={'categoryorder':'total descending'},\n",
    "                    yaxis=dict(type='log'))\n",
    " \n",
    "g_bar.show()"
   ]
  },
  {
   "cell_type": "markdown",
   "id": "b453773c",
   "metadata": {
    "papermill": {
     "duration": 0.037857,
     "end_time": "2022-11-19T13:23:40.536350",
     "exception": false,
     "start_time": "2022-11-19T13:23:40.498493",
     "status": "completed"
    },
    "tags": []
   },
   "source": [
    "What we see is that while there are very few paid apps on the Google Play Store, some categories have relatively more paid apps than others, including Personalization, Medical and Weather. So, depending on the category you are targeting, it might make sense to release a paid-for app."
   ]
  },
  {
   "cell_type": "markdown",
   "id": "14cceae5",
   "metadata": {
    "papermill": {
     "duration": 0.036647,
     "end_time": "2022-11-19T13:23:40.610365",
     "exception": false,
     "start_time": "2022-11-19T13:23:40.573718",
     "status": "completed"
    },
    "tags": []
   },
   "source": [
    "But this leads to many more questions:\n",
    "\n",
    "* How much should you charge? What are other apps charging in that category?\n",
    "\n",
    "* How much revenue could you make?\n",
    "\n",
    "* And how many downloads are you potentially giving up because your app is paid?\n",
    "\n",
    "\n",
    "\n",
    "Let’s try and answer these questions with some Box plots. Box plots show us some handy descriptive statistics in a graph - things like the median value, the maximum value, the minimum value, and some quartiles. Here’s what we’re after:"
   ]
  },
  {
   "cell_type": "markdown",
   "id": "2023bf97",
   "metadata": {
    "id": "nbYh2tU-VZ-i",
    "papermill": {
     "duration": 0.03694,
     "end_time": "2022-11-19T13:23:40.684282",
     "exception": false,
     "start_time": "2022-11-19T13:23:40.647342",
     "status": "completed"
    },
    "tags": []
   },
   "source": [
    "# Plotly Box Plots: Lost Downloads for Paid Apps\n",
    "\n",
    "**Challenge**: Create a box plot that shows the number of Installs for free versus paid apps. How does the median number of installations compare? Is the difference large or small?\n",
    "\n",
    "Use the [Box Plots Guide](https://plotly.com/python/box-plots/) and the [.box API reference](https://plotly.com/python-api-reference/generated/plotly.express.box.html) to create the following chart. \n",
    "\n",
    "<img src=https://imgur.com/uVsECT3.png>\n"
   ]
  },
  {
   "cell_type": "markdown",
   "id": "405fc31d",
   "metadata": {
    "papermill": {
     "duration": 0.038054,
     "end_time": "2022-11-19T13:23:40.759639",
     "exception": false,
     "start_time": "2022-11-19T13:23:40.721585",
     "status": "completed"
    },
    "tags": []
   },
   "source": [
    "**Create Box Plots for the Number of Installs**\n",
    "\n",
    "From the hover text in the chart, we see that the median number of downloads for free apps is 500,000, while the median number of downloads for paid apps is around 5,000! This is massively lower."
   ]
  },
  {
   "cell_type": "code",
   "execution_count": 46,
   "id": "1c6b25b8",
   "metadata": {
    "execution": {
     "iopub.execute_input": "2022-11-19T13:23:40.837235Z",
     "iopub.status.busy": "2022-11-19T13:23:40.836434Z",
     "iopub.status.idle": "2022-11-19T13:23:40.959035Z",
     "shell.execute_reply": "2022-11-19T13:23:40.957732Z"
    },
    "id": "Jip3hMZ7oqLS",
    "papermill": {
     "duration": 0.166128,
     "end_time": "2022-11-19T13:23:40.963556",
     "exception": false,
     "start_time": "2022-11-19T13:23:40.797428",
     "status": "completed"
    },
    "tags": []
   },
   "outputs": [
    {
     "data": {
      "text/html": [
       "<div>                            <div id=\"f2beb570-dc7d-450f-8a60-a7c6ee3671c5\" class=\"plotly-graph-div\" style=\"height:525px; width:100%;\"></div>            <script type=\"text/javascript\">                require([\"plotly\"], function(Plotly) {                    window.PLOTLYENV=window.PLOTLYENV || {};                                    if (document.getElementById(\"f2beb570-dc7d-450f-8a60-a7c6ee3671c5\")) {                    Plotly.newPlot(                        \"f2beb570-dc7d-450f-8a60-a7c6ee3671c5\",                        [{\"alignmentgroup\":\"True\",\"boxpoints\":\"all\",\"hovertemplate\":\"Type=%{x}<br>Installs=%{y}<extra></extra>\",\"legendgroup\":\"Free\",\"marker\":{\"color\":\"#636efa\"},\"name\":\"Free\",\"notched\":true,\"offsetgroup\":\"Free\",\"orientation\":\"v\",\"showlegend\":true,\"x\":[\"Free\",\"Free\",\"Free\",\"Free\",\"Free\",\"Free\",\"Free\",\"Free\",\"Free\",\"Free\",\"Free\",\"Free\",\"Free\",\"Free\",\"Free\",\"Free\",\"Free\",\"Free\",\"Free\",\"Free\",\"Free\",\"Free\",\"Free\",\"Free\",\"Free\",\"Free\",\"Free\",\"Free\",\"Free\",\"Free\",\"Free\",\"Free\",\"Free\",\"Free\",\"Free\",\"Free\",\"Free\",\"Free\",\"Free\",\"Free\",\"Free\",\"Free\",\"Free\",\"Free\",\"Free\",\"Free\",\"Free\",\"Free\",\"Free\",\"Free\",\"Free\",\"Free\",\"Free\",\"Free\",\"Free\",\"Free\",\"Free\",\"Free\",\"Free\",\"Free\",\"Free\",\"Free\",\"Free\",\"Free\",\"Free\",\"Free\",\"Free\",\"Free\",\"Free\",\"Free\",\"Free\",\"Free\",\"Free\",\"Free\",\"Free\",\"Free\",\"Free\",\"Free\",\"Free\",\"Free\",\"Free\",\"Free\",\"Free\",\"Free\",\"Free\",\"Free\",\"Free\",\"Free\",\"Free\",\"Free\",\"Free\",\"Free\",\"Free\",\"Free\",\"Free\",\"Free\",\"Free\",\"Free\",\"Free\",\"Free\",\"Free\",\"Free\",\"Free\",\"Free\",\"Free\",\"Free\",\"Free\",\"Free\",\"Free\",\"Free\",\"Free\",\"Free\",\"Free\",\"Free\",\"Free\",\"Free\",\"Free\",\"Free\",\"Free\",\"Free\",\"Free\",\"Free\",\"Free\",\"Free\",\"Free\",\"Free\",\"Free\",\"Free\",\"Free\",\"Free\",\"Free\",\"Free\",\"Free\",\"Free\",\"Free\",\"Free\",\"Free\",\"Free\",\"Free\",\"Free\",\"Free\",\"Free\",\"Free\",\"Free\",\"Free\",\"Free\",\"Free\",\"Free\",\"Free\",\"Free\",\"Free\",\"Free\",\"Free\",\"Free\",\"Free\",\"Free\",\"Free\",\"Free\",\"Free\",\"Free\",\"Free\",\"Free\",\"Free\",\"Free\",\"Free\",\"Free\",\"Free\",\"Free\",\"Free\",\"Free\",\"Free\",\"Free\",\"Free\",\"Free\",\"Free\",\"Free\",\"Free\",\"Free\",\"Free\",\"Free\",\"Free\",\"Free\",\"Free\",\"Free\",\"Free\",\"Free\",\"Free\",\"Free\",\"Free\",\"Free\",\"Free\",\"Free\",\"Free\",\"Free\",\"Free\",\"Free\",\"Free\",\"Free\",\"Free\",\"Free\",\"Free\",\"Free\",\"Free\",\"Free\",\"Free\",\"Free\",\"Free\",\"Free\",\"Free\",\"Free\",\"Free\",\"Free\",\"Free\",\"Free\",\"Free\",\"Free\",\"Free\",\"Free\",\"Free\",\"Free\",\"Free\",\"Free\",\"Free\",\"Free\",\"Free\",\"Free\",\"Free\",\"Free\",\"Free\",\"Free\",\"Free\",\"Free\",\"Free\",\"Free\",\"Free\",\"Free\",\"Free\",\"Free\",\"Free\",\"Free\",\"Free\",\"Free\",\"Free\",\"Free\",\"Free\",\"Free\",\"Free\",\"Free\",\"Free\",\"Free\",\"Free\",\"Free\",\"Free\",\"Free\",\"Free\",\"Free\",\"Free\",\"Free\",\"Free\",\"Free\",\"Free\",\"Free\",\"Free\",\"Free\",\"Free\",\"Free\",\"Free\",\"Free\",\"Free\",\"Free\",\"Free\",\"Free\",\"Free\",\"Free\",\"Free\",\"Free\",\"Free\",\"Free\",\"Free\",\"Free\",\"Free\",\"Free\",\"Free\",\"Free\",\"Free\",\"Free\",\"Free\",\"Free\",\"Free\",\"Free\",\"Free\",\"Free\",\"Free\",\"Free\",\"Free\",\"Free\",\"Free\",\"Free\",\"Free\",\"Free\",\"Free\",\"Free\",\"Free\",\"Free\",\"Free\",\"Free\",\"Free\",\"Free\",\"Free\",\"Free\",\"Free\",\"Free\",\"Free\",\"Free\",\"Free\",\"Free\",\"Free\",\"Free\",\"Free\",\"Free\",\"Free\",\"Free\",\"Free\",\"Free\",\"Free\",\"Free\",\"Free\",\"Free\",\"Free\",\"Free\",\"Free\",\"Free\",\"Free\",\"Free\",\"Free\",\"Free\",\"Free\",\"Free\",\"Free\",\"Free\",\"Free\",\"Free\",\"Free\",\"Free\",\"Free\",\"Free\",\"Free\",\"Free\",\"Free\",\"Free\",\"Free\",\"Free\",\"Free\",\"Free\",\"Free\",\"Free\",\"Free\",\"Free\",\"Free\",\"Free\",\"Free\",\"Free\",\"Free\",\"Free\",\"Free\",\"Free\",\"Free\",\"Free\",\"Free\",\"Free\",\"Free\",\"Free\",\"Free\",\"Free\",\"Free\",\"Free\",\"Free\",\"Free\",\"Free\",\"Free\",\"Free\",\"Free\",\"Free\",\"Free\",\"Free\",\"Free\",\"Free\",\"Free\",\"Free\",\"Free\",\"Free\",\"Free\",\"Free\",\"Free\",\"Free\",\"Free\",\"Free\",\"Free\",\"Free\",\"Free\",\"Free\",\"Free\",\"Free\",\"Free\",\"Free\",\"Free\",\"Free\",\"Free\",\"Free\",\"Free\",\"Free\",\"Free\",\"Free\",\"Free\",\"Free\",\"Free\",\"Free\",\"Free\",\"Free\",\"Free\",\"Free\",\"Free\",\"Free\",\"Free\",\"Free\",\"Free\",\"Free\",\"Free\",\"Free\",\"Free\",\"Free\",\"Free\",\"Free\",\"Free\",\"Free\",\"Free\",\"Free\",\"Free\",\"Free\",\"Free\",\"Free\",\"Free\",\"Free\",\"Free\",\"Free\",\"Free\",\"Free\",\"Free\",\"Free\",\"Free\",\"Free\",\"Free\",\"Free\",\"Free\",\"Free\",\"Free\",\"Free\",\"Free\",\"Free\",\"Free\",\"Free\",\"Free\",\"Free\",\"Free\",\"Free\",\"Free\",\"Free\",\"Free\",\"Free\",\"Free\",\"Free\",\"Free\",\"Free\",\"Free\",\"Free\",\"Free\",\"Free\",\"Free\",\"Free\",\"Free\",\"Free\",\"Free\",\"Free\",\"Free\",\"Free\",\"Free\",\"Free\",\"Free\",\"Free\",\"Free\",\"Free\",\"Free\",\"Free\",\"Free\",\"Free\",\"Free\",\"Free\",\"Free\",\"Free\",\"Free\",\"Free\",\"Free\",\"Free\",\"Free\",\"Free\",\"Free\",\"Free\",\"Free\",\"Free\",\"Free\",\"Free\",\"Free\",\"Free\",\"Free\",\"Free\",\"Free\",\"Free\",\"Free\",\"Free\",\"Free\",\"Free\",\"Free\",\"Free\",\"Free\",\"Free\",\"Free\",\"Free\",\"Free\",\"Free\",\"Free\",\"Free\",\"Free\",\"Free\",\"Free\",\"Free\",\"Free\",\"Free\",\"Free\",\"Free\",\"Free\",\"Free\",\"Free\",\"Free\",\"Free\",\"Free\",\"Free\",\"Free\",\"Free\",\"Free\",\"Free\",\"Free\",\"Free\",\"Free\",\"Free\",\"Free\",\"Free\",\"Free\",\"Free\",\"Free\",\"Free\",\"Free\",\"Free\",\"Free\",\"Free\",\"Free\",\"Free\",\"Free\",\"Free\",\"Free\",\"Free\",\"Free\",\"Free\",\"Free\",\"Free\",\"Free\",\"Free\",\"Free\",\"Free\",\"Free\",\"Free\",\"Free\",\"Free\",\"Free\",\"Free\",\"Free\",\"Free\",\"Free\",\"Free\",\"Free\",\"Free\",\"Free\",\"Free\",\"Free\",\"Free\",\"Free\",\"Free\",\"Free\",\"Free\",\"Free\",\"Free\",\"Free\",\"Free\",\"Free\",\"Free\",\"Free\",\"Free\",\"Free\",\"Free\",\"Free\",\"Free\",\"Free\",\"Free\",\"Free\",\"Free\",\"Free\",\"Free\",\"Free\",\"Free\",\"Free\",\"Free\",\"Free\",\"Free\",\"Free\",\"Free\",\"Free\",\"Free\",\"Free\",\"Free\",\"Free\",\"Free\",\"Free\",\"Free\",\"Free\",\"Free\",\"Free\",\"Free\",\"Free\",\"Free\",\"Free\",\"Free\",\"Free\",\"Free\",\"Free\",\"Free\",\"Free\",\"Free\",\"Free\",\"Free\",\"Free\",\"Free\",\"Free\",\"Free\",\"Free\",\"Free\",\"Free\",\"Free\",\"Free\",\"Free\",\"Free\",\"Free\",\"Free\",\"Free\",\"Free\",\"Free\",\"Free\",\"Free\",\"Free\",\"Free\",\"Free\",\"Free\",\"Free\",\"Free\",\"Free\",\"Free\",\"Free\",\"Free\",\"Free\",\"Free\",\"Free\",\"Free\",\"Free\",\"Free\",\"Free\",\"Free\",\"Free\",\"Free\",\"Free\",\"Free\",\"Free\",\"Free\",\"Free\",\"Free\",\"Free\",\"Free\",\"Free\",\"Free\",\"Free\",\"Free\",\"Free\",\"Free\",\"Free\",\"Free\",\"Free\",\"Free\",\"Free\",\"Free\",\"Free\",\"Free\",\"Free\",\"Free\",\"Free\",\"Free\",\"Free\",\"Free\",\"Free\",\"Free\",\"Free\",\"Free\",\"Free\",\"Free\",\"Free\",\"Free\",\"Free\",\"Free\",\"Free\",\"Free\",\"Free\",\"Free\",\"Free\",\"Free\",\"Free\",\"Free\",\"Free\",\"Free\",\"Free\",\"Free\",\"Free\",\"Free\",\"Free\",\"Free\",\"Free\",\"Free\",\"Free\",\"Free\",\"Free\",\"Free\",\"Free\",\"Free\",\"Free\",\"Free\",\"Free\",\"Free\",\"Free\",\"Free\",\"Free\",\"Free\",\"Free\",\"Free\",\"Free\",\"Free\",\"Free\",\"Free\",\"Free\",\"Free\",\"Free\",\"Free\",\"Free\",\"Free\",\"Free\",\"Free\",\"Free\",\"Free\",\"Free\",\"Free\",\"Free\",\"Free\",\"Free\",\"Free\",\"Free\",\"Free\",\"Free\",\"Free\",\"Free\",\"Free\",\"Free\",\"Free\",\"Free\",\"Free\",\"Free\",\"Free\",\"Free\",\"Free\",\"Free\",\"Free\",\"Free\",\"Free\",\"Free\",\"Free\",\"Free\",\"Free\",\"Free\",\"Free\",\"Free\",\"Free\",\"Free\",\"Free\",\"Free\",\"Free\",\"Free\",\"Free\",\"Free\",\"Free\",\"Free\",\"Free\",\"Free\",\"Free\",\"Free\",\"Free\",\"Free\",\"Free\",\"Free\",\"Free\",\"Free\",\"Free\",\"Free\",\"Free\",\"Free\",\"Free\",\"Free\",\"Free\",\"Free\",\"Free\",\"Free\",\"Free\",\"Free\",\"Free\",\"Free\",\"Free\",\"Free\",\"Free\",\"Free\",\"Free\",\"Free\",\"Free\",\"Free\",\"Free\",\"Free\",\"Free\",\"Free\",\"Free\",\"Free\",\"Free\",\"Free\",\"Free\",\"Free\",\"Free\",\"Free\",\"Free\",\"Free\",\"Free\",\"Free\",\"Free\",\"Free\",\"Free\",\"Free\",\"Free\",\"Free\",\"Free\",\"Free\",\"Free\",\"Free\",\"Free\",\"Free\",\"Free\",\"Free\",\"Free\",\"Free\",\"Free\",\"Free\",\"Free\",\"Free\",\"Free\",\"Free\",\"Free\",\"Free\",\"Free\",\"Free\",\"Free\",\"Free\",\"Free\",\"Free\",\"Free\",\"Free\",\"Free\",\"Free\",\"Free\",\"Free\",\"Free\",\"Free\",\"Free\",\"Free\",\"Free\",\"Free\",\"Free\",\"Free\",\"Free\",\"Free\",\"Free\",\"Free\",\"Free\",\"Free\",\"Free\",\"Free\",\"Free\",\"Free\",\"Free\",\"Free\",\"Free\",\"Free\",\"Free\",\"Free\",\"Free\",\"Free\",\"Free\",\"Free\",\"Free\",\"Free\",\"Free\",\"Free\",\"Free\",\"Free\",\"Free\",\"Free\",\"Free\",\"Free\",\"Free\",\"Free\",\"Free\",\"Free\",\"Free\",\"Free\",\"Free\",\"Free\",\"Free\",\"Free\",\"Free\",\"Free\",\"Free\",\"Free\",\"Free\",\"Free\",\"Free\",\"Free\",\"Free\",\"Free\",\"Free\",\"Free\",\"Free\",\"Free\",\"Free\",\"Free\",\"Free\",\"Free\",\"Free\",\"Free\",\"Free\",\"Free\",\"Free\",\"Free\",\"Free\",\"Free\",\"Free\",\"Free\",\"Free\",\"Free\",\"Free\",\"Free\",\"Free\",\"Free\",\"Free\",\"Free\",\"Free\",\"Free\",\"Free\",\"Free\",\"Free\",\"Free\",\"Free\",\"Free\",\"Free\",\"Free\",\"Free\",\"Free\",\"Free\",\"Free\",\"Free\",\"Free\",\"Free\",\"Free\",\"Free\",\"Free\",\"Free\",\"Free\",\"Free\",\"Free\",\"Free\",\"Free\",\"Free\",\"Free\",\"Free\",\"Free\",\"Free\",\"Free\",\"Free\",\"Free\",\"Free\",\"Free\",\"Free\",\"Free\",\"Free\",\"Free\",\"Free\",\"Free\",\"Free\",\"Free\",\"Free\",\"Free\",\"Free\",\"Free\",\"Free\",\"Free\",\"Free\",\"Free\",\"Free\",\"Free\",\"Free\",\"Free\",\"Free\",\"Free\",\"Free\",\"Free\",\"Free\",\"Free\",\"Free\",\"Free\",\"Free\",\"Free\",\"Free\",\"Free\",\"Free\",\"Free\",\"Free\",\"Free\",\"Free\",\"Free\",\"Free\",\"Free\",\"Free\",\"Free\",\"Free\",\"Free\",\"Free\",\"Free\",\"Free\",\"Free\",\"Free\",\"Free\",\"Free\",\"Free\",\"Free\",\"Free\",\"Free\",\"Free\",\"Free\",\"Free\",\"Free\",\"Free\",\"Free\",\"Free\",\"Free\",\"Free\",\"Free\",\"Free\",\"Free\",\"Free\",\"Free\",\"Free\",\"Free\",\"Free\",\"Free\",\"Free\",\"Free\",\"Free\",\"Free\",\"Free\",\"Free\",\"Free\",\"Free\",\"Free\",\"Free\",\"Free\",\"Free\",\"Free\",\"Free\",\"Free\",\"Free\",\"Free\",\"Free\",\"Free\",\"Free\",\"Free\",\"Free\",\"Free\",\"Free\",\"Free\",\"Free\",\"Free\",\"Free\",\"Free\",\"Free\",\"Free\",\"Free\",\"Free\",\"Free\",\"Free\",\"Free\",\"Free\",\"Free\",\"Free\",\"Free\",\"Free\",\"Free\",\"Free\",\"Free\",\"Free\",\"Free\",\"Free\",\"Free\",\"Free\",\"Free\",\"Free\",\"Free\",\"Free\",\"Free\",\"Free\",\"Free\",\"Free\",\"Free\",\"Free\",\"Free\",\"Free\",\"Free\",\"Free\",\"Free\",\"Free\",\"Free\",\"Free\",\"Free\",\"Free\",\"Free\",\"Free\",\"Free\",\"Free\",\"Free\",\"Free\",\"Free\",\"Free\",\"Free\",\"Free\",\"Free\",\"Free\",\"Free\",\"Free\",\"Free\",\"Free\",\"Free\",\"Free\",\"Free\",\"Free\",\"Free\",\"Free\",\"Free\",\"Free\",\"Free\",\"Free\",\"Free\",\"Free\",\"Free\",\"Free\",\"Free\",\"Free\",\"Free\",\"Free\",\"Free\",\"Free\",\"Free\",\"Free\",\"Free\",\"Free\",\"Free\",\"Free\",\"Free\",\"Free\",\"Free\",\"Free\",\"Free\",\"Free\",\"Free\",\"Free\",\"Free\",\"Free\",\"Free\",\"Free\",\"Free\",\"Free\",\"Free\",\"Free\",\"Free\",\"Free\",\"Free\",\"Free\",\"Free\",\"Free\",\"Free\",\"Free\",\"Free\",\"Free\",\"Free\",\"Free\",\"Free\",\"Free\",\"Free\",\"Free\",\"Free\",\"Free\",\"Free\",\"Free\",\"Free\",\"Free\",\"Free\",\"Free\",\"Free\",\"Free\",\"Free\",\"Free\",\"Free\",\"Free\",\"Free\",\"Free\",\"Free\",\"Free\",\"Free\",\"Free\",\"Free\",\"Free\",\"Free\",\"Free\",\"Free\",\"Free\",\"Free\",\"Free\",\"Free\",\"Free\",\"Free\",\"Free\",\"Free\",\"Free\",\"Free\",\"Free\",\"Free\",\"Free\",\"Free\",\"Free\",\"Free\",\"Free\",\"Free\",\"Free\",\"Free\",\"Free\",\"Free\",\"Free\",\"Free\",\"Free\",\"Free\",\"Free\",\"Free\",\"Free\",\"Free\",\"Free\",\"Free\",\"Free\",\"Free\",\"Free\",\"Free\",\"Free\",\"Free\",\"Free\",\"Free\",\"Free\",\"Free\",\"Free\",\"Free\",\"Free\",\"Free\",\"Free\",\"Free\",\"Free\",\"Free\",\"Free\",\"Free\",\"Free\",\"Free\",\"Free\",\"Free\",\"Free\",\"Free\",\"Free\",\"Free\",\"Free\",\"Free\",\"Free\",\"Free\",\"Free\",\"Free\",\"Free\",\"Free\",\"Free\",\"Free\",\"Free\",\"Free\",\"Free\",\"Free\",\"Free\",\"Free\",\"Free\",\"Free\",\"Free\",\"Free\",\"Free\",\"Free\",\"Free\",\"Free\",\"Free\",\"Free\",\"Free\",\"Free\",\"Free\",\"Free\",\"Free\",\"Free\",\"Free\",\"Free\",\"Free\",\"Free\",\"Free\",\"Free\",\"Free\",\"Free\",\"Free\",\"Free\",\"Free\",\"Free\",\"Free\",\"Free\",\"Free\",\"Free\",\"Free\",\"Free\",\"Free\",\"Free\",\"Free\",\"Free\",\"Free\",\"Free\",\"Free\",\"Free\",\"Free\",\"Free\",\"Free\",\"Free\",\"Free\",\"Free\",\"Free\",\"Free\",\"Free\",\"Free\",\"Free\",\"Free\",\"Free\",\"Free\",\"Free\",\"Free\",\"Free\",\"Free\",\"Free\",\"Free\",\"Free\",\"Free\",\"Free\",\"Free\",\"Free\",\"Free\",\"Free\",\"Free\",\"Free\",\"Free\",\"Free\",\"Free\",\"Free\",\"Free\",\"Free\",\"Free\",\"Free\",\"Free\",\"Free\",\"Free\",\"Free\",\"Free\",\"Free\",\"Free\",\"Free\",\"Free\",\"Free\",\"Free\",\"Free\",\"Free\",\"Free\",\"Free\",\"Free\",\"Free\",\"Free\",\"Free\",\"Free\",\"Free\",\"Free\",\"Free\",\"Free\",\"Free\",\"Free\",\"Free\",\"Free\",\"Free\",\"Free\",\"Free\",\"Free\",\"Free\",\"Free\",\"Free\",\"Free\",\"Free\",\"Free\",\"Free\",\"Free\",\"Free\",\"Free\",\"Free\",\"Free\",\"Free\",\"Free\",\"Free\",\"Free\",\"Free\",\"Free\",\"Free\",\"Free\",\"Free\",\"Free\",\"Free\",\"Free\",\"Free\",\"Free\",\"Free\",\"Free\",\"Free\",\"Free\",\"Free\",\"Free\",\"Free\",\"Free\",\"Free\",\"Free\",\"Free\",\"Free\",\"Free\",\"Free\",\"Free\",\"Free\",\"Free\",\"Free\",\"Free\",\"Free\",\"Free\",\"Free\",\"Free\",\"Free\",\"Free\",\"Free\",\"Free\",\"Free\",\"Free\",\"Free\",\"Free\",\"Free\",\"Free\",\"Free\",\"Free\",\"Free\",\"Free\",\"Free\",\"Free\",\"Free\",\"Free\",\"Free\",\"Free\",\"Free\",\"Free\",\"Free\",\"Free\",\"Free\",\"Free\",\"Free\",\"Free\",\"Free\",\"Free\",\"Free\",\"Free\",\"Free\",\"Free\",\"Free\",\"Free\",\"Free\",\"Free\",\"Free\",\"Free\",\"Free\",\"Free\",\"Free\",\"Free\",\"Free\",\"Free\",\"Free\",\"Free\",\"Free\",\"Free\",\"Free\",\"Free\",\"Free\",\"Free\",\"Free\",\"Free\",\"Free\",\"Free\",\"Free\",\"Free\",\"Free\",\"Free\",\"Free\",\"Free\",\"Free\",\"Free\",\"Free\",\"Free\",\"Free\",\"Free\",\"Free\",\"Free\",\"Free\",\"Free\",\"Free\",\"Free\",\"Free\",\"Free\",\"Free\",\"Free\",\"Free\",\"Free\",\"Free\",\"Free\",\"Free\",\"Free\",\"Free\",\"Free\",\"Free\",\"Free\",\"Free\",\"Free\",\"Free\",\"Free\",\"Free\",\"Free\",\"Free\",\"Free\",\"Free\",\"Free\",\"Free\",\"Free\",\"Free\",\"Free\",\"Free\",\"Free\",\"Free\",\"Free\",\"Free\",\"Free\",\"Free\",\"Free\",\"Free\",\"Free\",\"Free\",\"Free\",\"Free\",\"Free\",\"Free\",\"Free\",\"Free\",\"Free\",\"Free\",\"Free\",\"Free\",\"Free\",\"Free\",\"Free\",\"Free\",\"Free\",\"Free\",\"Free\",\"Free\",\"Free\",\"Free\",\"Free\",\"Free\",\"Free\",\"Free\",\"Free\",\"Free\",\"Free\",\"Free\",\"Free\",\"Free\",\"Free\",\"Free\",\"Free\",\"Free\",\"Free\",\"Free\",\"Free\",\"Free\",\"Free\",\"Free\",\"Free\",\"Free\",\"Free\",\"Free\",\"Free\",\"Free\",\"Free\",\"Free\",\"Free\",\"Free\",\"Free\",\"Free\",\"Free\",\"Free\",\"Free\",\"Free\",\"Free\",\"Free\",\"Free\",\"Free\",\"Free\",\"Free\",\"Free\",\"Free\",\"Free\",\"Free\",\"Free\",\"Free\",\"Free\",\"Free\",\"Free\",\"Free\",\"Free\",\"Free\",\"Free\",\"Free\",\"Free\",\"Free\",\"Free\",\"Free\",\"Free\",\"Free\",\"Free\",\"Free\",\"Free\",\"Free\",\"Free\",\"Free\",\"Free\",\"Free\",\"Free\",\"Free\",\"Free\",\"Free\",\"Free\",\"Free\",\"Free\",\"Free\",\"Free\",\"Free\",\"Free\",\"Free\",\"Free\",\"Free\",\"Free\",\"Free\",\"Free\",\"Free\",\"Free\",\"Free\",\"Free\",\"Free\",\"Free\",\"Free\",\"Free\",\"Free\",\"Free\",\"Free\",\"Free\",\"Free\",\"Free\",\"Free\",\"Free\",\"Free\",\"Free\",\"Free\",\"Free\",\"Free\",\"Free\",\"Free\",\"Free\",\"Free\",\"Free\",\"Free\",\"Free\",\"Free\",\"Free\",\"Free\",\"Free\",\"Free\",\"Free\",\"Free\",\"Free\",\"Free\",\"Free\",\"Free\",\"Free\",\"Free\",\"Free\",\"Free\",\"Free\",\"Free\",\"Free\",\"Free\",\"Free\",\"Free\",\"Free\",\"Free\",\"Free\",\"Free\",\"Free\",\"Free\",\"Free\",\"Free\",\"Free\",\"Free\",\"Free\",\"Free\",\"Free\",\"Free\",\"Free\",\"Free\",\"Free\",\"Free\",\"Free\",\"Free\",\"Free\",\"Free\",\"Free\",\"Free\",\"Free\",\"Free\",\"Free\",\"Free\",\"Free\",\"Free\",\"Free\",\"Free\",\"Free\",\"Free\",\"Free\",\"Free\",\"Free\",\"Free\",\"Free\",\"Free\",\"Free\",\"Free\",\"Free\",\"Free\",\"Free\",\"Free\",\"Free\",\"Free\",\"Free\",\"Free\",\"Free\",\"Free\",\"Free\",\"Free\",\"Free\",\"Free\",\"Free\",\"Free\",\"Free\",\"Free\",\"Free\",\"Free\",\"Free\",\"Free\",\"Free\",\"Free\",\"Free\",\"Free\",\"Free\",\"Free\",\"Free\",\"Free\",\"Free\",\"Free\",\"Free\",\"Free\",\"Free\",\"Free\",\"Free\",\"Free\",\"Free\",\"Free\",\"Free\",\"Free\",\"Free\",\"Free\",\"Free\",\"Free\",\"Free\",\"Free\",\"Free\",\"Free\",\"Free\",\"Free\",\"Free\",\"Free\",\"Free\",\"Free\",\"Free\",\"Free\",\"Free\",\"Free\",\"Free\",\"Free\",\"Free\",\"Free\",\"Free\",\"Free\",\"Free\",\"Free\",\"Free\",\"Free\",\"Free\",\"Free\",\"Free\",\"Free\",\"Free\",\"Free\",\"Free\",\"Free\",\"Free\",\"Free\",\"Free\",\"Free\",\"Free\",\"Free\",\"Free\",\"Free\",\"Free\",\"Free\",\"Free\",\"Free\",\"Free\",\"Free\",\"Free\",\"Free\",\"Free\",\"Free\",\"Free\",\"Free\",\"Free\",\"Free\",\"Free\",\"Free\",\"Free\",\"Free\",\"Free\",\"Free\",\"Free\",\"Free\",\"Free\",\"Free\",\"Free\",\"Free\",\"Free\",\"Free\",\"Free\",\"Free\",\"Free\",\"Free\",\"Free\",\"Free\",\"Free\",\"Free\",\"Free\",\"Free\",\"Free\",\"Free\",\"Free\",\"Free\",\"Free\",\"Free\",\"Free\",\"Free\",\"Free\",\"Free\",\"Free\",\"Free\",\"Free\",\"Free\",\"Free\",\"Free\",\"Free\",\"Free\",\"Free\",\"Free\",\"Free\",\"Free\",\"Free\",\"Free\",\"Free\",\"Free\",\"Free\",\"Free\",\"Free\",\"Free\",\"Free\",\"Free\",\"Free\",\"Free\",\"Free\",\"Free\",\"Free\",\"Free\",\"Free\",\"Free\",\"Free\",\"Free\",\"Free\",\"Free\",\"Free\",\"Free\",\"Free\",\"Free\",\"Free\",\"Free\",\"Free\",\"Free\",\"Free\",\"Free\",\"Free\",\"Free\",\"Free\",\"Free\",\"Free\",\"Free\",\"Free\",\"Free\",\"Free\",\"Free\",\"Free\",\"Free\",\"Free\",\"Free\",\"Free\",\"Free\",\"Free\",\"Free\",\"Free\",\"Free\",\"Free\",\"Free\",\"Free\",\"Free\",\"Free\",\"Free\",\"Free\",\"Free\",\"Free\",\"Free\",\"Free\",\"Free\",\"Free\",\"Free\",\"Free\",\"Free\",\"Free\",\"Free\",\"Free\",\"Free\",\"Free\",\"Free\",\"Free\",\"Free\",\"Free\",\"Free\",\"Free\",\"Free\",\"Free\",\"Free\",\"Free\",\"Free\",\"Free\",\"Free\",\"Free\",\"Free\",\"Free\",\"Free\",\"Free\",\"Free\",\"Free\",\"Free\",\"Free\",\"Free\",\"Free\",\"Free\",\"Free\",\"Free\",\"Free\",\"Free\",\"Free\",\"Free\",\"Free\",\"Free\",\"Free\",\"Free\",\"Free\",\"Free\",\"Free\",\"Free\",\"Free\",\"Free\",\"Free\",\"Free\",\"Free\",\"Free\",\"Free\",\"Free\",\"Free\",\"Free\",\"Free\",\"Free\",\"Free\",\"Free\",\"Free\",\"Free\",\"Free\",\"Free\",\"Free\",\"Free\",\"Free\",\"Free\",\"Free\",\"Free\",\"Free\",\"Free\",\"Free\",\"Free\",\"Free\",\"Free\",\"Free\",\"Free\",\"Free\",\"Free\",\"Free\",\"Free\",\"Free\",\"Free\",\"Free\",\"Free\",\"Free\",\"Free\",\"Free\",\"Free\",\"Free\",\"Free\",\"Free\",\"Free\",\"Free\",\"Free\",\"Free\",\"Free\",\"Free\",\"Free\",\"Free\",\"Free\",\"Free\",\"Free\",\"Free\",\"Free\",\"Free\",\"Free\",\"Free\",\"Free\",\"Free\",\"Free\",\"Free\",\"Free\",\"Free\",\"Free\",\"Free\",\"Free\",\"Free\",\"Free\",\"Free\",\"Free\",\"Free\",\"Free\",\"Free\",\"Free\",\"Free\",\"Free\",\"Free\",\"Free\",\"Free\",\"Free\",\"Free\",\"Free\",\"Free\",\"Free\",\"Free\",\"Free\",\"Free\",\"Free\",\"Free\",\"Free\",\"Free\",\"Free\",\"Free\",\"Free\",\"Free\",\"Free\",\"Free\",\"Free\",\"Free\",\"Free\",\"Free\",\"Free\",\"Free\",\"Free\",\"Free\",\"Free\",\"Free\",\"Free\",\"Free\",\"Free\",\"Free\",\"Free\",\"Free\",\"Free\",\"Free\",\"Free\",\"Free\",\"Free\",\"Free\",\"Free\",\"Free\",\"Free\",\"Free\",\"Free\",\"Free\",\"Free\",\"Free\",\"Free\",\"Free\",\"Free\",\"Free\",\"Free\",\"Free\",\"Free\",\"Free\",\"Free\",\"Free\",\"Free\",\"Free\",\"Free\",\"Free\",\"Free\",\"Free\",\"Free\",\"Free\",\"Free\",\"Free\",\"Free\",\"Free\",\"Free\",\"Free\",\"Free\",\"Free\",\"Free\",\"Free\",\"Free\",\"Free\",\"Free\",\"Free\",\"Free\",\"Free\",\"Free\",\"Free\",\"Free\",\"Free\",\"Free\",\"Free\",\"Free\",\"Free\",\"Free\",\"Free\",\"Free\",\"Free\",\"Free\",\"Free\",\"Free\",\"Free\",\"Free\",\"Free\",\"Free\",\"Free\",\"Free\",\"Free\",\"Free\",\"Free\",\"Free\",\"Free\",\"Free\",\"Free\",\"Free\",\"Free\",\"Free\",\"Free\",\"Free\",\"Free\",\"Free\",\"Free\",\"Free\",\"Free\",\"Free\",\"Free\",\"Free\",\"Free\",\"Free\",\"Free\",\"Free\",\"Free\",\"Free\",\"Free\",\"Free\",\"Free\",\"Free\",\"Free\",\"Free\",\"Free\",\"Free\",\"Free\",\"Free\",\"Free\",\"Free\",\"Free\",\"Free\",\"Free\",\"Free\",\"Free\",\"Free\",\"Free\",\"Free\",\"Free\",\"Free\",\"Free\",\"Free\",\"Free\",\"Free\",\"Free\",\"Free\",\"Free\",\"Free\",\"Free\",\"Free\",\"Free\",\"Free\",\"Free\",\"Free\",\"Free\",\"Free\",\"Free\",\"Free\",\"Free\",\"Free\",\"Free\",\"Free\",\"Free\",\"Free\",\"Free\",\"Free\",\"Free\",\"Free\",\"Free\",\"Free\",\"Free\",\"Free\",\"Free\",\"Free\",\"Free\",\"Free\",\"Free\",\"Free\",\"Free\",\"Free\",\"Free\",\"Free\",\"Free\",\"Free\",\"Free\",\"Free\",\"Free\",\"Free\",\"Free\",\"Free\",\"Free\",\"Free\",\"Free\",\"Free\",\"Free\",\"Free\",\"Free\",\"Free\",\"Free\",\"Free\",\"Free\",\"Free\",\"Free\",\"Free\",\"Free\",\"Free\",\"Free\",\"Free\",\"Free\",\"Free\",\"Free\",\"Free\",\"Free\",\"Free\",\"Free\",\"Free\",\"Free\",\"Free\",\"Free\",\"Free\",\"Free\",\"Free\",\"Free\",\"Free\",\"Free\",\"Free\",\"Free\",\"Free\",\"Free\",\"Free\",\"Free\",\"Free\",\"Free\",\"Free\",\"Free\",\"Free\",\"Free\",\"Free\",\"Free\",\"Free\",\"Free\",\"Free\",\"Free\",\"Free\",\"Free\",\"Free\",\"Free\",\"Free\",\"Free\",\"Free\",\"Free\",\"Free\",\"Free\",\"Free\",\"Free\",\"Free\",\"Free\",\"Free\",\"Free\",\"Free\",\"Free\",\"Free\",\"Free\",\"Free\",\"Free\",\"Free\",\"Free\",\"Free\",\"Free\",\"Free\",\"Free\",\"Free\",\"Free\",\"Free\",\"Free\",\"Free\",\"Free\",\"Free\",\"Free\",\"Free\",\"Free\",\"Free\",\"Free\",\"Free\",\"Free\",\"Free\",\"Free\",\"Free\",\"Free\",\"Free\",\"Free\",\"Free\",\"Free\",\"Free\",\"Free\",\"Free\",\"Free\",\"Free\",\"Free\",\"Free\",\"Free\",\"Free\",\"Free\",\"Free\",\"Free\",\"Free\",\"Free\",\"Free\",\"Free\",\"Free\",\"Free\",\"Free\",\"Free\",\"Free\",\"Free\",\"Free\",\"Free\",\"Free\",\"Free\",\"Free\",\"Free\",\"Free\",\"Free\",\"Free\",\"Free\",\"Free\",\"Free\",\"Free\",\"Free\",\"Free\",\"Free\",\"Free\",\"Free\",\"Free\",\"Free\",\"Free\",\"Free\",\"Free\",\"Free\",\"Free\",\"Free\",\"Free\",\"Free\",\"Free\",\"Free\",\"Free\",\"Free\",\"Free\",\"Free\",\"Free\",\"Free\",\"Free\",\"Free\",\"Free\",\"Free\",\"Free\",\"Free\",\"Free\",\"Free\",\"Free\",\"Free\",\"Free\",\"Free\",\"Free\",\"Free\",\"Free\",\"Free\",\"Free\",\"Free\",\"Free\",\"Free\",\"Free\",\"Free\",\"Free\",\"Free\",\"Free\",\"Free\",\"Free\",\"Free\",\"Free\",\"Free\",\"Free\",\"Free\",\"Free\",\"Free\",\"Free\",\"Free\",\"Free\",\"Free\",\"Free\",\"Free\",\"Free\",\"Free\",\"Free\",\"Free\",\"Free\",\"Free\",\"Free\",\"Free\",\"Free\",\"Free\",\"Free\",\"Free\",\"Free\",\"Free\",\"Free\",\"Free\",\"Free\",\"Free\",\"Free\",\"Free\",\"Free\",\"Free\",\"Free\",\"Free\",\"Free\",\"Free\",\"Free\",\"Free\",\"Free\",\"Free\",\"Free\",\"Free\",\"Free\",\"Free\",\"Free\",\"Free\",\"Free\",\"Free\",\"Free\",\"Free\",\"Free\",\"Free\",\"Free\",\"Free\",\"Free\",\"Free\",\"Free\",\"Free\",\"Free\",\"Free\",\"Free\",\"Free\",\"Free\",\"Free\",\"Free\",\"Free\",\"Free\",\"Free\",\"Free\",\"Free\",\"Free\",\"Free\",\"Free\",\"Free\",\"Free\",\"Free\",\"Free\",\"Free\",\"Free\",\"Free\",\"Free\",\"Free\",\"Free\",\"Free\",\"Free\",\"Free\",\"Free\",\"Free\",\"Free\",\"Free\",\"Free\",\"Free\",\"Free\",\"Free\",\"Free\",\"Free\",\"Free\",\"Free\",\"Free\",\"Free\",\"Free\",\"Free\",\"Free\",\"Free\",\"Free\",\"Free\",\"Free\",\"Free\",\"Free\",\"Free\",\"Free\",\"Free\",\"Free\",\"Free\",\"Free\",\"Free\",\"Free\",\"Free\",\"Free\",\"Free\",\"Free\",\"Free\",\"Free\",\"Free\",\"Free\",\"Free\",\"Free\",\"Free\",\"Free\",\"Free\",\"Free\",\"Free\",\"Free\",\"Free\",\"Free\",\"Free\",\"Free\",\"Free\",\"Free\",\"Free\",\"Free\",\"Free\",\"Free\",\"Free\",\"Free\",\"Free\",\"Free\",\"Free\",\"Free\",\"Free\",\"Free\",\"Free\",\"Free\",\"Free\",\"Free\",\"Free\",\"Free\",\"Free\",\"Free\",\"Free\",\"Free\",\"Free\",\"Free\",\"Free\",\"Free\",\"Free\",\"Free\",\"Free\",\"Free\",\"Free\",\"Free\",\"Free\",\"Free\",\"Free\",\"Free\",\"Free\",\"Free\",\"Free\",\"Free\",\"Free\",\"Free\",\"Free\",\"Free\",\"Free\",\"Free\",\"Free\",\"Free\",\"Free\",\"Free\",\"Free\",\"Free\",\"Free\",\"Free\",\"Free\",\"Free\",\"Free\",\"Free\",\"Free\",\"Free\",\"Free\",\"Free\",\"Free\",\"Free\",\"Free\",\"Free\",\"Free\",\"Free\",\"Free\",\"Free\",\"Free\",\"Free\",\"Free\",\"Free\",\"Free\",\"Free\",\"Free\",\"Free\",\"Free\",\"Free\",\"Free\",\"Free\",\"Free\",\"Free\",\"Free\",\"Free\",\"Free\",\"Free\",\"Free\",\"Free\",\"Free\",\"Free\",\"Free\",\"Free\",\"Free\",\"Free\",\"Free\",\"Free\",\"Free\",\"Free\",\"Free\",\"Free\",\"Free\",\"Free\",\"Free\",\"Free\",\"Free\",\"Free\",\"Free\",\"Free\",\"Free\",\"Free\",\"Free\",\"Free\",\"Free\",\"Free\",\"Free\",\"Free\",\"Free\",\"Free\",\"Free\",\"Free\",\"Free\",\"Free\",\"Free\",\"Free\",\"Free\",\"Free\",\"Free\",\"Free\",\"Free\",\"Free\",\"Free\",\"Free\",\"Free\",\"Free\",\"Free\",\"Free\",\"Free\",\"Free\",\"Free\",\"Free\",\"Free\",\"Free\",\"Free\",\"Free\",\"Free\",\"Free\",\"Free\",\"Free\",\"Free\",\"Free\",\"Free\",\"Free\",\"Free\",\"Free\",\"Free\",\"Free\",\"Free\",\"Free\",\"Free\",\"Free\",\"Free\",\"Free\",\"Free\",\"Free\",\"Free\",\"Free\",\"Free\",\"Free\",\"Free\",\"Free\",\"Free\",\"Free\",\"Free\",\"Free\",\"Free\",\"Free\",\"Free\",\"Free\",\"Free\",\"Free\",\"Free\",\"Free\",\"Free\",\"Free\",\"Free\",\"Free\",\"Free\",\"Free\",\"Free\",\"Free\",\"Free\",\"Free\",\"Free\",\"Free\",\"Free\",\"Free\",\"Free\",\"Free\",\"Free\",\"Free\",\"Free\",\"Free\",\"Free\",\"Free\",\"Free\",\"Free\",\"Free\",\"Free\",\"Free\",\"Free\",\"Free\",\"Free\",\"Free\",\"Free\",\"Free\",\"Free\",\"Free\",\"Free\",\"Free\",\"Free\",\"Free\",\"Free\",\"Free\",\"Free\",\"Free\",\"Free\",\"Free\",\"Free\",\"Free\",\"Free\",\"Free\",\"Free\",\"Free\",\"Free\",\"Free\",\"Free\",\"Free\",\"Free\",\"Free\",\"Free\",\"Free\",\"Free\",\"Free\",\"Free\",\"Free\",\"Free\",\"Free\",\"Free\",\"Free\",\"Free\",\"Free\",\"Free\",\"Free\",\"Free\",\"Free\",\"Free\",\"Free\",\"Free\",\"Free\",\"Free\",\"Free\",\"Free\",\"Free\",\"Free\",\"Free\",\"Free\",\"Free\",\"Free\",\"Free\",\"Free\",\"Free\",\"Free\",\"Free\",\"Free\",\"Free\",\"Free\",\"Free\",\"Free\",\"Free\",\"Free\",\"Free\",\"Free\",\"Free\",\"Free\",\"Free\",\"Free\",\"Free\",\"Free\",\"Free\",\"Free\",\"Free\",\"Free\",\"Free\",\"Free\",\"Free\",\"Free\",\"Free\",\"Free\",\"Free\",\"Free\",\"Free\",\"Free\",\"Free\",\"Free\",\"Free\",\"Free\",\"Free\",\"Free\",\"Free\",\"Free\",\"Free\",\"Free\",\"Free\",\"Free\",\"Free\",\"Free\",\"Free\",\"Free\",\"Free\",\"Free\",\"Free\",\"Free\",\"Free\",\"Free\",\"Free\",\"Free\",\"Free\",\"Free\",\"Free\",\"Free\",\"Free\",\"Free\",\"Free\",\"Free\",\"Free\",\"Free\",\"Free\",\"Free\",\"Free\",\"Free\",\"Free\",\"Free\",\"Free\",\"Free\",\"Free\",\"Free\",\"Free\",\"Free\",\"Free\",\"Free\",\"Free\",\"Free\",\"Free\",\"Free\",\"Free\",\"Free\",\"Free\",\"Free\",\"Free\",\"Free\",\"Free\",\"Free\",\"Free\",\"Free\",\"Free\",\"Free\",\"Free\",\"Free\",\"Free\",\"Free\",\"Free\",\"Free\",\"Free\",\"Free\",\"Free\",\"Free\",\"Free\",\"Free\",\"Free\",\"Free\",\"Free\",\"Free\",\"Free\",\"Free\",\"Free\",\"Free\",\"Free\",\"Free\",\"Free\",\"Free\",\"Free\",\"Free\",\"Free\",\"Free\",\"Free\",\"Free\",\"Free\",\"Free\",\"Free\",\"Free\",\"Free\",\"Free\",\"Free\",\"Free\",\"Free\",\"Free\",\"Free\",\"Free\",\"Free\",\"Free\",\"Free\",\"Free\",\"Free\",\"Free\",\"Free\",\"Free\",\"Free\",\"Free\",\"Free\",\"Free\",\"Free\",\"Free\",\"Free\",\"Free\",\"Free\",\"Free\",\"Free\",\"Free\",\"Free\",\"Free\",\"Free\",\"Free\",\"Free\",\"Free\",\"Free\",\"Free\",\"Free\",\"Free\",\"Free\",\"Free\",\"Free\",\"Free\",\"Free\",\"Free\",\"Free\",\"Free\",\"Free\",\"Free\",\"Free\",\"Free\",\"Free\",\"Free\",\"Free\",\"Free\",\"Free\",\"Free\",\"Free\",\"Free\",\"Free\",\"Free\",\"Free\",\"Free\",\"Free\",\"Free\",\"Free\",\"Free\",\"Free\",\"Free\",\"Free\",\"Free\",\"Free\",\"Free\",\"Free\",\"Free\",\"Free\",\"Free\",\"Free\",\"Free\",\"Free\",\"Free\",\"Free\",\"Free\",\"Free\",\"Free\",\"Free\",\"Free\",\"Free\",\"Free\",\"Free\",\"Free\",\"Free\",\"Free\",\"Free\",\"Free\",\"Free\",\"Free\",\"Free\",\"Free\",\"Free\",\"Free\",\"Free\",\"Free\",\"Free\",\"Free\",\"Free\",\"Free\",\"Free\",\"Free\",\"Free\",\"Free\",\"Free\",\"Free\",\"Free\",\"Free\",\"Free\",\"Free\",\"Free\",\"Free\",\"Free\",\"Free\",\"Free\",\"Free\",\"Free\",\"Free\",\"Free\",\"Free\",\"Free\",\"Free\",\"Free\",\"Free\",\"Free\",\"Free\",\"Free\",\"Free\",\"Free\",\"Free\",\"Free\",\"Free\",\"Free\",\"Free\",\"Free\",\"Free\",\"Free\",\"Free\",\"Free\",\"Free\",\"Free\",\"Free\",\"Free\",\"Free\",\"Free\",\"Free\",\"Free\",\"Free\",\"Free\",\"Free\",\"Free\",\"Free\",\"Free\",\"Free\",\"Free\",\"Free\",\"Free\",\"Free\",\"Free\",\"Free\",\"Free\",\"Free\",\"Free\",\"Free\",\"Free\",\"Free\",\"Free\",\"Free\",\"Free\",\"Free\",\"Free\",\"Free\",\"Free\",\"Free\",\"Free\",\"Free\",\"Free\",\"Free\",\"Free\",\"Free\",\"Free\",\"Free\",\"Free\",\"Free\",\"Free\",\"Free\",\"Free\",\"Free\",\"Free\",\"Free\",\"Free\",\"Free\",\"Free\",\"Free\",\"Free\",\"Free\",\"Free\",\"Free\",\"Free\",\"Free\",\"Free\",\"Free\",\"Free\",\"Free\",\"Free\",\"Free\",\"Free\",\"Free\",\"Free\",\"Free\",\"Free\",\"Free\",\"Free\",\"Free\",\"Free\",\"Free\",\"Free\",\"Free\",\"Free\",\"Free\",\"Free\",\"Free\",\"Free\",\"Free\",\"Free\",\"Free\",\"Free\",\"Free\",\"Free\",\"Free\",\"Free\",\"Free\",\"Free\",\"Free\",\"Free\",\"Free\",\"Free\",\"Free\",\"Free\",\"Free\",\"Free\",\"Free\",\"Free\",\"Free\",\"Free\",\"Free\",\"Free\",\"Free\",\"Free\",\"Free\",\"Free\",\"Free\",\"Free\",\"Free\",\"Free\",\"Free\",\"Free\",\"Free\",\"Free\",\"Free\",\"Free\",\"Free\",\"Free\",\"Free\",\"Free\",\"Free\",\"Free\",\"Free\",\"Free\",\"Free\",\"Free\",\"Free\",\"Free\",\"Free\",\"Free\",\"Free\",\"Free\",\"Free\",\"Free\",\"Free\",\"Free\",\"Free\",\"Free\",\"Free\",\"Free\",\"Free\",\"Free\",\"Free\",\"Free\",\"Free\",\"Free\",\"Free\",\"Free\",\"Free\",\"Free\",\"Free\",\"Free\",\"Free\",\"Free\",\"Free\",\"Free\",\"Free\",\"Free\",\"Free\",\"Free\",\"Free\",\"Free\",\"Free\",\"Free\",\"Free\",\"Free\",\"Free\",\"Free\",\"Free\",\"Free\",\"Free\",\"Free\",\"Free\",\"Free\",\"Free\",\"Free\",\"Free\",\"Free\",\"Free\",\"Free\",\"Free\",\"Free\",\"Free\",\"Free\",\"Free\",\"Free\",\"Free\",\"Free\",\"Free\",\"Free\",\"Free\",\"Free\",\"Free\",\"Free\",\"Free\",\"Free\",\"Free\",\"Free\",\"Free\",\"Free\",\"Free\",\"Free\",\"Free\",\"Free\",\"Free\",\"Free\",\"Free\",\"Free\",\"Free\",\"Free\",\"Free\",\"Free\",\"Free\",\"Free\",\"Free\",\"Free\",\"Free\",\"Free\",\"Free\",\"Free\",\"Free\",\"Free\",\"Free\",\"Free\",\"Free\",\"Free\",\"Free\",\"Free\",\"Free\",\"Free\",\"Free\",\"Free\",\"Free\",\"Free\",\"Free\",\"Free\",\"Free\",\"Free\",\"Free\",\"Free\",\"Free\",\"Free\",\"Free\",\"Free\",\"Free\",\"Free\",\"Free\",\"Free\",\"Free\",\"Free\",\"Free\",\"Free\",\"Free\",\"Free\",\"Free\",\"Free\",\"Free\",\"Free\",\"Free\",\"Free\",\"Free\",\"Free\",\"Free\",\"Free\",\"Free\",\"Free\",\"Free\",\"Free\",\"Free\",\"Free\",\"Free\",\"Free\",\"Free\",\"Free\",\"Free\",\"Free\",\"Free\",\"Free\",\"Free\",\"Free\",\"Free\",\"Free\",\"Free\",\"Free\",\"Free\",\"Free\",\"Free\",\"Free\",\"Free\",\"Free\",\"Free\",\"Free\",\"Free\",\"Free\",\"Free\",\"Free\",\"Free\",\"Free\",\"Free\",\"Free\",\"Free\",\"Free\",\"Free\",\"Free\",\"Free\",\"Free\",\"Free\",\"Free\",\"Free\",\"Free\",\"Free\",\"Free\",\"Free\",\"Free\",\"Free\",\"Free\",\"Free\",\"Free\",\"Free\",\"Free\",\"Free\",\"Free\",\"Free\",\"Free\",\"Free\",\"Free\",\"Free\",\"Free\",\"Free\",\"Free\",\"Free\",\"Free\",\"Free\",\"Free\",\"Free\",\"Free\",\"Free\",\"Free\",\"Free\",\"Free\",\"Free\",\"Free\",\"Free\",\"Free\",\"Free\",\"Free\",\"Free\",\"Free\",\"Free\",\"Free\",\"Free\",\"Free\",\"Free\",\"Free\",\"Free\",\"Free\",\"Free\",\"Free\",\"Free\",\"Free\",\"Free\",\"Free\",\"Free\",\"Free\",\"Free\",\"Free\",\"Free\",\"Free\",\"Free\",\"Free\",\"Free\",\"Free\",\"Free\",\"Free\",\"Free\",\"Free\",\"Free\",\"Free\",\"Free\",\"Free\",\"Free\",\"Free\",\"Free\",\"Free\",\"Free\",\"Free\",\"Free\",\"Free\",\"Free\",\"Free\",\"Free\",\"Free\",\"Free\",\"Free\",\"Free\",\"Free\",\"Free\",\"Free\",\"Free\",\"Free\",\"Free\",\"Free\",\"Free\",\"Free\",\"Free\",\"Free\",\"Free\",\"Free\",\"Free\",\"Free\",\"Free\",\"Free\",\"Free\",\"Free\",\"Free\",\"Free\",\"Free\",\"Free\",\"Free\",\"Free\",\"Free\",\"Free\",\"Free\",\"Free\",\"Free\",\"Free\",\"Free\",\"Free\",\"Free\",\"Free\",\"Free\",\"Free\",\"Free\",\"Free\",\"Free\",\"Free\",\"Free\",\"Free\",\"Free\",\"Free\",\"Free\",\"Free\",\"Free\",\"Free\",\"Free\",\"Free\",\"Free\",\"Free\",\"Free\",\"Free\",\"Free\",\"Free\",\"Free\",\"Free\",\"Free\",\"Free\",\"Free\",\"Free\",\"Free\",\"Free\",\"Free\",\"Free\",\"Free\",\"Free\",\"Free\",\"Free\",\"Free\",\"Free\",\"Free\",\"Free\",\"Free\",\"Free\",\"Free\",\"Free\",\"Free\",\"Free\",\"Free\",\"Free\",\"Free\",\"Free\",\"Free\",\"Free\",\"Free\",\"Free\",\"Free\",\"Free\",\"Free\",\"Free\",\"Free\",\"Free\",\"Free\",\"Free\",\"Free\",\"Free\",\"Free\",\"Free\",\"Free\",\"Free\",\"Free\",\"Free\",\"Free\",\"Free\",\"Free\",\"Free\",\"Free\",\"Free\",\"Free\",\"Free\",\"Free\",\"Free\",\"Free\",\"Free\",\"Free\",\"Free\",\"Free\",\"Free\",\"Free\",\"Free\",\"Free\",\"Free\",\"Free\",\"Free\",\"Free\",\"Free\",\"Free\",\"Free\",\"Free\",\"Free\",\"Free\",\"Free\",\"Free\",\"Free\",\"Free\",\"Free\",\"Free\",\"Free\",\"Free\",\"Free\",\"Free\",\"Free\",\"Free\",\"Free\",\"Free\",\"Free\",\"Free\",\"Free\",\"Free\",\"Free\",\"Free\",\"Free\",\"Free\",\"Free\",\"Free\",\"Free\",\"Free\",\"Free\",\"Free\",\"Free\",\"Free\",\"Free\",\"Free\",\"Free\",\"Free\",\"Free\",\"Free\",\"Free\",\"Free\",\"Free\",\"Free\",\"Free\",\"Free\",\"Free\",\"Free\",\"Free\",\"Free\",\"Free\",\"Free\",\"Free\",\"Free\",\"Free\",\"Free\",\"Free\",\"Free\",\"Free\",\"Free\",\"Free\",\"Free\",\"Free\",\"Free\",\"Free\",\"Free\",\"Free\",\"Free\",\"Free\",\"Free\",\"Free\",\"Free\",\"Free\",\"Free\",\"Free\",\"Free\",\"Free\",\"Free\",\"Free\",\"Free\",\"Free\",\"Free\",\"Free\",\"Free\",\"Free\",\"Free\",\"Free\",\"Free\",\"Free\",\"Free\",\"Free\",\"Free\",\"Free\",\"Free\",\"Free\",\"Free\",\"Free\",\"Free\",\"Free\",\"Free\",\"Free\",\"Free\",\"Free\",\"Free\",\"Free\",\"Free\",\"Free\",\"Free\",\"Free\",\"Free\",\"Free\",\"Free\",\"Free\",\"Free\",\"Free\",\"Free\",\"Free\",\"Free\",\"Free\",\"Free\",\"Free\",\"Free\",\"Free\",\"Free\",\"Free\",\"Free\",\"Free\",\"Free\",\"Free\",\"Free\",\"Free\",\"Free\",\"Free\",\"Free\",\"Free\",\"Free\",\"Free\",\"Free\",\"Free\",\"Free\",\"Free\",\"Free\",\"Free\",\"Free\",\"Free\",\"Free\",\"Free\",\"Free\",\"Free\",\"Free\",\"Free\",\"Free\",\"Free\",\"Free\",\"Free\",\"Free\",\"Free\",\"Free\",\"Free\",\"Free\",\"Free\",\"Free\",\"Free\",\"Free\",\"Free\",\"Free\",\"Free\",\"Free\",\"Free\",\"Free\",\"Free\",\"Free\",\"Free\",\"Free\",\"Free\",\"Free\",\"Free\",\"Free\",\"Free\",\"Free\",\"Free\",\"Free\",\"Free\",\"Free\",\"Free\",\"Free\",\"Free\",\"Free\",\"Free\",\"Free\",\"Free\",\"Free\",\"Free\",\"Free\",\"Free\",\"Free\",\"Free\",\"Free\",\"Free\",\"Free\",\"Free\",\"Free\",\"Free\",\"Free\",\"Free\",\"Free\",\"Free\",\"Free\",\"Free\",\"Free\",\"Free\",\"Free\",\"Free\",\"Free\",\"Free\",\"Free\",\"Free\",\"Free\",\"Free\",\"Free\",\"Free\",\"Free\",\"Free\",\"Free\",\"Free\",\"Free\",\"Free\",\"Free\",\"Free\",\"Free\",\"Free\",\"Free\",\"Free\",\"Free\",\"Free\",\"Free\",\"Free\",\"Free\",\"Free\",\"Free\",\"Free\",\"Free\",\"Free\",\"Free\",\"Free\",\"Free\",\"Free\",\"Free\",\"Free\",\"Free\",\"Free\",\"Free\",\"Free\",\"Free\",\"Free\",\"Free\",\"Free\",\"Free\",\"Free\",\"Free\",\"Free\",\"Free\",\"Free\",\"Free\",\"Free\",\"Free\",\"Free\",\"Free\",\"Free\",\"Free\",\"Free\",\"Free\",\"Free\",\"Free\",\"Free\",\"Free\",\"Free\",\"Free\",\"Free\",\"Free\",\"Free\",\"Free\",\"Free\",\"Free\",\"Free\",\"Free\",\"Free\",\"Free\",\"Free\",\"Free\",\"Free\",\"Free\",\"Free\",\"Free\",\"Free\",\"Free\",\"Free\",\"Free\",\"Free\",\"Free\",\"Free\",\"Free\",\"Free\",\"Free\",\"Free\",\"Free\",\"Free\",\"Free\",\"Free\",\"Free\",\"Free\",\"Free\",\"Free\",\"Free\",\"Free\",\"Free\",\"Free\",\"Free\",\"Free\",\"Free\",\"Free\",\"Free\",\"Free\",\"Free\",\"Free\",\"Free\",\"Free\",\"Free\",\"Free\",\"Free\",\"Free\",\"Free\",\"Free\",\"Free\",\"Free\",\"Free\",\"Free\",\"Free\",\"Free\",\"Free\",\"Free\",\"Free\",\"Free\",\"Free\",\"Free\",\"Free\",\"Free\",\"Free\",\"Free\",\"Free\",\"Free\",\"Free\",\"Free\",\"Free\",\"Free\",\"Free\",\"Free\",\"Free\",\"Free\",\"Free\",\"Free\",\"Free\",\"Free\",\"Free\",\"Free\",\"Free\",\"Free\",\"Free\",\"Free\",\"Free\",\"Free\",\"Free\",\"Free\",\"Free\",\"Free\",\"Free\",\"Free\",\"Free\",\"Free\",\"Free\",\"Free\",\"Free\",\"Free\",\"Free\",\"Free\",\"Free\",\"Free\",\"Free\",\"Free\",\"Free\",\"Free\",\"Free\",\"Free\",\"Free\",\"Free\",\"Free\",\"Free\",\"Free\",\"Free\",\"Free\",\"Free\",\"Free\",\"Free\",\"Free\",\"Free\",\"Free\",\"Free\",\"Free\",\"Free\",\"Free\",\"Free\",\"Free\",\"Free\",\"Free\",\"Free\",\"Free\",\"Free\",\"Free\",\"Free\",\"Free\",\"Free\",\"Free\",\"Free\",\"Free\",\"Free\",\"Free\",\"Free\",\"Free\",\"Free\",\"Free\",\"Free\",\"Free\",\"Free\",\"Free\",\"Free\",\"Free\",\"Free\",\"Free\",\"Free\",\"Free\",\"Free\",\"Free\",\"Free\",\"Free\",\"Free\",\"Free\",\"Free\",\"Free\",\"Free\",\"Free\",\"Free\",\"Free\",\"Free\",\"Free\",\"Free\",\"Free\",\"Free\",\"Free\",\"Free\",\"Free\",\"Free\",\"Free\",\"Free\",\"Free\",\"Free\",\"Free\",\"Free\",\"Free\",\"Free\",\"Free\",\"Free\",\"Free\",\"Free\",\"Free\",\"Free\",\"Free\",\"Free\",\"Free\",\"Free\",\"Free\",\"Free\",\"Free\",\"Free\",\"Free\",\"Free\",\"Free\",\"Free\",\"Free\",\"Free\",\"Free\",\"Free\",\"Free\",\"Free\",\"Free\",\"Free\",\"Free\",\"Free\",\"Free\",\"Free\",\"Free\",\"Free\",\"Free\",\"Free\",\"Free\",\"Free\",\"Free\",\"Free\",\"Free\",\"Free\",\"Free\",\"Free\",\"Free\",\"Free\",\"Free\",\"Free\",\"Free\",\"Free\",\"Free\",\"Free\",\"Free\",\"Free\",\"Free\",\"Free\",\"Free\",\"Free\",\"Free\",\"Free\",\"Free\",\"Free\",\"Free\",\"Free\",\"Free\",\"Free\",\"Free\",\"Free\",\"Free\",\"Free\",\"Free\",\"Free\",\"Free\",\"Free\",\"Free\",\"Free\",\"Free\",\"Free\",\"Free\",\"Free\",\"Free\",\"Free\",\"Free\",\"Free\",\"Free\",\"Free\",\"Free\",\"Free\",\"Free\",\"Free\",\"Free\",\"Free\",\"Free\",\"Free\",\"Free\",\"Free\",\"Free\",\"Free\",\"Free\",\"Free\",\"Free\",\"Free\",\"Free\",\"Free\",\"Free\",\"Free\",\"Free\",\"Free\",\"Free\",\"Free\",\"Free\",\"Free\",\"Free\",\"Free\",\"Free\",\"Free\",\"Free\",\"Free\",\"Free\",\"Free\",\"Free\",\"Free\",\"Free\",\"Free\",\"Free\",\"Free\",\"Free\",\"Free\",\"Free\",\"Free\",\"Free\",\"Free\",\"Free\",\"Free\",\"Free\",\"Free\",\"Free\",\"Free\",\"Free\",\"Free\",\"Free\",\"Free\",\"Free\",\"Free\",\"Free\",\"Free\",\"Free\",\"Free\",\"Free\",\"Free\",\"Free\",\"Free\",\"Free\",\"Free\",\"Free\",\"Free\",\"Free\",\"Free\",\"Free\",\"Free\",\"Free\",\"Free\",\"Free\",\"Free\",\"Free\",\"Free\",\"Free\",\"Free\",\"Free\",\"Free\",\"Free\",\"Free\",\"Free\",\"Free\",\"Free\",\"Free\",\"Free\",\"Free\",\"Free\",\"Free\",\"Free\",\"Free\",\"Free\",\"Free\",\"Free\",\"Free\",\"Free\",\"Free\",\"Free\",\"Free\",\"Free\",\"Free\",\"Free\",\"Free\",\"Free\",\"Free\",\"Free\",\"Free\",\"Free\",\"Free\",\"Free\",\"Free\",\"Free\",\"Free\",\"Free\",\"Free\",\"Free\",\"Free\",\"Free\",\"Free\",\"Free\",\"Free\",\"Free\",\"Free\",\"Free\",\"Free\",\"Free\",\"Free\",\"Free\",\"Free\",\"Free\",\"Free\",\"Free\",\"Free\",\"Free\",\"Free\",\"Free\",\"Free\",\"Free\",\"Free\",\"Free\",\"Free\",\"Free\",\"Free\",\"Free\",\"Free\",\"Free\",\"Free\",\"Free\",\"Free\",\"Free\",\"Free\",\"Free\",\"Free\",\"Free\",\"Free\",\"Free\",\"Free\",\"Free\",\"Free\",\"Free\",\"Free\",\"Free\",\"Free\",\"Free\",\"Free\",\"Free\",\"Free\",\"Free\",\"Free\",\"Free\",\"Free\",\"Free\",\"Free\",\"Free\",\"Free\",\"Free\",\"Free\",\"Free\",\"Free\",\"Free\",\"Free\",\"Free\",\"Free\",\"Free\",\"Free\",\"Free\",\"Free\",\"Free\",\"Free\",\"Free\",\"Free\",\"Free\",\"Free\",\"Free\",\"Free\",\"Free\",\"Free\",\"Free\",\"Free\",\"Free\",\"Free\",\"Free\",\"Free\",\"Free\",\"Free\",\"Free\",\"Free\",\"Free\",\"Free\",\"Free\",\"Free\",\"Free\",\"Free\",\"Free\",\"Free\",\"Free\",\"Free\",\"Free\",\"Free\",\"Free\",\"Free\",\"Free\",\"Free\",\"Free\",\"Free\",\"Free\",\"Free\",\"Free\",\"Free\",\"Free\",\"Free\",\"Free\",\"Free\",\"Free\",\"Free\",\"Free\",\"Free\",\"Free\",\"Free\",\"Free\",\"Free\",\"Free\",\"Free\",\"Free\",\"Free\",\"Free\",\"Free\",\"Free\",\"Free\",\"Free\",\"Free\",\"Free\",\"Free\",\"Free\",\"Free\",\"Free\",\"Free\",\"Free\",\"Free\",\"Free\",\"Free\",\"Free\",\"Free\",\"Free\",\"Free\",\"Free\",\"Free\",\"Free\",\"Free\",\"Free\",\"Free\",\"Free\",\"Free\",\"Free\",\"Free\",\"Free\",\"Free\",\"Free\",\"Free\",\"Free\",\"Free\",\"Free\",\"Free\",\"Free\",\"Free\",\"Free\",\"Free\",\"Free\",\"Free\",\"Free\",\"Free\",\"Free\",\"Free\",\"Free\",\"Free\",\"Free\",\"Free\",\"Free\",\"Free\",\"Free\",\"Free\",\"Free\",\"Free\",\"Free\",\"Free\",\"Free\",\"Free\",\"Free\",\"Free\",\"Free\",\"Free\",\"Free\",\"Free\",\"Free\",\"Free\",\"Free\",\"Free\",\"Free\",\"Free\",\"Free\",\"Free\",\"Free\",\"Free\",\"Free\",\"Free\",\"Free\",\"Free\",\"Free\",\"Free\",\"Free\",\"Free\",\"Free\",\"Free\",\"Free\",\"Free\",\"Free\",\"Free\",\"Free\",\"Free\",\"Free\",\"Free\",\"Free\",\"Free\",\"Free\",\"Free\",\"Free\",\"Free\",\"Free\",\"Free\",\"Free\",\"Free\",\"Free\",\"Free\",\"Free\",\"Free\",\"Free\",\"Free\",\"Free\",\"Free\",\"Free\",\"Free\",\"Free\",\"Free\",\"Free\",\"Free\",\"Free\",\"Free\",\"Free\",\"Free\",\"Free\",\"Free\",\"Free\",\"Free\",\"Free\",\"Free\",\"Free\",\"Free\",\"Free\",\"Free\",\"Free\",\"Free\",\"Free\",\"Free\",\"Free\",\"Free\",\"Free\",\"Free\",\"Free\",\"Free\",\"Free\",\"Free\",\"Free\",\"Free\",\"Free\",\"Free\",\"Free\",\"Free\",\"Free\",\"Free\",\"Free\",\"Free\",\"Free\",\"Free\",\"Free\",\"Free\",\"Free\",\"Free\",\"Free\",\"Free\",\"Free\",\"Free\",\"Free\",\"Free\",\"Free\",\"Free\",\"Free\",\"Free\",\"Free\",\"Free\",\"Free\",\"Free\",\"Free\",\"Free\",\"Free\",\"Free\",\"Free\",\"Free\",\"Free\",\"Free\",\"Free\",\"Free\",\"Free\",\"Free\",\"Free\",\"Free\",\"Free\",\"Free\",\"Free\",\"Free\",\"Free\",\"Free\",\"Free\",\"Free\",\"Free\",\"Free\",\"Free\",\"Free\",\"Free\",\"Free\",\"Free\",\"Free\",\"Free\",\"Free\",\"Free\",\"Free\",\"Free\",\"Free\",\"Free\",\"Free\",\"Free\",\"Free\",\"Free\",\"Free\",\"Free\",\"Free\",\"Free\",\"Free\",\"Free\",\"Free\",\"Free\",\"Free\",\"Free\",\"Free\",\"Free\",\"Free\",\"Free\",\"Free\",\"Free\",\"Free\",\"Free\",\"Free\",\"Free\",\"Free\",\"Free\",\"Free\",\"Free\",\"Free\",\"Free\",\"Free\",\"Free\",\"Free\",\"Free\",\"Free\",\"Free\",\"Free\",\"Free\",\"Free\",\"Free\",\"Free\",\"Free\",\"Free\",\"Free\",\"Free\",\"Free\",\"Free\",\"Free\",\"Free\",\"Free\",\"Free\",\"Free\",\"Free\",\"Free\",\"Free\",\"Free\",\"Free\",\"Free\",\"Free\",\"Free\",\"Free\",\"Free\",\"Free\",\"Free\",\"Free\",\"Free\",\"Free\",\"Free\",\"Free\",\"Free\",\"Free\",\"Free\",\"Free\",\"Free\",\"Free\",\"Free\",\"Free\",\"Free\",\"Free\",\"Free\",\"Free\",\"Free\",\"Free\",\"Free\",\"Free\",\"Free\",\"Free\",\"Free\",\"Free\",\"Free\",\"Free\",\"Free\",\"Free\",\"Free\",\"Free\",\"Free\",\"Free\",\"Free\",\"Free\",\"Free\",\"Free\",\"Free\",\"Free\",\"Free\",\"Free\",\"Free\",\"Free\",\"Free\",\"Free\",\"Free\",\"Free\",\"Free\",\"Free\",\"Free\",\"Free\",\"Free\",\"Free\",\"Free\",\"Free\",\"Free\",\"Free\",\"Free\",\"Free\",\"Free\",\"Free\",\"Free\",\"Free\",\"Free\",\"Free\",\"Free\",\"Free\",\"Free\",\"Free\",\"Free\",\"Free\",\"Free\",\"Free\",\"Free\",\"Free\",\"Free\",\"Free\",\"Free\",\"Free\",\"Free\",\"Free\",\"Free\",\"Free\",\"Free\",\"Free\",\"Free\",\"Free\",\"Free\",\"Free\",\"Free\",\"Free\",\"Free\",\"Free\",\"Free\",\"Free\",\"Free\",\"Free\",\"Free\",\"Free\",\"Free\",\"Free\",\"Free\",\"Free\",\"Free\",\"Free\",\"Free\",\"Free\",\"Free\",\"Free\",\"Free\",\"Free\",\"Free\",\"Free\",\"Free\",\"Free\",\"Free\",\"Free\",\"Free\",\"Free\",\"Free\",\"Free\",\"Free\",\"Free\",\"Free\",\"Free\",\"Free\",\"Free\",\"Free\",\"Free\",\"Free\",\"Free\",\"Free\",\"Free\",\"Free\",\"Free\",\"Free\",\"Free\",\"Free\",\"Free\",\"Free\",\"Free\",\"Free\",\"Free\",\"Free\",\"Free\",\"Free\",\"Free\",\"Free\",\"Free\",\"Free\",\"Free\",\"Free\",\"Free\",\"Free\",\"Free\",\"Free\",\"Free\",\"Free\",\"Free\",\"Free\",\"Free\",\"Free\",\"Free\",\"Free\",\"Free\",\"Free\",\"Free\",\"Free\",\"Free\",\"Free\",\"Free\",\"Free\",\"Free\",\"Free\",\"Free\",\"Free\",\"Free\",\"Free\",\"Free\",\"Free\",\"Free\",\"Free\",\"Free\",\"Free\",\"Free\",\"Free\",\"Free\",\"Free\",\"Free\",\"Free\",\"Free\",\"Free\",\"Free\",\"Free\",\"Free\",\"Free\",\"Free\",\"Free\",\"Free\",\"Free\",\"Free\",\"Free\",\"Free\",\"Free\",\"Free\",\"Free\",\"Free\",\"Free\",\"Free\",\"Free\",\"Free\",\"Free\",\"Free\",\"Free\",\"Free\",\"Free\",\"Free\",\"Free\",\"Free\",\"Free\",\"Free\",\"Free\",\"Free\",\"Free\",\"Free\",\"Free\",\"Free\",\"Free\",\"Free\",\"Free\",\"Free\",\"Free\",\"Free\",\"Free\",\"Free\",\"Free\",\"Free\",\"Free\",\"Free\",\"Free\",\"Free\",\"Free\",\"Free\",\"Free\",\"Free\",\"Free\",\"Free\",\"Free\",\"Free\",\"Free\",\"Free\",\"Free\",\"Free\",\"Free\",\"Free\",\"Free\",\"Free\",\"Free\",\"Free\",\"Free\",\"Free\",\"Free\",\"Free\",\"Free\",\"Free\",\"Free\",\"Free\",\"Free\",\"Free\",\"Free\",\"Free\",\"Free\",\"Free\",\"Free\",\"Free\",\"Free\",\"Free\",\"Free\",\"Free\",\"Free\",\"Free\",\"Free\",\"Free\",\"Free\",\"Free\",\"Free\",\"Free\",\"Free\",\"Free\",\"Free\",\"Free\",\"Free\",\"Free\",\"Free\",\"Free\",\"Free\",\"Free\",\"Free\",\"Free\",\"Free\",\"Free\",\"Free\",\"Free\",\"Free\",\"Free\",\"Free\",\"Free\",\"Free\",\"Free\",\"Free\",\"Free\",\"Free\",\"Free\",\"Free\",\"Free\",\"Free\",\"Free\",\"Free\",\"Free\",\"Free\",\"Free\",\"Free\",\"Free\",\"Free\",\"Free\",\"Free\",\"Free\",\"Free\",\"Free\",\"Free\",\"Free\",\"Free\",\"Free\",\"Free\",\"Free\",\"Free\",\"Free\",\"Free\",\"Free\",\"Free\",\"Free\",\"Free\",\"Free\",\"Free\",\"Free\",\"Free\",\"Free\",\"Free\",\"Free\",\"Free\",\"Free\",\"Free\",\"Free\",\"Free\",\"Free\",\"Free\",\"Free\",\"Free\",\"Free\",\"Free\",\"Free\",\"Free\",\"Free\",\"Free\",\"Free\",\"Free\",\"Free\",\"Free\",\"Free\",\"Free\",\"Free\",\"Free\",\"Free\",\"Free\",\"Free\",\"Free\",\"Free\",\"Free\",\"Free\",\"Free\",\"Free\",\"Free\",\"Free\",\"Free\",\"Free\",\"Free\",\"Free\",\"Free\",\"Free\",\"Free\",\"Free\",\"Free\",\"Free\",\"Free\",\"Free\",\"Free\",\"Free\",\"Free\",\"Free\",\"Free\",\"Free\",\"Free\",\"Free\",\"Free\",\"Free\",\"Free\",\"Free\",\"Free\",\"Free\",\"Free\",\"Free\",\"Free\",\"Free\",\"Free\",\"Free\",\"Free\",\"Free\",\"Free\",\"Free\",\"Free\",\"Free\",\"Free\",\"Free\",\"Free\",\"Free\",\"Free\",\"Free\",\"Free\",\"Free\",\"Free\",\"Free\",\"Free\",\"Free\",\"Free\",\"Free\",\"Free\",\"Free\",\"Free\",\"Free\",\"Free\",\"Free\",\"Free\",\"Free\",\"Free\",\"Free\",\"Free\",\"Free\",\"Free\",\"Free\",\"Free\",\"Free\",\"Free\",\"Free\",\"Free\",\"Free\",\"Free\",\"Free\",\"Free\",\"Free\",\"Free\",\"Free\",\"Free\",\"Free\",\"Free\",\"Free\",\"Free\",\"Free\",\"Free\",\"Free\",\"Free\",\"Free\",\"Free\",\"Free\",\"Free\",\"Free\",\"Free\",\"Free\",\"Free\",\"Free\",\"Free\",\"Free\",\"Free\",\"Free\",\"Free\",\"Free\",\"Free\",\"Free\",\"Free\",\"Free\",\"Free\",\"Free\",\"Free\",\"Free\",\"Free\",\"Free\",\"Free\",\"Free\",\"Free\",\"Free\",\"Free\",\"Free\",\"Free\",\"Free\",\"Free\",\"Free\",\"Free\",\"Free\",\"Free\",\"Free\",\"Free\",\"Free\",\"Free\",\"Free\",\"Free\",\"Free\",\"Free\",\"Free\",\"Free\",\"Free\",\"Free\",\"Free\",\"Free\",\"Free\",\"Free\",\"Free\",\"Free\",\"Free\",\"Free\",\"Free\",\"Free\",\"Free\",\"Free\",\"Free\",\"Free\",\"Free\",\"Free\",\"Free\",\"Free\",\"Free\",\"Free\",\"Free\",\"Free\",\"Free\",\"Free\",\"Free\",\"Free\",\"Free\",\"Free\",\"Free\",\"Free\",\"Free\",\"Free\",\"Free\",\"Free\",\"Free\",\"Free\",\"Free\",\"Free\",\"Free\",\"Free\",\"Free\",\"Free\",\"Free\",\"Free\",\"Free\",\"Free\",\"Free\",\"Free\",\"Free\",\"Free\",\"Free\",\"Free\",\"Free\",\"Free\",\"Free\",\"Free\",\"Free\",\"Free\",\"Free\",\"Free\",\"Free\",\"Free\",\"Free\",\"Free\",\"Free\",\"Free\",\"Free\",\"Free\",\"Free\",\"Free\",\"Free\",\"Free\",\"Free\",\"Free\",\"Free\",\"Free\",\"Free\",\"Free\",\"Free\",\"Free\",\"Free\",\"Free\",\"Free\",\"Free\",\"Free\",\"Free\",\"Free\",\"Free\",\"Free\",\"Free\",\"Free\",\"Free\",\"Free\",\"Free\",\"Free\",\"Free\",\"Free\",\"Free\",\"Free\",\"Free\",\"Free\",\"Free\",\"Free\",\"Free\",\"Free\",\"Free\",\"Free\",\"Free\",\"Free\",\"Free\",\"Free\",\"Free\",\"Free\",\"Free\",\"Free\",\"Free\",\"Free\",\"Free\",\"Free\",\"Free\",\"Free\",\"Free\",\"Free\",\"Free\",\"Free\",\"Free\",\"Free\",\"Free\",\"Free\",\"Free\",\"Free\",\"Free\",\"Free\",\"Free\",\"Free\",\"Free\",\"Free\",\"Free\",\"Free\",\"Free\",\"Free\",\"Free\",\"Free\",\"Free\",\"Free\",\"Free\",\"Free\",\"Free\",\"Free\",\"Free\",\"Free\",\"Free\",\"Free\",\"Free\",\"Free\",\"Free\",\"Free\",\"Free\",\"Free\",\"Free\",\"Free\",\"Free\",\"Free\",\"Free\",\"Free\",\"Free\",\"Free\",\"Free\",\"Free\",\"Free\",\"Free\",\"Free\",\"Free\",\"Free\",\"Free\",\"Free\",\"Free\",\"Free\",\"Free\",\"Free\",\"Free\",\"Free\",\"Free\",\"Free\",\"Free\",\"Free\",\"Free\",\"Free\",\"Free\",\"Free\",\"Free\",\"Free\",\"Free\",\"Free\",\"Free\",\"Free\",\"Free\",\"Free\",\"Free\",\"Free\",\"Free\",\"Free\",\"Free\",\"Free\",\"Free\",\"Free\",\"Free\",\"Free\",\"Free\",\"Free\",\"Free\",\"Free\",\"Free\",\"Free\",\"Free\",\"Free\",\"Free\",\"Free\",\"Free\",\"Free\",\"Free\",\"Free\",\"Free\",\"Free\",\"Free\",\"Free\",\"Free\",\"Free\",\"Free\",\"Free\",\"Free\",\"Free\",\"Free\",\"Free\",\"Free\",\"Free\",\"Free\",\"Free\",\"Free\",\"Free\",\"Free\",\"Free\",\"Free\",\"Free\",\"Free\",\"Free\",\"Free\",\"Free\",\"Free\",\"Free\",\"Free\",\"Free\",\"Free\",\"Free\",\"Free\",\"Free\",\"Free\",\"Free\",\"Free\",\"Free\",\"Free\",\"Free\",\"Free\",\"Free\",\"Free\",\"Free\",\"Free\",\"Free\",\"Free\",\"Free\",\"Free\",\"Free\",\"Free\",\"Free\",\"Free\",\"Free\",\"Free\",\"Free\",\"Free\",\"Free\",\"Free\",\"Free\",\"Free\",\"Free\",\"Free\",\"Free\",\"Free\",\"Free\",\"Free\",\"Free\",\"Free\",\"Free\",\"Free\",\"Free\",\"Free\",\"Free\",\"Free\",\"Free\",\"Free\",\"Free\",\"Free\",\"Free\",\"Free\",\"Free\",\"Free\",\"Free\",\"Free\",\"Free\",\"Free\",\"Free\",\"Free\",\"Free\",\"Free\",\"Free\",\"Free\",\"Free\",\"Free\",\"Free\",\"Free\",\"Free\",\"Free\",\"Free\",\"Free\",\"Free\",\"Free\",\"Free\",\"Free\",\"Free\",\"Free\",\"Free\",\"Free\",\"Free\",\"Free\",\"Free\",\"Free\",\"Free\",\"Free\",\"Free\",\"Free\",\"Free\",\"Free\",\"Free\",\"Free\",\"Free\",\"Free\",\"Free\",\"Free\",\"Free\",\"Free\",\"Free\",\"Free\",\"Free\",\"Free\",\"Free\",\"Free\",\"Free\",\"Free\",\"Free\",\"Free\",\"Free\",\"Free\",\"Free\",\"Free\",\"Free\",\"Free\",\"Free\",\"Free\",\"Free\",\"Free\",\"Free\",\"Free\",\"Free\",\"Free\",\"Free\",\"Free\",\"Free\",\"Free\",\"Free\",\"Free\",\"Free\",\"Free\",\"Free\",\"Free\",\"Free\",\"Free\",\"Free\",\"Free\",\"Free\",\"Free\",\"Free\",\"Free\",\"Free\",\"Free\",\"Free\",\"Free\",\"Free\",\"Free\",\"Free\",\"Free\",\"Free\",\"Free\",\"Free\",\"Free\",\"Free\",\"Free\",\"Free\",\"Free\",\"Free\",\"Free\",\"Free\",\"Free\",\"Free\",\"Free\",\"Free\",\"Free\",\"Free\",\"Free\",\"Free\",\"Free\",\"Free\",\"Free\",\"Free\",\"Free\",\"Free\",\"Free\",\"Free\",\"Free\",\"Free\",\"Free\",\"Free\",\"Free\",\"Free\",\"Free\",\"Free\",\"Free\",\"Free\",\"Free\",\"Free\",\"Free\",\"Free\",\"Free\",\"Free\",\"Free\",\"Free\",\"Free\",\"Free\",\"Free\",\"Free\",\"Free\",\"Free\",\"Free\",\"Free\",\"Free\",\"Free\",\"Free\",\"Free\",\"Free\",\"Free\",\"Free\",\"Free\",\"Free\",\"Free\",\"Free\",\"Free\",\"Free\",\"Free\",\"Free\",\"Free\",\"Free\",\"Free\",\"Free\",\"Free\",\"Free\",\"Free\",\"Free\",\"Free\",\"Free\",\"Free\",\"Free\",\"Free\",\"Free\",\"Free\",\"Free\",\"Free\",\"Free\",\"Free\",\"Free\",\"Free\",\"Free\",\"Free\",\"Free\",\"Free\",\"Free\",\"Free\",\"Free\",\"Free\",\"Free\",\"Free\",\"Free\",\"Free\",\"Free\",\"Free\",\"Free\",\"Free\",\"Free\",\"Free\",\"Free\",\"Free\",\"Free\",\"Free\",\"Free\",\"Free\",\"Free\",\"Free\",\"Free\",\"Free\",\"Free\",\"Free\",\"Free\",\"Free\",\"Free\",\"Free\",\"Free\",\"Free\",\"Free\",\"Free\",\"Free\",\"Free\",\"Free\",\"Free\",\"Free\",\"Free\",\"Free\",\"Free\",\"Free\",\"Free\",\"Free\",\"Free\",\"Free\",\"Free\",\"Free\",\"Free\",\"Free\",\"Free\",\"Free\",\"Free\",\"Free\",\"Free\",\"Free\",\"Free\",\"Free\",\"Free\",\"Free\",\"Free\",\"Free\",\"Free\",\"Free\",\"Free\",\"Free\",\"Free\",\"Free\",\"Free\",\"Free\",\"Free\",\"Free\",\"Free\",\"Free\",\"Free\",\"Free\",\"Free\",\"Free\",\"Free\",\"Free\",\"Free\",\"Free\",\"Free\",\"Free\",\"Free\",\"Free\",\"Free\",\"Free\",\"Free\",\"Free\",\"Free\",\"Free\",\"Free\",\"Free\",\"Free\",\"Free\",\"Free\",\"Free\",\"Free\",\"Free\",\"Free\",\"Free\",\"Free\",\"Free\",\"Free\",\"Free\",\"Free\",\"Free\",\"Free\",\"Free\",\"Free\",\"Free\",\"Free\",\"Free\",\"Free\",\"Free\",\"Free\",\"Free\",\"Free\",\"Free\",\"Free\",\"Free\",\"Free\",\"Free\",\"Free\",\"Free\",\"Free\",\"Free\",\"Free\",\"Free\",\"Free\",\"Free\",\"Free\",\"Free\",\"Free\",\"Free\",\"Free\",\"Free\",\"Free\",\"Free\",\"Free\",\"Free\",\"Free\",\"Free\",\"Free\",\"Free\",\"Free\",\"Free\",\"Free\",\"Free\",\"Free\",\"Free\",\"Free\",\"Free\",\"Free\",\"Free\",\"Free\",\"Free\",\"Free\",\"Free\",\"Free\",\"Free\",\"Free\",\"Free\",\"Free\",\"Free\",\"Free\",\"Free\",\"Free\",\"Free\",\"Free\",\"Free\",\"Free\",\"Free\",\"Free\",\"Free\",\"Free\",\"Free\",\"Free\",\"Free\",\"Free\",\"Free\",\"Free\",\"Free\",\"Free\",\"Free\",\"Free\",\"Free\",\"Free\",\"Free\",\"Free\",\"Free\",\"Free\",\"Free\",\"Free\",\"Free\",\"Free\",\"Free\",\"Free\",\"Free\",\"Free\",\"Free\",\"Free\",\"Free\",\"Free\",\"Free\",\"Free\",\"Free\",\"Free\",\"Free\",\"Free\",\"Free\",\"Free\",\"Free\",\"Free\",\"Free\",\"Free\",\"Free\",\"Free\",\"Free\",\"Free\",\"Free\",\"Free\",\"Free\",\"Free\",\"Free\",\"Free\",\"Free\",\"Free\",\"Free\",\"Free\",\"Free\",\"Free\",\"Free\",\"Free\",\"Free\",\"Free\",\"Free\",\"Free\",\"Free\",\"Free\",\"Free\",\"Free\",\"Free\",\"Free\",\"Free\",\"Free\",\"Free\",\"Free\",\"Free\",\"Free\",\"Free\",\"Free\",\"Free\",\"Free\",\"Free\",\"Free\",\"Free\",\"Free\",\"Free\",\"Free\",\"Free\",\"Free\",\"Free\",\"Free\",\"Free\",\"Free\",\"Free\",\"Free\",\"Free\",\"Free\",\"Free\",\"Free\",\"Free\",\"Free\",\"Free\",\"Free\",\"Free\",\"Free\",\"Free\",\"Free\",\"Free\",\"Free\",\"Free\",\"Free\",\"Free\",\"Free\",\"Free\",\"Free\",\"Free\",\"Free\",\"Free\",\"Free\",\"Free\",\"Free\",\"Free\",\"Free\",\"Free\",\"Free\",\"Free\",\"Free\",\"Free\",\"Free\",\"Free\",\"Free\",\"Free\",\"Free\",\"Free\",\"Free\",\"Free\",\"Free\",\"Free\",\"Free\",\"Free\",\"Free\",\"Free\",\"Free\",\"Free\",\"Free\",\"Free\",\"Free\",\"Free\",\"Free\",\"Free\",\"Free\",\"Free\",\"Free\",\"Free\",\"Free\",\"Free\",\"Free\",\"Free\",\"Free\",\"Free\",\"Free\",\"Free\",\"Free\",\"Free\",\"Free\",\"Free\",\"Free\",\"Free\",\"Free\",\"Free\",\"Free\",\"Free\",\"Free\",\"Free\",\"Free\",\"Free\",\"Free\",\"Free\",\"Free\",\"Free\",\"Free\",\"Free\",\"Free\",\"Free\",\"Free\",\"Free\",\"Free\",\"Free\",\"Free\",\"Free\",\"Free\",\"Free\",\"Free\",\"Free\",\"Free\",\"Free\",\"Free\",\"Free\",\"Free\",\"Free\",\"Free\",\"Free\",\"Free\",\"Free\",\"Free\",\"Free\",\"Free\",\"Free\",\"Free\",\"Free\",\"Free\",\"Free\",\"Free\",\"Free\",\"Free\",\"Free\",\"Free\",\"Free\",\"Free\",\"Free\",\"Free\",\"Free\",\"Free\",\"Free\",\"Free\",\"Free\",\"Free\",\"Free\",\"Free\",\"Free\",\"Free\",\"Free\",\"Free\",\"Free\",\"Free\",\"Free\",\"Free\",\"Free\",\"Free\",\"Free\",\"Free\",\"Free\",\"Free\",\"Free\",\"Free\",\"Free\",\"Free\",\"Free\",\"Free\",\"Free\",\"Free\",\"Free\",\"Free\",\"Free\",\"Free\",\"Free\",\"Free\",\"Free\",\"Free\",\"Free\",\"Free\",\"Free\",\"Free\",\"Free\",\"Free\",\"Free\",\"Free\",\"Free\",\"Free\",\"Free\",\"Free\",\"Free\",\"Free\",\"Free\",\"Free\",\"Free\",\"Free\",\"Free\",\"Free\",\"Free\",\"Free\",\"Free\",\"Free\",\"Free\",\"Free\",\"Free\",\"Free\",\"Free\",\"Free\",\"Free\",\"Free\",\"Free\",\"Free\",\"Free\",\"Free\",\"Free\",\"Free\",\"Free\",\"Free\",\"Free\",\"Free\",\"Free\",\"Free\",\"Free\",\"Free\",\"Free\",\"Free\",\"Free\",\"Free\",\"Free\",\"Free\",\"Free\",\"Free\",\"Free\",\"Free\",\"Free\",\"Free\",\"Free\",\"Free\",\"Free\",\"Free\",\"Free\",\"Free\",\"Free\",\"Free\",\"Free\",\"Free\",\"Free\",\"Free\",\"Free\",\"Free\",\"Free\",\"Free\",\"Free\",\"Free\",\"Free\",\"Free\",\"Free\",\"Free\",\"Free\",\"Free\",\"Free\",\"Free\",\"Free\",\"Free\",\"Free\",\"Free\",\"Free\",\"Free\",\"Free\",\"Free\",\"Free\",\"Free\",\"Free\",\"Free\",\"Free\",\"Free\",\"Free\",\"Free\",\"Free\",\"Free\",\"Free\",\"Free\",\"Free\",\"Free\",\"Free\",\"Free\",\"Free\",\"Free\",\"Free\",\"Free\",\"Free\",\"Free\",\"Free\",\"Free\",\"Free\",\"Free\",\"Free\",\"Free\",\"Free\",\"Free\",\"Free\",\"Free\",\"Free\",\"Free\",\"Free\",\"Free\",\"Free\",\"Free\",\"Free\",\"Free\",\"Free\",\"Free\",\"Free\",\"Free\",\"Free\",\"Free\",\"Free\",\"Free\",\"Free\",\"Free\",\"Free\",\"Free\",\"Free\",\"Free\",\"Free\",\"Free\",\"Free\",\"Free\",\"Free\",\"Free\",\"Free\",\"Free\",\"Free\",\"Free\",\"Free\",\"Free\",\"Free\",\"Free\",\"Free\",\"Free\",\"Free\",\"Free\",\"Free\",\"Free\",\"Free\",\"Free\",\"Free\",\"Free\",\"Free\",\"Free\",\"Free\",\"Free\",\"Free\",\"Free\",\"Free\",\"Free\",\"Free\",\"Free\",\"Free\",\"Free\",\"Free\",\"Free\",\"Free\",\"Free\",\"Free\",\"Free\",\"Free\",\"Free\",\"Free\",\"Free\",\"Free\",\"Free\",\"Free\",\"Free\",\"Free\",\"Free\",\"Free\",\"Free\",\"Free\",\"Free\",\"Free\",\"Free\",\"Free\",\"Free\",\"Free\",\"Free\",\"Free\",\"Free\",\"Free\",\"Free\",\"Free\",\"Free\",\"Free\",\"Free\",\"Free\",\"Free\",\"Free\",\"Free\",\"Free\",\"Free\",\"Free\",\"Free\",\"Free\",\"Free\",\"Free\",\"Free\",\"Free\",\"Free\",\"Free\",\"Free\",\"Free\",\"Free\",\"Free\",\"Free\",\"Free\",\"Free\",\"Free\",\"Free\",\"Free\",\"Free\",\"Free\",\"Free\",\"Free\",\"Free\",\"Free\",\"Free\",\"Free\",\"Free\",\"Free\",\"Free\",\"Free\",\"Free\",\"Free\",\"Free\",\"Free\",\"Free\",\"Free\",\"Free\",\"Free\",\"Free\",\"Free\",\"Free\",\"Free\",\"Free\",\"Free\",\"Free\",\"Free\",\"Free\",\"Free\",\"Free\",\"Free\",\"Free\",\"Free\",\"Free\",\"Free\",\"Free\",\"Free\",\"Free\",\"Free\",\"Free\",\"Free\",\"Free\",\"Free\",\"Free\",\"Free\",\"Free\",\"Free\",\"Free\",\"Free\",\"Free\",\"Free\",\"Free\",\"Free\",\"Free\",\"Free\",\"Free\",\"Free\",\"Free\",\"Free\",\"Free\",\"Free\",\"Free\",\"Free\",\"Free\",\"Free\",\"Free\",\"Free\",\"Free\",\"Free\",\"Free\",\"Free\",\"Free\",\"Free\",\"Free\",\"Free\",\"Free\",\"Free\",\"Free\",\"Free\",\"Free\",\"Free\",\"Free\",\"Free\",\"Free\",\"Free\",\"Free\",\"Free\",\"Free\",\"Free\",\"Free\",\"Free\",\"Free\",\"Free\",\"Free\",\"Free\",\"Free\",\"Free\",\"Free\",\"Free\",\"Free\",\"Free\",\"Free\",\"Free\",\"Free\",\"Free\",\"Free\",\"Free\",\"Free\",\"Free\",\"Free\",\"Free\",\"Free\",\"Free\",\"Free\",\"Free\",\"Free\",\"Free\",\"Free\",\"Free\",\"Free\",\"Free\",\"Free\",\"Free\",\"Free\",\"Free\",\"Free\",\"Free\",\"Free\",\"Free\",\"Free\",\"Free\",\"Free\",\"Free\",\"Free\",\"Free\",\"Free\",\"Free\",\"Free\",\"Free\",\"Free\",\"Free\",\"Free\",\"Free\",\"Free\",\"Free\",\"Free\",\"Free\",\"Free\",\"Free\",\"Free\",\"Free\",\"Free\",\"Free\",\"Free\",\"Free\",\"Free\",\"Free\",\"Free\",\"Free\",\"Free\",\"Free\",\"Free\",\"Free\",\"Free\",\"Free\",\"Free\",\"Free\",\"Free\",\"Free\",\"Free\",\"Free\",\"Free\",\"Free\",\"Free\",\"Free\",\"Free\",\"Free\",\"Free\",\"Free\",\"Free\",\"Free\",\"Free\",\"Free\",\"Free\",\"Free\",\"Free\",\"Free\",\"Free\",\"Free\",\"Free\",\"Free\",\"Free\",\"Free\",\"Free\",\"Free\",\"Free\",\"Free\",\"Free\",\"Free\",\"Free\",\"Free\",\"Free\",\"Free\",\"Free\",\"Free\",\"Free\",\"Free\",\"Free\",\"Free\",\"Free\",\"Free\",\"Free\",\"Free\",\"Free\",\"Free\",\"Free\",\"Free\",\"Free\",\"Free\",\"Free\",\"Free\",\"Free\",\"Free\",\"Free\",\"Free\",\"Free\",\"Free\",\"Free\",\"Free\",\"Free\",\"Free\",\"Free\",\"Free\",\"Free\",\"Free\",\"Free\",\"Free\",\"Free\",\"Free\",\"Free\",\"Free\",\"Free\",\"Free\",\"Free\",\"Free\",\"Free\",\"Free\",\"Free\",\"Free\",\"Free\",\"Free\",\"Free\",\"Free\",\"Free\",\"Free\",\"Free\",\"Free\",\"Free\",\"Free\",\"Free\",\"Free\",\"Free\",\"Free\",\"Free\",\"Free\",\"Free\",\"Free\",\"Free\",\"Free\",\"Free\",\"Free\",\"Free\",\"Free\",\"Free\",\"Free\",\"Free\",\"Free\",\"Free\",\"Free\",\"Free\",\"Free\",\"Free\",\"Free\",\"Free\",\"Free\",\"Free\",\"Free\",\"Free\",\"Free\",\"Free\",\"Free\",\"Free\",\"Free\",\"Free\",\"Free\",\"Free\",\"Free\",\"Free\",\"Free\",\"Free\",\"Free\",\"Free\",\"Free\",\"Free\",\"Free\",\"Free\",\"Free\",\"Free\",\"Free\",\"Free\",\"Free\",\"Free\",\"Free\",\"Free\",\"Free\",\"Free\",\"Free\",\"Free\",\"Free\",\"Free\",\"Free\",\"Free\",\"Free\",\"Free\",\"Free\",\"Free\",\"Free\",\"Free\",\"Free\",\"Free\",\"Free\",\"Free\",\"Free\",\"Free\",\"Free\",\"Free\",\"Free\",\"Free\",\"Free\",\"Free\",\"Free\",\"Free\",\"Free\",\"Free\",\"Free\",\"Free\",\"Free\",\"Free\",\"Free\",\"Free\",\"Free\",\"Free\",\"Free\",\"Free\",\"Free\",\"Free\",\"Free\",\"Free\",\"Free\",\"Free\",\"Free\",\"Free\",\"Free\",\"Free\",\"Free\",\"Free\",\"Free\",\"Free\",\"Free\",\"Free\",\"Free\",\"Free\",\"Free\",\"Free\",\"Free\",\"Free\",\"Free\",\"Free\",\"Free\",\"Free\",\"Free\",\"Free\",\"Free\",\"Free\",\"Free\",\"Free\",\"Free\",\"Free\",\"Free\",\"Free\",\"Free\",\"Free\",\"Free\",\"Free\",\"Free\",\"Free\",\"Free\",\"Free\",\"Free\",\"Free\",\"Free\",\"Free\",\"Free\",\"Free\",\"Free\",\"Free\",\"Free\",\"Free\",\"Free\",\"Free\",\"Free\",\"Free\",\"Free\",\"Free\",\"Free\",\"Free\",\"Free\",\"Free\",\"Free\",\"Free\",\"Free\",\"Free\",\"Free\",\"Free\",\"Free\",\"Free\",\"Free\",\"Free\",\"Free\",\"Free\",\"Free\",\"Free\",\"Free\",\"Free\",\"Free\",\"Free\",\"Free\",\"Free\",\"Free\",\"Free\",\"Free\",\"Free\",\"Free\",\"Free\",\"Free\",\"Free\",\"Free\",\"Free\",\"Free\",\"Free\",\"Free\",\"Free\",\"Free\",\"Free\",\"Free\",\"Free\",\"Free\",\"Free\",\"Free\",\"Free\",\"Free\",\"Free\",\"Free\",\"Free\",\"Free\",\"Free\",\"Free\",\"Free\",\"Free\",\"Free\",\"Free\",\"Free\",\"Free\",\"Free\",\"Free\",\"Free\",\"Free\",\"Free\",\"Free\",\"Free\",\"Free\",\"Free\",\"Free\",\"Free\",\"Free\",\"Free\",\"Free\",\"Free\",\"Free\",\"Free\",\"Free\",\"Free\",\"Free\",\"Free\",\"Free\",\"Free\",\"Free\",\"Free\",\"Free\",\"Free\",\"Free\",\"Free\",\"Free\",\"Free\",\"Free\",\"Free\",\"Free\",\"Free\",\"Free\",\"Free\",\"Free\",\"Free\",\"Free\",\"Free\",\"Free\",\"Free\",\"Free\",\"Free\",\"Free\",\"Free\",\"Free\",\"Free\",\"Free\",\"Free\",\"Free\",\"Free\",\"Free\",\"Free\",\"Free\",\"Free\",\"Free\",\"Free\",\"Free\",\"Free\",\"Free\",\"Free\",\"Free\",\"Free\",\"Free\",\"Free\",\"Free\",\"Free\",\"Free\",\"Free\",\"Free\",\"Free\",\"Free\",\"Free\",\"Free\",\"Free\",\"Free\",\"Free\",\"Free\",\"Free\",\"Free\",\"Free\",\"Free\",\"Free\",\"Free\",\"Free\",\"Free\",\"Free\",\"Free\",\"Free\",\"Free\",\"Free\",\"Free\",\"Free\",\"Free\",\"Free\",\"Free\",\"Free\",\"Free\",\"Free\",\"Free\",\"Free\",\"Free\",\"Free\",\"Free\",\"Free\",\"Free\",\"Free\",\"Free\",\"Free\",\"Free\",\"Free\",\"Free\",\"Free\",\"Free\",\"Free\",\"Free\",\"Free\",\"Free\",\"Free\",\"Free\",\"Free\",\"Free\",\"Free\",\"Free\",\"Free\",\"Free\",\"Free\",\"Free\",\"Free\",\"Free\",\"Free\",\"Free\",\"Free\",\"Free\",\"Free\",\"Free\",\"Free\",\"Free\",\"Free\",\"Free\",\"Free\",\"Free\",\"Free\",\"Free\",\"Free\",\"Free\",\"Free\",\"Free\",\"Free\",\"Free\",\"Free\",\"Free\",\"Free\",\"Free\",\"Free\",\"Free\",\"Free\",\"Free\",\"Free\",\"Free\",\"Free\",\"Free\",\"Free\",\"Free\",\"Free\",\"Free\",\"Free\",\"Free\",\"Free\",\"Free\",\"Free\",\"Free\",\"Free\",\"Free\",\"Free\",\"Free\",\"Free\",\"Free\",\"Free\",\"Free\",\"Free\",\"Free\",\"Free\",\"Free\",\"Free\",\"Free\",\"Free\",\"Free\",\"Free\",\"Free\",\"Free\",\"Free\",\"Free\",\"Free\",\"Free\",\"Free\",\"Free\",\"Free\",\"Free\",\"Free\",\"Free\",\"Free\",\"Free\",\"Free\",\"Free\",\"Free\",\"Free\",\"Free\",\"Free\",\"Free\",\"Free\",\"Free\",\"Free\",\"Free\",\"Free\",\"Free\",\"Free\",\"Free\",\"Free\",\"Free\",\"Free\",\"Free\",\"Free\",\"Free\",\"Free\",\"Free\",\"Free\",\"Free\",\"Free\",\"Free\",\"Free\",\"Free\",\"Free\",\"Free\",\"Free\",\"Free\",\"Free\",\"Free\",\"Free\",\"Free\",\"Free\",\"Free\",\"Free\",\"Free\",\"Free\",\"Free\",\"Free\",\"Free\",\"Free\",\"Free\",\"Free\",\"Free\",\"Free\",\"Free\",\"Free\",\"Free\",\"Free\",\"Free\",\"Free\",\"Free\",\"Free\",\"Free\",\"Free\",\"Free\",\"Free\",\"Free\",\"Free\",\"Free\",\"Free\",\"Free\",\"Free\",\"Free\",\"Free\",\"Free\",\"Free\",\"Free\",\"Free\",\"Free\",\"Free\",\"Free\",\"Free\",\"Free\",\"Free\",\"Free\",\"Free\",\"Free\",\"Free\",\"Free\",\"Free\",\"Free\",\"Free\",\"Free\",\"Free\",\"Free\",\"Free\",\"Free\",\"Free\",\"Free\",\"Free\",\"Free\",\"Free\",\"Free\",\"Free\",\"Free\",\"Free\",\"Free\",\"Free\",\"Free\",\"Free\",\"Free\",\"Free\",\"Free\",\"Free\",\"Free\",\"Free\",\"Free\",\"Free\",\"Free\",\"Free\",\"Free\",\"Free\",\"Free\",\"Free\",\"Free\",\"Free\",\"Free\",\"Free\",\"Free\",\"Free\",\"Free\",\"Free\",\"Free\",\"Free\",\"Free\",\"Free\",\"Free\",\"Free\",\"Free\",\"Free\",\"Free\",\"Free\",\"Free\",\"Free\",\"Free\",\"Free\",\"Free\",\"Free\",\"Free\",\"Free\",\"Free\",\"Free\",\"Free\",\"Free\",\"Free\",\"Free\",\"Free\",\"Free\",\"Free\",\"Free\",\"Free\",\"Free\",\"Free\",\"Free\",\"Free\",\"Free\",\"Free\",\"Free\",\"Free\",\"Free\",\"Free\",\"Free\",\"Free\",\"Free\",\"Free\",\"Free\",\"Free\",\"Free\",\"Free\",\"Free\",\"Free\",\"Free\",\"Free\",\"Free\",\"Free\",\"Free\",\"Free\",\"Free\",\"Free\",\"Free\",\"Free\",\"Free\",\"Free\",\"Free\",\"Free\",\"Free\",\"Free\",\"Free\",\"Free\",\"Free\",\"Free\",\"Free\",\"Free\",\"Free\",\"Free\",\"Free\",\"Free\",\"Free\",\"Free\",\"Free\",\"Free\",\"Free\",\"Free\",\"Free\",\"Free\",\"Free\",\"Free\",\"Free\",\"Free\",\"Free\",\"Free\",\"Free\",\"Free\",\"Free\",\"Free\",\"Free\",\"Free\",\"Free\",\"Free\",\"Free\",\"Free\",\"Free\",\"Free\",\"Free\",\"Free\",\"Free\",\"Free\",\"Free\",\"Free\",\"Free\",\"Free\",\"Free\",\"Free\",\"Free\",\"Free\",\"Free\",\"Free\",\"Free\",\"Free\",\"Free\",\"Free\",\"Free\",\"Free\",\"Free\",\"Free\",\"Free\",\"Free\",\"Free\",\"Free\",\"Free\",\"Free\",\"Free\",\"Free\",\"Free\",\"Free\",\"Free\",\"Free\",\"Free\",\"Free\",\"Free\",\"Free\",\"Free\",\"Free\",\"Free\",\"Free\",\"Free\",\"Free\",\"Free\",\"Free\",\"Free\",\"Free\",\"Free\",\"Free\",\"Free\",\"Free\",\"Free\",\"Free\",\"Free\",\"Free\",\"Free\",\"Free\",\"Free\",\"Free\",\"Free\",\"Free\",\"Free\",\"Free\",\"Free\",\"Free\",\"Free\",\"Free\",\"Free\",\"Free\",\"Free\",\"Free\",\"Free\",\"Free\",\"Free\",\"Free\",\"Free\",\"Free\",\"Free\",\"Free\",\"Free\",\"Free\",\"Free\",\"Free\",\"Free\",\"Free\",\"Free\",\"Free\",\"Free\",\"Free\",\"Free\",\"Free\",\"Free\",\"Free\",\"Free\",\"Free\",\"Free\",\"Free\",\"Free\",\"Free\",\"Free\",\"Free\",\"Free\",\"Free\",\"Free\",\"Free\",\"Free\",\"Free\",\"Free\",\"Free\",\"Free\",\"Free\",\"Free\",\"Free\",\"Free\",\"Free\",\"Free\",\"Free\",\"Free\",\"Free\",\"Free\",\"Free\",\"Free\",\"Free\",\"Free\",\"Free\",\"Free\",\"Free\",\"Free\",\"Free\",\"Free\",\"Free\",\"Free\",\"Free\",\"Free\",\"Free\",\"Free\",\"Free\",\"Free\",\"Free\",\"Free\",\"Free\",\"Free\",\"Free\",\"Free\",\"Free\",\"Free\",\"Free\",\"Free\",\"Free\",\"Free\",\"Free\",\"Free\",\"Free\",\"Free\",\"Free\",\"Free\",\"Free\",\"Free\",\"Free\",\"Free\"],\"x0\":\" \",\"xaxis\":\"x\",\"y\":[1,5,5,5,5,5,5,5,5,5,10,10,10,10,10,10,10,10,10,10,10,10,10,10,10,10,10,10,10,10,10,10,10,10,10,10,10,10,10,10,10,10,10,10,10,10,10,10,10,10,10,10,10,10,10,10,10,10,10,10,10,50,50,50,50,50,50,50,50,50,50,50,50,50,50,50,50,50,50,50,50,50,50,50,50,50,50,50,50,50,50,50,50,50,50,50,50,50,50,50,50,50,50,100,100,100,100,100,100,100,100,100,100,100,100,100,100,100,100,100,100,100,100,100,100,100,100,100,100,100,100,100,100,100,100,100,100,100,100,100,100,100,100,100,100,100,100,100,100,100,100,100,100,100,100,100,100,100,100,100,100,100,100,100,100,100,100,100,100,100,100,100,100,100,100,100,100,100,100,100,100,100,100,100,100,100,100,100,100,100,100,100,100,100,100,100,100,100,100,100,100,100,100,100,100,100,100,100,100,100,100,100,100,100,100,100,100,100,100,100,100,100,100,100,100,100,100,100,100,100,100,100,100,100,100,100,100,100,100,100,100,100,100,100,100,100,100,100,100,100,100,100,100,100,100,100,100,100,100,100,100,100,100,100,100,100,100,100,100,100,100,100,100,100,100,100,100,100,100,100,100,100,100,100,100,100,100,100,100,100,100,100,100,100,100,100,100,100,100,100,100,100,100,100,100,100,100,100,100,100,100,100,100,100,100,100,100,100,100,100,100,100,100,100,100,100,100,100,100,100,100,100,100,100,100,100,100,100,100,100,500,500,500,500,500,500,500,500,500,500,500,500,500,500,500,500,500,500,500,500,500,500,500,500,500,500,500,500,500,500,500,500,500,500,500,500,500,500,500,500,500,500,500,500,500,500,500,500,500,500,500,500,500,500,500,500,500,500,500,500,500,500,500,500,500,500,500,500,500,500,500,500,500,500,500,500,500,500,500,500,500,500,500,500,500,500,500,500,500,500,500,500,500,500,500,500,500,500,500,500,500,500,500,500,500,500,500,500,500,500,500,500,500,500,500,500,500,500,500,500,500,500,500,500,500,500,500,500,500,500,500,500,500,500,500,500,500,500,500,500,500,500,500,500,500,500,500,500,500,500,500,500,500,500,500,500,500,500,500,500,500,500,500,1000,1000,1000,1000,1000,1000,1000,1000,1000,1000,1000,1000,1000,1000,1000,1000,1000,1000,1000,1000,1000,1000,1000,1000,1000,1000,1000,1000,1000,1000,1000,1000,1000,1000,1000,1000,1000,1000,1000,1000,1000,1000,1000,1000,1000,1000,1000,1000,1000,1000,1000,1000,1000,1000,1000,1000,1000,1000,1000,1000,1000,1000,1000,1000,1000,1000,1000,1000,1000,1000,1000,1000,1000,1000,1000,1000,1000,1000,1000,1000,1000,1000,1000,1000,1000,1000,1000,1000,1000,1000,1000,1000,1000,1000,1000,1000,1000,1000,1000,1000,1000,1000,1000,1000,1000,1000,1000,1000,1000,1000,1000,1000,1000,1000,1000,1000,1000,1000,1000,1000,1000,1000,1000,1000,1000,1000,1000,1000,1000,1000,1000,1000,1000,1000,1000,1000,1000,1000,1000,1000,1000,1000,1000,1000,1000,1000,1000,1000,1000,1000,1000,1000,1000,1000,1000,1000,1000,1000,1000,1000,1000,1000,1000,1000,1000,1000,1000,1000,1000,1000,1000,1000,1000,1000,1000,1000,1000,1000,1000,1000,1000,1000,1000,1000,1000,1000,1000,1000,1000,1000,1000,1000,1000,1000,1000,1000,1000,1000,1000,1000,1000,1000,1000,1000,1000,1000,1000,1000,1000,1000,1000,1000,1000,1000,1000,1000,1000,1000,1000,1000,1000,1000,1000,1000,1000,1000,1000,1000,1000,1000,1000,1000,1000,1000,1000,1000,1000,1000,1000,1000,1000,1000,1000,1000,1000,1000,1000,1000,1000,1000,1000,1000,1000,1000,1000,1000,1000,1000,1000,1000,1000,1000,1000,1000,1000,1000,1000,1000,1000,1000,1000,1000,1000,1000,1000,1000,1000,1000,1000,1000,1000,1000,1000,1000,1000,1000,1000,1000,1000,1000,1000,1000,1000,1000,1000,1000,1000,1000,1000,1000,1000,1000,1000,1000,1000,1000,1000,1000,1000,1000,1000,1000,1000,1000,1000,1000,1000,1000,1000,1000,1000,1000,1000,1000,1000,1000,1000,1000,1000,1000,1000,1000,1000,1000,1000,1000,1000,1000,1000,1000,1000,1000,1000,1000,1000,1000,1000,1000,1000,1000,1000,1000,1000,1000,1000,1000,1000,1000,1000,1000,1000,1000,1000,1000,1000,1000,1000,1000,1000,1000,1000,1000,1000,1000,1000,1000,1000,1000,1000,1000,1000,1000,1000,1000,1000,1000,1000,1000,1000,1000,1000,1000,1000,1000,1000,1000,1000,1000,1000,1000,1000,1000,1000,1000,1000,1000,1000,1000,1000,1000,1000,1000,1000,1000,1000,1000,1000,1000,1000,1000,1000,1000,1000,1000,1000,1000,1000,1000,1000,1000,1000,1000,1000,1000,1000,1000,1000,1000,1000,1000,1000,1000,1000,1000,1000,1000,1000,1000,1000,1000,1000,1000,1000,1000,1000,1000,1000,1000,1000,1000,1000,1000,1000,1000,1000,1000,1000,1000,1000,1000,1000,1000,1000,1000,1000,1000,1000,1000,1000,1000,1000,1000,1000,1000,1000,1000,1000,1000,1000,1000,1000,1000,1000,1000,1000,1000,1000,1000,1000,1000,1000,1000,1000,1000,1000,1000,1000,1000,1000,1000,1000,1000,1000,1000,1000,1000,1000,1000,1000,1000,1000,1000,1000,1000,1000,1000,1000,1000,1000,1000,1000,1000,1000,1000,1000,1000,1000,1000,1000,1000,1000,1000,1000,1000,1000,1000,1000,1000,1000,1000,1000,1000,1000,1000,1000,1000,1000,1000,1000,1000,1000,1000,1000,1000,1000,1000,1000,5000,5000,5000,5000,5000,5000,5000,5000,5000,5000,5000,5000,5000,5000,5000,5000,5000,5000,5000,5000,5000,5000,5000,5000,5000,5000,5000,5000,5000,5000,5000,5000,5000,5000,5000,5000,5000,5000,5000,5000,5000,5000,5000,5000,5000,5000,5000,5000,5000,5000,5000,5000,5000,5000,5000,5000,5000,5000,5000,5000,5000,5000,5000,5000,5000,5000,5000,5000,5000,5000,5000,5000,5000,5000,5000,5000,5000,5000,5000,5000,5000,5000,5000,5000,5000,5000,5000,5000,5000,5000,5000,5000,5000,5000,5000,5000,5000,5000,5000,5000,5000,5000,5000,5000,5000,5000,5000,5000,5000,5000,5000,5000,5000,5000,5000,5000,5000,5000,5000,5000,5000,5000,5000,5000,5000,5000,5000,5000,5000,5000,5000,5000,5000,5000,5000,5000,5000,5000,5000,5000,5000,5000,5000,5000,5000,5000,5000,5000,5000,5000,5000,5000,5000,5000,5000,5000,5000,5000,5000,5000,5000,5000,5000,5000,5000,5000,5000,5000,5000,5000,5000,5000,5000,5000,5000,5000,5000,5000,5000,5000,5000,5000,5000,5000,5000,5000,5000,5000,5000,5000,5000,5000,5000,5000,5000,5000,5000,5000,5000,5000,5000,5000,5000,5000,5000,5000,5000,5000,5000,5000,5000,5000,5000,5000,5000,5000,5000,5000,5000,5000,5000,5000,5000,5000,5000,5000,5000,5000,5000,5000,5000,5000,5000,5000,5000,5000,5000,5000,5000,5000,5000,5000,5000,5000,5000,5000,5000,5000,5000,5000,5000,5000,5000,5000,5000,5000,5000,5000,5000,5000,5000,5000,5000,5000,5000,5000,5000,5000,5000,5000,5000,5000,5000,5000,5000,5000,5000,5000,5000,5000,5000,5000,5000,5000,5000,5000,5000,5000,5000,5000,5000,5000,5000,5000,5000,5000,5000,5000,5000,5000,5000,5000,5000,5000,5000,5000,5000,5000,5000,5000,5000,5000,5000,5000,5000,5000,5000,5000,5000,5000,5000,5000,5000,5000,5000,5000,5000,5000,5000,5000,5000,5000,5000,5000,5000,5000,5000,5000,5000,5000,5000,5000,5000,5000,5000,5000,5000,5000,5000,5000,5000,5000,5000,5000,5000,5000,5000,5000,5000,5000,10000,10000,10000,10000,10000,10000,10000,10000,10000,10000,10000,10000,10000,10000,10000,10000,10000,10000,10000,10000,10000,10000,10000,10000,10000,10000,10000,10000,10000,10000,10000,10000,10000,10000,10000,10000,10000,10000,10000,10000,10000,10000,10000,10000,10000,10000,10000,10000,10000,10000,10000,10000,10000,10000,10000,10000,10000,10000,10000,10000,10000,10000,10000,10000,10000,10000,10000,10000,10000,10000,10000,10000,10000,10000,10000,10000,10000,10000,10000,10000,10000,10000,10000,10000,10000,10000,10000,10000,10000,10000,10000,10000,10000,10000,10000,10000,10000,10000,10000,10000,10000,10000,10000,10000,10000,10000,10000,10000,10000,10000,10000,10000,10000,10000,10000,10000,10000,10000,10000,10000,10000,10000,10000,10000,10000,10000,10000,10000,10000,10000,10000,10000,10000,10000,10000,10000,10000,10000,10000,10000,10000,10000,10000,10000,10000,10000,10000,10000,10000,10000,10000,10000,10000,10000,10000,10000,10000,10000,10000,10000,10000,10000,10000,10000,10000,10000,10000,10000,10000,10000,10000,10000,10000,10000,10000,10000,10000,10000,10000,10000,10000,10000,10000,10000,10000,10000,10000,10000,10000,10000,10000,10000,10000,10000,10000,10000,10000,10000,10000,10000,10000,10000,10000,10000,10000,10000,10000,10000,10000,10000,10000,10000,10000,10000,10000,10000,10000,10000,10000,10000,10000,10000,10000,10000,10000,10000,10000,10000,10000,10000,10000,10000,10000,10000,10000,10000,10000,10000,10000,10000,10000,10000,10000,10000,10000,10000,10000,10000,10000,10000,10000,10000,10000,10000,10000,10000,10000,10000,10000,10000,10000,10000,10000,10000,10000,10000,10000,10000,10000,10000,10000,10000,10000,10000,10000,10000,10000,10000,10000,10000,10000,10000,10000,10000,10000,10000,10000,10000,10000,10000,10000,10000,10000,10000,10000,10000,10000,10000,10000,10000,10000,10000,10000,10000,10000,10000,10000,10000,10000,10000,10000,10000,10000,10000,10000,10000,10000,10000,10000,10000,10000,10000,10000,10000,10000,10000,10000,10000,10000,10000,10000,10000,10000,10000,10000,10000,10000,10000,10000,10000,10000,10000,10000,10000,10000,10000,10000,10000,10000,10000,10000,10000,10000,10000,10000,10000,10000,10000,10000,10000,10000,10000,10000,10000,10000,10000,10000,10000,10000,10000,10000,10000,10000,10000,10000,10000,10000,10000,10000,10000,10000,10000,10000,10000,10000,10000,10000,10000,10000,10000,10000,10000,10000,10000,10000,10000,10000,10000,10000,10000,10000,10000,10000,10000,10000,10000,10000,10000,10000,10000,10000,10000,10000,10000,10000,10000,10000,10000,10000,10000,10000,10000,10000,10000,10000,10000,10000,10000,10000,10000,10000,10000,10000,10000,10000,10000,10000,10000,10000,10000,10000,10000,10000,10000,10000,10000,10000,10000,10000,10000,10000,10000,10000,10000,10000,10000,10000,10000,10000,10000,10000,10000,10000,10000,10000,10000,10000,10000,10000,10000,10000,10000,10000,10000,10000,10000,10000,10000,10000,10000,10000,10000,10000,10000,10000,10000,10000,10000,10000,10000,10000,10000,10000,10000,10000,10000,10000,10000,10000,10000,10000,10000,10000,10000,10000,10000,10000,10000,10000,10000,10000,10000,10000,10000,10000,10000,10000,10000,10000,10000,10000,10000,10000,10000,10000,10000,10000,10000,10000,10000,10000,10000,10000,10000,10000,10000,10000,10000,10000,10000,10000,10000,10000,10000,10000,10000,10000,10000,10000,10000,10000,10000,10000,10000,10000,10000,10000,10000,10000,10000,10000,10000,10000,10000,10000,10000,10000,10000,10000,10000,10000,10000,10000,10000,10000,10000,10000,10000,10000,10000,10000,10000,10000,10000,10000,10000,10000,10000,10000,10000,10000,10000,10000,10000,10000,10000,10000,10000,10000,10000,10000,10000,10000,10000,10000,10000,10000,10000,10000,10000,10000,10000,10000,10000,10000,10000,10000,10000,10000,10000,10000,10000,10000,10000,10000,10000,10000,10000,10000,10000,10000,10000,10000,10000,10000,10000,10000,10000,10000,10000,10000,10000,10000,10000,10000,10000,10000,10000,10000,10000,10000,10000,10000,10000,10000,10000,10000,10000,10000,10000,10000,10000,10000,10000,10000,10000,10000,10000,10000,10000,10000,10000,10000,10000,10000,10000,10000,10000,10000,10000,10000,10000,10000,10000,10000,10000,10000,10000,10000,10000,10000,10000,10000,10000,10000,10000,10000,10000,10000,10000,10000,10000,10000,10000,10000,10000,10000,10000,10000,10000,10000,10000,10000,10000,10000,10000,10000,10000,10000,10000,10000,10000,10000,10000,10000,10000,10000,10000,10000,10000,10000,10000,10000,10000,10000,10000,10000,10000,10000,10000,10000,10000,10000,10000,10000,10000,10000,10000,10000,10000,10000,10000,10000,10000,10000,10000,10000,10000,10000,10000,10000,10000,10000,10000,10000,10000,10000,10000,10000,10000,10000,10000,10000,10000,10000,10000,10000,10000,10000,10000,10000,10000,10000,10000,10000,10000,10000,10000,10000,10000,10000,10000,10000,10000,10000,10000,10000,10000,10000,10000,10000,10000,10000,10000,10000,10000,10000,10000,10000,10000,10000,10000,10000,10000,10000,10000,10000,10000,10000,10000,10000,10000,10000,10000,10000,10000,10000,10000,10000,10000,10000,10000,10000,10000,10000,10000,10000,10000,10000,10000,10000,10000,10000,10000,10000,10000,10000,10000,10000,10000,10000,10000,10000,10000,10000,10000,10000,10000,10000,10000,10000,10000,10000,10000,10000,10000,10000,10000,10000,10000,10000,50000,50000,50000,50000,50000,50000,50000,50000,50000,50000,50000,50000,50000,50000,50000,50000,50000,50000,50000,50000,50000,50000,50000,50000,50000,50000,50000,50000,50000,50000,50000,50000,50000,50000,50000,50000,50000,50000,50000,50000,50000,50000,50000,50000,50000,50000,50000,50000,50000,50000,50000,50000,50000,50000,50000,50000,50000,50000,50000,50000,50000,50000,50000,50000,50000,50000,50000,50000,50000,50000,50000,50000,50000,50000,50000,50000,50000,50000,50000,50000,50000,50000,50000,50000,50000,50000,50000,50000,50000,50000,50000,50000,50000,50000,50000,50000,50000,50000,50000,50000,50000,50000,50000,50000,50000,50000,50000,50000,50000,50000,50000,50000,50000,50000,50000,50000,50000,50000,50000,50000,50000,50000,50000,50000,50000,50000,50000,50000,50000,50000,50000,50000,50000,50000,50000,50000,50000,50000,50000,50000,50000,50000,50000,50000,50000,50000,50000,50000,50000,50000,50000,50000,50000,50000,50000,50000,50000,50000,50000,50000,50000,50000,50000,50000,50000,50000,50000,50000,50000,50000,50000,50000,50000,50000,50000,50000,50000,50000,50000,50000,50000,50000,50000,50000,50000,50000,50000,50000,50000,50000,50000,50000,50000,50000,50000,50000,50000,50000,50000,50000,50000,50000,50000,50000,50000,50000,50000,50000,50000,50000,50000,50000,50000,50000,50000,50000,50000,50000,50000,50000,50000,50000,50000,50000,50000,50000,50000,50000,50000,50000,50000,50000,50000,50000,50000,50000,50000,50000,50000,50000,50000,50000,50000,50000,50000,50000,50000,50000,50000,50000,50000,50000,50000,50000,50000,50000,50000,50000,50000,50000,50000,50000,50000,50000,50000,50000,50000,50000,50000,50000,50000,50000,50000,50000,50000,50000,50000,50000,50000,50000,50000,50000,50000,50000,50000,50000,50000,50000,50000,50000,50000,50000,50000,50000,50000,50000,50000,50000,50000,50000,50000,50000,50000,50000,50000,50000,50000,50000,50000,50000,50000,50000,50000,50000,50000,50000,50000,50000,50000,50000,50000,50000,50000,50000,50000,50000,50000,50000,50000,50000,50000,50000,50000,50000,50000,50000,50000,50000,50000,50000,50000,50000,50000,50000,50000,50000,50000,50000,50000,50000,50000,50000,50000,50000,50000,50000,50000,50000,50000,50000,50000,50000,50000,50000,50000,50000,50000,50000,50000,50000,50000,50000,50000,50000,50000,50000,50000,50000,50000,50000,50000,50000,50000,50000,50000,50000,50000,50000,50000,50000,50000,50000,50000,50000,50000,50000,50000,50000,50000,50000,50000,50000,50000,50000,50000,50000,50000,50000,50000,50000,50000,50000,50000,50000,50000,50000,50000,100000,100000,100000,100000,100000,100000,100000,100000,100000,100000,100000,100000,100000,100000,100000,100000,100000,100000,100000,100000,100000,100000,100000,100000,100000,100000,100000,100000,100000,100000,100000,100000,100000,100000,100000,100000,100000,100000,100000,100000,100000,100000,100000,100000,100000,100000,100000,100000,100000,100000,100000,100000,100000,100000,100000,100000,100000,100000,100000,100000,100000,100000,100000,100000,100000,100000,100000,100000,100000,100000,100000,100000,100000,100000,100000,100000,100000,100000,100000,100000,100000,100000,100000,100000,100000,100000,100000,100000,100000,100000,100000,100000,100000,100000,100000,100000,100000,100000,100000,100000,100000,100000,100000,100000,100000,100000,100000,100000,100000,100000,100000,100000,100000,100000,100000,100000,100000,100000,100000,100000,100000,100000,100000,100000,100000,100000,100000,100000,100000,100000,100000,100000,100000,100000,100000,100000,100000,100000,100000,100000,100000,100000,100000,100000,100000,100000,100000,100000,100000,100000,100000,100000,100000,100000,100000,100000,100000,100000,100000,100000,100000,100000,100000,100000,100000,100000,100000,100000,100000,100000,100000,100000,100000,100000,100000,100000,100000,100000,100000,100000,100000,100000,100000,100000,100000,100000,100000,100000,100000,100000,100000,100000,100000,100000,100000,100000,100000,100000,100000,100000,100000,100000,100000,100000,100000,100000,100000,100000,100000,100000,100000,100000,100000,100000,100000,100000,100000,100000,100000,100000,100000,100000,100000,100000,100000,100000,100000,100000,100000,100000,100000,100000,100000,100000,100000,100000,100000,100000,100000,100000,100000,100000,100000,100000,100000,100000,100000,100000,100000,100000,100000,100000,100000,100000,100000,100000,100000,100000,100000,100000,100000,100000,100000,100000,100000,100000,100000,100000,100000,100000,100000,100000,100000,100000,100000,100000,100000,100000,100000,100000,100000,100000,100000,100000,100000,100000,100000,100000,100000,100000,100000,100000,100000,100000,100000,100000,100000,100000,100000,100000,100000,100000,100000,100000,100000,100000,100000,100000,100000,100000,100000,100000,100000,100000,100000,100000,100000,100000,100000,100000,100000,100000,100000,100000,100000,100000,100000,100000,100000,100000,100000,100000,100000,100000,100000,100000,100000,100000,100000,100000,100000,100000,100000,100000,100000,100000,100000,100000,100000,100000,100000,100000,100000,100000,100000,100000,100000,100000,100000,100000,100000,100000,100000,100000,100000,100000,100000,100000,100000,100000,100000,100000,100000,100000,100000,100000,100000,100000,100000,100000,100000,100000,100000,100000,100000,100000,100000,100000,100000,100000,100000,100000,100000,100000,100000,100000,100000,100000,100000,100000,100000,100000,100000,100000,100000,100000,100000,100000,100000,100000,100000,100000,100000,100000,100000,100000,100000,100000,100000,100000,100000,100000,100000,100000,100000,100000,100000,100000,100000,100000,100000,100000,100000,100000,100000,100000,100000,100000,100000,100000,100000,100000,100000,100000,100000,100000,100000,100000,100000,100000,100000,100000,100000,100000,100000,100000,100000,100000,100000,100000,100000,100000,100000,100000,100000,100000,100000,100000,100000,100000,100000,100000,100000,100000,100000,100000,100000,100000,100000,100000,100000,100000,100000,100000,100000,100000,100000,100000,100000,100000,100000,100000,100000,100000,100000,100000,100000,100000,100000,100000,100000,100000,100000,100000,100000,100000,100000,100000,100000,100000,100000,100000,100000,100000,100000,100000,100000,100000,100000,100000,100000,100000,100000,100000,100000,100000,100000,100000,100000,100000,100000,100000,100000,100000,100000,100000,100000,100000,100000,100000,100000,100000,100000,100000,100000,100000,100000,100000,100000,100000,100000,100000,100000,100000,100000,100000,100000,100000,100000,100000,100000,100000,100000,100000,100000,100000,100000,100000,100000,100000,100000,100000,100000,100000,100000,100000,100000,100000,100000,100000,100000,100000,100000,100000,100000,100000,100000,100000,100000,100000,100000,100000,100000,100000,100000,100000,100000,100000,100000,100000,100000,100000,100000,100000,100000,100000,100000,100000,100000,100000,100000,100000,100000,100000,100000,100000,100000,100000,100000,100000,100000,100000,100000,100000,100000,100000,100000,100000,100000,100000,100000,100000,100000,100000,100000,100000,100000,100000,100000,100000,100000,100000,100000,100000,100000,100000,100000,100000,100000,100000,100000,100000,100000,100000,100000,100000,100000,100000,100000,100000,100000,100000,100000,100000,100000,100000,100000,100000,100000,100000,100000,100000,100000,100000,100000,100000,100000,100000,100000,100000,100000,100000,100000,100000,100000,100000,100000,100000,100000,100000,100000,100000,100000,100000,100000,100000,100000,100000,100000,100000,100000,100000,100000,100000,100000,100000,100000,100000,100000,100000,100000,100000,100000,100000,100000,100000,100000,100000,100000,100000,100000,100000,100000,100000,100000,100000,100000,100000,100000,100000,100000,100000,100000,100000,100000,100000,100000,100000,100000,100000,100000,100000,100000,100000,100000,100000,100000,100000,100000,100000,100000,100000,100000,100000,100000,100000,100000,100000,100000,100000,100000,100000,100000,100000,100000,100000,100000,100000,100000,100000,100000,100000,100000,100000,100000,100000,100000,100000,100000,100000,100000,100000,100000,100000,100000,100000,100000,100000,100000,100000,100000,100000,100000,100000,100000,100000,100000,100000,100000,100000,100000,100000,100000,100000,100000,100000,100000,100000,100000,100000,100000,100000,100000,100000,100000,100000,100000,100000,100000,100000,100000,100000,100000,100000,100000,100000,100000,100000,100000,100000,100000,100000,100000,100000,100000,100000,100000,100000,100000,100000,100000,100000,100000,100000,100000,100000,100000,100000,100000,100000,100000,100000,100000,100000,100000,100000,100000,100000,100000,100000,100000,100000,100000,100000,100000,100000,100000,100000,100000,100000,100000,100000,100000,100000,100000,100000,100000,100000,100000,100000,100000,100000,100000,100000,100000,100000,100000,100000,100000,100000,100000,100000,100000,100000,100000,100000,100000,100000,100000,100000,100000,100000,100000,100000,100000,100000,100000,100000,100000,100000,100000,100000,100000,100000,100000,100000,100000,100000,100000,100000,100000,100000,100000,100000,100000,100000,100000,100000,100000,100000,100000,100000,100000,100000,100000,100000,100000,100000,100000,100000,100000,100000,100000,100000,100000,100000,100000,100000,100000,100000,100000,100000,100000,100000,100000,100000,100000,100000,100000,100000,100000,100000,100000,100000,100000,100000,100000,100000,100000,100000,100000,100000,100000,100000,100000,100000,100000,100000,100000,100000,100000,100000,100000,100000,100000,100000,100000,100000,100000,100000,100000,100000,100000,100000,100000,100000,100000,100000,100000,100000,100000,100000,100000,100000,100000,100000,100000,100000,100000,100000,100000,100000,100000,100000,500000,500000,500000,500000,500000,500000,500000,500000,500000,500000,500000,500000,500000,500000,500000,500000,500000,500000,500000,500000,500000,500000,500000,500000,500000,500000,500000,500000,500000,500000,500000,500000,500000,500000,500000,500000,500000,500000,500000,500000,500000,500000,500000,500000,500000,500000,500000,500000,500000,500000,500000,500000,500000,500000,500000,500000,500000,500000,500000,500000,500000,500000,500000,500000,500000,500000,500000,500000,500000,500000,500000,500000,500000,500000,500000,500000,500000,500000,500000,500000,500000,500000,500000,500000,500000,500000,500000,500000,500000,500000,500000,500000,500000,500000,500000,500000,500000,500000,500000,500000,500000,500000,500000,500000,500000,500000,500000,500000,500000,500000,500000,500000,500000,500000,500000,500000,500000,500000,500000,500000,500000,500000,500000,500000,500000,500000,500000,500000,500000,500000,500000,500000,500000,500000,500000,500000,500000,500000,500000,500000,500000,500000,500000,500000,500000,500000,500000,500000,500000,500000,500000,500000,500000,500000,500000,500000,500000,500000,500000,500000,500000,500000,500000,500000,500000,500000,500000,500000,500000,500000,500000,500000,500000,500000,500000,500000,500000,500000,500000,500000,500000,500000,500000,500000,500000,500000,500000,500000,500000,500000,500000,500000,500000,500000,500000,500000,500000,500000,500000,500000,500000,500000,500000,500000,500000,500000,500000,500000,500000,500000,500000,500000,500000,500000,500000,500000,500000,500000,500000,500000,500000,500000,500000,500000,500000,500000,500000,500000,500000,500000,500000,500000,500000,500000,500000,500000,500000,500000,500000,500000,500000,500000,500000,500000,500000,500000,500000,500000,500000,500000,500000,500000,500000,500000,500000,500000,500000,500000,500000,500000,500000,500000,500000,500000,500000,500000,500000,500000,500000,500000,500000,500000,500000,500000,500000,500000,500000,500000,500000,500000,500000,500000,500000,500000,500000,500000,500000,500000,500000,500000,500000,500000,500000,500000,500000,500000,500000,500000,500000,500000,500000,500000,500000,500000,500000,500000,500000,500000,500000,500000,500000,500000,500000,500000,500000,500000,500000,500000,500000,500000,500000,500000,500000,500000,500000,500000,500000,500000,500000,500000,500000,500000,500000,500000,500000,500000,500000,500000,500000,500000,500000,500000,500000,500000,500000,500000,500000,500000,500000,500000,500000,500000,500000,500000,500000,500000,500000,500000,500000,500000,500000,500000,500000,500000,500000,500000,500000,500000,500000,500000,500000,500000,500000,500000,500000,500000,500000,500000,500000,500000,500000,500000,500000,500000,500000,500000,500000,500000,500000,500000,500000,500000,500000,500000,500000,500000,500000,500000,500000,500000,500000,500000,500000,500000,500000,500000,500000,500000,500000,500000,500000,500000,500000,500000,500000,500000,500000,500000,500000,500000,500000,500000,500000,500000,500000,500000,500000,500000,500000,500000,500000,500000,500000,500000,500000,500000,500000,500000,500000,500000,500000,500000,500000,500000,500000,500000,500000,500000,500000,500000,500000,500000,500000,500000,500000,500000,500000,500000,500000,500000,500000,500000,500000,500000,500000,500000,500000,500000,500000,500000,500000,500000,500000,500000,500000,500000,500000,500000,500000,500000,500000,500000,500000,500000,500000,500000,500000,500000,500000,500000,500000,500000,500000,1000000,1000000,1000000,1000000,1000000,1000000,1000000,1000000,1000000,1000000,1000000,1000000,1000000,1000000,1000000,1000000,1000000,1000000,1000000,1000000,1000000,1000000,1000000,1000000,1000000,1000000,1000000,1000000,1000000,1000000,1000000,1000000,1000000,1000000,1000000,1000000,1000000,1000000,1000000,1000000,1000000,1000000,1000000,1000000,1000000,1000000,1000000,1000000,1000000,1000000,1000000,1000000,1000000,1000000,1000000,1000000,1000000,1000000,1000000,1000000,1000000,1000000,1000000,1000000,1000000,1000000,1000000,1000000,1000000,1000000,1000000,1000000,1000000,1000000,1000000,1000000,1000000,1000000,1000000,1000000,1000000,1000000,1000000,1000000,1000000,1000000,1000000,1000000,1000000,1000000,1000000,1000000,1000000,1000000,1000000,1000000,1000000,1000000,1000000,1000000,1000000,1000000,1000000,1000000,1000000,1000000,1000000,1000000,1000000,1000000,1000000,1000000,1000000,1000000,1000000,1000000,1000000,1000000,1000000,1000000,1000000,1000000,1000000,1000000,1000000,1000000,1000000,1000000,1000000,1000000,1000000,1000000,1000000,1000000,1000000,1000000,1000000,1000000,1000000,1000000,1000000,1000000,1000000,1000000,1000000,1000000,1000000,1000000,1000000,1000000,1000000,1000000,1000000,1000000,1000000,1000000,1000000,1000000,1000000,1000000,1000000,1000000,1000000,1000000,1000000,1000000,1000000,1000000,1000000,1000000,1000000,1000000,1000000,1000000,1000000,1000000,1000000,1000000,1000000,1000000,1000000,1000000,1000000,1000000,1000000,1000000,1000000,1000000,1000000,1000000,1000000,1000000,1000000,1000000,1000000,1000000,1000000,1000000,1000000,1000000,1000000,1000000,1000000,1000000,1000000,1000000,1000000,1000000,1000000,1000000,1000000,1000000,1000000,1000000,1000000,1000000,1000000,1000000,1000000,1000000,1000000,1000000,1000000,1000000,1000000,1000000,1000000,1000000,1000000,1000000,1000000,1000000,1000000,1000000,1000000,1000000,1000000,1000000,1000000,1000000,1000000,1000000,1000000,1000000,1000000,1000000,1000000,1000000,1000000,1000000,1000000,1000000,1000000,1000000,1000000,1000000,1000000,1000000,1000000,1000000,1000000,1000000,1000000,1000000,1000000,1000000,1000000,1000000,1000000,1000000,1000000,1000000,1000000,1000000,1000000,1000000,1000000,1000000,1000000,1000000,1000000,1000000,1000000,1000000,1000000,1000000,1000000,1000000,1000000,1000000,1000000,1000000,1000000,1000000,1000000,1000000,1000000,1000000,1000000,1000000,1000000,1000000,1000000,1000000,1000000,1000000,1000000,1000000,1000000,1000000,1000000,1000000,1000000,1000000,1000000,1000000,1000000,1000000,1000000,1000000,1000000,1000000,1000000,1000000,1000000,1000000,1000000,1000000,1000000,1000000,1000000,1000000,1000000,1000000,1000000,1000000,1000000,1000000,1000000,1000000,1000000,1000000,1000000,1000000,1000000,1000000,1000000,1000000,1000000,1000000,1000000,1000000,1000000,1000000,1000000,1000000,1000000,1000000,1000000,1000000,1000000,1000000,1000000,1000000,1000000,1000000,1000000,1000000,1000000,1000000,1000000,1000000,1000000,1000000,1000000,1000000,1000000,1000000,1000000,1000000,1000000,1000000,1000000,1000000,1000000,1000000,1000000,1000000,1000000,1000000,1000000,1000000,1000000,1000000,1000000,1000000,1000000,1000000,1000000,1000000,1000000,1000000,1000000,1000000,1000000,1000000,1000000,1000000,1000000,1000000,1000000,1000000,1000000,1000000,1000000,1000000,1000000,1000000,1000000,1000000,1000000,1000000,1000000,1000000,1000000,1000000,1000000,1000000,1000000,1000000,1000000,1000000,1000000,1000000,1000000,1000000,1000000,1000000,1000000,1000000,1000000,1000000,1000000,1000000,1000000,1000000,1000000,1000000,1000000,1000000,1000000,1000000,1000000,1000000,1000000,1000000,1000000,1000000,1000000,1000000,1000000,1000000,1000000,1000000,1000000,1000000,1000000,1000000,1000000,1000000,1000000,1000000,1000000,1000000,1000000,1000000,1000000,1000000,1000000,1000000,1000000,1000000,1000000,1000000,1000000,1000000,1000000,1000000,1000000,1000000,1000000,1000000,1000000,1000000,1000000,1000000,1000000,1000000,1000000,1000000,1000000,1000000,1000000,1000000,1000000,1000000,1000000,1000000,1000000,1000000,1000000,1000000,1000000,1000000,1000000,1000000,1000000,1000000,1000000,1000000,1000000,1000000,1000000,1000000,1000000,1000000,1000000,1000000,1000000,1000000,1000000,1000000,1000000,1000000,1000000,1000000,1000000,1000000,1000000,1000000,1000000,1000000,1000000,1000000,1000000,1000000,1000000,1000000,1000000,1000000,1000000,1000000,1000000,1000000,1000000,1000000,1000000,1000000,1000000,1000000,1000000,1000000,1000000,1000000,1000000,1000000,1000000,1000000,1000000,1000000,1000000,1000000,1000000,1000000,1000000,1000000,1000000,1000000,1000000,1000000,1000000,1000000,1000000,1000000,1000000,1000000,1000000,1000000,1000000,1000000,1000000,1000000,1000000,1000000,1000000,1000000,1000000,1000000,1000000,1000000,1000000,1000000,1000000,1000000,1000000,1000000,1000000,1000000,1000000,1000000,1000000,1000000,1000000,1000000,1000000,1000000,1000000,1000000,1000000,1000000,1000000,1000000,1000000,1000000,1000000,1000000,1000000,1000000,1000000,1000000,1000000,1000000,1000000,1000000,1000000,1000000,1000000,1000000,1000000,1000000,1000000,1000000,1000000,1000000,1000000,1000000,1000000,1000000,1000000,1000000,1000000,1000000,1000000,1000000,1000000,1000000,1000000,1000000,1000000,1000000,1000000,1000000,1000000,1000000,1000000,1000000,1000000,1000000,1000000,1000000,1000000,1000000,1000000,1000000,1000000,1000000,1000000,1000000,1000000,1000000,1000000,1000000,1000000,1000000,1000000,1000000,1000000,1000000,1000000,1000000,1000000,1000000,1000000,1000000,1000000,1000000,1000000,1000000,1000000,1000000,1000000,1000000,1000000,1000000,1000000,1000000,1000000,1000000,1000000,1000000,1000000,1000000,1000000,1000000,1000000,1000000,1000000,1000000,1000000,1000000,1000000,1000000,1000000,1000000,1000000,1000000,1000000,1000000,1000000,1000000,1000000,1000000,1000000,1000000,1000000,1000000,1000000,1000000,1000000,1000000,1000000,1000000,1000000,1000000,1000000,1000000,1000000,1000000,1000000,1000000,1000000,1000000,1000000,1000000,1000000,1000000,1000000,1000000,1000000,1000000,1000000,1000000,1000000,1000000,1000000,1000000,1000000,1000000,1000000,1000000,1000000,1000000,1000000,1000000,1000000,1000000,1000000,1000000,1000000,1000000,1000000,1000000,1000000,1000000,1000000,1000000,1000000,1000000,1000000,1000000,1000000,1000000,1000000,1000000,1000000,1000000,1000000,1000000,1000000,1000000,1000000,1000000,1000000,1000000,1000000,1000000,1000000,1000000,1000000,1000000,1000000,1000000,1000000,1000000,1000000,1000000,1000000,1000000,1000000,1000000,1000000,1000000,1000000,1000000,1000000,1000000,1000000,1000000,1000000,1000000,1000000,1000000,1000000,1000000,1000000,1000000,1000000,1000000,1000000,1000000,1000000,1000000,1000000,1000000,1000000,1000000,1000000,1000000,1000000,1000000,1000000,1000000,1000000,1000000,1000000,1000000,1000000,1000000,1000000,1000000,1000000,1000000,1000000,1000000,1000000,1000000,1000000,1000000,1000000,1000000,1000000,1000000,1000000,1000000,1000000,1000000,1000000,1000000,1000000,1000000,1000000,1000000,1000000,1000000,1000000,1000000,1000000,1000000,1000000,1000000,1000000,1000000,1000000,1000000,1000000,1000000,1000000,1000000,1000000,1000000,1000000,1000000,1000000,1000000,1000000,1000000,1000000,1000000,1000000,1000000,1000000,1000000,1000000,1000000,1000000,1000000,1000000,1000000,1000000,1000000,1000000,1000000,1000000,1000000,1000000,1000000,1000000,1000000,1000000,1000000,1000000,1000000,1000000,1000000,1000000,1000000,1000000,1000000,1000000,1000000,1000000,1000000,1000000,1000000,1000000,1000000,1000000,1000000,1000000,1000000,1000000,1000000,1000000,1000000,1000000,1000000,1000000,1000000,1000000,1000000,1000000,1000000,1000000,1000000,1000000,1000000,1000000,1000000,1000000,1000000,1000000,1000000,1000000,1000000,1000000,1000000,1000000,1000000,1000000,1000000,1000000,1000000,1000000,1000000,1000000,1000000,1000000,1000000,1000000,1000000,1000000,1000000,1000000,1000000,1000000,1000000,1000000,1000000,1000000,1000000,1000000,1000000,1000000,1000000,1000000,1000000,1000000,1000000,1000000,1000000,1000000,1000000,1000000,1000000,1000000,1000000,1000000,1000000,1000000,1000000,1000000,1000000,1000000,1000000,1000000,1000000,1000000,1000000,1000000,1000000,1000000,1000000,1000000,1000000,1000000,1000000,1000000,1000000,1000000,1000000,1000000,1000000,1000000,1000000,1000000,1000000,1000000,1000000,1000000,1000000,1000000,1000000,1000000,1000000,1000000,1000000,1000000,1000000,1000000,1000000,1000000,1000000,1000000,1000000,1000000,1000000,1000000,1000000,1000000,1000000,1000000,1000000,1000000,1000000,1000000,1000000,1000000,1000000,1000000,1000000,1000000,1000000,1000000,1000000,1000000,1000000,1000000,1000000,1000000,1000000,1000000,1000000,1000000,1000000,1000000,1000000,1000000,1000000,1000000,1000000,1000000,1000000,1000000,1000000,1000000,1000000,1000000,1000000,1000000,1000000,1000000,1000000,1000000,1000000,1000000,1000000,1000000,1000000,1000000,1000000,1000000,1000000,1000000,1000000,1000000,1000000,1000000,1000000,1000000,1000000,1000000,1000000,1000000,1000000,1000000,1000000,1000000,1000000,1000000,1000000,1000000,1000000,1000000,1000000,1000000,1000000,1000000,1000000,1000000,1000000,1000000,1000000,1000000,1000000,1000000,1000000,1000000,1000000,1000000,1000000,1000000,1000000,1000000,1000000,1000000,1000000,1000000,1000000,1000000,1000000,1000000,1000000,1000000,1000000,1000000,1000000,1000000,1000000,1000000,1000000,1000000,1000000,1000000,1000000,1000000,1000000,1000000,1000000,1000000,1000000,1000000,1000000,1000000,1000000,1000000,1000000,1000000,1000000,1000000,1000000,1000000,1000000,1000000,1000000,1000000,1000000,1000000,1000000,1000000,1000000,1000000,1000000,1000000,1000000,1000000,1000000,1000000,1000000,1000000,1000000,1000000,1000000,1000000,1000000,1000000,1000000,1000000,1000000,1000000,1000000,1000000,1000000,1000000,1000000,1000000,1000000,1000000,1000000,1000000,1000000,1000000,1000000,1000000,1000000,1000000,1000000,1000000,1000000,1000000,1000000,1000000,1000000,1000000,1000000,1000000,1000000,1000000,1000000,1000000,1000000,1000000,1000000,1000000,1000000,1000000,1000000,1000000,1000000,1000000,1000000,1000000,1000000,1000000,1000000,1000000,1000000,1000000,1000000,1000000,1000000,1000000,1000000,1000000,1000000,1000000,1000000,1000000,1000000,1000000,1000000,1000000,1000000,1000000,1000000,1000000,1000000,1000000,1000000,1000000,1000000,1000000,1000000,1000000,1000000,1000000,1000000,1000000,1000000,1000000,1000000,1000000,1000000,1000000,1000000,1000000,1000000,1000000,1000000,1000000,1000000,1000000,1000000,1000000,1000000,1000000,1000000,1000000,1000000,1000000,1000000,1000000,1000000,1000000,1000000,1000000,1000000,1000000,1000000,1000000,1000000,1000000,1000000,1000000,1000000,1000000,1000000,1000000,1000000,1000000,1000000,1000000,1000000,1000000,1000000,1000000,1000000,1000000,1000000,1000000,1000000,1000000,1000000,1000000,1000000,1000000,1000000,1000000,1000000,1000000,1000000,1000000,1000000,1000000,1000000,1000000,1000000,1000000,1000000,1000000,1000000,1000000,1000000,1000000,1000000,1000000,1000000,1000000,1000000,1000000,1000000,1000000,1000000,1000000,1000000,1000000,1000000,1000000,5000000,5000000,5000000,5000000,5000000,5000000,5000000,5000000,5000000,5000000,5000000,5000000,5000000,5000000,5000000,5000000,5000000,5000000,5000000,5000000,5000000,5000000,5000000,5000000,5000000,5000000,5000000,5000000,5000000,5000000,5000000,5000000,5000000,5000000,5000000,5000000,5000000,5000000,5000000,5000000,5000000,5000000,5000000,5000000,5000000,5000000,5000000,5000000,5000000,5000000,5000000,5000000,5000000,5000000,5000000,5000000,5000000,5000000,5000000,5000000,5000000,5000000,5000000,5000000,5000000,5000000,5000000,5000000,5000000,5000000,5000000,5000000,5000000,5000000,5000000,5000000,5000000,5000000,5000000,5000000,5000000,5000000,5000000,5000000,5000000,5000000,5000000,5000000,5000000,5000000,5000000,5000000,5000000,5000000,5000000,5000000,5000000,5000000,5000000,5000000,5000000,5000000,5000000,5000000,5000000,5000000,5000000,5000000,5000000,5000000,5000000,5000000,5000000,5000000,5000000,5000000,5000000,5000000,5000000,5000000,5000000,5000000,5000000,5000000,5000000,5000000,5000000,5000000,5000000,5000000,5000000,5000000,5000000,5000000,5000000,5000000,5000000,5000000,5000000,5000000,5000000,5000000,5000000,5000000,5000000,5000000,5000000,5000000,5000000,5000000,5000000,5000000,5000000,5000000,5000000,5000000,5000000,5000000,5000000,5000000,5000000,5000000,5000000,5000000,5000000,5000000,5000000,5000000,5000000,5000000,5000000,5000000,5000000,5000000,5000000,5000000,5000000,5000000,5000000,5000000,5000000,5000000,5000000,5000000,5000000,5000000,5000000,5000000,5000000,5000000,5000000,5000000,5000000,5000000,5000000,5000000,5000000,5000000,5000000,5000000,5000000,5000000,5000000,5000000,5000000,5000000,5000000,5000000,5000000,5000000,5000000,5000000,5000000,5000000,5000000,5000000,5000000,5000000,5000000,5000000,5000000,5000000,5000000,5000000,5000000,5000000,5000000,5000000,5000000,5000000,5000000,5000000,5000000,5000000,5000000,5000000,5000000,5000000,5000000,5000000,5000000,5000000,5000000,5000000,5000000,5000000,5000000,5000000,5000000,5000000,5000000,5000000,5000000,5000000,5000000,5000000,5000000,5000000,5000000,5000000,5000000,5000000,5000000,5000000,5000000,5000000,5000000,5000000,5000000,5000000,5000000,5000000,5000000,5000000,5000000,5000000,5000000,5000000,5000000,5000000,5000000,5000000,5000000,5000000,5000000,5000000,5000000,5000000,5000000,5000000,5000000,5000000,5000000,5000000,5000000,5000000,5000000,5000000,5000000,5000000,5000000,5000000,5000000,5000000,5000000,5000000,5000000,5000000,5000000,5000000,5000000,5000000,5000000,5000000,5000000,5000000,5000000,5000000,5000000,5000000,5000000,5000000,5000000,5000000,5000000,5000000,5000000,5000000,5000000,5000000,5000000,5000000,5000000,5000000,5000000,5000000,5000000,5000000,5000000,5000000,5000000,5000000,5000000,5000000,5000000,5000000,5000000,5000000,5000000,5000000,5000000,5000000,5000000,5000000,5000000,5000000,5000000,5000000,5000000,5000000,5000000,5000000,5000000,5000000,5000000,5000000,5000000,5000000,5000000,5000000,5000000,5000000,5000000,5000000,5000000,5000000,5000000,5000000,5000000,5000000,5000000,5000000,5000000,5000000,5000000,5000000,5000000,5000000,5000000,5000000,5000000,5000000,5000000,5000000,5000000,5000000,5000000,5000000,5000000,5000000,5000000,5000000,5000000,5000000,5000000,5000000,5000000,5000000,5000000,5000000,5000000,5000000,5000000,5000000,5000000,5000000,5000000,5000000,5000000,5000000,5000000,5000000,5000000,5000000,5000000,5000000,5000000,5000000,5000000,5000000,5000000,5000000,5000000,5000000,5000000,5000000,5000000,5000000,5000000,5000000,5000000,5000000,5000000,5000000,5000000,5000000,5000000,5000000,5000000,5000000,5000000,5000000,5000000,5000000,5000000,5000000,5000000,5000000,5000000,5000000,5000000,5000000,5000000,5000000,5000000,5000000,5000000,5000000,5000000,5000000,5000000,5000000,5000000,5000000,5000000,5000000,5000000,5000000,5000000,5000000,5000000,5000000,5000000,5000000,5000000,5000000,5000000,5000000,5000000,5000000,5000000,5000000,5000000,5000000,5000000,5000000,5000000,5000000,5000000,5000000,5000000,5000000,5000000,5000000,5000000,5000000,5000000,5000000,5000000,5000000,5000000,5000000,5000000,5000000,5000000,5000000,5000000,5000000,5000000,5000000,5000000,5000000,5000000,5000000,5000000,5000000,5000000,5000000,5000000,5000000,5000000,5000000,5000000,5000000,5000000,5000000,5000000,5000000,5000000,5000000,5000000,5000000,5000000,5000000,5000000,5000000,5000000,5000000,5000000,5000000,5000000,5000000,5000000,5000000,5000000,5000000,5000000,5000000,5000000,5000000,5000000,5000000,5000000,5000000,5000000,5000000,5000000,5000000,5000000,5000000,5000000,5000000,5000000,5000000,5000000,5000000,5000000,5000000,5000000,5000000,5000000,5000000,5000000,5000000,5000000,5000000,5000000,5000000,5000000,5000000,5000000,5000000,5000000,5000000,5000000,5000000,5000000,5000000,5000000,5000000,5000000,5000000,5000000,5000000,5000000,5000000,5000000,10000000,10000000,10000000,10000000,10000000,10000000,10000000,10000000,10000000,10000000,10000000,10000000,10000000,10000000,10000000,10000000,10000000,10000000,10000000,10000000,10000000,10000000,10000000,10000000,10000000,10000000,10000000,10000000,10000000,10000000,10000000,10000000,10000000,10000000,10000000,10000000,10000000,10000000,10000000,10000000,10000000,10000000,10000000,10000000,10000000,10000000,10000000,10000000,10000000,10000000,10000000,10000000,10000000,10000000,10000000,10000000,10000000,10000000,10000000,10000000,10000000,10000000,10000000,10000000,10000000,10000000,10000000,10000000,10000000,10000000,10000000,10000000,10000000,10000000,10000000,10000000,10000000,10000000,10000000,10000000,10000000,10000000,10000000,10000000,10000000,10000000,10000000,10000000,10000000,10000000,10000000,10000000,10000000,10000000,10000000,10000000,10000000,10000000,10000000,10000000,10000000,10000000,10000000,10000000,10000000,10000000,10000000,10000000,10000000,10000000,10000000,10000000,10000000,10000000,10000000,10000000,10000000,10000000,10000000,10000000,10000000,10000000,10000000,10000000,10000000,10000000,10000000,10000000,10000000,10000000,10000000,10000000,10000000,10000000,10000000,10000000,10000000,10000000,10000000,10000000,10000000,10000000,10000000,10000000,10000000,10000000,10000000,10000000,10000000,10000000,10000000,10000000,10000000,10000000,10000000,10000000,10000000,10000000,10000000,10000000,10000000,10000000,10000000,10000000,10000000,10000000,10000000,10000000,10000000,10000000,10000000,10000000,10000000,10000000,10000000,10000000,10000000,10000000,10000000,10000000,10000000,10000000,10000000,10000000,10000000,10000000,10000000,10000000,10000000,10000000,10000000,10000000,10000000,10000000,10000000,10000000,10000000,10000000,10000000,10000000,10000000,10000000,10000000,10000000,10000000,10000000,10000000,10000000,10000000,10000000,10000000,10000000,10000000,10000000,10000000,10000000,10000000,10000000,10000000,10000000,10000000,10000000,10000000,10000000,10000000,10000000,10000000,10000000,10000000,10000000,10000000,10000000,10000000,10000000,10000000,10000000,10000000,10000000,10000000,10000000,10000000,10000000,10000000,10000000,10000000,10000000,10000000,10000000,10000000,10000000,10000000,10000000,10000000,10000000,10000000,10000000,10000000,10000000,10000000,10000000,10000000,10000000,10000000,10000000,10000000,10000000,10000000,10000000,10000000,10000000,10000000,10000000,10000000,10000000,10000000,10000000,10000000,10000000,10000000,10000000,10000000,10000000,10000000,10000000,10000000,10000000,10000000,10000000,10000000,10000000,10000000,10000000,10000000,10000000,10000000,10000000,10000000,10000000,10000000,10000000,10000000,10000000,10000000,10000000,10000000,10000000,10000000,10000000,10000000,10000000,10000000,10000000,10000000,10000000,10000000,10000000,10000000,10000000,10000000,10000000,10000000,10000000,10000000,10000000,10000000,10000000,10000000,10000000,10000000,10000000,10000000,10000000,10000000,10000000,10000000,10000000,10000000,10000000,10000000,10000000,10000000,10000000,10000000,10000000,10000000,10000000,10000000,10000000,10000000,10000000,10000000,10000000,10000000,10000000,10000000,10000000,10000000,10000000,10000000,10000000,10000000,10000000,10000000,10000000,10000000,10000000,10000000,10000000,10000000,10000000,10000000,10000000,10000000,10000000,10000000,10000000,10000000,10000000,10000000,10000000,10000000,10000000,10000000,10000000,10000000,10000000,10000000,10000000,10000000,10000000,10000000,10000000,10000000,10000000,10000000,10000000,10000000,10000000,10000000,10000000,10000000,10000000,10000000,10000000,10000000,10000000,10000000,10000000,10000000,10000000,10000000,10000000,10000000,10000000,10000000,10000000,10000000,10000000,10000000,10000000,10000000,10000000,10000000,10000000,10000000,10000000,10000000,10000000,10000000,10000000,10000000,10000000,10000000,10000000,10000000,10000000,10000000,10000000,10000000,10000000,10000000,10000000,10000000,10000000,10000000,10000000,10000000,10000000,10000000,10000000,10000000,10000000,10000000,10000000,10000000,10000000,10000000,10000000,10000000,10000000,10000000,10000000,10000000,10000000,10000000,10000000,10000000,10000000,10000000,10000000,10000000,10000000,10000000,10000000,10000000,10000000,10000000,10000000,10000000,10000000,10000000,10000000,10000000,10000000,10000000,10000000,10000000,10000000,10000000,10000000,10000000,10000000,10000000,10000000,10000000,10000000,10000000,10000000,10000000,10000000,10000000,10000000,10000000,10000000,10000000,10000000,10000000,10000000,10000000,10000000,10000000,10000000,10000000,10000000,10000000,10000000,10000000,10000000,10000000,10000000,10000000,10000000,10000000,10000000,10000000,10000000,10000000,10000000,10000000,10000000,10000000,10000000,10000000,10000000,10000000,10000000,10000000,10000000,10000000,10000000,10000000,10000000,10000000,10000000,10000000,10000000,10000000,10000000,10000000,10000000,10000000,10000000,10000000,10000000,10000000,10000000,10000000,10000000,10000000,10000000,10000000,10000000,10000000,10000000,10000000,10000000,10000000,10000000,10000000,10000000,10000000,10000000,10000000,10000000,10000000,10000000,10000000,10000000,10000000,10000000,10000000,10000000,10000000,10000000,10000000,10000000,10000000,10000000,10000000,10000000,10000000,10000000,10000000,10000000,10000000,10000000,10000000,10000000,10000000,10000000,10000000,10000000,10000000,10000000,10000000,10000000,10000000,10000000,10000000,10000000,10000000,10000000,10000000,10000000,10000000,10000000,10000000,10000000,10000000,10000000,10000000,10000000,10000000,10000000,10000000,10000000,10000000,10000000,10000000,10000000,10000000,10000000,10000000,10000000,10000000,10000000,10000000,10000000,10000000,10000000,10000000,10000000,10000000,10000000,10000000,10000000,10000000,10000000,10000000,10000000,10000000,10000000,10000000,10000000,10000000,10000000,10000000,10000000,10000000,10000000,10000000,10000000,10000000,10000000,10000000,10000000,10000000,10000000,10000000,10000000,10000000,10000000,10000000,10000000,10000000,10000000,10000000,10000000,10000000,10000000,10000000,10000000,10000000,10000000,10000000,10000000,10000000,10000000,10000000,10000000,10000000,10000000,10000000,10000000,10000000,10000000,10000000,10000000,10000000,10000000,10000000,10000000,10000000,10000000,10000000,10000000,10000000,10000000,10000000,10000000,10000000,10000000,10000000,10000000,10000000,10000000,10000000,10000000,10000000,10000000,10000000,10000000,10000000,10000000,10000000,10000000,10000000,10000000,10000000,10000000,10000000,10000000,10000000,10000000,10000000,10000000,10000000,10000000,10000000,10000000,10000000,10000000,10000000,10000000,10000000,10000000,10000000,10000000,10000000,10000000,10000000,10000000,10000000,10000000,10000000,10000000,10000000,10000000,10000000,10000000,10000000,10000000,10000000,10000000,10000000,10000000,10000000,10000000,10000000,10000000,10000000,10000000,10000000,10000000,10000000,10000000,10000000,10000000,10000000,10000000,10000000,10000000,10000000,10000000,10000000,10000000,10000000,10000000,10000000,10000000,10000000,10000000,10000000,10000000,10000000,10000000,10000000,10000000,10000000,10000000,10000000,10000000,10000000,10000000,10000000,10000000,10000000,10000000,10000000,10000000,10000000,10000000,10000000,10000000,10000000,10000000,10000000,10000000,10000000,10000000,10000000,10000000,10000000,10000000,10000000,10000000,10000000,10000000,10000000,10000000,10000000,10000000,10000000,10000000,10000000,10000000,10000000,10000000,10000000,10000000,10000000,10000000,10000000,10000000,10000000,10000000,10000000,10000000,10000000,10000000,10000000,10000000,10000000,10000000,10000000,10000000,10000000,10000000,10000000,10000000,10000000,10000000,10000000,10000000,10000000,10000000,10000000,10000000,10000000,10000000,10000000,10000000,10000000,10000000,10000000,10000000,10000000,10000000,10000000,10000000,10000000,10000000,10000000,10000000,10000000,10000000,10000000,10000000,10000000,10000000,10000000,10000000,10000000,10000000,10000000,10000000,10000000,10000000,10000000,10000000,10000000,10000000,10000000,10000000,10000000,10000000,10000000,10000000,10000000,10000000,10000000,10000000,10000000,10000000,10000000,10000000,10000000,10000000,10000000,10000000,10000000,10000000,10000000,10000000,10000000,10000000,10000000,10000000,10000000,10000000,10000000,50000000,50000000,50000000,50000000,50000000,50000000,50000000,50000000,50000000,50000000,50000000,50000000,50000000,50000000,50000000,50000000,50000000,50000000,50000000,50000000,50000000,50000000,50000000,50000000,50000000,50000000,50000000,50000000,50000000,50000000,50000000,50000000,50000000,50000000,50000000,50000000,50000000,50000000,50000000,50000000,50000000,50000000,50000000,50000000,50000000,50000000,50000000,50000000,50000000,50000000,50000000,50000000,50000000,50000000,50000000,50000000,50000000,50000000,50000000,50000000,50000000,50000000,50000000,50000000,50000000,50000000,50000000,50000000,50000000,50000000,50000000,50000000,50000000,50000000,50000000,50000000,50000000,50000000,50000000,50000000,50000000,50000000,50000000,50000000,50000000,50000000,50000000,50000000,50000000,50000000,50000000,50000000,50000000,50000000,50000000,50000000,50000000,50000000,50000000,50000000,50000000,50000000,50000000,50000000,50000000,50000000,50000000,50000000,50000000,50000000,50000000,50000000,50000000,50000000,50000000,50000000,50000000,50000000,50000000,50000000,50000000,50000000,50000000,50000000,50000000,50000000,50000000,50000000,50000000,50000000,50000000,50000000,50000000,50000000,50000000,50000000,50000000,50000000,50000000,50000000,50000000,50000000,50000000,50000000,50000000,50000000,50000000,50000000,50000000,50000000,50000000,50000000,50000000,50000000,50000000,50000000,50000000,50000000,50000000,50000000,50000000,50000000,50000000,50000000,50000000,50000000,50000000,50000000,50000000,50000000,50000000,50000000,50000000,50000000,50000000,50000000,50000000,50000000,50000000,50000000,50000000,50000000,50000000,50000000,50000000,50000000,50000000,50000000,50000000,50000000,50000000,50000000,50000000,50000000,50000000,50000000,50000000,50000000,50000000,50000000,50000000,50000000,100000000,100000000,100000000,100000000,100000000,100000000,100000000,100000000,100000000,100000000,100000000,100000000,100000000,100000000,100000000,100000000,100000000,100000000,100000000,100000000,100000000,100000000,100000000,100000000,100000000,100000000,100000000,100000000,100000000,100000000,100000000,100000000,100000000,100000000,100000000,100000000,100000000,100000000,100000000,100000000,100000000,100000000,100000000,100000000,100000000,100000000,100000000,100000000,100000000,100000000,100000000,100000000,100000000,100000000,100000000,100000000,100000000,100000000,100000000,100000000,100000000,100000000,100000000,100000000,100000000,100000000,100000000,100000000,100000000,100000000,100000000,100000000,100000000,100000000,100000000,100000000,100000000,100000000,100000000,100000000,100000000,100000000,100000000,100000000,100000000,100000000,100000000,100000000,100000000,100000000,100000000,100000000,100000000,100000000,100000000,100000000,100000000,100000000,100000000,100000000,100000000,100000000,100000000,100000000,100000000,100000000,100000000,100000000,100000000,100000000,100000000,100000000,100000000,100000000,100000000,100000000,100000000,100000000,100000000,100000000,100000000,100000000,100000000,100000000,100000000,100000000,100000000,100000000,100000000,100000000,100000000,100000000,100000000,100000000,100000000,100000000,100000000,100000000,100000000,100000000,100000000,100000000,100000000,100000000,100000000,100000000,100000000,100000000,100000000,100000000,100000000,100000000,100000000,100000000,100000000,100000000,100000000,100000000,100000000,100000000,100000000,100000000,100000000,100000000,100000000,100000000,100000000,100000000,100000000,100000000,100000000,100000000,100000000,100000000,100000000,100000000,100000000,100000000,100000000,100000000,100000000,100000000,100000000,100000000,100000000,100000000,100000000,100000000,100000000,500000000,500000000,500000000,500000000,500000000,500000000,500000000,500000000,500000000,500000000,500000000,500000000,500000000,500000000,500000000,500000000,500000000,500000000,500000000,500000000,500000000,500000000,500000000,500000000,1000000000,1000000000,1000000000,1000000000,1000000000,1000000000,1000000000,1000000000,1000000000,1000000000,1000000000,1000000000,1000000000,1000000000,1000000000,1000000000,1000000000,1000000000,1000000000,1000000000],\"y0\":\" \",\"yaxis\":\"y\",\"type\":\"box\"},{\"alignmentgroup\":\"True\",\"boxpoints\":\"all\",\"hovertemplate\":\"Type=%{x}<br>Installs=%{y}<extra></extra>\",\"legendgroup\":\"Paid\",\"marker\":{\"color\":\"#EF553B\"},\"name\":\"Paid\",\"notched\":true,\"offsetgroup\":\"Paid\",\"orientation\":\"v\",\"showlegend\":true,\"x\":[\"Paid\",\"Paid\",\"Paid\",\"Paid\",\"Paid\",\"Paid\",\"Paid\",\"Paid\",\"Paid\",\"Paid\",\"Paid\",\"Paid\",\"Paid\",\"Paid\",\"Paid\",\"Paid\",\"Paid\",\"Paid\",\"Paid\",\"Paid\",\"Paid\",\"Paid\",\"Paid\",\"Paid\",\"Paid\",\"Paid\",\"Paid\",\"Paid\",\"Paid\",\"Paid\",\"Paid\",\"Paid\",\"Paid\",\"Paid\",\"Paid\",\"Paid\",\"Paid\",\"Paid\",\"Paid\",\"Paid\",\"Paid\",\"Paid\",\"Paid\",\"Paid\",\"Paid\",\"Paid\",\"Paid\",\"Paid\",\"Paid\",\"Paid\",\"Paid\",\"Paid\",\"Paid\",\"Paid\",\"Paid\",\"Paid\",\"Paid\",\"Paid\",\"Paid\",\"Paid\",\"Paid\",\"Paid\",\"Paid\",\"Paid\",\"Paid\",\"Paid\",\"Paid\",\"Paid\",\"Paid\",\"Paid\",\"Paid\",\"Paid\",\"Paid\",\"Paid\",\"Paid\",\"Paid\",\"Paid\",\"Paid\",\"Paid\",\"Paid\",\"Paid\",\"Paid\",\"Paid\",\"Paid\",\"Paid\",\"Paid\",\"Paid\",\"Paid\",\"Paid\",\"Paid\",\"Paid\",\"Paid\",\"Paid\",\"Paid\",\"Paid\",\"Paid\",\"Paid\",\"Paid\",\"Paid\",\"Paid\",\"Paid\",\"Paid\",\"Paid\",\"Paid\",\"Paid\",\"Paid\",\"Paid\",\"Paid\",\"Paid\",\"Paid\",\"Paid\",\"Paid\",\"Paid\",\"Paid\",\"Paid\",\"Paid\",\"Paid\",\"Paid\",\"Paid\",\"Paid\",\"Paid\",\"Paid\",\"Paid\",\"Paid\",\"Paid\",\"Paid\",\"Paid\",\"Paid\",\"Paid\",\"Paid\",\"Paid\",\"Paid\",\"Paid\",\"Paid\",\"Paid\",\"Paid\",\"Paid\",\"Paid\",\"Paid\",\"Paid\",\"Paid\",\"Paid\",\"Paid\",\"Paid\",\"Paid\",\"Paid\",\"Paid\",\"Paid\",\"Paid\",\"Paid\",\"Paid\",\"Paid\",\"Paid\",\"Paid\",\"Paid\",\"Paid\",\"Paid\",\"Paid\",\"Paid\",\"Paid\",\"Paid\",\"Paid\",\"Paid\",\"Paid\",\"Paid\",\"Paid\",\"Paid\",\"Paid\",\"Paid\",\"Paid\",\"Paid\",\"Paid\",\"Paid\",\"Paid\",\"Paid\",\"Paid\",\"Paid\",\"Paid\",\"Paid\",\"Paid\",\"Paid\",\"Paid\",\"Paid\",\"Paid\",\"Paid\",\"Paid\",\"Paid\",\"Paid\",\"Paid\",\"Paid\",\"Paid\",\"Paid\",\"Paid\",\"Paid\",\"Paid\",\"Paid\",\"Paid\",\"Paid\",\"Paid\",\"Paid\",\"Paid\",\"Paid\",\"Paid\",\"Paid\",\"Paid\",\"Paid\",\"Paid\",\"Paid\",\"Paid\",\"Paid\",\"Paid\",\"Paid\",\"Paid\",\"Paid\",\"Paid\",\"Paid\",\"Paid\",\"Paid\",\"Paid\",\"Paid\",\"Paid\",\"Paid\",\"Paid\",\"Paid\",\"Paid\",\"Paid\",\"Paid\",\"Paid\",\"Paid\",\"Paid\",\"Paid\",\"Paid\",\"Paid\",\"Paid\",\"Paid\",\"Paid\",\"Paid\",\"Paid\",\"Paid\",\"Paid\",\"Paid\",\"Paid\",\"Paid\",\"Paid\",\"Paid\",\"Paid\",\"Paid\",\"Paid\",\"Paid\",\"Paid\",\"Paid\",\"Paid\",\"Paid\",\"Paid\",\"Paid\",\"Paid\",\"Paid\",\"Paid\",\"Paid\",\"Paid\",\"Paid\",\"Paid\",\"Paid\",\"Paid\",\"Paid\",\"Paid\",\"Paid\",\"Paid\",\"Paid\",\"Paid\",\"Paid\",\"Paid\",\"Paid\",\"Paid\",\"Paid\",\"Paid\",\"Paid\",\"Paid\",\"Paid\",\"Paid\",\"Paid\",\"Paid\",\"Paid\",\"Paid\",\"Paid\",\"Paid\",\"Paid\",\"Paid\",\"Paid\",\"Paid\",\"Paid\",\"Paid\",\"Paid\",\"Paid\",\"Paid\",\"Paid\",\"Paid\",\"Paid\",\"Paid\",\"Paid\",\"Paid\",\"Paid\",\"Paid\",\"Paid\",\"Paid\",\"Paid\",\"Paid\",\"Paid\",\"Paid\",\"Paid\",\"Paid\",\"Paid\",\"Paid\",\"Paid\",\"Paid\",\"Paid\",\"Paid\",\"Paid\",\"Paid\",\"Paid\",\"Paid\",\"Paid\",\"Paid\",\"Paid\",\"Paid\",\"Paid\",\"Paid\",\"Paid\",\"Paid\",\"Paid\",\"Paid\",\"Paid\",\"Paid\",\"Paid\",\"Paid\",\"Paid\",\"Paid\",\"Paid\",\"Paid\",\"Paid\",\"Paid\",\"Paid\",\"Paid\",\"Paid\",\"Paid\",\"Paid\",\"Paid\",\"Paid\",\"Paid\",\"Paid\",\"Paid\",\"Paid\",\"Paid\",\"Paid\",\"Paid\",\"Paid\",\"Paid\",\"Paid\",\"Paid\",\"Paid\",\"Paid\",\"Paid\",\"Paid\",\"Paid\",\"Paid\",\"Paid\",\"Paid\",\"Paid\",\"Paid\",\"Paid\",\"Paid\",\"Paid\",\"Paid\",\"Paid\",\"Paid\",\"Paid\",\"Paid\",\"Paid\",\"Paid\",\"Paid\",\"Paid\",\"Paid\",\"Paid\",\"Paid\",\"Paid\",\"Paid\",\"Paid\",\"Paid\",\"Paid\",\"Paid\",\"Paid\",\"Paid\",\"Paid\",\"Paid\",\"Paid\",\"Paid\",\"Paid\",\"Paid\",\"Paid\",\"Paid\",\"Paid\",\"Paid\",\"Paid\",\"Paid\",\"Paid\",\"Paid\",\"Paid\",\"Paid\",\"Paid\",\"Paid\",\"Paid\",\"Paid\",\"Paid\",\"Paid\",\"Paid\",\"Paid\",\"Paid\",\"Paid\",\"Paid\",\"Paid\",\"Paid\",\"Paid\",\"Paid\",\"Paid\",\"Paid\",\"Paid\",\"Paid\",\"Paid\",\"Paid\",\"Paid\",\"Paid\",\"Paid\",\"Paid\",\"Paid\",\"Paid\",\"Paid\",\"Paid\",\"Paid\",\"Paid\",\"Paid\",\"Paid\",\"Paid\",\"Paid\",\"Paid\",\"Paid\",\"Paid\",\"Paid\",\"Paid\",\"Paid\",\"Paid\",\"Paid\",\"Paid\",\"Paid\",\"Paid\",\"Paid\",\"Paid\",\"Paid\",\"Paid\",\"Paid\",\"Paid\",\"Paid\",\"Paid\",\"Paid\",\"Paid\",\"Paid\",\"Paid\",\"Paid\",\"Paid\",\"Paid\",\"Paid\",\"Paid\",\"Paid\",\"Paid\",\"Paid\",\"Paid\",\"Paid\",\"Paid\",\"Paid\",\"Paid\",\"Paid\",\"Paid\",\"Paid\",\"Paid\",\"Paid\",\"Paid\",\"Paid\",\"Paid\",\"Paid\",\"Paid\",\"Paid\",\"Paid\",\"Paid\",\"Paid\",\"Paid\",\"Paid\",\"Paid\",\"Paid\",\"Paid\",\"Paid\",\"Paid\",\"Paid\",\"Paid\",\"Paid\",\"Paid\",\"Paid\",\"Paid\",\"Paid\",\"Paid\",\"Paid\",\"Paid\",\"Paid\",\"Paid\",\"Paid\",\"Paid\",\"Paid\",\"Paid\",\"Paid\",\"Paid\",\"Paid\",\"Paid\",\"Paid\",\"Paid\",\"Paid\",\"Paid\",\"Paid\",\"Paid\",\"Paid\",\"Paid\",\"Paid\",\"Paid\",\"Paid\",\"Paid\",\"Paid\",\"Paid\",\"Paid\",\"Paid\",\"Paid\",\"Paid\",\"Paid\",\"Paid\",\"Paid\",\"Paid\",\"Paid\",\"Paid\",\"Paid\",\"Paid\",\"Paid\",\"Paid\",\"Paid\",\"Paid\",\"Paid\",\"Paid\",\"Paid\",\"Paid\",\"Paid\",\"Paid\",\"Paid\",\"Paid\",\"Paid\",\"Paid\",\"Paid\",\"Paid\",\"Paid\",\"Paid\",\"Paid\",\"Paid\",\"Paid\",\"Paid\",\"Paid\",\"Paid\",\"Paid\",\"Paid\",\"Paid\",\"Paid\",\"Paid\",\"Paid\",\"Paid\",\"Paid\",\"Paid\",\"Paid\",\"Paid\",\"Paid\",\"Paid\",\"Paid\",\"Paid\",\"Paid\",\"Paid\",\"Paid\",\"Paid\"],\"x0\":\" \",\"xaxis\":\"x\",\"y\":[1,1,10,10,10,10,10,10,10,10,10,10,10,10,10,10,10,10,10,10,50,50,50,50,50,50,50,50,50,50,50,50,50,50,100,100,100,100,100,100,100,100,100,100,100,100,100,100,100,100,100,100,100,100,100,100,100,100,100,100,100,100,100,100,100,100,100,100,100,100,100,100,100,100,100,100,100,100,100,100,100,100,100,100,100,100,100,100,100,100,100,100,100,100,100,100,100,100,100,500,500,500,500,500,500,500,500,500,500,500,500,500,500,500,500,500,500,500,500,500,500,500,500,500,500,500,500,500,500,500,500,500,500,500,500,1000,1000,1000,1000,1000,1000,1000,1000,1000,1000,1000,1000,1000,1000,1000,1000,1000,1000,1000,1000,1000,1000,1000,1000,1000,1000,1000,1000,1000,1000,1000,1000,1000,1000,1000,1000,1000,1000,1000,1000,1000,1000,1000,1000,1000,1000,1000,1000,1000,1000,1000,1000,1000,1000,1000,1000,1000,1000,1000,1000,1000,1000,1000,1000,1000,1000,1000,1000,1000,1000,1000,1000,1000,1000,1000,1000,1000,1000,1000,1000,1000,1000,1000,1000,1000,1000,1000,1000,1000,1000,1000,1000,1000,1000,1000,1000,1000,1000,1000,1000,1000,1000,1000,1000,1000,1000,1000,1000,1000,1000,1000,1000,1000,1000,1000,1000,1000,1000,1000,1000,1000,1000,1000,1000,1000,1000,1000,5000,5000,5000,5000,5000,5000,5000,5000,5000,5000,5000,5000,5000,5000,5000,5000,5000,5000,5000,5000,5000,5000,5000,5000,5000,5000,5000,5000,5000,5000,5000,5000,5000,5000,5000,5000,5000,5000,5000,5000,5000,5000,5000,5000,5000,5000,5000,5000,5000,5000,5000,5000,5000,5000,5000,5000,5000,5000,5000,5000,5000,5000,10000,10000,10000,10000,10000,10000,10000,10000,10000,10000,10000,10000,10000,10000,10000,10000,10000,10000,10000,10000,10000,10000,10000,10000,10000,10000,10000,10000,10000,10000,10000,10000,10000,10000,10000,10000,10000,10000,10000,10000,10000,10000,10000,10000,10000,10000,10000,10000,10000,10000,10000,10000,10000,10000,10000,10000,10000,10000,10000,10000,10000,10000,10000,10000,10000,10000,10000,10000,10000,10000,10000,10000,10000,10000,10000,10000,10000,10000,10000,10000,10000,10000,10000,10000,10000,10000,10000,10000,10000,10000,10000,10000,10000,10000,10000,10000,10000,10000,10000,10000,10000,10000,10000,10000,10000,10000,10000,10000,10000,10000,10000,10000,50000,50000,50000,50000,50000,50000,50000,50000,50000,50000,50000,50000,50000,50000,50000,50000,50000,50000,50000,50000,50000,50000,50000,50000,50000,50000,50000,50000,50000,50000,50000,50000,50000,50000,50000,50000,50000,50000,50000,100000,100000,100000,100000,100000,100000,100000,100000,100000,100000,100000,100000,100000,100000,100000,100000,100000,100000,100000,100000,100000,100000,100000,100000,100000,100000,100000,100000,100000,100000,100000,100000,100000,100000,100000,100000,100000,100000,100000,100000,100000,100000,100000,100000,100000,100000,100000,100000,100000,100000,100000,100000,100000,100000,100000,100000,100000,100000,100000,100000,100000,100000,100000,100000,100000,100000,100000,100000,100000,100000,100000,100000,100000,100000,100000,100000,100000,100000,100000,100000,100000,500000,500000,500000,500000,500000,500000,500000,500000,500000,500000,500000,1000000,1000000,1000000,1000000,1000000,1000000,1000000,1000000,1000000,1000000,1000000,1000000,1000000,1000000,1000000,1000000,1000000,1000000,1000000,1000000,10000000,10000000],\"y0\":\" \",\"yaxis\":\"y\",\"type\":\"box\"}],                        {\"template\":{\"data\":{\"histogram2dcontour\":[{\"type\":\"histogram2dcontour\",\"colorbar\":{\"outlinewidth\":0,\"ticks\":\"\"},\"colorscale\":[[0.0,\"#0d0887\"],[0.1111111111111111,\"#46039f\"],[0.2222222222222222,\"#7201a8\"],[0.3333333333333333,\"#9c179e\"],[0.4444444444444444,\"#bd3786\"],[0.5555555555555556,\"#d8576b\"],[0.6666666666666666,\"#ed7953\"],[0.7777777777777778,\"#fb9f3a\"],[0.8888888888888888,\"#fdca26\"],[1.0,\"#f0f921\"]]}],\"choropleth\":[{\"type\":\"choropleth\",\"colorbar\":{\"outlinewidth\":0,\"ticks\":\"\"}}],\"histogram2d\":[{\"type\":\"histogram2d\",\"colorbar\":{\"outlinewidth\":0,\"ticks\":\"\"},\"colorscale\":[[0.0,\"#0d0887\"],[0.1111111111111111,\"#46039f\"],[0.2222222222222222,\"#7201a8\"],[0.3333333333333333,\"#9c179e\"],[0.4444444444444444,\"#bd3786\"],[0.5555555555555556,\"#d8576b\"],[0.6666666666666666,\"#ed7953\"],[0.7777777777777778,\"#fb9f3a\"],[0.8888888888888888,\"#fdca26\"],[1.0,\"#f0f921\"]]}],\"heatmap\":[{\"type\":\"heatmap\",\"colorbar\":{\"outlinewidth\":0,\"ticks\":\"\"},\"colorscale\":[[0.0,\"#0d0887\"],[0.1111111111111111,\"#46039f\"],[0.2222222222222222,\"#7201a8\"],[0.3333333333333333,\"#9c179e\"],[0.4444444444444444,\"#bd3786\"],[0.5555555555555556,\"#d8576b\"],[0.6666666666666666,\"#ed7953\"],[0.7777777777777778,\"#fb9f3a\"],[0.8888888888888888,\"#fdca26\"],[1.0,\"#f0f921\"]]}],\"heatmapgl\":[{\"type\":\"heatmapgl\",\"colorbar\":{\"outlinewidth\":0,\"ticks\":\"\"},\"colorscale\":[[0.0,\"#0d0887\"],[0.1111111111111111,\"#46039f\"],[0.2222222222222222,\"#7201a8\"],[0.3333333333333333,\"#9c179e\"],[0.4444444444444444,\"#bd3786\"],[0.5555555555555556,\"#d8576b\"],[0.6666666666666666,\"#ed7953\"],[0.7777777777777778,\"#fb9f3a\"],[0.8888888888888888,\"#fdca26\"],[1.0,\"#f0f921\"]]}],\"contourcarpet\":[{\"type\":\"contourcarpet\",\"colorbar\":{\"outlinewidth\":0,\"ticks\":\"\"}}],\"contour\":[{\"type\":\"contour\",\"colorbar\":{\"outlinewidth\":0,\"ticks\":\"\"},\"colorscale\":[[0.0,\"#0d0887\"],[0.1111111111111111,\"#46039f\"],[0.2222222222222222,\"#7201a8\"],[0.3333333333333333,\"#9c179e\"],[0.4444444444444444,\"#bd3786\"],[0.5555555555555556,\"#d8576b\"],[0.6666666666666666,\"#ed7953\"],[0.7777777777777778,\"#fb9f3a\"],[0.8888888888888888,\"#fdca26\"],[1.0,\"#f0f921\"]]}],\"surface\":[{\"type\":\"surface\",\"colorbar\":{\"outlinewidth\":0,\"ticks\":\"\"},\"colorscale\":[[0.0,\"#0d0887\"],[0.1111111111111111,\"#46039f\"],[0.2222222222222222,\"#7201a8\"],[0.3333333333333333,\"#9c179e\"],[0.4444444444444444,\"#bd3786\"],[0.5555555555555556,\"#d8576b\"],[0.6666666666666666,\"#ed7953\"],[0.7777777777777778,\"#fb9f3a\"],[0.8888888888888888,\"#fdca26\"],[1.0,\"#f0f921\"]]}],\"mesh3d\":[{\"type\":\"mesh3d\",\"colorbar\":{\"outlinewidth\":0,\"ticks\":\"\"}}],\"scatter\":[{\"fillpattern\":{\"fillmode\":\"overlay\",\"size\":10,\"solidity\":0.2},\"type\":\"scatter\"}],\"parcoords\":[{\"type\":\"parcoords\",\"line\":{\"colorbar\":{\"outlinewidth\":0,\"ticks\":\"\"}}}],\"scatterpolargl\":[{\"type\":\"scatterpolargl\",\"marker\":{\"colorbar\":{\"outlinewidth\":0,\"ticks\":\"\"}}}],\"bar\":[{\"error_x\":{\"color\":\"#2a3f5f\"},\"error_y\":{\"color\":\"#2a3f5f\"},\"marker\":{\"line\":{\"color\":\"#E5ECF6\",\"width\":0.5},\"pattern\":{\"fillmode\":\"overlay\",\"size\":10,\"solidity\":0.2}},\"type\":\"bar\"}],\"scattergeo\":[{\"type\":\"scattergeo\",\"marker\":{\"colorbar\":{\"outlinewidth\":0,\"ticks\":\"\"}}}],\"scatterpolar\":[{\"type\":\"scatterpolar\",\"marker\":{\"colorbar\":{\"outlinewidth\":0,\"ticks\":\"\"}}}],\"histogram\":[{\"marker\":{\"pattern\":{\"fillmode\":\"overlay\",\"size\":10,\"solidity\":0.2}},\"type\":\"histogram\"}],\"scattergl\":[{\"type\":\"scattergl\",\"marker\":{\"colorbar\":{\"outlinewidth\":0,\"ticks\":\"\"}}}],\"scatter3d\":[{\"type\":\"scatter3d\",\"line\":{\"colorbar\":{\"outlinewidth\":0,\"ticks\":\"\"}},\"marker\":{\"colorbar\":{\"outlinewidth\":0,\"ticks\":\"\"}}}],\"scattermapbox\":[{\"type\":\"scattermapbox\",\"marker\":{\"colorbar\":{\"outlinewidth\":0,\"ticks\":\"\"}}}],\"scatterternary\":[{\"type\":\"scatterternary\",\"marker\":{\"colorbar\":{\"outlinewidth\":0,\"ticks\":\"\"}}}],\"scattercarpet\":[{\"type\":\"scattercarpet\",\"marker\":{\"colorbar\":{\"outlinewidth\":0,\"ticks\":\"\"}}}],\"carpet\":[{\"aaxis\":{\"endlinecolor\":\"#2a3f5f\",\"gridcolor\":\"white\",\"linecolor\":\"white\",\"minorgridcolor\":\"white\",\"startlinecolor\":\"#2a3f5f\"},\"baxis\":{\"endlinecolor\":\"#2a3f5f\",\"gridcolor\":\"white\",\"linecolor\":\"white\",\"minorgridcolor\":\"white\",\"startlinecolor\":\"#2a3f5f\"},\"type\":\"carpet\"}],\"table\":[{\"cells\":{\"fill\":{\"color\":\"#EBF0F8\"},\"line\":{\"color\":\"white\"}},\"header\":{\"fill\":{\"color\":\"#C8D4E3\"},\"line\":{\"color\":\"white\"}},\"type\":\"table\"}],\"barpolar\":[{\"marker\":{\"line\":{\"color\":\"#E5ECF6\",\"width\":0.5},\"pattern\":{\"fillmode\":\"overlay\",\"size\":10,\"solidity\":0.2}},\"type\":\"barpolar\"}],\"pie\":[{\"automargin\":true,\"type\":\"pie\"}]},\"layout\":{\"autotypenumbers\":\"strict\",\"colorway\":[\"#636efa\",\"#EF553B\",\"#00cc96\",\"#ab63fa\",\"#FFA15A\",\"#19d3f3\",\"#FF6692\",\"#B6E880\",\"#FF97FF\",\"#FECB52\"],\"font\":{\"color\":\"#2a3f5f\"},\"hovermode\":\"closest\",\"hoverlabel\":{\"align\":\"left\"},\"paper_bgcolor\":\"white\",\"plot_bgcolor\":\"#E5ECF6\",\"polar\":{\"bgcolor\":\"#E5ECF6\",\"angularaxis\":{\"gridcolor\":\"white\",\"linecolor\":\"white\",\"ticks\":\"\"},\"radialaxis\":{\"gridcolor\":\"white\",\"linecolor\":\"white\",\"ticks\":\"\"}},\"ternary\":{\"bgcolor\":\"#E5ECF6\",\"aaxis\":{\"gridcolor\":\"white\",\"linecolor\":\"white\",\"ticks\":\"\"},\"baxis\":{\"gridcolor\":\"white\",\"linecolor\":\"white\",\"ticks\":\"\"},\"caxis\":{\"gridcolor\":\"white\",\"linecolor\":\"white\",\"ticks\":\"\"}},\"coloraxis\":{\"colorbar\":{\"outlinewidth\":0,\"ticks\":\"\"}},\"colorscale\":{\"sequential\":[[0.0,\"#0d0887\"],[0.1111111111111111,\"#46039f\"],[0.2222222222222222,\"#7201a8\"],[0.3333333333333333,\"#9c179e\"],[0.4444444444444444,\"#bd3786\"],[0.5555555555555556,\"#d8576b\"],[0.6666666666666666,\"#ed7953\"],[0.7777777777777778,\"#fb9f3a\"],[0.8888888888888888,\"#fdca26\"],[1.0,\"#f0f921\"]],\"sequentialminus\":[[0.0,\"#0d0887\"],[0.1111111111111111,\"#46039f\"],[0.2222222222222222,\"#7201a8\"],[0.3333333333333333,\"#9c179e\"],[0.4444444444444444,\"#bd3786\"],[0.5555555555555556,\"#d8576b\"],[0.6666666666666666,\"#ed7953\"],[0.7777777777777778,\"#fb9f3a\"],[0.8888888888888888,\"#fdca26\"],[1.0,\"#f0f921\"]],\"diverging\":[[0,\"#8e0152\"],[0.1,\"#c51b7d\"],[0.2,\"#de77ae\"],[0.3,\"#f1b6da\"],[0.4,\"#fde0ef\"],[0.5,\"#f7f7f7\"],[0.6,\"#e6f5d0\"],[0.7,\"#b8e186\"],[0.8,\"#7fbc41\"],[0.9,\"#4d9221\"],[1,\"#276419\"]]},\"xaxis\":{\"gridcolor\":\"white\",\"linecolor\":\"white\",\"ticks\":\"\",\"title\":{\"standoff\":15},\"zerolinecolor\":\"white\",\"automargin\":true,\"zerolinewidth\":2},\"yaxis\":{\"gridcolor\":\"white\",\"linecolor\":\"white\",\"ticks\":\"\",\"title\":{\"standoff\":15},\"zerolinecolor\":\"white\",\"automargin\":true,\"zerolinewidth\":2},\"scene\":{\"xaxis\":{\"backgroundcolor\":\"#E5ECF6\",\"gridcolor\":\"white\",\"linecolor\":\"white\",\"showbackground\":true,\"ticks\":\"\",\"zerolinecolor\":\"white\",\"gridwidth\":2},\"yaxis\":{\"backgroundcolor\":\"#E5ECF6\",\"gridcolor\":\"white\",\"linecolor\":\"white\",\"showbackground\":true,\"ticks\":\"\",\"zerolinecolor\":\"white\",\"gridwidth\":2},\"zaxis\":{\"backgroundcolor\":\"#E5ECF6\",\"gridcolor\":\"white\",\"linecolor\":\"white\",\"showbackground\":true,\"ticks\":\"\",\"zerolinecolor\":\"white\",\"gridwidth\":2}},\"shapedefaults\":{\"line\":{\"color\":\"#2a3f5f\"}},\"annotationdefaults\":{\"arrowcolor\":\"#2a3f5f\",\"arrowhead\":0,\"arrowwidth\":1},\"geo\":{\"bgcolor\":\"white\",\"landcolor\":\"#E5ECF6\",\"subunitcolor\":\"white\",\"showland\":true,\"showlakes\":true,\"lakecolor\":\"white\"},\"title\":{\"x\":0.05},\"mapbox\":{\"style\":\"light\"}}},\"xaxis\":{\"anchor\":\"y\",\"domain\":[0.0,1.0],\"title\":{\"text\":\"Type\"},\"categoryorder\":\"array\",\"categoryarray\":[\"Free\",\"Paid\"]},\"yaxis\":{\"anchor\":\"x\",\"domain\":[0.0,1.0],\"title\":{\"text\":\"Installs\"},\"type\":\"log\"},\"legend\":{\"title\":{\"text\":\"Type\"},\"tracegroupgap\":0},\"title\":{\"text\":\"How Many Downloads are Paid Apps Giving Up?\"},\"boxmode\":\"overlay\"},                        {\"responsive\": true}                    ).then(function(){\n",
       "                            \n",
       "var gd = document.getElementById('f2beb570-dc7d-450f-8a60-a7c6ee3671c5');\n",
       "var x = new MutationObserver(function (mutations, observer) {{\n",
       "        var display = window.getComputedStyle(gd).display;\n",
       "        if (!display || display === 'none') {{\n",
       "            console.log([gd, 'removed!']);\n",
       "            Plotly.purge(gd);\n",
       "            observer.disconnect();\n",
       "        }}\n",
       "}});\n",
       "\n",
       "// Listen for the removal of the full notebook cells\n",
       "var notebookContainer = gd.closest('#notebook-container');\n",
       "if (notebookContainer) {{\n",
       "    x.observe(notebookContainer, {childList: true});\n",
       "}}\n",
       "\n",
       "// Listen for the clearing of the current output cell\n",
       "var outputEl = gd.closest('.output');\n",
       "if (outputEl) {{\n",
       "    x.observe(outputEl, {childList: true});\n",
       "}}\n",
       "\n",
       "                        })                };                });            </script>        </div>"
      ]
     },
     "metadata": {},
     "output_type": "display_data"
    }
   ],
   "source": [
    "box = px.box(df_apps_clean,\n",
    "             y='Installs',\n",
    "             x='Type',\n",
    "             color='Type',\n",
    "             notched=True,\n",
    "             points='all',\n",
    "             title='How Many Downloads are Paid Apps Giving Up?')\n",
    " \n",
    "box.update_layout(yaxis=dict(type='log'))\n",
    " \n",
    "box.show()"
   ]
  },
  {
   "cell_type": "markdown",
   "id": "e9d02b9f",
   "metadata": {
    "papermill": {
     "duration": 0.039001,
     "end_time": "2022-11-19T13:23:41.042806",
     "exception": false,
     "start_time": "2022-11-19T13:23:41.003805",
     "status": "completed"
    },
    "tags": []
   },
   "source": [
    "But does this mean we should give up on selling a paid app? Let’s see how much revenue we would estimate per category."
   ]
  },
  {
   "cell_type": "markdown",
   "id": "1bf6c593",
   "metadata": {
    "id": "Xi2NaEBPVNrP",
    "papermill": {
     "duration": 0.03958,
     "end_time": "2022-11-19T13:23:41.122021",
     "exception": false,
     "start_time": "2022-11-19T13:23:41.082441",
     "status": "completed"
    },
    "tags": []
   },
   "source": [
    "# Plotly Box Plots: Revenue by App Category\n",
    "\n",
    "**Challenge**: See if you can generate the chart below: \n",
    "\n",
    "<img src=https://imgur.com/v4CiNqX.png>\n",
    "\n",
    "Looking at the hover text, how much does the median app earn in the Tools category? If developing an Android app costs $30,000 or thereabouts, does the average photography app recoup its development costs?\n",
    "\n",
    "Hint: I've used 'min ascending' to sort the categories. "
   ]
  },
  {
   "cell_type": "markdown",
   "id": "deefe8a7",
   "metadata": {
    "papermill": {
     "duration": 0.039071,
     "end_time": "2022-11-19T13:23:41.200507",
     "exception": false,
     "start_time": "2022-11-19T13:23:41.161436",
     "status": "completed"
    },
    "tags": []
   },
   "source": [
    "**App Revenue by Category**\n",
    "\n",
    "If an Android app costs 30,000 to develop, then the average app in very few categories would cover that development cost. The median paid photography app earned about 20,000. Many more app’s revenues were even lower - meaning they would need other sources of revenue like advertising or in-app purchases to make up for their development costs. However, certain app categories seem to contain a large number of outliers that have much higher (estimated) revenue - for example in Medical, Personalisation, Tools, Game, and Family."
   ]
  },
  {
   "cell_type": "markdown",
   "id": "529b455e",
   "metadata": {
    "papermill": {
     "duration": 0.041011,
     "end_time": "2022-11-19T13:23:41.281472",
     "exception": false,
     "start_time": "2022-11-19T13:23:41.240461",
     "status": "completed"
    },
    "tags": []
   },
   "source": [
    "So, if you were to list a paid app, how should you price it? To help you decide we can look at how your competitors in the same category price their apps."
   ]
  },
  {
   "cell_type": "code",
   "execution_count": 47,
   "id": "214c13c5",
   "metadata": {
    "execution": {
     "iopub.execute_input": "2022-11-19T13:23:41.364431Z",
     "iopub.status.busy": "2022-11-19T13:23:41.363607Z",
     "iopub.status.idle": "2022-11-19T13:23:41.425440Z",
     "shell.execute_reply": "2022-11-19T13:23:41.424575Z"
    },
    "id": "W1iVoT8Dos7x",
    "papermill": {
     "duration": 0.106017,
     "end_time": "2022-11-19T13:23:41.427594",
     "exception": false,
     "start_time": "2022-11-19T13:23:41.321577",
     "status": "completed"
    },
    "tags": []
   },
   "outputs": [
    {
     "data": {
      "text/html": [
       "<div>                            <div id=\"ec24e920-c06f-4305-80ea-e4977e89af4a\" class=\"plotly-graph-div\" style=\"height:525px; width:100%;\"></div>            <script type=\"text/javascript\">                require([\"plotly\"], function(Plotly) {                    window.PLOTLYENV=window.PLOTLYENV || {};                                    if (document.getElementById(\"ec24e920-c06f-4305-80ea-e4977e89af4a\")) {                    Plotly.newPlot(                        \"ec24e920-c06f-4305-80ea-e4977e89af4a\",                        [{\"alignmentgroup\":\"True\",\"hovertemplate\":\"Category=%{x}<br>Revenue_Estimate=%{y}<extra></extra>\",\"legendgroup\":\"\",\"marker\":{\"color\":\"#636efa\"},\"name\":\"\",\"notched\":false,\"offsetgroup\":\"\",\"orientation\":\"v\",\"showlegend\":false,\"x\":[\"GAME\",\"GAME\",\"FAMILY\",\"BUSINESS\",\"LIFESTYLE\",\"FAMILY\",\"PERSONALIZATION\",\"PHOTOGRAPHY\",\"FAMILY\",\"GAME\",\"PRODUCTIVITY\",\"PHOTOGRAPHY\",\"FAMILY\",\"TOOLS\",\"TOOLS\",\"PERSONALIZATION\",\"FAMILY\",\"FAMILY\",\"FAMILY\",\"FAMILY\",\"GAME\",\"TOOLS\",\"PERSONALIZATION\",\"PERSONALIZATION\",\"PERSONALIZATION\",\"TOOLS\",\"FAMILY\",\"FAMILY\",\"BUSINESS\",\"BOOKS_AND_REFERENCE\",\"FAMILY\",\"FAMILY\",\"FAMILY\",\"PERSONALIZATION\",\"PERSONALIZATION\",\"PERSONALIZATION\",\"GAME\",\"PERSONALIZATION\",\"FAMILY\",\"FINANCE\",\"SHOPPING\",\"DATING\",\"PERSONALIZATION\",\"GAME\",\"FAMILY\",\"PRODUCTIVITY\",\"FAMILY\",\"MEDICAL\",\"SPORTS\",\"MEDICAL\",\"PRODUCTIVITY\",\"BUSINESS\",\"PARENTING\",\"LIFESTYLE\",\"FAMILY\",\"TOOLS\",\"MAPS_AND_NAVIGATION\",\"COMMUNICATION\",\"PERSONALIZATION\",\"COMMUNICATION\",\"FAMILY\",\"PERSONALIZATION\",\"FAMILY\",\"FAMILY\",\"FAMILY\",\"TOOLS\",\"FAMILY\",\"SPORTS\",\"FAMILY\",\"MEDICAL\",\"FAMILY\",\"FAMILY\",\"GAME\",\"TOOLS\",\"FAMILY\",\"FAMILY\",\"PERSONALIZATION\",\"BOOKS_AND_REFERENCE\",\"GAME\",\"PERSONALIZATION\",\"GAME\",\"GAME\",\"TOOLS\",\"MEDICAL\",\"TOOLS\",\"TOOLS\",\"PERSONALIZATION\",\"GAME\",\"COMMUNICATION\",\"MEDICAL\",\"SPORTS\",\"PERSONALIZATION\",\"COMMUNICATION\",\"COMMUNICATION\",\"PERSONALIZATION\",\"TOOLS\",\"PERSONALIZATION\",\"PERSONALIZATION\",\"PRODUCTIVITY\",\"MEDICAL\",\"FAMILY\",\"TOOLS\",\"TOOLS\",\"BUSINESS\",\"COMMUNICATION\",\"FAMILY\",\"PERSONALIZATION\",\"PHOTOGRAPHY\",\"MEDICAL\",\"PERSONALIZATION\",\"MEDICAL\",\"COMMUNICATION\",\"PRODUCTIVITY\",\"BOOKS_AND_REFERENCE\",\"TOOLS\",\"WEATHER\",\"FAMILY\",\"FAMILY\",\"MEDICAL\",\"FAMILY\",\"TOOLS\",\"TOOLS\",\"SPORTS\",\"GAME\",\"MEDICAL\",\"PERSONALIZATION\",\"PERSONALIZATION\",\"NEWS_AND_MAGAZINES\",\"COMMUNICATION\",\"TOOLS\",\"MEDICAL\",\"FINANCE\",\"FAMILY\",\"PERSONALIZATION\",\"PERSONALIZATION\",\"MEDICAL\",\"FAMILY\",\"MEDICAL\",\"MEDICAL\",\"FAMILY\",\"FAMILY\",\"FAMILY\",\"GAME\",\"PERSONALIZATION\",\"TOOLS\",\"PERSONALIZATION\",\"GAME\",\"GAME\",\"GAME\",\"FAMILY\",\"FAMILY\",\"PRODUCTIVITY\",\"COMMUNICATION\",\"SPORTS\",\"SPORTS\",\"FAMILY\",\"PERSONALIZATION\",\"MEDICAL\",\"SPORTS\",\"COMMUNICATION\",\"LIFESTYLE\",\"FAMILY\",\"MEDICAL\",\"MEDICAL\",\"TOOLS\",\"PRODUCTIVITY\",\"FINANCE\",\"HEALTH_AND_FITNESS\",\"MEDICAL\",\"PHOTOGRAPHY\",\"FAMILY\",\"FAMILY\",\"PHOTOGRAPHY\",\"SPORTS\",\"ART_AND_DESIGN\",\"FAMILY\",\"PERSONALIZATION\",\"PRODUCTIVITY\",\"HEALTH_AND_FITNESS\",\"MEDICAL\",\"TOOLS\",\"PRODUCTIVITY\",\"GAME\",\"TOOLS\",\"MEDICAL\",\"LIFESTYLE\",\"GAME\",\"MEDICAL\",\"TRAVEL_AND_LOCAL\",\"BUSINESS\",\"MEDICAL\",\"COMMUNICATION\",\"PERSONALIZATION\",\"GAME\",\"TRAVEL_AND_LOCAL\",\"GAME\",\"SPORTS\",\"MEDICAL\",\"FAMILY\",\"MEDICAL\",\"TOOLS\",\"BOOKS_AND_REFERENCE\",\"FAMILY\",\"MEDICAL\",\"MEDICAL\",\"GAME\",\"BUSINESS\",\"TOOLS\",\"FAMILY\",\"MEDICAL\",\"PERSONALIZATION\",\"PHOTOGRAPHY\",\"SPORTS\",\"MAPS_AND_NAVIGATION\",\"PERSONALIZATION\",\"GAME\",\"BOOKS_AND_REFERENCE\",\"EDUCATION\",\"FAMILY\",\"FAMILY\",\"SOCIAL\",\"MEDICAL\",\"TOOLS\",\"SPORTS\",\"FAMILY\",\"FAMILY\",\"TOOLS\",\"WEATHER\",\"VIDEO_PLAYERS\",\"MEDICAL\",\"TOOLS\",\"GAME\",\"PERSONALIZATION\",\"MEDICAL\",\"LIFESTYLE\",\"MEDICAL\",\"DATING\",\"HEALTH_AND_FITNESS\",\"MEDICAL\",\"FAMILY\",\"PRODUCTIVITY\",\"EDUCATION\",\"SPORTS\",\"FAMILY\",\"PERSONALIZATION\",\"PERSONALIZATION\",\"FAMILY\",\"GAME\",\"FINANCE\",\"GAME\",\"MEDICAL\",\"FAMILY\",\"MEDICAL\",\"MEDICAL\",\"TOOLS\",\"TOOLS\",\"TOOLS\",\"TOOLS\",\"PERSONALIZATION\",\"PERSONALIZATION\",\"PERSONALIZATION\",\"PERSONALIZATION\",\"FAMILY\",\"GAME\",\"FAMILY\",\"FAMILY\",\"MEDICAL\",\"SPORTS\",\"LIFESTYLE\",\"FAMILY\",\"FAMILY\",\"TRAVEL_AND_LOCAL\",\"PERSONALIZATION\",\"BOOKS_AND_REFERENCE\",\"FAMILY\",\"MEDICAL\",\"MEDICAL\",\"MEDICAL\",\"MEDICAL\",\"PRODUCTIVITY\",\"SOCIAL\",\"SPORTS\",\"TRAVEL_AND_LOCAL\",\"TOOLS\",\"FAMILY\",\"NEWS_AND_MAGAZINES\",\"ART_AND_DESIGN\",\"GAME\",\"PERSONALIZATION\",\"LIFESTYLE\",\"PERSONALIZATION\",\"LIFESTYLE\",\"MEDICAL\",\"FAMILY\",\"FAMILY\",\"BOOKS_AND_REFERENCE\",\"LIFESTYLE\",\"MEDICAL\",\"MEDICAL\",\"TOOLS\",\"SPORTS\",\"MEDICAL\",\"PHOTOGRAPHY\",\"GAME\",\"SPORTS\",\"FAMILY\",\"SPORTS\",\"TOOLS\",\"LIFESTYLE\",\"FAMILY\",\"COMMUNICATION\",\"COMMUNICATION\",\"COMMUNICATION\",\"FAMILY\",\"FAMILY\",\"TOOLS\",\"MEDICAL\",\"TOOLS\",\"TOOLS\",\"TOOLS\",\"TOOLS\",\"TOOLS\",\"TOOLS\",\"PERSONALIZATION\",\"FAMILY\",\"MEDICAL\",\"MEDICAL\",\"MEDICAL\",\"HEALTH_AND_FITNESS\",\"GAME\",\"FAMILY\",\"FAMILY\",\"PHOTOGRAPHY\",\"PERSONALIZATION\",\"LIFESTYLE\",\"GAME\",\"FAMILY\",\"MEDICAL\",\"FAMILY\",\"BUSINESS\",\"GAME\",\"FAMILY\",\"MEDICAL\",\"FAMILY\",\"MAPS_AND_NAVIGATION\",\"BOOKS_AND_REFERENCE\",\"GAME\",\"PERSONALIZATION\",\"PERSONALIZATION\",\"COMMUNICATION\",\"DATING\",\"FOOD_AND_DRINK\",\"LIFESTYLE\",\"FAMILY\",\"FAMILY\",\"MEDICAL\",\"TRAVEL_AND_LOCAL\",\"TOOLS\",\"TOOLS\",\"TOOLS\",\"PERSONALIZATION\",\"VIDEO_PLAYERS\",\"VIDEO_PLAYERS\",\"GAME\",\"FAMILY\",\"FAMILY\",\"FAMILY\",\"FAMILY\",\"PERSONALIZATION\",\"WEATHER\",\"TOOLS\",\"PERSONALIZATION\",\"TOOLS\",\"ART_AND_DESIGN\",\"PERSONALIZATION\",\"PERSONALIZATION\",\"MEDICAL\",\"TOOLS\",\"FAMILY\",\"FINANCE\",\"TOOLS\",\"GAME\",\"FAMILY\",\"FAMILY\",\"TOOLS\",\"TOOLS\",\"GAME\",\"TOOLS\",\"HEALTH_AND_FITNESS\",\"GAME\",\"MEDICAL\",\"COMMUNICATION\",\"FAMILY\",\"GAME\",\"FAMILY\",\"MEDICAL\",\"PERSONALIZATION\",\"FAMILY\",\"SPORTS\",\"FAMILY\",\"TRAVEL_AND_LOCAL\",\"TOOLS\",\"SHOPPING\",\"TOOLS\",\"FAMILY\",\"FAMILY\",\"FAMILY\",\"FAMILY\",\"FAMILY\",\"FAMILY\",\"GAME\",\"MAPS_AND_NAVIGATION\",\"PERSONALIZATION\",\"GAME\",\"FAMILY\",\"FAMILY\",\"FINANCE\",\"TOOLS\",\"TOOLS\",\"FAMILY\",\"FAMILY\",\"MEDICAL\",\"GAME\",\"FAMILY\",\"COMMUNICATION\",\"COMMUNICATION\",\"FAMILY\",\"FAMILY\",\"MEDICAL\",\"MEDICAL\",\"MEDICAL\",\"PHOTOGRAPHY\",\"TOOLS\",\"TOOLS\",\"PERSONALIZATION\",\"PERSONALIZATION\",\"FAMILY\",\"GAME\",\"SPORTS\",\"MEDICAL\",\"GAME\",\"FAMILY\",\"AUTO_AND_VEHICLES\",\"HEALTH_AND_FITNESS\",\"FAMILY\",\"FAMILY\",\"MEDICAL\",\"PHOTOGRAPHY\",\"SPORTS\",\"TOOLS\",\"VIDEO_PLAYERS\",\"FAMILY\",\"FAMILY\",\"PRODUCTIVITY\",\"PERSONALIZATION\",\"PRODUCTIVITY\",\"PERSONALIZATION\",\"FAMILY\",\"FAMILY\",\"GAME\",\"MEDICAL\",\"FAMILY\",\"FAMILY\",\"FOOD_AND_DRINK\",\"FAMILY\",\"FAMILY\",\"FAMILY\",\"TOOLS\",\"HEALTH_AND_FITNESS\",\"PARENTING\",\"FAMILY\",\"GAME\",\"HEALTH_AND_FITNESS\",\"TRAVEL_AND_LOCAL\",\"GAME\",\"WEATHER\",\"FAMILY\",\"MEDICAL\",\"GAME\",\"GAME\",\"MEDICAL\",\"PERSONALIZATION\",\"FAMILY\",\"FAMILY\",\"FAMILY\",\"FAMILY\",\"GAME\",\"PHOTOGRAPHY\",\"FAMILY\",\"BUSINESS\",\"FAMILY\",\"GAME\",\"FAMILY\",\"FAMILY\",\"WEATHER\",\"EDUCATION\",\"COMMUNICATION\",\"ENTERTAINMENT\",\"HEALTH_AND_FITNESS\",\"HEALTH_AND_FITNESS\",\"GAME\",\"GAME\",\"FAMILY\",\"FAMILY\",\"FAMILY\",\"PHOTOGRAPHY\",\"SPORTS\",\"TRAVEL_AND_LOCAL\",\"TOOLS\",\"TOOLS\",\"PERSONALIZATION\",\"PERSONALIZATION\",\"PRODUCTIVITY\",\"PRODUCTIVITY\",\"MAPS_AND_NAVIGATION\",\"GAME\",\"GAME\",\"PRODUCTIVITY\",\"TOOLS\",\"WEATHER\",\"FAMILY\",\"GAME\",\"FAMILY\",\"GAME\",\"TOOLS\",\"GAME\",\"FAMILY\",\"FAMILY\",\"HEALTH_AND_FITNESS\",\"FAMILY\",\"GAME\",\"FAMILY\",\"PERSONALIZATION\",\"BUSINESS\",\"FINANCE\",\"FAMILY\",\"PHOTOGRAPHY\",\"GAME\",\"FAMILY\",\"FAMILY\",\"FAMILY\",\"FAMILY\",\"GAME\",\"FAMILY\",\"GAME\",\"COMMUNICATION\",\"FAMILY\",\"ENTERTAINMENT\",\"COMMUNICATION\",\"GAME\",\"GAME\",\"GAME\",\"GAME\",\"GAME\",\"GAME\",\"PERSONALIZATION\",\"FAMILY\",\"PERSONALIZATION\",\"FAMILY\",\"EDUCATION\",\"WEATHER\",\"PHOTOGRAPHY\",\"PRODUCTIVITY\",\"GAME\",\"FAMILY\",\"FAMILY\",\"PRODUCTIVITY\",\"PERSONALIZATION\",\"GAME\",\"GAME\",\"FAMILY\",\"COMMUNICATION\",\"TOOLS\",\"GAME\",\"PERSONALIZATION\",\"PHOTOGRAPHY\",\"SPORTS\",\"GAME\",\"FAMILY\",\"GAME\",\"GAME\",\"FAMILY\",\"GAME\",\"FAMILY\",\"GAME\",\"LIFESTYLE\",\"FAMILY\",\"GAME\",\"FAMILY\"],\"x0\":\" \",\"xaxis\":\"x\",\"y\":[1.49,0.99,149.9,24.900000000000002,30.4,14.9,9.9,34.900000000000006,29.900000000000002,9.9,9.9,49.900000000000006,9.9,29.900000000000002,9.9,9.9,299.9,199.89999999999998,49.900000000000006,49.900000000000006,99.5,149.5,49.5,49.5,49.5,88.0,149.5,149.5,449.5,87.5,74.5,74.5,49.5,49.5,99.0,99.0,99.0,99.0,1299.0,499.0,249.00000000000003,799.0,199.0,499.0,99.0,499.0,399.0,299.0,388.0,299.0,299.0,1299.0,459.0,99.0,999.0,399.0,999.0,149.0,149.0,149.0,149.0,99.0,299.0,199.0,499.0,149.0,99.0,349.0,199.0,1299.0,99.0,99.0,99.0,199.0,499.0,399.0,99.0,399.0,1400.0,149.0,449.0,199.0,99.0,699.0,599.0,399.0,249.00000000000003,99.0,149.0,3999.0,302.0,149.0,149.0,99.0,99.0,499.0,149.0,99.0,649.0,2995.0,1495.0,1995.0,495.0,8995.0,495.0,995.0,745.0,745.0,1995.0,745.0,1495.0,2495.0,4495.0,495.0,495.0,995.0,1245.0,2495.0,495.0,995.0,995.0,495.0,1495.0,2245.0,1745.0,1000.0,745.0,1495.0,1995.0,1995.0,7995.0,1995.0,1495.0,745.0,495.0,9990.0,2990.0,4990.0,9990.0,2490.0,10990.0,2990.0,990.0,1990.0,1990.0,990.0,3990.0,1610.0,990.0,1990.0,2490.0,4290.0,990.0,3990.0,990.0,2990.0,1490.0,15460.0,1990.0,2990.0,4990.0,7490.0,3990.0,5490.0,2490.0,2990.0,1990.0,4990.0,4990.0,19990.0,2990.0,1990.0,9990.0,990.0,1990.0,2990.0,1700.0,990.0,7990.0,29990.0,2990.0,7990.0,990.0,1490.0,2990.0,4990.0,2490.0,79990.0,2560.0,3990.0,19990.0,2490.0,990.0,990.0,8490.0,6990.0,2990.0,990.0,2990.0,1500.0,4990.0,1990.0,4840.0,14990.0,29990.0,4990.0,4990.0,3990.0,19400.0,33990.0,1490.0,2990.0,2990.0,990.0,990.0,1990.0,3080.0,5990.0,3990.0,2990.0,990.0,1990.0,5990.0,2490.0,990.0,990.0,990.0,6990.0,990.0,16990.0,990.0,3490.0,1700.0,3990.0,37990.0,9990.0,6990.0,1990.0,3990.0,10000.0,1290.0,3990.0,4490.0,2990.0,2490.0,990.0,4990.0,990.0,3990.0,1990.0,7490.0,990.0,10990.0,5990.0,990.0,1490.0,14990.0,4990.0,4990.0,990.0,4990.0,3990.0,24950.0,4950.0,22450.0,29950.0,19950.0,9950.0,19950.0,24950.0,9950.0,19950.0,4950.0,14950.000000000002,7450.0,12450.000000000002,19950.0,19950.0,19950.0,19950.0,4950.0,9950.0,14950.000000000002,4950.0,14950.000000000002,4950.0,9950.0,34950.0,9950.0,4950.0,7450.0,14950.000000000002,29950.0,14950.000000000002,14950.000000000002,23000.0,9950.0,74950.0,4950.0,4950.0,4950.0,14950.000000000002,14950.000000000002,9950.0,14950.000000000002,24950.0,5000.0,74950.0,12450.000000000002,4950.0,24950.0,4950.0,7450.0,19950.0,14950.000000000002,24950.0,19950.0,24950.0,24950.0,24950.0,24950.0,24950.0,5000.0,34950.0,29900.000000000004,99900.0,249899.99999999997,29900.000000000004,39900.0,9900.0,39900.0,39900.0,19900.0,9900.0,79900.0,49900.0,29900.000000000004,100000.0,29900.000000000004,29900.000000000004,29900.000000000004,149900.0,79900.0,129900.0,9900.0,44900.0,169899.99999999997,9900.0,9900.0,49900.0,39900.0,34900.0,24900.000000000004,29900.000000000004,14900.0,69900.0,19900.0,25000.0,39000.0,29500.0,9900.0,14900.0,19900.0,79900.0,29900.000000000004,29900.000000000004,49900.0,19900.0,9900.0,29900.000000000004,29900.000000000004,19900.0,19700.0,19900.0,99900.0,29900.000000000004,54900.0,32800.0,9900.0,29900.000000000004,49900.0,29900.000000000004,149900.0,29900.000000000004,29900.000000000004,29900.000000000004,179899.99999999997,9900.0,69900.0,49900.0,39900.0,29900.000000000004,29900.000000000004,49900.0,12000.0,29900.000000000004,19900.0,49900.0,49900.0,9900.0,59900.0,25900.0,29900.000000000004,19900.0,39900.0,49900.0,39900.0,29900.000000000004,49900.0,29900.000000000004,49900.0,29900.000000000004,9900.0,39900.0,24900.000000000004,9900.0,189899.99999999997,19900.0,19900.0,15900.0,39900.0,119900.0,19900.0,19900.0,29900.000000000004,9900.0,99900.0,39900.0,9900.0,29900.000000000004,19900.0,49900.0,19900.0,29900.000000000004,9900.0,19900.0,49500.0,49500.0,1499500.0,149500.0,99500.0,149500.0,99500.0,99500.0,149500.0,249500.0,199500.0,99500.0,199500.0,149500.0,299500.0,999499.9999999999,499500.0,149500.0,124500.00000000001,74500.0,49500.0,149500.0,149500.0,99500.0,599500.0,249500.0,199500.0,249500.0,149500.0,149500.0,238499.99999999997,149500.0,149500.0,249500.0,249500.0,249500.0,99500.0,124500.00000000001,249500.0,399000.0,399000.0,2499000.0,499000.0,99000.0,900000.0,99000.0,299000.0,299000.0,299000.0,999000.0,299000.0,149000.0,1499000.0,499000.0,799000.0,199000.0,99000.0,99000.0,449000.0,399000.0,399000.0,499000.0,299000.0,299000.0,299000.0,299000.0,399000.0,499000.0,499000.0,395000.0,899000.0,899000.0,249000.00000000003,399000.0,449000.0,199000.0,599000.0,499000.0,1199000.0,499000.0,999000.0,449000.0,349000.0,299000.0,499000.0,499000.0,499000.0,199000.0,449000.0,399000.0,299000.0,1399000.0,349000.0,999000.0,499000.0,299000.0,299000.0,499000.0,299000.0,299000.0,299000.0,299000.0,299000.0,999000.0,99000.0,199000.0,299000.0,149000.0,699000.0,290000.0,299000.0,299000.0,399000.0,299000.0,499000.0,299000.0,299000.0,199000.0,599000.0,499000.0,1495000.0,1245000.0,495000.0,1995000.0,2995000.0,1495000.0,1495000.0,995000.0,1495000.0,2495000.0,995000.0,2490000.0,990000.0,4990000.0,2990000.0,2990000.0,2990000.0,6990000.0,990000.0,5990000.0,1990000.0,2990000.0,990000.0,990000.0,990000.0,990000.0,990000.0,2990000.0,990000.0,5990000.0,1990000.0,9900000.0,69900000.0],\"y0\":\" \",\"yaxis\":\"y\",\"type\":\"box\"}],                        {\"template\":{\"data\":{\"histogram2dcontour\":[{\"type\":\"histogram2dcontour\",\"colorbar\":{\"outlinewidth\":0,\"ticks\":\"\"},\"colorscale\":[[0.0,\"#0d0887\"],[0.1111111111111111,\"#46039f\"],[0.2222222222222222,\"#7201a8\"],[0.3333333333333333,\"#9c179e\"],[0.4444444444444444,\"#bd3786\"],[0.5555555555555556,\"#d8576b\"],[0.6666666666666666,\"#ed7953\"],[0.7777777777777778,\"#fb9f3a\"],[0.8888888888888888,\"#fdca26\"],[1.0,\"#f0f921\"]]}],\"choropleth\":[{\"type\":\"choropleth\",\"colorbar\":{\"outlinewidth\":0,\"ticks\":\"\"}}],\"histogram2d\":[{\"type\":\"histogram2d\",\"colorbar\":{\"outlinewidth\":0,\"ticks\":\"\"},\"colorscale\":[[0.0,\"#0d0887\"],[0.1111111111111111,\"#46039f\"],[0.2222222222222222,\"#7201a8\"],[0.3333333333333333,\"#9c179e\"],[0.4444444444444444,\"#bd3786\"],[0.5555555555555556,\"#d8576b\"],[0.6666666666666666,\"#ed7953\"],[0.7777777777777778,\"#fb9f3a\"],[0.8888888888888888,\"#fdca26\"],[1.0,\"#f0f921\"]]}],\"heatmap\":[{\"type\":\"heatmap\",\"colorbar\":{\"outlinewidth\":0,\"ticks\":\"\"},\"colorscale\":[[0.0,\"#0d0887\"],[0.1111111111111111,\"#46039f\"],[0.2222222222222222,\"#7201a8\"],[0.3333333333333333,\"#9c179e\"],[0.4444444444444444,\"#bd3786\"],[0.5555555555555556,\"#d8576b\"],[0.6666666666666666,\"#ed7953\"],[0.7777777777777778,\"#fb9f3a\"],[0.8888888888888888,\"#fdca26\"],[1.0,\"#f0f921\"]]}],\"heatmapgl\":[{\"type\":\"heatmapgl\",\"colorbar\":{\"outlinewidth\":0,\"ticks\":\"\"},\"colorscale\":[[0.0,\"#0d0887\"],[0.1111111111111111,\"#46039f\"],[0.2222222222222222,\"#7201a8\"],[0.3333333333333333,\"#9c179e\"],[0.4444444444444444,\"#bd3786\"],[0.5555555555555556,\"#d8576b\"],[0.6666666666666666,\"#ed7953\"],[0.7777777777777778,\"#fb9f3a\"],[0.8888888888888888,\"#fdca26\"],[1.0,\"#f0f921\"]]}],\"contourcarpet\":[{\"type\":\"contourcarpet\",\"colorbar\":{\"outlinewidth\":0,\"ticks\":\"\"}}],\"contour\":[{\"type\":\"contour\",\"colorbar\":{\"outlinewidth\":0,\"ticks\":\"\"},\"colorscale\":[[0.0,\"#0d0887\"],[0.1111111111111111,\"#46039f\"],[0.2222222222222222,\"#7201a8\"],[0.3333333333333333,\"#9c179e\"],[0.4444444444444444,\"#bd3786\"],[0.5555555555555556,\"#d8576b\"],[0.6666666666666666,\"#ed7953\"],[0.7777777777777778,\"#fb9f3a\"],[0.8888888888888888,\"#fdca26\"],[1.0,\"#f0f921\"]]}],\"surface\":[{\"type\":\"surface\",\"colorbar\":{\"outlinewidth\":0,\"ticks\":\"\"},\"colorscale\":[[0.0,\"#0d0887\"],[0.1111111111111111,\"#46039f\"],[0.2222222222222222,\"#7201a8\"],[0.3333333333333333,\"#9c179e\"],[0.4444444444444444,\"#bd3786\"],[0.5555555555555556,\"#d8576b\"],[0.6666666666666666,\"#ed7953\"],[0.7777777777777778,\"#fb9f3a\"],[0.8888888888888888,\"#fdca26\"],[1.0,\"#f0f921\"]]}],\"mesh3d\":[{\"type\":\"mesh3d\",\"colorbar\":{\"outlinewidth\":0,\"ticks\":\"\"}}],\"scatter\":[{\"fillpattern\":{\"fillmode\":\"overlay\",\"size\":10,\"solidity\":0.2},\"type\":\"scatter\"}],\"parcoords\":[{\"type\":\"parcoords\",\"line\":{\"colorbar\":{\"outlinewidth\":0,\"ticks\":\"\"}}}],\"scatterpolargl\":[{\"type\":\"scatterpolargl\",\"marker\":{\"colorbar\":{\"outlinewidth\":0,\"ticks\":\"\"}}}],\"bar\":[{\"error_x\":{\"color\":\"#2a3f5f\"},\"error_y\":{\"color\":\"#2a3f5f\"},\"marker\":{\"line\":{\"color\":\"#E5ECF6\",\"width\":0.5},\"pattern\":{\"fillmode\":\"overlay\",\"size\":10,\"solidity\":0.2}},\"type\":\"bar\"}],\"scattergeo\":[{\"type\":\"scattergeo\",\"marker\":{\"colorbar\":{\"outlinewidth\":0,\"ticks\":\"\"}}}],\"scatterpolar\":[{\"type\":\"scatterpolar\",\"marker\":{\"colorbar\":{\"outlinewidth\":0,\"ticks\":\"\"}}}],\"histogram\":[{\"marker\":{\"pattern\":{\"fillmode\":\"overlay\",\"size\":10,\"solidity\":0.2}},\"type\":\"histogram\"}],\"scattergl\":[{\"type\":\"scattergl\",\"marker\":{\"colorbar\":{\"outlinewidth\":0,\"ticks\":\"\"}}}],\"scatter3d\":[{\"type\":\"scatter3d\",\"line\":{\"colorbar\":{\"outlinewidth\":0,\"ticks\":\"\"}},\"marker\":{\"colorbar\":{\"outlinewidth\":0,\"ticks\":\"\"}}}],\"scattermapbox\":[{\"type\":\"scattermapbox\",\"marker\":{\"colorbar\":{\"outlinewidth\":0,\"ticks\":\"\"}}}],\"scatterternary\":[{\"type\":\"scatterternary\",\"marker\":{\"colorbar\":{\"outlinewidth\":0,\"ticks\":\"\"}}}],\"scattercarpet\":[{\"type\":\"scattercarpet\",\"marker\":{\"colorbar\":{\"outlinewidth\":0,\"ticks\":\"\"}}}],\"carpet\":[{\"aaxis\":{\"endlinecolor\":\"#2a3f5f\",\"gridcolor\":\"white\",\"linecolor\":\"white\",\"minorgridcolor\":\"white\",\"startlinecolor\":\"#2a3f5f\"},\"baxis\":{\"endlinecolor\":\"#2a3f5f\",\"gridcolor\":\"white\",\"linecolor\":\"white\",\"minorgridcolor\":\"white\",\"startlinecolor\":\"#2a3f5f\"},\"type\":\"carpet\"}],\"table\":[{\"cells\":{\"fill\":{\"color\":\"#EBF0F8\"},\"line\":{\"color\":\"white\"}},\"header\":{\"fill\":{\"color\":\"#C8D4E3\"},\"line\":{\"color\":\"white\"}},\"type\":\"table\"}],\"barpolar\":[{\"marker\":{\"line\":{\"color\":\"#E5ECF6\",\"width\":0.5},\"pattern\":{\"fillmode\":\"overlay\",\"size\":10,\"solidity\":0.2}},\"type\":\"barpolar\"}],\"pie\":[{\"automargin\":true,\"type\":\"pie\"}]},\"layout\":{\"autotypenumbers\":\"strict\",\"colorway\":[\"#636efa\",\"#EF553B\",\"#00cc96\",\"#ab63fa\",\"#FFA15A\",\"#19d3f3\",\"#FF6692\",\"#B6E880\",\"#FF97FF\",\"#FECB52\"],\"font\":{\"color\":\"#2a3f5f\"},\"hovermode\":\"closest\",\"hoverlabel\":{\"align\":\"left\"},\"paper_bgcolor\":\"white\",\"plot_bgcolor\":\"#E5ECF6\",\"polar\":{\"bgcolor\":\"#E5ECF6\",\"angularaxis\":{\"gridcolor\":\"white\",\"linecolor\":\"white\",\"ticks\":\"\"},\"radialaxis\":{\"gridcolor\":\"white\",\"linecolor\":\"white\",\"ticks\":\"\"}},\"ternary\":{\"bgcolor\":\"#E5ECF6\",\"aaxis\":{\"gridcolor\":\"white\",\"linecolor\":\"white\",\"ticks\":\"\"},\"baxis\":{\"gridcolor\":\"white\",\"linecolor\":\"white\",\"ticks\":\"\"},\"caxis\":{\"gridcolor\":\"white\",\"linecolor\":\"white\",\"ticks\":\"\"}},\"coloraxis\":{\"colorbar\":{\"outlinewidth\":0,\"ticks\":\"\"}},\"colorscale\":{\"sequential\":[[0.0,\"#0d0887\"],[0.1111111111111111,\"#46039f\"],[0.2222222222222222,\"#7201a8\"],[0.3333333333333333,\"#9c179e\"],[0.4444444444444444,\"#bd3786\"],[0.5555555555555556,\"#d8576b\"],[0.6666666666666666,\"#ed7953\"],[0.7777777777777778,\"#fb9f3a\"],[0.8888888888888888,\"#fdca26\"],[1.0,\"#f0f921\"]],\"sequentialminus\":[[0.0,\"#0d0887\"],[0.1111111111111111,\"#46039f\"],[0.2222222222222222,\"#7201a8\"],[0.3333333333333333,\"#9c179e\"],[0.4444444444444444,\"#bd3786\"],[0.5555555555555556,\"#d8576b\"],[0.6666666666666666,\"#ed7953\"],[0.7777777777777778,\"#fb9f3a\"],[0.8888888888888888,\"#fdca26\"],[1.0,\"#f0f921\"]],\"diverging\":[[0,\"#8e0152\"],[0.1,\"#c51b7d\"],[0.2,\"#de77ae\"],[0.3,\"#f1b6da\"],[0.4,\"#fde0ef\"],[0.5,\"#f7f7f7\"],[0.6,\"#e6f5d0\"],[0.7,\"#b8e186\"],[0.8,\"#7fbc41\"],[0.9,\"#4d9221\"],[1,\"#276419\"]]},\"xaxis\":{\"gridcolor\":\"white\",\"linecolor\":\"white\",\"ticks\":\"\",\"title\":{\"standoff\":15},\"zerolinecolor\":\"white\",\"automargin\":true,\"zerolinewidth\":2},\"yaxis\":{\"gridcolor\":\"white\",\"linecolor\":\"white\",\"ticks\":\"\",\"title\":{\"standoff\":15},\"zerolinecolor\":\"white\",\"automargin\":true,\"zerolinewidth\":2},\"scene\":{\"xaxis\":{\"backgroundcolor\":\"#E5ECF6\",\"gridcolor\":\"white\",\"linecolor\":\"white\",\"showbackground\":true,\"ticks\":\"\",\"zerolinecolor\":\"white\",\"gridwidth\":2},\"yaxis\":{\"backgroundcolor\":\"#E5ECF6\",\"gridcolor\":\"white\",\"linecolor\":\"white\",\"showbackground\":true,\"ticks\":\"\",\"zerolinecolor\":\"white\",\"gridwidth\":2},\"zaxis\":{\"backgroundcolor\":\"#E5ECF6\",\"gridcolor\":\"white\",\"linecolor\":\"white\",\"showbackground\":true,\"ticks\":\"\",\"zerolinecolor\":\"white\",\"gridwidth\":2}},\"shapedefaults\":{\"line\":{\"color\":\"#2a3f5f\"}},\"annotationdefaults\":{\"arrowcolor\":\"#2a3f5f\",\"arrowhead\":0,\"arrowwidth\":1},\"geo\":{\"bgcolor\":\"white\",\"landcolor\":\"#E5ECF6\",\"subunitcolor\":\"white\",\"showland\":true,\"showlakes\":true,\"lakecolor\":\"white\"},\"title\":{\"x\":0.05},\"mapbox\":{\"style\":\"light\"}}},\"xaxis\":{\"anchor\":\"y\",\"domain\":[0.0,1.0],\"title\":{\"text\":\"Category\"},\"categoryorder\":\"min ascending\"},\"yaxis\":{\"anchor\":\"x\",\"domain\":[0.0,1.0],\"title\":{\"text\":\"Paid App Ballpark Revenue\"},\"type\":\"log\"},\"legend\":{\"tracegroupgap\":0},\"title\":{\"text\":\"How Much Can Paid Apps Earn?\"},\"boxmode\":\"group\"},                        {\"responsive\": true}                    ).then(function(){\n",
       "                            \n",
       "var gd = document.getElementById('ec24e920-c06f-4305-80ea-e4977e89af4a');\n",
       "var x = new MutationObserver(function (mutations, observer) {{\n",
       "        var display = window.getComputedStyle(gd).display;\n",
       "        if (!display || display === 'none') {{\n",
       "            console.log([gd, 'removed!']);\n",
       "            Plotly.purge(gd);\n",
       "            observer.disconnect();\n",
       "        }}\n",
       "}});\n",
       "\n",
       "// Listen for the removal of the full notebook cells\n",
       "var notebookContainer = gd.closest('#notebook-container');\n",
       "if (notebookContainer) {{\n",
       "    x.observe(notebookContainer, {childList: true});\n",
       "}}\n",
       "\n",
       "// Listen for the clearing of the current output cell\n",
       "var outputEl = gd.closest('.output');\n",
       "if (outputEl) {{\n",
       "    x.observe(outputEl, {childList: true});\n",
       "}}\n",
       "\n",
       "                        })                };                });            </script>        </div>"
      ]
     },
     "metadata": {},
     "output_type": "display_data"
    }
   ],
   "source": [
    "df_paid_apps = df_apps_clean[df_apps_clean['Type'] == 'Paid']\n",
    "box = px.box(df_paid_apps, \n",
    "             x='Category', \n",
    "             y='Revenue_Estimate',\n",
    "             title='How Much Can Paid Apps Earn?')\n",
    " \n",
    "box.update_layout(xaxis_title='Category',\n",
    "                  yaxis_title='Paid App Ballpark Revenue',\n",
    "                  xaxis={'categoryorder':'min ascending'},\n",
    "                  yaxis=dict(type='log'))\n",
    " \n",
    " \n",
    "box.show()"
   ]
  },
  {
   "cell_type": "markdown",
   "id": "108f0c27",
   "metadata": {
    "id": "uT32ylj4WS9B",
    "papermill": {
     "duration": 0.040712,
     "end_time": "2022-11-19T13:23:41.508407",
     "exception": false,
     "start_time": "2022-11-19T13:23:41.467695",
     "status": "completed"
    },
    "tags": []
   },
   "source": [
    "# How Much Can You Charge? Examine Paid App Pricing Strategies by Category\n",
    "\n",
    "**Challenge**: What is the median price price for a paid app? Then compare pricing by category by creating another box plot. But this time examine the prices (instead of the revenue estimates) of the paid apps. I recommend using `{categoryorder':'max descending'}` to sort the categories."
   ]
  },
  {
   "cell_type": "markdown",
   "id": "dbdf0c82",
   "metadata": {
    "papermill": {
     "duration": 0.040004,
     "end_time": "2022-11-19T13:23:41.590551",
     "exception": false,
     "start_time": "2022-11-19T13:23:41.550547",
     "status": "completed"
    },
    "tags": []
   },
   "source": [
    "The median price for an Android app is 2.99."
   ]
  },
  {
   "cell_type": "code",
   "execution_count": 48,
   "id": "31a2309b",
   "metadata": {
    "execution": {
     "iopub.execute_input": "2022-11-19T13:23:41.673895Z",
     "iopub.status.busy": "2022-11-19T13:23:41.673245Z",
     "iopub.status.idle": "2022-11-19T13:23:41.682412Z",
     "shell.execute_reply": "2022-11-19T13:23:41.681137Z"
    },
    "id": "AdBr0TUhouqs",
    "papermill": {
     "duration": 0.054122,
     "end_time": "2022-11-19T13:23:41.684967",
     "exception": false,
     "start_time": "2022-11-19T13:23:41.630845",
     "status": "completed"
    },
    "tags": []
   },
   "outputs": [
    {
     "data": {
      "text/plain": [
       "2.99"
      ]
     },
     "execution_count": 48,
     "metadata": {},
     "output_type": "execute_result"
    }
   ],
   "source": [
    "df_paid_apps.Price.median()"
   ]
  },
  {
   "cell_type": "markdown",
   "id": "d38c3ed0",
   "metadata": {
    "papermill": {
     "duration": 0.040027,
     "end_time": "2022-11-19T13:23:41.765380",
     "exception": false,
     "start_time": "2022-11-19T13:23:41.725353",
     "status": "completed"
    },
    "tags": []
   },
   "source": [
    "However, some categories have higher median prices than others. This time we see that Medical apps have the most expensive apps as well as a median price of 5.49. In contrast, Personalisation apps are quite cheap on average at 1.49. Other categories which higher median prices are Business (4.99) and Dating (6.99). It seems like customers who shop in these categories are not so concerned about paying a bit extra for their apps."
   ]
  },
  {
   "cell_type": "code",
   "execution_count": 49,
   "id": "a9d6b394",
   "metadata": {
    "execution": {
     "iopub.execute_input": "2022-11-19T13:23:41.847202Z",
     "iopub.status.busy": "2022-11-19T13:23:41.846802Z",
     "iopub.status.idle": "2022-11-19T13:23:41.909023Z",
     "shell.execute_reply": "2022-11-19T13:23:41.907555Z"
    },
    "id": "bJnABRw3ovwr",
    "papermill": {
     "duration": 0.106132,
     "end_time": "2022-11-19T13:23:41.911445",
     "exception": false,
     "start_time": "2022-11-19T13:23:41.805313",
     "status": "completed"
    },
    "tags": []
   },
   "outputs": [
    {
     "data": {
      "text/html": [
       "<div>                            <div id=\"8a56a7f8-b140-489c-8209-580ac095963c\" class=\"plotly-graph-div\" style=\"height:525px; width:100%;\"></div>            <script type=\"text/javascript\">                require([\"plotly\"], function(Plotly) {                    window.PLOTLYENV=window.PLOTLYENV || {};                                    if (document.getElementById(\"8a56a7f8-b140-489c-8209-580ac095963c\")) {                    Plotly.newPlot(                        \"8a56a7f8-b140-489c-8209-580ac095963c\",                        [{\"alignmentgroup\":\"True\",\"hovertemplate\":\"Category=%{x}<br>Price=%{y}<extra></extra>\",\"legendgroup\":\"\",\"marker\":{\"color\":\"#636efa\"},\"name\":\"\",\"notched\":false,\"offsetgroup\":\"\",\"orientation\":\"v\",\"showlegend\":false,\"x\":[\"GAME\",\"GAME\",\"FAMILY\",\"BUSINESS\",\"LIFESTYLE\",\"FAMILY\",\"PERSONALIZATION\",\"PHOTOGRAPHY\",\"FAMILY\",\"GAME\",\"PRODUCTIVITY\",\"PHOTOGRAPHY\",\"FAMILY\",\"TOOLS\",\"TOOLS\",\"PERSONALIZATION\",\"FAMILY\",\"FAMILY\",\"FAMILY\",\"FAMILY\",\"GAME\",\"TOOLS\",\"PERSONALIZATION\",\"PERSONALIZATION\",\"PERSONALIZATION\",\"TOOLS\",\"FAMILY\",\"FAMILY\",\"BUSINESS\",\"BOOKS_AND_REFERENCE\",\"FAMILY\",\"FAMILY\",\"FAMILY\",\"PERSONALIZATION\",\"PERSONALIZATION\",\"PERSONALIZATION\",\"GAME\",\"PERSONALIZATION\",\"FAMILY\",\"FINANCE\",\"SHOPPING\",\"DATING\",\"PERSONALIZATION\",\"GAME\",\"FAMILY\",\"PRODUCTIVITY\",\"FAMILY\",\"MEDICAL\",\"SPORTS\",\"MEDICAL\",\"PRODUCTIVITY\",\"BUSINESS\",\"PARENTING\",\"LIFESTYLE\",\"FAMILY\",\"TOOLS\",\"MAPS_AND_NAVIGATION\",\"COMMUNICATION\",\"PERSONALIZATION\",\"COMMUNICATION\",\"FAMILY\",\"PERSONALIZATION\",\"FAMILY\",\"FAMILY\",\"FAMILY\",\"TOOLS\",\"FAMILY\",\"SPORTS\",\"FAMILY\",\"MEDICAL\",\"FAMILY\",\"FAMILY\",\"GAME\",\"TOOLS\",\"FAMILY\",\"FAMILY\",\"PERSONALIZATION\",\"BOOKS_AND_REFERENCE\",\"GAME\",\"PERSONALIZATION\",\"GAME\",\"GAME\",\"TOOLS\",\"MEDICAL\",\"TOOLS\",\"TOOLS\",\"PERSONALIZATION\",\"GAME\",\"COMMUNICATION\",\"MEDICAL\",\"SPORTS\",\"PERSONALIZATION\",\"COMMUNICATION\",\"COMMUNICATION\",\"PERSONALIZATION\",\"TOOLS\",\"PERSONALIZATION\",\"PERSONALIZATION\",\"PRODUCTIVITY\",\"MEDICAL\",\"FAMILY\",\"TOOLS\",\"TOOLS\",\"BUSINESS\",\"COMMUNICATION\",\"FAMILY\",\"PERSONALIZATION\",\"PHOTOGRAPHY\",\"MEDICAL\",\"PERSONALIZATION\",\"MEDICAL\",\"COMMUNICATION\",\"PRODUCTIVITY\",\"BOOKS_AND_REFERENCE\",\"TOOLS\",\"WEATHER\",\"FAMILY\",\"FAMILY\",\"MEDICAL\",\"FAMILY\",\"TOOLS\",\"TOOLS\",\"SPORTS\",\"GAME\",\"MEDICAL\",\"PERSONALIZATION\",\"PERSONALIZATION\",\"NEWS_AND_MAGAZINES\",\"COMMUNICATION\",\"TOOLS\",\"MEDICAL\",\"FINANCE\",\"FAMILY\",\"PERSONALIZATION\",\"PERSONALIZATION\",\"MEDICAL\",\"FAMILY\",\"MEDICAL\",\"MEDICAL\",\"FAMILY\",\"FAMILY\",\"FAMILY\",\"GAME\",\"PERSONALIZATION\",\"TOOLS\",\"PERSONALIZATION\",\"GAME\",\"GAME\",\"GAME\",\"FAMILY\",\"FAMILY\",\"PRODUCTIVITY\",\"COMMUNICATION\",\"SPORTS\",\"SPORTS\",\"FAMILY\",\"PERSONALIZATION\",\"MEDICAL\",\"SPORTS\",\"COMMUNICATION\",\"LIFESTYLE\",\"FAMILY\",\"MEDICAL\",\"MEDICAL\",\"TOOLS\",\"PRODUCTIVITY\",\"FINANCE\",\"HEALTH_AND_FITNESS\",\"MEDICAL\",\"PHOTOGRAPHY\",\"FAMILY\",\"FAMILY\",\"PHOTOGRAPHY\",\"SPORTS\",\"ART_AND_DESIGN\",\"FAMILY\",\"PERSONALIZATION\",\"PRODUCTIVITY\",\"HEALTH_AND_FITNESS\",\"MEDICAL\",\"TOOLS\",\"PRODUCTIVITY\",\"GAME\",\"TOOLS\",\"MEDICAL\",\"LIFESTYLE\",\"GAME\",\"MEDICAL\",\"TRAVEL_AND_LOCAL\",\"BUSINESS\",\"MEDICAL\",\"COMMUNICATION\",\"PERSONALIZATION\",\"GAME\",\"TRAVEL_AND_LOCAL\",\"GAME\",\"SPORTS\",\"MEDICAL\",\"FAMILY\",\"MEDICAL\",\"TOOLS\",\"BOOKS_AND_REFERENCE\",\"FAMILY\",\"MEDICAL\",\"MEDICAL\",\"GAME\",\"BUSINESS\",\"TOOLS\",\"FAMILY\",\"MEDICAL\",\"PERSONALIZATION\",\"PHOTOGRAPHY\",\"SPORTS\",\"MAPS_AND_NAVIGATION\",\"PERSONALIZATION\",\"GAME\",\"BOOKS_AND_REFERENCE\",\"EDUCATION\",\"FAMILY\",\"FAMILY\",\"SOCIAL\",\"MEDICAL\",\"TOOLS\",\"SPORTS\",\"FAMILY\",\"FAMILY\",\"TOOLS\",\"WEATHER\",\"VIDEO_PLAYERS\",\"MEDICAL\",\"TOOLS\",\"GAME\",\"PERSONALIZATION\",\"MEDICAL\",\"LIFESTYLE\",\"MEDICAL\",\"DATING\",\"HEALTH_AND_FITNESS\",\"MEDICAL\",\"FAMILY\",\"PRODUCTIVITY\",\"EDUCATION\",\"SPORTS\",\"FAMILY\",\"PERSONALIZATION\",\"PERSONALIZATION\",\"FAMILY\",\"GAME\",\"FINANCE\",\"GAME\",\"MEDICAL\",\"FAMILY\",\"MEDICAL\",\"MEDICAL\",\"TOOLS\",\"TOOLS\",\"TOOLS\",\"TOOLS\",\"PERSONALIZATION\",\"PERSONALIZATION\",\"PERSONALIZATION\",\"PERSONALIZATION\",\"FAMILY\",\"GAME\",\"FAMILY\",\"FAMILY\",\"MEDICAL\",\"SPORTS\",\"LIFESTYLE\",\"FAMILY\",\"FAMILY\",\"TRAVEL_AND_LOCAL\",\"PERSONALIZATION\",\"BOOKS_AND_REFERENCE\",\"FAMILY\",\"MEDICAL\",\"MEDICAL\",\"MEDICAL\",\"MEDICAL\",\"PRODUCTIVITY\",\"SOCIAL\",\"SPORTS\",\"TRAVEL_AND_LOCAL\",\"TOOLS\",\"FAMILY\",\"NEWS_AND_MAGAZINES\",\"ART_AND_DESIGN\",\"GAME\",\"PERSONALIZATION\",\"LIFESTYLE\",\"PERSONALIZATION\",\"LIFESTYLE\",\"MEDICAL\",\"FAMILY\",\"FAMILY\",\"BOOKS_AND_REFERENCE\",\"LIFESTYLE\",\"MEDICAL\",\"MEDICAL\",\"TOOLS\",\"SPORTS\",\"MEDICAL\",\"PHOTOGRAPHY\",\"GAME\",\"SPORTS\",\"FAMILY\",\"SPORTS\",\"TOOLS\",\"LIFESTYLE\",\"FAMILY\",\"COMMUNICATION\",\"COMMUNICATION\",\"COMMUNICATION\",\"FAMILY\",\"FAMILY\",\"TOOLS\",\"MEDICAL\",\"TOOLS\",\"TOOLS\",\"TOOLS\",\"TOOLS\",\"TOOLS\",\"TOOLS\",\"PERSONALIZATION\",\"FAMILY\",\"MEDICAL\",\"MEDICAL\",\"MEDICAL\",\"HEALTH_AND_FITNESS\",\"GAME\",\"FAMILY\",\"FAMILY\",\"PHOTOGRAPHY\",\"PERSONALIZATION\",\"LIFESTYLE\",\"GAME\",\"FAMILY\",\"MEDICAL\",\"FAMILY\",\"BUSINESS\",\"GAME\",\"FAMILY\",\"MEDICAL\",\"FAMILY\",\"MAPS_AND_NAVIGATION\",\"BOOKS_AND_REFERENCE\",\"GAME\",\"PERSONALIZATION\",\"PERSONALIZATION\",\"COMMUNICATION\",\"DATING\",\"FOOD_AND_DRINK\",\"LIFESTYLE\",\"FAMILY\",\"FAMILY\",\"MEDICAL\",\"TRAVEL_AND_LOCAL\",\"TOOLS\",\"TOOLS\",\"TOOLS\",\"PERSONALIZATION\",\"VIDEO_PLAYERS\",\"VIDEO_PLAYERS\",\"GAME\",\"FAMILY\",\"FAMILY\",\"FAMILY\",\"FAMILY\",\"PERSONALIZATION\",\"WEATHER\",\"TOOLS\",\"PERSONALIZATION\",\"TOOLS\",\"ART_AND_DESIGN\",\"PERSONALIZATION\",\"PERSONALIZATION\",\"MEDICAL\",\"TOOLS\",\"FAMILY\",\"FINANCE\",\"TOOLS\",\"GAME\",\"FAMILY\",\"FAMILY\",\"TOOLS\",\"TOOLS\",\"GAME\",\"TOOLS\",\"HEALTH_AND_FITNESS\",\"GAME\",\"MEDICAL\",\"COMMUNICATION\",\"FAMILY\",\"GAME\",\"FAMILY\",\"MEDICAL\",\"PERSONALIZATION\",\"FAMILY\",\"SPORTS\",\"FAMILY\",\"TRAVEL_AND_LOCAL\",\"TOOLS\",\"SHOPPING\",\"TOOLS\",\"FAMILY\",\"FAMILY\",\"FAMILY\",\"FAMILY\",\"FAMILY\",\"FAMILY\",\"GAME\",\"MAPS_AND_NAVIGATION\",\"PERSONALIZATION\",\"GAME\",\"FAMILY\",\"FAMILY\",\"FINANCE\",\"TOOLS\",\"TOOLS\",\"FAMILY\",\"FAMILY\",\"MEDICAL\",\"GAME\",\"FAMILY\",\"COMMUNICATION\",\"COMMUNICATION\",\"FAMILY\",\"FAMILY\",\"MEDICAL\",\"MEDICAL\",\"MEDICAL\",\"PHOTOGRAPHY\",\"TOOLS\",\"TOOLS\",\"PERSONALIZATION\",\"PERSONALIZATION\",\"FAMILY\",\"GAME\",\"SPORTS\",\"MEDICAL\",\"GAME\",\"FAMILY\",\"AUTO_AND_VEHICLES\",\"HEALTH_AND_FITNESS\",\"FAMILY\",\"FAMILY\",\"MEDICAL\",\"PHOTOGRAPHY\",\"SPORTS\",\"TOOLS\",\"VIDEO_PLAYERS\",\"FAMILY\",\"FAMILY\",\"PRODUCTIVITY\",\"PERSONALIZATION\",\"PRODUCTIVITY\",\"PERSONALIZATION\",\"FAMILY\",\"FAMILY\",\"GAME\",\"MEDICAL\",\"FAMILY\",\"FAMILY\",\"FOOD_AND_DRINK\",\"FAMILY\",\"FAMILY\",\"FAMILY\",\"TOOLS\",\"HEALTH_AND_FITNESS\",\"PARENTING\",\"FAMILY\",\"GAME\",\"HEALTH_AND_FITNESS\",\"TRAVEL_AND_LOCAL\",\"GAME\",\"WEATHER\",\"FAMILY\",\"MEDICAL\",\"GAME\",\"GAME\",\"MEDICAL\",\"PERSONALIZATION\",\"FAMILY\",\"FAMILY\",\"FAMILY\",\"FAMILY\",\"GAME\",\"PHOTOGRAPHY\",\"FAMILY\",\"BUSINESS\",\"FAMILY\",\"GAME\",\"FAMILY\",\"FAMILY\",\"WEATHER\",\"EDUCATION\",\"COMMUNICATION\",\"ENTERTAINMENT\",\"HEALTH_AND_FITNESS\",\"HEALTH_AND_FITNESS\",\"GAME\",\"GAME\",\"FAMILY\",\"FAMILY\",\"FAMILY\",\"PHOTOGRAPHY\",\"SPORTS\",\"TRAVEL_AND_LOCAL\",\"TOOLS\",\"TOOLS\",\"PERSONALIZATION\",\"PERSONALIZATION\",\"PRODUCTIVITY\",\"PRODUCTIVITY\",\"MAPS_AND_NAVIGATION\",\"GAME\",\"GAME\",\"PRODUCTIVITY\",\"TOOLS\",\"WEATHER\",\"FAMILY\",\"GAME\",\"FAMILY\",\"GAME\",\"TOOLS\",\"GAME\",\"FAMILY\",\"FAMILY\",\"HEALTH_AND_FITNESS\",\"FAMILY\",\"GAME\",\"FAMILY\",\"PERSONALIZATION\",\"BUSINESS\",\"FINANCE\",\"FAMILY\",\"PHOTOGRAPHY\",\"GAME\",\"FAMILY\",\"FAMILY\",\"FAMILY\",\"FAMILY\",\"GAME\",\"FAMILY\",\"GAME\",\"COMMUNICATION\",\"FAMILY\",\"ENTERTAINMENT\",\"COMMUNICATION\",\"GAME\",\"GAME\",\"GAME\",\"GAME\",\"GAME\",\"GAME\",\"PERSONALIZATION\",\"FAMILY\",\"PERSONALIZATION\",\"FAMILY\",\"EDUCATION\",\"WEATHER\",\"PHOTOGRAPHY\",\"PRODUCTIVITY\",\"GAME\",\"FAMILY\",\"FAMILY\",\"PRODUCTIVITY\",\"PERSONALIZATION\",\"GAME\",\"GAME\",\"FAMILY\",\"COMMUNICATION\",\"TOOLS\",\"GAME\",\"PERSONALIZATION\",\"PHOTOGRAPHY\",\"SPORTS\",\"GAME\",\"FAMILY\",\"GAME\",\"GAME\",\"FAMILY\",\"GAME\",\"FAMILY\",\"GAME\",\"LIFESTYLE\",\"FAMILY\",\"GAME\",\"FAMILY\"],\"x0\":\" \",\"xaxis\":\"x\",\"y\":[1.49,0.99,14.99,2.49,3.04,1.49,0.99,3.49,2.99,0.99,0.99,4.99,0.99,2.99,0.99,0.99,29.99,19.99,4.99,4.99,1.99,2.99,0.99,0.99,0.99,1.76,2.99,2.99,8.99,1.75,1.49,1.49,0.99,0.99,0.99,0.99,0.99,0.99,12.99,4.99,2.49,7.99,1.99,4.99,0.99,4.99,3.99,2.99,3.88,2.99,2.99,12.99,4.59,0.99,9.99,3.99,9.99,1.49,1.49,1.49,1.49,0.99,2.99,1.99,4.99,1.49,0.99,3.49,1.99,12.99,0.99,0.99,0.99,1.99,4.99,3.99,0.99,3.99,14.0,1.49,4.49,1.99,0.99,6.99,5.99,3.99,2.49,0.99,1.49,39.99,3.02,1.49,1.49,0.99,0.99,4.99,1.49,0.99,6.49,5.99,2.99,3.99,0.99,17.99,0.99,1.99,1.49,1.49,3.99,1.49,2.99,4.99,8.99,0.99,0.99,1.99,2.49,4.99,0.99,1.99,1.99,0.99,2.99,4.49,3.49,2.0,1.49,2.99,3.99,3.99,15.99,3.99,2.99,1.49,0.99,9.99,2.99,4.99,9.99,2.49,10.99,2.99,0.99,1.99,1.99,0.99,3.99,1.61,0.99,1.99,2.49,4.29,0.99,3.99,0.99,2.99,1.49,15.46,1.99,2.99,4.99,7.49,3.99,5.49,2.49,2.99,1.99,4.99,4.99,19.99,2.99,1.99,9.99,0.99,1.99,2.99,1.7,0.99,7.99,29.99,2.99,7.99,0.99,1.49,2.99,4.99,2.49,79.99,2.56,3.99,19.99,2.49,0.99,0.99,8.49,6.99,2.99,0.99,2.99,1.5,4.99,1.99,4.84,14.99,29.99,4.99,4.99,3.99,19.4,33.99,1.49,2.99,2.99,0.99,0.99,1.99,3.08,5.99,3.99,2.99,0.99,1.99,5.99,2.49,0.99,0.99,0.99,6.99,0.99,16.99,0.99,3.49,1.7,3.99,37.99,9.99,6.99,1.99,3.99,10.0,1.29,3.99,4.49,2.99,2.49,0.99,4.99,0.99,3.99,1.99,7.49,0.99,10.99,5.99,0.99,1.49,14.99,4.99,4.99,0.99,4.99,3.99,4.99,0.99,4.49,5.99,3.99,1.99,3.99,4.99,1.99,3.99,0.99,2.99,1.49,2.49,3.99,3.99,3.99,3.99,0.99,1.99,2.99,0.99,2.99,0.99,1.99,6.99,1.99,0.99,1.49,2.99,5.99,2.99,2.99,4.6,1.99,14.99,0.99,0.99,0.99,2.99,2.99,1.99,2.99,4.99,1.0,14.99,2.49,0.99,4.99,0.99,1.49,3.99,2.99,4.99,3.99,4.99,4.99,4.99,4.99,4.99,1.0,6.99,2.99,9.99,24.99,2.99,3.99,0.99,3.99,3.99,1.99,0.99,7.99,4.99,2.99,10.0,2.99,2.99,2.99,14.99,7.99,12.99,0.99,4.49,16.99,0.99,0.99,4.99,3.99,3.49,2.49,2.99,1.49,6.99,1.99,2.5,3.9,2.95,0.99,1.49,1.99,7.99,2.99,2.99,4.99,1.99,0.99,2.99,2.99,1.99,1.97,1.99,9.99,2.99,5.49,3.28,0.99,2.99,4.99,2.99,14.99,2.99,2.99,2.99,17.99,0.99,6.99,4.99,3.99,2.99,2.99,4.99,1.2,2.99,1.99,4.99,4.99,0.99,5.99,2.59,2.99,1.99,3.99,4.99,3.99,2.99,4.99,2.99,4.99,2.99,0.99,3.99,2.49,0.99,18.99,1.99,1.99,1.59,3.99,11.99,1.99,1.99,2.99,0.99,9.99,3.99,0.99,2.99,1.99,4.99,1.99,2.99,0.99,1.99,0.99,0.99,29.99,2.99,1.99,2.99,1.99,1.99,2.99,4.99,3.99,1.99,3.99,2.99,5.99,19.99,9.99,2.99,2.49,1.49,0.99,2.99,2.99,1.99,11.99,4.99,3.99,4.99,2.99,2.99,4.77,2.99,2.99,4.99,4.99,4.99,1.99,2.49,4.99,3.99,3.99,24.99,4.99,0.99,9.0,0.99,2.99,2.99,2.99,9.99,2.99,1.49,14.99,4.99,7.99,1.99,0.99,0.99,4.49,3.99,3.99,4.99,2.99,2.99,2.99,2.99,3.99,4.99,4.99,3.95,8.99,8.99,2.49,3.99,4.49,1.99,5.99,4.99,11.99,4.99,9.99,4.49,3.49,2.99,4.99,4.99,4.99,1.99,4.49,3.99,2.99,13.99,3.49,9.99,4.99,2.99,2.99,4.99,2.99,2.99,2.99,2.99,2.99,9.99,0.99,1.99,2.99,1.49,6.99,2.9,2.99,2.99,3.99,2.99,4.99,2.99,2.99,1.99,5.99,4.99,2.99,2.49,0.99,3.99,5.99,2.99,2.99,1.99,2.99,4.99,1.99,2.49,0.99,4.99,2.99,2.99,2.99,6.99,0.99,5.99,1.99,2.99,0.99,0.99,0.99,0.99,0.99,2.99,0.99,5.99,1.99,0.99,6.99],\"y0\":\" \",\"yaxis\":\"y\",\"type\":\"box\"}],                        {\"template\":{\"data\":{\"histogram2dcontour\":[{\"type\":\"histogram2dcontour\",\"colorbar\":{\"outlinewidth\":0,\"ticks\":\"\"},\"colorscale\":[[0.0,\"#0d0887\"],[0.1111111111111111,\"#46039f\"],[0.2222222222222222,\"#7201a8\"],[0.3333333333333333,\"#9c179e\"],[0.4444444444444444,\"#bd3786\"],[0.5555555555555556,\"#d8576b\"],[0.6666666666666666,\"#ed7953\"],[0.7777777777777778,\"#fb9f3a\"],[0.8888888888888888,\"#fdca26\"],[1.0,\"#f0f921\"]]}],\"choropleth\":[{\"type\":\"choropleth\",\"colorbar\":{\"outlinewidth\":0,\"ticks\":\"\"}}],\"histogram2d\":[{\"type\":\"histogram2d\",\"colorbar\":{\"outlinewidth\":0,\"ticks\":\"\"},\"colorscale\":[[0.0,\"#0d0887\"],[0.1111111111111111,\"#46039f\"],[0.2222222222222222,\"#7201a8\"],[0.3333333333333333,\"#9c179e\"],[0.4444444444444444,\"#bd3786\"],[0.5555555555555556,\"#d8576b\"],[0.6666666666666666,\"#ed7953\"],[0.7777777777777778,\"#fb9f3a\"],[0.8888888888888888,\"#fdca26\"],[1.0,\"#f0f921\"]]}],\"heatmap\":[{\"type\":\"heatmap\",\"colorbar\":{\"outlinewidth\":0,\"ticks\":\"\"},\"colorscale\":[[0.0,\"#0d0887\"],[0.1111111111111111,\"#46039f\"],[0.2222222222222222,\"#7201a8\"],[0.3333333333333333,\"#9c179e\"],[0.4444444444444444,\"#bd3786\"],[0.5555555555555556,\"#d8576b\"],[0.6666666666666666,\"#ed7953\"],[0.7777777777777778,\"#fb9f3a\"],[0.8888888888888888,\"#fdca26\"],[1.0,\"#f0f921\"]]}],\"heatmapgl\":[{\"type\":\"heatmapgl\",\"colorbar\":{\"outlinewidth\":0,\"ticks\":\"\"},\"colorscale\":[[0.0,\"#0d0887\"],[0.1111111111111111,\"#46039f\"],[0.2222222222222222,\"#7201a8\"],[0.3333333333333333,\"#9c179e\"],[0.4444444444444444,\"#bd3786\"],[0.5555555555555556,\"#d8576b\"],[0.6666666666666666,\"#ed7953\"],[0.7777777777777778,\"#fb9f3a\"],[0.8888888888888888,\"#fdca26\"],[1.0,\"#f0f921\"]]}],\"contourcarpet\":[{\"type\":\"contourcarpet\",\"colorbar\":{\"outlinewidth\":0,\"ticks\":\"\"}}],\"contour\":[{\"type\":\"contour\",\"colorbar\":{\"outlinewidth\":0,\"ticks\":\"\"},\"colorscale\":[[0.0,\"#0d0887\"],[0.1111111111111111,\"#46039f\"],[0.2222222222222222,\"#7201a8\"],[0.3333333333333333,\"#9c179e\"],[0.4444444444444444,\"#bd3786\"],[0.5555555555555556,\"#d8576b\"],[0.6666666666666666,\"#ed7953\"],[0.7777777777777778,\"#fb9f3a\"],[0.8888888888888888,\"#fdca26\"],[1.0,\"#f0f921\"]]}],\"surface\":[{\"type\":\"surface\",\"colorbar\":{\"outlinewidth\":0,\"ticks\":\"\"},\"colorscale\":[[0.0,\"#0d0887\"],[0.1111111111111111,\"#46039f\"],[0.2222222222222222,\"#7201a8\"],[0.3333333333333333,\"#9c179e\"],[0.4444444444444444,\"#bd3786\"],[0.5555555555555556,\"#d8576b\"],[0.6666666666666666,\"#ed7953\"],[0.7777777777777778,\"#fb9f3a\"],[0.8888888888888888,\"#fdca26\"],[1.0,\"#f0f921\"]]}],\"mesh3d\":[{\"type\":\"mesh3d\",\"colorbar\":{\"outlinewidth\":0,\"ticks\":\"\"}}],\"scatter\":[{\"fillpattern\":{\"fillmode\":\"overlay\",\"size\":10,\"solidity\":0.2},\"type\":\"scatter\"}],\"parcoords\":[{\"type\":\"parcoords\",\"line\":{\"colorbar\":{\"outlinewidth\":0,\"ticks\":\"\"}}}],\"scatterpolargl\":[{\"type\":\"scatterpolargl\",\"marker\":{\"colorbar\":{\"outlinewidth\":0,\"ticks\":\"\"}}}],\"bar\":[{\"error_x\":{\"color\":\"#2a3f5f\"},\"error_y\":{\"color\":\"#2a3f5f\"},\"marker\":{\"line\":{\"color\":\"#E5ECF6\",\"width\":0.5},\"pattern\":{\"fillmode\":\"overlay\",\"size\":10,\"solidity\":0.2}},\"type\":\"bar\"}],\"scattergeo\":[{\"type\":\"scattergeo\",\"marker\":{\"colorbar\":{\"outlinewidth\":0,\"ticks\":\"\"}}}],\"scatterpolar\":[{\"type\":\"scatterpolar\",\"marker\":{\"colorbar\":{\"outlinewidth\":0,\"ticks\":\"\"}}}],\"histogram\":[{\"marker\":{\"pattern\":{\"fillmode\":\"overlay\",\"size\":10,\"solidity\":0.2}},\"type\":\"histogram\"}],\"scattergl\":[{\"type\":\"scattergl\",\"marker\":{\"colorbar\":{\"outlinewidth\":0,\"ticks\":\"\"}}}],\"scatter3d\":[{\"type\":\"scatter3d\",\"line\":{\"colorbar\":{\"outlinewidth\":0,\"ticks\":\"\"}},\"marker\":{\"colorbar\":{\"outlinewidth\":0,\"ticks\":\"\"}}}],\"scattermapbox\":[{\"type\":\"scattermapbox\",\"marker\":{\"colorbar\":{\"outlinewidth\":0,\"ticks\":\"\"}}}],\"scatterternary\":[{\"type\":\"scatterternary\",\"marker\":{\"colorbar\":{\"outlinewidth\":0,\"ticks\":\"\"}}}],\"scattercarpet\":[{\"type\":\"scattercarpet\",\"marker\":{\"colorbar\":{\"outlinewidth\":0,\"ticks\":\"\"}}}],\"carpet\":[{\"aaxis\":{\"endlinecolor\":\"#2a3f5f\",\"gridcolor\":\"white\",\"linecolor\":\"white\",\"minorgridcolor\":\"white\",\"startlinecolor\":\"#2a3f5f\"},\"baxis\":{\"endlinecolor\":\"#2a3f5f\",\"gridcolor\":\"white\",\"linecolor\":\"white\",\"minorgridcolor\":\"white\",\"startlinecolor\":\"#2a3f5f\"},\"type\":\"carpet\"}],\"table\":[{\"cells\":{\"fill\":{\"color\":\"#EBF0F8\"},\"line\":{\"color\":\"white\"}},\"header\":{\"fill\":{\"color\":\"#C8D4E3\"},\"line\":{\"color\":\"white\"}},\"type\":\"table\"}],\"barpolar\":[{\"marker\":{\"line\":{\"color\":\"#E5ECF6\",\"width\":0.5},\"pattern\":{\"fillmode\":\"overlay\",\"size\":10,\"solidity\":0.2}},\"type\":\"barpolar\"}],\"pie\":[{\"automargin\":true,\"type\":\"pie\"}]},\"layout\":{\"autotypenumbers\":\"strict\",\"colorway\":[\"#636efa\",\"#EF553B\",\"#00cc96\",\"#ab63fa\",\"#FFA15A\",\"#19d3f3\",\"#FF6692\",\"#B6E880\",\"#FF97FF\",\"#FECB52\"],\"font\":{\"color\":\"#2a3f5f\"},\"hovermode\":\"closest\",\"hoverlabel\":{\"align\":\"left\"},\"paper_bgcolor\":\"white\",\"plot_bgcolor\":\"#E5ECF6\",\"polar\":{\"bgcolor\":\"#E5ECF6\",\"angularaxis\":{\"gridcolor\":\"white\",\"linecolor\":\"white\",\"ticks\":\"\"},\"radialaxis\":{\"gridcolor\":\"white\",\"linecolor\":\"white\",\"ticks\":\"\"}},\"ternary\":{\"bgcolor\":\"#E5ECF6\",\"aaxis\":{\"gridcolor\":\"white\",\"linecolor\":\"white\",\"ticks\":\"\"},\"baxis\":{\"gridcolor\":\"white\",\"linecolor\":\"white\",\"ticks\":\"\"},\"caxis\":{\"gridcolor\":\"white\",\"linecolor\":\"white\",\"ticks\":\"\"}},\"coloraxis\":{\"colorbar\":{\"outlinewidth\":0,\"ticks\":\"\"}},\"colorscale\":{\"sequential\":[[0.0,\"#0d0887\"],[0.1111111111111111,\"#46039f\"],[0.2222222222222222,\"#7201a8\"],[0.3333333333333333,\"#9c179e\"],[0.4444444444444444,\"#bd3786\"],[0.5555555555555556,\"#d8576b\"],[0.6666666666666666,\"#ed7953\"],[0.7777777777777778,\"#fb9f3a\"],[0.8888888888888888,\"#fdca26\"],[1.0,\"#f0f921\"]],\"sequentialminus\":[[0.0,\"#0d0887\"],[0.1111111111111111,\"#46039f\"],[0.2222222222222222,\"#7201a8\"],[0.3333333333333333,\"#9c179e\"],[0.4444444444444444,\"#bd3786\"],[0.5555555555555556,\"#d8576b\"],[0.6666666666666666,\"#ed7953\"],[0.7777777777777778,\"#fb9f3a\"],[0.8888888888888888,\"#fdca26\"],[1.0,\"#f0f921\"]],\"diverging\":[[0,\"#8e0152\"],[0.1,\"#c51b7d\"],[0.2,\"#de77ae\"],[0.3,\"#f1b6da\"],[0.4,\"#fde0ef\"],[0.5,\"#f7f7f7\"],[0.6,\"#e6f5d0\"],[0.7,\"#b8e186\"],[0.8,\"#7fbc41\"],[0.9,\"#4d9221\"],[1,\"#276419\"]]},\"xaxis\":{\"gridcolor\":\"white\",\"linecolor\":\"white\",\"ticks\":\"\",\"title\":{\"standoff\":15},\"zerolinecolor\":\"white\",\"automargin\":true,\"zerolinewidth\":2},\"yaxis\":{\"gridcolor\":\"white\",\"linecolor\":\"white\",\"ticks\":\"\",\"title\":{\"standoff\":15},\"zerolinecolor\":\"white\",\"automargin\":true,\"zerolinewidth\":2},\"scene\":{\"xaxis\":{\"backgroundcolor\":\"#E5ECF6\",\"gridcolor\":\"white\",\"linecolor\":\"white\",\"showbackground\":true,\"ticks\":\"\",\"zerolinecolor\":\"white\",\"gridwidth\":2},\"yaxis\":{\"backgroundcolor\":\"#E5ECF6\",\"gridcolor\":\"white\",\"linecolor\":\"white\",\"showbackground\":true,\"ticks\":\"\",\"zerolinecolor\":\"white\",\"gridwidth\":2},\"zaxis\":{\"backgroundcolor\":\"#E5ECF6\",\"gridcolor\":\"white\",\"linecolor\":\"white\",\"showbackground\":true,\"ticks\":\"\",\"zerolinecolor\":\"white\",\"gridwidth\":2}},\"shapedefaults\":{\"line\":{\"color\":\"#2a3f5f\"}},\"annotationdefaults\":{\"arrowcolor\":\"#2a3f5f\",\"arrowhead\":0,\"arrowwidth\":1},\"geo\":{\"bgcolor\":\"white\",\"landcolor\":\"#E5ECF6\",\"subunitcolor\":\"white\",\"showland\":true,\"showlakes\":true,\"lakecolor\":\"white\"},\"title\":{\"x\":0.05},\"mapbox\":{\"style\":\"light\"}}},\"xaxis\":{\"anchor\":\"y\",\"domain\":[0.0,1.0],\"title\":{\"text\":\"Category\"},\"categoryorder\":\"max descending\"},\"yaxis\":{\"anchor\":\"x\",\"domain\":[0.0,1.0],\"title\":{\"text\":\"Paid App Price\"},\"type\":\"log\"},\"legend\":{\"tracegroupgap\":0},\"title\":{\"text\":\"Price per Category\"},\"boxmode\":\"group\"},                        {\"responsive\": true}                    ).then(function(){\n",
       "                            \n",
       "var gd = document.getElementById('8a56a7f8-b140-489c-8209-580ac095963c');\n",
       "var x = new MutationObserver(function (mutations, observer) {{\n",
       "        var display = window.getComputedStyle(gd).display;\n",
       "        if (!display || display === 'none') {{\n",
       "            console.log([gd, 'removed!']);\n",
       "            Plotly.purge(gd);\n",
       "            observer.disconnect();\n",
       "        }}\n",
       "}});\n",
       "\n",
       "// Listen for the removal of the full notebook cells\n",
       "var notebookContainer = gd.closest('#notebook-container');\n",
       "if (notebookContainer) {{\n",
       "    x.observe(notebookContainer, {childList: true});\n",
       "}}\n",
       "\n",
       "// Listen for the clearing of the current output cell\n",
       "var outputEl = gd.closest('.output');\n",
       "if (outputEl) {{\n",
       "    x.observe(outputEl, {childList: true});\n",
       "}}\n",
       "\n",
       "                        })                };                });            </script>        </div>"
      ]
     },
     "metadata": {},
     "output_type": "display_data"
    }
   ],
   "source": [
    "box = px.box(df_paid_apps,\n",
    "             x='Category',\n",
    "             y=\"Price\",\n",
    "             title='Price per Category')\n",
    " \n",
    "box.update_layout(xaxis_title='Category',\n",
    "                  yaxis_title='Paid App Price',\n",
    "                  xaxis={'categoryorder':'max descending'},\n",
    "                  yaxis=dict(type='log'))\n",
    " \n",
    "box.show()"
   ]
  },
  {
   "cell_type": "markdown",
   "id": "1cb4f9b0",
   "metadata": {
    "papermill": {
     "duration": 0.04066,
     "end_time": "2022-11-19T13:23:41.992696",
     "exception": false,
     "start_time": "2022-11-19T13:23:41.952036",
     "status": "completed"
    },
    "tags": []
   },
   "source": [
    "# Learning Points & Summary"
   ]
  },
  {
   "cell_type": "markdown",
   "id": "89551a1e",
   "metadata": {
    "papermill": {
     "duration": 0.041172,
     "end_time": "2022-11-19T13:23:42.074526",
     "exception": false,
     "start_time": "2022-11-19T13:23:42.033354",
     "status": "completed"
    },
    "tags": []
   },
   "source": [
    "In this lesson we looked at how to:\n",
    "\n",
    "* Pull a random sample from a DataFrame using `.sample()`\n",
    "\n",
    "* How to find duplicate entries with `.duplicated()` and `.drop_duplicates()`\n",
    "\n",
    "* How to convert string and object data types into numbers with `.to_numeric()`\n",
    "\n",
    "* How to use plotly to generate beautiful pie, donut, and bar charts as well as box and scatter plots\n",
    "\n",
    "Well done on completing today's lessons! 👏👏👏 I hope you enjoyed today’s Google Play Store analysis. It's incredible how much more of a clear picture we can get about the app ecosystem just by looking into some scraped website data for the Google Play Store."
   ]
  }
 ],
 "metadata": {
  "kernelspec": {
   "display_name": "Python 3",
   "language": "python",
   "name": "python3"
  },
  "language_info": {
   "codemirror_mode": {
    "name": "ipython",
    "version": 3
   },
   "file_extension": ".py",
   "mimetype": "text/x-python",
   "name": "python",
   "nbconvert_exporter": "python",
   "pygments_lexer": "ipython3",
   "version": "3.7.12"
  },
  "papermill": {
   "default_parameters": {},
   "duration": 23.298406,
   "end_time": "2022-11-19T13:23:42.937156",
   "environment_variables": {},
   "exception": null,
   "input_path": "__notebook__.ipynb",
   "output_path": "__notebook__.ipynb",
   "parameters": {},
   "start_time": "2022-11-19T13:23:19.638750",
   "version": "2.3.4"
  }
 },
 "nbformat": 4,
 "nbformat_minor": 5
}
