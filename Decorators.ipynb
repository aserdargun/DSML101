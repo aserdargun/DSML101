{
  "nbformat": 4,
  "nbformat_minor": 0,
  "metadata": {
    "colab": {
      "name": "Decorators.ipynb",
      "provenance": [],
      "collapsed_sections": [],
      "mount_file_id": "1EKujnlbBXCMROfDBpSp8wMl-qGSfFvvY",
      "authorship_tag": "ABX9TyM/NkyuP62CHqhJ+8Os3B4t",
      "include_colab_link": true
    },
    "kernelspec": {
      "name": "python3",
      "display_name": "Python 3"
    },
    "language_info": {
      "name": "python"
    }
  },
  "cells": [
    {
      "cell_type": "markdown",
      "metadata": {
        "id": "view-in-github",
        "colab_type": "text"
      },
      "source": [
        "<a href=\"https://colab.research.google.com/github/aserdargun/aserdargun/blob/main/Decorators.ipynb\" target=\"_parent\"><img src=\"https://colab.research.google.com/assets/colab-badge.svg\" alt=\"Open In Colab\"/></a>"
      ]
    },
    {
      "cell_type": "code",
      "source": [
        "def counter(fn):\n",
        "  count=0\n",
        "\n",
        "  def inner(*args,**kwargs):\n",
        "    nonlocal count\n",
        "    count+=1\n",
        "    print('Function {0} was called {1} times'.format(fn.__name__,count))\n",
        "    return fn(*args,**kwargs)\n",
        "  return inner"
      ],
      "metadata": {
        "id": "vKiQu9h80zJ_"
      },
      "execution_count": null,
      "outputs": []
    },
    {
      "cell_type": "code",
      "source": [
        "def add(a,b=0):\n",
        "  \"\"\"\n",
        "  returns the sum of a and b\n",
        "  \"\"\"\n",
        "  return a+b"
      ],
      "metadata": {
        "id": "D0PxmyIA1gJj"
      },
      "execution_count": null,
      "outputs": []
    },
    {
      "cell_type": "code",
      "source": [
        "help(add)"
      ],
      "metadata": {
        "id": "Pj3K5MkV1wSh",
        "outputId": "13865ab5-a36c-49bb-8615-3caada9801a9",
        "colab": {
          "base_uri": "https://localhost:8080/"
        }
      },
      "execution_count": null,
      "outputs": [
        {
          "output_type": "stream",
          "name": "stdout",
          "text": [
            "Help on function add in module __main__:\n",
            "\n",
            "add(a, b=0)\n",
            "    returns the sum of a and b\n",
            "\n"
          ]
        }
      ]
    },
    {
      "cell_type": "code",
      "source": [
        "id(add)"
      ],
      "metadata": {
        "id": "RuHV5qrf1w8e",
        "outputId": "879a5c47-7601-48c0-819c-65bd6b5ba7c3",
        "colab": {
          "base_uri": "https://localhost:8080/"
        }
      },
      "execution_count": null,
      "outputs": [
        {
          "output_type": "execute_result",
          "data": {
            "text/plain": [
              "140684558839248"
            ]
          },
          "metadata": {},
          "execution_count": 5
        }
      ]
    },
    {
      "cell_type": "code",
      "source": [
        "add=counter(add)"
      ],
      "metadata": {
        "id": "fuF9Is372CSO"
      },
      "execution_count": null,
      "outputs": []
    },
    {
      "cell_type": "code",
      "source": [
        "id(add)"
      ],
      "metadata": {
        "id": "K6jT1v7O2EiQ",
        "outputId": "84d45241-af20-4473-b310-357b4fce8d97",
        "colab": {
          "base_uri": "https://localhost:8080/"
        }
      },
      "execution_count": null,
      "outputs": [
        {
          "output_type": "execute_result",
          "data": {
            "text/plain": [
              "140684557970896"
            ]
          },
          "metadata": {},
          "execution_count": 7
        }
      ]
    },
    {
      "cell_type": "code",
      "source": [
        "add(1,2)"
      ],
      "metadata": {
        "id": "xpcrzzI62F9g",
        "outputId": "d9ced034-4308-4c9e-f3d1-f04f58e89851",
        "colab": {
          "base_uri": "https://localhost:8080/"
        }
      },
      "execution_count": null,
      "outputs": [
        {
          "output_type": "stream",
          "name": "stdout",
          "text": [
            "Function add was called 1 times\n"
          ]
        },
        {
          "output_type": "execute_result",
          "data": {
            "text/plain": [
              "3"
            ]
          },
          "metadata": {},
          "execution_count": 8
        }
      ]
    },
    {
      "cell_type": "code",
      "source": [
        "add(2,3)"
      ],
      "metadata": {
        "id": "S3JSsJjy2HgB",
        "outputId": "35c8b195-6842-4e91-92d3-89bda11fdac3",
        "colab": {
          "base_uri": "https://localhost:8080/"
        }
      },
      "execution_count": null,
      "outputs": [
        {
          "output_type": "stream",
          "name": "stdout",
          "text": [
            "Function add was called 2 times\n"
          ]
        },
        {
          "output_type": "execute_result",
          "data": {
            "text/plain": [
              "5"
            ]
          },
          "metadata": {},
          "execution_count": 9
        }
      ]
    },
    {
      "cell_type": "code",
      "source": [
        "add(3,4)"
      ],
      "metadata": {
        "id": "pwQiV7_u2JA5",
        "outputId": "bd75d864-4556-4cd1-fd13-260cfa95e1c0",
        "colab": {
          "base_uri": "https://localhost:8080/"
        }
      },
      "execution_count": null,
      "outputs": [
        {
          "output_type": "stream",
          "name": "stdout",
          "text": [
            "Function add was called 3 times\n"
          ]
        },
        {
          "output_type": "execute_result",
          "data": {
            "text/plain": [
              "7"
            ]
          },
          "metadata": {},
          "execution_count": 10
        }
      ]
    },
    {
      "cell_type": "code",
      "source": [
        "@counter\n",
        "def mult(a:float, b:float=1,c:float=1)->float:\n",
        "  \"\"\"\n",
        "  returns the product of a,b, and c\n",
        "  \"\"\"\n",
        "  return a*b*c"
      ],
      "metadata": {
        "id": "HF7eg8Y72NSQ"
      },
      "execution_count": null,
      "outputs": []
    },
    {
      "cell_type": "code",
      "source": [
        "mult(1,2,3)"
      ],
      "metadata": {
        "colab": {
          "base_uri": "https://localhost:8080/"
        },
        "id": "05eHi6o9tCGm",
        "outputId": "95867a03-ee98-4524-e1fc-8817476ef141"
      },
      "execution_count": null,
      "outputs": [
        {
          "output_type": "stream",
          "name": "stdout",
          "text": [
            "Function mult was called 1 times\n"
          ]
        },
        {
          "output_type": "execute_result",
          "data": {
            "text/plain": [
              "6"
            ]
          },
          "metadata": {},
          "execution_count": 12
        }
      ]
    },
    {
      "cell_type": "code",
      "source": [
        "add.__name__"
      ],
      "metadata": {
        "colab": {
          "base_uri": "https://localhost:8080/",
          "height": 35
        },
        "id": "Q7mv9pmVtMDd",
        "outputId": "f1baf3c8-d4c4-4392-e646-9c667f86eca8"
      },
      "execution_count": null,
      "outputs": [
        {
          "output_type": "execute_result",
          "data": {
            "application/vnd.google.colaboratory.intrinsic+json": {
              "type": "string"
            },
            "text/plain": [
              "'inner'"
            ]
          },
          "metadata": {},
          "execution_count": 13
        }
      ]
    },
    {
      "cell_type": "code",
      "source": [
        "mult.__name__"
      ],
      "metadata": {
        "colab": {
          "base_uri": "https://localhost:8080/",
          "height": 35
        },
        "id": "x2bSBRqJtPf0",
        "outputId": "5d24d5b5-8a2b-4100-a8bd-3af7119f45f5"
      },
      "execution_count": null,
      "outputs": [
        {
          "output_type": "execute_result",
          "data": {
            "application/vnd.google.colaboratory.intrinsic+json": {
              "type": "string"
            },
            "text/plain": [
              "'inner'"
            ]
          },
          "metadata": {},
          "execution_count": 14
        }
      ]
    },
    {
      "cell_type": "code",
      "source": [
        "help(add)"
      ],
      "metadata": {
        "colab": {
          "base_uri": "https://localhost:8080/"
        },
        "id": "aTNXK8MhtRBl",
        "outputId": "e3ca6289-2d06-4b38-f43f-de49204601e6"
      },
      "execution_count": null,
      "outputs": [
        {
          "output_type": "stream",
          "name": "stdout",
          "text": [
            "Help on function inner in module __main__:\n",
            "\n",
            "inner(*args, **kwargs)\n",
            "\n"
          ]
        }
      ]
    },
    {
      "cell_type": "code",
      "source": [
        "help(mult)"
      ],
      "metadata": {
        "colab": {
          "base_uri": "https://localhost:8080/"
        },
        "id": "-jBnod7itSq-",
        "outputId": "61b4ce67-4c10-45a7-f78e-2d6b092caa37"
      },
      "execution_count": null,
      "outputs": [
        {
          "output_type": "stream",
          "name": "stdout",
          "text": [
            "Help on function inner in module __main__:\n",
            "\n",
            "inner(*args, **kwargs)\n",
            "\n"
          ]
        }
      ]
    },
    {
      "cell_type": "code",
      "source": [
        "import inspect"
      ],
      "metadata": {
        "id": "HvZLNHjytUdM"
      },
      "execution_count": null,
      "outputs": []
    },
    {
      "cell_type": "code",
      "source": [
        "inspect.getsource(add)"
      ],
      "metadata": {
        "colab": {
          "base_uri": "https://localhost:8080/",
          "height": 35
        },
        "id": "lemJhF7_tY3f",
        "outputId": "5cd1ce61-8636-4b67-cec0-8f3e7e95591a"
      },
      "execution_count": null,
      "outputs": [
        {
          "output_type": "execute_result",
          "data": {
            "application/vnd.google.colaboratory.intrinsic+json": {
              "type": "string"
            },
            "text/plain": [
              "\"  def inner(*args,**kwargs):\\n    nonlocal count\\n    count+=1\\n    print('Function {0} was called {1} times'.format(fn.__name__,count))\\n    return fn(*args,**kwargs)\\n\""
            ]
          },
          "metadata": {},
          "execution_count": 18
        }
      ]
    },
    {
      "cell_type": "code",
      "source": [
        "inspect.getsource(mult)"
      ],
      "metadata": {
        "colab": {
          "base_uri": "https://localhost:8080/",
          "height": 35
        },
        "id": "XBS4sSIXtan1",
        "outputId": "2f3ede37-aa74-46d9-9747-2bc6bf8c8d3a"
      },
      "execution_count": null,
      "outputs": [
        {
          "output_type": "execute_result",
          "data": {
            "application/vnd.google.colaboratory.intrinsic+json": {
              "type": "string"
            },
            "text/plain": [
              "\"  def inner(*args,**kwargs):\\n    nonlocal count\\n    count+=1\\n    print('Function {0} was called {1} times'.format(fn.__name__,count))\\n    return fn(*args,**kwargs)\\n\""
            ]
          },
          "metadata": {},
          "execution_count": 19
        }
      ]
    },
    {
      "cell_type": "code",
      "source": [
        "inspect.signature(add)"
      ],
      "metadata": {
        "colab": {
          "base_uri": "https://localhost:8080/"
        },
        "id": "mIo51lxitdmN",
        "outputId": "045299c1-6cc2-45f3-f37c-8747eaeb69a5"
      },
      "execution_count": null,
      "outputs": [
        {
          "output_type": "execute_result",
          "data": {
            "text/plain": [
              "<Signature (*args, **kwargs)>"
            ]
          },
          "metadata": {},
          "execution_count": 20
        }
      ]
    },
    {
      "cell_type": "code",
      "source": [
        "inspect.signature(mult)"
      ],
      "metadata": {
        "colab": {
          "base_uri": "https://localhost:8080/"
        },
        "id": "RV_j7uNLthjs",
        "outputId": "d1dfabe7-7293-4434-b422-f53d6c43c703"
      },
      "execution_count": null,
      "outputs": [
        {
          "output_type": "execute_result",
          "data": {
            "text/plain": [
              "<Signature (*args, **kwargs)>"
            ]
          },
          "metadata": {},
          "execution_count": 21
        }
      ]
    },
    {
      "cell_type": "code",
      "source": [
        "inspect.signature(add).parameters"
      ],
      "metadata": {
        "colab": {
          "base_uri": "https://localhost:8080/"
        },
        "id": "HuAybTEvtjaO",
        "outputId": "6e48eac6-ef1b-438a-d14f-87dfab72738c"
      },
      "execution_count": null,
      "outputs": [
        {
          "output_type": "execute_result",
          "data": {
            "text/plain": [
              "mappingproxy({'args': <Parameter \"*args\">, 'kwargs': <Parameter \"**kwargs\">})"
            ]
          },
          "metadata": {},
          "execution_count": 22
        }
      ]
    },
    {
      "cell_type": "code",
      "source": [
        "def counter(fn):\n",
        "  count=0\n",
        "\n",
        "  def inner(*args,**kwargs):\n",
        "    nonlocal count\n",
        "    count+=1\n",
        "    print(\"{0} was called {1} times\".format(fn.__name__,count))\n",
        "  inner.__name__=fn.__name__\n",
        "  inner.__doc__=fn.__doc__\n",
        "  return inner"
      ],
      "metadata": {
        "id": "VxYlwrhBtnB9"
      },
      "execution_count": null,
      "outputs": []
    },
    {
      "cell_type": "code",
      "source": [
        "@counter\n",
        "def add(a:int, b:int=10)->int:\n",
        "  \"\"\"\n",
        "  returns sum of two integers\n",
        "  \"\"\"\n",
        "  return a+b"
      ],
      "metadata": {
        "id": "Aaux2M5huXHX"
      },
      "execution_count": null,
      "outputs": []
    },
    {
      "cell_type": "code",
      "source": [
        "help(add)"
      ],
      "metadata": {
        "id": "kzdNfxOZuhvl",
        "outputId": "0cf6d9dd-749a-4483-ce06-bfc31fae9e6a",
        "colab": {
          "base_uri": "https://localhost:8080/"
        }
      },
      "execution_count": null,
      "outputs": [
        {
          "output_type": "stream",
          "name": "stdout",
          "text": [
            "Help on function add in module __main__:\n",
            "\n",
            "add(*args, **kwargs)\n",
            "    returns sum of two integers\n",
            "\n"
          ]
        }
      ]
    },
    {
      "cell_type": "code",
      "source": [
        "add.__name__"
      ],
      "metadata": {
        "id": "6w99Ht1munu0",
        "outputId": "ae416b92-4db5-4a0c-f594-dbfcd411f34e",
        "colab": {
          "base_uri": "https://localhost:8080/",
          "height": 35
        }
      },
      "execution_count": null,
      "outputs": [
        {
          "output_type": "execute_result",
          "data": {
            "application/vnd.google.colaboratory.intrinsic+json": {
              "type": "string"
            },
            "text/plain": [
              "'add'"
            ]
          },
          "metadata": {},
          "execution_count": 26
        }
      ]
    },
    {
      "cell_type": "code",
      "source": [
        "from functools import wraps"
      ],
      "metadata": {
        "id": "8PeMJW05up6c"
      },
      "execution_count": null,
      "outputs": []
    },
    {
      "cell_type": "code",
      "source": [
        "def counter(fn):\n",
        "  count=0\n",
        "\n",
        "  @wraps(fn)\n",
        "  def inner(*args,**kwargs):\n",
        "    nonlocal count\n",
        "    count+=1\n",
        "    print(\"{0} was called {1} times\".format(fn.__name__,count))\n",
        "\n",
        "  return inner"
      ],
      "metadata": {
        "id": "IvMIPPoguwRV"
      },
      "execution_count": null,
      "outputs": []
    },
    {
      "cell_type": "code",
      "source": [
        "@counter\n",
        "def add(a:int, b:int=10)->int:\n",
        "  \"\"\"\n",
        "  returns sum of two integers\n",
        "  \"\"\"\n",
        "  return a+b"
      ],
      "metadata": {
        "id": "EKVeMbAEvA9l"
      },
      "execution_count": null,
      "outputs": []
    },
    {
      "cell_type": "code",
      "source": [
        "help(add)"
      ],
      "metadata": {
        "id": "FCjDPL16vMq-",
        "outputId": "0a6c6e1d-9ee6-4cb1-c9ab-f3bfee834264",
        "colab": {
          "base_uri": "https://localhost:8080/"
        }
      },
      "execution_count": null,
      "outputs": [
        {
          "output_type": "stream",
          "name": "stdout",
          "text": [
            "Help on function add in module __main__:\n",
            "\n",
            "add(a: int, b: int = 10) -> int\n",
            "    returns sum of two integers\n",
            "\n"
          ]
        }
      ]
    },
    {
      "cell_type": "code",
      "source": [
        "inspect.getsource(add)"
      ],
      "metadata": {
        "id": "jZv_ONxqvNhv",
        "outputId": "022b6ed1-a9fe-4fd9-8e15-14efc8a75bbe",
        "colab": {
          "base_uri": "https://localhost:8080/",
          "height": 35
        }
      },
      "execution_count": null,
      "outputs": [
        {
          "output_type": "execute_result",
          "data": {
            "application/vnd.google.colaboratory.intrinsic+json": {
              "type": "string"
            },
            "text/plain": [
              "'@counter\\ndef add(a:int, b:int=10)->int:\\n  \"\"\"\\n  returns sum of two integers\\n  \"\"\"\\n  return a+b\\n'"
            ]
          },
          "metadata": {},
          "execution_count": 31
        }
      ]
    },
    {
      "cell_type": "code",
      "source": [
        "inspect.signature(add)"
      ],
      "metadata": {
        "id": "qVQ74EhOvQq-",
        "outputId": "a2e57b5b-58a6-48a6-976c-9ab4879377da",
        "colab": {
          "base_uri": "https://localhost:8080/"
        }
      },
      "execution_count": null,
      "outputs": [
        {
          "output_type": "execute_result",
          "data": {
            "text/plain": [
              "<Signature (a: int, b: int = 10) -> int>"
            ]
          },
          "metadata": {},
          "execution_count": 32
        }
      ]
    },
    {
      "cell_type": "code",
      "source": [
        "inspect.signature(add).parameters"
      ],
      "metadata": {
        "id": "FXEUwEOsvTGs",
        "outputId": "424e9149-afed-4ed2-fad9-67d6e635334a",
        "colab": {
          "base_uri": "https://localhost:8080/"
        }
      },
      "execution_count": null,
      "outputs": [
        {
          "output_type": "execute_result",
          "data": {
            "text/plain": [
              "mappingproxy({'a': <Parameter \"a: int\">, 'b': <Parameter \"b: int = 10\">})"
            ]
          },
          "metadata": {},
          "execution_count": 33
        }
      ]
    },
    {
      "cell_type": "code",
      "source": [
        "def timed(fn):\n",
        "  from time import perf_counter\n",
        "  from functools import wraps\n",
        "\n",
        "  @wraps(fn)\n",
        "  def inner(*args,**kwargs):\n",
        "    start=perf_counter()\n",
        "    result=fn(*args,**kwargs)\n",
        "    end=perf_counter()\n",
        "    elapsed=end-start\n",
        "\n",
        "    args_=[str(a) for a in args]\n",
        "    kwargs_=['{0}={1}'.format(k,v) for (k,v) in kwargs.items()]\n",
        "    all_args=args_+kwargs_\n",
        "    args_str=','.join(all_args)\n",
        "    print('{0}({1}) took {2:.6f}s to run.'.format(fn.__name__,\n",
        "                                                  args_str,\n",
        "                                                  elapsed))\n",
        "    return result\n",
        "  \n",
        "  return inner"
      ],
      "metadata": {
        "id": "UpIsUo01vW9O"
      },
      "execution_count": 1,
      "outputs": []
    },
    {
      "cell_type": "code",
      "source": [
        "def calc_recursive_fib(n):\n",
        "  if n<=2:\n",
        "    return 1\n",
        "  else:\n",
        "    return calc_recursive_fib(n-1)+calc_recursive_fib(n-2)"
      ],
      "metadata": {
        "id": "X6RsBv9xlgJ4"
      },
      "execution_count": 7,
      "outputs": []
    },
    {
      "cell_type": "code",
      "source": [
        "calc_recursive_fib(3)"
      ],
      "metadata": {
        "id": "kUJL-8qLl7kG",
        "outputId": "92f2d8af-4518-4cc1-8fe2-3bc9b4480b54",
        "colab": {
          "base_uri": "https://localhost:8080/"
        }
      },
      "execution_count": 8,
      "outputs": [
        {
          "output_type": "execute_result",
          "data": {
            "text/plain": [
              "2"
            ]
          },
          "metadata": {},
          "execution_count": 8
        }
      ]
    },
    {
      "cell_type": "code",
      "source": [
        "calc_recursive_fib(6)"
      ],
      "metadata": {
        "id": "HgLpZh-rmAca",
        "outputId": "70719170-9949-4e3c-b41c-1b52a9e29957",
        "colab": {
          "base_uri": "https://localhost:8080/"
        }
      },
      "execution_count": 9,
      "outputs": [
        {
          "output_type": "execute_result",
          "data": {
            "text/plain": [
              "8"
            ]
          },
          "metadata": {},
          "execution_count": 9
        }
      ]
    },
    {
      "cell_type": "code",
      "source": [
        "@timed\n",
        "def fib_recursed(n):\n",
        "  return calc_recursive_fib(n)"
      ],
      "metadata": {
        "id": "5LAzSdzhmCxj"
      },
      "execution_count": 10,
      "outputs": []
    },
    {
      "cell_type": "code",
      "source": [
        "fib_recursed(33)"
      ],
      "metadata": {
        "id": "Q79MQAZ7mJ4B",
        "outputId": "aac6ec67-7161-412c-a519-ff7a3d0088e6",
        "colab": {
          "base_uri": "https://localhost:8080/"
        }
      },
      "execution_count": 11,
      "outputs": [
        {
          "output_type": "stream",
          "name": "stdout",
          "text": [
            "fib_recursed(33) took 1.011435s to run.\n"
          ]
        },
        {
          "output_type": "execute_result",
          "data": {
            "text/plain": [
              "3524578"
            ]
          },
          "metadata": {},
          "execution_count": 11
        }
      ]
    },
    {
      "cell_type": "code",
      "source": [
        "fib_recursed.__closure__"
      ],
      "metadata": {
        "id": "Dnld9GFamMN7",
        "outputId": "f07cb8df-326a-4de1-f0c9-28a825e12d76",
        "colab": {
          "base_uri": "https://localhost:8080/"
        }
      },
      "execution_count": 12,
      "outputs": [
        {
          "output_type": "execute_result",
          "data": {
            "text/plain": [
              "(<cell at 0x7ff4594fef90: function object at 0x7ff45953f200>,\n",
              " <cell at 0x7ff4594fea50: builtin_function_or_method object at 0x7ff480b96190>)"
            ]
          },
          "metadata": {},
          "execution_count": 12
        }
      ]
    },
    {
      "cell_type": "code",
      "source": [
        "fib_recursed.__code__.co_freevars"
      ],
      "metadata": {
        "id": "sPmv8WmDmOkz",
        "outputId": "11a27396-3906-4ad4-91d4-cec6c909cc22",
        "colab": {
          "base_uri": "https://localhost:8080/"
        }
      },
      "execution_count": 13,
      "outputs": [
        {
          "output_type": "execute_result",
          "data": {
            "text/plain": [
              "('fn', 'perf_counter')"
            ]
          },
          "metadata": {},
          "execution_count": 13
        }
      ]
    },
    {
      "cell_type": "code",
      "source": [
        "@timed\n",
        "def fib_recursed_2(n):\n",
        "  if n<=2:\n",
        "    return 1\n",
        "  else:\n",
        "    return fib_recursed_2(n-1)+fib_recursed_2(n-2)"
      ],
      "metadata": {
        "id": "R3aVzLl7mT_s"
      },
      "execution_count": 14,
      "outputs": []
    },
    {
      "cell_type": "code",
      "source": [
        "fib_recursed_2.__closure__"
      ],
      "metadata": {
        "id": "5II-vobHm9Si",
        "outputId": "08ecb181-97ff-4161-d80e-99faf7311754",
        "colab": {
          "base_uri": "https://localhost:8080/"
        }
      },
      "execution_count": 17,
      "outputs": [
        {
          "output_type": "execute_result",
          "data": {
            "text/plain": [
              "(<cell at 0x7ff45953d6d0: function object at 0x7ff45949a710>,\n",
              " <cell at 0x7ff45953d690: builtin_function_or_method object at 0x7ff480b96190>)"
            ]
          },
          "metadata": {},
          "execution_count": 17
        }
      ]
    },
    {
      "cell_type": "code",
      "source": [
        "fib_recursed_2.__code__.co_freevars"
      ],
      "metadata": {
        "id": "EmgKABfcm_tr",
        "outputId": "5ae34cf0-b220-44e7-c13b-1a90821505e1",
        "colab": {
          "base_uri": "https://localhost:8080/"
        }
      },
      "execution_count": 18,
      "outputs": [
        {
          "output_type": "execute_result",
          "data": {
            "text/plain": [
              "('fn', 'perf_counter')"
            ]
          },
          "metadata": {},
          "execution_count": 18
        }
      ]
    },
    {
      "cell_type": "code",
      "source": [
        "fib_recursed_2(10)"
      ],
      "metadata": {
        "id": "Pk9hngeGnA26",
        "outputId": "01c0fef3-96bb-4bde-f5cf-f4dc5926cbd6",
        "colab": {
          "base_uri": "https://localhost:8080/"
        }
      },
      "execution_count": 19,
      "outputs": [
        {
          "output_type": "stream",
          "name": "stdout",
          "text": [
            "fib_recursed_2(2) took 0.000001s to run.\n",
            "fib_recursed_2(1) took 0.000002s to run.\n",
            "fib_recursed_2(3) took 0.004153s to run.\n",
            "fib_recursed_2(2) took 0.000000s to run.\n",
            "fib_recursed_2(4) took 0.004208s to run.\n",
            "fib_recursed_2(2) took 0.000000s to run.\n",
            "fib_recursed_2(1) took 0.000000s to run.\n",
            "fib_recursed_2(3) took 0.000049s to run.\n",
            "fib_recursed_2(5) took 0.004305s to run.\n",
            "fib_recursed_2(2) took 0.000000s to run.\n",
            "fib_recursed_2(1) took 0.000000s to run.\n",
            "fib_recursed_2(3) took 0.000046s to run.\n",
            "fib_recursed_2(2) took 0.000000s to run.\n",
            "fib_recursed_2(4) took 0.000091s to run.\n",
            "fib_recursed_2(6) took 0.004442s to run.\n",
            "fib_recursed_2(2) took 0.000000s to run.\n",
            "fib_recursed_2(1) took 0.000000s to run.\n",
            "fib_recursed_2(3) took 0.000044s to run.\n",
            "fib_recursed_2(2) took 0.000000s to run.\n",
            "fib_recursed_2(4) took 0.000088s to run.\n",
            "fib_recursed_2(2) took 0.000000s to run.\n",
            "fib_recursed_2(1) took 0.000000s to run.\n",
            "fib_recursed_2(3) took 0.000048s to run.\n",
            "fib_recursed_2(5) took 0.000180s to run.\n",
            "fib_recursed_2(7) took 0.004671s to run.\n",
            "fib_recursed_2(2) took 0.000000s to run.\n",
            "fib_recursed_2(1) took 0.000000s to run.\n",
            "fib_recursed_2(3) took 0.000049s to run.\n",
            "fib_recursed_2(2) took 0.000001s to run.\n",
            "fib_recursed_2(4) took 0.000126s to run.\n",
            "fib_recursed_2(2) took 0.000000s to run.\n",
            "fib_recursed_2(1) took 0.000000s to run.\n",
            "fib_recursed_2(3) took 0.000052s to run.\n",
            "fib_recursed_2(5) took 0.000226s to run.\n",
            "fib_recursed_2(2) took 0.000000s to run.\n",
            "fib_recursed_2(1) took 0.000000s to run.\n",
            "fib_recursed_2(3) took 0.000048s to run.\n",
            "fib_recursed_2(2) took 0.000000s to run.\n",
            "fib_recursed_2(4) took 0.000096s to run.\n",
            "fib_recursed_2(6) took 0.000378s to run.\n",
            "fib_recursed_2(8) took 0.005098s to run.\n",
            "fib_recursed_2(2) took 0.000000s to run.\n",
            "fib_recursed_2(1) took 0.000000s to run.\n",
            "fib_recursed_2(3) took 0.000051s to run.\n",
            "fib_recursed_2(2) took 0.000000s to run.\n",
            "fib_recursed_2(4) took 0.000100s to run.\n",
            "fib_recursed_2(2) took 0.000000s to run.\n",
            "fib_recursed_2(1) took 0.000000s to run.\n",
            "fib_recursed_2(3) took 0.000048s to run.\n",
            "fib_recursed_2(5) took 0.000193s to run.\n",
            "fib_recursed_2(2) took 0.000000s to run.\n",
            "fib_recursed_2(1) took 0.000000s to run.\n",
            "fib_recursed_2(3) took 0.000042s to run.\n",
            "fib_recursed_2(2) took 0.000000s to run.\n",
            "fib_recursed_2(4) took 0.000086s to run.\n",
            "fib_recursed_2(6) took 0.000325s to run.\n",
            "fib_recursed_2(2) took 0.000000s to run.\n",
            "fib_recursed_2(1) took 0.000000s to run.\n",
            "fib_recursed_2(3) took 0.000042s to run.\n",
            "fib_recursed_2(2) took 0.000000s to run.\n",
            "fib_recursed_2(4) took 0.000084s to run.\n",
            "fib_recursed_2(2) took 0.000000s to run.\n",
            "fib_recursed_2(1) took 0.000000s to run.\n",
            "fib_recursed_2(3) took 0.000042s to run.\n",
            "fib_recursed_2(5) took 0.000170s to run.\n",
            "fib_recursed_2(7) took 0.000538s to run.\n",
            "fib_recursed_2(9) took 0.005685s to run.\n",
            "fib_recursed_2(2) took 0.000000s to run.\n",
            "fib_recursed_2(1) took 0.000000s to run.\n",
            "fib_recursed_2(3) took 0.012114s to run.\n",
            "fib_recursed_2(2) took 0.000001s to run.\n",
            "fib_recursed_2(4) took 0.012219s to run.\n",
            "fib_recursed_2(2) took 0.000000s to run.\n",
            "fib_recursed_2(1) took 0.000000s to run.\n",
            "fib_recursed_2(3) took 0.000030s to run.\n",
            "fib_recursed_2(5) took 0.012281s to run.\n",
            "fib_recursed_2(2) took 0.000000s to run.\n",
            "fib_recursed_2(1) took 0.000000s to run.\n",
            "fib_recursed_2(3) took 0.000029s to run.\n",
            "fib_recursed_2(2) took 0.000000s to run.\n",
            "fib_recursed_2(4) took 0.000058s to run.\n",
            "fib_recursed_2(6) took 0.012368s to run.\n",
            "fib_recursed_2(2) took 0.000000s to run.\n",
            "fib_recursed_2(1) took 0.000000s to run.\n",
            "fib_recursed_2(3) took 0.000027s to run.\n",
            "fib_recursed_2(2) took 0.000000s to run.\n",
            "fib_recursed_2(4) took 0.000054s to run.\n",
            "fib_recursed_2(2) took 0.000000s to run.\n",
            "fib_recursed_2(1) took 0.000000s to run.\n",
            "fib_recursed_2(3) took 0.000028s to run.\n",
            "fib_recursed_2(5) took 0.000110s to run.\n",
            "fib_recursed_2(7) took 0.012506s to run.\n",
            "fib_recursed_2(2) took 0.000000s to run.\n",
            "fib_recursed_2(1) took 0.000000s to run.\n",
            "fib_recursed_2(3) took 0.000028s to run.\n",
            "fib_recursed_2(2) took 0.000000s to run.\n",
            "fib_recursed_2(4) took 0.000062s to run.\n",
            "fib_recursed_2(2) took 0.000000s to run.\n",
            "fib_recursed_2(1) took 0.000000s to run.\n",
            "fib_recursed_2(3) took 0.000029s to run.\n",
            "fib_recursed_2(5) took 0.000120s to run.\n",
            "fib_recursed_2(2) took 0.000000s to run.\n",
            "fib_recursed_2(1) took 0.000000s to run.\n",
            "fib_recursed_2(3) took 0.000028s to run.\n",
            "fib_recursed_2(2) took 0.000000s to run.\n",
            "fib_recursed_2(4) took 0.000056s to run.\n",
            "fib_recursed_2(6) took 0.000204s to run.\n",
            "fib_recursed_2(8) took 0.012740s to run.\n",
            "fib_recursed_2(10) took 0.018465s to run.\n"
          ]
        },
        {
          "output_type": "execute_result",
          "data": {
            "text/plain": [
              "55"
            ]
          },
          "metadata": {},
          "execution_count": 19
        }
      ]
    },
    {
      "cell_type": "code",
      "source": [
        ""
      ],
      "metadata": {
        "id": "oj36GE7znGMy"
      },
      "execution_count": null,
      "outputs": []
    }
  ]
}