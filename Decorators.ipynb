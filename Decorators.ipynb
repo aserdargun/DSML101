{
  "nbformat": 4,
  "nbformat_minor": 0,
  "metadata": {
    "colab": {
      "name": "Decorators.ipynb",
      "provenance": [],
      "collapsed_sections": [],
      "mount_file_id": "1EKujnlbBXCMROfDBpSp8wMl-qGSfFvvY",
      "authorship_tag": "ABX9TyNfjp09bfwEZprVT7B71cYK",
      "include_colab_link": true
    },
    "kernelspec": {
      "name": "python3",
      "display_name": "Python 3"
    },
    "language_info": {
      "name": "python"
    }
  },
  "cells": [
    {
      "cell_type": "markdown",
      "metadata": {
        "id": "view-in-github",
        "colab_type": "text"
      },
      "source": [
        "<a href=\"https://colab.research.google.com/github/aserdargun/aserdargun/blob/main/Decorators.ipynb\" target=\"_parent\"><img src=\"https://colab.research.google.com/assets/colab-badge.svg\" alt=\"Open In Colab\"/></a>"
      ]
    },
    {
      "cell_type": "code",
      "source": [
        "def outer():\n",
        "  x='python'\n",
        "  def inner():\n",
        "    print(x)\n",
        "  return inner"
      ],
      "metadata": {
        "id": "_g7kwdEg3VyX"
      },
      "execution_count": 18,
      "outputs": []
    },
    {
      "cell_type": "code",
      "source": [
        "fn=outer()"
      ],
      "metadata": {
        "id": "xjjsEgGn3f3o"
      },
      "execution_count": 19,
      "outputs": []
    },
    {
      "cell_type": "code",
      "source": [
        "fn.__code__.co_freevars"
      ],
      "metadata": {
        "colab": {
          "base_uri": "https://localhost:8080/"
        },
        "id": "R0ilbxvI3hmf",
        "outputId": "5bb2a1f7-8a6e-4764-b085-fb1e13915ba5"
      },
      "execution_count": 20,
      "outputs": [
        {
          "output_type": "execute_result",
          "data": {
            "text/plain": [
              "('x',)"
            ]
          },
          "metadata": {},
          "execution_count": 20
        }
      ]
    },
    {
      "cell_type": "code",
      "source": [
        "fn.__closure__"
      ],
      "metadata": {
        "colab": {
          "base_uri": "https://localhost:8080/"
        },
        "id": "LbqN4y2H3k5m",
        "outputId": "54fd9031-6d16-4121-fa8c-425b88cd40da"
      },
      "execution_count": 21,
      "outputs": [
        {
          "output_type": "execute_result",
          "data": {
            "text/plain": [
              "(<cell at 0x7f08b35ea690: str object at 0x7f08d8722830>,)"
            ]
          },
          "metadata": {},
          "execution_count": 21
        }
      ]
    },
    {
      "cell_type": "code",
      "source": [
        "def outer():\n",
        "  x='serdar'\n",
        "  y=[1,2,3]\n",
        "  def inner():\n",
        "    print(x,y)\n",
        "  return inner"
      ],
      "metadata": {
        "id": "FO6F1D9X4JHf"
      },
      "execution_count": 22,
      "outputs": []
    },
    {
      "cell_type": "code",
      "source": [
        "fn=outer()"
      ],
      "metadata": {
        "id": "Lt_tmGOu4Ymv"
      },
      "execution_count": 23,
      "outputs": []
    },
    {
      "cell_type": "code",
      "source": [
        "fn.__code__.co_freevars"
      ],
      "metadata": {
        "colab": {
          "base_uri": "https://localhost:8080/"
        },
        "id": "xcp1Jls54ZqP",
        "outputId": "b2278268-cf1a-42f5-f34f-fb3553f94c56"
      },
      "execution_count": 24,
      "outputs": [
        {
          "output_type": "execute_result",
          "data": {
            "text/plain": [
              "('x', 'y')"
            ]
          },
          "metadata": {},
          "execution_count": 24
        }
      ]
    },
    {
      "cell_type": "code",
      "source": [
        "fn.__closure__"
      ],
      "metadata": {
        "colab": {
          "base_uri": "https://localhost:8080/"
        },
        "id": "gvaCSA5F4clW",
        "outputId": "bec126b2-596f-443f-bd34-4a21deeb3e91"
      },
      "execution_count": 25,
      "outputs": [
        {
          "output_type": "execute_result",
          "data": {
            "text/plain": [
              "(<cell at 0x7f08b19265d0: str object at 0x7f08b1941770>,\n",
              " <cell at 0x7f08b1926bd0: list object at 0x7f08b1920be0>)"
            ]
          },
          "metadata": {},
          "execution_count": 25
        }
      ]
    },
    {
      "cell_type": "code",
      "source": [
        "fn()"
      ],
      "metadata": {
        "colab": {
          "base_uri": "https://localhost:8080/"
        },
        "id": "BGv9fj3a4eq3",
        "outputId": "acc84368-86f5-44eb-c048-4f628101ffe2"
      },
      "execution_count": 26,
      "outputs": [
        {
          "output_type": "stream",
          "name": "stdout",
          "text": [
            "serdar [1, 2, 3]\n"
          ]
        }
      ]
    },
    {
      "cell_type": "code",
      "source": [
        "def outer():\n",
        "  x=[1,2,3]\n",
        "  print('outer:', hex(id(x)))\n",
        "  def inner():\n",
        "    print('inner:',hex(id(x)))\n",
        "    print(x)\n",
        "  return inner"
      ],
      "metadata": {
        "id": "dYMbzqvn4vvH"
      },
      "execution_count": 27,
      "outputs": []
    },
    {
      "cell_type": "code",
      "source": [
        "fn=outer()"
      ],
      "metadata": {
        "colab": {
          "base_uri": "https://localhost:8080/"
        },
        "id": "Fq9HIhgt5GZO",
        "outputId": "e9511548-78fa-49f1-b5d7-7e808b4399a6"
      },
      "execution_count": 28,
      "outputs": [
        {
          "output_type": "stream",
          "name": "stdout",
          "text": [
            "outer: 0x7f08b18dc9b0\n"
          ]
        }
      ]
    },
    {
      "cell_type": "code",
      "source": [
        "fn.__closure__"
      ],
      "metadata": {
        "colab": {
          "base_uri": "https://localhost:8080/"
        },
        "id": "udRLatoY5Ik2",
        "outputId": "4d1d5eb9-0779-479c-a099-f69ad530330f"
      },
      "execution_count": 29,
      "outputs": [
        {
          "output_type": "execute_result",
          "data": {
            "text/plain": [
              "(<cell at 0x7f08b194b750: list object at 0x7f08b18dc9b0>,)"
            ]
          },
          "metadata": {},
          "execution_count": 29
        }
      ]
    },
    {
      "cell_type": "code",
      "source": [
        "fn()"
      ],
      "metadata": {
        "colab": {
          "base_uri": "https://localhost:8080/"
        },
        "id": "9DIc_uSO5NLA",
        "outputId": "078869a0-b279-4989-81e6-ec19d49dcd48"
      },
      "execution_count": 30,
      "outputs": [
        {
          "output_type": "stream",
          "name": "stdout",
          "text": [
            "inner: 0x7f08b18dc9b0\n",
            "[1, 2, 3]\n"
          ]
        }
      ]
    },
    {
      "cell_type": "code",
      "source": [
        "outer()()"
      ],
      "metadata": {
        "colab": {
          "base_uri": "https://localhost:8080/"
        },
        "id": "Oar9FnZ95RgX",
        "outputId": "d8aeada2-3db0-4d49-de94-1780a6fa0b9c"
      },
      "execution_count": 31,
      "outputs": [
        {
          "output_type": "stream",
          "name": "stdout",
          "text": [
            "outer: 0x7f08b18e7230\n",
            "inner: 0x7f08b18e7230\n",
            "[1, 2, 3]\n"
          ]
        }
      ]
    },
    {
      "cell_type": "code",
      "source": [
        "fn()"
      ],
      "metadata": {
        "colab": {
          "base_uri": "https://localhost:8080/"
        },
        "id": "GR6hArx55TEP",
        "outputId": "d7c31eb0-caf8-4645-83a5-fdbd23ce9754"
      },
      "execution_count": 32,
      "outputs": [
        {
          "output_type": "stream",
          "name": "stdout",
          "text": [
            "inner: 0x7f08b18dc9b0\n",
            "[1, 2, 3]\n"
          ]
        }
      ]
    },
    {
      "cell_type": "code",
      "source": [
        "fn=outer()"
      ],
      "metadata": {
        "colab": {
          "base_uri": "https://localhost:8080/"
        },
        "id": "MNl05dT25VsH",
        "outputId": "d3154532-cd84-4af8-8ef2-f704126cea9d"
      },
      "execution_count": 33,
      "outputs": [
        {
          "output_type": "stream",
          "name": "stdout",
          "text": [
            "outer: 0x7f08b19295f0\n"
          ]
        }
      ]
    },
    {
      "cell_type": "code",
      "source": [
        "fn()"
      ],
      "metadata": {
        "colab": {
          "base_uri": "https://localhost:8080/"
        },
        "id": "U6lnTG0D5hjf",
        "outputId": "89a752f2-7a91-4fd1-b1af-9d30a6601571"
      },
      "execution_count": 34,
      "outputs": [
        {
          "output_type": "stream",
          "name": "stdout",
          "text": [
            "inner: 0x7f08b19295f0\n",
            "[1, 2, 3]\n"
          ]
        }
      ]
    },
    {
      "cell_type": "code",
      "source": [
        "fn.__closure__"
      ],
      "metadata": {
        "colab": {
          "base_uri": "https://localhost:8080/"
        },
        "id": "5ApLSFFB5mJW",
        "outputId": "ae1a6bc4-13b9-4874-98b4-2cec0d9d1852"
      },
      "execution_count": 35,
      "outputs": [
        {
          "output_type": "execute_result",
          "data": {
            "text/plain": [
              "(<cell at 0x7f08b19145d0: list object at 0x7f08b19295f0>,)"
            ]
          },
          "metadata": {},
          "execution_count": 35
        }
      ]
    },
    {
      "cell_type": "code",
      "source": [
        "outer.__closure__"
      ],
      "metadata": {
        "id": "uFxZYHN05thV"
      },
      "execution_count": 36,
      "outputs": []
    },
    {
      "cell_type": "code",
      "source": [
        "outer().__closure__"
      ],
      "metadata": {
        "colab": {
          "base_uri": "https://localhost:8080/"
        },
        "id": "tCKyqKLR54WA",
        "outputId": "e6e0b873-eba4-4ef8-b52d-c013b08d20c3"
      },
      "execution_count": 37,
      "outputs": [
        {
          "output_type": "stream",
          "name": "stdout",
          "text": [
            "outer: 0x7f08b18f4730\n"
          ]
        },
        {
          "output_type": "execute_result",
          "data": {
            "text/plain": [
              "(<cell at 0x7f08b1941a90: list object at 0x7f08b18f4730>,)"
            ]
          },
          "metadata": {},
          "execution_count": 37
        }
      ]
    },
    {
      "cell_type": "code",
      "source": [
        "fn.__closure__"
      ],
      "metadata": {
        "colab": {
          "base_uri": "https://localhost:8080/"
        },
        "id": "RzTg50FI58UX",
        "outputId": "4403b51e-0ccf-486b-eb2e-720123419139"
      },
      "execution_count": 38,
      "outputs": [
        {
          "output_type": "execute_result",
          "data": {
            "text/plain": [
              "(<cell at 0x7f08b19145d0: list object at 0x7f08b19295f0>,)"
            ]
          },
          "metadata": {},
          "execution_count": 38
        }
      ]
    },
    {
      "cell_type": "code",
      "source": [
        "def counter():\n",
        "  count=0\n",
        "  \n",
        "  def inc():\n",
        "    nonlocal count\n",
        "    count+=1\n",
        "    return count\n",
        "  return inc"
      ],
      "metadata": {
        "id": "WfjUcClF6CV_"
      },
      "execution_count": 39,
      "outputs": []
    },
    {
      "cell_type": "code",
      "source": [
        "c=counter()"
      ],
      "metadata": {
        "id": "COaSCSVj6V3f"
      },
      "execution_count": 40,
      "outputs": []
    },
    {
      "cell_type": "code",
      "source": [
        "c()"
      ],
      "metadata": {
        "colab": {
          "base_uri": "https://localhost:8080/"
        },
        "id": "nNcqESVH6Xb3",
        "outputId": "a0f864ce-bedf-4ca5-9221-b9cc1161fd89"
      },
      "execution_count": 41,
      "outputs": [
        {
          "output_type": "execute_result",
          "data": {
            "text/plain": [
              "1"
            ]
          },
          "metadata": {},
          "execution_count": 41
        }
      ]
    },
    {
      "cell_type": "code",
      "source": [
        "c()"
      ],
      "metadata": {
        "colab": {
          "base_uri": "https://localhost:8080/"
        },
        "id": "r8l-kuyl6YYX",
        "outputId": "f1efe7ab-e644-4dda-f822-ae44e08808a7"
      },
      "execution_count": 42,
      "outputs": [
        {
          "output_type": "execute_result",
          "data": {
            "text/plain": [
              "2"
            ]
          },
          "metadata": {},
          "execution_count": 42
        }
      ]
    },
    {
      "cell_type": "code",
      "source": [
        "c.__closure__"
      ],
      "metadata": {
        "colab": {
          "base_uri": "https://localhost:8080/"
        },
        "id": "I-awp_Ic6ZEf",
        "outputId": "7877de3e-ef52-4b26-d3a5-f6bd4129c0e8"
      },
      "execution_count": 43,
      "outputs": [
        {
          "output_type": "execute_result",
          "data": {
            "text/plain": [
              "(<cell at 0x7f08b18e6710: int object at 0x55caeaba4a20>,)"
            ]
          },
          "metadata": {},
          "execution_count": 43
        }
      ]
    },
    {
      "cell_type": "code",
      "source": [
        "d=counter()"
      ],
      "metadata": {
        "id": "R8emRvgs6cB3"
      },
      "execution_count": 44,
      "outputs": []
    },
    {
      "cell_type": "code",
      "source": [
        "d()"
      ],
      "metadata": {
        "colab": {
          "base_uri": "https://localhost:8080/"
        },
        "id": "GOOmLXHg6fW3",
        "outputId": "bf2b59e1-f8f5-41b0-de0d-faca9918ef8e"
      },
      "execution_count": 45,
      "outputs": [
        {
          "output_type": "execute_result",
          "data": {
            "text/plain": [
              "1"
            ]
          },
          "metadata": {},
          "execution_count": 45
        }
      ]
    },
    {
      "cell_type": "code",
      "source": [
        "d.__closure__"
      ],
      "metadata": {
        "colab": {
          "base_uri": "https://localhost:8080/"
        },
        "id": "Le2XVDPH6g3W",
        "outputId": "fe16a90f-6b7a-422f-be5f-e945063a7b9f"
      },
      "execution_count": 46,
      "outputs": [
        {
          "output_type": "execute_result",
          "data": {
            "text/plain": [
              "(<cell at 0x7f08b18eb190: int object at 0x55caeaba4a00>,)"
            ]
          },
          "metadata": {},
          "execution_count": 46
        }
      ]
    },
    {
      "cell_type": "code",
      "source": [
        "d()"
      ],
      "metadata": {
        "colab": {
          "base_uri": "https://localhost:8080/"
        },
        "id": "K0D5gKHA6jLX",
        "outputId": "944918de-70af-4a2d-e9b8-0532ac64704d"
      },
      "execution_count": 47,
      "outputs": [
        {
          "output_type": "execute_result",
          "data": {
            "text/plain": [
              "2"
            ]
          },
          "metadata": {},
          "execution_count": 47
        }
      ]
    },
    {
      "cell_type": "code",
      "source": [
        "d.__closure__"
      ],
      "metadata": {
        "colab": {
          "base_uri": "https://localhost:8080/"
        },
        "id": "RonXX0896nzP",
        "outputId": "373d5b5a-38c3-4d87-f36c-d5338943a79a"
      },
      "execution_count": 48,
      "outputs": [
        {
          "output_type": "execute_result",
          "data": {
            "text/plain": [
              "(<cell at 0x7f08b18eb190: int object at 0x55caeaba4a20>,)"
            ]
          },
          "metadata": {},
          "execution_count": 48
        }
      ]
    },
    {
      "cell_type": "code",
      "source": [
        "count=0\n",
        "def counter(): \n",
        "  \n",
        "  def inc():\n",
        "    global count\n",
        "    count+=1\n",
        "    return count\n",
        "  return inc"
      ],
      "metadata": {
        "id": "PM4Ky87B6qS2"
      },
      "execution_count": 58,
      "outputs": []
    },
    {
      "cell_type": "code",
      "source": [
        "c=counter()"
      ],
      "metadata": {
        "id": "ymmX5hYj63IA"
      },
      "execution_count": 59,
      "outputs": []
    },
    {
      "cell_type": "code",
      "source": [
        "c.__closure__"
      ],
      "metadata": {
        "id": "dIcf0rPQ66WH"
      },
      "execution_count": 60,
      "outputs": []
    },
    {
      "cell_type": "code",
      "source": [
        "c()"
      ],
      "metadata": {
        "colab": {
          "base_uri": "https://localhost:8080/"
        },
        "id": "th-3XWNl67om",
        "outputId": "fb8d1329-5b0e-46bd-f87e-0d086bce1dd0"
      },
      "execution_count": 61,
      "outputs": [
        {
          "output_type": "execute_result",
          "data": {
            "text/plain": [
              "1"
            ]
          },
          "metadata": {},
          "execution_count": 61
        }
      ]
    },
    {
      "cell_type": "code",
      "source": [
        "c()"
      ],
      "metadata": {
        "colab": {
          "base_uri": "https://localhost:8080/"
        },
        "id": "VmIxWQfg7yTo",
        "outputId": "c1eaa868-6d7a-4901-d60b-c7252543c3e3"
      },
      "execution_count": 62,
      "outputs": [
        {
          "output_type": "execute_result",
          "data": {
            "text/plain": [
              "2"
            ]
          },
          "metadata": {},
          "execution_count": 62
        }
      ]
    },
    {
      "cell_type": "code",
      "source": [
        "c.__code__.co_freevars"
      ],
      "metadata": {
        "colab": {
          "base_uri": "https://localhost:8080/"
        },
        "id": "sNkIT7La7y-_",
        "outputId": "85840e1e-6b19-487c-f979-4b49c3ac3eb9"
      },
      "execution_count": 63,
      "outputs": [
        {
          "output_type": "execute_result",
          "data": {
            "text/plain": [
              "()"
            ]
          },
          "metadata": {},
          "execution_count": 63
        }
      ]
    },
    {
      "cell_type": "code",
      "source": [
        "def outer():\n",
        "  count=0\n",
        "  def inc1():\n",
        "    nonlocal count\n",
        "    count+=1\n",
        "    return count\n",
        "  def inc2():\n",
        "    nonlocal count\n",
        "    count+=1\n",
        "    return count\n",
        "  return inc1, inc2"
      ],
      "metadata": {
        "id": "NZDmvRvV8Ewr"
      },
      "execution_count": 64,
      "outputs": []
    },
    {
      "cell_type": "code",
      "source": [
        "fn1,fn2=outer()"
      ],
      "metadata": {
        "id": "DYojdH_O8g5o"
      },
      "execution_count": 65,
      "outputs": []
    },
    {
      "cell_type": "code",
      "source": [
        "fn1.__closure__,fn2.__closure__"
      ],
      "metadata": {
        "colab": {
          "base_uri": "https://localhost:8080/"
        },
        "id": "v2SjrMdT8jaQ",
        "outputId": "b10c0b33-32ca-403d-abab-a60531e05ee9"
      },
      "execution_count": 66,
      "outputs": [
        {
          "output_type": "execute_result",
          "data": {
            "text/plain": [
              "((<cell at 0x7f08b18ef890: int object at 0x55caeaba49e0>,),\n",
              " (<cell at 0x7f08b18ef890: int object at 0x55caeaba49e0>,))"
            ]
          },
          "metadata": {},
          "execution_count": 66
        }
      ]
    },
    {
      "cell_type": "code",
      "source": [
        "fn1()"
      ],
      "metadata": {
        "colab": {
          "base_uri": "https://localhost:8080/"
        },
        "id": "tFoijXlo8ok_",
        "outputId": "c2b0f211-7f4b-49f7-bd10-c48448359943"
      },
      "execution_count": 67,
      "outputs": [
        {
          "output_type": "execute_result",
          "data": {
            "text/plain": [
              "1"
            ]
          },
          "metadata": {},
          "execution_count": 67
        }
      ]
    },
    {
      "cell_type": "code",
      "source": [
        "fn2()"
      ],
      "metadata": {
        "colab": {
          "base_uri": "https://localhost:8080/"
        },
        "id": "HQtjnD4W8s83",
        "outputId": "534e97df-b070-4fdf-8cf6-6e5a6f3864e4"
      },
      "execution_count": 68,
      "outputs": [
        {
          "output_type": "execute_result",
          "data": {
            "text/plain": [
              "2"
            ]
          },
          "metadata": {},
          "execution_count": 68
        }
      ]
    },
    {
      "cell_type": "code",
      "source": [
        "fn1()"
      ],
      "metadata": {
        "colab": {
          "base_uri": "https://localhost:8080/"
        },
        "id": "sQkuV5gd8uAQ",
        "outputId": "57fb9fa1-e9cc-4cb4-e2d9-12e51c14bb53"
      },
      "execution_count": 69,
      "outputs": [
        {
          "output_type": "execute_result",
          "data": {
            "text/plain": [
              "3"
            ]
          },
          "metadata": {},
          "execution_count": 69
        }
      ]
    },
    {
      "cell_type": "code",
      "source": [
        "fn1.__closure__,fn2.__closure__"
      ],
      "metadata": {
        "colab": {
          "base_uri": "https://localhost:8080/"
        },
        "id": "tCXmCSyY87DH",
        "outputId": "3eb8a912-e2a2-4ee0-dde2-cb328e9ff806"
      },
      "execution_count": 70,
      "outputs": [
        {
          "output_type": "execute_result",
          "data": {
            "text/plain": [
              "((<cell at 0x7f08b18ef890: int object at 0x55caeaba4a40>,),\n",
              " (<cell at 0x7f08b18ef890: int object at 0x55caeaba4a40>,))"
            ]
          },
          "metadata": {},
          "execution_count": 70
        }
      ]
    },
    {
      "cell_type": "code",
      "source": [
        "fn1.__code__.co_freevars"
      ],
      "metadata": {
        "colab": {
          "base_uri": "https://localhost:8080/"
        },
        "id": "emKuOw0n88pP",
        "outputId": "eda79eaa-dcec-4632-92ee-f689149e7dcc"
      },
      "execution_count": 71,
      "outputs": [
        {
          "output_type": "execute_result",
          "data": {
            "text/plain": [
              "('count',)"
            ]
          },
          "metadata": {},
          "execution_count": 71
        }
      ]
    },
    {
      "cell_type": "code",
      "source": [
        "fn2.__code__.co_freevars"
      ],
      "metadata": {
        "colab": {
          "base_uri": "https://localhost:8080/"
        },
        "id": "EUn_GHVQ9EYY",
        "outputId": "d35709e2-8ad4-4c17-d1f1-5d2882b20ea6"
      },
      "execution_count": 72,
      "outputs": [
        {
          "output_type": "execute_result",
          "data": {
            "text/plain": [
              "('count',)"
            ]
          },
          "metadata": {},
          "execution_count": 72
        }
      ]
    },
    {
      "cell_type": "code",
      "source": [
        "from time import perf_counter\n",
        "\n",
        "def func():\n",
        "  x=perf_counter()\n",
        "  print(x,id(x))"
      ],
      "metadata": {
        "id": "VQtnFa6E9J22"
      },
      "execution_count": 73,
      "outputs": []
    },
    {
      "cell_type": "code",
      "source": [
        "func()"
      ],
      "metadata": {
        "colab": {
          "base_uri": "https://localhost:8080/"
        },
        "id": "3TnYzmPF90Mw",
        "outputId": "eef090f6-279c-43e1-d2f9-41fc9a0ad959"
      },
      "execution_count": 74,
      "outputs": [
        {
          "output_type": "stream",
          "name": "stdout",
          "text": [
            "3385.343957521 139675315494256\n"
          ]
        }
      ]
    },
    {
      "cell_type": "code",
      "source": [
        "func()"
      ],
      "metadata": {
        "colab": {
          "base_uri": "https://localhost:8080/"
        },
        "id": "gW-tU0kD91G3",
        "outputId": "f81d00d9-709d-4698-bb7c-acb9b1f1a637"
      },
      "execution_count": 75,
      "outputs": [
        {
          "output_type": "stream",
          "name": "stdout",
          "text": [
            "3390.712680288 139675315492464\n"
          ]
        }
      ]
    },
    {
      "cell_type": "code",
      "source": [
        "def pow(n):\n",
        "  def inner(x):\n",
        "    return x**n\n",
        "  return inner"
      ],
      "metadata": {
        "id": "ytEjRsQU92bH"
      },
      "execution_count": 76,
      "outputs": []
    },
    {
      "cell_type": "code",
      "source": [
        "pow.__closure__"
      ],
      "metadata": {
        "id": "gW7SjcgN9_Y3"
      },
      "execution_count": 77,
      "outputs": []
    },
    {
      "cell_type": "code",
      "source": [
        "square=pow(2)"
      ],
      "metadata": {
        "id": "AXjs2-XN-Bj4"
      },
      "execution_count": 78,
      "outputs": []
    },
    {
      "cell_type": "code",
      "source": [
        "square.__closure__"
      ],
      "metadata": {
        "colab": {
          "base_uri": "https://localhost:8080/"
        },
        "id": "LIPTCY8D-FR3",
        "outputId": "4295ec93-6080-418a-f091-a44750c41e64"
      },
      "execution_count": 79,
      "outputs": [
        {
          "output_type": "execute_result",
          "data": {
            "text/plain": [
              "(<cell at 0x7f08b18efed0: int object at 0x55caeaba4a20>,)"
            ]
          },
          "metadata": {},
          "execution_count": 79
        }
      ]
    },
    {
      "cell_type": "code",
      "source": [
        "square.__code__.co_freevars"
      ],
      "metadata": {
        "colab": {
          "base_uri": "https://localhost:8080/"
        },
        "id": "0TY7TOJ2-KTX",
        "outputId": "e3b2f37b-738e-4d7e-f64c-80bf84d8d605"
      },
      "execution_count": 82,
      "outputs": [
        {
          "output_type": "execute_result",
          "data": {
            "text/plain": [
              "('n',)"
            ]
          },
          "metadata": {},
          "execution_count": 82
        }
      ]
    },
    {
      "cell_type": "code",
      "source": [
        "cube=pow(3)"
      ],
      "metadata": {
        "id": "vEcPQbNS-UFH"
      },
      "execution_count": 83,
      "outputs": []
    },
    {
      "cell_type": "code",
      "source": [
        "cube.__closure__"
      ],
      "metadata": {
        "colab": {
          "base_uri": "https://localhost:8080/"
        },
        "id": "mg6y7VA2-W-u",
        "outputId": "880fefb5-f652-4d88-b922-98fe020644a1"
      },
      "execution_count": 84,
      "outputs": [
        {
          "output_type": "execute_result",
          "data": {
            "text/plain": [
              "(<cell at 0x7f08b189da90: int object at 0x55caeaba4a40>,)"
            ]
          },
          "metadata": {},
          "execution_count": 84
        }
      ]
    },
    {
      "cell_type": "code",
      "source": [
        "cube.__code__.co_freevars"
      ],
      "metadata": {
        "colab": {
          "base_uri": "https://localhost:8080/"
        },
        "id": "odi6Fe-o-il8",
        "outputId": "11cb72a4-9b43-4275-d2e0-fe90b61e0167"
      },
      "execution_count": 85,
      "outputs": [
        {
          "output_type": "execute_result",
          "data": {
            "text/plain": [
              "('n',)"
            ]
          },
          "metadata": {},
          "execution_count": 85
        }
      ]
    },
    {
      "cell_type": "code",
      "source": [
        "id(square)"
      ],
      "metadata": {
        "colab": {
          "base_uri": "https://localhost:8080/"
        },
        "id": "VmH5pqf1-lpu",
        "outputId": "4a312ddf-60d4-4279-c924-453df494bfd9"
      },
      "execution_count": 86,
      "outputs": [
        {
          "output_type": "execute_result",
          "data": {
            "text/plain": [
              "139675315212016"
            ]
          },
          "metadata": {},
          "execution_count": 86
        }
      ]
    },
    {
      "cell_type": "code",
      "source": [
        "id(cube)"
      ],
      "metadata": {
        "colab": {
          "base_uri": "https://localhost:8080/"
        },
        "id": "-26SxCph-png",
        "outputId": "561615bd-acfd-4220-a0b0-5fcc1bf07e1a"
      },
      "execution_count": 87,
      "outputs": [
        {
          "output_type": "execute_result",
          "data": {
            "text/plain": [
              "139675314746432"
            ]
          },
          "metadata": {},
          "execution_count": 87
        }
      ]
    },
    {
      "cell_type": "code",
      "source": [
        "def adder(n):\n",
        "  def inner(x):\n",
        "    return x+n\n",
        "  return inner"
      ],
      "metadata": {
        "id": "rTZkyNG4-qo3"
      },
      "execution_count": 88,
      "outputs": []
    },
    {
      "cell_type": "code",
      "source": [
        "add_1=adder(1)"
      ],
      "metadata": {
        "id": "22GvGjP1GXQb"
      },
      "execution_count": 89,
      "outputs": []
    },
    {
      "cell_type": "code",
      "source": [
        "add_1.__closure__"
      ],
      "metadata": {
        "colab": {
          "base_uri": "https://localhost:8080/"
        },
        "id": "2_2jporwGbmX",
        "outputId": "745a27cd-fbc7-4f2e-c4f3-af0f1baa6d3f"
      },
      "execution_count": 90,
      "outputs": [
        {
          "output_type": "execute_result",
          "data": {
            "text/plain": [
              "(<cell at 0x7f08b188c110: int object at 0x55caeaba4a00>,)"
            ]
          },
          "metadata": {},
          "execution_count": 90
        }
      ]
    },
    {
      "cell_type": "code",
      "source": [
        "add_1.__code__.co_freevars"
      ],
      "metadata": {
        "colab": {
          "base_uri": "https://localhost:8080/"
        },
        "id": "HqUMJol1GdNw",
        "outputId": "cedb4cc8-054d-4e25-b796-377e74aec26f"
      },
      "execution_count": 91,
      "outputs": [
        {
          "output_type": "execute_result",
          "data": {
            "text/plain": [
              "('n',)"
            ]
          },
          "metadata": {},
          "execution_count": 91
        }
      ]
    },
    {
      "cell_type": "code",
      "source": [
        "add_1=adder(1)\n",
        "add_2=adder(2)\n",
        "add_3=adder(3)\n",
        "add_4=adder(4)"
      ],
      "metadata": {
        "id": "YpkdUCehGhGX"
      },
      "execution_count": 92,
      "outputs": []
    },
    {
      "cell_type": "code",
      "source": [
        "def create_adders():\n",
        "  adders=[]\n",
        "  for n in range(1,5):\n",
        "    adders.append(lambda x:x+n)\n",
        "  return adders"
      ],
      "metadata": {
        "id": "IDuSqSkpG0q-"
      },
      "execution_count": 93,
      "outputs": []
    },
    {
      "cell_type": "code",
      "source": [
        "adders=create_adders()"
      ],
      "metadata": {
        "id": "LRPRYs8jHCKX"
      },
      "execution_count": 94,
      "outputs": []
    },
    {
      "cell_type": "code",
      "source": [
        "adders"
      ],
      "metadata": {
        "colab": {
          "base_uri": "https://localhost:8080/"
        },
        "id": "ddme1KHwHGvO",
        "outputId": "83cdc053-262e-4dc2-a29e-771864209844"
      },
      "execution_count": 96,
      "outputs": [
        {
          "output_type": "execute_result",
          "data": {
            "text/plain": [
              "[<function __main__.create_adders.<locals>.<lambda>>,\n",
              " <function __main__.create_adders.<locals>.<lambda>>,\n",
              " <function __main__.create_adders.<locals>.<lambda>>,\n",
              " <function __main__.create_adders.<locals>.<lambda>>]"
            ]
          },
          "metadata": {},
          "execution_count": 96
        }
      ]
    },
    {
      "cell_type": "code",
      "source": [
        "adders[2](5)"
      ],
      "metadata": {
        "colab": {
          "base_uri": "https://localhost:8080/"
        },
        "id": "bm5jhHLyHOpo",
        "outputId": "6d3602ff-9569-4ac7-d287-805af5935404"
      },
      "execution_count": 100,
      "outputs": [
        {
          "output_type": "execute_result",
          "data": {
            "text/plain": [
              "9"
            ]
          },
          "metadata": {},
          "execution_count": 100
        }
      ]
    },
    {
      "cell_type": "code",
      "source": [
        "adders[1](5)"
      ],
      "metadata": {
        "colab": {
          "base_uri": "https://localhost:8080/"
        },
        "id": "_OXU8c18IDhP",
        "outputId": "b3401a8f-d16d-4616-b3d4-0698cf6be4b0"
      },
      "execution_count": 101,
      "outputs": [
        {
          "output_type": "execute_result",
          "data": {
            "text/plain": [
              "9"
            ]
          },
          "metadata": {},
          "execution_count": 101
        }
      ]
    },
    {
      "cell_type": "code",
      "source": [
        "adders[0].__code__.co_freevars"
      ],
      "metadata": {
        "colab": {
          "base_uri": "https://localhost:8080/"
        },
        "id": "cfifVaStIJLu",
        "outputId": "292232c8-9a73-4b17-ceb0-c5c6da2b3e17"
      },
      "execution_count": 102,
      "outputs": [
        {
          "output_type": "execute_result",
          "data": {
            "text/plain": [
              "('n',)"
            ]
          },
          "metadata": {},
          "execution_count": 102
        }
      ]
    },
    {
      "cell_type": "code",
      "source": [
        "adders[0].__closure__"
      ],
      "metadata": {
        "colab": {
          "base_uri": "https://localhost:8080/"
        },
        "id": "EXZoWvCyIT-9",
        "outputId": "1991f48b-ad77-46c1-c74f-6dcc0ac0f307"
      },
      "execution_count": 103,
      "outputs": [
        {
          "output_type": "execute_result",
          "data": {
            "text/plain": [
              "(<cell at 0x7f08b1907910: int object at 0x55caeaba4a60>,)"
            ]
          },
          "metadata": {},
          "execution_count": 103
        }
      ]
    },
    {
      "cell_type": "code",
      "source": [
        "adders[1].__closure__"
      ],
      "metadata": {
        "colab": {
          "base_uri": "https://localhost:8080/"
        },
        "id": "OX7EtQGVIa1n",
        "outputId": "c910efdd-7a97-4dda-9db6-2bcea99aeffe"
      },
      "execution_count": 104,
      "outputs": [
        {
          "output_type": "execute_result",
          "data": {
            "text/plain": [
              "(<cell at 0x7f08b1907910: int object at 0x55caeaba4a60>,)"
            ]
          },
          "metadata": {},
          "execution_count": 104
        }
      ]
    },
    {
      "cell_type": "code",
      "source": [
        "a=lambda x,step=5:x+step"
      ],
      "metadata": {
        "id": "TyJ2_LzGIcs8"
      },
      "execution_count": 107,
      "outputs": []
    },
    {
      "cell_type": "code",
      "source": [
        "a(19)"
      ],
      "metadata": {
        "colab": {
          "base_uri": "https://localhost:8080/"
        },
        "id": "CiSmg3FbLpz2",
        "outputId": "d3c85009-9ac2-41db-d30a-be4ca96b6b2d"
      },
      "execution_count": 108,
      "outputs": [
        {
          "output_type": "execute_result",
          "data": {
            "text/plain": [
              "24"
            ]
          },
          "metadata": {},
          "execution_count": 108
        }
      ]
    },
    {
      "cell_type": "code",
      "source": [
        "a(5,12)"
      ],
      "metadata": {
        "colab": {
          "base_uri": "https://localhost:8080/"
        },
        "id": "mvWWpTYBL3uX",
        "outputId": "e9394f05-5394-4e85-a436-67aac19c9eb2"
      },
      "execution_count": 109,
      "outputs": [
        {
          "output_type": "execute_result",
          "data": {
            "text/plain": [
              "17"
            ]
          },
          "metadata": {},
          "execution_count": 109
        }
      ]
    },
    {
      "cell_type": "code",
      "source": [
        "def create_adders():\n",
        "  adders=[]\n",
        "  for n in range(1,5):\n",
        "    adders.append(lambda x,step=n:x+step)\n",
        "  return adders"
      ],
      "metadata": {
        "id": "Go8danfAL7M2"
      },
      "execution_count": 110,
      "outputs": []
    },
    {
      "cell_type": "code",
      "source": [
        "adders=create_adders()"
      ],
      "metadata": {
        "id": "6nkAlMmdNjS5"
      },
      "execution_count": 111,
      "outputs": []
    },
    {
      "cell_type": "code",
      "source": [
        "adders=create_adders()"
      ],
      "metadata": {
        "id": "4fRdCNXgNlJW"
      },
      "execution_count": 112,
      "outputs": []
    },
    {
      "cell_type": "code",
      "source": [
        "adders[0].__closure__"
      ],
      "metadata": {
        "id": "ene3miZpODtP"
      },
      "execution_count": 113,
      "outputs": []
    },
    {
      "cell_type": "code",
      "source": [
        "adders[0].__code__.co_freevars"
      ],
      "metadata": {
        "colab": {
          "base_uri": "https://localhost:8080/"
        },
        "id": "rEfYTm0HOGHn",
        "outputId": "c4aa3321-d7ce-4b68-9bb3-15539a45ecfa"
      },
      "execution_count": 115,
      "outputs": [
        {
          "output_type": "execute_result",
          "data": {
            "text/plain": [
              "()"
            ]
          },
          "metadata": {},
          "execution_count": 115
        }
      ]
    },
    {
      "cell_type": "code",
      "source": [
        "adders[0](10)"
      ],
      "metadata": {
        "colab": {
          "base_uri": "https://localhost:8080/"
        },
        "id": "u6ZNL5B3OLEV",
        "outputId": "9d703c31-a0dd-4116-a416-cdc7c75e8543"
      },
      "execution_count": 116,
      "outputs": [
        {
          "output_type": "execute_result",
          "data": {
            "text/plain": [
              "11"
            ]
          },
          "metadata": {},
          "execution_count": 116
        }
      ]
    },
    {
      "cell_type": "code",
      "source": [
        "adders[1](12)"
      ],
      "metadata": {
        "colab": {
          "base_uri": "https://localhost:8080/"
        },
        "id": "ILFs6zIIQ-QD",
        "outputId": "77fdd9de-532d-4dbb-c309-f01872e5951a"
      },
      "execution_count": 117,
      "outputs": [
        {
          "output_type": "execute_result",
          "data": {
            "text/plain": [
              "14"
            ]
          },
          "metadata": {},
          "execution_count": 117
        }
      ]
    },
    {
      "cell_type": "code",
      "source": [
        "def incrementer(n):\n",
        "  def inner(start):\n",
        "    current=start\n",
        "    def inc():\n",
        "      a=10\n",
        "      nonlocal current\n",
        "      current+=n\n",
        "      return current\n",
        "    return inc\n",
        "  return inner\n",
        "  "
      ],
      "metadata": {
        "id": "qp_mpgCBRB_g"
      },
      "execution_count": 118,
      "outputs": []
    },
    {
      "cell_type": "code",
      "source": [
        "fn=incrementer(2)"
      ],
      "metadata": {
        "id": "_4QXhBpBRtn_"
      },
      "execution_count": 120,
      "outputs": []
    },
    {
      "cell_type": "code",
      "source": [
        "fn"
      ],
      "metadata": {
        "colab": {
          "base_uri": "https://localhost:8080/"
        },
        "id": "x3h1ovuvRwfg",
        "outputId": "f476e0fc-1db1-449b-eb96-27952a85cb4c"
      },
      "execution_count": 121,
      "outputs": [
        {
          "output_type": "execute_result",
          "data": {
            "text/plain": [
              "<function __main__.incrementer.<locals>.inner>"
            ]
          },
          "metadata": {},
          "execution_count": 121
        }
      ]
    },
    {
      "cell_type": "code",
      "source": [
        "fn.__code__.co_freevars"
      ],
      "metadata": {
        "colab": {
          "base_uri": "https://localhost:8080/"
        },
        "id": "ZGfrzUFaRzhx",
        "outputId": "e7825e05-dfc2-42dd-b5c6-81fc9fc02269"
      },
      "execution_count": 122,
      "outputs": [
        {
          "output_type": "execute_result",
          "data": {
            "text/plain": [
              "('n',)"
            ]
          },
          "metadata": {},
          "execution_count": 122
        }
      ]
    },
    {
      "cell_type": "code",
      "source": [
        "fn.__closure__"
      ],
      "metadata": {
        "colab": {
          "base_uri": "https://localhost:8080/"
        },
        "id": "bQTN8wq7R3k4",
        "outputId": "10a30c1b-8f83-45c1-f405-3197d2d4f0e4"
      },
      "execution_count": 123,
      "outputs": [
        {
          "output_type": "execute_result",
          "data": {
            "text/plain": [
              "(<cell at 0x7f08b18ef4d0: int object at 0x55caeaba4a20>,)"
            ]
          },
          "metadata": {},
          "execution_count": 123
        }
      ]
    },
    {
      "cell_type": "code",
      "source": [
        "inc_2=fn(100)"
      ],
      "metadata": {
        "id": "JxKDaok_R5Np"
      },
      "execution_count": 124,
      "outputs": []
    },
    {
      "cell_type": "code",
      "source": [
        "inc_2"
      ],
      "metadata": {
        "colab": {
          "base_uri": "https://localhost:8080/"
        },
        "id": "qhOahvafR9gn",
        "outputId": "ecd486b7-d77b-4a17-ee59-83f79d1c4859"
      },
      "execution_count": 126,
      "outputs": [
        {
          "output_type": "execute_result",
          "data": {
            "text/plain": [
              "<function __main__.incrementer.<locals>.inner.<locals>.inc>"
            ]
          },
          "metadata": {},
          "execution_count": 126
        }
      ]
    },
    {
      "cell_type": "code",
      "source": [
        "inc_2.__code__.co_freevars"
      ],
      "metadata": {
        "colab": {
          "base_uri": "https://localhost:8080/"
        },
        "id": "fHAZ1n8MR-OH",
        "outputId": "edaba120-e1a5-4105-c59f-518ae52b60e2"
      },
      "execution_count": 127,
      "outputs": [
        {
          "output_type": "execute_result",
          "data": {
            "text/plain": [
              "('current', 'n')"
            ]
          },
          "metadata": {},
          "execution_count": 127
        }
      ]
    },
    {
      "cell_type": "code",
      "source": [
        "inc_2.__closure__"
      ],
      "metadata": {
        "colab": {
          "base_uri": "https://localhost:8080/"
        },
        "id": "NdQkpXiTSJGI",
        "outputId": "e66be409-8f09-483c-afb3-bb8bf7faac4d"
      },
      "execution_count": 129,
      "outputs": [
        {
          "output_type": "execute_result",
          "data": {
            "text/plain": [
              "(<cell at 0x7f08b187fb90: int object at 0x55caeaba5660>,\n",
              " <cell at 0x7f08b18ef4d0: int object at 0x55caeaba4a20>)"
            ]
          },
          "metadata": {},
          "execution_count": 129
        }
      ]
    },
    {
      "cell_type": "code",
      "source": [
        "inc_2()"
      ],
      "metadata": {
        "colab": {
          "base_uri": "https://localhost:8080/"
        },
        "id": "NoZQQroASSsf",
        "outputId": "281eb26f-49b2-405c-9428-3a2cb33adb68"
      },
      "execution_count": 130,
      "outputs": [
        {
          "output_type": "execute_result",
          "data": {
            "text/plain": [
              "102"
            ]
          },
          "metadata": {},
          "execution_count": 130
        }
      ]
    },
    {
      "cell_type": "code",
      "source": [
        "inc_3=incrementer(3)(300)"
      ],
      "metadata": {
        "id": "_THpLptGStOp"
      },
      "execution_count": 131,
      "outputs": []
    },
    {
      "cell_type": "code",
      "source": [
        "inc_3()"
      ],
      "metadata": {
        "colab": {
          "base_uri": "https://localhost:8080/"
        },
        "id": "n-FFwbvnXqxb",
        "outputId": "518a65e1-ff8c-4cb5-cad0-d0a27ba8183e"
      },
      "execution_count": 132,
      "outputs": [
        {
          "output_type": "execute_result",
          "data": {
            "text/plain": [
              "303"
            ]
          },
          "metadata": {},
          "execution_count": 132
        }
      ]
    },
    {
      "cell_type": "code",
      "source": [
        "inc_3.__closure__"
      ],
      "metadata": {
        "colab": {
          "base_uri": "https://localhost:8080/"
        },
        "id": "2spl5_psXsp_",
        "outputId": "b3b087bf-00a9-4e7d-cb62-695a2871c55a"
      },
      "execution_count": 133,
      "outputs": [
        {
          "output_type": "execute_result",
          "data": {
            "text/plain": [
              "(<cell at 0x7f08b186a0d0: int object at 0x7f08b1825af0>,\n",
              " <cell at 0x7f08b186a6d0: int object at 0x55caeaba4a40>)"
            ]
          },
          "metadata": {},
          "execution_count": 133
        }
      ]
    },
    {
      "cell_type": "code",
      "source": [
        "inc_3.__code__.co_freevars"
      ],
      "metadata": {
        "colab": {
          "base_uri": "https://localhost:8080/"
        },
        "id": "-audxC19Xvm5",
        "outputId": "e6dff4b8-5d66-47cd-d808-d9d4a500fd90"
      },
      "execution_count": 134,
      "outputs": [
        {
          "output_type": "execute_result",
          "data": {
            "text/plain": [
              "('current', 'n')"
            ]
          },
          "metadata": {},
          "execution_count": 134
        }
      ]
    },
    {
      "cell_type": "code",
      "source": [
        ""
      ],
      "metadata": {
        "id": "rm0PjJXtXy7m"
      },
      "execution_count": null,
      "outputs": []
    }
  ]
}