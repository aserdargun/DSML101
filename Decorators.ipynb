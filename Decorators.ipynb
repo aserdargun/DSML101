{
  "nbformat": 4,
  "nbformat_minor": 0,
  "metadata": {
    "colab": {
      "name": "Decorators.ipynb",
      "provenance": [],
      "collapsed_sections": [],
      "mount_file_id": "1EKujnlbBXCMROfDBpSp8wMl-qGSfFvvY",
      "authorship_tag": "ABX9TyP3slum1Dn8CQqBHceAeoex",
      "include_colab_link": true
    },
    "kernelspec": {
      "name": "python3",
      "display_name": "Python 3"
    },
    "language_info": {
      "name": "python"
    }
  },
  "cells": [
    {
      "cell_type": "markdown",
      "metadata": {
        "id": "view-in-github",
        "colab_type": "text"
      },
      "source": [
        "<a href=\"https://colab.research.google.com/github/aserdargun/aserdargun/blob/main/Decorators.ipynb\" target=\"_parent\"><img src=\"https://colab.research.google.com/assets/colab-badge.svg\" alt=\"Open In Colab\"/></a>"
      ]
    },
    {
      "cell_type": "code",
      "source": [
        "def counter(fn):\n",
        "  count=0\n",
        "\n",
        "  def inner(*args,**kwargs):\n",
        "    nonlocal count\n",
        "    count+=1\n",
        "    print('Function {0} was called {1} times'.format(fn.__name__,count))\n",
        "    return fn(*args,**kwargs)\n",
        "  return inner"
      ],
      "metadata": {
        "id": "vKiQu9h80zJ_"
      },
      "execution_count": 1,
      "outputs": []
    },
    {
      "cell_type": "code",
      "source": [
        ""
      ],
      "metadata": {
        "id": "D0PxmyIA1gJj"
      },
      "execution_count": null,
      "outputs": []
    }
  ]
}