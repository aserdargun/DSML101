{
  "nbformat": 4,
  "nbformat_minor": 0,
  "metadata": {
    "colab": {
      "name": "Decorators.ipynb",
      "provenance": [],
      "collapsed_sections": [],
      "mount_file_id": "1EKujnlbBXCMROfDBpSp8wMl-qGSfFvvY",
      "authorship_tag": "ABX9TyPbUYk0k90ZvYdENAFXCPNy",
      "include_colab_link": true
    },
    "kernelspec": {
      "name": "python3",
      "display_name": "Python 3"
    },
    "language_info": {
      "name": "python"
    }
  },
  "cells": [
    {
      "cell_type": "markdown",
      "metadata": {
        "id": "view-in-github",
        "colab_type": "text"
      },
      "source": [
        "<a href=\"https://colab.research.google.com/github/aserdargun/aserdargun/blob/main/Decorators.ipynb\" target=\"_parent\"><img src=\"https://colab.research.google.com/assets/colab-badge.svg\" alt=\"Open In Colab\"/></a>"
      ]
    },
    {
      "cell_type": "code",
      "source": [
        "def counter(fn):\n",
        "  count=0\n",
        "\n",
        "  def inner(*args,**kwargs):\n",
        "    nonlocal count\n",
        "    count+=1\n",
        "    print('Function {0} was called {1} times'.format(fn.__name__,count))\n",
        "    return fn(*args,**kwargs)\n",
        "  return inner"
      ],
      "metadata": {
        "id": "vKiQu9h80zJ_"
      },
      "execution_count": 1,
      "outputs": []
    },
    {
      "cell_type": "code",
      "source": [
        "def add(a,b=0):\n",
        "  \"\"\"\n",
        "  returns the sum of a and b\n",
        "  \"\"\"\n",
        "  return a+b"
      ],
      "metadata": {
        "id": "D0PxmyIA1gJj"
      },
      "execution_count": 2,
      "outputs": []
    },
    {
      "cell_type": "code",
      "source": [
        "help(add)"
      ],
      "metadata": {
        "id": "Pj3K5MkV1wSh",
        "outputId": "5c7f527b-dc75-44c3-c97e-72705611ab42",
        "colab": {
          "base_uri": "https://localhost:8080/"
        }
      },
      "execution_count": 3,
      "outputs": [
        {
          "output_type": "stream",
          "name": "stdout",
          "text": [
            "Help on function add in module __main__:\n",
            "\n",
            "add(a, b=0)\n",
            "    returns the sum of a and b\n",
            "\n"
          ]
        }
      ]
    },
    {
      "cell_type": "code",
      "source": [
        "id(add)"
      ],
      "metadata": {
        "id": "RuHV5qrf1w8e",
        "outputId": "1b84c912-b3e2-4571-a630-66131e39fb0d",
        "colab": {
          "base_uri": "https://localhost:8080/"
        }
      },
      "execution_count": 4,
      "outputs": [
        {
          "output_type": "execute_result",
          "data": {
            "text/plain": [
              "140568366747232"
            ]
          },
          "metadata": {},
          "execution_count": 4
        }
      ]
    },
    {
      "cell_type": "code",
      "source": [
        "add=counter(add)"
      ],
      "metadata": {
        "id": "fuF9Is372CSO"
      },
      "execution_count": 5,
      "outputs": []
    },
    {
      "cell_type": "code",
      "source": [
        "id(add)"
      ],
      "metadata": {
        "id": "K6jT1v7O2EiQ",
        "outputId": "5460947b-dd6c-4f51-faf7-4a5f8c13833e",
        "colab": {
          "base_uri": "https://localhost:8080/"
        }
      },
      "execution_count": 6,
      "outputs": [
        {
          "output_type": "execute_result",
          "data": {
            "text/plain": [
              "140568358073984"
            ]
          },
          "metadata": {},
          "execution_count": 6
        }
      ]
    },
    {
      "cell_type": "code",
      "source": [
        "add(1,2)"
      ],
      "metadata": {
        "id": "xpcrzzI62F9g",
        "outputId": "67619210-f334-4f9b-ad11-9bc87bd41049",
        "colab": {
          "base_uri": "https://localhost:8080/"
        }
      },
      "execution_count": 7,
      "outputs": [
        {
          "output_type": "stream",
          "name": "stdout",
          "text": [
            "Function add was called 1 times\n"
          ]
        },
        {
          "output_type": "execute_result",
          "data": {
            "text/plain": [
              "3"
            ]
          },
          "metadata": {},
          "execution_count": 7
        }
      ]
    },
    {
      "cell_type": "code",
      "source": [
        "add(2,3)"
      ],
      "metadata": {
        "id": "S3JSsJjy2HgB",
        "outputId": "fff922a4-a93f-4809-bff4-1164a0ee6435",
        "colab": {
          "base_uri": "https://localhost:8080/"
        }
      },
      "execution_count": 8,
      "outputs": [
        {
          "output_type": "stream",
          "name": "stdout",
          "text": [
            "Function add was called 2 times\n"
          ]
        },
        {
          "output_type": "execute_result",
          "data": {
            "text/plain": [
              "5"
            ]
          },
          "metadata": {},
          "execution_count": 8
        }
      ]
    },
    {
      "cell_type": "code",
      "source": [
        "add(3,4)"
      ],
      "metadata": {
        "id": "pwQiV7_u2JA5",
        "outputId": "cf7427c9-5b1c-48bb-8ec0-f177ce36d16e",
        "colab": {
          "base_uri": "https://localhost:8080/"
        }
      },
      "execution_count": 9,
      "outputs": [
        {
          "output_type": "stream",
          "name": "stdout",
          "text": [
            "Function add was called 3 times\n"
          ]
        },
        {
          "output_type": "execute_result",
          "data": {
            "text/plain": [
              "7"
            ]
          },
          "metadata": {},
          "execution_count": 9
        }
      ]
    },
    {
      "cell_type": "code",
      "source": [
        "@counter\n",
        "def mult(a:float, b:float=1,c:float=1)->float:\n",
        "  \"\"\"\n",
        "  returns the product of a,b, and c\n",
        "  \"\"\"\n",
        "  return a*b*c"
      ],
      "metadata": {
        "id": "HF7eg8Y72NSQ"
      },
      "execution_count": 10,
      "outputs": []
    },
    {
      "cell_type": "code",
      "source": [
        "mult(1,2,3)"
      ],
      "metadata": {
        "colab": {
          "base_uri": "https://localhost:8080/"
        },
        "id": "05eHi6o9tCGm",
        "outputId": "969735ab-9580-4f34-9bd0-3ac34fcef48b"
      },
      "execution_count": 11,
      "outputs": [
        {
          "output_type": "stream",
          "name": "stdout",
          "text": [
            "Function mult was called 1 times\n"
          ]
        },
        {
          "output_type": "execute_result",
          "data": {
            "text/plain": [
              "6"
            ]
          },
          "metadata": {},
          "execution_count": 11
        }
      ]
    },
    {
      "cell_type": "code",
      "source": [
        "add.__name__"
      ],
      "metadata": {
        "colab": {
          "base_uri": "https://localhost:8080/",
          "height": 35
        },
        "id": "Q7mv9pmVtMDd",
        "outputId": "05ac5a7e-6b42-4abb-c5c0-5f1d42d4f7ce"
      },
      "execution_count": 12,
      "outputs": [
        {
          "output_type": "execute_result",
          "data": {
            "application/vnd.google.colaboratory.intrinsic+json": {
              "type": "string"
            },
            "text/plain": [
              "'inner'"
            ]
          },
          "metadata": {},
          "execution_count": 12
        }
      ]
    },
    {
      "cell_type": "code",
      "source": [
        "mult.__name__"
      ],
      "metadata": {
        "colab": {
          "base_uri": "https://localhost:8080/",
          "height": 35
        },
        "id": "x2bSBRqJtPf0",
        "outputId": "07c1364a-e6c2-481e-8cea-0bc4e5b46ee2"
      },
      "execution_count": 13,
      "outputs": [
        {
          "output_type": "execute_result",
          "data": {
            "application/vnd.google.colaboratory.intrinsic+json": {
              "type": "string"
            },
            "text/plain": [
              "'inner'"
            ]
          },
          "metadata": {},
          "execution_count": 13
        }
      ]
    },
    {
      "cell_type": "code",
      "source": [
        "help(add)"
      ],
      "metadata": {
        "colab": {
          "base_uri": "https://localhost:8080/"
        },
        "id": "aTNXK8MhtRBl",
        "outputId": "32b07da0-7500-4c94-b25f-6eac46eaa8f0"
      },
      "execution_count": 14,
      "outputs": [
        {
          "output_type": "stream",
          "name": "stdout",
          "text": [
            "Help on function inner in module __main__:\n",
            "\n",
            "inner(*args, **kwargs)\n",
            "\n"
          ]
        }
      ]
    },
    {
      "cell_type": "code",
      "source": [
        "help(mult)"
      ],
      "metadata": {
        "colab": {
          "base_uri": "https://localhost:8080/"
        },
        "id": "-jBnod7itSq-",
        "outputId": "90aa1c25-8df4-4996-844c-a9a08387f490"
      },
      "execution_count": 15,
      "outputs": [
        {
          "output_type": "stream",
          "name": "stdout",
          "text": [
            "Help on function inner in module __main__:\n",
            "\n",
            "inner(*args, **kwargs)\n",
            "\n"
          ]
        }
      ]
    },
    {
      "cell_type": "code",
      "source": [
        "import inspect"
      ],
      "metadata": {
        "id": "HvZLNHjytUdM"
      },
      "execution_count": 16,
      "outputs": []
    },
    {
      "cell_type": "code",
      "source": [
        "inspect.getsource(add)"
      ],
      "metadata": {
        "colab": {
          "base_uri": "https://localhost:8080/",
          "height": 35
        },
        "id": "lemJhF7_tY3f",
        "outputId": "269a4cda-a508-4dd8-d1b6-4256b4ff16e7"
      },
      "execution_count": 17,
      "outputs": [
        {
          "output_type": "execute_result",
          "data": {
            "application/vnd.google.colaboratory.intrinsic+json": {
              "type": "string"
            },
            "text/plain": [
              "\"  def inner(*args,**kwargs):\\n    nonlocal count\\n    count+=1\\n    print('Function {0} was called {1} times'.format(fn.__name__,count))\\n    return fn(*args,**kwargs)\\n\""
            ]
          },
          "metadata": {},
          "execution_count": 17
        }
      ]
    },
    {
      "cell_type": "code",
      "source": [
        "inspect.getsource(mult)"
      ],
      "metadata": {
        "colab": {
          "base_uri": "https://localhost:8080/",
          "height": 35
        },
        "id": "XBS4sSIXtan1",
        "outputId": "90d437d5-b1b6-408d-b54e-8bfd0be4d774"
      },
      "execution_count": 18,
      "outputs": [
        {
          "output_type": "execute_result",
          "data": {
            "application/vnd.google.colaboratory.intrinsic+json": {
              "type": "string"
            },
            "text/plain": [
              "\"  def inner(*args,**kwargs):\\n    nonlocal count\\n    count+=1\\n    print('Function {0} was called {1} times'.format(fn.__name__,count))\\n    return fn(*args,**kwargs)\\n\""
            ]
          },
          "metadata": {},
          "execution_count": 18
        }
      ]
    },
    {
      "cell_type": "code",
      "source": [
        "inspect.signature(add)"
      ],
      "metadata": {
        "colab": {
          "base_uri": "https://localhost:8080/"
        },
        "id": "mIo51lxitdmN",
        "outputId": "52bd3965-bacb-4ee7-f4fc-72c93c985808"
      },
      "execution_count": 19,
      "outputs": [
        {
          "output_type": "execute_result",
          "data": {
            "text/plain": [
              "<Signature (*args, **kwargs)>"
            ]
          },
          "metadata": {},
          "execution_count": 19
        }
      ]
    },
    {
      "cell_type": "code",
      "source": [
        "inspect.signature(mult)"
      ],
      "metadata": {
        "colab": {
          "base_uri": "https://localhost:8080/"
        },
        "id": "RV_j7uNLthjs",
        "outputId": "b8517901-ab79-40bb-9dbf-279fcd83bb72"
      },
      "execution_count": 20,
      "outputs": [
        {
          "output_type": "execute_result",
          "data": {
            "text/plain": [
              "<Signature (*args, **kwargs)>"
            ]
          },
          "metadata": {},
          "execution_count": 20
        }
      ]
    },
    {
      "cell_type": "code",
      "source": [
        "inspect.signature(add).parameters"
      ],
      "metadata": {
        "colab": {
          "base_uri": "https://localhost:8080/"
        },
        "id": "HuAybTEvtjaO",
        "outputId": "07a5fe34-f69f-42b3-c1cb-2b1806e934ff"
      },
      "execution_count": 21,
      "outputs": [
        {
          "output_type": "execute_result",
          "data": {
            "text/plain": [
              "mappingproxy({'args': <Parameter \"*args\">, 'kwargs': <Parameter \"**kwargs\">})"
            ]
          },
          "metadata": {},
          "execution_count": 21
        }
      ]
    },
    {
      "cell_type": "code",
      "source": [
        "def counter(fn):\n",
        "  count=0\n",
        "\n",
        "  def inner(*args,**kwargs):\n",
        "    nonlocal count\n",
        "    count+=1\n",
        "    print(\"{0} was called {1} times\".format(fn.__name__,count))\n",
        "  inner.__name__=fn.__name__\n",
        "  inner.__doc__=fn.__doc__\n",
        "  return inner"
      ],
      "metadata": {
        "id": "VxYlwrhBtnB9"
      },
      "execution_count": 22,
      "outputs": []
    },
    {
      "cell_type": "code",
      "source": [
        "@counter\n",
        "def add(a:int, b:int=10)->int:\n",
        "  \"\"\"\n",
        "  returns sum of two integers\n",
        "  \"\"\"\n",
        "  return a+b"
      ],
      "metadata": {
        "id": "Aaux2M5huXHX"
      },
      "execution_count": 23,
      "outputs": []
    },
    {
      "cell_type": "code",
      "source": [
        "help(add)"
      ],
      "metadata": {
        "id": "kzdNfxOZuhvl",
        "outputId": "e04ba20d-5585-4b8e-f1ac-6662504f4267",
        "colab": {
          "base_uri": "https://localhost:8080/"
        }
      },
      "execution_count": 24,
      "outputs": [
        {
          "output_type": "stream",
          "name": "stdout",
          "text": [
            "Help on function add in module __main__:\n",
            "\n",
            "add(*args, **kwargs)\n",
            "    returns sum of two integers\n",
            "\n"
          ]
        }
      ]
    },
    {
      "cell_type": "code",
      "source": [
        "add.__name__"
      ],
      "metadata": {
        "id": "6w99Ht1munu0",
        "outputId": "d4620f3f-2992-4af8-991e-4db694268f58",
        "colab": {
          "base_uri": "https://localhost:8080/",
          "height": 35
        }
      },
      "execution_count": 25,
      "outputs": [
        {
          "output_type": "execute_result",
          "data": {
            "application/vnd.google.colaboratory.intrinsic+json": {
              "type": "string"
            },
            "text/plain": [
              "'add'"
            ]
          },
          "metadata": {},
          "execution_count": 25
        }
      ]
    },
    {
      "cell_type": "code",
      "source": [
        "from functools import wraps"
      ],
      "metadata": {
        "id": "8PeMJW05up6c"
      },
      "execution_count": 26,
      "outputs": []
    },
    {
      "cell_type": "code",
      "source": [
        "def counter(fn):\n",
        "  count=0\n",
        "\n",
        "  @wraps(fn)\n",
        "  def inner(*args,**kwargs):\n",
        "    nonlocal count\n",
        "    count+=1\n",
        "    print(\"{0} was called {1} times\".format(fn.__name__,count))\n",
        "\n",
        "  return inner"
      ],
      "metadata": {
        "id": "IvMIPPoguwRV"
      },
      "execution_count": 27,
      "outputs": []
    },
    {
      "cell_type": "code",
      "source": [
        "@counter\n",
        "def add(a:int, b:int=10)->int:\n",
        "  \"\"\"\n",
        "  returns sum of two integers\n",
        "  \"\"\"\n",
        "  return a+b"
      ],
      "metadata": {
        "id": "EKVeMbAEvA9l"
      },
      "execution_count": 28,
      "outputs": []
    },
    {
      "cell_type": "code",
      "source": [
        "help(add)"
      ],
      "metadata": {
        "id": "FCjDPL16vMq-",
        "outputId": "2ba72b4b-d53b-4c7e-ff99-76f1ec859bcc",
        "colab": {
          "base_uri": "https://localhost:8080/"
        }
      },
      "execution_count": 29,
      "outputs": [
        {
          "output_type": "stream",
          "name": "stdout",
          "text": [
            "Help on function add in module __main__:\n",
            "\n",
            "add(a: int, b: int = 10) -> int\n",
            "    returns sum of two integers\n",
            "\n"
          ]
        }
      ]
    },
    {
      "cell_type": "code",
      "source": [
        "inspect.getsource(add)"
      ],
      "metadata": {
        "id": "jZv_ONxqvNhv",
        "outputId": "644cb947-8d52-40ea-c6f4-ac98a3aa7ed6",
        "colab": {
          "base_uri": "https://localhost:8080/",
          "height": 35
        }
      },
      "execution_count": 30,
      "outputs": [
        {
          "output_type": "execute_result",
          "data": {
            "application/vnd.google.colaboratory.intrinsic+json": {
              "type": "string"
            },
            "text/plain": [
              "'@counter\\ndef add(a:int, b:int=10)->int:\\n  \"\"\"\\n  returns sum of two integers\\n  \"\"\"\\n  return a+b\\n'"
            ]
          },
          "metadata": {},
          "execution_count": 30
        }
      ]
    },
    {
      "cell_type": "code",
      "source": [
        "inspect.signature(add)"
      ],
      "metadata": {
        "id": "qVQ74EhOvQq-",
        "outputId": "ed87b762-8187-49a0-b47d-5460670be9a6",
        "colab": {
          "base_uri": "https://localhost:8080/"
        }
      },
      "execution_count": 31,
      "outputs": [
        {
          "output_type": "execute_result",
          "data": {
            "text/plain": [
              "<Signature (a: int, b: int = 10) -> int>"
            ]
          },
          "metadata": {},
          "execution_count": 31
        }
      ]
    },
    {
      "cell_type": "code",
      "source": [
        "inspect.signature(add).parameters"
      ],
      "metadata": {
        "id": "FXEUwEOsvTGs",
        "outputId": "a1d527c9-638e-478b-f0a9-709b5506bbe1",
        "colab": {
          "base_uri": "https://localhost:8080/"
        }
      },
      "execution_count": 32,
      "outputs": [
        {
          "output_type": "execute_result",
          "data": {
            "text/plain": [
              "mappingproxy({'a': <Parameter \"a: int\">, 'b': <Parameter \"b: int = 10\">})"
            ]
          },
          "metadata": {},
          "execution_count": 32
        }
      ]
    },
    {
      "cell_type": "code",
      "source": [
        "def timed(fn):\n",
        "  from time import perf_counter\n",
        "  from functools import wraps\n",
        "\n",
        "  @wraps(fn)\n",
        "  def inner(*args,**kwargs):\n",
        "    start=perf_counter()\n",
        "    result=fn(*args,**kwargs)\n",
        "    end=perf_counter()\n",
        "    elapsed=end-start\n",
        "\n",
        "    args_=[str(a) for a in args]\n",
        "    kwargs_=['{0}={1}'.format(k,v) for (k,v) in kwargs.items()]\n",
        "    all_args=args_+kwargs_\n",
        "    args_str=','.join(all_args)\n",
        "    print('{0}({1}) took {2:.6f}s to run.'.format(fn.__name__,\n",
        "                                                  args_str,\n",
        "                                                  elapsed))\n",
        "    return result\n",
        "  \n",
        "  return inner"
      ],
      "metadata": {
        "id": "UpIsUo01vW9O"
      },
      "execution_count": 33,
      "outputs": []
    },
    {
      "cell_type": "code",
      "source": [
        "def calc_recursive_fib(n):\n",
        "  if n<=2:\n",
        "    return 1\n",
        "  else:\n",
        "    return calc_recursive_fib(n-1)+calc_recursive_fib(n-2)"
      ],
      "metadata": {
        "id": "X6RsBv9xlgJ4"
      },
      "execution_count": 34,
      "outputs": []
    },
    {
      "cell_type": "code",
      "source": [
        "calc_recursive_fib(3)"
      ],
      "metadata": {
        "colab": {
          "base_uri": "https://localhost:8080/"
        },
        "id": "kUJL-8qLl7kG",
        "outputId": "647a7d39-cbe7-4802-ac62-1bcdd3e91606"
      },
      "execution_count": 35,
      "outputs": [
        {
          "output_type": "execute_result",
          "data": {
            "text/plain": [
              "2"
            ]
          },
          "metadata": {},
          "execution_count": 35
        }
      ]
    },
    {
      "cell_type": "code",
      "source": [
        "calc_recursive_fib(6)"
      ],
      "metadata": {
        "colab": {
          "base_uri": "https://localhost:8080/"
        },
        "id": "HgLpZh-rmAca",
        "outputId": "804e1cfa-e168-46b7-c7e8-bf1171ab62cf"
      },
      "execution_count": 36,
      "outputs": [
        {
          "output_type": "execute_result",
          "data": {
            "text/plain": [
              "8"
            ]
          },
          "metadata": {},
          "execution_count": 36
        }
      ]
    },
    {
      "cell_type": "code",
      "source": [
        "@timed\n",
        "def fib_recursed(n):\n",
        "  return calc_recursive_fib(n)"
      ],
      "metadata": {
        "id": "5LAzSdzhmCxj"
      },
      "execution_count": 37,
      "outputs": []
    },
    {
      "cell_type": "code",
      "source": [
        "fib_recursed(33)"
      ],
      "metadata": {
        "colab": {
          "base_uri": "https://localhost:8080/"
        },
        "id": "Q79MQAZ7mJ4B",
        "outputId": "84b4bebc-cdeb-47e4-880b-3d45ad296cdf"
      },
      "execution_count": 38,
      "outputs": [
        {
          "output_type": "stream",
          "name": "stdout",
          "text": [
            "fib_recursed(33) took 1.027609s to run.\n"
          ]
        },
        {
          "output_type": "execute_result",
          "data": {
            "text/plain": [
              "3524578"
            ]
          },
          "metadata": {},
          "execution_count": 38
        }
      ]
    },
    {
      "cell_type": "code",
      "source": [
        "fib_recursed.__closure__"
      ],
      "metadata": {
        "colab": {
          "base_uri": "https://localhost:8080/"
        },
        "id": "Dnld9GFamMN7",
        "outputId": "09da520f-3e66-4c83-f56c-5d6cb99522c5"
      },
      "execution_count": 39,
      "outputs": [
        {
          "output_type": "execute_result",
          "data": {
            "text/plain": [
              "(<cell at 0x7fd89b65ad90: function object at 0x7fd89f0cb7a0>,\n",
              " <cell at 0x7fd89b65add0: builtin_function_or_method object at 0x7fd8bad620f0>)"
            ]
          },
          "metadata": {},
          "execution_count": 39
        }
      ]
    },
    {
      "cell_type": "code",
      "source": [
        "fib_recursed.__code__.co_freevars"
      ],
      "metadata": {
        "colab": {
          "base_uri": "https://localhost:8080/"
        },
        "id": "sPmv8WmDmOkz",
        "outputId": "ea2d4e60-6259-4b1e-c1ee-46d6814cc189"
      },
      "execution_count": 40,
      "outputs": [
        {
          "output_type": "execute_result",
          "data": {
            "text/plain": [
              "('fn', 'perf_counter')"
            ]
          },
          "metadata": {},
          "execution_count": 40
        }
      ]
    },
    {
      "cell_type": "code",
      "source": [
        "@timed\n",
        "def fib_recursed_2(n):\n",
        "  if n<=2:\n",
        "    return 1\n",
        "  else:\n",
        "    return fib_recursed_2(n-1)+fib_recursed_2(n-2)"
      ],
      "metadata": {
        "id": "R3aVzLl7mT_s"
      },
      "execution_count": 41,
      "outputs": []
    },
    {
      "cell_type": "code",
      "source": [
        "fib_recursed_2.__closure__"
      ],
      "metadata": {
        "colab": {
          "base_uri": "https://localhost:8080/"
        },
        "id": "5II-vobHm9Si",
        "outputId": "ec25d64e-af1b-4e02-d000-a0d80cecc885"
      },
      "execution_count": 42,
      "outputs": [
        {
          "output_type": "execute_result",
          "data": {
            "text/plain": [
              "(<cell at 0x7fd89b654d90: function object at 0x7fd89f0caef0>,\n",
              " <cell at 0x7fd89b654b90: builtin_function_or_method object at 0x7fd8bad620f0>)"
            ]
          },
          "metadata": {},
          "execution_count": 42
        }
      ]
    },
    {
      "cell_type": "code",
      "source": [
        "fib_recursed_2.__code__.co_freevars"
      ],
      "metadata": {
        "colab": {
          "base_uri": "https://localhost:8080/"
        },
        "id": "EmgKABfcm_tr",
        "outputId": "f0f508b3-9df9-46ac-f55c-837661a3d3d7"
      },
      "execution_count": 43,
      "outputs": [
        {
          "output_type": "execute_result",
          "data": {
            "text/plain": [
              "('fn', 'perf_counter')"
            ]
          },
          "metadata": {},
          "execution_count": 43
        }
      ]
    },
    {
      "cell_type": "code",
      "source": [
        "fib_recursed_2(10)"
      ],
      "metadata": {
        "colab": {
          "base_uri": "https://localhost:8080/"
        },
        "id": "Pk9hngeGnA26",
        "outputId": "bed83a7c-b4d9-4269-fc3c-6d5fff91984f"
      },
      "execution_count": 44,
      "outputs": [
        {
          "output_type": "stream",
          "name": "stdout",
          "text": [
            "fib_recursed_2(2) took 0.000001s to run.\n",
            "fib_recursed_2(1) took 0.000001s to run.\n",
            "fib_recursed_2(3) took 0.000170s to run.\n",
            "fib_recursed_2(2) took 0.000001s to run.\n",
            "fib_recursed_2(4) took 0.000244s to run.\n",
            "fib_recursed_2(2) took 0.000000s to run.\n",
            "fib_recursed_2(1) took 0.000001s to run.\n",
            "fib_recursed_2(3) took 0.000069s to run.\n",
            "fib_recursed_2(5) took 0.000384s to run.\n",
            "fib_recursed_2(2) took 0.000000s to run.\n",
            "fib_recursed_2(1) took 0.000000s to run.\n",
            "fib_recursed_2(3) took 0.000069s to run.\n",
            "fib_recursed_2(2) took 0.000001s to run.\n",
            "fib_recursed_2(4) took 0.000150s to run.\n",
            "fib_recursed_2(6) took 0.000603s to run.\n",
            "fib_recursed_2(2) took 0.000000s to run.\n",
            "fib_recursed_2(1) took 0.000001s to run.\n",
            "fib_recursed_2(3) took 0.000066s to run.\n",
            "fib_recursed_2(2) took 0.000001s to run.\n",
            "fib_recursed_2(4) took 0.000134s to run.\n",
            "fib_recursed_2(2) took 0.000000s to run.\n",
            "fib_recursed_2(1) took 0.000000s to run.\n",
            "fib_recursed_2(3) took 0.000064s to run.\n",
            "fib_recursed_2(5) took 0.000269s to run.\n",
            "fib_recursed_2(7) took 0.000928s to run.\n",
            "fib_recursed_2(2) took 0.000001s to run.\n",
            "fib_recursed_2(1) took 0.000001s to run.\n",
            "fib_recursed_2(3) took 0.000124s to run.\n",
            "fib_recursed_2(2) took 0.000001s to run.\n",
            "fib_recursed_2(4) took 0.000172s to run.\n",
            "fib_recursed_2(2) took 0.000000s to run.\n",
            "fib_recursed_2(1) took 0.000000s to run.\n",
            "fib_recursed_2(3) took 0.000054s to run.\n",
            "fib_recursed_2(5) took 0.000272s to run.\n",
            "fib_recursed_2(2) took 0.000000s to run.\n",
            "fib_recursed_2(1) took 0.000000s to run.\n",
            "fib_recursed_2(3) took 0.000044s to run.\n",
            "fib_recursed_2(2) took 0.000000s to run.\n",
            "fib_recursed_2(4) took 0.000091s to run.\n",
            "fib_recursed_2(6) took 0.000409s to run.\n",
            "fib_recursed_2(8) took 0.010289s to run.\n",
            "fib_recursed_2(2) took 0.000000s to run.\n",
            "fib_recursed_2(1) took 0.000000s to run.\n",
            "fib_recursed_2(3) took 0.000052s to run.\n",
            "fib_recursed_2(2) took 0.000000s to run.\n",
            "fib_recursed_2(4) took 0.000096s to run.\n",
            "fib_recursed_2(2) took 0.000000s to run.\n",
            "fib_recursed_2(1) took 0.000000s to run.\n",
            "fib_recursed_2(3) took 0.000045s to run.\n",
            "fib_recursed_2(5) took 0.000199s to run.\n",
            "fib_recursed_2(2) took 0.000000s to run.\n",
            "fib_recursed_2(1) took 0.000000s to run.\n",
            "fib_recursed_2(3) took 0.000043s to run.\n",
            "fib_recursed_2(2) took 0.000000s to run.\n",
            "fib_recursed_2(4) took 0.000088s to run.\n",
            "fib_recursed_2(6) took 0.000333s to run.\n",
            "fib_recursed_2(2) took 0.000000s to run.\n",
            "fib_recursed_2(1) took 0.000000s to run.\n",
            "fib_recursed_2(3) took 0.000044s to run.\n",
            "fib_recursed_2(2) took 0.000001s to run.\n",
            "fib_recursed_2(4) took 0.000532s to run.\n",
            "fib_recursed_2(2) took 0.000000s to run.\n",
            "fib_recursed_2(1) took 0.000001s to run.\n",
            "fib_recursed_2(3) took 0.000050s to run.\n",
            "fib_recursed_2(5) took 0.000634s to run.\n",
            "fib_recursed_2(7) took 0.001015s to run.\n",
            "fib_recursed_2(9) took 0.011359s to run.\n",
            "fib_recursed_2(2) took 0.000000s to run.\n",
            "fib_recursed_2(1) took 0.000000s to run.\n",
            "fib_recursed_2(3) took 0.000047s to run.\n",
            "fib_recursed_2(2) took 0.000000s to run.\n",
            "fib_recursed_2(4) took 0.000095s to run.\n",
            "fib_recursed_2(2) took 0.000000s to run.\n",
            "fib_recursed_2(1) took 0.000001s to run.\n",
            "fib_recursed_2(3) took 0.000075s to run.\n",
            "fib_recursed_2(5) took 0.000244s to run.\n",
            "fib_recursed_2(2) took 0.000000s to run.\n",
            "fib_recursed_2(1) took 0.000001s to run.\n",
            "fib_recursed_2(3) took 0.000075s to run.\n",
            "fib_recursed_2(2) took 0.000001s to run.\n",
            "fib_recursed_2(4) took 0.000141s to run.\n",
            "fib_recursed_2(6) took 0.000452s to run.\n",
            "fib_recursed_2(2) took 0.000000s to run.\n",
            "fib_recursed_2(1) took 0.000001s to run.\n",
            "fib_recursed_2(3) took 0.000066s to run.\n",
            "fib_recursed_2(2) took 0.000000s to run.\n",
            "fib_recursed_2(4) took 0.000131s to run.\n",
            "fib_recursed_2(2) took 0.000000s to run.\n",
            "fib_recursed_2(1) took 0.000001s to run.\n",
            "fib_recursed_2(3) took 0.000065s to run.\n",
            "fib_recursed_2(5) took 0.000259s to run.\n",
            "fib_recursed_2(7) took 0.000776s to run.\n",
            "fib_recursed_2(2) took 0.000000s to run.\n",
            "fib_recursed_2(1) took 0.000000s to run.\n",
            "fib_recursed_2(3) took 0.000064s to run.\n",
            "fib_recursed_2(2) took 0.000000s to run.\n",
            "fib_recursed_2(4) took 0.000127s to run.\n",
            "fib_recursed_2(2) took 0.000000s to run.\n",
            "fib_recursed_2(1) took 0.000000s to run.\n",
            "fib_recursed_2(3) took 0.000064s to run.\n",
            "fib_recursed_2(5) took 0.000262s to run.\n",
            "fib_recursed_2(2) took 0.000000s to run.\n",
            "fib_recursed_2(1) took 0.000000s to run.\n",
            "fib_recursed_2(3) took 0.000083s to run.\n",
            "fib_recursed_2(2) took 0.000000s to run.\n",
            "fib_recursed_2(4) took 0.000147s to run.\n",
            "fib_recursed_2(6) took 0.000475s to run.\n",
            "fib_recursed_2(8) took 0.004358s to run.\n",
            "fib_recursed_2(10) took 0.015788s to run.\n"
          ]
        },
        {
          "output_type": "execute_result",
          "data": {
            "text/plain": [
              "55"
            ]
          },
          "metadata": {},
          "execution_count": 44
        }
      ]
    },
    {
      "cell_type": "code",
      "source": [
        "@timed\n",
        "def fib_loop(n):\n",
        "  fib_1=1\n",
        "  fib_2=1\n",
        "  for i in range(3,n+1):\n",
        "    fib_1,fib_2=fib_2,fib_1+fib_2\n",
        "  return fib_2"
      ],
      "metadata": {
        "id": "oj36GE7znGMy"
      },
      "execution_count": 45,
      "outputs": []
    },
    {
      "cell_type": "code",
      "source": [
        "fib_loop(3)"
      ],
      "metadata": {
        "id": "1INGA3U0r-BD",
        "outputId": "8d4f9403-8e71-41fa-aece-956d6126bc19",
        "colab": {
          "base_uri": "https://localhost:8080/"
        }
      },
      "execution_count": 46,
      "outputs": [
        {
          "output_type": "stream",
          "name": "stdout",
          "text": [
            "fib_loop(3) took 0.000004s to run.\n"
          ]
        },
        {
          "output_type": "execute_result",
          "data": {
            "text/plain": [
              "2"
            ]
          },
          "metadata": {},
          "execution_count": 46
        }
      ]
    },
    {
      "cell_type": "code",
      "source": [
        "fib_loop(6)"
      ],
      "metadata": {
        "id": "EKfbCUnYr_5L",
        "outputId": "9e02e89e-5d55-4c60-f1ce-0294981c81b6",
        "colab": {
          "base_uri": "https://localhost:8080/"
        }
      },
      "execution_count": 47,
      "outputs": [
        {
          "output_type": "stream",
          "name": "stdout",
          "text": [
            "fib_loop(6) took 0.000005s to run.\n"
          ]
        },
        {
          "output_type": "execute_result",
          "data": {
            "text/plain": [
              "8"
            ]
          },
          "metadata": {},
          "execution_count": 47
        }
      ]
    },
    {
      "cell_type": "code",
      "source": [
        "fib_loop.__closure__"
      ],
      "metadata": {
        "id": "HrnENVxasDTM",
        "outputId": "a22110b1-c1fa-443b-b216-b4a2dbbb4331",
        "colab": {
          "base_uri": "https://localhost:8080/"
        }
      },
      "execution_count": 48,
      "outputs": [
        {
          "output_type": "execute_result",
          "data": {
            "text/plain": [
              "(<cell at 0x7fd89f0c20d0: function object at 0x7fd89f0cab90>,\n",
              " <cell at 0x7fd89f0c2950: builtin_function_or_method object at 0x7fd8bad620f0>)"
            ]
          },
          "metadata": {},
          "execution_count": 48
        }
      ]
    },
    {
      "cell_type": "code",
      "source": [
        "fib_loop.__code__.co_freevars"
      ],
      "metadata": {
        "id": "4k-J8ip77663",
        "outputId": "18bce8fc-f843-4140-edd4-bc740c2852bb",
        "colab": {
          "base_uri": "https://localhost:8080/"
        }
      },
      "execution_count": 49,
      "outputs": [
        {
          "output_type": "execute_result",
          "data": {
            "text/plain": [
              "('fn', 'perf_counter')"
            ]
          },
          "metadata": {},
          "execution_count": 49
        }
      ]
    },
    {
      "cell_type": "code",
      "source": [
        "from functools import reduce\n",
        "\n",
        "@timed\n",
        "def fib_reduce(n):\n",
        "  initial=(1,0)\n",
        "  dummy=range(n-1)\n",
        "  fib_n=reduce(lambda prev,n: (prev[0]+prev[1],prev[0]),\n",
        "               dummy,\n",
        "               initial)\n",
        "  return fib_n[0]"
      ],
      "metadata": {
        "id": "x44AufI-7-AZ"
      },
      "execution_count": 50,
      "outputs": []
    },
    {
      "cell_type": "code",
      "source": [
        "fib_reduce(3)"
      ],
      "metadata": {
        "id": "vsMBjwKl8dPY",
        "outputId": "5e64d3ee-5f98-4231-8f41-c500ff8c6ea7",
        "colab": {
          "base_uri": "https://localhost:8080/"
        }
      },
      "execution_count": 51,
      "outputs": [
        {
          "output_type": "stream",
          "name": "stdout",
          "text": [
            "fib_reduce(3) took 0.000008s to run.\n"
          ]
        },
        {
          "output_type": "execute_result",
          "data": {
            "text/plain": [
              "2"
            ]
          },
          "metadata": {},
          "execution_count": 51
        }
      ]
    },
    {
      "cell_type": "code",
      "source": [
        "a=lambda x,y: (x+y,x-y)"
      ],
      "metadata": {
        "id": "Af5Octnm8eZw"
      },
      "execution_count": 52,
      "outputs": []
    },
    {
      "cell_type": "code",
      "source": [
        "a(4,5)"
      ],
      "metadata": {
        "id": "uTx2UneV8xbB",
        "outputId": "6b6825e4-f83c-4bf4-b1f8-fba4b22acadf",
        "colab": {
          "base_uri": "https://localhost:8080/"
        }
      },
      "execution_count": 53,
      "outputs": [
        {
          "output_type": "execute_result",
          "data": {
            "text/plain": [
              "(9, -1)"
            ]
          },
          "metadata": {},
          "execution_count": 53
        }
      ]
    },
    {
      "cell_type": "code",
      "source": [
        "reduce(lambda x,y:x if x>y else y ,range(10))"
      ],
      "metadata": {
        "id": "wprx3j7I9O2p",
        "outputId": "df89f476-b346-4849-a9a4-8b99c25ac24f",
        "colab": {
          "base_uri": "https://localhost:8080/"
        }
      },
      "execution_count": 54,
      "outputs": [
        {
          "output_type": "execute_result",
          "data": {
            "text/plain": [
              "9"
            ]
          },
          "metadata": {},
          "execution_count": 54
        }
      ]
    },
    {
      "cell_type": "code",
      "source": [
        "fib_recursed(35)\n",
        "fib_loop(35)\n",
        "fib_reduce(35)"
      ],
      "metadata": {
        "id": "yfzevm-U-9IZ",
        "colab": {
          "base_uri": "https://localhost:8080/"
        },
        "outputId": "ec704511-94bf-4aac-e0b5-83e0425e4552"
      },
      "execution_count": 55,
      "outputs": [
        {
          "output_type": "stream",
          "name": "stdout",
          "text": [
            "fib_recursed(35) took 2.859523s to run.\n",
            "fib_loop(35) took 0.000007s to run.\n",
            "fib_reduce(35) took 0.000012s to run.\n"
          ]
        },
        {
          "output_type": "execute_result",
          "data": {
            "text/plain": [
              "9227465"
            ]
          },
          "metadata": {},
          "execution_count": 55
        }
      ]
    },
    {
      "cell_type": "code",
      "source": [
        "for i in range(10):\n",
        "  result=fib_loop(10000)"
      ],
      "metadata": {
        "colab": {
          "base_uri": "https://localhost:8080/"
        },
        "id": "46WtVuoiVwYE",
        "outputId": "d74d1e5d-a5c2-458e-e7cc-ac74ed8ec5d2"
      },
      "execution_count": 56,
      "outputs": [
        {
          "output_type": "stream",
          "name": "stdout",
          "text": [
            "fib_loop(10000) took 0.003912s to run.\n",
            "fib_loop(10000) took 0.002282s to run.\n",
            "fib_loop(10000) took 0.002371s to run.\n",
            "fib_loop(10000) took 0.002350s to run.\n",
            "fib_loop(10000) took 0.003071s to run.\n",
            "fib_loop(10000) took 0.003303s to run.\n",
            "fib_loop(10000) took 0.002930s to run.\n",
            "fib_loop(10000) took 0.003072s to run.\n",
            "fib_loop(10000) took 0.002375s to run.\n",
            "fib_loop(10000) took 0.002343s to run.\n"
          ]
        }
      ]
    },
    {
      "cell_type": "code",
      "source": [
        "for i in range(10):\n",
        "  result=fib_reduce(10000)"
      ],
      "metadata": {
        "colab": {
          "base_uri": "https://localhost:8080/"
        },
        "id": "0ZdiRC_YWZRi",
        "outputId": "4c193ab9-780a-4c94-e6dd-13322c9c1d4b"
      },
      "execution_count": 57,
      "outputs": [
        {
          "output_type": "stream",
          "name": "stdout",
          "text": [
            "fib_reduce(10000) took 0.004643s to run.\n",
            "fib_reduce(10000) took 0.003552s to run.\n",
            "fib_reduce(10000) took 0.003485s to run.\n",
            "fib_reduce(10000) took 0.003460s to run.\n",
            "fib_reduce(10000) took 0.003453s to run.\n",
            "fib_reduce(10000) took 0.003491s to run.\n",
            "fib_reduce(10000) took 0.003481s to run.\n",
            "fib_reduce(10000) took 0.003485s to run.\n",
            "fib_reduce(10000) took 0.003487s to run.\n",
            "fib_reduce(10000) took 0.003453s to run.\n"
          ]
        }
      ]
    },
    {
      "cell_type": "code",
      "source": [
        "from functools import reduce\n",
        "fib_1=timed(lambda n: reduce(lambda prev, n:(prev[0]+prev[1],prev[0]),\n",
        "                            range(n),\n",
        "                            (0,1))[0])"
      ],
      "metadata": {
        "id": "tQFOcGueWdux"
      },
      "execution_count": 58,
      "outputs": []
    },
    {
      "cell_type": "code",
      "source": [
        "fib_loop(100)"
      ],
      "metadata": {
        "colab": {
          "base_uri": "https://localhost:8080/"
        },
        "id": "sl_Py97JXFJy",
        "outputId": "b38ea627-645e-432d-b0e3-02d8f19cac06"
      },
      "execution_count": 59,
      "outputs": [
        {
          "output_type": "stream",
          "name": "stdout",
          "text": [
            "fib_loop(100) took 0.000017s to run.\n"
          ]
        },
        {
          "output_type": "execute_result",
          "data": {
            "text/plain": [
              "354224848179261915075"
            ]
          },
          "metadata": {},
          "execution_count": 59
        }
      ]
    },
    {
      "cell_type": "code",
      "source": [
        "fib_1(100)"
      ],
      "metadata": {
        "colab": {
          "base_uri": "https://localhost:8080/"
        },
        "id": "RNhz8R2xXJq4",
        "outputId": "4d05db87-d32b-49ba-b5ab-261832de9da6"
      },
      "execution_count": 60,
      "outputs": [
        {
          "output_type": "stream",
          "name": "stdout",
          "text": [
            "<lambda>(100) took 0.000039s to run.\n"
          ]
        },
        {
          "output_type": "execute_result",
          "data": {
            "text/plain": [
              "354224848179261915075"
            ]
          },
          "metadata": {},
          "execution_count": 60
        }
      ]
    },
    {
      "cell_type": "code",
      "source": [
        "def logged(fn):\n",
        "  from functools import wraps\n",
        "  from datetime import datetime,timezone\n",
        "\n",
        "  @wraps(fn)\n",
        "  def inner(*args,**kwargs):\n",
        "    run_dt=datetime.now(timezone.utc)\n",
        "    result=fn(*args,**kwargs)\n",
        "    print('{0}: called {1}'.format(fn.__name__,run_dt))\n",
        "    return result\n",
        "\n",
        "  return inner"
      ],
      "metadata": {
        "id": "KcbKdZHVXLjT"
      },
      "execution_count": 61,
      "outputs": []
    },
    {
      "cell_type": "code",
      "source": [
        "@timed\n",
        "@logged\n",
        "def factorial(n):\n",
        "  from operator import mul\n",
        "  from functools import reduce\n",
        "  return reduce(mul,range(1,n+1))"
      ],
      "metadata": {
        "id": "nSRJhNAJaGR8"
      },
      "execution_count": 62,
      "outputs": []
    },
    {
      "cell_type": "code",
      "source": [
        "factorial(10)"
      ],
      "metadata": {
        "id": "WiG2lLoVaf2E",
        "outputId": "7d381e57-d5de-4f95-ec15-ff3963976508",
        "colab": {
          "base_uri": "https://localhost:8080/"
        }
      },
      "execution_count": 63,
      "outputs": [
        {
          "output_type": "stream",
          "name": "stdout",
          "text": [
            "factorial: called 2022-02-22 10:59:43.325159+00:00\n",
            "factorial(10) took 0.000871s to run.\n"
          ]
        },
        {
          "output_type": "execute_result",
          "data": {
            "text/plain": [
              "3628800"
            ]
          },
          "metadata": {},
          "execution_count": 63
        }
      ]
    },
    {
      "cell_type": "code",
      "source": [
        "factorial.__closure__"
      ],
      "metadata": {
        "id": "huFSXynfahg8",
        "outputId": "eb227aca-4701-4ab9-acce-79eb3dd6aef3",
        "colab": {
          "base_uri": "https://localhost:8080/"
        }
      },
      "execution_count": 64,
      "outputs": [
        {
          "output_type": "execute_result",
          "data": {
            "text/plain": [
              "(<cell at 0x7fd89b671850: function object at 0x7fd89b62e0e0>,\n",
              " <cell at 0x7fd89b671a50: builtin_function_or_method object at 0x7fd8bad620f0>)"
            ]
          },
          "metadata": {},
          "execution_count": 64
        }
      ]
    },
    {
      "cell_type": "code",
      "source": [
        "factorial.__code__.co_freevars"
      ],
      "metadata": {
        "id": "JaOsMMH9alCj",
        "outputId": "f1ef36fc-58b8-46ec-e7dd-4ad18e23d704",
        "colab": {
          "base_uri": "https://localhost:8080/"
        }
      },
      "execution_count": 65,
      "outputs": [
        {
          "output_type": "execute_result",
          "data": {
            "text/plain": [
              "('fn', 'perf_counter')"
            ]
          },
          "metadata": {},
          "execution_count": 65
        }
      ]
    },
    {
      "cell_type": "code",
      "source": [
        "@logged\n",
        "@timed\n",
        "def factorial(n):\n",
        "    from operator import mul\n",
        "    from functools import reduce\n",
        "    \n",
        "    return reduce(mul, range(1, n+1))"
      ],
      "metadata": {
        "id": "DxU9jFaBanyj"
      },
      "execution_count": 66,
      "outputs": []
    },
    {
      "cell_type": "code",
      "source": [
        "factorial(10)"
      ],
      "metadata": {
        "id": "RNEgcrGea7ps",
        "outputId": "bf1c8fbc-ecd0-48da-89ab-240c98d28ba2",
        "colab": {
          "base_uri": "https://localhost:8080/"
        }
      },
      "execution_count": 67,
      "outputs": [
        {
          "output_type": "stream",
          "name": "stdout",
          "text": [
            "factorial(10) took 0.000019s to run.\n",
            "factorial: called 2022-02-22 10:59:43.376480+00:00\n"
          ]
        },
        {
          "output_type": "execute_result",
          "data": {
            "text/plain": [
              "3628800"
            ]
          },
          "metadata": {},
          "execution_count": 67
        }
      ]
    },
    {
      "cell_type": "code",
      "source": [
        "def dec_1(fn):\n",
        "    def inner():\n",
        "        print('running dec_1')\n",
        "        return fn()\n",
        "    return inner"
      ],
      "metadata": {
        "id": "frmSIN4pa9e2"
      },
      "execution_count": 68,
      "outputs": []
    },
    {
      "cell_type": "code",
      "source": [
        "def dec_2(fn):\n",
        "    def inner():\n",
        "        print('running dec_2')\n",
        "        return fn()\n",
        "    return inner"
      ],
      "metadata": {
        "id": "GMuIjUARehUG"
      },
      "execution_count": 69,
      "outputs": []
    },
    {
      "cell_type": "code",
      "source": [
        "@dec_1\n",
        "@dec_2\n",
        "def my_func():\n",
        "    print('running my_func')"
      ],
      "metadata": {
        "id": "OJjgAGxkei3P"
      },
      "execution_count": 70,
      "outputs": []
    },
    {
      "cell_type": "code",
      "source": [
        "my_func()"
      ],
      "metadata": {
        "colab": {
          "base_uri": "https://localhost:8080/"
        },
        "id": "VWW-hLE8ekVH",
        "outputId": "511cf8a0-d3bb-4115-a358-2765c1d433b8"
      },
      "execution_count": 71,
      "outputs": [
        {
          "output_type": "stream",
          "name": "stdout",
          "text": [
            "running dec_1\n",
            "running dec_2\n",
            "running my_func\n"
          ]
        }
      ]
    },
    {
      "cell_type": "code",
      "source": [
        "@dec_2\n",
        "@dec_1\n",
        "def my_func():\n",
        "    print('running my_func')"
      ],
      "metadata": {
        "id": "YX0oWv3TemGo"
      },
      "execution_count": 72,
      "outputs": []
    },
    {
      "cell_type": "code",
      "source": [
        "my_func()"
      ],
      "metadata": {
        "colab": {
          "base_uri": "https://localhost:8080/"
        },
        "id": "NueNgdmKenk3",
        "outputId": "da5ef303-ca39-4532-a6e6-da473e1ff365"
      },
      "execution_count": 73,
      "outputs": [
        {
          "output_type": "stream",
          "name": "stdout",
          "text": [
            "running dec_2\n",
            "running dec_1\n",
            "running my_func\n"
          ]
        }
      ]
    },
    {
      "cell_type": "code",
      "source": [
        "def fib(n):\n",
        "  print('Calculating fib({0})'.format(n))\n",
        "  return 1 if n<3 else fib(n-1)+fib(n-2)"
      ],
      "metadata": {
        "id": "lgsne0TYgmjo"
      },
      "execution_count": 74,
      "outputs": []
    },
    {
      "cell_type": "code",
      "source": [
        "fib(6)"
      ],
      "metadata": {
        "id": "Lt-UN6dPg1LN",
        "outputId": "ca3cbf91-77c3-4333-e7b5-ad766b73425e",
        "colab": {
          "base_uri": "https://localhost:8080/"
        }
      },
      "execution_count": 75,
      "outputs": [
        {
          "output_type": "stream",
          "name": "stdout",
          "text": [
            "Calculating fib(6)\n",
            "Calculating fib(5)\n",
            "Calculating fib(4)\n",
            "Calculating fib(3)\n",
            "Calculating fib(2)\n",
            "Calculating fib(1)\n",
            "Calculating fib(2)\n",
            "Calculating fib(3)\n",
            "Calculating fib(2)\n",
            "Calculating fib(1)\n",
            "Calculating fib(4)\n",
            "Calculating fib(3)\n",
            "Calculating fib(2)\n",
            "Calculating fib(1)\n",
            "Calculating fib(2)\n"
          ]
        },
        {
          "output_type": "execute_result",
          "data": {
            "text/plain": [
              "8"
            ]
          },
          "metadata": {},
          "execution_count": 75
        }
      ]
    },
    {
      "cell_type": "code",
      "source": [
        "class Fib:\n",
        "  def __init__(self):\n",
        "    self.cache={1:1,2:1}\n",
        "\n",
        "  def fib(self,n):\n",
        "    if n not in self.cache:\n",
        "      print('Calculating fib({0})'.format(n))\n",
        "      self.cache[n]=self.fib(n-1)+self.fib(n-2)\n",
        "    return self.cache[n]"
      ],
      "metadata": {
        "id": "iogBzpOGg2iD"
      },
      "execution_count": 76,
      "outputs": []
    },
    {
      "cell_type": "code",
      "source": [
        "f=Fib()"
      ],
      "metadata": {
        "id": "CPY83jOnGath"
      },
      "execution_count": 77,
      "outputs": []
    },
    {
      "cell_type": "code",
      "source": [
        "f.fib(1)"
      ],
      "metadata": {
        "id": "xJwGTeOhGhRv",
        "outputId": "4055156e-ea89-4900-85a5-61d8b07de82a",
        "colab": {
          "base_uri": "https://localhost:8080/"
        }
      },
      "execution_count": 78,
      "outputs": [
        {
          "output_type": "execute_result",
          "data": {
            "text/plain": [
              "1"
            ]
          },
          "metadata": {},
          "execution_count": 78
        }
      ]
    },
    {
      "cell_type": "code",
      "source": [
        "f.fib(6)"
      ],
      "metadata": {
        "id": "F5mlQiCnGj8C",
        "outputId": "eb510cde-ab0f-4b5f-8b38-d8439b6a3275",
        "colab": {
          "base_uri": "https://localhost:8080/"
        }
      },
      "execution_count": 79,
      "outputs": [
        {
          "output_type": "stream",
          "name": "stdout",
          "text": [
            "Calculating fib(6)\n",
            "Calculating fib(5)\n",
            "Calculating fib(4)\n",
            "Calculating fib(3)\n"
          ]
        },
        {
          "output_type": "execute_result",
          "data": {
            "text/plain": [
              "8"
            ]
          },
          "metadata": {},
          "execution_count": 79
        }
      ]
    },
    {
      "cell_type": "code",
      "source": [
        "f.fib(7)"
      ],
      "metadata": {
        "id": "UxSCnUHEGlwv",
        "outputId": "34598044-4fe7-48bc-8c49-c87861a771a3",
        "colab": {
          "base_uri": "https://localhost:8080/"
        }
      },
      "execution_count": 80,
      "outputs": [
        {
          "output_type": "stream",
          "name": "stdout",
          "text": [
            "Calculating fib(7)\n"
          ]
        },
        {
          "output_type": "execute_result",
          "data": {
            "text/plain": [
              "13"
            ]
          },
          "metadata": {},
          "execution_count": 80
        }
      ]
    },
    {
      "cell_type": "code",
      "source": [
        ""
      ],
      "metadata": {
        "id": "E2TRhNgUGpHv"
      },
      "execution_count": null,
      "outputs": []
    }
  ]
}