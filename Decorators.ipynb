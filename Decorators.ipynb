{
  "nbformat": 4,
  "nbformat_minor": 0,
  "metadata": {
    "colab": {
      "name": "Decorators.ipynb",
      "provenance": [],
      "collapsed_sections": [],
      "mount_file_id": "1EKujnlbBXCMROfDBpSp8wMl-qGSfFvvY",
      "authorship_tag": "ABX9TyMWcJHIDaV2ZOjRFsG1Wtl/",
      "include_colab_link": true
    },
    "kernelspec": {
      "name": "python3",
      "display_name": "Python 3"
    },
    "language_info": {
      "name": "python"
    }
  },
  "cells": [
    {
      "cell_type": "markdown",
      "metadata": {
        "id": "view-in-github",
        "colab_type": "text"
      },
      "source": [
        "<a href=\"https://colab.research.google.com/github/aserdargun/aserdargun/blob/main/Decorators.ipynb\" target=\"_parent\"><img src=\"https://colab.research.google.com/assets/colab-badge.svg\" alt=\"Open In Colab\"/></a>"
      ]
    },
    {
      "cell_type": "code",
      "source": [
        "def counter(fn):\n",
        "  count=0\n",
        "\n",
        "  def inner(*args,**kwargs):\n",
        "    nonlocal count\n",
        "    count+=1\n",
        "    print('Function {0} was called {1} times'.format(fn.__name__,count))\n",
        "    return fn(*args,**kwargs)\n",
        "  return inner"
      ],
      "metadata": {
        "id": "vKiQu9h80zJ_"
      },
      "execution_count": 2,
      "outputs": []
    },
    {
      "cell_type": "code",
      "source": [
        "def add(a,b=0):\n",
        "  \"\"\"\n",
        "  returns the sum of a and b\n",
        "  \"\"\"\n",
        "  return a+b"
      ],
      "metadata": {
        "id": "D0PxmyIA1gJj"
      },
      "execution_count": 3,
      "outputs": []
    },
    {
      "cell_type": "code",
      "source": [
        "help(add)"
      ],
      "metadata": {
        "id": "Pj3K5MkV1wSh",
        "outputId": "13865ab5-a36c-49bb-8615-3caada9801a9",
        "colab": {
          "base_uri": "https://localhost:8080/"
        }
      },
      "execution_count": 4,
      "outputs": [
        {
          "output_type": "stream",
          "name": "stdout",
          "text": [
            "Help on function add in module __main__:\n",
            "\n",
            "add(a, b=0)\n",
            "    returns the sum of a and b\n",
            "\n"
          ]
        }
      ]
    },
    {
      "cell_type": "code",
      "source": [
        "id(add)"
      ],
      "metadata": {
        "id": "RuHV5qrf1w8e",
        "outputId": "879a5c47-7601-48c0-819c-65bd6b5ba7c3",
        "colab": {
          "base_uri": "https://localhost:8080/"
        }
      },
      "execution_count": 5,
      "outputs": [
        {
          "output_type": "execute_result",
          "data": {
            "text/plain": [
              "140684558839248"
            ]
          },
          "metadata": {},
          "execution_count": 5
        }
      ]
    },
    {
      "cell_type": "code",
      "source": [
        "add=counter(add)"
      ],
      "metadata": {
        "id": "fuF9Is372CSO"
      },
      "execution_count": 6,
      "outputs": []
    },
    {
      "cell_type": "code",
      "source": [
        "id(add)"
      ],
      "metadata": {
        "id": "K6jT1v7O2EiQ",
        "outputId": "84d45241-af20-4473-b310-357b4fce8d97",
        "colab": {
          "base_uri": "https://localhost:8080/"
        }
      },
      "execution_count": 7,
      "outputs": [
        {
          "output_type": "execute_result",
          "data": {
            "text/plain": [
              "140684557970896"
            ]
          },
          "metadata": {},
          "execution_count": 7
        }
      ]
    },
    {
      "cell_type": "code",
      "source": [
        "add(1,2)"
      ],
      "metadata": {
        "id": "xpcrzzI62F9g",
        "outputId": "d9ced034-4308-4c9e-f3d1-f04f58e89851",
        "colab": {
          "base_uri": "https://localhost:8080/"
        }
      },
      "execution_count": 8,
      "outputs": [
        {
          "output_type": "stream",
          "name": "stdout",
          "text": [
            "Function add was called 1 times\n"
          ]
        },
        {
          "output_type": "execute_result",
          "data": {
            "text/plain": [
              "3"
            ]
          },
          "metadata": {},
          "execution_count": 8
        }
      ]
    },
    {
      "cell_type": "code",
      "source": [
        "add(2,3)"
      ],
      "metadata": {
        "id": "S3JSsJjy2HgB",
        "outputId": "35c8b195-6842-4e91-92d3-89bda11fdac3",
        "colab": {
          "base_uri": "https://localhost:8080/"
        }
      },
      "execution_count": 9,
      "outputs": [
        {
          "output_type": "stream",
          "name": "stdout",
          "text": [
            "Function add was called 2 times\n"
          ]
        },
        {
          "output_type": "execute_result",
          "data": {
            "text/plain": [
              "5"
            ]
          },
          "metadata": {},
          "execution_count": 9
        }
      ]
    },
    {
      "cell_type": "code",
      "source": [
        "add(3,4)"
      ],
      "metadata": {
        "id": "pwQiV7_u2JA5",
        "outputId": "bd75d864-4556-4cd1-fd13-260cfa95e1c0",
        "colab": {
          "base_uri": "https://localhost:8080/"
        }
      },
      "execution_count": 10,
      "outputs": [
        {
          "output_type": "stream",
          "name": "stdout",
          "text": [
            "Function add was called 3 times\n"
          ]
        },
        {
          "output_type": "execute_result",
          "data": {
            "text/plain": [
              "7"
            ]
          },
          "metadata": {},
          "execution_count": 10
        }
      ]
    },
    {
      "cell_type": "code",
      "source": [
        "@counter\n",
        "def mult(a:float, b:float=1,c:float=1)->float:\n",
        "  \"\"\"\n",
        "  returns the product of a,b, and c\n",
        "  \"\"\"\n",
        "  return a*b*c"
      ],
      "metadata": {
        "id": "HF7eg8Y72NSQ"
      },
      "execution_count": 11,
      "outputs": []
    },
    {
      "cell_type": "code",
      "source": [
        "mult(1,2,3)"
      ],
      "metadata": {
        "id": "05eHi6o9tCGm",
        "outputId": "95867a03-ee98-4524-e1fc-8817476ef141",
        "colab": {
          "base_uri": "https://localhost:8080/"
        }
      },
      "execution_count": 12,
      "outputs": [
        {
          "output_type": "stream",
          "name": "stdout",
          "text": [
            "Function mult was called 1 times\n"
          ]
        },
        {
          "output_type": "execute_result",
          "data": {
            "text/plain": [
              "6"
            ]
          },
          "metadata": {},
          "execution_count": 12
        }
      ]
    },
    {
      "cell_type": "code",
      "source": [
        "add.__name__"
      ],
      "metadata": {
        "id": "Q7mv9pmVtMDd",
        "outputId": "f1baf3c8-d4c4-4392-e646-9c667f86eca8",
        "colab": {
          "base_uri": "https://localhost:8080/",
          "height": 35
        }
      },
      "execution_count": 13,
      "outputs": [
        {
          "output_type": "execute_result",
          "data": {
            "application/vnd.google.colaboratory.intrinsic+json": {
              "type": "string"
            },
            "text/plain": [
              "'inner'"
            ]
          },
          "metadata": {},
          "execution_count": 13
        }
      ]
    },
    {
      "cell_type": "code",
      "source": [
        "mult.__name__"
      ],
      "metadata": {
        "id": "x2bSBRqJtPf0",
        "outputId": "5d24d5b5-8a2b-4100-a8bd-3af7119f45f5",
        "colab": {
          "base_uri": "https://localhost:8080/",
          "height": 35
        }
      },
      "execution_count": 14,
      "outputs": [
        {
          "output_type": "execute_result",
          "data": {
            "application/vnd.google.colaboratory.intrinsic+json": {
              "type": "string"
            },
            "text/plain": [
              "'inner'"
            ]
          },
          "metadata": {},
          "execution_count": 14
        }
      ]
    },
    {
      "cell_type": "code",
      "source": [
        "help(add)"
      ],
      "metadata": {
        "id": "aTNXK8MhtRBl",
        "outputId": "e3ca6289-2d06-4b38-f43f-de49204601e6",
        "colab": {
          "base_uri": "https://localhost:8080/"
        }
      },
      "execution_count": 15,
      "outputs": [
        {
          "output_type": "stream",
          "name": "stdout",
          "text": [
            "Help on function inner in module __main__:\n",
            "\n",
            "inner(*args, **kwargs)\n",
            "\n"
          ]
        }
      ]
    },
    {
      "cell_type": "code",
      "source": [
        "help(mult)"
      ],
      "metadata": {
        "id": "-jBnod7itSq-",
        "outputId": "61b4ce67-4c10-45a7-f78e-2d6b092caa37",
        "colab": {
          "base_uri": "https://localhost:8080/"
        }
      },
      "execution_count": 16,
      "outputs": [
        {
          "output_type": "stream",
          "name": "stdout",
          "text": [
            "Help on function inner in module __main__:\n",
            "\n",
            "inner(*args, **kwargs)\n",
            "\n"
          ]
        }
      ]
    },
    {
      "cell_type": "code",
      "source": [
        "import inspect"
      ],
      "metadata": {
        "id": "HvZLNHjytUdM"
      },
      "execution_count": 17,
      "outputs": []
    },
    {
      "cell_type": "code",
      "source": [
        "inspect.getsource(add)"
      ],
      "metadata": {
        "id": "lemJhF7_tY3f",
        "outputId": "5cd1ce61-8636-4b67-cec0-8f3e7e95591a",
        "colab": {
          "base_uri": "https://localhost:8080/",
          "height": 35
        }
      },
      "execution_count": 18,
      "outputs": [
        {
          "output_type": "execute_result",
          "data": {
            "application/vnd.google.colaboratory.intrinsic+json": {
              "type": "string"
            },
            "text/plain": [
              "\"  def inner(*args,**kwargs):\\n    nonlocal count\\n    count+=1\\n    print('Function {0} was called {1} times'.format(fn.__name__,count))\\n    return fn(*args,**kwargs)\\n\""
            ]
          },
          "metadata": {},
          "execution_count": 18
        }
      ]
    },
    {
      "cell_type": "code",
      "source": [
        "inspect.getsource(mult)"
      ],
      "metadata": {
        "id": "XBS4sSIXtan1",
        "outputId": "2f3ede37-aa74-46d9-9747-2bc6bf8c8d3a",
        "colab": {
          "base_uri": "https://localhost:8080/",
          "height": 35
        }
      },
      "execution_count": 19,
      "outputs": [
        {
          "output_type": "execute_result",
          "data": {
            "application/vnd.google.colaboratory.intrinsic+json": {
              "type": "string"
            },
            "text/plain": [
              "\"  def inner(*args,**kwargs):\\n    nonlocal count\\n    count+=1\\n    print('Function {0} was called {1} times'.format(fn.__name__,count))\\n    return fn(*args,**kwargs)\\n\""
            ]
          },
          "metadata": {},
          "execution_count": 19
        }
      ]
    },
    {
      "cell_type": "code",
      "source": [
        "inspect.signature(add)"
      ],
      "metadata": {
        "id": "mIo51lxitdmN",
        "outputId": "045299c1-6cc2-45f3-f37c-8747eaeb69a5",
        "colab": {
          "base_uri": "https://localhost:8080/"
        }
      },
      "execution_count": 20,
      "outputs": [
        {
          "output_type": "execute_result",
          "data": {
            "text/plain": [
              "<Signature (*args, **kwargs)>"
            ]
          },
          "metadata": {},
          "execution_count": 20
        }
      ]
    },
    {
      "cell_type": "code",
      "source": [
        "inspect.signature(mult)"
      ],
      "metadata": {
        "id": "RV_j7uNLthjs",
        "outputId": "d1dfabe7-7293-4434-b422-f53d6c43c703",
        "colab": {
          "base_uri": "https://localhost:8080/"
        }
      },
      "execution_count": 21,
      "outputs": [
        {
          "output_type": "execute_result",
          "data": {
            "text/plain": [
              "<Signature (*args, **kwargs)>"
            ]
          },
          "metadata": {},
          "execution_count": 21
        }
      ]
    },
    {
      "cell_type": "code",
      "source": [
        "inspect.signature(add).parameters"
      ],
      "metadata": {
        "id": "HuAybTEvtjaO",
        "outputId": "6e48eac6-ef1b-438a-d14f-87dfab72738c",
        "colab": {
          "base_uri": "https://localhost:8080/"
        }
      },
      "execution_count": 22,
      "outputs": [
        {
          "output_type": "execute_result",
          "data": {
            "text/plain": [
              "mappingproxy({'args': <Parameter \"*args\">, 'kwargs': <Parameter \"**kwargs\">})"
            ]
          },
          "metadata": {},
          "execution_count": 22
        }
      ]
    },
    {
      "cell_type": "code",
      "source": [
        ""
      ],
      "metadata": {
        "id": "VxYlwrhBtnB9"
      },
      "execution_count": null,
      "outputs": []
    }
  ]
}