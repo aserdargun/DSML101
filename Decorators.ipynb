{
  "nbformat": 4,
  "nbformat_minor": 0,
  "metadata": {
    "colab": {
      "name": "Decorators.ipynb",
      "provenance": [],
      "collapsed_sections": [],
      "mount_file_id": "1EKujnlbBXCMROfDBpSp8wMl-qGSfFvvY",
      "authorship_tag": "ABX9TyOGD9Shoqr24LddhUutwWqS",
      "include_colab_link": true
    },
    "kernelspec": {
      "name": "python3",
      "display_name": "Python 3"
    },
    "language_info": {
      "name": "python"
    }
  },
  "cells": [
    {
      "cell_type": "markdown",
      "metadata": {
        "id": "view-in-github",
        "colab_type": "text"
      },
      "source": [
        "<a href=\"https://colab.research.google.com/github/aserdargun/aserdargun/blob/main/Decorators.ipynb\" target=\"_parent\"><img src=\"https://colab.research.google.com/assets/colab-badge.svg\" alt=\"Open In Colab\"/></a>"
      ]
    },
    {
      "cell_type": "code",
      "source": [
        "def counter(fn):\n",
        "  count=0\n",
        "\n",
        "  def inner(*args,**kwargs):\n",
        "    nonlocal count\n",
        "    count+=1\n",
        "    print('Function {0} was called {1} times'.format(fn.__name__,count))\n",
        "    return fn(*args,**kwargs)\n",
        "  return inner"
      ],
      "metadata": {
        "id": "vKiQu9h80zJ_"
      },
      "execution_count": 1,
      "outputs": []
    },
    {
      "cell_type": "code",
      "source": [
        "def add(a,b=0):\n",
        "  \"\"\"\n",
        "  returns the sum of a and b\n",
        "  \"\"\"\n",
        "  return a+b"
      ],
      "metadata": {
        "id": "D0PxmyIA1gJj"
      },
      "execution_count": 2,
      "outputs": []
    },
    {
      "cell_type": "code",
      "source": [
        "help(add)"
      ],
      "metadata": {
        "id": "Pj3K5MkV1wSh",
        "outputId": "5925d88d-daf0-49a6-a962-b99e7895fb13",
        "colab": {
          "base_uri": "https://localhost:8080/"
        }
      },
      "execution_count": 3,
      "outputs": [
        {
          "output_type": "stream",
          "name": "stdout",
          "text": [
            "Help on function add in module __main__:\n",
            "\n",
            "add(a, b=0)\n",
            "    returns the sum of a and b\n",
            "\n"
          ]
        }
      ]
    },
    {
      "cell_type": "code",
      "source": [
        "id(add)"
      ],
      "metadata": {
        "id": "RuHV5qrf1w8e",
        "outputId": "fc440426-44f1-4f50-a088-3b5a2b40881d",
        "colab": {
          "base_uri": "https://localhost:8080/"
        }
      },
      "execution_count": 4,
      "outputs": [
        {
          "output_type": "execute_result",
          "data": {
            "text/plain": [
              "139643647906160"
            ]
          },
          "metadata": {},
          "execution_count": 4
        }
      ]
    },
    {
      "cell_type": "code",
      "source": [
        "add=counter(add)"
      ],
      "metadata": {
        "id": "fuF9Is372CSO"
      },
      "execution_count": 5,
      "outputs": []
    },
    {
      "cell_type": "code",
      "source": [
        "id(add)"
      ],
      "metadata": {
        "id": "K6jT1v7O2EiQ",
        "outputId": "5db983ed-180c-45a6-ba3a-0e1aaa56c5b2",
        "colab": {
          "base_uri": "https://localhost:8080/"
        }
      },
      "execution_count": 6,
      "outputs": [
        {
          "output_type": "execute_result",
          "data": {
            "text/plain": [
              "139643647833296"
            ]
          },
          "metadata": {},
          "execution_count": 6
        }
      ]
    },
    {
      "cell_type": "code",
      "source": [
        "add(1,2)"
      ],
      "metadata": {
        "id": "xpcrzzI62F9g",
        "outputId": "fe3343eb-dc36-4a9f-f1db-4890ce2bc132",
        "colab": {
          "base_uri": "https://localhost:8080/"
        }
      },
      "execution_count": 7,
      "outputs": [
        {
          "output_type": "stream",
          "name": "stdout",
          "text": [
            "Function add was called 1 times\n"
          ]
        },
        {
          "output_type": "execute_result",
          "data": {
            "text/plain": [
              "3"
            ]
          },
          "metadata": {},
          "execution_count": 7
        }
      ]
    },
    {
      "cell_type": "code",
      "source": [
        "add(2,3)"
      ],
      "metadata": {
        "id": "S3JSsJjy2HgB",
        "outputId": "f4566a9e-623a-4ccc-95c1-f209e5bbd36e",
        "colab": {
          "base_uri": "https://localhost:8080/"
        }
      },
      "execution_count": 8,
      "outputs": [
        {
          "output_type": "stream",
          "name": "stdout",
          "text": [
            "Function add was called 2 times\n"
          ]
        },
        {
          "output_type": "execute_result",
          "data": {
            "text/plain": [
              "5"
            ]
          },
          "metadata": {},
          "execution_count": 8
        }
      ]
    },
    {
      "cell_type": "code",
      "source": [
        "add(3,4)"
      ],
      "metadata": {
        "id": "pwQiV7_u2JA5",
        "outputId": "20ddae5c-7a73-4575-a85d-e83a9ccec04f",
        "colab": {
          "base_uri": "https://localhost:8080/"
        }
      },
      "execution_count": 10,
      "outputs": [
        {
          "output_type": "stream",
          "name": "stdout",
          "text": [
            "Function add was called 4 times\n"
          ]
        },
        {
          "output_type": "execute_result",
          "data": {
            "text/plain": [
              "7"
            ]
          },
          "metadata": {},
          "execution_count": 10
        }
      ]
    },
    {
      "cell_type": "code",
      "source": [
        ""
      ],
      "metadata": {
        "id": "HF7eg8Y72NSQ"
      },
      "execution_count": null,
      "outputs": []
    }
  ]
}