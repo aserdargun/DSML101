{
  "nbformat": 4,
  "nbformat_minor": 0,
  "metadata": {
    "colab": {
      "name": "Decorators.ipynb",
      "provenance": [],
      "collapsed_sections": [],
      "mount_file_id": "1EKujnlbBXCMROfDBpSp8wMl-qGSfFvvY",
      "authorship_tag": "ABX9TyMBF+fxIGpNOUSRwo+zewUO",
      "include_colab_link": true
    },
    "kernelspec": {
      "name": "python3",
      "display_name": "Python 3"
    },
    "language_info": {
      "name": "python"
    }
  },
  "cells": [
    {
      "cell_type": "markdown",
      "metadata": {
        "id": "view-in-github",
        "colab_type": "text"
      },
      "source": [
        "<a href=\"https://colab.research.google.com/github/aserdargun/aserdargun/blob/main/Decorators.ipynb\" target=\"_parent\"><img src=\"https://colab.research.google.com/assets/colab-badge.svg\" alt=\"Open In Colab\"/></a>"
      ]
    },
    {
      "cell_type": "code",
      "source": [
        "def counter(fn):\n",
        "  count=0\n",
        "\n",
        "  def inner(*args,**kwargs):\n",
        "    nonlocal count\n",
        "    count+=1\n",
        "    print('Function {0} was called {1} times'.format(fn.__name__,count))\n",
        "    return fn(*args,**kwargs)\n",
        "  return inner"
      ],
      "metadata": {
        "id": "vKiQu9h80zJ_"
      },
      "execution_count": 1,
      "outputs": []
    },
    {
      "cell_type": "code",
      "source": [
        "def add(a,b=0):\n",
        "  \"\"\"\n",
        "  returns the sum of a and b\n",
        "  \"\"\"\n",
        "  return a+b"
      ],
      "metadata": {
        "id": "D0PxmyIA1gJj"
      },
      "execution_count": 2,
      "outputs": []
    },
    {
      "cell_type": "code",
      "source": [
        "help(add)"
      ],
      "metadata": {
        "id": "Pj3K5MkV1wSh",
        "outputId": "1a4052cd-5689-4235-b5b3-396e37bb4680",
        "colab": {
          "base_uri": "https://localhost:8080/"
        }
      },
      "execution_count": 3,
      "outputs": [
        {
          "output_type": "stream",
          "name": "stdout",
          "text": [
            "Help on function add in module __main__:\n",
            "\n",
            "add(a, b=0)\n",
            "    returns the sum of a and b\n",
            "\n"
          ]
        }
      ]
    },
    {
      "cell_type": "code",
      "source": [
        "id(add)"
      ],
      "metadata": {
        "id": "RuHV5qrf1w8e",
        "outputId": "bca9e6db-7324-466f-e120-5c25ca402af3",
        "colab": {
          "base_uri": "https://localhost:8080/"
        }
      },
      "execution_count": 4,
      "outputs": [
        {
          "output_type": "execute_result",
          "data": {
            "text/plain": [
              "139895159058160"
            ]
          },
          "metadata": {},
          "execution_count": 4
        }
      ]
    },
    {
      "cell_type": "code",
      "source": [
        "add=counter(add)"
      ],
      "metadata": {
        "id": "fuF9Is372CSO"
      },
      "execution_count": 5,
      "outputs": []
    },
    {
      "cell_type": "code",
      "source": [
        "id(add)"
      ],
      "metadata": {
        "id": "K6jT1v7O2EiQ",
        "outputId": "94d0aaaa-3b53-4622-817f-5ed33f80d538",
        "colab": {
          "base_uri": "https://localhost:8080/"
        }
      },
      "execution_count": 6,
      "outputs": [
        {
          "output_type": "execute_result",
          "data": {
            "text/plain": [
              "139895150391520"
            ]
          },
          "metadata": {},
          "execution_count": 6
        }
      ]
    },
    {
      "cell_type": "code",
      "source": [
        "add(1,2)"
      ],
      "metadata": {
        "id": "xpcrzzI62F9g",
        "outputId": "72acc76e-4ba7-4bec-b0e6-4feb2b6f4542",
        "colab": {
          "base_uri": "https://localhost:8080/"
        }
      },
      "execution_count": 7,
      "outputs": [
        {
          "output_type": "stream",
          "name": "stdout",
          "text": [
            "Function add was called 1 times\n"
          ]
        },
        {
          "output_type": "execute_result",
          "data": {
            "text/plain": [
              "3"
            ]
          },
          "metadata": {},
          "execution_count": 7
        }
      ]
    },
    {
      "cell_type": "code",
      "source": [
        "add(2,3)"
      ],
      "metadata": {
        "id": "S3JSsJjy2HgB",
        "outputId": "e99eaba2-c047-4238-ce12-02a6981a62fd",
        "colab": {
          "base_uri": "https://localhost:8080/"
        }
      },
      "execution_count": 8,
      "outputs": [
        {
          "output_type": "stream",
          "name": "stdout",
          "text": [
            "Function add was called 2 times\n"
          ]
        },
        {
          "output_type": "execute_result",
          "data": {
            "text/plain": [
              "5"
            ]
          },
          "metadata": {},
          "execution_count": 8
        }
      ]
    },
    {
      "cell_type": "code",
      "source": [
        "add(3,4)"
      ],
      "metadata": {
        "id": "pwQiV7_u2JA5",
        "outputId": "327cfdb1-0271-48b1-a79b-ae551694178c",
        "colab": {
          "base_uri": "https://localhost:8080/"
        }
      },
      "execution_count": 9,
      "outputs": [
        {
          "output_type": "stream",
          "name": "stdout",
          "text": [
            "Function add was called 3 times\n"
          ]
        },
        {
          "output_type": "execute_result",
          "data": {
            "text/plain": [
              "7"
            ]
          },
          "metadata": {},
          "execution_count": 9
        }
      ]
    },
    {
      "cell_type": "code",
      "source": [
        "@counter\n",
        "def mult(a:float, b:float=1,c:float=1)->float:\n",
        "  \"\"\"\n",
        "  returns the product of a,b, and c\n",
        "  \"\"\"\n",
        "  return a*b*c"
      ],
      "metadata": {
        "id": "HF7eg8Y72NSQ"
      },
      "execution_count": 10,
      "outputs": []
    },
    {
      "cell_type": "code",
      "source": [
        "mult(1,2,3)"
      ],
      "metadata": {
        "colab": {
          "base_uri": "https://localhost:8080/"
        },
        "id": "05eHi6o9tCGm",
        "outputId": "1ab2c77b-c0ad-4458-a29b-438d2c4df585"
      },
      "execution_count": 11,
      "outputs": [
        {
          "output_type": "stream",
          "name": "stdout",
          "text": [
            "Function mult was called 1 times\n"
          ]
        },
        {
          "output_type": "execute_result",
          "data": {
            "text/plain": [
              "6"
            ]
          },
          "metadata": {},
          "execution_count": 11
        }
      ]
    },
    {
      "cell_type": "code",
      "source": [
        "add.__name__"
      ],
      "metadata": {
        "colab": {
          "base_uri": "https://localhost:8080/",
          "height": 35
        },
        "id": "Q7mv9pmVtMDd",
        "outputId": "9252d848-07ac-404d-9495-5fc1e5e6760c"
      },
      "execution_count": 12,
      "outputs": [
        {
          "output_type": "execute_result",
          "data": {
            "application/vnd.google.colaboratory.intrinsic+json": {
              "type": "string"
            },
            "text/plain": [
              "'inner'"
            ]
          },
          "metadata": {},
          "execution_count": 12
        }
      ]
    },
    {
      "cell_type": "code",
      "source": [
        "mult.__name__"
      ],
      "metadata": {
        "colab": {
          "base_uri": "https://localhost:8080/",
          "height": 35
        },
        "id": "x2bSBRqJtPf0",
        "outputId": "be62214e-3bf7-4edb-ab87-fb1041e40e36"
      },
      "execution_count": 13,
      "outputs": [
        {
          "output_type": "execute_result",
          "data": {
            "application/vnd.google.colaboratory.intrinsic+json": {
              "type": "string"
            },
            "text/plain": [
              "'inner'"
            ]
          },
          "metadata": {},
          "execution_count": 13
        }
      ]
    },
    {
      "cell_type": "code",
      "source": [
        "help(add)"
      ],
      "metadata": {
        "colab": {
          "base_uri": "https://localhost:8080/"
        },
        "id": "aTNXK8MhtRBl",
        "outputId": "8ba89d6e-3669-4d30-8bfb-430743668ff7"
      },
      "execution_count": 14,
      "outputs": [
        {
          "output_type": "stream",
          "name": "stdout",
          "text": [
            "Help on function inner in module __main__:\n",
            "\n",
            "inner(*args, **kwargs)\n",
            "\n"
          ]
        }
      ]
    },
    {
      "cell_type": "code",
      "source": [
        "help(mult)"
      ],
      "metadata": {
        "colab": {
          "base_uri": "https://localhost:8080/"
        },
        "id": "-jBnod7itSq-",
        "outputId": "ad637fcb-41a2-4088-cad2-87c70af6bff9"
      },
      "execution_count": 15,
      "outputs": [
        {
          "output_type": "stream",
          "name": "stdout",
          "text": [
            "Help on function inner in module __main__:\n",
            "\n",
            "inner(*args, **kwargs)\n",
            "\n"
          ]
        }
      ]
    },
    {
      "cell_type": "code",
      "source": [
        "import inspect"
      ],
      "metadata": {
        "id": "HvZLNHjytUdM"
      },
      "execution_count": 16,
      "outputs": []
    },
    {
      "cell_type": "code",
      "source": [
        "inspect.getsource(add)"
      ],
      "metadata": {
        "colab": {
          "base_uri": "https://localhost:8080/",
          "height": 35
        },
        "id": "lemJhF7_tY3f",
        "outputId": "f95fd384-e9ff-400c-d578-a0374b880f19"
      },
      "execution_count": 17,
      "outputs": [
        {
          "output_type": "execute_result",
          "data": {
            "application/vnd.google.colaboratory.intrinsic+json": {
              "type": "string"
            },
            "text/plain": [
              "\"  def inner(*args,**kwargs):\\n    nonlocal count\\n    count+=1\\n    print('Function {0} was called {1} times'.format(fn.__name__,count))\\n    return fn(*args,**kwargs)\\n\""
            ]
          },
          "metadata": {},
          "execution_count": 17
        }
      ]
    },
    {
      "cell_type": "code",
      "source": [
        "inspect.getsource(mult)"
      ],
      "metadata": {
        "colab": {
          "base_uri": "https://localhost:8080/",
          "height": 35
        },
        "id": "XBS4sSIXtan1",
        "outputId": "ddc981ce-0c18-4041-cb48-1f9dd893059d"
      },
      "execution_count": 18,
      "outputs": [
        {
          "output_type": "execute_result",
          "data": {
            "application/vnd.google.colaboratory.intrinsic+json": {
              "type": "string"
            },
            "text/plain": [
              "\"  def inner(*args,**kwargs):\\n    nonlocal count\\n    count+=1\\n    print('Function {0} was called {1} times'.format(fn.__name__,count))\\n    return fn(*args,**kwargs)\\n\""
            ]
          },
          "metadata": {},
          "execution_count": 18
        }
      ]
    },
    {
      "cell_type": "code",
      "source": [
        "inspect.signature(add)"
      ],
      "metadata": {
        "colab": {
          "base_uri": "https://localhost:8080/"
        },
        "id": "mIo51lxitdmN",
        "outputId": "53b73a54-50e4-4b91-c9fe-763e1a315205"
      },
      "execution_count": 19,
      "outputs": [
        {
          "output_type": "execute_result",
          "data": {
            "text/plain": [
              "<Signature (*args, **kwargs)>"
            ]
          },
          "metadata": {},
          "execution_count": 19
        }
      ]
    },
    {
      "cell_type": "code",
      "source": [
        "inspect.signature(mult)"
      ],
      "metadata": {
        "colab": {
          "base_uri": "https://localhost:8080/"
        },
        "id": "RV_j7uNLthjs",
        "outputId": "b594abc9-2c31-4a59-974e-3220cb7fb333"
      },
      "execution_count": 20,
      "outputs": [
        {
          "output_type": "execute_result",
          "data": {
            "text/plain": [
              "<Signature (*args, **kwargs)>"
            ]
          },
          "metadata": {},
          "execution_count": 20
        }
      ]
    },
    {
      "cell_type": "code",
      "source": [
        "inspect.signature(add).parameters"
      ],
      "metadata": {
        "colab": {
          "base_uri": "https://localhost:8080/"
        },
        "id": "HuAybTEvtjaO",
        "outputId": "503cfa2d-a8a0-4fd4-bf06-dc1bc93b6c86"
      },
      "execution_count": 21,
      "outputs": [
        {
          "output_type": "execute_result",
          "data": {
            "text/plain": [
              "mappingproxy({'args': <Parameter \"*args\">, 'kwargs': <Parameter \"**kwargs\">})"
            ]
          },
          "metadata": {},
          "execution_count": 21
        }
      ]
    },
    {
      "cell_type": "code",
      "source": [
        "def counter(fn):\n",
        "  count=0\n",
        "\n",
        "  def inner(*args,**kwargs):\n",
        "    nonlocal count\n",
        "    count+=1\n",
        "    print(\"{0} was called {1} times\".format(fn.__name__,count))\n",
        "  inner.__name__=fn.__name__\n",
        "  inner.__doc__=fn.__doc__\n",
        "  return inner"
      ],
      "metadata": {
        "id": "VxYlwrhBtnB9"
      },
      "execution_count": 22,
      "outputs": []
    },
    {
      "cell_type": "code",
      "source": [
        "@counter\n",
        "def add(a:int, b:int=10)->int:\n",
        "  \"\"\"\n",
        "  returns sum of two integers\n",
        "  \"\"\"\n",
        "  return a+b"
      ],
      "metadata": {
        "id": "Aaux2M5huXHX"
      },
      "execution_count": 23,
      "outputs": []
    },
    {
      "cell_type": "code",
      "source": [
        "help(add)"
      ],
      "metadata": {
        "id": "kzdNfxOZuhvl",
        "outputId": "d94017b8-4655-4125-8846-d6b8e56b5b0d",
        "colab": {
          "base_uri": "https://localhost:8080/"
        }
      },
      "execution_count": 24,
      "outputs": [
        {
          "output_type": "stream",
          "name": "stdout",
          "text": [
            "Help on function add in module __main__:\n",
            "\n",
            "add(*args, **kwargs)\n",
            "    returns sum of two integers\n",
            "\n"
          ]
        }
      ]
    },
    {
      "cell_type": "code",
      "source": [
        "add.__name__"
      ],
      "metadata": {
        "id": "6w99Ht1munu0",
        "outputId": "2721fc9a-8e9d-455c-e224-6880a190d0a6",
        "colab": {
          "base_uri": "https://localhost:8080/",
          "height": 35
        }
      },
      "execution_count": 25,
      "outputs": [
        {
          "output_type": "execute_result",
          "data": {
            "application/vnd.google.colaboratory.intrinsic+json": {
              "type": "string"
            },
            "text/plain": [
              "'add'"
            ]
          },
          "metadata": {},
          "execution_count": 25
        }
      ]
    },
    {
      "cell_type": "code",
      "source": [
        "from functools import wraps"
      ],
      "metadata": {
        "id": "8PeMJW05up6c"
      },
      "execution_count": 26,
      "outputs": []
    },
    {
      "cell_type": "code",
      "source": [
        "def counter(fn):\n",
        "  count=0\n",
        "\n",
        "  @wraps(fn)\n",
        "  def inner(*args,**kwargs):\n",
        "    nonlocal count\n",
        "    count+=1\n",
        "    print(\"{0} was called {1} times\".format(fn.__name__,count))\n",
        "\n",
        "  return inner"
      ],
      "metadata": {
        "id": "IvMIPPoguwRV"
      },
      "execution_count": 27,
      "outputs": []
    },
    {
      "cell_type": "code",
      "source": [
        "@counter\n",
        "def add(a:int, b:int=10)->int:\n",
        "  \"\"\"\n",
        "  returns sum of two integers\n",
        "  \"\"\"\n",
        "  return a+b"
      ],
      "metadata": {
        "id": "EKVeMbAEvA9l"
      },
      "execution_count": 28,
      "outputs": []
    },
    {
      "cell_type": "code",
      "source": [
        "help(add)"
      ],
      "metadata": {
        "id": "FCjDPL16vMq-",
        "outputId": "2df62d33-73f5-455c-b418-1075d4fdd02c",
        "colab": {
          "base_uri": "https://localhost:8080/"
        }
      },
      "execution_count": 29,
      "outputs": [
        {
          "output_type": "stream",
          "name": "stdout",
          "text": [
            "Help on function add in module __main__:\n",
            "\n",
            "add(a: int, b: int = 10) -> int\n",
            "    returns sum of two integers\n",
            "\n"
          ]
        }
      ]
    },
    {
      "cell_type": "code",
      "source": [
        "inspect.getsource(add)"
      ],
      "metadata": {
        "id": "jZv_ONxqvNhv",
        "outputId": "4b176dbe-eaac-4898-8864-9cd770cf6b6a",
        "colab": {
          "base_uri": "https://localhost:8080/",
          "height": 35
        }
      },
      "execution_count": 30,
      "outputs": [
        {
          "output_type": "execute_result",
          "data": {
            "application/vnd.google.colaboratory.intrinsic+json": {
              "type": "string"
            },
            "text/plain": [
              "'@counter\\ndef add(a:int, b:int=10)->int:\\n  \"\"\"\\n  returns sum of two integers\\n  \"\"\"\\n  return a+b\\n'"
            ]
          },
          "metadata": {},
          "execution_count": 30
        }
      ]
    },
    {
      "cell_type": "code",
      "source": [
        "inspect.signature(add)"
      ],
      "metadata": {
        "id": "qVQ74EhOvQq-",
        "outputId": "294a1b2a-75e3-42f3-e385-1ae3a679f3f6",
        "colab": {
          "base_uri": "https://localhost:8080/"
        }
      },
      "execution_count": 31,
      "outputs": [
        {
          "output_type": "execute_result",
          "data": {
            "text/plain": [
              "<Signature (a: int, b: int = 10) -> int>"
            ]
          },
          "metadata": {},
          "execution_count": 31
        }
      ]
    },
    {
      "cell_type": "code",
      "source": [
        "inspect.signature(add).parameters"
      ],
      "metadata": {
        "id": "FXEUwEOsvTGs",
        "outputId": "671d1c86-7801-46fc-fc97-53a9e1a2ca9c",
        "colab": {
          "base_uri": "https://localhost:8080/"
        }
      },
      "execution_count": 32,
      "outputs": [
        {
          "output_type": "execute_result",
          "data": {
            "text/plain": [
              "mappingproxy({'a': <Parameter \"a: int\">, 'b': <Parameter \"b: int = 10\">})"
            ]
          },
          "metadata": {},
          "execution_count": 32
        }
      ]
    },
    {
      "cell_type": "code",
      "source": [
        "def timed(fn):\n",
        "  from time import perf_counter\n",
        "  from functools import wraps\n",
        "\n",
        "  @wraps(fn)\n",
        "  def inner(*args,**kwargs):\n",
        "    start=perf_counter()\n",
        "    result=fn(*args,**kwargs)\n",
        "    end=perf_counter()\n",
        "    elapsed=end-start\n",
        "\n",
        "    args_=[str(a) for a in args]\n",
        "    kwargs_=['{0}={1}'.format(k,v) for (k,v) in kwargs.items()]\n",
        "    all_args=args_+kwargs_\n",
        "    args_str=','.join(all_args)\n",
        "    print('{0}({1}) took {2:.6f}s to run.'.format(fn.__name__,\n",
        "                                                  args_str,\n",
        "                                                  elapsed))\n",
        "    return result\n",
        "  \n",
        "  return inner"
      ],
      "metadata": {
        "id": "UpIsUo01vW9O"
      },
      "execution_count": 33,
      "outputs": []
    },
    {
      "cell_type": "code",
      "source": [
        "def calc_recursive_fib(n):\n",
        "  if n<=2:\n",
        "    return 1\n",
        "  else:\n",
        "    return calc_recursive_fib(n-1)+calc_recursive_fib(n-2)"
      ],
      "metadata": {
        "id": "X6RsBv9xlgJ4"
      },
      "execution_count": 34,
      "outputs": []
    },
    {
      "cell_type": "code",
      "source": [
        "calc_recursive_fib(3)"
      ],
      "metadata": {
        "colab": {
          "base_uri": "https://localhost:8080/"
        },
        "id": "kUJL-8qLl7kG",
        "outputId": "91581382-4c87-4982-c320-fcedd8772e72"
      },
      "execution_count": 35,
      "outputs": [
        {
          "output_type": "execute_result",
          "data": {
            "text/plain": [
              "2"
            ]
          },
          "metadata": {},
          "execution_count": 35
        }
      ]
    },
    {
      "cell_type": "code",
      "source": [
        "calc_recursive_fib(6)"
      ],
      "metadata": {
        "colab": {
          "base_uri": "https://localhost:8080/"
        },
        "id": "HgLpZh-rmAca",
        "outputId": "aea79f70-a3be-499a-a293-e70a6f913e48"
      },
      "execution_count": 36,
      "outputs": [
        {
          "output_type": "execute_result",
          "data": {
            "text/plain": [
              "8"
            ]
          },
          "metadata": {},
          "execution_count": 36
        }
      ]
    },
    {
      "cell_type": "code",
      "source": [
        "@timed\n",
        "def fib_recursed(n):\n",
        "  return calc_recursive_fib(n)"
      ],
      "metadata": {
        "id": "5LAzSdzhmCxj"
      },
      "execution_count": 37,
      "outputs": []
    },
    {
      "cell_type": "code",
      "source": [
        "fib_recursed(33)"
      ],
      "metadata": {
        "colab": {
          "base_uri": "https://localhost:8080/"
        },
        "id": "Q79MQAZ7mJ4B",
        "outputId": "d496d18e-eadc-496f-ef86-e9032e99e853"
      },
      "execution_count": 38,
      "outputs": [
        {
          "output_type": "stream",
          "name": "stdout",
          "text": [
            "fib_recursed(33) took 1.020427s to run.\n"
          ]
        },
        {
          "output_type": "execute_result",
          "data": {
            "text/plain": [
              "3524578"
            ]
          },
          "metadata": {},
          "execution_count": 38
        }
      ]
    },
    {
      "cell_type": "code",
      "source": [
        "fib_recursed.__closure__"
      ],
      "metadata": {
        "colab": {
          "base_uri": "https://localhost:8080/"
        },
        "id": "Dnld9GFamMN7",
        "outputId": "f98b427c-648c-4358-d307-fe5800ff8119"
      },
      "execution_count": 39,
      "outputs": [
        {
          "output_type": "execute_result",
          "data": {
            "text/plain": [
              "(<cell at 0x7f3bdd9746d0: function object at 0x7f3bdd9a1290>,\n",
              " <cell at 0x7f3bdd974610: builtin_function_or_method object at 0x7f3bfc87e0a0>)"
            ]
          },
          "metadata": {},
          "execution_count": 39
        }
      ]
    },
    {
      "cell_type": "code",
      "source": [
        "fib_recursed.__code__.co_freevars"
      ],
      "metadata": {
        "colab": {
          "base_uri": "https://localhost:8080/"
        },
        "id": "sPmv8WmDmOkz",
        "outputId": "b17af65a-7214-494c-f1a0-c05fccec9773"
      },
      "execution_count": 40,
      "outputs": [
        {
          "output_type": "execute_result",
          "data": {
            "text/plain": [
              "('fn', 'perf_counter')"
            ]
          },
          "metadata": {},
          "execution_count": 40
        }
      ]
    },
    {
      "cell_type": "code",
      "source": [
        "@timed\n",
        "def fib_recursed_2(n):\n",
        "  if n<=2:\n",
        "    return 1\n",
        "  else:\n",
        "    return fib_recursed_2(n-1)+fib_recursed_2(n-2)"
      ],
      "metadata": {
        "id": "R3aVzLl7mT_s"
      },
      "execution_count": 41,
      "outputs": []
    },
    {
      "cell_type": "code",
      "source": [
        "fib_recursed_2.__closure__"
      ],
      "metadata": {
        "colab": {
          "base_uri": "https://localhost:8080/"
        },
        "id": "5II-vobHm9Si",
        "outputId": "b0b64be0-e12b-45a1-da90-9b5cc32be594"
      },
      "execution_count": 42,
      "outputs": [
        {
          "output_type": "execute_result",
          "data": {
            "text/plain": [
              "(<cell at 0x7f3bdd925b10: function object at 0x7f3bdd9a1d40>,\n",
              " <cell at 0x7f3bdd925b90: builtin_function_or_method object at 0x7f3bfc87e0a0>)"
            ]
          },
          "metadata": {},
          "execution_count": 42
        }
      ]
    },
    {
      "cell_type": "code",
      "source": [
        "fib_recursed_2.__code__.co_freevars"
      ],
      "metadata": {
        "colab": {
          "base_uri": "https://localhost:8080/"
        },
        "id": "EmgKABfcm_tr",
        "outputId": "0324d2e7-e4ee-4c2c-c7ca-c0559ef9a09a"
      },
      "execution_count": 43,
      "outputs": [
        {
          "output_type": "execute_result",
          "data": {
            "text/plain": [
              "('fn', 'perf_counter')"
            ]
          },
          "metadata": {},
          "execution_count": 43
        }
      ]
    },
    {
      "cell_type": "code",
      "source": [
        "fib_recursed_2(10)"
      ],
      "metadata": {
        "colab": {
          "base_uri": "https://localhost:8080/"
        },
        "id": "Pk9hngeGnA26",
        "outputId": "0056d897-d2c4-45a3-ae39-a0a4eb2a96fd"
      },
      "execution_count": 44,
      "outputs": [
        {
          "output_type": "stream",
          "name": "stdout",
          "text": [
            "fib_recursed_2(2) took 0.000001s to run.\n",
            "fib_recursed_2(1) took 0.000001s to run.\n",
            "fib_recursed_2(3) took 0.001909s to run.\n",
            "fib_recursed_2(2) took 0.000001s to run.\n",
            "fib_recursed_2(4) took 0.002425s to run.\n",
            "fib_recursed_2(2) took 0.000001s to run.\n",
            "fib_recursed_2(1) took 0.000001s to run.\n",
            "fib_recursed_2(3) took 0.000067s to run.\n",
            "fib_recursed_2(5) took 0.002561s to run.\n",
            "fib_recursed_2(2) took 0.000000s to run.\n",
            "fib_recursed_2(1) took 0.000000s to run.\n",
            "fib_recursed_2(3) took 0.000063s to run.\n",
            "fib_recursed_2(2) took 0.000000s to run.\n",
            "fib_recursed_2(4) took 0.000125s to run.\n",
            "fib_recursed_2(6) took 0.002748s to run.\n",
            "fib_recursed_2(2) took 0.000000s to run.\n",
            "fib_recursed_2(1) took 0.000001s to run.\n",
            "fib_recursed_2(3) took 0.000381s to run.\n",
            "fib_recursed_2(2) took 0.000001s to run.\n",
            "fib_recursed_2(4) took 0.000465s to run.\n",
            "fib_recursed_2(2) took 0.000000s to run.\n",
            "fib_recursed_2(1) took 0.000001s to run.\n",
            "fib_recursed_2(3) took 0.000070s to run.\n",
            "fib_recursed_2(5) took 0.000596s to run.\n",
            "fib_recursed_2(7) took 0.003406s to run.\n",
            "fib_recursed_2(2) took 0.000000s to run.\n",
            "fib_recursed_2(1) took 0.000000s to run.\n",
            "fib_recursed_2(3) took 0.000062s to run.\n",
            "fib_recursed_2(2) took 0.000000s to run.\n",
            "fib_recursed_2(4) took 0.000123s to run.\n",
            "fib_recursed_2(2) took 0.000000s to run.\n",
            "fib_recursed_2(1) took 0.000000s to run.\n",
            "fib_recursed_2(3) took 0.000061s to run.\n",
            "fib_recursed_2(5) took 0.000246s to run.\n",
            "fib_recursed_2(2) took 0.000000s to run.\n",
            "fib_recursed_2(1) took 0.000000s to run.\n",
            "fib_recursed_2(3) took 0.000063s to run.\n",
            "fib_recursed_2(2) took 0.000000s to run.\n",
            "fib_recursed_2(4) took 0.000124s to run.\n",
            "fib_recursed_2(6) took 0.000432s to run.\n",
            "fib_recursed_2(8) took 0.003899s to run.\n",
            "fib_recursed_2(2) took 0.000000s to run.\n",
            "fib_recursed_2(1) took 0.000000s to run.\n",
            "fib_recursed_2(3) took 0.000062s to run.\n",
            "fib_recursed_2(2) took 0.000000s to run.\n",
            "fib_recursed_2(4) took 0.000123s to run.\n",
            "fib_recursed_2(2) took 0.000000s to run.\n",
            "fib_recursed_2(1) took 0.000000s to run.\n",
            "fib_recursed_2(3) took 0.000061s to run.\n",
            "fib_recursed_2(5) took 0.000255s to run.\n",
            "fib_recursed_2(2) took 0.000000s to run.\n",
            "fib_recursed_2(1) took 0.000000s to run.\n",
            "fib_recursed_2(3) took 0.000078s to run.\n",
            "fib_recursed_2(2) took 0.000001s to run.\n",
            "fib_recursed_2(4) took 0.000232s to run.\n",
            "fib_recursed_2(6) took 0.000552s to run.\n",
            "fib_recursed_2(2) took 0.000000s to run.\n",
            "fib_recursed_2(1) took 0.000000s to run.\n",
            "fib_recursed_2(3) took 0.000058s to run.\n",
            "fib_recursed_2(2) took 0.000000s to run.\n",
            "fib_recursed_2(4) took 0.000119s to run.\n",
            "fib_recursed_2(2) took 0.000000s to run.\n",
            "fib_recursed_2(1) took 0.000000s to run.\n",
            "fib_recursed_2(3) took 0.000060s to run.\n",
            "fib_recursed_2(5) took 0.000239s to run.\n",
            "fib_recursed_2(7) took 0.000852s to run.\n",
            "fib_recursed_2(9) took 0.004810s to run.\n",
            "fib_recursed_2(2) took 0.000000s to run.\n",
            "fib_recursed_2(1) took 0.000000s to run.\n",
            "fib_recursed_2(3) took 0.000059s to run.\n",
            "fib_recursed_2(2) took 0.000000s to run.\n",
            "fib_recursed_2(4) took 0.000121s to run.\n",
            "fib_recursed_2(2) took 0.000000s to run.\n",
            "fib_recursed_2(1) took 0.000000s to run.\n",
            "fib_recursed_2(3) took 0.000058s to run.\n",
            "fib_recursed_2(5) took 0.000238s to run.\n",
            "fib_recursed_2(2) took 0.000000s to run.\n",
            "fib_recursed_2(1) took 0.000000s to run.\n",
            "fib_recursed_2(3) took 0.000072s to run.\n",
            "fib_recursed_2(2) took 0.000000s to run.\n",
            "fib_recursed_2(4) took 0.000134s to run.\n",
            "fib_recursed_2(6) took 0.000436s to run.\n",
            "fib_recursed_2(2) took 0.000000s to run.\n",
            "fib_recursed_2(1) took 0.000000s to run.\n",
            "fib_recursed_2(3) took 0.000070s to run.\n",
            "fib_recursed_2(2) took 0.000000s to run.\n",
            "fib_recursed_2(4) took 0.000134s to run.\n",
            "fib_recursed_2(2) took 0.000000s to run.\n",
            "fib_recursed_2(1) took 0.000000s to run.\n",
            "fib_recursed_2(3) took 0.000065s to run.\n",
            "fib_recursed_2(5) took 0.000262s to run.\n",
            "fib_recursed_2(7) took 0.000763s to run.\n",
            "fib_recursed_2(2) took 0.000000s to run.\n",
            "fib_recursed_2(1) took 0.000000s to run.\n",
            "fib_recursed_2(3) took 0.000061s to run.\n",
            "fib_recursed_2(2) took 0.000000s to run.\n",
            "fib_recursed_2(4) took 0.000122s to run.\n",
            "fib_recursed_2(2) took 0.000000s to run.\n",
            "fib_recursed_2(1) took 0.000000s to run.\n",
            "fib_recursed_2(3) took 0.000058s to run.\n",
            "fib_recursed_2(5) took 0.000239s to run.\n",
            "fib_recursed_2(2) took 0.000000s to run.\n",
            "fib_recursed_2(1) took 0.000000s to run.\n",
            "fib_recursed_2(3) took 0.000060s to run.\n",
            "fib_recursed_2(2) took 0.000000s to run.\n",
            "fib_recursed_2(4) took 0.000123s to run.\n",
            "fib_recursed_2(6) took 0.000425s to run.\n",
            "fib_recursed_2(8) took 0.001252s to run.\n",
            "fib_recursed_2(10) took 0.006209s to run.\n"
          ]
        },
        {
          "output_type": "execute_result",
          "data": {
            "text/plain": [
              "55"
            ]
          },
          "metadata": {},
          "execution_count": 44
        }
      ]
    },
    {
      "cell_type": "code",
      "source": [
        "@timed\n",
        "def fib_loop(n):\n",
        "  fib_1=1\n",
        "  fib_2=1\n",
        "  for i in range(3,n+1):\n",
        "    fib_1,fib_2=fib_2,fib_1+fib_2\n",
        "  return fib_2"
      ],
      "metadata": {
        "id": "oj36GE7znGMy"
      },
      "execution_count": 45,
      "outputs": []
    },
    {
      "cell_type": "code",
      "source": [
        "fib_loop(3)"
      ],
      "metadata": {
        "id": "1INGA3U0r-BD",
        "outputId": "4e5bace1-6ae9-45f9-da23-4ef95140486e",
        "colab": {
          "base_uri": "https://localhost:8080/"
        }
      },
      "execution_count": 46,
      "outputs": [
        {
          "output_type": "stream",
          "name": "stdout",
          "text": [
            "fib_loop(3) took 0.000005s to run.\n"
          ]
        },
        {
          "output_type": "execute_result",
          "data": {
            "text/plain": [
              "2"
            ]
          },
          "metadata": {},
          "execution_count": 46
        }
      ]
    },
    {
      "cell_type": "code",
      "source": [
        "fib_loop(6)"
      ],
      "metadata": {
        "id": "EKfbCUnYr_5L",
        "outputId": "532d24bb-183d-412a-b66b-f7f7ad6c3d03",
        "colab": {
          "base_uri": "https://localhost:8080/"
        }
      },
      "execution_count": 47,
      "outputs": [
        {
          "output_type": "stream",
          "name": "stdout",
          "text": [
            "fib_loop(6) took 0.000005s to run.\n"
          ]
        },
        {
          "output_type": "execute_result",
          "data": {
            "text/plain": [
              "8"
            ]
          },
          "metadata": {},
          "execution_count": 47
        }
      ]
    },
    {
      "cell_type": "code",
      "source": [
        "fib_loop.__closure__"
      ],
      "metadata": {
        "id": "HrnENVxasDTM",
        "outputId": "9c397abe-ee15-41af-8086-5b7846ac25d8",
        "colab": {
          "base_uri": "https://localhost:8080/"
        }
      },
      "execution_count": 48,
      "outputs": [
        {
          "output_type": "execute_result",
          "data": {
            "text/plain": [
              "(<cell at 0x7f3bdd986f10: function object at 0x7f3bdd9289e0>,\n",
              " <cell at 0x7f3bdd986fd0: builtin_function_or_method object at 0x7f3bfc87e0a0>)"
            ]
          },
          "metadata": {},
          "execution_count": 48
        }
      ]
    },
    {
      "cell_type": "code",
      "source": [
        "fib_loop.__code__.co_freevars"
      ],
      "metadata": {
        "id": "4k-J8ip77663",
        "outputId": "cea39f40-5118-4cfe-f598-ceaa58a2cc77",
        "colab": {
          "base_uri": "https://localhost:8080/"
        }
      },
      "execution_count": 49,
      "outputs": [
        {
          "output_type": "execute_result",
          "data": {
            "text/plain": [
              "('fn', 'perf_counter')"
            ]
          },
          "metadata": {},
          "execution_count": 49
        }
      ]
    },
    {
      "cell_type": "code",
      "source": [
        "from functools import reduce\n",
        "\n",
        "@timed\n",
        "def fib_reduce(n):\n",
        "  initial=(1,0)\n",
        "  dummy=range(n-1)\n",
        "  fib_n=reduce(lambda prev,n: (prev[0]+prev[1],prev[0]),\n",
        "               dummy,\n",
        "               initial)\n",
        "  return fib_n[0]"
      ],
      "metadata": {
        "id": "x44AufI-7-AZ"
      },
      "execution_count": 50,
      "outputs": []
    },
    {
      "cell_type": "code",
      "source": [
        "fib_reduce(3)"
      ],
      "metadata": {
        "id": "vsMBjwKl8dPY",
        "outputId": "9bdd0e0a-6982-4c10-be83-5e38a7bdd213",
        "colab": {
          "base_uri": "https://localhost:8080/"
        }
      },
      "execution_count": 51,
      "outputs": [
        {
          "output_type": "stream",
          "name": "stdout",
          "text": [
            "fib_reduce(3) took 0.000008s to run.\n"
          ]
        },
        {
          "output_type": "execute_result",
          "data": {
            "text/plain": [
              "2"
            ]
          },
          "metadata": {},
          "execution_count": 51
        }
      ]
    },
    {
      "cell_type": "code",
      "source": [
        "a=lambda x,y: (x+y,x-y)"
      ],
      "metadata": {
        "id": "Af5Octnm8eZw"
      },
      "execution_count": 52,
      "outputs": []
    },
    {
      "cell_type": "code",
      "source": [
        "a(4,5)"
      ],
      "metadata": {
        "id": "uTx2UneV8xbB",
        "outputId": "ec0dd9f8-2f4f-4eaa-948f-76b538000e6b",
        "colab": {
          "base_uri": "https://localhost:8080/"
        }
      },
      "execution_count": 53,
      "outputs": [
        {
          "output_type": "execute_result",
          "data": {
            "text/plain": [
              "(9, -1)"
            ]
          },
          "metadata": {},
          "execution_count": 53
        }
      ]
    },
    {
      "cell_type": "code",
      "source": [
        "reduce(lambda x,y:x if x>y else y ,range(10))"
      ],
      "metadata": {
        "id": "wprx3j7I9O2p",
        "outputId": "15da1ba8-58ea-4225-ba3b-1a55e5359674",
        "colab": {
          "base_uri": "https://localhost:8080/"
        }
      },
      "execution_count": 54,
      "outputs": [
        {
          "output_type": "execute_result",
          "data": {
            "text/plain": [
              "9"
            ]
          },
          "metadata": {},
          "execution_count": 54
        }
      ]
    },
    {
      "cell_type": "code",
      "source": [
        "fib_recursed(35)\n",
        "fib_loop(35)\n",
        "fib_reduce(35)"
      ],
      "metadata": {
        "id": "yfzevm-U-9IZ",
        "colab": {
          "base_uri": "https://localhost:8080/"
        },
        "outputId": "905942da-877b-4470-fafd-6fd796b69c01"
      },
      "execution_count": 55,
      "outputs": [
        {
          "output_type": "stream",
          "name": "stdout",
          "text": [
            "fib_recursed(35) took 2.828538s to run.\n",
            "fib_loop(35) took 0.000005s to run.\n",
            "fib_reduce(35) took 0.000011s to run.\n"
          ]
        },
        {
          "output_type": "execute_result",
          "data": {
            "text/plain": [
              "9227465"
            ]
          },
          "metadata": {},
          "execution_count": 55
        }
      ]
    },
    {
      "cell_type": "code",
      "source": [
        "for i in range(10):\n",
        "  result=fib_loop(10000)"
      ],
      "metadata": {
        "colab": {
          "base_uri": "https://localhost:8080/"
        },
        "id": "46WtVuoiVwYE",
        "outputId": "5527a10b-e13e-4d3e-f064-16eddce5f4c2"
      },
      "execution_count": 56,
      "outputs": [
        {
          "output_type": "stream",
          "name": "stdout",
          "text": [
            "fib_loop(10000) took 0.003691s to run.\n",
            "fib_loop(10000) took 0.003921s to run.\n",
            "fib_loop(10000) took 0.003698s to run.\n",
            "fib_loop(10000) took 0.002423s to run.\n",
            "fib_loop(10000) took 0.002360s to run.\n",
            "fib_loop(10000) took 0.002371s to run.\n",
            "fib_loop(10000) took 0.002329s to run.\n",
            "fib_loop(10000) took 0.002507s to run.\n",
            "fib_loop(10000) took 0.002437s to run.\n",
            "fib_loop(10000) took 0.002542s to run.\n"
          ]
        }
      ]
    },
    {
      "cell_type": "code",
      "source": [
        "for i in range(10):\n",
        "  result=fib_reduce(10000)"
      ],
      "metadata": {
        "colab": {
          "base_uri": "https://localhost:8080/"
        },
        "id": "0ZdiRC_YWZRi",
        "outputId": "69be8ed3-2905-4f19-ce2d-2b92f83459da"
      },
      "execution_count": 57,
      "outputs": [
        {
          "output_type": "stream",
          "name": "stdout",
          "text": [
            "fib_reduce(10000) took 0.005066s to run.\n",
            "fib_reduce(10000) took 0.005662s to run.\n",
            "fib_reduce(10000) took 0.005487s to run.\n",
            "fib_reduce(10000) took 0.003551s to run.\n",
            "fib_reduce(10000) took 0.004284s to run.\n",
            "fib_reduce(10000) took 0.003898s to run.\n",
            "fib_reduce(10000) took 0.003559s to run.\n",
            "fib_reduce(10000) took 0.003542s to run.\n",
            "fib_reduce(10000) took 0.003514s to run.\n",
            "fib_reduce(10000) took 0.003503s to run.\n"
          ]
        }
      ]
    },
    {
      "cell_type": "code",
      "source": [
        "from functools import reduce\n",
        "fib_1=timed(lambda n: reduce(lambda prev, n:(prev[0]+prev[1],prev[0]),\n",
        "                            range(n),\n",
        "                            (0,1))[0])"
      ],
      "metadata": {
        "id": "tQFOcGueWdux"
      },
      "execution_count": 58,
      "outputs": []
    },
    {
      "cell_type": "code",
      "source": [
        "fib_loop(100)"
      ],
      "metadata": {
        "colab": {
          "base_uri": "https://localhost:8080/"
        },
        "id": "sl_Py97JXFJy",
        "outputId": "f2e9c386-5fb4-41c9-9ad2-a18b7a7013cb"
      },
      "execution_count": 59,
      "outputs": [
        {
          "output_type": "stream",
          "name": "stdout",
          "text": [
            "fib_loop(100) took 0.000014s to run.\n"
          ]
        },
        {
          "output_type": "execute_result",
          "data": {
            "text/plain": [
              "354224848179261915075"
            ]
          },
          "metadata": {},
          "execution_count": 59
        }
      ]
    },
    {
      "cell_type": "code",
      "source": [
        "fib_1(100)"
      ],
      "metadata": {
        "colab": {
          "base_uri": "https://localhost:8080/"
        },
        "id": "RNhz8R2xXJq4",
        "outputId": "e0faab11-4f2d-41a0-e6da-3b19919351c2"
      },
      "execution_count": 60,
      "outputs": [
        {
          "output_type": "stream",
          "name": "stdout",
          "text": [
            "<lambda>(100) took 0.000043s to run.\n"
          ]
        },
        {
          "output_type": "execute_result",
          "data": {
            "text/plain": [
              "354224848179261915075"
            ]
          },
          "metadata": {},
          "execution_count": 60
        }
      ]
    },
    {
      "cell_type": "code",
      "source": [
        "def logged(fn):\n",
        "  from functools import wraps\n",
        "  from datetime import datetime,timezone\n",
        "\n",
        "  @wraps(fn)\n",
        "  def inner(*args,**kwargs):\n",
        "    run_dt=datetime.now(timezone.utc)\n",
        "    result=fn(*args,**kwargs)\n",
        "    print('{0}: called {1}'.format(fn.__name__,run_dt))\n",
        "    return result\n",
        "\n",
        "  return inner"
      ],
      "metadata": {
        "id": "KcbKdZHVXLjT"
      },
      "execution_count": 61,
      "outputs": []
    },
    {
      "cell_type": "code",
      "source": [
        "@timed\n",
        "@logged\n",
        "def factorial(n):\n",
        "  from operator import mul\n",
        "  from functools import reduce\n",
        "  return reduce(mul,range(1,n+1))"
      ],
      "metadata": {
        "id": "nSRJhNAJaGR8"
      },
      "execution_count": 62,
      "outputs": []
    },
    {
      "cell_type": "code",
      "source": [
        "factorial(10)"
      ],
      "metadata": {
        "id": "WiG2lLoVaf2E",
        "outputId": "f3d216b4-996f-408f-89c4-dea6fee4b8d3",
        "colab": {
          "base_uri": "https://localhost:8080/"
        }
      },
      "execution_count": 63,
      "outputs": [
        {
          "output_type": "stream",
          "name": "stdout",
          "text": [
            "factorial: called 2022-02-21 13:30:09.433351+00:00\n",
            "factorial(10) took 0.001045s to run.\n"
          ]
        },
        {
          "output_type": "execute_result",
          "data": {
            "text/plain": [
              "3628800"
            ]
          },
          "metadata": {},
          "execution_count": 63
        }
      ]
    },
    {
      "cell_type": "code",
      "source": [
        "factorial.__closure__"
      ],
      "metadata": {
        "id": "huFSXynfahg8",
        "outputId": "535a1cfd-8ad4-40d9-c161-8ed0499469cc",
        "colab": {
          "base_uri": "https://localhost:8080/"
        }
      },
      "execution_count": 64,
      "outputs": [
        {
          "output_type": "execute_result",
          "data": {
            "text/plain": [
              "(<cell at 0x7f3bdd93bcd0: function object at 0x7f3bdd947320>,\n",
              " <cell at 0x7f3bdd93bd50: builtin_function_or_method object at 0x7f3bfc87e0a0>)"
            ]
          },
          "metadata": {},
          "execution_count": 64
        }
      ]
    },
    {
      "cell_type": "code",
      "source": [
        "factorial.__code__.co_freevars"
      ],
      "metadata": {
        "id": "JaOsMMH9alCj",
        "outputId": "417ba758-36d7-4022-e8d7-08d40b0c3aa0",
        "colab": {
          "base_uri": "https://localhost:8080/"
        }
      },
      "execution_count": 65,
      "outputs": [
        {
          "output_type": "execute_result",
          "data": {
            "text/plain": [
              "('fn', 'perf_counter')"
            ]
          },
          "metadata": {},
          "execution_count": 65
        }
      ]
    },
    {
      "cell_type": "code",
      "source": [
        "@logged\n",
        "@timed\n",
        "def factorial(n):\n",
        "    from operator import mul\n",
        "    from functools import reduce\n",
        "    \n",
        "    return reduce(mul, range(1, n+1))"
      ],
      "metadata": {
        "id": "DxU9jFaBanyj"
      },
      "execution_count": 66,
      "outputs": []
    },
    {
      "cell_type": "code",
      "source": [
        "factorial(10)"
      ],
      "metadata": {
        "id": "RNEgcrGea7ps",
        "outputId": "324f712e-c817-4521-c9da-b0c8be1bb7e6",
        "colab": {
          "base_uri": "https://localhost:8080/"
        }
      },
      "execution_count": 67,
      "outputs": [
        {
          "output_type": "stream",
          "name": "stdout",
          "text": [
            "factorial(10) took 0.000019s to run.\n",
            "factorial: called 2022-02-21 13:30:09.485494+00:00\n"
          ]
        },
        {
          "output_type": "execute_result",
          "data": {
            "text/plain": [
              "3628800"
            ]
          },
          "metadata": {},
          "execution_count": 67
        }
      ]
    },
    {
      "cell_type": "code",
      "source": [
        "def dec_1(fn):\n",
        "    def inner():\n",
        "        print('running dec_1')\n",
        "        return fn()\n",
        "    return inner"
      ],
      "metadata": {
        "id": "frmSIN4pa9e2"
      },
      "execution_count": 68,
      "outputs": []
    },
    {
      "cell_type": "code",
      "source": [
        "def dec_2(fn):\n",
        "    def inner():\n",
        "        print('running dec_2')\n",
        "        return fn()\n",
        "    return inner"
      ],
      "metadata": {
        "id": "GMuIjUARehUG"
      },
      "execution_count": 69,
      "outputs": []
    },
    {
      "cell_type": "code",
      "source": [
        "@dec_1\n",
        "@dec_2\n",
        "def my_func():\n",
        "    print('running my_func')"
      ],
      "metadata": {
        "id": "OJjgAGxkei3P"
      },
      "execution_count": 70,
      "outputs": []
    },
    {
      "cell_type": "code",
      "source": [
        "my_func()"
      ],
      "metadata": {
        "id": "VWW-hLE8ekVH",
        "outputId": "957c0519-f5c8-48f9-c8ea-435ae7d9543d",
        "colab": {
          "base_uri": "https://localhost:8080/"
        }
      },
      "execution_count": 71,
      "outputs": [
        {
          "output_type": "stream",
          "name": "stdout",
          "text": [
            "running dec_1\n",
            "running dec_2\n",
            "running my_func\n"
          ]
        }
      ]
    },
    {
      "cell_type": "code",
      "source": [
        "@dec_2\n",
        "@dec_1\n",
        "def my_func():\n",
        "    print('running my_func')"
      ],
      "metadata": {
        "id": "YX0oWv3TemGo"
      },
      "execution_count": 72,
      "outputs": []
    },
    {
      "cell_type": "code",
      "source": [
        "my_func()"
      ],
      "metadata": {
        "id": "NueNgdmKenk3",
        "outputId": "2ed1f096-44fc-434e-b2cf-e40986342381",
        "colab": {
          "base_uri": "https://localhost:8080/"
        }
      },
      "execution_count": 73,
      "outputs": [
        {
          "output_type": "stream",
          "name": "stdout",
          "text": [
            "running dec_2\n",
            "running dec_1\n",
            "running my_func\n"
          ]
        }
      ]
    }
  ]
}