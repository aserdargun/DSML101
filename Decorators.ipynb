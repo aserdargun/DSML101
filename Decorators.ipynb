{
  "nbformat": 4,
  "nbformat_minor": 0,
  "metadata": {
    "colab": {
      "name": "Decorators.ipynb",
      "provenance": [],
      "collapsed_sections": [],
      "mount_file_id": "1EKujnlbBXCMROfDBpSp8wMl-qGSfFvvY",
      "authorship_tag": "ABX9TyN4hxGAkRPNX2ectv505ZZo",
      "include_colab_link": true
    },
    "kernelspec": {
      "name": "python3",
      "display_name": "Python 3"
    },
    "language_info": {
      "name": "python"
    }
  },
  "cells": [
    {
      "cell_type": "markdown",
      "metadata": {
        "id": "view-in-github",
        "colab_type": "text"
      },
      "source": [
        "<a href=\"https://colab.research.google.com/github/aserdargun/aserdargun/blob/main/Decorators.ipynb\" target=\"_parent\"><img src=\"https://colab.research.google.com/assets/colab-badge.svg\" alt=\"Open In Colab\"/></a>"
      ]
    },
    {
      "cell_type": "code",
      "source": [
        "def counter(fn):\n",
        "  count=0\n",
        "\n",
        "  def inner(*args,**kwargs):\n",
        "    nonlocal count\n",
        "    count+=1\n",
        "    print('Function {0} was called {1} times'.format(fn.__name__,count))\n",
        "    return fn(*args,**kwargs)\n",
        "  return inner"
      ],
      "metadata": {
        "id": "vKiQu9h80zJ_"
      },
      "execution_count": 6,
      "outputs": []
    },
    {
      "cell_type": "code",
      "source": [
        "def add(a,b=0):\n",
        "  \"\"\"\n",
        "  returns the sum of a and b\n",
        "  \"\"\"\n",
        "  return a+b"
      ],
      "metadata": {
        "id": "D0PxmyIA1gJj"
      },
      "execution_count": 7,
      "outputs": []
    },
    {
      "cell_type": "code",
      "source": [
        "help(add)"
      ],
      "metadata": {
        "id": "Pj3K5MkV1wSh",
        "outputId": "f06c69b9-7bbf-4bfe-e868-11164efb9489",
        "colab": {
          "base_uri": "https://localhost:8080/"
        }
      },
      "execution_count": 8,
      "outputs": [
        {
          "output_type": "stream",
          "name": "stdout",
          "text": [
            "Help on function add in module __main__:\n",
            "\n",
            "add(a, b=0)\n",
            "    returns the sum of a and b\n",
            "\n"
          ]
        }
      ]
    },
    {
      "cell_type": "code",
      "source": [
        "id(add)"
      ],
      "metadata": {
        "id": "RuHV5qrf1w8e",
        "outputId": "fc4278e3-f1b7-48cb-d9b6-d667102e2b0a",
        "colab": {
          "base_uri": "https://localhost:8080/"
        }
      },
      "execution_count": 9,
      "outputs": [
        {
          "output_type": "execute_result",
          "data": {
            "text/plain": [
              "140335399888944"
            ]
          },
          "metadata": {},
          "execution_count": 9
        }
      ]
    },
    {
      "cell_type": "code",
      "source": [
        "add=counter(add)"
      ],
      "metadata": {
        "id": "fuF9Is372CSO"
      },
      "execution_count": 10,
      "outputs": []
    },
    {
      "cell_type": "code",
      "source": [
        "id(add)"
      ],
      "metadata": {
        "id": "K6jT1v7O2EiQ",
        "outputId": "21f9b760-5a7e-409b-a97f-5b8da910a6b2",
        "colab": {
          "base_uri": "https://localhost:8080/"
        }
      },
      "execution_count": 11,
      "outputs": [
        {
          "output_type": "execute_result",
          "data": {
            "text/plain": [
              "140335399890096"
            ]
          },
          "metadata": {},
          "execution_count": 11
        }
      ]
    },
    {
      "cell_type": "code",
      "source": [
        "add(1,2)"
      ],
      "metadata": {
        "id": "xpcrzzI62F9g",
        "outputId": "13d3bec8-6159-4d27-9071-08a88927e003",
        "colab": {
          "base_uri": "https://localhost:8080/"
        }
      },
      "execution_count": 12,
      "outputs": [
        {
          "output_type": "stream",
          "name": "stdout",
          "text": [
            "Function add was called 1 times\n"
          ]
        },
        {
          "output_type": "execute_result",
          "data": {
            "text/plain": [
              "3"
            ]
          },
          "metadata": {},
          "execution_count": 12
        }
      ]
    },
    {
      "cell_type": "code",
      "source": [
        "add(2,3)"
      ],
      "metadata": {
        "id": "S3JSsJjy2HgB",
        "outputId": "79cd95d6-51e3-436e-d10f-233df815c4c0",
        "colab": {
          "base_uri": "https://localhost:8080/"
        }
      },
      "execution_count": 13,
      "outputs": [
        {
          "output_type": "stream",
          "name": "stdout",
          "text": [
            "Function add was called 2 times\n"
          ]
        },
        {
          "output_type": "execute_result",
          "data": {
            "text/plain": [
              "5"
            ]
          },
          "metadata": {},
          "execution_count": 13
        }
      ]
    },
    {
      "cell_type": "code",
      "source": [
        "add(3,4)"
      ],
      "metadata": {
        "id": "pwQiV7_u2JA5",
        "outputId": "f81b70f9-44b8-4719-d717-d6f5e74f09b5",
        "colab": {
          "base_uri": "https://localhost:8080/"
        }
      },
      "execution_count": 14,
      "outputs": [
        {
          "output_type": "stream",
          "name": "stdout",
          "text": [
            "Function add was called 3 times\n"
          ]
        },
        {
          "output_type": "execute_result",
          "data": {
            "text/plain": [
              "7"
            ]
          },
          "metadata": {},
          "execution_count": 14
        }
      ]
    },
    {
      "cell_type": "code",
      "source": [
        "@counter\n",
        "def mult(a:float, b:float=1,c:float=1)->float:\n",
        "  \"\"\"\n",
        "  returns the product of a,b, and c\n",
        "  \"\"\"\n",
        "  return a*b*c"
      ],
      "metadata": {
        "id": "HF7eg8Y72NSQ"
      },
      "execution_count": 15,
      "outputs": []
    },
    {
      "cell_type": "code",
      "source": [
        "mult(1,2,3)"
      ],
      "metadata": {
        "colab": {
          "base_uri": "https://localhost:8080/"
        },
        "id": "05eHi6o9tCGm",
        "outputId": "7092e823-a258-4ae7-ede5-53e9d84b9c70"
      },
      "execution_count": 16,
      "outputs": [
        {
          "output_type": "stream",
          "name": "stdout",
          "text": [
            "Function mult was called 1 times\n"
          ]
        },
        {
          "output_type": "execute_result",
          "data": {
            "text/plain": [
              "6"
            ]
          },
          "metadata": {},
          "execution_count": 16
        }
      ]
    },
    {
      "cell_type": "code",
      "source": [
        "add.__name__"
      ],
      "metadata": {
        "colab": {
          "base_uri": "https://localhost:8080/",
          "height": 35
        },
        "id": "Q7mv9pmVtMDd",
        "outputId": "aa41f750-f6fd-4d5e-9a96-5f371c00b479"
      },
      "execution_count": 17,
      "outputs": [
        {
          "output_type": "execute_result",
          "data": {
            "application/vnd.google.colaboratory.intrinsic+json": {
              "type": "string"
            },
            "text/plain": [
              "'inner'"
            ]
          },
          "metadata": {},
          "execution_count": 17
        }
      ]
    },
    {
      "cell_type": "code",
      "source": [
        "mult.__name__"
      ],
      "metadata": {
        "colab": {
          "base_uri": "https://localhost:8080/",
          "height": 35
        },
        "id": "x2bSBRqJtPf0",
        "outputId": "c9f2b14d-bc1b-4089-a8a7-1417e9d50d53"
      },
      "execution_count": 18,
      "outputs": [
        {
          "output_type": "execute_result",
          "data": {
            "application/vnd.google.colaboratory.intrinsic+json": {
              "type": "string"
            },
            "text/plain": [
              "'inner'"
            ]
          },
          "metadata": {},
          "execution_count": 18
        }
      ]
    },
    {
      "cell_type": "code",
      "source": [
        "help(add)"
      ],
      "metadata": {
        "colab": {
          "base_uri": "https://localhost:8080/"
        },
        "id": "aTNXK8MhtRBl",
        "outputId": "6468db8e-0372-4379-c627-2b04ccc2ea2b"
      },
      "execution_count": 19,
      "outputs": [
        {
          "output_type": "stream",
          "name": "stdout",
          "text": [
            "Help on function inner in module __main__:\n",
            "\n",
            "inner(*args, **kwargs)\n",
            "\n"
          ]
        }
      ]
    },
    {
      "cell_type": "code",
      "source": [
        "help(mult)"
      ],
      "metadata": {
        "colab": {
          "base_uri": "https://localhost:8080/"
        },
        "id": "-jBnod7itSq-",
        "outputId": "487ba769-9063-473a-8035-0df31cbe8e9c"
      },
      "execution_count": 20,
      "outputs": [
        {
          "output_type": "stream",
          "name": "stdout",
          "text": [
            "Help on function inner in module __main__:\n",
            "\n",
            "inner(*args, **kwargs)\n",
            "\n"
          ]
        }
      ]
    },
    {
      "cell_type": "code",
      "source": [
        "import inspect"
      ],
      "metadata": {
        "id": "HvZLNHjytUdM"
      },
      "execution_count": 21,
      "outputs": []
    },
    {
      "cell_type": "code",
      "source": [
        "inspect.getsource(add)"
      ],
      "metadata": {
        "colab": {
          "base_uri": "https://localhost:8080/",
          "height": 35
        },
        "id": "lemJhF7_tY3f",
        "outputId": "9cfc0e54-c814-425b-ff4f-9071d5abf710"
      },
      "execution_count": 22,
      "outputs": [
        {
          "output_type": "execute_result",
          "data": {
            "application/vnd.google.colaboratory.intrinsic+json": {
              "type": "string"
            },
            "text/plain": [
              "\"  def inner(*args,**kwargs):\\n    nonlocal count\\n    count+=1\\n    print('Function {0} was called {1} times'.format(fn.__name__,count))\\n    return fn(*args,**kwargs)\\n\""
            ]
          },
          "metadata": {},
          "execution_count": 22
        }
      ]
    },
    {
      "cell_type": "code",
      "source": [
        "inspect.getsource(mult)"
      ],
      "metadata": {
        "colab": {
          "base_uri": "https://localhost:8080/",
          "height": 35
        },
        "id": "XBS4sSIXtan1",
        "outputId": "e8b4322c-102b-4bcd-b470-f31584bdad60"
      },
      "execution_count": 23,
      "outputs": [
        {
          "output_type": "execute_result",
          "data": {
            "application/vnd.google.colaboratory.intrinsic+json": {
              "type": "string"
            },
            "text/plain": [
              "\"  def inner(*args,**kwargs):\\n    nonlocal count\\n    count+=1\\n    print('Function {0} was called {1} times'.format(fn.__name__,count))\\n    return fn(*args,**kwargs)\\n\""
            ]
          },
          "metadata": {},
          "execution_count": 23
        }
      ]
    },
    {
      "cell_type": "code",
      "source": [
        "inspect.signature(add)"
      ],
      "metadata": {
        "colab": {
          "base_uri": "https://localhost:8080/"
        },
        "id": "mIo51lxitdmN",
        "outputId": "0560b0b1-f83e-432b-c68b-2c0e70236bcf"
      },
      "execution_count": 24,
      "outputs": [
        {
          "output_type": "execute_result",
          "data": {
            "text/plain": [
              "<Signature (*args, **kwargs)>"
            ]
          },
          "metadata": {},
          "execution_count": 24
        }
      ]
    },
    {
      "cell_type": "code",
      "source": [
        "inspect.signature(mult)"
      ],
      "metadata": {
        "colab": {
          "base_uri": "https://localhost:8080/"
        },
        "id": "RV_j7uNLthjs",
        "outputId": "b08ea262-022f-4f47-ccb0-883c15b9f0f6"
      },
      "execution_count": 25,
      "outputs": [
        {
          "output_type": "execute_result",
          "data": {
            "text/plain": [
              "<Signature (*args, **kwargs)>"
            ]
          },
          "metadata": {},
          "execution_count": 25
        }
      ]
    },
    {
      "cell_type": "code",
      "source": [
        "inspect.signature(add).parameters"
      ],
      "metadata": {
        "colab": {
          "base_uri": "https://localhost:8080/"
        },
        "id": "HuAybTEvtjaO",
        "outputId": "84862d61-ba4c-482c-a849-c75b35e64ccb"
      },
      "execution_count": 26,
      "outputs": [
        {
          "output_type": "execute_result",
          "data": {
            "text/plain": [
              "mappingproxy({'args': <Parameter \"*args\">, 'kwargs': <Parameter \"**kwargs\">})"
            ]
          },
          "metadata": {},
          "execution_count": 26
        }
      ]
    },
    {
      "cell_type": "code",
      "source": [
        "def counter(fn):\n",
        "  count=0\n",
        "\n",
        "  def inner(*args,**kwargs):\n",
        "    nonlocal count\n",
        "    count+=1\n",
        "    print(\"{0} was called {1} times\".format(fn.__name__,count))\n",
        "  inner.__name__=fn.__name__\n",
        "  inner.__doc__=fn.__doc__\n",
        "  return inner"
      ],
      "metadata": {
        "id": "VxYlwrhBtnB9"
      },
      "execution_count": 27,
      "outputs": []
    },
    {
      "cell_type": "code",
      "source": [
        "@counter\n",
        "def add(a:int, b:int=10)->int:\n",
        "  \"\"\"\n",
        "  returns sum of two integers\n",
        "  \"\"\"\n",
        "  return a+b"
      ],
      "metadata": {
        "id": "Aaux2M5huXHX"
      },
      "execution_count": 28,
      "outputs": []
    },
    {
      "cell_type": "code",
      "source": [
        "help(add)"
      ],
      "metadata": {
        "id": "kzdNfxOZuhvl",
        "outputId": "56ece301-dfd7-40bd-ed15-a3de72194f70",
        "colab": {
          "base_uri": "https://localhost:8080/"
        }
      },
      "execution_count": 29,
      "outputs": [
        {
          "output_type": "stream",
          "name": "stdout",
          "text": [
            "Help on function add in module __main__:\n",
            "\n",
            "add(*args, **kwargs)\n",
            "    returns sum of two integers\n",
            "\n"
          ]
        }
      ]
    },
    {
      "cell_type": "code",
      "source": [
        "add.__name__"
      ],
      "metadata": {
        "id": "6w99Ht1munu0",
        "outputId": "44424d79-d57d-46cb-d87a-f6a24b01b7e9",
        "colab": {
          "base_uri": "https://localhost:8080/",
          "height": 35
        }
      },
      "execution_count": 30,
      "outputs": [
        {
          "output_type": "execute_result",
          "data": {
            "application/vnd.google.colaboratory.intrinsic+json": {
              "type": "string"
            },
            "text/plain": [
              "'add'"
            ]
          },
          "metadata": {},
          "execution_count": 30
        }
      ]
    },
    {
      "cell_type": "code",
      "source": [
        "from functools import wraps"
      ],
      "metadata": {
        "id": "8PeMJW05up6c"
      },
      "execution_count": 31,
      "outputs": []
    },
    {
      "cell_type": "code",
      "source": [
        "def counter(fn):\n",
        "  count=0\n",
        "\n",
        "  @wraps(fn)\n",
        "  def inner(*args,**kwargs):\n",
        "    nonlocal count\n",
        "    count+=1\n",
        "    print(\"{0} was called {1} times\".format(fn.__name__,count))\n",
        "\n",
        "  return inner"
      ],
      "metadata": {
        "id": "IvMIPPoguwRV"
      },
      "execution_count": 32,
      "outputs": []
    },
    {
      "cell_type": "code",
      "source": [
        "@counter\n",
        "def add(a:int, b:int=10)->int:\n",
        "  \"\"\"\n",
        "  returns sum of two integers\n",
        "  \"\"\"\n",
        "  return a+b"
      ],
      "metadata": {
        "id": "EKVeMbAEvA9l"
      },
      "execution_count": 33,
      "outputs": []
    },
    {
      "cell_type": "code",
      "source": [
        "help(add)"
      ],
      "metadata": {
        "id": "FCjDPL16vMq-",
        "outputId": "7e858683-6c73-42f7-d203-6a05567e596c",
        "colab": {
          "base_uri": "https://localhost:8080/"
        }
      },
      "execution_count": 34,
      "outputs": [
        {
          "output_type": "stream",
          "name": "stdout",
          "text": [
            "Help on function add in module __main__:\n",
            "\n",
            "add(a: int, b: int = 10) -> int\n",
            "    returns sum of two integers\n",
            "\n"
          ]
        }
      ]
    },
    {
      "cell_type": "code",
      "source": [
        "inspect.getsource(add)"
      ],
      "metadata": {
        "id": "jZv_ONxqvNhv",
        "outputId": "f15ad9ba-8e71-4724-a14a-7518d90583fa",
        "colab": {
          "base_uri": "https://localhost:8080/",
          "height": 35
        }
      },
      "execution_count": 35,
      "outputs": [
        {
          "output_type": "execute_result",
          "data": {
            "application/vnd.google.colaboratory.intrinsic+json": {
              "type": "string"
            },
            "text/plain": [
              "'@counter\\ndef add(a:int, b:int=10)->int:\\n  \"\"\"\\n  returns sum of two integers\\n  \"\"\"\\n  return a+b\\n'"
            ]
          },
          "metadata": {},
          "execution_count": 35
        }
      ]
    },
    {
      "cell_type": "code",
      "source": [
        "inspect.signature(add)"
      ],
      "metadata": {
        "id": "qVQ74EhOvQq-",
        "outputId": "39e63006-6269-4285-fea1-db4eada4d8d2",
        "colab": {
          "base_uri": "https://localhost:8080/"
        }
      },
      "execution_count": 36,
      "outputs": [
        {
          "output_type": "execute_result",
          "data": {
            "text/plain": [
              "<Signature (a: int, b: int = 10) -> int>"
            ]
          },
          "metadata": {},
          "execution_count": 36
        }
      ]
    },
    {
      "cell_type": "code",
      "source": [
        "inspect.signature(add).parameters"
      ],
      "metadata": {
        "id": "FXEUwEOsvTGs",
        "outputId": "855ca0d0-3153-45b7-bb13-f434c5a4fc62",
        "colab": {
          "base_uri": "https://localhost:8080/"
        }
      },
      "execution_count": 37,
      "outputs": [
        {
          "output_type": "execute_result",
          "data": {
            "text/plain": [
              "mappingproxy({'a': <Parameter \"a: int\">, 'b': <Parameter \"b: int = 10\">})"
            ]
          },
          "metadata": {},
          "execution_count": 37
        }
      ]
    },
    {
      "cell_type": "code",
      "source": [
        "def timed(fn):\n",
        "  from time import perf_counter\n",
        "  from functools import wraps\n",
        "\n",
        "  @wraps(fn)\n",
        "  def inner(*args,**kwargs):\n",
        "    start=perf_counter()\n",
        "    result=fn(*args,**kwargs)\n",
        "    end=perf_counter()\n",
        "    elapsed=end-start\n",
        "\n",
        "    args_=[str(a) for a in args]\n",
        "    kwargs_=['{0}={1}'.format(k,v) for (k,v) in kwargs.items()]\n",
        "    all_args=args_+kwargs_\n",
        "    args_str=','.join(all_args)\n",
        "    print('{0}({1}) took {2:.6f}s to run.'.format(fn.__name__,\n",
        "                                                  args_str,\n",
        "                                                  elapsed))\n",
        "    return result\n",
        "  \n",
        "  return inner"
      ],
      "metadata": {
        "id": "UpIsUo01vW9O"
      },
      "execution_count": 38,
      "outputs": []
    },
    {
      "cell_type": "code",
      "source": [
        "def calc_recursive_fib(n):\n",
        "  if n<=2:\n",
        "    return 1\n",
        "  else:\n",
        "    return calc_recursive_fib(n-1)+calc_recursive_fib(n-2)"
      ],
      "metadata": {
        "id": "X6RsBv9xlgJ4"
      },
      "execution_count": 39,
      "outputs": []
    },
    {
      "cell_type": "code",
      "source": [
        "calc_recursive_fib(3)"
      ],
      "metadata": {
        "colab": {
          "base_uri": "https://localhost:8080/"
        },
        "id": "kUJL-8qLl7kG",
        "outputId": "091a01d7-762d-4254-ba58-a281fcd1bd11"
      },
      "execution_count": 40,
      "outputs": [
        {
          "output_type": "execute_result",
          "data": {
            "text/plain": [
              "2"
            ]
          },
          "metadata": {},
          "execution_count": 40
        }
      ]
    },
    {
      "cell_type": "code",
      "source": [
        "calc_recursive_fib(6)"
      ],
      "metadata": {
        "colab": {
          "base_uri": "https://localhost:8080/"
        },
        "id": "HgLpZh-rmAca",
        "outputId": "9a3b5574-8633-4b04-d690-63b83e64ae02"
      },
      "execution_count": 41,
      "outputs": [
        {
          "output_type": "execute_result",
          "data": {
            "text/plain": [
              "8"
            ]
          },
          "metadata": {},
          "execution_count": 41
        }
      ]
    },
    {
      "cell_type": "code",
      "source": [
        "@timed\n",
        "def fib_recursed(n):\n",
        "  return calc_recursive_fib(n)"
      ],
      "metadata": {
        "id": "5LAzSdzhmCxj"
      },
      "execution_count": 42,
      "outputs": []
    },
    {
      "cell_type": "code",
      "source": [
        "fib_recursed(33)"
      ],
      "metadata": {
        "colab": {
          "base_uri": "https://localhost:8080/"
        },
        "id": "Q79MQAZ7mJ4B",
        "outputId": "c8bfaac2-9363-4568-e41e-281b46d02712"
      },
      "execution_count": 43,
      "outputs": [
        {
          "output_type": "stream",
          "name": "stdout",
          "text": [
            "fib_recursed(33) took 0.984371s to run.\n"
          ]
        },
        {
          "output_type": "execute_result",
          "data": {
            "text/plain": [
              "3524578"
            ]
          },
          "metadata": {},
          "execution_count": 43
        }
      ]
    },
    {
      "cell_type": "code",
      "source": [
        "fib_recursed.__closure__"
      ],
      "metadata": {
        "colab": {
          "base_uri": "https://localhost:8080/"
        },
        "id": "Dnld9GFamMN7",
        "outputId": "1f102a83-d354-4245-fdcb-9f5adb7b5aaf"
      },
      "execution_count": 44,
      "outputs": [
        {
          "output_type": "execute_result",
          "data": {
            "text/plain": [
              "(<cell at 0x7fa261aa6750: function object at 0x7fa261a653b0>,\n",
              " <cell at 0x7fa261aa6a50: builtin_function_or_method object at 0x7fa28735d0f0>)"
            ]
          },
          "metadata": {},
          "execution_count": 44
        }
      ]
    },
    {
      "cell_type": "code",
      "source": [
        "fib_recursed.__code__.co_freevars"
      ],
      "metadata": {
        "colab": {
          "base_uri": "https://localhost:8080/"
        },
        "id": "sPmv8WmDmOkz",
        "outputId": "4e67bfb7-cdc2-4a8f-8e15-29af5eff34a2"
      },
      "execution_count": 45,
      "outputs": [
        {
          "output_type": "execute_result",
          "data": {
            "text/plain": [
              "('fn', 'perf_counter')"
            ]
          },
          "metadata": {},
          "execution_count": 45
        }
      ]
    },
    {
      "cell_type": "code",
      "source": [
        "@timed\n",
        "def fib_recursed_2(n):\n",
        "  if n<=2:\n",
        "    return 1\n",
        "  else:\n",
        "    return fib_recursed_2(n-1)+fib_recursed_2(n-2)"
      ],
      "metadata": {
        "id": "R3aVzLl7mT_s"
      },
      "execution_count": 46,
      "outputs": []
    },
    {
      "cell_type": "code",
      "source": [
        "fib_recursed_2.__closure__"
      ],
      "metadata": {
        "colab": {
          "base_uri": "https://localhost:8080/"
        },
        "id": "5II-vobHm9Si",
        "outputId": "925f3172-a0c5-4d24-9b2e-0f8f2c2277ea"
      },
      "execution_count": 47,
      "outputs": [
        {
          "output_type": "execute_result",
          "data": {
            "text/plain": [
              "(<cell at 0x7fa261a6f5d0: function object at 0x7fa261a65cb0>,\n",
              " <cell at 0x7fa261a6f650: builtin_function_or_method object at 0x7fa28735d0f0>)"
            ]
          },
          "metadata": {},
          "execution_count": 47
        }
      ]
    },
    {
      "cell_type": "code",
      "source": [
        "fib_recursed_2.__code__.co_freevars"
      ],
      "metadata": {
        "colab": {
          "base_uri": "https://localhost:8080/"
        },
        "id": "EmgKABfcm_tr",
        "outputId": "cee07ee0-e33a-450a-d3e8-85c11691a64a"
      },
      "execution_count": 48,
      "outputs": [
        {
          "output_type": "execute_result",
          "data": {
            "text/plain": [
              "('fn', 'perf_counter')"
            ]
          },
          "metadata": {},
          "execution_count": 48
        }
      ]
    },
    {
      "cell_type": "code",
      "source": [
        "fib_recursed_2(10)"
      ],
      "metadata": {
        "colab": {
          "base_uri": "https://localhost:8080/"
        },
        "id": "Pk9hngeGnA26",
        "outputId": "50c788ac-fdf5-48ab-8033-615d3eff26c5"
      },
      "execution_count": 49,
      "outputs": [
        {
          "output_type": "stream",
          "name": "stdout",
          "text": [
            "fib_recursed_2(2) took 0.000001s to run.\n",
            "fib_recursed_2(1) took 0.000001s to run.\n",
            "fib_recursed_2(3) took 0.000125s to run.\n",
            "fib_recursed_2(2) took 0.000001s to run.\n",
            "fib_recursed_2(4) took 0.000200s to run.\n",
            "fib_recursed_2(2) took 0.000000s to run.\n",
            "fib_recursed_2(1) took 0.000000s to run.\n",
            "fib_recursed_2(3) took 0.000044s to run.\n",
            "fib_recursed_2(5) took 0.000289s to run.\n",
            "fib_recursed_2(2) took 0.000000s to run.\n",
            "fib_recursed_2(1) took 0.000000s to run.\n",
            "fib_recursed_2(3) took 0.000045s to run.\n",
            "fib_recursed_2(2) took 0.000000s to run.\n",
            "fib_recursed_2(4) took 0.000087s to run.\n",
            "fib_recursed_2(6) took 0.000420s to run.\n",
            "fib_recursed_2(2) took 0.000000s to run.\n",
            "fib_recursed_2(1) took 0.000000s to run.\n",
            "fib_recursed_2(3) took 0.000046s to run.\n",
            "fib_recursed_2(2) took 0.000000s to run.\n",
            "fib_recursed_2(4) took 0.000089s to run.\n",
            "fib_recursed_2(2) took 0.000000s to run.\n",
            "fib_recursed_2(1) took 0.000000s to run.\n",
            "fib_recursed_2(3) took 0.000055s to run.\n",
            "fib_recursed_2(5) took 0.000176s to run.\n",
            "fib_recursed_2(7) took 0.000631s to run.\n",
            "fib_recursed_2(2) took 0.000000s to run.\n",
            "fib_recursed_2(1) took 0.000000s to run.\n",
            "fib_recursed_2(3) took 0.000027s to run.\n",
            "fib_recursed_2(2) took 0.000000s to run.\n",
            "fib_recursed_2(4) took 0.000053s to run.\n",
            "fib_recursed_2(2) took 0.000000s to run.\n",
            "fib_recursed_2(1) took 0.000000s to run.\n",
            "fib_recursed_2(3) took 0.000041s to run.\n",
            "fib_recursed_2(5) took 0.000147s to run.\n",
            "fib_recursed_2(2) took 0.000000s to run.\n",
            "fib_recursed_2(1) took 0.000000s to run.\n",
            "fib_recursed_2(3) took 0.000027s to run.\n",
            "fib_recursed_2(2) took 0.000000s to run.\n",
            "fib_recursed_2(4) took 0.000053s to run.\n",
            "fib_recursed_2(6) took 0.000226s to run.\n",
            "fib_recursed_2(8) took 0.000884s to run.\n",
            "fib_recursed_2(2) took 0.000000s to run.\n",
            "fib_recursed_2(1) took 0.000000s to run.\n",
            "fib_recursed_2(3) took 0.000026s to run.\n",
            "fib_recursed_2(2) took 0.000000s to run.\n",
            "fib_recursed_2(4) took 0.000051s to run.\n",
            "fib_recursed_2(2) took 0.000000s to run.\n",
            "fib_recursed_2(1) took 0.000000s to run.\n",
            "fib_recursed_2(3) took 0.000027s to run.\n",
            "fib_recursed_2(5) took 0.000104s to run.\n",
            "fib_recursed_2(2) took 0.000000s to run.\n",
            "fib_recursed_2(1) took 0.000000s to run.\n",
            "fib_recursed_2(3) took 0.000026s to run.\n",
            "fib_recursed_2(2) took 0.000000s to run.\n",
            "fib_recursed_2(4) took 0.000052s to run.\n",
            "fib_recursed_2(6) took 0.000181s to run.\n",
            "fib_recursed_2(2) took 0.000000s to run.\n",
            "fib_recursed_2(1) took 0.000000s to run.\n",
            "fib_recursed_2(3) took 0.000033s to run.\n",
            "fib_recursed_2(2) took 0.000000s to run.\n",
            "fib_recursed_2(4) took 0.000058s to run.\n",
            "fib_recursed_2(2) took 0.000000s to run.\n",
            "fib_recursed_2(1) took 0.000000s to run.\n",
            "fib_recursed_2(3) took 0.000072s to run.\n",
            "fib_recursed_2(5) took 0.000166s to run.\n",
            "fib_recursed_2(7) took 0.000381s to run.\n",
            "fib_recursed_2(9) took 0.001299s to run.\n",
            "fib_recursed_2(2) took 0.000000s to run.\n",
            "fib_recursed_2(1) took 0.000000s to run.\n",
            "fib_recursed_2(3) took 0.000044s to run.\n",
            "fib_recursed_2(2) took 0.000000s to run.\n",
            "fib_recursed_2(4) took 0.000085s to run.\n",
            "fib_recursed_2(2) took 0.000000s to run.\n",
            "fib_recursed_2(1) took 0.000000s to run.\n",
            "fib_recursed_2(3) took 0.000043s to run.\n",
            "fib_recursed_2(5) took 0.000169s to run.\n",
            "fib_recursed_2(2) took 0.000000s to run.\n",
            "fib_recursed_2(1) took 0.000000s to run.\n",
            "fib_recursed_2(3) took 0.000049s to run.\n",
            "fib_recursed_2(2) took 0.000000s to run.\n",
            "fib_recursed_2(4) took 0.000330s to run.\n",
            "fib_recursed_2(6) took 0.000548s to run.\n",
            "fib_recursed_2(2) took 0.000000s to run.\n",
            "fib_recursed_2(1) took 0.000000s to run.\n",
            "fib_recursed_2(3) took 0.000045s to run.\n",
            "fib_recursed_2(2) took 0.000000s to run.\n",
            "fib_recursed_2(4) took 0.000089s to run.\n",
            "fib_recursed_2(2) took 0.000000s to run.\n",
            "fib_recursed_2(1) took 0.000000s to run.\n",
            "fib_recursed_2(3) took 0.000044s to run.\n",
            "fib_recursed_2(5) took 0.000175s to run.\n",
            "fib_recursed_2(7) took 0.000768s to run.\n",
            "fib_recursed_2(2) took 0.000000s to run.\n",
            "fib_recursed_2(1) took 0.000000s to run.\n",
            "fib_recursed_2(3) took 0.000042s to run.\n",
            "fib_recursed_2(2) took 0.000000s to run.\n",
            "fib_recursed_2(4) took 0.000083s to run.\n",
            "fib_recursed_2(2) took 0.000000s to run.\n",
            "fib_recursed_2(1) took 0.000000s to run.\n",
            "fib_recursed_2(3) took 0.000042s to run.\n",
            "fib_recursed_2(5) took 0.000167s to run.\n",
            "fib_recursed_2(2) took 0.000000s to run.\n",
            "fib_recursed_2(1) took 0.000000s to run.\n",
            "fib_recursed_2(3) took 0.000042s to run.\n",
            "fib_recursed_2(2) took 0.000000s to run.\n",
            "fib_recursed_2(4) took 0.000085s to run.\n",
            "fib_recursed_2(6) took 0.000293s to run.\n",
            "fib_recursed_2(8) took 0.001111s to run.\n",
            "fib_recursed_2(10) took 0.002455s to run.\n"
          ]
        },
        {
          "output_type": "execute_result",
          "data": {
            "text/plain": [
              "55"
            ]
          },
          "metadata": {},
          "execution_count": 49
        }
      ]
    },
    {
      "cell_type": "code",
      "source": [
        "@timed\n",
        "def fib_loop(n):\n",
        "  fib_1=1\n",
        "  fib_2=1\n",
        "  for i in range(3,n+1):\n",
        "    fib_1,fib_2=fib_2,fib_1+fib_2\n",
        "  return fib_2"
      ],
      "metadata": {
        "id": "oj36GE7znGMy"
      },
      "execution_count": 50,
      "outputs": []
    },
    {
      "cell_type": "code",
      "source": [
        "fib_loop(3)"
      ],
      "metadata": {
        "id": "1INGA3U0r-BD",
        "outputId": "45c162a7-bd0a-4c19-b8b6-7275de381181",
        "colab": {
          "base_uri": "https://localhost:8080/"
        }
      },
      "execution_count": 51,
      "outputs": [
        {
          "output_type": "stream",
          "name": "stdout",
          "text": [
            "fib_loop(3) took 0.000003s to run.\n"
          ]
        },
        {
          "output_type": "execute_result",
          "data": {
            "text/plain": [
              "2"
            ]
          },
          "metadata": {},
          "execution_count": 51
        }
      ]
    },
    {
      "cell_type": "code",
      "source": [
        "fib_loop(6)"
      ],
      "metadata": {
        "id": "EKfbCUnYr_5L",
        "outputId": "fe76ab3b-a2c3-4170-ac2f-b308f45d3117",
        "colab": {
          "base_uri": "https://localhost:8080/"
        }
      },
      "execution_count": 52,
      "outputs": [
        {
          "output_type": "stream",
          "name": "stdout",
          "text": [
            "fib_loop(6) took 0.000004s to run.\n"
          ]
        },
        {
          "output_type": "execute_result",
          "data": {
            "text/plain": [
              "8"
            ]
          },
          "metadata": {},
          "execution_count": 52
        }
      ]
    },
    {
      "cell_type": "code",
      "source": [
        "fib_loop.__closure__"
      ],
      "metadata": {
        "id": "HrnENVxasDTM",
        "outputId": "ae9ec1eb-b4d2-44dc-a932-405687e0f777",
        "colab": {
          "base_uri": "https://localhost:8080/"
        }
      },
      "execution_count": 53,
      "outputs": [
        {
          "output_type": "execute_result",
          "data": {
            "text/plain": [
              "(<cell at 0x7fa261a6a790: function object at 0x7fa261a65b90>,\n",
              " <cell at 0x7fa261a6a7d0: builtin_function_or_method object at 0x7fa28735d0f0>)"
            ]
          },
          "metadata": {},
          "execution_count": 53
        }
      ]
    },
    {
      "cell_type": "code",
      "source": [
        "fib_loop.__code__.co_freevars"
      ],
      "metadata": {
        "id": "4k-J8ip77663",
        "outputId": "3bc4d466-ddff-46a8-d837-45cdebbfd2e0",
        "colab": {
          "base_uri": "https://localhost:8080/"
        }
      },
      "execution_count": 54,
      "outputs": [
        {
          "output_type": "execute_result",
          "data": {
            "text/plain": [
              "('fn', 'perf_counter')"
            ]
          },
          "metadata": {},
          "execution_count": 54
        }
      ]
    },
    {
      "cell_type": "code",
      "source": [
        "from functools import reduce\n",
        "\n",
        "@timed\n",
        "def fib_reduce(n):\n",
        "  initial=(1,0)\n",
        "  dummy=range(n-1)\n",
        "  fib_n=reduce(lambda prev,n: (prev[0]+prev[1],prev[0]),\n",
        "               dummy,\n",
        "               initial)\n",
        "  return fib_n[0]"
      ],
      "metadata": {
        "id": "x44AufI-7-AZ"
      },
      "execution_count": 55,
      "outputs": []
    },
    {
      "cell_type": "code",
      "source": [
        "fib_reduce(3)"
      ],
      "metadata": {
        "id": "vsMBjwKl8dPY",
        "outputId": "44232386-d936-438e-8eb6-e5ccd0f845ba",
        "colab": {
          "base_uri": "https://localhost:8080/"
        }
      },
      "execution_count": 56,
      "outputs": [
        {
          "output_type": "stream",
          "name": "stdout",
          "text": [
            "fib_reduce(3) took 0.000007s to run.\n"
          ]
        },
        {
          "output_type": "execute_result",
          "data": {
            "text/plain": [
              "2"
            ]
          },
          "metadata": {},
          "execution_count": 56
        }
      ]
    },
    {
      "cell_type": "code",
      "source": [
        "a=lambda x,y: (x+y,x-y)"
      ],
      "metadata": {
        "id": "Af5Octnm8eZw"
      },
      "execution_count": 57,
      "outputs": []
    },
    {
      "cell_type": "code",
      "source": [
        "a(4,5)"
      ],
      "metadata": {
        "id": "uTx2UneV8xbB",
        "outputId": "a498583a-7c62-4403-84f5-afbe1d67261a",
        "colab": {
          "base_uri": "https://localhost:8080/"
        }
      },
      "execution_count": 58,
      "outputs": [
        {
          "output_type": "execute_result",
          "data": {
            "text/plain": [
              "(9, -1)"
            ]
          },
          "metadata": {},
          "execution_count": 58
        }
      ]
    },
    {
      "cell_type": "code",
      "source": [
        "reduce(lambda x,y:x if x>y else y ,range(10))"
      ],
      "metadata": {
        "id": "wprx3j7I9O2p",
        "outputId": "f5e8b4c1-7fe8-48fc-9dca-2be467ca5993",
        "colab": {
          "base_uri": "https://localhost:8080/"
        }
      },
      "execution_count": 59,
      "outputs": [
        {
          "output_type": "execute_result",
          "data": {
            "text/plain": [
              "9"
            ]
          },
          "metadata": {},
          "execution_count": 59
        }
      ]
    },
    {
      "cell_type": "code",
      "source": [
        "fib_recursed(35)\n",
        "fib_loop(35)\n",
        "fib_reduce(35)"
      ],
      "metadata": {
        "id": "yfzevm-U-9IZ",
        "outputId": "172131ef-3800-476b-ce6a-08cd7c1b638a",
        "colab": {
          "base_uri": "https://localhost:8080/"
        }
      },
      "execution_count": 60,
      "outputs": [
        {
          "output_type": "stream",
          "name": "stdout",
          "text": [
            "fib_recursed(35) took 2.605235s to run.\n",
            "fib_loop(35) took 0.000005s to run.\n",
            "fib_reduce(35) took 0.000011s to run.\n"
          ]
        },
        {
          "output_type": "execute_result",
          "data": {
            "text/plain": [
              "9227465"
            ]
          },
          "metadata": {},
          "execution_count": 60
        }
      ]
    },
    {
      "cell_type": "code",
      "source": [
        "for i in range(10):\n",
        "  result=fib_loop(10000)"
      ],
      "metadata": {
        "id": "46WtVuoiVwYE",
        "outputId": "a55d957b-b836-47b6-acaa-a62b75bcaf86",
        "colab": {
          "base_uri": "https://localhost:8080/"
        }
      },
      "execution_count": 61,
      "outputs": [
        {
          "output_type": "stream",
          "name": "stdout",
          "text": [
            "fib_loop(10000) took 0.003819s to run.\n",
            "fib_loop(10000) took 0.004416s to run.\n",
            "fib_loop(10000) took 0.007001s to run.\n",
            "fib_loop(10000) took 0.003515s to run.\n",
            "fib_loop(10000) took 0.003741s to run.\n",
            "fib_loop(10000) took 0.003903s to run.\n",
            "fib_loop(10000) took 0.004283s to run.\n",
            "fib_loop(10000) took 0.003884s to run.\n",
            "fib_loop(10000) took 0.004105s to run.\n",
            "fib_loop(10000) took 0.004155s to run.\n"
          ]
        }
      ]
    },
    {
      "cell_type": "code",
      "source": [
        "for i in range(10):\n",
        "  result=fib_reduce(10000)"
      ],
      "metadata": {
        "id": "0ZdiRC_YWZRi",
        "outputId": "44ec4f2e-4cd0-4db6-99d5-5805ef7145e3",
        "colab": {
          "base_uri": "https://localhost:8080/"
        }
      },
      "execution_count": 62,
      "outputs": [
        {
          "output_type": "stream",
          "name": "stdout",
          "text": [
            "fib_reduce(10000) took 0.004294s to run.\n",
            "fib_reduce(10000) took 0.004397s to run.\n",
            "fib_reduce(10000) took 0.003471s to run.\n",
            "fib_reduce(10000) took 0.003452s to run.\n",
            "fib_reduce(10000) took 0.003460s to run.\n",
            "fib_reduce(10000) took 0.003467s to run.\n",
            "fib_reduce(10000) took 0.003464s to run.\n",
            "fib_reduce(10000) took 0.003490s to run.\n",
            "fib_reduce(10000) took 0.003490s to run.\n",
            "fib_reduce(10000) took 0.003451s to run.\n"
          ]
        }
      ]
    },
    {
      "cell_type": "code",
      "source": [
        "from functools import reduce\n",
        "fib_1=timed(lambda n: reduce(lambda prev, n:(prev[0]+prev[1],prev[0]),\n",
        "                            range(n),\n",
        "                            (0,1))[0])"
      ],
      "metadata": {
        "id": "tQFOcGueWdux"
      },
      "execution_count": 64,
      "outputs": []
    },
    {
      "cell_type": "code",
      "source": [
        "fib_loop(100)"
      ],
      "metadata": {
        "id": "sl_Py97JXFJy",
        "outputId": "86990b6b-6910-4f1a-c1d7-eca3cce04394",
        "colab": {
          "base_uri": "https://localhost:8080/"
        }
      },
      "execution_count": 65,
      "outputs": [
        {
          "output_type": "stream",
          "name": "stdout",
          "text": [
            "fib_loop(100) took 0.000018s to run.\n"
          ]
        },
        {
          "output_type": "execute_result",
          "data": {
            "text/plain": [
              "354224848179261915075"
            ]
          },
          "metadata": {},
          "execution_count": 65
        }
      ]
    },
    {
      "cell_type": "code",
      "source": [
        "fib_1(100)"
      ],
      "metadata": {
        "id": "RNhz8R2xXJq4",
        "outputId": "d8212f59-44e8-4b8f-bec0-f6898c742cb1",
        "colab": {
          "base_uri": "https://localhost:8080/"
        }
      },
      "execution_count": 66,
      "outputs": [
        {
          "output_type": "stream",
          "name": "stdout",
          "text": [
            "<lambda>(100) took 0.000025s to run.\n"
          ]
        },
        {
          "output_type": "execute_result",
          "data": {
            "text/plain": [
              "354224848179261915075"
            ]
          },
          "metadata": {},
          "execution_count": 66
        }
      ]
    },
    {
      "cell_type": "code",
      "source": [
        ""
      ],
      "metadata": {
        "id": "KcbKdZHVXLjT"
      },
      "execution_count": null,
      "outputs": []
    }
  ]
}