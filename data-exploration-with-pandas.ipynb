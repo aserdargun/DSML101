{
 "cells": [
  {
   "cell_type": "code",
   "execution_count": 1,
   "id": "00ab4ab1",
   "metadata": {
    "_cell_guid": "b1076dfc-b9ad-4769-8c92-a6c4dae69d19",
    "_uuid": "8f2839f25d086af736a60e9eeb907d3b93b6e0e5",
    "execution": {
     "iopub.execute_input": "2022-11-15T11:07:23.584226Z",
     "iopub.status.busy": "2022-11-15T11:07:23.583408Z",
     "iopub.status.idle": "2022-11-15T11:07:23.605673Z",
     "shell.execute_reply": "2022-11-15T11:07:23.604730Z"
    },
    "papermill": {
     "duration": 0.043226,
     "end_time": "2022-11-15T11:07:23.608676",
     "exception": false,
     "start_time": "2022-11-15T11:07:23.565450",
     "status": "completed"
    },
    "tags": []
   },
   "outputs": [
    {
     "name": "stdout",
     "output_type": "stream",
     "text": [
      "/kaggle/input/payscale-inc-data-on-college-majors/593 salaries-by-college-major.csv\n"
     ]
    }
   ],
   "source": [
    "# This Python 3 environment comes with many helpful analytics libraries installed\n",
    "# It is defined by the kaggle/python Docker image: https://github.com/kaggle/docker-python\n",
    "# For example, here's several helpful packages to load\n",
    "\n",
    "import numpy as np # linear algebra\n",
    "import pandas as pd # data processing, CSV file I/O (e.g. pd.read_csv)\n",
    "\n",
    "# Input data files are available in the read-only \"../input/\" directory\n",
    "# For example, running this (by clicking run or pressing Shift+Enter) will list all files under the input directory\n",
    "\n",
    "import os\n",
    "for dirname, _, filenames in os.walk('/kaggle/input'):\n",
    "    for filename in filenames:\n",
    "        print(os.path.join(dirname, filename))\n",
    "\n",
    "# You can write up to 20GB to the current directory (/kaggle/working/) that gets preserved as output when you create a version using \"Save & Run All\" \n",
    "# You can also write temporary files to /kaggle/temp/, but they won't be saved outside of the current session"
   ]
  },
  {
   "cell_type": "markdown",
   "id": "798ce868",
   "metadata": {
    "papermill": {
     "duration": 0.013723,
     "end_time": "2022-11-15T11:07:23.639047",
     "exception": false,
     "start_time": "2022-11-15T11:07:23.625324",
     "status": "completed"
    },
    "tags": []
   },
   "source": [
    "# Learn Data Exploration with Pandas by Analysing the Post-University Salaries of Graduates by Major"
   ]
  },
  {
   "cell_type": "markdown",
   "id": "d4c1d2c4",
   "metadata": {
    "papermill": {
     "duration": 0.013963,
     "end_time": "2022-11-15T11:07:23.667000",
     "exception": false,
     "start_time": "2022-11-15T11:07:23.653037",
     "status": "completed"
    },
    "tags": []
   },
   "source": [
    "College degrees are very expensive. But, do they pay you back? Choosing Philosophy or International Relations as a major may have worried your parents, but does the data back up their fears? PayScale Inc. did a year-long survey of 1.2 million Americans with only a bachelor's degree. We'll be digging into this data and use Pandas to answer these questions:\n",
    "\n",
    "* Which degrees have the highest starting salaries?\n",
    "\n",
    "* Which majors have the lowest earnings after college?\n",
    "\n",
    "* Which degrees have the highest earning potential?\n",
    "\n",
    "* What are the lowest risk college majors from an earnings standpoint?\n",
    "\n",
    "Do business, STEM (Science, Technology, Engineering, Mathematics) or HASS (Humanities, Arts, Social Science) degrees earn more on average?\n",
    "\n",
    "Today you'll learn\n",
    "\n",
    "* How to explore a Pandas DataFrame\n",
    "\n",
    "* How to detect NaN (not a number) values and clean your data\n",
    "\n",
    "* How to select particular columns, rows, and individual cells\n",
    "\n",
    "* How to sort your data\n",
    "\n",
    "* How to group data by category\n",
    "\n",
    "and so much more! Let's get started!"
   ]
  },
  {
   "cell_type": "code",
   "execution_count": 2,
   "id": "778024d9",
   "metadata": {
    "execution": {
     "iopub.execute_input": "2022-11-15T11:07:23.697133Z",
     "iopub.status.busy": "2022-11-15T11:07:23.696395Z",
     "iopub.status.idle": "2022-11-15T11:07:23.743434Z",
     "shell.execute_reply": "2022-11-15T11:07:23.742304Z"
    },
    "papermill": {
     "duration": 0.064887,
     "end_time": "2022-11-15T11:07:23.745857",
     "exception": false,
     "start_time": "2022-11-15T11:07:23.680970",
     "status": "completed"
    },
    "tags": []
   },
   "outputs": [
    {
     "data": {
      "text/html": [
       "<div>\n",
       "<style scoped>\n",
       "    .dataframe tbody tr th:only-of-type {\n",
       "        vertical-align: middle;\n",
       "    }\n",
       "\n",
       "    .dataframe tbody tr th {\n",
       "        vertical-align: top;\n",
       "    }\n",
       "\n",
       "    .dataframe thead th {\n",
       "        text-align: right;\n",
       "    }\n",
       "</style>\n",
       "<table border=\"1\" class=\"dataframe\">\n",
       "  <thead>\n",
       "    <tr style=\"text-align: right;\">\n",
       "      <th></th>\n",
       "      <th>Undergraduate Major</th>\n",
       "      <th>Starting Median Salary</th>\n",
       "      <th>Mid-Career Median Salary</th>\n",
       "      <th>Mid-Career 10th Percentile Salary</th>\n",
       "      <th>Mid-Career 90th Percentile Salary</th>\n",
       "      <th>Group</th>\n",
       "    </tr>\n",
       "  </thead>\n",
       "  <tbody>\n",
       "    <tr>\n",
       "      <th>0</th>\n",
       "      <td>Accounting</td>\n",
       "      <td>46000.0</td>\n",
       "      <td>77100.0</td>\n",
       "      <td>42200.0</td>\n",
       "      <td>152000.0</td>\n",
       "      <td>Business</td>\n",
       "    </tr>\n",
       "    <tr>\n",
       "      <th>1</th>\n",
       "      <td>Aerospace Engineering</td>\n",
       "      <td>57700.0</td>\n",
       "      <td>101000.0</td>\n",
       "      <td>64300.0</td>\n",
       "      <td>161000.0</td>\n",
       "      <td>STEM</td>\n",
       "    </tr>\n",
       "    <tr>\n",
       "      <th>2</th>\n",
       "      <td>Agriculture</td>\n",
       "      <td>42600.0</td>\n",
       "      <td>71900.0</td>\n",
       "      <td>36300.0</td>\n",
       "      <td>150000.0</td>\n",
       "      <td>Business</td>\n",
       "    </tr>\n",
       "    <tr>\n",
       "      <th>3</th>\n",
       "      <td>Anthropology</td>\n",
       "      <td>36800.0</td>\n",
       "      <td>61500.0</td>\n",
       "      <td>33800.0</td>\n",
       "      <td>138000.0</td>\n",
       "      <td>HASS</td>\n",
       "    </tr>\n",
       "    <tr>\n",
       "      <th>4</th>\n",
       "      <td>Architecture</td>\n",
       "      <td>41600.0</td>\n",
       "      <td>76800.0</td>\n",
       "      <td>50600.0</td>\n",
       "      <td>136000.0</td>\n",
       "      <td>Business</td>\n",
       "    </tr>\n",
       "  </tbody>\n",
       "</table>\n",
       "</div>"
      ],
      "text/plain": [
       "     Undergraduate Major  Starting Median Salary  Mid-Career Median Salary  \\\n",
       "0             Accounting                 46000.0                   77100.0   \n",
       "1  Aerospace Engineering                 57700.0                  101000.0   \n",
       "2            Agriculture                 42600.0                   71900.0   \n",
       "3           Anthropology                 36800.0                   61500.0   \n",
       "4           Architecture                 41600.0                   76800.0   \n",
       "\n",
       "   Mid-Career 10th Percentile Salary  Mid-Career 90th Percentile Salary  \\\n",
       "0                            42200.0                           152000.0   \n",
       "1                            64300.0                           161000.0   \n",
       "2                            36300.0                           150000.0   \n",
       "3                            33800.0                           138000.0   \n",
       "4                            50600.0                           136000.0   \n",
       "\n",
       "      Group  \n",
       "0  Business  \n",
       "1      STEM  \n",
       "2  Business  \n",
       "3      HASS  \n",
       "4  Business  "
      ]
     },
     "execution_count": 2,
     "metadata": {},
     "output_type": "execute_result"
    }
   ],
   "source": [
    "import pandas as pd\n",
    "df = pd.read_csv(\"../input/payscale-inc-data-on-college-majors/593 salaries-by-college-major.csv\")\n",
    "df.head()"
   ]
  },
  {
   "cell_type": "markdown",
   "id": "40a97db3",
   "metadata": {
    "papermill": {
     "duration": 0.013774,
     "end_time": "2022-11-15T11:07:23.773872",
     "exception": false,
     "start_time": "2022-11-15T11:07:23.760098",
     "status": "completed"
    },
    "tags": []
   },
   "source": [
    "# Preliminary Data Exploration and Data Cleaning with Pandas"
   ]
  },
  {
   "cell_type": "markdown",
   "id": "fd5aa9ac",
   "metadata": {
    "papermill": {
     "duration": 0.013804,
     "end_time": "2022-11-15T11:07:23.802121",
     "exception": false,
     "start_time": "2022-11-15T11:07:23.788317",
     "status": "completed"
    },
    "tags": []
   },
   "source": [
    "Now that we've got our data loaded into our dataframe, we need to take a closer look at it to help us understand what it is we are working with. This is always the first step with any data science project. Let's see if we can answer the following questions: \n",
    "\n",
    "\n",
    "\n",
    "* How many rows does our dataframe have? \n",
    "\n",
    "* How many columns does it have?\n",
    "\n",
    "* What are the labels for the columns? Do the columns have names?\n",
    "\n",
    "* Are there any missing values in our dataframe? Does our dataframe contain any bad data?\n",
    "\n",
    "We've already used the .head() method to peek at the top 5 rows of our dataframe. To see the number of rows and columns we can use the shape attribute:\n"
   ]
  },
  {
   "cell_type": "code",
   "execution_count": 3,
   "id": "15971445",
   "metadata": {
    "execution": {
     "iopub.execute_input": "2022-11-15T11:07:23.832610Z",
     "iopub.status.busy": "2022-11-15T11:07:23.831841Z",
     "iopub.status.idle": "2022-11-15T11:07:23.838300Z",
     "shell.execute_reply": "2022-11-15T11:07:23.837259Z"
    },
    "papermill": {
     "duration": 0.024303,
     "end_time": "2022-11-15T11:07:23.840608",
     "exception": false,
     "start_time": "2022-11-15T11:07:23.816305",
     "status": "completed"
    },
    "tags": []
   },
   "outputs": [
    {
     "data": {
      "text/plain": [
       "(51, 6)"
      ]
     },
     "execution_count": 3,
     "metadata": {},
     "output_type": "execute_result"
    }
   ],
   "source": [
    "df.shape"
   ]
  },
  {
   "cell_type": "code",
   "execution_count": 4,
   "id": "da2ebb8c",
   "metadata": {
    "execution": {
     "iopub.execute_input": "2022-11-15T11:07:23.871887Z",
     "iopub.status.busy": "2022-11-15T11:07:23.871153Z",
     "iopub.status.idle": "2022-11-15T11:07:23.877433Z",
     "shell.execute_reply": "2022-11-15T11:07:23.876578Z"
    },
    "papermill": {
     "duration": 0.024682,
     "end_time": "2022-11-15T11:07:23.879536",
     "exception": false,
     "start_time": "2022-11-15T11:07:23.854854",
     "status": "completed"
    },
    "tags": []
   },
   "outputs": [
    {
     "data": {
      "text/plain": [
       "Index(['Undergraduate Major', 'Starting Median Salary',\n",
       "       'Mid-Career Median Salary', 'Mid-Career 10th Percentile Salary',\n",
       "       'Mid-Career 90th Percentile Salary', 'Group'],\n",
       "      dtype='object')"
      ]
     },
     "execution_count": 4,
     "metadata": {},
     "output_type": "execute_result"
    }
   ],
   "source": [
    "df.columns"
   ]
  },
  {
   "cell_type": "markdown",
   "id": "b0870e30",
   "metadata": {
    "papermill": {
     "duration": 0.014344,
     "end_time": "2022-11-15T11:07:23.908369",
     "exception": false,
     "start_time": "2022-11-15T11:07:23.894025",
     "status": "completed"
    },
    "tags": []
   },
   "source": [
    "Do you see 51 rows and 6 columns printed out below the cell? \n",
    "\n",
    "We saw that each column had a name. We can access the column names directly with the columns attribute."
   ]
  },
  {
   "cell_type": "markdown",
   "id": "b821a0e0",
   "metadata": {
    "papermill": {
     "duration": 0.013995,
     "end_time": "2022-11-15T11:07:23.936676",
     "exception": false,
     "start_time": "2022-11-15T11:07:23.922681",
     "status": "completed"
    },
    "tags": []
   },
   "source": [
    "**Missing Values and Junk Data**"
   ]
  },
  {
   "cell_type": "markdown",
   "id": "1ce7b77f",
   "metadata": {
    "papermill": {
     "duration": 0.014339,
     "end_time": "2022-11-15T11:07:23.965480",
     "exception": false,
     "start_time": "2022-11-15T11:07:23.951141",
     "status": "completed"
    },
    "tags": []
   },
   "source": [
    "Before we can proceed with our analysis we should try and figure out if there are any missing or junk data in our dataframe. That way we can avoid problems later on. In this case, we're going to look for NaN (Not A Number) values in our dataframe. NAN values are blank cells or cells that contain strings instead of numbers. Use the `.isna()` method and see if you can spot if there's a problem somewhere."
   ]
  },
  {
   "cell_type": "code",
   "execution_count": 5,
   "id": "b618b211",
   "metadata": {
    "execution": {
     "iopub.execute_input": "2022-11-15T11:07:23.996659Z",
     "iopub.status.busy": "2022-11-15T11:07:23.995630Z",
     "iopub.status.idle": "2022-11-15T11:07:24.017520Z",
     "shell.execute_reply": "2022-11-15T11:07:24.016116Z"
    },
    "papermill": {
     "duration": 0.040188,
     "end_time": "2022-11-15T11:07:24.020023",
     "exception": false,
     "start_time": "2022-11-15T11:07:23.979835",
     "status": "completed"
    },
    "tags": []
   },
   "outputs": [
    {
     "data": {
      "text/html": [
       "<div>\n",
       "<style scoped>\n",
       "    .dataframe tbody tr th:only-of-type {\n",
       "        vertical-align: middle;\n",
       "    }\n",
       "\n",
       "    .dataframe tbody tr th {\n",
       "        vertical-align: top;\n",
       "    }\n",
       "\n",
       "    .dataframe thead th {\n",
       "        text-align: right;\n",
       "    }\n",
       "</style>\n",
       "<table border=\"1\" class=\"dataframe\">\n",
       "  <thead>\n",
       "    <tr style=\"text-align: right;\">\n",
       "      <th></th>\n",
       "      <th>Undergraduate Major</th>\n",
       "      <th>Starting Median Salary</th>\n",
       "      <th>Mid-Career Median Salary</th>\n",
       "      <th>Mid-Career 10th Percentile Salary</th>\n",
       "      <th>Mid-Career 90th Percentile Salary</th>\n",
       "      <th>Group</th>\n",
       "    </tr>\n",
       "  </thead>\n",
       "  <tbody>\n",
       "    <tr>\n",
       "      <th>0</th>\n",
       "      <td>False</td>\n",
       "      <td>False</td>\n",
       "      <td>False</td>\n",
       "      <td>False</td>\n",
       "      <td>False</td>\n",
       "      <td>False</td>\n",
       "    </tr>\n",
       "    <tr>\n",
       "      <th>1</th>\n",
       "      <td>False</td>\n",
       "      <td>False</td>\n",
       "      <td>False</td>\n",
       "      <td>False</td>\n",
       "      <td>False</td>\n",
       "      <td>False</td>\n",
       "    </tr>\n",
       "    <tr>\n",
       "      <th>2</th>\n",
       "      <td>False</td>\n",
       "      <td>False</td>\n",
       "      <td>False</td>\n",
       "      <td>False</td>\n",
       "      <td>False</td>\n",
       "      <td>False</td>\n",
       "    </tr>\n",
       "    <tr>\n",
       "      <th>3</th>\n",
       "      <td>False</td>\n",
       "      <td>False</td>\n",
       "      <td>False</td>\n",
       "      <td>False</td>\n",
       "      <td>False</td>\n",
       "      <td>False</td>\n",
       "    </tr>\n",
       "    <tr>\n",
       "      <th>4</th>\n",
       "      <td>False</td>\n",
       "      <td>False</td>\n",
       "      <td>False</td>\n",
       "      <td>False</td>\n",
       "      <td>False</td>\n",
       "      <td>False</td>\n",
       "    </tr>\n",
       "    <tr>\n",
       "      <th>5</th>\n",
       "      <td>False</td>\n",
       "      <td>False</td>\n",
       "      <td>False</td>\n",
       "      <td>False</td>\n",
       "      <td>False</td>\n",
       "      <td>False</td>\n",
       "    </tr>\n",
       "    <tr>\n",
       "      <th>6</th>\n",
       "      <td>False</td>\n",
       "      <td>False</td>\n",
       "      <td>False</td>\n",
       "      <td>False</td>\n",
       "      <td>False</td>\n",
       "      <td>False</td>\n",
       "    </tr>\n",
       "    <tr>\n",
       "      <th>7</th>\n",
       "      <td>False</td>\n",
       "      <td>False</td>\n",
       "      <td>False</td>\n",
       "      <td>False</td>\n",
       "      <td>False</td>\n",
       "      <td>False</td>\n",
       "    </tr>\n",
       "    <tr>\n",
       "      <th>8</th>\n",
       "      <td>False</td>\n",
       "      <td>False</td>\n",
       "      <td>False</td>\n",
       "      <td>False</td>\n",
       "      <td>False</td>\n",
       "      <td>False</td>\n",
       "    </tr>\n",
       "    <tr>\n",
       "      <th>9</th>\n",
       "      <td>False</td>\n",
       "      <td>False</td>\n",
       "      <td>False</td>\n",
       "      <td>False</td>\n",
       "      <td>False</td>\n",
       "      <td>False</td>\n",
       "    </tr>\n",
       "    <tr>\n",
       "      <th>10</th>\n",
       "      <td>False</td>\n",
       "      <td>False</td>\n",
       "      <td>False</td>\n",
       "      <td>False</td>\n",
       "      <td>False</td>\n",
       "      <td>False</td>\n",
       "    </tr>\n",
       "    <tr>\n",
       "      <th>11</th>\n",
       "      <td>False</td>\n",
       "      <td>False</td>\n",
       "      <td>False</td>\n",
       "      <td>False</td>\n",
       "      <td>False</td>\n",
       "      <td>False</td>\n",
       "    </tr>\n",
       "    <tr>\n",
       "      <th>12</th>\n",
       "      <td>False</td>\n",
       "      <td>False</td>\n",
       "      <td>False</td>\n",
       "      <td>False</td>\n",
       "      <td>False</td>\n",
       "      <td>False</td>\n",
       "    </tr>\n",
       "    <tr>\n",
       "      <th>13</th>\n",
       "      <td>False</td>\n",
       "      <td>False</td>\n",
       "      <td>False</td>\n",
       "      <td>False</td>\n",
       "      <td>False</td>\n",
       "      <td>False</td>\n",
       "    </tr>\n",
       "    <tr>\n",
       "      <th>14</th>\n",
       "      <td>False</td>\n",
       "      <td>False</td>\n",
       "      <td>False</td>\n",
       "      <td>False</td>\n",
       "      <td>False</td>\n",
       "      <td>False</td>\n",
       "    </tr>\n",
       "    <tr>\n",
       "      <th>15</th>\n",
       "      <td>False</td>\n",
       "      <td>False</td>\n",
       "      <td>False</td>\n",
       "      <td>False</td>\n",
       "      <td>False</td>\n",
       "      <td>False</td>\n",
       "    </tr>\n",
       "    <tr>\n",
       "      <th>16</th>\n",
       "      <td>False</td>\n",
       "      <td>False</td>\n",
       "      <td>False</td>\n",
       "      <td>False</td>\n",
       "      <td>False</td>\n",
       "      <td>False</td>\n",
       "    </tr>\n",
       "    <tr>\n",
       "      <th>17</th>\n",
       "      <td>False</td>\n",
       "      <td>False</td>\n",
       "      <td>False</td>\n",
       "      <td>False</td>\n",
       "      <td>False</td>\n",
       "      <td>False</td>\n",
       "    </tr>\n",
       "    <tr>\n",
       "      <th>18</th>\n",
       "      <td>False</td>\n",
       "      <td>False</td>\n",
       "      <td>False</td>\n",
       "      <td>False</td>\n",
       "      <td>False</td>\n",
       "      <td>False</td>\n",
       "    </tr>\n",
       "    <tr>\n",
       "      <th>19</th>\n",
       "      <td>False</td>\n",
       "      <td>False</td>\n",
       "      <td>False</td>\n",
       "      <td>False</td>\n",
       "      <td>False</td>\n",
       "      <td>False</td>\n",
       "    </tr>\n",
       "    <tr>\n",
       "      <th>20</th>\n",
       "      <td>False</td>\n",
       "      <td>False</td>\n",
       "      <td>False</td>\n",
       "      <td>False</td>\n",
       "      <td>False</td>\n",
       "      <td>False</td>\n",
       "    </tr>\n",
       "    <tr>\n",
       "      <th>21</th>\n",
       "      <td>False</td>\n",
       "      <td>False</td>\n",
       "      <td>False</td>\n",
       "      <td>False</td>\n",
       "      <td>False</td>\n",
       "      <td>False</td>\n",
       "    </tr>\n",
       "    <tr>\n",
       "      <th>22</th>\n",
       "      <td>False</td>\n",
       "      <td>False</td>\n",
       "      <td>False</td>\n",
       "      <td>False</td>\n",
       "      <td>False</td>\n",
       "      <td>False</td>\n",
       "    </tr>\n",
       "    <tr>\n",
       "      <th>23</th>\n",
       "      <td>False</td>\n",
       "      <td>False</td>\n",
       "      <td>False</td>\n",
       "      <td>False</td>\n",
       "      <td>False</td>\n",
       "      <td>False</td>\n",
       "    </tr>\n",
       "    <tr>\n",
       "      <th>24</th>\n",
       "      <td>False</td>\n",
       "      <td>False</td>\n",
       "      <td>False</td>\n",
       "      <td>False</td>\n",
       "      <td>False</td>\n",
       "      <td>False</td>\n",
       "    </tr>\n",
       "    <tr>\n",
       "      <th>25</th>\n",
       "      <td>False</td>\n",
       "      <td>False</td>\n",
       "      <td>False</td>\n",
       "      <td>False</td>\n",
       "      <td>False</td>\n",
       "      <td>False</td>\n",
       "    </tr>\n",
       "    <tr>\n",
       "      <th>26</th>\n",
       "      <td>False</td>\n",
       "      <td>False</td>\n",
       "      <td>False</td>\n",
       "      <td>False</td>\n",
       "      <td>False</td>\n",
       "      <td>False</td>\n",
       "    </tr>\n",
       "    <tr>\n",
       "      <th>27</th>\n",
       "      <td>False</td>\n",
       "      <td>False</td>\n",
       "      <td>False</td>\n",
       "      <td>False</td>\n",
       "      <td>False</td>\n",
       "      <td>False</td>\n",
       "    </tr>\n",
       "    <tr>\n",
       "      <th>28</th>\n",
       "      <td>False</td>\n",
       "      <td>False</td>\n",
       "      <td>False</td>\n",
       "      <td>False</td>\n",
       "      <td>False</td>\n",
       "      <td>False</td>\n",
       "    </tr>\n",
       "    <tr>\n",
       "      <th>29</th>\n",
       "      <td>False</td>\n",
       "      <td>False</td>\n",
       "      <td>False</td>\n",
       "      <td>False</td>\n",
       "      <td>False</td>\n",
       "      <td>False</td>\n",
       "    </tr>\n",
       "    <tr>\n",
       "      <th>30</th>\n",
       "      <td>False</td>\n",
       "      <td>False</td>\n",
       "      <td>False</td>\n",
       "      <td>False</td>\n",
       "      <td>False</td>\n",
       "      <td>False</td>\n",
       "    </tr>\n",
       "    <tr>\n",
       "      <th>31</th>\n",
       "      <td>False</td>\n",
       "      <td>False</td>\n",
       "      <td>False</td>\n",
       "      <td>False</td>\n",
       "      <td>False</td>\n",
       "      <td>False</td>\n",
       "    </tr>\n",
       "    <tr>\n",
       "      <th>32</th>\n",
       "      <td>False</td>\n",
       "      <td>False</td>\n",
       "      <td>False</td>\n",
       "      <td>False</td>\n",
       "      <td>False</td>\n",
       "      <td>False</td>\n",
       "    </tr>\n",
       "    <tr>\n",
       "      <th>33</th>\n",
       "      <td>False</td>\n",
       "      <td>False</td>\n",
       "      <td>False</td>\n",
       "      <td>False</td>\n",
       "      <td>False</td>\n",
       "      <td>False</td>\n",
       "    </tr>\n",
       "    <tr>\n",
       "      <th>34</th>\n",
       "      <td>False</td>\n",
       "      <td>False</td>\n",
       "      <td>False</td>\n",
       "      <td>False</td>\n",
       "      <td>False</td>\n",
       "      <td>False</td>\n",
       "    </tr>\n",
       "    <tr>\n",
       "      <th>35</th>\n",
       "      <td>False</td>\n",
       "      <td>False</td>\n",
       "      <td>False</td>\n",
       "      <td>False</td>\n",
       "      <td>False</td>\n",
       "      <td>False</td>\n",
       "    </tr>\n",
       "    <tr>\n",
       "      <th>36</th>\n",
       "      <td>False</td>\n",
       "      <td>False</td>\n",
       "      <td>False</td>\n",
       "      <td>False</td>\n",
       "      <td>False</td>\n",
       "      <td>False</td>\n",
       "    </tr>\n",
       "    <tr>\n",
       "      <th>37</th>\n",
       "      <td>False</td>\n",
       "      <td>False</td>\n",
       "      <td>False</td>\n",
       "      <td>False</td>\n",
       "      <td>False</td>\n",
       "      <td>False</td>\n",
       "    </tr>\n",
       "    <tr>\n",
       "      <th>38</th>\n",
       "      <td>False</td>\n",
       "      <td>False</td>\n",
       "      <td>False</td>\n",
       "      <td>False</td>\n",
       "      <td>False</td>\n",
       "      <td>False</td>\n",
       "    </tr>\n",
       "    <tr>\n",
       "      <th>39</th>\n",
       "      <td>False</td>\n",
       "      <td>False</td>\n",
       "      <td>False</td>\n",
       "      <td>False</td>\n",
       "      <td>False</td>\n",
       "      <td>False</td>\n",
       "    </tr>\n",
       "    <tr>\n",
       "      <th>40</th>\n",
       "      <td>False</td>\n",
       "      <td>False</td>\n",
       "      <td>False</td>\n",
       "      <td>False</td>\n",
       "      <td>False</td>\n",
       "      <td>False</td>\n",
       "    </tr>\n",
       "    <tr>\n",
       "      <th>41</th>\n",
       "      <td>False</td>\n",
       "      <td>False</td>\n",
       "      <td>False</td>\n",
       "      <td>False</td>\n",
       "      <td>False</td>\n",
       "      <td>False</td>\n",
       "    </tr>\n",
       "    <tr>\n",
       "      <th>42</th>\n",
       "      <td>False</td>\n",
       "      <td>False</td>\n",
       "      <td>False</td>\n",
       "      <td>False</td>\n",
       "      <td>False</td>\n",
       "      <td>False</td>\n",
       "    </tr>\n",
       "    <tr>\n",
       "      <th>43</th>\n",
       "      <td>False</td>\n",
       "      <td>False</td>\n",
       "      <td>False</td>\n",
       "      <td>False</td>\n",
       "      <td>False</td>\n",
       "      <td>False</td>\n",
       "    </tr>\n",
       "    <tr>\n",
       "      <th>44</th>\n",
       "      <td>False</td>\n",
       "      <td>False</td>\n",
       "      <td>False</td>\n",
       "      <td>False</td>\n",
       "      <td>False</td>\n",
       "      <td>False</td>\n",
       "    </tr>\n",
       "    <tr>\n",
       "      <th>45</th>\n",
       "      <td>False</td>\n",
       "      <td>False</td>\n",
       "      <td>False</td>\n",
       "      <td>False</td>\n",
       "      <td>False</td>\n",
       "      <td>False</td>\n",
       "    </tr>\n",
       "    <tr>\n",
       "      <th>46</th>\n",
       "      <td>False</td>\n",
       "      <td>False</td>\n",
       "      <td>False</td>\n",
       "      <td>False</td>\n",
       "      <td>False</td>\n",
       "      <td>False</td>\n",
       "    </tr>\n",
       "    <tr>\n",
       "      <th>47</th>\n",
       "      <td>False</td>\n",
       "      <td>False</td>\n",
       "      <td>False</td>\n",
       "      <td>False</td>\n",
       "      <td>False</td>\n",
       "      <td>False</td>\n",
       "    </tr>\n",
       "    <tr>\n",
       "      <th>48</th>\n",
       "      <td>False</td>\n",
       "      <td>False</td>\n",
       "      <td>False</td>\n",
       "      <td>False</td>\n",
       "      <td>False</td>\n",
       "      <td>False</td>\n",
       "    </tr>\n",
       "    <tr>\n",
       "      <th>49</th>\n",
       "      <td>False</td>\n",
       "      <td>False</td>\n",
       "      <td>False</td>\n",
       "      <td>False</td>\n",
       "      <td>False</td>\n",
       "      <td>False</td>\n",
       "    </tr>\n",
       "    <tr>\n",
       "      <th>50</th>\n",
       "      <td>False</td>\n",
       "      <td>True</td>\n",
       "      <td>True</td>\n",
       "      <td>True</td>\n",
       "      <td>True</td>\n",
       "      <td>True</td>\n",
       "    </tr>\n",
       "  </tbody>\n",
       "</table>\n",
       "</div>"
      ],
      "text/plain": [
       "    Undergraduate Major  Starting Median Salary  Mid-Career Median Salary  \\\n",
       "0                 False                   False                     False   \n",
       "1                 False                   False                     False   \n",
       "2                 False                   False                     False   \n",
       "3                 False                   False                     False   \n",
       "4                 False                   False                     False   \n",
       "5                 False                   False                     False   \n",
       "6                 False                   False                     False   \n",
       "7                 False                   False                     False   \n",
       "8                 False                   False                     False   \n",
       "9                 False                   False                     False   \n",
       "10                False                   False                     False   \n",
       "11                False                   False                     False   \n",
       "12                False                   False                     False   \n",
       "13                False                   False                     False   \n",
       "14                False                   False                     False   \n",
       "15                False                   False                     False   \n",
       "16                False                   False                     False   \n",
       "17                False                   False                     False   \n",
       "18                False                   False                     False   \n",
       "19                False                   False                     False   \n",
       "20                False                   False                     False   \n",
       "21                False                   False                     False   \n",
       "22                False                   False                     False   \n",
       "23                False                   False                     False   \n",
       "24                False                   False                     False   \n",
       "25                False                   False                     False   \n",
       "26                False                   False                     False   \n",
       "27                False                   False                     False   \n",
       "28                False                   False                     False   \n",
       "29                False                   False                     False   \n",
       "30                False                   False                     False   \n",
       "31                False                   False                     False   \n",
       "32                False                   False                     False   \n",
       "33                False                   False                     False   \n",
       "34                False                   False                     False   \n",
       "35                False                   False                     False   \n",
       "36                False                   False                     False   \n",
       "37                False                   False                     False   \n",
       "38                False                   False                     False   \n",
       "39                False                   False                     False   \n",
       "40                False                   False                     False   \n",
       "41                False                   False                     False   \n",
       "42                False                   False                     False   \n",
       "43                False                   False                     False   \n",
       "44                False                   False                     False   \n",
       "45                False                   False                     False   \n",
       "46                False                   False                     False   \n",
       "47                False                   False                     False   \n",
       "48                False                   False                     False   \n",
       "49                False                   False                     False   \n",
       "50                False                    True                      True   \n",
       "\n",
       "    Mid-Career 10th Percentile Salary  Mid-Career 90th Percentile Salary  \\\n",
       "0                               False                              False   \n",
       "1                               False                              False   \n",
       "2                               False                              False   \n",
       "3                               False                              False   \n",
       "4                               False                              False   \n",
       "5                               False                              False   \n",
       "6                               False                              False   \n",
       "7                               False                              False   \n",
       "8                               False                              False   \n",
       "9                               False                              False   \n",
       "10                              False                              False   \n",
       "11                              False                              False   \n",
       "12                              False                              False   \n",
       "13                              False                              False   \n",
       "14                              False                              False   \n",
       "15                              False                              False   \n",
       "16                              False                              False   \n",
       "17                              False                              False   \n",
       "18                              False                              False   \n",
       "19                              False                              False   \n",
       "20                              False                              False   \n",
       "21                              False                              False   \n",
       "22                              False                              False   \n",
       "23                              False                              False   \n",
       "24                              False                              False   \n",
       "25                              False                              False   \n",
       "26                              False                              False   \n",
       "27                              False                              False   \n",
       "28                              False                              False   \n",
       "29                              False                              False   \n",
       "30                              False                              False   \n",
       "31                              False                              False   \n",
       "32                              False                              False   \n",
       "33                              False                              False   \n",
       "34                              False                              False   \n",
       "35                              False                              False   \n",
       "36                              False                              False   \n",
       "37                              False                              False   \n",
       "38                              False                              False   \n",
       "39                              False                              False   \n",
       "40                              False                              False   \n",
       "41                              False                              False   \n",
       "42                              False                              False   \n",
       "43                              False                              False   \n",
       "44                              False                              False   \n",
       "45                              False                              False   \n",
       "46                              False                              False   \n",
       "47                              False                              False   \n",
       "48                              False                              False   \n",
       "49                              False                              False   \n",
       "50                               True                               True   \n",
       "\n",
       "    Group  \n",
       "0   False  \n",
       "1   False  \n",
       "2   False  \n",
       "3   False  \n",
       "4   False  \n",
       "5   False  \n",
       "6   False  \n",
       "7   False  \n",
       "8   False  \n",
       "9   False  \n",
       "10  False  \n",
       "11  False  \n",
       "12  False  \n",
       "13  False  \n",
       "14  False  \n",
       "15  False  \n",
       "16  False  \n",
       "17  False  \n",
       "18  False  \n",
       "19  False  \n",
       "20  False  \n",
       "21  False  \n",
       "22  False  \n",
       "23  False  \n",
       "24  False  \n",
       "25  False  \n",
       "26  False  \n",
       "27  False  \n",
       "28  False  \n",
       "29  False  \n",
       "30  False  \n",
       "31  False  \n",
       "32  False  \n",
       "33  False  \n",
       "34  False  \n",
       "35  False  \n",
       "36  False  \n",
       "37  False  \n",
       "38  False  \n",
       "39  False  \n",
       "40  False  \n",
       "41  False  \n",
       "42  False  \n",
       "43  False  \n",
       "44  False  \n",
       "45  False  \n",
       "46  False  \n",
       "47  False  \n",
       "48  False  \n",
       "49  False  \n",
       "50   True  "
      ]
     },
     "execution_count": 5,
     "metadata": {},
     "output_type": "execute_result"
    }
   ],
   "source": [
    "df.isna()"
   ]
  },
  {
   "cell_type": "markdown",
   "id": "603537f4",
   "metadata": {
    "papermill": {
     "duration": 0.014808,
     "end_time": "2022-11-15T11:07:24.050504",
     "exception": false,
     "start_time": "2022-11-15T11:07:24.035696",
     "status": "completed"
    },
    "tags": []
   },
   "source": [
    "Did you find anything? Check the last couple of rows in the dataframe:"
   ]
  },
  {
   "cell_type": "code",
   "execution_count": 6,
   "id": "d33ef665",
   "metadata": {
    "execution": {
     "iopub.execute_input": "2022-11-15T11:07:24.083490Z",
     "iopub.status.busy": "2022-11-15T11:07:24.082757Z",
     "iopub.status.idle": "2022-11-15T11:07:24.096692Z",
     "shell.execute_reply": "2022-11-15T11:07:24.095775Z"
    },
    "papermill": {
     "duration": 0.033049,
     "end_time": "2022-11-15T11:07:24.099003",
     "exception": false,
     "start_time": "2022-11-15T11:07:24.065954",
     "status": "completed"
    },
    "tags": []
   },
   "outputs": [
    {
     "data": {
      "text/html": [
       "<div>\n",
       "<style scoped>\n",
       "    .dataframe tbody tr th:only-of-type {\n",
       "        vertical-align: middle;\n",
       "    }\n",
       "\n",
       "    .dataframe tbody tr th {\n",
       "        vertical-align: top;\n",
       "    }\n",
       "\n",
       "    .dataframe thead th {\n",
       "        text-align: right;\n",
       "    }\n",
       "</style>\n",
       "<table border=\"1\" class=\"dataframe\">\n",
       "  <thead>\n",
       "    <tr style=\"text-align: right;\">\n",
       "      <th></th>\n",
       "      <th>Undergraduate Major</th>\n",
       "      <th>Starting Median Salary</th>\n",
       "      <th>Mid-Career Median Salary</th>\n",
       "      <th>Mid-Career 10th Percentile Salary</th>\n",
       "      <th>Mid-Career 90th Percentile Salary</th>\n",
       "      <th>Group</th>\n",
       "    </tr>\n",
       "  </thead>\n",
       "  <tbody>\n",
       "    <tr>\n",
       "      <th>46</th>\n",
       "      <td>Psychology</td>\n",
       "      <td>35900.0</td>\n",
       "      <td>60400.0</td>\n",
       "      <td>31600.0</td>\n",
       "      <td>127000.0</td>\n",
       "      <td>HASS</td>\n",
       "    </tr>\n",
       "    <tr>\n",
       "      <th>47</th>\n",
       "      <td>Religion</td>\n",
       "      <td>34100.0</td>\n",
       "      <td>52000.0</td>\n",
       "      <td>29700.0</td>\n",
       "      <td>96400.0</td>\n",
       "      <td>HASS</td>\n",
       "    </tr>\n",
       "    <tr>\n",
       "      <th>48</th>\n",
       "      <td>Sociology</td>\n",
       "      <td>36500.0</td>\n",
       "      <td>58200.0</td>\n",
       "      <td>30700.0</td>\n",
       "      <td>118000.0</td>\n",
       "      <td>HASS</td>\n",
       "    </tr>\n",
       "    <tr>\n",
       "      <th>49</th>\n",
       "      <td>Spanish</td>\n",
       "      <td>34000.0</td>\n",
       "      <td>53100.0</td>\n",
       "      <td>31000.0</td>\n",
       "      <td>96400.0</td>\n",
       "      <td>HASS</td>\n",
       "    </tr>\n",
       "    <tr>\n",
       "      <th>50</th>\n",
       "      <td>Source: PayScale Inc.</td>\n",
       "      <td>NaN</td>\n",
       "      <td>NaN</td>\n",
       "      <td>NaN</td>\n",
       "      <td>NaN</td>\n",
       "      <td>NaN</td>\n",
       "    </tr>\n",
       "  </tbody>\n",
       "</table>\n",
       "</div>"
      ],
      "text/plain": [
       "      Undergraduate Major  Starting Median Salary  Mid-Career Median Salary  \\\n",
       "46             Psychology                 35900.0                   60400.0   \n",
       "47               Religion                 34100.0                   52000.0   \n",
       "48              Sociology                 36500.0                   58200.0   \n",
       "49                Spanish                 34000.0                   53100.0   \n",
       "50  Source: PayScale Inc.                     NaN                       NaN   \n",
       "\n",
       "    Mid-Career 10th Percentile Salary  Mid-Career 90th Percentile Salary Group  \n",
       "46                            31600.0                           127000.0  HASS  \n",
       "47                            29700.0                            96400.0  HASS  \n",
       "48                            30700.0                           118000.0  HASS  \n",
       "49                            31000.0                            96400.0  HASS  \n",
       "50                                NaN                                NaN   NaN  "
      ]
     },
     "execution_count": 6,
     "metadata": {},
     "output_type": "execute_result"
    }
   ],
   "source": [
    "df.tail()"
   ]
  },
  {
   "cell_type": "markdown",
   "id": "371b773a",
   "metadata": {
    "papermill": {
     "duration": 0.015281,
     "end_time": "2022-11-15T11:07:24.130580",
     "exception": false,
     "start_time": "2022-11-15T11:07:24.115299",
     "status": "completed"
    },
    "tags": []
   },
   "source": [
    "Aha! We have a row that contains some information regarding the source of the data with blank values for all the other other columns."
   ]
  },
  {
   "cell_type": "markdown",
   "id": "7e8e78cc",
   "metadata": {
    "papermill": {
     "duration": 0.016208,
     "end_time": "2022-11-15T11:07:24.163001",
     "exception": false,
     "start_time": "2022-11-15T11:07:24.146793",
     "status": "completed"
    },
    "tags": []
   },
   "source": [
    "**Delete the Last Row**"
   ]
  },
  {
   "cell_type": "markdown",
   "id": "c28f4b66",
   "metadata": {
    "papermill": {
     "duration": 0.015171,
     "end_time": "2022-11-15T11:07:24.195518",
     "exception": false,
     "start_time": "2022-11-15T11:07:24.180347",
     "status": "completed"
    },
    "tags": []
   },
   "source": [
    "We don't want this row in our dataframe. There's two ways you can go about removing this row. The first way is to manually remove the row at index 50. The second way is to simply use the `.dropna()` method from pandas. Let's create a new dataframe without the last row and examine the last 5 rows to make sure we removed the last row:"
   ]
  },
  {
   "cell_type": "code",
   "execution_count": 7,
   "id": "cea0d1c8",
   "metadata": {
    "execution": {
     "iopub.execute_input": "2022-11-15T11:07:24.230087Z",
     "iopub.status.busy": "2022-11-15T11:07:24.229640Z",
     "iopub.status.idle": "2022-11-15T11:07:24.252346Z",
     "shell.execute_reply": "2022-11-15T11:07:24.250790Z"
    },
    "papermill": {
     "duration": 0.043504,
     "end_time": "2022-11-15T11:07:24.255464",
     "exception": false,
     "start_time": "2022-11-15T11:07:24.211960",
     "status": "completed"
    },
    "tags": []
   },
   "outputs": [
    {
     "data": {
      "text/html": [
       "<div>\n",
       "<style scoped>\n",
       "    .dataframe tbody tr th:only-of-type {\n",
       "        vertical-align: middle;\n",
       "    }\n",
       "\n",
       "    .dataframe tbody tr th {\n",
       "        vertical-align: top;\n",
       "    }\n",
       "\n",
       "    .dataframe thead th {\n",
       "        text-align: right;\n",
       "    }\n",
       "</style>\n",
       "<table border=\"1\" class=\"dataframe\">\n",
       "  <thead>\n",
       "    <tr style=\"text-align: right;\">\n",
       "      <th></th>\n",
       "      <th>Undergraduate Major</th>\n",
       "      <th>Starting Median Salary</th>\n",
       "      <th>Mid-Career Median Salary</th>\n",
       "      <th>Mid-Career 10th Percentile Salary</th>\n",
       "      <th>Mid-Career 90th Percentile Salary</th>\n",
       "      <th>Group</th>\n",
       "    </tr>\n",
       "  </thead>\n",
       "  <tbody>\n",
       "    <tr>\n",
       "      <th>45</th>\n",
       "      <td>Political Science</td>\n",
       "      <td>40800.0</td>\n",
       "      <td>78200.0</td>\n",
       "      <td>41200.0</td>\n",
       "      <td>168000.0</td>\n",
       "      <td>HASS</td>\n",
       "    </tr>\n",
       "    <tr>\n",
       "      <th>46</th>\n",
       "      <td>Psychology</td>\n",
       "      <td>35900.0</td>\n",
       "      <td>60400.0</td>\n",
       "      <td>31600.0</td>\n",
       "      <td>127000.0</td>\n",
       "      <td>HASS</td>\n",
       "    </tr>\n",
       "    <tr>\n",
       "      <th>47</th>\n",
       "      <td>Religion</td>\n",
       "      <td>34100.0</td>\n",
       "      <td>52000.0</td>\n",
       "      <td>29700.0</td>\n",
       "      <td>96400.0</td>\n",
       "      <td>HASS</td>\n",
       "    </tr>\n",
       "    <tr>\n",
       "      <th>48</th>\n",
       "      <td>Sociology</td>\n",
       "      <td>36500.0</td>\n",
       "      <td>58200.0</td>\n",
       "      <td>30700.0</td>\n",
       "      <td>118000.0</td>\n",
       "      <td>HASS</td>\n",
       "    </tr>\n",
       "    <tr>\n",
       "      <th>49</th>\n",
       "      <td>Spanish</td>\n",
       "      <td>34000.0</td>\n",
       "      <td>53100.0</td>\n",
       "      <td>31000.0</td>\n",
       "      <td>96400.0</td>\n",
       "      <td>HASS</td>\n",
       "    </tr>\n",
       "  </tbody>\n",
       "</table>\n",
       "</div>"
      ],
      "text/plain": [
       "   Undergraduate Major  Starting Median Salary  Mid-Career Median Salary  \\\n",
       "45   Political Science                 40800.0                   78200.0   \n",
       "46          Psychology                 35900.0                   60400.0   \n",
       "47            Religion                 34100.0                   52000.0   \n",
       "48           Sociology                 36500.0                   58200.0   \n",
       "49             Spanish                 34000.0                   53100.0   \n",
       "\n",
       "    Mid-Career 10th Percentile Salary  Mid-Career 90th Percentile Salary Group  \n",
       "45                            41200.0                           168000.0  HASS  \n",
       "46                            31600.0                           127000.0  HASS  \n",
       "47                            29700.0                            96400.0  HASS  \n",
       "48                            30700.0                           118000.0  HASS  \n",
       "49                            31000.0                            96400.0  HASS  "
      ]
     },
     "execution_count": 7,
     "metadata": {},
     "output_type": "execute_result"
    }
   ],
   "source": [
    "clean_df = df.dropna()\n",
    "clean_df.tail()"
   ]
  },
  {
   "cell_type": "markdown",
   "id": "c8158535",
   "metadata": {
    "papermill": {
     "duration": 0.0159,
     "end_time": "2022-11-15T11:07:24.288418",
     "exception": false,
     "start_time": "2022-11-15T11:07:24.272518",
     "status": "completed"
    },
    "tags": []
   },
   "source": [
    "# Accessing Columns and Individual Cells in a Dataframe"
   ]
  },
  {
   "cell_type": "markdown",
   "id": "c40d36e0",
   "metadata": {
    "papermill": {
     "duration": 0.015471,
     "end_time": "2022-11-15T11:07:24.319723",
     "exception": false,
     "start_time": "2022-11-15T11:07:24.304252",
     "status": "completed"
    },
    "tags": []
   },
   "source": [
    "**Find College Major with Highest Starting Salaries**"
   ]
  },
  {
   "cell_type": "markdown",
   "id": "7696518f",
   "metadata": {
    "papermill": {
     "duration": 0.015856,
     "end_time": "2022-11-15T11:07:24.351409",
     "exception": false,
     "start_time": "2022-11-15T11:07:24.335553",
     "status": "completed"
    },
    "tags": []
   },
   "source": [
    "To access a particular column from a data frame we can use the square bracket notation, like so:"
   ]
  },
  {
   "cell_type": "code",
   "execution_count": 8,
   "id": "2c4e13d5",
   "metadata": {
    "execution": {
     "iopub.execute_input": "2022-11-15T11:07:24.386410Z",
     "iopub.status.busy": "2022-11-15T11:07:24.385654Z",
     "iopub.status.idle": "2022-11-15T11:07:24.398557Z",
     "shell.execute_reply": "2022-11-15T11:07:24.397365Z"
    },
    "papermill": {
     "duration": 0.03411,
     "end_time": "2022-11-15T11:07:24.401385",
     "exception": false,
     "start_time": "2022-11-15T11:07:24.367275",
     "status": "completed"
    },
    "tags": []
   },
   "outputs": [
    {
     "data": {
      "text/plain": [
       "0     46000.0\n",
       "1     57700.0\n",
       "2     42600.0\n",
       "3     36800.0\n",
       "4     41600.0\n",
       "5     35800.0\n",
       "6     38800.0\n",
       "7     43000.0\n",
       "8     63200.0\n",
       "9     42600.0\n",
       "10    53900.0\n",
       "11    38100.0\n",
       "12    61400.0\n",
       "13    55900.0\n",
       "14    53700.0\n",
       "15    35000.0\n",
       "16    35900.0\n",
       "17    50100.0\n",
       "18    34900.0\n",
       "19    60900.0\n",
       "20    38000.0\n",
       "21    37900.0\n",
       "22    47900.0\n",
       "23    39100.0\n",
       "24    41200.0\n",
       "25    43500.0\n",
       "26    35700.0\n",
       "27    38800.0\n",
       "28    39200.0\n",
       "29    37800.0\n",
       "30    57700.0\n",
       "31    49100.0\n",
       "32    36100.0\n",
       "33    40900.0\n",
       "34    35600.0\n",
       "35    49200.0\n",
       "36    40800.0\n",
       "37    45400.0\n",
       "38    57900.0\n",
       "39    35900.0\n",
       "40    54200.0\n",
       "41    39900.0\n",
       "42    39900.0\n",
       "43    74300.0\n",
       "44    50300.0\n",
       "45    40800.0\n",
       "46    35900.0\n",
       "47    34100.0\n",
       "48    36500.0\n",
       "49    34000.0\n",
       "Name: Starting Median Salary, dtype: float64"
      ]
     },
     "execution_count": 8,
     "metadata": {},
     "output_type": "execute_result"
    }
   ],
   "source": [
    "clean_df['Starting Median Salary']"
   ]
  },
  {
   "cell_type": "markdown",
   "id": "e81a16c7",
   "metadata": {
    "papermill": {
     "duration": 0.016548,
     "end_time": "2022-11-15T11:07:24.433994",
     "exception": false,
     "start_time": "2022-11-15T11:07:24.417446",
     "status": "completed"
    },
    "tags": []
   },
   "source": [
    "To find the highest starting salary we can simply chain the `.max()`method."
   ]
  },
  {
   "cell_type": "code",
   "execution_count": 9,
   "id": "7730206b",
   "metadata": {
    "execution": {
     "iopub.execute_input": "2022-11-15T11:07:24.468526Z",
     "iopub.status.busy": "2022-11-15T11:07:24.467739Z",
     "iopub.status.idle": "2022-11-15T11:07:24.474907Z",
     "shell.execute_reply": "2022-11-15T11:07:24.473751Z"
    },
    "papermill": {
     "duration": 0.027342,
     "end_time": "2022-11-15T11:07:24.477316",
     "exception": false,
     "start_time": "2022-11-15T11:07:24.449974",
     "status": "completed"
    },
    "tags": []
   },
   "outputs": [
    {
     "data": {
      "text/plain": [
       "74300.0"
      ]
     },
     "execution_count": 9,
     "metadata": {},
     "output_type": "execute_result"
    }
   ],
   "source": [
    "clean_df['Starting Median Salary'].max()"
   ]
  },
  {
   "cell_type": "markdown",
   "id": "0b1e7c81",
   "metadata": {
    "papermill": {
     "duration": 0.015761,
     "end_time": "2022-11-15T11:07:24.509035",
     "exception": false,
     "start_time": "2022-11-15T11:07:24.493274",
     "status": "completed"
    },
    "tags": []
   },
   "source": [
    "The highest starting salary is $74,300. But which college major earns this much on average? For this, we need to know the row number or index so that we can look up the name of the major. Lucky for us, the `.idxmax()` method will give us index for the row with the largest value."
   ]
  },
  {
   "cell_type": "code",
   "execution_count": 10,
   "id": "00e9ebda",
   "metadata": {
    "execution": {
     "iopub.execute_input": "2022-11-15T11:07:24.543327Z",
     "iopub.status.busy": "2022-11-15T11:07:24.542893Z",
     "iopub.status.idle": "2022-11-15T11:07:24.549941Z",
     "shell.execute_reply": "2022-11-15T11:07:24.548876Z"
    },
    "papermill": {
     "duration": 0.026655,
     "end_time": "2022-11-15T11:07:24.552104",
     "exception": false,
     "start_time": "2022-11-15T11:07:24.525449",
     "status": "completed"
    },
    "tags": []
   },
   "outputs": [
    {
     "data": {
      "text/plain": [
       "43"
      ]
     },
     "execution_count": 10,
     "metadata": {},
     "output_type": "execute_result"
    }
   ],
   "source": [
    "clean_df['Starting Median Salary'].idxmax()"
   ]
  },
  {
   "cell_type": "markdown",
   "id": "d016d374",
   "metadata": {
    "papermill": {
     "duration": 0.015657,
     "end_time": "2022-11-15T11:07:24.583877",
     "exception": false,
     "start_time": "2022-11-15T11:07:24.568220",
     "status": "completed"
    },
    "tags": []
   },
   "source": [
    "which is 43. To see the name of the major that corresponds to that particular row, we can use the `.loc` (location) property."
   ]
  },
  {
   "cell_type": "code",
   "execution_count": 11,
   "id": "a64a5c95",
   "metadata": {
    "execution": {
     "iopub.execute_input": "2022-11-15T11:07:24.618614Z",
     "iopub.status.busy": "2022-11-15T11:07:24.617682Z",
     "iopub.status.idle": "2022-11-15T11:07:24.626974Z",
     "shell.execute_reply": "2022-11-15T11:07:24.626081Z"
    },
    "papermill": {
     "duration": 0.029355,
     "end_time": "2022-11-15T11:07:24.629272",
     "exception": false,
     "start_time": "2022-11-15T11:07:24.599917",
     "status": "completed"
    },
    "tags": []
   },
   "outputs": [
    {
     "data": {
      "text/plain": [
       "'Physician Assistant'"
      ]
     },
     "execution_count": 11,
     "metadata": {},
     "output_type": "execute_result"
    }
   ],
   "source": [
    "clean_df['Undergraduate Major'].loc[43]"
   ]
  },
  {
   "cell_type": "markdown",
   "id": "65442ddf",
   "metadata": {
    "papermill": {
     "duration": 0.015783,
     "end_time": "2022-11-15T11:07:24.661751",
     "exception": false,
     "start_time": "2022-11-15T11:07:24.645968",
     "status": "completed"
    },
    "tags": []
   },
   "source": [
    "Here we are selecting both a column ('Undergraduate Major') and a row at index 43, so we are retrieving the value of a particular cell. You might see people using the double square brackets notation to achieve exactly the same thing: "
   ]
  },
  {
   "cell_type": "code",
   "execution_count": 12,
   "id": "d0c4e422",
   "metadata": {
    "execution": {
     "iopub.execute_input": "2022-11-15T11:07:24.696519Z",
     "iopub.status.busy": "2022-11-15T11:07:24.695444Z",
     "iopub.status.idle": "2022-11-15T11:07:24.702016Z",
     "shell.execute_reply": "2022-11-15T11:07:24.700965Z"
    },
    "papermill": {
     "duration": 0.026335,
     "end_time": "2022-11-15T11:07:24.704234",
     "exception": false,
     "start_time": "2022-11-15T11:07:24.677899",
     "status": "completed"
    },
    "tags": []
   },
   "outputs": [
    {
     "data": {
      "text/plain": [
       "'Physician Assistant'"
      ]
     },
     "execution_count": 12,
     "metadata": {},
     "output_type": "execute_result"
    }
   ],
   "source": [
    "clean_df['Undergraduate Major'][43]"
   ]
  },
  {
   "cell_type": "markdown",
   "id": "0d54ed95",
   "metadata": {
    "papermill": {
     "duration": 0.016525,
     "end_time": "2022-11-15T11:07:24.737545",
     "exception": false,
     "start_time": "2022-11-15T11:07:24.721020",
     "status": "completed"
    },
    "tags": []
   },
   "source": [
    "If you don't specify a particular column you can use the `.loc` property to retrieve an entire row:"
   ]
  },
  {
   "cell_type": "code",
   "execution_count": 13,
   "id": "061411e8",
   "metadata": {
    "execution": {
     "iopub.execute_input": "2022-11-15T11:07:24.773497Z",
     "iopub.status.busy": "2022-11-15T11:07:24.772723Z",
     "iopub.status.idle": "2022-11-15T11:07:24.781724Z",
     "shell.execute_reply": "2022-11-15T11:07:24.780624Z"
    },
    "papermill": {
     "duration": 0.029686,
     "end_time": "2022-11-15T11:07:24.784295",
     "exception": false,
     "start_time": "2022-11-15T11:07:24.754609",
     "status": "completed"
    },
    "tags": []
   },
   "outputs": [
    {
     "data": {
      "text/plain": [
       "Undergraduate Major                  Physician Assistant\n",
       "Starting Median Salary                           74300.0\n",
       "Mid-Career Median Salary                         91700.0\n",
       "Mid-Career 10th Percentile Salary                66400.0\n",
       "Mid-Career 90th Percentile Salary               124000.0\n",
       "Group                                               STEM\n",
       "Name: 43, dtype: object"
      ]
     },
     "execution_count": 13,
     "metadata": {},
     "output_type": "execute_result"
    }
   ],
   "source": [
    "clean_df.loc[43]"
   ]
  },
  {
   "cell_type": "markdown",
   "id": "f2aeb36c",
   "metadata": {
    "papermill": {
     "duration": 0.01593,
     "end_time": "2022-11-15T11:07:24.816616",
     "exception": false,
     "start_time": "2022-11-15T11:07:24.800686",
     "status": "completed"
    },
    "tags": []
   },
   "source": [
    "**Challenge**\n",
    "\n",
    "\n",
    "Now that we've found the major with the highest starting salary, can you write the code to find the following:\n",
    "\n",
    "* What college major has the highest mid-career salary? How much do graduates with this major earn? (Mid-career is defined as having 10+ years of experience).\n",
    "\n",
    "* Which college major has the lowest starting salary and how much do graduates earn after university?\n",
    "\n",
    "* Which college major has the lowest mid-career salary and how much can people expect to earn with this degree? \n"
   ]
  },
  {
   "cell_type": "code",
   "execution_count": 14,
   "id": "6ca36e07",
   "metadata": {
    "execution": {
     "iopub.execute_input": "2022-11-15T11:07:24.851074Z",
     "iopub.status.busy": "2022-11-15T11:07:24.850654Z",
     "iopub.status.idle": "2022-11-15T11:07:24.869222Z",
     "shell.execute_reply": "2022-11-15T11:07:24.867483Z"
    },
    "papermill": {
     "duration": 0.039092,
     "end_time": "2022-11-15T11:07:24.872126",
     "exception": false,
     "start_time": "2022-11-15T11:07:24.833034",
     "status": "completed"
    },
    "tags": []
   },
   "outputs": [
    {
     "data": {
      "text/html": [
       "<div>\n",
       "<style scoped>\n",
       "    .dataframe tbody tr th:only-of-type {\n",
       "        vertical-align: middle;\n",
       "    }\n",
       "\n",
       "    .dataframe tbody tr th {\n",
       "        vertical-align: top;\n",
       "    }\n",
       "\n",
       "    .dataframe thead th {\n",
       "        text-align: right;\n",
       "    }\n",
       "</style>\n",
       "<table border=\"1\" class=\"dataframe\">\n",
       "  <thead>\n",
       "    <tr style=\"text-align: right;\">\n",
       "      <th></th>\n",
       "      <th>Undergraduate Major</th>\n",
       "      <th>Starting Median Salary</th>\n",
       "      <th>Mid-Career Median Salary</th>\n",
       "      <th>Mid-Career 10th Percentile Salary</th>\n",
       "      <th>Mid-Career 90th Percentile Salary</th>\n",
       "      <th>Group</th>\n",
       "    </tr>\n",
       "  </thead>\n",
       "  <tbody>\n",
       "    <tr>\n",
       "      <th>0</th>\n",
       "      <td>Accounting</td>\n",
       "      <td>46000.0</td>\n",
       "      <td>77100.0</td>\n",
       "      <td>42200.0</td>\n",
       "      <td>152000.0</td>\n",
       "      <td>Business</td>\n",
       "    </tr>\n",
       "    <tr>\n",
       "      <th>1</th>\n",
       "      <td>Aerospace Engineering</td>\n",
       "      <td>57700.0</td>\n",
       "      <td>101000.0</td>\n",
       "      <td>64300.0</td>\n",
       "      <td>161000.0</td>\n",
       "      <td>STEM</td>\n",
       "    </tr>\n",
       "    <tr>\n",
       "      <th>2</th>\n",
       "      <td>Agriculture</td>\n",
       "      <td>42600.0</td>\n",
       "      <td>71900.0</td>\n",
       "      <td>36300.0</td>\n",
       "      <td>150000.0</td>\n",
       "      <td>Business</td>\n",
       "    </tr>\n",
       "    <tr>\n",
       "      <th>3</th>\n",
       "      <td>Anthropology</td>\n",
       "      <td>36800.0</td>\n",
       "      <td>61500.0</td>\n",
       "      <td>33800.0</td>\n",
       "      <td>138000.0</td>\n",
       "      <td>HASS</td>\n",
       "    </tr>\n",
       "    <tr>\n",
       "      <th>4</th>\n",
       "      <td>Architecture</td>\n",
       "      <td>41600.0</td>\n",
       "      <td>76800.0</td>\n",
       "      <td>50600.0</td>\n",
       "      <td>136000.0</td>\n",
       "      <td>Business</td>\n",
       "    </tr>\n",
       "  </tbody>\n",
       "</table>\n",
       "</div>"
      ],
      "text/plain": [
       "     Undergraduate Major  Starting Median Salary  Mid-Career Median Salary  \\\n",
       "0             Accounting                 46000.0                   77100.0   \n",
       "1  Aerospace Engineering                 57700.0                  101000.0   \n",
       "2            Agriculture                 42600.0                   71900.0   \n",
       "3           Anthropology                 36800.0                   61500.0   \n",
       "4           Architecture                 41600.0                   76800.0   \n",
       "\n",
       "   Mid-Career 10th Percentile Salary  Mid-Career 90th Percentile Salary  \\\n",
       "0                            42200.0                           152000.0   \n",
       "1                            64300.0                           161000.0   \n",
       "2                            36300.0                           150000.0   \n",
       "3                            33800.0                           138000.0   \n",
       "4                            50600.0                           136000.0   \n",
       "\n",
       "      Group  \n",
       "0  Business  \n",
       "1      STEM  \n",
       "2  Business  \n",
       "3      HASS  \n",
       "4  Business  "
      ]
     },
     "execution_count": 14,
     "metadata": {},
     "output_type": "execute_result"
    }
   ],
   "source": [
    "clean_df.head()"
   ]
  },
  {
   "cell_type": "markdown",
   "id": "ea617176",
   "metadata": {
    "execution": {
     "iopub.execute_input": "2022-11-15T10:24:31.332700Z",
     "iopub.status.busy": "2022-11-15T10:24:31.332184Z",
     "iopub.status.idle": "2022-11-15T10:24:31.363066Z",
     "shell.execute_reply": "2022-11-15T10:24:31.361187Z",
     "shell.execute_reply.started": "2022-11-15T10:24:31.332604Z"
    },
    "papermill": {
     "duration": 0.021794,
     "end_time": "2022-11-15T11:07:24.915808",
     "exception": false,
     "start_time": "2022-11-15T11:07:24.894014",
     "status": "completed"
    },
    "tags": []
   },
   "source": [
    "**What college major has the highest mid-career salary? How much do graduates with this major earn? (Mid-career is defined as having 10+ years of experience).**"
   ]
  },
  {
   "cell_type": "code",
   "execution_count": 15,
   "id": "e03243dc",
   "metadata": {
    "execution": {
     "iopub.execute_input": "2022-11-15T11:07:24.955504Z",
     "iopub.status.busy": "2022-11-15T11:07:24.955095Z",
     "iopub.status.idle": "2022-11-15T11:07:24.969103Z",
     "shell.execute_reply": "2022-11-15T11:07:24.968000Z"
    },
    "papermill": {
     "duration": 0.034342,
     "end_time": "2022-11-15T11:07:24.971414",
     "exception": false,
     "start_time": "2022-11-15T11:07:24.937072",
     "status": "completed"
    },
    "tags": []
   },
   "outputs": [
    {
     "data": {
      "text/html": [
       "<div>\n",
       "<style scoped>\n",
       "    .dataframe tbody tr th:only-of-type {\n",
       "        vertical-align: middle;\n",
       "    }\n",
       "\n",
       "    .dataframe tbody tr th {\n",
       "        vertical-align: top;\n",
       "    }\n",
       "\n",
       "    .dataframe thead th {\n",
       "        text-align: right;\n",
       "    }\n",
       "</style>\n",
       "<table border=\"1\" class=\"dataframe\">\n",
       "  <thead>\n",
       "    <tr style=\"text-align: right;\">\n",
       "      <th></th>\n",
       "      <th>Undergraduate Major</th>\n",
       "      <th>Starting Median Salary</th>\n",
       "      <th>Mid-Career Median Salary</th>\n",
       "      <th>Mid-Career 10th Percentile Salary</th>\n",
       "      <th>Mid-Career 90th Percentile Salary</th>\n",
       "      <th>Group</th>\n",
       "    </tr>\n",
       "  </thead>\n",
       "  <tbody>\n",
       "    <tr>\n",
       "      <th>8</th>\n",
       "      <td>Chemical Engineering</td>\n",
       "      <td>63200.0</td>\n",
       "      <td>107000.0</td>\n",
       "      <td>71900.0</td>\n",
       "      <td>194000.0</td>\n",
       "      <td>STEM</td>\n",
       "    </tr>\n",
       "  </tbody>\n",
       "</table>\n",
       "</div>"
      ],
      "text/plain": [
       "    Undergraduate Major  Starting Median Salary  Mid-Career Median Salary  \\\n",
       "8  Chemical Engineering                 63200.0                  107000.0   \n",
       "\n",
       "   Mid-Career 10th Percentile Salary  Mid-Career 90th Percentile Salary Group  \n",
       "8                            71900.0                           194000.0  STEM  "
      ]
     },
     "execution_count": 15,
     "metadata": {},
     "output_type": "execute_result"
    }
   ],
   "source": [
    "clean_df[clean_df.index == clean_df[\"Mid-Career Median Salary\"].idxmax()]"
   ]
  },
  {
   "cell_type": "markdown",
   "id": "153e8aa8",
   "metadata": {
    "papermill": {
     "duration": 0.017237,
     "end_time": "2022-11-15T11:07:25.006609",
     "exception": false,
     "start_time": "2022-11-15T11:07:24.989372",
     "status": "completed"
    },
    "tags": []
   },
   "source": [
    "**Which college major has the lowest starting salary and how much do graduates earn after university?**"
   ]
  },
  {
   "cell_type": "code",
   "execution_count": 16,
   "id": "020bcea7",
   "metadata": {
    "execution": {
     "iopub.execute_input": "2022-11-15T11:07:25.042534Z",
     "iopub.status.busy": "2022-11-15T11:07:25.042095Z",
     "iopub.status.idle": "2022-11-15T11:07:25.056741Z",
     "shell.execute_reply": "2022-11-15T11:07:25.055578Z"
    },
    "papermill": {
     "duration": 0.035441,
     "end_time": "2022-11-15T11:07:25.059103",
     "exception": false,
     "start_time": "2022-11-15T11:07:25.023662",
     "status": "completed"
    },
    "tags": []
   },
   "outputs": [
    {
     "data": {
      "text/html": [
       "<div>\n",
       "<style scoped>\n",
       "    .dataframe tbody tr th:only-of-type {\n",
       "        vertical-align: middle;\n",
       "    }\n",
       "\n",
       "    .dataframe tbody tr th {\n",
       "        vertical-align: top;\n",
       "    }\n",
       "\n",
       "    .dataframe thead th {\n",
       "        text-align: right;\n",
       "    }\n",
       "</style>\n",
       "<table border=\"1\" class=\"dataframe\">\n",
       "  <thead>\n",
       "    <tr style=\"text-align: right;\">\n",
       "      <th></th>\n",
       "      <th>Undergraduate Major</th>\n",
       "      <th>Starting Median Salary</th>\n",
       "      <th>Mid-Career Median Salary</th>\n",
       "      <th>Mid-Career 10th Percentile Salary</th>\n",
       "      <th>Mid-Career 90th Percentile Salary</th>\n",
       "      <th>Group</th>\n",
       "    </tr>\n",
       "  </thead>\n",
       "  <tbody>\n",
       "    <tr>\n",
       "      <th>18</th>\n",
       "      <td>Education</td>\n",
       "      <td>34900.0</td>\n",
       "      <td>52000.0</td>\n",
       "      <td>29300.0</td>\n",
       "      <td>102000.0</td>\n",
       "      <td>HASS</td>\n",
       "    </tr>\n",
       "  </tbody>\n",
       "</table>\n",
       "</div>"
      ],
      "text/plain": [
       "   Undergraduate Major  Starting Median Salary  Mid-Career Median Salary  \\\n",
       "18           Education                 34900.0                   52000.0   \n",
       "\n",
       "    Mid-Career 10th Percentile Salary  Mid-Career 90th Percentile Salary Group  \n",
       "18                            29300.0                           102000.0  HASS  "
      ]
     },
     "execution_count": 16,
     "metadata": {},
     "output_type": "execute_result"
    }
   ],
   "source": [
    "clean_df[clean_df.index == clean_df[\"Mid-Career Median Salary\"].idxmin()]"
   ]
  },
  {
   "cell_type": "markdown",
   "id": "18493c75",
   "metadata": {
    "papermill": {
     "duration": 0.01672,
     "end_time": "2022-11-15T11:07:25.092943",
     "exception": false,
     "start_time": "2022-11-15T11:07:25.076223",
     "status": "completed"
    },
    "tags": []
   },
   "source": [
    "Alternatively,\n",
    "Here I've nested the code that we've seen in the previous lesson in the same line. We can also use the `.loc` property to access an entire row. Below I've accessed the row at the index of the smallest mid-career salary:"
   ]
  },
  {
   "cell_type": "code",
   "execution_count": 17,
   "id": "476136bb",
   "metadata": {
    "execution": {
     "iopub.execute_input": "2022-11-15T11:07:25.129006Z",
     "iopub.status.busy": "2022-11-15T11:07:25.128502Z",
     "iopub.status.idle": "2022-11-15T11:07:25.136849Z",
     "shell.execute_reply": "2022-11-15T11:07:25.135994Z"
    },
    "papermill": {
     "duration": 0.029213,
     "end_time": "2022-11-15T11:07:25.139165",
     "exception": false,
     "start_time": "2022-11-15T11:07:25.109952",
     "status": "completed"
    },
    "tags": []
   },
   "outputs": [
    {
     "data": {
      "text/plain": [
       "Undergraduate Major                  Education\n",
       "Starting Median Salary                 34900.0\n",
       "Mid-Career Median Salary               52000.0\n",
       "Mid-Career 10th Percentile Salary      29300.0\n",
       "Mid-Career 90th Percentile Salary     102000.0\n",
       "Group                                     HASS\n",
       "Name: 18, dtype: object"
      ]
     },
     "execution_count": 17,
     "metadata": {},
     "output_type": "execute_result"
    }
   ],
   "source": [
    "clean_df.loc[clean_df[\"Mid-Career Median Salary\"].idxmin()]"
   ]
  },
  {
   "cell_type": "markdown",
   "id": "69bea94e",
   "metadata": {
    "papermill": {
     "duration": 0.016699,
     "end_time": "2022-11-15T11:07:25.173220",
     "exception": false,
     "start_time": "2022-11-15T11:07:25.156521",
     "status": "completed"
    },
    "tags": []
   },
   "source": [
    "**Which college major has the lowest mid-career salary and how much can people expect to earn with this degree?**"
   ]
  },
  {
   "cell_type": "code",
   "execution_count": 18,
   "id": "a31a1ab6",
   "metadata": {
    "execution": {
     "iopub.execute_input": "2022-11-15T11:07:25.210080Z",
     "iopub.status.busy": "2022-11-15T11:07:25.209608Z",
     "iopub.status.idle": "2022-11-15T11:07:25.217491Z",
     "shell.execute_reply": "2022-11-15T11:07:25.216319Z"
    },
    "papermill": {
     "duration": 0.028964,
     "end_time": "2022-11-15T11:07:25.219800",
     "exception": false,
     "start_time": "2022-11-15T11:07:25.190836",
     "status": "completed"
    },
    "tags": []
   },
   "outputs": [
    {
     "data": {
      "text/plain": [
       "34000.0"
      ]
     },
     "execution_count": 18,
     "metadata": {},
     "output_type": "execute_result"
    }
   ],
   "source": [
    "clean_df[\"Starting Median Salary\"].min()"
   ]
  },
  {
   "cell_type": "code",
   "execution_count": 19,
   "id": "bef37722",
   "metadata": {
    "execution": {
     "iopub.execute_input": "2022-11-15T11:07:25.265122Z",
     "iopub.status.busy": "2022-11-15T11:07:25.264403Z",
     "iopub.status.idle": "2022-11-15T11:07:25.272359Z",
     "shell.execute_reply": "2022-11-15T11:07:25.271362Z"
    },
    "papermill": {
     "duration": 0.036925,
     "end_time": "2022-11-15T11:07:25.274484",
     "exception": false,
     "start_time": "2022-11-15T11:07:25.237559",
     "status": "completed"
    },
    "tags": []
   },
   "outputs": [
    {
     "data": {
      "text/plain": [
       "'Spanish'"
      ]
     },
     "execution_count": 19,
     "metadata": {},
     "output_type": "execute_result"
    }
   ],
   "source": [
    "clean_df[\"Undergraduate Major\"].loc[clean_df[\"Starting Median Salary\"].idxmin()]"
   ]
  },
  {
   "cell_type": "markdown",
   "id": "b745483c",
   "metadata": {
    "papermill": {
     "duration": 0.017437,
     "end_time": "2022-11-15T11:07:25.314916",
     "exception": false,
     "start_time": "2022-11-15T11:07:25.297479",
     "status": "completed"
    },
    "tags": []
   },
   "source": [
    "Sadly, education is actually the degree with the lowest mid-career salary and Spanish is the major with the lowest starting salary."
   ]
  },
  {
   "cell_type": "markdown",
   "id": "977bafd5",
   "metadata": {
    "papermill": {
     "duration": 0.017575,
     "end_time": "2022-11-15T11:07:25.349959",
     "exception": false,
     "start_time": "2022-11-15T11:07:25.332384",
     "status": "completed"
    },
    "tags": []
   },
   "source": [
    "# Sorting Values & Adding Columns: Majors with the Most Potential vs Lowest Risk"
   ]
  },
  {
   "cell_type": "markdown",
   "id": "78ca6ff6",
   "metadata": {
    "papermill": {
     "duration": 0.01684,
     "end_time": "2022-11-15T11:07:25.386950",
     "exception": false,
     "start_time": "2022-11-15T11:07:25.370110",
     "status": "completed"
    },
    "tags": []
   },
   "source": [
    "**Lowest Risk Majors**"
   ]
  },
  {
   "cell_type": "markdown",
   "id": "61f95c90",
   "metadata": {
    "papermill": {
     "duration": 0.017635,
     "end_time": "2022-11-15T11:07:25.423461",
     "exception": false,
     "start_time": "2022-11-15T11:07:25.405826",
     "status": "completed"
    },
    "tags": []
   },
   "source": [
    "A low-risk major is a degree where there is a small difference between the lowest and highest salaries. In other words, if the difference between the 10th percentile and the 90th percentile earnings of your major is small, then you can be more certain about your salary after you graduate.\n",
    "\n",
    "How would we calculate the difference between the earnings of the 10th and 90th percentile? Well, Pandas allows us to do simple arithmetic with entire columns, so all we need to do is take the difference between the two columns:"
   ]
  },
  {
   "cell_type": "code",
   "execution_count": 20,
   "id": "fcf9fb82",
   "metadata": {
    "execution": {
     "iopub.execute_input": "2022-11-15T11:07:25.460594Z",
     "iopub.status.busy": "2022-11-15T11:07:25.460196Z",
     "iopub.status.idle": "2022-11-15T11:07:25.470019Z",
     "shell.execute_reply": "2022-11-15T11:07:25.469206Z"
    },
    "papermill": {
     "duration": 0.030935,
     "end_time": "2022-11-15T11:07:25.472181",
     "exception": false,
     "start_time": "2022-11-15T11:07:25.441246",
     "status": "completed"
    },
    "tags": []
   },
   "outputs": [
    {
     "data": {
      "text/plain": [
       "0     109800.0\n",
       "1      96700.0\n",
       "2     113700.0\n",
       "3     104200.0\n",
       "4      85400.0\n",
       "5      96200.0\n",
       "6      98100.0\n",
       "7     108200.0\n",
       "8     122100.0\n",
       "9     102700.0\n",
       "10     84600.0\n",
       "11    105500.0\n",
       "12     95900.0\n",
       "13     98000.0\n",
       "14    114700.0\n",
       "15     74800.0\n",
       "16    116300.0\n",
       "17    159400.0\n",
       "18     72700.0\n",
       "19     98700.0\n",
       "20     99600.0\n",
       "21    102100.0\n",
       "22    147800.0\n",
       "23     70000.0\n",
       "24     92000.0\n",
       "25    111000.0\n",
       "26     76000.0\n",
       "27     66400.0\n",
       "28    112000.0\n",
       "29     88500.0\n",
       "30    115900.0\n",
       "31     84500.0\n",
       "32     71300.0\n",
       "33    118800.0\n",
       "34    106600.0\n",
       "35    100700.0\n",
       "36    132900.0\n",
       "37    137800.0\n",
       "38     99300.0\n",
       "39    107300.0\n",
       "40     50700.0\n",
       "41     65300.0\n",
       "42    132500.0\n",
       "43     57600.0\n",
       "44    122000.0\n",
       "45    126800.0\n",
       "46     95400.0\n",
       "47     66700.0\n",
       "48     87300.0\n",
       "49     65400.0\n",
       "dtype: float64"
      ]
     },
     "execution_count": 20,
     "metadata": {},
     "output_type": "execute_result"
    }
   ],
   "source": [
    "clean_df['Mid-Career 90th Percentile Salary'] - clean_df['Mid-Career 10th Percentile Salary']"
   ]
  },
  {
   "cell_type": "markdown",
   "id": "2e452b67",
   "metadata": {
    "papermill": {
     "duration": 0.0173,
     "end_time": "2022-11-15T11:07:25.506971",
     "exception": false,
     "start_time": "2022-11-15T11:07:25.489671",
     "status": "completed"
    },
    "tags": []
   },
   "source": [
    "Alternatively, you can also use the `.subtract()` method."
   ]
  },
  {
   "cell_type": "code",
   "execution_count": 21,
   "id": "b2a49137",
   "metadata": {
    "execution": {
     "iopub.execute_input": "2022-11-15T11:07:25.543436Z",
     "iopub.status.busy": "2022-11-15T11:07:25.543031Z",
     "iopub.status.idle": "2022-11-15T11:07:25.553244Z",
     "shell.execute_reply": "2022-11-15T11:07:25.552362Z"
    },
    "papermill": {
     "duration": 0.031259,
     "end_time": "2022-11-15T11:07:25.555522",
     "exception": false,
     "start_time": "2022-11-15T11:07:25.524263",
     "status": "completed"
    },
    "tags": []
   },
   "outputs": [
    {
     "data": {
      "text/plain": [
       "0     109800.0\n",
       "1      96700.0\n",
       "2     113700.0\n",
       "3     104200.0\n",
       "4      85400.0\n",
       "5      96200.0\n",
       "6      98100.0\n",
       "7     108200.0\n",
       "8     122100.0\n",
       "9     102700.0\n",
       "10     84600.0\n",
       "11    105500.0\n",
       "12     95900.0\n",
       "13     98000.0\n",
       "14    114700.0\n",
       "15     74800.0\n",
       "16    116300.0\n",
       "17    159400.0\n",
       "18     72700.0\n",
       "19     98700.0\n",
       "20     99600.0\n",
       "21    102100.0\n",
       "22    147800.0\n",
       "23     70000.0\n",
       "24     92000.0\n",
       "25    111000.0\n",
       "26     76000.0\n",
       "27     66400.0\n",
       "28    112000.0\n",
       "29     88500.0\n",
       "30    115900.0\n",
       "31     84500.0\n",
       "32     71300.0\n",
       "33    118800.0\n",
       "34    106600.0\n",
       "35    100700.0\n",
       "36    132900.0\n",
       "37    137800.0\n",
       "38     99300.0\n",
       "39    107300.0\n",
       "40     50700.0\n",
       "41     65300.0\n",
       "42    132500.0\n",
       "43     57600.0\n",
       "44    122000.0\n",
       "45    126800.0\n",
       "46     95400.0\n",
       "47     66700.0\n",
       "48     87300.0\n",
       "49     65400.0\n",
       "dtype: float64"
      ]
     },
     "execution_count": 21,
     "metadata": {},
     "output_type": "execute_result"
    }
   ],
   "source": [
    "clean_df['Mid-Career 90th Percentile Salary'].subtract(clean_df['Mid-Career 10th Percentile Salary'])"
   ]
  },
  {
   "cell_type": "markdown",
   "id": "fb6355f9",
   "metadata": {
    "papermill": {
     "duration": 0.01706,
     "end_time": "2022-11-15T11:07:25.590177",
     "exception": false,
     "start_time": "2022-11-15T11:07:25.573117",
     "status": "completed"
    },
    "tags": []
   },
   "source": [
    "The output of this computation will be another Pandas dataframe column. We can add this to our existing dataframe with the `.insert()` method:"
   ]
  },
  {
   "cell_type": "code",
   "execution_count": 22,
   "id": "6c55a86a",
   "metadata": {
    "execution": {
     "iopub.execute_input": "2022-11-15T11:07:25.627047Z",
     "iopub.status.busy": "2022-11-15T11:07:25.626572Z",
     "iopub.status.idle": "2022-11-15T11:07:25.645086Z",
     "shell.execute_reply": "2022-11-15T11:07:25.643980Z"
    },
    "papermill": {
     "duration": 0.040075,
     "end_time": "2022-11-15T11:07:25.647652",
     "exception": false,
     "start_time": "2022-11-15T11:07:25.607577",
     "status": "completed"
    },
    "tags": []
   },
   "outputs": [
    {
     "data": {
      "text/html": [
       "<div>\n",
       "<style scoped>\n",
       "    .dataframe tbody tr th:only-of-type {\n",
       "        vertical-align: middle;\n",
       "    }\n",
       "\n",
       "    .dataframe tbody tr th {\n",
       "        vertical-align: top;\n",
       "    }\n",
       "\n",
       "    .dataframe thead th {\n",
       "        text-align: right;\n",
       "    }\n",
       "</style>\n",
       "<table border=\"1\" class=\"dataframe\">\n",
       "  <thead>\n",
       "    <tr style=\"text-align: right;\">\n",
       "      <th></th>\n",
       "      <th>Undergraduate Major</th>\n",
       "      <th>Spread</th>\n",
       "      <th>Starting Median Salary</th>\n",
       "      <th>Mid-Career Median Salary</th>\n",
       "      <th>Mid-Career 10th Percentile Salary</th>\n",
       "      <th>Mid-Career 90th Percentile Salary</th>\n",
       "      <th>Group</th>\n",
       "    </tr>\n",
       "  </thead>\n",
       "  <tbody>\n",
       "    <tr>\n",
       "      <th>0</th>\n",
       "      <td>Accounting</td>\n",
       "      <td>109800.0</td>\n",
       "      <td>46000.0</td>\n",
       "      <td>77100.0</td>\n",
       "      <td>42200.0</td>\n",
       "      <td>152000.0</td>\n",
       "      <td>Business</td>\n",
       "    </tr>\n",
       "    <tr>\n",
       "      <th>1</th>\n",
       "      <td>Aerospace Engineering</td>\n",
       "      <td>96700.0</td>\n",
       "      <td>57700.0</td>\n",
       "      <td>101000.0</td>\n",
       "      <td>64300.0</td>\n",
       "      <td>161000.0</td>\n",
       "      <td>STEM</td>\n",
       "    </tr>\n",
       "    <tr>\n",
       "      <th>2</th>\n",
       "      <td>Agriculture</td>\n",
       "      <td>113700.0</td>\n",
       "      <td>42600.0</td>\n",
       "      <td>71900.0</td>\n",
       "      <td>36300.0</td>\n",
       "      <td>150000.0</td>\n",
       "      <td>Business</td>\n",
       "    </tr>\n",
       "    <tr>\n",
       "      <th>3</th>\n",
       "      <td>Anthropology</td>\n",
       "      <td>104200.0</td>\n",
       "      <td>36800.0</td>\n",
       "      <td>61500.0</td>\n",
       "      <td>33800.0</td>\n",
       "      <td>138000.0</td>\n",
       "      <td>HASS</td>\n",
       "    </tr>\n",
       "    <tr>\n",
       "      <th>4</th>\n",
       "      <td>Architecture</td>\n",
       "      <td>85400.0</td>\n",
       "      <td>41600.0</td>\n",
       "      <td>76800.0</td>\n",
       "      <td>50600.0</td>\n",
       "      <td>136000.0</td>\n",
       "      <td>Business</td>\n",
       "    </tr>\n",
       "  </tbody>\n",
       "</table>\n",
       "</div>"
      ],
      "text/plain": [
       "     Undergraduate Major    Spread  Starting Median Salary  \\\n",
       "0             Accounting  109800.0                 46000.0   \n",
       "1  Aerospace Engineering   96700.0                 57700.0   \n",
       "2            Agriculture  113700.0                 42600.0   \n",
       "3           Anthropology  104200.0                 36800.0   \n",
       "4           Architecture   85400.0                 41600.0   \n",
       "\n",
       "   Mid-Career Median Salary  Mid-Career 10th Percentile Salary  \\\n",
       "0                   77100.0                            42200.0   \n",
       "1                  101000.0                            64300.0   \n",
       "2                   71900.0                            36300.0   \n",
       "3                   61500.0                            33800.0   \n",
       "4                   76800.0                            50600.0   \n",
       "\n",
       "   Mid-Career 90th Percentile Salary     Group  \n",
       "0                           152000.0  Business  \n",
       "1                           161000.0      STEM  \n",
       "2                           150000.0  Business  \n",
       "3                           138000.0      HASS  \n",
       "4                           136000.0  Business  "
      ]
     },
     "execution_count": 22,
     "metadata": {},
     "output_type": "execute_result"
    }
   ],
   "source": [
    "spread_col = clean_df['Mid-Career 90th Percentile Salary'] - clean_df['Mid-Career 10th Percentile Salary']\n",
    "clean_df.insert(1, 'Spread', spread_col)\n",
    "clean_df.head()"
   ]
  },
  {
   "cell_type": "markdown",
   "id": "788d358f",
   "metadata": {
    "papermill": {
     "duration": 0.018815,
     "end_time": "2022-11-15T11:07:25.684560",
     "exception": false,
     "start_time": "2022-11-15T11:07:25.665745",
     "status": "completed"
    },
    "tags": []
   },
   "source": [
    "The first argument is the position of where the column should be inserted. In our case, it's at position 1, so the second column."
   ]
  },
  {
   "cell_type": "markdown",
   "id": "b6b53b06",
   "metadata": {
    "papermill": {
     "duration": 0.024178,
     "end_time": "2022-11-15T11:07:25.727822",
     "exception": false,
     "start_time": "2022-11-15T11:07:25.703644",
     "status": "completed"
    },
    "tags": []
   },
   "source": [
    "**Sorting by the Lowest Spread**"
   ]
  },
  {
   "cell_type": "markdown",
   "id": "17351d96",
   "metadata": {
    "papermill": {
     "duration": 0.022192,
     "end_time": "2022-11-15T11:07:25.778078",
     "exception": false,
     "start_time": "2022-11-15T11:07:25.755886",
     "status": "completed"
    },
    "tags": []
   },
   "source": [
    "To see which degrees have the smallest spread, we can use the `.sort_values()` method. And since we are interested in only seeing the name of the degree and the major, we can pass a list of these two column names to look at the `.head()` of these two columns exclusively."
   ]
  },
  {
   "cell_type": "code",
   "execution_count": 23,
   "id": "b002ab92",
   "metadata": {
    "execution": {
     "iopub.execute_input": "2022-11-15T11:07:25.815465Z",
     "iopub.status.busy": "2022-11-15T11:07:25.815057Z",
     "iopub.status.idle": "2022-11-15T11:07:25.827578Z",
     "shell.execute_reply": "2022-11-15T11:07:25.826770Z"
    },
    "papermill": {
     "duration": 0.033901,
     "end_time": "2022-11-15T11:07:25.829891",
     "exception": false,
     "start_time": "2022-11-15T11:07:25.795990",
     "status": "completed"
    },
    "tags": []
   },
   "outputs": [
    {
     "data": {
      "text/html": [
       "<div>\n",
       "<style scoped>\n",
       "    .dataframe tbody tr th:only-of-type {\n",
       "        vertical-align: middle;\n",
       "    }\n",
       "\n",
       "    .dataframe tbody tr th {\n",
       "        vertical-align: top;\n",
       "    }\n",
       "\n",
       "    .dataframe thead th {\n",
       "        text-align: right;\n",
       "    }\n",
       "</style>\n",
       "<table border=\"1\" class=\"dataframe\">\n",
       "  <thead>\n",
       "    <tr style=\"text-align: right;\">\n",
       "      <th></th>\n",
       "      <th>Undergraduate Major</th>\n",
       "      <th>Spread</th>\n",
       "    </tr>\n",
       "  </thead>\n",
       "  <tbody>\n",
       "    <tr>\n",
       "      <th>40</th>\n",
       "      <td>Nursing</td>\n",
       "      <td>50700.0</td>\n",
       "    </tr>\n",
       "    <tr>\n",
       "      <th>43</th>\n",
       "      <td>Physician Assistant</td>\n",
       "      <td>57600.0</td>\n",
       "    </tr>\n",
       "    <tr>\n",
       "      <th>41</th>\n",
       "      <td>Nutrition</td>\n",
       "      <td>65300.0</td>\n",
       "    </tr>\n",
       "    <tr>\n",
       "      <th>49</th>\n",
       "      <td>Spanish</td>\n",
       "      <td>65400.0</td>\n",
       "    </tr>\n",
       "    <tr>\n",
       "      <th>27</th>\n",
       "      <td>Health Care Administration</td>\n",
       "      <td>66400.0</td>\n",
       "    </tr>\n",
       "  </tbody>\n",
       "</table>\n",
       "</div>"
      ],
      "text/plain": [
       "           Undergraduate Major   Spread\n",
       "40                     Nursing  50700.0\n",
       "43         Physician Assistant  57600.0\n",
       "41                   Nutrition  65300.0\n",
       "49                     Spanish  65400.0\n",
       "27  Health Care Administration  66400.0"
      ]
     },
     "execution_count": 23,
     "metadata": {},
     "output_type": "execute_result"
    }
   ],
   "source": [
    "low_risk = clean_df.sort_values('Spread')\n",
    "low_risk[['Undergraduate Major', 'Spread']].head()"
   ]
  },
  {
   "cell_type": "markdown",
   "id": "3f65142f",
   "metadata": {
    "papermill": {
     "duration": 0.019306,
     "end_time": "2022-11-15T11:07:25.867209",
     "exception": false,
     "start_time": "2022-11-15T11:07:25.847903",
     "status": "completed"
    },
    "tags": []
   },
   "source": [
    "Does `.sort_values()` sort in ascending or descending order? To find out, check out the Pandas documentation: https://pandas.pydata.org/pandas-docs/stable/reference/api/pandas.DataFrame.sort_values.html\n",
    "\n",
    "You can also bring up the quick documentation with shift + tab on your keyboard directly in the Python notebook."
   ]
  },
  {
   "cell_type": "markdown",
   "id": "9a20f96c",
   "metadata": {
    "papermill": {
     "duration": 0.017649,
     "end_time": "2022-11-15T11:07:25.902970",
     "exception": false,
     "start_time": "2022-11-15T11:07:25.885321",
     "status": "completed"
    },
    "tags": []
   },
   "source": [
    "**Challenge**\n",
    "\n",
    "\n",
    "Using the `.sort_values()` method, can you find the degrees with the highest potential? Find the top 5 degrees with the highest values in the 90th percentile. \n",
    "\n",
    "Also, find the degrees with the greatest spread in salaries. Which majors have the largest difference between high and low earners after graduation.\n",
    "\n",
    "I've got the solution for you in the next lesson."
   ]
  },
  {
   "cell_type": "markdown",
   "id": "01a5ecd2",
   "metadata": {
    "papermill": {
     "duration": 0.018192,
     "end_time": "2022-11-15T11:07:25.939050",
     "exception": false,
     "start_time": "2022-11-15T11:07:25.920858",
     "status": "completed"
    },
    "tags": []
   },
   "source": [
    "**Majors with the Highest Potential**"
   ]
  },
  {
   "cell_type": "code",
   "execution_count": 24,
   "id": "2e9e1b3b",
   "metadata": {
    "execution": {
     "iopub.execute_input": "2022-11-15T11:07:25.977755Z",
     "iopub.status.busy": "2022-11-15T11:07:25.976671Z",
     "iopub.status.idle": "2022-11-15T11:07:25.991723Z",
     "shell.execute_reply": "2022-11-15T11:07:25.990885Z"
    },
    "papermill": {
     "duration": 0.037358,
     "end_time": "2022-11-15T11:07:25.994445",
     "exception": false,
     "start_time": "2022-11-15T11:07:25.957087",
     "status": "completed"
    },
    "tags": []
   },
   "outputs": [
    {
     "data": {
      "text/html": [
       "<div>\n",
       "<style scoped>\n",
       "    .dataframe tbody tr th:only-of-type {\n",
       "        vertical-align: middle;\n",
       "    }\n",
       "\n",
       "    .dataframe tbody tr th {\n",
       "        vertical-align: top;\n",
       "    }\n",
       "\n",
       "    .dataframe thead th {\n",
       "        text-align: right;\n",
       "    }\n",
       "</style>\n",
       "<table border=\"1\" class=\"dataframe\">\n",
       "  <thead>\n",
       "    <tr style=\"text-align: right;\">\n",
       "      <th></th>\n",
       "      <th>Undergraduate Major</th>\n",
       "      <th>Mid-Career 90th Percentile Salary</th>\n",
       "    </tr>\n",
       "  </thead>\n",
       "  <tbody>\n",
       "    <tr>\n",
       "      <th>17</th>\n",
       "      <td>Economics</td>\n",
       "      <td>210000.0</td>\n",
       "    </tr>\n",
       "    <tr>\n",
       "      <th>22</th>\n",
       "      <td>Finance</td>\n",
       "      <td>195000.0</td>\n",
       "    </tr>\n",
       "    <tr>\n",
       "      <th>8</th>\n",
       "      <td>Chemical Engineering</td>\n",
       "      <td>194000.0</td>\n",
       "    </tr>\n",
       "    <tr>\n",
       "      <th>37</th>\n",
       "      <td>Math</td>\n",
       "      <td>183000.0</td>\n",
       "    </tr>\n",
       "    <tr>\n",
       "      <th>44</th>\n",
       "      <td>Physics</td>\n",
       "      <td>178000.0</td>\n",
       "    </tr>\n",
       "  </tbody>\n",
       "</table>\n",
       "</div>"
      ],
      "text/plain": [
       "     Undergraduate Major  Mid-Career 90th Percentile Salary\n",
       "17             Economics                           210000.0\n",
       "22               Finance                           195000.0\n",
       "8   Chemical Engineering                           194000.0\n",
       "37                  Math                           183000.0\n",
       "44               Physics                           178000.0"
      ]
     },
     "execution_count": 24,
     "metadata": {},
     "output_type": "execute_result"
    }
   ],
   "source": [
    "highest_potential = clean_df.sort_values(\"Mid-Career 90th Percentile Salary\", ascending=False)\n",
    "highest_potential[['Undergraduate Major', 'Mid-Career 90th Percentile Salary']].head()"
   ]
  },
  {
   "cell_type": "markdown",
   "id": "7cfd310c",
   "metadata": {
    "papermill": {
     "duration": 0.021533,
     "end_time": "2022-11-15T11:07:26.034193",
     "exception": false,
     "start_time": "2022-11-15T11:07:26.012660",
     "status": "completed"
    },
    "tags": []
   },
   "source": [
    "**Majors with the Greatest Spread in Salaries**"
   ]
  },
  {
   "cell_type": "code",
   "execution_count": 25,
   "id": "e58f5517",
   "metadata": {
    "execution": {
     "iopub.execute_input": "2022-11-15T11:07:26.083349Z",
     "iopub.status.busy": "2022-11-15T11:07:26.082430Z",
     "iopub.status.idle": "2022-11-15T11:07:26.098289Z",
     "shell.execute_reply": "2022-11-15T11:07:26.096492Z"
    },
    "papermill": {
     "duration": 0.04705,
     "end_time": "2022-11-15T11:07:26.101395",
     "exception": false,
     "start_time": "2022-11-15T11:07:26.054345",
     "status": "completed"
    },
    "tags": []
   },
   "outputs": [
    {
     "data": {
      "text/html": [
       "<div>\n",
       "<style scoped>\n",
       "    .dataframe tbody tr th:only-of-type {\n",
       "        vertical-align: middle;\n",
       "    }\n",
       "\n",
       "    .dataframe tbody tr th {\n",
       "        vertical-align: top;\n",
       "    }\n",
       "\n",
       "    .dataframe thead th {\n",
       "        text-align: right;\n",
       "    }\n",
       "</style>\n",
       "<table border=\"1\" class=\"dataframe\">\n",
       "  <thead>\n",
       "    <tr style=\"text-align: right;\">\n",
       "      <th></th>\n",
       "      <th>Undergraduate Major</th>\n",
       "      <th>Spread</th>\n",
       "    </tr>\n",
       "  </thead>\n",
       "  <tbody>\n",
       "    <tr>\n",
       "      <th>17</th>\n",
       "      <td>Economics</td>\n",
       "      <td>159400.0</td>\n",
       "    </tr>\n",
       "    <tr>\n",
       "      <th>22</th>\n",
       "      <td>Finance</td>\n",
       "      <td>147800.0</td>\n",
       "    </tr>\n",
       "    <tr>\n",
       "      <th>37</th>\n",
       "      <td>Math</td>\n",
       "      <td>137800.0</td>\n",
       "    </tr>\n",
       "    <tr>\n",
       "      <th>36</th>\n",
       "      <td>Marketing</td>\n",
       "      <td>132900.0</td>\n",
       "    </tr>\n",
       "    <tr>\n",
       "      <th>42</th>\n",
       "      <td>Philosophy</td>\n",
       "      <td>132500.0</td>\n",
       "    </tr>\n",
       "  </tbody>\n",
       "</table>\n",
       "</div>"
      ],
      "text/plain": [
       "   Undergraduate Major    Spread\n",
       "17           Economics  159400.0\n",
       "22             Finance  147800.0\n",
       "37                Math  137800.0\n",
       "36           Marketing  132900.0\n",
       "42          Philosophy  132500.0"
      ]
     },
     "execution_count": 25,
     "metadata": {},
     "output_type": "execute_result"
    }
   ],
   "source": [
    "highest_spread = clean_df.sort_values('Spread', ascending=False)\n",
    "highest_spread[['Undergraduate Major', 'Spread']].head()"
   ]
  },
  {
   "cell_type": "markdown",
   "id": "3d0f7bba",
   "metadata": {
    "papermill": {
     "duration": 0.018886,
     "end_time": "2022-11-15T11:07:26.141882",
     "exception": false,
     "start_time": "2022-11-15T11:07:26.122996",
     "status": "completed"
    },
    "tags": []
   },
   "source": [
    "Notice how 3 of the top 5 are present in both. This means that there are some very high earning Economics degree holders out there, but also some who are not earning as much. It's actually quite interesting to compare these two rankings versus the degrees where the median salary is very high."
   ]
  },
  {
   "cell_type": "code",
   "execution_count": 26,
   "id": "de1576c4",
   "metadata": {
    "execution": {
     "iopub.execute_input": "2022-11-15T11:07:26.190752Z",
     "iopub.status.busy": "2022-11-15T11:07:26.189978Z",
     "iopub.status.idle": "2022-11-15T11:07:26.204190Z",
     "shell.execute_reply": "2022-11-15T11:07:26.202962Z"
    },
    "papermill": {
     "duration": 0.04473,
     "end_time": "2022-11-15T11:07:26.206715",
     "exception": false,
     "start_time": "2022-11-15T11:07:26.161985",
     "status": "completed"
    },
    "tags": []
   },
   "outputs": [
    {
     "data": {
      "text/html": [
       "<div>\n",
       "<style scoped>\n",
       "    .dataframe tbody tr th:only-of-type {\n",
       "        vertical-align: middle;\n",
       "    }\n",
       "\n",
       "    .dataframe tbody tr th {\n",
       "        vertical-align: top;\n",
       "    }\n",
       "\n",
       "    .dataframe thead th {\n",
       "        text-align: right;\n",
       "    }\n",
       "</style>\n",
       "<table border=\"1\" class=\"dataframe\">\n",
       "  <thead>\n",
       "    <tr style=\"text-align: right;\">\n",
       "      <th></th>\n",
       "      <th>Undergraduate Major</th>\n",
       "      <th>Mid-Career Median Salary</th>\n",
       "    </tr>\n",
       "  </thead>\n",
       "  <tbody>\n",
       "    <tr>\n",
       "      <th>8</th>\n",
       "      <td>Chemical Engineering</td>\n",
       "      <td>107000.0</td>\n",
       "    </tr>\n",
       "    <tr>\n",
       "      <th>12</th>\n",
       "      <td>Computer Engineering</td>\n",
       "      <td>105000.0</td>\n",
       "    </tr>\n",
       "    <tr>\n",
       "      <th>19</th>\n",
       "      <td>Electrical Engineering</td>\n",
       "      <td>103000.0</td>\n",
       "    </tr>\n",
       "    <tr>\n",
       "      <th>1</th>\n",
       "      <td>Aerospace Engineering</td>\n",
       "      <td>101000.0</td>\n",
       "    </tr>\n",
       "    <tr>\n",
       "      <th>17</th>\n",
       "      <td>Economics</td>\n",
       "      <td>98600.0</td>\n",
       "    </tr>\n",
       "  </tbody>\n",
       "</table>\n",
       "</div>"
      ],
      "text/plain": [
       "       Undergraduate Major  Mid-Career Median Salary\n",
       "8     Chemical Engineering                  107000.0\n",
       "12    Computer Engineering                  105000.0\n",
       "19  Electrical Engineering                  103000.0\n",
       "1    Aerospace Engineering                  101000.0\n",
       "17               Economics                   98600.0"
      ]
     },
     "execution_count": 26,
     "metadata": {},
     "output_type": "execute_result"
    }
   ],
   "source": [
    "highest_spread = clean_df.sort_values(\"Mid-Career Median Salary\", ascending=False)\n",
    "highest_spread[[\"Undergraduate Major\",\"Mid-Career Median Salary\"]].head()"
   ]
  },
  {
   "cell_type": "markdown",
   "id": "6a091b33",
   "metadata": {
    "papermill": {
     "duration": 0.018495,
     "end_time": "2022-11-15T11:07:26.244167",
     "exception": false,
     "start_time": "2022-11-15T11:07:26.225672",
     "status": "completed"
    },
    "tags": []
   },
   "source": [
    "# Grouping and Pivoting Data with Pandas"
   ]
  },
  {
   "cell_type": "markdown",
   "id": "c9a8cbb6",
   "metadata": {
    "papermill": {
     "duration": 0.018314,
     "end_time": "2022-11-15T11:07:26.281205",
     "exception": false,
     "start_time": "2022-11-15T11:07:26.262891",
     "status": "completed"
    },
    "tags": []
   },
   "source": [
    "Often times you will want to sum rows that belong to a particular category. For example, which category of degrees has the highest average salary? Is it STEM, Business or HASS (Humanities, Arts, and Social Science)? \n",
    "\n",
    "To answer this question we need to learn to use the `.groupby()` method. This allows us to manipulate data similar to a Microsoft Excel Pivot Table.\n",
    "\n",
    "We have three categories in the 'Group' column: STEM, HASS and Business. Let's count how many majors we have in each category:"
   ]
  },
  {
   "cell_type": "code",
   "execution_count": 27,
   "id": "1c220a77",
   "metadata": {
    "execution": {
     "iopub.execute_input": "2022-11-15T11:07:26.324327Z",
     "iopub.status.busy": "2022-11-15T11:07:26.323040Z",
     "iopub.status.idle": "2022-11-15T11:07:26.337711Z",
     "shell.execute_reply": "2022-11-15T11:07:26.336523Z"
    },
    "papermill": {
     "duration": 0.037153,
     "end_time": "2022-11-15T11:07:26.340185",
     "exception": false,
     "start_time": "2022-11-15T11:07:26.303032",
     "status": "completed"
    },
    "tags": []
   },
   "outputs": [
    {
     "data": {
      "text/html": [
       "<div>\n",
       "<style scoped>\n",
       "    .dataframe tbody tr th:only-of-type {\n",
       "        vertical-align: middle;\n",
       "    }\n",
       "\n",
       "    .dataframe tbody tr th {\n",
       "        vertical-align: top;\n",
       "    }\n",
       "\n",
       "    .dataframe thead th {\n",
       "        text-align: right;\n",
       "    }\n",
       "</style>\n",
       "<table border=\"1\" class=\"dataframe\">\n",
       "  <thead>\n",
       "    <tr style=\"text-align: right;\">\n",
       "      <th></th>\n",
       "      <th>Undergraduate Major</th>\n",
       "      <th>Spread</th>\n",
       "      <th>Starting Median Salary</th>\n",
       "      <th>Mid-Career Median Salary</th>\n",
       "      <th>Mid-Career 10th Percentile Salary</th>\n",
       "      <th>Mid-Career 90th Percentile Salary</th>\n",
       "    </tr>\n",
       "    <tr>\n",
       "      <th>Group</th>\n",
       "      <th></th>\n",
       "      <th></th>\n",
       "      <th></th>\n",
       "      <th></th>\n",
       "      <th></th>\n",
       "      <th></th>\n",
       "    </tr>\n",
       "  </thead>\n",
       "  <tbody>\n",
       "    <tr>\n",
       "      <th>Business</th>\n",
       "      <td>12</td>\n",
       "      <td>12</td>\n",
       "      <td>12</td>\n",
       "      <td>12</td>\n",
       "      <td>12</td>\n",
       "      <td>12</td>\n",
       "    </tr>\n",
       "    <tr>\n",
       "      <th>HASS</th>\n",
       "      <td>22</td>\n",
       "      <td>22</td>\n",
       "      <td>22</td>\n",
       "      <td>22</td>\n",
       "      <td>22</td>\n",
       "      <td>22</td>\n",
       "    </tr>\n",
       "    <tr>\n",
       "      <th>STEM</th>\n",
       "      <td>16</td>\n",
       "      <td>16</td>\n",
       "      <td>16</td>\n",
       "      <td>16</td>\n",
       "      <td>16</td>\n",
       "      <td>16</td>\n",
       "    </tr>\n",
       "  </tbody>\n",
       "</table>\n",
       "</div>"
      ],
      "text/plain": [
       "          Undergraduate Major  Spread  Starting Median Salary  \\\n",
       "Group                                                           \n",
       "Business                   12      12                      12   \n",
       "HASS                       22      22                      22   \n",
       "STEM                       16      16                      16   \n",
       "\n",
       "          Mid-Career Median Salary  Mid-Career 10th Percentile Salary  \\\n",
       "Group                                                                   \n",
       "Business                        12                                 12   \n",
       "HASS                            22                                 22   \n",
       "STEM                            16                                 16   \n",
       "\n",
       "          Mid-Career 90th Percentile Salary  \n",
       "Group                                        \n",
       "Business                                 12  \n",
       "HASS                                     22  \n",
       "STEM                                     16  "
      ]
     },
     "execution_count": 27,
     "metadata": {},
     "output_type": "execute_result"
    }
   ],
   "source": [
    "clean_df.groupby('Group').count()"
   ]
  },
  {
   "cell_type": "markdown",
   "id": "8b0d3c99",
   "metadata": {
    "papermill": {
     "duration": 0.019588,
     "end_time": "2022-11-15T11:07:26.379180",
     "exception": false,
     "start_time": "2022-11-15T11:07:26.359592",
     "status": "completed"
    },
    "tags": []
   },
   "source": [
    "**Mini Challenge**\n",
    "\n",
    "Now can you use the `.mean()` method to find the average salary by group? "
   ]
  },
  {
   "cell_type": "code",
   "execution_count": 28,
   "id": "4845a6bb",
   "metadata": {
    "execution": {
     "iopub.execute_input": "2022-11-15T11:07:26.427594Z",
     "iopub.status.busy": "2022-11-15T11:07:26.426669Z",
     "iopub.status.idle": "2022-11-15T11:07:26.444880Z",
     "shell.execute_reply": "2022-11-15T11:07:26.443672Z"
    },
    "papermill": {
     "duration": 0.046158,
     "end_time": "2022-11-15T11:07:26.447998",
     "exception": false,
     "start_time": "2022-11-15T11:07:26.401840",
     "status": "completed"
    },
    "tags": []
   },
   "outputs": [
    {
     "data": {
      "text/html": [
       "<div>\n",
       "<style scoped>\n",
       "    .dataframe tbody tr th:only-of-type {\n",
       "        vertical-align: middle;\n",
       "    }\n",
       "\n",
       "    .dataframe tbody tr th {\n",
       "        vertical-align: top;\n",
       "    }\n",
       "\n",
       "    .dataframe thead th {\n",
       "        text-align: right;\n",
       "    }\n",
       "</style>\n",
       "<table border=\"1\" class=\"dataframe\">\n",
       "  <thead>\n",
       "    <tr style=\"text-align: right;\">\n",
       "      <th></th>\n",
       "      <th>Spread</th>\n",
       "      <th>Starting Median Salary</th>\n",
       "      <th>Mid-Career Median Salary</th>\n",
       "      <th>Mid-Career 10th Percentile Salary</th>\n",
       "      <th>Mid-Career 90th Percentile Salary</th>\n",
       "    </tr>\n",
       "    <tr>\n",
       "      <th>Group</th>\n",
       "      <th></th>\n",
       "      <th></th>\n",
       "      <th></th>\n",
       "      <th></th>\n",
       "      <th></th>\n",
       "    </tr>\n",
       "  </thead>\n",
       "  <tbody>\n",
       "    <tr>\n",
       "      <th>Business</th>\n",
       "      <td>103958.333333</td>\n",
       "      <td>44633.333333</td>\n",
       "      <td>75083.333333</td>\n",
       "      <td>43566.666667</td>\n",
       "      <td>147525.000000</td>\n",
       "    </tr>\n",
       "    <tr>\n",
       "      <th>HASS</th>\n",
       "      <td>95218.181818</td>\n",
       "      <td>37186.363636</td>\n",
       "      <td>62968.181818</td>\n",
       "      <td>34145.454545</td>\n",
       "      <td>129363.636364</td>\n",
       "    </tr>\n",
       "    <tr>\n",
       "      <th>STEM</th>\n",
       "      <td>101600.000000</td>\n",
       "      <td>53862.500000</td>\n",
       "      <td>90812.500000</td>\n",
       "      <td>56025.000000</td>\n",
       "      <td>157625.000000</td>\n",
       "    </tr>\n",
       "  </tbody>\n",
       "</table>\n",
       "</div>"
      ],
      "text/plain": [
       "                 Spread  Starting Median Salary  Mid-Career Median Salary  \\\n",
       "Group                                                                       \n",
       "Business  103958.333333            44633.333333              75083.333333   \n",
       "HASS       95218.181818            37186.363636              62968.181818   \n",
       "STEM      101600.000000            53862.500000              90812.500000   \n",
       "\n",
       "          Mid-Career 10th Percentile Salary  Mid-Career 90th Percentile Salary  \n",
       "Group                                                                           \n",
       "Business                       43566.666667                      147525.000000  \n",
       "HASS                           34145.454545                      129363.636364  \n",
       "STEM                           56025.000000                      157625.000000  "
      ]
     },
     "execution_count": 28,
     "metadata": {},
     "output_type": "execute_result"
    }
   ],
   "source": [
    "clean_df.groupby('Group').mean()"
   ]
  },
  {
   "cell_type": "markdown",
   "id": "49d425ef",
   "metadata": {
    "papermill": {
     "duration": 0.018673,
     "end_time": "2022-11-15T11:07:26.491429",
     "exception": false,
     "start_time": "2022-11-15T11:07:26.472756",
     "status": "completed"
    },
    "tags": []
   },
   "source": [
    "**Number formats in the Output**\n",
    "\n",
    "The above is a little hard to read, isn't it? We can tell Pandas to print the numbers in our notebook to look like 1,012.45 with the following line:"
   ]
  },
  {
   "cell_type": "code",
   "execution_count": 29,
   "id": "f6220698",
   "metadata": {
    "execution": {
     "iopub.execute_input": "2022-11-15T11:07:26.532029Z",
     "iopub.status.busy": "2022-11-15T11:07:26.531063Z",
     "iopub.status.idle": "2022-11-15T11:07:26.536603Z",
     "shell.execute_reply": "2022-11-15T11:07:26.535602Z"
    },
    "papermill": {
     "duration": 0.028308,
     "end_time": "2022-11-15T11:07:26.538876",
     "exception": false,
     "start_time": "2022-11-15T11:07:26.510568",
     "status": "completed"
    },
    "tags": []
   },
   "outputs": [],
   "source": [
    "pd.options.display.float_format = '{:,.2f}'.format "
   ]
  },
  {
   "cell_type": "markdown",
   "id": "74caf4dc",
   "metadata": {
    "papermill": {
     "duration": 0.018676,
     "end_time": "2022-11-15T11:07:26.576777",
     "exception": false,
     "start_time": "2022-11-15T11:07:26.558101",
     "status": "completed"
    },
    "tags": []
   },
   "source": [
    "Ah, that's better, isn't it?"
   ]
  },
  {
   "cell_type": "code",
   "execution_count": 30,
   "id": "5b0fcccd",
   "metadata": {
    "execution": {
     "iopub.execute_input": "2022-11-15T11:07:26.617723Z",
     "iopub.status.busy": "2022-11-15T11:07:26.616788Z",
     "iopub.status.idle": "2022-11-15T11:07:26.632882Z",
     "shell.execute_reply": "2022-11-15T11:07:26.631762Z"
    },
    "papermill": {
     "duration": 0.039279,
     "end_time": "2022-11-15T11:07:26.635319",
     "exception": false,
     "start_time": "2022-11-15T11:07:26.596040",
     "status": "completed"
    },
    "tags": []
   },
   "outputs": [
    {
     "data": {
      "text/html": [
       "<div>\n",
       "<style scoped>\n",
       "    .dataframe tbody tr th:only-of-type {\n",
       "        vertical-align: middle;\n",
       "    }\n",
       "\n",
       "    .dataframe tbody tr th {\n",
       "        vertical-align: top;\n",
       "    }\n",
       "\n",
       "    .dataframe thead th {\n",
       "        text-align: right;\n",
       "    }\n",
       "</style>\n",
       "<table border=\"1\" class=\"dataframe\">\n",
       "  <thead>\n",
       "    <tr style=\"text-align: right;\">\n",
       "      <th></th>\n",
       "      <th>Spread</th>\n",
       "      <th>Starting Median Salary</th>\n",
       "      <th>Mid-Career Median Salary</th>\n",
       "      <th>Mid-Career 10th Percentile Salary</th>\n",
       "      <th>Mid-Career 90th Percentile Salary</th>\n",
       "    </tr>\n",
       "    <tr>\n",
       "      <th>Group</th>\n",
       "      <th></th>\n",
       "      <th></th>\n",
       "      <th></th>\n",
       "      <th></th>\n",
       "      <th></th>\n",
       "    </tr>\n",
       "  </thead>\n",
       "  <tbody>\n",
       "    <tr>\n",
       "      <th>Business</th>\n",
       "      <td>103,958.33</td>\n",
       "      <td>44,633.33</td>\n",
       "      <td>75,083.33</td>\n",
       "      <td>43,566.67</td>\n",
       "      <td>147,525.00</td>\n",
       "    </tr>\n",
       "    <tr>\n",
       "      <th>HASS</th>\n",
       "      <td>95,218.18</td>\n",
       "      <td>37,186.36</td>\n",
       "      <td>62,968.18</td>\n",
       "      <td>34,145.45</td>\n",
       "      <td>129,363.64</td>\n",
       "    </tr>\n",
       "    <tr>\n",
       "      <th>STEM</th>\n",
       "      <td>101,600.00</td>\n",
       "      <td>53,862.50</td>\n",
       "      <td>90,812.50</td>\n",
       "      <td>56,025.00</td>\n",
       "      <td>157,625.00</td>\n",
       "    </tr>\n",
       "  </tbody>\n",
       "</table>\n",
       "</div>"
      ],
      "text/plain": [
       "             Spread  Starting Median Salary  Mid-Career Median Salary  \\\n",
       "Group                                                                   \n",
       "Business 103,958.33               44,633.33                 75,083.33   \n",
       "HASS      95,218.18               37,186.36                 62,968.18   \n",
       "STEM     101,600.00               53,862.50                 90,812.50   \n",
       "\n",
       "          Mid-Career 10th Percentile Salary  Mid-Career 90th Percentile Salary  \n",
       "Group                                                                           \n",
       "Business                          43,566.67                         147,525.00  \n",
       "HASS                              34,145.45                         129,363.64  \n",
       "STEM                              56,025.00                         157,625.00  "
      ]
     },
     "execution_count": 30,
     "metadata": {},
     "output_type": "execute_result"
    }
   ],
   "source": [
    "clean_df.groupby('Group').mean()"
   ]
  },
  {
   "cell_type": "markdown",
   "id": "671f9101",
   "metadata": {
    "papermill": {
     "duration": 0.019062,
     "end_time": "2022-11-15T11:07:26.673668",
     "exception": false,
     "start_time": "2022-11-15T11:07:26.654606",
     "status": "completed"
    },
    "tags": []
   },
   "source": [
    "# Learning Points & Summary"
   ]
  },
  {
   "cell_type": "markdown",
   "id": "22f3a1fe",
   "metadata": {
    "papermill": {
     "duration": 0.019018,
     "end_time": "2022-11-15T11:07:26.712171",
     "exception": false,
     "start_time": "2022-11-15T11:07:26.693153",
     "status": "completed"
    },
    "tags": []
   },
   "source": [
    "* Use `.head()`, `.tail()`, `.shape` and `.columns` to explore your DataFrame and find out the number of rows and columns as well as the column names.\n",
    "\n",
    "* Look for NaN (not a number) values with `.findna()` and consider using `.dropna()` to clean up your DataFrame.\n",
    "\n",
    "* You can access entire columns of a DataFrame using the square bracket notation: `df['column name']` or `df[['column name 1', 'column name 2', 'column name 3']]`\n",
    "\n",
    "* You can access individual cells in a DataFrame by chaining square brackets `df['column name'][index]` or using `df['column name'].loc[index]`\n",
    "\n",
    "* The largest and smallest values, as well as their positions, can be found with methods like `.max()`, `.min()`, `.idxmax()` and `.idxmin()`\n",
    "\n",
    "* You can sort the DataFrame with `.sort_values()` and add new columns with `.insert()`\n",
    "\n",
    "* To create an Excel Style Pivot Table by grouping entries that belong to a particular category use the `.groupby()` method\n",
    "\n"
   ]
  },
  {
   "cell_type": "markdown",
   "id": "90814ca1",
   "metadata": {
    "papermill": {
     "duration": 0.019508,
     "end_time": "2022-11-15T11:07:26.750901",
     "exception": false,
     "start_time": "2022-11-15T11:07:26.731393",
     "status": "completed"
    },
    "tags": []
   },
   "source": [
    "# Resource"
   ]
  },
  {
   "cell_type": "markdown",
   "id": "73cc0718",
   "metadata": {
    "papermill": {
     "duration": 0.019095,
     "end_time": "2022-11-15T11:07:26.789601",
     "exception": false,
     "start_time": "2022-11-15T11:07:26.770506",
     "status": "completed"
    },
    "tags": []
   },
   "source": [
    "https://www.udemy.com/course/100-days-of-code/"
   ]
  }
 ],
 "metadata": {
  "kernelspec": {
   "display_name": "Python 3",
   "language": "python",
   "name": "python3"
  },
  "language_info": {
   "codemirror_mode": {
    "name": "ipython",
    "version": 3
   },
   "file_extension": ".py",
   "mimetype": "text/x-python",
   "name": "python",
   "nbconvert_exporter": "python",
   "pygments_lexer": "ipython3",
   "version": "3.7.12"
  },
  "papermill": {
   "default_parameters": {},
   "duration": 12.992207,
   "end_time": "2022-11-15T11:07:27.531486",
   "environment_variables": {},
   "exception": null,
   "input_path": "__notebook__.ipynb",
   "output_path": "__notebook__.ipynb",
   "parameters": {},
   "start_time": "2022-11-15T11:07:14.539279",
   "version": "2.3.4"
  }
 },
 "nbformat": 4,
 "nbformat_minor": 5
}
