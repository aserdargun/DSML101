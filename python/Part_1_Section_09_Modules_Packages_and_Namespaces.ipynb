{
  "cells": [
    {
      "cell_type": "markdown",
      "metadata": {
        "id": "view-in-github",
        "colab_type": "text"
      },
      "source": [
        "<a href=\"https://colab.research.google.com/github/aserdargun/DSML101/blob/main/python/Part_1_Section_09_Modules_Packages_and_Namespaces.ipynb\" target=\"_parent\"><img src=\"https://colab.research.google.com/assets/colab-badge.svg\" alt=\"Open In Colab\"/></a>"
      ]
    },
    {
      "cell_type": "markdown",
      "id": "cc29bb3c-2a4f-44c5-b748-5b8fbde5eae2",
      "metadata": {
        "id": "cc29bb3c-2a4f-44c5-b748-5b8fbde5eae2"
      },
      "source": [
        "# **PART 1: FUNCTIONAL PROGRAMMING**"
      ]
    },
    {
      "cell_type": "markdown",
      "id": "3fd36b2f-7d6f-4224-ac8c-388af175ea0b",
      "metadata": {
        "id": "3fd36b2f-7d6f-4224-ac8c-388af175ea0b"
      },
      "source": [
        "## Section 09 - Modules, Packages and Namespaces"
      ]
    },
    {
      "cell_type": "markdown",
      "id": "299a686d-5b92-43bd-96d4-1e41dba7507e",
      "metadata": {
        "id": "299a686d-5b92-43bd-96d4-1e41dba7507e"
      },
      "source": [
        "### 01 - What is a Module?"
      ]
    },
    {
      "cell_type": "markdown",
      "id": "c35b20f3-6a45-43c6-b58a-16fd292d3d0c",
      "metadata": {
        "id": "c35b20f3-6a45-43c6-b58a-16fd292d3d0c"
      },
      "source": [
        "A module is simply another data type. And the modules we use are instances of that data type."
      ]
    },
    {
      "cell_type": "code",
      "execution_count": null,
      "id": "8e905ec8-c992-4077-b449-bc89a0ea42e1",
      "metadata": {
        "id": "8e905ec8-c992-4077-b449-bc89a0ea42e1"
      },
      "outputs": [],
      "source": [
        "import math"
      ]
    },
    {
      "cell_type": "markdown",
      "id": "93ae497d-685a-4aaa-9eb2-78dccb216b55",
      "metadata": {
        "id": "93ae497d-685a-4aaa-9eb2-78dccb216b55"
      },
      "source": [
        "That word `math` is simply a label (think variable name) in our (global) namespace that points to some object in memory that is the `math` module.\n",
        "\n",
        "Let's see what is in our global namespace:"
      ]
    },
    {
      "cell_type": "code",
      "execution_count": null,
      "id": "427ce585-0139-4119-b1ec-9cfcbcbbf05d",
      "metadata": {
        "id": "427ce585-0139-4119-b1ec-9cfcbcbbf05d",
        "outputId": "7bb47ec4-68ab-4782-faf5-b4ebd040db20"
      },
      "outputs": [
        {
          "data": {
            "text/plain": [
              "{'__name__': '__main__',\n",
              " '__doc__': 'Automatically created module for IPython interactive environment',\n",
              " '__package__': None,\n",
              " '__loader__': None,\n",
              " '__spec__': None,\n",
              " '__builtin__': <module 'builtins' (built-in)>,\n",
              " '__builtins__': <module 'builtins' (built-in)>,\n",
              " '_ih': ['', 'import math', 'globals()'],\n",
              " '_oh': {},\n",
              " '_dh': [WindowsPath('C:/Users/aserd/Python 3 Deep Dive ALL')],\n",
              " 'In': ['', 'import math', 'globals()'],\n",
              " 'Out': {},\n",
              " 'get_ipython': <bound method InteractiveShell.get_ipython of <ipykernel.zmqshell.ZMQInteractiveShell object at 0x000001E13AABC790>>,\n",
              " 'exit': <IPython.core.autocall.ZMQExitAutocall at 0x1e13aaeb340>,\n",
              " 'quit': <IPython.core.autocall.ZMQExitAutocall at 0x1e13aaeb340>,\n",
              " '_': '',\n",
              " '__': '',\n",
              " '___': '',\n",
              " '_i': 'import math',\n",
              " '_ii': '',\n",
              " '_iii': '',\n",
              " '_i1': 'import math',\n",
              " 'math': <module 'math' (built-in)>,\n",
              " '_i2': 'globals()'}"
            ]
          },
          "execution_count": 2,
          "metadata": {},
          "output_type": "execute_result"
        }
      ],
      "source": [
        "globals()"
      ]
    },
    {
      "cell_type": "code",
      "execution_count": null,
      "id": "be900c71-3e44-4ce3-b5e9-47ef85d49722",
      "metadata": {
        "id": "be900c71-3e44-4ce3-b5e9-47ef85d49722",
        "outputId": "872d833c-8539-471e-e09e-88850823f47d"
      },
      "outputs": [
        {
          "data": {
            "text/plain": [
              "<module 'math' (built-in)>"
            ]
          },
          "execution_count": 3,
          "metadata": {},
          "output_type": "execute_result"
        }
      ],
      "source": [
        "globals()['math']"
      ]
    },
    {
      "cell_type": "code",
      "execution_count": null,
      "id": "c4e71d5b-39f2-4df2-9f23-939dd75284c6",
      "metadata": {
        "id": "c4e71d5b-39f2-4df2-9f23-939dd75284c6",
        "outputId": "210d1582-1096-4085-e01f-42d4219e65eb"
      },
      "outputs": [
        {
          "data": {
            "text/plain": [
              "module"
            ]
          },
          "execution_count": 4,
          "metadata": {},
          "output_type": "execute_result"
        }
      ],
      "source": [
        "type(math)"
      ]
    },
    {
      "cell_type": "code",
      "execution_count": null,
      "id": "92db78b7-d7c2-41bc-93c9-de020b5922b4",
      "metadata": {
        "id": "92db78b7-d7c2-41bc-93c9-de020b5922b4",
        "outputId": "a0f3f45e-ea8c-409d-ac9a-d8be31a717ea"
      },
      "outputs": [
        {
          "data": {
            "text/plain": [
              "<module 'math' (built-in)>"
            ]
          },
          "execution_count": 5,
          "metadata": {},
          "output_type": "execute_result"
        }
      ],
      "source": [
        "math"
      ]
    },
    {
      "cell_type": "markdown",
      "id": "8f7259cf-a4b4-47f9-932d-cf85ccb89a1b",
      "metadata": {
        "id": "8f7259cf-a4b4-47f9-932d-cf85ccb89a1b"
      },
      "source": [
        "It's just an object of type `module`, and it even has a memory address:"
      ]
    },
    {
      "cell_type": "code",
      "execution_count": null,
      "id": "b35210bb-fd92-4390-bf25-361d0e70d08a",
      "metadata": {
        "id": "b35210bb-fd92-4390-bf25-361d0e70d08a",
        "outputId": "8f94c24c-510e-4751-fc74-7388ea0a23f8"
      },
      "outputs": [
        {
          "data": {
            "text/plain": [
              "2066788030800"
            ]
          },
          "execution_count": 6,
          "metadata": {},
          "output_type": "execute_result"
        }
      ],
      "source": [
        "id(math)"
      ]
    },
    {
      "cell_type": "markdown",
      "id": "3be3e133-6ffe-443a-b6f9-f26cac0c7dcd",
      "metadata": {
        "id": "3be3e133-6ffe-443a-b6f9-f26cac0c7dcd"
      },
      "source": [
        "Take note of this memory address, we'll want to refer to it later!\n",
        "\n",
        "Let me show you what happens if I set the `math` **label** to `None` (I could even use `del globals()['math']`:"
      ]
    },
    {
      "cell_type": "code",
      "execution_count": null,
      "id": "cb07fe5d-0321-409f-bd2e-cf187d55fdb8",
      "metadata": {
        "id": "cb07fe5d-0321-409f-bd2e-cf187d55fdb8"
      },
      "outputs": [],
      "source": [
        "math = None"
      ]
    },
    {
      "cell_type": "code",
      "execution_count": null,
      "id": "c5710784-48ba-4ccb-8714-bd087f6b827c",
      "metadata": {
        "id": "c5710784-48ba-4ccb-8714-bd087f6b827c",
        "outputId": "30ac1b5f-3c8b-4c72-de8a-cd23d9a27fe0"
      },
      "outputs": [
        {
          "data": {
            "text/plain": [
              "NoneType"
            ]
          },
          "execution_count": 8,
          "metadata": {},
          "output_type": "execute_result"
        }
      ],
      "source": [
        "type(math)"
      ]
    },
    {
      "cell_type": "code",
      "execution_count": null,
      "id": "33c749d4-d189-4b75-aa08-2c18f1f29bab",
      "metadata": {
        "id": "33c749d4-d189-4b75-aa08-2c18f1f29bab",
        "outputId": "876a765a-2fcc-43fc-ff1b-473e8a89a1e5"
      },
      "outputs": [
        {
          "data": {
            "text/plain": [
              "140709414935768"
            ]
          },
          "execution_count": 9,
          "metadata": {},
          "output_type": "execute_result"
        }
      ],
      "source": [
        "id(math)"
      ]
    },
    {
      "cell_type": "markdown",
      "id": "7cdc6b1c-d898-42cf-843b-ebb4857e67ee",
      "metadata": {
        "id": "7cdc6b1c-d898-42cf-843b-ebb4857e67ee"
      },
      "source": [
        "As you can see the label `math` now points to something else.\n",
        "\n",
        "Let me re-import it:"
      ]
    },
    {
      "cell_type": "code",
      "execution_count": null,
      "id": "8fbef279-167f-4c2d-bf9a-69561b3f45bb",
      "metadata": {
        "id": "8fbef279-167f-4c2d-bf9a-69561b3f45bb"
      },
      "outputs": [],
      "source": [
        "import math"
      ]
    },
    {
      "cell_type": "markdown",
      "id": "96076e84-cd46-48a0-ad5a-333edfc397c6",
      "metadata": {
        "id": "96076e84-cd46-48a0-ad5a-333edfc397c6"
      },
      "source": [
        "And now we can see:"
      ]
    },
    {
      "cell_type": "code",
      "execution_count": null,
      "id": "2f3c7403-ff21-4165-aa26-5c09f5b8d396",
      "metadata": {
        "id": "2f3c7403-ff21-4165-aa26-5c09f5b8d396",
        "outputId": "f5b3a51d-2f88-42a8-c89c-c0acbceea378"
      },
      "outputs": [
        {
          "data": {
            "text/plain": [
              "<module 'math' (built-in)>"
            ]
          },
          "execution_count": 11,
          "metadata": {},
          "output_type": "execute_result"
        }
      ],
      "source": [
        "math"
      ]
    },
    {
      "cell_type": "code",
      "execution_count": null,
      "id": "54793e8f-e727-48d4-ada0-ccc878191ca0",
      "metadata": {
        "id": "54793e8f-e727-48d4-ada0-ccc878191ca0",
        "outputId": "aa623e34-5bdf-49f3-ab6f-4a4b3f93b9ad"
      },
      "outputs": [
        {
          "data": {
            "text/plain": [
              "2066788030800"
            ]
          },
          "execution_count": 12,
          "metadata": {},
          "output_type": "execute_result"
        }
      ],
      "source": [
        "id(math)"
      ]
    },
    {
      "cell_type": "markdown",
      "id": "a869e237-7f88-4365-b062-41fcce331330",
      "metadata": {
        "id": "a869e237-7f88-4365-b062-41fcce331330"
      },
      "source": [
        "You'll notice that the label `math` now is the **same** memory address as the first time we ran the import."
      ]
    },
    {
      "cell_type": "markdown",
      "id": "03f53acc-3400-4242-9208-b6df0706f155",
      "metadata": {
        "id": "03f53acc-3400-4242-9208-b6df0706f155"
      },
      "source": [
        "---\n",
        "**BE CAREFUL!**\n",
        "\n",
        "*NOTE: Please do not do this in your code. You never what side effects you may encounter - I just showed you this to make a point - when I ran the import the second time, I obtained a label that pointed to the **same** object.*\n",
        "\n",
        "*What happens is that when you import a module, it is not actually loaded into the module's namespace only. Instead, the module is loaded into an overarching global system dictionary that contains the module name and the reference to the module object. The name we see here is \"copied\" into our namespace from that system namespace.*\n",
        "\n",
        "*If we had a project with multiple modules that each imported `math`, Python will load the `math` module the first time it is requested and put it into memory.*\n",
        "\n",
        "*The next time the `math` module is imported (in some different module), Python always looks at the system modules first - if it is there it simply copies that reference into our module's namespace and sets the label accordingly.*\n",
        "\n",
        "*Let's take a look at the system module:*"
      ]
    },
    {
      "cell_type": "code",
      "execution_count": null,
      "id": "aad282c9-afed-4a32-bc38-75c9da2d299d",
      "metadata": {
        "id": "aad282c9-afed-4a32-bc38-75c9da2d299d"
      },
      "outputs": [],
      "source": [
        "import sys"
      ]
    },
    {
      "cell_type": "code",
      "execution_count": null,
      "id": "6c89bf06-5373-4ad3-a795-743630f311ea",
      "metadata": {
        "id": "6c89bf06-5373-4ad3-a795-743630f311ea",
        "outputId": "7c5735f3-1008-484d-e652-bebc5d2915b8"
      },
      "outputs": [
        {
          "data": {
            "text/plain": [
              "dict"
            ]
          },
          "execution_count": 14,
          "metadata": {},
          "output_type": "execute_result"
        }
      ],
      "source": [
        "type(sys.modules)"
      ]
    },
    {
      "cell_type": "markdown",
      "id": "06dfb3f5-2db9-4ba5-8baf-912ca55f4f04",
      "metadata": {
        "id": "06dfb3f5-2db9-4ba5-8baf-912ca55f4f04"
      },
      "source": [
        "The `sys.modules` currently contains a **lot** of entries, so I'm just going to look at the one we're interested in - the `math` module:"
      ]
    },
    {
      "cell_type": "code",
      "execution_count": null,
      "id": "45d4bc14-c27b-4c02-ad14-e6d2417df123",
      "metadata": {
        "id": "45d4bc14-c27b-4c02-ad14-e6d2417df123",
        "outputId": "6687762b-9402-4ccb-c2f3-264277a27a48"
      },
      "outputs": [
        {
          "data": {
            "text/plain": [
              "<module 'math' (built-in)>"
            ]
          },
          "execution_count": 15,
          "metadata": {},
          "output_type": "execute_result"
        }
      ],
      "source": [
        "sys.modules['math']"
      ]
    },
    {
      "cell_type": "markdown",
      "id": "727f9b8f-3ba1-421b-9469-7d0f248da8f0",
      "metadata": {
        "id": "727f9b8f-3ba1-421b-9469-7d0f248da8f0"
      },
      "source": [
        "Aha! The `sys.modules` dictionary contains a key for `math` and as you saw it is the `math` module. In fact we can look at the memory address once more:"
      ]
    },
    {
      "cell_type": "code",
      "execution_count": null,
      "id": "bfc095d7-d924-43a0-8013-f064d8f49e90",
      "metadata": {
        "id": "bfc095d7-d924-43a0-8013-f064d8f49e90",
        "outputId": "485ba39d-bdc2-4096-b295-8559663c187e"
      },
      "outputs": [
        {
          "data": {
            "text/plain": [
              "2066788030800"
            ]
          },
          "execution_count": 16,
          "metadata": {},
          "output_type": "execute_result"
        }
      ],
      "source": [
        "id(sys.modules['math'])"
      ]
    },
    {
      "cell_type": "markdown",
      "id": "26d86cb3-7ed2-4bd7-b928-9b0d70c8aec1",
      "metadata": {
        "id": "26d86cb3-7ed2-4bd7-b928-9b0d70c8aec1"
      },
      "source": [
        "Compare that to the `id` of the `math` module in our own (main) module - the same!\n",
        "\n",
        "Now that we have established that a module is just an instance of the `module` type, and where it lives (in memory)\n",
        "with references to it maintained in the `sys.modules` dictionary as well as in any module namespace that imported, let's see how we could create a module dynamically!\n",
        "\n",
        "If it's an object, let's inspect it..."
      ]
    },
    {
      "cell_type": "code",
      "execution_count": null,
      "id": "86bdd6e4-8c0e-43d9-91b7-d25472082e68",
      "metadata": {
        "id": "86bdd6e4-8c0e-43d9-91b7-d25472082e68",
        "outputId": "5f34b63c-3bf0-474e-f4b2-4a1c88ec0091"
      },
      "outputs": [
        {
          "data": {
            "text/plain": [
              "'math'"
            ]
          },
          "execution_count": 17,
          "metadata": {},
          "output_type": "execute_result"
        }
      ],
      "source": [
        "math.__name__"
      ]
    },
    {
      "cell_type": "code",
      "execution_count": null,
      "id": "22776eee-1ef8-4a77-9571-14a507c29b34",
      "metadata": {
        "id": "22776eee-1ef8-4a77-9571-14a507c29b34",
        "outputId": "cb72733b-9a02-4cd8-b8fc-ec3a7a8c6844"
      },
      "outputs": [
        {
          "data": {
            "text/plain": [
              "{'__name__': 'math',\n",
              " '__doc__': 'This module provides access to the mathematical functions\\ndefined by the C standard.',\n",
              " '__package__': '',\n",
              " '__loader__': _frozen_importlib.BuiltinImporter,\n",
              " '__spec__': ModuleSpec(name='math', loader=<class '_frozen_importlib.BuiltinImporter'>, origin='built-in'),\n",
              " 'acos': <function math.acos(x, /)>,\n",
              " 'acosh': <function math.acosh(x, /)>,\n",
              " 'asin': <function math.asin(x, /)>,\n",
              " 'asinh': <function math.asinh(x, /)>,\n",
              " 'atan': <function math.atan(x, /)>,\n",
              " 'atan2': <function math.atan2(y, x, /)>,\n",
              " 'atanh': <function math.atanh(x, /)>,\n",
              " 'ceil': <function math.ceil(x, /)>,\n",
              " 'copysign': <function math.copysign(x, y, /)>,\n",
              " 'cos': <function math.cos(x, /)>,\n",
              " 'cosh': <function math.cosh(x, /)>,\n",
              " 'degrees': <function math.degrees(x, /)>,\n",
              " 'dist': <function math.dist(p, q, /)>,\n",
              " 'erf': <function math.erf(x, /)>,\n",
              " 'erfc': <function math.erfc(x, /)>,\n",
              " 'exp': <function math.exp(x, /)>,\n",
              " 'expm1': <function math.expm1(x, /)>,\n",
              " 'fabs': <function math.fabs(x, /)>,\n",
              " 'factorial': <function math.factorial(x, /)>,\n",
              " 'floor': <function math.floor(x, /)>,\n",
              " 'fmod': <function math.fmod(x, y, /)>,\n",
              " 'frexp': <function math.frexp(x, /)>,\n",
              " 'fsum': <function math.fsum(seq, /)>,\n",
              " 'gamma': <function math.gamma(x, /)>,\n",
              " 'gcd': <function math.gcd(*integers)>,\n",
              " 'hypot': <function math.hypot>,\n",
              " 'isclose': <function math.isclose(a, b, *, rel_tol=1e-09, abs_tol=0.0)>,\n",
              " 'isfinite': <function math.isfinite(x, /)>,\n",
              " 'isinf': <function math.isinf(x, /)>,\n",
              " 'isnan': <function math.isnan(x, /)>,\n",
              " 'isqrt': <function math.isqrt(n, /)>,\n",
              " 'lcm': <function math.lcm(*integers)>,\n",
              " 'ldexp': <function math.ldexp(x, i, /)>,\n",
              " 'lgamma': <function math.lgamma(x, /)>,\n",
              " 'log': <function math.log>,\n",
              " 'log1p': <function math.log1p(x, /)>,\n",
              " 'log10': <function math.log10(x, /)>,\n",
              " 'log2': <function math.log2(x, /)>,\n",
              " 'modf': <function math.modf(x, /)>,\n",
              " 'pow': <function math.pow(x, y, /)>,\n",
              " 'radians': <function math.radians(x, /)>,\n",
              " 'remainder': <function math.remainder(x, y, /)>,\n",
              " 'sin': <function math.sin(x, /)>,\n",
              " 'sinh': <function math.sinh(x, /)>,\n",
              " 'sqrt': <function math.sqrt(x, /)>,\n",
              " 'tan': <function math.tan(x, /)>,\n",
              " 'tanh': <function math.tanh(x, /)>,\n",
              " 'trunc': <function math.trunc(x, /)>,\n",
              " 'prod': <function math.prod(iterable, /, *, start=1)>,\n",
              " 'perm': <function math.perm(n, k=None, /)>,\n",
              " 'comb': <function math.comb(n, k, /)>,\n",
              " 'nextafter': <function math.nextafter(x, y, /)>,\n",
              " 'ulp': <function math.ulp(x, /)>,\n",
              " 'pi': 3.141592653589793,\n",
              " 'e': 2.718281828459045,\n",
              " 'tau': 6.283185307179586,\n",
              " 'inf': inf,\n",
              " 'nan': nan}"
            ]
          },
          "execution_count": 18,
          "metadata": {},
          "output_type": "execute_result"
        }
      ],
      "source": [
        "math.__dict__"
      ]
    },
    {
      "cell_type": "markdown",
      "id": "98dfdd46-09e8-4d8e-98cf-7b5c693505be",
      "metadata": {
        "id": "98dfdd46-09e8-4d8e-98cf-7b5c693505be"
      },
      "source": [
        "Notice how all the methods and \"constants\" (such as pi) are just members of a dictionary with values being functions or values:"
      ]
    },
    {
      "cell_type": "code",
      "execution_count": null,
      "id": "3daa9828-dcdf-47e6-ada0-c3f35da44641",
      "metadata": {
        "id": "3daa9828-dcdf-47e6-ada0-c3f35da44641",
        "outputId": "e594f951-63a1-4879-c2cd-d1323360d51f"
      },
      "outputs": [
        {
          "data": {
            "text/plain": [
              "True"
            ]
          },
          "execution_count": 19,
          "metadata": {},
          "output_type": "execute_result"
        }
      ],
      "source": [
        "math.sqrt is math.__dict__['sqrt']"
      ]
    },
    {
      "cell_type": "markdown",
      "id": "bfb4a4ee-c587-4b7c-8da3-69eb7fcfaef9",
      "metadata": {
        "id": "bfb4a4ee-c587-4b7c-8da3-69eb7fcfaef9"
      },
      "source": [
        "So, when we write `math.sqrt` we are basically just retrieving the function stored in the `math.__dict__` dictionary at that key (`sqrt`).\n",
        "\n",
        "Now the `math` module is a little special - it is written in C and actually a built-in.\n",
        "\n",
        "Let's look at another module from the standard library:"
      ]
    },
    {
      "cell_type": "code",
      "execution_count": null,
      "id": "c979149b-2ae0-423a-a573-6f9266c936c9",
      "metadata": {
        "id": "c979149b-2ae0-423a-a573-6f9266c936c9"
      },
      "outputs": [],
      "source": [
        "import fractions"
      ]
    },
    {
      "cell_type": "code",
      "execution_count": null,
      "id": "9f5e2800-f018-43f6-a1af-c5b005bfec9b",
      "metadata": {
        "id": "9f5e2800-f018-43f6-a1af-c5b005bfec9b",
        "outputId": "14824d53-cdd5-4dfb-f738-6e0737584c9d"
      },
      "outputs": [
        {
          "data": {
            "text/plain": [
              "{'__name__': 'fractions',\n",
              " '__doc__': 'Fraction, infinite-precision, real numbers.',\n",
              " '__package__': '',\n",
              " '__loader__': <_frozen_importlib_external.SourceFileLoader at 0x1e13883d9d0>,\n",
              " '__spec__': ModuleSpec(name='fractions', loader=<_frozen_importlib_external.SourceFileLoader object at 0x000001E13883D9D0>, origin='C:\\\\Users\\\\aserd\\\\anaconda3\\\\lib\\\\fractions.py'),\n",
              " '__file__': 'C:\\\\Users\\\\aserd\\\\anaconda3\\\\lib\\\\fractions.py',\n",
              " '__cached__': 'C:\\\\Users\\\\aserd\\\\anaconda3\\\\lib\\\\__pycache__\\\\fractions.cpython-39.pyc',\n",
              " '__builtins__': {'__name__': 'builtins',\n",
              "  '__doc__': \"Built-in functions, exceptions, and other objects.\\n\\nNoteworthy: None is the `nil' object; Ellipsis represents `...' in slices.\",\n",
              "  '__package__': '',\n",
              "  '__loader__': _frozen_importlib.BuiltinImporter,\n",
              "  '__spec__': ModuleSpec(name='builtins', loader=<class '_frozen_importlib.BuiltinImporter'>, origin='built-in'),\n",
              "  '__build_class__': <function __build_class__>,\n",
              "  '__import__': <function __import__>,\n",
              "  'abs': <function abs(x, /)>,\n",
              "  'all': <function all(iterable, /)>,\n",
              "  'any': <function any(iterable, /)>,\n",
              "  'ascii': <function ascii(obj, /)>,\n",
              "  'bin': <function bin(number, /)>,\n",
              "  'breakpoint': <function breakpoint>,\n",
              "  'callable': <function callable(obj, /)>,\n",
              "  'chr': <function chr(i, /)>,\n",
              "  'compile': <function compile(source, filename, mode, flags=0, dont_inherit=False, optimize=-1, *, _feature_version=-1)>,\n",
              "  'delattr': <function delattr(obj, name, /)>,\n",
              "  'dir': <function dir>,\n",
              "  'divmod': <function divmod(x, y, /)>,\n",
              "  'eval': <function eval(source, globals=None, locals=None, /)>,\n",
              "  'exec': <function exec(source, globals=None, locals=None, /)>,\n",
              "  'format': <function format(value, format_spec='', /)>,\n",
              "  'getattr': <function getattr>,\n",
              "  'globals': <function globals()>,\n",
              "  'hasattr': <function hasattr(obj, name, /)>,\n",
              "  'hash': <function hash(obj, /)>,\n",
              "  'hex': <function hex(number, /)>,\n",
              "  'id': <function id(obj, /)>,\n",
              "  'input': <bound method Kernel.raw_input of <ipykernel.ipkernel.IPythonKernel object at 0x000001E13AA97D30>>,\n",
              "  'isinstance': <function isinstance(obj, class_or_tuple, /)>,\n",
              "  'issubclass': <function issubclass(cls, class_or_tuple, /)>,\n",
              "  'iter': <function iter>,\n",
              "  'len': <function len(obj, /)>,\n",
              "  'locals': <function locals()>,\n",
              "  'max': <function max>,\n",
              "  'min': <function min>,\n",
              "  'next': <function next>,\n",
              "  'oct': <function oct(number, /)>,\n",
              "  'ord': <function ord(c, /)>,\n",
              "  'pow': <function pow(base, exp, mod=None)>,\n",
              "  'print': <function print>,\n",
              "  'repr': <function repr(obj, /)>,\n",
              "  'round': <function round(number, ndigits=None)>,\n",
              "  'setattr': <function setattr(obj, name, value, /)>,\n",
              "  'sorted': <function sorted(iterable, /, *, key=None, reverse=False)>,\n",
              "  'sum': <function sum(iterable, /, start=0)>,\n",
              "  'vars': <function vars>,\n",
              "  'None': None,\n",
              "  'Ellipsis': Ellipsis,\n",
              "  'NotImplemented': NotImplemented,\n",
              "  'False': False,\n",
              "  'True': True,\n",
              "  'bool': bool,\n",
              "  'memoryview': memoryview,\n",
              "  'bytearray': bytearray,\n",
              "  'bytes': bytes,\n",
              "  'classmethod': classmethod,\n",
              "  'complex': complex,\n",
              "  'dict': dict,\n",
              "  'enumerate': enumerate,\n",
              "  'filter': filter,\n",
              "  'float': float,\n",
              "  'frozenset': frozenset,\n",
              "  'property': property,\n",
              "  'int': int,\n",
              "  'list': list,\n",
              "  'map': map,\n",
              "  'object': object,\n",
              "  'range': range,\n",
              "  'reversed': reversed,\n",
              "  'set': set,\n",
              "  'slice': slice,\n",
              "  'staticmethod': staticmethod,\n",
              "  'str': str,\n",
              "  'super': super,\n",
              "  'tuple': tuple,\n",
              "  'type': type,\n",
              "  'zip': zip,\n",
              "  '__debug__': True,\n",
              "  'BaseException': BaseException,\n",
              "  'Exception': Exception,\n",
              "  'TypeError': TypeError,\n",
              "  'StopAsyncIteration': StopAsyncIteration,\n",
              "  'StopIteration': StopIteration,\n",
              "  'GeneratorExit': GeneratorExit,\n",
              "  'SystemExit': SystemExit,\n",
              "  'KeyboardInterrupt': KeyboardInterrupt,\n",
              "  'ImportError': ImportError,\n",
              "  'ModuleNotFoundError': ModuleNotFoundError,\n",
              "  'OSError': OSError,\n",
              "  'EnvironmentError': OSError,\n",
              "  'IOError': OSError,\n",
              "  'WindowsError': OSError,\n",
              "  'EOFError': EOFError,\n",
              "  'RuntimeError': RuntimeError,\n",
              "  'RecursionError': RecursionError,\n",
              "  'NotImplementedError': NotImplementedError,\n",
              "  'NameError': NameError,\n",
              "  'UnboundLocalError': UnboundLocalError,\n",
              "  'AttributeError': AttributeError,\n",
              "  'SyntaxError': SyntaxError,\n",
              "  'IndentationError': IndentationError,\n",
              "  'TabError': TabError,\n",
              "  'LookupError': LookupError,\n",
              "  'IndexError': IndexError,\n",
              "  'KeyError': KeyError,\n",
              "  'ValueError': ValueError,\n",
              "  'UnicodeError': UnicodeError,\n",
              "  'UnicodeEncodeError': UnicodeEncodeError,\n",
              "  'UnicodeDecodeError': UnicodeDecodeError,\n",
              "  'UnicodeTranslateError': UnicodeTranslateError,\n",
              "  'AssertionError': AssertionError,\n",
              "  'ArithmeticError': ArithmeticError,\n",
              "  'FloatingPointError': FloatingPointError,\n",
              "  'OverflowError': OverflowError,\n",
              "  'ZeroDivisionError': ZeroDivisionError,\n",
              "  'SystemError': SystemError,\n",
              "  'ReferenceError': ReferenceError,\n",
              "  'MemoryError': MemoryError,\n",
              "  'BufferError': BufferError,\n",
              "  'Warning': Warning,\n",
              "  'UserWarning': UserWarning,\n",
              "  'DeprecationWarning': DeprecationWarning,\n",
              "  'PendingDeprecationWarning': PendingDeprecationWarning,\n",
              "  'SyntaxWarning': SyntaxWarning,\n",
              "  'RuntimeWarning': RuntimeWarning,\n",
              "  'FutureWarning': FutureWarning,\n",
              "  'ImportWarning': ImportWarning,\n",
              "  'UnicodeWarning': UnicodeWarning,\n",
              "  'BytesWarning': BytesWarning,\n",
              "  'ResourceWarning': ResourceWarning,\n",
              "  'ConnectionError': ConnectionError,\n",
              "  'BlockingIOError': BlockingIOError,\n",
              "  'BrokenPipeError': BrokenPipeError,\n",
              "  'ChildProcessError': ChildProcessError,\n",
              "  'ConnectionAbortedError': ConnectionAbortedError,\n",
              "  'ConnectionRefusedError': ConnectionRefusedError,\n",
              "  'ConnectionResetError': ConnectionResetError,\n",
              "  'FileExistsError': FileExistsError,\n",
              "  'FileNotFoundError': FileNotFoundError,\n",
              "  'IsADirectoryError': IsADirectoryError,\n",
              "  'NotADirectoryError': NotADirectoryError,\n",
              "  'InterruptedError': InterruptedError,\n",
              "  'PermissionError': PermissionError,\n",
              "  'ProcessLookupError': ProcessLookupError,\n",
              "  'TimeoutError': TimeoutError,\n",
              "  'open': <function io.open(file, mode='r', buffering=-1, encoding=None, errors=None, newline=None, closefd=True, opener=None)>,\n",
              "  'copyright': Copyright (c) 2001-2022 Python Software Foundation.\n",
              "  All Rights Reserved.\n",
              "  \n",
              "  Copyright (c) 2000 BeOpen.com.\n",
              "  All Rights Reserved.\n",
              "  \n",
              "  Copyright (c) 1995-2001 Corporation for National Research Initiatives.\n",
              "  All Rights Reserved.\n",
              "  \n",
              "  Copyright (c) 1991-1995 Stichting Mathematisch Centrum, Amsterdam.\n",
              "  All Rights Reserved.,\n",
              "  'credits':     Thanks to CWI, CNRI, BeOpen.com, Zope Corporation and a cast of thousands\n",
              "      for supporting Python development.  See www.python.org for more information.,\n",
              "  'license': See https://www.python.org/psf/license/,\n",
              "  'help': Type help() for interactive help, or help(object) for help about object.,\n",
              "  'execfile': <function _pydev_imps._pydev_execfile.execfile(file, glob=None, loc=None)>,\n",
              "  'runfile': <function _pydev_bundle.pydev_umd.runfile(filename, args=None, wdir=None, namespace=None)>,\n",
              "  '__IPYTHON__': True,\n",
              "  'display': <function IPython.core.display_functions.display(*objs, include=None, exclude=None, metadata=None, transient=None, display_id=None, raw=False, clear=False, **kwargs)>,\n",
              "  'get_ipython': <bound method InteractiveShell.get_ipython of <ipykernel.zmqshell.ZMQInteractiveShell object at 0x000001E13AABC790>>},\n",
              " 'Decimal': decimal.Decimal,\n",
              " 'math': <module 'math' (built-in)>,\n",
              " 'numbers': <module 'numbers' from 'C:\\\\Users\\\\aserd\\\\anaconda3\\\\lib\\\\numbers.py'>,\n",
              " 'operator': <module 'operator' from 'C:\\\\Users\\\\aserd\\\\anaconda3\\\\lib\\\\operator.py'>,\n",
              " 're': <module 're' from 'C:\\\\Users\\\\aserd\\\\anaconda3\\\\lib\\\\re.py'>,\n",
              " 'sys': <module 'sys' (built-in)>,\n",
              " '__all__': ['Fraction'],\n",
              " '_PyHASH_MODULUS': 2305843009213693951,\n",
              " '_PyHASH_INF': 314159,\n",
              " '_RATIONAL_FORMAT': re.compile(r'\\n    \\A\\s*                      # optional whitespace at the start, then\\n    (?P<sign>[-+]?)            # an optional sign, then\\n    (?=\\d|\\.\\d)                # lookahead for digit or .digit\\n    (?P<num>\\d*)               # numerator (possibly empty)\\n    (?:                        # followed by\\n       (?:/(?P<denom>\\d+))?    # an optional denominator\\n    |                          # or\\n       (?:\\.(?P<decimal>\\d*))? # an optional fractional part\\n       (?:E(?P<exp>[-+]?\\d+))? # and optional exponent\\n    )\\n    \\s*\\Z                      # and optional whitespace to finish\\n',\n",
              "            re.IGNORECASE|re.UNICODE|re.VERBOSE),\n",
              " 'Fraction': fractions.Fraction}"
            ]
          },
          "execution_count": 21,
          "metadata": {},
          "output_type": "execute_result"
        }
      ],
      "source": [
        "fractions.__dict__"
      ]
    },
    {
      "cell_type": "markdown",
      "id": "803fa2f2-c484-42ce-8a8c-a790cbd8b891",
      "metadata": {
        "id": "803fa2f2-c484-42ce-8a8c-a790cbd8b891"
      },
      "source": [
        "Notice a few properties here that look interesting:"
      ]
    },
    {
      "cell_type": "code",
      "execution_count": null,
      "id": "f6a8b9c6-22f2-44ba-9080-49f180b5144e",
      "metadata": {
        "id": "f6a8b9c6-22f2-44ba-9080-49f180b5144e",
        "outputId": "337588aa-1cad-4599-d9f3-8c5fc2e8b876"
      },
      "outputs": [
        {
          "data": {
            "text/plain": [
              "'C:\\\\Users\\\\aserd\\\\anaconda3\\\\lib\\\\fractions.py'"
            ]
          },
          "execution_count": 22,
          "metadata": {},
          "output_type": "execute_result"
        }
      ],
      "source": [
        "fractions.__file__"
      ]
    },
    {
      "cell_type": "markdown",
      "id": "655a22b5-09d8-4633-b354-4ef300be2e7f",
      "metadata": {
        "id": "655a22b5-09d8-4633-b354-4ef300be2e7f"
      },
      "source": [
        "That's where the `fractions` module source code resides. I am using a virtual environment (conda), and the module `fractions.py` resides in that directory.\n",
        "\n",
        "So a module is an object that is:\n",
        "\n",
        "* loaded from file (maybe! we'll see that in a second)\n",
        "* has a namespace\n",
        "* is a container of global variables (that `__dict__` we saw)\n",
        "* is an execution enviornment (we'll see that in an upcoming lecture)\n",
        "\n",
        "Of course, modules are just specific data types, and like any other data type in Python (think classes, functions, etc) we can create them dynamically - they do not have to be loaded from file (through that is how we do it most of the time)."
      ]
    },
    {
      "cell_type": "code",
      "execution_count": null,
      "id": "9e19dc4c-3f84-403c-a775-46a267355475",
      "metadata": {
        "id": "9e19dc4c-3f84-403c-a775-46a267355475"
      },
      "outputs": [],
      "source": [
        "import types"
      ]
    },
    {
      "cell_type": "code",
      "execution_count": null,
      "id": "710c2a26-43f2-4359-9477-54912e61e68e",
      "metadata": {
        "id": "710c2a26-43f2-4359-9477-54912e61e68e",
        "outputId": "73ad81be-c2e2-4d87-cd61-870934226f59"
      },
      "outputs": [
        {
          "data": {
            "text/plain": [
              "True"
            ]
          },
          "execution_count": 24,
          "metadata": {},
          "output_type": "execute_result"
        }
      ],
      "source": [
        "isinstance(fractions, types.ModuleType)"
      ]
    },
    {
      "cell_type": "markdown",
      "id": "323e61d3-1009-40b9-9df7-17f447d5976d",
      "metadata": {
        "id": "323e61d3-1009-40b9-9df7-17f447d5976d"
      },
      "source": [
        "So, modules are instances of the `ModuleType` class."
      ]
    },
    {
      "cell_type": "code",
      "execution_count": null,
      "id": "4c5bf826-2e27-434a-af34-380afc7f57a3",
      "metadata": {
        "id": "4c5bf826-2e27-434a-af34-380afc7f57a3",
        "outputId": "8c7c6c1f-247c-4b70-fd4e-1d389ae73b3b"
      },
      "outputs": [
        {
          "name": "stdout",
          "output_type": "stream",
          "text": [
            "Help on class module in module builtins:\n",
            "\n",
            "class module(object)\n",
            " |  module(name, doc=None)\n",
            " |  \n",
            " |  Create a module object.\n",
            " |  \n",
            " |  The name must be a string; the optional doc argument can have any type.\n",
            " |  \n",
            " |  Methods defined here:\n",
            " |  \n",
            " |  __delattr__(self, name, /)\n",
            " |      Implement delattr(self, name).\n",
            " |  \n",
            " |  __dir__(...)\n",
            " |      __dir__() -> list\n",
            " |      specialized dir() implementation\n",
            " |  \n",
            " |  __getattribute__(self, name, /)\n",
            " |      Return getattr(self, name).\n",
            " |  \n",
            " |  __init__(self, /, *args, **kwargs)\n",
            " |      Initialize self.  See help(type(self)) for accurate signature.\n",
            " |  \n",
            " |  __repr__(self, /)\n",
            " |      Return repr(self).\n",
            " |  \n",
            " |  __setattr__(self, name, value, /)\n",
            " |      Implement setattr(self, name, value).\n",
            " |  \n",
            " |  ----------------------------------------------------------------------\n",
            " |  Static methods defined here:\n",
            " |  \n",
            " |  __new__(*args, **kwargs) from builtins.type\n",
            " |      Create and return a new object.  See help(type) for accurate signature.\n",
            " |  \n",
            " |  ----------------------------------------------------------------------\n",
            " |  Data descriptors defined here:\n",
            " |  \n",
            " |  __dict__\n",
            "\n"
          ]
        }
      ],
      "source": [
        "help(types.ModuleType)"
      ]
    },
    {
      "cell_type": "markdown",
      "id": "c410a1f2-357d-4a4f-a0a2-8fbaa0688c3a",
      "metadata": {
        "id": "c410a1f2-357d-4a4f-a0a2-8fbaa0688c3a"
      },
      "source": [
        "Let's go ahead and create a new module:"
      ]
    },
    {
      "cell_type": "code",
      "execution_count": null,
      "id": "1fc7bf89-af6c-4323-b3b2-5cd89c24d297",
      "metadata": {
        "id": "1fc7bf89-af6c-4323-b3b2-5cd89c24d297"
      },
      "outputs": [],
      "source": [
        "mod = types.ModuleType('point', 'A module for handling points.')"
      ]
    },
    {
      "cell_type": "code",
      "execution_count": null,
      "id": "07173670-335e-4be4-870c-23ccac796bc8",
      "metadata": {
        "id": "07173670-335e-4be4-870c-23ccac796bc8",
        "outputId": "1a3f1698-b514-4b8b-96ee-e02e3b66bdbe"
      },
      "outputs": [
        {
          "data": {
            "text/plain": [
              "<module 'point'>"
            ]
          },
          "execution_count": 29,
          "metadata": {},
          "output_type": "execute_result"
        }
      ],
      "source": [
        "mod"
      ]
    },
    {
      "cell_type": "code",
      "execution_count": null,
      "id": "67fa6e0c-e564-4760-9eca-ca4970991efa",
      "metadata": {
        "id": "67fa6e0c-e564-4760-9eca-ca4970991efa",
        "outputId": "432469a3-b751-43be-881a-5ea8872bf12d"
      },
      "outputs": [
        {
          "name": "stdout",
          "output_type": "stream",
          "text": [
            "Help on module point:\n",
            "\n",
            "NAME\n",
            "    point - A module for handling points.\n",
            "\n",
            "FILE\n",
            "    (built-in)\n",
            "\n",
            "\n"
          ]
        }
      ],
      "source": [
        "help(mod)"
      ]
    },
    {
      "cell_type": "markdown",
      "id": "cff09ca9-9cf8-4a83-8edc-b9bdf0c4fa2e",
      "metadata": {
        "id": "cff09ca9-9cf8-4a83-8edc-b9bdf0c4fa2e"
      },
      "source": [
        "OK, so now let's add some functionality to it by simply setting some attributes:"
      ]
    },
    {
      "cell_type": "code",
      "execution_count": null,
      "id": "e9a68121-2835-41bc-9cf3-168809a44171",
      "metadata": {
        "id": "e9a68121-2835-41bc-9cf3-168809a44171"
      },
      "outputs": [],
      "source": [
        "from collections import namedtuple\n",
        "mod.Point = namedtuple('Point', 'x y')"
      ]
    },
    {
      "cell_type": "code",
      "execution_count": null,
      "id": "a0de51e6-db18-4ee4-9023-4113e20e977c",
      "metadata": {
        "id": "a0de51e6-db18-4ee4-9023-4113e20e977c"
      },
      "outputs": [],
      "source": [
        "def points_distance(pt1, pt2):\n",
        "    return math.sqrt((pt1.x - pt2.x) ** 2 + (pt1.y - pt2.y) ** 2)"
      ]
    },
    {
      "cell_type": "code",
      "execution_count": null,
      "id": "fbeb7e44-fc0b-43c1-ac38-729dc0de6472",
      "metadata": {
        "id": "fbeb7e44-fc0b-43c1-ac38-729dc0de6472"
      },
      "outputs": [],
      "source": [
        "mod.distance = points_distance"
      ]
    },
    {
      "cell_type": "code",
      "execution_count": null,
      "id": "a65d232b-a902-4151-a565-5bae90982d76",
      "metadata": {
        "id": "a65d232b-a902-4151-a565-5bae90982d76",
        "outputId": "f4aa3805-a5fd-4723-a883-db62af66040f"
      },
      "outputs": [
        {
          "data": {
            "text/plain": [
              "{'__name__': 'point',\n",
              " '__doc__': 'A module for handling points.',\n",
              " '__package__': None,\n",
              " '__loader__': None,\n",
              " '__spec__': None,\n",
              " 'Point': __main__.Point,\n",
              " 'distance': <function __main__.points_distance(pt1, pt2)>}"
            ]
          },
          "execution_count": 38,
          "metadata": {},
          "output_type": "execute_result"
        }
      ],
      "source": [
        "mod.__dict__"
      ]
    },
    {
      "cell_type": "code",
      "execution_count": null,
      "id": "2b5716ed-553a-4654-a43d-4a592d7ad6db",
      "metadata": {
        "id": "2b5716ed-553a-4654-a43d-4a592d7ad6db"
      },
      "outputs": [],
      "source": [
        "p1 = mod.Point(0, 0)\n",
        "p2 = mod.Point(1, 1)"
      ]
    },
    {
      "cell_type": "code",
      "execution_count": null,
      "id": "bf9332ea-263a-4240-929d-b857e436d6ef",
      "metadata": {
        "id": "bf9332ea-263a-4240-929d-b857e436d6ef",
        "outputId": "7386e2f1-b8ed-4035-fcc4-292d75c755b2"
      },
      "outputs": [
        {
          "data": {
            "text/plain": [
              "1.4142135623730951"
            ]
          },
          "execution_count": 40,
          "metadata": {},
          "output_type": "execute_result"
        }
      ],
      "source": [
        "mod.distance(p1, p2)"
      ]
    },
    {
      "cell_type": "markdown",
      "id": "fe244e39-8d88-45d0-9259-66d98313e4a6",
      "metadata": {
        "id": "fe244e39-8d88-45d0-9259-66d98313e4a6"
      },
      "source": [
        "As you can see it behaves just like an ordinary module.\n",
        "\n",
        "However, one major difference here is that it is not located in the `sys.modules` dictionary - so another module in our program would not know anything about it.\n",
        "\n",
        "But we can fix that! We'll see this in one of the next lectures.\n",
        "\n",
        "But first we'll need to take a peek at how Python imports a moduile from file. Coming right up!"
      ]
    },
    {
      "cell_type": "markdown",
      "id": "d2b393af-89e7-401c-a0e5-9e310db4fb71",
      "metadata": {
        "id": "d2b393af-89e7-401c-a0e5-9e310db4fb71"
      },
      "source": [
        "### 02 - How does Python import Modules?"
      ]
    },
    {
      "cell_type": "markdown",
      "id": "a06f00c1-6ac7-40f5-9c4a-d230b418e7ec",
      "metadata": {
        "id": "a06f00c1-6ac7-40f5-9c4a-d230b418e7ec"
      },
      "source": [
        "When we run a statement such as\n",
        "\n",
        "`import fractions`\n",
        "\n",
        "what is Python actually doing?\n",
        "\n",
        "The first thing to note is that Python is doing the import at **run time**, i.e. while your code is actually running.\n",
        "\n",
        "This is different from traditional compiled languages such as C where modules are compiled and linked at compile time.\n",
        "\n",
        "In both cases though, the system need to know **where** those code files exist.\n",
        "\n",
        "Python uses a relatively complex system of how to find and load modules. I'm not going to even attempt to describe this in detail, but we'll take a brief look at the main points.\n",
        "\n",
        "The `sys` module has a few properties that define where Python is going to look for modules (either built-in or standard library as well as our own or 3rd party):"
      ]
    },
    {
      "cell_type": "code",
      "execution_count": null,
      "id": "9fe28055-de24-4988-8beb-4f656e56f216",
      "metadata": {
        "id": "9fe28055-de24-4988-8beb-4f656e56f216"
      },
      "outputs": [],
      "source": [
        "import sys"
      ]
    },
    {
      "cell_type": "markdown",
      "id": "c026a94f-7fb4-4a06-9792-25405f215d01",
      "metadata": {
        "id": "c026a94f-7fb4-4a06-9792-25405f215d01"
      },
      "source": [
        "Where is Python installed?"
      ]
    },
    {
      "cell_type": "code",
      "execution_count": null,
      "id": "3188d2cb-678f-44c6-ab83-f5179b445c47",
      "metadata": {
        "id": "3188d2cb-678f-44c6-ab83-f5179b445c47",
        "outputId": "9737d053-a88c-43ac-e404-befe0d713160"
      },
      "outputs": [
        {
          "data": {
            "text/plain": [
              "'C:\\\\Users\\\\aserd\\\\anaconda3'"
            ]
          },
          "execution_count": 42,
          "metadata": {},
          "output_type": "execute_result"
        }
      ],
      "source": [
        "sys.prefix"
      ]
    },
    {
      "cell_type": "markdown",
      "id": "15ba8d7b-8590-41f2-8abb-202a411c70be",
      "metadata": {
        "id": "15ba8d7b-8590-41f2-8abb-202a411c70be"
      },
      "source": [
        "Where are the compiled C binaries located?"
      ]
    },
    {
      "cell_type": "code",
      "execution_count": null,
      "id": "9161976d-e4d3-4792-9b47-36a79fe1b888",
      "metadata": {
        "id": "9161976d-e4d3-4792-9b47-36a79fe1b888",
        "outputId": "91e8d280-9517-4574-c427-cb1cac7556d9"
      },
      "outputs": [
        {
          "data": {
            "text/plain": [
              "'C:\\\\Users\\\\aserd\\\\anaconda3'"
            ]
          },
          "execution_count": 43,
          "metadata": {},
          "output_type": "execute_result"
        }
      ],
      "source": [
        "sys.exec_prefix"
      ]
    },
    {
      "cell_type": "markdown",
      "id": "b3856162-8265-418a-87e9-616223c42a71",
      "metadata": {
        "id": "b3856162-8265-418a-87e9-616223c42a71"
      },
      "source": [
        "These two properties are how virtual environments are basically able to work with different environments. Python is installed to a different set of directories, and these prefixes are manipulated to reflext the current Python location.\n",
        "\n",
        "Where does Python look for imports?"
      ]
    },
    {
      "cell_type": "code",
      "execution_count": null,
      "id": "989d9b08-1bf0-4688-8f34-2340b4099b3a",
      "metadata": {
        "id": "989d9b08-1bf0-4688-8f34-2340b4099b3a",
        "outputId": "1507bc29-fc31-4feb-a557-9d444adb54e8"
      },
      "outputs": [
        {
          "data": {
            "text/plain": [
              "['C:\\\\Users\\\\aserd\\\\Python 3 Deep Dive ALL',\n",
              " 'C:\\\\Users\\\\aserd\\\\anaconda3\\\\python39.zip',\n",
              " 'C:\\\\Users\\\\aserd\\\\anaconda3\\\\DLLs',\n",
              " 'C:\\\\Users\\\\aserd\\\\anaconda3\\\\lib',\n",
              " 'C:\\\\Users\\\\aserd\\\\anaconda3',\n",
              " '',\n",
              " 'C:\\\\Users\\\\aserd\\\\anaconda3\\\\lib\\\\site-packages',\n",
              " 'C:\\\\Users\\\\aserd\\\\anaconda3\\\\lib\\\\site-packages\\\\win32',\n",
              " 'C:\\\\Users\\\\aserd\\\\anaconda3\\\\lib\\\\site-packages\\\\win32\\\\lib',\n",
              " 'C:\\\\Users\\\\aserd\\\\anaconda3\\\\lib\\\\site-packages\\\\Pythonwin']"
            ]
          },
          "execution_count": 44,
          "metadata": {},
          "output_type": "execute_result"
        }
      ],
      "source": [
        "sys.path"
      ]
    },
    {
      "cell_type": "markdown",
      "id": "1a35554b-01f0-45e6-af2f-808f61f68e2d",
      "metadata": {
        "id": "1a35554b-01f0-45e6-af2f-808f61f68e2d"
      },
      "source": [
        "Basically when we import a module, Python will search for the module in the paths contained in `sys.path`.\n",
        "\n",
        "If it does not find the module in one of those paths, the import will fail.\n",
        "\n",
        "So if you ever run into a problem where Python is not able to import a module or package, you should check this first to make sure the path to your module/package is in that list.\n",
        "\n",
        "At a high level, this is how Python imports a module from file:\n",
        "\n",
        "* checks the `sys.modules` cache to see if the module has already been imported - if so it simply uses the reference in there, otherwise:\n",
        "* creates a new module object (`types.ModuleType`)\n",
        "* loads the source code from file\n",
        "* adds an entry to `sys.modules` with name as key and the newly created\n",
        "* compiles and executes the source code\n",
        "\n",
        "One thing that's really to important to note is that when a module is imported, the module code is **executed**.\n",
        "\n",
        "Let's switch over to PyCharm (or you favorite IDE, which may well be VI/emacs and the command line!). All the files are included in the lecture resources or my github repository."
      ]
    },
    {
      "cell_type": "markdown",
      "id": "02ff2ddb-652b-4d0e-8478-2c6aef96111e",
      "metadata": {
        "id": "02ff2ddb-652b-4d0e-8478-2c6aef96111e"
      },
      "source": [
        "**Example 1**\n",
        "\n",
        "This example show that when we import a module, the module code is actually **executed**.\n",
        "\n",
        "Furthermore, that module now has its own namespace that can be seen in `__dict__`."
      ]
    },
    {
      "cell_type": "markdown",
      "id": "23162e77-7379-49e0-92ca-48d71778fa0a",
      "metadata": {
        "id": "23162e77-7379-49e0-92ca-48d71778fa0a"
      },
      "source": [
        "```\n",
        "#### module1.py\n",
        "\n",
        "print('----- Running {0} -----'.format(__name__))\n",
        "\n",
        "\n",
        "def pprint_dict(header, d):\n",
        "    print('\\n\\n----------------------------------------')\n",
        "    print('***** {0} *****'.format(header))\n",
        "    for key, value in d.items():\n",
        "        print(key, value)\n",
        "    print('----------------------------------------\\n\\n')\n",
        "\n",
        "\n",
        "pprint_dict('module1.globals', globals())\n",
        "\n",
        "print('----- End of {0} -----'.format(__name__))\n",
        "\n",
        "```"
      ]
    },
    {
      "cell_type": "markdown",
      "id": "9cfa4525-8d8a-4536-b317-5c3d4d289780",
      "metadata": {
        "id": "9cfa4525-8d8a-4536-b317-5c3d4d289780"
      },
      "source": [
        "```\n",
        "##### main.py\n",
        "\n",
        "print('================================')\n",
        "print('Running main.py - module name: {0}'.format(__name__))\n",
        "\n",
        "import module1\n",
        "\n",
        "print(module1)\n",
        "\n",
        "module1.pprint_dict('main.globals', globals())\n",
        "\n",
        "import sys\n",
        "print(sys.path)\n",
        "\n",
        "print('================================')\n",
        "\n",
        "```"
      ]
    },
    {
      "cell_type": "markdown",
      "id": "98881e9a-5343-4596-99eb-8baa40ab32c0",
      "metadata": {
        "id": "98881e9a-5343-4596-99eb-8baa40ab32c0"
      },
      "source": [
        "**Example 2**\n",
        "\n",
        "In this example, we can see that when we `import` a module, Python first looks for it in `sys.modules`.\n",
        "\n",
        "To make the point, we put a key/value pair in `sys.modules` ourselves, and then import it.\n",
        "\n",
        "In fact we put a function in there instead of a module, and import that.\n",
        "\n",
        "Please DO NOT this. I'm just making the point that `import` will first look in the cache and immediately just return the object if the name is found, basically just as if we had written:\n",
        "\n",
        "`module = sys.modules['module']`"
      ]
    },
    {
      "cell_type": "code",
      "execution_count": null,
      "id": "7f745c60-c077-4482-bba0-a1b2a48fdd34",
      "metadata": {
        "id": "7f745c60-c077-4482-bba0-a1b2a48fdd34"
      },
      "outputs": [],
      "source": [
        "sys.modules['test'] = lambda: 'Testing module caching'"
      ]
    },
    {
      "cell_type": "code",
      "execution_count": null,
      "id": "97acab98-3d13-460e-b940-247f54b3c75f",
      "metadata": {
        "id": "97acab98-3d13-460e-b940-247f54b3c75f"
      },
      "outputs": [],
      "source": [
        "import test"
      ]
    },
    {
      "cell_type": "markdown",
      "id": "3784c5cf-2b5b-415d-b239-f33ef6d7c3e8",
      "metadata": {
        "id": "3784c5cf-2b5b-415d-b239-f33ef6d7c3e8"
      },
      "source": [
        "See, it got the \"module\" from sys..."
      ]
    },
    {
      "cell_type": "code",
      "execution_count": null,
      "id": "3cd1fa2d-f7f0-45ce-9da8-8caa0a8c7784",
      "metadata": {
        "id": "3cd1fa2d-f7f0-45ce-9da8-8caa0a8c7784",
        "outputId": "4eed1b66-c807-4e06-8d79-da1457b97361"
      },
      "outputs": [
        {
          "data": {
            "text/plain": [
              "<function __main__.<lambda>()>"
            ]
          },
          "execution_count": 47,
          "metadata": {},
          "output_type": "execute_result"
        }
      ],
      "source": [
        "test"
      ]
    },
    {
      "cell_type": "code",
      "execution_count": null,
      "id": "0eeb705c-c7cd-4b12-a1b1-cd5b6094466a",
      "metadata": {
        "id": "0eeb705c-c7cd-4b12-a1b1-cd5b6094466a",
        "outputId": "0cb81347-c12b-4c2a-f40e-1f7f601b9149"
      },
      "outputs": [
        {
          "data": {
            "text/plain": [
              "'Testing module caching'"
            ]
          },
          "execution_count": 48,
          "metadata": {},
          "output_type": "execute_result"
        }
      ],
      "source": [
        "test()"
      ]
    },
    {
      "cell_type": "markdown",
      "id": "1b83495a-196f-45e1-a183-34ec4627a4c6",
      "metadata": {
        "id": "1b83495a-196f-45e1-a183-34ec4627a4c6"
      },
      "source": [
        "```\n",
        "#### module1.py\n",
        "import sys\n",
        "\n",
        "# don't do this!\n",
        "sys.modules['test'] = lambda: 'Hello!'\n",
        "```"
      ]
    },
    {
      "cell_type": "markdown",
      "id": "0712c5e2-df61-47d7-bd02-697c85310c09",
      "metadata": {
        "id": "0712c5e2-df61-47d7-bd02-697c85310c09"
      },
      "source": [
        "```\n",
        "#### main.py\n",
        "import module1\n",
        "\n",
        "# even though test was added to sys.modules\n",
        "# in module1, we can still access it from here\n",
        "import test\n",
        "\n",
        "print(test())\n",
        "\n",
        "# don't do this! It's a bad hack to illustrate how import looks\n",
        "# in sys.modules for the symbol we are importing\n",
        "```"
      ]
    },
    {
      "cell_type": "markdown",
      "id": "04a7e25c-862d-4564-87ab-80929a45df05",
      "metadata": {
        "id": "04a7e25c-862d-4564-87ab-80929a45df05"
      },
      "source": [
        "**Example 3a**\n",
        "\n",
        "In this example we look at a simplified view of how Python imports a module.\n",
        "\n",
        "We use two built-in functions, `compile` and `exec`\n",
        "\n",
        "The `compile` function compiles source (e.g. text) into a code object.\n",
        "\n",
        "The `exec` function is used to execute a code object. Optionally we can specify what dictionary should be used to store global symbols.\n",
        "\n",
        "In our case we are going to want to use our module's `__dict__`."
      ]
    },
    {
      "cell_type": "markdown",
      "id": "1674a471-20cb-417a-af15-edd6185b4c4b",
      "metadata": {
        "id": "1674a471-20cb-417a-af15-edd6185b4c4b"
      },
      "source": [
        "```\n",
        "#### module1.py\n",
        "\n",
        "print('Running module1.py')\n",
        "\n",
        "\n",
        "def hello():\n",
        "    print('module1 says Hello!')\n",
        "```"
      ]
    },
    {
      "cell_type": "markdown",
      "id": "2d426a56-15ef-44a9-9471-d28345c7bf00",
      "metadata": {
        "id": "2d426a56-15ef-44a9-9471-d28345c7bf00"
      },
      "source": [
        "```\n",
        "#### main.py\n",
        "import os.path\n",
        "import types\n",
        "import sys\n",
        "\n",
        "# let's \"import\" module1 manually\n",
        "\n",
        "# first we need to load the code from file\n",
        "module_name = 'module1'\n",
        "module_file = 'module1_source.py'\n",
        "module_path = '.'\n",
        "\n",
        "module_rel_file_path = os.path.join(module_path, module_file)\n",
        "module_abs_file_path = os.path.abspath(module_rel_file_path)\n",
        "\n",
        "# read source code from file\n",
        "with open(module_rel_file_path, 'r') as code_file:\n",
        "    source_code = code_file.read()\n",
        "\n",
        "# next we create a module object\n",
        "mod = types.ModuleType(module_name)\n",
        "mod.__file__ = module_abs_file_path\n",
        "\n",
        "# insert a reference to the module in sys.modules\n",
        "sys.modules[module_name] = mod\n",
        "\n",
        "# compile the module source code into a code object\n",
        "# optionally we should tell the code object where the source came from\n",
        "# the third parameter is used to indicate that our source consists of a sequence of statements\n",
        "code = compile(source_code, filename=module_abs_file_path, mode='exec')\n",
        "\n",
        "# execute the module\n",
        "# we want the global variables to be stored in mod.__dict__\n",
        "exec(code, mod.__dict__)\n",
        "\n",
        "# our module is now imported!\n",
        "# We can use it directly via our mod variable\n",
        "\n",
        "mod.hello()\n",
        "\n",
        "# but we can also import it, using the module name we specified\n",
        "import module1\n",
        "\n",
        "module1.hello()\n",
        "```"
      ]
    },
    {
      "cell_type": "markdown",
      "id": "bfa34590-5bca-4314-b581-ed53b503e0dd",
      "metadata": {
        "id": "bfa34590-5bca-4314-b581-ed53b503e0dd"
      },
      "source": [
        "**Example 3b**\n",
        "\n",
        "This is esentially the same as example 3a, except we make our importer into a function and use it to show how we technically should look for a cached version of the module first."
      ]
    },
    {
      "cell_type": "markdown",
      "id": "39d54835-9a7a-4edf-a71a-9632cfdc9251",
      "metadata": {
        "id": "39d54835-9a7a-4edf-a71a-9632cfdc9251"
      },
      "source": [
        "```\n",
        "#### importer.py\n",
        "print('Running importer.py')\n",
        "\n",
        "import os.path\n",
        "import types\n",
        "import sys\n",
        "\n",
        "\n",
        "def import_(module_name, module_file, module_path):\n",
        "    if module_name in sys.modules:\n",
        "        return sys.modules[module_name]\n",
        "\n",
        "    module_rel_file_path = os.path.join(module_path, module_file)\n",
        "    module_abs_file_path = os.path.abspath(module_rel_file_path)\n",
        "\n",
        "    # read source code from file\n",
        "    with open(module_rel_file_path, 'r') as code_file:\n",
        "        source_code = code_file.read()\n",
        "\n",
        "    # next we create a module object\n",
        "    mod = types.ModuleType(module_name)\n",
        "    mod.__file__ = module_abs_file_path\n",
        "\n",
        "    # insert a reference to the module in sys.modules\n",
        "    sys.modules[module_name] = mod\n",
        "\n",
        "    # compile the module source code into a code object\n",
        "    # optionally we should tell the code object where the source came from\n",
        "    # the third parameter is used to indicate that our source consists of a sequence of statements\n",
        "    code = compile(source_code, filename=module_abs_file_path, mode='exec')\n",
        "\n",
        "    # execute the module\n",
        "    # we want the global variables to be stored in mod.__dict__\n",
        "    exec(code, mod.__dict__)\n",
        "\n",
        "    # return the module\n",
        "    return sys.modules[module_name]\n",
        "```"
      ]
    },
    {
      "cell_type": "markdown",
      "id": "bb035d85-ec46-4a3e-a41b-8f2185e254d5",
      "metadata": {
        "id": "bb035d85-ec46-4a3e-a41b-8f2185e254d5"
      },
      "source": [
        "```\n",
        "#### module1.py\n",
        "\n",
        "print('Running module1.py')\n",
        "\n",
        "\n",
        "def hello():\n",
        "    print('module1 says Hello!')\n",
        "```"
      ]
    },
    {
      "cell_type": "markdown",
      "id": "bf467f15-6168-42bd-ae8c-d134a86cda3a",
      "metadata": {
        "id": "bf467f15-6168-42bd-ae8c-d134a86cda3a"
      },
      "source": [
        "```\n",
        "#### module2.py\n",
        "\n",
        "print('Running module2.py')\n",
        "import module1\n",
        "\n",
        "def hello():\n",
        "    print('module2 says Hello!\\nand...')\n",
        "    module1.hello()\n",
        "```"
      ]
    },
    {
      "cell_type": "markdown",
      "id": "db2830ab-2a7d-4410-9dc1-8ed7ec475aa5",
      "metadata": {
        "id": "db2830ab-2a7d-4410-9dc1-8ed7ec475aa5"
      },
      "source": [
        "```\n",
        "#### main.py\n",
        "import sys\n",
        "\n",
        "# we import our custom importer module\n",
        "import importer\n",
        "\n",
        "# import module1.py using our own importer\n",
        "module1 = importer.import_('module1', 'module1_source.py', '.')\n",
        "\n",
        "# we can see that module1 is in sys.modules\n",
        "print('sys says:', sys.modules.get('module1', 'module1 not found'))\n",
        "\n",
        "# and we can now import this module \"normally\" from other locations\n",
        "# such as module2.py\n",
        "import module2\n",
        "module2.hello()\n",
        "\n",
        "# notice how the first time we imported (using import_) module1, it \"ran\" (printed running module1).\n",
        "# but the second time we imported it (in module2) it did not\n",
        "# that's because Python recovered module1 from cache, and did not rebuild it\n",
        "```"
      ]
    },
    {
      "cell_type": "markdown",
      "id": "0ce80432-9992-4091-a03c-5c37c18b7164",
      "metadata": {
        "tags": [],
        "id": "0ce80432-9992-4091-a03c-5c37c18b7164"
      },
      "source": [
        "### 03 - Imports and importlib"
      ]
    },
    {
      "cell_type": "markdown",
      "id": "acc64f03-1a27-4340-9f63-7b9d8484f295",
      "metadata": {
        "id": "acc64f03-1a27-4340-9f63-7b9d8484f295"
      },
      "source": [
        "In the last lecture we saw how we could, in a simplistic manner, mimic Python's import.\n",
        "\n",
        "There is absolutely no need to do this since Python itself provides that dunctionality, both as a built-in function (`import`) and in the standard library module `importlib`.\n",
        "\n",
        "In fact, if you want to see how imports are don in pure Python code you can always look at the source code for that library (you should now know ehere to find that on your local machine - you havve to first identify a Python environment (`sys.exec_prefix`) and then look in the `lib` folder:"
      ]
    },
    {
      "cell_type": "code",
      "execution_count": null,
      "id": "c956133e-c243-4d90-92a1-677bc1c9ac11",
      "metadata": {
        "id": "c956133e-c243-4d90-92a1-677bc1c9ac11"
      },
      "outputs": [],
      "source": [
        "import sys"
      ]
    },
    {
      "cell_type": "code",
      "execution_count": null,
      "id": "41a5bb5d-d10c-4c7d-abf0-42cf6a0d5d95",
      "metadata": {
        "id": "41a5bb5d-d10c-4c7d-abf0-42cf6a0d5d95",
        "outputId": "fcc7ac46-fbfa-407d-b1b9-9cb0fbf76a16"
      },
      "outputs": [
        {
          "data": {
            "text/plain": [
              "'C:\\\\Users\\\\aserd\\\\anaconda3'"
            ]
          },
          "execution_count": 2,
          "metadata": {},
          "output_type": "execute_result"
        }
      ],
      "source": [
        "sys.exec_prefix"
      ]
    },
    {
      "cell_type": "markdown",
      "id": "a5417778-7db2-41f6-ab0b-0344e6441b6d",
      "metadata": {
        "id": "a5417778-7db2-41f6-ab0b-0344e6441b6d"
      },
      "source": [
        "Or you can import `importlib` and look at the `__file__` property to get an exact location:"
      ]
    },
    {
      "cell_type": "code",
      "execution_count": null,
      "id": "23a17f62-c061-46ce-bf0e-446f56e3d328",
      "metadata": {
        "id": "23a17f62-c061-46ce-bf0e-446f56e3d328"
      },
      "outputs": [],
      "source": [
        "import importlib"
      ]
    },
    {
      "cell_type": "code",
      "execution_count": null,
      "id": "10c346ee-87e7-4d53-bf88-3b93267d9310",
      "metadata": {
        "id": "10c346ee-87e7-4d53-bf88-3b93267d9310",
        "outputId": "0be84aa0-d429-4472-a2d6-bcd373417034"
      },
      "outputs": [
        {
          "data": {
            "text/plain": [
              "'C:\\\\Users\\\\aserd\\\\anaconda3\\\\lib\\\\importlib\\\\__init__.py'"
            ]
          },
          "execution_count": 4,
          "metadata": {},
          "output_type": "execute_result"
        }
      ],
      "source": [
        "importlib.__file__"
      ]
    },
    {
      "cell_type": "markdown",
      "id": "90637baf-2998-4f94-a0bd-4829ff49406c",
      "metadata": {
        "id": "90637baf-2998-4f94-a0bd-4829ff49406c"
      },
      "source": [
        "or just see the string representation of the `ìmportlib` object:"
      ]
    },
    {
      "cell_type": "code",
      "execution_count": null,
      "id": "452ab2cd-9047-4624-bab2-5307b232104e",
      "metadata": {
        "id": "452ab2cd-9047-4624-bab2-5307b232104e",
        "outputId": "ddcbd2c2-99be-4897-f762-2b9e997ad14b"
      },
      "outputs": [
        {
          "data": {
            "text/plain": [
              "<module 'importlib' from 'C:\\\\Users\\\\aserd\\\\anaconda3\\\\lib\\\\importlib\\\\__init__.py'>"
            ]
          },
          "execution_count": 5,
          "metadata": {},
          "output_type": "execute_result"
        }
      ],
      "source": [
        "importlib"
      ]
    },
    {
      "cell_type": "markdown",
      "id": "02ee65e2-3efb-4356-b4d9-219571edced0",
      "metadata": {
        "id": "02ee65e2-3efb-4356-b4d9-219571edced0"
      },
      "source": [
        "You'll find something a little different - `importlib` is not actually a pure module (it's still a module type object) - it's actually a package - more on that later.\n",
        "\n",
        "You should then use the `import_module` function to load a module.\n",
        "\n",
        "For example, we can load the `fractions` module as follows:"
      ]
    },
    {
      "cell_type": "code",
      "execution_count": null,
      "id": "6987ae59-b7ba-40f4-b2f2-f04e0137e3b9",
      "metadata": {
        "id": "6987ae59-b7ba-40f4-b2f2-f04e0137e3b9",
        "outputId": "23929796-8aec-4efd-835c-5ad822871355"
      },
      "outputs": [
        {
          "data": {
            "text/plain": [
              "<module 'fractions' from 'C:\\\\Users\\\\aserd\\\\anaconda3\\\\lib\\\\fractions.py'>"
            ]
          },
          "execution_count": 6,
          "metadata": {},
          "output_type": "execute_result"
        }
      ],
      "source": [
        "importlib.import_module('fractions')"
      ]
    },
    {
      "cell_type": "markdown",
      "id": "4ae121a5-8187-438a-94b5-72775109ee8c",
      "metadata": {
        "id": "4ae121a5-8187-438a-94b5-72775109ee8c"
      },
      "source": [
        "The problem doing it this way is that **our** module namespace does not havve a symbol for `fractions` (but it is in `sys.modules`):"
      ]
    },
    {
      "cell_type": "code",
      "execution_count": null,
      "id": "e9d56426-d9e5-4f68-a069-bdb7a58f1478",
      "metadata": {
        "id": "e9d56426-d9e5-4f68-a069-bdb7a58f1478",
        "outputId": "be8418ee-4498-4083-e71f-de6ad3f3e194"
      },
      "outputs": [
        {
          "ename": "NameError",
          "evalue": "name 'fractions' is not defined",
          "output_type": "error",
          "traceback": [
            "\u001b[1;31m---------------------------------------------------------------------------\u001b[0m",
            "\u001b[1;31mNameError\u001b[0m                                 Traceback (most recent call last)",
            "Input \u001b[1;32mIn [7]\u001b[0m, in \u001b[0;36m<cell line: 1>\u001b[1;34m()\u001b[0m\n\u001b[1;32m----> 1\u001b[0m f \u001b[38;5;241m=\u001b[39m \u001b[43mfractions\u001b[49m\u001b[38;5;241m.\u001b[39mFraction(\u001b[38;5;241m2\u001b[39m, \u001b[38;5;241m3\u001b[39m)\n",
            "\u001b[1;31mNameError\u001b[0m: name 'fractions' is not defined"
          ]
        }
      ],
      "source": [
        "f = fractions.Fraction(2, 3)"
      ]
    },
    {
      "cell_type": "markdown",
      "id": "83e81212-63ec-4b63-bd79-5dbdbf39be7c",
      "metadata": {
        "id": "83e81212-63ec-4b63-bd79-5dbdbf39be7c"
      },
      "source": [
        "So instad we would have to do it the same way we did it with our own custom importer:"
      ]
    },
    {
      "cell_type": "code",
      "execution_count": null,
      "id": "2a0a51e9-fca2-44ac-b43b-975d4800eb7f",
      "metadata": {
        "id": "2a0a51e9-fca2-44ac-b43b-975d4800eb7f"
      },
      "outputs": [],
      "source": [
        "fractions = importlib.import_module('fractions')"
      ]
    },
    {
      "cell_type": "markdown",
      "id": "33be4fe5-2fc5-4692-acd4-9249b4e911f1",
      "metadata": {
        "id": "33be4fe5-2fc5-4692-acd4-9249b4e911f1"
      },
      "source": [
        "And now we have a symbol for the `fractions` object."
      ]
    },
    {
      "cell_type": "code",
      "execution_count": null,
      "id": "8b1716b3-861a-45cc-a00f-b7bde091d4fc",
      "metadata": {
        "id": "8b1716b3-861a-45cc-a00f-b7bde091d4fc"
      },
      "outputs": [],
      "source": [
        "f = fractions.Fraction(2, 3)"
      ]
    },
    {
      "cell_type": "code",
      "execution_count": null,
      "id": "853780fe-0420-4642-93ea-20347814d109",
      "metadata": {
        "id": "853780fe-0420-4642-93ea-20347814d109",
        "outputId": "04501858-a638-4532-93c4-339327026f40"
      },
      "outputs": [
        {
          "data": {
            "text/plain": [
              "Fraction(2, 3)"
            ]
          },
          "execution_count": 10,
          "metadata": {},
          "output_type": "execute_result"
        }
      ],
      "source": [
        "f"
      ]
    },
    {
      "cell_type": "markdown",
      "id": "46fe6cec-5e66-4a3b-90f8-5fe9b617c9be",
      "metadata": {
        "id": "46fe6cec-5e66-4a3b-90f8-5fe9b617c9be"
      },
      "source": [
        "One thing I briefly alluded to earlier, we can import from a variety of \"sources\".\n",
        "\n",
        "Often it is from file, such as with fractions:"
      ]
    },
    {
      "cell_type": "code",
      "execution_count": null,
      "id": "7b1bce45-5e04-451a-b636-1bc321a841e2",
      "metadata": {
        "id": "7b1bce45-5e04-451a-b636-1bc321a841e2",
        "outputId": "5fdf9489-5da7-4561-af62-23bfb3b36002"
      },
      "outputs": [
        {
          "data": {
            "text/plain": [
              "<module 'fractions' from 'C:\\\\Users\\\\aserd\\\\anaconda3\\\\lib\\\\fractions.py'>"
            ]
          },
          "execution_count": 11,
          "metadata": {},
          "output_type": "execute_result"
        }
      ],
      "source": [
        "fractions"
      ]
    },
    {
      "cell_type": "markdown",
      "id": "15215658-a7b4-46ec-829c-5de95ba515ac",
      "metadata": {
        "id": "15215658-a7b4-46ec-829c-5de95ba515ac"
      },
      "source": [
        "Sometimes it is built in to Python directly:"
      ]
    },
    {
      "cell_type": "code",
      "execution_count": null,
      "id": "8bc85d34-4080-40d4-98c2-375727dcca04",
      "metadata": {
        "id": "8bc85d34-4080-40d4-98c2-375727dcca04"
      },
      "outputs": [],
      "source": [
        "import math"
      ]
    },
    {
      "cell_type": "code",
      "execution_count": null,
      "id": "47cf9e7b-d4a0-44ed-b763-7c2e29c418da",
      "metadata": {
        "id": "47cf9e7b-d4a0-44ed-b763-7c2e29c418da",
        "outputId": "624e1217-141c-4158-ae2c-616b3eef6226"
      },
      "outputs": [
        {
          "data": {
            "text/plain": [
              "<module 'math' (built-in)>"
            ]
          },
          "execution_count": 13,
          "metadata": {},
          "output_type": "execute_result"
        }
      ],
      "source": [
        "math"
      ]
    },
    {
      "cell_type": "markdown",
      "id": "9152496d-2af2-414c-a2dd-72b8ae6507a0",
      "metadata": {
        "id": "9152496d-2af2-414c-a2dd-72b8ae6507a0"
      },
      "source": [
        "In Python there are a number of files that are \"code\" files, such as\n",
        "\n",
        "* `.py`: basic text file containing Python code\n",
        "* `.pyc` compiled Python code (bytecode)\n",
        "* `.so`, `.pyd`: think DLL's (Linux/Windows)\n",
        "\n",
        "amongs others. Furthermore, Python can reach inside `zip` archives for code (as well as other packaged distribution files such as those used by Egg or Wheel).\n",
        "\n",
        "In very broad terms the import system, once the \"source\" code has been located works as we saw in the last lecture.\n",
        "\n",
        "A lot of the complexity comes from locating a module when we try to import it.\n",
        "\n",
        "Conceptually Python divides the work betweem **finders** and **loaders**.\n",
        "\n",
        "The **finders** are responsible for finding the module/package and returning the module spec, while the **loaders**, are responsible for \"loading\" the source code that is then used in the final steps to compile, execute and cache the module object. An object that implements both is called an **importer** - but they are still two sperate concepts.\n",
        "\n",
        "Python provides a number of standard finders and importers, such as:\n",
        "\n",
        "* built-in modules\n",
        "* frozen modules\n",
        "* import path finder (finds source code files on the import path - for example the `sys.path` entries we have seen before)\n",
        "\n",
        "What's interesting about the import path finder and loader is that they can search (and load from) zip archives.\n",
        "\n",
        "In fact it can even be extended to search other resources, including url's, databases, etc. You could theoretically store code in a Mongo or Redis database and import directly from there!\n",
        "\n",
        "Let's look at the module spec for `fractions`:"
      ]
    },
    {
      "cell_type": "code",
      "execution_count": null,
      "id": "11629ca8-a5c5-4f0d-8716-65fdbb16a16d",
      "metadata": {
        "id": "11629ca8-a5c5-4f0d-8716-65fdbb16a16d",
        "outputId": "7e500d24-dc25-4958-92f8-e66b4afa0335"
      },
      "outputs": [
        {
          "data": {
            "text/plain": [
              "ModuleSpec(name='fractions', loader=<_frozen_importlib_external.SourceFileLoader object at 0x0000024391AED9D0>, origin='C:\\\\Users\\\\aserd\\\\anaconda3\\\\lib\\\\fractions.py')"
            ]
          },
          "execution_count": 14,
          "metadata": {},
          "output_type": "execute_result"
        }
      ],
      "source": [
        "fractions.__spec__"
      ]
    },
    {
      "cell_type": "markdown",
      "id": "10e017ff-3cda-4eff-b81c-c806b2f23072",
      "metadata": {
        "id": "10e017ff-3cda-4eff-b81c-c806b2f23072"
      },
      "source": [
        "As you can see the finder determined where the source code was located, and also indicated that the loader to be used is the SourceFileLoader.\n",
        "\n",
        "How does Python know which finder to use in the first place?\n",
        "\n",
        "It doesn't really - it will go through a bunch of finders, one by one, until one returns a module spec - if it exhausts all the registered finders and finds nothing, then we get the module not found exception:"
      ]
    },
    {
      "cell_type": "code",
      "execution_count": null,
      "id": "bc1864b1-2425-4a24-8b0c-35d6642303e2",
      "metadata": {
        "id": "bc1864b1-2425-4a24-8b0c-35d6642303e2",
        "outputId": "86422563-c22d-49f4-d4be-7b6036e1e76b"
      },
      "outputs": [
        {
          "ename": "ModuleNotFoundError",
          "evalue": "No module named 'foo'",
          "output_type": "error",
          "traceback": [
            "\u001b[1;31m---------------------------------------------------------------------------\u001b[0m",
            "\u001b[1;31mModuleNotFoundError\u001b[0m                       Traceback (most recent call last)",
            "Input \u001b[1;32mIn [15]\u001b[0m, in \u001b[0;36m<cell line: 1>\u001b[1;34m()\u001b[0m\n\u001b[1;32m----> 1\u001b[0m \u001b[38;5;28;01mimport\u001b[39;00m \u001b[38;5;21;01mfoo\u001b[39;00m\n",
            "\u001b[1;31mModuleNotFoundError\u001b[0m: No module named 'foo'"
          ]
        }
      ],
      "source": [
        "import foo"
      ]
    },
    {
      "cell_type": "markdown",
      "id": "9b0d012b-8a7c-4310-a2d2-36b43fa325cb",
      "metadata": {
        "id": "9b0d012b-8a7c-4310-a2d2-36b43fa325cb"
      },
      "source": [
        "Here are the finders currently registered on my system:"
      ]
    },
    {
      "cell_type": "code",
      "execution_count": null,
      "id": "06f08d8b-9f1e-4617-9f43-cfe8efdc4376",
      "metadata": {
        "id": "06f08d8b-9f1e-4617-9f43-cfe8efdc4376",
        "outputId": "b9b8ec89-e605-44ea-9825-0a11f5bde567"
      },
      "outputs": [
        {
          "data": {
            "text/plain": [
              "[<_distutils_hack.DistutilsMetaFinder at 0x2438ecd0220>,\n",
              " _frozen_importlib.BuiltinImporter,\n",
              " _frozen_importlib.FrozenImporter,\n",
              " _frozen_importlib_external.PathFinder,\n",
              " <six._SixMetaPathImporter at 0x24391ac0d30>,\n",
              " <pkg_resources.extern.VendorImporter at 0x24393264670>,\n",
              " <setuptools.extern.VendorImporter at 0x2439358beb0>,\n",
              " <setuptools._vendor.importlib_metadata.MetadataPathFinder at 0x243935928e0>]"
            ]
          },
          "execution_count": 16,
          "metadata": {},
          "output_type": "execute_result"
        }
      ],
      "source": [
        "sys.meta_path"
      ]
    },
    {
      "cell_type": "markdown",
      "id": "e6c3b893-71c8-4ccc-b7d2-4690adac1dc7",
      "metadata": {
        "id": "e6c3b893-71c8-4ccc-b7d2-4690adac1dc7"
      },
      "source": [
        "When we import our custem file-based modules, the `PathFinder` will be used to find the file.\n",
        "\n",
        "We can also use `importlib` to find the spec for a particular module:"
      ]
    },
    {
      "cell_type": "code",
      "execution_count": null,
      "id": "ad6f0982-51ae-4051-b5ec-b318e16b5de1",
      "metadata": {
        "id": "ad6f0982-51ae-4051-b5ec-b318e16b5de1",
        "outputId": "779f76fb-5c74-4e5d-c006-eefd848c3846"
      },
      "outputs": [
        {
          "data": {
            "text/plain": [
              "ModuleSpec(name='math', loader=<class '_frozen_importlib.BuiltinImporter'>, origin='built-in')"
            ]
          },
          "execution_count": 17,
          "metadata": {},
          "output_type": "execute_result"
        }
      ],
      "source": [
        "importlib.util.find_spec('math')"
      ]
    },
    {
      "cell_type": "code",
      "execution_count": null,
      "id": "96650d26-4f62-4fc4-9bb2-be41bfc7c953",
      "metadata": {
        "id": "96650d26-4f62-4fc4-9bb2-be41bfc7c953",
        "outputId": "015c179b-165c-4cda-fd78-8078e35bab3d"
      },
      "outputs": [
        {
          "data": {
            "text/plain": [
              "ModuleSpec(name='fractions', loader=<_frozen_importlib_external.SourceFileLoader object at 0x0000024391AED9D0>, origin='C:\\\\Users\\\\aserd\\\\anaconda3\\\\lib\\\\fractions.py')"
            ]
          },
          "execution_count": 18,
          "metadata": {},
          "output_type": "execute_result"
        }
      ],
      "source": [
        "importlib.util.find_spec('fractions')"
      ]
    },
    {
      "cell_type": "markdown",
      "id": "db362193-8090-457e-b456-111353fefb47",
      "metadata": {
        "id": "db362193-8090-457e-b456-111353fefb47"
      },
      "source": [
        "Let's write out a small source file to disk, called module1.py:"
      ]
    },
    {
      "cell_type": "code",
      "execution_count": null,
      "id": "999b6dd6-a51b-45ea-a13a-ad6fc8ab55a2",
      "metadata": {
        "id": "999b6dd6-a51b-45ea-a13a-ad6fc8ab55a2"
      },
      "outputs": [],
      "source": [
        "with open('module1.py', 'w') as code_file:\n",
        "    code_file.write(\"print('running module1.py...')\\n\")\n",
        "    code_file.write('a = 100\\n')"
      ]
    },
    {
      "cell_type": "markdown",
      "id": "1cd5eb7b-aab2-4988-822a-1f6463320922",
      "metadata": {
        "id": "1cd5eb7b-aab2-4988-822a-1f6463320922"
      },
      "source": [
        "Now that we have the module on disk, we can ask `importlib` for the module spec:"
      ]
    },
    {
      "cell_type": "code",
      "execution_count": null,
      "id": "9d5c3e18-4f06-45c6-b481-d84d1957609d",
      "metadata": {
        "id": "9d5c3e18-4f06-45c6-b481-d84d1957609d",
        "outputId": "44054884-6f68-407a-fe9e-338968f251fe"
      },
      "outputs": [
        {
          "data": {
            "text/plain": [
              "ModuleSpec(name='module1', loader=<_frozen_importlib_external.SourceFileLoader object at 0x0000024394EE8A00>, origin='C:\\\\Users\\\\aserd\\\\Python 3 Deep Dive ALL\\\\module1.py')"
            ]
          },
          "execution_count": 20,
          "metadata": {},
          "output_type": "execute_result"
        }
      ],
      "source": [
        "importlib.util.find_spec('module1')"
      ]
    },
    {
      "cell_type": "markdown",
      "id": "19d3d962-4cb4-411b-b641-283d3167dc00",
      "metadata": {
        "id": "19d3d962-4cb4-411b-b641-283d3167dc00"
      },
      "source": [
        "As you can see, it found the file and indicated it would be imported using the SourceFileLoader.\n",
        "\n",
        "Now let's go ahead and actually import it:"
      ]
    },
    {
      "cell_type": "code",
      "execution_count": null,
      "id": "36f2dc94-d582-40d9-8792-bc3a63d121f5",
      "metadata": {
        "id": "36f2dc94-d582-40d9-8792-bc3a63d121f5",
        "outputId": "74cedf9f-e9b6-45a8-cc19-d919a4b574a0"
      },
      "outputs": [
        {
          "name": "stdout",
          "output_type": "stream",
          "text": [
            "running module1.py...\n"
          ]
        }
      ],
      "source": [
        "import module1"
      ]
    },
    {
      "cell_type": "code",
      "execution_count": null,
      "id": "c5c4e2a4-2fb9-4137-8840-d802a70882f4",
      "metadata": {
        "id": "c5c4e2a4-2fb9-4137-8840-d802a70882f4",
        "outputId": "ddc2bd93-56a3-43ef-93ce-62cf1f6e1ec4"
      },
      "outputs": [
        {
          "data": {
            "text/plain": [
              "100"
            ]
          },
          "execution_count": 22,
          "metadata": {},
          "output_type": "execute_result"
        }
      ],
      "source": [
        "module1.a"
      ]
    },
    {
      "cell_type": "markdown",
      "id": "15b30d9c-e150-49f6-8ba7-8b13add288e2",
      "metadata": {
        "id": "15b30d9c-e150-49f6-8ba7-8b13add288e2"
      },
      "source": [
        "Now let's go ahead and write a file somewhere other than our source folder - you'll have to change this code to specify your path where you want that module file to be created:"
      ]
    },
    {
      "cell_type": "code",
      "execution_count": null,
      "id": "8c783539-dabd-42f5-84b6-9c4a99155b90",
      "metadata": {
        "id": "8c783539-dabd-42f5-84b6-9c4a99155b90"
      },
      "outputs": [],
      "source": [
        "import os\n",
        "\n",
        "# you can use this for Mac/Linux:\n",
        "# ext_module_path = os.environ['HOME']\n",
        "\n",
        "# you can use thi in Windows 10\n",
        "# ext_module_path = os.environ['HOMEPATH']\n",
        "\n",
        "# or you can just hard code some path\n",
        "# ext_module_path = 'c:\\\\temp'\n",
        "\n",
        "ext_module_path = os.environ.get('HOME', os.environ['HOMEPATH'])"
      ]
    },
    {
      "cell_type": "code",
      "execution_count": null,
      "id": "5d7f4b9b-ccbe-49b6-997a-4a8b424c76c1",
      "metadata": {
        "id": "5d7f4b9b-ccbe-49b6-997a-4a8b424c76c1",
        "outputId": "d58753cb-b95f-4117-d1c8-03be68c6b08d"
      },
      "outputs": [
        {
          "data": {
            "text/plain": [
              "'\\\\Users\\\\aserd'"
            ]
          },
          "execution_count": 24,
          "metadata": {},
          "output_type": "execute_result"
        }
      ],
      "source": [
        "ext_module_path"
      ]
    },
    {
      "cell_type": "code",
      "execution_count": null,
      "id": "abd47349-a9fa-4dc1-9339-2e30e0661df4",
      "metadata": {
        "id": "abd47349-a9fa-4dc1-9339-2e30e0661df4"
      },
      "outputs": [],
      "source": [
        "file_abs_path = os.path.join(ext_module_path, 'module2.py')\n",
        "with open(file_abs_path,'w') as code_file:\n",
        "    code_file.write(\"print('running module2.py...')\\n\")\n",
        "    code_file.write(\"x = 'python'\\n\")"
      ]
    },
    {
      "cell_type": "markdown",
      "id": "4801d7b1-0419-47c2-9c90-f919a9dfb6e0",
      "metadata": {
        "id": "4801d7b1-0419-47c2-9c90-f919a9dfb6e0"
      },
      "source": [
        "Let's see if Python can figure the module spec:"
      ]
    },
    {
      "cell_type": "code",
      "execution_count": null,
      "id": "9f5590f8-efd6-43c4-8bea-8fd2adaff246",
      "metadata": {
        "id": "9f5590f8-efd6-43c4-8bea-8fd2adaff246"
      },
      "outputs": [],
      "source": [
        "importlib.util.find_spec('module2')"
      ]
    },
    {
      "cell_type": "markdown",
      "id": "d3d29df7-3200-4dc8-ab36-6c6136ed7842",
      "metadata": {
        "id": "d3d29df7-3200-4dc8-ab36-6c6136ed7842"
      },
      "source": [
        "Nothing came back - it was not able to locate that module anywhere..."
      ]
    },
    {
      "cell_type": "code",
      "execution_count": null,
      "id": "646ce55b-ab69-4cfd-b916-52a3777837a1",
      "metadata": {
        "id": "646ce55b-ab69-4cfd-b916-52a3777837a1",
        "outputId": "253aa8a4-2cde-4ea5-d7d7-26db54b49e8e"
      },
      "outputs": [
        {
          "ename": "ModuleNotFoundError",
          "evalue": "No module named 'module2'",
          "output_type": "error",
          "traceback": [
            "\u001b[1;31m---------------------------------------------------------------------------\u001b[0m",
            "\u001b[1;31mModuleNotFoundError\u001b[0m                       Traceback (most recent call last)",
            "Input \u001b[1;32mIn [27]\u001b[0m, in \u001b[0;36m<cell line: 1>\u001b[1;34m()\u001b[0m\n\u001b[1;32m----> 1\u001b[0m \u001b[38;5;28;01mimport\u001b[39;00m \u001b[38;5;21;01mmodule2\u001b[39;00m\n",
            "\u001b[1;31mModuleNotFoundError\u001b[0m: No module named 'module2'"
          ]
        }
      ],
      "source": [
        "import module2"
      ]
    },
    {
      "cell_type": "markdown",
      "id": "d7893528-df41-47d0-8d45-53368f388915",
      "metadata": {
        "id": "d7893528-df41-47d0-8d45-53368f388915"
      },
      "source": [
        "As expected, the import failed.\n",
        "\n",
        "By the way, you can use `try ... except` for your imports!"
      ]
    },
    {
      "cell_type": "code",
      "execution_count": null,
      "id": "c1a58991-0ed4-4846-b08a-0481828d9b5e",
      "metadata": {
        "id": "c1a58991-0ed4-4846-b08a-0481828d9b5e",
        "outputId": "a275ddc7-3259-4148-f76e-fbcb11ffd632"
      },
      "outputs": [
        {
          "name": "stdout",
          "output_type": "stream",
          "text": [
            "Module was not found.\n"
          ]
        }
      ],
      "source": [
        "try:\n",
        "    import module2\n",
        "except ModuleNotFoundError:\n",
        "    # could not find module\n",
        "    # maybe import an alternative module instead??\n",
        "    # e.g. import module1 as module2\n",
        "    # but please do not just silence the exception!\n",
        "    # if you're importing the module most likely you are\n",
        "    # using it somewhere in your code - so raise an \n",
        "    # exception at the precise location where the root cause\n",
        "    # occurred!\n",
        "    # so the following is BAD!!\n",
        "    print('Module was not found.')"
      ]
    },
    {
      "cell_type": "markdown",
      "id": "b9480b84-42cd-4ea8-a937-0ac680829a1c",
      "metadata": {
        "id": "b9480b84-42cd-4ea8-a937-0ac680829a1c"
      },
      "source": [
        "The module was not found because `sys.path` knows nothing about `ext_module_path`"
      ]
    },
    {
      "cell_type": "code",
      "execution_count": null,
      "id": "17a4b425-c649-46e8-851a-a935edab1108",
      "metadata": {
        "id": "17a4b425-c649-46e8-851a-a935edab1108",
        "outputId": "284300b1-1db4-4143-f920-0e685307763f"
      },
      "outputs": [
        {
          "data": {
            "text/plain": [
              "False"
            ]
          },
          "execution_count": 29,
          "metadata": {},
          "output_type": "execute_result"
        }
      ],
      "source": [
        "ext_module_path in sys.path"
      ]
    },
    {
      "cell_type": "markdown",
      "id": "8a31dbbf-9290-4f75-a5d1-858aba2ae480",
      "metadata": {
        "id": "8a31dbbf-9290-4f75-a5d1-858aba2ae480"
      },
      "source": [
        "So, let's add it!"
      ]
    },
    {
      "cell_type": "code",
      "execution_count": null,
      "id": "2f450040-de0a-4102-b251-9e882ba11e4e",
      "metadata": {
        "id": "2f450040-de0a-4102-b251-9e882ba11e4e"
      },
      "outputs": [],
      "source": [
        "sys.path.append(ext_module_path)"
      ]
    },
    {
      "cell_type": "markdown",
      "id": "0b21de53-1b49-4808-9d63-db22ace1175b",
      "metadata": {
        "id": "0b21de53-1b49-4808-9d63-db22ace1175b"
      },
      "source": [
        "Now let's try finding the module spec again:"
      ]
    },
    {
      "cell_type": "code",
      "execution_count": null,
      "id": "3a0faaa9-040f-4b34-8d23-c3edcabf7057",
      "metadata": {
        "id": "3a0faaa9-040f-4b34-8d23-c3edcabf7057",
        "outputId": "21d61dcb-7592-4e64-8c52-f713e7edc249"
      },
      "outputs": [
        {
          "data": {
            "text/plain": [
              "ModuleSpec(name='module2', loader=<_frozen_importlib_external.SourceFileLoader object at 0x0000024393DE35B0>, origin='C:\\\\Users\\\\aserd\\\\module2.py')"
            ]
          },
          "execution_count": 31,
          "metadata": {},
          "output_type": "execute_result"
        }
      ],
      "source": [
        "importlib.util.find_spec('module2')"
      ]
    },
    {
      "cell_type": "markdown",
      "id": "22f09e35-afc7-43c2-ad4c-91b26a03f0b8",
      "metadata": {
        "id": "22f09e35-afc7-43c2-ad4c-91b26a03f0b8"
      },
      "source": [
        "Hurray! Our import should now work..."
      ]
    },
    {
      "cell_type": "code",
      "execution_count": null,
      "id": "2772a3ee-57e2-4448-a2b8-8da077882720",
      "metadata": {
        "id": "2772a3ee-57e2-4448-a2b8-8da077882720",
        "outputId": "b81fbd83-31f1-4be8-a936-ccd83ccb3476"
      },
      "outputs": [
        {
          "name": "stdout",
          "output_type": "stream",
          "text": [
            "running module2.py...\n"
          ]
        }
      ],
      "source": [
        "import module2"
      ]
    },
    {
      "cell_type": "code",
      "execution_count": null,
      "id": "c36b87d7-fadd-41f7-847a-1a082431b4c0",
      "metadata": {
        "id": "c36b87d7-fadd-41f7-847a-1a082431b4c0",
        "outputId": "89a8e00d-c0bd-4517-b0e8-39d9e27678f8"
      },
      "outputs": [
        {
          "data": {
            "text/plain": [
              "'python'"
            ]
          },
          "execution_count": 33,
          "metadata": {},
          "output_type": "execute_result"
        }
      ],
      "source": [
        "module2.x"
      ]
    },
    {
      "cell_type": "markdown",
      "id": "6387c46f-847a-4d53-b465-ee8aaeff2f38",
      "metadata": {
        "id": "6387c46f-847a-4d53-b465-ee8aaeff2f38"
      },
      "source": [
        "We can \"hack\" the `sys.path` list by adding our own entries directly - but this means we would have to hard code these paths in our code, or potentially read them from a configuration file.\n",
        "\n",
        "It's perfectly fine to do that, but you may prefer using `pth` files for that.\n",
        "\n",
        "I'm not going to get into the details of this - the Python docs are located here:\n",
        "\n",
        "https://docs.python.org/3/library/site.html"
      ]
    },
    {
      "cell_type": "markdown",
      "id": "073b34a5-f98c-4e8c-a1bd-47dc7ae792ab",
      "metadata": {
        "id": "073b34a5-f98c-4e8c-a1bd-47dc7ae792ab"
      },
      "source": [
        "### 04 - Import Variants and Misconceptions"
      ]
    },
    {
      "cell_type": "markdown",
      "id": "de9644eb-d625-4a81-a259-0c5ec1e55a59",
      "metadata": {
        "id": "de9644eb-d625-4a81-a259-0c5ec1e55a59"
      },
      "source": [
        "I would like to briefly discuss the various import variants such as:\n",
        "\n",
        "* `import math`\n",
        "* `from math import sqrt, abs`\n",
        "* `from math import *`\n",
        "* `import math as r_math`\n",
        "* `from math import sqrt as r_sqrt`\n",
        "\n",
        "**import math**\n",
        "\n",
        "* loads the entire module (`math`) in memory if it's not already there\n",
        "* adds a reference to it in `sys.modules` with a key of `math`\n",
        "* adds a symbol of the same name (`math`) in our current namespace referencing the `math` object\n",
        "\n",
        "**import math as r_math**\n",
        "\n",
        "* loads the entire module (`math`) in memory if it's not already there\n",
        "* adds a reference to it in `sys.modules` with a key of `math`\n",
        "* adds the symbol `r_math` to our current namespace referencing the `math` object\n",
        "\n",
        "**from math import sqrt**\n",
        "\n",
        "* loads the entire module (`math`) in memory if it's not already there\n",
        "* adds a reference to it in `sys.modules` with a key of `math`\n",
        "* adds the symbol `sqrt` to our current namespace referencing the `math.sqrt` function\n",
        "* it **does not** add the symbol `math` to our current namespace\n",
        "\n",
        "**form math import sqrt as r_sqrt**\n",
        "\n",
        "* loads the entire module (`math`) in memory if it's not already there\n",
        "* adds a reference to it in `sys.modules` with a key of `math`\n",
        "* adds the symbol `sqrt` to our current namespace referencing the `math.sqrt` function\n",
        "* it **does not** add the symbol `math` to our current namespace\n",
        "\n",
        "**from math import** *\n",
        "* loads the entire module (`math`) in memory if it's not already there\n",
        "* adds a reference to it in `sys.modules` with a key of `math`\n",
        "* adds symbols for all exported symbols in the `math` module directly to our name space (we'll see how what is exported from a module/package can be controlled using underscores or `__all__` later)\n",
        "* it **does not** add the symbol `math` to our current namespace\n",
        "\n",
        "As you can see, in **every** instance, the module is imported and a reference to it is added to `sys.modules`. The variants really have to do with what is injected into our current **namespace**: the module name, an alias to it, just the specified symbols from the module, or all the exported symbols from the module."
      ]
    },
    {
      "cell_type": "markdown",
      "id": "8d641cd1-65b5-4a87-b04e-67b8bb2a48e8",
      "metadata": {
        "id": "8d641cd1-65b5-4a87-b04e-67b8bb2a48e8"
      },
      "source": [
        "**Misconceptions**\n",
        "\n",
        "This leads to the first misconception:\n",
        "\n",
        "\"You should use\n",
        "\n",
        "`from math import sqrt, abs`\n",
        "\n",
        "rather than\n",
        "\n",
        "`import math`\n",
        "\n",
        "because that way you only import what you need and you're not having Python load the entire module?\"\n",
        "\n",
        "For `math` that's just not true. In fact for any *simple* module.\n",
        "\n",
        "For *packages* that have subpackages, that may or may not be true - we'll see that later.\n",
        "\n",
        "Let's actually test this our.\n",
        "\n",
        "We have to be a little careful, because Jupyter imports a ton of modules and packages:"
      ]
    },
    {
      "cell_type": "code",
      "execution_count": null,
      "id": "5e8c2569-0ee1-4d64-bd29-e7a3aa2ae1d8",
      "metadata": {
        "id": "5e8c2569-0ee1-4d64-bd29-e7a3aa2ae1d8",
        "outputId": "bc1d402d-0126-4c86-a109-1fdf1ddb5a71"
      },
      "outputs": [
        {
          "name": "stdout",
          "output_type": "stream",
          "text": [
            "IPython\n",
            "IPython.core\n",
            "IPython.core.alias\n",
            "IPython.core.application\n",
            "IPython.core.async_helpers\n",
            "IPython.core.autocall\n",
            "IPython.core.builtin_trap\n",
            "IPython.core.compilerop\n",
            "IPython.core.completer\n",
            "IPython.core.completerlib\n",
            "IPython.core.crashhandler\n",
            "IPython.core.debugger\n",
            "IPython.core.display\n",
            "IPython.core.display_functions\n",
            "IPython.core.display_trap\n",
            "IPython.core.displayhook\n",
            "IPython.core.displaypub\n",
            "IPython.core.error\n",
            "IPython.core.events\n",
            "IPython.core.excolors\n",
            "IPython.core.extensions\n",
            "IPython.core.formatters\n",
            "IPython.core.getipython\n",
            "IPython.core.history\n",
            "IPython.core.hooks\n",
            "IPython.core.inputtransformer2\n",
            "IPython.core.interactiveshell\n",
            "IPython.core.latex_symbols\n",
            "IPython.core.logger\n",
            "IPython.core.macro\n",
            "IPython.core.magic\n",
            "IPython.core.magic_arguments\n",
            "IPython.core.magics\n",
            "IPython.core.magics.auto\n",
            "IPython.core.magics.basic\n",
            "IPython.core.magics.code\n",
            "IPython.core.magics.config\n",
            "IPython.core.magics.display\n",
            "IPython.core.magics.execution\n",
            "IPython.core.magics.extension\n",
            "IPython.core.magics.history\n",
            "IPython.core.magics.logging\n",
            "IPython.core.magics.namespace\n",
            "IPython.core.magics.osm\n",
            "IPython.core.magics.packaging\n",
            "IPython.core.magics.pylab\n",
            "IPython.core.magics.script\n",
            "IPython.core.oinspect\n",
            "IPython.core.page\n",
            "IPython.core.payload\n",
            "IPython.core.payloadpage\n",
            "IPython.core.prefilter\n",
            "IPython.core.profiledir\n",
            "IPython.core.pylabtools\n",
            "IPython.core.release\n",
            "IPython.core.shellapp\n",
            "IPython.core.splitinput\n",
            "IPython.core.ultratb\n",
            "IPython.core.usage\n",
            "IPython.display\n",
            "IPython.extensions\n",
            "IPython.extensions.storemagic\n",
            "IPython.lib\n",
            "IPython.lib.clipboard\n",
            "IPython.lib.display\n",
            "IPython.lib.pretty\n",
            "IPython.paths\n",
            "IPython.terminal\n",
            "IPython.terminal.debugger\n",
            "IPython.terminal.embed\n",
            "IPython.terminal.interactiveshell\n",
            "IPython.terminal.ipapp\n",
            "IPython.terminal.magics\n",
            "IPython.terminal.prompts\n",
            "IPython.terminal.pt_inputhooks\n",
            "IPython.terminal.ptutils\n",
            "IPython.terminal.shortcuts\n",
            "IPython.testing\n",
            "IPython.testing.skipdoctest\n",
            "IPython.utils\n",
            "IPython.utils.PyColorize\n",
            "IPython.utils._process_common\n",
            "IPython.utils._process_win32\n",
            "IPython.utils._sysinfo\n",
            "IPython.utils.capture\n",
            "IPython.utils.colorable\n",
            "IPython.utils.coloransi\n",
            "IPython.utils.contexts\n",
            "IPython.utils.data\n",
            "IPython.utils.decorators\n",
            "IPython.utils.dir2\n",
            "IPython.utils.encoding\n",
            "IPython.utils.frame\n",
            "IPython.utils.generics\n",
            "IPython.utils.importstring\n",
            "IPython.utils.io\n",
            "IPython.utils.ipstruct\n",
            "IPython.utils.module_paths\n",
            "IPython.utils.openpy\n",
            "IPython.utils.path\n",
            "IPython.utils.process\n",
            "IPython.utils.py3compat\n",
            "IPython.utils.sentinel\n",
            "IPython.utils.strdispatch\n",
            "IPython.utils.sysinfo\n",
            "IPython.utils.syspathcontext\n",
            "IPython.utils.terminal\n",
            "IPython.utils.text\n",
            "IPython.utils.timing\n",
            "IPython.utils.tokenutil\n",
            "IPython.utils.wildcard\n",
            "__future__\n",
            "__main__\n",
            "_abc\n",
            "_ast\n",
            "_asyncio\n",
            "_bisect\n",
            "_blake2\n",
            "_bootlocale\n",
            "_bz2\n",
            "_codecs\n",
            "_collections\n",
            "_collections_abc\n",
            "_compat_pickle\n",
            "_compression\n",
            "_contextvars\n",
            "_csv\n",
            "_ctypes\n",
            "_cython_0_29_24\n",
            "_datetime\n",
            "_decimal\n",
            "_distutils_hack\n",
            "_distutils_hack.override\n",
            "_frozen_importlib\n",
            "_frozen_importlib_external\n",
            "_functools\n",
            "_hashlib\n",
            "_heapq\n",
            "_imp\n",
            "_io\n",
            "_json\n",
            "_locale\n",
            "_lsprof\n",
            "_lzma\n",
            "_opcode\n",
            "_operator\n",
            "_overlapped\n",
            "_pickle\n",
            "_pydev_bundle\n",
            "_pydev_bundle._pydev_calltip_util\n",
            "_pydev_bundle._pydev_completer\n",
            "_pydev_bundle._pydev_filesystem_encoding\n",
            "_pydev_bundle._pydev_imports_tipper\n",
            "_pydev_bundle._pydev_tipper_common\n",
            "_pydev_bundle.fsnotify\n",
            "_pydev_bundle.pydev_console_utils\n",
            "_pydev_bundle.pydev_imports\n",
            "_pydev_bundle.pydev_is_thread_alive\n",
            "_pydev_bundle.pydev_log\n",
            "_pydev_bundle.pydev_monkey\n",
            "_pydev_bundle.pydev_override\n",
            "_pydev_bundle.pydev_umd\n",
            "_pydev_imps\n",
            "_pydev_imps._pydev_execfile\n",
            "_pydev_imps._pydev_saved_modules\n",
            "_pydev_runfiles\n",
            "_pydevd_bundle\n",
            "_pydevd_bundle._debug_adapter\n",
            "_pydevd_bundle._debug_adapter.pydevd_base_schema\n",
            "_pydevd_bundle._debug_adapter.pydevd_schema\n",
            "_pydevd_bundle._debug_adapter.pydevd_schema_log\n",
            "_pydevd_bundle.pydevd_additional_thread_info\n",
            "_pydevd_bundle.pydevd_additional_thread_info_regular\n",
            "_pydevd_bundle.pydevd_api\n",
            "_pydevd_bundle.pydevd_breakpoints\n",
            "_pydevd_bundle.pydevd_bytecode_utils\n",
            "_pydevd_bundle.pydevd_collect_bytecode_info\n",
            "_pydevd_bundle.pydevd_comm\n",
            "_pydevd_bundle.pydevd_comm_constants\n",
            "_pydevd_bundle.pydevd_console\n",
            "_pydevd_bundle.pydevd_constants\n",
            "_pydevd_bundle.pydevd_custom_frames\n",
            "_pydevd_bundle.pydevd_cython\n",
            "_pydevd_bundle.pydevd_cython_wrapper\n",
            "_pydevd_bundle.pydevd_daemon_thread\n",
            "_pydevd_bundle.pydevd_defaults\n",
            "_pydevd_bundle.pydevd_dont_trace\n",
            "_pydevd_bundle.pydevd_dont_trace_files\n",
            "_pydevd_bundle.pydevd_exec2\n",
            "_pydevd_bundle.pydevd_extension_api\n",
            "_pydevd_bundle.pydevd_extension_utils\n",
            "_pydevd_bundle.pydevd_filtering\n",
            "_pydevd_bundle.pydevd_frame\n",
            "_pydevd_bundle.pydevd_frame_utils\n",
            "_pydevd_bundle.pydevd_import_class\n",
            "_pydevd_bundle.pydevd_io\n",
            "_pydevd_bundle.pydevd_json_debug_options\n",
            "_pydevd_bundle.pydevd_net_command\n",
            "_pydevd_bundle.pydevd_net_command_factory_json\n",
            "_pydevd_bundle.pydevd_net_command_factory_xml\n",
            "_pydevd_bundle.pydevd_plugin_utils\n",
            "_pydevd_bundle.pydevd_process_net_command\n",
            "_pydevd_bundle.pydevd_process_net_command_json\n",
            "_pydevd_bundle.pydevd_reload\n",
            "_pydevd_bundle.pydevd_resolver\n",
            "_pydevd_bundle.pydevd_safe_repr\n",
            "_pydevd_bundle.pydevd_save_locals\n",
            "_pydevd_bundle.pydevd_source_mapping\n",
            "_pydevd_bundle.pydevd_suspended_frames\n",
            "_pydevd_bundle.pydevd_thread_lifecycle\n",
            "_pydevd_bundle.pydevd_timeout\n",
            "_pydevd_bundle.pydevd_trace_api\n",
            "_pydevd_bundle.pydevd_trace_dispatch\n",
            "_pydevd_bundle.pydevd_traceproperty\n",
            "_pydevd_bundle.pydevd_utils\n",
            "_pydevd_bundle.pydevd_vars\n",
            "_pydevd_bundle.pydevd_vm_type\n",
            "_pydevd_bundle.pydevd_xml\n",
            "_pydevd_frame_eval\n",
            "_pydevd_frame_eval.pydevd_frame_eval_main\n",
            "_pydevd_frame_eval.vendored\n",
            "_pydevd_frame_eval.vendored.bytecode\n",
            "_pydevd_frame_eval.vendored.bytecode.bytecode\n",
            "_pydevd_frame_eval.vendored.bytecode.cfg\n",
            "_pydevd_frame_eval.vendored.bytecode.concrete\n",
            "_pydevd_frame_eval.vendored.bytecode.flags\n",
            "_pydevd_frame_eval.vendored.bytecode.instr\n",
            "_queue\n",
            "_random\n",
            "_sha512\n",
            "_signal\n",
            "_sitebuiltins\n",
            "_socket\n",
            "_sqlite3\n",
            "_sre\n",
            "_ssl\n",
            "_stat\n",
            "_string\n",
            "_strptime\n",
            "_struct\n",
            "_thread\n",
            "_uuid\n",
            "_warnings\n",
            "_weakref\n",
            "_weakrefset\n",
            "_win32sysloader\n",
            "_winapi\n",
            "abc\n",
            "argparse\n",
            "array\n",
            "ast\n",
            "asttokens\n",
            "asttokens.asttokens\n",
            "asttokens.line_numbers\n",
            "asttokens.mark_tokens\n",
            "asttokens.util\n",
            "asyncio\n",
            "asyncio.base_events\n",
            "asyncio.base_futures\n",
            "asyncio.base_subprocess\n",
            "asyncio.base_tasks\n",
            "asyncio.constants\n",
            "asyncio.coroutines\n",
            "asyncio.events\n",
            "asyncio.exceptions\n",
            "asyncio.format_helpers\n",
            "asyncio.futures\n",
            "asyncio.locks\n",
            "asyncio.log\n",
            "asyncio.proactor_events\n",
            "asyncio.protocols\n",
            "asyncio.queues\n",
            "asyncio.runners\n",
            "asyncio.selector_events\n",
            "asyncio.sslproto\n",
            "asyncio.staggered\n",
            "asyncio.streams\n",
            "asyncio.subprocess\n",
            "asyncio.tasks\n",
            "asyncio.threads\n",
            "asyncio.transports\n",
            "asyncio.trsock\n",
            "asyncio.windows_events\n",
            "asyncio.windows_utils\n",
            "atexit\n",
            "backcall\n",
            "backcall.backcall\n",
            "base64\n",
            "bdb\n",
            "binascii\n",
            "bisect\n",
            "builtins\n",
            "bz2\n",
            "cProfile\n",
            "calendar\n",
            "cmd\n",
            "code\n",
            "codecs\n",
            "codeop\n",
            "collections\n",
            "collections.abc\n",
            "colorama\n",
            "colorama.ansi\n",
            "colorama.ansitowin32\n",
            "colorama.initialise\n",
            "colorama.win32\n",
            "colorama.winterm\n",
            "colorsys\n",
            "concurrent\n",
            "concurrent.futures\n",
            "concurrent.futures._base\n",
            "concurrent.futures.thread\n",
            "configparser\n",
            "contextlib\n",
            "contextvars\n",
            "copy\n",
            "copyreg\n",
            "csv\n",
            "ctypes\n",
            "ctypes._endian\n",
            "ctypes.wintypes\n",
            "cython_runtime\n",
            "dataclasses\n",
            "datetime\n",
            "dateutil\n",
            "dateutil._common\n",
            "dateutil._version\n",
            "dateutil.parser\n",
            "dateutil.parser._parser\n",
            "dateutil.parser.isoparser\n",
            "dateutil.relativedelta\n",
            "dateutil.tz\n",
            "dateutil.tz._common\n",
            "dateutil.tz._factories\n",
            "dateutil.tz.tz\n",
            "dateutil.tz.win\n",
            "debugpy\n",
            "debugpy._vendored\n",
            "debugpy._vendored._util\n",
            "debugpy._vendored.force_pydevd\n",
            "debugpy._version\n",
            "debugpy.adapter\n",
            "debugpy.common\n",
            "debugpy.common.compat\n",
            "debugpy.common.fmt\n",
            "debugpy.common.json\n",
            "debugpy.common.log\n",
            "debugpy.common.sockets\n",
            "debugpy.common.timestamp\n",
            "debugpy.common.util\n",
            "debugpy.server\n",
            "debugpy.server.api\n",
            "decimal\n",
            "decorator\n",
            "difflib\n",
            "dis\n",
            "distutils\n",
            "distutils._msvccompiler\n",
            "distutils.archive_util\n",
            "distutils.ccompiler\n",
            "distutils.cmd\n",
            "distutils.command\n",
            "distutils.command.bdist\n",
            "distutils.config\n",
            "distutils.core\n",
            "distutils.debug\n",
            "distutils.dep_util\n",
            "distutils.dir_util\n",
            "distutils.dist\n",
            "distutils.errors\n",
            "distutils.extension\n",
            "distutils.fancy_getopt\n",
            "distutils.file_util\n",
            "distutils.filelist\n",
            "distutils.log\n",
            "distutils.msvc9compiler\n",
            "distutils.py35compat\n",
            "distutils.spawn\n",
            "distutils.util\n",
            "distutils.version\n",
            "email\n",
            "email._encoded_words\n",
            "email._header_value_parser\n",
            "email._parseaddr\n",
            "email._policybase\n",
            "email.base64mime\n",
            "email.charset\n",
            "email.encoders\n",
            "email.errors\n",
            "email.feedparser\n",
            "email.header\n",
            "email.headerregistry\n",
            "email.iterators\n",
            "email.message\n",
            "email.parser\n",
            "email.quoprimime\n",
            "email.utils\n",
            "encodings\n",
            "encodings.aliases\n",
            "encodings.ascii\n",
            "encodings.cp1252\n",
            "encodings.idna\n",
            "encodings.latin_1\n",
            "encodings.utf_8\n",
            "enum\n",
            "errno\n",
            "executing\n",
            "executing.executing\n",
            "executing.version\n",
            "faulthandler\n",
            "filecmp\n",
            "fnmatch\n",
            "fractions\n",
            "functools\n",
            "gc\n",
            "genericpath\n",
            "getopt\n",
            "getpass\n",
            "gettext\n",
            "glob\n",
            "google\n",
            "google.cloud\n",
            "google.logging\n",
            "gzip\n",
            "hashlib\n",
            "heapq\n",
            "hmac\n",
            "html\n",
            "html.entities\n",
            "http\n",
            "http.client\n",
            "http.server\n",
            "imp\n",
            "importlib\n",
            "importlib._bootstrap\n",
            "importlib._bootstrap_external\n",
            "importlib._common\n",
            "importlib.abc\n",
            "importlib.machinery\n",
            "importlib.resources\n",
            "importlib.util\n",
            "importlib_metadata\n",
            "importlib_metadata._adapters\n",
            "importlib_metadata._collections\n",
            "importlib_metadata._compat\n",
            "importlib_metadata._functools\n",
            "importlib_metadata._itertools\n",
            "importlib_metadata._meta\n",
            "importlib_metadata._text\n",
            "inspect\n",
            "io\n",
            "ipykernel\n",
            "ipykernel._version\n",
            "ipykernel.comm\n",
            "ipykernel.comm.comm\n",
            "ipykernel.comm.manager\n",
            "ipykernel.compiler\n",
            "ipykernel.connect\n",
            "ipykernel.control\n",
            "ipykernel.debugger\n",
            "ipykernel.displayhook\n",
            "ipykernel.eventloops\n",
            "ipykernel.heartbeat\n",
            "ipykernel.iostream\n",
            "ipykernel.ipkernel\n",
            "ipykernel.jsonutil\n",
            "ipykernel.kernelapp\n",
            "ipykernel.kernelbase\n",
            "ipykernel.parentpoller\n",
            "ipykernel.zmqshell\n",
            "itertools\n",
            "jedi\n",
            "jedi._compatibility\n",
            "jedi.api\n",
            "jedi.api.classes\n",
            "jedi.api.completion\n",
            "jedi.api.completion_cache\n",
            "jedi.api.environment\n",
            "jedi.api.errors\n",
            "jedi.api.exceptions\n",
            "jedi.api.file_name\n",
            "jedi.api.helpers\n",
            "jedi.api.interpreter\n",
            "jedi.api.keywords\n",
            "jedi.api.project\n",
            "jedi.api.refactoring\n",
            "jedi.api.refactoring.extract\n",
            "jedi.api.strings\n",
            "jedi.cache\n",
            "jedi.common\n",
            "jedi.debug\n",
            "jedi.file_io\n",
            "jedi.inference\n",
            "jedi.inference.analysis\n",
            "jedi.inference.arguments\n",
            "jedi.inference.base_value\n",
            "jedi.inference.cache\n",
            "jedi.inference.compiled\n",
            "jedi.inference.compiled.access\n",
            "jedi.inference.compiled.getattr_static\n",
            "jedi.inference.compiled.mixed\n",
            "jedi.inference.compiled.subprocess\n",
            "jedi.inference.compiled.subprocess.functions\n",
            "jedi.inference.compiled.value\n",
            "jedi.inference.context\n",
            "jedi.inference.docstring_utils\n",
            "jedi.inference.docstrings\n",
            "jedi.inference.filters\n",
            "jedi.inference.flow_analysis\n",
            "jedi.inference.gradual\n",
            "jedi.inference.gradual.annotation\n",
            "jedi.inference.gradual.base\n",
            "jedi.inference.gradual.conversion\n",
            "jedi.inference.gradual.generics\n",
            "jedi.inference.gradual.stub_value\n",
            "jedi.inference.gradual.type_var\n",
            "jedi.inference.gradual.typeshed\n",
            "jedi.inference.gradual.typing\n",
            "jedi.inference.gradual.utils\n",
            "jedi.inference.helpers\n",
            "jedi.inference.imports\n",
            "jedi.inference.lazy_value\n",
            "jedi.inference.names\n",
            "jedi.inference.param\n",
            "jedi.inference.parser_cache\n",
            "jedi.inference.recursion\n",
            "jedi.inference.references\n",
            "jedi.inference.signature\n",
            "jedi.inference.syntax_tree\n",
            "jedi.inference.sys_path\n",
            "jedi.inference.utils\n",
            "jedi.inference.value\n",
            "jedi.inference.value.decorator\n",
            "jedi.inference.value.dynamic_arrays\n",
            "jedi.inference.value.function\n",
            "jedi.inference.value.instance\n",
            "jedi.inference.value.iterable\n",
            "jedi.inference.value.klass\n",
            "jedi.inference.value.module\n",
            "jedi.parser_utils\n",
            "jedi.plugins\n",
            "jedi.plugins.django\n",
            "jedi.plugins.flask\n",
            "jedi.plugins.pytest\n",
            "jedi.plugins.registry\n",
            "jedi.plugins.stdlib\n",
            "jedi.settings\n",
            "json\n",
            "json.decoder\n",
            "json.encoder\n",
            "json.scanner\n",
            "jupyter_client\n",
            "jupyter_client._version\n",
            "jupyter_client.adapter\n",
            "jupyter_client.asynchronous\n",
            "jupyter_client.asynchronous.channels\n",
            "jupyter_client.asynchronous.client\n",
            "jupyter_client.blocking\n",
            "jupyter_client.blocking.channels\n",
            "jupyter_client.blocking.client\n",
            "jupyter_client.channels\n",
            "jupyter_client.channelsabc\n",
            "jupyter_client.client\n",
            "jupyter_client.clientabc\n",
            "jupyter_client.connect\n",
            "jupyter_client.jsonutil\n",
            "jupyter_client.kernelspec\n",
            "jupyter_client.launcher\n",
            "jupyter_client.localinterfaces\n",
            "jupyter_client.manager\n",
            "jupyter_client.managerabc\n",
            "jupyter_client.multikernelmanager\n",
            "jupyter_client.session\n",
            "jupyter_client.utils\n",
            "jupyter_core\n",
            "jupyter_core.paths\n",
            "jupyter_core.version\n",
            "keyword\n",
            "linecache\n",
            "locale\n",
            "logging\n",
            "logging.handlers\n",
            "lzma\n",
            "marshal\n",
            "math\n",
            "mimetypes\n",
            "module1\n",
            "module2\n",
            "mpl_toolkits\n",
            "msvcrt\n",
            "nt\n",
            "ntpath\n",
            "ntsecuritycon\n",
            "nturl2path\n",
            "numbers\n",
            "opcode\n",
            "operator\n",
            "os\n",
            "os.path\n",
            "parso\n",
            "parso._compatibility\n",
            "parso.cache\n",
            "parso.file_io\n",
            "parso.grammar\n",
            "parso.normalizer\n",
            "parso.parser\n",
            "parso.pgen2\n",
            "parso.pgen2.generator\n",
            "parso.pgen2.grammar_parser\n",
            "parso.python\n",
            "parso.python.diff\n",
            "parso.python.errors\n",
            "parso.python.parser\n",
            "parso.python.pep8\n",
            "parso.python.prefix\n",
            "parso.python.token\n",
            "parso.python.tokenize\n",
            "parso.python.tree\n",
            "parso.tree\n",
            "parso.utils\n",
            "pathlib\n",
            "pdb\n",
            "pickle\n",
            "pickleshare\n",
            "pkg_resources\n",
            "pkg_resources._vendor\n",
            "pkg_resources._vendor.appdirs\n",
            "pkg_resources._vendor.jaraco\n",
            "pkg_resources._vendor.more_itertools\n",
            "pkg_resources._vendor.more_itertools.more\n",
            "pkg_resources._vendor.more_itertools.recipes\n",
            "pkg_resources._vendor.packaging\n",
            "pkg_resources._vendor.packaging.__about__\n",
            "pkg_resources._vendor.packaging._manylinux\n",
            "pkg_resources._vendor.packaging._musllinux\n",
            "pkg_resources._vendor.pyparsing\n",
            "pkg_resources.extern\n",
            "pkg_resources.extern.appdirs\n",
            "pkg_resources.extern.jaraco\n",
            "pkg_resources.extern.jaraco.context\n",
            "pkg_resources.extern.jaraco.functools\n",
            "pkg_resources.extern.jaraco.text\n",
            "pkg_resources.extern.more_itertools\n",
            "pkg_resources.extern.packaging\n",
            "pkg_resources.extern.packaging._structures\n",
            "pkg_resources.extern.packaging.markers\n",
            "pkg_resources.extern.packaging.requirements\n",
            "pkg_resources.extern.packaging.specifiers\n",
            "pkg_resources.extern.packaging.tags\n",
            "pkg_resources.extern.packaging.utils\n",
            "pkg_resources.extern.packaging.version\n",
            "pkg_resources.extern.pyparsing\n",
            "pkgutil\n",
            "platform\n",
            "plistlib\n",
            "posixpath\n",
            "pprint\n",
            "profile\n",
            "prompt_toolkit\n",
            "prompt_toolkit.application\n",
            "prompt_toolkit.application.application\n",
            "prompt_toolkit.application.current\n",
            "prompt_toolkit.application.dummy\n",
            "prompt_toolkit.application.run_in_terminal\n",
            "prompt_toolkit.auto_suggest\n",
            "prompt_toolkit.buffer\n",
            "prompt_toolkit.cache\n",
            "prompt_toolkit.clipboard\n",
            "prompt_toolkit.clipboard.base\n",
            "prompt_toolkit.clipboard.in_memory\n",
            "prompt_toolkit.completion\n",
            "prompt_toolkit.completion.base\n",
            "prompt_toolkit.completion.deduplicate\n",
            "prompt_toolkit.completion.filesystem\n",
            "prompt_toolkit.completion.fuzzy_completer\n",
            "prompt_toolkit.completion.nested\n",
            "prompt_toolkit.completion.word_completer\n",
            "prompt_toolkit.data_structures\n",
            "prompt_toolkit.document\n",
            "prompt_toolkit.enums\n",
            "prompt_toolkit.eventloop\n",
            "prompt_toolkit.eventloop.async_generator\n",
            "prompt_toolkit.eventloop.inputhook\n",
            "prompt_toolkit.eventloop.utils\n",
            "prompt_toolkit.filters\n",
            "prompt_toolkit.filters.app\n",
            "prompt_toolkit.filters.base\n",
            "prompt_toolkit.filters.cli\n",
            "prompt_toolkit.filters.utils\n",
            "prompt_toolkit.formatted_text\n",
            "prompt_toolkit.formatted_text.ansi\n",
            "prompt_toolkit.formatted_text.base\n",
            "prompt_toolkit.formatted_text.html\n",
            "prompt_toolkit.formatted_text.pygments\n",
            "prompt_toolkit.formatted_text.utils\n",
            "prompt_toolkit.history\n",
            "prompt_toolkit.input\n",
            "prompt_toolkit.input.ansi_escape_sequences\n",
            "prompt_toolkit.input.base\n",
            "prompt_toolkit.input.defaults\n",
            "prompt_toolkit.input.typeahead\n",
            "prompt_toolkit.input.vt100_parser\n",
            "prompt_toolkit.key_binding\n",
            "prompt_toolkit.key_binding.bindings\n",
            "prompt_toolkit.key_binding.bindings.auto_suggest\n",
            "prompt_toolkit.key_binding.bindings.basic\n",
            "prompt_toolkit.key_binding.bindings.completion\n",
            "prompt_toolkit.key_binding.bindings.cpr\n",
            "prompt_toolkit.key_binding.bindings.emacs\n",
            "prompt_toolkit.key_binding.bindings.focus\n",
            "prompt_toolkit.key_binding.bindings.mouse\n",
            "prompt_toolkit.key_binding.bindings.named_commands\n",
            "prompt_toolkit.key_binding.bindings.open_in_editor\n",
            "prompt_toolkit.key_binding.bindings.page_navigation\n",
            "prompt_toolkit.key_binding.bindings.scroll\n",
            "prompt_toolkit.key_binding.bindings.vi\n",
            "prompt_toolkit.key_binding.defaults\n",
            "prompt_toolkit.key_binding.digraphs\n",
            "prompt_toolkit.key_binding.emacs_state\n",
            "prompt_toolkit.key_binding.key_bindings\n",
            "prompt_toolkit.key_binding.key_processor\n",
            "prompt_toolkit.key_binding.vi_state\n",
            "prompt_toolkit.keys\n",
            "prompt_toolkit.layout\n",
            "prompt_toolkit.layout.containers\n",
            "prompt_toolkit.layout.controls\n",
            "prompt_toolkit.layout.dimension\n",
            "prompt_toolkit.layout.dummy\n",
            "prompt_toolkit.layout.layout\n",
            "prompt_toolkit.layout.margins\n",
            "prompt_toolkit.layout.menus\n",
            "prompt_toolkit.layout.mouse_handlers\n",
            "prompt_toolkit.layout.processors\n",
            "prompt_toolkit.layout.screen\n",
            "prompt_toolkit.layout.scrollable_pane\n",
            "prompt_toolkit.layout.utils\n",
            "prompt_toolkit.lexers\n",
            "prompt_toolkit.lexers.base\n",
            "prompt_toolkit.lexers.pygments\n",
            "prompt_toolkit.mouse_events\n",
            "prompt_toolkit.output\n",
            "prompt_toolkit.output.base\n",
            "prompt_toolkit.output.color_depth\n",
            "prompt_toolkit.output.defaults\n",
            "prompt_toolkit.output.vt100\n",
            "prompt_toolkit.patch_stdout\n",
            "prompt_toolkit.renderer\n",
            "prompt_toolkit.search\n",
            "prompt_toolkit.selection\n",
            "prompt_toolkit.shortcuts\n",
            "prompt_toolkit.shortcuts.dialogs\n",
            "prompt_toolkit.shortcuts.progress_bar\n",
            "prompt_toolkit.shortcuts.progress_bar.base\n",
            "prompt_toolkit.shortcuts.progress_bar.formatters\n",
            "prompt_toolkit.shortcuts.prompt\n",
            "prompt_toolkit.shortcuts.utils\n",
            "prompt_toolkit.styles\n",
            "prompt_toolkit.styles.base\n",
            "prompt_toolkit.styles.defaults\n",
            "prompt_toolkit.styles.named_colors\n",
            "prompt_toolkit.styles.pygments\n",
            "prompt_toolkit.styles.style\n",
            "prompt_toolkit.styles.style_transformation\n",
            "prompt_toolkit.utils\n",
            "prompt_toolkit.validation\n",
            "prompt_toolkit.widgets\n",
            "prompt_toolkit.widgets.base\n",
            "prompt_toolkit.widgets.dialogs\n",
            "prompt_toolkit.widgets.menus\n",
            "prompt_toolkit.widgets.toolbars\n",
            "pstats\n",
            "psutil\n",
            "psutil._common\n",
            "psutil._compat\n",
            "psutil._psutil_windows\n",
            "psutil._pswindows\n",
            "pure_eval\n",
            "pure_eval.core\n",
            "pure_eval.my_getattr_static\n",
            "pure_eval.utils\n",
            "pure_eval.version\n",
            "pydev_ipython\n",
            "pydevconsole\n",
            "pydevd\n",
            "pydevd_concurrency_analyser\n",
            "pydevd_concurrency_analyser.pydevd_concurrency_logger\n",
            "pydevd_concurrency_analyser.pydevd_thread_wrappers\n",
            "pydevd_file_utils\n",
            "pydevd_plugins\n",
            "pydevd_plugins.django_debug\n",
            "pydevd_plugins.extensions\n",
            "pydevd_plugins.extensions.types\n",
            "pydevd_plugins.extensions.types.pydevd_helpers\n",
            "pydevd_plugins.extensions.types.pydevd_plugin_numpy_types\n",
            "pydevd_plugins.extensions.types.pydevd_plugins_django_form_str\n",
            "pydevd_plugins.jinja2_debug\n",
            "pydevd_tracing\n",
            "pydoc\n",
            "pydoc_data\n",
            "pydoc_data.topics\n",
            "pyexpat\n",
            "pyexpat.errors\n",
            "pyexpat.model\n",
            "pygments\n",
            "pygments.console\n",
            "pygments.filter\n",
            "pygments.filters\n",
            "pygments.formatter\n",
            "pygments.formatters\n",
            "pygments.formatters._mapping\n",
            "pygments.formatters.html\n",
            "pygments.formatters.terminal256\n",
            "pygments.lexer\n",
            "pygments.lexers\n",
            "pygments.lexers._mapping\n",
            "pygments.lexers.python\n",
            "pygments.modeline\n",
            "pygments.plugin\n",
            "pygments.regexopt\n",
            "pygments.style\n",
            "pygments.styles\n",
            "pygments.styles.default\n",
            "pygments.token\n",
            "pygments.unistring\n",
            "pygments.util\n",
            "pythoncom\n",
            "pywintypes\n",
            "queue\n",
            "quopri\n",
            "random\n",
            "re\n",
            "reprlib\n",
            "runpy\n",
            "select\n",
            "selectors\n",
            "setuptools\n",
            "setuptools._deprecation_warning\n",
            "setuptools._distutils\n",
            "setuptools._entry_points\n",
            "setuptools._imp\n",
            "setuptools._importlib\n",
            "setuptools._itertools\n",
            "setuptools._reqs\n",
            "setuptools._vendor\n",
            "setuptools._vendor.importlib_metadata\n",
            "setuptools._vendor.importlib_metadata._adapters\n",
            "setuptools._vendor.importlib_metadata._collections\n",
            "setuptools._vendor.importlib_metadata._compat\n",
            "setuptools._vendor.importlib_metadata._functools\n",
            "setuptools._vendor.importlib_metadata._itertools\n",
            "setuptools._vendor.importlib_metadata._meta\n",
            "setuptools._vendor.importlib_metadata._text\n",
            "setuptools._vendor.jaraco\n",
            "setuptools._vendor.more_itertools\n",
            "setuptools._vendor.more_itertools.more\n",
            "setuptools._vendor.more_itertools.recipes\n",
            "setuptools._vendor.nspektr\n",
            "setuptools._vendor.nspektr._compat\n",
            "setuptools._vendor.ordered_set\n",
            "setuptools._vendor.packaging\n",
            "setuptools._vendor.packaging.__about__\n",
            "setuptools._vendor.packaging._manylinux\n",
            "setuptools._vendor.packaging._musllinux\n",
            "setuptools._vendor.pyparsing\n",
            "setuptools._vendor.zipp\n",
            "setuptools.command\n",
            "setuptools.config\n",
            "setuptools.config._apply_pyprojecttoml\n",
            "setuptools.config.expand\n",
            "setuptools.config.pyprojecttoml\n",
            "setuptools.config.setupcfg\n",
            "setuptools.depends\n",
            "setuptools.discovery\n",
            "setuptools.dist\n",
            "setuptools.errors\n",
            "setuptools.extension\n",
            "setuptools.extern\n",
            "setuptools.extern.importlib_metadata\n",
            "setuptools.extern.jaraco\n",
            "setuptools.extern.jaraco.context\n",
            "setuptools.extern.jaraco.functools\n",
            "setuptools.extern.jaraco.text\n",
            "setuptools.extern.more_itertools\n",
            "setuptools.extern.nspektr\n",
            "setuptools.extern.ordered_set\n",
            "setuptools.extern.packaging\n",
            "setuptools.extern.packaging._structures\n",
            "setuptools.extern.packaging.markers\n",
            "setuptools.extern.packaging.requirements\n",
            "setuptools.extern.packaging.specifiers\n",
            "setuptools.extern.packaging.tags\n",
            "setuptools.extern.packaging.utils\n",
            "setuptools.extern.packaging.version\n",
            "setuptools.extern.pyparsing\n",
            "setuptools.logging\n",
            "setuptools.monkey\n",
            "setuptools.msvc\n",
            "setuptools.py34compat\n",
            "setuptools.version\n",
            "setuptools.windows_support\n",
            "shlex\n",
            "shutil\n",
            "signal\n",
            "site\n",
            "six\n",
            "six.moves\n",
            "socket\n",
            "socketserver\n",
            "sphinxcontrib\n",
            "sqlite3\n",
            "sqlite3.dbapi2\n",
            "sre_compile\n",
            "sre_constants\n",
            "sre_parse\n",
            "ssl\n",
            "stack_data\n",
            "stack_data.core\n",
            "stack_data.formatting\n",
            "stack_data.utils\n",
            "stack_data.version\n",
            "stat\n",
            "string\n",
            "stringprep\n",
            "struct\n",
            "subprocess\n",
            "sys\n",
            "sysconfig\n",
            "tempfile\n",
            "textwrap\n",
            "threading\n",
            "time\n",
            "timeit\n",
            "token\n",
            "tokenize\n",
            "tornado\n",
            "tornado.concurrent\n",
            "tornado.escape\n",
            "tornado.gen\n",
            "tornado.ioloop\n",
            "tornado.locks\n",
            "tornado.log\n",
            "tornado.platform\n",
            "tornado.platform.asyncio\n",
            "tornado.queues\n",
            "tornado.speedups\n",
            "tornado.util\n",
            "traceback\n",
            "traitlets\n",
            "traitlets._version\n",
            "traitlets.config\n",
            "traitlets.config.application\n",
            "traitlets.config.configurable\n",
            "traitlets.config.loader\n",
            "traitlets.log\n",
            "traitlets.traitlets\n",
            "traitlets.utils\n",
            "traitlets.utils.bunch\n",
            "traitlets.utils.decorators\n",
            "traitlets.utils.descriptions\n",
            "traitlets.utils.getargspec\n",
            "traitlets.utils.importstring\n",
            "traitlets.utils.sentinel\n",
            "traitlets.utils.text\n",
            "types\n",
            "typing\n",
            "typing.io\n",
            "typing.re\n",
            "unicodedata\n",
            "unittest\n",
            "unittest.case\n",
            "unittest.loader\n",
            "unittest.main\n",
            "unittest.mock\n",
            "unittest.result\n",
            "unittest.runner\n",
            "unittest.signals\n",
            "unittest.suite\n",
            "unittest.util\n",
            "urllib\n",
            "urllib.error\n",
            "urllib.parse\n",
            "urllib.request\n",
            "urllib.response\n",
            "uu\n",
            "uuid\n",
            "warnings\n",
            "wcwidth\n",
            "wcwidth.table_wide\n",
            "wcwidth.table_zero\n",
            "wcwidth.unicode_versions\n",
            "wcwidth.wcwidth\n",
            "weakref\n",
            "win32api\n",
            "win32com\n",
            "win32com.gen_py\n",
            "win32com.shell\n",
            "win32security\n",
            "winreg\n",
            "xml\n",
            "xml.dom\n",
            "xml.dom.NodeFilter\n",
            "xml.dom.domreg\n",
            "xml.dom.minicompat\n",
            "xml.dom.minidom\n",
            "xml.dom.xmlbuilder\n",
            "xml.parsers\n",
            "xml.parsers.expat\n",
            "xml.parsers.expat.errors\n",
            "xml.parsers.expat.model\n",
            "xmlrpc\n",
            "xmlrpc.client\n",
            "xmlrpc.server\n",
            "zipfile\n",
            "zipimport\n",
            "zipp\n",
            "zlib\n",
            "zmq\n",
            "zmq._future\n",
            "zmq.asyncio\n",
            "zmq.backend\n",
            "zmq.backend.cython\n",
            "zmq.backend.cython._device\n",
            "zmq.backend.cython._poll\n",
            "zmq.backend.cython._proxy_steerable\n",
            "zmq.backend.cython._version\n",
            "zmq.backend.cython.constants\n",
            "zmq.backend.cython.context\n",
            "zmq.backend.cython.error\n",
            "zmq.backend.cython.message\n",
            "zmq.backend.cython.socket\n",
            "zmq.backend.cython.utils\n",
            "zmq.backend.select\n",
            "zmq.error\n",
            "zmq.eventloop\n",
            "zmq.eventloop.ioloop\n",
            "zmq.eventloop.zmqstream\n",
            "zmq.libzmq\n",
            "zmq.sugar\n",
            "zmq.sugar.attrsettr\n",
            "zmq.sugar.constants\n",
            "zmq.sugar.context\n",
            "zmq.sugar.frame\n",
            "zmq.sugar.poll\n",
            "zmq.sugar.socket\n",
            "zmq.sugar.stopwatch\n",
            "zmq.sugar.tracker\n",
            "zmq.sugar.version\n",
            "zmq.utils\n",
            "zmq.utils.constant_names\n",
            "zmq.utils.jsonapi\n",
            "zmq.utils.strtypes\n",
            "zope\n"
          ]
        }
      ],
      "source": [
        "import sys\n",
        "for key in sorted(sys.modules.keys()):\n",
        "    print(key)"
      ]
    },
    {
      "cell_type": "markdown",
      "id": "0b026896-fbad-4d1c-bd08-b8a2efd63528",
      "metadata": {
        "id": "0b026896-fbad-4d1c-bd08-b8a2efd63528"
      },
      "source": [
        "so they're already loaded and in the `sys.modules` dictionary.\n",
        "\n",
        "Fortunately `cmath` is not one of them, so we'll use that one."
      ]
    },
    {
      "cell_type": "code",
      "execution_count": null,
      "id": "849abbc8-c4e4-40ef-918c-3898689d5a1e",
      "metadata": {
        "id": "849abbc8-c4e4-40ef-918c-3898689d5a1e",
        "outputId": "99f37b90-f631-4df1-c616-7f68304d156e"
      },
      "outputs": [
        {
          "data": {
            "text/plain": [
              "False"
            ]
          },
          "execution_count": 35,
          "metadata": {},
          "output_type": "execute_result"
        }
      ],
      "source": [
        "'cmath' in sys.modules"
      ]
    },
    {
      "cell_type": "markdown",
      "id": "ca21721d-754b-49ba-93d2-4bcff30923e6",
      "metadata": {
        "id": "ca21721d-754b-49ba-93d2-4bcff30923e6"
      },
      "source": [
        "Let's go ahead and just import a single symbol from `cmath`, the `exp` function:"
      ]
    },
    {
      "cell_type": "code",
      "execution_count": null,
      "id": "d0c33b6e-96a8-487a-8068-463c08514c57",
      "metadata": {
        "id": "d0c33b6e-96a8-487a-8068-463c08514c57"
      },
      "outputs": [],
      "source": [
        "from cmath import exp"
      ]
    },
    {
      "cell_type": "markdown",
      "id": "5bbe0798-e63f-440e-9918-3150a4a74fd2",
      "metadata": {
        "id": "5bbe0798-e63f-440e-9918-3150a4a74fd2"
      },
      "source": [
        "Now let's see if `cmath` and `exp` are in our module (global) namespace:"
      ]
    },
    {
      "cell_type": "code",
      "execution_count": null,
      "id": "0956a6b1-c871-495f-9d8b-9016f2ebca32",
      "metadata": {
        "id": "0956a6b1-c871-495f-9d8b-9016f2ebca32",
        "outputId": "f2bef375-dd31-4dc1-930f-cdc517f5a006"
      },
      "outputs": [
        {
          "data": {
            "text/plain": [
              "False"
            ]
          },
          "execution_count": 37,
          "metadata": {},
          "output_type": "execute_result"
        }
      ],
      "source": [
        "'cmath' in globals()"
      ]
    },
    {
      "cell_type": "code",
      "execution_count": null,
      "id": "77c99c0d-8a0b-41cf-944d-ad555b91a420",
      "metadata": {
        "id": "77c99c0d-8a0b-41cf-944d-ad555b91a420",
        "outputId": "115a298a-8ce8-4c2a-cd39-282ae07723fa"
      },
      "outputs": [
        {
          "data": {
            "text/plain": [
              "True"
            ]
          },
          "execution_count": 38,
          "metadata": {},
          "output_type": "execute_result"
        }
      ],
      "source": [
        "'exp' in globals()"
      ]
    },
    {
      "cell_type": "markdown",
      "id": "9e483594-723d-49d4-90e1-b928b485b277",
      "metadata": {
        "id": "9e483594-723d-49d4-90e1-b928b485b277"
      },
      "source": [
        "OK, so basically what that import did was create a symbol for `exp` in our namespace, but not for `cmath`.\n",
        "\n",
        "Does this mean that `cmath` was only \"partially\" loaded?\n",
        "\n",
        "How can Python \"partially\" load a (simple) module? How would it even know what to load up? Sure, maybe it could do some fancy kind of introspection and determine all the dependencies the symbols we are importing require. But it does not.\n",
        "\n",
        "It simply imports the entire module (using the techniques we have been covering in the last few videos)\n",
        "\n",
        "If we really want to partially load something, we would use a package, which, while still a `module` type, can be composed of several sub-packages. More on that later.\n",
        "\n",
        "In fact, let's look at it in `sys.modules`:"
      ]
    },
    {
      "cell_type": "code",
      "execution_count": null,
      "id": "7c390d87-6120-4999-9283-bcb32c86e7d9",
      "metadata": {
        "id": "7c390d87-6120-4999-9283-bcb32c86e7d9",
        "outputId": "c86002f3-e53e-4105-8c51-57bc18ead4f5"
      },
      "outputs": [
        {
          "data": {
            "text/plain": [
              "<module 'cmath' (built-in)>"
            ]
          },
          "execution_count": 39,
          "metadata": {},
          "output_type": "execute_result"
        }
      ],
      "source": [
        "sys.modules['cmath']"
      ]
    },
    {
      "cell_type": "markdown",
      "id": "54a1a156-64cd-4e8c-b5ba-1df5c49cb287",
      "metadata": {
        "id": "54a1a156-64cd-4e8c-b5ba-1df5c49cb287"
      },
      "source": [
        "Yep, it's there...\n",
        "\n",
        "We can even get a handle to the `cmath` module:"
      ]
    },
    {
      "cell_type": "code",
      "execution_count": null,
      "id": "453d0ad8-4719-471e-a24f-3e4267708272",
      "metadata": {
        "id": "453d0ad8-4719-471e-a24f-3e4267708272"
      },
      "outputs": [],
      "source": [
        "cmath = sys.modules['cmath']"
      ]
    },
    {
      "cell_type": "code",
      "execution_count": null,
      "id": "ec722310-9aa2-463a-add5-b713639a3b75",
      "metadata": {
        "id": "ec722310-9aa2-463a-add5-b713639a3b75",
        "outputId": "f2cb31a5-cc5f-4bd6-c739-1b3ca1bb9fa2"
      },
      "outputs": [
        {
          "data": {
            "text/plain": [
              "<module 'cmath' (built-in)>"
            ]
          },
          "execution_count": 41,
          "metadata": {},
          "output_type": "execute_result"
        }
      ],
      "source": [
        "cmath"
      ]
    },
    {
      "cell_type": "markdown",
      "id": "d1a8b88e-1878-4e9c-97de-22a0d1aa8fd5",
      "metadata": {
        "id": "d1a8b88e-1878-4e9c-97de-22a0d1aa8fd5"
      },
      "source": [
        "And now we can use `cmath` just as if we had done\n",
        "\n",
        "`import cmath`\n",
        "\n",
        "But you'll note that in this case we did not import the module we did `from cmath import exp` only.\n",
        "\n",
        "So we can use `exp` directly because of how we imported that specific symbol:"
      ]
    },
    {
      "cell_type": "code",
      "execution_count": null,
      "id": "058014a4-972b-4d4b-a72e-c2e69207b86a",
      "metadata": {
        "id": "058014a4-972b-4d4b-a72e-c2e69207b86a",
        "outputId": "8e427015-e1c2-4a01-a4b7-77cf4c0892d5"
      },
      "outputs": [
        {
          "data": {
            "text/plain": [
              "(-7.315110094901103+1.0427436562359045j)"
            ]
          },
          "execution_count": 43,
          "metadata": {},
          "output_type": "execute_result"
        }
      ],
      "source": [
        "exp(2+3j)"
      ]
    },
    {
      "cell_type": "markdown",
      "id": "61d82300-ed49-45ce-b120-b035d1f71534",
      "metadata": {
        "id": "61d82300-ed49-45ce-b120-b035d1f71534"
      },
      "source": [
        "But we can also use the `cmath` module directly now that we retrieved it from `sys.modules`:"
      ]
    },
    {
      "cell_type": "code",
      "execution_count": null,
      "id": "fdbc9034-4d45-489b-a5be-485c13ff99f9",
      "metadata": {
        "id": "fdbc9034-4d45-489b-a5be-485c13ff99f9",
        "outputId": "d9f398be-5639-47c4-8286-55178c4faeca"
      },
      "outputs": [
        {
          "data": {
            "text/plain": [
              "(1.09868411346781+0.45508986056222733j)"
            ]
          },
          "execution_count": 44,
          "metadata": {},
          "output_type": "execute_result"
        }
      ],
      "source": [
        "cmath.sqrt(1+1j)"
      ]
    },
    {
      "cell_type": "markdown",
      "id": "23e33032-7864-4937-8826-2a96975918be",
      "metadata": {
        "id": "23e33032-7864-4937-8826-2a96975918be"
      },
      "source": [
        "So, the **entire** `cmath` module was loaded when we ran `from cmath import exp`, not just a portion of it!\n",
        "\n",
        "The only thing that happened is that Python put `cmath` in `sys.modules`, but **did not** add a `cmath` symbol to our module namespace, and **only added** the function `exp` to our namespace.\n",
        "\n",
        "What about doing something like this:\n",
        "\n",
        "`from cmath import *`\n",
        "\n",
        "This is often frowned upon, and sometimes for good reason - but this is not a universal truth either.\n",
        "\n",
        "Let's seewhy, in our current context, it's maybe not such a good thing.\n",
        "\n",
        "First let's see what our global namespace looks like:"
      ]
    },
    {
      "cell_type": "code",
      "execution_count": null,
      "id": "08414347-4235-49ff-9315-bc7250880a9f",
      "metadata": {
        "id": "08414347-4235-49ff-9315-bc7250880a9f",
        "outputId": "20873cea-d93f-4894-90f8-6c5bde2e0b97"
      },
      "outputs": [
        {
          "data": {
            "text/plain": [
              "{'__name__': '__main__',\n",
              " '__doc__': 'Automatically created module for IPython interactive environment',\n",
              " '__package__': None,\n",
              " '__loader__': None,\n",
              " '__spec__': None,\n",
              " '__builtin__': <module 'builtins' (built-in)>,\n",
              " '__builtins__': <module 'builtins' (built-in)>,\n",
              " '_ih': ['',\n",
              "  'import sys',\n",
              "  'sys.exec_prefix',\n",
              "  'import importlib',\n",
              "  'importlib.__file__',\n",
              "  'importlib',\n",
              "  \"importlib.import_module('fractions')\",\n",
              "  'f = fractions.Fraction(2, 3)',\n",
              "  \"fractions = importlib.import_module('fractions')\",\n",
              "  'f = fractions.Fraction(2, 3)',\n",
              "  'f',\n",
              "  'fractions',\n",
              "  'import math',\n",
              "  'math',\n",
              "  'fractions.__spec__',\n",
              "  'import foo',\n",
              "  'sys.meta_path',\n",
              "  \"importlib.util.find_spec('math')\",\n",
              "  \"importlib.util.find_spec('fractions')\",\n",
              "  'with open(\\'module1.py\\', \\'w\\') as code_file:\\n    code_file.write(\"print(\\'running module1.py...\\')\\\\n\")\\n    code_file.write(\\'a = 100\\\\n\\')',\n",
              "  \"importlib.util.find_spec('module1')\",\n",
              "  'import module1',\n",
              "  'module1.a',\n",
              "  \"import os\\n\\n# you can use this for Mac/Linux:\\n# ext_module_path = os.environ['HOME']\\n\\n# you can use thi in Windows 10\\n# ext_module_path = os.environ['HOMEPATH']\\n\\n# or you can just hard code some path\\n# ext_module_path = 'c:\\\\\\\\temp'\\n\\next_module_path = os.environ.get('HOME', os.environ['HOMEPATH'])\",\n",
              "  'ext_module_path',\n",
              "  'file_abs_path = os.path.join(ext_module_path, \\'module2.py\\')\\nwith open(file_abs_path,\\'w\\') as code_file:\\n    code_file.write(\"print(\\'running module2.py...\\')\\\\n\")\\n    code_file.write(\"x = \\'python\\'\\\\n\")',\n",
              "  \"importlib.util.find_spec('module2')\",\n",
              "  'import module2',\n",
              "  \"try:\\n    import module2\\nexcept ModuleNotFoundError:\\n    # could not find module\\n    # maybe import an alternative module instead??\\n    # e.g. import module1 as module2\\n    # but please do not just silence the exception!\\n    # if you're importing the module most likely you are\\n    # using it somewhere in your code - so raise an \\n    # exception at the precise location where the root cause\\n    # occurred!\\n    # so the following is BAD!!\\n    print('Module was not found.')\",\n",
              "  'ext_module_path in sys.path',\n",
              "  'sys.path.append(ext_module_path)',\n",
              "  \"importlib.util.find_spec('module2')\",\n",
              "  'import module2',\n",
              "  'module2.x',\n",
              "  'import sys\\nfor key in sorted(sys.modules.keys()):\\n    print(key)',\n",
              "  \"'cmath' in sys.modules\",\n",
              "  'from cmath import exp',\n",
              "  \"'cmath' in globals()\",\n",
              "  \"'exp' in globals()\",\n",
              "  \"sys.modules['cmath']\",\n",
              "  \"cmath = sys.modules['cmath']\",\n",
              "  'cmath',\n",
              "  'exp(2^3j)',\n",
              "  'exp(2+3j)',\n",
              "  'cmath.sqrt(1+1j)',\n",
              "  'globals()'],\n",
              " '_oh': {2: 'C:\\\\Users\\\\aserd\\\\anaconda3',\n",
              "  4: 'C:\\\\Users\\\\aserd\\\\anaconda3\\\\lib\\\\importlib\\\\__init__.py',\n",
              "  5: <module 'importlib' from 'C:\\\\Users\\\\aserd\\\\anaconda3\\\\lib\\\\importlib\\\\__init__.py'>,\n",
              "  6: <module 'fractions' from 'C:\\\\Users\\\\aserd\\\\anaconda3\\\\lib\\\\fractions.py'>,\n",
              "  10: Fraction(2, 3),\n",
              "  11: <module 'fractions' from 'C:\\\\Users\\\\aserd\\\\anaconda3\\\\lib\\\\fractions.py'>,\n",
              "  13: <module 'math' (built-in)>,\n",
              "  14: ModuleSpec(name='fractions', loader=<_frozen_importlib_external.SourceFileLoader object at 0x0000024391AED9D0>, origin='C:\\\\Users\\\\aserd\\\\anaconda3\\\\lib\\\\fractions.py'),\n",
              "  16: [<_distutils_hack.DistutilsMetaFinder at 0x2438ecd0220>,\n",
              "   _frozen_importlib.BuiltinImporter,\n",
              "   _frozen_importlib.FrozenImporter,\n",
              "   _frozen_importlib_external.PathFinder,\n",
              "   <six._SixMetaPathImporter at 0x24391ac0d30>,\n",
              "   <pkg_resources.extern.VendorImporter at 0x24393264670>,\n",
              "   <setuptools.extern.VendorImporter at 0x2439358beb0>,\n",
              "   <setuptools._vendor.importlib_metadata.MetadataPathFinder at 0x243935928e0>],\n",
              "  17: ModuleSpec(name='math', loader=<class '_frozen_importlib.BuiltinImporter'>, origin='built-in'),\n",
              "  18: ModuleSpec(name='fractions', loader=<_frozen_importlib_external.SourceFileLoader object at 0x0000024391AED9D0>, origin='C:\\\\Users\\\\aserd\\\\anaconda3\\\\lib\\\\fractions.py'),\n",
              "  20: ModuleSpec(name='module1', loader=<_frozen_importlib_external.SourceFileLoader object at 0x0000024394EE8A00>, origin='C:\\\\Users\\\\aserd\\\\Python 3 Deep Dive ALL\\\\module1.py'),\n",
              "  22: 100,\n",
              "  24: '\\\\Users\\\\aserd',\n",
              "  29: False,\n",
              "  31: ModuleSpec(name='module2', loader=<_frozen_importlib_external.SourceFileLoader object at 0x0000024393DE35B0>, origin='C:\\\\Users\\\\aserd\\\\module2.py'),\n",
              "  33: 'python',\n",
              "  35: False,\n",
              "  37: False,\n",
              "  38: True,\n",
              "  39: <module 'cmath' (built-in)>,\n",
              "  41: <module 'cmath' (built-in)>,\n",
              "  43: (-7.315110094901103+1.0427436562359045j),\n",
              "  44: (1.09868411346781+0.45508986056222733j)},\n",
              " '_dh': [WindowsPath('C:/Users/aserd/Python 3 Deep Dive ALL')],\n",
              " 'In': ['',\n",
              "  'import sys',\n",
              "  'sys.exec_prefix',\n",
              "  'import importlib',\n",
              "  'importlib.__file__',\n",
              "  'importlib',\n",
              "  \"importlib.import_module('fractions')\",\n",
              "  'f = fractions.Fraction(2, 3)',\n",
              "  \"fractions = importlib.import_module('fractions')\",\n",
              "  'f = fractions.Fraction(2, 3)',\n",
              "  'f',\n",
              "  'fractions',\n",
              "  'import math',\n",
              "  'math',\n",
              "  'fractions.__spec__',\n",
              "  'import foo',\n",
              "  'sys.meta_path',\n",
              "  \"importlib.util.find_spec('math')\",\n",
              "  \"importlib.util.find_spec('fractions')\",\n",
              "  'with open(\\'module1.py\\', \\'w\\') as code_file:\\n    code_file.write(\"print(\\'running module1.py...\\')\\\\n\")\\n    code_file.write(\\'a = 100\\\\n\\')',\n",
              "  \"importlib.util.find_spec('module1')\",\n",
              "  'import module1',\n",
              "  'module1.a',\n",
              "  \"import os\\n\\n# you can use this for Mac/Linux:\\n# ext_module_path = os.environ['HOME']\\n\\n# you can use thi in Windows 10\\n# ext_module_path = os.environ['HOMEPATH']\\n\\n# or you can just hard code some path\\n# ext_module_path = 'c:\\\\\\\\temp'\\n\\next_module_path = os.environ.get('HOME', os.environ['HOMEPATH'])\",\n",
              "  'ext_module_path',\n",
              "  'file_abs_path = os.path.join(ext_module_path, \\'module2.py\\')\\nwith open(file_abs_path,\\'w\\') as code_file:\\n    code_file.write(\"print(\\'running module2.py...\\')\\\\n\")\\n    code_file.write(\"x = \\'python\\'\\\\n\")',\n",
              "  \"importlib.util.find_spec('module2')\",\n",
              "  'import module2',\n",
              "  \"try:\\n    import module2\\nexcept ModuleNotFoundError:\\n    # could not find module\\n    # maybe import an alternative module instead??\\n    # e.g. import module1 as module2\\n    # but please do not just silence the exception!\\n    # if you're importing the module most likely you are\\n    # using it somewhere in your code - so raise an \\n    # exception at the precise location where the root cause\\n    # occurred!\\n    # so the following is BAD!!\\n    print('Module was not found.')\",\n",
              "  'ext_module_path in sys.path',\n",
              "  'sys.path.append(ext_module_path)',\n",
              "  \"importlib.util.find_spec('module2')\",\n",
              "  'import module2',\n",
              "  'module2.x',\n",
              "  'import sys\\nfor key in sorted(sys.modules.keys()):\\n    print(key)',\n",
              "  \"'cmath' in sys.modules\",\n",
              "  'from cmath import exp',\n",
              "  \"'cmath' in globals()\",\n",
              "  \"'exp' in globals()\",\n",
              "  \"sys.modules['cmath']\",\n",
              "  \"cmath = sys.modules['cmath']\",\n",
              "  'cmath',\n",
              "  'exp(2^3j)',\n",
              "  'exp(2+3j)',\n",
              "  'cmath.sqrt(1+1j)',\n",
              "  'globals()'],\n",
              " 'Out': {2: 'C:\\\\Users\\\\aserd\\\\anaconda3',\n",
              "  4: 'C:\\\\Users\\\\aserd\\\\anaconda3\\\\lib\\\\importlib\\\\__init__.py',\n",
              "  5: <module 'importlib' from 'C:\\\\Users\\\\aserd\\\\anaconda3\\\\lib\\\\importlib\\\\__init__.py'>,\n",
              "  6: <module 'fractions' from 'C:\\\\Users\\\\aserd\\\\anaconda3\\\\lib\\\\fractions.py'>,\n",
              "  10: Fraction(2, 3),\n",
              "  11: <module 'fractions' from 'C:\\\\Users\\\\aserd\\\\anaconda3\\\\lib\\\\fractions.py'>,\n",
              "  13: <module 'math' (built-in)>,\n",
              "  14: ModuleSpec(name='fractions', loader=<_frozen_importlib_external.SourceFileLoader object at 0x0000024391AED9D0>, origin='C:\\\\Users\\\\aserd\\\\anaconda3\\\\lib\\\\fractions.py'),\n",
              "  16: [<_distutils_hack.DistutilsMetaFinder at 0x2438ecd0220>,\n",
              "   _frozen_importlib.BuiltinImporter,\n",
              "   _frozen_importlib.FrozenImporter,\n",
              "   _frozen_importlib_external.PathFinder,\n",
              "   <six._SixMetaPathImporter at 0x24391ac0d30>,\n",
              "   <pkg_resources.extern.VendorImporter at 0x24393264670>,\n",
              "   <setuptools.extern.VendorImporter at 0x2439358beb0>,\n",
              "   <setuptools._vendor.importlib_metadata.MetadataPathFinder at 0x243935928e0>],\n",
              "  17: ModuleSpec(name='math', loader=<class '_frozen_importlib.BuiltinImporter'>, origin='built-in'),\n",
              "  18: ModuleSpec(name='fractions', loader=<_frozen_importlib_external.SourceFileLoader object at 0x0000024391AED9D0>, origin='C:\\\\Users\\\\aserd\\\\anaconda3\\\\lib\\\\fractions.py'),\n",
              "  20: ModuleSpec(name='module1', loader=<_frozen_importlib_external.SourceFileLoader object at 0x0000024394EE8A00>, origin='C:\\\\Users\\\\aserd\\\\Python 3 Deep Dive ALL\\\\module1.py'),\n",
              "  22: 100,\n",
              "  24: '\\\\Users\\\\aserd',\n",
              "  29: False,\n",
              "  31: ModuleSpec(name='module2', loader=<_frozen_importlib_external.SourceFileLoader object at 0x0000024393DE35B0>, origin='C:\\\\Users\\\\aserd\\\\module2.py'),\n",
              "  33: 'python',\n",
              "  35: False,\n",
              "  37: False,\n",
              "  38: True,\n",
              "  39: <module 'cmath' (built-in)>,\n",
              "  41: <module 'cmath' (built-in)>,\n",
              "  43: (-7.315110094901103+1.0427436562359045j),\n",
              "  44: (1.09868411346781+0.45508986056222733j)},\n",
              " 'get_ipython': <bound method InteractiveShell.get_ipython of <ipykernel.zmqshell.ZMQInteractiveShell object at 0x0000024393D8D790>>,\n",
              " 'exit': <IPython.core.autocall.ZMQExitAutocall at 0x24393dbb310>,\n",
              " 'quit': <IPython.core.autocall.ZMQExitAutocall at 0x24393dbb310>,\n",
              " '_': (1.09868411346781+0.45508986056222733j),\n",
              " '__': (-7.315110094901103+1.0427436562359045j),\n",
              " '___': <module 'cmath' (built-in)>,\n",
              " '_i': 'cmath.sqrt(1+1j)',\n",
              " '_ii': 'exp(2+3j)',\n",
              " '_iii': 'exp(2^3j)',\n",
              " '_i1': 'import sys',\n",
              " 'sys': <module 'sys' (built-in)>,\n",
              " '_i2': 'sys.exec_prefix',\n",
              " '_2': 'C:\\\\Users\\\\aserd\\\\anaconda3',\n",
              " '_i3': 'import importlib',\n",
              " 'importlib': <module 'importlib' from 'C:\\\\Users\\\\aserd\\\\anaconda3\\\\lib\\\\importlib\\\\__init__.py'>,\n",
              " '_i4': 'importlib.__file__',\n",
              " '_4': 'C:\\\\Users\\\\aserd\\\\anaconda3\\\\lib\\\\importlib\\\\__init__.py',\n",
              " '_i5': 'importlib',\n",
              " '_5': <module 'importlib' from 'C:\\\\Users\\\\aserd\\\\anaconda3\\\\lib\\\\importlib\\\\__init__.py'>,\n",
              " '_i6': \"importlib.import_module('fractions')\",\n",
              " '_6': <module 'fractions' from 'C:\\\\Users\\\\aserd\\\\anaconda3\\\\lib\\\\fractions.py'>,\n",
              " '_i7': 'f = fractions.Fraction(2, 3)',\n",
              " '_i8': \"fractions = importlib.import_module('fractions')\",\n",
              " 'fractions': <module 'fractions' from 'C:\\\\Users\\\\aserd\\\\anaconda3\\\\lib\\\\fractions.py'>,\n",
              " '_i9': 'f = fractions.Fraction(2, 3)',\n",
              " 'f': Fraction(2, 3),\n",
              " '_i10': 'f',\n",
              " '_10': Fraction(2, 3),\n",
              " '_i11': 'fractions',\n",
              " '_11': <module 'fractions' from 'C:\\\\Users\\\\aserd\\\\anaconda3\\\\lib\\\\fractions.py'>,\n",
              " '_i12': 'import math',\n",
              " 'math': <module 'math' (built-in)>,\n",
              " '_i13': 'math',\n",
              " '_13': <module 'math' (built-in)>,\n",
              " '_i14': 'fractions.__spec__',\n",
              " '_14': ModuleSpec(name='fractions', loader=<_frozen_importlib_external.SourceFileLoader object at 0x0000024391AED9D0>, origin='C:\\\\Users\\\\aserd\\\\anaconda3\\\\lib\\\\fractions.py'),\n",
              " '_i15': 'import foo',\n",
              " '_i16': 'sys.meta_path',\n",
              " '_16': [<_distutils_hack.DistutilsMetaFinder at 0x2438ecd0220>,\n",
              "  _frozen_importlib.BuiltinImporter,\n",
              "  _frozen_importlib.FrozenImporter,\n",
              "  _frozen_importlib_external.PathFinder,\n",
              "  <six._SixMetaPathImporter at 0x24391ac0d30>,\n",
              "  <pkg_resources.extern.VendorImporter at 0x24393264670>,\n",
              "  <setuptools.extern.VendorImporter at 0x2439358beb0>,\n",
              "  <setuptools._vendor.importlib_metadata.MetadataPathFinder at 0x243935928e0>],\n",
              " '_i17': \"importlib.util.find_spec('math')\",\n",
              " '_17': ModuleSpec(name='math', loader=<class '_frozen_importlib.BuiltinImporter'>, origin='built-in'),\n",
              " '_i18': \"importlib.util.find_spec('fractions')\",\n",
              " '_18': ModuleSpec(name='fractions', loader=<_frozen_importlib_external.SourceFileLoader object at 0x0000024391AED9D0>, origin='C:\\\\Users\\\\aserd\\\\anaconda3\\\\lib\\\\fractions.py'),\n",
              " '_i19': 'with open(\\'module1.py\\', \\'w\\') as code_file:\\n    code_file.write(\"print(\\'running module1.py...\\')\\\\n\")\\n    code_file.write(\\'a = 100\\\\n\\')',\n",
              " 'code_file': <_io.TextIOWrapper name='\\\\Users\\\\aserd\\\\module2.py' mode='w' encoding='cp1252'>,\n",
              " '_i20': \"importlib.util.find_spec('module1')\",\n",
              " '_20': ModuleSpec(name='module1', loader=<_frozen_importlib_external.SourceFileLoader object at 0x0000024394EE8A00>, origin='C:\\\\Users\\\\aserd\\\\Python 3 Deep Dive ALL\\\\module1.py'),\n",
              " '_i21': 'import module1',\n",
              " 'module1': <module 'module1' from 'C:\\\\Users\\\\aserd\\\\Python 3 Deep Dive ALL\\\\module1.py'>,\n",
              " '_i22': 'module1.a',\n",
              " '_22': 100,\n",
              " '_i23': \"import os\\n\\n# you can use this for Mac/Linux:\\n# ext_module_path = os.environ['HOME']\\n\\n# you can use thi in Windows 10\\n# ext_module_path = os.environ['HOMEPATH']\\n\\n# or you can just hard code some path\\n# ext_module_path = 'c:\\\\\\\\temp'\\n\\next_module_path = os.environ.get('HOME', os.environ['HOMEPATH'])\",\n",
              " 'os': <module 'os' from 'C:\\\\Users\\\\aserd\\\\anaconda3\\\\lib\\\\os.py'>,\n",
              " 'ext_module_path': '\\\\Users\\\\aserd',\n",
              " '_i24': 'ext_module_path',\n",
              " '_24': '\\\\Users\\\\aserd',\n",
              " '_i25': 'file_abs_path = os.path.join(ext_module_path, \\'module2.py\\')\\nwith open(file_abs_path,\\'w\\') as code_file:\\n    code_file.write(\"print(\\'running module2.py...\\')\\\\n\")\\n    code_file.write(\"x = \\'python\\'\\\\n\")',\n",
              " 'file_abs_path': '\\\\Users\\\\aserd\\\\module2.py',\n",
              " '_i26': \"importlib.util.find_spec('module2')\",\n",
              " '_i27': 'import module2',\n",
              " '_i28': \"try:\\n    import module2\\nexcept ModuleNotFoundError:\\n    # could not find module\\n    # maybe import an alternative module instead??\\n    # e.g. import module1 as module2\\n    # but please do not just silence the exception!\\n    # if you're importing the module most likely you are\\n    # using it somewhere in your code - so raise an \\n    # exception at the precise location where the root cause\\n    # occurred!\\n    # so the following is BAD!!\\n    print('Module was not found.')\",\n",
              " '_i29': 'ext_module_path in sys.path',\n",
              " '_29': False,\n",
              " '_i30': 'sys.path.append(ext_module_path)',\n",
              " '_i31': \"importlib.util.find_spec('module2')\",\n",
              " '_31': ModuleSpec(name='module2', loader=<_frozen_importlib_external.SourceFileLoader object at 0x0000024393DE35B0>, origin='C:\\\\Users\\\\aserd\\\\module2.py'),\n",
              " '_i32': 'import module2',\n",
              " 'module2': <module 'module2' from 'C:\\\\Users\\\\aserd\\\\module2.py'>,\n",
              " '_i33': 'module2.x',\n",
              " '_33': 'python',\n",
              " '_i34': 'import sys\\nfor key in sorted(sys.modules.keys()):\\n    print(key)',\n",
              " 'key': 'zope',\n",
              " '_i35': \"'cmath' in sys.modules\",\n",
              " '_35': False,\n",
              " '_i36': 'from cmath import exp',\n",
              " 'exp': <function cmath.exp(z, /)>,\n",
              " '_i37': \"'cmath' in globals()\",\n",
              " '_37': False,\n",
              " '_i38': \"'exp' in globals()\",\n",
              " '_38': True,\n",
              " '_i39': \"sys.modules['cmath']\",\n",
              " '_39': <module 'cmath' (built-in)>,\n",
              " '_i40': \"cmath = sys.modules['cmath']\",\n",
              " 'cmath': <module 'cmath' (built-in)>,\n",
              " '_i41': 'cmath',\n",
              " '_41': <module 'cmath' (built-in)>,\n",
              " '_i42': 'exp(2^3j)',\n",
              " '_i43': 'exp(2+3j)',\n",
              " '_43': (-7.315110094901103+1.0427436562359045j),\n",
              " '_i44': 'cmath.sqrt(1+1j)',\n",
              " '_44': (1.09868411346781+0.45508986056222733j),\n",
              " '_i45': 'globals()'}"
            ]
          },
          "execution_count": 45,
          "metadata": {},
          "output_type": "execute_result"
        }
      ],
      "source": [
        "globals()"
      ]
    },
    {
      "cell_type": "markdown",
      "id": "6fc3adc6-b80d-4f52-b3b4-b033dbfc7c05",
      "metadata": {
        "id": "6fc3adc6-b80d-4f52-b3b4-b033dbfc7c05"
      },
      "source": [
        "Now let's do that import:"
      ]
    },
    {
      "cell_type": "code",
      "execution_count": null,
      "id": "d43354cb-c74d-462d-a246-1bf5b0d11fac",
      "metadata": {
        "id": "d43354cb-c74d-462d-a246-1bf5b0d11fac"
      },
      "outputs": [],
      "source": [
        "from cmath import *"
      ]
    },
    {
      "cell_type": "markdown",
      "id": "0b1e884d-c41e-46bc-9d00-2fda0adf12d1",
      "metadata": {
        "id": "0b1e884d-c41e-46bc-9d00-2fda0adf12d1"
      },
      "source": [
        "And let's see our namespace now:"
      ]
    },
    {
      "cell_type": "code",
      "execution_count": null,
      "id": "9d376e43-81b0-4527-b430-3752f475b375",
      "metadata": {
        "id": "9d376e43-81b0-4527-b430-3752f475b375",
        "outputId": "f8c44978-667d-4a22-e853-01b3ceeeea5c"
      },
      "outputs": [
        {
          "data": {
            "text/plain": [
              "{'__name__': '__main__',\n",
              " '__doc__': 'Automatically created module for IPython interactive environment',\n",
              " '__package__': None,\n",
              " '__loader__': None,\n",
              " '__spec__': None,\n",
              " '__builtin__': <module 'builtins' (built-in)>,\n",
              " '__builtins__': <module 'builtins' (built-in)>,\n",
              " '_ih': ['',\n",
              "  'import sys',\n",
              "  'sys.exec_prefix',\n",
              "  'import importlib',\n",
              "  'importlib.__file__',\n",
              "  'importlib',\n",
              "  \"importlib.import_module('fractions')\",\n",
              "  'f = fractions.Fraction(2, 3)',\n",
              "  \"fractions = importlib.import_module('fractions')\",\n",
              "  'f = fractions.Fraction(2, 3)',\n",
              "  'f',\n",
              "  'fractions',\n",
              "  'import math',\n",
              "  'math',\n",
              "  'fractions.__spec__',\n",
              "  'import foo',\n",
              "  'sys.meta_path',\n",
              "  \"importlib.util.find_spec('math')\",\n",
              "  \"importlib.util.find_spec('fractions')\",\n",
              "  'with open(\\'module1.py\\', \\'w\\') as code_file:\\n    code_file.write(\"print(\\'running module1.py...\\')\\\\n\")\\n    code_file.write(\\'a = 100\\\\n\\')',\n",
              "  \"importlib.util.find_spec('module1')\",\n",
              "  'import module1',\n",
              "  'module1.a',\n",
              "  \"import os\\n\\n# you can use this for Mac/Linux:\\n# ext_module_path = os.environ['HOME']\\n\\n# you can use thi in Windows 10\\n# ext_module_path = os.environ['HOMEPATH']\\n\\n# or you can just hard code some path\\n# ext_module_path = 'c:\\\\\\\\temp'\\n\\next_module_path = os.environ.get('HOME', os.environ['HOMEPATH'])\",\n",
              "  'ext_module_path',\n",
              "  'file_abs_path = os.path.join(ext_module_path, \\'module2.py\\')\\nwith open(file_abs_path,\\'w\\') as code_file:\\n    code_file.write(\"print(\\'running module2.py...\\')\\\\n\")\\n    code_file.write(\"x = \\'python\\'\\\\n\")',\n",
              "  \"importlib.util.find_spec('module2')\",\n",
              "  'import module2',\n",
              "  \"try:\\n    import module2\\nexcept ModuleNotFoundError:\\n    # could not find module\\n    # maybe import an alternative module instead??\\n    # e.g. import module1 as module2\\n    # but please do not just silence the exception!\\n    # if you're importing the module most likely you are\\n    # using it somewhere in your code - so raise an \\n    # exception at the precise location where the root cause\\n    # occurred!\\n    # so the following is BAD!!\\n    print('Module was not found.')\",\n",
              "  'ext_module_path in sys.path',\n",
              "  'sys.path.append(ext_module_path)',\n",
              "  \"importlib.util.find_spec('module2')\",\n",
              "  'import module2',\n",
              "  'module2.x',\n",
              "  'import sys\\nfor key in sorted(sys.modules.keys()):\\n    print(key)',\n",
              "  \"'cmath' in sys.modules\",\n",
              "  'from cmath import exp',\n",
              "  \"'cmath' in globals()\",\n",
              "  \"'exp' in globals()\",\n",
              "  \"sys.modules['cmath']\",\n",
              "  \"cmath = sys.modules['cmath']\",\n",
              "  'cmath',\n",
              "  'exp(2^3j)',\n",
              "  'exp(2+3j)',\n",
              "  'cmath.sqrt(1+1j)',\n",
              "  'globals()',\n",
              "  'from cmath import *',\n",
              "  'globals()'],\n",
              " '_oh': {2: 'C:\\\\Users\\\\aserd\\\\anaconda3',\n",
              "  4: 'C:\\\\Users\\\\aserd\\\\anaconda3\\\\lib\\\\importlib\\\\__init__.py',\n",
              "  5: <module 'importlib' from 'C:\\\\Users\\\\aserd\\\\anaconda3\\\\lib\\\\importlib\\\\__init__.py'>,\n",
              "  6: <module 'fractions' from 'C:\\\\Users\\\\aserd\\\\anaconda3\\\\lib\\\\fractions.py'>,\n",
              "  10: Fraction(2, 3),\n",
              "  11: <module 'fractions' from 'C:\\\\Users\\\\aserd\\\\anaconda3\\\\lib\\\\fractions.py'>,\n",
              "  13: <module 'math' (built-in)>,\n",
              "  14: ModuleSpec(name='fractions', loader=<_frozen_importlib_external.SourceFileLoader object at 0x0000024391AED9D0>, origin='C:\\\\Users\\\\aserd\\\\anaconda3\\\\lib\\\\fractions.py'),\n",
              "  16: [<_distutils_hack.DistutilsMetaFinder at 0x2438ecd0220>,\n",
              "   _frozen_importlib.BuiltinImporter,\n",
              "   _frozen_importlib.FrozenImporter,\n",
              "   _frozen_importlib_external.PathFinder,\n",
              "   <six._SixMetaPathImporter at 0x24391ac0d30>,\n",
              "   <pkg_resources.extern.VendorImporter at 0x24393264670>,\n",
              "   <setuptools.extern.VendorImporter at 0x2439358beb0>,\n",
              "   <setuptools._vendor.importlib_metadata.MetadataPathFinder at 0x243935928e0>],\n",
              "  17: ModuleSpec(name='math', loader=<class '_frozen_importlib.BuiltinImporter'>, origin='built-in'),\n",
              "  18: ModuleSpec(name='fractions', loader=<_frozen_importlib_external.SourceFileLoader object at 0x0000024391AED9D0>, origin='C:\\\\Users\\\\aserd\\\\anaconda3\\\\lib\\\\fractions.py'),\n",
              "  20: ModuleSpec(name='module1', loader=<_frozen_importlib_external.SourceFileLoader object at 0x0000024394EE8A00>, origin='C:\\\\Users\\\\aserd\\\\Python 3 Deep Dive ALL\\\\module1.py'),\n",
              "  22: 100,\n",
              "  24: '\\\\Users\\\\aserd',\n",
              "  29: False,\n",
              "  31: ModuleSpec(name='module2', loader=<_frozen_importlib_external.SourceFileLoader object at 0x0000024393DE35B0>, origin='C:\\\\Users\\\\aserd\\\\module2.py'),\n",
              "  33: 'python',\n",
              "  35: False,\n",
              "  37: False,\n",
              "  38: True,\n",
              "  39: <module 'cmath' (built-in)>,\n",
              "  41: <module 'cmath' (built-in)>,\n",
              "  43: (-7.315110094901103+1.0427436562359045j),\n",
              "  44: (1.09868411346781+0.45508986056222733j),\n",
              "  45: {...}},\n",
              " '_dh': [WindowsPath('C:/Users/aserd/Python 3 Deep Dive ALL')],\n",
              " 'In': ['',\n",
              "  'import sys',\n",
              "  'sys.exec_prefix',\n",
              "  'import importlib',\n",
              "  'importlib.__file__',\n",
              "  'importlib',\n",
              "  \"importlib.import_module('fractions')\",\n",
              "  'f = fractions.Fraction(2, 3)',\n",
              "  \"fractions = importlib.import_module('fractions')\",\n",
              "  'f = fractions.Fraction(2, 3)',\n",
              "  'f',\n",
              "  'fractions',\n",
              "  'import math',\n",
              "  'math',\n",
              "  'fractions.__spec__',\n",
              "  'import foo',\n",
              "  'sys.meta_path',\n",
              "  \"importlib.util.find_spec('math')\",\n",
              "  \"importlib.util.find_spec('fractions')\",\n",
              "  'with open(\\'module1.py\\', \\'w\\') as code_file:\\n    code_file.write(\"print(\\'running module1.py...\\')\\\\n\")\\n    code_file.write(\\'a = 100\\\\n\\')',\n",
              "  \"importlib.util.find_spec('module1')\",\n",
              "  'import module1',\n",
              "  'module1.a',\n",
              "  \"import os\\n\\n# you can use this for Mac/Linux:\\n# ext_module_path = os.environ['HOME']\\n\\n# you can use thi in Windows 10\\n# ext_module_path = os.environ['HOMEPATH']\\n\\n# or you can just hard code some path\\n# ext_module_path = 'c:\\\\\\\\temp'\\n\\next_module_path = os.environ.get('HOME', os.environ['HOMEPATH'])\",\n",
              "  'ext_module_path',\n",
              "  'file_abs_path = os.path.join(ext_module_path, \\'module2.py\\')\\nwith open(file_abs_path,\\'w\\') as code_file:\\n    code_file.write(\"print(\\'running module2.py...\\')\\\\n\")\\n    code_file.write(\"x = \\'python\\'\\\\n\")',\n",
              "  \"importlib.util.find_spec('module2')\",\n",
              "  'import module2',\n",
              "  \"try:\\n    import module2\\nexcept ModuleNotFoundError:\\n    # could not find module\\n    # maybe import an alternative module instead??\\n    # e.g. import module1 as module2\\n    # but please do not just silence the exception!\\n    # if you're importing the module most likely you are\\n    # using it somewhere in your code - so raise an \\n    # exception at the precise location where the root cause\\n    # occurred!\\n    # so the following is BAD!!\\n    print('Module was not found.')\",\n",
              "  'ext_module_path in sys.path',\n",
              "  'sys.path.append(ext_module_path)',\n",
              "  \"importlib.util.find_spec('module2')\",\n",
              "  'import module2',\n",
              "  'module2.x',\n",
              "  'import sys\\nfor key in sorted(sys.modules.keys()):\\n    print(key)',\n",
              "  \"'cmath' in sys.modules\",\n",
              "  'from cmath import exp',\n",
              "  \"'cmath' in globals()\",\n",
              "  \"'exp' in globals()\",\n",
              "  \"sys.modules['cmath']\",\n",
              "  \"cmath = sys.modules['cmath']\",\n",
              "  'cmath',\n",
              "  'exp(2^3j)',\n",
              "  'exp(2+3j)',\n",
              "  'cmath.sqrt(1+1j)',\n",
              "  'globals()',\n",
              "  'from cmath import *',\n",
              "  'globals()'],\n",
              " 'Out': {2: 'C:\\\\Users\\\\aserd\\\\anaconda3',\n",
              "  4: 'C:\\\\Users\\\\aserd\\\\anaconda3\\\\lib\\\\importlib\\\\__init__.py',\n",
              "  5: <module 'importlib' from 'C:\\\\Users\\\\aserd\\\\anaconda3\\\\lib\\\\importlib\\\\__init__.py'>,\n",
              "  6: <module 'fractions' from 'C:\\\\Users\\\\aserd\\\\anaconda3\\\\lib\\\\fractions.py'>,\n",
              "  10: Fraction(2, 3),\n",
              "  11: <module 'fractions' from 'C:\\\\Users\\\\aserd\\\\anaconda3\\\\lib\\\\fractions.py'>,\n",
              "  13: <module 'math' (built-in)>,\n",
              "  14: ModuleSpec(name='fractions', loader=<_frozen_importlib_external.SourceFileLoader object at 0x0000024391AED9D0>, origin='C:\\\\Users\\\\aserd\\\\anaconda3\\\\lib\\\\fractions.py'),\n",
              "  16: [<_distutils_hack.DistutilsMetaFinder at 0x2438ecd0220>,\n",
              "   _frozen_importlib.BuiltinImporter,\n",
              "   _frozen_importlib.FrozenImporter,\n",
              "   _frozen_importlib_external.PathFinder,\n",
              "   <six._SixMetaPathImporter at 0x24391ac0d30>,\n",
              "   <pkg_resources.extern.VendorImporter at 0x24393264670>,\n",
              "   <setuptools.extern.VendorImporter at 0x2439358beb0>,\n",
              "   <setuptools._vendor.importlib_metadata.MetadataPathFinder at 0x243935928e0>],\n",
              "  17: ModuleSpec(name='math', loader=<class '_frozen_importlib.BuiltinImporter'>, origin='built-in'),\n",
              "  18: ModuleSpec(name='fractions', loader=<_frozen_importlib_external.SourceFileLoader object at 0x0000024391AED9D0>, origin='C:\\\\Users\\\\aserd\\\\anaconda3\\\\lib\\\\fractions.py'),\n",
              "  20: ModuleSpec(name='module1', loader=<_frozen_importlib_external.SourceFileLoader object at 0x0000024394EE8A00>, origin='C:\\\\Users\\\\aserd\\\\Python 3 Deep Dive ALL\\\\module1.py'),\n",
              "  22: 100,\n",
              "  24: '\\\\Users\\\\aserd',\n",
              "  29: False,\n",
              "  31: ModuleSpec(name='module2', loader=<_frozen_importlib_external.SourceFileLoader object at 0x0000024393DE35B0>, origin='C:\\\\Users\\\\aserd\\\\module2.py'),\n",
              "  33: 'python',\n",
              "  35: False,\n",
              "  37: False,\n",
              "  38: True,\n",
              "  39: <module 'cmath' (built-in)>,\n",
              "  41: <module 'cmath' (built-in)>,\n",
              "  43: (-7.315110094901103+1.0427436562359045j),\n",
              "  44: (1.09868411346781+0.45508986056222733j),\n",
              "  45: {...}},\n",
              " 'get_ipython': <bound method InteractiveShell.get_ipython of <ipykernel.zmqshell.ZMQInteractiveShell object at 0x0000024393D8D790>>,\n",
              " 'exit': <IPython.core.autocall.ZMQExitAutocall at 0x24393dbb310>,\n",
              " 'quit': <IPython.core.autocall.ZMQExitAutocall at 0x24393dbb310>,\n",
              " '_': {...},\n",
              " '__': (1.09868411346781+0.45508986056222733j),\n",
              " '___': (-7.315110094901103+1.0427436562359045j),\n",
              " '_i': 'from cmath import *',\n",
              " '_ii': 'globals()',\n",
              " '_iii': 'cmath.sqrt(1+1j)',\n",
              " '_i1': 'import sys',\n",
              " 'sys': <module 'sys' (built-in)>,\n",
              " '_i2': 'sys.exec_prefix',\n",
              " '_2': 'C:\\\\Users\\\\aserd\\\\anaconda3',\n",
              " '_i3': 'import importlib',\n",
              " 'importlib': <module 'importlib' from 'C:\\\\Users\\\\aserd\\\\anaconda3\\\\lib\\\\importlib\\\\__init__.py'>,\n",
              " '_i4': 'importlib.__file__',\n",
              " '_4': 'C:\\\\Users\\\\aserd\\\\anaconda3\\\\lib\\\\importlib\\\\__init__.py',\n",
              " '_i5': 'importlib',\n",
              " '_5': <module 'importlib' from 'C:\\\\Users\\\\aserd\\\\anaconda3\\\\lib\\\\importlib\\\\__init__.py'>,\n",
              " '_i6': \"importlib.import_module('fractions')\",\n",
              " '_6': <module 'fractions' from 'C:\\\\Users\\\\aserd\\\\anaconda3\\\\lib\\\\fractions.py'>,\n",
              " '_i7': 'f = fractions.Fraction(2, 3)',\n",
              " '_i8': \"fractions = importlib.import_module('fractions')\",\n",
              " 'fractions': <module 'fractions' from 'C:\\\\Users\\\\aserd\\\\anaconda3\\\\lib\\\\fractions.py'>,\n",
              " '_i9': 'f = fractions.Fraction(2, 3)',\n",
              " 'f': Fraction(2, 3),\n",
              " '_i10': 'f',\n",
              " '_10': Fraction(2, 3),\n",
              " '_i11': 'fractions',\n",
              " '_11': <module 'fractions' from 'C:\\\\Users\\\\aserd\\\\anaconda3\\\\lib\\\\fractions.py'>,\n",
              " '_i12': 'import math',\n",
              " 'math': <module 'math' (built-in)>,\n",
              " '_i13': 'math',\n",
              " '_13': <module 'math' (built-in)>,\n",
              " '_i14': 'fractions.__spec__',\n",
              " '_14': ModuleSpec(name='fractions', loader=<_frozen_importlib_external.SourceFileLoader object at 0x0000024391AED9D0>, origin='C:\\\\Users\\\\aserd\\\\anaconda3\\\\lib\\\\fractions.py'),\n",
              " '_i15': 'import foo',\n",
              " '_i16': 'sys.meta_path',\n",
              " '_16': [<_distutils_hack.DistutilsMetaFinder at 0x2438ecd0220>,\n",
              "  _frozen_importlib.BuiltinImporter,\n",
              "  _frozen_importlib.FrozenImporter,\n",
              "  _frozen_importlib_external.PathFinder,\n",
              "  <six._SixMetaPathImporter at 0x24391ac0d30>,\n",
              "  <pkg_resources.extern.VendorImporter at 0x24393264670>,\n",
              "  <setuptools.extern.VendorImporter at 0x2439358beb0>,\n",
              "  <setuptools._vendor.importlib_metadata.MetadataPathFinder at 0x243935928e0>],\n",
              " '_i17': \"importlib.util.find_spec('math')\",\n",
              " '_17': ModuleSpec(name='math', loader=<class '_frozen_importlib.BuiltinImporter'>, origin='built-in'),\n",
              " '_i18': \"importlib.util.find_spec('fractions')\",\n",
              " '_18': ModuleSpec(name='fractions', loader=<_frozen_importlib_external.SourceFileLoader object at 0x0000024391AED9D0>, origin='C:\\\\Users\\\\aserd\\\\anaconda3\\\\lib\\\\fractions.py'),\n",
              " '_i19': 'with open(\\'module1.py\\', \\'w\\') as code_file:\\n    code_file.write(\"print(\\'running module1.py...\\')\\\\n\")\\n    code_file.write(\\'a = 100\\\\n\\')',\n",
              " 'code_file': <_io.TextIOWrapper name='\\\\Users\\\\aserd\\\\module2.py' mode='w' encoding='cp1252'>,\n",
              " '_i20': \"importlib.util.find_spec('module1')\",\n",
              " '_20': ModuleSpec(name='module1', loader=<_frozen_importlib_external.SourceFileLoader object at 0x0000024394EE8A00>, origin='C:\\\\Users\\\\aserd\\\\Python 3 Deep Dive ALL\\\\module1.py'),\n",
              " '_i21': 'import module1',\n",
              " 'module1': <module 'module1' from 'C:\\\\Users\\\\aserd\\\\Python 3 Deep Dive ALL\\\\module1.py'>,\n",
              " '_i22': 'module1.a',\n",
              " '_22': 100,\n",
              " '_i23': \"import os\\n\\n# you can use this for Mac/Linux:\\n# ext_module_path = os.environ['HOME']\\n\\n# you can use thi in Windows 10\\n# ext_module_path = os.environ['HOMEPATH']\\n\\n# or you can just hard code some path\\n# ext_module_path = 'c:\\\\\\\\temp'\\n\\next_module_path = os.environ.get('HOME', os.environ['HOMEPATH'])\",\n",
              " 'os': <module 'os' from 'C:\\\\Users\\\\aserd\\\\anaconda3\\\\lib\\\\os.py'>,\n",
              " 'ext_module_path': '\\\\Users\\\\aserd',\n",
              " '_i24': 'ext_module_path',\n",
              " '_24': '\\\\Users\\\\aserd',\n",
              " '_i25': 'file_abs_path = os.path.join(ext_module_path, \\'module2.py\\')\\nwith open(file_abs_path,\\'w\\') as code_file:\\n    code_file.write(\"print(\\'running module2.py...\\')\\\\n\")\\n    code_file.write(\"x = \\'python\\'\\\\n\")',\n",
              " 'file_abs_path': '\\\\Users\\\\aserd\\\\module2.py',\n",
              " '_i26': \"importlib.util.find_spec('module2')\",\n",
              " '_i27': 'import module2',\n",
              " '_i28': \"try:\\n    import module2\\nexcept ModuleNotFoundError:\\n    # could not find module\\n    # maybe import an alternative module instead??\\n    # e.g. import module1 as module2\\n    # but please do not just silence the exception!\\n    # if you're importing the module most likely you are\\n    # using it somewhere in your code - so raise an \\n    # exception at the precise location where the root cause\\n    # occurred!\\n    # so the following is BAD!!\\n    print('Module was not found.')\",\n",
              " '_i29': 'ext_module_path in sys.path',\n",
              " '_29': False,\n",
              " '_i30': 'sys.path.append(ext_module_path)',\n",
              " '_i31': \"importlib.util.find_spec('module2')\",\n",
              " '_31': ModuleSpec(name='module2', loader=<_frozen_importlib_external.SourceFileLoader object at 0x0000024393DE35B0>, origin='C:\\\\Users\\\\aserd\\\\module2.py'),\n",
              " '_i32': 'import module2',\n",
              " 'module2': <module 'module2' from 'C:\\\\Users\\\\aserd\\\\module2.py'>,\n",
              " '_i33': 'module2.x',\n",
              " '_33': 'python',\n",
              " '_i34': 'import sys\\nfor key in sorted(sys.modules.keys()):\\n    print(key)',\n",
              " 'key': 'zope',\n",
              " '_i35': \"'cmath' in sys.modules\",\n",
              " '_35': False,\n",
              " '_i36': 'from cmath import exp',\n",
              " 'exp': <function cmath.exp(z, /)>,\n",
              " '_i37': \"'cmath' in globals()\",\n",
              " '_37': False,\n",
              " '_i38': \"'exp' in globals()\",\n",
              " '_38': True,\n",
              " '_i39': \"sys.modules['cmath']\",\n",
              " '_39': <module 'cmath' (built-in)>,\n",
              " '_i40': \"cmath = sys.modules['cmath']\",\n",
              " 'cmath': <module 'cmath' (built-in)>,\n",
              " '_i41': 'cmath',\n",
              " '_41': <module 'cmath' (built-in)>,\n",
              " '_i42': 'exp(2^3j)',\n",
              " '_i43': 'exp(2+3j)',\n",
              " '_43': (-7.315110094901103+1.0427436562359045j),\n",
              " '_i44': 'cmath.sqrt(1+1j)',\n",
              " '_44': (1.09868411346781+0.45508986056222733j),\n",
              " '_i45': 'globals()',\n",
              " '_45': {...},\n",
              " '_i46': 'from cmath import *',\n",
              " 'acos': <function cmath.acos(z, /)>,\n",
              " 'acosh': <function cmath.acosh(z, /)>,\n",
              " 'asin': <function cmath.asin(z, /)>,\n",
              " 'asinh': <function cmath.asinh(z, /)>,\n",
              " 'atan': <function cmath.atan(z, /)>,\n",
              " 'atanh': <function cmath.atanh(z, /)>,\n",
              " 'cos': <function cmath.cos(z, /)>,\n",
              " 'cosh': <function cmath.cosh(z, /)>,\n",
              " 'isclose': <function cmath.isclose(a, b, *, rel_tol=1e-09, abs_tol=0.0)>,\n",
              " 'isfinite': <function cmath.isfinite(z, /)>,\n",
              " 'isinf': <function cmath.isinf(z, /)>,\n",
              " 'isnan': <function cmath.isnan(z, /)>,\n",
              " 'log': <function cmath.log>,\n",
              " 'log10': <function cmath.log10(z, /)>,\n",
              " 'phase': <function cmath.phase(z, /)>,\n",
              " 'polar': <function cmath.polar(z, /)>,\n",
              " 'rect': <function cmath.rect(r, phi, /)>,\n",
              " 'sin': <function cmath.sin(z, /)>,\n",
              " 'sinh': <function cmath.sinh(z, /)>,\n",
              " 'sqrt': <function cmath.sqrt(z, /)>,\n",
              " 'tan': <function cmath.tan(z, /)>,\n",
              " 'tanh': <function cmath.tanh(z, /)>,\n",
              " 'pi': 3.141592653589793,\n",
              " 'e': 2.718281828459045,\n",
              " 'tau': 6.283185307179586,\n",
              " 'inf': inf,\n",
              " 'infj': infj,\n",
              " 'nan': nan,\n",
              " 'nanj': nanj,\n",
              " '_i47': 'globals()'}"
            ]
          },
          "execution_count": 47,
          "metadata": {},
          "output_type": "execute_result"
        }
      ],
      "source": [
        "globals()"
      ]
    },
    {
      "cell_type": "markdown",
      "id": "86556c4a-b656-461e-9170-2717bc325e14",
      "metadata": {
        "id": "86556c4a-b656-461e-9170-2717bc325e14"
      },
      "source": [
        "Some poeople say the namespace was \"polluted\". In a way I guess that's true, but it does mean I can now access **all** attributes in `cmath` without prefixing them with `cmath` all the time:"
      ]
    },
    {
      "cell_type": "code",
      "execution_count": null,
      "id": "03e7c08c-bace-4906-91fb-60d665561ce2",
      "metadata": {
        "id": "03e7c08c-bace-4906-91fb-60d665561ce2",
        "outputId": "8ae7a411-9e98-4ca5-b38e-69e2fd6804e5"
      },
      "outputs": [
        {
          "data": {
            "text/plain": [
              "(1.5537739740300374+0.6435942529055826j)"
            ]
          },
          "execution_count": 48,
          "metadata": {},
          "output_type": "execute_result"
        }
      ],
      "source": [
        "sqrt(2+2j)"
      ]
    },
    {
      "cell_type": "code",
      "execution_count": null,
      "id": "00df75f7-641c-4f33-8bf3-d943baa58a34",
      "metadata": {
        "id": "00df75f7-641c-4f33-8bf3-d943baa58a34",
        "outputId": "34a0795d-a329-43d0-df99-f14df07f1d40"
      },
      "outputs": [
        {
          "data": {
            "text/plain": [
              "3.141592653589793"
            ]
          },
          "execution_count": 49,
          "metadata": {},
          "output_type": "execute_result"
        }
      ],
      "source": [
        "pi"
      ]
    },
    {
      "cell_type": "code",
      "execution_count": null,
      "id": "21312cf2-4e7f-4638-9a45-92b1830a7546",
      "metadata": {
        "id": "21312cf2-4e7f-4638-9a45-92b1830a7546",
        "outputId": "3c913fc2-1e44-4a3a-9f99-56a8f258025b"
      },
      "outputs": [
        {
          "data": {
            "text/plain": [
              "(9.15449914691143+4.168906959966565j)"
            ]
          },
          "execution_count": 50,
          "metadata": {},
          "output_type": "execute_result"
        }
      ],
      "source": [
        "sin(2-3j)"
      ]
    },
    {
      "cell_type": "markdown",
      "id": "1e91699e-f65b-4379-84c8-52717dda62c1",
      "metadata": {
        "id": "1e91699e-f65b-4379-84c8-52717dda62c1"
      },
      "source": [
        "In and of itself, there's nothing wrong with that...\n",
        "\n",
        "But a couple of issues:\n",
        "\n",
        "The first one is that when I call `sin` just like that, someone reading my code does not immediately know where that function came from. Was it a function I implemented in my module? some other custom module? the `cmath` module? the `math` module?\n",
        "\n",
        "The second one is that you can run into serious problems if you also need to import the `math` module:\n",
        "\n",
        "Currently the `sqrt` symbol is the `cmath.sqrt` function:"
      ]
    },
    {
      "cell_type": "code",
      "execution_count": null,
      "id": "6f430b9d-b580-4ce9-89d8-e1379bfbced8",
      "metadata": {
        "id": "6f430b9d-b580-4ce9-89d8-e1379bfbced8",
        "outputId": "f94ac9c5-a9f9-4078-edef-b83cb9d318e1"
      },
      "outputs": [
        {
          "data": {
            "text/plain": [
              "<function cmath.sqrt(z, /)>"
            ]
          },
          "execution_count": 51,
          "metadata": {},
          "output_type": "execute_result"
        }
      ],
      "source": [
        "sqrt"
      ]
    },
    {
      "cell_type": "code",
      "execution_count": null,
      "id": "f0783103-49b9-4486-8ce7-4943e5f81418",
      "metadata": {
        "id": "f0783103-49b9-4486-8ce7-4943e5f81418"
      },
      "outputs": [],
      "source": [
        "from math import *"
      ]
    },
    {
      "cell_type": "markdown",
      "id": "884c0a14-edee-4123-a42b-e631aafd4ef5",
      "metadata": {
        "id": "884c0a14-edee-4123-a42b-e631aafd4ef5"
      },
      "source": [
        "What just happened to the `sqrt` function that was in our namespace?"
      ]
    },
    {
      "cell_type": "code",
      "execution_count": null,
      "id": "5aa19289-e2cf-4777-a8df-af0e29fc0ae7",
      "metadata": {
        "id": "5aa19289-e2cf-4777-a8df-af0e29fc0ae7",
        "outputId": "b7c361eb-1941-4d7f-ab6a-2ef7397aa2db"
      },
      "outputs": [
        {
          "data": {
            "text/plain": [
              "<function math.sqrt(x, /)>"
            ]
          },
          "execution_count": 53,
          "metadata": {},
          "output_type": "execute_result"
        }
      ],
      "source": [
        "sqrt"
      ]
    },
    {
      "cell_type": "markdown",
      "id": "337e69df-6f63-4491-920b-3f9e762eae62",
      "metadata": {
        "id": "337e69df-6f63-4491-920b-3f9e762eae62"
      },
      "source": [
        "As you can see, the symbol `sqrt` in our namespace no longer refers to the `sqrt` function in `cmath` but rather to the one in `math`.\n",
        "\n",
        "It just got replaced by the `sqrt` function in the `math` module because it has the same name (`sqrt`).\n",
        "\n",
        "This is one of the reasons why `from ... import *` is sometimes frowned upon.\n",
        "\n",
        "But the same problem can heppen if you use a `from` import this way:"
      ]
    },
    {
      "cell_type": "code",
      "execution_count": null,
      "id": "e3ec2721-5c64-4e89-b4d7-06e531ed08b2",
      "metadata": {
        "id": "e3ec2721-5c64-4e89-b4d7-06e531ed08b2"
      },
      "outputs": [],
      "source": [
        "from cmath import sqrt\n",
        "from math import sqrt"
      ]
    },
    {
      "cell_type": "markdown",
      "id": "f8ad556f-5e02-4a85-82ae-8cbcd360a48a",
      "metadata": {
        "id": "f8ad556f-5e02-4a85-82ae-8cbcd360a48a"
      },
      "source": [
        "Same thing happened here, the `math.sqrt` function just clobbered the `cmath.sqrt` function.\n",
        "\n",
        "One option here is to use:"
      ]
    },
    {
      "cell_type": "code",
      "execution_count": null,
      "id": "15eaad11-f2c2-4b02-9e9d-1b221e4b40ca",
      "metadata": {
        "id": "15eaad11-f2c2-4b02-9e9d-1b221e4b40ca"
      },
      "outputs": [],
      "source": [
        "import cmath\n",
        "import math"
      ]
    },
    {
      "cell_type": "code",
      "execution_count": null,
      "id": "f1b6439c-bfac-4f94-b128-d52d8380159a",
      "metadata": {
        "id": "f1b6439c-bfac-4f94-b128-d52d8380159a",
        "outputId": "edf0794b-1158-4b6e-cb14-1d1edd21e4f4"
      },
      "outputs": [
        {
          "data": {
            "text/plain": [
              "1.4142135623730951"
            ]
          },
          "execution_count": 56,
          "metadata": {},
          "output_type": "execute_result"
        }
      ],
      "source": [
        "math.sqrt(2)"
      ]
    },
    {
      "cell_type": "code",
      "execution_count": null,
      "id": "2654e70d-d0f2-4eb2-8263-a27d07e48e2c",
      "metadata": {
        "id": "2654e70d-d0f2-4eb2-8263-a27d07e48e2c",
        "outputId": "5c2e5144-db51-4d93-f497-307d585b2577"
      },
      "outputs": [
        {
          "data": {
            "text/plain": [
              "(1.5537739740300374+0.6435942529055826j)"
            ]
          },
          "execution_count": 57,
          "metadata": {},
          "output_type": "execute_result"
        }
      ],
      "source": [
        "cmath.sqrt(2+2j)"
      ]
    },
    {
      "cell_type": "markdown",
      "id": "dfa2a851-1c41-4699-8769-3c2be179e2f6",
      "metadata": {
        "id": "dfa2a851-1c41-4699-8769-3c2be179e2f6"
      },
      "source": [
        "But Python also allows us to alias our imports using the `as` keyword.\n",
        "\n",
        "We can alias either the entire module, or just the symbols being imported from the module:"
      ]
    },
    {
      "cell_type": "code",
      "execution_count": null,
      "id": "d996308c-e25c-407f-b1b5-0f09ab71c282",
      "metadata": {
        "id": "d996308c-e25c-407f-b1b5-0f09ab71c282"
      },
      "outputs": [],
      "source": [
        "import math as r_math\n",
        "import cmath as c_math"
      ]
    },
    {
      "cell_type": "code",
      "execution_count": null,
      "id": "4a27187c-334b-4f56-9652-1c8a7e99ec45",
      "metadata": {
        "id": "4a27187c-334b-4f56-9652-1c8a7e99ec45",
        "outputId": "e07cbf37-a345-406b-cb1a-7f7d5dd4aa80"
      },
      "outputs": [
        {
          "data": {
            "text/plain": [
              "<module 'math' (built-in)>"
            ]
          },
          "execution_count": 59,
          "metadata": {},
          "output_type": "execute_result"
        }
      ],
      "source": [
        "r_math"
      ]
    },
    {
      "cell_type": "code",
      "execution_count": null,
      "id": "09ff01d2-18b2-414c-ae01-b0c623e9f7b3",
      "metadata": {
        "id": "09ff01d2-18b2-414c-ae01-b0c623e9f7b3",
        "outputId": "cbe32444-745a-4e6c-e013-34903bd704a6"
      },
      "outputs": [
        {
          "data": {
            "text/plain": [
              "<module 'cmath' (built-in)>"
            ]
          },
          "execution_count": 60,
          "metadata": {},
          "output_type": "execute_result"
        }
      ],
      "source": [
        "c_math"
      ]
    },
    {
      "cell_type": "code",
      "execution_count": null,
      "id": "89a3dd25-9931-4e45-9c32-d8ba25fe5c8d",
      "metadata": {
        "id": "89a3dd25-9931-4e45-9c32-d8ba25fe5c8d",
        "outputId": "94d42590-cfeb-419d-da2a-9cc5703316eb"
      },
      "outputs": [
        {
          "data": {
            "text/plain": [
              "1.4142135623730951"
            ]
          },
          "execution_count": 61,
          "metadata": {},
          "output_type": "execute_result"
        }
      ],
      "source": [
        "r_math.sqrt(2)"
      ]
    },
    {
      "cell_type": "code",
      "execution_count": null,
      "id": "63fb5f1d-d360-4ebf-9d64-0dde15afe45a",
      "metadata": {
        "id": "63fb5f1d-d360-4ebf-9d64-0dde15afe45a",
        "outputId": "91d9d406-ae33-41dc-f3c6-5290991f73a1"
      },
      "outputs": [
        {
          "data": {
            "text/plain": [
              "(1.4142135623730951+0j)"
            ]
          },
          "execution_count": 62,
          "metadata": {},
          "output_type": "execute_result"
        }
      ],
      "source": [
        "c_math.sqrt(2)"
      ]
    },
    {
      "cell_type": "markdown",
      "id": "c02f3d4b-fd89-4691-938a-a9992816cbe3",
      "metadata": {
        "id": "c02f3d4b-fd89-4691-938a-a9992816cbe3"
      },
      "source": [
        "By the way, this is the **exact** same result as doing:"
      ]
    },
    {
      "cell_type": "code",
      "execution_count": null,
      "id": "10cac348-7e46-4630-80e2-9ec63fcdc447",
      "metadata": {
        "id": "10cac348-7e46-4630-80e2-9ec63fcdc447"
      },
      "outputs": [],
      "source": [
        "import importlib"
      ]
    },
    {
      "cell_type": "code",
      "execution_count": null,
      "id": "c69936b1-dc78-4423-8eb4-3faaf62f39d6",
      "metadata": {
        "id": "c69936b1-dc78-4423-8eb4-3faaf62f39d6"
      },
      "outputs": [],
      "source": [
        "r_math = importlib.import_module('math')\n",
        "c_math = importlib.import_module('cmath')"
      ]
    },
    {
      "cell_type": "code",
      "execution_count": null,
      "id": "3c0ed72c-8ede-4bdc-872f-dfb3c45de2b6",
      "metadata": {
        "id": "3c0ed72c-8ede-4bdc-872f-dfb3c45de2b6",
        "outputId": "52515de3-5a41-4e3e-f986-0de7c148f079"
      },
      "outputs": [
        {
          "data": {
            "text/plain": [
              "<module 'math' (built-in)>"
            ]
          },
          "execution_count": 65,
          "metadata": {},
          "output_type": "execute_result"
        }
      ],
      "source": [
        "r_math"
      ]
    },
    {
      "cell_type": "code",
      "execution_count": null,
      "id": "82bd622a-166c-4612-84e9-34173ac1addf",
      "metadata": {
        "id": "82bd622a-166c-4612-84e9-34173ac1addf",
        "outputId": "e3690b0c-6a80-4d52-a0d0-ff0b36e931a4"
      },
      "outputs": [
        {
          "data": {
            "text/plain": [
              "<module 'cmath' (built-in)>"
            ]
          },
          "execution_count": 66,
          "metadata": {},
          "output_type": "execute_result"
        }
      ],
      "source": [
        "c_math"
      ]
    },
    {
      "cell_type": "markdown",
      "id": "b8cd6632-bc60-4a89-a3d6-c19fa941d767",
      "metadata": {
        "id": "b8cd6632-bc60-4a89-a3d6-c19fa941d767"
      },
      "source": [
        "We can also alias symbols from the imported module:"
      ]
    },
    {
      "cell_type": "code",
      "execution_count": null,
      "id": "31b9cdf6-e311-4461-af37-7979d48cd011",
      "metadata": {
        "id": "31b9cdf6-e311-4461-af37-7979d48cd011"
      },
      "outputs": [],
      "source": [
        "from math import sqrt as r_sqrt\n",
        "from cmath import sqrt as c_sqrt"
      ]
    },
    {
      "cell_type": "code",
      "execution_count": null,
      "id": "73cd6433-5bec-4f01-972c-28864a95ee4a",
      "metadata": {
        "id": "73cd6433-5bec-4f01-972c-28864a95ee4a",
        "outputId": "1da903aa-9441-4ac4-c40f-a6d883979eff"
      },
      "outputs": [
        {
          "data": {
            "text/plain": [
              "<function math.sqrt(x, /)>"
            ]
          },
          "execution_count": 68,
          "metadata": {},
          "output_type": "execute_result"
        }
      ],
      "source": [
        "r_sqrt"
      ]
    },
    {
      "cell_type": "code",
      "execution_count": null,
      "id": "a1106275-d69e-4a28-9feb-f58ac3c81e8f",
      "metadata": {
        "id": "a1106275-d69e-4a28-9feb-f58ac3c81e8f",
        "outputId": "34c66b50-1958-4b02-dc69-dc2ef1dc95f6"
      },
      "outputs": [
        {
          "data": {
            "text/plain": [
              "<function cmath.sqrt(z, /)>"
            ]
          },
          "execution_count": 69,
          "metadata": {},
          "output_type": "execute_result"
        }
      ],
      "source": [
        "c_sqrt"
      ]
    },
    {
      "cell_type": "markdown",
      "id": "20fbf7a3-4d7e-4e82-afde-b5720e9140bb",
      "metadata": {
        "id": "20fbf7a3-4d7e-4e82-afde-b5720e9140bb"
      },
      "source": [
        "Again, we can reproduce this using the following:"
      ]
    },
    {
      "cell_type": "code",
      "execution_count": null,
      "id": "acd58d01-9d66-41e5-977f-8ab6e3051979",
      "metadata": {
        "id": "acd58d01-9d66-41e5-977f-8ab6e3051979"
      },
      "outputs": [],
      "source": [
        "r_sqrt = importlib.import_module('math').sqrt\n",
        "c_sqrt = importlib.import_module('cmath').sqrt"
      ]
    },
    {
      "cell_type": "code",
      "execution_count": null,
      "id": "a2513883-52f6-461b-b0d9-934ddd1d23a4",
      "metadata": {
        "id": "a2513883-52f6-461b-b0d9-934ddd1d23a4",
        "outputId": "a7b693ee-2281-4b21-94c6-d8bc4288935e"
      },
      "outputs": [
        {
          "data": {
            "text/plain": [
              "<function math.sqrt(x, /)>"
            ]
          },
          "execution_count": 71,
          "metadata": {},
          "output_type": "execute_result"
        }
      ],
      "source": [
        "r_sqrt"
      ]
    },
    {
      "cell_type": "code",
      "execution_count": null,
      "id": "37903c95-4e65-4a6d-83e1-676033035c9c",
      "metadata": {
        "id": "37903c95-4e65-4a6d-83e1-676033035c9c",
        "outputId": "47bab13e-4e12-405f-bb56-86a5498eb3a8"
      },
      "outputs": [
        {
          "data": {
            "text/plain": [
              "<function cmath.sqrt(z, /)>"
            ]
          },
          "execution_count": 72,
          "metadata": {},
          "output_type": "execute_result"
        }
      ],
      "source": [
        "c_sqrt"
      ]
    },
    {
      "cell_type": "markdown",
      "id": "24cc814e-5903-4054-907f-705280f0e901",
      "metadata": {
        "id": "24cc814e-5903-4054-907f-705280f0e901"
      },
      "source": [
        "At the end of the day, the module is alwys loaded and cached (`sys.modules`), these differnet variants of the `import` statement merely determine what symbols are added to our module (global) namespace. That's it.\n",
        "\n",
        "It's a little different for packages as we'll see later."
      ]
    },
    {
      "cell_type": "markdown",
      "id": "48423939-1caf-4508-b53a-1b7d6d77b18e",
      "metadata": {
        "id": "48423939-1caf-4508-b53a-1b7d6d77b18e"
      },
      "source": [
        "**Efficiency**\n",
        "\n",
        "The final thing we need to look at is often mentioned in various blog posts and online discussions.\n",
        "\n",
        "`import variants #1` is more \"efficient\" than `import variant #2`\n",
        "\n",
        "Maybe so, but realistically by how much?\n",
        "\n",
        "Or even how the following is terribly wrong because it re-imports the `math` module **every** time `my_func` is called:"
      ]
    },
    {
      "cell_type": "code",
      "execution_count": null,
      "id": "62848338-c98f-4d09-9385-8a03aaf58970",
      "metadata": {
        "id": "62848338-c98f-4d09-9385-8a03aaf58970"
      },
      "outputs": [],
      "source": [
        "def my_func(a):\n",
        "    import math\n",
        "    return math.sqrt(a)"
      ]
    },
    {
      "cell_type": "markdown",
      "id": "c66b6c47-0441-4288-b916-e2705508203d",
      "metadata": {
        "id": "c66b6c47-0441-4288-b916-e2705508203d"
      },
      "source": [
        "From a readability standpoint, yes, that is **not** a good idea. Muvh better to put all your imports at the top of the module once in a location where any reader can easily see all your module dependencies.\n",
        "\n",
        "But as dar as reloading the module, you should now understand that's absolutely not true. Instead, it has to do a dictionary lookup in the `sys.modules` dictionary, not reload the entire module after the first load has occured!\n",
        "\n",
        "Dictionary lookups are blazingly fast in Python - so, yes, there is some overhead, but not as much as you may think.\n",
        "\n",
        "So, let's write some timing code to test these things and see how they compare.\n",
        "\n",
        "We should consider both relative speed differences as well as absolute speed differences.\n",
        "\n",
        "If you try to optimize your code and end up reducing that code's speed by 50 % that sounds good. But what if the original code ran in 1 s. Now it runs in 0.5 s. How long does the total program run? Down from 30 s to 29.5 s?\n",
        "\n",
        "Things are relative..."
      ]
    },
    {
      "cell_type": "code",
      "execution_count": null,
      "id": "541b46b3-8f7e-4949-b06f-f4548e8914af",
      "metadata": {
        "id": "541b46b3-8f7e-4949-b06f-f4548e8914af"
      },
      "outputs": [],
      "source": [
        "from time import perf_counter"
      ]
    },
    {
      "cell_type": "markdown",
      "id": "935804ef-7990-482a-b5a0-1050fb1f7954",
      "metadata": {
        "id": "935804ef-7990-482a-b5a0-1050fb1f7954"
      },
      "source": [
        "Yes, I'm using a `from` import - for readability and typing reasons. How many other modules are out there where I run rhe risk of clobbering `perf_counter`? I can't think of one. Certainly not in any imports I'm going to be using here. It's such a unique name, I feel pretty safe!\n",
        "\n",
        "I'm also going to write a small utility function that compares two timings to each other:"
      ]
    },
    {
      "cell_type": "code",
      "execution_count": null,
      "id": "00ca2364-f319-486b-901b-39b477c7aedf",
      "metadata": {
        "id": "00ca2364-f319-486b-901b-39b477c7aedf"
      },
      "outputs": [],
      "source": [
        "from collections import namedtuple\n",
        "\n",
        "Timings = namedtuple('Timings', 'timing_1 timing_2 abs_diff rel_diff_perc')\n",
        "def compare_timings(timing1, timing2):\n",
        "    rel_diff = (timing2 - timing1)/timing1 * 100\n",
        "    \n",
        "    timings = Timings(round(timing1, 1),\n",
        "                      round(timing2, 1),\n",
        "                      round(timing2 - timing1, 2),\n",
        "                      round(rel_diff, 2))\n",
        "    return timings"
      ]
    },
    {
      "cell_type": "markdown",
      "id": "e50149ba-f859-456a-a886-48acd757a2f7",
      "metadata": {
        "id": "e50149ba-f859-456a-a886-48acd757a2f7"
      },
      "source": [
        "**Timing using fully qualified `module.symbol`**"
      ]
    },
    {
      "cell_type": "code",
      "execution_count": null,
      "id": "c41e5e31-5d23-4455-9685-f432a1e5da18",
      "metadata": {
        "id": "c41e5e31-5d23-4455-9685-f432a1e5da18"
      },
      "outputs": [],
      "source": [
        "test_repeats = 10_000_000"
      ]
    },
    {
      "cell_type": "code",
      "execution_count": null,
      "id": "fd557998-439a-461a-80e4-8f8c117a4159",
      "metadata": {
        "id": "fd557998-439a-461a-80e4-8f8c117a4159",
        "outputId": "fe44064b-ff1f-4d47-b1c4-fa796e809ded"
      },
      "outputs": [
        {
          "name": "stdout",
          "output_type": "stream",
          "text": [
            "Elapsed: 2.3283754000003682\n"
          ]
        }
      ],
      "source": [
        "import math\n",
        "\n",
        "start = perf_counter()\n",
        "for _ in range(test_repeats):\n",
        "    math.sqrt(2)\n",
        "end = perf_counter()\n",
        "elapsed_fully_qualified = end - start\n",
        "print(f'Elapsed: {elapsed_fully_qualified}')"
      ]
    },
    {
      "cell_type": "markdown",
      "id": "e24c0ff7-bf54-46db-a7fd-0e518ac43835",
      "metadata": {
        "id": "e24c0ff7-bf54-46db-a7fd-0e518ac43835"
      },
      "source": [
        "**Timing using a directly imported symbol name:**"
      ]
    },
    {
      "cell_type": "code",
      "execution_count": null,
      "id": "dc117a1d-8da8-41e8-a7f8-9882363ede36",
      "metadata": {
        "id": "dc117a1d-8da8-41e8-a7f8-9882363ede36",
        "outputId": "e6b4c386-5c71-4872-e444-d398fafdd53e"
      },
      "outputs": [
        {
          "name": "stdout",
          "output_type": "stream",
          "text": [
            "Elapsed: 2.009439999999813\n"
          ]
        }
      ],
      "source": [
        "from math import sqrt\n",
        "\n",
        "start = perf_counter()\n",
        "for _ in range(test_repeats):\n",
        "    sqrt(2)\n",
        "end = perf_counter()\n",
        "elapsed_direct_symbol = end - start\n",
        "print(f'Elapsed: {elapsed_direct_symbol}')"
      ]
    },
    {
      "cell_type": "markdown",
      "id": "2a71fc12-7e58-4eb5-8915-873a7583ea7e",
      "metadata": {
        "id": "2a71fc12-7e58-4eb5-8915-873a7583ea7e"
      },
      "source": [
        "Let's see the relatibe and absolute time differences:"
      ]
    },
    {
      "cell_type": "code",
      "execution_count": null,
      "id": "4bc924f1-5b8c-4df1-b190-25c6792920cd",
      "metadata": {
        "id": "4bc924f1-5b8c-4df1-b190-25c6792920cd",
        "outputId": "fc5b7ecd-a81b-4a02-c179-7b05ec3e7949"
      },
      "outputs": [
        {
          "data": {
            "text/plain": [
              "Timings(timing_1=2.3, timing_2=2.0, abs_diff=-0.32, rel_diff_perc=-13.7)"
            ]
          },
          "execution_count": 80,
          "metadata": {},
          "output_type": "execute_result"
        }
      ],
      "source": [
        "compare_timings(elapsed_fully_qualified, elapsed_direct_symbol)"
      ]
    },
    {
      "cell_type": "markdown",
      "id": "858a86ef-695d-4f7e-b01f-5e834ed73cf4",
      "metadata": {
        "id": "858a86ef-695d-4f7e-b01f-5e834ed73cf4"
      },
      "source": [
        "Definitely faster - but in absolute terms I really did not save a whole lot -over 10,000,000 iterations!\n",
        "\n",
        "**Timing using a function (fully qualified symbol)**"
      ]
    },
    {
      "cell_type": "code",
      "execution_count": null,
      "id": "e3e7c95a-4471-4c72-83fb-a9ca3b72dcff",
      "metadata": {
        "id": "e3e7c95a-4471-4c72-83fb-a9ca3b72dcff",
        "outputId": "e10ae611-5e9f-42bf-967f-c7b2a21b9f2a"
      },
      "outputs": [
        {
          "name": "stdout",
          "output_type": "stream",
          "text": [
            "Elapsed: 3.2146575000006123\n"
          ]
        }
      ],
      "source": [
        "import math\n",
        "\n",
        "def func():\n",
        "    math.sqrt(2)\n",
        "    \n",
        "start = perf_counter()\n",
        "for _ in range(test_repeats):\n",
        "    func()\n",
        "end = perf_counter()\n",
        "elapsed_func_fully_qualified = end - start\n",
        "print(f'Elapsed: {elapsed_func_fully_qualified}')"
      ]
    },
    {
      "cell_type": "code",
      "execution_count": null,
      "id": "3124eb7a-4f29-4ba7-aaef-7759ce458abe",
      "metadata": {
        "id": "3124eb7a-4f29-4ba7-aaef-7759ce458abe",
        "outputId": "c4d7e0ab-1a11-484a-cf82-017bee656660"
      },
      "outputs": [
        {
          "data": {
            "text/plain": [
              "Timings(timing_1=2.3, timing_2=2.0, abs_diff=-0.32, rel_diff_perc=-13.7)"
            ]
          },
          "execution_count": 82,
          "metadata": {},
          "output_type": "execute_result"
        }
      ],
      "source": [
        "compare_timings(elapsed_fully_qualified, elapsed_direct_symbol)"
      ]
    },
    {
      "cell_type": "markdown",
      "id": "5f1a47fe-f1c6-4400-a271-46edfe72681d",
      "metadata": {
        "id": "5f1a47fe-f1c6-4400-a271-46edfe72681d"
      },
      "source": [
        "That was slower because of the function call overhead, but not by much in absoulte terms considering I called `func()` 10,000,000 times!\n",
        "\n",
        "**Timing using a function (direct symbol)**"
      ]
    },
    {
      "cell_type": "code",
      "execution_count": null,
      "id": "a1799b22-68bc-4325-9209-88c06a0a28ee",
      "metadata": {
        "id": "a1799b22-68bc-4325-9209-88c06a0a28ee",
        "outputId": "4f49b4e2-9c6f-4aec-eef6-d01551c5b88b"
      },
      "outputs": [
        {
          "name": "stdout",
          "output_type": "stream",
          "text": [
            "Elapsed: 3.0576263000002655\n"
          ]
        }
      ],
      "source": [
        "from math import sqrt\n",
        "\n",
        "def func():\n",
        "    sqrt(2)\n",
        "    \n",
        "start = perf_counter()\n",
        "for _ in range(test_repeats):\n",
        "    func()\n",
        "end = perf_counter()\n",
        "elapsed_func_direct_symbol = end - start\n",
        "print(f'Elapsed: {elapsed_func_direct_symbol}')"
      ]
    },
    {
      "cell_type": "code",
      "execution_count": null,
      "id": "ff547fd9-b31b-48b1-b131-b199ffe44bd7",
      "metadata": {
        "id": "ff547fd9-b31b-48b1-b131-b199ffe44bd7",
        "outputId": "712aca92-08d7-4b24-8477-f5e969229d50"
      },
      "outputs": [
        {
          "data": {
            "text/plain": [
              "Timings(timing_1=2.3, timing_2=2.0, abs_diff=-0.32, rel_diff_perc=-13.7)"
            ]
          },
          "execution_count": 84,
          "metadata": {},
          "output_type": "execute_result"
        }
      ],
      "source": [
        "compare_timings(elapsed_fully_qualified, elapsed_direct_symbol)"
      ]
    },
    {
      "cell_type": "markdown",
      "id": "a451d268-d5a8-4567-9b37-f701452a9022",
      "metadata": {
        "id": "a451d268-d5a8-4567-9b37-f701452a9022"
      },
      "source": [
        "Slower, but again not by much in absolute terms considering this was for 10,000,000 iterations.\n",
        "\n",
        "**Timing using a nested import (fully qualified symbol)**"
      ]
    },
    {
      "cell_type": "code",
      "execution_count": null,
      "id": "7309fbaa-e6c7-42a5-a93f-9efac1588196",
      "metadata": {
        "id": "7309fbaa-e6c7-42a5-a93f-9efac1588196",
        "outputId": "6df7ab84-dce9-4916-ca17-bfa4c9e88383"
      },
      "outputs": [
        {
          "name": "stdout",
          "output_type": "stream",
          "text": [
            "Elapsed: 5.013854300001185\n"
          ]
        }
      ],
      "source": [
        "def func():\n",
        "    import math\n",
        "    math.sqrt(2)\n",
        "\n",
        "start = perf_counter()\n",
        "for _ in range(test_repeats):\n",
        "    func()\n",
        "end = perf_counter()\n",
        "elapsed_nested_fully_qualified = end - start\n",
        "print(f'Elapsed: {elapsed_nested_fully_qualified}')"
      ]
    },
    {
      "cell_type": "markdown",
      "id": "3dd0ea55-915c-459a-ae45-a350be4f396d",
      "metadata": {
        "id": "3dd0ea55-915c-459a-ae45-a350be4f396d"
      },
      "source": [
        "So definitely slower. But in absolute terms, for 10,000,000 iterations?\n",
        "\n",
        "**Timing using a nested import (direct symbol)**"
      ]
    },
    {
      "cell_type": "code",
      "execution_count": null,
      "id": "00c5ce7d-9e11-4b17-a61c-57dcb6cad6ad",
      "metadata": {
        "id": "00c5ce7d-9e11-4b17-a61c-57dcb6cad6ad",
        "outputId": "a5abad7c-9f0f-43d5-e38c-1080ae461237"
      },
      "outputs": [
        {
          "name": "stdout",
          "output_type": "stream",
          "text": [
            "Elapsed: 11.785430600000836\n"
          ]
        }
      ],
      "source": [
        "def func():\n",
        "    from math import sqrt\n",
        "    sqrt(2)\n",
        "\n",
        "start = perf_counter()\n",
        "for _ in range(test_repeats):\n",
        "    func()\n",
        "end = perf_counter()\n",
        "elapsed_nested_direct_symbol = end - start\n",
        "print(f'Elapsed: {elapsed_nested_direct_symbol}')"
      ]
    },
    {
      "cell_type": "code",
      "execution_count": null,
      "id": "b14a5661-2c03-46c1-b342-8a0a954bdca9",
      "metadata": {
        "id": "b14a5661-2c03-46c1-b342-8a0a954bdca9",
        "outputId": "94f8ae2e-ca86-4523-b48d-54d422b39cad"
      },
      "outputs": [
        {
          "data": {
            "text/plain": [
              "Timings(timing_1=5.0, timing_2=11.8, abs_diff=6.77, rel_diff_perc=135.06)"
            ]
          },
          "execution_count": 87,
          "metadata": {},
          "output_type": "execute_result"
        }
      ],
      "source": [
        "compare_timings(elapsed_nested_fully_qualified, elapsed_nested_direct_symbol)"
      ]
    },
    {
      "cell_type": "markdown",
      "id": "d2a00bc9-db57-4dca-90b6-f56defc32627",
      "metadata": {
        "id": "d2a00bc9-db57-4dca-90b6-f56defc32627"
      },
      "source": [
        "That was significantly slower! Even in absolute terms this is starting to get sloooow.\n",
        "\n",
        "So does this mean you should put imports inside functions?\n",
        "\n",
        "No, of course not - follow the convention, it makes code far more readable, and of course optimize your code only once you have identified the bottlenecks.\n",
        "\n",
        "Does this mean you shouldn't care at all about the performance of your code based on the import variants?\n",
        "\n",
        "Again, of cource not - you absolutely should.\n",
        "\n",
        "But, there is absoultely no reason to re-write your code from\n",
        "\n",
        "`import math math.sqrt`\n",
        "\n",
        "to \n",
        "\n",
        "`from math import sqrt sqrt(2)`\n",
        "\n",
        "for **speed** reasons if during the entire lifetime of your application you only call that function 100 times... or 10,000,000 times.\n",
        "\n",
        "Really depends on your circumstance - be aware of it, but don't try to optimize code until you know **where** you **need** to optimize!"
      ]
    },
    {
      "cell_type": "markdown",
      "id": "a9999121-2e3e-4f93-80d8-e92c8b765654",
      "metadata": {
        "id": "a9999121-2e3e-4f93-80d8-e92c8b765654"
      },
      "source": [
        "---\n",
        "**BE CAREFUL!**\n",
        "\n",
        "*I've seen people refactor parts of their code for sub-second improvements, when, in fact, the largest bottleneck was that they were opening and closing database connections at every read and write instead of pooling connections or something like that.*\n",
        "\n",
        "And\n",
        "\n",
        "`from module import *`\n",
        "\n",
        "has its uses as we'll see later when we discuss packages.\n",
        "\n",
        "It's not evil, just not very safe - again depends on your circumstance."
      ]
    },
    {
      "cell_type": "markdown",
      "id": "2a88235e-fa99-4f59-99d3-9a8527e1aec0",
      "metadata": {
        "id": "2a88235e-fa99-4f59-99d3-9a8527e1aec0"
      },
      "source": [
        "### 05 - Reloading Modules"
      ]
    },
    {
      "cell_type": "markdown",
      "id": "8f2564c3-3310-4c44-9c03-db4fef750fc5",
      "metadata": {
        "id": "8f2564c3-3310-4c44-9c03-db4fef750fc5"
      },
      "source": [
        "Reloading modules is something you may find yourself wanting to do if you modify the code for a module while your program is running.\n",
        "\n",
        "Although you technically can do so, and I'll show you two ways of doing it, it's not recommended. Let me show you how to do it first, and then the pitfalls with both methods.\n",
        "\n",
        "The safest is just to make your code changes, and restart your app.\n",
        "\n",
        "Even if yout are trying to monkey patch (change at run-time) a code module and you want everyone who uses that module to \"see\" the change, they very well may not, depending on how they are accessing your module.\n",
        "\n",
        "As usual, working with external modules in Jupyter is not the easiest thing in the world, so I'm just going to create simple modules right from inside the notebook. You can just create files in the same folder as your notebook/main app instead."
      ]
    },
    {
      "cell_type": "code",
      "execution_count": null,
      "id": "022fc9c6-6e5b-49b8-81c8-e199f26624a7",
      "metadata": {
        "id": "022fc9c6-6e5b-49b8-81c8-e199f26624a7"
      },
      "outputs": [],
      "source": [
        "import os\n",
        "\n",
        "def create_module_file(module_name, **kwargs):\n",
        "    '''Create a module file named .py.\n",
        "    Module has a single function (print_values) that will print\n",
        "    out the supplied (stringified) kwargs.\n",
        "    '''\n",
        "    \n",
        "    module_file_name = f'{module_name}.py'\n",
        "    module_rel_file_path = module_file_name\n",
        "    module_abs_file_path = os.path.abspath(module_rel_file_path)\n",
        "    \n",
        "    with open(module_abs_file_path, 'w') as f:\n",
        "        f.write(f'# {module_name}.py\\n\\n')\n",
        "        f.write(f\"print('running {module_file_name}...')\\n\\n\")\n",
        "        f.write(f'def print_values():\\n')\n",
        "        for key, value in kwargs.items():\n",
        "            f.write(f\"\\tprint('{str(key)}', '{str(value)}')\\n\")"
      ]
    },
    {
      "cell_type": "code",
      "execution_count": null,
      "id": "d3d62e64-9b5b-41a2-8267-57f90438e4a5",
      "metadata": {
        "id": "d3d62e64-9b5b-41a2-8267-57f90438e4a5"
      },
      "outputs": [],
      "source": [
        "create_module_file('test', k1=10, k2='python')"
      ]
    },
    {
      "cell_type": "markdown",
      "id": "a998de0c-160e-41c0-9c1c-9c5bbe834fd9",
      "metadata": {
        "id": "a998de0c-160e-41c0-9c1c-9c5bbe834fd9"
      },
      "source": [
        "This should have resulted in the creation of a file named `test.py` in your notebook/project directory that should look like this:\n",
        "\n",
        "```\n",
        "# test.py`\n",
        "\n",
        "print('running test.py...')`\n",
        "\n",
        "def print_values(): \n",
        "    print('k1','10') \n",
        "    print('k2', 'python')\n",
        "```\n",
        "\n",
        "Now let's go ahead and import it using a plain `import`:"
      ]
    },
    {
      "cell_type": "code",
      "execution_count": null,
      "id": "9e787fad-30ac-483b-800d-679f517cc702",
      "metadata": {
        "id": "9e787fad-30ac-483b-800d-679f517cc702"
      },
      "outputs": [],
      "source": [
        "import test"
      ]
    },
    {
      "cell_type": "code",
      "execution_count": null,
      "id": "b3b0f60a-231d-4bf7-9db9-bb49e6ce6e45",
      "metadata": {
        "id": "b3b0f60a-231d-4bf7-9db9-bb49e6ce6e45",
        "outputId": "08a44d9f-5d9a-445f-cc4f-c63394812092"
      },
      "outputs": [
        {
          "data": {
            "text/plain": [
              "<module 'test' from 'C:\\\\Users\\\\aserd\\\\Python 3 Deep Dive ALL\\\\test.py'>"
            ]
          },
          "execution_count": 21,
          "metadata": {},
          "output_type": "execute_result"
        }
      ],
      "source": [
        "test"
      ]
    },
    {
      "cell_type": "markdown",
      "id": "239527c1-f7eb-4d19-9002-b3a52d2a0602",
      "metadata": {
        "id": "239527c1-f7eb-4d19-9002-b3a52d2a0602"
      },
      "source": [
        "And we can now call the `print_values` function:"
      ]
    },
    {
      "cell_type": "code",
      "execution_count": null,
      "id": "59918cf8-3de0-4217-aebd-bb11fe1f5f5e",
      "metadata": {
        "id": "59918cf8-3de0-4217-aebd-bb11fe1f5f5e",
        "outputId": "d3f67267-fa0c-4682-dc23-2dafb96318de"
      },
      "outputs": [
        {
          "name": "stdout",
          "output_type": "stream",
          "text": [
            "k1 10\n",
            "k2 python\n"
          ]
        }
      ],
      "source": [
        "test.print_values()"
      ]
    },
    {
      "cell_type": "markdown",
      "id": "f553f3b6-6433-4a96-aa46-f2a79c1b56a0",
      "metadata": {
        "id": "f553f3b6-6433-4a96-aa46-f2a79c1b56a0"
      },
      "source": [
        "Now suppose, we modify the module by adding an extra key:"
      ]
    },
    {
      "cell_type": "code",
      "execution_count": null,
      "id": "f0ecbf9f-c79a-4d5f-a751-14c395e767c6",
      "metadata": {
        "id": "f0ecbf9f-c79a-4d5f-a751-14c395e767c6"
      },
      "outputs": [],
      "source": [
        "create_module_file('test', k1=10, k2='python', k3='cheese')"
      ]
    },
    {
      "cell_type": "code",
      "execution_count": null,
      "id": "778b2087-53b1-4dbb-8aad-506e8f346dc6",
      "metadata": {
        "id": "778b2087-53b1-4dbb-8aad-506e8f346dc6",
        "outputId": "abad9980-272a-4ed5-f60d-9807c5aac8ee"
      },
      "outputs": [
        {
          "name": "stdout",
          "output_type": "stream",
          "text": [
            "k1 10\n",
            "k2 python\n"
          ]
        }
      ],
      "source": [
        "test.print_values()"
      ]
    },
    {
      "cell_type": "code",
      "execution_count": null,
      "id": "11a3d2ef-4c34-43e6-af78-7550840a5db0",
      "metadata": {
        "id": "11a3d2ef-4c34-43e6-af78-7550840a5db0",
        "outputId": "67446342-a9c3-4181-b046-f2e1d222bdf2"
      },
      "outputs": [
        {
          "data": {
            "text/plain": [
              "1959016424128"
            ]
          },
          "execution_count": 25,
          "metadata": {},
          "output_type": "execute_result"
        }
      ],
      "source": [
        "id(test)"
      ]
    },
    {
      "cell_type": "markdown",
      "id": "42028aed-7a31-43bc-b236-956a77fbf2f2",
      "metadata": {
        "id": "42028aed-7a31-43bc-b236-956a77fbf2f2"
      },
      "source": [
        "The module object is the same one we initially loaded - our namespace and `sys.modules` still points to that old one. Somehow we have to force Python reload the module.\n",
        "\n",
        "At this point, I hope you're thinking \"let's just remove it from `sys.modules`, this way Python will not see it in the cache and rerun the import.\n",
        "\n",
        "That's a good idea - let's try that."
      ]
    },
    {
      "cell_type": "code",
      "execution_count": null,
      "id": "ba3c5ac5-ef9b-4947-ba74-0fc5f04a282a",
      "metadata": {
        "id": "ba3c5ac5-ef9b-4947-ba74-0fc5f04a282a"
      },
      "outputs": [],
      "source": [
        "import sys\n",
        "del sys.modules['test']"
      ]
    },
    {
      "cell_type": "code",
      "execution_count": null,
      "id": "694cdd3f-19cb-4899-8e43-3c9ade4182af",
      "metadata": {
        "id": "694cdd3f-19cb-4899-8e43-3c9ade4182af",
        "outputId": "8cf4deaa-6f1b-4d68-ae00-3ddebcef62e2"
      },
      "outputs": [
        {
          "name": "stdout",
          "output_type": "stream",
          "text": [
            "running test.py...\n"
          ]
        }
      ],
      "source": [
        "import test"
      ]
    },
    {
      "cell_type": "code",
      "execution_count": null,
      "id": "35934ce9-b8e6-4348-99f2-af711e13f5be",
      "metadata": {
        "id": "35934ce9-b8e6-4348-99f2-af711e13f5be",
        "outputId": "7cf3ba74-084f-489c-e83c-821df1ce8bdc"
      },
      "outputs": [
        {
          "name": "stdout",
          "output_type": "stream",
          "text": [
            "k1 10\n",
            "k2 python\n",
            "k3 cheese\n"
          ]
        }
      ],
      "source": [
        "test.print_values()"
      ]
    },
    {
      "cell_type": "markdown",
      "id": "4cccf15c-e15a-4f68-bbe6-0ed9005b272e",
      "metadata": {
        "id": "4cccf15c-e15a-4f68-bbe6-0ed9005b272e"
      },
      "source": [
        "and, in fact, the `id` has also changed:"
      ]
    },
    {
      "cell_type": "code",
      "execution_count": null,
      "id": "c5c52822-2aca-4b84-af33-847000de5c07",
      "metadata": {
        "id": "c5c52822-2aca-4b84-af33-847000de5c07",
        "outputId": "e8fed8f3-fa74-461a-ef6d-ab6084929a5e"
      },
      "outputs": [
        {
          "data": {
            "text/plain": [
              "1959016399392"
            ]
          },
          "execution_count": 29,
          "metadata": {},
          "output_type": "execute_result"
        }
      ],
      "source": [
        "id(test)"
      ]
    },
    {
      "cell_type": "markdown",
      "id": "1961571a-ac7b-4368-9841-2c5acbac5d28",
      "metadata": {
        "id": "1961571a-ac7b-4368-9841-2c5acbac5d28"
      },
      "source": [
        "That worked!\n",
        "\n",
        "But here's the problem with that approach.\n",
        "\n",
        "Suppose some other module in your program has already loaded that module using\n",
        "\n",
        "`import test`\n",
        "\n",
        "What is in their namespace? A variable (symbol) called `test` that points to which object? The one that was first loaded, not the second one we just put back into the `sys.modules` dict.\n",
        "\n",
        "In other words, they have no idea the module changed and they'll just keep using the old object at the original memory address.\n",
        "\n",
        "Fortunately, `importlib` has a way to reload the contents of the module object without affecting the memory address.\n",
        "\n",
        "That is already much better.\n",
        "\n",
        "Let's try it:"
      ]
    },
    {
      "cell_type": "code",
      "execution_count": null,
      "id": "2e8e22be-705f-4c09-919b-334d8f28d9ee",
      "metadata": {
        "id": "2e8e22be-705f-4c09-919b-334d8f28d9ee",
        "outputId": "2d3e353e-f663-4efd-99af-0229e067b349"
      },
      "outputs": [
        {
          "data": {
            "text/plain": [
              "1959016399392"
            ]
          },
          "execution_count": 30,
          "metadata": {},
          "output_type": "execute_result"
        }
      ],
      "source": [
        "id(test)"
      ]
    },
    {
      "cell_type": "code",
      "execution_count": null,
      "id": "c489fd3a-d5bb-4aa5-8069-28d8cc796cb8",
      "metadata": {
        "id": "c489fd3a-d5bb-4aa5-8069-28d8cc796cb8",
        "outputId": "0367d124-2650-4665-ec73-4d0b5daca76a"
      },
      "outputs": [
        {
          "name": "stdout",
          "output_type": "stream",
          "text": [
            "k1 10\n",
            "k2 python\n",
            "k3 cheese\n"
          ]
        }
      ],
      "source": [
        "test.print_values()"
      ]
    },
    {
      "cell_type": "code",
      "execution_count": null,
      "id": "efd5858b-babd-43fd-91b9-e56265faa176",
      "metadata": {
        "id": "efd5858b-babd-43fd-91b9-e56265faa176"
      },
      "outputs": [],
      "source": [
        "create_module_file('test', k1=10, k2='python',\n",
        "                   k3='cheese', k4='parrots')"
      ]
    },
    {
      "cell_type": "code",
      "execution_count": null,
      "id": "efb7d3ae-8e3e-4bb1-84b2-11a56adcff01",
      "metadata": {
        "id": "efb7d3ae-8e3e-4bb1-84b2-11a56adcff01",
        "outputId": "07ffaa8d-411c-480b-f0bc-5b84c20ae44a"
      },
      "outputs": [
        {
          "name": "stdout",
          "output_type": "stream",
          "text": [
            "running test.py...\n"
          ]
        },
        {
          "data": {
            "text/plain": [
              "<module 'test' from 'C:\\\\Users\\\\aserd\\\\Python 3 Deep Dive ALL\\\\test.py'>"
            ]
          },
          "execution_count": 33,
          "metadata": {},
          "output_type": "execute_result"
        }
      ],
      "source": [
        "import importlib\n",
        "importlib.reload(test)"
      ]
    },
    {
      "cell_type": "markdown",
      "id": "9264f4b2-780d-44ee-98c2-38f431280302",
      "metadata": {
        "id": "9264f4b2-780d-44ee-98c2-38f431280302"
      },
      "source": [
        "As we can see the module was executed...\n",
        "\n",
        "what about the `id`?"
      ]
    },
    {
      "cell_type": "code",
      "execution_count": null,
      "id": "500c2145-1d7f-41cf-bbbc-7c7256471dad",
      "metadata": {
        "id": "500c2145-1d7f-41cf-bbbc-7c7256471dad",
        "outputId": "d589ff3c-ba02-4797-aa90-36d01a31a5ff"
      },
      "outputs": [
        {
          "data": {
            "text/plain": [
              "1959016399392"
            ]
          },
          "execution_count": 34,
          "metadata": {},
          "output_type": "execute_result"
        }
      ],
      "source": [
        "id(test)"
      ]
    },
    {
      "cell_type": "markdown",
      "id": "927dde63-ca46-41f2-892c-533ca51d3301",
      "metadata": {
        "id": "927dde63-ca46-41f2-892c-533ca51d3301"
      },
      "source": [
        "Stayed the same...\n",
        "\n",
        "So now, let's call that function:"
      ]
    },
    {
      "cell_type": "code",
      "execution_count": null,
      "id": "bfc388b9-c69b-4c00-ab51-b94717c2503d",
      "metadata": {
        "id": "bfc388b9-c69b-4c00-ab51-b94717c2503d",
        "outputId": "d1700e99-a2c3-4073-b7e4-de4346678391"
      },
      "outputs": [
        {
          "name": "stdout",
          "output_type": "stream",
          "text": [
            "k1 10\n",
            "k2 python\n",
            "k3 cheese\n",
            "k4 parrots\n"
          ]
        }
      ],
      "source": [
        "test.print_values()"
      ]
    },
    {
      "cell_type": "markdown",
      "id": "4d189a13-383c-48ab-8b26-54f0f062694e",
      "metadata": {
        "id": "4d189a13-383c-48ab-8b26-54f0f062694e"
      },
      "source": [
        "As you can see, we have the correct output. And we did not have to reimport the module, which means any other module that had imported the old object, now is going to automatically be using the new \"version\" of the same object (same memory address)\n",
        "\n",
        "So, all's well that ends well...\n",
        "\n",
        "Not quite. :-)\n",
        "\n",
        "Consider this example instead, we use a `from` style import:"
      ]
    },
    {
      "cell_type": "code",
      "execution_count": null,
      "id": "f4ffa045-7c87-411e-8979-fbe2f7e67fd2",
      "metadata": {
        "id": "f4ffa045-7c87-411e-8979-fbe2f7e67fd2"
      },
      "outputs": [],
      "source": [
        "create_module_file('test2', k1='python')"
      ]
    },
    {
      "cell_type": "code",
      "execution_count": null,
      "id": "387b1e62-634b-4683-ae1d-dddc50734165",
      "metadata": {
        "id": "387b1e62-634b-4683-ae1d-dddc50734165",
        "outputId": "770cb4a7-602a-4548-946a-c51f211b5c3e"
      },
      "outputs": [
        {
          "name": "stdout",
          "output_type": "stream",
          "text": [
            "running test2.py...\n"
          ]
        }
      ],
      "source": [
        "from test2 import print_values"
      ]
    },
    {
      "cell_type": "code",
      "execution_count": null,
      "id": "cd12906d-c2dd-4f6c-9a1e-3b68b7599da9",
      "metadata": {
        "id": "cd12906d-c2dd-4f6c-9a1e-3b68b7599da9",
        "outputId": "d88d12f3-21d6-4e53-f735-75775a976a83"
      },
      "outputs": [
        {
          "name": "stdout",
          "output_type": "stream",
          "text": [
            "k1 python\n"
          ]
        }
      ],
      "source": [
        "print_values()"
      ]
    },
    {
      "cell_type": "markdown",
      "id": "6a085bb4-ad61-41f5-b37a-19c9fc1f56e2",
      "metadata": {
        "id": "6a085bb4-ad61-41f5-b37a-19c9fc1f56e2"
      },
      "source": [
        "Works great.\n",
        "\n",
        "What's the `id` of `print_values`?"
      ]
    },
    {
      "cell_type": "code",
      "execution_count": null,
      "id": "699aaa99-1d08-4378-ac17-25c2e06ca06e",
      "metadata": {
        "id": "699aaa99-1d08-4378-ac17-25c2e06ca06e",
        "outputId": "899c16eb-6cb5-4d15-8bc0-309868f4bc38"
      },
      "outputs": [
        {
          "data": {
            "text/plain": [
              "1959016838912"
            ]
          },
          "execution_count": 39,
          "metadata": {},
          "output_type": "execute_result"
        }
      ],
      "source": [
        "id(print_values)"
      ]
    },
    {
      "cell_type": "markdown",
      "id": "10ce5ea3-e65a-4941-a1fb-1cf5d06a2fb9",
      "metadata": {
        "id": "10ce5ea3-e65a-4941-a1fb-1cf5d06a2fb9"
      },
      "source": [
        "Now let's modify `test2.py`:"
      ]
    },
    {
      "cell_type": "code",
      "execution_count": null,
      "id": "e881bf73-3b88-4523-bf0d-5eb1c3c11586",
      "metadata": {
        "id": "e881bf73-3b88-4523-bf0d-5eb1c3c11586"
      },
      "outputs": [],
      "source": [
        "create_module_file('test2', k1='python', k2='cheese')"
      ]
    },
    {
      "cell_type": "markdown",
      "id": "f81b19c2-0fa1-4d5c-930f-edd2a5f21a8c",
      "metadata": {
        "id": "f81b19c2-0fa1-4d5c-930f-edd2a5f21a8c"
      },
      "source": [
        "And reload it using `importlib.reload`:"
      ]
    },
    {
      "cell_type": "code",
      "execution_count": null,
      "id": "7f141db0-848c-4e4d-bd7b-52b4888591ed",
      "metadata": {
        "id": "7f141db0-848c-4e4d-bd7b-52b4888591ed",
        "outputId": "5078a69b-40b9-4ef0-89ea-eab95f71735b"
      },
      "outputs": [
        {
          "ename": "NameError",
          "evalue": "name 'test2' is not defined",
          "output_type": "error",
          "traceback": [
            "\u001b[1;31m---------------------------------------------------------------------------\u001b[0m",
            "\u001b[1;31mNameError\u001b[0m                                 Traceback (most recent call last)",
            "Input \u001b[1;32mIn [41]\u001b[0m, in \u001b[0;36m<cell line: 1>\u001b[1;34m()\u001b[0m\n\u001b[1;32m----> 1\u001b[0m importlib\u001b[38;5;241m.\u001b[39mreload(\u001b[43mtest2\u001b[49m)\n",
            "\u001b[1;31mNameError\u001b[0m: name 'test2' is not defined"
          ]
        }
      ],
      "source": [
        "importlib.reload(test2)"
      ]
    },
    {
      "cell_type": "markdown",
      "id": "39554e7e-906d-4112-a07f-0c1290aea678",
      "metadata": {
        "id": "39554e7e-906d-4112-a07f-0c1290aea678"
      },
      "source": [
        "Ok, so we don't have `test2` in our namespace... Easy enough, let's import it directly (or get it out of `sys.modules`):"
      ]
    },
    {
      "cell_type": "code",
      "execution_count": null,
      "id": "57c73483-1804-427a-a7fa-504f2e560b93",
      "metadata": {
        "id": "57c73483-1804-427a-a7fa-504f2e560b93"
      },
      "outputs": [],
      "source": [
        "import test2"
      ]
    },
    {
      "cell_type": "code",
      "execution_count": null,
      "id": "58ac5b87-64dc-4a6a-a936-f4307ebfc562",
      "metadata": {
        "id": "58ac5b87-64dc-4a6a-a936-f4307ebfc562",
        "outputId": "fca043ae-ef8c-4fb6-ab17-d297eadccf6c"
      },
      "outputs": [
        {
          "name": "stdout",
          "output_type": "stream",
          "text": [
            "k1 python\n"
          ]
        }
      ],
      "source": [
        "test2.print_values()"
      ]
    },
    {
      "cell_type": "markdown",
      "id": "42ffdd3d-20fe-4e1c-b7b3-019de6a7cb34",
      "metadata": {
        "id": "42ffdd3d-20fe-4e1c-b7b3-019de6a7cb34"
      },
      "source": [
        "Ouch - that's not right!\n",
        "\n",
        "Let's look at the `id`s of those two functions, and compare them to what we had before we ran the reload:"
      ]
    },
    {
      "cell_type": "code",
      "execution_count": null,
      "id": "67815ba7-50c8-4ff9-8a77-ddfcc8dffdcc",
      "metadata": {
        "id": "67815ba7-50c8-4ff9-8a77-ddfcc8dffdcc",
        "outputId": "3d347e40-803e-4b56-824a-ac0e99ae4db1"
      },
      "outputs": [
        {
          "data": {
            "text/plain": [
              "1959016838912"
            ]
          },
          "execution_count": 44,
          "metadata": {},
          "output_type": "execute_result"
        }
      ],
      "source": [
        "id(test2.print_values)"
      ]
    },
    {
      "cell_type": "code",
      "execution_count": null,
      "id": "4017f959-5ece-4eb4-8e82-c9c731eaddc0",
      "metadata": {
        "id": "4017f959-5ece-4eb4-8e82-c9c731eaddc0",
        "outputId": "a938edf3-72cb-4871-dafd-99ffdafb4ea2"
      },
      "outputs": [
        {
          "data": {
            "text/plain": [
              "1959016838912"
            ]
          },
          "execution_count": 45,
          "metadata": {},
          "output_type": "execute_result"
        }
      ],
      "source": [
        "id(print_values)"
      ]
    },
    {
      "cell_type": "markdown",
      "id": "007844c5-f8eb-4f32-b18e-d127ef2f6482",
      "metadata": {
        "id": "007844c5-f8eb-4f32-b18e-d127ef2f6482"
      },
      "source": [
        "As you can see the `test2.print_values` function is a new object, but `print_values` **still** points to the old function that exists in the first \"version\" of `test2`.\n",
        "\n",
        "And that is why reloading is just not safe.\n",
        "\n",
        "If someone using your module binds directly to an attribute in your module, either via how they import:\n",
        "\n",
        "`from test2 import print_values`\n",
        "\n",
        "or even by doing something like this:\n",
        "\n",
        "`pv = test2.print_values`\n",
        "\n",
        "their binding is now set to a specific memory address.\n",
        "\n",
        "When you reload the module, the object `test2` has been mutated, and the `print_values` function is now a new object, but any bindings to the \"old\" version of the function remain.\n",
        "\n",
        "So, in general, stay away from reloading modules dynamically."
      ]
    },
    {
      "cell_type": "markdown",
      "id": "eeec7a73-38ab-4d41-8c20-5064a747a227",
      "metadata": {
        "id": "eeec7a73-38ab-4d41-8c20-5064a747a227"
      },
      "source": [
        "### 06 - Using `__main__`"
      ]
    },
    {
      "cell_type": "markdown",
      "id": "2c85e184-57a1-41c2-9011-d22271dc3871",
      "metadata": {
        "id": "2c85e184-57a1-41c2-9011-d22271dc3871"
      },
      "source": [
        "```\n",
        "#### main.py\n",
        "\n",
        "print(f'loading __main__: __name__ = {__name__}')\n",
        "```"
      ]
    },
    {
      "cell_type": "markdown",
      "id": "8766fffa-83d8-40cc-b631-8772b365b49c",
      "metadata": {
        "id": "8766fffa-83d8-40cc-b631-8772b365b49c"
      },
      "source": [
        "```\n",
        "#### module1.py\n",
        "\n",
        "print(f'loading module1: __name__ = {__name__}')\n",
        "\n",
        "if __name__ == '__main__':\n",
        "    print('module1 was run...')\n",
        "```"
      ]
    },
    {
      "cell_type": "markdown",
      "id": "991eaae4-22b8-486e-a492-7736977449b2",
      "metadata": {
        "id": "991eaae4-22b8-486e-a492-7736977449b2"
      },
      "source": [
        "```\n",
        "#### run.py\n",
        "\n",
        "print(f'loading run.py: __name__ = {__name__}')\n",
        "import module1\n",
        "import timing\n",
        "\n",
        "\n",
        "if __name__ == '__main__':\n",
        "    print('running run.py...')\n",
        "    # result = timing.timeit('list(range(1_000_000))', repeats=20)\n",
        "    result = timing.timeit('a=1)')\n",
        "    print(result)\n",
        "```"
      ]
    },
    {
      "cell_type": "markdown",
      "id": "b99544a0-cb83-4e3a-8aa2-4912ee86d7ec",
      "metadata": {
        "id": "b99544a0-cb83-4e3a-8aa2-4912ee86d7ec"
      },
      "source": [
        "```\n",
        "#### timing.py\n",
        "\n",
        "\"\"\"\n",
        "    Times how long a snippet of code takes to run\n",
        "    over multiple iterations\n",
        "    \"\"\"\n",
        "\n",
        "from time import perf_counter\n",
        "from collections import namedtuple\n",
        "import argparse\n",
        "\n",
        "\n",
        "Timing = namedtuple('Timing', 'repeats elapsed average')\n",
        "\n",
        "\n",
        "def timeit(code, repeats=10):\n",
        "    code = compile(code, filename='<string>', mode='exec')\n",
        "    start = perf_counter()\n",
        "    for _ in range(repeats):\n",
        "        exec(code)\n",
        "    end = perf_counter()\n",
        "    elapsed = end - start\n",
        "    average = elapsed / repeats\n",
        "    return Timing(repeats, elapsed, average)\n",
        "\n",
        "\n",
        "if __name__ == '__main__':\n",
        "    # get code from arguments\n",
        "    parser = argparse.ArgumentParser(description=__doc__)\n",
        "    parser.add_argument('code',\n",
        "                        type=str, help='The Python code snippet to be timed.')\n",
        "    parser.add_argument('-r', '--repeats',\n",
        "                        type=int, default=10,\n",
        "                        help='Number of times to repeat the test.')\n",
        "    args = parser.parse_args()\n",
        "    print(f'timing: {args.code}...')\n",
        "    print(timeit(code=str(args.code), repeats=args.repeats))\n",
        "```"
      ]
    },
    {
      "cell_type": "markdown",
      "id": "78c9f5cf-89d2-4ada-8fcd-47643ecc6c21",
      "metadata": {
        "id": "78c9f5cf-89d2-4ada-8fcd-47643ecc6c21"
      },
      "source": [
        "### 07 - What are packages?"
      ]
    },
    {
      "cell_type": "markdown",
      "id": "fe94d5f8-d1aa-42ed-9c42-6e5b6aaa0fed",
      "metadata": {
        "id": "fe94d5f8-d1aa-42ed-9c42-6e5b6aaa0fed"
      },
      "source": [
        "```\n",
        "#### module1.py\n",
        "\n",
        "print('executing module1...')\n",
        "\n",
        "value = 'module1 value'\n",
        "```"
      ]
    },
    {
      "cell_type": "markdown",
      "id": "f6ebf638-402d-43e0-9512-84914ec0c72c",
      "metadata": {
        "id": "f6ebf638-402d-43e0-9512-84914ec0c72c"
      },
      "source": [
        "```\n",
        "### pack1/module1a.py\n",
        "\n",
        "print('executing module1a...')\n",
        "\n",
        "value = 'module1a value'\n",
        "```"
      ]
    },
    {
      "cell_type": "markdown",
      "id": "bfb68386-9e84-4760-9bd5-333a28151391",
      "metadata": {
        "id": "bfb68386-9e84-4760-9bd5-333a28151391"
      },
      "source": [
        "```\n",
        "#### pack1/pack1_1/module1_1a.py\n",
        "\n",
        "print('executing module1_1a...')\n",
        "\n",
        "value = 'module1_1a value'\n",
        "```"
      ]
    },
    {
      "cell_type": "markdown",
      "id": "06fcc8b6-ebdf-43ee-a1b1-9eabdcd68354",
      "metadata": {
        "id": "06fcc8b6-ebdf-43ee-a1b1-9eabdcd68354"
      },
      "source": [
        "```\n",
        "#### pack1/pack1_1/module1_1b.py\n",
        "\n",
        "print('executing module1_1b...')\n",
        "\n",
        "value = 'module1_1b value'\n",
        "```"
      ]
    },
    {
      "cell_type": "markdown",
      "id": "aad4188e-4b55-45e6-ad7a-0dfb0c7e58f9",
      "metadata": {
        "id": "aad4188e-4b55-45e6-ad7a-0dfb0c7e58f9"
      },
      "source": [
        "```\n",
        "#### pack1/__init__.py\n",
        "\n",
        "print('executing pack1...')\n",
        "value = 'pack1 value'\n",
        "\n",
        "import pack1.pack1_1\n",
        "```"
      ]
    },
    {
      "cell_type": "markdown",
      "id": "bdc19928-04ea-439b-ad74-515905670b05",
      "metadata": {
        "id": "bdc19928-04ea-439b-ad74-515905670b05"
      },
      "source": [
        "```\n",
        "#### pack1/pack1_1/__init__.py\n",
        "\n",
        "print('executing pack1_1...')\n",
        "value = 'pack1_1 value'\n",
        "\n",
        "import pack1.pack1_1.module1_1a\n",
        "import pack1.pack1_1.module1_1b\n",
        "```"
      ]
    },
    {
      "cell_type": "markdown",
      "id": "8fae6688-8b96-48d1-ac1d-29f289310b7c",
      "metadata": {
        "id": "8fae6688-8b96-48d1-ac1d-29f289310b7c"
      },
      "source": [
        "### 08 - Structuring Package Imports"
      ]
    },
    {
      "cell_type": "markdown",
      "id": "ba1b5984-b865-42da-8a9f-2971eed9f49a",
      "metadata": {
        "id": "ba1b5984-b865-42da-8a9f-2971eed9f49a"
      },
      "source": [
        "```\n",
        "#### common/__init__.py\n",
        "\n",
        "# common\n",
        "```"
      ]
    },
    {
      "cell_type": "markdown",
      "id": "f4b45b7f-dfe3-4daa-8b21-6e77044819a1",
      "metadata": {
        "id": "f4b45b7f-dfe3-4daa-8b21-6e77044819a1"
      },
      "source": [
        "```\n",
        "#### common/helpers/calculator.py\n",
        "\n",
        "__all__ = ['Calc']\n",
        "\n",
        "\n",
        "class Calc:\n",
        "    pass\n",
        "\n",
        "\n",
        "def calc_helper_1():\n",
        "    pass\n",
        "```"
      ]
    },
    {
      "cell_type": "markdown",
      "id": "34c5d035-b164-4433-99f9-db1b0554ad87",
      "metadata": {
        "id": "34c5d035-b164-4433-99f9-db1b0554ad87"
      },
      "source": [
        "```\n",
        "#### common/helpers/__init__.py\n",
        "\n",
        "from .calculator import Calc\n",
        "\n",
        "\n",
        "# I don't consider the following good style:\n",
        "# It works, but it might be unexpected for most users.\n",
        "# They might not even think that the __init__ file\n",
        "# would contain functional code, so they might be left wondering\n",
        "# where say_hello and factorial actually came from!\n",
        "\n",
        "def say_hello(name):\n",
        "    return f'Hello {name}'\n",
        "\n",
        "\n",
        "def factorial(n):\n",
        "    if n <= 1:\n",
        "        return 1\n",
        "    else:\n",
        "        return n * factorial(n-1)\n",
        "```"
      ]
    },
    {
      "cell_type": "markdown",
      "id": "e0172de1-d262-4d7f-b22b-6a475740f00f",
      "metadata": {
        "id": "e0172de1-d262-4d7f-b22b-6a475740f00f"
      },
      "source": [
        "```\n",
        "#### common/models/__init__.py\n",
        "\n",
        "from .posts import *\n",
        "from .users import *\n",
        "\n",
        "__all__ = (posts.__all__ +\n",
        "           users.__all__)\n",
        "```"
      ]
    },
    {
      "cell_type": "markdown",
      "id": "1cbd45fb-bdfa-4041-bc96-9f4e1af70056",
      "metadata": {
        "id": "1cbd45fb-bdfa-4041-bc96-9f4e1af70056"
      },
      "source": [
        "```\n",
        "#### common/models/posts/__init__.py\n",
        "\n",
        "from .posts import *\n",
        "from .post import *\n",
        "\n",
        "__all__ = (posts.__all__ +\n",
        "           post.__all__)\n",
        "```"
      ]
    },
    {
      "cell_type": "markdown",
      "id": "3e4b064b-7568-4371-94a4-feae68549d0b",
      "metadata": {
        "id": "3e4b064b-7568-4371-94a4-feae68549d0b"
      },
      "source": [
        "```\n",
        "#### common/models/posts/post.py\n",
        "\n",
        "__all__ = ['Post']\n",
        "\n",
        "\n",
        "class Post:\n",
        "    pass\n",
        "\n",
        "\n",
        "def post_helper_1():\n",
        "    pass\n",
        "```"
      ]
    },
    {
      "cell_type": "markdown",
      "id": "afff0801-f000-44a4-bd6c-2aae04acb030",
      "metadata": {
        "id": "afff0801-f000-44a4-bd6c-2aae04acb030"
      },
      "source": [
        "```\n",
        "#### common/models/posts/posts.py\n",
        "\n",
        "__all__ = ['Posts']\n",
        "\n",
        "\n",
        "class Posts:\n",
        "    pass\n",
        "\n",
        "\n",
        "def posts_helper_1():\n",
        "    pass\n",
        "```"
      ]
    },
    {
      "cell_type": "markdown",
      "id": "e25718cd-f43d-436d-a77d-24f84d393527",
      "metadata": {
        "id": "e25718cd-f43d-436d-a77d-24f84d393527"
      },
      "source": [
        "```\n",
        "#### common/models/users/__init__.py\n",
        "\n",
        "from .user import *\n",
        "\n",
        "__all__ = user.\n",
        "```"
      ]
    },
    {
      "cell_type": "markdown",
      "id": "0abeb1fd-3cef-4908-a421-e29f39360b8d",
      "metadata": {
        "id": "0abeb1fd-3cef-4908-a421-e29f39360b8d"
      },
      "source": [
        "```\n",
        "#### common/models/users/user.py\n",
        "\n",
        "__all__ = ['User']\n",
        "\n",
        "\n",
        "class User:\n",
        "    pass\n",
        "\n",
        "\n",
        "def user_helper_1():\n",
        "    pass\n",
        "```"
      ]
    },
    {
      "cell_type": "markdown",
      "id": "88fc833a-6fc5-4228-85a4-9b070fc8e026",
      "metadata": {
        "id": "88fc833a-6fc5-4228-85a4-9b070fc8e026"
      },
      "source": [
        "```\n",
        "#### common/validators/__init__.py\n",
        "\n",
        "# import common.validators.boolean\n",
        "# import common.validators.date\n",
        "# import common.validators.json\n",
        "# import common.validators.numeric\n",
        "\n",
        "from .boolean import *\n",
        "from .date import *\n",
        "from .json import *\n",
        "from .numeric import *\n",
        "\n",
        "\n",
        "__all__ = (boolean.__all__ +\n",
        "           date.__all__ +\n",
        "           json.__all__ +\n",
        "           numeric.__all__)\n",
        "\n",
        "```"
      ]
    },
    {
      "cell_type": "markdown",
      "id": "e08aad47-92c6-4d1a-8dc0-287a0efdc52d",
      "metadata": {
        "id": "e08aad47-92c6-4d1a-8dc0-287a0efdc52d"
      },
      "source": [
        "```\n",
        "#### common/validators/boolean.py\n",
        "\n",
        "__all__ = ['is_boolean']\n",
        "\n",
        "\n",
        "def is_boolean(arg):\n",
        "    pass\n",
        "\n",
        "\n",
        "def boolean_helper_1():\n",
        "    pass\n",
        "\n",
        "\n",
        "def boolean_helper_2():\n",
        "    pass\n",
        "```"
      ]
    },
    {
      "cell_type": "markdown",
      "id": "f1765f38-056b-4912-9679-e0e54e90ffcc",
      "metadata": {
        "id": "f1765f38-056b-4912-9679-e0e54e90ffcc"
      },
      "source": [
        "```\n",
        "#### common/validators/date.py\n",
        "\n",
        "__all__ = ['is_date']\n",
        "\n",
        "\n",
        "def is_date(arg):\n",
        "    pass\n",
        "\n",
        "\n",
        "def date_helper_1():\n",
        "    pass\n",
        "\n",
        "\n",
        "def date_helper_2():\n",
        "    pass\n",
        "```"
      ]
    },
    {
      "cell_type": "markdown",
      "id": "25126b07-dfdb-45b9-b5b0-47f4720ac18e",
      "metadata": {
        "id": "25126b07-dfdb-45b9-b5b0-47f4720ac18e"
      },
      "source": [
        "```\n",
        "#### common/validators/json.py\n",
        "\n",
        "__all__ = ['is_json']\n",
        "\n",
        "\n",
        "def is_json(arg):\n",
        "    pass\n",
        "\n",
        "\n",
        "def json_helper_1():\n",
        "    pass\n",
        "\n",
        "\n",
        "def json_helper_2():\n",
        "    pass\n",
        "```"
      ]
    },
    {
      "cell_type": "markdown",
      "id": "ace17aae-3e89-4d79-9c0c-e07d0c554ccf",
      "metadata": {
        "id": "ace17aae-3e89-4d79-9c0c-e07d0c554ccf"
      },
      "source": [
        "```\n",
        "#### common/validators/numeric.py\n",
        "\n",
        "__all__ = ['is_integer', 'is_numeric']\n",
        "\n",
        "\n",
        "def is_integer(arg):\n",
        "    pass\n",
        "\n",
        "\n",
        "def is_numeric(arg):\n",
        "    pass\n",
        "\n",
        "\n",
        "def numeric_helper_1():\n",
        "    pass\n",
        "\n",
        "\n",
        "def numeric_helper_2():\n",
        "    pass\n",
        "```"
      ]
    },
    {
      "cell_type": "markdown",
      "id": "e3184d11-aee0-4221-95a7-41dc5bcea2db",
      "metadata": {
        "id": "e3184d11-aee0-4221-95a7-41dc5bcea2db"
      },
      "source": [
        "```\n",
        "#### main.py\n",
        "\n",
        "import common\n",
        "import common.validators as validators\n",
        "import common.models as models\n",
        "# from common.models import *\n",
        "import common.helpers as helpers\n",
        "\n",
        "\n",
        "\n",
        "validators.is_boolean('true')\n",
        "validators.is_json('{}')\n",
        "validators.is_numeric(10)\n",
        "validators.is_date('2018-0101')\n",
        "\n",
        "john_post = models.Post()\n",
        "john_posts = models.Posts()\n",
        "john = models.User()\n",
        "\n",
        "\n",
        "print('\\n\\n***** self *****')\n",
        "for k in dict(globals()).keys():\n",
        "    print(k)\n",
        "\n",
        "\n",
        "print('\\n\\n***** common *****')\n",
        "for k in common.__dict__.keys():\n",
        "    print(k)\n",
        "\n",
        "print('\\n\\n***** models *****')\n",
        "for k in common.models.__dict__.keys():\n",
        "    print(k)\n",
        "\n",
        "print(helpers.say_hello('Python'))\n",
        "print(helpers.factorial(5))\n",
        "```"
      ]
    },
    {
      "cell_type": "markdown",
      "id": "adf3ef56-f8ce-42e8-b9ec-7812d48c7f78",
      "metadata": {
        "id": "adf3ef56-f8ce-42e8-b9ec-7812d48c7f78"
      },
      "source": [
        "### 09 - Zipped Packages"
      ]
    },
    {
      "cell_type": "markdown",
      "id": "ce46b2b2-b034-4468-9634-ad8c1aa525f2",
      "metadata": {
        "id": "ce46b2b2-b034-4468-9634-ad8c1aa525f2"
      },
      "source": [
        "```\n",
        "common.zip\n",
        "```"
      ]
    },
    {
      "cell_type": "markdown",
      "id": "32f2e166-b62f-4523-99b3-de5cccedaec5",
      "metadata": {
        "id": "32f2e166-b62f-4523-99b3-de5cccedaec5"
      },
      "source": [
        "```\n",
        "#### main.py\n",
        "\n",
        "import sys\n",
        "sys.path.append('./common.zip')\n",
        "\n",
        "import common\n",
        "import common.validators as validators\n",
        "import common.models as models\n",
        "# from common.models import *\n",
        "import common.helpers as helpers\n",
        "\n",
        "\n",
        "\n",
        "validators.is_boolean('true')\n",
        "validators.is_json('{}')\n",
        "validators.is_numeric(10)\n",
        "validators.is_date('2018-0101')\n",
        "\n",
        "john_post = models.Post()\n",
        "john_posts = models.Posts()\n",
        "john = models.User()\n",
        "\n",
        "\n",
        "print('\\n\\n***** self *****')\n",
        "for k in dict(globals()).keys():\n",
        "    print(k)\n",
        "\n",
        "\n",
        "print('\\n\\n***** common *****')\n",
        "for k in common.__dict__.keys():\n",
        "    print(k)\n",
        "\n",
        "print('\\n\\n***** models *****')\n",
        "for k in common.models.__dict__.keys():\n",
        "    print(k)\n",
        "\n",
        "print(helpers.say_hello('Python'))\n",
        "print(helpers.factorial(5))\n",
        "```"
      ]
    },
    {
      "cell_type": "code",
      "execution_count": null,
      "id": "4ce218c4-95cc-4701-9cbc-c5a50fb3f111",
      "metadata": {
        "id": "4ce218c4-95cc-4701-9cbc-c5a50fb3f111"
      },
      "outputs": [],
      "source": []
    }
  ],
  "metadata": {
    "kernelspec": {
      "display_name": "Python 3 (ipykernel)",
      "language": "python",
      "name": "python3"
    },
    "language_info": {
      "codemirror_mode": {
        "name": "ipython",
        "version": 3
      },
      "file_extension": ".py",
      "mimetype": "text/x-python",
      "name": "python",
      "nbconvert_exporter": "python",
      "pygments_lexer": "ipython3",
      "version": "3.9.12"
    },
    "colab": {
      "provenance": [],
      "include_colab_link": true
    }
  },
  "nbformat": 4,
  "nbformat_minor": 5
}