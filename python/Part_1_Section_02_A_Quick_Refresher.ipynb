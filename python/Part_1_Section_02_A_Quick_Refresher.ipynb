{
  "cells": [
    {
      "cell_type": "markdown",
      "metadata": {
        "id": "view-in-github",
        "colab_type": "text"
      },
      "source": [
        "<a href=\"https://colab.research.google.com/github/aserdargun/DSML101/blob/main/Part_1_Section_02_A_Quick_Refresher.ipynb\" target=\"_parent\"><img src=\"https://colab.research.google.com/assets/colab-badge.svg\" alt=\"Open In Colab\"/></a>"
      ]
    },
    {
      "cell_type": "markdown",
      "id": "acc8da43",
      "metadata": {
        "id": "acc8da43"
      },
      "source": [
        "# **PART 1: FUNCTIONAL PROGRAMMING**"
      ]
    },
    {
      "cell_type": "markdown",
      "id": "5607b73b",
      "metadata": {
        "id": "5607b73b"
      },
      "source": [
        "## Section 02 - A Quick Refresher"
      ]
    },
    {
      "cell_type": "markdown",
      "id": "844f6ac3",
      "metadata": {
        "id": "844f6ac3"
      },
      "source": [
        "### 01 - Multi-Line Statements and Strings"
      ]
    },
    {
      "cell_type": "markdown",
      "id": "f693bc9b",
      "metadata": {
        "id": "f693bc9b"
      },
      "source": [
        "**Implicit Examples**"
      ]
    },
    {
      "cell_type": "code",
      "execution_count": null,
      "id": "350c2909",
      "metadata": {
        "id": "350c2909"
      },
      "outputs": [],
      "source": [
        "a = [1,\n",
        "     2,\n",
        "     3]"
      ]
    },
    {
      "cell_type": "code",
      "execution_count": null,
      "id": "abe697cb",
      "metadata": {
        "id": "abe697cb",
        "outputId": "0728cae2-cc76-4a3f-f127-5fc52476e27e"
      },
      "outputs": [
        {
          "data": {
            "text/plain": [
              "[1, 2, 3]"
            ]
          },
          "execution_count": 3,
          "metadata": {},
          "output_type": "execute_result"
        }
      ],
      "source": [
        "a"
      ]
    },
    {
      "cell_type": "markdown",
      "id": "800a3386",
      "metadata": {
        "id": "800a3386"
      },
      "source": [
        "Multi-Line Statement with comments to the end of each line."
      ]
    },
    {
      "cell_type": "code",
      "execution_count": null,
      "id": "21af325f",
      "metadata": {
        "id": "21af325f"
      },
      "outputs": [],
      "source": [
        "a = [1, #first element\n",
        "     2, #second element\n",
        "     3, #third element\n",
        "     ]"
      ]
    },
    {
      "cell_type": "code",
      "execution_count": null,
      "id": "12552058",
      "metadata": {
        "id": "12552058",
        "outputId": "30ff5d71-71a1-4bf1-9293-fd21d2a6261b"
      },
      "outputs": [
        {
          "data": {
            "text/plain": [
              "[1, 2, 3]"
            ]
          },
          "execution_count": 5,
          "metadata": {},
          "output_type": "execute_result"
        }
      ],
      "source": [
        "a"
      ]
    },
    {
      "cell_type": "markdown",
      "id": "bf6843f7",
      "metadata": {
        "id": "bf6843f7"
      },
      "source": [
        "---\n",
        "**BE CAREFUL!**\n"
      ]
    },
    {
      "cell_type": "markdown",
      "id": "4b39d04e",
      "metadata": {
        "id": "4b39d04e"
      },
      "source": [
        "*If you use comments, you must close off the collection on a new line.*"
      ]
    },
    {
      "cell_type": "code",
      "execution_count": null,
      "id": "fe98a4f5",
      "metadata": {
        "id": "fe98a4f5",
        "outputId": "b487f373-0235-42b0-a61f-6ae1173ce1f2"
      },
      "outputs": [
        {
          "ename": "SyntaxError",
          "evalue": "unexpected EOF while parsing (1010823888.py, line 2)",
          "output_type": "error",
          "traceback": [
            "\u001b[1;36m  Input \u001b[1;32mIn [7]\u001b[1;36m\u001b[0m\n\u001b[1;33m    2 # second element]\u001b[0m\n\u001b[1;37m                       ^\u001b[0m\n\u001b[1;31mSyntaxError\u001b[0m\u001b[1;31m:\u001b[0m unexpected EOF while parsing\n"
          ]
        }
      ],
      "source": [
        "a = [1, #first element\n",
        "     2 # second element]"
      ]
    },
    {
      "cell_type": "markdown",
      "id": "5458f9de",
      "metadata": {
        "id": "5458f9de"
      },
      "source": [
        "This works the same way for tuples, sets, and dictionaries."
      ]
    },
    {
      "cell_type": "markdown",
      "id": "d5b93d97",
      "metadata": {
        "id": "d5b93d97"
      },
      "source": [
        "Tuple"
      ]
    },
    {
      "cell_type": "code",
      "execution_count": null,
      "id": "64c3d8ad",
      "metadata": {
        "id": "64c3d8ad"
      },
      "outputs": [],
      "source": [
        "a = (1, #first element\n",
        "     2, #second element\n",
        "     3, #third element\n",
        "     )"
      ]
    },
    {
      "cell_type": "code",
      "execution_count": null,
      "id": "a5132dfe",
      "metadata": {
        "id": "a5132dfe",
        "outputId": "fc7fd7b8-d101-4b0c-ea9a-02e0200c46e7"
      },
      "outputs": [
        {
          "data": {
            "text/plain": [
              "(1, 2, 3)"
            ]
          },
          "execution_count": 9,
          "metadata": {},
          "output_type": "execute_result"
        }
      ],
      "source": [
        "a"
      ]
    },
    {
      "cell_type": "markdown",
      "id": "e7641b45",
      "metadata": {
        "id": "e7641b45"
      },
      "source": [
        "Set"
      ]
    },
    {
      "cell_type": "code",
      "execution_count": null,
      "id": "8a2e69b6",
      "metadata": {
        "id": "8a2e69b6"
      },
      "outputs": [],
      "source": [
        "a = {1, #first element\n",
        "     2, #second element\n",
        "     }"
      ]
    },
    {
      "cell_type": "code",
      "execution_count": null,
      "id": "7d762323",
      "metadata": {
        "id": "7d762323",
        "outputId": "20b4391d-f1fc-42c0-e5ac-138b9a262306"
      },
      "outputs": [
        {
          "data": {
            "text/plain": [
              "{1, 2}"
            ]
          },
          "execution_count": 11,
          "metadata": {},
          "output_type": "execute_result"
        }
      ],
      "source": [
        "a"
      ]
    },
    {
      "cell_type": "markdown",
      "id": "b4da3870",
      "metadata": {
        "id": "b4da3870"
      },
      "source": [
        "Dictionary"
      ]
    },
    {
      "cell_type": "markdown",
      "id": "aa38176a",
      "metadata": {
        "id": "aa38176a"
      },
      "source": [
        "you can use each of key and value pairs comments in dictionary."
      ]
    },
    {
      "cell_type": "code",
      "execution_count": null,
      "id": "4b0dfd0c",
      "metadata": {
        "id": "4b0dfd0c"
      },
      "outputs": [],
      "source": [
        "a = {'key1': 'value1', #comment,\n",
        "     'key2': #comment\n",
        "     'value2' #comment\n",
        "     }"
      ]
    },
    {
      "cell_type": "code",
      "execution_count": null,
      "id": "27f8d780",
      "metadata": {
        "id": "27f8d780",
        "outputId": "fff847ef-34c3-49dd-d98b-cbe46204e963"
      },
      "outputs": [
        {
          "data": {
            "text/plain": [
              "{'key1': 'value1', 'key2': 'value2'}"
            ]
          },
          "execution_count": 13,
          "metadata": {},
          "output_type": "execute_result"
        }
      ],
      "source": [
        "a"
      ]
    },
    {
      "cell_type": "markdown",
      "id": "1fd5cfbe",
      "metadata": {
        "id": "1fd5cfbe"
      },
      "source": [
        "Function Parameter"
      ]
    },
    {
      "cell_type": "markdown",
      "id": "6c404a67",
      "metadata": {
        "id": "6c404a67"
      },
      "source": [
        "A parameter is the variable listed inside the parentheses in the function definition."
      ]
    },
    {
      "cell_type": "code",
      "execution_count": null,
      "id": "e53647b5",
      "metadata": {
        "id": "e53647b5"
      },
      "outputs": [],
      "source": [
        "def my_func(a, #some comment\n",
        "            b, c):\n",
        "    print(a, b ,c)"
      ]
    },
    {
      "cell_type": "markdown",
      "id": "47d2dd55",
      "metadata": {
        "id": "47d2dd55"
      },
      "source": [
        "Function Argument"
      ]
    },
    {
      "cell_type": "markdown",
      "id": "d367b061",
      "metadata": {
        "id": "d367b061"
      },
      "source": [
        "An argument is the value that are sent to the function when it is called."
      ]
    },
    {
      "cell_type": "code",
      "execution_count": null,
      "id": "b1e4e62e",
      "metadata": {
        "id": "b1e4e62e",
        "outputId": "5a7ad396-34d3-4811-dbf2-1abe1512d2d4"
      },
      "outputs": [
        {
          "name": "stdout",
          "output_type": "stream",
          "text": [
            "10 20 30\n"
          ]
        }
      ],
      "source": [
        "my_func(10, #comment\n",
        "        20, #comment\n",
        "        30)"
      ]
    },
    {
      "cell_type": "markdown",
      "id": "0e5ec2d6",
      "metadata": {
        "id": "0e5ec2d6"
      },
      "source": [
        "**Explicit Examples**"
      ]
    },
    {
      "cell_type": "markdown",
      "id": "e5a60e4c",
      "metadata": {
        "id": "e5a60e4c"
      },
      "source": [
        "You can use the `\\` character to explicitly create multi-line statements."
      ]
    },
    {
      "cell_type": "code",
      "execution_count": null,
      "id": "4df1c7c2",
      "metadata": {
        "id": "4df1c7c2",
        "outputId": "fcf191df-b3f0-4274-b57d-8c92784e016e"
      },
      "outputs": [
        {
          "name": "stdout",
          "output_type": "stream",
          "text": [
            "yes!!\n"
          ]
        }
      ],
      "source": [
        "a = 10\n",
        "b = 20\n",
        "c = 30\n",
        "if a > 5 \\\n",
        "  and b > 10 \\\n",
        "  and c > 20:\n",
        "  print('yes!!')"
      ]
    },
    {
      "cell_type": "markdown",
      "id": "74e71cac",
      "metadata": {
        "id": "74e71cac"
      },
      "source": [
        "The indentation in continued-lines does not matter:"
      ]
    },
    {
      "cell_type": "code",
      "execution_count": null,
      "id": "5f14cbaa",
      "metadata": {
        "id": "5f14cbaa",
        "outputId": "a6d02425-05d7-4bb4-9ce8-ab76cffd8f7c"
      },
      "outputs": [
        {
          "name": "stdout",
          "output_type": "stream",
          "text": [
            "yes!!\n"
          ]
        }
      ],
      "source": [
        "a = 10\n",
        "b = 20\n",
        "c = 30\n",
        "if a > 5 \\\n",
        "    and b > 10 \\\n",
        "        and c > 20:\n",
        "    print('yes!!')"
      ]
    },
    {
      "cell_type": "markdown",
      "id": "99f94cb9",
      "metadata": {
        "id": "99f94cb9"
      },
      "source": [
        "**Multi-Line Strings**"
      ]
    },
    {
      "cell_type": "markdown",
      "id": "9f541b74",
      "metadata": {
        "id": "9f541b74"
      },
      "source": [
        "You can create multi-line strings by using triple delimiters (single or double quotes)"
      ]
    },
    {
      "cell_type": "code",
      "execution_count": null,
      "id": "e59d4f0a",
      "metadata": {
        "id": "e59d4f0a"
      },
      "outputs": [],
      "source": [
        "a = '''this is \n",
        "a multi-line string'''"
      ]
    },
    {
      "cell_type": "code",
      "execution_count": null,
      "id": "b1419e1f",
      "metadata": {
        "id": "b1419e1f",
        "outputId": "d2186358-3072-47d0-bcd3-f56c68e0d27a"
      },
      "outputs": [
        {
          "name": "stdout",
          "output_type": "stream",
          "text": [
            "this is \n",
            "a multi-line string\n"
          ]
        }
      ],
      "source": [
        "print(a)"
      ]
    },
    {
      "cell_type": "markdown",
      "id": "423c5630",
      "metadata": {
        "id": "423c5630"
      },
      "source": [
        "If you call with a directly in notebook, you will see with escape characters such as `\\n`."
      ]
    },
    {
      "cell_type": "code",
      "execution_count": null,
      "id": "fcc32023",
      "metadata": {
        "id": "fcc32023",
        "outputId": "99ee3c5f-78ee-477f-9a66-3033cfd5022d"
      },
      "outputs": [
        {
          "data": {
            "text/plain": [
              "'this is \\na multi-line string'"
            ]
          },
          "execution_count": 20,
          "metadata": {},
          "output_type": "execute_result"
        }
      ],
      "source": [
        "a"
      ]
    },
    {
      "cell_type": "markdown",
      "id": "9cf68308",
      "metadata": {
        "id": "9cf68308"
      },
      "source": [
        "Any character you type is preserved. You can also mix in escaped characters line any nırmal string. (i.e.: `\\n`)"
      ]
    },
    {
      "cell_type": "code",
      "execution_count": null,
      "id": "096558aa",
      "metadata": {
        "id": "096558aa"
      },
      "outputs": [],
      "source": [
        "a = \"\"\"some items:\\n\n",
        "    1. item 1\n",
        "    2. item 2\"\"\""
      ]
    },
    {
      "cell_type": "code",
      "execution_count": null,
      "id": "9dd08d47",
      "metadata": {
        "id": "9dd08d47",
        "outputId": "fc2e27c4-84fd-49dc-d3a3-364dc0443b8d"
      },
      "outputs": [
        {
          "name": "stdout",
          "output_type": "stream",
          "text": [
            "some items:\n",
            "\n",
            "    1. item 1\n",
            "    2. item 2\n"
          ]
        }
      ],
      "source": [
        "print(a)"
      ]
    },
    {
      "cell_type": "markdown",
      "id": "3d127ee2",
      "metadata": {
        "id": "3d127ee2"
      },
      "source": [
        "---\n",
        "**BE CAREFUL!**"
      ]
    },
    {
      "cell_type": "code",
      "execution_count": null,
      "id": "09563a1a",
      "metadata": {
        "id": "09563a1a"
      },
      "outputs": [],
      "source": [
        "def my_func():\n",
        "    a = '''a multi-line string\n",
        "    that is actually indented in the second line'''\n",
        "    return a"
      ]
    },
    {
      "cell_type": "code",
      "execution_count": null,
      "id": "e1e54b49",
      "metadata": {
        "id": "e1e54b49",
        "outputId": "62b8550e-55e1-4b14-e534-b011297f0b42"
      },
      "outputs": [
        {
          "name": "stdout",
          "output_type": "stream",
          "text": [
            "a multi-line string\n",
            "    that is actually indented in the second line\n"
          ]
        }
      ],
      "source": [
        "print(my_func())"
      ]
    },
    {
      "cell_type": "code",
      "execution_count": null,
      "id": "c95d16cd",
      "metadata": {
        "id": "c95d16cd"
      },
      "outputs": [],
      "source": [
        "def my_func():\n",
        "    a = '''a multi-line string\n",
        "that is not indented in the second line'''\n",
        "    return a"
      ]
    },
    {
      "cell_type": "code",
      "execution_count": null,
      "id": "15c11e67",
      "metadata": {
        "id": "15c11e67",
        "outputId": "03bd9284-e6c6-4687-a626-fed17dde9c64"
      },
      "outputs": [
        {
          "name": "stdout",
          "output_type": "stream",
          "text": [
            "a multi-line string\n",
            "that is not indented in the second line\n"
          ]
        }
      ],
      "source": [
        "print(my_func())"
      ]
    },
    {
      "cell_type": "markdown",
      "id": "8d133e47",
      "metadata": {
        "id": "8d133e47"
      },
      "source": [
        "---\n",
        "\n",
        "**BE CAREFUL!**"
      ]
    },
    {
      "cell_type": "markdown",
      "id": "064bb57f",
      "metadata": {
        "id": "064bb57f"
      },
      "source": [
        "*Note that these multi-line strings are not comments - they are real strings and, unlike comments, are part of your compiled code. They are however used to create comments, such as docstrings, that we will cover later in this course.*"
      ]
    },
    {
      "cell_type": "markdown",
      "id": "85a0ed62",
      "metadata": {
        "id": "85a0ed62"
      },
      "source": [
        "---\n",
        "\n",
        "**BE CAREFUL!**"
      ]
    },
    {
      "cell_type": "markdown",
      "id": "7c3a5c0c",
      "metadata": {
        "id": "7c3a5c0c"
      },
      "source": [
        "*In general, use `#` to comment your code, and use multi-line strings only when actually needed (like for docstrings).\n",
        "Also, there are no multi-line comments in Python. You simply have to use a `#` on every line.*"
      ]
    },
    {
      "cell_type": "code",
      "execution_count": null,
      "id": "119745d4",
      "metadata": {
        "id": "119745d4"
      },
      "outputs": [],
      "source": [
        "# this is\n",
        "#   a multi-line\n",
        "#   comment"
      ]
    },
    {
      "cell_type": "markdown",
      "id": "b10e99d8",
      "metadata": {
        "id": "b10e99d8"
      },
      "source": [
        "*The following works, but the above formatting is preferrable.*"
      ]
    },
    {
      "cell_type": "code",
      "execution_count": null,
      "id": "90bb0de3",
      "metadata": {
        "id": "90bb0de3"
      },
      "outputs": [],
      "source": [
        "# this is\n",
        "    # a multi-line\n",
        "    # comment"
      ]
    },
    {
      "cell_type": "markdown",
      "id": "698e0a97-7d1b-4266-9b83-21e377834059",
      "metadata": {
        "id": "698e0a97-7d1b-4266-9b83-21e377834059"
      },
      "source": [
        "### 02 - Conditionals"
      ]
    },
    {
      "cell_type": "markdown",
      "id": "d4550c49-f2fc-4b9e-93ee-c02d39a923d2",
      "metadata": {
        "id": "d4550c49-f2fc-4b9e-93ee-c02d39a923d2"
      },
      "source": [
        "This is achieved using if, elif and else or the ternary operator (aka conditional expression)"
      ]
    },
    {
      "cell_type": "code",
      "execution_count": null,
      "id": "99344057-a146-4574-81d5-81aed306eb00",
      "metadata": {
        "id": "99344057-a146-4574-81d5-81aed306eb00",
        "outputId": "d483e9ee-1a5b-4142-aa1f-88720cb43412"
      },
      "outputs": [
        {
          "name": "stdout",
          "output_type": "stream",
          "text": [
            "a < 3\n"
          ]
        }
      ],
      "source": [
        "a = 2\n",
        "if a < 3:\n",
        "    print('a < 3')\n",
        "else:\n",
        "    print('a >= 3')"
      ]
    },
    {
      "cell_type": "markdown",
      "id": "a9542b88-4473-45cd-8c10-9f81cc36ce70",
      "metadata": {
        "id": "a9542b88-4473-45cd-8c10-9f81cc36ce70"
      },
      "source": [
        "`if` statements can be nested."
      ]
    },
    {
      "cell_type": "code",
      "execution_count": null,
      "id": "215a58ea-91fa-4c72-b9a0-03f9d547bd15",
      "metadata": {
        "id": "215a58ea-91fa-4c72-b9a0-03f9d547bd15",
        "outputId": "037f2eac-8359-4aed-c009-80a2eba85eee"
      },
      "outputs": [
        {
          "name": "stdout",
          "output_type": "stream",
          "text": [
            "a >= 10\n"
          ]
        }
      ],
      "source": [
        "a = 15\n",
        "\n",
        "if a < 5:\n",
        "    print('a < 5')\n",
        "else:\n",
        "    if a < 10:\n",
        "        print('5 <= a < 10')\n",
        "    else:\n",
        "        print('a >= 10')"
      ]
    },
    {
      "cell_type": "markdown",
      "id": "84099001-48dd-4fd9-a12f-7b799ae0e23b",
      "metadata": {
        "id": "84099001-48dd-4fd9-a12f-7b799ae0e23b"
      },
      "source": [
        "But the `elif` statement provides for better readability."
      ]
    },
    {
      "cell_type": "code",
      "execution_count": null,
      "id": "f9e582bb-d27e-47a5-9e2c-39a19c2e3b87",
      "metadata": {
        "id": "f9e582bb-d27e-47a5-9e2c-39a19c2e3b87",
        "outputId": "b12e836c-fb42-4dc9-86c6-99851ae065fa"
      },
      "outputs": [
        {
          "name": "stdout",
          "output_type": "stream",
          "text": [
            "a >= 10\n"
          ]
        }
      ],
      "source": [
        "a = 15\n",
        "\n",
        "if a < 5:\n",
        "    print('a < 5')\n",
        "elif a < 10:\n",
        "    print('5 <= a < 10')\n",
        "else:\n",
        "    print('a >= 10')"
      ]
    },
    {
      "cell_type": "markdown",
      "id": "92591e58-631c-4fd6-ab6e-7aa5b6bf308c",
      "metadata": {
        "id": "92591e58-631c-4fd6-ab6e-7aa5b6bf308c"
      },
      "source": [
        "Python also provides a conditional expression (ternary operator):\n",
        "\n",
        "`X if (condition) else Y`\n",
        "\n",
        "returns (and evaluates) X if (conditions) is True, otherwise returns (and evaluates) Y"
      ]
    },
    {
      "cell_type": "markdown",
      "id": "96c6b657-65dd-4bef-9327-5d2460e72a93",
      "metadata": {
        "id": "96c6b657-65dd-4bef-9327-5d2460e72a93"
      },
      "source": [
        "a = 5\n",
        "res = 'a < 10' if a < 10 else 'a >= 10'\n",
        "print(res)"
      ]
    },
    {
      "cell_type": "code",
      "execution_count": null,
      "id": "043900f9-31da-4123-b10a-c3d30e46abd3",
      "metadata": {
        "id": "043900f9-31da-4123-b10a-c3d30e46abd3",
        "outputId": "53ed4924-9c54-4f23-b9a2-73f2fd56ff10"
      },
      "outputs": [
        {
          "name": "stdout",
          "output_type": "stream",
          "text": [
            "a >= 10\n"
          ]
        }
      ],
      "source": [
        "a = 15\n",
        "res = 'a < 10' if a < 10 else 'a >= 10'\n",
        "print(res)"
      ]
    },
    {
      "cell_type": "markdown",
      "id": "fe87e9e3-70ea-4dd0-a50c-23f5e6b3436d",
      "metadata": {
        "id": "fe87e9e3-70ea-4dd0-a50c-23f5e6b3436d"
      },
      "source": [
        "---\n",
        "**BE CAREFUL!**"
      ]
    },
    {
      "cell_type": "markdown",
      "id": "c7609e67-cc98-4010-9c10-b25cf36a305b",
      "metadata": {
        "id": "c7609e67-cc98-4010-9c10-b25cf36a305b"
      },
      "source": [
        "*Note that X and Y can be any expression, not just literal values:*"
      ]
    },
    {
      "cell_type": "code",
      "execution_count": null,
      "id": "f10980b4-1107-4ada-b419-74e8358c5a2e",
      "metadata": {
        "id": "f10980b4-1107-4ada-b419-74e8358c5a2e"
      },
      "outputs": [],
      "source": [
        "def say_hello():\n",
        "    print('Hello!')\n",
        "\n",
        "def say_goodbye():\n",
        "    print('Goodbye!')"
      ]
    },
    {
      "cell_type": "code",
      "execution_count": null,
      "id": "f650c1bd-44b9-4b5b-a476-674830417e80",
      "metadata": {
        "id": "f650c1bd-44b9-4b5b-a476-674830417e80",
        "outputId": "c503d6ed-d9e6-437a-c523-8fdcf9f09c68"
      },
      "outputs": [
        {
          "name": "stdout",
          "output_type": "stream",
          "text": [
            "Hello!\n"
          ]
        }
      ],
      "source": [
        "a = 5\n",
        "say_hello() if a < 10 else say_goodbye()"
      ]
    },
    {
      "cell_type": "code",
      "execution_count": null,
      "id": "0110dca3-3946-4dd0-9513-8edabf793aec",
      "metadata": {
        "id": "0110dca3-3946-4dd0-9513-8edabf793aec",
        "outputId": "f154491f-c05d-434d-99cc-2539b5568b5d"
      },
      "outputs": [
        {
          "name": "stdout",
          "output_type": "stream",
          "text": [
            "Goodbye!\n"
          ]
        }
      ],
      "source": [
        "a = 15\n",
        "say_hello() if a < 10 else say_goodbye()"
      ]
    },
    {
      "cell_type": "markdown",
      "id": "32d0df21-bf11-4842-a762-790793a5b5cf",
      "metadata": {
        "id": "32d0df21-bf11-4842-a762-790793a5b5cf"
      },
      "source": [
        "### 03 - Functions"
      ]
    },
    {
      "cell_type": "markdown",
      "id": "f8137462-db32-4c4c-ba74-82866f18af04",
      "metadata": {
        "id": "f8137462-db32-4c4c-ba74-82866f18af04"
      },
      "source": [
        "Python has many built-in functions and methods we can use\n",
        "Some are available by default:"
      ]
    },
    {
      "cell_type": "code",
      "execution_count": null,
      "id": "b81602de-7f32-45ab-8500-17b7a89c7272",
      "metadata": {
        "id": "b81602de-7f32-45ab-8500-17b7a89c7272",
        "outputId": "c0ee4784-0889-4cbd-abf3-e5c826f0bbd9"
      },
      "outputs": [
        {
          "data": {
            "text/plain": [
              "3"
            ]
          },
          "execution_count": 11,
          "metadata": {},
          "output_type": "execute_result"
        }
      ],
      "source": [
        "s = [1, 2, 3]\n",
        "len(s)"
      ]
    },
    {
      "cell_type": "markdown",
      "id": "aeb3b383-3738-499f-ba85-7cffb3f79e1a",
      "metadata": {
        "id": "aeb3b383-3738-499f-ba85-7cffb3f79e1a"
      },
      "source": [
        "While some need to be imported:"
      ]
    },
    {
      "cell_type": "code",
      "execution_count": null,
      "id": "f7070150-b065-4dfb-b023-773cd3f50ec8",
      "metadata": {
        "id": "f7070150-b065-4dfb-b023-773cd3f50ec8"
      },
      "outputs": [],
      "source": [
        "from math import sqrt"
      ]
    },
    {
      "cell_type": "code",
      "execution_count": null,
      "id": "2448db79-beba-4e46-8e2e-0805e73fa3a2",
      "metadata": {
        "id": "2448db79-beba-4e46-8e2e-0805e73fa3a2",
        "outputId": "4bc3849c-53b9-4f05-ea46-5efbe87de163"
      },
      "outputs": [
        {
          "data": {
            "text/plain": [
              "2.0"
            ]
          },
          "execution_count": 14,
          "metadata": {},
          "output_type": "execute_result"
        }
      ],
      "source": [
        "sqrt(4)"
      ]
    },
    {
      "cell_type": "markdown",
      "id": "40a96f65-8a78-4e90-a214-00928e83cb43",
      "metadata": {
        "id": "40a96f65-8a78-4e90-a214-00928e83cb43"
      },
      "source": [
        "Entire modules can be imported:"
      ]
    },
    {
      "cell_type": "code",
      "execution_count": null,
      "id": "0cf1b6af-88b9-4273-aa87-1472dd2bef8f",
      "metadata": {
        "id": "0cf1b6af-88b9-4273-aa87-1472dd2bef8f"
      },
      "outputs": [],
      "source": [
        "import math"
      ]
    },
    {
      "cell_type": "code",
      "execution_count": null,
      "id": "ebee1d34-aa2d-49ea-a450-122bd8361301",
      "metadata": {
        "id": "ebee1d34-aa2d-49ea-a450-122bd8361301",
        "outputId": "5bd02985-fb6c-4c32-9b11-af0f3d4d8b5b"
      },
      "outputs": [
        {
          "data": {
            "text/plain": [
              "2.718281828459045"
            ]
          },
          "execution_count": 16,
          "metadata": {},
          "output_type": "execute_result"
        }
      ],
      "source": [
        "math.exp(1)"
      ]
    },
    {
      "cell_type": "markdown",
      "id": "ea284ed4-1a75-4700-bc15-be2697d672ea",
      "metadata": {
        "id": "ea284ed4-1a75-4700-bc15-be2697d672ea"
      },
      "source": [
        "We can define our own functions:"
      ]
    },
    {
      "cell_type": "code",
      "execution_count": null,
      "id": "0ad82556-c528-409c-9490-58617c761623",
      "metadata": {
        "id": "0ad82556-c528-409c-9490-58617c761623"
      },
      "outputs": [],
      "source": [
        "def func_1():\n",
        "    print('running func1')"
      ]
    },
    {
      "cell_type": "code",
      "execution_count": null,
      "id": "ac217b77-d8c8-4e05-8b4e-40805d36501a",
      "metadata": {
        "id": "ac217b77-d8c8-4e05-8b4e-40805d36501a",
        "outputId": "f18c01fa-5c25-4e48-9848-b4a170a4b850"
      },
      "outputs": [
        {
          "name": "stdout",
          "output_type": "stream",
          "text": [
            "running func1\n"
          ]
        }
      ],
      "source": [
        "func_1()"
      ]
    },
    {
      "cell_type": "markdown",
      "id": "bcf306f4-6c1d-48c4-aec9-1fec9045f45e",
      "metadata": {
        "id": "bcf306f4-6c1d-48c4-aec9-1fec9045f45e"
      },
      "source": [
        "---\n",
        "**BE CAREFUL!**"
      ]
    },
    {
      "cell_type": "markdown",
      "id": "379ad73f-39f2-4b4d-bc0a-6a23d085745c",
      "metadata": {
        "id": "379ad73f-39f2-4b4d-bc0a-6a23d085745c"
      },
      "source": [
        "*Note that to \"call\" or \"invoke\" a function we need to use the `()`.\n",
        "Simply using the function name without the `()` refers to the function, but does not call it:* "
      ]
    },
    {
      "cell_type": "code",
      "execution_count": null,
      "id": "8faacd91-3479-4d14-97f8-ff06138406c7",
      "metadata": {
        "id": "8faacd91-3479-4d14-97f8-ff06138406c7",
        "outputId": "6b47f426-0c36-42d6-afac-5d24ff222806"
      },
      "outputs": [
        {
          "data": {
            "text/plain": [
              "<function __main__.func_1()>"
            ]
          },
          "execution_count": 19,
          "metadata": {},
          "output_type": "execute_result"
        }
      ],
      "source": [
        "func_1"
      ]
    },
    {
      "cell_type": "markdown",
      "id": "752ea51c-8cd1-431e-b946-b5f0b032c69f",
      "metadata": {
        "id": "752ea51c-8cd1-431e-b946-b5f0b032c69f"
      },
      "source": [
        "*We can also define functions that take parameters:*"
      ]
    },
    {
      "cell_type": "code",
      "execution_count": null,
      "id": "ac851f1f-6737-42e9-b81e-0102dd9abd34",
      "metadata": {
        "id": "ac851f1f-6737-42e9-b81e-0102dd9abd34"
      },
      "outputs": [],
      "source": [
        "def func_2(a, b):\n",
        "    return a * b"
      ]
    },
    {
      "cell_type": "markdown",
      "id": "0ccf2c36-08b7-4857-8fc7-3969973100ab",
      "metadata": {
        "id": "0ccf2c36-08b7-4857-8fc7-3969973100ab"
      },
      "source": [
        "---\n",
        "**BE CAREFUL!**"
      ]
    },
    {
      "cell_type": "markdown",
      "id": "4c7c1bef-a6b6-483f-8121-8e01570fc14d",
      "metadata": {
        "id": "4c7c1bef-a6b6-483f-8121-8e01570fc14d"
      },
      "source": [
        "*Note that `a` and `b` can be any type (this is an example of polymorphism - which we will look into more detail later in this course).\n",
        "But the function will fail to run if `a` and `b` are types that are not \"compatible\" with the ` * ` operator:*"
      ]
    },
    {
      "cell_type": "code",
      "execution_count": null,
      "id": "e3226541-7c05-4d9b-99f8-a6a78490ba20",
      "metadata": {
        "id": "e3226541-7c05-4d9b-99f8-a6a78490ba20",
        "outputId": "d41cd22e-23c1-48e4-dd3c-6b6e003b7011"
      },
      "outputs": [
        {
          "data": {
            "text/plain": [
              "6"
            ]
          },
          "execution_count": 21,
          "metadata": {},
          "output_type": "execute_result"
        }
      ],
      "source": [
        "func_2(3, 2)"
      ]
    },
    {
      "cell_type": "code",
      "execution_count": null,
      "id": "d5f2b0e6-d801-44f0-b827-62475fc5c3a9",
      "metadata": {
        "id": "d5f2b0e6-d801-44f0-b827-62475fc5c3a9",
        "outputId": "c93524b2-2863-4654-b0b1-0a2ff3fa6301"
      },
      "outputs": [
        {
          "data": {
            "text/plain": [
              "'aaa'"
            ]
          },
          "execution_count": 22,
          "metadata": {},
          "output_type": "execute_result"
        }
      ],
      "source": [
        "func_2('a', 3)"
      ]
    },
    {
      "cell_type": "code",
      "execution_count": null,
      "id": "c08e7890-de62-4ce9-8043-d838f11d0c68",
      "metadata": {
        "id": "c08e7890-de62-4ce9-8043-d838f11d0c68",
        "outputId": "dc163da5-695b-4b73-aa10-cb0882404729"
      },
      "outputs": [
        {
          "ename": "TypeError",
          "evalue": "can't multiply sequence by non-int of type 'str'",
          "output_type": "error",
          "traceback": [
            "\u001b[1;31m---------------------------------------------------------------------------\u001b[0m",
            "\u001b[1;31mTypeError\u001b[0m                                 Traceback (most recent call last)",
            "Input \u001b[1;32mIn [23]\u001b[0m, in \u001b[0;36m<cell line: 1>\u001b[1;34m()\u001b[0m\n\u001b[1;32m----> 1\u001b[0m \u001b[43mfunc_2\u001b[49m\u001b[43m(\u001b[49m\u001b[38;5;124;43m'\u001b[39;49m\u001b[38;5;124;43ma\u001b[39;49m\u001b[38;5;124;43m'\u001b[39;49m\u001b[43m,\u001b[49m\u001b[43m \u001b[49m\u001b[38;5;124;43m'\u001b[39;49m\u001b[38;5;124;43mb\u001b[39;49m\u001b[38;5;124;43m'\u001b[39;49m\u001b[43m)\u001b[49m\n",
            "Input \u001b[1;32mIn [20]\u001b[0m, in \u001b[0;36mfunc_2\u001b[1;34m(a, b)\u001b[0m\n\u001b[0;32m      1\u001b[0m \u001b[38;5;28;01mdef\u001b[39;00m \u001b[38;5;21mfunc_2\u001b[39m(a, b):\n\u001b[1;32m----> 2\u001b[0m     \u001b[38;5;28;01mreturn\u001b[39;00m \u001b[43ma\u001b[49m\u001b[43m \u001b[49m\u001b[38;5;241;43m*\u001b[39;49m\u001b[43m \u001b[49m\u001b[43mb\u001b[49m\n",
            "\u001b[1;31mTypeError\u001b[0m: can't multiply sequence by non-int of type 'str'"
          ]
        }
      ],
      "source": [
        "func_2('a', 'b')"
      ]
    },
    {
      "cell_type": "markdown",
      "id": "365f7c4c-8213-4e30-83ec-70741fe813d2",
      "metadata": {
        "id": "365f7c4c-8213-4e30-83ec-70741fe813d2"
      },
      "source": [
        "It is possible to use type annotations:"
      ]
    },
    {
      "cell_type": "code",
      "execution_count": null,
      "id": "3a6281c4-6ccc-4d55-818d-b1ef8efc81e0",
      "metadata": {
        "id": "3a6281c4-6ccc-4d55-818d-b1ef8efc81e0"
      },
      "outputs": [],
      "source": [
        "def func_3(a: int, b: int):\n",
        "    return a * b"
      ]
    },
    {
      "cell_type": "code",
      "execution_count": null,
      "id": "8066c88d-599a-46a7-af9d-07f290020838",
      "metadata": {
        "id": "8066c88d-599a-46a7-af9d-07f290020838",
        "outputId": "925ce6fd-0a9d-405b-ac3c-360cbd84fae8"
      },
      "outputs": [
        {
          "data": {
            "text/plain": [
              "6"
            ]
          },
          "execution_count": 25,
          "metadata": {},
          "output_type": "execute_result"
        }
      ],
      "source": [
        "func_3(2 ,3)"
      ]
    },
    {
      "cell_type": "code",
      "execution_count": null,
      "id": "9f05d78e-719b-49a0-bf77-8a532023d594",
      "metadata": {
        "id": "9f05d78e-719b-49a0-bf77-8a532023d594",
        "outputId": "a7e45448-c72f-4a20-e628-a8aacd3ee05f"
      },
      "outputs": [
        {
          "data": {
            "text/plain": [
              "'aa'"
            ]
          },
          "execution_count": 26,
          "metadata": {},
          "output_type": "execute_result"
        }
      ],
      "source": [
        "func_3('a', 2)"
      ]
    },
    {
      "cell_type": "markdown",
      "id": "039d593b-ddda-494e-abc0-bbe1ffe00db6",
      "metadata": {
        "id": "039d593b-ddda-494e-abc0-bbe1ffe00db6"
      },
      "source": [
        "---\n",
        "**BE CAREFUL!**"
      ]
    },
    {
      "cell_type": "markdown",
      "id": "23f7c155-163c-4e3d-9744-5cccba09c21c",
      "metadata": {
        "id": "23f7c155-163c-4e3d-9744-5cccba09c21c"
      },
      "source": [
        "*But as you can see, these do not enforce a data type! They are simply metadata that can be used by external libraries, and many IDE's.*"
      ]
    },
    {
      "cell_type": "markdown",
      "id": "04fd541b-d392-4cc9-ba81-361b7664e6bb",
      "metadata": {
        "id": "04fd541b-d392-4cc9-ba81-361b7664e6bb"
      },
      "source": [
        "Functions are objects, just like integers are objects, and they can be assigned to variables just as an integer can:"
      ]
    },
    {
      "cell_type": "code",
      "execution_count": null,
      "id": "08846e87-a9cc-4c28-a705-198c37345f2f",
      "metadata": {
        "id": "08846e87-a9cc-4c28-a705-198c37345f2f"
      },
      "outputs": [],
      "source": [
        "my_func = func_3"
      ]
    },
    {
      "cell_type": "code",
      "execution_count": null,
      "id": "c10de314-fb33-4da7-94bf-c4abd974ac15",
      "metadata": {
        "id": "c10de314-fb33-4da7-94bf-c4abd974ac15",
        "outputId": "b0a70084-6097-43f1-9f14-b8eef4a9c194"
      },
      "outputs": [
        {
          "data": {
            "text/plain": [
              "'aa'"
            ]
          },
          "execution_count": 28,
          "metadata": {},
          "output_type": "execute_result"
        }
      ],
      "source": [
        "my_func('a', 2)"
      ]
    },
    {
      "cell_type": "markdown",
      "id": "4d3fde4e-e88f-4dbe-aac8-fa2508db85c3",
      "metadata": {
        "id": "4d3fde4e-e88f-4dbe-aac8-fa2508db85c3"
      },
      "source": [
        "---\n",
        "**BE CAREFUL!**"
      ]
    },
    {
      "cell_type": "markdown",
      "id": "47914a94-d579-4684-9be5-c75db0450184",
      "metadata": {
        "id": "47914a94-d579-4684-9be5-c75db0450184"
      },
      "source": [
        "*Functions must always return something. If you do not specify a return value, Python will automatically return the `None` object:*"
      ]
    },
    {
      "cell_type": "code",
      "execution_count": null,
      "id": "9d285b42-7607-4fe0-9e79-fa8e42b966e4",
      "metadata": {
        "id": "9d285b42-7607-4fe0-9e79-fa8e42b966e4"
      },
      "outputs": [],
      "source": [
        "def func_4():\n",
        "    # does something but does not return a value\n",
        "    a = 2"
      ]
    },
    {
      "cell_type": "code",
      "execution_count": null,
      "id": "f85fb60e-e488-4c90-85b8-6b9cbe54a12c",
      "metadata": {
        "id": "f85fb60e-e488-4c90-85b8-6b9cbe54a12c"
      },
      "outputs": [],
      "source": [
        "res = func_4()"
      ]
    },
    {
      "cell_type": "code",
      "execution_count": null,
      "id": "c02e3fff-82b2-4c1f-b5dd-a7addc1071e1",
      "metadata": {
        "id": "c02e3fff-82b2-4c1f-b5dd-a7addc1071e1",
        "outputId": "5d4e8a46-4fd4-4680-b04b-f23c927db471"
      },
      "outputs": [
        {
          "name": "stdout",
          "output_type": "stream",
          "text": [
            "None\n"
          ]
        }
      ],
      "source": [
        "print(res)"
      ]
    },
    {
      "cell_type": "markdown",
      "id": "df14598f-4fb4-4f3d-8218-5c246057f17a",
      "metadata": {
        "id": "df14598f-4fb4-4f3d-8218-5c246057f17a"
      },
      "source": [
        "The `def` keyword is an executable piece of code that creates the function (an instance of the function class) and essentially assigns it to a variable name ( the function name)."
      ]
    },
    {
      "cell_type": "markdown",
      "id": "2b22be23-ac1b-4f56-957d-d58d828cd090",
      "metadata": {
        "id": "2b22be23-ac1b-4f56-957d-d58d828cd090"
      },
      "source": [
        "---\n",
        "**BE CAREFUL!**"
      ]
    },
    {
      "cell_type": "markdown",
      "id": "8d336463-cd06-4faf-bb54-6dabc030e37f",
      "metadata": {
        "id": "8d336463-cd06-4faf-bb54-6dabc030e37f"
      },
      "source": [
        "*Note that the function is defined when `def` is reached, but the code inside it is not evaluated until the function is called.\n",
        "This is why we can define functions that call other functions defined later - as long as we don't call them before all the necessary functions are defined.\n",
        "For example, the following will work:*"
      ]
    },
    {
      "cell_type": "code",
      "execution_count": null,
      "id": "699f3a7a-d857-48d1-b22b-1aef5007e574",
      "metadata": {
        "id": "699f3a7a-d857-48d1-b22b-1aef5007e574",
        "outputId": "b0fbe4a8-0298-415d-f697-ed6e40324037"
      },
      "outputs": [
        {
          "name": "stdout",
          "output_type": "stream",
          "text": [
            "Hello\n"
          ]
        }
      ],
      "source": [
        "def fn_1():\n",
        "    fn_2()\n",
        "\n",
        "def fn_2():\n",
        "    print('Hello')\n",
        "\n",
        "fn_1()"
      ]
    },
    {
      "cell_type": "markdown",
      "id": "9a3326ac-15a6-40f1-b2a7-dbd7b272eed3",
      "metadata": {
        "id": "9a3326ac-15a6-40f1-b2a7-dbd7b272eed3"
      },
      "source": [
        "*But this will not work:*"
      ]
    },
    {
      "cell_type": "code",
      "execution_count": null,
      "id": "d39f637b-f82c-489b-b787-ab3607cb23c7",
      "metadata": {
        "id": "d39f637b-f82c-489b-b787-ab3607cb23c7",
        "outputId": "f32e5644-da62-4c72-94eb-fc65ae42e863"
      },
      "outputs": [
        {
          "ename": "NameError",
          "evalue": "name 'fn_4' is not defined",
          "output_type": "error",
          "traceback": [
            "\u001b[1;31m---------------------------------------------------------------------------\u001b[0m",
            "\u001b[1;31mNameError\u001b[0m                                 Traceback (most recent call last)",
            "Input \u001b[1;32mIn [34]\u001b[0m, in \u001b[0;36m<cell line: 4>\u001b[1;34m()\u001b[0m\n\u001b[0;32m      1\u001b[0m \u001b[38;5;28;01mdef\u001b[39;00m \u001b[38;5;21mfn_3\u001b[39m():\n\u001b[0;32m      2\u001b[0m     fn_4\n\u001b[1;32m----> 4\u001b[0m \u001b[43mfn_3\u001b[49m\u001b[43m(\u001b[49m\u001b[43m)\u001b[49m\n\u001b[0;32m      6\u001b[0m \u001b[38;5;28;01mdef\u001b[39;00m \u001b[38;5;21mfn_4\u001b[39m():\n\u001b[0;32m      7\u001b[0m     \u001b[38;5;28mprint\u001b[39m(\u001b[38;5;124m'\u001b[39m\u001b[38;5;124mHello\u001b[39m\u001b[38;5;124m'\u001b[39m)\n",
            "Input \u001b[1;32mIn [34]\u001b[0m, in \u001b[0;36mfn_3\u001b[1;34m()\u001b[0m\n\u001b[0;32m      1\u001b[0m \u001b[38;5;28;01mdef\u001b[39;00m \u001b[38;5;21mfn_3\u001b[39m():\n\u001b[1;32m----> 2\u001b[0m     \u001b[43mfn_4\u001b[49m\n",
            "\u001b[1;31mNameError\u001b[0m: name 'fn_4' is not defined"
          ]
        }
      ],
      "source": [
        "def fn_3():\n",
        "    fn_4\n",
        "\n",
        "fn_3()\n",
        "\n",
        "def fn_4():\n",
        "    print('Hello')"
      ]
    },
    {
      "cell_type": "markdown",
      "id": "dd17c67d-c305-4813-b911-50a8ae4059e4",
      "metadata": {
        "id": "dd17c67d-c305-4813-b911-50a8ae4059e4"
      },
      "source": [
        "We also have the `lambda` keyword, that also creates a new function, but does not assign it to any specific name - instead it just returns the function object - which we can, if we wish, assign yo a variable ourselves:"
      ]
    },
    {
      "cell_type": "code",
      "execution_count": null,
      "id": "0acc89a8-faef-4b1f-9baf-05981eedafa0",
      "metadata": {
        "id": "0acc89a8-faef-4b1f-9baf-05981eedafa0"
      },
      "outputs": [],
      "source": [
        "func_5 = lambda x: x ** 2"
      ]
    },
    {
      "cell_type": "code",
      "execution_count": null,
      "id": "27f8237c-349e-4edc-adeb-f989b25b942f",
      "metadata": {
        "id": "27f8237c-349e-4edc-adeb-f989b25b942f",
        "outputId": "f96c088d-d246-41d3-a326-0218515f3398"
      },
      "outputs": [
        {
          "data": {
            "text/plain": [
              "<function __main__.<lambda>(x)>"
            ]
          },
          "execution_count": 36,
          "metadata": {},
          "output_type": "execute_result"
        }
      ],
      "source": [
        "func_5"
      ]
    },
    {
      "cell_type": "code",
      "execution_count": null,
      "id": "a9882000-416e-41f3-86b1-41c49017dd8b",
      "metadata": {
        "id": "a9882000-416e-41f3-86b1-41c49017dd8b",
        "outputId": "156c3bdf-d5e0-4845-b808-f85248daa650"
      },
      "outputs": [
        {
          "data": {
            "text/plain": [
              "4"
            ]
          },
          "execution_count": 37,
          "metadata": {},
          "output_type": "execute_result"
        }
      ],
      "source": [
        "func_5(2)"
      ]
    },
    {
      "cell_type": "markdown",
      "id": "273e3104-83c1-4998-ad85-8f8e8598493d",
      "metadata": {
        "id": "273e3104-83c1-4998-ad85-8f8e8598493d"
      },
      "source": [
        "### 04 - The While Loop"
      ]
    },
    {
      "cell_type": "markdown",
      "id": "9895474b-8363-43cf-8019-a97d23997457",
      "metadata": {
        "id": "9895474b-8363-43cf-8019-a97d23997457"
      },
      "source": [
        "The while loop is a way to repeat a block of code as long as a specified condition is met.\n",
        "\n",
        "```\n",
        "while <exp is true>:\n",
        "    code block\n",
        "```"
      ]
    },
    {
      "cell_type": "code",
      "execution_count": null,
      "id": "40cb82e5-26e5-48d0-aa90-0c08fc7d01cd",
      "metadata": {
        "id": "40cb82e5-26e5-48d0-aa90-0c08fc7d01cd",
        "outputId": "a099360c-dcfa-461c-e367-17c6952166c5"
      },
      "outputs": [
        {
          "name": "stdout",
          "output_type": "stream",
          "text": [
            "0\n",
            "1\n",
            "2\n",
            "3\n",
            "4\n"
          ]
        }
      ],
      "source": [
        "i = 0\n",
        "while i < 5:\n",
        "    print(i)\n",
        "    i += 1"
      ]
    },
    {
      "cell_type": "markdown",
      "id": "c50df80c-db83-4fc9-8296-ebc64d5f13a8",
      "metadata": {
        "id": "c50df80c-db83-4fc9-8296-ebc64d5f13a8"
      },
      "source": [
        "---\n",
        "**BE CAREFUL!**"
      ]
    },
    {
      "cell_type": "markdown",
      "id": "c8540f2c-1056-45f0-a53f-db4015e334c1",
      "metadata": {
        "id": "c8540f2c-1056-45f0-a53f-db4015e334c1"
      },
      "source": [
        "*Note that there is no guarantee that a while loop will execute at all, not even once, because the condition is tested before the loop runs.*"
      ]
    },
    {
      "cell_type": "code",
      "execution_count": null,
      "id": "2896eb02-3743-479e-882e-4518614e92ca",
      "metadata": {
        "id": "2896eb02-3743-479e-882e-4518614e92ca"
      },
      "outputs": [],
      "source": [
        "i = 5\n",
        "while i < 5:\n",
        "    print(i)\n",
        "    i += 1"
      ]
    },
    {
      "cell_type": "markdown",
      "id": "41af3263-d317-4d7a-b037-de04dcb03484",
      "metadata": {
        "id": "41af3263-d317-4d7a-b037-de04dcb03484"
      },
      "source": [
        "*Some languages have a concept of a while loop that is guaranteed to executed at least one:*\n",
        "```\n",
        "do\n",
        "    code block\n",
        "while <exp is true>\n",
        "```\n",
        "*There is no such thing in Python, but it's easy to write code that works that way.*"
      ]
    },
    {
      "cell_type": "markdown",
      "id": "0ff64675-832b-437a-8a7e-b2aafc179813",
      "metadata": {
        "id": "0ff64675-832b-437a-8a7e-b2aafc179813"
      },
      "source": [
        "We create an infinite loop and test the condition inside the loop and break out of the loop when the condition becomes false:"
      ]
    },
    {
      "cell_type": "code",
      "execution_count": null,
      "id": "04471918-2418-4485-833c-43fe261e3791",
      "metadata": {
        "id": "04471918-2418-4485-833c-43fe261e3791",
        "outputId": "699388f1-e9b2-4758-8058-d5c86a32f6c4"
      },
      "outputs": [
        {
          "name": "stdout",
          "output_type": "stream",
          "text": [
            "5\n"
          ]
        }
      ],
      "source": [
        "i = 5\n",
        "\n",
        "while True:\n",
        "    print(i)\n",
        "    if i >= 5:\n",
        "        break"
      ]
    },
    {
      "cell_type": "markdown",
      "id": "926d82da-cc90-4789-80dc-abab0393963e",
      "metadata": {
        "id": "926d82da-cc90-4789-80dc-abab0393963e"
      },
      "source": [
        "As you can see the loop executed once ( and will always execute at least once, no matter the starting value of `i`.)\n",
        "This is a standard pattern and can be useful in a varity of scenarios.\n",
        "A simple example might be getting repetitive user input until the user performs and action or provides some specific value.\n",
        "we might try it this way:"
      ]
    },
    {
      "cell_type": "code",
      "execution_count": null,
      "id": "0615ae8a-0c69-4e65-8a81-31c2d967ef13",
      "metadata": {
        "id": "0615ae8a-0c69-4e65-8a81-31c2d967ef13",
        "outputId": "b58a8f44-7b7c-4dd7-a243-51df96813bfa"
      },
      "outputs": [
        {
          "name": "stdin",
          "output_type": "stream",
          "text": [
            "Please enter your name: serdar\n"
          ]
        },
        {
          "name": "stdout",
          "output_type": "stream",
          "text": [
            "Hello, serdar\n"
          ]
        }
      ],
      "source": [
        "min_length = 2\n",
        "name = input('Please enter your name:')\n",
        "while not(len(name) >= min_length and name.isprintable() and name.isalpha()):\n",
        "    name = input('Please enter your name:')\n",
        "print('Hello, {0}'.format(name))"
      ]
    },
    {
      "cell_type": "markdown",
      "id": "2d6d9696-37e6-4950-b2c5-19bd7c8f5ebe",
      "metadata": {
        "id": "2d6d9696-37e6-4950-b2c5-19bd7c8f5ebe"
      },
      "source": [
        "This works just fine, but notice that we had to write the code to elicit user input twice in our code. This is not good practice, and we can easily clean this up as follows:"
      ]
    },
    {
      "cell_type": "code",
      "execution_count": null,
      "id": "7f0aca3d-6c42-4c07-b976-347b4f63ee16",
      "metadata": {
        "id": "7f0aca3d-6c42-4c07-b976-347b4f63ee16",
        "outputId": "1266cc4d-ea37-4aed-92de-818f35e3a949"
      },
      "outputs": [
        {
          "name": "stdin",
          "output_type": "stream",
          "text": [
            "Please enter your name: serdar\n"
          ]
        },
        {
          "name": "stdout",
          "output_type": "stream",
          "text": [
            "Hello, serdar\n"
          ]
        }
      ],
      "source": [
        "min_length = 2\n",
        "\n",
        "while True:\n",
        "    name = input('Please enter your name:')\n",
        "    if len(name) >= min_length and name.isprintable() and name.isalpha():\n",
        "        break\n",
        "\n",
        "print('Hello, {0}'.format(name))"
      ]
    },
    {
      "cell_type": "markdown",
      "id": "bdfee749-1102-422c-9ca5-b09294dd580b",
      "metadata": {
        "id": "bdfee749-1102-422c-9ca5-b09294dd580b"
      },
      "source": [
        "We saw how the `break` statement exists the while loop and execution resumes on the line immediately after the while code block.\n",
        "\n",
        "Sometimes, we just want to cut the current iteration short, but continue looping, without exiting the loop itself.\n",
        "\n",
        "This is done using `continue` statement."
      ]
    },
    {
      "cell_type": "code",
      "execution_count": null,
      "id": "f4831d0b-4ba7-478f-acca-a103d532960f",
      "metadata": {
        "id": "f4831d0b-4ba7-478f-acca-a103d532960f",
        "outputId": "d021a580-1ceb-40cc-adfa-ac4b8dad9b79"
      },
      "outputs": [
        {
          "name": "stdout",
          "output_type": "stream",
          "text": [
            "2\n",
            "4\n",
            "6\n",
            "8\n",
            "10\n"
          ]
        }
      ],
      "source": [
        "a = 0\n",
        "while a < 10:\n",
        "    a += 1\n",
        "    if a % 2:\n",
        "        continue\n",
        "    print(a)"
      ]
    },
    {
      "cell_type": "markdown",
      "id": "41993aab-7cb7-42b9-bd9e-78ef0bbca0cf",
      "metadata": {
        "id": "41993aab-7cb7-42b9-bd9e-78ef0bbca0cf"
      },
      "source": [
        "---\n",
        "**BE CAREFUL!**"
      ]
    },
    {
      "cell_type": "markdown",
      "id": "fcc79add-76cc-4150-a08e-72f4b97751dc",
      "metadata": {
        "id": "fcc79add-76cc-4150-a08e-72f4b97751dc"
      },
      "source": [
        "*The while loop also can be used with an `else` clause!!*\n",
        "\n",
        "*The `else` is executed if the `while` loop terminated without hitting a `break` statement (we say the loop terminated normally)*\n",
        "\n",
        "*Suppose we want to test if some value is present in some list, and if not we want to append it to the list (again there are better ways of doing this):*\n",
        "\n",
        "*First, here's how we might do it wihout the benefit of the `else` clause:*"
      ]
    },
    {
      "cell_type": "code",
      "execution_count": null,
      "id": "ae722881-943a-49c6-8fc2-b4a31dc45f46",
      "metadata": {
        "id": "ae722881-943a-49c6-8fc2-b4a31dc45f46",
        "outputId": "ff8a0110-e025-4b47-aa4e-0be41845ea9a"
      },
      "outputs": [
        {
          "name": "stdout",
          "output_type": "stream",
          "text": [
            "[1, 2, 3, 10]\n"
          ]
        }
      ],
      "source": [
        "l = [1, 2, 3]\n",
        "val = 10\n",
        "\n",
        "found = False\n",
        "idx = 0\n",
        "while idx < len(l):\n",
        "    if l[idx] == val:\n",
        "        found = True\n",
        "        break\n",
        "    idx += 1\n",
        "\n",
        "if not found:\n",
        "    l.append(val)\n",
        "print(l)"
      ]
    },
    {
      "cell_type": "markdown",
      "id": "d036db92-a36c-4556-8801-9200c325bbbd",
      "metadata": {
        "id": "d036db92-a36c-4556-8801-9200c325bbbd"
      },
      "source": [
        "Using the `else` clause is easier:"
      ]
    },
    {
      "cell_type": "code",
      "execution_count": null,
      "id": "e7adbe2f-5d43-4bb2-9097-bf8ac63f3d41",
      "metadata": {
        "id": "e7adbe2f-5d43-4bb2-9097-bf8ac63f3d41",
        "outputId": "c84f2a82-61b1-4071-c702-89bbe94dc169"
      },
      "outputs": [
        {
          "name": "stdout",
          "output_type": "stream",
          "text": [
            "[1, 2, 3, 10]\n"
          ]
        }
      ],
      "source": [
        "l = [1, 2, 3]\n",
        "val = 10\n",
        "\n",
        "idx = 0\n",
        "while idx < len(l):\n",
        "    if l[idx] == val:\n",
        "        break\n",
        "    idx += 1\n",
        "else:\n",
        "    l.append(val)\n",
        "\n",
        "print(l)"
      ]
    },
    {
      "cell_type": "code",
      "execution_count": null,
      "id": "119c82d5-7e3d-4652-acf1-b190fa63b3d2",
      "metadata": {
        "id": "119c82d5-7e3d-4652-acf1-b190fa63b3d2",
        "outputId": "cec0ce4e-07a7-466c-da97-ce69a2949f07"
      },
      "outputs": [
        {
          "name": "stdout",
          "output_type": "stream",
          "text": [
            "[1, 2, 3]\n"
          ]
        }
      ],
      "source": [
        "l = [1, 2, 3]\n",
        "val = 3\n",
        "\n",
        "idx = 0\n",
        "while idx < len(l):\n",
        "    if l[idx] == val:\n",
        "        break\n",
        "    idx += 1\n",
        "else:\n",
        "    l.append(val)\n",
        "\n",
        "print(l)"
      ]
    },
    {
      "cell_type": "markdown",
      "id": "46e1e24d-612f-48dd-91e6-f9b91d460c8a",
      "metadata": {
        "id": "46e1e24d-612f-48dd-91e6-f9b91d460c8a"
      },
      "source": [
        "### 05 - Loop Break and Continue inside a Try...Except...Finally"
      ]
    },
    {
      "cell_type": "markdown",
      "id": "7636c69f-b13a-4a5f-a83e-b41e4c55fc47",
      "metadata": {
        "id": "7636c69f-b13a-4a5f-a83e-b41e4c55fc47"
      },
      "source": [
        "Recall that in a `try` statement, the `finally` clause always runs:"
      ]
    },
    {
      "cell_type": "code",
      "execution_count": null,
      "id": "67855314-a2a9-47d0-b28d-f86c90699782",
      "metadata": {
        "id": "67855314-a2a9-47d0-b28d-f86c90699782",
        "outputId": "535fdbd2-6b14-496c-b115-0b680ce20205"
      },
      "outputs": [
        {
          "name": "stdout",
          "output_type": "stream",
          "text": [
            "this always executes\n"
          ]
        }
      ],
      "source": [
        "from six import b\n",
        "a = 10\n",
        "b = 1\n",
        "try:\n",
        "    a / b\n",
        "except ZeroDivisionError:\n",
        "    print('division by 0')\n",
        "finally:\n",
        "    print('this always executes')"
      ]
    },
    {
      "cell_type": "code",
      "execution_count": null,
      "id": "4a101caf-fee2-4ef9-a831-4d066ba1424a",
      "metadata": {
        "id": "4a101caf-fee2-4ef9-a831-4d066ba1424a",
        "outputId": "e378af90-fcbc-4f93-816e-2271bde65d00"
      },
      "outputs": [
        {
          "name": "stdout",
          "output_type": "stream",
          "text": [
            "division by 0\n",
            "this always executes\n"
          ]
        }
      ],
      "source": [
        "from six import b\n",
        "a = 10\n",
        "b = 0\n",
        "try:\n",
        "    a / b\n",
        "except ZeroDivisionError:\n",
        "    print('division by 0')\n",
        "finally:\n",
        "    print('this always executes')"
      ]
    },
    {
      "cell_type": "markdown",
      "id": "bff7b06c-3bc0-4c8a-9193-263409b41bdb",
      "metadata": {
        "id": "bff7b06c-3bc0-4c8a-9193-263409b41bdb"
      },
      "source": [
        "So, what happens when using a `try` statement within a `while` loop, and a `continue` or `break` statement is encountered?"
      ]
    },
    {
      "cell_type": "code",
      "execution_count": null,
      "id": "5f09996c-a2eb-4de5-8d90-13389c1c0e41",
      "metadata": {
        "id": "5f09996c-a2eb-4de5-8d90-13389c1c0e41",
        "outputId": "2e9877f3-1dfa-4cd8-fb52-ce20c6edc728"
      },
      "outputs": [
        {
          "name": "stdout",
          "output_type": "stream",
          "text": [
            "----------\n",
            "1, 1 - always executes\n",
            "1, 1 - main loop\n",
            "----------\n",
            "2, 0 - division by 0\n",
            "2, 0 - always executes\n",
            "----------\n",
            "3, -1 - always executes\n",
            "3, -1 - main loop\n"
          ]
        }
      ],
      "source": [
        "a = 0\n",
        "b = 2\n",
        "\n",
        "while a < 3:\n",
        "    print('----------')\n",
        "    a += 1\n",
        "    b -=1\n",
        "    try:\n",
        "        res = a / b\n",
        "    except ZeroDivisionError:\n",
        "        print('{0}, {1} - division by 0'.format(a, b))\n",
        "        res = 0\n",
        "        continue\n",
        "    finally:\n",
        "        print('{0}, {1} - always executes'.format(a, b))\n",
        "    print('{0}, {1} - main loop'.format(a, b))"
      ]
    },
    {
      "cell_type": "markdown",
      "id": "b8dd8339-6e0a-4140-9129-b8c2095e3ef5",
      "metadata": {
        "id": "b8dd8339-6e0a-4140-9129-b8c2095e3ef5"
      },
      "source": [
        "As you can see in the above result, the finally code still executed, even though the current iteration was cut short with the continue statement.\n",
        "<p>This works the same with a break statement:"
      ]
    },
    {
      "cell_type": "code",
      "execution_count": null,
      "id": "5066e9d9-1001-4a75-bb0a-33474b4d9bbc",
      "metadata": {
        "id": "5066e9d9-1001-4a75-bb0a-33474b4d9bbc",
        "outputId": "f194d626-4437-43d4-aa27-c50bebb9e2e4"
      },
      "outputs": [
        {
          "name": "stdout",
          "output_type": "stream",
          "text": [
            "----------\n",
            "1, 1 - always executes\n",
            "1, 1 - main loop\n",
            "----------\n",
            "2, 0 - division by 0\n",
            "2, 0 - always executes\n"
          ]
        }
      ],
      "source": [
        "a = 0\n",
        "b = 2\n",
        "\n",
        "while a < 3:\n",
        "    print('----------')\n",
        "    a += 1\n",
        "    b -=1\n",
        "    try:\n",
        "        res = a / b\n",
        "    except ZeroDivisionError:\n",
        "        print('{0}, {1} - division by 0'.format(a, b))\n",
        "        res = 0\n",
        "        break\n",
        "    finally:\n",
        "        print('{0}, {1} - always executes'.format(a, b))\n",
        "    print('{0}, {1} - main loop'.format(a, b))"
      ]
    },
    {
      "cell_type": "markdown",
      "id": "d8d7e611-49b0-488f-931d-c7122a46afaa",
      "metadata": {
        "id": "d8d7e611-49b0-488f-931d-c7122a46afaa"
      },
      "source": [
        "We can even combine all this with the `else` clause:"
      ]
    },
    {
      "cell_type": "code",
      "execution_count": null,
      "id": "b9f9d41c-b3e6-4e23-b3d7-ea6ffeefd638",
      "metadata": {
        "id": "b9f9d41c-b3e6-4e23-b3d7-ea6ffeefd638",
        "outputId": "a2d528ed-f1cf-4c2b-9516-3a1d6d50d60b"
      },
      "outputs": [
        {
          "name": "stdout",
          "output_type": "stream",
          "text": [
            "----------\n",
            "1, 1 - always executes\n",
            "1, 1 - main loop\n",
            "----------\n",
            "2, 0 - division by 0\n",
            "2, 0 - always executes\n"
          ]
        }
      ],
      "source": [
        "a = 0\n",
        "b = 2\n",
        "\n",
        "while a < 3:\n",
        "    print('----------')\n",
        "    a += 1\n",
        "    b -=1\n",
        "    try:\n",
        "        res = a / b\n",
        "    except ZeroDivisionError:\n",
        "        print('{0}, {1} - division by 0'.format(a, b))\n",
        "        res = 0\n",
        "        break\n",
        "    finally:\n",
        "        print('{0}, {1} - always executes'.format(a, b))\n",
        "    print('{0}, {1} - main loop'.format(a, b))\n",
        "else:\n",
        "    print('\\n\\nno errors were encountered!')"
      ]
    },
    {
      "cell_type": "code",
      "execution_count": null,
      "id": "b9eb356b-be33-433d-9594-2b8c5607fbcd",
      "metadata": {
        "id": "b9eb356b-be33-433d-9594-2b8c5607fbcd",
        "outputId": "06d3d3ba-2286-434c-9977-359b9cb39e09"
      },
      "outputs": [
        {
          "name": "stdout",
          "output_type": "stream",
          "text": [
            "----------\n",
            "1, 4 - always executes\n",
            "1, 4 - main loop\n",
            "----------\n",
            "2, 3 - always executes\n",
            "2, 3 - main loop\n",
            "----------\n",
            "3, 2 - always executes\n",
            "3, 2 - main loop\n",
            "\n",
            "\n",
            "no errors were encountered!\n"
          ]
        }
      ],
      "source": [
        "a = 0\n",
        "b = 5\n",
        "\n",
        "while a < 3:\n",
        "    print('----------')\n",
        "    a += 1\n",
        "    b -=1\n",
        "    try:\n",
        "        res = a / b\n",
        "    except ZeroDivisionError:\n",
        "        print('{0}, {1} - division by 0'.format(a, b))\n",
        "        res = 0\n",
        "        break\n",
        "    finally:\n",
        "        print('{0}, {1} - always executes'.format(a, b))\n",
        "    print('{0}, {1} - main loop'.format(a, b))\n",
        "else:\n",
        "    print('\\n\\nno errors were encountered!')"
      ]
    },
    {
      "cell_type": "markdown",
      "id": "fac2f7d5-d418-41b5-bf55-b401e6bfdaf0",
      "metadata": {
        "id": "fac2f7d5-d418-41b5-bf55-b401e6bfdaf0"
      },
      "source": [
        "### 06 - The For Loop"
      ]
    },
    {
      "cell_type": "markdown",
      "id": "31ca8db8-c02d-44d8-9c86-b27fb32e192a",
      "metadata": {
        "id": "31ca8db8-c02d-44d8-9c86-b27fb32e192a"
      },
      "source": [
        "In Python, an iterable is an object capable of returning values one at a time.\n",
        "\n",
        "Many objects in Python are iterable: lists, strings, file objects and many more."
      ]
    },
    {
      "cell_type": "markdown",
      "id": "7fbf0229-a59b-4b3f-b1da-72a427bf0620",
      "metadata": {
        "id": "7fbf0229-a59b-4b3f-b1da-72a427bf0620"
      },
      "source": [
        "---\n",
        "**BE CAREFUL!**"
      ]
    },
    {
      "cell_type": "markdown",
      "id": "204760f8-d397-4e2d-a7b9-8982d3597412",
      "metadata": {
        "id": "204760f8-d397-4e2d-a7b9-8982d3597412"
      },
      "source": [
        "*Note: Our definition of an iterable did not state it was a collection of values - we only said it is an object that can return values one at a time - that's a subtle difference that when we look into iterators and generators.*"
      ]
    },
    {
      "cell_type": "markdown",
      "id": "bffb161a-783e-41f5-a5f9-b81f991fca02",
      "metadata": {
        "id": "bffb161a-783e-41f5-a5f9-b81f991fca02"
      },
      "source": [
        "The `for` keyword can be used to iterate an iterable.\n",
        "\n",
        "If you come with a background in another programming language, you have probably seen for loops defined this way:\n",
        "\n",
        "\n",
        "```\n",
        "for (int i=0; i < 5; i++) {\n",
        "    //code block\n",
        "}\n",
        "```\n",
        "This form of the `for` loop is simply a repetition, very similar to a `while` loop - in fact it is equivalent to what we could write in Python as follows:"
      ]
    },
    {
      "cell_type": "code",
      "execution_count": null,
      "id": "b36fed12-e75f-482c-85ca-ba19656332b5",
      "metadata": {
        "id": "b36fed12-e75f-482c-85ca-ba19656332b5",
        "outputId": "a630d40a-fccc-4a01-8559-07ffa7458bbd"
      },
      "outputs": [
        {
          "name": "stdout",
          "output_type": "stream",
          "text": [
            "0\n",
            "1\n",
            "2\n",
            "3\n",
            "4\n"
          ]
        }
      ],
      "source": [
        "i = 0\n",
        "while i < 5:\n",
        "    #code block\n",
        "    print(i)\n",
        "    i += 1\n",
        "i = None"
      ]
    },
    {
      "cell_type": "markdown",
      "id": "37c77e55-50f5-4b1d-a287-6181131f22ec",
      "metadata": {
        "id": "37c77e55-50f5-4b1d-a287-6181131f22ec"
      },
      "source": [
        "But that's NOT what the `for` statement does in Python - the `for` statement is a way to iterate over iterables, and has nothing to do with the `for` loop we just saw. The closest equivalent we have in Python is the `while` loop written as above.\n",
        "\n",
        "The use the `for` loop in Python, we require an iterable object to work with.\n",
        "\n",
        "A simple iterable object is generated via the `range()` function"
      ]
    },
    {
      "cell_type": "code",
      "execution_count": null,
      "id": "7480c0f8-0305-45bb-aa21-2da2923bb2cb",
      "metadata": {
        "id": "7480c0f8-0305-45bb-aa21-2da2923bb2cb",
        "outputId": "63d8d95e-33ce-4e6b-e506-99ed29cfd697"
      },
      "outputs": [
        {
          "name": "stdout",
          "output_type": "stream",
          "text": [
            "0\n",
            "1\n",
            "2\n",
            "3\n",
            "4\n"
          ]
        }
      ],
      "source": [
        "for i in range(5):\n",
        "    print(i)"
      ]
    },
    {
      "cell_type": "markdown",
      "id": "ac2371b5-26bc-4b7e-b4d3-be0abc02cfa9",
      "metadata": {
        "id": "ac2371b5-26bc-4b7e-b4d3-be0abc02cfa9"
      },
      "source": [
        "Many objects are iterable in Python:"
      ]
    },
    {
      "cell_type": "code",
      "execution_count": null,
      "id": "3fc3c313-f388-4e12-88ae-0eae994b876c",
      "metadata": {
        "id": "3fc3c313-f388-4e12-88ae-0eae994b876c",
        "outputId": "32b6b739-f6a6-4b31-b3d6-393019ea8b86"
      },
      "outputs": [
        {
          "name": "stdout",
          "output_type": "stream",
          "text": [
            "1\n",
            "2\n",
            "3\n"
          ]
        }
      ],
      "source": [
        "for x in [1, 2, 3]:\n",
        "    print(x)"
      ]
    },
    {
      "cell_type": "code",
      "execution_count": null,
      "id": "2ae82471-f7f6-43ca-b4da-3e390539d7b5",
      "metadata": {
        "id": "2ae82471-f7f6-43ca-b4da-3e390539d7b5",
        "outputId": "1487cb5d-9b26-49f5-81ac-fb4ba469573a"
      },
      "outputs": [
        {
          "name": "stdout",
          "output_type": "stream",
          "text": [
            "h\n",
            "e\n",
            "l\n",
            "l\n",
            "o\n"
          ]
        }
      ],
      "source": [
        "for x in 'hello':\n",
        "    print(x)"
      ]
    },
    {
      "cell_type": "code",
      "execution_count": null,
      "id": "81458fe8-75a9-41fb-820f-0541d9999241",
      "metadata": {
        "id": "81458fe8-75a9-41fb-820f-0541d9999241",
        "outputId": "56440d35-aebf-4f8d-8ab9-29321101ac0e"
      },
      "outputs": [
        {
          "name": "stdout",
          "output_type": "stream",
          "text": [
            "a\n",
            "b\n",
            "c\n"
          ]
        }
      ],
      "source": [
        "for x in ('a', 'b', 'c'):\n",
        "    print(x)"
      ]
    },
    {
      "cell_type": "markdown",
      "id": "ab3f0275-30e5-4fd8-b68f-814f2e470e24",
      "metadata": {
        "id": "ab3f0275-30e5-4fd8-b68f-814f2e470e24"
      },
      "source": [
        "When we iterate over an iterable, each iteration returns the `next` value (or object) in the iterable:"
      ]
    },
    {
      "cell_type": "code",
      "execution_count": null,
      "id": "5250e288-76c6-4be2-81f7-6209f19ac9ec",
      "metadata": {
        "id": "5250e288-76c6-4be2-81f7-6209f19ac9ec",
        "outputId": "9316820e-979c-4af4-e13c-23cca29525b9"
      },
      "outputs": [
        {
          "name": "stdout",
          "output_type": "stream",
          "text": [
            "(1, 2)\n",
            "(3, 4)\n",
            "(5, 6)\n"
          ]
        }
      ],
      "source": [
        "for x in [(1, 2), (3, 4), (5, 6)]:\n",
        "    print(x)"
      ]
    },
    {
      "cell_type": "markdown",
      "id": "166f09cd-a78c-4708-94dd-ede0015cbdb5",
      "metadata": {
        "id": "166f09cd-a78c-4708-94dd-ede0015cbdb5"
      },
      "source": [
        "We can even assign the individual tuple values to specific named variables:"
      ]
    },
    {
      "cell_type": "code",
      "execution_count": null,
      "id": "5d7fcd69-d013-414e-99e1-847476b9a056",
      "metadata": {
        "id": "5d7fcd69-d013-414e-99e1-847476b9a056",
        "outputId": "e22224ae-189a-46ae-8a6d-68ccc0f6a7b3"
      },
      "outputs": [
        {
          "name": "stdout",
          "output_type": "stream",
          "text": [
            "1 2\n",
            "3 4\n",
            "5 6\n"
          ]
        }
      ],
      "source": [
        "for i, j in [(1, 2), (3, 4), (5, 6)]:\n",
        "    print(i, j)"
      ]
    },
    {
      "cell_type": "markdown",
      "id": "df215fa7-fbb6-4765-8a3e-2366d20de7ca",
      "metadata": {
        "id": "df215fa7-fbb6-4765-8a3e-2366d20de7ca"
      },
      "source": [
        "The `break` and `continue` statements work just as well in `for` loops as they do in `while` loops:"
      ]
    },
    {
      "cell_type": "code",
      "execution_count": null,
      "id": "078499ec-0350-4e52-b21b-41015044a695",
      "metadata": {
        "id": "078499ec-0350-4e52-b21b-41015044a695",
        "outputId": "9b906eed-5744-41f5-d564-00fa95b81c8a"
      },
      "outputs": [
        {
          "name": "stdout",
          "output_type": "stream",
          "text": [
            "0\n",
            "1\n",
            "2\n",
            "4\n"
          ]
        }
      ],
      "source": [
        "for i in range(5):\n",
        "    if i == 3:\n",
        "        continue\n",
        "    print(i)"
      ]
    },
    {
      "cell_type": "code",
      "execution_count": null,
      "id": "3f72183b-0d6b-4c4a-83aa-d05e55dfefc1",
      "metadata": {
        "id": "3f72183b-0d6b-4c4a-83aa-d05e55dfefc1",
        "outputId": "117dc519-ac37-460c-c542-de4c2ee3f01f"
      },
      "outputs": [
        {
          "name": "stdout",
          "output_type": "stream",
          "text": [
            "0\n",
            "1\n",
            "2\n"
          ]
        }
      ],
      "source": [
        "for i in range(5):\n",
        "    if i == 3:\n",
        "        break\n",
        "    print(i)"
      ]
    },
    {
      "cell_type": "markdown",
      "id": "6ad24121-6b10-4604-8c9c-2cbe0e4d3e70",
      "metadata": {
        "id": "6ad24121-6b10-4604-8c9c-2cbe0e4d3e70"
      },
      "source": [
        "---\n",
        "**BE CAREFUL**"
      ]
    },
    {
      "cell_type": "markdown",
      "id": "f6035d3a-9ca0-40f1-9741-47c8667644a8",
      "metadata": {
        "id": "f6035d3a-9ca0-40f1-9741-47c8667644a8"
      },
      "source": [
        "*The `for` loop, like the `while` loop, also supports an `else` clause which is executed if and only if the loop terminates normally (i.e. did not exit because of a `break` statement)*"
      ]
    },
    {
      "cell_type": "code",
      "execution_count": null,
      "id": "381867bc-4df4-4269-909a-304cd0eac57b",
      "metadata": {
        "id": "381867bc-4df4-4269-909a-304cd0eac57b",
        "outputId": "ccf76afe-0338-45da-f132-e21f29c480c1"
      },
      "outputs": [
        {
          "name": "stdout",
          "output_type": "stream",
          "text": [
            "1\n",
            "2\n",
            "3\n",
            "4\n",
            "No multiples of 7 encountered\n"
          ]
        }
      ],
      "source": [
        "for i in range(1, 5):\n",
        "    print(i)\n",
        "    if i % 7 == 0:\n",
        "        print('multiple of 7 found')\n",
        "        break\n",
        "else:\n",
        "    print('No multiples of 7 encountered')"
      ]
    },
    {
      "cell_type": "code",
      "execution_count": null,
      "id": "400f47dd-11f4-440c-ba5e-64f14efbda12",
      "metadata": {
        "id": "400f47dd-11f4-440c-ba5e-64f14efbda12",
        "outputId": "62480ac1-56a6-4a55-a755-cf15c8e785c4"
      },
      "outputs": [
        {
          "name": "stdout",
          "output_type": "stream",
          "text": [
            "1\n",
            "2\n",
            "3\n",
            "4\n",
            "5\n",
            "6\n",
            "7\n",
            "multiple of 7 found\n"
          ]
        }
      ],
      "source": [
        "for i in range(1, 8):\n",
        "    print(i)\n",
        "    if i % 7 == 0:\n",
        "        print('multiple of 7 found')\n",
        "        break\n",
        "else:\n",
        "    print('No multiples of 7 encountered')"
      ]
    },
    {
      "cell_type": "markdown",
      "id": "f1080a08-3018-4e18-accc-137f256b542c",
      "metadata": {
        "id": "f1080a08-3018-4e18-accc-137f256b542c"
      },
      "source": [
        "Similarly to the `while` loop, `break` and `continue` work just the same in the context of a `try` statement's `finally` clause."
      ]
    },
    {
      "cell_type": "code",
      "execution_count": null,
      "id": "786bf16d-142d-4e13-83dc-bcac61c97117",
      "metadata": {
        "id": "786bf16d-142d-4e13-83dc-bcac61c97117",
        "outputId": "9a648911-44d7-47e5-bd1e-51d79b0c889b"
      },
      "outputs": [
        {
          "name": "stdout",
          "output_type": "stream",
          "text": [
            "-----------\n",
            "always runs\n",
            "0\n",
            "-----------\n",
            "always runs\n",
            "1\n",
            "-----------\n",
            "always runs\n",
            "2\n",
            "-----------\n",
            "divided by 0\n",
            "always runs\n",
            "-----------\n",
            "always runs\n",
            "4\n"
          ]
        }
      ],
      "source": [
        "for i in range(5):\n",
        "    print('-----------')\n",
        "    try:\n",
        "        10 / (i - 3)\n",
        "    except ZeroDivisionError:\n",
        "        print('divided by 0')\n",
        "        continue\n",
        "    finally:\n",
        "        print('always runs')\n",
        "    print(i)"
      ]
    },
    {
      "cell_type": "markdown",
      "id": "93dee5e9-356f-4e75-ae33-9d57292b83e2",
      "metadata": {
        "id": "93dee5e9-356f-4e75-ae33-9d57292b83e2"
      },
      "source": [
        "There are a number of standard techniques to iterate over iterables:"
      ]
    },
    {
      "cell_type": "code",
      "execution_count": null,
      "id": "2b5b12c1-a9a9-45a8-a488-68f33133e360",
      "metadata": {
        "id": "2b5b12c1-a9a9-45a8-a488-68f33133e360",
        "outputId": "c533d183-a838-4929-9b7b-5801b5ea9222"
      },
      "outputs": [
        {
          "name": "stdout",
          "output_type": "stream",
          "text": [
            "h\n",
            "e\n",
            "l\n",
            "l\n",
            "o\n"
          ]
        }
      ],
      "source": [
        "s = 'hello'\n",
        "for c in s:\n",
        "    print(c)"
      ]
    },
    {
      "cell_type": "markdown",
      "id": "d7cfa59f-2c73-4a1b-b5c0-0bccb94586ca",
      "metadata": {
        "id": "d7cfa59f-2c73-4a1b-b5c0-0bccb94586ca"
      },
      "source": [
        "But sometimes, for indexable iterable types (e.g. sequences), we want to also know the index of the item in the loop:"
      ]
    },
    {
      "cell_type": "code",
      "execution_count": null,
      "id": "a3db218d-c3d5-40e4-96ac-063b3d314e63",
      "metadata": {
        "id": "a3db218d-c3d5-40e4-96ac-063b3d314e63",
        "outputId": "b9bf5457-f4c0-4ab6-fe32-aab18ba96fdc"
      },
      "outputs": [
        {
          "name": "stdout",
          "output_type": "stream",
          "text": [
            "0 h\n",
            "1 e\n",
            "2 l\n",
            "3 l\n",
            "4 o\n"
          ]
        }
      ],
      "source": [
        "s = 'hello'\n",
        "i = 0\n",
        "for c in s:\n",
        "    print(i, c)\n",
        "    i += 1"
      ]
    },
    {
      "cell_type": "markdown",
      "id": "b51610b7-8a41-4f34-906a-06f93a42246f",
      "metadata": {
        "id": "b51610b7-8a41-4f34-906a-06f93a42246f"
      },
      "source": [
        "Slightly better approach might be:"
      ]
    },
    {
      "cell_type": "code",
      "execution_count": null,
      "id": "3855f5a1-55aa-4eab-b3df-c6859966d5e4",
      "metadata": {
        "id": "3855f5a1-55aa-4eab-b3df-c6859966d5e4",
        "outputId": "03bc7bd0-b9a7-48ec-9952-dca0e264931e"
      },
      "outputs": [
        {
          "name": "stdout",
          "output_type": "stream",
          "text": [
            "0 h\n",
            "1 e\n",
            "2 l\n",
            "3 l\n",
            "4 o\n"
          ]
        }
      ],
      "source": [
        "s = 'hello'\n",
        "\n",
        "for i in range(len(s)):\n",
        "    print(i, s[i])"
      ]
    },
    {
      "cell_type": "markdown",
      "id": "d90c7ace-c362-4f68-a1ff-87fedc2c8f15",
      "metadata": {
        "id": "d90c7ace-c362-4f68-a1ff-87fedc2c8f15"
      },
      "source": [
        "or even better:"
      ]
    },
    {
      "cell_type": "markdown",
      "id": "69e96e16-13f6-4ef5-8f59-23a6ad172633",
      "metadata": {
        "id": "69e96e16-13f6-4ef5-8f59-23a6ad172633"
      },
      "source": [
        "### 07 - Classes"
      ]
    },
    {
      "cell_type": "markdown",
      "id": "4e4fe8da-54d8-4429-af78-a0acb1ddc087",
      "metadata": {
        "id": "4e4fe8da-54d8-4429-af78-a0acb1ddc087"
      },
      "source": [
        "**Custom Classes**"
      ]
    },
    {
      "cell_type": "markdown",
      "id": "11df0072-e91e-4919-9a14-4bd52d29542d",
      "metadata": {
        "id": "11df0072-e91e-4919-9a14-4bd52d29542d"
      },
      "source": [
        "To create a custom class we use the `class` keyword, and we can initialize class attributes in the special method `__init__`."
      ]
    },
    {
      "cell_type": "code",
      "execution_count": null,
      "id": "b3b8f164-7bf9-4a77-81af-60711b093e35",
      "metadata": {
        "id": "b3b8f164-7bf9-4a77-81af-60711b093e35"
      },
      "outputs": [],
      "source": [
        "class Rectangle:\n",
        "    def __init__(self, width, height):\n",
        "        self.width = width\n",
        "        self.height = height"
      ]
    },
    {
      "cell_type": "markdown",
      "id": "0115eed9-0a26-4ffe-9b81-197781808c51",
      "metadata": {
        "id": "0115eed9-0a26-4ffe-9b81-197781808c51"
      },
      "source": [
        "We create instances of the `Rectangle` class by calling it with arguments that are passed to the `__init__` method as the second and third arguments. The first argument `(self)` is automatically filled in by Python and contains the object being created."
      ]
    },
    {
      "cell_type": "markdown",
      "id": "5db8f78b-9c44-4bc0-ae29-b76af1066fd7",
      "metadata": {
        "id": "5db8f78b-9c44-4bc0-ae29-b76af1066fd7"
      },
      "source": [
        "---\n",
        "**BE CAREFUL!**"
      ]
    },
    {
      "cell_type": "markdown",
      "id": "fca46ae2-2f14-424d-b0fb-79804b70d99d",
      "metadata": {
        "id": "fca46ae2-2f14-424d-b0fb-79804b70d99d"
      },
      "source": [
        "*Note that using `self` is just a convention (although a good one, and you should use it to make your code more understandable by others), you could really call it whatever (valid) name you choose.*"
      ]
    },
    {
      "cell_type": "markdown",
      "id": "853831d4-2d73-4ab8-9b34-c716b7fa7b39",
      "metadata": {
        "id": "853831d4-2d73-4ab8-9b34-c716b7fa7b39"
      },
      "source": [
        "But just because you can does not mean you should!"
      ]
    },
    {
      "cell_type": "code",
      "execution_count": null,
      "id": "1338d626-e540-4cd0-8fbd-cc39167f1b3d",
      "metadata": {
        "id": "1338d626-e540-4cd0-8fbd-cc39167f1b3d"
      },
      "outputs": [],
      "source": [
        "r1 = Rectangle(10, 20)\n",
        "r2 = Rectangle(3, 5)"
      ]
    },
    {
      "cell_type": "code",
      "execution_count": null,
      "id": "9fa35f87-53aa-4a07-8a62-606330ae8ddb",
      "metadata": {
        "id": "9fa35f87-53aa-4a07-8a62-606330ae8ddb",
        "outputId": "6913e436-26f8-4355-ec2e-cbed2e28ab9f"
      },
      "outputs": [
        {
          "data": {
            "text/plain": [
              "10"
            ]
          },
          "execution_count": 74,
          "metadata": {},
          "output_type": "execute_result"
        }
      ],
      "source": [
        "r1.width"
      ]
    },
    {
      "cell_type": "code",
      "execution_count": null,
      "id": "cd9911cb-0f83-418c-a805-8d1dd667fc8d",
      "metadata": {
        "id": "cd9911cb-0f83-418c-a805-8d1dd667fc8d",
        "outputId": "4e3969de-7dae-41e7-9535-cce903ef162f"
      },
      "outputs": [
        {
          "data": {
            "text/plain": [
              "5"
            ]
          },
          "execution_count": 75,
          "metadata": {},
          "output_type": "execute_result"
        }
      ],
      "source": [
        "r2.height"
      ]
    },
    {
      "cell_type": "markdown",
      "id": "35e71abd-051e-4fd2-9505-f97990ff5da7",
      "metadata": {
        "id": "35e71abd-051e-4fd2-9505-f97990ff5da7"
      },
      "source": [
        "`width` and `height` are attributes of the `Rectangle` class. But since they are just values (not callables), we call them properties.\n",
        "\n",
        "Attributes that are callables are called methods.\n",
        "\n",
        "You'll note that we were able to retrieve the `width` and `height` attributes (properties) using a dot notation, where we specify the object we are interested in, then a dot, then the attribute we are interested in.\n",
        "\n",
        "We can add callable attributes to our class (methods), that will also be referenced using the dot notation.\n",
        "\n",
        "Again, we will create instance methods, which means the method will require the first argument to be the object being used when the method is called."
      ]
    },
    {
      "cell_type": "code",
      "execution_count": null,
      "id": "60873ffb-f59b-4bbc-9d4a-f58460854425",
      "metadata": {
        "id": "60873ffb-f59b-4bbc-9d4a-f58460854425"
      },
      "outputs": [],
      "source": [
        "class Rectangle:\n",
        "    def __init__(self, width, height):\n",
        "        self.width = width\n",
        "        self.height = height\n",
        "    \n",
        "    def area(self):\n",
        "        return self.width * self.height\n",
        "\n",
        "    def perimeter(the_referenced_object):\n",
        "        return 2 * (the_referenced_object.width + the_referenced_object.height)"
      ]
    },
    {
      "cell_type": "code",
      "execution_count": null,
      "id": "a640959e-a7b0-466b-bbaa-7b26b8edc4df",
      "metadata": {
        "id": "a640959e-a7b0-466b-bbaa-7b26b8edc4df"
      },
      "outputs": [],
      "source": [
        "r1 = Rectangle(10, 20)"
      ]
    },
    {
      "cell_type": "code",
      "execution_count": null,
      "id": "3414af58-d972-4ce7-b343-c81bddecfb30",
      "metadata": {
        "id": "3414af58-d972-4ce7-b343-c81bddecfb30",
        "outputId": "37492bb1-c194-4450-fb85-e9f498510d75"
      },
      "outputs": [
        {
          "data": {
            "text/plain": [
              "200"
            ]
          },
          "execution_count": 79,
          "metadata": {},
          "output_type": "execute_result"
        }
      ],
      "source": [
        "r1.area()"
      ]
    },
    {
      "cell_type": "markdown",
      "id": "dda99751-5462-4b2a-b0fc-07de61361ff7",
      "metadata": {
        "id": "dda99751-5462-4b2a-b0fc-07de61361ff7"
      },
      "source": [
        "When we ran the above line of code, our object was `r1`, so when `area` was called, Python in fact called the method area in the `Rectangle` class automatically passing `r1` to the `self` parameter.\n",
        "\n",
        "This is why we can use a name other than `self`, such as in the `perimeter` method:"
      ]
    },
    {
      "cell_type": "code",
      "execution_count": null,
      "id": "0214198f-5448-47ad-88dc-99581c32c402",
      "metadata": {
        "id": "0214198f-5448-47ad-88dc-99581c32c402",
        "outputId": "f2c08450-371c-4a8a-ebdc-b5b5a59ebf6f"
      },
      "outputs": [
        {
          "data": {
            "text/plain": [
              "60"
            ]
          },
          "execution_count": 80,
          "metadata": {},
          "output_type": "execute_result"
        }
      ],
      "source": [
        "r1.perimeter()"
      ]
    },
    {
      "cell_type": "markdown",
      "id": "45a7f84d-faa5-4886-8a47-1e7b22bea856",
      "metadata": {
        "id": "45a7f84d-faa5-4886-8a47-1e7b22bea856"
      },
      "source": [
        "Again, I'm just illustrating a point, don't actually do that!"
      ]
    },
    {
      "cell_type": "code",
      "execution_count": null,
      "id": "f36cacf2-1cee-404d-b1cb-748ede1cae7c",
      "metadata": {
        "id": "f36cacf2-1cee-404d-b1cb-748ede1cae7c"
      },
      "outputs": [],
      "source": [
        "class Rectangle:\n",
        "    def __init__(self, width, height):\n",
        "        self.width = width\n",
        "        self.height = height\n",
        "    \n",
        "    def area(self):\n",
        "        return self.width * self.height\n",
        "\n",
        "    def perimeter(self):\n",
        "        return 2 * (self.width + self.height)"
      ]
    },
    {
      "cell_type": "code",
      "execution_count": null,
      "id": "b32976ed-0eea-4d1e-ae00-6553ebe20ff4",
      "metadata": {
        "id": "b32976ed-0eea-4d1e-ae00-6553ebe20ff4"
      },
      "outputs": [],
      "source": [
        "r1 = Rectangle(10, 20)"
      ]
    },
    {
      "cell_type": "markdown",
      "id": "2b265c16-85cb-4c99-9322-cf21baa0197b",
      "metadata": {
        "id": "2b265c16-85cb-4c99-9322-cf21baa0197b"
      },
      "source": [
        "Python defines a bunch of special methods that we can use to give our classes functionality that resembles functionality of built-in and standard library objects.\n",
        "\n",
        "Many people refer to them as magic methods, but there's nothing magical about them - unlike magic, they are well documented and understood!!\n",
        "\n",
        "These special methods provide us an easy way to overload operators in Python.\n",
        "\n",
        "For example, we can obtain the string representation of an integer using the built-in `str` function:"
      ]
    },
    {
      "cell_type": "code",
      "execution_count": null,
      "id": "d507ef02-07f7-4d74-a32f-9b20d5e863b2",
      "metadata": {
        "id": "d507ef02-07f7-4d74-a32f-9b20d5e863b2",
        "outputId": "127822a1-a3d2-4975-8ee1-6721c21f3a6f"
      },
      "outputs": [
        {
          "data": {
            "text/plain": [
              "'10'"
            ]
          },
          "execution_count": 84,
          "metadata": {},
          "output_type": "execute_result"
        }
      ],
      "source": [
        "str(10)"
      ]
    },
    {
      "cell_type": "markdown",
      "id": "b446a43b-71b9-4a59-8c1e-cc19bb913880",
      "metadata": {
        "id": "b446a43b-71b9-4a59-8c1e-cc19bb913880"
      },
      "source": [
        "What happens if we try this with our Rectangle object?"
      ]
    },
    {
      "cell_type": "code",
      "execution_count": null,
      "id": "abd8cbb5-1286-4bca-8a1b-85659590530a",
      "metadata": {
        "id": "abd8cbb5-1286-4bca-8a1b-85659590530a",
        "outputId": "156fd776-e658-4957-8d07-4c5765692b64"
      },
      "outputs": [
        {
          "data": {
            "text/plain": [
              "'<__main__.Rectangle object at 0x000001BC655A3CA0>'"
            ]
          },
          "execution_count": 85,
          "metadata": {},
          "output_type": "execute_result"
        }
      ],
      "source": [
        "str(r1)"
      ]
    },
    {
      "cell_type": "markdown",
      "id": "abc88a53-bc20-4770-b88e-68305e350dd0",
      "metadata": {
        "id": "abc88a53-bc20-4770-b88e-68305e350dd0"
      },
      "source": [
        "Not exactly what we might have expected. On the other hand, how is Python supposed to know how to display our rectangle as a string?\n",
        "<p>We could write a method in the class such as:"
      ]
    },
    {
      "cell_type": "code",
      "execution_count": null,
      "id": "170acf0d-65f0-4e19-9b0b-179fe24f2410",
      "metadata": {
        "id": "170acf0d-65f0-4e19-9b0b-179fe24f2410"
      },
      "outputs": [],
      "source": [
        "class Rectangle:\n",
        "    def __init__(self, width, height):\n",
        "        self.width = width\n",
        "        self.height = height\n",
        "    \n",
        "    def area(self):\n",
        "        return self.width * self.height\n",
        "    \n",
        "    def perimeter(self):\n",
        "        return 2 * (self.width + self.height)\n",
        "    \n",
        "    def to_str(self):\n",
        "        return 'Rectangle (width={0}, height={1})'.format(self.width, self.height)"
      ]
    },
    {
      "cell_type": "markdown",
      "id": "840831cf-ff11-48a2-8360-8e91c1a2b846",
      "metadata": {
        "id": "840831cf-ff11-48a2-8360-8e91c1a2b846"
      },
      "source": [
        "So we could get a string from our object as follows:"
      ]
    },
    {
      "cell_type": "code",
      "execution_count": null,
      "id": "d2f986c4-21fb-4db1-8699-5c4612929938",
      "metadata": {
        "id": "d2f986c4-21fb-4db1-8699-5c4612929938",
        "outputId": "d7feab67-70f8-4c43-8a0c-0dce346543cc"
      },
      "outputs": [
        {
          "data": {
            "text/plain": [
              "'Rectangle (width=10, height=20)'"
            ]
          },
          "execution_count": 87,
          "metadata": {},
          "output_type": "execute_result"
        }
      ],
      "source": [
        "r1 = Rectangle(10, 20)\n",
        "r1.to_str()"
      ]
    },
    {
      "cell_type": "markdown",
      "id": "ea010e51-8049-4e82-96c4-87ad09decdba",
      "metadata": {
        "id": "ea010e51-8049-4e82-96c4-87ad09decdba"
      },
      "source": [
        "But of course, using the built-in `str` function still does not work:"
      ]
    },
    {
      "cell_type": "code",
      "execution_count": null,
      "id": "ee80d317-1a3c-401f-950d-af21e0a25244",
      "metadata": {
        "id": "ee80d317-1a3c-401f-950d-af21e0a25244",
        "outputId": "55f54345-917f-4d12-93e1-9214e6de2489"
      },
      "outputs": [
        {
          "data": {
            "text/plain": [
              "'<__main__.Rectangle object at 0x000001BC65584EE0>'"
            ]
          },
          "execution_count": 88,
          "metadata": {},
          "output_type": "execute_result"
        }
      ],
      "source": [
        "str(r1)"
      ]
    },
    {
      "cell_type": "markdown",
      "id": "8c309167-7b8e-45c0-a57b-fd339f4abdee",
      "metadata": {
        "id": "8c309167-7b8e-45c0-a57b-fd339f4abdee"
      },
      "source": [
        "Does this mean we are our of luck, and anyone who writes a class in Python will need to provide some method to do this, and probably come up with their own name for the method too, maybe `to_str`, `make_string`, `stringify`, and who knows what else.\n",
        "\n",
        "Fortunately, this is where these special methods come in. When we call `str(r1)`, Python will first look to see if our class `(Rectangle)` has a special method called  `__str__` .\n",
        "\n",
        "If the `__str__` method is present, then Python will call it and return that value.\n",
        "\n",
        "There's actually another one called `__repr__` which is related, but we'll focus on `__str__` for now."
      ]
    },
    {
      "cell_type": "code",
      "execution_count": null,
      "id": "69c8e55a-ae4b-4921-9e08-b265c8fe6921",
      "metadata": {
        "id": "69c8e55a-ae4b-4921-9e08-b265c8fe6921"
      },
      "outputs": [],
      "source": [
        "class Rectangle:\n",
        "    def __init__(self, width, height):\n",
        "        self.width = width\n",
        "        self.height = height\n",
        "        \n",
        "    def area(self):\n",
        "        return self.width * self.height\n",
        "    \n",
        "    def perimeter(self):\n",
        "        return 2 * (self.width + self.height)\n",
        "    \n",
        "    def __str__(self):\n",
        "        return 'Rectangle (width={0}, height={1})'.format(self.width, self.height)"
      ]
    },
    {
      "cell_type": "code",
      "execution_count": null,
      "id": "d303a5a7-75f6-4728-bba9-38599bdf81ab",
      "metadata": {
        "id": "d303a5a7-75f6-4728-bba9-38599bdf81ab"
      },
      "outputs": [],
      "source": [
        "r1 = Rectangle(10, 20)"
      ]
    },
    {
      "cell_type": "code",
      "execution_count": null,
      "id": "66385780-1ef8-4cc8-a181-65fbb6a3f591",
      "metadata": {
        "id": "66385780-1ef8-4cc8-a181-65fbb6a3f591",
        "outputId": "b90089ac-7049-42a4-e6d5-9dbb80f758a2"
      },
      "outputs": [
        {
          "data": {
            "text/plain": [
              "'Rectangle (width=10, height=20)'"
            ]
          },
          "execution_count": 91,
          "metadata": {},
          "output_type": "execute_result"
        }
      ],
      "source": [
        "str(r1)"
      ]
    },
    {
      "cell_type": "markdown",
      "id": "583aec6d-024a-4ca5-8ebd-162319b93628",
      "metadata": {
        "id": "583aec6d-024a-4ca5-8ebd-162319b93628"
      },
      "source": [
        "However, in Jupyter (and interactive console if you are using that), look what happens here:"
      ]
    },
    {
      "cell_type": "code",
      "execution_count": null,
      "id": "ded465d5-2614-4a26-9639-e7004ae2cfbe",
      "metadata": {
        "id": "ded465d5-2614-4a26-9639-e7004ae2cfbe",
        "outputId": "8b424d58-bfca-4544-94e3-2370082841e0"
      },
      "outputs": [
        {
          "data": {
            "text/plain": [
              "<__main__.Rectangle at 0x1bc657655b0>"
            ]
          },
          "execution_count": 93,
          "metadata": {},
          "output_type": "execute_result"
        }
      ],
      "source": [
        "r1"
      ]
    },
    {
      "cell_type": "markdown",
      "id": "58314d20-b855-4657-a1a5-af0e89bd7368",
      "metadata": {
        "id": "58314d20-b855-4657-a1a5-af0e89bd7368"
      },
      "source": [
        "As you can see we still get that default. That's because here Python is not converting `r1` to a string, but instead looking for a string representation of the object. It is looking for the `__repr__` method."
      ]
    },
    {
      "cell_type": "code",
      "execution_count": null,
      "id": "91288565-7ecc-4154-9130-d0b1f2a966a4",
      "metadata": {
        "id": "91288565-7ecc-4154-9130-d0b1f2a966a4"
      },
      "outputs": [],
      "source": [
        "class Rectangle:\n",
        "    def __init__(self, width, height):\n",
        "        self.width = width\n",
        "        self.height = height\n",
        "        \n",
        "    def area(self):\n",
        "        return self.width * self.height\n",
        "    \n",
        "    def perimeter(self):\n",
        "        return 2 * (self.width + self.height)\n",
        "    \n",
        "    def __str__(self):\n",
        "        return 'Rectangle (width={0}, height={1})'.format(self.width, self.height)\n",
        "    \n",
        "    def __repr__(self):\n",
        "        return 'Rectangle({0}, {1})'.format(self.width, self.height)"
      ]
    },
    {
      "cell_type": "code",
      "execution_count": null,
      "id": "ca0e5e21-6976-4631-bd91-76411aeb598e",
      "metadata": {
        "id": "ca0e5e21-6976-4631-bd91-76411aeb598e"
      },
      "outputs": [],
      "source": [
        "r1 = Rectangle(10, 20)"
      ]
    },
    {
      "cell_type": "code",
      "execution_count": null,
      "id": "2bac7c53-012d-4891-af77-382eba3a1592",
      "metadata": {
        "id": "2bac7c53-012d-4891-af77-382eba3a1592",
        "outputId": "a85e5dcd-9d18-412a-a520-e85f082f15b1"
      },
      "outputs": [
        {
          "name": "stdout",
          "output_type": "stream",
          "text": [
            "Rectangle (width=10, height=20)\n"
          ]
        }
      ],
      "source": [
        "print(r1) # uses __str__"
      ]
    },
    {
      "cell_type": "code",
      "execution_count": null,
      "id": "b3c37360-f5ed-4531-bf00-61d45391d76b",
      "metadata": {
        "id": "b3c37360-f5ed-4531-bf00-61d45391d76b",
        "outputId": "fa303334-0a72-4cc3-f49a-6a704fb68695"
      },
      "outputs": [
        {
          "data": {
            "text/plain": [
              "Rectangle(10, 20)"
            ]
          },
          "execution_count": 97,
          "metadata": {},
          "output_type": "execute_result"
        }
      ],
      "source": [
        "r1 # uses __repr__"
      ]
    },
    {
      "cell_type": "markdown",
      "id": "aa73a0f6-d5cf-475f-8718-eea7f0bd43bf",
      "metadata": {
        "id": "aa73a0f6-d5cf-475f-8718-eea7f0bd43bf"
      },
      "source": [
        "How about the comparison operators, such as `==` or `<` ?"
      ]
    },
    {
      "cell_type": "code",
      "execution_count": null,
      "id": "a91a6572-93ef-476e-926b-833e86b35075",
      "metadata": {
        "id": "a91a6572-93ef-476e-926b-833e86b35075"
      },
      "outputs": [],
      "source": [
        "r1 = Rectangle(10, 20)\n",
        "r2 = Rectangle(10, 20)"
      ]
    },
    {
      "cell_type": "code",
      "execution_count": null,
      "id": "fdf20b09-5b7d-46ab-84fa-9445e360bc4c",
      "metadata": {
        "id": "fdf20b09-5b7d-46ab-84fa-9445e360bc4c",
        "outputId": "175e8d6a-48c4-4272-a053-d47000d97d97"
      },
      "outputs": [
        {
          "data": {
            "text/plain": [
              "False"
            ]
          },
          "execution_count": 99,
          "metadata": {},
          "output_type": "execute_result"
        }
      ],
      "source": [
        "r1 == r2"
      ]
    },
    {
      "cell_type": "markdown",
      "id": "1f259009-d557-4861-93cd-4a27786d0b7c",
      "metadata": {
        "id": "1f259009-d557-4861-93cd-4a27786d0b7c"
      },
      "source": [
        "As you can see, Python does not consider `r1` and `r2` as equal (using the `==` operator). Again, how is Python supposed to know that two `Rectangle` objects with the same `height` and `width` should be considered equal?\n",
        "\n",
        "We just need to tell Python how to do it, using the special method `__eq__`\n"
      ]
    },
    {
      "cell_type": "code",
      "execution_count": null,
      "id": "ec626f96-3569-47f7-b27b-11aa85e30b5d",
      "metadata": {
        "id": "ec626f96-3569-47f7-b27b-11aa85e30b5d"
      },
      "outputs": [],
      "source": [
        "class Rectangle:\n",
        "    def __init__(self, width, height):\n",
        "        self.width = width\n",
        "        self.height = height\n",
        "        \n",
        "    def area(self):\n",
        "        return self.width * self.height\n",
        "    \n",
        "    def perimeter(self):\n",
        "        return 2 * (self.width + self.height)\n",
        "    \n",
        "    def __str__(self):\n",
        "        return 'Rectangle (width={0}, height={1})'.format(self.width, self.height)\n",
        "    \n",
        "    def __repr__(self):\n",
        "        return 'Rectangle({0}, {1})'.format(self.width, self.height)\n",
        "    \n",
        "    def __eq__(self, other):\n",
        "        print('self={0}, other={1}'.format(self, other))\n",
        "        if isinstance(other, Rectangle):\n",
        "            return (self.width, self.height) == (other.width, other.height)\n",
        "        else:\n",
        "            return False"
      ]
    },
    {
      "cell_type": "code",
      "execution_count": null,
      "id": "a0572ea8-097b-40ad-97c9-30e7f326f220",
      "metadata": {
        "id": "a0572ea8-097b-40ad-97c9-30e7f326f220"
      },
      "outputs": [],
      "source": [
        "r1 = Rectangle(10, 20)\n",
        "r2 = Rectangle(10, 20)"
      ]
    },
    {
      "cell_type": "code",
      "execution_count": null,
      "id": "7dd35116-eedc-459a-af5c-ee15aab59f35",
      "metadata": {
        "id": "7dd35116-eedc-459a-af5c-ee15aab59f35",
        "outputId": "c55f5b6b-e8f4-4cf1-eeca-ad151de95bb9"
      },
      "outputs": [
        {
          "data": {
            "text/plain": [
              "False"
            ]
          },
          "execution_count": 102,
          "metadata": {},
          "output_type": "execute_result"
        }
      ],
      "source": [
        "r1 is r2"
      ]
    },
    {
      "cell_type": "code",
      "execution_count": null,
      "id": "b79f56d4-15fc-4eab-8825-69abc3c2eec9",
      "metadata": {
        "id": "b79f56d4-15fc-4eab-8825-69abc3c2eec9",
        "outputId": "9182288e-df77-4b70-d0c6-7370379c13f3"
      },
      "outputs": [
        {
          "name": "stdout",
          "output_type": "stream",
          "text": [
            "self=Rectangle (width=10, height=20), other=Rectangle (width=10, height=20)\n"
          ]
        },
        {
          "data": {
            "text/plain": [
              "True"
            ]
          },
          "execution_count": 103,
          "metadata": {},
          "output_type": "execute_result"
        }
      ],
      "source": [
        "r1 == r2"
      ]
    },
    {
      "cell_type": "code",
      "execution_count": null,
      "id": "3e4766af-fa40-4c47-8d17-884e9661be47",
      "metadata": {
        "id": "3e4766af-fa40-4c47-8d17-884e9661be47"
      },
      "outputs": [],
      "source": [
        "r3 = Rectangle(2, 3)"
      ]
    },
    {
      "cell_type": "markdown",
      "id": "91ed0577-044d-480d-911e-7f36a24651dd",
      "metadata": {
        "id": "91ed0577-044d-480d-911e-7f36a24651dd"
      },
      "source": [
        "And if we try to compare our `Rectangle` to a different type:"
      ]
    },
    {
      "cell_type": "code",
      "execution_count": null,
      "id": "685fdb46-528b-41c2-9901-69d87f1a835d",
      "metadata": {
        "id": "685fdb46-528b-41c2-9901-69d87f1a835d",
        "outputId": "784bf868-5313-4714-b90f-efd4d26e3e4d"
      },
      "outputs": [
        {
          "name": "stdout",
          "output_type": "stream",
          "text": [
            "self=Rectangle (width=10, height=20), other=100\n"
          ]
        },
        {
          "data": {
            "text/plain": [
              "False"
            ]
          },
          "execution_count": 105,
          "metadata": {},
          "output_type": "execute_result"
        }
      ],
      "source": [
        "r1 == 100"
      ]
    },
    {
      "cell_type": "markdown",
      "id": "8c0c5752-ff38-4332-ad10-a654d5a4f6f6",
      "metadata": {
        "id": "8c0c5752-ff38-4332-ad10-a654d5a4f6f6"
      },
      "source": [
        "Let's remove that `print` statement - I only put that in so you could see what the arguments were, in practice you should avoid side effects."
      ]
    },
    {
      "cell_type": "code",
      "execution_count": null,
      "id": "17a07875-6708-4850-afb1-7b3d3c81c1f7",
      "metadata": {
        "id": "17a07875-6708-4850-afb1-7b3d3c81c1f7"
      },
      "outputs": [],
      "source": [
        "class Rectangle:\n",
        "    def __init__(self, width, height):\n",
        "        self.width = width\n",
        "        self.height = height\n",
        "        \n",
        "    def area(self):\n",
        "        return self.width * self.height\n",
        "    \n",
        "    def perimeter(self):\n",
        "        return 2 * (self.width + self.height)\n",
        "    \n",
        "    def __str__(self):\n",
        "        return 'Rectangle (width={0}, height={1})'.format(self.width, self.height)\n",
        "    \n",
        "    def __repr__(self):\n",
        "        return 'Rectangle({0}, {1})'.format(self.width, self.height)\n",
        "    \n",
        "    def __eq__(self, other):\n",
        "        if isinstance(other, Rectangle):\n",
        "            return (self.width, self.height) == (other.width, other.height)\n",
        "        else:\n",
        "            return False"
      ]
    },
    {
      "cell_type": "markdown",
      "id": "9cd3ed20-b59f-4783-9f63-2f226d967bfd",
      "metadata": {
        "id": "9cd3ed20-b59f-4783-9f63-2f226d967bfd"
      },
      "source": [
        "What about `<`, `>`, `<=`, etc.?\n",
        "\n",
        "Again, Python has special methods we can use to provide that functionality.\n",
        "\n",
        "These are methods such as `__lt__`, `__gt__`, `__le__`, etc."
      ]
    },
    {
      "cell_type": "code",
      "execution_count": null,
      "id": "8237a9df-f3ca-4843-9aeb-8b66ce36505b",
      "metadata": {
        "id": "8237a9df-f3ca-4843-9aeb-8b66ce36505b"
      },
      "outputs": [],
      "source": [
        "class Rectangle:\n",
        "    def __init__(self, width, height):\n",
        "        self.width = width\n",
        "        self.height = height\n",
        "        \n",
        "    def area(self):\n",
        "        return self.width * self.height\n",
        "    \n",
        "    def perimeter(self):\n",
        "        return 2 * (self.width + self.height)\n",
        "    \n",
        "    def __str__(self):\n",
        "        return 'Rectangle (width={0}, height={1})'.format(self.width, self.height)\n",
        "    \n",
        "    def __repr__(self):\n",
        "        return 'Rectangle({0}, {1})'.format(self.width, self.height)\n",
        "    \n",
        "    def __eq__(self, other):\n",
        "        if isinstance(other, Rectangle):\n",
        "            return (self.width, self.height) == (other.width, other.height)\n",
        "        else:\n",
        "            return False\n",
        "    \n",
        "    def __lt__(self, other):\n",
        "        if isinstance(other, Rectangle):\n",
        "            return self.area() < other.area()\n",
        "        else:\n",
        "            return NotImplemented"
      ]
    },
    {
      "cell_type": "code",
      "execution_count": null,
      "id": "45b6ba8e-e411-43f9-9a2e-bb01154d1af6",
      "metadata": {
        "id": "45b6ba8e-e411-43f9-9a2e-bb01154d1af6"
      },
      "outputs": [],
      "source": [
        "r1 = Rectangle(100, 200)\n",
        "r2 = Rectangle(10, 20)"
      ]
    },
    {
      "cell_type": "code",
      "execution_count": null,
      "id": "33cb4b55-d8ca-45a8-a0b1-bbb5b37fc1a4",
      "metadata": {
        "id": "33cb4b55-d8ca-45a8-a0b1-bbb5b37fc1a4",
        "outputId": "499e058d-a4d2-42c7-8333-867864c55f79"
      },
      "outputs": [
        {
          "data": {
            "text/plain": [
              "False"
            ]
          },
          "execution_count": 109,
          "metadata": {},
          "output_type": "execute_result"
        }
      ],
      "source": [
        "r1 < r2"
      ]
    },
    {
      "cell_type": "code",
      "execution_count": null,
      "id": "6e8958af-28e9-4cd4-9a81-8c934909a2e9",
      "metadata": {
        "id": "6e8958af-28e9-4cd4-9a81-8c934909a2e9",
        "outputId": "2b258e38-d7b5-44a5-f36d-a10a464efe03"
      },
      "outputs": [
        {
          "data": {
            "text/plain": [
              "True"
            ]
          },
          "execution_count": 110,
          "metadata": {},
          "output_type": "execute_result"
        }
      ],
      "source": [
        "r2 < r1"
      ]
    },
    {
      "cell_type": "markdown",
      "id": "90647aca-20e3-4647-a2f0-e85e5d706dce",
      "metadata": {
        "id": "90647aca-20e3-4647-a2f0-e85e5d706dce"
      },
      "source": [
        "What about `>` ?"
      ]
    },
    {
      "cell_type": "code",
      "execution_count": null,
      "id": "ce3a673a-4233-4544-acce-c861e2ec0c6d",
      "metadata": {
        "id": "ce3a673a-4233-4544-acce-c861e2ec0c6d",
        "outputId": "0d9aad2e-4ecc-470c-91db-87135861fa9e"
      },
      "outputs": [
        {
          "data": {
            "text/plain": [
              "True"
            ]
          },
          "execution_count": 111,
          "metadata": {},
          "output_type": "execute_result"
        }
      ],
      "source": [
        "r1 > r2"
      ]
    },
    {
      "cell_type": "markdown",
      "id": "5a64a2bd-272a-4352-afd7-a174505c5a89",
      "metadata": {
        "id": "5a64a2bd-272a-4352-afd7-a174505c5a89"
      },
      "source": [
        "How did that work? We did not define a `__gt__` method\n",
        "\n",
        "Well, Python cleverly decided that since `r1 > r2` was not implemented, it would give `r2 < r1`\n",
        "\n",
        "a try. And since, `__lt__` is defined, it worked!\n",
        "\n",
        "Of course, `<=` is not going to magically work!"
      ]
    },
    {
      "cell_type": "code",
      "execution_count": null,
      "id": "6e7a98a7-e784-4878-b34b-d2bf67705070",
      "metadata": {
        "id": "6e7a98a7-e784-4878-b34b-d2bf67705070",
        "outputId": "152b2aa4-9fe3-4ae1-b9d3-7286acd62bc0"
      },
      "outputs": [
        {
          "ename": "TypeError",
          "evalue": "'<=' not supported between instances of 'Rectangle' and 'Rectangle'",
          "output_type": "error",
          "traceback": [
            "\u001b[1;31m---------------------------------------------------------------------------\u001b[0m",
            "\u001b[1;31mTypeError\u001b[0m                                 Traceback (most recent call last)",
            "Input \u001b[1;32mIn [112]\u001b[0m, in \u001b[0;36m<cell line: 1>\u001b[1;34m()\u001b[0m\n\u001b[1;32m----> 1\u001b[0m \u001b[43mr1\u001b[49m\u001b[43m \u001b[49m\u001b[38;5;241;43m<\u001b[39;49m\u001b[38;5;241;43m=\u001b[39;49m\u001b[43m \u001b[49m\u001b[43mr2\u001b[49m\n",
            "\u001b[1;31mTypeError\u001b[0m: '<=' not supported between instances of 'Rectangle' and 'Rectangle'"
          ]
        }
      ],
      "source": [
        "r1 <= r2"
      ]
    },
    {
      "cell_type": "markdown",
      "id": "c1132f11-b6a8-4c2c-b6d2-bc596611d1ad",
      "metadata": {
        "id": "c1132f11-b6a8-4c2c-b6d2-bc596611d1ad"
      },
      "source": [
        "If you come from a Java background, you are probably thinking that using \"bare\" properties (direct access), such as height and width is a terrible design idea.\n",
        "\n",
        "It is for Java, but not for Python.\n",
        "\n",
        "Although you can use bare properties in Java, If you ever need to intercept the getting or setting of a property, you will need to write a method (such as getWidth and setWidth.) The problem is that if you used a bare width property for example, a lot of your code might be using obj.width (as we have been doing here). The instant you make the width private and instead implement getters and setters, you break your code. Hence one of the reasons why in Java we just write getters and setters for properties from the beginning.\n",
        "\n",
        "With Python this is not the case - we can change any bare property into getters and setters without beraking the code that uses that bare property.\n",
        "\n",
        "I'll show you a quick example here, but we'll come back to this topic in much more detail later. Let's take our Rectangle class once again. I'll use a simplified version to keep the code short."
      ]
    },
    {
      "cell_type": "code",
      "execution_count": null,
      "id": "b02aebc2-3a3a-4be2-9ae0-dbcad1596bd5",
      "metadata": {
        "id": "b02aebc2-3a3a-4be2-9ae0-dbcad1596bd5"
      },
      "outputs": [],
      "source": [
        "class Rectangle:\n",
        "    def __init__(self, width, height):\n",
        "        self.width = width\n",
        "        self.height = height\n",
        "    \n",
        "    def __repr__(self):\n",
        "        return 'Rectangle({0}, {1})'.format(self.width, self.height)"
      ]
    },
    {
      "cell_type": "code",
      "execution_count": null,
      "id": "8437262c-ddd1-48eb-8aa3-d1422be0b388",
      "metadata": {
        "id": "8437262c-ddd1-48eb-8aa3-d1422be0b388"
      },
      "outputs": [],
      "source": [
        "r1 = Rectangle(10, 20)"
      ]
    },
    {
      "cell_type": "code",
      "execution_count": null,
      "id": "7d9a5dcc-997f-4764-86f4-1b5fa8b12417",
      "metadata": {
        "id": "7d9a5dcc-997f-4764-86f4-1b5fa8b12417",
        "outputId": "4a87d843-0e9d-47df-e27d-6b371f6f1e90"
      },
      "outputs": [
        {
          "data": {
            "text/plain": [
              "10"
            ]
          },
          "execution_count": 115,
          "metadata": {},
          "output_type": "execute_result"
        }
      ],
      "source": [
        "r1.width"
      ]
    },
    {
      "cell_type": "code",
      "execution_count": null,
      "id": "8e9c273e-56a7-4222-9f6e-ec850ecb31ce",
      "metadata": {
        "id": "8e9c273e-56a7-4222-9f6e-ec850ecb31ce"
      },
      "outputs": [],
      "source": [
        "r1.width = 100"
      ]
    },
    {
      "cell_type": "code",
      "execution_count": null,
      "id": "3d53cb83-f435-41bd-bef3-8eeef5ae4e02",
      "metadata": {
        "id": "3d53cb83-f435-41bd-bef3-8eeef5ae4e02",
        "outputId": "06aa866c-e307-4140-ae94-d08e7ffc9a28"
      },
      "outputs": [
        {
          "data": {
            "text/plain": [
              "Rectangle(100, 20)"
            ]
          },
          "execution_count": 117,
          "metadata": {},
          "output_type": "execute_result"
        }
      ],
      "source": [
        "r1"
      ]
    },
    {
      "cell_type": "markdown",
      "id": "1e94170d-4ccf-4410-bbca-19707dd37f7f",
      "metadata": {
        "id": "1e94170d-4ccf-4410-bbca-19707dd37f7f"
      },
      "source": [
        "As you saw we can get and set the width property directly.\n",
        "\n",
        "But let's say after this code has been released for a while and users of our class have been using it (and specifically setting and getting the `width` and `height` attribute a lot), but now we want to make sure users cannot set a non-positive value (i.e. `<=` 0) for `width` (or `height`, but we'll focus on `width` as an example).\n",
        "\n",
        "In a language like Java, we would implement `getWidth` and `setWidth` and make width private - which would break any code directly accessing the `width` property.\n",
        "\n",
        "In Python we can use some special decorators (more on those later) to encapsulate our property getters and setters:"
      ]
    },
    {
      "cell_type": "code",
      "execution_count": null,
      "id": "37204b3a-7f17-42d9-bb5d-e5b64473ae1e",
      "metadata": {
        "id": "37204b3a-7f17-42d9-bb5d-e5b64473ae1e"
      },
      "outputs": [],
      "source": [
        "class Rectangle:\n",
        "    def __init__(self, width, height):\n",
        "        self._width = width\n",
        "        self._height = height\n",
        "    \n",
        "    def __repr__(self):\n",
        "        return 'Rectangle({0}, {1})'.format(self.width, self.height)\n",
        "    \n",
        "    @property\n",
        "    def width(self):\n",
        "        return self._width\n",
        "    \n",
        "    @width.setter\n",
        "    def width(self, width):\n",
        "        if width <= 0:\n",
        "            raise ValueError('Width must be positive.')\n",
        "        self._width = width\n",
        "    \n",
        "    @property\n",
        "    def height(self):\n",
        "        return self._height\n",
        "    \n",
        "    @height.setter\n",
        "    def height(self, height):\n",
        "        if height <= 0:\n",
        "            raise ValueError('Height must be positive.')\n",
        "        self._height = height"
      ]
    },
    {
      "cell_type": "code",
      "execution_count": null,
      "id": "ee35ffbe-0fb0-4076-84fb-871783306e05",
      "metadata": {
        "id": "ee35ffbe-0fb0-4076-84fb-871783306e05"
      },
      "outputs": [],
      "source": [
        "r1 = Rectangle(10, 20)"
      ]
    },
    {
      "cell_type": "code",
      "execution_count": null,
      "id": "b7076c08-dde2-4d4a-904b-b741064b10e9",
      "metadata": {
        "id": "b7076c08-dde2-4d4a-904b-b741064b10e9",
        "outputId": "56269c52-838d-4933-cc7c-a3f7707cf885"
      },
      "outputs": [
        {
          "data": {
            "text/plain": [
              "10"
            ]
          },
          "execution_count": 120,
          "metadata": {},
          "output_type": "execute_result"
        }
      ],
      "source": [
        "r1.width"
      ]
    },
    {
      "cell_type": "code",
      "execution_count": null,
      "id": "aa09c54e-fffb-414e-b25a-43dd8e85c4cc",
      "metadata": {
        "id": "aa09c54e-fffb-414e-b25a-43dd8e85c4cc"
      },
      "outputs": [],
      "source": [
        "r1.width = 100"
      ]
    },
    {
      "cell_type": "code",
      "execution_count": null,
      "id": "3b3b44a7-4ccd-4438-8180-3d8b83742ba3",
      "metadata": {
        "id": "3b3b44a7-4ccd-4438-8180-3d8b83742ba3",
        "outputId": "b20d3e1a-94f0-448b-b3ab-2cdbd35ba7bd"
      },
      "outputs": [
        {
          "data": {
            "text/plain": [
              "Rectangle(100, 20)"
            ]
          },
          "execution_count": 122,
          "metadata": {},
          "output_type": "execute_result"
        }
      ],
      "source": [
        "r1"
      ]
    },
    {
      "cell_type": "code",
      "execution_count": null,
      "id": "e2e3b490-c4d2-455c-84fa-7109d9e4043d",
      "metadata": {
        "id": "e2e3b490-c4d2-455c-84fa-7109d9e4043d",
        "outputId": "03ad93d6-ce59-4ec3-c568-c9d1d5911a0a"
      },
      "outputs": [
        {
          "ename": "ValueError",
          "evalue": "Width must be positive.",
          "output_type": "error",
          "traceback": [
            "\u001b[1;31m---------------------------------------------------------------------------\u001b[0m",
            "\u001b[1;31mValueError\u001b[0m                                Traceback (most recent call last)",
            "Input \u001b[1;32mIn [123]\u001b[0m, in \u001b[0;36m<cell line: 1>\u001b[1;34m()\u001b[0m\n\u001b[1;32m----> 1\u001b[0m r1\u001b[38;5;241m.\u001b[39mwidth \u001b[38;5;241m=\u001b[39m \u001b[38;5;241m-\u001b[39m\u001b[38;5;241m10\u001b[39m\n",
            "Input \u001b[1;32mIn [118]\u001b[0m, in \u001b[0;36mRectangle.width\u001b[1;34m(self, width)\u001b[0m\n\u001b[0;32m     13\u001b[0m \u001b[38;5;129m@width\u001b[39m\u001b[38;5;241m.\u001b[39msetter\n\u001b[0;32m     14\u001b[0m \u001b[38;5;28;01mdef\u001b[39;00m \u001b[38;5;21mwidth\u001b[39m(\u001b[38;5;28mself\u001b[39m, width):\n\u001b[0;32m     15\u001b[0m     \u001b[38;5;28;01mif\u001b[39;00m width \u001b[38;5;241m<\u001b[39m\u001b[38;5;241m=\u001b[39m \u001b[38;5;241m0\u001b[39m:\n\u001b[1;32m---> 16\u001b[0m         \u001b[38;5;28;01mraise\u001b[39;00m \u001b[38;5;167;01mValueError\u001b[39;00m(\u001b[38;5;124m'\u001b[39m\u001b[38;5;124mWidth must be positive.\u001b[39m\u001b[38;5;124m'\u001b[39m)\n\u001b[0;32m     17\u001b[0m     \u001b[38;5;28mself\u001b[39m\u001b[38;5;241m.\u001b[39m_width \u001b[38;5;241m=\u001b[39m width\n",
            "\u001b[1;31mValueError\u001b[0m: Width must be positive."
          ]
        }
      ],
      "source": [
        "r1.width = -10"
      ]
    },
    {
      "cell_type": "markdown",
      "id": "d873612d-7c0d-42bc-9507-4693e1217d89",
      "metadata": {
        "id": "d873612d-7c0d-42bc-9507-4693e1217d89"
      },
      "source": [
        "There are more things we should do to properly implement all this, in particular we should also be checking the positive and negative values during the `__init__` phase. We do so by using the accessor methods for `height` and `width`:"
      ]
    },
    {
      "cell_type": "code",
      "execution_count": null,
      "id": "73e86ab2-03b1-4dab-bab7-21c61569cd52",
      "metadata": {
        "id": "73e86ab2-03b1-4dab-bab7-21c61569cd52"
      },
      "outputs": [],
      "source": [
        "class Rectangle:\n",
        "    def __init__(self, width, height):\n",
        "        self._width = None\n",
        "        self._height = None\n",
        "        # now we call our accessor methods to set the width and height\n",
        "        self.width = width\n",
        "        self.height = height\n",
        "    \n",
        "    def __repr__(self):\n",
        "        return 'Rectangle({0}, {1})'.format(self.width, self.height)\n",
        "    \n",
        "    @property\n",
        "    def width(self):\n",
        "        return self._width\n",
        "    \n",
        "    @width.setter\n",
        "    def width(self, width):\n",
        "        if width <= 0:\n",
        "            raise ValueError('Width must be positive.')\n",
        "        self._width = width\n",
        "    \n",
        "    @property\n",
        "    def height(self):\n",
        "        return self._height\n",
        "    \n",
        "    @height.setter\n",
        "    def height(self, height):\n",
        "        if height <= 0:\n",
        "            raise ValueError('Height must be positive.')\n",
        "        self._height = height"
      ]
    },
    {
      "cell_type": "code",
      "execution_count": null,
      "id": "93fd51e2-2b48-4247-916a-4930650e880d",
      "metadata": {
        "id": "93fd51e2-2b48-4247-916a-4930650e880d",
        "outputId": "ca4dbe7f-ae8c-4918-e67f-db95cdd4ff1f"
      },
      "outputs": [
        {
          "ename": "ValueError",
          "evalue": "Width must be positive.",
          "output_type": "error",
          "traceback": [
            "\u001b[1;31m---------------------------------------------------------------------------\u001b[0m",
            "\u001b[1;31mValueError\u001b[0m                                Traceback (most recent call last)",
            "Input \u001b[1;32mIn [125]\u001b[0m, in \u001b[0;36m<cell line: 1>\u001b[1;34m()\u001b[0m\n\u001b[1;32m----> 1\u001b[0m r1 \u001b[38;5;241m=\u001b[39m \u001b[43mRectangle\u001b[49m\u001b[43m(\u001b[49m\u001b[38;5;241;43m0\u001b[39;49m\u001b[43m,\u001b[49m\u001b[43m \u001b[49m\u001b[38;5;241;43m10\u001b[39;49m\u001b[43m)\u001b[49m\n",
            "Input \u001b[1;32mIn [124]\u001b[0m, in \u001b[0;36mRectangle.__init__\u001b[1;34m(self, width, height)\u001b[0m\n\u001b[0;32m      4\u001b[0m \u001b[38;5;28mself\u001b[39m\u001b[38;5;241m.\u001b[39m_height \u001b[38;5;241m=\u001b[39m \u001b[38;5;28;01mNone\u001b[39;00m\n\u001b[0;32m      5\u001b[0m \u001b[38;5;66;03m# now we call our accessor methods to set the width and height\u001b[39;00m\n\u001b[1;32m----> 6\u001b[0m \u001b[38;5;28mself\u001b[39m\u001b[38;5;241m.\u001b[39mwidth \u001b[38;5;241m=\u001b[39m width\n\u001b[0;32m      7\u001b[0m \u001b[38;5;28mself\u001b[39m\u001b[38;5;241m.\u001b[39mheight \u001b[38;5;241m=\u001b[39m height\n",
            "Input \u001b[1;32mIn [124]\u001b[0m, in \u001b[0;36mRectangle.width\u001b[1;34m(self, width)\u001b[0m\n\u001b[0;32m     16\u001b[0m \u001b[38;5;129m@width\u001b[39m\u001b[38;5;241m.\u001b[39msetter\n\u001b[0;32m     17\u001b[0m \u001b[38;5;28;01mdef\u001b[39;00m \u001b[38;5;21mwidth\u001b[39m(\u001b[38;5;28mself\u001b[39m, width):\n\u001b[0;32m     18\u001b[0m     \u001b[38;5;28;01mif\u001b[39;00m width \u001b[38;5;241m<\u001b[39m\u001b[38;5;241m=\u001b[39m \u001b[38;5;241m0\u001b[39m:\n\u001b[1;32m---> 19\u001b[0m         \u001b[38;5;28;01mraise\u001b[39;00m \u001b[38;5;167;01mValueError\u001b[39;00m(\u001b[38;5;124m'\u001b[39m\u001b[38;5;124mWidth must be positive.\u001b[39m\u001b[38;5;124m'\u001b[39m)\n\u001b[0;32m     20\u001b[0m     \u001b[38;5;28mself\u001b[39m\u001b[38;5;241m.\u001b[39m_width \u001b[38;5;241m=\u001b[39m width\n",
            "\u001b[1;31mValueError\u001b[0m: Width must be positive."
          ]
        }
      ],
      "source": [
        "r1 = Rectangle(0, 10)"
      ]
    },
    {
      "cell_type": "markdown",
      "id": "a7d33d98-d13c-4f48-b6be-bf8506e0beeb",
      "metadata": {
        "id": "a7d33d98-d13c-4f48-b6be-bf8506e0beeb"
      },
      "source": [
        "There more we should be doing, like checking that the width and height being passed in are numeric types, and so on. Espcially during the `__init__` phase. - we would rather raise an exception when the object is being created rather than delay things and raise an exception when the user calls some method like area - that way the exception will be on the line that creates the object - makes debugging much easier!\n",
        "\n",
        "There are mant more of these special methods, and we'll look in detail at them later in this course."
      ]
    }
  ],
  "metadata": {
    "kernelspec": {
      "display_name": "Python 3 (ipykernel)",
      "language": "python",
      "name": "python3"
    },
    "language_info": {
      "codemirror_mode": {
        "name": "ipython",
        "version": 3
      },
      "file_extension": ".py",
      "mimetype": "text/x-python",
      "name": "python",
      "nbconvert_exporter": "python",
      "pygments_lexer": "ipython3",
      "version": "3.9.12"
    },
    "colab": {
      "provenance": [],
      "include_colab_link": true
    }
  },
  "nbformat": 4,
  "nbformat_minor": 5
}
