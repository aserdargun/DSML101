{
  "cells": [
    {
      "cell_type": "markdown",
      "metadata": {
        "id": "view-in-github",
        "colab_type": "text"
      },
      "source": [
        "<a href=\"https://colab.research.google.com/github/aserdargun/DSML101/blob/main/python/Part_1_Section_06_First_Class_Functions.ipynb\" target=\"_parent\"><img src=\"https://colab.research.google.com/assets/colab-badge.svg\" alt=\"Open In Colab\"/></a>"
      ]
    },
    {
      "cell_type": "markdown",
      "id": "219f7b5a-4413-4c6a-9cb2-053609a8a2ca",
      "metadata": {
        "id": "219f7b5a-4413-4c6a-9cb2-053609a8a2ca"
      },
      "source": [
        "# **PART 1: FUNCTIONAL PROGRAMMING**"
      ]
    },
    {
      "cell_type": "markdown",
      "id": "8fda0130-83c7-4e9d-bd06-183aea0f6cc7",
      "metadata": {
        "id": "8fda0130-83c7-4e9d-bd06-183aea0f6cc7"
      },
      "source": [
        "## Section 06 - First-Class Functions"
      ]
    },
    {
      "cell_type": "markdown",
      "id": "b8971a14-3e5f-4698-9556-cd3b8c226ae2",
      "metadata": {
        "id": "b8971a14-3e5f-4698-9556-cd3b8c226ae2"
      },
      "source": [
        "### 01 - Docstrings and Annotations"
      ]
    },
    {
      "cell_type": "markdown",
      "id": "1754020f-0c39-4c8f-b145-f9fdd0459ffe",
      "metadata": {
        "id": "1754020f-0c39-4c8f-b145-f9fdd0459ffe"
      },
      "source": [
        "**Docstrings**"
      ]
    },
    {
      "cell_type": "markdown",
      "id": "e12014c1-5684-4e5c-b3ad-5861c9c9725d",
      "metadata": {
        "id": "e12014c1-5684-4e5c-b3ad-5861c9c9725d"
      },
      "source": [
        "When we call `help()` on a class, function, module, etc. Python will typically display some information:"
      ]
    },
    {
      "cell_type": "code",
      "execution_count": null,
      "id": "3cc0e647-c3a6-4533-9f70-e6ec3ce4a9f1",
      "metadata": {
        "id": "3cc0e647-c3a6-4533-9f70-e6ec3ce4a9f1",
        "outputId": "129a0d91-07a2-4485-ecee-3617ede931e3"
      },
      "outputs": [
        {
          "name": "stdout",
          "output_type": "stream",
          "text": [
            "Help on built-in function print in module builtins:\n",
            "\n",
            "print(...)\n",
            "    print(value, ..., sep=' ', end='\\n', file=sys.stdout, flush=False)\n",
            "    \n",
            "    Prints the values to a stream, or to sys.stdout by default.\n",
            "    Optional keyword arguments:\n",
            "    file:  a file-like object (stream); defaults to the current sys.stdout.\n",
            "    sep:   string inserted between values, default a space.\n",
            "    end:   string appended after the last value, default a newline.\n",
            "    flush: whether to forcibly flush the stream.\n",
            "\n"
          ]
        }
      ],
      "source": [
        "help(print)"
      ]
    },
    {
      "cell_type": "markdown",
      "id": "c3bd1789-9903-4eb4-9c65-b4dd475473ca",
      "metadata": {
        "id": "c3bd1789-9903-4eb4-9c65-b4dd475473ca"
      },
      "source": [
        "We can define such help using docstrings and annotations."
      ]
    },
    {
      "cell_type": "code",
      "execution_count": null,
      "id": "005a9cdf-407d-4a58-b226-cd1e2923fd95",
      "metadata": {
        "id": "005a9cdf-407d-4a58-b226-cd1e2923fd95"
      },
      "outputs": [],
      "source": [
        "def my_func(a, b):\n",
        "    return a*b"
      ]
    },
    {
      "cell_type": "code",
      "execution_count": null,
      "id": "f810f239-b6c5-4611-b83b-59f2101ee129",
      "metadata": {
        "id": "f810f239-b6c5-4611-b83b-59f2101ee129",
        "outputId": "88c95161-7dd1-48be-cb83-2d34fe3f0b79"
      },
      "outputs": [
        {
          "name": "stdout",
          "output_type": "stream",
          "text": [
            "Help on function my_func in module __main__:\n",
            "\n",
            "my_func(a, b)\n",
            "\n"
          ]
        }
      ],
      "source": [
        "help(my_func)"
      ]
    },
    {
      "cell_type": "markdown",
      "id": "64a615b1-2b61-4a73-ac13-9687891436aa",
      "metadata": {
        "id": "64a615b1-2b61-4a73-ac13-9687891436aa"
      },
      "source": [
        "Pretty bare! So let's add some additional help:"
      ]
    },
    {
      "cell_type": "code",
      "execution_count": null,
      "id": "ebe37c85-bba6-4674-b4b7-b06380692c86",
      "metadata": {
        "id": "ebe37c85-bba6-4674-b4b7-b06380692c86"
      },
      "outputs": [],
      "source": [
        "def my_func(a, b):\n",
        "    'Returns the product of a and b'\n",
        "    return a*b"
      ]
    },
    {
      "cell_type": "code",
      "execution_count": null,
      "id": "64ce2159-260a-4a7b-b16a-67ca5a863adf",
      "metadata": {
        "id": "64ce2159-260a-4a7b-b16a-67ca5a863adf",
        "outputId": "5aa993cf-0cc2-4c20-b2b5-837397f77c2e"
      },
      "outputs": [
        {
          "name": "stdout",
          "output_type": "stream",
          "text": [
            "Help on function my_func in module __main__:\n",
            "\n",
            "my_func(a, b)\n",
            "    Returns the product of a and b\n",
            "\n"
          ]
        }
      ],
      "source": [
        "help(my_func)"
      ]
    },
    {
      "cell_type": "markdown",
      "id": "6d964f49-fc9b-4276-b36d-06cc33e7af65",
      "metadata": {
        "id": "6d964f49-fc9b-4276-b36d-06cc33e7af65"
      },
      "source": [
        "Doctstrings can span multiple lines using a multi-line string literal:"
      ]
    },
    {
      "cell_type": "code",
      "execution_count": null,
      "id": "e8df0b81-257a-40cf-b1a7-f6b966b04655",
      "metadata": {
        "id": "e8df0b81-257a-40cf-b1a7-f6b966b04655"
      },
      "outputs": [],
      "source": [
        "def fact(n):\n",
        "    '''Calculate n! (factorial function)\n",
        "\n",
        "    Inputs:\n",
        "        n: non-negative integer\n",
        "    Returns:\n",
        "        the factorial of n\n",
        "    '''\n",
        "\n",
        "    if n < 0:\n",
        "        '''Note that this is not part of the docstring!'''\n",
        "        return 1\n",
        "    else:\n",
        "        return n * fact(n-1)"
      ]
    },
    {
      "cell_type": "code",
      "execution_count": null,
      "id": "b6d2f503-1670-4f12-b4e6-d10435f53771",
      "metadata": {
        "id": "b6d2f503-1670-4f12-b4e6-d10435f53771",
        "outputId": "52ad95d1-ea63-44f6-afa1-28b899247589"
      },
      "outputs": [
        {
          "name": "stdout",
          "output_type": "stream",
          "text": [
            "Help on function fact in module __main__:\n",
            "\n",
            "fact(n)\n",
            "    Calculate n! (factorial function)\n",
            "    \n",
            "    Inputs:\n",
            "        n: non-negative integer\n",
            "    Returns:\n",
            "        the factorial of n\n",
            "\n"
          ]
        }
      ],
      "source": [
        "help(fact)"
      ]
    },
    {
      "cell_type": "markdown",
      "id": "ab18a78f-bec9-4d95-b743-cda19bec3ae2",
      "metadata": {
        "id": "ab18a78f-bec9-4d95-b743-cda19bec3ae2"
      },
      "source": [
        "Docstrings, when found, are simply attached to the function in the `__doc__` property:"
      ]
    },
    {
      "cell_type": "code",
      "execution_count": null,
      "id": "60915d2e-973c-4f94-a61d-7a5fad38f6a7",
      "metadata": {
        "id": "60915d2e-973c-4f94-a61d-7a5fad38f6a7",
        "outputId": "05f073ca-a297-45b5-c9c1-dc64555a45c4"
      },
      "outputs": [
        {
          "data": {
            "text/plain": [
              "'Calculate n! (factorial function)\\n\\n    Inputs:\\n        n: non-negative integer\\n    Returns:\\n        the factorial of n\\n    '"
            ]
          },
          "execution_count": 8,
          "metadata": {},
          "output_type": "execute_result"
        }
      ],
      "source": [
        "fact.__doc__"
      ]
    },
    {
      "cell_type": "markdown",
      "id": "a4420203-d44a-499f-8bf1-ffdb1c10469d",
      "metadata": {
        "id": "a4420203-d44a-499f-8bf1-ffdb1c10469d"
      },
      "source": [
        "And the Python `help()` function simply returns the contents of `__doc__`"
      ]
    },
    {
      "cell_type": "markdown",
      "id": "85f3a5c3-5274-40f5-8984-afe12ac46c24",
      "metadata": {
        "id": "85f3a5c3-5274-40f5-8984-afe12ac46c24"
      },
      "source": [
        "**Annotations**"
      ]
    },
    {
      "cell_type": "markdown",
      "id": "13940523-1532-4d33-aadb-1bcae55fa438",
      "metadata": {
        "id": "13940523-1532-4d33-aadb-1bcae55fa438"
      },
      "source": [
        "We can also add metadata annotations to a function's parameters and return. The metadata annotations can be any expression (string, type, function call, etc)"
      ]
    },
    {
      "cell_type": "code",
      "execution_count": null,
      "id": "bc2915cc-f604-46c6-b4fa-634753d96e49",
      "metadata": {
        "id": "bc2915cc-f604-46c6-b4fa-634753d96e49"
      },
      "outputs": [],
      "source": [
        "def my_func(a: 'annotation for a',\n",
        "            b: 'annotation for b')->'annotation for return':\n",
        "            return a*b"
      ]
    },
    {
      "cell_type": "code",
      "execution_count": null,
      "id": "14112cce-7906-4837-859b-4e84f7f3dfbf",
      "metadata": {
        "id": "14112cce-7906-4837-859b-4e84f7f3dfbf",
        "outputId": "f7c9d38e-8801-4374-bfbd-d57b2a85d88a"
      },
      "outputs": [
        {
          "name": "stdout",
          "output_type": "stream",
          "text": [
            "Help on function my_func in module __main__:\n",
            "\n",
            "my_func(a: 'annotation for a', b: 'annotation for b') -> 'annotation for return'\n",
            "\n"
          ]
        }
      ],
      "source": [
        "help(my_func)"
      ]
    },
    {
      "cell_type": "markdown",
      "id": "d05058d0-28b9-42a3-9751-e12d273a19b3",
      "metadata": {
        "id": "d05058d0-28b9-42a3-9751-e12d273a19b3"
      },
      "source": [
        "The annotations can be any expression not just strings:"
      ]
    },
    {
      "cell_type": "code",
      "execution_count": null,
      "id": "0396a8cf-13d4-4e3a-8e59-d0fc1d176a77",
      "metadata": {
        "id": "0396a8cf-13d4-4e3a-8e59-d0fc1d176a77"
      },
      "outputs": [],
      "source": [
        "x = 3\n",
        "y = 5\n",
        "def my_func(a: str) -> 'a repeated ' + str(max(3, 5)) + ' times':\n",
        "    return a*max(x, y)"
      ]
    },
    {
      "cell_type": "code",
      "execution_count": null,
      "id": "11c5e389-c1ed-42f6-940d-2b2635da9991",
      "metadata": {
        "id": "11c5e389-c1ed-42f6-940d-2b2635da9991",
        "outputId": "68d6326b-6162-4bc7-bec3-4be1d5f4cf67"
      },
      "outputs": [
        {
          "name": "stdout",
          "output_type": "stream",
          "text": [
            "Help on function my_func in module __main__:\n",
            "\n",
            "my_func(a: str) -> 'a repeated 5 times'\n",
            "\n"
          ]
        }
      ],
      "source": [
        "help(my_func)"
      ]
    },
    {
      "cell_type": "markdown",
      "id": "a1c04a38-9097-4f8c-b59d-f6689fe23431",
      "metadata": {
        "id": "a1c04a38-9097-4f8c-b59d-f6689fe23431"
      },
      "source": [
        "---\n",
        "\n",
        "**BE CAREFUL!**"
      ]
    },
    {
      "cell_type": "markdown",
      "id": "4edca2ce-6c24-432f-ba66-4b15e8925fbe",
      "metadata": {
        "id": "4edca2ce-6c24-432f-ba66-4b15e8925fbe"
      },
      "source": [
        "*Note that these annotations do not force a type on the parameters or the return value - the are simply there for documentation purposes within Python and may be used by external applications and modules, such as IDE's.*"
      ]
    },
    {
      "cell_type": "markdown",
      "id": "0ce1d524-75bc-4af3-82c3-5ed83c1a682b",
      "metadata": {
        "id": "0ce1d524-75bc-4af3-82c3-5ed83c1a682b"
      },
      "source": [
        "Just like docstrings are stored in the `__doc__` property, annotations are stored in the `__annotations__` property - a dictionary whose keys are the parameter names, and values are the annotation."
      ]
    },
    {
      "cell_type": "code",
      "execution_count": null,
      "id": "33dcd934-47ec-4efd-97d4-e0562811a2d2",
      "metadata": {
        "id": "33dcd934-47ec-4efd-97d4-e0562811a2d2",
        "outputId": "3099ff85-70ee-45b6-aea7-fac2214840cd"
      },
      "outputs": [
        {
          "data": {
            "text/plain": [
              "{'a': str, 'return': 'a repeated 5 times'}"
            ]
          },
          "execution_count": 14,
          "metadata": {},
          "output_type": "execute_result"
        }
      ],
      "source": [
        "my_func.__annotations__"
      ]
    },
    {
      "cell_type": "markdown",
      "id": "b04a5020-8cae-4a6d-9b9c-22e6bc730829",
      "metadata": {
        "id": "b04a5020-8cae-4a6d-9b9c-22e6bc730829"
      },
      "source": [
        "Of course we can combine both docstrings and annotations:"
      ]
    },
    {
      "cell_type": "code",
      "execution_count": null,
      "id": "a8285d91-0519-4580-8b43-63abc61c42ec",
      "metadata": {
        "id": "a8285d91-0519-4580-8b43-63abc61c42ec"
      },
      "outputs": [],
      "source": [
        "def fact(n: 'int >= 0') ->int:\n",
        "    '''Calculate n! (factorial function)\n",
        "\n",
        "    Inputs:\n",
        "        n: non-negative integer\n",
        "    Returns:\n",
        "        the factorial of n\n",
        "    '''\n",
        "\n",
        "    if n < 0:\n",
        "        '''Note that this is not part of the docstring!'''\n",
        "        return 1\n",
        "    else:\n",
        "        return n * fact(n-1)"
      ]
    },
    {
      "cell_type": "code",
      "execution_count": null,
      "id": "0a21534a-5171-4b79-87a3-f93429ca5762",
      "metadata": {
        "id": "0a21534a-5171-4b79-87a3-f93429ca5762",
        "outputId": "c5ab599d-cf23-4ab5-d416-cd1fa5dc81ed"
      },
      "outputs": [
        {
          "name": "stdout",
          "output_type": "stream",
          "text": [
            "Help on function fact in module __main__:\n",
            "\n",
            "fact(n: 'int >= 0') -> int\n",
            "    Calculate n! (factorial function)\n",
            "    \n",
            "    Inputs:\n",
            "        n: non-negative integer\n",
            "    Returns:\n",
            "        the factorial of n\n",
            "\n"
          ]
        }
      ],
      "source": [
        "help(fact)"
      ]
    },
    {
      "cell_type": "markdown",
      "id": "347cdac3-a19f-4af9-852c-1bc88cd257bc",
      "metadata": {
        "id": "347cdac3-a19f-4af9-852c-1bc88cd257bc"
      },
      "source": [
        "Annotations will work with default parameters too: just specify the default after the annotation:"
      ]
    },
    {
      "cell_type": "code",
      "execution_count": null,
      "id": "7c823b6e-dcdd-4691-9001-1b83747acf06",
      "metadata": {
        "id": "7c823b6e-dcdd-4691-9001-1b83747acf06"
      },
      "outputs": [],
      "source": [
        "def my_func(a:str='a', b:int=1)->str:\n",
        "    return a*b"
      ]
    },
    {
      "cell_type": "code",
      "execution_count": null,
      "id": "36d0ab4e-3ade-4ddd-b5b4-1bfce4a6b95e",
      "metadata": {
        "id": "36d0ab4e-3ade-4ddd-b5b4-1bfce4a6b95e",
        "outputId": "9298a5a7-4644-48a0-be05-fb8880d8e3a9"
      },
      "outputs": [
        {
          "name": "stdout",
          "output_type": "stream",
          "text": [
            "Help on function my_func in module __main__:\n",
            "\n",
            "my_func(a: str = 'a', b: int = 1) -> str\n",
            "\n"
          ]
        }
      ],
      "source": [
        "help(my_func)"
      ]
    },
    {
      "cell_type": "code",
      "execution_count": null,
      "id": "4f973c1a-023a-4a76-bf0e-8a48329f3954",
      "metadata": {
        "id": "4f973c1a-023a-4a76-bf0e-8a48329f3954",
        "outputId": "225f8c48-f534-4ce4-fc57-453359de2a27"
      },
      "outputs": [
        {
          "data": {
            "text/plain": [
              "'a'"
            ]
          },
          "execution_count": 19,
          "metadata": {},
          "output_type": "execute_result"
        }
      ],
      "source": [
        "my_func()"
      ]
    },
    {
      "cell_type": "code",
      "execution_count": null,
      "id": "b2e503c5-188d-4e38-9bc7-710da9a164a8",
      "metadata": {
        "id": "b2e503c5-188d-4e38-9bc7-710da9a164a8",
        "outputId": "39ff8816-2503-49d5-8f9d-e623da0191e9"
      },
      "outputs": [
        {
          "data": {
            "text/plain": [
              "'abcabcabc'"
            ]
          },
          "execution_count": 20,
          "metadata": {},
          "output_type": "execute_result"
        }
      ],
      "source": [
        "my_func('abc', 3)"
      ]
    },
    {
      "cell_type": "code",
      "execution_count": null,
      "id": "ecce8e43-fd6d-47f7-acbc-c3d49bf0db07",
      "metadata": {
        "id": "ecce8e43-fd6d-47f7-acbc-c3d49bf0db07"
      },
      "outputs": [],
      "source": [
        "def my_func(a:int=0, *args:'additional args'):\n",
        "    print(a, args)"
      ]
    },
    {
      "cell_type": "code",
      "execution_count": null,
      "id": "84d0c869-07cb-4f09-a6f1-10888f81a363",
      "metadata": {
        "id": "84d0c869-07cb-4f09-a6f1-10888f81a363",
        "outputId": "30bda69a-0116-49b5-a34a-dc2b4b4291b4"
      },
      "outputs": [
        {
          "data": {
            "text/plain": [
              "{'a': int, 'args': 'additional args'}"
            ]
          },
          "execution_count": 22,
          "metadata": {},
          "output_type": "execute_result"
        }
      ],
      "source": [
        "my_func.__annotations__"
      ]
    },
    {
      "cell_type": "code",
      "execution_count": null,
      "id": "4233dba4-babd-4597-884e-b3be9de7ea45",
      "metadata": {
        "id": "4233dba4-babd-4597-884e-b3be9de7ea45",
        "outputId": "6ef48937-560f-488e-eacc-6d153453a42b"
      },
      "outputs": [
        {
          "name": "stdout",
          "output_type": "stream",
          "text": [
            "Help on function my_func in module __main__:\n",
            "\n",
            "my_func(a: int = 0, *args: 'additional args')\n",
            "\n"
          ]
        }
      ],
      "source": [
        "help(my_func)"
      ]
    },
    {
      "cell_type": "markdown",
      "id": "79d91e03-1562-4959-b1a9-14201b03db68",
      "metadata": {
        "id": "79d91e03-1562-4959-b1a9-14201b03db68"
      },
      "source": [
        "### 02 - Lambda Expressions"
      ]
    },
    {
      "cell_type": "code",
      "execution_count": null,
      "id": "9ffd3521-a3a9-4d39-8e2c-569b22111226",
      "metadata": {
        "id": "9ffd3521-a3a9-4d39-8e2c-569b22111226",
        "outputId": "954fc7a8-aae2-4b5a-e85f-3491d69ac9b6"
      },
      "outputs": [
        {
          "data": {
            "text/plain": [
              "<function __main__.<lambda>(x)>"
            ]
          },
          "execution_count": 24,
          "metadata": {},
          "output_type": "execute_result"
        }
      ],
      "source": [
        "lambda x: x**2"
      ]
    },
    {
      "cell_type": "markdown",
      "id": "cc8c2470-f78c-4644-b2f4-d95eacc0cf9e",
      "metadata": {
        "id": "cc8c2470-f78c-4644-b2f4-d95eacc0cf9e"
      },
      "source": [
        "As you can see, the above expression expression just created a function."
      ]
    },
    {
      "cell_type": "markdown",
      "id": "8ca41e2a-5526-4ab4-b3b2-2208da7566e2",
      "metadata": {
        "id": "8ca41e2a-5526-4ab4-b3b2-2208da7566e2"
      },
      "source": [
        "**Assigning to a Variable**"
      ]
    },
    {
      "cell_type": "code",
      "execution_count": null,
      "id": "f377c8fd-4503-46d5-839b-f2ee9e8802d7",
      "metadata": {
        "id": "f377c8fd-4503-46d5-839b-f2ee9e8802d7"
      },
      "outputs": [],
      "source": [
        "func = lambda x: x**2"
      ]
    },
    {
      "cell_type": "code",
      "execution_count": null,
      "id": "7d034d48-af32-453e-bded-85fad48d8b31",
      "metadata": {
        "id": "7d034d48-af32-453e-bded-85fad48d8b31",
        "outputId": "ec4460a0-bec6-4d9c-eade-8e8771ff3f62"
      },
      "outputs": [
        {
          "data": {
            "text/plain": [
              "function"
            ]
          },
          "execution_count": 26,
          "metadata": {},
          "output_type": "execute_result"
        }
      ],
      "source": [
        "type(func)"
      ]
    },
    {
      "cell_type": "code",
      "execution_count": null,
      "id": "cbe5e4cf-6874-4791-9493-dfe22575e7cc",
      "metadata": {
        "id": "cbe5e4cf-6874-4791-9493-dfe22575e7cc",
        "outputId": "9cff998c-c4d5-4dee-8623-be0ccc87988d"
      },
      "outputs": [
        {
          "data": {
            "text/plain": [
              "9"
            ]
          },
          "execution_count": 27,
          "metadata": {},
          "output_type": "execute_result"
        }
      ],
      "source": [
        "func(3)"
      ]
    },
    {
      "cell_type": "markdown",
      "id": "8a53a3df-0f68-4f3c-9d67-00a863037ac3",
      "metadata": {
        "id": "8a53a3df-0f68-4f3c-9d67-00a863037ac3"
      },
      "source": [
        "We can specify arguments for lambdas just like we would for any function created using `def`, except for annotations:"
      ]
    },
    {
      "cell_type": "code",
      "execution_count": null,
      "id": "e14d5a1e-09bc-4156-a1f8-cf2383e83d22",
      "metadata": {
        "id": "e14d5a1e-09bc-4156-a1f8-cf2383e83d22"
      },
      "outputs": [],
      "source": [
        "func_1 = lambda x, y=10: (x, y)"
      ]
    },
    {
      "cell_type": "code",
      "execution_count": null,
      "id": "93e49985-06f2-4ae1-9ba0-8c9e3eada50a",
      "metadata": {
        "id": "93e49985-06f2-4ae1-9ba0-8c9e3eada50a",
        "outputId": "d0c8567e-e1b5-4bb0-e22f-59f0ff368871"
      },
      "outputs": [
        {
          "data": {
            "text/plain": [
              "(1, 2)"
            ]
          },
          "execution_count": 29,
          "metadata": {},
          "output_type": "execute_result"
        }
      ],
      "source": [
        "func_1(1, 2)"
      ]
    },
    {
      "cell_type": "code",
      "execution_count": null,
      "id": "de02f369-dec9-4e20-ab15-fe83bf0630e6",
      "metadata": {
        "id": "de02f369-dec9-4e20-ab15-fe83bf0630e6",
        "outputId": "06771b90-78c0-4938-b335-475b05d5d950"
      },
      "outputs": [
        {
          "data": {
            "text/plain": [
              "(1, 10)"
            ]
          },
          "execution_count": 30,
          "metadata": {},
          "output_type": "execute_result"
        }
      ],
      "source": [
        "func_1(1)"
      ]
    },
    {
      "cell_type": "markdown",
      "id": "3d176f09-6cd5-4a15-be43-5332abf4c55c",
      "metadata": {
        "id": "3d176f09-6cd5-4a15-be43-5332abf4c55c"
      },
      "source": [
        "We can even use `*` and `**`:"
      ]
    },
    {
      "cell_type": "code",
      "execution_count": null,
      "id": "8e75a4c1-9d1e-44b5-b1ae-3447ee36f65f",
      "metadata": {
        "id": "8e75a4c1-9d1e-44b5-b1ae-3447ee36f65f"
      },
      "outputs": [],
      "source": [
        "func_2 = lambda x, *args, y, **kwargs: (x, *args, y, {**kwargs})"
      ]
    },
    {
      "cell_type": "code",
      "execution_count": null,
      "id": "c70be262-db1a-4f4b-a5ae-9ca9c36769c1",
      "metadata": {
        "id": "c70be262-db1a-4f4b-a5ae-9ca9c36769c1",
        "outputId": "99244827-4189-4ccf-cf51-f7247307c4eb"
      },
      "outputs": [
        {
          "data": {
            "text/plain": [
              "(1, 'a', 'b', 100, {'a': 10, 'b': 20})"
            ]
          },
          "execution_count": 32,
          "metadata": {},
          "output_type": "execute_result"
        }
      ],
      "source": [
        "func_2(1, 'a', 'b', y=100, a=10, b=20)"
      ]
    },
    {
      "cell_type": "markdown",
      "id": "ea49f2bc-f716-4b9f-ad70-97b958502ea1",
      "metadata": {
        "id": "ea49f2bc-f716-4b9f-ad70-97b958502ea1"
      },
      "source": [
        "**Passing as an Argument**"
      ]
    },
    {
      "cell_type": "markdown",
      "id": "4f429330-956f-4f85-b383-da21614b095b",
      "metadata": {
        "id": "4f429330-956f-4f85-b383-da21614b095b"
      },
      "source": [
        "Lambdas are functions, and can therefore be passed to any other function as an argument (or returned from another function)"
      ]
    },
    {
      "cell_type": "code",
      "execution_count": null,
      "id": "70987a77-81d5-4b2b-a134-680d272f5c48",
      "metadata": {
        "id": "70987a77-81d5-4b2b-a134-680d272f5c48"
      },
      "outputs": [],
      "source": [
        "def apply_func(x, fn):\n",
        "    return fn(x)"
      ]
    },
    {
      "cell_type": "code",
      "execution_count": null,
      "id": "9c1d684d-4d43-4786-9190-bff233471e6b",
      "metadata": {
        "id": "9c1d684d-4d43-4786-9190-bff233471e6b",
        "outputId": "a34c48e7-9fc5-49c1-b8aa-8f690ad6662a"
      },
      "outputs": [
        {
          "data": {
            "text/plain": [
              "9"
            ]
          },
          "execution_count": 34,
          "metadata": {},
          "output_type": "execute_result"
        }
      ],
      "source": [
        "apply_func(3, lambda x: x**2)"
      ]
    },
    {
      "cell_type": "code",
      "execution_count": null,
      "id": "ad0515eb-3094-478e-ac30-4a290226fe08",
      "metadata": {
        "id": "ad0515eb-3094-478e-ac30-4a290226fe08",
        "outputId": "2f8559a5-d151-4c87-e60e-dc0d29ed0fdd"
      },
      "outputs": [
        {
          "data": {
            "text/plain": [
              "27"
            ]
          },
          "execution_count": 35,
          "metadata": {},
          "output_type": "execute_result"
        }
      ],
      "source": [
        "apply_func(3, lambda x: x**3)"
      ]
    },
    {
      "cell_type": "markdown",
      "id": "2e87936d-f52d-4f57-9e26-e5c562d30c1e",
      "metadata": {
        "id": "2e87936d-f52d-4f57-9e26-e5c562d30c1e"
      },
      "source": [
        "Of course we can make this even more generic:"
      ]
    },
    {
      "cell_type": "code",
      "execution_count": null,
      "id": "68a96d2e-0d33-427d-b3f5-1065ef8b066b",
      "metadata": {
        "id": "68a96d2e-0d33-427d-b3f5-1065ef8b066b"
      },
      "outputs": [],
      "source": [
        "def apply_func(fn, *args, **kwargs):\n",
        "    return fn(*args, **kwargs)"
      ]
    },
    {
      "cell_type": "code",
      "execution_count": null,
      "id": "fdeb1f29-9218-4c79-873f-9fc784e87d3e",
      "metadata": {
        "id": "fdeb1f29-9218-4c79-873f-9fc784e87d3e",
        "outputId": "b87abb04-0b35-4aaf-926e-43ee59c07aa1"
      },
      "outputs": [
        {
          "data": {
            "text/plain": [
              "3"
            ]
          },
          "execution_count": 38,
          "metadata": {},
          "output_type": "execute_result"
        }
      ],
      "source": [
        "apply_func(lambda x, y: x+y, 1, y=2)"
      ]
    },
    {
      "cell_type": "code",
      "execution_count": null,
      "id": "a276ab0e-90e7-4097-9882-fe0bcc2c3cff",
      "metadata": {
        "id": "a276ab0e-90e7-4097-9882-fe0bcc2c3cff",
        "outputId": "383b8747-8d27-4a3f-a570-f4ddb2098d09"
      },
      "outputs": [
        {
          "data": {
            "text/plain": [
              "3"
            ]
          },
          "execution_count": 39,
          "metadata": {},
          "output_type": "execute_result"
        }
      ],
      "source": [
        "apply_func(lambda x, *, y: x+y, 1, y=2)"
      ]
    },
    {
      "cell_type": "code",
      "execution_count": null,
      "id": "6123de75-1c4f-4df7-a3dd-cab5f51a3530",
      "metadata": {
        "id": "6123de75-1c4f-4df7-a3dd-cab5f51a3530",
        "outputId": "685dc28b-84f1-444f-de2e-b8aecdee16b6"
      },
      "outputs": [
        {
          "data": {
            "text/plain": [
              "15"
            ]
          },
          "execution_count": 40,
          "metadata": {},
          "output_type": "execute_result"
        }
      ],
      "source": [
        "apply_func(lambda *args: sum(args), 1, 2, 3, 4,5)"
      ]
    },
    {
      "cell_type": "markdown",
      "id": "a18ec94c-3756-4b34-ad36-04a1b6a60f68",
      "metadata": {
        "id": "a18ec94c-3756-4b34-ad36-04a1b6a60f68"
      },
      "source": [
        "Of course, we don't have to use lambdas when calling `apply_func`, we can also pass in a function defined using a `def` statement:"
      ]
    },
    {
      "cell_type": "code",
      "execution_count": null,
      "id": "6c4ebdd7-1434-4561-93e4-49e2fa42939a",
      "metadata": {
        "id": "6c4ebdd7-1434-4561-93e4-49e2fa42939a"
      },
      "outputs": [],
      "source": [
        "def multiply(x, y):\n",
        "    return x * y"
      ]
    },
    {
      "cell_type": "code",
      "execution_count": null,
      "id": "fc6d9d7b-c4ed-4340-a4f2-3a03256575cb",
      "metadata": {
        "id": "fc6d9d7b-c4ed-4340-a4f2-3a03256575cb",
        "outputId": "3c5df248-2913-44da-a113-f7828825d0b9"
      },
      "outputs": [
        {
          "data": {
            "text/plain": [
              "'aaaaa'"
            ]
          },
          "execution_count": 42,
          "metadata": {},
          "output_type": "execute_result"
        }
      ],
      "source": [
        "apply_func(multiply, 'a', 5)"
      ]
    },
    {
      "cell_type": "code",
      "execution_count": null,
      "id": "2a1ed21d-c450-45c4-99d9-74e1aaaa8ee3",
      "metadata": {
        "id": "2a1ed21d-c450-45c4-99d9-74e1aaaa8ee3",
        "outputId": "d238ea20-b15c-4484-f85f-ae64b28bdcc6"
      },
      "outputs": [
        {
          "data": {
            "text/plain": [
              "'aaaaa'"
            ]
          },
          "execution_count": 43,
          "metadata": {},
          "output_type": "execute_result"
        }
      ],
      "source": [
        "apply_func(lambda x, y: x*y, 'a', 5)"
      ]
    },
    {
      "cell_type": "markdown",
      "id": "b89251b8-cbec-47dd-9977-ac5c756199ee",
      "metadata": {
        "id": "b89251b8-cbec-47dd-9977-ac5c756199ee"
      },
      "source": [
        "### 03 - Lambdas and Sorting"
      ]
    },
    {
      "cell_type": "markdown",
      "id": "1b0e6866-7655-4cac-9bcd-48a5628e282a",
      "metadata": {
        "id": "1b0e6866-7655-4cac-9bcd-48a5628e282a"
      },
      "source": [
        "Python has a built-in `sorted` method that can be used to sort any iterable. It will be use the default ordering of the particular items, but sometimes you may want to (or need to) specify a different criteria for sorting.\n",
        "\n",
        "Let's start wit a simple list:"
      ]
    },
    {
      "cell_type": "code",
      "execution_count": null,
      "id": "e7b6ce1c-a5c3-4961-9a60-8738601a1ac3",
      "metadata": {
        "id": "e7b6ce1c-a5c3-4961-9a60-8738601a1ac3"
      },
      "outputs": [],
      "source": [
        "l = ['a', 'B', 'c', 'D']"
      ]
    },
    {
      "cell_type": "code",
      "execution_count": null,
      "id": "e06e5fe2-c2ac-498e-9c93-1a45a0c08679",
      "metadata": {
        "id": "e06e5fe2-c2ac-498e-9c93-1a45a0c08679",
        "outputId": "34c1c210-abca-4aca-f1c5-929ef1f1d8b0"
      },
      "outputs": [
        {
          "data": {
            "text/plain": [
              "['B', 'D', 'a', 'c']"
            ]
          },
          "execution_count": 45,
          "metadata": {},
          "output_type": "execute_result"
        }
      ],
      "source": [
        "sorted(l)"
      ]
    },
    {
      "cell_type": "markdown",
      "id": "66769d57-c863-4a11-b669-c6fe4bff0431",
      "metadata": {
        "id": "66769d57-c863-4a11-b669-c6fe4bff0431"
      },
      "source": [
        "As you can see there is a difference between upper and lower-case characters when sorting strings.\n",
        "\n",
        "What if we wanted to make a cese-insensitive sort?\n",
        "\n",
        "Python's `sorted` function has a keyword-only argument that allows us to modify the values that are used to sort the list."
      ]
    },
    {
      "cell_type": "code",
      "execution_count": null,
      "id": "8626fefc-cbdc-4aa1-bddf-846102aadc27",
      "metadata": {
        "id": "8626fefc-cbdc-4aa1-bddf-846102aadc27",
        "outputId": "fb656bdc-51e3-49a9-d767-6bdf157e1e5e"
      },
      "outputs": [
        {
          "data": {
            "text/plain": [
              "['a', 'B', 'c', 'D']"
            ]
          },
          "execution_count": 46,
          "metadata": {},
          "output_type": "execute_result"
        }
      ],
      "source": [
        "sorted(l, key=str.upper)"
      ]
    },
    {
      "cell_type": "markdown",
      "id": "046a16b8-f099-46fb-8bcc-815e1c8d7ac9",
      "metadata": {
        "id": "046a16b8-f099-46fb-8bcc-815e1c8d7ac9"
      },
      "source": [
        "We could have used a lambda here (but you should not, this is just to illustrate using a lambda in this case):"
      ]
    },
    {
      "cell_type": "code",
      "execution_count": null,
      "id": "bc9c7c2d-d19e-4cf5-8bb7-57634de5526a",
      "metadata": {
        "id": "bc9c7c2d-d19e-4cf5-8bb7-57634de5526a",
        "outputId": "02e4fa6d-7a31-415d-c907-7cfd28b7f491"
      },
      "outputs": [
        {
          "data": {
            "text/plain": [
              "['a', 'B', 'c', 'D']"
            ]
          },
          "execution_count": 47,
          "metadata": {},
          "output_type": "execute_result"
        }
      ],
      "source": [
        "sorted(l, key = lambda s: s.upper())"
      ]
    },
    {
      "cell_type": "markdown",
      "id": "d7d35a2a-527d-4c9f-8b29-2fdc5274c191",
      "metadata": {
        "id": "d7d35a2a-527d-4c9f-8b29-2fdc5274c191"
      },
      "source": [
        "Let's look at how we might create a sorted list from a dictionary:"
      ]
    },
    {
      "cell_type": "code",
      "execution_count": null,
      "id": "465a83a9-f992-4830-bfd6-626172d18b3e",
      "metadata": {
        "id": "465a83a9-f992-4830-bfd6-626172d18b3e"
      },
      "outputs": [],
      "source": [
        "d = {'def': 300, 'abc': 200, 'ghi': 100}"
      ]
    },
    {
      "cell_type": "code",
      "execution_count": null,
      "id": "cb1f5f94-f95d-4f68-a357-4763ae8b168b",
      "metadata": {
        "id": "cb1f5f94-f95d-4f68-a357-4763ae8b168b",
        "outputId": "cd9f2b76-cba8-4690-e8ff-4c48db09265c"
      },
      "outputs": [
        {
          "data": {
            "text/plain": [
              "{'def': 300, 'abc': 200, 'ghi': 100}"
            ]
          },
          "execution_count": 49,
          "metadata": {},
          "output_type": "execute_result"
        }
      ],
      "source": [
        "d"
      ]
    },
    {
      "cell_type": "code",
      "execution_count": null,
      "id": "95ccb985-e9c6-4993-9759-bfad5882bae7",
      "metadata": {
        "id": "95ccb985-e9c6-4993-9759-bfad5882bae7",
        "outputId": "83fb0b97-a97f-4469-986e-00868a95f8f4"
      },
      "outputs": [
        {
          "data": {
            "text/plain": [
              "['abc', 'def', 'ghi']"
            ]
          },
          "execution_count": 50,
          "metadata": {},
          "output_type": "execute_result"
        }
      ],
      "source": [
        "sorted(d)"
      ]
    },
    {
      "cell_type": "markdown",
      "id": "6217b7ed-1df3-42bc-901b-834a5966060e",
      "metadata": {
        "id": "6217b7ed-1df3-42bc-901b-834a5966060e"
      },
      "source": [
        "What happened here?\n",
        "\n",
        "Remember that iterating dictionaries actually iterates the keys - so we ended up with the keys sorted \n",
        "alphabetically.\n",
        "\n",
        "What if we want to return the keys sored by their associated value instead?"
      ]
    },
    {
      "cell_type": "code",
      "execution_count": null,
      "id": "c6546b9f-8830-4c85-b474-b549b99b5dca",
      "metadata": {
        "id": "c6546b9f-8830-4c85-b474-b549b99b5dca",
        "outputId": "d85e2b66-9270-4450-c143-add4b85399e9"
      },
      "outputs": [
        {
          "data": {
            "text/plain": [
              "['ghi', 'abc', 'def']"
            ]
          },
          "execution_count": 51,
          "metadata": {},
          "output_type": "execute_result"
        }
      ],
      "source": [
        "sorted(d, key=lambda k: d[k])"
      ]
    },
    {
      "cell_type": "markdown",
      "id": "91dd996e-6224-456a-803b-9b5bbf234a6c",
      "metadata": {
        "id": "91dd996e-6224-456a-803b-9b5bbf234a6c"
      },
      "source": [
        "Maybe we want to sort complex numbers based on their distance from the origin:"
      ]
    },
    {
      "cell_type": "code",
      "execution_count": null,
      "id": "80ae21da-1623-4e72-ba26-61f8577288be",
      "metadata": {
        "id": "80ae21da-1623-4e72-ba26-61f8577288be"
      },
      "outputs": [],
      "source": [
        "def dist(x):\n",
        "    return (x.real)**2 + (x.imag)**2"
      ]
    },
    {
      "cell_type": "code",
      "execution_count": null,
      "id": "1dd03441-563c-46c8-9c8e-ee08237bd007",
      "metadata": {
        "id": "1dd03441-563c-46c8-9c8e-ee08237bd007"
      },
      "outputs": [],
      "source": [
        "l = [3+3j, 1+1j, 0]"
      ]
    },
    {
      "cell_type": "markdown",
      "id": "e8e2db19-777a-4abd-aa4c-4e9b081514dd",
      "metadata": {
        "id": "e8e2db19-777a-4abd-aa4c-4e9b081514dd"
      },
      "source": [
        "Trying to sort this list directly won't work since Python does not have an ordering defined for complex numbers:"
      ]
    },
    {
      "cell_type": "code",
      "execution_count": null,
      "id": "df63ab3b-5192-4ab7-a130-ccd242f2f002",
      "metadata": {
        "id": "df63ab3b-5192-4ab7-a130-ccd242f2f002",
        "outputId": "1f1175c1-f0c8-4bd2-a6ac-053abcd20664"
      },
      "outputs": [
        {
          "ename": "TypeError",
          "evalue": "'<' not supported between instances of 'complex' and 'complex'",
          "output_type": "error",
          "traceback": [
            "\u001b[1;31m---------------------------------------------------------------------------\u001b[0m",
            "\u001b[1;31mTypeError\u001b[0m                                 Traceback (most recent call last)",
            "Input \u001b[1;32mIn [54]\u001b[0m, in \u001b[0;36m<cell line: 1>\u001b[1;34m()\u001b[0m\n\u001b[1;32m----> 1\u001b[0m \u001b[38;5;28;43msorted\u001b[39;49m\u001b[43m(\u001b[49m\u001b[43ml\u001b[49m\u001b[43m)\u001b[49m\n",
            "\u001b[1;31mTypeError\u001b[0m: '<' not supported between instances of 'complex' and 'complex'"
          ]
        }
      ],
      "source": [
        "sorted(l)"
      ]
    },
    {
      "cell_type": "code",
      "execution_count": null,
      "id": "aec10034-09b3-4ceb-962e-7d626b1c5cf1",
      "metadata": {
        "id": "aec10034-09b3-4ceb-962e-7d626b1c5cf1",
        "outputId": "b0ccf289-d8b4-4440-cdff-82d6bbeb3071"
      },
      "outputs": [
        {
          "data": {
            "text/plain": [
              "[0, (1+1j), (3+3j)]"
            ]
          },
          "execution_count": 55,
          "metadata": {},
          "output_type": "execute_result"
        }
      ],
      "source": [
        "sorted(l, key=dist)"
      ]
    },
    {
      "cell_type": "code",
      "execution_count": null,
      "id": "48c4a64e-b5f7-4b9c-89f0-2ab2567be7ae",
      "metadata": {
        "id": "48c4a64e-b5f7-4b9c-89f0-2ab2567be7ae",
        "outputId": "8fe2bdc9-e43a-49e4-e287-1678b46950ca"
      },
      "outputs": [
        {
          "data": {
            "text/plain": [
              "[0, (1+1j), (3+3j)]"
            ]
          },
          "execution_count": 56,
          "metadata": {},
          "output_type": "execute_result"
        }
      ],
      "source": [
        "sorted(l, key=dist)"
      ]
    },
    {
      "cell_type": "markdown",
      "id": "214b64de-f4a7-40a8-ab62-03d4ccc8098f",
      "metadata": {
        "id": "214b64de-f4a7-40a8-ab62-03d4ccc8098f"
      },
      "source": [
        "Of course, if we're only going to use the `dist` function once, we can just do the same thing this way:"
      ]
    },
    {
      "cell_type": "code",
      "execution_count": null,
      "id": "ca9411d2-d308-44fc-b625-2052486b132e",
      "metadata": {
        "id": "ca9411d2-d308-44fc-b625-2052486b132e",
        "outputId": "efb7b44f-4da4-4dbe-c30a-61487278e822"
      },
      "outputs": [
        {
          "data": {
            "text/plain": [
              "[0, (1+1j), (3+3j)]"
            ]
          },
          "execution_count": 57,
          "metadata": {},
          "output_type": "execute_result"
        }
      ],
      "source": [
        "sorted(l, key=lambda x: (x.real)**2 + (x.imag)**2)"
      ]
    },
    {
      "cell_type": "markdown",
      "id": "57306598-ec26-41c8-8d63-ad2fd05eb068",
      "metadata": {
        "id": "57306598-ec26-41c8-8d63-ad2fd05eb068"
      },
      "source": [
        "And here's another example where we want to sort a list of strings based on the last character of the string:"
      ]
    },
    {
      "cell_type": "code",
      "execution_count": null,
      "id": "3a46a3c5-c3d7-486a-a0e4-fc21cdf7609f",
      "metadata": {
        "id": "3a46a3c5-c3d7-486a-a0e4-fc21cdf7609f"
      },
      "outputs": [],
      "source": [
        "l = ['Cleese', 'Idle', 'Palin', 'Chapman', 'Gilliam', 'Jones']"
      ]
    },
    {
      "cell_type": "code",
      "execution_count": null,
      "id": "0bad8bdc-28d1-4331-9b4f-bae443fa1d50",
      "metadata": {
        "id": "0bad8bdc-28d1-4331-9b4f-bae443fa1d50",
        "outputId": "3c706440-acfd-4884-f953-a377efbb41dc"
      },
      "outputs": [
        {
          "data": {
            "text/plain": [
              "['Chapman', 'Cleese', 'Gilliam', 'Idle', 'Jones', 'Palin']"
            ]
          },
          "execution_count": 59,
          "metadata": {},
          "output_type": "execute_result"
        }
      ],
      "source": [
        "sorted(l)"
      ]
    },
    {
      "cell_type": "code",
      "execution_count": null,
      "id": "28717065-3733-4235-acfd-60b1ffd7af55",
      "metadata": {
        "id": "28717065-3733-4235-acfd-60b1ffd7af55",
        "outputId": "caef5473-b457-40d1-df94-cb25bcf099f9"
      },
      "outputs": [
        {
          "data": {
            "text/plain": [
              "['Cleese', 'Idle', 'Gilliam', 'Palin', 'Chapman', 'Jones']"
            ]
          },
          "execution_count": 60,
          "metadata": {},
          "output_type": "execute_result"
        }
      ],
      "source": [
        "sorted(l, key=lambda s: s[-1])"
      ]
    },
    {
      "cell_type": "markdown",
      "id": "14a02566-887f-4c1c-bcf4-ed6a593f3db7",
      "metadata": {
        "id": "14a02566-887f-4c1c-bcf4-ed6a593f3db7"
      },
      "source": [
        "### 04 - Challenge - Randomizing an Iterable using Sorted"
      ]
    },
    {
      "cell_type": "code",
      "execution_count": null,
      "id": "10b09338-30f4-457d-abcd-9062b0d41f1b",
      "metadata": {
        "id": "10b09338-30f4-457d-abcd-9062b0d41f1b"
      },
      "outputs": [],
      "source": [
        "import random"
      ]
    },
    {
      "cell_type": "code",
      "execution_count": null,
      "id": "578702e7-eb2a-499a-a6c9-d321eb830645",
      "metadata": {
        "id": "578702e7-eb2a-499a-a6c9-d321eb830645",
        "outputId": "1e00782c-ec1f-4248-c89d-6b198a5a34aa"
      },
      "outputs": [
        {
          "name": "stdout",
          "output_type": "stream",
          "text": [
            "Help on built-in function random:\n",
            "\n",
            "random() method of random.Random instance\n",
            "    random() -> x in the interval [0, 1).\n",
            "\n"
          ]
        }
      ],
      "source": [
        "help(random.random)"
      ]
    },
    {
      "cell_type": "code",
      "execution_count": null,
      "id": "fb9021f7-b287-45fe-923a-e97f63091926",
      "metadata": {
        "id": "fb9021f7-b287-45fe-923a-e97f63091926",
        "outputId": "803961d9-2b5a-48c3-c4a4-43beed8af837"
      },
      "outputs": [
        {
          "data": {
            "text/plain": [
              "0.7132786499768321"
            ]
          },
          "execution_count": 63,
          "metadata": {},
          "output_type": "execute_result"
        }
      ],
      "source": [
        "random.random()"
      ]
    },
    {
      "cell_type": "code",
      "execution_count": null,
      "id": "dec32bc4-6298-40fb-b61c-08ec17cf60ff",
      "metadata": {
        "id": "dec32bc4-6298-40fb-b61c-08ec17cf60ff"
      },
      "outputs": [],
      "source": [
        "l = [1, 2, 3, 4, 5, 6, 7, 8, 9, 10]"
      ]
    },
    {
      "cell_type": "code",
      "execution_count": null,
      "id": "2044e97d-4328-4d93-9b11-18df3d665101",
      "metadata": {
        "id": "2044e97d-4328-4d93-9b11-18df3d665101",
        "outputId": "cf15eb60-bb5f-404c-853b-48bc32c207e9"
      },
      "outputs": [
        {
          "data": {
            "text/plain": [
              "[9, 6, 8, 10, 2, 1, 3, 4, 5, 7]"
            ]
          },
          "execution_count": 65,
          "metadata": {},
          "output_type": "execute_result"
        }
      ],
      "source": [
        "sorted(l, key=lambda x: random.random())"
      ]
    },
    {
      "cell_type": "markdown",
      "id": "c6c2f097-96db-4d1b-b8d5-a34b00d88c5c",
      "metadata": {
        "id": "c6c2f097-96db-4d1b-b8d5-a34b00d88c5c"
      },
      "source": [
        "Of course, this works for any iterable:"
      ]
    },
    {
      "cell_type": "code",
      "execution_count": null,
      "id": "2b968160-3116-4a04-9eb7-8a2e4396a098",
      "metadata": {
        "id": "2b968160-3116-4a04-9eb7-8a2e4396a098",
        "outputId": "8fb50184-4073-4d9e-c69c-db9357710c10"
      },
      "outputs": [
        {
          "data": {
            "text/plain": [
              "['g', 'f', 'd', 'a', 'b', 'e', 'c']"
            ]
          },
          "execution_count": 66,
          "metadata": {},
          "output_type": "execute_result"
        }
      ],
      "source": [
        "sorted('abcdefg', key = lambda x: random.random())"
      ]
    },
    {
      "cell_type": "markdown",
      "id": "241ef70a-e88b-4c0d-8f39-7c52874eabdb",
      "metadata": {
        "id": "241ef70a-e88b-4c0d-8f39-7c52874eabdb"
      },
      "source": [
        "And to get a string back instead of just a list:"
      ]
    },
    {
      "cell_type": "code",
      "execution_count": null,
      "id": "4c7f4db3-c184-4696-83a3-cf706bc8721b",
      "metadata": {
        "id": "4c7f4db3-c184-4696-83a3-cf706bc8721b",
        "outputId": "b0bffdf1-4ce8-493a-f131-6b77a6ecda12"
      },
      "outputs": [
        {
          "data": {
            "text/plain": [
              "'cabgdef'"
            ]
          },
          "execution_count": 67,
          "metadata": {},
          "output_type": "execute_result"
        }
      ],
      "source": [
        "''.join(sorted('abcdefg', key = lambda x: random.random()))"
      ]
    },
    {
      "cell_type": "markdown",
      "id": "ad8c5736-48ce-4b75-af47-e36a198fe493",
      "metadata": {
        "id": "ad8c5736-48ce-4b75-af47-e36a198fe493"
      },
      "source": [
        "### 05 - Function Introspection"
      ]
    },
    {
      "cell_type": "code",
      "execution_count": null,
      "id": "e93401c3-b1ea-4c63-8185-7535a7e3c7f6",
      "metadata": {
        "id": "e93401c3-b1ea-4c63-8185-7535a7e3c7f6"
      },
      "outputs": [],
      "source": [
        "def fact(n: \"some non-negative integer\") -> \"n! or 0 if n < 0\":\n",
        "    \"\"\"Calculates the factorial of a non-negative integer n\n",
        "\n",
        "    if n is negative, returns 0.\n",
        "    \"\"\"\n",
        "    if n < 0:\n",
        "        return 0\n",
        "    elif n <= 1:\n",
        "        return 1\n",
        "    else:\n",
        "        return n * fact(n-1)"
      ]
    },
    {
      "cell_type": "markdown",
      "id": "eead45bb-7871-40e6-8d79-5e63f7682cf8",
      "metadata": {
        "id": "eead45bb-7871-40e6-8d79-5e63f7682cf8"
      },
      "source": [
        "Since functions are objects, we can add attributes to a function:"
      ]
    },
    {
      "cell_type": "code",
      "execution_count": null,
      "id": "8dbb9248-1b76-4467-9e4e-b2617130b096",
      "metadata": {
        "id": "8dbb9248-1b76-4467-9e4e-b2617130b096"
      },
      "outputs": [],
      "source": [
        "fact.short_description = \"factorial function\""
      ]
    },
    {
      "cell_type": "code",
      "execution_count": null,
      "id": "3fa5fbba-78e9-4bf7-b3a7-6558e82e205a",
      "metadata": {
        "id": "3fa5fbba-78e9-4bf7-b3a7-6558e82e205a",
        "outputId": "11591009-d22f-4832-9070-9504c7b0c93f"
      },
      "outputs": [
        {
          "name": "stdout",
          "output_type": "stream",
          "text": [
            "factorial function\n"
          ]
        }
      ],
      "source": [
        "print(fact.short_description)"
      ]
    },
    {
      "cell_type": "markdown",
      "id": "ee61e60b-de14-4f06-bb6f-d407da0e1d31",
      "metadata": {
        "id": "ee61e60b-de14-4f06-bb6f-d407da0e1d31"
      },
      "source": [
        "We can see all the attributes that belong to a function using the `dir` function:"
      ]
    },
    {
      "cell_type": "code",
      "execution_count": null,
      "id": "cce131d5-855d-481e-ac5a-315c91a71653",
      "metadata": {
        "id": "cce131d5-855d-481e-ac5a-315c91a71653",
        "outputId": "04228983-e01c-4385-fb06-b45a5430de60"
      },
      "outputs": [
        {
          "data": {
            "text/plain": [
              "['__annotations__',\n",
              " '__call__',\n",
              " '__class__',\n",
              " '__closure__',\n",
              " '__code__',\n",
              " '__defaults__',\n",
              " '__delattr__',\n",
              " '__dict__',\n",
              " '__dir__',\n",
              " '__doc__',\n",
              " '__eq__',\n",
              " '__format__',\n",
              " '__ge__',\n",
              " '__get__',\n",
              " '__getattribute__',\n",
              " '__globals__',\n",
              " '__gt__',\n",
              " '__hash__',\n",
              " '__init__',\n",
              " '__init_subclass__',\n",
              " '__kwdefaults__',\n",
              " '__le__',\n",
              " '__lt__',\n",
              " '__module__',\n",
              " '__name__',\n",
              " '__ne__',\n",
              " '__new__',\n",
              " '__qualname__',\n",
              " '__reduce__',\n",
              " '__reduce_ex__',\n",
              " '__repr__',\n",
              " '__setattr__',\n",
              " '__sizeof__',\n",
              " '__str__',\n",
              " '__subclasshook__',\n",
              " 'short_description']"
            ]
          },
          "execution_count": 71,
          "metadata": {},
          "output_type": "execute_result"
        }
      ],
      "source": [
        "dir(fact)"
      ]
    },
    {
      "cell_type": "markdown",
      "id": "3198c2f7-759b-45f3-8741-845176b35ef1",
      "metadata": {
        "id": "3198c2f7-759b-45f3-8741-845176b35ef1"
      },
      "source": [
        "We can see our `short_description` attribute, as well as some attributes we have seen before: `annotations` and `doc`"
      ]
    },
    {
      "cell_type": "code",
      "execution_count": null,
      "id": "76ddedee-d22a-445b-a15f-55bc306878b4",
      "metadata": {
        "id": "76ddedee-d22a-445b-a15f-55bc306878b4",
        "outputId": "3515e745-dff3-4701-ebd9-84c3875e4865"
      },
      "outputs": [
        {
          "data": {
            "text/plain": [
              "'Calculates the factorial of a non-negative integer n\\n\\n    if n is negative, returns 0.\\n    '"
            ]
          },
          "execution_count": 72,
          "metadata": {},
          "output_type": "execute_result"
        }
      ],
      "source": [
        "fact.__doc__"
      ]
    },
    {
      "cell_type": "code",
      "execution_count": null,
      "id": "2b42bc77-4e00-4889-bdb6-7a7fd030215f",
      "metadata": {
        "id": "2b42bc77-4e00-4889-bdb6-7a7fd030215f",
        "outputId": "1898887f-7469-4f2a-b336-956802d22109"
      },
      "outputs": [
        {
          "data": {
            "text/plain": [
              "{'n': 'some non-negative integer', 'return': 'n! or 0 if n < 0'}"
            ]
          },
          "execution_count": 73,
          "metadata": {},
          "output_type": "execute_result"
        }
      ],
      "source": [
        "fact.__annotations__"
      ]
    },
    {
      "cell_type": "markdown",
      "id": "21d9ddcc-4aef-41ad-ae44-00b37cc72c6f",
      "metadata": {
        "id": "21d9ddcc-4aef-41ad-ae44-00b37cc72c6f"
      },
      "source": [
        "We'll revisit some of these attributes later in this course, but let's take a look a few here:"
      ]
    },
    {
      "cell_type": "code",
      "execution_count": null,
      "id": "b2a8fee0-964a-44ce-a20c-27c525d4ca9c",
      "metadata": {
        "id": "b2a8fee0-964a-44ce-a20c-27c525d4ca9c"
      },
      "outputs": [],
      "source": [
        "def my_func(a, b=2, c=3, *, kw1, kw2=2, **kwargs):\n",
        "    pass"
      ]
    },
    {
      "cell_type": "markdown",
      "id": "5ac5d0be-6814-4abf-920a-4ce42c99d68e",
      "metadata": {
        "id": "5ac5d0be-6814-4abf-920a-4ce42c99d68e"
      },
      "source": [
        "Let's assign `my_func` to another variable:"
      ]
    },
    {
      "cell_type": "code",
      "execution_count": null,
      "id": "4b5515c4-50b2-47a6-b2b9-5af085842a53",
      "metadata": {
        "id": "4b5515c4-50b2-47a6-b2b9-5af085842a53"
      },
      "outputs": [],
      "source": [
        "f = my_func"
      ]
    },
    {
      "cell_type": "markdown",
      "id": "62226d43-0009-4ec7-9ee2-8c744147fd5a",
      "metadata": {
        "id": "62226d43-0009-4ec7-9ee2-8c744147fd5a"
      },
      "source": [
        "The `name` attribute holds the function's name:"
      ]
    },
    {
      "cell_type": "code",
      "execution_count": null,
      "id": "783708f0-5b57-44d8-aaee-6f95add0ccc1",
      "metadata": {
        "id": "783708f0-5b57-44d8-aaee-6f95add0ccc1",
        "outputId": "94d81957-51f5-47f3-95a4-9e79eb25cf7f"
      },
      "outputs": [
        {
          "data": {
            "text/plain": [
              "'my_func'"
            ]
          },
          "execution_count": 76,
          "metadata": {},
          "output_type": "execute_result"
        }
      ],
      "source": [
        "my_func.__name__"
      ]
    },
    {
      "cell_type": "code",
      "execution_count": null,
      "id": "417032e9-b778-4206-8755-3000e156669f",
      "metadata": {
        "id": "417032e9-b778-4206-8755-3000e156669f",
        "outputId": "30f6e259-399b-4b97-f768-cded7815284c"
      },
      "outputs": [
        {
          "data": {
            "text/plain": [
              "'my_func'"
            ]
          },
          "execution_count": 77,
          "metadata": {},
          "output_type": "execute_result"
        }
      ],
      "source": [
        "f.__name__"
      ]
    },
    {
      "cell_type": "markdown",
      "id": "65f76256-a303-4496-a065-503f370d2a0d",
      "metadata": {
        "id": "65f76256-a303-4496-a065-503f370d2a0d"
      },
      "source": [
        "The `defaults` attribute is a tuple contatining any positional parameter defaults:"
      ]
    },
    {
      "cell_type": "code",
      "execution_count": null,
      "id": "d282bfcc-0630-4937-8b67-dacf83371327",
      "metadata": {
        "id": "d282bfcc-0630-4937-8b67-dacf83371327",
        "outputId": "f18afa40-528f-4f83-d903-3eb2433a25b7"
      },
      "outputs": [
        {
          "data": {
            "text/plain": [
              "(2, 3)"
            ]
          },
          "execution_count": 78,
          "metadata": {},
          "output_type": "execute_result"
        }
      ],
      "source": [
        "my_func.__defaults__"
      ]
    },
    {
      "cell_type": "code",
      "execution_count": null,
      "id": "6603560e-b988-4171-9139-af6889fe37ce",
      "metadata": {
        "id": "6603560e-b988-4171-9139-af6889fe37ce",
        "outputId": "050d813a-3978-4105-e2b4-b4316022e940"
      },
      "outputs": [
        {
          "data": {
            "text/plain": [
              "{'kw2': 2}"
            ]
          },
          "execution_count": 79,
          "metadata": {},
          "output_type": "execute_result"
        }
      ],
      "source": [
        "my_func.__kwdefaults__"
      ]
    },
    {
      "cell_type": "markdown",
      "id": "0658513e-d25a-4727-b429-3c5228296778",
      "metadata": {
        "id": "0658513e-d25a-4727-b429-3c5228296778"
      },
      "source": [
        "Let's create a function with some local variables:"
      ]
    },
    {
      "cell_type": "code",
      "execution_count": null,
      "id": "c35f12e8-91ff-4ba2-ba29-698fd364b6cd",
      "metadata": {
        "id": "c35f12e8-91ff-4ba2-ba29-698fd364b6cd"
      },
      "outputs": [],
      "source": [
        "def my_func(a, b=1, *args, **kwargs):\n",
        "    i = 10\n",
        "    b = min(i, b)\n",
        "    return a * b"
      ]
    },
    {
      "cell_type": "code",
      "execution_count": null,
      "id": "c71ba23f-b89c-4c7a-960f-4f4bf9829490",
      "metadata": {
        "id": "c71ba23f-b89c-4c7a-960f-4f4bf9829490",
        "outputId": "e9a25232-123f-4fd9-cbd4-ff46d0f579d2"
      },
      "outputs": [
        {
          "data": {
            "text/plain": [
              "'aaaaaaaaaa'"
            ]
          },
          "execution_count": 81,
          "metadata": {},
          "output_type": "execute_result"
        }
      ],
      "source": [
        "my_func('a', 100)"
      ]
    },
    {
      "cell_type": "markdown",
      "id": "b53e8c3c-2fd0-482a-bf8e-bfda482260e9",
      "metadata": {
        "id": "b53e8c3c-2fd0-482a-bf8e-bfda482260e9"
      },
      "source": [
        "The `code` attribute contains a `code` object:"
      ]
    },
    {
      "cell_type": "code",
      "execution_count": null,
      "id": "a92db78b-5398-4049-84d8-89f29f19836f",
      "metadata": {
        "id": "a92db78b-5398-4049-84d8-89f29f19836f",
        "outputId": "0bb6faa4-72e3-47d9-c360-7192e9e33c1e"
      },
      "outputs": [
        {
          "data": {
            "text/plain": [
              "<code object my_func at 0x000001760A049D40, file \"C:\\Users\\aserd\\AppData\\Local\\Temp\\ipykernel_7388\\802511939.py\", line 1>"
            ]
          },
          "execution_count": 82,
          "metadata": {},
          "output_type": "execute_result"
        }
      ],
      "source": [
        "my_func.__code__"
      ]
    },
    {
      "cell_type": "markdown",
      "id": "78fd3c92-8a67-47cf-b9bf-e436bf030875",
      "metadata": {
        "id": "78fd3c92-8a67-47cf-b9bf-e436bf030875"
      },
      "source": [
        "This `code` object itself has various properties:"
      ]
    },
    {
      "cell_type": "code",
      "execution_count": null,
      "id": "004dc035-d136-4c56-a38b-546dd06ff1e5",
      "metadata": {
        "id": "004dc035-d136-4c56-a38b-546dd06ff1e5",
        "outputId": "155c89dd-e77a-4431-dcca-3e4ee849d33d"
      },
      "outputs": [
        {
          "data": {
            "text/plain": [
              "['__class__',\n",
              " '__delattr__',\n",
              " '__dir__',\n",
              " '__doc__',\n",
              " '__eq__',\n",
              " '__format__',\n",
              " '__ge__',\n",
              " '__getattribute__',\n",
              " '__gt__',\n",
              " '__hash__',\n",
              " '__init__',\n",
              " '__init_subclass__',\n",
              " '__le__',\n",
              " '__lt__',\n",
              " '__ne__',\n",
              " '__new__',\n",
              " '__reduce__',\n",
              " '__reduce_ex__',\n",
              " '__repr__',\n",
              " '__setattr__',\n",
              " '__sizeof__',\n",
              " '__str__',\n",
              " '__subclasshook__',\n",
              " 'co_argcount',\n",
              " 'co_cellvars',\n",
              " 'co_code',\n",
              " 'co_consts',\n",
              " 'co_filename',\n",
              " 'co_firstlineno',\n",
              " 'co_flags',\n",
              " 'co_freevars',\n",
              " 'co_kwonlyargcount',\n",
              " 'co_lnotab',\n",
              " 'co_name',\n",
              " 'co_names',\n",
              " 'co_nlocals',\n",
              " 'co_posonlyargcount',\n",
              " 'co_stacksize',\n",
              " 'co_varnames',\n",
              " 'replace']"
            ]
          },
          "execution_count": 83,
          "metadata": {},
          "output_type": "execute_result"
        }
      ],
      "source": [
        "dir(my_func.__code__)"
      ]
    },
    {
      "cell_type": "markdown",
      "id": "1dd68832-a5ba-465f-b729-24fa964a704f",
      "metadata": {
        "id": "1dd68832-a5ba-465f-b729-24fa964a704f"
      },
      "source": [
        "Attribute `co_varnames` is a tuple containing the parameter names and local variables:"
      ]
    },
    {
      "cell_type": "code",
      "execution_count": null,
      "id": "a06b0d73-efa0-4f96-8740-1e6979ae8954",
      "metadata": {
        "id": "a06b0d73-efa0-4f96-8740-1e6979ae8954",
        "outputId": "0282ea30-41a6-42de-b8c3-6f31fc220d86"
      },
      "outputs": [
        {
          "data": {
            "text/plain": [
              "('a', 'b', 'args', 'kwargs', 'i')"
            ]
          },
          "execution_count": 84,
          "metadata": {},
          "output_type": "execute_result"
        }
      ],
      "source": [
        "my_func.__code__.co_varnames"
      ]
    },
    {
      "cell_type": "markdown",
      "id": "47f98dbc-4d88-48cc-ab2a-8e716b9636b2",
      "metadata": {
        "id": "47f98dbc-4d88-48cc-ab2a-8e716b9636b2"
      },
      "source": [
        "Attribute `co_argcount` returns the number of arguments (minus any * and ** args)"
      ]
    },
    {
      "cell_type": "code",
      "execution_count": null,
      "id": "7f9d89b5-2a52-4a92-a643-6ff58392b322",
      "metadata": {
        "id": "7f9d89b5-2a52-4a92-a643-6ff58392b322",
        "outputId": "3c7d4ebc-39b2-4655-b137-6b8b3c0a2d79"
      },
      "outputs": [
        {
          "data": {
            "text/plain": [
              "2"
            ]
          },
          "execution_count": 85,
          "metadata": {},
          "output_type": "execute_result"
        }
      ],
      "source": [
        "my_func.__code__.co_argcount"
      ]
    },
    {
      "cell_type": "markdown",
      "id": "21eb7f88-5e72-44b6-abd4-8d1c92af694b",
      "metadata": {
        "id": "21eb7f88-5e72-44b6-abd4-8d1c92af694b"
      },
      "source": [
        "**The inspect module**"
      ]
    },
    {
      "cell_type": "markdown",
      "id": "295e5739-20c5-4ae7-adbe-8b6389112cfd",
      "metadata": {
        "id": "295e5739-20c5-4ae7-adbe-8b6389112cfd"
      },
      "source": [
        "it is much easier to use the inspect module!"
      ]
    },
    {
      "cell_type": "code",
      "execution_count": null,
      "id": "6ca1280a-e14c-4fa3-8405-cb851e767705",
      "metadata": {
        "id": "6ca1280a-e14c-4fa3-8405-cb851e767705"
      },
      "outputs": [],
      "source": [
        "import inspect"
      ]
    },
    {
      "cell_type": "code",
      "execution_count": null,
      "id": "4dff550b-0015-4a28-b0ec-04687a3e23b7",
      "metadata": {
        "id": "4dff550b-0015-4a28-b0ec-04687a3e23b7",
        "outputId": "ad9c6367-1ac0-47a2-93b0-bb181abf99e8"
      },
      "outputs": [
        {
          "data": {
            "text/plain": [
              "True"
            ]
          },
          "execution_count": 87,
          "metadata": {},
          "output_type": "execute_result"
        }
      ],
      "source": [
        "inspect.isfunction(my_func)"
      ]
    },
    {
      "cell_type": "markdown",
      "id": "a7580456-0d35-4c8e-9f93-06e2cc99a493",
      "metadata": {
        "id": "a7580456-0d35-4c8e-9f93-06e2cc99a493"
      },
      "source": [
        "---\n",
        "\n",
        "**BE CAREFUL!**"
      ]
    },
    {
      "cell_type": "markdown",
      "id": "88f0dfeb-4b40-4394-a1ae-5c463d18e401",
      "metadata": {
        "id": "88f0dfeb-4b40-4394-a1ae-5c463d18e401"
      },
      "source": [
        "*By the way, there is a difference between a function and a method! A method is a function that is bound to some object:*"
      ]
    },
    {
      "cell_type": "code",
      "execution_count": null,
      "id": "5bbe1f51-4a0d-44fa-a0ce-6ab2519663ee",
      "metadata": {
        "id": "5bbe1f51-4a0d-44fa-a0ce-6ab2519663ee",
        "outputId": "97493e1a-fa2a-464c-dc83-64440de81fb7"
      },
      "outputs": [
        {
          "data": {
            "text/plain": [
              "False"
            ]
          },
          "execution_count": 88,
          "metadata": {},
          "output_type": "execute_result"
        }
      ],
      "source": [
        "inspect.ismethod(my_func)"
      ]
    },
    {
      "cell_type": "code",
      "execution_count": null,
      "id": "3564f922-9803-4152-b16a-e6c7f6167cf8",
      "metadata": {
        "id": "3564f922-9803-4152-b16a-e6c7f6167cf8"
      },
      "outputs": [],
      "source": [
        "class MyClass:\n",
        "    def f_instance(self):\n",
        "        pass\n",
        "    \n",
        "    @classmethod\n",
        "    def f_class(cls):\n",
        "        pass\n",
        "    \n",
        "    @staticmethod\n",
        "    def f_static():\n",
        "        pass"
      ]
    },
    {
      "cell_type": "markdown",
      "id": "bc736b67-60e2-4b16-b06e-7ed8ef109c4e",
      "metadata": {
        "id": "bc736b67-60e2-4b16-b06e-7ed8ef109c4e"
      },
      "source": [
        "`Instance methods` are bound to the `instance` of a class (not the class itself)\n",
        "\n",
        "`Class methods` are bound to the `class`, not instances\n",
        "\n",
        "`Static methods` are no bound either to the class or its instances"
      ]
    },
    {
      "cell_type": "code",
      "execution_count": null,
      "id": "dfe9271e-6576-4556-a1cb-e493c5261e41",
      "metadata": {
        "id": "dfe9271e-6576-4556-a1cb-e493c5261e41",
        "outputId": "2627dbc5-cdf8-43ff-c878-4036143129ec"
      },
      "outputs": [
        {
          "data": {
            "text/plain": [
              "(True, False)"
            ]
          },
          "execution_count": 90,
          "metadata": {},
          "output_type": "execute_result"
        }
      ],
      "source": [
        "inspect.isfunction(MyClass.f_instance), inspect.ismethod(MyClass.f_instance)"
      ]
    },
    {
      "cell_type": "code",
      "execution_count": null,
      "id": "8862db8a-ba83-4845-9528-1f83f14332e5",
      "metadata": {
        "id": "8862db8a-ba83-4845-9528-1f83f14332e5",
        "outputId": "b1b8b18b-8abd-41ad-c66e-6b8b32920376"
      },
      "outputs": [
        {
          "data": {
            "text/plain": [
              "(False, True)"
            ]
          },
          "execution_count": 91,
          "metadata": {},
          "output_type": "execute_result"
        }
      ],
      "source": [
        "inspect.isfunction(MyClass.f_class), inspect.ismethod(MyClass.f_class)"
      ]
    },
    {
      "cell_type": "code",
      "execution_count": null,
      "id": "a944384e-ecf7-45e0-b79a-2113581e9416",
      "metadata": {
        "id": "a944384e-ecf7-45e0-b79a-2113581e9416",
        "outputId": "c19b1369-743b-4c73-f937-8d0731d0a643"
      },
      "outputs": [
        {
          "data": {
            "text/plain": [
              "(True, False)"
            ]
          },
          "execution_count": 92,
          "metadata": {},
          "output_type": "execute_result"
        }
      ],
      "source": [
        "inspect.isfunction(MyClass.f_static), inspect.ismethod(MyClass.f_static)"
      ]
    },
    {
      "cell_type": "code",
      "execution_count": null,
      "id": "32653cb6-b437-4717-b436-980b166ec485",
      "metadata": {
        "id": "32653cb6-b437-4717-b436-980b166ec485"
      },
      "outputs": [],
      "source": [
        "my_obj = MyClass()"
      ]
    },
    {
      "cell_type": "code",
      "execution_count": null,
      "id": "b06059fc-a7a9-494e-88d4-b2c60acf20c8",
      "metadata": {
        "id": "b06059fc-a7a9-494e-88d4-b2c60acf20c8",
        "outputId": "9a1795bf-a41f-44f2-ee56-baf6e83c39b2"
      },
      "outputs": [
        {
          "data": {
            "text/plain": [
              "(False, True)"
            ]
          },
          "execution_count": 94,
          "metadata": {},
          "output_type": "execute_result"
        }
      ],
      "source": [
        "inspect.isfunction(my_obj.f_instance), inspect.ismethod(my_obj.f_class)"
      ]
    },
    {
      "cell_type": "code",
      "execution_count": null,
      "id": "af1caa97-5180-4d4e-bb7b-6654218fbf2b",
      "metadata": {
        "id": "af1caa97-5180-4d4e-bb7b-6654218fbf2b",
        "outputId": "adc70ad6-305f-4ec4-958d-cfd8c078b742"
      },
      "outputs": [
        {
          "data": {
            "text/plain": [
              "(False, True)"
            ]
          },
          "execution_count": 95,
          "metadata": {},
          "output_type": "execute_result"
        }
      ],
      "source": [
        "inspect.isfunction(my_obj.f_class), inspect.ismethod(my_obj.f_class)"
      ]
    },
    {
      "cell_type": "code",
      "execution_count": null,
      "id": "e09f7d8e-c5dc-4946-90b5-282ba3d398ab",
      "metadata": {
        "id": "e09f7d8e-c5dc-4946-90b5-282ba3d398ab",
        "outputId": "e7713706-37df-40d5-f373-7e0b0d12892f"
      },
      "outputs": [
        {
          "data": {
            "text/plain": [
              "(True, False)"
            ]
          },
          "execution_count": 96,
          "metadata": {},
          "output_type": "execute_result"
        }
      ],
      "source": [
        "inspect.isfunction(my_obj.f_static), inspect.ismethod(my_obj.f_static)"
      ]
    },
    {
      "cell_type": "markdown",
      "id": "cfdf8e18-2615-4c89-b2b8-2432ed1204b0",
      "metadata": {
        "id": "cfdf8e18-2615-4c89-b2b8-2432ed1204b0"
      },
      "source": [
        "If you just want to know if something is a function or method:"
      ]
    },
    {
      "cell_type": "code",
      "execution_count": null,
      "id": "6c6d4eca-b598-4492-80f4-482e2fc8ef66",
      "metadata": {
        "id": "6c6d4eca-b598-4492-80f4-482e2fc8ef66",
        "outputId": "57650353-add3-430d-b080-e08f2088d231"
      },
      "outputs": [
        {
          "data": {
            "text/plain": [
              "True"
            ]
          },
          "execution_count": 97,
          "metadata": {},
          "output_type": "execute_result"
        }
      ],
      "source": [
        "inspect.isroutine(my_func)"
      ]
    },
    {
      "cell_type": "code",
      "execution_count": null,
      "id": "74dca03a-3bbc-4c9b-a2d1-303558ce8246",
      "metadata": {
        "id": "74dca03a-3bbc-4c9b-a2d1-303558ce8246",
        "outputId": "8d29d81f-2842-47bd-8b3e-835223f3029c"
      },
      "outputs": [
        {
          "data": {
            "text/plain": [
              "True"
            ]
          },
          "execution_count": 98,
          "metadata": {},
          "output_type": "execute_result"
        }
      ],
      "source": [
        "inspect.isroutine(MyClass.f_instance)"
      ]
    },
    {
      "cell_type": "code",
      "execution_count": null,
      "id": "6b37aff8-0ce7-4ef2-aa13-2d89e845f2cd",
      "metadata": {
        "id": "6b37aff8-0ce7-4ef2-aa13-2d89e845f2cd",
        "outputId": "1cecc96b-67a3-415a-d9ed-1feb855b73ec"
      },
      "outputs": [
        {
          "data": {
            "text/plain": [
              "True"
            ]
          },
          "execution_count": 99,
          "metadata": {},
          "output_type": "execute_result"
        }
      ],
      "source": [
        "inspect.isroutine(my_obj.f_class)"
      ]
    },
    {
      "cell_type": "code",
      "execution_count": null,
      "id": "40cd0e3b-3e00-4618-ba39-6c45935d9efa",
      "metadata": {
        "id": "40cd0e3b-3e00-4618-ba39-6c45935d9efa",
        "outputId": "35c329c5-f925-4921-9426-c12f1640b702"
      },
      "outputs": [
        {
          "data": {
            "text/plain": [
              "True"
            ]
          },
          "execution_count": 100,
          "metadata": {},
          "output_type": "execute_result"
        }
      ],
      "source": [
        "inspect.isroutine(my_obj.f_static)"
      ]
    },
    {
      "cell_type": "markdown",
      "id": "832c45e9-d316-4d7c-8361-018be0635d87",
      "metadata": {
        "id": "832c45e9-d316-4d7c-8361-018be0635d87"
      },
      "source": [
        "**Introspecting Callable Code**"
      ]
    },
    {
      "cell_type": "markdown",
      "id": "8dbd70df-5916-406c-9e00-03d3e7d2f4fb",
      "metadata": {
        "id": "8dbd70df-5916-406c-9e00-03d3e7d2f4fb"
      },
      "source": [
        "We can get back the source code of our function using the `getsource()` method:"
      ]
    },
    {
      "cell_type": "code",
      "execution_count": null,
      "id": "e2a30c5f-c058-40db-87df-e05bb6b5ca34",
      "metadata": {
        "id": "e2a30c5f-c058-40db-87df-e05bb6b5ca34",
        "outputId": "3843c2a6-66ab-4fd9-8d08-fc59ba0c14c5"
      },
      "outputs": [
        {
          "data": {
            "text/plain": [
              "'def fact(n: \"some non-negative integer\") -> \"n! or 0 if n < 0\":\\n    \"\"\"Calculates the factorial of a non-negative integer n\\n\\n    if n is negative, returns 0.\\n    \"\"\"\\n    if n < 0:\\n        return 0\\n    elif n <= 1:\\n        return 1\\n    else:\\n        return n * fact(n-1)\\n'"
            ]
          },
          "execution_count": 101,
          "metadata": {},
          "output_type": "execute_result"
        }
      ],
      "source": [
        "inspect.getsource(fact)"
      ]
    },
    {
      "cell_type": "code",
      "execution_count": null,
      "id": "6f3ec15f-7caa-48bd-a8e6-58b3bf6468be",
      "metadata": {
        "id": "6f3ec15f-7caa-48bd-a8e6-58b3bf6468be",
        "outputId": "f3353183-f298-4d02-f283-fee18b703261"
      },
      "outputs": [
        {
          "name": "stdout",
          "output_type": "stream",
          "text": [
            "def fact(n: \"some non-negative integer\") -> \"n! or 0 if n < 0\":\n",
            "    \"\"\"Calculates the factorial of a non-negative integer n\n",
            "\n",
            "    if n is negative, returns 0.\n",
            "    \"\"\"\n",
            "    if n < 0:\n",
            "        return 0\n",
            "    elif n <= 1:\n",
            "        return 1\n",
            "    else:\n",
            "        return n * fact(n-1)\n",
            "\n"
          ]
        }
      ],
      "source": [
        "print(inspect.getsource(fact))"
      ]
    },
    {
      "cell_type": "code",
      "execution_count": null,
      "id": "ec2b8a1d-c162-4580-b725-96c5f59dacd1",
      "metadata": {
        "id": "ec2b8a1d-c162-4580-b725-96c5f59dacd1",
        "outputId": "c0890118-5877-49ac-e50a-5a936a36b9ac"
      },
      "outputs": [
        {
          "data": {
            "text/plain": [
              "'    def f_instance(self):\\n        pass\\n'"
            ]
          },
          "execution_count": 103,
          "metadata": {},
          "output_type": "execute_result"
        }
      ],
      "source": [
        "inspect.getsource(MyClass.f_instance)"
      ]
    },
    {
      "cell_type": "code",
      "execution_count": null,
      "id": "b6c558d0-872c-45f7-9add-cdb1ef918d1d",
      "metadata": {
        "id": "b6c558d0-872c-45f7-9add-cdb1ef918d1d",
        "outputId": "e15e38c1-13b5-4a20-8027-8d290f7b25e3"
      },
      "outputs": [
        {
          "data": {
            "text/plain": [
              "'    def f_instance(self):\\n        pass\\n'"
            ]
          },
          "execution_count": 104,
          "metadata": {},
          "output_type": "execute_result"
        }
      ],
      "source": [
        "inspect.getsource(my_obj.f_instance)"
      ]
    },
    {
      "cell_type": "markdown",
      "id": "b763312b-4985-4bee-bae9-cfd535b30eed",
      "metadata": {
        "id": "b763312b-4985-4bee-bae9-cfd535b30eed"
      },
      "source": [
        "We can also find out where the function was defined:"
      ]
    },
    {
      "cell_type": "code",
      "execution_count": null,
      "id": "f46af74c-a344-43cf-9eb6-e9a0f5f30067",
      "metadata": {
        "id": "f46af74c-a344-43cf-9eb6-e9a0f5f30067",
        "outputId": "54b3626d-06b8-414f-8844-cd097d6ddbac"
      },
      "outputs": [
        {
          "data": {
            "text/plain": [
              "<module '__main__'>"
            ]
          },
          "execution_count": 105,
          "metadata": {},
          "output_type": "execute_result"
        }
      ],
      "source": [
        "inspect.getmodule(fact)"
      ]
    },
    {
      "cell_type": "code",
      "execution_count": null,
      "id": "117fa7b8-a110-4358-92c3-4b9fdc1be886",
      "metadata": {
        "id": "117fa7b8-a110-4358-92c3-4b9fdc1be886",
        "outputId": "8738f0f6-06d9-408c-e0ab-f1a7d31ada35"
      },
      "outputs": [
        {
          "data": {
            "text/plain": [
              "<module 'builtins' (built-in)>"
            ]
          },
          "execution_count": 106,
          "metadata": {},
          "output_type": "execute_result"
        }
      ],
      "source": [
        "inspect.getmodule(print)"
      ]
    },
    {
      "cell_type": "code",
      "execution_count": null,
      "id": "29219655-120b-4adb-8f6b-5240b7cb65c0",
      "metadata": {
        "id": "29219655-120b-4adb-8f6b-5240b7cb65c0"
      },
      "outputs": [],
      "source": [
        "# setting up variable\n",
        "i = 10\n",
        "\n",
        "# comment line 1\n",
        "# comment line 2\n",
        "def my_func(a, b=1):\n",
        "    # comment inside my_func\n",
        "    pass"
      ]
    },
    {
      "cell_type": "code",
      "execution_count": null,
      "id": "3ea99f61-6d0d-4376-ae80-86e65ec0ab23",
      "metadata": {
        "id": "3ea99f61-6d0d-4376-ae80-86e65ec0ab23",
        "outputId": "3e6650dd-183d-4029-ec26-374908d8c5bc"
      },
      "outputs": [
        {
          "data": {
            "text/plain": [
              "'# comment line 1\\n# comment line 2\\n'"
            ]
          },
          "execution_count": 108,
          "metadata": {},
          "output_type": "execute_result"
        }
      ],
      "source": [
        "inspect.getcomments(my_func)"
      ]
    },
    {
      "cell_type": "code",
      "execution_count": null,
      "id": "94d05e74-42fa-4c43-9bef-89d11c2e1d77",
      "metadata": {
        "id": "94d05e74-42fa-4c43-9bef-89d11c2e1d77",
        "outputId": "59c66ac9-3559-4b23-e768-235d4c4eb89f"
      },
      "outputs": [
        {
          "name": "stdout",
          "output_type": "stream",
          "text": [
            "# comment line 1\n",
            "# comment line 2\n",
            "\n"
          ]
        }
      ],
      "source": [
        "print(inspect.getcomments(my_func))"
      ]
    },
    {
      "cell_type": "markdown",
      "id": "4dd2981a-dabc-4a93-bf08-c979d8e5e25f",
      "metadata": {
        "id": "4dd2981a-dabc-4a93-bf08-c979d8e5e25f"
      },
      "source": [
        "**Introspecting Callable Signatures**"
      ]
    },
    {
      "cell_type": "code",
      "execution_count": null,
      "id": "6d93d68e-fb07-4c6b-88f6-76864bb3b25c",
      "metadata": {
        "id": "6d93d68e-fb07-4c6b-88f6-76864bb3b25c"
      },
      "outputs": [],
      "source": [
        "# TODO: Provide Implementation\n",
        "def my_func(a: 'a string',\n",
        "            b: int = 1,\n",
        "            *args: 'additional positional args',\n",
        "            kw1: 'first keyword-only arg',\n",
        "            kw2: 'second keyword-only arg'=10,\n",
        "            **kwargs: 'additional keyword-only args') -> str:\n",
        "    \"\"\"does something\n",
        "    or other\"\"\"\n",
        "    pass"
      ]
    },
    {
      "cell_type": "code",
      "execution_count": null,
      "id": "c97d3b96-3073-432c-93ee-e9bbc7cac596",
      "metadata": {
        "id": "c97d3b96-3073-432c-93ee-e9bbc7cac596",
        "outputId": "f6c49a7d-ceb4-430e-d8b0-160efa80a260"
      },
      "outputs": [
        {
          "data": {
            "text/plain": [
              "<Signature (a: 'a string', b: int = 1, *args: 'additional positional args', kw1: 'first keyword-only arg', kw2: 'second keyword-only arg' = 10, **kwargs: 'additional keyword-only args') -> str>"
            ]
          },
          "execution_count": 111,
          "metadata": {},
          "output_type": "execute_result"
        }
      ],
      "source": [
        "inspect.signature(my_func)"
      ]
    },
    {
      "cell_type": "code",
      "execution_count": null,
      "id": "e68d8874-e499-43cd-ac38-daf7be9be7b5",
      "metadata": {
        "id": "e68d8874-e499-43cd-ac38-daf7be9be7b5",
        "outputId": "373b4570-86c9-46da-fe09-12584e75a532"
      },
      "outputs": [
        {
          "data": {
            "text/plain": [
              "inspect.Signature"
            ]
          },
          "execution_count": 112,
          "metadata": {},
          "output_type": "execute_result"
        }
      ],
      "source": [
        "type(inspect.signature(my_func))"
      ]
    },
    {
      "cell_type": "code",
      "execution_count": null,
      "id": "577c5bb7-a2ef-478e-9761-6d00e04b1980",
      "metadata": {
        "id": "577c5bb7-a2ef-478e-9761-6d00e04b1980"
      },
      "outputs": [],
      "source": [
        "sig = inspect.signature(my_func)"
      ]
    },
    {
      "cell_type": "code",
      "execution_count": null,
      "id": "cd38d65c-149c-4e60-9e0e-285e9c846915",
      "metadata": {
        "id": "cd38d65c-149c-4e60-9e0e-285e9c846915",
        "outputId": "c40a10ed-725b-4935-d110-5fddcc1b6b5a"
      },
      "outputs": [
        {
          "data": {
            "text/plain": [
              "['__class__',\n",
              " '__delattr__',\n",
              " '__dir__',\n",
              " '__doc__',\n",
              " '__eq__',\n",
              " '__format__',\n",
              " '__ge__',\n",
              " '__getattribute__',\n",
              " '__gt__',\n",
              " '__hash__',\n",
              " '__init__',\n",
              " '__init_subclass__',\n",
              " '__le__',\n",
              " '__lt__',\n",
              " '__module__',\n",
              " '__ne__',\n",
              " '__new__',\n",
              " '__reduce__',\n",
              " '__reduce_ex__',\n",
              " '__repr__',\n",
              " '__setattr__',\n",
              " '__setstate__',\n",
              " '__sizeof__',\n",
              " '__slots__',\n",
              " '__str__',\n",
              " '__subclasshook__',\n",
              " '_bind',\n",
              " '_bound_arguments_cls',\n",
              " '_hash_basis',\n",
              " '_parameter_cls',\n",
              " '_parameters',\n",
              " '_return_annotation',\n",
              " 'bind',\n",
              " 'bind_partial',\n",
              " 'empty',\n",
              " 'from_builtin',\n",
              " 'from_callable',\n",
              " 'from_function',\n",
              " 'parameters',\n",
              " 'replace',\n",
              " 'return_annotation']"
            ]
          },
          "execution_count": 114,
          "metadata": {},
          "output_type": "execute_result"
        }
      ],
      "source": [
        "dir(sig)"
      ]
    },
    {
      "cell_type": "code",
      "execution_count": null,
      "id": "41442950-6808-4f6b-847d-d718ead8a97f",
      "metadata": {
        "id": "41442950-6808-4f6b-847d-d718ead8a97f",
        "outputId": "2ac9d6d7-8d15-4214-9182-0a758feb2abc"
      },
      "outputs": [
        {
          "name": "stdout",
          "output_type": "stream",
          "text": [
            "a a: 'a string'\n",
            "b b: int = 1\n",
            "args *args: 'additional positional args'\n",
            "kw1 kw1: 'first keyword-only arg'\n",
            "kw2 kw2: 'second keyword-only arg' = 10\n",
            "kwargs **kwargs: 'additional keyword-only args'\n"
          ]
        }
      ],
      "source": [
        "for param_name, param in sig.parameters.items():\n",
        "    print(param_name, param)"
      ]
    },
    {
      "cell_type": "code",
      "execution_count": null,
      "id": "fca3cccc-ec9d-437f-94c8-33117c6345fa",
      "metadata": {
        "id": "fca3cccc-ec9d-437f-94c8-33117c6345fa"
      },
      "outputs": [],
      "source": [
        "def print_info(f: \"callable\") -> None:\n",
        "    print(f.__name__)\n",
        "    print('=' * len(f.__name__), end='\\n\\n')\n",
        "\n",
        "    print('{0}\\n{1}\\n'.format(inspect.getcomments(f),\n",
        "                              inspect.cleandoc(f.__doc__)))\n",
        "    \n",
        "    print('{0}\\n{1}'.format('Inputs', '-'*len('Inputs')))\n",
        "\n",
        "    sig = inspect.signature(f)\n",
        "    for param in sig.parameters.values():\n",
        "        print('Name:', param.name)\n",
        "        print('Default:', param.default)\n",
        "        print('Annotation:', param.annotation)\n",
        "        print('Kind:', param.kind)\n",
        "        print('----------------\\n')\n",
        "    \n",
        "    print('{0}\\n{1}'.format('\\n\\nOutput', '-'*len('Output')))\n",
        "    print(sig.return_annotation)"
      ]
    },
    {
      "cell_type": "code",
      "execution_count": null,
      "id": "963e483b-63e2-456d-8fe1-5defc96c567e",
      "metadata": {
        "id": "963e483b-63e2-456d-8fe1-5defc96c567e",
        "outputId": "9e2191c4-6196-4df9-df71-bdbda1871ac0"
      },
      "outputs": [
        {
          "name": "stdout",
          "output_type": "stream",
          "text": [
            "my_func\n",
            "=======\n",
            "\n",
            "# TODO: Provide Implementation\n",
            "\n",
            "does something\n",
            "or other\n",
            "\n",
            "Inputs\n",
            "------\n",
            "Name: a\n",
            "Default: <class 'inspect._empty'>\n",
            "Annotation: a string\n",
            "Kind: POSITIONAL_OR_KEYWORD\n",
            "----------------\n",
            "\n",
            "Name: b\n",
            "Default: 1\n",
            "Annotation: <class 'int'>\n",
            "Kind: POSITIONAL_OR_KEYWORD\n",
            "----------------\n",
            "\n",
            "Name: args\n",
            "Default: <class 'inspect._empty'>\n",
            "Annotation: additional positional args\n",
            "Kind: VAR_POSITIONAL\n",
            "----------------\n",
            "\n",
            "Name: kw1\n",
            "Default: <class 'inspect._empty'>\n",
            "Annotation: first keyword-only arg\n",
            "Kind: KEYWORD_ONLY\n",
            "----------------\n",
            "\n",
            "Name: kw2\n",
            "Default: 10\n",
            "Annotation: second keyword-only arg\n",
            "Kind: KEYWORD_ONLY\n",
            "----------------\n",
            "\n",
            "Name: kwargs\n",
            "Default: <class 'inspect._empty'>\n",
            "Annotation: additional keyword-only args\n",
            "Kind: VAR_KEYWORD\n",
            "----------------\n",
            "\n",
            "\n",
            "\n",
            "Output\n",
            "------\n",
            "<class 'str'>\n"
          ]
        }
      ],
      "source": [
        "print_info(my_func)"
      ]
    },
    {
      "cell_type": "markdown",
      "id": "372af8e9-6d25-42da-88b1-7ae0b559663b",
      "metadata": {
        "id": "372af8e9-6d25-42da-88b1-7ae0b559663b"
      },
      "source": [
        "**A Side Note on Positional Only Arguments**"
      ]
    },
    {
      "cell_type": "markdown",
      "id": "6ca1a288-6679-47be-a68c-bf5a0801f1a9",
      "metadata": {
        "id": "6ca1a288-6679-47be-a68c-bf5a0801f1a9"
      },
      "source": [
        "Some built-in callables have arguments that are positional only (i.e. cannot be specified using a keyword).\n",
        "\n",
        "However, Python does not currently have any syntax that allows us to define callables with positional only arguments.\n",
        "\n",
        "In general, the documentation uses a `/` character to indicate that all preceding arguments are positional-only. But not always :( "
      ]
    },
    {
      "cell_type": "code",
      "execution_count": null,
      "id": "267c52f4-6706-4613-b69d-af25fd2606a0",
      "metadata": {
        "id": "267c52f4-6706-4613-b69d-af25fd2606a0",
        "outputId": "2b5bb95b-91f8-477a-f57f-0c1206d39fb6"
      },
      "outputs": [
        {
          "name": "stdout",
          "output_type": "stream",
          "text": [
            "Help on built-in function divmod in module builtins:\n",
            "\n",
            "divmod(x, y, /)\n",
            "    Return the tuple (x//y, x%y).  Invariant: div*y + mod == x.\n",
            "\n"
          ]
        }
      ],
      "source": [
        "help(divmod)"
      ]
    },
    {
      "cell_type": "markdown",
      "id": "60e221ea-7b00-45eb-8b10-a2981ff310e7",
      "metadata": {
        "id": "60e221ea-7b00-45eb-8b10-a2981ff310e7"
      },
      "source": [
        "Here we see that the `divmod` function takes two positional-only parameters:"
      ]
    },
    {
      "cell_type": "code",
      "execution_count": null,
      "id": "2bb39521-8579-43a4-ac92-e19a58d9205f",
      "metadata": {
        "id": "2bb39521-8579-43a4-ac92-e19a58d9205f",
        "outputId": "93f3a5ae-56c9-420d-fa89-a0db8d860a61"
      },
      "outputs": [
        {
          "data": {
            "text/plain": [
              "(3, 1)"
            ]
          },
          "execution_count": 120,
          "metadata": {},
          "output_type": "execute_result"
        }
      ],
      "source": [
        "divmod(10, 3)"
      ]
    },
    {
      "cell_type": "code",
      "execution_count": null,
      "id": "a545dd33-0d4d-4f06-a846-2ac5295c5add",
      "metadata": {
        "id": "a545dd33-0d4d-4f06-a846-2ac5295c5add",
        "outputId": "6d2e9a44-166f-4396-d413-61a4d44d8049"
      },
      "outputs": [
        {
          "ename": "TypeError",
          "evalue": "divmod() takes no keyword arguments",
          "output_type": "error",
          "traceback": [
            "\u001b[1;31m---------------------------------------------------------------------------\u001b[0m",
            "\u001b[1;31mTypeError\u001b[0m                                 Traceback (most recent call last)",
            "Input \u001b[1;32mIn [121]\u001b[0m, in \u001b[0;36m<cell line: 1>\u001b[1;34m()\u001b[0m\n\u001b[1;32m----> 1\u001b[0m \u001b[38;5;28;43mdivmod\u001b[39;49m\u001b[43m(\u001b[49m\u001b[43mx\u001b[49m\u001b[38;5;241;43m=\u001b[39;49m\u001b[38;5;241;43m10\u001b[39;49m\u001b[43m,\u001b[49m\u001b[43m \u001b[49m\u001b[43my\u001b[49m\u001b[38;5;241;43m=\u001b[39;49m\u001b[38;5;241;43m3\u001b[39;49m\u001b[43m)\u001b[49m\n",
            "\u001b[1;31mTypeError\u001b[0m: divmod() takes no keyword arguments"
          ]
        }
      ],
      "source": [
        "divmod(x=10, y=3)"
      ]
    },
    {
      "cell_type": "markdown",
      "id": "2012a8bf-7438-4dcd-a4eb-8b1ebc4d928a",
      "metadata": {
        "id": "2012a8bf-7438-4dcd-a4eb-8b1ebc4d928a"
      },
      "source": [
        "---\n",
        "**BE CAREFUL!**"
      ]
    },
    {
      "cell_type": "markdown",
      "id": "0900f5e0-e43c-4fe6-9dc2-ef082db8ccbe",
      "metadata": {
        "id": "0900f5e0-e43c-4fe6-9dc2-ef082db8ccbe"
      },
      "source": [
        "*Similarly, the string `replace` function also takes positional-only arguments, however, the documentation not indicate this!*\n",
        "\n",
        "*It has been updated*"
      ]
    },
    {
      "cell_type": "code",
      "execution_count": null,
      "id": "902b80cf-0693-4579-b6ca-26d2296887e0",
      "metadata": {
        "id": "902b80cf-0693-4579-b6ca-26d2296887e0",
        "outputId": "32076541-04e0-4753-81de-098d02cd1807"
      },
      "outputs": [
        {
          "name": "stdout",
          "output_type": "stream",
          "text": [
            "Help on method_descriptor:\n",
            "\n",
            "replace(self, old, new, count=-1, /)\n",
            "    Return a copy with all occurrences of substring old replaced by new.\n",
            "    \n",
            "      count\n",
            "        Maximum number of occurrences to replace.\n",
            "        -1 (the default value) means replace all occurrences.\n",
            "    \n",
            "    If the optional argument count is given, only the first count occurrences are\n",
            "    replaced.\n",
            "\n"
          ]
        }
      ],
      "source": [
        "help(str.replace)"
      ]
    },
    {
      "cell_type": "code",
      "execution_count": null,
      "id": "46a7119f-1ada-4fa9-9894-08eb9a776b4f",
      "metadata": {
        "id": "46a7119f-1ada-4fa9-9894-08eb9a776b4f",
        "outputId": "a0b32850-b228-4173-a32f-759d89896bc7"
      },
      "outputs": [
        {
          "data": {
            "text/plain": [
              "'xyzdefg'"
            ]
          },
          "execution_count": 123,
          "metadata": {},
          "output_type": "execute_result"
        }
      ],
      "source": [
        "'abcdefg'.replace('abc', 'xyz')"
      ]
    },
    {
      "cell_type": "code",
      "execution_count": null,
      "id": "2052acb8-676a-4f84-a167-48c0e6d62e09",
      "metadata": {
        "id": "2052acb8-676a-4f84-a167-48c0e6d62e09",
        "outputId": "a31c4db4-aaf8-469e-e5da-24af786e2030"
      },
      "outputs": [
        {
          "ename": "TypeError",
          "evalue": "str.replace() takes no keyword arguments",
          "output_type": "error",
          "traceback": [
            "\u001b[1;31m---------------------------------------------------------------------------\u001b[0m",
            "\u001b[1;31mTypeError\u001b[0m                                 Traceback (most recent call last)",
            "Input \u001b[1;32mIn [124]\u001b[0m, in \u001b[0;36m<cell line: 1>\u001b[1;34m()\u001b[0m\n\u001b[1;32m----> 1\u001b[0m \u001b[38;5;124;43m'\u001b[39;49m\u001b[38;5;124;43mabcdefg\u001b[39;49m\u001b[38;5;124;43m'\u001b[39;49m\u001b[38;5;241;43m.\u001b[39;49m\u001b[43mreplace\u001b[49m\u001b[43m(\u001b[49m\u001b[43mold\u001b[49m\u001b[38;5;241;43m=\u001b[39;49m\u001b[38;5;124;43m'\u001b[39;49m\u001b[38;5;124;43mabc\u001b[39;49m\u001b[38;5;124;43m'\u001b[39;49m\u001b[43m,\u001b[49m\u001b[43m \u001b[49m\u001b[43mnew\u001b[49m\u001b[38;5;241;43m=\u001b[39;49m\u001b[38;5;124;43m'\u001b[39;49m\u001b[38;5;124;43mxyz\u001b[39;49m\u001b[38;5;124;43m'\u001b[39;49m\u001b[43m)\u001b[49m\n",
            "\u001b[1;31mTypeError\u001b[0m: str.replace() takes no keyword arguments"
          ]
        }
      ],
      "source": [
        "'abcdefg'.replace(old='abc', new='xyz')"
      ]
    },
    {
      "cell_type": "markdown",
      "id": "604fa835-1545-4d5f-aed9-e28128c5ac1d",
      "metadata": {
        "id": "604fa835-1545-4d5f-aed9-e28128c5ac1d"
      },
      "source": [
        "### 06 - Callables"
      ]
    },
    {
      "cell_type": "markdown",
      "id": "6af44791-27b0-4d78-9e95-49dcc97d75fc",
      "metadata": {
        "id": "6af44791-27b0-4d78-9e95-49dcc97d75fc"
      },
      "source": [
        "A callable is an object that can be called (using the `()` operator), and always returns a value.\n",
        "\n",
        "We can check if an object is callable by using the built-in function `callable`"
      ]
    },
    {
      "cell_type": "markdown",
      "id": "c7b926c1-d4e8-4685-8ce3-7149404bf09d",
      "metadata": {
        "id": "c7b926c1-d4e8-4685-8ce3-7149404bf09d"
      },
      "source": [
        "**Functions and Methods are callable**"
      ]
    },
    {
      "cell_type": "code",
      "execution_count": null,
      "id": "f88cbe22-39a5-4ae9-b27a-c51ebe024d21",
      "metadata": {
        "id": "f88cbe22-39a5-4ae9-b27a-c51ebe024d21",
        "outputId": "7b7ba479-419e-4c2a-f2da-101001ec04b6"
      },
      "outputs": [
        {
          "data": {
            "text/plain": [
              "True"
            ]
          },
          "execution_count": 125,
          "metadata": {},
          "output_type": "execute_result"
        }
      ],
      "source": [
        "callable(print)"
      ]
    },
    {
      "cell_type": "code",
      "execution_count": null,
      "id": "5265b53b-c55b-48d2-8c57-548415d77978",
      "metadata": {
        "id": "5265b53b-c55b-48d2-8c57-548415d77978",
        "outputId": "fb863c60-9684-4c29-ed3d-ab194b49e995"
      },
      "outputs": [
        {
          "data": {
            "text/plain": [
              "True"
            ]
          },
          "execution_count": 126,
          "metadata": {},
          "output_type": "execute_result"
        }
      ],
      "source": [
        "callable(len)"
      ]
    },
    {
      "cell_type": "code",
      "execution_count": null,
      "id": "639f69c2-42a1-4fe5-a964-9415a058eab5",
      "metadata": {
        "id": "639f69c2-42a1-4fe5-a964-9415a058eab5",
        "outputId": "88373b85-c4b0-4c42-ecf1-60865b27cbb4"
      },
      "outputs": [
        {
          "data": {
            "text/plain": [
              "[True,\n",
              " True,\n",
              " True,\n",
              " True,\n",
              " True,\n",
              " True,\n",
              " True,\n",
              " True,\n",
              " True,\n",
              " True,\n",
              " True,\n",
              " True,\n",
              " True,\n",
              " True,\n",
              " True]"
            ]
          },
          "execution_count": 127,
          "metadata": {},
          "output_type": "execute_result"
        }
      ],
      "source": [
        "from decimal import Decimal\n",
        "from fractions import Fraction\n",
        "[callable(list), callable(bytearray), callable(set), callable(dict),\n",
        "callable(bool), callable(int), callable(float), callable(complex),\n",
        "callable(tuple), callable(bytes), callable(frozenset), callable(Decimal),\n",
        "callable(Fraction), callable(range), callable(str)\n",
        "]"
      ]
    },
    {
      "cell_type": "code",
      "execution_count": null,
      "id": "81d30ab3-8c16-4cc6-8c95-db3a62fcc29a",
      "metadata": {
        "id": "81d30ab3-8c16-4cc6-8c95-db3a62fcc29a",
        "outputId": "54bef8ce-9a86-4a06-930e-b5c0fe4e9f1c"
      },
      "outputs": [
        {
          "data": {
            "text/plain": [
              "True"
            ]
          },
          "execution_count": 128,
          "metadata": {},
          "output_type": "execute_result"
        }
      ],
      "source": [
        "l = [1, 2, 3]\n",
        "callable(l.append)"
      ]
    },
    {
      "cell_type": "code",
      "execution_count": null,
      "id": "f0fb229a-d41f-4214-8c5d-51014cf9f036",
      "metadata": {
        "id": "f0fb229a-d41f-4214-8c5d-51014cf9f036"
      },
      "outputs": [],
      "source": [
        "s = 'abc'"
      ]
    },
    {
      "cell_type": "markdown",
      "id": "637f191f-8515-4f99-8b71-f6455c7938d0",
      "metadata": {
        "id": "637f191f-8515-4f99-8b71-f6455c7938d0"
      },
      "source": [
        "Callables always return a value:"
      ]
    },
    {
      "cell_type": "code",
      "execution_count": null,
      "id": "b96c24d2-ea25-4e3d-82c7-4db0c98b0e48",
      "metadata": {
        "id": "b96c24d2-ea25-4e3d-82c7-4db0c98b0e48",
        "outputId": "e38a5d6c-21c1-4f99-f772-9ee54f87e155"
      },
      "outputs": [
        {
          "name": "stdout",
          "output_type": "stream",
          "text": [
            "hello\n",
            "None\n"
          ]
        }
      ],
      "source": [
        "result = print('hello')\n",
        "print(result)"
      ]
    },
    {
      "cell_type": "code",
      "execution_count": null,
      "id": "bb08fafd-73b7-4baa-921f-e3da991d10b7",
      "metadata": {
        "id": "bb08fafd-73b7-4baa-921f-e3da991d10b7",
        "outputId": "097fce80-400f-4315-b5c4-51ef2f0e6419"
      },
      "outputs": [
        {
          "name": "stdout",
          "output_type": "stream",
          "text": [
            "ABC\n"
          ]
        }
      ],
      "source": [
        "s = 'abc'\n",
        "result = s.upper()\n",
        "print(result)"
      ]
    },
    {
      "cell_type": "markdown",
      "id": "e68b6099-d6db-4e2c-a870-2e0528bf5cd3",
      "metadata": {
        "id": "e68b6099-d6db-4e2c-a870-2e0528bf5cd3"
      },
      "source": [
        "**Classes are callable:**"
      ]
    },
    {
      "cell_type": "code",
      "execution_count": null,
      "id": "0d8afc8c-781d-4f2c-9ab8-4df0e7de4ce1",
      "metadata": {
        "id": "0d8afc8c-781d-4f2c-9ab8-4df0e7de4ce1"
      },
      "outputs": [],
      "source": [
        "from decimal import Decimal"
      ]
    },
    {
      "cell_type": "code",
      "execution_count": null,
      "id": "ce1b3eac-7ab3-4120-bd04-ebbc7bedc261",
      "metadata": {
        "id": "ce1b3eac-7ab3-4120-bd04-ebbc7bedc261",
        "outputId": "6491fe11-f85d-40d7-cb78-810854ef4a59"
      },
      "outputs": [
        {
          "data": {
            "text/plain": [
              "True"
            ]
          },
          "execution_count": 135,
          "metadata": {},
          "output_type": "execute_result"
        }
      ],
      "source": [
        "callable(Decimal)"
      ]
    },
    {
      "cell_type": "code",
      "execution_count": null,
      "id": "ab2d5d06-efa1-4d63-8d88-1627963ef7a3",
      "metadata": {
        "id": "ab2d5d06-efa1-4d63-8d88-1627963ef7a3",
        "outputId": "81d91e2d-b08e-45f4-c3d2-d53639ae33d5"
      },
      "outputs": [
        {
          "name": "stdout",
          "output_type": "stream",
          "text": [
            "10.5\n"
          ]
        }
      ],
      "source": [
        "result = Decimal('10.5')\n",
        "print(result)"
      ]
    },
    {
      "cell_type": "markdown",
      "id": "1a0c41b6-3ead-48dd-951a-292205d09711",
      "metadata": {
        "id": "1a0c41b6-3ead-48dd-951a-292205d09711"
      },
      "source": [
        "**Class instances may be callable:**"
      ]
    },
    {
      "cell_type": "code",
      "execution_count": null,
      "id": "7b1d3117-e268-43b6-b2ad-e45065cc1443",
      "metadata": {
        "id": "7b1d3117-e268-43b6-b2ad-e45065cc1443"
      },
      "outputs": [],
      "source": [
        "class MyClass:\n",
        "    def __init__(self):\n",
        "        print('initializing...')\n",
        "        self.counter = 0\n",
        "\n",
        "    def __call__(self, x=1):\n",
        "        self.counter += x\n",
        "        print(self.counter)"
      ]
    },
    {
      "cell_type": "code",
      "execution_count": null,
      "id": "89b796c2-6bdc-4a82-9747-ffdae11f0b4d",
      "metadata": {
        "id": "89b796c2-6bdc-4a82-9747-ffdae11f0b4d",
        "outputId": "ac6e92cf-c156-4ebc-e151-6439f6d8c4cc"
      },
      "outputs": [
        {
          "name": "stdout",
          "output_type": "stream",
          "text": [
            "initializing...\n"
          ]
        }
      ],
      "source": [
        "my_obj = MyClass()"
      ]
    },
    {
      "cell_type": "code",
      "execution_count": null,
      "id": "512ebc5c-c672-47a5-b35e-475f58d81001",
      "metadata": {
        "id": "512ebc5c-c672-47a5-b35e-475f58d81001",
        "outputId": "f72d4d47-dc7c-4f77-a1dc-a7b9fec3c75d"
      },
      "outputs": [
        {
          "data": {
            "text/plain": [
              "True"
            ]
          },
          "execution_count": 139,
          "metadata": {},
          "output_type": "execute_result"
        }
      ],
      "source": [
        "callable(my_obj.__init__)"
      ]
    },
    {
      "cell_type": "code",
      "execution_count": null,
      "id": "2c3a7828-0904-4fea-b44d-e3ca83daa1b3",
      "metadata": {
        "id": "2c3a7828-0904-4fea-b44d-e3ca83daa1b3",
        "outputId": "3d523e2b-0387-4c14-edaa-b4dcbda3383b"
      },
      "outputs": [
        {
          "data": {
            "text/plain": [
              "True"
            ]
          },
          "execution_count": 140,
          "metadata": {},
          "output_type": "execute_result"
        }
      ],
      "source": [
        "callable(my_obj.__call__)"
      ]
    },
    {
      "cell_type": "code",
      "execution_count": null,
      "id": "11da5713-0252-4197-9512-354ae191d449",
      "metadata": {
        "id": "11da5713-0252-4197-9512-354ae191d449",
        "outputId": "f6f4e1d6-e16b-4956-f723-7e5c49926abd"
      },
      "outputs": [
        {
          "name": "stdout",
          "output_type": "stream",
          "text": [
            "1\n"
          ]
        }
      ],
      "source": [
        "my_obj()"
      ]
    },
    {
      "cell_type": "code",
      "execution_count": null,
      "id": "91dd0873-e17d-4791-818e-73e390abb603",
      "metadata": {
        "id": "91dd0873-e17d-4791-818e-73e390abb603",
        "outputId": "d496308e-24e5-4a56-f4ea-3524992a4867"
      },
      "outputs": [
        {
          "name": "stdout",
          "output_type": "stream",
          "text": [
            "2\n"
          ]
        }
      ],
      "source": [
        "my_obj()"
      ]
    },
    {
      "cell_type": "code",
      "execution_count": null,
      "id": "b55b74e2-1f74-4fd0-be82-d0e2949f55a0",
      "metadata": {
        "id": "b55b74e2-1f74-4fd0-be82-d0e2949f55a0",
        "outputId": "cad1d227-b509-429f-ee2b-5c313a9f9665"
      },
      "outputs": [
        {
          "name": "stdout",
          "output_type": "stream",
          "text": [
            "12\n"
          ]
        }
      ],
      "source": [
        "my_obj(10)"
      ]
    },
    {
      "cell_type": "code",
      "execution_count": null,
      "id": "148262da-2dba-41b3-845f-fb1e8404ab55",
      "metadata": {
        "id": "148262da-2dba-41b3-845f-fb1e8404ab55",
        "outputId": "63901e3e-73df-4d83-ce9b-077f99ee9ef9"
      },
      "outputs": [
        {
          "data": {
            "text/plain": [
              "True"
            ]
          },
          "execution_count": 144,
          "metadata": {},
          "output_type": "execute_result"
        }
      ],
      "source": [
        "callable(my_obj)"
      ]
    },
    {
      "cell_type": "markdown",
      "id": "afb4fb7d-94e0-4b3a-aa76-1b2a24e8c0a1",
      "metadata": {
        "id": "afb4fb7d-94e0-4b3a-aa76-1b2a24e8c0a1"
      },
      "source": [
        "### 07 - Map, Fiter, Zip and List Comprehensions"
      ]
    },
    {
      "cell_type": "markdown",
      "id": "1c4453dc-19f7-486a-8fc6-0fc2ff768754",
      "metadata": {
        "id": "1c4453dc-19f7-486a-8fc6-0fc2ff768754"
      },
      "source": [
        "**Higher - Order Functions: Map and Filter**"
      ]
    },
    {
      "cell_type": "markdown",
      "id": "ebb6a2c3-565b-48c4-bab2-df2499c3a7bc",
      "metadata": {
        "id": "ebb6a2c3-565b-48c4-bab2-df2499c3a7bc"
      },
      "source": [
        "**Definition: ** A function that takes a function as an argument, and/or returns a function as its return value.\n",
        "\n",
        "For example, the `sorted` function is a higher-order function as we saw in an earlier video."
      ]
    },
    {
      "cell_type": "markdown",
      "id": "973065b6-a1e0-45d1-a6dd-198e251979a0",
      "metadata": {
        "id": "973065b6-a1e0-45d1-a6dd-198e251979a0"
      },
      "source": [
        "**Map**"
      ]
    },
    {
      "cell_type": "markdown",
      "id": "9f2b5af2-cc8c-4770-92e6-28df91c8e5bb",
      "metadata": {
        "id": "9f2b5af2-cc8c-4770-92e6-28df91c8e5bb"
      },
      "source": [
        "The `map` built-in function is a higher-order function that applies a function to an iterable type object:"
      ]
    },
    {
      "cell_type": "code",
      "execution_count": null,
      "id": "23ea95c1-0773-4127-8cd7-949b6eed405a",
      "metadata": {
        "id": "23ea95c1-0773-4127-8cd7-949b6eed405a",
        "outputId": "7d80f00b-7cf9-400e-ca99-1db0b0669846"
      },
      "outputs": [
        {
          "name": "stdout",
          "output_type": "stream",
          "text": [
            "Help on class map in module builtins:\n",
            "\n",
            "class map(object)\n",
            " |  map(func, *iterables) --> map object\n",
            " |  \n",
            " |  Make an iterator that computes the function using arguments from\n",
            " |  each of the iterables.  Stops when the shortest iterable is exhausted.\n",
            " |  \n",
            " |  Methods defined here:\n",
            " |  \n",
            " |  __getattribute__(self, name, /)\n",
            " |      Return getattr(self, name).\n",
            " |  \n",
            " |  __iter__(self, /)\n",
            " |      Implement iter(self).\n",
            " |  \n",
            " |  __next__(self, /)\n",
            " |      Implement next(self).\n",
            " |  \n",
            " |  __reduce__(...)\n",
            " |      Return state information for pickling.\n",
            " |  \n",
            " |  ----------------------------------------------------------------------\n",
            " |  Static methods defined here:\n",
            " |  \n",
            " |  __new__(*args, **kwargs) from builtins.type\n",
            " |      Create and return a new object.  See help(type) for accurate signature.\n",
            "\n"
          ]
        }
      ],
      "source": [
        "help(map)"
      ]
    },
    {
      "cell_type": "code",
      "execution_count": null,
      "id": "47566c2a-a8ef-4e1d-a9a2-9bed2085687d",
      "metadata": {
        "id": "47566c2a-a8ef-4e1d-a9a2-9bed2085687d"
      },
      "outputs": [],
      "source": [
        "def fact(n):\n",
        "    return 1 if n < 2 else n * fact(n-1)"
      ]
    },
    {
      "cell_type": "code",
      "execution_count": null,
      "id": "0734af31-8d70-4d2a-ba28-baf19cc9dcbe",
      "metadata": {
        "id": "0734af31-8d70-4d2a-ba28-baf19cc9dcbe",
        "outputId": "a8f9ae9d-c802-4239-d79e-4d159f118858"
      },
      "outputs": [
        {
          "data": {
            "text/plain": [
              "6"
            ]
          },
          "execution_count": 147,
          "metadata": {},
          "output_type": "execute_result"
        }
      ],
      "source": [
        "fact(3)"
      ]
    },
    {
      "cell_type": "code",
      "execution_count": null,
      "id": "97f484ca-77a2-4593-aff1-c1de2c3f826c",
      "metadata": {
        "id": "97f484ca-77a2-4593-aff1-c1de2c3f826c",
        "outputId": "2c3ca1aa-3643-43ce-be4c-55a3ce642af4"
      },
      "outputs": [
        {
          "data": {
            "text/plain": [
              "24"
            ]
          },
          "execution_count": 148,
          "metadata": {},
          "output_type": "execute_result"
        }
      ],
      "source": [
        "fact(4)"
      ]
    },
    {
      "cell_type": "code",
      "execution_count": null,
      "id": "ed9bd7ec-6ee4-4b53-9454-7a9ae0305ed8",
      "metadata": {
        "id": "ed9bd7ec-6ee4-4b53-9454-7a9ae0305ed8",
        "outputId": "8c45cd13-76e2-47ac-b814-eba2bbeac306"
      },
      "outputs": [
        {
          "data": {
            "text/plain": [
              "<map at 0x1760d4a8130>"
            ]
          },
          "execution_count": 149,
          "metadata": {},
          "output_type": "execute_result"
        }
      ],
      "source": [
        "map(fact, [1, 2, 3, 4, 5])"
      ]
    },
    {
      "cell_type": "markdown",
      "id": "fe1bf168-3854-4e19-83f8-b984c55291c2",
      "metadata": {
        "id": "fe1bf168-3854-4e19-83f8-b984c55291c2"
      },
      "source": [
        "The `map` function returns a `map` object, which is an iterable - we can either convert that to a list or enumerate it:"
      ]
    },
    {
      "cell_type": "code",
      "execution_count": null,
      "id": "7ffc0987-8fdb-47c6-b8fc-3a420fb10532",
      "metadata": {
        "id": "7ffc0987-8fdb-47c6-b8fc-3a420fb10532"
      },
      "outputs": [],
      "source": [
        "l = list(map(fact, [1, 2, 3, 4, 5]))"
      ]
    },
    {
      "cell_type": "markdown",
      "id": "95a44ea2-6204-40fe-a4b0-c7e5e7447f5b",
      "metadata": {
        "id": "95a44ea2-6204-40fe-a4b0-c7e5e7447f5b"
      },
      "source": [
        "We can also use it this way:"
      ]
    },
    {
      "cell_type": "code",
      "execution_count": null,
      "id": "d5e5f98a-31b6-4f01-b413-1f51309f8741",
      "metadata": {
        "id": "d5e5f98a-31b6-4f01-b413-1f51309f8741",
        "outputId": "f6c4f4ef-d2f4-47af-e0cc-125ea84b6d65"
      },
      "outputs": [
        {
          "data": {
            "text/plain": [
              "[11, 22, 33, 44, 55]"
            ]
          },
          "execution_count": 151,
          "metadata": {},
          "output_type": "execute_result"
        }
      ],
      "source": [
        "l1 = [1, 2, 3, 4, 5]\n",
        "l2 = [10, 20, 30, 40, 50]\n",
        "\n",
        "f = lambda x, y: x+y\n",
        "\n",
        "m = map(f, l1, l2)\n",
        "list(m)"
      ]
    },
    {
      "cell_type": "markdown",
      "id": "de9e06e6-1563-445b-8a4f-1d4510ae8d72",
      "metadata": {
        "id": "de9e06e6-1563-445b-8a4f-1d4510ae8d72"
      },
      "source": [
        "**Filter**"
      ]
    },
    {
      "cell_type": "code",
      "execution_count": null,
      "id": "3013843f-161b-46e6-9f97-494cb7026358",
      "metadata": {
        "id": "3013843f-161b-46e6-9f97-494cb7026358",
        "outputId": "52157683-ad2a-4f0b-df7c-4b63fc8dfbc8"
      },
      "outputs": [
        {
          "name": "stdout",
          "output_type": "stream",
          "text": [
            "Help on class filter in module builtins:\n",
            "\n",
            "class filter(object)\n",
            " |  filter(function or None, iterable) --> filter object\n",
            " |  \n",
            " |  Return an iterator yielding those items of iterable for which function(item)\n",
            " |  is true. If function is None, return the items that are true.\n",
            " |  \n",
            " |  Methods defined here:\n",
            " |  \n",
            " |  __getattribute__(self, name, /)\n",
            " |      Return getattr(self, name).\n",
            " |  \n",
            " |  __iter__(self, /)\n",
            " |      Implement iter(self).\n",
            " |  \n",
            " |  __next__(self, /)\n",
            " |      Implement next(self).\n",
            " |  \n",
            " |  __reduce__(...)\n",
            " |      Return state information for pickling.\n",
            " |  \n",
            " |  ----------------------------------------------------------------------\n",
            " |  Static methods defined here:\n",
            " |  \n",
            " |  __new__(*args, **kwargs) from builtins.type\n",
            " |      Create and return a new object.  See help(type) for accurate signature.\n",
            "\n"
          ]
        }
      ],
      "source": [
        "help(filter)"
      ]
    },
    {
      "cell_type": "markdown",
      "id": "75ba9acc-5ffc-497e-8453-62707e4b2459",
      "metadata": {
        "id": "75ba9acc-5ffc-497e-8453-62707e4b2459"
      },
      "source": [
        "The `filter` function is a function that filters an iterable based on the truthyness of the elements, or the truthyness of the elements after applying a function to them. Like the `map` function, the `filter` function returns an iterable that we can view by generating a list from it, or simply enumerating in a for loop."
      ]
    },
    {
      "cell_type": "code",
      "execution_count": null,
      "id": "21bdecbc-b299-4614-8206-18441ef06123",
      "metadata": {
        "id": "21bdecbc-b299-4614-8206-18441ef06123",
        "outputId": "c86346b8-3327-452b-84b5-7f9215f4e354"
      },
      "outputs": [
        {
          "name": "stdout",
          "output_type": "stream",
          "text": [
            "1\n",
            "2\n",
            "3\n",
            "4\n",
            "5\n",
            "6\n"
          ]
        }
      ],
      "source": [
        "l = [0, 1, 2, 3, 4, 5, 6]\n",
        "for e in filter(None, l):\n",
        "    print(e)"
      ]
    },
    {
      "cell_type": "markdown",
      "id": "efff3f40-362c-487c-99dc-a9efd608b0a5",
      "metadata": {
        "id": "efff3f40-362c-487c-99dc-a9efd608b0a5"
      },
      "source": [
        "Notice how `0` was eliminated from the list, since `0` is `falsy`.\n",
        "\n",
        "We can use a function for this filtering.\n",
        "\n",
        "Suppose we want to filter our all odd values, only retaining even values:\n",
        "\n",
        "We could first define a function to return True if the value is even, and False otherwise:"
      ]
    },
    {
      "cell_type": "code",
      "execution_count": null,
      "id": "beb90cde-1986-4510-877d-a65dabfce406",
      "metadata": {
        "id": "beb90cde-1986-4510-877d-a65dabfce406"
      },
      "outputs": [],
      "source": [
        "def is_even(n):\n",
        "    return n % 2 == 0"
      ]
    },
    {
      "cell_type": "code",
      "execution_count": null,
      "id": "f6eb5607-6b8f-406e-9771-1ca3c35c9bfe",
      "metadata": {
        "id": "f6eb5607-6b8f-406e-9771-1ca3c35c9bfe",
        "outputId": "b04476af-45af-4003-e7cd-75b43e657fdd"
      },
      "outputs": [
        {
          "name": "stdout",
          "output_type": "stream",
          "text": [
            "[2, 4, 6, 8]\n"
          ]
        }
      ],
      "source": [
        "l = [1, 2, 3, 4, 5, 6, 7, 8, 9]\n",
        "result = filter(is_even, l)\n",
        "print(list(result))"
      ]
    },
    {
      "cell_type": "markdown",
      "id": "d987d315-8b9f-472a-bf87-f0263abbf146",
      "metadata": {
        "id": "d987d315-8b9f-472a-bf87-f0263abbf146"
      },
      "source": [
        "Of course, we could just use a lambda expression instead:"
      ]
    },
    {
      "cell_type": "code",
      "execution_count": null,
      "id": "d10bdc73-c598-4607-91d5-804151abfd4f",
      "metadata": {
        "id": "d10bdc73-c598-4607-91d5-804151abfd4f",
        "outputId": "28607449-c65c-4b0c-f36c-7c1bf1ce0c9a"
      },
      "outputs": [
        {
          "name": "stdout",
          "output_type": "stream",
          "text": [
            "[2, 4, 6, 8]\n"
          ]
        }
      ],
      "source": [
        "l = [1, 2, 3, 4, 5, 6, 7, 8, 9]\n",
        "result = filter(lambda x: x % 2 == 0, l)\n",
        "print(list(result))"
      ]
    },
    {
      "cell_type": "markdown",
      "id": "1e8cf3c0-2603-45dd-80a4-a8a4905eb0db",
      "metadata": {
        "id": "1e8cf3c0-2603-45dd-80a4-a8a4905eb0db"
      },
      "source": [
        "**Alternatives to `map` and `filter` using Comprehensions**"
      ]
    },
    {
      "cell_type": "markdown",
      "id": "db6dfefb-5790-4474-9682-fa9d96dad366",
      "metadata": {
        "id": "db6dfefb-5790-4474-9682-fa9d96dad366"
      },
      "source": [
        "We'll cover comprehensions in much more detail later, but, for now, just be aware that we can use comprehensions instead of the `map` and `filter` functions - you decide which one you find more readable and enjoyable to write."
      ]
    },
    {
      "cell_type": "markdown",
      "id": "a26c047e-55a6-4759-b768-18b643daec19",
      "metadata": {
        "id": "a26c047e-55a6-4759-b768-18b643daec19"
      },
      "source": [
        "**Map using a list comprehension:**"
      ]
    },
    {
      "cell_type": "markdown",
      "id": "998802c1-ee7e-4ef1-9d54-4e1c085e66f3",
      "metadata": {
        "id": "998802c1-ee7e-4ef1-9d54-4e1c085e66f3"
      },
      "source": [
        "- factorial example"
      ]
    },
    {
      "cell_type": "code",
      "execution_count": null,
      "id": "fc17b640-def1-46f2-b9ae-76ac1d18b935",
      "metadata": {
        "id": "fc17b640-def1-46f2-b9ae-76ac1d18b935",
        "outputId": "0cb5224a-1b29-4be8-855b-f6dc2a4d5c0f"
      },
      "outputs": [
        {
          "name": "stdout",
          "output_type": "stream",
          "text": [
            "[1, 2, 6, 24, 120]\n"
          ]
        }
      ],
      "source": [
        "l = [1, 2, 3, 4, 5]\n",
        "result = [fact(i) for i in l]\n",
        "print(result)"
      ]
    },
    {
      "cell_type": "markdown",
      "id": "6593b082-2edd-4d31-be0e-d2e21c14a05c",
      "metadata": {
        "id": "6593b082-2edd-4d31-be0e-d2e21c14a05c"
      },
      "source": [
        "- two iterables example"
      ]
    },
    {
      "cell_type": "markdown",
      "id": "c73a5047-5bbf-468d-8591-96d1dfa1ba02",
      "metadata": {
        "id": "c73a5047-5bbf-468d-8591-96d1dfa1ba02"
      },
      "source": [
        "Before we do this example we need to know about the `zip` function."
      ]
    },
    {
      "cell_type": "markdown",
      "id": "3914589c-0964-4361-8fcc-f5dcdcfeb4d6",
      "metadata": {
        "id": "3914589c-0964-4361-8fcc-f5dcdcfeb4d6"
      },
      "source": [
        "The `zip` built-in function will take one or more iterables, and generate an iterable of tuples where each tuple contains one element from each iterable:"
      ]
    },
    {
      "cell_type": "code",
      "execution_count": null,
      "id": "239aa720-885b-4569-b934-59ba45d461aa",
      "metadata": {
        "id": "239aa720-885b-4569-b934-59ba45d461aa",
        "outputId": "9fe730f4-a0ef-4e52-b9cf-0da6e5cbdcb1"
      },
      "outputs": [
        {
          "data": {
            "text/plain": [
              "[(1, 'a'), (2, 'b'), (3, 'c')]"
            ]
          },
          "execution_count": 159,
          "metadata": {},
          "output_type": "execute_result"
        }
      ],
      "source": [
        "l1 = 1, 2 ,3\n",
        "l2 = 'a', 'b', 'c'\n",
        "list(zip(l1, l2))"
      ]
    },
    {
      "cell_type": "code",
      "execution_count": null,
      "id": "f2830c88-ad52-40c7-bad3-e21cc611f6fd",
      "metadata": {
        "id": "f2830c88-ad52-40c7-bad3-e21cc611f6fd",
        "outputId": "12f781a2-c90c-4567-cd72-163cd13b2abc"
      },
      "outputs": [
        {
          "data": {
            "text/plain": [
              "[(1, 10, 'a'), (2, 20, 'b'), (3, 30, 'c')]"
            ]
          },
          "execution_count": 160,
          "metadata": {},
          "output_type": "execute_result"
        }
      ],
      "source": [
        "l1 = 1, 2, 3\n",
        "l2 = [10, 20, 30]\n",
        "l3 = ('a', 'b', 'c')\n",
        "list(zip(l1, l2, l3))"
      ]
    },
    {
      "cell_type": "code",
      "execution_count": null,
      "id": "604897e8-0d63-49eb-af07-fa04ecc11699",
      "metadata": {
        "id": "604897e8-0d63-49eb-af07-fa04ecc11699",
        "outputId": "7c1fc4ff-076f-46dd-c34a-b0fdd572d6be"
      },
      "outputs": [
        {
          "data": {
            "text/plain": [
              "[(1, 10, 'a'), (2, 20, 'b'), (3, 30, 'c')]"
            ]
          },
          "execution_count": 161,
          "metadata": {},
          "output_type": "execute_result"
        }
      ],
      "source": [
        "l1 = [1, 2, 3]\n",
        "l2 = (10, 20, 30)\n",
        "l3 = 'abc'\n",
        "list(zip(l1, l2, l3))"
      ]
    },
    {
      "cell_type": "code",
      "execution_count": null,
      "id": "1fa2304e-6b8c-4ebe-8a3d-c9aa2b4337a8",
      "metadata": {
        "id": "1fa2304e-6b8c-4ebe-8a3d-c9aa2b4337a8",
        "outputId": "3942949f-8720-4667-f2d2-b00f33444dcd"
      },
      "outputs": [
        {
          "data": {
            "text/plain": [
              "[(0, 'p'), (1, 'y'), (2, 't'), (3, 'h'), (4, 'o'), (5, 'n')]"
            ]
          },
          "execution_count": 162,
          "metadata": {},
          "output_type": "execute_result"
        }
      ],
      "source": [
        "l1 = range(100)\n",
        "l2 = 'python'\n",
        "list(zip(l1, l2))"
      ]
    },
    {
      "cell_type": "markdown",
      "id": "d0b6bddc-639c-4bab-b944-9110d13f2e28",
      "metadata": {
        "id": "d0b6bddc-639c-4bab-b944-9110d13f2e28"
      },
      "source": [
        "Using the `zip` function we can now add our two lists element by element as follows:"
      ]
    },
    {
      "cell_type": "markdown",
      "id": "27e80172-18e5-48c3-bb7d-4ea8230e6cb4",
      "metadata": {
        "id": "27e80172-18e5-48c3-bb7d-4ea8230e6cb4"
      },
      "source": [
        "**Filtering using a comprehension**"
      ]
    },
    {
      "cell_type": "markdown",
      "id": "29da67c9-4c36-4352-ab82-184921c7be60",
      "metadata": {
        "id": "29da67c9-4c36-4352-ab82-184921c7be60"
      },
      "source": [
        "We can very easily filter an iterable using a comprehension as follows:"
      ]
    },
    {
      "cell_type": "code",
      "execution_count": null,
      "id": "4aa3ee95-2f1d-4a26-95fc-05e765125637",
      "metadata": {
        "id": "4aa3ee95-2f1d-4a26-95fc-05e765125637",
        "outputId": "8eda452f-1423-4c3e-c0fe-3f5c6ca080da"
      },
      "outputs": [
        {
          "name": "stdout",
          "output_type": "stream",
          "text": [
            "[2, 4, 6, 8]\n"
          ]
        }
      ],
      "source": [
        "l = [1, 2, 3, 4, 5, 6, 7, 8, 9]\n",
        "\n",
        "result = [i for i in l if i % 2 == 0]\n",
        "print(result)"
      ]
    },
    {
      "cell_type": "markdown",
      "id": "1efaa70a-d0ce-4e2d-90d7-bdfaa6fe5839",
      "metadata": {
        "id": "1efaa70a-d0ce-4e2d-90d7-bdfaa6fe5839"
      },
      "source": [
        "As you can see, we did not even need a lambda expression!"
      ]
    },
    {
      "cell_type": "markdown",
      "id": "cc47379f-c9cc-4690-b965-5c8a4f00a085",
      "metadata": {
        "id": "cc47379f-c9cc-4690-b965-5c8a4f00a085"
      },
      "source": [
        "**Combining `map` and `filter`**"
      ]
    },
    {
      "cell_type": "code",
      "execution_count": null,
      "id": "41ee9214-0eb8-4c97-914b-7835898a5683",
      "metadata": {
        "id": "41ee9214-0eb8-4c97-914b-7835898a5683",
        "outputId": "ec232bbd-36b5-46cd-c47f-ccc833a76269"
      },
      "outputs": [
        {
          "data": {
            "text/plain": [
              "[0, 1, 4, 9, 16]"
            ]
          },
          "execution_count": 164,
          "metadata": {},
          "output_type": "execute_result"
        }
      ],
      "source": [
        "list(filter(lambda y: y < 25, map(lambda x: x**2, range(10))))"
      ]
    },
    {
      "cell_type": "markdown",
      "id": "a00e88be-9e72-4fd1-ac8a-1c2cd79aba81",
      "metadata": {
        "id": "a00e88be-9e72-4fd1-ac8a-1c2cd79aba81"
      },
      "source": [
        "Alternatively, we can use a list comprehension to do the same thing:"
      ]
    },
    {
      "cell_type": "code",
      "execution_count": null,
      "id": "e1d8b600-6032-4538-a7a8-50962c8e5b8e",
      "metadata": {
        "id": "e1d8b600-6032-4538-a7a8-50962c8e5b8e",
        "outputId": "8462d19a-7b75-489e-cc2d-74c9bc71c254"
      },
      "outputs": [
        {
          "data": {
            "text/plain": [
              "[0, 1, 4, 9, 16]"
            ]
          },
          "execution_count": 165,
          "metadata": {},
          "output_type": "execute_result"
        }
      ],
      "source": [
        "[x**2 for x in range(10) if x**2 < 25]"
      ]
    },
    {
      "cell_type": "markdown",
      "id": "b08f9265-bab6-4eaa-94c9-3943a677fa03",
      "metadata": {
        "id": "b08f9265-bab6-4eaa-94c9-3943a677fa03"
      },
      "source": [
        "### 08 - Reducing Functions"
      ]
    },
    {
      "cell_type": "markdown",
      "id": "914ccdfa-dc99-4ead-b39e-2684ebe63a28",
      "metadata": {
        "id": "914ccdfa-dc99-4ead-b39e-2684ebe63a28"
      },
      "source": [
        "**Maximum and Minimum**"
      ]
    },
    {
      "cell_type": "markdown",
      "id": "0990f192-56ee-466f-b8f6-6155b93a605a",
      "metadata": {
        "id": "0990f192-56ee-466f-b8f6-6155b93a605a"
      },
      "source": [
        "Suppose we want to find the maximum value in a list:"
      ]
    },
    {
      "cell_type": "code",
      "execution_count": null,
      "id": "d7f204a6-2eda-4cee-9aae-62c5874b7afc",
      "metadata": {
        "id": "d7f204a6-2eda-4cee-9aae-62c5874b7afc"
      },
      "outputs": [],
      "source": [
        "l = [5, 8, 6, 10, 9]"
      ]
    },
    {
      "cell_type": "markdown",
      "id": "aadeaa6d-fb40-470e-9f6b-1d193a2241fe",
      "metadata": {
        "id": "aadeaa6d-fb40-470e-9f6b-1d193a2241fe"
      },
      "source": [
        "We can solve this problem using a `for` loop.\n",
        "\n",
        "First we define a function that returns the maximum of two arguments:"
      ]
    },
    {
      "cell_type": "code",
      "execution_count": null,
      "id": "77633506-a3f6-4ace-b96a-36347878b312",
      "metadata": {
        "id": "77633506-a3f6-4ace-b96a-36347878b312"
      },
      "outputs": [],
      "source": [
        "_max = lambda a, b: a if a > b else b"
      ]
    },
    {
      "cell_type": "code",
      "execution_count": null,
      "id": "16dd1106-8133-4cb8-836d-c18677c60f37",
      "metadata": {
        "id": "16dd1106-8133-4cb8-836d-c18677c60f37"
      },
      "outputs": [],
      "source": [
        "def max_sequence(sequence):\n",
        "    result = sequence[0]\n",
        "    for x in sequence[1:]:\n",
        "        result = _max(result, x)\n",
        "    return result"
      ]
    },
    {
      "cell_type": "code",
      "execution_count": null,
      "id": "9e1bd119-2378-4f78-a6b3-89d679a467ba",
      "metadata": {
        "id": "9e1bd119-2378-4f78-a6b3-89d679a467ba",
        "outputId": "435c20ca-cc64-4db1-83d6-ca22e02edbb8"
      },
      "outputs": [
        {
          "data": {
            "text/plain": [
              "10"
            ]
          },
          "execution_count": 169,
          "metadata": {},
          "output_type": "execute_result"
        }
      ],
      "source": [
        "max_sequence(l)"
      ]
    },
    {
      "cell_type": "markdown",
      "id": "13f96cff-235a-488a-a091-103c453982f5",
      "metadata": {
        "id": "13f96cff-235a-488a-a091-103c453982f5"
      },
      "source": [
        "To calculate the minimum, all we need to do is to change the function that is repeatedly applied:"
      ]
    },
    {
      "cell_type": "code",
      "execution_count": null,
      "id": "3071a4eb-5348-487d-8f91-f03767fb5a29",
      "metadata": {
        "id": "3071a4eb-5348-487d-8f91-f03767fb5a29"
      },
      "outputs": [],
      "source": [
        "_min = lambda a, b: a if a < b else b"
      ]
    },
    {
      "cell_type": "code",
      "execution_count": null,
      "id": "bc8627ea-1df9-4f63-bf68-1f79c8a038b9",
      "metadata": {
        "id": "bc8627ea-1df9-4f63-bf68-1f79c8a038b9"
      },
      "outputs": [],
      "source": [
        "def min_sequence(sequence):\n",
        "    result = sequence[0]\n",
        "    for x in sequence[1:]:\n",
        "        result = _min(result, x)\n",
        "    return result"
      ]
    },
    {
      "cell_type": "code",
      "execution_count": null,
      "id": "6bdb5c8f-5a69-4889-b749-ac6e80b60570",
      "metadata": {
        "id": "6bdb5c8f-5a69-4889-b749-ac6e80b60570",
        "outputId": "2b98e1ff-0752-40e5-a881-eaf988a596e1"
      },
      "outputs": [
        {
          "name": "stdout",
          "output_type": "stream",
          "text": [
            "[5, 8, 6, 10, 9]\n",
            "5\n"
          ]
        }
      ],
      "source": [
        "print(l)\n",
        "print(min_sequence(l))"
      ]
    },
    {
      "cell_type": "markdown",
      "id": "6d8bcc0c-bd9e-4de3-ab56-9748f65d5c72",
      "metadata": {
        "id": "6d8bcc0c-bd9e-4de3-ab56-9748f65d5c72"
      },
      "source": [
        "In general we could write it like this:"
      ]
    },
    {
      "cell_type": "code",
      "execution_count": null,
      "id": "e52367b3-e42c-4fee-902b-84fe825cf717",
      "metadata": {
        "id": "e52367b3-e42c-4fee-902b-84fe825cf717"
      },
      "outputs": [],
      "source": [
        "def _reduce(fn, sequence):\n",
        "    result = sequence[0]\n",
        "    for x in sequence[1:]:\n",
        "        result = fn(result, x)\n",
        "    return result"
      ]
    },
    {
      "cell_type": "code",
      "execution_count": null,
      "id": "d73dfd95-26a4-4831-9d3d-0ef3b3f3de56",
      "metadata": {
        "id": "d73dfd95-26a4-4831-9d3d-0ef3b3f3de56",
        "outputId": "21d15cc4-b6ed-4720-e7fb-9835e44ce50e"
      },
      "outputs": [
        {
          "data": {
            "text/plain": [
              "10"
            ]
          },
          "execution_count": 174,
          "metadata": {},
          "output_type": "execute_result"
        }
      ],
      "source": [
        "_reduce(_max, l)"
      ]
    },
    {
      "cell_type": "code",
      "execution_count": null,
      "id": "c1ebef51-5fcc-4483-b142-684090bf2434",
      "metadata": {
        "id": "c1ebef51-5fcc-4483-b142-684090bf2434",
        "outputId": "f895ab3a-fd23-490c-f692-9fd2eb957f09"
      },
      "outputs": [
        {
          "data": {
            "text/plain": [
              "5"
            ]
          },
          "execution_count": 175,
          "metadata": {},
          "output_type": "execute_result"
        }
      ],
      "source": [
        "_reduce(_min, l)"
      ]
    },
    {
      "cell_type": "markdown",
      "id": "7a6b5df2-6fd8-4007-b463-f9a696e2a1d9",
      "metadata": {
        "id": "7a6b5df2-6fd8-4007-b463-f9a696e2a1d9"
      },
      "source": [
        "We could even just use a lambda direcly in the call to `_reduce`:"
      ]
    },
    {
      "cell_type": "code",
      "execution_count": null,
      "id": "a867c433-f059-47fd-a10b-c6697a964d12",
      "metadata": {
        "id": "a867c433-f059-47fd-a10b-c6697a964d12",
        "outputId": "8c3790d5-7716-4f38-f677-eee5b877ce67"
      },
      "outputs": [
        {
          "data": {
            "text/plain": [
              "10"
            ]
          },
          "execution_count": 176,
          "metadata": {},
          "output_type": "execute_result"
        }
      ],
      "source": [
        "_reduce(lambda a, b: a if a > b else b, l)"
      ]
    },
    {
      "cell_type": "code",
      "execution_count": null,
      "id": "fd008ebf-2e91-42e7-b1e9-9805efa315aa",
      "metadata": {
        "id": "fd008ebf-2e91-42e7-b1e9-9805efa315aa",
        "outputId": "2ef37ded-a4ce-468a-847e-d59b061ba721"
      },
      "outputs": [
        {
          "data": {
            "text/plain": [
              "5"
            ]
          },
          "execution_count": 177,
          "metadata": {},
          "output_type": "execute_result"
        }
      ],
      "source": [
        "_reduce(lambda a, b: a if a < b else b, l)"
      ]
    },
    {
      "cell_type": "markdown",
      "id": "3967815d-8ddd-4ac9-aadd-d56266840721",
      "metadata": {
        "id": "3967815d-8ddd-4ac9-aadd-d56266840721"
      },
      "source": [
        "Using the same approach, we could even add all the elements of a sequence together:"
      ]
    },
    {
      "cell_type": "code",
      "execution_count": null,
      "id": "694eb2f4-9e89-4310-9299-6fd171878bfd",
      "metadata": {
        "id": "694eb2f4-9e89-4310-9299-6fd171878bfd",
        "outputId": "47a3d18e-a93a-46a9-a1a6-b67b656baba9"
      },
      "outputs": [
        {
          "name": "stdout",
          "output_type": "stream",
          "text": [
            "[5, 8, 6, 10, 9]\n"
          ]
        }
      ],
      "source": [
        "print(l)"
      ]
    },
    {
      "cell_type": "code",
      "execution_count": null,
      "id": "00a59166-1cb0-4f32-aceb-9690c081f66b",
      "metadata": {
        "id": "00a59166-1cb0-4f32-aceb-9690c081f66b",
        "outputId": "e2d91b1d-be48-4fd2-cea7-bc9e49c38fd2"
      },
      "outputs": [
        {
          "data": {
            "text/plain": [
              "38"
            ]
          },
          "execution_count": 179,
          "metadata": {},
          "output_type": "execute_result"
        }
      ],
      "source": [
        "_reduce(lambda a, b: a + b, l)"
      ]
    },
    {
      "cell_type": "markdown",
      "id": "73be2579-26ad-4de5-9df7-c10809e7c4c0",
      "metadata": {
        "id": "73be2579-26ad-4de5-9df7-c10809e7c4c0"
      },
      "source": [
        "Python actually implements a reduce function, which is found in the `functools` module. Unline our `_reduce` function, it can handle any iterable, not just sequences."
      ]
    },
    {
      "cell_type": "code",
      "execution_count": null,
      "id": "393b32c9-c898-4500-8db7-5375cd370267",
      "metadata": {
        "id": "393b32c9-c898-4500-8db7-5375cd370267"
      },
      "outputs": [],
      "source": [
        "from functools import reduce"
      ]
    },
    {
      "cell_type": "code",
      "execution_count": null,
      "id": "e1a2ac06-c758-4263-a1e8-c07cd439a956",
      "metadata": {
        "id": "e1a2ac06-c758-4263-a1e8-c07cd439a956",
        "outputId": "c292f26e-f9c3-43a9-899d-34912fe70fca"
      },
      "outputs": [
        {
          "data": {
            "text/plain": [
              "[5, 8, 6, 10, 9]"
            ]
          },
          "execution_count": 181,
          "metadata": {},
          "output_type": "execute_result"
        }
      ],
      "source": [
        "l"
      ]
    },
    {
      "cell_type": "code",
      "execution_count": null,
      "id": "605f1b0d-0b76-4cb7-b5e0-9946df31e068",
      "metadata": {
        "id": "605f1b0d-0b76-4cb7-b5e0-9946df31e068",
        "outputId": "5875d179-39cd-4c7a-ea3f-20f4df667d19"
      },
      "outputs": [
        {
          "data": {
            "text/plain": [
              "10"
            ]
          },
          "execution_count": 182,
          "metadata": {},
          "output_type": "execute_result"
        }
      ],
      "source": [
        "reduce(lambda a, b: a if a > b else b, l)"
      ]
    },
    {
      "cell_type": "code",
      "execution_count": null,
      "id": "81e71440-6c05-4337-ac99-7f04e846a7a5",
      "metadata": {
        "id": "81e71440-6c05-4337-ac99-7f04e846a7a5",
        "outputId": "c6ac3f91-e007-4122-9c6c-fd1c8254ea88"
      },
      "outputs": [
        {
          "data": {
            "text/plain": [
              "5"
            ]
          },
          "execution_count": 183,
          "metadata": {},
          "output_type": "execute_result"
        }
      ],
      "source": [
        "reduce(lambda a, b: a if a < b else b, l)"
      ]
    },
    {
      "cell_type": "code",
      "execution_count": null,
      "id": "a1bd4c89-8530-4f8b-87f0-38913d6b21e8",
      "metadata": {
        "id": "a1bd4c89-8530-4f8b-87f0-38913d6b21e8",
        "outputId": "9d490974-f5ed-49d4-cc16-700f14845afa"
      },
      "outputs": [
        {
          "data": {
            "text/plain": [
              "38"
            ]
          },
          "execution_count": 184,
          "metadata": {},
          "output_type": "execute_result"
        }
      ],
      "source": [
        "reduce(lambda a, b: a + b, l)"
      ]
    },
    {
      "cell_type": "markdown",
      "id": "896de1fb-9ff3-406c-95a5-4b01e81d312e",
      "metadata": {
        "id": "896de1fb-9ff3-406c-95a5-4b01e81d312e"
      },
      "source": [
        "Finding the max and min of an iterable is such a common thing that Python provides a built-in function to do just that:"
      ]
    },
    {
      "cell_type": "code",
      "execution_count": null,
      "id": "3ac10065-898e-48e6-ae3b-dfae932a3112",
      "metadata": {
        "id": "3ac10065-898e-48e6-ae3b-dfae932a3112",
        "outputId": "b1dbf8e9-1989-478c-a902-8136fb403ec5"
      },
      "outputs": [
        {
          "data": {
            "text/plain": [
              "(10, 5)"
            ]
          },
          "execution_count": 186,
          "metadata": {},
          "output_type": "execute_result"
        }
      ],
      "source": [
        "max(l), min(l)"
      ]
    },
    {
      "cell_type": "markdown",
      "id": "7bd8ed34-0ef2-4572-b19b-4adb213d5996",
      "metadata": {
        "id": "7bd8ed34-0ef2-4572-b19b-4adb213d5996"
      },
      "source": [
        "Finding the sum of all the elements in an iterable is also common enough that Python implements the `sum` function:"
      ]
    },
    {
      "cell_type": "code",
      "execution_count": null,
      "id": "3ce3b01e-5e73-4960-b852-0f461b3648d4",
      "metadata": {
        "id": "3ce3b01e-5e73-4960-b852-0f461b3648d4",
        "outputId": "3fc8625d-ff2c-4252-a3e9-dd9b21ebd2e1"
      },
      "outputs": [
        {
          "data": {
            "text/plain": [
              "38"
            ]
          },
          "execution_count": 187,
          "metadata": {},
          "output_type": "execute_result"
        }
      ],
      "source": [
        "sum(l)"
      ]
    },
    {
      "cell_type": "markdown",
      "id": "3e6b291b-fd27-4316-8fc9-60512c51bf4e",
      "metadata": {
        "id": "3e6b291b-fd27-4316-8fc9-60512c51bf4e"
      },
      "source": [
        "**The `any` and `all` built-ins**"
      ]
    },
    {
      "cell_type": "markdown",
      "id": "71d76a6e-e494-44df-acbf-ad9c394006bb",
      "metadata": {
        "id": "71d76a6e-e494-44df-acbf-ad9c394006bb"
      },
      "source": [
        "Python provides two additional built-in reducing functions: `any` and `all`\n",
        "\n",
        "The `any` function will return `True` if any element in the iterable is truthy:"
      ]
    },
    {
      "cell_type": "code",
      "execution_count": null,
      "id": "4d3f8a18-0a00-4187-bfee-5e6684569d9a",
      "metadata": {
        "id": "4d3f8a18-0a00-4187-bfee-5e6684569d9a",
        "outputId": "92d6d61b-9f3f-4d8f-b02a-48c9a3fadd8b"
      },
      "outputs": [
        {
          "data": {
            "text/plain": [
              "True"
            ]
          },
          "execution_count": 188,
          "metadata": {},
          "output_type": "execute_result"
        }
      ],
      "source": [
        "l = [0, 1, 2]\n",
        "any(l)"
      ]
    },
    {
      "cell_type": "code",
      "execution_count": null,
      "id": "bce0a549-6640-4d43-a5f2-8182fec93f63",
      "metadata": {
        "id": "bce0a549-6640-4d43-a5f2-8182fec93f63",
        "outputId": "a7313e4d-f7ac-4eda-e15f-54867bb30759"
      },
      "outputs": [
        {
          "data": {
            "text/plain": [
              "False"
            ]
          },
          "execution_count": 189,
          "metadata": {},
          "output_type": "execute_result"
        }
      ],
      "source": [
        "l = [0, 0, 0]\n",
        "any(l)"
      ]
    },
    {
      "cell_type": "markdown",
      "id": "b77dfccb-aab3-43f0-8263-b57fce64f257",
      "metadata": {
        "id": "b77dfccb-aab3-43f0-8263-b57fce64f257"
      },
      "source": [
        "On the other hand, `all` will return True if every element of the iterable is truthy:"
      ]
    },
    {
      "cell_type": "code",
      "execution_count": null,
      "id": "61cb2943-fa8d-40b5-b6f6-ffc0efabdb5f",
      "metadata": {
        "id": "61cb2943-fa8d-40b5-b6f6-ffc0efabdb5f",
        "outputId": "d1014d4d-1989-4cbf-ac77-95298324eb23"
      },
      "outputs": [
        {
          "data": {
            "text/plain": [
              "False"
            ]
          },
          "execution_count": 190,
          "metadata": {},
          "output_type": "execute_result"
        }
      ],
      "source": [
        "l = [0, 1, 2]\n",
        "all(l)"
      ]
    },
    {
      "cell_type": "code",
      "execution_count": null,
      "id": "9deb63e1-42e7-43f4-9017-92fc36112133",
      "metadata": {
        "id": "9deb63e1-42e7-43f4-9017-92fc36112133",
        "outputId": "ffd9438e-90a3-45dd-b64a-f3e2c1458d61"
      },
      "outputs": [
        {
          "data": {
            "text/plain": [
              "True"
            ]
          },
          "execution_count": 191,
          "metadata": {},
          "output_type": "execute_result"
        }
      ],
      "source": [
        "l = [1, 2, 3]\n",
        "all(l)"
      ]
    },
    {
      "cell_type": "markdown",
      "id": "089dfdba-53ac-4276-9f0a-a10d9c904707",
      "metadata": {
        "id": "089dfdba-53ac-4276-9f0a-a10d9c904707"
      },
      "source": [
        "We can implement these functions ourselves using `reduce` if we choose to - simply use the Boolean `or` or `and` operators as the function passed to `reduce` to implement `any` and `all` respectively."
      ]
    },
    {
      "cell_type": "markdown",
      "id": "f2c38956-358e-4fd6-9aad-df4da9e64822",
      "metadata": {
        "id": "f2c38956-358e-4fd6-9aad-df4da9e64822"
      },
      "source": [
        "**any**"
      ]
    },
    {
      "cell_type": "code",
      "execution_count": null,
      "id": "8d5a9ce9-7667-4622-8dfa-fb62a8f9c363",
      "metadata": {
        "id": "8d5a9ce9-7667-4622-8dfa-fb62a8f9c363",
        "outputId": "7e6cfd8a-6e91-4ea1-deb3-f9e901376adc"
      },
      "outputs": [
        {
          "data": {
            "text/plain": [
              "True"
            ]
          },
          "execution_count": 192,
          "metadata": {},
          "output_type": "execute_result"
        }
      ],
      "source": [
        "l = [0, 1, 2]\n",
        "reduce(lambda a, b: bool(a or b), l)"
      ]
    },
    {
      "cell_type": "code",
      "execution_count": null,
      "id": "9d0d7b32-6e8b-4a11-970c-b5c78dd42f6f",
      "metadata": {
        "id": "9d0d7b32-6e8b-4a11-970c-b5c78dd42f6f",
        "outputId": "ce339990-5ce8-4a0c-9992-f3bb2e1aa10e"
      },
      "outputs": [
        {
          "data": {
            "text/plain": [
              "False"
            ]
          },
          "execution_count": 193,
          "metadata": {},
          "output_type": "execute_result"
        }
      ],
      "source": [
        "l = [0, 0 ,0]\n",
        "reduce(lambda a, b: bool(a or b), l)"
      ]
    },
    {
      "cell_type": "markdown",
      "id": "d3fb3091-aad4-4c7e-ba18-ce754d64999b",
      "metadata": {
        "id": "d3fb3091-aad4-4c7e-ba18-ce754d64999b"
      },
      "source": [
        "**all**"
      ]
    },
    {
      "cell_type": "code",
      "execution_count": null,
      "id": "802700fb-a50b-41c3-a3ef-9ac457954c9e",
      "metadata": {
        "id": "802700fb-a50b-41c3-a3ef-9ac457954c9e",
        "outputId": "a306445e-2ccb-447f-b6f3-3aa13a266a34"
      },
      "outputs": [
        {
          "data": {
            "text/plain": [
              "False"
            ]
          },
          "execution_count": 195,
          "metadata": {},
          "output_type": "execute_result"
        }
      ],
      "source": [
        "l = [0, 1, 2]\n",
        "reduce(lambda a, b: bool(a and b), l)"
      ]
    },
    {
      "cell_type": "code",
      "execution_count": null,
      "id": "53a10166-db88-450e-8cae-5501200b8610",
      "metadata": {
        "id": "53a10166-db88-450e-8cae-5501200b8610",
        "outputId": "2b1d643f-9ddf-44b8-d909-15ebe0c88ec8"
      },
      "outputs": [
        {
          "data": {
            "text/plain": [
              "True"
            ]
          },
          "execution_count": 196,
          "metadata": {},
          "output_type": "execute_result"
        }
      ],
      "source": [
        "l = [1, 2, 3]\n",
        "reduce(lambda a, b: bool(a and b), l)"
      ]
    },
    {
      "cell_type": "markdown",
      "id": "494378af-64ad-4cb8-b1c0-a13977fe6e4d",
      "metadata": {
        "id": "494378af-64ad-4cb8-b1c0-a13977fe6e4d"
      },
      "source": [
        "**Products**"
      ]
    },
    {
      "cell_type": "markdown",
      "id": "4cf31d56-2d63-4a65-be3c-515252ff93a3",
      "metadata": {
        "id": "4cf31d56-2d63-4a65-be3c-515252ff93a3"
      },
      "source": [
        "Sometimes we may want to find the product of every element of an iterable.\n",
        "\n",
        "Python does not provide us a built-in method to do this, so we have to either use a procedural approach, or we can use the `reduce` function.\n",
        "\n",
        "We start by defining a function that multiplies two arguments together:"
      ]
    },
    {
      "cell_type": "code",
      "execution_count": null,
      "id": "04f46208-b0fb-403e-b2fe-6e23f19969ab",
      "metadata": {
        "id": "04f46208-b0fb-403e-b2fe-6e23f19969ab"
      },
      "outputs": [],
      "source": [
        "def mult(a, b):\n",
        "    return a * b"
      ]
    },
    {
      "cell_type": "markdown",
      "id": "c8a89735-8a42-4f48-ab0f-8b4b51e665d3",
      "metadata": {
        "id": "c8a89735-8a42-4f48-ab0f-8b4b51e665d3"
      },
      "source": [
        "Then we can use the `reduce` function:"
      ]
    },
    {
      "cell_type": "code",
      "execution_count": null,
      "id": "1c269d95-cd1a-407b-b2c0-464942c7849c",
      "metadata": {
        "id": "1c269d95-cd1a-407b-b2c0-464942c7849c",
        "outputId": "25d59260-f864-4505-bcfc-8cf866e310b5"
      },
      "outputs": [
        {
          "data": {
            "text/plain": [
              "24"
            ]
          },
          "execution_count": 198,
          "metadata": {},
          "output_type": "execute_result"
        }
      ],
      "source": [
        "l = [2, 3, 4]\n",
        "reduce(mult, l)"
      ]
    },
    {
      "cell_type": "markdown",
      "id": "bee1d001-ad6e-44ed-a584-721f016da7dd",
      "metadata": {
        "id": "bee1d001-ad6e-44ed-a584-721f016da7dd"
      },
      "source": [
        "Remember what this did:\n",
        "\n",
        "```\n",
        "step 1: result = 2\n",
        "step 2: result = mult(result, 3) = mult(2, 3) = 6\n",
        "step 3: result = mult(result, 4) = mult(6, 4) = 24\n",
        "step 4: l exhausted, return result --> 24\n",
        "\n",
        "```"
      ]
    },
    {
      "cell_type": "markdown",
      "id": "e2830340-97a1-4086-8866-3b98aa5bb58e",
      "metadata": {
        "id": "e2830340-97a1-4086-8866-3b98aa5bb58e"
      },
      "source": [
        "Of course, we can also just use a lambda:"
      ]
    },
    {
      "cell_type": "code",
      "execution_count": null,
      "id": "5a53ebc4-11b3-443d-81d9-8e5f9d4778da",
      "metadata": {
        "id": "5a53ebc4-11b3-443d-81d9-8e5f9d4778da",
        "outputId": "fec51e97-89af-498b-b0dc-ba40a4b9ba52"
      },
      "outputs": [
        {
          "data": {
            "text/plain": [
              "24"
            ]
          },
          "execution_count": 199,
          "metadata": {},
          "output_type": "execute_result"
        }
      ],
      "source": [
        "reduce(lambda a, b: a * b, l)"
      ]
    },
    {
      "cell_type": "markdown",
      "id": "40307183-aae8-4d9d-a668-373ca3756950",
      "metadata": {
        "id": "40307183-aae8-4d9d-a668-373ca3756950"
      },
      "source": [
        "**Factorials**"
      ]
    },
    {
      "cell_type": "markdown",
      "id": "893fa8bf-fbd3-4aa4-93da-36475942b9a1",
      "metadata": {
        "id": "893fa8bf-fbd3-4aa4-93da-36475942b9a1"
      },
      "source": [
        "A special case of the product we just did would be calculating  the factorial of some number `(n!)`:\n",
        "\n",
        "Recall:\n",
        "\n",
        "`n! = 1 * 2 * 3 * ... * n`\n",
        "\n",
        "In other words, we are calculating the product of a sequence containing consecutive integers from 1 to n (inclusive)\n",
        "\n",
        "We can easily writ this using a simple for loop:"
      ]
    },
    {
      "cell_type": "code",
      "execution_count": null,
      "id": "df15ac72-9acb-417e-89e6-890c0b2551c5",
      "metadata": {
        "id": "df15ac72-9acb-417e-89e6-890c0b2551c5"
      },
      "outputs": [],
      "source": [
        "def fact(n):\n",
        "    if n <= 1:\n",
        "        return 1\n",
        "    else:\n",
        "        result = 1\n",
        "        for i in range(2, n+1):\n",
        "            result *= i\n",
        "        return result"
      ]
    },
    {
      "cell_type": "code",
      "execution_count": null,
      "id": "fa55a7be-aa70-47b0-bbfd-7763267c4772",
      "metadata": {
        "id": "fa55a7be-aa70-47b0-bbfd-7763267c4772",
        "outputId": "419ad0ff-c292-40b7-82e3-2f269ff51bfd"
      },
      "outputs": [
        {
          "data": {
            "text/plain": [
              "(1, 2, 6, 24, 120)"
            ]
          },
          "execution_count": 202,
          "metadata": {},
          "output_type": "execute_result"
        }
      ],
      "source": [
        "fact(1), fact(2), fact(3), fact(4), fact(5)"
      ]
    },
    {
      "cell_type": "markdown",
      "id": "7c99290e-a068-4e20-8841-bfb6e818d713",
      "metadata": {
        "id": "7c99290e-a068-4e20-8841-bfb6e818d713"
      },
      "source": [
        "We could also write this using a recursive function:"
      ]
    },
    {
      "cell_type": "code",
      "execution_count": null,
      "id": "e014927a-58c8-4b70-b4a8-07e727200696",
      "metadata": {
        "id": "e014927a-58c8-4b70-b4a8-07e727200696"
      },
      "outputs": [],
      "source": [
        "def fact(n):\n",
        "    if n <= 1:\n",
        "        return 1\n",
        "    else:\n",
        "        return n * fact(n-1)"
      ]
    },
    {
      "cell_type": "code",
      "execution_count": null,
      "id": "f4cc159e-c773-4b67-981b-a84d139ff937",
      "metadata": {
        "id": "f4cc159e-c773-4b67-981b-a84d139ff937",
        "outputId": "1ecaab0e-9871-4aed-85d1-a6272a738049"
      },
      "outputs": [
        {
          "data": {
            "text/plain": [
              "(1, 2, 6, 24, 120)"
            ]
          },
          "execution_count": 204,
          "metadata": {},
          "output_type": "execute_result"
        }
      ],
      "source": [
        "fact(1), fact(2), fact(3), fact(4), fact(5)"
      ]
    },
    {
      "cell_type": "markdown",
      "id": "0d939c46-e581-405f-9055-da71638101f0",
      "metadata": {
        "id": "0d939c46-e581-405f-9055-da71638101f0"
      },
      "source": [
        "Finally we can also write this using `reduce` as follows:"
      ]
    },
    {
      "cell_type": "code",
      "execution_count": null,
      "id": "b468f977-52a6-4cfa-b9fc-2e3cf095c80b",
      "metadata": {
        "id": "b468f977-52a6-4cfa-b9fc-2e3cf095c80b",
        "outputId": "c8528647-3b34-42b8-b078-661c0efd862a"
      },
      "outputs": [
        {
          "data": {
            "text/plain": [
              "120"
            ]
          },
          "execution_count": 205,
          "metadata": {},
          "output_type": "execute_result"
        }
      ],
      "source": [
        "n = 5\n",
        "reduce(lambda a, b: a * b, range(1, n+1))"
      ]
    },
    {
      "cell_type": "markdown",
      "id": "c85755c5-503d-4150-945d-5c7eb6ad191c",
      "metadata": {
        "id": "c85755c5-503d-4150-945d-5c7eb6ad191c"
      },
      "source": [
        "As you can see, the `reduce` approach, although concise, is sometimes more difficult to understand than the plain loop or recursive approach."
      ]
    },
    {
      "cell_type": "markdown",
      "id": "2a22abf9-35cb-46b0-9e45-b6d3e9dfa2f0",
      "metadata": {
        "id": "2a22abf9-35cb-46b0-9e45-b6d3e9dfa2f0"
      },
      "source": [
        "**`reduce` initializer**"
      ]
    },
    {
      "cell_type": "markdown",
      "id": "cd9b45df-bc44-4a01-9a5d-ed4ac18d4b42",
      "metadata": {
        "id": "cd9b45df-bc44-4a01-9a5d-ed4ac18d4b42"
      },
      "source": [
        "Suppose we want to provide some sort of default when calculate the product of the elements of an iterable if that iterable is empty:"
      ]
    },
    {
      "cell_type": "code",
      "execution_count": null,
      "id": "809fcb6d-2733-4c3b-960a-6736259973bb",
      "metadata": {
        "id": "809fcb6d-2733-4c3b-960a-6736259973bb",
        "outputId": "6b6fbb91-5d8e-4649-b902-9aa0913040c3"
      },
      "outputs": [
        {
          "data": {
            "text/plain": [
              "6"
            ]
          },
          "execution_count": 206,
          "metadata": {},
          "output_type": "execute_result"
        }
      ],
      "source": [
        "l = [1, 2, 3]\n",
        "reduce(lambda x, y: x*y, l)"
      ]
    },
    {
      "cell_type": "markdown",
      "id": "d92bf6fb-ba88-46f0-af5d-d4f9b68ee35a",
      "metadata": {
        "id": "d92bf6fb-ba88-46f0-af5d-d4f9b68ee35a"
      },
      "source": [
        "but if `l` is empty:"
      ]
    },
    {
      "cell_type": "code",
      "execution_count": null,
      "id": "cc2f74ce-79cf-4926-91cf-79d48dfc5a4d",
      "metadata": {
        "id": "cc2f74ce-79cf-4926-91cf-79d48dfc5a4d",
        "outputId": "0de18f2c-c142-45d1-8361-a9e2ec813c01"
      },
      "outputs": [
        {
          "ename": "TypeError",
          "evalue": "reduce() of empty sequence with no initial value",
          "output_type": "error",
          "traceback": [
            "\u001b[1;31m---------------------------------------------------------------------------\u001b[0m",
            "\u001b[1;31mTypeError\u001b[0m                                 Traceback (most recent call last)",
            "Input \u001b[1;32mIn [207]\u001b[0m, in \u001b[0;36m<cell line: 2>\u001b[1;34m()\u001b[0m\n\u001b[0;32m      1\u001b[0m l \u001b[38;5;241m=\u001b[39m []\n\u001b[1;32m----> 2\u001b[0m \u001b[43mreduce\u001b[49m\u001b[43m(\u001b[49m\u001b[38;5;28;43;01mlambda\u001b[39;49;00m\u001b[43m \u001b[49m\u001b[43mx\u001b[49m\u001b[43m,\u001b[49m\u001b[43m \u001b[49m\u001b[43my\u001b[49m\u001b[43m:\u001b[49m\u001b[43m \u001b[49m\u001b[43mx\u001b[49m\u001b[38;5;241;43m*\u001b[39;49m\u001b[43my\u001b[49m\u001b[43m,\u001b[49m\u001b[43m \u001b[49m\u001b[43ml\u001b[49m\u001b[43m)\u001b[49m\n",
            "\u001b[1;31mTypeError\u001b[0m: reduce() of empty sequence with no initial value"
          ]
        }
      ],
      "source": [
        "l = []\n",
        "reduce(lambda x, y: x*y, l)"
      ]
    },
    {
      "cell_type": "markdown",
      "id": "cd18dd2a-0466-46d0-a66b-9cb8d72a85a2",
      "metadata": {
        "id": "cd18dd2a-0466-46d0-a66b-9cb8d72a85a2"
      },
      "source": [
        "To fix this, we can provide an initializer. In tihs case, we will use `1` since that will not affect the result of the product, and still allow us to return a value for an empty iterable."
      ]
    },
    {
      "cell_type": "code",
      "execution_count": null,
      "id": "14deb3c9-809c-4662-8ba6-b8df52beb43b",
      "metadata": {
        "id": "14deb3c9-809c-4662-8ba6-b8df52beb43b",
        "outputId": "8ec06f55-df85-4df0-9e20-6df88e223d58"
      },
      "outputs": [
        {
          "data": {
            "text/plain": [
              "1"
            ]
          },
          "execution_count": 208,
          "metadata": {},
          "output_type": "execute_result"
        }
      ],
      "source": [
        "l = []\n",
        "reduce(lambda x, y: x*y, l, 1)"
      ]
    },
    {
      "cell_type": "markdown",
      "id": "95ff51c6-ed97-49e1-a452-78ced08978fd",
      "metadata": {
        "id": "95ff51c6-ed97-49e1-a452-78ced08978fd"
      },
      "source": [
        "### 09 - Partial Functions"
      ]
    },
    {
      "cell_type": "code",
      "execution_count": null,
      "id": "f77f1f86-4026-4436-a194-905c13308cb0",
      "metadata": {
        "id": "f77f1f86-4026-4436-a194-905c13308cb0"
      },
      "outputs": [],
      "source": [
        "from functools import partial"
      ]
    },
    {
      "cell_type": "code",
      "execution_count": null,
      "id": "79533023-dc79-46de-978f-be8db1c2a3fe",
      "metadata": {
        "id": "79533023-dc79-46de-978f-be8db1c2a3fe"
      },
      "outputs": [],
      "source": [
        "def my_func(a, b, c):\n",
        "    print(a, b, c)"
      ]
    },
    {
      "cell_type": "code",
      "execution_count": null,
      "id": "ce08d109-e50a-4c67-9f84-792476dfbcc6",
      "metadata": {
        "id": "ce08d109-e50a-4c67-9f84-792476dfbcc6"
      },
      "outputs": [],
      "source": [
        "f = partial(my_func, 10)"
      ]
    },
    {
      "cell_type": "code",
      "execution_count": null,
      "id": "9247a21f-b238-4c79-98bc-24a1a0c57cff",
      "metadata": {
        "id": "9247a21f-b238-4c79-98bc-24a1a0c57cff",
        "outputId": "6eff4899-a6e8-420b-a792-47c32940dbdd"
      },
      "outputs": [
        {
          "name": "stdout",
          "output_type": "stream",
          "text": [
            "10 20 30\n"
          ]
        }
      ],
      "source": [
        "f(20, 30)"
      ]
    },
    {
      "cell_type": "markdown",
      "id": "24edbb3c-ed00-409a-98d0-974b4e075b29",
      "metadata": {
        "id": "24edbb3c-ed00-409a-98d0-974b4e075b29"
      },
      "source": [
        "We could have done this using another function (or a lambda) as well:"
      ]
    },
    {
      "cell_type": "code",
      "execution_count": null,
      "id": "41e9bf78-5e26-4c3d-9c35-313628b96fc2",
      "metadata": {
        "id": "41e9bf78-5e26-4c3d-9c35-313628b96fc2"
      },
      "outputs": [],
      "source": [
        "def partial_func(b, c):\n",
        "    return my_func(10, b, c)"
      ]
    },
    {
      "cell_type": "code",
      "execution_count": null,
      "id": "e1032f34-616a-4676-81e8-9fd196e034e0",
      "metadata": {
        "id": "e1032f34-616a-4676-81e8-9fd196e034e0",
        "outputId": "ffb71fb6-473a-4548-e90e-87bb007c3a42"
      },
      "outputs": [
        {
          "name": "stdout",
          "output_type": "stream",
          "text": [
            "10 20 30\n"
          ]
        }
      ],
      "source": [
        "partial_func(20, 30)"
      ]
    },
    {
      "cell_type": "markdown",
      "id": "ba0e175e-1556-49f4-b444-b01acedb27ed",
      "metadata": {
        "id": "ba0e175e-1556-49f4-b444-b01acedb27ed"
      },
      "source": [
        "or, using a lambda:"
      ]
    },
    {
      "cell_type": "code",
      "execution_count": null,
      "id": "fc679298-9dbd-4b77-a547-40014fd2f72c",
      "metadata": {
        "id": "fc679298-9dbd-4b77-a547-40014fd2f72c"
      },
      "outputs": [],
      "source": [
        "fn = lambda b, c: my_func(10, b, c)"
      ]
    },
    {
      "cell_type": "code",
      "execution_count": null,
      "id": "fc5736b8-771c-4c54-9e72-55711fef0694",
      "metadata": {
        "id": "fc5736b8-771c-4c54-9e72-55711fef0694",
        "outputId": "1b47587c-e077-40ca-da3e-33d5079c9cff"
      },
      "outputs": [
        {
          "name": "stdout",
          "output_type": "stream",
          "text": [
            "10 20 30\n"
          ]
        }
      ],
      "source": [
        "fn(20, 30)"
      ]
    },
    {
      "cell_type": "markdown",
      "id": "33aacdac-bae0-4d38-88eb-03b1abb1e05d",
      "metadata": {
        "id": "33aacdac-bae0-4d38-88eb-03b1abb1e05d"
      },
      "source": [
        "Any of these ways is fine, but sometimes partial is just a cleaner more concise way to do it.\n",
        "\n",
        "Also, it is quite flexible with parameters:"
      ]
    },
    {
      "cell_type": "code",
      "execution_count": null,
      "id": "c5420684-a750-4722-a04d-700b1896b470",
      "metadata": {
        "id": "c5420684-a750-4722-a04d-700b1896b470"
      },
      "outputs": [],
      "source": [
        "def my_func(a, b, *args, k1, k2, **kwargs):\n",
        "    print(a, b, args, k1, k2, kwargs)"
      ]
    },
    {
      "cell_type": "code",
      "execution_count": null,
      "id": "c3a66450-4aec-4095-8cc5-2de16556cc7a",
      "metadata": {
        "id": "c3a66450-4aec-4095-8cc5-2de16556cc7a"
      },
      "outputs": [],
      "source": [
        "f = partial(my_func, 10, k1='a')"
      ]
    },
    {
      "cell_type": "code",
      "execution_count": null,
      "id": "ee16f873-b597-4acb-b390-98135b93f54e",
      "metadata": {
        "id": "ee16f873-b597-4acb-b390-98135b93f54e",
        "outputId": "e8c58afc-8f2e-432e-894a-50b9ac83b0b0"
      },
      "outputs": [
        {
          "name": "stdout",
          "output_type": "stream",
          "text": [
            "10 20 (30, 40) a b {'k3': 'c'}\n"
          ]
        }
      ],
      "source": [
        "f(20, 30, 40, k2='b', k3='c')"
      ]
    },
    {
      "cell_type": "markdown",
      "id": "9e66ae76-25e8-4091-a1ba-e1300d854a7b",
      "metadata": {
        "id": "9e66ae76-25e8-4091-a1ba-e1300d854a7b"
      },
      "source": [
        "We can of course do the same thing using a regular function too:"
      ]
    },
    {
      "cell_type": "code",
      "execution_count": null,
      "id": "2cde05e8-1788-44db-b513-f2f4f97f8ad0",
      "metadata": {
        "id": "2cde05e8-1788-44db-b513-f2f4f97f8ad0"
      },
      "outputs": [],
      "source": [
        "def f(b, *args, k2, **kwargs):\n",
        "    return my_func(10, b, *args, k1='a', k2=k2, **kwargs)"
      ]
    },
    {
      "cell_type": "code",
      "execution_count": null,
      "id": "3083e279-1778-4756-a229-b8425e9d837f",
      "metadata": {
        "id": "3083e279-1778-4756-a229-b8425e9d837f",
        "outputId": "74d36b12-23e5-409b-f7cd-342ba9569d1e"
      },
      "outputs": [
        {
          "name": "stdout",
          "output_type": "stream",
          "text": [
            "10 20 (30, 40) a b {'k3': 'c'}\n"
          ]
        }
      ],
      "source": [
        "f(20, 30, 40, k2='b', k3='c')"
      ]
    },
    {
      "cell_type": "markdown",
      "id": "2e44ac4b-f041-415c-b344-4921e4c79ce6",
      "metadata": {
        "id": "2e44ac4b-f041-415c-b344-4921e4c79ce6"
      },
      "source": [
        "As you can see in this case, using `partial` seems a lot simpler.\n",
        "\n",
        "Also, you are not stuck having to specify the first argument in your partial:"
      ]
    },
    {
      "cell_type": "code",
      "execution_count": null,
      "id": "5bfbdffc-6b38-495b-ae9f-9ae3bef1e88b",
      "metadata": {
        "id": "5bfbdffc-6b38-495b-ae9f-9ae3bef1e88b"
      },
      "outputs": [],
      "source": [
        "def power(base, exponent):\n",
        "    return base ** exponent"
      ]
    },
    {
      "cell_type": "code",
      "execution_count": null,
      "id": "b41c2359-18da-40b6-975f-0d4cb9794fc2",
      "metadata": {
        "id": "b41c2359-18da-40b6-975f-0d4cb9794fc2",
        "outputId": "c769f895-7ada-4549-8849-93c179e7bfa6"
      },
      "outputs": [
        {
          "data": {
            "text/plain": [
              "8"
            ]
          },
          "execution_count": 223,
          "metadata": {},
          "output_type": "execute_result"
        }
      ],
      "source": [
        "power(2, 3)"
      ]
    },
    {
      "cell_type": "code",
      "execution_count": null,
      "id": "806a67c7-a7cf-41cd-b3ad-1e046431cb99",
      "metadata": {
        "id": "806a67c7-a7cf-41cd-b3ad-1e046431cb99"
      },
      "outputs": [],
      "source": [
        "square = partial(power, exponent=2)"
      ]
    },
    {
      "cell_type": "code",
      "execution_count": null,
      "id": "753d5110-fb87-4fd6-8744-a4558346f4cd",
      "metadata": {
        "id": "753d5110-fb87-4fd6-8744-a4558346f4cd",
        "outputId": "92a02697-c636-44fa-fdf2-5a3002e362d8"
      },
      "outputs": [
        {
          "data": {
            "text/plain": [
              "16"
            ]
          },
          "execution_count": 225,
          "metadata": {},
          "output_type": "execute_result"
        }
      ],
      "source": [
        "square(4)"
      ]
    },
    {
      "cell_type": "code",
      "execution_count": null,
      "id": "e9a8d74b-1e2f-48f0-8271-6ed7aa21fd20",
      "metadata": {
        "id": "e9a8d74b-1e2f-48f0-8271-6ed7aa21fd20"
      },
      "outputs": [],
      "source": [
        "cube = partial(power, exponent=3)"
      ]
    },
    {
      "cell_type": "code",
      "execution_count": null,
      "id": "6ef547d5-5431-41f3-a68d-b1efa6de713b",
      "metadata": {
        "id": "6ef547d5-5431-41f3-a68d-b1efa6de713b",
        "outputId": "7b17f616-3f2b-48b8-bc16-2a33442bb52a"
      },
      "outputs": [
        {
          "data": {
            "text/plain": [
              "8"
            ]
          },
          "execution_count": 227,
          "metadata": {},
          "output_type": "execute_result"
        }
      ],
      "source": [
        "cube(2)"
      ]
    },
    {
      "cell_type": "code",
      "execution_count": null,
      "id": "8fddf51d-7880-4163-a87d-6c84c60c545f",
      "metadata": {
        "id": "8fddf51d-7880-4163-a87d-6c84c60c545f",
        "outputId": "14967a2b-10e3-423c-d9ff-6685136d3129"
      },
      "outputs": [
        {
          "ename": "TypeError",
          "evalue": "power() got multiple values for argument 'exponent'",
          "output_type": "error",
          "traceback": [
            "\u001b[1;31m---------------------------------------------------------------------------\u001b[0m",
            "\u001b[1;31mTypeError\u001b[0m                                 Traceback (most recent call last)",
            "Input \u001b[1;32mIn [228]\u001b[0m, in \u001b[0;36m<cell line: 1>\u001b[1;34m()\u001b[0m\n\u001b[1;32m----> 1\u001b[0m \u001b[43mcube\u001b[49m\u001b[43m(\u001b[49m\u001b[38;5;241;43m2\u001b[39;49m\u001b[43m,\u001b[49m\u001b[43m \u001b[49m\u001b[38;5;241;43m4\u001b[39;49m\u001b[43m)\u001b[49m\n",
            "\u001b[1;31mTypeError\u001b[0m: power() got multiple values for argument 'exponent'"
          ]
        }
      ],
      "source": [
        "cube(2, 4)"
      ]
    },
    {
      "cell_type": "markdown",
      "id": "418488cd-730d-48e0-9a5f-c55116f258d8",
      "metadata": {
        "id": "418488cd-730d-48e0-9a5f-c55116f258d8"
      },
      "source": [
        "You can even call it this way:"
      ]
    },
    {
      "cell_type": "code",
      "execution_count": null,
      "id": "024babb1-b975-464e-881b-684174bb1548",
      "metadata": {
        "id": "024babb1-b975-464e-881b-684174bb1548",
        "outputId": "d60ba8db-637d-4832-9649-1e488c6cacc3"
      },
      "outputs": [
        {
          "data": {
            "text/plain": [
              "16"
            ]
          },
          "execution_count": 230,
          "metadata": {},
          "output_type": "execute_result"
        }
      ],
      "source": [
        "cube(2, exponent=4)"
      ]
    },
    {
      "cell_type": "code",
      "execution_count": null,
      "id": "2be9d85a-d873-4cfa-8e8e-c722f842030e",
      "metadata": {
        "id": "2be9d85a-d873-4cfa-8e8e-c722f842030e",
        "outputId": "85b54cac-6060-417a-bef9-5456664e7ed5"
      },
      "outputs": [
        {
          "data": {
            "text/plain": [
              "27"
            ]
          },
          "execution_count": 231,
          "metadata": {},
          "output_type": "execute_result"
        }
      ],
      "source": [
        "cube(base=3)"
      ]
    },
    {
      "cell_type": "code",
      "execution_count": null,
      "id": "c625596d-2613-425b-9f67-793f64ddec41",
      "metadata": {
        "id": "c625596d-2613-425b-9f67-793f64ddec41"
      },
      "outputs": [],
      "source": [
        "func1 = partial(power, 4)"
      ]
    },
    {
      "cell_type": "code",
      "execution_count": null,
      "id": "ce3c7b85-150a-46c3-b93e-f71c12a0b347",
      "metadata": {
        "id": "ce3c7b85-150a-46c3-b93e-f71c12a0b347",
        "outputId": "14dd9ff5-38ba-4087-8c8b-3963a5c11345"
      },
      "outputs": [
        {
          "data": {
            "text/plain": [
              "16"
            ]
          },
          "execution_count": 233,
          "metadata": {},
          "output_type": "execute_result"
        }
      ],
      "source": [
        "func1(2)"
      ]
    },
    {
      "cell_type": "code",
      "execution_count": null,
      "id": "695b8281-550a-4c13-a363-a2e4b6f209c9",
      "metadata": {
        "id": "695b8281-550a-4c13-a363-a2e4b6f209c9"
      },
      "outputs": [],
      "source": [
        "def my_func1(a, b, c):\n",
        "    return [a, b, c]"
      ]
    },
    {
      "cell_type": "code",
      "execution_count": null,
      "id": "3ce27864-dea9-417d-bd9a-46a73159fd97",
      "metadata": {
        "id": "3ce27864-dea9-417d-bd9a-46a73159fd97",
        "outputId": "2cc20d84-a2ec-4db7-9715-30cb53d68abe"
      },
      "outputs": [
        {
          "data": {
            "text/plain": [
              "[4, 1, 2]"
            ]
          },
          "execution_count": 235,
          "metadata": {},
          "output_type": "execute_result"
        }
      ],
      "source": [
        "func1 = partial(my_func1, 4)\n",
        "func1(1,2)"
      ]
    },
    {
      "cell_type": "code",
      "execution_count": null,
      "id": "8ae0cbef-b997-45e5-a4e3-053a29812aa3",
      "metadata": {
        "id": "8ae0cbef-b997-45e5-a4e3-053a29812aa3",
        "outputId": "4018863c-6ebd-4d3b-fd94-868abfd60eba"
      },
      "outputs": [
        {
          "data": {
            "text/plain": [
              "[1, 2, 4]"
            ]
          },
          "execution_count": 236,
          "metadata": {},
          "output_type": "execute_result"
        }
      ],
      "source": [
        "func1 = partial(my_func1, c=4)\n",
        "func1(1,2)"
      ]
    },
    {
      "cell_type": "code",
      "execution_count": null,
      "id": "fee945b1-3402-4f5d-8847-779a171bbfb1",
      "metadata": {
        "id": "fee945b1-3402-4f5d-8847-779a171bbfb1",
        "outputId": "5f5e7f67-e48f-4aba-c426-e0936cfcf2c5"
      },
      "outputs": [
        {
          "ename": "TypeError",
          "evalue": "my_func1() got multiple values for argument 'b'",
          "output_type": "error",
          "traceback": [
            "\u001b[1;31m---------------------------------------------------------------------------\u001b[0m",
            "\u001b[1;31mTypeError\u001b[0m                                 Traceback (most recent call last)",
            "Input \u001b[1;32mIn [237]\u001b[0m, in \u001b[0;36m<cell line: 2>\u001b[1;34m()\u001b[0m\n\u001b[0;32m      1\u001b[0m func1 \u001b[38;5;241m=\u001b[39m partial(my_func1, b\u001b[38;5;241m=\u001b[39m\u001b[38;5;241m4\u001b[39m)\n\u001b[1;32m----> 2\u001b[0m \u001b[43mfunc1\u001b[49m\u001b[43m(\u001b[49m\u001b[38;5;241;43m1\u001b[39;49m\u001b[43m,\u001b[49m\u001b[38;5;241;43m2\u001b[39;49m\u001b[43m)\u001b[49m\n",
            "\u001b[1;31mTypeError\u001b[0m: my_func1() got multiple values for argument 'b'"
          ]
        }
      ],
      "source": [
        "func1 = partial(my_func1, b=4)\n",
        "func1(1,2)"
      ]
    },
    {
      "cell_type": "markdown",
      "id": "85f16507-3717-40bf-9d77-a9c5df910a70",
      "metadata": {
        "id": "85f16507-3717-40bf-9d77-a9c5df910a70"
      },
      "source": [
        "---\n",
        "**BE CAREFUL!**"
      ]
    },
    {
      "cell_type": "markdown",
      "id": "9604d930-9971-4cd6-80c6-69b3244cce12",
      "metadata": {
        "id": "9604d930-9971-4cd6-80c6-69b3244cce12"
      },
      "source": [
        "**CAVEAT**\n",
        "\n",
        "*We can certainly use variables of literals when creating partials, but we have to be careful.*"
      ]
    },
    {
      "cell_type": "code",
      "execution_count": null,
      "id": "9d49f2f3-bffd-477b-8ae2-89a0476fd909",
      "metadata": {
        "id": "9d49f2f3-bffd-477b-8ae2-89a0476fd909"
      },
      "outputs": [],
      "source": [
        "def my_func(a, b, c):\n",
        "    print(a, b, c)"
      ]
    },
    {
      "cell_type": "code",
      "execution_count": null,
      "id": "71fe70d9-4c76-453a-84ba-a6b4f6c21b2d",
      "metadata": {
        "id": "71fe70d9-4c76-453a-84ba-a6b4f6c21b2d"
      },
      "outputs": [],
      "source": [
        "a = 10\n",
        "f = partial(my_func, a)"
      ]
    },
    {
      "cell_type": "code",
      "execution_count": null,
      "id": "abe54b6d-760a-40b1-a423-7de2cd03f7ad",
      "metadata": {
        "id": "abe54b6d-760a-40b1-a423-7de2cd03f7ad",
        "outputId": "690b8ef0-9aba-480d-e272-f1c405bdf572"
      },
      "outputs": [
        {
          "name": "stdout",
          "output_type": "stream",
          "text": [
            "10 20 30\n"
          ]
        }
      ],
      "source": [
        "f(20, 30)"
      ]
    },
    {
      "cell_type": "markdown",
      "id": "7ba15a1e-f00a-4ca2-9d0a-55e617767c02",
      "metadata": {
        "id": "7ba15a1e-f00a-4ca2-9d0a-55e617767c02"
      },
      "source": [
        "*Now let's change the value of the variable `a` and see what happens:*"
      ]
    },
    {
      "cell_type": "code",
      "execution_count": null,
      "id": "31b9645d-2324-4f44-9e65-5c88fa076eda",
      "metadata": {
        "id": "31b9645d-2324-4f44-9e65-5c88fa076eda"
      },
      "outputs": [],
      "source": [
        "a = 100"
      ]
    },
    {
      "cell_type": "code",
      "execution_count": null,
      "id": "4961e183-5c7d-401a-9d0c-adef6fc8cfb1",
      "metadata": {
        "id": "4961e183-5c7d-401a-9d0c-adef6fc8cfb1",
        "outputId": "d55cf537-1ca5-4a5d-d174-7fa5f60c0884"
      },
      "outputs": [
        {
          "name": "stdout",
          "output_type": "stream",
          "text": [
            "10 20 30\n"
          ]
        }
      ],
      "source": [
        "f(20, 30)"
      ]
    },
    {
      "cell_type": "markdown",
      "id": "98fe97d9-eacb-4c26-a2ee-63e2eefd4170",
      "metadata": {
        "id": "98fe97d9-eacb-4c26-a2ee-63e2eefd4170"
      },
      "source": [
        "*As you can see, the value for `a` is fixed once the partial has been created.*\n",
        "\n",
        "*In fact, the memory address of `a` is baked in to the partial, and `a` is immutable.*\n",
        "\n",
        "*If we use a mutable obkect, things are different:*"
      ]
    },
    {
      "cell_type": "code",
      "execution_count": null,
      "id": "5af9eff9-058e-4cdd-8d26-fbe8079f29b8",
      "metadata": {
        "id": "5af9eff9-058e-4cdd-8d26-fbe8079f29b8"
      },
      "outputs": [],
      "source": [
        "a = [10, 20]\n",
        "f = partial(my_func, a)"
      ]
    },
    {
      "cell_type": "code",
      "execution_count": null,
      "id": "010af844-50c0-4a9f-99d2-bf1b3f655634",
      "metadata": {
        "id": "010af844-50c0-4a9f-99d2-bf1b3f655634",
        "outputId": "94e2f1fc-6a45-42cd-9478-14dbd330835b"
      },
      "outputs": [
        {
          "name": "stdout",
          "output_type": "stream",
          "text": [
            "[10, 20] 100 200\n"
          ]
        }
      ],
      "source": [
        "f(100, 200)"
      ]
    },
    {
      "cell_type": "code",
      "execution_count": null,
      "id": "3e2b98b6-9a9a-41a4-ba40-167a9ef5d50d",
      "metadata": {
        "id": "3e2b98b6-9a9a-41a4-ba40-167a9ef5d50d"
      },
      "outputs": [],
      "source": [
        "a.append(30)"
      ]
    },
    {
      "cell_type": "code",
      "execution_count": null,
      "id": "366b73e9-5c60-43ec-830f-2e95953dbac0",
      "metadata": {
        "id": "366b73e9-5c60-43ec-830f-2e95953dbac0",
        "outputId": "c5079805-2184-4f6a-dfe2-302e9f5d6437"
      },
      "outputs": [
        {
          "name": "stdout",
          "output_type": "stream",
          "text": [
            "[10, 20, 30] 100 200\n"
          ]
        }
      ],
      "source": [
        "f(100, 200)"
      ]
    },
    {
      "cell_type": "markdown",
      "id": "c371998d-9157-430b-9957-3f9701aede51",
      "metadata": {
        "id": "c371998d-9157-430b-9957-3f9701aede51"
      },
      "source": [
        "**Use Cases**"
      ]
    },
    {
      "cell_type": "markdown",
      "id": "3fd801dc-d15f-48e1-89d1-6bf172e74d19",
      "metadata": {
        "id": "3fd801dc-d15f-48e1-89d1-6bf172e74d19"
      },
      "source": [
        "We tent to use partials in situation where we need to call a function that actually requires more parameters then we can supply.\n",
        "\n",
        "Often this is because we are working with exiting libraries or code, and we have a special case.\n",
        "\n",
        "For example, suppose we habe points (represented as tuples), and we want to sort them based on the distance of the point from some other fixed point:"
      ]
    },
    {
      "cell_type": "code",
      "execution_count": null,
      "id": "204314a0-2367-485f-94f8-04182a74e5eb",
      "metadata": {
        "id": "204314a0-2367-485f-94f8-04182a74e5eb"
      },
      "outputs": [],
      "source": [
        "origin = (0, 0)\n",
        "l = [(1, 1), (0, 2), (-3, 2), (0, 0), (10, 10)]"
      ]
    },
    {
      "cell_type": "code",
      "execution_count": null,
      "id": "07091778-f546-484b-8b3b-5dc376704c38",
      "metadata": {
        "id": "07091778-f546-484b-8b3b-5dc376704c38"
      },
      "outputs": [],
      "source": [
        "dist2 = lambda x, y:(x[0]-y[0])**2 + (x[1]-y[1])**2"
      ]
    },
    {
      "cell_type": "code",
      "execution_count": null,
      "id": "3412c877-a8dd-4bd6-a22e-5390d7c1f839",
      "metadata": {
        "id": "3412c877-a8dd-4bd6-a22e-5390d7c1f839",
        "outputId": "3ced1869-e358-4fb0-d95a-be4a8ab9c4d7"
      },
      "outputs": [
        {
          "data": {
            "text/plain": [
              "2"
            ]
          },
          "execution_count": 250,
          "metadata": {},
          "output_type": "execute_result"
        }
      ],
      "source": [
        "dist2((0,0), (1,1))"
      ]
    },
    {
      "cell_type": "code",
      "execution_count": null,
      "id": "5879fb11-32b2-4383-936a-83342ba6c68f",
      "metadata": {
        "id": "5879fb11-32b2-4383-936a-83342ba6c68f",
        "outputId": "c50ff726-bd40-4105-b40c-25faa12c219b"
      },
      "outputs": [
        {
          "data": {
            "text/plain": [
              "[(0, 0), (1, 1), (0, 2), (-3, 2), (10, 10)]"
            ]
          },
          "execution_count": 251,
          "metadata": {},
          "output_type": "execute_result"
        }
      ],
      "source": [
        "sorted(l, key = lambda x: dist2((0,0), x))"
      ]
    },
    {
      "cell_type": "code",
      "execution_count": null,
      "id": "0e7760da-680a-411c-b287-0e682b09b398",
      "metadata": {
        "id": "0e7760da-680a-411c-b287-0e682b09b398",
        "outputId": "c46b72ca-89d2-41a4-86ac-4633864301dd"
      },
      "outputs": [
        {
          "data": {
            "text/plain": [
              "[(0, 0), (1, 1), (0, 2), (-3, 2), (10, 10)]"
            ]
          },
          "execution_count": 252,
          "metadata": {},
          "output_type": "execute_result"
        }
      ],
      "source": [
        "sorted(l, key=partial(dist2, (0, 0)))"
      ]
    },
    {
      "cell_type": "markdown",
      "id": "085a034f-0693-41f0-83c4-1f38af98b6d3",
      "metadata": {
        "id": "085a034f-0693-41f0-83c4-1f38af98b6d3"
      },
      "source": [
        "Another use case is when using callback functions. Usually these are used when running asynchronous operations, and you provide a callable to another callable which will be called when the first callable completes its execution.\n",
        "\n",
        "Very ofteni this asynchronous callable will specify the number of variables that the callback function must have - this may not be what we want, maybe we want to add some additional info.\n",
        "\n",
        "We'll look at asynchronous processing later in this course.\n",
        "\n",
        "Often we can also use partial functions to make our life a bit easier.\n",
        "\n",
        "Consider a situation where we have some generic `email()` function that can be used to notify when various things happen in our application. But depending on what is happening we may want to norify different people. Let's see how we may do this:"
      ]
    },
    {
      "cell_type": "code",
      "execution_count": null,
      "id": "295f20e8-f8dc-4f4f-93d8-e46e109399ab",
      "metadata": {
        "id": "295f20e8-f8dc-4f4f-93d8-e46e109399ab"
      },
      "outputs": [],
      "source": [
        "def sendmail(to, subject, body):\n",
        "    # code to send email\n",
        "    print('To:{0}, Subject:{1}, Body:{2}'.format(to, subject, body))"
      ]
    },
    {
      "cell_type": "markdown",
      "id": "1852cc63-b2d3-49dd-9d09-f7fda6fe120a",
      "metadata": {
        "id": "1852cc63-b2d3-49dd-9d09-f7fda6fe120a"
      },
      "source": [
        "Now, we may have different email addresses we want to send notifications to, maybe defined in a config file in our app. Here, I'll just use hardcoded variables:"
      ]
    },
    {
      "cell_type": "code",
      "execution_count": null,
      "id": "387149aa-29c5-4580-96fa-567522094d1a",
      "metadata": {
        "id": "387149aa-29c5-4580-96fa-567522094d1a"
      },
      "outputs": [],
      "source": [
        "email_admin = 'palin@python.edu'\n",
        "email_devteam = 'idle@python.edu;cleese@python.edu'"
      ]
    },
    {
      "cell_type": "markdown",
      "id": "e6da7342-8ca8-498f-a8d3-f9c7eeb9e502",
      "metadata": {
        "id": "e6da7342-8ca8-498f-a8d3-f9c7eeb9e502"
      },
      "source": [
        "Now when we want to send emails we would have to write things like:"
      ]
    },
    {
      "cell_type": "code",
      "execution_count": null,
      "id": "f2a8d7a6-c0e4-417e-905b-06173f463e26",
      "metadata": {
        "id": "f2a8d7a6-c0e4-417e-905b-06173f463e26",
        "outputId": "6570a0b2-7fa4-4c30-cb5d-012510211369"
      },
      "outputs": [
        {
          "name": "stdout",
          "output_type": "stream",
          "text": [
            "To:palin@python.edu, Subject:My App Notification, Body:the parrot is dead.\n",
            "To:palin@python.edu;idle@python.edu;cleese@python.edu, Subject:My App Notification, Body:the ministry is closed until further notice.\n"
          ]
        }
      ],
      "source": [
        "sendmail(email_admin, 'My App Notification', 'the parrot is dead.')\n",
        "sendmail(';'.join((email_admin, email_devteam)), 'My App Notification', 'the ministry is closed until further notice.')"
      ]
    },
    {
      "cell_type": "markdown",
      "id": "8cb9f7f5-00d3-49bb-8020-e72e0266e2cb",
      "metadata": {
        "id": "8cb9f7f5-00d3-49bb-8020-e72e0266e2cb"
      },
      "source": [
        "We could simply our life a little using partials this way:"
      ]
    },
    {
      "cell_type": "code",
      "execution_count": null,
      "id": "6607cac3-a7a4-4a16-8143-00780dd8335b",
      "metadata": {
        "id": "6607cac3-a7a4-4a16-8143-00780dd8335b"
      },
      "outputs": [],
      "source": [
        "send_admin = partial(sendmail, email_admin, 'For you eyes only')\n",
        "send_dev = partial(sendmail, email_devteam, 'Dear IT:')\n",
        "send_all = partial(sendmail, ';'.join((email_admin, email_devteam)), 'Loyal Subjects')"
      ]
    },
    {
      "cell_type": "code",
      "execution_count": null,
      "id": "e54d478b-eccc-40fa-b8b0-ca8274c3024e",
      "metadata": {
        "id": "e54d478b-eccc-40fa-b8b0-ca8274c3024e",
        "outputId": "4be9a805-bebd-4c60-9ece-edcedd7d6685"
      },
      "outputs": [
        {
          "name": "stdout",
          "output_type": "stream",
          "text": [
            "To:palin@python.edu, Subject:For you eyes only, Body:the parrot is dead.\n",
            "To:palin@python.edu;idle@python.edu;cleese@python.edu, Subject:Loyal Subjects, Body:the ministry is closed until further notice.\n"
          ]
        }
      ],
      "source": [
        "send_admin('the parrot is dead.')\n",
        "send_all('the ministry is closed until further notice.')"
      ]
    },
    {
      "cell_type": "markdown",
      "id": "7cec089b-b58f-479e-9afa-d604d0250db2",
      "metadata": {
        "id": "7cec089b-b58f-479e-9afa-d604d0250db2"
      },
      "source": [
        "Finally, let's make this a little more complex, with a mixture of positional and keyword-only arguments:"
      ]
    },
    {
      "cell_type": "code",
      "execution_count": null,
      "id": "8f166e9a-ba23-4498-afa8-fbf731313836",
      "metadata": {
        "id": "8f166e9a-ba23-4498-afa8-fbf731313836"
      },
      "outputs": [],
      "source": [
        "def sendmail(to, subject, body, *, cc=None, bcc=email_devteam):\n",
        "    # code to send email\n",
        "    print('To:{0}, Subject:{1}, Body:{2}, CC:{3}, BCC:{4}'.format(to, \n",
        "                                                                  subject, \n",
        "                                                                  body, \n",
        "                                                                  cc, \n",
        "                                                                  bcc))"
      ]
    },
    {
      "cell_type": "code",
      "execution_count": null,
      "id": "9be93057-2384-42c3-ace3-c9f9082185da",
      "metadata": {
        "id": "9be93057-2384-42c3-ace3-c9f9082185da"
      },
      "outputs": [],
      "source": [
        "send_admin = partial(sendmail, email_admin, 'General Admin')\n",
        "send_admin_secret = partial(sendmail, email_admin, 'For your eyes only', cc=None, bcc=None)"
      ]
    },
    {
      "cell_type": "code",
      "execution_count": null,
      "id": "9f57e520-0543-46ba-acc2-fbe02f284d0d",
      "metadata": {
        "id": "9f57e520-0543-46ba-acc2-fbe02f284d0d",
        "outputId": "f69a6725-1b67-4ff7-9579-976565699c53"
      },
      "outputs": [
        {
          "name": "stdout",
          "output_type": "stream",
          "text": [
            "To:palin@python.edu, Subject:General Admin, Body:and now for something completely different, CC:None, BCC:idle@python.edu;cleese@python.edu\n"
          ]
        }
      ],
      "source": [
        "send_admin('and now for something completely different')"
      ]
    },
    {
      "cell_type": "code",
      "execution_count": null,
      "id": "290439ce-8c6a-4f27-95e1-629744ae052c",
      "metadata": {
        "id": "290439ce-8c6a-4f27-95e1-629744ae052c",
        "outputId": "94888d4f-5489-4e6e-bec9-b23c3ffac14d"
      },
      "outputs": [
        {
          "name": "stdout",
          "output_type": "stream",
          "text": [
            "To:palin@python.edu, Subject:For your eyes only, Body:the parrot is dead!, CC:None, BCC:None\n"
          ]
        }
      ],
      "source": [
        "send_admin_secret('the parrot is dead!')"
      ]
    },
    {
      "cell_type": "code",
      "execution_count": null,
      "id": "9ccf7b8d-a46a-46f9-8e84-ef09d4645b0e",
      "metadata": {
        "id": "9ccf7b8d-a46a-46f9-8e84-ef09d4645b0e",
        "outputId": "a293694d-ccbe-4286-dbe1-c4939787fd39"
      },
      "outputs": [
        {
          "name": "stdout",
          "output_type": "stream",
          "text": [
            "To:palin@python.edu, Subject:For your eyes only, Body:the parrot is no more!, CC:None, BCC:idle@python.edu;cleese@python.edu\n"
          ]
        }
      ],
      "source": [
        "send_admin_secret('the parrot is no more!', bcc=email_devteam)"
      ]
    },
    {
      "cell_type": "markdown",
      "id": "0d4fe175-fe6f-4b6e-b150-ebe88db3c99c",
      "metadata": {
        "id": "0d4fe175-fe6f-4b6e-b150-ebe88db3c99c"
      },
      "source": [
        "### 10 - The Operator Module"
      ]
    },
    {
      "cell_type": "code",
      "execution_count": null,
      "id": "c03a0a6c-bf90-4fc0-8736-319cff6dd601",
      "metadata": {
        "id": "c03a0a6c-bf90-4fc0-8736-319cff6dd601"
      },
      "outputs": [],
      "source": [
        "import operator"
      ]
    },
    {
      "cell_type": "code",
      "execution_count": null,
      "id": "ca068337-0773-40c8-aec8-d0b09bd12ab8",
      "metadata": {
        "id": "ca068337-0773-40c8-aec8-d0b09bd12ab8",
        "outputId": "a129593c-b4b9-4784-f022-6616c350f441"
      },
      "outputs": [
        {
          "data": {
            "text/plain": [
              "['__abs__',\n",
              " '__add__',\n",
              " '__all__',\n",
              " '__and__',\n",
              " '__builtins__',\n",
              " '__cached__',\n",
              " '__concat__',\n",
              " '__contains__',\n",
              " '__delitem__',\n",
              " '__doc__',\n",
              " '__eq__',\n",
              " '__file__',\n",
              " '__floordiv__',\n",
              " '__ge__',\n",
              " '__getitem__',\n",
              " '__gt__',\n",
              " '__iadd__',\n",
              " '__iand__',\n",
              " '__iconcat__',\n",
              " '__ifloordiv__',\n",
              " '__ilshift__',\n",
              " '__imatmul__',\n",
              " '__imod__',\n",
              " '__imul__',\n",
              " '__index__',\n",
              " '__inv__',\n",
              " '__invert__',\n",
              " '__ior__',\n",
              " '__ipow__',\n",
              " '__irshift__',\n",
              " '__isub__',\n",
              " '__itruediv__',\n",
              " '__ixor__',\n",
              " '__le__',\n",
              " '__loader__',\n",
              " '__lshift__',\n",
              " '__lt__',\n",
              " '__matmul__',\n",
              " '__mod__',\n",
              " '__mul__',\n",
              " '__name__',\n",
              " '__ne__',\n",
              " '__neg__',\n",
              " '__not__',\n",
              " '__or__',\n",
              " '__package__',\n",
              " '__pos__',\n",
              " '__pow__',\n",
              " '__rshift__',\n",
              " '__setitem__',\n",
              " '__spec__',\n",
              " '__sub__',\n",
              " '__truediv__',\n",
              " '__xor__',\n",
              " '_abs',\n",
              " 'abs',\n",
              " 'add',\n",
              " 'and_',\n",
              " 'attrgetter',\n",
              " 'concat',\n",
              " 'contains',\n",
              " 'countOf',\n",
              " 'delitem',\n",
              " 'eq',\n",
              " 'floordiv',\n",
              " 'ge',\n",
              " 'getitem',\n",
              " 'gt',\n",
              " 'iadd',\n",
              " 'iand',\n",
              " 'iconcat',\n",
              " 'ifloordiv',\n",
              " 'ilshift',\n",
              " 'imatmul',\n",
              " 'imod',\n",
              " 'imul',\n",
              " 'index',\n",
              " 'indexOf',\n",
              " 'inv',\n",
              " 'invert',\n",
              " 'ior',\n",
              " 'ipow',\n",
              " 'irshift',\n",
              " 'is_',\n",
              " 'is_not',\n",
              " 'isub',\n",
              " 'itemgetter',\n",
              " 'itruediv',\n",
              " 'ixor',\n",
              " 'le',\n",
              " 'length_hint',\n",
              " 'lshift',\n",
              " 'lt',\n",
              " 'matmul',\n",
              " 'methodcaller',\n",
              " 'mod',\n",
              " 'mul',\n",
              " 'ne',\n",
              " 'neg',\n",
              " 'not_',\n",
              " 'or_',\n",
              " 'pos',\n",
              " 'pow',\n",
              " 'rshift',\n",
              " 'setitem',\n",
              " 'sub',\n",
              " 'truediv',\n",
              " 'truth',\n",
              " 'xor']"
            ]
          },
          "execution_count": 265,
          "metadata": {},
          "output_type": "execute_result"
        }
      ],
      "source": [
        "dir(operator)"
      ]
    },
    {
      "cell_type": "markdown",
      "id": "9e44c9f2-9a12-4b7c-8d04-1cf2b0c264a7",
      "metadata": {
        "id": "9e44c9f2-9a12-4b7c-8d04-1cf2b0c264a7"
      },
      "source": [
        "**Arithmetic Operators**"
      ]
    },
    {
      "cell_type": "markdown",
      "id": "9b5d20bf-5b56-49b2-a1e3-3b9ea1d2ec5a",
      "metadata": {
        "id": "9b5d20bf-5b56-49b2-a1e3-3b9ea1d2ec5a"
      },
      "source": [
        "A variety of artihmetic operators are implemented."
      ]
    },
    {
      "cell_type": "code",
      "execution_count": null,
      "id": "9819efdd-990c-493c-ad84-3669b7253dbd",
      "metadata": {
        "id": "9819efdd-990c-493c-ad84-3669b7253dbd",
        "outputId": "e3de1412-2e95-4dda-ed36-814282bf257b"
      },
      "outputs": [
        {
          "data": {
            "text/plain": [
              "3"
            ]
          },
          "execution_count": 266,
          "metadata": {},
          "output_type": "execute_result"
        }
      ],
      "source": [
        "operator.add(1, 2)"
      ]
    },
    {
      "cell_type": "code",
      "execution_count": null,
      "id": "a6c7d05f-813c-4791-822b-91c3d3b2af55",
      "metadata": {
        "id": "a6c7d05f-813c-4791-822b-91c3d3b2af55",
        "outputId": "194e1c04-24a1-45ee-8b65-702f2a6cac9a"
      },
      "outputs": [
        {
          "data": {
            "text/plain": [
              "6"
            ]
          },
          "execution_count": 267,
          "metadata": {},
          "output_type": "execute_result"
        }
      ],
      "source": [
        "operator.mul(2, 3)"
      ]
    },
    {
      "cell_type": "code",
      "execution_count": null,
      "id": "aea44330-865d-424d-85b9-bf13db30ea6a",
      "metadata": {
        "id": "aea44330-865d-424d-85b9-bf13db30ea6a",
        "outputId": "7d13aefd-51f6-4b85-9275-ae427a10697a"
      },
      "outputs": [
        {
          "data": {
            "text/plain": [
              "8"
            ]
          },
          "execution_count": 268,
          "metadata": {},
          "output_type": "execute_result"
        }
      ],
      "source": [
        "operator.pow(2, 3)"
      ]
    },
    {
      "cell_type": "code",
      "execution_count": null,
      "id": "3bc9193f-6f8b-428b-9c25-bc702f6cd4d1",
      "metadata": {
        "id": "3bc9193f-6f8b-428b-9c25-bc702f6cd4d1",
        "outputId": "70f258f3-8960-42d3-8b08-4780338576a8"
      },
      "outputs": [
        {
          "data": {
            "text/plain": [
              "1"
            ]
          },
          "execution_count": 269,
          "metadata": {},
          "output_type": "execute_result"
        }
      ],
      "source": [
        "operator.mod(13, 2)"
      ]
    },
    {
      "cell_type": "code",
      "execution_count": null,
      "id": "e3a1d87f-88ac-44ba-a2a8-2f25424d9800",
      "metadata": {
        "id": "e3a1d87f-88ac-44ba-a2a8-2f25424d9800",
        "outputId": "955eae2f-81e9-4854-ac63-1f769829a539"
      },
      "outputs": [
        {
          "data": {
            "text/plain": [
              "6"
            ]
          },
          "execution_count": 270,
          "metadata": {},
          "output_type": "execute_result"
        }
      ],
      "source": [
        "operator.floordiv(13, 2)"
      ]
    },
    {
      "cell_type": "code",
      "execution_count": null,
      "id": "5e0deae3-04c8-4da8-85a1-cc9642ae5172",
      "metadata": {
        "id": "5e0deae3-04c8-4da8-85a1-cc9642ae5172",
        "outputId": "83c5144f-a0c1-44c7-8a58-262e779154dd"
      },
      "outputs": [
        {
          "data": {
            "text/plain": [
              "1.5"
            ]
          },
          "execution_count": 271,
          "metadata": {},
          "output_type": "execute_result"
        }
      ],
      "source": [
        "operator.truediv(3, 2)"
      ]
    },
    {
      "cell_type": "markdown",
      "id": "15ff5dfd-51a1-4381-a40f-ae387ed7d53f",
      "metadata": {
        "id": "15ff5dfd-51a1-4381-a40f-ae387ed7d53f"
      },
      "source": [
        "These would have been very handy in our previous section:"
      ]
    },
    {
      "cell_type": "code",
      "execution_count": null,
      "id": "54354b61-a992-4f68-ab15-2e982eb12f97",
      "metadata": {
        "id": "54354b61-a992-4f68-ab15-2e982eb12f97"
      },
      "outputs": [],
      "source": [
        "from functools import reduce"
      ]
    },
    {
      "cell_type": "code",
      "execution_count": null,
      "id": "e99850ea-3bc9-480d-bc9b-140c3e001bd9",
      "metadata": {
        "id": "e99850ea-3bc9-480d-bc9b-140c3e001bd9",
        "outputId": "2172925f-83bd-4a45-d590-0a5503bb1ced"
      },
      "outputs": [
        {
          "data": {
            "text/plain": [
              "24"
            ]
          },
          "execution_count": 274,
          "metadata": {},
          "output_type": "execute_result"
        }
      ],
      "source": [
        "reduce(lambda x, y: x*y, [1, 2, 3, 4])"
      ]
    },
    {
      "cell_type": "markdown",
      "id": "b268d3a9-26ca-40a9-ae74-bfc51aa040d0",
      "metadata": {
        "id": "b268d3a9-26ca-40a9-ae74-bfc51aa040d0"
      },
      "source": [
        "Instead of defining a lambda, we could simply use `operator.mul`"
      ]
    },
    {
      "cell_type": "code",
      "execution_count": null,
      "id": "d924cd32-90d0-476d-90aa-91e8f9103503",
      "metadata": {
        "id": "d924cd32-90d0-476d-90aa-91e8f9103503",
        "outputId": "c0134534-1260-4007-ec09-57d663b46315"
      },
      "outputs": [
        {
          "data": {
            "text/plain": [
              "24"
            ]
          },
          "execution_count": 275,
          "metadata": {},
          "output_type": "execute_result"
        }
      ],
      "source": [
        "reduce(operator.mul, [1, 2, 3, 4])"
      ]
    },
    {
      "cell_type": "markdown",
      "id": "92cd0c8b-3864-42d3-96b6-34861fc6ea5d",
      "metadata": {
        "id": "92cd0c8b-3864-42d3-96b6-34861fc6ea5d"
      },
      "source": [
        "**Comparison and Boolean Operators**"
      ]
    },
    {
      "cell_type": "markdown",
      "id": "71a725c8-b443-4a7c-a4aa-d56fca68f81c",
      "metadata": {
        "id": "71a725c8-b443-4a7c-a4aa-d56fca68f81c"
      },
      "source": [
        "Comparison and Boolean operators are also implemented as functions:"
      ]
    },
    {
      "cell_type": "code",
      "execution_count": null,
      "id": "a7e32a1a-aff9-443b-9758-2dd16d48df36",
      "metadata": {
        "id": "a7e32a1a-aff9-443b-9758-2dd16d48df36",
        "outputId": "2c0ba2ad-b982-4051-9c0c-34960114347b"
      },
      "outputs": [
        {
          "data": {
            "text/plain": [
              "True"
            ]
          },
          "execution_count": 277,
          "metadata": {},
          "output_type": "execute_result"
        }
      ],
      "source": [
        "operator.lt(10, 100)"
      ]
    },
    {
      "cell_type": "code",
      "execution_count": null,
      "id": "d3180a49-3ec4-490b-9d4d-5292934a6da1",
      "metadata": {
        "id": "d3180a49-3ec4-490b-9d4d-5292934a6da1",
        "outputId": "9381a77d-5da5-453f-f3ea-460f01173784"
      },
      "outputs": [
        {
          "data": {
            "text/plain": [
              "True"
            ]
          },
          "execution_count": 278,
          "metadata": {},
          "output_type": "execute_result"
        }
      ],
      "source": [
        "operator.le(10, 10)"
      ]
    },
    {
      "cell_type": "code",
      "execution_count": null,
      "id": "eaca2c6c-454a-4eca-be2a-2297fd032d9f",
      "metadata": {
        "id": "eaca2c6c-454a-4eca-be2a-2297fd032d9f",
        "outputId": "5cb97fa8-b47b-4478-f085-b39ae88498aa"
      },
      "outputs": [
        {
          "data": {
            "text/plain": [
              "False"
            ]
          },
          "execution_count": 279,
          "metadata": {},
          "output_type": "execute_result"
        }
      ],
      "source": [
        "operator.is_('abc', 'def')"
      ]
    },
    {
      "cell_type": "markdown",
      "id": "522614f5-6094-4585-a557-c87422de8b0c",
      "metadata": {
        "id": "522614f5-6094-4585-a557-c87422de8b0c"
      },
      "source": [
        "We can even get the truthyness of an object:"
      ]
    },
    {
      "cell_type": "code",
      "execution_count": null,
      "id": "a6db0527-c871-4c5a-b4c0-6832ad91543e",
      "metadata": {
        "id": "a6db0527-c871-4c5a-b4c0-6832ad91543e",
        "outputId": "cbcbff15-0d2e-488b-96fc-2ffa459c4368"
      },
      "outputs": [
        {
          "data": {
            "text/plain": [
              "True"
            ]
          },
          "execution_count": 281,
          "metadata": {},
          "output_type": "execute_result"
        }
      ],
      "source": [
        "operator.truth([1, 2])"
      ]
    },
    {
      "cell_type": "code",
      "execution_count": null,
      "id": "9ccbf5af-7c3b-4384-b248-336b81006e59",
      "metadata": {
        "id": "9ccbf5af-7c3b-4384-b248-336b81006e59",
        "outputId": "5ad46ff0-03bd-4875-aa9b-f7ef05aaa1f7"
      },
      "outputs": [
        {
          "data": {
            "text/plain": [
              "False"
            ]
          },
          "execution_count": 282,
          "metadata": {},
          "output_type": "execute_result"
        }
      ],
      "source": [
        "operator.truth([])"
      ]
    },
    {
      "cell_type": "code",
      "execution_count": null,
      "id": "39c591da-e49f-420d-a6c0-20b14e33a253",
      "metadata": {
        "id": "39c591da-e49f-420d-a6c0-20b14e33a253",
        "outputId": "c219a06f-9566-4141-b483-17ffce0f8ec9"
      },
      "outputs": [
        {
          "data": {
            "text/plain": [
              "False"
            ]
          },
          "execution_count": 283,
          "metadata": {},
          "output_type": "execute_result"
        }
      ],
      "source": [
        "operator.and_(True, False)"
      ]
    },
    {
      "cell_type": "code",
      "execution_count": null,
      "id": "02ef0b14-abe7-4b7a-b197-6ec659c1f7c2",
      "metadata": {
        "id": "02ef0b14-abe7-4b7a-b197-6ec659c1f7c2",
        "outputId": "8c68dfa6-1cd1-4a52-e268-a27e53e47600"
      },
      "outputs": [
        {
          "data": {
            "text/plain": [
              "True"
            ]
          },
          "execution_count": 284,
          "metadata": {},
          "output_type": "execute_result"
        }
      ],
      "source": [
        "operator.or_(True, False)"
      ]
    },
    {
      "cell_type": "markdown",
      "id": "15f2e277-7d18-40ec-8af0-ea0c90cb7dd0",
      "metadata": {
        "id": "15f2e277-7d18-40ec-8af0-ea0c90cb7dd0"
      },
      "source": [
        "**Element and Atribute Getters and Setters**"
      ]
    },
    {
      "cell_type": "markdown",
      "id": "44090b04-a381-4b9a-8006-31ee07fc1f01",
      "metadata": {
        "id": "44090b04-a381-4b9a-8006-31ee07fc1f01"
      },
      "source": [
        "We generally select an item by index from a sequence by using `[n]`"
      ]
    },
    {
      "cell_type": "code",
      "execution_count": null,
      "id": "b613e487-320d-445b-8dd8-e1754bfee595",
      "metadata": {
        "id": "b613e487-320d-445b-8dd8-e1754bfee595",
        "outputId": "823e2d10-2973-4f24-be8e-69f58a3d2fbb"
      },
      "outputs": [
        {
          "data": {
            "text/plain": [
              "2"
            ]
          },
          "execution_count": 285,
          "metadata": {},
          "output_type": "execute_result"
        }
      ],
      "source": [
        "my_list = [1, 2, 3, 4]\n",
        "my_list[1]"
      ]
    },
    {
      "cell_type": "markdown",
      "id": "cc9dd293-0025-4a6b-be0d-eab2f0a75ef8",
      "metadata": {
        "id": "cc9dd293-0025-4a6b-be0d-eab2f0a75ef8"
      },
      "source": [
        "We can do the same thing using:"
      ]
    },
    {
      "cell_type": "code",
      "execution_count": null,
      "id": "d9bfb53b-e299-4252-af37-2e40169ea743",
      "metadata": {
        "id": "d9bfb53b-e299-4252-af37-2e40169ea743",
        "outputId": "39303b6d-800e-4bb8-99d2-44e37d6fac7e"
      },
      "outputs": [
        {
          "data": {
            "text/plain": [
              "2"
            ]
          },
          "execution_count": 286,
          "metadata": {},
          "output_type": "execute_result"
        }
      ],
      "source": [
        "operator.getitem(my_list, 1)"
      ]
    },
    {
      "cell_type": "markdown",
      "id": "f9dff1bd-99d1-4f2d-b034-3a2d85732263",
      "metadata": {
        "id": "f9dff1bd-99d1-4f2d-b034-3a2d85732263"
      },
      "source": [
        "In the sequence is mutable, we can also set or remove items:"
      ]
    },
    {
      "cell_type": "code",
      "execution_count": null,
      "id": "4d4055e8-f3a2-4e1f-b6e5-221840da737e",
      "metadata": {
        "id": "4d4055e8-f3a2-4e1f-b6e5-221840da737e",
        "outputId": "a445a67f-2df2-40c5-c315-88e9acc4fd15"
      },
      "outputs": [
        {
          "name": "stdout",
          "output_type": "stream",
          "text": [
            "[1, 100, 3]\n"
          ]
        }
      ],
      "source": [
        "my_list = [1, 2, 3, 4]\n",
        "my_list[1] = 100\n",
        "del my_list[3]\n",
        "print(my_list)"
      ]
    },
    {
      "cell_type": "code",
      "execution_count": null,
      "id": "717061c5-cd7c-47fb-80b5-0401d230f8ca",
      "metadata": {
        "id": "717061c5-cd7c-47fb-80b5-0401d230f8ca",
        "outputId": "c7d8d6d9-c4a0-46ba-d254-2afd90309f54"
      },
      "outputs": [
        {
          "name": "stdout",
          "output_type": "stream",
          "text": [
            "[1, 100, 3]\n"
          ]
        }
      ],
      "source": [
        "my_list = [1, 2, 3, 4]\n",
        "operator.setitem(my_list, 1, 100)\n",
        "operator.delitem(my_list,3)\n",
        "print(my_list)"
      ]
    },
    {
      "cell_type": "markdown",
      "id": "5f2e1e1c-2f80-4a8f-8939-6d7b01a10426",
      "metadata": {
        "id": "5f2e1e1c-2f80-4a8f-8939-6d7b01a10426"
      },
      "source": [
        "We can also do the same thing using the `operator` module's `itemgetter` function.\n",
        "\n",
        "The difference is that this returns a callable:"
      ]
    },
    {
      "cell_type": "code",
      "execution_count": null,
      "id": "99f1c87d-72cb-4306-ab81-fcf3bd67ecdf",
      "metadata": {
        "id": "99f1c87d-72cb-4306-ab81-fcf3bd67ecdf"
      },
      "outputs": [],
      "source": [
        "f = operator.itemgetter(2)"
      ]
    },
    {
      "cell_type": "markdown",
      "id": "8af133fd-45c8-449b-a7fe-05006e3bc1d1",
      "metadata": {
        "id": "8af133fd-45c8-449b-a7fe-05006e3bc1d1"
      },
      "source": [
        "Now, `f(my_list)` will return `my_list[2]`"
      ]
    },
    {
      "cell_type": "code",
      "execution_count": null,
      "id": "ddcc75a5-10a6-4aa2-8695-a889e7a12407",
      "metadata": {
        "id": "ddcc75a5-10a6-4aa2-8695-a889e7a12407",
        "outputId": "8f8b183b-3421-4e01-b896-9b1f6b9d5d4a"
      },
      "outputs": [
        {
          "data": {
            "text/plain": [
              "3"
            ]
          },
          "execution_count": 290,
          "metadata": {},
          "output_type": "execute_result"
        }
      ],
      "source": [
        "f(my_list)"
      ]
    },
    {
      "cell_type": "code",
      "execution_count": null,
      "id": "a0ae8144-ffdd-42a8-992c-2d7aed5d7575",
      "metadata": {
        "id": "a0ae8144-ffdd-42a8-992c-2d7aed5d7575",
        "outputId": "33ec0f4e-7437-432e-ad35-e1eb213d8ec0"
      },
      "outputs": [
        {
          "data": {
            "text/plain": [
              "'t'"
            ]
          },
          "execution_count": 291,
          "metadata": {},
          "output_type": "execute_result"
        }
      ],
      "source": [
        "x = 'python'\n",
        "f(x)"
      ]
    },
    {
      "cell_type": "markdown",
      "id": "5a4d0c58-8dba-49c6-a549-e6f1793e23d4",
      "metadata": {
        "id": "5a4d0c58-8dba-49c6-a549-e6f1793e23d4"
      },
      "source": [
        "Furthermore, we can pass more than one index to `itemgetter`:"
      ]
    },
    {
      "cell_type": "code",
      "execution_count": null,
      "id": "7ad75a33-c5ff-4562-8d1e-f9e43efac4fc",
      "metadata": {
        "id": "7ad75a33-c5ff-4562-8d1e-f9e43efac4fc"
      },
      "outputs": [],
      "source": [
        "f = operator.itemgetter(2, 3)"
      ]
    },
    {
      "cell_type": "code",
      "execution_count": null,
      "id": "11271ba9-8baa-4ff0-a3df-ca3ff3782505",
      "metadata": {
        "id": "11271ba9-8baa-4ff0-a3df-ca3ff3782505",
        "outputId": "65cd2982-5d94-42a4-d7fe-b6195bb9aace"
      },
      "outputs": [
        {
          "data": {
            "text/plain": [
              "(3, 4)"
            ]
          },
          "execution_count": 293,
          "metadata": {},
          "output_type": "execute_result"
        }
      ],
      "source": [
        "my_list = [1, 2, 3, 4]\n",
        "f(my_list)"
      ]
    },
    {
      "cell_type": "code",
      "execution_count": null,
      "id": "9efe1bbe-8336-4608-bc88-44d87fd227fa",
      "metadata": {
        "id": "9efe1bbe-8336-4608-bc88-44d87fd227fa",
        "outputId": "e8684e91-093b-4910-f9ae-44e77b653fe1"
      },
      "outputs": [
        {
          "data": {
            "text/plain": [
              "('t', 'h')"
            ]
          },
          "execution_count": 294,
          "metadata": {},
          "output_type": "execute_result"
        }
      ],
      "source": [
        "x = 'python'\n",
        "f(x)"
      ]
    },
    {
      "cell_type": "markdown",
      "id": "7f5ecdd6-d729-4771-ba61-6af387bf6239",
      "metadata": {
        "id": "7f5ecdd6-d729-4771-ba61-6af387bf6239"
      },
      "source": [
        "Similarly, `operator.attrgetter` does the same thing, but with object attributes."
      ]
    },
    {
      "cell_type": "code",
      "execution_count": null,
      "id": "eda468de-ba5b-4fde-a20f-a89b6f928f2c",
      "metadata": {
        "id": "eda468de-ba5b-4fde-a20f-a89b6f928f2c"
      },
      "outputs": [],
      "source": [
        "class MyClass:\n",
        "    def __init__(self):\n",
        "        self.a = 10\n",
        "        self.b = 20\n",
        "        self.c = 30\n",
        "\n",
        "    def test(self):\n",
        "        print('test method running...')"
      ]
    },
    {
      "cell_type": "code",
      "execution_count": null,
      "id": "0d44882a-33f7-441d-978e-281f76c2ba2e",
      "metadata": {
        "id": "0d44882a-33f7-441d-978e-281f76c2ba2e"
      },
      "outputs": [],
      "source": [
        "obj = MyClass()"
      ]
    },
    {
      "cell_type": "code",
      "execution_count": null,
      "id": "05a7393b-34bc-4695-a71c-d7b9ede1b465",
      "metadata": {
        "id": "05a7393b-34bc-4695-a71c-d7b9ede1b465",
        "outputId": "bcf49006-9253-4f40-cba0-b4162861d013"
      },
      "outputs": [
        {
          "data": {
            "text/plain": [
              "(10, 20, 30)"
            ]
          },
          "execution_count": 297,
          "metadata": {},
          "output_type": "execute_result"
        }
      ],
      "source": [
        "obj.a, obj.b, obj.c"
      ]
    },
    {
      "cell_type": "code",
      "execution_count": null,
      "id": "cd39a168-636a-4a70-9832-4a9922a63388",
      "metadata": {
        "id": "cd39a168-636a-4a70-9832-4a9922a63388"
      },
      "outputs": [],
      "source": [
        "f = operator.attrgetter('a')"
      ]
    },
    {
      "cell_type": "code",
      "execution_count": null,
      "id": "fe67e4ca-e65d-4a53-87a5-6caa6ac107df",
      "metadata": {
        "id": "fe67e4ca-e65d-4a53-87a5-6caa6ac107df",
        "outputId": "b884b8fe-b2d4-41f2-ddc0-c6e6064a26c1"
      },
      "outputs": [
        {
          "data": {
            "text/plain": [
              "10"
            ]
          },
          "execution_count": 299,
          "metadata": {},
          "output_type": "execute_result"
        }
      ],
      "source": [
        "f(obj)"
      ]
    },
    {
      "cell_type": "code",
      "execution_count": null,
      "id": "d7710893-c7ab-4808-9589-9a76a6456023",
      "metadata": {
        "id": "d7710893-c7ab-4808-9589-9a76a6456023",
        "outputId": "ca6dd973-23e0-430e-dee9-da28cf158b8c"
      },
      "outputs": [
        {
          "data": {
            "text/plain": [
              "20"
            ]
          },
          "execution_count": 300,
          "metadata": {},
          "output_type": "execute_result"
        }
      ],
      "source": [
        "my_var = 'b'\n",
        "operator.attrgetter(my_var)(obj)"
      ]
    },
    {
      "cell_type": "code",
      "execution_count": null,
      "id": "8bebd68f-f386-4a02-b252-25db18db851b",
      "metadata": {
        "id": "8bebd68f-f386-4a02-b252-25db18db851b",
        "outputId": "045835f4-4ee6-4503-ca36-675b191039eb"
      },
      "outputs": [
        {
          "data": {
            "text/plain": [
              "30"
            ]
          },
          "execution_count": 301,
          "metadata": {},
          "output_type": "execute_result"
        }
      ],
      "source": [
        "my_var = 'c'\n",
        "operator.attrgetter(my_var)(obj)"
      ]
    },
    {
      "cell_type": "code",
      "execution_count": null,
      "id": "a5ddbeab-f6ce-4c7d-8a52-5e8747e83e03",
      "metadata": {
        "id": "a5ddbeab-f6ce-4c7d-8a52-5e8747e83e03"
      },
      "outputs": [],
      "source": [
        "f = operator.attrgetter('a', 'b', 'c')"
      ]
    },
    {
      "cell_type": "code",
      "execution_count": null,
      "id": "dcf75a9c-cef7-4dcd-9eca-dddab4c0fa6f",
      "metadata": {
        "id": "dcf75a9c-cef7-4dcd-9eca-dddab4c0fa6f",
        "outputId": "e8e29450-c926-4ec4-dfb9-bbf6be0ca464"
      },
      "outputs": [
        {
          "data": {
            "text/plain": [
              "(10, 20, 30)"
            ]
          },
          "execution_count": 303,
          "metadata": {},
          "output_type": "execute_result"
        }
      ],
      "source": [
        "f(obj)"
      ]
    },
    {
      "cell_type": "markdown",
      "id": "df6937e4-a70b-4fd5-b16d-4a523710468b",
      "metadata": {
        "id": "df6937e4-a70b-4fd5-b16d-4a523710468b"
      },
      "source": [
        "Of course, attributes can also be methods.\n",
        "In this case, `attrgetter` will return the object's `test` method - a callable that can then ve called using `()`:"
      ]
    },
    {
      "cell_type": "code",
      "execution_count": null,
      "id": "c58915d8-b5f1-489e-ac11-a41bf3b26bce",
      "metadata": {
        "id": "c58915d8-b5f1-489e-ac11-a41bf3b26bce"
      },
      "outputs": [],
      "source": [
        "f = operator.attrgetter('test')"
      ]
    },
    {
      "cell_type": "code",
      "execution_count": null,
      "id": "02da76ba-96b3-4c64-839f-250d78aaa9ad",
      "metadata": {
        "id": "02da76ba-96b3-4c64-839f-250d78aaa9ad"
      },
      "outputs": [],
      "source": [
        "obj_test_method = f(obj)"
      ]
    },
    {
      "cell_type": "code",
      "execution_count": null,
      "id": "5f8a7f15-ca26-4712-9d49-31e424b534ac",
      "metadata": {
        "id": "5f8a7f15-ca26-4712-9d49-31e424b534ac",
        "outputId": "b7ae5406-ca06-4c42-8e7a-d18eeb1b7c76"
      },
      "outputs": [
        {
          "name": "stdout",
          "output_type": "stream",
          "text": [
            "test method running...\n"
          ]
        }
      ],
      "source": [
        "obj_test_method()"
      ]
    },
    {
      "cell_type": "markdown",
      "id": "613b4c69-7f5d-4fa2-9ac4-06d5c0a19f64",
      "metadata": {
        "id": "613b4c69-7f5d-4fa2-9ac4-06d5c0a19f64"
      },
      "source": [
        "Just like lambdas, we do not need to assign them to a variable name in order to use them:"
      ]
    },
    {
      "cell_type": "code",
      "execution_count": null,
      "id": "84ba0d60-2195-4602-986c-11031de6de7c",
      "metadata": {
        "id": "84ba0d60-2195-4602-986c-11031de6de7c",
        "outputId": "caa58663-e886-4502-d21f-88b902575c1e"
      },
      "outputs": [
        {
          "data": {
            "text/plain": [
              "(10, 20)"
            ]
          },
          "execution_count": 307,
          "metadata": {},
          "output_type": "execute_result"
        }
      ],
      "source": [
        "operator.attrgetter('a', 'b')(obj)"
      ]
    },
    {
      "cell_type": "code",
      "execution_count": null,
      "id": "eb392edf-9da5-4c62-bc2d-5c7facbe5abe",
      "metadata": {
        "id": "eb392edf-9da5-4c62-bc2d-5c7facbe5abe",
        "outputId": "98613673-0cf7-44d3-bf5f-ff31cb7e00b7"
      },
      "outputs": [
        {
          "data": {
            "text/plain": [
              "('t', 'h')"
            ]
          },
          "execution_count": 308,
          "metadata": {},
          "output_type": "execute_result"
        }
      ],
      "source": [
        "operator.itemgetter(2, 3)('python')"
      ]
    },
    {
      "cell_type": "markdown",
      "id": "5c5a1752-1770-4637-9834-a64445f40aef",
      "metadata": {
        "id": "5c5a1752-1770-4637-9834-a64445f40aef"
      },
      "source": [
        "\\Of course, we can achieve the same thing using functions or lambdas:"
      ]
    },
    {
      "cell_type": "code",
      "execution_count": null,
      "id": "9b188062-7314-4b86-a02f-6eb7936f6dd6",
      "metadata": {
        "id": "9b188062-7314-4b86-a02f-6eb7936f6dd6"
      },
      "outputs": [],
      "source": [
        "f = lambda x: (x.a, x.b, x.c)"
      ]
    },
    {
      "cell_type": "code",
      "execution_count": null,
      "id": "4c4e0af3-35c5-40ed-be5d-6e17ebb485f0",
      "metadata": {
        "id": "4c4e0af3-35c5-40ed-be5d-6e17ebb485f0",
        "outputId": "7f1f063e-957f-426b-8d18-3eca07054cbf"
      },
      "outputs": [
        {
          "data": {
            "text/plain": [
              "(10, 20, 30)"
            ]
          },
          "execution_count": 311,
          "metadata": {},
          "output_type": "execute_result"
        }
      ],
      "source": [
        "f(obj)"
      ]
    },
    {
      "cell_type": "code",
      "execution_count": null,
      "id": "b2bdf9a3-1126-43e2-84ea-bdd3b6f2cc19",
      "metadata": {
        "id": "b2bdf9a3-1126-43e2-84ea-bdd3b6f2cc19"
      },
      "outputs": [],
      "source": [
        "f = lambda x: (x[2], x[3])"
      ]
    },
    {
      "cell_type": "code",
      "execution_count": null,
      "id": "89371cfa-fe76-4b9f-8ce8-5805af0fc950",
      "metadata": {
        "id": "89371cfa-fe76-4b9f-8ce8-5805af0fc950",
        "outputId": "1a494bb7-0ba6-4959-88b3-ec29d0fa7482"
      },
      "outputs": [
        {
          "data": {
            "text/plain": [
              "(3, 4)"
            ]
          },
          "execution_count": 313,
          "metadata": {},
          "output_type": "execute_result"
        }
      ],
      "source": [
        "f([1, 2, 3, 4])"
      ]
    },
    {
      "cell_type": "code",
      "execution_count": null,
      "id": "c88f1a16-0afb-4139-8508-9d7df3d38ba1",
      "metadata": {
        "id": "c88f1a16-0afb-4139-8508-9d7df3d38ba1",
        "outputId": "897f7ddf-3fb7-4cf7-9ea8-d68951be70f1"
      },
      "outputs": [
        {
          "data": {
            "text/plain": [
              "('t', 'h')"
            ]
          },
          "execution_count": 314,
          "metadata": {},
          "output_type": "execute_result"
        }
      ],
      "source": [
        "f('python')"
      ]
    },
    {
      "cell_type": "markdown",
      "id": "aa5a14b6-eace-4edc-9495-1ba3504f8beb",
      "metadata": {
        "id": "aa5a14b6-eace-4edc-9495-1ba3504f8beb"
      },
      "source": [
        "**Use Case Example: Sorting**"
      ]
    },
    {
      "cell_type": "markdown",
      "id": "23aa5484-c0f9-4e49-bd0c-dfbb9abe4395",
      "metadata": {
        "id": "23aa5484-c0f9-4e49-bd0c-dfbb9abe4395"
      },
      "source": [
        "Suppose we want to sort a list of complex numbers based on the real part of the numbers:"
      ]
    },
    {
      "cell_type": "code",
      "execution_count": null,
      "id": "17d5d450-87e2-4987-b230-8e16b176a408",
      "metadata": {
        "id": "17d5d450-87e2-4987-b230-8e16b176a408",
        "outputId": "0c2602eb-12fb-42ce-e8ba-831acdc1a1fd"
      },
      "outputs": [
        {
          "data": {
            "text/plain": [
              "2.0"
            ]
          },
          "execution_count": 315,
          "metadata": {},
          "output_type": "execute_result"
        }
      ],
      "source": [
        "a = 2 + 5j\n",
        "a.real"
      ]
    },
    {
      "cell_type": "code",
      "execution_count": null,
      "id": "20fc83e4-13d0-4db1-8a68-3d9d479d826e",
      "metadata": {
        "id": "20fc83e4-13d0-4db1-8a68-3d9d479d826e",
        "outputId": "bf02cb2f-c823-4b5d-987e-b03d3d90799d"
      },
      "outputs": [
        {
          "data": {
            "text/plain": [
              "[(5+3j), (8+2j), (10+1j)]"
            ]
          },
          "execution_count": 316,
          "metadata": {},
          "output_type": "execute_result"
        }
      ],
      "source": [
        "l = [10+1j, 8+2j, 5+3j]\n",
        "sorted(l, key=operator.attrgetter('real'))"
      ]
    },
    {
      "cell_type": "markdown",
      "id": "1eccd8d4-e0cb-4e9c-9d58-5df8a965fda9",
      "metadata": {
        "id": "1eccd8d4-e0cb-4e9c-9d58-5df8a965fda9"
      },
      "source": [
        "Or if we want to sort a list of string based on the last character of the strings:"
      ]
    },
    {
      "cell_type": "code",
      "execution_count": null,
      "id": "eab07bb3-cfd3-46d2-88b2-9e21f73e3a2c",
      "metadata": {
        "id": "eab07bb3-cfd3-46d2-88b2-9e21f73e3a2c"
      },
      "outputs": [],
      "source": [
        "l = ['aaz', 'aad', 'aaa', 'aac']"
      ]
    },
    {
      "cell_type": "markdown",
      "id": "301b5cc8-aadc-486d-839f-b31784c4c404",
      "metadata": {
        "id": "301b5cc8-aadc-486d-839f-b31784c4c404"
      },
      "source": [
        "Or maybe we want to sort a list of tuples based on the first item of each tuple:"
      ]
    },
    {
      "cell_type": "code",
      "execution_count": null,
      "id": "800fda08-b318-4eb8-8443-09dfa0ac8f60",
      "metadata": {
        "id": "800fda08-b318-4eb8-8443-09dfa0ac8f60",
        "outputId": "0b4b1933-debd-4098-c5b5-19f097648dc5"
      },
      "outputs": [
        {
          "data": {
            "text/plain": [
              "[(1, 2, 3), (2, 3, 4), (3, 4), (4,)]"
            ]
          },
          "execution_count": 318,
          "metadata": {},
          "output_type": "execute_result"
        }
      ],
      "source": [
        "l = [(2, 3, 4), (1, 2, 3), (4, ), (3, 4)]\n",
        "sorted(l, key=operator.itemgetter(0))"
      ]
    },
    {
      "cell_type": "markdown",
      "id": "7d1bfb71-ba18-489f-aef1-2abb9993f63e",
      "metadata": {
        "id": "7d1bfb71-ba18-489f-aef1-2abb9993f63e"
      },
      "source": [
        "**Slicing**"
      ]
    },
    {
      "cell_type": "code",
      "execution_count": null,
      "id": "481b3296-6ca5-4be6-8b6c-429152a0436b",
      "metadata": {
        "id": "481b3296-6ca5-4be6-8b6c-429152a0436b"
      },
      "outputs": [],
      "source": [
        "l = [1, 2, 3, 4]"
      ]
    },
    {
      "cell_type": "code",
      "execution_count": null,
      "id": "cae1ea6e-ef76-464d-9b03-4827ab65203f",
      "metadata": {
        "id": "cae1ea6e-ef76-464d-9b03-4827ab65203f",
        "outputId": "9a680d87-43c8-4925-f0e8-3e9cc4a4d525"
      },
      "outputs": [
        {
          "data": {
            "text/plain": [
              "[1, 2]"
            ]
          },
          "execution_count": 320,
          "metadata": {},
          "output_type": "execute_result"
        }
      ],
      "source": [
        "l[0:2]"
      ]
    },
    {
      "cell_type": "code",
      "execution_count": null,
      "id": "6aa69260-418e-44a6-98f5-06e9a1c74658",
      "metadata": {
        "id": "6aa69260-418e-44a6-98f5-06e9a1c74658",
        "outputId": "b3971483-ec7b-4dec-8fa3-840032a314f6"
      },
      "outputs": [
        {
          "name": "stdout",
          "output_type": "stream",
          "text": [
            "['a', 'b', 'c', 3, 4]\n"
          ]
        }
      ],
      "source": [
        "l[0:2] = ['a', 'b', 'c']\n",
        "print(l)"
      ]
    },
    {
      "cell_type": "code",
      "execution_count": null,
      "id": "de271825-580a-4a77-a9ff-acc1ee09096c",
      "metadata": {
        "id": "de271825-580a-4a77-a9ff-acc1ee09096c",
        "outputId": "ab305b72-17bd-4b15-9b90-99608937b151"
      },
      "outputs": [
        {
          "name": "stdout",
          "output_type": "stream",
          "text": [
            "['a', 'b', 'c']\n"
          ]
        }
      ],
      "source": [
        "del l[3:5]\n",
        "print(l)"
      ]
    },
    {
      "cell_type": "markdown",
      "id": "727f5b0c-136c-4f9f-89a1-2dc35ea06eb3",
      "metadata": {
        "id": "727f5b0c-136c-4f9f-89a1-2dc35ea06eb3"
      },
      "source": [
        "We can do the same thing this way:"
      ]
    },
    {
      "cell_type": "code",
      "execution_count": null,
      "id": "21d8eb6b-d0e8-48c0-993d-e9cead93efc5",
      "metadata": {
        "id": "21d8eb6b-d0e8-48c0-993d-e9cead93efc5"
      },
      "outputs": [],
      "source": [
        "l = [1, 2, 3, 4]"
      ]
    },
    {
      "cell_type": "code",
      "execution_count": null,
      "id": "53c6d439-e3b4-4ea8-a350-008c65f84c5b",
      "metadata": {
        "id": "53c6d439-e3b4-4ea8-a350-008c65f84c5b",
        "outputId": "b241f735-d7d7-4f23-c51f-c49b797196f4"
      },
      "outputs": [
        {
          "data": {
            "text/plain": [
              "[1, 2]"
            ]
          },
          "execution_count": 324,
          "metadata": {},
          "output_type": "execute_result"
        }
      ],
      "source": [
        "operator.getitem(l, slice(0,2))"
      ]
    },
    {
      "cell_type": "code",
      "execution_count": null,
      "id": "5710feb5-8404-4037-b479-ab046730acf5",
      "metadata": {
        "id": "5710feb5-8404-4037-b479-ab046730acf5",
        "outputId": "57225af0-f533-4a7c-939d-662818edb88f"
      },
      "outputs": [
        {
          "name": "stdout",
          "output_type": "stream",
          "text": [
            "['a', 'b', 'c', 3, 4]\n"
          ]
        }
      ],
      "source": [
        "operator.setitem(l, slice(0,2), ['a', 'b', 'c'])\n",
        "print(l)"
      ]
    },
    {
      "cell_type": "code",
      "execution_count": null,
      "id": "05b68756-7436-4bfe-8fd3-8d3ff5a2855c",
      "metadata": {
        "id": "05b68756-7436-4bfe-8fd3-8d3ff5a2855c",
        "outputId": "f4156986-6536-458a-a960-83a937255a13"
      },
      "outputs": [
        {
          "name": "stdout",
          "output_type": "stream",
          "text": [
            "['a', 'b', 'c']\n"
          ]
        }
      ],
      "source": [
        "operator.delitem(l, slice(3, 5))\n",
        "print(l)"
      ]
    },
    {
      "cell_type": "markdown",
      "id": "0f43b8a3-a26b-444f-89a1-b0969326c459",
      "metadata": {
        "id": "0f43b8a3-a26b-444f-89a1-b0969326c459"
      },
      "source": [
        "**Calling another Callable**"
      ]
    },
    {
      "cell_type": "code",
      "execution_count": null,
      "id": "c3ab5a61-f7f4-4dcc-9acf-58cb53639684",
      "metadata": {
        "id": "c3ab5a61-f7f4-4dcc-9acf-58cb53639684",
        "outputId": "7cb375bc-b1ef-4720-90de-43db05f35741"
      },
      "outputs": [
        {
          "data": {
            "text/plain": [
              "'PYTHON'"
            ]
          },
          "execution_count": 327,
          "metadata": {},
          "output_type": "execute_result"
        }
      ],
      "source": [
        "x = 'python'\n",
        "x.upper()"
      ]
    },
    {
      "cell_type": "code",
      "execution_count": null,
      "id": "c2f575f2-27fc-48cb-a50d-59c4d9c2f80b",
      "metadata": {
        "id": "c2f575f2-27fc-48cb-a50d-59c4d9c2f80b",
        "outputId": "df12c416-1973-45b9-a61a-3baaecc766f8"
      },
      "outputs": [
        {
          "data": {
            "text/plain": [
              "'PYTHON'"
            ]
          },
          "execution_count": 328,
          "metadata": {},
          "output_type": "execute_result"
        }
      ],
      "source": [
        "operator.methodcaller('upper')('python')"
      ]
    },
    {
      "cell_type": "markdown",
      "id": "feb90b54-4bad-44e4-8401-d7df91ad4a7b",
      "metadata": {
        "id": "feb90b54-4bad-44e4-8401-d7df91ad4a7b"
      },
      "source": [
        "Of course, since `upper` is just an attribute of the string object `x`, we could also have used:"
      ]
    },
    {
      "cell_type": "code",
      "execution_count": null,
      "id": "9621c9b8-a835-483d-9901-76a3085ff07c",
      "metadata": {
        "id": "9621c9b8-a835-483d-9901-76a3085ff07c",
        "outputId": "8a4f244f-9a90-44c7-9377-72e1c2ff7985"
      },
      "outputs": [
        {
          "data": {
            "text/plain": [
              "'PYTHON'"
            ]
          },
          "execution_count": 329,
          "metadata": {},
          "output_type": "execute_result"
        }
      ],
      "source": [
        "operator.attrgetter('upper')(x)()"
      ]
    },
    {
      "cell_type": "markdown",
      "id": "75003d40-04b5-4cec-97b5-f03e95d153fc",
      "metadata": {
        "id": "75003d40-04b5-4cec-97b5-f03e95d153fc"
      },
      "source": [
        "If the callable takes in more than one parameter, they can be specified as additional arguments in `methodcaller`:"
      ]
    },
    {
      "cell_type": "code",
      "execution_count": null,
      "id": "32f8f623-724e-453a-b8b5-d56d07609563",
      "metadata": {
        "id": "32f8f623-724e-453a-b8b5-d56d07609563"
      },
      "outputs": [],
      "source": [
        "class MyClass:\n",
        "    def __init__(self):\n",
        "        self.a = 10\n",
        "        self.b = 20\n",
        "\n",
        "    def do_something(self, c):\n",
        "        print(self.a, self.b, c)"
      ]
    },
    {
      "cell_type": "code",
      "execution_count": null,
      "id": "1f8e5bff-0fdb-46fb-84fd-147ed529e446",
      "metadata": {
        "id": "1f8e5bff-0fdb-46fb-84fd-147ed529e446"
      },
      "outputs": [],
      "source": [
        "obj = MyClass()"
      ]
    },
    {
      "cell_type": "code",
      "execution_count": null,
      "id": "86102bc3-abde-4192-a29b-563710a8a143",
      "metadata": {
        "id": "86102bc3-abde-4192-a29b-563710a8a143",
        "outputId": "ba964c6a-0ac5-4a24-b754-5fab418f49e9"
      },
      "outputs": [
        {
          "name": "stdout",
          "output_type": "stream",
          "text": [
            "10 20 100\n"
          ]
        }
      ],
      "source": [
        "obj.do_something(100)"
      ]
    },
    {
      "cell_type": "code",
      "execution_count": null,
      "id": "7af306bd-e123-4b3c-9a9d-c25e1db38217",
      "metadata": {
        "id": "7af306bd-e123-4b3c-9a9d-c25e1db38217",
        "outputId": "660cbcc0-caa5-402b-8228-7531a9cdee67"
      },
      "outputs": [
        {
          "name": "stdout",
          "output_type": "stream",
          "text": [
            "10 20 100\n"
          ]
        }
      ],
      "source": [
        "operator.methodcaller('do_something', 100)(obj)"
      ]
    },
    {
      "cell_type": "code",
      "execution_count": null,
      "id": "12d5c53d-4652-4f12-a0df-7da403741fb1",
      "metadata": {
        "id": "12d5c53d-4652-4f12-a0df-7da403741fb1"
      },
      "outputs": [],
      "source": [
        "class MyClass:\n",
        "    def __init__(self):\n",
        "        self.a = 10\n",
        "        self.b = 20\n",
        "    \n",
        "    def do_something(self, *, c):\n",
        "        print(self.a, self.b, c)"
      ]
    },
    {
      "cell_type": "code",
      "execution_count": null,
      "id": "6bfd9e66-4709-4c90-951b-4b7c7e70832f",
      "metadata": {
        "id": "6bfd9e66-4709-4c90-951b-4b7c7e70832f",
        "outputId": "119fe90d-9603-4b51-cd58-bd55971d54d7"
      },
      "outputs": [
        {
          "name": "stdout",
          "output_type": "stream",
          "text": [
            "10 20 100\n"
          ]
        }
      ],
      "source": [
        "obj.do_something(c=100)"
      ]
    },
    {
      "cell_type": "code",
      "execution_count": null,
      "id": "d28562df-c347-41da-91e1-dfe7da373a05",
      "metadata": {
        "id": "d28562df-c347-41da-91e1-dfe7da373a05",
        "outputId": "208bdbf3-b530-4fa4-f88d-667ba2c49b4d"
      },
      "outputs": [
        {
          "name": "stdout",
          "output_type": "stream",
          "text": [
            "10 20 100\n"
          ]
        }
      ],
      "source": [
        "operator.methodcaller('do_something', c=100)(obj)"
      ]
    },
    {
      "cell_type": "markdown",
      "id": "65b85a18-2ab1-4780-819c-0ccb796c5fb1",
      "metadata": {
        "id": "65b85a18-2ab1-4780-819c-0ccb796c5fb1"
      },
      "source": [
        "More information on the `operator` module can be found here:\n",
        "\n",
        "https://docs.python.org/3/library/operator.html"
      ]
    }
  ],
  "metadata": {
    "kernelspec": {
      "display_name": "Python 3 (ipykernel)",
      "language": "python",
      "name": "python3"
    },
    "language_info": {
      "codemirror_mode": {
        "name": "ipython",
        "version": 3
      },
      "file_extension": ".py",
      "mimetype": "text/x-python",
      "name": "python",
      "nbconvert_exporter": "python",
      "pygments_lexer": "ipython3",
      "version": "3.9.12"
    },
    "colab": {
      "provenance": [],
      "include_colab_link": true
    }
  },
  "nbformat": 4,
  "nbformat_minor": 5
}