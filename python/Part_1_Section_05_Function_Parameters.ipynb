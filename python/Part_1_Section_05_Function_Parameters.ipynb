{
  "cells": [
    {
      "cell_type": "markdown",
      "metadata": {
        "id": "view-in-github",
        "colab_type": "text"
      },
      "source": [
        "<a href=\"https://colab.research.google.com/github/aserdargun/DSML101/blob/main/python/Part_1_Section_05_Function_Parameters.ipynb\" target=\"_parent\"><img src=\"https://colab.research.google.com/assets/colab-badge.svg\" alt=\"Open In Colab\"/></a>"
      ]
    },
    {
      "cell_type": "markdown",
      "id": "a36e4f51-5563-41dd-a715-e7f9d8c067bd",
      "metadata": {
        "id": "a36e4f51-5563-41dd-a715-e7f9d8c067bd"
      },
      "source": [
        "# **PART 1: FUNCTIONAL PROGRAMMING**"
      ]
    },
    {
      "cell_type": "markdown",
      "id": "225a8ca4-ed29-4c00-9e7e-1f3c5dcef076",
      "metadata": {
        "id": "225a8ca4-ed29-4c00-9e7e-1f3c5dcef076"
      },
      "source": [
        "## Section 05 - Function Parameters"
      ]
    },
    {
      "cell_type": "markdown",
      "id": "74c115e8-097e-49a5-bb97-15078c3b5788",
      "metadata": {
        "id": "74c115e8-097e-49a5-bb97-15078c3b5788"
      },
      "source": [
        "### 01 - Positional Arguments"
      ]
    },
    {
      "cell_type": "code",
      "execution_count": null,
      "id": "0604f561-e7ab-4cab-85cd-c524b0a6d45b",
      "metadata": {
        "id": "0604f561-e7ab-4cab-85cd-c524b0a6d45b"
      },
      "outputs": [],
      "source": [
        "def my_func(a, b, c):\n",
        "    print(\"a={0}, b={1}, c={2}\".format(a, b, c))"
      ]
    },
    {
      "cell_type": "code",
      "execution_count": null,
      "id": "25accc12-634f-4c74-9598-911770c82602",
      "metadata": {
        "id": "25accc12-634f-4c74-9598-911770c82602",
        "outputId": "4a3a7e82-6909-48e8-ade2-96819368e989"
      },
      "outputs": [
        {
          "name": "stdout",
          "output_type": "stream",
          "text": [
            "a=1, b=2, c=3\n"
          ]
        }
      ],
      "source": [
        "my_func(1, 2, 3)"
      ]
    },
    {
      "cell_type": "markdown",
      "id": "d55f08d8-8720-4b12-b94b-c38102ae27ef",
      "metadata": {
        "id": "d55f08d8-8720-4b12-b94b-c38102ae27ef"
      },
      "source": [
        "**Default Values**"
      ]
    },
    {
      "cell_type": "code",
      "execution_count": null,
      "id": "c3c50739-d21c-4cfd-9aa3-bfcc65cf15eb",
      "metadata": {
        "id": "c3c50739-d21c-4cfd-9aa3-bfcc65cf15eb",
        "outputId": "5a309742-902f-4bbe-9add-3cdd9af29e52"
      },
      "outputs": [
        {
          "ename": "SyntaxError",
          "evalue": "non-default argument follows default argument (2564994128.py, line 1)",
          "output_type": "error",
          "traceback": [
            "\u001b[1;36m  Input \u001b[1;32mIn [3]\u001b[1;36m\u001b[0m\n\u001b[1;33m    def my_func(a, b=2, c):\u001b[0m\n\u001b[1;37m                         ^\u001b[0m\n\u001b[1;31mSyntaxError\u001b[0m\u001b[1;31m:\u001b[0m non-default argument follows default argument\n"
          ]
        }
      ],
      "source": [
        "def my_func(a, b=2, c):\n",
        "    print(a, b, c)"
      ]
    },
    {
      "cell_type": "code",
      "execution_count": null,
      "id": "b6d7c2a8-f432-4d68-82f1-9acbff665ef2",
      "metadata": {
        "id": "b6d7c2a8-f432-4d68-82f1-9acbff665ef2",
        "outputId": "c44ffcff-4ecb-45c6-baae-a41abd193b36"
      },
      "outputs": [
        {
          "name": "stdout",
          "output_type": "stream",
          "text": [
            "a=10, b=20, c=30\n"
          ]
        }
      ],
      "source": [
        "my_func(10, 20, 30)"
      ]
    },
    {
      "cell_type": "code",
      "execution_count": null,
      "id": "c658724b-5cf3-4230-ac86-d41f4c097556",
      "metadata": {
        "id": "c658724b-5cf3-4230-ac86-d41f4c097556",
        "outputId": "a5dcd754-f8e3-4d21-fc58-fda3e060d82b"
      },
      "outputs": [
        {
          "ename": "TypeError",
          "evalue": "my_func() missing 1 required positional argument: 'c'",
          "output_type": "error",
          "traceback": [
            "\u001b[1;31m---------------------------------------------------------------------------\u001b[0m",
            "\u001b[1;31mTypeError\u001b[0m                                 Traceback (most recent call last)",
            "Input \u001b[1;32mIn [5]\u001b[0m, in \u001b[0;36m<cell line: 1>\u001b[1;34m()\u001b[0m\n\u001b[1;32m----> 1\u001b[0m \u001b[43mmy_func\u001b[49m\u001b[43m(\u001b[49m\u001b[38;5;241;43m10\u001b[39;49m\u001b[43m,\u001b[49m\u001b[43m \u001b[49m\u001b[38;5;241;43m20\u001b[39;49m\u001b[43m)\u001b[49m\n",
            "\u001b[1;31mTypeError\u001b[0m: my_func() missing 1 required positional argument: 'c'"
          ]
        }
      ],
      "source": [
        "my_func(10, 20)"
      ]
    },
    {
      "cell_type": "code",
      "execution_count": null,
      "id": "0b812e2a-0171-4d7d-8814-193082429ccf",
      "metadata": {
        "id": "0b812e2a-0171-4d7d-8814-193082429ccf",
        "outputId": "fcb0769a-7979-4b6c-e992-f4a67db0d077"
      },
      "outputs": [
        {
          "ename": "TypeError",
          "evalue": "my_func() missing 2 required positional arguments: 'b' and 'c'",
          "output_type": "error",
          "traceback": [
            "\u001b[1;31m---------------------------------------------------------------------------\u001b[0m",
            "\u001b[1;31mTypeError\u001b[0m                                 Traceback (most recent call last)",
            "Input \u001b[1;32mIn [6]\u001b[0m, in \u001b[0;36m<cell line: 1>\u001b[1;34m()\u001b[0m\n\u001b[1;32m----> 1\u001b[0m \u001b[43mmy_func\u001b[49m\u001b[43m(\u001b[49m\u001b[38;5;241;43m10\u001b[39;49m\u001b[43m)\u001b[49m\n",
            "\u001b[1;31mTypeError\u001b[0m: my_func() missing 2 required positional arguments: 'b' and 'c'"
          ]
        }
      ],
      "source": [
        "my_func(10)"
      ]
    },
    {
      "cell_type": "markdown",
      "id": "83981af3-42be-4299-83f9-becd6964a481",
      "metadata": {
        "id": "83981af3-42be-4299-83f9-becd6964a481"
      },
      "source": [
        "Since `a` does not have a default value, it must be specified:"
      ]
    },
    {
      "cell_type": "code",
      "execution_count": null,
      "id": "9d91456e-7db6-4d7e-85f0-dbdd4d48ffdb",
      "metadata": {
        "id": "9d91456e-7db6-4d7e-85f0-dbdd4d48ffdb",
        "outputId": "b3b6ced6-905c-42bd-d891-adbd4b4ff6e7"
      },
      "outputs": [
        {
          "ename": "TypeError",
          "evalue": "my_func() missing 3 required positional arguments: 'a', 'b', and 'c'",
          "output_type": "error",
          "traceback": [
            "\u001b[1;31m---------------------------------------------------------------------------\u001b[0m",
            "\u001b[1;31mTypeError\u001b[0m                                 Traceback (most recent call last)",
            "Input \u001b[1;32mIn [7]\u001b[0m, in \u001b[0;36m<cell line: 1>\u001b[1;34m()\u001b[0m\n\u001b[1;32m----> 1\u001b[0m \u001b[43mmy_func\u001b[49m\u001b[43m(\u001b[49m\u001b[43m)\u001b[49m\n",
            "\u001b[1;31mTypeError\u001b[0m: my_func() missing 3 required positional arguments: 'a', 'b', and 'c'"
          ]
        }
      ],
      "source": [
        "my_func()"
      ]
    },
    {
      "cell_type": "markdown",
      "id": "2fabaf07-4e15-40ce-af2f-cd09197a2e4f",
      "metadata": {
        "id": "2fabaf07-4e15-40ce-af2f-cd09197a2e4f"
      },
      "source": [
        "**Keyword Arguments (named arguments)**"
      ]
    },
    {
      "cell_type": "markdown",
      "id": "29c4721e-2757-4737-ba03-2daf9289834b",
      "metadata": {
        "id": "29c4721e-2757-4737-ba03-2daf9289834b"
      },
      "source": [
        "Positional arguments, can optionally, be specified using their corresponding parameter name.\n",
        "\n",
        "This allows us to pass the arguments without using the positional assignment:"
      ]
    },
    {
      "cell_type": "code",
      "execution_count": null,
      "id": "58565de4-b2aa-45ae-aa1d-875c6e2cf3c8",
      "metadata": {
        "id": "58565de4-b2aa-45ae-aa1d-875c6e2cf3c8"
      },
      "outputs": [],
      "source": [
        "def my_func(a, b=2, c=3):\n",
        "    print(\"a={0}, b={1}, c={2}\".format(a, b, c))"
      ]
    },
    {
      "cell_type": "code",
      "execution_count": null,
      "id": "bd9e0283-e6aa-4891-b0d1-87b1ef8ffce1",
      "metadata": {
        "id": "bd9e0283-e6aa-4891-b0d1-87b1ef8ffce1",
        "outputId": "17b9de86-be1d-4bac-d833-c5deb443c6e5"
      },
      "outputs": [
        {
          "name": "stdout",
          "output_type": "stream",
          "text": [
            "a=10, b=20, c=30\n"
          ]
        }
      ],
      "source": [
        "my_func(c=30, b=20, a=10)"
      ]
    },
    {
      "cell_type": "code",
      "execution_count": null,
      "id": "f2b722f0-1e54-4f95-8a3f-a87857b0d828",
      "metadata": {
        "id": "f2b722f0-1e54-4f95-8a3f-a87857b0d828",
        "outputId": "f4248638-7e52-4a7c-ef5b-39db6b467180"
      },
      "outputs": [
        {
          "name": "stdout",
          "output_type": "stream",
          "text": [
            "a=10, b=20, c=30\n"
          ]
        }
      ],
      "source": [
        "my_func(10, c=30, b=20)"
      ]
    },
    {
      "cell_type": "markdown",
      "id": "873c0bcb-cc3c-48dd-941b-ac1fbe314a87",
      "metadata": {
        "id": "873c0bcb-cc3c-48dd-941b-ac1fbe314a87"
      },
      "source": [
        "---\n",
        "**BE CAREFUL!**"
      ]
    },
    {
      "cell_type": "markdown",
      "id": "fbcbad15-6645-4078-a9bb-77ba8c78b497",
      "metadata": {
        "id": "fbcbad15-6645-4078-a9bb-77ba8c78b497"
      },
      "source": [
        "*Note that once a keyword argument has been used, all arguments thereafter must also be named:*"
      ]
    },
    {
      "cell_type": "code",
      "execution_count": null,
      "id": "e8f9b743-dc26-4130-9d1d-731a33ab2d48",
      "metadata": {
        "id": "e8f9b743-dc26-4130-9d1d-731a33ab2d48",
        "outputId": "237dda3d-0e38-47fc-8e95-bbe7f6d9a292"
      },
      "outputs": [
        {
          "ename": "SyntaxError",
          "evalue": "positional argument follows keyword argument (3343971405.py, line 1)",
          "output_type": "error",
          "traceback": [
            "\u001b[1;36m  Input \u001b[1;32mIn [11]\u001b[1;36m\u001b[0m\n\u001b[1;33m    my_func(10, b=20, 30)\u001b[0m\n\u001b[1;37m                        ^\u001b[0m\n\u001b[1;31mSyntaxError\u001b[0m\u001b[1;31m:\u001b[0m positional argument follows keyword argument\n"
          ]
        }
      ],
      "source": [
        "my_func(10, b=20, 30)"
      ]
    },
    {
      "cell_type": "markdown",
      "id": "dcb92992-47fa-4bf0-9f61-d582da334bf2",
      "metadata": {
        "id": "dcb92992-47fa-4bf0-9f61-d582da334bf2"
      },
      "source": [
        "However, if a parameter has a default value, it an be omitted from the argument list, named or not:"
      ]
    },
    {
      "cell_type": "code",
      "execution_count": null,
      "id": "6e6ab64d-5486-4f26-86f6-f7d698c15ba5",
      "metadata": {
        "id": "6e6ab64d-5486-4f26-86f6-f7d698c15ba5",
        "outputId": "d9694c29-2f6b-488f-a67f-15178e61c8de"
      },
      "outputs": [
        {
          "name": "stdout",
          "output_type": "stream",
          "text": [
            "a=10, b=2, c=30\n"
          ]
        }
      ],
      "source": [
        "my_func(10, c=30)"
      ]
    },
    {
      "cell_type": "code",
      "execution_count": null,
      "id": "6defb193-c046-4764-aa32-623e786b9140",
      "metadata": {
        "id": "6defb193-c046-4764-aa32-623e786b9140",
        "outputId": "853cbf13-e08d-40af-d1fd-3c890f883db3"
      },
      "outputs": [
        {
          "name": "stdout",
          "output_type": "stream",
          "text": [
            "a=30, b=2, c=10\n"
          ]
        }
      ],
      "source": [
        "my_func(a=30, c=10)"
      ]
    },
    {
      "cell_type": "code",
      "execution_count": null,
      "id": "05344fac-8498-4834-ae6f-e1d0fd2cc35b",
      "metadata": {
        "id": "05344fac-8498-4834-ae6f-e1d0fd2cc35b",
        "outputId": "be96aedf-360c-414d-f921-e28ce839a712"
      },
      "outputs": [
        {
          "name": "stdout",
          "output_type": "stream",
          "text": [
            "a=30, b=2, c=10\n"
          ]
        }
      ],
      "source": [
        "my_func(c=10, a=30)"
      ]
    },
    {
      "cell_type": "markdown",
      "id": "aabca605-9826-4765-843b-6c8b4a8c66ba",
      "metadata": {
        "id": "aabca605-9826-4765-843b-6c8b4a8c66ba"
      },
      "source": [
        "### 02 - Unpacking Iterables"
      ]
    },
    {
      "cell_type": "markdown",
      "id": "df876fd6-2895-4f37-8d6f-708a3876d707",
      "metadata": {
        "id": "df876fd6-2895-4f37-8d6f-708a3876d707"
      },
      "source": [
        "**Side Note on Tuples**"
      ]
    },
    {
      "cell_type": "markdown",
      "id": "72b634ef-831e-4f53-bbe5-27cbf5693fce",
      "metadata": {
        "id": "72b634ef-831e-4f53-bbe5-27cbf5693fce"
      },
      "source": [
        "This is a tuple:"
      ]
    },
    {
      "cell_type": "code",
      "execution_count": null,
      "id": "6d622de3-1f5e-40b6-b521-ac4a122bdf5e",
      "metadata": {
        "id": "6d622de3-1f5e-40b6-b521-ac4a122bdf5e"
      },
      "outputs": [],
      "source": [
        "a = (1, 2, 3)"
      ]
    },
    {
      "cell_type": "code",
      "execution_count": null,
      "id": "c5f216b9-4e3e-424b-884c-118b745fb3e2",
      "metadata": {
        "id": "c5f216b9-4e3e-424b-884c-118b745fb3e2",
        "outputId": "31f7c53c-a410-4a27-882b-ab2368bda74b"
      },
      "outputs": [
        {
          "data": {
            "text/plain": [
              "tuple"
            ]
          },
          "execution_count": 17,
          "metadata": {},
          "output_type": "execute_result"
        }
      ],
      "source": [
        "type(a)"
      ]
    },
    {
      "cell_type": "markdown",
      "id": "1abcda45-db1d-48ea-9239-c62ce8e3913e",
      "metadata": {
        "id": "1abcda45-db1d-48ea-9239-c62ce8e3913e"
      },
      "source": [
        "This is also a tuple:"
      ]
    },
    {
      "cell_type": "code",
      "execution_count": null,
      "id": "8a11749a-1ce8-462b-b8ea-e9fc7a349fa3",
      "metadata": {
        "id": "8a11749a-1ce8-462b-b8ea-e9fc7a349fa3"
      },
      "outputs": [],
      "source": [
        "a = 1, 2, 3"
      ]
    },
    {
      "cell_type": "code",
      "execution_count": null,
      "id": "eae6c0fd-2346-4e14-af2a-2bef0fe70928",
      "metadata": {
        "id": "eae6c0fd-2346-4e14-af2a-2bef0fe70928",
        "outputId": "ac7c53aa-f6a2-46b7-c415-22f86c3bf18d"
      },
      "outputs": [
        {
          "data": {
            "text/plain": [
              "tuple"
            ]
          },
          "execution_count": 19,
          "metadata": {},
          "output_type": "execute_result"
        }
      ],
      "source": [
        "type(a)"
      ]
    },
    {
      "cell_type": "markdown",
      "id": "e8879ac7-56d6-48fe-9b70-7424254429b4",
      "metadata": {
        "id": "e8879ac7-56d6-48fe-9b70-7424254429b4"
      },
      "source": [
        "In fact what defines a tuple is not `()`, but the `,` (comma)\n",
        "\n",
        "To create a tuple with a single element:"
      ]
    },
    {
      "cell_type": "code",
      "execution_count": null,
      "id": "222f8e9c-aeb4-4e63-9f1d-3826d282e799",
      "metadata": {
        "id": "222f8e9c-aeb4-4e63-9f1d-3826d282e799"
      },
      "outputs": [],
      "source": [
        "a = (1)"
      ]
    },
    {
      "cell_type": "markdown",
      "id": "d1248dcd-d025-4bbc-8a0a-889e72859a44",
      "metadata": {
        "id": "d1248dcd-d025-4bbc-8a0a-889e72859a44"
      },
      "source": [
        "will not work!!"
      ]
    },
    {
      "cell_type": "code",
      "execution_count": null,
      "id": "4dc82ce8-830d-461e-a9e5-5fb4f0fe77fb",
      "metadata": {
        "id": "4dc82ce8-830d-461e-a9e5-5fb4f0fe77fb",
        "outputId": "6eb1fcc9-dfff-49d9-9216-b434a7e2b6ac"
      },
      "outputs": [
        {
          "data": {
            "text/plain": [
              "int"
            ]
          },
          "execution_count": 21,
          "metadata": {},
          "output_type": "execute_result"
        }
      ],
      "source": [
        "type(a)"
      ]
    },
    {
      "cell_type": "markdown",
      "id": "fad50be1-8f6f-4cc0-afd3-c91a8e2335de",
      "metadata": {
        "id": "fad50be1-8f6f-4cc0-afd3-c91a8e2335de"
      },
      "source": [
        "Instead, we have to use a comma:"
      ]
    },
    {
      "cell_type": "code",
      "execution_count": null,
      "id": "e28fdcda-8c12-4277-9abd-c47d40a75d3f",
      "metadata": {
        "id": "e28fdcda-8c12-4277-9abd-c47d40a75d3f"
      },
      "outputs": [],
      "source": [
        "a = (1,)"
      ]
    },
    {
      "cell_type": "code",
      "execution_count": null,
      "id": "3a79ead0-2bd7-4cc9-afb9-9196f1278207",
      "metadata": {
        "id": "3a79ead0-2bd7-4cc9-afb9-9196f1278207",
        "outputId": "d34c9422-7897-4e6e-e7f6-769ece2f339b"
      },
      "outputs": [
        {
          "data": {
            "text/plain": [
              "tuple"
            ]
          },
          "execution_count": 23,
          "metadata": {},
          "output_type": "execute_result"
        }
      ],
      "source": [
        "type(a)"
      ]
    },
    {
      "cell_type": "markdown",
      "id": "409b4a72-f624-4e30-ae0a-8f2e4664b008",
      "metadata": {
        "id": "409b4a72-f624-4e30-ae0a-8f2e4664b008"
      },
      "source": [
        "And in fact, we don't even need the `()`:"
      ]
    },
    {
      "cell_type": "code",
      "execution_count": null,
      "id": "48802fe4-7257-4993-aae8-eccb0f181d05",
      "metadata": {
        "id": "48802fe4-7257-4993-aae8-eccb0f181d05"
      },
      "outputs": [],
      "source": [
        "a = 1,"
      ]
    },
    {
      "cell_type": "code",
      "execution_count": null,
      "id": "aae4a733-aadf-447b-8ac0-bfec5d9f872c",
      "metadata": {
        "id": "aae4a733-aadf-447b-8ac0-bfec5d9f872c",
        "outputId": "6afbf55e-d386-4197-e687-dd63c251eda3"
      },
      "outputs": [
        {
          "data": {
            "text/plain": [
              "tuple"
            ]
          },
          "execution_count": 25,
          "metadata": {},
          "output_type": "execute_result"
        }
      ],
      "source": [
        "type(a)"
      ]
    },
    {
      "cell_type": "markdown",
      "id": "81bfafbb-d173-4658-a9ba-88b7949296bb",
      "metadata": {
        "id": "81bfafbb-d173-4658-a9ba-88b7949296bb"
      },
      "source": [
        "The only exception is to create an empty tuple:"
      ]
    },
    {
      "cell_type": "code",
      "execution_count": null,
      "id": "c7423daa-8bcd-49ac-b7d1-fb84e344f299",
      "metadata": {
        "id": "c7423daa-8bcd-49ac-b7d1-fb84e344f299"
      },
      "outputs": [],
      "source": [
        "a = ()"
      ]
    },
    {
      "cell_type": "code",
      "execution_count": null,
      "id": "8139b45c-a8d7-4fde-9848-01b879177eac",
      "metadata": {
        "id": "8139b45c-a8d7-4fde-9848-01b879177eac",
        "outputId": "13da9fb2-2226-4ed6-bf05-57bb4e926f94"
      },
      "outputs": [
        {
          "data": {
            "text/plain": [
              "tuple"
            ]
          },
          "execution_count": 27,
          "metadata": {},
          "output_type": "execute_result"
        }
      ],
      "source": [
        "type(a)"
      ]
    },
    {
      "cell_type": "markdown",
      "id": "72114a9c-2b1e-469e-83fd-249657d8d8f5",
      "metadata": {
        "id": "72114a9c-2b1e-469e-83fd-249657d8d8f5"
      },
      "source": [
        "Or we can use the tuple constructor:"
      ]
    },
    {
      "cell_type": "code",
      "execution_count": null,
      "id": "c66a1d0b-aba9-4d1a-b86e-ca3924fae518",
      "metadata": {
        "id": "c66a1d0b-aba9-4d1a-b86e-ca3924fae518"
      },
      "outputs": [],
      "source": [
        "a = tuple()"
      ]
    },
    {
      "cell_type": "code",
      "execution_count": null,
      "id": "87048610-59e8-4bea-85c4-bdb4f4ee5c28",
      "metadata": {
        "id": "87048610-59e8-4bea-85c4-bdb4f4ee5c28",
        "outputId": "ecdfeaff-7ec8-4ae2-9822-132765f679e0"
      },
      "outputs": [
        {
          "data": {
            "text/plain": [
              "tuple"
            ]
          },
          "execution_count": 29,
          "metadata": {},
          "output_type": "execute_result"
        }
      ],
      "source": [
        "type(a)"
      ]
    },
    {
      "cell_type": "markdown",
      "id": "33e55e9b-9bf1-4f1d-a293-676350e2eaa5",
      "metadata": {
        "id": "33e55e9b-9bf1-4f1d-a293-676350e2eaa5"
      },
      "source": [
        "**Unpacking**"
      ]
    },
    {
      "cell_type": "markdown",
      "id": "198a3553-8a5b-407d-8d81-ad3797d0e15a",
      "metadata": {
        "id": "198a3553-8a5b-407d-8d81-ad3797d0e15a"
      },
      "source": [
        "Unpacking is a way to split an iterable object into individual variables contained in a list or tuple:"
      ]
    },
    {
      "cell_type": "code",
      "execution_count": null,
      "id": "09183c3d-7dd0-4ef8-9437-72a79d60f2cd",
      "metadata": {
        "id": "09183c3d-7dd0-4ef8-9437-72a79d60f2cd"
      },
      "outputs": [],
      "source": [
        "l = [1, 2, 3, 4]"
      ]
    },
    {
      "cell_type": "code",
      "execution_count": null,
      "id": "6f8f6389-2f2a-4cfc-8642-598afb98852f",
      "metadata": {
        "id": "6f8f6389-2f2a-4cfc-8642-598afb98852f"
      },
      "outputs": [],
      "source": [
        "a, b, c, d = l"
      ]
    },
    {
      "cell_type": "code",
      "execution_count": null,
      "id": "411e2f0f-dc44-4ed4-849d-dc6fba894b40",
      "metadata": {
        "id": "411e2f0f-dc44-4ed4-849d-dc6fba894b40",
        "outputId": "a0e49d7e-d625-4bf1-8280-c8c420e32615"
      },
      "outputs": [
        {
          "name": "stdout",
          "output_type": "stream",
          "text": [
            "1 2 3 4\n"
          ]
        }
      ],
      "source": [
        "print(a, b, c, d)"
      ]
    },
    {
      "cell_type": "markdown",
      "id": "5dba5733-683e-4e4e-a5e5-6fc700acd8d3",
      "metadata": {
        "id": "5dba5733-683e-4e4e-a5e5-6fc700acd8d3"
      },
      "source": [
        "Strings are iterables too:"
      ]
    },
    {
      "cell_type": "code",
      "execution_count": null,
      "id": "09262816-2e74-480c-92d0-4614702eed49",
      "metadata": {
        "id": "09262816-2e74-480c-92d0-4614702eed49",
        "outputId": "52bad33c-dd3f-4893-e76b-00f66d551fad"
      },
      "outputs": [
        {
          "name": "stdout",
          "output_type": "stream",
          "text": [
            "X Y Z\n"
          ]
        }
      ],
      "source": [
        "a, b, c = 'XYZ'\n",
        "print(a, b, c)"
      ]
    },
    {
      "cell_type": "markdown",
      "id": "834f847e-0c57-467a-8964-9c277fc6645b",
      "metadata": {
        "id": "834f847e-0c57-467a-8964-9c277fc6645b"
      },
      "source": [
        "**Swapping Two Variables**"
      ]
    },
    {
      "cell_type": "markdown",
      "id": "5fbae3b1-4345-4f95-8137-1a2c3c1af3e8",
      "metadata": {
        "id": "5fbae3b1-4345-4f95-8137-1a2c3c1af3e8"
      },
      "source": [
        "Here's a quick application of unpacking to swap ehe values of two variables.\n",
        "\n",
        "First we look at the \"traditional\" way you would have to do it in other languages such as Java:"
      ]
    },
    {
      "cell_type": "code",
      "execution_count": null,
      "id": "9ba0ef41-ff17-405e-a6fd-e22990437c15",
      "metadata": {
        "id": "9ba0ef41-ff17-405e-a6fd-e22990437c15",
        "outputId": "a15e7857-cd98-453e-a28a-0febfce52ba9"
      },
      "outputs": [
        {
          "name": "stdout",
          "output_type": "stream",
          "text": [
            "a=10, b=20\n",
            "a=20, b=10\n"
          ]
        }
      ],
      "source": [
        "a = 10\n",
        "b = 20\n",
        "print(\"a={0}, b={1}\".format(a, b))\n",
        "\n",
        "tmp = a\n",
        "a = b\n",
        "b = tmp\n",
        "print(\"a={0}, b={1}\".format(a, b))"
      ]
    },
    {
      "cell_type": "markdown",
      "id": "b12907d9-599a-4640-a4f1-c2a9a6a3f40d",
      "metadata": {
        "id": "b12907d9-599a-4640-a4f1-c2a9a6a3f40d"
      },
      "source": [
        "But using unpacking we can simplify this:"
      ]
    },
    {
      "cell_type": "code",
      "execution_count": null,
      "id": "ae0408b4-a95a-4de3-81c6-bda87ab70aeb",
      "metadata": {
        "id": "ae0408b4-a95a-4de3-81c6-bda87ab70aeb",
        "outputId": "04135847-1b90-404f-d53b-f0bb57c64b0b"
      },
      "outputs": [
        {
          "name": "stdout",
          "output_type": "stream",
          "text": [
            "a=10, b=20\n",
            "a=20, b=10\n"
          ]
        }
      ],
      "source": [
        "a = 10\n",
        "b = 20\n",
        "print(\"a={0}, b={1}\".format(a, b))\n",
        "\n",
        "a, b = b, a\n",
        "print(\"a={0}, b={1}\".format(a, b))"
      ]
    },
    {
      "cell_type": "markdown",
      "id": "9b6d1161-be36-4aba-ac71-f88e175bcdb0",
      "metadata": {
        "id": "9b6d1161-be36-4aba-ac71-f88e175bcdb0"
      },
      "source": [
        "In fact, we can even simplify the initial assignment of values to a and b as follows:"
      ]
    },
    {
      "cell_type": "code",
      "execution_count": null,
      "id": "190765a3-d657-4cd8-9377-c475640d4ad6",
      "metadata": {
        "id": "190765a3-d657-4cd8-9377-c475640d4ad6",
        "outputId": "efc63757-c73d-4866-a33c-f9565023a022"
      },
      "outputs": [
        {
          "name": "stdout",
          "output_type": "stream",
          "text": [
            "a=10, b=20\n",
            "a=20, b=10\n"
          ]
        }
      ],
      "source": [
        "a, b = 10, 20\n",
        "print(\"a={0}, b={1}\".format(a, b))\n",
        "\n",
        "a,b = b, a\n",
        "print(\"a={0}, b={1}\".format(a, b))"
      ]
    },
    {
      "cell_type": "markdown",
      "id": "3a0be44a-ef74-49b0-adad-59aeff83d0ca",
      "metadata": {
        "id": "3a0be44a-ef74-49b0-adad-59aeff83d0ca"
      },
      "source": [
        "**Unpacking Unordered Objects**"
      ]
    },
    {
      "cell_type": "code",
      "execution_count": null,
      "id": "d35056e8-0d09-465b-b571-0233feeb464b",
      "metadata": {
        "id": "d35056e8-0d09-465b-b571-0233feeb464b"
      },
      "outputs": [],
      "source": [
        "dict1 = {'p': 1, 'y': 2, 't': 3, 'h': 4, 'o': 5, 'n': 6}"
      ]
    },
    {
      "cell_type": "code",
      "execution_count": null,
      "id": "36b8d21e-f1c1-4916-8b35-d506603409c2",
      "metadata": {
        "id": "36b8d21e-f1c1-4916-8b35-d506603409c2",
        "outputId": "2a639189-3cf7-4588-b285-f9bcbc95c54e"
      },
      "outputs": [
        {
          "data": {
            "text/plain": [
              "{'p': 1, 'y': 2, 't': 3, 'h': 4, 'o': 5, 'n': 6}"
            ]
          },
          "execution_count": 38,
          "metadata": {},
          "output_type": "execute_result"
        }
      ],
      "source": [
        "dict1"
      ]
    },
    {
      "cell_type": "code",
      "execution_count": null,
      "id": "961723cf-5eab-4894-a80f-37daedef9936",
      "metadata": {
        "id": "961723cf-5eab-4894-a80f-37daedef9936",
        "outputId": "cc3230b7-fee7-4ccf-8283-a732a374177e"
      },
      "outputs": [
        {
          "name": "stdout",
          "output_type": "stream",
          "text": [
            "p\n",
            "y\n",
            "t\n",
            "h\n",
            "o\n",
            "n\n"
          ]
        }
      ],
      "source": [
        "for c in dict1:\n",
        "    print(c)"
      ]
    },
    {
      "cell_type": "code",
      "execution_count": null,
      "id": "5729b39f-bb94-47bb-a02b-dea3d8735f75",
      "metadata": {
        "id": "5729b39f-bb94-47bb-a02b-dea3d8735f75",
        "outputId": "dc2d615e-bc19-45e4-fada-37e8a78fdcd1"
      },
      "outputs": [
        {
          "name": "stdout",
          "output_type": "stream",
          "text": [
            "p\n",
            "y\n",
            "t\n",
            "h\n",
            "o\n",
            "n\n"
          ]
        }
      ],
      "source": [
        "a, b, c, d, e, f = dict1\n",
        "print(a)\n",
        "print(b)\n",
        "print(c)\n",
        "print(d)\n",
        "print(e)\n",
        "print(f)"
      ]
    },
    {
      "cell_type": "markdown",
      "id": "700774d7-4fe6-48b0-8fc5-e54576e61fa5",
      "metadata": {
        "id": "700774d7-4fe6-48b0-8fc5-e54576e61fa5"
      },
      "source": [
        "---\n",
        "**BE CAREFUL!**"
      ]
    },
    {
      "cell_type": "markdown",
      "id": "23cb9680-481e-455f-8306-5e6c2c8d76af",
      "metadata": {
        "id": "23cb9680-481e-455f-8306-5e6c2c8d76af"
      },
      "source": [
        "*Note that this order is not guaranteed. You can always use an OrderedDict if that is requirement.*\n",
        "\n",
        "*The same applies to sets.*"
      ]
    },
    {
      "cell_type": "code",
      "execution_count": null,
      "id": "38279c08-42d3-4a62-a3c2-ba60e45ce2a3",
      "metadata": {
        "id": "38279c08-42d3-4a62-a3c2-ba60e45ce2a3"
      },
      "outputs": [],
      "source": [
        "s = {'p', 'y', 't', 'h', 'o', 'n'}"
      ]
    },
    {
      "cell_type": "code",
      "execution_count": null,
      "id": "0f7c2c5a-5d2f-4604-afe1-f69568a81000",
      "metadata": {
        "id": "0f7c2c5a-5d2f-4604-afe1-f69568a81000",
        "outputId": "dd0e0a2a-2df2-40a8-d3e7-6e8c6a1c1412"
      },
      "outputs": [
        {
          "data": {
            "text/plain": [
              "set"
            ]
          },
          "execution_count": 42,
          "metadata": {},
          "output_type": "execute_result"
        }
      ],
      "source": [
        "type(s)"
      ]
    },
    {
      "cell_type": "code",
      "execution_count": null,
      "id": "f2ed7dc8-635f-4d9b-8c09-9cacfd816e8f",
      "metadata": {
        "id": "f2ed7dc8-635f-4d9b-8c09-9cacfd816e8f",
        "outputId": "9baba6c2-37d0-491b-bbe4-34a8e2d73590"
      },
      "outputs": [
        {
          "name": "stdout",
          "output_type": "stream",
          "text": [
            "{'p', 'o', 'n', 'y', 't', 'h'}\n"
          ]
        }
      ],
      "source": [
        "print(s)"
      ]
    },
    {
      "cell_type": "code",
      "execution_count": null,
      "id": "c8875da3-b5c1-423a-81bd-cc2a695d107a",
      "metadata": {
        "id": "c8875da3-b5c1-423a-81bd-cc2a695d107a",
        "outputId": "7715a867-349a-4403-850b-75856194dc4a"
      },
      "outputs": [
        {
          "name": "stdout",
          "output_type": "stream",
          "text": [
            "p\n",
            "o\n",
            "n\n",
            "y\n",
            "t\n",
            "h\n"
          ]
        }
      ],
      "source": [
        "for c in s:\n",
        "    print(c)"
      ]
    },
    {
      "cell_type": "code",
      "execution_count": null,
      "id": "44616567-07da-49de-8844-04544c873560",
      "metadata": {
        "id": "44616567-07da-49de-8844-04544c873560"
      },
      "outputs": [],
      "source": [
        "a, b, c, d, e, f = s"
      ]
    },
    {
      "cell_type": "code",
      "execution_count": null,
      "id": "043d42d6-e1ef-4f86-abf0-54306facb5e0",
      "metadata": {
        "id": "043d42d6-e1ef-4f86-abf0-54306facb5e0",
        "outputId": "7714d206-44c2-4857-c31e-b21d9cdebdad"
      },
      "outputs": [
        {
          "name": "stdout",
          "output_type": "stream",
          "text": [
            "p\n",
            "o\n",
            "n\n",
            "y\n",
            "t\n",
            "h\n"
          ]
        }
      ],
      "source": [
        "print(a)\n",
        "print(b)\n",
        "print(c)\n",
        "print(d)\n",
        "print(e)\n",
        "print(f)"
      ]
    },
    {
      "cell_type": "markdown",
      "id": "481be9a6-7a1c-4285-8c3c-be262af6f976",
      "metadata": {
        "id": "481be9a6-7a1c-4285-8c3c-be262af6f976"
      },
      "source": [
        "### 03 - Extended Unpacking"
      ]
    },
    {
      "cell_type": "markdown",
      "id": "a8212343-03bd-46e9-ba87-788434488281",
      "metadata": {
        "id": "a8212343-03bd-46e9-ba87-788434488281"
      },
      "source": [
        "Let's see how we might split a list into it's first element, and \"everything else\" using slicing:"
      ]
    },
    {
      "cell_type": "code",
      "execution_count": null,
      "id": "92b0b90d-6689-4266-b930-545cf51b9127",
      "metadata": {
        "id": "92b0b90d-6689-4266-b930-545cf51b9127"
      },
      "outputs": [],
      "source": [
        "l = [1, 2, 3, 4, 5, 6]"
      ]
    },
    {
      "cell_type": "code",
      "execution_count": null,
      "id": "26090d8b-48e4-4ab8-a8fc-e9134d451b47",
      "metadata": {
        "id": "26090d8b-48e4-4ab8-a8fc-e9134d451b47",
        "outputId": "f70e3c29-636c-4821-8a7d-3c0df92a21db"
      },
      "outputs": [
        {
          "name": "stdout",
          "output_type": "stream",
          "text": [
            "1\n",
            "[2, 3, 4, 5, 6]\n"
          ]
        }
      ],
      "source": [
        "a = l[0]\n",
        "b = l[1:]\n",
        "print(a)\n",
        "print(b)"
      ]
    },
    {
      "cell_type": "markdown",
      "id": "066ee70d-a344-42cd-b38c-b26a3ef58ade",
      "metadata": {
        "id": "066ee70d-a344-42cd-b38c-b26a3ef58ade"
      },
      "source": [
        "We can even use unpacking to simplify this slightly:"
      ]
    },
    {
      "cell_type": "code",
      "execution_count": null,
      "id": "cc1fbaec-7ffd-48d2-a634-57600ac917d1",
      "metadata": {
        "id": "cc1fbaec-7ffd-48d2-a634-57600ac917d1",
        "outputId": "adf7f182-3d94-4b71-f5bf-dd669ec3fa65"
      },
      "outputs": [
        {
          "name": "stdout",
          "output_type": "stream",
          "text": [
            "1\n",
            "[2, 3, 4, 5, 6]\n"
          ]
        }
      ],
      "source": [
        "a, *b = l\n",
        "print(a)\n",
        "print(b)"
      ]
    },
    {
      "cell_type": "markdown",
      "id": "6f8b8a34-02d2-4e45-a903-8c8c5ac46d10",
      "metadata": {
        "id": "6f8b8a34-02d2-4e45-a903-8c8c5ac46d10"
      },
      "source": [
        "---\n",
        "\n",
        "**BE CAREFUL!**"
      ]
    },
    {
      "cell_type": "markdown",
      "id": "c588e503-e7eb-435e-b959-68edde90e410",
      "metadata": {
        "id": "c588e503-e7eb-435e-b959-68edde90e410"
      },
      "source": [
        "Note that the `*` operator can only appear once in left hand side!\n",
        "\n",
        "*On the other hand, Right hand side it is OK to use.*"
      ]
    },
    {
      "cell_type": "markdown",
      "id": "d31680ae-615d-4cdd-8476-b9be7c5de449",
      "metadata": {
        "id": "d31680ae-615d-4cdd-8476-b9be7c5de449"
      },
      "source": [
        "Like standard unpacking, this extended unpacking will work with any iterable.\n",
        "\n",
        "With tuples:"
      ]
    },
    {
      "cell_type": "code",
      "execution_count": null,
      "id": "ce4bf21f-b8bc-4fd1-ad04-b8333b76cd1f",
      "metadata": {
        "id": "ce4bf21f-b8bc-4fd1-ad04-b8333b76cd1f",
        "outputId": "436a67d9-e321-400d-b860-e0412b80a9a9"
      },
      "outputs": [
        {
          "name": "stdout",
          "output_type": "stream",
          "text": [
            "-10\n",
            "[5, 2, 100]\n"
          ]
        }
      ],
      "source": [
        "a, *b = -10, 5, 2, 100\n",
        "print(a)\n",
        "print(b)"
      ]
    },
    {
      "cell_type": "markdown",
      "id": "b270fec4-b574-45ca-a2db-b55fee641b5f",
      "metadata": {
        "id": "b270fec4-b574-45ca-a2db-b55fee641b5f"
      },
      "source": [
        "With strings:"
      ]
    },
    {
      "cell_type": "code",
      "execution_count": null,
      "id": "abc408ee-76ae-452d-a13f-8fddbed546b3",
      "metadata": {
        "id": "abc408ee-76ae-452d-a13f-8fddbed546b3",
        "outputId": "2476efa6-15fd-400e-c680-a135c851f086"
      },
      "outputs": [
        {
          "name": "stdout",
          "output_type": "stream",
          "text": [
            "p\n",
            "['y', 't', 'h', 'o', 'n']\n"
          ]
        }
      ],
      "source": [
        "a, *b = 'python'\n",
        "print(a)\n",
        "print(b)"
      ]
    },
    {
      "cell_type": "markdown",
      "id": "5107f2a8-be98-4aa3-a5ef-b082581f5ee3",
      "metadata": {
        "id": "5107f2a8-be98-4aa3-a5ef-b082581f5ee3"
      },
      "source": [
        "What about extracting the first, second, last elements and the rest.\n",
        "\n",
        "Again we can use slicing:"
      ]
    },
    {
      "cell_type": "code",
      "execution_count": null,
      "id": "64a2ef9c-d600-48f4-946e-2d3861620ab3",
      "metadata": {
        "id": "64a2ef9c-d600-48f4-946e-2d3861620ab3",
        "outputId": "b994de83-d3e4-4c20-9918-44240f327057"
      },
      "outputs": [
        {
          "name": "stdout",
          "output_type": "stream",
          "text": [
            "p\n",
            "y\n",
            "tho\n",
            "n\n"
          ]
        }
      ],
      "source": [
        "s = 'python'\n",
        "\n",
        "a, b, c, d = s[0], s[1], s[2:-1], s[-1]\n",
        "print(a)\n",
        "print(b)\n",
        "print(c)\n",
        "print(d)"
      ]
    },
    {
      "cell_type": "markdown",
      "id": "bbc0a18d-1c1c-4694-9289-9a4d4360811f",
      "metadata": {
        "id": "bbc0a18d-1c1c-4694-9289-9a4d4360811f"
      },
      "source": [
        "But we can just as easily do it this way using unpacking:"
      ]
    },
    {
      "cell_type": "code",
      "execution_count": null,
      "id": "91c80ed7-dd47-4c4e-bab2-2068f1a8f61c",
      "metadata": {
        "id": "91c80ed7-dd47-4c4e-bab2-2068f1a8f61c",
        "outputId": "d3ca50c5-dd3f-4dfa-80e0-be337bdf42cf"
      },
      "outputs": [
        {
          "name": "stdout",
          "output_type": "stream",
          "text": [
            "p\n",
            "y\n",
            "['t', 'h', 'o']\n",
            "n\n"
          ]
        }
      ],
      "source": [
        "a, b, *c, d = s\n",
        "print(a)\n",
        "print(b)\n",
        "print(c)\n",
        "print(d)"
      ]
    },
    {
      "cell_type": "markdown",
      "id": "40eb910f-2805-40ea-a443-ab06934471ca",
      "metadata": {
        "id": "40eb910f-2805-40ea-a443-ab06934471ca"
      },
      "source": [
        "As you can see though, `c` is a list of characters, nor a string.\n",
        "\n",
        "It that's a problem we can easily fix it this way:"
      ]
    },
    {
      "cell_type": "code",
      "execution_count": null,
      "id": "f38b7bd4-e02e-40c7-ab62-f2118615805f",
      "metadata": {
        "id": "f38b7bd4-e02e-40c7-ab62-f2118615805f",
        "outputId": "1c9dd4ed-ed91-4b90-932f-833be46d14e3"
      },
      "outputs": [
        {
          "name": "stdout",
          "output_type": "stream",
          "text": [
            "['t', 'h', 'o']\n",
            "tho\n"
          ]
        }
      ],
      "source": [
        "print(c)\n",
        "c = ''.join(c)\n",
        "print(c)"
      ]
    },
    {
      "cell_type": "markdown",
      "id": "afce9d05-fc14-427d-85e2-bf883ac78239",
      "metadata": {
        "id": "afce9d05-fc14-427d-85e2-bf883ac78239"
      },
      "source": [
        "We can also use unpacking on the right hand side of an assignment expression:"
      ]
    },
    {
      "cell_type": "code",
      "execution_count": null,
      "id": "92c14e10-8a9c-4cbe-995b-3c6ed3b9a2c4",
      "metadata": {
        "id": "92c14e10-8a9c-4cbe-995b-3c6ed3b9a2c4",
        "outputId": "70049f3e-9cd8-4c27-bccd-730cf2e7bd06"
      },
      "outputs": [
        {
          "name": "stdout",
          "output_type": "stream",
          "text": [
            "[1, 2, 3, 4, 5, 6]\n"
          ]
        }
      ],
      "source": [
        "l1 = [1, 2, 3]\n",
        "l2 = [4, 5, 6]\n",
        "l = [*l1, *l2]\n",
        "print(l)"
      ]
    },
    {
      "cell_type": "code",
      "execution_count": null,
      "id": "cb05c1f7-6511-4a0b-8a66-864dd937a0ab",
      "metadata": {
        "id": "cb05c1f7-6511-4a0b-8a66-864dd937a0ab",
        "outputId": "ba057acb-0c2c-4d46-9d1a-1c801757b375"
      },
      "outputs": [
        {
          "name": "stdout",
          "output_type": "stream",
          "text": [
            "[1, 2, 3, 'A', 'B', 'C']\n"
          ]
        }
      ],
      "source": [
        "l1 = [1, 2, 3]\n",
        "s = 'ABC'\n",
        "l = [*l1, *s]\n",
        "print(l)"
      ]
    },
    {
      "cell_type": "markdown",
      "id": "00be2fa7-768c-4d08-83dd-08dbbbf6fa42",
      "metadata": {
        "id": "00be2fa7-768c-4d08-83dd-08dbbbf6fa42"
      },
      "source": [
        "This unpacking works with unordered types such as sets and dictionaries as well.\n",
        "\n",
        "The only thing is that it may not be very useful considering there is no particular ordering, so a first or last element has no real useful meaning."
      ]
    },
    {
      "cell_type": "code",
      "execution_count": null,
      "id": "c11bc13b-d261-47e9-be64-e43ada21a93f",
      "metadata": {
        "id": "c11bc13b-d261-47e9-be64-e43ada21a93f"
      },
      "outputs": [],
      "source": [
        "s = {10, -99, 3, 'd'}"
      ]
    },
    {
      "cell_type": "code",
      "execution_count": null,
      "id": "1077e699-d86a-4be5-b64d-835f0f9001f2",
      "metadata": {
        "id": "1077e699-d86a-4be5-b64d-835f0f9001f2",
        "outputId": "e7076daf-2410-4506-b5b9-9db3aca0e7fd"
      },
      "outputs": [
        {
          "name": "stdout",
          "output_type": "stream",
          "text": [
            "3\n",
            "10\n",
            "d\n",
            "-99\n"
          ]
        }
      ],
      "source": [
        "for c in s:\n",
        "    print(c)"
      ]
    },
    {
      "cell_type": "markdown",
      "id": "43ebfe48-445b-48ad-8d20-4ddfaaddf127",
      "metadata": {
        "id": "43ebfe48-445b-48ad-8d20-4ddfaaddf127"
      },
      "source": [
        "As you can see, the order of the elements when we created the set was not retained!"
      ]
    },
    {
      "cell_type": "code",
      "execution_count": null,
      "id": "1f4af05d-ddfc-4f29-8473-2e4f46f040a4",
      "metadata": {
        "id": "1f4af05d-ddfc-4f29-8473-2e4f46f040a4",
        "outputId": "7d46c956-cc56-47d3-a8b8-f277cd501fc9"
      },
      "outputs": [
        {
          "name": "stdout",
          "output_type": "stream",
          "text": [
            "3\n",
            "10\n",
            "['d', -99]\n"
          ]
        }
      ],
      "source": [
        "s = {10, -99, 3, 'd'}\n",
        "a, b, *c = s\n",
        "print(a)\n",
        "print(b)\n",
        "print(c)"
      ]
    },
    {
      "cell_type": "markdown",
      "id": "e0927b60-717f-4181-a9bb-4c40f29d63ec",
      "metadata": {
        "id": "e0927b60-717f-4181-a9bb-4c40f29d63ec"
      },
      "source": [
        "So unpacking this way is of limited use.\n",
        "\n",
        "However consider this:"
      ]
    },
    {
      "cell_type": "code",
      "execution_count": null,
      "id": "b014fd13-1fbe-4ea1-b329-c72d2d3f1a0a",
      "metadata": {
        "id": "b014fd13-1fbe-4ea1-b329-c72d2d3f1a0a",
        "outputId": "c4e1717c-fac4-4ba9-cd45-a05a891e4140"
      },
      "outputs": [
        {
          "name": "stdout",
          "output_type": "stream",
          "text": [
            "[3, 10, 'd', -99]\n"
          ]
        }
      ],
      "source": [
        "s = {10, -99, 3, 'd'}\n",
        "*a, = s\n",
        "print(a)"
      ]
    },
    {
      "cell_type": "markdown",
      "id": "a8163ef9-f71a-49b0-b123-39720149160d",
      "metadata": {
        "id": "a8163ef9-f71a-49b0-b123-39720149160d"
      },
      "source": [
        "At first blush, this doesn't look terribly exciting - we simply unpacked the set values into a list.\n",
        "\n",
        "But tihs is actually quite useful in both sets and dictionaries to combine things (although to be sure, there are alternative ways to do this as well - which we'll cover later in this course)"
      ]
    },
    {
      "cell_type": "code",
      "execution_count": null,
      "id": "d7f61073-c4c9-4ac4-b8d2-eb75ace52b5c",
      "metadata": {
        "id": "d7f61073-c4c9-4ac4-b8d2-eb75ace52b5c"
      },
      "outputs": [],
      "source": [
        "s1 = {1, 2, 3}\n",
        "s2 = {3, 4, 5}"
      ]
    },
    {
      "cell_type": "markdown",
      "id": "f9f6aff9-4079-496e-8992-3584e15c03c5",
      "metadata": {
        "id": "f9f6aff9-4079-496e-8992-3584e15c03c5"
      },
      "source": [
        "How can we combine both these sets into a single merged set?"
      ]
    },
    {
      "cell_type": "code",
      "execution_count": null,
      "id": "f1a64f79-a684-4f87-b617-88682aba7456",
      "metadata": {
        "id": "f1a64f79-a684-4f87-b617-88682aba7456",
        "outputId": "dff2b5a2-ae02-484d-c708-692a6151d817"
      },
      "outputs": [
        {
          "ename": "TypeError",
          "evalue": "unsupported operand type(s) for +: 'set' and 'set'",
          "output_type": "error",
          "traceback": [
            "\u001b[1;31m---------------------------------------------------------------------------\u001b[0m",
            "\u001b[1;31mTypeError\u001b[0m                                 Traceback (most recent call last)",
            "Input \u001b[1;32mIn [63]\u001b[0m, in \u001b[0;36m<cell line: 1>\u001b[1;34m()\u001b[0m\n\u001b[1;32m----> 1\u001b[0m \u001b[43ms1\u001b[49m\u001b[43m \u001b[49m\u001b[38;5;241;43m+\u001b[39;49m\u001b[43m \u001b[49m\u001b[43ms2\u001b[49m\n",
            "\u001b[1;31mTypeError\u001b[0m: unsupported operand type(s) for +: 'set' and 'set'"
          ]
        }
      ],
      "source": [
        "s1 + s2"
      ]
    },
    {
      "cell_type": "markdown",
      "id": "70d231a9-1749-4602-b0dd-29547237834f",
      "metadata": {
        "id": "70d231a9-1749-4602-b0dd-29547237834f"
      },
      "source": [
        "Well, + doesn't work...\n",
        "\n",
        "We could use the built-in method for unioning sets:"
      ]
    },
    {
      "cell_type": "code",
      "execution_count": null,
      "id": "16848196-b790-4c8d-8adf-bfb124cc8cae",
      "metadata": {
        "id": "16848196-b790-4c8d-8adf-bfb124cc8cae",
        "outputId": "5d53d667-5514-4472-da45-32176e31194c"
      },
      "outputs": [
        {
          "name": "stdout",
          "output_type": "stream",
          "text": [
            "Help on class set in module builtins:\n",
            "\n",
            "class set(object)\n",
            " |  set() -> new empty set object\n",
            " |  set(iterable) -> new set object\n",
            " |  \n",
            " |  Build an unordered collection of unique elements.\n",
            " |  \n",
            " |  Methods defined here:\n",
            " |  \n",
            " |  __and__(self, value, /)\n",
            " |      Return self&value.\n",
            " |  \n",
            " |  __contains__(...)\n",
            " |      x.__contains__(y) <==> y in x.\n",
            " |  \n",
            " |  __eq__(self, value, /)\n",
            " |      Return self==value.\n",
            " |  \n",
            " |  __ge__(self, value, /)\n",
            " |      Return self>=value.\n",
            " |  \n",
            " |  __getattribute__(self, name, /)\n",
            " |      Return getattr(self, name).\n",
            " |  \n",
            " |  __gt__(self, value, /)\n",
            " |      Return self>value.\n",
            " |  \n",
            " |  __iand__(self, value, /)\n",
            " |      Return self&=value.\n",
            " |  \n",
            " |  __init__(self, /, *args, **kwargs)\n",
            " |      Initialize self.  See help(type(self)) for accurate signature.\n",
            " |  \n",
            " |  __ior__(self, value, /)\n",
            " |      Return self|=value.\n",
            " |  \n",
            " |  __isub__(self, value, /)\n",
            " |      Return self-=value.\n",
            " |  \n",
            " |  __iter__(self, /)\n",
            " |      Implement iter(self).\n",
            " |  \n",
            " |  __ixor__(self, value, /)\n",
            " |      Return self^=value.\n",
            " |  \n",
            " |  __le__(self, value, /)\n",
            " |      Return self<=value.\n",
            " |  \n",
            " |  __len__(self, /)\n",
            " |      Return len(self).\n",
            " |  \n",
            " |  __lt__(self, value, /)\n",
            " |      Return self<value.\n",
            " |  \n",
            " |  __ne__(self, value, /)\n",
            " |      Return self!=value.\n",
            " |  \n",
            " |  __or__(self, value, /)\n",
            " |      Return self|value.\n",
            " |  \n",
            " |  __rand__(self, value, /)\n",
            " |      Return value&self.\n",
            " |  \n",
            " |  __reduce__(...)\n",
            " |      Return state information for pickling.\n",
            " |  \n",
            " |  __repr__(self, /)\n",
            " |      Return repr(self).\n",
            " |  \n",
            " |  __ror__(self, value, /)\n",
            " |      Return value|self.\n",
            " |  \n",
            " |  __rsub__(self, value, /)\n",
            " |      Return value-self.\n",
            " |  \n",
            " |  __rxor__(self, value, /)\n",
            " |      Return value^self.\n",
            " |  \n",
            " |  __sizeof__(...)\n",
            " |      S.__sizeof__() -> size of S in memory, in bytes\n",
            " |  \n",
            " |  __sub__(self, value, /)\n",
            " |      Return self-value.\n",
            " |  \n",
            " |  __xor__(self, value, /)\n",
            " |      Return self^value.\n",
            " |  \n",
            " |  add(...)\n",
            " |      Add an element to a set.\n",
            " |      \n",
            " |      This has no effect if the element is already present.\n",
            " |  \n",
            " |  clear(...)\n",
            " |      Remove all elements from this set.\n",
            " |  \n",
            " |  copy(...)\n",
            " |      Return a shallow copy of a set.\n",
            " |  \n",
            " |  difference(...)\n",
            " |      Return the difference of two or more sets as a new set.\n",
            " |      \n",
            " |      (i.e. all elements that are in this set but not the others.)\n",
            " |  \n",
            " |  difference_update(...)\n",
            " |      Remove all elements of another set from this set.\n",
            " |  \n",
            " |  discard(...)\n",
            " |      Remove an element from a set if it is a member.\n",
            " |      \n",
            " |      If the element is not a member, do nothing.\n",
            " |  \n",
            " |  intersection(...)\n",
            " |      Return the intersection of two sets as a new set.\n",
            " |      \n",
            " |      (i.e. all elements that are in both sets.)\n",
            " |  \n",
            " |  intersection_update(...)\n",
            " |      Update a set with the intersection of itself and another.\n",
            " |  \n",
            " |  isdisjoint(...)\n",
            " |      Return True if two sets have a null intersection.\n",
            " |  \n",
            " |  issubset(...)\n",
            " |      Report whether another set contains this set.\n",
            " |  \n",
            " |  issuperset(...)\n",
            " |      Report whether this set contains another set.\n",
            " |  \n",
            " |  pop(...)\n",
            " |      Remove and return an arbitrary set element.\n",
            " |      Raises KeyError if the set is empty.\n",
            " |  \n",
            " |  remove(...)\n",
            " |      Remove an element from a set; it must be a member.\n",
            " |      \n",
            " |      If the element is not a member, raise a KeyError.\n",
            " |  \n",
            " |  symmetric_difference(...)\n",
            " |      Return the symmetric difference of two sets as a new set.\n",
            " |      \n",
            " |      (i.e. all elements that are in exactly one of the sets.)\n",
            " |  \n",
            " |  symmetric_difference_update(...)\n",
            " |      Update a set with the symmetric difference of itself and another.\n",
            " |  \n",
            " |  union(...)\n",
            " |      Return the union of sets as a new set.\n",
            " |      \n",
            " |      (i.e. all elements that are in either set.)\n",
            " |  \n",
            " |  update(...)\n",
            " |      Update a set with the union of itself and others.\n",
            " |  \n",
            " |  ----------------------------------------------------------------------\n",
            " |  Class methods defined here:\n",
            " |  \n",
            " |  __class_getitem__(...) from builtins.type\n",
            " |      See PEP 585\n",
            " |  \n",
            " |  ----------------------------------------------------------------------\n",
            " |  Static methods defined here:\n",
            " |  \n",
            " |  __new__(*args, **kwargs) from builtins.type\n",
            " |      Create and return a new object.  See help(type) for accurate signature.\n",
            " |  \n",
            " |  ----------------------------------------------------------------------\n",
            " |  Data and other attributes defined here:\n",
            " |  \n",
            " |  __hash__ = None\n",
            "\n"
          ]
        }
      ],
      "source": [
        "help(set)"
      ]
    },
    {
      "cell_type": "code",
      "execution_count": null,
      "id": "e1136503-70b2-4c42-8e85-7f67c4521744",
      "metadata": {
        "id": "e1136503-70b2-4c42-8e85-7f67c4521744",
        "outputId": "7f20c2ce-4d3d-4b8f-8ca9-8d438c97bbd4"
      },
      "outputs": [
        {
          "name": "stdout",
          "output_type": "stream",
          "text": [
            "{1, 2, 3}\n",
            "{3, 4, 5}\n"
          ]
        },
        {
          "data": {
            "text/plain": [
              "{1, 2, 3, 4, 5}"
            ]
          },
          "execution_count": 65,
          "metadata": {},
          "output_type": "execute_result"
        }
      ],
      "source": [
        "print(s1)\n",
        "print(s2)\n",
        "s1.union(s2)"
      ]
    },
    {
      "cell_type": "markdown",
      "id": "c3289819-efa7-4294-9917-4d3d73aa9b03",
      "metadata": {
        "id": "c3289819-efa7-4294-9917-4d3d73aa9b03"
      },
      "source": [
        "What about joining 4 different sets?"
      ]
    },
    {
      "cell_type": "code",
      "execution_count": null,
      "id": "c9ad3105-9aa7-41bd-a06a-d9521577c612",
      "metadata": {
        "id": "c9ad3105-9aa7-41bd-a06a-d9521577c612",
        "outputId": "ddd48b6d-8e85-4eb8-aa63-f7b3915c5bae"
      },
      "outputs": [
        {
          "name": "stdout",
          "output_type": "stream",
          "text": [
            "{1, 2, 3, 4, 5, 6, 7, 8, 9}\n",
            "{1, 2, 3, 4, 5, 6, 7, 8, 9}\n"
          ]
        }
      ],
      "source": [
        "s1 = {1, 2, 3}\n",
        "s2 = {3, 4, 5}\n",
        "s3 = {5, 6, 7}\n",
        "s4 = {7, 8, 9}\n",
        "print(s1.union(s2).union(s3).union(s4))\n",
        "print(s1.union(s2, s3, s4))"
      ]
    },
    {
      "cell_type": "markdown",
      "id": "9abaeef6-176e-42f2-8272-86b6035429ad",
      "metadata": {
        "id": "9abaeef6-176e-42f2-8272-86b6035429ad"
      },
      "source": [
        "Or we could use unpacking in this way:"
      ]
    },
    {
      "cell_type": "code",
      "execution_count": null,
      "id": "b0821a8b-c148-4c07-9aed-b336d01226f5",
      "metadata": {
        "id": "b0821a8b-c148-4c07-9aed-b336d01226f5",
        "outputId": "e21bf03b-a59a-4f3d-9eae-c6512f584a88"
      },
      "outputs": [
        {
          "data": {
            "text/plain": [
              "{1, 2, 3, 4, 5, 6, 7, 8, 9}"
            ]
          },
          "execution_count": 67,
          "metadata": {},
          "output_type": "execute_result"
        }
      ],
      "source": [
        "{*s1, *s2, *s3, *s4}"
      ]
    },
    {
      "cell_type": "markdown",
      "id": "79a80c7d-dc53-40dd-b2a8-d1dca0347b34",
      "metadata": {
        "id": "79a80c7d-dc53-40dd-b2a8-d1dca0347b34"
      },
      "source": [
        "What we did here was to unpack each set directly into another set!\n",
        "\n",
        "The same works for dictionaries - just remember that `*` for dictionaries unpacks the keys only."
      ]
    },
    {
      "cell_type": "code",
      "execution_count": null,
      "id": "f28c68fc-d350-4133-9e95-b65aa5492288",
      "metadata": {
        "id": "f28c68fc-d350-4133-9e95-b65aa5492288",
        "outputId": "8217cc97-0cb0-4a55-c05e-86592cbd4279"
      },
      "outputs": [
        {
          "data": {
            "text/plain": [
              "{'key1': 1, 'key2': 3, 'key3': 3}"
            ]
          },
          "execution_count": 68,
          "metadata": {},
          "output_type": "execute_result"
        }
      ],
      "source": [
        "d1 = {'key1': 1, 'key2': 2}\n",
        "d2 = {'key2': 3, 'key3': 3}\n",
        "\n",
        "{**d1, **d2}"
      ]
    },
    {
      "cell_type": "markdown",
      "id": "b6a43514-b44b-4d4c-9f5a-eb7ab33bfee7",
      "metadata": {
        "id": "b6a43514-b44b-4d4c-9f5a-eb7ab33bfee7"
      },
      "source": [
        "Notice what happened to the value of key2. The value for the second occurence of key2 was retained (overwritten).\n",
        "\n",
        "In fact, if we write the unpacking reversing the order of d1 and d2:"
      ]
    },
    {
      "cell_type": "code",
      "execution_count": null,
      "id": "30c9e530-704e-4d11-91c4-b2e90a91663a",
      "metadata": {
        "id": "30c9e530-704e-4d11-91c4-b2e90a91663a",
        "outputId": "4977a4f2-d93c-409a-f304-673c55ed41b8"
      },
      "outputs": [
        {
          "data": {
            "text/plain": [
              "{'key2': 2, 'key3': 3, 'key1': 1}"
            ]
          },
          "execution_count": 69,
          "metadata": {},
          "output_type": "execute_result"
        }
      ],
      "source": [
        "{**d2, **d1}"
      ]
    },
    {
      "cell_type": "markdown",
      "id": "c824b703-779e-4171-822a-c709bd7d1e14",
      "metadata": {
        "id": "c824b703-779e-4171-822a-c709bd7d1e14"
      },
      "source": [
        "we see that the value of key2 is now 2, since it was the second occurence.\n",
        "\n",
        "Of course, we can unpack a dictionary into a dictionary as seen above, but we can mix in our own key-value pairs as well - it is just a dictionary literal after all."
      ]
    },
    {
      "cell_type": "code",
      "execution_count": null,
      "id": "1266dc8d-8f54-47f4-90bb-77db317eb32b",
      "metadata": {
        "id": "1266dc8d-8f54-47f4-90bb-77db317eb32b",
        "outputId": "d4a74df4-5fda-461a-bb6a-70618c509f65"
      },
      "outputs": [
        {
          "data": {
            "text/plain": [
              "{'a': 1, 'b': 2, 'key1': 1, 'key2': 3, 'key3': 3, 'c': 3}"
            ]
          },
          "execution_count": 70,
          "metadata": {},
          "output_type": "execute_result"
        }
      ],
      "source": [
        "{'a': 1, 'b': 2, **d1, **d2, 'c': 3}"
      ]
    },
    {
      "cell_type": "markdown",
      "id": "fd6b16d0-bbfd-4319-ae25-1a4f97f35ba5",
      "metadata": {
        "id": "fd6b16d0-bbfd-4319-ae25-1a4f97f35ba5"
      },
      "source": [
        "Again, if we have the same keys, only the \"latest\" value of the key is retained:"
      ]
    },
    {
      "cell_type": "code",
      "execution_count": null,
      "id": "f0ffa2e5-1de6-415b-93e8-eb5e24a8b132",
      "metadata": {
        "id": "f0ffa2e5-1de6-415b-93e8-eb5e24a8b132",
        "outputId": "93fe60be-4778-45b6-8296-17c1ac510bd6"
      },
      "outputs": [
        {
          "data": {
            "text/plain": [
              "{'key1': 1, 'key2': 3, 'key3': 200}"
            ]
          },
          "execution_count": 71,
          "metadata": {},
          "output_type": "execute_result"
        }
      ],
      "source": [
        "{'key1': 100, **d1, **d2, 'key3': 200}"
      ]
    },
    {
      "cell_type": "markdown",
      "id": "fb3f6e48-571c-43ee-82ab-9bac1f916665",
      "metadata": {
        "id": "fb3f6e48-571c-43ee-82ab-9bac1f916665"
      },
      "source": [
        "**Nested Unpacking**"
      ]
    },
    {
      "cell_type": "markdown",
      "id": "c557155a-d929-4973-a656-4da9dc59b51d",
      "metadata": {
        "id": "c557155a-d929-4973-a656-4da9dc59b51d"
      },
      "source": [
        "Python even supports nested unpacking:"
      ]
    },
    {
      "cell_type": "code",
      "execution_count": null,
      "id": "f2f3d822-422b-4e97-9aca-0c1e5fa36201",
      "metadata": {
        "id": "f2f3d822-422b-4e97-9aca-0c1e5fa36201",
        "outputId": "e8af7262-6ce4-46e8-d910-46c3692c43da"
      },
      "outputs": [
        {
          "name": "stdout",
          "output_type": "stream",
          "text": [
            "1\n",
            "2\n",
            "X\n",
            "Y\n"
          ]
        }
      ],
      "source": [
        "a, b, (c, d) = [1, 2, ['X', 'Y']]\n",
        "print(a)\n",
        "print(b)\n",
        "print(c)\n",
        "print(d)"
      ]
    },
    {
      "cell_type": "markdown",
      "id": "ee38a854-1067-4487-afe9-ae057828ac49",
      "metadata": {
        "id": "ee38a854-1067-4487-afe9-ae057828ac49"
      },
      "source": [
        "In fact, since a string is an iterable, we can even write:"
      ]
    },
    {
      "cell_type": "code",
      "execution_count": null,
      "id": "84fa4c82-1e1f-4f15-92c6-85758d20cd10",
      "metadata": {
        "id": "84fa4c82-1e1f-4f15-92c6-85758d20cd10",
        "outputId": "fcbb4e13-28ae-410f-9e0d-cc364a8a8c1a"
      },
      "outputs": [
        {
          "name": "stdout",
          "output_type": "stream",
          "text": [
            "1\n",
            "2\n",
            "X\n",
            "Y\n"
          ]
        }
      ],
      "source": [
        "a, b, (c, d) = [1, 2, 'XY']\n",
        "print(a)\n",
        "print(b)\n",
        "print(c)\n",
        "print(d)"
      ]
    },
    {
      "cell_type": "markdown",
      "id": "01e2347e-c60f-49ee-b94e-96ec68514f22",
      "metadata": {
        "id": "01e2347e-c60f-49ee-b94e-96ec68514f22"
      },
      "source": [
        "We can even write something like this:"
      ]
    },
    {
      "cell_type": "code",
      "execution_count": null,
      "id": "0513e3ee-a4af-4b8d-ac69-d813a352d0f0",
      "metadata": {
        "id": "0513e3ee-a4af-4b8d-ac69-d813a352d0f0",
        "outputId": "f0097eb2-71bd-4490-cb22-673fd9770536"
      },
      "outputs": [
        {
          "name": "stdout",
          "output_type": "stream",
          "text": [
            "1\n",
            "2\n",
            "p\n",
            "y\n",
            "['t', 'h', 'o', 'n']\n"
          ]
        }
      ],
      "source": [
        "a, b, (c, d, *e) = [1, 2, 'python']\n",
        "print(a)\n",
        "print(b)\n",
        "print(c)\n",
        "print(d)\n",
        "print(e)"
      ]
    },
    {
      "cell_type": "markdown",
      "id": "46e351df-339b-4804-9902-83da7050ad8f",
      "metadata": {
        "id": "46e351df-339b-4804-9902-83da7050ad8f"
      },
      "source": [
        "Remember when we said that we can use `*` only once...\n",
        "\n",
        "How about this then?"
      ]
    },
    {
      "cell_type": "code",
      "execution_count": null,
      "id": "c2694b06-ff30-4846-95c7-db489920c8af",
      "metadata": {
        "id": "c2694b06-ff30-4846-95c7-db489920c8af",
        "outputId": "dbd9f86e-42a4-45fd-8832-86886c3b624e"
      },
      "outputs": [
        {
          "name": "stdout",
          "output_type": "stream",
          "text": [
            "1\n",
            "[2, 3]\n",
            "p\n",
            "y\n",
            "['t', 'h', 'o', 'n']\n"
          ]
        }
      ],
      "source": [
        "a, *b, (c, d, *e) = [1, 2, 3, 'python']\n",
        "print(a)\n",
        "print(b)\n",
        "print(c)\n",
        "print(d)\n",
        "print(e)"
      ]
    },
    {
      "cell_type": "markdown",
      "id": "3de22960-c6c8-44e6-8767-bb75cbea5c51",
      "metadata": {
        "id": "3de22960-c6c8-44e6-8767-bb75cbea5c51"
      },
      "source": [
        "We can break down what happened here in multiple steps:"
      ]
    },
    {
      "cell_type": "code",
      "execution_count": null,
      "id": "edad0bc8-deae-4200-a685-1488d11b94c5",
      "metadata": {
        "id": "edad0bc8-deae-4200-a685-1488d11b94c5",
        "outputId": "c974e4dc-1210-45bf-dff8-600b1f5f1699"
      },
      "outputs": [
        {
          "name": "stdout",
          "output_type": "stream",
          "text": [
            "1\n",
            "[2, 3]\n",
            "python\n"
          ]
        }
      ],
      "source": [
        "a, *b, tmp = [1, 2, 3, 'python']\n",
        "print(a)\n",
        "print(b)\n",
        "print(tmp)"
      ]
    },
    {
      "cell_type": "code",
      "execution_count": null,
      "id": "85bd508f-6033-41f4-80c0-c44975b8cc9d",
      "metadata": {
        "id": "85bd508f-6033-41f4-80c0-c44975b8cc9d",
        "outputId": "c2ba68b9-86b4-484a-d634-a0ad9330130b"
      },
      "outputs": [
        {
          "name": "stdout",
          "output_type": "stream",
          "text": [
            "p\n",
            "y\n",
            "['t', 'h', 'o', 'n']\n"
          ]
        }
      ],
      "source": [
        "c, d, *e = tmp\n",
        "print(c)\n",
        "print(d)\n",
        "print(e)"
      ]
    },
    {
      "cell_type": "markdown",
      "id": "ae556302-6f68-47b5-bac2-617e81c4c8c8",
      "metadata": {
        "id": "ae556302-6f68-47b5-bac2-617e81c4c8c8"
      },
      "source": [
        "So putting it together we get our original line of code:"
      ]
    },
    {
      "cell_type": "code",
      "execution_count": null,
      "id": "2e181b5d-824c-4933-a618-1d8bf8b3d734",
      "metadata": {
        "id": "2e181b5d-824c-4933-a618-1d8bf8b3d734",
        "outputId": "29031df8-7609-451b-acd2-efc22f094e02"
      },
      "outputs": [
        {
          "name": "stdout",
          "output_type": "stream",
          "text": [
            "1\n",
            "[2, 3]\n",
            "p\n",
            "y\n",
            "['t', 'h', 'o', 'n']\n"
          ]
        }
      ],
      "source": [
        "a, *b, (c, d, *e) = [1, 2, 3, 'python']\n",
        "print(a)\n",
        "print(b)\n",
        "print(c)\n",
        "print(d)\n",
        "print(e)"
      ]
    },
    {
      "cell_type": "markdown",
      "id": "3964b0ce-6615-417a-bd00-874781aa1bfe",
      "metadata": {
        "id": "3964b0ce-6615-417a-bd00-874781aa1bfe"
      },
      "source": [
        "If we wanted to do the same thing using slicing:"
      ]
    },
    {
      "cell_type": "code",
      "execution_count": null,
      "id": "41b72c67-414e-4f9f-b72c-c1455e4bc28c",
      "metadata": {
        "id": "41b72c67-414e-4f9f-b72c-c1455e4bc28c",
        "outputId": "f08a9c0d-bdbb-4090-c984-4ab7c6d44e52"
      },
      "outputs": [
        {
          "data": {
            "text/plain": [
              "(1, [2, 3], 'p', 'y', ['t', 'h', 'o', 'n'])"
            ]
          },
          "execution_count": 79,
          "metadata": {},
          "output_type": "execute_result"
        }
      ],
      "source": [
        "l = [1, 2, 3, 'python']\n",
        "l[0], l[1:-1], l[-1][0], l[-1][1], list(l[-1][2:])"
      ]
    },
    {
      "cell_type": "code",
      "execution_count": null,
      "id": "a4e654e8-d162-46c8-ac30-63d3d696d7a0",
      "metadata": {
        "id": "a4e654e8-d162-46c8-ac30-63d3d696d7a0",
        "outputId": "664faac7-b9aa-4004-e907-aa09f8b4a5de"
      },
      "outputs": [
        {
          "name": "stdout",
          "output_type": "stream",
          "text": [
            "1\n",
            "[2, 3]\n",
            "p\n",
            "y\n",
            "['t', 'h', 'o', 'n']\n"
          ]
        }
      ],
      "source": [
        "l = [1, 2, 3, 'python']\n",
        "a, b, c, d, e = l[0], l[1:-1], l[-1][0], l[-1][1], list(l[-1][2:])\n",
        "print(a)\n",
        "print(b)\n",
        "print(c)\n",
        "print(d)\n",
        "print(e)"
      ]
    },
    {
      "cell_type": "markdown",
      "id": "a680c8cf-3bf7-4a0a-92d4-3e525ac86650",
      "metadata": {
        "id": "a680c8cf-3bf7-4a0a-92d4-3e525ac86650"
      },
      "source": [
        "Of course, this works for arbitrary lengths and indexable sequence types:"
      ]
    },
    {
      "cell_type": "code",
      "execution_count": null,
      "id": "6220e57c-3290-4b6f-96ff-2081bb14b1a5",
      "metadata": {
        "id": "6220e57c-3290-4b6f-96ff-2081bb14b1a5",
        "outputId": "f370e0dd-0a8c-450a-cb57-ef7d8ce2341b"
      },
      "outputs": [
        {
          "name": "stdout",
          "output_type": "stream",
          "text": [
            "1\n",
            "[2, 3, 4]\n",
            "u\n",
            "n\n",
            "['l', 'a', 'd', 'e', 'n', ' ', 's', 'w', 'a', 'l', 'l', 'o', 'w']\n"
          ]
        }
      ],
      "source": [
        "l = [1, 2, 3, 4, 'unladen swallow']\n",
        "a, b, c, d, e = l[0], l[1:-1], l[-1][0], l[-1][1], list(l[-1][2:])\n",
        "print(a)\n",
        "print(b)\n",
        "print(c)\n",
        "print(d)\n",
        "print(e)"
      ]
    },
    {
      "cell_type": "markdown",
      "id": "79c6be38-5ffa-4af7-9504-fce01783e6b9",
      "metadata": {
        "id": "79c6be38-5ffa-4af7-9504-fce01783e6b9"
      },
      "source": [
        "or even:"
      ]
    },
    {
      "cell_type": "code",
      "execution_count": null,
      "id": "4c67be89-bd02-4256-a905-0262da86543f",
      "metadata": {
        "id": "4c67be89-bd02-4256-a905-0262da86543f",
        "outputId": "f35e4ecb-b2be-4883-8138-307ebfd54011"
      },
      "outputs": [
        {
          "name": "stdout",
          "output_type": "stream",
          "text": [
            "1\n",
            "[2, 3, 4]\n",
            "a\n",
            "b\n",
            "['c', 'd']\n"
          ]
        }
      ],
      "source": [
        "l = [1, 2, 3, 4, ['a', 'b', 'c', 'd']]\n",
        "a, b, c, d, e = l[0], l[1:-1], l[-1][0], l[-1][1], list(l[-1][2:])\n",
        "print(a)\n",
        "print(b)\n",
        "print(c)\n",
        "print(d)\n",
        "print(e)"
      ]
    },
    {
      "cell_type": "markdown",
      "id": "8110eb60-3996-470e-b0e0-36a05dfefea7",
      "metadata": {
        "id": "8110eb60-3996-470e-b0e0-36a05dfefea7"
      },
      "source": [
        "### 04 - Star - Args"
      ]
    },
    {
      "cell_type": "markdown",
      "id": "3a3260dd-2dc8-4be6-b99b-a120acf09c6c",
      "metadata": {
        "id": "3a3260dd-2dc8-4be6-b99b-a120acf09c6c"
      },
      "source": [
        "**args**"
      ]
    },
    {
      "cell_type": "markdown",
      "id": "b8daa8b1-cf00-45b0-9d22-128f0fca67a1",
      "metadata": {
        "id": "b8daa8b1-cf00-45b0-9d22-128f0fca67a1"
      },
      "source": [
        "Recall from iterable unpacking:"
      ]
    },
    {
      "cell_type": "code",
      "execution_count": null,
      "id": "0ada2255-ab8d-4b57-8ea7-61891181a0c2",
      "metadata": {
        "id": "0ada2255-ab8d-4b57-8ea7-61891181a0c2"
      },
      "outputs": [],
      "source": [
        "a, b, *c = 10, 20, 'a', 'b'"
      ]
    },
    {
      "cell_type": "code",
      "execution_count": null,
      "id": "a8b20aa3-0075-4657-8f05-40417de4a359",
      "metadata": {
        "id": "a8b20aa3-0075-4657-8f05-40417de4a359",
        "outputId": "5c612c44-5ab0-415c-e6f8-08c9b55d06dd"
      },
      "outputs": [
        {
          "name": "stdout",
          "output_type": "stream",
          "text": [
            "10 20\n"
          ]
        }
      ],
      "source": [
        "print(a, b)"
      ]
    },
    {
      "cell_type": "code",
      "execution_count": null,
      "id": "a515818d-b1eb-40eb-9b0c-944ed982381c",
      "metadata": {
        "id": "a515818d-b1eb-40eb-9b0c-944ed982381c",
        "outputId": "529cc02b-d4ba-4b6d-e7b6-b696835d8d25"
      },
      "outputs": [
        {
          "name": "stdout",
          "output_type": "stream",
          "text": [
            "['a', 'b']\n"
          ]
        }
      ],
      "source": [
        "print(c)"
      ]
    },
    {
      "cell_type": "markdown",
      "id": "89557672-a145-423a-ba86-38342e66b5db",
      "metadata": {
        "id": "89557672-a145-423a-ba86-38342e66b5db"
      },
      "source": [
        "We can use a similar concept in function definitions to allow for arbitrary numbers of positional parameters/arguments:"
      ]
    },
    {
      "cell_type": "code",
      "execution_count": null,
      "id": "4c9fc712-3bf1-4235-8693-48b5b0dd519e",
      "metadata": {
        "id": "4c9fc712-3bf1-4235-8693-48b5b0dd519e"
      },
      "outputs": [],
      "source": [
        "def func1(a, b, *args):\n",
        "    print(a)\n",
        "    print(b)\n",
        "    print(args)"
      ]
    },
    {
      "cell_type": "code",
      "execution_count": null,
      "id": "c277f268-7cef-4a4e-a9af-5e2079749e08",
      "metadata": {
        "id": "c277f268-7cef-4a4e-a9af-5e2079749e08",
        "outputId": "ea2e0274-7cda-45f8-85f3-631a6336f068"
      },
      "outputs": [
        {
          "name": "stdout",
          "output_type": "stream",
          "text": [
            "1\n",
            "2\n",
            "('a', 'b')\n"
          ]
        }
      ],
      "source": [
        "func1(1, 2, 'a', 'b')"
      ]
    },
    {
      "cell_type": "markdown",
      "id": "04f1704b-fe7d-4d31-95e7-f0787ef6f067",
      "metadata": {
        "id": "04f1704b-fe7d-4d31-95e7-f0787ef6f067"
      },
      "source": [
        "---\n",
        "\n",
        "**BE CAREFUL!**"
      ]
    },
    {
      "cell_type": "markdown",
      "id": "c040a75d-a099-4bc2-8b64-057ae4c21718",
      "metadata": {
        "id": "c040a75d-a099-4bc2-8b64-057ae4c21718"
      },
      "source": [
        "1. *Unlike iterable unpacking, `*args` will be a `tuple`, not a list.*\n",
        "2. *The name of the parameter `args` can be anything you prefer.*\n",
        "3. *You cannot specify positional arguments after `*args` parameter - this does something different that we'll cover in the next lecture.*"
      ]
    },
    {
      "cell_type": "code",
      "execution_count": null,
      "id": "5bedfa59-69cf-4e80-acf6-c862bd7ec1ac",
      "metadata": {
        "id": "5bedfa59-69cf-4e80-acf6-c862bd7ec1ac"
      },
      "outputs": [],
      "source": [
        "def func1(a, b, *my_vars):\n",
        "    print(a)\n",
        "    print(b)\n",
        "    print(my_vars)"
      ]
    },
    {
      "cell_type": "code",
      "execution_count": null,
      "id": "ccd3f22c-d2fa-4ae7-976f-da6fdf9ef837",
      "metadata": {
        "id": "ccd3f22c-d2fa-4ae7-976f-da6fdf9ef837",
        "outputId": "b3a645bb-9463-44d8-f711-fdacee7fee69"
      },
      "outputs": [
        {
          "name": "stdout",
          "output_type": "stream",
          "text": [
            "10\n",
            "20\n",
            "('a', 'b', 'c')\n"
          ]
        }
      ],
      "source": [
        "func1(10, 20, 'a', 'b', 'c')"
      ]
    },
    {
      "cell_type": "code",
      "execution_count": null,
      "id": "d4128507-f3b5-4e9a-b776-b6c0aed9e74d",
      "metadata": {
        "id": "d4128507-f3b5-4e9a-b776-b6c0aed9e74d"
      },
      "outputs": [],
      "source": [
        "def func1(a, b, *c, d):\n",
        "    print(a)\n",
        "    print(b)\n",
        "    print(c)\n",
        "    print(d)"
      ]
    },
    {
      "cell_type": "code",
      "execution_count": null,
      "id": "eff10884-162c-4464-ac1d-246af7500933",
      "metadata": {
        "id": "eff10884-162c-4464-ac1d-246af7500933",
        "outputId": "f945f8b1-4992-45b8-c402-2ad98de156b9"
      },
      "outputs": [
        {
          "ename": "TypeError",
          "evalue": "func1() missing 1 required keyword-only argument: 'd'",
          "output_type": "error",
          "traceback": [
            "\u001b[1;31m---------------------------------------------------------------------------\u001b[0m",
            "\u001b[1;31mTypeError\u001b[0m                                 Traceback (most recent call last)",
            "Input \u001b[1;32mIn [91]\u001b[0m, in \u001b[0;36m<cell line: 1>\u001b[1;34m()\u001b[0m\n\u001b[1;32m----> 1\u001b[0m \u001b[43mfunc1\u001b[49m\u001b[43m(\u001b[49m\u001b[38;5;241;43m10\u001b[39;49m\u001b[43m,\u001b[49m\u001b[43m \u001b[49m\u001b[38;5;241;43m20\u001b[39;49m\u001b[43m,\u001b[49m\u001b[43m \u001b[49m\u001b[38;5;124;43m'\u001b[39;49m\u001b[38;5;124;43ma\u001b[39;49m\u001b[38;5;124;43m'\u001b[39;49m\u001b[43m,\u001b[49m\u001b[43m \u001b[49m\u001b[38;5;124;43m'\u001b[39;49m\u001b[38;5;124;43mb\u001b[39;49m\u001b[38;5;124;43m'\u001b[39;49m\u001b[43m,\u001b[49m\u001b[43m \u001b[49m\u001b[38;5;241;43m100\u001b[39;49m\u001b[43m)\u001b[49m\n",
            "\u001b[1;31mTypeError\u001b[0m: func1() missing 1 required keyword-only argument: 'd'"
          ]
        }
      ],
      "source": [
        "func1(10, 20, 'a', 'b', 100)"
      ]
    },
    {
      "cell_type": "markdown",
      "id": "1018ebad-d18c-4ae0-a43c-1342ec67811d",
      "metadata": {
        "id": "1018ebad-d18c-4ae0-a43c-1342ec67811d"
      },
      "source": [
        "Let's see how we might use this to calculate the average of an arbitrary number of parameters."
      ]
    },
    {
      "cell_type": "code",
      "execution_count": null,
      "id": "9c82df8e-7e08-48cd-9535-0149828ea22b",
      "metadata": {
        "id": "9c82df8e-7e08-48cd-9535-0149828ea22b"
      },
      "outputs": [],
      "source": [
        "def avg(*args):\n",
        "    count = len(args)\n",
        "    total = sum(args)\n",
        "    return total/count"
      ]
    },
    {
      "cell_type": "code",
      "execution_count": null,
      "id": "3766581e-2065-4147-b905-b9b7ee557e69",
      "metadata": {
        "id": "3766581e-2065-4147-b905-b9b7ee557e69",
        "outputId": "6bd2fcb7-9565-46a2-8496-0737321dc09c"
      },
      "outputs": [
        {
          "data": {
            "text/plain": [
              "3.0"
            ]
          },
          "execution_count": 93,
          "metadata": {},
          "output_type": "execute_result"
        }
      ],
      "source": [
        "avg(2, 2, 4, 4)"
      ]
    },
    {
      "cell_type": "markdown",
      "id": "b3300984-0315-41b5-89e6-a8985d54c12e",
      "metadata": {
        "id": "b3300984-0315-41b5-89e6-a8985d54c12e"
      },
      "source": [
        "But watch what happens here:"
      ]
    },
    {
      "cell_type": "code",
      "execution_count": null,
      "id": "84d59a4b-cec0-488c-af15-50fb18a50249",
      "metadata": {
        "id": "84d59a4b-cec0-488c-af15-50fb18a50249",
        "outputId": "b650a7f1-6034-44de-cb7a-c21cc11f632e"
      },
      "outputs": [
        {
          "ename": "ZeroDivisionError",
          "evalue": "division by zero",
          "output_type": "error",
          "traceback": [
            "\u001b[1;31m---------------------------------------------------------------------------\u001b[0m",
            "\u001b[1;31mZeroDivisionError\u001b[0m                         Traceback (most recent call last)",
            "Input \u001b[1;32mIn [94]\u001b[0m, in \u001b[0;36m<cell line: 1>\u001b[1;34m()\u001b[0m\n\u001b[1;32m----> 1\u001b[0m \u001b[43mavg\u001b[49m\u001b[43m(\u001b[49m\u001b[43m)\u001b[49m\n",
            "Input \u001b[1;32mIn [92]\u001b[0m, in \u001b[0;36mavg\u001b[1;34m(*args)\u001b[0m\n\u001b[0;32m      2\u001b[0m count \u001b[38;5;241m=\u001b[39m \u001b[38;5;28mlen\u001b[39m(args)\n\u001b[0;32m      3\u001b[0m total \u001b[38;5;241m=\u001b[39m \u001b[38;5;28msum\u001b[39m(args)\n\u001b[1;32m----> 4\u001b[0m \u001b[38;5;28;01mreturn\u001b[39;00m \u001b[43mtotal\u001b[49m\u001b[38;5;241;43m/\u001b[39;49m\u001b[43mcount\u001b[49m\n",
            "\u001b[1;31mZeroDivisionError\u001b[0m: division by zero"
          ]
        }
      ],
      "source": [
        "avg()"
      ]
    },
    {
      "cell_type": "markdown",
      "id": "5f7e7a23-aec6-4f62-ba7d-bd749ad1c0f6",
      "metadata": {
        "id": "5f7e7a23-aec6-4f62-ba7d-bd749ad1c0f6"
      },
      "source": [
        "The problem is that we passed zero arguments.\n",
        "\n",
        "We can fix this in one of two ways:"
      ]
    },
    {
      "cell_type": "code",
      "execution_count": null,
      "id": "1f88c9a8-450c-471a-b0e1-beb5edbc940d",
      "metadata": {
        "id": "1f88c9a8-450c-471a-b0e1-beb5edbc940d"
      },
      "outputs": [],
      "source": [
        "def avg(*args):\n",
        "    count = len(args)\n",
        "    total = sum(args)\n",
        "    if count == 0:\n",
        "        return 0\n",
        "    else:\n",
        "        return total/count"
      ]
    },
    {
      "cell_type": "code",
      "execution_count": null,
      "id": "656b06bf-2206-4bb2-aeb3-db8d033169f2",
      "metadata": {
        "id": "656b06bf-2206-4bb2-aeb3-db8d033169f2",
        "outputId": "a9f030e9-ff5d-4cae-f5a3-8a08d8f0146b"
      },
      "outputs": [
        {
          "data": {
            "text/plain": [
              "3.0"
            ]
          },
          "execution_count": 98,
          "metadata": {},
          "output_type": "execute_result"
        }
      ],
      "source": [
        "avg(2, 2, 4, 4)"
      ]
    },
    {
      "cell_type": "code",
      "execution_count": null,
      "id": "c4de5f61-fe51-4f24-92ab-5b883b1697b8",
      "metadata": {
        "id": "c4de5f61-fe51-4f24-92ab-5b883b1697b8",
        "outputId": "cbde9349-5b3f-4a81-b350-8f3d35a8c898"
      },
      "outputs": [
        {
          "data": {
            "text/plain": [
              "0"
            ]
          },
          "execution_count": 99,
          "metadata": {},
          "output_type": "execute_result"
        }
      ],
      "source": [
        "avg()"
      ]
    },
    {
      "cell_type": "markdown",
      "id": "fc308d44-8ea1-4393-b3ef-71c85fd9e87a",
      "metadata": {
        "id": "fc308d44-8ea1-4393-b3ef-71c85fd9e87a"
      },
      "source": [
        "But we may now want to allow specfying zero arguments, in which case we can split our parameters into a required (non-defaulted) positional argument, and the rest:"
      ]
    },
    {
      "cell_type": "code",
      "execution_count": null,
      "id": "d70b2b58-57f1-46e2-9d55-9606ffc1f09c",
      "metadata": {
        "id": "d70b2b58-57f1-46e2-9d55-9606ffc1f09c"
      },
      "outputs": [],
      "source": [
        "def avg(a, *args):\n",
        "    count = len(args) + 1\n",
        "    total = a + sum(args)\n",
        "    return total/count"
      ]
    },
    {
      "cell_type": "code",
      "execution_count": null,
      "id": "e7163698-1360-4f26-a014-2edc0afa5d39",
      "metadata": {
        "id": "e7163698-1360-4f26-a014-2edc0afa5d39",
        "outputId": "628f8037-049d-4885-d7d7-f3444446b1d3"
      },
      "outputs": [
        {
          "data": {
            "text/plain": [
              "3.0"
            ]
          },
          "execution_count": 101,
          "metadata": {},
          "output_type": "execute_result"
        }
      ],
      "source": [
        "avg(2, 2, 4, 4)"
      ]
    },
    {
      "cell_type": "code",
      "execution_count": null,
      "id": "ff235516-f509-4050-bf3e-18f7e5384fef",
      "metadata": {
        "id": "ff235516-f509-4050-bf3e-18f7e5384fef",
        "outputId": "7d3660e2-795f-4987-a8de-505554661983"
      },
      "outputs": [
        {
          "ename": "TypeError",
          "evalue": "avg() missing 1 required positional argument: 'a'",
          "output_type": "error",
          "traceback": [
            "\u001b[1;31m---------------------------------------------------------------------------\u001b[0m",
            "\u001b[1;31mTypeError\u001b[0m                                 Traceback (most recent call last)",
            "Input \u001b[1;32mIn [102]\u001b[0m, in \u001b[0;36m<cell line: 1>\u001b[1;34m()\u001b[0m\n\u001b[1;32m----> 1\u001b[0m \u001b[43mavg\u001b[49m\u001b[43m(\u001b[49m\u001b[43m)\u001b[49m\n",
            "\u001b[1;31mTypeError\u001b[0m: avg() missing 1 required positional argument: 'a'"
          ]
        }
      ],
      "source": [
        "avg()"
      ]
    },
    {
      "cell_type": "markdown",
      "id": "8333057c-17f8-432a-9092-e083e7cc71d4",
      "metadata": {
        "id": "8333057c-17f8-432a-9092-e083e7cc71d4"
      },
      "source": [
        "As you can see, an exception occurs if we do not specify at least one argument."
      ]
    },
    {
      "cell_type": "markdown",
      "id": "44399fbc-e384-48a1-9c92-4aacc5933bd5",
      "metadata": {
        "id": "44399fbc-e384-48a1-9c92-4aacc5933bd5"
      },
      "source": [
        "**Unpacking an iterable into positional arguments**"
      ]
    },
    {
      "cell_type": "code",
      "execution_count": null,
      "id": "cd2d452a-af53-4439-ac13-a9bda3fa77a3",
      "metadata": {
        "id": "cd2d452a-af53-4439-ac13-a9bda3fa77a3"
      },
      "outputs": [],
      "source": [
        "def func1(a, b, c):\n",
        "    print(a)\n",
        "    print(b)\n",
        "    print(c)"
      ]
    },
    {
      "cell_type": "code",
      "execution_count": null,
      "id": "42db3114-c882-49b2-b28f-ae011b3ed62e",
      "metadata": {
        "id": "42db3114-c882-49b2-b28f-ae011b3ed62e"
      },
      "outputs": [],
      "source": [
        "l = [10, 20, 30]"
      ]
    },
    {
      "cell_type": "markdown",
      "id": "2b05ffa8-244d-480c-b87b-661adb930485",
      "metadata": {
        "id": "2b05ffa8-244d-480c-b87b-661adb930485"
      },
      "source": [
        "This will not work:"
      ]
    },
    {
      "cell_type": "code",
      "execution_count": null,
      "id": "aba5f7da-6313-4f36-83be-a0fe0800dc97",
      "metadata": {
        "id": "aba5f7da-6313-4f36-83be-a0fe0800dc97",
        "outputId": "d3d5611c-177b-434c-f4ea-8525b4e476b9"
      },
      "outputs": [
        {
          "ename": "TypeError",
          "evalue": "func1() missing 2 required positional arguments: 'b' and 'c'",
          "output_type": "error",
          "traceback": [
            "\u001b[1;31m---------------------------------------------------------------------------\u001b[0m",
            "\u001b[1;31mTypeError\u001b[0m                                 Traceback (most recent call last)",
            "Input \u001b[1;32mIn [107]\u001b[0m, in \u001b[0;36m<cell line: 1>\u001b[1;34m()\u001b[0m\n\u001b[1;32m----> 1\u001b[0m \u001b[43mfunc1\u001b[49m\u001b[43m(\u001b[49m\u001b[43ml\u001b[49m\u001b[43m)\u001b[49m\n",
            "\u001b[1;31mTypeError\u001b[0m: func1() missing 2 required positional arguments: 'b' and 'c'"
          ]
        }
      ],
      "source": [
        "func1(l)"
      ]
    },
    {
      "cell_type": "markdown",
      "id": "0d65459d-dbeb-4245-a3d6-8ab0f4e369d2",
      "metadata": {
        "id": "0d65459d-dbeb-4245-a3d6-8ab0f4e369d2"
      },
      "source": [
        "The function expects three positional arguments, but we only supplied a single one (albeit a list).\n",
        "\n",
        "But we could unpack the list, and then pass it to as the function arguments:"
      ]
    },
    {
      "cell_type": "code",
      "execution_count": null,
      "id": "188c54b7-b2dd-4c9a-868a-2e92be313349",
      "metadata": {
        "id": "188c54b7-b2dd-4c9a-868a-2e92be313349",
        "outputId": "eae83f5e-fb98-4f64-aec8-298e2ab552cf"
      },
      "outputs": [
        {
          "data": {
            "text/plain": [
              "(10, 20, 30)"
            ]
          },
          "execution_count": 108,
          "metadata": {},
          "output_type": "execute_result"
        }
      ],
      "source": [
        "*l,"
      ]
    },
    {
      "cell_type": "code",
      "execution_count": null,
      "id": "457daae2-3706-4c1b-8f0a-2d18c7282111",
      "metadata": {
        "id": "457daae2-3706-4c1b-8f0a-2d18c7282111",
        "outputId": "0d178e7b-d580-43e6-a267-8cbb9643e30e"
      },
      "outputs": [
        {
          "name": "stdout",
          "output_type": "stream",
          "text": [
            "10\n",
            "20\n",
            "30\n"
          ]
        }
      ],
      "source": [
        "func1(*l)"
      ]
    },
    {
      "cell_type": "markdown",
      "id": "797f128c-9acc-4dae-9672-decf64808e81",
      "metadata": {
        "id": "797f128c-9acc-4dae-9672-decf64808e81"
      },
      "source": [
        "What about mixing positional and keyword arguments with this?"
      ]
    },
    {
      "cell_type": "code",
      "execution_count": null,
      "id": "1466bf69-5485-4e7d-bdda-2b73cdc6475b",
      "metadata": {
        "id": "1466bf69-5485-4e7d-bdda-2b73cdc6475b"
      },
      "outputs": [],
      "source": [
        "def func1(a, b, c, *d):\n",
        "    print(a)\n",
        "    print(b)\n",
        "    print(c)\n",
        "    print(d)"
      ]
    },
    {
      "cell_type": "code",
      "execution_count": null,
      "id": "1b9bc66e-3f97-448c-ba54-92d9be0f0daf",
      "metadata": {
        "id": "1b9bc66e-3f97-448c-ba54-92d9be0f0daf",
        "outputId": "68d1c1cb-cf78-447e-af78-c79cdb7e23ae"
      },
      "outputs": [
        {
          "ename": "SyntaxError",
          "evalue": "positional argument follows keyword argument (3288857041.py, line 1)",
          "output_type": "error",
          "traceback": [
            "\u001b[1;36m  Input \u001b[1;32mIn [111]\u001b[1;36m\u001b[0m\n\u001b[1;33m    func1(10, c=20, b=10, 'a', 'b')\u001b[0m\n\u001b[1;37m                                  ^\u001b[0m\n\u001b[1;31mSyntaxError\u001b[0m\u001b[1;31m:\u001b[0m positional argument follows keyword argument\n"
          ]
        }
      ],
      "source": [
        "func1(10, c=20, b=10, 'a', 'b')"
      ]
    },
    {
      "cell_type": "markdown",
      "id": "1487aa74-e7de-45b9-993a-dd8c9a8a8738",
      "metadata": {
        "id": "1487aa74-e7de-45b9-993a-dd8c9a8a8738"
      },
      "source": [
        "Recall that once a keyword argument is used in a function call, we cannot use positional arguments after that.\n",
        "\n",
        "However, in the next lecture we'll look at how to address this issue."
      ]
    },
    {
      "cell_type": "markdown",
      "id": "8f8d93f6-68cf-4dc6-aa28-2329f82b74e4",
      "metadata": {
        "id": "8f8d93f6-68cf-4dc6-aa28-2329f82b74e4"
      },
      "source": [
        "### 05 - Keyword Arguments"
      ]
    },
    {
      "cell_type": "markdown",
      "id": "45396457-2f3c-4190-b579-5bd338051828",
      "metadata": {
        "id": "45396457-2f3c-4190-b579-5bd338051828"
      },
      "source": [
        "Recall: positional parameters defined in functions can also be passed as named (keyword) arguments."
      ]
    },
    {
      "cell_type": "code",
      "execution_count": null,
      "id": "9817c7b5-819f-48a0-b1a9-395024ac0750",
      "metadata": {
        "id": "9817c7b5-819f-48a0-b1a9-395024ac0750"
      },
      "outputs": [],
      "source": [
        "def func1(a, b, c):\n",
        "    print(a, b, c)"
      ]
    },
    {
      "cell_type": "code",
      "execution_count": null,
      "id": "610580e8-9ed5-4a12-a7db-90ec17396694",
      "metadata": {
        "id": "610580e8-9ed5-4a12-a7db-90ec17396694",
        "outputId": "812408ca-e9eb-443a-8f42-197233997fbc"
      },
      "outputs": [
        {
          "name": "stdout",
          "output_type": "stream",
          "text": [
            "10 20 30\n"
          ]
        }
      ],
      "source": [
        "func1(10, 20, 30)"
      ]
    },
    {
      "cell_type": "code",
      "execution_count": null,
      "id": "267e204e-02a5-45f3-a935-1a0720523628",
      "metadata": {
        "id": "267e204e-02a5-45f3-a935-1a0720523628",
        "outputId": "d2042665-6a6c-4b6f-bde6-d0b1c02a05f2"
      },
      "outputs": [
        {
          "name": "stdout",
          "output_type": "stream",
          "text": [
            "10 20 30\n"
          ]
        }
      ],
      "source": [
        "func1(b=20, c=30, a=10)"
      ]
    },
    {
      "cell_type": "code",
      "execution_count": null,
      "id": "1ffd5864-2d4d-4cfc-9b9a-bb252a6dc25c",
      "metadata": {
        "id": "1ffd5864-2d4d-4cfc-9b9a-bb252a6dc25c",
        "outputId": "995b58f9-714f-4cfc-e85e-346e2e39157a"
      },
      "outputs": [
        {
          "name": "stdout",
          "output_type": "stream",
          "text": [
            "10 20 30\n"
          ]
        }
      ],
      "source": [
        "func1(10, c=30, b=20)"
      ]
    },
    {
      "cell_type": "markdown",
      "id": "e1cb9239-c314-4cbe-a3b9-7a4bcfc5d4d8",
      "metadata": {
        "id": "e1cb9239-c314-4cbe-a3b9-7a4bcfc5d4d8"
      },
      "source": [
        "Using a named argument is optional and up to the caller.\n",
        "\n",
        "What if we wanted to force calls to our function to use named arguments?\n",
        "\n",
        "We can do so by exhausting all the positional arguments, and then adding some additional parameters in the function definition:"
      ]
    },
    {
      "cell_type": "code",
      "execution_count": null,
      "id": "0728091b-1a8d-4f70-be27-bc13a3d21187",
      "metadata": {
        "id": "0728091b-1a8d-4f70-be27-bc13a3d21187"
      },
      "outputs": [],
      "source": [
        "def func1(a, b, *args, d):\n",
        "    print(a, b, args, d)"
      ]
    },
    {
      "cell_type": "markdown",
      "id": "92fd696c-b8dc-42cc-b780-5edc67d801da",
      "metadata": {
        "id": "92fd696c-b8dc-42cc-b780-5edc67d801da"
      },
      "source": [
        "Now we will need at least two positional arguments, an optional (possibly even zero) number of additional arguments, and this extra argument which is supposed to go into `d`. This argument can only be passed to the function using a named (keyword) argument:\n",
        "\n",
        "So, this will not work:"
      ]
    },
    {
      "cell_type": "code",
      "execution_count": null,
      "id": "70b612ef-ebaf-46bc-8e44-837a8b348062",
      "metadata": {
        "id": "70b612ef-ebaf-46bc-8e44-837a8b348062",
        "outputId": "25861ef0-3e74-4b19-fabd-544f761db79c"
      },
      "outputs": [
        {
          "ename": "TypeError",
          "evalue": "func1() missing 1 required keyword-only argument: 'd'",
          "output_type": "error",
          "traceback": [
            "\u001b[1;31m---------------------------------------------------------------------------\u001b[0m",
            "\u001b[1;31mTypeError\u001b[0m                                 Traceback (most recent call last)",
            "Input \u001b[1;32mIn [117]\u001b[0m, in \u001b[0;36m<cell line: 1>\u001b[1;34m()\u001b[0m\n\u001b[1;32m----> 1\u001b[0m \u001b[43mfunc1\u001b[49m\u001b[43m(\u001b[49m\u001b[38;5;241;43m10\u001b[39;49m\u001b[43m,\u001b[49m\u001b[43m \u001b[49m\u001b[38;5;241;43m20\u001b[39;49m\u001b[43m,\u001b[49m\u001b[43m \u001b[49m\u001b[38;5;124;43m'\u001b[39;49m\u001b[38;5;124;43ma\u001b[39;49m\u001b[38;5;124;43m'\u001b[39;49m\u001b[43m,\u001b[49m\u001b[43m \u001b[49m\u001b[38;5;124;43m'\u001b[39;49m\u001b[38;5;124;43mb\u001b[39;49m\u001b[38;5;124;43m'\u001b[39;49m\u001b[43m,\u001b[49m\u001b[43m \u001b[49m\u001b[38;5;241;43m100\u001b[39;49m\u001b[43m)\u001b[49m\n",
            "\u001b[1;31mTypeError\u001b[0m: func1() missing 1 required keyword-only argument: 'd'"
          ]
        }
      ],
      "source": [
        "func1(10, 20, 'a', 'b', 100)"
      ]
    },
    {
      "cell_type": "markdown",
      "id": "b71fcb6f-718a-41a3-884c-831c6d6ada8c",
      "metadata": {
        "id": "b71fcb6f-718a-41a3-884c-831c6d6ada8c"
      },
      "source": [
        "But this will:"
      ]
    },
    {
      "cell_type": "code",
      "execution_count": null,
      "id": "41e22c8a-5f62-4a15-886a-b06deae9bc51",
      "metadata": {
        "id": "41e22c8a-5f62-4a15-886a-b06deae9bc51",
        "outputId": "1d265fdc-327e-413e-bc3f-5f2ef0f7d4bf"
      },
      "outputs": [
        {
          "name": "stdout",
          "output_type": "stream",
          "text": [
            "10 20 ('a', 'b') 100\n"
          ]
        }
      ],
      "source": [
        "func1(10, 20, 'a', 'b', d=100)"
      ]
    },
    {
      "cell_type": "markdown",
      "id": "57e943b3-5a2a-4313-98f8-34c7635e8f92",
      "metadata": {
        "id": "57e943b3-5a2a-4313-98f8-34c7635e8f92"
      },
      "source": [
        "As you can see, `d` took the keyword argument, while the remaining arguments were handled as positional parameters.\n",
        "\n",
        "We can even define a function that has only optional positional and mandatory keyword arguments:"
      ]
    },
    {
      "cell_type": "code",
      "execution_count": null,
      "id": "8aaeb7fb-a62c-402c-9126-b458805ca1b0",
      "metadata": {
        "id": "8aaeb7fb-a62c-402c-9126-b458805ca1b0"
      },
      "outputs": [],
      "source": [
        "def func1(*args, d):\n",
        "    print(args)\n",
        "    print(d)"
      ]
    },
    {
      "cell_type": "code",
      "execution_count": null,
      "id": "079d35bc-0327-405c-8fe9-066d7a7eff1c",
      "metadata": {
        "id": "079d35bc-0327-405c-8fe9-066d7a7eff1c",
        "outputId": "1464f3bc-db37-4274-bad9-f6f65d65d6f7"
      },
      "outputs": [
        {
          "name": "stdout",
          "output_type": "stream",
          "text": [
            "(1, 2, 3)\n",
            "hello\n"
          ]
        }
      ],
      "source": [
        "func1(1, 2, 3, d='hello')"
      ]
    },
    {
      "cell_type": "markdown",
      "id": "483a5e23-240c-4041-98d9-3e0ec3c65b2d",
      "metadata": {
        "id": "483a5e23-240c-4041-98d9-3e0ec3c65b2d"
      },
      "source": [
        "We can of course, not pass any positional arguments:"
      ]
    },
    {
      "cell_type": "code",
      "execution_count": null,
      "id": "1c518e7d-2251-48b0-b0f2-0abd8f80d6eb",
      "metadata": {
        "id": "1c518e7d-2251-48b0-b0f2-0abd8f80d6eb",
        "outputId": "cba52f5e-789f-48d6-ecd0-dcb6f0cce6fb"
      },
      "outputs": [
        {
          "name": "stdout",
          "output_type": "stream",
          "text": [
            "()\n",
            "hello\n"
          ]
        }
      ],
      "source": [
        "func1(d='hello')"
      ]
    },
    {
      "cell_type": "markdown",
      "id": "2e96789f-df0d-4197-8a23-2796ba249ed5",
      "metadata": {
        "id": "2e96789f-df0d-4197-8a23-2796ba249ed5"
      },
      "source": [
        "but the positional argument is mandatory (since no default was provided in the function definition):"
      ]
    },
    {
      "cell_type": "code",
      "execution_count": null,
      "id": "986e7716-254d-4aca-b0a2-802aa9ca0a2d",
      "metadata": {
        "id": "986e7716-254d-4aca-b0a2-802aa9ca0a2d",
        "outputId": "a076f36d-0cde-483e-c420-2f4c95874c49"
      },
      "outputs": [
        {
          "ename": "TypeError",
          "evalue": "func1() missing 1 required keyword-only argument: 'd'",
          "output_type": "error",
          "traceback": [
            "\u001b[1;31m---------------------------------------------------------------------------\u001b[0m",
            "\u001b[1;31mTypeError\u001b[0m                                 Traceback (most recent call last)",
            "Input \u001b[1;32mIn [122]\u001b[0m, in \u001b[0;36m<cell line: 1>\u001b[1;34m()\u001b[0m\n\u001b[1;32m----> 1\u001b[0m \u001b[43mfunc1\u001b[49m\u001b[43m(\u001b[49m\u001b[43m)\u001b[49m\n",
            "\u001b[1;31mTypeError\u001b[0m: func1() missing 1 required keyword-only argument: 'd'"
          ]
        }
      ],
      "source": [
        "func1()"
      ]
    },
    {
      "cell_type": "markdown",
      "id": "e45ca8e6-64d6-43ad-9f38-ce8292d808d5",
      "metadata": {
        "id": "e45ca8e6-64d6-43ad-9f38-ce8292d808d5"
      },
      "source": [
        "To make the keyword argument optional, we just need to specify a default value in the function definition:"
      ]
    },
    {
      "cell_type": "code",
      "execution_count": null,
      "id": "a017ca9d-e044-48f9-a911-945278bae5fd",
      "metadata": {
        "id": "a017ca9d-e044-48f9-a911-945278bae5fd"
      },
      "outputs": [],
      "source": [
        "def func1(*args, d='n/a'):\n",
        "    print(args)\n",
        "    print(d)"
      ]
    },
    {
      "cell_type": "code",
      "execution_count": null,
      "id": "80437f7b-9c73-4e79-a34c-0d5d22a36031",
      "metadata": {
        "id": "80437f7b-9c73-4e79-a34c-0d5d22a36031",
        "outputId": "59720ff8-634d-439d-ebb0-28fe0531fc28"
      },
      "outputs": [
        {
          "name": "stdout",
          "output_type": "stream",
          "text": [
            "(1, 2, 3)\n",
            "n/a\n"
          ]
        }
      ],
      "source": [
        "func1(1, 2, 3)"
      ]
    },
    {
      "cell_type": "code",
      "execution_count": null,
      "id": "4dda08ca-12b4-4486-9cd6-b95dc418f485",
      "metadata": {
        "id": "4dda08ca-12b4-4486-9cd6-b95dc418f485",
        "outputId": "7dfc0c50-7784-4e36-93ea-2283a2d2c69e"
      },
      "outputs": [
        {
          "name": "stdout",
          "output_type": "stream",
          "text": [
            "()\n",
            "n/a\n"
          ]
        }
      ],
      "source": [
        "func1()"
      ]
    },
    {
      "cell_type": "markdown",
      "id": "dfe63e28-1db1-4634-a0d6-b4d0b471225c",
      "metadata": {
        "id": "dfe63e28-1db1-4634-a0d6-b4d0b471225c"
      },
      "source": [
        "Sometimes we want only keyword arguments, in which case we still have to exhaust the positional arguments first - but we can use the following syntax if we do not want any positional parameters passed in:"
      ]
    },
    {
      "cell_type": "code",
      "execution_count": null,
      "id": "8476b958-39a5-4d02-ace3-4fa1f0b07822",
      "metadata": {
        "id": "8476b958-39a5-4d02-ace3-4fa1f0b07822"
      },
      "outputs": [],
      "source": [
        "def func1(*, d='hello'):\n",
        "    print(d)"
      ]
    },
    {
      "cell_type": "code",
      "execution_count": null,
      "id": "764dc6df-dbf9-4c3e-b46e-9cebd04a8a78",
      "metadata": {
        "id": "764dc6df-dbf9-4c3e-b46e-9cebd04a8a78",
        "outputId": "93cd8361-3915-491b-9e76-6a1227e88ed5"
      },
      "outputs": [
        {
          "ename": "TypeError",
          "evalue": "func1() takes 0 positional arguments but 1 positional argument (and 1 keyword-only argument) were given",
          "output_type": "error",
          "traceback": [
            "\u001b[1;31m---------------------------------------------------------------------------\u001b[0m",
            "\u001b[1;31mTypeError\u001b[0m                                 Traceback (most recent call last)",
            "Input \u001b[1;32mIn [127]\u001b[0m, in \u001b[0;36m<cell line: 1>\u001b[1;34m()\u001b[0m\n\u001b[1;32m----> 1\u001b[0m \u001b[43mfunc1\u001b[49m\u001b[43m(\u001b[49m\u001b[38;5;241;43m10\u001b[39;49m\u001b[43m,\u001b[49m\u001b[43m \u001b[49m\u001b[43md\u001b[49m\u001b[38;5;241;43m=\u001b[39;49m\u001b[38;5;124;43m'\u001b[39;49m\u001b[38;5;124;43mbye\u001b[39;49m\u001b[38;5;124;43m'\u001b[39;49m\u001b[43m)\u001b[49m\n",
            "\u001b[1;31mTypeError\u001b[0m: func1() takes 0 positional arguments but 1 positional argument (and 1 keyword-only argument) were given"
          ]
        }
      ],
      "source": [
        "func1(10, d='bye')"
      ]
    },
    {
      "cell_type": "code",
      "execution_count": null,
      "id": "cf570b54-e6e3-4e29-b9fc-fdcb7f5b2a3e",
      "metadata": {
        "id": "cf570b54-e6e3-4e29-b9fc-fdcb7f5b2a3e",
        "outputId": "f3310a00-3411-4479-f2a6-0ff6b1956a90"
      },
      "outputs": [
        {
          "name": "stdout",
          "output_type": "stream",
          "text": [
            "bye\n"
          ]
        }
      ],
      "source": [
        "func1(d='bye')"
      ]
    },
    {
      "cell_type": "markdown",
      "id": "abe016ca-20df-4083-94e7-6a8f82fd2554",
      "metadata": {
        "id": "abe016ca-20df-4083-94e7-6a8f82fd2554"
      },
      "source": [
        "Of course, if we do not provide a default value for the keyword argument, then we effectively are forcing the caller to provide the keyword argument:"
      ]
    },
    {
      "cell_type": "code",
      "execution_count": null,
      "id": "f80a7f40-e91e-49c8-a5fc-2b5d798946c7",
      "metadata": {
        "id": "f80a7f40-e91e-49c8-a5fc-2b5d798946c7"
      },
      "outputs": [],
      "source": [
        "def func1(*, a, b):\n",
        "    print(a)\n",
        "    print(b)"
      ]
    },
    {
      "cell_type": "code",
      "execution_count": null,
      "id": "456630a4-4e20-45e0-b474-adfe7d1c344e",
      "metadata": {
        "id": "456630a4-4e20-45e0-b474-adfe7d1c344e",
        "outputId": "fc263501-e88b-46a2-fd36-247c9e1f96f2"
      },
      "outputs": [
        {
          "name": "stdout",
          "output_type": "stream",
          "text": [
            "10\n",
            "20\n"
          ]
        }
      ],
      "source": [
        "func1(a=10, b=20)"
      ]
    },
    {
      "cell_type": "markdown",
      "id": "677d5d42-a158-48e1-9644-71789f77a8c4",
      "metadata": {
        "id": "677d5d42-a158-48e1-9644-71789f77a8c4"
      },
      "source": [
        "but, the following would not work:"
      ]
    },
    {
      "cell_type": "code",
      "execution_count": null,
      "id": "7fc2dc67-635c-4931-8574-18efef9dc170",
      "metadata": {
        "id": "7fc2dc67-635c-4931-8574-18efef9dc170",
        "outputId": "d52be6c0-4b8a-4c39-a597-19233d433014"
      },
      "outputs": [
        {
          "ename": "TypeError",
          "evalue": "func1() takes 0 positional arguments but 2 were given",
          "output_type": "error",
          "traceback": [
            "\u001b[1;31m---------------------------------------------------------------------------\u001b[0m",
            "\u001b[1;31mTypeError\u001b[0m                                 Traceback (most recent call last)",
            "Input \u001b[1;32mIn [131]\u001b[0m, in \u001b[0;36m<cell line: 1>\u001b[1;34m()\u001b[0m\n\u001b[1;32m----> 1\u001b[0m \u001b[43mfunc1\u001b[49m\u001b[43m(\u001b[49m\u001b[38;5;241;43m10\u001b[39;49m\u001b[43m,\u001b[49m\u001b[43m \u001b[49m\u001b[38;5;241;43m20\u001b[39;49m\u001b[43m)\u001b[49m\n",
            "\u001b[1;31mTypeError\u001b[0m: func1() takes 0 positional arguments but 2 were given"
          ]
        }
      ],
      "source": [
        "func1(10, 20)"
      ]
    },
    {
      "cell_type": "markdown",
      "id": "ce477ef2-e41a-4702-949e-7460336816da",
      "metadata": {
        "id": "ce477ef2-e41a-4702-949e-7460336816da"
      },
      "source": [
        "Unlike positional parameters, keyword arguments do not have to be defined with non-defaulted and then defaulted arguments:"
      ]
    },
    {
      "cell_type": "code",
      "execution_count": null,
      "id": "8b38b8dd-cea0-4d8c-897d-79e7515a981d",
      "metadata": {
        "id": "8b38b8dd-cea0-4d8c-897d-79e7515a981d"
      },
      "outputs": [],
      "source": [
        "def func1(a, *, b='hello', c):\n",
        "    print(a, b, c)"
      ]
    },
    {
      "cell_type": "code",
      "execution_count": null,
      "id": "62b88aa1-e243-4209-bd6d-4f4b685e82e6",
      "metadata": {
        "id": "62b88aa1-e243-4209-bd6d-4f4b685e82e6",
        "outputId": "91942844-bba2-456a-aa88-8802a5efea3f"
      },
      "outputs": [
        {
          "name": "stdout",
          "output_type": "stream",
          "text": [
            "5 hello bye\n"
          ]
        }
      ],
      "source": [
        "func1(5, c='bye')"
      ]
    },
    {
      "cell_type": "markdown",
      "id": "6543762f-ec28-45b7-be2c-8fee6599581e",
      "metadata": {
        "id": "6543762f-ec28-45b7-be2c-8fee6599581e"
      },
      "source": [
        "We can also include positional non-defaulted (first), positional defaulted (after positional non-defaulted) folowed lastly (after exhausting positional arguments) by keyword args (defaulted or non-defaulted in any order)"
      ]
    },
    {
      "cell_type": "code",
      "execution_count": null,
      "id": "4be810c3-f308-4823-bd14-32e045e0537e",
      "metadata": {
        "id": "4be810c3-f308-4823-bd14-32e045e0537e"
      },
      "outputs": [],
      "source": [
        "def func1(a, b=20, *args, d=0, e='n/a'):\n",
        "    print(a, b, args, d, e)"
      ]
    },
    {
      "cell_type": "code",
      "execution_count": null,
      "id": "6a6bf891-d6f3-4ee7-90cf-294de6edf410",
      "metadata": {
        "id": "6a6bf891-d6f3-4ee7-90cf-294de6edf410",
        "outputId": "c7ac6b3c-56b6-4196-9337-f3e456ad6bd2"
      },
      "outputs": [
        {
          "name": "stdout",
          "output_type": "stream",
          "text": [
            "5 4 (3, 2, 1) 0 all engines running\n"
          ]
        }
      ],
      "source": [
        "func1(5, 4, 3, 2, 1, d=0, e='all engines running')"
      ]
    },
    {
      "cell_type": "code",
      "execution_count": null,
      "id": "75ed34b2-6654-464d-9e4e-809fc12f393d",
      "metadata": {
        "id": "75ed34b2-6654-464d-9e4e-809fc12f393d",
        "outputId": "380706a1-bd12-4046-cc87-7f8c32121ccd"
      },
      "outputs": [
        {
          "name": "stdout",
          "output_type": "stream",
          "text": [
            "0 600 () gooood morning python!\n"
          ]
        }
      ],
      "source": [
        "func1(0, 600, d='gooood morning', e='python!')"
      ]
    },
    {
      "cell_type": "code",
      "execution_count": null,
      "id": "2c6dca39-b7a7-4e35-9c36-c0a6ddb975a9",
      "metadata": {
        "id": "2c6dca39-b7a7-4e35-9c36-c0a6ddb975a9",
        "outputId": "174ec121-8219-4b66-913d-6f73b8ac48f6"
      },
      "outputs": [
        {
          "name": "stdout",
          "output_type": "stream",
          "text": [
            "11 m/s (24, 'mph') unladen swallow\n"
          ]
        }
      ],
      "source": [
        "func1(11, 'm/s', 24, 'mph', d='unladen', e='swallow')"
      ]
    },
    {
      "cell_type": "markdown",
      "id": "570b1c65-e1c5-463c-a368-f43ae76cc875",
      "metadata": {
        "id": "570b1c65-e1c5-463c-a368-f43ae76cc875"
      },
      "source": [
        "As you can see, defining parameters and passing arguments is exteremly flexible in Python! Even more so, when you account for the fact that the parameters are not statically typed!"
      ]
    },
    {
      "cell_type": "markdown",
      "id": "5a6e1399-46d1-447c-afb7-39e71870629b",
      "metadata": {
        "id": "5a6e1399-46d1-447c-afb7-39e71870629b"
      },
      "source": [
        "### 06 - Kwargs"
      ]
    },
    {
      "cell_type": "code",
      "execution_count": null,
      "id": "b62f83e2-4f88-4f33-bb3c-b0d5c6272362",
      "metadata": {
        "id": "b62f83e2-4f88-4f33-bb3c-b0d5c6272362"
      },
      "outputs": [],
      "source": [
        "def func(**kwargs):\n",
        "    print(kwargs)"
      ]
    },
    {
      "cell_type": "code",
      "execution_count": null,
      "id": "25353ff4-f56e-4050-9d2c-0b0976194c29",
      "metadata": {
        "id": "25353ff4-f56e-4050-9d2c-0b0976194c29",
        "outputId": "50884559-0c92-4200-b785-b8bf220ecbed"
      },
      "outputs": [
        {
          "name": "stdout",
          "output_type": "stream",
          "text": [
            "{'x': 100, 'y': 200}\n"
          ]
        }
      ],
      "source": [
        "func(x=100, y=200)"
      ]
    },
    {
      "cell_type": "markdown",
      "id": "8a35643b-8da0-4225-a84f-c7fd3f5edd51",
      "metadata": {
        "id": "8a35643b-8da0-4225-a84f-c7fd3f5edd51"
      },
      "source": [
        "We can also use it in conjunction with *args:"
      ]
    },
    {
      "cell_type": "code",
      "execution_count": null,
      "id": "d44f39be-d828-4909-b6ba-1587e8ea3e9d",
      "metadata": {
        "id": "d44f39be-d828-4909-b6ba-1587e8ea3e9d"
      },
      "outputs": [],
      "source": [
        "def func(*args, **kwargs):\n",
        "    print(args)\n",
        "    print(kwargs)"
      ]
    },
    {
      "cell_type": "code",
      "execution_count": null,
      "id": "0f5698dc-7feb-4131-b1dc-a36cde3b1029",
      "metadata": {
        "id": "0f5698dc-7feb-4131-b1dc-a36cde3b1029",
        "outputId": "43b0378b-22f8-4f66-b60b-0671c173a242"
      },
      "outputs": [
        {
          "name": "stdout",
          "output_type": "stream",
          "text": [
            "(1, 2)\n",
            "{'a': 100, 'b': 200}\n"
          ]
        }
      ],
      "source": [
        "func(1, 2, a=100, b=200)"
      ]
    },
    {
      "cell_type": "markdown",
      "id": "065ae975-24eb-4afb-86f1-486deb27a0aa",
      "metadata": {
        "id": "065ae975-24eb-4afb-86f1-486deb27a0aa"
      },
      "source": [
        "---\n",
        "\n",
        "**BE CAREFUL!**"
      ]
    },
    {
      "cell_type": "markdown",
      "id": "9a953844-323e-4209-b6a6-ea05b45b3268",
      "metadata": {
        "id": "9a953844-323e-4209-b6a6-ea05b45b3268"
      },
      "source": [
        "*Note: You cannot do the following:*"
      ]
    },
    {
      "cell_type": "code",
      "execution_count": null,
      "id": "648ed158-1595-43f0-adf2-45179d7e45b0",
      "metadata": {
        "id": "648ed158-1595-43f0-adf2-45179d7e45b0",
        "outputId": "90c95c72-cf84-46f4-f831-d150210bb3b9"
      },
      "outputs": [
        {
          "ename": "SyntaxError",
          "evalue": "named arguments must follow bare * (1249865622.py, line 1)",
          "output_type": "error",
          "traceback": [
            "\u001b[1;36m  Input \u001b[1;32mIn [143]\u001b[1;36m\u001b[0m\n\u001b[1;33m    def func(*, **kwargs):\u001b[0m\n\u001b[1;37m                ^\u001b[0m\n\u001b[1;31mSyntaxError\u001b[0m\u001b[1;31m:\u001b[0m named arguments must follow bare *\n"
          ]
        }
      ],
      "source": [
        "def func(*, **kwargs):\n",
        "    print(kwargs)"
      ]
    },
    {
      "cell_type": "markdown",
      "id": "d1880f96-8867-47c5-9e38-d9e601e27cfd",
      "metadata": {
        "id": "d1880f96-8867-47c5-9e38-d9e601e27cfd"
      },
      "source": [
        "Also, you cannot specify parameters after `**kwargs` has been used:"
      ]
    },
    {
      "cell_type": "code",
      "execution_count": null,
      "id": "8ee88a88-d28d-4fba-8995-1ab8688d9c07",
      "metadata": {
        "id": "8ee88a88-d28d-4fba-8995-1ab8688d9c07",
        "outputId": "25708444-46d2-4171-e174-ed2a5dfe83c8"
      },
      "outputs": [
        {
          "ename": "SyntaxError",
          "evalue": "invalid syntax (1664570957.py, line 1)",
          "output_type": "error",
          "traceback": [
            "\u001b[1;36m  Input \u001b[1;32mIn [144]\u001b[1;36m\u001b[0m\n\u001b[1;33m    def func(a, b, **kwargs, c):\u001b[0m\n\u001b[1;37m                             ^\u001b[0m\n\u001b[1;31mSyntaxError\u001b[0m\u001b[1;31m:\u001b[0m invalid syntax\n"
          ]
        }
      ],
      "source": [
        "def func(a, b, **kwargs, c):\n",
        "    pass"
      ]
    },
    {
      "cell_type": "markdown",
      "id": "05d22419-018e-4351-ab48-f67245ce1f6a",
      "metadata": {
        "id": "05d22419-018e-4351-ab48-f67245ce1f6a"
      },
      "source": [
        "If you want to specify both specific keyword-only arguments and `**kwargs`, you will need to first get to a point where you can define a keyword-only argument (i.e. exhaust the positional arguments, using either `*args` or just `*`)"
      ]
    },
    {
      "cell_type": "code",
      "execution_count": null,
      "id": "871b02cb-0ef8-49c4-95b3-10cd9997c57f",
      "metadata": {
        "id": "871b02cb-0ef8-49c4-95b3-10cd9997c57f"
      },
      "outputs": [],
      "source": [
        "def func(*, d, **kwargs):\n",
        "    print(d)\n",
        "    print(kwargs)"
      ]
    },
    {
      "cell_type": "code",
      "execution_count": null,
      "id": "1359a7fb-4d3f-4045-a20a-0bfc746f7a9f",
      "metadata": {
        "id": "1359a7fb-4d3f-4045-a20a-0bfc746f7a9f",
        "outputId": "0fe18f47-f523-4fb3-9a61-063268a00d90"
      },
      "outputs": [
        {
          "name": "stdout",
          "output_type": "stream",
          "text": [
            "1\n",
            "{'x': 100, 'y': 200}\n"
          ]
        }
      ],
      "source": [
        "func(d=1, x=100, y=200)"
      ]
    },
    {
      "cell_type": "markdown",
      "id": "3d63f5d5-d58a-4b21-90ab-58fa2aa52cdc",
      "metadata": {
        "id": "3d63f5d5-d58a-4b21-90ab-58fa2aa52cdc"
      },
      "source": [
        "### 07 - Putting it all Together"
      ]
    },
    {
      "cell_type": "markdown",
      "id": "ab5a21c3-072c-49ce-9c88-a4c12d470bc3",
      "metadata": {
        "id": "ab5a21c3-072c-49ce-9c88-a4c12d470bc3"
      },
      "source": [
        "Positionals Only: no extra positionals, no defaults (all positionals required)"
      ]
    },
    {
      "cell_type": "code",
      "execution_count": null,
      "id": "81e9453f-e6bb-4a66-80cb-7c8834b34783",
      "metadata": {
        "id": "81e9453f-e6bb-4a66-80cb-7c8834b34783"
      },
      "outputs": [],
      "source": [
        "def func(a, b):\n",
        "    print(a, b)"
      ]
    },
    {
      "cell_type": "code",
      "execution_count": null,
      "id": "c301c1f9-58e2-4373-963a-635ddaf9aef6",
      "metadata": {
        "id": "c301c1f9-58e2-4373-963a-635ddaf9aef6",
        "outputId": "8f69cbd5-bcf0-4d2a-d442-43ea906da7f6"
      },
      "outputs": [
        {
          "name": "stdout",
          "output_type": "stream",
          "text": [
            "hello world\n"
          ]
        }
      ],
      "source": [
        "func('hello', 'world')"
      ]
    },
    {
      "cell_type": "code",
      "execution_count": null,
      "id": "7b32e5b8-ee65-430a-88f2-a858aad45303",
      "metadata": {
        "id": "7b32e5b8-ee65-430a-88f2-a858aad45303",
        "outputId": "f741f7ba-870f-444d-f685-490088450d9a"
      },
      "outputs": [
        {
          "name": "stdout",
          "output_type": "stream",
          "text": [
            "hello world\n"
          ]
        }
      ],
      "source": [
        "func(b='world', a='hello')"
      ]
    },
    {
      "cell_type": "markdown",
      "id": "c31b6d6c-8102-492c-b9fe-7c8beb3a91bf",
      "metadata": {
        "id": "c31b6d6c-8102-492c-b9fe-7c8beb3a91bf"
      },
      "source": [
        "Positionals Only: no extra positionals, defaults (some positionals optional)"
      ]
    },
    {
      "cell_type": "code",
      "execution_count": null,
      "id": "43163a9a-4770-4378-8d1a-ddaaadd2a823",
      "metadata": {
        "id": "43163a9a-4770-4378-8d1a-ddaaadd2a823"
      },
      "outputs": [],
      "source": [
        "def func(a, b='world', c=10):\n",
        "    print(a, b, c)"
      ]
    },
    {
      "cell_type": "code",
      "execution_count": null,
      "id": "e633b73c-1da4-436d-96db-149d27948a8d",
      "metadata": {
        "id": "e633b73c-1da4-436d-96db-149d27948a8d",
        "outputId": "3040183d-619e-42d6-f9a3-4c961eea88ba"
      },
      "outputs": [
        {
          "name": "stdout",
          "output_type": "stream",
          "text": [
            "hello world 10\n"
          ]
        }
      ],
      "source": [
        "func('hello')"
      ]
    },
    {
      "cell_type": "code",
      "execution_count": null,
      "id": "c76486a8-fd61-40c9-9bab-08e8b658eb2c",
      "metadata": {
        "id": "c76486a8-fd61-40c9-9bab-08e8b658eb2c",
        "outputId": "1a4ff356-aaf6-4ec3-f815-05cdfed1026f"
      },
      "outputs": [
        {
          "name": "stdout",
          "output_type": "stream",
          "text": [
            "hello world !\n"
          ]
        }
      ],
      "source": [
        "func('hello', c='!')"
      ]
    },
    {
      "cell_type": "markdown",
      "id": "322a9e4b-bbfe-4da5-8d9f-78240e59e993",
      "metadata": {
        "id": "322a9e4b-bbfe-4da5-8d9f-78240e59e993"
      },
      "source": [
        "Positionals Only: extra positionals, no defaults (all positionals required)"
      ]
    },
    {
      "cell_type": "code",
      "execution_count": null,
      "id": "997590e0-175c-4a50-ac73-76c32e80c26a",
      "metadata": {
        "id": "997590e0-175c-4a50-ac73-76c32e80c26a"
      },
      "outputs": [],
      "source": [
        "def func(a, b, *args):\n",
        "    print(a, b, args)"
      ]
    },
    {
      "cell_type": "code",
      "execution_count": null,
      "id": "0c29a81e-a7b6-4c1a-a82b-06887bba4c96",
      "metadata": {
        "id": "0c29a81e-a7b6-4c1a-a82b-06887bba4c96",
        "outputId": "d1c098f3-63e3-41dd-d387-03e01ac0bd62"
      },
      "outputs": [
        {
          "name": "stdout",
          "output_type": "stream",
          "text": [
            "1 2 ('x', 'y', 'z')\n"
          ]
        }
      ],
      "source": [
        "func(1, 2, 'x', 'y', 'z')"
      ]
    },
    {
      "cell_type": "markdown",
      "id": "e09c9e1d-16c7-417c-b748-28c2cb035e23",
      "metadata": {
        "id": "e09c9e1d-16c7-417c-b748-28c2cb035e23"
      },
      "source": [
        "---\n",
        "**BE CAREFUL!**"
      ]
    },
    {
      "cell_type": "markdown",
      "id": "765dc34f-3ce3-421c-b026-30c05c683c0e",
      "metadata": {
        "id": "765dc34f-3ce3-421c-b026-30c05c683c0e"
      },
      "source": [
        "*Note that we cannot call the function this way:*"
      ]
    },
    {
      "cell_type": "code",
      "execution_count": null,
      "id": "8173bff3-0456-40c6-a6b6-0a39dcdd2bb2",
      "metadata": {
        "id": "8173bff3-0456-40c6-a6b6-0a39dcdd2bb2",
        "outputId": "653029a3-fa40-4d26-bda4-d4d8b8a28d94"
      },
      "outputs": [
        {
          "ename": "SyntaxError",
          "evalue": "positional argument follows keyword argument (2513684084.py, line 1)",
          "output_type": "error",
          "traceback": [
            "\u001b[1;36m  Input \u001b[1;32mIn [158]\u001b[1;36m\u001b[0m\n\u001b[1;33m    func(b=2, a=1, 'x', 'y', 'z')\u001b[0m\n\u001b[1;37m                                ^\u001b[0m\n\u001b[1;31mSyntaxError\u001b[0m\u001b[1;31m:\u001b[0m positional argument follows keyword argument\n"
          ]
        }
      ],
      "source": [
        "func(b=2, a=1, 'x', 'y', 'z')"
      ]
    },
    {
      "cell_type": "markdown",
      "id": "73377098-2d34-4ca6-85d4-64244a8867e2",
      "metadata": {
        "id": "73377098-2d34-4ca6-85d4-64244a8867e2"
      },
      "source": [
        "Keywords Only: no positionals, no defaults (all keyword args required)"
      ]
    },
    {
      "cell_type": "code",
      "execution_count": null,
      "id": "be5dce1d-ccde-48ff-b478-b89094f11f41",
      "metadata": {
        "id": "be5dce1d-ccde-48ff-b478-b89094f11f41"
      },
      "outputs": [],
      "source": [
        "def func(*, a, b):\n",
        "    print(a, b)"
      ]
    },
    {
      "cell_type": "code",
      "execution_count": null,
      "id": "70f171ca-480c-46ba-b44e-2e5c2ebfb39e",
      "metadata": {
        "id": "70f171ca-480c-46ba-b44e-2e5c2ebfb39e",
        "outputId": "4c36b085-d688-444d-afc5-8f287a707701"
      },
      "outputs": [
        {
          "name": "stdout",
          "output_type": "stream",
          "text": [
            "1 2\n"
          ]
        }
      ],
      "source": [
        "func(a=1, b=2)"
      ]
    },
    {
      "cell_type": "markdown",
      "id": "124b3b2e-0d73-45ef-85fd-15269d82108c",
      "metadata": {
        "id": "124b3b2e-0d73-45ef-85fd-15269d82108c"
      },
      "source": [
        "Keywords Only: no positionals, some defaults (not all keyword args required)"
      ]
    },
    {
      "cell_type": "code",
      "execution_count": null,
      "id": "95dcdc7b-875b-40e4-9ff5-64560374b1b4",
      "metadata": {
        "id": "95dcdc7b-875b-40e4-9ff5-64560374b1b4"
      },
      "outputs": [],
      "source": [
        "def func(*, a=1, b):\n",
        "    print(a, b)"
      ]
    },
    {
      "cell_type": "code",
      "execution_count": null,
      "id": "862fb2e8-d6cb-4c95-adbc-bec1501bc0ba",
      "metadata": {
        "id": "862fb2e8-d6cb-4c95-adbc-bec1501bc0ba",
        "outputId": "18ea2d9c-0e4b-4925-f9fb-99f84c2ad604"
      },
      "outputs": [
        {
          "name": "stdout",
          "output_type": "stream",
          "text": [
            "10 20\n"
          ]
        }
      ],
      "source": [
        "func(a=10, b=20)"
      ]
    },
    {
      "cell_type": "code",
      "execution_count": null,
      "id": "3dd2d2e8-9f88-4620-a4fa-631bb5c6e8f9",
      "metadata": {
        "id": "3dd2d2e8-9f88-4620-a4fa-631bb5c6e8f9",
        "outputId": "18909048-2728-4143-8c94-902aa905725e"
      },
      "outputs": [
        {
          "name": "stdout",
          "output_type": "stream",
          "text": [
            "1 2\n"
          ]
        }
      ],
      "source": [
        "func(b=2)"
      ]
    },
    {
      "cell_type": "markdown",
      "id": "7f910967-ea9f-4fa7-997d-577475f6e9b5",
      "metadata": {
        "id": "7f910967-ea9f-4fa7-997d-577475f6e9b5"
      },
      "source": [
        "Keywords and Positionals: some positionals (no defaults), keywords (no defaults)"
      ]
    },
    {
      "cell_type": "code",
      "execution_count": null,
      "id": "54b9edb0-d1f4-41eb-941a-5ffd161481b5",
      "metadata": {
        "id": "54b9edb0-d1f4-41eb-941a-5ffd161481b5"
      },
      "outputs": [],
      "source": [
        "def func(a, b, *, c, d):\n",
        "    print(a, b, c, d)"
      ]
    },
    {
      "cell_type": "code",
      "execution_count": null,
      "id": "e76fb0c9-42c5-405c-8756-024d09f93cc1",
      "metadata": {
        "id": "e76fb0c9-42c5-405c-8756-024d09f93cc1",
        "outputId": "33762700-6f38-4fd5-a768-cf4b373b0be8"
      },
      "outputs": [
        {
          "name": "stdout",
          "output_type": "stream",
          "text": [
            "1 2 3 4\n"
          ]
        }
      ],
      "source": [
        "func(1, 2, c=3, d=4)"
      ]
    },
    {
      "cell_type": "code",
      "execution_count": null,
      "id": "d5b099e1-0911-4cfd-a8da-33c4bc39c4ba",
      "metadata": {
        "id": "d5b099e1-0911-4cfd-a8da-33c4bc39c4ba",
        "outputId": "41ffaca6-26e7-4749-e955-d0c0c64f6151"
      },
      "outputs": [
        {
          "name": "stdout",
          "output_type": "stream",
          "text": [
            "1 2 3 4\n"
          ]
        }
      ],
      "source": [
        "func(1, 2, d=4, c=3)"
      ]
    },
    {
      "cell_type": "code",
      "execution_count": null,
      "id": "ec2f3062-4050-47f5-8d5d-7fb691bd6119",
      "metadata": {
        "id": "ec2f3062-4050-47f5-8d5d-7fb691bd6119",
        "outputId": "62a44b94-c460-421e-9d27-c86a95fca46f"
      },
      "outputs": [
        {
          "name": "stdout",
          "output_type": "stream",
          "text": [
            "1 2 3 4\n"
          ]
        }
      ],
      "source": [
        "func(1, c=3, d=4, b=2)"
      ]
    },
    {
      "cell_type": "markdown",
      "id": "f9bab07c-fdee-46bc-bacb-51dc19df347f",
      "metadata": {
        "id": "f9bab07c-fdee-46bc-bacb-51dc19df347f"
      },
      "source": [
        "Keywords and Positionals: some positional defaults"
      ]
    },
    {
      "cell_type": "code",
      "execution_count": null,
      "id": "0ae15563-eb87-457e-8a70-5f9e73ee0ecd",
      "metadata": {
        "id": "0ae15563-eb87-457e-8a70-5f9e73ee0ecd"
      },
      "outputs": [],
      "source": [
        "def func(a, b=2, *, c, d=4):\n",
        "    print(a, b, c, d)"
      ]
    },
    {
      "cell_type": "code",
      "execution_count": null,
      "id": "7982abce-01be-416a-a43c-b5f9d2e808a6",
      "metadata": {
        "id": "7982abce-01be-416a-a43c-b5f9d2e808a6",
        "outputId": "f843d65b-59b6-4421-ba06-a1720d8e8856"
      },
      "outputs": [
        {
          "name": "stdout",
          "output_type": "stream",
          "text": [
            "1 2 3 4\n"
          ]
        }
      ],
      "source": [
        "func(1, c=3)"
      ]
    },
    {
      "cell_type": "code",
      "execution_count": null,
      "id": "cc6e1a1b-30cb-427b-bc3b-cce9d5fd2051",
      "metadata": {
        "id": "cc6e1a1b-30cb-427b-bc3b-cce9d5fd2051",
        "outputId": "7f6b9155-bdd6-4ff4-893e-b8eedc5116fc"
      },
      "outputs": [
        {
          "name": "stdout",
          "output_type": "stream",
          "text": [
            "1 2 3 4\n"
          ]
        }
      ],
      "source": [
        "func(c=3, a=1)"
      ]
    },
    {
      "cell_type": "code",
      "execution_count": null,
      "id": "49c591f8-ed93-4aaf-bb09-bebdef95be9c",
      "metadata": {
        "id": "49c591f8-ed93-4aaf-bb09-bebdef95be9c",
        "outputId": "ddcc7393-716a-43df-e96a-8258b3583a61"
      },
      "outputs": [
        {
          "name": "stdout",
          "output_type": "stream",
          "text": [
            "1 2 3 4\n"
          ]
        }
      ],
      "source": [
        "func(1, 2, c=3, d=4)"
      ]
    },
    {
      "cell_type": "code",
      "execution_count": null,
      "id": "13f548da-007f-4985-bdb9-e65e6d3635ac",
      "metadata": {
        "id": "13f548da-007f-4985-bdb9-e65e6d3635ac",
        "outputId": "af4a2269-9b27-4951-d2b2-8ae9fdeda963"
      },
      "outputs": [
        {
          "name": "stdout",
          "output_type": "stream",
          "text": [
            "1 2 3 4\n"
          ]
        }
      ],
      "source": [
        "func(c=3, a=1, b=2, d=4)"
      ]
    },
    {
      "cell_type": "markdown",
      "id": "a3ac0faf-0e04-41a9-ad49-a76a5453b9bd",
      "metadata": {
        "id": "a3ac0faf-0e04-41a9-ad49-a76a5453b9bd"
      },
      "source": [
        "Keywords and Positionals: extra positionals"
      ]
    },
    {
      "cell_type": "code",
      "execution_count": null,
      "id": "6ba68e4b-291b-4f5d-8df2-928a551d2702",
      "metadata": {
        "id": "6ba68e4b-291b-4f5d-8df2-928a551d2702"
      },
      "outputs": [],
      "source": [
        "def func(a, b=2, *args, c=3, d):\n",
        "    print(a, b, args, c, d)"
      ]
    },
    {
      "cell_type": "code",
      "execution_count": null,
      "id": "90015a13-2c46-4686-855b-eb961e11f848",
      "metadata": {
        "id": "90015a13-2c46-4686-855b-eb961e11f848",
        "outputId": "60d4ac4c-764e-4b0a-daf5-9ca72340227d"
      },
      "outputs": [
        {
          "name": "stdout",
          "output_type": "stream",
          "text": [
            "1 2 ('x', 'y', 'z') 3 4\n"
          ]
        }
      ],
      "source": [
        "func(1, 2, 'x', 'y', 'z', c=3, d=4)"
      ]
    },
    {
      "cell_type": "markdown",
      "id": "9412f378-f64e-4d03-bd26-c8a335983cf1",
      "metadata": {
        "id": "9412f378-f64e-4d03-bd26-c8a335983cf1"
      },
      "source": [
        "---\n",
        "**BE CAREFUL!**"
      ]
    },
    {
      "cell_type": "markdown",
      "id": "17adb8b3-a3e0-47d6-9b12-880fad558d27",
      "metadata": {
        "id": "17adb8b3-a3e0-47d6-9b12-880fad558d27"
      },
      "source": [
        "*Note that if we are going to use the extra arguments, then we cannot actually use a default value for b:*"
      ]
    },
    {
      "cell_type": "code",
      "execution_count": null,
      "id": "be208dc4-bc24-4011-9fa5-13efdd4f1df1",
      "metadata": {
        "id": "be208dc4-bc24-4011-9fa5-13efdd4f1df1",
        "outputId": "6fb244ff-785f-4fd5-d21e-d4cb9d5e588f"
      },
      "outputs": [
        {
          "name": "stdout",
          "output_type": "stream",
          "text": [
            "1 x ('y', 'z') 3 4\n"
          ]
        }
      ],
      "source": [
        "func(1, 'x', 'y', 'z', c=3, d=4)"
      ]
    },
    {
      "cell_type": "markdown",
      "id": "96163e7e-4961-4ba9-88bf-9d15496a400f",
      "metadata": {
        "id": "96163e7e-4961-4ba9-88bf-9d15496a400f"
      },
      "source": [
        "as you can see, `b` was assigned the value `x`"
      ]
    },
    {
      "cell_type": "markdown",
      "id": "5e1cc17d-1e57-4f10-a33b-01e8b98970f0",
      "metadata": {
        "id": "5e1cc17d-1e57-4f10-a33b-01e8b98970f0"
      },
      "source": [
        "Keywords and Positionals: no extra positional, extra keywords"
      ]
    },
    {
      "cell_type": "code",
      "execution_count": null,
      "id": "fe426db3-fe91-4e25-af81-266cf8b24d90",
      "metadata": {
        "id": "fe426db3-fe91-4e25-af81-266cf8b24d90"
      },
      "outputs": [],
      "source": [
        "def func(a, b, *, c, d=4, **kwargs):\n",
        "    print(a, b, c, d, kwargs)"
      ]
    },
    {
      "cell_type": "code",
      "execution_count": null,
      "id": "9dff9b35-c26b-4dc1-99b7-72b005917f5d",
      "metadata": {
        "id": "9dff9b35-c26b-4dc1-99b7-72b005917f5d",
        "outputId": "43e80b44-0d96-4490-8b8a-6ff01eeba9b9"
      },
      "outputs": [
        {
          "name": "stdout",
          "output_type": "stream",
          "text": [
            "1 2 3 4 {'x': 100, 'y': 200, 'z': 300}\n"
          ]
        }
      ],
      "source": [
        "func(1, 2, c=3, x=100, y=200, z=300)"
      ]
    },
    {
      "cell_type": "code",
      "execution_count": null,
      "id": "ec9aae5c-2ee6-43ac-950d-171ffe1a8861",
      "metadata": {
        "id": "ec9aae5c-2ee6-43ac-950d-171ffe1a8861",
        "outputId": "07c1d45e-b64b-4a43-cc7d-676702425364"
      },
      "outputs": [
        {
          "name": "stdout",
          "output_type": "stream",
          "text": [
            "1 2 3 4 {'x': 100, 'y': 200, 'z': 300}\n"
          ]
        }
      ],
      "source": [
        "func(x=100, y=200, z=300, c=3, b=2, a=1)"
      ]
    },
    {
      "cell_type": "markdown",
      "id": "d29bb6e4-a40c-4d26-ad5f-e9620a254963",
      "metadata": {
        "id": "d29bb6e4-a40c-4d26-ad5f-e9620a254963"
      },
      "source": [
        "Keywords and Positionals: extra positionals, extra keywords"
      ]
    },
    {
      "cell_type": "code",
      "execution_count": null,
      "id": "5fe23911-0d20-4e50-9c50-fded50d90823",
      "metadata": {
        "id": "5fe23911-0d20-4e50-9c50-fded50d90823"
      },
      "outputs": [],
      "source": [
        "def func(a, b, *args, c, d=4, **kwargs):\n",
        "    print(a, b, args, c, d, kwargs)"
      ]
    },
    {
      "cell_type": "code",
      "execution_count": null,
      "id": "37827ccc-3b0e-4651-8b0e-f86a038c050c",
      "metadata": {
        "id": "37827ccc-3b0e-4651-8b0e-f86a038c050c",
        "outputId": "5ce4b1ca-f629-44a2-d211-0cae81532a33"
      },
      "outputs": [
        {
          "name": "stdout",
          "output_type": "stream",
          "text": [
            "1 2 ('x', 'y', '<') 3 5 {'x': 100, 'y': 200, 'z': 300}\n"
          ]
        }
      ],
      "source": [
        "func(1, 2, 'x', 'y', '<', c=3, d=5, x=100, y=200, z=300)"
      ]
    },
    {
      "cell_type": "markdown",
      "id": "22e563f0-a3fb-4980-8412-bf0447168674",
      "metadata": {
        "id": "22e563f0-a3fb-4980-8412-bf0447168674"
      },
      "source": [
        "Keywords and Positionals: only extra positional and extra keywords"
      ]
    },
    {
      "cell_type": "code",
      "execution_count": null,
      "id": "50095e00-cba1-41ad-9cef-9195ff006d70",
      "metadata": {
        "id": "50095e00-cba1-41ad-9cef-9195ff006d70"
      },
      "outputs": [],
      "source": [
        "def func(*args, **kwargs):\n",
        "    print(args, kwargs)"
      ]
    },
    {
      "cell_type": "code",
      "execution_count": null,
      "id": "9a34dfa2-8865-4c37-a684-f6b56c919c24",
      "metadata": {
        "id": "9a34dfa2-8865-4c37-a684-f6b56c919c24",
        "outputId": "67ff57b7-d2f1-463d-c8fd-7903b203f722"
      },
      "outputs": [
        {
          "name": "stdout",
          "output_type": "stream",
          "text": [
            "(1, 2, 3) {'x': 100, 'y': 200, 'z': 300}\n"
          ]
        }
      ],
      "source": [
        "func(1, 2, 3, x=100, y=200, z=300)"
      ]
    },
    {
      "cell_type": "markdown",
      "id": "8a0294ed-d6de-4dd4-8931-79f58fe1a0b5",
      "metadata": {
        "id": "8a0294ed-d6de-4dd4-8931-79f58fe1a0b5"
      },
      "source": [
        "**The Print Function**"
      ]
    },
    {
      "cell_type": "code",
      "execution_count": null,
      "id": "9f8e1295-d0ed-4e16-9e91-45ffe16ef0a3",
      "metadata": {
        "id": "9f8e1295-d0ed-4e16-9e91-45ffe16ef0a3",
        "outputId": "fe34d38a-c9b6-4e9d-f70d-788a40354584"
      },
      "outputs": [
        {
          "name": "stdout",
          "output_type": "stream",
          "text": [
            "Help on built-in function print in module builtins:\n",
            "\n",
            "print(...)\n",
            "    print(value, ..., sep=' ', end='\\n', file=sys.stdout, flush=False)\n",
            "    \n",
            "    Prints the values to a stream, or to sys.stdout by default.\n",
            "    Optional keyword arguments:\n",
            "    file:  a file-like object (stream); defaults to the current sys.stdout.\n",
            "    sep:   string inserted between values, default a space.\n",
            "    end:   string appended after the last value, default a newline.\n",
            "    flush: whether to forcibly flush the stream.\n",
            "\n"
          ]
        }
      ],
      "source": [
        "help(print)"
      ]
    },
    {
      "cell_type": "code",
      "execution_count": null,
      "id": "02604c53-8113-4f76-967c-5d8a8992fec4",
      "metadata": {
        "id": "02604c53-8113-4f76-967c-5d8a8992fec4",
        "outputId": "7fadff0b-703a-4f15-b7e7-d677b60d9662"
      },
      "outputs": [
        {
          "name": "stdout",
          "output_type": "stream",
          "text": [
            "1 2 3\n"
          ]
        }
      ],
      "source": [
        "print(1, 2, 3)"
      ]
    },
    {
      "cell_type": "code",
      "execution_count": null,
      "id": "8b5e2407-14ca-46ac-9e41-824df437a3c1",
      "metadata": {
        "id": "8b5e2407-14ca-46ac-9e41-824df437a3c1",
        "outputId": "9319c221-fb04-4109-fce0-18c5f29c86d1"
      },
      "outputs": [
        {
          "name": "stdout",
          "output_type": "stream",
          "text": [
            "1--2--3\n"
          ]
        }
      ],
      "source": [
        "print(1, 2, 3, sep='--')"
      ]
    },
    {
      "cell_type": "code",
      "execution_count": null,
      "id": "89926fee-ca57-4672-8d38-20d85e337c2e",
      "metadata": {
        "id": "89926fee-ca57-4672-8d38-20d85e337c2e",
        "outputId": "b16ff527-cf85-426c-f768-1772ff9386c5"
      },
      "outputs": [
        {
          "name": "stdout",
          "output_type": "stream",
          "text": [
            "1 2 3***\n"
          ]
        }
      ],
      "source": [
        "print(1, 2, 3, end='***\\n')"
      ]
    },
    {
      "cell_type": "code",
      "execution_count": null,
      "id": "030ea20c-5643-441c-9d8a-2beb21186980",
      "metadata": {
        "id": "030ea20c-5643-441c-9d8a-2beb21186980",
        "outputId": "c06d6e5d-1e83-4678-b9fc-edf83e3fb152"
      },
      "outputs": [
        {
          "name": "stdout",
          "output_type": "stream",
          "text": [
            "1\t2\t3\t***\t4\t5\t6\t***\n"
          ]
        }
      ],
      "source": [
        "print(1, 2, 3, sep='\\t', end='\\t***\\t')\n",
        "print(4, 5, 6, sep='\\t', end='\\t***\\n')"
      ]
    },
    {
      "cell_type": "markdown",
      "id": "ba51d49a-e88d-42e3-af4c-1b3620daa646",
      "metadata": {
        "id": "ba51d49a-e88d-42e3-af4c-1b3620daa646"
      },
      "source": [
        "**Another Use Case**"
      ]
    },
    {
      "cell_type": "code",
      "execution_count": null,
      "id": "971d48d3-9579-4183-b390-4dc63c294397",
      "metadata": {
        "id": "971d48d3-9579-4183-b390-4dc63c294397"
      },
      "outputs": [],
      "source": [
        "def calc_hi_lo_avg(*args, log_to_console=False):\n",
        "    hi = int(bool(args)) and max(args)\n",
        "    lo = int(bool(args)) and min(args)\n",
        "    avg = (hi + lo)/2\n",
        "    if log_to_console:\n",
        "        print(\"high={0}, low={1}, avg={2}\".format(hi, lo, avg))\n",
        "    return avg"
      ]
    },
    {
      "cell_type": "code",
      "execution_count": null,
      "id": "3f56af2e-135c-487e-be43-530abdeb6ae1",
      "metadata": {
        "id": "3f56af2e-135c-487e-be43-530abdeb6ae1",
        "outputId": "572aa6ac-902f-4b25-e3ad-a374b50a0eeb"
      },
      "outputs": [
        {
          "name": "stdout",
          "output_type": "stream",
          "text": [
            "3.0\n"
          ]
        }
      ],
      "source": [
        "avg = calc_hi_lo_avg(1, 2, 3, 4, 5)\n",
        "print(avg)"
      ]
    },
    {
      "cell_type": "code",
      "execution_count": null,
      "id": "ba6d7346-4a7a-4ad4-bffe-0201b2fae52e",
      "metadata": {
        "id": "ba6d7346-4a7a-4ad4-bffe-0201b2fae52e",
        "outputId": "76406546-279a-4b2c-be08-edbed9956fa3"
      },
      "outputs": [
        {
          "name": "stdout",
          "output_type": "stream",
          "text": [
            "high=5, low=1, avg=3.0\n",
            "3.0\n"
          ]
        }
      ],
      "source": [
        "avg = calc_hi_lo_avg(1, 2, 3, 4, 5, log_to_console=True)\n",
        "print(avg)"
      ]
    },
    {
      "cell_type": "markdown",
      "id": "5b7812b6-15ef-48bf-976b-d8ef2f7afd93",
      "metadata": {
        "id": "5b7812b6-15ef-48bf-976b-d8ef2f7afd93"
      },
      "source": [
        "### 08 - Simple Function Timer"
      ]
    },
    {
      "cell_type": "markdown",
      "id": "deeefadf-0d8e-4cc4-b8f8-cb2f05505124",
      "metadata": {
        "id": "deeefadf-0d8e-4cc4-b8f8-cb2f05505124"
      },
      "source": [
        "We want to create a simple function that can time how fast a function runs.\n",
        "\n",
        "We want this function to be generic in the sense that it can be used to time any function (along with it's positional and keyword arguments), as well as specifying the number of the time the function should be timed, and the returns the average of the timings.\n",
        "\n",
        "we'll call our function `time_it`, and it will need to have the following parameters:\n",
        "\n",
        "- the function we want to time\n",
        "- the positional arguments of the function we want to time (if any)\n",
        "- the keyword-only arguments of the function we want to time (if any)\n",
        "- the number of times we want to run this function"
      ]
    },
    {
      "cell_type": "code",
      "execution_count": null,
      "id": "3e553a39-e64a-43cf-82f0-c86ccfabe470",
      "metadata": {
        "id": "3e553a39-e64a-43cf-82f0-c86ccfabe470"
      },
      "outputs": [],
      "source": [
        "import time"
      ]
    },
    {
      "cell_type": "code",
      "execution_count": null,
      "id": "b89edd0e-43f0-4f4f-8ec8-62f4f9f979f8",
      "metadata": {
        "id": "b89edd0e-43f0-4f4f-8ec8-62f4f9f979f8"
      },
      "outputs": [],
      "source": [
        "def time_it(fn, *args, rep=5, **kwargs):\n",
        "    print(args, rep, kwargs)"
      ]
    },
    {
      "cell_type": "markdown",
      "id": "960d9f51-3ac4-45d6-aacf-557ac99f3af7",
      "metadata": {
        "id": "960d9f51-3ac4-45d6-aacf-557ac99f3af7"
      },
      "source": [
        "Now we could the function this way:"
      ]
    },
    {
      "cell_type": "code",
      "execution_count": null,
      "id": "67157522-c0e4-4e2b-aaeb-3ee6e228ee21",
      "metadata": {
        "id": "67157522-c0e4-4e2b-aaeb-3ee6e228ee21",
        "outputId": "a2730139-5174-4464-e4a3-482f0d31d938"
      },
      "outputs": [
        {
          "name": "stdout",
          "output_type": "stream",
          "text": [
            "(1, 2, 3) 5 {'sep': '-'}\n"
          ]
        }
      ],
      "source": [
        "time_it(print, 1, 2, 3, sep='-')"
      ]
    },
    {
      "cell_type": "markdown",
      "id": "042409bc-326a-4fbc-a775-568499fbcd53",
      "metadata": {
        "id": "042409bc-326a-4fbc-a775-568499fbcd53"
      },
      "source": [
        "Let's modify our fucntion to actually run the print function with any positional and keyword args (except for rep) passed to it."
      ]
    },
    {
      "cell_type": "code",
      "execution_count": null,
      "id": "925a1c44-1603-47f3-bd1b-f3c8094b95f6",
      "metadata": {
        "id": "925a1c44-1603-47f3-bd1b-f3c8094b95f6"
      },
      "outputs": [],
      "source": [
        "def time_it(fn, *args, rep=5, **kwargs):\n",
        "    for i in range(rep):\n",
        "        fn(*args, **kwargs)"
      ]
    },
    {
      "cell_type": "code",
      "execution_count": null,
      "id": "36126f9f-fd2f-401f-8486-a4ffb286b669",
      "metadata": {
        "id": "36126f9f-fd2f-401f-8486-a4ffb286b669",
        "outputId": "aa9df143-738c-4652-a5ea-b4ca5434b440"
      },
      "outputs": [
        {
          "name": "stdout",
          "output_type": "stream",
          "text": [
            "1-2-3\n",
            "1-2-3\n",
            "1-2-3\n",
            "1-2-3\n",
            "1-2-3\n"
          ]
        }
      ],
      "source": [
        "time_it(print, 1, 2, 3, sep='-')"
      ]
    },
    {
      "cell_type": "markdown",
      "id": "97fc238d-8e2f-419c-a983-c6d4c20a8838",
      "metadata": {
        "id": "97fc238d-8e2f-419c-a983-c6d4c20a8838"
      },
      "source": [
        "As you can see `1, 2, 3` was passed to the `print` function's positional parameters, and keyword-only arg `sep` was also passed to it.\n",
        "\n",
        "We can even add more arguments:"
      ]
    },
    {
      "cell_type": "code",
      "execution_count": null,
      "id": "62c55e27-3b92-4690-bbd4-85daf7858366",
      "metadata": {
        "id": "62c55e27-3b92-4690-bbd4-85daf7858366",
        "outputId": "a0571676-6202-49bd-eb6c-b4fc04fc1196"
      },
      "outputs": [
        {
          "name": "stdout",
          "output_type": "stream",
          "text": [
            "1-2-3 *** 1-2-3 *** 1-2-3 *** "
          ]
        }
      ],
      "source": [
        "time_it(print, 1, 2, 3, sep='-', end=' *** ', rep=3)"
      ]
    },
    {
      "cell_type": "markdown",
      "id": "d467a78a-d066-4fce-bdca-ad502a59e654",
      "metadata": {
        "id": "d467a78a-d066-4fce-bdca-ad502a59e654"
      },
      "source": [
        "Now all that's really left for us to do is to time the function and return the average time:"
      ]
    },
    {
      "cell_type": "code",
      "execution_count": null,
      "id": "86717f2b-bb5e-4ad3-aaeb-cb393a06b412",
      "metadata": {
        "id": "86717f2b-bb5e-4ad3-aaeb-cb393a06b412"
      },
      "outputs": [],
      "source": [
        "def time_it(fn, *args, rep=5, **kwargs):\n",
        "    start = time.perf_counter()\n",
        "    for i in range(rep):\n",
        "        fn(*args, **kwargs)\n",
        "    end = time.perf_counter()\n",
        "    return (end - start) / rep"
      ]
    },
    {
      "cell_type": "markdown",
      "id": "c28c46aa-de65-47a3-bf6c-b5539ed3c8c9",
      "metadata": {
        "id": "c28c46aa-de65-47a3-bf6c-b5539ed3c8c9"
      },
      "source": [
        "Let's write a few functions we might want to time:\n",
        "\n",
        "We'll create three functions that all do the same thing: calculate powers of n**k for k in some range of integer values."
      ]
    },
    {
      "cell_type": "code",
      "execution_count": null,
      "id": "70af13e3-2896-4e48-8bfc-3e09ab5e0fbb",
      "metadata": {
        "id": "70af13e3-2896-4e48-8bfc-3e09ab5e0fbb"
      },
      "outputs": [],
      "source": [
        "def compute_powers_1(n, *, start=1, end):\n",
        "    # using a for loop\n",
        "    results = []\n",
        "    for i in range(start, end):\n",
        "        results.append(n**i)\n",
        "    return results"
      ]
    },
    {
      "cell_type": "code",
      "execution_count": null,
      "id": "381ea1ad-b6b0-43ef-b593-f020c47c6773",
      "metadata": {
        "id": "381ea1ad-b6b0-43ef-b593-f020c47c6773"
      },
      "outputs": [],
      "source": [
        "def compute_powers_2(n, *, start=1, end):\n",
        "    # using a list comprehension\n",
        "    return [n**i for i in range(start, end)]"
      ]
    },
    {
      "cell_type": "code",
      "execution_count": null,
      "id": "f66d938e-496c-4f16-b386-51e16c1db720",
      "metadata": {
        "id": "f66d938e-496c-4f16-b386-51e16c1db720"
      },
      "outputs": [],
      "source": [
        "def compute_powers_3(n, *, start=1, end):\n",
        "    # using a generator expression\n",
        "    return (n**i for i in range(start, end))"
      ]
    },
    {
      "cell_type": "markdown",
      "id": "4207d411-4dc7-4861-b106-9ef0319e17b8",
      "metadata": {
        "id": "4207d411-4dc7-4861-b106-9ef0319e17b8"
      },
      "source": [
        "Let's run these functions and see the results:"
      ]
    },
    {
      "cell_type": "code",
      "execution_count": null,
      "id": "a51b5c67-8c01-4bb6-8719-7ad130920738",
      "metadata": {
        "id": "a51b5c67-8c01-4bb6-8719-7ad130920738",
        "outputId": "bd961d3e-5bee-4f93-957b-6017ac9a05f9"
      },
      "outputs": [
        {
          "data": {
            "text/plain": [
              "[2, 4, 8, 16]"
            ]
          },
          "execution_count": 204,
          "metadata": {},
          "output_type": "execute_result"
        }
      ],
      "source": [
        "compute_powers_1(2, end=5)"
      ]
    },
    {
      "cell_type": "code",
      "execution_count": null,
      "id": "c5af05f8-ef96-419c-83c3-79e5237799c7",
      "metadata": {
        "id": "c5af05f8-ef96-419c-83c3-79e5237799c7",
        "outputId": "da834433-44d8-4772-c9c0-cfdb312b99f9"
      },
      "outputs": [
        {
          "data": {
            "text/plain": [
              "[2, 4, 8, 16]"
            ]
          },
          "execution_count": 205,
          "metadata": {},
          "output_type": "execute_result"
        }
      ],
      "source": [
        "compute_powers_2(2, end=5)"
      ]
    },
    {
      "cell_type": "code",
      "execution_count": null,
      "id": "fdc050d9-f450-4970-a045-f2193c59a935",
      "metadata": {
        "id": "fdc050d9-f450-4970-a045-f2193c59a935",
        "outputId": "4aa0da8e-9756-4425-8377-f0a3ec137a47"
      },
      "outputs": [
        {
          "data": {
            "text/plain": [
              "[2, 4, 8, 16]"
            ]
          },
          "execution_count": 206,
          "metadata": {},
          "output_type": "execute_result"
        }
      ],
      "source": [
        "list(compute_powers_3(2, end=5))"
      ]
    },
    {
      "cell_type": "markdown",
      "id": "f5c74a06-8a5b-407a-88e7-3a60539b6d5a",
      "metadata": {
        "id": "f5c74a06-8a5b-407a-88e7-3a60539b6d5a"
      },
      "source": [
        "Finally let's run these functions through our time_it function and see the results:"
      ]
    },
    {
      "cell_type": "code",
      "execution_count": null,
      "id": "b9cc1e71-f84b-4e63-ad2a-65a35f8e7a3c",
      "metadata": {
        "id": "b9cc1e71-f84b-4e63-ad2a-65a35f8e7a3c",
        "outputId": "5230639c-6d26-440b-8074-62908d9f53e5"
      },
      "outputs": [
        {
          "data": {
            "text/plain": [
              "0.586880175000033"
            ]
          },
          "execution_count": 207,
          "metadata": {},
          "output_type": "execute_result"
        }
      ],
      "source": [
        "time_it(compute_powers_1, n=2, end=20000, rep=4)"
      ]
    },
    {
      "cell_type": "code",
      "execution_count": null,
      "id": "157da87c-4ab2-4703-99fe-75aba26d58b5",
      "metadata": {
        "id": "157da87c-4ab2-4703-99fe-75aba26d58b5",
        "outputId": "96f9be05-4c0d-4141-85e5-5cd20b683b86"
      },
      "outputs": [
        {
          "data": {
            "text/plain": [
              "0.5357517499999176"
            ]
          },
          "execution_count": 208,
          "metadata": {},
          "output_type": "execute_result"
        }
      ],
      "source": [
        "time_it(compute_powers_2, n=2, end=20000, rep=4)"
      ]
    },
    {
      "cell_type": "code",
      "execution_count": null,
      "id": "e73ce426-0482-486f-b208-62f1b0e65119",
      "metadata": {
        "id": "e73ce426-0482-486f-b208-62f1b0e65119",
        "outputId": "2ba9cf1c-b4c9-45a1-dd93-e3367e824c11"
      },
      "outputs": [
        {
          "data": {
            "text/plain": [
              "3.825000021606684e-06"
            ]
          },
          "execution_count": 209,
          "metadata": {},
          "output_type": "execute_result"
        }
      ],
      "source": [
        "time_it(compute_powers_3, n=2, end=20000, rep=4)"
      ]
    },
    {
      "cell_type": "markdown",
      "id": "333d5a35-0b79-4851-80d0-83ba4b3c3d77",
      "metadata": {
        "id": "333d5a35-0b79-4851-80d0-83ba4b3c3d77"
      },
      "source": [
        "Although the `compute_powers_3` function appears to be much faster than the other two, it doesn't quite do the same thing!"
      ]
    },
    {
      "cell_type": "markdown",
      "id": "50174e45-26a9-475e-a9bb-93b3b1e32137",
      "metadata": {
        "id": "50174e45-26a9-475e-a9bb-93b3b1e32137"
      },
      "source": [
        "### 09 - Parameter Defaults - Beware"
      ]
    },
    {
      "cell_type": "markdown",
      "id": "2a751aaa-10db-4d56-9f53-37ff17435b92",
      "metadata": {
        "id": "2a751aaa-10db-4d56-9f53-37ff17435b92"
      },
      "source": [
        "**Default Values - Beware!**"
      ]
    },
    {
      "cell_type": "code",
      "execution_count": null,
      "id": "198e54f8-74f4-4993-9a84-19a0b3d8ae56",
      "metadata": {
        "id": "198e54f8-74f4-4993-9a84-19a0b3d8ae56"
      },
      "outputs": [],
      "source": [
        "from datetime import datetime"
      ]
    },
    {
      "cell_type": "code",
      "execution_count": null,
      "id": "2e032928-31cc-4469-86fd-c0c4df3644d9",
      "metadata": {
        "id": "2e032928-31cc-4469-86fd-c0c4df3644d9",
        "outputId": "bf983841-d7dc-4c55-a0ef-a938a47b492e"
      },
      "outputs": [
        {
          "name": "stdout",
          "output_type": "stream",
          "text": [
            "2022-11-10 08:36:16.141854\n"
          ]
        }
      ],
      "source": [
        "print(datetime.utcnow())"
      ]
    },
    {
      "cell_type": "code",
      "execution_count": null,
      "id": "9288d804-10c3-4302-8cd1-07dd6b6c1a22",
      "metadata": {
        "id": "9288d804-10c3-4302-8cd1-07dd6b6c1a22"
      },
      "outputs": [],
      "source": [
        "def log(msg, *, dt=datetime.utcnow()):\n",
        "    print('{0}: {1}'.format(dt, msg))"
      ]
    },
    {
      "cell_type": "code",
      "execution_count": null,
      "id": "d8bf62df-a989-4d16-942c-fca6e9bf255e",
      "metadata": {
        "id": "d8bf62df-a989-4d16-942c-fca6e9bf255e",
        "outputId": "e7da7960-347e-42c2-fc99-e6a175fa3fbd"
      },
      "outputs": [
        {
          "name": "stdout",
          "output_type": "stream",
          "text": [
            "2022-11-10 08:36:20.166532: message 1\n"
          ]
        }
      ],
      "source": [
        "log('message 1')"
      ]
    },
    {
      "cell_type": "code",
      "execution_count": null,
      "id": "0ab87505-eae6-43f6-80cf-2e962602e02a",
      "metadata": {
        "id": "0ab87505-eae6-43f6-80cf-2e962602e02a",
        "outputId": "77c37a08-2dc7-48c5-d23d-036c509a846f"
      },
      "outputs": [
        {
          "name": "stdout",
          "output_type": "stream",
          "text": [
            "2001-01-01 00:00:00: message 2\n"
          ]
        }
      ],
      "source": [
        "log('message 2', dt='2001-01-01 00:00:00')"
      ]
    },
    {
      "cell_type": "code",
      "execution_count": null,
      "id": "e370adc9-6402-436f-a199-8e20c2334fd3",
      "metadata": {
        "id": "e370adc9-6402-436f-a199-8e20c2334fd3",
        "outputId": "44bab5cb-5f43-4538-f53c-6c97efa96059"
      },
      "outputs": [
        {
          "name": "stdout",
          "output_type": "stream",
          "text": [
            "2022-11-10 08:36:20.166532: message 3\n"
          ]
        }
      ],
      "source": [
        "log('message 3')"
      ]
    },
    {
      "cell_type": "code",
      "execution_count": null,
      "id": "014bbd5f-c146-4d21-aeb5-bcc5fbd5f625",
      "metadata": {
        "id": "014bbd5f-c146-4d21-aeb5-bcc5fbd5f625",
        "outputId": "89dfa46d-ebcc-492f-cc82-589de3254e5a"
      },
      "outputs": [
        {
          "name": "stdout",
          "output_type": "stream",
          "text": [
            "2022-11-10 08:36:20.166532: message 4\n"
          ]
        }
      ],
      "source": [
        "log('message 4')"
      ]
    },
    {
      "cell_type": "markdown",
      "id": "17b23bec-0a8c-4796-9188-18422ffedf2f",
      "metadata": {
        "id": "17b23bec-0a8c-4796-9188-18422ffedf2f"
      },
      "source": [
        "As you can see, the default for ``dt` is calculated when the function is defined and is NOT re-evaluated when the function is called."
      ]
    },
    {
      "cell_type": "markdown",
      "id": "0293b790-51c9-4b27-8e9d-24cf77169a7e",
      "metadata": {
        "id": "0293b790-51c9-4b27-8e9d-24cf77169a7e"
      },
      "source": [
        "**Solution Pattern**"
      ]
    },
    {
      "cell_type": "markdown",
      "id": "af6c7b7d-8989-4c3f-ab23-d17b9108f625",
      "metadata": {
        "id": "af6c7b7d-8989-4c3f-ab23-d17b9108f625"
      },
      "source": [
        "Here is one pattern we can use to achieve the desired result:\n",
        "\n",
        "We actually set the default to None - this makes the argument optional, and we can then test for None inside the function and default to the current time if it is None."
      ]
    },
    {
      "cell_type": "code",
      "execution_count": null,
      "id": "7838250f-3c94-45fc-b640-2b6f15ac5d47",
      "metadata": {
        "id": "7838250f-3c94-45fc-b640-2b6f15ac5d47"
      },
      "outputs": [],
      "source": [
        "def log(msg, *, dt=None):\n",
        "    dt = dt or datetime.utcnow()\n",
        "    # above is equivalent to:\n",
        "    # if not dt:\n",
        "    #    dt = datetime.utcnow()\n",
        "    print('{0}: {1}'.format(dt, msg))"
      ]
    },
    {
      "cell_type": "code",
      "execution_count": null,
      "id": "22a7f130-adb6-42cb-b064-a7b2f18df60f",
      "metadata": {
        "id": "22a7f130-adb6-42cb-b064-a7b2f18df60f",
        "outputId": "f55d5831-febf-41ae-cf85-f2af6bd53dff"
      },
      "outputs": [
        {
          "name": "stdout",
          "output_type": "stream",
          "text": [
            "2022-11-10 08:37:34.167074: message 1\n"
          ]
        }
      ],
      "source": [
        "log('message 1')"
      ]
    },
    {
      "cell_type": "code",
      "execution_count": null,
      "id": "1a21d14f-1f65-4682-ba2c-5cf03ed776c8",
      "metadata": {
        "id": "1a21d14f-1f65-4682-ba2c-5cf03ed776c8",
        "outputId": "ca2239bb-7cd0-4d9e-8456-b9f751090d5d"
      },
      "outputs": [
        {
          "name": "stdout",
          "output_type": "stream",
          "text": [
            "2022-11-10 08:37:39.016382: message 2\n"
          ]
        }
      ],
      "source": [
        "log('message 2')"
      ]
    },
    {
      "cell_type": "code",
      "execution_count": null,
      "id": "f31a65ef-c870-450f-aeee-0a81a65737a0",
      "metadata": {
        "id": "f31a65ef-c870-450f-aeee-0a81a65737a0",
        "outputId": "d66b45ac-f4b1-47f4-9b19-077dae3b17c9"
      },
      "outputs": [
        {
          "name": "stdout",
          "output_type": "stream",
          "text": [
            "2001-01-01 00:00:00: message 3\n"
          ]
        }
      ],
      "source": [
        "log('message 3', dt='2001-01-01 00:00:00')"
      ]
    },
    {
      "cell_type": "code",
      "execution_count": null,
      "id": "9b40ac75-b002-414f-a940-95d43fb53394",
      "metadata": {
        "id": "9b40ac75-b002-414f-a940-95d43fb53394",
        "outputId": "934eb884-8c79-4c46-9282-56eeffa3309a"
      },
      "outputs": [
        {
          "name": "stdout",
          "output_type": "stream",
          "text": [
            "2022-11-10 08:37:47.033518: message 4\n"
          ]
        }
      ],
      "source": [
        "log('message 4')"
      ]
    },
    {
      "cell_type": "markdown",
      "id": "ce77cdf3-2764-43f6-8119-390b8643ceb0",
      "metadata": {
        "id": "ce77cdf3-2764-43f6-8119-390b8643ceb0"
      },
      "source": [
        "### 10 - Parameter Defaults - Beware Again"
      ]
    },
    {
      "cell_type": "markdown",
      "id": "88eaf7a4-48ab-4bcb-a13f-a482e4be0326",
      "metadata": {
        "id": "88eaf7a4-48ab-4bcb-a13f-a482e4be0326"
      },
      "source": [
        "Another gotcha with parameter defaults comes with mutable types, and is an easy trap to fall into.\n",
        "\n",
        "Again, you have to remember that function parameter defaults are evaluated once, when the function is defined (i.e. then the module is loaded, or in this Jupyter notebook, when we \"execute\" the function definition), and not every time the function is called."
      ]
    },
    {
      "cell_type": "markdown",
      "id": "c86adba5-7356-456b-af33-c2ff7eebce72",
      "metadata": {
        "id": "c86adba5-7356-456b-af33-c2ff7eebce72"
      },
      "source": [
        "Consider the following scenario.\n",
        "\n",
        "We are creating a grocery list, and we want our list to contain consistently formatted data with name, quantity and measurement unit:\n",
        "```\n",
        "bananas (2 units)\n",
        "grapes (1 bunch)\n",
        "milk (1 liter)\n",
        "python (1 medium-rare)\n",
        "```"
      ]
    },
    {
      "cell_type": "markdown",
      "id": "7f7004f7-17e1-43c1-8af8-dffe10caae5e",
      "metadata": {
        "id": "7f7004f7-17e1-43c1-8af8-dffe10caae5e"
      },
      "source": [
        "To make sure the data is consistent, we want to use a function thet we can call to add the item to our list.\n",
        "\n",
        "So we'll need to provide it our current grocery list as well as the item information to be added:"
      ]
    },
    {
      "cell_type": "code",
      "execution_count": null,
      "id": "d67a96cd-81e4-46cf-9a90-f97c6389c599",
      "metadata": {
        "id": "d67a96cd-81e4-46cf-9a90-f97c6389c599"
      },
      "outputs": [],
      "source": [
        "def add_item(name, quantity, unit, grocery_list):\n",
        "    item_fmt = \"{0} ({1} {2})\".format(name, quantity, unit)\n",
        "    grocery_list.append(item_fmt)\n",
        "    return grocery_list"
      ]
    },
    {
      "cell_type": "markdown",
      "id": "0ead3c59-23e0-4609-8ab2-a3f3b9ffff31",
      "metadata": {
        "id": "0ead3c59-23e0-4609-8ab2-a3f3b9ffff31"
      },
      "source": [
        "We have two stores we want to visit, so we set up two grocery lists:"
      ]
    },
    {
      "cell_type": "code",
      "execution_count": null,
      "id": "c02d0141-f926-4d45-9e15-ee1569e9dc6a",
      "metadata": {
        "id": "c02d0141-f926-4d45-9e15-ee1569e9dc6a"
      },
      "outputs": [],
      "source": [
        "store_1 = []\n",
        "store_2 = []"
      ]
    },
    {
      "cell_type": "code",
      "execution_count": null,
      "id": "dbbdf884-1147-45a9-bef2-36f9cf70a369",
      "metadata": {
        "id": "dbbdf884-1147-45a9-bef2-36f9cf70a369",
        "outputId": "8356ba0d-ba7a-4051-fc8f-b826e80a509d"
      },
      "outputs": [
        {
          "data": {
            "text/plain": [
              "['python (1 medium-rare)']"
            ]
          },
          "execution_count": 225,
          "metadata": {},
          "output_type": "execute_result"
        }
      ],
      "source": [
        "add_item('bananas', 2, 'units', store_1)\n",
        "add_item('grapes', 1, 'bunch', store_1)\n",
        "add_item('python', 1, 'medium-rare', store_2)"
      ]
    },
    {
      "cell_type": "code",
      "execution_count": null,
      "id": "a39b70a7-a238-4910-8847-4309bf563acf",
      "metadata": {
        "id": "a39b70a7-a238-4910-8847-4309bf563acf",
        "outputId": "9771dcb5-0eea-49da-968b-5debb4df9bb0"
      },
      "outputs": [
        {
          "data": {
            "text/plain": [
              "['bananas (2 units)', 'grapes (1 bunch)']"
            ]
          },
          "execution_count": 226,
          "metadata": {},
          "output_type": "execute_result"
        }
      ],
      "source": [
        "store_1"
      ]
    },
    {
      "cell_type": "code",
      "execution_count": null,
      "id": "0fdc1d9b-816e-4b27-99a7-ef027d719cfa",
      "metadata": {
        "id": "0fdc1d9b-816e-4b27-99a7-ef027d719cfa",
        "outputId": "1a91a519-0cd0-4ecc-9f12-5203df58b0f8"
      },
      "outputs": [
        {
          "data": {
            "text/plain": [
              "['python (1 medium-rare)']"
            ]
          },
          "execution_count": 227,
          "metadata": {},
          "output_type": "execute_result"
        }
      ],
      "source": [
        "store_2"
      ]
    },
    {
      "cell_type": "markdown",
      "id": "7cf02031-79f0-4be6-afca-d25885e192b8",
      "metadata": {
        "id": "7cf02031-79f0-4be6-afca-d25885e192b8"
      },
      "source": [
        "Ok, working great. But let's make the function a little easier to use - if the user does not supply an existing grocery list to append the item to, let's just go ahead and default our `grocery_list` to an empty list hence starting a new shopping list:"
      ]
    },
    {
      "cell_type": "code",
      "execution_count": null,
      "id": "397c3e59-7878-41fa-bd04-4315a936835d",
      "metadata": {
        "id": "397c3e59-7878-41fa-bd04-4315a936835d"
      },
      "outputs": [],
      "source": [
        "def add_item(name, quantity, unit, grocery_list=[]):\n",
        "    item_fmt = \"{0} ({1} {2})\".format(name, quantity, unit)\n",
        "    grocery_list.append(item_fmt)\n",
        "    return grocery_list"
      ]
    },
    {
      "cell_type": "code",
      "execution_count": null,
      "id": "f4a56f30-6f60-4388-95f9-ff34b3c3fb9b",
      "metadata": {
        "id": "f4a56f30-6f60-4388-95f9-ff34b3c3fb9b",
        "outputId": "024b36b1-b86b-4b1c-c457-ec3300d2039c"
      },
      "outputs": [
        {
          "data": {
            "text/plain": [
              "['banans (2 units)',\n",
              " 'grapes (1 bunch)',\n",
              " 'milk (1 gallon)',\n",
              " 'bananas (2 units)',\n",
              " 'grapes (1 bunch)']"
            ]
          },
          "execution_count": 233,
          "metadata": {},
          "output_type": "execute_result"
        }
      ],
      "source": [
        "store_1 = add_item('bananas', 2, 'units')\n",
        "add_item('grapes', 1, 'bunch', store_1)"
      ]
    },
    {
      "cell_type": "code",
      "execution_count": null,
      "id": "f8f29fe1-f305-4024-907e-7fe937a47079",
      "metadata": {
        "id": "f8f29fe1-f305-4024-907e-7fe937a47079",
        "outputId": "03069172-2949-4601-f8d7-76ccf9e2d6a0"
      },
      "outputs": [
        {
          "data": {
            "text/plain": [
              "['banans (2 units)',\n",
              " 'grapes (1 bunch)',\n",
              " 'milk (1 gallon)',\n",
              " 'bananas (2 units)',\n",
              " 'grapes (1 bunch)']"
            ]
          },
          "execution_count": 234,
          "metadata": {},
          "output_type": "execute_result"
        }
      ],
      "source": [
        "store_1"
      ]
    },
    {
      "cell_type": "markdown",
      "id": "0b008c74-2ba2-4ea9-a412-4df40cd4928a",
      "metadata": {
        "id": "0b008c74-2ba2-4ea9-a412-4df40cd4928a"
      },
      "source": [
        "OK, so that seems to be working as exprected.\n",
        "\n",
        "Let's start our second list:"
      ]
    },
    {
      "cell_type": "code",
      "execution_count": null,
      "id": "b839e7f7-c509-4099-915e-ec8333f2bb37",
      "metadata": {
        "id": "b839e7f7-c509-4099-915e-ec8333f2bb37"
      },
      "outputs": [],
      "source": [
        "store_2 = add_item('milk', 1, 'gallon')"
      ]
    },
    {
      "cell_type": "code",
      "execution_count": null,
      "id": "9dfc5c4a-f405-4afa-bd20-37c67eb32cc7",
      "metadata": {
        "id": "9dfc5c4a-f405-4afa-bd20-37c67eb32cc7",
        "outputId": "8b7b651f-be6a-4563-991b-fc1070a2382c"
      },
      "outputs": [
        {
          "name": "stdout",
          "output_type": "stream",
          "text": [
            "['banans (2 units)', 'grapes (1 bunch)', 'milk (1 gallon)', 'bananas (2 units)', 'grapes (1 bunch)', 'milk (1 gallon)']\n"
          ]
        }
      ],
      "source": [
        "print(store_2)"
      ]
    },
    {
      "cell_type": "markdown",
      "id": "4407c4b6-4132-4ef8-a36e-51d2eca211e5",
      "metadata": {
        "id": "4407c4b6-4132-4ef8-a36e-51d2eca211e5"
      },
      "source": [
        "Whats going on? Our second list somehow contains the items that are in the first list.\n",
        "\n",
        "What happened is that the returned value in the first call we made was the default grocery list - but remember that the list was created once and for all when the function was created not called. So everytime we call the function, that is the same list being used as the default.\n",
        "\n",
        "When we started our first list, we were adding item to that default list.\n",
        "\n",
        "Wgen we started our second list, we were adding items to the same default list (since it is the same object).\n",
        "\n",
        "We can avoid this problem using the same pattern as in the previous example we had with the default date time value. We use `None` as a default value instead, and generate a new empty list (hence starting a new list) if none vas provided."
      ]
    },
    {
      "cell_type": "code",
      "execution_count": null,
      "id": "842cca5c-587e-466c-a622-93660a9a589d",
      "metadata": {
        "id": "842cca5c-587e-466c-a622-93660a9a589d"
      },
      "outputs": [],
      "source": [
        "def add_item(name, quantity, unit, grocery_list=None):\n",
        "    if not grocery_list:\n",
        "        grocery_list = []\n",
        "    item_fmt =\"{0}, ({1} {2})\".format(name, quantity, unit)\n",
        "    grocery_list.append(item_fmt)\n",
        "    return grocery_list"
      ]
    },
    {
      "cell_type": "code",
      "execution_count": null,
      "id": "88fbf299-566b-4671-8553-95163eed8dfc",
      "metadata": {
        "id": "88fbf299-566b-4671-8553-95163eed8dfc",
        "outputId": "316f4832-b384-438a-aac9-b847f428cb21"
      },
      "outputs": [
        {
          "data": {
            "text/plain": [
              "['bananas, (2 units)', 'grapes, (1 bunch)']"
            ]
          },
          "execution_count": 238,
          "metadata": {},
          "output_type": "execute_result"
        }
      ],
      "source": [
        "store_1 = add_item('bananas', 2, 'units')\n",
        "add_item('grapes', 1, 'bunch', store_1)"
      ]
    },
    {
      "cell_type": "code",
      "execution_count": null,
      "id": "0d3b6ccd-2f1f-402d-8095-28d592331ff5",
      "metadata": {
        "id": "0d3b6ccd-2f1f-402d-8095-28d592331ff5",
        "outputId": "7e1ea064-71de-4c53-8ee2-23f143b68f07"
      },
      "outputs": [
        {
          "data": {
            "text/plain": [
              "['milk, (1 gallon)']"
            ]
          },
          "execution_count": 239,
          "metadata": {},
          "output_type": "execute_result"
        }
      ],
      "source": [
        "store_2 = add_item('milk', 1, 'gallon')\n",
        "store_2"
      ]
    },
    {
      "cell_type": "markdown",
      "id": "9d8fd41a-538e-476b-9898-ca15c4a40b1e",
      "metadata": {
        "id": "9d8fd41a-538e-476b-9898-ca15c4a40b1e"
      },
      "source": [
        "Issue resolved!\n",
        "However, there are legitimate use cases (well, almost legitimate, often we're better off using a different approach that we'll see when we look at closures), but here's asimple one.\n",
        "\n",
        "We want our function to cache results, so that we don't recalculate something more that once.\n",
        "\n",
        "Let's say we have a factorial function, that can be defined recursively as:\n",
        "`n! = n * (n-1)!`"
      ]
    },
    {
      "cell_type": "code",
      "execution_count": null,
      "id": "21a09a97-7a4f-49fb-b2d0-41392f6204c6",
      "metadata": {
        "id": "21a09a97-7a4f-49fb-b2d0-41392f6204c6"
      },
      "outputs": [],
      "source": [
        "def factorial(n):\n",
        "    if n < 1:\n",
        "        return 1\n",
        "    else:\n",
        "        print('calculating {0}!'.format(n))\n",
        "        return n * factorial(n-1)"
      ]
    },
    {
      "cell_type": "code",
      "execution_count": null,
      "id": "3490a62e-b4f6-40e3-8080-650970595ba4",
      "metadata": {
        "id": "3490a62e-b4f6-40e3-8080-650970595ba4",
        "outputId": "8f20c1c3-4fb2-478b-a7c3-6ba1e890e87c"
      },
      "outputs": [
        {
          "name": "stdout",
          "output_type": "stream",
          "text": [
            "calculating 3!\n",
            "calculating 2!\n",
            "calculating 1!\n"
          ]
        },
        {
          "data": {
            "text/plain": [
              "6"
            ]
          },
          "execution_count": 241,
          "metadata": {},
          "output_type": "execute_result"
        }
      ],
      "source": [
        "factorial(3)"
      ]
    },
    {
      "cell_type": "code",
      "execution_count": null,
      "id": "bf6669be-c252-4f71-8e5d-5bd076db4ffe",
      "metadata": {
        "id": "bf6669be-c252-4f71-8e5d-5bd076db4ffe",
        "outputId": "d039400f-0cc6-4989-8bac-cb8ca5963af8"
      },
      "outputs": [
        {
          "name": "stdout",
          "output_type": "stream",
          "text": [
            "calculating 3!\n",
            "calculating 2!\n",
            "calculating 1!\n"
          ]
        },
        {
          "data": {
            "text/plain": [
              "6"
            ]
          },
          "execution_count": 242,
          "metadata": {},
          "output_type": "execute_result"
        }
      ],
      "source": [
        "factorial(3)"
      ]
    },
    {
      "cell_type": "markdown",
      "id": "132264c4-e567-403c-90ae-ebb734e9b037",
      "metadata": {
        "id": "132264c4-e567-403c-90ae-ebb734e9b037"
      },
      "source": [
        "As you can see we had to recalculate all those factorials the second time around.\n",
        "\n",
        "Let's cache the results leveraging what we saw in the previous example:"
      ]
    },
    {
      "cell_type": "code",
      "execution_count": null,
      "id": "0b775233-4d6b-4e88-8861-9c80f77cfcec",
      "metadata": {
        "id": "0b775233-4d6b-4e88-8861-9c80f77cfcec"
      },
      "outputs": [],
      "source": [
        "def factorial(n, cache={}):\n",
        "    if n < 1:\n",
        "        return 1\n",
        "    elif n in cache:\n",
        "        return cache[n]\n",
        "    else:\n",
        "        print('calculating {0}'.format(n))\n",
        "        result = n * factorial(n-1)\n",
        "        cache[n] = result\n",
        "        return result"
      ]
    },
    {
      "cell_type": "code",
      "execution_count": null,
      "id": "310729d8-f616-4744-b0c3-21f766953344",
      "metadata": {
        "id": "310729d8-f616-4744-b0c3-21f766953344",
        "outputId": "727d0209-1ca4-44a3-b8b2-f147f87be3e9"
      },
      "outputs": [
        {
          "name": "stdout",
          "output_type": "stream",
          "text": [
            "calculating 3\n",
            "calculating 2\n",
            "calculating 1\n"
          ]
        },
        {
          "data": {
            "text/plain": [
              "6"
            ]
          },
          "execution_count": 244,
          "metadata": {},
          "output_type": "execute_result"
        }
      ],
      "source": [
        "factorial(3)"
      ]
    },
    {
      "cell_type": "code",
      "execution_count": null,
      "id": "0cba4621-7db1-445f-b326-c45ba7eff781",
      "metadata": {
        "id": "0cba4621-7db1-445f-b326-c45ba7eff781",
        "outputId": "35e7f1c7-599b-4f2d-89a9-da5f6a95e553"
      },
      "outputs": [
        {
          "data": {
            "text/plain": [
              "6"
            ]
          },
          "execution_count": 245,
          "metadata": {},
          "output_type": "execute_result"
        }
      ],
      "source": [
        "factorial(3)"
      ]
    },
    {
      "cell_type": "markdown",
      "id": "7a125be0-148c-4144-a175-7c03f8a65eca",
      "metadata": {
        "id": "7a125be0-148c-4144-a175-7c03f8a65eca"
      },
      "source": [
        "Now as you can see, the second time around we did not have to recalculate all the factorials. In fact, to calculate higher factorials, you'll notice that we don't need to re-run all the recursive calls:"
      ]
    },
    {
      "cell_type": "code",
      "execution_count": null,
      "id": "eea293be-c6a1-497f-910d-d78de61f1032",
      "metadata": {
        "id": "eea293be-c6a1-497f-910d-d78de61f1032",
        "outputId": "ca6cc698-65e8-4147-87ae-1f3c220e37b8"
      },
      "outputs": [
        {
          "name": "stdout",
          "output_type": "stream",
          "text": [
            "calculating 5\n",
            "calculating 4\n"
          ]
        },
        {
          "data": {
            "text/plain": [
              "120"
            ]
          },
          "execution_count": 246,
          "metadata": {},
          "output_type": "execute_result"
        }
      ],
      "source": [
        "factorial(5)"
      ]
    },
    {
      "cell_type": "markdown",
      "id": "f8adeac9-f945-4976-b057-d04dd71ef125",
      "metadata": {
        "id": "f8adeac9-f945-4976-b057-d04dd71ef125"
      },
      "source": [
        "`5!` and `4!` was calculated since they weren't cached, but since `3!` was already cached we didn't have to recalculate it - it was a quick lookup instead.\n",
        "\n",
        "This technique is something called memoization, and we'll come back to it in much more detail when we discuss closures and decorators."
      ]
    }
  ],
  "metadata": {
    "kernelspec": {
      "display_name": "Python 3 (ipykernel)",
      "language": "python",
      "name": "python3"
    },
    "language_info": {
      "codemirror_mode": {
        "name": "ipython",
        "version": 3
      },
      "file_extension": ".py",
      "mimetype": "text/x-python",
      "name": "python",
      "nbconvert_exporter": "python",
      "pygments_lexer": "ipython3",
      "version": "3.9.12"
    },
    "colab": {
      "provenance": [],
      "include_colab_link": true
    }
  },
  "nbformat": 4,
  "nbformat_minor": 5
}
