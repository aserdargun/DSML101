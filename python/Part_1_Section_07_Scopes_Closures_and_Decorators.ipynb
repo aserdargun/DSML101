{
  "cells": [
    {
      "cell_type": "markdown",
      "metadata": {
        "id": "view-in-github",
        "colab_type": "text"
      },
      "source": [
        "<a href=\"https://colab.research.google.com/github/aserdargun/DSML101/blob/main/python/Part_1_Section_07_Scopes_Closures_and_Decorators.ipynb\" target=\"_parent\"><img src=\"https://colab.research.google.com/assets/colab-badge.svg\" alt=\"Open In Colab\"/></a>"
      ]
    },
    {
      "cell_type": "markdown",
      "id": "beb3e243-77be-44f4-97d1-d34f77d5412d",
      "metadata": {
        "id": "beb3e243-77be-44f4-97d1-d34f77d5412d"
      },
      "source": [
        "# **PART 1: FUNCTIONAL PROGRAMMING**"
      ]
    },
    {
      "cell_type": "markdown",
      "id": "ec0bf5b6-3398-452e-8b21-46d68e578cfb",
      "metadata": {
        "id": "ec0bf5b6-3398-452e-8b21-46d68e578cfb"
      },
      "source": [
        "## Section 07 - Scopes, Closures and Decorators"
      ]
    },
    {
      "cell_type": "markdown",
      "id": "8138c993-8539-4a64-b20e-d2462b672072",
      "metadata": {
        "id": "8138c993-8539-4a64-b20e-d2462b672072"
      },
      "source": [
        "### 01 - Global and Local Scopes"
      ]
    },
    {
      "cell_type": "markdown",
      "id": "ab32ef81-e0a1-4684-8b40-52bb163cf5e8",
      "metadata": {
        "id": "ab32ef81-e0a1-4684-8b40-52bb163cf5e8"
      },
      "source": [
        "In Python the `global` scope refers to the `module` scope.\n",
        "\n",
        "The scope of a variable is normally defined by where it is (lexically) defined in the code."
      ]
    },
    {
      "cell_type": "code",
      "execution_count": null,
      "id": "f9c4ff49-776d-498b-a0d7-1c19fb56a046",
      "metadata": {
        "id": "f9c4ff49-776d-498b-a0d7-1c19fb56a046"
      },
      "outputs": [],
      "source": [
        "a = 10"
      ]
    },
    {
      "cell_type": "markdown",
      "id": "488c12ac-16fc-4a53-a9de-857ebf61d83f",
      "metadata": {
        "id": "488c12ac-16fc-4a53-a9de-857ebf61d83f"
      },
      "source": [
        "In this case, `a` is defined inside the main module, so it is a global variable."
      ]
    },
    {
      "cell_type": "code",
      "execution_count": null,
      "id": "b08d6b0f-7feb-4e5a-a166-f592cc764cea",
      "metadata": {
        "id": "b08d6b0f-7feb-4e5a-a166-f592cc764cea"
      },
      "outputs": [],
      "source": [
        "def my_func(n):\n",
        "    c = n ** 2\n",
        "    return c"
      ]
    },
    {
      "cell_type": "markdown",
      "id": "bfbdf4e3-a67f-4d95-9df7-d3d76d744c32",
      "metadata": {
        "id": "bfbdf4e3-a67f-4d95-9df7-d3d76d744c32"
      },
      "source": [
        "In this case, `c` was defined inside the function `my_func`, so it is `local`  to the function `my_func`. In this example, `n` is also `local` to `my_func`\n",
        "\n",
        "Global variables can be accessed from any inner scope in the module, for example:"
      ]
    },
    {
      "cell_type": "code",
      "execution_count": null,
      "id": "b5f3199a-cd6d-4ba8-95b0-e0bb7630ee11",
      "metadata": {
        "id": "b5f3199a-cd6d-4ba8-95b0-e0bb7630ee11"
      },
      "outputs": [],
      "source": [
        "def my_func(n):\n",
        "    print('global:', a)\n",
        "    c = a ** n\n",
        "    return c"
      ]
    },
    {
      "cell_type": "code",
      "execution_count": null,
      "id": "572e963e-c076-4c22-acc8-09993ef71728",
      "metadata": {
        "id": "572e963e-c076-4c22-acc8-09993ef71728",
        "outputId": "834f77fd-6395-4e45-a3d6-5fd17ec44dcc"
      },
      "outputs": [
        {
          "name": "stdout",
          "output_type": "stream",
          "text": [
            "global: 10\n"
          ]
        },
        {
          "data": {
            "text/plain": [
              "100"
            ]
          },
          "execution_count": 4,
          "metadata": {},
          "output_type": "execute_result"
        }
      ],
      "source": [
        "my_func(2)"
      ]
    },
    {
      "cell_type": "markdown",
      "id": "c07b2cd9-e5fa-4696-875b-1209e6183358",
      "metadata": {
        "id": "c07b2cd9-e5fa-4696-875b-1209e6183358"
      },
      "source": [
        "As you can see, `my_func` was able to reference the global variable `a`.\n",
        "\n",
        "But remember that the scope of a variable is determined by where it is assigned. In particular, any variable defined (i.e. assigned a value) inside a function is local to that function, even if the variable name happens to be global too!"
      ]
    },
    {
      "cell_type": "code",
      "execution_count": null,
      "id": "7399e747-6eb2-4431-a0ea-769b596cee49",
      "metadata": {
        "id": "7399e747-6eb2-4431-a0ea-769b596cee49"
      },
      "outputs": [],
      "source": [
        "def my_func(n):\n",
        "    a = 2\n",
        "    c = a ** 2\n",
        "    return c"
      ]
    },
    {
      "cell_type": "code",
      "execution_count": null,
      "id": "22f2a53d-2513-4970-b4f2-a402295459de",
      "metadata": {
        "id": "22f2a53d-2513-4970-b4f2-a402295459de",
        "outputId": "95042264-3157-42f4-b58b-94b0098659bd"
      },
      "outputs": [
        {
          "name": "stdout",
          "output_type": "stream",
          "text": [
            "10\n",
            "4\n",
            "10\n"
          ]
        }
      ],
      "source": [
        "print(a)\n",
        "print(my_func(3))\n",
        "print(a)"
      ]
    },
    {
      "cell_type": "markdown",
      "id": "6018c448-c950-4bf2-b257-85f40112ac52",
      "metadata": {
        "id": "6018c448-c950-4bf2-b257-85f40112ac52"
      },
      "source": [
        "In order to change the value of a global variable within an inner scope, we can use the `global` keyword as follows:"
      ]
    },
    {
      "cell_type": "code",
      "execution_count": null,
      "id": "0a1bc081-8bf4-4856-ac95-0f2c642f3440",
      "metadata": {
        "id": "0a1bc081-8bf4-4856-ac95-0f2c642f3440"
      },
      "outputs": [],
      "source": [
        "def my_func(n):\n",
        "    global a\n",
        "    a = 2\n",
        "    c = a ** 2\n",
        "    return c"
      ]
    },
    {
      "cell_type": "code",
      "execution_count": null,
      "id": "f068d6cb-a577-4007-8fef-7b3da066d4d4",
      "metadata": {
        "id": "f068d6cb-a577-4007-8fef-7b3da066d4d4",
        "outputId": "c2f2acbd-d771-4c78-8f4a-65a820fdeecd"
      },
      "outputs": [
        {
          "name": "stdout",
          "output_type": "stream",
          "text": [
            "10\n",
            "4\n",
            "2\n"
          ]
        }
      ],
      "source": [
        "print(a)\n",
        "print(my_func(3))\n",
        "print(a)"
      ]
    },
    {
      "cell_type": "markdown",
      "id": "5aef082f-95a8-4c97-85d1-3362d4e2cabc",
      "metadata": {
        "id": "5aef082f-95a8-4c97-85d1-3362d4e2cabc"
      },
      "source": [
        "As you can see, the value of the global variable `a` was changed within `my_func`.\n",
        "\n",
        "In fact, we can create global variables from within an inner function - Python will simply create the variable and place it in the global scope instead of the local scope:"
      ]
    },
    {
      "cell_type": "code",
      "execution_count": null,
      "id": "597c9021-e5a2-4616-95ba-85ea441cbb14",
      "metadata": {
        "id": "597c9021-e5a2-4616-95ba-85ea441cbb14"
      },
      "outputs": [],
      "source": [
        "def my_func(n):\n",
        "    global var\n",
        "    var = 'hello world'\n",
        "    return n ** 2"
      ]
    },
    {
      "cell_type": "markdown",
      "id": "b6891b46-dd9b-4183-9060-619c675b10df",
      "metadata": {
        "id": "b6891b46-dd9b-4183-9060-619c675b10df"
      },
      "source": [
        "Now, `var` does not exist yet, since the function has not run:"
      ]
    },
    {
      "cell_type": "code",
      "execution_count": null,
      "id": "400dc21d-d8db-42fb-9e1c-1cb8c7606402",
      "metadata": {
        "id": "400dc21d-d8db-42fb-9e1c-1cb8c7606402",
        "outputId": "3c340fa0-53e1-492e-d5d1-50a593e85aba"
      },
      "outputs": [
        {
          "ename": "NameError",
          "evalue": "name 'var' is not defined",
          "output_type": "error",
          "traceback": [
            "\u001b[1;31m---------------------------------------------------------------------------\u001b[0m",
            "\u001b[1;31mNameError\u001b[0m                                 Traceback (most recent call last)",
            "Input \u001b[1;32mIn [10]\u001b[0m, in \u001b[0;36m<cell line: 1>\u001b[1;34m()\u001b[0m\n\u001b[1;32m----> 1\u001b[0m \u001b[38;5;28mprint\u001b[39m(\u001b[43mvar\u001b[49m)\n",
            "\u001b[1;31mNameError\u001b[0m: name 'var' is not defined"
          ]
        }
      ],
      "source": [
        "print(var)"
      ]
    },
    {
      "cell_type": "markdown",
      "id": "7465364a-d837-4368-ad6d-05ab6d31b7b1",
      "metadata": {
        "id": "7465364a-d837-4368-ad6d-05ab6d31b7b1"
      },
      "source": [
        "Once we call the function though, it will create that global `var`:"
      ]
    },
    {
      "cell_type": "code",
      "execution_count": null,
      "id": "2df66f52-8312-4948-a452-42c11ac0e54a",
      "metadata": {
        "id": "2df66f52-8312-4948-a452-42c11ac0e54a",
        "outputId": "f7fd0394-9589-4120-e1c1-6fb738b52575"
      },
      "outputs": [
        {
          "data": {
            "text/plain": [
              "4"
            ]
          },
          "execution_count": 11,
          "metadata": {},
          "output_type": "execute_result"
        }
      ],
      "source": [
        "my_func(2)"
      ]
    },
    {
      "cell_type": "code",
      "execution_count": null,
      "id": "b70095fa-3f0e-48ec-a7f3-a3e5bc8028a5",
      "metadata": {
        "id": "b70095fa-3f0e-48ec-a7f3-a3e5bc8028a5",
        "outputId": "223e437b-1c33-4de9-c88d-892706dabcbc"
      },
      "outputs": [
        {
          "name": "stdout",
          "output_type": "stream",
          "text": [
            "hello world\n"
          ]
        }
      ],
      "source": [
        "print(var)"
      ]
    },
    {
      "cell_type": "markdown",
      "id": "a171216f-e99c-48c2-96ab-2a62a5671bee",
      "metadata": {
        "id": "a171216f-e99c-48c2-96ab-2a62a5671bee"
      },
      "source": [
        "---\n",
        "\n",
        "**BE CAREFUL!**"
      ]
    },
    {
      "cell_type": "markdown",
      "id": "9a4bd5bb-4f54-4be3-aca6-7b9ccf8bab6f",
      "metadata": {
        "id": "9a4bd5bb-4f54-4be3-aca6-7b9ccf8bab6f"
      },
      "source": [
        "*Remember that whenever you assign a value to a variable without having specified the variable as `global`, it is `local` in the current scope. Moreover, it does not matter where the assignment in the code takes place, the variable is considered local in the entire scope - Python determines the scope of objects at compile-time, nor at run-time.*"
      ]
    },
    {
      "cell_type": "markdown",
      "id": "0366e395-bade-448c-94bd-bbaf04b5f39c",
      "metadata": {
        "id": "0366e395-bade-448c-94bd-bbaf04b5f39c"
      },
      "source": [
        "*Let's see an example of this:*"
      ]
    },
    {
      "cell_type": "code",
      "execution_count": null,
      "id": "6844c978-78c9-47ce-862a-6404e8b5aff1",
      "metadata": {
        "id": "6844c978-78c9-47ce-862a-6404e8b5aff1"
      },
      "outputs": [],
      "source": [
        "a = 10\n",
        "b = 100"
      ]
    },
    {
      "cell_type": "code",
      "execution_count": null,
      "id": "a9a6c57b-c6a4-47c8-a853-3918bd543e2b",
      "metadata": {
        "id": "a9a6c57b-c6a4-47c8-a853-3918bd543e2b"
      },
      "outputs": [],
      "source": [
        "def my_func():\n",
        "    print(a)\n",
        "    print(b)"
      ]
    },
    {
      "cell_type": "code",
      "execution_count": null,
      "id": "7ad049bb-1f1d-4640-8633-006140dbbe03",
      "metadata": {
        "id": "7ad049bb-1f1d-4640-8633-006140dbbe03",
        "outputId": "713c1b72-2c24-407f-bc73-08c67e647620"
      },
      "outputs": [
        {
          "name": "stdout",
          "output_type": "stream",
          "text": [
            "10\n",
            "100\n"
          ]
        }
      ],
      "source": [
        "my_func()"
      ]
    },
    {
      "cell_type": "markdown",
      "id": "9888429a-b5a3-445c-84a9-a855a3c9e875",
      "metadata": {
        "id": "9888429a-b5a3-445c-84a9-a855a3c9e875"
      },
      "source": [
        "So, this works as expected - `a` and `b` are taken from the global scope since they are referenced before being assigned a value in the local scope.\n",
        "\n",
        "But now consider the following example:"
      ]
    },
    {
      "cell_type": "code",
      "execution_count": null,
      "id": "0ae38ae2-ea8e-4e2e-8590-da6f88989018",
      "metadata": {
        "id": "0ae38ae2-ea8e-4e2e-8590-da6f88989018"
      },
      "outputs": [],
      "source": [
        "a = 10\n",
        "b = 100\n",
        "\n",
        "def my_func():\n",
        "    print(a)\n",
        "    print(b)\n",
        "    b = 1000"
      ]
    },
    {
      "cell_type": "code",
      "execution_count": null,
      "id": "7a3fbf0f-e70f-4e61-9e1f-569c05d42482",
      "metadata": {
        "id": "7a3fbf0f-e70f-4e61-9e1f-569c05d42482",
        "outputId": "cf0c6f83-e21d-41bc-fdaa-4b032525a7c6"
      },
      "outputs": [
        {
          "name": "stdout",
          "output_type": "stream",
          "text": [
            "10\n"
          ]
        },
        {
          "ename": "UnboundLocalError",
          "evalue": "local variable 'b' referenced before assignment",
          "output_type": "error",
          "traceback": [
            "\u001b[1;31m---------------------------------------------------------------------------\u001b[0m",
            "\u001b[1;31mUnboundLocalError\u001b[0m                         Traceback (most recent call last)",
            "Input \u001b[1;32mIn [17]\u001b[0m, in \u001b[0;36m<cell line: 1>\u001b[1;34m()\u001b[0m\n\u001b[1;32m----> 1\u001b[0m \u001b[43mmy_func\u001b[49m\u001b[43m(\u001b[49m\u001b[43m)\u001b[49m\n",
            "Input \u001b[1;32mIn [16]\u001b[0m, in \u001b[0;36mmy_func\u001b[1;34m()\u001b[0m\n\u001b[0;32m      4\u001b[0m \u001b[38;5;28;01mdef\u001b[39;00m \u001b[38;5;21mmy_func\u001b[39m():\n\u001b[0;32m      5\u001b[0m     \u001b[38;5;28mprint\u001b[39m(a)\n\u001b[1;32m----> 6\u001b[0m     \u001b[38;5;28mprint\u001b[39m(\u001b[43mb\u001b[49m)\n\u001b[0;32m      7\u001b[0m     b \u001b[38;5;241m=\u001b[39m \u001b[38;5;241m1000\u001b[39m\n",
            "\u001b[1;31mUnboundLocalError\u001b[0m: local variable 'b' referenced before assignment"
          ]
        }
      ],
      "source": [
        "my_func()"
      ]
    },
    {
      "cell_type": "markdown",
      "id": "c13f3879-724a-4fac-b8b3-ed07491861cb",
      "metadata": {
        "id": "c13f3879-724a-4fac-b8b3-ed07491861cb"
      },
      "source": [
        "As you can see, `b` in the line `print(b)` is considered a `local` variable - that's because the next line assigns a value to `b` - hence `b` is scoped as local by Python for the entire function.\n",
        "\n",
        "Of course, functions are also objects, and scoping applies equally to function objects too. For example, we can \"mask\" the built-in `print` Python function:"
      ]
    },
    {
      "cell_type": "code",
      "execution_count": null,
      "id": "479310e8-ac47-4678-8f58-4c59be2b99cc",
      "metadata": {
        "id": "479310e8-ac47-4678-8f58-4c59be2b99cc",
        "outputId": "881d146b-c322-4211-b8be-286fbb075f1d"
      },
      "outputs": [
        {
          "data": {
            "text/plain": [
              "'hello world'"
            ]
          },
          "execution_count": 18,
          "metadata": {},
          "output_type": "execute_result"
        }
      ],
      "source": [
        "print = lambda x: 'hello {0}'.format(x)\n",
        "\n",
        "def my_func(name):\n",
        "    return print(name)\n",
        "\n",
        "my_func('world')"
      ]
    },
    {
      "cell_type": "markdown",
      "id": "41ad1e16-c0d1-45bc-9023-b6114919db28",
      "metadata": {
        "id": "41ad1e16-c0d1-45bc-9023-b6114919db28"
      },
      "source": [
        "You may be wondering how we get our real `print` function back!"
      ]
    },
    {
      "cell_type": "code",
      "execution_count": null,
      "id": "1c601493-6b4d-4058-8a39-531b1a8cadf6",
      "metadata": {
        "id": "1c601493-6b4d-4058-8a39-531b1a8cadf6"
      },
      "outputs": [],
      "source": [
        "del print"
      ]
    },
    {
      "cell_type": "code",
      "execution_count": null,
      "id": "2fc6d43c-2b20-4f0f-afb2-c60144911cd0",
      "metadata": {
        "id": "2fc6d43c-2b20-4f0f-afb2-c60144911cd0",
        "outputId": "84fe0baf-d16e-403f-d25f-22f02f7a41be"
      },
      "outputs": [
        {
          "name": "stdout",
          "output_type": "stream",
          "text": [
            "hello\n"
          ]
        }
      ],
      "source": [
        "print('hello')"
      ]
    },
    {
      "cell_type": "markdown",
      "id": "9300e03f-fb54-4c20-a959-28e671789b25",
      "metadata": {
        "id": "9300e03f-fb54-4c20-a959-28e671789b25"
      },
      "source": [
        "Yay!!\n",
        "\n",
        "If you have experience in some other programming languages you may ve wondering if loops and other code \"blocks\" haver their own local scope too. For example in Java, the following would not work:\n",
        "\n",
        "```\n",
        "for (int i=0; i<10; i++) {\n",
        "    int x = 2 * i;\n",
        "}\n",
        "system.out.println(x);\n",
        "```\n",
        "\n",
        "But in Python it works perfectly fine:"
      ]
    },
    {
      "cell_type": "code",
      "execution_count": null,
      "id": "9e4b11a7-ef62-426b-b47a-7aedcf03ca3c",
      "metadata": {
        "id": "9e4b11a7-ef62-426b-b47a-7aedcf03ca3c",
        "outputId": "7663e524-e873-45d2-dbea-2d3fe3789ca4"
      },
      "outputs": [
        {
          "name": "stdout",
          "output_type": "stream",
          "text": [
            "18\n"
          ]
        }
      ],
      "source": [
        "for i in range(10):\n",
        "    x = 2 * i\n",
        "print(x)"
      ]
    },
    {
      "cell_type": "markdown",
      "id": "639992de-d46b-43a8-9ac5-4989c19d81ad",
      "metadata": {
        "id": "639992de-d46b-43a8-9ac5-4989c19d81ad"
      },
      "source": [
        "In this case, when we assigned a value to `x`, Python put it in the global (module) scope, so we can reference it after the `for` loop has finished running."
      ]
    },
    {
      "cell_type": "markdown",
      "id": "32a737da-52ff-4ba1-84dc-24379498de72",
      "metadata": {
        "id": "32a737da-52ff-4ba1-84dc-24379498de72"
      },
      "source": [
        "### 02 - Nonlocal Scopes"
      ]
    },
    {
      "cell_type": "markdown",
      "id": "5a761c4d-2582-45a9-961a-f54cbc2252bb",
      "metadata": {
        "id": "5a761c4d-2582-45a9-961a-f54cbc2252bb"
      },
      "source": [
        "Functions defined inside another function can reference variables from that enlosing scope, just like functions can reference variables from the global scope."
      ]
    },
    {
      "cell_type": "code",
      "execution_count": null,
      "id": "53f8548a-bb51-403f-a915-5876db822468",
      "metadata": {
        "id": "53f8548a-bb51-403f-a915-5876db822468"
      },
      "outputs": [],
      "source": [
        "def outer_func():\n",
        "    x = 'hello'\n",
        "\n",
        "    def inner_func():\n",
        "        print(x)\n",
        "    \n",
        "    inner_func()"
      ]
    },
    {
      "cell_type": "code",
      "execution_count": null,
      "id": "f3f08229-12df-4ea8-bde7-679231765d14",
      "metadata": {
        "id": "f3f08229-12df-4ea8-bde7-679231765d14",
        "outputId": "e5eea081-7f36-487c-bac3-fe2cfab406c6"
      },
      "outputs": [
        {
          "name": "stdout",
          "output_type": "stream",
          "text": [
            "hello\n"
          ]
        }
      ],
      "source": [
        "outer_func()"
      ]
    },
    {
      "cell_type": "markdown",
      "id": "d96af3ed-2684-48db-80d6-767416404f69",
      "metadata": {
        "id": "d96af3ed-2684-48db-80d6-767416404f69"
      },
      "source": [
        "in fact, any level of nesting is supported since Python just keeps looking in enclosing scopes until it finds what it needs (or fails to finde it by the time it finishes looking in the built-in scope, in which case a runtime error occurrs.)"
      ]
    },
    {
      "cell_type": "code",
      "execution_count": null,
      "id": "91d5ab0b-3196-42a2-86ab-cac1fb1706fe",
      "metadata": {
        "id": "91d5ab0b-3196-42a2-86ab-cac1fb1706fe"
      },
      "outputs": [],
      "source": [
        "def outer_func():\n",
        "    x = 'hello'\n",
        "    def inner1():\n",
        "        def inner2():\n",
        "            print(x)\n",
        "        inner2()\n",
        "    inner1()"
      ]
    },
    {
      "cell_type": "code",
      "execution_count": null,
      "id": "89bf024e-f380-41ae-bc47-234522b963dd",
      "metadata": {
        "id": "89bf024e-f380-41ae-bc47-234522b963dd",
        "outputId": "2b0aa246-ac8b-46fb-fd58-9bf74cacb599"
      },
      "outputs": [
        {
          "name": "stdout",
          "output_type": "stream",
          "text": [
            "hello\n"
          ]
        }
      ],
      "source": [
        "outer_func()"
      ]
    },
    {
      "cell_type": "markdown",
      "id": "eb2b71a4-ae96-4896-b4cc-a963671a232d",
      "metadata": {
        "id": "eb2b71a4-ae96-4896-b4cc-a963671a232d"
      },
      "source": [
        "But if we assign a value to a variable, it is considered part of the local scope, and potentially masks enclosing scope variable names:"
      ]
    },
    {
      "cell_type": "code",
      "execution_count": null,
      "id": "73ebd72b-09cf-40e4-9839-5317c75773a2",
      "metadata": {
        "id": "73ebd72b-09cf-40e4-9839-5317c75773a2"
      },
      "outputs": [],
      "source": [
        "def outer():\n",
        "    x = 'hello'\n",
        "    def inner():\n",
        "        x = 'python'\n",
        "    inner()\n",
        "    print(x)"
      ]
    },
    {
      "cell_type": "code",
      "execution_count": null,
      "id": "49d1306c-cd11-4876-8d39-8fe9921139b4",
      "metadata": {
        "id": "49d1306c-cd11-4876-8d39-8fe9921139b4",
        "outputId": "2146585e-68a3-417a-85dd-7aaa07274f1d"
      },
      "outputs": [
        {
          "name": "stdout",
          "output_type": "stream",
          "text": [
            "hello\n"
          ]
        }
      ],
      "source": [
        "outer()"
      ]
    },
    {
      "cell_type": "markdown",
      "id": "3a3a990a-d1f4-4607-8f64-2f2bdc08ba18",
      "metadata": {
        "id": "3a3a990a-d1f4-4607-8f64-2f2bdc08ba18"
      },
      "source": [
        "As you can see, `x` in outer was not changed.\n",
        "\n",
        "To achieve this, we can use the `nonlocal` keyword:"
      ]
    },
    {
      "cell_type": "code",
      "execution_count": null,
      "id": "5c04e667-c031-426a-8a13-46ee123d7588",
      "metadata": {
        "id": "5c04e667-c031-426a-8a13-46ee123d7588"
      },
      "outputs": [],
      "source": [
        "def outer():\n",
        "    x = 'hello'\n",
        "    def inner():\n",
        "        nonlocal x\n",
        "        x = 'python'\n",
        "    inner()\n",
        "    print(x)"
      ]
    },
    {
      "cell_type": "code",
      "execution_count": null,
      "id": "04008605-10b8-49bd-8d68-a7bb247c7144",
      "metadata": {
        "id": "04008605-10b8-49bd-8d68-a7bb247c7144",
        "outputId": "b54f94dd-1ece-4cf6-dcc5-e23a320e5bbc"
      },
      "outputs": [
        {
          "name": "stdout",
          "output_type": "stream",
          "text": [
            "python\n"
          ]
        }
      ],
      "source": [
        "outer()"
      ]
    },
    {
      "cell_type": "markdown",
      "id": "f1a557fe-f455-4fc6-8ef3-fc92a31d193e",
      "metadata": {
        "id": "f1a557fe-f455-4fc6-8ef3-fc92a31d193e"
      },
      "source": [
        "Of course, this can work at any level as well:"
      ]
    },
    {
      "cell_type": "code",
      "execution_count": null,
      "id": "6f22de10-acfd-45fb-a097-ee96ab7f64e4",
      "metadata": {
        "id": "6f22de10-acfd-45fb-a097-ee96ab7f64e4"
      },
      "outputs": [],
      "source": [
        "def outer():\n",
        "    x = 'hello'\n",
        "\n",
        "    def inner1():\n",
        "        def inner2():\n",
        "            nonlocal x\n",
        "            x = 'python'\n",
        "        inner2()\n",
        "    inner1()\n",
        "    print(x)"
      ]
    },
    {
      "cell_type": "code",
      "execution_count": null,
      "id": "b5b04e55-a564-4c43-9e72-345efcae4681",
      "metadata": {
        "id": "b5b04e55-a564-4c43-9e72-345efcae4681",
        "outputId": "4ed9ae12-f284-46a1-faa2-e49165282dc3"
      },
      "outputs": [
        {
          "name": "stdout",
          "output_type": "stream",
          "text": [
            "python\n"
          ]
        }
      ],
      "source": [
        "outer()"
      ]
    },
    {
      "cell_type": "markdown",
      "id": "1b3851f5-db35-412e-9e0d-89c2f531a014",
      "metadata": {
        "id": "1b3851f5-db35-412e-9e0d-89c2f531a014"
      },
      "source": [
        "How far Python looks up the chain depends on the first occurence of the variable name in an enclosing scope.\n",
        "\n",
        "Consider the following example:"
      ]
    },
    {
      "cell_type": "code",
      "execution_count": null,
      "id": "566ceda6-7a3f-4540-8f23-ee9c608b3d1a",
      "metadata": {
        "id": "566ceda6-7a3f-4540-8f23-ee9c608b3d1a"
      },
      "outputs": [],
      "source": [
        "def outer():\n",
        "    x = 'hello'\n",
        "    def inner1():\n",
        "        x = 'python'\n",
        "        def inner2():\n",
        "            nonlocal x\n",
        "            x = 'monty'\n",
        "        print('inner1 (before):', x)\n",
        "        inner2()\n",
        "        print('inner2 (after):', x)\n",
        "    inner1()\n",
        "    print('outer:', x)"
      ]
    },
    {
      "cell_type": "code",
      "execution_count": null,
      "id": "af129e8b-c71a-4161-8817-8e0a750ecc8c",
      "metadata": {
        "id": "af129e8b-c71a-4161-8817-8e0a750ecc8c",
        "outputId": "83131974-0c52-4821-ae62-cf694a07ea13"
      },
      "outputs": [
        {
          "name": "stdout",
          "output_type": "stream",
          "text": [
            "inner1 (before): python\n",
            "inner2 (after): monty\n",
            "outer: hello\n"
          ]
        }
      ],
      "source": [
        "outer()"
      ]
    },
    {
      "cell_type": "markdown",
      "id": "3b070e78-ce7b-4b99-a2ac-ba65b1e6cfb2",
      "metadata": {
        "id": "3b070e78-ce7b-4b99-a2ac-ba65b1e6cfb2"
      },
      "source": [
        "What happened here, is that `x` in `inner1` masked `x` in `outer`. But `inner2` indicated to Python that `x` was nonlocal, so the first local variable up in the enclosing scope chain Python found was the one in `inner1`, hence `x` in `inner2` is actually referencing `x` that is local to `inner1`\n",
        "\n",
        "We can change this behavior by making the variable `x` in `inner` nonlocal as well:"
      ]
    },
    {
      "cell_type": "code",
      "execution_count": null,
      "id": "2c40d8f6-4949-434a-b7e0-3d6b700c4390",
      "metadata": {
        "id": "2c40d8f6-4949-434a-b7e0-3d6b700c4390"
      },
      "outputs": [],
      "source": [
        "def outer():\n",
        "    x = 'hello'\n",
        "    def inner1():\n",
        "        nonlocal x\n",
        "        x = 'python'\n",
        "        def inner2():\n",
        "            nonlocal x\n",
        "            x = 'monty'\n",
        "        print('inner1 (before):', x)\n",
        "        inner2()\n",
        "        print('inner1 (after):', x)\n",
        "    inner1()\n",
        "    print('outer:', x)"
      ]
    },
    {
      "cell_type": "code",
      "execution_count": null,
      "id": "1c715958-a599-4ec2-9cdd-ab9f8d7e50a9",
      "metadata": {
        "id": "1c715958-a599-4ec2-9cdd-ab9f8d7e50a9",
        "outputId": "68899ac1-663d-48c0-f67d-8f642d9071af"
      },
      "outputs": [
        {
          "name": "stdout",
          "output_type": "stream",
          "text": [
            "inner1 (before): python\n",
            "inner1 (after): monty\n",
            "outer: monty\n"
          ]
        }
      ],
      "source": [
        "outer()"
      ]
    },
    {
      "cell_type": "code",
      "execution_count": null,
      "id": "60601628-2524-42fe-b90e-ee5e054f84e2",
      "metadata": {
        "id": "60601628-2524-42fe-b90e-ee5e054f84e2"
      },
      "outputs": [],
      "source": [
        "x = 100\n",
        "def outer():\n",
        "    x = 'python'  # masks global x\n",
        "    def inner1():\n",
        "        nonlocal x  # refers to x in outer\n",
        "        x = 'monty' # changed x in outer scope\n",
        "        def inner2():\n",
        "            global x  # refers to x in global scope\n",
        "            x = 'hello'\n",
        "        print('inner1 (before):', x)\n",
        "        inner2()\n",
        "        print('inner1 (after):', x)\n",
        "    inner1()\n",
        "    print('outer', x)  "
      ]
    },
    {
      "cell_type": "code",
      "execution_count": null,
      "id": "db2d420b-30d1-4527-8eea-4f94de289746",
      "metadata": {
        "id": "db2d420b-30d1-4527-8eea-4f94de289746",
        "outputId": "b98ad0cd-657a-4926-d1e5-cd9b41d541dc"
      },
      "outputs": [
        {
          "name": "stdout",
          "output_type": "stream",
          "text": [
            "inner1 (before): monty\n",
            "inner1 (after): monty\n",
            "outer monty\n",
            "hello\n"
          ]
        }
      ],
      "source": [
        "outer()\n",
        "print(x)"
      ]
    },
    {
      "cell_type": "markdown",
      "id": "34515e3b-0fba-4778-bf94-138cfb18f05c",
      "metadata": {
        "id": "34515e3b-0fba-4778-bf94-138cfb18f05c"
      },
      "source": [
        "---\n",
        "**BE CAREFUL!**"
      ]
    },
    {
      "cell_type": "markdown",
      "id": "ff81f9cf-092f-4b3a-bb91-c9977676ec2e",
      "metadata": {
        "id": "ff81f9cf-092f-4b3a-bb91-c9977676ec2e"
      },
      "source": [
        "*But this will not work. In `inner` Python is looking for a local variable called `x`. `outer` has a label called `x`, but it is a global variable, not local one - hence Python does not find a local variable in the scope chain.*"
      ]
    },
    {
      "cell_type": "code",
      "execution_count": null,
      "id": "c078c2c7-4e16-4f84-aa42-5314bda899d1",
      "metadata": {
        "id": "c078c2c7-4e16-4f84-aa42-5314bda899d1",
        "outputId": "c6a217bc-3ed9-4e00-b032-533d0fb09053"
      },
      "outputs": [
        {
          "ename": "SyntaxError",
          "evalue": "no binding for nonlocal 'x' found (766560350.py, line 7)",
          "output_type": "error",
          "traceback": [
            "\u001b[1;36m  Input \u001b[1;32mIn [38]\u001b[1;36m\u001b[0m\n\u001b[1;33m    nonlocal x\u001b[0m\n\u001b[1;37m    ^\u001b[0m\n\u001b[1;31mSyntaxError\u001b[0m\u001b[1;31m:\u001b[0m no binding for nonlocal 'x' found\n"
          ]
        }
      ],
      "source": [
        "x = 100\n",
        "def outer():\n",
        "    global x\n",
        "    x = 'python'\n",
        "\n",
        "    def inner():\n",
        "        nonlocal x\n",
        "        x = 'monty'\n",
        "    inner()"
      ]
    },
    {
      "cell_type": "markdown",
      "id": "c579c5a5-5f91-4e34-a5d7-7a9d50335406",
      "metadata": {
        "id": "c579c5a5-5f91-4e34-a5d7-7a9d50335406"
      },
      "source": [
        "### 03 - Closures"
      ]
    },
    {
      "cell_type": "markdown",
      "id": "68a4aed6-fa9a-401f-8635-f207db94ee7b",
      "metadata": {
        "id": "68a4aed6-fa9a-401f-8635-f207db94ee7b"
      },
      "source": [
        "Let's examine that concept of a cell to create an indirect reference for variables that are in multiple scopes."
      ]
    },
    {
      "cell_type": "code",
      "execution_count": null,
      "id": "aaf3e774-7997-46fb-8614-e601af9f4c5a",
      "metadata": {
        "id": "aaf3e774-7997-46fb-8614-e601af9f4c5a"
      },
      "outputs": [],
      "source": [
        "def outer():\n",
        "    x = 'python'\n",
        "    def inner():\n",
        "        print(x)\n",
        "    return inner"
      ]
    },
    {
      "cell_type": "code",
      "execution_count": null,
      "id": "66f0e9e2-8591-4089-96e9-377801f6ca6c",
      "metadata": {
        "id": "66f0e9e2-8591-4089-96e9-377801f6ca6c"
      },
      "outputs": [],
      "source": [
        "fn = outer()"
      ]
    },
    {
      "cell_type": "code",
      "execution_count": null,
      "id": "324a7243-f986-485a-8252-a9a9a80cb016",
      "metadata": {
        "id": "324a7243-f986-485a-8252-a9a9a80cb016",
        "outputId": "d9481696-961b-4a22-d2b4-c870f8257f2e"
      },
      "outputs": [
        {
          "data": {
            "text/plain": [
              "('x',)"
            ]
          },
          "execution_count": 41,
          "metadata": {},
          "output_type": "execute_result"
        }
      ],
      "source": [
        "fn.__code__.co_freevars"
      ]
    },
    {
      "cell_type": "markdown",
      "id": "06b06fe3-ea04-46b6-8f3c-bd4c3f1238b5",
      "metadata": {
        "id": "06b06fe3-ea04-46b6-8f3c-bd4c3f1238b5"
      },
      "source": [
        "As we can see, `x` is a free variable in the closure."
      ]
    },
    {
      "cell_type": "code",
      "execution_count": null,
      "id": "184ca797-63c8-45ea-afd8-f3e34100e364",
      "metadata": {
        "id": "184ca797-63c8-45ea-afd8-f3e34100e364",
        "outputId": "c4da62e4-7957-4862-8c3d-9330ec413ea6"
      },
      "outputs": [
        {
          "data": {
            "text/plain": [
              "(<cell at 0x000001C71A4F3BB0: str object at 0x000001C715E97B30>,)"
            ]
          },
          "execution_count": 42,
          "metadata": {},
          "output_type": "execute_result"
        }
      ],
      "source": [
        "fn.__closure__"
      ]
    },
    {
      "cell_type": "markdown",
      "id": "016474b8-8067-42ae-ab6f-9bfa637c6cee",
      "metadata": {
        "id": "016474b8-8067-42ae-ab6f-9bfa637c6cee"
      },
      "source": [
        "Here we see that the free variable `x` is actually a reference to a cell object that is itself a reference to a string object.\n",
        "\n",
        "Let's see what the memory address of `x` is in the outer function and the inner function. To be sure string interning does not play a role, I am going to use an object that we know Python will not automatically intern, like a list."
      ]
    },
    {
      "cell_type": "code",
      "execution_count": null,
      "id": "a8ce50b6-27fd-483c-8dee-9a2954270585",
      "metadata": {
        "id": "a8ce50b6-27fd-483c-8dee-9a2954270585"
      },
      "outputs": [],
      "source": [
        "def outer():\n",
        "    x = [1, 2, 3]\n",
        "    print('outer:', hex(id(x)))\n",
        "    def inner():\n",
        "        print('inner:', hex(id(x)))\n",
        "        print(x)\n",
        "    return inner"
      ]
    },
    {
      "cell_type": "code",
      "execution_count": null,
      "id": "346c6eb5-72a0-45d2-aaa3-3d8accad13a4",
      "metadata": {
        "id": "346c6eb5-72a0-45d2-aaa3-3d8accad13a4",
        "outputId": "aa67335c-8d40-4a9e-b8ff-07bb2591d211"
      },
      "outputs": [
        {
          "name": "stdout",
          "output_type": "stream",
          "text": [
            "outer: 0x1c71a3f1340\n"
          ]
        }
      ],
      "source": [
        "fn = outer()"
      ]
    },
    {
      "cell_type": "code",
      "execution_count": null,
      "id": "2295d1a1-f8ce-4b6d-ab80-0760cdd4b1e9",
      "metadata": {
        "id": "2295d1a1-f8ce-4b6d-ab80-0760cdd4b1e9",
        "outputId": "050cbb33-02d5-404c-9b4f-8e7a125d4831"
      },
      "outputs": [
        {
          "data": {
            "text/plain": [
              "(<cell at 0x000001C71A4FB730: list object at 0x000001C71A3F1340>,)"
            ]
          },
          "execution_count": 45,
          "metadata": {},
          "output_type": "execute_result"
        }
      ],
      "source": [
        "fn.__closure__"
      ]
    },
    {
      "cell_type": "code",
      "execution_count": null,
      "id": "992d24e6-e9f8-4af0-a498-3010531b448d",
      "metadata": {
        "id": "992d24e6-e9f8-4af0-a498-3010531b448d",
        "outputId": "b5e421f8-9af8-4706-f8ab-bf6c6c556d19"
      },
      "outputs": [
        {
          "name": "stdout",
          "output_type": "stream",
          "text": [
            "inner: 0x1c71a3f1340\n",
            "[1, 2, 3]\n"
          ]
        }
      ],
      "source": [
        "fn()"
      ]
    },
    {
      "cell_type": "markdown",
      "id": "c0464f1d-bb19-40d0-b2e4-a19c6fd95454",
      "metadata": {
        "id": "c0464f1d-bb19-40d0-b2e4-a19c6fd95454"
      },
      "source": [
        "As you can see, each the memory address of `x` in `outer`, `inner` and the cell all point to the same object."
      ]
    },
    {
      "cell_type": "markdown",
      "id": "87d3020d-9e7d-4483-bf9e-524f3bd95290",
      "metadata": {
        "id": "87d3020d-9e7d-4483-bf9e-524f3bd95290"
      },
      "source": [
        "**Modifying the Free Variable**"
      ]
    },
    {
      "cell_type": "markdown",
      "id": "2511158e-52fc-48b7-a6e2-ee93b168a463",
      "metadata": {
        "id": "2511158e-52fc-48b7-a6e2-ee93b168a463"
      },
      "source": [
        "We know we can modify nonlocal variables by using the `nonlocal` keyword. So the following will work:"
      ]
    },
    {
      "cell_type": "code",
      "execution_count": null,
      "id": "a5d8487c-dff8-4d95-9b70-3bcd455fb051",
      "metadata": {
        "id": "a5d8487c-dff8-4d95-9b70-3bcd455fb051"
      },
      "outputs": [],
      "source": [
        "def counter():\n",
        "    count = 0 # local variable\n",
        "\n",
        "    def inc():\n",
        "        nonlocal count # this is the count variable in counter\n",
        "        count += 1\n",
        "        return count\n",
        "    return inc"
      ]
    },
    {
      "cell_type": "code",
      "execution_count": null,
      "id": "f8a63d33-a46c-437c-b914-83635a026073",
      "metadata": {
        "id": "f8a63d33-a46c-437c-b914-83635a026073"
      },
      "outputs": [],
      "source": [
        "c = counter()"
      ]
    },
    {
      "cell_type": "code",
      "execution_count": null,
      "id": "1c9d1dd4-87af-4f8c-850b-a3ada7e76490",
      "metadata": {
        "id": "1c9d1dd4-87af-4f8c-850b-a3ada7e76490",
        "outputId": "dc39a3fb-c577-4135-9f35-cacbf45c3b60"
      },
      "outputs": [
        {
          "data": {
            "text/plain": [
              "1"
            ]
          },
          "execution_count": 49,
          "metadata": {},
          "output_type": "execute_result"
        }
      ],
      "source": [
        "c()"
      ]
    },
    {
      "cell_type": "code",
      "execution_count": null,
      "id": "1eb18e8f-a4f3-4176-9fb3-7031821b76c1",
      "metadata": {
        "id": "1eb18e8f-a4f3-4176-9fb3-7031821b76c1",
        "outputId": "6c6f615e-7e1a-48c7-dfed-9a317a5e22bc"
      },
      "outputs": [
        {
          "data": {
            "text/plain": [
              "2"
            ]
          },
          "execution_count": 50,
          "metadata": {},
          "output_type": "execute_result"
        }
      ],
      "source": [
        "c()"
      ]
    },
    {
      "cell_type": "markdown",
      "id": "065815ff-5f93-49d5-ab9b-bac9fbb66e96",
      "metadata": {
        "id": "065815ff-5f93-49d5-ab9b-bac9fbb66e96"
      },
      "source": [
        "**Shared Extended Scopes**"
      ]
    },
    {
      "cell_type": "markdown",
      "id": "7ab4a727-b195-407a-bb76-3b5adee990d9",
      "metadata": {
        "id": "7ab4a727-b195-407a-bb76-3b5adee990d9"
      },
      "source": [
        "As we saw in the lecture, we can set up nonlocal variables in different inner functions that reference the same outer scope variable, i.e. we have a free variable that is shared between two closure. This works because both non local variables and the outer local variable all point back to the same cell object."
      ]
    },
    {
      "cell_type": "code",
      "execution_count": null,
      "id": "dd094780-469c-4352-958d-4783a669a2dd",
      "metadata": {
        "id": "dd094780-469c-4352-958d-4783a669a2dd"
      },
      "outputs": [],
      "source": [
        "def outer():\n",
        "    count = 0\n",
        "    def inc1():\n",
        "        nonlocal count\n",
        "        count += 1\n",
        "        return count\n",
        "\n",
        "    def inc2():\n",
        "        nonlocal count\n",
        "        count += 1\n",
        "        return count\n",
        "\n",
        "    return inc1, inc2"
      ]
    },
    {
      "cell_type": "code",
      "execution_count": null,
      "id": "d246e723-8bb3-415e-b609-02a9f3361977",
      "metadata": {
        "id": "d246e723-8bb3-415e-b609-02a9f3361977"
      },
      "outputs": [],
      "source": [
        "fn1, fn2 = outer()"
      ]
    },
    {
      "cell_type": "code",
      "execution_count": null,
      "id": "fabcd74c-e211-403f-a4f9-3bc092201aaf",
      "metadata": {
        "id": "fabcd74c-e211-403f-a4f9-3bc092201aaf",
        "outputId": "16f69460-58a4-4083-e42f-e14ce4b04e18"
      },
      "outputs": [
        {
          "data": {
            "text/plain": [
              "((<cell at 0x000001C71A422A60: int object at 0x000001C7135A6910>,),\n",
              " (<cell at 0x000001C71A422A60: int object at 0x000001C7135A6910>,))"
            ]
          },
          "execution_count": 53,
          "metadata": {},
          "output_type": "execute_result"
        }
      ],
      "source": [
        "fn1.__closure__, fn2.__closure__"
      ]
    },
    {
      "cell_type": "markdown",
      "id": "7ea347c9-b6c6-46fc-85a9-7b197f08079c",
      "metadata": {
        "id": "7ea347c9-b6c6-46fc-85a9-7b197f08079c"
      },
      "source": [
        "As you can see here, the `count` label points to the same cell."
      ]
    },
    {
      "cell_type": "code",
      "execution_count": null,
      "id": "8b64d4a4-5a34-4983-8c5b-16af3e067af4",
      "metadata": {
        "id": "8b64d4a4-5a34-4983-8c5b-16af3e067af4",
        "outputId": "40a8ba43-701e-4556-baa8-0e05c82716e7"
      },
      "outputs": [
        {
          "data": {
            "text/plain": [
              "1"
            ]
          },
          "execution_count": 54,
          "metadata": {},
          "output_type": "execute_result"
        }
      ],
      "source": [
        "fn1()"
      ]
    },
    {
      "cell_type": "code",
      "execution_count": null,
      "id": "0a77b3e6-b911-4649-994e-a01239a71793",
      "metadata": {
        "id": "0a77b3e6-b911-4649-994e-a01239a71793",
        "outputId": "2db1c526-88ba-49e7-f5c1-6ad8a75b3a55"
      },
      "outputs": [
        {
          "data": {
            "text/plain": [
              "2"
            ]
          },
          "execution_count": 55,
          "metadata": {},
          "output_type": "execute_result"
        }
      ],
      "source": [
        "fn1()"
      ]
    },
    {
      "cell_type": "code",
      "execution_count": null,
      "id": "3856f20e-8863-4c2e-8d8a-b4523be62877",
      "metadata": {
        "id": "3856f20e-8863-4c2e-8d8a-b4523be62877",
        "outputId": "f6283a5a-dfb6-4256-fab9-84816eb4686c"
      },
      "outputs": [
        {
          "data": {
            "text/plain": [
              "3"
            ]
          },
          "execution_count": 56,
          "metadata": {},
          "output_type": "execute_result"
        }
      ],
      "source": [
        "fn2()"
      ]
    },
    {
      "cell_type": "markdown",
      "id": "64c7fc78-dc54-4e90-bffe-905e28729c89",
      "metadata": {
        "id": "64c7fc78-dc54-4e90-bffe-905e28729c89"
      },
      "source": [
        "**Multiple Instances of Closures**"
      ]
    },
    {
      "cell_type": "markdown",
      "id": "4fd54f4f-24d9-4650-9420-db2f522af8eb",
      "metadata": {
        "id": "4fd54f4f-24d9-4650-9420-db2f522af8eb"
      },
      "source": [
        "Recall that every time a function is called, a new local scope is created."
      ]
    },
    {
      "cell_type": "code",
      "execution_count": null,
      "id": "c287b7d9-e62c-4333-a317-1fe50332fd14",
      "metadata": {
        "id": "c287b7d9-e62c-4333-a317-1fe50332fd14"
      },
      "outputs": [],
      "source": [
        "from time import perf_counter\n",
        "\n",
        "def func():\n",
        "    x = perf_counter()\n",
        "    print(x, id(x))"
      ]
    },
    {
      "cell_type": "code",
      "execution_count": null,
      "id": "7ad0fd8c-1e16-4b2e-80c4-8aed84e7b281",
      "metadata": {
        "id": "7ad0fd8c-1e16-4b2e-80c4-8aed84e7b281",
        "outputId": "6d673308-f538-4611-b257-012e2edac56e"
      },
      "outputs": [
        {
          "name": "stdout",
          "output_type": "stream",
          "text": [
            "21.4398551 1954650312240\n"
          ]
        }
      ],
      "source": [
        "func()"
      ]
    },
    {
      "cell_type": "code",
      "execution_count": null,
      "id": "169322a5-030f-4e66-b697-3b75f14dae9b",
      "metadata": {
        "id": "169322a5-030f-4e66-b697-3b75f14dae9b",
        "outputId": "42bd117e-9ded-4d79-a196-d3225f7dd310"
      },
      "outputs": [
        {
          "name": "stdout",
          "output_type": "stream",
          "text": [
            "21.4776457 1954650308912\n"
          ]
        }
      ],
      "source": [
        "func()"
      ]
    },
    {
      "cell_type": "markdown",
      "id": "15afa4e8-b875-4d63-a728-2f2c89b837b5",
      "metadata": {
        "id": "15afa4e8-b875-4d63-a728-2f2c89b837b5"
      },
      "source": [
        "The same thing happens with closures, they have their own extended scope every time the closure is created:"
      ]
    },
    {
      "cell_type": "code",
      "execution_count": null,
      "id": "528aba18-5913-4a48-9868-e6d8f5fa8f28",
      "metadata": {
        "id": "528aba18-5913-4a48-9868-e6d8f5fa8f28"
      },
      "outputs": [],
      "source": [
        "def pow(n):\n",
        "    # n is local to pow\n",
        "    def inner(x):\n",
        "        # x is local to inner\n",
        "        return x ** n\n",
        "    return inner"
      ]
    },
    {
      "cell_type": "markdown",
      "id": "4d0a8b10-8a8c-44f4-ba2c-f94ff5ecbf34",
      "metadata": {
        "id": "4d0a8b10-8a8c-44f4-ba2c-f94ff5ecbf34"
      },
      "source": [
        "In this example, `n`, in the function `inner` is a free variable, so we have a closure that contains `inner` and the free variable `n`"
      ]
    },
    {
      "cell_type": "code",
      "execution_count": null,
      "id": "02b99c55-50be-4140-bb83-c67b2b781dce",
      "metadata": {
        "id": "02b99c55-50be-4140-bb83-c67b2b781dce"
      },
      "outputs": [],
      "source": [
        "square = pow(2)"
      ]
    },
    {
      "cell_type": "code",
      "execution_count": null,
      "id": "69755d74-4297-49d9-8082-3e4896a02ee9",
      "metadata": {
        "id": "69755d74-4297-49d9-8082-3e4896a02ee9",
        "outputId": "f0deb239-0394-4ec5-d3d5-c7e6891b5cfb"
      },
      "outputs": [
        {
          "data": {
            "text/plain": [
              "25"
            ]
          },
          "execution_count": 62,
          "metadata": {},
          "output_type": "execute_result"
        }
      ],
      "source": [
        "square(5)"
      ]
    },
    {
      "cell_type": "code",
      "execution_count": null,
      "id": "b9da982e-83ae-4842-932c-ff70ab90e936",
      "metadata": {
        "id": "b9da982e-83ae-4842-932c-ff70ab90e936"
      },
      "outputs": [],
      "source": [
        "cube = pow(3)"
      ]
    },
    {
      "cell_type": "code",
      "execution_count": null,
      "id": "71a4c883-4f9d-440f-88ff-1d6b46368939",
      "metadata": {
        "id": "71a4c883-4f9d-440f-88ff-1d6b46368939",
        "outputId": "0087f7a1-c90f-4552-8cec-d0fbcc6ec7c1"
      },
      "outputs": [
        {
          "data": {
            "text/plain": [
              "125"
            ]
          },
          "execution_count": 64,
          "metadata": {},
          "output_type": "execute_result"
        }
      ],
      "source": [
        "cube(5)"
      ]
    },
    {
      "cell_type": "markdown",
      "id": "63f3eec3-b5b8-4b12-9b2c-d87d10c1ffc2",
      "metadata": {
        "id": "63f3eec3-b5b8-4b12-9b2c-d87d10c1ffc2"
      },
      "source": [
        "We can see that the cell used for the free variable in both cases is different:"
      ]
    },
    {
      "cell_type": "code",
      "execution_count": null,
      "id": "f75d45f6-da3f-4203-88d4-53b0b57d6201",
      "metadata": {
        "id": "f75d45f6-da3f-4203-88d4-53b0b57d6201",
        "outputId": "30452b92-27ba-4763-e109-089e04f7e46f"
      },
      "outputs": [
        {
          "data": {
            "text/plain": [
              "(<cell at 0x000001C71A422E80: int object at 0x000001C7135A6950>,)"
            ]
          },
          "execution_count": 65,
          "metadata": {},
          "output_type": "execute_result"
        }
      ],
      "source": [
        "square.__closure__"
      ]
    },
    {
      "cell_type": "code",
      "execution_count": null,
      "id": "edbcff8e-8522-49db-8fe7-26e85388195c",
      "metadata": {
        "id": "edbcff8e-8522-49db-8fe7-26e85388195c",
        "outputId": "94b71c60-c29d-4891-b2e0-76351ee3ba2b"
      },
      "outputs": [
        {
          "data": {
            "text/plain": [
              "(<cell at 0x000001C71880CC10: int object at 0x000001C7135A6970>,)"
            ]
          },
          "execution_count": 66,
          "metadata": {},
          "output_type": "execute_result"
        }
      ],
      "source": [
        "cube.__closure__"
      ]
    },
    {
      "cell_type": "markdown",
      "id": "9de066eb-b734-439c-8ca9-ff248fb1c4a5",
      "metadata": {
        "id": "9de066eb-b734-439c-8ca9-ff248fb1c4a5"
      },
      "source": [
        "In fact, these functions (`square` and `cube`) are not the same functions, even though they were \"created\" from the same `power` function:"
      ]
    },
    {
      "cell_type": "code",
      "execution_count": null,
      "id": "cbab6389-0d44-4f36-9758-a5e2a438ba65",
      "metadata": {
        "id": "cbab6389-0d44-4f36-9758-a5e2a438ba65",
        "outputId": "58be74e8-946a-4d90-d0e8-25b84c18bf85"
      },
      "outputs": [
        {
          "data": {
            "text/plain": [
              "(1954649788768, 1954649790208)"
            ]
          },
          "execution_count": 67,
          "metadata": {},
          "output_type": "execute_result"
        }
      ],
      "source": [
        "id(square), id(cube)"
      ]
    },
    {
      "cell_type": "markdown",
      "id": "dfcf9af0-669f-43c7-b3c5-e4f9e05fd4fd",
      "metadata": {
        "id": "dfcf9af0-669f-43c7-b3c5-e4f9e05fd4fd"
      },
      "source": [
        "---\n",
        "\n",
        "**BE CAREFUL**"
      ]
    },
    {
      "cell_type": "markdown",
      "id": "bbc0ee05-056f-4351-8229-0c3a59338447",
      "metadata": {
        "id": "bbc0ee05-056f-4351-8229-0c3a59338447"
      },
      "source": [
        "*Remember when I said the captured variable is a reference established when the closure is created, but the value is looked up only once the function is called?*\n",
        "\n",
        "*This can create very subtle bugs in your program.*\n",
        "\n",
        "*Consider the following example where we want to create some functions that can add 1, 2, 3, 4 and to whatever is passed to them.*\n",
        "\n",
        "*We could do the following:*"
      ]
    },
    {
      "cell_type": "code",
      "execution_count": null,
      "id": "23159e03-152b-41dc-9f7b-d6fe6b355513",
      "metadata": {
        "id": "23159e03-152b-41dc-9f7b-d6fe6b355513"
      },
      "outputs": [],
      "source": [
        "def adder(n):\n",
        "    def inner(x):\n",
        "        return x + n\n",
        "    return inner"
      ]
    },
    {
      "cell_type": "code",
      "execution_count": null,
      "id": "a75d9df5-c805-493b-86a8-95c2f12845da",
      "metadata": {
        "id": "a75d9df5-c805-493b-86a8-95c2f12845da"
      },
      "outputs": [],
      "source": [
        "add_1 = adder(1)\n",
        "add_2 = adder(2)\n",
        "add_3 = adder(3)\n",
        "add_4 = adder(4)"
      ]
    },
    {
      "cell_type": "code",
      "execution_count": null,
      "id": "72192fe9-a207-43a7-9c52-2061a508c007",
      "metadata": {
        "id": "72192fe9-a207-43a7-9c52-2061a508c007",
        "outputId": "34f16189-b403-4cbe-f486-7735dd1d1b8c"
      },
      "outputs": [
        {
          "data": {
            "text/plain": [
              "(11, 12, 13, 14)"
            ]
          },
          "execution_count": 70,
          "metadata": {},
          "output_type": "execute_result"
        }
      ],
      "source": [
        "add_1(10), add_2(10), add_3(10), add_4(10)"
      ]
    },
    {
      "cell_type": "markdown",
      "id": "71076504-20c5-4788-b5b9-6dcaabaf666f",
      "metadata": {
        "id": "71076504-20c5-4788-b5b9-6dcaabaf666f"
      },
      "source": [
        "But suppose we want to get a little fancier and do it as follows:"
      ]
    },
    {
      "cell_type": "code",
      "execution_count": null,
      "id": "9869b239-7fa2-415b-a369-da5b455da635",
      "metadata": {
        "id": "9869b239-7fa2-415b-a369-da5b455da635"
      },
      "outputs": [],
      "source": [
        "def create_adders():\n",
        "    adders = []\n",
        "    for n in range(1, 5):\n",
        "        adders.append(lambda x: x + n)\n",
        "    return adders"
      ]
    },
    {
      "cell_type": "code",
      "execution_count": null,
      "id": "c2334022-5a68-45d3-9035-79a72328fd07",
      "metadata": {
        "id": "c2334022-5a68-45d3-9035-79a72328fd07"
      },
      "outputs": [],
      "source": [
        "adders = create_adders()"
      ]
    },
    {
      "cell_type": "markdown",
      "id": "2c86001c-72be-49c1-a379-2cbc567770a7",
      "metadata": {
        "id": "2c86001c-72be-49c1-a379-2cbc567770a7"
      },
      "source": [
        "Now technically we have 4 functions in the `adders` list:"
      ]
    },
    {
      "cell_type": "code",
      "execution_count": null,
      "id": "8e4cb750-388a-46db-a4be-65f32676a940",
      "metadata": {
        "id": "8e4cb750-388a-46db-a4be-65f32676a940",
        "outputId": "ee41372b-24ef-478a-a651-d575df2316b5"
      },
      "outputs": [
        {
          "data": {
            "text/plain": [
              "[<function __main__.create_adders.<locals>.<lambda>(x)>,\n",
              " <function __main__.create_adders.<locals>.<lambda>(x)>,\n",
              " <function __main__.create_adders.<locals>.<lambda>(x)>,\n",
              " <function __main__.create_adders.<locals>.<lambda>(x)>]"
            ]
          },
          "execution_count": 73,
          "metadata": {},
          "output_type": "execute_result"
        }
      ],
      "source": [
        "adders"
      ]
    },
    {
      "cell_type": "markdown",
      "id": "8c790eee-85bc-4f59-a9c1-df569202a585",
      "metadata": {
        "id": "8c790eee-85bc-4f59-a9c1-df569202a585"
      },
      "source": [
        "The first one should add 1 to the value we pass it, the second should add 2, and so on."
      ]
    },
    {
      "cell_type": "code",
      "execution_count": null,
      "id": "d6222b29-a5a0-479e-824c-917ed013c93f",
      "metadata": {
        "id": "d6222b29-a5a0-479e-824c-917ed013c93f",
        "outputId": "c464c3ab-8cd2-4c98-9e33-17a98ce7d42c"
      },
      "outputs": [
        {
          "data": {
            "text/plain": [
              "14"
            ]
          },
          "execution_count": 74,
          "metadata": {},
          "output_type": "execute_result"
        }
      ],
      "source": [
        "adders[3](10)"
      ]
    },
    {
      "cell_type": "markdown",
      "id": "198d52ee-e16d-45ba-8d54-7c0bf0ad16be",
      "metadata": {
        "id": "198d52ee-e16d-45ba-8d54-7c0bf0ad16be"
      },
      "source": [
        "Yep! that works for the 4rh function."
      ]
    },
    {
      "cell_type": "code",
      "execution_count": null,
      "id": "3eed937a-3f59-4a6c-b156-13bd74de8442",
      "metadata": {
        "id": "3eed937a-3f59-4a6c-b156-13bd74de8442",
        "outputId": "8c85b107-d6e6-43ff-8d16-c5e7ff1c7a31"
      },
      "outputs": [
        {
          "data": {
            "text/plain": [
              "14"
            ]
          },
          "execution_count": 75,
          "metadata": {},
          "output_type": "execute_result"
        }
      ],
      "source": [
        "adders[0](10)"
      ]
    },
    {
      "cell_type": "markdown",
      "id": "a1a6e712-26db-4d5a-b2d1-07e2900172ab",
      "metadata": {
        "id": "a1a6e712-26db-4d5a-b2d1-07e2900172ab"
      },
      "source": [
        "Uh Oh - what happened? In fact we get the same behavior from every one of those functions:"
      ]
    },
    {
      "cell_type": "code",
      "execution_count": null,
      "id": "46d47c45-20ff-4a3c-bc92-975482cffc1e",
      "metadata": {
        "id": "46d47c45-20ff-4a3c-bc92-975482cffc1e",
        "outputId": "7167efc5-7919-4c26-8e9b-b61b12a2e29b"
      },
      "outputs": [
        {
          "data": {
            "text/plain": [
              "(14, 14, 14, 14)"
            ]
          },
          "execution_count": 76,
          "metadata": {},
          "output_type": "execute_result"
        }
      ],
      "source": [
        "adders[0](10), adders[1](10), adders[2](10), adders[3](10)"
      ]
    },
    {
      "cell_type": "markdown",
      "id": "b1c9aaf3-807d-406d-9ca4-1b126a1d5292",
      "metadata": {
        "id": "b1c9aaf3-807d-406d-9ca4-1b126a1d5292"
      },
      "source": [
        "Remember what I said about when the variable is captured and when the value is looked up?\n",
        "\n",
        "when the lambdas are created their `n` is the `n` used in the loop - the same `n` !!\n"
      ]
    },
    {
      "cell_type": "code",
      "execution_count": null,
      "id": "62e4f3c3-7b5d-4314-85e3-aeb748e71cfd",
      "metadata": {
        "id": "62e4f3c3-7b5d-4314-85e3-aeb748e71cfd",
        "outputId": "21bf608a-ad53-45e9-8632-44ba188dcb3a"
      },
      "outputs": [
        {
          "data": {
            "text/plain": [
              "('n',)"
            ]
          },
          "execution_count": 77,
          "metadata": {},
          "output_type": "execute_result"
        }
      ],
      "source": [
        "adders[0].__code__.co_freevars"
      ]
    },
    {
      "cell_type": "code",
      "execution_count": null,
      "id": "941300c7-cb72-4195-890c-43179b72dba2",
      "metadata": {
        "id": "941300c7-cb72-4195-890c-43179b72dba2",
        "outputId": "c1ce8947-47d4-4ede-cf51-bb655d2daaa9"
      },
      "outputs": [
        {
          "data": {
            "text/plain": [
              "(<cell at 0x000001C71A4F35B0: int object at 0x000001C7135A6990>,)"
            ]
          },
          "execution_count": 78,
          "metadata": {},
          "output_type": "execute_result"
        }
      ],
      "source": [
        "adders[0].__closure__"
      ]
    },
    {
      "cell_type": "code",
      "execution_count": null,
      "id": "091c9b19-68fe-48f3-b0c7-0c39f3d074ea",
      "metadata": {
        "id": "091c9b19-68fe-48f3-b0c7-0c39f3d074ea",
        "outputId": "ae5e8b87-2bf0-4d47-f190-d0f57950f2c6"
      },
      "outputs": [
        {
          "data": {
            "text/plain": [
              "(<cell at 0x000001C71A4F35B0: int object at 0x000001C7135A6990>,)"
            ]
          },
          "execution_count": 79,
          "metadata": {},
          "output_type": "execute_result"
        }
      ],
      "source": [
        "adders[1].__closure__"
      ]
    },
    {
      "cell_type": "code",
      "execution_count": null,
      "id": "c3c799a2-4529-4f52-b993-2b9798b75adf",
      "metadata": {
        "id": "c3c799a2-4529-4f52-b993-2b9798b75adf",
        "outputId": "2bb02335-8964-460a-ecbc-8096bc12e386"
      },
      "outputs": [
        {
          "data": {
            "text/plain": [
              "(<cell at 0x000001C71A4F35B0: int object at 0x000001C7135A6990>,)"
            ]
          },
          "execution_count": 80,
          "metadata": {},
          "output_type": "execute_result"
        }
      ],
      "source": [
        "adders[2].__closure__"
      ]
    },
    {
      "cell_type": "code",
      "execution_count": null,
      "id": "19956cf3-4a36-4790-8645-d6400a94fbf5",
      "metadata": {
        "id": "19956cf3-4a36-4790-8645-d6400a94fbf5",
        "outputId": "30654c13-2d63-472a-b978-50c07a4980e0"
      },
      "outputs": [
        {
          "data": {
            "text/plain": [
              "(<cell at 0x000001C71A4F35B0: int object at 0x000001C7135A6990>,)"
            ]
          },
          "execution_count": 81,
          "metadata": {},
          "output_type": "execute_result"
        }
      ],
      "source": [
        "adders[3].__closure__"
      ]
    },
    {
      "cell_type": "markdown",
      "id": "d3a14a70-9cae-4e98-b2fc-35ad16b89b43",
      "metadata": {
        "id": "d3a14a70-9cae-4e98-b2fc-35ad16b89b43"
      },
      "source": [
        "So, by the time we call `adder[i]`, the free variable `n` (shared between all adders) is set to 4."
      ]
    },
    {
      "cell_type": "code",
      "execution_count": null,
      "id": "e9fbca98-5e69-408d-9c88-ce115ef9dd59",
      "metadata": {
        "id": "e9fbca98-5e69-408d-9c88-ce115ef9dd59",
        "outputId": "98db5796-1838-471e-bc5f-e12ebf7abed5"
      },
      "outputs": [
        {
          "data": {
            "text/plain": [
              "'0x1c7135a6990'"
            ]
          },
          "execution_count": 82,
          "metadata": {},
          "output_type": "execute_result"
        }
      ],
      "source": [
        "hex(id(4))"
      ]
    },
    {
      "cell_type": "markdown",
      "id": "4db68876-4b38-4c72-9d8f-da5598ec924e",
      "metadata": {
        "id": "4db68876-4b38-4c72-9d8f-da5598ec924e"
      },
      "source": [
        "As we can see the memory address of the singleton integer 4, is what that cell is point to.\n",
        "\n",
        "If you want to use a loop to do this and not end up using the same cell for each of the free variables, we can use a simple trick that forces the evaluation of `n` at the time the closure is created, instead of when the closure function is evaluated.\n",
        "\n",
        "We can do this by creating a parameter for `n` in our lambda whose default value is the current value of `n` - remember from an earlier video that parameter defaults are evaluated when the function is created, not called."
      ]
    },
    {
      "cell_type": "code",
      "execution_count": null,
      "id": "bf43fcd9-ba3d-4b08-81ba-27fbb301cbff",
      "metadata": {
        "id": "bf43fcd9-ba3d-4b08-81ba-27fbb301cbff"
      },
      "outputs": [],
      "source": [
        "def create_adders():\n",
        "    adders = []\n",
        "    for n in range(1, 5):\n",
        "        adders.append(lambda x, step=n: x + step)\n",
        "    return adders"
      ]
    },
    {
      "cell_type": "code",
      "execution_count": null,
      "id": "61158519-54ef-4891-9dda-68b0ccf4deb0",
      "metadata": {
        "id": "61158519-54ef-4891-9dda-68b0ccf4deb0"
      },
      "outputs": [],
      "source": [
        "adders = create_adders()"
      ]
    },
    {
      "cell_type": "code",
      "execution_count": null,
      "id": "e7f3cc3f-4cb6-4495-96b1-0f4d8fa1c937",
      "metadata": {
        "id": "e7f3cc3f-4cb6-4495-96b1-0f4d8fa1c937"
      },
      "outputs": [],
      "source": [
        "adders[0].__closure__"
      ]
    },
    {
      "cell_type": "markdown",
      "id": "8fe4402f-997b-428e-ad60-dd2442ebc326",
      "metadata": {
        "id": "8fe4402f-997b-428e-ad60-dd2442ebc326"
      },
      "source": [
        "Why aren't we getting anything in the closure? What about free variables?"
      ]
    },
    {
      "cell_type": "code",
      "execution_count": null,
      "id": "83503dbe-edde-4660-a8e6-525835c48aa9",
      "metadata": {
        "id": "83503dbe-edde-4660-a8e6-525835c48aa9",
        "outputId": "10b9b53a-fd5e-4f4f-baf1-7132dc1b70e1"
      },
      "outputs": [
        {
          "data": {
            "text/plain": [
              "()"
            ]
          },
          "execution_count": 86,
          "metadata": {},
          "output_type": "execute_result"
        }
      ],
      "source": [
        "adders[0].__code__.co_freevars"
      ]
    },
    {
      "cell_type": "markdown",
      "id": "c1a0da92-b5f7-4c8b-89e9-f27dd7c0b089",
      "metadata": {
        "id": "c1a0da92-b5f7-4c8b-89e9-f27dd7c0b089"
      },
      "source": [
        "Hmm, nothing either... Why?\n",
        "\n",
        "Well, look at the lambda in that loop. Does it reference the variable `n` (other than in the default value)?\n",
        "\n",
        "No. Hence, `n` is not a free variable in this case, and our lambda is just a plain lambda, not a closure.\n",
        "\n",
        "And this code will now work as expected:"
      ]
    },
    {
      "cell_type": "code",
      "execution_count": null,
      "id": "f174f333-9717-4cd2-8789-0f77ba60ec01",
      "metadata": {
        "id": "f174f333-9717-4cd2-8789-0f77ba60ec01",
        "outputId": "be47810d-1380-4424-9a2e-1d4ad85cb8f0"
      },
      "outputs": [
        {
          "data": {
            "text/plain": [
              "11"
            ]
          },
          "execution_count": 87,
          "metadata": {},
          "output_type": "execute_result"
        }
      ],
      "source": [
        "adders[0](10)"
      ]
    },
    {
      "cell_type": "code",
      "execution_count": null,
      "id": "527c591d-ca79-4dc7-92e9-839668cdb7fe",
      "metadata": {
        "id": "527c591d-ca79-4dc7-92e9-839668cdb7fe",
        "outputId": "7d80493e-6fa3-4072-b84b-82acf96c0467"
      },
      "outputs": [
        {
          "data": {
            "text/plain": [
              "12"
            ]
          },
          "execution_count": 88,
          "metadata": {},
          "output_type": "execute_result"
        }
      ],
      "source": [
        "adders[1](10)"
      ]
    },
    {
      "cell_type": "code",
      "execution_count": null,
      "id": "a1f7a09c-0e4f-4bbc-b415-c8b644226b57",
      "metadata": {
        "id": "a1f7a09c-0e4f-4bbc-b415-c8b644226b57",
        "outputId": "210cd52e-145e-40dd-d015-c5cfd7b31750"
      },
      "outputs": [
        {
          "data": {
            "text/plain": [
              "13"
            ]
          },
          "execution_count": 89,
          "metadata": {},
          "output_type": "execute_result"
        }
      ],
      "source": [
        "adders[2](10)"
      ]
    },
    {
      "cell_type": "code",
      "execution_count": null,
      "id": "9360e70c-441f-482b-9f73-ab1c8fb7f4b2",
      "metadata": {
        "id": "9360e70c-441f-482b-9f73-ab1c8fb7f4b2",
        "outputId": "3fba6362-05a2-4431-a9d4-99e459cd2419"
      },
      "outputs": [
        {
          "data": {
            "text/plain": [
              "14"
            ]
          },
          "execution_count": 90,
          "metadata": {},
          "output_type": "execute_result"
        }
      ],
      "source": [
        "adders[3](10)"
      ]
    },
    {
      "cell_type": "markdown",
      "id": "c93064d7-f87e-4f97-856a-c72a3681ba55",
      "metadata": {
        "id": "c93064d7-f87e-4f97-856a-c72a3681ba55"
      },
      "source": [
        "You just understand that since the default values are evaluated when the function (lambda in this case) is created, the then-current `n` value is assigned to the local variable `step`. So `step` will not change every time the lambda is called, and since `n` is not referenced inside the function (and therefore evaluated when the lambda is called), `n` is not a free variable."
      ]
    },
    {
      "cell_type": "markdown",
      "id": "f096ca25-c88b-4185-a352-e372c911040b",
      "metadata": {
        "id": "f096ca25-c88b-4185-a352-e372c911040b"
      },
      "source": [
        "**Nested Closures**"
      ]
    },
    {
      "cell_type": "markdown",
      "id": "3df8f5b2-9874-4797-b2ca-35b6f48a56bf",
      "metadata": {
        "id": "3df8f5b2-9874-4797-b2ca-35b6f48a56bf"
      },
      "source": [
        "We can also nest closures, as can be seen in this example:"
      ]
    },
    {
      "cell_type": "code",
      "execution_count": null,
      "id": "06d4d864-cb98-434b-927e-04242190ff1e",
      "metadata": {
        "id": "06d4d864-cb98-434b-927e-04242190ff1e"
      },
      "outputs": [],
      "source": [
        "def incrementer(n):\n",
        "    def inner(start):\n",
        "        current = start\n",
        "        def inc():\n",
        "            a = 10 # local var\n",
        "            nonlocal current\n",
        "            current += n\n",
        "            return current\n",
        "        return inc\n",
        "    return inner"
      ]
    },
    {
      "cell_type": "code",
      "execution_count": null,
      "id": "de90d128-395f-4f53-9d6c-06c5645e106b",
      "metadata": {
        "id": "de90d128-395f-4f53-9d6c-06c5645e106b"
      },
      "outputs": [],
      "source": [
        "fn = incrementer(2)"
      ]
    },
    {
      "cell_type": "code",
      "execution_count": null,
      "id": "f45ec5b2-c8a9-42b6-aa85-83904fef2f7a",
      "metadata": {
        "id": "f45ec5b2-c8a9-42b6-aa85-83904fef2f7a",
        "outputId": "deee06f5-da36-496f-f25f-2cf6fb6499f0"
      },
      "outputs": [
        {
          "data": {
            "text/plain": [
              "<function __main__.incrementer.<locals>.inner(start)>"
            ]
          },
          "execution_count": 93,
          "metadata": {},
          "output_type": "execute_result"
        }
      ],
      "source": [
        "fn"
      ]
    },
    {
      "cell_type": "code",
      "execution_count": null,
      "id": "e408823c-3530-477a-ac4f-2433653fb2d0",
      "metadata": {
        "id": "e408823c-3530-477a-ac4f-2433653fb2d0",
        "outputId": "76c06cb9-be76-4e19-b99b-8c28f7bea6e4"
      },
      "outputs": [
        {
          "data": {
            "text/plain": [
              "('n',)"
            ]
          },
          "execution_count": 94,
          "metadata": {},
          "output_type": "execute_result"
        }
      ],
      "source": [
        "fn.__code__.co_freevars"
      ]
    },
    {
      "cell_type": "code",
      "execution_count": null,
      "id": "b1db11b5-9bac-424e-83f5-1ff9368f9bdc",
      "metadata": {
        "id": "b1db11b5-9bac-424e-83f5-1ff9368f9bdc",
        "outputId": "21701b11-24c1-44b3-ed07-9f72d7e1058c"
      },
      "outputs": [
        {
          "data": {
            "text/plain": [
              "(<cell at 0x000001C71A422BE0: int object at 0x000001C7135A6950>,)"
            ]
          },
          "execution_count": 95,
          "metadata": {},
          "output_type": "execute_result"
        }
      ],
      "source": [
        "fn.__closure__"
      ]
    },
    {
      "cell_type": "code",
      "execution_count": null,
      "id": "c05893e7-9a24-4b24-a38d-11473a6627c4",
      "metadata": {
        "id": "c05893e7-9a24-4b24-a38d-11473a6627c4"
      },
      "outputs": [],
      "source": [
        "inc_2 = fn(100)"
      ]
    },
    {
      "cell_type": "code",
      "execution_count": null,
      "id": "2beaf082-d97f-4dca-8589-8e9cef81753e",
      "metadata": {
        "id": "2beaf082-d97f-4dca-8589-8e9cef81753e",
        "outputId": "9d2ed836-e3ae-43f9-ff28-6a16e596297c"
      },
      "outputs": [
        {
          "data": {
            "text/plain": [
              "<function __main__.incrementer.<locals>.inner.<locals>.inc()>"
            ]
          },
          "execution_count": 97,
          "metadata": {},
          "output_type": "execute_result"
        }
      ],
      "source": [
        "inc_2"
      ]
    },
    {
      "cell_type": "code",
      "execution_count": null,
      "id": "49883ff8-8c12-4cb0-b41d-fa42793bf591",
      "metadata": {
        "id": "49883ff8-8c12-4cb0-b41d-fa42793bf591",
        "outputId": "1778ebd7-add9-4ae0-9979-0639fd398c6e"
      },
      "outputs": [
        {
          "data": {
            "text/plain": [
              "(<cell at 0x000001C71A4F3850: int object at 0x000001C7135D55D0>,\n",
              " <cell at 0x000001C71A422BE0: int object at 0x000001C7135A6950>)"
            ]
          },
          "execution_count": 98,
          "metadata": {},
          "output_type": "execute_result"
        }
      ],
      "source": [
        "inc_2.__closure__"
      ]
    },
    {
      "cell_type": "markdown",
      "id": "9785b972-da86-4543-921a-93a53299c56c",
      "metadata": {
        "id": "9785b972-da86-4543-921a-93a53299c56c"
      },
      "source": [
        "Here you can see that the second free variable `n`, is pointing to the same cell as the free variable in `fn`.\n",
        "\n",
        "Note that `a` is a local variable, and is not considered a free variable.\n",
        "\n",
        "And we can call the closures as follows:"
      ]
    },
    {
      "cell_type": "code",
      "execution_count": null,
      "id": "75cc5f21-bbaa-4e7e-8510-5e4f087053ed",
      "metadata": {
        "id": "75cc5f21-bbaa-4e7e-8510-5e4f087053ed",
        "outputId": "9465305f-3391-4753-be50-d0b9f4ace9e0"
      },
      "outputs": [
        {
          "data": {
            "text/plain": [
              "102"
            ]
          },
          "execution_count": 99,
          "metadata": {},
          "output_type": "execute_result"
        }
      ],
      "source": [
        "inc_2()"
      ]
    },
    {
      "cell_type": "code",
      "execution_count": null,
      "id": "0ce69044-a9cb-4480-ac91-c7ef91f3b301",
      "metadata": {
        "id": "0ce69044-a9cb-4480-ac91-c7ef91f3b301",
        "outputId": "421d3ed3-0403-43f7-f114-aadd6fed802e"
      },
      "outputs": [
        {
          "data": {
            "text/plain": [
              "104"
            ]
          },
          "execution_count": 100,
          "metadata": {},
          "output_type": "execute_result"
        }
      ],
      "source": [
        "inc_2()"
      ]
    },
    {
      "cell_type": "code",
      "execution_count": null,
      "id": "1fa9dca5-6169-4b0d-9007-2b503c68b442",
      "metadata": {
        "id": "1fa9dca5-6169-4b0d-9007-2b503c68b442"
      },
      "outputs": [],
      "source": [
        "inc_3 = incrementer(3)(200)"
      ]
    },
    {
      "cell_type": "code",
      "execution_count": null,
      "id": "bd490c9c-7f67-4f5c-907f-a986b126b68c",
      "metadata": {
        "id": "bd490c9c-7f67-4f5c-907f-a986b126b68c",
        "outputId": "a6d16c30-fcde-4f16-bb23-7a1be0e4e4ad"
      },
      "outputs": [
        {
          "data": {
            "text/plain": [
              "203"
            ]
          },
          "execution_count": 102,
          "metadata": {},
          "output_type": "execute_result"
        }
      ],
      "source": [
        "inc_3()"
      ]
    },
    {
      "cell_type": "code",
      "execution_count": null,
      "id": "ba299fe9-a8d9-49f2-ad46-ebd7335fab68",
      "metadata": {
        "id": "ba299fe9-a8d9-49f2-ad46-ebd7335fab68",
        "outputId": "29b070fa-8aed-4467-cfb1-af666079a9f1"
      },
      "outputs": [
        {
          "data": {
            "text/plain": [
              "206"
            ]
          },
          "execution_count": 103,
          "metadata": {},
          "output_type": "execute_result"
        }
      ],
      "source": [
        "inc_3()"
      ]
    },
    {
      "cell_type": "markdown",
      "id": "01650a95-c086-4932-8c31-3597e562b0df",
      "metadata": {
        "id": "01650a95-c086-4932-8c31-3597e562b0df"
      },
      "source": [
        "### 04 - Closure Applications - Part 1"
      ]
    },
    {
      "cell_type": "markdown",
      "id": "f2cfabbc-1912-4506-9016-bce8e76de22e",
      "metadata": {
        "id": "f2cfabbc-1912-4506-9016-bce8e76de22e"
      },
      "source": [
        "In this example we are going to build an averager function that can average multiple values.\n",
        "\n",
        "The twist is that we want to simply be able to feed numbers to that function and get a running average over time, not average a list which requires performing the same calculations (sum and count) over and over again."
      ]
    },
    {
      "cell_type": "code",
      "execution_count": null,
      "id": "d48b2e85-67b9-4e65-9baf-6f25ba386ee1",
      "metadata": {
        "id": "d48b2e85-67b9-4e65-9baf-6f25ba386ee1"
      },
      "outputs": [],
      "source": [
        "class Averager:\n",
        "    def __init__(self):\n",
        "        self.numbers = []\n",
        "\n",
        "    def add(self, number):\n",
        "        self.numbers.append(number)\n",
        "        total = sum(self.numbers)\n",
        "        count = len(self.numbers)\n",
        "        return total / count"
      ]
    },
    {
      "cell_type": "code",
      "execution_count": null,
      "id": "ec218372-4674-4e5d-8f72-c0401c77f5a7",
      "metadata": {
        "id": "ec218372-4674-4e5d-8f72-c0401c77f5a7"
      },
      "outputs": [],
      "source": [
        "a = Averager()"
      ]
    },
    {
      "cell_type": "code",
      "execution_count": null,
      "id": "b5e38a12-b9a6-4d7d-baad-7bf0303ea04f",
      "metadata": {
        "id": "b5e38a12-b9a6-4d7d-baad-7bf0303ea04f",
        "outputId": "93ca4b2e-0d87-42f1-a81a-b933c3fb4265"
      },
      "outputs": [
        {
          "data": {
            "text/plain": [
              "10.0"
            ]
          },
          "execution_count": 106,
          "metadata": {},
          "output_type": "execute_result"
        }
      ],
      "source": [
        "a.add(10)"
      ]
    },
    {
      "cell_type": "code",
      "execution_count": null,
      "id": "91ad44d0-c2a4-4174-9902-1ceb148c41e4",
      "metadata": {
        "id": "91ad44d0-c2a4-4174-9902-1ceb148c41e4",
        "outputId": "6495909a-8ea8-4b04-f1a5-07a84048f05f"
      },
      "outputs": [
        {
          "data": {
            "text/plain": [
              "15.0"
            ]
          },
          "execution_count": 107,
          "metadata": {},
          "output_type": "execute_result"
        }
      ],
      "source": [
        "a.add(20)"
      ]
    },
    {
      "cell_type": "code",
      "execution_count": null,
      "id": "a592251c-4b48-4f67-8adf-7b578d3eac45",
      "metadata": {
        "id": "a592251c-4b48-4f67-8adf-7b578d3eac45",
        "outputId": "cb44bdd4-d72a-4208-a845-2a97237c8eef"
      },
      "outputs": [
        {
          "data": {
            "text/plain": [
              "20.0"
            ]
          },
          "execution_count": 108,
          "metadata": {},
          "output_type": "execute_result"
        }
      ],
      "source": [
        "a.add(30)"
      ]
    },
    {
      "cell_type": "markdown",
      "id": "8f410cb0-cf32-4241-98ff-7949d447851f",
      "metadata": {
        "id": "8f410cb0-cf32-4241-98ff-7949d447851f"
      },
      "source": [
        "We can do this using a closure as follows:"
      ]
    },
    {
      "cell_type": "code",
      "execution_count": null,
      "id": "db545f3d-14d0-431b-8b71-c87ee030c694",
      "metadata": {
        "id": "db545f3d-14d0-431b-8b71-c87ee030c694"
      },
      "outputs": [],
      "source": [
        "def averager():\n",
        "    numbers = []\n",
        "    def add(number):\n",
        "        numbers.append(number)\n",
        "        total = sum(numbers)\n",
        "        count = len(numbers)\n",
        "        return total / count\n",
        "    return add"
      ]
    },
    {
      "cell_type": "code",
      "execution_count": null,
      "id": "a8364f14-0f04-45b0-a01d-dc5b5c62945e",
      "metadata": {
        "id": "a8364f14-0f04-45b0-a01d-dc5b5c62945e"
      },
      "outputs": [],
      "source": [
        "a = averager()"
      ]
    },
    {
      "cell_type": "code",
      "execution_count": null,
      "id": "d6ad3e4a-a867-4fc4-a513-a7f118fbb1cc",
      "metadata": {
        "id": "d6ad3e4a-a867-4fc4-a513-a7f118fbb1cc",
        "outputId": "e1c88fd7-3cda-4ad5-9e1b-ef975b3a5bd3"
      },
      "outputs": [
        {
          "data": {
            "text/plain": [
              "10.0"
            ]
          },
          "execution_count": 111,
          "metadata": {},
          "output_type": "execute_result"
        }
      ],
      "source": [
        "a(10)"
      ]
    },
    {
      "cell_type": "code",
      "execution_count": null,
      "id": "c9afb9e2-22b7-4281-a9ab-f740c13d1d1f",
      "metadata": {
        "id": "c9afb9e2-22b7-4281-a9ab-f740c13d1d1f",
        "outputId": "e6797d54-a25c-43d7-9d07-b8e3d8a80272"
      },
      "outputs": [
        {
          "data": {
            "text/plain": [
              "15.0"
            ]
          },
          "execution_count": 112,
          "metadata": {},
          "output_type": "execute_result"
        }
      ],
      "source": [
        "a(20)"
      ]
    },
    {
      "cell_type": "code",
      "execution_count": null,
      "id": "46a54230-0ad4-4ac8-bea5-e282e36fb7e8",
      "metadata": {
        "id": "46a54230-0ad4-4ac8-bea5-e282e36fb7e8",
        "outputId": "dddcf331-9e7a-44ef-9bb3-bb8c49180f5d"
      },
      "outputs": [
        {
          "data": {
            "text/plain": [
              "20.0"
            ]
          },
          "execution_count": 113,
          "metadata": {},
          "output_type": "execute_result"
        }
      ],
      "source": [
        "a(30)"
      ]
    },
    {
      "cell_type": "markdown",
      "id": "f6f3948a-1826-4ee0-a12d-5b5dc64afb3c",
      "metadata": {
        "id": "f6f3948a-1826-4ee0-a12d-5b5dc64afb3c"
      },
      "source": [
        "Now, instead of storing a list and recalculating `total` and `count` every yime we need the new average, we are going to store running total and count and update each value each time a new value is added to the running average, and then return `total / count`.\n",
        "\n",
        "Let's start with a class approach first, where we will use instance variables to store the running total and count and provide an instance method to add a new number and return the current average."
      ]
    },
    {
      "cell_type": "code",
      "execution_count": null,
      "id": "a28e050e-5b8d-4659-afd9-a97652b11480",
      "metadata": {
        "id": "a28e050e-5b8d-4659-afd9-a97652b11480"
      },
      "outputs": [],
      "source": [
        "class Averager:\n",
        "    def __init__(self):\n",
        "        self._count = 0\n",
        "        self._total = 0\n",
        "\n",
        "    def add(self, value):\n",
        "        self._total += value\n",
        "        self._count += 1\n",
        "        return self._total / self._count"
      ]
    },
    {
      "cell_type": "code",
      "execution_count": null,
      "id": "1f5f657b-72e0-464c-9fa9-18ee9f486fad",
      "metadata": {
        "id": "1f5f657b-72e0-464c-9fa9-18ee9f486fad"
      },
      "outputs": [],
      "source": [
        "a = Averager()"
      ]
    },
    {
      "cell_type": "code",
      "execution_count": null,
      "id": "bfb92485-6e56-4acb-bf37-df906d5644ef",
      "metadata": {
        "id": "bfb92485-6e56-4acb-bf37-df906d5644ef",
        "outputId": "22e73f97-0a64-4499-efc4-81ac990124a0"
      },
      "outputs": [
        {
          "data": {
            "text/plain": [
              "10.0"
            ]
          },
          "execution_count": 116,
          "metadata": {},
          "output_type": "execute_result"
        }
      ],
      "source": [
        "a.add(10)"
      ]
    },
    {
      "cell_type": "code",
      "execution_count": null,
      "id": "e5152334-455e-4f8f-b7b3-de8b87b67a30",
      "metadata": {
        "id": "e5152334-455e-4f8f-b7b3-de8b87b67a30",
        "outputId": "d26e2534-1e34-42f9-d534-8f2159a8214e"
      },
      "outputs": [
        {
          "data": {
            "text/plain": [
              "15.0"
            ]
          },
          "execution_count": 117,
          "metadata": {},
          "output_type": "execute_result"
        }
      ],
      "source": [
        "a.add(20)"
      ]
    },
    {
      "cell_type": "code",
      "execution_count": null,
      "id": "f9438672-7945-4d4b-80aa-8ede4541c20b",
      "metadata": {
        "id": "f9438672-7945-4d4b-80aa-8ede4541c20b",
        "outputId": "f2cf412d-c7c8-48c0-de58-b73307cfea12"
      },
      "outputs": [
        {
          "data": {
            "text/plain": [
              "20.0"
            ]
          },
          "execution_count": 118,
          "metadata": {},
          "output_type": "execute_result"
        }
      ],
      "source": [
        "a.add(30)"
      ]
    },
    {
      "cell_type": "markdown",
      "id": "1dd45dac-4dac-4fff-8f90-e52c6f331f9f",
      "metadata": {
        "id": "1dd45dac-4dac-4fff-8f90-e52c6f331f9f"
      },
      "source": [
        "Now, let's see how we might use a closure to achieve the same thing."
      ]
    },
    {
      "cell_type": "code",
      "execution_count": null,
      "id": "a709ad21-9ee8-49a5-ab95-384848c8c2fa",
      "metadata": {
        "id": "a709ad21-9ee8-49a5-ab95-384848c8c2fa"
      },
      "outputs": [],
      "source": [
        "def averager():\n",
        "    total = 0\n",
        "    count = 0\n",
        "\n",
        "    def add(value):\n",
        "        nonlocal total, count\n",
        "        total +=  value\n",
        "        count += 1\n",
        "        return 0 if count == 0 else total / count\n",
        "        \n",
        "    return add"
      ]
    },
    {
      "cell_type": "code",
      "execution_count": null,
      "id": "e7666a07-e4af-44de-bfaa-6c502c9e53f3",
      "metadata": {
        "id": "e7666a07-e4af-44de-bfaa-6c502c9e53f3"
      },
      "outputs": [],
      "source": [
        "a = averager()"
      ]
    },
    {
      "cell_type": "code",
      "execution_count": null,
      "id": "3740048a-08a0-44da-a1ed-8448f281590b",
      "metadata": {
        "id": "3740048a-08a0-44da-a1ed-8448f281590b",
        "outputId": "7fd18054-6fc3-4683-de6d-f7f9ee6aedc5"
      },
      "outputs": [
        {
          "data": {
            "text/plain": [
              "10.0"
            ]
          },
          "execution_count": 121,
          "metadata": {},
          "output_type": "execute_result"
        }
      ],
      "source": [
        "a(10)"
      ]
    },
    {
      "cell_type": "code",
      "execution_count": null,
      "id": "30b0a1ee-f1f3-4a3f-9a2d-c3de18d3bcd4",
      "metadata": {
        "id": "30b0a1ee-f1f3-4a3f-9a2d-c3de18d3bcd4",
        "outputId": "11976535-41ba-4c04-9829-e9ab20832e79"
      },
      "outputs": [
        {
          "data": {
            "text/plain": [
              "15.0"
            ]
          },
          "execution_count": 122,
          "metadata": {},
          "output_type": "execute_result"
        }
      ],
      "source": [
        "a(20)"
      ]
    },
    {
      "cell_type": "code",
      "execution_count": null,
      "id": "c5a3f1e7-a46c-43c3-b807-8db7858b7ff8",
      "metadata": {
        "id": "c5a3f1e7-a46c-43c3-b807-8db7858b7ff8",
        "outputId": "5d900a9e-4e52-4743-d30e-16240a4bad03"
      },
      "outputs": [
        {
          "data": {
            "text/plain": [
              "20.0"
            ]
          },
          "execution_count": 123,
          "metadata": {},
          "output_type": "execute_result"
        }
      ],
      "source": [
        "a(30)"
      ]
    },
    {
      "cell_type": "markdown",
      "id": "b36a7bf2-6df9-4c6a-ad26-a9f4b3901b34",
      "metadata": {
        "id": "b36a7bf2-6df9-4c6a-ad26-a9f4b3901b34"
      },
      "source": [
        "**Generalizing this example**"
      ]
    },
    {
      "cell_type": "markdown",
      "id": "15132c32-d881-437f-a8b1-61efb9715562",
      "metadata": {
        "id": "15132c32-d881-437f-a8b1-61efb9715562"
      },
      "source": [
        "We saw that we were essentially able t o convert a class to an equivalent functionality using closures. This is actually true in a much more general sense - very often, classes that  define a single method (other than initializers) can be implemented using a closure instead.\n",
        "\n",
        "Let's look at another example of this.\n",
        "\n",
        "Suppose we want something that keep track of the running elapsed time in seconds."
      ]
    },
    {
      "cell_type": "code",
      "execution_count": null,
      "id": "0fac65d8-f690-4957-9e2c-e1761365a99d",
      "metadata": {
        "id": "0fac65d8-f690-4957-9e2c-e1761365a99d"
      },
      "outputs": [],
      "source": [
        "from time import perf_counter"
      ]
    },
    {
      "cell_type": "code",
      "execution_count": null,
      "id": "d72139df-1d6c-4918-9c45-0eb1b3f083ba",
      "metadata": {
        "id": "d72139df-1d6c-4918-9c45-0eb1b3f083ba"
      },
      "outputs": [],
      "source": [
        "class Timer:\n",
        "    def __init__(self):\n",
        "        self._start = perf_counter()\n",
        "\n",
        "    def __call__(self):\n",
        "        return (perf_counter() - self._start)"
      ]
    },
    {
      "cell_type": "code",
      "execution_count": null,
      "id": "bc7e3af0-bc66-4e45-98de-9f01dc805c8a",
      "metadata": {
        "id": "bc7e3af0-bc66-4e45-98de-9f01dc805c8a"
      },
      "outputs": [],
      "source": [
        "a = Timer()"
      ]
    },
    {
      "cell_type": "markdown",
      "id": "16f4440c-c2c9-415f-b02f-726cdf175754",
      "metadata": {
        "id": "16f4440c-c2c9-415f-b02f-726cdf175754"
      },
      "source": [
        "Now wait a bit before running the next line of code:"
      ]
    },
    {
      "cell_type": "code",
      "execution_count": null,
      "id": "5799437a-03c4-4173-9cb5-bad2b02e2bf6",
      "metadata": {
        "id": "5799437a-03c4-4173-9cb5-bad2b02e2bf6",
        "outputId": "842043aa-17bc-4bc1-d0e0-a5a29381ee3a"
      },
      "outputs": [
        {
          "data": {
            "text/plain": [
              "0.08975990000000067"
            ]
          },
          "execution_count": 127,
          "metadata": {},
          "output_type": "execute_result"
        }
      ],
      "source": [
        "a()"
      ]
    },
    {
      "cell_type": "markdown",
      "id": "59f52a63-118f-4839-9744-9de31f65f915",
      "metadata": {
        "id": "59f52a63-118f-4839-9744-9de31f65f915"
      },
      "source": [
        "Let's start another \"timer\":"
      ]
    },
    {
      "cell_type": "code",
      "execution_count": null,
      "id": "1f111ed7-5e36-4ff4-b3af-15c1e0317c41",
      "metadata": {
        "id": "1f111ed7-5e36-4ff4-b3af-15c1e0317c41"
      },
      "outputs": [],
      "source": [
        "b = Timer()"
      ]
    },
    {
      "cell_type": "code",
      "execution_count": null,
      "id": "0f84aacc-feb0-4309-a6ea-aa57c08afeba",
      "metadata": {
        "id": "0f84aacc-feb0-4309-a6ea-aa57c08afeba",
        "outputId": "0e6e91fd-4201-43b2-f07a-59b940bd61e9"
      },
      "outputs": [
        {
          "name": "stdout",
          "output_type": "stream",
          "text": [
            "0.23507190000000122\n",
            "0.04213780000000256\n"
          ]
        }
      ],
      "source": [
        "print(a())\n",
        "print(b())"
      ]
    },
    {
      "cell_type": "markdown",
      "id": "faa4acd8-429a-4d5b-891d-b12a480f2536",
      "metadata": {
        "id": "faa4acd8-429a-4d5b-891d-b12a480f2536"
      },
      "source": [
        "Now let's rewrite this using a closure instead:"
      ]
    },
    {
      "cell_type": "code",
      "execution_count": null,
      "id": "0486130b-9ad6-4c0c-9516-ccc9b184d6f0",
      "metadata": {
        "id": "0486130b-9ad6-4c0c-9516-ccc9b184d6f0"
      },
      "outputs": [],
      "source": [
        "def timer():\n",
        "    start = perf_counter()\n",
        "\n",
        "    def elapsed():\n",
        "        # we don't even need to makee start nonlocal\n",
        "        # since we are only reading it\n",
        "        return perf_counter() - start\n",
        "    \n",
        "    return elapsed"
      ]
    },
    {
      "cell_type": "code",
      "execution_count": null,
      "id": "665540bc-c766-49d7-bbf0-21d1b29b258c",
      "metadata": {
        "id": "665540bc-c766-49d7-bbf0-21d1b29b258c"
      },
      "outputs": [],
      "source": [
        "x = timer()"
      ]
    },
    {
      "cell_type": "code",
      "execution_count": null,
      "id": "bf0bc727-d598-4933-b36c-82f8211ccdf3",
      "metadata": {
        "id": "bf0bc727-d598-4933-b36c-82f8211ccdf3",
        "outputId": "9b168635-66a5-487b-c6cd-4d4e43f02f58"
      },
      "outputs": [
        {
          "data": {
            "text/plain": [
              "0.03932700000000011"
            ]
          },
          "execution_count": 132,
          "metadata": {},
          "output_type": "execute_result"
        }
      ],
      "source": [
        "x()"
      ]
    },
    {
      "cell_type": "code",
      "execution_count": null,
      "id": "38a3fdfc-f5d7-4cee-8558-d3d2a9299e2f",
      "metadata": {
        "id": "38a3fdfc-f5d7-4cee-8558-d3d2a9299e2f"
      },
      "outputs": [],
      "source": [
        "y = timer()"
      ]
    },
    {
      "cell_type": "code",
      "execution_count": null,
      "id": "277ae83b-e59a-4c4b-8bd8-5060e7c1526e",
      "metadata": {
        "id": "277ae83b-e59a-4c4b-8bd8-5060e7c1526e",
        "outputId": "e2b967ae-ffdb-4853-fe89-4f9083ee9ae9"
      },
      "outputs": [
        {
          "name": "stdout",
          "output_type": "stream",
          "text": [
            "0.1200429000000014\n",
            "0.04027549999999991\n"
          ]
        }
      ],
      "source": [
        "print(x())\n",
        "print(y())"
      ]
    },
    {
      "cell_type": "code",
      "execution_count": null,
      "id": "9d9b2574-bb3d-4dce-965c-e3a4b3f63408",
      "metadata": {
        "id": "9d9b2574-bb3d-4dce-965c-e3a4b3f63408",
        "outputId": "a647bfcc-05da-4bd6-8521-8a8343392d11"
      },
      "outputs": [
        {
          "name": "stdout",
          "output_type": "stream",
          "text": [
            "0.5292507999999998\n",
            "0.33632040000000174\n",
            "0.15672759999999997\n",
            "0.07672919999999905\n"
          ]
        }
      ],
      "source": [
        "print(a())\n",
        "print(b())\n",
        "print(x())\n",
        "print(y())"
      ]
    },
    {
      "cell_type": "markdown",
      "id": "8ff3c7e4-52ce-4f62-9882-0e4416b1fc8d",
      "metadata": {
        "tags": [],
        "id": "8ff3c7e4-52ce-4f62-9882-0e4416b1fc8d"
      },
      "source": [
        "### 05 - Closure Applications - Part 2"
      ]
    },
    {
      "cell_type": "markdown",
      "id": "1083bd4a-c8dc-42d4-8a92-ce2f0fb03a9a",
      "metadata": {
        "id": "1083bd4a-c8dc-42d4-8a92-ce2f0fb03a9a"
      },
      "source": [
        "**Example 1**"
      ]
    },
    {
      "cell_type": "markdown",
      "id": "e9c556bf-7e84-4dd4-bd58-1614f3214863",
      "metadata": {
        "id": "e9c556bf-7e84-4dd4-bd58-1614f3214863"
      },
      "source": [
        "Let's write a small function that can increment a counter for us - we don't have an incrementor in Python (the ++ operator in Java or C++ for example):"
      ]
    },
    {
      "cell_type": "code",
      "execution_count": null,
      "id": "f537ead2-8392-49fd-8621-2de712f0d17a",
      "metadata": {
        "id": "f537ead2-8392-49fd-8621-2de712f0d17a"
      },
      "outputs": [],
      "source": [
        "def counter(initial_value):\n",
        "    # initial_value is a local variable here\n",
        "\n",
        "    def inc(increment=1):\n",
        "        nonlocal initial_value\n",
        "        # initial_value is a nonlocal (captured) variable here\n",
        "        initial_value += increment\n",
        "        return initial_value\n",
        "    \n",
        "    return inc"
      ]
    },
    {
      "cell_type": "code",
      "execution_count": null,
      "id": "b0de50e8-be67-4173-998c-76a6c8fc28e9",
      "metadata": {
        "id": "b0de50e8-be67-4173-998c-76a6c8fc28e9"
      },
      "outputs": [],
      "source": [
        "counter1 = counter(0)"
      ]
    },
    {
      "cell_type": "code",
      "execution_count": null,
      "id": "11590f72-d3cc-461e-b2e0-1c5dfc515d23",
      "metadata": {
        "id": "11590f72-d3cc-461e-b2e0-1c5dfc515d23",
        "outputId": "d438ffe2-569b-4ade-9130-49cd9f428ac2"
      },
      "outputs": [
        {
          "name": "stdout",
          "output_type": "stream",
          "text": [
            "0\n"
          ]
        }
      ],
      "source": [
        "print(counter1(0))"
      ]
    },
    {
      "cell_type": "code",
      "execution_count": null,
      "id": "842026be-c3aa-43bb-9f02-74b69e8f77df",
      "metadata": {
        "id": "842026be-c3aa-43bb-9f02-74b69e8f77df",
        "outputId": "c793483e-5b8f-4d2d-cc99-bb6d20d15457"
      },
      "outputs": [
        {
          "name": "stdout",
          "output_type": "stream",
          "text": [
            "1\n"
          ]
        }
      ],
      "source": [
        "print(counter1())"
      ]
    },
    {
      "cell_type": "code",
      "execution_count": null,
      "id": "bdce1e9d-aeb7-487e-b979-d8ebe25bea81",
      "metadata": {
        "id": "bdce1e9d-aeb7-487e-b979-d8ebe25bea81",
        "outputId": "eac49e7c-41a9-4095-a0cd-0b019bfd52f2"
      },
      "outputs": [
        {
          "name": "stdout",
          "output_type": "stream",
          "text": [
            "2\n"
          ]
        }
      ],
      "source": [
        "print(counter1())"
      ]
    },
    {
      "cell_type": "code",
      "execution_count": null,
      "id": "75ddb1ab-5352-4333-97fa-b856d89df096",
      "metadata": {
        "id": "75ddb1ab-5352-4333-97fa-b856d89df096",
        "outputId": "108c9925-5e52-450a-ca52-7b4bf2eb4dd4"
      },
      "outputs": [
        {
          "name": "stdout",
          "output_type": "stream",
          "text": [
            "10\n"
          ]
        }
      ],
      "source": [
        "print(counter1(8))"
      ]
    },
    {
      "cell_type": "code",
      "execution_count": null,
      "id": "f3de7bcb-b71e-4be0-8bd4-251e6d6c26a2",
      "metadata": {
        "id": "f3de7bcb-b71e-4be0-8bd4-251e6d6c26a2"
      },
      "outputs": [],
      "source": [
        "counter2 = counter(1000)"
      ]
    },
    {
      "cell_type": "code",
      "execution_count": null,
      "id": "d7298907-a65d-4e12-b137-ad1ff0ddecd8",
      "metadata": {
        "id": "d7298907-a65d-4e12-b137-ad1ff0ddecd8",
        "outputId": "aaa94c8c-234b-4cc8-8437-b21f2a347ea4"
      },
      "outputs": [
        {
          "name": "stdout",
          "output_type": "stream",
          "text": [
            "1000\n"
          ]
        }
      ],
      "source": [
        "print(counter2(0))"
      ]
    },
    {
      "cell_type": "code",
      "execution_count": null,
      "id": "fc5f9bd5-5c9d-401c-8fd5-275d235b3427",
      "metadata": {
        "id": "fc5f9bd5-5c9d-401c-8fd5-275d235b3427",
        "outputId": "d9cdbbf1-093e-40d2-de05-9a93481925e0"
      },
      "outputs": [
        {
          "name": "stdout",
          "output_type": "stream",
          "text": [
            "1001\n"
          ]
        }
      ],
      "source": [
        "print(counter2(1))"
      ]
    },
    {
      "cell_type": "code",
      "execution_count": null,
      "id": "9376e20b-8248-48d9-8fb6-eda3c8c9133e",
      "metadata": {
        "id": "9376e20b-8248-48d9-8fb6-eda3c8c9133e",
        "outputId": "2126f718-df9b-47a1-c7d7-7f9906f67cc1"
      },
      "outputs": [
        {
          "name": "stdout",
          "output_type": "stream",
          "text": [
            "1002\n"
          ]
        }
      ],
      "source": [
        "print(counter2())"
      ]
    },
    {
      "cell_type": "code",
      "execution_count": null,
      "id": "429bea33-d279-445f-a014-e246a39a3159",
      "metadata": {
        "id": "429bea33-d279-445f-a014-e246a39a3159",
        "outputId": "cfbe0495-bc56-4f0b-a1ce-33ec9af71ca7"
      },
      "outputs": [
        {
          "name": "stdout",
          "output_type": "stream",
          "text": [
            "1222\n"
          ]
        }
      ],
      "source": [
        "print(counter2(220))"
      ]
    },
    {
      "cell_type": "markdown",
      "id": "67d09ba4-1e4b-41e5-a389-1f4d9dd9e78e",
      "metadata": {
        "id": "67d09ba4-1e4b-41e5-a389-1f4d9dd9e78e"
      },
      "source": [
        "As you can see, each closure maintains a reference to the initial_value variable that was created when `counter` function was called - each time that function was called, a new local variable initial_value was created (with a value assigned from the argument), and it became a nonlocal (captured) variable in the inner scope."
      ]
    },
    {
      "cell_type": "markdown",
      "id": "9f234ab9-fda5-4369-b893-89d18d5946ab",
      "metadata": {
        "id": "9f234ab9-fda5-4369-b893-89d18d5946ab"
      },
      "source": [
        "**Example 2**"
      ]
    },
    {
      "cell_type": "markdown",
      "id": "da8e55a9-0493-41c8-a429-d671a830abfd",
      "metadata": {
        "id": "da8e55a9-0493-41c8-a429-d671a830abfd"
      },
      "source": [
        "Let's modify this example to now build something that can run, and maintain a count of how many yimes we have run som function."
      ]
    },
    {
      "cell_type": "code",
      "execution_count": null,
      "id": "35bf412d-91b3-4682-a848-b6c04da8df24",
      "metadata": {
        "id": "35bf412d-91b3-4682-a848-b6c04da8df24"
      },
      "outputs": [],
      "source": [
        "def counter(fn):\n",
        "    cnt = 0 # initially fn has been run zero times\n",
        "\n",
        "    def inner(*args, **kwargs):\n",
        "        nonlocal cnt\n",
        "        cnt = cnt + 1\n",
        "        print('{0} has been called {1} times'.format(fn.__name__, cnt))\n",
        "        return fn(*args, **kwargs)\n",
        "        \n",
        "    return inner"
      ]
    },
    {
      "cell_type": "code",
      "execution_count": null,
      "id": "77de81b9-a51e-4dd1-8291-91d986a05ffc",
      "metadata": {
        "id": "77de81b9-a51e-4dd1-8291-91d986a05ffc"
      },
      "outputs": [],
      "source": [
        "def add(a, b):\n",
        "    return a + b"
      ]
    },
    {
      "cell_type": "code",
      "execution_count": null,
      "id": "054250a2-a1bd-4d47-9fb6-c2e3ae8704bf",
      "metadata": {
        "id": "054250a2-a1bd-4d47-9fb6-c2e3ae8704bf"
      },
      "outputs": [],
      "source": [
        "counted_add = counter(add)"
      ]
    },
    {
      "cell_type": "markdown",
      "id": "55852121-9d55-4d41-8b2d-33818579adfc",
      "metadata": {
        "id": "55852121-9d55-4d41-8b2d-33818579adfc"
      },
      "source": [
        "And the free variables are:"
      ]
    },
    {
      "cell_type": "code",
      "execution_count": null,
      "id": "caf73601-c1ef-4cd7-a646-62a15f2daab1",
      "metadata": {
        "id": "caf73601-c1ef-4cd7-a646-62a15f2daab1",
        "outputId": "0ca0c1b8-e302-4e0b-a875-a585f24d62bb"
      },
      "outputs": [
        {
          "data": {
            "text/plain": [
              "('cnt', 'fn')"
            ]
          },
          "execution_count": 150,
          "metadata": {},
          "output_type": "execute_result"
        }
      ],
      "source": [
        "counted_add.__code__.co_freevars"
      ]
    },
    {
      "cell_type": "markdown",
      "id": "097a7e65-5936-4869-9682-112510cc69d9",
      "metadata": {
        "id": "097a7e65-5936-4869-9682-112510cc69d9"
      },
      "source": [
        "We can now call the `counted_add` function:"
      ]
    },
    {
      "cell_type": "code",
      "execution_count": null,
      "id": "c948ba3b-9a56-4bc3-af84-30b59abc57f3",
      "metadata": {
        "id": "c948ba3b-9a56-4bc3-af84-30b59abc57f3",
        "outputId": "4ae6b31f-1e29-4280-fe16-0c94562110b6"
      },
      "outputs": [
        {
          "name": "stdout",
          "output_type": "stream",
          "text": [
            "add has been called 1 times\n"
          ]
        },
        {
          "data": {
            "text/plain": [
              "3"
            ]
          },
          "execution_count": 151,
          "metadata": {},
          "output_type": "execute_result"
        }
      ],
      "source": [
        "counted_add(1, 2)"
      ]
    },
    {
      "cell_type": "code",
      "execution_count": null,
      "id": "d16c12d7-5be9-4e39-93da-9ee3c4f27f4b",
      "metadata": {
        "id": "d16c12d7-5be9-4e39-93da-9ee3c4f27f4b",
        "outputId": "5324c3a5-ee08-49c5-aac1-b8f2b3eddc13"
      },
      "outputs": [
        {
          "name": "stdout",
          "output_type": "stream",
          "text": [
            "add has been called 2 times\n"
          ]
        },
        {
          "data": {
            "text/plain": [
              "5"
            ]
          },
          "execution_count": 152,
          "metadata": {},
          "output_type": "execute_result"
        }
      ],
      "source": [
        "counted_add(2, 3)"
      ]
    },
    {
      "cell_type": "code",
      "execution_count": null,
      "id": "a5bc2304-51a8-413e-91f6-085663c049e2",
      "metadata": {
        "id": "a5bc2304-51a8-413e-91f6-085663c049e2"
      },
      "outputs": [],
      "source": [
        "def mult(a, b, c):\n",
        "    return a * b * c"
      ]
    },
    {
      "cell_type": "code",
      "execution_count": null,
      "id": "e88e15d1-deea-46fa-bb32-7d69abb53169",
      "metadata": {
        "id": "e88e15d1-deea-46fa-bb32-7d69abb53169"
      },
      "outputs": [],
      "source": [
        "counted_mult = counter(mult)"
      ]
    },
    {
      "cell_type": "code",
      "execution_count": null,
      "id": "ed610cdd-f9d0-4838-aeea-da30ea84c5b8",
      "metadata": {
        "id": "ed610cdd-f9d0-4838-aeea-da30ea84c5b8",
        "outputId": "d772a43c-d1ba-4e54-f0cf-94bf440fc91d"
      },
      "outputs": [
        {
          "name": "stdout",
          "output_type": "stream",
          "text": [
            "mult has been called 1 times\n"
          ]
        },
        {
          "data": {
            "text/plain": [
              "6"
            ]
          },
          "execution_count": 155,
          "metadata": {},
          "output_type": "execute_result"
        }
      ],
      "source": [
        "counted_mult(1, 2, 3)"
      ]
    },
    {
      "cell_type": "code",
      "execution_count": null,
      "id": "59b9c2bd-d63d-42f4-8c2f-8085fc8dcad1",
      "metadata": {
        "id": "59b9c2bd-d63d-42f4-8c2f-8085fc8dcad1",
        "outputId": "3a386236-b076-4f75-e0b6-06997e6b6eb3"
      },
      "outputs": [
        {
          "name": "stdout",
          "output_type": "stream",
          "text": [
            "mult has been called 2 times\n"
          ]
        },
        {
          "data": {
            "text/plain": [
              "24"
            ]
          },
          "execution_count": 156,
          "metadata": {},
          "output_type": "execute_result"
        }
      ],
      "source": [
        "counted_mult(2, 3, 4)"
      ]
    },
    {
      "cell_type": "markdown",
      "id": "548e62dc-9de4-4d9a-9fcb-4e7079442dad",
      "metadata": {
        "id": "548e62dc-9de4-4d9a-9fcb-4e7079442dad"
      },
      "source": [
        "**Example 3**"
      ]
    },
    {
      "cell_type": "markdown",
      "id": "452b2c24-f461-4e88-b9c4-7fe346daecac",
      "metadata": {
        "id": "452b2c24-f461-4e88-b9c4-7fe346daecac"
      },
      "source": [
        "Let's take this one step further, and actually store the function name and the number of calls in a global dictionary instead of just printing it out all the time."
      ]
    },
    {
      "cell_type": "code",
      "execution_count": null,
      "id": "77d00ba9-7bb8-4773-af18-ad12109e30a9",
      "metadata": {
        "id": "77d00ba9-7bb8-4773-af18-ad12109e30a9"
      },
      "outputs": [],
      "source": [
        "counters = dict()\n",
        "\n",
        "def counter(fn):\n",
        "    cnt = 0 # initially fn has been run zero times\n",
        "\n",
        "    def inner(*args, **kwargs):\n",
        "        nonlocal cnt\n",
        "        cnt = cnt + 1\n",
        "        counters[fn.__name__] = cnt # counters is global\n",
        "        return fn(*args, **kwargs)\n",
        "        \n",
        "    return inner"
      ]
    },
    {
      "cell_type": "code",
      "execution_count": null,
      "id": "ef1ec339-bdaa-4625-8b53-ff97a391b74b",
      "metadata": {
        "id": "ef1ec339-bdaa-4625-8b53-ff97a391b74b"
      },
      "outputs": [],
      "source": [
        "counted_add = counter(add)\n",
        "counted_mult = counter(mult)"
      ]
    },
    {
      "cell_type": "markdown",
      "id": "09f4dc31-10e6-4077-be41-c412f7789733",
      "metadata": {
        "id": "09f4dc31-10e6-4077-be41-c412f7789733"
      },
      "source": [
        "Note that `counters` is a `global` variable, and therefore not a free variable:"
      ]
    },
    {
      "cell_type": "code",
      "execution_count": null,
      "id": "011c98e0-60bc-4e6b-9cbc-a5874242105c",
      "metadata": {
        "id": "011c98e0-60bc-4e6b-9cbc-a5874242105c",
        "outputId": "c96f2b13-6163-4d3c-d3c0-9813387a5441"
      },
      "outputs": [
        {
          "data": {
            "text/plain": [
              "('cnt', 'fn')"
            ]
          },
          "execution_count": 159,
          "metadata": {},
          "output_type": "execute_result"
        }
      ],
      "source": [
        "counted_add.__code__.co_freevars"
      ]
    },
    {
      "cell_type": "code",
      "execution_count": null,
      "id": "a7a58568-8ab3-41a9-9ac9-722623ab4f8d",
      "metadata": {
        "id": "a7a58568-8ab3-41a9-9ac9-722623ab4f8d",
        "outputId": "a9b9dae0-5851-4289-e556-f06d21b3443c"
      },
      "outputs": [
        {
          "data": {
            "text/plain": [
              "('cnt', 'fn')"
            ]
          },
          "execution_count": 160,
          "metadata": {},
          "output_type": "execute_result"
        }
      ],
      "source": [
        "counted_mult.__code__.co_freevars"
      ]
    },
    {
      "cell_type": "markdown",
      "id": "852c0cb8-f54b-410e-b7c1-d73203c7f128",
      "metadata": {
        "id": "852c0cb8-f54b-410e-b7c1-d73203c7f128"
      },
      "source": [
        "We can now call out functions:"
      ]
    },
    {
      "cell_type": "code",
      "execution_count": null,
      "id": "e291a727-9134-4a42-b351-04ba799e3e45",
      "metadata": {
        "id": "e291a727-9134-4a42-b351-04ba799e3e45",
        "outputId": "784e8fc7-3f61-4ed6-fe10-4e4d82627c6b"
      },
      "outputs": [
        {
          "data": {
            "text/plain": [
              "3"
            ]
          },
          "execution_count": 161,
          "metadata": {},
          "output_type": "execute_result"
        }
      ],
      "source": [
        "counted_add(1, 2)"
      ]
    },
    {
      "cell_type": "code",
      "execution_count": null,
      "id": "4c38c3cc-eb6d-44c7-8da5-7e72ae51f139",
      "metadata": {
        "id": "4c38c3cc-eb6d-44c7-8da5-7e72ae51f139",
        "outputId": "12a1de4d-13d8-4159-c7d3-7f9c3b99470a"
      },
      "outputs": [
        {
          "data": {
            "text/plain": [
              "5"
            ]
          },
          "execution_count": 162,
          "metadata": {},
          "output_type": "execute_result"
        }
      ],
      "source": [
        "counted_add(2, 3)"
      ]
    },
    {
      "cell_type": "code",
      "execution_count": null,
      "id": "5183b142-07af-4d83-be4d-dffef7795685",
      "metadata": {
        "id": "5183b142-07af-4d83-be4d-dffef7795685",
        "outputId": "f7df4059-7fb8-4d5a-ac75-ae0ef929fdfc"
      },
      "outputs": [
        {
          "data": {
            "text/plain": [
              "'aa'"
            ]
          },
          "execution_count": 163,
          "metadata": {},
          "output_type": "execute_result"
        }
      ],
      "source": [
        "counted_mult(1, 2, 'a')"
      ]
    },
    {
      "cell_type": "code",
      "execution_count": null,
      "id": "1282cfd8-64ca-4018-b550-3a732c7900e6",
      "metadata": {
        "id": "1282cfd8-64ca-4018-b550-3a732c7900e6",
        "outputId": "b97d9ad4-f68e-4925-e250-fe34688f2742"
      },
      "outputs": [
        {
          "data": {
            "text/plain": [
              "'bbbbbb'"
            ]
          },
          "execution_count": 164,
          "metadata": {},
          "output_type": "execute_result"
        }
      ],
      "source": [
        "counted_mult(2, 3, 'b')"
      ]
    },
    {
      "cell_type": "code",
      "execution_count": null,
      "id": "e982e6d2-92ee-42ad-ad0c-38a00500bf6c",
      "metadata": {
        "id": "e982e6d2-92ee-42ad-ad0c-38a00500bf6c",
        "outputId": "87dc2e6a-bf2d-41ee-b711-3ac357828ccc"
      },
      "outputs": [
        {
          "data": {
            "text/plain": [
              "'abc'"
            ]
          },
          "execution_count": 165,
          "metadata": {},
          "output_type": "execute_result"
        }
      ],
      "source": [
        "counted_mult(1, 1, 'abc')"
      ]
    },
    {
      "cell_type": "code",
      "execution_count": null,
      "id": "405340ac-b534-489b-87ee-866122b449f0",
      "metadata": {
        "id": "405340ac-b534-489b-87ee-866122b449f0",
        "outputId": "7deb40f1-6fb7-4274-e2b3-aa091a366079"
      },
      "outputs": [
        {
          "name": "stdout",
          "output_type": "stream",
          "text": [
            "{'add': 2, 'mult': 3}\n"
          ]
        }
      ],
      "source": [
        "print(counters)"
      ]
    },
    {
      "cell_type": "markdown",
      "id": "76fec481-c9de-4a20-9013-a4fd9e2c8952",
      "metadata": {
        "id": "76fec481-c9de-4a20-9013-a4fd9e2c8952"
      },
      "source": [
        "Of course this relies on us creating the counters global variable first and making sure we are naming it that way, so instead, we're going to pass it as an argument to the counter function:"
      ]
    },
    {
      "cell_type": "code",
      "execution_count": null,
      "id": "6b0edb81-e2f7-42fc-a444-02178545408f",
      "metadata": {
        "id": "6b0edb81-e2f7-42fc-a444-02178545408f"
      },
      "outputs": [],
      "source": [
        "def counter(fn, counters):\n",
        "    cnt = 0  # initially fn has been run zero times\n",
        "    \n",
        "    def inner(*args, **kwargs):\n",
        "        nonlocal cnt\n",
        "        cnt = cnt + 1\n",
        "        counters[fn.__name__] = cnt  # counters is nonlocal\n",
        "        return fn(*args, **kwargs)\n",
        "    \n",
        "    return inner"
      ]
    },
    {
      "cell_type": "code",
      "execution_count": null,
      "id": "3256241e-6308-426e-a542-a3caf8df1bc7",
      "metadata": {
        "id": "3256241e-6308-426e-a542-a3caf8df1bc7"
      },
      "outputs": [],
      "source": [
        "func_counters = dict()\n",
        "counted_add = counter(add, func_counters)\n",
        "counted_mult = counter(mult, func_counters)"
      ]
    },
    {
      "cell_type": "code",
      "execution_count": null,
      "id": "dd4e142c-36b8-4b27-9159-dc76fd6412fe",
      "metadata": {
        "id": "dd4e142c-36b8-4b27-9159-dc76fd6412fe",
        "outputId": "54c51c36-c308-4b36-84fa-9c9a55c4e3e3"
      },
      "outputs": [
        {
          "data": {
            "text/plain": [
              "('cnt', 'counters', 'fn')"
            ]
          },
          "execution_count": 169,
          "metadata": {},
          "output_type": "execute_result"
        }
      ],
      "source": [
        "counted_add.__code__.co_freevars"
      ]
    },
    {
      "cell_type": "markdown",
      "id": "b0c8e295-360e-433e-8412-9428b6162aa6",
      "metadata": {
        "id": "b0c8e295-360e-433e-8412-9428b6162aa6"
      },
      "source": [
        "As you can see, counters is now a free variable.\n",
        "\n",
        "We can now call our functions:"
      ]
    },
    {
      "cell_type": "code",
      "execution_count": null,
      "id": "058439d6-ea08-4a85-82b2-a1f03f57f9b4",
      "metadata": {
        "id": "058439d6-ea08-4a85-82b2-a1f03f57f9b4"
      },
      "outputs": [],
      "source": [
        "for i in range(5):\n",
        "    counted_add(i, i)\n",
        "\n",
        "for i in range(10):\n",
        "    counted_mult(i, i, i)"
      ]
    },
    {
      "cell_type": "code",
      "execution_count": null,
      "id": "fdc5dca3-e85e-4901-b126-857588cca5cb",
      "metadata": {
        "id": "fdc5dca3-e85e-4901-b126-857588cca5cb",
        "outputId": "75f54c53-3300-437b-ae7a-ba265d2d439a"
      },
      "outputs": [
        {
          "name": "stdout",
          "output_type": "stream",
          "text": [
            "{'add': 5, 'mult': 10}\n"
          ]
        }
      ],
      "source": [
        "print(func_counters)"
      ]
    },
    {
      "cell_type": "markdown",
      "id": "06a1e8fc-8aa5-47c9-ac8b-552f40207a6e",
      "metadata": {
        "id": "06a1e8fc-8aa5-47c9-ac8b-552f40207a6e"
      },
      "source": [
        "Of course, we don't have to assign the \"counted\" version of our functions a new name - we can simply assign it to the same name!"
      ]
    },
    {
      "cell_type": "code",
      "execution_count": null,
      "id": "01211305-a883-4cc8-ad3a-d260d529edd8",
      "metadata": {
        "id": "01211305-a883-4cc8-ad3a-d260d529edd8"
      },
      "outputs": [],
      "source": [
        "def fact(n):\n",
        "    product = 1\n",
        "    for i in range(2, n+1):\n",
        "        product *= i\n",
        "    return product"
      ]
    },
    {
      "cell_type": "code",
      "execution_count": null,
      "id": "f8715651-8f23-4b0f-9c97-1e9cf6599d9a",
      "metadata": {
        "id": "f8715651-8f23-4b0f-9c97-1e9cf6599d9a"
      },
      "outputs": [],
      "source": [
        "fact = counter(fact, func_counters)"
      ]
    },
    {
      "cell_type": "code",
      "execution_count": null,
      "id": "fabdd27f-2d5b-487d-8c19-34645a68dd9c",
      "metadata": {
        "id": "fabdd27f-2d5b-487d-8c19-34645a68dd9c",
        "outputId": "31b4f3e9-326f-465e-ca76-c46f62845ce5"
      },
      "outputs": [
        {
          "data": {
            "text/plain": [
              "1"
            ]
          },
          "execution_count": 174,
          "metadata": {},
          "output_type": "execute_result"
        }
      ],
      "source": [
        "fact(0)"
      ]
    },
    {
      "cell_type": "code",
      "execution_count": null,
      "id": "770766fd-2181-430d-8b75-e6ecc46db450",
      "metadata": {
        "id": "770766fd-2181-430d-8b75-e6ecc46db450",
        "outputId": "25387dba-465c-48fd-d1c4-090934026978"
      },
      "outputs": [
        {
          "data": {
            "text/plain": [
              "6"
            ]
          },
          "execution_count": 175,
          "metadata": {},
          "output_type": "execute_result"
        }
      ],
      "source": [
        "fact(3)"
      ]
    },
    {
      "cell_type": "code",
      "execution_count": null,
      "id": "cb4ddd0a-81e6-4d8e-8895-a3463395f8d8",
      "metadata": {
        "id": "cb4ddd0a-81e6-4d8e-8895-a3463395f8d8",
        "outputId": "1a626632-97d3-4fac-e52b-2dba1f9aa8ec"
      },
      "outputs": [
        {
          "data": {
            "text/plain": [
              "24"
            ]
          },
          "execution_count": 176,
          "metadata": {},
          "output_type": "execute_result"
        }
      ],
      "source": [
        "fact(4)"
      ]
    },
    {
      "cell_type": "code",
      "execution_count": null,
      "id": "a7d1b0f3-d66f-4841-86ed-7443dde0f5f9",
      "metadata": {
        "id": "a7d1b0f3-d66f-4841-86ed-7443dde0f5f9",
        "outputId": "69011ef6-dde3-47bd-8208-e479bbdb9b5b"
      },
      "outputs": [
        {
          "name": "stdout",
          "output_type": "stream",
          "text": [
            "{'add': 5, 'mult': 10, 'fact': 3}\n"
          ]
        }
      ],
      "source": [
        "print(func_counters)"
      ]
    },
    {
      "cell_type": "markdown",
      "id": "62fb593d-4b6c-46a6-ad5a-fd0342603fbb",
      "metadata": {
        "id": "62fb593d-4b6c-46a6-ad5a-fd0342603fbb"
      },
      "source": [
        "Notice, how we essentially added some functionality to our fact function, without modifying what the fact function actually returns.\n",
        "\n",
        "This leads us straight into our next topic: decorators!"
      ]
    },
    {
      "cell_type": "markdown",
      "id": "4bbe0726-cdfc-47d5-b3b1-0c0eff62efd6",
      "metadata": {
        "id": "4bbe0726-cdfc-47d5-b3b1-0c0eff62efd6"
      },
      "source": [
        "### 06 - Decorators - Part 1"
      ]
    },
    {
      "cell_type": "markdown",
      "id": "f180f8ee-40d3-4d67-ad0b-8748c130465d",
      "metadata": {
        "id": "f180f8ee-40d3-4d67-ad0b-8748c130465d"
      },
      "source": [
        "Recall the example in the last section where we wrote a simple closure to count how many times a function had been run:"
      ]
    },
    {
      "cell_type": "code",
      "execution_count": null,
      "id": "46f77043-3c8f-460c-a725-aeff9a1539ce",
      "metadata": {
        "id": "46f77043-3c8f-460c-a725-aeff9a1539ce"
      },
      "outputs": [],
      "source": [
        "def counter(fn):\n",
        "    count = 0\n",
        "    \n",
        "    def inner(*args, **kwargs):\n",
        "        nonlocal count\n",
        "        count += 1\n",
        "        print('Function {0} was called {1} times'.format(fn.__name__, count))\n",
        "        return fn(*args, **kwargs)\n",
        "    return inner"
      ]
    },
    {
      "cell_type": "code",
      "execution_count": null,
      "id": "8950d33d-99de-4567-8ad0-85be8e71c3fd",
      "metadata": {
        "id": "8950d33d-99de-4567-8ad0-85be8e71c3fd"
      },
      "outputs": [],
      "source": [
        "def add(a, b=0):\n",
        "    \"\"\"\n",
        "    return the sum of a and b\n",
        "    \"\"\"\n",
        "    return a + b"
      ]
    },
    {
      "cell_type": "code",
      "execution_count": null,
      "id": "30e2017a-b3c0-4d09-ac66-16786a58355b",
      "metadata": {
        "id": "30e2017a-b3c0-4d09-ac66-16786a58355b",
        "outputId": "dec92596-28e9-45a4-df58-43a7f42d0af9"
      },
      "outputs": [
        {
          "name": "stdout",
          "output_type": "stream",
          "text": [
            "Help on function add in module __main__:\n",
            "\n",
            "add(a, b=0)\n",
            "    return the sum of a and b\n",
            "\n"
          ]
        }
      ],
      "source": [
        "help(add)"
      ]
    },
    {
      "cell_type": "markdown",
      "id": "b7b6a9cf-0ee4-4d19-bdc0-09b3168ef219",
      "metadata": {
        "id": "b7b6a9cf-0ee4-4d19-bdc0-09b3168ef219"
      },
      "source": [
        "Here's the memory address that `add` points to:"
      ]
    },
    {
      "cell_type": "code",
      "execution_count": null,
      "id": "0c6278af-ca80-40b5-89a6-d4cf9f80d6a9",
      "metadata": {
        "id": "0c6278af-ca80-40b5-89a6-d4cf9f80d6a9",
        "outputId": "51d45485-1b72-41a1-ec0e-245922be9d30"
      },
      "outputs": [
        {
          "data": {
            "text/plain": [
              "1954621448048"
            ]
          },
          "execution_count": 181,
          "metadata": {},
          "output_type": "execute_result"
        }
      ],
      "source": [
        "id(add)"
      ]
    },
    {
      "cell_type": "markdown",
      "id": "3cf753eb-1101-484c-ae2a-5e1831e310b1",
      "metadata": {
        "id": "3cf753eb-1101-484c-ae2a-5e1831e310b1"
      },
      "source": [
        "Now we create a closure using the `add` function as an argument to the `counter` function:"
      ]
    },
    {
      "cell_type": "code",
      "execution_count": null,
      "id": "6c421260-2094-4fcb-9300-0720800799ef",
      "metadata": {
        "id": "6c421260-2094-4fcb-9300-0720800799ef"
      },
      "outputs": [],
      "source": [
        "add = counter(add)"
      ]
    },
    {
      "cell_type": "markdown",
      "id": "2de37319-1b3f-4ff4-9665-2baecc4b270e",
      "metadata": {
        "id": "2de37319-1b3f-4ff4-9665-2baecc4b270e"
      },
      "source": [
        "And you'll note that `add` is no longer the same function as before. Indeed the memory address `add` points to is no longer the same:"
      ]
    },
    {
      "cell_type": "code",
      "execution_count": null,
      "id": "5ec2a000-1fd9-45ec-83fc-3ce7433727c1",
      "metadata": {
        "id": "5ec2a000-1fd9-45ec-83fc-3ce7433727c1",
        "outputId": "724700db-6526-4543-cad3-a8bb8c8753c9"
      },
      "outputs": [
        {
          "data": {
            "text/plain": [
              "1954621447040"
            ]
          },
          "execution_count": 183,
          "metadata": {},
          "output_type": "execute_result"
        }
      ],
      "source": [
        "id(add)"
      ]
    },
    {
      "cell_type": "code",
      "execution_count": null,
      "id": "f61f37e0-30ff-49c1-be44-9fd5ce3b8094",
      "metadata": {
        "id": "f61f37e0-30ff-49c1-be44-9fd5ce3b8094",
        "outputId": "ac155c4f-2208-4286-ddf4-3096f840c65f"
      },
      "outputs": [
        {
          "name": "stdout",
          "output_type": "stream",
          "text": [
            "Function add was called 1 times\n"
          ]
        },
        {
          "data": {
            "text/plain": [
              "3"
            ]
          },
          "execution_count": 184,
          "metadata": {},
          "output_type": "execute_result"
        }
      ],
      "source": [
        "add(1, 2)"
      ]
    },
    {
      "cell_type": "code",
      "execution_count": null,
      "id": "dc8e5fab-795d-4a8b-a7a5-2cf8bc56d956",
      "metadata": {
        "id": "dc8e5fab-795d-4a8b-a7a5-2cf8bc56d956",
        "outputId": "2650daf1-9e03-4f9b-b0eb-3104033ca8ca"
      },
      "outputs": [
        {
          "name": "stdout",
          "output_type": "stream",
          "text": [
            "Function add was called 2 times\n"
          ]
        },
        {
          "data": {
            "text/plain": [
              "4"
            ]
          },
          "execution_count": 185,
          "metadata": {},
          "output_type": "execute_result"
        }
      ],
      "source": [
        "add(2, 2)"
      ]
    },
    {
      "cell_type": "markdown",
      "id": "f49c1df6-9506-44f0-a098-91bc2745fd2a",
      "metadata": {
        "id": "f49c1df6-9506-44f0-a098-91bc2745fd2a"
      },
      "source": [
        "What happened is that we put our `add` function 'through' the `counter` function - we usually say that we decorated our function add.\n",
        "\n",
        "And we call that counter function a decorator.\n",
        "\n",
        "There is a shorthand way of decorating our function without having to type:\n",
        "\n",
        "`func = counter(func)`"
      ]
    },
    {
      "cell_type": "code",
      "execution_count": null,
      "id": "f1e314c5-e64a-4bb8-bc8d-6fcded14ccf5",
      "metadata": {
        "id": "f1e314c5-e64a-4bb8-bc8d-6fcded14ccf5"
      },
      "outputs": [],
      "source": [
        "@counter\n",
        "def mult(a: float, b: float=1, c:float=1) -> float:\n",
        "    \"\"\"\n",
        "    returns the product of a, b, and c\n",
        "    \"\"\"\n",
        "    return a * b * c"
      ]
    },
    {
      "cell_type": "code",
      "execution_count": null,
      "id": "6d7343c0-b75c-48d8-ad8e-315d134f7e07",
      "metadata": {
        "id": "6d7343c0-b75c-48d8-ad8e-315d134f7e07",
        "outputId": "2faabbd3-1b70-4533-f980-0c07534c84da"
      },
      "outputs": [
        {
          "name": "stdout",
          "output_type": "stream",
          "text": [
            "Function mult was called 1 times\n"
          ]
        },
        {
          "data": {
            "text/plain": [
              "6"
            ]
          },
          "execution_count": 187,
          "metadata": {},
          "output_type": "execute_result"
        }
      ],
      "source": [
        "mult(1, 2, 3)"
      ]
    },
    {
      "cell_type": "code",
      "execution_count": null,
      "id": "12087ca2-a8d0-4898-884e-a83f849ef138",
      "metadata": {
        "id": "12087ca2-a8d0-4898-884e-a83f849ef138",
        "outputId": "66188ca8-23c4-4660-e6fa-6cfea194b94a"
      },
      "outputs": [
        {
          "name": "stdout",
          "output_type": "stream",
          "text": [
            "Function mult was called 2 times\n"
          ]
        },
        {
          "data": {
            "text/plain": [
              "8"
            ]
          },
          "execution_count": 188,
          "metadata": {},
          "output_type": "execute_result"
        }
      ],
      "source": [
        "mult(2, 2, 2)"
      ]
    },
    {
      "cell_type": "markdown",
      "id": "e54fe4f3-4b4e-4ba2-bab1-271c85bf332b",
      "metadata": {
        "id": "e54fe4f3-4b4e-4ba2-bab1-271c85bf332b"
      },
      "source": [
        "Let's do a little bit of introspection on our two decorated functions:"
      ]
    },
    {
      "cell_type": "code",
      "execution_count": null,
      "id": "9e11434b-102a-46cf-a678-bda4b21db18f",
      "metadata": {
        "id": "9e11434b-102a-46cf-a678-bda4b21db18f",
        "outputId": "b6ab9c6e-c510-4414-94cc-d20275e10903"
      },
      "outputs": [
        {
          "data": {
            "text/plain": [
              "'inner'"
            ]
          },
          "execution_count": 189,
          "metadata": {},
          "output_type": "execute_result"
        }
      ],
      "source": [
        "add.__name__"
      ]
    },
    {
      "cell_type": "code",
      "execution_count": null,
      "id": "7a3ec374-2324-4859-b4e4-32b804358c67",
      "metadata": {
        "id": "7a3ec374-2324-4859-b4e4-32b804358c67",
        "outputId": "67316997-695b-4093-b175-13f19372bb26"
      },
      "outputs": [
        {
          "data": {
            "text/plain": [
              "'inner'"
            ]
          },
          "execution_count": 190,
          "metadata": {},
          "output_type": "execute_result"
        }
      ],
      "source": [
        "mult.__name__"
      ]
    },
    {
      "cell_type": "markdown",
      "id": "325cbdb6-e426-4213-b675-c1762ee0da82",
      "metadata": {
        "id": "325cbdb6-e426-4213-b675-c1762ee0da82"
      },
      "source": [
        "As you can see, the name of the function is no longer `add` or ``mult`, but instead it is the name of that `inner` function in our decorator."
      ]
    },
    {
      "cell_type": "code",
      "execution_count": null,
      "id": "4a179ef6-0779-44c4-a56d-20b2af1b5635",
      "metadata": {
        "id": "4a179ef6-0779-44c4-a56d-20b2af1b5635",
        "outputId": "7217ccc3-a1bb-4d02-b16f-7efc0419a4dc"
      },
      "outputs": [
        {
          "name": "stdout",
          "output_type": "stream",
          "text": [
            "Help on function inner in module __main__:\n",
            "\n",
            "inner(*args, **kwargs)\n",
            "\n"
          ]
        }
      ],
      "source": [
        "help(add)"
      ]
    },
    {
      "cell_type": "markdown",
      "id": "b8bb9296-8930-4542-87a2-4a2314a1c313",
      "metadata": {
        "id": "b8bb9296-8930-4542-87a2-4a2314a1c313"
      },
      "source": [
        "As you can see, we've lost our docstring and parameter annotarions!\n",
        "\n",
        "What about instrospecting the parameters of `add` and `mult`:"
      ]
    },
    {
      "cell_type": "code",
      "execution_count": null,
      "id": "dcc69c70-9b42-4ad7-a7b8-3355ae322b88",
      "metadata": {
        "id": "dcc69c70-9b42-4ad7-a7b8-3355ae322b88"
      },
      "outputs": [],
      "source": [
        "import inspect"
      ]
    },
    {
      "cell_type": "code",
      "execution_count": null,
      "id": "fe3d71e8-64a2-4341-a924-fa7142dfbd06",
      "metadata": {
        "id": "fe3d71e8-64a2-4341-a924-fa7142dfbd06",
        "outputId": "fabe095e-721f-45cd-cfe9-63326b17fa5a"
      },
      "outputs": [
        {
          "data": {
            "text/plain": [
              "\"    def inner(*args, **kwargs):\\n        nonlocal count\\n        count += 1\\n        print('Function {0} was called {1} times'.format(fn.__name__, count))\\n        return fn(*args, **kwargs)\\n\""
            ]
          },
          "execution_count": 193,
          "metadata": {},
          "output_type": "execute_result"
        }
      ],
      "source": [
        "inspect.getsource(add)"
      ]
    },
    {
      "cell_type": "code",
      "execution_count": null,
      "id": "d1ccbebb-b03d-4bed-9b17-e05cef619604",
      "metadata": {
        "id": "d1ccbebb-b03d-4bed-9b17-e05cef619604",
        "outputId": "9f6a42da-8a02-4ceb-b58c-3e2391cc3e9c"
      },
      "outputs": [
        {
          "data": {
            "text/plain": [
              "\"    def inner(*args, **kwargs):\\n        nonlocal count\\n        count += 1\\n        print('Function {0} was called {1} times'.format(fn.__name__, count))\\n        return fn(*args, **kwargs)\\n\""
            ]
          },
          "execution_count": 194,
          "metadata": {},
          "output_type": "execute_result"
        }
      ],
      "source": [
        "inspect.getsource(mult)"
      ]
    },
    {
      "cell_type": "markdown",
      "id": "ccca1e69-7035-4150-b7e7-e2d0ff2115de",
      "metadata": {
        "id": "ccca1e69-7035-4150-b7e7-e2d0ff2115de"
      },
      "source": [
        "Even the signature is gone:"
      ]
    },
    {
      "cell_type": "code",
      "execution_count": null,
      "id": "d10df738-878b-4c1e-b3fd-7071763d66b0",
      "metadata": {
        "id": "d10df738-878b-4c1e-b3fd-7071763d66b0",
        "outputId": "2c9e5ded-e78a-41b0-dbb8-58a533941526"
      },
      "outputs": [
        {
          "data": {
            "text/plain": [
              "<Signature (*args, **kwargs)>"
            ]
          },
          "execution_count": 195,
          "metadata": {},
          "output_type": "execute_result"
        }
      ],
      "source": [
        "inspect.signature(add)"
      ]
    },
    {
      "cell_type": "code",
      "execution_count": null,
      "id": "b042012d-211d-4c7b-a6ce-46ab8b2bff90",
      "metadata": {
        "id": "b042012d-211d-4c7b-a6ce-46ab8b2bff90",
        "outputId": "63869b8f-fd9d-473c-9d6c-5e378eeeb472"
      },
      "outputs": [
        {
          "data": {
            "text/plain": [
              "<Signature (*args, **kwargs)>"
            ]
          },
          "execution_count": 196,
          "metadata": {},
          "output_type": "execute_result"
        }
      ],
      "source": [
        "inspect.signature(mult)"
      ]
    },
    {
      "cell_type": "markdown",
      "id": "d83b0b47-5c96-449a-95b4-4f4989187864",
      "metadata": {
        "id": "d83b0b47-5c96-449a-95b4-4f4989187864"
      },
      "source": [
        "Even the parameter defaults documentation is are gone:"
      ]
    },
    {
      "cell_type": "code",
      "execution_count": null,
      "id": "3d4285fb-2c5f-496a-8026-57c50ed2cd3d",
      "metadata": {
        "id": "3d4285fb-2c5f-496a-8026-57c50ed2cd3d",
        "outputId": "3b40da69-4275-48f6-d698-90e9f1c376a7"
      },
      "outputs": [
        {
          "data": {
            "text/plain": [
              "mappingproxy({'args': <Parameter \"*args\">, 'kwargs': <Parameter \"**kwargs\">})"
            ]
          },
          "execution_count": 197,
          "metadata": {},
          "output_type": "execute_result"
        }
      ],
      "source": [
        "inspect.signature(add).parameters"
      ]
    },
    {
      "cell_type": "markdown",
      "id": "fa0b8a95-aaa8-4fe5-b3c5-1a0dc4bf2315",
      "metadata": {
        "id": "fa0b8a95-aaa8-4fe5-b3c5-1a0dc4bf2315"
      },
      "source": [
        "In general, when we create decorated functions, we end up \"losing\" a lot of the metadate of our original function!\n",
        "\n",
        "However, we can put that information back in - it can get quite complicated.\n",
        "\n",
        "Let's see how we might be able to do that for some simple things, like the docstring and the function name."
      ]
    },
    {
      "cell_type": "code",
      "execution_count": null,
      "id": "6029d888-53da-42eb-99ef-ab915c86a83b",
      "metadata": {
        "id": "6029d888-53da-42eb-99ef-ab915c86a83b"
      },
      "outputs": [],
      "source": [
        "def counter(fn):\n",
        "    count = 0\n",
        "    \n",
        "    def inner(*args, **kwargs):\n",
        "        nonlocal count\n",
        "        count += 1\n",
        "        print(\"{0} was called {1} times\".format(fn.__name__, count))\n",
        "    inner.__name__ = fn.__name__\n",
        "    inner.__doc__ = fn.__doc__\n",
        "    return inner"
      ]
    },
    {
      "cell_type": "code",
      "execution_count": null,
      "id": "45b6a6dc-f649-4b11-8f5d-89587491d653",
      "metadata": {
        "id": "45b6a6dc-f649-4b11-8f5d-89587491d653"
      },
      "outputs": [],
      "source": [
        "@counter\n",
        "def add(a: int, b: int=10) -> int:\n",
        "    \"\"\"\n",
        "    returns sum of two integers\n",
        "    \"\"\"\n",
        "    return a + b"
      ]
    },
    {
      "cell_type": "code",
      "execution_count": null,
      "id": "fbffc32f-4f08-46a4-a1e3-5f3babebd172",
      "metadata": {
        "id": "fbffc32f-4f08-46a4-a1e3-5f3babebd172",
        "outputId": "e26647cc-cce9-4737-b3c1-3ebf7a845ff6"
      },
      "outputs": [
        {
          "name": "stdout",
          "output_type": "stream",
          "text": [
            "Help on function add in module __main__:\n",
            "\n",
            "add(*args, **kwargs)\n",
            "    returns sum of two integers\n",
            "\n"
          ]
        }
      ],
      "source": [
        "help(add)"
      ]
    },
    {
      "cell_type": "code",
      "execution_count": null,
      "id": "e4314931-eaf2-4ec1-ae88-1dd4162bd25c",
      "metadata": {
        "id": "e4314931-eaf2-4ec1-ae88-1dd4162bd25c",
        "outputId": "0bede4a2-fe58-42a4-bbb3-fc3eafb836ec"
      },
      "outputs": [
        {
          "data": {
            "text/plain": [
              "'add'"
            ]
          },
          "execution_count": 201,
          "metadata": {},
          "output_type": "execute_result"
        }
      ],
      "source": [
        "add.__name__"
      ]
    },
    {
      "cell_type": "markdown",
      "id": "33140f4f-cd75-4b71-bd63-68264b54940f",
      "metadata": {
        "id": "33140f4f-cd75-4b71-bd63-68264b54940f"
      },
      "source": [
        "At least we have the docstring and function name back... But what about the parameters? Our real `add ` function takes two positional parameters, but because the closure used a generic way of accpeting ***args and ***kwargs, we lose this information.\n",
        "\n",
        "We can use a special function in the `functools` module, called `wraps`. In fact, that function is a decorator itself!"
      ]
    },
    {
      "cell_type": "code",
      "execution_count": null,
      "id": "e5fe7bf8-1023-486e-942d-9697a50a3ecf",
      "metadata": {
        "id": "e5fe7bf8-1023-486e-942d-9697a50a3ecf"
      },
      "outputs": [],
      "source": [
        "from functools import wraps"
      ]
    },
    {
      "cell_type": "code",
      "execution_count": null,
      "id": "dda13131-7269-49a5-82c4-24af2825e6c4",
      "metadata": {
        "id": "dda13131-7269-49a5-82c4-24af2825e6c4"
      },
      "outputs": [],
      "source": [
        "def counter(fn):\n",
        "    count = 0\n",
        "    \n",
        "    @wraps(fn)\n",
        "    def inner(*args, **kwargs):\n",
        "        nonlocal count\n",
        "        count += 1\n",
        "        print(\"{0} was called {1} times\".format(fn.__name__, count))\n",
        "    \n",
        "    return inner"
      ]
    },
    {
      "cell_type": "code",
      "execution_count": null,
      "id": "6cc6a114-04a3-4444-9471-29e3c2a3f009",
      "metadata": {
        "id": "6cc6a114-04a3-4444-9471-29e3c2a3f009"
      },
      "outputs": [],
      "source": [
        "@counter\n",
        "def add(a: int, b: int=10) -> int:\n",
        "    \"\"\"\n",
        "    returns sum of two integers\n",
        "    \"\"\"\n",
        "    return a + b"
      ]
    },
    {
      "cell_type": "code",
      "execution_count": null,
      "id": "3c7dced1-132c-4cf5-a5b5-147aab5e6bea",
      "metadata": {
        "id": "3c7dced1-132c-4cf5-a5b5-147aab5e6bea",
        "outputId": "5c4b60fa-ddb3-431e-f3e1-1e355beb83c4"
      },
      "outputs": [
        {
          "name": "stdout",
          "output_type": "stream",
          "text": [
            "Help on function add in module __main__:\n",
            "\n",
            "add(a: int, b: int = 10) -> int\n",
            "    returns sum of two integers\n",
            "\n"
          ]
        }
      ],
      "source": [
        "help(add)"
      ]
    },
    {
      "cell_type": "markdown",
      "id": "e7e313d7-7a29-4064-87f8-548850736c96",
      "metadata": {
        "id": "e7e313d7-7a29-4064-87f8-548850736c96"
      },
      "source": [
        "Yay!!! Everything is back to normal."
      ]
    },
    {
      "cell_type": "code",
      "execution_count": null,
      "id": "635786e6-6418-44ca-981f-57454bbe225c",
      "metadata": {
        "id": "635786e6-6418-44ca-981f-57454bbe225c",
        "outputId": "233e3e8e-20cf-4113-b81a-6d72c5240b25"
      },
      "outputs": [
        {
          "data": {
            "text/plain": [
              "'@counter\\ndef add(a: int, b: int=10) -> int:\\n    \"\"\"\\n    returns sum of two integers\\n    \"\"\"\\n    return a + b\\n'"
            ]
          },
          "execution_count": 206,
          "metadata": {},
          "output_type": "execute_result"
        }
      ],
      "source": [
        "inspect.getsource(add)"
      ]
    },
    {
      "cell_type": "code",
      "execution_count": null,
      "id": "fd243714-4a08-44c7-bcc9-a0a0163bf949",
      "metadata": {
        "id": "fd243714-4a08-44c7-bcc9-a0a0163bf949",
        "outputId": "7793aebf-00aa-4c9b-8e3b-4bea0585c712"
      },
      "outputs": [
        {
          "data": {
            "text/plain": [
              "<Signature (a: int, b: int = 10) -> int>"
            ]
          },
          "execution_count": 207,
          "metadata": {},
          "output_type": "execute_result"
        }
      ],
      "source": [
        "inspect.signature(add)"
      ]
    },
    {
      "cell_type": "code",
      "execution_count": null,
      "id": "f546ea7c-2bc8-46d6-b46a-3d9bc2be554e",
      "metadata": {
        "id": "f546ea7c-2bc8-46d6-b46a-3d9bc2be554e",
        "outputId": "5fd37a5a-36b0-4365-9307-d977e9333e56"
      },
      "outputs": [
        {
          "data": {
            "text/plain": [
              "mappingproxy({'a': <Parameter \"a: int\">, 'b': <Parameter \"b: int = 10\">})"
            ]
          },
          "execution_count": 208,
          "metadata": {},
          "output_type": "execute_result"
        }
      ],
      "source": [
        "inspect.signature(add).parameters"
      ]
    },
    {
      "cell_type": "markdown",
      "id": "f457ed6b-acd1-46d7-b24c-ec0b6e7d03c1",
      "metadata": {
        "id": "f457ed6b-acd1-46d7-b24c-ec0b6e7d03c1"
      },
      "source": [
        "### 07 - Decorator Application - Timer"
      ]
    },
    {
      "cell_type": "markdown",
      "id": "5f111d8b-37f7-4ea8-9e5c-ade625ca8578",
      "metadata": {
        "id": "5f111d8b-37f7-4ea8-9e5c-ade625ca8578"
      },
      "source": [
        "Here we go back to an example we have seen in the past - timing how long it takes to run a certain fucntion."
      ]
    },
    {
      "cell_type": "code",
      "execution_count": null,
      "id": "5b8bb48e-b4c5-493f-ac13-056e9221dc1d",
      "metadata": {
        "id": "5b8bb48e-b4c5-493f-ac13-056e9221dc1d"
      },
      "outputs": [],
      "source": [
        "def timed(fn):\n",
        "    from time import perf_counter\n",
        "    from functools import wraps\n",
        "    \n",
        "    @wraps(fn)\n",
        "    def inner(*args, **kwargs):\n",
        "        start = perf_counter()\n",
        "        result = fn(*args, **kwargs)\n",
        "        end = perf_counter()\n",
        "        elapsed = end - start\n",
        "        \n",
        "        args_ = [str(a) for a in args]\n",
        "        kwargs_ = ['{0}{1}'.format(k,v) for (k,v) in kwargs.items()]\n",
        "        all_args = args_ + kwargs_\n",
        "        args_str = ','.join(all_args)\n",
        "        print('{0}({1}) took {2:.6f}s to run.'.format(fn.__name__,\n",
        "                                                      args_str,\n",
        "                                                      elapsed))\n",
        "        return result\n",
        "                   \n",
        "    return inner"
      ]
    },
    {
      "cell_type": "markdown",
      "id": "7d7a4c81-ef6f-4f0f-afde-b88b89352cf3",
      "metadata": {
        "id": "7d7a4c81-ef6f-4f0f-afde-b88b89352cf3"
      },
      "source": [
        "Let's write a function that calculates the n-th Fibanacci number:\n",
        "\n",
        "`1, 1, 2, 3, 5, 8, ...`\n",
        "\n",
        "We will implement this using three different methods:\n",
        "\n",
        "1. recursion\n",
        "2. a loop\n",
        "3. functional programming (reduce)\n",
        "\n",
        "We use a 1-based system, e.g. first Fibonacci number has index 1, etc.\n"
      ]
    },
    {
      "cell_type": "markdown",
      "id": "ce136188-dd75-4547-ad74-1a39216f37dd",
      "metadata": {
        "id": "ce136188-dd75-4547-ad74-1a39216f37dd"
      },
      "source": [
        "**Using Recursion**"
      ]
    },
    {
      "cell_type": "code",
      "execution_count": null,
      "id": "34a355f9-0d37-4f19-8fdd-229ae402c35c",
      "metadata": {
        "id": "34a355f9-0d37-4f19-8fdd-229ae402c35c"
      },
      "outputs": [],
      "source": [
        "def calc_recursive_fib(n):\n",
        "    if n <=2:\n",
        "        return 1\n",
        "    else:\n",
        "        return calc_recursive_fib(n-1) + calc_recursive_fib(n-2)"
      ]
    },
    {
      "cell_type": "code",
      "execution_count": null,
      "id": "e5ea6329-795f-4f87-9cbd-e88975c0af34",
      "metadata": {
        "id": "e5ea6329-795f-4f87-9cbd-e88975c0af34",
        "outputId": "72fcc23e-977c-4a1b-c6b8-e1d8b87049f1"
      },
      "outputs": [
        {
          "data": {
            "text/plain": [
              "2"
            ]
          },
          "execution_count": 211,
          "metadata": {},
          "output_type": "execute_result"
        }
      ],
      "source": [
        "calc_recursive_fib(3)"
      ]
    },
    {
      "cell_type": "code",
      "execution_count": null,
      "id": "e72cb5cd-ee07-47ac-906a-62c16332760a",
      "metadata": {
        "id": "e72cb5cd-ee07-47ac-906a-62c16332760a",
        "outputId": "243eb346-84e0-40d8-e7a2-ec7326b9d75f"
      },
      "outputs": [
        {
          "data": {
            "text/plain": [
              "8"
            ]
          },
          "execution_count": 212,
          "metadata": {},
          "output_type": "execute_result"
        }
      ],
      "source": [
        "calc_recursive_fib(6)"
      ]
    },
    {
      "cell_type": "code",
      "execution_count": null,
      "id": "67baecfd-c3f3-45a9-bb6e-ec30bd0a1204",
      "metadata": {
        "id": "67baecfd-c3f3-45a9-bb6e-ec30bd0a1204"
      },
      "outputs": [],
      "source": [
        "@timed\n",
        "def fib_recursed(n):\n",
        "    return calc_recursive_fib(n)"
      ]
    },
    {
      "cell_type": "code",
      "execution_count": null,
      "id": "83911bd5-e6f2-48e5-b26e-76534d25f438",
      "metadata": {
        "id": "83911bd5-e6f2-48e5-b26e-76534d25f438",
        "outputId": "b8bf8c61-5fb3-4cb0-c1b1-bc39d0d90cb1"
      },
      "outputs": [
        {
          "name": "stdout",
          "output_type": "stream",
          "text": [
            "fib_recursed(33) took 1.409342s to run.\n"
          ]
        },
        {
          "data": {
            "text/plain": [
              "3524578"
            ]
          },
          "execution_count": 214,
          "metadata": {},
          "output_type": "execute_result"
        }
      ],
      "source": [
        "fib_recursed(33)"
      ]
    },
    {
      "cell_type": "code",
      "execution_count": null,
      "id": "1018d7ad-6dfe-4091-81ba-5d22277177d8",
      "metadata": {
        "id": "1018d7ad-6dfe-4091-81ba-5d22277177d8",
        "outputId": "c99364d4-b3d0-4638-cf13-c95218c6fd89"
      },
      "outputs": [
        {
          "name": "stdout",
          "output_type": "stream",
          "text": [
            "fib_recursed(34) took 2.101899s to run.\n"
          ]
        },
        {
          "data": {
            "text/plain": [
              "5702887"
            ]
          },
          "execution_count": 215,
          "metadata": {},
          "output_type": "execute_result"
        }
      ],
      "source": [
        "fib_recursed(34)"
      ]
    },
    {
      "cell_type": "code",
      "execution_count": null,
      "id": "f43efaf3-08eb-4310-9ff7-6e1f307223f4",
      "metadata": {
        "id": "f43efaf3-08eb-4310-9ff7-6e1f307223f4",
        "outputId": "dcc93c3e-5d64-415c-f13c-d381f68c4617"
      },
      "outputs": [
        {
          "name": "stdout",
          "output_type": "stream",
          "text": [
            "fib_recursed(35) took 3.193298s to run.\n"
          ]
        },
        {
          "data": {
            "text/plain": [
              "9227465"
            ]
          },
          "execution_count": 216,
          "metadata": {},
          "output_type": "execute_result"
        }
      ],
      "source": [
        "fib_recursed(35)"
      ]
    },
    {
      "cell_type": "markdown",
      "id": "e3c7c330-d125-4856-8f00-b5b4215c3b88",
      "metadata": {
        "id": "e3c7c330-d125-4856-8f00-b5b4215c3b88"
      },
      "source": [
        "There's a reason we did not decorate our recursive function directly!"
      ]
    },
    {
      "cell_type": "code",
      "execution_count": null,
      "id": "a848161e-d5eb-4c95-856c-5fadcc166e02",
      "metadata": {
        "id": "a848161e-d5eb-4c95-856c-5fadcc166e02"
      },
      "outputs": [],
      "source": [
        "@timed\n",
        "def fib_recursed_2(n):\n",
        "    if n<=2:\n",
        "        return 1\n",
        "    else:\n",
        "        return fib_recursed_2(n-1) + fib_recursed_2(n-2)"
      ]
    },
    {
      "cell_type": "code",
      "execution_count": null,
      "id": "7f7d071c-85e0-497c-815f-46641ce6768a",
      "metadata": {
        "id": "7f7d071c-85e0-497c-815f-46641ce6768a",
        "outputId": "8136a449-82f8-4138-c914-67aee2f8a427"
      },
      "outputs": [
        {
          "name": "stdout",
          "output_type": "stream",
          "text": [
            "fib_recursed_2(2) took 0.000001s to run.\n",
            "fib_recursed_2(1) took 0.000001s to run.\n",
            "fib_recursed_2(3) took 0.000534s to run.\n",
            "fib_recursed_2(2) took 0.000001s to run.\n",
            "fib_recursed_2(4) took 0.000685s to run.\n",
            "fib_recursed_2(2) took 0.000001s to run.\n",
            "fib_recursed_2(1) took 0.000001s to run.\n",
            "fib_recursed_2(3) took 0.000133s to run.\n",
            "fib_recursed_2(5) took 0.000951s to run.\n",
            "fib_recursed_2(2) took 0.000001s to run.\n",
            "fib_recursed_2(1) took 0.000001s to run.\n",
            "fib_recursed_2(3) took 0.001983s to run.\n",
            "fib_recursed_2(2) took 0.000001s to run.\n",
            "fib_recursed_2(4) took 0.002256s to run.\n",
            "fib_recursed_2(6) took 0.003304s to run.\n",
            "fib_recursed_2(2) took 0.000000s to run.\n",
            "fib_recursed_2(1) took 0.000000s to run.\n",
            "fib_recursed_2(3) took 0.000042s to run.\n",
            "fib_recursed_2(2) took 0.000000s to run.\n",
            "fib_recursed_2(4) took 0.000113s to run.\n",
            "fib_recursed_2(2) took 0.000000s to run.\n",
            "fib_recursed_2(1) took 0.000000s to run.\n",
            "fib_recursed_2(3) took 0.000267s to run.\n",
            "fib_recursed_2(5) took 0.000455s to run.\n",
            "fib_recursed_2(7) took 0.003814s to run.\n",
            "fib_recursed_2(2) took 0.000000s to run.\n",
            "fib_recursed_2(1) took 0.000000s to run.\n",
            "fib_recursed_2(3) took 0.000227s to run.\n",
            "fib_recursed_2(2) took 0.000000s to run.\n",
            "fib_recursed_2(4) took 0.000282s to run.\n",
            "fib_recursed_2(2) took 0.000000s to run.\n",
            "fib_recursed_2(1) took 0.000000s to run.\n",
            "fib_recursed_2(3) took 0.000066s to run.\n",
            "fib_recursed_2(5) took 0.000668s to run.\n",
            "fib_recursed_2(2) took 0.000000s to run.\n",
            "fib_recursed_2(1) took 0.000000s to run.\n",
            "fib_recursed_2(3) took 0.000063s to run.\n",
            "fib_recursed_2(2) took 0.000000s to run.\n",
            "fib_recursed_2(4) took 0.000129s to run.\n",
            "fib_recursed_2(6) took 0.000887s to run.\n",
            "fib_recursed_2(8) took 0.004758s to run.\n",
            "fib_recursed_2(2) took 0.000000s to run.\n",
            "fib_recursed_2(1) took 0.000000s to run.\n",
            "fib_recursed_2(3) took 0.000054s to run.\n",
            "fib_recursed_2(2) took 0.000000s to run.\n",
            "fib_recursed_2(4) took 0.000125s to run.\n",
            "fib_recursed_2(2) took 0.000000s to run.\n",
            "fib_recursed_2(1) took 0.000000s to run.\n",
            "fib_recursed_2(3) took 0.000055s to run.\n",
            "fib_recursed_2(5) took 0.000244s to run.\n",
            "fib_recursed_2(2) took 0.000001s to run.\n",
            "fib_recursed_2(1) took 0.000001s to run.\n",
            "fib_recursed_2(3) took 0.000150s to run.\n",
            "fib_recursed_2(2) took 0.000001s to run.\n",
            "fib_recursed_2(4) took 0.000503s to run.\n",
            "fib_recursed_2(6) took 0.001213s to run.\n",
            "fib_recursed_2(2) took 0.000001s to run.\n",
            "fib_recursed_2(1) took 0.000001s to run.\n",
            "fib_recursed_2(3) took 0.002143s to run.\n",
            "fib_recursed_2(2) took 0.000001s to run.\n",
            "fib_recursed_2(4) took 0.002250s to run.\n",
            "fib_recursed_2(2) took 0.000000s to run.\n",
            "fib_recursed_2(1) took 0.000001s to run.\n",
            "fib_recursed_2(3) took 0.000080s to run.\n",
            "fib_recursed_2(5) took 0.002403s to run.\n",
            "fib_recursed_2(7) took 0.003713s to run.\n",
            "fib_recursed_2(9) took 0.008528s to run.\n",
            "fib_recursed_2(2) took 0.000000s to run.\n",
            "fib_recursed_2(1) took 0.000000s to run.\n",
            "fib_recursed_2(3) took 0.000052s to run.\n",
            "fib_recursed_2(2) took 0.000000s to run.\n",
            "fib_recursed_2(4) took 0.000104s to run.\n",
            "fib_recursed_2(2) took 0.000000s to run.\n",
            "fib_recursed_2(1) took 0.000000s to run.\n",
            "fib_recursed_2(3) took 0.000059s to run.\n",
            "fib_recursed_2(5) took 0.000215s to run.\n",
            "fib_recursed_2(2) took 0.000000s to run.\n",
            "fib_recursed_2(1) took 0.000000s to run.\n",
            "fib_recursed_2(3) took 0.000078s to run.\n",
            "fib_recursed_2(2) took 0.000001s to run.\n",
            "fib_recursed_2(4) took 0.000352s to run.\n",
            "fib_recursed_2(6) took 0.000624s to run.\n",
            "fib_recursed_2(2) took 0.000000s to run.\n",
            "fib_recursed_2(1) took 0.000000s to run.\n",
            "fib_recursed_2(3) took 0.000068s to run.\n",
            "fib_recursed_2(2) took 0.000000s to run.\n",
            "fib_recursed_2(4) took 0.000120s to run.\n",
            "fib_recursed_2(2) took 0.000000s to run.\n",
            "fib_recursed_2(1) took 0.000000s to run.\n",
            "fib_recursed_2(3) took 0.000054s to run.\n",
            "fib_recursed_2(5) took 0.000232s to run.\n",
            "fib_recursed_2(7) took 0.000946s to run.\n",
            "fib_recursed_2(2) took 0.000000s to run.\n",
            "fib_recursed_2(1) took 0.000000s to run.\n",
            "fib_recursed_2(3) took 0.000052s to run.\n",
            "fib_recursed_2(2) took 0.000000s to run.\n",
            "fib_recursed_2(4) took 0.000557s to run.\n",
            "fib_recursed_2(2) took 0.000000s to run.\n",
            "fib_recursed_2(1) took 0.000000s to run.\n",
            "fib_recursed_2(3) took 0.000066s to run.\n",
            "fib_recursed_2(5) took 0.000873s to run.\n",
            "fib_recursed_2(2) took 0.000000s to run.\n",
            "fib_recursed_2(1) took 0.000000s to run.\n",
            "fib_recursed_2(3) took 0.000064s to run.\n",
            "fib_recursed_2(2) took 0.000000s to run.\n",
            "fib_recursed_2(4) took 0.000124s to run.\n",
            "fib_recursed_2(6) took 0.001055s to run.\n",
            "fib_recursed_2(8) took 0.002055s to run.\n",
            "fib_recursed_2(10) took 0.010640s to run.\n"
          ]
        },
        {
          "data": {
            "text/plain": [
              "55"
            ]
          },
          "execution_count": 218,
          "metadata": {},
          "output_type": "execute_result"
        }
      ],
      "source": [
        "fib_recursed_2(10)"
      ]
    },
    {
      "cell_type": "markdown",
      "id": "55362188-9705-445a-b05c-b8122c5dba18",
      "metadata": {
        "id": "55362188-9705-445a-b05c-b8122c5dba18"
      },
      "source": [
        "Since we are calling the function recursively, we are actually calling the **decorated** function recursively. In this case I wanted the total time to calculate the n-th number, not the time for each recursion.\n",
        "\n",
        "You will notice from the above how inefficent the recusive method is: the same fibonacci numbers are calculated repeatedly! This is why as the value of `n` start increasing beyond 30 we start seeing considerable slow downs."
      ]
    },
    {
      "cell_type": "markdown",
      "id": "04f9eb66-5021-4350-ab3c-f3891e8cfef6",
      "metadata": {
        "id": "04f9eb66-5021-4350-ab3c-f3891e8cfef6"
      },
      "source": [
        "**Using a Loop**"
      ]
    },
    {
      "cell_type": "code",
      "execution_count": null,
      "id": "748b652c-1739-42e2-afcb-98a6875cb4d1",
      "metadata": {
        "id": "748b652c-1739-42e2-afcb-98a6875cb4d1"
      },
      "outputs": [],
      "source": [
        "@timed\n",
        "def fib_loop(n):\n",
        "    fib_1 = 1\n",
        "    fib_2 = 1\n",
        "    for i in range(3, n+1):\n",
        "        fib_1, fib_2 = fib_2, fib_1 + fib_2\n",
        "    return fib_2"
      ]
    },
    {
      "cell_type": "code",
      "execution_count": null,
      "id": "440bc796-ffde-40a3-9ccc-463ac7772e7b",
      "metadata": {
        "id": "440bc796-ffde-40a3-9ccc-463ac7772e7b",
        "outputId": "1a501c37-1f28-4ebd-bd6d-5113ecca73c8"
      },
      "outputs": [
        {
          "name": "stdout",
          "output_type": "stream",
          "text": [
            "fib_loop(3) took 0.000005s to run.\n"
          ]
        },
        {
          "data": {
            "text/plain": [
              "2"
            ]
          },
          "execution_count": 220,
          "metadata": {},
          "output_type": "execute_result"
        }
      ],
      "source": [
        "fib_loop(3)"
      ]
    },
    {
      "cell_type": "code",
      "execution_count": null,
      "id": "017db658-d7db-43ba-8371-d4f5f700cd9f",
      "metadata": {
        "id": "017db658-d7db-43ba-8371-d4f5f700cd9f",
        "outputId": "9e67e750-2b11-4d03-ff1c-185c2f365090"
      },
      "outputs": [
        {
          "name": "stdout",
          "output_type": "stream",
          "text": [
            "fib_loop(6) took 0.000004s to run.\n"
          ]
        },
        {
          "data": {
            "text/plain": [
              "8"
            ]
          },
          "execution_count": 221,
          "metadata": {},
          "output_type": "execute_result"
        }
      ],
      "source": [
        "fib_loop(6)"
      ]
    },
    {
      "cell_type": "code",
      "execution_count": null,
      "id": "4882e861-f3e8-41a6-a1e0-6f723ae08029",
      "metadata": {
        "id": "4882e861-f3e8-41a6-a1e0-6f723ae08029",
        "outputId": "4e49ac42-8c0b-4264-8113-5a8a41506442"
      },
      "outputs": [
        {
          "name": "stdout",
          "output_type": "stream",
          "text": [
            "fib_loop(34) took 0.000008s to run.\n"
          ]
        },
        {
          "data": {
            "text/plain": [
              "5702887"
            ]
          },
          "execution_count": 222,
          "metadata": {},
          "output_type": "execute_result"
        }
      ],
      "source": [
        "fib_loop(34)"
      ]
    },
    {
      "cell_type": "code",
      "execution_count": null,
      "id": "3d9fe31d-66de-44f8-839f-e7db64dd1722",
      "metadata": {
        "id": "3d9fe31d-66de-44f8-839f-e7db64dd1722",
        "outputId": "e8badeac-d194-42b1-9b01-fe01280223dd"
      },
      "outputs": [
        {
          "name": "stdout",
          "output_type": "stream",
          "text": [
            "fib_loop(35) took 0.000007s to run.\n"
          ]
        },
        {
          "data": {
            "text/plain": [
              "9227465"
            ]
          },
          "execution_count": 223,
          "metadata": {},
          "output_type": "execute_result"
        }
      ],
      "source": [
        "fib_loop(35)"
      ]
    },
    {
      "cell_type": "markdown",
      "id": "01df07b2-b47c-4d9a-ad97-9a72d8ef463b",
      "metadata": {
        "id": "01df07b2-b47c-4d9a-ad97-9a72d8ef463b"
      },
      "source": [
        "As you can see this method is muvh more efficient!"
      ]
    },
    {
      "cell_type": "markdown",
      "id": "f5ddd9b3-e8a9-417f-b82f-4fbf4c45cd21",
      "metadata": {
        "id": "f5ddd9b3-e8a9-417f-b82f-4fbf4c45cd21"
      },
      "source": [
        "**Using Reduce**"
      ]
    },
    {
      "cell_type": "markdown",
      "id": "3cb41e74-c1b1-4886-9c23-4233c96494ec",
      "metadata": {
        "id": "3cb41e74-c1b1-4886-9c23-4233c96494ec"
      },
      "source": [
        "We first need to understand how we are going to calculate the Fibonacci sequence using reduce:\n",
        "\n",
        "```\n",
        "n=1:\n",
        "(1, 0) -- > (1, 1)\n",
        "\n",
        "n=2:\n",
        "(1, 0) --> (1, 1) --> (1 + 1, 1) = (2, 1) : result = 2\n",
        "\n",
        "n=3:\n",
        "(1, 0) --> (1, 1) --> (2, 1) --> (2+1, 2) = (3, 2) : result = 3\n",
        "\n",
        "n=4:\n",
        "(1, 0) --> (1, 1) --> (2, 1) --> (3, 2) --> (5, 3) : result = 5\n",
        "\n",
        "```\n",
        "In general each step in the reduction is as follows:\n",
        "\n",
        "```\n",
        "previous value = (a, b)\n",
        "new value = (a+b, a)\n",
        "\n",
        "```\n",
        "if we start our reduction with an initial value of `(1, 0)` we need to run our \"loop\" n times.\n",
        "\n",
        "We therefore use a \"dummy\" sequence of length `n` to create `n` steps in our reduce."
      ]
    },
    {
      "cell_type": "code",
      "execution_count": null,
      "id": "d4f9a957-7853-41e7-97d3-700e67dfeae7",
      "metadata": {
        "id": "d4f9a957-7853-41e7-97d3-700e67dfeae7"
      },
      "outputs": [],
      "source": [
        "from functools import reduce\n",
        "\n",
        "@timed\n",
        "def fib_reduce(n):\n",
        "    initial = (1, 0)\n",
        "    dummy = range(n-1)\n",
        "    fib_n = reduce(lambda prev, n: (prev[0] + prev[1], prev[0]),\n",
        "                   dummy,\n",
        "                   initial)\n",
        "    return fib_n[0]"
      ]
    },
    {
      "cell_type": "code",
      "execution_count": null,
      "id": "3307f528-ac4b-4ade-925c-67163fcdf4d6",
      "metadata": {
        "id": "3307f528-ac4b-4ade-925c-67163fcdf4d6",
        "outputId": "1fe80c48-6095-4e61-a8a5-c435c57dce1c"
      },
      "outputs": [
        {
          "name": "stdout",
          "output_type": "stream",
          "text": [
            "fib_reduce(3) took 0.000008s to run.\n"
          ]
        },
        {
          "data": {
            "text/plain": [
              "2"
            ]
          },
          "execution_count": 225,
          "metadata": {},
          "output_type": "execute_result"
        }
      ],
      "source": [
        "fib_reduce(3)"
      ]
    },
    {
      "cell_type": "code",
      "execution_count": null,
      "id": "471a0638-6bfb-4459-b97a-ea32606b4daf",
      "metadata": {
        "id": "471a0638-6bfb-4459-b97a-ea32606b4daf",
        "outputId": "58ca3360-ab26-401d-b114-452b5341c79f"
      },
      "outputs": [
        {
          "name": "stdout",
          "output_type": "stream",
          "text": [
            "fib_reduce(6) took 0.000008s to run.\n"
          ]
        },
        {
          "data": {
            "text/plain": [
              "8"
            ]
          },
          "execution_count": 226,
          "metadata": {},
          "output_type": "execute_result"
        }
      ],
      "source": [
        "fib_reduce(6)"
      ]
    },
    {
      "cell_type": "code",
      "execution_count": null,
      "id": "0ca321df-3f8d-472a-b551-15a590a4a31b",
      "metadata": {
        "id": "0ca321df-3f8d-472a-b551-15a590a4a31b",
        "outputId": "90de99e0-cb7e-4972-c6c0-61fb3d698d2a"
      },
      "outputs": [
        {
          "name": "stdout",
          "output_type": "stream",
          "text": [
            "fib_reduce(34) took 0.000020s to run.\n"
          ]
        },
        {
          "data": {
            "text/plain": [
              "5702887"
            ]
          },
          "execution_count": 227,
          "metadata": {},
          "output_type": "execute_result"
        }
      ],
      "source": [
        "fib_reduce(34)"
      ]
    },
    {
      "cell_type": "code",
      "execution_count": null,
      "id": "0fa9f143-ad6e-4966-ad3d-2dbd7852c21e",
      "metadata": {
        "id": "0fa9f143-ad6e-4966-ad3d-2dbd7852c21e",
        "outputId": "e0ff5e3d-63e6-4e53-f427-a4956b068699"
      },
      "outputs": [
        {
          "name": "stdout",
          "output_type": "stream",
          "text": [
            "fib_reduce(35) took 0.000021s to run.\n"
          ]
        },
        {
          "data": {
            "text/plain": [
              "9227465"
            ]
          },
          "execution_count": 228,
          "metadata": {},
          "output_type": "execute_result"
        }
      ],
      "source": [
        "fib_reduce(35)"
      ]
    },
    {
      "cell_type": "markdown",
      "id": "4a8eb2f4-e122-47f3-a7c0-ed641a851f83",
      "metadata": {
        "id": "4a8eb2f4-e122-47f3-a7c0-ed641a851f83"
      },
      "source": [
        "Noe we can run a quick comparison between the various timed implementations:"
      ]
    },
    {
      "cell_type": "code",
      "execution_count": null,
      "id": "33848eb0-afd8-4a2b-816d-3eec57487910",
      "metadata": {
        "id": "33848eb0-afd8-4a2b-816d-3eec57487910",
        "outputId": "ecdfbd52-9ffe-4061-f86a-b91d917fe019"
      },
      "outputs": [
        {
          "name": "stdout",
          "output_type": "stream",
          "text": [
            "fib_recursed(35) took 3.273193s to run.\n",
            "fib_loop(35) took 0.000006s to run.\n",
            "fib_reduce(35) took 0.000014s to run.\n"
          ]
        },
        {
          "data": {
            "text/plain": [
              "9227465"
            ]
          },
          "execution_count": 229,
          "metadata": {},
          "output_type": "execute_result"
        }
      ],
      "source": [
        "fib_recursed(35)\n",
        "fib_loop(35)\n",
        "fib_reduce(35)"
      ]
    },
    {
      "cell_type": "markdown",
      "id": "5cf68f0e-4732-4d9c-83ad-6f07bada7352",
      "metadata": {
        "id": "5cf68f0e-4732-4d9c-83ad-6f07bada7352"
      },
      "source": [
        "Even though the recursive algorithm is by far the easisest to understand, it is also the slowest. We'll see how to fix this in an upcoming section using a technique called **memoization**.\n",
        "\n",
        "First let's focus on the loop and reduce variants. Our timing is not very effective since we only time a single calculation for each - ther could be some variance if we run these tests multiple times:"
      ]
    },
    {
      "cell_type": "code",
      "execution_count": null,
      "id": "ebf654a6-18d1-41f0-bd37-ca766c0703dd",
      "metadata": {
        "id": "ebf654a6-18d1-41f0-bd37-ca766c0703dd",
        "outputId": "2686960d-281c-4ab9-dbd1-eb6021146346"
      },
      "outputs": [
        {
          "name": "stdout",
          "output_type": "stream",
          "text": [
            "fib_loop(1000) took 0.000195s to run.\n",
            "fib_loop(1000) took 0.000171s to run.\n",
            "fib_loop(1000) took 0.000165s to run.\n",
            "fib_loop(1000) took 0.000163s to run.\n",
            "fib_loop(1000) took 0.000170s to run.\n",
            "fib_loop(1000) took 0.000098s to run.\n",
            "fib_loop(1000) took 0.000173s to run.\n",
            "fib_loop(1000) took 0.000216s to run.\n",
            "fib_loop(1000) took 0.000175s to run.\n",
            "fib_loop(1000) took 0.000155s to run.\n"
          ]
        }
      ],
      "source": [
        "for i in range(10):\n",
        "    result = fib_loop(1000)"
      ]
    },
    {
      "cell_type": "code",
      "execution_count": null,
      "id": "19374a6d-2771-437a-89e3-fb695893df48",
      "metadata": {
        "id": "19374a6d-2771-437a-89e3-fb695893df48",
        "outputId": "696d9088-8bed-4153-c0f0-ec62a8024350"
      },
      "outputs": [
        {
          "name": "stdout",
          "output_type": "stream",
          "text": [
            "fib_reduce(1000) took 0.000379s to run.\n",
            "fib_reduce(1000) took 0.000423s to run.\n",
            "fib_reduce(1000) took 0.000295s to run.\n",
            "fib_reduce(1000) took 0.000286s to run.\n",
            "fib_reduce(1000) took 0.000517s to run.\n",
            "fib_reduce(1000) took 0.000509s to run.\n",
            "fib_reduce(1000) took 0.000626s to run.\n",
            "fib_reduce(1000) took 0.000598s to run.\n",
            "fib_reduce(1000) took 0.000343s to run.\n",
            "fib_reduce(1000) took 0.000323s to run.\n"
          ]
        }
      ],
      "source": [
        "for i in range(10):\n",
        "    result = fib_reduce(1000)"
      ]
    },
    {
      "cell_type": "markdown",
      "id": "3ea23c91-188f-4a9f-a59b-1091bd8d93a2",
      "metadata": {
        "id": "3ea23c91-188f-4a9f-a59b-1091bd8d93a2"
      },
      "source": [
        "In general it is better to time the same function call multiple times and generate and average of the run times.\n",
        "\n",
        "We'll see in an upcoming section how we can do this from within our decorator.\n",
        "\n",
        "In the meantime observe that the simple loop approach seems to perform about twice as fast as the reduce approach!!\n",
        "\n",
        "The moral of this side note is that simply because you can do something in Python using some fancy or cool technique does not mean you should!\n",
        "\n",
        "We technically could write our reduce-based function as a one liner:"
      ]
    },
    {
      "cell_type": "code",
      "execution_count": null,
      "id": "11b53efa-7e64-4dc6-821f-fd2101fa3b46",
      "metadata": {
        "id": "11b53efa-7e64-4dc6-821f-fd2101fa3b46"
      },
      "outputs": [],
      "source": [
        "from functools import reduce\n",
        "fib_1 = timed(lambda n: reduce(lambda prev, n: (prev[0] + prev[1], prev[0]),\n",
        "                               range(n),\n",
        "                               (0, 1))[0])"
      ]
    },
    {
      "cell_type": "code",
      "execution_count": null,
      "id": "9416d84e-4cf7-4505-acc3-5c3c4a969725",
      "metadata": {
        "id": "9416d84e-4cf7-4505-acc3-5c3c4a969725",
        "outputId": "b117364e-974a-4fa1-fde8-7f86bcd80fa1"
      },
      "outputs": [
        {
          "name": "stdout",
          "output_type": "stream",
          "text": [
            "fib_loop(100) took 0.000012s to run.\n"
          ]
        },
        {
          "data": {
            "text/plain": [
              "354224848179261915075"
            ]
          },
          "execution_count": 233,
          "metadata": {},
          "output_type": "execute_result"
        }
      ],
      "source": [
        "fib_loop(100)"
      ]
    },
    {
      "cell_type": "code",
      "execution_count": null,
      "id": "0c143dec-0023-4519-9c96-e438ac13f476",
      "metadata": {
        "id": "0c143dec-0023-4519-9c96-e438ac13f476",
        "outputId": "fb20f679-b067-4803-cce3-33fb5219b1cb"
      },
      "outputs": [
        {
          "name": "stdout",
          "output_type": "stream",
          "text": [
            "<lambda>(100) took 0.000045s to run.\n"
          ]
        },
        {
          "data": {
            "text/plain": [
              "354224848179261915075"
            ]
          },
          "execution_count": 234,
          "metadata": {},
          "output_type": "execute_result"
        }
      ],
      "source": [
        "fib_1(100)"
      ]
    },
    {
      "cell_type": "markdown",
      "id": "e0132134-f10d-4410-adc6-3491de28f069",
      "metadata": {
        "id": "e0132134-f10d-4410-adc6-3491de28f069"
      },
      "source": [
        "So yes, it's cool that you can write this using a single line of code, but consider two things here:\n",
        "\n",
        "1. Is it as efficient as another method?\n",
        "2. Is the code readable=\n",
        "\n",
        "Code readability is something I cannot emphasize enough. Given similar efficiencies (cpu / memory), give preference to code that is more easily understandable!\n",
        "\n",
        "Sometimes, if the efficiency is not greatly impacted (or does not matter in absolute terms), I might even give preference to less efficient, but mote readable (i.e. understandable), code.\n",
        "\n",
        "But enough of the soapbox already :-)"
      ]
    },
    {
      "cell_type": "markdown",
      "id": "b32bd43d-7c2c-4ee8-8aae-f638460e85da",
      "metadata": {
        "id": "b32bd43d-7c2c-4ee8-8aae-f638460e85da"
      },
      "source": [
        "### 08 - Decorator Application - Logger, Stacked"
      ]
    },
    {
      "cell_type": "markdown",
      "id": "e7a10500-45e5-40c5-a6da-77a7e5282010",
      "metadata": {
        "id": "e7a10500-45e5-40c5-a6da-77a7e5282010"
      },
      "source": [
        "In this example we're going to create a utility decorator the will log function calls (to the console, but in practice you would be writing your logs to a file (e.g. using Python's built-in logger), or to a database, etc."
      ]
    },
    {
      "cell_type": "code",
      "execution_count": null,
      "id": "f19247bb-10c4-4c55-9c34-0c9a3ac3acd3",
      "metadata": {
        "id": "f19247bb-10c4-4c55-9c34-0c9a3ac3acd3"
      },
      "outputs": [],
      "source": [
        "def logged(fn):\n",
        "    from functools import wraps\n",
        "    from datetime import datetime, timezone\n",
        "    \n",
        "    @wraps(fn)\n",
        "    def inner(*args, **kwargs):\n",
        "        run_dt = datetime.now(timezone.utc)\n",
        "        result = fn(*args, **kwargs)\n",
        "        print('{0}: called {1}'.format(fn.__name__, run_dt))\n",
        "        return result\n",
        "    \n",
        "    return inner"
      ]
    },
    {
      "cell_type": "code",
      "execution_count": null,
      "id": "e7603c47-5b1c-4b02-887e-e94324723fb3",
      "metadata": {
        "id": "e7603c47-5b1c-4b02-887e-e94324723fb3"
      },
      "outputs": [],
      "source": [
        "@logged\n",
        "def func_1():\n",
        "    pass"
      ]
    },
    {
      "cell_type": "code",
      "execution_count": null,
      "id": "e9f4a6b6-9db7-456f-abb8-f993a1e0090a",
      "metadata": {
        "id": "e9f4a6b6-9db7-456f-abb8-f993a1e0090a"
      },
      "outputs": [],
      "source": [
        "@logged\n",
        "def func_2():\n",
        "    pass"
      ]
    },
    {
      "cell_type": "code",
      "execution_count": null,
      "id": "aae871ed-10e4-475d-a937-4584fbff0269",
      "metadata": {
        "id": "aae871ed-10e4-475d-a937-4584fbff0269",
        "outputId": "4acc0bab-f8f7-40ab-f224-acff58f46c3a"
      },
      "outputs": [
        {
          "name": "stdout",
          "output_type": "stream",
          "text": [
            "func_1: called 2022-11-18 16:52:30.005126+00:00\n"
          ]
        }
      ],
      "source": [
        "func_1()"
      ]
    },
    {
      "cell_type": "code",
      "execution_count": null,
      "id": "95fb2d59-22ca-4734-8d21-8a7dae20bd21",
      "metadata": {
        "id": "95fb2d59-22ca-4734-8d21-8a7dae20bd21",
        "outputId": "0fa6ff80-757e-4353-9fa6-411ef5f9c44a"
      },
      "outputs": [
        {
          "name": "stdout",
          "output_type": "stream",
          "text": [
            "func_2: called 2022-11-18 16:52:30.021121+00:00\n"
          ]
        }
      ],
      "source": [
        "func_2()"
      ]
    },
    {
      "cell_type": "markdown",
      "id": "a459d712-1537-4bd3-81a5-d2f9c9fd4a30",
      "metadata": {
        "id": "a459d712-1537-4bd3-81a5-d2f9c9fd4a30"
      },
      "source": [
        "Now we may additionaly also want to time the function. We can certainly include the code to do so in our `logged` decorator, but we could also just use the `@timed` decorator we already wrote by **stacking** our decorators."
      ]
    },
    {
      "cell_type": "code",
      "execution_count": null,
      "id": "cfe0a87a-0fa0-4c63-9ea1-eb761936d3e0",
      "metadata": {
        "id": "cfe0a87a-0fa0-4c63-9ea1-eb761936d3e0"
      },
      "outputs": [],
      "source": [
        "def timed(fn):\n",
        "    from functools import wraps\n",
        "    from time import perf_counter\n",
        "    \n",
        "    @wraps(fn)\n",
        "    def inner(*args, **kwargs):\n",
        "        start = perf_counter()\n",
        "        result = fn(*args, **kwargs)\n",
        "        end = perf_counter()\n",
        "        print('{0} ran for {1:.6f}s'.format(fn.__name__, end-start))\n",
        "        return result\n",
        "    \n",
        "    return inner"
      ]
    },
    {
      "cell_type": "code",
      "execution_count": null,
      "id": "6b039d20-cc33-430f-9f4d-e941e35a4b8a",
      "metadata": {
        "id": "6b039d20-cc33-430f-9f4d-e941e35a4b8a"
      },
      "outputs": [],
      "source": [
        "@timed\n",
        "@logged\n",
        "def factorial(n):\n",
        "    from operator import mul\n",
        "    from functools import reduce\n",
        "    \n",
        "    return reduce(mul, range(1, n+1))"
      ]
    },
    {
      "cell_type": "code",
      "execution_count": null,
      "id": "d9ad4499-8068-4244-8362-909eb5e49f9c",
      "metadata": {
        "id": "d9ad4499-8068-4244-8362-909eb5e49f9c",
        "outputId": "bb1411d7-ced7-4af1-b604-5ce240f7313c"
      },
      "outputs": [
        {
          "name": "stdout",
          "output_type": "stream",
          "text": [
            "factorial: called 2022-11-18 16:52:30.086676+00:00\n",
            "factorial ran for 0.000535s\n"
          ]
        },
        {
          "data": {
            "text/plain": [
              "3628800"
            ]
          },
          "execution_count": 242,
          "metadata": {},
          "output_type": "execute_result"
        }
      ],
      "source": [
        "factorial(10)"
      ]
    },
    {
      "cell_type": "markdown",
      "id": "247d8c0d-7343-4219-8591-5c37ccc28fc9",
      "metadata": {
        "id": "247d8c0d-7343-4219-8591-5c37ccc28fc9"
      },
      "source": [
        "Note that the order in which we stack the decorators can make a difference!\n",
        "\n",
        "Remember that this is because our stacked decorators essentially amounted to:"
      ]
    },
    {
      "cell_type": "code",
      "execution_count": null,
      "id": "0afb70e6-eea6-4538-bd0a-117edc98307d",
      "metadata": {
        "id": "0afb70e6-eea6-4538-bd0a-117edc98307d"
      },
      "outputs": [],
      "source": [
        "def factorial(n):\n",
        "    from operator import mul\n",
        "    from functools import reduce\n",
        "    \n",
        "    return reduce(mul, range(1, n+1))\n",
        "\n",
        "factorial = timed(logged(factorial))"
      ]
    },
    {
      "cell_type": "markdown",
      "id": "0bed11cb-2fa6-4846-b874-6c7df902878e",
      "metadata": {
        "id": "0bed11cb-2fa6-4846-b874-6c7df902878e"
      },
      "source": [
        "So in this case the `timed` decorator will be called first, followed by the `logged` decorator.\n",
        "\n",
        "You may wonder why the printed output seems reversed. Look at how the decorators were defined - they first ran the function passed in, and then printed the result.\n",
        "\n",
        "So in the above example, a simplified look at what happens in each decorator:\n",
        "\n",
        "* `timed(fn)(*args, **kwargs):`\n",
        "    1. calls `fn(*args, **kwargs)`\n",
        "    2. prints timing\n",
        "* `logged(fn)(*args, **kwargs):`\n",
        "    1. calls `fn(*args, **kwargs)`\n",
        "    2. prints log info\n",
        "    \n",
        "So, calling `factorial = timed(logged(factorial))`\n",
        "\n",
        "is equivalent to:\n",
        "\n",
        "```\n",
        "fn = logged(factorial)\n",
        "factorial = timed(fn)\n",
        "    \n",
        "factorial(n) --> call timed(fn)(n)\n",
        "             --> call fn(n), then printing timing\n",
        "             --> call logged(original_factorial)(n), then print timing\n",
        "             --> call original_factorial(n), then log, then print timing\n",
        "```\n",
        "\n",
        "So as you can see, the `timed` decorator ran first, but it called the logged decorated function first, then printed the result - hence why the print output seems reversed."
      ]
    },
    {
      "cell_type": "code",
      "execution_count": null,
      "id": "ea19aa9d-ecd6-4a10-b35a-b4a2d06500d6",
      "metadata": {
        "id": "ea19aa9d-ecd6-4a10-b35a-b4a2d06500d6",
        "outputId": "ebc6abae-46d9-478a-9f7d-f52aebdd413a"
      },
      "outputs": [
        {
          "name": "stdout",
          "output_type": "stream",
          "text": [
            "factorial: called 2022-11-18 16:52:30.133233+00:00\n",
            "factorial ran for 0.000235s\n"
          ]
        },
        {
          "data": {
            "text/plain": [
              "3628800"
            ]
          },
          "execution_count": 244,
          "metadata": {},
          "output_type": "execute_result"
        }
      ],
      "source": [
        "factorial(10)"
      ]
    },
    {
      "cell_type": "markdown",
      "id": "9e202e2f-95a5-42c5-bbcc-c81c98daef6f",
      "metadata": {
        "id": "9e202e2f-95a5-42c5-bbcc-c81c98daef6f"
      },
      "source": [
        "But in the following case, the `logged` decorator will run first, followed by the `timed` decorator:"
      ]
    },
    {
      "cell_type": "code",
      "execution_count": null,
      "id": "b229c2b5-d3e2-43c3-b17f-44f0bcd70fa7",
      "metadata": {
        "id": "b229c2b5-d3e2-43c3-b17f-44f0bcd70fa7"
      },
      "outputs": [],
      "source": [
        "def factorial(n):\n",
        "    from operator import mul\n",
        "    from functools import reduce\n",
        "    \n",
        "    return reduce(mul, range(1, n+1))\n",
        "\n",
        "factorial = logged(timed(factorial))"
      ]
    },
    {
      "cell_type": "code",
      "execution_count": null,
      "id": "28571497-42a7-48e2-96b7-f5f8f05103d8",
      "metadata": {
        "id": "28571497-42a7-48e2-96b7-f5f8f05103d8",
        "outputId": "dba22141-40dc-46dd-b218-2493b21b8f7e"
      },
      "outputs": [
        {
          "name": "stdout",
          "output_type": "stream",
          "text": [
            "factorial ran for 0.000013s\n",
            "factorial: called 2022-11-18 16:52:30.164312+00:00\n"
          ]
        },
        {
          "data": {
            "text/plain": [
              "3628800"
            ]
          },
          "execution_count": 246,
          "metadata": {},
          "output_type": "execute_result"
        }
      ],
      "source": [
        "factorial(10)"
      ]
    },
    {
      "cell_type": "markdown",
      "id": "da0e64d5-648b-4bc6-b6e1-a6e5bdcb8f49",
      "metadata": {
        "id": "da0e64d5-648b-4bc6-b6e1-a6e5bdcb8f49"
      },
      "source": [
        "Or, using the `@` notation:"
      ]
    },
    {
      "cell_type": "code",
      "execution_count": null,
      "id": "088402ce-e0df-45d2-9c8c-c32d5c268f40",
      "metadata": {
        "id": "088402ce-e0df-45d2-9c8c-c32d5c268f40"
      },
      "outputs": [],
      "source": [
        "@logged\n",
        "@timed\n",
        "def factorial(n):\n",
        "    from operator import mul\n",
        "    from functools import reduce\n",
        "    \n",
        "    return reduce(mul, range(1, n+1))"
      ]
    },
    {
      "cell_type": "code",
      "execution_count": null,
      "id": "ee47af7e-5729-4db6-8509-77fb3ae9daa1",
      "metadata": {
        "id": "ee47af7e-5729-4db6-8509-77fb3ae9daa1",
        "outputId": "5869eb21-d08c-40f0-db43-c32ce5fd01da"
      },
      "outputs": [
        {
          "name": "stdout",
          "output_type": "stream",
          "text": [
            "factorial ran for 0.000013s\n",
            "factorial: called 2022-11-18 16:52:30.196315+00:00\n"
          ]
        },
        {
          "data": {
            "text/plain": [
              "3628800"
            ]
          },
          "execution_count": 248,
          "metadata": {},
          "output_type": "execute_result"
        }
      ],
      "source": [
        "factorial(10)"
      ]
    },
    {
      "cell_type": "code",
      "execution_count": null,
      "id": "c26425aa-90c0-4176-85c1-b337dc81ffe9",
      "metadata": {
        "id": "c26425aa-90c0-4176-85c1-b337dc81ffe9"
      },
      "outputs": [],
      "source": [
        "@timed\n",
        "@logged\n",
        "def factorial(n):\n",
        "    from operator import mul\n",
        "    from functools import reduce\n",
        "    \n",
        "    return reduce(mul, range(1, n+1))"
      ]
    },
    {
      "cell_type": "code",
      "execution_count": null,
      "id": "2a483c9c-3a69-4ce2-adf6-62279a416896",
      "metadata": {
        "id": "2a483c9c-3a69-4ce2-adf6-62279a416896",
        "outputId": "61fc63ca-2aa1-45f5-a95a-781b50e62240"
      },
      "outputs": [
        {
          "name": "stdout",
          "output_type": "stream",
          "text": [
            "factorial: called 2022-11-18 16:52:30.228311+00:00\n",
            "factorial ran for 0.000453s\n"
          ]
        },
        {
          "data": {
            "text/plain": [
              "3628800"
            ]
          },
          "execution_count": 250,
          "metadata": {},
          "output_type": "execute_result"
        }
      ],
      "source": [
        "factorial(10)"
      ]
    },
    {
      "cell_type": "markdown",
      "id": "3312effe-9277-4321-b2f0-bea89f637e1f",
      "metadata": {
        "id": "3312effe-9277-4321-b2f0-bea89f637e1f"
      },
      "source": [
        "To make this clearer, let's write two very simple decorators as follows:"
      ]
    },
    {
      "cell_type": "code",
      "execution_count": null,
      "id": "d258be87-9d6c-470f-92b9-02e64e0ea10b",
      "metadata": {
        "id": "d258be87-9d6c-470f-92b9-02e64e0ea10b"
      },
      "outputs": [],
      "source": [
        "def dec_1(fn):\n",
        "    def inner():\n",
        "        print('running dec_1')\n",
        "        return fn()\n",
        "    return inner"
      ]
    },
    {
      "cell_type": "code",
      "execution_count": null,
      "id": "f8811b00-190c-4e6e-ae69-6e2fd9dae9e8",
      "metadata": {
        "id": "f8811b00-190c-4e6e-ae69-6e2fd9dae9e8"
      },
      "outputs": [],
      "source": [
        "def dec_2(fn):\n",
        "    def inner():\n",
        "        print('running dec_2')\n",
        "        return fn()\n",
        "    return inner"
      ]
    },
    {
      "cell_type": "code",
      "execution_count": null,
      "id": "1c1159d6-25e5-41c6-b1d3-6b9980f3f42f",
      "metadata": {
        "id": "1c1159d6-25e5-41c6-b1d3-6b9980f3f42f"
      },
      "outputs": [],
      "source": [
        "@dec_1\n",
        "@dec_2\n",
        "def my_func():\n",
        "    print('running my_func')"
      ]
    },
    {
      "cell_type": "code",
      "execution_count": null,
      "id": "23ebe6ce-4bc0-46c5-a108-19a992bfc33a",
      "metadata": {
        "id": "23ebe6ce-4bc0-46c5-a108-19a992bfc33a",
        "outputId": "55feb82c-79cd-45b0-cdef-886d61207051"
      },
      "outputs": [
        {
          "name": "stdout",
          "output_type": "stream",
          "text": [
            "running dec_1\n",
            "running dec_2\n",
            "running my_func\n"
          ]
        }
      ],
      "source": [
        "my_func()"
      ]
    },
    {
      "cell_type": "markdown",
      "id": "cb7d7551-5f89-433d-8f19-79f696526fc0",
      "metadata": {
        "id": "cb7d7551-5f89-433d-8f19-79f696526fc0"
      },
      "source": [
        "---\n",
        "**BE CAREFUL**\n",
        "\n",
        "*There is a priority difference between `return result` and `return fn()`*"
      ]
    },
    {
      "cell_type": "markdown",
      "id": "eae21a39-066b-4bdc-8994-65eca2a80a9d",
      "metadata": {
        "id": "eae21a39-066b-4bdc-8994-65eca2a80a9d"
      },
      "source": [
        "You may wonder whether this really matters in practice. And yes, it can.\n",
        "\n",
        "Consider an API that contains various functions that can be called. However, endpoints are secured and can only be run by authenticated users who have some specific role(s). If they do not have the role you want to return an unauthorized error. Bur if they do, then you want to log that they called the endpoint.\n",
        "\n",
        "In this case you may have one decorator that is used to check authentication and permissions (and immediately return an unauthorized error from the API if applicable), and the other to log the call.\n",
        "\n",
        "If you decorated it this way:\n",
        "\n",
        "```\n",
        "@log\n",
        "@authorize\n",
        "def my_endpoint():\n",
        "    pass\n",
        "```\n",
        "\n",
        "then the call would always be logged.\n",
        "\n",
        "But, in this instance:\n",
        "\n",
        "```\n",
        "@authorize\n",
        "@log\n",
        "def my_endpoint():\n",
        "    pass\n",
        "```\n",
        "\n",
        "your endpoint would only get logged if the user passed the `authorize` test."
      ]
    },
    {
      "cell_type": "markdown",
      "id": "487046c9-71fb-4ef6-a7f8-19a8a3029d29",
      "metadata": {
        "id": "487046c9-71fb-4ef6-a7f8-19a8a3029d29"
      },
      "source": [
        "### 09 - Decorators Application (Memoization)"
      ]
    },
    {
      "cell_type": "markdown",
      "id": "8e827b99-649b-4b9d-9708-e62a7ad05178",
      "metadata": {
        "id": "8e827b99-649b-4b9d-9708-e62a7ad05178"
      },
      "source": [
        "Let's go back to our Fibonacci example:"
      ]
    },
    {
      "cell_type": "code",
      "execution_count": null,
      "id": "8c7f312d-eda7-4a50-afea-48a004c2cb4a",
      "metadata": {
        "id": "8c7f312d-eda7-4a50-afea-48a004c2cb4a"
      },
      "outputs": [],
      "source": [
        "def fib(n):\n",
        "    print('Calculating fib({0})'.format(n))\n",
        "    return 1 if n < 3 else fib(n-1) + fib(n-2)"
      ]
    },
    {
      "cell_type": "markdown",
      "id": "a730da24-cd3b-4def-a694-0927fe9b9689",
      "metadata": {
        "id": "a730da24-cd3b-4def-a694-0927fe9b9689"
      },
      "source": [
        "When we run this, we see tahat it is quite inefficient, as the same Fibonacci numbers get calculated multiple times:"
      ]
    },
    {
      "cell_type": "code",
      "execution_count": null,
      "id": "1610b318-4d7d-4cc8-a743-fdc308e77534",
      "metadata": {
        "id": "1610b318-4d7d-4cc8-a743-fdc308e77534",
        "outputId": "a34b6e47-2c19-4d6b-9593-f4fa908778d1"
      },
      "outputs": [
        {
          "name": "stdout",
          "output_type": "stream",
          "text": [
            "Calculating fib(6)\n",
            "Calculating fib(5)\n",
            "Calculating fib(4)\n",
            "Calculating fib(3)\n",
            "Calculating fib(2)\n",
            "Calculating fib(1)\n",
            "Calculating fib(2)\n",
            "Calculating fib(3)\n",
            "Calculating fib(2)\n",
            "Calculating fib(1)\n",
            "Calculating fib(4)\n",
            "Calculating fib(3)\n",
            "Calculating fib(2)\n",
            "Calculating fib(1)\n",
            "Calculating fib(2)\n"
          ]
        },
        {
          "data": {
            "text/plain": [
              "8"
            ]
          },
          "execution_count": 256,
          "metadata": {},
          "output_type": "execute_result"
        }
      ],
      "source": [
        "fib(6)"
      ]
    },
    {
      "cell_type": "markdown",
      "id": "24831174-12d5-4582-aaaf-31c8862c3adf",
      "metadata": {
        "id": "24831174-12d5-4582-aaaf-31c8862c3adf"
      },
      "source": [
        "It would be better if we could somehow \"store\" these results, sof if we have calculated `fib(4)` and `fib(3)` before, we could simply recall the these values when calculating `fib(5) = fib(4) + fib(3)` instead of recalculating them.\n",
        "\n",
        "This concept of improving the efficiency of our code by caching pre-calculated values so they do not need to be re-calculated everytime, is called \"memoization\"\n",
        "\n",
        "We can approach this using a simple class and a dictionary that stores any Fibonacci number that's already been calculated:"
      ]
    },
    {
      "cell_type": "code",
      "execution_count": null,
      "id": "2553b439-93b9-491a-a78e-265e696546f1",
      "metadata": {
        "id": "2553b439-93b9-491a-a78e-265e696546f1"
      },
      "outputs": [],
      "source": [
        "class Fib:\n",
        "    def __init__(self):\n",
        "        self.cache = {1: 1, 2: 1}\n",
        "        \n",
        "    def fib(self, n):\n",
        "        if n not in self.cache:\n",
        "            print('Calculating fib({0})'.format(n))\n",
        "            self.cache[n] = self.fib(n-1) + self.fib(n-2)\n",
        "        return self.cache[n]"
      ]
    },
    {
      "cell_type": "code",
      "execution_count": null,
      "id": "3f97cd7c-dd48-4674-8254-43fb899e2e8d",
      "metadata": {
        "id": "3f97cd7c-dd48-4674-8254-43fb899e2e8d"
      },
      "outputs": [],
      "source": [
        "f = Fib()"
      ]
    },
    {
      "cell_type": "code",
      "execution_count": null,
      "id": "fad0c426-80ff-44f2-b115-0d694a4ccdc7",
      "metadata": {
        "id": "fad0c426-80ff-44f2-b115-0d694a4ccdc7",
        "outputId": "b8ececa9-9128-45db-d294-32ec83f10661"
      },
      "outputs": [
        {
          "data": {
            "text/plain": [
              "1"
            ]
          },
          "execution_count": 259,
          "metadata": {},
          "output_type": "execute_result"
        }
      ],
      "source": [
        "f.fib(1)"
      ]
    },
    {
      "cell_type": "code",
      "execution_count": null,
      "id": "cbd1a66e-eef0-4e6e-8e2c-2bc395584fb7",
      "metadata": {
        "id": "cbd1a66e-eef0-4e6e-8e2c-2bc395584fb7",
        "outputId": "0731cd7d-7594-415f-893a-6b14312d0fd2"
      },
      "outputs": [
        {
          "name": "stdout",
          "output_type": "stream",
          "text": [
            "Calculating fib(6)\n",
            "Calculating fib(5)\n",
            "Calculating fib(4)\n",
            "Calculating fib(3)\n"
          ]
        },
        {
          "data": {
            "text/plain": [
              "8"
            ]
          },
          "execution_count": 260,
          "metadata": {},
          "output_type": "execute_result"
        }
      ],
      "source": [
        "f.fib(6)"
      ]
    },
    {
      "cell_type": "code",
      "execution_count": null,
      "id": "29607abd-ed6b-46ea-ad44-c7de245256b1",
      "metadata": {
        "id": "29607abd-ed6b-46ea-ad44-c7de245256b1",
        "outputId": "12486985-0615-4423-f95b-33d590bde201"
      },
      "outputs": [
        {
          "name": "stdout",
          "output_type": "stream",
          "text": [
            "Calculating fib(7)\n"
          ]
        },
        {
          "data": {
            "text/plain": [
              "13"
            ]
          },
          "execution_count": 261,
          "metadata": {},
          "output_type": "execute_result"
        }
      ],
      "source": [
        "f.fib(7)"
      ]
    },
    {
      "cell_type": "markdown",
      "id": "a7cb33ff-4cd9-4269-b924-9fd8ccd728ed",
      "metadata": {
        "id": "a7cb33ff-4cd9-4269-b924-9fd8ccd728ed"
      },
      "source": [
        "Let's see how we could rewrite this using a closure:"
      ]
    },
    {
      "cell_type": "code",
      "execution_count": null,
      "id": "2b7f4f6e-18da-490a-bfff-296543ae695a",
      "metadata": {
        "id": "2b7f4f6e-18da-490a-bfff-296543ae695a"
      },
      "outputs": [],
      "source": [
        "def fib():\n",
        "    cache = {1: 1, 2: 1}\n",
        "    \n",
        "    def calc_fib(n):\n",
        "        if n not in cache:\n",
        "            print('Calculating fib({0})'.format(n))\n",
        "            cache[n] = calc_fib(n-1) + calc_fib(n-2)\n",
        "        return cache[n]\n",
        "    \n",
        "    return calc_fib"
      ]
    },
    {
      "cell_type": "code",
      "execution_count": null,
      "id": "ad359133-92bc-4908-b95f-825e942b4e73",
      "metadata": {
        "id": "ad359133-92bc-4908-b95f-825e942b4e73"
      },
      "outputs": [],
      "source": [
        "f = fib()"
      ]
    },
    {
      "cell_type": "code",
      "execution_count": null,
      "id": "aab388ff-1906-4bf0-8ebd-92a9b6fab08c",
      "metadata": {
        "id": "aab388ff-1906-4bf0-8ebd-92a9b6fab08c",
        "outputId": "42ac97d0-f809-4ff2-ac08-079354e22cab"
      },
      "outputs": [
        {
          "name": "stdout",
          "output_type": "stream",
          "text": [
            "Calculating fib(10)\n",
            "Calculating fib(9)\n",
            "Calculating fib(8)\n",
            "Calculating fib(7)\n",
            "Calculating fib(6)\n",
            "Calculating fib(5)\n",
            "Calculating fib(4)\n",
            "Calculating fib(3)\n"
          ]
        },
        {
          "data": {
            "text/plain": [
              "55"
            ]
          },
          "execution_count": 264,
          "metadata": {},
          "output_type": "execute_result"
        }
      ],
      "source": [
        "f(10)"
      ]
    },
    {
      "cell_type": "markdown",
      "id": "362316f5-5cc0-4c1f-bae5-0c835400204b",
      "metadata": {
        "id": "362316f5-5cc0-4c1f-bae5-0c835400204b"
      },
      "source": [
        "Now let's see how we would implement this using a decorator:"
      ]
    },
    {
      "cell_type": "code",
      "execution_count": null,
      "id": "ff1b56ff-fdb6-4eef-b925-01e514b92192",
      "metadata": {
        "id": "ff1b56ff-fdb6-4eef-b925-01e514b92192"
      },
      "outputs": [],
      "source": [
        "from functools import wraps\n",
        "\n",
        "def memoize_fib(fn):\n",
        "    cache = dict()\n",
        "    \n",
        "    @wraps(fn)\n",
        "    def inner(n):\n",
        "        if n not in cache:\n",
        "            cache[n] = fn(n)\n",
        "        return cache[n]\n",
        "    \n",
        "    return inner"
      ]
    },
    {
      "cell_type": "code",
      "execution_count": null,
      "id": "5eab3ec5-cfde-4d91-9487-73a0e20872ee",
      "metadata": {
        "id": "5eab3ec5-cfde-4d91-9487-73a0e20872ee"
      },
      "outputs": [],
      "source": [
        "@memoize_fib\n",
        "def fib(n):\n",
        "    print('Calculating fib({0})'.format(n))\n",
        "    return 1 if n < 3 else fib(n-1) + fib(n-2)"
      ]
    },
    {
      "cell_type": "code",
      "execution_count": null,
      "id": "84d5e4e6-b914-490e-a85e-462fc6b1b27c",
      "metadata": {
        "id": "84d5e4e6-b914-490e-a85e-462fc6b1b27c",
        "outputId": "4cd16404-7c8d-459b-b8e4-30e7690fe3ce"
      },
      "outputs": [
        {
          "name": "stdout",
          "output_type": "stream",
          "text": [
            "Calculating fib(3)\n",
            "Calculating fib(2)\n",
            "Calculating fib(1)\n"
          ]
        },
        {
          "data": {
            "text/plain": [
              "2"
            ]
          },
          "execution_count": 267,
          "metadata": {},
          "output_type": "execute_result"
        }
      ],
      "source": [
        "fib(3)"
      ]
    },
    {
      "cell_type": "code",
      "execution_count": null,
      "id": "ecfa29f4-cf3c-4558-b7ea-ae470ca2a02c",
      "metadata": {
        "id": "ecfa29f4-cf3c-4558-b7ea-ae470ca2a02c",
        "outputId": "e8fe832f-bc5f-4a98-ed18-8073ced21c69"
      },
      "outputs": [
        {
          "name": "stdout",
          "output_type": "stream",
          "text": [
            "Calculating fib(10)\n",
            "Calculating fib(9)\n",
            "Calculating fib(8)\n",
            "Calculating fib(7)\n",
            "Calculating fib(6)\n",
            "Calculating fib(5)\n",
            "Calculating fib(4)\n"
          ]
        },
        {
          "data": {
            "text/plain": [
              "55"
            ]
          },
          "execution_count": 268,
          "metadata": {},
          "output_type": "execute_result"
        }
      ],
      "source": [
        "fib(10)"
      ]
    },
    {
      "cell_type": "code",
      "execution_count": null,
      "id": "6ba4e9ed-574a-427f-b67c-19905bc6ff25",
      "metadata": {
        "id": "6ba4e9ed-574a-427f-b67c-19905bc6ff25",
        "outputId": "61eb735e-a43b-4e88-b917-e4d51e07e68b"
      },
      "outputs": [
        {
          "data": {
            "text/plain": [
              "8"
            ]
          },
          "execution_count": 269,
          "metadata": {},
          "output_type": "execute_result"
        }
      ],
      "source": [
        "fib(6)"
      ]
    },
    {
      "cell_type": "markdown",
      "id": "f468c405-ba1e-42d5-a864-1f39572be25e",
      "metadata": {
        "id": "f468c405-ba1e-42d5-a864-1f39572be25e"
      },
      "source": [
        "As you can see, we are hitting the cache when the values are available.\n",
        "\n",
        "Now, we made our memoization decorator \"hardcoded\" to single argument functions - we could make it more generic.\n",
        "\n",
        "For example, to handle an arbitrary number of positional arguments and keyword-only arguments we could do the following:"
      ]
    },
    {
      "cell_type": "code",
      "execution_count": null,
      "id": "6394e450-d5f7-4cd6-a255-f4e483d5eac1",
      "metadata": {
        "id": "6394e450-d5f7-4cd6-a255-f4e483d5eac1"
      },
      "outputs": [],
      "source": [
        "def memoize(fn):\n",
        "    cache = dict()\n",
        "    \n",
        "    @wraps(fn)\n",
        "    def inner(*args):\n",
        "        if args not in cache:\n",
        "            cache[args] = fn(*args)\n",
        "        return cache[args]\n",
        "    \n",
        "    return inner"
      ]
    },
    {
      "cell_type": "code",
      "execution_count": null,
      "id": "c6cae177-107c-4383-bee4-8c1c89cde686",
      "metadata": {
        "id": "c6cae177-107c-4383-bee4-8c1c89cde686"
      },
      "outputs": [],
      "source": [
        "@memoize\n",
        "def fib(n):\n",
        "    print('Calculating fib({0})'.format(n))\n",
        "    return 1 if n < 3 else fib(n-1) + fib(n-2)"
      ]
    },
    {
      "cell_type": "code",
      "execution_count": null,
      "id": "8c22bcae-8e60-46ff-8f62-a54e704618fd",
      "metadata": {
        "id": "8c22bcae-8e60-46ff-8f62-a54e704618fd",
        "outputId": "fe935a25-6df2-44f6-97dd-046f0686fa31"
      },
      "outputs": [
        {
          "name": "stdout",
          "output_type": "stream",
          "text": [
            "Calculating fib(6)\n",
            "Calculating fib(5)\n",
            "Calculating fib(4)\n",
            "Calculating fib(3)\n",
            "Calculating fib(2)\n",
            "Calculating fib(1)\n"
          ]
        },
        {
          "data": {
            "text/plain": [
              "8"
            ]
          },
          "execution_count": 272,
          "metadata": {},
          "output_type": "execute_result"
        }
      ],
      "source": [
        "fib(6)"
      ]
    },
    {
      "cell_type": "code",
      "execution_count": null,
      "id": "2be9d063-b414-40c9-b1d4-5e5357e9f2f2",
      "metadata": {
        "id": "2be9d063-b414-40c9-b1d4-5e5357e9f2f2",
        "outputId": "5023ec53-b8c1-4981-bc4f-1e0181ebd58c"
      },
      "outputs": [
        {
          "name": "stdout",
          "output_type": "stream",
          "text": [
            "Calculating fib(7)\n"
          ]
        },
        {
          "data": {
            "text/plain": [
              "13"
            ]
          },
          "execution_count": 273,
          "metadata": {},
          "output_type": "execute_result"
        }
      ],
      "source": [
        "fib(7)"
      ]
    },
    {
      "cell_type": "markdown",
      "id": "4eb963d3-7bc6-4ac3-9b2f-9a4cd838a9fa",
      "metadata": {
        "id": "4eb963d3-7bc6-4ac3-9b2f-9a4cd838a9fa"
      },
      "source": [
        "Of course, with this rather generic memoization decorator we can memoize other functions too:"
      ]
    },
    {
      "cell_type": "code",
      "execution_count": null,
      "id": "6e968ace-8de9-4a0e-84a9-e579a8c75f56",
      "metadata": {
        "id": "6e968ace-8de9-4a0e-84a9-e579a8c75f56"
      },
      "outputs": [],
      "source": [
        "def fact(n):\n",
        "    print('Calculating {0}!'.format(n))\n",
        "    return 1 if n < 2 else n * fact(n-1)"
      ]
    },
    {
      "cell_type": "code",
      "execution_count": null,
      "id": "81dc3597-6aae-4335-ab36-acd8a833cfc1",
      "metadata": {
        "id": "81dc3597-6aae-4335-ab36-acd8a833cfc1",
        "outputId": "5894a392-59e8-433f-d26d-71b26ad5c90d"
      },
      "outputs": [
        {
          "name": "stdout",
          "output_type": "stream",
          "text": [
            "Calculating 5!\n",
            "Calculating 4!\n",
            "Calculating 3!\n",
            "Calculating 2!\n",
            "Calculating 1!\n"
          ]
        },
        {
          "data": {
            "text/plain": [
              "120"
            ]
          },
          "execution_count": 275,
          "metadata": {},
          "output_type": "execute_result"
        }
      ],
      "source": [
        "fact(5)"
      ]
    },
    {
      "cell_type": "code",
      "execution_count": null,
      "id": "6084da62-280b-401f-98a3-448d36c552e7",
      "metadata": {
        "id": "6084da62-280b-401f-98a3-448d36c552e7",
        "outputId": "628e0b2b-1aee-4c3c-8c2b-e6ac29b7b8c4"
      },
      "outputs": [
        {
          "name": "stdout",
          "output_type": "stream",
          "text": [
            "Calculating 5!\n",
            "Calculating 4!\n",
            "Calculating 3!\n",
            "Calculating 2!\n",
            "Calculating 1!\n"
          ]
        },
        {
          "data": {
            "text/plain": [
              "120"
            ]
          },
          "execution_count": 276,
          "metadata": {},
          "output_type": "execute_result"
        }
      ],
      "source": [
        "fact(5)"
      ]
    },
    {
      "cell_type": "code",
      "execution_count": null,
      "id": "a77b21e0-cf05-41e3-abdf-43e698bb4ec7",
      "metadata": {
        "id": "a77b21e0-cf05-41e3-abdf-43e698bb4ec7"
      },
      "outputs": [],
      "source": [
        "@memoize\n",
        "def fact(n):\n",
        "    print('Calculating {0}!'.format(n))\n",
        "    return 1 if n < 2 else n * fact(n-1)"
      ]
    },
    {
      "cell_type": "code",
      "execution_count": null,
      "id": "9342ec11-2829-45b8-bac3-3b1821ecc64b",
      "metadata": {
        "id": "9342ec11-2829-45b8-bac3-3b1821ecc64b",
        "outputId": "b5354a75-6029-415a-b5cf-2e312b57019a"
      },
      "outputs": [
        {
          "name": "stdout",
          "output_type": "stream",
          "text": [
            "Calculating 6!\n",
            "Calculating 5!\n",
            "Calculating 4!\n",
            "Calculating 3!\n",
            "Calculating 2!\n",
            "Calculating 1!\n"
          ]
        },
        {
          "data": {
            "text/plain": [
              "720"
            ]
          },
          "execution_count": 278,
          "metadata": {},
          "output_type": "execute_result"
        }
      ],
      "source": [
        "fact(6)"
      ]
    },
    {
      "cell_type": "code",
      "execution_count": null,
      "id": "2534bb2b-c14a-4cd8-b535-28db0b2acc1b",
      "metadata": {
        "id": "2534bb2b-c14a-4cd8-b535-28db0b2acc1b",
        "outputId": "3d0b0227-5dca-47df-d704-b12a1763ecbf"
      },
      "outputs": [
        {
          "data": {
            "text/plain": [
              "720"
            ]
          },
          "execution_count": 279,
          "metadata": {},
          "output_type": "execute_result"
        }
      ],
      "source": [
        "fact(6)"
      ]
    },
    {
      "cell_type": "markdown",
      "id": "904ff1f3-202c-4665-a953-e3fd7e914b6b",
      "metadata": {
        "id": "904ff1f3-202c-4665-a953-e3fd7e914b6b"
      },
      "source": [
        "Our simple memoizer has a drawback however:\n",
        "\n",
        "* the cache size is unbounded - probably not a good thing! In general we want to limit the cache to a certain number of entries, balancing computational efficiency vs memory utilization.\n",
        "\n",
        "* we are not handling **kwargs\n",
        "\n",
        "Memoization is such a common thing to do that Python actually has a memoization decorator built for us!\n",
        "\n",
        "It's in the, you guessed it, **functools** module, and is called **lru_cache** and is going to be quite a bit more efficient compared to the rudimentary memoization example we did above.\n",
        "\n",
        "LRU Cache = Least Recently Used caching: since the cache is not unlimited, at some point cached entries need to be discarded, and the least reacently used entries are discarded first"
      ]
    },
    {
      "cell_type": "code",
      "execution_count": null,
      "id": "69774f8b-822e-43d2-aef8-49ac2908aeec",
      "metadata": {
        "id": "69774f8b-822e-43d2-aef8-49ac2908aeec"
      },
      "outputs": [],
      "source": [
        "from functools import lru_cache"
      ]
    },
    {
      "cell_type": "code",
      "execution_count": null,
      "id": "ce659a54-1f31-4022-8e0f-8ec8ba4954cc",
      "metadata": {
        "id": "ce659a54-1f31-4022-8e0f-8ec8ba4954cc"
      },
      "outputs": [],
      "source": [
        "@lru_cache\n",
        "def fact(n):\n",
        "    print(\"Calculating fact({0})\".format(n))\n",
        "    return 1 if n < 2 else n * fact(n-1)"
      ]
    },
    {
      "cell_type": "code",
      "execution_count": null,
      "id": "e381bdf7-c59b-4035-bc70-15cd9b2d9964",
      "metadata": {
        "id": "e381bdf7-c59b-4035-bc70-15cd9b2d9964",
        "outputId": "e8dc3b3f-fa03-468e-dbf7-7aab39207513"
      },
      "outputs": [
        {
          "name": "stdout",
          "output_type": "stream",
          "text": [
            "Calculating fact(5)\n",
            "Calculating fact(4)\n",
            "Calculating fact(3)\n",
            "Calculating fact(2)\n",
            "Calculating fact(1)\n"
          ]
        },
        {
          "data": {
            "text/plain": [
              "120"
            ]
          },
          "execution_count": 282,
          "metadata": {},
          "output_type": "execute_result"
        }
      ],
      "source": [
        "fact(5)"
      ]
    },
    {
      "cell_type": "code",
      "execution_count": null,
      "id": "820f904a-3424-48e1-8c14-630d962ccb66",
      "metadata": {
        "id": "820f904a-3424-48e1-8c14-630d962ccb66",
        "outputId": "5220e26e-5b16-4c2a-d9fa-8e44238a8196"
      },
      "outputs": [
        {
          "data": {
            "text/plain": [
              "24"
            ]
          },
          "execution_count": 283,
          "metadata": {},
          "output_type": "execute_result"
        }
      ],
      "source": [
        "fact(4)"
      ]
    },
    {
      "cell_type": "markdown",
      "id": "7122d73d-f805-4f65-9142-50123e3ec75c",
      "metadata": {
        "id": "7122d73d-f805-4f65-9142-50123e3ec75c"
      },
      "source": [
        "As you can see, `fact(4)` was returned via a cached entry!\n",
        "\n",
        "Same thing with our Fibonacci function:"
      ]
    },
    {
      "cell_type": "code",
      "execution_count": null,
      "id": "1e84f3d6-7e12-41ad-bf4f-02cda44ab1d1",
      "metadata": {
        "id": "1e84f3d6-7e12-41ad-bf4f-02cda44ab1d1"
      },
      "outputs": [],
      "source": [
        "@lru_cache()\n",
        "def fib(n):\n",
        "    print(\"Calculating fib({0})\".format(n))\n",
        "    return 1 if n < 3 else fib(n-1) + fib(n-2)"
      ]
    },
    {
      "cell_type": "code",
      "execution_count": null,
      "id": "f68f9ccd-079e-495e-8b7e-6f1061fb9618",
      "metadata": {
        "id": "f68f9ccd-079e-495e-8b7e-6f1061fb9618",
        "outputId": "3b9b477f-c291-487f-ab4b-8c17fb2c38d8"
      },
      "outputs": [
        {
          "name": "stdout",
          "output_type": "stream",
          "text": [
            "Calculating fib(6)\n",
            "Calculating fib(5)\n",
            "Calculating fib(4)\n",
            "Calculating fib(3)\n",
            "Calculating fib(2)\n",
            "Calculating fib(1)\n"
          ]
        },
        {
          "data": {
            "text/plain": [
              "8"
            ]
          },
          "execution_count": 285,
          "metadata": {},
          "output_type": "execute_result"
        }
      ],
      "source": [
        "fib(6)"
      ]
    },
    {
      "cell_type": "code",
      "execution_count": null,
      "id": "4e3987a0-b17f-42ce-aa5f-96e1e5b0b0fd",
      "metadata": {
        "id": "4e3987a0-b17f-42ce-aa5f-96e1e5b0b0fd",
        "outputId": "4afe831f-ed35-4d4a-8155-eedb15a7b195"
      },
      "outputs": [
        {
          "data": {
            "text/plain": [
              "5"
            ]
          },
          "execution_count": 286,
          "metadata": {},
          "output_type": "execute_result"
        }
      ],
      "source": [
        "fib(5)"
      ]
    },
    {
      "cell_type": "markdown",
      "id": "345ef239-7fa2-4eb6-a896-dc20e723f3cc",
      "metadata": {
        "id": "345ef239-7fa2-4eb6-a896-dc20e723f3cc"
      },
      "source": [
        "Recall from a few lessons back that we timed the calculation for Fibonacci numbers. Calculating fib(35) took several seconds - everytime..."
      ]
    },
    {
      "cell_type": "code",
      "execution_count": null,
      "id": "7ac8d0c4-d505-497d-b382-fd441fec9fb8",
      "metadata": {
        "id": "7ac8d0c4-d505-497d-b382-fd441fec9fb8"
      },
      "outputs": [],
      "source": [
        "from time import perf_counter"
      ]
    },
    {
      "cell_type": "code",
      "execution_count": null,
      "id": "c49c2a90-bf83-46d1-b306-33dc81b16d33",
      "metadata": {
        "id": "c49c2a90-bf83-46d1-b306-33dc81b16d33"
      },
      "outputs": [],
      "source": [
        "def fib_no_memo(n):\n",
        "    return 1 if n < 3 else fib_no_memo(n-1) + fib_no_memo(n-2)"
      ]
    },
    {
      "cell_type": "code",
      "execution_count": null,
      "id": "05c06350-b91b-4dc5-9f77-03281b7fee02",
      "metadata": {
        "id": "05c06350-b91b-4dc5-9f77-03281b7fee02",
        "outputId": "4111dfc2-dc62-419b-dec3-1549f51d7e56"
      },
      "outputs": [
        {
          "name": "stdout",
          "output_type": "stream",
          "text": [
            "result=9227465, elapsed: 3.7892764999999997s\n"
          ]
        }
      ],
      "source": [
        "start = perf_counter()\n",
        "result = fib_no_memo(35)\n",
        "print(\"result={0}, elapsed: {1}s\".format(result, perf_counter() - start))"
      ]
    },
    {
      "cell_type": "code",
      "execution_count": null,
      "id": "140a8ac3-cfff-4771-8809-2edcfc938375",
      "metadata": {
        "id": "140a8ac3-cfff-4771-8809-2edcfc938375"
      },
      "outputs": [],
      "source": [
        "@lru_cache()\n",
        "def fib_memo(n):\n",
        "    return 1 if n < 3 else fib_memo(n-1) + fib_memo(n-2)"
      ]
    },
    {
      "cell_type": "code",
      "execution_count": null,
      "id": "398e3eb6-40ab-45a1-89d3-f355e804154d",
      "metadata": {
        "id": "398e3eb6-40ab-45a1-89d3-f355e804154d",
        "outputId": "5fd2829f-2132-4dd1-eb50-50f6e1990797"
      },
      "outputs": [
        {
          "name": "stdout",
          "output_type": "stream",
          "text": [
            "result=9227465, elapsed: 0.00018599999999935335s\n"
          ]
        }
      ],
      "source": [
        "start = perf_counter()\n",
        "result = fib_memo(35)\n",
        "print(\"result={0}, elapsed: {1}s\".format(result, perf_counter() - start))"
      ]
    },
    {
      "cell_type": "markdown",
      "id": "80d1744b-7a60-43dc-ac8e-a8e793d64583",
      "metadata": {
        "id": "80d1744b-7a60-43dc-ac8e-a8e793d64583"
      },
      "source": [
        "And if we make the calls again:"
      ]
    },
    {
      "cell_type": "code",
      "execution_count": null,
      "id": "ada0edd7-3caa-4245-858c-30235bb70e5b",
      "metadata": {
        "id": "ada0edd7-3caa-4245-858c-30235bb70e5b",
        "outputId": "110e0ac9-6311-4ea9-a41c-b0088d493b02"
      },
      "outputs": [
        {
          "name": "stdout",
          "output_type": "stream",
          "text": [
            "result=9227465, elapsed: 3.400475400000005s\n"
          ]
        }
      ],
      "source": [
        "start = perf_counter()\n",
        "result = fib_no_memo(35)\n",
        "print(\"result={0}, elapsed: {1}s\".format(result, perf_counter() - start))"
      ]
    },
    {
      "cell_type": "code",
      "execution_count": null,
      "id": "9f34e473-453a-4e9e-ae14-bea233c1df38",
      "metadata": {
        "id": "9f34e473-453a-4e9e-ae14-bea233c1df38",
        "outputId": "555136f0-230b-45ce-be8a-955e69a0c832"
      },
      "outputs": [
        {
          "name": "stdout",
          "output_type": "stream",
          "text": [
            "result=9227465, elapsed: 0.00014019999999703714s\n"
          ]
        }
      ],
      "source": [
        "start = perf_counter()\n",
        "result = fib_memo(35)\n",
        "print(\"result={0}, elapsed: {1}s\".format(result, perf_counter() - start))"
      ]
    },
    {
      "cell_type": "markdown",
      "id": "1e63091f-43ad-4b53-bfbc-a472a884a1e1",
      "metadata": {
        "id": "1e63091f-43ad-4b53-bfbc-a472a884a1e1"
      },
      "source": [
        "You may have noticed that the `lru_cache` decorator was implemented using `()` - we'll see more on this later, but that's because decorators can themselves have parameters (beyond the function being decorated).\n",
        "\n",
        "One of the arguments to the ``lru_cache` decorator is the size of the cache - it defaults to 128 itms, but we can easily change this - for performance reasons use powers of 2 for the cache size (or None for unbounded cache):"
      ]
    },
    {
      "cell_type": "code",
      "execution_count": null,
      "id": "edf45615-d049-4519-8c0f-e3de2c64f070",
      "metadata": {
        "id": "edf45615-d049-4519-8c0f-e3de2c64f070"
      },
      "outputs": [],
      "source": [
        "@lru_cache(maxsize=8)\n",
        "def fib(n):\n",
        "    print(\"Calculating fib({0})\".format(n))\n",
        "    return 1 if n < 3 else fib(n-1) + fib(n-2)"
      ]
    },
    {
      "cell_type": "code",
      "execution_count": null,
      "id": "9cc384e7-e3f1-45f7-8f98-830e5228c689",
      "metadata": {
        "id": "9cc384e7-e3f1-45f7-8f98-830e5228c689",
        "outputId": "bdaa1421-b9ba-4654-d181-6d273d66c969"
      },
      "outputs": [
        {
          "name": "stdout",
          "output_type": "stream",
          "text": [
            "Calculating fib(10)\n",
            "Calculating fib(9)\n",
            "Calculating fib(8)\n",
            "Calculating fib(7)\n",
            "Calculating fib(6)\n",
            "Calculating fib(5)\n",
            "Calculating fib(4)\n",
            "Calculating fib(3)\n",
            "Calculating fib(2)\n",
            "Calculating fib(1)\n"
          ]
        },
        {
          "data": {
            "text/plain": [
              "55"
            ]
          },
          "execution_count": 295,
          "metadata": {},
          "output_type": "execute_result"
        }
      ],
      "source": [
        "fib(10)"
      ]
    },
    {
      "cell_type": "code",
      "execution_count": null,
      "id": "ca152606-a9c0-4108-bb4e-5d237da9e480",
      "metadata": {
        "id": "ca152606-a9c0-4108-bb4e-5d237da9e480",
        "outputId": "28d8b42f-ccd6-4b5a-83f9-3c6b3cdb06d8"
      },
      "outputs": [
        {
          "name": "stdout",
          "output_type": "stream",
          "text": [
            "Calculating fib(20)\n",
            "Calculating fib(19)\n",
            "Calculating fib(18)\n",
            "Calculating fib(17)\n",
            "Calculating fib(16)\n",
            "Calculating fib(15)\n",
            "Calculating fib(14)\n",
            "Calculating fib(13)\n",
            "Calculating fib(12)\n",
            "Calculating fib(11)\n"
          ]
        },
        {
          "data": {
            "text/plain": [
              "6765"
            ]
          },
          "execution_count": 296,
          "metadata": {},
          "output_type": "execute_result"
        }
      ],
      "source": [
        "fib(20)"
      ]
    },
    {
      "cell_type": "code",
      "execution_count": null,
      "id": "d948e2ce-3017-4e6f-a6f3-f6d217d1c220",
      "metadata": {
        "id": "d948e2ce-3017-4e6f-a6f3-f6d217d1c220",
        "outputId": "4014a642-8f85-467a-a199-20f999430d40"
      },
      "outputs": [
        {
          "name": "stdout",
          "output_type": "stream",
          "text": [
            "Calculating fib(10)\n",
            "Calculating fib(9)\n",
            "Calculating fib(8)\n",
            "Calculating fib(7)\n",
            "Calculating fib(6)\n",
            "Calculating fib(5)\n",
            "Calculating fib(4)\n",
            "Calculating fib(3)\n",
            "Calculating fib(2)\n",
            "Calculating fib(1)\n"
          ]
        },
        {
          "data": {
            "text/plain": [
              "55"
            ]
          },
          "execution_count": 297,
          "metadata": {},
          "output_type": "execute_result"
        }
      ],
      "source": [
        "fib(10)"
      ]
    },
    {
      "cell_type": "markdown",
      "id": "cafae7a1-1443-4eb4-a79d-e0e34cb2a815",
      "metadata": {
        "id": "cafae7a1-1443-4eb4-a79d-e0e34cb2a815"
      },
      "source": [
        "You'll not how Python had to recalculate `fib` for `10, 9` etc. This is because the cache can only contain 10 items, so when we calculated `fib(20)`, it stored fib for `20, 19, ..., 11 ` (10 items) and therefore the oldest items fib `10, 9, ..., 1` were removed from the cache to make space."
      ]
    },
    {
      "cell_type": "markdown",
      "id": "fdaff888-8a62-4bc1-9f37-95f0f6e9cb05",
      "metadata": {
        "id": "fdaff888-8a62-4bc1-9f37-95f0f6e9cb05"
      },
      "source": [
        "### 10 - Decorators - Part 2"
      ]
    },
    {
      "cell_type": "markdown",
      "id": "0a439f12-0932-41f4-912d-94c2b8cc517a",
      "metadata": {
        "id": "0a439f12-0932-41f4-912d-94c2b8cc517a"
      },
      "source": [
        "We have seen how to create some simple and not so simple decorators.\n",
        "\n",
        "However we have also been using built-in decorators that can accept parameters, such as `wraps` and `lru_cache`.\n",
        "\n",
        "This can be quite useful and we can accomplish the same thing ourselves.\n",
        "\n",
        "First recall our original timer decorator from an earlier lesson (Decorator Application - Time):"
      ]
    },
    {
      "cell_type": "code",
      "execution_count": null,
      "id": "63ebea73-d4c3-4f63-a905-3ae80261df56",
      "metadata": {
        "id": "63ebea73-d4c3-4f63-a905-3ae80261df56"
      },
      "outputs": [],
      "source": [
        "def timed(fn):\n",
        "    from time import perf_counter\n",
        "    \n",
        "    def inner(*args, **kwargs):\n",
        "        start = perf_counter()\n",
        "        result = fn(*args, **kwargs)\n",
        "        end = perf_counter()\n",
        "        elapsed = end - start\n",
        "        print('Run time: {0:.6f}s'.format(elapsed))\n",
        "        return result\n",
        "    \n",
        "    return inner"
      ]
    },
    {
      "cell_type": "code",
      "execution_count": null,
      "id": "8480bc2d-0fe8-4573-869f-3b6808577b79",
      "metadata": {
        "id": "8480bc2d-0fe8-4573-869f-3b6808577b79"
      },
      "outputs": [],
      "source": [
        "def calc_fib_recurse(n):\n",
        "    return 1 if n < 3 else calc_fib_recurse(n-1) + calc_fib_recurse(n-2)\n",
        "\n",
        "def fib(n):\n",
        "    return calc_fib_recurse(n)"
      ]
    },
    {
      "cell_type": "markdown",
      "id": "cd7cafd0-a780-4258-ba22-f4038aa16751",
      "metadata": {
        "id": "cd7cafd0-a780-4258-ba22-f4038aa16751"
      },
      "source": [
        "We can decorate our Fibonacci function using the `@` syntax, or the longer syntax as follows:"
      ]
    },
    {
      "cell_type": "code",
      "execution_count": null,
      "id": "e1ef053a-9c87-499d-9517-cd906dfdd2cb",
      "metadata": {
        "id": "e1ef053a-9c87-499d-9517-cd906dfdd2cb"
      },
      "outputs": [],
      "source": [
        "fib = timed(fib)"
      ]
    },
    {
      "cell_type": "code",
      "execution_count": null,
      "id": "09419f94-8e51-4fb8-8791-bc99c9688337",
      "metadata": {
        "id": "09419f94-8e51-4fb8-8791-bc99c9688337",
        "outputId": "3989afbe-a7d3-435a-c812-05d70a069a93"
      },
      "outputs": [
        {
          "name": "stdout",
          "output_type": "stream",
          "text": [
            "Run time: 0.278976s\n"
          ]
        },
        {
          "data": {
            "text/plain": [
              "832040"
            ]
          },
          "execution_count": 301,
          "metadata": {},
          "output_type": "execute_result"
        }
      ],
      "source": [
        "fib(30)"
      ]
    },
    {
      "cell_type": "markdown",
      "id": "dd2f8319-8a8d-4b74-b771-6872004f3ac4",
      "metadata": {
        "id": "dd2f8319-8a8d-4b74-b771-6872004f3ac4"
      },
      "source": [
        "Let's modify this so the timer runs the function multiple times and calculates the average run time:"
      ]
    },
    {
      "cell_type": "code",
      "execution_count": null,
      "id": "b8261d9f-9adc-4ef6-86c7-61f51501781a",
      "metadata": {
        "id": "b8261d9f-9adc-4ef6-86c7-61f51501781a"
      },
      "outputs": [],
      "source": [
        "def timed(fn):\n",
        "    from time import perf_counter\n",
        "    \n",
        "    def inner(*args, **kwargs):\n",
        "        total_elapsed = 0\n",
        "        for i in range(10):\n",
        "            start = perf_counter()\n",
        "            result = fn(*args, **kwargs)\n",
        "            end = perf_counter()\n",
        "            total_elapsed += (perf_counter() - start)\n",
        "        avg_elapsed = total_elapsed / 10\n",
        "        print('Avg Run time: {0:.6f}s'.format(avg_elapsed))\n",
        "        return result\n",
        "    \n",
        "    return inner"
      ]
    },
    {
      "cell_type": "markdown",
      "id": "e29b77e7-464e-4b1a-bdf0-8794417bb0e5",
      "metadata": {
        "id": "e29b77e7-464e-4b1a-bdf0-8794417bb0e5"
      },
      "source": [
        "And again we decorate it using the long syntax:"
      ]
    },
    {
      "cell_type": "code",
      "execution_count": null,
      "id": "5dc4ccc8-60e9-4057-91e6-2398bb9682c7",
      "metadata": {
        "id": "5dc4ccc8-60e9-4057-91e6-2398bb9682c7"
      },
      "outputs": [],
      "source": [
        "def fib(n):\n",
        "    return calc_fib_recurse(n)\n",
        "\n",
        "fib = timed(fib)"
      ]
    },
    {
      "cell_type": "code",
      "execution_count": null,
      "id": "44b687af-f3e0-490e-b396-af7a85ac0201",
      "metadata": {
        "id": "44b687af-f3e0-490e-b396-af7a85ac0201",
        "outputId": "ecf1fd5f-0f9c-45c3-8437-6b25d83df410"
      },
      "outputs": [
        {
          "name": "stdout",
          "output_type": "stream",
          "text": [
            "Avg Run time: 0.102667s\n"
          ]
        },
        {
          "data": {
            "text/plain": [
              "317811"
            ]
          },
          "execution_count": 304,
          "metadata": {},
          "output_type": "execute_result"
        }
      ],
      "source": [
        "fib(28)"
      ]
    },
    {
      "cell_type": "markdown",
      "id": "7dedf0d0-7feb-4e0a-bb90-196af08f496f",
      "metadata": {
        "id": "7dedf0d0-7feb-4e0a-bb90-196af08f496f"
      },
      "source": [
        "But that value of 10 has been hardcoded. Let's make it a parameter instead."
      ]
    },
    {
      "cell_type": "code",
      "execution_count": null,
      "id": "5f9f072b-902d-44a5-ae72-91346b3442e0",
      "metadata": {
        "id": "5f9f072b-902d-44a5-ae72-91346b3442e0"
      },
      "outputs": [],
      "source": [
        "def timed(fn, num_reps):\n",
        "    from time import perf_counter\n",
        "    \n",
        "    def inner(*args, **kwargs):\n",
        "        total_elapsed = 0\n",
        "        for i in range(10):\n",
        "            start = perf_counter()\n",
        "            result = fn(*args, **kwargs)\n",
        "            end = perf_counter()\n",
        "            total_elapsed += (perf_counter() - start)\n",
        "        avg_elapsed = total_elapsed / num_reps\n",
        "        print('Avg Run time: {0:.6f}s'.format(avg_elapsed,\n",
        "                                             num_reps))\n",
        "        return result\n",
        "    \n",
        "    return inner"
      ]
    },
    {
      "cell_type": "markdown",
      "id": "86cc15c9-5781-4b88-ac8c-1725dda0b46a",
      "metadata": {
        "id": "86cc15c9-5781-4b88-ac8c-1725dda0b46a"
      },
      "source": [
        "Now to decorate our Fibonacci function we have to use the long syntax (as we saw in the lecture, the `@` syntax will not work):"
      ]
    },
    {
      "cell_type": "code",
      "execution_count": null,
      "id": "32a42f08-1a75-4e87-8284-f5b061d8e361",
      "metadata": {
        "id": "32a42f08-1a75-4e87-8284-f5b061d8e361"
      },
      "outputs": [],
      "source": [
        "def fib(n):\n",
        "    return calc_fib_recurse(n)\n",
        "\n",
        "fib = timed(fib, 5)"
      ]
    },
    {
      "cell_type": "code",
      "execution_count": null,
      "id": "089ad453-d580-475a-a433-bc358f1b527a",
      "metadata": {
        "id": "089ad453-d580-475a-a433-bc358f1b527a",
        "outputId": "938c368d-c940-4d57-ee73-4fcf28e402b2"
      },
      "outputs": [
        {
          "name": "stdout",
          "output_type": "stream",
          "text": [
            "Avg Run time: 0.223914s\n"
          ]
        },
        {
          "data": {
            "text/plain": [
              "317811"
            ]
          },
          "execution_count": 307,
          "metadata": {},
          "output_type": "execute_result"
        }
      ],
      "source": [
        "fib(28)"
      ]
    },
    {
      "cell_type": "markdown",
      "id": "730e647c-e462-4738-a6e0-60cd4830166e",
      "metadata": {
        "id": "730e647c-e462-4738-a6e0-60cd4830166e"
      },
      "source": [
        "The problem is that we cannot use the `@` decorator syntax because when using that syntax Python passes a single argument to the decorator: the function we are decorating - nothing else.\n",
        "\n",
        "Of course we could just use what we did above, but the decorator syntax is kind of neat, so it would be nice to retain the ability to use it.\n",
        "\n",
        "We just need to change our thinking a little bit to do this:\n",
        "\n",
        "First, when we see the following syntax:\n",
        "\n",
        "```\n",
        "@dec \n",
        "def my_func(): \n",
        "    pass\n",
        "```\n",
        "We see that `dec` must be a function that takes a single argument, the function being decorated.\n",
        "\n",
        "You'll note that `dec` is just a function, but we do not call `dec` when we decorate `my_func`, we simply use the label `dec`.\n",
        "\n",
        "Then Python does:\n",
        "\n",
        "`my_func = dec(my_func)`\n",
        "\n",
        "Let's try a concrete example:"
      ]
    },
    {
      "cell_type": "code",
      "execution_count": null,
      "id": "fa002171-9d74-40bc-ab7b-2408e395c643",
      "metadata": {
        "id": "fa002171-9d74-40bc-ab7b-2408e395c643"
      },
      "outputs": [],
      "source": [
        "def dec(fn):\n",
        "    print(\"running dec\")\n",
        "    \n",
        "    def inner(*args, **kwargs):\n",
        "        print(\"running inner\")\n",
        "        return fn(*args, **kwargs)\n",
        "    \n",
        "    return inner"
      ]
    },
    {
      "cell_type": "code",
      "execution_count": null,
      "id": "a0f20696-3439-441f-87a0-2c71ce361b28",
      "metadata": {
        "id": "a0f20696-3439-441f-87a0-2c71ce361b28",
        "outputId": "91740d3f-4308-4c02-b6a4-18f2c12111aa"
      },
      "outputs": [
        {
          "name": "stdout",
          "output_type": "stream",
          "text": [
            "running dec\n"
          ]
        }
      ],
      "source": [
        "@dec\n",
        "def my_func():\n",
        "    print(\"running my_func\")"
      ]
    },
    {
      "cell_type": "markdown",
      "id": "d5720b68-a6cb-42f2-8aab-63b1b99f8b84",
      "metadata": {
        "id": "d5720b68-a6cb-42f2-8aab-63b1b99f8b84"
      },
      "source": [
        "As we can see, when we decorated `my_func`, the `dec` function was called at that time.\n",
        "\n",
        "(Because Python did this:\n",
        "\n",
        "`my_func = dec(my_func)`\n",
        "\n",
        "so `dec` was called)\n",
        "\n",
        "And when we now call `my_func`, we see that the `inner` function is called, followed by the original `my_func`"
      ]
    },
    {
      "cell_type": "code",
      "execution_count": null,
      "id": "096287e3-e5b9-4208-989f-1cf3adaa46c3",
      "metadata": {
        "id": "096287e3-e5b9-4208-989f-1cf3adaa46c3",
        "outputId": "edee703d-c7d9-48b5-e784-3940c08b658e"
      },
      "outputs": [
        {
          "name": "stdout",
          "output_type": "stream",
          "text": [
            "running inner\n",
            "running my_func\n"
          ]
        }
      ],
      "source": [
        "my_func()"
      ]
    },
    {
      "cell_type": "markdown",
      "id": "bb0d9bf8-2b0e-4c23-bc7d-904af8c85e7c",
      "metadata": {
        "id": "bb0d9bf8-2b0e-4c23-bc7d-904af8c85e7c"
      },
      "source": [
        "But what if `dec` was not the decorator itself, but instead created and returned a decorator?\n",
        "\n",
        "Let's see how we might do this:"
      ]
    },
    {
      "cell_type": "code",
      "execution_count": null,
      "id": "94d4998b-394b-40a5-852d-c5774a57896d",
      "metadata": {
        "id": "94d4998b-394b-40a5-852d-c5774a57896d"
      },
      "outputs": [],
      "source": [
        "def dec_factory():\n",
        "    print('running dec_factory')\n",
        "    def dec(fn):\n",
        "        print('running dec')\n",
        "        def inner(*args, **kwargs):\n",
        "            print('running inner')\n",
        "            return fn(*args, **kwargs)\n",
        "        return inner\n",
        "    return dec"
      ]
    },
    {
      "cell_type": "markdown",
      "id": "1ee91adc-f279-4035-861b-b86a5228ef2d",
      "metadata": {
        "id": "1ee91adc-f279-4035-861b-b86a5228ef2d"
      },
      "source": [
        "So as you can see, calling `dec_generator()` will return that `dec` function which is our decorator:"
      ]
    },
    {
      "cell_type": "code",
      "execution_count": null,
      "id": "abbfa86f-9581-4e03-b67b-e6f8bf8bd9fb",
      "metadata": {
        "id": "abbfa86f-9581-4e03-b67b-e6f8bf8bd9fb",
        "outputId": "83b89a53-5228-4270-947d-c5cde71c5ac9"
      },
      "outputs": [
        {
          "name": "stdout",
          "output_type": "stream",
          "text": [
            "running dec_factory\n",
            "running dec\n"
          ]
        }
      ],
      "source": [
        "@dec_factory()\n",
        "def my_func(a, b):\n",
        "    print(a, b)"
      ]
    },
    {
      "cell_type": "markdown",
      "id": "5ed98d4c-f9c2-493c-ba46-a0ad2c78d65d",
      "metadata": {
        "id": "5ed98d4c-f9c2-493c-ba46-a0ad2c78d65d"
      },
      "source": [
        "You can see that both `dec_generator` and `dec` we already called."
      ]
    },
    {
      "cell_type": "code",
      "execution_count": null,
      "id": "d65cb264-2cca-499f-99ed-692db9fbc723",
      "metadata": {
        "id": "d65cb264-2cca-499f-99ed-692db9fbc723",
        "outputId": "436ce824-ca77-4251-f41f-72708b9c4681"
      },
      "outputs": [
        {
          "name": "stdout",
          "output_type": "stream",
          "text": [
            "running inner\n",
            "10 20\n"
          ]
        }
      ],
      "source": [
        "my_func(10, 20)"
      ]
    },
    {
      "cell_type": "markdown",
      "id": "14de454d-858d-4f4e-bbf2-4f3df0a73d4f",
      "metadata": {
        "id": "14de454d-858d-4f4e-bbf2-4f3df0a73d4f"
      },
      "source": [
        "And there you go, all we did is basically create a decorator by calling a function (`dec_factory`) and use the return value of that call (the `dec` function) as our actual decorator:\n",
        "\n",
        "We could have done the decoration this way too:"
      ]
    },
    {
      "cell_type": "code",
      "execution_count": null,
      "id": "b348cd6e-56d2-40a5-a84e-e45acad6df18",
      "metadata": {
        "id": "b348cd6e-56d2-40a5-a84e-e45acad6df18",
        "outputId": "b5f1df24-af52-488f-9944-5b0675011efa"
      },
      "outputs": [
        {
          "name": "stdout",
          "output_type": "stream",
          "text": [
            "running dec_factory\n"
          ]
        }
      ],
      "source": [
        "dec = dec_factory()"
      ]
    },
    {
      "cell_type": "code",
      "execution_count": null,
      "id": "14642472-560f-49b7-8c72-a8bf0689a846",
      "metadata": {
        "id": "14642472-560f-49b7-8c72-a8bf0689a846",
        "outputId": "8316cf7d-1bdb-42b6-a5ed-08dc439bda04"
      },
      "outputs": [
        {
          "name": "stdout",
          "output_type": "stream",
          "text": [
            "running dec\n"
          ]
        }
      ],
      "source": [
        "@dec\n",
        "def my_func():\n",
        "    print('running my_func')"
      ]
    },
    {
      "cell_type": "code",
      "execution_count": null,
      "id": "0d285856-3320-4b33-9f57-248b13f90bb6",
      "metadata": {
        "id": "0d285856-3320-4b33-9f57-248b13f90bb6",
        "outputId": "68a6c668-c525-4c8b-a2ca-5d26314cb1a0"
      },
      "outputs": [
        {
          "name": "stdout",
          "output_type": "stream",
          "text": [
            "running inner\n",
            "running my_func\n"
          ]
        }
      ],
      "source": [
        "my_func()"
      ]
    },
    {
      "cell_type": "markdown",
      "id": "f02a1e20-44e0-4c25-b6ea-b9b593e445fc",
      "metadata": {
        "id": "f02a1e20-44e0-4c25-b6ea-b9b593e445fc"
      },
      "source": [
        "Or even this way:"
      ]
    },
    {
      "cell_type": "code",
      "execution_count": null,
      "id": "94c94949-1d90-460c-a499-f41ebef72862",
      "metadata": {
        "id": "94c94949-1d90-460c-a499-f41ebef72862",
        "outputId": "6eb70788-f6fb-44c9-e739-7c9b28bbaad0"
      },
      "outputs": [
        {
          "name": "stdout",
          "output_type": "stream",
          "text": [
            "running dec_factory\n",
            "running dec\n"
          ]
        }
      ],
      "source": [
        "dec = dec_factory()\n",
        "\n",
        "def my_func():\n",
        "    print('running my_func')\n",
        "    \n",
        "my_func = dec(my_func)"
      ]
    },
    {
      "cell_type": "code",
      "execution_count": null,
      "id": "bd126a98-46b1-4df5-a63e-4ffd5f2cede4",
      "metadata": {
        "id": "bd126a98-46b1-4df5-a63e-4ffd5f2cede4",
        "outputId": "0c7b950b-cd33-4510-8cd0-a5641d3c7243"
      },
      "outputs": [
        {
          "name": "stdout",
          "output_type": "stream",
          "text": [
            "running inner\n",
            "running my_func\n"
          ]
        }
      ],
      "source": [
        "my_func()"
      ]
    },
    {
      "cell_type": "markdown",
      "id": "48974800-336f-462c-8d84-576a9a7469a5",
      "metadata": {
        "id": "48974800-336f-462c-8d84-576a9a7469a5"
      },
      "source": [
        "Of course we could even decorate it this way using a single statement:"
      ]
    },
    {
      "cell_type": "code",
      "execution_count": null,
      "id": "c2fee74c-8c8a-4382-93c0-0a6c00ff8113",
      "metadata": {
        "id": "c2fee74c-8c8a-4382-93c0-0a6c00ff8113",
        "outputId": "f70bda74-bd61-45b3-ecba-92a0dd690afa"
      },
      "outputs": [
        {
          "name": "stdout",
          "output_type": "stream",
          "text": [
            "running dec_factory\n",
            "running dec\n"
          ]
        }
      ],
      "source": [
        "def my_func():\n",
        "    print('running my_func')\n",
        "    \n",
        "my_func = dec_factory()(my_func)"
      ]
    },
    {
      "cell_type": "code",
      "execution_count": null,
      "id": "6ae1348a-d95f-4709-bd3c-134126ced5f0",
      "metadata": {
        "id": "6ae1348a-d95f-4709-bd3c-134126ced5f0",
        "outputId": "583060bd-f248-427e-bb9e-e9d6390db319"
      },
      "outputs": [
        {
          "name": "stdout",
          "output_type": "stream",
          "text": [
            "running inner\n",
            "running my_func\n"
          ]
        }
      ],
      "source": [
        "my_func()"
      ]
    },
    {
      "cell_type": "markdown",
      "id": "7113cd52-06a3-4906-8796-41684d820163",
      "metadata": {
        "id": "7113cd52-06a3-4906-8796-41684d820163"
      },
      "source": [
        "OK, so now we have decorated our function using, not a decorator, but a decorator factory as follows:"
      ]
    },
    {
      "cell_type": "code",
      "execution_count": null,
      "id": "41645119-cf9f-48a3-8ca5-fcf6c4556dfd",
      "metadata": {
        "id": "41645119-cf9f-48a3-8ca5-fcf6c4556dfd"
      },
      "outputs": [],
      "source": [
        "def dec_factory():\n",
        "    def dec(fn):\n",
        "        def inner(*args, **kwargs):\n",
        "            print('running decorator inner')\n",
        "            return fn(*args, **kwargs)\n",
        "        return inner\n",
        "    return dec"
      ]
    },
    {
      "cell_type": "code",
      "execution_count": null,
      "id": "9eeadf49-8f0b-47ae-b0fd-22d1b1818495",
      "metadata": {
        "id": "9eeadf49-8f0b-47ae-b0fd-22d1b1818495"
      },
      "outputs": [],
      "source": [
        "@dec_factory()\n",
        "def my_func(a, b):\n",
        "    return a + b"
      ]
    },
    {
      "cell_type": "code",
      "execution_count": null,
      "id": "ba9d2b9d-5455-4eb2-8af9-e226fbfe7472",
      "metadata": {
        "id": "ba9d2b9d-5455-4eb2-8af9-e226fbfe7472",
        "outputId": "64c9bc17-7c16-4741-b95a-6e90e24a4503"
      },
      "outputs": [
        {
          "name": "stdout",
          "output_type": "stream",
          "text": [
            "running decorator inner\n"
          ]
        },
        {
          "data": {
            "text/plain": [
              "30"
            ]
          },
          "execution_count": 323,
          "metadata": {},
          "output_type": "execute_result"
        }
      ],
      "source": [
        "my_func(10, 20)"
      ]
    },
    {
      "cell_type": "markdown",
      "id": "6722349d-5700-429b-87c5-c88b8d9ca609",
      "metadata": {
        "id": "6722349d-5700-429b-87c5-c88b8d9ca609"
      },
      "source": [
        "You should note that in this approach, we are calling `dec_factory()`, note the parentheses `()`, and then using the return value (a decorator) to decorate our function.\n",
        "\n",
        "So, we could pass arguments as we do so without affecting the final outcome. In fact we can even access them from anywhere inside `dec_factory`, including any of the nested functions!\n",
        "\n",
        "Let's try this:"
      ]
    },
    {
      "cell_type": "code",
      "execution_count": null,
      "id": "07973cee-be45-4fd9-8f5a-1e6fc664ad55",
      "metadata": {
        "id": "07973cee-be45-4fd9-8f5a-1e6fc664ad55"
      },
      "outputs": [],
      "source": [
        "def dec_factory(a, b):\n",
        "    def dec(fn):\n",
        "        def inner(*args, **kwargs):\n",
        "            print('running decorator inner')\n",
        "            print('free vars: ', a, b)  # a and b are free variables!\n",
        "            return fn(*args, **kwargs)\n",
        "        return inner\n",
        "    return dec"
      ]
    },
    {
      "cell_type": "code",
      "execution_count": null,
      "id": "9206f337-189b-422f-8ce3-7d0eb28de32c",
      "metadata": {
        "id": "9206f337-189b-422f-8ce3-7d0eb28de32c"
      },
      "outputs": [],
      "source": [
        "@dec_factory(10, 20)\n",
        "def my_func():\n",
        "    print('python rocks')"
      ]
    },
    {
      "cell_type": "code",
      "execution_count": null,
      "id": "67349609-0aa7-4c5d-9b3a-7be3f75bccaa",
      "metadata": {
        "id": "67349609-0aa7-4c5d-9b3a-7be3f75bccaa",
        "outputId": "bbe3ae6d-a6ac-403d-c202-6f2180a0905d"
      },
      "outputs": [
        {
          "name": "stdout",
          "output_type": "stream",
          "text": [
            "running decorator inner\n",
            "free vars:  10 20\n",
            "python rocks\n"
          ]
        }
      ],
      "source": [
        "my_func()"
      ]
    },
    {
      "cell_type": "markdown",
      "id": "80a93ab7-3e5f-4bc6-a7fe-1ff642500d52",
      "metadata": {
        "id": "80a93ab7-3e5f-4bc6-a7fe-1ff642500d52"
      },
      "source": [
        "And this is how we can create decorators with parameters. We do not directly create a decorator, instead we use an outer function that returns a decorator when called, and pass arguments to that outer function, which the decorator and its inner function can of course access as nonlocal (free) variables.\n",
        "\n",
        "So now, let's ho back to our original problem where we wanted our timing deocrator to run a number of loops which could be specified as a parameter when decorating the function we want to time.\n",
        "\n",
        "Here it is again:"
      ]
    },
    {
      "cell_type": "code",
      "execution_count": null,
      "id": "3387319d-5bd2-4f48-80db-257a967058f8",
      "metadata": {
        "id": "3387319d-5bd2-4f48-80db-257a967058f8"
      },
      "outputs": [],
      "source": [
        "def timed(fn, num_reps):\n",
        "    from time import perf_counter\n",
        "    \n",
        "    def inner(*args, **kwargs):\n",
        "        total_elapsed = 0\n",
        "        for i in range(num_reps):\n",
        "            start = perf_counter()\n",
        "            result = fn(*args, **kwargs)\n",
        "            end = perf_counter()\n",
        "            total_elapsed += (perf_counter() - start)\n",
        "        avg_elapsed = total_elapsed / num_reps\n",
        "        print('Avg Run time: {0:.6f}s ({1} reps)'.format(avg_elapsed,\n",
        "                                                        num_reps))\n",
        "        return result\n",
        "    \n",
        "    return inner"
      ]
    },
    {
      "cell_type": "markdown",
      "id": "7325228a-3ccb-489a-885b-ce18b8100e25",
      "metadata": {
        "id": "7325228a-3ccb-489a-885b-ce18b8100e25"
      },
      "source": [
        "So, all we need to do is create an outer function around our timed decorator, and pass the `num_reps` argument to that outer function instead:"
      ]
    },
    {
      "cell_type": "code",
      "execution_count": null,
      "id": "d2bbd9a0-3ab2-4962-9926-968ca6eb937c",
      "metadata": {
        "id": "d2bbd9a0-3ab2-4962-9926-968ca6eb937c"
      },
      "outputs": [],
      "source": [
        "def timed_factory(num_reps=1):\n",
        "    def timed(fn):\n",
        "        from time import perf_counter\n",
        "\n",
        "        def inner(*args, **kwargs):\n",
        "            total_elapsed = 0\n",
        "            for i in range(num_reps):\n",
        "                start = perf_counter()\n",
        "                result = fn(*args, **kwargs)\n",
        "                end = perf_counter()\n",
        "                total_elapsed += (perf_counter() - start)\n",
        "            avg_elapsed = total_elapsed / num_reps\n",
        "            print('Avg Run time: {0:.6f}s ({1} reps)'.format(avg_elapsed,\n",
        "                                                            num_reps))\n",
        "            return result\n",
        "        return inner\n",
        "    return timed    "
      ]
    },
    {
      "cell_type": "code",
      "execution_count": null,
      "id": "4e341a2c-ffe9-408b-be61-d5c18b5006ef",
      "metadata": {
        "id": "4e341a2c-ffe9-408b-be61-d5c18b5006ef"
      },
      "outputs": [],
      "source": [
        "@timed_factory(5)\n",
        "def fib(n):\n",
        "    return calc_fib_recurse(n)"
      ]
    },
    {
      "cell_type": "code",
      "execution_count": null,
      "id": "7ee5cb83-84d7-4b13-b5d2-fcbc87d3f81c",
      "metadata": {
        "id": "7ee5cb83-84d7-4b13-b5d2-fcbc87d3f81c",
        "outputId": "e1858e8f-5974-46f4-9fe8-580d6da2671e"
      },
      "outputs": [
        {
          "name": "stdout",
          "output_type": "stream",
          "text": [
            "Avg Run time: 0.310106s (5 reps)\n"
          ]
        },
        {
          "data": {
            "text/plain": [
              "832040"
            ]
          },
          "execution_count": 330,
          "metadata": {},
          "output_type": "execute_result"
        }
      ],
      "source": [
        "fib(30)"
      ]
    },
    {
      "cell_type": "markdown",
      "id": "dd9cd332-b298-452c-8fc8-531b78f5d383",
      "metadata": {
        "id": "dd9cd332-b298-452c-8fc8-531b78f5d383"
      },
      "source": [
        "Just to put the finishing touch on this, we probably don't want to have our ouer function named the way it is (`timed_factory`). Instead we probably just want to call it `timed`. So lets just do this final part:"
      ]
    },
    {
      "cell_type": "code",
      "execution_count": null,
      "id": "acc5d1cb-2f97-4855-b138-56a5a50bb98c",
      "metadata": {
        "id": "acc5d1cb-2f97-4855-b138-56a5a50bb98c"
      },
      "outputs": [],
      "source": [
        "from functools import wraps\n",
        "\n",
        "def timed(num_reps=1):\n",
        "    def decorator(fn):\n",
        "        from time import perf_counter\n",
        "\n",
        "        @wraps(fn)\n",
        "        def inner(*args, **kwargs):\n",
        "            total_elapsed = 0\n",
        "            for i in range(num_reps):\n",
        "                start = perf_counter()\n",
        "                result = fn(*args, **kwargs)\n",
        "                end = perf_counter()\n",
        "                total_elapsed += (perf_counter() - start)\n",
        "            avg_elapsed = total_elapsed / num_reps\n",
        "            print('Avg Run time: {0:.6f}s ({1} reps)'.format(avg_elapsed,\n",
        "                                                            num_reps))\n",
        "            return result\n",
        "        return inner\n",
        "    return decorator  "
      ]
    },
    {
      "cell_type": "code",
      "execution_count": null,
      "id": "bc14c7fd-3ed6-456b-a83f-eefebc97bffe",
      "metadata": {
        "id": "bc14c7fd-3ed6-456b-a83f-eefebc97bffe"
      },
      "outputs": [],
      "source": [
        "@timed(5)\n",
        "def fib(n):\n",
        "    return calc_fib_recurse(n)"
      ]
    },
    {
      "cell_type": "code",
      "execution_count": null,
      "id": "6c753dfe-8867-4415-bf54-fcbcb5afcf2a",
      "metadata": {
        "id": "6c753dfe-8867-4415-bf54-fcbcb5afcf2a",
        "outputId": "eaf41b8d-b372-426c-820e-5a81244f533e"
      },
      "outputs": [
        {
          "name": "stdout",
          "output_type": "stream",
          "text": [
            "Avg Run time: 0.291452s (5 reps)\n"
          ]
        },
        {
          "data": {
            "text/plain": [
              "832040"
            ]
          },
          "execution_count": 333,
          "metadata": {},
          "output_type": "execute_result"
        }
      ],
      "source": [
        "fib(30)"
      ]
    },
    {
      "cell_type": "markdown",
      "id": "1762f63b-7c2d-44f6-93e1-7406dabb0643",
      "metadata": {
        "id": "1762f63b-7c2d-44f6-93e1-7406dabb0643"
      },
      "source": [
        "### 11 - Decorator Application - Decorator Class"
      ]
    },
    {
      "cell_type": "markdown",
      "id": "990cebae-69aa-4b33-a7b5-8aa3dfa90430",
      "metadata": {
        "id": "990cebae-69aa-4b33-a7b5-8aa3dfa90430"
      },
      "source": [
        "If you recalls how we wrote a parameterized decorator, we had to write a decorator factory that took in the arguments for our decorator and then returned the decorator (which could reference the arguments as free variables).\n",
        "\n",
        "Very simply:"
      ]
    },
    {
      "cell_type": "code",
      "execution_count": null,
      "id": "f250331f-f343-4e10-a222-03dd0b78f2f3",
      "metadata": {
        "id": "f250331f-f343-4e10-a222-03dd0b78f2f3"
      },
      "outputs": [],
      "source": [
        "def my_dec(a, b):\n",
        "    def dec(fn):\n",
        "        def inner(*args, **kwargs):\n",
        "            print('decorated function called: a={0}, b={1}'.format(a, b))\n",
        "            return fn(*args, **kwargs)\n",
        "        return inner\n",
        "    return dec"
      ]
    },
    {
      "cell_type": "code",
      "execution_count": null,
      "id": "2c413be6-09a2-4bff-8e4e-120d1c32b409",
      "metadata": {
        "id": "2c413be6-09a2-4bff-8e4e-120d1c32b409"
      },
      "outputs": [],
      "source": [
        "@my_dec(10, 20)\n",
        "def my_func(s):\n",
        "    print('hello {0}'.format(s))"
      ]
    },
    {
      "cell_type": "code",
      "execution_count": null,
      "id": "d2f302d8-b88f-4ea4-80c2-1f26668895c5",
      "metadata": {
        "id": "d2f302d8-b88f-4ea4-80c2-1f26668895c5",
        "outputId": "4b23eac2-d05d-45e0-ed6c-274946c1c6e7"
      },
      "outputs": [
        {
          "name": "stdout",
          "output_type": "stream",
          "text": [
            "decorated function called: a=10, b=20\n",
            "hello world\n"
          ]
        }
      ],
      "source": [
        "my_func('world')"
      ]
    },
    {
      "cell_type": "markdown",
      "id": "9ce71399-0eef-45e4-a998-458695f86994",
      "metadata": {
        "id": "9ce71399-0eef-45e4-a998-458695f86994"
      },
      "source": [
        "So, our decorator factory was passed some arguments, and returned a callable which took one single parameter, the function being decorated, but also had access to the arguments passed to the factory.\n",
        "\n",
        "Now, recall that we can make our class instances callable, simply by implementing the `__call__` method.\n",
        "\n",
        "Here's a simple example:"
      ]
    },
    {
      "cell_type": "code",
      "execution_count": null,
      "id": "ab73553d-c1de-4c65-a263-0ee55a5205df",
      "metadata": {
        "id": "ab73553d-c1de-4c65-a263-0ee55a5205df"
      },
      "outputs": [],
      "source": [
        "class MyClass:\n",
        "    def __init__(self, a, b):\n",
        "        self.a = a\n",
        "        self.b = b\n",
        "        \n",
        "    def __call__(self):\n",
        "        print('MyClass instance called: a={0}, b={1}'.format(self.a, self.b))"
      ]
    },
    {
      "cell_type": "code",
      "execution_count": null,
      "id": "9f6a0906-574e-4b9d-81e7-d1da09d30c13",
      "metadata": {
        "id": "9f6a0906-574e-4b9d-81e7-d1da09d30c13"
      },
      "outputs": [],
      "source": [
        "my_class = MyClass(10, 20)"
      ]
    },
    {
      "cell_type": "code",
      "execution_count": null,
      "id": "90e8416b-15bb-4a80-bab3-2041b5ae3a8c",
      "metadata": {
        "id": "90e8416b-15bb-4a80-bab3-2041b5ae3a8c",
        "outputId": "07478d20-50de-4da8-fc90-f648ef883cc6"
      },
      "outputs": [
        {
          "name": "stdout",
          "output_type": "stream",
          "text": [
            "MyClass instance called: a=10, b=20\n"
          ]
        }
      ],
      "source": [
        "my_class()"
      ]
    },
    {
      "cell_type": "markdown",
      "id": "d6a98c7e-ccaf-488b-82ae-2f3615f98e42",
      "metadata": {
        "id": "d6a98c7e-ccaf-488b-82ae-2f3615f98e42"
      },
      "source": [
        "So let's mddify this just a bit, and have the `__call__` method be our decorator!"
      ]
    },
    {
      "cell_type": "code",
      "execution_count": null,
      "id": "cb33d783-ceb5-4e05-bbac-ca2c290e21b0",
      "metadata": {
        "id": "cb33d783-ceb5-4e05-bbac-ca2c290e21b0"
      },
      "outputs": [],
      "source": [
        "class MyClass:\n",
        "    def __init__(self, a, b):\n",
        "        self.a = a\n",
        "        self.b = b\n",
        "        \n",
        "    def __call__(self, fn):\n",
        "        def inner(*args, **kwargs):\n",
        "            print('MyClass instance called: a={0}, b={1}'.format(self.a, self.b))\n",
        "            return fn(*args, **kwargs)\n",
        "        return inner"
      ]
    },
    {
      "cell_type": "markdown",
      "id": "1590f840-97ec-4747-bab0-60da75f5d7cd",
      "metadata": {
        "id": "1590f840-97ec-4747-bab0-60da75f5d7cd"
      },
      "source": [
        "So, we can decorate our functions this way:"
      ]
    },
    {
      "cell_type": "code",
      "execution_count": null,
      "id": "f9e702a1-f818-4393-b08e-63a5f411fc24",
      "metadata": {
        "id": "f9e702a1-f818-4393-b08e-63a5f411fc24"
      },
      "outputs": [],
      "source": [
        "@MyClass(10, 20)\n",
        "def my_func(s):\n",
        "    print('Hello {0}!'.format(s))"
      ]
    },
    {
      "cell_type": "markdown",
      "id": "1a84c645-2c00-442a-889e-616509338656",
      "metadata": {
        "id": "1a84c645-2c00-442a-889e-616509338656"
      },
      "source": [
        "Remember that `@MyClass(10, 20)` returned an object of type `MyClass`. But that object is itself callable, so we could do something line:\n",
        "\n",
        "```\n",
        "my_func = MyClass(10, 20)(my_func)\n",
        "```\n",
        "or, more simply\n",
        "\n",
        "```\n",
        "@MyClass(10, 20)\n",
        "def my_func(s):\n",
        "    print(s)\n",
        "```"
      ]
    },
    {
      "cell_type": "code",
      "execution_count": null,
      "id": "16acef4e-12c0-4ca7-a2b3-e6f665add854",
      "metadata": {
        "id": "16acef4e-12c0-4ca7-a2b3-e6f665add854",
        "outputId": "b8d3f7f2-156b-4f30-e169-2a25ed3ac720"
      },
      "outputs": [
        {
          "name": "stdout",
          "output_type": "stream",
          "text": [
            "MyClass instance called: a=10, b=20\n",
            "Hello Python!\n"
          ]
        }
      ],
      "source": [
        "my_func('Python')"
      ]
    },
    {
      "cell_type": "markdown",
      "id": "af75261c-a3ea-4757-a2dc-40ba47d985fb",
      "metadata": {
        "id": "af75261c-a3ea-4757-a2dc-40ba47d985fb"
      },
      "source": [
        "So as you can see, we can also use callable classes to decorate functions!"
      ]
    },
    {
      "cell_type": "markdown",
      "id": "289dbb3b-2fb6-4dcb-b7d6-df5c651a9f90",
      "metadata": {
        "id": "289dbb3b-2fb6-4dcb-b7d6-df5c651a9f90"
      },
      "source": [
        "### 12 - Decorator Application - Decorating Classes"
      ]
    },
    {
      "cell_type": "markdown",
      "id": "788c1adc-a10f-4588-8abd-6bcea3c49a12",
      "metadata": {
        "id": "788c1adc-a10f-4588-8abd-6bcea3c49a12"
      },
      "source": [
        "We have so far worked with decorating functions. This means we can decorate functions defined with a `def` statement (we can use the `@` sytnax, or the long form). Since class methods are functions, they can be decorated too. Lambda expressions can also be decorated (using the long form).\n",
        "\n",
        "But if you think about how our decorators work, they take a single parameter, a function, and return some other function - usually a closure that uses the original function that was passed as an argument.\n",
        "\n",
        "We could use the same concept to accept, not a function, but a class instead. We could reference that class inside our decorator, modify it, and then return that modified class.\n",
        "\n",
        "First we look at something called **monkey patching**. It boils down to modifying or extending our code at **run time**.\n",
        "\n",
        "For example we can modify or add attributes to classes at run time. Modules too.\n",
        "\n",
        "In Python, many of the classes we use can be modified at run time (built-ins like strings, lists, and so on, cannot).\n",
        "\n",
        "But  classes written in Python, such as the ones we write, and even library classes, as long as they are written in Python, not C, can. For example `Fraction` in the `fractions` module can be monkey patched.\n",
        "\n",
        "Just because we can do something however, does not mean we should! Monkey patching can be extremely useful, but don't do it just because you can - as always there should be a real reason to do it, as we'll see in a bit.\n",
        "\n",
        "Also, in general it is a bad idea to monkey patch the special methods `__???__` (such as `__len__`) as this will often not work due to how these methods are searched for by Python."
      ]
    },
    {
      "cell_type": "code",
      "execution_count": null,
      "id": "6d3e3131-b27d-4b45-93de-4031e89d285b",
      "metadata": {
        "id": "6d3e3131-b27d-4b45-93de-4031e89d285b"
      },
      "outputs": [],
      "source": [
        "from fractions import Fraction"
      ]
    },
    {
      "cell_type": "code",
      "execution_count": null,
      "id": "dd63baf5-06eb-43bd-87a3-499517a24637",
      "metadata": {
        "id": "dd63baf5-06eb-43bd-87a3-499517a24637"
      },
      "outputs": [],
      "source": [
        "Fraction.speak = lambda self: 'This is a late parrot.'"
      ]
    },
    {
      "cell_type": "code",
      "execution_count": null,
      "id": "8423c70b-6990-42bb-b234-fb732321c424",
      "metadata": {
        "id": "8423c70b-6990-42bb-b234-fb732321c424"
      },
      "outputs": [],
      "source": [
        "f = Fraction(2, 3)"
      ]
    },
    {
      "cell_type": "code",
      "execution_count": null,
      "id": "afadea8b-7573-45a3-b433-9e339e6f8d74",
      "metadata": {
        "id": "afadea8b-7573-45a3-b433-9e339e6f8d74",
        "outputId": "9a48024a-8feb-43eb-adda-0679b70d2aa3"
      },
      "outputs": [
        {
          "data": {
            "text/plain": [
              "Fraction(2, 3)"
            ]
          },
          "execution_count": 346,
          "metadata": {},
          "output_type": "execute_result"
        }
      ],
      "source": [
        "f"
      ]
    },
    {
      "cell_type": "code",
      "execution_count": null,
      "id": "676009c4-a833-43e8-9bfd-31af912af721",
      "metadata": {
        "id": "676009c4-a833-43e8-9bfd-31af912af721",
        "outputId": "977b5c07-345f-46c2-ce78-c3a4b6b9fe43"
      },
      "outputs": [
        {
          "data": {
            "text/plain": [
              "'This is a late parrot.'"
            ]
          },
          "execution_count": 347,
          "metadata": {},
          "output_type": "execute_result"
        }
      ],
      "source": [
        "f.speak()"
      ]
    },
    {
      "cell_type": "markdown",
      "id": "e7898bc8-ed04-40d2-becd-937f3830e40f",
      "metadata": {
        "id": "e7898bc8-ed04-40d2-becd-937f3830e40f"
      },
      "source": [
        "Yes, this is obviously nonsense, but you get the idea that you can add attributes to classes even if you do not have direct control over class, or after your class has been defined.\n",
        "\n",
        "If you want a more useful method, how about one that tells us if the Fraction is an integral number? (i.e. denominator is `1`)"
      ]
    },
    {
      "cell_type": "code",
      "execution_count": null,
      "id": "16219dd7-093e-4312-9b48-ffe01469b37a",
      "metadata": {
        "id": "16219dd7-093e-4312-9b48-ffe01469b37a"
      },
      "outputs": [],
      "source": [
        "Fraction.is_integral = lambda self: self.denominator == 1"
      ]
    },
    {
      "cell_type": "code",
      "execution_count": null,
      "id": "13cc0c26-4ce0-4a22-9e3f-1036244804c9",
      "metadata": {
        "id": "13cc0c26-4ce0-4a22-9e3f-1036244804c9"
      },
      "outputs": [],
      "source": [
        "f1 = Fraction(1, 2)\n",
        "f2 = Fraction(10, 5)"
      ]
    },
    {
      "cell_type": "code",
      "execution_count": null,
      "id": "a9a35cd9-40ea-4591-aacc-4d394a352cee",
      "metadata": {
        "id": "a9a35cd9-40ea-4591-aacc-4d394a352cee",
        "outputId": "fe5cd626-4bfd-4c7d-cbe9-6283109a64a6"
      },
      "outputs": [
        {
          "data": {
            "text/plain": [
              "False"
            ]
          },
          "execution_count": 350,
          "metadata": {},
          "output_type": "execute_result"
        }
      ],
      "source": [
        "f1.is_integral()"
      ]
    },
    {
      "cell_type": "code",
      "execution_count": null,
      "id": "6396da81-940d-4079-bee1-7dae4662c52a",
      "metadata": {
        "id": "6396da81-940d-4079-bee1-7dae4662c52a",
        "outputId": "9af903d8-591b-4a9b-ac22-68c3ce38552f"
      },
      "outputs": [
        {
          "data": {
            "text/plain": [
              "True"
            ]
          },
          "execution_count": 351,
          "metadata": {},
          "output_type": "execute_result"
        }
      ],
      "source": [
        "f2.is_integral()"
      ]
    },
    {
      "cell_type": "markdown",
      "id": "c471c91a-fcbf-4fb6-951b-fe6ee6fbf43a",
      "metadata": {
        "id": "c471c91a-fcbf-4fb6-951b-fe6ee6fbf43a"
      },
      "source": [
        "Now, we can make this change to the class by calling a function to do it instead:"
      ]
    },
    {
      "cell_type": "code",
      "execution_count": null,
      "id": "d157fd57-cc17-4529-882e-0dd632001eaf",
      "metadata": {
        "id": "d157fd57-cc17-4529-882e-0dd632001eaf"
      },
      "outputs": [],
      "source": [
        "def dec_speak(cls):\n",
        "    cls.speak = lambda self: 'This is a very late parrot.'\n",
        "    return cls"
      ]
    },
    {
      "cell_type": "code",
      "execution_count": null,
      "id": "7c6a5d10-24a4-4c1c-a47b-81da3e9db1db",
      "metadata": {
        "id": "7c6a5d10-24a4-4c1c-a47b-81da3e9db1db"
      },
      "outputs": [],
      "source": [
        "Fraction = dec_speak(Fraction)"
      ]
    },
    {
      "cell_type": "markdown",
      "id": "be1e4e06-a9f0-42a3-a95f-3ba9703820fa",
      "metadata": {
        "id": "be1e4e06-a9f0-42a3-a95f-3ba9703820fa"
      },
      "source": [
        "(Hopefully the above code reminds you of decorators.)"
      ]
    },
    {
      "cell_type": "code",
      "execution_count": null,
      "id": "86af8205-561d-43b2-8ee1-46970aa89c50",
      "metadata": {
        "id": "86af8205-561d-43b2-8ee1-46970aa89c50"
      },
      "outputs": [],
      "source": [
        "f = Fraction(10, 2)"
      ]
    },
    {
      "cell_type": "code",
      "execution_count": null,
      "id": "a223b60e-a830-4041-8e37-d08456171735",
      "metadata": {
        "id": "a223b60e-a830-4041-8e37-d08456171735",
        "outputId": "35fd4388-4690-4e3a-bde6-54d1cf88c87f"
      },
      "outputs": [
        {
          "data": {
            "text/plain": [
              "'This is a very late parrot.'"
            ]
          },
          "execution_count": 355,
          "metadata": {},
          "output_type": "execute_result"
        }
      ],
      "source": [
        "f.speak()"
      ]
    },
    {
      "cell_type": "markdown",
      "id": "7f69f02b-09f7-4b40-9799-9ef708e8828b",
      "metadata": {
        "id": "7f69f02b-09f7-4b40-9799-9ef708e8828b"
      },
      "source": [
        "We can use that function to decorate our custom classes too, using the short `@` syntax too."
      ]
    },
    {
      "cell_type": "code",
      "execution_count": null,
      "id": "50106db1-a3f6-4844-97ca-58dc44034348",
      "metadata": {
        "id": "50106db1-a3f6-4844-97ca-58dc44034348"
      },
      "outputs": [],
      "source": [
        "@dec_speak\n",
        "class Parrot:\n",
        "    def __init__(self):\n",
        "        self.state = 'late'"
      ]
    },
    {
      "cell_type": "code",
      "execution_count": null,
      "id": "00c87588-0ebd-4e57-b3c4-8a8e3cad0acd",
      "metadata": {
        "id": "00c87588-0ebd-4e57-b3c4-8a8e3cad0acd"
      },
      "outputs": [],
      "source": [
        "polly = Parrot()"
      ]
    },
    {
      "cell_type": "code",
      "execution_count": null,
      "id": "6bcec184-9daf-443e-a75b-9514c12e00d8",
      "metadata": {
        "id": "6bcec184-9daf-443e-a75b-9514c12e00d8",
        "outputId": "e3d8bc2d-6f02-4a97-962e-cc66b392b2ea"
      },
      "outputs": [
        {
          "data": {
            "text/plain": [
              "'This is a very late parrot.'"
            ]
          },
          "execution_count": 358,
          "metadata": {},
          "output_type": "execute_result"
        }
      ],
      "source": [
        "polly.speak()"
      ]
    },
    {
      "cell_type": "markdown",
      "id": "4ecaf151-b159-43f8-bb69-596bcd8bae03",
      "metadata": {
        "id": "4ecaf151-b159-43f8-bb69-596bcd8bae03"
      },
      "source": [
        "Using this technique we could for example add a useful *reciprocal* attribute to the Fraction class, but of course since it would probably be a one time kind of thing (how many Fraction classes are there that you will want to add a reciprocal to after all), there's no need for decorators. Decorators are useful when they are able to be reused in more general ways."
      ]
    },
    {
      "cell_type": "code",
      "execution_count": null,
      "id": "11e55c12-8221-4e93-8737-fc0764908719",
      "metadata": {
        "id": "11e55c12-8221-4e93-8737-fc0764908719"
      },
      "outputs": [],
      "source": [
        "Fraction.recip = lambda self: Fraction(self.denominator, self.numerator)"
      ]
    },
    {
      "cell_type": "code",
      "execution_count": null,
      "id": "23cb35a5-44ab-4e64-aa7b-f4fb266a5e93",
      "metadata": {
        "id": "23cb35a5-44ab-4e64-aa7b-f4fb266a5e93"
      },
      "outputs": [],
      "source": [
        "f = Fraction(2, 3)"
      ]
    },
    {
      "cell_type": "code",
      "execution_count": null,
      "id": "651a6055-4fa5-47f7-bbd8-4e89cf942964",
      "metadata": {
        "id": "651a6055-4fa5-47f7-bbd8-4e89cf942964",
        "outputId": "f64f3a49-366b-4062-934d-24fc5cd9d484"
      },
      "outputs": [
        {
          "data": {
            "text/plain": [
              "Fraction(2, 3)"
            ]
          },
          "execution_count": 361,
          "metadata": {},
          "output_type": "execute_result"
        }
      ],
      "source": [
        "f"
      ]
    },
    {
      "cell_type": "code",
      "execution_count": null,
      "id": "0f6dcf1e-e78e-4577-a32b-10bf63405926",
      "metadata": {
        "id": "0f6dcf1e-e78e-4577-a32b-10bf63405926",
        "outputId": "5205d165-8c72-41ac-b648-fca28d7aa084"
      },
      "outputs": [
        {
          "data": {
            "text/plain": [
              "Fraction(3, 2)"
            ]
          },
          "execution_count": 362,
          "metadata": {},
          "output_type": "execute_result"
        }
      ],
      "source": [
        "f.recip()"
      ]
    },
    {
      "cell_type": "markdown",
      "id": "c55ab459-c2e8-4315-b9fc-b45e63540b90",
      "metadata": {
        "id": "c55ab459-c2e8-4315-b9fc-b45e63540b90"
      },
      "source": [
        "These example are quite trivial, and not very useful.\n",
        "\n",
        "So why bring this up?\n",
        "\n",
        "Because this same technique can be used for more interesting things.\n",
        "\n",
        "As a first example, let's say you typically like to inspect various properties of an object for debugging purposes, maybe the memory address, it's current state (property values), and the time at which the debug info was generated."
      ]
    },
    {
      "cell_type": "code",
      "execution_count": null,
      "id": "9d5545bb-3d09-44c3-b55d-c10ddf53e4f4",
      "metadata": {
        "id": "9d5545bb-3d09-44c3-b55d-c10ddf53e4f4"
      },
      "outputs": [],
      "source": [
        "from datetime import datetime, timezone"
      ]
    },
    {
      "cell_type": "code",
      "execution_count": null,
      "id": "ed450792-e445-4ffc-90c8-03005442ee01",
      "metadata": {
        "id": "ed450792-e445-4ffc-90c8-03005442ee01"
      },
      "outputs": [],
      "source": [
        "def debug_info(cls):\n",
        "    def info(self):\n",
        "        results = []\n",
        "        results.append('time: {0}'.format(datetime.now(timezone.utc)))\n",
        "        results.append('class: {0}'.format(self.__class__.__name__))\n",
        "        results.append('id: {0}'.format(hex(id(self))))\n",
        "        \n",
        "        if vars(self):\n",
        "            for k, v in vars(self).items():\n",
        "                results.append('{0}: {1}'.format(k, v))\n",
        "        \n",
        "        # we have not covered lists, the extend method and generators,\n",
        "        # but note that a more Pythonic way to do this would be:\n",
        "        #if vars(self):\n",
        "        #    results.extend('{0}: {1}'.format(k, v) \n",
        "        #                   for k, v in vars(self).items())\n",
        "        \n",
        "        return results\n",
        "    \n",
        "    cls.debug = info\n",
        "    \n",
        "    return cls  "
      ]
    },
    {
      "cell_type": "code",
      "execution_count": null,
      "id": "9ed660c5-dfdf-427d-b4ca-7446f4914eee",
      "metadata": {
        "id": "9ed660c5-dfdf-427d-b4ca-7446f4914eee"
      },
      "outputs": [],
      "source": [
        "@debug_info\n",
        "class Person:\n",
        "    def __init__(self, name, birth_year):\n",
        "        self.name = name\n",
        "        self.birth_year = birth_year\n",
        "        \n",
        "    def say_hi():\n",
        "        return 'Hello there!'"
      ]
    },
    {
      "cell_type": "code",
      "execution_count": null,
      "id": "8ce3447c-aec9-46af-9959-3a1116df1842",
      "metadata": {
        "id": "8ce3447c-aec9-46af-9959-3a1116df1842"
      },
      "outputs": [],
      "source": [
        "p1 = Person('John', 1939)"
      ]
    },
    {
      "cell_type": "code",
      "execution_count": null,
      "id": "1f544910-b8a6-458e-92af-09590cf966dd",
      "metadata": {
        "id": "1f544910-b8a6-458e-92af-09590cf966dd",
        "outputId": "f3be4b2e-8997-4023-a778-ce0e1b4a26ba"
      },
      "outputs": [
        {
          "data": {
            "text/plain": [
              "['time: 2022-11-18 16:52:44.796363+00:00',\n",
              " 'class: Person',\n",
              " 'id: 0x1c71a4bff40',\n",
              " 'name: John',\n",
              " 'birth_year: 1939']"
            ]
          },
          "execution_count": 367,
          "metadata": {},
          "output_type": "execute_result"
        }
      ],
      "source": [
        "p1.debug()"
      ]
    },
    {
      "cell_type": "markdown",
      "id": "c55c4d5e-7670-4fb5-ba96-120b5a12386d",
      "metadata": {
        "id": "c55c4d5e-7670-4fb5-ba96-120b5a12386d"
      },
      "source": [
        "And of course we can decorate other classes this way too, not just a single class:"
      ]
    },
    {
      "cell_type": "code",
      "execution_count": null,
      "id": "c7c157f7-12e8-4c87-aafb-cf70b82d1ce3",
      "metadata": {
        "id": "c7c157f7-12e8-4c87-aafb-cf70b82d1ce3"
      },
      "outputs": [],
      "source": [
        "@debug_info\n",
        "class Automobile:\n",
        "    def __init__(self, make, model, year, top_speed_mph):\n",
        "        self.make = make\n",
        "        self.model = model\n",
        "        self.year = year\n",
        "        self.top_speed_mph = top_speed_mph\n",
        "        self.current_speed = 0\n",
        "        \n",
        "    @property\n",
        "    def speed(self):\n",
        "        return self.current_speed\n",
        "    \n",
        "    @speed.setter\n",
        "    def speed(self, new_speed):\n",
        "        self.current_speed = new_speed"
      ]
    },
    {
      "cell_type": "code",
      "execution_count": null,
      "id": "3f681c42-28ad-424b-af5e-07a66e06ffcf",
      "metadata": {
        "id": "3f681c42-28ad-424b-af5e-07a66e06ffcf"
      },
      "outputs": [],
      "source": [
        "s = Automobile('Ford', 'Model T', 1908, 45)"
      ]
    },
    {
      "cell_type": "code",
      "execution_count": null,
      "id": "d530ddd1-687f-4380-b7c9-b41b8ef9b495",
      "metadata": {
        "id": "d530ddd1-687f-4380-b7c9-b41b8ef9b495",
        "outputId": "9f86ddc4-3485-403d-d43d-0d79a256b426"
      },
      "outputs": [
        {
          "data": {
            "text/plain": [
              "['time: 2022-11-18 16:52:44.842366+00:00',\n",
              " 'class: Automobile',\n",
              " 'id: 0x1c71a4c7310',\n",
              " 'make: Ford',\n",
              " 'model: Model T',\n",
              " 'year: 1908',\n",
              " 'top_speed_mph: 45',\n",
              " 'current_speed: 0']"
            ]
          },
          "execution_count": 370,
          "metadata": {},
          "output_type": "execute_result"
        }
      ],
      "source": [
        "s.debug()"
      ]
    },
    {
      "cell_type": "code",
      "execution_count": null,
      "id": "dd1325df-3caa-42e9-a799-1da4c9c09e91",
      "metadata": {
        "id": "dd1325df-3caa-42e9-a799-1da4c9c09e91"
      },
      "outputs": [],
      "source": [
        "s.speed = 20"
      ]
    },
    {
      "cell_type": "code",
      "execution_count": null,
      "id": "0dab8418-27e0-4fb8-8a27-b3dd52352669",
      "metadata": {
        "id": "0dab8418-27e0-4fb8-8a27-b3dd52352669",
        "outputId": "2031a120-8a7a-4266-8ae6-f4bf914ffadd"
      },
      "outputs": [
        {
          "data": {
            "text/plain": [
              "['time: 2022-11-18 16:52:44.872903+00:00',\n",
              " 'class: Automobile',\n",
              " 'id: 0x1c71a4c7310',\n",
              " 'make: Ford',\n",
              " 'model: Model T',\n",
              " 'year: 1908',\n",
              " 'top_speed_mph: 45',\n",
              " 'current_speed: 20']"
            ]
          },
          "execution_count": 372,
          "metadata": {},
          "output_type": "execute_result"
        }
      ],
      "source": [
        "s.debug()"
      ]
    },
    {
      "cell_type": "code",
      "execution_count": null,
      "id": "df1a0969-f5dd-4b8d-8660-30c78da73952",
      "metadata": {
        "id": "df1a0969-f5dd-4b8d-8660-30c78da73952"
      },
      "outputs": [],
      "source": [
        "from math import sqrt"
      ]
    },
    {
      "cell_type": "code",
      "execution_count": null,
      "id": "a5aaa02f-ab3f-45eb-9422-994420a7eeee",
      "metadata": {
        "id": "a5aaa02f-ab3f-45eb-9422-994420a7eeee"
      },
      "outputs": [],
      "source": [
        "class Point:\n",
        "    def __init__(self,x, y):\n",
        "        self.x = x\n",
        "        self.y = y\n",
        "    \n",
        "    def __abs__(self):\n",
        "        return sqrt(self.x**2 + self.y**2)\n",
        "    \n",
        "    def __repr__(self):\n",
        "        return 'Point({0},{1})'.format(self.x, self.y)\n",
        "    "
      ]
    },
    {
      "cell_type": "code",
      "execution_count": null,
      "id": "a66838f1-b935-43f5-8afc-ca96534d90b9",
      "metadata": {
        "id": "a66838f1-b935-43f5-8afc-ca96534d90b9"
      },
      "outputs": [],
      "source": [
        "p1, p2, p3 = Point(2, 3), Point(2, 3), Point(0, 0)"
      ]
    },
    {
      "cell_type": "code",
      "execution_count": null,
      "id": "cc4c02b5-3fab-4484-8ff3-a4cf22de774d",
      "metadata": {
        "id": "cc4c02b5-3fab-4484-8ff3-a4cf22de774d",
        "outputId": "6640d3c6-a024-444d-ff8a-b8d34676b352"
      },
      "outputs": [
        {
          "data": {
            "text/plain": [
              "3.605551275463989"
            ]
          },
          "execution_count": 376,
          "metadata": {},
          "output_type": "execute_result"
        }
      ],
      "source": [
        "abs(p1)"
      ]
    },
    {
      "cell_type": "code",
      "execution_count": null,
      "id": "3e2152bc-e006-49c0-9d89-f482d0c99c5a",
      "metadata": {
        "id": "3e2152bc-e006-49c0-9d89-f482d0c99c5a",
        "outputId": "22739073-ccd0-4e22-8177-c6be3b7e74eb"
      },
      "outputs": [
        {
          "data": {
            "text/plain": [
              "(Point(2,3), Point(2,3))"
            ]
          },
          "execution_count": 377,
          "metadata": {},
          "output_type": "execute_result"
        }
      ],
      "source": [
        "p1, p2"
      ]
    },
    {
      "cell_type": "code",
      "execution_count": null,
      "id": "fa3a096c-7d07-43a9-92aa-d7a2aa049c17",
      "metadata": {
        "id": "fa3a096c-7d07-43a9-92aa-d7a2aa049c17",
        "outputId": "a3f95a2d-4416-47d0-e4b2-3af4fef227aa"
      },
      "outputs": [
        {
          "data": {
            "text/plain": [
              "False"
            ]
          },
          "execution_count": 378,
          "metadata": {},
          "output_type": "execute_result"
        }
      ],
      "source": [
        "p1 == p2"
      ]
    },
    {
      "cell_type": "markdown",
      "id": "a898e4fe-8eb5-4c71-99d8-eedec55fb9a3",
      "metadata": {
        "id": "a898e4fe-8eb5-4c71-99d8-eedec55fb9a3"
      },
      "source": [
        "Hmm, we probably would have expected `p1` to be equal `p2` since it has the same coordinates. But by default Python will compare memory addresses, since our class does not implement the `__eq__` method used for `==` comparisons."
      ]
    },
    {
      "cell_type": "code",
      "execution_count": null,
      "id": "30939bdd-72b3-4797-ab5a-3515fd154a02",
      "metadata": {
        "id": "30939bdd-72b3-4797-ab5a-3515fd154a02",
        "outputId": "7af649a0-3bba-4575-8f59-9e77cb85e4af"
      },
      "outputs": [
        {
          "data": {
            "text/plain": [
              "(Point(2,3), Point(2,3))"
            ]
          },
          "execution_count": 379,
          "metadata": {},
          "output_type": "execute_result"
        }
      ],
      "source": [
        "p1, p2"
      ]
    },
    {
      "cell_type": "code",
      "execution_count": null,
      "id": "94c23e67-956c-4f53-b2d1-cb3bbd5bf17f",
      "metadata": {
        "id": "94c23e67-956c-4f53-b2d1-cb3bbd5bf17f",
        "outputId": "c253aaae-6121-4d65-cf99-ce61575b96a2"
      },
      "outputs": [
        {
          "ename": "TypeError",
          "evalue": "'>' not supported between instances of 'Point' and 'Point'",
          "output_type": "error",
          "traceback": [
            "\u001b[1;31m---------------------------------------------------------------------------\u001b[0m",
            "\u001b[1;31mTypeError\u001b[0m                                 Traceback (most recent call last)",
            "Input \u001b[1;32mIn [380]\u001b[0m, in \u001b[0;36m<cell line: 1>\u001b[1;34m()\u001b[0m\n\u001b[1;32m----> 1\u001b[0m \u001b[43mp2\u001b[49m\u001b[43m \u001b[49m\u001b[38;5;241;43m>\u001b[39;49m\u001b[43m \u001b[49m\u001b[43mp3\u001b[49m\n",
            "\u001b[1;31mTypeError\u001b[0m: '>' not supported between instances of 'Point' and 'Point'"
          ]
        }
      ],
      "source": [
        "p2 > p3"
      ]
    },
    {
      "cell_type": "markdown",
      "id": "112107c0-c1e2-408f-9511-99af60e37a8d",
      "metadata": {
        "id": "112107c0-c1e2-408f-9511-99af60e37a8d"
      },
      "source": [
        "So, that class does not support the comparison operators such as `<`, `<=`, etc.\n",
        "\n",
        "Even `==` does not work as expected - it will use the memory address instead of using a comparison of the `x` and `y` coordinates as we might probably expect.\n",
        "\n",
        "For the `<` operator, we need our class to implement the `__lt__` method, and for `==` we need the `__eq__` method.\n",
        "\n",
        "Other comparison operators are supported by implementing a variety of functions such as `__le__` (`<=`), `__gt__` (`>`), `__ge__` (`>=`).\n",
        "\n",
        "We are going to add the `__lt__` and `__eq__` methods to our Point class.\n",
        "\n",
        "We will consider a Point object to be smaller than another one if it is closer to the origin (i.e. smaller magnitude)."
      ]
    },
    {
      "cell_type": "code",
      "execution_count": null,
      "id": "af964fe1-11d7-4981-a6a4-b497655d232c",
      "metadata": {
        "id": "af964fe1-11d7-4981-a6a4-b497655d232c"
      },
      "outputs": [],
      "source": [
        "del Point\n",
        "\n",
        "class Point:\n",
        "    def __init__(self, x, y):\n",
        "        self.x = x\n",
        "        self.y = y\n",
        "        \n",
        "    def __abs__(self):\n",
        "        return sqrt(self.x**2 + self.y**2)\n",
        "    \n",
        "    def __eq__(self, other):\n",
        "        if isinstance(other, Point):\n",
        "            return self.x == other.x and self.y == other.y\n",
        "        else:\n",
        "            return NotImplemented\n",
        "        \n",
        "    def __lt__(self, other):\n",
        "        if isinstance(other, Point):\n",
        "            return abs(self) < abs(other)\n",
        "        else:\n",
        "            return NotImplemented\n",
        "        \n",
        "    def __repr__(self):\n",
        "        return '{0}({1},{2})'.format(self.__class__.__name__,self.x, self.y)"
      ]
    },
    {
      "cell_type": "code",
      "execution_count": null,
      "id": "eba9c647-c0ba-4fe7-a5e4-72f112ebf6ab",
      "metadata": {
        "id": "eba9c647-c0ba-4fe7-a5e4-72f112ebf6ab"
      },
      "outputs": [],
      "source": [
        "p1, p2, p3 = Point(2, 3), Point(2, 3), Point(0, 0)"
      ]
    },
    {
      "cell_type": "code",
      "execution_count": null,
      "id": "d4a52e75-66dc-471c-bf85-cf2559db7c13",
      "metadata": {
        "id": "d4a52e75-66dc-471c-bf85-cf2559db7c13",
        "outputId": "9acf56ce-7649-4ba8-e6f9-1b9aba1cf477"
      },
      "outputs": [
        {
          "data": {
            "text/plain": [
              "(Point(2,3), Point(2,3), True)"
            ]
          },
          "execution_count": 433,
          "metadata": {},
          "output_type": "execute_result"
        }
      ],
      "source": [
        "p1, p2, p1 == p2"
      ]
    },
    {
      "cell_type": "code",
      "execution_count": null,
      "id": "33c325da-fd06-47b7-942a-064f3fb138fc",
      "metadata": {
        "id": "33c325da-fd06-47b7-942a-064f3fb138fc",
        "outputId": "4d8a83f3-f375-4b53-c100-2615210dd5a9"
      },
      "outputs": [
        {
          "data": {
            "text/plain": [
              "(Point(2,3), Point(0,0), False)"
            ]
          },
          "execution_count": 434,
          "metadata": {},
          "output_type": "execute_result"
        }
      ],
      "source": [
        "p2, p3, p2 == p3"
      ]
    },
    {
      "cell_type": "markdown",
      "id": "f940e496-0c76-4efd-8cd8-0da7603e71b0",
      "metadata": {
        "id": "f940e496-0c76-4efd-8cd8-0da7603e71b0"
      },
      "source": [
        "As we can see, `==` now works as expected"
      ]
    },
    {
      "cell_type": "code",
      "execution_count": null,
      "id": "b7a905dd-977d-42da-a93d-ba20b4d37cd0",
      "metadata": {
        "id": "b7a905dd-977d-42da-a93d-ba20b4d37cd0"
      },
      "outputs": [],
      "source": [
        "p4 = Point(1, 2)"
      ]
    },
    {
      "cell_type": "code",
      "execution_count": null,
      "id": "bce45783-caa1-40bf-b4bc-e66072a181a2",
      "metadata": {
        "id": "bce45783-caa1-40bf-b4bc-e66072a181a2",
        "outputId": "012b516e-d658-49ea-f041-4df318177acc"
      },
      "outputs": [
        {
          "data": {
            "text/plain": [
              "(3.605551275463989, 2.23606797749979, False)"
            ]
          },
          "execution_count": 436,
          "metadata": {},
          "output_type": "execute_result"
        }
      ],
      "source": [
        "abs(p1), abs(p4), p1 < p4"
      ]
    },
    {
      "cell_type": "markdown",
      "id": "7508bc6a-b616-4819-8513-8db20264a909",
      "metadata": {
        "id": "7508bc6a-b616-4819-8513-8db20264a909"
      },
      "source": [
        "Great, so now we have `<` and `==`, does this mean Python magically implemented a `>` operator (i.e. not < and not ==)?\n",
        "\n",
        "Not exactly! What happened is that since `p1` and `p4` are both points, running the comparison `p1 > p4` - and Python did do that automatically for us.\n",
        "\n",
        "But it has not implemented any of the others, such as `>=` and `<=`:"
      ]
    },
    {
      "cell_type": "code",
      "execution_count": null,
      "id": "3d1fb2af-356b-4e45-ae5d-4e6e603b7ee8",
      "metadata": {
        "id": "3d1fb2af-356b-4e45-ae5d-4e6e603b7ee8",
        "outputId": "3ef58850-fa3f-46cc-84d7-2c2c18d77b1e"
      },
      "outputs": [
        {
          "ename": "TypeError",
          "evalue": "'<=' not supported between instances of 'Point' and 'Point'",
          "output_type": "error",
          "traceback": [
            "\u001b[1;31m---------------------------------------------------------------------------\u001b[0m",
            "\u001b[1;31mTypeError\u001b[0m                                 Traceback (most recent call last)",
            "Input \u001b[1;32mIn [437]\u001b[0m, in \u001b[0;36m<cell line: 1>\u001b[1;34m()\u001b[0m\n\u001b[1;32m----> 1\u001b[0m \u001b[43mp1\u001b[49m\u001b[43m \u001b[49m\u001b[38;5;241;43m<\u001b[39;49m\u001b[38;5;241;43m=\u001b[39;49m\u001b[43m \u001b[49m\u001b[43mp4\u001b[49m\n",
            "\u001b[1;31mTypeError\u001b[0m: '<=' not supported between instances of 'Point' and 'Point'"
          ]
        }
      ],
      "source": [
        "p1 <= p4"
      ]
    },
    {
      "cell_type": "markdown",
      "id": "73a9d317-4997-4981-a132-b658d82c9c54",
      "metadata": {
        "id": "73a9d317-4997-4981-a132-b658d82c9c54"
      },
      "source": [
        "Now, although we could proceed in a similar way and define `>=`, `<=` and `>` using the same technique, observe that if `<` and `==` is defined then:\n",
        "\n",
        "* `a <= b` if `a < b or a == b`\n",
        "* `a > b` if `not(a < b)`\n",
        "* `a >= b` if `not(a < b or a == b)`"
      ]
    },
    {
      "cell_type": "markdown",
      "id": "7f1e6ef2-a1ce-4d77-a05e-ca414acc8118",
      "metadata": {
        "id": "7f1e6ef2-a1ce-4d77-a05e-ca414acc8118"
      },
      "source": [
        "So, to be quite generic we could create a decorator that will implement these last three operators as long as `==` and `<` are defined. We could then any class that implements just those two operators.\n"
      ]
    },
    {
      "cell_type": "code",
      "execution_count": null,
      "id": "b83205dc-a7a7-49c0-9b45-a199f804cf8b",
      "metadata": {
        "id": "b83205dc-a7a7-49c0-9b45-a199f804cf8b"
      },
      "outputs": [],
      "source": [
        "def complete_ordering(cls):\n",
        "    if '__eq__' in dir(cls) and '__lt__' in dir(cls):\n",
        "        cls.__le__ = lambda self, other: self < other or self == other\n",
        "        cls.__gt__ = lambda self, other: not(self < other) and not (self == other)\n",
        "        cls.__ge__ = lambda self, other: not(self < other)\n",
        "    return cls"
      ]
    },
    {
      "cell_type": "markdown",
      "id": "a952c497-e9c5-4bf7-a269-4595e47a7081",
      "metadata": {
        "id": "a952c497-e9c5-4bf7-a269-4595e47a7081"
      },
      "source": [
        "In reality, the code above is NOT a good implementation at all. We are not checking that the types are compatible and returning a `NotImplemented` result if appropriate. I am also using inline operators (`<` and `==`) instead of the dunder functions (`__lt__` and `__eq__`). I just kept it simple because we'll use a better alternative in a bit.\n",
        "\n",
        "For example, a better way to implement `__ge__` would be as follows:"
      ]
    },
    {
      "cell_type": "code",
      "execution_count": null,
      "id": "3a761ea8-ee2f-431e-88ef-15ee108a57c6",
      "metadata": {
        "id": "3a761ea8-ee2f-431e-88ef-15ee108a57c6"
      },
      "outputs": [],
      "source": [
        "def ge_from_lt(self, other):\n",
        "    # self >= other if not (other < self)\n",
        "    result = self.__lt__(other)\n",
        "    if result is NotImplemented:\n",
        "        return NotImplemented\n",
        "    else:\n",
        "        return not result"
      ]
    },
    {
      "cell_type": "markdown",
      "id": "336533cd-edf4-4264-ab57-052fd823a028",
      "metadata": {
        "id": "336533cd-edf4-4264-ab57-052fd823a028"
      },
      "source": [
        "You may be wondering why I used `__lt__` instead of just using the `<` operator. This is because I want to actually look at the result of the operation without raising an exception if the operation is not implemented. The way I have the total ordering decorator implemented could c ause an infinite loop because when I evaluate `self < other`, if an exception is raised, Python will try to reflect that operation too, and we get into an infinite loop (which eventually terminates in a stack overflow). This was actually a bug in Python's standard library implementation of a `complete_ordering` decorator (called `total_ordering`) that was resolved in 3.4"
      ]
    },
    {
      "cell_type": "code",
      "execution_count": null,
      "id": "519d7286-4d39-4a6c-9a5b-1371b57c606e",
      "metadata": {
        "id": "519d7286-4d39-4a6c-9a5b-1371b57c606e"
      },
      "outputs": [],
      "source": [
        "class Point:\n",
        "    def __init__(self, x, y):\n",
        "        self.x = x\n",
        "        self.y = y\n",
        "        \n",
        "    def __abs__(self):\n",
        "        return sqrt(self.x**2 + self.y**2)\n",
        "    \n",
        "    def __eq__(self, other):\n",
        "        if isinstance(other, Point):\n",
        "            return self.x == other.x and self.y == other.y\n",
        "        else:\n",
        "            return NotImplemented\n",
        "    \n",
        "    def __lt__(self, other):\n",
        "        if isinstance(other, Point):\n",
        "            return abs(self) < abs(other)\n",
        "        else:\n",
        "            return NotImplemented\n",
        "        \n",
        "    def __repr__(self):\n",
        "        return '{0}({1},{2}'.format(self.__class__, self.x, self.y)"
      ]
    },
    {
      "cell_type": "code",
      "execution_count": null,
      "id": "b1543d54-290a-4b68-b0db-2b0f8b0512ed",
      "metadata": {
        "id": "b1543d54-290a-4b68-b0db-2b0f8b0512ed"
      },
      "outputs": [],
      "source": [
        "Point = complete_ordering(Point)"
      ]
    },
    {
      "cell_type": "code",
      "execution_count": null,
      "id": "1846cab9-b0d7-4068-8848-874cf5afae2a",
      "metadata": {
        "id": "1846cab9-b0d7-4068-8848-874cf5afae2a"
      },
      "outputs": [],
      "source": [
        "p1, p2, p3 = Point(1, 1), Point(3, 4), Point(3, 4)"
      ]
    },
    {
      "cell_type": "code",
      "execution_count": null,
      "id": "c9ec1f6e-d515-4e28-aac6-c6e0d8a832e6",
      "metadata": {
        "id": "c9ec1f6e-d515-4e28-aac6-c6e0d8a832e6",
        "outputId": "3fe569bc-fce9-4426-a4d0-64d5c572e493"
      },
      "outputs": [
        {
          "data": {
            "text/plain": [
              "(1.4142135623730951, 5.0, 5.0)"
            ]
          },
          "execution_count": 443,
          "metadata": {},
          "output_type": "execute_result"
        }
      ],
      "source": [
        "abs(p1), abs(p2), abs(p3)"
      ]
    },
    {
      "cell_type": "code",
      "execution_count": null,
      "id": "40bb8eb5-5878-4e4d-bd8a-4987f73bfbc7",
      "metadata": {
        "id": "40bb8eb5-5878-4e4d-bd8a-4987f73bfbc7",
        "outputId": "ed0b244b-240d-48b9-a364-f1c62322d9a4"
      },
      "outputs": [
        {
          "data": {
            "text/plain": [
              "(True, True, False, False, False, True)"
            ]
          },
          "execution_count": 444,
          "metadata": {},
          "output_type": "execute_result"
        }
      ],
      "source": [
        "p1 < p2, p1 <= p2, p1 > p2, p1 >= p2, p2 > p2, p2 >= p3"
      ]
    },
    {
      "cell_type": "markdown",
      "id": "dcc47efa-d0cd-47bc-a943-f860e4f89cb3",
      "metadata": {
        "id": "dcc47efa-d0cd-47bc-a943-f860e4f89cb3"
      },
      "source": [
        "Now the `complete_ordering` decorator can also be directly applied to any class that defines `__eq__` and `__lt__`"
      ]
    },
    {
      "cell_type": "code",
      "execution_count": null,
      "id": "97de2c5c-43df-48cb-879b-a9eac8a196b1",
      "metadata": {
        "id": "97de2c5c-43df-48cb-879b-a9eac8a196b1"
      },
      "outputs": [],
      "source": [
        "@complete_ordering\n",
        "class Grade:\n",
        "    def __init__(self, score, max_score):\n",
        "        self.score = score\n",
        "        self.max_score = max_score\n",
        "        self.score_percent = round(score / max_score * 100)\n",
        "        \n",
        "    def __repr__(self):\n",
        "        return 'Grade({0}, {1})'.format(self.score, self.max_score)\n",
        "    \n",
        "    def __eq__(self, other):\n",
        "        if isinstance(other, Grade):\n",
        "            return self.score_percent == other.score_percent\n",
        "        else:\n",
        "            return NotImplemented\n",
        "        \n",
        "    def __lt__(self, other):\n",
        "        if isinstance(other, Grade):\n",
        "            return self.score_percent < other.score_percent\n",
        "        else:\n",
        "            return NotImplemented"
      ]
    },
    {
      "cell_type": "code",
      "execution_count": null,
      "id": "136ff068-4804-4630-b871-a473e3669908",
      "metadata": {
        "id": "136ff068-4804-4630-b871-a473e3669908"
      },
      "outputs": [],
      "source": [
        "g1 = Grade(10, 100)\n",
        "g2 = Grade(20, 30)\n",
        "g3 = Grade(5, 50)"
      ]
    },
    {
      "cell_type": "code",
      "execution_count": null,
      "id": "214c2f72-c5f2-494b-a42b-bf5b778cad7f",
      "metadata": {
        "id": "214c2f72-c5f2-494b-a42b-bf5b778cad7f",
        "outputId": "91933e05-5a43-4f4b-96c1-58b1ea6da1b2"
      },
      "outputs": [
        {
          "data": {
            "text/plain": [
              "(True, True, True)"
            ]
          },
          "execution_count": 447,
          "metadata": {},
          "output_type": "execute_result"
        }
      ],
      "source": [
        "g1 <= g2, g1 == g3, g2 > g3"
      ]
    },
    {
      "cell_type": "markdown",
      "id": "6d7671c7-db01-4051-91f4-d2fdabc83528",
      "metadata": {
        "id": "6d7671c7-db01-4051-91f4-d2fdabc83528"
      },
      "source": [
        "Often, given the `==` operator and just one of the other comparison operators (`<`, `<=`, `>`, `>=`), then all the rest can be derived.\n",
        "\n",
        "Our decorator insisted on `==` and `<`. but we could make it better by insisting on `==` and any one of the other operators. This will of course make our decorator more complicated, and in fact, Python has this precise functionality built in to the, you guessed it, `functools` module!\n",
        "\n",
        "It is a decorator called `total_ordering`\n",
        "\n",
        "Let's see it in action:"
      ]
    },
    {
      "cell_type": "code",
      "execution_count": null,
      "id": "e79fd554-abef-4b84-8e47-397592b3d371",
      "metadata": {
        "id": "e79fd554-abef-4b84-8e47-397592b3d371"
      },
      "outputs": [],
      "source": [
        "from functools import total_ordering"
      ]
    },
    {
      "cell_type": "code",
      "execution_count": null,
      "id": "4f3aaae6-4203-443d-95f5-d3a258ae202e",
      "metadata": {
        "id": "4f3aaae6-4203-443d-95f5-d3a258ae202e"
      },
      "outputs": [],
      "source": [
        "@total_ordering\n",
        "class Grade:\n",
        "    def __init__(self, score, max_score):\n",
        "        self.score = score\n",
        "        self.max_score = max_score\n",
        "        self.score_percent = round(score / max_score * 100)\n",
        "     \n",
        "    def __repr__(self):\n",
        "        return 'Grade({0}, {1})'.format(self.score, self.max_score)\n",
        "    \n",
        "    def __eq__(self, other):\n",
        "        if isinstance(other, Grade):\n",
        "            return self.score_percent == other.score_percent\n",
        "        else:\n",
        "            return NotImplemented\n",
        "    \n",
        "    def __lt__(self, other):\n",
        "        if isinstance(other, Grade):\n",
        "            return self.score_percent < other.score_percent\n",
        "        else:\n",
        "            return NotImplemented"
      ]
    },
    {
      "cell_type": "code",
      "execution_count": null,
      "id": "c85d4997-4772-4089-910b-dcebd1452c1d",
      "metadata": {
        "id": "c85d4997-4772-4089-910b-dcebd1452c1d"
      },
      "outputs": [],
      "source": [
        "g1, g2 = Grade(80, 100), Grade(60, 100)"
      ]
    },
    {
      "cell_type": "code",
      "execution_count": null,
      "id": "b7d5fe00-b2f7-42f4-95e0-829c6f155dd9",
      "metadata": {
        "id": "b7d5fe00-b2f7-42f4-95e0-829c6f155dd9",
        "outputId": "9646859b-e4e2-4445-99a7-940ffe2db40b"
      },
      "outputs": [
        {
          "data": {
            "text/plain": [
              "(True, True)"
            ]
          },
          "execution_count": 451,
          "metadata": {},
          "output_type": "execute_result"
        }
      ],
      "source": [
        "g1 >= g2, g1 > g2"
      ]
    },
    {
      "cell_type": "markdown",
      "id": "a7196399-9883-47c7-b6c6-79418cac1307",
      "metadata": {
        "id": "a7196399-9883-47c7-b6c6-79418cac1307"
      },
      "source": [
        "Or we could also do it this way:"
      ]
    },
    {
      "cell_type": "code",
      "execution_count": null,
      "id": "3af2942d-f1c3-41cb-854f-f4ded9aa48dc",
      "metadata": {
        "id": "3af2942d-f1c3-41cb-854f-f4ded9aa48dc"
      },
      "outputs": [],
      "source": [
        "@total_ordering\n",
        "class Grade:\n",
        "    def __init__(self, score, max_score):\n",
        "        self.score = score\n",
        "        self.max_score = max_score\n",
        "        self.score_percent = round(score / max_score * 100)\n",
        "     \n",
        "    def __repr__(self):\n",
        "        return 'Grade({0}, {1})'.format(self.score, self.max_score)\n",
        "    \n",
        "    def __eq__(self, other):\n",
        "        if isinstance(other, Grade):\n",
        "            return self.score_percent == other.score_percent\n",
        "        else:\n",
        "            return NotImplemented\n",
        "    \n",
        "    def __gt__(self, other):\n",
        "        if isinstance(other, Grade):\n",
        "            return self.score_percent > other.score_percent\n",
        "        else:\n",
        "            return NotImplemented"
      ]
    },
    {
      "cell_type": "code",
      "execution_count": null,
      "id": "fd0c44f7-d826-4b09-811c-1b47cc195ade",
      "metadata": {
        "id": "fd0c44f7-d826-4b09-811c-1b47cc195ade"
      },
      "outputs": [],
      "source": [
        "g1, g2 = Grade(80, 100), Grade(60, 100)"
      ]
    },
    {
      "cell_type": "code",
      "execution_count": null,
      "id": "e56f3984-ceec-4dc7-808c-d9887eb1ba6b",
      "metadata": {
        "id": "e56f3984-ceec-4dc7-808c-d9887eb1ba6b",
        "outputId": "b68b41d2-ff4f-4c01-82bd-a6995bc025fa"
      },
      "outputs": [
        {
          "data": {
            "text/plain": [
              "(True, True, False, False)"
            ]
          },
          "execution_count": 454,
          "metadata": {},
          "output_type": "execute_result"
        }
      ],
      "source": [
        "g1 >= g2, g1 > g2, g1 <= g2, g1 < g2"
      ]
    },
    {
      "cell_type": "markdown",
      "id": "b8994da6-49f3-4f8b-9381-07d8f389017a",
      "metadata": {
        "id": "b8994da6-49f3-4f8b-9381-07d8f389017a"
      },
      "source": [
        "### 13 - Decorator Application - Single Dispatch"
      ]
    },
    {
      "cell_type": "markdown",
      "id": "a943116d-45e4-4f9a-8e12-bfddb985d045",
      "metadata": {
        "id": "a943116d-45e4-4f9a-8e12-bfddb985d045"
      },
      "source": [
        "Consider an application where we want to provide similar functionality but that varies slightly depending on the argument types passed in.\n",
        "\n",
        "In this set of examples we consider this problem where functionality differs based on a single argument's type (hence single disptch) instead of the type of multiple arguments (which would be multi dispatch)\n",
        "\n",
        "If you have a background in some other OO languages such as Java or C#, you'll know that we can easily do something like this by basically **overloading** functions: using a different data type for the function parameter, hence changing the function signature. Then although the name of the function is the same, calling `do_something(100)` and `do_something('java')` would call a different function, the first one would call the `do_something(int)` function and the second would call the `do_something(String)` function.\n",
        "\n",
        "Of course, Python is not statically typed, so even if Python had function overloading built-in, we would not be able to make such a distinction in our function signatures since there is nothing that says that a parameter must be of a specific type, so in best case scenario we would have to \"distinguish\" functions with the same name only by the number of parameters they take. And then we'd have to somehow deal with variable numbers of positional and keyword arguments too.. Uuugh! In any event, single dispatch could never work.\n",
        "\n",
        "Instead we have to come up with a different solution.\n",
        "\n",
        "Let's say we want to display various data types in html format, with different presentations for integers (we want both base 10 and hex values), floats (we always want it rounded to 2 decimal points), strings (we want the string html-escaped, and all newline characters replaced by ` `), lists and tuples should be implemented using bulleted lists, and the same with dictionaries except we want the name/value pair to be displayed in the bulleted list.\n",
        "\n",
        "For starters, let's just implement individual functions to do each of those things.\n",
        "\n",
        "I am going to keep the function very simple, but in practice you should handle situations like None objects, empty lists and dictionaries, possibly the wrong type being passed to the function, etc."
      ]
    },
    {
      "cell_type": "code",
      "execution_count": null,
      "id": "9096d824-1015-4b03-82cb-90e467e23779",
      "metadata": {
        "id": "9096d824-1015-4b03-82cb-90e467e23779"
      },
      "outputs": [],
      "source": [
        "from html import escape\n",
        "\n",
        "def html_escape(arg):\n",
        "    return escape(str(arg))\n",
        "                      \n",
        "def html_int(a):\n",
        "    return '{0}(<i>{1}</i)'.format(a, str(hex(a)))\n",
        "\n",
        "def html_real(a):\n",
        "    return '{0:.2f}'.format(round(a, 2))\n",
        "                                  \n",
        "def html_str(s):\n",
        "    return html_escape(s).replace('\\n', '<br/>\\n')\n",
        "                                  \n",
        "def html_list(l):\n",
        "    items = ('<li>{0}</li>'.format(html_escape(item)) \n",
        "             for item in l)\n",
        "    return '<ul>\\n' + '\\n'.join(items) + '\\n</ul>'\n",
        "                                  \n",
        "def html_dict(d):\n",
        "    items = ('<li>{0}={1}</li>'.format(html_escape(k), html_escape(v)) \n",
        "             for k, v in d.items())    \n",
        "    return '<ul>\\n' + '\\n'.join(items) + '\\n</ul>'"
      ]
    },
    {
      "cell_type": "code",
      "execution_count": null,
      "id": "5914ae3e-c183-41c9-98f7-4f74acfdbac4",
      "metadata": {
        "id": "5914ae3e-c183-41c9-98f7-4f74acfdbac4",
        "outputId": "fa87f519-a30e-48c4-8cc6-16c8c51ea841"
      },
      "outputs": [
        {
          "name": "stdout",
          "output_type": "stream",
          "text": [
            "this i<br/>\n",
            "a multi line string<br/>\n",
            "with special characters: 10 &lt; 100\n"
          ]
        }
      ],
      "source": [
        "print(html_str(\"\"\"this i\n",
        "a multi line string\n",
        "with special characters: 10 < 100\"\"\"))"
      ]
    },
    {
      "cell_type": "code",
      "execution_count": null,
      "id": "f01c5788-0cd2-447a-8dba-9b41151e4a7f",
      "metadata": {
        "id": "f01c5788-0cd2-447a-8dba-9b41151e4a7f",
        "outputId": "1e14c45b-83d4-4d25-da88-46da88c85856"
      },
      "outputs": [
        {
          "name": "stdout",
          "output_type": "stream",
          "text": [
            "255(<i>0xff</i)\n"
          ]
        }
      ],
      "source": [
        "print(html_int(255))"
      ]
    },
    {
      "cell_type": "code",
      "execution_count": null,
      "id": "9b0f8e26-473e-452f-ab02-c87bb14f1db5",
      "metadata": {
        "id": "9b0f8e26-473e-452f-ab02-c87bb14f1db5",
        "outputId": "8b78062c-59f0-41a7-8349-aff7b03d6ef5"
      },
      "outputs": [
        {
          "name": "stdout",
          "output_type": "stream",
          "text": [
            "(3+10j)\n"
          ]
        }
      ],
      "source": [
        "print(html_escape(3+10j))"
      ]
    },
    {
      "cell_type": "markdown",
      "id": "52ad445e-a6ea-4f7f-8151-cc5ef23ee6d4",
      "metadata": {
        "id": "52ad445e-a6ea-4f7f-8151-cc5ef23ee6d4"
      },
      "source": [
        "Ideally we would want to just have to cll a single function, maybe `htmlize` that would figure out which particular flavor of the `html_xxx` function to call dependig on the argument type.\n",
        "\n",
        "We could try it as follows:"
      ]
    },
    {
      "cell_type": "code",
      "execution_count": null,
      "id": "f94c2e97-c7ea-4bf8-8f40-f968d2e21bfc",
      "metadata": {
        "id": "f94c2e97-c7ea-4bf8-8f40-f968d2e21bfc"
      },
      "outputs": [],
      "source": [
        "from decimal import Decimal\n",
        "\n",
        "def htmlize(arg):\n",
        "    if isinstance(arg, int):\n",
        "        return html_int(arg)\n",
        "    elif isinstance(arg, float) or isinstance(arg, Decimal):\n",
        "        return html_real(arg)\n",
        "    elif isinstance(arg, str):\n",
        "        return html_str(arg)\n",
        "    elif isinstance(arg, list) or isinstance(arg, tuple):\n",
        "        return html_list(arg)\n",
        "    elif isinstance(arg, dict):\n",
        "        return html_dict(arg)\n",
        "    else:\n",
        "        # default behavior - just html escape string representation\n",
        "        return html_escape(str(arg))"
      ]
    },
    {
      "cell_type": "markdown",
      "id": "60e4bbd7-df9e-4e20-95b6-fc7c907f5679",
      "metadata": {
        "id": "60e4bbd7-df9e-4e20-95b6-fc7c907f5679"
      },
      "source": [
        "Now we can essentially use the same function call to handle different types - the `htmlize` function is a dispatcher - it dispatches the request to a different function based on the argument type. (There's a much better way to do some of this, but we'll have to wait until we cover abstract base classes to do so)."
      ]
    },
    {
      "cell_type": "code",
      "execution_count": null,
      "id": "f3801041-6fa3-45e7-beba-afb0f9b0522c",
      "metadata": {
        "id": "f3801041-6fa3-45e7-beba-afb0f9b0522c",
        "outputId": "338b9086-3442-49e4-b7f7-bd1f1420ca12"
      },
      "outputs": [
        {
          "name": "stdout",
          "output_type": "stream",
          "text": [
            "<ul>\n",
            "<li>1</li>\n",
            "<li>2</li>\n",
            "<li>3</li>\n",
            "</ul>\n"
          ]
        }
      ],
      "source": [
        "print(htmlize([1, 2, 3]))"
      ]
    },
    {
      "cell_type": "code",
      "execution_count": null,
      "id": "adebf7f5-ef13-422c-9775-09cd245eaaea",
      "metadata": {
        "id": "adebf7f5-ef13-422c-9775-09cd245eaaea",
        "outputId": "8ba7a2ce-f408-4e3c-87f4-e46212b2b945"
      },
      "outputs": [
        {
          "name": "stdout",
          "output_type": "stream",
          "text": [
            "<ul>\n",
            "<li>key1=1</li>\n",
            "<li>key2=2</li>\n",
            "</ul>\n"
          ]
        }
      ],
      "source": [
        "print(htmlize(dict(key1=1, key2=2)))"
      ]
    },
    {
      "cell_type": "code",
      "execution_count": null,
      "id": "4e2caf97-4fde-446a-8ea8-f59d064e18a9",
      "metadata": {
        "id": "4e2caf97-4fde-446a-8ea8-f59d064e18a9",
        "outputId": "4f81fb52-e062-4c23-905a-acfb63da442b"
      },
      "outputs": [
        {
          "name": "stdout",
          "output_type": "stream",
          "text": [
            "255(<i>0xff</i)\n"
          ]
        }
      ],
      "source": [
        "print(htmlize(255))"
      ]
    },
    {
      "cell_type": "markdown",
      "id": "8a8a46b4-f102-498f-bf82-1645646645da",
      "metadata": {
        "id": "8a8a46b4-f102-498f-bf82-1645646645da"
      },
      "source": [
        "But there are a number of shortcomings here:"
      ]
    },
    {
      "cell_type": "code",
      "execution_count": null,
      "id": "21882283-09f1-4998-a716-6c57bab373eb",
      "metadata": {
        "id": "21882283-09f1-4998-a716-6c57bab373eb",
        "outputId": "1084ca72-af56-4449-80f4-4ca1b032142d"
      },
      "outputs": [
        {
          "name": "stdout",
          "output_type": "stream",
          "text": [
            "<ul>\n",
            "<li>first element is\n",
            "a multi-line string</li>\n",
            "<li>(1, 2, 3)</li>\n",
            "</ul>\n"
          ]
        }
      ],
      "source": [
        "print(htmlize([\"\"\"first element is\n",
        "a multi-line string\"\"\", (1, 2, 3)]))"
      ]
    },
    {
      "cell_type": "markdown",
      "id": "f6a759af-7855-48d0-b42c-671984733c5d",
      "metadata": {
        "id": "f6a759af-7855-48d0-b42c-671984733c5d"
      },
      "source": [
        "As you can see, the multi-line string did not get the newline characters replaced, the tuple was not rendered as an html list, and the integers do not have their hex representation.\n",
        "\n",
        "So we just need to redefine the `html_list` and `html_dict` functions to use the `htmlize` function:"
      ]
    },
    {
      "cell_type": "code",
      "execution_count": null,
      "id": "d3f4eacf-830a-4473-aef3-4ec7dc2301e0",
      "metadata": {
        "id": "d3f4eacf-830a-4473-aef3-4ec7dc2301e0"
      },
      "outputs": [],
      "source": [
        "def html_list(l):\n",
        "    items = ['<li>{0}</li>'.format(htmlize(item)) for item in l]\n",
        "    return '<ul>\\n' + '\\n'.join(items) + '\\n</ul>'"
      ]
    },
    {
      "cell_type": "code",
      "execution_count": null,
      "id": "7b5caff7-f72a-4e40-a3af-88eb00b9a860",
      "metadata": {
        "id": "7b5caff7-f72a-4e40-a3af-88eb00b9a860"
      },
      "outputs": [],
      "source": [
        "def html_dict(d):\n",
        "    items = ['<li>{0}={1}</li>'.format(html_escape(k), htmlize(v)) for k, v in d.items()]\n",
        "    return '<ul>\\n' + '\\n'.join(items) + '\\n</ul>'"
      ]
    },
    {
      "cell_type": "code",
      "execution_count": null,
      "id": "2cc33497-2bd4-4cb9-abf1-e2cc5e018b98",
      "metadata": {
        "id": "2cc33497-2bd4-4cb9-abf1-e2cc5e018b98",
        "outputId": "9677d6bd-82b3-4718-85dd-13b695f67a6c"
      },
      "outputs": [
        {
          "name": "stdout",
          "output_type": "stream",
          "text": [
            "<ul>\n",
            "<li>first element is <br/>\n",
            "a multi-line string</li>\n",
            "<li><ul>\n",
            "<li>1(<i>0x1</i)</li>\n",
            "<li>2(<i>0x2</i)</li>\n",
            "<li>3(<i>0x3</i)</li>\n",
            "</ul></li>\n",
            "</ul>\n"
          ]
        }
      ],
      "source": [
        "print(htmlize([\"\"\"first element is \n",
        "a multi-line string\"\"\", (1, 2, 3)]))"
      ]
    },
    {
      "cell_type": "markdown",
      "id": "74165dc6-22a8-4580-8060-686ce702cbe9",
      "metadata": {
        "id": "74165dc6-22a8-4580-8060-686ce702cbe9"
      },
      "source": [
        "Much better, but hopefully you spotted something that might seem problematic!\n",
        "\n",
        "Do we not have a circular reference?\n",
        "\n",
        "In order to define `html_list` and `html_dict` we needed to call `htmlize`, but in order to define `htmlize` we needed to call `html_list` and `html_dict`.\n",
        "\n",
        "Remember that in Python we can reference a function inside the body of another function before the function has been defined, as long as by the time we call the first function, the second one has been defined. So this is actually OK.\n",
        "\n",
        "If you don't believe me and want to make sure of this yourself, go ahead and reset your Kernel (click on the Kernel | Restart menu option), and run the following code without running anything prior to this.\n",
        "\n",
        "The `htmlize` function body makes calls to other functions such as `html_escape`, `html_int`, etc that have not actually been defined yet."
      ]
    },
    {
      "cell_type": "code",
      "execution_count": null,
      "id": "592df72d-552b-43b3-a2e8-eb239f0989af",
      "metadata": {
        "id": "592df72d-552b-43b3-a2e8-eb239f0989af"
      },
      "outputs": [],
      "source": [
        "from html import escape\n",
        "from decimal import Decimal\n",
        "\n",
        "def htmlize(arg):\n",
        "    if isinstance(arg, int):\n",
        "        return html_int(arg)\n",
        "    elif isinstance(arg, float) or isinstance(arg, Decimal):\n",
        "        return html_real(arg)\n",
        "    elif isinstance(arg, str):\n",
        "        return html_str(arg)\n",
        "    elif isinstance(arg, list) or isinstance(arg, tuple) or isinstance(arg, set):\n",
        "        return html_list(arg)\n",
        "    elif isinstance(arg, dict):\n",
        "        return html_dict(arg)\n",
        "    else:\n",
        "        # default behavior - just html escape string representation\n",
        "        return html_escape(str(arg))"
      ]
    },
    {
      "cell_type": "markdown",
      "id": "acd5a69e-50f1-4991-b866-5834820c510a",
      "metadata": {
        "id": "acd5a69e-50f1-4991-b866-5834820c510a"
      },
      "source": [
        "Now we define all the functions that `htmlize` uses before we actually call `htmlize` and all is good:"
      ]
    },
    {
      "cell_type": "code",
      "execution_count": null,
      "id": "71641626-fbb4-453b-861e-9050ee6109c0",
      "metadata": {
        "id": "71641626-fbb4-453b-861e-9050ee6109c0"
      },
      "outputs": [],
      "source": [
        "def html_escape(arg):\n",
        "    return escape(str(arg))\n",
        "                      \n",
        "def html_int(a):\n",
        "    return '{0}(<i>{1}</i)'.format(a, str(hex(a)))\n",
        "\n",
        "def html_real(a):\n",
        "    return '{0:.2f}'.format(round(a, 2))\n",
        "                                  \n",
        "def html_str(s):\n",
        "    return html_escape(s).replace('\\n', '<br/>\\n')\n",
        "                                  \n",
        "def html_list(l):\n",
        "    items = ['<li>{0}</li>'.format(htmlize(item)) for item in l]\n",
        "    return '<ul>\\n' + '\\n'.join(items) + '\\n</ul>'\n",
        "                                  \n",
        "def html_dict(d):\n",
        "    items = ['<li>{0}={1}</li>'.format(html_escape(k), htmlize(v)) for k, v in d.items()]\n",
        "    return '<ul>\\n' + '\\n'.join(items) + '\\n</ul>'"
      ]
    },
    {
      "cell_type": "code",
      "execution_count": null,
      "id": "ca1da606-3ac8-4cf4-a87f-a8fc802cd086",
      "metadata": {
        "id": "ca1da606-3ac8-4cf4-a87f-a8fc802cd086",
        "outputId": "31ae6148-933f-4adf-df91-828ab17a9258"
      },
      "outputs": [
        {
          "name": "stdout",
          "output_type": "stream",
          "text": [
            "<ul>\n",
            "<li>first element is <br/>\n",
            "a multi-line string</li>\n",
            "<li><ul>\n",
            "<li>1(<i>0x1</i)</li>\n",
            "<li>2(<i>0x2</i)</li>\n",
            "<li>3(<i>0x3</i)</li>\n",
            "</ul></li>\n",
            "</ul>\n"
          ]
        }
      ],
      "source": [
        "print(htmlize([\"\"\"first element is \n",
        "a multi-line string\"\"\", (1, 2, 3)]))"
      ]
    },
    {
      "cell_type": "markdown",
      "id": "bf7b8001-0ccc-4ba4-b751-a368f86a1a27",
      "metadata": {
        "id": "bf7b8001-0ccc-4ba4-b751-a368f86a1a27"
      },
      "source": [
        "As you can see this works just fine.\n",
        "\n",
        "But we still have something undesirable. You'll notice that the dispatch function `htmlize` needs to have this big `if...elif...else` statement that will just keep growing as we need to handle more and more types (including potentially custom types).\n",
        "\n",
        "This will just get unwieldy, and not very flexible (every time someone creates a new type that has to have a special html representation they will need to go into the `htmlize` function and modify it.\n",
        "\n",
        "So instead, we are going to try a more flexible approach using decorators.\n",
        "\n",
        "The way we are going to approach this is to create a dispatcher function, and then separately \"register\" each type-specific function with the dispatcher.\n",
        "\n",
        "First, we are going to create a decorator that will do something that may seem kind of silly - it is going to take the decorated function and store it in a dictionary, using a key consisting of the **type** `object`.\n",
        "\n",
        "Then when the returned closure is called, the closure will call the function stored in that dictionary."
      ]
    },
    {
      "cell_type": "code",
      "execution_count": null,
      "id": "dcbd7357-ddd5-4aaf-b415-c03c8cb0d37b",
      "metadata": {
        "id": "dcbd7357-ddd5-4aaf-b415-c03c8cb0d37b"
      },
      "outputs": [],
      "source": [
        "def singledispatch(fn):\n",
        "    registry = dict()\n",
        "    registry[object] = fn\n",
        "    \n",
        "    def inner(arg):\n",
        "        return registry[object](arg)\n",
        "    \n",
        "    return inner"
      ]
    },
    {
      "cell_type": "code",
      "execution_count": null,
      "id": "c200c3d6-6b25-4dae-b572-835d9a3648b3",
      "metadata": {
        "id": "c200c3d6-6b25-4dae-b572-835d9a3648b3"
      },
      "outputs": [],
      "source": [
        "@singledispatch\n",
        "def htmlizer(arg):\n",
        "    return escape(str(arg))"
      ]
    },
    {
      "cell_type": "code",
      "execution_count": null,
      "id": "e1abdf37-865f-45c5-92b8-0262e96ab38d",
      "metadata": {
        "id": "e1abdf37-865f-45c5-92b8-0262e96ab38d",
        "outputId": "c97eb2b2-5ad5-435f-ab82-add5b8126bdb"
      },
      "outputs": [
        {
          "data": {
            "text/plain": [
              "'a &lt; 10'"
            ]
          },
          "execution_count": 472,
          "metadata": {},
          "output_type": "execute_result"
        }
      ],
      "source": [
        "htmlizer('a < 10')"
      ]
    },
    {
      "cell_type": "markdown",
      "id": "05250488-8840-4c69-85b0-2c774d4a438a",
      "metadata": {
        "id": "05250488-8840-4c69-85b0-2c774d4a438a"
      },
      "source": [
        "Next, we are going to add some functions to that `registry` dictionary, and modify our inner function to choose the correct function from the registry, or pick a default based on the type of the argument:"
      ]
    },
    {
      "cell_type": "code",
      "execution_count": null,
      "id": "7f024b7f-130e-4ad6-beb4-fbf224caec30",
      "metadata": {
        "id": "7f024b7f-130e-4ad6-beb4-fbf224caec30"
      },
      "outputs": [],
      "source": [
        "def singledispatch(fn):\n",
        "    registry = dict()\n",
        "    \n",
        "    registry[object] = fn\n",
        "    registry[int] = lambda arg: '{0}(<i>{1}</i)'.format(arg, str(hex(arg)))\n",
        "    registry[float] = lambda arg: '{0:.2f}'.format(round(arg, 2))\n",
        "    \n",
        "    def inner(arg):\n",
        "        fn = registry.get(type(arg), registry[object])\n",
        "        return fn(arg)\n",
        "    return inner"
      ]
    },
    {
      "cell_type": "code",
      "execution_count": null,
      "id": "8331a020-1619-4eb4-8486-d1ada727f432",
      "metadata": {
        "id": "8331a020-1619-4eb4-8486-d1ada727f432"
      },
      "outputs": [],
      "source": [
        "@singledispatch\n",
        "def htmlize(a):\n",
        "    return escape(str(a))"
      ]
    },
    {
      "cell_type": "code",
      "execution_count": null,
      "id": "7ba1d83b-c726-4fe1-ab85-71ec9b0eaf38",
      "metadata": {
        "id": "7ba1d83b-c726-4fe1-ab85-71ec9b0eaf38",
        "outputId": "e1f62052-c34b-47cb-dc47-22e957742650"
      },
      "outputs": [
        {
          "data": {
            "text/plain": [
              "'10(<i>0xa</i)'"
            ]
          },
          "execution_count": 475,
          "metadata": {},
          "output_type": "execute_result"
        }
      ],
      "source": [
        "htmlize(10)"
      ]
    },
    {
      "cell_type": "code",
      "execution_count": null,
      "id": "56f3e78c-9aa3-4bd3-9be1-dfdc047f43e1",
      "metadata": {
        "id": "56f3e78c-9aa3-4bd3-9be1-dfdc047f43e1",
        "outputId": "25ad9cbe-ee99-4f0c-928c-d09d8fc0d8da"
      },
      "outputs": [
        {
          "data": {
            "text/plain": [
              "'3.14'"
            ]
          },
          "execution_count": 476,
          "metadata": {},
          "output_type": "execute_result"
        }
      ],
      "source": [
        "htmlize(3.1415)"
      ]
    },
    {
      "cell_type": "markdown",
      "id": "638a7768-daac-4545-a3e5-c8a5b604aefd",
      "metadata": {
        "id": "638a7768-daac-4545-a3e5-c8a5b604aefd"
      },
      "source": [
        "Now, we want a way to add the specialized functions to the `registry` dictionary from outside the `singledispatch` function - to do so we will create a parametrized decorator that will (1) take the type as a parameter, and (2) return a closure that will decorate the function associated with the type:"
      ]
    },
    {
      "cell_type": "code",
      "execution_count": null,
      "id": "a1f7c0e9-cc4c-405f-b8e2-f85f79b1f7ab",
      "metadata": {
        "id": "a1f7c0e9-cc4c-405f-b8e2-f85f79b1f7ab"
      },
      "outputs": [],
      "source": [
        "def singledispatch(fn):\n",
        "    registry = dict()\n",
        "    \n",
        "    registry[object] = fn\n",
        "    \n",
        "    def register(type_):\n",
        "        def inner(fn):\n",
        "            registry[type_] = fn\n",
        "        return inner\n",
        "        \n",
        "    \n",
        "    def decorator(arg):\n",
        "        fn = registry.get(type(arg), registry[object])\n",
        "        return fn(arg)\n",
        "    \n",
        "    return decorator"
      ]
    },
    {
      "cell_type": "markdown",
      "id": "de3975e4-262d-4926-ad52-c1b89a7e1606",
      "metadata": {
        "id": "de3975e4-262d-4926-ad52-c1b89a7e1606"
      },
      "source": [
        "But of course this is not good enough - how do we get a hold of the `register` function from outside `singledispatch`? Remember, `singledispatch` is a decorator that returns the `decorated` closure, not the `register` closure.\n",
        "\n",
        "We can do this by adding the `register` function as an **attribute** of the `decorated` function before we return it.\n",
        "\n",
        "While we're at it we're also going to:\n",
        "\n",
        "* add the `registry` dictionary as an attribute as so we can look into it to see what it contains.\n",
        "\n",
        "* add another function that given a type will return the function associated with that type (or the default function if the type is not found in the dictionary)"
      ]
    },
    {
      "cell_type": "code",
      "execution_count": null,
      "id": "8c2b5c75-fd04-437a-a8ae-37564cff7727",
      "metadata": {
        "id": "8c2b5c75-fd04-437a-a8ae-37564cff7727"
      },
      "outputs": [],
      "source": [
        "def singledispatch(fn):\n",
        "    registry = dict()\n",
        "    \n",
        "    registry[object] = fn\n",
        "    \n",
        "    def register(type_):\n",
        "        def inner(fn):\n",
        "            registry[type_] = fn\n",
        "            return fn  # we do this so we can stack register decorators!\n",
        "        return inner\n",
        "   \n",
        "    def decorator(arg):\n",
        "        fn = registry.get(type(arg), registry[object])\n",
        "        return fn(arg)\n",
        "    \n",
        "    def dispatch(type_):\n",
        "        return registry.get(type_, registry[object])\n",
        "\n",
        "    decorator.register = register\n",
        "    decorator.registry = registry.keys()\n",
        "    decorator.dispatch = dispatch\n",
        "    return decorator"
      ]
    },
    {
      "cell_type": "code",
      "execution_count": null,
      "id": "e1354e3f-1db6-4fc1-8533-88e600ea9e21",
      "metadata": {
        "id": "e1354e3f-1db6-4fc1-8533-88e600ea9e21"
      },
      "outputs": [],
      "source": [
        "@singledispatch\n",
        "def htmlize(arg):\n",
        "    return escape(str(arg))"
      ]
    },
    {
      "cell_type": "markdown",
      "id": "53a1bd90-4c49-44dd-b906-61b3ff14eb75",
      "metadata": {
        "id": "53a1bd90-4c49-44dd-b906-61b3ff14eb75"
      },
      "source": [
        "And we can see that `htmlize` (that returned `inner`) function has an attribute called `register`:"
      ]
    },
    {
      "cell_type": "code",
      "execution_count": null,
      "id": "b8007101-bfb2-43bc-bd44-bf7071faa906",
      "metadata": {
        "id": "b8007101-bfb2-43bc-bd44-bf7071faa906",
        "outputId": "a95545e1-ac85-4a55-b850-592e2d9eb74b"
      },
      "outputs": [
        {
          "data": {
            "text/plain": [
              "<function __main__.singledispatch.<locals>.register(type_)>"
            ]
          },
          "execution_count": 480,
          "metadata": {},
          "output_type": "execute_result"
        }
      ],
      "source": [
        "htmlize.register"
      ]
    },
    {
      "cell_type": "markdown",
      "id": "9ce2d4dd-1e09-46ba-923b-54068677c4f9",
      "metadata": {
        "id": "9ce2d4dd-1e09-46ba-923b-54068677c4f9"
      },
      "source": [
        "as well as that `registry` attribute that we put in just we could see what keys are in the `registry` dictionary:"
      ]
    },
    {
      "cell_type": "code",
      "execution_count": null,
      "id": "702d1242-8d07-493a-9e9c-fe7ed0260e48",
      "metadata": {
        "id": "702d1242-8d07-493a-9e9c-fe7ed0260e48",
        "outputId": "e9eeef5f-1dea-49b7-9982-ddd2cca2f86d"
      },
      "outputs": [
        {
          "data": {
            "text/plain": [
              "dict_keys([<class 'object'>])"
            ]
          },
          "execution_count": 481,
          "metadata": {},
          "output_type": "execute_result"
        }
      ],
      "source": [
        "htmlize.registry"
      ]
    },
    {
      "cell_type": "markdown",
      "id": "5dabdb05-be24-4d29-ac2b-ccdbebed3347",
      "metadata": {
        "id": "5dabdb05-be24-4d29-ac2b-ccdbebed3347"
      },
      "source": [
        "We can also ask it what function it is going to use for any specific type (currently we only have one registered, the default, for the most general `object` type):"
      ]
    },
    {
      "cell_type": "code",
      "execution_count": null,
      "id": "bc4f72fd-ef14-4902-a578-b4aab2e47321",
      "metadata": {
        "id": "bc4f72fd-ef14-4902-a578-b4aab2e47321",
        "outputId": "e73655c7-1f26-4c0b-f688-dd36e8f6eaff"
      },
      "outputs": [
        {
          "data": {
            "text/plain": [
              "<function __main__.htmlize(arg)>"
            ]
          },
          "execution_count": 482,
          "metadata": {},
          "output_type": "execute_result"
        }
      ],
      "source": [
        "htmlize.dispatch(str)"
      ]
    },
    {
      "cell_type": "markdown",
      "id": "1a60429b-f840-4307-9e44-17b2b4f19095",
      "metadata": {
        "id": "1a60429b-f840-4307-9e44-17b2b4f19095"
      },
      "source": [
        "And you'll note that the extended scope of `register` and `dispatch` is the same as the extended scope of `htmlize`.\n",
        "\n",
        "So now we can register some functions (it will store the function with associated data type in the `registry` dictionary):"
      ]
    },
    {
      "cell_type": "code",
      "execution_count": null,
      "id": "99a160aa-d299-48a7-971b-d8fa9e4ce5da",
      "metadata": {
        "id": "99a160aa-d299-48a7-971b-d8fa9e4ce5da"
      },
      "outputs": [],
      "source": [
        "@htmlize.register(int)\n",
        "def html_int(a):\n",
        "    return '{0}(<i>{1}</i)'.format(a, str(hex(a)))"
      ]
    },
    {
      "cell_type": "markdown",
      "id": "c218f280-4e1c-4e16-87cc-0d6337c2d097",
      "metadata": {
        "id": "c218f280-4e1c-4e16-87cc-0d6337c2d097"
      },
      "source": [
        "We can peek into the registered types:"
      ]
    },
    {
      "cell_type": "code",
      "execution_count": null,
      "id": "e38ab328-95c3-457f-add1-de524c8e8567",
      "metadata": {
        "id": "e38ab328-95c3-457f-add1-de524c8e8567",
        "outputId": "973f1297-c81a-4371-d224-173c54531004"
      },
      "outputs": [
        {
          "data": {
            "text/plain": [
              "dict_keys([<class 'object'>, <class 'int'>])"
            ]
          },
          "execution_count": 484,
          "metadata": {},
          "output_type": "execute_result"
        }
      ],
      "source": [
        "htmlize.registry"
      ]
    },
    {
      "cell_type": "markdown",
      "id": "cd7c3de6-0252-4716-aba8-71a3bd9f7262",
      "metadata": {
        "id": "cd7c3de6-0252-4716-aba8-71a3bd9f7262"
      },
      "source": [
        "and we can ask the decorated `htmlize` function what function it is going to use for the `int` type:"
      ]
    },
    {
      "cell_type": "code",
      "execution_count": null,
      "id": "a5959426-ac2a-4dc9-af0f-af2fa31c91ed",
      "metadata": {
        "id": "a5959426-ac2a-4dc9-af0f-af2fa31c91ed",
        "outputId": "9075c258-064c-4fcf-8329-d7b57f5c78f2"
      },
      "outputs": [
        {
          "data": {
            "text/plain": [
              "<function __main__.html_int(a)>"
            ]
          },
          "execution_count": 485,
          "metadata": {},
          "output_type": "execute_result"
        }
      ],
      "source": [
        "htmlize.dispatch(int)"
      ]
    },
    {
      "cell_type": "markdown",
      "id": "38c15979-00ae-4fbf-9597-0611a86d87fc",
      "metadata": {
        "id": "38c15979-00ae-4fbf-9597-0611a86d87fc"
      },
      "source": [
        "and we can actually call it as well:"
      ]
    },
    {
      "cell_type": "code",
      "execution_count": null,
      "id": "3fdcffed-61c3-4f93-b071-64d8698d3b9f",
      "metadata": {
        "id": "3fdcffed-61c3-4f93-b071-64d8698d3b9f",
        "outputId": "5ab0eda3-5f9b-43a1-a1f3-dc490a3bb6e0"
      },
      "outputs": [
        {
          "data": {
            "text/plain": [
              "'100(<i>0x64</i)'"
            ]
          },
          "execution_count": 486,
          "metadata": {},
          "output_type": "execute_result"
        }
      ],
      "source": [
        "htmlize(100)"
      ]
    },
    {
      "cell_type": "markdown",
      "id": "38931abb-0b8c-43c1-8e1b-295f8f837ea6",
      "metadata": {
        "id": "38931abb-0b8c-43c1-8e1b-295f8f837ea6"
      },
      "source": [
        "The huge advantage now is that we can keep registering new handlers from anywhere in our module, or even from outside our module!"
      ]
    },
    {
      "cell_type": "code",
      "execution_count": null,
      "id": "2469af87-a9f2-445b-8d1c-fc271bd32004",
      "metadata": {
        "id": "2469af87-a9f2-445b-8d1c-fc271bd32004"
      },
      "outputs": [],
      "source": [
        "@htmlize.register(float)\n",
        "def html_real(a):\n",
        "    return '{0:.2f}'.format(round(a, 2))\n",
        "\n",
        "@htmlize.register(str)\n",
        "def html_str(s):\n",
        "    return escape(s).replace('\\n', '<br/>\\n')\n",
        "\n",
        "@htmlize.register(tuple)\n",
        "@htmlize.register(list)\n",
        "def html_list(l):\n",
        "    items = ['<li>{0}</li>'.format(htmlize(item)) for item in l]\n",
        "    return '<ul>\\n' + '\\n'.join(items) + '\\n</ul>'\n",
        "\n",
        "@htmlize.register(dict)\n",
        "def html_dict(d):\n",
        "    items = ['<li>{0}={1}</li>'.format(htmlize(k), htmlize(v)) for k, v in d.items()]\n",
        "    return '<ul>\\n' + '\\n'.join(items) + '\\n</ul>'"
      ]
    },
    {
      "cell_type": "code",
      "execution_count": null,
      "id": "00e5d299-8707-4a26-aeac-d1a56c01edc3",
      "metadata": {
        "id": "00e5d299-8707-4a26-aeac-d1a56c01edc3",
        "outputId": "5bdb8026-83a2-43fc-8260-725ca92780ba"
      },
      "outputs": [
        {
          "data": {
            "text/plain": [
              "dict_keys([<class 'object'>, <class 'int'>, <class 'float'>, <class 'str'>, <class 'list'>, <class 'tuple'>, <class 'dict'>])"
            ]
          },
          "execution_count": 488,
          "metadata": {},
          "output_type": "execute_result"
        }
      ],
      "source": [
        "htmlize.registry"
      ]
    },
    {
      "cell_type": "code",
      "execution_count": null,
      "id": "dd56ab7e-6d5c-4691-8b5e-45b7e8383cfb",
      "metadata": {
        "id": "dd56ab7e-6d5c-4691-8b5e-45b7e8383cfb",
        "outputId": "68d30b8f-774d-4e3c-9fb5-371f7284a471"
      },
      "outputs": [
        {
          "name": "stdout",
          "output_type": "stream",
          "text": [
            "<ul>\n",
            "<li>1(<i>0x1</i)</li>\n",
            "<li>2(<i>0x2</i)</li>\n",
            "<li>3(<i>0x3</i)</li>\n",
            "</ul>\n"
          ]
        }
      ],
      "source": [
        "print(htmlize([1, 2, 3]))"
      ]
    },
    {
      "cell_type": "code",
      "execution_count": null,
      "id": "f112cae6-090c-45f3-8512-7969070dff8b",
      "metadata": {
        "id": "f112cae6-090c-45f3-8512-7969070dff8b",
        "outputId": "9251bee5-925c-4987-8c53-95b6f4240b93"
      },
      "outputs": [
        {
          "name": "stdout",
          "output_type": "stream",
          "text": [
            "<ul>\n",
            "<li>1(<i>0x1</i)</li>\n",
            "<li>2(<i>0x2</i)</li>\n",
            "<li>3(<i>0x3</i)</li>\n",
            "</ul>\n"
          ]
        }
      ],
      "source": [
        "print(htmlize((1, 2, 3)))"
      ]
    },
    {
      "cell_type": "code",
      "execution_count": null,
      "id": "e50435ff-462d-4e28-945c-1ddb77f5e358",
      "metadata": {
        "id": "e50435ff-462d-4e28-945c-1ddb77f5e358",
        "outputId": "b4e5e55e-f0f0-4246-fa8b-8ac365298d9f"
      },
      "outputs": [
        {
          "name": "stdout",
          "output_type": "stream",
          "text": [
            "this<br/>\n",
            "is a multi line string with<br/>\n",
            "a &lt; 10\n"
          ]
        }
      ],
      "source": [
        "print(htmlize(\"\"\"this\n",
        "is a multi line string with\n",
        "a < 10\"\"\"))"
      ]
    },
    {
      "cell_type": "markdown",
      "id": "bb036c9c-248c-4219-b8b6-163b336e4c85",
      "metadata": {
        "id": "bb036c9c-248c-4219-b8b6-163b336e4c85"
      },
      "source": [
        "Our single dispatch decorator works quite well - but it has some limitations. For example it cannot handle functions that take in more than one argument (in which case dispatching would be based on the type of the first argument), and we also are not allowing for types based on parent classes - for example, integers and booleans are both integral numbers - i.e. they both inherit from the Integral base class. Similarly lists and tuples are both more generic Sequence types. We'll see this in more detail when we get to the topic of abstract base classes (ABC's)."
      ]
    },
    {
      "cell_type": "code",
      "execution_count": null,
      "id": "bf6b34ad-5b4e-49c2-8f17-4315bfbe0f3f",
      "metadata": {
        "id": "bf6b34ad-5b4e-49c2-8f17-4315bfbe0f3f"
      },
      "outputs": [],
      "source": [
        "from numbers import Integral"
      ]
    },
    {
      "cell_type": "code",
      "execution_count": null,
      "id": "158a955a-331a-4c8a-b980-379b10b17227",
      "metadata": {
        "id": "158a955a-331a-4c8a-b980-379b10b17227",
        "outputId": "6a101c46-9b61-49a2-bf84-912073ba8738"
      },
      "outputs": [
        {
          "data": {
            "text/plain": [
              "True"
            ]
          },
          "execution_count": 493,
          "metadata": {},
          "output_type": "execute_result"
        }
      ],
      "source": [
        "isinstance(100, Integral)"
      ]
    },
    {
      "cell_type": "code",
      "execution_count": null,
      "id": "c0144261-7bf1-4fa5-aace-a8394827c384",
      "metadata": {
        "id": "c0144261-7bf1-4fa5-aace-a8394827c384",
        "outputId": "a781de87-8f2d-4b5d-a855-dd7f462988d3"
      },
      "outputs": [
        {
          "data": {
            "text/plain": [
              "True"
            ]
          },
          "execution_count": 494,
          "metadata": {},
          "output_type": "execute_result"
        }
      ],
      "source": [
        "isinstance(True, Integral)"
      ]
    },
    {
      "cell_type": "code",
      "execution_count": null,
      "id": "99716052-723c-43af-9550-29752a2b9585",
      "metadata": {
        "id": "99716052-723c-43af-9550-29752a2b9585",
        "outputId": "b02e6610-1a35-4431-d270-1dfd061f81cb"
      },
      "outputs": [
        {
          "data": {
            "text/plain": [
              "False"
            ]
          },
          "execution_count": 495,
          "metadata": {},
          "output_type": "execute_result"
        }
      ],
      "source": [
        "isinstance(100.5, Integral)"
      ]
    },
    {
      "cell_type": "code",
      "execution_count": null,
      "id": "e8b6d2cb-0074-42cd-bfc5-019a11b5d149",
      "metadata": {
        "id": "e8b6d2cb-0074-42cd-bfc5-019a11b5d149",
        "outputId": "44a9df9e-8604-4e48-b52f-c92b19b06329"
      },
      "outputs": [
        {
          "data": {
            "text/plain": [
              "False"
            ]
          },
          "execution_count": 496,
          "metadata": {},
          "output_type": "execute_result"
        }
      ],
      "source": [
        "type(100) is Integral"
      ]
    },
    {
      "cell_type": "code",
      "execution_count": null,
      "id": "f3b38c14-f58e-4fe8-8396-1fb777be0643",
      "metadata": {
        "id": "f3b38c14-f58e-4fe8-8396-1fb777be0643",
        "outputId": "d8745eee-c997-4069-cbf9-046972933b06"
      },
      "outputs": [
        {
          "data": {
            "text/plain": [
              "False"
            ]
          },
          "execution_count": 497,
          "metadata": {},
          "output_type": "execute_result"
        }
      ],
      "source": [
        "type(True) is Integral"
      ]
    },
    {
      "cell_type": "code",
      "execution_count": null,
      "id": "ff14a734-14d5-41e5-b438-372868d73561",
      "metadata": {
        "id": "ff14a734-14d5-41e5-b438-372868d73561",
        "outputId": "19128f59-7e99-40ea-c5da-0a7cf6401791"
      },
      "outputs": [
        {
          "data": {
            "text/plain": [
              "int"
            ]
          },
          "execution_count": 498,
          "metadata": {},
          "output_type": "execute_result"
        }
      ],
      "source": [
        "(100).__class__"
      ]
    },
    {
      "cell_type": "code",
      "execution_count": null,
      "id": "4551f395-606a-44c9-84d9-f3d6275f2c85",
      "metadata": {
        "id": "4551f395-606a-44c9-84d9-f3d6275f2c85",
        "outputId": "90996cdb-f856-4d41-fb00-3755624e909c"
      },
      "outputs": [
        {
          "data": {
            "text/plain": [
              "bool"
            ]
          },
          "execution_count": 499,
          "metadata": {},
          "output_type": "execute_result"
        }
      ],
      "source": [
        "(True).__class__"
      ]
    },
    {
      "cell_type": "markdown",
      "id": "0090793e-2eb0-4c92-9abd-6041eee1f8ed",
      "metadata": {
        "id": "0090793e-2eb0-4c92-9abd-6041eee1f8ed"
      },
      "source": [
        "The way we have implement our decorator, if we register an Integral generic function, it won't pick up either integers or Booleans.\n",
        "\n",
        "We can certainly fix this shortcoming ourselves, but of course...\n",
        "\n",
        "We can can use Python's built-in single dispatch support, in ...\n",
        "\n",
        "you guessed it!\n",
        "\n",
        "the `functools` module."
      ]
    },
    {
      "cell_type": "code",
      "execution_count": null,
      "id": "0d2a556b-7b32-47f1-b3a3-9403df7247ca",
      "metadata": {
        "id": "0d2a556b-7b32-47f1-b3a3-9403df7247ca"
      },
      "outputs": [],
      "source": [
        "from functools import singledispatch\n",
        "from numbers import Integral\n",
        "from collections.abc import Sequence"
      ]
    },
    {
      "cell_type": "code",
      "execution_count": null,
      "id": "ae06c6c3-4c0b-46a2-8175-a4c7cb2cb06b",
      "metadata": {
        "id": "ae06c6c3-4c0b-46a2-8175-a4c7cb2cb06b"
      },
      "outputs": [],
      "source": [
        "@singledispatch\n",
        "def htmlize(a):\n",
        "    return escape(str(a))"
      ]
    },
    {
      "cell_type": "markdown",
      "id": "4485c343-1f09-4383-9cf5-1dbbd21abde9",
      "metadata": {
        "id": "4485c343-1f09-4383-9cf5-1dbbd21abde9"
      },
      "source": [
        "The `singledispatch` returned closure has a few attributes we can use:\n",
        "\n",
        "1. A `register` decorator (just like ours did)\n",
        "2. A `registry` property that is the registry dictionary\n",
        "3. A `dispatch` function that can be used to determine which registry key (registered type) it will use for the specified type."
      ]
    },
    {
      "cell_type": "code",
      "execution_count": null,
      "id": "43244e4e-b4fa-49e1-9387-5c7266621180",
      "metadata": {
        "id": "43244e4e-b4fa-49e1-9387-5c7266621180"
      },
      "outputs": [],
      "source": [
        "@htmlize.register(Integral)\n",
        "def htmlize_int(a):\n",
        "    return '{0}(<i>{1}</i)'.format(a, str(hex(a))) "
      ]
    },
    {
      "cell_type": "code",
      "execution_count": null,
      "id": "054f2d8b-8497-40c8-888f-3f72597a3b88",
      "metadata": {
        "id": "054f2d8b-8497-40c8-888f-3f72597a3b88",
        "outputId": "359f6edd-d09c-4b56-b778-6bfde1b67d55"
      },
      "outputs": [
        {
          "data": {
            "text/plain": [
              "<function __main__.htmlize_int(a)>"
            ]
          },
          "execution_count": 503,
          "metadata": {},
          "output_type": "execute_result"
        }
      ],
      "source": [
        "htmlize.dispatch(int)"
      ]
    },
    {
      "cell_type": "code",
      "execution_count": null,
      "id": "3bd5e7e7-0df5-4f66-8f69-3516b331c176",
      "metadata": {
        "id": "3bd5e7e7-0df5-4f66-8f69-3516b331c176",
        "outputId": "45f4a35a-b63a-4e8f-aa59-05b8b923edb3"
      },
      "outputs": [
        {
          "data": {
            "text/plain": [
              "<function __main__.htmlize_int(a)>"
            ]
          },
          "execution_count": 504,
          "metadata": {},
          "output_type": "execute_result"
        }
      ],
      "source": [
        "htmlize.dispatch(bool)"
      ]
    },
    {
      "cell_type": "code",
      "execution_count": null,
      "id": "57b229a7-e1ac-4d39-9f7d-5ade0215d0ce",
      "metadata": {
        "id": "57b229a7-e1ac-4d39-9f7d-5ade0215d0ce",
        "outputId": "05b47bc5-2503-42eb-882e-533f82737061"
      },
      "outputs": [
        {
          "data": {
            "text/plain": [
              "'100(<i>0x64</i)'"
            ]
          },
          "execution_count": 505,
          "metadata": {},
          "output_type": "execute_result"
        }
      ],
      "source": [
        "htmlize(100)"
      ]
    },
    {
      "cell_type": "code",
      "execution_count": null,
      "id": "8fb92ce4-2c08-4c81-a30b-89f5dfd38bdd",
      "metadata": {
        "id": "8fb92ce4-2c08-4c81-a30b-89f5dfd38bdd",
        "outputId": "04cdbd3d-a6eb-45ea-92fb-5ba76f5d089a"
      },
      "outputs": [
        {
          "data": {
            "text/plain": [
              "'True(<i>0x1</i)'"
            ]
          },
          "execution_count": 506,
          "metadata": {},
          "output_type": "execute_result"
        }
      ],
      "source": [
        "htmlize(True)"
      ]
    },
    {
      "cell_type": "code",
      "execution_count": null,
      "id": "e90b4eba-7e52-4d07-aa60-46246f2c6830",
      "metadata": {
        "id": "e90b4eba-7e52-4d07-aa60-46246f2c6830"
      },
      "outputs": [],
      "source": [
        "@htmlize.register(Sequence)\n",
        "def html_sequence(l):\n",
        "    items = ['<li>{0}</li>'.format(htmlize(item)) for item in l]\n",
        "    return '<ul>\\n' + '\\n'.join(items) + '\\n</ul>'"
      ]
    },
    {
      "cell_type": "code",
      "execution_count": null,
      "id": "5af97e40-56b7-4e71-8667-6dd0928291e5",
      "metadata": {
        "id": "5af97e40-56b7-4e71-8667-6dd0928291e5",
        "outputId": "1bdd2e3e-94e5-4d22-acf6-ff8b99692a54"
      },
      "outputs": [
        {
          "data": {
            "text/plain": [
              "<function __main__.html_sequence(l)>"
            ]
          },
          "execution_count": 508,
          "metadata": {},
          "output_type": "execute_result"
        }
      ],
      "source": [
        "htmlize.dispatch(list)"
      ]
    },
    {
      "cell_type": "code",
      "execution_count": null,
      "id": "d72a1e97-2aa2-4d91-bed0-ae54af21e5e5",
      "metadata": {
        "id": "d72a1e97-2aa2-4d91-bed0-ae54af21e5e5",
        "outputId": "2a7925e3-e015-408e-9cfe-c131e02df65d"
      },
      "outputs": [
        {
          "data": {
            "text/plain": [
              "<function __main__.html_sequence(l)>"
            ]
          },
          "execution_count": 509,
          "metadata": {},
          "output_type": "execute_result"
        }
      ],
      "source": [
        "htmlize.dispatch(tuple)"
      ]
    },
    {
      "cell_type": "code",
      "execution_count": null,
      "id": "b5ef46d3-2f69-40af-8b68-8a86ddb1039e",
      "metadata": {
        "id": "b5ef46d3-2f69-40af-8b68-8a86ddb1039e",
        "outputId": "d3d33cb2-772e-4177-da49-4ae2aab0432e"
      },
      "outputs": [
        {
          "data": {
            "text/plain": [
              "<function __main__.html_sequence(l)>"
            ]
          },
          "execution_count": 510,
          "metadata": {},
          "output_type": "execute_result"
        }
      ],
      "source": [
        "htmlize.dispatch(str)"
      ]
    },
    {
      "cell_type": "markdown",
      "id": "faf298c9-f239-4280-a666-65b419107433",
      "metadata": {
        "id": "faf298c9-f239-4280-a666-65b419107433"
      },
      "source": [
        "You'll note that a string is also a sequence type, hence our dispatcher will call the `html_sequence` function on a string.\n",
        "\n",
        "In fact, at this point things would not even run properly.\n",
        "\n",
        "If we were to call\n",
        "\n",
        "`htmlize('abc')`\n",
        "\n",
        "we'd get an infinite recursion!\n",
        "\n",
        "The call to `htmlize` the string abc would treat it as a sequence, which would call `htmlize` character by character. But each character is itself just a string of length 1, so it will `htmlize` for that single character, which would treat it as a sequence, which would call `htmlize` for that single character again, and so on, in an infinite loop."
      ]
    },
    {
      "cell_type": "code",
      "execution_count": null,
      "id": "458cf0b7-cdc1-4e8e-b80f-299234436e0e",
      "metadata": {
        "id": "458cf0b7-cdc1-4e8e-b80f-299234436e0e"
      },
      "outputs": [],
      "source": [
        "# htmlize('abc')"
      ]
    },
    {
      "cell_type": "markdown",
      "id": "e276f720-f447-455f-bdb8-d35f8b3f6028",
      "metadata": {
        "id": "e276f720-f447-455f-bdb8-d35f8b3f6028"
      },
      "source": [
        "Instead, we are going to register a string handler specifically - that way we will avoid that problem entirely:"
      ]
    },
    {
      "cell_type": "code",
      "execution_count": null,
      "id": "fc2be452-b5c9-4eaf-bc11-ba12a9ef1aad",
      "metadata": {
        "id": "fc2be452-b5c9-4eaf-bc11-ba12a9ef1aad"
      },
      "outputs": [],
      "source": [
        "@htmlize.register(str)\n",
        "def html_str(s):\n",
        "    return escape(s).replace('\\n', '<br/>\\n')"
      ]
    },
    {
      "cell_type": "code",
      "execution_count": null,
      "id": "5abc4b8b-ff70-46f1-a3c8-09c59b20bc36",
      "metadata": {
        "id": "5abc4b8b-ff70-46f1-a3c8-09c59b20bc36",
        "outputId": "bfcc70e7-a962-42a7-d49e-d0acc09e7bd2"
      },
      "outputs": [
        {
          "data": {
            "text/plain": [
              "<function __main__.html_str(s)>"
            ]
          },
          "execution_count": 513,
          "metadata": {},
          "output_type": "execute_result"
        }
      ],
      "source": [
        "htmlize.dispatch(str)"
      ]
    },
    {
      "cell_type": "markdown",
      "id": "50e66979-1b65-4b53-a654-fcbaeb00236b",
      "metadata": {
        "id": "50e66979-1b65-4b53-a654-fcbaeb00236b"
      },
      "source": [
        "So, even though a string is both an `str` instance and in general a sequence type, the \"closest\" type will be picked by the dispatcher (again something our own implementation did not do).\n",
        "\n",
        "This means, we have something for generic sequences, but something specific for more specialized strings."
      ]
    },
    {
      "cell_type": "code",
      "execution_count": null,
      "id": "8aabb5e5-0960-46a0-993a-86ff9f54015d",
      "metadata": {
        "id": "8aabb5e5-0960-46a0-993a-86ff9f54015d",
        "outputId": "96b396e8-ff13-42c8-8232-78c032a9e088"
      },
      "outputs": [
        {
          "data": {
            "text/plain": [
              "'abc'"
            ]
          },
          "execution_count": 514,
          "metadata": {},
          "output_type": "execute_result"
        }
      ],
      "source": [
        "htmlize('abc')"
      ]
    },
    {
      "cell_type": "markdown",
      "id": "342ee8da-5d92-41b3-8bec-9c1e15180d0c",
      "metadata": {
        "id": "342ee8da-5d92-41b3-8bec-9c1e15180d0c"
      },
      "source": [
        "We can do the same thing with sequences - right now `html_sequence` will be used for both lists and tuples.\n",
        "\n",
        "But suppose we want slightly different handling of tuples:"
      ]
    },
    {
      "cell_type": "code",
      "execution_count": null,
      "id": "1348e76d-cc0b-494d-bc7b-7bba05c5e360",
      "metadata": {
        "id": "1348e76d-cc0b-494d-bc7b-7bba05c5e360"
      },
      "outputs": [],
      "source": [
        "@htmlize.register(tuple)\n",
        "def html_tuple(t):\n",
        "    items = [escape(str(item)) for item in t]\n",
        "    return '({0})'.format(', '.join(items))"
      ]
    },
    {
      "cell_type": "code",
      "execution_count": null,
      "id": "de87b42f-d386-4416-bd37-5db647ef1133",
      "metadata": {
        "id": "de87b42f-d386-4416-bd37-5db647ef1133",
        "outputId": "a5928c60-bb33-4d7d-d585-fb0b07248210"
      },
      "outputs": [
        {
          "data": {
            "text/plain": [
              "<function __main__.html_sequence(l)>"
            ]
          },
          "execution_count": 516,
          "metadata": {},
          "output_type": "execute_result"
        }
      ],
      "source": [
        "htmlize.dispatch(list)"
      ]
    },
    {
      "cell_type": "code",
      "execution_count": null,
      "id": "1a85094c-99f5-41a3-a75e-880c16d2bab5",
      "metadata": {
        "id": "1a85094c-99f5-41a3-a75e-880c16d2bab5",
        "outputId": "54b9007c-cffb-475c-d444-799b05540345"
      },
      "outputs": [
        {
          "data": {
            "text/plain": [
              "<function __main__.html_tuple(t)>"
            ]
          },
          "execution_count": 517,
          "metadata": {},
          "output_type": "execute_result"
        }
      ],
      "source": [
        "htmlize.dispatch(tuple)"
      ]
    },
    {
      "cell_type": "code",
      "execution_count": null,
      "id": "73ff1ffd-010e-49d4-886b-58cc811a8a39",
      "metadata": {
        "id": "73ff1ffd-010e-49d4-886b-58cc811a8a39",
        "outputId": "a4fc0411-496a-4f80-db83-726264b9378f"
      },
      "outputs": [
        {
          "name": "stdout",
          "output_type": "stream",
          "text": [
            "<ul>\n",
            "<li>a</li>\n",
            "<li>100(<i>0x64</i)</li>\n",
            "<li>3.14</li>\n",
            "</ul>\n"
          ]
        }
      ],
      "source": [
        "print(htmlize(['a', 100, 3.14]))"
      ]
    },
    {
      "cell_type": "code",
      "execution_count": null,
      "id": "3868f0e4-1f06-434c-8b11-d1fb997690f5",
      "metadata": {
        "id": "3868f0e4-1f06-434c-8b11-d1fb997690f5",
        "outputId": "dd75f20f-3260-47d0-9f3c-d05881a2f96a"
      },
      "outputs": [
        {
          "name": "stdout",
          "output_type": "stream",
          "text": [
            "(a, 100, 3.14)\n"
          ]
        }
      ],
      "source": [
        "print(htmlize(('a', 100, 3.14)))"
      ]
    },
    {
      "cell_type": "markdown",
      "id": "9cd18be3-bb32-4b50-add7-051db263cfdc",
      "metadata": {
        "id": "9cd18be3-bb32-4b50-add7-051db263cfdc"
      },
      "source": [
        "One thing of note is that we started our decoration with a `@singledispatch` decorator - you'll notice that no specific type was indicated here - and in fact this means the dispatcher will use the generic `object` type.\n",
        "\n",
        "This means that any object type not specifically handled by our dispatcher will fall back on that `object` key - hence you can think of it as the default for the dispatcher."
      ]
    },
    {
      "cell_type": "code",
      "execution_count": null,
      "id": "7e604002-26c4-4f0e-8319-bc8dfbb6c99a",
      "metadata": {
        "id": "7e604002-26c4-4f0e-8319-bc8dfbb6c99a",
        "outputId": "99a1c114-9b9f-4bba-e328-22e166034103"
      },
      "outputs": [
        {
          "data": {
            "text/plain": [
              "NoneType"
            ]
          },
          "execution_count": 520,
          "metadata": {},
          "output_type": "execute_result"
        }
      ],
      "source": [
        "type(None)"
      ]
    },
    {
      "cell_type": "code",
      "execution_count": null,
      "id": "ccd527d3-fcc1-4530-ac13-cf7bd2b9edb3",
      "metadata": {
        "id": "ccd527d3-fcc1-4530-ac13-cf7bd2b9edb3",
        "outputId": "81677e10-a2f7-454e-b5ea-a838f9bc7a02"
      },
      "outputs": [
        {
          "data": {
            "text/plain": [
              "<function __main__.htmlize(a)>"
            ]
          },
          "execution_count": 521,
          "metadata": {},
          "output_type": "execute_result"
        }
      ],
      "source": [
        "htmlize.dispatch(type(None))"
      ]
    },
    {
      "cell_type": "code",
      "execution_count": null,
      "id": "17cadc43-290c-4b5b-971a-e4a1f4633fdd",
      "metadata": {
        "id": "17cadc43-290c-4b5b-971a-e4a1f4633fdd",
        "outputId": "287d6480-4a97-4292-fde7-5e18af3f9f27"
      },
      "outputs": [
        {
          "data": {
            "text/plain": [
              "complex"
            ]
          },
          "execution_count": 522,
          "metadata": {},
          "output_type": "execute_result"
        }
      ],
      "source": [
        "type(1+1j)"
      ]
    },
    {
      "cell_type": "code",
      "execution_count": null,
      "id": "0ed3094f-4d57-4a3e-b599-2b324c807163",
      "metadata": {
        "id": "0ed3094f-4d57-4a3e-b599-2b324c807163",
        "outputId": "a6fbe80f-fa99-4e3a-a5ff-dbf3cc824a4b"
      },
      "outputs": [
        {
          "data": {
            "text/plain": [
              "<function __main__.htmlize(a)>"
            ]
          },
          "execution_count": 523,
          "metadata": {},
          "output_type": "execute_result"
        }
      ],
      "source": [
        "htmlize.dispatch(complex)"
      ]
    },
    {
      "cell_type": "code",
      "execution_count": null,
      "id": "1e22468d-3e84-4c83-a6c3-11c265e828da",
      "metadata": {
        "id": "1e22468d-3e84-4c83-a6c3-11c265e828da",
        "outputId": "92fe8b87-6f89-48d7-f7f5-567fa66f6fe8"
      },
      "outputs": [
        {
          "data": {
            "text/plain": [
              "int"
            ]
          },
          "execution_count": 524,
          "metadata": {},
          "output_type": "execute_result"
        }
      ],
      "source": [
        "type(3)"
      ]
    },
    {
      "cell_type": "code",
      "execution_count": null,
      "id": "c6b96530-7e84-432e-a006-48362e030761",
      "metadata": {
        "id": "c6b96530-7e84-432e-a006-48362e030761",
        "outputId": "90a34ae4-c1fc-4db9-d700-0ed4219bdd57"
      },
      "outputs": [
        {
          "data": {
            "text/plain": [
              "<function __main__.htmlize_int(a)>"
            ]
          },
          "execution_count": 525,
          "metadata": {},
          "output_type": "execute_result"
        }
      ],
      "source": [
        "htmlize.dispatch(int)"
      ]
    },
    {
      "cell_type": "markdown",
      "id": "58cf0bd9-9f44-4b65-b07e-c47f6da83eb6",
      "metadata": {
        "id": "58cf0bd9-9f44-4b65-b07e-c47f6da83eb6"
      },
      "source": [
        "Lastly, because the name of the individual specialized functions does not really matter to us (the dispatcher will pick the appropriate function), it is quite common for an underscore character ( _ ) to be used for the function name - the memory address of each specialized function will be stored in the `registry` dictionary, and the function name does not matter - in fact we can even add lambdas to the registry."
      ]
    },
    {
      "cell_type": "code",
      "execution_count": null,
      "id": "84269ef3-8738-4425-a086-21c0c5fedb62",
      "metadata": {
        "id": "84269ef3-8738-4425-a086-21c0c5fedb62"
      },
      "outputs": [],
      "source": [
        "@singledispatch\n",
        "def htmlize(a):\n",
        "    return escape(str(a))"
      ]
    },
    {
      "cell_type": "code",
      "execution_count": null,
      "id": "fc151770-7a9a-4723-ba82-810d3e0b3e27",
      "metadata": {
        "id": "fc151770-7a9a-4723-ba82-810d3e0b3e27"
      },
      "outputs": [],
      "source": [
        "@htmlize.register(int)\n",
        "def _(a):\n",
        "    return '{0}({1})'.format(a, str(hex(a)))"
      ]
    },
    {
      "cell_type": "code",
      "execution_count": null,
      "id": "1cdded76-7e0e-437f-b9ca-bcd384d55f0b",
      "metadata": {
        "id": "1cdded76-7e0e-437f-b9ca-bcd384d55f0b"
      },
      "outputs": [],
      "source": [
        "@htmlize.register(str)\n",
        "def _(s):\n",
        "    return escape(s).replace('\\n', '<br/>\\n')"
      ]
    },
    {
      "cell_type": "code",
      "execution_count": null,
      "id": "47d0bb3e-aae9-4b8b-a313-bf4c867d197d",
      "metadata": {
        "id": "47d0bb3e-aae9-4b8b-a313-bf4c867d197d",
        "outputId": "89916564-b8d0-4965-a81a-31bceb3f74dc"
      },
      "outputs": [
        {
          "data": {
            "text/plain": [
              "<function __main__.<lambda>(f)>"
            ]
          },
          "execution_count": 529,
          "metadata": {},
          "output_type": "execute_result"
        }
      ],
      "source": [
        "htmlize.register(float)(lambda f: '{0:.2f}'.format(f))"
      ]
    },
    {
      "cell_type": "code",
      "execution_count": null,
      "id": "f9063d0d-b74c-40db-b5d4-59c9800fc1d1",
      "metadata": {
        "id": "f9063d0d-b74c-40db-b5d4-59c9800fc1d1",
        "outputId": "57090e91-8006-403c-f19a-86f9f16c5f7f"
      },
      "outputs": [
        {
          "data": {
            "text/plain": [
              "mappingproxy({object: <function __main__.htmlize(a)>,\n",
              "              int: <function __main__._(a)>,\n",
              "              str: <function __main__._(s)>,\n",
              "              float: <function __main__.<lambda>(f)>})"
            ]
          },
          "execution_count": 530,
          "metadata": {},
          "output_type": "execute_result"
        }
      ],
      "source": [
        "htmlize.registry"
      ]
    },
    {
      "cell_type": "markdown",
      "id": "17b7c2a2-c942-41ed-a9fe-dc659f651844",
      "metadata": {
        "id": "17b7c2a2-c942-41ed-a9fe-dc659f651844"
      },
      "source": [
        "But note that the `__main__` function for `int` and `str` are not the same functions (even tough they have the same name):"
      ]
    },
    {
      "cell_type": "code",
      "execution_count": null,
      "id": "af07a3d4-0d72-4157-986e-800bba6ad361",
      "metadata": {
        "id": "af07a3d4-0d72-4157-986e-800bba6ad361",
        "outputId": "e04f5957-ecc3-4161-d46b-711e9886d331"
      },
      "outputs": [
        {
          "data": {
            "text/plain": [
              "1954621336160"
            ]
          },
          "execution_count": 531,
          "metadata": {},
          "output_type": "execute_result"
        }
      ],
      "source": [
        "id(htmlize.registry[str])"
      ]
    },
    {
      "cell_type": "code",
      "execution_count": null,
      "id": "4deeaac1-75ae-437b-b57e-779d8db7cb04",
      "metadata": {
        "id": "4deeaac1-75ae-437b-b57e-779d8db7cb04",
        "outputId": "d2812b36-0add-482c-c2fd-bfc07ca0ac46"
      },
      "outputs": [
        {
          "data": {
            "text/plain": [
              "1954650658128"
            ]
          },
          "execution_count": 532,
          "metadata": {},
          "output_type": "execute_result"
        }
      ],
      "source": [
        "id(htmlize.registry[int])"
      ]
    },
    {
      "cell_type": "markdown",
      "id": "a3c66124-02b8-40d6-8982-a7fd15d2fc3d",
      "metadata": {
        "id": "a3c66124-02b8-40d6-8982-a7fd15d2fc3d"
      },
      "source": [
        "And everything works as expected:"
      ]
    },
    {
      "cell_type": "code",
      "execution_count": null,
      "id": "5df9c6cb-4ef9-45c0-84b7-ee103d614c89",
      "metadata": {
        "id": "5df9c6cb-4ef9-45c0-84b7-ee103d614c89",
        "outputId": "bfcd6a71-0de9-4749-f306-3c3f7cd91042"
      },
      "outputs": [
        {
          "data": {
            "text/plain": [
              "'100(0x64)'"
            ]
          },
          "execution_count": 533,
          "metadata": {},
          "output_type": "execute_result"
        }
      ],
      "source": [
        "htmlize(100)"
      ]
    },
    {
      "cell_type": "code",
      "execution_count": null,
      "id": "d4c43905-a797-40c4-83e0-e9598cf21e2d",
      "metadata": {
        "id": "d4c43905-a797-40c4-83e0-e9598cf21e2d",
        "outputId": "d79aa4d9-a826-4680-871b-7e6983ab821e"
      },
      "outputs": [
        {
          "data": {
            "text/plain": [
              "'3.14'"
            ]
          },
          "execution_count": 534,
          "metadata": {},
          "output_type": "execute_result"
        }
      ],
      "source": [
        "htmlize(3.1415)"
      ]
    },
    {
      "cell_type": "code",
      "execution_count": null,
      "id": "4fb5ad0d-fc9e-448a-9843-ff499edc449a",
      "metadata": {
        "id": "4fb5ad0d-fc9e-448a-9843-ff499edc449a",
        "outputId": "23e53c96-2a8a-4fc2-b90e-fc33f30e66bd"
      },
      "outputs": [
        {
          "name": "stdout",
          "output_type": "stream",
          "text": [
            "this<br/>\n",
            "is a multi-line string<br/>\n",
            "a &lt; 10\n"
          ]
        }
      ],
      "source": [
        "print(htmlize(\"\"\"this\n",
        "is a multi-line string\n",
        "a < 10\"\"\"))"
      ]
    },
    {
      "cell_type": "markdown",
      "id": "0f2196f0-9719-499c-9e90-d33bfea169dc",
      "metadata": {
        "id": "0f2196f0-9719-499c-9e90-d33bfea169dc"
      },
      "source": [
        "If this same name but different function thing has you confused, look at it this way:"
      ]
    },
    {
      "cell_type": "code",
      "execution_count": null,
      "id": "f7a3b353-a9a3-4b9e-b058-3e661ec8e8a8",
      "metadata": {
        "id": "f7a3b353-a9a3-4b9e-b058-3e661ec8e8a8"
      },
      "outputs": [],
      "source": [
        "def my_func():\n",
        "    print('my_func initial')"
      ]
    },
    {
      "cell_type": "code",
      "execution_count": null,
      "id": "bb10817e-96a5-43be-a366-8a0f54cee98e",
      "metadata": {
        "id": "bb10817e-96a5-43be-a366-8a0f54cee98e",
        "outputId": "193df191-a517-457c-d24a-7c9591455b92"
      },
      "outputs": [
        {
          "data": {
            "text/plain": [
              "1954650516208"
            ]
          },
          "execution_count": 537,
          "metadata": {},
          "output_type": "execute_result"
        }
      ],
      "source": [
        "id(my_func)"
      ]
    },
    {
      "cell_type": "code",
      "execution_count": null,
      "id": "3efec2b5-dc47-4a7b-8090-86daf555e1c7",
      "metadata": {
        "id": "3efec2b5-dc47-4a7b-8090-86daf555e1c7"
      },
      "outputs": [],
      "source": [
        "f = my_func"
      ]
    },
    {
      "cell_type": "code",
      "execution_count": null,
      "id": "48e9b4c7-2eaf-421f-b388-ed4cca095a87",
      "metadata": {
        "id": "48e9b4c7-2eaf-421f-b388-ed4cca095a87",
        "outputId": "5bb64b73-4437-4c92-8f21-1b1986964886"
      },
      "outputs": [
        {
          "data": {
            "text/plain": [
              "1954650516208"
            ]
          },
          "execution_count": 539,
          "metadata": {},
          "output_type": "execute_result"
        }
      ],
      "source": [
        "id(f)"
      ]
    },
    {
      "cell_type": "markdown",
      "id": "270a3361-7a2a-4374-b3c5-2214749b1015",
      "metadata": {
        "id": "270a3361-7a2a-4374-b3c5-2214749b1015"
      },
      "source": [
        "So, `f` and `my_func` point to the same function in memory.\n",
        "\n",
        "Let's go ahead and \"redefine\" the function `my_func`:"
      ]
    },
    {
      "cell_type": "code",
      "execution_count": null,
      "id": "ae63a2e1-9859-45f6-b779-6b9fd811cf1a",
      "metadata": {
        "id": "ae63a2e1-9859-45f6-b779-6b9fd811cf1a"
      },
      "outputs": [],
      "source": [
        "def my_func():\n",
        "    print('second my_func')"
      ]
    },
    {
      "cell_type": "markdown",
      "id": "2db50d58-e7bb-4ae4-87b2-9f981c5148c8",
      "metadata": {
        "id": "2db50d58-e7bb-4ae4-87b2-9f981c5148c8"
      },
      "source": [
        "In fact, we did not \"redefine\" the previous `my_func`, it still exists in memory (and `f` still points to it). Instead we have re-assigned the function that `my_func` points to:"
      ]
    },
    {
      "cell_type": "code",
      "execution_count": null,
      "id": "bdeaf99b-1a54-438d-af64-5bbef27668c5",
      "metadata": {
        "id": "bdeaf99b-1a54-438d-af64-5bbef27668c5",
        "outputId": "ef072bde-beab-428f-dbd1-c1ef124b086f"
      },
      "outputs": [
        {
          "data": {
            "text/plain": [
              "1954650656976"
            ]
          },
          "execution_count": 541,
          "metadata": {},
          "output_type": "execute_result"
        }
      ],
      "source": [
        "id(my_func)"
      ]
    },
    {
      "cell_type": "markdown",
      "id": "070ef3ba-0a80-41da-b2ee-f95b56e89a8e",
      "metadata": {
        "id": "070ef3ba-0a80-41da-b2ee-f95b56e89a8e"
      },
      "source": [
        "But the original `my_func` is still around, and 'f' still has a reference to it:"
      ]
    },
    {
      "cell_type": "code",
      "execution_count": null,
      "id": "a48393eb-c3a8-4eb0-9e33-1c406df6547d",
      "metadata": {
        "id": "a48393eb-c3a8-4eb0-9e33-1c406df6547d",
        "outputId": "6ec37da3-8fda-4c13-c5bb-8f90ede0e494"
      },
      "outputs": [
        {
          "data": {
            "text/plain": [
              "1954650516208"
            ]
          },
          "execution_count": 542,
          "metadata": {},
          "output_type": "execute_result"
        }
      ],
      "source": [
        "id(f)"
      ]
    },
    {
      "cell_type": "markdown",
      "id": "6b4483f9-b88f-43ca-aee9-90e69231c301",
      "metadata": {
        "id": "6b4483f9-b88f-43ca-aee9-90e69231c301"
      },
      "source": [
        "So, we can call each one:"
      ]
    },
    {
      "cell_type": "code",
      "execution_count": null,
      "id": "47e7efeb-d26b-466e-bd9b-ca49f6b8e38b",
      "metadata": {
        "id": "47e7efeb-d26b-466e-bd9b-ca49f6b8e38b",
        "outputId": "a8c168b6-815f-43aa-bcad-d46958f319df"
      },
      "outputs": [
        {
          "name": "stdout",
          "output_type": "stream",
          "text": [
            "my_func initial\n"
          ]
        }
      ],
      "source": [
        "f()"
      ]
    },
    {
      "cell_type": "code",
      "execution_count": null,
      "id": "499fa2ed-10cd-4539-8954-d2a9ba3395be",
      "metadata": {
        "id": "499fa2ed-10cd-4539-8954-d2a9ba3395be",
        "outputId": "1642cf35-e86c-4843-9452-0006a00b4fe0"
      },
      "outputs": [
        {
          "name": "stdout",
          "output_type": "stream",
          "text": [
            "second my_func\n"
          ]
        }
      ],
      "source": [
        "my_func()"
      ]
    },
    {
      "cell_type": "markdown",
      "id": "4abc0a53-3bd1-4005-8e11-465a972607c3",
      "metadata": {
        "id": "4abc0a53-3bd1-4005-8e11-465a972607c3"
      },
      "source": [
        "But the function `__name__` have the same value:"
      ]
    },
    {
      "cell_type": "code",
      "execution_count": null,
      "id": "14f0edd1-ccac-4f0a-9247-c42518d85d37",
      "metadata": {
        "id": "14f0edd1-ccac-4f0a-9247-c42518d85d37",
        "outputId": "da32b856-db4e-45de-d108-907f68b782b9"
      },
      "outputs": [
        {
          "data": {
            "text/plain": [
              "'my_func'"
            ]
          },
          "execution_count": 545,
          "metadata": {},
          "output_type": "execute_result"
        }
      ],
      "source": [
        "f.__name__"
      ]
    },
    {
      "cell_type": "code",
      "execution_count": null,
      "id": "c0cbdf89-e961-4beb-a6f0-90bbdb569ae4",
      "metadata": {
        "id": "c0cbdf89-e961-4beb-a6f0-90bbdb569ae4",
        "outputId": "79d2d58a-c4dc-4949-9768-d1709b0e2170"
      },
      "outputs": [
        {
          "data": {
            "text/plain": [
              "'my_func'"
            ]
          },
          "execution_count": 546,
          "metadata": {},
          "output_type": "execute_result"
        }
      ],
      "source": [
        "my_func.__name__"
      ]
    },
    {
      "cell_type": "markdown",
      "id": "b06676d9-d349-4392-8ef1-238bcae1c64e",
      "metadata": {
        "id": "b06676d9-d349-4392-8ef1-238bcae1c64e"
      },
      "source": [
        "Just always keep in mind that labels point to something in memory, it is not the object itself. So in this case we have two distinct objects (functions) which happen to have the same name, but are two very different objects - `f` points to the first one we created, and `my_func` points to the second."
      ]
    }
  ],
  "metadata": {
    "kernelspec": {
      "display_name": "Python 3 (ipykernel)",
      "language": "python",
      "name": "python3"
    },
    "language_info": {
      "codemirror_mode": {
        "name": "ipython",
        "version": 3
      },
      "file_extension": ".py",
      "mimetype": "text/x-python",
      "name": "python",
      "nbconvert_exporter": "python",
      "pygments_lexer": "ipython3",
      "version": "3.9.12"
    },
    "toc-autonumbering": false,
    "toc-showcode": false,
    "toc-showmarkdowntxt": false,
    "toc-showtags": false,
    "colab": {
      "provenance": [],
      "include_colab_link": true
    }
  },
  "nbformat": 4,
  "nbformat_minor": 5
}