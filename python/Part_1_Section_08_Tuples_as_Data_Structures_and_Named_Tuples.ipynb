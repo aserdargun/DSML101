{
  "cells": [
    {
      "cell_type": "markdown",
      "metadata": {
        "id": "view-in-github",
        "colab_type": "text"
      },
      "source": [
        "<a href=\"https://colab.research.google.com/github/aserdargun/DSML101/blob/main/python/Part_1_Section_08_Tuples_as_Data_Structures_and_Named_Tuples.ipynb\" target=\"_parent\"><img src=\"https://colab.research.google.com/assets/colab-badge.svg\" alt=\"Open In Colab\"/></a>"
      ]
    },
    {
      "cell_type": "markdown",
      "id": "b7d69f5b-ce9f-4602-b00f-a133e49902ac",
      "metadata": {
        "id": "b7d69f5b-ce9f-4602-b00f-a133e49902ac"
      },
      "source": [
        "# **PART 1: FUNCTIONAL PROGRAMMING**"
      ]
    },
    {
      "cell_type": "markdown",
      "id": "feea1a3b-3bd4-4cce-b0d8-5c9fc9260724",
      "metadata": {
        "id": "feea1a3b-3bd4-4cce-b0d8-5c9fc9260724"
      },
      "source": [
        "## Section 08 - Tuples as Data Records"
      ]
    },
    {
      "cell_type": "markdown",
      "id": "b55014f5-1ee5-48f6-b9e2-e8b077d11a35",
      "metadata": {
        "id": "b55014f5-1ee5-48f6-b9e2-e8b077d11a35"
      },
      "source": [
        "### 01 - Tuples as Data Structures"
      ]
    },
    {
      "cell_type": "markdown",
      "id": "7df5f803-1367-41a3-8c71-ee686fcca19b",
      "metadata": {
        "id": "7df5f803-1367-41a3-8c71-ee686fcca19b"
      },
      "source": [
        "Tuples are immutable container type.\n",
        "\n",
        "They contain a collection of objects. The tuple is a sequence type - this means order matters (and is preserved) and elements can be accessed by index (zero based), slicing, or iteration.\n",
        "\n",
        "Other common sequence types in Python include lists and strings. Strings, like tuples are immutable, whereas lists are mutable.\n",
        "\n",
        "Tuples are sometimes presented as immutable lists, but in fact, they could be compared more closely to strings with one major difference: strings are homogeneous seqeunces, while tıples can be heterogeneous.\n",
        "\n",
        "A tuple literal is often presented as:"
      ]
    },
    {
      "cell_type": "code",
      "execution_count": null,
      "id": "58a558e6-31c6-41de-ad26-6f0956edbb78",
      "metadata": {
        "id": "58a558e6-31c6-41de-ad26-6f0956edbb78",
        "outputId": "94ec62e4-e55b-4f85-c43f-4dada122d106"
      },
      "outputs": [
        {
          "data": {
            "text/plain": [
              "('a', 10, True)"
            ]
          },
          "execution_count": 1,
          "metadata": {},
          "output_type": "execute_result"
        }
      ],
      "source": [
        "('a', 10, True)"
      ]
    },
    {
      "cell_type": "markdown",
      "id": "3f38a0ba-e87f-4d4d-b3d2-aee1b7fa154f",
      "metadata": {
        "id": "3f38a0ba-e87f-4d4d-b3d2-aee1b7fa154f"
      },
      "source": [
        "But the parenteses are not what indicate a tuple - it is the commas:"
      ]
    },
    {
      "cell_type": "code",
      "execution_count": null,
      "id": "a3bdd1e1-18a8-46ad-9259-0f364229e498",
      "metadata": {
        "id": "a3bdd1e1-18a8-46ad-9259-0f364229e498"
      },
      "outputs": [],
      "source": [
        "a = ('a', 10, True)\n",
        "b = 'b', 20, False"
      ]
    },
    {
      "cell_type": "code",
      "execution_count": null,
      "id": "9de2700b-862c-4f68-af36-79b4f769c088",
      "metadata": {
        "id": "9de2700b-862c-4f68-af36-79b4f769c088",
        "outputId": "64168346-bea0-4250-ef51-622d9cacb06d"
      },
      "outputs": [
        {
          "data": {
            "text/plain": [
              "tuple"
            ]
          },
          "execution_count": 3,
          "metadata": {},
          "output_type": "execute_result"
        }
      ],
      "source": [
        "type(a)"
      ]
    },
    {
      "cell_type": "code",
      "execution_count": null,
      "id": "9c05ff63-3568-4f23-a086-ac33eb9bb83c",
      "metadata": {
        "id": "9c05ff63-3568-4f23-a086-ac33eb9bb83c",
        "outputId": "cb236db1-56ef-4c55-961b-f3c22777a28a"
      },
      "outputs": [
        {
          "data": {
            "text/plain": [
              "tuple"
            ]
          },
          "execution_count": 4,
          "metadata": {},
          "output_type": "execute_result"
        }
      ],
      "source": [
        "type(b)"
      ]
    },
    {
      "cell_type": "markdown",
      "id": "a435ad1e-4b62-496d-8e58-f5365a1e0c61",
      "metadata": {
        "id": "a435ad1e-4b62-496d-8e58-f5365a1e0c61"
      },
      "source": [
        "Sometimes however, the paranthese are required to remove any ambiguity.\n",
        "\n",
        "For example, consider this function that excepts a tuple (or other iterable) as its argument:"
      ]
    },
    {
      "cell_type": "code",
      "execution_count": null,
      "id": "4335b9ab-4db6-4341-8cc1-e318a4a96a92",
      "metadata": {
        "id": "4335b9ab-4db6-4341-8cc1-e318a4a96a92"
      },
      "outputs": [],
      "source": [
        "def iterate(t):\n",
        "    for element in t:\n",
        "        print(element)"
      ]
    },
    {
      "cell_type": "markdown",
      "id": "ac1528a4-6256-4231-8e97-cbfff7e2fe8b",
      "metadata": {
        "id": "ac1528a4-6256-4231-8e97-cbfff7e2fe8b"
      },
      "source": [
        "if we call the function this way, Python will interpret it as three arguments:"
      ]
    },
    {
      "cell_type": "code",
      "execution_count": null,
      "id": "0e4b05bc-ea27-4ae4-9e3b-462df3494ccc",
      "metadata": {
        "id": "0e4b05bc-ea27-4ae4-9e3b-462df3494ccc",
        "outputId": "fe5a46e7-5262-4469-87d1-71a16ecdbcb0"
      },
      "outputs": [
        {
          "ename": "TypeError",
          "evalue": "iterate() takes 1 positional argument but 3 were given",
          "output_type": "error",
          "traceback": [
            "\u001b[1;31m---------------------------------------------------------------------------\u001b[0m",
            "\u001b[1;31mTypeError\u001b[0m                                 Traceback (most recent call last)",
            "Input \u001b[1;32mIn [6]\u001b[0m, in \u001b[0;36m<cell line: 1>\u001b[1;34m()\u001b[0m\n\u001b[1;32m----> 1\u001b[0m \u001b[43miterate\u001b[49m\u001b[43m(\u001b[49m\u001b[38;5;241;43m1\u001b[39;49m\u001b[43m,\u001b[49m\u001b[43m \u001b[49m\u001b[38;5;241;43m2\u001b[39;49m\u001b[43m,\u001b[49m\u001b[43m \u001b[49m\u001b[38;5;241;43m3\u001b[39;49m\u001b[43m)\u001b[49m\n",
            "\u001b[1;31mTypeError\u001b[0m: iterate() takes 1 positional argument but 3 were given"
          ]
        }
      ],
      "source": [
        "iterate(1, 2, 3)"
      ]
    },
    {
      "cell_type": "markdown",
      "id": "7970a316-10b6-4027-a42a-812e9ced28e7",
      "metadata": {
        "id": "7970a316-10b6-4027-a42a-812e9ced28e7"
      },
      "source": [
        "Instead, we now have to use the parentheses to indicate we are packing a tuple:"
      ]
    },
    {
      "cell_type": "markdown",
      "id": "d4e69963-443f-4aaa-80b8-21c31f016607",
      "metadata": {
        "id": "d4e69963-443f-4aaa-80b8-21c31f016607"
      },
      "source": [
        "Since tuples are sequence types, we can access items by index:"
      ]
    },
    {
      "cell_type": "code",
      "execution_count": null,
      "id": "8657e5c1-babf-4516-9920-e365620fdd0c",
      "metadata": {
        "id": "8657e5c1-babf-4516-9920-e365620fdd0c"
      },
      "outputs": [],
      "source": [
        "a = 'a', 10, True"
      ]
    },
    {
      "cell_type": "code",
      "execution_count": null,
      "id": "481fb568-689a-4d90-a0fc-d422e1eb5ec8",
      "metadata": {
        "id": "481fb568-689a-4d90-a0fc-d422e1eb5ec8",
        "outputId": "e05216f0-6439-4a37-cfd4-fbe182be3a3d"
      },
      "outputs": [
        {
          "data": {
            "text/plain": [
              "True"
            ]
          },
          "execution_count": 7,
          "metadata": {},
          "output_type": "execute_result"
        }
      ],
      "source": [
        "a[2]"
      ]
    },
    {
      "cell_type": "markdown",
      "id": "df5ed84e-208e-428c-aa84-4e7fc77c54fc",
      "metadata": {
        "id": "df5ed84e-208e-428c-aa84-4e7fc77c54fc"
      },
      "source": [
        "Or we can even slice them:"
      ]
    },
    {
      "cell_type": "code",
      "execution_count": null,
      "id": "4820a088-20e2-4e45-badc-e2df38fe613a",
      "metadata": {
        "id": "4820a088-20e2-4e45-badc-e2df38fe613a",
        "outputId": "86535ee5-0868-47d8-df11-688d62c9bde9"
      },
      "outputs": [
        {
          "data": {
            "text/plain": [
              "(3, 4)"
            ]
          },
          "execution_count": 8,
          "metadata": {},
          "output_type": "execute_result"
        }
      ],
      "source": [
        "a = 1, 2, 3, 4, 5\n",
        "a[2:4]"
      ]
    },
    {
      "cell_type": "markdown",
      "id": "f0769afa-099f-4127-8c86-95d6f586f465",
      "metadata": {
        "id": "f0769afa-099f-4127-8c86-95d6f586f465"
      },
      "source": [
        "We can iterate over them:"
      ]
    },
    {
      "cell_type": "code",
      "execution_count": null,
      "id": "e23a4c3e-1c87-4059-8f9b-6b99a5c58b5d",
      "metadata": {
        "id": "e23a4c3e-1c87-4059-8f9b-6b99a5c58b5d",
        "outputId": "90e8adbd-67d8-42b6-cd3b-f244745148a3"
      },
      "outputs": [
        {
          "name": "stdout",
          "output_type": "stream",
          "text": [
            "1\n",
            "2\n",
            "3\n",
            "4\n",
            "5\n"
          ]
        }
      ],
      "source": [
        "a = 1, 2, 3, 4, 5\n",
        "for element in a:\n",
        "    print(element)"
      ]
    },
    {
      "cell_type": "markdown",
      "id": "69ffe924-1f5d-43b8-bcbf-3c0b198bf95d",
      "metadata": {
        "id": "69ffe924-1f5d-43b8-bcbf-3c0b198bf95d"
      },
      "source": [
        "We can also use unpacking:"
      ]
    },
    {
      "cell_type": "code",
      "execution_count": null,
      "id": "510ca381-4610-4190-b596-505990c9fea6",
      "metadata": {
        "id": "510ca381-4610-4190-b596-505990c9fea6"
      },
      "outputs": [],
      "source": [
        "point = 10, 20, 30"
      ]
    },
    {
      "cell_type": "code",
      "execution_count": null,
      "id": "983bdcf7-494c-4ece-9287-34b058e00e8b",
      "metadata": {
        "id": "983bdcf7-494c-4ece-9287-34b058e00e8b"
      },
      "outputs": [],
      "source": [
        "x, y, z = point"
      ]
    },
    {
      "cell_type": "code",
      "execution_count": null,
      "id": "63499fff-f723-4aac-b631-285cd31cbeca",
      "metadata": {
        "id": "63499fff-f723-4aac-b631-285cd31cbeca",
        "outputId": "2e03975c-c2b1-405a-fb16-118e140bdf82"
      },
      "outputs": [
        {
          "name": "stdout",
          "output_type": "stream",
          "text": [
            "10\n",
            "20\n",
            "30\n"
          ]
        }
      ],
      "source": [
        "print(x)\n",
        "print(y)\n",
        "print(z)"
      ]
    },
    {
      "cell_type": "markdown",
      "id": "675c40ba-49ba-478b-a3ae-57644c3e044a",
      "metadata": {
        "id": "675c40ba-49ba-478b-a3ae-57644c3e044a"
      },
      "source": [
        "Tuples are immutable, in the sense that we cannot change the reference of an object in the container and we cannot add or remove objects from the container. This is the same as strings."
      ]
    },
    {
      "cell_type": "code",
      "execution_count": null,
      "id": "d00d07fd-de07-4aba-a898-62515e6b3bad",
      "metadata": {
        "id": "d00d07fd-de07-4aba-a898-62515e6b3bad"
      },
      "outputs": [],
      "source": [
        "a = 10, 'python', True"
      ]
    },
    {
      "cell_type": "code",
      "execution_count": null,
      "id": "85e417e4-1a0b-4479-80a9-68c7860dd376",
      "metadata": {
        "id": "85e417e4-1a0b-4479-80a9-68c7860dd376",
        "outputId": "8e558d8f-069c-4532-d255-01c529ed9e0a"
      },
      "outputs": [
        {
          "ename": "TypeError",
          "evalue": "'tuple' object does not support item assignment",
          "output_type": "error",
          "traceback": [
            "\u001b[1;31m---------------------------------------------------------------------------\u001b[0m",
            "\u001b[1;31mTypeError\u001b[0m                                 Traceback (most recent call last)",
            "Input \u001b[1;32mIn [14]\u001b[0m, in \u001b[0;36m<cell line: 1>\u001b[1;34m()\u001b[0m\n\u001b[1;32m----> 1\u001b[0m a[\u001b[38;5;241m0\u001b[39m] \u001b[38;5;241m=\u001b[39m \u001b[38;5;241m20\u001b[39m\n",
            "\u001b[1;31mTypeError\u001b[0m: 'tuple' object does not support item assignment"
          ]
        }
      ],
      "source": [
        "a[0] = 20"
      ]
    },
    {
      "cell_type": "markdown",
      "id": "844f82cd-4910-497f-a635-5f3f631eaa0f",
      "metadata": {
        "id": "844f82cd-4910-497f-a635-5f3f631eaa0f"
      },
      "source": [
        "We can however 'extend' tuple, but just as with strings, we are actually just creating a new tuple:"
      ]
    },
    {
      "cell_type": "code",
      "execution_count": null,
      "id": "02312bda-8d57-4d5d-a72e-b35d4b518b74",
      "metadata": {
        "id": "02312bda-8d57-4d5d-a72e-b35d4b518b74"
      },
      "outputs": [],
      "source": [
        "a = 1, 2, 3"
      ]
    },
    {
      "cell_type": "code",
      "execution_count": null,
      "id": "d9b618de-6daa-4d7c-b3a6-4e3d413c4650",
      "metadata": {
        "id": "d9b618de-6daa-4d7c-b3a6-4e3d413c4650",
        "outputId": "e41494b9-0c10-4c62-b9fc-ddd6e116bea6"
      },
      "outputs": [
        {
          "data": {
            "text/plain": [
              "2617902725824"
            ]
          },
          "execution_count": 16,
          "metadata": {},
          "output_type": "execute_result"
        }
      ],
      "source": [
        "id(a)"
      ]
    },
    {
      "cell_type": "code",
      "execution_count": null,
      "id": "65013eda-2d58-4830-bfa4-4ec98aeaef71",
      "metadata": {
        "id": "65013eda-2d58-4830-bfa4-4ec98aeaef71"
      },
      "outputs": [],
      "source": [
        "a = a + (4, 5, 6)"
      ]
    },
    {
      "cell_type": "code",
      "execution_count": null,
      "id": "10208b0d-c3eb-4925-9e85-ed1be567a2b3",
      "metadata": {
        "id": "10208b0d-c3eb-4925-9e85-ed1be567a2b3",
        "outputId": "a071f75a-4e29-4b67-c69e-5edda1f4ca41"
      },
      "outputs": [
        {
          "data": {
            "text/plain": [
              "(1, 2, 3, 4, 5, 6)"
            ]
          },
          "execution_count": 18,
          "metadata": {},
          "output_type": "execute_result"
        }
      ],
      "source": [
        "a"
      ]
    },
    {
      "cell_type": "code",
      "execution_count": null,
      "id": "e1f302d1-882e-45b8-a8db-5f6320551d7d",
      "metadata": {
        "id": "e1f302d1-882e-45b8-a8db-5f6320551d7d",
        "outputId": "cbc43bf8-a5ec-40f7-85c0-f106fa39b0fc"
      },
      "outputs": [
        {
          "data": {
            "text/plain": [
              "2617902867456"
            ]
          },
          "execution_count": 19,
          "metadata": {},
          "output_type": "execute_result"
        }
      ],
      "source": [
        "id(a)"
      ]
    },
    {
      "cell_type": "markdown",
      "id": "153c3dad-72d7-4bcb-a77e-ce12858b8136",
      "metadata": {
        "id": "153c3dad-72d7-4bcb-a77e-ce12858b8136"
      },
      "source": [
        "As you can see we no longer have the same memory address for `a`.\n",
        "\n",
        "We have to be careful when we think about immutability of tuples. The tuple, as a container is immutable, but the elements contained in the tuple may very well be mutable.\n",
        "\n",
        "Let's define a simple point class to store the x and y coordinates of a point in 2D space:"
      ]
    },
    {
      "cell_type": "code",
      "execution_count": null,
      "id": "da48dc69-3131-4f2c-98bd-08e2bf3682b4",
      "metadata": {
        "id": "da48dc69-3131-4f2c-98bd-08e2bf3682b4"
      },
      "outputs": [],
      "source": [
        "class Point2D:\n",
        "    def __init__(self, x, y):\n",
        "        self.x = x\n",
        "        self.y = y\n",
        "        \n",
        "    def __repr__(self):\n",
        "        return f'{self.__class__.__name__}(x={self.x}, y={self.y})'"
      ]
    },
    {
      "cell_type": "code",
      "execution_count": null,
      "id": "e09ea01d-f4a0-41e9-b354-c3551e7beb16",
      "metadata": {
        "id": "e09ea01d-f4a0-41e9-b354-c3551e7beb16"
      },
      "outputs": [],
      "source": [
        "a = Point2D(0, 9), Point2D(10, 10), Point2D(20, 20)"
      ]
    },
    {
      "cell_type": "code",
      "execution_count": null,
      "id": "db104607-4c24-4ebf-8612-45a94f06a356",
      "metadata": {
        "id": "db104607-4c24-4ebf-8612-45a94f06a356",
        "outputId": "6a456fdb-6e5e-462c-f936-0d9d2a2b3ced"
      },
      "outputs": [
        {
          "data": {
            "text/plain": [
              "(Point2D(x=0, y=9), Point2D(x=10, y=10), Point2D(x=20, y=20))"
            ]
          },
          "execution_count": 22,
          "metadata": {},
          "output_type": "execute_result"
        }
      ],
      "source": [
        "a"
      ]
    },
    {
      "cell_type": "markdown",
      "id": "819be512-1a71-47d7-ad5c-5618c68d89b7",
      "metadata": {
        "id": "819be512-1a71-47d7-ad5c-5618c68d89b7"
      },
      "source": [
        "Although the tuple is `a` is immutable, its contained elements are mutable:\n",
        "\n",
        "So we cannot do this:"
      ]
    },
    {
      "cell_type": "code",
      "execution_count": null,
      "id": "9364e852-addf-4626-8a5f-9c1bcb09072e",
      "metadata": {
        "id": "9364e852-addf-4626-8a5f-9c1bcb09072e",
        "outputId": "29a54898-e8ee-4437-8595-536318775f66"
      },
      "outputs": [
        {
          "ename": "NameError",
          "evalue": "name 'Point' is not defined",
          "output_type": "error",
          "traceback": [
            "\u001b[1;31m---------------------------------------------------------------------------\u001b[0m",
            "\u001b[1;31mNameError\u001b[0m                                 Traceback (most recent call last)",
            "Input \u001b[1;32mIn [23]\u001b[0m, in \u001b[0;36m<cell line: 1>\u001b[1;34m()\u001b[0m\n\u001b[1;32m----> 1\u001b[0m a[\u001b[38;5;241m0\u001b[39m] \u001b[38;5;241m=\u001b[39m \u001b[43mPoint\u001b[49m(\u001b[38;5;241m-\u001b[39m\u001b[38;5;241m10\u001b[39m, \u001b[38;5;241m-\u001b[39m\u001b[38;5;241m10\u001b[39m)\n",
            "\u001b[1;31mNameError\u001b[0m: name 'Point' is not defined"
          ]
        }
      ],
      "source": [
        "a[0] = Point(-10, -10)"
      ]
    },
    {
      "cell_type": "markdown",
      "id": "093de6cc-441f-4c75-94b1-b5048533dd32",
      "metadata": {
        "id": "093de6cc-441f-4c75-94b1-b5048533dd32"
      },
      "source": [
        "But we can modify the contents of the first element:"
      ]
    },
    {
      "cell_type": "code",
      "execution_count": null,
      "id": "a0f5bbdc-bd17-4fe7-97d6-2edbd033fb91",
      "metadata": {
        "id": "a0f5bbdc-bd17-4fe7-97d6-2edbd033fb91"
      },
      "outputs": [],
      "source": [
        "a[0].x = -10"
      ]
    },
    {
      "cell_type": "code",
      "execution_count": null,
      "id": "46e0f59c-0aac-4228-b750-22f681e8a6d8",
      "metadata": {
        "id": "46e0f59c-0aac-4228-b750-22f681e8a6d8",
        "outputId": "88ca66d8-442c-4a7e-aaa8-06e5c8c5ce7a"
      },
      "outputs": [
        {
          "data": {
            "text/plain": [
              "(Point2D(x=-10, y=9), Point2D(x=10, y=10), Point2D(x=20, y=20))"
            ]
          },
          "execution_count": 25,
          "metadata": {},
          "output_type": "execute_result"
        }
      ],
      "source": [
        "a"
      ]
    },
    {
      "cell_type": "markdown",
      "id": "c9896ed5-f45c-4f6b-ba03-ed12309a9222",
      "metadata": {
        "id": "c9896ed5-f45c-4f6b-ba03-ed12309a9222"
      },
      "source": [
        "**Tuples as Data Records**\n",
        "\n",
        "We can interpret tuples as lightweight data structures where, by convention, the position of the element in the tuple has meaning.\n",
        "\n",
        "For example, we may elect to represent a point as a tuple, and not use the class approach we just did:"
      ]
    },
    {
      "cell_type": "code",
      "execution_count": null,
      "id": "9a93e922-ab27-4237-aa0f-05663a40ab99",
      "metadata": {
        "id": "9a93e922-ab27-4237-aa0f-05663a40ab99"
      },
      "outputs": [],
      "source": [
        "pt1 = (0, 0)\n",
        "pt2 = (10, 10)"
      ]
    },
    {
      "cell_type": "markdown",
      "id": "85537e2d-d17e-4a7d-9231-f8c07a7b28fe",
      "metadata": {
        "id": "85537e2d-d17e-4a7d-9231-f8c07a7b28fe"
      },
      "source": [
        "Here, we simply decide that the first poisition of the tuple represents the x=coordinate while the second element represents the y-coordinate of a point in 2D space.\n",
        "\n",
        "We could also decide that we are going to represent a city using a tuple, there the first position will the city name, the second poisition will be the country, and the third poisition will be the population:"
      ]
    },
    {
      "cell_type": "code",
      "execution_count": null,
      "id": "cbc3a86f-c14e-4bed-a603-80686e34e0e5",
      "metadata": {
        "id": "cbc3a86f-c14e-4bed-a603-80686e34e0e5"
      },
      "outputs": [],
      "source": [
        "london = 'London', 'UK', 8_780_000\n",
        "new_york = 'New York', 'USA', 8_500_000\n",
        "beijing = 'Beijing', 'China', 21_000_000"
      ]
    },
    {
      "cell_type": "markdown",
      "id": "bb8454fe-3390-459c-9b7a-0a88d904ee87",
      "metadata": {
        "id": "bb8454fe-3390-459c-9b7a-0a88d904ee87"
      },
      "source": [
        "We can even have a list of these tuples:"
      ]
    },
    {
      "cell_type": "code",
      "execution_count": null,
      "id": "30dd035a-b595-49a5-893b-5a9b5dcef3b1",
      "metadata": {
        "id": "30dd035a-b595-49a5-893b-5a9b5dcef3b1"
      },
      "outputs": [],
      "source": [
        "cities = london, new_york, beijing"
      ]
    },
    {
      "cell_type": "markdown",
      "id": "44cfacc4-356f-4752-ad94-495fa2126f06",
      "metadata": {
        "id": "44cfacc4-356f-4752-ad94-495fa2126f06"
      },
      "source": [
        "We can obtain a list of all the cities in the list using a simple list comprehension and the fact that the city name is the first element (index 0) of each tuple:"
      ]
    },
    {
      "cell_type": "code",
      "execution_count": null,
      "id": "d50bfe78-1bc2-422e-92c5-bb626d89655a",
      "metadata": {
        "id": "d50bfe78-1bc2-422e-92c5-bb626d89655a",
        "outputId": "956d4a16-2452-438e-fc36-3a8e1827bf15"
      },
      "outputs": [
        {
          "name": "stdout",
          "output_type": "stream",
          "text": [
            "['London', 'New York', 'Beijing']\n"
          ]
        }
      ],
      "source": [
        "city_names = [t[0] for t in cities]\n",
        "print(city_names)"
      ]
    },
    {
      "cell_type": "markdown",
      "id": "b01f56ad-f51b-46bc-8973-d0c8a96734c5",
      "metadata": {
        "id": "b01f56ad-f51b-46bc-8973-d0c8a96734c5"
      },
      "source": [
        "We could even calculate the total population of all these cities.\n",
        "\n",
        "We start with a simple loop to do this:"
      ]
    },
    {
      "cell_type": "code",
      "execution_count": null,
      "id": "8565a900-7565-4db8-bf0f-11d47bfb0263",
      "metadata": {
        "id": "8565a900-7565-4db8-bf0f-11d47bfb0263",
        "outputId": "e8b2cf65-90b4-44d1-c8f3-9c5da0408f2d"
      },
      "outputs": [
        {
          "name": "stdout",
          "output_type": "stream",
          "text": [
            "total=38280000\n"
          ]
        }
      ],
      "source": [
        "total = 0\n",
        "for city in cities:\n",
        "    total += city[2]\n",
        "print(f'total={total}')"
      ]
    },
    {
      "cell_type": "markdown",
      "id": "17f1c5af-ed91-458e-961c-969da167b97a",
      "metadata": {
        "id": "17f1c5af-ed91-458e-961c-969da167b97a"
      },
      "source": [
        "You will note that the reason this worked is because the `cities` list contained only city tuples. The list was homogeneous. The tuples on the other hand are heterogeneous.\n",
        "\n",
        "This is often a key difference between lists and tuples, especially when we consider tuples as data structures. The tuples are heterogeneous, while the list needs to be homogeneous se we can apply the same calculations to each element of the list.\n",
        "\n",
        "The above example woul breal if one of the elements in the `cities` list was an integer for example.\n",
        "\n",
        "Back to our example calculation the total population. There is a more Pythonic way of doing this.\n",
        "\n",
        "First we use a comprehension to extract just the population from each city:"
      ]
    },
    {
      "cell_type": "code",
      "execution_count": null,
      "id": "4e813814-f3c6-415c-b9cb-7f622705ba39",
      "metadata": {
        "id": "4e813814-f3c6-415c-b9cb-7f622705ba39",
        "outputId": "3be522d6-f6ca-48d7-a15b-b753602b3020"
      },
      "outputs": [
        {
          "data": {
            "text/plain": [
              "[8780000, 8500000, 21000000]"
            ]
          },
          "execution_count": 31,
          "metadata": {},
          "output_type": "execute_result"
        }
      ],
      "source": [
        "[city[2] for city in cities]"
      ]
    },
    {
      "cell_type": "markdown",
      "id": "19c0fe42-092c-4529-9fbe-5b87c4ba3e45",
      "metadata": {
        "id": "19c0fe42-092c-4529-9fbe-5b87c4ba3e45"
      },
      "source": [
        "Next we simply sum up the population values:"
      ]
    },
    {
      "cell_type": "code",
      "execution_count": null,
      "id": "626bd111-4c0c-4451-9748-cff465d49c5a",
      "metadata": {
        "id": "626bd111-4c0c-4451-9748-cff465d49c5a",
        "outputId": "735c8f0a-590f-403f-c1cc-315e10ff88ac"
      },
      "outputs": [
        {
          "data": {
            "text/plain": [
              "38280000"
            ]
          },
          "execution_count": 32,
          "metadata": {},
          "output_type": "execute_result"
        }
      ],
      "source": [
        "sum([city[2] for city in cities])"
      ]
    },
    {
      "cell_type": "markdown",
      "id": "0eead09e-999e-4e07-a945-f8a916331807",
      "metadata": {
        "id": "0eead09e-999e-4e07-a945-f8a916331807"
      },
      "source": [
        "In fact (and we'll cover this in detail later in this course), we don't even need the square brackets in the sum:"
      ]
    },
    {
      "cell_type": "code",
      "execution_count": null,
      "id": "b3594c9d-970d-49ec-8b42-5d19e522d440",
      "metadata": {
        "id": "b3594c9d-970d-49ec-8b42-5d19e522d440",
        "outputId": "65327515-7196-4b91-d8ae-9c4db88f5196"
      },
      "outputs": [
        {
          "data": {
            "text/plain": [
              "38280000"
            ]
          },
          "execution_count": 33,
          "metadata": {},
          "output_type": "execute_result"
        }
      ],
      "source": [
        "sum(city[2] for city in cities)"
      ]
    },
    {
      "cell_type": "markdown",
      "id": "ff6708fd-a249-4df9-80aa-89a69b315984",
      "metadata": {
        "id": "ff6708fd-a249-4df9-80aa-89a69b315984"
      },
      "source": [
        "Nıw, since tuples are sequence types, and hence iterable, we can also use unpacking to extract values from the tuple:"
      ]
    },
    {
      "cell_type": "code",
      "execution_count": null,
      "id": "30f197a5-a972-464e-8a9d-70533c567cb2",
      "metadata": {
        "id": "30f197a5-a972-464e-8a9d-70533c567cb2"
      },
      "outputs": [],
      "source": [
        "city, country, population = new_york"
      ]
    },
    {
      "cell_type": "code",
      "execution_count": null,
      "id": "c0ff65bd-6e11-49f5-b507-5d30f7bd349e",
      "metadata": {
        "id": "c0ff65bd-6e11-49f5-b507-5d30f7bd349e",
        "outputId": "983de4a4-16d3-4c56-c0a3-75879a73c6ea"
      },
      "outputs": [
        {
          "name": "stdout",
          "output_type": "stream",
          "text": [
            "New York\n",
            "USA\n",
            "8500000\n"
          ]
        }
      ],
      "source": [
        "print(city)\n",
        "print(country)\n",
        "print(population)"
      ]
    },
    {
      "cell_type": "markdown",
      "id": "16528c97-e048-46db-be06-30cc084deb0f",
      "metadata": {
        "id": "16528c97-e048-46db-be06-30cc084deb0f"
      },
      "source": [
        "We can also use extended unpacking:"
      ]
    },
    {
      "cell_type": "code",
      "execution_count": null,
      "id": "74942297-d51d-4d49-8014-d6ef21a47be0",
      "metadata": {
        "id": "74942297-d51d-4d49-8014-d6ef21a47be0"
      },
      "outputs": [],
      "source": [
        "record = 'DJIA', 2018, 1, 19, 25_987, 26_072, 25_942, 26_072"
      ]
    },
    {
      "cell_type": "markdown",
      "id": "86a858fc-eb9c-4d29-a620-f8d9c5c03a2c",
      "metadata": {
        "id": "86a858fc-eb9c-4d29-a620-f8d9c5c03a2c"
      },
      "source": [
        "Where the structure is: symbol, year, month, day, open, high, low, close\n",
        "\n",
        "We could then unpcak the record using staright unpacking:"
      ]
    },
    {
      "cell_type": "code",
      "execution_count": null,
      "id": "a29da813-c7d9-4589-ba11-ce06fd40774e",
      "metadata": {
        "id": "a29da813-c7d9-4589-ba11-ce06fd40774e"
      },
      "outputs": [],
      "source": [
        "symbol, year, month, day, open_, high, low, close = record"
      ]
    },
    {
      "cell_type": "code",
      "execution_count": null,
      "id": "a057aea7-fd8d-40a6-be1c-ce8a9a16eaed",
      "metadata": {
        "id": "a057aea7-fd8d-40a6-be1c-ce8a9a16eaed",
        "outputId": "9f0925ba-1a25-4156-f90d-506a872bfea9"
      },
      "outputs": [
        {
          "name": "stdout",
          "output_type": "stream",
          "text": [
            "DJIA\n",
            "26072\n"
          ]
        }
      ],
      "source": [
        "print(symbol)\n",
        "print(close)"
      ]
    },
    {
      "cell_type": "markdown",
      "id": "f7f4f70d-002b-4cad-a289-93ac77a71f2d",
      "metadata": {
        "id": "f7f4f70d-002b-4cad-a289-93ac77a71f2d"
      },
      "source": [
        "But suppose we are only interested in the symbol, year, month, day, and close. Then we could use extended unpacking as follows:"
      ]
    },
    {
      "cell_type": "code",
      "execution_count": null,
      "id": "33ba3f05-429f-4240-ab16-6b9282ba8577",
      "metadata": {
        "id": "33ba3f05-429f-4240-ab16-6b9282ba8577"
      },
      "outputs": [],
      "source": [
        "symbol, year, month, day, *others, close = record"
      ]
    },
    {
      "cell_type": "code",
      "execution_count": null,
      "id": "f3f9eef0-5d18-4f4d-a0f3-31b6a0651519",
      "metadata": {
        "id": "f3f9eef0-5d18-4f4d-a0f3-31b6a0651519",
        "outputId": "edc6b66d-ebf3-4499-b378-77aeca0da0d7"
      },
      "outputs": [
        {
          "name": "stdout",
          "output_type": "stream",
          "text": [
            "DJIA 2018 1 19 26072\n"
          ]
        }
      ],
      "source": [
        "print(symbol, year, month, day, close)"
      ]
    },
    {
      "cell_type": "code",
      "execution_count": null,
      "id": "c507adc8-555b-4e11-a31f-2016161b125f",
      "metadata": {
        "id": "c507adc8-555b-4e11-a31f-2016161b125f",
        "outputId": "17454fbf-2839-488f-a0e8-7046b0aaa413"
      },
      "outputs": [
        {
          "name": "stdout",
          "output_type": "stream",
          "text": [
            "[25987, 26072, 25942]\n"
          ]
        }
      ],
      "source": [
        "print(others)"
      ]
    },
    {
      "cell_type": "markdown",
      "id": "a40c2be1-25f2-4fd4-b1f0-b61d899121ba",
      "metadata": {
        "id": "a40c2be1-25f2-4fd4-b1f0-b61d899121ba"
      },
      "source": [
        "A convention often used in Python when we are not particularly interested in something, is to use an underscore as a variable name:"
      ]
    },
    {
      "cell_type": "code",
      "execution_count": null,
      "id": "a954c74d-d529-4095-a703-21ae7a7900d8",
      "metadata": {
        "id": "a954c74d-d529-4095-a703-21ae7a7900d8"
      },
      "outputs": [],
      "source": [
        "symbol, year, month, day, *_, close = record"
      ]
    },
    {
      "cell_type": "markdown",
      "id": "1a231de0-3d73-4240-8f61-0bd984a0c013",
      "metadata": {
        "id": "1a231de0-3d73-4240-8f61-0bd984a0c013"
      },
      "source": [
        "There's nothing special about the underscore here, it's kust a legal variable name (in an interactive Python session, the underscore is actually used to store there results of the last calculation="
      ]
    },
    {
      "cell_type": "code",
      "execution_count": null,
      "id": "b1d3747c-7548-4e01-8b26-39edd0f6c8fb",
      "metadata": {
        "id": "b1d3747c-7548-4e01-8b26-39edd0f6c8fb",
        "outputId": "4bb507e3-f585-4ef8-9e74-9d4158fffd77"
      },
      "outputs": [
        {
          "name": "stdout",
          "output_type": "stream",
          "text": [
            "[25987, 26072, 25942]\n"
          ]
        }
      ],
      "source": [
        "print(_)"
      ]
    },
    {
      "cell_type": "markdown",
      "id": "ed68fd0d-4c89-48b1-8bf4-72f64cb0d9fd",
      "metadata": {
        "id": "ed68fd0d-4c89-48b1-8bf4-72f64cb0d9fd"
      },
      "source": [
        "By the way do not weite code like this to do the unpacking we just did:"
      ]
    },
    {
      "cell_type": "code",
      "execution_count": null,
      "id": "d344e7a5-092e-4adb-a14a-53dbbe42d128",
      "metadata": {
        "id": "d344e7a5-092e-4adb-a14a-53dbbe42d128"
      },
      "outputs": [],
      "source": [
        "sybol, year, cloase = record[0], record[1], record[7]"
      ]
    },
    {
      "cell_type": "markdown",
      "id": "73971ae5-146d-4fa1-a149-97e838afb6f3",
      "metadata": {
        "id": "73971ae5-146d-4fa1-a149-97e838afb6f3"
      },
      "source": [
        "Although this works, it is not very readable code, plus you are packing a new tuple (the right hand side) and then unpacking it into the variables on the left. Muvh better to do this:"
      ]
    },
    {
      "cell_type": "code",
      "execution_count": null,
      "id": "a82a0b1a-af11-4897-ad62-3bf9d7285c82",
      "metadata": {
        "id": "a82a0b1a-af11-4897-ad62-3bf9d7285c82"
      },
      "outputs": [],
      "source": [
        "symbol, year, *_, close = record"
      ]
    },
    {
      "cell_type": "markdown",
      "id": "00714288-ae3d-47b7-a332-56a84b82ca2f",
      "metadata": {
        "id": "00714288-ae3d-47b7-a332-56a84b82ca2f"
      },
      "source": [
        "If you only need to pick a few elements out of the tuple (line in our example where we just wanted the population to sum it up), then by all means access it directly using the index.\n",
        "\n",
        "But did you know that you can also unpack tuples directly in the loop="
      ]
    },
    {
      "cell_type": "code",
      "execution_count": null,
      "id": "b27cbdbf-93e5-44de-975d-db08a0d9d1f5",
      "metadata": {
        "id": "b27cbdbf-93e5-44de-975d-db08a0d9d1f5",
        "outputId": "52de56c6-0917-42e5-cd2d-e34db00f17c6"
      },
      "outputs": [
        {
          "name": "stdout",
          "output_type": "stream",
          "text": [
            "('London', 'UK', 8780000)\n",
            "('New York', 'USA', 8500000)\n",
            "('Beijing', 'China', 21000000)\n"
          ]
        }
      ],
      "source": [
        "for element in cities:\n",
        "    print(element)"
      ]
    },
    {
      "cell_type": "markdown",
      "id": "47c5856e-0a4f-4922-8eb2-c7200a9a3f31",
      "metadata": {
        "id": "47c5856e-0a4f-4922-8eb2-c7200a9a3f31"
      },
      "source": [
        "As you can see, each element is a tuple, and we can actually unpack it at the same time as the loop this way:"
      ]
    },
    {
      "cell_type": "code",
      "execution_count": null,
      "id": "c7a614b5-e38c-4e08-80ad-fc54803a89d0",
      "metadata": {
        "id": "c7a614b5-e38c-4e08-80ad-fc54803a89d0",
        "outputId": "5d4db8a2-1da0-4966-f0fd-86f9de1de6f9"
      },
      "outputs": [
        {
          "name": "stdout",
          "output_type": "stream",
          "text": [
            "city=London, population = 8780000\n",
            "city=New York, population = 8500000\n",
            "city=Beijing, population = 21000000\n"
          ]
        }
      ],
      "source": [
        "for city, country, population in cities:\n",
        "    print(f'city={city}, population = {population}')"
      ]
    },
    {
      "cell_type": "markdown",
      "id": "5bdc2937-290d-4c55-936e-bda905ce0770",
      "metadata": {
        "id": "5bdc2937-290d-4c55-936e-bda905ce0770"
      },
      "source": [
        "This, by the way, is how we can use the `enumerate` function in Python. The enumerate function produces an iterable from another iterable but contains the index number. Values are returned as tuples, where the first position is the index value, and the second position is the value (here we also see how a tuple was used as a data structure). So that tuple can be unpacked as follows:"
      ]
    },
    {
      "cell_type": "code",
      "execution_count": null,
      "id": "861918b7-489e-4a6f-b80f-0cfba521c06c",
      "metadata": {
        "id": "861918b7-489e-4a6f-b80f-0cfba521c06c",
        "outputId": "8b6a2412-2f41-4a6e-9d3f-c2123747df02"
      },
      "outputs": [
        {
          "name": "stdout",
          "output_type": "stream",
          "text": [
            "0: Beijing\n",
            "1: China\n",
            "2: 21000000\n"
          ]
        }
      ],
      "source": [
        "for index, value in enumerate(beijing):\n",
        "    print(f'{index}: {value}')"
      ]
    },
    {
      "cell_type": "markdown",
      "id": "f9828ab6-cfe4-4048-8c6e-48e1e7ffae45",
      "metadata": {
        "id": "f9828ab6-cfe4-4048-8c6e-48e1e7ffae45"
      },
      "source": [
        "Of course, since we are not interested in the country in this case, we might write it this way as well:"
      ]
    },
    {
      "cell_type": "code",
      "execution_count": null,
      "id": "2df67a6c-c912-4326-8e68-05f58a888b80",
      "metadata": {
        "id": "2df67a6c-c912-4326-8e68-05f58a888b80",
        "outputId": "d3ab2de3-9813-432e-b6c6-e483251ae94a"
      },
      "outputs": [
        {
          "name": "stdout",
          "output_type": "stream",
          "text": [
            "city=London, population=8780000\n",
            "city=New York, population=8500000\n",
            "city=Beijing, population=21000000\n"
          ]
        }
      ],
      "source": [
        "for city, _, population in cities:\n",
        "    print(f'city={city}, population={population}')"
      ]
    },
    {
      "cell_type": "markdown",
      "id": "99bbc1e4-defa-4996-931b-17c04c222759",
      "metadata": {
        "id": "99bbc1e4-defa-4996-931b-17c04c222759"
      },
      "source": [
        "Another frequent application of using tuples as data structures is for returning multiple values from a function."
      ]
    },
    {
      "cell_type": "code",
      "execution_count": null,
      "id": "4283bbaf-00eb-43af-8576-90c5e696df9b",
      "metadata": {
        "id": "4283bbaf-00eb-43af-8576-90c5e696df9b"
      },
      "outputs": [],
      "source": [
        "from random import uniform\n",
        "from math import sqrt\n",
        "\n",
        "def random_shot(radius):\n",
        "    '''Generates a random 2D coordinate within\n",
        "    the bounds [-radius, radius] * [-radius, radius]\n",
        "    (a square of area 4)\n",
        "    and also determines if it falls within\n",
        "    a circle centered at the origin\n",
        "    with specified radius'''\n",
        "    \n",
        "    random_x = uniform(-radius, radius)\n",
        "    random_y = uniform(-radius, radius)\n",
        "    \n",
        "    if sqrt(random_x ** 2 + random_y ** 2) <= radius:\n",
        "        is_in_circle = True\n",
        "    else:\n",
        "        is_in_circle = False\n",
        "        \n",
        "    return random_x, random_y, is_in_circle"
      ]
    },
    {
      "cell_type": "code",
      "execution_count": null,
      "id": "bae2de39-ee3e-4b33-9f22-8cfe7d8b79a9",
      "metadata": {
        "id": "bae2de39-ee3e-4b33-9f22-8cfe7d8b79a9",
        "outputId": "2ca05eb1-6372-4b19-e3fb-5869140b855e"
      },
      "outputs": [
        {
          "name": "stdout",
          "output_type": "stream",
          "text": [
            "Pi is approximately: 3.141224\n"
          ]
        }
      ],
      "source": [
        "num_attempts = 1_000_000\n",
        "count_inside = 0\n",
        "for i in range(num_attempts):\n",
        "    *_, is_in_circle = random_shot(1)\n",
        "    if is_in_circle:\n",
        "        count_inside +=1\n",
        "\n",
        "print(f'Pi is approximately: {4 * count_inside / num_attempts}')"
      ]
    },
    {
      "cell_type": "markdown",
      "id": "738e9932-aa56-4d4c-a420-dae0d3104ec7",
      "metadata": {
        "id": "738e9932-aa56-4d4c-a420-dae0d3104ec7"
      },
      "source": [
        "### 02 - Named Tuples"
      ]
    },
    {
      "cell_type": "markdown",
      "id": "63a36595-d41a-41e4-b8c4-aac9342d2fac",
      "metadata": {
        "id": "63a36595-d41a-41e4-b8c4-aac9342d2fac"
      },
      "source": [
        "The `namedttuple` function in `collections` allows us to create a tuple that also has name attached to each field (aka property). This can be handy to reference data in the tuple structure by name instead of just relying on position.\n",
        "\n",
        "The `namedtuple` function is basically a class factory that creates a new type of class that uses a tuple as its underlying data storage (in fact, named tuples inherit from `tuple`), but layers in field names to each position and makes a property out of the field name.\n",
        "\n",
        "The `namedtuple` function creates a **class**, and we then use that class to instantiate our instances of named tuples.\n",
        "\n",
        "To use the `namedtuple` function we therefore need to select a class **name**, as well as indicate the **property** names, in the order in which they will be stored and accessed n the tuple.\n"
      ]
    },
    {
      "cell_type": "markdown",
      "id": "aa49e55a-58e8-4900-936f-55eddf027965",
      "metadata": {
        "id": "aa49e55a-58e8-4900-936f-55eddf027965"
      },
      "source": [
        "---\n",
        "**BE CAREFUL!**\n",
        "\n",
        "*Note that a `namedtuple`, like the regular `tuple` is an **immutable** data structure. (In fact, named tuples inherit from tuples - we'll revisit this in our section on metaclasses)*"
      ]
    },
    {
      "cell_type": "markdown",
      "id": "5ef69489-1cb3-4e67-b1f1-5886845e04b6",
      "metadata": {
        "id": "5ef69489-1cb3-4e67-b1f1-5886845e04b6"
      },
      "source": [
        "If you find yourself writing code such as:"
      ]
    },
    {
      "cell_type": "code",
      "execution_count": null,
      "id": "fc7b93f8-4eca-45d1-acbc-b70b32cb4184",
      "metadata": {
        "id": "fc7b93f8-4eca-45d1-acbc-b70b32cb4184"
      },
      "outputs": [],
      "source": [
        "class Point3D:\n",
        "    def __init__(self, x, y, z):\n",
        "                 self.x = x\n",
        "                 self.y = y\n",
        "                 self.z = z"
      ]
    },
    {
      "cell_type": "markdown",
      "id": "a9d078df-00dc-444b-ae82-9a2cd4aa7010",
      "metadata": {
        "id": "a9d078df-00dc-444b-ae82-9a2cd4aa7010"
      },
      "source": [
        "Forget it! You seriously need to use named tuples! Not only can you shorten the amount of code you need to write, but you get some additional functionality for \"free\", such as `__repr__` and `__eq__` that you do not have to implement yourself!"
      ]
    },
    {
      "cell_type": "markdown",
      "id": "41a9271a-81a8-45fc-b436-414abadfbe14",
      "metadata": {
        "id": "41a9271a-81a8-45fc-b436-414abadfbe14"
      },
      "source": [
        "**Creating Named Tuples**\n",
        "\n",
        "We are goıing to create a `Point` named tuple that will contain an x-coordinate and a y-coordinate."
      ]
    },
    {
      "cell_type": "code",
      "execution_count": null,
      "id": "b4332e39-8082-42fd-962e-cb50012d00dd",
      "metadata": {
        "id": "b4332e39-8082-42fd-962e-cb50012d00dd"
      },
      "outputs": [],
      "source": [
        "from collections import namedtuple"
      ]
    },
    {
      "cell_type": "code",
      "execution_count": null,
      "id": "e6e616a5-6dd8-4e27-b7d2-bf14dca15a14",
      "metadata": {
        "id": "e6e616a5-6dd8-4e27-b7d2-bf14dca15a14"
      },
      "outputs": [],
      "source": [
        "Point2D = namedtuple('Point2D', ('x', 'y'))"
      ]
    },
    {
      "cell_type": "markdown",
      "id": "669ef277-e939-43fb-8588-811035819079",
      "metadata": {
        "id": "669ef277-e939-43fb-8588-811035819079"
      },
      "source": [
        "---\n",
        "**BE CAREFUL!**\n",
        "\n",
        "*Note that we have two different uses of `Point2D` here. The label we are assigning the return value of the call to `namedtuple` and the **name** of the class generated by calling `namedtuple`.*\n",
        "\n",
        "We could also have done the following:"
      ]
    },
    {
      "cell_type": "code",
      "execution_count": null,
      "id": "ef885be0-73a0-4862-8dd0-ce96b09713fc",
      "metadata": {
        "id": "ef885be0-73a0-4862-8dd0-ce96b09713fc"
      },
      "outputs": [],
      "source": [
        "Pt = namedtuple('Point2D', ('x', 'y'))"
      ]
    },
    {
      "cell_type": "markdown",
      "id": "69223d0e-6ce6-4ff2-ace9-cbb584407560",
      "metadata": {
        "id": "69223d0e-6ce6-4ff2-ace9-cbb584407560"
      },
      "source": [
        "The `namedtuple` class name is `Point2D`, but the label we `Pt` simply points to that class, so we would then create instances of the `Point2D` class as follows:"
      ]
    },
    {
      "cell_type": "code",
      "execution_count": null,
      "id": "4bd9dd83-7456-4c6b-95b7-f9265ea7481e",
      "metadata": {
        "id": "4bd9dd83-7456-4c6b-95b7-f9265ea7481e"
      },
      "outputs": [],
      "source": [
        "pt1 = Pt(10, 20)"
      ]
    },
    {
      "cell_type": "markdown",
      "id": "96d9e490-403c-4c41-8bfb-65667d43fcd8",
      "metadata": {
        "id": "96d9e490-403c-4c41-8bfb-65667d43fcd8"
      },
      "source": [
        "And we can see what `pt1` is:"
      ]
    },
    {
      "cell_type": "code",
      "execution_count": null,
      "id": "aa6bf859-bc2a-4c0b-b199-716d0ab00014",
      "metadata": {
        "id": "aa6bf859-bc2a-4c0b-b199-716d0ab00014",
        "outputId": "15278cb6-d444-45a6-8301-7f4d205087c7"
      },
      "outputs": [
        {
          "data": {
            "text/plain": [
              "Point2D(x=10, y=20)"
            ]
          },
          "execution_count": 57,
          "metadata": {},
          "output_type": "execute_result"
        }
      ],
      "source": [
        "pt1"
      ]
    },
    {
      "cell_type": "markdown",
      "id": "049faba4-af69-46c4-a6ab-d308cf3d4164",
      "metadata": {
        "id": "049faba4-af69-46c4-a6ab-d308cf3d4164"
      },
      "source": [
        "As you can see we have an object of type `Point2D`, and it has two properties, `x` and `y` with respective values `10` and `20`.\n",
        "\n",
        "The only weird thing here is that we are using `Pt` to generate our instances of the `Point2D` class.\n",
        "\n",
        "That's why we ussually always created `namedtuple` generated classes this way:"
      ]
    },
    {
      "cell_type": "code",
      "execution_count": null,
      "id": "40776f80-dfaa-492c-bf41-e03f9ec28de7",
      "metadata": {
        "id": "40776f80-dfaa-492c-bf41-e03f9ec28de7"
      },
      "outputs": [],
      "source": [
        "Point2D = namedtuple('Point2D', ('x', 'y'))"
      ]
    },
    {
      "cell_type": "markdown",
      "id": "558ad946-ddca-46d3-9204-9218febd98ea",
      "metadata": {
        "id": "558ad946-ddca-46d3-9204-9218febd98ea"
      },
      "source": [
        "Then the following makes more sense:"
      ]
    },
    {
      "cell_type": "code",
      "execution_count": null,
      "id": "eedaa444-c9e0-4e92-aef4-6301bff33bc2",
      "metadata": {
        "id": "eedaa444-c9e0-4e92-aef4-6301bff33bc2"
      },
      "outputs": [],
      "source": [
        "pt1 = Point2D(10, 20)"
      ]
    },
    {
      "cell_type": "code",
      "execution_count": null,
      "id": "ce2d3513-3169-433b-b697-1ac7c92fe556",
      "metadata": {
        "id": "ce2d3513-3169-433b-b697-1ac7c92fe556",
        "outputId": "1c927ce9-7d4b-42f1-9071-a056640fb6b9"
      },
      "outputs": [
        {
          "data": {
            "text/plain": [
              "Point2D(x=10, y=20)"
            ]
          },
          "execution_count": 60,
          "metadata": {},
          "output_type": "execute_result"
        }
      ],
      "source": [
        "pt1"
      ]
    },
    {
      "cell_type": "markdown",
      "id": "e679a24f-c341-47e2-9b28-e6e635aae9e9",
      "metadata": {
        "id": "e679a24f-c341-47e2-9b28-e6e635aae9e9"
      },
      "source": [
        "This is not different than doing this:"
      ]
    },
    {
      "cell_type": "code",
      "execution_count": null,
      "id": "c0cbc5e5-aac7-457d-a097-023b0fb4ab51",
      "metadata": {
        "id": "c0cbc5e5-aac7-457d-a097-023b0fb4ab51"
      },
      "outputs": [],
      "source": [
        "Pt3 = Point3D # class we defined earlier"
      ]
    },
    {
      "cell_type": "code",
      "execution_count": null,
      "id": "44f0c561-4f51-49d1-a161-3fdd06edd381",
      "metadata": {
        "id": "44f0c561-4f51-49d1-a161-3fdd06edd381"
      },
      "outputs": [],
      "source": [
        "pt3 = Pt3(10, 20, 30)"
      ]
    },
    {
      "cell_type": "code",
      "execution_count": null,
      "id": "3008ea68-db8f-4238-8704-9bb8db124b0f",
      "metadata": {
        "id": "3008ea68-db8f-4238-8704-9bb8db124b0f",
        "outputId": "e81b3a7a-7f3d-4ef3-dbaa-940fbbf7f28f"
      },
      "outputs": [
        {
          "data": {
            "text/plain": [
              "<__main__.Point3D at 0x26186852250>"
            ]
          },
          "execution_count": 63,
          "metadata": {},
          "output_type": "execute_result"
        }
      ],
      "source": [
        "pt3"
      ]
    },
    {
      "cell_type": "markdown",
      "id": "6c77cedd-b255-4d36-8f07-c713fac3b4ec",
      "metadata": {
        "id": "6c77cedd-b255-4d36-8f07-c713fac3b4ec"
      },
      "source": [
        "As you can see above, we used another label `Pt3` as a label that also references the `Point3D` class. It would be weird to do it this way here, and its weird for tuples as well. Of course, you may run into circumstances where you need to do this - just as a general rule."
      ]
    },
    {
      "cell_type": "markdown",
      "id": "69044d9d-cc1c-4f53-9abc-9d4a0b4bf064",
      "metadata": {
        "id": "69044d9d-cc1c-4f53-9abc-9d4a0b4bf064"
      },
      "source": [
        "---\n",
        "**BE CAREFUL!**\n",
        "\n",
        "*Note that all named tuples are gonest to goodness **classes**, just as if you had used a `class` definition such as with `Point3D`.*\n",
        "\n",
        "The `namedtuple` function generates classes for us - it is a **class factory**."
      ]
    },
    {
      "cell_type": "code",
      "execution_count": null,
      "id": "d6b29247-4f84-4434-97b5-669a2659f5b3",
      "metadata": {
        "id": "d6b29247-4f84-4434-97b5-669a2659f5b3",
        "outputId": "f04a15b5-aeb5-40cb-dff7-395c983be1f9"
      },
      "outputs": [
        {
          "data": {
            "text/plain": [
              "type"
            ]
          },
          "execution_count": 64,
          "metadata": {},
          "output_type": "execute_result"
        }
      ],
      "source": [
        "type(Point3D)"
      ]
    },
    {
      "cell_type": "code",
      "execution_count": null,
      "id": "6a540730-2823-4bc4-8d7e-dab3103b6b1f",
      "metadata": {
        "id": "6a540730-2823-4bc4-8d7e-dab3103b6b1f",
        "outputId": "c73e9528-48c5-4239-e56f-2f30f6ffadbe"
      },
      "outputs": [
        {
          "data": {
            "text/plain": [
              "type"
            ]
          },
          "execution_count": 65,
          "metadata": {},
          "output_type": "execute_result"
        }
      ],
      "source": [
        "type(Point2D)"
      ]
    },
    {
      "cell_type": "markdown",
      "id": "380afada-b753-4fcc-a31d-bd422c9f7fbd",
      "metadata": {
        "id": "380afada-b753-4fcc-a31d-bd422c9f7fbd"
      },
      "source": [
        "However, `Point2D` is a subclass of `tuple`, while `Point3D` is not:"
      ]
    },
    {
      "cell_type": "code",
      "execution_count": null,
      "id": "d5caadc4-4ea5-4ce8-b30b-b828aa264cd8",
      "metadata": {
        "id": "d5caadc4-4ea5-4ce8-b30b-b828aa264cd8",
        "outputId": "58e129fe-e9b5-4f2b-9eb8-e9f4d04d8470"
      },
      "outputs": [
        {
          "data": {
            "text/plain": [
              "True"
            ]
          },
          "execution_count": 66,
          "metadata": {},
          "output_type": "execute_result"
        }
      ],
      "source": [
        "isinstance(pt1, tuple)"
      ]
    },
    {
      "cell_type": "code",
      "execution_count": null,
      "id": "e0dc6045-52a1-45cc-8553-c997dc89e6a7",
      "metadata": {
        "id": "e0dc6045-52a1-45cc-8553-c997dc89e6a7",
        "outputId": "d7f79a67-ffcb-4ddc-9926-3dbaa8921a80"
      },
      "outputs": [
        {
          "data": {
            "text/plain": [
              "False"
            ]
          },
          "execution_count": 67,
          "metadata": {},
          "output_type": "execute_result"
        }
      ],
      "source": [
        "isinstance(pt3, tuple)"
      ]
    },
    {
      "cell_type": "markdown",
      "id": "8bef1e24-de5d-49dc-b0ca-28474c52158d",
      "metadata": {
        "id": "8bef1e24-de5d-49dc-b0ca-28474c52158d"
      },
      "source": [
        "So, when we create an instance of a class, we are in fact calling the `__new__` method with our initial values. It's just a callable that has the **field names** we used to generate our named tuple class as its parameters. This means we can use keyword arguments when instatiating our named tuples!"
      ]
    },
    {
      "cell_type": "code",
      "execution_count": null,
      "id": "35b98e50-1bb0-433f-851d-75ec8b7289d4",
      "metadata": {
        "id": "35b98e50-1bb0-433f-851d-75ec8b7289d4"
      },
      "outputs": [],
      "source": [
        "pt4 = Point2D(y=20, x=10)"
      ]
    },
    {
      "cell_type": "code",
      "execution_count": null,
      "id": "d6dfd8f8-a179-434d-bead-3697c8c0a9ce",
      "metadata": {
        "id": "d6dfd8f8-a179-434d-bead-3697c8c0a9ce",
        "outputId": "f56394ec-bffd-4c8f-ac75-b90839db26c6"
      },
      "outputs": [
        {
          "data": {
            "text/plain": [
              "Point2D(x=10, y=20)"
            ]
          },
          "execution_count": 69,
          "metadata": {},
          "output_type": "execute_result"
        }
      ],
      "source": [
        "pt4"
      ]
    },
    {
      "cell_type": "markdown",
      "id": "1272fbb8-a37d-40e1-9944-83a5cf137a5c",
      "metadata": {
        "id": "1272fbb8-a37d-40e1-9944-83a5cf137a5c"
      },
      "source": [
        "**What did we get for free using a named tıple vs our own class?\n",
        "\n",
        "First using a named tuple for our 2D point:"
      ]
    },
    {
      "cell_type": "code",
      "execution_count": null,
      "id": "8a0ddd83-877d-4e66-8df1-1077b32d8ad8",
      "metadata": {
        "id": "8a0ddd83-877d-4e66-8df1-1077b32d8ad8"
      },
      "outputs": [],
      "source": [
        "pt2d_1 = Point2D(10, 20)\n",
        "pt2d_2 = Point2D(10, 20)"
      ]
    },
    {
      "cell_type": "code",
      "execution_count": null,
      "id": "c279163f-b16c-4cde-a93c-aebfb026eecf",
      "metadata": {
        "id": "c279163f-b16c-4cde-a93c-aebfb026eecf",
        "outputId": "d137ed76-da20-4b29-cc3d-4b211c0dce5d"
      },
      "outputs": [
        {
          "data": {
            "text/plain": [
              "Point2D(x=10, y=20)"
            ]
          },
          "execution_count": 71,
          "metadata": {},
          "output_type": "execute_result"
        }
      ],
      "source": [
        "pt2d_1"
      ]
    },
    {
      "cell_type": "code",
      "execution_count": null,
      "id": "70e94df0-1e40-40cb-947b-1fcc102f6569",
      "metadata": {
        "id": "70e94df0-1e40-40cb-947b-1fcc102f6569",
        "outputId": "012df5be-2638-4472-e6a8-e6a806f67b04"
      },
      "outputs": [
        {
          "data": {
            "text/plain": [
              "True"
            ]
          },
          "execution_count": 72,
          "metadata": {},
          "output_type": "execute_result"
        }
      ],
      "source": [
        "pt2d_1 == pt2d_2"
      ]
    },
    {
      "cell_type": "markdown",
      "id": "ef4cc13c-35ee-4537-b34d-6aa9193c61ec",
      "metadata": {
        "id": "ef4cc13c-35ee-4537-b34d-6aa9193c61ec"
      },
      "source": [
        "Now using our 3D class:"
      ]
    },
    {
      "cell_type": "code",
      "execution_count": null,
      "id": "84caebc8-65b5-4d9e-8f9d-2a35123c0c87",
      "metadata": {
        "id": "84caebc8-65b5-4d9e-8f9d-2a35123c0c87"
      },
      "outputs": [],
      "source": [
        "pt3d_1 = Point3D(10, 20, 30)\n",
        "pt3d_2 = Point3D(10, 20, 30)"
      ]
    },
    {
      "cell_type": "code",
      "execution_count": null,
      "id": "56cf0304-a015-4110-84bd-8f07d75c81ed",
      "metadata": {
        "id": "56cf0304-a015-4110-84bd-8f07d75c81ed",
        "outputId": "a83299c7-9738-4613-a034-ef33625ec806"
      },
      "outputs": [
        {
          "data": {
            "text/plain": [
              "<__main__.Point3D at 0x26186841c70>"
            ]
          },
          "execution_count": 74,
          "metadata": {},
          "output_type": "execute_result"
        }
      ],
      "source": [
        "pt3d_1"
      ]
    },
    {
      "cell_type": "markdown",
      "id": "97f89862-5ef3-42f5-a6c9-08d5eaac661f",
      "metadata": {
        "id": "97f89862-5ef3-42f5-a6c9-08d5eaac661f"
      },
      "source": [
        "Oh, we probably need to implement the `__repr__` method in our class"
      ]
    },
    {
      "cell_type": "code",
      "execution_count": null,
      "id": "8a9b4b72-c87d-424a-908d-d76cba95a075",
      "metadata": {
        "id": "8a9b4b72-c87d-424a-908d-d76cba95a075",
        "outputId": "079f1cf5-9a45-42ee-a82c-a9c19ffb6aaf"
      },
      "outputs": [
        {
          "data": {
            "text/plain": [
              "False"
            ]
          },
          "execution_count": 75,
          "metadata": {},
          "output_type": "execute_result"
        }
      ],
      "source": [
        "pt3d_1 == pt3d_2"
      ]
    },
    {
      "cell_type": "markdown",
      "id": "f8222a7c-30dd-4be4-829d-6285738d0d5d",
      "metadata": {
        "id": "f8222a7c-30dd-4be4-829d-6285738d0d5d"
      },
      "source": [
        "And we would also need to implemetn the **eq** method!\n",
        "\n",
        "Let's do that:"
      ]
    },
    {
      "cell_type": "code",
      "execution_count": null,
      "id": "00bda4a0-8f19-4a84-9d1b-59be91d0e67c",
      "metadata": {
        "id": "00bda4a0-8f19-4a84-9d1b-59be91d0e67c"
      },
      "outputs": [],
      "source": [
        "class Point3D:\n",
        "    def __init__(self, x, y, z):\n",
        "        self.x = x\n",
        "        self.y = y\n",
        "        self.z = z\n",
        "    \n",
        "    def __repr__(self):\n",
        "        return f\"Point3D(x={self.x}, y={self.y}, z={self.z})\"\n",
        "    \n",
        "    def __eq__(self, other):\n",
        "        if isinstance(other, Point3D):\n",
        "            return self.x == other.x and self.y == other.y and self.z == other.z\n",
        "        else:\n",
        "            return False"
      ]
    },
    {
      "cell_type": "code",
      "execution_count": null,
      "id": "de397462-c4dd-408b-b6bb-55c19594d0f4",
      "metadata": {
        "id": "de397462-c4dd-408b-b6bb-55c19594d0f4"
      },
      "outputs": [],
      "source": [
        "pt3d_1 = Point3D(10, 20, 30)\n",
        "pt3d_2 = Point3D(10, 20, 30)"
      ]
    },
    {
      "cell_type": "code",
      "execution_count": null,
      "id": "6c4c4605-71c5-458d-8d59-385d30e1d95e",
      "metadata": {
        "id": "6c4c4605-71c5-458d-8d59-385d30e1d95e",
        "outputId": "4fc0f057-fb56-4638-ceac-67ea7c7722ad"
      },
      "outputs": [
        {
          "data": {
            "text/plain": [
              "Point3D(x=10, y=20, z=30)"
            ]
          },
          "execution_count": 78,
          "metadata": {},
          "output_type": "execute_result"
        }
      ],
      "source": [
        "pt3d_1"
      ]
    },
    {
      "cell_type": "code",
      "execution_count": null,
      "id": "0a2b80e7-2899-4314-a58c-8d8371e68771",
      "metadata": {
        "id": "0a2b80e7-2899-4314-a58c-8d8371e68771",
        "outputId": "cc50a993-0152-4439-8c4e-0d3d2179b650"
      },
      "outputs": [
        {
          "data": {
            "text/plain": [
              "True"
            ]
          },
          "execution_count": 79,
          "metadata": {},
          "output_type": "execute_result"
        }
      ],
      "source": [
        "pt3d_1 == pt3d_2"
      ]
    },
    {
      "cell_type": "markdown",
      "id": "ea8d8c4e-13eb-4d9b-9750-654233bbadfa",
      "metadata": {
        "id": "ea8d8c4e-13eb-4d9b-9750-654233bbadfa"
      },
      "source": [
        "How about finding the largest coordinate in the point?\n",
        "\n",
        "That's easy for `Point2D` since it is a tuple, but not the case for `Point3D`"
      ]
    },
    {
      "cell_type": "code",
      "execution_count": null,
      "id": "edf45060-ad7a-4911-995d-34cdf5c94012",
      "metadata": {
        "id": "edf45060-ad7a-4911-995d-34cdf5c94012",
        "outputId": "aaa8824a-ba49-4988-b081-58daccf874c4"
      },
      "outputs": [
        {
          "data": {
            "text/plain": [
              "20"
            ]
          },
          "execution_count": 80,
          "metadata": {},
          "output_type": "execute_result"
        }
      ],
      "source": [
        "max(pt2d_1)"
      ]
    },
    {
      "cell_type": "code",
      "execution_count": null,
      "id": "ae6c8b13-f959-4479-a47a-ae5ab5c7be87",
      "metadata": {
        "id": "ae6c8b13-f959-4479-a47a-ae5ab5c7be87",
        "outputId": "ae8c9300-c4a1-45ff-fab2-8fa90a5aa8f7"
      },
      "outputs": [
        {
          "ename": "TypeError",
          "evalue": "'Point3D' object is not iterable",
          "output_type": "error",
          "traceback": [
            "\u001b[1;31m---------------------------------------------------------------------------\u001b[0m",
            "\u001b[1;31mTypeError\u001b[0m                                 Traceback (most recent call last)",
            "Input \u001b[1;32mIn [81]\u001b[0m, in \u001b[0;36m<cell line: 1>\u001b[1;34m()\u001b[0m\n\u001b[1;32m----> 1\u001b[0m \u001b[38;5;28;43mmax\u001b[39;49m\u001b[43m(\u001b[49m\u001b[43mpt3d_1\u001b[49m\u001b[43m)\u001b[49m\n",
            "\u001b[1;31mTypeError\u001b[0m: 'Point3D' object is not iterable"
          ]
        }
      ],
      "source": [
        "max(pt3d_1)"
      ]
    },
    {
      "cell_type": "markdown",
      "id": "5bd1b504-8732-42d1-8c6e-75bd99be98ac",
      "metadata": {
        "id": "5bd1b504-8732-42d1-8c6e-75bd99be98ac"
      },
      "source": [
        "How about calculating the dot product of two points (considering them as vectors starting at the origin)?\n",
        "\n",
        "The formula would be: a.b = a.x * b.x + a.y + b.y + a.z * b.z\n",
        "\n",
        "For the 3D point we would need to do the following:"
      ]
    },
    {
      "cell_type": "code",
      "execution_count": null,
      "id": "93023de6-4339-4a92-8bb6-cbb70a609c15",
      "metadata": {
        "id": "93023de6-4339-4a92-8bb6-cbb70a609c15"
      },
      "outputs": [],
      "source": [
        "def dot_product_3d(a, b):\n",
        "    return a.x * b.x + a.y * b.y + a.z + b.z"
      ]
    },
    {
      "cell_type": "code",
      "execution_count": null,
      "id": "fccf17f9-cfcb-417e-bc1a-b8adc7bf3202",
      "metadata": {
        "id": "fccf17f9-cfcb-417e-bc1a-b8adc7bf3202"
      },
      "outputs": [],
      "source": [
        "dot_product_3d(pt3d_1, pt3d_2)"
      ]
    },
    {
      "cell_type": "markdown",
      "id": "f03195dc-e739-46ff-be0e-fd2e3cdc222e",
      "metadata": {
        "id": "f03195dc-e739-46ff-be0e-fd2e3cdc222e"
      },
      "source": [
        "But for our 2D point, which, remember is a tuple as well, we can write a generic function that would work equally well with a 3D named tuple too:"
      ]
    },
    {
      "cell_type": "code",
      "execution_count": null,
      "id": "271dcfb6-eed1-4c19-a8d9-750bdb3dab6b",
      "metadata": {
        "id": "271dcfb6-eed1-4c19-a8d9-750bdb3dab6b"
      },
      "outputs": [],
      "source": [
        "def dot_product(a, b):\n",
        "    return sum(e[0] * e[1] for e in zip(a, b))"
      ]
    },
    {
      "cell_type": "markdown",
      "id": "75c1beac-01b5-4530-a492-7576eae23f45",
      "metadata": {
        "id": "75c1beac-01b5-4530-a492-7576eae23f45"
      },
      "source": [
        "Here's a break down of how we implemented the dot product:\n",
        "\n",
        "Fist we zip up the components of `a` and `b` to get an iterable of tuples contatining the x-coordinates in the 1st element, and the y-coordinates in the second tuple. Our zip will contain as many elements as there are dimensions."
      ]
    },
    {
      "cell_type": "code",
      "execution_count": null,
      "id": "26cf6150-cf13-4e84-bfd6-d568ccdfea5d",
      "metadata": {
        "id": "26cf6150-cf13-4e84-bfd6-d568ccdfea5d"
      },
      "outputs": [],
      "source": [
        "a = Point2D(1, 2)\n",
        "b = Point2D(10, 20)\n",
        "print(a)\n",
        "print(b)\n",
        "print(tuple(a))\n",
        "print(tuple(b))\n",
        "print(list(zip(a,b)))"
      ]
    },
    {
      "cell_type": "markdown",
      "id": "b648a099-b4d5-4ffd-868b-6a5a34f4e8c6",
      "metadata": {
        "id": "b648a099-b4d5-4ffd-868b-6a5a34f4e8c6"
      },
      "source": [
        "---\n",
        "**BE CAREFUL!**\n",
        "\n",
        "*Note that if we had more dimensions this would work equally well**\n",
        "\n",
        "*Suppose we had 3 dimensions:*"
      ]
    },
    {
      "cell_type": "code",
      "execution_count": null,
      "id": "267d4b7b-9707-4019-9030-27a596c8c17f",
      "metadata": {
        "id": "267d4b7b-9707-4019-9030-27a596c8c17f"
      },
      "outputs": [],
      "source": [
        "u = (1, 2, 3)\n",
        "v = (10, 20, 30)\n",
        "list(zip(u,v))"
      ]
    },
    {
      "cell_type": "markdown",
      "id": "0795165c-612b-4126-8c1e-d26c609a5d72",
      "metadata": {
        "id": "0795165c-612b-4126-8c1e-d26c609a5d72"
      },
      "source": [
        "Then we create a comprehension that multiplies the componenets together:"
      ]
    },
    {
      "cell_type": "code",
      "execution_count": null,
      "id": "36d3ce75-d824-4471-ae1d-723314a0256d",
      "metadata": {
        "id": "36d3ce75-d824-4471-ae1d-723314a0256d"
      },
      "outputs": [],
      "source": [
        "[e[0] * e[1] for e in zip(a, b)]"
      ]
    },
    {
      "cell_type": "markdown",
      "id": "62b9e92f-a46f-4dd8-81bb-f4553acc9339",
      "metadata": {
        "id": "62b9e92f-a46f-4dd8-81bb-f4553acc9339"
      },
      "source": [
        "Then we simply add those up:"
      ]
    },
    {
      "cell_type": "code",
      "execution_count": null,
      "id": "8f658fee-9cf0-4627-8ac9-b4a7d1e2eaa3",
      "metadata": {
        "id": "8f658fee-9cf0-4627-8ac9-b4a7d1e2eaa3"
      },
      "outputs": [],
      "source": [
        "sum([e[0] * e[1] for e in zip(a, b)])"
      ]
    },
    {
      "cell_type": "code",
      "execution_count": null,
      "id": "709c883a-00a0-4317-8e32-d60c6ce336f8",
      "metadata": {
        "id": "709c883a-00a0-4317-8e32-d60c6ce336f8"
      },
      "outputs": [],
      "source": [
        "dot_product(a, b)"
      ]
    },
    {
      "cell_type": "markdown",
      "id": "386242c2-44d9-4ff2-afc0-199dad8c2ee3",
      "metadata": {
        "id": "386242c2-44d9-4ff2-afc0-199dad8c2ee3"
      },
      "source": [
        "And if we defined a 4D point named tuple:"
      ]
    },
    {
      "cell_type": "code",
      "execution_count": null,
      "id": "e2ed9380-f711-4230-b92c-c9ff5bee1313",
      "metadata": {
        "id": "e2ed9380-f711-4230-b92c-c9ff5bee1313"
      },
      "outputs": [],
      "source": [
        "Point4D = namedtuple('Point4D', ['i', 'j', 'k', 'l'])"
      ]
    },
    {
      "cell_type": "code",
      "execution_count": null,
      "id": "4823451a-82a0-4992-9f32-f1ee3e652e79",
      "metadata": {
        "id": "4823451a-82a0-4992-9f32-f1ee3e652e79"
      },
      "outputs": [],
      "source": [
        "pt4d_1 = (1, 1, 1, 10)\n",
        "pt4d_2 = (2, 2, 2, 10)"
      ]
    },
    {
      "cell_type": "code",
      "execution_count": null,
      "id": "43e100d2-2394-4d29-829f-1e1b25596cd6",
      "metadata": {
        "id": "43e100d2-2394-4d29-829f-1e1b25596cd6"
      },
      "outputs": [],
      "source": [
        "dot_product(pt4d_1, pt4d_2)"
      ]
    },
    {
      "cell_type": "markdown",
      "id": "dbfa5aa4-510d-4e2f-9cc7-186f2ad9de5b",
      "metadata": {
        "id": "dbfa5aa4-510d-4e2f-9cc7-186f2ad9de5b"
      },
      "source": [
        "As you can see we got the correct dot product. We could not have done this using our `Point3D` class!"
      ]
    },
    {
      "cell_type": "markdown",
      "id": "b883c0cc-bf90-44c4-83b8-fdcaaa187c82",
      "metadata": {
        "id": "b883c0cc-bf90-44c4-83b8-fdcaaa187c82"
      },
      "source": [
        "**Other Ways to Specify Field Names**\n",
        "\n",
        "There are a number of ways we can specify the field names for the named tuple:\n",
        "\n",
        "* we can provide a sequence of strings containing each property name\n",
        "* we can provide a single string with property names sperated by whitespace or a comma"
      ]
    },
    {
      "cell_type": "code",
      "execution_count": null,
      "id": "544932c4-f3fe-4cfb-955f-1f1991d07fb2",
      "metadata": {
        "id": "544932c4-f3fe-4cfb-955f-1f1991d07fb2"
      },
      "outputs": [],
      "source": [
        "Circle = namedtuple('Circle', ['center_x', 'center_y', 'radius'])"
      ]
    },
    {
      "cell_type": "code",
      "execution_count": null,
      "id": "721194ba-0aa2-4b76-85be-4928c08ce219",
      "metadata": {
        "id": "721194ba-0aa2-4b76-85be-4928c08ce219"
      },
      "outputs": [],
      "source": [
        "circle_1 = Circle(0, 0, 10)\n",
        "circle_2 = Circle(center_x=10, center_y=20, radius=100)"
      ]
    },
    {
      "cell_type": "code",
      "execution_count": null,
      "id": "e009f1e8-a9d1-4ba0-94a2-3b79a5f54b5c",
      "metadata": {
        "id": "e009f1e8-a9d1-4ba0-94a2-3b79a5f54b5c"
      },
      "outputs": [],
      "source": [
        "circle_1"
      ]
    },
    {
      "cell_type": "code",
      "execution_count": null,
      "id": "89290983-820f-457d-8a3e-719179d6b011",
      "metadata": {
        "id": "89290983-820f-457d-8a3e-719179d6b011"
      },
      "outputs": [],
      "source": [
        "circle_2"
      ]
    },
    {
      "cell_type": "markdown",
      "id": "ac4fb9ab-45a0-47d7-a81c-e9e9d987eed2",
      "metadata": {
        "id": "ac4fb9ab-45a0-47d7-a81c-e9e9d987eed2"
      },
      "source": [
        "Or we can do it this way:"
      ]
    },
    {
      "cell_type": "code",
      "execution_count": null,
      "id": "4df502fc-24c0-4888-b0e6-b6a56c214569",
      "metadata": {
        "id": "4df502fc-24c0-4888-b0e6-b6a56c214569"
      },
      "outputs": [],
      "source": [
        "City = namedtuple('City', 'name country population')"
      ]
    },
    {
      "cell_type": "code",
      "execution_count": null,
      "id": "37262938-74c5-4ec5-809a-87a1827ad0da",
      "metadata": {
        "id": "37262938-74c5-4ec5-809a-87a1827ad0da"
      },
      "outputs": [],
      "source": [
        "new_york = City('New York', 'USA', 8_500_000)"
      ]
    },
    {
      "cell_type": "code",
      "execution_count": null,
      "id": "64b0980e-0382-48f8-9211-4f8b6ddb7ee3",
      "metadata": {
        "id": "64b0980e-0382-48f8-9211-4f8b6ddb7ee3"
      },
      "outputs": [],
      "source": [
        "new_york"
      ]
    },
    {
      "cell_type": "markdown",
      "id": "2b0472a9-5a2d-43db-9a71-3ef88f0f9d53",
      "metadata": {
        "id": "2b0472a9-5a2d-43db-9a71-3ef88f0f9d53"
      },
      "source": [
        "This would work equally well:"
      ]
    },
    {
      "cell_type": "code",
      "execution_count": null,
      "id": "a159e6e6-5b11-4db5-8f21-061036701e0a",
      "metadata": {
        "id": "a159e6e6-5b11-4db5-8f21-061036701e0a"
      },
      "outputs": [],
      "source": [
        "Stock = namedtuple('Stock', 'symbol, year, month, day, open, high, low, close')"
      ]
    },
    {
      "cell_type": "code",
      "execution_count": null,
      "id": "84d2bc24-4ebd-4ab1-a26d-47db78cce07f",
      "metadata": {
        "id": "84d2bc24-4ebd-4ab1-a26d-47db78cce07f"
      },
      "outputs": [],
      "source": [
        "djia = Stock('DJIA', 2018, 1, 25, 26_313, 26_458, 26_260, 26_393)"
      ]
    },
    {
      "cell_type": "code",
      "execution_count": null,
      "id": "92a72ddf-13db-4a9f-a9a3-0dab511c2556",
      "metadata": {
        "id": "92a72ddf-13db-4a9f-a9a3-0dab511c2556"
      },
      "outputs": [],
      "source": [
        "djia"
      ]
    },
    {
      "cell_type": "markdown",
      "id": "92248df0-9497-43c0-8ce8-6b308a8cb7b2",
      "metadata": {
        "id": "92248df0-9497-43c0-8ce8-6b308a8cb7b2"
      },
      "source": [
        "In fact, since whitespace can be used we can even use a multi-line string!"
      ]
    },
    {
      "cell_type": "code",
      "execution_count": null,
      "id": "1411125f-152c-4763-ba0e-82d59aedbc56",
      "metadata": {
        "id": "1411125f-152c-4763-ba0e-82d59aedbc56"
      },
      "outputs": [],
      "source": [
        "Stock = namedtuple('Stock', '''symbol\n",
        "                               year month day\n",
        "                               open high low close''')"
      ]
    },
    {
      "cell_type": "code",
      "execution_count": null,
      "id": "7c605867-d7d4-4786-b752-d79175ac6598",
      "metadata": {
        "id": "7c605867-d7d4-4786-b752-d79175ac6598"
      },
      "outputs": [],
      "source": [
        "djia = Stock('DJIA', 2018, 1, 25, 26_313, 26_458, 26_260, 26_393)"
      ]
    },
    {
      "cell_type": "code",
      "execution_count": null,
      "id": "7df765ca-b145-4e58-894d-526d820c03d0",
      "metadata": {
        "id": "7df765ca-b145-4e58-894d-526d820c03d0"
      },
      "outputs": [],
      "source": [
        "djia"
      ]
    },
    {
      "cell_type": "markdown",
      "id": "2d391a32-f908-4eb3-ab67-88228b37c52e",
      "metadata": {
        "id": "2d391a32-f908-4eb3-ab67-88228b37c52e"
      },
      "source": [
        "**Accessing Items in a Named Tuple**\n",
        "\n",
        "The major advantage of named tuples are that, as the name suggests, we can access the properties (fields) of the tuple by name:"
      ]
    },
    {
      "cell_type": "code",
      "execution_count": null,
      "id": "82ced2ee-e7e4-45eb-bbc7-d79f8e3c160b",
      "metadata": {
        "id": "82ced2ee-e7e4-45eb-bbc7-d79f8e3c160b"
      },
      "outputs": [],
      "source": [
        "pt1"
      ]
    },
    {
      "cell_type": "code",
      "execution_count": null,
      "id": "91ba196f-2cd6-467c-a885-5da615b1573c",
      "metadata": {
        "id": "91ba196f-2cd6-467c-a885-5da615b1573c"
      },
      "outputs": [],
      "source": [
        "pt1.x"
      ]
    },
    {
      "cell_type": "code",
      "execution_count": null,
      "id": "6219aa40-6933-4d2b-bcde-88d6dd498ed8",
      "metadata": {
        "id": "6219aa40-6933-4d2b-bcde-88d6dd498ed8"
      },
      "outputs": [],
      "source": [
        "circle_1"
      ]
    },
    {
      "cell_type": "code",
      "execution_count": null,
      "id": "a16a9fba-0050-40ef-ba2c-6245bc2d9828",
      "metadata": {
        "id": "a16a9fba-0050-40ef-ba2c-6245bc2d9828",
        "outputId": "10894ecd-9676-49ff-f2de-c693225e0d4d"
      },
      "outputs": [
        {
          "ename": "NameError",
          "evalue": "name 'circle_1' is not defined",
          "output_type": "error",
          "traceback": [
            "\u001b[1;31m---------------------------------------------------------------------------\u001b[0m",
            "\u001b[1;31mNameError\u001b[0m                                 Traceback (most recent call last)",
            "Input \u001b[1;32mIn [82]\u001b[0m, in \u001b[0;36m<cell line: 1>\u001b[1;34m()\u001b[0m\n\u001b[1;32m----> 1\u001b[0m \u001b[43mcircle_1\u001b[49m\u001b[38;5;241m.\u001b[39mradius\n",
            "\u001b[1;31mNameError\u001b[0m: name 'circle_1' is not defined"
          ]
        }
      ],
      "source": [
        "circle_1.radius"
      ]
    },
    {
      "cell_type": "markdown",
      "id": "e0678f7b-4a6b-4e52-bd4c-dbe2895867b2",
      "metadata": {
        "id": "e0678f7b-4a6b-4e52-bd4c-dbe2895867b2"
      },
      "source": [
        "Now named tuplees are tuples, so elements can be accessed by index, unpacked, and iterated."
      ]
    },
    {
      "cell_type": "code",
      "execution_count": null,
      "id": "8ef746af-21d3-41c0-a3c7-3e47d1f071d5",
      "metadata": {
        "id": "8ef746af-21d3-41c0-a3c7-3e47d1f071d5"
      },
      "outputs": [],
      "source": [
        "circle_1[2]"
      ]
    },
    {
      "cell_type": "code",
      "execution_count": null,
      "id": "c31b6765-b376-4502-b94f-43c58dbe1958",
      "metadata": {
        "id": "c31b6765-b376-4502-b94f-43c58dbe1958",
        "outputId": "7aac8f49-eb05-40b8-cd42-d96832947c7f"
      },
      "outputs": [
        {
          "ename": "NameError",
          "evalue": "name 'djia' is not defined",
          "output_type": "error",
          "traceback": [
            "\u001b[1;31m---------------------------------------------------------------------------\u001b[0m",
            "\u001b[1;31mNameError\u001b[0m                                 Traceback (most recent call last)",
            "Input \u001b[1;32mIn [83]\u001b[0m, in \u001b[0;36m<cell line: 1>\u001b[1;34m()\u001b[0m\n\u001b[1;32m----> 1\u001b[0m \u001b[38;5;28;01mfor\u001b[39;00m item \u001b[38;5;129;01min\u001b[39;00m \u001b[43mdjia\u001b[49m:\n\u001b[0;32m      2\u001b[0m     \u001b[38;5;28mprint\u001b[39m(item)\n",
            "\u001b[1;31mNameError\u001b[0m: name 'djia' is not defined"
          ]
        }
      ],
      "source": [
        "for item in djia:\n",
        "    print(item)"
      ]
    },
    {
      "cell_type": "markdown",
      "id": "a94ca779-bc7f-4bc9-a872-75374ef2ecdb",
      "metadata": {
        "id": "a94ca779-bc7f-4bc9-a872-75374ef2ecdb"
      },
      "source": [
        "We can also unpack named tuples just like ordinary tuples:"
      ]
    },
    {
      "cell_type": "code",
      "execution_count": null,
      "id": "59552c68-3bdf-410f-a82f-e0faf63a8750",
      "metadata": {
        "id": "59552c68-3bdf-410f-a82f-e0faf63a8750",
        "outputId": "d55440eb-0a7c-44ca-b019-f469f988b82e"
      },
      "outputs": [
        {
          "data": {
            "text/plain": [
              "Point2D(x=10, y=20)"
            ]
          },
          "execution_count": 84,
          "metadata": {},
          "output_type": "execute_result"
        }
      ],
      "source": [
        "pt1"
      ]
    },
    {
      "cell_type": "code",
      "execution_count": null,
      "id": "132c93cd-15c7-49dd-b56c-743b5af912b2",
      "metadata": {
        "id": "132c93cd-15c7-49dd-b56c-743b5af912b2"
      },
      "outputs": [],
      "source": [
        "x, y = pt1"
      ]
    },
    {
      "cell_type": "code",
      "execution_count": null,
      "id": "80557cbe-567f-46f3-a4e5-c4de2c9daa01",
      "metadata": {
        "id": "80557cbe-567f-46f3-a4e5-c4de2c9daa01",
        "outputId": "5f09a9da-d02b-46fd-d47b-0da30deaeda6"
      },
      "outputs": [
        {
          "name": "stdout",
          "output_type": "stream",
          "text": [
            "10 20\n"
          ]
        }
      ],
      "source": [
        "print(x, y)"
      ]
    },
    {
      "cell_type": "code",
      "execution_count": null,
      "id": "1704168c-7464-4ed3-8c11-2af0bf0fe118",
      "metadata": {
        "id": "1704168c-7464-4ed3-8c11-2af0bf0fe118",
        "outputId": "a750a0f2-7df1-45da-928e-383ba514cc52"
      },
      "outputs": [
        {
          "ename": "NameError",
          "evalue": "name 'djia' is not defined",
          "output_type": "error",
          "traceback": [
            "\u001b[1;31m---------------------------------------------------------------------------\u001b[0m",
            "\u001b[1;31mNameError\u001b[0m                                 Traceback (most recent call last)",
            "Input \u001b[1;32mIn [87]\u001b[0m, in \u001b[0;36m<cell line: 1>\u001b[1;34m()\u001b[0m\n\u001b[1;32m----> 1\u001b[0m symbol, \u001b[38;5;241m*\u001b[39m_, close \u001b[38;5;241m=\u001b[39m \u001b[43mdjia\u001b[49m\n",
            "\u001b[1;31mNameError\u001b[0m: name 'djia' is not defined"
          ]
        }
      ],
      "source": [
        "symbol, *_, close = djia"
      ]
    },
    {
      "cell_type": "code",
      "execution_count": null,
      "id": "f92861fa-f795-43a5-803c-46f0f07020bb",
      "metadata": {
        "id": "f92861fa-f795-43a5-803c-46f0f07020bb",
        "outputId": "bb59d997-65e8-4d7a-eb79-8650affb25ba"
      },
      "outputs": [
        {
          "name": "stdout",
          "output_type": "stream",
          "text": [
            "DJIA 26072\n"
          ]
        }
      ],
      "source": [
        "print(symbol, close)"
      ]
    },
    {
      "cell_type": "markdown",
      "id": "7ad223dd-1912-4b50-a13e-4b329020822e",
      "metadata": {
        "id": "7ad223dd-1912-4b50-a13e-4b329020822e"
      },
      "source": [
        "And remember that the `_` we use in the unpacking is just a regular variable:"
      ]
    },
    {
      "cell_type": "code",
      "execution_count": null,
      "id": "15ae606d-58a6-4c49-90df-b1cb9bfd402d",
      "metadata": {
        "id": "15ae606d-58a6-4c49-90df-b1cb9bfd402d",
        "outputId": "acf107ef-8ae5-45c7-d690-9b7f728958ce"
      },
      "outputs": [
        {
          "name": "stdout",
          "output_type": "stream",
          "text": [
            "[-0.930882679779869, -0.7530933640543169]\n"
          ]
        }
      ],
      "source": [
        "print(_)"
      ]
    },
    {
      "cell_type": "markdown",
      "id": "0fcffe75-bb71-4157-b772-e37d20fc0185",
      "metadata": {
        "id": "0fcffe75-bb71-4157-b772-e37d20fc0185"
      },
      "source": [
        "The field names for these named tuples can be any valid variable name **except** that they cannot start with an underscore.\n",
        "\n",
        "For example the following would not be valid:"
      ]
    },
    {
      "cell_type": "code",
      "execution_count": null,
      "id": "0eb96a87-f2fa-438c-b6a4-11484a259980",
      "metadata": {
        "id": "0eb96a87-f2fa-438c-b6a4-11484a259980",
        "outputId": "9f02ad83-5a37-4d60-ec07-a4aaa0a0906d"
      },
      "outputs": [
        {
          "ename": "ValueError",
          "evalue": "Field names cannot start with an underscore: '_age'",
          "output_type": "error",
          "traceback": [
            "\u001b[1;31m---------------------------------------------------------------------------\u001b[0m",
            "\u001b[1;31mValueError\u001b[0m                                Traceback (most recent call last)",
            "Input \u001b[1;32mIn [90]\u001b[0m, in \u001b[0;36m<cell line: 1>\u001b[1;34m()\u001b[0m\n\u001b[1;32m----> 1\u001b[0m Person \u001b[38;5;241m=\u001b[39m \u001b[43mnamedtuple\u001b[49m\u001b[43m(\u001b[49m\u001b[38;5;124;43m'\u001b[39;49m\u001b[38;5;124;43mPerson\u001b[39;49m\u001b[38;5;124;43m'\u001b[39;49m\u001b[43m,\u001b[49m\u001b[43m \u001b[49m\u001b[43m[\u001b[49m\u001b[38;5;124;43m'\u001b[39;49m\u001b[38;5;124;43mfirstname\u001b[39;49m\u001b[38;5;124;43m'\u001b[39;49m\u001b[43m,\u001b[49m\u001b[43m \u001b[49m\u001b[38;5;124;43m'\u001b[39;49m\u001b[38;5;124;43mlastname\u001b[39;49m\u001b[38;5;124;43m'\u001b[39;49m\u001b[43m,\u001b[49m\u001b[43m \u001b[49m\u001b[38;5;124;43m'\u001b[39;49m\u001b[38;5;124;43m_age\u001b[39;49m\u001b[38;5;124;43m'\u001b[39;49m\u001b[43m,\u001b[49m\u001b[43m \u001b[49m\u001b[38;5;124;43m'\u001b[39;49m\u001b[38;5;124;43mssn\u001b[39;49m\u001b[38;5;124;43m'\u001b[39;49m\u001b[43m]\u001b[49m\u001b[43m)\u001b[49m\n",
            "File \u001b[1;32m~\\anaconda3\\lib\\collections\\__init__.py:399\u001b[0m, in \u001b[0;36mnamedtuple\u001b[1;34m(typename, field_names, rename, defaults, module)\u001b[0m\n\u001b[0;32m    397\u001b[0m \u001b[38;5;28;01mfor\u001b[39;00m name \u001b[38;5;129;01min\u001b[39;00m field_names:\n\u001b[0;32m    398\u001b[0m     \u001b[38;5;28;01mif\u001b[39;00m name\u001b[38;5;241m.\u001b[39mstartswith(\u001b[38;5;124m'\u001b[39m\u001b[38;5;124m_\u001b[39m\u001b[38;5;124m'\u001b[39m) \u001b[38;5;129;01mand\u001b[39;00m \u001b[38;5;129;01mnot\u001b[39;00m rename:\n\u001b[1;32m--> 399\u001b[0m         \u001b[38;5;28;01mraise\u001b[39;00m \u001b[38;5;167;01mValueError\u001b[39;00m(\u001b[38;5;124m'\u001b[39m\u001b[38;5;124mField names cannot start with an underscore: \u001b[39m\u001b[38;5;124m'\u001b[39m\n\u001b[0;32m    400\u001b[0m                          \u001b[38;5;124mf\u001b[39m\u001b[38;5;124m'\u001b[39m\u001b[38;5;132;01m{\u001b[39;00mname\u001b[38;5;132;01m!r}\u001b[39;00m\u001b[38;5;124m'\u001b[39m)\n\u001b[0;32m    401\u001b[0m     \u001b[38;5;28;01mif\u001b[39;00m name \u001b[38;5;129;01min\u001b[39;00m seen:\n\u001b[0;32m    402\u001b[0m         \u001b[38;5;28;01mraise\u001b[39;00m \u001b[38;5;167;01mValueError\u001b[39;00m(\u001b[38;5;124mf\u001b[39m\u001b[38;5;124m'\u001b[39m\u001b[38;5;124mEncountered duplicate field name: \u001b[39m\u001b[38;5;132;01m{\u001b[39;00mname\u001b[38;5;132;01m!r}\u001b[39;00m\u001b[38;5;124m'\u001b[39m)\n",
            "\u001b[1;31mValueError\u001b[0m: Field names cannot start with an underscore: '_age'"
          ]
        }
      ],
      "source": [
        "Person = namedtuple('Person', ['firstname', 'lastname', '_age', 'ssn'])"
      ]
    },
    {
      "cell_type": "markdown",
      "id": "45c3ed18-6881-4bb9-a0a7-e637ddb13ec8",
      "metadata": {
        "id": "45c3ed18-6881-4bb9-a0a7-e637ddb13ec8"
      },
      "source": [
        "We can also choose to let the  `namedtuple` function replace invalid field names automatically for us, by using the keyword argument `rename`. When we set that argument to `True` (it is `False` by default) it will replace the invalid name using the position (index) of the field, preceded by an underscore:"
      ]
    },
    {
      "cell_type": "code",
      "execution_count": null,
      "id": "6fab8371-0293-4d5e-bacd-9fc570932d27",
      "metadata": {
        "id": "6fab8371-0293-4d5e-bacd-9fc570932d27"
      },
      "outputs": [],
      "source": [
        "Person = namedtuple('Person', ['firstname', 'lastname', '_age', 'ssn'], rename=True)"
      ]
    },
    {
      "cell_type": "code",
      "execution_count": null,
      "id": "25a50acb-aee5-4075-b263-462441ba2a99",
      "metadata": {
        "id": "25a50acb-aee5-4075-b263-462441ba2a99"
      },
      "outputs": [],
      "source": [
        "eric = Person('Eric', 'Idle', 42, 'unknown')"
      ]
    },
    {
      "cell_type": "code",
      "execution_count": null,
      "id": "880ef619-d5ab-43e2-929f-c61288000765",
      "metadata": {
        "id": "880ef619-d5ab-43e2-929f-c61288000765"
      },
      "outputs": [],
      "source": [
        "eric"
      ]
    },
    {
      "cell_type": "markdown",
      "id": "fe91e980-1e83-4e63-94bb-1767daa01dda",
      "metadata": {
        "id": "fe91e980-1e83-4e63-94bb-1767daa01dda"
      },
      "source": [
        "As you can see the invalid field name `_age` was replaced by `_2` since it was the second element (i.e. index of `2`)"
      ]
    },
    {
      "cell_type": "markdown",
      "id": "860cc95b-6534-48ef-bc91-2a09a689d684",
      "metadata": {
        "id": "860cc95b-6534-48ef-bc91-2a09a689d684"
      },
      "source": [
        "**Named Tuple Internals**\n",
        "\n",
        "We can easily find out the fields in a named tuple using the `_fields` property:"
      ]
    },
    {
      "cell_type": "code",
      "execution_count": null,
      "id": "44d47d59-e0d4-4d79-903b-f5872fabfa20",
      "metadata": {
        "id": "44d47d59-e0d4-4d79-903b-f5872fabfa20"
      },
      "outputs": [],
      "source": [
        "Point2D._fields"
      ]
    },
    {
      "cell_type": "code",
      "execution_count": null,
      "id": "4a6544b9-8508-4982-a841-349f6d30f30e",
      "metadata": {
        "id": "4a6544b9-8508-4982-a841-349f6d30f30e"
      },
      "outputs": [],
      "source": [
        "Stock._fields"
      ]
    },
    {
      "cell_type": "markdown",
      "id": "93ae650e-6a1d-4e50-a70d-9612e0a58b2d",
      "metadata": {
        "id": "93ae650e-6a1d-4e50-a70d-9612e0a58b2d"
      },
      "source": [
        "There is also a property, `_source` that allows us to see exactly the class that was generated by calling `namedtuple` is a class **factory**):"
      ]
    },
    {
      "cell_type": "markdown",
      "id": "d7949eed-d23d-48f8-933d-cd84d362e8ba",
      "metadata": {
        "id": "d7949eed-d23d-48f8-933d-cd84d362e8ba"
      },
      "source": [
        "---\n",
        "**BE CAREFUL!**\n",
        "*Changed in version 3.7: Remove the verbose parameter and the `_source` attribute.*"
      ]
    },
    {
      "cell_type": "markdown",
      "id": "fc9d3167-b68d-447d-af3d-98fdd7be416b",
      "metadata": {
        "id": "fc9d3167-b68d-447d-af3d-98fdd7be416b"
      },
      "source": [
        "And of course this will be slightly different for another named tuple generated class:"
      ]
    },
    {
      "cell_type": "markdown",
      "id": "f42a405e-858d-4d15-a319-97da05d64bcd",
      "metadata": {
        "id": "f42a405e-858d-4d15-a319-97da05d64bcd"
      },
      "source": [
        "**Converting Named Tuples to Dictionaries**"
      ]
    },
    {
      "cell_type": "markdown",
      "id": "ff34c18e-a2e7-44a2-b55e-e04db00693c9",
      "metadata": {
        "id": "ff34c18e-a2e7-44a2-b55e-e04db00693c9"
      },
      "source": [
        "The `namedtıple` generated class also provides us an instance method, `_asdict()` that will create a dictionary from all the fields in the named tuple:"
      ]
    },
    {
      "cell_type": "code",
      "execution_count": null,
      "id": "866fad0c-3c9d-434e-a68d-c3923b96272b",
      "metadata": {
        "id": "866fad0c-3c9d-434e-a68d-c3923b96272b",
        "outputId": "31194468-0361-4253-fe50-bcaad15c6f44"
      },
      "outputs": [
        {
          "ename": "NameError",
          "evalue": "name 'eric' is not defined",
          "output_type": "error",
          "traceback": [
            "\u001b[1;31m---------------------------------------------------------------------------\u001b[0m",
            "\u001b[1;31mNameError\u001b[0m                                 Traceback (most recent call last)",
            "Input \u001b[1;32mIn [91]\u001b[0m, in \u001b[0;36m<cell line: 1>\u001b[1;34m()\u001b[0m\n\u001b[1;32m----> 1\u001b[0m \u001b[43meric\u001b[49m\u001b[38;5;241m.\u001b[39m_asdict()\n",
            "\u001b[1;31mNameError\u001b[0m: name 'eric' is not defined"
          ]
        }
      ],
      "source": [
        "eric._asdict()"
      ]
    },
    {
      "cell_type": "markdown",
      "id": "033b2de4-95c0-474c-8799-b548ea1080a7",
      "metadata": {
        "id": "033b2de4-95c0-474c-8799-b548ea1080a7"
      },
      "source": [
        "Technically, it is an `OrderedDict` which we will cover in later section. Basically an `OrderedDict` is a dictionary that, unlike the standard built-in `Dictionary` is **guaranteed** to preserve the order the keys."
      ]
    },
    {
      "cell_type": "markdown",
      "id": "b4f5df86-b00a-42e5-9bf0-bd77002f32cf",
      "metadata": {
        "id": "b4f5df86-b00a-42e5-9bf0-bd77002f32cf"
      },
      "source": [
        "---\n",
        "**BE CAREFUL!**\n",
        "\n",
        "*Note that as of Python 3.6 regular dictionaries do preserve the order of the keys, but until just recently it was not **guaranteed** and was basically an implementation detail.*\n",
        "\n",
        "*However, this has now changed!! Guido van Rossum has now agreed that this is no longer an implementation detail, and starting in Python 3.7 dictionary order is guaranteed. Since it is actually already the case in Python 3.6, you can now safely assume this fact - as long as you are running your code under Python 3.6 or higher. Your code will break if you rely on dictionary order prior to 3.6, in that case, still use an `OrderDict`*"
      ]
    },
    {
      "cell_type": "markdown",
      "id": "321f850a-435a-400a-85d0-a41865bac10f",
      "metadata": {
        "id": "321f850a-435a-400a-85d0-a41865bac10f"
      },
      "source": [
        "**Overhead of Named Tuples**\n",
        "\n",
        "At this point you may be wondering whether there's more overhead to using a named tuple vs a regular tuple.\n",
        "\n",
        "Ther is, but it is tiny. The field names are stored in the **class**, not every instance of the named tıples. This means that the overhead incurred by the field names for one instance of the named tıple vs 1000 instances is the same. Otherwise, the instances are tuple, so you can access contained obkects using indexing, slicing and iteration just as if it were a plain tuple. No overhead there either. Looking up values by name do have some overhead of course, but no more than if you had created a custom class."
      ]
    },
    {
      "cell_type": "markdown",
      "id": "496b56ea-d082-4456-b475-b1449b7bc387",
      "metadata": {
        "tags": [],
        "id": "496b56ea-d082-4456-b475-b1449b7bc387"
      },
      "source": [
        "### 03 - Named Tuples - Modifying, Extending"
      ]
    },
    {
      "cell_type": "code",
      "execution_count": null,
      "id": "d75f2481-2eb2-478f-8b78-8e71eec3f73c",
      "metadata": {
        "id": "d75f2481-2eb2-478f-8b78-8e71eec3f73c"
      },
      "outputs": [],
      "source": [
        "from collections import namedtuple"
      ]
    },
    {
      "cell_type": "code",
      "execution_count": null,
      "id": "c749562c-f42f-44e5-9f1a-9e1ef76d74b0",
      "metadata": {
        "id": "c749562c-f42f-44e5-9f1a-9e1ef76d74b0"
      },
      "outputs": [],
      "source": [
        "Point2D = namedtuple('Point2D', 'x y')"
      ]
    },
    {
      "cell_type": "markdown",
      "id": "7be38b76-58c5-4845-a2eb-91568c464283",
      "metadata": {
        "id": "7be38b76-58c5-4845-a2eb-91568c464283"
      },
      "source": [
        "The objects generated by `namedtuple` generated classes are **immutable**.\n",
        "\n",
        "In other words the following will not work:"
      ]
    },
    {
      "cell_type": "code",
      "execution_count": null,
      "id": "301c13e9-b46c-4fa5-9a90-706dc9a5789c",
      "metadata": {
        "id": "301c13e9-b46c-4fa5-9a90-706dc9a5789c"
      },
      "outputs": [],
      "source": [
        "origin = Point2D(10, 0)"
      ]
    },
    {
      "cell_type": "code",
      "execution_count": null,
      "id": "27a8a930-1bb5-45af-85bd-b022b27e299e",
      "metadata": {
        "id": "27a8a930-1bb5-45af-85bd-b022b27e299e",
        "outputId": "861f669c-66c7-4230-efed-9b17c8779201"
      },
      "outputs": [
        {
          "ename": "AttributeError",
          "evalue": "can't set attribute",
          "output_type": "error",
          "traceback": [
            "\u001b[1;31m---------------------------------------------------------------------------\u001b[0m",
            "\u001b[1;31mAttributeError\u001b[0m                            Traceback (most recent call last)",
            "Input \u001b[1;32mIn [95]\u001b[0m, in \u001b[0;36m<cell line: 1>\u001b[1;34m()\u001b[0m\n\u001b[1;32m----> 1\u001b[0m origin\u001b[38;5;241m.\u001b[39mx \u001b[38;5;241m=\u001b[39m \u001b[38;5;241m0\u001b[39m\n",
            "\u001b[1;31mAttributeError\u001b[0m: can't set attribute"
          ]
        }
      ],
      "source": [
        "origin.x = 0"
      ]
    },
    {
      "cell_type": "markdown",
      "id": "b889c2dd-a5be-4f90-9b21-a1ab9b77af2a",
      "metadata": {
        "id": "b889c2dd-a5be-4f90-9b21-a1ab9b77af2a"
      },
      "source": [
        "However, we may want to \"change\" the value of one of the coordinates of our `origin` variable.\n",
        "\n",
        "This is just like strings, we have to create a new version of the tuple, and assign it to the same label.\n",
        "\n",
        "Suppose we want to change x-coordinate of our `origin` to something else, but retain whatever the y-coordinate was."
      ]
    },
    {
      "cell_type": "code",
      "execution_count": null,
      "id": "c990c981-d89c-4797-9c24-68ca502dea34",
      "metadata": {
        "id": "c990c981-d89c-4797-9c24-68ca502dea34"
      },
      "outputs": [],
      "source": [
        "origin = Point2D(0, origin.y)"
      ]
    },
    {
      "cell_type": "code",
      "execution_count": null,
      "id": "8258b3f0-6527-492d-a986-5c2e0e6bbf25",
      "metadata": {
        "id": "8258b3f0-6527-492d-a986-5c2e0e6bbf25",
        "outputId": "47f73685-8f29-4339-93f5-ff8765650baf"
      },
      "outputs": [
        {
          "data": {
            "text/plain": [
              "Point2D(x=10, y=0)"
            ]
          },
          "execution_count": 96,
          "metadata": {},
          "output_type": "execute_result"
        }
      ],
      "source": [
        "origin"
      ]
    },
    {
      "cell_type": "markdown",
      "id": "dbbaf7ab-62f7-40e0-ba42-67ae499010a4",
      "metadata": {
        "id": "dbbaf7ab-62f7-40e0-ba42-67ae499010a4"
      },
      "source": [
        "Of course this could become quite unwieldy when we have a larger number of properties and we only need to change a single item:"
      ]
    },
    {
      "cell_type": "code",
      "execution_count": null,
      "id": "25d36757-4699-4cac-a566-db33a0d55e82",
      "metadata": {
        "id": "25d36757-4699-4cac-a566-db33a0d55e82"
      },
      "outputs": [],
      "source": [
        "Stock = namedtuple('Stock', 'symbol year month day open high low close')"
      ]
    },
    {
      "cell_type": "code",
      "execution_count": null,
      "id": "34059956-2b16-4ba0-b24a-46727a63cdf5",
      "metadata": {
        "id": "34059956-2b16-4ba0-b24a-46727a63cdf5"
      },
      "outputs": [],
      "source": [
        "djia = Stock('DJIA', 2019, 1, 25, 26_313, 26_458, 26_260, 26_393)"
      ]
    },
    {
      "cell_type": "markdown",
      "id": "8b74c343-23bb-4346-bcbb-c01ef88a1525",
      "metadata": {
        "id": "8b74c343-23bb-4346-bcbb-c01ef88a1525"
      },
      "source": [
        "To update the `close` property for example, we could write:"
      ]
    },
    {
      "cell_type": "code",
      "execution_count": null,
      "id": "ab8cfb92-6c78-4d08-93e1-cbfba2bfe2b4",
      "metadata": {
        "id": "ab8cfb92-6c78-4d08-93e1-cbfba2bfe2b4"
      },
      "outputs": [],
      "source": [
        "djia = Stock(djia.symbol, djia.year, djia.month, djia.day,\n",
        "             djia.open, djia.high, djia.low, 26_394)"
      ]
    },
    {
      "cell_type": "markdown",
      "id": "e0f8952d-4a09-4b35-874e-d2eb813cda47",
      "metadata": {
        "id": "e0f8952d-4a09-4b35-874e-d2eb813cda47"
      },
      "source": [
        "Now that was quite painful!\n",
        "\n",
        "We can be a bit more clever about this and use tuple unpacking and argument unpacking as follows:"
      ]
    },
    {
      "cell_type": "code",
      "execution_count": null,
      "id": "8aba1739-3c3c-4534-a718-e4baf20e5d92",
      "metadata": {
        "id": "8aba1739-3c3c-4534-a718-e4baf20e5d92"
      },
      "outputs": [],
      "source": [
        "*values, _ = djia"
      ]
    },
    {
      "cell_type": "markdown",
      "id": "e8060aa5-870d-4a7d-9a25-b451a7aa8429",
      "metadata": {
        "id": "e8060aa5-870d-4a7d-9a25-b451a7aa8429"
      },
      "source": [
        "We didn't care about the `close` price since we are replacing it, hence the underscore variable name.\n",
        "\n",
        "And we now hae everything else in a list:"
      ]
    },
    {
      "cell_type": "code",
      "execution_count": null,
      "id": "42f73ad3-3301-43ee-ae31-5dadc24a5f7e",
      "metadata": {
        "id": "42f73ad3-3301-43ee-ae31-5dadc24a5f7e",
        "outputId": "87285b60-ec48-4752-8a2b-c91794bf56f8"
      },
      "outputs": [
        {
          "data": {
            "text/plain": [
              "['DJIA', 2019, 1, 25, 26313, 26458, 26260]"
            ]
          },
          "execution_count": 101,
          "metadata": {},
          "output_type": "execute_result"
        }
      ],
      "source": [
        "values"
      ]
    },
    {
      "cell_type": "markdown",
      "id": "cd7f06b6-247a-410c-bd38-7a65b175c93d",
      "metadata": {
        "id": "cd7f06b6-247a-410c-bd38-7a65b175c93d"
      },
      "source": [
        "And now we are going to use the `*` again, but this time to unpack the list into separate arguments when we call the `Stock` initializer:"
      ]
    },
    {
      "cell_type": "code",
      "execution_count": null,
      "id": "5b0bd722-27f8-4150-baa8-6fd194b56375",
      "metadata": {
        "id": "5b0bd722-27f8-4150-baa8-6fd194b56375"
      },
      "outputs": [],
      "source": [
        "djia = Stock(*values, 26_393)"
      ]
    },
    {
      "cell_type": "code",
      "execution_count": null,
      "id": "faeba717-178f-47a1-a0bd-52c04ec68e38",
      "metadata": {
        "id": "faeba717-178f-47a1-a0bd-52c04ec68e38",
        "outputId": "840a4cfc-dd34-4e05-9470-290930bf537d"
      },
      "outputs": [
        {
          "data": {
            "text/plain": [
              "Stock(symbol='DJIA', year=2019, month=1, day=25, open=26313, high=26458, low=26260, close=26393)"
            ]
          },
          "execution_count": 103,
          "metadata": {},
          "output_type": "execute_result"
        }
      ],
      "source": [
        "djia"
      ]
    },
    {
      "cell_type": "markdown",
      "id": "366fbd96-ae04-48b4-b3cf-3340f921da06",
      "metadata": {
        "id": "366fbd96-ae04-48b4-b3cf-3340f921da06"
      },
      "source": [
        "---\n",
        "**BE CAREFUL!**\n",
        "\n",
        "*This is much better than our first attempt!*\n",
        "\n",
        "*But this approach does not always works, what happens if we want to change a values somewhere in the middle? Or two values?*\n",
        "\n",
        "*We cannot do: `*first, month, *last = djia`*\n",
        "\n",
        "*That would make no sense whatsoever! (and Python will tell you so!)*"
      ]
    },
    {
      "cell_type": "markdown",
      "id": "b6ce2e4e-32e9-4beb-9c95-d537103ac314",
      "metadata": {
        "id": "b6ce2e4e-32e9-4beb-9c95-d537103ac314"
      },
      "source": [
        "Maybe slicing and unpacking can work here..."
      ]
    },
    {
      "cell_type": "code",
      "execution_count": null,
      "id": "d01a53f4-1b8e-4e5b-8888-7433cec29539",
      "metadata": {
        "id": "d01a53f4-1b8e-4e5b-8888-7433cec29539",
        "outputId": "7dbd1d92-a4ac-48d0-cf34-7531fda18b50"
      },
      "outputs": [
        {
          "data": {
            "text/plain": [
              "Stock(symbol='DJIA', year=2019, month=1, day=25, open=26313, high=26458, low=26260, close=26393)"
            ]
          },
          "execution_count": 104,
          "metadata": {},
          "output_type": "execute_result"
        }
      ],
      "source": [
        "djia"
      ]
    },
    {
      "cell_type": "markdown",
      "id": "f27ea622-7e49-44ed-ada7-faa8a6c73aca",
      "metadata": {
        "id": "f27ea622-7e49-44ed-ada7-faa8a6c73aca"
      },
      "source": [
        "We could trt **slicing**:"
      ]
    },
    {
      "cell_type": "code",
      "execution_count": null,
      "id": "29661294-8c30-4f09-bbed-2586a7cc6f6d",
      "metadata": {
        "id": "29661294-8c30-4f09-bbed-2586a7cc6f6d",
        "outputId": "0d21d104-4d43-40d4-e5ed-cd6cff78fc3d"
      },
      "outputs": [
        {
          "data": {
            "text/plain": [
              "('DJIA', 2019, 1)"
            ]
          },
          "execution_count": 105,
          "metadata": {},
          "output_type": "execute_result"
        }
      ],
      "source": [
        "djia[:3]"
      ]
    },
    {
      "cell_type": "code",
      "execution_count": null,
      "id": "4efff64e-ae5c-444f-92c2-593a07284d0a",
      "metadata": {
        "id": "4efff64e-ae5c-444f-92c2-593a07284d0a",
        "outputId": "52ec35ee-8951-4520-89f6-dbd5235e79d0"
      },
      "outputs": [
        {
          "data": {
            "text/plain": [
              "('DJIA', 2019, 1, 26, 26313, 26458, 26260, 26393)"
            ]
          },
          "execution_count": 106,
          "metadata": {},
          "output_type": "execute_result"
        }
      ],
      "source": [
        "djia[:3] + (26,) + djia[4:]"
      ]
    },
    {
      "cell_type": "markdown",
      "id": "924f4cf9-f3f3-4d68-8021-10a1f434cac2",
      "metadata": {
        "id": "924f4cf9-f3f3-4d68-8021-10a1f434cac2"
      },
      "source": [
        "So now we could use this to create a new StockPrice instance:"
      ]
    },
    {
      "cell_type": "code",
      "execution_count": null,
      "id": "90eeebe6-338c-4235-8b89-bc806f8f8d28",
      "metadata": {
        "id": "90eeebe6-338c-4235-8b89-bc806f8f8d28"
      },
      "outputs": [],
      "source": [
        "djia2 = Stock(*(djia[:3] + (26,) + djia[4:]))"
      ]
    },
    {
      "cell_type": "code",
      "execution_count": null,
      "id": "ced5dc32-339e-44ef-a8fa-f70b57246b19",
      "metadata": {
        "id": "ced5dc32-339e-44ef-a8fa-f70b57246b19",
        "outputId": "38ecf4eb-5223-4c1d-a59a-01379c94d64d"
      },
      "outputs": [
        {
          "data": {
            "text/plain": [
              "Stock(symbol='DJIA', year=2019, month=1, day=26, open=26313, high=26458, low=26260, close=26393)"
            ]
          },
          "execution_count": 108,
          "metadata": {},
          "output_type": "execute_result"
        }
      ],
      "source": [
        "djia2"
      ]
    },
    {
      "cell_type": "markdown",
      "id": "97bcc0e2-7fd9-40ae-a63c-46c0ecbd8425",
      "metadata": {
        "id": "97bcc0e2-7fd9-40ae-a63c-46c0ecbd8425"
      },
      "source": [
        "This works, but that's quite cumbersome...\n",
        "\n",
        "And it gets worse - suppose we want to modify the year and day using this approach:"
      ]
    },
    {
      "cell_type": "code",
      "execution_count": null,
      "id": "873b27e5-dbeb-4fb6-b19e-18d1af3ae63e",
      "metadata": {
        "id": "873b27e5-dbeb-4fb6-b19e-18d1af3ae63e"
      },
      "outputs": [],
      "source": [
        "values = djia[0:1] + (2019,) + djia[2:3] + (26,) + djia[4:]"
      ]
    },
    {
      "cell_type": "code",
      "execution_count": null,
      "id": "a651a595-d114-4682-94af-621844b185a2",
      "metadata": {
        "id": "a651a595-d114-4682-94af-621844b185a2",
        "outputId": "5e9ba7c3-b244-4b8b-f948-cfce10dc8ff7"
      },
      "outputs": [
        {
          "data": {
            "text/plain": [
              "('DJIA', 2019, 1, 26, 26313, 26458, 26260, 26393)"
            ]
          },
          "execution_count": 110,
          "metadata": {},
          "output_type": "execute_result"
        }
      ],
      "source": [
        "values"
      ]
    },
    {
      "cell_type": "code",
      "execution_count": null,
      "id": "6029e9e4-f907-4dca-ac99-fb91558794fc",
      "metadata": {
        "id": "6029e9e4-f907-4dca-ac99-fb91558794fc"
      },
      "outputs": [],
      "source": [
        "djia3 = Stock(*values)"
      ]
    },
    {
      "cell_type": "code",
      "execution_count": null,
      "id": "3eccd319-b18b-4c9f-b9b9-94a1a1ffe2de",
      "metadata": {
        "id": "3eccd319-b18b-4c9f-b9b9-94a1a1ffe2de",
        "outputId": "62178145-6df1-4dbf-d45a-0e9a32f3a0e5"
      },
      "outputs": [
        {
          "data": {
            "text/plain": [
              "Stock(symbol='DJIA', year=2019, month=1, day=26, open=26313, high=26458, low=26260, close=26393)"
            ]
          },
          "execution_count": 112,
          "metadata": {},
          "output_type": "execute_result"
        }
      ],
      "source": [
        "djia3"
      ]
    },
    {
      "cell_type": "markdown",
      "id": "8b636146-caa1-429c-beba-7520e6ff51cf",
      "metadata": {
        "id": "8b636146-caa1-429c-beba-7520e6ff51cf"
      },
      "source": [
        "Or, if you want to avoid unpacking the `values` into the multiple positional arguments required by the `Stock` constructor, we can make us of the `_make` class method that can use an iterable:"
      ]
    },
    {
      "cell_type": "code",
      "execution_count": null,
      "id": "e7e0ad2c-fcc7-4fa4-ac19-9b8ad43d51f0",
      "metadata": {
        "id": "e7e0ad2c-fcc7-4fa4-ac19-9b8ad43d51f0"
      },
      "outputs": [],
      "source": [
        "djia4 = Stock._make(values)"
      ]
    },
    {
      "cell_type": "code",
      "execution_count": null,
      "id": "68c8364e-405c-4e21-a1ed-967a422ba6eb",
      "metadata": {
        "id": "68c8364e-405c-4e21-a1ed-967a422ba6eb",
        "outputId": "f71aac3e-affd-4221-f4bf-52e51de670da"
      },
      "outputs": [
        {
          "data": {
            "text/plain": [
              "Stock(symbol='DJIA', year=2019, month=1, day=26, open=26313, high=26458, low=26260, close=26393)"
            ]
          },
          "execution_count": 114,
          "metadata": {},
          "output_type": "execute_result"
        }
      ],
      "source": [
        "djia4"
      ]
    },
    {
      "cell_type": "markdown",
      "id": "27bd3673-b551-41ef-9b3c-af70a89b60ab",
      "metadata": {
        "id": "27bd3673-b551-41ef-9b3c-af70a89b60ab"
      },
      "source": [
        "This is really getting too complex.\n",
        "\n",
        "Fortunately there's a better way!\n",
        "\n",
        "The namedtuple implementation also provides another instance method called `_replace` which takes keyword-only arguments. That method will make a copy of the current tuple and substitute property values based on the keyword-only arguments passed in."
      ]
    },
    {
      "cell_type": "code",
      "execution_count": null,
      "id": "7d18049a-885a-4689-a7a0-e9c0ba3bb310",
      "metadata": {
        "id": "7d18049a-885a-4689-a7a0-e9c0ba3bb310",
        "outputId": "d3ac8753-e7e0-4a33-dc96-ae91218264e7"
      },
      "outputs": [
        {
          "data": {
            "text/plain": [
              "Stock(symbol='DJIA', year=2019, month=1, day=25, open=26313, high=26458, low=26260, close=26393)"
            ]
          },
          "execution_count": 115,
          "metadata": {},
          "output_type": "execute_result"
        }
      ],
      "source": [
        "djia"
      ]
    },
    {
      "cell_type": "code",
      "execution_count": null,
      "id": "995fd969-01f7-4678-ad33-f08e6fcd7647",
      "metadata": {
        "id": "995fd969-01f7-4678-ad33-f08e6fcd7647",
        "outputId": "76cba0bd-3c84-4651-9c99-52425f3bc8a1"
      },
      "outputs": [
        {
          "data": {
            "text/plain": [
              "2617908637472"
            ]
          },
          "execution_count": 116,
          "metadata": {},
          "output_type": "execute_result"
        }
      ],
      "source": [
        "id(djia)"
      ]
    },
    {
      "cell_type": "code",
      "execution_count": null,
      "id": "fda04197-8619-4412-8ff7-f46761a2c7fb",
      "metadata": {
        "id": "fda04197-8619-4412-8ff7-f46761a2c7fb"
      },
      "outputs": [],
      "source": [
        "djia5 = djia._replace(year=2019, day=26)"
      ]
    },
    {
      "cell_type": "code",
      "execution_count": null,
      "id": "75467c3e-a626-4bcf-8344-76d4e7087fdd",
      "metadata": {
        "id": "75467c3e-a626-4bcf-8344-76d4e7087fdd",
        "outputId": "31e0172c-8522-4e04-da73-c276ba8f648e"
      },
      "outputs": [
        {
          "data": {
            "text/plain": [
              "Stock(symbol='DJIA', year=2019, month=1, day=26, open=26313, high=26458, low=26260, close=26393)"
            ]
          },
          "execution_count": 118,
          "metadata": {},
          "output_type": "execute_result"
        }
      ],
      "source": [
        "djia5"
      ]
    },
    {
      "cell_type": "code",
      "execution_count": null,
      "id": "b0381e8a-ca36-4aa3-95f5-106fa63862ab",
      "metadata": {
        "id": "b0381e8a-ca36-4aa3-95f5-106fa63862ab",
        "outputId": "ee13322d-0b74-4d6f-da00-a20f28f7de9e"
      },
      "outputs": [
        {
          "data": {
            "text/plain": [
              "2617908940976"
            ]
          },
          "execution_count": 119,
          "metadata": {},
          "output_type": "execute_result"
        }
      ],
      "source": [
        "id(djia5)"
      ]
    },
    {
      "cell_type": "markdown",
      "id": "9b9b10fd-6a59-464a-81d5-a3a8baca3675",
      "metadata": {
        "id": "9b9b10fd-6a59-464a-81d5-a3a8baca3675"
      },
      "source": [
        "Much better!!"
      ]
    },
    {
      "cell_type": "markdown",
      "id": "52f53a66-d803-4778-bf27-d1997db8454f",
      "metadata": {
        "id": "52f53a66-d803-4778-bf27-d1997db8454f"
      },
      "source": [
        "**Extending Named Tuples**"
      ]
    },
    {
      "cell_type": "markdown",
      "id": "2a0c719f-7617-450c-b8c7-6d07ec74142e",
      "metadata": {
        "id": "2a0c719f-7617-450c-b8c7-6d07ec74142e"
      },
      "source": [
        "Sometimes we may want to add one or more properties to an existing class without modifying the code for the custom class itself.\n",
        "\n",
        "Using inheritance is one way to go about it so you may be tempted to do this with named tuples as well, but it's not easy, and there's a cleaner way to do this if all you're after is additional data fields.\n",
        "\n",
        "Let's say we have a Point class that is for 2D problems:"
      ]
    },
    {
      "cell_type": "code",
      "execution_count": null,
      "id": "b7d79fad-a8ce-4677-a034-a435834ff2b1",
      "metadata": {
        "id": "b7d79fad-a8ce-4677-a034-a435834ff2b1"
      },
      "outputs": [],
      "source": [
        "Point2D = namedtuple('Point2D', 'x y')"
      ]
    },
    {
      "cell_type": "markdown",
      "id": "39c46b6c-4dd5-4332-8891-bad18ac3b941",
      "metadata": {
        "id": "39c46b6c-4dd5-4332-8891-bad18ac3b941"
      },
      "source": [
        "We could easily create a 3D point class as follows:"
      ]
    },
    {
      "cell_type": "code",
      "execution_count": null,
      "id": "3c2c3e7a-ffd3-46c9-8e57-8ef768fbba2a",
      "metadata": {
        "id": "3c2c3e7a-ffd3-46c9-8e57-8ef768fbba2a"
      },
      "outputs": [],
      "source": [
        "Point3D = namedtuple('Point3D', 'x y z')"
      ]
    },
    {
      "cell_type": "markdown",
      "id": "2bf83560-452b-4254-93c8-d0f8258dceff",
      "metadata": {
        "id": "2bf83560-452b-4254-93c8-d0f8258dceff"
      },
      "source": [
        "But if our named tuple has many fileds, such as our `Stock` named tuple that's a little more difficult:"
      ]
    },
    {
      "cell_type": "code",
      "execution_count": null,
      "id": "28c2e997-f424-464d-8d0e-cd6e92571be8",
      "metadata": {
        "id": "28c2e997-f424-464d-8d0e-cd6e92571be8",
        "outputId": "01601116-165f-4e56-a660-2446293587cb"
      },
      "outputs": [
        {
          "data": {
            "text/plain": [
              "Stock(symbol='DJIA', year=2019, month=1, day=25, open=26313, high=26458, low=26260, close=26393)"
            ]
          },
          "execution_count": 122,
          "metadata": {},
          "output_type": "execute_result"
        }
      ],
      "source": [
        "djia"
      ]
    },
    {
      "cell_type": "markdown",
      "id": "172f43e3-3794-460f-a762-af12e4c1dcbe",
      "metadata": {
        "id": "172f43e3-3794-460f-a762-af12e4c1dcbe"
      },
      "source": [
        "Suppose we want to create a new class, say `StockExt`, it would take some effort:"
      ]
    },
    {
      "cell_type": "code",
      "execution_count": null,
      "id": "7ddf36c3-2c5f-4228-b35e-43021f52da38",
      "metadata": {
        "id": "7ddf36c3-2c5f-4228-b35e-43021f52da38"
      },
      "outputs": [],
      "source": [
        "StockExt = namedtuple('StockExt',\n",
        "                      '''symbol year month day open high low\n",
        "                      close previous_close''')"
      ]
    },
    {
      "cell_type": "markdown",
      "id": "8595c59f-c776-477a-8943-a22cef96d41f",
      "metadata": {
        "id": "8595c59f-c776-477a-8943-a22cef96d41f"
      },
      "source": [
        "Instead we can leverage that ``_fields` property:"
      ]
    },
    {
      "cell_type": "code",
      "execution_count": null,
      "id": "a298eef1-e91f-4a56-88c9-7a1821f002e1",
      "metadata": {
        "id": "a298eef1-e91f-4a56-88c9-7a1821f002e1",
        "outputId": "aea27fc7-e075-4721-dd34-812897fdb757"
      },
      "outputs": [
        {
          "data": {
            "text/plain": [
              "('symbol', 'year', 'month', 'day', 'open', 'high', 'low', 'close')"
            ]
          },
          "execution_count": 124,
          "metadata": {},
          "output_type": "execute_result"
        }
      ],
      "source": [
        "Stock._fields"
      ]
    },
    {
      "cell_type": "markdown",
      "id": "7072b7ab-5f3d-4fcd-9fc4-d39f6e749a98",
      "metadata": {
        "id": "7072b7ab-5f3d-4fcd-9fc4-d39f6e749a98"
      },
      "source": [
        "Remember that the `namedtuple` initializer can handle a list or tuple containing the field names. For example, the one we just retrieved from `_fields`.\n",
        "\n",
        "Now all we need to do is create a new tuple that contains those fields along with whatever extras we want:"
      ]
    },
    {
      "cell_type": "code",
      "execution_count": null,
      "id": "5a6e43cf-c89c-4187-aeb6-ce076399141d",
      "metadata": {
        "id": "5a6e43cf-c89c-4187-aeb6-ce076399141d"
      },
      "outputs": [],
      "source": [
        "new_fields = Stock._fields + ('previous_close',)"
      ]
    },
    {
      "cell_type": "code",
      "execution_count": null,
      "id": "7bd12290-b3b9-430e-a56d-44933ced4d4a",
      "metadata": {
        "id": "7bd12290-b3b9-430e-a56d-44933ced4d4a",
        "outputId": "d2f8f8de-5aa4-4b18-ccd7-5444c27d7069"
      },
      "outputs": [
        {
          "data": {
            "text/plain": [
              "('symbol',\n",
              " 'year',\n",
              " 'month',\n",
              " 'day',\n",
              " 'open',\n",
              " 'high',\n",
              " 'low',\n",
              " 'close',\n",
              " 'previous_close')"
            ]
          },
          "execution_count": 126,
          "metadata": {},
          "output_type": "execute_result"
        }
      ],
      "source": [
        "new_fields"
      ]
    },
    {
      "cell_type": "markdown",
      "id": "f639c32e-d322-46ec-8781-0279e225f386",
      "metadata": {
        "id": "f639c32e-d322-46ec-8781-0279e225f386"
      },
      "source": [
        "And now we can create our new named tuple this way:"
      ]
    },
    {
      "cell_type": "code",
      "execution_count": null,
      "id": "9a8961a5-5ae2-4864-b8dc-03447a3ed1d1",
      "metadata": {
        "id": "9a8961a5-5ae2-4864-b8dc-03447a3ed1d1"
      },
      "outputs": [],
      "source": [
        "StockExt = namedtuple('StockExt', Stock._fields + ('previous_close',))"
      ]
    },
    {
      "cell_type": "code",
      "execution_count": null,
      "id": "14d07598-3f60-4085-8f4a-3b6bdfe37faa",
      "metadata": {
        "id": "14d07598-3f60-4085-8f4a-3b6bdfe37faa",
        "outputId": "41f331c5-58fc-48e1-db57-bf706593d7dd"
      },
      "outputs": [
        {
          "data": {
            "text/plain": [
              "('symbol',\n",
              " 'year',\n",
              " 'month',\n",
              " 'day',\n",
              " 'open',\n",
              " 'high',\n",
              " 'low',\n",
              " 'close',\n",
              " 'previous_close')"
            ]
          },
          "execution_count": 128,
          "metadata": {},
          "output_type": "execute_result"
        }
      ],
      "source": [
        "StockExt._fields"
      ]
    },
    {
      "cell_type": "markdown",
      "id": "67684cf7-35d1-434e-b761-3ee1f32a0369",
      "metadata": {
        "id": "67684cf7-35d1-434e-b761-3ee1f32a0369"
      },
      "source": [
        "If you did not want to use tuple concatenation for some reason, you could also do it using strings:"
      ]
    },
    {
      "cell_type": "code",
      "execution_count": null,
      "id": "786356b1-d191-4f87-beb3-a9979287080e",
      "metadata": {
        "id": "786356b1-d191-4f87-beb3-a9979287080e",
        "outputId": "b23da61f-0a2d-4349-f119-ef7bfcd4b34d"
      },
      "outputs": [
        {
          "data": {
            "text/plain": [
              "'symbol year month day open high low close previous_close'"
            ]
          },
          "execution_count": 129,
          "metadata": {},
          "output_type": "execute_result"
        }
      ],
      "source": [
        "' '.join(Stock._fields) + ' previous_close'"
      ]
    },
    {
      "cell_type": "code",
      "execution_count": null,
      "id": "830f1488-6b24-40e5-a0db-a2dff7173065",
      "metadata": {
        "id": "830f1488-6b24-40e5-a0db-a2dff7173065"
      },
      "outputs": [],
      "source": [
        "StockExt = namedtuple('StockExt',\n",
        "                      ' '.join(Stock._fields) + ' previous_close')"
      ]
    },
    {
      "cell_type": "code",
      "execution_count": null,
      "id": "7cdc2dce-0d98-4615-b260-5254b907b5c7",
      "metadata": {
        "id": "7cdc2dce-0d98-4615-b260-5254b907b5c7",
        "outputId": "f260f9c7-d190-4515-85bb-de0374f38491"
      },
      "outputs": [
        {
          "data": {
            "text/plain": [
              "('symbol',\n",
              " 'year',\n",
              " 'month',\n",
              " 'day',\n",
              " 'open',\n",
              " 'high',\n",
              " 'low',\n",
              " 'close',\n",
              " 'previous_close')"
            ]
          },
          "execution_count": 131,
          "metadata": {},
          "output_type": "execute_result"
        }
      ],
      "source": [
        "StockExt._fields"
      ]
    },
    {
      "cell_type": "markdown",
      "id": "2d1f1f09-115b-4d09-9c00-3e93af4f52dd",
      "metadata": {
        "id": "2d1f1f09-115b-4d09-9c00-3e93af4f52dd"
      },
      "source": [
        "Now, with this newly extended class, we may want to take one of the \"old\" named tuple instance (`djia`) and create the extended version of it using the `StockExt` class.\n",
        "\n",
        "This is also quite simple to do, since named tuples are tuples, and can therefore be unpacked in the arguments of a function call."
      ]
    },
    {
      "cell_type": "code",
      "execution_count": null,
      "id": "68c9df7f-ca8a-4ebb-b747-b966059a0062",
      "metadata": {
        "id": "68c9df7f-ca8a-4ebb-b747-b966059a0062",
        "outputId": "db2098ea-95a8-4dcc-f812-b456f87ca0b0"
      },
      "outputs": [
        {
          "data": {
            "text/plain": [
              "Stock(symbol='DJIA', year=2019, month=1, day=25, open=26313, high=26458, low=26260, close=26393)"
            ]
          },
          "execution_count": 132,
          "metadata": {},
          "output_type": "execute_result"
        }
      ],
      "source": [
        "djia"
      ]
    },
    {
      "cell_type": "code",
      "execution_count": null,
      "id": "8e609136-5df0-4fc4-a989-6cf63f8bf895",
      "metadata": {
        "id": "8e609136-5df0-4fc4-a989-6cf63f8bf895"
      },
      "outputs": [],
      "source": [
        "djia_ext = StockExt(*djia, 25_000)"
      ]
    },
    {
      "cell_type": "code",
      "execution_count": null,
      "id": "d81ad5dc-d41a-4d7c-be8b-c2cddc36aa21",
      "metadata": {
        "id": "d81ad5dc-d41a-4d7c-be8b-c2cddc36aa21",
        "outputId": "b42447d6-5f22-45e6-e391-2741d2f77142"
      },
      "outputs": [
        {
          "data": {
            "text/plain": [
              "StockExt(symbol='DJIA', year=2019, month=1, day=25, open=26313, high=26458, low=26260, close=26393, previous_close=25000)"
            ]
          },
          "execution_count": 134,
          "metadata": {},
          "output_type": "execute_result"
        }
      ],
      "source": [
        "djia_ext"
      ]
    },
    {
      "cell_type": "markdown",
      "id": "d3c170d3-b7d8-48fb-9892-9549a4001d23",
      "metadata": {
        "id": "d3c170d3-b7d8-48fb-9892-9549a4001d23"
      },
      "source": [
        "or, we can use the `_make` method:"
      ]
    },
    {
      "cell_type": "code",
      "execution_count": null,
      "id": "f8b2f64e-48a5-4276-9797-82e69f69a080",
      "metadata": {
        "id": "f8b2f64e-48a5-4276-9797-82e69f69a080"
      },
      "outputs": [],
      "source": [
        "djia_ext = StockExt._make(djia + (25_000, ))"
      ]
    },
    {
      "cell_type": "code",
      "execution_count": null,
      "id": "da1cdbce-8a6a-4264-aa05-d70360b6b5b9",
      "metadata": {
        "id": "da1cdbce-8a6a-4264-aa05-d70360b6b5b9",
        "outputId": "9b4bbb7e-f08e-47c5-e4b5-22def6357a12"
      },
      "outputs": [
        {
          "data": {
            "text/plain": [
              "StockExt(symbol='DJIA', year=2019, month=1, day=25, open=26313, high=26458, low=26260, close=26393, previous_close=25000)"
            ]
          },
          "execution_count": 136,
          "metadata": {},
          "output_type": "execute_result"
        }
      ],
      "source": [
        "djia_ext"
      ]
    },
    {
      "cell_type": "markdown",
      "id": "57688741-41ab-4658-b4d3-2f7bc12aa437",
      "metadata": {
        "id": "57688741-41ab-4658-b4d3-2f7bc12aa437"
      },
      "source": [
        "### 04 - Named Tuples - Docstings, DefaultValues"
      ]
    },
    {
      "cell_type": "code",
      "execution_count": null,
      "id": "a16f06e3-258b-4d1d-92ed-a0c9a3f62807",
      "metadata": {
        "id": "a16f06e3-258b-4d1d-92ed-a0c9a3f62807"
      },
      "outputs": [],
      "source": [
        "from collections import namedtuple"
      ]
    },
    {
      "cell_type": "markdown",
      "id": "ab02e20b-424d-409a-a765-fdbc75b03961",
      "metadata": {
        "id": "ab02e20b-424d-409a-a765-fdbc75b03961"
      },
      "source": [
        "**Adding DocStrings to Named Tuples**"
      ]
    },
    {
      "cell_type": "markdown",
      "id": "de03800a-f4f6-433e-8ad2-9044eb4403f4",
      "metadata": {
        "id": "de03800a-f4f6-433e-8ad2-9044eb4403f4"
      },
      "source": [
        "This is easy to do, both with the generated class, as well as it's properties."
      ]
    },
    {
      "cell_type": "code",
      "execution_count": null,
      "id": "69654242-e52c-4f35-b737-27cccdaa1847",
      "metadata": {
        "id": "69654242-e52c-4f35-b737-27cccdaa1847"
      },
      "outputs": [],
      "source": [
        "Point2D = namedtuple('Point2D', 'x y')"
      ]
    },
    {
      "cell_type": "code",
      "execution_count": null,
      "id": "629cc65c-5219-482d-8a38-f8d1e9fc6860",
      "metadata": {
        "id": "629cc65c-5219-482d-8a38-f8d1e9fc6860"
      },
      "outputs": [],
      "source": [
        "Point2D.__doc__ = 'Represents a 2D Cartesian coordinate'"
      ]
    },
    {
      "cell_type": "markdown",
      "id": "18e0cf0f-6e56-462e-9416-db0baba9b245",
      "metadata": {
        "id": "18e0cf0f-6e56-462e-9416-db0baba9b245"
      },
      "source": [
        "And we can even add docstrings to the properties:"
      ]
    },
    {
      "cell_type": "code",
      "execution_count": null,
      "id": "5d12d7a7-7165-436d-ac2d-8d13d3b2d1ab",
      "metadata": {
        "id": "5d12d7a7-7165-436d-ac2d-8d13d3b2d1ab"
      },
      "outputs": [],
      "source": [
        "Point2D.x.__doc__ = 'x-coordinate'\n",
        "Point2D.y.__doc__ = 'y-coordinate'"
      ]
    },
    {
      "cell_type": "code",
      "execution_count": null,
      "id": "08452a51-bd2d-4ab6-b4cb-56449b633dc0",
      "metadata": {
        "id": "08452a51-bd2d-4ab6-b4cb-56449b633dc0",
        "outputId": "ae9bc1e6-80d0-4f71-e50a-58189ac879e0"
      },
      "outputs": [
        {
          "name": "stdout",
          "output_type": "stream",
          "text": [
            "Help on class Point2D in module __main__:\n",
            "\n",
            "class Point2D(builtins.tuple)\n",
            " |  Point2D(x, y)\n",
            " |  \n",
            " |  Represents a 2D Cartesian coordinate\n",
            " |  \n",
            " |  Method resolution order:\n",
            " |      Point2D\n",
            " |      builtins.tuple\n",
            " |      builtins.object\n",
            " |  \n",
            " |  Methods defined here:\n",
            " |  \n",
            " |  __getnewargs__(self)\n",
            " |      Return self as a plain tuple.  Used by copy and pickle.\n",
            " |  \n",
            " |  __repr__(self)\n",
            " |      Return a nicely formatted representation string\n",
            " |  \n",
            " |  _asdict(self)\n",
            " |      Return a new dict which maps field names to their values.\n",
            " |  \n",
            " |  _replace(self, /, **kwds)\n",
            " |      Return a new Point2D object replacing specified fields with new values\n",
            " |  \n",
            " |  ----------------------------------------------------------------------\n",
            " |  Class methods defined here:\n",
            " |  \n",
            " |  _make(iterable) from builtins.type\n",
            " |      Make a new Point2D object from a sequence or iterable\n",
            " |  \n",
            " |  ----------------------------------------------------------------------\n",
            " |  Static methods defined here:\n",
            " |  \n",
            " |  __new__(_cls, x, y)\n",
            " |      Create new instance of Point2D(x, y)\n",
            " |  \n",
            " |  ----------------------------------------------------------------------\n",
            " |  Data descriptors defined here:\n",
            " |  \n",
            " |  x\n",
            " |      x-coordinate\n",
            " |  \n",
            " |  y\n",
            " |      y-coordinate\n",
            " |  \n",
            " |  ----------------------------------------------------------------------\n",
            " |  Data and other attributes defined here:\n",
            " |  \n",
            " |  _field_defaults = {}\n",
            " |  \n",
            " |  _fields = ('x', 'y')\n",
            " |  \n",
            " |  ----------------------------------------------------------------------\n",
            " |  Methods inherited from builtins.tuple:\n",
            " |  \n",
            " |  __add__(self, value, /)\n",
            " |      Return self+value.\n",
            " |  \n",
            " |  __contains__(self, key, /)\n",
            " |      Return key in self.\n",
            " |  \n",
            " |  __eq__(self, value, /)\n",
            " |      Return self==value.\n",
            " |  \n",
            " |  __ge__(self, value, /)\n",
            " |      Return self>=value.\n",
            " |  \n",
            " |  __getattribute__(self, name, /)\n",
            " |      Return getattr(self, name).\n",
            " |  \n",
            " |  __getitem__(self, key, /)\n",
            " |      Return self[key].\n",
            " |  \n",
            " |  __gt__(self, value, /)\n",
            " |      Return self>value.\n",
            " |  \n",
            " |  __hash__(self, /)\n",
            " |      Return hash(self).\n",
            " |  \n",
            " |  __iter__(self, /)\n",
            " |      Implement iter(self).\n",
            " |  \n",
            " |  __le__(self, value, /)\n",
            " |      Return self<=value.\n",
            " |  \n",
            " |  __len__(self, /)\n",
            " |      Return len(self).\n",
            " |  \n",
            " |  __lt__(self, value, /)\n",
            " |      Return self<value.\n",
            " |  \n",
            " |  __mul__(self, value, /)\n",
            " |      Return self*value.\n",
            " |  \n",
            " |  __ne__(self, value, /)\n",
            " |      Return self!=value.\n",
            " |  \n",
            " |  __rmul__(self, value, /)\n",
            " |      Return value*self.\n",
            " |  \n",
            " |  count(self, value, /)\n",
            " |      Return number of occurrences of value.\n",
            " |  \n",
            " |  index(self, value, start=0, stop=9223372036854775807, /)\n",
            " |      Return first index of value.\n",
            " |      \n",
            " |      Raises ValueError if the value is not present.\n",
            " |  \n",
            " |  ----------------------------------------------------------------------\n",
            " |  Class methods inherited from builtins.tuple:\n",
            " |  \n",
            " |  __class_getitem__(...) from builtins.type\n",
            " |      See PEP 585\n",
            "\n"
          ]
        }
      ],
      "source": [
        "help(Point2D)"
      ]
    },
    {
      "cell_type": "markdown",
      "id": "e3cb673d-65ff-462b-b528-fd3652cb6b5f",
      "metadata": {
        "id": "e3cb673d-65ff-462b-b528-fd3652cb6b5f"
      },
      "source": [
        "**Adding Default Values to Named Tuples**\n",
        "\n",
        "**Using a Prototype**"
      ]
    },
    {
      "cell_type": "markdown",
      "id": "82bda612-c668-41c1-9ba2-7513a6853d7d",
      "metadata": {
        "id": "82bda612-c668-41c1-9ba2-7513a6853d7d"
      },
      "source": [
        "This technique is in the Python docs, and uses the concept of creating a prototype object that has the default values set:"
      ]
    },
    {
      "cell_type": "code",
      "execution_count": null,
      "id": "86b0b3dd-d9b3-4de7-b41a-95f449521c59",
      "metadata": {
        "id": "86b0b3dd-d9b3-4de7-b41a-95f449521c59"
      },
      "outputs": [],
      "source": [
        "Vector = namedtuple('Vector', 'x1 y1 x2 y2 origin_x origin_y')"
      ]
    },
    {
      "cell_type": "code",
      "execution_count": null,
      "id": "2d61c770-537e-4a1e-9655-069aef055f40",
      "metadata": {
        "id": "2d61c770-537e-4a1e-9655-069aef055f40"
      },
      "outputs": [],
      "source": [
        "vector_zeroorigin = Vector(x1=None, y1=None, x2=None, y2=None, origin_x=0, origin_y=0)"
      ]
    },
    {
      "cell_type": "code",
      "execution_count": null,
      "id": "a6512cbf-c2ec-459c-865a-ab0f2006e62c",
      "metadata": {
        "id": "a6512cbf-c2ec-459c-865a-ab0f2006e62c",
        "outputId": "380e81d9-c160-4697-879e-96c3119dc992"
      },
      "outputs": [
        {
          "data": {
            "text/plain": [
              "Vector(x1=None, y1=None, x2=None, y2=None, origin_x=0, origin_y=0)"
            ]
          },
          "execution_count": 144,
          "metadata": {},
          "output_type": "execute_result"
        }
      ],
      "source": [
        "vector_zeroorigin"
      ]
    },
    {
      "cell_type": "markdown",
      "id": "e1a5f616-9d12-4a34-85b0-18d733bb49ba",
      "metadata": {
        "id": "e1a5f616-9d12-4a34-85b0-18d733bb49ba"
      },
      "source": [
        "The namedtuple `vector_zeroorigin` is now a prototype of a vector with zero origin.\n",
        "\n",
        "To create new vectors using that origin as a default, we no longer use the `Vector` class, but instead use `_replace` as follows:"
      ]
    },
    {
      "cell_type": "code",
      "execution_count": null,
      "id": "38c6a2b3-b1dd-4432-a370-eeae6e0da8b0",
      "metadata": {
        "id": "38c6a2b3-b1dd-4432-a370-eeae6e0da8b0"
      },
      "outputs": [],
      "source": [
        "v1 = vector_zeroorigin._replace(x1=1, y1=1, x2=10, y2=10)"
      ]
    },
    {
      "cell_type": "code",
      "execution_count": null,
      "id": "57bd532d-847e-4be1-b70d-86bb097b19a5",
      "metadata": {
        "id": "57bd532d-847e-4be1-b70d-86bb097b19a5",
        "outputId": "be487d43-240f-4808-d637-7d7a30c57337"
      },
      "outputs": [
        {
          "data": {
            "text/plain": [
              "Vector(x1=1, y1=1, x2=10, y2=10, origin_x=0, origin_y=0)"
            ]
          },
          "execution_count": 146,
          "metadata": {},
          "output_type": "execute_result"
        }
      ],
      "source": [
        "v1"
      ]
    },
    {
      "cell_type": "markdown",
      "id": "94c069a6-7eeb-4203-af1f-a099bd97a7ec",
      "metadata": {
        "id": "94c069a6-7eeb-4203-af1f-a099bd97a7ec"
      },
      "source": [
        "This certainly works, and can be useful in cases where you may want more than one prototype(e.g. `vector_zeroorigin` and `vector_otherorigin`)"
      ]
    },
    {
      "cell_type": "markdown",
      "id": "a2a84375-0819-4e88-9318-aff5e8a5045a",
      "metadata": {
        "id": "a2a84375-0819-4e88-9318-aff5e8a5045a"
      },
      "source": [
        "**Using `__defaults__`**"
      ]
    },
    {
      "cell_type": "markdown",
      "id": "cd489cf9-6777-4348-adfd-ad6775d2566f",
      "metadata": {
        "id": "cd489cf9-6777-4348-adfd-ad6775d2566f"
      },
      "source": [
        "There is an alternative way of doing this. And, in my opinion, a much cleaner alternative.\n",
        "\n",
        "In Python the default values for a function's parameters are stored as a tuple in the `__defaults__` attribute."
      ]
    },
    {
      "cell_type": "code",
      "execution_count": null,
      "id": "41426498-1753-4516-b837-5f12f804f841",
      "metadata": {
        "id": "41426498-1753-4516-b837-5f12f804f841"
      },
      "outputs": [],
      "source": [
        "def func(a, b=20, c=30):\n",
        "    print(a, b, c)"
      ]
    },
    {
      "cell_type": "code",
      "execution_count": null,
      "id": "146c3632-f52e-4ad4-8419-a71b691355f3",
      "metadata": {
        "id": "146c3632-f52e-4ad4-8419-a71b691355f3",
        "outputId": "44c2db5e-cdf0-4d74-a782-b78321ab1c47"
      },
      "outputs": [
        {
          "data": {
            "text/plain": [
              "(20, 30)"
            ]
          },
          "execution_count": 148,
          "metadata": {},
          "output_type": "execute_result"
        }
      ],
      "source": [
        "func.__defaults__"
      ]
    },
    {
      "cell_type": "code",
      "execution_count": null,
      "id": "00b552b9-a586-4467-b618-2c3ddc47b221",
      "metadata": {
        "id": "00b552b9-a586-4467-b618-2c3ddc47b221",
        "outputId": "23fdd6bc-6cc2-459f-a452-63e73c015882"
      },
      "outputs": [
        {
          "name": "stdout",
          "output_type": "stream",
          "text": [
            "10 20 30\n"
          ]
        }
      ],
      "source": [
        "func(10)"
      ]
    },
    {
      "cell_type": "markdown",
      "id": "cddaea83-6dd4-4129-baa6-4827a287f586",
      "metadata": {
        "id": "cddaea83-6dd4-4129-baa6-4827a287f586"
      },
      "source": [
        "But the `__defaults__` property is writable:"
      ]
    },
    {
      "cell_type": "code",
      "execution_count": null,
      "id": "9f07596f-57a8-4bf1-b62c-c4f7f70c0e2d",
      "metadata": {
        "id": "9f07596f-57a8-4bf1-b62c-c4f7f70c0e2d"
      },
      "outputs": [],
      "source": [
        "func.__defaults__ = (200, 300)"
      ]
    },
    {
      "cell_type": "code",
      "execution_count": null,
      "id": "a6933224-bfe3-4d67-ab94-202a42ac351f",
      "metadata": {
        "id": "a6933224-bfe3-4d67-ab94-202a42ac351f",
        "outputId": "43f1d43e-8076-4183-f840-d3faa8c7ae00"
      },
      "outputs": [
        {
          "name": "stdout",
          "output_type": "stream",
          "text": [
            "10 200 300\n"
          ]
        }
      ],
      "source": [
        "func(10)"
      ]
    },
    {
      "cell_type": "markdown",
      "id": "f5db4884-6000-4278-9425-16bbd9e6ef16",
      "metadata": {
        "id": "f5db4884-6000-4278-9425-16bbd9e6ef16"
      },
      "source": [
        "In this case, the function we are interested in specifying default values for, is the named tuple class constructor, i.e. `__new__`\n",
        "\n",
        "So, we will simply need to set `Vector.__new__.__defaults__` to the desired tuple of default values.\n",
        "\n",
        "The only thing to note is that if you specify less default values (say `m` values) than the total number of arguments (say `n` values, where `m < n`), then the defaults will apply to the **last** `m` values. Think of it as writing out your field names and default values on two lines, and right-aligning them. (If you specify more, then the values at the beginning are effectively ignored)"
      ]
    },
    {
      "cell_type": "code",
      "execution_count": null,
      "id": "6eb2e164-08d6-4445-ba8a-53bf45225653",
      "metadata": {
        "id": "6eb2e164-08d6-4445-ba8a-53bf45225653"
      },
      "outputs": [],
      "source": [
        "Vector.__new__.__defaults__ = (0, 0)"
      ]
    },
    {
      "cell_type": "markdown",
      "id": "724d2c1e-a4a3-454b-b9be-caed77fdf23c",
      "metadata": {
        "id": "724d2c1e-a4a3-454b-b9be-caed77fdf23c"
      },
      "source": [
        "Here I am basically setting default values for the last two elements only, i.e `origin_x` and `origin_y`."
      ]
    },
    {
      "cell_type": "code",
      "execution_count": null,
      "id": "46f9237f-34c6-4c0b-aa5e-4e69679ff522",
      "metadata": {
        "id": "46f9237f-34c6-4c0b-aa5e-4e69679ff522"
      },
      "outputs": [],
      "source": [
        "v1 = Vector(0, 0, 10, 10, -10, -10)"
      ]
    },
    {
      "cell_type": "code",
      "execution_count": null,
      "id": "1e03b170-0976-4414-9a4a-873ef2210ebd",
      "metadata": {
        "id": "1e03b170-0976-4414-9a4a-873ef2210ebd",
        "outputId": "4802264a-839e-4284-8871-0343f01e9b14"
      },
      "outputs": [
        {
          "data": {
            "text/plain": [
              "Vector(x1=0, y1=0, x2=10, y2=10, origin_x=-10, origin_y=-10)"
            ]
          },
          "execution_count": 154,
          "metadata": {},
          "output_type": "execute_result"
        }
      ],
      "source": [
        "v1"
      ]
    },
    {
      "cell_type": "code",
      "execution_count": null,
      "id": "ef1369e3-264b-45de-a016-01e69d32b5f5",
      "metadata": {
        "id": "ef1369e3-264b-45de-a016-01e69d32b5f5"
      },
      "outputs": [],
      "source": [
        "v2 = Vector(5, 5, 20, 20)"
      ]
    },
    {
      "cell_type": "code",
      "execution_count": null,
      "id": "4edfed45-2d14-4f7e-b019-8eab199b8453",
      "metadata": {
        "id": "4edfed45-2d14-4f7e-b019-8eab199b8453",
        "outputId": "436e69d2-2637-4e59-cace-2594fb6ff8ac"
      },
      "outputs": [
        {
          "data": {
            "text/plain": [
              "Vector(x1=5, y1=5, x2=20, y2=20, origin_x=0, origin_y=0)"
            ]
          },
          "execution_count": 156,
          "metadata": {},
          "output_type": "execute_result"
        }
      ],
      "source": [
        "v2"
      ]
    },
    {
      "cell_type": "code",
      "execution_count": null,
      "id": "01fb5504-59db-46d2-8994-b2984d530adf",
      "metadata": {
        "id": "01fb5504-59db-46d2-8994-b2984d530adf"
      },
      "outputs": [],
      "source": [
        "v3 = Vector(x1=1, y1=1, x2=10, y2=10, origin_x=0, origin_y=0)"
      ]
    },
    {
      "cell_type": "code",
      "execution_count": null,
      "id": "49b921fb-0f19-4138-8bcc-beac361d3c4c",
      "metadata": {
        "id": "49b921fb-0f19-4138-8bcc-beac361d3c4c",
        "outputId": "69e1c2d3-d893-4607-d852-98d4c577e42e"
      },
      "outputs": [
        {
          "data": {
            "text/plain": [
              "Vector(x1=1, y1=1, x2=10, y2=10, origin_x=0, origin_y=0)"
            ]
          },
          "execution_count": 158,
          "metadata": {},
          "output_type": "execute_result"
        }
      ],
      "source": [
        "v3"
      ]
    },
    {
      "cell_type": "markdown",
      "id": "bd2e8b1c-69fd-4f0b-8a8e-d1f353abce74",
      "metadata": {
        "id": "bd2e8b1c-69fd-4f0b-8a8e-d1f353abce74"
      },
      "source": [
        "An even simpler way to set default values if you want **all** defaults to be the same:"
      ]
    },
    {
      "cell_type": "code",
      "execution_count": null,
      "id": "5bbec8d5-7a72-44e9-a618-90ae29bf9c50",
      "metadata": {
        "id": "5bbec8d5-7a72-44e9-a618-90ae29bf9c50"
      },
      "outputs": [],
      "source": [
        "Vector.__new__.__defaults__ = (0,) * len(Vector._fields)"
      ]
    },
    {
      "cell_type": "code",
      "execution_count": null,
      "id": "d2ad0db6-df72-4510-a7c3-01b385fec8b7",
      "metadata": {
        "id": "d2ad0db6-df72-4510-a7c3-01b385fec8b7"
      },
      "outputs": [],
      "source": [
        "v5 = Vector()"
      ]
    },
    {
      "cell_type": "code",
      "execution_count": null,
      "id": "3028d3ee-d590-4557-90e9-ada738240af2",
      "metadata": {
        "id": "3028d3ee-d590-4557-90e9-ada738240af2",
        "outputId": "36bc2208-74d3-4eaf-e14f-3ade4be256aa"
      },
      "outputs": [
        {
          "data": {
            "text/plain": [
              "Vector(x1=0, y1=0, x2=0, y2=0, origin_x=0, origin_y=0)"
            ]
          },
          "execution_count": 161,
          "metadata": {},
          "output_type": "execute_result"
        }
      ],
      "source": [
        "v5"
      ]
    },
    {
      "cell_type": "markdown",
      "id": "620ee7b6-ebbe-46b9-a532-d6c1db1793ab",
      "metadata": {
        "id": "620ee7b6-ebbe-46b9-a532-d6c1db1793ab"
      },
      "source": [
        "Of course, the usual admonishment of not using mutable default values holds here as well."
      ]
    },
    {
      "cell_type": "markdown",
      "id": "3bde7e70-3c87-4d75-b3ce-1d0958a4f9b1",
      "metadata": {
        "id": "3bde7e70-3c87-4d75-b3ce-1d0958a4f9b1"
      },
      "source": [
        "### 05 - Named Tuples - Application - Alternative to Dictionaries"
      ]
    },
    {
      "cell_type": "markdown",
      "id": "4f14f952-ca7d-4e5b-b684-00f1d35cfc59",
      "metadata": {
        "id": "4f14f952-ca7d-4e5b-b684-00f1d35cfc59"
      },
      "source": [
        "---\n",
        "**BE CAREFUL!**\n",
        "\n",
        "*First an important caveat: all this really only works for dictionaries with **string** keys. Dictionary keys can be other hashable data types, (including tuples, as long as they contain hashable types in turn), and these examples will not work with those types of dictionaries.*"
      ]
    },
    {
      "cell_type": "code",
      "execution_count": null,
      "id": "b7adc770-d283-4e7c-8f7d-5ca89927269e",
      "metadata": {
        "id": "b7adc770-d283-4e7c-8f7d-5ca89927269e"
      },
      "outputs": [],
      "source": [
        "from collections import namedtuple"
      ]
    },
    {
      "cell_type": "code",
      "execution_count": null,
      "id": "033b4456-4dca-457b-9541-dd71b23a1a48",
      "metadata": {
        "id": "033b4456-4dca-457b-9541-dd71b23a1a48"
      },
      "outputs": [],
      "source": [
        "data_dict = dict(key1=100, key2=200, key3=300)"
      ]
    },
    {
      "cell_type": "code",
      "execution_count": null,
      "id": "ef66b79c-ad8d-41bc-8ae4-24e10f59ea36",
      "metadata": {
        "id": "ef66b79c-ad8d-41bc-8ae4-24e10f59ea36"
      },
      "outputs": [],
      "source": [
        "Data = namedtuple('Data', data_dict.keys())"
      ]
    },
    {
      "cell_type": "code",
      "execution_count": null,
      "id": "76737348-9ec1-4595-bf1b-88a4c1eda628",
      "metadata": {
        "id": "76737348-9ec1-4595-bf1b-88a4c1eda628",
        "outputId": "6e6f4889-ae9e-42d2-ce9d-29e835d294b5"
      },
      "outputs": [
        {
          "data": {
            "text/plain": [
              "('key1', 'key2', 'key3')"
            ]
          },
          "execution_count": 165,
          "metadata": {},
          "output_type": "execute_result"
        }
      ],
      "source": [
        "Data._fields"
      ]
    },
    {
      "cell_type": "markdown",
      "id": "856e355e-ea54-4e5c-85d9-4d25fedaa598",
      "metadata": {
        "id": "856e355e-ea54-4e5c-85d9-4d25fedaa598"
      },
      "source": [
        "Noe we can create an instance of the `Data` namedtuple using the data in the `data_dict` dictionary.\n",
        "\n",
        "We could try the following (bad idea):"
      ]
    },
    {
      "cell_type": "code",
      "execution_count": null,
      "id": "1288cd8d-b69a-44e3-8357-2e947f372cd9",
      "metadata": {
        "id": "1288cd8d-b69a-44e3-8357-2e947f372cd9"
      },
      "outputs": [],
      "source": [
        "d1 = Data(*data_dict.values())"
      ]
    },
    {
      "cell_type": "code",
      "execution_count": null,
      "id": "f22c441a-d365-49c2-ad40-95bd0c956414",
      "metadata": {
        "id": "f22c441a-d365-49c2-ad40-95bd0c956414",
        "outputId": "c4fbf40a-e958-44b7-ecd7-7f17cf5f35db"
      },
      "outputs": [
        {
          "data": {
            "text/plain": [
              "Data(key1=100, key2=200, key3=300)"
            ]
          },
          "execution_count": 167,
          "metadata": {},
          "output_type": "execute_result"
        }
      ],
      "source": [
        "d1"
      ]
    },
    {
      "cell_type": "markdown",
      "id": "e8e6b42d-627e-49ad-b9b6-00e2e32385a3",
      "metadata": {
        "id": "e8e6b42d-627e-49ad-b9b6-00e2e32385a3"
      },
      "source": [
        "This looks like it worked.\n",
        "\n",
        "But consider this second dictionary, where we do not create the keys in the same order:"
      ]
    },
    {
      "cell_type": "code",
      "execution_count": null,
      "id": "e2343d74-911b-4396-8dee-4f52358cda58",
      "metadata": {
        "id": "e2343d74-911b-4396-8dee-4f52358cda58"
      },
      "outputs": [],
      "source": [
        "data_dict_2 = dict(key1=100, key3=300, key2=200)"
      ]
    },
    {
      "cell_type": "code",
      "execution_count": null,
      "id": "e59b47be-7270-4811-973d-b574c6c161c3",
      "metadata": {
        "id": "e59b47be-7270-4811-973d-b574c6c161c3"
      },
      "outputs": [],
      "source": [
        "d2 = Data(*data_dict_2.values())"
      ]
    },
    {
      "cell_type": "code",
      "execution_count": null,
      "id": "732fef7f-71df-43d4-96c7-783424dda0fa",
      "metadata": {
        "id": "732fef7f-71df-43d4-96c7-783424dda0fa",
        "outputId": "cd5fa1ec-eca5-4b38-ae5e-a6b38c0ff9e2"
      },
      "outputs": [
        {
          "data": {
            "text/plain": [
              "Data(key1=100, key2=300, key3=200)"
            ]
          },
          "execution_count": 170,
          "metadata": {},
          "output_type": "execute_result"
        }
      ],
      "source": [
        "d2"
      ]
    },
    {
      "cell_type": "markdown",
      "id": "3089b1fb-d703-4eb7-b894-08e7b80b3044",
      "metadata": {
        "id": "3089b1fb-d703-4eb7-b894-08e7b80b3044"
      },
      "source": [
        "Obviously this went terribly wrong!\n",
        "\n",
        "We cannot guarantee that the order of `values()` will be in the same order as the keys (in our named tuple and in the dictionary).\n",
        "\n",
        "Instead, we should unpack the dictionary itself, resulting in keyword arguments that will be passed to the `Data` constructor:"
      ]
    },
    {
      "cell_type": "code",
      "execution_count": null,
      "id": "fccc7c1d-0e18-4b9d-85e6-14d0c000a130",
      "metadata": {
        "id": "fccc7c1d-0e18-4b9d-85e6-14d0c000a130"
      },
      "outputs": [],
      "source": [
        "d2 = Data(**data_dict_2)"
      ]
    },
    {
      "cell_type": "code",
      "execution_count": null,
      "id": "42b955fe-8d2e-4eba-b968-e5c8d3fb8c75",
      "metadata": {
        "id": "42b955fe-8d2e-4eba-b968-e5c8d3fb8c75",
        "outputId": "0e711a08-3943-4218-b6b2-09078d32a210"
      },
      "outputs": [
        {
          "data": {
            "text/plain": [
              "Data(key1=100, key2=200, key3=300)"
            ]
          },
          "execution_count": 172,
          "metadata": {},
          "output_type": "execute_result"
        }
      ],
      "source": [
        "d2"
      ]
    },
    {
      "cell_type": "markdown",
      "id": "7a635af5-5cb0-437c-82a5-f01b58454439",
      "metadata": {
        "id": "7a635af5-5cb0-437c-82a5-f01b58454439"
      },
      "source": [
        "So, the pattern to create a named tuple out of a single dictionary is straightforward:\n",
        "\n",
        "For any dictionary `d` we can created a named tuple class and insert the data into it as follows:\n",
        "\n",
        "```\n",
        "1. Struct = namedtuple('Struct', d.keys())\n",
        "2. data = Struct(**d)\n",
        "```\n",
        "\n",
        "Because dictionaries now preserve key order, the order of the fields in the named tuple structure will be the same. IF you want your fields to be sorted in a different way, just sort the keys when you create the named tuple class. For example, to have keys sorted alphabetically we could do:"
      ]
    },
    {
      "cell_type": "code",
      "execution_count": null,
      "id": "1727c382-f747-4f71-8fa2-eac691470b75",
      "metadata": {
        "id": "1727c382-f747-4f71-8fa2-eac691470b75"
      },
      "outputs": [],
      "source": [
        "data_dict = dict(first_name='John', last_name='Cleese', age=42, complaint='dead parrot')"
      ]
    },
    {
      "cell_type": "code",
      "execution_count": null,
      "id": "6d80d958-755c-4693-9eb9-5144153b5c65",
      "metadata": {
        "id": "6d80d958-755c-4693-9eb9-5144153b5c65",
        "outputId": "5b6f1549-de5b-4c1c-ae6f-d18537ee2ff8"
      },
      "outputs": [
        {
          "data": {
            "text/plain": [
              "dict_keys(['first_name', 'last_name', 'age', 'complaint'])"
            ]
          },
          "execution_count": 174,
          "metadata": {},
          "output_type": "execute_result"
        }
      ],
      "source": [
        "data_dict.keys()"
      ]
    },
    {
      "cell_type": "code",
      "execution_count": null,
      "id": "f5f1bb97-3132-426f-96e2-8bde58e0ca4e",
      "metadata": {
        "id": "f5f1bb97-3132-426f-96e2-8bde58e0ca4e",
        "outputId": "cd8a4a48-f2da-4bb6-aa3a-3bccb9ebe221"
      },
      "outputs": [
        {
          "data": {
            "text/plain": [
              "['age', 'complaint', 'first_name', 'last_name']"
            ]
          },
          "execution_count": 175,
          "metadata": {},
          "output_type": "execute_result"
        }
      ],
      "source": [
        "sorted(data_dict.keys())"
      ]
    },
    {
      "cell_type": "code",
      "execution_count": null,
      "id": "4d85ae44-6fff-4962-8b86-016d49963588",
      "metadata": {
        "id": "4d85ae44-6fff-4962-8b86-016d49963588"
      },
      "outputs": [],
      "source": [
        "Struct = namedtuple('Struct', sorted(data_dict.keys()))"
      ]
    },
    {
      "cell_type": "code",
      "execution_count": null,
      "id": "2394259c-e338-4006-8c85-9ae03299d157",
      "metadata": {
        "id": "2394259c-e338-4006-8c85-9ae03299d157",
        "outputId": "0ba95f87-3ecc-4f62-bae2-0209559c68cd"
      },
      "outputs": [
        {
          "data": {
            "text/plain": [
              "('age', 'complaint', 'first_name', 'last_name')"
            ]
          },
          "execution_count": 177,
          "metadata": {},
          "output_type": "execute_result"
        }
      ],
      "source": [
        "Struct._fields"
      ]
    },
    {
      "cell_type": "markdown",
      "id": "1282b03c-8d91-498e-a591-7305e2e972e4",
      "metadata": {
        "id": "1282b03c-8d91-498e-a591-7305e2e972e4"
      },
      "source": [
        "Of course we can still put in the correct values from the dictionary into the correct slots in the tuple by unpacking the dictionary instead of just the values:"
      ]
    },
    {
      "cell_type": "code",
      "execution_count": null,
      "id": "aa0a8cbd-3e2b-45f1-82cc-fbf346ce7222",
      "metadata": {
        "id": "aa0a8cbd-3e2b-45f1-82cc-fbf346ce7222"
      },
      "outputs": [],
      "source": [
        "d1 = Struct(**data_dict)"
      ]
    },
    {
      "cell_type": "code",
      "execution_count": null,
      "id": "efbb1164-740a-452a-8437-99770f89102d",
      "metadata": {
        "id": "efbb1164-740a-452a-8437-99770f89102d",
        "outputId": "b270f124-8dc7-4feb-fbed-95117dedbda8"
      },
      "outputs": [
        {
          "data": {
            "text/plain": [
              "Struct(age=42, complaint='dead parrot', first_name='John', last_name='Cleese')"
            ]
          },
          "execution_count": 179,
          "metadata": {},
          "output_type": "execute_result"
        }
      ],
      "source": [
        "d1"
      ]
    },
    {
      "cell_type": "markdown",
      "id": "aacaf826-8f3c-42a1-9a8e-9f978f5670cb",
      "metadata": {
        "id": "aacaf826-8f3c-42a1-9a8e-9f978f5670cb"
      },
      "source": [
        "And of course, since this is now a named tıple we can access the data using the field name:"
      ]
    },
    {
      "cell_type": "code",
      "execution_count": null,
      "id": "d325ccbb-6a89-4fb5-a09e-d86dd6ef6bbd",
      "metadata": {
        "id": "d325ccbb-6a89-4fb5-a09e-d86dd6ef6bbd",
        "outputId": "d7ae4eef-134f-40d4-eb69-11325beb7db0"
      },
      "outputs": [
        {
          "data": {
            "text/plain": [
              "'dead parrot'"
            ]
          },
          "execution_count": 181,
          "metadata": {},
          "output_type": "execute_result"
        }
      ],
      "source": [
        "d1.complaint"
      ]
    },
    {
      "cell_type": "markdown",
      "id": "289ac0f4-55e3-4cbb-a3ae-8e45223045da",
      "metadata": {
        "id": "289ac0f4-55e3-4cbb-a3ae-8e45223045da"
      },
      "source": [
        "instead of how we would have done it with the dictionary:"
      ]
    },
    {
      "cell_type": "code",
      "execution_count": null,
      "id": "90ce62d9-1ba4-4066-aacb-50a40004ad69",
      "metadata": {
        "id": "90ce62d9-1ba4-4066-aacb-50a40004ad69",
        "outputId": "65235206-1a8a-4a22-e7cd-048be1c5a7d6"
      },
      "outputs": [
        {
          "data": {
            "text/plain": [
              "'dead parrot'"
            ]
          },
          "execution_count": 182,
          "metadata": {},
          "output_type": "execute_result"
        }
      ],
      "source": [
        "data_dict['complaint']"
      ]
    },
    {
      "cell_type": "markdown",
      "id": "f4fc1e34-f098-42dd-a55e-85fbc1738a62",
      "metadata": {
        "id": "f4fc1e34-f098-42dd-a55e-85fbc1738a62"
      },
      "source": [
        "I also want to point out that with dictionaries we often end up with code where the key is stored in some variable and then referenced this way:"
      ]
    },
    {
      "cell_type": "code",
      "execution_count": null,
      "id": "e3fda336-7850-4601-a009-13fefcec4729",
      "metadata": {
        "id": "e3fda336-7850-4601-a009-13fefcec4729",
        "outputId": "9ac50067-058f-45df-9077-890e0ede4e03"
      },
      "outputs": [
        {
          "data": {
            "text/plain": [
              "42"
            ]
          },
          "execution_count": 183,
          "metadata": {},
          "output_type": "execute_result"
        }
      ],
      "source": [
        "key_name = 'age'\n",
        "data_dict[key_name]"
      ]
    },
    {
      "cell_type": "markdown",
      "id": "8bba3b9a-cdf2-42aa-93fc-6f78363837b3",
      "metadata": {
        "id": "8bba3b9a-cdf2-42aa-93fc-6f78363837b3"
      },
      "source": [
        "We cannot use this appoach directly with named tuples however. For example this will not work:"
      ]
    },
    {
      "cell_type": "code",
      "execution_count": null,
      "id": "04614a32-1ceb-48b8-8e18-1fd02532cb62",
      "metadata": {
        "id": "04614a32-1ceb-48b8-8e18-1fd02532cb62",
        "outputId": "20efff5b-78c6-45a5-f493-67ddf0703ce0"
      },
      "outputs": [
        {
          "ename": "AttributeError",
          "evalue": "'Struct' object has no attribute 'key_name'",
          "output_type": "error",
          "traceback": [
            "\u001b[1;31m---------------------------------------------------------------------------\u001b[0m",
            "\u001b[1;31mAttributeError\u001b[0m                            Traceback (most recent call last)",
            "Input \u001b[1;32mIn [184]\u001b[0m, in \u001b[0;36m<cell line: 2>\u001b[1;34m()\u001b[0m\n\u001b[0;32m      1\u001b[0m key_name \u001b[38;5;241m=\u001b[39m \u001b[38;5;124m'\u001b[39m\u001b[38;5;124mage\u001b[39m\u001b[38;5;124m'\u001b[39m\n\u001b[1;32m----> 2\u001b[0m \u001b[43md1\u001b[49m\u001b[38;5;241;43m.\u001b[39;49m\u001b[43mkey_name\u001b[49m\n",
            "\u001b[1;31mAttributeError\u001b[0m: 'Struct' object has no attribute 'key_name'"
          ]
        }
      ],
      "source": [
        "key_name = 'age'\n",
        "d1.key_name"
      ]
    },
    {
      "cell_type": "markdown",
      "id": "a36455c8-96ef-4093-bc09-521aac5aec69",
      "metadata": {
        "id": "a36455c8-96ef-4093-bc09-521aac5aec69"
      },
      "source": [
        "However, we can use the `getattr` function that we have seen before:"
      ]
    },
    {
      "cell_type": "code",
      "execution_count": null,
      "id": "488b140e-fd15-44c4-9036-d0d981cbabc5",
      "metadata": {
        "id": "488b140e-fd15-44c4-9036-d0d981cbabc5",
        "outputId": "b1871683-e0ea-42ab-d3e5-099e9a8171c9"
      },
      "outputs": [
        {
          "data": {
            "text/plain": [
              "42"
            ]
          },
          "execution_count": 185,
          "metadata": {},
          "output_type": "execute_result"
        }
      ],
      "source": [
        "key_name = 'age'\n",
        "getattr(d1, key_name)"
      ]
    },
    {
      "cell_type": "markdown",
      "id": "010a2035-1f56-4133-9c94-11fc6fe24f06",
      "metadata": {
        "id": "010a2035-1f56-4133-9c94-11fc6fe24f06"
      },
      "source": [
        "We also have the `get` method on dictionaries that can specify a default value to return if the key does not exist:"
      ]
    },
    {
      "cell_type": "code",
      "execution_count": null,
      "id": "e38981d8-7c96-4ff0-87e0-7ac28321891b",
      "metadata": {
        "id": "e38981d8-7c96-4ff0-87e0-7ac28321891b",
        "outputId": "0fe3c536-f478-4657-9f5e-e91762767169"
      },
      "outputs": [
        {
          "data": {
            "text/plain": [
              "(42, None)"
            ]
          },
          "execution_count": 186,
          "metadata": {},
          "output_type": "execute_result"
        }
      ],
      "source": [
        "data_dict.get('age', None), data_dict.get('invalid_key', None)"
      ]
    },
    {
      "cell_type": "markdown",
      "id": "d69aa62d-4704-4911-8545-8aa576e1f978",
      "metadata": {
        "id": "d69aa62d-4704-4911-8545-8aa576e1f978"
      },
      "source": [
        "And we can do the same with the `getattr` function:"
      ]
    },
    {
      "cell_type": "code",
      "execution_count": null,
      "id": "0ade449c-de06-40c6-a401-7a55d316ab62",
      "metadata": {
        "id": "0ade449c-de06-40c6-a401-7a55d316ab62",
        "outputId": "7647e550-6c20-4011-c1dc-89bf8dfc507a"
      },
      "outputs": [
        {
          "data": {
            "text/plain": [
              "(42, None)"
            ]
          },
          "execution_count": 187,
          "metadata": {},
          "output_type": "execute_result"
        }
      ],
      "source": [
        "getattr(d1, 'age', None), getattr(d1, 'invalid_field', None)"
      ]
    },
    {
      "cell_type": "markdown",
      "id": "891ac149-e054-4fba-9e96-658e4c713f86",
      "metadata": {
        "id": "891ac149-e054-4fba-9e96-658e4c713f86"
      },
      "source": [
        "Now this is not very useful if you are only working with a single instance of a dictionary that has yhe same set of keys. Kind of pointless really.\n",
        "\n",
        "You also do not want to create a new named tuple for every instance of a dictionary - that would just be way too much overhead.\n",
        "\n",
        "But in cases where you havve a collection of dictionaries that share a common set of keys, this can be really useful, as long as you are willing to live with the fact that you now have immutable structures.\n",
        "\n",
        "Let's suppose we have this data list:"
      ]
    },
    {
      "cell_type": "code",
      "execution_count": null,
      "id": "34410c4a-581a-4553-89cd-f2dec275bca4",
      "metadata": {
        "id": "34410c4a-581a-4553-89cd-f2dec275bca4"
      },
      "outputs": [],
      "source": [
        "data_list = [\n",
        "    {'key1': 1, 'key2': 2},\n",
        "    {'key1': 3, 'key2': 4},\n",
        "    {'key1': 5, 'key2': 6, 'key3': 7},\n",
        "    {'key2': 100}\n",
        "]"
      ]
    },
    {
      "cell_type": "markdown",
      "id": "f6516df0-4722-4bce-aa61-d6612267f45e",
      "metadata": {
        "id": "f6516df0-4722-4bce-aa61-d6612267f45e"
      },
      "source": [
        "The first thing to note is that we need to figure out all the possible keys that have been used in the dictionaries in this list.\n",
        "\n",
        "The easisest way to do this is to extract all the keys of all the dictionaries and then make a `set` out of them, to eliminate duplicate key names:\n",
        "\n",
        "We could do it this way, using a simple loop:"
      ]
    },
    {
      "cell_type": "code",
      "execution_count": null,
      "id": "7854d0c6-e8b8-424b-ac0e-2b0097f95a48",
      "metadata": {
        "id": "7854d0c6-e8b8-424b-ac0e-2b0097f95a48"
      },
      "outputs": [],
      "source": [
        "keys = set()\n",
        "for d in data_list:\n",
        "    for key in d.keys():\n",
        "        keys.add(key)"
      ]
    },
    {
      "cell_type": "code",
      "execution_count": null,
      "id": "952ebaf1-344e-4de4-9e23-fca0a2e24063",
      "metadata": {
        "id": "952ebaf1-344e-4de4-9e23-fca0a2e24063",
        "outputId": "52ba1321-5f6e-43b5-cfbc-9181c1b62cec"
      },
      "outputs": [
        {
          "data": {
            "text/plain": [
              "{'key1', 'key2', 'key3'}"
            ]
          },
          "execution_count": 190,
          "metadata": {},
          "output_type": "execute_result"
        }
      ],
      "source": [
        "keys"
      ]
    },
    {
      "cell_type": "markdown",
      "id": "f7f981d0-98ad-4794-8b8f-5af8328c6a36",
      "metadata": {
        "id": "f7f981d0-98ad-4794-8b8f-5af8328c6a36"
      },
      "source": [
        "But actually a more efficient way would b to use a comprehension:"
      ]
    },
    {
      "cell_type": "code",
      "execution_count": null,
      "id": "bcaaa345-af16-40e9-ba7d-590a97d8aa9e",
      "metadata": {
        "id": "bcaaa345-af16-40e9-ba7d-590a97d8aa9e"
      },
      "outputs": [],
      "source": [
        "keys = {key for dict_ in data_list for key in dict_.keys()}"
      ]
    },
    {
      "cell_type": "code",
      "execution_count": null,
      "id": "541a284a-3780-4f51-9078-3bec9e9bad3b",
      "metadata": {
        "id": "541a284a-3780-4f51-9078-3bec9e9bad3b",
        "outputId": "e4482539-ec34-4a22-cfb3-bfce833e1463"
      },
      "outputs": [
        {
          "data": {
            "text/plain": [
              "{'key1', 'key2', 'key3'}"
            ]
          },
          "execution_count": 192,
          "metadata": {},
          "output_type": "execute_result"
        }
      ],
      "source": [
        "keys"
      ]
    },
    {
      "cell_type": "markdown",
      "id": "87c518f8-a385-4911-9e05-b1eecd3550ff",
      "metadata": {
        "id": "87c518f8-a385-4911-9e05-b1eecd3550ff"
      },
      "source": [
        "In fact, we canalso use the fact that we can union multiple sets (we'll cover this in detail later) by unpacking all the keys and creating a union of them:"
      ]
    },
    {
      "cell_type": "code",
      "execution_count": null,
      "id": "2aa9d5cf-37dd-4424-8a4a-6c4bcace9985",
      "metadata": {
        "id": "2aa9d5cf-37dd-4424-8a4a-6c4bcace9985"
      },
      "outputs": [],
      "source": [
        "keys = set().union(*(dict_.keys() for dict_ in data_list))"
      ]
    },
    {
      "cell_type": "code",
      "execution_count": null,
      "id": "3ff31b68-e461-49f1-b0da-03eab6fc6060",
      "metadata": {
        "id": "3ff31b68-e461-49f1-b0da-03eab6fc6060",
        "outputId": "6485a368-a58f-49fc-d248-7a076aee4533"
      },
      "outputs": [
        {
          "data": {
            "text/plain": [
              "{'key1', 'key2', 'key3'}"
            ]
          },
          "execution_count": 196,
          "metadata": {},
          "output_type": "execute_result"
        }
      ],
      "source": [
        "keys"
      ]
    },
    {
      "cell_type": "markdown",
      "id": "2c6c1a54-862e-4fd5-ab07-642cfa35a1ca",
      "metadata": {
        "id": "2c6c1a54-862e-4fd5-ab07-642cfa35a1ca"
      },
      "source": [
        "However you do it, we end up with a set of all the possible keys used in our list of dictionaries.\n",
        "\n",
        "Now we can go ahead and create a named tuple with all those keys as fields:"
      ]
    },
    {
      "cell_type": "code",
      "execution_count": null,
      "id": "c7b1993c-4086-4d0d-807e-0de9b76ca6ac",
      "metadata": {
        "id": "c7b1993c-4086-4d0d-807e-0de9b76ca6ac"
      },
      "outputs": [],
      "source": [
        "Struct = namedtuple('Struct', keys)"
      ]
    },
    {
      "cell_type": "code",
      "execution_count": null,
      "id": "1850f42f-0fc4-4dff-b607-e3b0d3809f6a",
      "metadata": {
        "id": "1850f42f-0fc4-4dff-b607-e3b0d3809f6a",
        "outputId": "776511bc-4a91-4d9a-d3cf-d0b1a92e8362"
      },
      "outputs": [
        {
          "data": {
            "text/plain": [
              "('key2', 'key1', 'key3')"
            ]
          },
          "execution_count": 198,
          "metadata": {},
          "output_type": "execute_result"
        }
      ],
      "source": [
        "Struct._fields"
      ]
    },
    {
      "cell_type": "markdown",
      "id": "d38eece3-02ef-49a6-95a8-be5f1fedfc46",
      "metadata": {
        "id": "d38eece3-02ef-49a6-95a8-be5f1fedfc46"
      },
      "source": [
        "As you can see, sets do not preserve order, so in this case we'll probably sort the keys to create our named tuple:"
      ]
    },
    {
      "cell_type": "code",
      "execution_count": null,
      "id": "490d4d14-901b-448a-8ec6-03724e678b47",
      "metadata": {
        "id": "490d4d14-901b-448a-8ec6-03724e678b47"
      },
      "outputs": [],
      "source": [
        "Struct = namedtuple('Struct', sorted(keys))"
      ]
    },
    {
      "cell_type": "code",
      "execution_count": null,
      "id": "0e77b3a5-5f20-4242-9d0d-094e46a02495",
      "metadata": {
        "id": "0e77b3a5-5f20-4242-9d0d-094e46a02495",
        "outputId": "77bb5bab-e331-41fe-9ce1-a0b66d26c9d7"
      },
      "outputs": [
        {
          "data": {
            "text/plain": [
              "('key1', 'key2', 'key3')"
            ]
          },
          "execution_count": 200,
          "metadata": {},
          "output_type": "execute_result"
        }
      ],
      "source": [
        "Struct._fields"
      ]
    },
    {
      "cell_type": "markdown",
      "id": "f3a090a9-32bb-4ef4-b2fe-ab9f8e47dd2f",
      "metadata": {
        "id": "f3a090a9-32bb-4ef4-b2fe-ab9f8e47dd2f"
      },
      "source": [
        "Now, we're also going to provide default values, since not all dictionaries have all the keys in them. In this case I'm going to set the default to `None` if the key is missing:"
      ]
    },
    {
      "cell_type": "code",
      "execution_count": null,
      "id": "59faf179-2ccd-456a-9eec-27cea9a9fb4d",
      "metadata": {
        "id": "59faf179-2ccd-456a-9eec-27cea9a9fb4d"
      },
      "outputs": [],
      "source": [
        "Struct.__new__.__defaults__ = (None, ) * len(Struct._fields)"
      ]
    },
    {
      "cell_type": "markdown",
      "id": "ae371ffc-6b58-4a6c-91f8-8f4e174c3188",
      "metadata": {
        "id": "ae371ffc-6b58-4a6c-91f8-8f4e174c3188"
      },
      "source": [
        "Now we're ready to load up all thse dictionaries into a new list of named tuples:"
      ]
    },
    {
      "cell_type": "code",
      "execution_count": null,
      "id": "caf4ef61-4fe6-4ba7-9432-ef31281361de",
      "metadata": {
        "id": "caf4ef61-4fe6-4ba7-9432-ef31281361de"
      },
      "outputs": [],
      "source": [
        "tuple_list = [Struct(**dict_) for dict_ in data_list]"
      ]
    },
    {
      "cell_type": "code",
      "execution_count": null,
      "id": "f81d8932-542c-4dc1-878f-fb9369a12bb3",
      "metadata": {
        "id": "f81d8932-542c-4dc1-878f-fb9369a12bb3",
        "outputId": "d176477a-b652-4e28-9246-08fd490a5683"
      },
      "outputs": [
        {
          "data": {
            "text/plain": [
              "[Struct(key1=1, key2=2, key3=None),\n",
              " Struct(key1=3, key2=4, key3=None),\n",
              " Struct(key1=5, key2=6, key3=7),\n",
              " Struct(key1=None, key2=100, key3=None)]"
            ]
          },
          "execution_count": 203,
          "metadata": {},
          "output_type": "execute_result"
        }
      ],
      "source": [
        "tuple_list"
      ]
    },
    {
      "cell_type": "markdown",
      "id": "2548c5bb-d6aa-469b-ba18-6bce4f84ff16",
      "metadata": {
        "id": "2548c5bb-d6aa-469b-ba18-6bce4f84ff16"
      },
      "source": [
        "So lastly, let's just package this all up neatly int a single function that will take an iterable of dictionaries, or an arbitrary number of dictionaries as positional arguments, and return a list of named tuples:"
      ]
    },
    {
      "cell_type": "code",
      "execution_count": null,
      "id": "0409aa4c-9c25-4eb3-a8ff-a1ecdef6d28a",
      "metadata": {
        "id": "0409aa4c-9c25-4eb3-a8ff-a1ecdef6d28a"
      },
      "outputs": [],
      "source": [
        "def tuplify_dicts(dicts):\n",
        "    keys = {key for dict_ in dicts for key in dict_.keys()}\n",
        "    Struct = namedtuple('Struct', keys)\n",
        "    Struct.__new__.__defaults__ = (None,) * len(Struct._fields)\n",
        "    return [Struct(**dict_) for dict_ in dicts]"
      ]
    },
    {
      "cell_type": "code",
      "execution_count": null,
      "id": "2a2b63c9-917b-4c7f-930c-fbeb1b027cee",
      "metadata": {
        "id": "2a2b63c9-917b-4c7f-930c-fbeb1b027cee",
        "outputId": "d35c470e-7d55-4466-a739-abb5a62c5581"
      },
      "outputs": [
        {
          "data": {
            "text/plain": [
              "[Struct(key2=2, key1=1, key3=None),\n",
              " Struct(key2=4, key1=3, key3=None),\n",
              " Struct(key2=6, key1=5, key3=7),\n",
              " Struct(key2=100, key1=None, key3=None)]"
            ]
          },
          "execution_count": 205,
          "metadata": {},
          "output_type": "execute_result"
        }
      ],
      "source": [
        "tuplify_dicts(data_list)"
      ]
    },
    {
      "cell_type": "markdown",
      "id": "c94120fa-e9c9-4ae0-836f-68d88eb62504",
      "metadata": {
        "id": "c94120fa-e9c9-4ae0-836f-68d88eb62504"
      },
      "source": [
        "Isn't Python wonderful? :-)"
      ]
    },
    {
      "cell_type": "markdown",
      "id": "64b15c01-ee9e-4736-97cf-c7bea697207c",
      "metadata": {
        "id": "64b15c01-ee9e-4736-97cf-c7bea697207c"
      },
      "source": [
        "### 06 - Named Tuples - Application - Returning Multiple Values"
      ]
    },
    {
      "cell_type": "markdown",
      "id": "d4b6b8ea-5aa7-4919-931b-2bfe8e0cdd70",
      "metadata": {
        "id": "d4b6b8ea-5aa7-4919-931b-2bfe8e0cdd70"
      },
      "source": [
        "We already know that we can easily return multiple values from a function by using a tuple:"
      ]
    },
    {
      "cell_type": "code",
      "execution_count": null,
      "id": "4a9aaa94-4dd3-4176-b6d0-278259809498",
      "metadata": {
        "id": "4a9aaa94-4dd3-4176-b6d0-278259809498"
      },
      "outputs": [],
      "source": [
        "from random import randint, random\n",
        "\n",
        "def random_color():\n",
        "    red = randint(0, 255)\n",
        "    green = randint(0, 255)\n",
        "    blue = randint(0, 255)\n",
        "    alpha = round(random(), 2)\n",
        "    return red, green, blue, alpha"
      ]
    },
    {
      "cell_type": "code",
      "execution_count": null,
      "id": "31e3d0c0-2ad8-4c4e-b708-cfff56635428",
      "metadata": {
        "id": "31e3d0c0-2ad8-4c4e-b708-cfff56635428",
        "outputId": "855782e6-80da-4f9d-ec6e-e01f319a26dc"
      },
      "outputs": [
        {
          "data": {
            "text/plain": [
              "(31, 233, 5, 0.67)"
            ]
          },
          "execution_count": 207,
          "metadata": {},
          "output_type": "execute_result"
        }
      ],
      "source": [
        "random_color()"
      ]
    },
    {
      "cell_type": "markdown",
      "id": "813fac8d-3686-4f5e-acf7-6348fab37259",
      "metadata": {
        "id": "813fac8d-3686-4f5e-acf7-6348fab37259"
      },
      "source": [
        "So of course, we could call the function this and unpack the results at the same time:"
      ]
    },
    {
      "cell_type": "code",
      "execution_count": null,
      "id": "86c0da3c-6dae-49a4-bede-8c73ae9b59de",
      "metadata": {
        "id": "86c0da3c-6dae-49a4-bede-8c73ae9b59de"
      },
      "outputs": [],
      "source": [
        "red, green, blue, alpha = random_color()"
      ]
    },
    {
      "cell_type": "code",
      "execution_count": null,
      "id": "3909e714-2762-4ca2-8d64-1bd8880a1e77",
      "metadata": {
        "id": "3909e714-2762-4ca2-8d64-1bd8880a1e77",
        "outputId": "e4d2a60d-bdbf-4d04-e362-56f38a98c4e2"
      },
      "outputs": [
        {
          "name": "stdout",
          "output_type": "stream",
          "text": [
            "red=184, green=184, blue=220, alpha=0.96\n"
          ]
        }
      ],
      "source": [
        "print(f'red={red}, green={green}, blue={blue}, alpha={alpha}')"
      ]
    },
    {
      "cell_type": "markdown",
      "id": "50417c05-d79b-4fe3-982b-ce6c18abde9e",
      "metadata": {
        "id": "50417c05-d79b-4fe3-982b-ce6c18abde9e"
      },
      "source": [
        "But it might be nicet to use a named tuple:"
      ]
    },
    {
      "cell_type": "code",
      "execution_count": null,
      "id": "e900838f-dd3f-4fb7-ab7d-5db2fe077aac",
      "metadata": {
        "id": "e900838f-dd3f-4fb7-ab7d-5db2fe077aac"
      },
      "outputs": [],
      "source": [
        "from collections import namedtuple"
      ]
    },
    {
      "cell_type": "code",
      "execution_count": null,
      "id": "79ed8106-9421-442f-ac38-c0f0859a2de1",
      "metadata": {
        "id": "79ed8106-9421-442f-ac38-c0f0859a2de1"
      },
      "outputs": [],
      "source": [
        "Color = namedtuple('Color', 'red green blue alpha')\n",
        "\n",
        "def random_color():\n",
        "    red = randint(0, 255)\n",
        "    green = randint(0, 255)\n",
        "    blue = randint(0, 255)\n",
        "    alpha = round(random(), 2)\n",
        "    return Color(red, green, blue, alpha)"
      ]
    },
    {
      "cell_type": "code",
      "execution_count": null,
      "id": "fdf83531-0923-4024-b334-417ade46fb5a",
      "metadata": {
        "id": "fdf83531-0923-4024-b334-417ade46fb5a"
      },
      "outputs": [],
      "source": [
        "color = random_color()"
      ]
    },
    {
      "cell_type": "code",
      "execution_count": null,
      "id": "3c617684-4ed5-4821-9f9e-d853e78afd23",
      "metadata": {
        "id": "3c617684-4ed5-4821-9f9e-d853e78afd23",
        "outputId": "ee631f8d-c821-47f1-820b-58ef73169b89"
      },
      "outputs": [
        {
          "data": {
            "text/plain": [
              "190"
            ]
          },
          "execution_count": 213,
          "metadata": {},
          "output_type": "execute_result"
        }
      ],
      "source": [
        "color.red"
      ]
    },
    {
      "cell_type": "code",
      "execution_count": null,
      "id": "751eb695-5c30-4708-8a84-5a847d1885ac",
      "metadata": {
        "id": "751eb695-5c30-4708-8a84-5a847d1885ac",
        "outputId": "655a2c3e-be47-4b48-b6b7-412b4733adeb"
      },
      "outputs": [
        {
          "data": {
            "text/plain": [
              "Color(red=190, green=10, blue=148, alpha=0.72)"
            ]
          },
          "execution_count": 214,
          "metadata": {},
          "output_type": "execute_result"
        }
      ],
      "source": [
        "color"
      ]
    }
  ],
  "metadata": {
    "kernelspec": {
      "display_name": "Python 3 (ipykernel)",
      "language": "python",
      "name": "python3"
    },
    "language_info": {
      "codemirror_mode": {
        "name": "ipython",
        "version": 3
      },
      "file_extension": ".py",
      "mimetype": "text/x-python",
      "name": "python",
      "nbconvert_exporter": "python",
      "pygments_lexer": "ipython3",
      "version": "3.9.12"
    },
    "colab": {
      "provenance": [],
      "include_colab_link": true
    }
  },
  "nbformat": 4,
  "nbformat_minor": 5
}