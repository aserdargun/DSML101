{
  "cells": [
    {
      "cell_type": "markdown",
      "metadata": {
        "id": "view-in-github",
        "colab_type": "text"
      },
      "source": [
        "<a href=\"https://colab.research.google.com/github/aserdargun/DSML101/blob/main/Part_1_Section_03_Variables_and_Memory.ipynb\" target=\"_parent\"><img src=\"https://colab.research.google.com/assets/colab-badge.svg\" alt=\"Open In Colab\"/></a>"
      ]
    },
    {
      "cell_type": "markdown",
      "id": "b7458f6b-3883-4ab3-9626-b18ae52901fd",
      "metadata": {
        "id": "b7458f6b-3883-4ab3-9626-b18ae52901fd"
      },
      "source": [
        "# **PART 1: FUNCTIONAL PROGRAMMING**"
      ]
    },
    {
      "cell_type": "markdown",
      "id": "6e8a0525-f2ad-4b4b-ac33-72b144224c77",
      "metadata": {
        "id": "6e8a0525-f2ad-4b4b-ac33-72b144224c77"
      },
      "source": [
        "### 01 - Variables and Memory References"
      ]
    },
    {
      "cell_type": "markdown",
      "id": "b1308112-5fdd-48e5-8a2b-bbcbb0af92e5",
      "metadata": {
        "id": "b1308112-5fdd-48e5-8a2b-bbcbb0af92e5"
      },
      "source": [
        "We can find the memory address that a variable references, by using `id()` function.\n",
        "\n",
        "The `id()` function returns the memory address of its argument as a base-10 integer.\n",
        "\n",
        "We can use the function `hex()` to convert the base-10 to base-16"
      ]
    },
    {
      "cell_type": "code",
      "execution_count": null,
      "id": "f51a4a3a-058d-4947-9095-cbc6a57e8db1",
      "metadata": {
        "id": "f51a4a3a-058d-4947-9095-cbc6a57e8db1",
        "outputId": "7bb8d15a-ecf6-420f-af41-8a1d117879f6"
      },
      "outputs": [
        {
          "name": "stdout",
          "output_type": "stream",
          "text": [
            "my_var = 10\n",
            "memory address of my_var (decimal): 2245052295760\n",
            "memory address of my_var (hex): 0x20ab78b6a50\n"
          ]
        }
      ],
      "source": [
        "my_var = 10\n",
        "print('my_var = {0}'.format(my_var))\n",
        "print('memory address of my_var (decimal): {0}'.format(id(my_var)))\n",
        "print('memory address of my_var (hex): {0}'.format(hex(id(my_var))))"
      ]
    },
    {
      "cell_type": "code",
      "execution_count": null,
      "id": "cf7fa5b7-0873-47f2-ba0d-6ba081fe84aa",
      "metadata": {
        "id": "cf7fa5b7-0873-47f2-ba0d-6ba081fe84aa",
        "outputId": "86ad8205-ae78-4e09-94ee-ea920840a2ad"
      },
      "outputs": [
        {
          "name": "stdout",
          "output_type": "stream",
          "text": [
            "greeting = Hello\n",
            "memory address of my_var (decimal): 2245138675440\n",
            "memory address of my_var (hex): 0x20abcb176f0\n"
          ]
        }
      ],
      "source": [
        "greeting = 'Hello'\n",
        "print('greeting = {0}'.format(greeting))\n",
        "print('memory address of my_var (decimal): {0}'.format(id(greeting)))\n",
        "print('memory address of my_var (hex): {0}'.format(hex(id(greeting))))"
      ]
    },
    {
      "cell_type": "markdown",
      "id": "38857554-2e37-4627-90ac-3c20605c2686",
      "metadata": {
        "id": "38857554-2e37-4627-90ac-3c20605c2686"
      },
      "source": [
        "---\n",
        "**BE CAREFUL!**"
      ]
    },
    {
      "cell_type": "markdown",
      "id": "0ddf1e94-78c5-435d-86fb-cfcab6d48fd2",
      "metadata": {
        "id": "0ddf1e94-78c5-435d-86fb-cfcab6d48fd2"
      },
      "source": [
        "*Note how the memory address of `my_var` is different from that of `greeting`.*\n",
        "\n",
        "*Strictly speaking, `my_var` is not \"equal\" to 10.*\n",
        "\n",
        "*Instead `my_var` is a reference to an (integer) object (containing the value 10) located at the memory address `id(my_var)`*\n",
        "\n",
        "*Similarly for the variable `greeting`*"
      ]
    },
    {
      "cell_type": "markdown",
      "id": "086b4c09-8c43-442f-a184-23e00ae1ed0f",
      "metadata": {
        "id": "086b4c09-8c43-442f-a184-23e00ae1ed0f"
      },
      "source": [
        "### 02 - Reference Counting"
      ]
    },
    {
      "cell_type": "markdown",
      "id": "b18fc085-e3d6-49f2-a8d5-c406f707373d",
      "metadata": {
        "id": "b18fc085-e3d6-49f2-a8d5-c406f707373d"
      },
      "source": [
        "Method that returns the reference count for a given variable's memory address:"
      ]
    },
    {
      "cell_type": "code",
      "execution_count": null,
      "id": "1fdf2440-5d1f-4692-878f-78c3ca91b9e4",
      "metadata": {
        "id": "1fdf2440-5d1f-4692-878f-78c3ca91b9e4"
      },
      "outputs": [],
      "source": [
        "import ctypes\n",
        "\n",
        "def ref_count(address):\n",
        "    return ctypes.c_long.from_address(address).value"
      ]
    },
    {
      "cell_type": "markdown",
      "id": "1a81d05f-b8b3-4392-81b0-967001cefab5",
      "metadata": {
        "id": "1a81d05f-b8b3-4392-81b0-967001cefab5"
      },
      "source": [
        "Let's make a variable, and check it's reference count:"
      ]
    },
    {
      "cell_type": "code",
      "execution_count": null,
      "id": "feb25797-091e-42c9-8219-a1391deeed70",
      "metadata": {
        "id": "feb25797-091e-42c9-8219-a1391deeed70",
        "outputId": "e110975c-98df-4776-ab58-a60839fc4dfb"
      },
      "outputs": [
        {
          "data": {
            "text/plain": [
              "1"
            ]
          },
          "execution_count": 6,
          "metadata": {},
          "output_type": "execute_result"
        }
      ],
      "source": [
        "my_var = [1, 2, 3, 4]\n",
        "ref_count(id(my_var))"
      ]
    },
    {
      "cell_type": "markdown",
      "id": "7ce01c11-034b-4b4e-aa6c-6400e45eb14b",
      "metadata": {
        "id": "7ce01c11-034b-4b4e-aa6c-6400e45eb14b"
      },
      "source": [
        "There is another built-in function we can use to obtain the reference count:"
      ]
    },
    {
      "cell_type": "code",
      "execution_count": null,
      "id": "ab3668d5-7454-4abb-b0e5-1d3a9197e815",
      "metadata": {
        "id": "ab3668d5-7454-4abb-b0e5-1d3a9197e815",
        "outputId": "494ec340-1d7e-4dfc-af19-5badd0234469"
      },
      "outputs": [
        {
          "data": {
            "text/plain": [
              "2"
            ]
          },
          "execution_count": 7,
          "metadata": {},
          "output_type": "execute_result"
        }
      ],
      "source": [
        "import sys\n",
        "sys.getrefcount(my_var)"
      ]
    },
    {
      "cell_type": "markdown",
      "id": "917b15a9-daea-4ea4-8a71-bc3764b27c16",
      "metadata": {
        "id": "917b15a9-daea-4ea4-8a71-bc3764b27c16"
      },
      "source": [
        "But why is this returning 3, instead of the expected 2 we obtained with the previous function?\n",
        "\n",
        "Answer: The `sys.getrefcount()` function takes `my_var` as an argument, this means it receives (and stores) a reference to `my_var`'s memory address also - hence the count is off by 1. So we will use `from_address()` instead.\n",
        "\n",
        "We make another reference to the same reference as `my_var`:"
      ]
    },
    {
      "cell_type": "code",
      "execution_count": null,
      "id": "d60467d6-1161-4e9d-b9ae-0bfb1a0486bc",
      "metadata": {
        "id": "d60467d6-1161-4e9d-b9ae-0bfb1a0486bc"
      },
      "outputs": [],
      "source": [
        "other_var = my_var"
      ]
    },
    {
      "cell_type": "markdown",
      "id": "3fe572d7-86bd-438f-9428-5e5f6474f5ee",
      "metadata": {
        "id": "3fe572d7-86bd-438f-9428-5e5f6474f5ee"
      },
      "source": [
        "Let's look at the memory address of those two variables and the reference counts:"
      ]
    },
    {
      "cell_type": "code",
      "execution_count": null,
      "id": "6fe2e8c6-17c4-4773-b010-5517984efae4",
      "metadata": {
        "id": "6fe2e8c6-17c4-4773-b010-5517984efae4",
        "outputId": "e5e7cba9-9c61-4d72-8c95-3f5b35cecde0"
      },
      "outputs": [
        {
          "name": "stdout",
          "output_type": "stream",
          "text": [
            "0x20abdb3ff80 0x20abdb3ff80\n",
            "2\n"
          ]
        }
      ],
      "source": [
        "print(hex(id(my_var)), hex(id(other_var)))\n",
        "print(ref_count(id(my_var)))"
      ]
    },
    {
      "cell_type": "markdown",
      "id": "5d2074ef-fbf7-4da5-bf2a-a192f164372e",
      "metadata": {
        "id": "5d2074ef-fbf7-4da5-bf2a-a192f164372e"
      },
      "source": [
        "Force one reference to go away:"
      ]
    },
    {
      "cell_type": "code",
      "execution_count": null,
      "id": "84b7241e-e6c4-4bc8-8033-0e85887fc3f7",
      "metadata": {
        "id": "84b7241e-e6c4-4bc8-8033-0e85887fc3f7"
      },
      "outputs": [],
      "source": [
        "other_var = None"
      ]
    },
    {
      "cell_type": "markdown",
      "id": "5b99f07d-f2b0-4caa-9f32-a649b99fc8c8",
      "metadata": {
        "id": "5b99f07d-f2b0-4caa-9f32-a649b99fc8c8"
      },
      "source": [
        "And we look at the reference count again:"
      ]
    },
    {
      "cell_type": "code",
      "execution_count": null,
      "id": "228bb187-38d5-469c-be1a-63991c64640e",
      "metadata": {
        "id": "228bb187-38d5-469c-be1a-63991c64640e",
        "outputId": "584ba241-3c80-4f99-fa4d-820ecf679c83"
      },
      "outputs": [
        {
          "name": "stdout",
          "output_type": "stream",
          "text": [
            "1\n"
          ]
        }
      ],
      "source": [
        "print(ref_count(id(my_var)))"
      ]
    },
    {
      "cell_type": "markdown",
      "id": "3b76ad28-b209-487b-b5e3-efc7cbdf3058",
      "metadata": {
        "id": "3b76ad28-b209-487b-b5e3-efc7cbdf3058"
      },
      "source": [
        "We see that the reference count has gone back to 2.\n",
        "\n",
        "You'll probably never need  to do anythinli like this in Python. Memory management is completely transparent - this is just to illustrate some of what is going behind the scenes as it helps to understand upcoming concepts."
      ]
    },
    {
      "cell_type": "markdown",
      "id": "279f1cb5-2fb6-4876-9198-42392049ea0b",
      "metadata": {
        "id": "279f1cb5-2fb6-4876-9198-42392049ea0b"
      },
      "source": [
        "---\n",
        "**BE CAREFUL!**"
      ]
    },
    {
      "cell_type": "markdown",
      "id": "4032df82-2664-4fd7-835c-431090e3b007",
      "metadata": {
        "id": "4032df82-2664-4fd7-835c-431090e3b007"
      },
      "source": [
        "*In Google Colab Environment, `getrefcount()` function gives us the value 3, but in your local Jupyter notebook, it will be 2.*"
      ]
    },
    {
      "cell_type": "markdown",
      "id": "300fc604-9c88-4c3f-a16d-e52b879fb1c6",
      "metadata": {
        "id": "300fc604-9c88-4c3f-a16d-e52b879fb1c6"
      },
      "source": [
        "### 03 - Garbage Collection"
      ]
    },
    {
      "cell_type": "code",
      "execution_count": null,
      "id": "9c6349e1-ec42-4497-a60b-e4a690e67ef6",
      "metadata": {
        "id": "9c6349e1-ec42-4497-a60b-e4a690e67ef6"
      },
      "outputs": [],
      "source": [
        "import ctypes\n",
        "import gc"
      ]
    },
    {
      "cell_type": "markdown",
      "id": "c236f81c-3561-415c-89b2-8203a95dcaf0",
      "metadata": {
        "id": "c236f81c-3561-415c-89b2-8203a95dcaf0"
      },
      "source": [
        "We use the same function that we used in the lesson on reference counting to calculate the numver of references to a specified object (using its memory address to avoid creating an extra reference)"
      ]
    },
    {
      "cell_type": "code",
      "execution_count": null,
      "id": "7bfb99d6-0c29-4782-90a4-5682cfc0b7fa",
      "metadata": {
        "id": "7bfb99d6-0c29-4782-90a4-5682cfc0b7fa"
      },
      "outputs": [],
      "source": [
        "def ref_count(address):\n",
        "    return ctypes.c_long.from_address(address).value"
      ]
    },
    {
      "cell_type": "markdown",
      "id": "46eb23e9-c43c-4d56-864e-25de0d34fade",
      "metadata": {
        "id": "46eb23e9-c43c-4d56-864e-25de0d34fade"
      },
      "source": [
        "We create a function that will search the objects in the GC for a specified id and tell us if the object was found or not:"
      ]
    },
    {
      "cell_type": "code",
      "execution_count": null,
      "id": "cf7bbe4f-3ecb-4e57-a6d1-c0876c68632d",
      "metadata": {
        "id": "cf7bbe4f-3ecb-4e57-a6d1-c0876c68632d"
      },
      "outputs": [],
      "source": [
        "def object_by_id(object_id):\n",
        "    for obj in gc.get_objects():\n",
        "        if id(obj) == object_id:\n",
        "            return \"Object exists\"\n",
        "    return \"Not found\""
      ]
    },
    {
      "cell_type": "markdown",
      "id": "8fc4136b-9abc-4ce4-b359-731be122357f",
      "metadata": {
        "id": "8fc4136b-9abc-4ce4-b359-731be122357f"
      },
      "source": [
        "Next we define two classes that we will use to create a circular reference.\n",
        "\n",
        "Class A's constructor will create an instance of class B and pass itself to class B's constructor that will then store that reference in some instance variable."
      ]
    },
    {
      "cell_type": "code",
      "execution_count": null,
      "id": "583f5055-e32e-4bc4-be57-59afbc7e091c",
      "metadata": {
        "id": "583f5055-e32e-4bc4-be57-59afbc7e091c"
      },
      "outputs": [],
      "source": [
        "class A:\n",
        "    def __init__(self):\n",
        "        self.b = B(self)\n",
        "        print('A: self: {0}, b:{1}'.format(hex(id(self)), hex(id(self.b))))"
      ]
    },
    {
      "cell_type": "code",
      "execution_count": null,
      "id": "4972380d-19d0-48e4-9b32-7f6c6d57500a",
      "metadata": {
        "id": "4972380d-19d0-48e4-9b32-7f6c6d57500a"
      },
      "outputs": [],
      "source": [
        "class B:\n",
        "    def __init__(self, a):\n",
        "        self.a = a\n",
        "        print('B: self: {0}, a: {1}'.format(hex(id(self)), hex(id(self.a))))"
      ]
    },
    {
      "cell_type": "markdown",
      "id": "d9a56919-e9b1-4ca3-95f2-2238b87f443d",
      "metadata": {
        "id": "d9a56919-e9b1-4ca3-95f2-2238b87f443d"
      },
      "source": [
        "We turn off the GC so we can see how reference counts are affected when the GC does not run and whne it does (by running it manually)"
      ]
    },
    {
      "cell_type": "code",
      "execution_count": null,
      "id": "9830bbca-17b7-458a-ad43-928c5ce5fc6f",
      "metadata": {
        "id": "9830bbca-17b7-458a-ad43-928c5ce5fc6f"
      },
      "outputs": [],
      "source": [
        "gc.disable()"
      ]
    },
    {
      "cell_type": "markdown",
      "id": "930793f4-01f6-405e-8773-9df3259f1fdf",
      "metadata": {
        "id": "930793f4-01f6-405e-8773-9df3259f1fdf"
      },
      "source": [
        "Now we create an instance of A, which will, in turn, create an instance of B which will store a reference to the calling A instance."
      ]
    },
    {
      "cell_type": "code",
      "execution_count": null,
      "id": "d7f51784-26f5-40c0-83d9-0d5d44052b9d",
      "metadata": {
        "id": "d7f51784-26f5-40c0-83d9-0d5d44052b9d",
        "outputId": "5e74b74f-b427-43f6-8d54-987b3334d898"
      },
      "outputs": [
        {
          "name": "stdout",
          "output_type": "stream",
          "text": [
            "B: self: 0x20abcb27df0, a: 0x20abcb27730\n",
            "A: self: 0x20abcb27730, b:0x20abcb27df0\n"
          ]
        }
      ],
      "source": [
        "my_var = A()"
      ]
    },
    {
      "cell_type": "markdown",
      "id": "bf2067f1-dea5-4421-8832-8739aaf5627c",
      "metadata": {
        "id": "bf2067f1-dea5-4421-8832-8739aaf5627c"
      },
      "source": [
        "As we can see A and B's constructors ran, and we also see from the memory addresses that we have a circular reference.\n",
        "\n",
        "In fact `my_var` is also a reference to the same A instance:"
      ]
    },
    {
      "cell_type": "code",
      "execution_count": null,
      "id": "e4d2ed98-80d5-4186-8b1e-0bc750f8a0f7",
      "metadata": {
        "id": "e4d2ed98-80d5-4186-8b1e-0bc750f8a0f7",
        "outputId": "2ad9e4a3-e336-4093-982d-f1d37f3b8ab3"
      },
      "outputs": [
        {
          "name": "stdout",
          "output_type": "stream",
          "text": [
            "0x20abcb27730\n"
          ]
        }
      ],
      "source": [
        "print(hex(id(my_var)))"
      ]
    },
    {
      "cell_type": "markdown",
      "id": "c3df8ef0-8bbc-488a-b135-4d94890ea634",
      "metadata": {
        "id": "c3df8ef0-8bbc-488a-b135-4d94890ea634"
      },
      "source": [
        "Another way to see this:"
      ]
    },
    {
      "cell_type": "code",
      "execution_count": null,
      "id": "815ad4ec-7b8a-42b5-9306-b763a2af28ed",
      "metadata": {
        "id": "815ad4ec-7b8a-42b5-9306-b763a2af28ed",
        "outputId": "aa0e6d2b-9ff5-4521-8479-f37be98e52b6"
      },
      "outputs": [
        {
          "name": "stdout",
          "output_type": "stream",
          "text": [
            "a: \t0x20abcb27730\n",
            "a.b: \t0x20abcb27df0\n",
            "b.a: \t0x20abcb27730\n"
          ]
        }
      ],
      "source": [
        "print('a: \\t{0}'.format(hex(id(my_var))))\n",
        "print('a.b: \\t{0}'.format(hex(id(my_var.b))))\n",
        "print('b.a: \\t{0}'.format(hex(id(my_var.b.a))))"
      ]
    },
    {
      "cell_type": "code",
      "execution_count": null,
      "id": "cb8bd2a9-0740-4afd-a234-81f00478d5e6",
      "metadata": {
        "id": "cb8bd2a9-0740-4afd-a234-81f00478d5e6"
      },
      "outputs": [],
      "source": [
        "a_id = id(my_var)\n",
        "b_id = id(my_var.b)"
      ]
    },
    {
      "cell_type": "markdown",
      "id": "1edafa2a-70bb-48ec-a3ca-04e36fcd7e79",
      "metadata": {
        "id": "1edafa2a-70bb-48ec-a3ca-04e36fcd7e79"
      },
      "source": [
        "We can see how many references we have for `a` and `b`"
      ]
    },
    {
      "cell_type": "code",
      "execution_count": null,
      "id": "58437b9d-0449-4290-89cb-21323535e246",
      "metadata": {
        "id": "58437b9d-0449-4290-89cb-21323535e246"
      },
      "outputs": [],
      "source": [
        "my_var = None"
      ]
    },
    {
      "cell_type": "code",
      "execution_count": null,
      "id": "098e5514-7520-4a39-9bf3-88b334c402f9",
      "metadata": {
        "id": "098e5514-7520-4a39-9bf3-88b334c402f9",
        "outputId": "fe0112ef-3251-44d3-dfdb-b2c15c385f6d"
      },
      "outputs": [
        {
          "name": "stdout",
          "output_type": "stream",
          "text": [
            "refcount(a) = 1\n",
            "refcount(b) = 1\n",
            "a: Object exists\n",
            "b: Object exists\n"
          ]
        }
      ],
      "source": [
        "print('refcount(a) = {0}'.format(ref_count(a_id)))\n",
        "print('refcount(b) = {0}'.format(ref_count(b_id)))\n",
        "print('a: {0}'.format(object_by_id(a_id)))\n",
        "print('b: {0}'.format(object_by_id(b_id)))"
      ]
    },
    {
      "cell_type": "markdown",
      "id": "d73ac86c-1820-4c01-be78-70bbd047e5b0",
      "metadata": {
        "id": "d73ac86c-1820-4c01-be78-70bbd047e5b0"
      },
      "source": [
        "As we can see, the reference counts are now both equal to 1 (a pure circular reference), and reference counting alone did not destroy the A and B instances - they're still around. If no garbage collection is performed this would result in a memory leak.\n",
        "\n",
        "Let's run the GC manually and re-check whether the objects still exist:"
      ]
    },
    {
      "cell_type": "code",
      "execution_count": null,
      "id": "bdc38b7e-01f0-4355-b8ed-2b8b52398bb3",
      "metadata": {
        "id": "bdc38b7e-01f0-4355-b8ed-2b8b52398bb3",
        "outputId": "fabe27cb-0722-4ddd-fd72-0a7773bab2b6"
      },
      "outputs": [
        {
          "name": "stdout",
          "output_type": "stream",
          "text": [
            "refcount(a) = 0\n",
            "refcount(b) = 0\n",
            "a: Not found\n",
            "b: Not found\n"
          ]
        }
      ],
      "source": [
        "gc.collect()\n",
        "print('refcount(a) = {0}'.format(ref_count(a_id)))\n",
        "print('refcount(b) = {0}'.format(ref_count(b_id)))\n",
        "print('a: {0}'.format(object_by_id(a_id)))\n",
        "print('b: {0}'.format(object_by_id(b_id)))"
      ]
    },
    {
      "cell_type": "markdown",
      "id": "9e53c9da-9d90-4ff3-a568-29fc3e74a66d",
      "metadata": {
        "id": "9e53c9da-9d90-4ff3-a568-29fc3e74a66d"
      },
      "source": [
        "### 04 - Dynamic vs Static Typing"
      ]
    },
    {
      "cell_type": "markdown",
      "id": "cecb4ad1-f057-48d9-b5ed-14cdbb37bb4b",
      "metadata": {
        "id": "cecb4ad1-f057-48d9-b5ed-14cdbb37bb4b"
      },
      "source": [
        "Python is dynamically typed.\n",
        "\n",
        "This means that the type of a variable is simply the type of the object the variable name points to (references).The variable itself has no associated type."
      ]
    },
    {
      "cell_type": "code",
      "execution_count": null,
      "id": "11e65742-39bd-418d-8942-20ebc1259c49",
      "metadata": {
        "id": "11e65742-39bd-418d-8942-20ebc1259c49"
      },
      "outputs": [],
      "source": [
        "a = \"hello\""
      ]
    },
    {
      "cell_type": "code",
      "execution_count": null,
      "id": "97c8365e-c952-46d0-8b52-234b89686bfc",
      "metadata": {
        "id": "97c8365e-c952-46d0-8b52-234b89686bfc",
        "outputId": "bdfb433c-4f5e-4813-af4d-68ef89981217"
      },
      "outputs": [
        {
          "data": {
            "text/plain": [
              "str"
            ]
          },
          "execution_count": 30,
          "metadata": {},
          "output_type": "execute_result"
        }
      ],
      "source": [
        "type(a)"
      ]
    },
    {
      "cell_type": "code",
      "execution_count": null,
      "id": "0d812a48-e338-4e98-ae74-bfd03ef48ecc",
      "metadata": {
        "id": "0d812a48-e338-4e98-ae74-bfd03ef48ecc"
      },
      "outputs": [],
      "source": [
        "a = 10"
      ]
    },
    {
      "cell_type": "code",
      "execution_count": null,
      "id": "62c198af-e401-4220-a7ce-9a3b24775bce",
      "metadata": {
        "id": "62c198af-e401-4220-a7ce-9a3b24775bce",
        "outputId": "b9483254-d35d-4f41-c53a-b1387a52781d"
      },
      "outputs": [
        {
          "data": {
            "text/plain": [
              "int"
            ]
          },
          "execution_count": 32,
          "metadata": {},
          "output_type": "execute_result"
        }
      ],
      "source": [
        "type(a)"
      ]
    },
    {
      "cell_type": "code",
      "execution_count": null,
      "id": "77ea0682-3eac-4270-926d-0f27e282a24e",
      "metadata": {
        "id": "77ea0682-3eac-4270-926d-0f27e282a24e"
      },
      "outputs": [],
      "source": [
        "a = lambda x: x ** 2"
      ]
    },
    {
      "cell_type": "code",
      "execution_count": null,
      "id": "4668d05b-f272-4a05-a8d7-7005ebc1a621",
      "metadata": {
        "id": "4668d05b-f272-4a05-a8d7-7005ebc1a621",
        "outputId": "7bb7be80-b6d3-4bac-a39a-d5e4645fe8fc"
      },
      "outputs": [
        {
          "data": {
            "text/plain": [
              "4"
            ]
          },
          "execution_count": 34,
          "metadata": {},
          "output_type": "execute_result"
        }
      ],
      "source": [
        "a(2)"
      ]
    },
    {
      "cell_type": "code",
      "execution_count": null,
      "id": "ccc04bd2-f57a-455b-9907-ace720669497",
      "metadata": {
        "id": "ccc04bd2-f57a-455b-9907-ace720669497",
        "outputId": "b205ebab-584b-443b-af97-71c7aceea864"
      },
      "outputs": [
        {
          "data": {
            "text/plain": [
              "function"
            ]
          },
          "execution_count": 35,
          "metadata": {},
          "output_type": "execute_result"
        }
      ],
      "source": [
        "type(a)"
      ]
    },
    {
      "cell_type": "markdown",
      "id": "bf853ccf-cf1e-45dc-9008-9b399176b7e2",
      "metadata": {
        "id": "bf853ccf-cf1e-45dc-9008-9b399176b7e2"
      },
      "source": [
        "As you can see from the above examples, the type of the variable `a` changed over time - in fact it was simply the type of the object `a` was referencing at that time. No type was ever attached to the variable name itself."
      ]
    },
    {
      "cell_type": "markdown",
      "id": "93f1cf80-f953-4567-9a31-8da433b4150b",
      "metadata": {
        "id": "93f1cf80-f953-4567-9a31-8da433b4150b"
      },
      "source": [
        "### 05 - Variable Re-Assignment"
      ]
    },
    {
      "cell_type": "markdown",
      "id": "4a0ef5e9-d2ba-4aeb-a206-fcb32d8e6efb",
      "metadata": {
        "id": "4a0ef5e9-d2ba-4aeb-a206-fcb32d8e6efb"
      },
      "source": [
        "Notice how the memory address of `a` is different every time."
      ]
    },
    {
      "cell_type": "code",
      "execution_count": null,
      "id": "bfcf7d2d-7354-4bb4-adb5-02a6804d0938",
      "metadata": {
        "id": "bfcf7d2d-7354-4bb4-adb5-02a6804d0938",
        "outputId": "7a148ea6-ea43-419b-ec2d-b41e5021511c"
      },
      "outputs": [
        {
          "data": {
            "text/plain": [
              "'0x20ab78b6a50'"
            ]
          },
          "execution_count": 36,
          "metadata": {},
          "output_type": "execute_result"
        }
      ],
      "source": [
        "a = 10\n",
        "hex(id(a))"
      ]
    },
    {
      "cell_type": "code",
      "execution_count": null,
      "id": "5476463e-003f-41ac-bf34-2b7b88e7db26",
      "metadata": {
        "id": "5476463e-003f-41ac-bf34-2b7b88e7db26",
        "outputId": "e307c67b-f38f-489e-e292-69f10db9998a"
      },
      "outputs": [
        {
          "data": {
            "text/plain": [
              "'0x20ab78b6af0'"
            ]
          },
          "execution_count": 37,
          "metadata": {},
          "output_type": "execute_result"
        }
      ],
      "source": [
        "a = 15\n",
        "hex(id(a))"
      ]
    },
    {
      "cell_type": "code",
      "execution_count": null,
      "id": "85142d9b-8314-403b-9309-08156844a87a",
      "metadata": {
        "id": "85142d9b-8314-403b-9309-08156844a87a",
        "outputId": "76936646-2caa-4af9-b678-b42e3e0aa6ce"
      },
      "outputs": [
        {
          "data": {
            "text/plain": [
              "'0x20ab78b69b0'"
            ]
          },
          "execution_count": 38,
          "metadata": {},
          "output_type": "execute_result"
        }
      ],
      "source": [
        "a = 5\n",
        "hex(id(a))"
      ]
    },
    {
      "cell_type": "code",
      "execution_count": null,
      "id": "a5130f97-4544-4288-b260-7e8851aa40ec",
      "metadata": {
        "id": "a5130f97-4544-4288-b260-7e8851aa40ec",
        "outputId": "fabcd4a9-1a3e-424a-af6d-7d396e6b8da5"
      },
      "outputs": [
        {
          "data": {
            "text/plain": [
              "'0x20ab78b69d0'"
            ]
          },
          "execution_count": 39,
          "metadata": {},
          "output_type": "execute_result"
        }
      ],
      "source": [
        "a = a + 1\n",
        "hex(id(a))"
      ]
    },
    {
      "cell_type": "markdown",
      "id": "5ec60064-3dcc-42fc-8a48-9017b6ef04fd",
      "metadata": {
        "id": "5ec60064-3dcc-42fc-8a48-9017b6ef04fd"
      },
      "source": [
        "However, look at this:"
      ]
    },
    {
      "cell_type": "markdown",
      "id": "bd569a3c-8498-44b4-85e6-00d7c6ea4260",
      "metadata": {
        "id": "bd569a3c-8498-44b4-85e6-00d7c6ea4260"
      },
      "source": [
        "a = 10\n",
        "b = 10\n",
        "print(hex(id(a)))\n",
        "print(hex(id(b)))"
      ]
    },
    {
      "cell_type": "markdown",
      "id": "bb4c2e3f-1322-49db-b5d2-50c973210999",
      "metadata": {
        "id": "bb4c2e3f-1322-49db-b5d2-50c973210999"
      },
      "source": [
        "The memory adresses of both `a` and `b` are the same!!"
      ]
    },
    {
      "cell_type": "markdown",
      "id": "8bec3129-b3f2-4069-9a9e-167e861f0213",
      "metadata": {
        "id": "8bec3129-b3f2-4069-9a9e-167e861f0213"
      },
      "source": [
        "### 06 - Object Mutability"
      ]
    },
    {
      "cell_type": "markdown",
      "id": "31e784eb-1792-4eff-9e0a-526a48a09680",
      "metadata": {
        "id": "31e784eb-1792-4eff-9e0a-526a48a09680"
      },
      "source": [
        "Certain Python built-in object types (aka data types) are mutable.\n",
        "\n",
        "That is, the internal contents (state) of the object in memory can be modified."
      ]
    },
    {
      "cell_type": "code",
      "execution_count": null,
      "id": "af5d124c-4d79-4540-b461-7f06563643bf",
      "metadata": {
        "id": "af5d124c-4d79-4540-b461-7f06563643bf",
        "outputId": "d68433c5-3657-4111-dd8a-5d8644553a59"
      },
      "outputs": [
        {
          "name": "stdout",
          "output_type": "stream",
          "text": [
            "[1, 2, 3]\n",
            "0x20abcb36900\n"
          ]
        }
      ],
      "source": [
        "my_list = [1, 2, 3]\n",
        "print(my_list)\n",
        "print(hex(id(my_list)))"
      ]
    },
    {
      "cell_type": "code",
      "execution_count": null,
      "id": "1ece98c5-0bb2-4a95-822f-cde8b92bc579",
      "metadata": {
        "id": "1ece98c5-0bb2-4a95-822f-cde8b92bc579",
        "outputId": "5ad3c713-8f3f-4085-af1c-9f817efb0191"
      },
      "outputs": [
        {
          "name": "stdout",
          "output_type": "stream",
          "text": [
            "[1, 2, 3, 4]\n",
            "0x20abcb36900\n"
          ]
        }
      ],
      "source": [
        "my_list.append(4)\n",
        "print(my_list)\n",
        "print(hex(id(my_list)))"
      ]
    },
    {
      "cell_type": "markdown",
      "id": "59c021dc-6120-4fd5-8d04-2283c0aa45d0",
      "metadata": {
        "id": "59c021dc-6120-4fd5-8d04-2283c0aa45d0"
      },
      "source": [
        "As you can see, the memory address of `my_list` has not changed.\n",
        "\n",
        "But the contents of `my_list` has changed from [1, 2, 3] to [1, 2, 3, 4]."
      ]
    },
    {
      "cell_type": "markdown",
      "id": "d669d5e3-46d0-41f6-8316-6a11211b3792",
      "metadata": {
        "id": "d669d5e3-46d0-41f6-8316-6a11211b3792"
      },
      "source": [
        "---\n",
        "**BE CAREFUL!**"
      ]
    },
    {
      "cell_type": "markdown",
      "id": "c7584820-0e11-47a7-9e9f-7d7129be70a6",
      "metadata": {
        "id": "c7584820-0e11-47a7-9e9f-7d7129be70a6"
      },
      "source": [
        "*On the other hand, consider this:*"
      ]
    },
    {
      "cell_type": "code",
      "execution_count": null,
      "id": "dbed8f3d-3a0a-4fc1-b15a-52600a42db4f",
      "metadata": {
        "id": "dbed8f3d-3a0a-4fc1-b15a-52600a42db4f",
        "outputId": "8de6c37a-f842-4af6-a41c-dea6ac230a12"
      },
      "outputs": [
        {
          "name": "stdout",
          "output_type": "stream",
          "text": [
            "[1, 2, 3]\n",
            "0x20abdb33140\n"
          ]
        }
      ],
      "source": [
        "my_list_1 = [1, 2, 3]\n",
        "print(my_list_1)\n",
        "print(hex(id(my_list_1)))"
      ]
    },
    {
      "cell_type": "code",
      "execution_count": null,
      "id": "367658ec-db25-4337-a5ba-f3f432ffb583",
      "metadata": {
        "id": "367658ec-db25-4337-a5ba-f3f432ffb583",
        "outputId": "80cb3509-50fc-4cde-de91-afe018864417"
      },
      "outputs": [
        {
          "name": "stdout",
          "output_type": "stream",
          "text": [
            "[1, 2, 3, 4]\n",
            "0x20abdb444c0\n"
          ]
        }
      ],
      "source": [
        "my_list_1 = my_list_1 + [4]\n",
        "print(my_list_1)\n",
        "print(hex(id(my_list_1)))"
      ]
    },
    {
      "cell_type": "markdown",
      "id": "70f28f5a-0c73-48cb-86fb-819c86c717cc",
      "metadata": {
        "id": "70f28f5a-0c73-48cb-86fb-819c86c717cc"
      },
      "source": [
        "*Notice here that the memory address of `my_list_1` did change.*\n",
        "\n",
        "*This is because concatenating two lists objects `my_list_1` and `[4]` did not modify the contents of `my_list_1` - instead it created a new list object and re-assigned `my_list_1` to reference this new object.*\n",
        "\n",
        "*Similarly with ditionary objects that are also mutable types.*"
      ]
    },
    {
      "cell_type": "code",
      "execution_count": null,
      "id": "89eec941-cb90-466f-a10f-b18ab2824ea5",
      "metadata": {
        "id": "89eec941-cb90-466f-a10f-b18ab2824ea5",
        "outputId": "9a8dc801-a54a-443f-ebae-12ebc39d2404"
      },
      "outputs": [
        {
          "name": "stdout",
          "output_type": "stream",
          "text": [
            "{'key1': 'value 1'}\n",
            "0x20abca8c080\n"
          ]
        }
      ],
      "source": [
        "my_dict = dict(key1 = 'value 1')\n",
        "print(my_dict)\n",
        "print(hex(id(my_dict)))"
      ]
    },
    {
      "cell_type": "code",
      "execution_count": null,
      "id": "b990da90-656e-4c65-8e8a-0db1b75d5510",
      "metadata": {
        "id": "b990da90-656e-4c65-8e8a-0db1b75d5510",
        "outputId": "b6023421-5db9-465d-fca5-6868e6d25308"
      },
      "outputs": [
        {
          "name": "stdout",
          "output_type": "stream",
          "text": [
            "{'key1': 'modified value 1'}\n",
            "0x20abca8c080\n"
          ]
        }
      ],
      "source": [
        "my_dict['key1'] = 'modified value 1'\n",
        "print(my_dict)\n",
        "print(hex(id(my_dict)))"
      ]
    },
    {
      "cell_type": "code",
      "execution_count": null,
      "id": "7eb02d18-00f1-4ddb-83e0-e6e17ce3f1c6",
      "metadata": {
        "id": "7eb02d18-00f1-4ddb-83e0-e6e17ce3f1c6",
        "outputId": "ae302483-1863-4fed-a316-0a0c42d016aa"
      },
      "outputs": [
        {
          "name": "stdout",
          "output_type": "stream",
          "text": [
            "{'key1': 'modified value 1', 'key2': 'value 2'}\n",
            "0x20abca8c080\n"
          ]
        }
      ],
      "source": [
        "my_dict['key2'] = 'value 2'\n",
        "print(my_dict)\n",
        "print(hex(id(my_dict)))"
      ]
    },
    {
      "cell_type": "markdown",
      "id": "8212405a-35b1-44fa-bce3-8661ba7be013",
      "metadata": {
        "id": "8212405a-35b1-44fa-bce3-8661ba7be013"
      },
      "source": [
        "Once again we see that while we are modifying the contents of the dictionary, the memory address of `my_dict` has not changed.\n",
        "\n",
        "Now consider the immutable sequence type: tuple\n",
        "\n",
        "The tuple is immutable, so elements cannot be added, removed or replaced."
      ]
    },
    {
      "cell_type": "code",
      "execution_count": null,
      "id": "24c627f7-7f41-493d-be52-8fe73d1261c4",
      "metadata": {
        "id": "24c627f7-7f41-493d-be52-8fe73d1261c4"
      },
      "outputs": [],
      "source": [
        "t = (1 ,2 ,3)"
      ]
    },
    {
      "cell_type": "markdown",
      "id": "712c8a7c-e30b-4e23-b276-b3d64b142c47",
      "metadata": {
        "id": "712c8a7c-e30b-4e23-b276-b3d64b142c47"
      },
      "source": [
        "This tuple will never change at all. It has three elementes, the integers 1, 2 , and 3. This will remain the case as long as `t`'s reference is not changed."
      ]
    },
    {
      "cell_type": "markdown",
      "id": "e52287a4-fb07-4e8f-9203-e6a0ac2f7620",
      "metadata": {
        "id": "e52287a4-fb07-4e8f-9203-e6a0ac2f7620"
      },
      "source": [
        "---\n",
        "**BE CAREFUL!**"
      ]
    },
    {
      "cell_type": "markdown",
      "id": "7a6c4fc3-f176-41a4-a54b-2c29c2437f9e",
      "metadata": {
        "id": "7a6c4fc3-f176-41a4-a54b-2c29c2437f9e"
      },
      "source": [
        "*But, consider the following tuple:*"
      ]
    },
    {
      "cell_type": "code",
      "execution_count": null,
      "id": "9e7109c4-36a0-4c7d-86a6-57a2f4fa44aa",
      "metadata": {
        "id": "9e7109c4-36a0-4c7d-86a6-57a2f4fa44aa"
      },
      "outputs": [],
      "source": [
        "a = [1, 2]\n",
        "b = [3, 4]\n",
        "t = (a, b)"
      ]
    },
    {
      "cell_type": "markdown",
      "id": "55609e5c-78c4-4a39-bdc6-abd0927b7dc5",
      "metadata": {
        "id": "55609e5c-78c4-4a39-bdc6-abd0927b7dc5"
      },
      "source": [
        "*Now, `t` is still immutable, i.e. it contains a reference to the object `a` abd the object `b`. That will never change as long as `t`'s reference is not re-assigned.*\n",
        "\n",
        "*However, the elements `a` and `b` are, themselves, mutable.*"
      ]
    },
    {
      "cell_type": "code",
      "execution_count": null,
      "id": "229a9b82-3eb4-4772-b7b4-2f5ebe932b0a",
      "metadata": {
        "id": "229a9b82-3eb4-4772-b7b4-2f5ebe932b0a",
        "outputId": "4160a987-1d5e-459f-9e30-d4221f0d8167"
      },
      "outputs": [
        {
          "name": "stdout",
          "output_type": "stream",
          "text": [
            "([1, 2, 3], [3, 4, 5])\n"
          ]
        }
      ],
      "source": [
        "a.append(3)\n",
        "b.append(5)\n",
        "print(t)"
      ]
    },
    {
      "cell_type": "markdown",
      "id": "9cb04990-a0e2-4f8d-ab7e-033f6d986bed",
      "metadata": {
        "id": "9cb04990-a0e2-4f8d-ab7e-033f6d986bed"
      },
      "source": [
        "*Observe that the contents of `a` and `b` did change!*\n",
        "\n",
        "*So immutability can be a littlme more subtle than just thinking something can never change.*\n",
        "\n",
        "*The tuple `t` did not change - it contains two elements, that are the references `a` and `b`. And that will not change. But, because the referenced elements are mutable themselves, it appears as though the tuple has changed.*\n",
        "\n",
        "*It  hasn't though - tha distinction is subtle but important to understand!*"
      ]
    },
    {
      "cell_type": "markdown",
      "id": "050a61f7-610c-4353-b277-e6192f22a2ab",
      "metadata": {
        "id": "050a61f7-610c-4353-b277-e6192f22a2ab"
      },
      "source": [
        "### 07 - Function Arguments and Mutability"
      ]
    },
    {
      "cell_type": "markdown",
      "id": "88a70722-7bf3-4d87-98cd-685449810948",
      "metadata": {
        "id": "88a70722-7bf3-4d87-98cd-685449810948"
      },
      "source": [
        "Consider a function that receives a string argument, and changes the argument in some way:"
      ]
    },
    {
      "cell_type": "code",
      "execution_count": null,
      "id": "f0f73cd8-ae44-4677-b344-d32dc2e9743a",
      "metadata": {
        "id": "f0f73cd8-ae44-4677-b344-d32dc2e9743a"
      },
      "outputs": [],
      "source": [
        "def process(s):\n",
        "    print('initial s # = {0}'.format(hex(id(s))))\n",
        "    s = s + ' world'\n",
        "    print('s after change # = {0}'.format(hex(id(s))))"
      ]
    },
    {
      "cell_type": "code",
      "execution_count": null,
      "id": "9e873d02-0123-4c5f-86f5-a2ff356b58eb",
      "metadata": {
        "id": "9e873d02-0123-4c5f-86f5-a2ff356b58eb",
        "outputId": "ff7d5211-3c7a-46e9-8314-7bd536b0b441"
      },
      "outputs": [
        {
          "name": "stdout",
          "output_type": "stream",
          "text": [
            "my_var # = 0x20abc789230\n"
          ]
        }
      ],
      "source": [
        "my_var = 'hello'\n",
        "print('my_var # = {0}'.format(hex(id(my_var))))"
      ]
    },
    {
      "cell_type": "markdown",
      "id": "79e813be-1fc5-404b-9173-3c8625b20aee",
      "metadata": {
        "id": "79e813be-1fc5-404b-9173-3c8625b20aee"
      },
      "source": [
        "Note that when s is received, it is referencing the same object as `my_var`.\n",
        "\n",
        "After we \"modify\" s, s is pointing to a new memory address:\n"
      ]
    },
    {
      "cell_type": "code",
      "execution_count": null,
      "id": "bd9779c9-f449-4329-a1bb-891df9f9325b",
      "metadata": {
        "id": "bd9779c9-f449-4329-a1bb-891df9f9325b",
        "outputId": "e0e6e304-3eb5-4eae-9d9c-18fbd2bd0705"
      },
      "outputs": [
        {
          "name": "stdout",
          "output_type": "stream",
          "text": [
            "initial s # = 0x20abc789230\n",
            "s after change # = 0x20abca7aef0\n"
          ]
        }
      ],
      "source": [
        "process(my_var)"
      ]
    },
    {
      "cell_type": "markdown",
      "id": "7605205d-3518-4a9e-b9a9-24228a4034fa",
      "metadata": {
        "id": "7605205d-3518-4a9e-b9a9-24228a4034fa"
      },
      "source": [
        "And our own variable `my_var` is still pointing to the original memory address:"
      ]
    },
    {
      "cell_type": "code",
      "execution_count": null,
      "id": "cf8a0489-76f1-4a35-af1f-57bb7ed429af",
      "metadata": {
        "id": "cf8a0489-76f1-4a35-af1f-57bb7ed429af",
        "outputId": "643ff88c-ac6e-48e1-8925-aa676758e7ef"
      },
      "outputs": [
        {
          "name": "stdout",
          "output_type": "stream",
          "text": [
            "initial s # = 0x20abc789230\n",
            "s after change # = 0x20abca8ba70\n"
          ]
        }
      ],
      "source": [
        "process(my_var)"
      ]
    },
    {
      "cell_type": "markdown",
      "id": "38d6feea-1284-484d-a750-c0c18ede3edd",
      "metadata": {
        "id": "38d6feea-1284-484d-a750-c0c18ede3edd"
      },
      "source": [
        "And our own variable `my_var` is still pointing to the original memory address:"
      ]
    },
    {
      "cell_type": "code",
      "execution_count": null,
      "id": "31c35b1c-63dc-48fb-b528-666c9ddc40fa",
      "metadata": {
        "id": "31c35b1c-63dc-48fb-b528-666c9ddc40fa",
        "outputId": "754f033f-e25e-47a4-8e78-0604e4ba2a0e"
      },
      "outputs": [
        {
          "name": "stdout",
          "output_type": "stream",
          "text": [
            "my_var # = 0x20abc789230\n"
          ]
        }
      ],
      "source": [
        "print('my_var # = {0}'.format(hex(id(my_var))))"
      ]
    },
    {
      "cell_type": "markdown",
      "id": "c75377aa-587b-47d8-bc13-0c66f9d9009b",
      "metadata": {
        "id": "c75377aa-587b-47d8-bc13-0c66f9d9009b"
      },
      "source": [
        "Let's see how this works with mutable objects:"
      ]
    },
    {
      "cell_type": "code",
      "execution_count": null,
      "id": "0aaae6c4-cc1d-406a-a15f-88546c52860f",
      "metadata": {
        "id": "0aaae6c4-cc1d-406a-a15f-88546c52860f"
      },
      "outputs": [],
      "source": [
        "def modify_list(items):\n",
        "    print('initial items # = {0}'.format(hex(id(items))))\n",
        "    if len(items) > 0:\n",
        "        items[0] = items[0] ** 2\n",
        "    items.pop()\n",
        "    items.append(5)\n",
        "    print('final items # = {0}'.format(hex(id(items))))"
      ]
    },
    {
      "cell_type": "code",
      "execution_count": null,
      "id": "3c545bdf-0721-4f44-b9c8-fc4fdd93605e",
      "metadata": {
        "id": "3c545bdf-0721-4f44-b9c8-fc4fdd93605e",
        "outputId": "7f4d369d-20da-4995-a756-4bf992e70bbd"
      },
      "outputs": [
        {
          "name": "stdout",
          "output_type": "stream",
          "text": [
            "my_list # = 0x20abdb34bc0\n"
          ]
        }
      ],
      "source": [
        "my_list = [2, 3, 4]\n",
        "print('my_list # = {0}'.format(hex(id(my_list))))"
      ]
    },
    {
      "cell_type": "code",
      "execution_count": null,
      "id": "524a74ff-c76b-4d1e-bb96-cd44f0fa57ca",
      "metadata": {
        "id": "524a74ff-c76b-4d1e-bb96-cd44f0fa57ca",
        "outputId": "c68fdd02-124a-4ee0-b627-5cfbec910250"
      },
      "outputs": [
        {
          "name": "stdout",
          "output_type": "stream",
          "text": [
            "initial items # = 0x20abdb34bc0\n",
            "final items # = 0x20abdb34bc0\n"
          ]
        }
      ],
      "source": [
        "modify_list(my_list)"
      ]
    },
    {
      "cell_type": "code",
      "execution_count": null,
      "id": "b15cd9d2-d86b-46a6-aab2-a7ac9905b79d",
      "metadata": {
        "id": "b15cd9d2-d86b-46a6-aab2-a7ac9905b79d",
        "outputId": "b9eaf9c9-025d-44ce-f71d-fe2f6b5ae9e0"
      },
      "outputs": [
        {
          "name": "stdout",
          "output_type": "stream",
          "text": [
            "[4, 3, 5]\n",
            "my_list # = 0x20abdb34bc0\n"
          ]
        }
      ],
      "source": [
        "print(my_list)\n",
        "print('my_list # = {0}'.format(hex(id(my_list))))"
      ]
    },
    {
      "cell_type": "markdown",
      "id": "ed4bc41f-55ec-438b-bb47-837cad71ac8b",
      "metadata": {
        "id": "ed4bc41f-55ec-438b-bb47-837cad71ac8b"
      },
      "source": [
        "As you can see, thoughout all the code, the memory address referenced by `my_list` and `items` is always the same (shared) reference - we are simply modifying the contents (internal state) of the object at that memory address.\n",
        "\n",
        "Now, even with immutable container objects we have to be careful, e.g. a tuple containing a list (the tuple is immutable, but the list element inside the tuple is mutable)"
      ]
    },
    {
      "cell_type": "code",
      "execution_count": null,
      "id": "62926a76-6f96-4dbe-80a9-ee50efa9056f",
      "metadata": {
        "id": "62926a76-6f96-4dbe-80a9-ee50efa9056f"
      },
      "outputs": [],
      "source": [
        "def modify_tuple(t):\n",
        "    print('initial t # = {0}'.format(hex(id(t))))\n",
        "    t[0].append(100)\n",
        "    print('final t # = {0}'.format(hex(id(t))))"
      ]
    },
    {
      "cell_type": "code",
      "execution_count": null,
      "id": "9efc2a88-4f5c-4e33-a3f9-6b38e8ff5816",
      "metadata": {
        "id": "9efc2a88-4f5c-4e33-a3f9-6b38e8ff5816"
      },
      "outputs": [],
      "source": [
        "my_tuple = ([1, 2], 'a')"
      ]
    },
    {
      "cell_type": "code",
      "execution_count": null,
      "id": "c0000427-0979-419f-8fee-7b82a75e161d",
      "metadata": {
        "id": "c0000427-0979-419f-8fee-7b82a75e161d",
        "outputId": "0d825713-3a66-4f34-e2b3-f9cbc21ab322"
      },
      "outputs": [
        {
          "data": {
            "text/plain": [
              "'0x20abcb36200'"
            ]
          },
          "execution_count": 66,
          "metadata": {},
          "output_type": "execute_result"
        }
      ],
      "source": [
        "hex(id(my_tuple))"
      ]
    },
    {
      "cell_type": "code",
      "execution_count": null,
      "id": "53433a58-a63d-4504-b5f8-4a7bb48996bc",
      "metadata": {
        "id": "53433a58-a63d-4504-b5f8-4a7bb48996bc",
        "outputId": "ef5c6e9f-13f6-4004-8081-b069b541cd9b"
      },
      "outputs": [
        {
          "name": "stdout",
          "output_type": "stream",
          "text": [
            "initial t # = 0x20abcb36200\n",
            "final t # = 0x20abcb36200\n"
          ]
        }
      ],
      "source": [
        "modify_tuple(my_tuple)"
      ]
    },
    {
      "cell_type": "code",
      "execution_count": null,
      "id": "6e75dcbe-2f92-464d-a224-bcf9c7fec5d1",
      "metadata": {
        "id": "6e75dcbe-2f92-464d-a224-bcf9c7fec5d1",
        "outputId": "48e94fc2-ad92-480a-a870-27d4195917d5"
      },
      "outputs": [
        {
          "data": {
            "text/plain": [
              "([1, 2, 100], 'a')"
            ]
          },
          "execution_count": 68,
          "metadata": {},
          "output_type": "execute_result"
        }
      ],
      "source": [
        "my_tuple"
      ]
    },
    {
      "cell_type": "markdown",
      "id": "a44a386c-a776-452d-914e-cb438b10b389",
      "metadata": {
        "id": "a44a386c-a776-452d-914e-cb438b10b389"
      },
      "source": [
        "As you can see, the first element of the tuple was mutated."
      ]
    },
    {
      "cell_type": "markdown",
      "id": "3acad3af-90d6-45ce-88d7-26dfb7f352a5",
      "metadata": {
        "id": "3acad3af-90d6-45ce-88d7-26dfb7f352a5"
      },
      "source": [
        "### 08 - Shared References and Mutability"
      ]
    },
    {
      "cell_type": "markdown",
      "id": "c7981669-2132-401d-b408-3c40c2d2aafc",
      "metadata": {
        "id": "c7981669-2132-401d-b408-3c40c2d2aafc"
      },
      "source": [
        "The following sets up a shared reference between the variables `my_var_1` and `my_var_2`"
      ]
    },
    {
      "cell_type": "code",
      "execution_count": null,
      "id": "cad97944-8258-45ea-b116-0a82086e5559",
      "metadata": {
        "id": "cad97944-8258-45ea-b116-0a82086e5559",
        "outputId": "84d07513-de71-4f7e-d9ee-f53fb24b9f2d"
      },
      "outputs": [
        {
          "name": "stdout",
          "output_type": "stream",
          "text": [
            "hello\n",
            "hello\n"
          ]
        }
      ],
      "source": [
        "my_var_1 = 'hello'\n",
        "my_var_2 = my_var_1\n",
        "print(my_var_1)\n",
        "print(my_var_2)"
      ]
    },
    {
      "cell_type": "code",
      "execution_count": null,
      "id": "a6063f45-88da-4729-b110-4789fe8eb387",
      "metadata": {
        "id": "a6063f45-88da-4729-b110-4789fe8eb387",
        "outputId": "ddb764e9-38f3-4748-8c47-8dc6fc6e3c58"
      },
      "outputs": [
        {
          "name": "stdout",
          "output_type": "stream",
          "text": [
            "0x20abc789230\n",
            "0x20abc789230\n"
          ]
        }
      ],
      "source": [
        "print(hex(id(my_var_1)))\n",
        "print(hex(id(my_var_2)))"
      ]
    },
    {
      "cell_type": "code",
      "execution_count": null,
      "id": "fbaaedec-d825-499b-a337-91ba3977c32c",
      "metadata": {
        "id": "fbaaedec-d825-499b-a337-91ba3977c32c"
      },
      "outputs": [],
      "source": [
        "my_var_2 = my_var_2 + ' world!'"
      ]
    },
    {
      "cell_type": "code",
      "execution_count": null,
      "id": "00fae0d5-a03d-4df4-a176-2b6a5f62fa48",
      "metadata": {
        "id": "00fae0d5-a03d-4df4-a176-2b6a5f62fa48",
        "outputId": "ea762090-89b1-45a8-d49a-be2c6667ae3c"
      },
      "outputs": [
        {
          "name": "stdout",
          "output_type": "stream",
          "text": [
            "0x20abc789230\n",
            "0x20abcb25db0\n"
          ]
        }
      ],
      "source": [
        "print(hex(id(my_var_1)))\n",
        "print(hex(id(my_var_2)))"
      ]
    },
    {
      "cell_type": "markdown",
      "id": "c7c67b56-5eea-4b0d-8632-785d8ea96aeb",
      "metadata": {
        "id": "c7c67b56-5eea-4b0d-8632-785d8ea96aeb"
      },
      "source": [
        "---\n",
        "**BE CAREFUL!**"
      ]
    },
    {
      "cell_type": "markdown",
      "id": "d24776ac-3925-47b3-b477-9b60ca63d6f7",
      "metadata": {
        "id": "d24776ac-3925-47b3-b477-9b60ca63d6f7"
      },
      "source": [
        "*Be careful if the variable type is mutable!*\n",
        "\n",
        "*Here we create a list `(my_list_1)` and create a variable `(my_list_2)` referencing the same list object:*"
      ]
    },
    {
      "cell_type": "code",
      "execution_count": null,
      "id": "16a08b00-56b3-4b81-822e-1b94ddd2b64d",
      "metadata": {
        "id": "16a08b00-56b3-4b81-822e-1b94ddd2b64d",
        "outputId": "228228d5-caa3-487b-b4db-f4b04f11e2ea"
      },
      "outputs": [
        {
          "name": "stdout",
          "output_type": "stream",
          "text": [
            "[1, 2, 3]\n",
            "[1, 2, 3]\n"
          ]
        }
      ],
      "source": [
        "my_list_1 = [1, 2, 3]\n",
        "my_list_2 = my_list_1\n",
        "print(my_list_1)\n",
        "print(my_list_2)"
      ]
    },
    {
      "cell_type": "markdown",
      "id": "c76c25bf-377f-4129-b4aa-9631ee9aee1b",
      "metadata": {
        "id": "c76c25bf-377f-4129-b4aa-9631ee9aee1b"
      },
      "source": [
        "*As we can see they have the same memory address (shared reference):*"
      ]
    },
    {
      "cell_type": "code",
      "execution_count": null,
      "id": "70742ef0-367f-400a-ac53-9cfeaf87ab89",
      "metadata": {
        "id": "70742ef0-367f-400a-ac53-9cfeaf87ab89",
        "outputId": "03cb105a-8083-407a-ac7c-e31df2dde8ac"
      },
      "outputs": [
        {
          "name": "stdout",
          "output_type": "stream",
          "text": [
            "0x20abca7ae80\n",
            "0x20abca7ae80\n"
          ]
        }
      ],
      "source": [
        "print(hex(id(my_list_1)))\n",
        "print(hex(id(my_list_2)))"
      ]
    },
    {
      "cell_type": "markdown",
      "id": "791625a5-caf2-4eed-9837-c4a2461b0584",
      "metadata": {
        "id": "791625a5-caf2-4eed-9837-c4a2461b0584"
      },
      "source": [
        "Now we modify the list referenced by `my_list_2`:"
      ]
    },
    {
      "cell_type": "code",
      "execution_count": null,
      "id": "1676d9f5-9c2e-4887-94b8-d47d1ceb4a7c",
      "metadata": {
        "id": "1676d9f5-9c2e-4887-94b8-d47d1ceb4a7c"
      },
      "outputs": [],
      "source": [
        "my_list_2.append(4)"
      ]
    },
    {
      "cell_type": "markdown",
      "id": "ad7f381e-4ef6-48b9-8f78-4a6dfc9e3142",
      "metadata": {
        "id": "ad7f381e-4ef6-48b9-8f78-4a6dfc9e3142"
      },
      "source": [
        "`my_list_2` has been modified:"
      ]
    },
    {
      "cell_type": "code",
      "execution_count": null,
      "id": "256c0977-2881-49d8-b5d2-3dc8cd1bcbcf",
      "metadata": {
        "id": "256c0977-2881-49d8-b5d2-3dc8cd1bcbcf",
        "outputId": "b2b6f7e9-0f55-4f4c-d7c4-4e00997de0db"
      },
      "outputs": [
        {
          "name": "stdout",
          "output_type": "stream",
          "text": [
            "[1, 2, 3, 4]\n"
          ]
        }
      ],
      "source": [
        "print(my_list_2)"
      ]
    },
    {
      "cell_type": "markdown",
      "id": "120705e1-7033-4ffd-9b89-808fec68cfaf",
      "metadata": {
        "id": "120705e1-7033-4ffd-9b89-808fec68cfaf"
      },
      "source": [
        "And since my_list_1 references the same list object, it has also changed:"
      ]
    },
    {
      "cell_type": "code",
      "execution_count": null,
      "id": "87605a47-a622-473c-8414-6e00d1bf2f74",
      "metadata": {
        "id": "87605a47-a622-473c-8414-6e00d1bf2f74",
        "outputId": "46914223-13a5-4f41-ce23-e36683c658be"
      },
      "outputs": [
        {
          "name": "stdout",
          "output_type": "stream",
          "text": [
            "[1, 2, 3, 4]\n"
          ]
        }
      ],
      "source": [
        "print(my_list_1)"
      ]
    },
    {
      "cell_type": "markdown",
      "id": "74d54825-19c8-4731-8368-9af721f475a4",
      "metadata": {
        "id": "74d54825-19c8-4731-8368-9af721f475a4"
      },
      "source": [
        "As you can see, both variables still share the same reference:"
      ]
    },
    {
      "cell_type": "code",
      "execution_count": null,
      "id": "f31b7d71-8e40-42c1-8df0-e84a08881eb2",
      "metadata": {
        "id": "f31b7d71-8e40-42c1-8df0-e84a08881eb2",
        "outputId": "87d73d4a-1327-4142-c9ed-c57059e5cdf0"
      },
      "outputs": [
        {
          "name": "stdout",
          "output_type": "stream",
          "text": [
            "0x20abca7ae80\n",
            "0x20abca7ae80\n"
          ]
        }
      ],
      "source": [
        "print(hex(id(my_list_1)))\n",
        "print(hex(id(my_list_2)))"
      ]
    },
    {
      "cell_type": "markdown",
      "id": "b0e8f833-59c4-48e6-a483-89a0b52a7251",
      "metadata": {
        "id": "b0e8f833-59c4-48e6-a483-89a0b52a7251"
      },
      "source": [
        "**Behind the scenes with Python's memory manager**"
      ]
    },
    {
      "cell_type": "markdown",
      "id": "a1e9c097-5c3f-43fc-b5bf-b49102a9eb2d",
      "metadata": {
        "id": "a1e9c097-5c3f-43fc-b5bf-b49102a9eb2d"
      },
      "source": [
        "Recall from a few lectures back:"
      ]
    },
    {
      "cell_type": "code",
      "execution_count": null,
      "id": "bee55fb8-96ad-4206-a36b-42ba611c935a",
      "metadata": {
        "id": "bee55fb8-96ad-4206-a36b-42ba611c935a"
      },
      "outputs": [],
      "source": [
        "a = 10\n",
        "b = 10"
      ]
    },
    {
      "cell_type": "code",
      "execution_count": null,
      "id": "d46992d4-7ca3-4401-92fe-1647f366c78a",
      "metadata": {
        "id": "d46992d4-7ca3-4401-92fe-1647f366c78a",
        "outputId": "be17f6f5-e96c-4879-fb61-74f15137f545"
      },
      "outputs": [
        {
          "name": "stdout",
          "output_type": "stream",
          "text": [
            "0x20ab78b6a50\n",
            "0x20ab78b6a50\n"
          ]
        }
      ],
      "source": [
        "print(hex(id(a)))\n",
        "print(hex(id(b)))"
      ]
    },
    {
      "cell_type": "markdown",
      "id": "dab2c274-45db-43b1-bc73-26da8fe1341e",
      "metadata": {
        "id": "dab2c274-45db-43b1-bc73-26da8fe1341e"
      },
      "source": [
        "Same memory address!!\n",
        "\n",
        "This is safe for Python to do because integer objects are immutable.\n",
        "\n",
        "So, even though `a` and `b` initially shared the same memory address, we can never modify a's value by \"modifying\" b' value.\n",
        "\n",
        "The only way to change `b`'s value is to change it's reference, which will never affect `a`."
      ]
    },
    {
      "cell_type": "code",
      "execution_count": null,
      "id": "9e4b76c6-29d8-49f7-978a-a945ec766696",
      "metadata": {
        "id": "9e4b76c6-29d8-49f7-978a-a945ec766696"
      },
      "outputs": [],
      "source": [
        "b = 15"
      ]
    },
    {
      "cell_type": "code",
      "execution_count": null,
      "id": "3285ec24-ad74-42e2-9d2d-ca5c8bb80e4b",
      "metadata": {
        "id": "3285ec24-ad74-42e2-9d2d-ca5c8bb80e4b",
        "outputId": "e5cd8d23-67a5-464d-cfc9-7114dd38c2e6"
      },
      "outputs": [
        {
          "name": "stdout",
          "output_type": "stream",
          "text": [
            "0x20ab78b6a50\n",
            "0x20ab78b6af0\n"
          ]
        }
      ],
      "source": [
        "print(hex(id(a)))\n",
        "print(hex(id(b)))"
      ]
    },
    {
      "cell_type": "markdown",
      "id": "fe60fe1d-4f39-4e7c-a308-ab365e1be3ed",
      "metadata": {
        "id": "fe60fe1d-4f39-4e7c-a308-ab365e1be3ed"
      },
      "source": [
        "However, for mutable objects, Python's memory manager does not do this, since that would not be safe."
      ]
    },
    {
      "cell_type": "code",
      "execution_count": null,
      "id": "a8d5bb57-8aa6-49ac-903c-7e96635a17b8",
      "metadata": {
        "id": "a8d5bb57-8aa6-49ac-903c-7e96635a17b8"
      },
      "outputs": [],
      "source": [
        "my_list_1 = [1, 2, 3]\n",
        "my_list_2 = [1, 2 ,3]"
      ]
    },
    {
      "cell_type": "markdown",
      "id": "60bab73a-18b8-4b51-b7ae-37e717fc621f",
      "metadata": {
        "id": "60bab73a-18b8-4b51-b7ae-37e717fc621f"
      },
      "source": [
        "As you can see, although the two variables were assingend identical \"contents\", the memory addresses are not the same:"
      ]
    },
    {
      "cell_type": "code",
      "execution_count": null,
      "id": "adf9da01-370b-4c24-bb64-105566517032",
      "metadata": {
        "id": "adf9da01-370b-4c24-bb64-105566517032",
        "outputId": "3b9a8469-c7ec-469e-c9dc-22ad5af010c0"
      },
      "outputs": [
        {
          "name": "stdout",
          "output_type": "stream",
          "text": [
            "0x20abdb41440\n",
            "0x20abca8b600\n"
          ]
        }
      ],
      "source": [
        "print(hex(id(my_list_1)))\n",
        "print(hex(id(my_list_2)))"
      ]
    },
    {
      "cell_type": "markdown",
      "id": "b92adf53-f4a8-44cf-97aa-74ea90241b03",
      "metadata": {
        "id": "b92adf53-f4a8-44cf-97aa-74ea90241b03"
      },
      "source": [
        "### 09 - Variable Equality"
      ]
    },
    {
      "cell_type": "markdown",
      "id": "22fb5a7a-cc4a-4342-bc88-263e7fdfcdc7",
      "metadata": {
        "id": "22fb5a7a-cc4a-4342-bc88-263e7fdfcdc7"
      },
      "source": [
        "From the previous lecture we know that `a` and `b` will have a shared reference:"
      ]
    },
    {
      "cell_type": "code",
      "execution_count": null,
      "id": "a4d8f00d-7433-489d-9180-8e1fe049037e",
      "metadata": {
        "id": "a4d8f00d-7433-489d-9180-8e1fe049037e",
        "outputId": "e4a8e6b7-627c-4520-8ae7-4ed3a31edfc5"
      },
      "outputs": [
        {
          "name": "stdout",
          "output_type": "stream",
          "text": [
            "0x20ab78b6a50\n",
            "0x20ab78b6a50\n"
          ]
        }
      ],
      "source": [
        "a = 10\n",
        "b = 10\n",
        "\n",
        "print(hex(id(a)))\n",
        "print(hex(id(b)))"
      ]
    },
    {
      "cell_type": "markdown",
      "id": "fe2aadcd-c377-46c1-97d3-02fdf128fddb",
      "metadata": {
        "id": "fe2aadcd-c377-46c1-97d3-02fdf128fddb"
      },
      "source": [
        "When we use the `is` operator, we are comparing t he moemory address references:"
      ]
    },
    {
      "cell_type": "code",
      "execution_count": null,
      "id": "627ac2ec-666c-45cd-87ef-ddc32a7088b6",
      "metadata": {
        "id": "627ac2ec-666c-45cd-87ef-ddc32a7088b6",
        "outputId": "d68a6655-9e60-4899-d3c7-6797b6ed7a3c"
      },
      "outputs": [
        {
          "name": "stdout",
          "output_type": "stream",
          "text": [
            "a is b  True\n"
          ]
        }
      ],
      "source": [
        "print(\"a is b \", a is b)"
      ]
    },
    {
      "cell_type": "markdown",
      "id": "1b91f466-f220-47cf-b3c3-d27a8e6f0073",
      "metadata": {
        "id": "1b91f466-f220-47cf-b3c3-d27a8e6f0073"
      },
      "source": [
        "But if we use the `==` operator, we are comparing the contents:"
      ]
    },
    {
      "cell_type": "code",
      "execution_count": null,
      "id": "17344779-5ada-432e-83da-22169ed3d003",
      "metadata": {
        "id": "17344779-5ada-432e-83da-22169ed3d003",
        "outputId": "451205c1-6023-4d2d-bb5d-1797cf738593"
      },
      "outputs": [
        {
          "name": "stdout",
          "output_type": "stream",
          "text": [
            "a == b True\n"
          ]
        }
      ],
      "source": [
        "print(\"a == b\", a == b)"
      ]
    },
    {
      "cell_type": "markdown",
      "id": "2272038f-5bfb-47f0-831d-97ca85efc456",
      "metadata": {
        "id": "2272038f-5bfb-47f0-831d-97ca85efc456"
      },
      "source": [
        "The following however, do not have a shared reference:"
      ]
    },
    {
      "cell_type": "code",
      "execution_count": null,
      "id": "be6ddb83-98f8-4d19-93f1-482dcc2ec565",
      "metadata": {
        "id": "be6ddb83-98f8-4d19-93f1-482dcc2ec565",
        "outputId": "4357fb29-ff8a-442e-f66e-b7f9ce2194db"
      },
      "outputs": [
        {
          "name": "stdout",
          "output_type": "stream",
          "text": [
            "0x20abdb42a40\n",
            "0x20abca6fa80\n"
          ]
        }
      ],
      "source": [
        "a = [1, 2, 3]\n",
        "b = [1, 2, 3]\n",
        "\n",
        "print(hex(id(a)))\n",
        "print(hex(id(b)))"
      ]
    },
    {
      "cell_type": "markdown",
      "id": "54e51b7d-0a50-49e5-8a53-9d92e4370cc1",
      "metadata": {
        "id": "54e51b7d-0a50-49e5-8a53-9d92e4370cc1"
      },
      "source": [
        "Although they are not the same objects, they do contain the same \"values\""
      ]
    },
    {
      "cell_type": "code",
      "execution_count": null,
      "id": "09eae8e7-3c96-4211-9d83-1a6eb6735d13",
      "metadata": {
        "id": "09eae8e7-3c96-4211-9d83-1a6eb6735d13",
        "outputId": "6e49fdce-a30c-4c67-ac3a-64f98989ad5e"
      },
      "outputs": [
        {
          "name": "stdout",
          "output_type": "stream",
          "text": [
            "a is b False\n",
            "a == b True\n"
          ]
        }
      ],
      "source": [
        "print(\"a is b\", a is b)\n",
        "print(\"a == b\", a == b)"
      ]
    },
    {
      "cell_type": "markdown",
      "id": "78cf594d-9547-450a-ab52-65ed62110071",
      "metadata": {
        "id": "78cf594d-9547-450a-ab52-65ed62110071"
      },
      "source": [
        "Python will attempt to compare values as best as posssible, for example:"
      ]
    },
    {
      "cell_type": "code",
      "execution_count": null,
      "id": "84a1d0d6-bd5f-4567-acca-4367f4b3d290",
      "metadata": {
        "id": "84a1d0d6-bd5f-4567-acca-4367f4b3d290"
      },
      "outputs": [],
      "source": [
        "a = 10\n",
        "b = 10.0"
      ]
    },
    {
      "cell_type": "markdown",
      "id": "4090f249-e998-4cb5-a43f-41ae5d1da6bb",
      "metadata": {
        "id": "4090f249-e998-4cb5-a43f-41ae5d1da6bb"
      },
      "source": [
        "These are not the same reference, since one object is an `int` and the other is a `float`"
      ]
    },
    {
      "cell_type": "code",
      "execution_count": null,
      "id": "3911e4f5-5fe0-4192-bbb6-f6caa4986e12",
      "metadata": {
        "id": "3911e4f5-5fe0-4192-bbb6-f6caa4986e12",
        "outputId": "8d628daa-70c5-478d-e445-e03bad7812f4"
      },
      "outputs": [
        {
          "name": "stdout",
          "output_type": "stream",
          "text": [
            "<class 'int'>\n",
            "<class 'float'>\n"
          ]
        }
      ],
      "source": [
        "print(type(a))\n",
        "print(type(b))"
      ]
    },
    {
      "cell_type": "code",
      "execution_count": null,
      "id": "6dd342b9-a4c9-4129-92fc-917a84fe1d80",
      "metadata": {
        "id": "6dd342b9-a4c9-4129-92fc-917a84fe1d80",
        "outputId": "14304582-03ee-419d-eae8-1ee7d9b4c452"
      },
      "outputs": [
        {
          "name": "stdout",
          "output_type": "stream",
          "text": [
            "0x20ab78b6a50\n",
            "0x20abdb528f0\n"
          ]
        }
      ],
      "source": [
        "print(hex(id(a)))\n",
        "print(hex(id(b)))"
      ]
    },
    {
      "cell_type": "code",
      "execution_count": null,
      "id": "f3428389-252a-446c-9bff-0756f6e00293",
      "metadata": {
        "id": "f3428389-252a-446c-9bff-0756f6e00293",
        "outputId": "1b6d13e6-4949-4514-eda7-eb29c58e6620"
      },
      "outputs": [
        {
          "name": "stdout",
          "output_type": "stream",
          "text": [
            "a is b False\n",
            "a == b True\n"
          ]
        }
      ],
      "source": [
        "print(\"a is b\", a is b)\n",
        "print(\"a == b\", a == b)"
      ]
    },
    {
      "cell_type": "markdown",
      "id": "38f71645-e422-4dd9-8775-069238178679",
      "metadata": {
        "id": "38f71645-e422-4dd9-8775-069238178679"
      },
      "source": [
        "So, even though `a` is an integer 10, and `b` is a float 10.0, the values will still compare as equal.\n",
        "\n",
        "In fact, this will also have the same behavior:"
      ]
    },
    {
      "cell_type": "code",
      "execution_count": null,
      "id": "6d977bb3-e02c-4c65-b8eb-2f11923ab5ee",
      "metadata": {
        "id": "6d977bb3-e02c-4c65-b8eb-2f11923ab5ee",
        "outputId": "d3509351-bb63-4df4-c49f-6680bf1fdcf1"
      },
      "outputs": [
        {
          "name": "stdout",
          "output_type": "stream",
          "text": [
            "<class 'complex'>\n"
          ]
        }
      ],
      "source": [
        "c = 10 + 0j\n",
        "print(type(c))"
      ]
    },
    {
      "cell_type": "code",
      "execution_count": null,
      "id": "1cf77357-c3bb-4ef9-8482-dc4d613cf351",
      "metadata": {
        "id": "1cf77357-c3bb-4ef9-8482-dc4d613cf351",
        "outputId": "2a495841-7caa-4cbd-e1de-48bb82a8462d"
      },
      "outputs": [
        {
          "name": "stdout",
          "output_type": "stream",
          "text": [
            "a is c False\n",
            "a == c True\n"
          ]
        }
      ],
      "source": [
        "print(\"a is c\", a is c)\n",
        "print(\"a == c\", a == c)"
      ]
    },
    {
      "cell_type": "markdown",
      "id": "349b439d-e743-4ce0-a3c6-45832e2b4d7b",
      "metadata": {
        "id": "349b439d-e743-4ce0-a3c6-45832e2b4d7b"
      },
      "source": [
        "**The None Object**"
      ]
    },
    {
      "cell_type": "markdown",
      "id": "c25fd85a-3442-4687-a99c-dcd48da255c6",
      "metadata": {
        "id": "c25fd85a-3442-4687-a99c-dcd48da255c6"
      },
      "source": [
        "`None` is a built-in \"variable\" of type `NoneType`.\n",
        "\n",
        "Basically the keyword `None` is a reference to an object instance of `NoneType`.\n",
        "\n",
        "NoneType objects are immutable! Python's memory manager will therefore use shared references to the None object."
      ]
    },
    {
      "cell_type": "code",
      "execution_count": null,
      "id": "83ebd0c0-b23c-4478-981b-3bd7a16588a0",
      "metadata": {
        "id": "83ebd0c0-b23c-4478-981b-3bd7a16588a0",
        "outputId": "a105abfa-85a3-4f1f-b046-79da4566add0"
      },
      "outputs": [
        {
          "name": "stdout",
          "output_type": "stream",
          "text": [
            "None\n"
          ]
        }
      ],
      "source": [
        "print(None)"
      ]
    },
    {
      "cell_type": "code",
      "execution_count": null,
      "id": "d2861f61-4379-4712-9c58-c4eb395a22a4",
      "metadata": {
        "id": "d2861f61-4379-4712-9c58-c4eb395a22a4",
        "outputId": "eda53389-0678-4286-9fcd-002b84140936"
      },
      "outputs": [
        {
          "data": {
            "text/plain": [
              "'0x7fff99ea9cd8'"
            ]
          },
          "execution_count": 103,
          "metadata": {},
          "output_type": "execute_result"
        }
      ],
      "source": [
        "hex(id(None))"
      ]
    },
    {
      "cell_type": "code",
      "execution_count": null,
      "id": "53fb135d-2550-4165-a808-91c5e137e93f",
      "metadata": {
        "id": "53fb135d-2550-4165-a808-91c5e137e93f",
        "outputId": "4100fbeb-ac29-4126-daa4-e5488ef9f087"
      },
      "outputs": [
        {
          "data": {
            "text/plain": [
              "NoneType"
            ]
          },
          "execution_count": 104,
          "metadata": {},
          "output_type": "execute_result"
        }
      ],
      "source": [
        "type(None)"
      ]
    },
    {
      "cell_type": "code",
      "execution_count": null,
      "id": "a2de817c-d3df-415d-b962-311252169d15",
      "metadata": {
        "id": "a2de817c-d3df-415d-b962-311252169d15",
        "outputId": "537bc5ce-2d89-414c-afc5-cf058fc19759"
      },
      "outputs": [
        {
          "name": "stdout",
          "output_type": "stream",
          "text": [
            "<class 'NoneType'>\n",
            "0x7fff99ea9cd8\n"
          ]
        }
      ],
      "source": [
        "a = None\n",
        "print(type(a))\n",
        "print(hex(id(a)))"
      ]
    },
    {
      "cell_type": "code",
      "execution_count": null,
      "id": "24f32794-24d0-4b3a-a5ac-77956bbc2629",
      "metadata": {
        "id": "24f32794-24d0-4b3a-a5ac-77956bbc2629",
        "outputId": "5f07f874-a6fe-493e-a80b-5816958f7aa9"
      },
      "outputs": [
        {
          "data": {
            "text/plain": [
              "True"
            ]
          },
          "execution_count": 106,
          "metadata": {},
          "output_type": "execute_result"
        }
      ],
      "source": [
        "a is None"
      ]
    },
    {
      "cell_type": "code",
      "execution_count": null,
      "id": "e5cd94ed-fd3d-4b3e-88d3-deef379984a0",
      "metadata": {
        "id": "e5cd94ed-fd3d-4b3e-88d3-deef379984a0",
        "outputId": "c87e558c-5993-48c1-f173-2c46bec80a71"
      },
      "outputs": [
        {
          "data": {
            "text/plain": [
              "True"
            ]
          },
          "execution_count": 107,
          "metadata": {},
          "output_type": "execute_result"
        }
      ],
      "source": [
        "a == None"
      ]
    },
    {
      "cell_type": "code",
      "execution_count": null,
      "id": "f4d4f1db-51ed-48d7-a21b-cc262d303103",
      "metadata": {
        "id": "f4d4f1db-51ed-48d7-a21b-cc262d303103",
        "outputId": "4eff7419-a6e9-428b-983f-c55b6d9e90ab"
      },
      "outputs": [
        {
          "data": {
            "text/plain": [
              "'0x7fff99ea9cd8'"
            ]
          },
          "execution_count": 108,
          "metadata": {},
          "output_type": "execute_result"
        }
      ],
      "source": [
        "b = None\n",
        "hex(id(b))"
      ]
    },
    {
      "cell_type": "code",
      "execution_count": null,
      "id": "e4ef89f9-afc3-4427-8053-72e237a20de4",
      "metadata": {
        "id": "e4ef89f9-afc3-4427-8053-72e237a20de4",
        "outputId": "529eab9b-0d33-4705-8075-99cec3ea058b"
      },
      "outputs": [
        {
          "data": {
            "text/plain": [
              "True"
            ]
          },
          "execution_count": 109,
          "metadata": {},
          "output_type": "execute_result"
        }
      ],
      "source": [
        "a is b"
      ]
    },
    {
      "cell_type": "code",
      "execution_count": null,
      "id": "1314d4c3-140a-4f0f-9537-cd36a2ce9445",
      "metadata": {
        "id": "1314d4c3-140a-4f0f-9537-cd36a2ce9445",
        "outputId": "badd7d3a-6622-43ae-adfc-43e1c5d75ab6"
      },
      "outputs": [
        {
          "data": {
            "text/plain": [
              "True"
            ]
          },
          "execution_count": 110,
          "metadata": {},
          "output_type": "execute_result"
        }
      ],
      "source": [
        "a == b"
      ]
    },
    {
      "cell_type": "code",
      "execution_count": null,
      "id": "02004ea5-e976-4f25-bb5f-b1b9f7422bd5",
      "metadata": {
        "id": "02004ea5-e976-4f25-bb5f-b1b9f7422bd5"
      },
      "outputs": [],
      "source": [
        "l = []"
      ]
    },
    {
      "cell_type": "code",
      "execution_count": null,
      "id": "69fdba61-4825-492a-b1cb-efb5128dc71c",
      "metadata": {
        "id": "69fdba61-4825-492a-b1cb-efb5128dc71c",
        "outputId": "b019b673-4b58-4219-d452-5538414ea48a"
      },
      "outputs": [
        {
          "data": {
            "text/plain": [
              "list"
            ]
          },
          "execution_count": 112,
          "metadata": {},
          "output_type": "execute_result"
        }
      ],
      "source": [
        "type(l)"
      ]
    },
    {
      "cell_type": "code",
      "execution_count": null,
      "id": "dfd111ee-18f4-4ade-8998-4c3f7ccf1073",
      "metadata": {
        "id": "dfd111ee-18f4-4ade-8998-4c3f7ccf1073",
        "outputId": "85aaf57b-6a83-4cc3-eb02-da9d40e8f39d"
      },
      "outputs": [
        {
          "data": {
            "text/plain": [
              "False"
            ]
          },
          "execution_count": 113,
          "metadata": {},
          "output_type": "execute_result"
        }
      ],
      "source": [
        "l is None"
      ]
    },
    {
      "cell_type": "code",
      "execution_count": null,
      "id": "a2ea48f9-559b-4f46-8296-853ebc76b7d4",
      "metadata": {
        "id": "a2ea48f9-559b-4f46-8296-853ebc76b7d4",
        "outputId": "9768abfa-3b5e-4449-cbd9-058058bd839c"
      },
      "outputs": [
        {
          "data": {
            "text/plain": [
              "False"
            ]
          },
          "execution_count": 114,
          "metadata": {},
          "output_type": "execute_result"
        }
      ],
      "source": [
        "l == None"
      ]
    },
    {
      "cell_type": "markdown",
      "id": "1091497b-ba96-454b-ba76-63b58fffbbae",
      "metadata": {
        "id": "1091497b-ba96-454b-ba76-63b58fffbbae"
      },
      "source": [
        "### 10 - Everything is an Object"
      ]
    },
    {
      "cell_type": "code",
      "execution_count": null,
      "id": "cc045953-dc8e-4c42-a37e-74c6fb2a1120",
      "metadata": {
        "id": "cc045953-dc8e-4c42-a37e-74c6fb2a1120"
      },
      "outputs": [],
      "source": [
        "a = 10"
      ]
    },
    {
      "cell_type": "markdown",
      "id": "089d0314-bf0a-415b-9d5a-e384d877aec3",
      "metadata": {
        "id": "089d0314-bf0a-415b-9d5a-e384d877aec3"
      },
      "source": [
        "`a` is an object of type `int`, i.e. `a` is an instance of the `int` class."
      ]
    },
    {
      "cell_type": "code",
      "execution_count": null,
      "id": "283443f6-6d7e-49ef-9881-ada9824edaa5",
      "metadata": {
        "id": "283443f6-6d7e-49ef-9881-ada9824edaa5",
        "outputId": "ce073f5c-057e-4906-e160-8f40c2d50473"
      },
      "outputs": [
        {
          "name": "stdout",
          "output_type": "stream",
          "text": [
            "<class 'int'>\n"
          ]
        }
      ],
      "source": [
        "print(type(a))"
      ]
    },
    {
      "cell_type": "markdown",
      "id": "168e2619-046d-4dc2-aed7-d349815ffa0d",
      "metadata": {
        "id": "168e2619-046d-4dc2-aed7-d349815ffa0d"
      },
      "source": [
        "if `int` is a class, we should be able to declare it using standard class instatiation:"
      ]
    },
    {
      "cell_type": "code",
      "execution_count": null,
      "id": "339bf8d1-7712-4b76-87d7-23cc998715b6",
      "metadata": {
        "id": "339bf8d1-7712-4b76-87d7-23cc998715b6"
      },
      "outputs": [],
      "source": [
        "b = int(10)"
      ]
    },
    {
      "cell_type": "code",
      "execution_count": null,
      "id": "f58825ee-02d2-40ec-8f76-081543d6d8da",
      "metadata": {
        "id": "f58825ee-02d2-40ec-8f76-081543d6d8da",
        "outputId": "eb589396-db9b-4547-cdf1-4555fd69cd15"
      },
      "outputs": [
        {
          "name": "stdout",
          "output_type": "stream",
          "text": [
            "10\n",
            "<class 'int'>\n"
          ]
        }
      ],
      "source": [
        "print(b)\n",
        "print(type(b))"
      ]
    },
    {
      "cell_type": "markdown",
      "id": "acc21bcd-7863-4d0a-965e-ec0d25afc344",
      "metadata": {
        "id": "acc21bcd-7863-4d0a-965e-ec0d25afc344"
      },
      "source": [
        "We can even request the class documentation:"
      ]
    },
    {
      "cell_type": "code",
      "execution_count": null,
      "id": "6604e226-65ef-457d-adcb-a8688f8b9983",
      "metadata": {
        "id": "6604e226-65ef-457d-adcb-a8688f8b9983",
        "outputId": "7e59782b-8399-4f5e-dbaa-98506a318d0a"
      },
      "outputs": [
        {
          "name": "stdout",
          "output_type": "stream",
          "text": [
            "Help on class int in module builtins:\n",
            "\n",
            "class int(object)\n",
            " |  int([x]) -> integer\n",
            " |  int(x, base=10) -> integer\n",
            " |  \n",
            " |  Convert a number or string to an integer, or return 0 if no arguments\n",
            " |  are given.  If x is a number, return x.__int__().  For floating point\n",
            " |  numbers, this truncates towards zero.\n",
            " |  \n",
            " |  If x is not a number or if base is given, then x must be a string,\n",
            " |  bytes, or bytearray instance representing an integer literal in the\n",
            " |  given base.  The literal can be preceded by '+' or '-' and be surrounded\n",
            " |  by whitespace.  The base defaults to 10.  Valid bases are 0 and 2-36.\n",
            " |  Base 0 means to interpret the base from the string as an integer literal.\n",
            " |  >>> int('0b100', base=0)\n",
            " |  4\n",
            " |  \n",
            " |  Built-in subclasses:\n",
            " |      bool\n",
            " |  \n",
            " |  Methods defined here:\n",
            " |  \n",
            " |  __abs__(self, /)\n",
            " |      abs(self)\n",
            " |  \n",
            " |  __add__(self, value, /)\n",
            " |      Return self+value.\n",
            " |  \n",
            " |  __and__(self, value, /)\n",
            " |      Return self&value.\n",
            " |  \n",
            " |  __bool__(self, /)\n",
            " |      True if self else False\n",
            " |  \n",
            " |  __ceil__(...)\n",
            " |      Ceiling of an Integral returns itself.\n",
            " |  \n",
            " |  __divmod__(self, value, /)\n",
            " |      Return divmod(self, value).\n",
            " |  \n",
            " |  __eq__(self, value, /)\n",
            " |      Return self==value.\n",
            " |  \n",
            " |  __float__(self, /)\n",
            " |      float(self)\n",
            " |  \n",
            " |  __floor__(...)\n",
            " |      Flooring an Integral returns itself.\n",
            " |  \n",
            " |  __floordiv__(self, value, /)\n",
            " |      Return self//value.\n",
            " |  \n",
            " |  __format__(self, format_spec, /)\n",
            " |      Default object formatter.\n",
            " |  \n",
            " |  __ge__(self, value, /)\n",
            " |      Return self>=value.\n",
            " |  \n",
            " |  __getattribute__(self, name, /)\n",
            " |      Return getattr(self, name).\n",
            " |  \n",
            " |  __getnewargs__(self, /)\n",
            " |  \n",
            " |  __gt__(self, value, /)\n",
            " |      Return self>value.\n",
            " |  \n",
            " |  __hash__(self, /)\n",
            " |      Return hash(self).\n",
            " |  \n",
            " |  __index__(self, /)\n",
            " |      Return self converted to an integer, if self is suitable for use as an index into a list.\n",
            " |  \n",
            " |  __int__(self, /)\n",
            " |      int(self)\n",
            " |  \n",
            " |  __invert__(self, /)\n",
            " |      ~self\n",
            " |  \n",
            " |  __le__(self, value, /)\n",
            " |      Return self<=value.\n",
            " |  \n",
            " |  __lshift__(self, value, /)\n",
            " |      Return self<<value.\n",
            " |  \n",
            " |  __lt__(self, value, /)\n",
            " |      Return self<value.\n",
            " |  \n",
            " |  __mod__(self, value, /)\n",
            " |      Return self%value.\n",
            " |  \n",
            " |  __mul__(self, value, /)\n",
            " |      Return self*value.\n",
            " |  \n",
            " |  __ne__(self, value, /)\n",
            " |      Return self!=value.\n",
            " |  \n",
            " |  __neg__(self, /)\n",
            " |      -self\n",
            " |  \n",
            " |  __or__(self, value, /)\n",
            " |      Return self|value.\n",
            " |  \n",
            " |  __pos__(self, /)\n",
            " |      +self\n",
            " |  \n",
            " |  __pow__(self, value, mod=None, /)\n",
            " |      Return pow(self, value, mod).\n",
            " |  \n",
            " |  __radd__(self, value, /)\n",
            " |      Return value+self.\n",
            " |  \n",
            " |  __rand__(self, value, /)\n",
            " |      Return value&self.\n",
            " |  \n",
            " |  __rdivmod__(self, value, /)\n",
            " |      Return divmod(value, self).\n",
            " |  \n",
            " |  __repr__(self, /)\n",
            " |      Return repr(self).\n",
            " |  \n",
            " |  __rfloordiv__(self, value, /)\n",
            " |      Return value//self.\n",
            " |  \n",
            " |  __rlshift__(self, value, /)\n",
            " |      Return value<<self.\n",
            " |  \n",
            " |  __rmod__(self, value, /)\n",
            " |      Return value%self.\n",
            " |  \n",
            " |  __rmul__(self, value, /)\n",
            " |      Return value*self.\n",
            " |  \n",
            " |  __ror__(self, value, /)\n",
            " |      Return value|self.\n",
            " |  \n",
            " |  __round__(...)\n",
            " |      Rounding an Integral returns itself.\n",
            " |      Rounding with an ndigits argument also returns an integer.\n",
            " |  \n",
            " |  __rpow__(self, value, mod=None, /)\n",
            " |      Return pow(value, self, mod).\n",
            " |  \n",
            " |  __rrshift__(self, value, /)\n",
            " |      Return value>>self.\n",
            " |  \n",
            " |  __rshift__(self, value, /)\n",
            " |      Return self>>value.\n",
            " |  \n",
            " |  __rsub__(self, value, /)\n",
            " |      Return value-self.\n",
            " |  \n",
            " |  __rtruediv__(self, value, /)\n",
            " |      Return value/self.\n",
            " |  \n",
            " |  __rxor__(self, value, /)\n",
            " |      Return value^self.\n",
            " |  \n",
            " |  __sizeof__(self, /)\n",
            " |      Returns size in memory, in bytes.\n",
            " |  \n",
            " |  __sub__(self, value, /)\n",
            " |      Return self-value.\n",
            " |  \n",
            " |  __truediv__(self, value, /)\n",
            " |      Return self/value.\n",
            " |  \n",
            " |  __trunc__(...)\n",
            " |      Truncating an Integral returns itself.\n",
            " |  \n",
            " |  __xor__(self, value, /)\n",
            " |      Return self^value.\n",
            " |  \n",
            " |  as_integer_ratio(self, /)\n",
            " |      Return integer ratio.\n",
            " |      \n",
            " |      Return a pair of integers, whose ratio is exactly equal to the original int\n",
            " |      and with a positive denominator.\n",
            " |      \n",
            " |      >>> (10).as_integer_ratio()\n",
            " |      (10, 1)\n",
            " |      >>> (-10).as_integer_ratio()\n",
            " |      (-10, 1)\n",
            " |      >>> (0).as_integer_ratio()\n",
            " |      (0, 1)\n",
            " |  \n",
            " |  bit_length(self, /)\n",
            " |      Number of bits necessary to represent self in binary.\n",
            " |      \n",
            " |      >>> bin(37)\n",
            " |      '0b100101'\n",
            " |      >>> (37).bit_length()\n",
            " |      6\n",
            " |  \n",
            " |  conjugate(...)\n",
            " |      Returns self, the complex conjugate of any int.\n",
            " |  \n",
            " |  to_bytes(self, /, length, byteorder, *, signed=False)\n",
            " |      Return an array of bytes representing an integer.\n",
            " |      \n",
            " |      length\n",
            " |        Length of bytes object to use.  An OverflowError is raised if the\n",
            " |        integer is not representable with the given number of bytes.\n",
            " |      byteorder\n",
            " |        The byte order used to represent the integer.  If byteorder is 'big',\n",
            " |        the most significant byte is at the beginning of the byte array.  If\n",
            " |        byteorder is 'little', the most significant byte is at the end of the\n",
            " |        byte array.  To request the native byte order of the host system, use\n",
            " |        `sys.byteorder' as the byte order value.\n",
            " |      signed\n",
            " |        Determines whether two's complement is used to represent the integer.\n",
            " |        If signed is False and a negative integer is given, an OverflowError\n",
            " |        is raised.\n",
            " |  \n",
            " |  ----------------------------------------------------------------------\n",
            " |  Class methods defined here:\n",
            " |  \n",
            " |  from_bytes(bytes, byteorder, *, signed=False) from builtins.type\n",
            " |      Return the integer represented by the given array of bytes.\n",
            " |      \n",
            " |      bytes\n",
            " |        Holds the array of bytes to convert.  The argument must either\n",
            " |        support the buffer protocol or be an iterable object producing bytes.\n",
            " |        Bytes and bytearray are examples of built-in objects that support the\n",
            " |        buffer protocol.\n",
            " |      byteorder\n",
            " |        The byte order used to represent the integer.  If byteorder is 'big',\n",
            " |        the most significant byte is at the beginning of the byte array.  If\n",
            " |        byteorder is 'little', the most significant byte is at the end of the\n",
            " |        byte array.  To request the native byte order of the host system, use\n",
            " |        `sys.byteorder' as the byte order value.\n",
            " |      signed\n",
            " |        Indicates whether two's complement is used to represent the integer.\n",
            " |  \n",
            " |  ----------------------------------------------------------------------\n",
            " |  Static methods defined here:\n",
            " |  \n",
            " |  __new__(*args, **kwargs) from builtins.type\n",
            " |      Create and return a new object.  See help(type) for accurate signature.\n",
            " |  \n",
            " |  ----------------------------------------------------------------------\n",
            " |  Data descriptors defined here:\n",
            " |  \n",
            " |  denominator\n",
            " |      the denominator of a rational number in lowest terms\n",
            " |  \n",
            " |  imag\n",
            " |      the imaginary part of a complex number\n",
            " |  \n",
            " |  numerator\n",
            " |      the numerator of a rational number in lowest terms\n",
            " |  \n",
            " |  real\n",
            " |      the real part of a complex number\n",
            "\n"
          ]
        }
      ],
      "source": [
        "help(int)"
      ]
    },
    {
      "cell_type": "markdown",
      "id": "4f489315-1055-4265-8571-958f4423528e",
      "metadata": {
        "id": "4f489315-1055-4265-8571-958f4423528e"
      },
      "source": [
        "As we see from the docs, we can even create an `int` using an overloaded constructor:"
      ]
    },
    {
      "cell_type": "code",
      "execution_count": null,
      "id": "e1472e22-c8f8-4874-a584-049c2aa65b5a",
      "metadata": {
        "id": "e1472e22-c8f8-4874-a584-049c2aa65b5a"
      },
      "outputs": [],
      "source": [
        "b = int('10', base=2)"
      ]
    },
    {
      "cell_type": "code",
      "execution_count": null,
      "id": "929830ae-f7f5-491c-81b2-d0d111e26660",
      "metadata": {
        "id": "929830ae-f7f5-491c-81b2-d0d111e26660",
        "outputId": "e2addf06-2058-4fb3-a4e5-357b54710ece"
      },
      "outputs": [
        {
          "name": "stdout",
          "output_type": "stream",
          "text": [
            "2\n",
            "<class 'int'>\n"
          ]
        }
      ],
      "source": [
        "print(b)\n",
        "print(type(b))"
      ]
    },
    {
      "cell_type": "markdown",
      "id": "f6c018c6-15c1-4879-8f61-de2bd2a15b63",
      "metadata": {
        "id": "f6c018c6-15c1-4879-8f61-de2bd2a15b63"
      },
      "source": [
        "**Functions are Objects too**"
      ]
    },
    {
      "cell_type": "code",
      "execution_count": null,
      "id": "1d49bdaa-4c94-468b-86e0-7f300e3e0a78",
      "metadata": {
        "id": "1d49bdaa-4c94-468b-86e0-7f300e3e0a78"
      },
      "outputs": [],
      "source": [
        "def square(a):\n",
        "    return a ** 2"
      ]
    },
    {
      "cell_type": "code",
      "execution_count": null,
      "id": "582b41c5-e5b0-4bf7-8f81-54e0a52ebaa7",
      "metadata": {
        "id": "582b41c5-e5b0-4bf7-8f81-54e0a52ebaa7",
        "outputId": "7df83c63-2dac-41e3-83de-5168d6675343"
      },
      "outputs": [
        {
          "data": {
            "text/plain": [
              "function"
            ]
          },
          "execution_count": 124,
          "metadata": {},
          "output_type": "execute_result"
        }
      ],
      "source": [
        "type(square)"
      ]
    },
    {
      "cell_type": "markdown",
      "id": "ec39f4bc-5a3b-4415-9847-2f5f44b79985",
      "metadata": {
        "id": "ec39f4bc-5a3b-4415-9847-2f5f44b79985"
      },
      "source": [
        "In fact, we can even assign them to a variable:"
      ]
    },
    {
      "cell_type": "code",
      "execution_count": null,
      "id": "e9a53d1f-9365-473f-8d33-b83614bd6608",
      "metadata": {
        "id": "e9a53d1f-9365-473f-8d33-b83614bd6608"
      },
      "outputs": [],
      "source": [
        "f = square"
      ]
    },
    {
      "cell_type": "code",
      "execution_count": null,
      "id": "4badde69-e953-4525-9a23-88f88dc9c74c",
      "metadata": {
        "id": "4badde69-e953-4525-9a23-88f88dc9c74c",
        "outputId": "f8f60c03-3c7a-44cb-ecac-b79cb0357dc1"
      },
      "outputs": [
        {
          "data": {
            "text/plain": [
              "function"
            ]
          },
          "execution_count": 126,
          "metadata": {},
          "output_type": "execute_result"
        }
      ],
      "source": [
        "type(f)"
      ]
    },
    {
      "cell_type": "code",
      "execution_count": null,
      "id": "218500a6-34fa-4266-8564-5c0e344d933b",
      "metadata": {
        "id": "218500a6-34fa-4266-8564-5c0e344d933b",
        "outputId": "a87c3188-4390-46ed-969d-c2e163068850"
      },
      "outputs": [
        {
          "data": {
            "text/plain": [
              "True"
            ]
          },
          "execution_count": 127,
          "metadata": {},
          "output_type": "execute_result"
        }
      ],
      "source": [
        "f is square"
      ]
    },
    {
      "cell_type": "code",
      "execution_count": null,
      "id": "1cd3803e-d2a6-40b5-acd1-5f1c2cf7174a",
      "metadata": {
        "id": "1cd3803e-d2a6-40b5-acd1-5f1c2cf7174a",
        "outputId": "d6d43360-5917-4d21-80de-6785f2b96c79"
      },
      "outputs": [
        {
          "data": {
            "text/plain": [
              "4"
            ]
          },
          "execution_count": 128,
          "metadata": {},
          "output_type": "execute_result"
        }
      ],
      "source": [
        "f(2)"
      ]
    },
    {
      "cell_type": "code",
      "execution_count": null,
      "id": "e757d4e9-3b21-42b7-8978-5d740691dd77",
      "metadata": {
        "id": "e757d4e9-3b21-42b7-8978-5d740691dd77",
        "outputId": "06e5614f-2b2b-42fd-b2dc-b43247b290b7"
      },
      "outputs": [
        {
          "data": {
            "text/plain": [
              "int"
            ]
          },
          "execution_count": 129,
          "metadata": {},
          "output_type": "execute_result"
        }
      ],
      "source": [
        "type(f(2))"
      ]
    },
    {
      "cell_type": "markdown",
      "id": "98bce378-c13f-4e61-a9ac-d8a7730b9767",
      "metadata": {
        "id": "98bce378-c13f-4e61-a9ac-d8a7730b9767"
      },
      "source": [
        "A function can return a function:"
      ]
    },
    {
      "cell_type": "code",
      "execution_count": null,
      "id": "a60e1ed7-5d63-47db-8d56-b2bb9f842a9f",
      "metadata": {
        "id": "a60e1ed7-5d63-47db-8d56-b2bb9f842a9f"
      },
      "outputs": [],
      "source": [
        "def cube(a):\n",
        "    return a ** 3"
      ]
    },
    {
      "cell_type": "code",
      "execution_count": null,
      "id": "c665afcc-355c-4f00-957e-3f958e0cb81a",
      "metadata": {
        "id": "c665afcc-355c-4f00-957e-3f958e0cb81a"
      },
      "outputs": [],
      "source": [
        "def select_function(fn_id):\n",
        "    if fn_id == 1:\n",
        "        return square\n",
        "    else:\n",
        "        return cube"
      ]
    },
    {
      "cell_type": "code",
      "execution_count": null,
      "id": "746fe638-6dd7-4894-8071-9ce2a4cd1e16",
      "metadata": {
        "id": "746fe638-6dd7-4894-8071-9ce2a4cd1e16",
        "outputId": "fa104515-a174-4784-9455-b51c6ab9265d"
      },
      "outputs": [
        {
          "name": "stdout",
          "output_type": "stream",
          "text": [
            "0x20abca65310\n",
            "0x20abca65310\n",
            "0x20abdb509d0\n",
            "<class 'function'>\n",
            "f is square:  True\n",
            "f is cube:  False\n",
            "<function square at 0x0000020ABCA65310>\n",
            "4\n"
          ]
        }
      ],
      "source": [
        "f = select_function(1)\n",
        "print(hex(id(f)))\n",
        "print(hex(id(square)))\n",
        "print(hex(id(cube)))\n",
        "print(type(f))\n",
        "print('f is square: ', f is square)\n",
        "print('f is cube: ', f is cube)\n",
        "print(f)\n",
        "print(f(2))"
      ]
    },
    {
      "cell_type": "markdown",
      "id": "379b17f6-eb92-45bc-93a4-3c9cffc36c55",
      "metadata": {
        "id": "379b17f6-eb92-45bc-93a4-3c9cffc36c55"
      },
      "source": [
        "We could even call it this way:"
      ]
    },
    {
      "cell_type": "code",
      "execution_count": null,
      "id": "7a5082d7-a490-4620-bed3-187b48bfda88",
      "metadata": {
        "id": "7a5082d7-a490-4620-bed3-187b48bfda88",
        "outputId": "994bdc7d-9f59-44f1-d498-d4f47ed4fc9c"
      },
      "outputs": [
        {
          "data": {
            "text/plain": [
              "25"
            ]
          },
          "execution_count": 133,
          "metadata": {},
          "output_type": "execute_result"
        }
      ],
      "source": [
        "select_function(1)(5)"
      ]
    },
    {
      "cell_type": "markdown",
      "id": "3b0be45f-a300-4959-b162-ff67df8f7b86",
      "metadata": {
        "id": "3b0be45f-a300-4959-b162-ff67df8f7b86"
      },
      "source": [
        "A Function can be passed as an argument to another function.\n",
        "\n",
        "(This example is pretty useless, but it illustrates the point effectively)"
      ]
    },
    {
      "cell_type": "code",
      "execution_count": null,
      "id": "cc741610-9a00-4e07-8050-df0990a66c98",
      "metadata": {
        "id": "cc741610-9a00-4e07-8050-df0990a66c98"
      },
      "outputs": [],
      "source": [
        "def exec_function(fn, n):\n",
        "    return fn(n)"
      ]
    },
    {
      "cell_type": "code",
      "execution_count": null,
      "id": "4e17d8ae-006d-4a00-95eb-237e346508a9",
      "metadata": {
        "id": "4e17d8ae-006d-4a00-95eb-237e346508a9",
        "outputId": "b7d415bc-c88e-4dc1-b7c7-04fde23989a4"
      },
      "outputs": [
        {
          "name": "stdout",
          "output_type": "stream",
          "text": [
            "8\n"
          ]
        }
      ],
      "source": [
        "result = exec_function(cube, 2)\n",
        "print(result)"
      ]
    },
    {
      "cell_type": "markdown",
      "id": "922012b3-b1d3-44b0-bb93-ea9aa8b82e6a",
      "metadata": {
        "id": "922012b3-b1d3-44b0-bb93-ea9aa8b82e6a"
      },
      "source": [
        "### 11 - Python Optimizations - Interning"
      ]
    },
    {
      "cell_type": "markdown",
      "id": "47a7cbe5-ec94-404d-b098-ab6151582d5b",
      "metadata": {
        "id": "47a7cbe5-ec94-404d-b098-ab6151582d5b"
      },
      "source": [
        "Earlier, we saw shared references being created automatically by Python:"
      ]
    },
    {
      "cell_type": "code",
      "execution_count": null,
      "id": "7828a66d-ff73-4b56-bf92-abc6b8400a94",
      "metadata": {
        "id": "7828a66d-ff73-4b56-bf92-abc6b8400a94",
        "outputId": "b8130a85-fba2-4efa-d3f9-4a72cce05969"
      },
      "outputs": [
        {
          "name": "stdout",
          "output_type": "stream",
          "text": [
            "2245052487120\n",
            "2245052487120\n"
          ]
        }
      ],
      "source": [
        "a = 100\n",
        "b = 100\n",
        "print(id(a))\n",
        "print(id(b))"
      ]
    },
    {
      "cell_type": "markdown",
      "id": "b3193fe3-a80d-4a75-baf4-029e1023187d",
      "metadata": {
        "id": "b3193fe3-a80d-4a75-baf4-029e1023187d"
      },
      "source": [
        "Note how a and b reference the same object."
      ]
    },
    {
      "cell_type": "markdown",
      "id": "ca4ceb59-e430-44a7-822f-52988f152aba",
      "metadata": {
        "id": "ca4ceb59-e430-44a7-822f-52988f152aba"
      },
      "source": [
        "---\n",
        "**BE CAREFUL!**"
      ]
    },
    {
      "cell_type": "markdown",
      "id": "d851ce8f-6d43-40c4-8608-bbcb26e0e5e6",
      "metadata": {
        "id": "d851ce8f-6d43-40c4-8608-bbcb26e0e5e6"
      },
      "source": [
        "*But consider the following example:*"
      ]
    },
    {
      "cell_type": "code",
      "execution_count": null,
      "id": "d27fd74d-a11b-494d-9802-7f41d95a148f",
      "metadata": {
        "id": "d27fd74d-a11b-494d-9802-7f41d95a148f",
        "outputId": "54f4ea84-b170-4d7f-8a0b-80b2568416c3"
      },
      "outputs": [
        {
          "name": "stdout",
          "output_type": "stream",
          "text": [
            "2245155841488\n",
            "2245155841552\n"
          ]
        }
      ],
      "source": [
        "a = 500\n",
        "b = 500\n",
        "print(id(a))\n",
        "print(id(b))"
      ]
    },
    {
      "cell_type": "markdown",
      "id": "8775f65c-a15a-4d5d-902f-4f47c9a69a59",
      "metadata": {
        "id": "8775f65c-a15a-4d5d-902f-4f47c9a69a59"
      },
      "source": [
        "*As you can see, the variables `a` and `b` do not point to the same object!*\n",
        "\n",
        "*This is because Python pre-caches integer objects in the range [-5, 256]*\n",
        "\n",
        "*So for example:*"
      ]
    },
    {
      "cell_type": "code",
      "execution_count": null,
      "id": "21ec84cf-e14b-4b1f-a523-4d18f6d8a6b5",
      "metadata": {
        "id": "21ec84cf-e14b-4b1f-a523-4d18f6d8a6b5",
        "outputId": "70c3a0f4-fc3d-4f8c-a81c-467a93095d02"
      },
      "outputs": [
        {
          "name": "stdout",
          "output_type": "stream",
          "text": [
            "2245052492176\n",
            "2245052492176\n"
          ]
        }
      ],
      "source": [
        "a = 256\n",
        "b = 256\n",
        "print(id(a))\n",
        "print(id(b))"
      ]
    },
    {
      "cell_type": "markdown",
      "id": "0d68529d-c33a-4588-ad00-e6069220b6d8",
      "metadata": {
        "id": "0d68529d-c33a-4588-ad00-e6069220b6d8"
      },
      "source": [
        "*and*"
      ]
    },
    {
      "cell_type": "code",
      "execution_count": null,
      "id": "21bf8296-8542-4710-94e6-ba6f225c0779",
      "metadata": {
        "id": "21bf8296-8542-4710-94e6-ba6f225c0779",
        "outputId": "782fb387-4c18-4782-9767-3fe7f44dc408"
      },
      "outputs": [
        {
          "name": "stdout",
          "output_type": "stream",
          "text": [
            "2245052295280\n",
            "2245052295280\n"
          ]
        }
      ],
      "source": [
        "a = -5\n",
        "b = -5\n",
        "print(id(a))\n",
        "print(id(b))"
      ]
    },
    {
      "cell_type": "markdown",
      "id": "c05d4774-37e2-4827-90eb-49af71aecbcc",
      "metadata": {
        "id": "c05d4774-37e2-4827-90eb-49af71aecbcc"
      },
      "source": [
        "do have the same reference.\n",
        "\n",
        "*This is called **interning**: Python **interns** the integers in the range [-5, 256].*\n",
        "\n",
        "*The integers in the range [-5, 256] are essentially **singleton** objects.*"
      ]
    },
    {
      "cell_type": "code",
      "execution_count": null,
      "id": "4d4246de-e6bc-47a8-9d4d-c249db092754",
      "metadata": {
        "id": "4d4246de-e6bc-47a8-9d4d-c249db092754"
      },
      "outputs": [],
      "source": [
        "a = 10\n",
        "b = int(10)\n",
        "c = int('10')\n",
        "d = int('1010', 2)"
      ]
    },
    {
      "cell_type": "code",
      "execution_count": null,
      "id": "1b664941-80a5-484c-9786-a3e141afd4a8",
      "metadata": {
        "id": "1b664941-80a5-484c-9786-a3e141afd4a8",
        "outputId": "2333d6e4-6909-49b8-bf83-6479b426464e"
      },
      "outputs": [
        {
          "name": "stdout",
          "output_type": "stream",
          "text": [
            "10 10 10 10\n"
          ]
        }
      ],
      "source": [
        "print(a, b, c, d)"
      ]
    },
    {
      "cell_type": "code",
      "execution_count": null,
      "id": "b2f84949-b993-4068-8ef0-cf326081902e",
      "metadata": {
        "id": "b2f84949-b993-4068-8ef0-cf326081902e",
        "outputId": "beee1a96-2d12-4eeb-e45b-52717419f18d"
      },
      "outputs": [
        {
          "data": {
            "text/plain": [
              "True"
            ]
          },
          "execution_count": 144,
          "metadata": {},
          "output_type": "execute_result"
        }
      ],
      "source": [
        "a is b"
      ]
    },
    {
      "cell_type": "code",
      "execution_count": null,
      "id": "3c0bc142-0fe3-4015-aa38-447484687479",
      "metadata": {
        "id": "3c0bc142-0fe3-4015-aa38-447484687479",
        "outputId": "d62f5c18-5530-4a9b-aaf3-7f0a7b437720"
      },
      "outputs": [
        {
          "data": {
            "text/plain": [
              "True"
            ]
          },
          "execution_count": 145,
          "metadata": {},
          "output_type": "execute_result"
        }
      ],
      "source": [
        "a is c"
      ]
    },
    {
      "cell_type": "code",
      "execution_count": null,
      "id": "bf69c64e-29cc-4ffa-a55b-b1cc3c956b17",
      "metadata": {
        "id": "bf69c64e-29cc-4ffa-a55b-b1cc3c956b17",
        "outputId": "b50799f0-12b1-4a75-9f60-c1396034b4ee"
      },
      "outputs": [
        {
          "data": {
            "text/plain": [
              "True"
            ]
          },
          "execution_count": 146,
          "metadata": {},
          "output_type": "execute_result"
        }
      ],
      "source": [
        "a is d"
      ]
    },
    {
      "cell_type": "markdown",
      "id": "74355ec5-6b70-4f33-b13d-97e993326e8e",
      "metadata": {
        "id": "74355ec5-6b70-4f33-b13d-97e993326e8e"
      },
      "source": [
        "As you can see, all these variables were created in different ways, but since the integer object with value 10 behaves like a singleton, they all ended up pointing to the same object in memory."
      ]
    },
    {
      "cell_type": "markdown",
      "id": "4bc530d4-9656-408f-9371-0fa1774ac2eb",
      "metadata": {
        "id": "4bc530d4-9656-408f-9371-0fa1774ac2eb"
      },
      "source": [
        "### 12 - Python Optimizations: String Interning"
      ]
    },
    {
      "cell_type": "markdown",
      "id": "f76bac41-a324-497b-a87a-3d2d701aedcd",
      "metadata": {
        "id": "f76bac41-a324-497b-a87a-3d2d701aedcd"
      },
      "source": [
        "Python will automatically intern certain strings.\n",
        "\n",
        "In particular all the identifiers (variable names, function names, class names, etc) are interned (singleton objects created).\n",
        "\n",
        "Python will also intern string literals that look like identifiers.\n",
        "\n",
        "For example:"
      ]
    },
    {
      "cell_type": "code",
      "execution_count": null,
      "id": "5d443f25-12fd-4e9c-8fd4-d7bc22b15800",
      "metadata": {
        "id": "5d443f25-12fd-4e9c-8fd4-d7bc22b15800",
        "outputId": "e78f6b18-f63f-4acc-803d-2957e7be70d7"
      },
      "outputs": [
        {
          "name": "stdout",
          "output_type": "stream",
          "text": [
            "2245134946864\n",
            "2245134946864\n"
          ]
        }
      ],
      "source": [
        "a = 'hello'\n",
        "b = 'hello'\n",
        "print(id(a))\n",
        "print(id(b))"
      ]
    },
    {
      "cell_type": "markdown",
      "id": "269e1410-1b1d-41f7-9f82-66f05ad8e6b6",
      "metadata": {
        "id": "269e1410-1b1d-41f7-9f82-66f05ad8e6b6"
      },
      "source": [
        "---\n",
        "**BE CAREFUL!**"
      ]
    },
    {
      "cell_type": "markdown",
      "id": "77a07821-0c8e-4504-a9be-e7dd6bcffc0f",
      "metadata": {
        "id": "77a07821-0c8e-4504-a9be-e7dd6bcffc0f"
      },
      "source": [
        "*But not the following:*"
      ]
    },
    {
      "cell_type": "code",
      "execution_count": null,
      "id": "3035ff43-fbfa-475a-9ed3-1c49adf3d838",
      "metadata": {
        "id": "3035ff43-fbfa-475a-9ed3-1c49adf3d838",
        "outputId": "eb68a612-74ea-4cfa-ec48-b9dafcae91a5"
      },
      "outputs": [
        {
          "name": "stdout",
          "output_type": "stream",
          "text": [
            "2245155879600\n",
            "2245155642096\n"
          ]
        }
      ],
      "source": [
        "a = 'hello, world!'\n",
        "b = 'hello, world!'\n",
        "print(id(a))\n",
        "print(id(b))"
      ]
    },
    {
      "cell_type": "markdown",
      "id": "b1aded94-73f5-4552-9885-67d7965eaf38",
      "metadata": {
        "id": "b1aded94-73f5-4552-9885-67d7965eaf38"
      },
      "source": [
        "However, because the following literals resemble identifiers, even though they are quite long, Python will still automatically intern them:"
      ]
    },
    {
      "cell_type": "code",
      "execution_count": null,
      "id": "a0f8aa7d-063b-4283-b6a2-da79801ac000",
      "metadata": {
        "id": "a0f8aa7d-063b-4283-b6a2-da79801ac000",
        "outputId": "f99e2b8c-d86f-4972-a38b-9efd14224eb0"
      },
      "outputs": [
        {
          "name": "stdout",
          "output_type": "stream",
          "text": [
            "2245155889328\n",
            "2245155889328\n"
          ]
        }
      ],
      "source": [
        "a = 'hello_world'\n",
        "b = 'hello_world'\n",
        "print(id(a))\n",
        "print(id(b))"
      ]
    },
    {
      "cell_type": "markdown",
      "id": "f65e00cd-cc7f-4262-8fc8-bdf0d911b5b1",
      "metadata": {
        "id": "f65e00cd-cc7f-4262-8fc8-bdf0d911b5b1"
      },
      "source": [
        "And even longer:"
      ]
    },
    {
      "cell_type": "code",
      "execution_count": null,
      "id": "155467a5-dd69-4099-8711-8b537910b82d",
      "metadata": {
        "id": "155467a5-dd69-4099-8711-8b537910b82d",
        "outputId": "1647fc02-55be-4ec0-a8cf-8af0ca4b6a54"
      },
      "outputs": [
        {
          "name": "stdout",
          "output_type": "stream",
          "text": [
            "2245155887680\n",
            "2245155887680\n"
          ]
        }
      ],
      "source": [
        "a = '_this_is_a_long_string_that_could_be_used_as_an_identifier'\n",
        "b = '_this_is_a_long_string_that_could_be_used_as_an_identifier'\n",
        "print(id(a))\n",
        "print(id(b))"
      ]
    },
    {
      "cell_type": "markdown",
      "id": "52bcb900-498b-4b71-9b95-f5052e9e1807",
      "metadata": {
        "id": "52bcb900-498b-4b71-9b95-f5052e9e1807"
      },
      "source": [
        "Even if the string starts with a digit:"
      ]
    },
    {
      "cell_type": "code",
      "execution_count": null,
      "id": "be112220-58c5-445c-8d45-dc58b6f98745",
      "metadata": {
        "id": "be112220-58c5-445c-8d45-dc58b6f98745",
        "outputId": "9a2b7b22-4834-46ca-d7fe-832b5e9db484"
      },
      "outputs": [
        {
          "name": "stdout",
          "output_type": "stream",
          "text": [
            "2245155889328\n",
            "2245155889328\n"
          ]
        }
      ],
      "source": [
        "a = '1_hello_world'\n",
        "b = '1_hello_world'\n",
        "print(id(a))\n",
        "print(id(b))"
      ]
    },
    {
      "cell_type": "markdown",
      "id": "bea75055-1166-47a2-a563-825a8349424f",
      "metadata": {
        "id": "bea75055-1166-47a2-a563-825a8349424f"
      },
      "source": [
        "That was interned (pointer is the same), but look at this one:"
      ]
    },
    {
      "cell_type": "code",
      "execution_count": null,
      "id": "506ddab7-08d1-4fca-89cc-973a2136f3ce",
      "metadata": {
        "id": "506ddab7-08d1-4fca-89cc-973a2136f3ce",
        "outputId": "6fe9b114-0922-4fec-b600-da3194cc653e"
      },
      "outputs": [
        {
          "name": "stdout",
          "output_type": "stream",
          "text": [
            "2245155890352\n",
            "2245155889968\n"
          ]
        }
      ],
      "source": [
        "a = '1 hello world'\n",
        "b = '1 hello world'\n",
        "print(id(a))\n",
        "print(id(b))"
      ]
    },
    {
      "cell_type": "markdown",
      "id": "3945d207-7e7c-4b2c-aac7-20f687da6429",
      "metadata": {
        "id": "3945d207-7e7c-4b2c-aac7-20f687da6429"
      },
      "source": [
        "Interning strings (making them singleton objects) means that testing for string equality can be done faster by comparing the memory address:"
      ]
    },
    {
      "cell_type": "code",
      "execution_count": null,
      "id": "bad50290-a1ab-424c-9729-6e286431605d",
      "metadata": {
        "id": "bad50290-a1ab-424c-9729-6e286431605d",
        "outputId": "1daf7933-d262-41f3-9f78-b9ca1c79bb9d"
      },
      "outputs": [
        {
          "name": "stdout",
          "output_type": "stream",
          "text": [
            "a==b: True\n",
            "a is b: True\n"
          ]
        }
      ],
      "source": [
        "a = 'this_is_a_long_string'\n",
        "b = 'this_is_a_long_string'\n",
        "print('a==b:', a == b)\n",
        "print('a is b:', a is b)"
      ]
    },
    {
      "cell_type": "markdown",
      "id": "52c37187-98ca-4900-8db8-cd610a530d80",
      "metadata": {
        "id": "52c37187-98ca-4900-8db8-cd610a530d80"
      },
      "source": [
        "---\n",
        "**BE CAREFUL!**"
      ]
    },
    {
      "cell_type": "markdown",
      "id": "3cd9cf16-5721-4221-92d5-d6594257c22e",
      "metadata": {
        "id": "3cd9cf16-5721-4221-92d5-d6594257c22e"
      },
      "source": [
        "*Note: Remember, using `is` ONLY works if the strings were interned!*\n",
        "\n",
        "*Here's where this technique fails:*"
      ]
    },
    {
      "cell_type": "code",
      "execution_count": null,
      "id": "212f7021-687d-4992-b53f-b35ddd6e0d4f",
      "metadata": {
        "id": "212f7021-687d-4992-b53f-b35ddd6e0d4f",
        "outputId": "57338630-7b76-4398-a8af-4b2da8762991"
      },
      "outputs": [
        {
          "name": "stdout",
          "output_type": "stream",
          "text": [
            "a==b: True\n",
            "a is b: False\n"
          ]
        }
      ],
      "source": [
        "a = 'hello world'\n",
        "b = 'hello world'\n",
        "print('a==b:', a==b)\n",
        "print('a is b:', a is b)"
      ]
    },
    {
      "cell_type": "markdown",
      "id": "58b67553-035c-4aa1-8eba-267a458c484e",
      "metadata": {
        "id": "58b67553-035c-4aa1-8eba-267a458c484e"
      },
      "source": [
        "You can force strings to be interned (but only use it if you have a valid performance optimization need):"
      ]
    },
    {
      "cell_type": "code",
      "execution_count": null,
      "id": "636ae999-7884-4fe5-b0b0-6ce9382819da",
      "metadata": {
        "id": "636ae999-7884-4fe5-b0b0-6ce9382819da"
      },
      "outputs": [],
      "source": [
        "import sys"
      ]
    },
    {
      "cell_type": "code",
      "execution_count": null,
      "id": "3ae1f70b-5816-4eac-96c5-ff45b2bbd773",
      "metadata": {
        "id": "3ae1f70b-5816-4eac-96c5-ff45b2bbd773",
        "outputId": "f38c1440-9d23-4015-ca89-4f49f83a0fa0"
      },
      "outputs": [
        {
          "name": "stdout",
          "output_type": "stream",
          "text": [
            "2245155890544\n",
            "2245155890544\n",
            "2245155890928\n"
          ]
        }
      ],
      "source": [
        "a = sys.intern('hello world')\n",
        "b = sys.intern('hello world')\n",
        "c = 'hello world'\n",
        "print(id(a))\n",
        "print(id(b))\n",
        "print(id(c))"
      ]
    },
    {
      "cell_type": "markdown",
      "id": "e78ce045-3d86-43c1-a242-a5a0ba9a50d5",
      "metadata": {
        "id": "e78ce045-3d86-43c1-a242-a5a0ba9a50d5"
      },
      "source": [
        "Notice how `a` and `b` are pointing to the same object, but `c` is NOT.\n",
        "\n",
        "So, since both `a` and `b` were interned we can use `is` to test for equality of the two strings:"
      ]
    },
    {
      "cell_type": "code",
      "execution_count": null,
      "id": "742280b3-2de7-4e62-9087-ca919b453c13",
      "metadata": {
        "id": "742280b3-2de7-4e62-9087-ca919b453c13",
        "outputId": "c8967a3a-9af5-466b-af6a-b6a1e82b2263"
      },
      "outputs": [
        {
          "name": "stdout",
          "output_type": "stream",
          "text": [
            "a==b: True\n",
            "a is b True\n"
          ]
        }
      ],
      "source": [
        "print('a==b:', a==b)\n",
        "print('a is b', a is b)"
      ]
    },
    {
      "cell_type": "markdown",
      "id": "0a2fd61f-3f61-495d-b847-430c3fdf9bb9",
      "metadata": {
        "id": "0a2fd61f-3f61-495d-b847-430c3fdf9bb9"
      },
      "source": [
        "So, does interning really make a big speed difference?\n",
        "\n",
        "Yes, but only if you are performing a lot of comparisons.\n",
        "\n",
        "Let's run som quick and dirty benchamarks:"
      ]
    },
    {
      "cell_type": "code",
      "execution_count": null,
      "id": "9a20ea24-d462-440f-9c13-20ee34580478",
      "metadata": {
        "id": "9a20ea24-d462-440f-9c13-20ee34580478"
      },
      "outputs": [],
      "source": [
        "def compare_using_equals(n):\n",
        "    a = 'a long string that is not interned' * 200\n",
        "    b = 'a long string that is not interned' * 200\n",
        "    for i in range(n):\n",
        "        if a == b:\n",
        "            pass"
      ]
    },
    {
      "cell_type": "code",
      "execution_count": null,
      "id": "17533cec-f3da-416a-8d4d-16dd643d63d2",
      "metadata": {
        "id": "17533cec-f3da-416a-8d4d-16dd643d63d2"
      },
      "outputs": [],
      "source": [
        "def compare_using_interning(n):\n",
        "    a = sys.intern('a long string that is not interned' * 200)\n",
        "    b = sys.intern('a long string that is not interned' * 200)\n",
        "    for i in range(n):\n",
        "        if a is b:\n",
        "            pass"
      ]
    },
    {
      "cell_type": "code",
      "execution_count": null,
      "id": "15971d5c-e02c-4fec-b283-f4ad629e1034",
      "metadata": {
        "id": "15971d5c-e02c-4fec-b283-f4ad629e1034",
        "outputId": "47c5a23c-56b4-4193-d79d-4cadd9be3c47"
      },
      "outputs": [
        {
          "name": "stdout",
          "output_type": "stream",
          "text": [
            "equality:  4.1064913000009255\n"
          ]
        }
      ],
      "source": [
        "import time\n",
        "\n",
        "start = time.perf_counter()\n",
        "compare_using_equals(10000000)\n",
        "end = time.perf_counter()\n",
        "\n",
        "print('equality: ', end-start)"
      ]
    },
    {
      "cell_type": "code",
      "execution_count": null,
      "id": "6202f1a6-36a2-4c1c-937c-e1ebe3612756",
      "metadata": {
        "id": "6202f1a6-36a2-4c1c-937c-e1ebe3612756",
        "outputId": "625ceae4-77e1-465d-9e2b-3487b8ab8398"
      },
      "outputs": [
        {
          "name": "stdout",
          "output_type": "stream",
          "text": [
            "identity:  0.44426750000093307\n"
          ]
        }
      ],
      "source": [
        "start = time.perf_counter()\n",
        "compare_using_interning(10000000)\n",
        "end = time.perf_counter()\n",
        "\n",
        "print('identity: ', end-start)"
      ]
    },
    {
      "cell_type": "markdown",
      "id": "822abb18-5ee4-499a-be5f-f60c1c51e5f1",
      "metadata": {
        "id": "822abb18-5ee4-499a-be5f-f60c1c51e5f1"
      },
      "source": [
        "As you can see, the performance difference, especially for long strings, and for many comparisons, can be quite radical!"
      ]
    },
    {
      "cell_type": "markdown",
      "id": "4c91023b-45de-4653-9ccc-0ce811d09034",
      "metadata": {
        "id": "4c91023b-45de-4653-9ccc-0ce811d09034"
      },
      "source": [
        "### 13 - Python Optimizations - PeepHole"
      ]
    },
    {
      "cell_type": "markdown",
      "id": "93e59017-1a1e-455c-85f7-bd70b09528dc",
      "metadata": {
        "id": "93e59017-1a1e-455c-85f7-bd70b09528dc"
      },
      "source": [
        "Peephole optimizations refer to a certain class of optimization stratigies Python employs during any compilation phases."
      ]
    },
    {
      "cell_type": "markdown",
      "id": "8de36ee2-623a-4489-ad73-c1e12ade1eab",
      "metadata": {
        "id": "8de36ee2-623a-4489-ad73-c1e12ade1eab"
      },
      "source": [
        "**Constant Expressions**"
      ]
    },
    {
      "cell_type": "markdown",
      "id": "4d8a9c54-95cd-4b00-977f-ce27ece4887b",
      "metadata": {
        "id": "4d8a9c54-95cd-4b00-977f-ce27ece4887b"
      },
      "source": [
        "Let's see how Python reduces constant expressions for optimization purposes:"
      ]
    },
    {
      "cell_type": "code",
      "execution_count": null,
      "id": "0450608e-253c-4665-bcdb-82c0b0c761bc",
      "metadata": {
        "id": "0450608e-253c-4665-bcdb-82c0b0c761bc"
      },
      "outputs": [],
      "source": [
        "def my_func():\n",
        "    a = 24 *60\n",
        "    b = (1, 2) * 5\n",
        "    c = 'abc' * 3\n",
        "    d = 'ab' * 11\n",
        "    e = 'the quick brown fox' * 10\n",
        "    f = [1, 2] * 5"
      ]
    },
    {
      "cell_type": "code",
      "execution_count": null,
      "id": "3d8f0cbb-c04a-4c5d-a698-067e01eaa4af",
      "metadata": {
        "id": "3d8f0cbb-c04a-4c5d-a698-067e01eaa4af",
        "outputId": "c6d6935b-76fc-4644-b15e-ee014dc797ef"
      },
      "outputs": [
        {
          "data": {
            "text/plain": [
              "(None,\n",
              " 1440,\n",
              " (1, 2, 1, 2, 1, 2, 1, 2, 1, 2),\n",
              " 'abcabcabc',\n",
              " 'ababababababababababab',\n",
              " 'the quick brown foxthe quick brown foxthe quick brown foxthe quick brown foxthe quick brown foxthe quick brown foxthe quick brown foxthe quick brown foxthe quick brown foxthe quick brown fox',\n",
              " 1,\n",
              " 2,\n",
              " 5)"
            ]
          },
          "execution_count": 165,
          "metadata": {},
          "output_type": "execute_result"
        }
      ],
      "source": [
        "my_func.__code__.co_consts"
      ]
    },
    {
      "cell_type": "markdown",
      "id": "bdc8bb7d-e2cb-4eb3-b0d7-0594412a0c30",
      "metadata": {
        "id": "bdc8bb7d-e2cb-4eb3-b0d7-0594412a0c30"
      },
      "source": [
        "As you can see in the example above `24 * 60` was pre-calculated and cached as a constant (`1440`).\n",
        "\n",
        "Similarly, `(1, 2) * 5` was cached as `(1, 2, 1, 2, 1, 2, 1, 2, 1, 2)` and `'abc' * 3` was cached as `abcabcabc`\n",
        "\n",
        "On the other hand, note how `'the quick brown fox'* 10` was not pre-calculated (too long).\n",
        "\n",
        "Similarly `[1, 2] * 5` was not pre-calculated either siince a list is mutable, and hence not a constant."
      ]
    },
    {
      "cell_type": "markdown",
      "id": "c77e4d54-8896-4c58-9025-483438830db2",
      "metadata": {
        "id": "c77e4d54-8896-4c58-9025-483438830db2"
      },
      "source": [
        "**Membership Tests**"
      ]
    },
    {
      "cell_type": "markdown",
      "id": "7b121424-3551-4c77-bca4-20cf8fa340be",
      "metadata": {
        "id": "7b121424-3551-4c77-bca4-20cf8fa340be"
      },
      "source": [
        "In membership testing, optimizations are applied as can be seen below:"
      ]
    },
    {
      "cell_type": "code",
      "execution_count": null,
      "id": "50b7fa04-33a6-45db-95c2-45a4b1c69018",
      "metadata": {
        "id": "50b7fa04-33a6-45db-95c2-45a4b1c69018"
      },
      "outputs": [],
      "source": [
        "def my_func():\n",
        "    if e in [1, 2, 3]:\n",
        "        pass"
      ]
    },
    {
      "cell_type": "code",
      "execution_count": null,
      "id": "482582e4-ef8b-441c-b16a-40044b543a75",
      "metadata": {
        "id": "482582e4-ef8b-441c-b16a-40044b543a75",
        "outputId": "8f256bb6-9b57-4fae-83b7-fc67e84e74d7"
      },
      "outputs": [
        {
          "data": {
            "text/plain": [
              "(None, (1, 2, 3))"
            ]
          },
          "execution_count": 167,
          "metadata": {},
          "output_type": "execute_result"
        }
      ],
      "source": [
        "my_func.__code__.co_consts"
      ]
    },
    {
      "cell_type": "markdown",
      "id": "1e8a6494-62f9-46c9-aadb-389a857658ba",
      "metadata": {
        "id": "1e8a6494-62f9-46c9-aadb-389a857658ba"
      },
      "source": [
        "As you can see, the mutable list `[1, 2, 3]` was converted to an immutable tuple.\n",
        "\n",
        "It is OK to do this here, since we are testing membersip of the list at that point in time, hence it is safe to convert it to a tuple, which is more efficient tan testing membership of a list.\n",
        "\n",
        "In the same way, set membership will be converted to frozen set membership:"
      ]
    },
    {
      "cell_type": "code",
      "execution_count": null,
      "id": "c1cdbb45-4fec-4287-9b73-ac48b34e8899",
      "metadata": {
        "id": "c1cdbb45-4fec-4287-9b73-ac48b34e8899"
      },
      "outputs": [],
      "source": [
        "def my_func():\n",
        "    if e in {1, 2, 3}:\n",
        "        pass"
      ]
    },
    {
      "cell_type": "code",
      "execution_count": null,
      "id": "3190b7ea-1ca8-46b2-bcac-bc3db499f464",
      "metadata": {
        "id": "3190b7ea-1ca8-46b2-bcac-bc3db499f464",
        "outputId": "3e2e8914-ee35-4e41-f72f-90e0bc5dc724"
      },
      "outputs": [
        {
          "data": {
            "text/plain": [
              "(None, frozenset({1, 2, 3}))"
            ]
          },
          "execution_count": 169,
          "metadata": {},
          "output_type": "execute_result"
        }
      ],
      "source": [
        "my_func.__code__.co_consts"
      ]
    },
    {
      "cell_type": "markdown",
      "id": "6d27e0a2-cc2a-4852-b2e6-8f7957598c2a",
      "metadata": {
        "id": "6d27e0a2-cc2a-4852-b2e6-8f7957598c2a"
      },
      "source": [
        "In general, when you are writing your code, if you can use `set` membership testing, prefer that over a list or tuple - it is quite a bit more efficien.\n",
        "\n",
        "Let's do a small quick (and dirty) benchmark of this:"
      ]
    },
    {
      "cell_type": "code",
      "execution_count": null,
      "id": "590a7fc0-7a09-49bb-9d60-4b412dd53e73",
      "metadata": {
        "id": "590a7fc0-7a09-49bb-9d60-4b412dd53e73",
        "outputId": "7bffde54-e975-49df-a80e-156ec9ee0a29"
      },
      "outputs": [
        {
          "name": "stdout",
          "output_type": "stream",
          "text": [
            "['a', 'b', 'c', 'd', 'e', 'f', 'g', 'h', 'i', 'j', 'k', 'l', 'm', 'n', 'o', 'p', 'q', 'r', 's', 't', 'u', 'v', 'w', 'x', 'y', 'z', 'A', 'B', 'C', 'D', 'E', 'F', 'G', 'H', 'I', 'J', 'K', 'L', 'M', 'N', 'O', 'P', 'Q', 'R', 'S', 'T', 'U', 'V', 'W', 'X', 'Y', 'Z']\n",
            "\n",
            "('a', 'b', 'c', 'd', 'e', 'f', 'g', 'h', 'i', 'j', 'k', 'l', 'm', 'n', 'o', 'p', 'q', 'r', 's', 't', 'u', 'v', 'w', 'x', 'y', 'z', 'A', 'B', 'C', 'D', 'E', 'F', 'G', 'H', 'I', 'J', 'K', 'L', 'M', 'N', 'O', 'P', 'Q', 'R', 'S', 'T', 'U', 'V', 'W', 'X', 'Y', 'Z')\n",
            "\n",
            "{'d', 'A', 'x', 't', 'y', 'X', 'H', 'I', 'b', 'm', 'p', 'i', 'z', 'j', 'l', 'S', 'v', 'C', 'Q', 'n', 'L', 'B', 'r', 'J', 'T', 'Y', 's', 'W', 'q', 'N', 'o', 'G', 'F', 'O', 'h', 'f', 'w', 'E', 'u', 'k', 'D', 'Z', 'P', 'V', 'M', 'g', 'U', 'a', 'c', 'e', 'R', 'K'}\n"
          ]
        }
      ],
      "source": [
        "import string\n",
        "import time\n",
        "\n",
        "char_list = list(string.ascii_letters)\n",
        "char_tuple = tuple(string.ascii_letters)\n",
        "char_set = set(string.ascii_letters)\n",
        "\n",
        "print(char_list)\n",
        "print()\n",
        "print(char_tuple)\n",
        "print()\n",
        "print(char_set)"
      ]
    },
    {
      "cell_type": "code",
      "execution_count": null,
      "id": "67ad88df-4c5c-4bfa-a424-46df7736a2c8",
      "metadata": {
        "id": "67ad88df-4c5c-4bfa-a424-46df7736a2c8"
      },
      "outputs": [],
      "source": [
        "def membership_test(n, container):\n",
        "    for i in range(n):\n",
        "        if 'p' in container:\n",
        "            pass"
      ]
    },
    {
      "cell_type": "code",
      "execution_count": null,
      "id": "2ddafbeb-42ba-4717-9563-374bb8739430",
      "metadata": {
        "id": "2ddafbeb-42ba-4717-9563-374bb8739430",
        "outputId": "95743422-48be-480c-9738-1395b5ab4c4d"
      },
      "outputs": [
        {
          "name": "stdout",
          "output_type": "stream",
          "text": [
            "list membership:  3.376766100000168\n"
          ]
        }
      ],
      "source": [
        "start = time.perf_counter()\n",
        "membership_test(10000000, char_list)\n",
        "end = time.perf_counter()\n",
        "print('list membership: ', end-start)"
      ]
    },
    {
      "cell_type": "code",
      "execution_count": null,
      "id": "be2aa05d-8059-49f9-a37d-9f7cccad1971",
      "metadata": {
        "id": "be2aa05d-8059-49f9-a37d-9f7cccad1971",
        "outputId": "320cdaab-a87f-4a42-b1ec-2155675d2ab9"
      },
      "outputs": [
        {
          "name": "stdout",
          "output_type": "stream",
          "text": [
            "tuple membership:  3.5227051000001666\n"
          ]
        }
      ],
      "source": [
        "start = time.perf_counter()\n",
        "membership_test(10000000, char_tuple)\n",
        "end = time.perf_counter()\n",
        "print('tuple membership: ', end-start)"
      ]
    },
    {
      "cell_type": "code",
      "execution_count": null,
      "id": "26c8f136-87b6-4780-b9aa-6f1c8a3f5f2e",
      "metadata": {
        "id": "26c8f136-87b6-4780-b9aa-6f1c8a3f5f2e",
        "outputId": "d5ec94a6-e70c-47d5-9672-7efc395cb193"
      },
      "outputs": [
        {
          "name": "stdout",
          "output_type": "stream",
          "text": [
            "set membership:  0.4033576000001631\n"
          ]
        }
      ],
      "source": [
        "start = time.perf_counter()\n",
        "membership_test(10000000, char_set)\n",
        "end = time.perf_counter()\n",
        "print('set membership: ', end-start)"
      ]
    },
    {
      "cell_type": "markdown",
      "id": "21a5b4ca-1e8f-44e4-9481-a1c3513b47dc",
      "metadata": {
        "id": "21a5b4ca-1e8f-44e4-9481-a1c3513b47dc"
      },
      "source": [
        "As you can see, set membership tests run quite a bit faster - which is not suprising since they are basically dictionary-like objects, so hash maps are used for looking up an item to determine membership."
      ]
    }
  ],
  "metadata": {
    "kernelspec": {
      "display_name": "Python 3 (ipykernel)",
      "language": "python",
      "name": "python3"
    },
    "language_info": {
      "codemirror_mode": {
        "name": "ipython",
        "version": 3
      },
      "file_extension": ".py",
      "mimetype": "text/x-python",
      "name": "python",
      "nbconvert_exporter": "python",
      "pygments_lexer": "ipython3",
      "version": "3.9.12"
    },
    "colab": {
      "provenance": [],
      "include_colab_link": true
    }
  },
  "nbformat": 4,
  "nbformat_minor": 5
}
