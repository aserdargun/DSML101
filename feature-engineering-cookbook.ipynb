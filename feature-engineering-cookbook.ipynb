{
 "cells": [
  {
   "cell_type": "markdown",
   "id": "3040fb2f",
   "metadata": {
    "papermill": {
     "duration": 0.088063,
     "end_time": "2022-12-08T11:44:55.581838",
     "exception": false,
     "start_time": "2022-12-08T11:44:55.493775",
     "status": "completed"
    },
    "tags": []
   },
   "source": [
    "# FEATURE ENGINEERING COOKBOOK"
   ]
  },
  {
   "cell_type": "markdown",
   "id": "49a37bb6",
   "metadata": {
    "papermill": {
     "duration": 0.084119,
     "end_time": "2022-12-08T11:44:55.752215",
     "exception": false,
     "start_time": "2022-12-08T11:44:55.668096",
     "status": "completed"
    },
    "tags": []
   },
   "source": [
    "* **Chapter 1: Foreseeing Variable Problems When Building ML Models**\n",
    "    * 1.1. Identifying numerical and categorical variables\n",
    "    * 1.2. Quantifying missing data\n",
    "    * 1.3. Determining cardinality in categorical variables\n",
    "    * 1.4. Pinpointing rare categories in categorical variables\n",
    "    * 1.5. Identifying a linear relationship\n",
    "    * 1.6. Identifying a normal distribution\n",
    "    * 1.7. Distinguishing variable distribution\n",
    "    * 1.8. Highlighting outliers\n",
    "    * 1.9. Comparing feature maginitude\n",
    "* **Chapter 2: Imputing Missing Data**\n",
    "    * 2.1. Removing observations with missing data\n",
    "    * 2.2. Performing mean or median imputation\n",
    "    * 2.3. Implementing mode or frequent category imputation\n",
    "    * 2.4. Replacing missing values with an arbitrary number\n",
    "    * 2.5. Capturing missing values in a bespoke category\n",
    "    * 2.6. Replacing missing values with a value at the end of the distribution\n",
    "    * 2.7. Implementing randım sample imputation\n",
    "    * 2.8. Adding a missing value indicator variable\n",
    "    * 2.9. Performing multivariate imputation by chained equations\n",
    "    * 2.10. Assembling an imputation pipeline with scikit-learn\n",
    "    * 2.11. Assembling an imputation pipeline withe Feature-engine\n",
    "* **Chapter 3: Encoding Categorical Variables**\n",
    "    * 3.1. Creating binary variables through one-hot encoding\n",
    "    * 3.2. Performing one-hot encoding of frequent categories\n",
    "    * 3.3. Replacing categories with ordinal numbers\n",
    "    * 3.4. Replacing categories with counts or frequency of observations\n",
    "    * 3.5. Encoding with integers in an ordered manner\n",
    "    * 3.6. Encoding with the mean of the target\n",
    "    * 3.7. Encoding with the Weight of Evidence\n",
    "    * 3.8. Grouping rare or infrequent categories\n",
    "    * 3.9. Performing binary encoding\n",
    "    * 3.10. Performing feauture hashing\n",
    "* **Chapter 4: Transforming Numerical Variables**\n",
    "    * 4.1. Transforming variables with the logarithm\n",
    "    * 4.2. Transforming variables with the reciprocal function\n",
    "    * 4.3. Using square and cube root to transform variables\n",
    "    * 4.4. Using power transformations on numerical variables\n",
    "    * 4.5. Performing Box-Cox transformation on numerical variables\n",
    "    * 4.6. Performing Yeo-Johnson transformation on numerical variables\n",
    "* **Chapter 5: Performing Variable Discretization**\n",
    "    * 5.1 Dividing the variable into intervals of equal width\n",
    "    * 5.2. Sorting the variable values in intervals of equal frequency\n",
    "    * 5.3. Perforiming discretization followd by categorical encoding\n",
    "    * 5.4. Allocating the variable values in arbitrary intervals\n",
    "    * 5.5. Performing discretization with k-means clustering\n",
    "    * 5.6. Using decision trees for discretization\n",
    "* **Chapter 6: Working with Outliers**\n",
    "    * 6.1. Trimming outliers from the dataset\n",
    "    * 6.2. Performing winsorization\n",
    "    * 6.3. Capping the variable at arbitrary maximum and minimum values\n",
    "    * 6.4. Performing zero-coding - capping the variable at zero\n",
    "* **Chapter 7: Deriving Features from Dates and Time Variables**\n",
    "    * 7.1. Extracting date and time parts from a datetime variable\n",
    "    * 7.2. Deriving representations of the year and month\n",
    "    * 7.3. Creating representations of day and week\n",
    "    * 7.4. Extraction time parts from a time variable\n",
    "    * 7.5. Capturing the elapsed time between datetime variables\n",
    "    * 7.6. Working with time in different time zones\n",
    "* **Chapter 8: Performing Feature Scaling**\n",
    "    * 8.1. Standardizing the features\n",
    "    * 8.2. Performing mean normalization\n",
    "    * 8.3. Scaling to the maximum and minumum values\n",
    "    * 8.4. Implementing maximum absolute scaling\n",
    "    * 8.5. Scaling with the median and quantiles\n",
    "    * 8.6. Scaling to vector unit length\n",
    "* **Chapter 9: Applying Mathematical Computations to Features**\n",
    "    * 9.1. Combining multiple features with statistical operations\n",
    "    * 9.2. Combining pairs of features with mathematical functions\n",
    "    * 9.3. Performing polynomial expansion\n",
    "    * 9.4. Deriving new features with decision trees\n",
    "    * 9.5. Carrying out PCA\n",
    "* **Chapter 10: Creating Features with Transactional and Time Series Data**\n",
    "    * 10.1. Aggregating transactions with mathematical operations\n",
    "    * 10.2. Aggregating transactions in a time window\n",
    "    * 10.3. Determining the number of local maxima and minima\n",
    "    * 10.4. Deriving time elapsed between time-stamped events\n",
    "    * 10.5. Creating features from transactions with Featuretools\n",
    "* **Chapter 11: Extracting Features from Text Variables**\n",
    "    * 11.1. Counting characters, words, and vocabulary\n",
    "    * 11.2. Estimating text complexity by counting sentences\n",
    "    * 11.3. Creating features with bag-of-words and n-grams\n",
    "    * 11.4. Implementing term frequency-inverse document frequency\n",
    "    * 11.5. Cleaning and stemming text variables"
   ]
  },
  {
   "cell_type": "markdown",
   "id": "5c0212a7",
   "metadata": {
    "papermill": {
     "duration": 0.082219,
     "end_time": "2022-12-08T11:44:55.915016",
     "exception": false,
     "start_time": "2022-12-08T11:44:55.832797",
     "status": "completed"
    },
    "tags": []
   },
   "source": [
    "# Chapter 1: Foreseeing Variable Problems When Building ML Models"
   ]
  },
  {
   "cell_type": "markdown",
   "id": "a0a424aa",
   "metadata": {
    "papermill": {
     "duration": 0.083313,
     "end_time": "2022-12-08T11:44:56.079800",
     "exception": false,
     "start_time": "2022-12-08T11:44:55.996487",
     "status": "completed"
    },
    "tags": []
   },
   "source": [
    "* Identifying numerical and categorical variables\n",
    "* Quantifying missing data\n",
    "* Determining cardinality in categorical variables\n",
    "* Pinpinting rare categories in categorical variables\n",
    "* Identifying a linear relationship\n",
    "* Identifying a normal distribution\n",
    "* Distinguishing variable distribution\n",
    "* Highlighting outliers\n",
    "* Comparing feature maginitude"
   ]
  },
  {
   "cell_type": "markdown",
   "id": "9f78e0aa",
   "metadata": {
    "papermill": {
     "duration": 0.08134,
     "end_time": "2022-12-08T11:44:56.267292",
     "exception": false,
     "start_time": "2022-12-08T11:44:56.185952",
     "status": "completed"
    },
    "tags": []
   },
   "source": [
    "# 1.1. Identifying numerical and categorical variables"
   ]
  },
  {
   "cell_type": "markdown",
   "id": "f43843ec",
   "metadata": {
    "papermill": {
     "duration": 0.100216,
     "end_time": "2022-12-08T11:44:56.449179",
     "exception": false,
     "start_time": "2022-12-08T11:44:56.348963",
     "status": "completed"
    },
    "tags": []
   },
   "source": [
    "Numerical variables can be discrete or continuous. \n",
    "\n",
    "We will learn how to identify continuous, discrete, and categorical variables\n",
    "by inspecting their values and the data type that they are stored and loaded with in pandas."
   ]
  },
  {
   "cell_type": "code",
   "execution_count": 1,
   "id": "9ab41845",
   "metadata": {
    "execution": {
     "iopub.execute_input": "2022-12-08T11:44:56.688554Z",
     "iopub.status.busy": "2022-12-08T11:44:56.688078Z",
     "iopub.status.idle": "2022-12-08T11:44:56.698965Z",
     "shell.execute_reply": "2022-12-08T11:44:56.697882Z"
    },
    "papermill": {
     "duration": 0.166474,
     "end_time": "2022-12-08T11:44:56.701815",
     "exception": false,
     "start_time": "2022-12-08T11:44:56.535341",
     "status": "completed"
    },
    "tags": []
   },
   "outputs": [],
   "source": [
    "import pandas as pd\n",
    "import matplotlib.pyplot as plt"
   ]
  },
  {
   "cell_type": "code",
   "execution_count": 2,
   "id": "26c27625",
   "metadata": {
    "execution": {
     "iopub.execute_input": "2022-12-08T11:44:56.888126Z",
     "iopub.status.busy": "2022-12-08T11:44:56.887103Z",
     "iopub.status.idle": "2022-12-08T11:44:56.916864Z",
     "shell.execute_reply": "2022-12-08T11:44:56.916052Z"
    },
    "papermill": {
     "duration": 0.121592,
     "end_time": "2022-12-08T11:44:56.919465",
     "exception": false,
     "start_time": "2022-12-08T11:44:56.797873",
     "status": "completed"
    },
    "tags": []
   },
   "outputs": [
    {
     "data": {
      "text/plain": [
       "PassengerId      int64\n",
       "Survived         int64\n",
       "Pclass           int64\n",
       "Name            object\n",
       "Sex             object\n",
       "Age            float64\n",
       "SibSp            int64\n",
       "Parch            int64\n",
       "Ticket          object\n",
       "Fare           float64\n",
       "Cabin           object\n",
       "Embarked        object\n",
       "dtype: object"
      ]
     },
     "execution_count": 2,
     "metadata": {},
     "output_type": "execute_result"
    }
   ],
   "source": [
    "data = pd.read_csv('/kaggle/input/titanic/train.csv')\n",
    "data.dtypes"
   ]
  },
  {
   "cell_type": "code",
   "execution_count": 3,
   "id": "88c87592",
   "metadata": {
    "execution": {
     "iopub.execute_input": "2022-12-08T11:44:57.086936Z",
     "iopub.status.busy": "2022-12-08T11:44:57.085698Z",
     "iopub.status.idle": "2022-12-08T11:44:57.101757Z",
     "shell.execute_reply": "2022-12-08T11:44:57.100606Z"
    },
    "papermill": {
     "duration": 0.103678,
     "end_time": "2022-12-08T11:44:57.104516",
     "exception": false,
     "start_time": "2022-12-08T11:44:57.000838",
     "status": "completed"
    },
    "tags": []
   },
   "outputs": [
    {
     "data": {
      "text/plain": [
       "array([1, 0, 3, 4, 2, 5, 8])"
      ]
     },
     "execution_count": 3,
     "metadata": {},
     "output_type": "execute_result"
    }
   ],
   "source": [
    "data['SibSp'].unique()"
   ]
  },
  {
   "cell_type": "code",
   "execution_count": 4,
   "id": "b59d7eab",
   "metadata": {
    "execution": {
     "iopub.execute_input": "2022-12-08T11:44:57.275526Z",
     "iopub.status.busy": "2022-12-08T11:44:57.274024Z",
     "iopub.status.idle": "2022-12-08T11:44:57.289721Z",
     "shell.execute_reply": "2022-12-08T11:44:57.288208Z"
    },
    "papermill": {
     "duration": 0.105387,
     "end_time": "2022-12-08T11:44:57.292844",
     "exception": false,
     "start_time": "2022-12-08T11:44:57.187457",
     "status": "completed"
    },
    "tags": []
   },
   "outputs": [
    {
     "data": {
      "text/plain": [
       "array([ 7.25  , 71.2833,  7.925 , 53.1   ,  8.05  ,  8.4583, 51.8625,\n",
       "       21.075 , 11.1333, 30.0708, 16.7   , 26.55  , 31.275 ,  7.8542,\n",
       "       16.    , 29.125 , 13.    , 18.    ,  7.225 , 26.    ])"
      ]
     },
     "execution_count": 4,
     "metadata": {},
     "output_type": "execute_result"
    }
   ],
   "source": [
    "data['Fare'].unique()[0:20]"
   ]
  },
  {
   "cell_type": "code",
   "execution_count": 5,
   "id": "28535dd1",
   "metadata": {
    "execution": {
     "iopub.execute_input": "2022-12-08T11:44:57.506444Z",
     "iopub.status.busy": "2022-12-08T11:44:57.505176Z",
     "iopub.status.idle": "2022-12-08T11:44:57.514832Z",
     "shell.execute_reply": "2022-12-08T11:44:57.513402Z"
    },
    "papermill": {
     "duration": 0.116445,
     "end_time": "2022-12-08T11:44:57.518666",
     "exception": false,
     "start_time": "2022-12-08T11:44:57.402221",
     "status": "completed"
    },
    "tags": []
   },
   "outputs": [
    {
     "data": {
      "text/plain": [
       "array(['S', 'C', 'Q', nan], dtype=object)"
      ]
     },
     "execution_count": 5,
     "metadata": {},
     "output_type": "execute_result"
    }
   ],
   "source": [
    "data['Embarked'].unique()"
   ]
  },
  {
   "cell_type": "code",
   "execution_count": 6,
   "id": "14c21113",
   "metadata": {
    "execution": {
     "iopub.execute_input": "2022-12-08T11:44:57.699401Z",
     "iopub.status.busy": "2022-12-08T11:44:57.698788Z",
     "iopub.status.idle": "2022-12-08T11:44:57.706752Z",
     "shell.execute_reply": "2022-12-08T11:44:57.705643Z"
    },
    "papermill": {
     "duration": 0.105506,
     "end_time": "2022-12-08T11:44:57.708937",
     "exception": false,
     "start_time": "2022-12-08T11:44:57.603431",
     "status": "completed"
    },
    "tags": []
   },
   "outputs": [
    {
     "data": {
      "text/plain": [
       "array([nan, 'C85', 'C123', 'E46', 'G6', 'C103', 'D56', 'A6',\n",
       "       'C23 C25 C27', 'B78', 'D33', 'B30', 'C52', 'B28', 'C83', 'F33',\n",
       "       'F G73', 'E31', 'A5', 'D10 D12', 'D26', 'C110', 'B58 B60', 'E101',\n",
       "       'F E69', 'D47', 'B86', 'F2', 'C2', 'E33', 'B19', 'A7', 'C49', 'F4',\n",
       "       'A32', 'B4', 'B80', 'A31', 'D36', 'D15', 'C93', 'C78', 'D35',\n",
       "       'C87', 'B77', 'E67', 'B94', 'C125', 'C99', 'C118', 'D7', 'A19',\n",
       "       'B49', 'D', 'C22 C26', 'C106', 'C65', 'E36', 'C54',\n",
       "       'B57 B59 B63 B66', 'C7', 'E34', 'C32', 'B18', 'C124', 'C91', 'E40',\n",
       "       'T', 'C128', 'D37', 'B35', 'E50', 'C82', 'B96 B98', 'E10', 'E44',\n",
       "       'A34', 'C104', 'C111', 'C92', 'E38', 'D21', 'E12', 'E63', 'A14',\n",
       "       'B37', 'C30', 'D20', 'B79', 'E25', 'D46', 'B73', 'C95', 'B38',\n",
       "       'B39', 'B22', 'C86', 'C70', 'A16', 'C101', 'C68', 'A10', 'E68',\n",
       "       'B41', 'A20', 'D19', 'D50', 'D9', 'A23', 'B50', 'A26', 'D48',\n",
       "       'E58', 'C126', 'B71', 'B51 B53 B55', 'D49', 'B5', 'B20', 'F G63',\n",
       "       'C62 C64', 'E24', 'C90', 'C45', 'E8', 'B101', 'D45', 'C46', 'D30',\n",
       "       'E121', 'D11', 'E77', 'F38', 'B3', 'D6', 'B82 B84', 'D17', 'A36',\n",
       "       'B102', 'B69', 'E49', 'C47', 'D28', 'E17', 'A24', 'C50', 'B42',\n",
       "       'C148'], dtype=object)"
      ]
     },
     "execution_count": 6,
     "metadata": {},
     "output_type": "execute_result"
    }
   ],
   "source": [
    "data['Cabin'].unique()"
   ]
  },
  {
   "cell_type": "markdown",
   "id": "dadeab58",
   "metadata": {
    "papermill": {
     "duration": 0.08354,
     "end_time": "2022-12-08T11:44:57.875790",
     "exception": false,
     "start_time": "2022-12-08T11:44:57.792250",
     "status": "completed"
    },
    "tags": []
   },
   "source": [
    "**How it works...**\n",
    "\n",
    "In this recipe, we identified the variable data types of a publicly available dataset by\n",
    "inspecting the data type in which the variables are cast and the distinct values they take.\n",
    "First, we used pandas `read_csv()` to load the data from a CSV file into a dataframe. Next,\n",
    "we used pandas `dtypes` to display the data types in which the variables are cast, which can\n",
    "be `float` for continuous variables, `int` for integers, and `object` for strings. We observed\n",
    "that the continuous variable `fare` was cast as float, the discrete variable `sibsp` was cast\n",
    "as int, and the categorical variable embarked was cast as an object. Finally, we\n",
    "identified the distinct values of a variable with the `unique()` method from pandas. We\n",
    "used `unique()` together with a range, [0:20], to output the first 20 unique values for\n",
    "`fare`, since this variable shows a lot of distinct values."
   ]
  },
  {
   "cell_type": "code",
   "execution_count": 7,
   "id": "05fc54e7",
   "metadata": {
    "execution": {
     "iopub.execute_input": "2022-12-08T11:44:58.044839Z",
     "iopub.status.busy": "2022-12-08T11:44:58.043927Z",
     "iopub.status.idle": "2022-12-08T11:44:58.399011Z",
     "shell.execute_reply": "2022-12-08T11:44:58.397738Z"
    },
    "papermill": {
     "duration": 0.442993,
     "end_time": "2022-12-08T11:44:58.401807",
     "exception": false,
     "start_time": "2022-12-08T11:44:57.958814",
     "status": "completed"
    },
    "tags": []
   },
   "outputs": [
    {
     "data": {
      "text/plain": [
       "<AxesSubplot:>"
      ]
     },
     "execution_count": 7,
     "metadata": {},
     "output_type": "execute_result"
    },
    {
     "data": {
      "image/png": "[encoded data removed]",
      "text/plain": [
       "<Figure size 432x288 with 1 Axes>"
      ]
     },
     "metadata": {
      "needs_background": "light"
     },
     "output_type": "display_data"
    }
   ],
   "source": [
    "data['SibSp'].hist(bins=20)"
   ]
  },
  {
   "cell_type": "code",
   "execution_count": 8,
   "id": "33088d50",
   "metadata": {
    "execution": {
     "iopub.execute_input": "2022-12-08T11:44:58.570457Z",
     "iopub.status.busy": "2022-12-08T11:44:58.570069Z",
     "iopub.status.idle": "2022-12-08T11:44:58.880819Z",
     "shell.execute_reply": "2022-12-08T11:44:58.879535Z"
    },
    "papermill": {
     "duration": 0.398308,
     "end_time": "2022-12-08T11:44:58.883316",
     "exception": false,
     "start_time": "2022-12-08T11:44:58.485008",
     "status": "completed"
    },
    "tags": []
   },
   "outputs": [
    {
     "data": {
      "text/plain": [
       "<AxesSubplot:>"
      ]
     },
     "execution_count": 8,
     "metadata": {},
     "output_type": "execute_result"
    },
    {
     "data": {
      "image/png": "[encoded data removed]",
      "text/plain": [
       "<Figure size 432x288 with 1 Axes>"
      ]
     },
     "metadata": {
      "needs_background": "light"
     },
     "output_type": "display_data"
    }
   ],
   "source": [
    "data['Fare'].hist(bins=50)"
   ]
  },
  {
   "cell_type": "markdown",
   "id": "302e8434",
   "metadata": {
    "papermill": {
     "duration": 0.083194,
     "end_time": "2022-12-08T11:44:59.049608",
     "exception": false,
     "start_time": "2022-12-08T11:44:58.966414",
     "status": "completed"
    },
    "tags": []
   },
   "source": [
    "# 1.2. Quantifying missing data"
   ]
  },
  {
   "cell_type": "markdown",
   "id": "dd7214f4",
   "metadata": {
    "papermill": {
     "duration": 0.087183,
     "end_time": "2022-12-08T11:44:59.220600",
     "exception": false,
     "start_time": "2022-12-08T11:44:59.133417",
     "status": "completed"
    },
    "tags": []
   },
   "source": [
    "Missing data refers to the absence of a value for observations and is a common occurrence in most datasets."
   ]
  },
  {
   "cell_type": "code",
   "execution_count": 9,
   "id": "ad96c697",
   "metadata": {
    "execution": {
     "iopub.execute_input": "2022-12-08T11:44:59.391654Z",
     "iopub.status.busy": "2022-12-08T11:44:59.391206Z",
     "iopub.status.idle": "2022-12-08T11:44:59.396139Z",
     "shell.execute_reply": "2022-12-08T11:44:59.394797Z"
    },
    "papermill": {
     "duration": 0.093871,
     "end_time": "2022-12-08T11:44:59.398374",
     "exception": false,
     "start_time": "2022-12-08T11:44:59.304503",
     "status": "completed"
    },
    "tags": []
   },
   "outputs": [],
   "source": [
    "import pandas as pd\n",
    "import matplotlib.pyplot as plt"
   ]
  },
  {
   "cell_type": "code",
   "execution_count": 10,
   "id": "e3bdf7d8",
   "metadata": {
    "execution": {
     "iopub.execute_input": "2022-12-08T11:44:59.568248Z",
     "iopub.status.busy": "2022-12-08T11:44:59.567132Z",
     "iopub.status.idle": "2022-12-08T11:44:59.572965Z",
     "shell.execute_reply": "2022-12-08T11:44:59.571778Z"
    },
    "papermill": {
     "duration": 0.093842,
     "end_time": "2022-12-08T11:44:59.575563",
     "exception": false,
     "start_time": "2022-12-08T11:44:59.481721",
     "status": "completed"
    },
    "tags": []
   },
   "outputs": [],
   "source": [
    "cols = ['AGE', 'NUMCHLD', 'INCOME', 'WEALTH1', 'MBCRAFT',\n",
    "'MBGARDEN', 'MBBOOKS', 'MBCOLECT', 'MAGFAML','MAGFEM', 'MAGMALE']"
   ]
  },
  {
   "cell_type": "code",
   "execution_count": 11,
   "id": "1d7e442a",
   "metadata": {
    "execution": {
     "iopub.execute_input": "2022-12-08T11:44:59.747031Z",
     "iopub.status.busy": "2022-12-08T11:44:59.746646Z",
     "iopub.status.idle": "2022-12-08T11:45:02.961407Z",
     "shell.execute_reply": "2022-12-08T11:45:02.960185Z"
    },
    "papermill": {
     "duration": 3.305502,
     "end_time": "2022-12-08T11:45:02.964492",
     "exception": false,
     "start_time": "2022-12-08T11:44:59.658990",
     "status": "completed"
    },
    "tags": []
   },
   "outputs": [
    {
     "data": {
      "text/html": [
       "<div>\n",
       "<style scoped>\n",
       "    .dataframe tbody tr th:only-of-type {\n",
       "        vertical-align: middle;\n",
       "    }\n",
       "\n",
       "    .dataframe tbody tr th {\n",
       "        vertical-align: top;\n",
       "    }\n",
       "\n",
       "    .dataframe thead th {\n",
       "        text-align: right;\n",
       "    }\n",
       "</style>\n",
       "<table border=\"1\" class=\"dataframe\">\n",
       "  <thead>\n",
       "    <tr style=\"text-align: right;\">\n",
       "      <th></th>\n",
       "      <th>AGE</th>\n",
       "      <th>NUMCHLD</th>\n",
       "      <th>INCOME</th>\n",
       "      <th>WEALTH1</th>\n",
       "      <th>MBCRAFT</th>\n",
       "      <th>MBGARDEN</th>\n",
       "      <th>MBBOOKS</th>\n",
       "      <th>MBCOLECT</th>\n",
       "      <th>MAGFAML</th>\n",
       "      <th>MAGFEM</th>\n",
       "      <th>MAGMALE</th>\n",
       "    </tr>\n",
       "  </thead>\n",
       "  <tbody>\n",
       "    <tr>\n",
       "      <th>0</th>\n",
       "      <td>60.0</td>\n",
       "      <td>NaN</td>\n",
       "      <td>NaN</td>\n",
       "      <td>NaN</td>\n",
       "      <td>NaN</td>\n",
       "      <td>NaN</td>\n",
       "      <td>NaN</td>\n",
       "      <td>NaN</td>\n",
       "      <td>NaN</td>\n",
       "      <td>NaN</td>\n",
       "      <td>NaN</td>\n",
       "    </tr>\n",
       "    <tr>\n",
       "      <th>1</th>\n",
       "      <td>46.0</td>\n",
       "      <td>1.0</td>\n",
       "      <td>6.0</td>\n",
       "      <td>9.0</td>\n",
       "      <td>0.0</td>\n",
       "      <td>0.0</td>\n",
       "      <td>3.0</td>\n",
       "      <td>1.0</td>\n",
       "      <td>1.0</td>\n",
       "      <td>1.0</td>\n",
       "      <td>0.0</td>\n",
       "    </tr>\n",
       "    <tr>\n",
       "      <th>2</th>\n",
       "      <td>NaN</td>\n",
       "      <td>NaN</td>\n",
       "      <td>3.0</td>\n",
       "      <td>1.0</td>\n",
       "      <td>0.0</td>\n",
       "      <td>0.0</td>\n",
       "      <td>1.0</td>\n",
       "      <td>0.0</td>\n",
       "      <td>0.0</td>\n",
       "      <td>0.0</td>\n",
       "      <td>0.0</td>\n",
       "    </tr>\n",
       "    <tr>\n",
       "      <th>3</th>\n",
       "      <td>70.0</td>\n",
       "      <td>NaN</td>\n",
       "      <td>1.0</td>\n",
       "      <td>4.0</td>\n",
       "      <td>0.0</td>\n",
       "      <td>0.0</td>\n",
       "      <td>0.0</td>\n",
       "      <td>0.0</td>\n",
       "      <td>0.0</td>\n",
       "      <td>0.0</td>\n",
       "      <td>0.0</td>\n",
       "    </tr>\n",
       "    <tr>\n",
       "      <th>4</th>\n",
       "      <td>78.0</td>\n",
       "      <td>1.0</td>\n",
       "      <td>3.0</td>\n",
       "      <td>2.0</td>\n",
       "      <td>1.0</td>\n",
       "      <td>0.0</td>\n",
       "      <td>9.0</td>\n",
       "      <td>0.0</td>\n",
       "      <td>4.0</td>\n",
       "      <td>1.0</td>\n",
       "      <td>0.0</td>\n",
       "    </tr>\n",
       "  </tbody>\n",
       "</table>\n",
       "</div>"
      ],
      "text/plain": [
       "    AGE  NUMCHLD  INCOME  WEALTH1  MBCRAFT  MBGARDEN  MBBOOKS  MBCOLECT  \\\n",
       "0  60.0      NaN     NaN      NaN      NaN       NaN      NaN       NaN   \n",
       "1  46.0      1.0     6.0      9.0      0.0       0.0      3.0       1.0   \n",
       "2   NaN      NaN     3.0      1.0      0.0       0.0      1.0       0.0   \n",
       "3  70.0      NaN     1.0      4.0      0.0       0.0      0.0       0.0   \n",
       "4  78.0      1.0     3.0      2.0      1.0       0.0      9.0       0.0   \n",
       "\n",
       "   MAGFAML  MAGFEM  MAGMALE  \n",
       "0      NaN     NaN      NaN  \n",
       "1      1.0     1.0      0.0  \n",
       "2      0.0     0.0      0.0  \n",
       "3      0.0     0.0      0.0  \n",
       "4      4.0     1.0      0.0  "
      ]
     },
     "execution_count": 11,
     "metadata": {},
     "output_type": "execute_result"
    }
   ],
   "source": [
    "data = pd.read_csv('/kaggle/input/kddcup98-dataset/cup98LRN.txt', usecols=cols)\n",
    "data.head()"
   ]
  },
  {
   "cell_type": "code",
   "execution_count": 12,
   "id": "51dcfef8",
   "metadata": {
    "execution": {
     "iopub.execute_input": "2022-12-08T11:45:03.133988Z",
     "iopub.status.busy": "2022-12-08T11:45:03.133570Z",
     "iopub.status.idle": "2022-12-08T11:45:03.144776Z",
     "shell.execute_reply": "2022-12-08T11:45:03.143557Z"
    },
    "papermill": {
     "duration": 0.099692,
     "end_time": "2022-12-08T11:45:03.147492",
     "exception": false,
     "start_time": "2022-12-08T11:45:03.047800",
     "status": "completed"
    },
    "tags": []
   },
   "outputs": [
    {
     "data": {
      "text/plain": [
       "AGE         23665\n",
       "NUMCHLD     83026\n",
       "INCOME      21286\n",
       "WEALTH1     44732\n",
       "MBCRAFT     52854\n",
       "MBGARDEN    52854\n",
       "MBBOOKS     52854\n",
       "MBCOLECT    52914\n",
       "MAGFAML     52854\n",
       "MAGFEM      52854\n",
       "MAGMALE     52854\n",
       "dtype: int64"
      ]
     },
     "execution_count": 12,
     "metadata": {},
     "output_type": "execute_result"
    }
   ],
   "source": [
    "data.isnull().sum()"
   ]
  },
  {
   "cell_type": "code",
   "execution_count": 13,
   "id": "cc66fc03",
   "metadata": {
    "execution": {
     "iopub.execute_input": "2022-12-08T11:45:03.317042Z",
     "iopub.status.busy": "2022-12-08T11:45:03.316622Z",
     "iopub.status.idle": "2022-12-08T11:45:03.326677Z",
     "shell.execute_reply": "2022-12-08T11:45:03.325822Z"
    },
    "papermill": {
     "duration": 0.097524,
     "end_time": "2022-12-08T11:45:03.328860",
     "exception": false,
     "start_time": "2022-12-08T11:45:03.231336",
     "status": "completed"
    },
    "tags": []
   },
   "outputs": [
    {
     "data": {
      "text/plain": [
       "AGE         0.248030\n",
       "NUMCHLD     0.870184\n",
       "INCOME      0.223096\n",
       "WEALTH1     0.468830\n",
       "MBCRAFT     0.553955\n",
       "MBGARDEN    0.553955\n",
       "MBBOOKS     0.553955\n",
       "MBCOLECT    0.554584\n",
       "MAGFAML     0.553955\n",
       "MAGFEM      0.553955\n",
       "MAGMALE     0.553955\n",
       "dtype: float64"
      ]
     },
     "execution_count": 13,
     "metadata": {},
     "output_type": "execute_result"
    }
   ],
   "source": [
    "data.isnull().mean()"
   ]
  },
  {
   "cell_type": "code",
   "execution_count": 14,
   "id": "cff018db",
   "metadata": {
    "execution": {
     "iopub.execute_input": "2022-12-08T11:45:03.499247Z",
     "iopub.status.busy": "2022-12-08T11:45:03.498562Z",
     "iopub.status.idle": "2022-12-08T11:45:03.782878Z",
     "shell.execute_reply": "2022-12-08T11:45:03.781732Z"
    },
    "papermill": {
     "duration": 0.372796,
     "end_time": "2022-12-08T11:45:03.785521",
     "exception": false,
     "start_time": "2022-12-08T11:45:03.412725",
     "status": "completed"
    },
    "tags": []
   },
   "outputs": [
    {
     "data": {
      "text/plain": [
       "Text(0.5, 1.0, 'Quantifying missing data')"
      ]
     },
     "execution_count": 14,
     "metadata": {},
     "output_type": "execute_result"
    },
    {
     "data": {
      "image/png": "[encoded data removed]",
      "text/plain": [
       "<Figure size 864x432 with 1 Axes>"
      ]
     },
     "metadata": {
      "needs_background": "light"
     },
     "output_type": "display_data"
    }
   ],
   "source": [
    "data.isnull().mean().plot.bar(figsize=(12,6))\n",
    "plt.ylabel('Percentage of missing values')\n",
    "plt.xlabel('Variables')\n",
    "plt.title('Quantifying missing data')"
   ]
  },
  {
   "cell_type": "markdown",
   "id": "607c335c",
   "metadata": {
    "papermill": {
     "duration": 0.085927,
     "end_time": "2022-12-08T11:45:03.957736",
     "exception": false,
     "start_time": "2022-12-08T11:45:03.871809",
     "status": "completed"
    },
    "tags": []
   },
   "source": [
    "**How it works...**\n",
    "\n",
    "In this recipe, we quantified and displayed the amount and percentage of missing data of a\n",
    "publicly available dataset.\n",
    "To load data from the `txt` file into a dataframe, we used the pandas `read_csv()` method.\n",
    "To load only certain columns from the original data, we created a list with the column\n",
    "names and passed this list to the `usecols` argument of `read_csv()`. Then, we used the\n",
    "`head()` method to display the top five rows of the dataframe, along with the variable\n",
    "names and some of their values.\n",
    "\n",
    "To identify missing observations, we used pandas `isnull()`. This created a boolean vector\n",
    "per variable, with each vector indicating whether the value was missing (True) or not\n",
    "(False) for each row of the dataset. Then, we used the pandas `sum()` and `mean()`\n",
    "methods to operate over these boolean vectors and calculate the total number or the\n",
    "percentage of missing values, respectively. The sum() method sums the True values of the\n",
    "boolean vectors to find the total number of missing values, whereas the `mean()` method\n",
    "takes the average of these values and returns the percentage of missing data, expressed as decimals.\n",
    "\n",
    "To display the percentages of the missing values in a bar plot, we used pandas `isnull()` and `mean()`, followed by `plot.bar()`, and modified the plot by adding axis legends and a title with the `xlabel()`, `ylabel()`, and `title()` Matplotlib methods."
   ]
  },
  {
   "cell_type": "markdown",
   "id": "6c396a4b",
   "metadata": {
    "papermill": {
     "duration": 0.083683,
     "end_time": "2022-12-08T11:45:04.125223",
     "exception": false,
     "start_time": "2022-12-08T11:45:04.041540",
     "status": "completed"
    },
    "tags": []
   },
   "source": [
    "# 1.3. Determining cardinality in categorical variables"
   ]
  },
  {
   "cell_type": "markdown",
   "id": "7f0af18b",
   "metadata": {
    "papermill": {
     "duration": 0.085999,
     "end_time": "2022-12-08T11:45:04.295829",
     "exception": false,
     "start_time": "2022-12-08T11:45:04.209830",
     "status": "completed"
    },
    "tags": []
   },
   "source": [
    "The number of unique categories in a variable is called cardinality."
   ]
  },
  {
   "cell_type": "code",
   "execution_count": 15,
   "id": "1e1eafe7",
   "metadata": {
    "execution": {
     "iopub.execute_input": "2022-12-08T11:45:04.468520Z",
     "iopub.status.busy": "2022-12-08T11:45:04.468095Z",
     "iopub.status.idle": "2022-12-08T11:45:04.473158Z",
     "shell.execute_reply": "2022-12-08T11:45:04.472057Z"
    },
    "papermill": {
     "duration": 0.095523,
     "end_time": "2022-12-08T11:45:04.475588",
     "exception": false,
     "start_time": "2022-12-08T11:45:04.380065",
     "status": "completed"
    },
    "tags": []
   },
   "outputs": [],
   "source": [
    "import pandas as pd\n",
    "import numpy as np\n",
    "import matplotlib.pyplot as plt"
   ]
  },
  {
   "cell_type": "code",
   "execution_count": 16,
   "id": "179ef64a",
   "metadata": {
    "execution": {
     "iopub.execute_input": "2022-12-08T11:45:04.645721Z",
     "iopub.status.busy": "2022-12-08T11:45:04.645170Z",
     "iopub.status.idle": "2022-12-08T11:45:05.921004Z",
     "shell.execute_reply": "2022-12-08T11:45:05.919818Z"
    },
    "papermill": {
     "duration": 1.364248,
     "end_time": "2022-12-08T11:45:05.923901",
     "exception": false,
     "start_time": "2022-12-08T11:45:04.559653",
     "status": "completed"
    },
    "tags": []
   },
   "outputs": [],
   "source": [
    "cols = ['GENDER', 'RFA_2', 'MDMAUD_A', 'RFA_2', 'DOMAIN', 'RFA_15']\n",
    "data = pd.read_csv('/kaggle/input/kddcup98-dataset/cup98LRN.txt', usecols=cols)"
   ]
  },
  {
   "cell_type": "code",
   "execution_count": 17,
   "id": "ceedfccb",
   "metadata": {
    "execution": {
     "iopub.execute_input": "2022-12-08T11:45:06.099882Z",
     "iopub.status.busy": "2022-12-08T11:45:06.099418Z",
     "iopub.status.idle": "2022-12-08T11:45:06.128717Z",
     "shell.execute_reply": "2022-12-08T11:45:06.127556Z"
    },
    "papermill": {
     "duration": 0.121938,
     "end_time": "2022-12-08T11:45:06.131140",
     "exception": false,
     "start_time": "2022-12-08T11:45:06.009202",
     "status": "completed"
    },
    "tags": []
   },
   "outputs": [
    {
     "data": {
      "text/html": [
       "<div>\n",
       "<style scoped>\n",
       "    .dataframe tbody tr th:only-of-type {\n",
       "        vertical-align: middle;\n",
       "    }\n",
       "\n",
       "    .dataframe tbody tr th {\n",
       "        vertical-align: top;\n",
       "    }\n",
       "\n",
       "    .dataframe thead th {\n",
       "        text-align: right;\n",
       "    }\n",
       "</style>\n",
       "<table border=\"1\" class=\"dataframe\">\n",
       "  <thead>\n",
       "    <tr style=\"text-align: right;\">\n",
       "      <th></th>\n",
       "      <th>DOMAIN</th>\n",
       "      <th>GENDER</th>\n",
       "      <th>RFA_2</th>\n",
       "      <th>RFA_15</th>\n",
       "      <th>MDMAUD_A</th>\n",
       "    </tr>\n",
       "  </thead>\n",
       "  <tbody>\n",
       "    <tr>\n",
       "      <th>0</th>\n",
       "      <td>T2</td>\n",
       "      <td>F</td>\n",
       "      <td>L4E</td>\n",
       "      <td>S4E</td>\n",
       "      <td>X</td>\n",
       "    </tr>\n",
       "    <tr>\n",
       "      <th>1</th>\n",
       "      <td>S1</td>\n",
       "      <td>M</td>\n",
       "      <td>L2G</td>\n",
       "      <td>NaN</td>\n",
       "      <td>X</td>\n",
       "    </tr>\n",
       "    <tr>\n",
       "      <th>2</th>\n",
       "      <td>R2</td>\n",
       "      <td>M</td>\n",
       "      <td>L4E</td>\n",
       "      <td>S4F</td>\n",
       "      <td>X</td>\n",
       "    </tr>\n",
       "    <tr>\n",
       "      <th>3</th>\n",
       "      <td>R2</td>\n",
       "      <td>F</td>\n",
       "      <td>L4E</td>\n",
       "      <td>S4E</td>\n",
       "      <td>X</td>\n",
       "    </tr>\n",
       "    <tr>\n",
       "      <th>4</th>\n",
       "      <td>S2</td>\n",
       "      <td>F</td>\n",
       "      <td>L2F</td>\n",
       "      <td>NaN</td>\n",
       "      <td>X</td>\n",
       "    </tr>\n",
       "  </tbody>\n",
       "</table>\n",
       "</div>"
      ],
      "text/plain": [
       "  DOMAIN GENDER RFA_2 RFA_15 MDMAUD_A\n",
       "0     T2      F   L4E    S4E        X\n",
       "1     S1      M   L2G    NaN        X\n",
       "2     R2      M   L4E    S4F        X\n",
       "3     R2      F   L4E    S4E        X\n",
       "4     S2      F   L2F    NaN        X"
      ]
     },
     "execution_count": 17,
     "metadata": {},
     "output_type": "execute_result"
    }
   ],
   "source": [
    "data = data.replace(' ', np.nan)\n",
    "data.head()"
   ]
  },
  {
   "cell_type": "code",
   "execution_count": 18,
   "id": "a5adede8",
   "metadata": {
    "execution": {
     "iopub.execute_input": "2022-12-08T11:45:06.358054Z",
     "iopub.status.busy": "2022-12-08T11:45:06.357652Z",
     "iopub.status.idle": "2022-12-08T11:45:06.393617Z",
     "shell.execute_reply": "2022-12-08T11:45:06.392339Z"
    },
    "papermill": {
     "duration": 0.180363,
     "end_time": "2022-12-08T11:45:06.396411",
     "exception": false,
     "start_time": "2022-12-08T11:45:06.216048",
     "status": "completed"
    },
    "tags": []
   },
   "outputs": [
    {
     "data": {
      "text/plain": [
       "DOMAIN      16\n",
       "GENDER       6\n",
       "RFA_2       14\n",
       "RFA_15      33\n",
       "MDMAUD_A     5\n",
       "dtype: int64"
      ]
     },
     "execution_count": 18,
     "metadata": {},
     "output_type": "execute_result"
    }
   ],
   "source": [
    "data.nunique()"
   ]
  },
  {
   "cell_type": "markdown",
   "id": "df9df3b2",
   "metadata": {
    "papermill": {
     "duration": 0.084698,
     "end_time": "2022-12-08T11:45:06.567944",
     "exception": false,
     "start_time": "2022-12-08T11:45:06.483246",
     "status": "completed"
    },
    "tags": []
   },
   "source": [
    "The `nunique()` method ignores missing values by default. If we want to\n",
    "consider missing values as an additional category, we should set the\n",
    "`dropna` argument to `False: data.nunique(dropna=False)`."
   ]
  },
  {
   "cell_type": "code",
   "execution_count": 19,
   "id": "9b15f00b",
   "metadata": {
    "execution": {
     "iopub.execute_input": "2022-12-08T11:45:06.742554Z",
     "iopub.status.busy": "2022-12-08T11:45:06.742083Z",
     "iopub.status.idle": "2022-12-08T11:45:06.754124Z",
     "shell.execute_reply": "2022-12-08T11:45:06.752876Z"
    },
    "papermill": {
     "duration": 0.102852,
     "end_time": "2022-12-08T11:45:06.756859",
     "exception": false,
     "start_time": "2022-12-08T11:45:06.654007",
     "status": "completed"
    },
    "tags": []
   },
   "outputs": [
    {
     "data": {
      "text/plain": [
       "array(['F', 'M', nan, 'C', 'U', 'J', 'A'], dtype=object)"
      ]
     },
     "execution_count": 19,
     "metadata": {},
     "output_type": "execute_result"
    }
   ],
   "source": [
    "data['GENDER'].unique()"
   ]
  },
  {
   "cell_type": "code",
   "execution_count": 20,
   "id": "ea25b0b5",
   "metadata": {
    "execution": {
     "iopub.execute_input": "2022-12-08T11:45:06.930253Z",
     "iopub.status.busy": "2022-12-08T11:45:06.929456Z",
     "iopub.status.idle": "2022-12-08T11:45:07.192438Z",
     "shell.execute_reply": "2022-12-08T11:45:07.191269Z"
    },
    "papermill": {
     "duration": 0.351644,
     "end_time": "2022-12-08T11:45:07.195107",
     "exception": false,
     "start_time": "2022-12-08T11:45:06.843463",
     "status": "completed"
    },
    "tags": []
   },
   "outputs": [
    {
     "data": {
      "text/plain": [
       "Text(0.5, 1.0, 'Cardinality')"
      ]
     },
     "execution_count": 20,
     "metadata": {},
     "output_type": "execute_result"
    },
    {
     "data": {
      "image/png": "[encoded data removed]",
      "text/plain": [
       "<Figure size 864x432 with 1 Axes>"
      ]
     },
     "metadata": {
      "needs_background": "light"
     },
     "output_type": "display_data"
    }
   ],
   "source": [
    "data.nunique().plot.bar(figsize=(12,6))\n",
    "plt.ylabel('Number of unique categories')\n",
    "plt.xlabel('Variables')\n",
    "plt.title('Cardinality')"
   ]
  },
  {
   "cell_type": "markdown",
   "id": "fb29729b",
   "metadata": {
    "papermill": {
     "duration": 0.084304,
     "end_time": "2022-12-08T11:45:07.364304",
     "exception": false,
     "start_time": "2022-12-08T11:45:07.280000",
     "status": "completed"
    },
    "tags": []
   },
   "source": [
    "**How it works...**\n",
    "\n",
    "In this recipe, we quantified and plotted the cardinality of the categorical variables of a publicly available dataset.\n",
    "\n",
    "To load the categorical columns from the dataset, we captured the variable names in a list. Next, we used pandas `read_csv()` to load the data from a txt file onto a dataframe and passed the list with variable names to the `usecols argument`.\n",
    "\n",
    "Many variables from the KDD-CUP-98 dataset contained empty strings which are, in\n",
    "essence, missing values. Thus, we replaced the empty strings with the NumPy\n",
    "representation of missing values, `np.nan`, by utilizing the pandas `replace()` method.\n",
    "With the `head()` method, we displayed the top five rows of the dataframe.\n",
    "\n",
    "To quantify cardinality, we used the `nunique()` method from pandas, which finds and\n",
    "then counts the number of distinct values per variable. Next, we used the `unique()`\n",
    "method to output the distinct categories in the `GENDER` variable.\n",
    "\n",
    "To plot the variable cardinality, we used pandas `nunique()`, followed by pandas\n",
    "`plot.bar()`, to make a bar plot with the variable cardinality, and added axis labels and a figure title by utilizing the Matplotlib `xlabel()`, `ylabel()`, and `title()` methods."
   ]
  },
  {
   "cell_type": "code",
   "execution_count": 21,
   "id": "9a0955f7",
   "metadata": {
    "execution": {
     "iopub.execute_input": "2022-12-08T11:45:07.536831Z",
     "iopub.status.busy": "2022-12-08T11:45:07.536387Z",
     "iopub.status.idle": "2022-12-08T11:45:07.581303Z",
     "shell.execute_reply": "2022-12-08T11:45:07.580542Z"
    },
    "papermill": {
     "duration": 0.134207,
     "end_time": "2022-12-08T11:45:07.583560",
     "exception": false,
     "start_time": "2022-12-08T11:45:07.449353",
     "status": "completed"
    },
    "tags": []
   },
   "outputs": [
    {
     "data": {
      "text/plain": [
       "RFA_2       14\n",
       "MDMAUD_A     5\n",
       "RFA_2       14\n",
       "dtype: int64"
      ]
     },
     "execution_count": 21,
     "metadata": {},
     "output_type": "execute_result"
    }
   ],
   "source": [
    "data[['RFA_2', 'MDMAUD_A', 'RFA_2']].nunique()"
   ]
  },
  {
   "cell_type": "markdown",
   "id": "d6398e0e",
   "metadata": {
    "papermill": {
     "duration": 0.087369,
     "end_time": "2022-12-08T11:45:07.757556",
     "exception": false,
     "start_time": "2022-12-08T11:45:07.670187",
     "status": "completed"
    },
    "tags": []
   },
   "source": [
    "# 1.4. Pinpointing rare categories in categorical variables"
   ]
  },
  {
   "cell_type": "code",
   "execution_count": 22,
   "id": "43ccab06",
   "metadata": {
    "execution": {
     "iopub.execute_input": "2022-12-08T11:45:07.929294Z",
     "iopub.status.busy": "2022-12-08T11:45:07.928548Z",
     "iopub.status.idle": "2022-12-08T11:45:07.932997Z",
     "shell.execute_reply": "2022-12-08T11:45:07.932029Z"
    },
    "papermill": {
     "duration": 0.09286,
     "end_time": "2022-12-08T11:45:07.935261",
     "exception": false,
     "start_time": "2022-12-08T11:45:07.842401",
     "status": "completed"
    },
    "tags": []
   },
   "outputs": [],
   "source": [
    "import pandas as pd\n",
    "import matplotlib.pyplot as plt"
   ]
  },
  {
   "cell_type": "code",
   "execution_count": 23,
   "id": "5a8c3f23",
   "metadata": {
    "execution": {
     "iopub.execute_input": "2022-12-08T11:45:08.111279Z",
     "iopub.status.busy": "2022-12-08T11:45:08.110570Z",
     "iopub.status.idle": "2022-12-08T11:45:08.145004Z",
     "shell.execute_reply": "2022-12-08T11:45:08.143826Z"
    },
    "papermill": {
     "duration": 0.126309,
     "end_time": "2022-12-08T11:45:08.147573",
     "exception": false,
     "start_time": "2022-12-08T11:45:08.021264",
     "status": "completed"
    },
    "tags": []
   },
   "outputs": [
    {
     "data": {
      "text/html": [
       "<div>\n",
       "<style scoped>\n",
       "    .dataframe tbody tr th:only-of-type {\n",
       "        vertical-align: middle;\n",
       "    }\n",
       "\n",
       "    .dataframe tbody tr th {\n",
       "        vertical-align: top;\n",
       "    }\n",
       "\n",
       "    .dataframe thead th {\n",
       "        text-align: right;\n",
       "    }\n",
       "</style>\n",
       "<table border=\"1\" class=\"dataframe\">\n",
       "  <thead>\n",
       "    <tr style=\"text-align: right;\">\n",
       "      <th></th>\n",
       "      <th>buying</th>\n",
       "      <th>maint</th>\n",
       "      <th>doors</th>\n",
       "      <th>persons</th>\n",
       "      <th>lug_boot</th>\n",
       "      <th>safety</th>\n",
       "      <th>class</th>\n",
       "    </tr>\n",
       "  </thead>\n",
       "  <tbody>\n",
       "    <tr>\n",
       "      <th>0</th>\n",
       "      <td>vhigh</td>\n",
       "      <td>vhigh</td>\n",
       "      <td>2</td>\n",
       "      <td>2</td>\n",
       "      <td>small</td>\n",
       "      <td>low</td>\n",
       "      <td>unacc</td>\n",
       "    </tr>\n",
       "    <tr>\n",
       "      <th>1</th>\n",
       "      <td>vhigh</td>\n",
       "      <td>vhigh</td>\n",
       "      <td>2</td>\n",
       "      <td>2</td>\n",
       "      <td>small</td>\n",
       "      <td>med</td>\n",
       "      <td>unacc</td>\n",
       "    </tr>\n",
       "    <tr>\n",
       "      <th>2</th>\n",
       "      <td>vhigh</td>\n",
       "      <td>vhigh</td>\n",
       "      <td>2</td>\n",
       "      <td>2</td>\n",
       "      <td>small</td>\n",
       "      <td>high</td>\n",
       "      <td>unacc</td>\n",
       "    </tr>\n",
       "    <tr>\n",
       "      <th>3</th>\n",
       "      <td>vhigh</td>\n",
       "      <td>vhigh</td>\n",
       "      <td>2</td>\n",
       "      <td>2</td>\n",
       "      <td>med</td>\n",
       "      <td>low</td>\n",
       "      <td>unacc</td>\n",
       "    </tr>\n",
       "    <tr>\n",
       "      <th>4</th>\n",
       "      <td>vhigh</td>\n",
       "      <td>vhigh</td>\n",
       "      <td>2</td>\n",
       "      <td>2</td>\n",
       "      <td>med</td>\n",
       "      <td>med</td>\n",
       "      <td>unacc</td>\n",
       "    </tr>\n",
       "  </tbody>\n",
       "</table>\n",
       "</div>"
      ],
      "text/plain": [
       "  buying  maint doors persons lug_boot safety  class\n",
       "0  vhigh  vhigh     2       2    small    low  unacc\n",
       "1  vhigh  vhigh     2       2    small    med  unacc\n",
       "2  vhigh  vhigh     2       2    small   high  unacc\n",
       "3  vhigh  vhigh     2       2      med    low  unacc\n",
       "4  vhigh  vhigh     2       2      med    med  unacc"
      ]
     },
     "execution_count": 23,
     "metadata": {},
     "output_type": "execute_result"
    }
   ],
   "source": [
    "data = pd.read_csv('/kaggle/input/car-data/car.data', header=None)\n",
    "data.columns = ['buying', 'maint', 'doors', 'persons', 'lug_boot',\n",
    "'safety', 'class']\n",
    "data.head()"
   ]
  },
  {
   "cell_type": "code",
   "execution_count": 24,
   "id": "91ba969c",
   "metadata": {
    "execution": {
     "iopub.execute_input": "2022-12-08T11:45:08.323669Z",
     "iopub.status.busy": "2022-12-08T11:45:08.323004Z",
     "iopub.status.idle": "2022-12-08T11:45:08.330399Z",
     "shell.execute_reply": "2022-12-08T11:45:08.329443Z"
    },
    "papermill": {
     "duration": 0.096967,
     "end_time": "2022-12-08T11:45:08.332563",
     "exception": false,
     "start_time": "2022-12-08T11:45:08.235596",
     "status": "completed"
    },
    "tags": []
   },
   "outputs": [
    {
     "data": {
      "text/plain": [
       "array(['unacc', 'acc', 'vgood', 'good'], dtype=object)"
      ]
     },
     "execution_count": 24,
     "metadata": {},
     "output_type": "execute_result"
    }
   ],
   "source": [
    "data['class'].unique()"
   ]
  },
  {
   "cell_type": "code",
   "execution_count": 25,
   "id": "dbad1910",
   "metadata": {
    "execution": {
     "iopub.execute_input": "2022-12-08T11:45:08.506587Z",
     "iopub.status.busy": "2022-12-08T11:45:08.505944Z",
     "iopub.status.idle": "2022-12-08T11:45:08.514362Z",
     "shell.execute_reply": "2022-12-08T11:45:08.512764Z"
    },
    "papermill": {
     "duration": 0.100317,
     "end_time": "2022-12-08T11:45:08.517650",
     "exception": false,
     "start_time": "2022-12-08T11:45:08.417333",
     "status": "completed"
    },
    "tags": []
   },
   "outputs": [
    {
     "name": "stdout",
     "output_type": "stream",
     "text": [
      "unacc    0.700231\n",
      "acc      0.222222\n",
      "good     0.039931\n",
      "vgood    0.037616\n",
      "Name: class, dtype: float64\n"
     ]
    }
   ],
   "source": [
    "label_freq = data['class'].value_counts() / len(data)\n",
    "print(label_freq)"
   ]
  },
  {
   "cell_type": "code",
   "execution_count": 26,
   "id": "ed1a8337",
   "metadata": {
    "execution": {
     "iopub.execute_input": "2022-12-08T11:45:08.694548Z",
     "iopub.status.busy": "2022-12-08T11:45:08.694104Z",
     "iopub.status.idle": "2022-12-08T11:45:09.027585Z",
     "shell.execute_reply": "2022-12-08T11:45:09.026720Z"
    },
    "papermill": {
     "duration": 0.424866,
     "end_time": "2022-12-08T11:45:09.029889",
     "exception": false,
     "start_time": "2022-12-08T11:45:08.605023",
     "status": "completed"
    },
    "tags": []
   },
   "outputs": [
    {
     "data": {
      "image/png": "[encoded data removed]",
      "text/plain": [
       "<Figure size 432x288 with 1 Axes>"
      ]
     },
     "metadata": {
      "needs_background": "light"
     },
     "output_type": "display_data"
    }
   ],
   "source": [
    "fig = label_freq.sort_values(ascending=False).plot.bar()\n",
    "fig.axhline(y=0.05, color='red')\n",
    "fig.set_ylabel('percentage of cars within each category')\n",
    "fig.set_xlabel('Variable: class')\n",
    "fig.set_title('Identifying Rare Categories')\n",
    "plt.show()"
   ]
  },
  {
   "cell_type": "markdown",
   "id": "f3145811",
   "metadata": {
    "papermill": {
     "duration": 0.104522,
     "end_time": "2022-12-08T11:45:09.232600",
     "exception": false,
     "start_time": "2022-12-08T11:45:09.128078",
     "status": "completed"
    },
    "tags": []
   },
   "source": [
    "**How it works...**\n",
    "\n",
    "In this recipe, we quantified and plotted the percentage of observations per category, thatis, the category frequency in a categorical variable of a publicly available dataset.\n",
    "\n",
    "To load the data, we used pandas `read_csv()` and set the header argument to None, since\n",
    "the column names were not part of the raw data. Next, we added the column names\n",
    "manually by passing the variable names as a list to the `columns` attribute of the dataframe.\n",
    "\n",
    "To determine the frequency of each category in the `class` variable, we counted the number of cars per category using pandas `value_counts()` and divided the result by the total cars in the dataset, which is determined with the Python built-in len method. Python's `len` method counted the number of rows in the dataframe. We captured the returned percentage of cars per category, expressed as decimals, in the `label_freq` variable.\n",
    "\n",
    "To make a plot of the category frequency, we sorted the categories in `label_freq` from\n",
    "that of most cars to that of the fewest cars using the pandas `sort_values()` method. Next, we used `plot.bar()` to produce a bar plot. With `axhline()`, from Matplotlib, we added a horizontal red line at the height of 0.05 to indicate the 5% percentage limit, under which we considered a category as rare. We added x and y labels and a title with `plt.xlabel()`,`plt.ylabel()`, and `plt.title()` from Matplotlib."
   ]
  },
  {
   "cell_type": "markdown",
   "id": "3aa21af6",
   "metadata": {
    "papermill": {
     "duration": 0.085651,
     "end_time": "2022-12-08T11:45:09.406103",
     "exception": false,
     "start_time": "2022-12-08T11:45:09.320452",
     "status": "completed"
    },
    "tags": []
   },
   "source": [
    "# 1.5. Identifying a linear relationship"
   ]
  },
  {
   "cell_type": "markdown",
   "id": "838f88ce",
   "metadata": {
    "papermill": {
     "duration": 0.09113,
     "end_time": "2022-12-08T11:45:09.583908",
     "exception": false,
     "start_time": "2022-12-08T11:45:09.492778",
     "status": "completed"
    },
    "tags": []
   },
   "source": [
    "Linear models assume that the independent variables, X, take a linear relationship with the dependent variable, Y.\n",
    "\n",
    "Here, X specifies the independent variables and β are the coefficients that indicate a unit change in Y per unit change in X. Failure to meet this assumption may result in poor model performance.\n",
    "\n",
    "Linear relationships can be evaluated by scatter plots and residual plots. Scatter plots\n",
    "output the relationship of the independent variable X and the target Y. Residuals are the difference between the linear estimation of Y using X and the real target:\n",
    "\n",
    "error = target - predictions"
   ]
  },
  {
   "cell_type": "code",
   "execution_count": 27,
   "id": "68399b3a",
   "metadata": {
    "execution": {
     "iopub.execute_input": "2022-12-08T11:45:09.830206Z",
     "iopub.status.busy": "2022-12-08T11:45:09.829574Z",
     "iopub.status.idle": "2022-12-08T11:45:11.198867Z",
     "shell.execute_reply": "2022-12-08T11:45:11.197560Z"
    },
    "papermill": {
     "duration": 1.527025,
     "end_time": "2022-12-08T11:45:11.201674",
     "exception": false,
     "start_time": "2022-12-08T11:45:09.674649",
     "status": "completed"
    },
    "tags": []
   },
   "outputs": [],
   "source": [
    "import pandas as pd\n",
    "import numpy as np\n",
    "import matplotlib.pyplot as plt\n",
    "import seaborn as sns\n",
    "from sklearn.linear_model import LinearRegression"
   ]
  },
  {
   "cell_type": "code",
   "execution_count": 28,
   "id": "f0e395f0",
   "metadata": {
    "execution": {
     "iopub.execute_input": "2022-12-08T11:45:11.383529Z",
     "iopub.status.busy": "2022-12-08T11:45:11.382368Z",
     "iopub.status.idle": "2022-12-08T11:45:11.388356Z",
     "shell.execute_reply": "2022-12-08T11:45:11.387306Z"
    },
    "papermill": {
     "duration": 0.097088,
     "end_time": "2022-12-08T11:45:11.390800",
     "exception": false,
     "start_time": "2022-12-08T11:45:11.293712",
     "status": "completed"
    },
    "tags": []
   },
   "outputs": [],
   "source": [
    "np.random.seed(29)\n",
    "x = np.random.randn(200)"
   ]
  },
  {
   "cell_type": "code",
   "execution_count": 29,
   "id": "1df5041a",
   "metadata": {
    "execution": {
     "iopub.execute_input": "2022-12-08T11:45:11.574841Z",
     "iopub.status.busy": "2022-12-08T11:45:11.573863Z",
     "iopub.status.idle": "2022-12-08T11:45:11.579781Z",
     "shell.execute_reply": "2022-12-08T11:45:11.578603Z"
    },
    "papermill": {
     "duration": 0.100338,
     "end_time": "2022-12-08T11:45:11.582263",
     "exception": false,
     "start_time": "2022-12-08T11:45:11.481925",
     "status": "completed"
    },
    "tags": []
   },
   "outputs": [],
   "source": [
    "y = x * 10 + np.random.randn(200) * 2"
   ]
  },
  {
   "cell_type": "code",
   "execution_count": 30,
   "id": "36e9604d",
   "metadata": {
    "execution": {
     "iopub.execute_input": "2022-12-08T11:45:11.760498Z",
     "iopub.status.busy": "2022-12-08T11:45:11.760089Z",
     "iopub.status.idle": "2022-12-08T11:45:11.774628Z",
     "shell.execute_reply": "2022-12-08T11:45:11.773690Z"
    },
    "papermill": {
     "duration": 0.108964,
     "end_time": "2022-12-08T11:45:11.777314",
     "exception": false,
     "start_time": "2022-12-08T11:45:11.668350",
     "status": "completed"
    },
    "tags": []
   },
   "outputs": [],
   "source": [
    "data = pd.DataFrame([x, y]).T\n",
    "data.columns = ['x', 'y']"
   ]
  },
  {
   "cell_type": "code",
   "execution_count": 31,
   "id": "d4d87d7b",
   "metadata": {
    "execution": {
     "iopub.execute_input": "2022-12-08T11:45:11.954061Z",
     "iopub.status.busy": "2022-12-08T11:45:11.953688Z",
     "iopub.status.idle": "2022-12-08T11:45:12.423137Z",
     "shell.execute_reply": "2022-12-08T11:45:12.421891Z"
    },
    "papermill": {
     "duration": 0.558993,
     "end_time": "2022-12-08T11:45:12.425504",
     "exception": false,
     "start_time": "2022-12-08T11:45:11.866511",
     "status": "completed"
    },
    "tags": []
   },
   "outputs": [
    {
     "data": {
      "text/plain": [
       "Text(0.5, 20.80000000000002, 'Independent variable')"
      ]
     },
     "execution_count": 31,
     "metadata": {},
     "output_type": "execute_result"
    },
    {
     "data": {
      "image/png": "[encoded data removed]",
      "text/plain": [
       "<Figure size 360x360 with 1 Axes>"
      ]
     },
     "metadata": {
      "needs_background": "light"
     },
     "output_type": "display_data"
    }
   ],
   "source": [
    "sns.lmplot(x=\"x\", y=\"y\", data=data, order=1)\n",
    "plt.ylabel('Target')\n",
    "plt.xlabel('Independent variable')"
   ]
  },
  {
   "cell_type": "code",
   "execution_count": 32,
   "id": "4fe05574",
   "metadata": {
    "execution": {
     "iopub.execute_input": "2022-12-08T11:45:12.612126Z",
     "iopub.status.busy": "2022-12-08T11:45:12.611705Z",
     "iopub.status.idle": "2022-12-08T11:45:12.637580Z",
     "shell.execute_reply": "2022-12-08T11:45:12.636488Z"
    },
    "papermill": {
     "duration": 0.119179,
     "end_time": "2022-12-08T11:45:12.640099",
     "exception": false,
     "start_time": "2022-12-08T11:45:12.520920",
     "status": "completed"
    },
    "tags": []
   },
   "outputs": [
    {
     "data": {
      "text/plain": [
       "LinearRegression()"
      ]
     },
     "execution_count": 32,
     "metadata": {},
     "output_type": "execute_result"
    }
   ],
   "source": [
    "linreg = LinearRegression()\n",
    "linreg.fit(data['x'].to_frame(), data['y'])"
   ]
  },
  {
   "cell_type": "code",
   "execution_count": 33,
   "id": "ba469634",
   "metadata": {
    "execution": {
     "iopub.execute_input": "2022-12-08T11:45:12.817444Z",
     "iopub.status.busy": "2022-12-08T11:45:12.817056Z",
     "iopub.status.idle": "2022-12-08T11:45:12.824607Z",
     "shell.execute_reply": "2022-12-08T11:45:12.823373Z"
    },
    "papermill": {
     "duration": 0.099107,
     "end_time": "2022-12-08T11:45:12.826986",
     "exception": false,
     "start_time": "2022-12-08T11:45:12.727879",
     "status": "completed"
    },
    "tags": []
   },
   "outputs": [],
   "source": [
    "predictions = linreg.predict(data['x'].to_frame())"
   ]
  },
  {
   "cell_type": "code",
   "execution_count": 34,
   "id": "196f9279",
   "metadata": {
    "execution": {
     "iopub.execute_input": "2022-12-08T11:45:13.012723Z",
     "iopub.status.busy": "2022-12-08T11:45:13.011563Z",
     "iopub.status.idle": "2022-12-08T11:45:13.016922Z",
     "shell.execute_reply": "2022-12-08T11:45:13.016129Z"
    },
    "papermill": {
     "duration": 0.096636,
     "end_time": "2022-12-08T11:45:13.019738",
     "exception": false,
     "start_time": "2022-12-08T11:45:12.923102",
     "status": "completed"
    },
    "tags": []
   },
   "outputs": [],
   "source": [
    "residuals = data['y'] - predictions"
   ]
  },
  {
   "cell_type": "code",
   "execution_count": 35,
   "id": "14c9e208",
   "metadata": {
    "execution": {
     "iopub.execute_input": "2022-12-08T11:45:13.205520Z",
     "iopub.status.busy": "2022-12-08T11:45:13.204467Z",
     "iopub.status.idle": "2022-12-08T11:45:13.364559Z",
     "shell.execute_reply": "2022-12-08T11:45:13.363358Z"
    },
    "papermill": {
     "duration": 0.254233,
     "end_time": "2022-12-08T11:45:13.367093",
     "exception": false,
     "start_time": "2022-12-08T11:45:13.112860",
     "status": "completed"
    },
    "tags": []
   },
   "outputs": [
    {
     "data": {
      "text/plain": [
       "Text(0.5, 0, 'Independent variable x')"
      ]
     },
     "execution_count": 35,
     "metadata": {},
     "output_type": "execute_result"
    },
    {
     "data": {
      "image/png": "[encoded data removed]",
      "text/plain": [
       "<Figure size 432x288 with 1 Axes>"
      ]
     },
     "metadata": {
      "needs_background": "light"
     },
     "output_type": "display_data"
    }
   ],
   "source": [
    "plt.scatter(y=residuals, x=data['x'])\n",
    "plt.ylabel('Residuals')\n",
    "plt.xlabel('Independent variable x')"
   ]
  },
  {
   "cell_type": "code",
   "execution_count": 36,
   "id": "cc45f280",
   "metadata": {
    "execution": {
     "iopub.execute_input": "2022-12-08T11:45:13.548017Z",
     "iopub.status.busy": "2022-12-08T11:45:13.547581Z",
     "iopub.status.idle": "2022-12-08T11:45:13.847781Z",
     "shell.execute_reply": "2022-12-08T11:45:13.846542Z"
    },
    "papermill": {
     "duration": 0.394334,
     "end_time": "2022-12-08T11:45:13.850750",
     "exception": false,
     "start_time": "2022-12-08T11:45:13.456416",
     "status": "completed"
    },
    "tags": []
   },
   "outputs": [
    {
     "name": "stderr",
     "output_type": "stream",
     "text": [
      "/opt/conda/lib/python3.7/site-packages/seaborn/distributions.py:2619: FutureWarning: `distplot` is a deprecated function and will be removed in a future version. Please adapt your code to use either `displot` (a figure-level function with similar flexibility) or `histplot` (an axes-level function for histograms).\n",
      "  warnings.warn(msg, FutureWarning)\n"
     ]
    },
    {
     "data": {
      "text/plain": [
       "Text(0.5, 0, 'Residuals')"
      ]
     },
     "execution_count": 36,
     "metadata": {},
     "output_type": "execute_result"
    },
    {
     "data": {
      "image/png": "[encoded data removed]",
      "text/plain": [
       "<Figure size 432x288 with 1 Axes>"
      ]
     },
     "metadata": {
      "needs_background": "light"
     },
     "output_type": "display_data"
    }
   ],
   "source": [
    "sns.distplot(residuals, bins=30)\n",
    "plt.xlabel('Residuals')"
   ]
  },
  {
   "cell_type": "markdown",
   "id": "93806418",
   "metadata": {
    "papermill": {
     "duration": 0.08959,
     "end_time": "2022-12-08T11:45:14.031919",
     "exception": false,
     "start_time": "2022-12-08T11:45:13.942329",
     "status": "completed"
    },
    "tags": []
   },
   "source": [
    "**How it works...**\n",
    "\n",
    "In this recipe, we identified a linear relationship between an independent and a dependent variable using scatter and residual plots. To proceed with this recipe, we created a toy dataframe with an independent variable x that is normally distributed and linearly related to a dependent variable y. Next, we created a scatter plot between x and y, built a linear regression model between x and y, and obtained the predictions. Finally, we calculated the residuals and plotted the residuals versus the variable and the residuals histogram.\n",
    "\n",
    "To generate the toy dataframe, we created an independent variable x that is normally\n",
    "distributed using NumPy's `random.randn()`, which extracts values at random from a\n",
    "normal distribution. Then, we created the dependent variable y by multiplying x 10 times\n",
    "and added random noise using NumPy's `random.randn()`. After, we captured x and y in\n",
    "a pandas dataframe using the pandas `DataFrame()` method and transposed it using the\n",
    "`T` method to return a 200 row x 2 column dataframe. We added the column names by\n",
    "passing them in a list to the `columns` dataframe attribute.\n",
    "\n",
    "To create the scatter plot between x and y, we used the seaborn `lmplot()` method, which\n",
    "allows us to plot the data and fit and display a linear model on top of it. We specified the independent variable by setting `x='x'`, the dependent variable by setting `y='y'`, and the dataset by setting `data=data`. We created a model of order 1 that is a linear model, by setting the `order` argument to 1.\n",
    "\n",
    "Next, we created a linear regression model between x and y using the\n",
    "`LinearRegression()` class from scikit-learn. We instantiated the model into a variable\n",
    "called `linreg` and then fitted the model with the `fit()` method with x and y as\n",
    "arguments. Because `data['x']` was a pandas Series, we converted it into a dataframe with the `to_frame()` method. Next, we obtained the predictions of the linear model with the `predict()` method.\n",
    "\n",
    "To make the residual plots, we calculated the residuals by subtracting the predictions from y. We evaluated the distribution of the residuals using seaborn's `distplot()`. Finally, we plotted the residuals against the values of x using Matplotlib `scatter()` and added the axis labels by utilizing Matplotlib's `xlabel()` and `ylabel()` methods."
   ]
  },
  {
   "cell_type": "markdown",
   "id": "2cbca26a",
   "metadata": {
    "papermill": {
     "duration": 0.094269,
     "end_time": "2022-12-08T11:45:14.218958",
     "exception": false,
     "start_time": "2022-12-08T11:45:14.124689",
     "status": "completed"
    },
    "tags": []
   },
   "source": [
    "# 1.6. Identifying a normal distribution"
   ]
  },
  {
   "cell_type": "markdown",
   "id": "fdd40d5a",
   "metadata": {
    "papermill": {
     "duration": 0.093331,
     "end_time": "2022-12-08T11:45:14.405910",
     "exception": false,
     "start_time": "2022-12-08T11:45:14.312579",
     "status": "completed"
    },
    "tags": []
   },
   "source": [
    "Linear models assume that the independent variables are normally distributed."
   ]
  },
  {
   "cell_type": "code",
   "execution_count": 37,
   "id": "66114d4e",
   "metadata": {
    "execution": {
     "iopub.execute_input": "2022-12-08T11:45:14.588415Z",
     "iopub.status.busy": "2022-12-08T11:45:14.587712Z",
     "iopub.status.idle": "2022-12-08T11:45:14.593537Z",
     "shell.execute_reply": "2022-12-08T11:45:14.591934Z"
    },
    "papermill": {
     "duration": 0.099762,
     "end_time": "2022-12-08T11:45:14.596119",
     "exception": false,
     "start_time": "2022-12-08T11:45:14.496357",
     "status": "completed"
    },
    "tags": []
   },
   "outputs": [],
   "source": [
    "import pandas as pd\n",
    "import numpy as np\n",
    "import matplotlib.pyplot as ply\n",
    "import seaborn as sns\n",
    "import scipy.stats as stats"
   ]
  },
  {
   "cell_type": "code",
   "execution_count": 38,
   "id": "fc1f5605",
   "metadata": {
    "execution": {
     "iopub.execute_input": "2022-12-08T11:45:14.780981Z",
     "iopub.status.busy": "2022-12-08T11:45:14.779644Z",
     "iopub.status.idle": "2022-12-08T11:45:14.786352Z",
     "shell.execute_reply": "2022-12-08T11:45:14.785360Z"
    },
    "papermill": {
     "duration": 0.103453,
     "end_time": "2022-12-08T11:45:14.789251",
     "exception": false,
     "start_time": "2022-12-08T11:45:14.685798",
     "status": "completed"
    },
    "tags": []
   },
   "outputs": [],
   "source": [
    "np.random.seed(29)\n",
    "x = np.random.randn(200)"
   ]
  },
  {
   "cell_type": "code",
   "execution_count": 39,
   "id": "1c9cc142",
   "metadata": {
    "execution": {
     "iopub.execute_input": "2022-12-08T11:45:14.985484Z",
     "iopub.status.busy": "2022-12-08T11:45:14.985078Z",
     "iopub.status.idle": "2022-12-08T11:45:14.999272Z",
     "shell.execute_reply": "2022-12-08T11:45:14.997717Z"
    },
    "papermill": {
     "duration": 0.112988,
     "end_time": "2022-12-08T11:45:15.002094",
     "exception": false,
     "start_time": "2022-12-08T11:45:14.889106",
     "status": "completed"
    },
    "tags": []
   },
   "outputs": [],
   "source": [
    "data = pd.DataFrame([x]).T\n",
    "data.columns = ['x']"
   ]
  },
  {
   "cell_type": "code",
   "execution_count": 40,
   "id": "9a5e600d",
   "metadata": {
    "execution": {
     "iopub.execute_input": "2022-12-08T11:45:15.190590Z",
     "iopub.status.busy": "2022-12-08T11:45:15.190130Z",
     "iopub.status.idle": "2022-12-08T11:45:15.481428Z",
     "shell.execute_reply": "2022-12-08T11:45:15.480153Z"
    },
    "papermill": {
     "duration": 0.38841,
     "end_time": "2022-12-08T11:45:15.484132",
     "exception": false,
     "start_time": "2022-12-08T11:45:15.095722",
     "status": "completed"
    },
    "tags": []
   },
   "outputs": [
    {
     "name": "stderr",
     "output_type": "stream",
     "text": [
      "/opt/conda/lib/python3.7/site-packages/seaborn/distributions.py:2619: FutureWarning: `distplot` is a deprecated function and will be removed in a future version. Please adapt your code to use either `displot` (a figure-level function with similar flexibility) or `histplot` (an axes-level function for histograms).\n",
      "  warnings.warn(msg, FutureWarning)\n"
     ]
    },
    {
     "data": {
      "text/plain": [
       "<AxesSubplot:xlabel='x', ylabel='Density'>"
      ]
     },
     "execution_count": 40,
     "metadata": {},
     "output_type": "execute_result"
    },
    {
     "data": {
      "image/png": "[encoded data removed]",
      "text/plain": [
       "<Figure size 432x288 with 1 Axes>"
      ]
     },
     "metadata": {
      "needs_background": "light"
     },
     "output_type": "display_data"
    }
   ],
   "source": [
    "sns.distplot(data['x'], bins=30)"
   ]
  },
  {
   "cell_type": "code",
   "execution_count": 41,
   "id": "5dba0544",
   "metadata": {
    "execution": {
     "iopub.execute_input": "2022-12-08T11:45:15.672550Z",
     "iopub.status.busy": "2022-12-08T11:45:15.672087Z",
     "iopub.status.idle": "2022-12-08T11:45:15.972763Z",
     "shell.execute_reply": "2022-12-08T11:45:15.971204Z"
    },
    "papermill": {
     "duration": 0.397611,
     "end_time": "2022-12-08T11:45:15.975493",
     "exception": false,
     "start_time": "2022-12-08T11:45:15.577882",
     "status": "completed"
    },
    "tags": []
   },
   "outputs": [
    {
     "data": {
      "text/plain": [
       "<AxesSubplot:>"
      ]
     },
     "execution_count": 41,
     "metadata": {},
     "output_type": "execute_result"
    },
    {
     "data": {
      "image/png": "[encoded data removed]",
      "text/plain": [
       "<Figure size 432x288 with 1 Axes>"
      ]
     },
     "metadata": {
      "needs_background": "light"
     },
     "output_type": "display_data"
    }
   ],
   "source": [
    "data['x'].hist(bins=30)"
   ]
  },
  {
   "cell_type": "code",
   "execution_count": 42,
   "id": "a6d059fb",
   "metadata": {
    "execution": {
     "iopub.execute_input": "2022-12-08T11:45:16.166499Z",
     "iopub.status.busy": "2022-12-08T11:45:16.166045Z",
     "iopub.status.idle": "2022-12-08T11:45:16.385582Z",
     "shell.execute_reply": "2022-12-08T11:45:16.384164Z"
    },
    "papermill": {
     "duration": 0.322401,
     "end_time": "2022-12-08T11:45:16.388392",
     "exception": false,
     "start_time": "2022-12-08T11:45:16.065991",
     "status": "completed"
    },
    "tags": []
   },
   "outputs": [
    {
     "data": {
      "image/png": "[encoded data removed]",
      "text/plain": [
       "<Figure size 432x288 with 1 Axes>"
      ]
     },
     "metadata": {
      "needs_background": "light"
     },
     "output_type": "display_data"
    }
   ],
   "source": [
    "stats.probplot(data['x'], dist=\"norm\", plot=plt)\n",
    "plt.show()"
   ]
  },
  {
   "cell_type": "markdown",
   "id": "146ff5f9",
   "metadata": {
    "papermill": {
     "duration": 0.095621,
     "end_time": "2022-12-08T11:45:16.579980",
     "exception": false,
     "start_time": "2022-12-08T11:45:16.484359",
     "status": "completed"
    },
    "tags": []
   },
   "source": [
    "Since the variable is normally distributed, its values follow the theoretical quantiles and thus lie along the 45-degree diagonal."
   ]
  },
  {
   "cell_type": "markdown",
   "id": "adbc6ad1",
   "metadata": {
    "papermill": {
     "duration": 0.09169,
     "end_time": "2022-12-08T11:45:16.762544",
     "exception": false,
     "start_time": "2022-12-08T11:45:16.670854",
     "status": "completed"
    },
    "tags": []
   },
   "source": [
    "**How it works...**\n",
    "\n",
    "In this recipe, we determined whether a variable is normally distributed with a histogram and a Q-Q plot. To do so, we created a toy dataframe with a single independent variable, x, that is normally distributed, and then created a histogram and a Q-Q plot.\n",
    "\n",
    "For the toy dataframe, we created a normally distributed variable, x, using the NumPy\n",
    "`random.randn()` method, which extracted 200 random values from a normal distribution.\n",
    "Next, we captured x in a dataframe using the pandas `DataFrame()` method and\n",
    "transposed it using the T method to return a 200 row x 1 column dataframe. Finally, we\n",
    "added the column name as a list to the dataframe's columns attribute.\n",
    "\n",
    "To display the variable distribution as a histogram and density plot, we used\n",
    "seaborn's `distplot()` method. By setting the `bins` argument to 30, we created 30\n",
    "contiguous intervals for the histogram. To create the Q-Q plot, we used\n",
    "`stats.probplot()` from SciPy, which generated a plot of the quantiles for our x variable in the y-axis versus the quantiles of a theoretical normal distribution, which we indicated by setting the `dist` argument to norm, in the x-axis. We used Matplotlib to display the `plot` by setting the plot argument to `plt`. Since x was normally distributed, its quantiles followed the quantiles of the theoretical distribution, so that the dots of the variable values fell along the 45-degree line."
   ]
  },
  {
   "cell_type": "markdown",
   "id": "4fcacb4e",
   "metadata": {
    "papermill": {
     "duration": 0.088976,
     "end_time": "2022-12-08T11:45:16.941256",
     "exception": false,
     "start_time": "2022-12-08T11:45:16.852280",
     "status": "completed"
    },
    "tags": []
   },
   "source": [
    "# 1.7. Distinguishing variable distribution"
   ]
  },
  {
   "cell_type": "markdown",
   "id": "14ebde77",
   "metadata": {
    "papermill": {
     "duration": 0.092654,
     "end_time": "2022-12-08T11:45:17.124938",
     "exception": false,
     "start_time": "2022-12-08T11:45:17.032284",
     "status": "completed"
    },
    "tags": []
   },
   "source": [
    "A probability distribution is a function that describes the likelihood of obtaining the\n",
    "possible values of a variable. There are many well-described variable distributions, such as the normal, binomial, or Poisson distributions."
   ]
  },
  {
   "cell_type": "code",
   "execution_count": 43,
   "id": "41cb5a46",
   "metadata": {
    "execution": {
     "iopub.execute_input": "2022-12-08T11:45:17.318533Z",
     "iopub.status.busy": "2022-12-08T11:45:17.318082Z",
     "iopub.status.idle": "2022-12-08T11:45:17.324008Z",
     "shell.execute_reply": "2022-12-08T11:45:17.322368Z"
    },
    "papermill": {
     "duration": 0.106869,
     "end_time": "2022-12-08T11:45:17.326500",
     "exception": false,
     "start_time": "2022-12-08T11:45:17.219631",
     "status": "completed"
    },
    "tags": []
   },
   "outputs": [],
   "source": [
    "import pandas as pd\n",
    "import matplotlib.pyplot as plt"
   ]
  },
  {
   "cell_type": "code",
   "execution_count": 44,
   "id": "abfa6a99",
   "metadata": {
    "execution": {
     "iopub.execute_input": "2022-12-08T11:45:17.572256Z",
     "iopub.status.busy": "2022-12-08T11:45:17.571828Z",
     "iopub.status.idle": "2022-12-08T11:45:17.663175Z",
     "shell.execute_reply": "2022-12-08T11:45:17.661601Z"
    },
    "papermill": {
     "duration": 0.187153,
     "end_time": "2022-12-08T11:45:17.666352",
     "exception": false,
     "start_time": "2022-12-08T11:45:17.479199",
     "status": "completed"
    },
    "tags": []
   },
   "outputs": [
    {
     "name": "stderr",
     "output_type": "stream",
     "text": [
      "/opt/conda/lib/python3.7/site-packages/sklearn/utils/deprecation.py:87: FutureWarning: Function load_boston is deprecated; `load_boston` is deprecated in 1.0 and will be removed in 1.2.\n",
      "\n",
      "    The Boston housing prices dataset has an ethical problem. You can refer to\n",
      "    the documentation of this function for further details.\n",
      "\n",
      "    The scikit-learn maintainers therefore strongly discourage the use of this\n",
      "    dataset unless the purpose of the code is to study and educate about\n",
      "    ethical issues in data science and machine learning.\n",
      "\n",
      "    In this special case, you can fetch the dataset from the original\n",
      "    source::\n",
      "\n",
      "        import pandas as pd\n",
      "        import numpy as np\n",
      "\n",
      "\n",
      "        data_url = \"http://lib.stat.cmu.edu/datasets/boston\"\n",
      "        raw_df = pd.read_csv(data_url, sep=\"\\s+\", skiprows=22, header=None)\n",
      "        data = np.hstack([raw_df.values[::2, :], raw_df.values[1::2, :2]])\n",
      "        target = raw_df.values[1::2, 2]\n",
      "\n",
      "    Alternative datasets include the California housing dataset (i.e.\n",
      "    :func:`~sklearn.datasets.fetch_california_housing`) and the Ames housing\n",
      "    dataset. You can load the datasets as follows::\n",
      "\n",
      "        from sklearn.datasets import fetch_california_housing\n",
      "        housing = fetch_california_housing()\n",
      "\n",
      "    for the California housing dataset and::\n",
      "\n",
      "        from sklearn.datasets import fetch_openml\n",
      "        housing = fetch_openml(name=\"house_prices\", as_frame=True)\n",
      "\n",
      "    for the Ames housing dataset.\n",
      "    \n",
      "  warnings.warn(msg, category=FutureWarning)\n"
     ]
    }
   ],
   "source": [
    "from sklearn.datasets import load_boston\n",
    "boston_dataset = load_boston()\n",
    "boston = pd.DataFrame(boston_dataset.data,\n",
    "                     columns=boston_dataset.feature_names)"
   ]
  },
  {
   "cell_type": "code",
   "execution_count": 45,
   "id": "b108c224",
   "metadata": {
    "execution": {
     "iopub.execute_input": "2022-12-08T11:45:17.851074Z",
     "iopub.status.busy": "2022-12-08T11:45:17.850693Z",
     "iopub.status.idle": "2022-12-08T11:45:20.025753Z",
     "shell.execute_reply": "2022-12-08T11:45:20.024665Z"
    },
    "papermill": {
     "duration": 2.270931,
     "end_time": "2022-12-08T11:45:20.028363",
     "exception": false,
     "start_time": "2022-12-08T11:45:17.757432",
     "status": "completed"
    },
    "tags": []
   },
   "outputs": [
    {
     "data": {
      "image/png": "[encoded data removed]",
      "text/plain": [
       "<Figure size 864x864 with 16 Axes>"
      ]
     },
     "metadata": {
      "needs_background": "light"
     },
     "output_type": "display_data"
    }
   ],
   "source": [
    "boston.hist(bins=30, figsize=(12, 12), density=True)\n",
    "plt.show()"
   ]
  },
  {
   "cell_type": "markdown",
   "id": "ca092d7a",
   "metadata": {
    "papermill": {
     "duration": 0.10115,
     "end_time": "2022-12-08T11:45:20.239604",
     "exception": false,
     "start_time": "2022-12-08T11:45:20.138454",
     "status": "completed"
    },
    "tags": []
   },
   "source": [
    "Most of the numerical variables in the dataset are skewed."
   ]
  },
  {
   "cell_type": "markdown",
   "id": "af7bb158",
   "metadata": {
    "papermill": {
     "duration": 0.090757,
     "end_time": "2022-12-08T11:45:20.421330",
     "exception": false,
     "start_time": "2022-12-08T11:45:20.330573",
     "status": "completed"
    },
    "tags": []
   },
   "source": [
    "**How it works...**\n",
    "\n",
    "In this recipe, we used pandas `hist()` to plot the distribution of all the numerical variables in the Boston House Prices dataset from scikit-learn. To load the data, we imported the dataset from scikit-learn `datasets` and then used `load_boston()` to load the data. Next, we captured the data into a dataframe using pandas `DataFrame()`, indicating that the data is stored in the `data` attribute and the variable names in the `feature_names` attribute.\n",
    "\n",
    "To display the histograms of all the numerical variables, we used pandas `hist()`, which\n",
    "calls `matplotlib.pyplot.hist()` on each variable in the dataframe, resulting in one\n",
    "histogram per variable. We indicated the number of intervals for the histograms using\n",
    "the bins argument, adjusted the figure size with `figsize`, and normalized the histogram\n",
    "by setting `density` to `True`. If the histogram is normalized, the sum of the area under the curve is 1."
   ]
  },
  {
   "cell_type": "markdown",
   "id": "f27ab713",
   "metadata": {
    "papermill": {
     "duration": 0.091371,
     "end_time": "2022-12-08T11:45:20.604604",
     "exception": false,
     "start_time": "2022-12-08T11:45:20.513233",
     "status": "completed"
    },
    "tags": []
   },
   "source": [
    "# 1.8. Highlighting outliers"
   ]
  },
  {
   "cell_type": "markdown",
   "id": "c1e1e03b",
   "metadata": {
    "papermill": {
     "duration": 0.091369,
     "end_time": "2022-12-08T11:45:20.787253",
     "exception": false,
     "start_time": "2022-12-08T11:45:20.695884",
     "status": "completed"
    },
    "tags": []
   },
   "source": [
    "An outlier is a data point that is significantly different from the remaining data."
   ]
  },
  {
   "cell_type": "markdown",
   "id": "84db67eb",
   "metadata": {
    "papermill": {
     "duration": 0.09148,
     "end_time": "2022-12-08T11:45:20.973017",
     "exception": false,
     "start_time": "2022-12-08T11:45:20.881537",
     "status": "completed"
    },
    "tags": []
   },
   "source": [
    "> \"An outlier is an observation which deviates so much from the other observations as to\n",
    "arouse suspicions that it was generated by a different mechanism.\" [D. Hawkins.\n",
    "Identification of Outliers, Chapman and Hall, 1980.]"
   ]
  },
  {
   "cell_type": "code",
   "execution_count": 46,
   "id": "fca3ac1b",
   "metadata": {
    "execution": {
     "iopub.execute_input": "2022-12-08T11:45:21.158745Z",
     "iopub.status.busy": "2022-12-08T11:45:21.158293Z",
     "iopub.status.idle": "2022-12-08T11:45:21.163753Z",
     "shell.execute_reply": "2022-12-08T11:45:21.162553Z"
    },
    "papermill": {
     "duration": 0.100698,
     "end_time": "2022-12-08T11:45:21.166855",
     "exception": false,
     "start_time": "2022-12-08T11:45:21.066157",
     "status": "completed"
    },
    "tags": []
   },
   "outputs": [],
   "source": [
    "import pandas as pd\n",
    "import numpy as np\n",
    "import matplotlib.pyplot as plt\n",
    "import seaborn as sns\n",
    "from sklearn.datasets import load_boston"
   ]
  },
  {
   "cell_type": "code",
   "execution_count": 47,
   "id": "2c893e68",
   "metadata": {
    "execution": {
     "iopub.execute_input": "2022-12-08T11:45:21.353245Z",
     "iopub.status.busy": "2022-12-08T11:45:21.352855Z",
     "iopub.status.idle": "2022-12-08T11:45:21.364933Z",
     "shell.execute_reply": "2022-12-08T11:45:21.363814Z"
    },
    "papermill": {
     "duration": 0.108516,
     "end_time": "2022-12-08T11:45:21.367349",
     "exception": false,
     "start_time": "2022-12-08T11:45:21.258833",
     "status": "completed"
    },
    "tags": []
   },
   "outputs": [],
   "source": [
    "boston_dataset = load_boston()\n",
    "boston = pd.DataFrame(boston_dataset.data,\n",
    "                     columns=boston_dataset.feature_names)[['RM', 'LSTAT','CRIM']]"
   ]
  },
  {
   "cell_type": "code",
   "execution_count": 48,
   "id": "7195db66",
   "metadata": {
    "execution": {
     "iopub.execute_input": "2022-12-08T11:45:21.553144Z",
     "iopub.status.busy": "2022-12-08T11:45:21.552443Z",
     "iopub.status.idle": "2022-12-08T11:45:21.733968Z",
     "shell.execute_reply": "2022-12-08T11:45:21.732754Z"
    },
    "papermill": {
     "duration": 0.275883,
     "end_time": "2022-12-08T11:45:21.736312",
     "exception": false,
     "start_time": "2022-12-08T11:45:21.460429",
     "status": "completed"
    },
    "tags": []
   },
   "outputs": [
    {
     "data": {
      "text/plain": [
       "Text(0.5, 1.0, 'Boxplot')"
      ]
     },
     "execution_count": 48,
     "metadata": {},
     "output_type": "execute_result"
    },
    {
     "data": {
      "image/png": "[encoded data removed]",
      "text/plain": [
       "<Figure size 432x288 with 1 Axes>"
      ]
     },
     "metadata": {
      "needs_background": "light"
     },
     "output_type": "display_data"
    }
   ],
   "source": [
    "sns.boxplot(y=boston['RM'])\n",
    "plt.title('Boxplot')"
   ]
  },
  {
   "cell_type": "code",
   "execution_count": 49,
   "id": "5d40a064",
   "metadata": {
    "execution": {
     "iopub.execute_input": "2022-12-08T11:45:21.920560Z",
     "iopub.status.busy": "2022-12-08T11:45:21.919724Z",
     "iopub.status.idle": "2022-12-08T11:45:22.101317Z",
     "shell.execute_reply": "2022-12-08T11:45:22.100488Z"
    },
    "papermill": {
     "duration": 0.275872,
     "end_time": "2022-12-08T11:45:22.103743",
     "exception": false,
     "start_time": "2022-12-08T11:45:21.827871",
     "status": "completed"
    },
    "tags": []
   },
   "outputs": [
    {
     "data": {
      "text/plain": [
       "Text(0.5, 1.0, 'Boxplot')"
      ]
     },
     "execution_count": 49,
     "metadata": {},
     "output_type": "execute_result"
    },
    {
     "data": {
      "image/png": "[encoded data removed]",
      "text/plain": [
       "<Figure size 216x432 with 1 Axes>"
      ]
     },
     "metadata": {
      "needs_background": "light"
     },
     "output_type": "display_data"
    }
   ],
   "source": [
    "plt.figure(figsize=(3,6))\n",
    "sns.boxplot(y=boston['RM'])\n",
    "plt.title('Boxplot')"
   ]
  },
  {
   "cell_type": "code",
   "execution_count": 50,
   "id": "6b59379e",
   "metadata": {
    "execution": {
     "iopub.execute_input": "2022-12-08T11:45:22.285699Z",
     "iopub.status.busy": "2022-12-08T11:45:22.285259Z",
     "iopub.status.idle": "2022-12-08T11:45:22.292165Z",
     "shell.execute_reply": "2022-12-08T11:45:22.290862Z"
    },
    "papermill": {
     "duration": 0.100502,
     "end_time": "2022-12-08T11:45:22.294649",
     "exception": false,
     "start_time": "2022-12-08T11:45:22.194147",
     "status": "completed"
    },
    "tags": []
   },
   "outputs": [],
   "source": [
    "def find_boundaries(df, variable, distance):\n",
    "    \n",
    "    IQR = df[variable].quantile(0.75) - df[variable].quantile(0.25)\n",
    "    \n",
    "    lower_boundary = df[variable].quantile(0.25) - (IQR * distance)\n",
    "    upper_boundary = df[variable].quantile(0.75) + (IQR * distance)\n",
    "    \n",
    "    return upper_boundary, lower_boundary"
   ]
  },
  {
   "cell_type": "code",
   "execution_count": 51,
   "id": "e6b679c3",
   "metadata": {
    "execution": {
     "iopub.execute_input": "2022-12-08T11:45:22.478729Z",
     "iopub.status.busy": "2022-12-08T11:45:22.477536Z",
     "iopub.status.idle": "2022-12-08T11:45:22.489051Z",
     "shell.execute_reply": "2022-12-08T11:45:22.487960Z"
    },
    "papermill": {
     "duration": 0.105312,
     "end_time": "2022-12-08T11:45:22.491226",
     "exception": false,
     "start_time": "2022-12-08T11:45:22.385914",
     "status": "completed"
    },
    "tags": []
   },
   "outputs": [
    {
     "data": {
      "text/plain": [
       "(7.730500000000001, 4.778499999999999)"
      ]
     },
     "execution_count": 51,
     "metadata": {},
     "output_type": "execute_result"
    }
   ],
   "source": [
    "upper_boundary, lower_boundary = find_boundaries(boston, 'RM', 1.5)\n",
    "upper_boundary, lower_boundary"
   ]
  },
  {
   "cell_type": "code",
   "execution_count": 52,
   "id": "40e73ad6",
   "metadata": {
    "execution": {
     "iopub.execute_input": "2022-12-08T11:45:22.673526Z",
     "iopub.status.busy": "2022-12-08T11:45:22.672523Z",
     "iopub.status.idle": "2022-12-08T11:45:22.679043Z",
     "shell.execute_reply": "2022-12-08T11:45:22.677744Z"
    },
    "papermill": {
     "duration": 0.100258,
     "end_time": "2022-12-08T11:45:22.681344",
     "exception": false,
     "start_time": "2022-12-08T11:45:22.581086",
     "status": "completed"
    },
    "tags": []
   },
   "outputs": [],
   "source": [
    "outliers = np.where(boston['RM'] > upper_boundary, True,\n",
    "                   np.where(boston['RM'] < lower_boundary, True, False))"
   ]
  },
  {
   "cell_type": "code",
   "execution_count": 53,
   "id": "0c82c3be",
   "metadata": {
    "execution": {
     "iopub.execute_input": "2022-12-08T11:45:22.865386Z",
     "iopub.status.busy": "2022-12-08T11:45:22.864983Z",
     "iopub.status.idle": "2022-12-08T11:45:22.874022Z",
     "shell.execute_reply": "2022-12-08T11:45:22.872871Z"
    },
    "papermill": {
     "duration": 0.10442,
     "end_time": "2022-12-08T11:45:22.876676",
     "exception": false,
     "start_time": "2022-12-08T11:45:22.772256",
     "status": "completed"
    },
    "tags": []
   },
   "outputs": [
    {
     "data": {
      "text/plain": [
       "97     8.069\n",
       "98     7.820\n",
       "162    7.802\n",
       "163    8.375\n",
       "166    7.929\n",
       "Name: RM, dtype: float64"
      ]
     },
     "execution_count": 53,
     "metadata": {},
     "output_type": "execute_result"
    }
   ],
   "source": [
    "outliers_df = boston.loc[outliers, 'RM']\n",
    "outliers_df.head()"
   ]
  },
  {
   "cell_type": "code",
   "execution_count": 54,
   "id": "a08f6fd6",
   "metadata": {
    "execution": {
     "iopub.execute_input": "2022-12-08T11:45:23.060089Z",
     "iopub.status.busy": "2022-12-08T11:45:23.059622Z",
     "iopub.status.idle": "2022-12-08T11:45:23.069858Z",
     "shell.execute_reply": "2022-12-08T11:45:23.068846Z"
    },
    "papermill": {
     "duration": 0.104225,
     "end_time": "2022-12-08T11:45:23.072124",
     "exception": false,
     "start_time": "2022-12-08T11:45:22.967899",
     "status": "completed"
    },
    "tags": []
   },
   "outputs": [
    {
     "data": {
      "text/plain": [
       "0      6.575\n",
       "1      6.421\n",
       "2      7.185\n",
       "3      6.998\n",
       "4      7.147\n",
       "       ...  \n",
       "501    6.593\n",
       "502    6.120\n",
       "503    6.976\n",
       "504    6.794\n",
       "505    6.030\n",
       "Name: RM, Length: 476, dtype: float64"
      ]
     },
     "execution_count": 54,
     "metadata": {},
     "output_type": "execute_result"
    }
   ],
   "source": [
    "boston.loc[~outliers, 'RM']"
   ]
  },
  {
   "cell_type": "markdown",
   "id": "6c6696f6",
   "metadata": {
    "papermill": {
     "duration": 0.090666,
     "end_time": "2022-12-08T11:45:23.255234",
     "exception": false,
     "start_time": "2022-12-08T11:45:23.164568",
     "status": "completed"
    },
    "tags": []
   },
   "source": [
    "**How it works...**\n",
    "\n",
    "In this recipe, we identified outliers in the numerical variables of the Boston House Prices dataset from scikit-learn using boxplots and the IQR proximity rule. To proceed with this recipe, we loaded the dataset from scikit-learn and created a boxplot for one of its numerical variables as an example. Next, we created a function to identify the boundaries using the IQR proximity rule and used the function to determine the boundaries of the numerical RM variable. Finally, we identified the values of RM that were higher or lower than those boundaries, that is, the outliers.\n",
    "\n",
    "To load the data, we imported the dataset from `sklearn.datasets` and used\n",
    "`load_boston()`. Next, we captured the data in a dataframe using pandas `DataFrame()`,\n",
    "indicating that the data was stored in the data attribute and that the variable names were stored in the `feature_names` attribute. To retain only the `RM, LSTAT,` and `CRIM `variables, we passed the column names in double brackets `[[]]` at the back of pandas `DataFrame()`.\n",
    "\n",
    "To display the boxplot, we used seaborn's `boxplot()` method and passed the pandas\n",
    "Series with the RM variable as an argument. In the boxplot displayed after step 3, the IQR is delimited by the rectangle, and the upper and lower boundaries corresponding to either, the 75th quantile plus 1.5 times the IQR, or the 25th quantile minus 1.5 times the IQR. This is indicated by the whiskers. The outliers are the asterisks lying outside the whiskers.\n",
    "\n",
    "To identify those outliers in our dataframe, in step 4, we created a function to find the boundaries according to the IQR proximity rule. The function took the dataframe and the variable as arguments and calculated the IQR and the boundaries using the formula\n",
    "described in the Getting ready section of this recipe. With the pandas `quantile()` method, we calculated the values for the 25th (0.25) and 75th quantiles (0.75). The function returned the upper and lower boundaries for the RM variable.\n",
    "\n",
    "To find the outliers of RM, we used NumPy's `where()` method, which produced a boolean\n",
    "vector with `True` if the value was an outlier. Briefly, `where()` scanned the rows of the RM variable, and if the value was bigger than the upper boundary, it assigned True, whereas if the value was smaller, the second `where()` nested inside the first one and checked whether the value was smaller than the lower boundary, in which case it also assigned True, otherwise False. Finally, we used the `loc[]` method from pandas to capture only those values in the RM variable that were outliers in a new dataframe."
   ]
  },
  {
   "cell_type": "markdown",
   "id": "b9fc8c1f",
   "metadata": {
    "papermill": {
     "duration": 0.090563,
     "end_time": "2022-12-08T11:45:23.436887",
     "exception": false,
     "start_time": "2022-12-08T11:45:23.346324",
     "status": "completed"
    },
    "tags": []
   },
   "source": [
    "# 1.9. Comparing feature magnitude"
   ]
  },
  {
   "cell_type": "markdown",
   "id": "cee1214e",
   "metadata": {
    "papermill": {
     "duration": 0.14733,
     "end_time": "2022-12-08T11:45:23.677794",
     "exception": false,
     "start_time": "2022-12-08T11:45:23.530464",
     "status": "completed"
    },
    "tags": []
   },
   "source": [
    "Many machine learning algorithms are sensitive to the scale of the features. In this recipe, we will explore and compare feature magnitude by looking at statistical parameters such as the mean, median, standard deviation, and maximum and minimum values by leveraging the power of pandas."
   ]
  },
  {
   "cell_type": "code",
   "execution_count": 55,
   "id": "9ae2490f",
   "metadata": {
    "execution": {
     "iopub.execute_input": "2022-12-08T11:45:23.865887Z",
     "iopub.status.busy": "2022-12-08T11:45:23.865487Z",
     "iopub.status.idle": "2022-12-08T11:45:23.870356Z",
     "shell.execute_reply": "2022-12-08T11:45:23.869099Z"
    },
    "papermill": {
     "duration": 0.101,
     "end_time": "2022-12-08T11:45:23.872868",
     "exception": false,
     "start_time": "2022-12-08T11:45:23.771868",
     "status": "completed"
    },
    "tags": []
   },
   "outputs": [],
   "source": [
    "import pandas as pd\n",
    "from sklearn.datasets import load_boston"
   ]
  },
  {
   "cell_type": "code",
   "execution_count": 56,
   "id": "a1a3cd4b",
   "metadata": {
    "execution": {
     "iopub.execute_input": "2022-12-08T11:45:24.057330Z",
     "iopub.status.busy": "2022-12-08T11:45:24.056107Z",
     "iopub.status.idle": "2022-12-08T11:45:24.067195Z",
     "shell.execute_reply": "2022-12-08T11:45:24.065801Z"
    },
    "papermill": {
     "duration": 0.10662,
     "end_time": "2022-12-08T11:45:24.070307",
     "exception": false,
     "start_time": "2022-12-08T11:45:23.963687",
     "status": "completed"
    },
    "tags": []
   },
   "outputs": [
    {
     "name": "stderr",
     "output_type": "stream",
     "text": [
      "/opt/conda/lib/python3.7/site-packages/sklearn/utils/deprecation.py:87: FutureWarning: Function load_boston is deprecated; `load_boston` is deprecated in 1.0 and will be removed in 1.2.\n",
      "\n",
      "    The Boston housing prices dataset has an ethical problem. You can refer to\n",
      "    the documentation of this function for further details.\n",
      "\n",
      "    The scikit-learn maintainers therefore strongly discourage the use of this\n",
      "    dataset unless the purpose of the code is to study and educate about\n",
      "    ethical issues in data science and machine learning.\n",
      "\n",
      "    In this special case, you can fetch the dataset from the original\n",
      "    source::\n",
      "\n",
      "        import pandas as pd\n",
      "        import numpy as np\n",
      "\n",
      "\n",
      "        data_url = \"http://lib.stat.cmu.edu/datasets/boston\"\n",
      "        raw_df = pd.read_csv(data_url, sep=\"\\s+\", skiprows=22, header=None)\n",
      "        data = np.hstack([raw_df.values[::2, :], raw_df.values[1::2, :2]])\n",
      "        target = raw_df.values[1::2, 2]\n",
      "\n",
      "    Alternative datasets include the California housing dataset (i.e.\n",
      "    :func:`~sklearn.datasets.fetch_california_housing`) and the Ames housing\n",
      "    dataset. You can load the datasets as follows::\n",
      "\n",
      "        from sklearn.datasets import fetch_california_housing\n",
      "        housing = fetch_california_housing()\n",
      "\n",
      "    for the California housing dataset and::\n",
      "\n",
      "        from sklearn.datasets import fetch_openml\n",
      "        housing = fetch_openml(name=\"house_prices\", as_frame=True)\n",
      "\n",
      "    for the Ames housing dataset.\n",
      "    \n",
      "  warnings.warn(msg, category=FutureWarning)\n"
     ]
    }
   ],
   "source": [
    "boston_dataset = load_boston()\n",
    "data = pd.DataFrame(boston_dataset.data,\n",
    "                   columns=boston_dataset.feature_names)"
   ]
  },
  {
   "cell_type": "code",
   "execution_count": 57,
   "id": "0f9be2b0",
   "metadata": {
    "execution": {
     "iopub.execute_input": "2022-12-08T11:45:24.255449Z",
     "iopub.status.busy": "2022-12-08T11:45:24.255018Z",
     "iopub.status.idle": "2022-12-08T11:45:24.307178Z",
     "shell.execute_reply": "2022-12-08T11:45:24.306369Z"
    },
    "papermill": {
     "duration": 0.146665,
     "end_time": "2022-12-08T11:45:24.309454",
     "exception": false,
     "start_time": "2022-12-08T11:45:24.162789",
     "status": "completed"
    },
    "tags": []
   },
   "outputs": [
    {
     "data": {
      "text/html": [
       "<div>\n",
       "<style scoped>\n",
       "    .dataframe tbody tr th:only-of-type {\n",
       "        vertical-align: middle;\n",
       "    }\n",
       "\n",
       "    .dataframe tbody tr th {\n",
       "        vertical-align: top;\n",
       "    }\n",
       "\n",
       "    .dataframe thead th {\n",
       "        text-align: right;\n",
       "    }\n",
       "</style>\n",
       "<table border=\"1\" class=\"dataframe\">\n",
       "  <thead>\n",
       "    <tr style=\"text-align: right;\">\n",
       "      <th></th>\n",
       "      <th>CRIM</th>\n",
       "      <th>ZN</th>\n",
       "      <th>INDUS</th>\n",
       "      <th>CHAS</th>\n",
       "      <th>NOX</th>\n",
       "      <th>RM</th>\n",
       "      <th>AGE</th>\n",
       "      <th>DIS</th>\n",
       "      <th>RAD</th>\n",
       "      <th>TAX</th>\n",
       "      <th>PTRATIO</th>\n",
       "      <th>B</th>\n",
       "      <th>LSTAT</th>\n",
       "    </tr>\n",
       "  </thead>\n",
       "  <tbody>\n",
       "    <tr>\n",
       "      <th>count</th>\n",
       "      <td>506.000000</td>\n",
       "      <td>506.000000</td>\n",
       "      <td>506.000000</td>\n",
       "      <td>506.000000</td>\n",
       "      <td>506.000000</td>\n",
       "      <td>506.000000</td>\n",
       "      <td>506.000000</td>\n",
       "      <td>506.000000</td>\n",
       "      <td>506.000000</td>\n",
       "      <td>506.000000</td>\n",
       "      <td>506.000000</td>\n",
       "      <td>506.000000</td>\n",
       "      <td>506.000000</td>\n",
       "    </tr>\n",
       "    <tr>\n",
       "      <th>mean</th>\n",
       "      <td>3.613524</td>\n",
       "      <td>11.363636</td>\n",
       "      <td>11.136779</td>\n",
       "      <td>0.069170</td>\n",
       "      <td>0.554695</td>\n",
       "      <td>6.284634</td>\n",
       "      <td>68.574901</td>\n",
       "      <td>3.795043</td>\n",
       "      <td>9.549407</td>\n",
       "      <td>408.237154</td>\n",
       "      <td>18.455534</td>\n",
       "      <td>356.674032</td>\n",
       "      <td>12.653063</td>\n",
       "    </tr>\n",
       "    <tr>\n",
       "      <th>std</th>\n",
       "      <td>8.601545</td>\n",
       "      <td>23.322453</td>\n",
       "      <td>6.860353</td>\n",
       "      <td>0.253994</td>\n",
       "      <td>0.115878</td>\n",
       "      <td>0.702617</td>\n",
       "      <td>28.148861</td>\n",
       "      <td>2.105710</td>\n",
       "      <td>8.707259</td>\n",
       "      <td>168.537116</td>\n",
       "      <td>2.164946</td>\n",
       "      <td>91.294864</td>\n",
       "      <td>7.141062</td>\n",
       "    </tr>\n",
       "    <tr>\n",
       "      <th>min</th>\n",
       "      <td>0.006320</td>\n",
       "      <td>0.000000</td>\n",
       "      <td>0.460000</td>\n",
       "      <td>0.000000</td>\n",
       "      <td>0.385000</td>\n",
       "      <td>3.561000</td>\n",
       "      <td>2.900000</td>\n",
       "      <td>1.129600</td>\n",
       "      <td>1.000000</td>\n",
       "      <td>187.000000</td>\n",
       "      <td>12.600000</td>\n",
       "      <td>0.320000</td>\n",
       "      <td>1.730000</td>\n",
       "    </tr>\n",
       "    <tr>\n",
       "      <th>25%</th>\n",
       "      <td>0.082045</td>\n",
       "      <td>0.000000</td>\n",
       "      <td>5.190000</td>\n",
       "      <td>0.000000</td>\n",
       "      <td>0.449000</td>\n",
       "      <td>5.885500</td>\n",
       "      <td>45.025000</td>\n",
       "      <td>2.100175</td>\n",
       "      <td>4.000000</td>\n",
       "      <td>279.000000</td>\n",
       "      <td>17.400000</td>\n",
       "      <td>375.377500</td>\n",
       "      <td>6.950000</td>\n",
       "    </tr>\n",
       "    <tr>\n",
       "      <th>50%</th>\n",
       "      <td>0.256510</td>\n",
       "      <td>0.000000</td>\n",
       "      <td>9.690000</td>\n",
       "      <td>0.000000</td>\n",
       "      <td>0.538000</td>\n",
       "      <td>6.208500</td>\n",
       "      <td>77.500000</td>\n",
       "      <td>3.207450</td>\n",
       "      <td>5.000000</td>\n",
       "      <td>330.000000</td>\n",
       "      <td>19.050000</td>\n",
       "      <td>391.440000</td>\n",
       "      <td>11.360000</td>\n",
       "    </tr>\n",
       "    <tr>\n",
       "      <th>75%</th>\n",
       "      <td>3.677083</td>\n",
       "      <td>12.500000</td>\n",
       "      <td>18.100000</td>\n",
       "      <td>0.000000</td>\n",
       "      <td>0.624000</td>\n",
       "      <td>6.623500</td>\n",
       "      <td>94.075000</td>\n",
       "      <td>5.188425</td>\n",
       "      <td>24.000000</td>\n",
       "      <td>666.000000</td>\n",
       "      <td>20.200000</td>\n",
       "      <td>396.225000</td>\n",
       "      <td>16.955000</td>\n",
       "    </tr>\n",
       "    <tr>\n",
       "      <th>max</th>\n",
       "      <td>88.976200</td>\n",
       "      <td>100.000000</td>\n",
       "      <td>27.740000</td>\n",
       "      <td>1.000000</td>\n",
       "      <td>0.871000</td>\n",
       "      <td>8.780000</td>\n",
       "      <td>100.000000</td>\n",
       "      <td>12.126500</td>\n",
       "      <td>24.000000</td>\n",
       "      <td>711.000000</td>\n",
       "      <td>22.000000</td>\n",
       "      <td>396.900000</td>\n",
       "      <td>37.970000</td>\n",
       "    </tr>\n",
       "  </tbody>\n",
       "</table>\n",
       "</div>"
      ],
      "text/plain": [
       "             CRIM          ZN       INDUS        CHAS         NOX          RM  \\\n",
       "count  506.000000  506.000000  506.000000  506.000000  506.000000  506.000000   \n",
       "mean     3.613524   11.363636   11.136779    0.069170    0.554695    6.284634   \n",
       "std      8.601545   23.322453    6.860353    0.253994    0.115878    0.702617   \n",
       "min      0.006320    0.000000    0.460000    0.000000    0.385000    3.561000   \n",
       "25%      0.082045    0.000000    5.190000    0.000000    0.449000    5.885500   \n",
       "50%      0.256510    0.000000    9.690000    0.000000    0.538000    6.208500   \n",
       "75%      3.677083   12.500000   18.100000    0.000000    0.624000    6.623500   \n",
       "max     88.976200  100.000000   27.740000    1.000000    0.871000    8.780000   \n",
       "\n",
       "              AGE         DIS         RAD         TAX     PTRATIO           B  \\\n",
       "count  506.000000  506.000000  506.000000  506.000000  506.000000  506.000000   \n",
       "mean    68.574901    3.795043    9.549407  408.237154   18.455534  356.674032   \n",
       "std     28.148861    2.105710    8.707259  168.537116    2.164946   91.294864   \n",
       "min      2.900000    1.129600    1.000000  187.000000   12.600000    0.320000   \n",
       "25%     45.025000    2.100175    4.000000  279.000000   17.400000  375.377500   \n",
       "50%     77.500000    3.207450    5.000000  330.000000   19.050000  391.440000   \n",
       "75%     94.075000    5.188425   24.000000  666.000000   20.200000  396.225000   \n",
       "max    100.000000   12.126500   24.000000  711.000000   22.000000  396.900000   \n",
       "\n",
       "            LSTAT  \n",
       "count  506.000000  \n",
       "mean    12.653063  \n",
       "std      7.141062  \n",
       "min      1.730000  \n",
       "25%      6.950000  \n",
       "50%     11.360000  \n",
       "75%     16.955000  \n",
       "max     37.970000  "
      ]
     },
     "execution_count": 57,
     "metadata": {},
     "output_type": "execute_result"
    }
   ],
   "source": [
    "data.describe()"
   ]
  },
  {
   "cell_type": "code",
   "execution_count": 58,
   "id": "6a95ace1",
   "metadata": {
    "execution": {
     "iopub.execute_input": "2022-12-08T11:45:24.496456Z",
     "iopub.status.busy": "2022-12-08T11:45:24.496000Z",
     "iopub.status.idle": "2022-12-08T11:45:24.506311Z",
     "shell.execute_reply": "2022-12-08T11:45:24.505286Z"
    },
    "papermill": {
     "duration": 0.107113,
     "end_time": "2022-12-08T11:45:24.508676",
     "exception": false,
     "start_time": "2022-12-08T11:45:24.401563",
     "status": "completed"
    },
    "tags": []
   },
   "outputs": [
    {
     "data": {
      "text/plain": [
       "CRIM        88.96988\n",
       "ZN         100.00000\n",
       "INDUS       27.28000\n",
       "CHAS         1.00000\n",
       "NOX          0.48600\n",
       "RM           5.21900\n",
       "AGE         97.10000\n",
       "DIS         10.99690\n",
       "RAD         23.00000\n",
       "TAX        524.00000\n",
       "PTRATIO      9.40000\n",
       "B          396.58000\n",
       "LSTAT       36.24000\n",
       "dtype: float64"
      ]
     },
     "execution_count": 58,
     "metadata": {},
     "output_type": "execute_result"
    }
   ],
   "source": [
    "data.max() - data.min()"
   ]
  },
  {
   "cell_type": "markdown",
   "id": "09eec75e",
   "metadata": {
    "papermill": {
     "duration": 0.091855,
     "end_time": "2022-12-08T11:45:24.692951",
     "exception": false,
     "start_time": "2022-12-08T11:45:24.601096",
     "status": "completed"
    },
    "tags": []
   },
   "source": [
    "In this recipe, we used the `describe()` method from pandas to return the main statistical\n",
    "parameters of a distribution, namely, the mean, standard deviation, minimum and\n",
    "maximum values, 25th, 50th, and 75th quantiles, and the number of observations (count).\n",
    "\n",
    "We can also calculate these parameters individually using the pandas `mean(), count(), min(), max(), std(), and quantile()` methods.\n",
    "\n",
    "Finally, we calculated the value range by subtracting the minimum from the maximum\n",
    "value in each variable using the pandas `max()` and `min()` methods."
   ]
  },
  {
   "cell_type": "markdown",
   "id": "c8f32135",
   "metadata": {
    "papermill": {
     "duration": 0.094624,
     "end_time": "2022-12-08T11:45:24.883790",
     "exception": false,
     "start_time": "2022-12-08T11:45:24.789166",
     "status": "completed"
    },
    "tags": []
   },
   "source": [
    "# Chapter 2: Imputing Missing Data"
   ]
  },
  {
   "cell_type": "markdown",
   "id": "2fdb01ff",
   "metadata": {
    "papermill": {
     "duration": 0.092934,
     "end_time": "2022-12-08T11:45:25.069643",
     "exception": false,
     "start_time": "2022-12-08T11:45:24.976709",
     "status": "completed"
    },
    "tags": []
   },
   "source": [
    "Missing data refers to the absence of values for certain observations and is an unavoidable problem in most data sources.\n",
    "\n",
    "* Removing observations with missing data\n",
    "* Performing mean or median imputation\n",
    "* Implementing mode or frequent category imputation\n",
    "* Replacing missing values with an arbitrary number\n",
    "* Capturing missing values in a bespoke category\n",
    "* Replacing missing values with a value at the end of the distribution\n",
    "* Implementing randım sample imputation\n",
    "* Adding a missing value indicator variable\n",
    "* Performing multivariate imputation by chained equations\n",
    "* Assembling an imputation pipeline with scikit-learn\n",
    "* Assembling an imputation pipeline withe Feature-engine"
   ]
  },
  {
   "cell_type": "code",
   "execution_count": 59,
   "id": "a3d21a60",
   "metadata": {
    "execution": {
     "iopub.execute_input": "2022-12-08T11:45:25.261731Z",
     "iopub.status.busy": "2022-12-08T11:45:25.260789Z",
     "iopub.status.idle": "2022-12-08T11:45:25.266532Z",
     "shell.execute_reply": "2022-12-08T11:45:25.265677Z"
    },
    "papermill": {
     "duration": 0.105486,
     "end_time": "2022-12-08T11:45:25.268912",
     "exception": false,
     "start_time": "2022-12-08T11:45:25.163426",
     "status": "completed"
    },
    "tags": []
   },
   "outputs": [],
   "source": [
    "import random\n",
    "import pandas as pd\n",
    "import numpy as np"
   ]
  },
  {
   "cell_type": "code",
   "execution_count": 60,
   "id": "9ee36836",
   "metadata": {
    "execution": {
     "iopub.execute_input": "2022-12-08T11:45:25.457414Z",
     "iopub.status.busy": "2022-12-08T11:45:25.456679Z",
     "iopub.status.idle": "2022-12-08T11:45:25.482051Z",
     "shell.execute_reply": "2022-12-08T11:45:25.480921Z"
    },
    "papermill": {
     "duration": 0.122779,
     "end_time": "2022-12-08T11:45:25.484654",
     "exception": false,
     "start_time": "2022-12-08T11:45:25.361875",
     "status": "completed"
    },
    "tags": []
   },
   "outputs": [],
   "source": [
    "data = pd.read_csv(\"/kaggle/input/crx-uci-ml-repository/crx.data\",\n",
    "                  header=None)"
   ]
  },
  {
   "cell_type": "code",
   "execution_count": 61,
   "id": "cb114cb8",
   "metadata": {
    "execution": {
     "iopub.execute_input": "2022-12-08T11:45:25.672779Z",
     "iopub.status.busy": "2022-12-08T11:45:25.671505Z",
     "iopub.status.idle": "2022-12-08T11:45:25.677104Z",
     "shell.execute_reply": "2022-12-08T11:45:25.675896Z"
    },
    "papermill": {
     "duration": 0.102896,
     "end_time": "2022-12-08T11:45:25.679667",
     "exception": false,
     "start_time": "2022-12-08T11:45:25.576771",
     "status": "completed"
    },
    "tags": []
   },
   "outputs": [],
   "source": [
    "varnames = ['A' + str(s) for s in range(1, 17)]"
   ]
  },
  {
   "cell_type": "code",
   "execution_count": 62,
   "id": "38fe9e02",
   "metadata": {
    "execution": {
     "iopub.execute_input": "2022-12-08T11:45:25.869636Z",
     "iopub.status.busy": "2022-12-08T11:45:25.869182Z",
     "iopub.status.idle": "2022-12-08T11:45:25.875466Z",
     "shell.execute_reply": "2022-12-08T11:45:25.874037Z"
    },
    "papermill": {
     "duration": 0.104033,
     "end_time": "2022-12-08T11:45:25.878016",
     "exception": false,
     "start_time": "2022-12-08T11:45:25.773983",
     "status": "completed"
    },
    "tags": []
   },
   "outputs": [],
   "source": [
    "data.columns = varnames"
   ]
  },
  {
   "cell_type": "code",
   "execution_count": 63,
   "id": "4a7e71ae",
   "metadata": {
    "execution": {
     "iopub.execute_input": "2022-12-08T11:45:26.064562Z",
     "iopub.status.busy": "2022-12-08T11:45:26.064114Z",
     "iopub.status.idle": "2022-12-08T11:45:26.070490Z",
     "shell.execute_reply": "2022-12-08T11:45:26.069667Z"
    },
    "papermill": {
     "duration": 0.102896,
     "end_time": "2022-12-08T11:45:26.072936",
     "exception": false,
     "start_time": "2022-12-08T11:45:25.970040",
     "status": "completed"
    },
    "tags": []
   },
   "outputs": [],
   "source": [
    "data = data.replace('?', np.nan)"
   ]
  },
  {
   "cell_type": "code",
   "execution_count": 64,
   "id": "28df7e3e",
   "metadata": {
    "execution": {
     "iopub.execute_input": "2022-12-08T11:45:26.263740Z",
     "iopub.status.busy": "2022-12-08T11:45:26.262989Z",
     "iopub.status.idle": "2022-12-08T11:45:26.269849Z",
     "shell.execute_reply": "2022-12-08T11:45:26.268685Z"
    },
    "papermill": {
     "duration": 0.103386,
     "end_time": "2022-12-08T11:45:26.272544",
     "exception": false,
     "start_time": "2022-12-08T11:45:26.169158",
     "status": "completed"
    },
    "tags": []
   },
   "outputs": [],
   "source": [
    "data['A2'] = data['A2'].astype('float')\n",
    "data['A14'] = data['A14'].astype('float')"
   ]
  },
  {
   "cell_type": "code",
   "execution_count": 65,
   "id": "1aa61401",
   "metadata": {
    "execution": {
     "iopub.execute_input": "2022-12-08T11:45:26.456889Z",
     "iopub.status.busy": "2022-12-08T11:45:26.456418Z",
     "iopub.status.idle": "2022-12-08T11:45:26.463335Z",
     "shell.execute_reply": "2022-12-08T11:45:26.462076Z"
    },
    "papermill": {
     "duration": 0.102342,
     "end_time": "2022-12-08T11:45:26.465988",
     "exception": false,
     "start_time": "2022-12-08T11:45:26.363646",
     "status": "completed"
    },
    "tags": []
   },
   "outputs": [],
   "source": [
    "data['A16'] = data['A16'].map({'+':1, '-':0})"
   ]
  },
  {
   "cell_type": "code",
   "execution_count": 66,
   "id": "2d363227",
   "metadata": {
    "execution": {
     "iopub.execute_input": "2022-12-08T11:45:26.652001Z",
     "iopub.status.busy": "2022-12-08T11:45:26.651258Z",
     "iopub.status.idle": "2022-12-08T11:45:26.659895Z",
     "shell.execute_reply": "2022-12-08T11:45:26.659013Z"
    },
    "papermill": {
     "duration": 0.104348,
     "end_time": "2022-12-08T11:45:26.662733",
     "exception": false,
     "start_time": "2022-12-08T11:45:26.558385",
     "status": "completed"
    },
    "tags": []
   },
   "outputs": [],
   "source": [
    "random.seed(9001)\n",
    "values = set([random.randint(0, len(data)) for p in range(0, 100)])\n",
    "for var in ['A3', 'A8', 'A9', 'A10']:\n",
    "    data.loc[values, var] = np.nan"
   ]
  },
  {
   "cell_type": "code",
   "execution_count": 67,
   "id": "c9439185",
   "metadata": {
    "execution": {
     "iopub.execute_input": "2022-12-08T11:45:26.847437Z",
     "iopub.status.busy": "2022-12-08T11:45:26.846730Z",
     "iopub.status.idle": "2022-12-08T11:45:26.859379Z",
     "shell.execute_reply": "2022-12-08T11:45:26.858515Z"
    },
    "papermill": {
     "duration": 0.107973,
     "end_time": "2022-12-08T11:45:26.861908",
     "exception": false,
     "start_time": "2022-12-08T11:45:26.753935",
     "status": "completed"
    },
    "tags": []
   },
   "outputs": [],
   "source": [
    "data.to_csv('creditApprovalUCI.csv', index=False)"
   ]
  },
  {
   "cell_type": "markdown",
   "id": "2340d09c",
   "metadata": {
    "papermill": {
     "duration": 0.090284,
     "end_time": "2022-12-08T11:45:27.045088",
     "exception": false,
     "start_time": "2022-12-08T11:45:26.954804",
     "status": "completed"
    },
    "tags": []
   },
   "source": [
    "# 2.1. Removing observations with missing data"
   ]
  },
  {
   "cell_type": "markdown",
   "id": "02a3a70b",
   "metadata": {
    "papermill": {
     "duration": 0.091261,
     "end_time": "2022-12-08T11:45:27.227250",
     "exception": false,
     "start_time": "2022-12-08T11:45:27.135989",
     "status": "completed"
    },
    "tags": []
   },
   "source": [
    "Complete Case Analysis (CCA), also called list-wise deletion of cases, consists\n",
    "of discarding those observations where the values in any of the variables are missing."
   ]
  },
  {
   "cell_type": "code",
   "execution_count": 68,
   "id": "ec4a276b",
   "metadata": {
    "execution": {
     "iopub.execute_input": "2022-12-08T11:45:27.467971Z",
     "iopub.status.busy": "2022-12-08T11:45:27.467208Z",
     "iopub.status.idle": "2022-12-08T11:45:27.471366Z",
     "shell.execute_reply": "2022-12-08T11:45:27.470599Z"
    },
    "papermill": {
     "duration": 0.098947,
     "end_time": "2022-12-08T11:45:27.473749",
     "exception": false,
     "start_time": "2022-12-08T11:45:27.374802",
     "status": "completed"
    },
    "tags": []
   },
   "outputs": [],
   "source": [
    "import pandas as pd"
   ]
  },
  {
   "cell_type": "code",
   "execution_count": 69,
   "id": "f8952631",
   "metadata": {
    "execution": {
     "iopub.execute_input": "2022-12-08T11:45:27.661034Z",
     "iopub.status.busy": "2022-12-08T11:45:27.660080Z",
     "iopub.status.idle": "2022-12-08T11:45:27.669148Z",
     "shell.execute_reply": "2022-12-08T11:45:27.667901Z"
    },
    "papermill": {
     "duration": 0.105554,
     "end_time": "2022-12-08T11:45:27.671541",
     "exception": false,
     "start_time": "2022-12-08T11:45:27.565987",
     "status": "completed"
    },
    "tags": []
   },
   "outputs": [],
   "source": [
    "data = pd.read_csv('/kaggle/working/creditApprovalUCI.csv')"
   ]
  },
  {
   "cell_type": "code",
   "execution_count": 70,
   "id": "f8b37f64",
   "metadata": {
    "execution": {
     "iopub.execute_input": "2022-12-08T11:45:27.857248Z",
     "iopub.status.busy": "2022-12-08T11:45:27.856552Z",
     "iopub.status.idle": "2022-12-08T11:45:27.866296Z",
     "shell.execute_reply": "2022-12-08T11:45:27.865096Z"
    },
    "papermill": {
     "duration": 0.105475,
     "end_time": "2022-12-08T11:45:27.868746",
     "exception": false,
     "start_time": "2022-12-08T11:45:27.763271",
     "status": "completed"
    },
    "tags": []
   },
   "outputs": [
    {
     "data": {
      "text/plain": [
       "A11    0.000000\n",
       "A12    0.000000\n",
       "A13    0.000000\n",
       "A15    0.000000\n",
       "A16    0.000000\n",
       "A4     0.008696\n",
       "A5     0.008696\n",
       "A6     0.013043\n",
       "A7     0.013043\n",
       "A1     0.017391\n",
       "A2     0.017391\n",
       "A14    0.018841\n",
       "A3     0.133333\n",
       "A8     0.133333\n",
       "A9     0.133333\n",
       "A10    0.133333\n",
       "dtype: float64"
      ]
     },
     "execution_count": 70,
     "metadata": {},
     "output_type": "execute_result"
    }
   ],
   "source": [
    "data.isnull().mean().sort_values(ascending=True)"
   ]
  },
  {
   "cell_type": "code",
   "execution_count": 71,
   "id": "6c213007",
   "metadata": {
    "execution": {
     "iopub.execute_input": "2022-12-08T11:45:28.053143Z",
     "iopub.status.busy": "2022-12-08T11:45:28.052709Z",
     "iopub.status.idle": "2022-12-08T11:45:28.061961Z",
     "shell.execute_reply": "2022-12-08T11:45:28.060641Z"
    },
    "papermill": {
     "duration": 0.103588,
     "end_time": "2022-12-08T11:45:28.064677",
     "exception": false,
     "start_time": "2022-12-08T11:45:27.961089",
     "status": "completed"
    },
    "tags": []
   },
   "outputs": [],
   "source": [
    "data_cca = data.dropna()"
   ]
  },
  {
   "cell_type": "code",
   "execution_count": 72,
   "id": "0af65e7d",
   "metadata": {
    "execution": {
     "iopub.execute_input": "2022-12-08T11:45:28.250789Z",
     "iopub.status.busy": "2022-12-08T11:45:28.250079Z",
     "iopub.status.idle": "2022-12-08T11:45:28.255926Z",
     "shell.execute_reply": "2022-12-08T11:45:28.254506Z"
    },
    "papermill": {
     "duration": 0.101429,
     "end_time": "2022-12-08T11:45:28.258566",
     "exception": false,
     "start_time": "2022-12-08T11:45:28.157137",
     "status": "completed"
    },
    "tags": []
   },
   "outputs": [
    {
     "name": "stdout",
     "output_type": "stream",
     "text": [
      "Number of total observations: 690\n",
      "Number of observations with complete cases: 564\n"
     ]
    }
   ],
   "source": [
    "print('Number of total observations: {}'.format(len(data)))\n",
    "print('Number of observations with complete cases: {}'.format(len(data_cca)))"
   ]
  },
  {
   "cell_type": "markdown",
   "id": "9a693a90",
   "metadata": {
    "papermill": {
     "duration": 0.090275,
     "end_time": "2022-12-08T11:45:28.442933",
     "exception": false,
     "start_time": "2022-12-08T11:45:28.352658",
     "status": "completed"
    },
    "tags": []
   },
   "source": [
    "**How it works...**\n",
    "\n",
    "In this recipe, we determined the percentage of missing data for each variable in the Credit Approval Data Set and removed all observations with missing information to create a complete case dataset.\n",
    "\n",
    "First, we loaded the data from a CSV file into a dataframe with the pandas `read_csv()`\n",
    "method. Next, we used the pandas `isnull()` and `mean()` methods to determine the\n",
    "percentage of missing observations for each variable. We discussed these methods in\n",
    "the Quantifying missing data recipe in Chapter 1, Foreseeing Variable Problems When Building ML Models. With pandas `sort_values()`, we ordered the variables from the one with the fewest missing values to the one with the most.\n",
    "\n",
    "To remove observations with missing values in any of the variables, we used the pandas\n",
    "`dropna()` method, thereby obtaining a complete case dataset. Finally, we calculated the\n",
    "number of observations we removed using the Python built-in method `len`, which returned\n",
    "the number of rows in the original and complete case datasets. Using `format`, we included the len output within the {} in the `print` statement, thereby displaying the number of missing observations next to the text."
   ]
  },
  {
   "cell_type": "markdown",
   "id": "ced60b90",
   "metadata": {
    "papermill": {
     "duration": 0.119875,
     "end_time": "2022-12-08T11:45:28.654933",
     "exception": false,
     "start_time": "2022-12-08T11:45:28.535058",
     "status": "completed"
    },
    "tags": []
   },
   "source": [
    "# 2.2. Performing mean or median imputation"
   ]
  },
  {
   "cell_type": "markdown",
   "id": "c1cd7218",
   "metadata": {
    "papermill": {
     "duration": 0.094205,
     "end_time": "2022-12-08T11:45:28.854124",
     "exception": false,
     "start_time": "2022-12-08T11:45:28.759919",
     "status": "completed"
    },
    "tags": []
   },
   "source": [
    "Mean or median imputation consists of replacing missing values with the variable mean or\n",
    "median. This can only be performed in numerical variables."
   ]
  },
  {
   "cell_type": "code",
   "execution_count": 73,
   "id": "42e4bee7",
   "metadata": {
    "execution": {
     "iopub.execute_input": "2022-12-08T11:45:29.067871Z",
     "iopub.status.busy": "2022-12-08T11:45:29.067174Z",
     "iopub.status.idle": "2022-12-08T11:45:44.086718Z",
     "shell.execute_reply": "2022-12-08T11:45:44.085583Z"
    },
    "papermill": {
     "duration": 15.124037,
     "end_time": "2022-12-08T11:45:44.089457",
     "exception": false,
     "start_time": "2022-12-08T11:45:28.965420",
     "status": "completed"
    },
    "tags": []
   },
   "outputs": [
    {
     "name": "stdout",
     "output_type": "stream",
     "text": [
      "Collecting feature_engine\r\n",
      "  Downloading feature_engine-1.4.0-py2.py3-none-any.whl (276 kB)\r\n",
      "\u001b[2K     \u001b[90m━━━━━━━━━━━━━━━━━━━━━━━━━━━━━━━━━━━━━\u001b[0m \u001b[32m276.4/276.4 kB\u001b[0m \u001b[31m888.1 kB/s\u001b[0m eta \u001b[36m0:00:00\u001b[0m\r\n",
      "\u001b[?25hRequirement already satisfied: numpy>=1.18.2 in /opt/conda/lib/python3.7/site-packages (from feature_engine) (1.21.6)\r\n",
      "Requirement already satisfied: statsmodels>=0.11.1 in /opt/conda/lib/python3.7/site-packages (from feature_engine) (0.13.2)\r\n",
      "Requirement already satisfied: scikit-learn>=1.0.0 in /opt/conda/lib/python3.7/site-packages (from feature_engine) (1.0.2)\r\n",
      "Requirement already satisfied: scipy>=1.4.1 in /opt/conda/lib/python3.7/site-packages (from feature_engine) (1.7.3)\r\n",
      "Requirement already satisfied: pandas>=1.0.3 in /opt/conda/lib/python3.7/site-packages (from feature_engine) (1.3.5)\r\n",
      "Requirement already satisfied: python-dateutil>=2.7.3 in /opt/conda/lib/python3.7/site-packages (from pandas>=1.0.3->feature_engine) (2.8.2)\r\n",
      "Requirement already satisfied: pytz>=2017.3 in /opt/conda/lib/python3.7/site-packages (from pandas>=1.0.3->feature_engine) (2022.1)\r\n",
      "Requirement already satisfied: joblib>=0.11 in /opt/conda/lib/python3.7/site-packages (from scikit-learn>=1.0.0->feature_engine) (1.0.1)\r\n",
      "Requirement already satisfied: threadpoolctl>=2.0.0 in /opt/conda/lib/python3.7/site-packages (from scikit-learn>=1.0.0->feature_engine) (3.1.0)\r\n",
      "Requirement already satisfied: packaging>=21.3 in /opt/conda/lib/python3.7/site-packages (from statsmodels>=0.11.1->feature_engine) (21.3)\r\n",
      "Requirement already satisfied: patsy>=0.5.2 in /opt/conda/lib/python3.7/site-packages (from statsmodels>=0.11.1->feature_engine) (0.5.2)\r\n",
      "Requirement already satisfied: pyparsing!=3.0.5,>=2.0.2 in /opt/conda/lib/python3.7/site-packages (from packaging>=21.3->statsmodels>=0.11.1->feature_engine) (3.0.9)\r\n",
      "Requirement already satisfied: six in /opt/conda/lib/python3.7/site-packages (from patsy>=0.5.2->statsmodels>=0.11.1->feature_engine) (1.15.0)\r\n",
      "Installing collected packages: feature_engine\r\n",
      "Successfully installed feature_engine-1.4.0\r\n",
      "\u001b[33mWARNING: Running pip as the 'root' user can result in broken permissions and conflicting behaviour with the system package manager. It is recommended to use a virtual environment instead: https://pip.pypa.io/warnings/venv\u001b[0m\u001b[33m\r\n",
      "\u001b[0m"
     ]
    }
   ],
   "source": [
    "!pip install feature_engine"
   ]
  },
  {
   "cell_type": "code",
   "execution_count": 74,
   "id": "4b6ef510",
   "metadata": {
    "execution": {
     "iopub.execute_input": "2022-12-08T11:45:44.277050Z",
     "iopub.status.busy": "2022-12-08T11:45:44.276271Z",
     "iopub.status.idle": "2022-12-08T11:45:44.360894Z",
     "shell.execute_reply": "2022-12-08T11:45:44.359793Z"
    },
    "papermill": {
     "duration": 0.182041,
     "end_time": "2022-12-08T11:45:44.364047",
     "exception": false,
     "start_time": "2022-12-08T11:45:44.182006",
     "status": "completed"
    },
    "tags": []
   },
   "outputs": [],
   "source": [
    "import pandas as pd\n",
    "from sklearn.model_selection import train_test_split\n",
    "from sklearn.impute import SimpleImputer\n",
    "from feature_engine.imputation import MeanMedianImputer"
   ]
  },
  {
   "cell_type": "code",
   "execution_count": 75,
   "id": "cbd415f1",
   "metadata": {
    "execution": {
     "iopub.execute_input": "2022-12-08T11:45:44.551876Z",
     "iopub.status.busy": "2022-12-08T11:45:44.551441Z",
     "iopub.status.idle": "2022-12-08T11:45:44.563824Z",
     "shell.execute_reply": "2022-12-08T11:45:44.562351Z"
    },
    "papermill": {
     "duration": 0.109938,
     "end_time": "2022-12-08T11:45:44.566664",
     "exception": false,
     "start_time": "2022-12-08T11:45:44.456726",
     "status": "completed"
    },
    "tags": []
   },
   "outputs": [],
   "source": [
    "data = pd.read_csv('/kaggle/working/creditApprovalUCI.csv')"
   ]
  },
  {
   "cell_type": "code",
   "execution_count": 76,
   "id": "0a9baa82",
   "metadata": {
    "execution": {
     "iopub.execute_input": "2022-12-08T11:45:44.758097Z",
     "iopub.status.busy": "2022-12-08T11:45:44.757698Z",
     "iopub.status.idle": "2022-12-08T11:45:44.769791Z",
     "shell.execute_reply": "2022-12-08T11:45:44.768109Z"
    },
    "papermill": {
     "duration": 0.111368,
     "end_time": "2022-12-08T11:45:44.772808",
     "exception": false,
     "start_time": "2022-12-08T11:45:44.661440",
     "status": "completed"
    },
    "tags": []
   },
   "outputs": [],
   "source": [
    "X_train, X_test, y_train, y_test = train_test_split(\n",
    "    data.drop('A16', axis=1), data['A16'], test_size=0.3,\n",
    "    random_state=0)"
   ]
  },
  {
   "cell_type": "code",
   "execution_count": 77,
   "id": "c747d0c3",
   "metadata": {
    "execution": {
     "iopub.execute_input": "2022-12-08T11:45:44.965603Z",
     "iopub.status.busy": "2022-12-08T11:45:44.965123Z",
     "iopub.status.idle": "2022-12-08T11:45:44.971250Z",
     "shell.execute_reply": "2022-12-08T11:45:44.970539Z"
    },
    "papermill": {
     "duration": 0.103551,
     "end_time": "2022-12-08T11:45:44.973574",
     "exception": false,
     "start_time": "2022-12-08T11:45:44.870023",
     "status": "completed"
    },
    "tags": []
   },
   "outputs": [
    {
     "data": {
      "text/plain": [
       "((483, 15), (207, 15))"
      ]
     },
     "execution_count": 77,
     "metadata": {},
     "output_type": "execute_result"
    }
   ],
   "source": [
    "X_train.shape, X_test.shape"
   ]
  },
  {
   "cell_type": "code",
   "execution_count": 78,
   "id": "7a3e46a8",
   "metadata": {
    "execution": {
     "iopub.execute_input": "2022-12-08T11:45:45.160228Z",
     "iopub.status.busy": "2022-12-08T11:45:45.159772Z",
     "iopub.status.idle": "2022-12-08T11:45:45.170991Z",
     "shell.execute_reply": "2022-12-08T11:45:45.169744Z"
    },
    "papermill": {
     "duration": 0.108314,
     "end_time": "2022-12-08T11:45:45.173323",
     "exception": false,
     "start_time": "2022-12-08T11:45:45.065009",
     "status": "completed"
    },
    "tags": []
   },
   "outputs": [
    {
     "data": {
      "text/plain": [
       "A1     0.008282\n",
       "A2     0.022774\n",
       "A3     0.140787\n",
       "A4     0.008282\n",
       "A5     0.008282\n",
       "A6     0.008282\n",
       "A7     0.008282\n",
       "A8     0.140787\n",
       "A9     0.140787\n",
       "A10    0.140787\n",
       "A11    0.000000\n",
       "A12    0.000000\n",
       "A13    0.000000\n",
       "A14    0.014493\n",
       "A15    0.000000\n",
       "dtype: float64"
      ]
     },
     "execution_count": 78,
     "metadata": {},
     "output_type": "execute_result"
    }
   ],
   "source": [
    "X_train.isnull().mean()"
   ]
  },
  {
   "cell_type": "code",
   "execution_count": 79,
   "id": "f7dcadc5",
   "metadata": {
    "execution": {
     "iopub.execute_input": "2022-12-08T11:45:45.360160Z",
     "iopub.status.busy": "2022-12-08T11:45:45.359734Z",
     "iopub.status.idle": "2022-12-08T11:45:45.371691Z",
     "shell.execute_reply": "2022-12-08T11:45:45.370403Z"
    },
    "papermill": {
     "duration": 0.108295,
     "end_time": "2022-12-08T11:45:45.374309",
     "exception": false,
     "start_time": "2022-12-08T11:45:45.266014",
     "status": "completed"
    },
    "tags": []
   },
   "outputs": [],
   "source": [
    "for var in ['A2', 'A3', 'A8', 'A11', 'A15']:\n",
    "    value = X_train[var].median()\n",
    "    X_train[var] = X_train[var].fillna(value)\n",
    "    X_test[var] = X_test[var].fillna(value)"
   ]
  },
  {
   "cell_type": "code",
   "execution_count": 80,
   "id": "610cf002",
   "metadata": {
    "execution": {
     "iopub.execute_input": "2022-12-08T11:45:45.563044Z",
     "iopub.status.busy": "2022-12-08T11:45:45.562548Z",
     "iopub.status.idle": "2022-12-08T11:45:45.573514Z",
     "shell.execute_reply": "2022-12-08T11:45:45.572109Z"
    },
    "papermill": {
     "duration": 0.108459,
     "end_time": "2022-12-08T11:45:45.576016",
     "exception": false,
     "start_time": "2022-12-08T11:45:45.467557",
     "status": "completed"
    },
    "tags": []
   },
   "outputs": [
    {
     "data": {
      "text/plain": [
       "A1     0.008282\n",
       "A2     0.000000\n",
       "A3     0.000000\n",
       "A4     0.008282\n",
       "A5     0.008282\n",
       "A6     0.008282\n",
       "A7     0.008282\n",
       "A8     0.000000\n",
       "A9     0.140787\n",
       "A10    0.140787\n",
       "A11    0.000000\n",
       "A12    0.000000\n",
       "A13    0.000000\n",
       "A14    0.014493\n",
       "A15    0.000000\n",
       "dtype: float64"
      ]
     },
     "execution_count": 80,
     "metadata": {},
     "output_type": "execute_result"
    }
   ],
   "source": [
    "X_train.isnull().mean()"
   ]
  },
  {
   "cell_type": "code",
   "execution_count": 81,
   "id": "616f0c96",
   "metadata": {
    "execution": {
     "iopub.execute_input": "2022-12-08T11:45:45.768997Z",
     "iopub.status.busy": "2022-12-08T11:45:45.768576Z",
     "iopub.status.idle": "2022-12-08T11:45:45.777719Z",
     "shell.execute_reply": "2022-12-08T11:45:45.776299Z"
    },
    "papermill": {
     "duration": 0.109138,
     "end_time": "2022-12-08T11:45:45.780458",
     "exception": false,
     "start_time": "2022-12-08T11:45:45.671320",
     "status": "completed"
    },
    "tags": []
   },
   "outputs": [],
   "source": [
    "X_train, X_test, y_train, y_test = train_test_split(\n",
    "data[['A2', 'A3', 'A8', 'A11', 'A15']], data['A16'],\n",
    "test_size=0.3, random_state=0)"
   ]
  },
  {
   "cell_type": "code",
   "execution_count": 82,
   "id": "bfd26561",
   "metadata": {
    "execution": {
     "iopub.execute_input": "2022-12-08T11:45:45.986986Z",
     "iopub.status.busy": "2022-12-08T11:45:45.986449Z",
     "iopub.status.idle": "2022-12-08T11:45:45.991176Z",
     "shell.execute_reply": "2022-12-08T11:45:45.989924Z"
    },
    "papermill": {
     "duration": 0.109566,
     "end_time": "2022-12-08T11:45:45.993809",
     "exception": false,
     "start_time": "2022-12-08T11:45:45.884243",
     "status": "completed"
    },
    "tags": []
   },
   "outputs": [],
   "source": [
    "imputer = SimpleImputer(strategy='median')"
   ]
  },
  {
   "cell_type": "code",
   "execution_count": 83,
   "id": "5ad796eb",
   "metadata": {
    "execution": {
     "iopub.execute_input": "2022-12-08T11:45:46.193497Z",
     "iopub.status.busy": "2022-12-08T11:45:46.193069Z",
     "iopub.status.idle": "2022-12-08T11:45:46.204553Z",
     "shell.execute_reply": "2022-12-08T11:45:46.203229Z"
    },
    "papermill": {
     "duration": 0.113572,
     "end_time": "2022-12-08T11:45:46.206939",
     "exception": false,
     "start_time": "2022-12-08T11:45:46.093367",
     "status": "completed"
    },
    "tags": []
   },
   "outputs": [
    {
     "data": {
      "text/plain": [
       "SimpleImputer(strategy='median')"
      ]
     },
     "execution_count": 83,
     "metadata": {},
     "output_type": "execute_result"
    }
   ],
   "source": [
    "imputer.fit(X_train)"
   ]
  },
  {
   "cell_type": "code",
   "execution_count": 84,
   "id": "876874de",
   "metadata": {
    "execution": {
     "iopub.execute_input": "2022-12-08T11:45:46.398767Z",
     "iopub.status.busy": "2022-12-08T11:45:46.397914Z",
     "iopub.status.idle": "2022-12-08T11:45:46.405881Z",
     "shell.execute_reply": "2022-12-08T11:45:46.404534Z"
    },
    "papermill": {
     "duration": 0.105126,
     "end_time": "2022-12-08T11:45:46.408377",
     "exception": false,
     "start_time": "2022-12-08T11:45:46.303251",
     "status": "completed"
    },
    "tags": []
   },
   "outputs": [
    {
     "data": {
      "text/plain": [
       "array([28.835,  2.75 ,  1.   ,  0.   ,  6.   ])"
      ]
     },
     "execution_count": 84,
     "metadata": {},
     "output_type": "execute_result"
    }
   ],
   "source": [
    "imputer.statistics_"
   ]
  },
  {
   "cell_type": "code",
   "execution_count": 85,
   "id": "b0efd986",
   "metadata": {
    "execution": {
     "iopub.execute_input": "2022-12-08T11:45:46.598300Z",
     "iopub.status.busy": "2022-12-08T11:45:46.597858Z",
     "iopub.status.idle": "2022-12-08T11:45:46.608024Z",
     "shell.execute_reply": "2022-12-08T11:45:46.607049Z"
    },
    "papermill": {
     "duration": 0.107725,
     "end_time": "2022-12-08T11:45:46.610548",
     "exception": false,
     "start_time": "2022-12-08T11:45:46.502823",
     "status": "completed"
    },
    "tags": []
   },
   "outputs": [],
   "source": [
    "X_train = imputer.transform(X_train)\n",
    "X_test = imputer.transform(X_test)"
   ]
  },
  {
   "cell_type": "code",
   "execution_count": 86,
   "id": "b818e207",
   "metadata": {
    "execution": {
     "iopub.execute_input": "2022-12-08T11:45:46.801685Z",
     "iopub.status.busy": "2022-12-08T11:45:46.801186Z",
     "iopub.status.idle": "2022-12-08T11:45:46.807631Z",
     "shell.execute_reply": "2022-12-08T11:45:46.806285Z"
    },
    "papermill": {
     "duration": 0.104504,
     "end_time": "2022-12-08T11:45:46.810071",
     "exception": false,
     "start_time": "2022-12-08T11:45:46.705567",
     "status": "completed"
    },
    "tags": []
   },
   "outputs": [],
   "source": [
    "X_train = pd.DataFrame(X_train, columns = ['A2', 'A3', 'A8', 'A11', 'A15'])"
   ]
  },
  {
   "cell_type": "code",
   "execution_count": 87,
   "id": "724908a0",
   "metadata": {
    "execution": {
     "iopub.execute_input": "2022-12-08T11:45:47.057305Z",
     "iopub.status.busy": "2022-12-08T11:45:47.056907Z",
     "iopub.status.idle": "2022-12-08T11:45:47.062042Z",
     "shell.execute_reply": "2022-12-08T11:45:47.060835Z"
    },
    "papermill": {
     "duration": 0.101443,
     "end_time": "2022-12-08T11:45:47.064270",
     "exception": false,
     "start_time": "2022-12-08T11:45:46.962827",
     "status": "completed"
    },
    "tags": []
   },
   "outputs": [],
   "source": [
    "median_imputer = MeanMedianImputer(imputation_method='median',\n",
    "                                  variables=['A2', 'A3', 'A8', 'A11', 'A15'])"
   ]
  },
  {
   "cell_type": "code",
   "execution_count": 88,
   "id": "b0ee1456",
   "metadata": {
    "execution": {
     "iopub.execute_input": "2022-12-08T11:45:47.255408Z",
     "iopub.status.busy": "2022-12-08T11:45:47.255011Z",
     "iopub.status.idle": "2022-12-08T11:45:47.267169Z",
     "shell.execute_reply": "2022-12-08T11:45:47.266100Z"
    },
    "papermill": {
     "duration": 0.10996,
     "end_time": "2022-12-08T11:45:47.269577",
     "exception": false,
     "start_time": "2022-12-08T11:45:47.159617",
     "status": "completed"
    },
    "tags": []
   },
   "outputs": [
    {
     "data": {
      "text/plain": [
       "MeanMedianImputer(variables=['A2', 'A3', 'A8', 'A11', 'A15'])"
      ]
     },
     "execution_count": 88,
     "metadata": {},
     "output_type": "execute_result"
    }
   ],
   "source": [
    "median_imputer.fit(X_train)"
   ]
  },
  {
   "cell_type": "code",
   "execution_count": 89,
   "id": "92f4e3db",
   "metadata": {
    "execution": {
     "iopub.execute_input": "2022-12-08T11:45:47.460448Z",
     "iopub.status.busy": "2022-12-08T11:45:47.459984Z",
     "iopub.status.idle": "2022-12-08T11:45:47.466365Z",
     "shell.execute_reply": "2022-12-08T11:45:47.465540Z"
    },
    "papermill": {
     "duration": 0.104003,
     "end_time": "2022-12-08T11:45:47.468870",
     "exception": false,
     "start_time": "2022-12-08T11:45:47.364867",
     "status": "completed"
    },
    "tags": []
   },
   "outputs": [
    {
     "data": {
      "text/plain": [
       "{'A2': 28.835, 'A3': 2.75, 'A8': 1.0, 'A11': 0.0, 'A15': 6.0}"
      ]
     },
     "execution_count": 89,
     "metadata": {},
     "output_type": "execute_result"
    }
   ],
   "source": [
    "median_imputer.imputer_dict_"
   ]
  },
  {
   "cell_type": "code",
   "execution_count": 90,
   "id": "5ee195c9",
   "metadata": {
    "execution": {
     "iopub.execute_input": "2022-12-08T11:45:47.657375Z",
     "iopub.status.busy": "2022-12-08T11:45:47.656991Z",
     "iopub.status.idle": "2022-12-08T11:45:47.667665Z",
     "shell.execute_reply": "2022-12-08T11:45:47.666373Z"
    },
    "papermill": {
     "duration": 0.107222,
     "end_time": "2022-12-08T11:45:47.670250",
     "exception": false,
     "start_time": "2022-12-08T11:45:47.563028",
     "status": "completed"
    },
    "tags": []
   },
   "outputs": [
    {
     "data": {
      "text/plain": [
       "A2     0.0\n",
       "A3     0.0\n",
       "A8     0.0\n",
       "A11    0.0\n",
       "A15    0.0\n",
       "dtype: float64"
      ]
     },
     "execution_count": 90,
     "metadata": {},
     "output_type": "execute_result"
    }
   ],
   "source": [
    "X_train[['A2','A3','A8', 'A11', 'A15']].isnull().mean()"
   ]
  },
  {
   "cell_type": "code",
   "execution_count": 91,
   "id": "1c9685c5",
   "metadata": {
    "execution": {
     "iopub.execute_input": "2022-12-08T11:45:47.867537Z",
     "iopub.status.busy": "2022-12-08T11:45:47.867130Z",
     "iopub.status.idle": "2022-12-08T11:45:47.872987Z",
     "shell.execute_reply": "2022-12-08T11:45:47.871703Z"
    },
    "papermill": {
     "duration": 0.111231,
     "end_time": "2022-12-08T11:45:47.875492",
     "exception": false,
     "start_time": "2022-12-08T11:45:47.764261",
     "status": "completed"
    },
    "tags": []
   },
   "outputs": [],
   "source": [
    "X_test = pd.DataFrame(X_test, columns = ['A2', 'A3', 'A8', 'A11', 'A15'])"
   ]
  },
  {
   "cell_type": "code",
   "execution_count": 92,
   "id": "bc53d44c",
   "metadata": {
    "execution": {
     "iopub.execute_input": "2022-12-08T11:45:48.066345Z",
     "iopub.status.busy": "2022-12-08T11:45:48.065963Z",
     "iopub.status.idle": "2022-12-08T11:45:48.076935Z",
     "shell.execute_reply": "2022-12-08T11:45:48.075750Z"
    },
    "papermill": {
     "duration": 0.108958,
     "end_time": "2022-12-08T11:45:48.079708",
     "exception": false,
     "start_time": "2022-12-08T11:45:47.970750",
     "status": "completed"
    },
    "tags": []
   },
   "outputs": [],
   "source": [
    "X_train = median_imputer.transform(X_train)\n",
    "X_test = median_imputer.transform(X_test)"
   ]
  },
  {
   "cell_type": "code",
   "execution_count": 93,
   "id": "8c19d8f1",
   "metadata": {
    "execution": {
     "iopub.execute_input": "2022-12-08T11:45:48.271547Z",
     "iopub.status.busy": "2022-12-08T11:45:48.270817Z",
     "iopub.status.idle": "2022-12-08T11:45:48.281523Z",
     "shell.execute_reply": "2022-12-08T11:45:48.280521Z"
    },
    "papermill": {
     "duration": 0.110374,
     "end_time": "2022-12-08T11:45:48.284204",
     "exception": false,
     "start_time": "2022-12-08T11:45:48.173830",
     "status": "completed"
    },
    "tags": []
   },
   "outputs": [
    {
     "data": {
      "text/plain": [
       "A2     0.0\n",
       "A3     0.0\n",
       "A8     0.0\n",
       "A11    0.0\n",
       "A15    0.0\n",
       "dtype: float64"
      ]
     },
     "execution_count": 93,
     "metadata": {},
     "output_type": "execute_result"
    }
   ],
   "source": [
    "X_test[['A2','A3','A8', 'A11', 'A15']].isnull().mean()"
   ]
  },
  {
   "cell_type": "markdown",
   "id": "f7c03589",
   "metadata": {
    "papermill": {
     "duration": 0.09246,
     "end_time": "2022-12-08T11:45:48.469885",
     "exception": false,
     "start_time": "2022-12-08T11:45:48.377425",
     "status": "completed"
    },
    "tags": []
   },
   "source": [
    "**How it works...**\n",
    "\n",
    "We replaced the missing values in the Credit Approval Data Set with the median estimates\n",
    "of the variables using pandas, scikit-learn, and Feature-engine. Since the mean or median values should be learned from the train set variables, we divided the dataset into train and test sets. To do so, in step 3, we used scikit-learn's `train_test_split()` function, which takes the dataset with predictor variables, the target, the percentage of observations to retain in the test set, and a `random_state` value for reproducibility as arguments. To obtain a dataset with predictor variables only, we used pandas `drop()` with the target variable `A16` as an argument. To obtain the target, we sliced the dataframe on the target column, `A16`. By doing this, we obtained a train set with 70% of the original observations and a test set with 30% of the original observations.\n",
    "\n",
    "We calculated the percentage of missing data for each variable using pandas `isnull()`,\n",
    "followed by pandas `mean()`, which we described in the Quantifying missing data recipe\n",
    "in Chapter 1, Foreseeing Variable Problems When Building ML Models. To impute missing data\n",
    "with pandas in multiple numerical variables, in step 5 we created a `for` loop over the `A2, A3, A8, A11,` and `A15` variables. For each variable, we calculated the median with\n",
    "pandas' `median()` in the train set and used this value to replace the missing values with pandas' `fillna()` in the train and test sets.\n",
    "To replace the missing values using scikit-learn, we divided the Credit Approval data into train and test sets, keeping only the numerical variables. Next, we created an imputation transformer using `SimpleImputer()` and set the `strategy` argument to median. With the `fit()` method, `SimpleImputer()` learned the median of each variable in the train set and stored them in its statistics_ attribute. Finally, we replaced the missing values using the `transform()` method of `SimpleImputer()` in the train and test sets.\n",
    "\n",
    "To replace missing values via Feature-engine, we set up `MeanMedianImputer()` with\n",
    "`imputation_method` set to `median` and passed the names of the variables to impute in a\n",
    "list to the `variables` argument. With the `fit()` method, the transformer learned and\n",
    "stored the median values of the specified variables in a dictionary in its\n",
    "`imputer_dict_` attribute. With the `transform()` method, the missing values were\n",
    "replaced by the median in the train and test sets.\n",
    "\n",
    "`SimpleImputer()` from scikit-learn operates on the entire dataframe and\n",
    "returns NumPy arrays. In contrast, `MeanMedianImputer()` from Featureengine\n",
    "can take an entire dataframe as input and yet it will only impute\n",
    "the specified variables, returning a pandas dataframe."
   ]
  },
  {
   "cell_type": "markdown",
   "id": "4ca4e6ec",
   "metadata": {
    "papermill": {
     "duration": 0.094518,
     "end_time": "2022-12-08T11:45:48.659468",
     "exception": false,
     "start_time": "2022-12-08T11:45:48.564950",
     "status": "completed"
    },
    "tags": []
   },
   "source": [
    "# 2.3. Implementing mode or frequent category imputation"
   ]
  },
  {
   "cell_type": "markdown",
   "id": "89a71dfa",
   "metadata": {
    "papermill": {
     "duration": 0.092664,
     "end_time": "2022-12-08T11:45:48.845843",
     "exception": false,
     "start_time": "2022-12-08T11:45:48.753179",
     "status": "completed"
    },
    "tags": []
   },
   "source": [
    "Mode imputation consists of replacing missing values with the mode. We normally use this\n",
    "procedure in categorical variables, hence the frequent category imputation name."
   ]
  },
  {
   "cell_type": "code",
   "execution_count": 94,
   "id": "49c0fb5a",
   "metadata": {
    "execution": {
     "iopub.execute_input": "2022-12-08T11:45:49.038059Z",
     "iopub.status.busy": "2022-12-08T11:45:49.037302Z",
     "iopub.status.idle": "2022-12-08T11:45:49.042210Z",
     "shell.execute_reply": "2022-12-08T11:45:49.041390Z"
    },
    "papermill": {
     "duration": 0.102062,
     "end_time": "2022-12-08T11:45:49.044489",
     "exception": false,
     "start_time": "2022-12-08T11:45:48.942427",
     "status": "completed"
    },
    "tags": []
   },
   "outputs": [],
   "source": [
    "import pandas as pd\n",
    "from sklearn.model_selection import train_test_split\n",
    "from sklearn.impute import SimpleImputer\n",
    "from feature_engine.imputation import CategoricalImputer"
   ]
  },
  {
   "cell_type": "code",
   "execution_count": 95,
   "id": "63eb3a60",
   "metadata": {
    "execution": {
     "iopub.execute_input": "2022-12-08T11:45:49.232929Z",
     "iopub.status.busy": "2022-12-08T11:45:49.232161Z",
     "iopub.status.idle": "2022-12-08T11:45:49.242264Z",
     "shell.execute_reply": "2022-12-08T11:45:49.241394Z"
    },
    "papermill": {
     "duration": 0.107232,
     "end_time": "2022-12-08T11:45:49.244954",
     "exception": false,
     "start_time": "2022-12-08T11:45:49.137722",
     "status": "completed"
    },
    "tags": []
   },
   "outputs": [],
   "source": [
    "data = pd.read_csv('/kaggle/working/creditApprovalUCI.csv')"
   ]
  },
  {
   "cell_type": "code",
   "execution_count": 96,
   "id": "f7955bf9",
   "metadata": {
    "execution": {
     "iopub.execute_input": "2022-12-08T11:45:49.441797Z",
     "iopub.status.busy": "2022-12-08T11:45:49.441310Z",
     "iopub.status.idle": "2022-12-08T11:45:49.450224Z",
     "shell.execute_reply": "2022-12-08T11:45:49.449159Z"
    },
    "papermill": {
     "duration": 0.107672,
     "end_time": "2022-12-08T11:45:49.453003",
     "exception": false,
     "start_time": "2022-12-08T11:45:49.345331",
     "status": "completed"
    },
    "tags": []
   },
   "outputs": [],
   "source": [
    "X_train, X_test, y_train, y_test = train_test_split(\n",
    "    data.drop('A16', axis=1), data['A16'], test_size=0.3, random_state=0)"
   ]
  },
  {
   "cell_type": "code",
   "execution_count": 97,
   "id": "5bd84452",
   "metadata": {
    "execution": {
     "iopub.execute_input": "2022-12-08T11:45:49.645077Z",
     "iopub.status.busy": "2022-12-08T11:45:49.644423Z",
     "iopub.status.idle": "2022-12-08T11:45:49.653511Z",
     "shell.execute_reply": "2022-12-08T11:45:49.652530Z"
    },
    "papermill": {
     "duration": 0.107809,
     "end_time": "2022-12-08T11:45:49.655912",
     "exception": false,
     "start_time": "2022-12-08T11:45:49.548103",
     "status": "completed"
    },
    "tags": []
   },
   "outputs": [
    {
     "data": {
      "text/plain": [
       "A1     0.008282\n",
       "A2     0.022774\n",
       "A3     0.140787\n",
       "A4     0.008282\n",
       "A5     0.008282\n",
       "A6     0.008282\n",
       "A7     0.008282\n",
       "A8     0.140787\n",
       "A9     0.140787\n",
       "A10    0.140787\n",
       "A11    0.000000\n",
       "A12    0.000000\n",
       "A13    0.000000\n",
       "A14    0.014493\n",
       "A15    0.000000\n",
       "dtype: float64"
      ]
     },
     "execution_count": 97,
     "metadata": {},
     "output_type": "execute_result"
    }
   ],
   "source": [
    "X_train.isnull().mean()"
   ]
  },
  {
   "cell_type": "code",
   "execution_count": 98,
   "id": "bd6b257f",
   "metadata": {
    "execution": {
     "iopub.execute_input": "2022-12-08T11:45:49.845036Z",
     "iopub.status.busy": "2022-12-08T11:45:49.844392Z",
     "iopub.status.idle": "2022-12-08T11:45:49.854659Z",
     "shell.execute_reply": "2022-12-08T11:45:49.853485Z"
    },
    "papermill": {
     "duration": 0.108132,
     "end_time": "2022-12-08T11:45:49.857736",
     "exception": false,
     "start_time": "2022-12-08T11:45:49.749604",
     "status": "completed"
    },
    "tags": []
   },
   "outputs": [],
   "source": [
    "for var in ['A4', 'A5', 'A6', 'A7']:\n",
    "    value = X_train[var].mode()[0]\n",
    "    X_train[var] = X_train[var].fillna(value)\n",
    "    X_test[var] = X_test[var].fillna(value)"
   ]
  },
  {
   "cell_type": "code",
   "execution_count": 99,
   "id": "490db1c7",
   "metadata": {
    "execution": {
     "iopub.execute_input": "2022-12-08T11:45:50.049862Z",
     "iopub.status.busy": "2022-12-08T11:45:50.049241Z",
     "iopub.status.idle": "2022-12-08T11:45:50.055893Z",
     "shell.execute_reply": "2022-12-08T11:45:50.055046Z"
    },
    "papermill": {
     "duration": 0.10548,
     "end_time": "2022-12-08T11:45:50.058358",
     "exception": false,
     "start_time": "2022-12-08T11:45:49.952878",
     "status": "completed"
    },
    "tags": []
   },
   "outputs": [],
   "source": [
    "X_train, X_test, y_train, y_test = train_test_split(\n",
    "data[['A4', 'A5', 'A6', 'A7']], data['A16'], test_size=0.3,\n",
    "random_state=0)"
   ]
  },
  {
   "cell_type": "code",
   "execution_count": 100,
   "id": "75021946",
   "metadata": {
    "execution": {
     "iopub.execute_input": "2022-12-08T11:45:50.246605Z",
     "iopub.status.busy": "2022-12-08T11:45:50.245903Z",
     "iopub.status.idle": "2022-12-08T11:45:50.250227Z",
     "shell.execute_reply": "2022-12-08T11:45:50.249452Z"
    },
    "papermill": {
     "duration": 0.1006,
     "end_time": "2022-12-08T11:45:50.252513",
     "exception": false,
     "start_time": "2022-12-08T11:45:50.151913",
     "status": "completed"
    },
    "tags": []
   },
   "outputs": [],
   "source": [
    "imputer = SimpleImputer(strategy='most_frequent')"
   ]
  },
  {
   "cell_type": "code",
   "execution_count": 101,
   "id": "3b76d088",
   "metadata": {
    "execution": {
     "iopub.execute_input": "2022-12-08T11:45:50.444656Z",
     "iopub.status.busy": "2022-12-08T11:45:50.443906Z",
     "iopub.status.idle": "2022-12-08T11:45:50.452693Z",
     "shell.execute_reply": "2022-12-08T11:45:50.451815Z"
    },
    "papermill": {
     "duration": 0.106563,
     "end_time": "2022-12-08T11:45:50.455104",
     "exception": false,
     "start_time": "2022-12-08T11:45:50.348541",
     "status": "completed"
    },
    "tags": []
   },
   "outputs": [
    {
     "data": {
      "text/plain": [
       "SimpleImputer(strategy='most_frequent')"
      ]
     },
     "execution_count": 101,
     "metadata": {},
     "output_type": "execute_result"
    }
   ],
   "source": [
    "imputer.fit(X_train)"
   ]
  },
  {
   "cell_type": "code",
   "execution_count": 102,
   "id": "d579af8e",
   "metadata": {
    "execution": {
     "iopub.execute_input": "2022-12-08T11:45:50.646910Z",
     "iopub.status.busy": "2022-12-08T11:45:50.646185Z",
     "iopub.status.idle": "2022-12-08T11:45:50.651973Z",
     "shell.execute_reply": "2022-12-08T11:45:50.651145Z"
    },
    "papermill": {
     "duration": 0.103278,
     "end_time": "2022-12-08T11:45:50.654235",
     "exception": false,
     "start_time": "2022-12-08T11:45:50.550957",
     "status": "completed"
    },
    "tags": []
   },
   "outputs": [
    {
     "data": {
      "text/plain": [
       "array(['u', 'g', 'c', 'v'], dtype=object)"
      ]
     },
     "execution_count": 102,
     "metadata": {},
     "output_type": "execute_result"
    }
   ],
   "source": [
    "imputer.statistics_"
   ]
  },
  {
   "cell_type": "code",
   "execution_count": 103,
   "id": "8d040d4f",
   "metadata": {
    "execution": {
     "iopub.execute_input": "2022-12-08T11:45:50.845129Z",
     "iopub.status.busy": "2022-12-08T11:45:50.844294Z",
     "iopub.status.idle": "2022-12-08T11:45:50.852630Z",
     "shell.execute_reply": "2022-12-08T11:45:50.851586Z"
    },
    "papermill": {
     "duration": 0.10688,
     "end_time": "2022-12-08T11:45:50.855298",
     "exception": false,
     "start_time": "2022-12-08T11:45:50.748418",
     "status": "completed"
    },
    "tags": []
   },
   "outputs": [],
   "source": [
    "X_train = imputer.transform(X_train)\n",
    "X_test = imputer.transform(X_test)"
   ]
  },
  {
   "cell_type": "code",
   "execution_count": 104,
   "id": "b6f124fe",
   "metadata": {
    "execution": {
     "iopub.execute_input": "2022-12-08T11:45:51.049011Z",
     "iopub.status.busy": "2022-12-08T11:45:51.048254Z",
     "iopub.status.idle": "2022-12-08T11:45:51.053973Z",
     "shell.execute_reply": "2022-12-08T11:45:51.053008Z"
    },
    "papermill": {
     "duration": 0.107009,
     "end_time": "2022-12-08T11:45:51.056428",
     "exception": false,
     "start_time": "2022-12-08T11:45:50.949419",
     "status": "completed"
    },
    "tags": []
   },
   "outputs": [],
   "source": [
    "X_train = pd.DataFrame(X_train, columns=['A4', 'A5', 'A6', 'A7'])"
   ]
  },
  {
   "cell_type": "code",
   "execution_count": 105,
   "id": "64f6cc9c",
   "metadata": {
    "execution": {
     "iopub.execute_input": "2022-12-08T11:45:51.250210Z",
     "iopub.status.busy": "2022-12-08T11:45:51.249456Z",
     "iopub.status.idle": "2022-12-08T11:45:51.254055Z",
     "shell.execute_reply": "2022-12-08T11:45:51.253179Z"
    },
    "papermill": {
     "duration": 0.103108,
     "end_time": "2022-12-08T11:45:51.256371",
     "exception": false,
     "start_time": "2022-12-08T11:45:51.153263",
     "status": "completed"
    },
    "tags": []
   },
   "outputs": [],
   "source": [
    "mode_imputer = CategoricalImputer(variables=['A4', 'A5', 'A6', 'A7'], \n",
    "                                  imputation_method= 'frequent')"
   ]
  },
  {
   "cell_type": "code",
   "execution_count": 106,
   "id": "3db11ad0",
   "metadata": {
    "execution": {
     "iopub.execute_input": "2022-12-08T11:45:51.507808Z",
     "iopub.status.busy": "2022-12-08T11:45:51.507130Z",
     "iopub.status.idle": "2022-12-08T11:45:51.518734Z",
     "shell.execute_reply": "2022-12-08T11:45:51.517856Z"
    },
    "papermill": {
     "duration": 0.171462,
     "end_time": "2022-12-08T11:45:51.521385",
     "exception": false,
     "start_time": "2022-12-08T11:45:51.349923",
     "status": "completed"
    },
    "tags": []
   },
   "outputs": [
    {
     "data": {
      "text/plain": [
       "CategoricalImputer(imputation_method='frequent',\n",
       "                   variables=['A4', 'A5', 'A6', 'A7'])"
      ]
     },
     "execution_count": 106,
     "metadata": {},
     "output_type": "execute_result"
    }
   ],
   "source": [
    "mode_imputer.fit(X_train)"
   ]
  },
  {
   "cell_type": "code",
   "execution_count": 107,
   "id": "ca975d17",
   "metadata": {
    "execution": {
     "iopub.execute_input": "2022-12-08T11:45:51.715294Z",
     "iopub.status.busy": "2022-12-08T11:45:51.714539Z",
     "iopub.status.idle": "2022-12-08T11:45:51.721348Z",
     "shell.execute_reply": "2022-12-08T11:45:51.720248Z"
    },
    "papermill": {
     "duration": 0.107416,
     "end_time": "2022-12-08T11:45:51.723833",
     "exception": false,
     "start_time": "2022-12-08T11:45:51.616417",
     "status": "completed"
    },
    "tags": []
   },
   "outputs": [
    {
     "data": {
      "text/plain": [
       "{'A4': 'u', 'A5': 'g', 'A6': 'c', 'A7': 'v'}"
      ]
     },
     "execution_count": 107,
     "metadata": {},
     "output_type": "execute_result"
    }
   ],
   "source": [
    "mode_imputer.imputer_dict_"
   ]
  },
  {
   "cell_type": "code",
   "execution_count": 108,
   "id": "9aeb7836",
   "metadata": {
    "execution": {
     "iopub.execute_input": "2022-12-08T11:45:51.912881Z",
     "iopub.status.busy": "2022-12-08T11:45:51.912405Z",
     "iopub.status.idle": "2022-12-08T11:45:51.918831Z",
     "shell.execute_reply": "2022-12-08T11:45:51.917573Z"
    },
    "papermill": {
     "duration": 0.103969,
     "end_time": "2022-12-08T11:45:51.921397",
     "exception": false,
     "start_time": "2022-12-08T11:45:51.817428",
     "status": "completed"
    },
    "tags": []
   },
   "outputs": [],
   "source": [
    "X_test = pd.DataFrame(X_test, columns=['A4', 'A5', 'A6', 'A7'])"
   ]
  },
  {
   "cell_type": "code",
   "execution_count": 109,
   "id": "33fb2cb2",
   "metadata": {
    "execution": {
     "iopub.execute_input": "2022-12-08T11:45:52.116983Z",
     "iopub.status.busy": "2022-12-08T11:45:52.116556Z",
     "iopub.status.idle": "2022-12-08T11:45:52.126872Z",
     "shell.execute_reply": "2022-12-08T11:45:52.125687Z"
    },
    "papermill": {
     "duration": 0.111919,
     "end_time": "2022-12-08T11:45:52.129633",
     "exception": false,
     "start_time": "2022-12-08T11:45:52.017714",
     "status": "completed"
    },
    "tags": []
   },
   "outputs": [],
   "source": [
    "X_train = mode_imputer.transform(X_train)\n",
    "X_test = mode_imputer.transform(X_test)"
   ]
  },
  {
   "cell_type": "markdown",
   "id": "65f5e4d1",
   "metadata": {
    "papermill": {
     "duration": 0.09305,
     "end_time": "2022-12-08T11:45:52.318633",
     "exception": false,
     "start_time": "2022-12-08T11:45:52.225583",
     "status": "completed"
    },
    "tags": []
   },
   "source": [
    "**How it works...**\n",
    "\n",
    "In this recipe, we replaced the missing values of the categorical variables in the Credit Approval Data Set with the most frequent categories using pandas, scikit-learn, and Feature-engine. Frequent categories should be learned from the train set, so we divided the dataset into train and test sets using `train_test_split()` from scikit-learn, as described in the Performing mean or median imputation recipe.\n",
    "\n",
    "To impute missing data with pandas in multiple categorical variables, in step 4 we created a for loop over the categorical variables `A4` to `A7`, and for each variable, we calculated the most frequent value using the pandas `mode()` method in the train set. Then, we used this value to replace the missing values with pandas `fillna()` in the train and test sets. Pandas `fillna()` returned a pandas Series without missing values, which we reassigned to the original variable in the dataframe.\n",
    "\n",
    "\n",
    "To replace missing values using scikit-learn, we divided the data into train and test sets but only kept categorical variables. Next, we set up `SimpleImputer()` and\n",
    "specified `most_frequent` as the imputation method in the strategy. With the `fit()`\n",
    "method, imputer learned and stored frequent categories in its `statistics_` attribute.\n",
    "With the `transform()` method, the missing values in the train and test sets were replaced with the learned statistics, returning NumPy arrays.\n",
    "\n",
    "Finally, to replace the missing values via Feature-engine, we set up\n",
    "`CategoricalImputer()`, specifying the variables to impute in a list. With `fit()`,\n",
    "the `CategoricalImputer()` learned and stored frequent categories in a dictionary\n",
    "in the `imputer_dict_` attribute. With the `transform()` method, missing values in the\n",
    "train and test sets were replaced with stored parameters, which allowed us to obtain\n",
    "pandas dataframes without missing data.\n",
    "\n",
    "Note that, unlike `SimpleImputer()` from scikit-learn, `CategoricalImputer()` will only impute categorical variables and ignores numerical ones."
   ]
  },
  {
   "cell_type": "markdown",
   "id": "f18282c9",
   "metadata": {
    "papermill": {
     "duration": 0.094479,
     "end_time": "2022-12-08T11:45:52.506299",
     "exception": false,
     "start_time": "2022-12-08T11:45:52.411820",
     "status": "completed"
    },
    "tags": []
   },
   "source": [
    "# 2.4. Replacing missing values with an arbitrary number"
   ]
  },
  {
   "cell_type": "markdown",
   "id": "f2ab4d1d",
   "metadata": {
    "papermill": {
     "duration": 0.093996,
     "end_time": "2022-12-08T11:45:52.695812",
     "exception": false,
     "start_time": "2022-12-08T11:45:52.601816",
     "status": "completed"
    },
    "tags": []
   },
   "source": [
    "Arbitrary number imputation consists of replacing missing values with an arbitrary value. This method is suitable for numerical variables."
   ]
  },
  {
   "cell_type": "code",
   "execution_count": 110,
   "id": "886b1190",
   "metadata": {
    "execution": {
     "iopub.execute_input": "2022-12-08T11:45:52.886022Z",
     "iopub.status.busy": "2022-12-08T11:45:52.885281Z",
     "iopub.status.idle": "2022-12-08T11:45:52.890020Z",
     "shell.execute_reply": "2022-12-08T11:45:52.889086Z"
    },
    "papermill": {
     "duration": 0.102581,
     "end_time": "2022-12-08T11:45:52.892182",
     "exception": false,
     "start_time": "2022-12-08T11:45:52.789601",
     "status": "completed"
    },
    "tags": []
   },
   "outputs": [],
   "source": [
    "import pandas as pd\n",
    "from sklearn.model_selection import train_test_split\n",
    "from sklearn.impute import SimpleImputer\n",
    "from feature_engine.imputation import ArbitraryNumberImputer"
   ]
  },
  {
   "cell_type": "code",
   "execution_count": 111,
   "id": "2a46bd72",
   "metadata": {
    "execution": {
     "iopub.execute_input": "2022-12-08T11:45:53.083872Z",
     "iopub.status.busy": "2022-12-08T11:45:53.083327Z",
     "iopub.status.idle": "2022-12-08T11:45:53.099081Z",
     "shell.execute_reply": "2022-12-08T11:45:53.097094Z"
    },
    "papermill": {
     "duration": 0.116492,
     "end_time": "2022-12-08T11:45:53.102317",
     "exception": false,
     "start_time": "2022-12-08T11:45:52.985825",
     "status": "completed"
    },
    "tags": []
   },
   "outputs": [],
   "source": [
    "data = pd.read_csv('/kaggle/working/creditApprovalUCI.csv')"
   ]
  },
  {
   "cell_type": "code",
   "execution_count": 112,
   "id": "ae467154",
   "metadata": {
    "execution": {
     "iopub.execute_input": "2022-12-08T11:45:53.315381Z",
     "iopub.status.busy": "2022-12-08T11:45:53.314313Z",
     "iopub.status.idle": "2022-12-08T11:45:53.322337Z",
     "shell.execute_reply": "2022-12-08T11:45:53.321539Z"
    },
    "papermill": {
     "duration": 0.106347,
     "end_time": "2022-12-08T11:45:53.324752",
     "exception": false,
     "start_time": "2022-12-08T11:45:53.218405",
     "status": "completed"
    },
    "tags": []
   },
   "outputs": [],
   "source": [
    "X_train, X_test, y_train, y_test = train_test_split(\n",
    "    data.drop('A16', axis=1), data['A16'], test_size=0.3, \n",
    "    random_state=0)"
   ]
  },
  {
   "cell_type": "code",
   "execution_count": 113,
   "id": "8f4f813a",
   "metadata": {
    "execution": {
     "iopub.execute_input": "2022-12-08T11:45:53.519813Z",
     "iopub.status.busy": "2022-12-08T11:45:53.518928Z",
     "iopub.status.idle": "2022-12-08T11:45:53.529822Z",
     "shell.execute_reply": "2022-12-08T11:45:53.528542Z"
    },
    "papermill": {
     "duration": 0.111729,
     "end_time": "2022-12-08T11:45:53.532226",
     "exception": false,
     "start_time": "2022-12-08T11:45:53.420497",
     "status": "completed"
    },
    "tags": []
   },
   "outputs": [
    {
     "data": {
      "text/plain": [
       "A2     76.750\n",
       "A3     26.335\n",
       "A8     20.000\n",
       "A11    67.000\n",
       "dtype: float64"
      ]
     },
     "execution_count": 113,
     "metadata": {},
     "output_type": "execute_result"
    }
   ],
   "source": [
    "X_train[['A2', 'A3', 'A8', 'A11']].max()"
   ]
  },
  {
   "cell_type": "code",
   "execution_count": 114,
   "id": "41507fa2",
   "metadata": {
    "execution": {
     "iopub.execute_input": "2022-12-08T11:45:53.724206Z",
     "iopub.status.busy": "2022-12-08T11:45:53.723804Z",
     "iopub.status.idle": "2022-12-08T11:45:53.732732Z",
     "shell.execute_reply": "2022-12-08T11:45:53.731639Z"
    },
    "papermill": {
     "duration": 0.107373,
     "end_time": "2022-12-08T11:45:53.735228",
     "exception": false,
     "start_time": "2022-12-08T11:45:53.627855",
     "status": "completed"
    },
    "tags": []
   },
   "outputs": [],
   "source": [
    "for var in ['A2', 'A3', 'A8', 'A11']:\n",
    "    X_train[var].fillna(99, inplace=True)\n",
    "    X_test[var].fillna(99, inplace=True)"
   ]
  },
  {
   "cell_type": "markdown",
   "id": "fcfead69",
   "metadata": {
    "papermill": {
     "duration": 0.095143,
     "end_time": "2022-12-08T11:45:53.930409",
     "exception": false,
     "start_time": "2022-12-08T11:45:53.835266",
     "status": "completed"
    },
    "tags": []
   },
   "source": [
    "We chose 99 as the arbitrary value because it is bigger than the maximum value of these variables."
   ]
  },
  {
   "cell_type": "code",
   "execution_count": 115,
   "id": "87c0d110",
   "metadata": {
    "execution": {
     "iopub.execute_input": "2022-12-08T11:45:54.122727Z",
     "iopub.status.busy": "2022-12-08T11:45:54.122061Z",
     "iopub.status.idle": "2022-12-08T11:45:54.132392Z",
     "shell.execute_reply": "2022-12-08T11:45:54.131299Z"
    },
    "papermill": {
     "duration": 0.108786,
     "end_time": "2022-12-08T11:45:54.134664",
     "exception": false,
     "start_time": "2022-12-08T11:45:54.025878",
     "status": "completed"
    },
    "tags": []
   },
   "outputs": [
    {
     "data": {
      "text/plain": [
       "A2     0.0\n",
       "A3     0.0\n",
       "A8     0.0\n",
       "A11    0.0\n",
       "dtype: float64"
      ]
     },
     "execution_count": 115,
     "metadata": {},
     "output_type": "execute_result"
    }
   ],
   "source": [
    "X_train[['A2', 'A3', 'A8', 'A11']].isnull().mean()"
   ]
  },
  {
   "cell_type": "code",
   "execution_count": 116,
   "id": "d99c2992",
   "metadata": {
    "execution": {
     "iopub.execute_input": "2022-12-08T11:45:54.384748Z",
     "iopub.status.busy": "2022-12-08T11:45:54.384334Z",
     "iopub.status.idle": "2022-12-08T11:45:54.392540Z",
     "shell.execute_reply": "2022-12-08T11:45:54.391561Z"
    },
    "papermill": {
     "duration": 0.110741,
     "end_time": "2022-12-08T11:45:54.395207",
     "exception": false,
     "start_time": "2022-12-08T11:45:54.284466",
     "status": "completed"
    },
    "tags": []
   },
   "outputs": [],
   "source": [
    "X_train, X_test, y_train, y_test = train_test_split(\n",
    "    data[['A2', 'A3', 'A8', 'A11']], data['A16'], test_size=0.3,\n",
    "    random_state=0)"
   ]
  },
  {
   "cell_type": "code",
   "execution_count": 117,
   "id": "c5fc0806",
   "metadata": {
    "execution": {
     "iopub.execute_input": "2022-12-08T11:45:54.587697Z",
     "iopub.status.busy": "2022-12-08T11:45:54.586912Z",
     "iopub.status.idle": "2022-12-08T11:45:54.592050Z",
     "shell.execute_reply": "2022-12-08T11:45:54.591295Z"
    },
    "papermill": {
     "duration": 0.103648,
     "end_time": "2022-12-08T11:45:54.594327",
     "exception": false,
     "start_time": "2022-12-08T11:45:54.490679",
     "status": "completed"
    },
    "tags": []
   },
   "outputs": [],
   "source": [
    "imputer = SimpleImputer(strategy='constant', fill_value=99)"
   ]
  },
  {
   "cell_type": "code",
   "execution_count": 118,
   "id": "c97285a0",
   "metadata": {
    "execution": {
     "iopub.execute_input": "2022-12-08T11:45:54.788170Z",
     "iopub.status.busy": "2022-12-08T11:45:54.787351Z",
     "iopub.status.idle": "2022-12-08T11:45:54.797436Z",
     "shell.execute_reply": "2022-12-08T11:45:54.796385Z"
    },
    "papermill": {
     "duration": 0.110775,
     "end_time": "2022-12-08T11:45:54.799899",
     "exception": false,
     "start_time": "2022-12-08T11:45:54.689124",
     "status": "completed"
    },
    "tags": []
   },
   "outputs": [
    {
     "data": {
      "text/plain": [
       "SimpleImputer(fill_value=99, strategy='constant')"
      ]
     },
     "execution_count": 118,
     "metadata": {},
     "output_type": "execute_result"
    }
   ],
   "source": [
    "imputer.fit(X_train)"
   ]
  },
  {
   "cell_type": "code",
   "execution_count": 119,
   "id": "d857bbda",
   "metadata": {
    "execution": {
     "iopub.execute_input": "2022-12-08T11:45:54.990908Z",
     "iopub.status.busy": "2022-12-08T11:45:54.990201Z",
     "iopub.status.idle": "2022-12-08T11:45:54.999202Z",
     "shell.execute_reply": "2022-12-08T11:45:54.998015Z"
    },
    "papermill": {
     "duration": 0.108463,
     "end_time": "2022-12-08T11:45:55.002510",
     "exception": false,
     "start_time": "2022-12-08T11:45:54.894047",
     "status": "completed"
    },
    "tags": []
   },
   "outputs": [],
   "source": [
    "X_train = imputer.transform(X_train)\n",
    "X_test = imputer.transform(X_test)"
   ]
  },
  {
   "cell_type": "code",
   "execution_count": 120,
   "id": "60e86609",
   "metadata": {
    "execution": {
     "iopub.execute_input": "2022-12-08T11:45:55.193327Z",
     "iopub.status.busy": "2022-12-08T11:45:55.192930Z",
     "iopub.status.idle": "2022-12-08T11:45:55.198968Z",
     "shell.execute_reply": "2022-12-08T11:45:55.198074Z"
    },
    "papermill": {
     "duration": 0.10429,
     "end_time": "2022-12-08T11:45:55.201125",
     "exception": false,
     "start_time": "2022-12-08T11:45:55.096835",
     "status": "completed"
    },
    "tags": []
   },
   "outputs": [],
   "source": [
    "X_train = pd.DataFrame(X_train, columns=['A2', 'A3', 'A8', 'A11'])\n",
    "X_test = pd.DataFrame(X_test, columns=['A2', 'A3', 'A8', 'A11'])"
   ]
  },
  {
   "cell_type": "code",
   "execution_count": 121,
   "id": "58832a8f",
   "metadata": {
    "execution": {
     "iopub.execute_input": "2022-12-08T11:45:55.392440Z",
     "iopub.status.busy": "2022-12-08T11:45:55.391461Z",
     "iopub.status.idle": "2022-12-08T11:45:55.397048Z",
     "shell.execute_reply": "2022-12-08T11:45:55.396206Z"
    },
    "papermill": {
     "duration": 0.102544,
     "end_time": "2022-12-08T11:45:55.399247",
     "exception": false,
     "start_time": "2022-12-08T11:45:55.296703",
     "status": "completed"
    },
    "tags": []
   },
   "outputs": [],
   "source": [
    "imputer = ArbitraryNumberImputer(arbitrary_number=99,\n",
    "                                variables=['A2', 'A3', 'A8', 'A11'])"
   ]
  },
  {
   "cell_type": "code",
   "execution_count": 122,
   "id": "da6e0c99",
   "metadata": {
    "execution": {
     "iopub.execute_input": "2022-12-08T11:45:55.588945Z",
     "iopub.status.busy": "2022-12-08T11:45:55.588291Z",
     "iopub.status.idle": "2022-12-08T11:45:55.598531Z",
     "shell.execute_reply": "2022-12-08T11:45:55.597416Z"
    },
    "papermill": {
     "duration": 0.107182,
     "end_time": "2022-12-08T11:45:55.600981",
     "exception": false,
     "start_time": "2022-12-08T11:45:55.493799",
     "status": "completed"
    },
    "tags": []
   },
   "outputs": [
    {
     "data": {
      "text/plain": [
       "ArbitraryNumberImputer(arbitrary_number=99, variables=['A2', 'A3', 'A8', 'A11'])"
      ]
     },
     "execution_count": 122,
     "metadata": {},
     "output_type": "execute_result"
    }
   ],
   "source": [
    "imputer.fit(X_train)"
   ]
  },
  {
   "cell_type": "code",
   "execution_count": 123,
   "id": "810cffcd",
   "metadata": {
    "execution": {
     "iopub.execute_input": "2022-12-08T11:45:55.793347Z",
     "iopub.status.busy": "2022-12-08T11:45:55.792941Z",
     "iopub.status.idle": "2022-12-08T11:45:55.803742Z",
     "shell.execute_reply": "2022-12-08T11:45:55.802337Z"
    },
    "papermill": {
     "duration": 0.110851,
     "end_time": "2022-12-08T11:45:55.806543",
     "exception": false,
     "start_time": "2022-12-08T11:45:55.695692",
     "status": "completed"
    },
    "tags": []
   },
   "outputs": [],
   "source": [
    "X_train = imputer.transform(X_train)\n",
    "X_test = imputer.transform(X_test)"
   ]
  },
  {
   "cell_type": "markdown",
   "id": "c6525817",
   "metadata": {
    "papermill": {
     "duration": 0.094708,
     "end_time": "2022-12-08T11:45:55.996707",
     "exception": false,
     "start_time": "2022-12-08T11:45:55.901999",
     "status": "completed"
    },
    "tags": []
   },
   "source": [
    "**How it works...**\n",
    "\n",
    "In this recipe, we replaced missing values in numerical variables in the Credit Approval\n",
    "Data Set with an arbitrary number, 99, using pandas, scikit-learn, and Feature-engine. We loaded the data and divided it into train and test sets using `train_test_split()` from scikit-learn, as described in the Performing mean or median imputation recipe.\n",
    "\n",
    "To determine which arbitrary value to use, we inspected the maximum values of four\n",
    "numerical variables using the pandas `max()` method. Next, we chose a value, 99, that was bigger than the maximum values of the selected variables. In step 5, we used a for loop over the numerical variables to replace any missing data with the pandas `fillna()`\n",
    "method while passing 99 as an argument and setting the `inplace` argument to True in\n",
    "order to replace the values in the original dataframe.\n",
    "\n",
    "To replace missing values using scikit-learn, we called `SimpleImputer()`, set `strategy` to `constant`, and specified 99 as the arbitrary value in the `fill_value` argument. Next, we fitted the imputer to the train set with the `fit()` method and replaced missing values using the `transform()` method in the train and test sets. `SimpleImputer()` returned a NumPy array with the missing data replaced by 99.\n",
    "\n",
    "Finally, we replaced missing values with `ArbitraryValueImputer()` from Featureengine,\n",
    "specifying a value, 99, in the `arbitrary_number` argument. We also included the\n",
    "variables to impute in a list to the variables argument. Next, we applied the `fit()`\n",
    "method. `ArbitraryNumberimputer()` checked that the selected variables were numerical\n",
    "after applying the `fit()` method. With the `transform()` method, the missing values in\n",
    "the train and test sets were replaced"
   ]
  },
  {
   "cell_type": "markdown",
   "id": "d6e471fd",
   "metadata": {
    "papermill": {
     "duration": 0.094811,
     "end_time": "2022-12-08T11:45:56.193048",
     "exception": false,
     "start_time": "2022-12-08T11:45:56.098237",
     "status": "completed"
    },
    "tags": []
   },
   "source": [
    "# 2.5. Capturing missing values in a bespoke category"
   ]
  },
  {
   "cell_type": "markdown",
   "id": "f3a42f47",
   "metadata": {
    "papermill": {
     "duration": 0.093061,
     "end_time": "2022-12-08T11:45:56.379890",
     "exception": false,
     "start_time": "2022-12-08T11:45:56.286829",
     "status": "completed"
    },
    "tags": []
   },
   "source": [
    "Missing data in categorical variables can be treated as a different category, so it is common to replace missing values with the Missing string."
   ]
  },
  {
   "cell_type": "code",
   "execution_count": 124,
   "id": "52c6da18",
   "metadata": {
    "execution": {
     "iopub.execute_input": "2022-12-08T11:45:56.570266Z",
     "iopub.status.busy": "2022-12-08T11:45:56.569858Z",
     "iopub.status.idle": "2022-12-08T11:45:56.575374Z",
     "shell.execute_reply": "2022-12-08T11:45:56.574125Z"
    },
    "papermill": {
     "duration": 0.103936,
     "end_time": "2022-12-08T11:45:56.577865",
     "exception": false,
     "start_time": "2022-12-08T11:45:56.473929",
     "status": "completed"
    },
    "tags": []
   },
   "outputs": [],
   "source": [
    "import pandas as pd\n",
    "from sklearn.model_selection import train_test_split\n",
    "from sklearn.impute import SimpleImputer\n",
    "from feature_engine.imputation import CategoricalImputer"
   ]
  },
  {
   "cell_type": "code",
   "execution_count": 125,
   "id": "5cc6921e",
   "metadata": {
    "execution": {
     "iopub.execute_input": "2022-12-08T11:45:56.768693Z",
     "iopub.status.busy": "2022-12-08T11:45:56.768289Z",
     "iopub.status.idle": "2022-12-08T11:45:56.777190Z",
     "shell.execute_reply": "2022-12-08T11:45:56.776204Z"
    },
    "papermill": {
     "duration": 0.107333,
     "end_time": "2022-12-08T11:45:56.779426",
     "exception": false,
     "start_time": "2022-12-08T11:45:56.672093",
     "status": "completed"
    },
    "tags": []
   },
   "outputs": [],
   "source": [
    "data = pd.read_csv('/kaggle/working/creditApprovalUCI.csv')"
   ]
  },
  {
   "cell_type": "code",
   "execution_count": 126,
   "id": "06866a8b",
   "metadata": {
    "execution": {
     "iopub.execute_input": "2022-12-08T11:45:56.970527Z",
     "iopub.status.busy": "2022-12-08T11:45:56.970094Z",
     "iopub.status.idle": "2022-12-08T11:45:56.978107Z",
     "shell.execute_reply": "2022-12-08T11:45:56.977199Z"
    },
    "papermill": {
     "duration": 0.106011,
     "end_time": "2022-12-08T11:45:56.980258",
     "exception": false,
     "start_time": "2022-12-08T11:45:56.874247",
     "status": "completed"
    },
    "tags": []
   },
   "outputs": [],
   "source": [
    "X_train, X_test, y_train, y_test = train_test_split(\n",
    "    data.drop('A16', axis=1), data['A16'], test_size=0.3, random_state=0)"
   ]
  },
  {
   "cell_type": "code",
   "execution_count": 127,
   "id": "afb07381",
   "metadata": {
    "execution": {
     "iopub.execute_input": "2022-12-08T11:45:57.173307Z",
     "iopub.status.busy": "2022-12-08T11:45:57.172270Z",
     "iopub.status.idle": "2022-12-08T11:45:57.182171Z",
     "shell.execute_reply": "2022-12-08T11:45:57.181220Z"
    },
    "papermill": {
     "duration": 0.10927,
     "end_time": "2022-12-08T11:45:57.184417",
     "exception": false,
     "start_time": "2022-12-08T11:45:57.075147",
     "status": "completed"
    },
    "tags": []
   },
   "outputs": [],
   "source": [
    "for var in ['A4', 'A5', 'A6', 'A7']:\n",
    "    X_train[var].fillna('Missing', inplace=True)\n",
    "    X_test[var].fillna('Missing', inplace=True)"
   ]
  },
  {
   "cell_type": "code",
   "execution_count": 128,
   "id": "ab383c90",
   "metadata": {
    "execution": {
     "iopub.execute_input": "2022-12-08T11:45:57.374215Z",
     "iopub.status.busy": "2022-12-08T11:45:57.373490Z",
     "iopub.status.idle": "2022-12-08T11:45:57.380775Z",
     "shell.execute_reply": "2022-12-08T11:45:57.379800Z"
    },
    "papermill": {
     "duration": 0.105247,
     "end_time": "2022-12-08T11:45:57.383413",
     "exception": false,
     "start_time": "2022-12-08T11:45:57.278166",
     "status": "completed"
    },
    "tags": []
   },
   "outputs": [],
   "source": [
    "X_train, X_test, y_train, y_test = train_test_split(\n",
    "    data[['A4', 'A5', 'A6', 'A7']], data['A16'], test_size=0.3, \n",
    "    random_state=0)"
   ]
  },
  {
   "cell_type": "code",
   "execution_count": 129,
   "id": "f028c97d",
   "metadata": {
    "execution": {
     "iopub.execute_input": "2022-12-08T11:45:57.575234Z",
     "iopub.status.busy": "2022-12-08T11:45:57.574827Z",
     "iopub.status.idle": "2022-12-08T11:45:57.584286Z",
     "shell.execute_reply": "2022-12-08T11:45:57.583074Z"
    },
    "papermill": {
     "duration": 0.107106,
     "end_time": "2022-12-08T11:45:57.586675",
     "exception": false,
     "start_time": "2022-12-08T11:45:57.479569",
     "status": "completed"
    },
    "tags": []
   },
   "outputs": [
    {
     "data": {
      "text/plain": [
       "SimpleImputer(fill_value='Missing', strategy='constant')"
      ]
     },
     "execution_count": 129,
     "metadata": {},
     "output_type": "execute_result"
    }
   ],
   "source": [
    "imputer = SimpleImputer(strategy='constant', fill_value='Missing')\n",
    "imputer.fit(X_train)"
   ]
  },
  {
   "cell_type": "code",
   "execution_count": 130,
   "id": "9dbcfd52",
   "metadata": {
    "execution": {
     "iopub.execute_input": "2022-12-08T11:45:57.836837Z",
     "iopub.status.busy": "2022-12-08T11:45:57.836386Z",
     "iopub.status.idle": "2022-12-08T11:45:57.844409Z",
     "shell.execute_reply": "2022-12-08T11:45:57.843553Z"
    },
    "papermill": {
     "duration": 0.106877,
     "end_time": "2022-12-08T11:45:57.846856",
     "exception": false,
     "start_time": "2022-12-08T11:45:57.739979",
     "status": "completed"
    },
    "tags": []
   },
   "outputs": [],
   "source": [
    "X_train = imputer.transform(X_train)\n",
    "X_test = imputer.transform(X_test)"
   ]
  },
  {
   "cell_type": "code",
   "execution_count": 131,
   "id": "4048fecb",
   "metadata": {
    "execution": {
     "iopub.execute_input": "2022-12-08T11:45:58.037877Z",
     "iopub.status.busy": "2022-12-08T11:45:58.037092Z",
     "iopub.status.idle": "2022-12-08T11:45:58.042330Z",
     "shell.execute_reply": "2022-12-08T11:45:58.041552Z"
    },
    "papermill": {
     "duration": 0.103845,
     "end_time": "2022-12-08T11:45:58.044694",
     "exception": false,
     "start_time": "2022-12-08T11:45:57.940849",
     "status": "completed"
    },
    "tags": []
   },
   "outputs": [],
   "source": [
    "X_train = pd.DataFrame(X_train, columns=['A4', 'A5', 'A6', 'A7'])"
   ]
  },
  {
   "cell_type": "code",
   "execution_count": 132,
   "id": "62790a6d",
   "metadata": {
    "execution": {
     "iopub.execute_input": "2022-12-08T11:45:58.234893Z",
     "iopub.status.busy": "2022-12-08T11:45:58.234413Z",
     "iopub.status.idle": "2022-12-08T11:45:58.244898Z",
     "shell.execute_reply": "2022-12-08T11:45:58.244094Z"
    },
    "papermill": {
     "duration": 0.108381,
     "end_time": "2022-12-08T11:45:58.247107",
     "exception": false,
     "start_time": "2022-12-08T11:45:58.138726",
     "status": "completed"
    },
    "tags": []
   },
   "outputs": [
    {
     "data": {
      "text/plain": [
       "CategoricalImputer(variables=['A4', 'A5', 'A6', 'A7'])"
      ]
     },
     "execution_count": 132,
     "metadata": {},
     "output_type": "execute_result"
    }
   ],
   "source": [
    "imputer = CategoricalImputer(variables=['A4', 'A5', 'A6', 'A7'],\n",
    "                            imputation_method= 'missing')\n",
    "imputer.fit(X_train)"
   ]
  },
  {
   "cell_type": "code",
   "execution_count": 133,
   "id": "cb21b7eb",
   "metadata": {
    "execution": {
     "iopub.execute_input": "2022-12-08T11:45:58.440263Z",
     "iopub.status.busy": "2022-12-08T11:45:58.438888Z",
     "iopub.status.idle": "2022-12-08T11:45:58.445050Z",
     "shell.execute_reply": "2022-12-08T11:45:58.444160Z"
    },
    "papermill": {
     "duration": 0.104816,
     "end_time": "2022-12-08T11:45:58.447716",
     "exception": false,
     "start_time": "2022-12-08T11:45:58.342900",
     "status": "completed"
    },
    "tags": []
   },
   "outputs": [],
   "source": [
    "X_test = pd.DataFrame(X_test, columns=['A4', 'A5', 'A6', 'A7'])"
   ]
  },
  {
   "cell_type": "code",
   "execution_count": 134,
   "id": "9c052220",
   "metadata": {
    "execution": {
     "iopub.execute_input": "2022-12-08T11:45:58.642029Z",
     "iopub.status.busy": "2022-12-08T11:45:58.641253Z",
     "iopub.status.idle": "2022-12-08T11:45:58.651382Z",
     "shell.execute_reply": "2022-12-08T11:45:58.650548Z"
    },
    "papermill": {
     "duration": 0.110038,
     "end_time": "2022-12-08T11:45:58.653947",
     "exception": false,
     "start_time": "2022-12-08T11:45:58.543909",
     "status": "completed"
    },
    "tags": []
   },
   "outputs": [],
   "source": [
    "X_train = imputer.transform(X_train)\n",
    "X_test = imputer.transform(X_test)"
   ]
  },
  {
   "cell_type": "markdown",
   "id": "2814a214",
   "metadata": {
    "papermill": {
     "duration": 0.094617,
     "end_time": "2022-12-08T11:45:58.842918",
     "exception": false,
     "start_time": "2022-12-08T11:45:58.748301",
     "status": "completed"
    },
    "tags": []
   },
   "source": [
    "**How it works...**\n",
    "\n",
    "In this recipe, we replaced the missing values in categorical variables in the Credit\n",
    "Approval Data Set by using the `Missing` string using pandas, scikit-learn, and Featureengine. First, we loaded the data and divided it into train and test sets using\n",
    "`train_test_split()`, as described in the Performing mean or median imputation recipe. To impute missing data with pandas, we used the `fillna()` method, passed the\n",
    "Missing string as an argument and set `inplace=True` to replace the values directly in the original dataframe.\n",
    "\n",
    "To replace missing values using scikit-learn, we called `SimpleImputer()`, set `strategy` to constant, and added the `Missing` string to the `fill_value` argument. Next, we fitted the imputer to the train set and replaced missing values using the `transform()` method in the train and test sets, which returned NumPy arrays.\n",
    "\n",
    "Finally, we replaced missing values with `CategoricalImputer()` from Featureengine,\n",
    "specifying the variables to impute in a list. With the `fit()` method,\n",
    "`CategoricalImputer()` checked that the variables were categorical, and with\n",
    "`transform()` missing values were replaced with the `Missing` string in both train and test sets, thereby returning pandas dataframes.\n",
    "\n",
    "Note that, unlike `SimpleImputer()`, `CategoricalImputer()` will not impute numerical variables."
   ]
  },
  {
   "cell_type": "markdown",
   "id": "09fb94dd",
   "metadata": {
    "papermill": {
     "duration": 0.094115,
     "end_time": "2022-12-08T11:45:59.035070",
     "exception": false,
     "start_time": "2022-12-08T11:45:58.940955",
     "status": "completed"
    },
    "tags": []
   },
   "source": [
    "# 2.6. Replacing missing values with a value at the end of the distribution"
   ]
  },
  {
   "cell_type": "markdown",
   "id": "6133b273",
   "metadata": {
    "papermill": {
     "duration": 0.095952,
     "end_time": "2022-12-08T11:45:59.225349",
     "exception": false,
     "start_time": "2022-12-08T11:45:59.129397",
     "status": "completed"
    },
    "tags": []
   },
   "source": [
    "Replacing missing values with a value at the end of the variable distribution is equivalent to replacing them with an arbitrary value, but instead of identifying the arbitrary values manually, these values are automatically selected as those at the very end of the variable distribution."
   ]
  },
  {
   "cell_type": "code",
   "execution_count": 135,
   "id": "ccc6ff07",
   "metadata": {
    "execution": {
     "iopub.execute_input": "2022-12-08T11:45:59.423074Z",
     "iopub.status.busy": "2022-12-08T11:45:59.422238Z",
     "iopub.status.idle": "2022-12-08T11:45:59.427588Z",
     "shell.execute_reply": "2022-12-08T11:45:59.426750Z"
    },
    "papermill": {
     "duration": 0.108396,
     "end_time": "2022-12-08T11:45:59.429969",
     "exception": false,
     "start_time": "2022-12-08T11:45:59.321573",
     "status": "completed"
    },
    "tags": []
   },
   "outputs": [],
   "source": [
    "import pandas as pd\n",
    "from sklearn.model_selection import train_test_split\n",
    "from feature_engine.imputation import EndTailImputer"
   ]
  },
  {
   "cell_type": "code",
   "execution_count": 136,
   "id": "4986c52d",
   "metadata": {
    "execution": {
     "iopub.execute_input": "2022-12-08T11:45:59.624564Z",
     "iopub.status.busy": "2022-12-08T11:45:59.623762Z",
     "iopub.status.idle": "2022-12-08T11:45:59.633311Z",
     "shell.execute_reply": "2022-12-08T11:45:59.632299Z"
    },
    "papermill": {
     "duration": 0.108864,
     "end_time": "2022-12-08T11:45:59.636044",
     "exception": false,
     "start_time": "2022-12-08T11:45:59.527180",
     "status": "completed"
    },
    "tags": []
   },
   "outputs": [],
   "source": [
    "data = pd.read_csv('/kaggle/working/creditApprovalUCI.csv')"
   ]
  },
  {
   "cell_type": "code",
   "execution_count": 137,
   "id": "dd940faf",
   "metadata": {
    "execution": {
     "iopub.execute_input": "2022-12-08T11:45:59.836399Z",
     "iopub.status.busy": "2022-12-08T11:45:59.835586Z",
     "iopub.status.idle": "2022-12-08T11:45:59.847495Z",
     "shell.execute_reply": "2022-12-08T11:45:59.845802Z"
    },
    "papermill": {
     "duration": 0.119163,
     "end_time": "2022-12-08T11:45:59.851196",
     "exception": false,
     "start_time": "2022-12-08T11:45:59.732033",
     "status": "completed"
    },
    "tags": []
   },
   "outputs": [],
   "source": [
    "X_train, X_test, y_train, y_test = train_test_split(\n",
    "    data.drop('A16', axis=1),data['A16'], test_size=0.3,\n",
    "    random_state=0)"
   ]
  },
  {
   "cell_type": "code",
   "execution_count": 138,
   "id": "38ebb413",
   "metadata": {
    "execution": {
     "iopub.execute_input": "2022-12-08T11:46:00.117878Z",
     "iopub.status.busy": "2022-12-08T11:46:00.117026Z",
     "iopub.status.idle": "2022-12-08T11:46:00.144507Z",
     "shell.execute_reply": "2022-12-08T11:46:00.143346Z"
    },
    "papermill": {
     "duration": 0.172061,
     "end_time": "2022-12-08T11:46:00.147131",
     "exception": false,
     "start_time": "2022-12-08T11:45:59.975070",
     "status": "completed"
    },
    "tags": []
   },
   "outputs": [],
   "source": [
    "for var in ['A2', 'A3', 'A8', 'A11', 'A15']:\n",
    "    IQR = X_train[var].quantile(0.75) - X_train[var].quantile(0.25)\n",
    "    value = X_train[var].quantile(0.75) + 1.5 * IQR\n",
    "    \n",
    "    X_train[var] = X_train[var].fillna(value)\n",
    "    X_test[var] = X_test[var].fillna(value)"
   ]
  },
  {
   "cell_type": "code",
   "execution_count": 139,
   "id": "7b668646",
   "metadata": {
    "execution": {
     "iopub.execute_input": "2022-12-08T11:46:00.369399Z",
     "iopub.status.busy": "2022-12-08T11:46:00.368628Z",
     "iopub.status.idle": "2022-12-08T11:46:00.374242Z",
     "shell.execute_reply": "2022-12-08T11:46:00.373190Z"
    },
    "papermill": {
     "duration": 0.118288,
     "end_time": "2022-12-08T11:46:00.376981",
     "exception": false,
     "start_time": "2022-12-08T11:46:00.258693",
     "status": "completed"
    },
    "tags": []
   },
   "outputs": [],
   "source": [
    "imputer = EndTailImputer(imputation_method='gaussian', tail='right',\n",
    "                        variables=['A2', 'A3', 'A8', 'A11', 'A15'])"
   ]
  },
  {
   "cell_type": "code",
   "execution_count": 140,
   "id": "0463e4ab",
   "metadata": {
    "execution": {
     "iopub.execute_input": "2022-12-08T11:46:00.642834Z",
     "iopub.status.busy": "2022-12-08T11:46:00.642157Z",
     "iopub.status.idle": "2022-12-08T11:46:00.657895Z",
     "shell.execute_reply": "2022-12-08T11:46:00.656537Z"
    },
    "papermill": {
     "duration": 0.180686,
     "end_time": "2022-12-08T11:46:00.660462",
     "exception": false,
     "start_time": "2022-12-08T11:46:00.479776",
     "status": "completed"
    },
    "tags": []
   },
   "outputs": [
    {
     "data": {
      "text/plain": [
       "EndTailImputer(variables=['A2', 'A3', 'A8', 'A11', 'A15'])"
      ]
     },
     "execution_count": 140,
     "metadata": {},
     "output_type": "execute_result"
    }
   ],
   "source": [
    "imputer.fit(X_train)"
   ]
  },
  {
   "cell_type": "code",
   "execution_count": 141,
   "id": "419f7504",
   "metadata": {
    "execution": {
     "iopub.execute_input": "2022-12-08T11:46:00.868188Z",
     "iopub.status.busy": "2022-12-08T11:46:00.867574Z",
     "iopub.status.idle": "2022-12-08T11:46:00.873864Z",
     "shell.execute_reply": "2022-12-08T11:46:00.872936Z"
    },
    "papermill": {
     "duration": 0.116171,
     "end_time": "2022-12-08T11:46:00.876228",
     "exception": false,
     "start_time": "2022-12-08T11:46:00.760057",
     "status": "completed"
    },
    "tags": []
   },
   "outputs": [
    {
     "data": {
      "text/plain": [
       "{'A2': 71.35031102042569,\n",
       " 'A3': 25.854124379795593,\n",
       " 'A8': 13.675535600625324,\n",
       " 'A11': 18.320547522636247,\n",
       " 'A15': 12740.850618383225}"
      ]
     },
     "execution_count": 141,
     "metadata": {},
     "output_type": "execute_result"
    }
   ],
   "source": [
    "imputer.imputer_dict_"
   ]
  },
  {
   "cell_type": "code",
   "execution_count": 142,
   "id": "6f7ba3e0",
   "metadata": {
    "execution": {
     "iopub.execute_input": "2022-12-08T11:46:01.078704Z",
     "iopub.status.busy": "2022-12-08T11:46:01.078281Z",
     "iopub.status.idle": "2022-12-08T11:46:01.089896Z",
     "shell.execute_reply": "2022-12-08T11:46:01.088996Z"
    },
    "papermill": {
     "duration": 0.115483,
     "end_time": "2022-12-08T11:46:01.092505",
     "exception": false,
     "start_time": "2022-12-08T11:46:00.977022",
     "status": "completed"
    },
    "tags": []
   },
   "outputs": [],
   "source": [
    "X_train = imputer.transform(X_train)\n",
    "X_test = imputer.transform(X_test)"
   ]
  },
  {
   "cell_type": "code",
   "execution_count": 143,
   "id": "e4a10a40",
   "metadata": {
    "execution": {
     "iopub.execute_input": "2022-12-08T11:46:01.294186Z",
     "iopub.status.busy": "2022-12-08T11:46:01.293450Z",
     "iopub.status.idle": "2022-12-08T11:46:01.303384Z",
     "shell.execute_reply": "2022-12-08T11:46:01.302172Z"
    },
    "papermill": {
     "duration": 0.115694,
     "end_time": "2022-12-08T11:46:01.306019",
     "exception": false,
     "start_time": "2022-12-08T11:46:01.190325",
     "status": "completed"
    },
    "tags": []
   },
   "outputs": [
    {
     "data": {
      "text/plain": [
       "A2     0.0\n",
       "A3     0.0\n",
       "A8     0.0\n",
       "A11    0.0\n",
       "A15    0.0\n",
       "dtype: float64"
      ]
     },
     "execution_count": 143,
     "metadata": {},
     "output_type": "execute_result"
    }
   ],
   "source": [
    "X_train[['A2', 'A3', 'A8', 'A11', 'A15']].isnull().mean()"
   ]
  },
  {
   "cell_type": "markdown",
   "id": "7e06eca1",
   "metadata": {
    "papermill": {
     "duration": 0.101001,
     "end_time": "2022-12-08T11:46:01.501689",
     "exception": false,
     "start_time": "2022-12-08T11:46:01.400688",
     "status": "completed"
    },
    "tags": []
   },
   "source": [
    "**How it works...**\n",
    "\n",
    "In this recipe, we replaced the missing values in numerical variables with a value at the end of the distribution using pandas and Feature-engine. These values were calculated using the IQR proximity rule or the mean and standard deviation. First, we loaded the data and divided it into train and test sets using `train_test_split()`, as described in the Performing mean or median imputation recipe.\n",
    "\n",
    "To impute missing data with pandas, we calculated the values at the end of the\n",
    "distributions using the IQR proximity rule or the mean and standard deviation according to the formulas we described in the introduction to this recipe. We determined the quantiles using pandas `quantile()` and the mean and standard deviation using pandas `mean()` and `std()`. Next, we used pandas' `fillna()` to replace the missing values.\n",
    "\n",
    "We can set the `inplace` argument of `fillna()` to True to replace\n",
    "missing values in the original dataframe, or leave it as False to return a\n",
    "new Series with the imputed values.\n",
    "\n",
    "Finally, we replaced missing values with `EndTailImputer()` from Feature-engine. We set\n",
    "the `imputation_method` to `gaussian` to calculate the values with the IQR proximity rule and the `tail` to `'right'` to place values at the right tail. We also specified the variables to impute in a list to the `variables` argument.\n",
    "\n",
    "If we don't specify a list of numerical variables in the argument variables,\n",
    "`EndTailImputer()` will select all numerical variables in the train set.\n",
    "With the `fit()` method, imputer learned and stored the values in a dictionary in the\n",
    "`imputer_dict_` attribute. With the `transform()` method, the missing values were\n",
    "replaced, returning dataframes.\n",
    "\n",
    "If we don't specify a list of numerical variables in the argument variables,\n",
    "`EndTailImputer()` will select all numerical variables in the train set.\n",
    "\n",
    "With the `fit()` method, imputer learned and stored the values in a dictionary in the\n",
    "`imputer_dict_` attribute. With the `transform()` method, the missing values were\n",
    "replaced, returning dataframes."
   ]
  },
  {
   "cell_type": "markdown",
   "id": "0d4ca3d1",
   "metadata": {
    "papermill": {
     "duration": 0.101241,
     "end_time": "2022-12-08T11:46:01.701559",
     "exception": false,
     "start_time": "2022-12-08T11:46:01.600318",
     "status": "completed"
    },
    "tags": []
   },
   "source": [
    "# 2.7. Implementing random sample imputation"
   ]
  },
  {
   "cell_type": "markdown",
   "id": "1358cc6a",
   "metadata": {
    "papermill": {
     "duration": 0.095692,
     "end_time": "2022-12-08T11:46:01.897806",
     "exception": false,
     "start_time": "2022-12-08T11:46:01.802114",
     "status": "completed"
    },
    "tags": []
   },
   "source": [
    "Random sampling imputation consists of extracting random observations from the pool of\n",
    "available values in the variable. Random sampling imputation preserves the original\n",
    "distribution, which differs from the other imputation techniques we've discussed in this\n",
    "chapter and is suitable for numerical and categorical variables alike. In this recipe, we will implement random sample imputation with pandas and Feature-engine."
   ]
  },
  {
   "cell_type": "code",
   "execution_count": 144,
   "id": "a5aea609",
   "metadata": {
    "execution": {
     "iopub.execute_input": "2022-12-08T11:46:02.095034Z",
     "iopub.status.busy": "2022-12-08T11:46:02.093940Z",
     "iopub.status.idle": "2022-12-08T11:46:02.099207Z",
     "shell.execute_reply": "2022-12-08T11:46:02.098428Z"
    },
    "papermill": {
     "duration": 0.108539,
     "end_time": "2022-12-08T11:46:02.101403",
     "exception": false,
     "start_time": "2022-12-08T11:46:01.992864",
     "status": "completed"
    },
    "tags": []
   },
   "outputs": [],
   "source": [
    "import pandas as pd\n",
    "from sklearn.model_selection import train_test_split\n",
    "from feature_engine.imputation import RandomSampleImputer"
   ]
  },
  {
   "cell_type": "code",
   "execution_count": 145,
   "id": "3738cbfd",
   "metadata": {
    "execution": {
     "iopub.execute_input": "2022-12-08T11:46:02.298711Z",
     "iopub.status.busy": "2022-12-08T11:46:02.298058Z",
     "iopub.status.idle": "2022-12-08T11:46:02.308081Z",
     "shell.execute_reply": "2022-12-08T11:46:02.307145Z"
    },
    "papermill": {
     "duration": 0.112986,
     "end_time": "2022-12-08T11:46:02.310821",
     "exception": false,
     "start_time": "2022-12-08T11:46:02.197835",
     "status": "completed"
    },
    "tags": []
   },
   "outputs": [],
   "source": [
    "data = pd.read_csv(\"/kaggle/working/creditApprovalUCI.csv\")"
   ]
  },
  {
   "cell_type": "code",
   "execution_count": 146,
   "id": "c5d7fe4e",
   "metadata": {
    "execution": {
     "iopub.execute_input": "2022-12-08T11:46:02.503461Z",
     "iopub.status.busy": "2022-12-08T11:46:02.502746Z",
     "iopub.status.idle": "2022-12-08T11:46:02.510449Z",
     "shell.execute_reply": "2022-12-08T11:46:02.509664Z"
    },
    "papermill": {
     "duration": 0.106179,
     "end_time": "2022-12-08T11:46:02.512946",
     "exception": false,
     "start_time": "2022-12-08T11:46:02.406767",
     "status": "completed"
    },
    "tags": []
   },
   "outputs": [],
   "source": [
    "X_train, X_test, y_train, y_test = train_test_split(\n",
    "    data.drop('A16', axis=1), data['A16'], test_size=0.3,\n",
    "    random_state=0)"
   ]
  },
  {
   "cell_type": "code",
   "execution_count": 147,
   "id": "c7ce61db",
   "metadata": {
    "execution": {
     "iopub.execute_input": "2022-12-08T11:46:02.710273Z",
     "iopub.status.busy": "2022-12-08T11:46:02.709511Z",
     "iopub.status.idle": "2022-12-08T11:46:02.714926Z",
     "shell.execute_reply": "2022-12-08T11:46:02.714013Z"
    },
    "papermill": {
     "duration": 0.104948,
     "end_time": "2022-12-08T11:46:02.717606",
     "exception": false,
     "start_time": "2022-12-08T11:46:02.612658",
     "status": "completed"
    },
    "tags": []
   },
   "outputs": [],
   "source": [
    "number_na = X_train['A2'].isnull().sum()"
   ]
  },
  {
   "cell_type": "code",
   "execution_count": 148,
   "id": "b6a46a31",
   "metadata": {
    "execution": {
     "iopub.execute_input": "2022-12-08T11:46:02.911780Z",
     "iopub.status.busy": "2022-12-08T11:46:02.911011Z",
     "iopub.status.idle": "2022-12-08T11:46:02.917037Z",
     "shell.execute_reply": "2022-12-08T11:46:02.915990Z"
    },
    "papermill": {
     "duration": 0.104983,
     "end_time": "2022-12-08T11:46:02.919646",
     "exception": false,
     "start_time": "2022-12-08T11:46:02.814663",
     "status": "completed"
    },
    "tags": []
   },
   "outputs": [],
   "source": [
    "random_sample_train = X_train['A2'].dropna().sample(number_na,\n",
    "                                                   random_state=0)"
   ]
  },
  {
   "cell_type": "code",
   "execution_count": 149,
   "id": "f4fc5970",
   "metadata": {
    "execution": {
     "iopub.execute_input": "2022-12-08T11:46:03.120443Z",
     "iopub.status.busy": "2022-12-08T11:46:03.119641Z",
     "iopub.status.idle": "2022-12-08T11:46:03.126321Z",
     "shell.execute_reply": "2022-12-08T11:46:03.125101Z"
    },
    "papermill": {
     "duration": 0.112513,
     "end_time": "2022-12-08T11:46:03.128831",
     "exception": false,
     "start_time": "2022-12-08T11:46:03.016318",
     "status": "completed"
    },
    "tags": []
   },
   "outputs": [],
   "source": [
    "random_sample_train.index = X_train[X_train['A2'].isnull()].index"
   ]
  },
  {
   "cell_type": "code",
   "execution_count": 150,
   "id": "498a3a95",
   "metadata": {
    "execution": {
     "iopub.execute_input": "2022-12-08T11:46:03.331380Z",
     "iopub.status.busy": "2022-12-08T11:46:03.330281Z",
     "iopub.status.idle": "2022-12-08T11:46:03.337103Z",
     "shell.execute_reply": "2022-12-08T11:46:03.335874Z"
    },
    "papermill": {
     "duration": 0.110541,
     "end_time": "2022-12-08T11:46:03.339846",
     "exception": false,
     "start_time": "2022-12-08T11:46:03.229305",
     "status": "completed"
    },
    "tags": []
   },
   "outputs": [],
   "source": [
    "X_train.loc[X_train['A2'].isnull(), 'A2'] = random_sample_train"
   ]
  },
  {
   "cell_type": "code",
   "execution_count": 151,
   "id": "b0956202",
   "metadata": {
    "execution": {
     "iopub.execute_input": "2022-12-08T11:46:03.601742Z",
     "iopub.status.busy": "2022-12-08T11:46:03.601260Z",
     "iopub.status.idle": "2022-12-08T11:46:03.636319Z",
     "shell.execute_reply": "2022-12-08T11:46:03.635455Z"
    },
    "papermill": {
     "duration": 0.140321,
     "end_time": "2022-12-08T11:46:03.638944",
     "exception": false,
     "start_time": "2022-12-08T11:46:03.498623",
     "status": "completed"
    },
    "tags": []
   },
   "outputs": [],
   "source": [
    "for var in ['A1', 'A3', 'A4', 'A5', 'A6', 'A7', 'A8']:\n",
    "    \n",
    "    # extract a random sample\n",
    "    random_sample_train = X_train[var].dropna().sample(\n",
    "    X_train[var].isnull().sum(), random_state=0)\n",
    "    \n",
    "    random_sample_test = X_train[var].dropna().sample(\n",
    "    X_test[var].isnull().sum(), random_state=0)\n",
    "    \n",
    "    #re-index  the randomly extracted sample\n",
    "    random_sample_train.index = X_train[\n",
    "        X_train[var].isnull()].index\n",
    "    \n",
    "    #replace the NA\n",
    "    X_train.loc[X_train[var].isnull(), var] = random_sample_train\n",
    "    X_test.loc[X_test[var].isnull(), var] = random_sample_test"
   ]
  },
  {
   "cell_type": "code",
   "execution_count": 152,
   "id": "016f3cde",
   "metadata": {
    "execution": {
     "iopub.execute_input": "2022-12-08T11:46:03.834139Z",
     "iopub.status.busy": "2022-12-08T11:46:03.833360Z",
     "iopub.status.idle": "2022-12-08T11:46:03.842862Z",
     "shell.execute_reply": "2022-12-08T11:46:03.841561Z"
    },
    "papermill": {
     "duration": 0.109764,
     "end_time": "2022-12-08T11:46:03.845324",
     "exception": false,
     "start_time": "2022-12-08T11:46:03.735560",
     "status": "completed"
    },
    "tags": []
   },
   "outputs": [
    {
     "data": {
      "text/plain": [
       "RandomSampleImputer()"
      ]
     },
     "execution_count": 152,
     "metadata": {},
     "output_type": "execute_result"
    }
   ],
   "source": [
    "imputer = RandomSampleImputer()\n",
    "imputer.fit(X_train)"
   ]
  },
  {
   "cell_type": "code",
   "execution_count": 153,
   "id": "4122369a",
   "metadata": {
    "execution": {
     "iopub.execute_input": "2022-12-08T11:46:04.048108Z",
     "iopub.status.busy": "2022-12-08T11:46:04.047712Z",
     "iopub.status.idle": "2022-12-08T11:46:04.088514Z",
     "shell.execute_reply": "2022-12-08T11:46:04.086408Z"
    },
    "papermill": {
     "duration": 0.145607,
     "end_time": "2022-12-08T11:46:04.093109",
     "exception": false,
     "start_time": "2022-12-08T11:46:03.947502",
     "status": "completed"
    },
    "tags": []
   },
   "outputs": [],
   "source": [
    "X_train = imputer.transform(X_train)\n",
    "X_test = imputer.transform(X_test)"
   ]
  },
  {
   "cell_type": "markdown",
   "id": "6beca748",
   "metadata": {
    "papermill": {
     "duration": 0.098297,
     "end_time": "2022-12-08T11:46:04.307371",
     "exception": false,
     "start_time": "2022-12-08T11:46:04.209074",
     "status": "completed"
    },
    "tags": []
   },
   "source": [
    "**How it works...**\n",
    "\n",
    "In this recipe, we replaced missing values in the numerical and categorical variables of the Credit Approval Data Set with values extracted at random from the same variables using pandas and Feature-engine. First, we loaded the data and divided it into train and test sets using `train_test_split()`, as described in the Performing mean or median\n",
    "imputation recipe.\n",
    "\n",
    "To perform random sample imputation using pandas, we calculated the number of missing\n",
    "values in the variable using pandas `isnull()`, followed by `sum()`. Next, we used pandas `dropna()` to drop missing information from the original variable in the train set so that we extracted values from observations with data using pandas `sample()`. We extracted as many observations as there was missing data in the variable to impute. Next, we re-indexed the pandas Series with the randomly extracted values so that we could assign those to the missing observations in the original dataframe. Finally, we replaced the missing values with values extracted at random using pandas' `loc`, which takes the location of the rows with missing data and the name of the column to which the new values are to be assigned as arguments.\n",
    "\n",
    "We also carried out random sample imputation with `RandomSampleImputer()` from\n",
    "Feature-engine. With the `fit()` method, the `RandomSampleImputer()` stores a copy of\n",
    "the train set. With `transform()`, the imputer extracts values at random from the stored\n",
    "dataset and replaces the missing information with them, thereby returning complete\n",
    "pandas dataframes."
   ]
  },
  {
   "cell_type": "markdown",
   "id": "e8ea1e47",
   "metadata": {
    "papermill": {
     "duration": 0.095173,
     "end_time": "2022-12-08T11:46:04.497696",
     "exception": false,
     "start_time": "2022-12-08T11:46:04.402523",
     "status": "completed"
    },
    "tags": []
   },
   "source": [
    "# 2.8. Adding a missing value indicator variable"
   ]
  },
  {
   "cell_type": "markdown",
   "id": "621ede8b",
   "metadata": {
    "papermill": {
     "duration": 0.096727,
     "end_time": "2022-12-08T11:46:04.688956",
     "exception": false,
     "start_time": "2022-12-08T11:46:04.592229",
     "status": "completed"
    },
    "tags": []
   },
   "source": [
    "A missing indicator is a binary variable that specifies whether a value was missing for an observation (1) or not (0). It is common practice to replace missing observations by the mean, median, or mode while flagging those missing observations with a missing\n",
    "indicator, thus covering two angles: if the data was missing at random, this would be\n",
    "contemplated by the mean, median, or mode imputation, and if it wasn't, this would be\n",
    "captured by the missing indicator. In this recipe, we will learn how to add missing\n",
    "indicators using NumPy, scikit-learn, and Feature-engine."
   ]
  },
  {
   "cell_type": "code",
   "execution_count": 154,
   "id": "e8cd540e",
   "metadata": {
    "execution": {
     "iopub.execute_input": "2022-12-08T11:46:04.886463Z",
     "iopub.status.busy": "2022-12-08T11:46:04.885430Z",
     "iopub.status.idle": "2022-12-08T11:46:04.890406Z",
     "shell.execute_reply": "2022-12-08T11:46:04.889647Z"
    },
    "papermill": {
     "duration": 0.106083,
     "end_time": "2022-12-08T11:46:04.892892",
     "exception": false,
     "start_time": "2022-12-08T11:46:04.786809",
     "status": "completed"
    },
    "tags": []
   },
   "outputs": [],
   "source": [
    "import pandas as pd\n",
    "import numpy as np\n",
    "from sklearn.model_selection import train_test_split\n",
    "from sklearn.impute import MissingIndicator\n",
    "from feature_engine.imputation import AddMissingIndicator"
   ]
  },
  {
   "cell_type": "code",
   "execution_count": 155,
   "id": "ad3dce0e",
   "metadata": {
    "execution": {
     "iopub.execute_input": "2022-12-08T11:46:05.098743Z",
     "iopub.status.busy": "2022-12-08T11:46:05.098331Z",
     "iopub.status.idle": "2022-12-08T11:46:05.107346Z",
     "shell.execute_reply": "2022-12-08T11:46:05.106052Z"
    },
    "papermill": {
     "duration": 0.115095,
     "end_time": "2022-12-08T11:46:05.110042",
     "exception": false,
     "start_time": "2022-12-08T11:46:04.994947",
     "status": "completed"
    },
    "tags": []
   },
   "outputs": [],
   "source": [
    "data = pd.read_csv(\"/kaggle/working/creditApprovalUCI.csv\")"
   ]
  },
  {
   "cell_type": "code",
   "execution_count": 156,
   "id": "f87d545e",
   "metadata": {
    "execution": {
     "iopub.execute_input": "2022-12-08T11:46:05.313320Z",
     "iopub.status.busy": "2022-12-08T11:46:05.311995Z",
     "iopub.status.idle": "2022-12-08T11:46:05.321408Z",
     "shell.execute_reply": "2022-12-08T11:46:05.320090Z"
    },
    "papermill": {
     "duration": 0.114535,
     "end_time": "2022-12-08T11:46:05.324025",
     "exception": false,
     "start_time": "2022-12-08T11:46:05.209490",
     "status": "completed"
    },
    "tags": []
   },
   "outputs": [],
   "source": [
    "X_train, X_test, y_train, y_test = train_test_split(\n",
    "data.drop('A16', axis=1), data['A16'], test_size=0.3,\n",
    "random_state=0)"
   ]
  },
  {
   "cell_type": "code",
   "execution_count": 157,
   "id": "534b27cc",
   "metadata": {
    "execution": {
     "iopub.execute_input": "2022-12-08T11:46:05.527591Z",
     "iopub.status.busy": "2022-12-08T11:46:05.526238Z",
     "iopub.status.idle": "2022-12-08T11:46:05.542242Z",
     "shell.execute_reply": "2022-12-08T11:46:05.540950Z"
    },
    "papermill": {
     "duration": 0.121173,
     "end_time": "2022-12-08T11:46:05.544786",
     "exception": false,
     "start_time": "2022-12-08T11:46:05.423613",
     "status": "completed"
    },
    "tags": []
   },
   "outputs": [],
   "source": [
    "for var in ['A1', 'A3', 'A4', 'A5', 'A6', 'A7', 'A8']:\n",
    "    X_train[var + '_NA'] = np.where(X_train[var].isnull(), 1, 0)\n",
    "    X_test[var + '_NA'] = np.where(X_test[var].isnull(), 1, 0)"
   ]
  },
  {
   "cell_type": "code",
   "execution_count": 158,
   "id": "62a7b236",
   "metadata": {
    "execution": {
     "iopub.execute_input": "2022-12-08T11:46:05.738846Z",
     "iopub.status.busy": "2022-12-08T11:46:05.737985Z",
     "iopub.status.idle": "2022-12-08T11:46:05.765974Z",
     "shell.execute_reply": "2022-12-08T11:46:05.764843Z"
    },
    "papermill": {
     "duration": 0.127872,
     "end_time": "2022-12-08T11:46:05.768464",
     "exception": false,
     "start_time": "2022-12-08T11:46:05.640592",
     "status": "completed"
    },
    "tags": []
   },
   "outputs": [
    {
     "data": {
      "text/html": [
       "<div>\n",
       "<style scoped>\n",
       "    .dataframe tbody tr th:only-of-type {\n",
       "        vertical-align: middle;\n",
       "    }\n",
       "\n",
       "    .dataframe tbody tr th {\n",
       "        vertical-align: top;\n",
       "    }\n",
       "\n",
       "    .dataframe thead th {\n",
       "        text-align: right;\n",
       "    }\n",
       "</style>\n",
       "<table border=\"1\" class=\"dataframe\">\n",
       "  <thead>\n",
       "    <tr style=\"text-align: right;\">\n",
       "      <th></th>\n",
       "      <th>A1</th>\n",
       "      <th>A2</th>\n",
       "      <th>A3</th>\n",
       "      <th>A4</th>\n",
       "      <th>A5</th>\n",
       "      <th>A6</th>\n",
       "      <th>A7</th>\n",
       "      <th>A8</th>\n",
       "      <th>A9</th>\n",
       "      <th>A10</th>\n",
       "      <th>...</th>\n",
       "      <th>A13</th>\n",
       "      <th>A14</th>\n",
       "      <th>A15</th>\n",
       "      <th>A1_NA</th>\n",
       "      <th>A3_NA</th>\n",
       "      <th>A4_NA</th>\n",
       "      <th>A5_NA</th>\n",
       "      <th>A6_NA</th>\n",
       "      <th>A7_NA</th>\n",
       "      <th>A8_NA</th>\n",
       "    </tr>\n",
       "  </thead>\n",
       "  <tbody>\n",
       "    <tr>\n",
       "      <th>596</th>\n",
       "      <td>a</td>\n",
       "      <td>46.08</td>\n",
       "      <td>3.000</td>\n",
       "      <td>u</td>\n",
       "      <td>g</td>\n",
       "      <td>c</td>\n",
       "      <td>v</td>\n",
       "      <td>2.375</td>\n",
       "      <td>t</td>\n",
       "      <td>t</td>\n",
       "      <td>...</td>\n",
       "      <td>g</td>\n",
       "      <td>396.0</td>\n",
       "      <td>4159</td>\n",
       "      <td>0</td>\n",
       "      <td>0</td>\n",
       "      <td>0</td>\n",
       "      <td>0</td>\n",
       "      <td>0</td>\n",
       "      <td>0</td>\n",
       "      <td>0</td>\n",
       "    </tr>\n",
       "    <tr>\n",
       "      <th>303</th>\n",
       "      <td>a</td>\n",
       "      <td>15.92</td>\n",
       "      <td>2.875</td>\n",
       "      <td>u</td>\n",
       "      <td>g</td>\n",
       "      <td>q</td>\n",
       "      <td>v</td>\n",
       "      <td>0.085</td>\n",
       "      <td>f</td>\n",
       "      <td>f</td>\n",
       "      <td>...</td>\n",
       "      <td>g</td>\n",
       "      <td>120.0</td>\n",
       "      <td>0</td>\n",
       "      <td>0</td>\n",
       "      <td>0</td>\n",
       "      <td>0</td>\n",
       "      <td>0</td>\n",
       "      <td>0</td>\n",
       "      <td>0</td>\n",
       "      <td>0</td>\n",
       "    </tr>\n",
       "    <tr>\n",
       "      <th>204</th>\n",
       "      <td>b</td>\n",
       "      <td>36.33</td>\n",
       "      <td>2.125</td>\n",
       "      <td>y</td>\n",
       "      <td>p</td>\n",
       "      <td>w</td>\n",
       "      <td>v</td>\n",
       "      <td>0.085</td>\n",
       "      <td>t</td>\n",
       "      <td>t</td>\n",
       "      <td>...</td>\n",
       "      <td>g</td>\n",
       "      <td>50.0</td>\n",
       "      <td>1187</td>\n",
       "      <td>0</td>\n",
       "      <td>0</td>\n",
       "      <td>0</td>\n",
       "      <td>0</td>\n",
       "      <td>0</td>\n",
       "      <td>0</td>\n",
       "      <td>0</td>\n",
       "    </tr>\n",
       "    <tr>\n",
       "      <th>351</th>\n",
       "      <td>b</td>\n",
       "      <td>22.17</td>\n",
       "      <td>0.585</td>\n",
       "      <td>y</td>\n",
       "      <td>p</td>\n",
       "      <td>ff</td>\n",
       "      <td>ff</td>\n",
       "      <td>0.000</td>\n",
       "      <td>f</td>\n",
       "      <td>f</td>\n",
       "      <td>...</td>\n",
       "      <td>g</td>\n",
       "      <td>100.0</td>\n",
       "      <td>0</td>\n",
       "      <td>0</td>\n",
       "      <td>0</td>\n",
       "      <td>0</td>\n",
       "      <td>0</td>\n",
       "      <td>0</td>\n",
       "      <td>0</td>\n",
       "      <td>0</td>\n",
       "    </tr>\n",
       "    <tr>\n",
       "      <th>118</th>\n",
       "      <td>b</td>\n",
       "      <td>57.83</td>\n",
       "      <td>7.040</td>\n",
       "      <td>u</td>\n",
       "      <td>g</td>\n",
       "      <td>m</td>\n",
       "      <td>v</td>\n",
       "      <td>14.000</td>\n",
       "      <td>t</td>\n",
       "      <td>t</td>\n",
       "      <td>...</td>\n",
       "      <td>g</td>\n",
       "      <td>360.0</td>\n",
       "      <td>1332</td>\n",
       "      <td>0</td>\n",
       "      <td>0</td>\n",
       "      <td>0</td>\n",
       "      <td>0</td>\n",
       "      <td>0</td>\n",
       "      <td>0</td>\n",
       "      <td>0</td>\n",
       "    </tr>\n",
       "  </tbody>\n",
       "</table>\n",
       "<p>5 rows × 22 columns</p>\n",
       "</div>"
      ],
      "text/plain": [
       "    A1     A2     A3 A4 A5  A6  A7      A8 A9 A10  ...  A13    A14   A15  \\\n",
       "596  a  46.08  3.000  u  g   c   v   2.375  t   t  ...    g  396.0  4159   \n",
       "303  a  15.92  2.875  u  g   q   v   0.085  f   f  ...    g  120.0     0   \n",
       "204  b  36.33  2.125  y  p   w   v   0.085  t   t  ...    g   50.0  1187   \n",
       "351  b  22.17  0.585  y  p  ff  ff   0.000  f   f  ...    g  100.0     0   \n",
       "118  b  57.83  7.040  u  g   m   v  14.000  t   t  ...    g  360.0  1332   \n",
       "\n",
       "     A1_NA  A3_NA  A4_NA  A5_NA  A6_NA  A7_NA  A8_NA  \n",
       "596      0      0      0      0      0      0      0  \n",
       "303      0      0      0      0      0      0      0  \n",
       "204      0      0      0      0      0      0      0  \n",
       "351      0      0      0      0      0      0      0  \n",
       "118      0      0      0      0      0      0      0  \n",
       "\n",
       "[5 rows x 22 columns]"
      ]
     },
     "execution_count": 158,
     "metadata": {},
     "output_type": "execute_result"
    }
   ],
   "source": [
    "X_train.head()"
   ]
  },
  {
   "cell_type": "code",
   "execution_count": 159,
   "id": "131bd521",
   "metadata": {
    "execution": {
     "iopub.execute_input": "2022-12-08T11:46:05.964223Z",
     "iopub.status.busy": "2022-12-08T11:46:05.963133Z",
     "iopub.status.idle": "2022-12-08T11:46:05.968226Z",
     "shell.execute_reply": "2022-12-08T11:46:05.967121Z"
    },
    "papermill": {
     "duration": 0.105992,
     "end_time": "2022-12-08T11:46:05.970506",
     "exception": false,
     "start_time": "2022-12-08T11:46:05.864514",
     "status": "completed"
    },
    "tags": []
   },
   "outputs": [],
   "source": [
    "imputer = AddMissingIndicator()"
   ]
  },
  {
   "cell_type": "code",
   "execution_count": 160,
   "id": "d223b24f",
   "metadata": {
    "execution": {
     "iopub.execute_input": "2022-12-08T11:46:06.177337Z",
     "iopub.status.busy": "2022-12-08T11:46:06.176552Z",
     "iopub.status.idle": "2022-12-08T11:46:06.190256Z",
     "shell.execute_reply": "2022-12-08T11:46:06.189034Z"
    },
    "papermill": {
     "duration": 0.12567,
     "end_time": "2022-12-08T11:46:06.192526",
     "exception": false,
     "start_time": "2022-12-08T11:46:06.066856",
     "status": "completed"
    },
    "tags": []
   },
   "outputs": [
    {
     "data": {
      "text/plain": [
       "AddMissingIndicator()"
      ]
     },
     "execution_count": 160,
     "metadata": {},
     "output_type": "execute_result"
    }
   ],
   "source": [
    "imputer.fit(X_train)"
   ]
  },
  {
   "cell_type": "code",
   "execution_count": 161,
   "id": "7b2024d7",
   "metadata": {
    "execution": {
     "iopub.execute_input": "2022-12-08T11:46:06.386466Z",
     "iopub.status.busy": "2022-12-08T11:46:06.385804Z",
     "iopub.status.idle": "2022-12-08T11:46:06.404515Z",
     "shell.execute_reply": "2022-12-08T11:46:06.403567Z"
    },
    "papermill": {
     "duration": 0.118133,
     "end_time": "2022-12-08T11:46:06.407191",
     "exception": false,
     "start_time": "2022-12-08T11:46:06.289058",
     "status": "completed"
    },
    "tags": []
   },
   "outputs": [],
   "source": [
    "X_train = imputer.transform(X_train)\n",
    "X_test = imputer.transform(X_test)"
   ]
  },
  {
   "cell_type": "code",
   "execution_count": 162,
   "id": "65de23f0",
   "metadata": {
    "execution": {
     "iopub.execute_input": "2022-12-08T11:46:06.600113Z",
     "iopub.status.busy": "2022-12-08T11:46:06.599425Z",
     "iopub.status.idle": "2022-12-08T11:46:06.604363Z",
     "shell.execute_reply": "2022-12-08T11:46:06.603611Z"
    },
    "papermill": {
     "duration": 0.103571,
     "end_time": "2022-12-08T11:46:06.606676",
     "exception": false,
     "start_time": "2022-12-08T11:46:06.503105",
     "status": "completed"
    },
    "tags": []
   },
   "outputs": [],
   "source": [
    "indicator = MissingIndicator(features='missing-only')"
   ]
  },
  {
   "cell_type": "code",
   "execution_count": 163,
   "id": "c1829750",
   "metadata": {
    "execution": {
     "iopub.execute_input": "2022-12-08T11:46:06.801457Z",
     "iopub.status.busy": "2022-12-08T11:46:06.800821Z",
     "iopub.status.idle": "2022-12-08T11:46:06.812060Z",
     "shell.execute_reply": "2022-12-08T11:46:06.810798Z"
    },
    "papermill": {
     "duration": 0.112101,
     "end_time": "2022-12-08T11:46:06.814657",
     "exception": false,
     "start_time": "2022-12-08T11:46:06.702556",
     "status": "completed"
    },
    "tags": []
   },
   "outputs": [
    {
     "data": {
      "text/plain": [
       "MissingIndicator()"
      ]
     },
     "execution_count": 163,
     "metadata": {},
     "output_type": "execute_result"
    }
   ],
   "source": [
    "indicator.fit(X_train)"
   ]
  },
  {
   "cell_type": "code",
   "execution_count": 164,
   "id": "249e9575",
   "metadata": {
    "execution": {
     "iopub.execute_input": "2022-12-08T11:46:07.065633Z",
     "iopub.status.busy": "2022-12-08T11:46:07.065198Z",
     "iopub.status.idle": "2022-12-08T11:46:07.070518Z",
     "shell.execute_reply": "2022-12-08T11:46:07.069258Z"
    },
    "papermill": {
     "duration": 0.162529,
     "end_time": "2022-12-08T11:46:07.073084",
     "exception": false,
     "start_time": "2022-12-08T11:46:06.910555",
     "status": "completed"
    },
    "tags": []
   },
   "outputs": [],
   "source": [
    "indicator_cols = [c+ '_NA' for c in X_train.columns[indicator.features_]]"
   ]
  },
  {
   "cell_type": "code",
   "execution_count": 165,
   "id": "2b3a7a55",
   "metadata": {
    "execution": {
     "iopub.execute_input": "2022-12-08T11:46:07.267689Z",
     "iopub.status.busy": "2022-12-08T11:46:07.267257Z",
     "iopub.status.idle": "2022-12-08T11:46:07.279444Z",
     "shell.execute_reply": "2022-12-08T11:46:07.278389Z"
    },
    "papermill": {
     "duration": 0.111191,
     "end_time": "2022-12-08T11:46:07.282026",
     "exception": false,
     "start_time": "2022-12-08T11:46:07.170835",
     "status": "completed"
    },
    "tags": []
   },
   "outputs": [],
   "source": [
    "X_train = pd.concat([\n",
    "    X_train.reset_index(),\n",
    "    pd.DataFrame(indicator.transform(X_train),\n",
    "                columns = indicator_cols)], axis=1)"
   ]
  },
  {
   "cell_type": "markdown",
   "id": "c0cc149f",
   "metadata": {
    "papermill": {
     "duration": 0.096166,
     "end_time": "2022-12-08T11:46:07.474899",
     "exception": false,
     "start_time": "2022-12-08T11:46:07.378733",
     "status": "completed"
    },
    "tags": []
   },
   "source": [
    "**How it works...**\n",
    "\n",
    "In this recipe, we added missing value indicators to categorical and numerical variables in the Credit Approval Data Set using NumPy, scikit-learn, and Feature-engine. To add\n",
    "missing indicators using NumPy, we used the `where()` method, which created a new\n",
    "vector after scanning all the observations in a variable, assigning the value of 1 if there was a missing observation or 0 otherwise. We captured the indicators in columns with the name of the original variable, plus `_NA`.\n",
    "\n",
    "To add a missing indicator with Feature-engine, we created an instance of\n",
    "`AddMissingIndicator()` and fitted it to the train set. Then, we used the `transform()`\n",
    "method to add missing indicators to the train and test sets. Finally, to add missing\n",
    "indicators with scikit-learn, we created an instance of `MissingIndicator()` so that we\n",
    "only added indicators to variables with missing data. With the `fit()` method, the\n",
    "transformer identified variables with missing values. With `transform()`, it returned a\n",
    "NumPy array with binary indicators, which we captured in a dataframe and then\n",
    "concatenated to the original dataframe.\n",
    "\n",
    "We can add missing indicators using scikit-learn's `SimpleImputer()` by setting the\n",
    "`add_indicator` argument to True. For example, `mputer =\n",
    "SimpleImputer(strategy=’mean’, add_indicator=True)`i will return a NumPy array\n",
    "with missing indicators, plus the missing values in the original variables were replaced by the mean after using the `fit()` and `transform()` methods."
   ]
  },
  {
   "cell_type": "markdown",
   "id": "d483c755",
   "metadata": {
    "papermill": {
     "duration": 0.098257,
     "end_time": "2022-12-08T11:46:07.667902",
     "exception": false,
     "start_time": "2022-12-08T11:46:07.569645",
     "status": "completed"
    },
    "tags": []
   },
   "source": [
    "# 2.9. Performing multivariate imputation by chained equations"
   ]
  },
  {
   "cell_type": "markdown",
   "id": "d710d613",
   "metadata": {
    "papermill": {
     "duration": 0.094359,
     "end_time": "2022-12-08T11:46:07.860369",
     "exception": false,
     "start_time": "2022-12-08T11:46:07.766010",
     "status": "completed"
    },
    "tags": []
   },
   "source": [
    "Multivariate imputation methods, as opposed to univariate imputation, use the entire set of variables to estimate the missing values. In other words, the missing values of a variable are modeled based on the other variables in the dataset. Multivariate imputation by chained equations (MICE) is a multiple imputation technique that models each variable with missing values as a function of the remaining variables and uses that estimate for imputation."
   ]
  },
  {
   "cell_type": "code",
   "execution_count": 166,
   "id": "08428fe7",
   "metadata": {
    "execution": {
     "iopub.execute_input": "2022-12-08T11:46:08.052276Z",
     "iopub.status.busy": "2022-12-08T11:46:08.051897Z",
     "iopub.status.idle": "2022-12-08T11:46:08.062456Z",
     "shell.execute_reply": "2022-12-08T11:46:08.061440Z"
    },
    "papermill": {
     "duration": 0.11002,
     "end_time": "2022-12-08T11:46:08.065221",
     "exception": false,
     "start_time": "2022-12-08T11:46:07.955201",
     "status": "completed"
    },
    "tags": []
   },
   "outputs": [],
   "source": [
    "import pandas as pd\n",
    "from sklearn.model_selection import train_test_split\n",
    "from sklearn.linear_model import BayesianRidge\n",
    "from sklearn.experimental import enable_iterative_imputer\n",
    "from sklearn.impute import IterativeImputer"
   ]
  },
  {
   "cell_type": "code",
   "execution_count": 167,
   "id": "0105faf6",
   "metadata": {
    "execution": {
     "iopub.execute_input": "2022-12-08T11:46:08.260857Z",
     "iopub.status.busy": "2022-12-08T11:46:08.260378Z",
     "iopub.status.idle": "2022-12-08T11:46:08.269759Z",
     "shell.execute_reply": "2022-12-08T11:46:08.268677Z"
    },
    "papermill": {
     "duration": 0.110468,
     "end_time": "2022-12-08T11:46:08.272311",
     "exception": false,
     "start_time": "2022-12-08T11:46:08.161843",
     "status": "completed"
    },
    "tags": []
   },
   "outputs": [],
   "source": [
    "variables = ['A2', 'A3', 'A8', 'A11', 'A14', 'A15', 'A16']\n",
    "data = pd.read_csv('/kaggle/working/creditApprovalUCI.csv', usecols=variables)"
   ]
  },
  {
   "cell_type": "code",
   "execution_count": 168,
   "id": "665796e2",
   "metadata": {
    "execution": {
     "iopub.execute_input": "2022-12-08T11:46:08.466711Z",
     "iopub.status.busy": "2022-12-08T11:46:08.466272Z",
     "iopub.status.idle": "2022-12-08T11:46:08.475160Z",
     "shell.execute_reply": "2022-12-08T11:46:08.473848Z"
    },
    "papermill": {
     "duration": 0.109502,
     "end_time": "2022-12-08T11:46:08.477853",
     "exception": false,
     "start_time": "2022-12-08T11:46:08.368351",
     "status": "completed"
    },
    "tags": []
   },
   "outputs": [],
   "source": [
    "X_train, X_test, y_train, y_test = train_test_split(\n",
    "data.drop('A16', axis=1), data['A16'], test_size=0.3,\n",
    "random_state=0)"
   ]
  },
  {
   "cell_type": "code",
   "execution_count": 169,
   "id": "152cf93d",
   "metadata": {
    "execution": {
     "iopub.execute_input": "2022-12-08T11:46:08.672034Z",
     "iopub.status.busy": "2022-12-08T11:46:08.671443Z",
     "iopub.status.idle": "2022-12-08T11:46:08.676398Z",
     "shell.execute_reply": "2022-12-08T11:46:08.675357Z"
    },
    "papermill": {
     "duration": 0.105883,
     "end_time": "2022-12-08T11:46:08.678719",
     "exception": false,
     "start_time": "2022-12-08T11:46:08.572836",
     "status": "completed"
    },
    "tags": []
   },
   "outputs": [],
   "source": [
    "imputer = IterativeImputer(estimator = BayesianRidge(),\n",
    "                          max_iter=10, random_state=0)"
   ]
  },
  {
   "cell_type": "code",
   "execution_count": 170,
   "id": "80ee5a24",
   "metadata": {
    "execution": {
     "iopub.execute_input": "2022-12-08T11:46:08.875238Z",
     "iopub.status.busy": "2022-12-08T11:46:08.874431Z",
     "iopub.status.idle": "2022-12-08T11:46:08.911589Z",
     "shell.execute_reply": "2022-12-08T11:46:08.910414Z"
    },
    "papermill": {
     "duration": 0.13837,
     "end_time": "2022-12-08T11:46:08.914329",
     "exception": false,
     "start_time": "2022-12-08T11:46:08.775959",
     "status": "completed"
    },
    "tags": []
   },
   "outputs": [
    {
     "data": {
      "text/plain": [
       "IterativeImputer(estimator=BayesianRidge(), random_state=0)"
      ]
     },
     "execution_count": 170,
     "metadata": {},
     "output_type": "execute_result"
    }
   ],
   "source": [
    "imputer.fit(X_train)"
   ]
  },
  {
   "cell_type": "code",
   "execution_count": 171,
   "id": "1f4ca842",
   "metadata": {
    "execution": {
     "iopub.execute_input": "2022-12-08T11:46:09.106620Z",
     "iopub.status.busy": "2022-12-08T11:46:09.106190Z",
     "iopub.status.idle": "2022-12-08T11:46:09.118412Z",
     "shell.execute_reply": "2022-12-08T11:46:09.117429Z"
    },
    "papermill": {
     "duration": 0.111088,
     "end_time": "2022-12-08T11:46:09.120927",
     "exception": false,
     "start_time": "2022-12-08T11:46:09.009839",
     "status": "completed"
    },
    "tags": []
   },
   "outputs": [],
   "source": [
    "X_train = imputer.transform(X_train)\n",
    "X_test = imputer.transform(X_test)"
   ]
  },
  {
   "cell_type": "markdown",
   "id": "04d64ec8",
   "metadata": {
    "papermill": {
     "duration": 0.094555,
     "end_time": "2022-12-08T11:46:09.313850",
     "exception": false,
     "start_time": "2022-12-08T11:46:09.219295",
     "status": "completed"
    },
    "tags": []
   },
   "source": [
    "**How it works...**\n",
    "\n",
    "In this recipe, we performed MICE using `IterativeImputer()` from scikit-learn. First, we loaded data using pandas `read_csv()` and separated it into train and test sets using scikitlearn's `train_test_split()`. Next, we created a multivariate imputation object using the `IterativeImputer()` from scikit-learn. We specified that we wanted to estimate missing values using Bayes regression and that we wanted to carry out 10 rounds of imputation over the entire dataset. We fitted `IterativeImputer()` to the train set so that each variable was modeled based on the remaining variables in the dataset. Next, we transformed the train and test sets with the `transform()` method in order to replace\n",
    "missing data with their estimates."
   ]
  },
  {
   "cell_type": "markdown",
   "id": "eebb32bc",
   "metadata": {
    "papermill": {
     "duration": 0.104856,
     "end_time": "2022-12-08T11:46:09.515719",
     "exception": false,
     "start_time": "2022-12-08T11:46:09.410863",
     "status": "completed"
    },
    "tags": []
   },
   "source": [
    "Using `IterativeImputer()` from scikit-learn, we can model variables using multiple\n",
    "algorithms, such as Bayes, k-nearest neighbors, decision trees, and random forests. Perform the following steps to do so:"
   ]
  },
  {
   "cell_type": "code",
   "execution_count": 172,
   "id": "87c621fb",
   "metadata": {
    "execution": {
     "iopub.execute_input": "2022-12-08T11:46:09.713056Z",
     "iopub.status.busy": "2022-12-08T11:46:09.712238Z",
     "iopub.status.idle": "2022-12-08T11:46:09.824386Z",
     "shell.execute_reply": "2022-12-08T11:46:09.823241Z"
    },
    "papermill": {
     "duration": 0.213784,
     "end_time": "2022-12-08T11:46:09.827100",
     "exception": false,
     "start_time": "2022-12-08T11:46:09.613316",
     "status": "completed"
    },
    "tags": []
   },
   "outputs": [],
   "source": [
    "import pandas as pd\n",
    "import matplotlib.pyplot as plt\n",
    "from sklearn.model_selection import train_test_split\n",
    "from sklearn.linear_model import BayesianRidge\n",
    "from sklearn.tree import DecisionTreeRegressor\n",
    "from sklearn.ensemble import ExtraTreesRegressor\n",
    "from sklearn.neighbors import KNeighborsRegressor"
   ]
  },
  {
   "cell_type": "code",
   "execution_count": 173,
   "id": "09528be5",
   "metadata": {
    "execution": {
     "iopub.execute_input": "2022-12-08T11:46:10.023217Z",
     "iopub.status.busy": "2022-12-08T11:46:10.022791Z",
     "iopub.status.idle": "2022-12-08T11:46:10.035217Z",
     "shell.execute_reply": "2022-12-08T11:46:10.033612Z"
    },
    "papermill": {
     "duration": 0.114211,
     "end_time": "2022-12-08T11:46:10.038263",
     "exception": false,
     "start_time": "2022-12-08T11:46:09.924052",
     "status": "completed"
    },
    "tags": []
   },
   "outputs": [],
   "source": [
    "variables = ['A2', 'A3', 'A8', 'A11', 'A14', 'A15', 'A16']\n",
    "data = pd.read_csv('/kaggle/working/creditApprovalUCI.csv', usecols=variables)\n",
    "\n",
    "X_train, X_test, y_train, y_test = train_test_split(\n",
    "data.drop('A16', axis=1), data['A16'], test_size=0.3, \n",
    "random_state=0)"
   ]
  },
  {
   "cell_type": "code",
   "execution_count": 174,
   "id": "e61db50c",
   "metadata": {
    "execution": {
     "iopub.execute_input": "2022-12-08T11:46:10.294685Z",
     "iopub.status.busy": "2022-12-08T11:46:10.294183Z",
     "iopub.status.idle": "2022-12-08T11:46:10.301666Z",
     "shell.execute_reply": "2022-12-08T11:46:10.300535Z"
    },
    "papermill": {
     "duration": 0.109712,
     "end_time": "2022-12-08T11:46:10.303808",
     "exception": false,
     "start_time": "2022-12-08T11:46:10.194096",
     "status": "completed"
    },
    "tags": []
   },
   "outputs": [],
   "source": [
    "imputer_bayes = IterativeImputer(\n",
    "estimator=BayesianRidge(),\n",
    "max_iter=10,\n",
    "random_state=0)\n",
    "\n",
    "imputer_knn = IterativeImputer(\n",
    "estimator=KNeighborsRegressor(n_neighbors=5),\n",
    "max_iter=10,\n",
    "random_state=0)\n",
    "\n",
    "imputer_nonLin = IterativeImputer(\n",
    "estimator=DecisionTreeRegressor(\n",
    "max_features='sqrt', random_state=0),\n",
    "max_iter=10,\n",
    "random_state=0)\n",
    "\n",
    "imputer_missForest = IterativeImputer(\n",
    "estimator=ExtraTreesRegressor(\n",
    "n_estimators=10, random_state=0),\n",
    "max_iter=10,\n",
    "random_state=0)"
   ]
  },
  {
   "cell_type": "code",
   "execution_count": 175,
   "id": "869fe287",
   "metadata": {
    "execution": {
     "iopub.execute_input": "2022-12-08T11:46:10.497189Z",
     "iopub.status.busy": "2022-12-08T11:46:10.496742Z",
     "iopub.status.idle": "2022-12-08T11:46:11.701778Z",
     "shell.execute_reply": "2022-12-08T11:46:11.700160Z"
    },
    "papermill": {
     "duration": 1.304568,
     "end_time": "2022-12-08T11:46:11.704342",
     "exception": false,
     "start_time": "2022-12-08T11:46:10.399774",
     "status": "completed"
    },
    "tags": []
   },
   "outputs": [
    {
     "name": "stderr",
     "output_type": "stream",
     "text": [
      "/opt/conda/lib/python3.7/site-packages/sklearn/impute/_iterative.py:701: ConvergenceWarning: [IterativeImputer] Early stopping criterion not reached.\n",
      "  ConvergenceWarning,\n",
      "/opt/conda/lib/python3.7/site-packages/sklearn/impute/_iterative.py:701: ConvergenceWarning: [IterativeImputer] Early stopping criterion not reached.\n",
      "  ConvergenceWarning,\n"
     ]
    },
    {
     "data": {
      "text/plain": [
       "IterativeImputer(estimator=ExtraTreesRegressor(n_estimators=10, random_state=0),\n",
       "                 random_state=0)"
      ]
     },
     "execution_count": 175,
     "metadata": {},
     "output_type": "execute_result"
    }
   ],
   "source": [
    "imputer_bayes.fit(X_train)\n",
    "imputer_knn.fit(X_train)\n",
    "imputer_nonLin.fit(X_train)\n",
    "imputer_missForest.fit(X_train)"
   ]
  },
  {
   "cell_type": "code",
   "execution_count": 176,
   "id": "98b3088c",
   "metadata": {
    "execution": {
     "iopub.execute_input": "2022-12-08T11:46:11.897336Z",
     "iopub.status.busy": "2022-12-08T11:46:11.896316Z",
     "iopub.status.idle": "2022-12-08T11:46:11.990349Z",
     "shell.execute_reply": "2022-12-08T11:46:11.989213Z"
    },
    "papermill": {
     "duration": 0.193531,
     "end_time": "2022-12-08T11:46:11.992964",
     "exception": false,
     "start_time": "2022-12-08T11:46:11.799433",
     "status": "completed"
    },
    "tags": []
   },
   "outputs": [],
   "source": [
    "X_train_bayes = imputer_bayes.transform(X_train)\n",
    "X_train_knn = imputer_knn.transform(X_train)\n",
    "X_train_nonLin = imputer_nonLin.transform(X_train)\n",
    "X_train_missForest = imputer_missForest.transform(X_train)"
   ]
  },
  {
   "cell_type": "code",
   "execution_count": 177,
   "id": "f80203b3",
   "metadata": {
    "execution": {
     "iopub.execute_input": "2022-12-08T11:46:12.190902Z",
     "iopub.status.busy": "2022-12-08T11:46:12.190271Z",
     "iopub.status.idle": "2022-12-08T11:46:12.197895Z",
     "shell.execute_reply": "2022-12-08T11:46:12.196834Z"
    },
    "papermill": {
     "duration": 0.10973,
     "end_time": "2022-12-08T11:46:12.200097",
     "exception": false,
     "start_time": "2022-12-08T11:46:12.090367",
     "status": "completed"
    },
    "tags": []
   },
   "outputs": [],
   "source": [
    "predictors = [var for var in variables if var !='A16']\n",
    "X_train_bayes = pd.DataFrame(X_train_bayes, columns = predictors)\n",
    "X_train_knn = pd.DataFrame(X_train_knn, columns = predictors)\n",
    "X_train_nonLin = pd.DataFrame(X_train_nonLin, columns = predictors)\n",
    "X_train_missForest = pd.DataFrame(X_train_missForest, columns = predictors)"
   ]
  },
  {
   "cell_type": "code",
   "execution_count": 178,
   "id": "2d713a79",
   "metadata": {
    "execution": {
     "iopub.execute_input": "2022-12-08T11:46:12.400225Z",
     "iopub.status.busy": "2022-12-08T11:46:12.399801Z",
     "iopub.status.idle": "2022-12-08T11:46:12.718672Z",
     "shell.execute_reply": "2022-12-08T11:46:12.717420Z"
    },
    "papermill": {
     "duration": 0.420988,
     "end_time": "2022-12-08T11:46:12.721416",
     "exception": false,
     "start_time": "2022-12-08T11:46:12.300428",
     "status": "completed"
    },
    "tags": []
   },
   "outputs": [
    {
     "data": {
      "image/png": "[encoded data removed]",
      "text/plain": [
       "<Figure size 432x288 with 1 Axes>"
      ]
     },
     "metadata": {
      "needs_background": "light"
     },
     "output_type": "display_data"
    }
   ],
   "source": [
    "fig = plt.figure()\n",
    "ax = fig.add_subplot(111)\n",
    "\n",
    "X_train['A3'].plot(kind='kde', ax=ax, color='blue')\n",
    "X_train_bayes['A3'].plot(kind='kde', ax=ax, color='green')\n",
    "X_train_knn['A3'].plot(kind='kde', ax=ax, color='red')\n",
    "X_train_nonLin['A3'].plot(kind='kde', ax=ax, color='black')\n",
    "X_train_missForest['A3'].plot(kind='kde', ax=ax, color='orange')\n",
    "# add legends\n",
    "lines, labels = ax.get_legend_handles_labels()\n",
    "labels = ['A3 original', 'A3 bayes', 'A3 knn', \n",
    "          'A3 Trees', 'A3 missForest']\n",
    "ax.legend(lines, labels, loc='best')\n",
    "plt.show()"
   ]
  },
  {
   "cell_type": "markdown",
   "id": "5046996a",
   "metadata": {
    "papermill": {
     "duration": 0.095716,
     "end_time": "2022-12-08T11:46:12.913569",
     "exception": false,
     "start_time": "2022-12-08T11:46:12.817853",
     "status": "completed"
    },
    "tags": []
   },
   "source": [
    "# 2.10. Assembling an imputation pipeline with scikit-learn"
   ]
  },
  {
   "cell_type": "markdown",
   "id": "f9ea48b1",
   "metadata": {
    "papermill": {
     "duration": 0.097707,
     "end_time": "2022-12-08T11:46:13.111025",
     "exception": false,
     "start_time": "2022-12-08T11:46:13.013318",
     "status": "completed"
    },
    "tags": []
   },
   "source": [
    "Datasets often contain a mix of numerical and categorical variables. In addition, some\n",
    "variables may contain a few missing data points, while others will contain quite a big\n",
    "proportion. The mechanisms by which data is missing may also vary among variables.\n",
    "Thus, we may wish to perform different imputation procedures for different variables. In\n",
    "this recipe, we will learn how to perform different imputation procedures for different\n",
    "feature subsets using scikit-learn."
   ]
  },
  {
   "cell_type": "code",
   "execution_count": 179,
   "id": "60c9af41",
   "metadata": {
    "execution": {
     "iopub.execute_input": "2022-12-08T11:46:13.307708Z",
     "iopub.status.busy": "2022-12-08T11:46:13.307275Z",
     "iopub.status.idle": "2022-12-08T11:46:13.320153Z",
     "shell.execute_reply": "2022-12-08T11:46:13.319259Z"
    },
    "papermill": {
     "duration": 0.113752,
     "end_time": "2022-12-08T11:46:13.322603",
     "exception": false,
     "start_time": "2022-12-08T11:46:13.208851",
     "status": "completed"
    },
    "tags": []
   },
   "outputs": [],
   "source": [
    "import pandas as pd\n",
    "from sklearn.compose import ColumnTransformer\n",
    "from sklearn.pipeline import Pipeline\n",
    "from sklearn.impute import SimpleImputer\n",
    "from sklearn.model_selection import train_test_split"
   ]
  },
  {
   "cell_type": "code",
   "execution_count": 180,
   "id": "889c5b88",
   "metadata": {
    "execution": {
     "iopub.execute_input": "2022-12-08T11:46:13.517247Z",
     "iopub.status.busy": "2022-12-08T11:46:13.516865Z",
     "iopub.status.idle": "2022-12-08T11:46:13.527008Z",
     "shell.execute_reply": "2022-12-08T11:46:13.525526Z"
    },
    "papermill": {
     "duration": 0.110247,
     "end_time": "2022-12-08T11:46:13.529756",
     "exception": false,
     "start_time": "2022-12-08T11:46:13.419509",
     "status": "completed"
    },
    "tags": []
   },
   "outputs": [],
   "source": [
    "data = pd.read_csv('/kaggle/working/creditApprovalUCI.csv')"
   ]
  },
  {
   "cell_type": "code",
   "execution_count": 181,
   "id": "5024eb30",
   "metadata": {
    "execution": {
     "iopub.execute_input": "2022-12-08T11:46:13.723528Z",
     "iopub.status.busy": "2022-12-08T11:46:13.723098Z",
     "iopub.status.idle": "2022-12-08T11:46:13.731930Z",
     "shell.execute_reply": "2022-12-08T11:46:13.730875Z"
    },
    "papermill": {
     "duration": 0.109126,
     "end_time": "2022-12-08T11:46:13.734273",
     "exception": false,
     "start_time": "2022-12-08T11:46:13.625147",
     "status": "completed"
    },
    "tags": []
   },
   "outputs": [],
   "source": [
    "X_train, X_test, y_train, y_test = train_test_split(\n",
    "data.drop('A16', axis=1), data['A16'], test_size=0.3,\n",
    "random_state=0)"
   ]
  },
  {
   "cell_type": "code",
   "execution_count": 182,
   "id": "6d25ff75",
   "metadata": {
    "execution": {
     "iopub.execute_input": "2022-12-08T11:46:13.932652Z",
     "iopub.status.busy": "2022-12-08T11:46:13.932230Z",
     "iopub.status.idle": "2022-12-08T11:46:13.937612Z",
     "shell.execute_reply": "2022-12-08T11:46:13.936424Z"
    },
    "papermill": {
     "duration": 0.105548,
     "end_time": "2022-12-08T11:46:13.940080",
     "exception": false,
     "start_time": "2022-12-08T11:46:13.834532",
     "status": "completed"
    },
    "tags": []
   },
   "outputs": [],
   "source": [
    "features_num_arbitrary = ['A3', 'A8']\n",
    "features_num_median = ['A2', 'A14']\n",
    "features_cat_frequent = ['A4', 'A5', 'A6', 'A7']\n",
    "features_cat_missing = ['A1', 'A9', 'A10']"
   ]
  },
  {
   "cell_type": "code",
   "execution_count": 183,
   "id": "d1d508bd",
   "metadata": {
    "execution": {
     "iopub.execute_input": "2022-12-08T11:46:14.139157Z",
     "iopub.status.busy": "2022-12-08T11:46:14.138759Z",
     "iopub.status.idle": "2022-12-08T11:46:14.146417Z",
     "shell.execute_reply": "2022-12-08T11:46:14.145258Z"
    },
    "papermill": {
     "duration": 0.111533,
     "end_time": "2022-12-08T11:46:14.148905",
     "exception": false,
     "start_time": "2022-12-08T11:46:14.037372",
     "status": "completed"
    },
    "tags": []
   },
   "outputs": [],
   "source": [
    "imputer_num_arbitrary = Pipeline(steps=[\n",
    "('imputer', SimpleImputer(strategy='constant', fill_value=99)),\n",
    "])\n",
    "imputer_num_median = Pipeline(steps=[\n",
    "('imputer', SimpleImputer(strategy='median')),\n",
    "])\n",
    "imputer_cat_frequent = Pipeline(steps=[\n",
    "('imputer', SimpleImputer(strategy='most_frequent')),\n",
    "])\n",
    "imputer_cat_missing = Pipeline(steps=[\n",
    "('imputer', SimpleImputer(strategy='constant',\n",
    "fill_value='Missing')),\n",
    "])"
   ]
  },
  {
   "cell_type": "code",
   "execution_count": 184,
   "id": "b89be58e",
   "metadata": {
    "execution": {
     "iopub.execute_input": "2022-12-08T11:46:14.346835Z",
     "iopub.status.busy": "2022-12-08T11:46:14.345951Z",
     "iopub.status.idle": "2022-12-08T11:46:14.352666Z",
     "shell.execute_reply": "2022-12-08T11:46:14.351300Z"
    },
    "papermill": {
     "duration": 0.10788,
     "end_time": "2022-12-08T11:46:14.355322",
     "exception": false,
     "start_time": "2022-12-08T11:46:14.247442",
     "status": "completed"
    },
    "tags": []
   },
   "outputs": [],
   "source": [
    "preprocessor = ColumnTransformer(transformers=[\n",
    "    ('imp_num_arbitrary', imputer_num_arbitrary,\n",
    "    features_num_arbitrary),\n",
    "    ('imp_num_median', imputer_num_median, features_num_median),\n",
    "    ('imp_cat_frequent', imputer_cat_frequent, features_cat_frequent),\n",
    "    ('imp_cat_missing', imputer_cat_missing, features_cat_missing),], \n",
    "                                  remainder='passthrough')"
   ]
  },
  {
   "cell_type": "code",
   "execution_count": 185,
   "id": "9aed60de",
   "metadata": {
    "execution": {
     "iopub.execute_input": "2022-12-08T11:46:14.554656Z",
     "iopub.status.busy": "2022-12-08T11:46:14.554229Z",
     "iopub.status.idle": "2022-12-08T11:46:14.596978Z",
     "shell.execute_reply": "2022-12-08T11:46:14.595823Z"
    },
    "papermill": {
     "duration": 0.145786,
     "end_time": "2022-12-08T11:46:14.599537",
     "exception": false,
     "start_time": "2022-12-08T11:46:14.453751",
     "status": "completed"
    },
    "tags": []
   },
   "outputs": [
    {
     "data": {
      "text/plain": [
       "ColumnTransformer(remainder='passthrough',\n",
       "                  transformers=[('imp_num_arbitrary',\n",
       "                                 Pipeline(steps=[('imputer',\n",
       "                                                  SimpleImputer(fill_value=99,\n",
       "                                                                strategy='constant'))]),\n",
       "                                 ['A3', 'A8']),\n",
       "                                ('imp_num_median',\n",
       "                                 Pipeline(steps=[('imputer',\n",
       "                                                  SimpleImputer(strategy='median'))]),\n",
       "                                 ['A2', 'A14']),\n",
       "                                ('imp_cat_frequent',\n",
       "                                 Pipeline(steps=[('imputer',\n",
       "                                                  SimpleImputer(strategy='most_frequent'))]),\n",
       "                                 ['A4', 'A5', 'A6', 'A7']),\n",
       "                                ('imp_cat_missing',\n",
       "                                 Pipeline(steps=[('imputer',\n",
       "                                                  SimpleImputer(fill_value='Missing',\n",
       "                                                                strategy='constant'))]),\n",
       "                                 ['A1', 'A9', 'A10'])])"
      ]
     },
     "execution_count": 185,
     "metadata": {},
     "output_type": "execute_result"
    }
   ],
   "source": [
    "preprocessor.fit(X_train)"
   ]
  },
  {
   "cell_type": "code",
   "execution_count": 186,
   "id": "db752e26",
   "metadata": {
    "execution": {
     "iopub.execute_input": "2022-12-08T11:46:14.856366Z",
     "iopub.status.busy": "2022-12-08T11:46:14.855616Z",
     "iopub.status.idle": "2022-12-08T11:46:14.881458Z",
     "shell.execute_reply": "2022-12-08T11:46:14.880615Z"
    },
    "papermill": {
     "duration": 0.130627,
     "end_time": "2022-12-08T11:46:14.883999",
     "exception": false,
     "start_time": "2022-12-08T11:46:14.753372",
     "status": "completed"
    },
    "tags": []
   },
   "outputs": [],
   "source": [
    "X_train = preprocessor.transform(X_train)\n",
    "X_test = preprocessor.transform(X_test)"
   ]
  },
  {
   "cell_type": "markdown",
   "id": "6d9f87e7",
   "metadata": {
    "papermill": {
     "duration": 0.098399,
     "end_time": "2022-12-08T11:46:15.079119",
     "exception": false,
     "start_time": "2022-12-08T11:46:14.980720",
     "status": "completed"
    },
    "tags": []
   },
   "source": [
    "**How it works...**\n",
    "\n",
    "In this recipe, we carried out different imputation techniques over different variable groups using scikit-learn's `SimpleImputer()` and `ColumnTransformer()`.\n",
    "\n",
    "After loading and dividing the dataset, we created four lists of features. The first list contained numerical variables to impute with an arbitrary value. The second list contained numerical variables to impute by the median. The third list contained categorical variables to impute by a frequent category. Finally, the fourth list contained categorical variables to impute with the `Missing` string.\n",
    "\n",
    "Next, we created multiple imputation objects using `SimpleImputer()` in a scikit-learn\n",
    "pipeline. To assemble each `Pipeline()`, we gave each step a name with a string. In our\n",
    "example, we used imputer. Next to this, we created the imputation object with\n",
    "`SimpleImputer()`, varying the strategy for the different imputation techniques.\n",
    "\n",
    "Next, we arranged pipelines with different imputation strategies within\n",
    "`ColumnTransformer()`. To set up `ColumnTransformer()`, we gave each step a name\n",
    "with a string. Then, we added one of the created pipelines and the list with the features which should be imputed with said pipeline.\n",
    "\n",
    "Next, we fitted `ColumnTransformer()` to the train set, where the imputers learned the\n",
    "values to be used to replace missing data from the train set. Finally, we imputed the\n",
    "missing values in the train and test sets, using the `transform()` method of\n",
    "`ColumnTransformer()` to obtain complete NumPy arrays."
   ]
  },
  {
   "cell_type": "markdown",
   "id": "8c89a8cc",
   "metadata": {
    "papermill": {
     "duration": 0.09676,
     "end_time": "2022-12-08T11:46:15.301290",
     "exception": false,
     "start_time": "2022-12-08T11:46:15.204530",
     "status": "completed"
    },
    "tags": []
   },
   "source": [
    "# 2.11. Asembling an imputation pipeline with Feature-engine"
   ]
  },
  {
   "cell_type": "markdown",
   "id": "c1e4545b",
   "metadata": {
    "papermill": {
     "duration": 0.098452,
     "end_time": "2022-12-08T11:46:15.495528",
     "exception": false,
     "start_time": "2022-12-08T11:46:15.397076",
     "status": "completed"
    },
    "tags": []
   },
   "source": [
    "Feature-engine is an open source Python library that allows us to easily implement\n",
    "different imputation techniques for different feature subsets. Often, our datasets contain a mix of numerical and categorical variables, with few or many missing values. Therefore, we normally perform different imputation techniques on different variables, depending on the nature of the variable and the machine learning algorithm we want to build. With Featureengine, we can assemble multiple imputation techniques in a single step, and in this recipe, we will learn how to do this."
   ]
  },
  {
   "cell_type": "code",
   "execution_count": 187,
   "id": "cab7c453",
   "metadata": {
    "execution": {
     "iopub.execute_input": "2022-12-08T11:46:15.690797Z",
     "iopub.status.busy": "2022-12-08T11:46:15.690351Z",
     "iopub.status.idle": "2022-12-08T11:46:15.695499Z",
     "shell.execute_reply": "2022-12-08T11:46:15.694613Z"
    },
    "papermill": {
     "duration": 0.105813,
     "end_time": "2022-12-08T11:46:15.697620",
     "exception": false,
     "start_time": "2022-12-08T11:46:15.591807",
     "status": "completed"
    },
    "tags": []
   },
   "outputs": [],
   "source": [
    "import pandas as pd\n",
    "from sklearn.model_selection import train_test_split\n",
    "from sklearn.pipeline import Pipeline\n",
    "import feature_engine.imputation as mdi"
   ]
  },
  {
   "cell_type": "code",
   "execution_count": 188,
   "id": "09f03d67",
   "metadata": {
    "execution": {
     "iopub.execute_input": "2022-12-08T11:46:15.896374Z",
     "iopub.status.busy": "2022-12-08T11:46:15.895737Z",
     "iopub.status.idle": "2022-12-08T11:46:15.904214Z",
     "shell.execute_reply": "2022-12-08T11:46:15.903363Z"
    },
    "papermill": {
     "duration": 0.112978,
     "end_time": "2022-12-08T11:46:15.906613",
     "exception": false,
     "start_time": "2022-12-08T11:46:15.793635",
     "status": "completed"
    },
    "tags": []
   },
   "outputs": [],
   "source": [
    "data = pd.read_csv('/kaggle/working/creditApprovalUCI.csv')"
   ]
  },
  {
   "cell_type": "code",
   "execution_count": 189,
   "id": "71bb5e86",
   "metadata": {
    "execution": {
     "iopub.execute_input": "2022-12-08T11:46:16.106140Z",
     "iopub.status.busy": "2022-12-08T11:46:16.105730Z",
     "iopub.status.idle": "2022-12-08T11:46:16.114128Z",
     "shell.execute_reply": "2022-12-08T11:46:16.112996Z"
    },
    "papermill": {
     "duration": 0.114009,
     "end_time": "2022-12-08T11:46:16.116766",
     "exception": false,
     "start_time": "2022-12-08T11:46:16.002757",
     "status": "completed"
    },
    "tags": []
   },
   "outputs": [],
   "source": [
    "X_train, X_test, y_train, y_test = train_test_split(\n",
    "data.drop('A16', axis=1), data['A16'], test_size=0.3,\n",
    "random_state=0)"
   ]
  },
  {
   "cell_type": "code",
   "execution_count": 190,
   "id": "c03f633a",
   "metadata": {
    "execution": {
     "iopub.execute_input": "2022-12-08T11:46:16.313517Z",
     "iopub.status.busy": "2022-12-08T11:46:16.312938Z",
     "iopub.status.idle": "2022-12-08T11:46:16.318301Z",
     "shell.execute_reply": "2022-12-08T11:46:16.317075Z"
    },
    "papermill": {
     "duration": 0.105681,
     "end_time": "2022-12-08T11:46:16.320769",
     "exception": false,
     "start_time": "2022-12-08T11:46:16.215088",
     "status": "completed"
    },
    "tags": []
   },
   "outputs": [],
   "source": [
    "features_num_arbitrary = ['A3', 'A8']\n",
    "features_num_median = ['A2', 'A14']\n",
    "features_cat_frequent = ['A4', 'A5', 'A6', 'A7']\n",
    "features_cat_missing = ['A1', 'A9', 'A10']"
   ]
  },
  {
   "cell_type": "code",
   "execution_count": 191,
   "id": "04bbdf9a",
   "metadata": {
    "execution": {
     "iopub.execute_input": "2022-12-08T11:46:16.516227Z",
     "iopub.status.busy": "2022-12-08T11:46:16.515830Z",
     "iopub.status.idle": "2022-12-08T11:46:16.522467Z",
     "shell.execute_reply": "2022-12-08T11:46:16.521276Z"
    },
    "papermill": {
     "duration": 0.106949,
     "end_time": "2022-12-08T11:46:16.524965",
     "exception": false,
     "start_time": "2022-12-08T11:46:16.418016",
     "status": "completed"
    },
    "tags": []
   },
   "outputs": [],
   "source": [
    " pipe = Pipeline(steps=[\n",
    "('imp_num_arbitrary', mdi.ArbitraryNumberImputer(\n",
    "variables = features_num_arbitrary)),\n",
    "('imp_num_median', mdi.MeanMedianImputer(\n",
    "imputation_method = 'median',\n",
    "variables=features_num_median)),\n",
    "('imp_cat_frequent', mdi.CategoricalImputer(\n",
    "imputation_method = 'frequent', variables = features_cat_frequent)),\n",
    "('imp_cat_missing', mdi.CategoricalImputer(\n",
    "variables=features_cat_missing))\n",
    "])"
   ]
  },
  {
   "cell_type": "code",
   "execution_count": 192,
   "id": "14e7c6bb",
   "metadata": {
    "execution": {
     "iopub.execute_input": "2022-12-08T11:46:16.723151Z",
     "iopub.status.busy": "2022-12-08T11:46:16.721802Z",
     "iopub.status.idle": "2022-12-08T11:46:16.751227Z",
     "shell.execute_reply": "2022-12-08T11:46:16.750052Z"
    },
    "papermill": {
     "duration": 0.131217,
     "end_time": "2022-12-08T11:46:16.753595",
     "exception": false,
     "start_time": "2022-12-08T11:46:16.622378",
     "status": "completed"
    },
    "tags": []
   },
   "outputs": [
    {
     "data": {
      "text/plain": [
       "Pipeline(steps=[('imp_num_arbitrary',\n",
       "                 ArbitraryNumberImputer(variables=['A3', 'A8'])),\n",
       "                ('imp_num_median', MeanMedianImputer(variables=['A2', 'A14'])),\n",
       "                ('imp_cat_frequent',\n",
       "                 CategoricalImputer(imputation_method='frequent',\n",
       "                                    variables=['A4', 'A5', 'A6', 'A7'])),\n",
       "                ('imp_cat_missing',\n",
       "                 CategoricalImputer(variables=['A1', 'A9', 'A10']))])"
      ]
     },
     "execution_count": 192,
     "metadata": {},
     "output_type": "execute_result"
    }
   ],
   "source": [
    "pipe.fit(X_train)"
   ]
  },
  {
   "cell_type": "code",
   "execution_count": 193,
   "id": "1a64ae57",
   "metadata": {
    "execution": {
     "iopub.execute_input": "2022-12-08T11:46:16.950402Z",
     "iopub.status.busy": "2022-12-08T11:46:16.949559Z",
     "iopub.status.idle": "2022-12-08T11:46:16.969610Z",
     "shell.execute_reply": "2022-12-08T11:46:16.968595Z"
    },
    "papermill": {
     "duration": 0.122176,
     "end_time": "2022-12-08T11:46:16.972317",
     "exception": false,
     "start_time": "2022-12-08T11:46:16.850141",
     "status": "completed"
    },
    "tags": []
   },
   "outputs": [],
   "source": [
    "X_train = pipe.transform(X_train)\n",
    "X_test = pipe.transform(X_test)"
   ]
  },
  {
   "cell_type": "markdown",
   "id": "c092622e",
   "metadata": {
    "papermill": {
     "duration": 0.096125,
     "end_time": "2022-12-08T11:46:17.165167",
     "exception": false,
     "start_time": "2022-12-08T11:46:17.069042",
     "status": "completed"
    },
    "tags": []
   },
   "source": [
    "**How it works...**\n",
    "\n",
    "In this recipe, we performed different imputation techniques on different variable groups from the Credit Approval Data Set by utilizing Feature-engine within a single scikit-learn pipeline.\n",
    "\n",
    "After loading and dividing the dataset, we created four lists of features. The first list contained numerical variables to impute with an arbitrary value. The second list contained numerical variables to impute by the median. The third list contained categorical variables to impute with a frequent category. Finally, the fourth list contained categorical variables to impute with the `Missing` string.\n",
    "\n",
    "Next, we assembled the different Feature-engine imputers within a single scikit-learn\n",
    "pipeline. With `ArbitraryNumberImputer()`, we imputed missing values with the number\n",
    "999; with `MeanMedianImputer()`, we performed median imputation; with `CategoricalImputer()`, we replaced the missing values with `imputation_method='frequent'`; and with\n",
    "`CategoricalImputer()`, we replaced the missing values with the `Missing` string. We specified a list of features to impute within each imputer.\n",
    "\n",
    "When assembling a scikit-learn pipeline, we gave each step a name using a string, and next to it we set up each of the Feature-engine imputers, specifying the feature subset within each imputer.\n",
    "\n",
    "With the `fit()` method, the imputers learned and stored parameters and with\n",
    "`transform()` the missing values were replaced, returning complete pandas dataframes."
   ]
  },
  {
   "cell_type": "markdown",
   "id": "b54ba1a0",
   "metadata": {
    "papermill": {
     "duration": 0.096689,
     "end_time": "2022-12-08T11:46:17.360678",
     "exception": false,
     "start_time": "2022-12-08T11:46:17.263989",
     "status": "completed"
    },
    "tags": []
   },
   "source": [
    "# Chapter 3. Encoding Categorical Variables\n",
    "\n",
    "* Creating binary variables through one-hot encoding\n",
    "* Performing one-hot encoding of frequent categories\n",
    "* Replacing categories with ordinal numbers\n",
    "* Replacing categories with counts or frequency of observations\n",
    "* Encoding with integers in an ordered manner\n",
    "* Encoding with the mean of the target\n",
    "* Encoding with the Weight of Evidence\n",
    "* Grouping rare or infrequent categories\n",
    "* Performing binary encoding\n",
    "* Performing feature hashing"
   ]
  },
  {
   "cell_type": "markdown",
   "id": "f18de852",
   "metadata": {
    "papermill": {
     "duration": 0.152037,
     "end_time": "2022-12-08T11:46:17.609037",
     "exception": false,
     "start_time": "2022-12-08T11:46:17.457000",
     "status": "completed"
    },
    "tags": []
   },
   "source": [
    "Categorical variables are those values which are selected from a group of categories or\n",
    "labels. For example, the variable Gender with the values of male or female is categorical, and so is the variable marital status with the values of never married, married, divorced, or widowed. In some categorical variables, the labels have an intrinsic order, for example, in the variable Student's grade, the values of A, B, C, or Fail are ordered, A being the highest grade and Fail the lowest. These are called ordinal categorical variables. Variables in which the categories do not have an intrinsic order are called nominal categorical variables, such as the variable City, with the values of London, Manchester, Bristol, and so on.\n",
    "\n",
    "The values of categorical variables are often encoded as strings. Scikit-learn, the open\n",
    "source Python library for machine learning, does not support strings as values, therefore, we need to transform those strings into numbers. The act of replacing strings with numbers is called categorical encoding. In this chapter, we will discuss multiple categorical encoding techniques."
   ]
  },
  {
   "cell_type": "code",
   "execution_count": 194,
   "id": "fc66cccf",
   "metadata": {
    "execution": {
     "iopub.execute_input": "2022-12-08T11:46:17.803334Z",
     "iopub.status.busy": "2022-12-08T11:46:17.802693Z",
     "iopub.status.idle": "2022-12-08T11:46:17.807321Z",
     "shell.execute_reply": "2022-12-08T11:46:17.806422Z"
    },
    "papermill": {
     "duration": 0.104605,
     "end_time": "2022-12-08T11:46:17.809758",
     "exception": false,
     "start_time": "2022-12-08T11:46:17.705153",
     "status": "completed"
    },
    "tags": []
   },
   "outputs": [],
   "source": [
    "# !pip install category_encoders"
   ]
  },
  {
   "cell_type": "code",
   "execution_count": 195,
   "id": "2b7c8251",
   "metadata": {
    "execution": {
     "iopub.execute_input": "2022-12-08T11:46:18.005757Z",
     "iopub.status.busy": "2022-12-08T11:46:18.005310Z",
     "iopub.status.idle": "2022-12-08T11:46:18.010399Z",
     "shell.execute_reply": "2022-12-08T11:46:18.009160Z"
    },
    "papermill": {
     "duration": 0.104362,
     "end_time": "2022-12-08T11:46:18.012675",
     "exception": false,
     "start_time": "2022-12-08T11:46:17.908313",
     "status": "completed"
    },
    "tags": []
   },
   "outputs": [],
   "source": [
    "import random\n",
    "import pandas as pd\n",
    "import numpy as np"
   ]
  },
  {
   "cell_type": "code",
   "execution_count": 196,
   "id": "a3fd7954",
   "metadata": {
    "execution": {
     "iopub.execute_input": "2022-12-08T11:46:18.208895Z",
     "iopub.status.busy": "2022-12-08T11:46:18.207827Z",
     "iopub.status.idle": "2022-12-08T11:46:18.219906Z",
     "shell.execute_reply": "2022-12-08T11:46:18.218681Z"
    },
    "papermill": {
     "duration": 0.113634,
     "end_time": "2022-12-08T11:46:18.222943",
     "exception": false,
     "start_time": "2022-12-08T11:46:18.109309",
     "status": "completed"
    },
    "tags": []
   },
   "outputs": [],
   "source": [
    "data = pd.read_csv('/kaggle/input/crx-uci-ml-repository/crx.data', header=None)"
   ]
  },
  {
   "cell_type": "code",
   "execution_count": 197,
   "id": "b063de97",
   "metadata": {
    "execution": {
     "iopub.execute_input": "2022-12-08T11:46:18.420431Z",
     "iopub.status.busy": "2022-12-08T11:46:18.419772Z",
     "iopub.status.idle": "2022-12-08T11:46:18.425239Z",
     "shell.execute_reply": "2022-12-08T11:46:18.424166Z"
    },
    "papermill": {
     "duration": 0.106777,
     "end_time": "2022-12-08T11:46:18.427612",
     "exception": false,
     "start_time": "2022-12-08T11:46:18.320835",
     "status": "completed"
    },
    "tags": []
   },
   "outputs": [],
   "source": [
    "varnames = ['A' + str(s) for s in range(1, 17)]"
   ]
  },
  {
   "cell_type": "code",
   "execution_count": 198,
   "id": "7ef8cc5d",
   "metadata": {
    "execution": {
     "iopub.execute_input": "2022-12-08T11:46:18.626163Z",
     "iopub.status.busy": "2022-12-08T11:46:18.625366Z",
     "iopub.status.idle": "2022-12-08T11:46:18.630658Z",
     "shell.execute_reply": "2022-12-08T11:46:18.629814Z"
    },
    "papermill": {
     "duration": 0.107293,
     "end_time": "2022-12-08T11:46:18.632939",
     "exception": false,
     "start_time": "2022-12-08T11:46:18.525646",
     "status": "completed"
    },
    "tags": []
   },
   "outputs": [],
   "source": [
    "data.columns = varnames"
   ]
  },
  {
   "cell_type": "code",
   "execution_count": 199,
   "id": "5774e96a",
   "metadata": {
    "execution": {
     "iopub.execute_input": "2022-12-08T11:46:18.831408Z",
     "iopub.status.busy": "2022-12-08T11:46:18.830770Z",
     "iopub.status.idle": "2022-12-08T11:46:18.837330Z",
     "shell.execute_reply": "2022-12-08T11:46:18.836420Z"
    },
    "papermill": {
     "duration": 0.109542,
     "end_time": "2022-12-08T11:46:18.839764",
     "exception": false,
     "start_time": "2022-12-08T11:46:18.730222",
     "status": "completed"
    },
    "tags": []
   },
   "outputs": [],
   "source": [
    "data = data.replace('?', np.nan)"
   ]
  },
  {
   "cell_type": "code",
   "execution_count": 200,
   "id": "90063960",
   "metadata": {
    "execution": {
     "iopub.execute_input": "2022-12-08T11:46:19.037972Z",
     "iopub.status.busy": "2022-12-08T11:46:19.037142Z",
     "iopub.status.idle": "2022-12-08T11:46:19.044784Z",
     "shell.execute_reply": "2022-12-08T11:46:19.043687Z"
    },
    "papermill": {
     "duration": 0.107878,
     "end_time": "2022-12-08T11:46:19.047309",
     "exception": false,
     "start_time": "2022-12-08T11:46:18.939431",
     "status": "completed"
    },
    "tags": []
   },
   "outputs": [],
   "source": [
    "data['A2'] = data['A2'].astype('float')\n",
    "data['A14'] = data['A14'].astype('float')"
   ]
  },
  {
   "cell_type": "code",
   "execution_count": 201,
   "id": "ec51110f",
   "metadata": {
    "execution": {
     "iopub.execute_input": "2022-12-08T11:46:19.243593Z",
     "iopub.status.busy": "2022-12-08T11:46:19.243141Z",
     "iopub.status.idle": "2022-12-08T11:46:19.249962Z",
     "shell.execute_reply": "2022-12-08T11:46:19.248765Z"
    },
    "papermill": {
     "duration": 0.108455,
     "end_time": "2022-12-08T11:46:19.252559",
     "exception": false,
     "start_time": "2022-12-08T11:46:19.144104",
     "status": "completed"
    },
    "tags": []
   },
   "outputs": [],
   "source": [
    "data['A16'] = data['A16'].map({'+':1, '-':0})"
   ]
  },
  {
   "cell_type": "code",
   "execution_count": 202,
   "id": "855943df",
   "metadata": {
    "execution": {
     "iopub.execute_input": "2022-12-08T11:46:19.447603Z",
     "iopub.status.busy": "2022-12-08T11:46:19.447158Z",
     "iopub.status.idle": "2022-12-08T11:46:19.453904Z",
     "shell.execute_reply": "2022-12-08T11:46:19.452840Z"
    },
    "papermill": {
     "duration": 0.106865,
     "end_time": "2022-12-08T11:46:19.456090",
     "exception": false,
     "start_time": "2022-12-08T11:46:19.349225",
     "status": "completed"
    },
    "tags": []
   },
   "outputs": [],
   "source": [
    "cat_cols = [c for c in data.columns if data[c].dtypes=='O']\n",
    "num_cols = [c for c in data.columns if data[c].dtypes!='O']"
   ]
  },
  {
   "cell_type": "code",
   "execution_count": 203,
   "id": "8fc151c2",
   "metadata": {
    "execution": {
     "iopub.execute_input": "2022-12-08T11:46:19.660206Z",
     "iopub.status.busy": "2022-12-08T11:46:19.659294Z",
     "iopub.status.idle": "2022-12-08T11:46:19.671156Z",
     "shell.execute_reply": "2022-12-08T11:46:19.670231Z"
    },
    "papermill": {
     "duration": 0.119511,
     "end_time": "2022-12-08T11:46:19.673642",
     "exception": false,
     "start_time": "2022-12-08T11:46:19.554131",
     "status": "completed"
    },
    "tags": []
   },
   "outputs": [],
   "source": [
    "data[num_cols] = data[num_cols].fillna(0)\n",
    "data[cat_cols] = data[cat_cols].fillna('Missing')"
   ]
  },
  {
   "cell_type": "code",
   "execution_count": 204,
   "id": "3fc6f640",
   "metadata": {
    "execution": {
     "iopub.execute_input": "2022-12-08T11:46:19.869345Z",
     "iopub.status.busy": "2022-12-08T11:46:19.868562Z",
     "iopub.status.idle": "2022-12-08T11:46:19.879126Z",
     "shell.execute_reply": "2022-12-08T11:46:19.878114Z"
    },
    "papermill": {
     "duration": 0.11069,
     "end_time": "2022-12-08T11:46:19.881557",
     "exception": false,
     "start_time": "2022-12-08T11:46:19.770867",
     "status": "completed"
    },
    "tags": []
   },
   "outputs": [],
   "source": [
    "data.to_csv('creditApprovalUCI.csv', index=False)"
   ]
  },
  {
   "cell_type": "markdown",
   "id": "aab525d2",
   "metadata": {
    "papermill": {
     "duration": 0.097099,
     "end_time": "2022-12-08T11:46:20.075662",
     "exception": false,
     "start_time": "2022-12-08T11:46:19.978563",
     "status": "completed"
    },
    "tags": []
   },
   "source": [
    "# 3.1. Creating binary variables through one-hot encoding"
   ]
  },
  {
   "cell_type": "markdown",
   "id": "4cc8db99",
   "metadata": {
    "papermill": {
     "duration": 0.098417,
     "end_time": "2022-12-08T11:46:20.270519",
     "exception": false,
     "start_time": "2022-12-08T11:46:20.172102",
     "status": "completed"
    },
    "tags": []
   },
   "source": [
    "In one-hot encoding, we represent a categorical variable as a group of binary variables,\n",
    "where each binary variable represents one category. The binary variable indicates whether the category is present in an observation (1) or not (0). The following table shows the onehot encoded representation of the Gender variable with the categories of Male and Female."
   ]
  },
  {
   "cell_type": "code",
   "execution_count": 205,
   "id": "56171a93",
   "metadata": {
    "execution": {
     "iopub.execute_input": "2022-12-08T11:46:20.466661Z",
     "iopub.status.busy": "2022-12-08T11:46:20.465852Z",
     "iopub.status.idle": "2022-12-08T11:46:20.470336Z",
     "shell.execute_reply": "2022-12-08T11:46:20.469529Z"
    },
    "papermill": {
     "duration": 0.105918,
     "end_time": "2022-12-08T11:46:20.472733",
     "exception": false,
     "start_time": "2022-12-08T11:46:20.366815",
     "status": "completed"
    },
    "tags": []
   },
   "outputs": [],
   "source": [
    "import pandas as pd\n",
    "from sklearn.model_selection import train_test_split\n",
    "from sklearn.preprocessing import OneHotEncoder"
   ]
  },
  {
   "cell_type": "code",
   "execution_count": 206,
   "id": "88f06982",
   "metadata": {
    "execution": {
     "iopub.execute_input": "2022-12-08T11:46:20.668812Z",
     "iopub.status.busy": "2022-12-08T11:46:20.668061Z",
     "iopub.status.idle": "2022-12-08T11:46:20.677561Z",
     "shell.execute_reply": "2022-12-08T11:46:20.676569Z"
    },
    "papermill": {
     "duration": 0.110855,
     "end_time": "2022-12-08T11:46:20.679949",
     "exception": false,
     "start_time": "2022-12-08T11:46:20.569094",
     "status": "completed"
    },
    "tags": []
   },
   "outputs": [],
   "source": [
    "data = pd.read_csv('/kaggle/working/creditApprovalUCI.csv')"
   ]
  },
  {
   "cell_type": "code",
   "execution_count": 207,
   "id": "72ce3842",
   "metadata": {
    "execution": {
     "iopub.execute_input": "2022-12-08T11:46:20.877585Z",
     "iopub.status.busy": "2022-12-08T11:46:20.876727Z",
     "iopub.status.idle": "2022-12-08T11:46:20.885274Z",
     "shell.execute_reply": "2022-12-08T11:46:20.883918Z"
    },
    "papermill": {
     "duration": 0.109614,
     "end_time": "2022-12-08T11:46:20.887976",
     "exception": false,
     "start_time": "2022-12-08T11:46:20.778362",
     "status": "completed"
    },
    "tags": []
   },
   "outputs": [],
   "source": [
    "X_train, X_test, y_train, y_test = train_test_split(\n",
    "data.drop(labels=['A16'], axis=1), data['A16'], test_size=0.3,\n",
    "random_state=0)"
   ]
  },
  {
   "cell_type": "code",
   "execution_count": 208,
   "id": "49b62b15",
   "metadata": {
    "execution": {
     "iopub.execute_input": "2022-12-08T11:46:21.142744Z",
     "iopub.status.busy": "2022-12-08T11:46:21.141944Z",
     "iopub.status.idle": "2022-12-08T11:46:21.149768Z",
     "shell.execute_reply": "2022-12-08T11:46:21.148552Z"
    },
    "papermill": {
     "duration": 0.108133,
     "end_time": "2022-12-08T11:46:21.152213",
     "exception": false,
     "start_time": "2022-12-08T11:46:21.044080",
     "status": "completed"
    },
    "tags": []
   },
   "outputs": [
    {
     "data": {
      "text/plain": [
       "array(['u', 'y', 'Missing', 'l'], dtype=object)"
      ]
     },
     "execution_count": 208,
     "metadata": {},
     "output_type": "execute_result"
    }
   ],
   "source": [
    "X_train['A4'].unique()"
   ]
  },
  {
   "cell_type": "code",
   "execution_count": 209,
   "id": "9ca81b23",
   "metadata": {
    "execution": {
     "iopub.execute_input": "2022-12-08T11:46:21.349016Z",
     "iopub.status.busy": "2022-12-08T11:46:21.348605Z",
     "iopub.status.idle": "2022-12-08T11:46:21.361135Z",
     "shell.execute_reply": "2022-12-08T11:46:21.359967Z"
    },
    "papermill": {
     "duration": 0.115505,
     "end_time": "2022-12-08T11:46:21.363819",
     "exception": false,
     "start_time": "2022-12-08T11:46:21.248314",
     "status": "completed"
    },
    "tags": []
   },
   "outputs": [
    {
     "data": {
      "text/html": [
       "<div>\n",
       "<style scoped>\n",
       "    .dataframe tbody tr th:only-of-type {\n",
       "        vertical-align: middle;\n",
       "    }\n",
       "\n",
       "    .dataframe tbody tr th {\n",
       "        vertical-align: top;\n",
       "    }\n",
       "\n",
       "    .dataframe thead th {\n",
       "        text-align: right;\n",
       "    }\n",
       "</style>\n",
       "<table border=\"1\" class=\"dataframe\">\n",
       "  <thead>\n",
       "    <tr style=\"text-align: right;\">\n",
       "      <th></th>\n",
       "      <th>l</th>\n",
       "      <th>u</th>\n",
       "      <th>y</th>\n",
       "    </tr>\n",
       "  </thead>\n",
       "  <tbody>\n",
       "    <tr>\n",
       "      <th>596</th>\n",
       "      <td>0</td>\n",
       "      <td>1</td>\n",
       "      <td>0</td>\n",
       "    </tr>\n",
       "    <tr>\n",
       "      <th>303</th>\n",
       "      <td>0</td>\n",
       "      <td>1</td>\n",
       "      <td>0</td>\n",
       "    </tr>\n",
       "    <tr>\n",
       "      <th>204</th>\n",
       "      <td>0</td>\n",
       "      <td>0</td>\n",
       "      <td>1</td>\n",
       "    </tr>\n",
       "    <tr>\n",
       "      <th>351</th>\n",
       "      <td>0</td>\n",
       "      <td>0</td>\n",
       "      <td>1</td>\n",
       "    </tr>\n",
       "    <tr>\n",
       "      <th>118</th>\n",
       "      <td>0</td>\n",
       "      <td>1</td>\n",
       "      <td>0</td>\n",
       "    </tr>\n",
       "  </tbody>\n",
       "</table>\n",
       "</div>"
      ],
      "text/plain": [
       "     l  u  y\n",
       "596  0  1  0\n",
       "303  0  1  0\n",
       "204  0  0  1\n",
       "351  0  0  1\n",
       "118  0  1  0"
      ]
     },
     "execution_count": 209,
     "metadata": {},
     "output_type": "execute_result"
    }
   ],
   "source": [
    "tmp = pd.get_dummies(X_train['A4'], drop_first=True)\n",
    "tmp.head()"
   ]
  },
  {
   "cell_type": "code",
   "execution_count": 210,
   "id": "a93cc8fc",
   "metadata": {
    "execution": {
     "iopub.execute_input": "2022-12-08T11:46:21.561250Z",
     "iopub.status.busy": "2022-12-08T11:46:21.560396Z",
     "iopub.status.idle": "2022-12-08T11:46:21.565922Z",
     "shell.execute_reply": "2022-12-08T11:46:21.564974Z"
    },
    "papermill": {
     "duration": 0.107028,
     "end_time": "2022-12-08T11:46:21.568315",
     "exception": false,
     "start_time": "2022-12-08T11:46:21.461287",
     "status": "completed"
    },
    "tags": []
   },
   "outputs": [],
   "source": [
    "vars_categorical = ['A1', 'A4', 'A5', 'A6', 'A7', 'A9', 'A10', 'A12', 'A13']"
   ]
  },
  {
   "cell_type": "code",
   "execution_count": 211,
   "id": "03714e1e",
   "metadata": {
    "execution": {
     "iopub.execute_input": "2022-12-08T11:46:21.766366Z",
     "iopub.status.busy": "2022-12-08T11:46:21.765696Z",
     "iopub.status.idle": "2022-12-08T11:46:21.790690Z",
     "shell.execute_reply": "2022-12-08T11:46:21.789596Z"
    },
    "papermill": {
     "duration": 0.127308,
     "end_time": "2022-12-08T11:46:21.793261",
     "exception": false,
     "start_time": "2022-12-08T11:46:21.665953",
     "status": "completed"
    },
    "tags": []
   },
   "outputs": [],
   "source": [
    "X_train_enc = pd.get_dummies(X_train[vars_categorical], drop_first=True)\n",
    "X_text_enc = pd.get_dummies(X_test[vars_categorical], drop_first=True)"
   ]
  },
  {
   "cell_type": "code",
   "execution_count": 212,
   "id": "6cd70c10",
   "metadata": {
    "execution": {
     "iopub.execute_input": "2022-12-08T11:46:21.990947Z",
     "iopub.status.busy": "2022-12-08T11:46:21.990290Z",
     "iopub.status.idle": "2022-12-08T11:46:22.009702Z",
     "shell.execute_reply": "2022-12-08T11:46:22.008551Z"
    },
    "papermill": {
     "duration": 0.121614,
     "end_time": "2022-12-08T11:46:22.012053",
     "exception": false,
     "start_time": "2022-12-08T11:46:21.890439",
     "status": "completed"
    },
    "tags": []
   },
   "outputs": [
    {
     "data": {
      "text/html": [
       "<div>\n",
       "<style scoped>\n",
       "    .dataframe tbody tr th:only-of-type {\n",
       "        vertical-align: middle;\n",
       "    }\n",
       "\n",
       "    .dataframe tbody tr th {\n",
       "        vertical-align: top;\n",
       "    }\n",
       "\n",
       "    .dataframe thead th {\n",
       "        text-align: right;\n",
       "    }\n",
       "</style>\n",
       "<table border=\"1\" class=\"dataframe\">\n",
       "  <thead>\n",
       "    <tr style=\"text-align: right;\">\n",
       "      <th></th>\n",
       "      <th>A1_a</th>\n",
       "      <th>A1_b</th>\n",
       "      <th>A4_l</th>\n",
       "      <th>A4_u</th>\n",
       "      <th>A4_y</th>\n",
       "      <th>A5_g</th>\n",
       "      <th>A5_gg</th>\n",
       "      <th>A5_p</th>\n",
       "      <th>A6_aa</th>\n",
       "      <th>A6_c</th>\n",
       "      <th>...</th>\n",
       "      <th>A7_j</th>\n",
       "      <th>A7_n</th>\n",
       "      <th>A7_o</th>\n",
       "      <th>A7_v</th>\n",
       "      <th>A7_z</th>\n",
       "      <th>A9_t</th>\n",
       "      <th>A10_t</th>\n",
       "      <th>A12_t</th>\n",
       "      <th>A13_p</th>\n",
       "      <th>A13_s</th>\n",
       "    </tr>\n",
       "  </thead>\n",
       "  <tbody>\n",
       "    <tr>\n",
       "      <th>596</th>\n",
       "      <td>1</td>\n",
       "      <td>0</td>\n",
       "      <td>0</td>\n",
       "      <td>1</td>\n",
       "      <td>0</td>\n",
       "      <td>1</td>\n",
       "      <td>0</td>\n",
       "      <td>0</td>\n",
       "      <td>0</td>\n",
       "      <td>1</td>\n",
       "      <td>...</td>\n",
       "      <td>0</td>\n",
       "      <td>0</td>\n",
       "      <td>0</td>\n",
       "      <td>1</td>\n",
       "      <td>0</td>\n",
       "      <td>1</td>\n",
       "      <td>1</td>\n",
       "      <td>1</td>\n",
       "      <td>0</td>\n",
       "      <td>0</td>\n",
       "    </tr>\n",
       "    <tr>\n",
       "      <th>303</th>\n",
       "      <td>1</td>\n",
       "      <td>0</td>\n",
       "      <td>0</td>\n",
       "      <td>1</td>\n",
       "      <td>0</td>\n",
       "      <td>1</td>\n",
       "      <td>0</td>\n",
       "      <td>0</td>\n",
       "      <td>0</td>\n",
       "      <td>0</td>\n",
       "      <td>...</td>\n",
       "      <td>0</td>\n",
       "      <td>0</td>\n",
       "      <td>0</td>\n",
       "      <td>1</td>\n",
       "      <td>0</td>\n",
       "      <td>0</td>\n",
       "      <td>0</td>\n",
       "      <td>0</td>\n",
       "      <td>0</td>\n",
       "      <td>0</td>\n",
       "    </tr>\n",
       "    <tr>\n",
       "      <th>204</th>\n",
       "      <td>0</td>\n",
       "      <td>1</td>\n",
       "      <td>0</td>\n",
       "      <td>0</td>\n",
       "      <td>1</td>\n",
       "      <td>0</td>\n",
       "      <td>0</td>\n",
       "      <td>1</td>\n",
       "      <td>0</td>\n",
       "      <td>0</td>\n",
       "      <td>...</td>\n",
       "      <td>0</td>\n",
       "      <td>0</td>\n",
       "      <td>0</td>\n",
       "      <td>1</td>\n",
       "      <td>0</td>\n",
       "      <td>1</td>\n",
       "      <td>1</td>\n",
       "      <td>0</td>\n",
       "      <td>0</td>\n",
       "      <td>0</td>\n",
       "    </tr>\n",
       "    <tr>\n",
       "      <th>351</th>\n",
       "      <td>0</td>\n",
       "      <td>1</td>\n",
       "      <td>0</td>\n",
       "      <td>0</td>\n",
       "      <td>1</td>\n",
       "      <td>0</td>\n",
       "      <td>0</td>\n",
       "      <td>1</td>\n",
       "      <td>0</td>\n",
       "      <td>0</td>\n",
       "      <td>...</td>\n",
       "      <td>0</td>\n",
       "      <td>0</td>\n",
       "      <td>0</td>\n",
       "      <td>0</td>\n",
       "      <td>0</td>\n",
       "      <td>0</td>\n",
       "      <td>0</td>\n",
       "      <td>0</td>\n",
       "      <td>0</td>\n",
       "      <td>0</td>\n",
       "    </tr>\n",
       "    <tr>\n",
       "      <th>118</th>\n",
       "      <td>0</td>\n",
       "      <td>1</td>\n",
       "      <td>0</td>\n",
       "      <td>1</td>\n",
       "      <td>0</td>\n",
       "      <td>1</td>\n",
       "      <td>0</td>\n",
       "      <td>0</td>\n",
       "      <td>0</td>\n",
       "      <td>0</td>\n",
       "      <td>...</td>\n",
       "      <td>0</td>\n",
       "      <td>0</td>\n",
       "      <td>0</td>\n",
       "      <td>1</td>\n",
       "      <td>0</td>\n",
       "      <td>1</td>\n",
       "      <td>1</td>\n",
       "      <td>1</td>\n",
       "      <td>0</td>\n",
       "      <td>0</td>\n",
       "    </tr>\n",
       "  </tbody>\n",
       "</table>\n",
       "<p>5 rows × 36 columns</p>\n",
       "</div>"
      ],
      "text/plain": [
       "     A1_a  A1_b  A4_l  A4_u  A4_y  A5_g  A5_gg  A5_p  A6_aa  A6_c  ...  A7_j  \\\n",
       "596     1     0     0     1     0     1      0     0      0     1  ...     0   \n",
       "303     1     0     0     1     0     1      0     0      0     0  ...     0   \n",
       "204     0     1     0     0     1     0      0     1      0     0  ...     0   \n",
       "351     0     1     0     0     1     0      0     1      0     0  ...     0   \n",
       "118     0     1     0     1     0     1      0     0      0     0  ...     0   \n",
       "\n",
       "     A7_n  A7_o  A7_v  A7_z  A9_t  A10_t  A12_t  A13_p  A13_s  \n",
       "596     0     0     1     0     1      1      1      0      0  \n",
       "303     0     0     1     0     0      0      0      0      0  \n",
       "204     0     0     1     0     1      1      0      0      0  \n",
       "351     0     0     0     0     0      0      0      0      0  \n",
       "118     0     0     1     0     1      1      1      0      0  \n",
       "\n",
       "[5 rows x 36 columns]"
      ]
     },
     "execution_count": 212,
     "metadata": {},
     "output_type": "execute_result"
    }
   ],
   "source": [
    "X_train_enc.head()"
   ]
  },
  {
   "cell_type": "code",
   "execution_count": 213,
   "id": "ce64392a",
   "metadata": {
    "execution": {
     "iopub.execute_input": "2022-12-08T11:46:22.210164Z",
     "iopub.status.busy": "2022-12-08T11:46:22.209159Z",
     "iopub.status.idle": "2022-12-08T11:46:22.214283Z",
     "shell.execute_reply": "2022-12-08T11:46:22.213433Z"
    },
    "papermill": {
     "duration": 0.106225,
     "end_time": "2022-12-08T11:46:22.216541",
     "exception": false,
     "start_time": "2022-12-08T11:46:22.110316",
     "status": "completed"
    },
    "tags": []
   },
   "outputs": [],
   "source": [
    "encoder = OneHotEncoder(categories='auto', drop='first', sparse=False)"
   ]
  },
  {
   "cell_type": "code",
   "execution_count": 214,
   "id": "bc8de71e",
   "metadata": {
    "execution": {
     "iopub.execute_input": "2022-12-08T11:46:22.413956Z",
     "iopub.status.busy": "2022-12-08T11:46:22.413206Z",
     "iopub.status.idle": "2022-12-08T11:46:22.422242Z",
     "shell.execute_reply": "2022-12-08T11:46:22.421220Z"
    },
    "papermill": {
     "duration": 0.109734,
     "end_time": "2022-12-08T11:46:22.424846",
     "exception": false,
     "start_time": "2022-12-08T11:46:22.315112",
     "status": "completed"
    },
    "tags": []
   },
   "outputs": [
    {
     "data": {
      "text/plain": [
       "OneHotEncoder(drop='first', sparse=False)"
      ]
     },
     "execution_count": 214,
     "metadata": {},
     "output_type": "execute_result"
    }
   ],
   "source": [
    "encoder.fit(X_train[vars_categorical])"
   ]
  },
  {
   "cell_type": "code",
   "execution_count": 215,
   "id": "b30f95cb",
   "metadata": {
    "execution": {
     "iopub.execute_input": "2022-12-08T11:46:22.625658Z",
     "iopub.status.busy": "2022-12-08T11:46:22.624913Z",
     "iopub.status.idle": "2022-12-08T11:46:22.638005Z",
     "shell.execute_reply": "2022-12-08T11:46:22.636877Z"
    },
    "papermill": {
     "duration": 0.115274,
     "end_time": "2022-12-08T11:46:22.640739",
     "exception": false,
     "start_time": "2022-12-08T11:46:22.525465",
     "status": "completed"
    },
    "tags": []
   },
   "outputs": [],
   "source": [
    "X_train_enc = encoder.transform(X_train[vars_categorical])\n",
    "X_test_enc = encoder.transform(X_test[vars_categorical])"
   ]
  },
  {
   "cell_type": "markdown",
   "id": "8a8caf59",
   "metadata": {
    "papermill": {
     "duration": 0.097816,
     "end_time": "2022-12-08T11:46:22.837368",
     "exception": false,
     "start_time": "2022-12-08T11:46:22.739552",
     "status": "completed"
    },
    "tags": []
   },
   "source": [
    "**How it works...**\n",
    "\n",
    "In this recipe, we performed a one-hot encoding of categorical variables using pandas and scikit-learn.\n",
    "\n",
    "We loaded the dataset and separated it into train and test sets using scikit-learn's\n",
    "`train_test_split()` function. Next, we used pandas' `get_dummies()` function on\n",
    "the A4 variable, setting `drop_first=True` to drop the first binary variable and hence\n",
    "obtain k-1 binary variables. Next, we used `get_dummies()` on all of the categorical\n",
    "variables of the dataset, which returned a dataframe with binary variables representing the categories of the different features.\n",
    "\n",
    "One-hot encoding expands the feature space. We created, from 9 original\n",
    "categorical variables, 36 binary ones.\n",
    "\n",
    "Finally, we performed one-hot encoding using `OneHotEncoder()` from scikit-learn, setting `the categories='auto'` argument so that the transformer learns the categories to encode from the train set; `drop='first'` so that the transformer drops the first binary variable, returning k-1 binary features per categorical variable; and `sparse=False` so that the transformer returns a NumPy array (the default is to return a sparse matrix). With the `fit()` method, `OneHotEncoder()` learned the categories to encode from the train set and with the `transform()` method, it returned the binary variables in a NumPy array.\n",
    "\n",
    "The beauty of pandas' `get_dummies()` function is that it returns feature names that clearly indicate which variable and which category each feature represents. On the downside, `get_dummies()` does not persist the information learned from the train set to the test set. Contrarily, scikit-learn's `OneHotEncoder()` function can persist the information from the train set, but it returns a NumPy array, where the information about the meaning of the features is lost.\n",
    "\n",
    "Scikit-learn's `OneHotEncoder()` function will create binary indicators from all variables in the dataset, so be mindful not to pass numerical variables when fitting or transforming your datasets."
   ]
  },
  {
   "cell_type": "markdown",
   "id": "74102a6b",
   "metadata": {
    "papermill": {
     "duration": 0.098844,
     "end_time": "2022-12-08T11:46:23.035764",
     "exception": false,
     "start_time": "2022-12-08T11:46:22.936920",
     "status": "completed"
    },
    "tags": []
   },
   "source": [
    "We can also implement one-hot encoding with Feature-engine. Feature-engine has multiple\n",
    "advantages: first, it allows us to select the variables to encode directly in the transformer. Second, it returns a pandas dataframe with clear variable names, and third, it preserves the information learned from the train set, therefore returning the same number of columns in both train and test sets. With that, Feature-engine overcomes the limitations of pandas' `get_dummies()` method and scikit-learn's `OneHotEncoder()` class.\n",
    "\n",
    "To perform one-hot encoding with Feature-engine, we import pandas, then load and divide\n",
    "the data into train and test as we did in step 1 to step 3 of the main recipe. Next, follow these\n",
    "steps:"
   ]
  },
  {
   "cell_type": "code",
   "execution_count": 216,
   "id": "295f0d0d",
   "metadata": {
    "execution": {
     "iopub.execute_input": "2022-12-08T11:46:23.231855Z",
     "iopub.status.busy": "2022-12-08T11:46:23.231412Z",
     "iopub.status.idle": "2022-12-08T11:46:23.243042Z",
     "shell.execute_reply": "2022-12-08T11:46:23.241939Z"
    },
    "papermill": {
     "duration": 0.112246,
     "end_time": "2022-12-08T11:46:23.245539",
     "exception": false,
     "start_time": "2022-12-08T11:46:23.133293",
     "status": "completed"
    },
    "tags": []
   },
   "outputs": [],
   "source": [
    "from feature_engine.encoding import OneHotEncoder"
   ]
  },
  {
   "cell_type": "code",
   "execution_count": 217,
   "id": "f93de1ab",
   "metadata": {
    "execution": {
     "iopub.execute_input": "2022-12-08T11:46:23.443790Z",
     "iopub.status.busy": "2022-12-08T11:46:23.442977Z",
     "iopub.status.idle": "2022-12-08T11:46:23.448402Z",
     "shell.execute_reply": "2022-12-08T11:46:23.447445Z"
    },
    "papermill": {
     "duration": 0.107456,
     "end_time": "2022-12-08T11:46:23.451130",
     "exception": false,
     "start_time": "2022-12-08T11:46:23.343674",
     "status": "completed"
    },
    "tags": []
   },
   "outputs": [],
   "source": [
    "ohe_enc = OneHotEncoder(top_categories=None, drop_last=True)"
   ]
  },
  {
   "cell_type": "code",
   "execution_count": 218,
   "id": "e95a73b2",
   "metadata": {
    "execution": {
     "iopub.execute_input": "2022-12-08T11:46:23.650990Z",
     "iopub.status.busy": "2022-12-08T11:46:23.650168Z",
     "iopub.status.idle": "2022-12-08T11:46:23.675975Z",
     "shell.execute_reply": "2022-12-08T11:46:23.674809Z"
    },
    "papermill": {
     "duration": 0.128406,
     "end_time": "2022-12-08T11:46:23.678402",
     "exception": false,
     "start_time": "2022-12-08T11:46:23.549996",
     "status": "completed"
    },
    "tags": []
   },
   "outputs": [
    {
     "data": {
      "text/plain": [
       "OneHotEncoder(drop_last=True)"
      ]
     },
     "execution_count": 218,
     "metadata": {},
     "output_type": "execute_result"
    }
   ],
   "source": [
    "ohe_enc.fit(X_train)"
   ]
  },
  {
   "cell_type": "code",
   "execution_count": 219,
   "id": "530f04e6",
   "metadata": {
    "execution": {
     "iopub.execute_input": "2022-12-08T11:46:23.883298Z",
     "iopub.status.busy": "2022-12-08T11:46:23.882505Z",
     "iopub.status.idle": "2022-12-08T11:46:23.947841Z",
     "shell.execute_reply": "2022-12-08T11:46:23.946702Z"
    },
    "papermill": {
     "duration": 0.171936,
     "end_time": "2022-12-08T11:46:23.950277",
     "exception": false,
     "start_time": "2022-12-08T11:46:23.778341",
     "status": "completed"
    },
    "tags": []
   },
   "outputs": [
    {
     "data": {
      "text/html": [
       "<div>\n",
       "<style scoped>\n",
       "    .dataframe tbody tr th:only-of-type {\n",
       "        vertical-align: middle;\n",
       "    }\n",
       "\n",
       "    .dataframe tbody tr th {\n",
       "        vertical-align: top;\n",
       "    }\n",
       "\n",
       "    .dataframe thead th {\n",
       "        text-align: right;\n",
       "    }\n",
       "</style>\n",
       "<table border=\"1\" class=\"dataframe\">\n",
       "  <thead>\n",
       "    <tr style=\"text-align: right;\">\n",
       "      <th></th>\n",
       "      <th>A1</th>\n",
       "      <th>A2</th>\n",
       "      <th>A3</th>\n",
       "      <th>A4</th>\n",
       "      <th>A5</th>\n",
       "      <th>A6</th>\n",
       "      <th>A7</th>\n",
       "      <th>A8</th>\n",
       "      <th>A9</th>\n",
       "      <th>A10</th>\n",
       "      <th>A11</th>\n",
       "      <th>A12</th>\n",
       "      <th>A13</th>\n",
       "      <th>A14</th>\n",
       "      <th>A15</th>\n",
       "    </tr>\n",
       "  </thead>\n",
       "  <tbody>\n",
       "    <tr>\n",
       "      <th>596</th>\n",
       "      <td>a</td>\n",
       "      <td>46.08</td>\n",
       "      <td>3.000</td>\n",
       "      <td>u</td>\n",
       "      <td>g</td>\n",
       "      <td>c</td>\n",
       "      <td>v</td>\n",
       "      <td>2.375</td>\n",
       "      <td>t</td>\n",
       "      <td>t</td>\n",
       "      <td>8</td>\n",
       "      <td>t</td>\n",
       "      <td>g</td>\n",
       "      <td>396.0</td>\n",
       "      <td>4159</td>\n",
       "    </tr>\n",
       "    <tr>\n",
       "      <th>303</th>\n",
       "      <td>a</td>\n",
       "      <td>15.92</td>\n",
       "      <td>2.875</td>\n",
       "      <td>u</td>\n",
       "      <td>g</td>\n",
       "      <td>q</td>\n",
       "      <td>v</td>\n",
       "      <td>0.085</td>\n",
       "      <td>f</td>\n",
       "      <td>f</td>\n",
       "      <td>0</td>\n",
       "      <td>f</td>\n",
       "      <td>g</td>\n",
       "      <td>120.0</td>\n",
       "      <td>0</td>\n",
       "    </tr>\n",
       "    <tr>\n",
       "      <th>204</th>\n",
       "      <td>b</td>\n",
       "      <td>36.33</td>\n",
       "      <td>2.125</td>\n",
       "      <td>y</td>\n",
       "      <td>p</td>\n",
       "      <td>w</td>\n",
       "      <td>v</td>\n",
       "      <td>0.085</td>\n",
       "      <td>t</td>\n",
       "      <td>t</td>\n",
       "      <td>1</td>\n",
       "      <td>f</td>\n",
       "      <td>g</td>\n",
       "      <td>50.0</td>\n",
       "      <td>1187</td>\n",
       "    </tr>\n",
       "    <tr>\n",
       "      <th>351</th>\n",
       "      <td>b</td>\n",
       "      <td>22.17</td>\n",
       "      <td>0.585</td>\n",
       "      <td>y</td>\n",
       "      <td>p</td>\n",
       "      <td>ff</td>\n",
       "      <td>ff</td>\n",
       "      <td>0.000</td>\n",
       "      <td>f</td>\n",
       "      <td>f</td>\n",
       "      <td>0</td>\n",
       "      <td>f</td>\n",
       "      <td>g</td>\n",
       "      <td>100.0</td>\n",
       "      <td>0</td>\n",
       "    </tr>\n",
       "    <tr>\n",
       "      <th>118</th>\n",
       "      <td>b</td>\n",
       "      <td>57.83</td>\n",
       "      <td>7.040</td>\n",
       "      <td>u</td>\n",
       "      <td>g</td>\n",
       "      <td>m</td>\n",
       "      <td>v</td>\n",
       "      <td>14.000</td>\n",
       "      <td>t</td>\n",
       "      <td>t</td>\n",
       "      <td>6</td>\n",
       "      <td>t</td>\n",
       "      <td>g</td>\n",
       "      <td>360.0</td>\n",
       "      <td>1332</td>\n",
       "    </tr>\n",
       "  </tbody>\n",
       "</table>\n",
       "</div>"
      ],
      "text/plain": [
       "    A1     A2     A3 A4 A5  A6  A7      A8 A9 A10  A11 A12 A13    A14   A15\n",
       "596  a  46.08  3.000  u  g   c   v   2.375  t   t    8   t   g  396.0  4159\n",
       "303  a  15.92  2.875  u  g   q   v   0.085  f   f    0   f   g  120.0     0\n",
       "204  b  36.33  2.125  y  p   w   v   0.085  t   t    1   f   g   50.0  1187\n",
       "351  b  22.17  0.585  y  p  ff  ff   0.000  f   f    0   f   g  100.0     0\n",
       "118  b  57.83  7.040  u  g   m   v  14.000  t   t    6   t   g  360.0  1332"
      ]
     },
     "execution_count": 219,
     "metadata": {},
     "output_type": "execute_result"
    }
   ],
   "source": [
    "X_train_enc = ohe_enc.transform(X_train)\n",
    "X_test_enc = ohe_enc.transform(X_test)\n",
    "X_train.head()"
   ]
  },
  {
   "cell_type": "markdown",
   "id": "96ff9825",
   "metadata": {
    "papermill": {
     "duration": 0.155691,
     "end_time": "2022-12-08T11:46:24.204825",
     "exception": false,
     "start_time": "2022-12-08T11:46:24.049134",
     "status": "completed"
    },
    "tags": []
   },
   "source": [
    "# 3.2. Performing one-hot encoding of frequent categories"
   ]
  },
  {
   "cell_type": "markdown",
   "id": "d8b0c53a",
   "metadata": {
    "papermill": {
     "duration": 0.098238,
     "end_time": "2022-12-08T11:46:24.402063",
     "exception": false,
     "start_time": "2022-12-08T11:46:24.303825",
     "status": "completed"
    },
    "tags": []
   },
   "source": [
    "One-hot encoding represents each category of a categorical variable with a binary variable. Hence, one-hot encoding of highly cardinal variables or datasets with multiple categorical features can expand the feature space dramatically. To reduce the number of binary variables, we can perform one-hot encoding of the most frequent categories only. One-hot encoding of top categories is equivalent to treating the remaining, less frequent categories as a single, unique category, which we will discuss in the Grouping rare or infrequent categories recipe toward the end of this chapter."
   ]
  },
  {
   "cell_type": "code",
   "execution_count": 220,
   "id": "403ee1fc",
   "metadata": {
    "execution": {
     "iopub.execute_input": "2022-12-08T11:46:24.603552Z",
     "iopub.status.busy": "2022-12-08T11:46:24.602815Z",
     "iopub.status.idle": "2022-12-08T11:46:24.608386Z",
     "shell.execute_reply": "2022-12-08T11:46:24.607199Z"
    },
    "papermill": {
     "duration": 0.109186,
     "end_time": "2022-12-08T11:46:24.611374",
     "exception": false,
     "start_time": "2022-12-08T11:46:24.502188",
     "status": "completed"
    },
    "tags": []
   },
   "outputs": [],
   "source": [
    "import pandas as pd\n",
    "import numpy as np\n",
    "from sklearn.model_selection import train_test_split\n",
    "from feature_engine.encoding import OneHotEncoder"
   ]
  },
  {
   "cell_type": "code",
   "execution_count": 221,
   "id": "8986569b",
   "metadata": {
    "execution": {
     "iopub.execute_input": "2022-12-08T11:46:24.816087Z",
     "iopub.status.busy": "2022-12-08T11:46:24.815335Z",
     "iopub.status.idle": "2022-12-08T11:46:24.825302Z",
     "shell.execute_reply": "2022-12-08T11:46:24.823887Z"
    },
    "papermill": {
     "duration": 0.117428,
     "end_time": "2022-12-08T11:46:24.828299",
     "exception": false,
     "start_time": "2022-12-08T11:46:24.710871",
     "status": "completed"
    },
    "tags": []
   },
   "outputs": [],
   "source": [
    "data = pd.read_csv('/kaggle/working/creditApprovalUCI.csv')"
   ]
  },
  {
   "cell_type": "code",
   "execution_count": 222,
   "id": "02ff896e",
   "metadata": {
    "execution": {
     "iopub.execute_input": "2022-12-08T11:46:25.028435Z",
     "iopub.status.busy": "2022-12-08T11:46:25.027203Z",
     "iopub.status.idle": "2022-12-08T11:46:25.037208Z",
     "shell.execute_reply": "2022-12-08T11:46:25.035878Z"
    },
    "papermill": {
     "duration": 0.112785,
     "end_time": "2022-12-08T11:46:25.040039",
     "exception": false,
     "start_time": "2022-12-08T11:46:24.927254",
     "status": "completed"
    },
    "tags": []
   },
   "outputs": [],
   "source": [
    "X_train, X_test, y_train, y_test = train_test_split(\n",
    "data.drop(labels=['A16'], axis=1), # predictors\n",
    "data['A16'], # target\n",
    "test_size=0.3, # percentage of observations in test set\n",
    "random_state=0) # seed to ensure reproducibility"
   ]
  },
  {
   "cell_type": "code",
   "execution_count": 223,
   "id": "0a0b0093",
   "metadata": {
    "execution": {
     "iopub.execute_input": "2022-12-08T11:46:25.239183Z",
     "iopub.status.busy": "2022-12-08T11:46:25.238740Z",
     "iopub.status.idle": "2022-12-08T11:46:25.247279Z",
     "shell.execute_reply": "2022-12-08T11:46:25.245998Z"
    },
    "papermill": {
     "duration": 0.109551,
     "end_time": "2022-12-08T11:46:25.249772",
     "exception": false,
     "start_time": "2022-12-08T11:46:25.140221",
     "status": "completed"
    },
    "tags": []
   },
   "outputs": [
    {
     "data": {
      "text/plain": [
       "array(['c', 'q', 'w', 'ff', 'm', 'i', 'e', 'cc', 'x', 'd', 'k', 'j',\n",
       "       'Missing', 'aa', 'r'], dtype=object)"
      ]
     },
     "execution_count": 223,
     "metadata": {},
     "output_type": "execute_result"
    }
   ],
   "source": [
    "X_train['A6'].unique()"
   ]
  },
  {
   "cell_type": "code",
   "execution_count": 224,
   "id": "f5b579a3",
   "metadata": {
    "execution": {
     "iopub.execute_input": "2022-12-08T11:46:25.449063Z",
     "iopub.status.busy": "2022-12-08T11:46:25.448135Z",
     "iopub.status.idle": "2022-12-08T11:46:25.456836Z",
     "shell.execute_reply": "2022-12-08T11:46:25.455762Z"
    },
    "papermill": {
     "duration": 0.110139,
     "end_time": "2022-12-08T11:46:25.459272",
     "exception": false,
     "start_time": "2022-12-08T11:46:25.349133",
     "status": "completed"
    },
    "tags": []
   },
   "outputs": [
    {
     "data": {
      "text/plain": [
       "c     93\n",
       "q     56\n",
       "w     48\n",
       "i     41\n",
       "ff    38\n",
       "Name: A6, dtype: int64"
      ]
     },
     "execution_count": 224,
     "metadata": {},
     "output_type": "execute_result"
    }
   ],
   "source": [
    "X_train['A6'].value_counts().sort_values(ascending=False).head(5)"
   ]
  },
  {
   "cell_type": "code",
   "execution_count": 225,
   "id": "c0d79c78",
   "metadata": {
    "execution": {
     "iopub.execute_input": "2022-12-08T11:46:25.661118Z",
     "iopub.status.busy": "2022-12-08T11:46:25.660521Z",
     "iopub.status.idle": "2022-12-08T11:46:25.665948Z",
     "shell.execute_reply": "2022-12-08T11:46:25.665090Z"
    },
    "papermill": {
     "duration": 0.109593,
     "end_time": "2022-12-08T11:46:25.668288",
     "exception": false,
     "start_time": "2022-12-08T11:46:25.558695",
     "status": "completed"
    },
    "tags": []
   },
   "outputs": [],
   "source": [
    "top_5 = [cat for cat in X_train['A6'].value_counts().sort_values(\n",
    "ascending=False).head(5).index]"
   ]
  },
  {
   "cell_type": "code",
   "execution_count": 226,
   "id": "ad3a5971",
   "metadata": {
    "execution": {
     "iopub.execute_input": "2022-12-08T11:46:25.868892Z",
     "iopub.status.busy": "2022-12-08T11:46:25.868263Z",
     "iopub.status.idle": "2022-12-08T11:46:25.879266Z",
     "shell.execute_reply": "2022-12-08T11:46:25.878286Z"
    },
    "papermill": {
     "duration": 0.114706,
     "end_time": "2022-12-08T11:46:25.881935",
     "exception": false,
     "start_time": "2022-12-08T11:46:25.767229",
     "status": "completed"
    },
    "tags": []
   },
   "outputs": [],
   "source": [
    "for category in top_5:\n",
    "    X_train['A6' + '_' + category] = np.where(X_train['A6'] == category, 1, 0)\n",
    "    X_test['A6' + '_' + category] = np.where(X_test['A6'] == category, 1, 0)"
   ]
  },
  {
   "cell_type": "code",
   "execution_count": 227,
   "id": "9bcb4473",
   "metadata": {
    "execution": {
     "iopub.execute_input": "2022-12-08T11:46:26.083896Z",
     "iopub.status.busy": "2022-12-08T11:46:26.082343Z",
     "iopub.status.idle": "2022-12-08T11:46:26.097137Z",
     "shell.execute_reply": "2022-12-08T11:46:26.095529Z"
    },
    "papermill": {
     "duration": 0.120884,
     "end_time": "2022-12-08T11:46:26.100943",
     "exception": false,
     "start_time": "2022-12-08T11:46:25.980059",
     "status": "completed"
    },
    "tags": []
   },
   "outputs": [
    {
     "name": "stdout",
     "output_type": "stream",
     "text": [
      "     A6  A6_c  A6_q  A6_w  A6_i  A6_ff\n",
      "596   c     1     0     0     0      0\n",
      "303   q     0     1     0     0      0\n",
      "204   w     0     0     1     0      0\n",
      "351  ff     0     0     0     0      1\n",
      "118   m     0     0     0     0      0\n",
      "247   q     0     1     0     0      0\n",
      "652   i     0     0     0     1      0\n",
      "513   e     0     0     0     0      0\n",
      "230  cc     0     0     0     0      0\n",
      "250   e     0     0     0     0      0\n"
     ]
    }
   ],
   "source": [
    "print(X_train[['A6'] + ['A6'+'_'+c for c in top_5]].head(10))"
   ]
  },
  {
   "cell_type": "code",
   "execution_count": 228,
   "id": "796fdc82",
   "metadata": {
    "execution": {
     "iopub.execute_input": "2022-12-08T11:46:26.322467Z",
     "iopub.status.busy": "2022-12-08T11:46:26.321794Z",
     "iopub.status.idle": "2022-12-08T11:46:26.326369Z",
     "shell.execute_reply": "2022-12-08T11:46:26.325481Z"
    },
    "papermill": {
     "duration": 0.109885,
     "end_time": "2022-12-08T11:46:26.328828",
     "exception": false,
     "start_time": "2022-12-08T11:46:26.218943",
     "status": "completed"
    },
    "tags": []
   },
   "outputs": [],
   "source": [
    "ohe_enc = OneHotEncoder(top_categories=5, \n",
    "                        variables=['A6', 'A7'], \n",
    "                        drop_last=False)"
   ]
  },
  {
   "cell_type": "code",
   "execution_count": 229,
   "id": "e03603a6",
   "metadata": {
    "execution": {
     "iopub.execute_input": "2022-12-08T11:46:26.528257Z",
     "iopub.status.busy": "2022-12-08T11:46:26.527107Z",
     "iopub.status.idle": "2022-12-08T11:46:26.539935Z",
     "shell.execute_reply": "2022-12-08T11:46:26.538759Z"
    },
    "papermill": {
     "duration": 0.114609,
     "end_time": "2022-12-08T11:46:26.542435",
     "exception": false,
     "start_time": "2022-12-08T11:46:26.427826",
     "status": "completed"
    },
    "tags": []
   },
   "outputs": [
    {
     "data": {
      "text/plain": [
       "OneHotEncoder(top_categories=5, variables=['A6', 'A7'])"
      ]
     },
     "execution_count": 229,
     "metadata": {},
     "output_type": "execute_result"
    }
   ],
   "source": [
    "ohe_enc.fit(X_train)"
   ]
  },
  {
   "cell_type": "code",
   "execution_count": 230,
   "id": "0f7bd4d6",
   "metadata": {
    "execution": {
     "iopub.execute_input": "2022-12-08T11:46:26.740681Z",
     "iopub.status.busy": "2022-12-08T11:46:26.740225Z",
     "iopub.status.idle": "2022-12-08T11:46:26.761123Z",
     "shell.execute_reply": "2022-12-08T11:46:26.759789Z"
    },
    "papermill": {
     "duration": 0.123166,
     "end_time": "2022-12-08T11:46:26.763763",
     "exception": false,
     "start_time": "2022-12-08T11:46:26.640597",
     "status": "completed"
    },
    "tags": []
   },
   "outputs": [],
   "source": [
    "X_train_enc = ohe_enc.transform(X_train)\n",
    "X_test_enc = ohe_enc.transform(X_test)"
   ]
  },
  {
   "cell_type": "markdown",
   "id": "6466485f",
   "metadata": {
    "papermill": {
     "duration": 0.097897,
     "end_time": "2022-12-08T11:46:26.959669",
     "exception": false,
     "start_time": "2022-12-08T11:46:26.861772",
     "status": "completed"
    },
    "tags": []
   },
   "source": [
    "**How it works...**\n",
    "\n",
    "In this recipe, we performed one-hot encoding of the five most popular categories using\n",
    "pandas, NumPy and Feature-engine.\n",
    "\n",
    "First, we loaded the data and, with `train_test_split()`, we separated the dataset into\n",
    "train and test sets, indicating the predictors by dropping the target from the dataset with pandas' `drop()`, and the target, `A16`, as a pandas Series. We also set the percentage of observations for the test set and set random_state for reproducibility.\n",
    "\n",
    "In the first part of the recipe, we worked with the categorical A6 variable. We first displayed its unique categories with pandas' `unique()` method and observed that it contained multiple categories. Next, we counted the number of observations in the train set, per category of A6 using pandas' `value_counts()` method and sorted the categories from the one with most observations to the one with the least using pandas' `sort_values()` method, and captured the five most popular categories in a list using list comprehension syntax. Finally, we looped over each top category, and with NumPy's `where()` method, created binary variables by placing a 1 if the observation showed the category, or 0 otherwise. We named the new variables using the original variable name, A6, plus an underscore followed by the category name.\n",
    "\n",
    "To perform a one-hot encoding of the five most popular categories of variables A6 and A7\n",
    "with Feature-engine, we used `OneHotEncoder()`, indicating 5 in the\n",
    "`top_categories` argument, and passing the variable names in a list to the variables\n",
    "argument. With `fit()`, the encoder learned the top categories from the train set and stored them in its attribute `encoder_dict_`, and then with `transform()`,\n",
    "`OneHotEncoder()` replaced the original variables with the set of binary\n",
    "ones."
   ]
  },
  {
   "cell_type": "markdown",
   "id": "33205e2e",
   "metadata": {
    "papermill": {
     "duration": 0.156437,
     "end_time": "2022-12-08T11:46:27.215132",
     "exception": false,
     "start_time": "2022-12-08T11:46:27.058695",
     "status": "completed"
    },
    "tags": []
   },
   "source": [
    "# 3.3. Replacing categories with ordinal numbers"
   ]
  },
  {
   "cell_type": "markdown",
   "id": "0973ef2d",
   "metadata": {
    "papermill": {
     "duration": 0.099897,
     "end_time": "2022-12-08T11:46:27.411630",
     "exception": false,
     "start_time": "2022-12-08T11:46:27.311733",
     "status": "completed"
    },
    "tags": []
   },
   "source": [
    "Ordinal encoding consists of replacing the categories with digits from 1 to k (or 0 to k-1, depending on the implementation), where k is the number of distinct categories of the variable. The numbers are assigned arbitrarily. Ordinal encoding is better suited for nonlinear machine learning models, which can navigate through the arbitrarily assigned digits to try and find patterns that relate to the target.\n",
    "\n",
    "In this recipe, we will perform ordinal encoding using pandas, scikit-learn, and Feature-engine."
   ]
  },
  {
   "cell_type": "code",
   "execution_count": 231,
   "id": "7d1a5d1b",
   "metadata": {
    "execution": {
     "iopub.execute_input": "2022-12-08T11:46:27.609850Z",
     "iopub.status.busy": "2022-12-08T11:46:27.609021Z",
     "iopub.status.idle": "2022-12-08T11:46:27.614099Z",
     "shell.execute_reply": "2022-12-08T11:46:27.613228Z"
    },
    "papermill": {
     "duration": 0.106282,
     "end_time": "2022-12-08T11:46:27.616261",
     "exception": false,
     "start_time": "2022-12-08T11:46:27.509979",
     "status": "completed"
    },
    "tags": []
   },
   "outputs": [],
   "source": [
    "import pandas as pd\n",
    "from sklearn.model_selection import train_test_split\n",
    "from sklearn.preprocessing import OrdinalEncoder as oe\n",
    "from feature_engine.encoding import OrdinalEncoder as foe"
   ]
  },
  {
   "cell_type": "code",
   "execution_count": 232,
   "id": "4fa05ec2",
   "metadata": {
    "execution": {
     "iopub.execute_input": "2022-12-08T11:46:27.814278Z",
     "iopub.status.busy": "2022-12-08T11:46:27.813643Z",
     "iopub.status.idle": "2022-12-08T11:46:27.822210Z",
     "shell.execute_reply": "2022-12-08T11:46:27.821262Z"
    },
    "papermill": {
     "duration": 0.109919,
     "end_time": "2022-12-08T11:46:27.824635",
     "exception": false,
     "start_time": "2022-12-08T11:46:27.714716",
     "status": "completed"
    },
    "tags": []
   },
   "outputs": [],
   "source": [
    "data = pd.read_csv('/kaggle/working/creditApprovalUCI.csv')"
   ]
  },
  {
   "cell_type": "code",
   "execution_count": 233,
   "id": "e9af154d",
   "metadata": {
    "execution": {
     "iopub.execute_input": "2022-12-08T11:46:28.022124Z",
     "iopub.status.busy": "2022-12-08T11:46:28.021745Z",
     "iopub.status.idle": "2022-12-08T11:46:28.030894Z",
     "shell.execute_reply": "2022-12-08T11:46:28.030009Z"
    },
    "papermill": {
     "duration": 0.110089,
     "end_time": "2022-12-08T11:46:28.033273",
     "exception": false,
     "start_time": "2022-12-08T11:46:27.923184",
     "status": "completed"
    },
    "tags": []
   },
   "outputs": [],
   "source": [
    "X_train, X_test, y_train, y_test = train_test_split(\n",
    "data.drop(labels=['A16'], axis=1), data['A16'],test_size=0.3,\n",
    "random_state=0)"
   ]
  },
  {
   "cell_type": "code",
   "execution_count": 234,
   "id": "13aef57b",
   "metadata": {
    "execution": {
     "iopub.execute_input": "2022-12-08T11:46:28.230262Z",
     "iopub.status.busy": "2022-12-08T11:46:28.229825Z",
     "iopub.status.idle": "2022-12-08T11:46:28.238784Z",
     "shell.execute_reply": "2022-12-08T11:46:28.237536Z"
    },
    "papermill": {
     "duration": 0.110331,
     "end_time": "2022-12-08T11:46:28.241269",
     "exception": false,
     "start_time": "2022-12-08T11:46:28.130938",
     "status": "completed"
    },
    "tags": []
   },
   "outputs": [
    {
     "data": {
      "text/plain": [
       "{'v': 0,\n",
       " 'ff': 1,\n",
       " 'h': 2,\n",
       " 'dd': 3,\n",
       " 'z': 4,\n",
       " 'bb': 5,\n",
       " 'j': 6,\n",
       " 'Missing': 7,\n",
       " 'n': 8,\n",
       " 'o': 9}"
      ]
     },
     "execution_count": 234,
     "metadata": {},
     "output_type": "execute_result"
    }
   ],
   "source": [
    "ordinal_mapping = {k: i for i, k in enumerate(\n",
    "    X_train['A7'].unique(), 0) }\n",
    "ordinal_mapping"
   ]
  },
  {
   "cell_type": "code",
   "execution_count": 235,
   "id": "7ec01a40",
   "metadata": {
    "execution": {
     "iopub.execute_input": "2022-12-08T11:46:28.457439Z",
     "iopub.status.busy": "2022-12-08T11:46:28.456238Z",
     "iopub.status.idle": "2022-12-08T11:46:28.464413Z",
     "shell.execute_reply": "2022-12-08T11:46:28.463486Z"
    },
    "papermill": {
     "duration": 0.124152,
     "end_time": "2022-12-08T11:46:28.466810",
     "exception": false,
     "start_time": "2022-12-08T11:46:28.342658",
     "status": "completed"
    },
    "tags": []
   },
   "outputs": [],
   "source": [
    "X_train['A7'] = X_train['A7'].map(ordinal_mapping)\n",
    "X_test['A7'] = X_test['A7'].map(ordinal_mapping)"
   ]
  },
  {
   "cell_type": "code",
   "execution_count": 236,
   "id": "afcad6ce",
   "metadata": {
    "execution": {
     "iopub.execute_input": "2022-12-08T11:46:28.666793Z",
     "iopub.status.busy": "2022-12-08T11:46:28.666342Z",
     "iopub.status.idle": "2022-12-08T11:46:28.672146Z",
     "shell.execute_reply": "2022-12-08T11:46:28.671300Z"
    },
    "papermill": {
     "duration": 0.110874,
     "end_time": "2022-12-08T11:46:28.675970",
     "exception": false,
     "start_time": "2022-12-08T11:46:28.565096",
     "status": "completed"
    },
    "tags": []
   },
   "outputs": [
    {
     "name": "stdout",
     "output_type": "stream",
     "text": [
      "596    0\n",
      "303    0\n",
      "204    0\n",
      "351    1\n",
      "118    0\n",
      "247    2\n",
      "652    0\n",
      "513    3\n",
      "230    0\n",
      "250    4\n",
      "Name: A7, dtype: int64\n"
     ]
    }
   ],
   "source": [
    "print(X_train['A7'].head(10))"
   ]
  },
  {
   "cell_type": "code",
   "execution_count": 237,
   "id": "800ff6f0",
   "metadata": {
    "execution": {
     "iopub.execute_input": "2022-12-08T11:46:28.877945Z",
     "iopub.status.busy": "2022-12-08T11:46:28.877420Z",
     "iopub.status.idle": "2022-12-08T11:46:28.882983Z",
     "shell.execute_reply": "2022-12-08T11:46:28.881658Z"
    },
    "papermill": {
     "duration": 0.107526,
     "end_time": "2022-12-08T11:46:28.885299",
     "exception": false,
     "start_time": "2022-12-08T11:46:28.777773",
     "status": "completed"
    },
    "tags": []
   },
   "outputs": [],
   "source": [
    "vars_categorical = ['A1', 'A4', 'A5', 'A6', 'A9', 'A10', 'A12', 'A13']"
   ]
  },
  {
   "cell_type": "code",
   "execution_count": 238,
   "id": "3c7df698",
   "metadata": {
    "execution": {
     "iopub.execute_input": "2022-12-08T11:46:29.086651Z",
     "iopub.status.busy": "2022-12-08T11:46:29.085921Z",
     "iopub.status.idle": "2022-12-08T11:46:29.090295Z",
     "shell.execute_reply": "2022-12-08T11:46:29.089504Z"
    },
    "papermill": {
     "duration": 0.107158,
     "end_time": "2022-12-08T11:46:29.092444",
     "exception": false,
     "start_time": "2022-12-08T11:46:28.985286",
     "status": "completed"
    },
    "tags": []
   },
   "outputs": [],
   "source": [
    "le = oe()"
   ]
  },
  {
   "cell_type": "code",
   "execution_count": 239,
   "id": "9ebaedba",
   "metadata": {
    "execution": {
     "iopub.execute_input": "2022-12-08T11:46:29.293138Z",
     "iopub.status.busy": "2022-12-08T11:46:29.292378Z",
     "iopub.status.idle": "2022-12-08T11:46:29.301555Z",
     "shell.execute_reply": "2022-12-08T11:46:29.300757Z"
    },
    "papermill": {
     "duration": 0.113039,
     "end_time": "2022-12-08T11:46:29.303751",
     "exception": false,
     "start_time": "2022-12-08T11:46:29.190712",
     "status": "completed"
    },
    "tags": []
   },
   "outputs": [
    {
     "data": {
      "text/plain": [
       "OrdinalEncoder()"
      ]
     },
     "execution_count": 239,
     "metadata": {},
     "output_type": "execute_result"
    }
   ],
   "source": [
    "le.fit(X_train[vars_categorical])"
   ]
  },
  {
   "cell_type": "code",
   "execution_count": 240,
   "id": "41e8ee61",
   "metadata": {
    "execution": {
     "iopub.execute_input": "2022-12-08T11:46:29.503310Z",
     "iopub.status.busy": "2022-12-08T11:46:29.502578Z",
     "iopub.status.idle": "2022-12-08T11:46:29.507139Z",
     "shell.execute_reply": "2022-12-08T11:46:29.506213Z"
    },
    "papermill": {
     "duration": 0.106637,
     "end_time": "2022-12-08T11:46:29.509347",
     "exception": false,
     "start_time": "2022-12-08T11:46:29.402710",
     "status": "completed"
    },
    "tags": []
   },
   "outputs": [],
   "source": [
    "ordinal_enc = foe(encoding_method='arbitrary', variables=vars_categorical)"
   ]
  },
  {
   "cell_type": "code",
   "execution_count": 241,
   "id": "96343cc4",
   "metadata": {
    "execution": {
     "iopub.execute_input": "2022-12-08T11:46:29.712807Z",
     "iopub.status.busy": "2022-12-08T11:46:29.712410Z",
     "iopub.status.idle": "2022-12-08T11:46:29.721402Z",
     "shell.execute_reply": "2022-12-08T11:46:29.720185Z"
    },
    "papermill": {
     "duration": 0.116378,
     "end_time": "2022-12-08T11:46:29.724028",
     "exception": false,
     "start_time": "2022-12-08T11:46:29.607650",
     "status": "completed"
    },
    "tags": []
   },
   "outputs": [
    {
     "data": {
      "text/plain": [
       "A1      object\n",
       "A2     float64\n",
       "A3     float64\n",
       "A4      object\n",
       "A5      object\n",
       "A6      object\n",
       "A7       int64\n",
       "A8     float64\n",
       "A9      object\n",
       "A10     object\n",
       "A11      int64\n",
       "A12     object\n",
       "A13     object\n",
       "A14    float64\n",
       "A15      int64\n",
       "dtype: object"
      ]
     },
     "execution_count": 241,
     "metadata": {},
     "output_type": "execute_result"
    }
   ],
   "source": [
    "X_train.dtypes"
   ]
  },
  {
   "cell_type": "code",
   "execution_count": 242,
   "id": "8303096b",
   "metadata": {
    "execution": {
     "iopub.execute_input": "2022-12-08T11:46:29.926498Z",
     "iopub.status.busy": "2022-12-08T11:46:29.925796Z",
     "iopub.status.idle": "2022-12-08T11:46:29.938374Z",
     "shell.execute_reply": "2022-12-08T11:46:29.937012Z"
    },
    "papermill": {
     "duration": 0.116908,
     "end_time": "2022-12-08T11:46:29.940776",
     "exception": false,
     "start_time": "2022-12-08T11:46:29.823868",
     "status": "completed"
    },
    "tags": []
   },
   "outputs": [
    {
     "data": {
      "text/plain": [
       "OrdinalEncoder(encoding_method='arbitrary',\n",
       "               variables=['A1', 'A4', 'A5', 'A6', 'A9', 'A10', 'A12', 'A13'])"
      ]
     },
     "execution_count": 242,
     "metadata": {},
     "output_type": "execute_result"
    }
   ],
   "source": [
    "ordinal_enc.fit(X_train)"
   ]
  },
  {
   "cell_type": "code",
   "execution_count": 243,
   "id": "ba5f5565",
   "metadata": {
    "execution": {
     "iopub.execute_input": "2022-12-08T11:46:30.202743Z",
     "iopub.status.busy": "2022-12-08T11:46:30.202064Z",
     "iopub.status.idle": "2022-12-08T11:46:30.227403Z",
     "shell.execute_reply": "2022-12-08T11:46:30.226539Z"
    },
    "papermill": {
     "duration": 0.128991,
     "end_time": "2022-12-08T11:46:30.229835",
     "exception": false,
     "start_time": "2022-12-08T11:46:30.100844",
     "status": "completed"
    },
    "tags": []
   },
   "outputs": [],
   "source": [
    "X_train = ordinal_enc.transform(X_train)\n",
    "X_test = ordinal_enc.transform(X_test)"
   ]
  },
  {
   "cell_type": "markdown",
   "id": "0a658e99",
   "metadata": {
    "papermill": {
     "duration": 0.099433,
     "end_time": "2022-12-08T11:46:30.431498",
     "exception": false,
     "start_time": "2022-12-08T11:46:30.332065",
     "status": "completed"
    },
    "tags": []
   },
   "source": [
    "**How it works...**\n",
    "\n",
    "In this recipe, we replaced each category in a categorical variable with an integer, assigned arbitrarily, using pandas, scikit-learn, or Feature-engine.\n",
    "\n",
    "We loaded the dataset and divided it into train and test sets as described in the previous recipe. We worked first with the categorical A7 variable. With pandas `unique()`, we displayed the unique values of A7 and using Python's list comprehension syntax, we created a dictionary of key-value pairs, where each key was one of the unique categories, and each value was a digit that would replace the category. Finally, we used\n",
    "pandas' `map()` method to replace the strings in A7 with the integers indicated in the\n",
    "dictionary.\n",
    "\n",
    "To carry out ordinal encoding with scikit-learn, we used `OrdinalEncoder()` function.\n",
    "With the `fit()` method, the transformer assigned an integer to each category of each\n",
    "variable in the train set. With the `transform()` method, the categories were replaced with integers, returning a NumPy array.\n",
    "\n",
    "To perform ordinal encoding with Feature-engine, we used `OrdinalCategoricalEncoder()` and indicated that the numbers should be assigned arbitrarily in `encoding_method`. We indicated the variables to encode in the list of the variables argument. With the `fit()` method, the encoder assigned integers to categories, which were stored in the `encoder_dict_` attribute. These mappings were then used during the `transform()` method, to replace categories with numbers in the train and test sets, returning dataframes."
   ]
  },
  {
   "cell_type": "code",
   "execution_count": 244,
   "id": "9de249ac",
   "metadata": {
    "execution": {
     "iopub.execute_input": "2022-12-08T11:46:30.631687Z",
     "iopub.status.busy": "2022-12-08T11:46:30.631038Z",
     "iopub.status.idle": "2022-12-08T11:46:30.649246Z",
     "shell.execute_reply": "2022-12-08T11:46:30.647943Z"
    },
    "papermill": {
     "duration": 0.121553,
     "end_time": "2022-12-08T11:46:30.652132",
     "exception": false,
     "start_time": "2022-12-08T11:46:30.530579",
     "status": "completed"
    },
    "tags": []
   },
   "outputs": [],
   "source": [
    "def find_category_mappings(df, variable):\n",
    "    return {k: i for i, k in enumerate(df[variable].unique(), 0)}\n",
    "def integer_encode(train, test, variable, ordinal_mapping):\n",
    "    X_train[variable] = X_train[variable].map(ordinal_mapping)\n",
    "    X_test[variable] = X_test[variable].map(ordinal_mapping)\n",
    "for variable in vars_categorical:\n",
    "    mappings = find_category_mappings(X_train, variable)\n",
    "    integer_encode(X_train, X_test, variable, mappings)"
   ]
  },
  {
   "cell_type": "markdown",
   "id": "e91b6aa6",
   "metadata": {
    "papermill": {
     "duration": 0.097648,
     "end_time": "2022-12-08T11:46:30.849345",
     "exception": false,
     "start_time": "2022-12-08T11:46:30.751697",
     "status": "completed"
    },
    "tags": []
   },
   "source": [
    "# 3.4. Replacing categories with counts or frequency of observations"
   ]
  },
  {
   "cell_type": "markdown",
   "id": "73fa1608",
   "metadata": {
    "papermill": {
     "duration": 0.097553,
     "end_time": "2022-12-08T11:46:31.044542",
     "exception": false,
     "start_time": "2022-12-08T11:46:30.946989",
     "status": "completed"
    },
    "tags": []
   },
   "source": [
    "In count or frequency encoding, we replace the categories with the count or the percentage of observations with that category. That is, if 10 out of 100 observations show the category blue for the variable color, we would replace blue with 10 when doing count encoding, or by 0.1 if performing frequency encoding. These techniques, which capture the representation of each label in a dataset, are very popular in data science competitions. The assumption is that the number of observations per category is somewhat predictive of the target.\n",
    "\n",
    "Note that if two different categories are present in the same percentage of\n",
    "observations, they will be replaced by the same value, which may lead to information loss."
   ]
  },
  {
   "cell_type": "code",
   "execution_count": 245,
   "id": "13cd5585",
   "metadata": {
    "execution": {
     "iopub.execute_input": "2022-12-08T11:46:31.273287Z",
     "iopub.status.busy": "2022-12-08T11:46:31.272302Z",
     "iopub.status.idle": "2022-12-08T11:46:31.278266Z",
     "shell.execute_reply": "2022-12-08T11:46:31.277048Z"
    },
    "papermill": {
     "duration": 0.137249,
     "end_time": "2022-12-08T11:46:31.280862",
     "exception": false,
     "start_time": "2022-12-08T11:46:31.143613",
     "status": "completed"
    },
    "tags": []
   },
   "outputs": [],
   "source": [
    "import pandas as pd\n",
    "from sklearn.model_selection import train_test_split\n",
    "from feature_engine.encoding import CountFrequencyEncoder"
   ]
  },
  {
   "cell_type": "code",
   "execution_count": 246,
   "id": "bec837b4",
   "metadata": {
    "execution": {
     "iopub.execute_input": "2022-12-08T11:46:31.502438Z",
     "iopub.status.busy": "2022-12-08T11:46:31.501226Z",
     "iopub.status.idle": "2022-12-08T11:46:31.514242Z",
     "shell.execute_reply": "2022-12-08T11:46:31.512859Z"
    },
    "papermill": {
     "duration": 0.129069,
     "end_time": "2022-12-08T11:46:31.520145",
     "exception": false,
     "start_time": "2022-12-08T11:46:31.391076",
     "status": "completed"
    },
    "tags": []
   },
   "outputs": [],
   "source": [
    "data = pd.read_csv('/kaggle/working/creditApprovalUCI.csv')"
   ]
  },
  {
   "cell_type": "code",
   "execution_count": 247,
   "id": "c121fde3",
   "metadata": {
    "execution": {
     "iopub.execute_input": "2022-12-08T11:46:31.737219Z",
     "iopub.status.busy": "2022-12-08T11:46:31.736317Z",
     "iopub.status.idle": "2022-12-08T11:46:31.745818Z",
     "shell.execute_reply": "2022-12-08T11:46:31.744684Z"
    },
    "papermill": {
     "duration": 0.114421,
     "end_time": "2022-12-08T11:46:31.748259",
     "exception": false,
     "start_time": "2022-12-08T11:46:31.633838",
     "status": "completed"
    },
    "tags": []
   },
   "outputs": [],
   "source": [
    "X_train, X_test, y_train, y_test = train_test_split(\n",
    "data.drop(labels=['A16'], axis=1), data['A16'], test_size=0.3,\n",
    "random_state=0)"
   ]
  },
  {
   "cell_type": "code",
   "execution_count": 248,
   "id": "558a5833",
   "metadata": {
    "execution": {
     "iopub.execute_input": "2022-12-08T11:46:31.950768Z",
     "iopub.status.busy": "2022-12-08T11:46:31.949833Z",
     "iopub.status.idle": "2022-12-08T11:46:31.956652Z",
     "shell.execute_reply": "2022-12-08T11:46:31.955615Z"
    },
    "papermill": {
     "duration": 0.109503,
     "end_time": "2022-12-08T11:46:31.959103",
     "exception": false,
     "start_time": "2022-12-08T11:46:31.849600",
     "status": "completed"
    },
    "tags": []
   },
   "outputs": [],
   "source": [
    "count_map = X_train['A7'].value_counts().to_dict()"
   ]
  },
  {
   "cell_type": "code",
   "execution_count": 249,
   "id": "1c0f8dcd",
   "metadata": {
    "execution": {
     "iopub.execute_input": "2022-12-08T11:46:32.160759Z",
     "iopub.status.busy": "2022-12-08T11:46:32.160303Z",
     "iopub.status.idle": "2022-12-08T11:46:32.166540Z",
     "shell.execute_reply": "2022-12-08T11:46:32.165035Z"
    },
    "papermill": {
     "duration": 0.110876,
     "end_time": "2022-12-08T11:46:32.169202",
     "exception": false,
     "start_time": "2022-12-08T11:46:32.058326",
     "status": "completed"
    },
    "tags": []
   },
   "outputs": [
    {
     "name": "stdout",
     "output_type": "stream",
     "text": [
      "{'v': 277, 'h': 101, 'ff': 41, 'bb': 39, 'z': 7, 'dd': 5, 'j': 5, 'Missing': 4, 'n': 3, 'o': 1}\n"
     ]
    }
   ],
   "source": [
    "print(count_map)"
   ]
  },
  {
   "cell_type": "code",
   "execution_count": 250,
   "id": "c873fb8f",
   "metadata": {
    "execution": {
     "iopub.execute_input": "2022-12-08T11:46:32.372138Z",
     "iopub.status.busy": "2022-12-08T11:46:32.371707Z",
     "iopub.status.idle": "2022-12-08T11:46:32.379136Z",
     "shell.execute_reply": "2022-12-08T11:46:32.378063Z"
    },
    "papermill": {
     "duration": 0.112182,
     "end_time": "2022-12-08T11:46:32.381268",
     "exception": false,
     "start_time": "2022-12-08T11:46:32.269086",
     "status": "completed"
    },
    "tags": []
   },
   "outputs": [],
   "source": [
    "X_train['A7'] = X_train['A7'].map(count_map)\n",
    "X_test['A7'] = X_test['A7'].map(count_map)"
   ]
  },
  {
   "cell_type": "code",
   "execution_count": 251,
   "id": "3d1f9ff2",
   "metadata": {
    "execution": {
     "iopub.execute_input": "2022-12-08T11:46:32.582563Z",
     "iopub.status.busy": "2022-12-08T11:46:32.581885Z",
     "iopub.status.idle": "2022-12-08T11:46:32.586145Z",
     "shell.execute_reply": "2022-12-08T11:46:32.585286Z"
    },
    "papermill": {
     "duration": 0.105779,
     "end_time": "2022-12-08T11:46:32.588412",
     "exception": false,
     "start_time": "2022-12-08T11:46:32.482633",
     "status": "completed"
    },
    "tags": []
   },
   "outputs": [],
   "source": [
    "count_enc = CountFrequencyEncoder(\n",
    "encoding_method='frequency', variables=None)"
   ]
  },
  {
   "cell_type": "code",
   "execution_count": 252,
   "id": "af7a2e6a",
   "metadata": {
    "execution": {
     "iopub.execute_input": "2022-12-08T11:46:32.790220Z",
     "iopub.status.busy": "2022-12-08T11:46:32.789588Z",
     "iopub.status.idle": "2022-12-08T11:46:32.813514Z",
     "shell.execute_reply": "2022-12-08T11:46:32.812317Z"
    },
    "papermill": {
     "duration": 0.127313,
     "end_time": "2022-12-08T11:46:32.816106",
     "exception": false,
     "start_time": "2022-12-08T11:46:32.688793",
     "status": "completed"
    },
    "tags": []
   },
   "outputs": [
    {
     "data": {
      "text/plain": [
       "CountFrequencyEncoder(encoding_method='frequency')"
      ]
     },
     "execution_count": 252,
     "metadata": {},
     "output_type": "execute_result"
    }
   ],
   "source": [
    "count_enc.fit(X_train)"
   ]
  },
  {
   "cell_type": "code",
   "execution_count": 253,
   "id": "6535072e",
   "metadata": {
    "execution": {
     "iopub.execute_input": "2022-12-08T11:46:33.071349Z",
     "iopub.status.busy": "2022-12-08T11:46:33.070586Z",
     "iopub.status.idle": "2022-12-08T11:46:33.096146Z",
     "shell.execute_reply": "2022-12-08T11:46:33.094787Z"
    },
    "papermill": {
     "duration": 0.184314,
     "end_time": "2022-12-08T11:46:33.098918",
     "exception": false,
     "start_time": "2022-12-08T11:46:32.914604",
     "status": "completed"
    },
    "tags": []
   },
   "outputs": [],
   "source": [
    "X_train_enc = count_enc.transform(X_train)\n",
    "X_test_enc = count_enc.transform(X_test)"
   ]
  },
  {
   "cell_type": "markdown",
   "id": "5bf832b0",
   "metadata": {
    "papermill": {
     "duration": 0.098421,
     "end_time": "2022-12-08T11:46:33.297302",
     "exception": false,
     "start_time": "2022-12-08T11:46:33.198881",
     "status": "completed"
    },
    "tags": []
   },
   "source": [
    "**How it works...**\n",
    "\n",
    "In this recipe, we replaced categories by the number of observations per category using\n",
    "pandas and Feature-engine.\n",
    "\n",
    "First, we loaded the dataset and divided it into train and test sets. Using\n",
    "pandas' `value_counts()` method, we determined the number of observations per\n",
    "category of the A7 variable, and with pandas' `to_dict()` method, we captured these\n",
    "values in a dictionary, where each key is a unique category, and each value the number of observations for that category. With pandas' `map()` method and this dictionary, we\n",
    "replaced the categories with counts in both train and test sets.\n",
    "\n",
    "To perform count encoding with Feature-engine, we called `CountFrequencyEncoder()` and set the encoding_method argument to `'count'`. We left the `variables` argument as None so that the encoder automatically finds all of the categorical variables in the dataset. With the `fit()` method, the transformer found the categorical variables and learned and stored the category to count pairs per variable as dictionaries in the `encoder_dict_` attribute. With the `transform()` method, the transformer replaced the categories with the counts in both the train and test sets, returning pandas dataframes.\n"
   ]
  },
  {
   "cell_type": "code",
   "execution_count": 254,
   "id": "87714217",
   "metadata": {
    "execution": {
     "iopub.execute_input": "2022-12-08T11:46:33.499944Z",
     "iopub.status.busy": "2022-12-08T11:46:33.499547Z",
     "iopub.status.idle": "2022-12-08T11:46:33.527185Z",
     "shell.execute_reply": "2022-12-08T11:46:33.525919Z"
    },
    "papermill": {
     "duration": 0.131946,
     "end_time": "2022-12-08T11:46:33.529864",
     "exception": false,
     "start_time": "2022-12-08T11:46:33.397918",
     "status": "completed"
    },
    "tags": []
   },
   "outputs": [],
   "source": [
    "def count_mappings(df, variable):\n",
    "    return df[variable].value_counts().to_dict()\n",
    "def frequency_mappings(df, variable):\n",
    "    return (df[variable].value_counts() / len(df)).to_dict()\n",
    "def encode(train, test, variable, mapping):\n",
    "    X_train[variable] = X_train[variable].map(mapping)\n",
    "    X_test[variable] = X_test[variable].map(mapping)\n",
    "vars_categorical = ['A1', 'A4', 'A5', 'A6', 'A7', 'A9', 'A10', 'A12', 'A13']\n",
    "for variable in vars_categorical:\n",
    "    mappings = count_mappings(X_train, variable)\n",
    "    encode(X_train, X_test, variable, mappings)"
   ]
  },
  {
   "cell_type": "markdown",
   "id": "da9f8dcb",
   "metadata": {
    "papermill": {
     "duration": 0.099912,
     "end_time": "2022-12-08T11:46:33.730438",
     "exception": false,
     "start_time": "2022-12-08T11:46:33.630526",
     "status": "completed"
    },
    "tags": []
   },
   "source": [
    "# 3.5. Encoding with integers in an ordered manner"
   ]
  },
  {
   "cell_type": "markdown",
   "id": "bc0512b0",
   "metadata": {
    "papermill": {
     "duration": 0.098404,
     "end_time": "2022-12-08T11:46:33.928449",
     "exception": false,
     "start_time": "2022-12-08T11:46:33.830045",
     "status": "completed"
    },
    "tags": []
   },
   "source": [
    "In the Replacing categories with ordinal numbers recipe, we replaced categories with integers, which were assigned arbitrarily. This encoding works well with non-linear machine learning algorithms that can navigate through the arbitrarily assigned digits to try and find patterns that relate them to the target. However, this encoding method may not work so well with linear models.\n",
    "\n",
    "We can instead assign integers to the categories given the target values. To do this, we do the following:\n",
    "1. Calculate the mean value of the target per category.\n",
    "2. Order the categories from the one with the lowest to the one with the highest\n",
    "target mean value.\n",
    "3. Assign digits to the ordered categories, starting with 0 to the first category all of the way up to k-1 to the last category, where k is the number of distinct categories.\n",
    "\n",
    "This encoding technique creates a monotonic relationship between the categorical variable and the response and therefore makes the variables more adequate for use in linear models. In this recipe, we will encode categories following the target value using pandas and Feature-engine."
   ]
  },
  {
   "cell_type": "code",
   "execution_count": 255,
   "id": "59559d1f",
   "metadata": {
    "execution": {
     "iopub.execute_input": "2022-12-08T11:46:34.127322Z",
     "iopub.status.busy": "2022-12-08T11:46:34.126914Z",
     "iopub.status.idle": "2022-12-08T11:46:34.132660Z",
     "shell.execute_reply": "2022-12-08T11:46:34.131530Z"
    },
    "papermill": {
     "duration": 0.107774,
     "end_time": "2022-12-08T11:46:34.135101",
     "exception": false,
     "start_time": "2022-12-08T11:46:34.027327",
     "status": "completed"
    },
    "tags": []
   },
   "outputs": [],
   "source": [
    "import pandas as pd\n",
    "import matplotlib.pyplot as plt\n",
    "from sklearn.model_selection import train_test_split\n",
    "from feature_engine.encoding import OrdinalEncoder"
   ]
  },
  {
   "cell_type": "code",
   "execution_count": 256,
   "id": "bce167cb",
   "metadata": {
    "execution": {
     "iopub.execute_input": "2022-12-08T11:46:34.336105Z",
     "iopub.status.busy": "2022-12-08T11:46:34.335704Z",
     "iopub.status.idle": "2022-12-08T11:46:34.345582Z",
     "shell.execute_reply": "2022-12-08T11:46:34.344315Z"
    },
    "papermill": {
     "duration": 0.112779,
     "end_time": "2022-12-08T11:46:34.348545",
     "exception": false,
     "start_time": "2022-12-08T11:46:34.235766",
     "status": "completed"
    },
    "tags": []
   },
   "outputs": [],
   "source": [
    "data = pd.read_csv('/kaggle/working/creditApprovalUCI.csv')"
   ]
  },
  {
   "cell_type": "code",
   "execution_count": 257,
   "id": "e3ae31aa",
   "metadata": {
    "execution": {
     "iopub.execute_input": "2022-12-08T11:46:34.549500Z",
     "iopub.status.busy": "2022-12-08T11:46:34.549077Z",
     "iopub.status.idle": "2022-12-08T11:46:34.556980Z",
     "shell.execute_reply": "2022-12-08T11:46:34.556070Z"
    },
    "papermill": {
     "duration": 0.109253,
     "end_time": "2022-12-08T11:46:34.559223",
     "exception": false,
     "start_time": "2022-12-08T11:46:34.449970",
     "status": "completed"
    },
    "tags": []
   },
   "outputs": [],
   "source": [
    "X_train, X_test, y_train, y_test = train_test_split(data,\n",
    "        data['A16'], test_size=0.3, random_state=0)"
   ]
  },
  {
   "cell_type": "code",
   "execution_count": 258,
   "id": "2a9e7dbf",
   "metadata": {
    "execution": {
     "iopub.execute_input": "2022-12-08T11:46:34.768989Z",
     "iopub.status.busy": "2022-12-08T11:46:34.768608Z",
     "iopub.status.idle": "2022-12-08T11:46:34.968693Z",
     "shell.execute_reply": "2022-12-08T11:46:34.967309Z"
    },
    "papermill": {
     "duration": 0.311557,
     "end_time": "2022-12-08T11:46:34.971405",
     "exception": false,
     "start_time": "2022-12-08T11:46:34.659848",
     "status": "completed"
    },
    "tags": []
   },
   "outputs": [
    {
     "data": {
      "image/png": "[encoded data removed]",
      "text/plain": [
       "<Figure size 432x288 with 1 Axes>"
      ]
     },
     "metadata": {
      "needs_background": "light"
     },
     "output_type": "display_data"
    }
   ],
   "source": [
    "X_train.groupby(['A7'])['A16'].mean().plot()\n",
    "plt.title('Relationship between A7 and the target')\n",
    "plt.ylabel('Mean of target')\n",
    "plt.show()"
   ]
  },
  {
   "cell_type": "code",
   "execution_count": 259,
   "id": "4806ff8d",
   "metadata": {
    "execution": {
     "iopub.execute_input": "2022-12-08T11:46:35.171943Z",
     "iopub.status.busy": "2022-12-08T11:46:35.170718Z",
     "iopub.status.idle": "2022-12-08T11:46:35.178805Z",
     "shell.execute_reply": "2022-12-08T11:46:35.177709Z"
    },
    "papermill": {
     "duration": 0.110799,
     "end_time": "2022-12-08T11:46:35.181245",
     "exception": false,
     "start_time": "2022-12-08T11:46:35.070446",
     "status": "completed"
    },
    "tags": []
   },
   "outputs": [],
   "source": [
    "ordered_labels = X_train.groupby(['A7'])['A16'].mean().sort_values().index"
   ]
  },
  {
   "cell_type": "code",
   "execution_count": 260,
   "id": "37c3c93a",
   "metadata": {
    "execution": {
     "iopub.execute_input": "2022-12-08T11:46:35.382602Z",
     "iopub.status.busy": "2022-12-08T11:46:35.381417Z",
     "iopub.status.idle": "2022-12-08T11:46:35.388871Z",
     "shell.execute_reply": "2022-12-08T11:46:35.387002Z"
    },
    "papermill": {
     "duration": 0.110795,
     "end_time": "2022-12-08T11:46:35.391371",
     "exception": false,
     "start_time": "2022-12-08T11:46:35.280576",
     "status": "completed"
    },
    "tags": []
   },
   "outputs": [
    {
     "name": "stdout",
     "output_type": "stream",
     "text": [
      "Index(['o', 'ff', 'j', 'dd', 'v', 'bb', 'h', 'n', 'z', 'Missing'], dtype='object', name='A7')\n"
     ]
    }
   ],
   "source": [
    "print(ordered_labels)"
   ]
  },
  {
   "cell_type": "code",
   "execution_count": 261,
   "id": "8e1b6b5d",
   "metadata": {
    "execution": {
     "iopub.execute_input": "2022-12-08T11:46:35.594827Z",
     "iopub.status.busy": "2022-12-08T11:46:35.593930Z",
     "iopub.status.idle": "2022-12-08T11:46:35.599347Z",
     "shell.execute_reply": "2022-12-08T11:46:35.598504Z"
    },
    "papermill": {
     "duration": 0.109647,
     "end_time": "2022-12-08T11:46:35.602170",
     "exception": false,
     "start_time": "2022-12-08T11:46:35.492523",
     "status": "completed"
    },
    "tags": []
   },
   "outputs": [],
   "source": [
    "ordinal_mapping = {k: i for i, k in enumerate(ordered_labels, 0)}"
   ]
  },
  {
   "cell_type": "code",
   "execution_count": 262,
   "id": "e297e015",
   "metadata": {
    "execution": {
     "iopub.execute_input": "2022-12-08T11:46:35.809208Z",
     "iopub.status.busy": "2022-12-08T11:46:35.808052Z",
     "iopub.status.idle": "2022-12-08T11:46:35.815732Z",
     "shell.execute_reply": "2022-12-08T11:46:35.813907Z"
    },
    "papermill": {
     "duration": 0.113168,
     "end_time": "2022-12-08T11:46:35.818527",
     "exception": false,
     "start_time": "2022-12-08T11:46:35.705359",
     "status": "completed"
    },
    "tags": []
   },
   "outputs": [
    {
     "name": "stdout",
     "output_type": "stream",
     "text": [
      "{'o': 0, 'ff': 1, 'j': 2, 'dd': 3, 'v': 4, 'bb': 5, 'h': 6, 'n': 7, 'z': 8, 'Missing': 9}\n"
     ]
    }
   ],
   "source": [
    "print(ordinal_mapping)"
   ]
  },
  {
   "cell_type": "code",
   "execution_count": 263,
   "id": "7aed3f8b",
   "metadata": {
    "execution": {
     "iopub.execute_input": "2022-12-08T11:46:36.025607Z",
     "iopub.status.busy": "2022-12-08T11:46:36.024912Z",
     "iopub.status.idle": "2022-12-08T11:46:36.032801Z",
     "shell.execute_reply": "2022-12-08T11:46:36.031960Z"
    },
    "papermill": {
     "duration": 0.112231,
     "end_time": "2022-12-08T11:46:36.035250",
     "exception": false,
     "start_time": "2022-12-08T11:46:35.923019",
     "status": "completed"
    },
    "tags": []
   },
   "outputs": [],
   "source": [
    "X_train['A7'] = X_train['A7'].map(ordinal_mapping)\n",
    "X_test['A7'] = X_test['A7'].map(ordinal_mapping)"
   ]
  },
  {
   "cell_type": "code",
   "execution_count": 264,
   "id": "f9e281c1",
   "metadata": {
    "execution": {
     "iopub.execute_input": "2022-12-08T11:46:36.239952Z",
     "iopub.status.busy": "2022-12-08T11:46:36.239282Z",
     "iopub.status.idle": "2022-12-08T11:46:36.672509Z",
     "shell.execute_reply": "2022-12-08T11:46:36.671653Z"
    },
    "papermill": {
     "duration": 0.537428,
     "end_time": "2022-12-08T11:46:36.675269",
     "exception": false,
     "start_time": "2022-12-08T11:46:36.137841",
     "status": "completed"
    },
    "tags": []
   },
   "outputs": [
    {
     "data": {
      "image/png": "[encoded data removed]",
      "text/plain": [
       "<Figure size 432x288 with 1 Axes>"
      ]
     },
     "metadata": {
      "needs_background": "light"
     },
     "output_type": "display_data"
    }
   ],
   "source": [
    "X_train.groupby(['A7'])['A16'].mean().plot()\n",
    "plt.title('Relationship between A7 and the target')\n",
    "plt.ylabel('Mean of target')\n",
    "plt.show()"
   ]
  },
  {
   "cell_type": "code",
   "execution_count": 265,
   "id": "9ad82757",
   "metadata": {
    "execution": {
     "iopub.execute_input": "2022-12-08T11:46:36.876440Z",
     "iopub.status.busy": "2022-12-08T11:46:36.875830Z",
     "iopub.status.idle": "2022-12-08T11:46:36.884011Z",
     "shell.execute_reply": "2022-12-08T11:46:36.883015Z"
    },
    "papermill": {
     "duration": 0.111461,
     "end_time": "2022-12-08T11:46:36.886631",
     "exception": false,
     "start_time": "2022-12-08T11:46:36.775170",
     "status": "completed"
    },
    "tags": []
   },
   "outputs": [],
   "source": [
    "X_train, X_test, y_train, y_test = train_test_split(\n",
    "data.drop(labels=['A16'], axis=1), data['A16'], test_size=0.3,\n",
    "random_state=0)"
   ]
  },
  {
   "cell_type": "code",
   "execution_count": 266,
   "id": "fb724908",
   "metadata": {
    "execution": {
     "iopub.execute_input": "2022-12-08T11:46:37.091401Z",
     "iopub.status.busy": "2022-12-08T11:46:37.090813Z",
     "iopub.status.idle": "2022-12-08T11:46:37.097329Z",
     "shell.execute_reply": "2022-12-08T11:46:37.096307Z"
    },
    "papermill": {
     "duration": 0.114006,
     "end_time": "2022-12-08T11:46:37.101234",
     "exception": false,
     "start_time": "2022-12-08T11:46:36.987228",
     "status": "completed"
    },
    "tags": []
   },
   "outputs": [],
   "source": [
    "ordinal_enc = OrdinalEncoder(encoding_method='ordered', variables=None)"
   ]
  },
  {
   "cell_type": "code",
   "execution_count": 267,
   "id": "18e495b2",
   "metadata": {
    "execution": {
     "iopub.execute_input": "2022-12-08T11:46:37.327429Z",
     "iopub.status.busy": "2022-12-08T11:46:37.326712Z",
     "iopub.status.idle": "2022-12-08T11:46:37.358873Z",
     "shell.execute_reply": "2022-12-08T11:46:37.357436Z"
    },
    "papermill": {
     "duration": 0.136582,
     "end_time": "2022-12-08T11:46:37.361674",
     "exception": false,
     "start_time": "2022-12-08T11:46:37.225092",
     "status": "completed"
    },
    "tags": []
   },
   "outputs": [
    {
     "data": {
      "text/plain": [
       "OrdinalEncoder()"
      ]
     },
     "execution_count": 267,
     "metadata": {},
     "output_type": "execute_result"
    }
   ],
   "source": [
    "ordinal_enc.fit(X_train, y_train)"
   ]
  },
  {
   "cell_type": "code",
   "execution_count": 268,
   "id": "8fb28ece",
   "metadata": {
    "execution": {
     "iopub.execute_input": "2022-12-08T11:46:37.622174Z",
     "iopub.status.busy": "2022-12-08T11:46:37.621757Z",
     "iopub.status.idle": "2022-12-08T11:46:37.649980Z",
     "shell.execute_reply": "2022-12-08T11:46:37.648759Z"
    },
    "papermill": {
     "duration": 0.132532,
     "end_time": "2022-12-08T11:46:37.652455",
     "exception": false,
     "start_time": "2022-12-08T11:46:37.519923",
     "status": "completed"
    },
    "tags": []
   },
   "outputs": [],
   "source": [
    "X_train_enc = ordinal_enc.transform(X_train)\n",
    "X_test_enc = ordinal_enc.transform(X_test)"
   ]
  },
  {
   "cell_type": "markdown",
   "id": "30a8f426",
   "metadata": {
    "papermill": {
     "duration": 0.100252,
     "end_time": "2022-12-08T11:46:37.852497",
     "exception": false,
     "start_time": "2022-12-08T11:46:37.752245",
     "status": "completed"
    },
    "tags": []
   },
   "source": [
    "**How it works...**\n",
    "\n",
    "In this recipe, we replaced the categories with integers according to the target mean value using pandas and Feature-engine.\n",
    "\n",
    "We first loaded the dataset and divided it into train and test sets. In the first part of the recipe, we worked with the categorical A7 variable. We plotted the mean target value per A7 category. With pandas' `groupby()` method, we grouped the data per category of A7, and next with pandas' `mean()` method, we determined the mean value of the target, A16, for each of the categories of A7. We followed up with pandas' plot() method to create a plot of category versus target mean value. We added a title and y labels with Matplotlib's `title()` and `ylabel()` methods.\n",
    "\n",
    "To perform the encoding, we first determined the mean target value per category of A7,\n",
    "using pandas' `groupby()` method followed by pandas' `mean()` method, as described in the preceding paragraph. Next, we ordered the categories with pandas' `sort_values()` method from the one with the lowest to the one with the highest target mean response. The output of this operation was a pandas Series, with the categories as indices and the target mean as values. With pandas' `index`, we captured the ordered categories in an array, and next, with a Python dictionary comprehension, we created a dictionary of category-to-integer pairs. Finally, we used this dictionary to replace the category by integers using pandas' `map()` method in train and test sets.\n",
    "\n",
    "To perform the encoding with Feature-engine, we called `OrdinalEncoder()` and indicated `'ordered'` in the `encoding_method` argument, and left the argument variables as None, so that the encoder automatically detects all categorical variables in the dataset. With the `fit()` method, the encoder found and stored the categorical variables to encode, and next, assigned digits to their categories, according to the target mean value. Variables to encode and dictionaries with category-to digit pairs were stored in the variables and `encoder_dict_` attributes, respectively. Finally, using the `transform()` method, the transformer replaced the categories with digits in the train and test sets, returning pandas dataframes."
   ]
  },
  {
   "cell_type": "markdown",
   "id": "5bb11e18",
   "metadata": {
    "papermill": {
     "duration": 0.100259,
     "end_time": "2022-12-08T11:46:38.053872",
     "exception": false,
     "start_time": "2022-12-08T11:46:37.953613",
     "status": "completed"
    },
    "tags": []
   },
   "source": [
    "# 3.6. Encoding with the mean of the target"
   ]
  },
  {
   "cell_type": "markdown",
   "id": "f53dadac",
   "metadata": {
    "papermill": {
     "duration": 0.103491,
     "end_time": "2022-12-08T11:46:38.257730",
     "exception": false,
     "start_time": "2022-12-08T11:46:38.154239",
     "status": "completed"
    },
    "tags": []
   },
   "source": [
    "Mean encoding or target encoding implies replacing the categories with the average target value for that category. For example, if we have a City variable, with the categories of London, Manchester, and Bristol, and we want to predict the default rate; if the default rate for London is 30%, we replace London with 0.3; if the default rate for Manchester is 20%, we replace Manchester with 0.2; and so on. The same can be done with a continuous target.\n",
    "\n",
    "As with any machine learning algorithm, the parameters for target encoding, that is, the mean target value per category, need to be learned from the train set only and used to replace categories in the train and test sets.\n",
    "\n",
    "In this recipe, we will perform mean encoding using pandas and Feature-engine."
   ]
  },
  {
   "cell_type": "code",
   "execution_count": 269,
   "id": "e4a7b644",
   "metadata": {
    "execution": {
     "iopub.execute_input": "2022-12-08T11:46:38.462630Z",
     "iopub.status.busy": "2022-12-08T11:46:38.461879Z",
     "iopub.status.idle": "2022-12-08T11:46:38.466289Z",
     "shell.execute_reply": "2022-12-08T11:46:38.465503Z"
    },
    "papermill": {
     "duration": 0.110721,
     "end_time": "2022-12-08T11:46:38.468411",
     "exception": false,
     "start_time": "2022-12-08T11:46:38.357690",
     "status": "completed"
    },
    "tags": []
   },
   "outputs": [],
   "source": [
    "import pandas as pd\n",
    "from sklearn.model_selection import train_test_split\n",
    "from feature_engine.encoding import MeanEncoder"
   ]
  },
  {
   "cell_type": "code",
   "execution_count": 270,
   "id": "2f382534",
   "metadata": {
    "execution": {
     "iopub.execute_input": "2022-12-08T11:46:38.671035Z",
     "iopub.status.busy": "2022-12-08T11:46:38.670241Z",
     "iopub.status.idle": "2022-12-08T11:46:38.679323Z",
     "shell.execute_reply": "2022-12-08T11:46:38.678413Z"
    },
    "papermill": {
     "duration": 0.114025,
     "end_time": "2022-12-08T11:46:38.681805",
     "exception": false,
     "start_time": "2022-12-08T11:46:38.567780",
     "status": "completed"
    },
    "tags": []
   },
   "outputs": [],
   "source": [
    "data = pd.read_csv('/kaggle/working/creditApprovalUCI.csv')"
   ]
  },
  {
   "cell_type": "code",
   "execution_count": 271,
   "id": "b41eea15",
   "metadata": {
    "execution": {
     "iopub.execute_input": "2022-12-08T11:46:38.886719Z",
     "iopub.status.busy": "2022-12-08T11:46:38.886281Z",
     "iopub.status.idle": "2022-12-08T11:46:38.894577Z",
     "shell.execute_reply": "2022-12-08T11:46:38.893110Z"
    },
    "papermill": {
     "duration": 0.114654,
     "end_time": "2022-12-08T11:46:38.897265",
     "exception": false,
     "start_time": "2022-12-08T11:46:38.782611",
     "status": "completed"
    },
    "tags": []
   },
   "outputs": [],
   "source": [
    "X_train, X_test, y_train, y_test = train_test_split(\n",
    "    data, data['A16'], test_size=0.3, random_state=0)"
   ]
  },
  {
   "cell_type": "code",
   "execution_count": 272,
   "id": "1af1c060",
   "metadata": {
    "execution": {
     "iopub.execute_input": "2022-12-08T11:46:39.105266Z",
     "iopub.status.busy": "2022-12-08T11:46:39.103893Z",
     "iopub.status.idle": "2022-12-08T11:46:39.110974Z",
     "shell.execute_reply": "2022-12-08T11:46:39.110034Z"
    },
    "papermill": {
     "duration": 0.114411,
     "end_time": "2022-12-08T11:46:39.113302",
     "exception": false,
     "start_time": "2022-12-08T11:46:38.998891",
     "status": "completed"
    },
    "tags": []
   },
   "outputs": [],
   "source": [
    "ordered_labels = X_train.groupby(['A7'])['A16'].mean().to_dict()"
   ]
  },
  {
   "cell_type": "code",
   "execution_count": 273,
   "id": "1b99c867",
   "metadata": {
    "execution": {
     "iopub.execute_input": "2022-12-08T11:46:39.318235Z",
     "iopub.status.busy": "2022-12-08T11:46:39.317401Z",
     "iopub.status.idle": "2022-12-08T11:46:39.323215Z",
     "shell.execute_reply": "2022-12-08T11:46:39.321604Z"
    },
    "papermill": {
     "duration": 0.110053,
     "end_time": "2022-12-08T11:46:39.325667",
     "exception": false,
     "start_time": "2022-12-08T11:46:39.215614",
     "status": "completed"
    },
    "tags": []
   },
   "outputs": [
    {
     "name": "stdout",
     "output_type": "stream",
     "text": [
      "{'Missing': 1.0, 'bb': 0.5128205128205128, 'dd': 0.4, 'ff': 0.14634146341463414, 'h': 0.6039603960396039, 'j': 0.2, 'n': 0.6666666666666666, 'o': 0.0, 'v': 0.4187725631768953, 'z': 0.7142857142857143}\n"
     ]
    }
   ],
   "source": [
    "print(ordered_labels)"
   ]
  },
  {
   "cell_type": "code",
   "execution_count": 274,
   "id": "a3186c47",
   "metadata": {
    "execution": {
     "iopub.execute_input": "2022-12-08T11:46:39.531551Z",
     "iopub.status.busy": "2022-12-08T11:46:39.530310Z",
     "iopub.status.idle": "2022-12-08T11:46:39.538187Z",
     "shell.execute_reply": "2022-12-08T11:46:39.536990Z"
    },
    "papermill": {
     "duration": 0.114502,
     "end_time": "2022-12-08T11:46:39.540863",
     "exception": false,
     "start_time": "2022-12-08T11:46:39.426361",
     "status": "completed"
    },
    "tags": []
   },
   "outputs": [],
   "source": [
    "X_train['A7'] = X_train['A7'].map(ordered_labels)\n",
    "X_test['A7'] = X_test['A7'].map(ordered_labels)"
   ]
  },
  {
   "cell_type": "code",
   "execution_count": 275,
   "id": "63adc073",
   "metadata": {
    "execution": {
     "iopub.execute_input": "2022-12-08T11:46:39.748817Z",
     "iopub.status.busy": "2022-12-08T11:46:39.748373Z",
     "iopub.status.idle": "2022-12-08T11:46:39.757938Z",
     "shell.execute_reply": "2022-12-08T11:46:39.756712Z"
    },
    "papermill": {
     "duration": 0.117488,
     "end_time": "2022-12-08T11:46:39.761365",
     "exception": false,
     "start_time": "2022-12-08T11:46:39.643877",
     "status": "completed"
    },
    "tags": []
   },
   "outputs": [],
   "source": [
    "X_train, X_test, y_train, y_test = train_test_split(\n",
    "data.drop(labels=['A16'], axis=1), data['A16'],\n",
    "test_size=0.3, random_state=0)"
   ]
  },
  {
   "cell_type": "code",
   "execution_count": 276,
   "id": "70bd7fb8",
   "metadata": {
    "execution": {
     "iopub.execute_input": "2022-12-08T11:46:39.973118Z",
     "iopub.status.busy": "2022-12-08T11:46:39.972712Z",
     "iopub.status.idle": "2022-12-08T11:46:39.977833Z",
     "shell.execute_reply": "2022-12-08T11:46:39.976409Z"
    },
    "papermill": {
     "duration": 0.112204,
     "end_time": "2022-12-08T11:46:39.980355",
     "exception": false,
     "start_time": "2022-12-08T11:46:39.868151",
     "status": "completed"
    },
    "tags": []
   },
   "outputs": [],
   "source": [
    "mean_enc = MeanEncoder(variables=None)"
   ]
  },
  {
   "cell_type": "code",
   "execution_count": 277,
   "id": "d75d09ad",
   "metadata": {
    "execution": {
     "iopub.execute_input": "2022-12-08T11:46:40.183841Z",
     "iopub.status.busy": "2022-12-08T11:46:40.183183Z",
     "iopub.status.idle": "2022-12-08T11:46:40.213216Z",
     "shell.execute_reply": "2022-12-08T11:46:40.212049Z"
    },
    "papermill": {
     "duration": 0.133053,
     "end_time": "2022-12-08T11:46:40.215520",
     "exception": false,
     "start_time": "2022-12-08T11:46:40.082467",
     "status": "completed"
    },
    "tags": []
   },
   "outputs": [
    {
     "data": {
      "text/plain": [
       "MeanEncoder()"
      ]
     },
     "execution_count": 277,
     "metadata": {},
     "output_type": "execute_result"
    }
   ],
   "source": [
    "mean_enc.fit(X_train, y_train)"
   ]
  },
  {
   "cell_type": "code",
   "execution_count": 278,
   "id": "12749203",
   "metadata": {
    "execution": {
     "iopub.execute_input": "2022-12-08T11:46:40.416859Z",
     "iopub.status.busy": "2022-12-08T11:46:40.416147Z",
     "iopub.status.idle": "2022-12-08T11:46:40.442996Z",
     "shell.execute_reply": "2022-12-08T11:46:40.441850Z"
    },
    "papermill": {
     "duration": 0.131034,
     "end_time": "2022-12-08T11:46:40.445862",
     "exception": false,
     "start_time": "2022-12-08T11:46:40.314828",
     "status": "completed"
    },
    "tags": []
   },
   "outputs": [],
   "source": [
    "X_train_enc = mean_enc.transform(X_train)\n",
    "X_test_enc = mean_enc.transform(X_test)"
   ]
  },
  {
   "cell_type": "markdown",
   "id": "89630971",
   "metadata": {
    "papermill": {
     "duration": 0.102368,
     "end_time": "2022-12-08T11:46:40.709340",
     "exception": false,
     "start_time": "2022-12-08T11:46:40.606972",
     "status": "completed"
    },
    "tags": []
   },
   "source": [
    "**How it works...**\n",
    "\n",
    "In this recipe, we replaced the categories with the mean target value using pandas and\n",
    "Feature-engine.\n",
    "\n",
    "We first loaded the dataset and divided it into train and test sets. Next, we calculated the mean of the target per category. With pandas' `groupby()` method over the categorical A7 variable, followed by pandas' `mean()` method over the target A16 variable, we created a pandas Series with the categories as indices and the target mean as values. With pandas' `to_dict()` method, we converted this Series into a dictionary. Finally, we used this dictionary to replace the categories in the train and test sets using pandas' `map()` method.\n",
    "\n",
    "To perform the encoding with Feature-engine, we called `OrdinalEncoder()` and set `encoding_method` to `'ordered'`. With the `fit()` method, the transformer found and stored the categorical variables, and then learned and stored the category to mean target value pairs, as a dictionary of dictionaries in its `encoder_dict_` attribute. Finally, with the `transform()` method, categories were replaced with numbers in train and test sets, returning pandas dataframes."
   ]
  },
  {
   "cell_type": "markdown",
   "id": "65b5f88d",
   "metadata": {
    "papermill": {
     "duration": 0.100733,
     "end_time": "2022-12-08T11:46:40.910126",
     "exception": false,
     "start_time": "2022-12-08T11:46:40.809393",
     "status": "completed"
    },
    "tags": []
   },
   "source": [
    "# 3.7. Encoding with the Weight of Evidence"
   ]
  },
  {
   "cell_type": "markdown",
   "id": "cc782ec6",
   "metadata": {
    "papermill": {
     "duration": 0.099842,
     "end_time": "2022-12-08T11:46:41.109977",
     "exception": false,
     "start_time": "2022-12-08T11:46:41.010135",
     "status": "completed"
    },
    "tags": []
   },
   "source": [
    "The Weight of Evidence (WoE) was developed primarily for credit and financial industries\n",
    "to facilitate variable screening and exploratory analysis and to build more predictive linear models to evaluate the risk of loan default; that is, to predict how likely money lent to a person or institution is to be lost.\n",
    "\n",
    "The WoE is computed from the basic odds ratio:\n",
    "\n",
    "`WoE = log(p(Y=1)/p(Y=0))`\n",
    "\n",
    "Here, p(Y=1) is the probability of an event occurring. Therefore, the WoE takes the\n",
    "following values:\n",
    "\n",
    "* WoE = 0 if p(1) / p(0) = 1, that is, if the outcome is random\n",
    "* WoE > 0 if p(1) > p(0)\n",
    "* WoE < 0 if p(0) > p(1)\n",
    "\n",
    "This allows for a direct visualization of the predictive power of the category in the variable: the higher the WoE, the more likely the event will occur, and in fact, if the W0E is positive, the event is likely to occur.\n",
    "\n",
    "Logistic regression models a binary response, Y, based off X predictor variables, assuming that there is a linear relationship between X and the log of odds of Y:\n",
    "\n",
    "`WoE = log(p(Y=1)/p(Y=0)) = b0 + b1X1 + b2X2 +...+bnXn`\n",
    "\n",
    "Here, log (p(Y=1)/p(Y=0)) is the log of odds. As you can see, the WoE encodes the categories in the same scale, that is, the log of odds, as the outcome of the logistic regression. Therefore, by using WoE, the predictors are prepared and coded in the same scale, and the parameters in the logistic regression, that is, the coefficients, can be directly compared.\n",
    "\n",
    "In this recipe, we will perform WoE encoding using pandas and Feature-engine."
   ]
  },
  {
   "cell_type": "code",
   "execution_count": 279,
   "id": "3c05c36e",
   "metadata": {
    "execution": {
     "iopub.execute_input": "2022-12-08T11:46:41.315624Z",
     "iopub.status.busy": "2022-12-08T11:46:41.314890Z",
     "iopub.status.idle": "2022-12-08T11:46:41.320160Z",
     "shell.execute_reply": "2022-12-08T11:46:41.318972Z"
    },
    "papermill": {
     "duration": 0.111095,
     "end_time": "2022-12-08T11:46:41.323035",
     "exception": false,
     "start_time": "2022-12-08T11:46:41.211940",
     "status": "completed"
    },
    "tags": []
   },
   "outputs": [],
   "source": [
    "import pandas as pd\n",
    "from sklearn.model_selection import train_test_split\n",
    "from feature_engine.encoding import WoEEncoder"
   ]
  },
  {
   "cell_type": "code",
   "execution_count": 280,
   "id": "a7def181",
   "metadata": {
    "execution": {
     "iopub.execute_input": "2022-12-08T11:46:41.529442Z",
     "iopub.status.busy": "2022-12-08T11:46:41.528706Z",
     "iopub.status.idle": "2022-12-08T11:46:41.537342Z",
     "shell.execute_reply": "2022-12-08T11:46:41.536512Z"
    },
    "papermill": {
     "duration": 0.115034,
     "end_time": "2022-12-08T11:46:41.539920",
     "exception": false,
     "start_time": "2022-12-08T11:46:41.424886",
     "status": "completed"
    },
    "tags": []
   },
   "outputs": [],
   "source": [
    "data = pd.read_csv('/kaggle/working/creditApprovalUCI.csv')"
   ]
  },
  {
   "cell_type": "code",
   "execution_count": 281,
   "id": "182263f2",
   "metadata": {
    "execution": {
     "iopub.execute_input": "2022-12-08T11:46:41.743384Z",
     "iopub.status.busy": "2022-12-08T11:46:41.742710Z",
     "iopub.status.idle": "2022-12-08T11:46:41.749292Z",
     "shell.execute_reply": "2022-12-08T11:46:41.748485Z"
    },
    "papermill": {
     "duration": 0.111802,
     "end_time": "2022-12-08T11:46:41.751671",
     "exception": false,
     "start_time": "2022-12-08T11:46:41.639869",
     "status": "completed"
    },
    "tags": []
   },
   "outputs": [],
   "source": [
    "X_train, X_test, y_train, y_test = train_test_split(\n",
    "data, data['A16'],test_size=0.3, random_state=0)"
   ]
  },
  {
   "cell_type": "code",
   "execution_count": 282,
   "id": "27fdb9dd",
   "metadata": {
    "execution": {
     "iopub.execute_input": "2022-12-08T11:46:41.954915Z",
     "iopub.status.busy": "2022-12-08T11:46:41.954164Z",
     "iopub.status.idle": "2022-12-08T11:46:41.960300Z",
     "shell.execute_reply": "2022-12-08T11:46:41.959351Z"
    },
    "papermill": {
     "duration": 0.109698,
     "end_time": "2022-12-08T11:46:41.962788",
     "exception": false,
     "start_time": "2022-12-08T11:46:41.853090",
     "status": "completed"
    },
    "tags": []
   },
   "outputs": [],
   "source": [
    "p1 = X_train.groupby(['A1'])['A16'].mean()"
   ]
  },
  {
   "cell_type": "code",
   "execution_count": 283,
   "id": "1be13849",
   "metadata": {
    "execution": {
     "iopub.execute_input": "2022-12-08T11:46:42.163468Z",
     "iopub.status.busy": "2022-12-08T11:46:42.162810Z",
     "iopub.status.idle": "2022-12-08T11:46:42.167492Z",
     "shell.execute_reply": "2022-12-08T11:46:42.166590Z"
    },
    "papermill": {
     "duration": 0.107959,
     "end_time": "2022-12-08T11:46:42.170063",
     "exception": false,
     "start_time": "2022-12-08T11:46:42.062104",
     "status": "completed"
    },
    "tags": []
   },
   "outputs": [],
   "source": [
    "p0 = 1 - p1"
   ]
  },
  {
   "cell_type": "code",
   "execution_count": 284,
   "id": "6bdb8e13",
   "metadata": {
    "execution": {
     "iopub.execute_input": "2022-12-08T11:46:42.374112Z",
     "iopub.status.busy": "2022-12-08T11:46:42.373280Z",
     "iopub.status.idle": "2022-12-08T11:46:42.378845Z",
     "shell.execute_reply": "2022-12-08T11:46:42.377765Z"
    },
    "papermill": {
     "duration": 0.109553,
     "end_time": "2022-12-08T11:46:42.381117",
     "exception": false,
     "start_time": "2022-12-08T11:46:42.271564",
     "status": "completed"
    },
    "tags": []
   },
   "outputs": [],
   "source": [
    "woe = dict(np.log(p1 / p0))"
   ]
  },
  {
   "cell_type": "code",
   "execution_count": 285,
   "id": "993d5277",
   "metadata": {
    "execution": {
     "iopub.execute_input": "2022-12-08T11:46:42.587375Z",
     "iopub.status.busy": "2022-12-08T11:46:42.586398Z",
     "iopub.status.idle": "2022-12-08T11:46:42.592059Z",
     "shell.execute_reply": "2022-12-08T11:46:42.590881Z"
    },
    "papermill": {
     "duration": 0.110963,
     "end_time": "2022-12-08T11:46:42.594586",
     "exception": false,
     "start_time": "2022-12-08T11:46:42.483623",
     "status": "completed"
    },
    "tags": []
   },
   "outputs": [
    {
     "name": "stdout",
     "output_type": "stream",
     "text": [
      "{'Missing': 0.0, 'a': -0.11122563511022437, 'b': -0.24600937605121306}\n"
     ]
    }
   ],
   "source": [
    "print(woe)"
   ]
  },
  {
   "cell_type": "code",
   "execution_count": 286,
   "id": "fcc1c16b",
   "metadata": {
    "execution": {
     "iopub.execute_input": "2022-12-08T11:46:42.800271Z",
     "iopub.status.busy": "2022-12-08T11:46:42.799868Z",
     "iopub.status.idle": "2022-12-08T11:46:42.807103Z",
     "shell.execute_reply": "2022-12-08T11:46:42.806184Z"
    },
    "papermill": {
     "duration": 0.111807,
     "end_time": "2022-12-08T11:46:42.809356",
     "exception": false,
     "start_time": "2022-12-08T11:46:42.697549",
     "status": "completed"
    },
    "tags": []
   },
   "outputs": [],
   "source": [
    "X_train['A1'] = X_train['A1'].map(woe)\n",
    "X_test['A1'] = X_test['A1'].map(woe)"
   ]
  },
  {
   "cell_type": "code",
   "execution_count": 287,
   "id": "74b6ecba",
   "metadata": {
    "execution": {
     "iopub.execute_input": "2022-12-08T11:46:43.012623Z",
     "iopub.status.busy": "2022-12-08T11:46:43.011990Z",
     "iopub.status.idle": "2022-12-08T11:46:43.019734Z",
     "shell.execute_reply": "2022-12-08T11:46:43.018565Z"
    },
    "papermill": {
     "duration": 0.113157,
     "end_time": "2022-12-08T11:46:43.022520",
     "exception": false,
     "start_time": "2022-12-08T11:46:42.909363",
     "status": "completed"
    },
    "tags": []
   },
   "outputs": [],
   "source": [
    "X_train, X_test, y_train, y_test = train_test_split(\n",
    "data.drop(labels=['A16'], axis=1), data['A16'],\n",
    "test_size=0.3, random_state=0)"
   ]
  },
  {
   "cell_type": "code",
   "execution_count": 288,
   "id": "07179590",
   "metadata": {
    "execution": {
     "iopub.execute_input": "2022-12-08T11:46:43.226508Z",
     "iopub.status.busy": "2022-12-08T11:46:43.225742Z",
     "iopub.status.idle": "2022-12-08T11:46:43.230947Z",
     "shell.execute_reply": "2022-12-08T11:46:43.230180Z"
    },
    "papermill": {
     "duration": 0.108423,
     "end_time": "2022-12-08T11:46:43.233181",
     "exception": false,
     "start_time": "2022-12-08T11:46:43.124758",
     "status": "completed"
    },
    "tags": []
   },
   "outputs": [],
   "source": [
    "woe_enc = WoEEncoder(variables=['A1', 'A10', 'A12'])"
   ]
  },
  {
   "cell_type": "code",
   "execution_count": 289,
   "id": "1630ad32",
   "metadata": {
    "execution": {
     "iopub.execute_input": "2022-12-08T11:46:43.495181Z",
     "iopub.status.busy": "2022-12-08T11:46:43.494533Z",
     "iopub.status.idle": "2022-12-08T11:46:43.527301Z",
     "shell.execute_reply": "2022-12-08T11:46:43.526079Z"
    },
    "papermill": {
     "duration": 0.196273,
     "end_time": "2022-12-08T11:46:43.529718",
     "exception": false,
     "start_time": "2022-12-08T11:46:43.333445",
     "status": "completed"
    },
    "tags": []
   },
   "outputs": [
    {
     "data": {
      "text/plain": [
       "WoEEncoder(variables=['A1', 'A10', 'A12'])"
      ]
     },
     "execution_count": 289,
     "metadata": {},
     "output_type": "execute_result"
    }
   ],
   "source": [
    "woe_enc.fit(X_train, y_train)"
   ]
  },
  {
   "cell_type": "code",
   "execution_count": 290,
   "id": "72c32e04",
   "metadata": {
    "execution": {
     "iopub.execute_input": "2022-12-08T11:46:43.733557Z",
     "iopub.status.busy": "2022-12-08T11:46:43.733122Z",
     "iopub.status.idle": "2022-12-08T11:46:43.750916Z",
     "shell.execute_reply": "2022-12-08T11:46:43.749700Z"
    },
    "papermill": {
     "duration": 0.124418,
     "end_time": "2022-12-08T11:46:43.753817",
     "exception": false,
     "start_time": "2022-12-08T11:46:43.629399",
     "status": "completed"
    },
    "tags": []
   },
   "outputs": [],
   "source": [
    "X_train_enc = woe_enc.transform(X_train)\n",
    "X_test_enc = woe_enc.transform(X_test)"
   ]
  },
  {
   "cell_type": "markdown",
   "id": "77febc61",
   "metadata": {
    "papermill": {
     "duration": 0.099522,
     "end_time": "2022-12-08T11:46:43.954464",
     "exception": false,
     "start_time": "2022-12-08T11:46:43.854942",
     "status": "completed"
    },
    "tags": []
   },
   "source": [
    "**How it works...**\n",
    "\n",
    "In this recipe, we replaced the categories with the WoE using pandas and Feature-engine.\n",
    "\n",
    "We first loaded the dataset and divided it into train and test sets. Next, we calculated the mean target value per category using pandas' `groupby()` method over the categorical\n",
    "A1 variable and pandas' `mean()` method over the target A16 variable. This is equivalent to the probability of the target being 1, that is, p(1), per category. The output of these operations was a pandas Series with the categories as indices and the target mean as values. Next, we subtracted this pandas Series from 1 to create another pandas Series with the probability of the target being 0, that is, p(0), per category. Next, we created a third pandas Series with the logarithm of the ratio of the first and the second pandas Series, that is, the logarithm of the ratio of p(1) and p(0) per category. With the built-in Python `dict()` method, we captured the category-to-WoE value pairs in a dictionary. Finally, we used this dictionary to replace the categories in the train and test sets using pandas' `map()` method.\n",
    "\n",
    "To perform WoE encoding with Feature-engine, we used `WoEEncoder()`. We also\n",
    "passed a list with categorical variables to encode to the variables argument. With the\n",
    "`fit() `method, the transformer learned and stored the category to WoE pairs. Finally, with `transform()`, the categories of the three selected variables were replaced by the WoE values, returning pandas dataframes."
   ]
  },
  {
   "cell_type": "markdown",
   "id": "874f6702",
   "metadata": {
    "papermill": {
     "duration": 0.099133,
     "end_time": "2022-12-08T11:46:44.153951",
     "exception": false,
     "start_time": "2022-12-08T11:46:44.054818",
     "status": "completed"
    },
    "tags": []
   },
   "source": [
    "# 3.8. Grouping rare or infrequent categories"
   ]
  },
  {
   "cell_type": "markdown",
   "id": "fdcf2e86",
   "metadata": {
    "papermill": {
     "duration": 0.100029,
     "end_time": "2022-12-08T11:46:44.353616",
     "exception": false,
     "start_time": "2022-12-08T11:46:44.253587",
     "status": "completed"
    },
    "tags": []
   },
   "source": [
    "Rare values are those categories that are present only in a small percentage of the\n",
    "observations. There is no rule of thumb to determine how small is a small percentage, but typically, any value below 5 % can be considered rare. Infrequent labels often appear only on the train set or only on the test set, therefore making the algorithms prone to overfitting or unable to score an observation. To avoid these complications, we can group infrequent categories into a new category called Rare or Other.\n",
    "\n",
    "In this recipe, we will group infrequent categories using pandas and Feature-engine."
   ]
  },
  {
   "cell_type": "code",
   "execution_count": 291,
   "id": "e6300ff6",
   "metadata": {
    "execution": {
     "iopub.execute_input": "2022-12-08T11:46:44.558848Z",
     "iopub.status.busy": "2022-12-08T11:46:44.558439Z",
     "iopub.status.idle": "2022-12-08T11:46:44.563632Z",
     "shell.execute_reply": "2022-12-08T11:46:44.562381Z"
    },
    "papermill": {
     "duration": 0.111735,
     "end_time": "2022-12-08T11:46:44.566043",
     "exception": false,
     "start_time": "2022-12-08T11:46:44.454308",
     "status": "completed"
    },
    "tags": []
   },
   "outputs": [],
   "source": [
    "import numpy as np\n",
    "import pandas as pd\n",
    "from sklearn.model_selection import train_test_split\n",
    "from feature_engine.encoding import RareLabelEncoder"
   ]
  },
  {
   "cell_type": "code",
   "execution_count": 292,
   "id": "3a728067",
   "metadata": {
    "execution": {
     "iopub.execute_input": "2022-12-08T11:46:44.770789Z",
     "iopub.status.busy": "2022-12-08T11:46:44.769724Z",
     "iopub.status.idle": "2022-12-08T11:46:44.780224Z",
     "shell.execute_reply": "2022-12-08T11:46:44.778295Z"
    },
    "papermill": {
     "duration": 0.11666,
     "end_time": "2022-12-08T11:46:44.782793",
     "exception": false,
     "start_time": "2022-12-08T11:46:44.666133",
     "status": "completed"
    },
    "tags": []
   },
   "outputs": [],
   "source": [
    "data = pd.read_csv('/kaggle/working/creditApprovalUCI.csv')"
   ]
  },
  {
   "cell_type": "code",
   "execution_count": 293,
   "id": "a153a7f0",
   "metadata": {
    "execution": {
     "iopub.execute_input": "2022-12-08T11:46:44.995992Z",
     "iopub.status.busy": "2022-12-08T11:46:44.995282Z",
     "iopub.status.idle": "2022-12-08T11:46:45.003551Z",
     "shell.execute_reply": "2022-12-08T11:46:45.002658Z"
    },
    "papermill": {
     "duration": 0.115524,
     "end_time": "2022-12-08T11:46:45.005917",
     "exception": false,
     "start_time": "2022-12-08T11:46:44.890393",
     "status": "completed"
    },
    "tags": []
   },
   "outputs": [],
   "source": [
    "X_train, X_test, y_train, y_test = train_test_split(\n",
    "data.drop(labels=['A16'], axis=1), data['A16'],test_size=0.3,\n",
    "random_state=0)"
   ]
  },
  {
   "cell_type": "code",
   "execution_count": 294,
   "id": "9504234b",
   "metadata": {
    "execution": {
     "iopub.execute_input": "2022-12-08T11:46:45.221796Z",
     "iopub.status.busy": "2022-12-08T11:46:45.221102Z",
     "iopub.status.idle": "2022-12-08T11:46:45.230196Z",
     "shell.execute_reply": "2022-12-08T11:46:45.229053Z"
    },
    "papermill": {
     "duration": 0.114704,
     "end_time": "2022-12-08T11:46:45.232558",
     "exception": false,
     "start_time": "2022-12-08T11:46:45.117854",
     "status": "completed"
    },
    "tags": []
   },
   "outputs": [
    {
     "data": {
      "text/plain": [
       "v          0.573499\n",
       "h          0.209110\n",
       "ff         0.084886\n",
       "bb         0.080745\n",
       "z          0.014493\n",
       "dd         0.010352\n",
       "j          0.010352\n",
       "Missing    0.008282\n",
       "n          0.006211\n",
       "o          0.002070\n",
       "Name: A7, dtype: float64"
      ]
     },
     "execution_count": 294,
     "metadata": {},
     "output_type": "execute_result"
    }
   ],
   "source": [
    "X_train['A7'].value_counts() / len(X_train)"
   ]
  },
  {
   "cell_type": "code",
   "execution_count": 295,
   "id": "d664cf20",
   "metadata": {
    "execution": {
     "iopub.execute_input": "2022-12-08T11:46:45.433338Z",
     "iopub.status.busy": "2022-12-08T11:46:45.432341Z",
     "iopub.status.idle": "2022-12-08T11:46:45.438874Z",
     "shell.execute_reply": "2022-12-08T11:46:45.438037Z"
    },
    "papermill": {
     "duration": 0.109151,
     "end_time": "2022-12-08T11:46:45.441139",
     "exception": false,
     "start_time": "2022-12-08T11:46:45.331988",
     "status": "completed"
    },
    "tags": []
   },
   "outputs": [],
   "source": [
    "def find_frequent_labels(df, variable, tolerance):\n",
    "    temp = df[variable].value_counts() / len(df)\n",
    "    frequent = [x for x in temp.loc[temp>tolerance].index.values]\n",
    "    return frequent"
   ]
  },
  {
   "cell_type": "code",
   "execution_count": 296,
   "id": "e910817d",
   "metadata": {
    "execution": {
     "iopub.execute_input": "2022-12-08T11:46:45.646233Z",
     "iopub.status.busy": "2022-12-08T11:46:45.645614Z",
     "iopub.status.idle": "2022-12-08T11:46:45.652008Z",
     "shell.execute_reply": "2022-12-08T11:46:45.650992Z"
    },
    "papermill": {
     "duration": 0.111036,
     "end_time": "2022-12-08T11:46:45.654321",
     "exception": false,
     "start_time": "2022-12-08T11:46:45.543285",
     "status": "completed"
    },
    "tags": []
   },
   "outputs": [],
   "source": [
    "frequent_cat = find_frequent_labels(X_train, 'A7', 0.05)"
   ]
  },
  {
   "cell_type": "code",
   "execution_count": 297,
   "id": "d0adc0d7",
   "metadata": {
    "execution": {
     "iopub.execute_input": "2022-12-08T11:46:45.861025Z",
     "iopub.status.busy": "2022-12-08T11:46:45.860615Z",
     "iopub.status.idle": "2022-12-08T11:46:45.866285Z",
     "shell.execute_reply": "2022-12-08T11:46:45.864986Z"
    },
    "papermill": {
     "duration": 0.113768,
     "end_time": "2022-12-08T11:46:45.869576",
     "exception": false,
     "start_time": "2022-12-08T11:46:45.755808",
     "status": "completed"
    },
    "tags": []
   },
   "outputs": [
    {
     "name": "stdout",
     "output_type": "stream",
     "text": [
      "['v', 'h', 'ff', 'bb']\n"
     ]
    }
   ],
   "source": [
    "print(frequent_cat)"
   ]
  },
  {
   "cell_type": "code",
   "execution_count": 298,
   "id": "e02202e0",
   "metadata": {
    "execution": {
     "iopub.execute_input": "2022-12-08T11:46:46.075784Z",
     "iopub.status.busy": "2022-12-08T11:46:46.075218Z",
     "iopub.status.idle": "2022-12-08T11:46:46.082644Z",
     "shell.execute_reply": "2022-12-08T11:46:46.081804Z"
    },
    "papermill": {
     "duration": 0.112269,
     "end_time": "2022-12-08T11:46:46.084880",
     "exception": false,
     "start_time": "2022-12-08T11:46:45.972611",
     "status": "completed"
    },
    "tags": []
   },
   "outputs": [],
   "source": [
    "X_train['A7'] = np.where(X_train['A7'].isin(frequent_cat),\n",
    "X_train['A7'], 'Rare')\n",
    "X_test['A7'] = np.where(X_test['A7'].isin(frequent_cat),\n",
    "X_test['A7'], 'Rare')"
   ]
  },
  {
   "cell_type": "code",
   "execution_count": 299,
   "id": "a16fefcc",
   "metadata": {
    "execution": {
     "iopub.execute_input": "2022-12-08T11:46:46.288578Z",
     "iopub.status.busy": "2022-12-08T11:46:46.287683Z",
     "iopub.status.idle": "2022-12-08T11:46:46.297986Z",
     "shell.execute_reply": "2022-12-08T11:46:46.296926Z"
    },
    "papermill": {
     "duration": 0.113993,
     "end_time": "2022-12-08T11:46:46.300549",
     "exception": false,
     "start_time": "2022-12-08T11:46:46.186556",
     "status": "completed"
    },
    "tags": []
   },
   "outputs": [
    {
     "data": {
      "text/plain": [
       "v       0.573499\n",
       "h       0.209110\n",
       "ff      0.084886\n",
       "bb      0.080745\n",
       "Rare    0.051760\n",
       "Name: A7, dtype: float64"
      ]
     },
     "execution_count": 299,
     "metadata": {},
     "output_type": "execute_result"
    }
   ],
   "source": [
    "X_train['A7'].value_counts() / len(X_train)"
   ]
  },
  {
   "cell_type": "code",
   "execution_count": 300,
   "id": "30ed39ad",
   "metadata": {
    "execution": {
     "iopub.execute_input": "2022-12-08T11:46:46.563652Z",
     "iopub.status.busy": "2022-12-08T11:46:46.562840Z",
     "iopub.status.idle": "2022-12-08T11:46:46.569556Z",
     "shell.execute_reply": "2022-12-08T11:46:46.567681Z"
    },
    "papermill": {
     "duration": 0.112806,
     "end_time": "2022-12-08T11:46:46.572235",
     "exception": false,
     "start_time": "2022-12-08T11:46:46.459429",
     "status": "completed"
    },
    "tags": []
   },
   "outputs": [],
   "source": [
    "rare_encoder = RareLabelEncoder(tol=0.05,\n",
    "n_categories=4)"
   ]
  },
  {
   "cell_type": "code",
   "execution_count": 301,
   "id": "d83e44a1",
   "metadata": {
    "execution": {
     "iopub.execute_input": "2022-12-08T11:46:46.775181Z",
     "iopub.status.busy": "2022-12-08T11:46:46.774757Z",
     "iopub.status.idle": "2022-12-08T11:46:46.803456Z",
     "shell.execute_reply": "2022-12-08T11:46:46.802028Z"
    },
    "papermill": {
     "duration": 0.133117,
     "end_time": "2022-12-08T11:46:46.806853",
     "exception": false,
     "start_time": "2022-12-08T11:46:46.673736",
     "status": "completed"
    },
    "tags": []
   },
   "outputs": [
    {
     "name": "stderr",
     "output_type": "stream",
     "text": [
      "/opt/conda/lib/python3.7/site-packages/feature_engine/encoding/rare_label.py:181: UserWarning: The number of unique categories for variable A1 is less than that indicated in n_categories. Thus, all categories will be considered frequent\n",
      "  \"considered frequent\".format(var)\n",
      "/opt/conda/lib/python3.7/site-packages/feature_engine/encoding/rare_label.py:181: UserWarning: The number of unique categories for variable A4 is less than that indicated in n_categories. Thus, all categories will be considered frequent\n",
      "  \"considered frequent\".format(var)\n",
      "/opt/conda/lib/python3.7/site-packages/feature_engine/encoding/rare_label.py:181: UserWarning: The number of unique categories for variable A5 is less than that indicated in n_categories. Thus, all categories will be considered frequent\n",
      "  \"considered frequent\".format(var)\n",
      "/opt/conda/lib/python3.7/site-packages/feature_engine/encoding/rare_label.py:181: UserWarning: The number of unique categories for variable A9 is less than that indicated in n_categories. Thus, all categories will be considered frequent\n",
      "  \"considered frequent\".format(var)\n",
      "/opt/conda/lib/python3.7/site-packages/feature_engine/encoding/rare_label.py:181: UserWarning: The number of unique categories for variable A10 is less than that indicated in n_categories. Thus, all categories will be considered frequent\n",
      "  \"considered frequent\".format(var)\n",
      "/opt/conda/lib/python3.7/site-packages/feature_engine/encoding/rare_label.py:181: UserWarning: The number of unique categories for variable A12 is less than that indicated in n_categories. Thus, all categories will be considered frequent\n",
      "  \"considered frequent\".format(var)\n",
      "/opt/conda/lib/python3.7/site-packages/feature_engine/encoding/rare_label.py:181: UserWarning: The number of unique categories for variable A13 is less than that indicated in n_categories. Thus, all categories will be considered frequent\n",
      "  \"considered frequent\".format(var)\n"
     ]
    },
    {
     "data": {
      "text/plain": [
       "RareLabelEncoder(n_categories=4)"
      ]
     },
     "execution_count": 301,
     "metadata": {},
     "output_type": "execute_result"
    }
   ],
   "source": [
    "rare_encoder.fit(X_train)"
   ]
  },
  {
   "cell_type": "code",
   "execution_count": 302,
   "id": "aa674ede",
   "metadata": {
    "execution": {
     "iopub.execute_input": "2022-12-08T11:46:47.010909Z",
     "iopub.status.busy": "2022-12-08T11:46:47.010503Z",
     "iopub.status.idle": "2022-12-08T11:46:47.028426Z",
     "shell.execute_reply": "2022-12-08T11:46:47.027294Z"
    },
    "papermill": {
     "duration": 0.122184,
     "end_time": "2022-12-08T11:46:47.031172",
     "exception": false,
     "start_time": "2022-12-08T11:46:46.908988",
     "status": "completed"
    },
    "tags": []
   },
   "outputs": [],
   "source": [
    "X_train_enc = rare_encoder.transform(X_train)\n",
    "X_test_enc = rare_encoder.transform(X_test)"
   ]
  },
  {
   "cell_type": "markdown",
   "id": "f97d7036",
   "metadata": {
    "papermill": {
     "duration": 0.102052,
     "end_time": "2022-12-08T11:46:47.237839",
     "exception": false,
     "start_time": "2022-12-08T11:46:47.135787",
     "status": "completed"
    },
    "tags": []
   },
   "source": [
    "**How it works...**\n",
    "\n",
    "In this recipe, we grouped infrequent categories using pandas and Feature-engine.\n",
    "\n",
    "We first loaded the dataset and divided it into train and test sets. Next, we determined the percentage of observations per category of the A7 variable. With pandas' `value_counts()` method, we counted the observations per category of A7 and then divided these values by the total number of observations, determined using Python's built-in `len` method, to obtain the percentage of observations per category.\n",
    "\n",
    "Next, we created a function that took as arguments a dataframe, a categorical variable, and a tolerance, which is the minimum frequency for a category not to be considered rare. In the function, we used pandas' `value_counts()` method and Python's `len()` function to create a pandas Series with the categories in the index and the frequency of observations as values. Next, with a list comprehension over the preceding pandas Series, we captured the categories with a frequency higher than the indicated tolerance. In the list comprehension, we first sliced the Series selecting only the categories above the indicated tolerance with pandas' loc method, and next, using pandas' index, we retained the category names in a list.\n",
    "\n",
    "With the preceding function, we captured the frequent categories of A7 in a list and then, using NumPy's `where()` method, we searched each row of A7, and if the observation was one of the frequent categories in the list, which we checked using pandas' `isin()` method, it was kept; otherwise, its original value was replaced with `'Rare'`.\n",
    "\n",
    "We automated the preceding steps for multiple categorical variables using Feature-engine. To do this, we called Feature-engine's `RareLabelEncoder()` categorical\n",
    "encoder, and indicated first the minimum frequency to retain a category by setting `tol` to 0.05, and second, that we only wanted to group rare labels if the variable had at least four different categories by setting `n_categories` to 4. With the `fit()` method, the transformer identified the categorical variables and then it learned and stored the frequent categories per variable. With the `transform()` method, we replaced categories not present in those lists with the string, `Rare`."
   ]
  },
  {
   "cell_type": "markdown",
   "id": "62f83586",
   "metadata": {
    "papermill": {
     "duration": 0.099662,
     "end_time": "2022-12-08T11:46:47.438092",
     "exception": false,
     "start_time": "2022-12-08T11:46:47.338430",
     "status": "completed"
    },
    "tags": []
   },
   "source": [
    "# 3.9. Performing binary encoding"
   ]
  },
  {
   "cell_type": "markdown",
   "id": "f6d75d61",
   "metadata": {
    "papermill": {
     "duration": 0.101395,
     "end_time": "2022-12-08T11:46:47.641094",
     "exception": false,
     "start_time": "2022-12-08T11:46:47.539699",
     "status": "completed"
    },
    "tags": []
   },
   "source": [
    "Binary encoding is an alternative categorical encoding technique that uses binary code, that is, a sequence of zeroes and ones, to represent the different categories of the variable. How does it work? First, the categories are arbitrarily replaced by ordinal numbers, as shown in the intermediate step of the following table. Then, those numbers are converted into binary code. For example, the integer 1 can be represented as the sequence 01, the integer 2 as 10, the integer 3 as 00, and 4 as 11. The digits in the two positions of the binary string become the columns, which are the encoded representation of the original variable:\n",
    "\n",
    "Color Intermediate step 1st 2nd\n",
    "Blue 1 0 1\n",
    "Red 2 1 0\n",
    "Green 3 0 0\n",
    "Yellow 4 1 1\n",
    "\n",
    "Binary encoding encodes the data in fewer dimensions than one-hot encoding. In our\n",
    "example, the color variable would be encoded into k-1 categories, that is, three variables by one-hot encoding, but with binary encoding, we can represent the variable with only two variables. More generally, we determine the number of binary features needed to encode a variable as log2(number of distinct categories); in our example, log2(4) = 2 binary features. Also, the derived features are binary, which is suitable for linear models. But, the derived features lack human interpretability, therefore, the use of this technique in organizations is questionable.\n",
    "\n",
    "In this recipe, we will learn how to perform binary encoding using the Category\n",
    "Encoders Python package."
   ]
  },
  {
   "cell_type": "code",
   "execution_count": 303,
   "id": "2f204c12",
   "metadata": {
    "execution": {
     "iopub.execute_input": "2022-12-08T11:46:47.854933Z",
     "iopub.status.busy": "2022-12-08T11:46:47.854354Z",
     "iopub.status.idle": "2022-12-08T11:46:48.118864Z",
     "shell.execute_reply": "2022-12-08T11:46:48.117460Z"
    },
    "papermill": {
     "duration": 0.376874,
     "end_time": "2022-12-08T11:46:48.121937",
     "exception": false,
     "start_time": "2022-12-08T11:46:47.745063",
     "status": "completed"
    },
    "tags": []
   },
   "outputs": [],
   "source": [
    "import pandas as pd\n",
    "from sklearn.model_selection import train_test_split\n",
    "from category_encoders import BinaryEncoder"
   ]
  },
  {
   "cell_type": "code",
   "execution_count": 304,
   "id": "d80d5df0",
   "metadata": {
    "execution": {
     "iopub.execute_input": "2022-12-08T11:46:48.350420Z",
     "iopub.status.busy": "2022-12-08T11:46:48.350042Z",
     "iopub.status.idle": "2022-12-08T11:46:48.359805Z",
     "shell.execute_reply": "2022-12-08T11:46:48.358587Z"
    },
    "papermill": {
     "duration": 0.116742,
     "end_time": "2022-12-08T11:46:48.362523",
     "exception": false,
     "start_time": "2022-12-08T11:46:48.245781",
     "status": "completed"
    },
    "tags": []
   },
   "outputs": [],
   "source": [
    "data = pd.read_csv('/kaggle/working/creditApprovalUCI.csv')"
   ]
  },
  {
   "cell_type": "code",
   "execution_count": 305,
   "id": "8755ebce",
   "metadata": {
    "execution": {
     "iopub.execute_input": "2022-12-08T11:46:48.568695Z",
     "iopub.status.busy": "2022-12-08T11:46:48.568270Z",
     "iopub.status.idle": "2022-12-08T11:46:48.576961Z",
     "shell.execute_reply": "2022-12-08T11:46:48.576027Z"
    },
    "papermill": {
     "duration": 0.114558,
     "end_time": "2022-12-08T11:46:48.579453",
     "exception": false,
     "start_time": "2022-12-08T11:46:48.464895",
     "status": "completed"
    },
    "tags": []
   },
   "outputs": [],
   "source": [
    "X_train, X_test, y_train, y_test = train_test_split(\n",
    "data.drop(labels=['A16'], axis=1), data['A16'],test_size=0.3,\n",
    "random_state=0)"
   ]
  },
  {
   "cell_type": "code",
   "execution_count": 306,
   "id": "156cb049",
   "metadata": {
    "execution": {
     "iopub.execute_input": "2022-12-08T11:46:48.786415Z",
     "iopub.status.busy": "2022-12-08T11:46:48.786020Z",
     "iopub.status.idle": "2022-12-08T11:46:48.792983Z",
     "shell.execute_reply": "2022-12-08T11:46:48.792083Z"
    },
    "papermill": {
     "duration": 0.1136,
     "end_time": "2022-12-08T11:46:48.795264",
     "exception": false,
     "start_time": "2022-12-08T11:46:48.681664",
     "status": "completed"
    },
    "tags": []
   },
   "outputs": [
    {
     "data": {
      "text/plain": [
       "array(['v', 'ff', 'h', 'dd', 'z', 'bb', 'j', 'Missing', 'n', 'o'],\n",
       "      dtype=object)"
      ]
     },
     "execution_count": 306,
     "metadata": {},
     "output_type": "execute_result"
    }
   ],
   "source": [
    "X_train['A7'].unique()"
   ]
  },
  {
   "cell_type": "code",
   "execution_count": 307,
   "id": "8c5c0bce",
   "metadata": {
    "execution": {
     "iopub.execute_input": "2022-12-08T11:46:49.004537Z",
     "iopub.status.busy": "2022-12-08T11:46:49.004114Z",
     "iopub.status.idle": "2022-12-08T11:46:49.009272Z",
     "shell.execute_reply": "2022-12-08T11:46:49.008342Z"
    },
    "papermill": {
     "duration": 0.109712,
     "end_time": "2022-12-08T11:46:49.011811",
     "exception": false,
     "start_time": "2022-12-08T11:46:48.902099",
     "status": "completed"
    },
    "tags": []
   },
   "outputs": [],
   "source": [
    "encoder = BinaryEncoder(cols=['A7'], drop_invariant=True)"
   ]
  },
  {
   "cell_type": "code",
   "execution_count": 308,
   "id": "898d4c9a",
   "metadata": {
    "execution": {
     "iopub.execute_input": "2022-12-08T11:46:49.215990Z",
     "iopub.status.busy": "2022-12-08T11:46:49.215563Z",
     "iopub.status.idle": "2022-12-08T11:46:49.259260Z",
     "shell.execute_reply": "2022-12-08T11:46:49.257840Z"
    },
    "papermill": {
     "duration": 0.148442,
     "end_time": "2022-12-08T11:46:49.261967",
     "exception": false,
     "start_time": "2022-12-08T11:46:49.113525",
     "status": "completed"
    },
    "tags": []
   },
   "outputs": [
    {
     "data": {
      "text/plain": [
       "BinaryEncoder(cols=['A7'], drop_invariant=True,\n",
       "              mapping=[{'col': 'A7',\n",
       "                        'mapping':      A7_0  A7_1  A7_2  A7_3\n",
       " 1      0     0     0     1\n",
       " 2      0     0     1     0\n",
       " 3      0     0     1     1\n",
       " 4      0     1     0     0\n",
       " 5      0     1     0     1\n",
       " 6      0     1     1     0\n",
       " 7      0     1     1     1\n",
       " 8      1     0     0     0\n",
       " 9      1     0     0     1\n",
       " 10     1     0     1     0\n",
       "-1      0     0     0     0\n",
       "-2      0     0     0     0}])"
      ]
     },
     "execution_count": 308,
     "metadata": {},
     "output_type": "execute_result"
    }
   ],
   "source": [
    "encoder.fit(X_train)"
   ]
  },
  {
   "cell_type": "code",
   "execution_count": 309,
   "id": "6b6aaaf1",
   "metadata": {
    "execution": {
     "iopub.execute_input": "2022-12-08T11:46:49.471182Z",
     "iopub.status.busy": "2022-12-08T11:46:49.470743Z",
     "iopub.status.idle": "2022-12-08T11:46:49.492766Z",
     "shell.execute_reply": "2022-12-08T11:46:49.491498Z"
    },
    "papermill": {
     "duration": 0.130703,
     "end_time": "2022-12-08T11:46:49.495575",
     "exception": false,
     "start_time": "2022-12-08T11:46:49.364872",
     "status": "completed"
    },
    "tags": []
   },
   "outputs": [],
   "source": [
    "X_train_enc = encoder.transform(X_train)\n",
    "X_test_enc = encoder.transform(X_test)"
   ]
  },
  {
   "cell_type": "code",
   "execution_count": 310,
   "id": "d25b9cbb",
   "metadata": {
    "execution": {
     "iopub.execute_input": "2022-12-08T11:46:49.762723Z",
     "iopub.status.busy": "2022-12-08T11:46:49.762275Z",
     "iopub.status.idle": "2022-12-08T11:46:49.776440Z",
     "shell.execute_reply": "2022-12-08T11:46:49.774832Z"
    },
    "papermill": {
     "duration": 0.178317,
     "end_time": "2022-12-08T11:46:49.779587",
     "exception": false,
     "start_time": "2022-12-08T11:46:49.601270",
     "status": "completed"
    },
    "tags": []
   },
   "outputs": [
    {
     "name": "stdout",
     "output_type": "stream",
     "text": [
      "    A1     A2     A3 A4 A5  A6  A7_0  A7_1  A7_2  A7_3      A8 A9 A10  A11  \\\n",
      "596  a  46.08  3.000  u  g   c     0     0     0     1   2.375  t   t    8   \n",
      "303  a  15.92  2.875  u  g   q     0     0     0     1   0.085  f   f    0   \n",
      "204  b  36.33  2.125  y  p   w     0     0     0     1   0.085  t   t    1   \n",
      "351  b  22.17  0.585  y  p  ff     0     0     1     0   0.000  f   f    0   \n",
      "118  b  57.83  7.040  u  g   m     0     0     0     1  14.000  t   t    6   \n",
      "\n",
      "    A12 A13    A14   A15  \n",
      "596   t   g  396.0  4159  \n",
      "303   f   g  120.0     0  \n",
      "204   f   g   50.0  1187  \n",
      "351   f   g  100.0     0  \n",
      "118   t   g  360.0  1332  \n"
     ]
    }
   ],
   "source": [
    "print(X_train_enc.head())"
   ]
  },
  {
   "cell_type": "markdown",
   "id": "b4f1cc5a",
   "metadata": {
    "papermill": {
     "duration": 0.105879,
     "end_time": "2022-12-08T11:46:49.987794",
     "exception": false,
     "start_time": "2022-12-08T11:46:49.881915",
     "status": "completed"
    },
    "tags": []
   },
   "source": [
    "**How it works...**\n",
    "\n",
    "In this recipe, we performed binary encoding using the Category Encoders package. We\n",
    "first loaded the dataset and divided it into train and test sets using `train_test_split()` from scikit-learn. Next, we used `BinaryEncoder()` to encode the A7 variable. With the `fit()` method, `BinaryEncoder()` created a mapping from category to set of binary columns, and with the `transform()` method, the encoder encoded the A7 variable in both the train and test sets.\n",
    "\n",
    "With one-hot encoding, we would have created nine binary variables (k-1 = 10 unique categories - 1 = 9) to encode all of the information in A7. With binary encoding instead, we can represent the variable in less dimensions: log2(10)=3.3, that is, we need only four binary variables."
   ]
  },
  {
   "cell_type": "markdown",
   "id": "6df0d311",
   "metadata": {
    "papermill": {
     "duration": 0.101244,
     "end_time": "2022-12-08T11:46:50.189938",
     "exception": false,
     "start_time": "2022-12-08T11:46:50.088694",
     "status": "completed"
    },
    "tags": []
   },
   "source": [
    "# 3.10. Performing feature hashing"
   ]
  },
  {
   "cell_type": "markdown",
   "id": "d53e62bf",
   "metadata": {
    "papermill": {
     "duration": 0.101184,
     "end_time": "2022-12-08T11:46:50.393457",
     "exception": false,
     "start_time": "2022-12-08T11:46:50.292273",
     "status": "completed"
    },
    "tags": []
   },
   "source": [
    "With feature hashing, the categories of a variable are converted into a series of binary\n",
    "vectors using a hashing function. How does this work? First, we determine, arbitrarily, the number of binary vectors to represent the category. For example, let's say we would like to use five vectors. Next, we need a hash function that will take a category and return a number between 0 and n-1, where n is the number of binary vectors. In our example, the hash function should return a value between 0 and 4. Let's say our hash function returns the value of 3 for the category blue. That means that our category blue will be represented by a 0 in the vectors 0, 1, 2, and 4 and 1 in the vector 3: [0,0,0,1,0]. Any hash function can be used as long as it returns a number between 0 and n-1.\n",
    "\n",
    "An example of a hash function is the module or remainder. In our example, it would be the remainder of 5.\n",
    "\n",
    "In this recipe, we will perform feature hashing using the open source package, Category\n",
    "Encoders."
   ]
  },
  {
   "cell_type": "code",
   "execution_count": 311,
   "id": "9d9f2d9c",
   "metadata": {
    "execution": {
     "iopub.execute_input": "2022-12-08T11:46:50.599638Z",
     "iopub.status.busy": "2022-12-08T11:46:50.598656Z",
     "iopub.status.idle": "2022-12-08T11:46:50.603449Z",
     "shell.execute_reply": "2022-12-08T11:46:50.602572Z"
    },
    "papermill": {
     "duration": 0.111662,
     "end_time": "2022-12-08T11:46:50.605724",
     "exception": false,
     "start_time": "2022-12-08T11:46:50.494062",
     "status": "completed"
    },
    "tags": []
   },
   "outputs": [],
   "source": [
    "import pandas as pd\n",
    "from sklearn.model_selection import train_test_split\n",
    "from category_encoders import HashingEncoder"
   ]
  },
  {
   "cell_type": "code",
   "execution_count": 312,
   "id": "ff364c0e",
   "metadata": {
    "execution": {
     "iopub.execute_input": "2022-12-08T11:46:50.812829Z",
     "iopub.status.busy": "2022-12-08T11:46:50.811937Z",
     "iopub.status.idle": "2022-12-08T11:46:50.821627Z",
     "shell.execute_reply": "2022-12-08T11:46:50.820646Z"
    },
    "papermill": {
     "duration": 0.114954,
     "end_time": "2022-12-08T11:46:50.824259",
     "exception": false,
     "start_time": "2022-12-08T11:46:50.709305",
     "status": "completed"
    },
    "tags": []
   },
   "outputs": [],
   "source": [
    "data = pd.read_csv('/kaggle/working/creditApprovalUCI.csv')"
   ]
  },
  {
   "cell_type": "code",
   "execution_count": 313,
   "id": "958ac4ee",
   "metadata": {
    "execution": {
     "iopub.execute_input": "2022-12-08T11:46:51.032666Z",
     "iopub.status.busy": "2022-12-08T11:46:51.031340Z",
     "iopub.status.idle": "2022-12-08T11:46:51.039782Z",
     "shell.execute_reply": "2022-12-08T11:46:51.038788Z"
    },
    "papermill": {
     "duration": 0.11472,
     "end_time": "2022-12-08T11:46:51.042211",
     "exception": false,
     "start_time": "2022-12-08T11:46:50.927491",
     "status": "completed"
    },
    "tags": []
   },
   "outputs": [],
   "source": [
    "X_train, X_test, y_train, y_test = train_test_split(\n",
    "data.drop(labels=['A16'], axis=1), data['A16'],test_size=0.3,\n",
    "random_state=0)"
   ]
  },
  {
   "cell_type": "code",
   "execution_count": 314,
   "id": "27a01197",
   "metadata": {
    "execution": {
     "iopub.execute_input": "2022-12-08T11:46:51.248976Z",
     "iopub.status.busy": "2022-12-08T11:46:51.248128Z",
     "iopub.status.idle": "2022-12-08T11:46:51.255867Z",
     "shell.execute_reply": "2022-12-08T11:46:51.254917Z"
    },
    "papermill": {
     "duration": 0.11425,
     "end_time": "2022-12-08T11:46:51.258138",
     "exception": false,
     "start_time": "2022-12-08T11:46:51.143888",
     "status": "completed"
    },
    "tags": []
   },
   "outputs": [
    {
     "data": {
      "text/plain": [
       "array(['v', 'ff', 'h', 'dd', 'z', 'bb', 'j', 'Missing', 'n', 'o'],\n",
       "      dtype=object)"
      ]
     },
     "execution_count": 314,
     "metadata": {},
     "output_type": "execute_result"
    }
   ],
   "source": [
    "X_train['A7'].unique()"
   ]
  },
  {
   "cell_type": "code",
   "execution_count": 315,
   "id": "12bb23de",
   "metadata": {
    "execution": {
     "iopub.execute_input": "2022-12-08T11:46:51.462008Z",
     "iopub.status.busy": "2022-12-08T11:46:51.461407Z",
     "iopub.status.idle": "2022-12-08T11:46:51.467311Z",
     "shell.execute_reply": "2022-12-08T11:46:51.466189Z"
    },
    "papermill": {
     "duration": 0.110597,
     "end_time": "2022-12-08T11:46:51.469652",
     "exception": false,
     "start_time": "2022-12-08T11:46:51.359055",
     "status": "completed"
    },
    "tags": []
   },
   "outputs": [],
   "source": [
    "encoder = HashingEncoder(cols=['A7'], n_components=4)"
   ]
  },
  {
   "cell_type": "code",
   "execution_count": 316,
   "id": "355df714",
   "metadata": {
    "execution": {
     "iopub.execute_input": "2022-12-08T11:46:51.676389Z",
     "iopub.status.busy": "2022-12-08T11:46:51.675750Z",
     "iopub.status.idle": "2022-12-08T11:46:51.997203Z",
     "shell.execute_reply": "2022-12-08T11:46:51.995892Z"
    },
    "papermill": {
     "duration": 0.427015,
     "end_time": "2022-12-08T11:46:51.999938",
     "exception": false,
     "start_time": "2022-12-08T11:46:51.572923",
     "status": "completed"
    },
    "tags": []
   },
   "outputs": [
    {
     "data": {
      "text/plain": [
       "HashingEncoder(cols=['A7'], max_process=2, max_sample=241, n_components=4)"
      ]
     },
     "execution_count": 316,
     "metadata": {},
     "output_type": "execute_result"
    }
   ],
   "source": [
    "encoder.fit(X_train)"
   ]
  },
  {
   "cell_type": "code",
   "execution_count": 317,
   "id": "781f6f8b",
   "metadata": {
    "execution": {
     "iopub.execute_input": "2022-12-08T11:46:52.205282Z",
     "iopub.status.busy": "2022-12-08T11:46:52.204368Z",
     "iopub.status.idle": "2022-12-08T11:46:52.780916Z",
     "shell.execute_reply": "2022-12-08T11:46:52.779323Z"
    },
    "papermill": {
     "duration": 0.682307,
     "end_time": "2022-12-08T11:46:52.784155",
     "exception": false,
     "start_time": "2022-12-08T11:46:52.101848",
     "status": "completed"
    },
    "tags": []
   },
   "outputs": [],
   "source": [
    "X_train_enc = encoder.transform(X_train)\n",
    "X_test_enc = encoder.transform(X_test)"
   ]
  },
  {
   "cell_type": "code",
   "execution_count": 318,
   "id": "b25ba34e",
   "metadata": {
    "execution": {
     "iopub.execute_input": "2022-12-08T11:46:52.996273Z",
     "iopub.status.busy": "2022-12-08T11:46:52.995834Z",
     "iopub.status.idle": "2022-12-08T11:46:53.011569Z",
     "shell.execute_reply": "2022-12-08T11:46:53.009882Z"
    },
    "papermill": {
     "duration": 0.1274,
     "end_time": "2022-12-08T11:46:53.015391",
     "exception": false,
     "start_time": "2022-12-08T11:46:52.887991",
     "status": "completed"
    },
    "tags": []
   },
   "outputs": [
    {
     "name": "stdout",
     "output_type": "stream",
     "text": [
      "     col_0  col_1  col_2  col_3 A1     A2     A3 A4 A5  A6      A8 A9 A10  \\\n",
      "596      0      0      1      0  a  46.08  3.000  u  g   c   2.375  t   t   \n",
      "303      0      0      1      0  a  15.92  2.875  u  g   q   0.085  f   f   \n",
      "204      0      0      1      0  b  36.33  2.125  y  p   w   0.085  t   t   \n",
      "351      0      1      0      0  b  22.17  0.585  y  p  ff   0.000  f   f   \n",
      "118      0      0      1      0  b  57.83  7.040  u  g   m  14.000  t   t   \n",
      "\n",
      "     A11 A12 A13    A14   A15  \n",
      "596    8   t   g  396.0  4159  \n",
      "303    0   f   g  120.0     0  \n",
      "204    1   f   g   50.0  1187  \n",
      "351    0   f   g  100.0     0  \n",
      "118    6   t   g  360.0  1332  \n"
     ]
    }
   ],
   "source": [
    "print(X_train_enc.head())"
   ]
  },
  {
   "cell_type": "markdown",
   "id": "ec9369ab",
   "metadata": {
    "papermill": {
     "duration": 0.103037,
     "end_time": "2022-12-08T11:46:53.224913",
     "exception": false,
     "start_time": "2022-12-08T11:46:53.121876",
     "status": "completed"
    },
    "tags": []
   },
   "source": [
    "**How it works...**\n",
    "\n",
    "In this recipe, we performed feature hashing using the Category Encoders package. We first loaded the dataset and divided it into train and test sets using `train_test_split()` from scikit-learn. Next, we set up `HashingEncoder()` to encode the A7 variable into four components. With the `fit()` method, `HashingEncoder()` created a mapping from the category to a set of binary vectors and with the `transform()` method, the encoder encoded the A7 variable in both the train and test sets.\n",
    "\n",
    "With one-hot encoding, we would have needed nine binary variables to encode A7. With feature hashing, we can represent the variable in a smaller feature space, that is, with fewer derived features. The number of features is determined by the user."
   ]
  },
  {
   "cell_type": "markdown",
   "id": "f1138f1e",
   "metadata": {
    "papermill": {
     "duration": 0.10164,
     "end_time": "2022-12-08T11:46:53.428348",
     "exception": false,
     "start_time": "2022-12-08T11:46:53.326708",
     "status": "completed"
    },
    "tags": []
   },
   "source": [
    "To be continued..."
   ]
  },
  {
   "cell_type": "markdown",
   "id": "33fd5dde",
   "metadata": {
    "papermill": {
     "duration": 0.101691,
     "end_time": "2022-12-08T11:46:53.688044",
     "exception": false,
     "start_time": "2022-12-08T11:46:53.586353",
     "status": "completed"
    },
    "tags": []
   },
   "source": [
    "# Resource\n",
    "\n",
    "Python Feature Engineering Cookbook, Soledad Galli, 2020\n",
    "\n"
   ]
  },
  {
   "cell_type": "code",
   "execution_count": null,
   "id": "411b9150",
   "metadata": {
    "papermill": {
     "duration": 0.100821,
     "end_time": "2022-12-08T11:46:53.889911",
     "exception": false,
     "start_time": "2022-12-08T11:46:53.789090",
     "status": "completed"
    },
    "tags": []
   },
   "outputs": [],
   "source": []
  }
 ],
 "metadata": {
  "kernelspec": {
   "display_name": "Python 3",
   "language": "python",
   "name": "python3"
  },
  "language_info": {
   "codemirror_mode": {
    "name": "ipython",
    "version": 3
   },
   "file_extension": ".py",
   "mimetype": "text/x-python",
   "name": "python",
   "nbconvert_exporter": "python",
   "pygments_lexer": "ipython3",
   "version": "3.7.12"
  },
  "papermill": {
   "default_parameters": {},
   "duration": 128.639683,
   "end_time": "2022-12-08T11:46:55.013971",
   "environment_variables": {},
   "exception": null,
   "input_path": "__notebook__.ipynb",
   "output_path": "__notebook__.ipynb",
   "parameters": {},
   "start_time": "2022-12-08T11:44:46.374288",
   "version": "2.3.4"
  }
 },
 "nbformat": 4,
 "nbformat_minor": 5
}
