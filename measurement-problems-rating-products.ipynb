{
 "cells": [
  {
   "cell_type": "code",
   "execution_count": 1,
   "id": "34b09be5",
   "metadata": {
    "_cell_guid": "b1076dfc-b9ad-4769-8c92-a6c4dae69d19",
    "_uuid": "8f2839f25d086af736a60e9eeb907d3b93b6e0e5",
    "execution": {
     "iopub.execute_input": "2022-10-31T11:34:35.226651Z",
     "iopub.status.busy": "2022-10-31T11:34:35.226033Z",
     "iopub.status.idle": "2022-10-31T11:34:35.247271Z",
     "shell.execute_reply": "2022-10-31T11:34:35.245988Z"
    },
    "papermill": {
     "duration": 0.035037,
     "end_time": "2022-10-31T11:34:35.250075",
     "exception": false,
     "start_time": "2022-10-31T11:34:35.215038",
     "status": "completed"
    },
    "tags": []
   },
   "outputs": [
    {
     "name": "stdout",
     "output_type": "stream",
     "text": [
      "/kaggle/input/course-reviewsdataset/course_reviews.csv\n"
     ]
    }
   ],
   "source": [
    "# This Python 3 environment comes with many helpful analytics libraries installed\n",
    "# It is defined by the kaggle/python Docker image: https://github.com/kaggle/docker-python\n",
    "# For example, here's several helpful packages to load\n",
    "\n",
    "import numpy as np # linear algebra\n",
    "import pandas as pd # data processing, CSV file I/O (e.g. pd.read_csv)\n",
    "\n",
    "# Input data files are available in the read-only \"../input/\" directory\n",
    "# For example, running this (by clicking run or pressing Shift+Enter) will list all files under the input directory\n",
    "\n",
    "import os\n",
    "for dirname, _, filenames in os.walk('/kaggle/input'):\n",
    "    for filename in filenames:\n",
    "        print(os.path.join(dirname, filename))\n",
    "\n",
    "# You can write up to 20GB to the current directory (/kaggle/working/) that gets preserved as output when you create a version using \"Save & Run All\" \n",
    "# You can also write temporary files to /kaggle/temp/, but they won't be saved outside of the current session"
   ]
  },
  {
   "cell_type": "code",
   "execution_count": 2,
   "id": "034026ce",
   "metadata": {
    "execution": {
     "iopub.execute_input": "2022-10-31T11:34:35.267607Z",
     "iopub.status.busy": "2022-10-31T11:34:35.267214Z",
     "iopub.status.idle": "2022-10-31T11:34:36.293562Z",
     "shell.execute_reply": "2022-10-31T11:34:36.292387Z"
    },
    "papermill": {
     "duration": 1.038367,
     "end_time": "2022-10-31T11:34:36.296420",
     "exception": false,
     "start_time": "2022-10-31T11:34:35.258053",
     "status": "completed"
    },
    "tags": []
   },
   "outputs": [],
   "source": [
    "import pandas as pd\n",
    "import math\n",
    "import scipy.stats as st\n",
    "from sklearn.preprocessing import MinMaxScaler\n",
    "\n",
    "pd.set_option('display.max_columns', None)\n",
    "pd.set_option('display.max_rows', None)\n",
    "pd.set_option('display.width', 500)\n",
    "pd.set_option('display.expand_frame_repr', False)\n",
    "pd.set_option('display.float_format', lambda x: '%.5f' % x)"
   ]
  },
  {
   "cell_type": "code",
   "execution_count": 3,
   "id": "3d504264",
   "metadata": {
    "execution": {
     "iopub.execute_input": "2022-10-31T11:34:36.313088Z",
     "iopub.status.busy": "2022-10-31T11:34:36.312693Z",
     "iopub.status.idle": "2022-10-31T11:34:36.359214Z",
     "shell.execute_reply": "2022-10-31T11:34:36.357243Z"
    },
    "papermill": {
     "duration": 0.058677,
     "end_time": "2022-10-31T11:34:36.362710",
     "exception": false,
     "start_time": "2022-10-31T11:34:36.304033",
     "status": "completed"
    },
    "tags": []
   },
   "outputs": [
    {
     "data": {
      "text/html": [
       "<div>\n",
       "<style scoped>\n",
       "    .dataframe tbody tr th:only-of-type {\n",
       "        vertical-align: middle;\n",
       "    }\n",
       "\n",
       "    .dataframe tbody tr th {\n",
       "        vertical-align: top;\n",
       "    }\n",
       "\n",
       "    .dataframe thead th {\n",
       "        text-align: right;\n",
       "    }\n",
       "</style>\n",
       "<table border=\"1\" class=\"dataframe\">\n",
       "  <thead>\n",
       "    <tr style=\"text-align: right;\">\n",
       "      <th></th>\n",
       "      <th>Rating</th>\n",
       "      <th>Timestamp</th>\n",
       "      <th>Enrolled</th>\n",
       "      <th>Progress</th>\n",
       "      <th>Questions Asked</th>\n",
       "      <th>Questions Answered</th>\n",
       "    </tr>\n",
       "  </thead>\n",
       "  <tbody>\n",
       "    <tr>\n",
       "      <th>0</th>\n",
       "      <td>5.00000</td>\n",
       "      <td>2021-02-05 07:45:55</td>\n",
       "      <td>2021-01-25 15:12:08</td>\n",
       "      <td>5.00000</td>\n",
       "      <td>0.00000</td>\n",
       "      <td>0.00000</td>\n",
       "    </tr>\n",
       "    <tr>\n",
       "      <th>1</th>\n",
       "      <td>5.00000</td>\n",
       "      <td>2021-02-04 21:05:32</td>\n",
       "      <td>2021-02-04 20:43:40</td>\n",
       "      <td>1.00000</td>\n",
       "      <td>0.00000</td>\n",
       "      <td>0.00000</td>\n",
       "    </tr>\n",
       "    <tr>\n",
       "      <th>2</th>\n",
       "      <td>4.50000</td>\n",
       "      <td>2021-02-04 20:34:03</td>\n",
       "      <td>2019-07-04 23:23:27</td>\n",
       "      <td>1.00000</td>\n",
       "      <td>0.00000</td>\n",
       "      <td>0.00000</td>\n",
       "    </tr>\n",
       "    <tr>\n",
       "      <th>3</th>\n",
       "      <td>5.00000</td>\n",
       "      <td>2021-02-04 16:56:28</td>\n",
       "      <td>2021-02-04 14:41:29</td>\n",
       "      <td>10.00000</td>\n",
       "      <td>0.00000</td>\n",
       "      <td>0.00000</td>\n",
       "    </tr>\n",
       "    <tr>\n",
       "      <th>4</th>\n",
       "      <td>4.00000</td>\n",
       "      <td>2021-02-04 15:00:24</td>\n",
       "      <td>2020-10-13 03:10:07</td>\n",
       "      <td>10.00000</td>\n",
       "      <td>0.00000</td>\n",
       "      <td>0.00000</td>\n",
       "    </tr>\n",
       "  </tbody>\n",
       "</table>\n",
       "</div>"
      ],
      "text/plain": [
       "   Rating            Timestamp             Enrolled  Progress  Questions Asked  Questions Answered\n",
       "0 5.00000  2021-02-05 07:45:55  2021-01-25 15:12:08   5.00000          0.00000             0.00000\n",
       "1 5.00000  2021-02-04 21:05:32  2021-02-04 20:43:40   1.00000          0.00000             0.00000\n",
       "2 4.50000  2021-02-04 20:34:03  2019-07-04 23:23:27   1.00000          0.00000             0.00000\n",
       "3 5.00000  2021-02-04 16:56:28  2021-02-04 14:41:29  10.00000          0.00000             0.00000\n",
       "4 4.00000  2021-02-04 15:00:24  2020-10-13 03:10:07  10.00000          0.00000             0.00000"
      ]
     },
     "execution_count": 3,
     "metadata": {},
     "output_type": "execute_result"
    }
   ],
   "source": [
    "df = pd.read_csv(\"../input/course-reviewsdataset/course_reviews.csv\")\n",
    "df.head()"
   ]
  },
  {
   "cell_type": "code",
   "execution_count": 4,
   "id": "9f3abf67",
   "metadata": {
    "execution": {
     "iopub.execute_input": "2022-10-31T11:34:36.382449Z",
     "iopub.status.busy": "2022-10-31T11:34:36.382047Z",
     "iopub.status.idle": "2022-10-31T11:34:36.389844Z",
     "shell.execute_reply": "2022-10-31T11:34:36.388748Z"
    },
    "papermill": {
     "duration": 0.019098,
     "end_time": "2022-10-31T11:34:36.392286",
     "exception": false,
     "start_time": "2022-10-31T11:34:36.373188",
     "status": "completed"
    },
    "tags": []
   },
   "outputs": [
    {
     "data": {
      "text/plain": [
       "(4323, 6)"
      ]
     },
     "execution_count": 4,
     "metadata": {},
     "output_type": "execute_result"
    }
   ],
   "source": [
    "df.shape"
   ]
  },
  {
   "cell_type": "code",
   "execution_count": 5,
   "id": "b6b7822e",
   "metadata": {
    "execution": {
     "iopub.execute_input": "2022-10-31T11:34:36.413736Z",
     "iopub.status.busy": "2022-10-31T11:34:36.413033Z",
     "iopub.status.idle": "2022-10-31T11:34:36.428652Z",
     "shell.execute_reply": "2022-10-31T11:34:36.427896Z"
    },
    "papermill": {
     "duration": 0.0303,
     "end_time": "2022-10-31T11:34:36.431190",
     "exception": false,
     "start_time": "2022-10-31T11:34:36.400890",
     "status": "completed"
    },
    "tags": []
   },
   "outputs": [
    {
     "data": {
      "text/plain": [
       "5.00000    3267\n",
       "4.50000     475\n",
       "4.00000     383\n",
       "3.50000      96\n",
       "3.00000      62\n",
       "1.00000      15\n",
       "2.00000      12\n",
       "2.50000      11\n",
       "1.50000       2\n",
       "Name: Rating, dtype: int64"
      ]
     },
     "execution_count": 5,
     "metadata": {},
     "output_type": "execute_result"
    }
   ],
   "source": [
    "df[\"Rating\"].value_counts()"
   ]
  },
  {
   "cell_type": "code",
   "execution_count": 6,
   "id": "ee03f926",
   "metadata": {
    "execution": {
     "iopub.execute_input": "2022-10-31T11:34:36.455803Z",
     "iopub.status.busy": "2022-10-31T11:34:36.454782Z",
     "iopub.status.idle": "2022-10-31T11:34:36.463919Z",
     "shell.execute_reply": "2022-10-31T11:34:36.462785Z"
    },
    "papermill": {
     "duration": 0.021519,
     "end_time": "2022-10-31T11:34:36.466416",
     "exception": false,
     "start_time": "2022-10-31T11:34:36.444897",
     "status": "completed"
    },
    "tags": []
   },
   "outputs": [
    {
     "data": {
      "text/plain": [
       "0.00000     3867\n",
       "1.00000      276\n",
       "2.00000       80\n",
       "3.00000       43\n",
       "4.00000       15\n",
       "5.00000       13\n",
       "6.00000        9\n",
       "8.00000        5\n",
       "9.00000        3\n",
       "14.00000       2\n",
       "11.00000       2\n",
       "7.00000        2\n",
       "10.00000       2\n",
       "15.00000       2\n",
       "22.00000       1\n",
       "12.00000       1\n",
       "Name: Questions Asked, dtype: int64"
      ]
     },
     "execution_count": 6,
     "metadata": {},
     "output_type": "execute_result"
    }
   ],
   "source": [
    "df[\"Questions Asked\"].value_counts()"
   ]
  },
  {
   "cell_type": "code",
   "execution_count": 7,
   "id": "623cfda6",
   "metadata": {
    "execution": {
     "iopub.execute_input": "2022-10-31T11:34:36.487566Z",
     "iopub.status.busy": "2022-10-31T11:34:36.486797Z",
     "iopub.status.idle": "2022-10-31T11:34:36.503998Z",
     "shell.execute_reply": "2022-10-31T11:34:36.502994Z"
    },
    "papermill": {
     "duration": 0.028551,
     "end_time": "2022-10-31T11:34:36.506152",
     "exception": false,
     "start_time": "2022-10-31T11:34:36.477601",
     "status": "completed"
    },
    "tags": []
   },
   "outputs": [
    {
     "data": {
      "text/html": [
       "<div>\n",
       "<style scoped>\n",
       "    .dataframe tbody tr th:only-of-type {\n",
       "        vertical-align: middle;\n",
       "    }\n",
       "\n",
       "    .dataframe tbody tr th {\n",
       "        vertical-align: top;\n",
       "    }\n",
       "\n",
       "    .dataframe thead th {\n",
       "        text-align: right;\n",
       "    }\n",
       "</style>\n",
       "<table border=\"1\" class=\"dataframe\">\n",
       "  <thead>\n",
       "    <tr style=\"text-align: right;\">\n",
       "      <th></th>\n",
       "      <th>Questions Asked</th>\n",
       "      <th>Rating</th>\n",
       "    </tr>\n",
       "    <tr>\n",
       "      <th>Questions Asked</th>\n",
       "      <th></th>\n",
       "      <th></th>\n",
       "    </tr>\n",
       "  </thead>\n",
       "  <tbody>\n",
       "    <tr>\n",
       "      <th>0.00000</th>\n",
       "      <td>3867</td>\n",
       "      <td>4.76519</td>\n",
       "    </tr>\n",
       "    <tr>\n",
       "      <th>1.00000</th>\n",
       "      <td>276</td>\n",
       "      <td>4.74094</td>\n",
       "    </tr>\n",
       "    <tr>\n",
       "      <th>2.00000</th>\n",
       "      <td>80</td>\n",
       "      <td>4.80625</td>\n",
       "    </tr>\n",
       "    <tr>\n",
       "      <th>3.00000</th>\n",
       "      <td>43</td>\n",
       "      <td>4.74419</td>\n",
       "    </tr>\n",
       "    <tr>\n",
       "      <th>4.00000</th>\n",
       "      <td>15</td>\n",
       "      <td>4.83333</td>\n",
       "    </tr>\n",
       "    <tr>\n",
       "      <th>5.00000</th>\n",
       "      <td>13</td>\n",
       "      <td>4.65385</td>\n",
       "    </tr>\n",
       "    <tr>\n",
       "      <th>6.00000</th>\n",
       "      <td>9</td>\n",
       "      <td>5.00000</td>\n",
       "    </tr>\n",
       "    <tr>\n",
       "      <th>7.00000</th>\n",
       "      <td>2</td>\n",
       "      <td>4.75000</td>\n",
       "    </tr>\n",
       "    <tr>\n",
       "      <th>8.00000</th>\n",
       "      <td>5</td>\n",
       "      <td>4.90000</td>\n",
       "    </tr>\n",
       "    <tr>\n",
       "      <th>9.00000</th>\n",
       "      <td>3</td>\n",
       "      <td>5.00000</td>\n",
       "    </tr>\n",
       "    <tr>\n",
       "      <th>10.00000</th>\n",
       "      <td>2</td>\n",
       "      <td>5.00000</td>\n",
       "    </tr>\n",
       "    <tr>\n",
       "      <th>11.00000</th>\n",
       "      <td>2</td>\n",
       "      <td>5.00000</td>\n",
       "    </tr>\n",
       "    <tr>\n",
       "      <th>12.00000</th>\n",
       "      <td>1</td>\n",
       "      <td>5.00000</td>\n",
       "    </tr>\n",
       "    <tr>\n",
       "      <th>14.00000</th>\n",
       "      <td>2</td>\n",
       "      <td>4.50000</td>\n",
       "    </tr>\n",
       "    <tr>\n",
       "      <th>15.00000</th>\n",
       "      <td>2</td>\n",
       "      <td>3.00000</td>\n",
       "    </tr>\n",
       "    <tr>\n",
       "      <th>22.00000</th>\n",
       "      <td>1</td>\n",
       "      <td>5.00000</td>\n",
       "    </tr>\n",
       "  </tbody>\n",
       "</table>\n",
       "</div>"
      ],
      "text/plain": [
       "                 Questions Asked  Rating\n",
       "Questions Asked                         \n",
       "0.00000                     3867 4.76519\n",
       "1.00000                      276 4.74094\n",
       "2.00000                       80 4.80625\n",
       "3.00000                       43 4.74419\n",
       "4.00000                       15 4.83333\n",
       "5.00000                       13 4.65385\n",
       "6.00000                        9 5.00000\n",
       "7.00000                        2 4.75000\n",
       "8.00000                        5 4.90000\n",
       "9.00000                        3 5.00000\n",
       "10.00000                       2 5.00000\n",
       "11.00000                       2 5.00000\n",
       "12.00000                       1 5.00000\n",
       "14.00000                       2 4.50000\n",
       "15.00000                       2 3.00000\n",
       "22.00000                       1 5.00000"
      ]
     },
     "execution_count": 7,
     "metadata": {},
     "output_type": "execute_result"
    }
   ],
   "source": [
    "df.groupby(\"Questions Asked\").agg({\"Questions Asked\":\"count\", \"Rating\":\"mean\"})"
   ]
  },
  {
   "cell_type": "code",
   "execution_count": 8,
   "id": "1448c666",
   "metadata": {
    "execution": {
     "iopub.execute_input": "2022-10-31T11:34:36.524517Z",
     "iopub.status.busy": "2022-10-31T11:34:36.523837Z",
     "iopub.status.idle": "2022-10-31T11:34:36.534558Z",
     "shell.execute_reply": "2022-10-31T11:34:36.533436Z"
    },
    "papermill": {
     "duration": 0.022289,
     "end_time": "2022-10-31T11:34:36.536681",
     "exception": false,
     "start_time": "2022-10-31T11:34:36.514392",
     "status": "completed"
    },
    "tags": []
   },
   "outputs": [
    {
     "data": {
      "text/html": [
       "<div>\n",
       "<style scoped>\n",
       "    .dataframe tbody tr th:only-of-type {\n",
       "        vertical-align: middle;\n",
       "    }\n",
       "\n",
       "    .dataframe tbody tr th {\n",
       "        vertical-align: top;\n",
       "    }\n",
       "\n",
       "    .dataframe thead th {\n",
       "        text-align: right;\n",
       "    }\n",
       "</style>\n",
       "<table border=\"1\" class=\"dataframe\">\n",
       "  <thead>\n",
       "    <tr style=\"text-align: right;\">\n",
       "      <th></th>\n",
       "      <th>Rating</th>\n",
       "      <th>Timestamp</th>\n",
       "      <th>Enrolled</th>\n",
       "      <th>Progress</th>\n",
       "      <th>Questions Asked</th>\n",
       "      <th>Questions Answered</th>\n",
       "    </tr>\n",
       "  </thead>\n",
       "  <tbody>\n",
       "    <tr>\n",
       "      <th>0</th>\n",
       "      <td>5.00000</td>\n",
       "      <td>2021-02-05 07:45:55</td>\n",
       "      <td>2021-01-25 15:12:08</td>\n",
       "      <td>5.00000</td>\n",
       "      <td>0.00000</td>\n",
       "      <td>0.00000</td>\n",
       "    </tr>\n",
       "    <tr>\n",
       "      <th>1</th>\n",
       "      <td>5.00000</td>\n",
       "      <td>2021-02-04 21:05:32</td>\n",
       "      <td>2021-02-04 20:43:40</td>\n",
       "      <td>1.00000</td>\n",
       "      <td>0.00000</td>\n",
       "      <td>0.00000</td>\n",
       "    </tr>\n",
       "    <tr>\n",
       "      <th>2</th>\n",
       "      <td>4.50000</td>\n",
       "      <td>2021-02-04 20:34:03</td>\n",
       "      <td>2019-07-04 23:23:27</td>\n",
       "      <td>1.00000</td>\n",
       "      <td>0.00000</td>\n",
       "      <td>0.00000</td>\n",
       "    </tr>\n",
       "    <tr>\n",
       "      <th>3</th>\n",
       "      <td>5.00000</td>\n",
       "      <td>2021-02-04 16:56:28</td>\n",
       "      <td>2021-02-04 14:41:29</td>\n",
       "      <td>10.00000</td>\n",
       "      <td>0.00000</td>\n",
       "      <td>0.00000</td>\n",
       "    </tr>\n",
       "    <tr>\n",
       "      <th>4</th>\n",
       "      <td>4.00000</td>\n",
       "      <td>2021-02-04 15:00:24</td>\n",
       "      <td>2020-10-13 03:10:07</td>\n",
       "      <td>10.00000</td>\n",
       "      <td>0.00000</td>\n",
       "      <td>0.00000</td>\n",
       "    </tr>\n",
       "  </tbody>\n",
       "</table>\n",
       "</div>"
      ],
      "text/plain": [
       "   Rating            Timestamp             Enrolled  Progress  Questions Asked  Questions Answered\n",
       "0 5.00000  2021-02-05 07:45:55  2021-01-25 15:12:08   5.00000          0.00000             0.00000\n",
       "1 5.00000  2021-02-04 21:05:32  2021-02-04 20:43:40   1.00000          0.00000             0.00000\n",
       "2 4.50000  2021-02-04 20:34:03  2019-07-04 23:23:27   1.00000          0.00000             0.00000\n",
       "3 5.00000  2021-02-04 16:56:28  2021-02-04 14:41:29  10.00000          0.00000             0.00000\n",
       "4 4.00000  2021-02-04 15:00:24  2020-10-13 03:10:07  10.00000          0.00000             0.00000"
      ]
     },
     "execution_count": 8,
     "metadata": {},
     "output_type": "execute_result"
    }
   ],
   "source": [
    "df.head()"
   ]
  },
  {
   "cell_type": "markdown",
   "id": "d7c86689",
   "metadata": {
    "papermill": {
     "duration": 0.009959,
     "end_time": "2022-10-31T11:34:36.554938",
     "exception": false,
     "start_time": "2022-10-31T11:34:36.544979",
     "status": "completed"
    },
    "tags": []
   },
   "source": [
    "# **1.Rating Products**"
   ]
  },
  {
   "cell_type": "markdown",
   "id": "91b5c2dd",
   "metadata": {
    "papermill": {
     "duration": 0.009498,
     "end_time": "2022-10-31T11:34:36.575539",
     "exception": false,
     "start_time": "2022-10-31T11:34:36.566041",
     "status": "completed"
    },
    "tags": []
   },
   "source": [
    "## **1.1. Average**"
   ]
  },
  {
   "cell_type": "code",
   "execution_count": 9,
   "id": "de4ca516",
   "metadata": {
    "execution": {
     "iopub.execute_input": "2022-10-31T11:34:36.599460Z",
     "iopub.status.busy": "2022-10-31T11:34:36.598559Z",
     "iopub.status.idle": "2022-10-31T11:34:36.606421Z",
     "shell.execute_reply": "2022-10-31T11:34:36.605467Z"
    },
    "papermill": {
     "duration": 0.024139,
     "end_time": "2022-10-31T11:34:36.608649",
     "exception": false,
     "start_time": "2022-10-31T11:34:36.584510",
     "status": "completed"
    },
    "tags": []
   },
   "outputs": [
    {
     "data": {
      "text/plain": [
       "4.764284061993986"
      ]
     },
     "execution_count": 9,
     "metadata": {},
     "output_type": "execute_result"
    }
   ],
   "source": [
    "df[\"Rating\"].mean()"
   ]
  },
  {
   "cell_type": "markdown",
   "id": "413af378",
   "metadata": {
    "papermill": {
     "duration": 0.008718,
     "end_time": "2022-10-31T11:34:36.625869",
     "exception": false,
     "start_time": "2022-10-31T11:34:36.617151",
     "status": "completed"
    },
    "tags": []
   },
   "source": [
    "## **1.2. Time-Based Weighted Average**"
   ]
  },
  {
   "cell_type": "code",
   "execution_count": 10,
   "id": "7834bbdc",
   "metadata": {
    "execution": {
     "iopub.execute_input": "2022-10-31T11:34:36.647613Z",
     "iopub.status.busy": "2022-10-31T11:34:36.646849Z",
     "iopub.status.idle": "2022-10-31T11:34:36.663053Z",
     "shell.execute_reply": "2022-10-31T11:34:36.661665Z"
    },
    "papermill": {
     "duration": 0.031264,
     "end_time": "2022-10-31T11:34:36.665683",
     "exception": false,
     "start_time": "2022-10-31T11:34:36.634419",
     "status": "completed"
    },
    "tags": []
   },
   "outputs": [
    {
     "name": "stdout",
     "output_type": "stream",
     "text": [
      "<class 'pandas.core.frame.DataFrame'>\n",
      "RangeIndex: 4323 entries, 0 to 4322\n",
      "Data columns (total 6 columns):\n",
      " #   Column              Non-Null Count  Dtype  \n",
      "---  ------              --------------  -----  \n",
      " 0   Rating              4323 non-null   float64\n",
      " 1   Timestamp           4323 non-null   object \n",
      " 2   Enrolled            4323 non-null   object \n",
      " 3   Progress            4323 non-null   float64\n",
      " 4   Questions Asked     4323 non-null   float64\n",
      " 5   Questions Answered  4323 non-null   float64\n",
      "dtypes: float64(4), object(2)\n",
      "memory usage: 202.8+ KB\n"
     ]
    }
   ],
   "source": [
    "df.info()"
   ]
  },
  {
   "cell_type": "code",
   "execution_count": 11,
   "id": "7aee31d2",
   "metadata": {
    "execution": {
     "iopub.execute_input": "2022-10-31T11:34:36.684903Z",
     "iopub.status.busy": "2022-10-31T11:34:36.684227Z",
     "iopub.status.idle": "2022-10-31T11:34:36.692871Z",
     "shell.execute_reply": "2022-10-31T11:34:36.691776Z"
    },
    "papermill": {
     "duration": 0.021047,
     "end_time": "2022-10-31T11:34:36.695324",
     "exception": false,
     "start_time": "2022-10-31T11:34:36.674277",
     "status": "completed"
    },
    "tags": []
   },
   "outputs": [],
   "source": [
    "df[\"Timestamp\"] = pd.to_datetime(df[\"Timestamp\"])"
   ]
  },
  {
   "cell_type": "code",
   "execution_count": 12,
   "id": "1ac0b018",
   "metadata": {
    "execution": {
     "iopub.execute_input": "2022-10-31T11:34:36.716503Z",
     "iopub.status.busy": "2022-10-31T11:34:36.716112Z",
     "iopub.status.idle": "2022-10-31T11:34:36.728716Z",
     "shell.execute_reply": "2022-10-31T11:34:36.727958Z"
    },
    "papermill": {
     "duration": 0.025798,
     "end_time": "2022-10-31T11:34:36.731264",
     "exception": false,
     "start_time": "2022-10-31T11:34:36.705466",
     "status": "completed"
    },
    "tags": []
   },
   "outputs": [
    {
     "name": "stdout",
     "output_type": "stream",
     "text": [
      "<class 'pandas.core.frame.DataFrame'>\n",
      "RangeIndex: 4323 entries, 0 to 4322\n",
      "Data columns (total 6 columns):\n",
      " #   Column              Non-Null Count  Dtype         \n",
      "---  ------              --------------  -----         \n",
      " 0   Rating              4323 non-null   float64       \n",
      " 1   Timestamp           4323 non-null   datetime64[ns]\n",
      " 2   Enrolled            4323 non-null   object        \n",
      " 3   Progress            4323 non-null   float64       \n",
      " 4   Questions Asked     4323 non-null   float64       \n",
      " 5   Questions Answered  4323 non-null   float64       \n",
      "dtypes: datetime64[ns](1), float64(4), object(1)\n",
      "memory usage: 202.8+ KB\n"
     ]
    }
   ],
   "source": [
    "df.info()"
   ]
  },
  {
   "cell_type": "code",
   "execution_count": 13,
   "id": "d0fce06a",
   "metadata": {
    "execution": {
     "iopub.execute_input": "2022-10-31T11:34:36.750012Z",
     "iopub.status.busy": "2022-10-31T11:34:36.749622Z",
     "iopub.status.idle": "2022-10-31T11:34:36.757958Z",
     "shell.execute_reply": "2022-10-31T11:34:36.756947Z"
    },
    "papermill": {
     "duration": 0.020179,
     "end_time": "2022-10-31T11:34:36.760117",
     "exception": false,
     "start_time": "2022-10-31T11:34:36.739938",
     "status": "completed"
    },
    "tags": []
   },
   "outputs": [],
   "source": [
    "current_date = pd.to_datetime('2021-02-10 0:0:0')\n",
    "df[\"days\"] = (current_date - df[\"Timestamp\"]).dt.days"
   ]
  },
  {
   "cell_type": "code",
   "execution_count": 14,
   "id": "f1814af3",
   "metadata": {
    "execution": {
     "iopub.execute_input": "2022-10-31T11:34:36.779913Z",
     "iopub.status.busy": "2022-10-31T11:34:36.778839Z",
     "iopub.status.idle": "2022-10-31T11:34:36.791535Z",
     "shell.execute_reply": "2022-10-31T11:34:36.790554Z"
    },
    "papermill": {
     "duration": 0.024921,
     "end_time": "2022-10-31T11:34:36.793564",
     "exception": false,
     "start_time": "2022-10-31T11:34:36.768643",
     "status": "completed"
    },
    "tags": []
   },
   "outputs": [
    {
     "data": {
      "text/html": [
       "<div>\n",
       "<style scoped>\n",
       "    .dataframe tbody tr th:only-of-type {\n",
       "        vertical-align: middle;\n",
       "    }\n",
       "\n",
       "    .dataframe tbody tr th {\n",
       "        vertical-align: top;\n",
       "    }\n",
       "\n",
       "    .dataframe thead th {\n",
       "        text-align: right;\n",
       "    }\n",
       "</style>\n",
       "<table border=\"1\" class=\"dataframe\">\n",
       "  <thead>\n",
       "    <tr style=\"text-align: right;\">\n",
       "      <th></th>\n",
       "      <th>Rating</th>\n",
       "      <th>Timestamp</th>\n",
       "      <th>Enrolled</th>\n",
       "      <th>Progress</th>\n",
       "      <th>Questions Asked</th>\n",
       "      <th>Questions Answered</th>\n",
       "      <th>days</th>\n",
       "    </tr>\n",
       "  </thead>\n",
       "  <tbody>\n",
       "    <tr>\n",
       "      <th>0</th>\n",
       "      <td>5.00000</td>\n",
       "      <td>2021-02-05 07:45:55</td>\n",
       "      <td>2021-01-25 15:12:08</td>\n",
       "      <td>5.00000</td>\n",
       "      <td>0.00000</td>\n",
       "      <td>0.00000</td>\n",
       "      <td>4</td>\n",
       "    </tr>\n",
       "    <tr>\n",
       "      <th>1</th>\n",
       "      <td>5.00000</td>\n",
       "      <td>2021-02-04 21:05:32</td>\n",
       "      <td>2021-02-04 20:43:40</td>\n",
       "      <td>1.00000</td>\n",
       "      <td>0.00000</td>\n",
       "      <td>0.00000</td>\n",
       "      <td>5</td>\n",
       "    </tr>\n",
       "    <tr>\n",
       "      <th>2</th>\n",
       "      <td>4.50000</td>\n",
       "      <td>2021-02-04 20:34:03</td>\n",
       "      <td>2019-07-04 23:23:27</td>\n",
       "      <td>1.00000</td>\n",
       "      <td>0.00000</td>\n",
       "      <td>0.00000</td>\n",
       "      <td>5</td>\n",
       "    </tr>\n",
       "    <tr>\n",
       "      <th>3</th>\n",
       "      <td>5.00000</td>\n",
       "      <td>2021-02-04 16:56:28</td>\n",
       "      <td>2021-02-04 14:41:29</td>\n",
       "      <td>10.00000</td>\n",
       "      <td>0.00000</td>\n",
       "      <td>0.00000</td>\n",
       "      <td>5</td>\n",
       "    </tr>\n",
       "    <tr>\n",
       "      <th>4</th>\n",
       "      <td>4.00000</td>\n",
       "      <td>2021-02-04 15:00:24</td>\n",
       "      <td>2020-10-13 03:10:07</td>\n",
       "      <td>10.00000</td>\n",
       "      <td>0.00000</td>\n",
       "      <td>0.00000</td>\n",
       "      <td>5</td>\n",
       "    </tr>\n",
       "  </tbody>\n",
       "</table>\n",
       "</div>"
      ],
      "text/plain": [
       "   Rating           Timestamp             Enrolled  Progress  Questions Asked  Questions Answered  days\n",
       "0 5.00000 2021-02-05 07:45:55  2021-01-25 15:12:08   5.00000          0.00000             0.00000     4\n",
       "1 5.00000 2021-02-04 21:05:32  2021-02-04 20:43:40   1.00000          0.00000             0.00000     5\n",
       "2 4.50000 2021-02-04 20:34:03  2019-07-04 23:23:27   1.00000          0.00000             0.00000     5\n",
       "3 5.00000 2021-02-04 16:56:28  2021-02-04 14:41:29  10.00000          0.00000             0.00000     5\n",
       "4 4.00000 2021-02-04 15:00:24  2020-10-13 03:10:07  10.00000          0.00000             0.00000     5"
      ]
     },
     "execution_count": 14,
     "metadata": {},
     "output_type": "execute_result"
    }
   ],
   "source": [
    "df.head()"
   ]
  },
  {
   "cell_type": "code",
   "execution_count": 15,
   "id": "35a9658f",
   "metadata": {
    "execution": {
     "iopub.execute_input": "2022-10-31T11:34:36.813321Z",
     "iopub.status.busy": "2022-10-31T11:34:36.812601Z",
     "iopub.status.idle": "2022-10-31T11:34:36.819873Z",
     "shell.execute_reply": "2022-10-31T11:34:36.818884Z"
    },
    "papermill": {
     "duration": 0.019495,
     "end_time": "2022-10-31T11:34:36.822027",
     "exception": false,
     "start_time": "2022-10-31T11:34:36.802532",
     "status": "completed"
    },
    "tags": []
   },
   "outputs": [
    {
     "data": {
      "text/plain": [
       "4.775773195876289"
      ]
     },
     "execution_count": 15,
     "metadata": {},
     "output_type": "execute_result"
    }
   ],
   "source": [
    "df.loc[df[\"days\"] <= 30, \"Rating\"].mean()"
   ]
  },
  {
   "cell_type": "code",
   "execution_count": 16,
   "id": "b6f0eaf3",
   "metadata": {
    "execution": {
     "iopub.execute_input": "2022-10-31T11:34:36.842974Z",
     "iopub.status.busy": "2022-10-31T11:34:36.842352Z",
     "iopub.status.idle": "2022-10-31T11:34:36.849866Z",
     "shell.execute_reply": "2022-10-31T11:34:36.849139Z"
    },
    "papermill": {
     "duration": 0.019725,
     "end_time": "2022-10-31T11:34:36.851754",
     "exception": false,
     "start_time": "2022-10-31T11:34:36.832029",
     "status": "completed"
    },
    "tags": []
   },
   "outputs": [
    {
     "data": {
      "text/plain": [
       "4.763833992094861"
      ]
     },
     "execution_count": 16,
     "metadata": {},
     "output_type": "execute_result"
    }
   ],
   "source": [
    "df.loc[(df[\"days\"] > 30) & (df[\"days\"] <= 90), \"Rating\"].mean()"
   ]
  },
  {
   "cell_type": "code",
   "execution_count": 17,
   "id": "cf4f3b69",
   "metadata": {
    "execution": {
     "iopub.execute_input": "2022-10-31T11:34:36.871906Z",
     "iopub.status.busy": "2022-10-31T11:34:36.871250Z",
     "iopub.status.idle": "2022-10-31T11:34:36.878556Z",
     "shell.execute_reply": "2022-10-31T11:34:36.877835Z"
    },
    "papermill": {
     "duration": 0.019589,
     "end_time": "2022-10-31T11:34:36.880461",
     "exception": false,
     "start_time": "2022-10-31T11:34:36.860872",
     "status": "completed"
    },
    "tags": []
   },
   "outputs": [
    {
     "data": {
      "text/plain": [
       "4.752503576537912"
      ]
     },
     "execution_count": 17,
     "metadata": {},
     "output_type": "execute_result"
    }
   ],
   "source": [
    "df.loc[(df[\"days\"] > 90) & (df[\"days\"] <= 180), \"Rating\"].mean()"
   ]
  },
  {
   "cell_type": "code",
   "execution_count": 18,
   "id": "0a700f7d",
   "metadata": {
    "execution": {
     "iopub.execute_input": "2022-10-31T11:34:36.901269Z",
     "iopub.status.busy": "2022-10-31T11:34:36.900603Z",
     "iopub.status.idle": "2022-10-31T11:34:36.907376Z",
     "shell.execute_reply": "2022-10-31T11:34:36.906678Z"
    },
    "papermill": {
     "duration": 0.019972,
     "end_time": "2022-10-31T11:34:36.909336",
     "exception": false,
     "start_time": "2022-10-31T11:34:36.889364",
     "status": "completed"
    },
    "tags": []
   },
   "outputs": [
    {
     "data": {
      "text/plain": [
       "4.76641586867305"
      ]
     },
     "execution_count": 18,
     "metadata": {},
     "output_type": "execute_result"
    }
   ],
   "source": [
    "df.loc[(df[\"days\"] > 180), \"Rating\"].mean()"
   ]
  },
  {
   "cell_type": "code",
   "execution_count": 19,
   "id": "39e09eb4",
   "metadata": {
    "execution": {
     "iopub.execute_input": "2022-10-31T11:34:36.929433Z",
     "iopub.status.busy": "2022-10-31T11:34:36.928770Z",
     "iopub.status.idle": "2022-10-31T11:34:36.939434Z",
     "shell.execute_reply": "2022-10-31T11:34:36.938468Z"
    },
    "papermill": {
     "duration": 0.02298,
     "end_time": "2022-10-31T11:34:36.941397",
     "exception": false,
     "start_time": "2022-10-31T11:34:36.918417",
     "status": "completed"
    },
    "tags": []
   },
   "outputs": [
    {
     "data": {
      "text/plain": [
       "4.765025682267194"
      ]
     },
     "execution_count": 19,
     "metadata": {},
     "output_type": "execute_result"
    }
   ],
   "source": [
    "df.loc[df[\"days\"] <= 30, \"Rating\"].mean() * 28/100 + \\\n",
    "    df.loc[(df[\"days\"] > 30) & (df[\"days\"] <= 90), \"Rating\"].mean() * 26/100 + \\\n",
    "    df.loc[(df[\"days\"] > 90) & (df[\"days\"] <= 180), \"Rating\"].mean() * 24/100 + \\\n",
    "    df.loc[(df[\"days\"] > 180), \"Rating\"].mean() * 22/100"
   ]
  },
  {
   "cell_type": "code",
   "execution_count": 20,
   "id": "666f750d",
   "metadata": {
    "execution": {
     "iopub.execute_input": "2022-10-31T11:34:36.961624Z",
     "iopub.status.busy": "2022-10-31T11:34:36.960972Z",
     "iopub.status.idle": "2022-10-31T11:34:36.972868Z",
     "shell.execute_reply": "2022-10-31T11:34:36.972138Z"
    },
    "papermill": {
     "duration": 0.024138,
     "end_time": "2022-10-31T11:34:36.974756",
     "exception": false,
     "start_time": "2022-10-31T11:34:36.950618",
     "status": "completed"
    },
    "tags": []
   },
   "outputs": [
    {
     "data": {
      "text/plain": [
       "4.765025682267194"
      ]
     },
     "execution_count": 20,
     "metadata": {},
     "output_type": "execute_result"
    }
   ],
   "source": [
    "def time_based_weighted_average(dataframe, w1=28, w2=26, w3=24, w4=22):\n",
    "    return dataframe.loc[df[\"days\"] <= 30, \"Rating\"].mean() * w1 / 100 + \\\n",
    "           dataframe.loc[(dataframe[\"days\"] > 30) & (dataframe[\"days\"] <= 90), \"Rating\"].mean() * w2 / 100 + \\\n",
    "           dataframe.loc[(dataframe[\"days\"] > 90) & (dataframe[\"days\"] <= 180), \"Rating\"].mean() * w3 / 100 + \\\n",
    "           dataframe.loc[(dataframe[\"days\"] > 180), \"Rating\"].mean() * w4 / 100\n",
    "\n",
    "time_based_weighted_average(df)"
   ]
  },
  {
   "cell_type": "code",
   "execution_count": 21,
   "id": "97884d0a",
   "metadata": {
    "execution": {
     "iopub.execute_input": "2022-10-31T11:34:36.994946Z",
     "iopub.status.busy": "2022-10-31T11:34:36.994556Z",
     "iopub.status.idle": "2022-10-31T11:34:37.005707Z",
     "shell.execute_reply": "2022-10-31T11:34:37.004599Z"
    },
    "papermill": {
     "duration": 0.023827,
     "end_time": "2022-10-31T11:34:37.007939",
     "exception": false,
     "start_time": "2022-10-31T11:34:36.984112",
     "status": "completed"
    },
    "tags": []
   },
   "outputs": [
    {
     "data": {
      "text/plain": [
       "4.765491074653962"
      ]
     },
     "execution_count": 21,
     "metadata": {},
     "output_type": "execute_result"
    }
   ],
   "source": [
    "time_based_weighted_average(df, 30, 26, 22, 22)"
   ]
  },
  {
   "cell_type": "markdown",
   "id": "1880b77a",
   "metadata": {
    "papermill": {
     "duration": 0.009223,
     "end_time": "2022-10-31T11:34:37.027363",
     "exception": false,
     "start_time": "2022-10-31T11:34:37.018140",
     "status": "completed"
    },
    "tags": []
   },
   "source": [
    "## **1.3. User-Based Weighted Average**"
   ]
  },
  {
   "cell_type": "code",
   "execution_count": 22,
   "id": "2b1e0156",
   "metadata": {
    "execution": {
     "iopub.execute_input": "2022-10-31T11:34:37.047825Z",
     "iopub.status.busy": "2022-10-31T11:34:37.047370Z",
     "iopub.status.idle": "2022-10-31T11:34:37.059652Z",
     "shell.execute_reply": "2022-10-31T11:34:37.058868Z"
    },
    "papermill": {
     "duration": 0.024895,
     "end_time": "2022-10-31T11:34:37.061686",
     "exception": false,
     "start_time": "2022-10-31T11:34:37.036791",
     "status": "completed"
    },
    "tags": []
   },
   "outputs": [
    {
     "data": {
      "text/html": [
       "<div>\n",
       "<style scoped>\n",
       "    .dataframe tbody tr th:only-of-type {\n",
       "        vertical-align: middle;\n",
       "    }\n",
       "\n",
       "    .dataframe tbody tr th {\n",
       "        vertical-align: top;\n",
       "    }\n",
       "\n",
       "    .dataframe thead th {\n",
       "        text-align: right;\n",
       "    }\n",
       "</style>\n",
       "<table border=\"1\" class=\"dataframe\">\n",
       "  <thead>\n",
       "    <tr style=\"text-align: right;\">\n",
       "      <th></th>\n",
       "      <th>Rating</th>\n",
       "      <th>Timestamp</th>\n",
       "      <th>Enrolled</th>\n",
       "      <th>Progress</th>\n",
       "      <th>Questions Asked</th>\n",
       "      <th>Questions Answered</th>\n",
       "      <th>days</th>\n",
       "    </tr>\n",
       "  </thead>\n",
       "  <tbody>\n",
       "    <tr>\n",
       "      <th>0</th>\n",
       "      <td>5.00000</td>\n",
       "      <td>2021-02-05 07:45:55</td>\n",
       "      <td>2021-01-25 15:12:08</td>\n",
       "      <td>5.00000</td>\n",
       "      <td>0.00000</td>\n",
       "      <td>0.00000</td>\n",
       "      <td>4</td>\n",
       "    </tr>\n",
       "    <tr>\n",
       "      <th>1</th>\n",
       "      <td>5.00000</td>\n",
       "      <td>2021-02-04 21:05:32</td>\n",
       "      <td>2021-02-04 20:43:40</td>\n",
       "      <td>1.00000</td>\n",
       "      <td>0.00000</td>\n",
       "      <td>0.00000</td>\n",
       "      <td>5</td>\n",
       "    </tr>\n",
       "    <tr>\n",
       "      <th>2</th>\n",
       "      <td>4.50000</td>\n",
       "      <td>2021-02-04 20:34:03</td>\n",
       "      <td>2019-07-04 23:23:27</td>\n",
       "      <td>1.00000</td>\n",
       "      <td>0.00000</td>\n",
       "      <td>0.00000</td>\n",
       "      <td>5</td>\n",
       "    </tr>\n",
       "    <tr>\n",
       "      <th>3</th>\n",
       "      <td>5.00000</td>\n",
       "      <td>2021-02-04 16:56:28</td>\n",
       "      <td>2021-02-04 14:41:29</td>\n",
       "      <td>10.00000</td>\n",
       "      <td>0.00000</td>\n",
       "      <td>0.00000</td>\n",
       "      <td>5</td>\n",
       "    </tr>\n",
       "    <tr>\n",
       "      <th>4</th>\n",
       "      <td>4.00000</td>\n",
       "      <td>2021-02-04 15:00:24</td>\n",
       "      <td>2020-10-13 03:10:07</td>\n",
       "      <td>10.00000</td>\n",
       "      <td>0.00000</td>\n",
       "      <td>0.00000</td>\n",
       "      <td>5</td>\n",
       "    </tr>\n",
       "  </tbody>\n",
       "</table>\n",
       "</div>"
      ],
      "text/plain": [
       "   Rating           Timestamp             Enrolled  Progress  Questions Asked  Questions Answered  days\n",
       "0 5.00000 2021-02-05 07:45:55  2021-01-25 15:12:08   5.00000          0.00000             0.00000     4\n",
       "1 5.00000 2021-02-04 21:05:32  2021-02-04 20:43:40   1.00000          0.00000             0.00000     5\n",
       "2 4.50000 2021-02-04 20:34:03  2019-07-04 23:23:27   1.00000          0.00000             0.00000     5\n",
       "3 5.00000 2021-02-04 16:56:28  2021-02-04 14:41:29  10.00000          0.00000             0.00000     5\n",
       "4 4.00000 2021-02-04 15:00:24  2020-10-13 03:10:07  10.00000          0.00000             0.00000     5"
      ]
     },
     "execution_count": 22,
     "metadata": {},
     "output_type": "execute_result"
    }
   ],
   "source": [
    "df.head()"
   ]
  },
  {
   "cell_type": "code",
   "execution_count": 23,
   "id": "632e6bca",
   "metadata": {
    "execution": {
     "iopub.execute_input": "2022-10-31T11:34:37.082999Z",
     "iopub.status.busy": "2022-10-31T11:34:37.082153Z",
     "iopub.status.idle": "2022-10-31T11:34:37.097279Z",
     "shell.execute_reply": "2022-10-31T11:34:37.096205Z"
    },
    "papermill": {
     "duration": 0.02822,
     "end_time": "2022-10-31T11:34:37.099483",
     "exception": false,
     "start_time": "2022-10-31T11:34:37.071263",
     "status": "completed"
    },
    "tags": []
   },
   "outputs": [
    {
     "data": {
      "text/html": [
       "<div>\n",
       "<style scoped>\n",
       "    .dataframe tbody tr th:only-of-type {\n",
       "        vertical-align: middle;\n",
       "    }\n",
       "\n",
       "    .dataframe tbody tr th {\n",
       "        vertical-align: top;\n",
       "    }\n",
       "\n",
       "    .dataframe thead th {\n",
       "        text-align: right;\n",
       "    }\n",
       "</style>\n",
       "<table border=\"1\" class=\"dataframe\">\n",
       "  <thead>\n",
       "    <tr style=\"text-align: right;\">\n",
       "      <th></th>\n",
       "      <th>Rating</th>\n",
       "    </tr>\n",
       "    <tr>\n",
       "      <th>Progress</th>\n",
       "      <th></th>\n",
       "    </tr>\n",
       "  </thead>\n",
       "  <tbody>\n",
       "    <tr>\n",
       "      <th>0.00000</th>\n",
       "      <td>4.67391</td>\n",
       "    </tr>\n",
       "    <tr>\n",
       "      <th>1.00000</th>\n",
       "      <td>4.64269</td>\n",
       "    </tr>\n",
       "    <tr>\n",
       "      <th>2.00000</th>\n",
       "      <td>4.65476</td>\n",
       "    </tr>\n",
       "    <tr>\n",
       "      <th>3.00000</th>\n",
       "      <td>4.66355</td>\n",
       "    </tr>\n",
       "    <tr>\n",
       "      <th>4.00000</th>\n",
       "      <td>4.77733</td>\n",
       "    </tr>\n",
       "    <tr>\n",
       "      <th>5.00000</th>\n",
       "      <td>4.69821</td>\n",
       "    </tr>\n",
       "    <tr>\n",
       "      <th>6.00000</th>\n",
       "      <td>4.75510</td>\n",
       "    </tr>\n",
       "    <tr>\n",
       "      <th>7.00000</th>\n",
       "      <td>4.73256</td>\n",
       "    </tr>\n",
       "    <tr>\n",
       "      <th>8.00000</th>\n",
       "      <td>4.74194</td>\n",
       "    </tr>\n",
       "    <tr>\n",
       "      <th>9.00000</th>\n",
       "      <td>4.83125</td>\n",
       "    </tr>\n",
       "    <tr>\n",
       "      <th>10.00000</th>\n",
       "      <td>4.74569</td>\n",
       "    </tr>\n",
       "    <tr>\n",
       "      <th>11.00000</th>\n",
       "      <td>4.83333</td>\n",
       "    </tr>\n",
       "    <tr>\n",
       "      <th>12.00000</th>\n",
       "      <td>4.83333</td>\n",
       "    </tr>\n",
       "    <tr>\n",
       "      <th>13.00000</th>\n",
       "      <td>4.59375</td>\n",
       "    </tr>\n",
       "    <tr>\n",
       "      <th>14.00000</th>\n",
       "      <td>4.86957</td>\n",
       "    </tr>\n",
       "    <tr>\n",
       "      <th>15.00000</th>\n",
       "      <td>4.71458</td>\n",
       "    </tr>\n",
       "    <tr>\n",
       "      <th>16.00000</th>\n",
       "      <td>4.90000</td>\n",
       "    </tr>\n",
       "    <tr>\n",
       "      <th>17.00000</th>\n",
       "      <td>4.85000</td>\n",
       "    </tr>\n",
       "    <tr>\n",
       "      <th>18.00000</th>\n",
       "      <td>4.87500</td>\n",
       "    </tr>\n",
       "    <tr>\n",
       "      <th>19.00000</th>\n",
       "      <td>4.81250</td>\n",
       "    </tr>\n",
       "    <tr>\n",
       "      <th>20.00000</th>\n",
       "      <td>4.78352</td>\n",
       "    </tr>\n",
       "    <tr>\n",
       "      <th>21.00000</th>\n",
       "      <td>4.80000</td>\n",
       "    </tr>\n",
       "    <tr>\n",
       "      <th>22.00000</th>\n",
       "      <td>4.60000</td>\n",
       "    </tr>\n",
       "    <tr>\n",
       "      <th>23.00000</th>\n",
       "      <td>4.84615</td>\n",
       "    </tr>\n",
       "    <tr>\n",
       "      <th>24.00000</th>\n",
       "      <td>4.73333</td>\n",
       "    </tr>\n",
       "    <tr>\n",
       "      <th>25.00000</th>\n",
       "      <td>4.81687</td>\n",
       "    </tr>\n",
       "    <tr>\n",
       "      <th>26.00000</th>\n",
       "      <td>5.00000</td>\n",
       "    </tr>\n",
       "    <tr>\n",
       "      <th>27.00000</th>\n",
       "      <td>4.81250</td>\n",
       "    </tr>\n",
       "    <tr>\n",
       "      <th>28.00000</th>\n",
       "      <td>4.94444</td>\n",
       "    </tr>\n",
       "    <tr>\n",
       "      <th>29.00000</th>\n",
       "      <td>4.57692</td>\n",
       "    </tr>\n",
       "    <tr>\n",
       "      <th>30.00000</th>\n",
       "      <td>4.79808</td>\n",
       "    </tr>\n",
       "    <tr>\n",
       "      <th>31.00000</th>\n",
       "      <td>4.91667</td>\n",
       "    </tr>\n",
       "    <tr>\n",
       "      <th>32.00000</th>\n",
       "      <td>5.00000</td>\n",
       "    </tr>\n",
       "    <tr>\n",
       "      <th>33.00000</th>\n",
       "      <td>4.93750</td>\n",
       "    </tr>\n",
       "    <tr>\n",
       "      <th>34.00000</th>\n",
       "      <td>4.75000</td>\n",
       "    </tr>\n",
       "    <tr>\n",
       "      <th>35.00000</th>\n",
       "      <td>4.85959</td>\n",
       "    </tr>\n",
       "    <tr>\n",
       "      <th>36.00000</th>\n",
       "      <td>4.33333</td>\n",
       "    </tr>\n",
       "    <tr>\n",
       "      <th>37.00000</th>\n",
       "      <td>5.00000</td>\n",
       "    </tr>\n",
       "    <tr>\n",
       "      <th>38.00000</th>\n",
       "      <td>4.90000</td>\n",
       "    </tr>\n",
       "    <tr>\n",
       "      <th>39.00000</th>\n",
       "      <td>4.58333</td>\n",
       "    </tr>\n",
       "    <tr>\n",
       "      <th>40.00000</th>\n",
       "      <td>4.76786</td>\n",
       "    </tr>\n",
       "    <tr>\n",
       "      <th>41.00000</th>\n",
       "      <td>3.16667</td>\n",
       "    </tr>\n",
       "    <tr>\n",
       "      <th>42.00000</th>\n",
       "      <td>5.00000</td>\n",
       "    </tr>\n",
       "    <tr>\n",
       "      <th>43.00000</th>\n",
       "      <td>5.00000</td>\n",
       "    </tr>\n",
       "    <tr>\n",
       "      <th>44.00000</th>\n",
       "      <td>4.95455</td>\n",
       "    </tr>\n",
       "    <tr>\n",
       "      <th>45.00000</th>\n",
       "      <td>4.80769</td>\n",
       "    </tr>\n",
       "    <tr>\n",
       "      <th>46.00000</th>\n",
       "      <td>5.00000</td>\n",
       "    </tr>\n",
       "    <tr>\n",
       "      <th>47.00000</th>\n",
       "      <td>5.00000</td>\n",
       "    </tr>\n",
       "    <tr>\n",
       "      <th>48.00000</th>\n",
       "      <td>5.00000</td>\n",
       "    </tr>\n",
       "    <tr>\n",
       "      <th>49.00000</th>\n",
       "      <td>5.00000</td>\n",
       "    </tr>\n",
       "    <tr>\n",
       "      <th>50.00000</th>\n",
       "      <td>4.80198</td>\n",
       "    </tr>\n",
       "    <tr>\n",
       "      <th>51.00000</th>\n",
       "      <td>4.50000</td>\n",
       "    </tr>\n",
       "    <tr>\n",
       "      <th>52.00000</th>\n",
       "      <td>5.00000</td>\n",
       "    </tr>\n",
       "    <tr>\n",
       "      <th>53.00000</th>\n",
       "      <td>4.85714</td>\n",
       "    </tr>\n",
       "    <tr>\n",
       "      <th>54.00000</th>\n",
       "      <td>4.94444</td>\n",
       "    </tr>\n",
       "    <tr>\n",
       "      <th>55.00000</th>\n",
       "      <td>4.77660</td>\n",
       "    </tr>\n",
       "    <tr>\n",
       "      <th>56.00000</th>\n",
       "      <td>5.00000</td>\n",
       "    </tr>\n",
       "    <tr>\n",
       "      <th>57.00000</th>\n",
       "      <td>5.00000</td>\n",
       "    </tr>\n",
       "    <tr>\n",
       "      <th>58.00000</th>\n",
       "      <td>4.50000</td>\n",
       "    </tr>\n",
       "    <tr>\n",
       "      <th>59.00000</th>\n",
       "      <td>5.00000</td>\n",
       "    </tr>\n",
       "    <tr>\n",
       "      <th>60.00000</th>\n",
       "      <td>4.78947</td>\n",
       "    </tr>\n",
       "    <tr>\n",
       "      <th>61.00000</th>\n",
       "      <td>5.00000</td>\n",
       "    </tr>\n",
       "    <tr>\n",
       "      <th>62.00000</th>\n",
       "      <td>5.00000</td>\n",
       "    </tr>\n",
       "    <tr>\n",
       "      <th>63.00000</th>\n",
       "      <td>4.80000</td>\n",
       "    </tr>\n",
       "    <tr>\n",
       "      <th>64.00000</th>\n",
       "      <td>4.81250</td>\n",
       "    </tr>\n",
       "    <tr>\n",
       "      <th>65.00000</th>\n",
       "      <td>4.84314</td>\n",
       "    </tr>\n",
       "    <tr>\n",
       "      <th>66.00000</th>\n",
       "      <td>5.00000</td>\n",
       "    </tr>\n",
       "    <tr>\n",
       "      <th>67.00000</th>\n",
       "      <td>5.00000</td>\n",
       "    </tr>\n",
       "    <tr>\n",
       "      <th>69.00000</th>\n",
       "      <td>5.00000</td>\n",
       "    </tr>\n",
       "    <tr>\n",
       "      <th>70.00000</th>\n",
       "      <td>4.78947</td>\n",
       "    </tr>\n",
       "    <tr>\n",
       "      <th>71.00000</th>\n",
       "      <td>5.00000</td>\n",
       "    </tr>\n",
       "    <tr>\n",
       "      <th>72.00000</th>\n",
       "      <td>5.00000</td>\n",
       "    </tr>\n",
       "    <tr>\n",
       "      <th>73.00000</th>\n",
       "      <td>5.00000</td>\n",
       "    </tr>\n",
       "    <tr>\n",
       "      <th>74.00000</th>\n",
       "      <td>5.00000</td>\n",
       "    </tr>\n",
       "    <tr>\n",
       "      <th>75.00000</th>\n",
       "      <td>4.93750</td>\n",
       "    </tr>\n",
       "    <tr>\n",
       "      <th>77.00000</th>\n",
       "      <td>5.00000</td>\n",
       "    </tr>\n",
       "    <tr>\n",
       "      <th>78.00000</th>\n",
       "      <td>5.00000</td>\n",
       "    </tr>\n",
       "    <tr>\n",
       "      <th>80.00000</th>\n",
       "      <td>4.75000</td>\n",
       "    </tr>\n",
       "    <tr>\n",
       "      <th>83.00000</th>\n",
       "      <td>5.00000</td>\n",
       "    </tr>\n",
       "    <tr>\n",
       "      <th>84.00000</th>\n",
       "      <td>5.00000</td>\n",
       "    </tr>\n",
       "    <tr>\n",
       "      <th>85.00000</th>\n",
       "      <td>4.91379</td>\n",
       "    </tr>\n",
       "    <tr>\n",
       "      <th>87.00000</th>\n",
       "      <td>5.00000</td>\n",
       "    </tr>\n",
       "    <tr>\n",
       "      <th>89.00000</th>\n",
       "      <td>4.79412</td>\n",
       "    </tr>\n",
       "    <tr>\n",
       "      <th>90.00000</th>\n",
       "      <td>4.92308</td>\n",
       "    </tr>\n",
       "    <tr>\n",
       "      <th>91.00000</th>\n",
       "      <td>5.00000</td>\n",
       "    </tr>\n",
       "    <tr>\n",
       "      <th>93.00000</th>\n",
       "      <td>4.83333</td>\n",
       "    </tr>\n",
       "    <tr>\n",
       "      <th>94.00000</th>\n",
       "      <td>5.00000</td>\n",
       "    </tr>\n",
       "    <tr>\n",
       "      <th>95.00000</th>\n",
       "      <td>4.79412</td>\n",
       "    </tr>\n",
       "    <tr>\n",
       "      <th>97.00000</th>\n",
       "      <td>5.00000</td>\n",
       "    </tr>\n",
       "    <tr>\n",
       "      <th>98.00000</th>\n",
       "      <td>5.00000</td>\n",
       "    </tr>\n",
       "    <tr>\n",
       "      <th>100.00000</th>\n",
       "      <td>4.86632</td>\n",
       "    </tr>\n",
       "  </tbody>\n",
       "</table>\n",
       "</div>"
      ],
      "text/plain": [
       "           Rating\n",
       "Progress         \n",
       "0.00000   4.67391\n",
       "1.00000   4.64269\n",
       "2.00000   4.65476\n",
       "3.00000   4.66355\n",
       "4.00000   4.77733\n",
       "5.00000   4.69821\n",
       "6.00000   4.75510\n",
       "7.00000   4.73256\n",
       "8.00000   4.74194\n",
       "9.00000   4.83125\n",
       "10.00000  4.74569\n",
       "11.00000  4.83333\n",
       "12.00000  4.83333\n",
       "13.00000  4.59375\n",
       "14.00000  4.86957\n",
       "15.00000  4.71458\n",
       "16.00000  4.90000\n",
       "17.00000  4.85000\n",
       "18.00000  4.87500\n",
       "19.00000  4.81250\n",
       "20.00000  4.78352\n",
       "21.00000  4.80000\n",
       "22.00000  4.60000\n",
       "23.00000  4.84615\n",
       "24.00000  4.73333\n",
       "25.00000  4.81687\n",
       "26.00000  5.00000\n",
       "27.00000  4.81250\n",
       "28.00000  4.94444\n",
       "29.00000  4.57692\n",
       "30.00000  4.79808\n",
       "31.00000  4.91667\n",
       "32.00000  5.00000\n",
       "33.00000  4.93750\n",
       "34.00000  4.75000\n",
       "35.00000  4.85959\n",
       "36.00000  4.33333\n",
       "37.00000  5.00000\n",
       "38.00000  4.90000\n",
       "39.00000  4.58333\n",
       "40.00000  4.76786\n",
       "41.00000  3.16667\n",
       "42.00000  5.00000\n",
       "43.00000  5.00000\n",
       "44.00000  4.95455\n",
       "45.00000  4.80769\n",
       "46.00000  5.00000\n",
       "47.00000  5.00000\n",
       "48.00000  5.00000\n",
       "49.00000  5.00000\n",
       "50.00000  4.80198\n",
       "51.00000  4.50000\n",
       "52.00000  5.00000\n",
       "53.00000  4.85714\n",
       "54.00000  4.94444\n",
       "55.00000  4.77660\n",
       "56.00000  5.00000\n",
       "57.00000  5.00000\n",
       "58.00000  4.50000\n",
       "59.00000  5.00000\n",
       "60.00000  4.78947\n",
       "61.00000  5.00000\n",
       "62.00000  5.00000\n",
       "63.00000  4.80000\n",
       "64.00000  4.81250\n",
       "65.00000  4.84314\n",
       "66.00000  5.00000\n",
       "67.00000  5.00000\n",
       "69.00000  5.00000\n",
       "70.00000  4.78947\n",
       "71.00000  5.00000\n",
       "72.00000  5.00000\n",
       "73.00000  5.00000\n",
       "74.00000  5.00000\n",
       "75.00000  4.93750\n",
       "77.00000  5.00000\n",
       "78.00000  5.00000\n",
       "80.00000  4.75000\n",
       "83.00000  5.00000\n",
       "84.00000  5.00000\n",
       "85.00000  4.91379\n",
       "87.00000  5.00000\n",
       "89.00000  4.79412\n",
       "90.00000  4.92308\n",
       "91.00000  5.00000\n",
       "93.00000  4.83333\n",
       "94.00000  5.00000\n",
       "95.00000  4.79412\n",
       "97.00000  5.00000\n",
       "98.00000  5.00000\n",
       "100.00000 4.86632"
      ]
     },
     "execution_count": 23,
     "metadata": {},
     "output_type": "execute_result"
    }
   ],
   "source": [
    "df.groupby(\"Progress\").agg({\"Rating\": \"mean\"})"
   ]
  },
  {
   "cell_type": "code",
   "execution_count": 24,
   "id": "bf19ef01",
   "metadata": {
    "execution": {
     "iopub.execute_input": "2022-10-31T11:34:37.121946Z",
     "iopub.status.busy": "2022-10-31T11:34:37.121543Z",
     "iopub.status.idle": "2022-10-31T11:34:37.134087Z",
     "shell.execute_reply": "2022-10-31T11:34:37.132933Z"
    },
    "papermill": {
     "duration": 0.026509,
     "end_time": "2022-10-31T11:34:37.136425",
     "exception": false,
     "start_time": "2022-10-31T11:34:37.109916",
     "status": "completed"
    },
    "tags": []
   },
   "outputs": [
    {
     "data": {
      "text/plain": [
       "4.800257704672543"
      ]
     },
     "execution_count": 24,
     "metadata": {},
     "output_type": "execute_result"
    }
   ],
   "source": [
    "df.loc[df[\"Progress\"] <= 10, \"Rating\"].mean() * 22 / 100 + \\\n",
    "    df.loc[(df[\"Progress\"] > 10) & (df[\"Progress\"] <= 45), \"Rating\"].mean() * 24 / 100 + \\\n",
    "    df.loc[(df[\"Progress\"] > 45) & (df[\"Progress\"] <= 75), \"Rating\"].mean() * 26 / 100 + \\\n",
    "    df.loc[(df[\"Progress\"] > 75), \"Rating\"].mean() * 28 / 100"
   ]
  },
  {
   "cell_type": "code",
   "execution_count": 25,
   "id": "82c9c12e",
   "metadata": {
    "execution": {
     "iopub.execute_input": "2022-10-31T11:34:37.159709Z",
     "iopub.status.busy": "2022-10-31T11:34:37.158955Z",
     "iopub.status.idle": "2022-10-31T11:34:37.172112Z",
     "shell.execute_reply": "2022-10-31T11:34:37.171243Z"
    },
    "papermill": {
     "duration": 0.027492,
     "end_time": "2022-10-31T11:34:37.174296",
     "exception": false,
     "start_time": "2022-10-31T11:34:37.146804",
     "status": "completed"
    },
    "tags": []
   },
   "outputs": [
    {
     "data": {
      "text/plain": [
       "4.803286469062915"
      ]
     },
     "execution_count": 25,
     "metadata": {},
     "output_type": "execute_result"
    }
   ],
   "source": [
    "def user_based_weighted_average(dataframe, w1=22, w2=24, w3=26, w4=28):\n",
    "    return dataframe.loc[dataframe[\"Progress\"] <= 10, \"Rating\"].mean() * w1 / 100 + \\\n",
    "           dataframe.loc[(dataframe[\"Progress\"] > 10) & (dataframe[\"Progress\"] <= 45), \"Rating\"].mean() * w2 / 100 + \\\n",
    "           dataframe.loc[(dataframe[\"Progress\"] > 45) & (dataframe[\"Progress\"] <= 75), \"Rating\"].mean() * w3 / 100 + \\\n",
    "           dataframe.loc[(dataframe[\"Progress\"] > 75), \"Rating\"].mean() * w4 / 100\n",
    "\n",
    "user_based_weighted_average(df, 20, 24, 26, 30)"
   ]
  },
  {
   "cell_type": "markdown",
   "id": "837e302a",
   "metadata": {
    "papermill": {
     "duration": 0.010333,
     "end_time": "2022-10-31T11:34:37.195161",
     "exception": false,
     "start_time": "2022-10-31T11:34:37.184828",
     "status": "completed"
    },
    "tags": []
   },
   "source": [
    "## **1.4. Weighted Average**"
   ]
  },
  {
   "cell_type": "code",
   "execution_count": 26,
   "id": "fa7ae8d0",
   "metadata": {
    "execution": {
     "iopub.execute_input": "2022-10-31T11:34:37.217996Z",
     "iopub.status.busy": "2022-10-31T11:34:37.217223Z",
     "iopub.status.idle": "2022-10-31T11:34:37.230058Z",
     "shell.execute_reply": "2022-10-31T11:34:37.229001Z"
    },
    "papermill": {
     "duration": 0.026797,
     "end_time": "2022-10-31T11:34:37.232320",
     "exception": false,
     "start_time": "2022-10-31T11:34:37.205523",
     "status": "completed"
    },
    "tags": []
   },
   "outputs": [
    {
     "data": {
      "text/plain": [
       "4.782641693469868"
      ]
     },
     "execution_count": 26,
     "metadata": {},
     "output_type": "execute_result"
    }
   ],
   "source": [
    "def course_weighted_rating(dataframe, time_w=50, user_w=50):\n",
    "    return time_based_weighted_average(dataframe) * time_w/100 + user_based_weighted_average(dataframe)*user_w/100\n",
    "\n",
    "course_weighted_rating(df)"
   ]
  },
  {
   "cell_type": "code",
   "execution_count": 27,
   "id": "5cd93c67",
   "metadata": {
    "execution": {
     "iopub.execute_input": "2022-10-31T11:34:37.255552Z",
     "iopub.status.busy": "2022-10-31T11:34:37.254863Z",
     "iopub.status.idle": "2022-10-31T11:34:37.266922Z",
     "shell.execute_reply": "2022-10-31T11:34:37.266063Z"
    },
    "papermill": {
     "duration": 0.026034,
     "end_time": "2022-10-31T11:34:37.269002",
     "exception": false,
     "start_time": "2022-10-31T11:34:37.242968",
     "status": "completed"
    },
    "tags": []
   },
   "outputs": [
    {
     "data": {
      "text/plain": [
       "4.786164895710403"
      ]
     },
     "execution_count": 27,
     "metadata": {},
     "output_type": "execute_result"
    }
   ],
   "source": [
    "course_weighted_rating(df, time_w=40, user_w=60)"
   ]
  }
 ],
 "metadata": {
  "kernelspec": {
   "display_name": "Python 3",
   "language": "python",
   "name": "python3"
  },
  "language_info": {
   "codemirror_mode": {
    "name": "ipython",
    "version": 3
   },
   "file_extension": ".py",
   "mimetype": "text/x-python",
   "name": "python",
   "nbconvert_exporter": "python",
   "pygments_lexer": "ipython3",
   "version": "3.7.12"
  },
  "papermill": {
   "default_parameters": {},
   "duration": 10.978821,
   "end_time": "2022-10-31T11:34:38.000621",
   "environment_variables": {},
   "exception": null,
   "input_path": "__notebook__.ipynb",
   "output_path": "__notebook__.ipynb",
   "parameters": {},
   "start_time": "2022-10-31T11:34:27.021800",
   "version": "2.3.4"
  }
 },
 "nbformat": 4,
 "nbformat_minor": 5
}
