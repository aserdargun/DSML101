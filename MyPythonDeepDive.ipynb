{
  "nbformat": 4,
  "nbformat_minor": 0,
  "metadata": {
    "colab": {
      "provenance": [],
      "collapsed_sections": [],
      "toc_visible": true,
      "authorship_tag": "ABX9TyPTl59RnS8XDsv0l1ks+HC7",
      "include_colab_link": true
    },
    "kernelspec": {
      "name": "python3",
      "display_name": "Python 3"
    },
    "language_info": {
      "name": "python"
    }
  },
  "cells": [
    {
      "cell_type": "markdown",
      "metadata": {
        "id": "view-in-github",
        "colab_type": "text"
      },
      "source": [
        "<a href=\"https://colab.research.google.com/github/aserdargun/aserdargun/blob/main/MyPythonDeepDive.ipynb\" target=\"_parent\"><img src=\"https://colab.research.google.com/assets/colab-badge.svg\" alt=\"Open In Colab\"/></a>"
      ]
    },
    {
      "cell_type": "markdown",
      "source": [
        "# INTRODUCTION"
      ],
      "metadata": {
        "id": "OY_w8yR51-Pu"
      }
    },
    {
      "cell_type": "markdown",
      "source": [
        "I am starting with the zen of python. If you write \"import this\" and understand what is this, you will see significant effects on your syntax."
      ],
      "metadata": {
        "id": "UTPh0QApvioa"
      }
    },
    {
      "cell_type": "code",
      "execution_count": null,
      "metadata": {
        "colab": {
          "base_uri": "https://localhost:8080/"
        },
        "id": "yo32NMAXH1Cr",
        "outputId": "b52e759b-6945-4a8b-84f5-6aec7cc2a6eb"
      },
      "outputs": [
        {
          "output_type": "stream",
          "name": "stdout",
          "text": [
            "The Zen of Python, by Tim Peters\n",
            "\n",
            "Beautiful is better than ugly.\n",
            "Explicit is better than implicit.\n",
            "Simple is better than complex.\n",
            "Complex is better than complicated.\n",
            "Flat is better than nested.\n",
            "Sparse is better than dense.\n",
            "Readability counts.\n",
            "Special cases aren't special enough to break the rules.\n",
            "Although practicality beats purity.\n",
            "Errors should never pass silently.\n",
            "Unless explicitly silenced.\n",
            "In the face of ambiguity, refuse the temptation to guess.\n",
            "There should be one-- and preferably only one --obvious way to do it.\n",
            "Although that way may not be obvious at first unless you're Dutch.\n",
            "Now is better than never.\n",
            "Although never is often better than *right* now.\n",
            "If the implementation is hard to explain, it's a bad idea.\n",
            "If the implementation is easy to explain, it may be a good idea.\n",
            "Namespaces are one honking great idea -- let's do more of those!\n"
          ]
        }
      ],
      "source": [
        "import this"
      ]
    },
    {
      "cell_type": "markdown",
      "source": [
        "If you want to have more details on it, you should go https://peps.python.org/pep-0008/ PEP8. PEP is an abbrevation of Python Enchancement Proposals. \n",
        "\n",
        "You can see the PEP index in this https://peps.python.org/pep-0000/"
      ],
      "metadata": {
        "id": "Nlmpup6YzQui"
      }
    },
    {
      "cell_type": "markdown",
      "source": [
        "The resource of this study is from Fred Baptiste's DeepDive Series. Special thanks to Fred Baptiste. https://github.com/aserdargun/python-deepdive\n",
        "\n",
        "* [Part 1](https://www.udemy.com/course/python-3-deep-dive-part-1/?referralCode=E46B931C71EE01845062/): Mainly functional programming\n",
        "* [Part 2](https://www.udemy.com/course/python-3-deep-dive-part-2/?referralCode=3E7AFEF5174F04E5C8D4/): Mainly iterables, iterators and generators\n",
        "* [Part 3](https://www.udemy.com/course/python-3-deep-dive-part-3/?referralCode=C5B0D9AB965B9BF4C49F/): Mainly hash maps\n",
        "* [Part 4](https://www.udemy.com/course/python-3-deep-dive-part-4/?referralCode=3BB758BE4C04FB983E6F/): OOP\n",
        "\n",
        "\n",
        "I only want to emphasize some caveats, also good understanding for me and sharing with others who want to learn Python in details."
      ],
      "metadata": {
        "id": "pJT46SQm0GhR"
      }
    },
    {
      "cell_type": "markdown",
      "source": [
        "# **PART 1: FUNCTIONAL PROGRAMMING**\n"
      ],
      "metadata": {
        "id": "MPyvJeNW1Kee"
      }
    },
    {
      "cell_type": "markdown",
      "source": [
        "## Section 02 - A Quick Refresher"
      ],
      "metadata": {
        "id": "fgBQSVSx37kc"
      }
    },
    {
      "cell_type": "markdown",
      "source": [
        "### 01 - Multi-Line Statements and Strings"
      ],
      "metadata": {
        "id": "mYx0Fr184Bxm"
      }
    },
    {
      "cell_type": "markdown",
      "source": [
        "**Implicit Examples**"
      ],
      "metadata": {
        "id": "D4LadCsM3X3p"
      }
    },
    {
      "cell_type": "markdown",
      "source": [
        "Multi-Line Statement"
      ],
      "metadata": {
        "id": "msrEUo8J5iBi"
      }
    },
    {
      "cell_type": "code",
      "source": [
        "a = [1,\n",
        "     2,\n",
        "     3]"
      ],
      "metadata": {
        "id": "o2dWFHE5vQHF"
      },
      "execution_count": null,
      "outputs": []
    },
    {
      "cell_type": "code",
      "source": [
        "a"
      ],
      "metadata": {
        "colab": {
          "base_uri": "https://localhost:8080/"
        },
        "id": "kADa5Y2F48s9",
        "outputId": "0eeb356d-8d87-4bcf-fc60-cc2c4c28f9f0"
      },
      "execution_count": null,
      "outputs": [
        {
          "output_type": "execute_result",
          "data": {
            "text/plain": [
              "[1, 2, 3]"
            ]
          },
          "metadata": {},
          "execution_count": 3
        }
      ]
    },
    {
      "cell_type": "markdown",
      "source": [
        "Multi-Line Statement with comments to the end of each line."
      ],
      "metadata": {
        "id": "ecwiR_ff5qet"
      }
    },
    {
      "cell_type": "code",
      "source": [
        "a = [1, #first element\n",
        "     2, #second element\n",
        "     3, #third element\n",
        "     ]"
      ],
      "metadata": {
        "id": "TnS1p0wo49ka"
      },
      "execution_count": null,
      "outputs": []
    },
    {
      "cell_type": "code",
      "source": [
        "a"
      ],
      "metadata": {
        "colab": {
          "base_uri": "https://localhost:8080/"
        },
        "id": "gwYjThj15QJg",
        "outputId": "e05e6a40-8fed-41cb-d832-ef0079167b67"
      },
      "execution_count": null,
      "outputs": [
        {
          "output_type": "execute_result",
          "data": {
            "text/plain": [
              "[1, 2, 3]"
            ]
          },
          "metadata": {},
          "execution_count": 5
        }
      ]
    },
    {
      "cell_type": "markdown",
      "source": [
        "\n",
        "\n",
        "---\n",
        "**BE CAREFUL!**\n"
      ],
      "metadata": {
        "id": "21bR4dUsGqwI"
      }
    },
    {
      "cell_type": "markdown",
      "source": [
        "*If you use comments, you must close off the collection on a new line.*"
      ],
      "metadata": {
        "id": "LidAnlJb6TIP"
      }
    },
    {
      "cell_type": "code",
      "source": [
        "a = [1, #first element\n",
        "     2 # second element]"
      ],
      "metadata": {
        "colab": {
          "base_uri": "https://localhost:8080/",
          "height": 131
        },
        "id": "WoQA9SMr6Acw",
        "outputId": "2d400cdd-c068-4268-e11a-0f1d43d472b5"
      },
      "execution_count": null,
      "outputs": [
        {
          "output_type": "error",
          "ename": "SyntaxError",
          "evalue": "ignored",
          "traceback": [
            "\u001b[0;36m  File \u001b[0;32m\"<ipython-input-6-193b73c5495b>\"\u001b[0;36m, line \u001b[0;32m2\u001b[0m\n\u001b[0;31m    2 # second element]\u001b[0m\n\u001b[0m                       ^\u001b[0m\n\u001b[0;31mSyntaxError\u001b[0m\u001b[0;31m:\u001b[0m unexpected EOF while parsing\n"
          ]
        }
      ]
    },
    {
      "cell_type": "markdown",
      "source": [
        "\n",
        "\n",
        "---\n",
        "\n"
      ],
      "metadata": {
        "id": "VJ2-WdcwGscx"
      }
    },
    {
      "cell_type": "markdown",
      "source": [
        "This works the same way for tuples, sets, and dictionaries."
      ],
      "metadata": {
        "id": "D8XD_7-u9WOG"
      }
    },
    {
      "cell_type": "markdown",
      "source": [
        "Tuple"
      ],
      "metadata": {
        "id": "dafq91zC9wSb"
      }
    },
    {
      "cell_type": "code",
      "source": [
        "a = (1, #first element\n",
        "     2, #second element\n",
        "     3, #third element\n",
        "     )"
      ],
      "metadata": {
        "id": "R1pRXnqR5Qnx"
      },
      "execution_count": null,
      "outputs": []
    },
    {
      "cell_type": "code",
      "source": [
        "a"
      ],
      "metadata": {
        "colab": {
          "base_uri": "https://localhost:8080/"
        },
        "id": "HdijBf7d9tDm",
        "outputId": "733c056b-b682-4ea6-e11d-32e753321c14"
      },
      "execution_count": null,
      "outputs": [
        {
          "output_type": "execute_result",
          "data": {
            "text/plain": [
              "(1, 2, 3)"
            ]
          },
          "metadata": {},
          "execution_count": 18
        }
      ]
    },
    {
      "cell_type": "markdown",
      "source": [
        "Set"
      ],
      "metadata": {
        "id": "eow4ML-b9zQZ"
      }
    },
    {
      "cell_type": "code",
      "source": [
        "a = {1, #first element\n",
        "     2, #second element\n",
        "     }"
      ],
      "metadata": {
        "id": "nG5YRvIn9tbY"
      },
      "execution_count": null,
      "outputs": []
    },
    {
      "cell_type": "code",
      "source": [
        "a"
      ],
      "metadata": {
        "colab": {
          "base_uri": "https://localhost:8080/"
        },
        "id": "2FyXRpt498b-",
        "outputId": "28cf92b3-143f-4b9d-feb8-87d67fb39a38"
      },
      "execution_count": null,
      "outputs": [
        {
          "output_type": "execute_result",
          "data": {
            "text/plain": [
              "{1, 2}"
            ]
          },
          "metadata": {},
          "execution_count": 20
        }
      ]
    },
    {
      "cell_type": "markdown",
      "source": [
        "Dictionary"
      ],
      "metadata": {
        "id": "x9cEhG5--HDl"
      }
    },
    {
      "cell_type": "markdown",
      "source": [
        "you can use each of key and value pairs comments in dictionary."
      ],
      "metadata": {
        "id": "iOugr15v-ZyP"
      }
    },
    {
      "cell_type": "code",
      "source": [
        "a = {'key1': 'value1', #comment,\n",
        "     'key2': #comment\n",
        "     'value2' #comment\n",
        "     }"
      ],
      "metadata": {
        "id": "G_xS45i_995I"
      },
      "execution_count": null,
      "outputs": []
    },
    {
      "cell_type": "code",
      "source": [
        "a"
      ],
      "metadata": {
        "colab": {
          "base_uri": "https://localhost:8080/"
        },
        "id": "5VXFOIxH-SRp",
        "outputId": "df92df99-72a4-420d-db5a-917b637b8e20"
      },
      "execution_count": null,
      "outputs": [
        {
          "output_type": "execute_result",
          "data": {
            "text/plain": [
              "{'key1': 'value1', 'key2': 'value2'}"
            ]
          },
          "metadata": {},
          "execution_count": 22
        }
      ]
    },
    {
      "cell_type": "markdown",
      "source": [
        "Function Parameter"
      ],
      "metadata": {
        "id": "f6YLYy5b_YoQ"
      }
    },
    {
      "cell_type": "markdown",
      "source": [
        "A parameter is the variable listed inside the parentheses in the function definition."
      ],
      "metadata": {
        "id": "XfSylmNBAGqk"
      }
    },
    {
      "cell_type": "code",
      "source": [
        "def my_func(a, #some comment\n",
        "            b, c):\n",
        "    print(a, b ,c)"
      ],
      "metadata": {
        "id": "m90lAeKZ_YZQ"
      },
      "execution_count": null,
      "outputs": []
    },
    {
      "cell_type": "markdown",
      "source": [
        "Function Argument"
      ],
      "metadata": {
        "id": "1gytMNVNAMko"
      }
    },
    {
      "cell_type": "markdown",
      "source": [
        "An argument is the value that are sent to the function when it is called."
      ],
      "metadata": {
        "id": "m3TUKVFfAOni"
      }
    },
    {
      "cell_type": "code",
      "source": [
        "my_func(10, #comment\n",
        "        20, #comment\n",
        "        30)"
      ],
      "metadata": {
        "colab": {
          "base_uri": "https://localhost:8080/"
        },
        "id": "A1fqn_7u-wC1",
        "outputId": "6386a8ba-7a55-4946-ee91-5530a0222450"
      },
      "execution_count": null,
      "outputs": [
        {
          "output_type": "stream",
          "name": "stdout",
          "text": [
            "10 20 30\n"
          ]
        }
      ]
    },
    {
      "cell_type": "markdown",
      "source": [
        "**Explicit Examples**"
      ],
      "metadata": {
        "id": "TW4RS-QIBCdd"
      }
    },
    {
      "cell_type": "markdown",
      "source": [
        "You can use the `\\` character to explicitly create multi-line statements."
      ],
      "metadata": {
        "id": "m_n7QI04BLgo"
      }
    },
    {
      "cell_type": "code",
      "source": [
        "a = 10\n",
        "b = 20\n",
        "c = 30\n",
        "if a > 5 \\\n",
        "  and b > 10 \\\n",
        "  and c > 20:\n",
        "  print('yes!!')"
      ],
      "metadata": {
        "colab": {
          "base_uri": "https://localhost:8080/"
        },
        "id": "9as55QUUAkX1",
        "outputId": "826e1dda-87de-4575-9159-de21b757dc51"
      },
      "execution_count": null,
      "outputs": [
        {
          "output_type": "stream",
          "name": "stdout",
          "text": [
            "yes!!\n"
          ]
        }
      ]
    },
    {
      "cell_type": "markdown",
      "source": [
        "The indentation in continued-lines does not matter:"
      ],
      "metadata": {
        "id": "1z9Hv-6qBt2c"
      }
    },
    {
      "cell_type": "code",
      "source": [
        "a = 10\n",
        "b = 20\n",
        "c = 30\n",
        "if a > 5 \\\n",
        "    and b > 10 \\\n",
        "        and c > 20:\n",
        "    print('yes!!')"
      ],
      "metadata": {
        "colab": {
          "base_uri": "https://localhost:8080/"
        },
        "id": "zKev4sbJBz0M",
        "outputId": "5e37115d-9508-44c3-8581-8de63e148f5a"
      },
      "execution_count": null,
      "outputs": [
        {
          "output_type": "stream",
          "name": "stdout",
          "text": [
            "yes!!\n"
          ]
        }
      ]
    },
    {
      "cell_type": "markdown",
      "source": [
        "**Multi-Line Strings**"
      ],
      "metadata": {
        "id": "a61yj2gQCTDF"
      }
    },
    {
      "cell_type": "markdown",
      "source": [
        "You can create multi-line strings by using triple delimiters (single or double quotes)"
      ],
      "metadata": {
        "id": "9sJvo2YJCXoS"
      }
    },
    {
      "cell_type": "code",
      "source": [
        "a = '''this is \n",
        "a multi-line string'''"
      ],
      "metadata": {
        "id": "8VSsNWwbB_81"
      },
      "execution_count": null,
      "outputs": []
    },
    {
      "cell_type": "code",
      "source": [
        "print(a)"
      ],
      "metadata": {
        "colab": {
          "base_uri": "https://localhost:8080/"
        },
        "id": "lcIx46QZClkU",
        "outputId": "ec3b3bf2-1cd6-47b6-939e-a81f60a799c4"
      },
      "execution_count": null,
      "outputs": [
        {
          "output_type": "stream",
          "name": "stdout",
          "text": [
            "this is \n",
            "a multi-line string\n"
          ]
        }
      ]
    },
    {
      "cell_type": "markdown",
      "source": [
        "If you call with a directly in notebook, you will see with escape characters such as `\\n`."
      ],
      "metadata": {
        "id": "AdjlmYZBCp2l"
      }
    },
    {
      "cell_type": "code",
      "source": [
        "a"
      ],
      "metadata": {
        "colab": {
          "base_uri": "https://localhost:8080/",
          "height": 35
        },
        "id": "DP4OrGSjCmPE",
        "outputId": "e8280c01-887c-4f9e-adef-921da5331884"
      },
      "execution_count": null,
      "outputs": [
        {
          "output_type": "execute_result",
          "data": {
            "text/plain": [
              "'this is \\na multi-line string'"
            ],
            "application/vnd.google.colaboratory.intrinsic+json": {
              "type": "string"
            }
          },
          "metadata": {},
          "execution_count": 11
        }
      ]
    },
    {
      "cell_type": "markdown",
      "source": [
        "Any character you type is preserved. You can also mix in escaped characters line any nırmal string. (i.e.: `\\n`)"
      ],
      "metadata": {
        "id": "1ZvfBZCKDB2v"
      }
    },
    {
      "cell_type": "code",
      "source": [
        "a = \"\"\"some items:\\n\n",
        "    1. item 1\n",
        "    2. item 2\"\"\""
      ],
      "metadata": {
        "id": "r7xaA_dwCnPI"
      },
      "execution_count": null,
      "outputs": []
    },
    {
      "cell_type": "code",
      "source": [
        "print(a)"
      ],
      "metadata": {
        "colab": {
          "base_uri": "https://localhost:8080/"
        },
        "id": "eofFGJHHDjHI",
        "outputId": "8341b278-053a-4255-c0a4-7474fe523924"
      },
      "execution_count": null,
      "outputs": [
        {
          "output_type": "stream",
          "name": "stdout",
          "text": [
            "some items:\n",
            "\n",
            "    1. item 1\n",
            "    2. item 2\n"
          ]
        }
      ]
    },
    {
      "cell_type": "markdown",
      "source": [
        "\n",
        "\n",
        "---\n",
        "**BE CAREFUL!**\n"
      ],
      "metadata": {
        "id": "pZbAIh0hGv_S"
      }
    },
    {
      "cell_type": "markdown",
      "source": [
        "*if you indent your multi-line strings - the extra spaces are preserved!*"
      ],
      "metadata": {
        "id": "QJ3oZANuD5Yr"
      }
    },
    {
      "cell_type": "code",
      "source": [
        "def my_func():\n",
        "    a = '''a multi-line string\n",
        "    that is actually indented in the second line'''\n",
        "    return a"
      ],
      "metadata": {
        "id": "vRKpiU4vDkN0"
      },
      "execution_count": null,
      "outputs": []
    },
    {
      "cell_type": "code",
      "source": [
        "print(my_func())"
      ],
      "metadata": {
        "colab": {
          "base_uri": "https://localhost:8080/"
        },
        "id": "6Qz4j3yMEL4O",
        "outputId": "44d41724-a5c2-4b93-e3a5-30c939df4938"
      },
      "execution_count": null,
      "outputs": [
        {
          "output_type": "stream",
          "name": "stdout",
          "text": [
            "a multi-line string\n",
            "    that is actually indented in the second line\n"
          ]
        }
      ]
    },
    {
      "cell_type": "code",
      "source": [
        "def my_func():\n",
        "    a = '''a multi-line string\n",
        "that is not indented in the second line'''\n",
        "    return a"
      ],
      "metadata": {
        "id": "08RKuSa_EMxz"
      },
      "execution_count": null,
      "outputs": []
    },
    {
      "cell_type": "code",
      "source": [
        "print(my_func())"
      ],
      "metadata": {
        "colab": {
          "base_uri": "https://localhost:8080/"
        },
        "id": "TxZFOOkrE2s6",
        "outputId": "9a40b7e4-2691-4106-8869-37d83400700a"
      },
      "execution_count": null,
      "outputs": [
        {
          "output_type": "stream",
          "name": "stdout",
          "text": [
            "a multi-line string\n",
            "that is not indented in the second line\n"
          ]
        }
      ]
    },
    {
      "cell_type": "markdown",
      "source": [
        "\n",
        "\n",
        "---\n",
        "\n",
        "**BE CAREFUL!**"
      ],
      "metadata": {
        "id": "PWKT6IbiGyZv"
      }
    },
    {
      "cell_type": "markdown",
      "source": [
        "*Note that these multi-line strings are not comments - they are real strings and, unlike comments, are part of your compiled code. They are however used to create comments, such as docstrings, that we will cover later in this course.*"
      ],
      "metadata": {
        "id": "7ZrOZAgAFCOe"
      }
    },
    {
      "cell_type": "markdown",
      "source": [
        "\n",
        "\n",
        "---\n",
        "\n",
        "**BE CAREFUL!**"
      ],
      "metadata": {
        "id": "YS8ZIPP7G0I_"
      }
    },
    {
      "cell_type": "markdown",
      "source": [
        "*In general, use `#` to comment your code, and use multi-line strings only when actually needed (like for docstrings).\n",
        "Also, there are no multi-line comments in Python. You simply have to use a `#` on every line.*"
      ],
      "metadata": {
        "id": "iC5nicMGFrIj"
      }
    },
    {
      "cell_type": "code",
      "source": [
        "# this is\n",
        "#   a multi-line\n",
        "#   comment"
      ],
      "metadata": {
        "id": "xpfRM-gAE4Wy"
      },
      "execution_count": null,
      "outputs": []
    },
    {
      "cell_type": "markdown",
      "source": [
        "*The following works, but the above formatting is preferrable.*"
      ],
      "metadata": {
        "id": "joBdYDKZGH1K"
      }
    },
    {
      "cell_type": "code",
      "source": [
        "# this is\n",
        "    # a multi-line\n",
        "    # comment"
      ],
      "metadata": {
        "id": "-B_FQ-4EGDa3"
      },
      "execution_count": null,
      "outputs": []
    },
    {
      "cell_type": "markdown",
      "source": [
        "\n",
        "\n",
        "---\n",
        "\n"
      ],
      "metadata": {
        "id": "AnWBiepdG3WZ"
      }
    },
    {
      "cell_type": "markdown",
      "source": [
        "### 02 - Conditionals"
      ],
      "metadata": {
        "id": "w4LiV36uQnOf"
      }
    },
    {
      "cell_type": "markdown",
      "source": [
        "This is achieved using `if`, `elif` and `else` or the ternary operator (aka conditional expression)"
      ],
      "metadata": {
        "id": "U-6fbvdrbXJ5"
      }
    },
    {
      "cell_type": "code",
      "source": [
        "a = 2\n",
        "if a < 3:\n",
        "    print('a < 3')\n",
        "else:\n",
        "    print('a >= 3')"
      ],
      "metadata": {
        "colab": {
          "base_uri": "https://localhost:8080/"
        },
        "id": "MONbFoNKbrfO",
        "outputId": "4ae41b64-e4af-4bae-89ec-fe14a8a0d844"
      },
      "execution_count": null,
      "outputs": [
        {
          "output_type": "stream",
          "name": "stdout",
          "text": [
            "a < 3\n"
          ]
        }
      ]
    },
    {
      "cell_type": "markdown",
      "source": [
        "`if` statements can be nested."
      ],
      "metadata": {
        "id": "Fr1O62RDb105"
      }
    },
    {
      "cell_type": "code",
      "source": [
        "a = 15\n",
        "\n",
        "if a < 5:\n",
        "    print('a < 5')\n",
        "else:\n",
        "    if a < 10:\n",
        "        print('5 <= a < 10')\n",
        "    else:\n",
        "        print('a >= 10')"
      ],
      "metadata": {
        "colab": {
          "base_uri": "https://localhost:8080/"
        },
        "id": "mtyC3ksIbzgt",
        "outputId": "09fe47e3-a221-40e9-efda-7fc96e07eb59"
      },
      "execution_count": null,
      "outputs": [
        {
          "output_type": "stream",
          "name": "stdout",
          "text": [
            "a >= 10\n"
          ]
        }
      ]
    },
    {
      "cell_type": "markdown",
      "source": [
        "But the `elif` statement provides for better readability."
      ],
      "metadata": {
        "id": "INokNcNXcHtP"
      }
    },
    {
      "cell_type": "code",
      "source": [
        "a = 15\n",
        "\n",
        "if a < 5:\n",
        "    print('a < 5')\n",
        "elif a < 10:\n",
        "    print('5 <= a < 10')\n",
        "else:\n",
        "    print('a >= 10')"
      ],
      "metadata": {
        "colab": {
          "base_uri": "https://localhost:8080/"
        },
        "id": "vuMMkc9ZcCdK",
        "outputId": "e5964793-639b-47b9-a03e-1a8eee73a740"
      },
      "execution_count": null,
      "outputs": [
        {
          "output_type": "stream",
          "name": "stdout",
          "text": [
            "a >= 10\n"
          ]
        }
      ]
    },
    {
      "cell_type": "markdown",
      "source": [
        "Python also provides a conditional expression (ternary operator):\n",
        "\n",
        "`X if (condition) else Y`\n",
        "\n",
        "returns (and evaluates) X if (conditions) is True, otherwise returns (and evaluates) Y"
      ],
      "metadata": {
        "id": "A9bupp_vckgr"
      }
    },
    {
      "cell_type": "code",
      "source": [
        "a = 5\n",
        "res = 'a < 10' if a < 10 else 'a >= 10'\n",
        "print(res)"
      ],
      "metadata": {
        "colab": {
          "base_uri": "https://localhost:8080/"
        },
        "id": "OBMNLm10cc6Z",
        "outputId": "a660c836-8aa0-4689-eafc-de3580d5ec63"
      },
      "execution_count": null,
      "outputs": [
        {
          "output_type": "stream",
          "name": "stdout",
          "text": [
            "a < 10\n"
          ]
        }
      ]
    },
    {
      "cell_type": "code",
      "source": [
        "a = 15\n",
        "res = 'a < 10' if a < 10 else 'a >= 10'\n",
        "print(res)"
      ],
      "metadata": {
        "colab": {
          "base_uri": "https://localhost:8080/"
        },
        "id": "ieGWgPLpc9_E",
        "outputId": "7d62a6f1-a1b5-4b6f-bc8f-62863a0ef477"
      },
      "execution_count": null,
      "outputs": [
        {
          "output_type": "stream",
          "name": "stdout",
          "text": [
            "a >= 10\n"
          ]
        }
      ]
    },
    {
      "cell_type": "markdown",
      "source": [
        "\n",
        "\n",
        "---\n",
        "**BE CAREFUL!**\n"
      ],
      "metadata": {
        "id": "h60yIWLBdWTO"
      }
    },
    {
      "cell_type": "markdown",
      "source": [
        "*Note that X and Y can be any expression, not just literal values:*"
      ],
      "metadata": {
        "id": "ARVmnFE2dYvN"
      }
    },
    {
      "cell_type": "code",
      "source": [
        "def say_hello():\n",
        "    print('Hello!')\n",
        "\n",
        "def say_goodbye():\n",
        "    print('Goodbye!')"
      ],
      "metadata": {
        "id": "fxFq8yyZdIoK"
      },
      "execution_count": null,
      "outputs": []
    },
    {
      "cell_type": "code",
      "source": [
        "a = 5\n",
        "say_hello() if a < 10 else say_goodbye()"
      ],
      "metadata": {
        "colab": {
          "base_uri": "https://localhost:8080/"
        },
        "id": "I2se5d-jl0_7",
        "outputId": "f63c397c-9de0-4b05-99a0-1f1500abbd33"
      },
      "execution_count": null,
      "outputs": [
        {
          "output_type": "stream",
          "name": "stdout",
          "text": [
            "Hello!\n"
          ]
        }
      ]
    },
    {
      "cell_type": "code",
      "source": [
        "a = 15\n",
        "say_hello() if a < 10 else say_goodbye()"
      ],
      "metadata": {
        "colab": {
          "base_uri": "https://localhost:8080/"
        },
        "id": "uTSLom6Dl8B8",
        "outputId": "742b1b4d-2ec7-4c14-e618-abab63b6302e"
      },
      "execution_count": null,
      "outputs": [
        {
          "output_type": "stream",
          "name": "stdout",
          "text": [
            "Goodbye!\n"
          ]
        }
      ]
    },
    {
      "cell_type": "markdown",
      "source": [
        "\n",
        "\n",
        "---\n",
        "\n"
      ],
      "metadata": {
        "id": "RgNkT9cJdXru"
      }
    },
    {
      "cell_type": "markdown",
      "source": [
        "### 03 - Functions"
      ],
      "metadata": {
        "id": "DUieE-gpqOdV"
      }
    },
    {
      "cell_type": "markdown",
      "source": [
        "Python has many built-in functions and methods we can use\n",
        "Some are available by default:"
      ],
      "metadata": {
        "id": "Ps1C_qQlqTq0"
      }
    },
    {
      "cell_type": "code",
      "source": [
        "s = [1, 2, 3]\n",
        "len(s)"
      ],
      "metadata": {
        "colab": {
          "base_uri": "https://localhost:8080/"
        },
        "id": "u8ZxfkFrqhfo",
        "outputId": "c966fdf9-27cd-41b2-e876-13c861a1a306"
      },
      "execution_count": null,
      "outputs": [
        {
          "output_type": "execute_result",
          "data": {
            "text/plain": [
              "3"
            ]
          },
          "metadata": {},
          "execution_count": 40
        }
      ]
    },
    {
      "cell_type": "markdown",
      "source": [
        "While some need to be imported:"
      ],
      "metadata": {
        "id": "xMrGRmZoqmGo"
      }
    },
    {
      "cell_type": "code",
      "source": [
        "from math import sqrt"
      ],
      "metadata": {
        "id": "ikzGJ0__qlvx"
      },
      "execution_count": null,
      "outputs": []
    },
    {
      "cell_type": "code",
      "source": [
        "sqrt(4)"
      ],
      "metadata": {
        "colab": {
          "base_uri": "https://localhost:8080/"
        },
        "id": "nBIRKsP4qkxM",
        "outputId": "1b775cf7-5f79-47a2-e4b5-009978e93e96"
      },
      "execution_count": null,
      "outputs": [
        {
          "output_type": "execute_result",
          "data": {
            "text/plain": [
              "2.0"
            ]
          },
          "metadata": {},
          "execution_count": 42
        }
      ]
    },
    {
      "cell_type": "markdown",
      "source": [
        "Entire modules can be imported:"
      ],
      "metadata": {
        "id": "-3nsSBNWqt7g"
      }
    },
    {
      "cell_type": "code",
      "source": [
        "import math"
      ],
      "metadata": {
        "id": "-pxYOdRrqr5e"
      },
      "execution_count": null,
      "outputs": []
    },
    {
      "cell_type": "code",
      "source": [
        "math.exp(1)"
      ],
      "metadata": {
        "colab": {
          "base_uri": "https://localhost:8080/"
        },
        "id": "Q4KbWy0_qxTL",
        "outputId": "f896515d-5d78-4302-cada-083590a67224"
      },
      "execution_count": null,
      "outputs": [
        {
          "output_type": "execute_result",
          "data": {
            "text/plain": [
              "2.718281828459045"
            ]
          },
          "metadata": {},
          "execution_count": 44
        }
      ]
    },
    {
      "cell_type": "markdown",
      "source": [
        "We can define our own functions:"
      ],
      "metadata": {
        "id": "HS2lQgj4qz6f"
      }
    },
    {
      "cell_type": "code",
      "source": [
        "def func_1():\n",
        "    print('running func1')"
      ],
      "metadata": {
        "id": "1J70TOinqyaF"
      },
      "execution_count": null,
      "outputs": []
    },
    {
      "cell_type": "code",
      "source": [
        "func_1()"
      ],
      "metadata": {
        "colab": {
          "base_uri": "https://localhost:8080/"
        },
        "id": "aX7htV08rQKc",
        "outputId": "aa700d71-1b88-495b-aee0-3c7740039214"
      },
      "execution_count": null,
      "outputs": [
        {
          "output_type": "stream",
          "name": "stdout",
          "text": [
            "running func1\n"
          ]
        }
      ]
    },
    {
      "cell_type": "markdown",
      "source": [
        "\n",
        "\n",
        "---\n",
        "**BE CAREFUL!**\n"
      ],
      "metadata": {
        "id": "0GFFVC0CraRE"
      }
    },
    {
      "cell_type": "markdown",
      "source": [
        "*Note that to \"call\" or \"invoke\" a function we need to use the `()`.\n",
        "Simply using the function name without the `()` refers to the function, but does not call it:* "
      ],
      "metadata": {
        "id": "o-3IwKLFrc4X"
      }
    },
    {
      "cell_type": "code",
      "source": [
        "func_1"
      ],
      "metadata": {
        "colab": {
          "base_uri": "https://localhost:8080/"
        },
        "id": "r9uQD0yNrRON",
        "outputId": "13024804-6461-4408-e38c-3025fcc81128"
      },
      "execution_count": null,
      "outputs": [
        {
          "output_type": "execute_result",
          "data": {
            "text/plain": [
              "<function __main__.func_1()>"
            ]
          },
          "metadata": {},
          "execution_count": 48
        }
      ]
    },
    {
      "cell_type": "markdown",
      "source": [
        "\n",
        "\n",
        "---\n",
        "\n"
      ],
      "metadata": {
        "id": "w7LBaslRrbiT"
      }
    },
    {
      "cell_type": "markdown",
      "source": [
        "*We can also define functions that take parameters:*"
      ],
      "metadata": {
        "id": "tFm1g74vsLU_"
      }
    },
    {
      "cell_type": "code",
      "source": [
        "def func_2(a, b):\n",
        "    return a * b"
      ],
      "metadata": {
        "id": "y2Odn5PVsO0w"
      },
      "execution_count": null,
      "outputs": []
    },
    {
      "cell_type": "markdown",
      "source": [
        "\n",
        "\n",
        "---\n",
        "**BE CAREFUL!**\n"
      ],
      "metadata": {
        "id": "jSw9oB10so0B"
      }
    },
    {
      "cell_type": "markdown",
      "source": [
        "*Note that `a` and `b` can be any type (this is an example of polymorphism - which we will look into more detail later in this course).\n",
        "But the function will fail to run if `a` and `b` are types that are not \"compatible\" with the ` * ` operator:*"
      ],
      "metadata": {
        "id": "SxkG44OysvPI"
      }
    },
    {
      "cell_type": "code",
      "source": [
        "func_2(3, 2)"
      ],
      "metadata": {
        "colab": {
          "base_uri": "https://localhost:8080/"
        },
        "id": "uR5dV-jpspb3",
        "outputId": "ce20d6eb-03c0-4465-df70-ced5b5f70ca6"
      },
      "execution_count": null,
      "outputs": [
        {
          "output_type": "execute_result",
          "data": {
            "text/plain": [
              "6"
            ]
          },
          "metadata": {},
          "execution_count": 50
        }
      ]
    },
    {
      "cell_type": "code",
      "source": [
        "func_2('a', 3)"
      ],
      "metadata": {
        "colab": {
          "base_uri": "https://localhost:8080/",
          "height": 35
        },
        "id": "5OPLXrZwsTBV",
        "outputId": "11dd9f1e-d664-47f0-a4f8-eeb824114688"
      },
      "execution_count": null,
      "outputs": [
        {
          "output_type": "execute_result",
          "data": {
            "text/plain": [
              "'aaa'"
            ],
            "application/vnd.google.colaboratory.intrinsic+json": {
              "type": "string"
            }
          },
          "metadata": {},
          "execution_count": 51
        }
      ]
    },
    {
      "cell_type": "code",
      "source": [
        "func_2('a', 'b')"
      ],
      "metadata": {
        "colab": {
          "base_uri": "https://localhost:8080/",
          "height": 236
        },
        "id": "3Gg_lph5tJqO",
        "outputId": "124718a1-6bdf-4f8d-d275-7167ee55e405"
      },
      "execution_count": null,
      "outputs": [
        {
          "output_type": "error",
          "ename": "TypeError",
          "evalue": "ignored",
          "traceback": [
            "\u001b[0;31m---------------------------------------------------------------------------\u001b[0m",
            "\u001b[0;31mTypeError\u001b[0m                                 Traceback (most recent call last)",
            "\u001b[0;32m<ipython-input-52-f5ef76169988>\u001b[0m in \u001b[0;36m<module>\u001b[0;34m\u001b[0m\n\u001b[0;32m----> 1\u001b[0;31m \u001b[0mfunc_2\u001b[0m\u001b[0;34m(\u001b[0m\u001b[0;34m'a'\u001b[0m\u001b[0;34m,\u001b[0m \u001b[0;34m'b'\u001b[0m\u001b[0;34m)\u001b[0m\u001b[0;34m\u001b[0m\u001b[0;34m\u001b[0m\u001b[0m\n\u001b[0m",
            "\u001b[0;32m<ipython-input-49-94e0d01c7944>\u001b[0m in \u001b[0;36mfunc_2\u001b[0;34m(a, b)\u001b[0m\n\u001b[1;32m      1\u001b[0m \u001b[0;32mdef\u001b[0m \u001b[0mfunc_2\u001b[0m\u001b[0;34m(\u001b[0m\u001b[0ma\u001b[0m\u001b[0;34m,\u001b[0m \u001b[0mb\u001b[0m\u001b[0;34m)\u001b[0m\u001b[0;34m:\u001b[0m\u001b[0;34m\u001b[0m\u001b[0;34m\u001b[0m\u001b[0m\n\u001b[0;32m----> 2\u001b[0;31m     \u001b[0;32mreturn\u001b[0m \u001b[0ma\u001b[0m \u001b[0;34m*\u001b[0m \u001b[0mb\u001b[0m\u001b[0;34m\u001b[0m\u001b[0;34m\u001b[0m\u001b[0m\n\u001b[0m",
            "\u001b[0;31mTypeError\u001b[0m: can't multiply sequence by non-int of type 'str'"
          ]
        }
      ]
    },
    {
      "cell_type": "markdown",
      "source": [
        "\n",
        "\n",
        "---\n",
        "\n"
      ],
      "metadata": {
        "id": "-BUvGWXfsqCx"
      }
    },
    {
      "cell_type": "markdown",
      "source": [
        "It is possible to use type annotations:"
      ],
      "metadata": {
        "id": "Omjd-9pxtdsy"
      }
    },
    {
      "cell_type": "code",
      "source": [
        "def func_3(a: int, b: int):\n",
        "    return a * b"
      ],
      "metadata": {
        "id": "bBSgIPTZtgdv"
      },
      "execution_count": null,
      "outputs": []
    },
    {
      "cell_type": "code",
      "source": [
        "func_3(2 ,3)"
      ],
      "metadata": {
        "colab": {
          "base_uri": "https://localhost:8080/"
        },
        "id": "_ns0NQR3tkua",
        "outputId": "60e0c7db-d6bc-4384-bda4-3d07398abde9"
      },
      "execution_count": null,
      "outputs": [
        {
          "output_type": "execute_result",
          "data": {
            "text/plain": [
              "6"
            ]
          },
          "metadata": {},
          "execution_count": 54
        }
      ]
    },
    {
      "cell_type": "code",
      "source": [
        "func_3('a', 2)"
      ],
      "metadata": {
        "colab": {
          "base_uri": "https://localhost:8080/",
          "height": 35
        },
        "id": "A8vStEnhtmTl",
        "outputId": "f55fbcd5-d98f-4d5c-cc4d-4b7e6eeb045f"
      },
      "execution_count": null,
      "outputs": [
        {
          "output_type": "execute_result",
          "data": {
            "text/plain": [
              "'aa'"
            ],
            "application/vnd.google.colaboratory.intrinsic+json": {
              "type": "string"
            }
          },
          "metadata": {},
          "execution_count": 55
        }
      ]
    },
    {
      "cell_type": "markdown",
      "source": [
        "\n",
        "\n",
        "---\n",
        "**BE CAREFUL!**\n"
      ],
      "metadata": {
        "id": "KtGSmFuYturH"
      }
    },
    {
      "cell_type": "markdown",
      "source": [
        "*But as you can see, these do not enforce a data type! They are simply metadata that can be used by external libraries, and many IDE's.*"
      ],
      "metadata": {
        "id": "D7oiV6yAtvyI"
      }
    },
    {
      "cell_type": "markdown",
      "source": [
        "\n",
        "\n",
        "---\n",
        "\n"
      ],
      "metadata": {
        "id": "FpMgxPgityHj"
      }
    },
    {
      "cell_type": "markdown",
      "source": [
        "Functions are objects, just like integers are objects, and they can be assigned to variables just as an integer can:"
      ],
      "metadata": {
        "id": "fLNGnWhyuB5J"
      }
    },
    {
      "cell_type": "code",
      "source": [
        "my_func = func_3"
      ],
      "metadata": {
        "id": "SdAXSqs8twgd"
      },
      "execution_count": null,
      "outputs": []
    },
    {
      "cell_type": "code",
      "source": [
        "my_func('a', 2)"
      ],
      "metadata": {
        "colab": {
          "base_uri": "https://localhost:8080/",
          "height": 35
        },
        "id": "uDIN0gV8tqZ5",
        "outputId": "dadd66d1-a754-4f15-d067-5b13006d3863"
      },
      "execution_count": null,
      "outputs": [
        {
          "output_type": "execute_result",
          "data": {
            "text/plain": [
              "'aa'"
            ],
            "application/vnd.google.colaboratory.intrinsic+json": {
              "type": "string"
            }
          },
          "metadata": {},
          "execution_count": 57
        }
      ]
    },
    {
      "cell_type": "markdown",
      "source": [
        "\n",
        "\n",
        "---\n",
        "**BE CAREFUL!**\n"
      ],
      "metadata": {
        "id": "JOcRfUlTuU89"
      }
    },
    {
      "cell_type": "markdown",
      "source": [
        "*Functions must always return something. If you do not specify a return value, Python will automatically return the `None` object:*"
      ],
      "metadata": {
        "id": "V3muNLi4uWAv"
      }
    },
    {
      "cell_type": "code",
      "source": [
        "def func_4():\n",
        "    # does something but does not return a value\n",
        "    a = 2"
      ],
      "metadata": {
        "id": "5FGjXXz6uPga"
      },
      "execution_count": null,
      "outputs": []
    },
    {
      "cell_type": "code",
      "source": [
        "res = func_4()"
      ],
      "metadata": {
        "id": "EoVmqsB7urU3"
      },
      "execution_count": null,
      "outputs": []
    },
    {
      "cell_type": "code",
      "source": [
        "print(res)"
      ],
      "metadata": {
        "colab": {
          "base_uri": "https://localhost:8080/"
        },
        "id": "M7dcQt0NuthJ",
        "outputId": "b4101173-d87b-4cdc-9b29-994f9c100f2e"
      },
      "execution_count": null,
      "outputs": [
        {
          "output_type": "stream",
          "name": "stdout",
          "text": [
            "None\n"
          ]
        }
      ]
    },
    {
      "cell_type": "markdown",
      "source": [
        "\n",
        "\n",
        "---\n",
        "\n"
      ],
      "metadata": {
        "id": "S9xtGaEKuV3u"
      }
    },
    {
      "cell_type": "markdown",
      "source": [
        "The `def` keyword is an executable piece of code that creates the function (an instance of the function class) and essentially assigns it to a variable name ( the function name)."
      ],
      "metadata": {
        "id": "vMk4UlnkuzWv"
      }
    },
    {
      "cell_type": "markdown",
      "source": [
        "\n",
        "\n",
        "---\n",
        "**BE CAREFUL!**\n"
      ],
      "metadata": {
        "id": "Oh_5v3_IvKax"
      }
    },
    {
      "cell_type": "markdown",
      "source": [
        "*Note that the function is defined when `def` is reached, but the code inside it is not evaluated until the function is called.\n",
        "This is why we can define functions that call other functions defined later - as long as we don't call them before all the necessary functions are defined.\n",
        "For example, the following will work:*"
      ],
      "metadata": {
        "id": "-mG94d6IvMzI"
      }
    },
    {
      "cell_type": "code",
      "source": [
        "def fn_1():\n",
        "    fn_2()\n",
        "\n",
        "def fn_2():\n",
        "    print('Hello')\n",
        "\n",
        "fn_1()"
      ],
      "metadata": {
        "colab": {
          "base_uri": "https://localhost:8080/"
        },
        "id": "PYFrmNQkvh2t",
        "outputId": "0ddeb14c-a4c1-4324-cf94-59956bc3bd02"
      },
      "execution_count": null,
      "outputs": [
        {
          "output_type": "stream",
          "name": "stdout",
          "text": [
            "Hello\n"
          ]
        }
      ]
    },
    {
      "cell_type": "markdown",
      "source": [
        "*But this will not work:*"
      ],
      "metadata": {
        "id": "ydiZ4yCrv3ZH"
      }
    },
    {
      "cell_type": "code",
      "source": [
        "def fn_3():\n",
        "    fn_4\n",
        "\n",
        "fn_3()\n",
        "\n",
        "def fn_4():\n",
        "    print('Hello')"
      ],
      "metadata": {
        "colab": {
          "base_uri": "https://localhost:8080/",
          "height": 357
        },
        "id": "Qzzqefnivu-A",
        "outputId": "24699942-3477-439d-96df-d163be713ac8"
      },
      "execution_count": null,
      "outputs": [
        {
          "output_type": "error",
          "ename": "NameError",
          "evalue": "ignored",
          "traceback": [
            "\u001b[0;31m---------------------------------------------------------------------------\u001b[0m",
            "\u001b[0;31mNameError\u001b[0m                                 Traceback (most recent call last)",
            "\u001b[0;32m<ipython-input-62-9550e7a77242>\u001b[0m in \u001b[0;36m<module>\u001b[0;34m\u001b[0m\n\u001b[1;32m      2\u001b[0m     \u001b[0mfn_4\u001b[0m\u001b[0;34m\u001b[0m\u001b[0;34m\u001b[0m\u001b[0m\n\u001b[1;32m      3\u001b[0m \u001b[0;34m\u001b[0m\u001b[0m\n\u001b[0;32m----> 4\u001b[0;31m \u001b[0mfn_3\u001b[0m\u001b[0;34m(\u001b[0m\u001b[0;34m)\u001b[0m\u001b[0;34m\u001b[0m\u001b[0;34m\u001b[0m\u001b[0m\n\u001b[0m\u001b[1;32m      5\u001b[0m \u001b[0;34m\u001b[0m\u001b[0m\n\u001b[1;32m      6\u001b[0m \u001b[0;32mdef\u001b[0m \u001b[0mfn_4\u001b[0m\u001b[0;34m(\u001b[0m\u001b[0;34m)\u001b[0m\u001b[0;34m:\u001b[0m\u001b[0;34m\u001b[0m\u001b[0;34m\u001b[0m\u001b[0m\n",
            "\u001b[0;32m<ipython-input-62-9550e7a77242>\u001b[0m in \u001b[0;36mfn_3\u001b[0;34m()\u001b[0m\n\u001b[1;32m      1\u001b[0m \u001b[0;32mdef\u001b[0m \u001b[0mfn_3\u001b[0m\u001b[0;34m(\u001b[0m\u001b[0;34m)\u001b[0m\u001b[0;34m:\u001b[0m\u001b[0;34m\u001b[0m\u001b[0;34m\u001b[0m\u001b[0m\n\u001b[0;32m----> 2\u001b[0;31m     \u001b[0mfn_4\u001b[0m\u001b[0;34m\u001b[0m\u001b[0;34m\u001b[0m\u001b[0m\n\u001b[0m\u001b[1;32m      3\u001b[0m \u001b[0;34m\u001b[0m\u001b[0m\n\u001b[1;32m      4\u001b[0m \u001b[0mfn_3\u001b[0m\u001b[0;34m(\u001b[0m\u001b[0;34m)\u001b[0m\u001b[0;34m\u001b[0m\u001b[0;34m\u001b[0m\u001b[0m\n\u001b[1;32m      5\u001b[0m \u001b[0;34m\u001b[0m\u001b[0m\n",
            "\u001b[0;31mNameError\u001b[0m: name 'fn_4' is not defined"
          ]
        }
      ]
    },
    {
      "cell_type": "markdown",
      "source": [
        "\n",
        "\n",
        "---\n",
        "\n"
      ],
      "metadata": {
        "id": "0h9i3hWVv2Mm"
      }
    },
    {
      "cell_type": "markdown",
      "source": [
        "We also have the `lambda` keyword, that also creates a new function, but does not assign it to any specific name - instead it just returns the function object - which we can, if we wish, assign yo a variable ourselves:"
      ],
      "metadata": {
        "id": "sR8VQFhhwJR9"
      }
    },
    {
      "cell_type": "code",
      "source": [
        "func_5 = lambda x: x ** 2"
      ],
      "metadata": {
        "id": "PLB2IQx-wXHP"
      },
      "execution_count": null,
      "outputs": []
    },
    {
      "cell_type": "code",
      "source": [
        "func_5"
      ],
      "metadata": {
        "colab": {
          "base_uri": "https://localhost:8080/"
        },
        "id": "nOYTFI1kwaaL",
        "outputId": "88af6200-0a73-4a3a-a541-bbf244a22238"
      },
      "execution_count": null,
      "outputs": [
        {
          "output_type": "execute_result",
          "data": {
            "text/plain": [
              "<function __main__.<lambda>(x)>"
            ]
          },
          "metadata": {},
          "execution_count": 64
        }
      ]
    },
    {
      "cell_type": "code",
      "source": [
        "func_5(2)"
      ],
      "metadata": {
        "colab": {
          "base_uri": "https://localhost:8080/"
        },
        "id": "eMD22An3wbkg",
        "outputId": "a022c6f1-b0dc-4aa5-93e2-09d61407e517"
      },
      "execution_count": null,
      "outputs": [
        {
          "output_type": "execute_result",
          "data": {
            "text/plain": [
              "4"
            ]
          },
          "metadata": {},
          "execution_count": 65
        }
      ]
    },
    {
      "cell_type": "markdown",
      "source": [
        "### 04 - The While Loop"
      ],
      "metadata": {
        "id": "-iibcL9XwmF_"
      }
    },
    {
      "cell_type": "markdown",
      "source": [
        "The while loop is a way to repeat a block of code as long as a specified condition is met.\n",
        "\n",
        "```\n",
        "while <exp is true>:\n",
        "    code block\n",
        "```"
      ],
      "metadata": {
        "id": "hGMaflo5wp6V"
      }
    },
    {
      "cell_type": "code",
      "source": [
        "i = 0\n",
        "while i < 5:\n",
        "    print(i)\n",
        "    i += 1"
      ],
      "metadata": {
        "colab": {
          "base_uri": "https://localhost:8080/"
        },
        "id": "dgAFVi2W15TD",
        "outputId": "e7fa06bd-10dc-4ef5-ae8a-fe6285838014"
      },
      "execution_count": null,
      "outputs": [
        {
          "output_type": "stream",
          "name": "stdout",
          "text": [
            "0\n",
            "1\n",
            "2\n",
            "3\n",
            "4\n"
          ]
        }
      ]
    },
    {
      "cell_type": "markdown",
      "source": [
        "\n",
        "\n",
        "---\n",
        "**BE CAREFUL!**\n"
      ],
      "metadata": {
        "id": "d5iBIchd2cBW"
      }
    },
    {
      "cell_type": "markdown",
      "source": [
        "*Note that there is no guarantee that a while loop will execute at all, not even once, because the condition is tested before the loop runs.*"
      ],
      "metadata": {
        "id": "hROR-Yaa2eFU"
      }
    },
    {
      "cell_type": "code",
      "source": [
        "i = 5\n",
        "while i < 5:\n",
        "    print(i)\n",
        "    i += 1"
      ],
      "metadata": {
        "id": "mlxWoTnf2cqu"
      },
      "execution_count": null,
      "outputs": []
    },
    {
      "cell_type": "markdown",
      "source": [
        "*Some languages have a concept of a while loop that is guaranteed to executed at least one:*\n",
        "```\n",
        "do\n",
        "    code block\n",
        "while <exp is true>\n",
        "```\n",
        "*There is no such thing in Python, but it's easy to write code that works that way.*\n"
      ],
      "metadata": {
        "id": "TWR8uxVQ20el"
      }
    },
    {
      "cell_type": "markdown",
      "source": [
        "\n",
        "\n",
        "---\n",
        "\n"
      ],
      "metadata": {
        "id": "ezdXwHW02dCv"
      }
    },
    {
      "cell_type": "markdown",
      "source": [
        "We create an infinite loop and test the condition inside the loop and break out of the loop when the condition becomes false:"
      ],
      "metadata": {
        "id": "NxEFtpJo3UkW"
      }
    },
    {
      "cell_type": "code",
      "source": [
        "i = 5\n",
        "\n",
        "while True:\n",
        "    print(i)\n",
        "    if i >= 5:\n",
        "        break"
      ],
      "metadata": {
        "colab": {
          "base_uri": "https://localhost:8080/"
        },
        "id": "KZcXo97G2PnB",
        "outputId": "484c90da-8189-492b-b3a6-7bf34df8d8c6"
      },
      "execution_count": null,
      "outputs": [
        {
          "output_type": "stream",
          "name": "stdout",
          "text": [
            "5\n"
          ]
        }
      ]
    },
    {
      "cell_type": "markdown",
      "source": [
        "As you can see the loop executed once ( and will always execute at least once, no matter the starting value of `i`.)\n",
        "This is a standard pattern and can be useful in a varity of scenarios.\n",
        "A simple example might be getting repetitive user input until the user performs and action or provides some specific value.\n",
        "we might try it this way:"
      ],
      "metadata": {
        "id": "SmOf4eHy3m2y"
      }
    },
    {
      "cell_type": "code",
      "source": [
        "min_length = 2\n",
        "name = input('Please enter your name:')\n",
        "while not(len(name) >= min_length and name.isprintable() and name.isalpha()):\n",
        "    name = input('Please enter your name:')\n",
        "print('Hello, {0}'.format(name))"
      ],
      "metadata": {
        "colab": {
          "base_uri": "https://localhost:8080/"
        },
        "id": "1TwOVhUL3jml",
        "outputId": "1a581efa-33c0-4faf-c913-7db10bc10fa9"
      },
      "execution_count": null,
      "outputs": [
        {
          "output_type": "stream",
          "name": "stdout",
          "text": [
            "Please enter your name:a123\n",
            "Please enter your name:a\n",
            "Please enter your name:serdar\n",
            "Hello, serdar\n"
          ]
        }
      ]
    },
    {
      "cell_type": "markdown",
      "source": [
        "This works just fine, but notice that we had to write the code to elicit user input twice in our code. This is not good practice, and we can easily clean this up as follows:"
      ],
      "metadata": {
        "id": "XdbVyRRE4pwV"
      }
    },
    {
      "cell_type": "code",
      "source": [
        "min_length = 2\n",
        "\n",
        "while True:\n",
        "    name = input('Please enter your name:')\n",
        "    if len(name) >= min_length and name.isprintable() and name.isalpha():\n",
        "        break\n",
        "\n",
        "print('Hello, {0}'.format(name))"
      ],
      "metadata": {
        "colab": {
          "base_uri": "https://localhost:8080/"
        },
        "id": "-v91qpyf4aUG",
        "outputId": "ea49d74a-9eb2-41a3-cbf5-af27a0ab79f4"
      },
      "execution_count": null,
      "outputs": [
        {
          "output_type": "stream",
          "name": "stdout",
          "text": [
            "Please enter your name:a\n",
            "Please enter your name:123\n",
            "Please enter your name:serdar\n",
            "Hello, serdar\n"
          ]
        }
      ]
    },
    {
      "cell_type": "markdown",
      "source": [
        "We saw how the `break` statement exists the while loop and execution resumes on the line immediately after the while code block.\n",
        "\n",
        "Sometimes, we just want to cut the current iteration short, but continue looping, without exiting the loop itself.\n",
        "\n",
        "This is done using `continue` statement."
      ],
      "metadata": {
        "id": "4Vj9eZwX5LHC"
      }
    },
    {
      "cell_type": "code",
      "source": [
        "a = 0\n",
        "while a < 10:\n",
        "    a += 1\n",
        "    if a % 2:\n",
        "        continue\n",
        "    print(a)"
      ],
      "metadata": {
        "colab": {
          "base_uri": "https://localhost:8080/"
        },
        "id": "IUEZ16-44_iO",
        "outputId": "a30afc4c-da0d-419a-852d-955674a0b2f0"
      },
      "execution_count": null,
      "outputs": [
        {
          "output_type": "stream",
          "name": "stdout",
          "text": [
            "2\n",
            "4\n",
            "6\n",
            "8\n",
            "10\n"
          ]
        }
      ]
    },
    {
      "cell_type": "markdown",
      "source": [
        "\n",
        "\n",
        "---\n",
        "**BE CAREFUL!**\n"
      ],
      "metadata": {
        "id": "IKX7dyKMPSFC"
      }
    },
    {
      "cell_type": "markdown",
      "source": [
        "*The while loop also can be used with an `else` clause!!*\n",
        "\n",
        "*The `else` is executed if the `while` loop terminated without hitting a `break` statement (we say the loop terminated normally)*\n",
        "\n",
        "*Suppose we want to test if some value is present in some list, and if not we want to append it to the list (again there are better ways of doing this):*\n",
        "\n",
        "*First, here's how we might do it wihout the benefit of the `else` clause:*"
      ],
      "metadata": {
        "id": "VuWfr8EA5tJl"
      }
    },
    {
      "cell_type": "code",
      "source": [
        "l = [1, 2, 3]\n",
        "val = 10\n",
        "\n",
        "found = False\n",
        "idx = 0\n",
        "while idx < len(l):\n",
        "    if l[idx] == val:\n",
        "        found = True\n",
        "        break\n",
        "    idx += 1\n",
        "\n",
        "if not found:\n",
        "    l.append(val)\n",
        "print(l)"
      ],
      "metadata": {
        "colab": {
          "base_uri": "https://localhost:8080/"
        },
        "id": "oI4TFIMO5poQ",
        "outputId": "b7840556-eac7-4dac-a2b1-0c5f9b7b1c92"
      },
      "execution_count": null,
      "outputs": [
        {
          "output_type": "stream",
          "name": "stdout",
          "text": [
            "[1, 2, 3, 10]\n"
          ]
        }
      ]
    },
    {
      "cell_type": "markdown",
      "source": [
        "Using the `else` clause is easier:"
      ],
      "metadata": {
        "id": "S6v7XH4i7CwY"
      }
    },
    {
      "cell_type": "code",
      "source": [
        "l = [1, 2, 3]\n",
        "val = 10\n",
        "\n",
        "idx = 0\n",
        "while idx < len(l):\n",
        "    if l[idx] == val:\n",
        "        break\n",
        "    idx += 1\n",
        "else:\n",
        "    l.append(val)\n",
        "\n",
        "print(l)"
      ],
      "metadata": {
        "colab": {
          "base_uri": "https://localhost:8080/"
        },
        "id": "KPurKYXd7AwD",
        "outputId": "1f903755-0619-4820-b30b-991a60cbe380"
      },
      "execution_count": null,
      "outputs": [
        {
          "output_type": "stream",
          "name": "stdout",
          "text": [
            "[1, 2, 3, 10]\n"
          ]
        }
      ]
    },
    {
      "cell_type": "code",
      "source": [
        "l = [1, 2, 3]\n",
        "val = 3\n",
        "\n",
        "idx = 0\n",
        "while idx < len(l):\n",
        "    if l[idx] == val:\n",
        "        break\n",
        "    idx += 1\n",
        "else:\n",
        "    l.append(val)\n",
        "\n",
        "print(l)"
      ],
      "metadata": {
        "colab": {
          "base_uri": "https://localhost:8080/"
        },
        "id": "EWkiS2Q77rUX",
        "outputId": "98534d9c-7422-4e9f-c2cc-0842ee11c73d"
      },
      "execution_count": null,
      "outputs": [
        {
          "output_type": "stream",
          "name": "stdout",
          "text": [
            "[1, 2, 3]\n"
          ]
        }
      ]
    },
    {
      "cell_type": "markdown",
      "source": [
        "\n",
        "\n",
        "---\n",
        "\n"
      ],
      "metadata": {
        "id": "64x6CPpUPqiU"
      }
    },
    {
      "cell_type": "markdown",
      "source": [
        "### 05 - Loop Break and Continue inside a Try...Except...Finally"
      ],
      "metadata": {
        "id": "oUHikNHZ778M"
      }
    },
    {
      "cell_type": "markdown",
      "source": [
        "Recall that in a `try` statement, the `finally` clause always runs:"
      ],
      "metadata": {
        "id": "YdM7Psvk-d7l"
      }
    },
    {
      "cell_type": "code",
      "source": [
        "from six import b\n",
        "a = 10\n",
        "b = 1\n",
        "try:\n",
        "    a / b\n",
        "except ZeroDivisionError:\n",
        "    print('division by 0')\n",
        "finally:\n",
        "    print('this always executes')"
      ],
      "metadata": {
        "colab": {
          "base_uri": "https://localhost:8080/"
        },
        "id": "K3tUkRPS76r_",
        "outputId": "6e384934-e545-4cc5-824a-302f754382fc"
      },
      "execution_count": null,
      "outputs": [
        {
          "output_type": "stream",
          "name": "stdout",
          "text": [
            "this always executes\n"
          ]
        }
      ]
    },
    {
      "cell_type": "code",
      "source": [
        "from six import b\n",
        "a = 10\n",
        "b = 0\n",
        "try:\n",
        "    a / b\n",
        "except ZeroDivisionError:\n",
        "    print('division by 0')\n",
        "finally:\n",
        "    print('this always executes')"
      ],
      "metadata": {
        "colab": {
          "base_uri": "https://localhost:8080/"
        },
        "id": "4Wv3OpH--ucg",
        "outputId": "95d3921c-10ec-49fd-c2cb-e5c33e62c14e"
      },
      "execution_count": null,
      "outputs": [
        {
          "output_type": "stream",
          "name": "stdout",
          "text": [
            "division by 0\n",
            "this always executes\n"
          ]
        }
      ]
    },
    {
      "cell_type": "markdown",
      "source": [
        "So, what happens when using a `try` statement within a `while` loop, and a `continue` or `break` statement is encountered?"
      ],
      "metadata": {
        "id": "21B0Jn8K-6z6"
      }
    },
    {
      "cell_type": "code",
      "source": [
        "a = 0\n",
        "b = 2\n",
        "\n",
        "while a < 3:\n",
        "    print('----------')\n",
        "    a += 1\n",
        "    b -=1\n",
        "    try:\n",
        "        res = a / b\n",
        "    except ZeroDivisionError:\n",
        "        print('{0}, {1} - division by 0'.format(a, b))\n",
        "        res = 0\n",
        "        continue\n",
        "    finally:\n",
        "        print('{0}, {1} - always executes'.format(a, b))\n",
        "    print('{0}, {1} - main loop'.format(a, b))"
      ],
      "metadata": {
        "colab": {
          "base_uri": "https://localhost:8080/"
        },
        "id": "p_AEQuUE-xHB",
        "outputId": "6bb1d52c-9ef3-4642-9de3-ce90b681b850"
      },
      "execution_count": null,
      "outputs": [
        {
          "output_type": "stream",
          "name": "stdout",
          "text": [
            "----------\n",
            "1, 1 - always executes\n",
            "1, 1 - main loop\n",
            "----------\n",
            "2, 0 - division by 0\n",
            "2, 0 - always executes\n",
            "----------\n",
            "3, -1 - always executes\n",
            "3, -1 - main loop\n"
          ]
        }
      ]
    },
    {
      "cell_type": "markdown",
      "source": [
        "As you can see in the above result, the finally code still executed, even though the current iteration was cut short with the continue statement.\n",
        "<p>This works the same with a break statement:"
      ],
      "metadata": {
        "id": "1c-NPAue_r_G"
      }
    },
    {
      "cell_type": "code",
      "source": [
        "a = 0\n",
        "b = 2\n",
        "\n",
        "while a < 3:\n",
        "    print('----------')\n",
        "    a += 1\n",
        "    b -=1\n",
        "    try:\n",
        "        res = a / b\n",
        "    except ZeroDivisionError:\n",
        "        print('{0}, {1} - division by 0'.format(a, b))\n",
        "        res = 0\n",
        "        break\n",
        "    finally:\n",
        "        print('{0}, {1} - always executes'.format(a, b))\n",
        "    print('{0}, {1} - main loop'.format(a, b))"
      ],
      "metadata": {
        "colab": {
          "base_uri": "https://localhost:8080/"
        },
        "id": "CfGnHjre_pH7",
        "outputId": "7807dfc0-3a01-493f-9fcb-61ddea1a2ddf"
      },
      "execution_count": null,
      "outputs": [
        {
          "output_type": "stream",
          "name": "stdout",
          "text": [
            "----------\n",
            "1, 1 - always executes\n",
            "1, 1 - main loop\n",
            "----------\n",
            "2, 0 - division by 0\n",
            "2, 0 - always executes\n"
          ]
        }
      ]
    },
    {
      "cell_type": "markdown",
      "source": [
        "We can even combine all this with the `else` clause:"
      ],
      "metadata": {
        "id": "Sx9fog_6AEqI"
      }
    },
    {
      "cell_type": "code",
      "source": [
        "a = 0\n",
        "b = 2\n",
        "\n",
        "while a < 3:\n",
        "    print('----------')\n",
        "    a += 1\n",
        "    b -=1\n",
        "    try:\n",
        "        res = a / b\n",
        "    except ZeroDivisionError:\n",
        "        print('{0}, {1} - division by 0'.format(a, b))\n",
        "        res = 0\n",
        "        break\n",
        "    finally:\n",
        "        print('{0}, {1} - always executes'.format(a, b))\n",
        "    print('{0}, {1} - main loop'.format(a, b))\n",
        "else:\n",
        "    print('\\n\\nno errors were encountered!')"
      ],
      "metadata": {
        "colab": {
          "base_uri": "https://localhost:8080/"
        },
        "id": "Poytn0R9ADN6",
        "outputId": "4719bedb-ff0f-4bbf-af21-c8a2898129bd"
      },
      "execution_count": null,
      "outputs": [
        {
          "output_type": "stream",
          "name": "stdout",
          "text": [
            "----------\n",
            "1, 1 - always executes\n",
            "1, 1 - main loop\n",
            "----------\n",
            "2, 0 - division by 0\n",
            "2, 0 - always executes\n"
          ]
        }
      ]
    },
    {
      "cell_type": "code",
      "source": [
        "a = 0\n",
        "b = 5\n",
        "\n",
        "while a < 3:\n",
        "    print('----------')\n",
        "    a += 1\n",
        "    b -=1\n",
        "    try:\n",
        "        res = a / b\n",
        "    except ZeroDivisionError:\n",
        "        print('{0}, {1} - division by 0'.format(a, b))\n",
        "        res = 0\n",
        "        break\n",
        "    finally:\n",
        "        print('{0}, {1} - always executes'.format(a, b))\n",
        "    print('{0}, {1} - main loop'.format(a, b))\n",
        "else:\n",
        "    print('\\n\\nno errors were encountered!')"
      ],
      "metadata": {
        "colab": {
          "base_uri": "https://localhost:8080/"
        },
        "id": "oe49LGmLAUTT",
        "outputId": "8915e233-7c0a-44cb-98d9-73a7cb75cf8b"
      },
      "execution_count": null,
      "outputs": [
        {
          "output_type": "stream",
          "name": "stdout",
          "text": [
            "----------\n",
            "1, 4 - always executes\n",
            "1, 4 - main loop\n",
            "----------\n",
            "2, 3 - always executes\n",
            "2, 3 - main loop\n",
            "----------\n",
            "3, 2 - always executes\n",
            "3, 2 - main loop\n",
            "\n",
            "\n",
            "no errors were encountered!\n"
          ]
        }
      ]
    },
    {
      "cell_type": "markdown",
      "source": [
        "### 06 - The For Loop"
      ],
      "metadata": {
        "id": "5PLXfwC4Ay3e"
      }
    },
    {
      "cell_type": "markdown",
      "source": [
        "In Python, an iterable is an object capable of returning values one at a time.\n",
        "\n",
        "Many objects in Python are iterable: lists, strings, file objects and many more."
      ],
      "metadata": {
        "id": "DHYw3dvRBQIc"
      }
    },
    {
      "cell_type": "markdown",
      "source": [
        "\n",
        "\n",
        "---\n",
        "\n",
        "**BE CAREFUL!**"
      ],
      "metadata": {
        "id": "EV-7BSlkBgtS"
      }
    },
    {
      "cell_type": "markdown",
      "source": [
        "*Note: Our definition of an iterable did not state it was a collection of values - we only said it is an object that can return values one at a time - that's a subtle difference that when we look into iterators and generators.*"
      ],
      "metadata": {
        "id": "SV956iMGBntC"
      }
    },
    {
      "cell_type": "markdown",
      "source": [
        "\n",
        "\n",
        "---\n",
        "\n"
      ],
      "metadata": {
        "id": "QVeb5ix7Biyf"
      }
    },
    {
      "cell_type": "markdown",
      "source": [
        "The `for` keyword can be used to iterate an iterable.\n",
        "\n",
        "If you come with a background in another programming language, you have probably seen for loops defined this way:\n",
        "\n",
        "\n",
        "```\n",
        "for (int i=0; i < 5; i++) {\n",
        "    //code block\n",
        "}\n",
        "```\n",
        "This form of the `for` loop is simply a repetition, very similar to a `while` loop - in fact it is equivalent to what we could write in Python as follows:\n"
      ],
      "metadata": {
        "id": "97Q7GFH-CAxU"
      }
    },
    {
      "cell_type": "code",
      "source": [
        "i = 0\n",
        "while i < 5:\n",
        "    #code block\n",
        "    print(i)\n",
        "    i += 1\n",
        "i = None"
      ],
      "metadata": {
        "colab": {
          "base_uri": "https://localhost:8080/"
        },
        "id": "2Duhk3wbAYmI",
        "outputId": "7a87a569-5840-431d-bb9d-c6038a152a33"
      },
      "execution_count": null,
      "outputs": [
        {
          "output_type": "stream",
          "name": "stdout",
          "text": [
            "0\n",
            "1\n",
            "2\n",
            "3\n",
            "4\n"
          ]
        }
      ]
    },
    {
      "cell_type": "markdown",
      "source": [
        "But that's NOT what the `for` statement does in Python - the `for` statement is a way to iterate over iterables, and has nothing to do with the `for` loop we just saw. The closest equivalent we have in Python is the `while` loop written as above.\n",
        "\n",
        "The use the `for` loop in Python, we require an iterable object to work with.\n",
        "\n",
        "A simple iterable object is generated via the `range()` function"
      ],
      "metadata": {
        "id": "Bxnx3KS4C09W"
      }
    },
    {
      "cell_type": "code",
      "source": [
        "for i in range(5):\n",
        "    print(i)"
      ],
      "metadata": {
        "colab": {
          "base_uri": "https://localhost:8080/"
        },
        "id": "xTpHbp5yCxji",
        "outputId": "5d03be74-9c7d-4f8f-899f-da2782ba26cd"
      },
      "execution_count": null,
      "outputs": [
        {
          "output_type": "stream",
          "name": "stdout",
          "text": [
            "0\n",
            "1\n",
            "2\n",
            "3\n",
            "4\n"
          ]
        }
      ]
    },
    {
      "cell_type": "markdown",
      "source": [
        "Many objects are iterable in Python:"
      ],
      "metadata": {
        "id": "lMNSE4GyDXo3"
      }
    },
    {
      "cell_type": "code",
      "source": [
        "for x in [1, 2, 3]:\n",
        "    print(x)"
      ],
      "metadata": {
        "colab": {
          "base_uri": "https://localhost:8080/"
        },
        "id": "NXj8Xe6uDVud",
        "outputId": "141dc3f4-20ea-480c-86a0-379c14fe4f38"
      },
      "execution_count": null,
      "outputs": [
        {
          "output_type": "stream",
          "name": "stdout",
          "text": [
            "1\n",
            "2\n",
            "3\n"
          ]
        }
      ]
    },
    {
      "cell_type": "code",
      "source": [
        "for x in 'hello':\n",
        "    print(x)"
      ],
      "metadata": {
        "colab": {
          "base_uri": "https://localhost:8080/"
        },
        "id": "rgg4RQFmDdag",
        "outputId": "14b3b240-ae52-4a79-a8f6-93ca6858aa66"
      },
      "execution_count": null,
      "outputs": [
        {
          "output_type": "stream",
          "name": "stdout",
          "text": [
            "h\n",
            "e\n",
            "l\n",
            "l\n",
            "o\n"
          ]
        }
      ]
    },
    {
      "cell_type": "code",
      "source": [
        "for x in ('a', 'b', 'c'):\n",
        "    print(x)"
      ],
      "metadata": {
        "colab": {
          "base_uri": "https://localhost:8080/"
        },
        "id": "0aEQgsdjDgLc",
        "outputId": "3d107dfe-77d1-4ae3-ac70-662f6d8cedec"
      },
      "execution_count": null,
      "outputs": [
        {
          "output_type": "stream",
          "name": "stdout",
          "text": [
            "a\n",
            "b\n",
            "c\n"
          ]
        }
      ]
    },
    {
      "cell_type": "markdown",
      "source": [
        "When we iterate over an iterable, each iteration returns the `next` value (or object) in the iterable:"
      ],
      "metadata": {
        "id": "kfb2NlE-DlGb"
      }
    },
    {
      "cell_type": "code",
      "source": [
        "for x in [(1, 2), (3, 4), (5, 6)]:\n",
        "    print(x)"
      ],
      "metadata": {
        "colab": {
          "base_uri": "https://localhost:8080/"
        },
        "id": "BOXGw5FaDkMe",
        "outputId": "6898f9b7-8701-44d6-c1f1-07541b4ccf5e"
      },
      "execution_count": null,
      "outputs": [
        {
          "output_type": "stream",
          "name": "stdout",
          "text": [
            "(1, 2)\n",
            "(3, 4)\n",
            "(5, 6)\n"
          ]
        }
      ]
    },
    {
      "cell_type": "markdown",
      "source": [
        "We can even assign the individual tuple values to specific named variables:"
      ],
      "metadata": {
        "id": "e94CLlBLDze_"
      }
    },
    {
      "cell_type": "code",
      "source": [
        "for i, j in [(1, 2), (3, 4), (5, 6)]:\n",
        "    print(i, j)"
      ],
      "metadata": {
        "colab": {
          "base_uri": "https://localhost:8080/"
        },
        "id": "dPo1IuFGDxwE",
        "outputId": "377e0059-7d28-42ba-b1eb-b003b7accaf9"
      },
      "execution_count": null,
      "outputs": [
        {
          "output_type": "stream",
          "name": "stdout",
          "text": [
            "1 2\n",
            "3 4\n",
            "5 6\n"
          ]
        }
      ]
    },
    {
      "cell_type": "markdown",
      "source": [
        "The `break` and `continue` statements work just as well in `for` loops as they do in `while` loops:"
      ],
      "metadata": {
        "id": "HOR9TBmEEA2q"
      }
    },
    {
      "cell_type": "code",
      "source": [
        "for i in range(5):\n",
        "    if i == 3:\n",
        "        continue\n",
        "    print(i)"
      ],
      "metadata": {
        "colab": {
          "base_uri": "https://localhost:8080/"
        },
        "id": "ZRtJLBZDD9Ei",
        "outputId": "2d8a470d-7299-4080-d679-cbdcc1420c91"
      },
      "execution_count": null,
      "outputs": [
        {
          "output_type": "stream",
          "name": "stdout",
          "text": [
            "0\n",
            "1\n",
            "2\n",
            "4\n"
          ]
        }
      ]
    },
    {
      "cell_type": "code",
      "source": [
        "for i in range(5):\n",
        "    if i == 3:\n",
        "        break\n",
        "    print(i)"
      ],
      "metadata": {
        "colab": {
          "base_uri": "https://localhost:8080/"
        },
        "id": "j6xj0bu1EJ4E",
        "outputId": "fae40c9f-c539-4a41-957c-3df8036c7a1a"
      },
      "execution_count": null,
      "outputs": [
        {
          "output_type": "stream",
          "name": "stdout",
          "text": [
            "0\n",
            "1\n",
            "2\n"
          ]
        }
      ]
    },
    {
      "cell_type": "markdown",
      "source": [
        "\n",
        "\n",
        "---\n",
        "**BE CAREFUL**"
      ],
      "metadata": {
        "id": "1nXUSeaHFAOZ"
      }
    },
    {
      "cell_type": "markdown",
      "source": [
        "*The `for` loop, like the `while` loop, also supports an `else` clause which is executed if and only if the loop terminates normally (i.e. did not exit because of a `break` statement)*"
      ],
      "metadata": {
        "id": "pc9c7nuSEPjT"
      }
    },
    {
      "cell_type": "code",
      "source": [
        "for i in range(1, 5):\n",
        "    print(i)\n",
        "    if i % 7 == 0:\n",
        "        print('multiple of 7 found')\n",
        "        break\n",
        "else:\n",
        "    print('No multiples of 7 encountered')"
      ],
      "metadata": {
        "colab": {
          "base_uri": "https://localhost:8080/"
        },
        "id": "2xBbzGcnEN4u",
        "outputId": "b5781bc3-810c-41ce-906a-c713e213e0d6"
      },
      "execution_count": null,
      "outputs": [
        {
          "output_type": "stream",
          "name": "stdout",
          "text": [
            "1\n",
            "2\n",
            "3\n",
            "4\n",
            "No multiples of 7 encountered\n"
          ]
        }
      ]
    },
    {
      "cell_type": "code",
      "source": [
        "for i in range(1, 8):\n",
        "    print(i)\n",
        "    if i % 7 == 0:\n",
        "        print('multiple of 7 found')\n",
        "        break\n",
        "else:\n",
        "    print('No multiples of 7 encountered')"
      ],
      "metadata": {
        "colab": {
          "base_uri": "https://localhost:8080/"
        },
        "id": "snHX5LG3EmKH",
        "outputId": "4d9f7399-03a5-4b94-d728-80ecc0dfe7a3"
      },
      "execution_count": null,
      "outputs": [
        {
          "output_type": "stream",
          "name": "stdout",
          "text": [
            "1\n",
            "2\n",
            "3\n",
            "4\n",
            "5\n",
            "6\n",
            "7\n",
            "multiple of 7 found\n"
          ]
        }
      ]
    },
    {
      "cell_type": "markdown",
      "source": [
        "\n",
        "\n",
        "---\n",
        "\n"
      ],
      "metadata": {
        "id": "2tCnDgzcFEkP"
      }
    },
    {
      "cell_type": "markdown",
      "source": [
        "Similarly to the `while` loop, `break` and `continue` work just the same in the context of a `try` statement's `finally` clause."
      ],
      "metadata": {
        "id": "fIFTMXMnFMg3"
      }
    },
    {
      "cell_type": "code",
      "source": [
        "for i in range(5):\n",
        "    print('-----------')\n",
        "    try:\n",
        "        10 / (i - 3)\n",
        "    except ZeroDivisionError:\n",
        "        print('divided by 0')\n",
        "        continue\n",
        "    finally:\n",
        "        print('always runs')\n",
        "    print(i)"
      ],
      "metadata": {
        "colab": {
          "base_uri": "https://localhost:8080/"
        },
        "id": "gkh_TemcFUAm",
        "outputId": "45151b03-d439-4fae-9b38-7e7e8a639c15"
      },
      "execution_count": null,
      "outputs": [
        {
          "output_type": "stream",
          "name": "stdout",
          "text": [
            "-----------\n",
            "always runs\n",
            "0\n",
            "-----------\n",
            "always runs\n",
            "1\n",
            "-----------\n",
            "always runs\n",
            "2\n",
            "-----------\n",
            "divided by 0\n",
            "always runs\n",
            "-----------\n",
            "always runs\n",
            "4\n"
          ]
        }
      ]
    },
    {
      "cell_type": "markdown",
      "source": [
        "There are a number of standard techniques to iterate over iterables:"
      ],
      "metadata": {
        "id": "XtUyLF6OFmPw"
      }
    },
    {
      "cell_type": "code",
      "source": [
        "s = 'hello'\n",
        "for c in s:\n",
        "    print(c)"
      ],
      "metadata": {
        "colab": {
          "base_uri": "https://localhost:8080/"
        },
        "id": "ASsw_qTDFiHv",
        "outputId": "f637a8e6-ed58-44fd-d161-6bbefc0f06a4"
      },
      "execution_count": null,
      "outputs": [
        {
          "output_type": "stream",
          "name": "stdout",
          "text": [
            "h\n",
            "e\n",
            "l\n",
            "l\n",
            "o\n"
          ]
        }
      ]
    },
    {
      "cell_type": "markdown",
      "source": [
        "But sometimes, for indexable iterable types (e.g. sequences), we want to also know the index of the item in the loop:"
      ],
      "metadata": {
        "id": "QJW73PedFwWM"
      }
    },
    {
      "cell_type": "code",
      "source": [
        "s = 'hello'\n",
        "i = 0\n",
        "for c in s:\n",
        "    print(i, c)\n",
        "    i += 1"
      ],
      "metadata": {
        "colab": {
          "base_uri": "https://localhost:8080/"
        },
        "id": "KQTQ7GeMFvCt",
        "outputId": "b51f7e3e-20f3-4175-dcdd-ecc56ad42a78"
      },
      "execution_count": null,
      "outputs": [
        {
          "output_type": "stream",
          "name": "stdout",
          "text": [
            "0 h\n",
            "1 e\n",
            "2 l\n",
            "3 l\n",
            "4 o\n"
          ]
        }
      ]
    },
    {
      "cell_type": "markdown",
      "source": [
        "Slightly better approach might be:"
      ],
      "metadata": {
        "id": "L3h7QUeDGD-c"
      }
    },
    {
      "cell_type": "code",
      "source": [
        "s = 'hello'\n",
        "\n",
        "for i in range(len(s)):\n",
        "    print(i, s[i])"
      ],
      "metadata": {
        "colab": {
          "base_uri": "https://localhost:8080/"
        },
        "id": "2TdIbxg6GAgy",
        "outputId": "57cb6788-5857-4660-8ed7-6ad9c5dc8d82"
      },
      "execution_count": null,
      "outputs": [
        {
          "output_type": "stream",
          "name": "stdout",
          "text": [
            "0 h\n",
            "1 e\n",
            "2 l\n",
            "3 l\n",
            "4 o\n"
          ]
        }
      ]
    },
    {
      "cell_type": "markdown",
      "source": [
        "or even better:"
      ],
      "metadata": {
        "id": "ycciCcheGRKI"
      }
    },
    {
      "cell_type": "code",
      "source": [
        "s = 'hello'\n",
        "\n",
        "for i, c in enumerate(s):\n",
        "    print(i, c)"
      ],
      "metadata": {
        "colab": {
          "base_uri": "https://localhost:8080/"
        },
        "id": "KDHUQUJ1GNYA",
        "outputId": "3acd3da5-aa45-4799-e03f-ee9c18314cfe"
      },
      "execution_count": null,
      "outputs": [
        {
          "output_type": "stream",
          "name": "stdout",
          "text": [
            "0 h\n",
            "1 e\n",
            "2 l\n",
            "3 l\n",
            "4 o\n"
          ]
        }
      ]
    },
    {
      "cell_type": "markdown",
      "source": [
        "### 07 - Classes"
      ],
      "metadata": {
        "id": "BnQXJa3gGcui"
      }
    },
    {
      "cell_type": "markdown",
      "source": [
        "**Custom Classes**"
      ],
      "metadata": {
        "id": "jY1XZZ30GfiG"
      }
    },
    {
      "cell_type": "markdown",
      "source": [
        "To create a custom class we use the `class` keyword, and we can initialize class attributes in the special method `__init__`."
      ],
      "metadata": {
        "id": "_jYRafl_Q18y"
      }
    },
    {
      "cell_type": "code",
      "source": [
        "class Rectangle:\n",
        "    def __init__(self, width, height):\n",
        "        self.width = width\n",
        "        self.height = height"
      ],
      "metadata": {
        "id": "JBIGUHa_GW3E"
      },
      "execution_count": null,
      "outputs": []
    },
    {
      "cell_type": "markdown",
      "source": [
        "We create instances of the `Rectangle` class by calling it with arguments that are passed to the `__init__` method as the second and third arguments. The first argument `(self)` is automatically filled in by Python and contains the object being created."
      ],
      "metadata": {
        "id": "JCSQHUf2RQZh"
      }
    },
    {
      "cell_type": "markdown",
      "source": [
        "\n",
        "\n",
        "---\n",
        "**BE CAREFUL!**\n"
      ],
      "metadata": {
        "id": "cJ9zQeWLRlWa"
      }
    },
    {
      "cell_type": "markdown",
      "source": [
        "*Note that using `self` is just a convention (although a good one, and you should use it to make your code more understandable by others), you could really call it whatever (valid) name you choose.*"
      ],
      "metadata": {
        "id": "B4RdeVX5RpkD"
      }
    },
    {
      "cell_type": "markdown",
      "source": [
        "\n",
        "\n",
        "---\n",
        "\n"
      ],
      "metadata": {
        "id": "ISck9D1lRp9f"
      }
    },
    {
      "cell_type": "markdown",
      "source": [
        "But just because you can does not mean you should!"
      ],
      "metadata": {
        "id": "2e-g6mfLSC7C"
      }
    },
    {
      "cell_type": "code",
      "source": [
        "r1 = Rectangle(10, 20)\n",
        "r2 = Rectangle(3, 5)"
      ],
      "metadata": {
        "id": "zzyvoBsCRPGH"
      },
      "execution_count": null,
      "outputs": []
    },
    {
      "cell_type": "code",
      "source": [
        "r1.width"
      ],
      "metadata": {
        "colab": {
          "base_uri": "https://localhost:8080/"
        },
        "id": "NwFMNDw-SMYf",
        "outputId": "53c7fc68-dfd8-4141-9422-88a3568396fe"
      },
      "execution_count": null,
      "outputs": [
        {
          "output_type": "execute_result",
          "data": {
            "text/plain": [
              "10"
            ]
          },
          "metadata": {},
          "execution_count": 105
        }
      ]
    },
    {
      "cell_type": "code",
      "source": [
        "r2.height"
      ],
      "metadata": {
        "colab": {
          "base_uri": "https://localhost:8080/"
        },
        "id": "zSvEuMf-SNwL",
        "outputId": "676e8a1a-a624-4129-b20c-319fd7c4a6f4"
      },
      "execution_count": null,
      "outputs": [
        {
          "output_type": "execute_result",
          "data": {
            "text/plain": [
              "5"
            ]
          },
          "metadata": {},
          "execution_count": 106
        }
      ]
    },
    {
      "cell_type": "markdown",
      "source": [
        "`width` and `height` are attributes of the `Rectangle` class. But since they are just values (not callables), we call them properties.\n",
        "\n",
        "Attributes that are callables are called methods.\n",
        "\n",
        "You'll note that we were able to retrieve the `width` and `height` attributes (properties) using a dot notation, where we specify the object we are interested in, then a dot, then the attribute we are interested in.\n",
        "\n",
        "We can add callable attributes to our class (methods), that will also be referenced using the dot notation.\n",
        "\n",
        "Again, we will create instance methods, which means the method will require the first argument to be the object being used when the method is called."
      ],
      "metadata": {
        "id": "YlC0GqlcSWRL"
      }
    },
    {
      "cell_type": "code",
      "source": [
        "class Rectangle:\n",
        "    def __init__(self, width, height):\n",
        "        self.width = width\n",
        "        self.height = height\n",
        "    \n",
        "    def area(self):\n",
        "        return self.width * self.height\n",
        "\n",
        "    def perimeter(the_referenced_object):\n",
        "        return 2 * (the_referenced_object.width + the_referenced_object.height)"
      ],
      "metadata": {
        "id": "68r6-cLkSPPs"
      },
      "execution_count": null,
      "outputs": []
    },
    {
      "cell_type": "code",
      "source": [
        "r1 = Rectangle(10, 20)"
      ],
      "metadata": {
        "id": "KjeQ1dG2Tvo4"
      },
      "execution_count": null,
      "outputs": []
    },
    {
      "cell_type": "code",
      "source": [
        "r1.area()"
      ],
      "metadata": {
        "colab": {
          "base_uri": "https://localhost:8080/"
        },
        "id": "Y2-r7LQbT-ye",
        "outputId": "61289e60-d68b-4668-aa2a-bcc79c6b1141"
      },
      "execution_count": null,
      "outputs": [
        {
          "output_type": "execute_result",
          "data": {
            "text/plain": [
              "200"
            ]
          },
          "metadata": {},
          "execution_count": 110
        }
      ]
    },
    {
      "cell_type": "markdown",
      "source": [
        "When we ran the above line of code, our object was `r1`, so when `area` was called, Python in fact called the method area in the `Rectangle` class automatically passing `r1` to the `self` parameter.\n",
        "\n",
        "This is why we can use a name other than `self`, such as in the `perimeter` method:"
      ],
      "metadata": {
        "id": "A9Feg4GkUCsl"
      }
    },
    {
      "cell_type": "code",
      "source": [
        "r1.perimeter()"
      ],
      "metadata": {
        "colab": {
          "base_uri": "https://localhost:8080/"
        },
        "id": "uXrEGkgFT_fk",
        "outputId": "1784c289-84ef-4a70-feec-b38d9d517fd6"
      },
      "execution_count": null,
      "outputs": [
        {
          "output_type": "execute_result",
          "data": {
            "text/plain": [
              "60"
            ]
          },
          "metadata": {},
          "execution_count": 111
        }
      ]
    },
    {
      "cell_type": "markdown",
      "source": [
        "Again, I'm just illustrating a point, don't actually do that!"
      ],
      "metadata": {
        "id": "1m7X3h5IUjfZ"
      }
    },
    {
      "cell_type": "code",
      "source": [
        "class Rectangle:\n",
        "    def __init__(self, width, height):\n",
        "        self.width = width\n",
        "        self.height = height\n",
        "    \n",
        "    def area(self):\n",
        "        return self.width * self.height\n",
        "\n",
        "    def perimeter(self):\n",
        "        return 2 * (self.width + self.height)"
      ],
      "metadata": {
        "id": "K-A4Idc5UdrG"
      },
      "execution_count": null,
      "outputs": []
    },
    {
      "cell_type": "code",
      "source": [
        "r1 = Rectangle(10, 20)"
      ],
      "metadata": {
        "id": "IdeVXlA4U6Tx"
      },
      "execution_count": null,
      "outputs": []
    },
    {
      "cell_type": "markdown",
      "source": [
        "Python defines a bunch of special methods that we can use to give our classes functionality that resembles functionality of built-in and standard library objects.\n",
        "\n",
        "Many people refer to them as magic methods, but there's nothing magical about them - unlike magic, they are well documented and understood!!\n",
        "\n",
        "These special methods provide us an easy way to overload operators in Python.\n",
        "\n",
        "For example, we can obtain the string representation of an integer using the built-in `str` function:"
      ],
      "metadata": {
        "id": "k0E_c0mXVRKc"
      }
    },
    {
      "cell_type": "code",
      "source": [
        "str(10)"
      ],
      "metadata": {
        "colab": {
          "base_uri": "https://localhost:8080/",
          "height": 35
        },
        "id": "upJBldZLU-4j",
        "outputId": "b63c934b-5897-4fee-dbe9-38e7ed17179f"
      },
      "execution_count": null,
      "outputs": [
        {
          "output_type": "execute_result",
          "data": {
            "text/plain": [
              "'10'"
            ],
            "application/vnd.google.colaboratory.intrinsic+json": {
              "type": "string"
            }
          },
          "metadata": {},
          "execution_count": 115
        }
      ]
    },
    {
      "cell_type": "markdown",
      "source": [
        "What happens if we try this with our `Rectangle` object?"
      ],
      "metadata": {
        "id": "cpTRVpx5V8zr"
      }
    },
    {
      "cell_type": "code",
      "source": [
        "str(r1)"
      ],
      "metadata": {
        "colab": {
          "base_uri": "https://localhost:8080/",
          "height": 35
        },
        "id": "5EAyTM5oV7up",
        "outputId": "11c9d496-b15c-4e18-e9e1-2f5f1f0970b6"
      },
      "execution_count": null,
      "outputs": [
        {
          "output_type": "execute_result",
          "data": {
            "text/plain": [
              "'<__main__.Rectangle object at 0x7fe790722350>'"
            ],
            "application/vnd.google.colaboratory.intrinsic+json": {
              "type": "string"
            }
          },
          "metadata": {},
          "execution_count": 116
        }
      ]
    },
    {
      "cell_type": "markdown",
      "source": [
        "Not exactly what we might have expected. On the other hand, how is Python supposed to know how to display our rectangle as a string?\n",
        "<p>We could write a method in the class such as:"
      ],
      "metadata": {
        "id": "0bvKrg8wWJTC"
      }
    },
    {
      "cell_type": "code",
      "source": [
        "class Rectangle:\n",
        "    def __init__(self, width, height):\n",
        "        self.width = width\n",
        "        self.height = height\n",
        "    \n",
        "    def area(self):\n",
        "        return self.width * self.height\n",
        "    \n",
        "    def perimeter(self):\n",
        "        return 2 * (self.width + self.height)\n",
        "    \n",
        "    def to_str(self):\n",
        "        return 'Rectangle (width={0}, height={1})'.format(self.width, self.height)"
      ],
      "metadata": {
        "id": "8PcNB2d9WEDF"
      },
      "execution_count": null,
      "outputs": []
    },
    {
      "cell_type": "markdown",
      "source": [
        "So we could get a string from our object as follows:"
      ],
      "metadata": {
        "id": "qPUG7THbW3F1"
      }
    },
    {
      "cell_type": "code",
      "source": [
        "r1 = Rectangle(10, 20)\n",
        "r1.to_str()"
      ],
      "metadata": {
        "colab": {
          "base_uri": "https://localhost:8080/",
          "height": 35
        },
        "id": "N_YMilc0W1z0",
        "outputId": "5e377eb4-b88e-4f9d-af24-5a29c9799449"
      },
      "execution_count": null,
      "outputs": [
        {
          "output_type": "execute_result",
          "data": {
            "text/plain": [
              "'Rectangle (width=10, height=20)'"
            ],
            "application/vnd.google.colaboratory.intrinsic+json": {
              "type": "string"
            }
          },
          "metadata": {},
          "execution_count": 118
        }
      ]
    },
    {
      "cell_type": "markdown",
      "source": [
        "But of course, using the built-in `str` function still does not work:"
      ],
      "metadata": {
        "id": "R_2uARH2XCq-"
      }
    },
    {
      "cell_type": "code",
      "source": [
        "str(r1)"
      ],
      "metadata": {
        "colab": {
          "base_uri": "https://localhost:8080/",
          "height": 35
        },
        "id": "iCnrCRhQW_zc",
        "outputId": "a5458dd5-6a30-4f08-e3f6-b378c0323d19"
      },
      "execution_count": null,
      "outputs": [
        {
          "output_type": "execute_result",
          "data": {
            "text/plain": [
              "'<__main__.Rectangle object at 0x7fe790727f90>'"
            ],
            "application/vnd.google.colaboratory.intrinsic+json": {
              "type": "string"
            }
          },
          "metadata": {},
          "execution_count": 119
        }
      ]
    },
    {
      "cell_type": "markdown",
      "source": [
        "Does this mean we are our of luck, and anyone who writes a class in Python will need to provide some method to do this, and probably come up with their own name for the method too, maybe `to_str`, `make_string`, `stringify`, and who knows what else.\n",
        "\n",
        "Fortunately, this is where these special methods come in. When we call `str(r1)`, Python will first look to see if our class `(Rectangle)` has a special method called  `__str__` .\n",
        "\n",
        "If the `__str__` method is present, then Python will call it and return that value.\n",
        "\n",
        "There's actually another one called `__repr__` which is related, but we'll focus on `__str__` for now.\n",
        "\n",
        "\n",
        "\n",
        "\n",
        "\n",
        "\n"
      ],
      "metadata": {
        "id": "taXsuADfXYVs"
      }
    },
    {
      "cell_type": "code",
      "source": [
        "class Rectangle:\n",
        "    def __init__(self, width, height):\n",
        "        self.width = width\n",
        "        self.height = height\n",
        "        \n",
        "    def area(self):\n",
        "        return self.width * self.height\n",
        "    \n",
        "    def perimeter(self):\n",
        "        return 2 * (self.width + self.height)\n",
        "    \n",
        "    def __str__(self):\n",
        "        return 'Rectangle (width={0}, height={1})'.format(self.width, self.height)"
      ],
      "metadata": {
        "id": "7Zu14JO3XSIu"
      },
      "execution_count": null,
      "outputs": []
    },
    {
      "cell_type": "code",
      "source": [
        "r1 = Rectangle(10, 20)"
      ],
      "metadata": {
        "id": "00QETuRcZBKE"
      },
      "execution_count": null,
      "outputs": []
    },
    {
      "cell_type": "code",
      "source": [
        "str(r1)"
      ],
      "metadata": {
        "colab": {
          "base_uri": "https://localhost:8080/",
          "height": 35
        },
        "id": "Ys4NV35xZDi0",
        "outputId": "3790ef3d-1269-41b2-b728-c69803b2859f"
      },
      "execution_count": null,
      "outputs": [
        {
          "output_type": "execute_result",
          "data": {
            "text/plain": [
              "'Rectangle (width=10, height=20)'"
            ],
            "application/vnd.google.colaboratory.intrinsic+json": {
              "type": "string"
            }
          },
          "metadata": {},
          "execution_count": 122
        }
      ]
    },
    {
      "cell_type": "markdown",
      "source": [
        "However, in Jupyter (and interactive console if you are using that), look what happens here:"
      ],
      "metadata": {
        "id": "qJKeLZ7OZGD1"
      }
    },
    {
      "cell_type": "code",
      "source": [
        "r1"
      ],
      "metadata": {
        "colab": {
          "base_uri": "https://localhost:8080/"
        },
        "id": "Ml68O2iHZEjp",
        "outputId": "e27f2903-dbe9-48f9-f638-d29b0744e880"
      },
      "execution_count": null,
      "outputs": [
        {
          "output_type": "execute_result",
          "data": {
            "text/plain": [
              "<__main__.Rectangle at 0x7fe790897e50>"
            ]
          },
          "metadata": {},
          "execution_count": 123
        }
      ]
    },
    {
      "cell_type": "markdown",
      "source": [
        "As you can see we still get that default. That's because here Python is not converting `r1` to a string, but instead looking for a string representation of the object. It is looking for the `__repr__` method."
      ],
      "metadata": {
        "id": "mfQYeh3DZQyG"
      }
    },
    {
      "cell_type": "code",
      "source": [
        "class Rectangle:\n",
        "    def __init__(self, width, height):\n",
        "        self.width = width\n",
        "        self.height = height\n",
        "        \n",
        "    def area(self):\n",
        "        return self.width * self.height\n",
        "    \n",
        "    def perimeter(self):\n",
        "        return 2 * (self.width + self.height)\n",
        "    \n",
        "    def __str__(self):\n",
        "        return 'Rectangle (width={0}, height={1})'.format(self.width, self.height)\n",
        "    \n",
        "    def __repr__(self):\n",
        "        return 'Rectangle({0}, {1})'.format(self.width, self.height)"
      ],
      "metadata": {
        "id": "wHG0lC7IZOik"
      },
      "execution_count": null,
      "outputs": []
    },
    {
      "cell_type": "code",
      "source": [
        "r1 = Rectangle(10, 20)"
      ],
      "metadata": {
        "id": "9cCL4245a1ef"
      },
      "execution_count": null,
      "outputs": []
    },
    {
      "cell_type": "code",
      "source": [
        "print(r1) # uses __str__"
      ],
      "metadata": {
        "colab": {
          "base_uri": "https://localhost:8080/"
        },
        "id": "SNNfOZ7Ia4RZ",
        "outputId": "c205d41a-e843-4277-e27c-8a74a3dfab94"
      },
      "execution_count": null,
      "outputs": [
        {
          "output_type": "stream",
          "name": "stdout",
          "text": [
            "Rectangle (width=10, height=20)\n"
          ]
        }
      ]
    },
    {
      "cell_type": "code",
      "source": [
        "r1 # uses __repr__"
      ],
      "metadata": {
        "colab": {
          "base_uri": "https://localhost:8080/"
        },
        "id": "0qYLLzp0a7PD",
        "outputId": "35ab84cc-d609-4845-bc34-d9c66bebb8df"
      },
      "execution_count": null,
      "outputs": [
        {
          "output_type": "execute_result",
          "data": {
            "text/plain": [
              "Rectangle(10, 20)"
            ]
          },
          "metadata": {},
          "execution_count": 127
        }
      ]
    },
    {
      "cell_type": "markdown",
      "source": [
        "How about the comparison operators, such as `==` or `<` ?"
      ],
      "metadata": {
        "id": "sCD4oSubbCao"
      }
    },
    {
      "cell_type": "code",
      "source": [
        "r1 = Rectangle(10, 20)\n",
        "r2 = Rectangle(10, 20)"
      ],
      "metadata": {
        "id": "Va2Dz2n9a-_f"
      },
      "execution_count": null,
      "outputs": []
    },
    {
      "cell_type": "code",
      "source": [
        "r1 == r2"
      ],
      "metadata": {
        "colab": {
          "base_uri": "https://localhost:8080/"
        },
        "id": "2CVktgGWbOLa",
        "outputId": "61ffac8a-5c71-4dd3-bd2f-1899d94adc94"
      },
      "execution_count": null,
      "outputs": [
        {
          "output_type": "execute_result",
          "data": {
            "text/plain": [
              "False"
            ]
          },
          "metadata": {},
          "execution_count": 130
        }
      ]
    },
    {
      "cell_type": "markdown",
      "source": [
        "As you can see, Python does not consider `r1` and `r2` as equal (using the `==` operator). Again, how is Python supposed to know that two `Rectangle` objects with the same `height` and `width` should be considered equal?\n",
        "\n",
        "We just need to tell Python how to do it, using the special method `__eq__`\n"
      ],
      "metadata": {
        "id": "hboUI_7FbS8d"
      }
    },
    {
      "cell_type": "code",
      "source": [
        "class Rectangle:\n",
        "    def __init__(self, width, height):\n",
        "        self.width = width\n",
        "        self.height = height\n",
        "        \n",
        "    def area(self):\n",
        "        return self.width * self.height\n",
        "    \n",
        "    def perimeter(self):\n",
        "        return 2 * (self.width + self.height)\n",
        "    \n",
        "    def __str__(self):\n",
        "        return 'Rectangle (width={0}, height={1})'.format(self.width, self.height)\n",
        "    \n",
        "    def __repr__(self):\n",
        "        return 'Rectangle({0}, {1})'.format(self.width, self.height)\n",
        "    \n",
        "    def __eq__(self, other):\n",
        "        print('self={0}, other={1}'.format(self, other))\n",
        "        if isinstance(other, Rectangle):\n",
        "            return (self.width, self.height) == (other.width, other.height)\n",
        "        else:\n",
        "            return False"
      ],
      "metadata": {
        "id": "0-Iaj27fbQz9"
      },
      "execution_count": null,
      "outputs": []
    },
    {
      "cell_type": "code",
      "source": [
        "r1 = Rectangle(10, 20)\n",
        "r2 = Rectangle(10, 20)"
      ],
      "metadata": {
        "id": "NT4VzIlIb7ra"
      },
      "execution_count": null,
      "outputs": []
    },
    {
      "cell_type": "code",
      "source": [
        "r1 is r2"
      ],
      "metadata": {
        "colab": {
          "base_uri": "https://localhost:8080/"
        },
        "id": "cELtb-bCb9su",
        "outputId": "47494d8d-468d-4b49-dcb9-2cf94bdd74b9"
      },
      "execution_count": null,
      "outputs": [
        {
          "output_type": "execute_result",
          "data": {
            "text/plain": [
              "False"
            ]
          },
          "metadata": {},
          "execution_count": 133
        }
      ]
    },
    {
      "cell_type": "code",
      "source": [
        "r1 == r2"
      ],
      "metadata": {
        "colab": {
          "base_uri": "https://localhost:8080/"
        },
        "id": "QKsUUujWb-sy",
        "outputId": "b7659843-d14e-4a0e-f329-5b3ec374ccd8"
      },
      "execution_count": null,
      "outputs": [
        {
          "output_type": "stream",
          "name": "stdout",
          "text": [
            "self=Rectangle (width=10, height=20), other=Rectangle (width=10, height=20)\n"
          ]
        },
        {
          "output_type": "execute_result",
          "data": {
            "text/plain": [
              "True"
            ]
          },
          "metadata": {},
          "execution_count": 134
        }
      ]
    },
    {
      "cell_type": "code",
      "source": [
        "r3 = Rectangle(2, 3)"
      ],
      "metadata": {
        "id": "Ewa-vwdVcAER"
      },
      "execution_count": null,
      "outputs": []
    },
    {
      "cell_type": "markdown",
      "source": [
        "And if we try to compare our `Rectangle` to a different type:"
      ],
      "metadata": {
        "id": "oBWbDOUtcEup"
      }
    },
    {
      "cell_type": "code",
      "source": [
        "r1 == 100"
      ],
      "metadata": {
        "colab": {
          "base_uri": "https://localhost:8080/"
        },
        "id": "SXfqb9jccDwz",
        "outputId": "2e6db0bf-25d2-4e60-ad55-62c47c7f5257"
      },
      "execution_count": null,
      "outputs": [
        {
          "output_type": "stream",
          "name": "stdout",
          "text": [
            "self=Rectangle (width=10, height=20), other=100\n"
          ]
        },
        {
          "output_type": "execute_result",
          "data": {
            "text/plain": [
              "False"
            ]
          },
          "metadata": {},
          "execution_count": 136
        }
      ]
    },
    {
      "cell_type": "markdown",
      "source": [
        "Let's remove that `print` statement - I only put that in so you could see what the arguments were, in practice you should avoid side effects."
      ],
      "metadata": {
        "id": "VrOAVlq9cLJJ"
      }
    },
    {
      "cell_type": "code",
      "source": [
        "class Rectangle:\n",
        "    def __init__(self, width, height):\n",
        "        self.width = width\n",
        "        self.height = height\n",
        "        \n",
        "    def area(self):\n",
        "        return self.width * self.height\n",
        "    \n",
        "    def perimeter(self):\n",
        "        return 2 * (self.width + self.height)\n",
        "    \n",
        "    def __str__(self):\n",
        "        return 'Rectangle (width={0}, height={1})'.format(self.width, self.height)\n",
        "    \n",
        "    def __repr__(self):\n",
        "        return 'Rectangle({0}, {1})'.format(self.width, self.height)\n",
        "    \n",
        "    def __eq__(self, other):\n",
        "        if isinstance(other, Rectangle):\n",
        "            return (self.width, self.height) == (other.width, other.height)\n",
        "        else:\n",
        "            return False"
      ],
      "metadata": {
        "id": "89XKIE3ScJDG"
      },
      "execution_count": null,
      "outputs": []
    },
    {
      "cell_type": "markdown",
      "source": [
        "What about `<`, `>`, `<=`, etc.?\n",
        "\n",
        "Again, Python has special methods we can use to provide that functionality.\n",
        "\n",
        "These are methods such as `__lt__`, `__gt__`, `__le__`, etc."
      ],
      "metadata": {
        "id": "xUQN1X0LcXt0"
      }
    },
    {
      "cell_type": "code",
      "source": [
        "class Rectangle:\n",
        "    def __init__(self, width, height):\n",
        "        self.width = width\n",
        "        self.height = height\n",
        "        \n",
        "    def area(self):\n",
        "        return self.width * self.height\n",
        "    \n",
        "    def perimeter(self):\n",
        "        return 2 * (self.width + self.height)\n",
        "    \n",
        "    def __str__(self):\n",
        "        return 'Rectangle (width={0}, height={1})'.format(self.width, self.height)\n",
        "    \n",
        "    def __repr__(self):\n",
        "        return 'Rectangle({0}, {1})'.format(self.width, self.height)\n",
        "    \n",
        "    def __eq__(self, other):\n",
        "        if isinstance(other, Rectangle):\n",
        "            return (self.width, self.height) == (other.width, other.height)\n",
        "        else:\n",
        "            return False\n",
        "    \n",
        "    def __lt__(self, other):\n",
        "        if isinstance(other, Rectangle):\n",
        "            return self.area() < other.area()\n",
        "        else:\n",
        "            return NotImplemented"
      ],
      "metadata": {
        "id": "gFWitioccWlv"
      },
      "execution_count": null,
      "outputs": []
    },
    {
      "cell_type": "code",
      "source": [
        "r1 = Rectangle(100, 200)\n",
        "r2 = Rectangle(10, 20)"
      ],
      "metadata": {
        "id": "9ukjJLLvcsTc"
      },
      "execution_count": null,
      "outputs": []
    },
    {
      "cell_type": "code",
      "source": [
        "r1 < r2"
      ],
      "metadata": {
        "colab": {
          "base_uri": "https://localhost:8080/"
        },
        "id": "mSWzYL7Zctkf",
        "outputId": "fe1f2ecf-c517-41cf-bb0c-0f28f9916316"
      },
      "execution_count": null,
      "outputs": [
        {
          "output_type": "execute_result",
          "data": {
            "text/plain": [
              "False"
            ]
          },
          "metadata": {},
          "execution_count": 140
        }
      ]
    },
    {
      "cell_type": "code",
      "source": [
        "r2 < r1"
      ],
      "metadata": {
        "colab": {
          "base_uri": "https://localhost:8080/"
        },
        "id": "N1rdJhd9cvrq",
        "outputId": "c6df8748-75b7-40ad-a370-4e7713171140"
      },
      "execution_count": null,
      "outputs": [
        {
          "output_type": "execute_result",
          "data": {
            "text/plain": [
              "True"
            ]
          },
          "metadata": {},
          "execution_count": 141
        }
      ]
    },
    {
      "cell_type": "markdown",
      "source": [
        "What about `>` ?"
      ],
      "metadata": {
        "id": "yirBf4RVcyQ3"
      }
    },
    {
      "cell_type": "code",
      "source": [
        "r1 > r2"
      ],
      "metadata": {
        "colab": {
          "base_uri": "https://localhost:8080/"
        },
        "id": "ng4TtBUqcxGT",
        "outputId": "593f7dc0-389f-4dbd-8cec-2637612d9207"
      },
      "execution_count": null,
      "outputs": [
        {
          "output_type": "execute_result",
          "data": {
            "text/plain": [
              "True"
            ]
          },
          "metadata": {},
          "execution_count": 142
        }
      ]
    },
    {
      "cell_type": "markdown",
      "source": [
        "How did that work? We did not define a `__gt__` method\n",
        "\n",
        "Well, Python cleverly decided that since `r1 > r2` was not implemented, it would give `r2 < r1`\n",
        "\n",
        "a try. And since, `__lt__` is defined, it worked!\n",
        "\n",
        "Of course, `<=` is not going to magically work!"
      ],
      "metadata": {
        "id": "zbsEmrpLc3Yx"
      }
    },
    {
      "cell_type": "code",
      "source": [
        "r1 <= r2"
      ],
      "metadata": {
        "colab": {
          "base_uri": "https://localhost:8080/",
          "height": 166
        },
        "id": "nyFxy8xLc1o8",
        "outputId": "91038747-fd53-4109-d8f5-c80c745d5299"
      },
      "execution_count": null,
      "outputs": [
        {
          "output_type": "error",
          "ename": "TypeError",
          "evalue": "ignored",
          "traceback": [
            "\u001b[0;31m---------------------------------------------------------------------------\u001b[0m",
            "\u001b[0;31mTypeError\u001b[0m                                 Traceback (most recent call last)",
            "\u001b[0;32m<ipython-input-143-66f6bd6240fb>\u001b[0m in \u001b[0;36m<module>\u001b[0;34m\u001b[0m\n\u001b[0;32m----> 1\u001b[0;31m \u001b[0mr1\u001b[0m \u001b[0;34m<=\u001b[0m \u001b[0mr2\u001b[0m\u001b[0;34m\u001b[0m\u001b[0;34m\u001b[0m\u001b[0m\n\u001b[0m",
            "\u001b[0;31mTypeError\u001b[0m: '<=' not supported between instances of 'Rectangle' and 'Rectangle'"
          ]
        }
      ]
    },
    {
      "cell_type": "markdown",
      "source": [
        "If you come from a Java background, you are probably thinking that using \"bare\" properties (direct access), such as `height` and `width` is a terrible design idea.\n",
        "\n",
        "It is for Java, but not for Python.\n",
        "\n",
        "Although you can use bare properties in Java, If you ever need to intercept the getting or setting of a property, you will need to write a method (such as `getWidth` and `setWidth`.) The problem is that if you used a  bare width property for example, a lot of your code might be using `obj.width` (as we have been doing here). The instant you make the `width` private and instead implement getters and setters, you break your code. Hence one of the reasons why in Java we just write getters and setters for properties from the beginning.\n",
        "\n",
        "With Python this is not the case - we can change any bare property into getters and setters without beraking the code that uses that bare property.\n",
        "\n",
        "I'll show you a quick example here, but we'll come back to this topic in much more detail later.\n",
        "Let's take our `Rectangle` class once again. I'll use a simplified version to keep the code short."
      ],
      "metadata": {
        "id": "UPFH_MdVde9S"
      }
    },
    {
      "cell_type": "code",
      "source": [
        "class Rectangle:\n",
        "    def __init__(self, width, height):\n",
        "        self.width = width\n",
        "        self.height = height\n",
        "    \n",
        "    def __repr__(self):\n",
        "        return 'Rectangle({0}, {1})'.format(self.width, self.height)"
      ],
      "metadata": {
        "id": "GcTyU4K2dSeO"
      },
      "execution_count": null,
      "outputs": []
    },
    {
      "cell_type": "code",
      "source": [
        "r1 = Rectangle(10, 20)"
      ],
      "metadata": {
        "id": "7110ALhHe450"
      },
      "execution_count": null,
      "outputs": []
    },
    {
      "cell_type": "code",
      "source": [
        "r1.width"
      ],
      "metadata": {
        "colab": {
          "base_uri": "https://localhost:8080/"
        },
        "id": "d6JwgJFQe72s",
        "outputId": "0b14c6da-e750-4204-afe8-021d08f9aae9"
      },
      "execution_count": null,
      "outputs": [
        {
          "output_type": "execute_result",
          "data": {
            "text/plain": [
              "10"
            ]
          },
          "metadata": {},
          "execution_count": 146
        }
      ]
    },
    {
      "cell_type": "code",
      "source": [
        "r1.width = 100"
      ],
      "metadata": {
        "id": "aQ1UUebWe9Gx"
      },
      "execution_count": null,
      "outputs": []
    },
    {
      "cell_type": "code",
      "source": [
        "r1"
      ],
      "metadata": {
        "colab": {
          "base_uri": "https://localhost:8080/"
        },
        "id": "s2gceerWe-fd",
        "outputId": "3332cf1b-337d-44e4-89c2-03a8ebbdbb12"
      },
      "execution_count": null,
      "outputs": [
        {
          "output_type": "execute_result",
          "data": {
            "text/plain": [
              "Rectangle(100, 20)"
            ]
          },
          "metadata": {},
          "execution_count": 148
        }
      ]
    },
    {
      "cell_type": "markdown",
      "source": [
        "As you saw we can get and set the width property directly.\n",
        "\n",
        "But let's say after this code has been released for a while and users of our class have been using it (and specifically setting and getting the `width` and `height` attribute a lot), but now we want to make sure users cannot set a non-positive value (i.e. `<=` 0) for `width` (or `height`, but we'll focus on `width` as an example).\n",
        "\n",
        "In a language like Java, we would implement `getWidth` and `setWidth` and make width private - which would break any code directly accessing the `width` property.\n",
        "\n",
        "In Python we can use some special decorators (more on those later) to encapsulate our property getters and setters:"
      ],
      "metadata": {
        "id": "dEZOwiCCfAy8"
      }
    },
    {
      "cell_type": "code",
      "source": [
        "class Rectangle:\n",
        "    def __init__(self, width, height):\n",
        "        self._width = width\n",
        "        self._height = height\n",
        "    \n",
        "    def __repr__(self):\n",
        "        return 'Rectangle({0}, {1})'.format(self.width, self.height)\n",
        "    \n",
        "    @property\n",
        "    def width(self):\n",
        "        return self._width\n",
        "    \n",
        "    @width.setter\n",
        "    def width(self, width):\n",
        "        if width <= 0:\n",
        "            raise ValueError('Width must be positive.')\n",
        "        self._width = width\n",
        "    \n",
        "    @property\n",
        "    def height(self):\n",
        "        return self._height\n",
        "    \n",
        "    @height.setter\n",
        "    def height(self, height):\n",
        "        if height <= 0:\n",
        "            raise ValueError('Height must be positive.')\n",
        "        self._height = height"
      ],
      "metadata": {
        "id": "jlAmY0Xge-08"
      },
      "execution_count": null,
      "outputs": []
    },
    {
      "cell_type": "code",
      "source": [
        "r1 = Rectangle(10, 20)"
      ],
      "metadata": {
        "id": "PE4VN_S9gIdZ"
      },
      "execution_count": null,
      "outputs": []
    },
    {
      "cell_type": "code",
      "source": [
        "r1.width"
      ],
      "metadata": {
        "colab": {
          "base_uri": "https://localhost:8080/"
        },
        "id": "SF9uQfMagLWl",
        "outputId": "ca0581d8-98f2-4728-aedd-13e83c6ae11d"
      },
      "execution_count": null,
      "outputs": [
        {
          "output_type": "execute_result",
          "data": {
            "text/plain": [
              "10"
            ]
          },
          "metadata": {},
          "execution_count": 151
        }
      ]
    },
    {
      "cell_type": "code",
      "source": [
        "r1.width = 100"
      ],
      "metadata": {
        "id": "nQSNTuxCgM2d"
      },
      "execution_count": null,
      "outputs": []
    },
    {
      "cell_type": "code",
      "source": [
        "r1"
      ],
      "metadata": {
        "colab": {
          "base_uri": "https://localhost:8080/"
        },
        "id": "L7IhPti0gOKQ",
        "outputId": "b72cfb5b-587f-4c53-eb18-04e310f443cb"
      },
      "execution_count": null,
      "outputs": [
        {
          "output_type": "execute_result",
          "data": {
            "text/plain": [
              "Rectangle(100, 20)"
            ]
          },
          "metadata": {},
          "execution_count": 153
        }
      ]
    },
    {
      "cell_type": "code",
      "source": [
        "r1.width = -10"
      ],
      "metadata": {
        "colab": {
          "base_uri": "https://localhost:8080/",
          "height": 288
        },
        "id": "s-OR5ix4gSZk",
        "outputId": "00ba3a49-bf04-42ea-b08a-785211ec6b15"
      },
      "execution_count": null,
      "outputs": [
        {
          "output_type": "error",
          "ename": "ValueError",
          "evalue": "ignored",
          "traceback": [
            "\u001b[0;31m---------------------------------------------------------------------------\u001b[0m",
            "\u001b[0;31mValueError\u001b[0m                                Traceback (most recent call last)",
            "\u001b[0;32m<ipython-input-154-a9c613e96f90>\u001b[0m in \u001b[0;36m<module>\u001b[0;34m\u001b[0m\n\u001b[0;32m----> 1\u001b[0;31m \u001b[0mr1\u001b[0m\u001b[0;34m.\u001b[0m\u001b[0mwidth\u001b[0m \u001b[0;34m=\u001b[0m \u001b[0;34m-\u001b[0m\u001b[0;36m10\u001b[0m\u001b[0;34m\u001b[0m\u001b[0;34m\u001b[0m\u001b[0m\n\u001b[0m",
            "\u001b[0;32m<ipython-input-149-9d2643061740>\u001b[0m in \u001b[0;36mwidth\u001b[0;34m(self, width)\u001b[0m\n\u001b[1;32m     14\u001b[0m     \u001b[0;32mdef\u001b[0m \u001b[0mwidth\u001b[0m\u001b[0;34m(\u001b[0m\u001b[0mself\u001b[0m\u001b[0;34m,\u001b[0m \u001b[0mwidth\u001b[0m\u001b[0;34m)\u001b[0m\u001b[0;34m:\u001b[0m\u001b[0;34m\u001b[0m\u001b[0;34m\u001b[0m\u001b[0m\n\u001b[1;32m     15\u001b[0m         \u001b[0;32mif\u001b[0m \u001b[0mwidth\u001b[0m \u001b[0;34m<=\u001b[0m \u001b[0;36m0\u001b[0m\u001b[0;34m:\u001b[0m\u001b[0;34m\u001b[0m\u001b[0;34m\u001b[0m\u001b[0m\n\u001b[0;32m---> 16\u001b[0;31m             \u001b[0;32mraise\u001b[0m \u001b[0mValueError\u001b[0m\u001b[0;34m(\u001b[0m\u001b[0;34m'Width must be positive.'\u001b[0m\u001b[0;34m)\u001b[0m\u001b[0;34m\u001b[0m\u001b[0;34m\u001b[0m\u001b[0m\n\u001b[0m\u001b[1;32m     17\u001b[0m         \u001b[0mself\u001b[0m\u001b[0;34m.\u001b[0m\u001b[0m_width\u001b[0m \u001b[0;34m=\u001b[0m \u001b[0mwidth\u001b[0m\u001b[0;34m\u001b[0m\u001b[0;34m\u001b[0m\u001b[0m\n\u001b[1;32m     18\u001b[0m \u001b[0;34m\u001b[0m\u001b[0m\n",
            "\u001b[0;31mValueError\u001b[0m: Width must be positive."
          ]
        }
      ]
    },
    {
      "cell_type": "markdown",
      "source": [
        "There are more things we should do to properly implement all this, in particular we should also be checking the positive and negative values during the `__init__` phase. We do so by using the accessor methods for `height` and `width`:"
      ],
      "metadata": {
        "id": "-PqxUR84gV5N"
      }
    },
    {
      "cell_type": "code",
      "source": [
        "class Rectangle:\n",
        "    def __init__(self, width, height):\n",
        "        self._width = None\n",
        "        self._height = None\n",
        "        # now we call our accessor methods to set the width and height\n",
        "        self.width = width\n",
        "        self.height = height\n",
        "    \n",
        "    def __repr__(self):\n",
        "        return 'Rectangle({0}, {1})'.format(self.width, self.height)\n",
        "    \n",
        "    @property\n",
        "    def width(self):\n",
        "        return self._width\n",
        "    \n",
        "    @width.setter\n",
        "    def width(self, width):\n",
        "        if width <= 0:\n",
        "            raise ValueError('Width must be positive.')\n",
        "        self._width = width\n",
        "    \n",
        "    @property\n",
        "    def height(self):\n",
        "        return self._height\n",
        "    \n",
        "    @height.setter\n",
        "    def height(self, height):\n",
        "        if height <= 0:\n",
        "            raise ValueError('Height must be positive.')\n",
        "        self._height = height"
      ],
      "metadata": {
        "id": "HU5Ui2aEgUt0"
      },
      "execution_count": null,
      "outputs": []
    },
    {
      "cell_type": "code",
      "source": [
        "r1 = Rectangle(0, 10)"
      ],
      "metadata": {
        "colab": {
          "base_uri": "https://localhost:8080/",
          "height": 312
        },
        "id": "HAIjIf10go6Q",
        "outputId": "1b44404c-4843-4ec5-ebca-eb0d47d18849"
      },
      "execution_count": null,
      "outputs": [
        {
          "output_type": "error",
          "ename": "ValueError",
          "evalue": "ignored",
          "traceback": [
            "\u001b[0;31m---------------------------------------------------------------------------\u001b[0m",
            "\u001b[0;31mValueError\u001b[0m                                Traceback (most recent call last)",
            "\u001b[0;32m<ipython-input-156-d129da78b8e7>\u001b[0m in \u001b[0;36m<module>\u001b[0;34m\u001b[0m\n\u001b[0;32m----> 1\u001b[0;31m \u001b[0mr1\u001b[0m \u001b[0;34m=\u001b[0m \u001b[0mRectangle\u001b[0m\u001b[0;34m(\u001b[0m\u001b[0;36m0\u001b[0m\u001b[0;34m,\u001b[0m \u001b[0;36m10\u001b[0m\u001b[0;34m)\u001b[0m\u001b[0;34m\u001b[0m\u001b[0;34m\u001b[0m\u001b[0m\n\u001b[0m",
            "\u001b[0;32m<ipython-input-155-68d2e27efb47>\u001b[0m in \u001b[0;36m__init__\u001b[0;34m(self, width, height)\u001b[0m\n\u001b[1;32m      4\u001b[0m         \u001b[0mself\u001b[0m\u001b[0;34m.\u001b[0m\u001b[0m_height\u001b[0m \u001b[0;34m=\u001b[0m \u001b[0;32mNone\u001b[0m\u001b[0;34m\u001b[0m\u001b[0;34m\u001b[0m\u001b[0m\n\u001b[1;32m      5\u001b[0m         \u001b[0;31m# now we call our accessor methods to set the width and height\u001b[0m\u001b[0;34m\u001b[0m\u001b[0;34m\u001b[0m\u001b[0;34m\u001b[0m\u001b[0m\n\u001b[0;32m----> 6\u001b[0;31m         \u001b[0mself\u001b[0m\u001b[0;34m.\u001b[0m\u001b[0mwidth\u001b[0m \u001b[0;34m=\u001b[0m \u001b[0mwidth\u001b[0m\u001b[0;34m\u001b[0m\u001b[0;34m\u001b[0m\u001b[0m\n\u001b[0m\u001b[1;32m      7\u001b[0m         \u001b[0mself\u001b[0m\u001b[0;34m.\u001b[0m\u001b[0mheight\u001b[0m \u001b[0;34m=\u001b[0m \u001b[0mheight\u001b[0m\u001b[0;34m\u001b[0m\u001b[0;34m\u001b[0m\u001b[0m\n\u001b[1;32m      8\u001b[0m \u001b[0;34m\u001b[0m\u001b[0m\n",
            "\u001b[0;32m<ipython-input-155-68d2e27efb47>\u001b[0m in \u001b[0;36mwidth\u001b[0;34m(self, width)\u001b[0m\n\u001b[1;32m     17\u001b[0m     \u001b[0;32mdef\u001b[0m \u001b[0mwidth\u001b[0m\u001b[0;34m(\u001b[0m\u001b[0mself\u001b[0m\u001b[0;34m,\u001b[0m \u001b[0mwidth\u001b[0m\u001b[0;34m)\u001b[0m\u001b[0;34m:\u001b[0m\u001b[0;34m\u001b[0m\u001b[0;34m\u001b[0m\u001b[0m\n\u001b[1;32m     18\u001b[0m         \u001b[0;32mif\u001b[0m \u001b[0mwidth\u001b[0m \u001b[0;34m<=\u001b[0m \u001b[0;36m0\u001b[0m\u001b[0;34m:\u001b[0m\u001b[0;34m\u001b[0m\u001b[0;34m\u001b[0m\u001b[0m\n\u001b[0;32m---> 19\u001b[0;31m             \u001b[0;32mraise\u001b[0m \u001b[0mValueError\u001b[0m\u001b[0;34m(\u001b[0m\u001b[0;34m'Width must be positive.'\u001b[0m\u001b[0;34m)\u001b[0m\u001b[0;34m\u001b[0m\u001b[0;34m\u001b[0m\u001b[0m\n\u001b[0m\u001b[1;32m     20\u001b[0m         \u001b[0mself\u001b[0m\u001b[0;34m.\u001b[0m\u001b[0m_width\u001b[0m \u001b[0;34m=\u001b[0m \u001b[0mwidth\u001b[0m\u001b[0;34m\u001b[0m\u001b[0;34m\u001b[0m\u001b[0m\n\u001b[1;32m     21\u001b[0m \u001b[0;34m\u001b[0m\u001b[0m\n",
            "\u001b[0;31mValueError\u001b[0m: Width must be positive."
          ]
        }
      ]
    },
    {
      "cell_type": "markdown",
      "source": [
        "There more we should be doing, like checking that the width and height being passed in are numeric types, and so on. Espcially during the `__init__` phase. - we would rather raise an exception when the object is being created rather than delay things and raise an exception when the user calls some method like area - that way the exception will be on the line that creates the object - makes debugging much easier!\n",
        "\n",
        "There are mant more of these special methods, and we'll look in detail at them later in this course."
      ],
      "metadata": {
        "id": "7wfDUSYsgrl2"
      }
    },
    {
      "cell_type": "markdown",
      "source": [
        "## Section 03 - Variables and Memory"
      ],
      "metadata": {
        "id": "QgH3CzU7fix4"
      }
    },
    {
      "cell_type": "markdown",
      "source": [
        "### 01 - Variables and Memory References"
      ],
      "metadata": {
        "id": "Pc-0wIYaf_Ic"
      }
    },
    {
      "cell_type": "markdown",
      "source": [
        "We can find the memory address that a variable references, by using `id()` function.\n",
        "\n",
        "The `id()` function returns the memory address of its argument as a base-10 integer.\n",
        "\n",
        "We can use the function `hex()` to convert the base-10 to base-16"
      ],
      "metadata": {
        "id": "9cwH3Ai3gIc9"
      }
    },
    {
      "cell_type": "code",
      "source": [
        "my_var = 10\n",
        "print('my_var = {0}'.format(my_var))\n",
        "print('memory address of my_var (decimal): {0}'.format(id(my_var)))\n",
        "print('memory address of my_var (hex): {0}'.format(hex(id(my_var))))"
      ],
      "metadata": {
        "colab": {
          "base_uri": "https://localhost:8080/"
        },
        "id": "vsZFdb4tghck",
        "outputId": "7f939aa3-44f1-41d4-ef80-e7617ab41e67"
      },
      "execution_count": 2,
      "outputs": [
        {
          "output_type": "stream",
          "name": "stdout",
          "text": [
            "my_var = 10\n",
            "memory address of my_var (decimal): 11122880\n",
            "memory address of my_var (hex): 0xa9b8c0\n"
          ]
        }
      ]
    },
    {
      "cell_type": "code",
      "source": [
        "greeting = 'Hello'\n",
        "print('greeting = {0}'.format(greeting))\n",
        "print('memory address of my_var (decimal): {0}'.format(id(greeting)))\n",
        "print('memory address of my_var (hex): {0}'.format(hex(id(greeting))))"
      ],
      "metadata": {
        "colab": {
          "base_uri": "https://localhost:8080/"
        },
        "id": "9n1gebHpmUCO",
        "outputId": "98a55025-5045-4314-fc99-a4cb41289292"
      },
      "execution_count": 3,
      "outputs": [
        {
          "output_type": "stream",
          "name": "stdout",
          "text": [
            "greeting = Hello\n",
            "memory address of my_var (decimal): 139693754789808\n",
            "memory address of my_var (hex): 0x7f0cfca1afb0\n"
          ]
        }
      ]
    },
    {
      "cell_type": "markdown",
      "source": [
        "\n",
        "\n",
        "---\n",
        "**BE CAREFUL!**\n"
      ],
      "metadata": {
        "id": "p4I54ii-mieD"
      }
    },
    {
      "cell_type": "markdown",
      "source": [
        "*Note how the memory address of `my_var` is different from that of `greeting`.*\n",
        "\n",
        "*Strictly speaking, `my_var` is not \"equal\" to 10.*\n",
        "\n",
        "*Instead `my_var` is a reference to an (integer) object (containing the value 10) located at the memory address `id(my_var)`*\n",
        "\n",
        "*Similarly for the variable `greeting`*"
      ],
      "metadata": {
        "id": "P3yTV464mpSd"
      }
    },
    {
      "cell_type": "markdown",
      "source": [
        "\n",
        "\n",
        "---\n",
        "\n"
      ],
      "metadata": {
        "id": "i-4_QuqZmqA1"
      }
    },
    {
      "cell_type": "markdown",
      "source": [
        "### 02 - Reference Counting"
      ],
      "metadata": {
        "id": "FIDMB4CUoWg2"
      }
    },
    {
      "cell_type": "markdown",
      "source": [
        "Method that returns the reference count for a given variable's memory address:"
      ],
      "metadata": {
        "id": "hd5pDDyLoxIz"
      }
    },
    {
      "cell_type": "code",
      "source": [
        "import ctypes\n",
        "\n",
        "def ref_count(address):\n",
        "    return ctypes.c_long.from_address(address).value"
      ],
      "metadata": {
        "id": "3OD3uBiXmjLp"
      },
      "execution_count": 4,
      "outputs": []
    },
    {
      "cell_type": "markdown",
      "source": [
        "Let's make a variable, and check it's reference count:"
      ],
      "metadata": {
        "id": "uqudCRoQpnN_"
      }
    },
    {
      "cell_type": "code",
      "source": [
        "my_var = [1, 2, 3, 4]\n",
        "ref_count(id(my_var))"
      ],
      "metadata": {
        "colab": {
          "base_uri": "https://localhost:8080/"
        },
        "id": "3s6w0cZAmgkk",
        "outputId": "a4278264-aa1e-4c83-8fcb-ea43571142ee"
      },
      "execution_count": 11,
      "outputs": [
        {
          "output_type": "execute_result",
          "data": {
            "text/plain": [
              "1"
            ]
          },
          "metadata": {},
          "execution_count": 11
        }
      ]
    },
    {
      "cell_type": "markdown",
      "source": [
        "There is another built-in function we can use to obtain the reference count:"
      ],
      "metadata": {
        "id": "ePCcUxc-p-Mx"
      }
    },
    {
      "cell_type": "code",
      "source": [
        "import sys\n",
        "sys.getrefcount(my_var)"
      ],
      "metadata": {
        "colab": {
          "base_uri": "https://localhost:8080/"
        },
        "id": "vzNfkTsipxYt",
        "outputId": "b693dbce-facd-420e-dee4-e96e1c167a12"
      },
      "execution_count": 12,
      "outputs": [
        {
          "output_type": "execute_result",
          "data": {
            "text/plain": [
              "3"
            ]
          },
          "metadata": {},
          "execution_count": 12
        }
      ]
    },
    {
      "cell_type": "markdown",
      "source": [
        "But why is this returning 3, instead of the expected 2 we obtained with the previous function?\n",
        "\n",
        "Answer: The `sys.getrefcount()` function takes `my_var` as an argument, this means it receives (and stores) a reference to `my_var`'s memory address also - hence the count is off by 1. So we will use `from_address()` instead.\n",
        "\n",
        "We make another reference to the same reference as `my_var`:"
      ],
      "metadata": {
        "id": "USeRi8EVqN9m"
      }
    },
    {
      "cell_type": "code",
      "source": [
        "other_var = my_var"
      ],
      "metadata": {
        "id": "n3o2eCw3qF19"
      },
      "execution_count": 13,
      "outputs": []
    },
    {
      "cell_type": "markdown",
      "source": [
        "Let's look at the memory address of those two variables and the reference counts:"
      ],
      "metadata": {
        "id": "4djYf3wmsFxV"
      }
    },
    {
      "cell_type": "code",
      "source": [
        "print(hex(id(my_var)), hex(id(other_var)))\n",
        "print(ref_count(id(my_var)))"
      ],
      "metadata": {
        "colab": {
          "base_uri": "https://localhost:8080/"
        },
        "id": "Y4GvnSvJsFHV",
        "outputId": "4a1c2ab6-56c8-44c4-c540-b4381546defe"
      },
      "execution_count": 18,
      "outputs": [
        {
          "output_type": "stream",
          "name": "stdout",
          "text": [
            "0x7f0cf72fa5f0 0x7f0cf72fa5f0\n",
            "4\n"
          ]
        }
      ]
    },
    {
      "cell_type": "markdown",
      "source": [
        "Force one reference to go away:"
      ],
      "metadata": {
        "id": "4lxraMUjsbjs"
      }
    },
    {
      "cell_type": "code",
      "source": [
        "other_var = None"
      ],
      "metadata": {
        "id": "0zmP4_WKsRdg"
      },
      "execution_count": 19,
      "outputs": []
    },
    {
      "cell_type": "markdown",
      "source": [
        "And we look at the reference count again:"
      ],
      "metadata": {
        "id": "KgVtKORCsfMt"
      }
    },
    {
      "cell_type": "code",
      "source": [
        "print(ref_count(id(my_var)))"
      ],
      "metadata": {
        "colab": {
          "base_uri": "https://localhost:8080/"
        },
        "id": "R4EK52Fnsede",
        "outputId": "00e00b44-42d5-4e68-df4c-a66990b7c1d5"
      },
      "execution_count": 21,
      "outputs": [
        {
          "output_type": "stream",
          "name": "stdout",
          "text": [
            "2\n"
          ]
        }
      ]
    },
    {
      "cell_type": "markdown",
      "source": [
        "We see that the reference count has gone back to 2.\n",
        "\n",
        "You'll probably never need  to do anythinli like this in Python. Memory management is completely transparent - this is just to illustrate some of what is going behind the scenes as it helps to understand upcoming concepts."
      ],
      "metadata": {
        "id": "Wf_JO3Bqso6P"
      }
    },
    {
      "cell_type": "markdown",
      "source": [
        "\n",
        "\n",
        "---\n",
        "**BE CAREFUL!**\n"
      ],
      "metadata": {
        "id": "enysIZjKtJEH"
      }
    },
    {
      "cell_type": "markdown",
      "source": [
        "*In Google Colab Environment, `getrefcount()` function gives us the value 3, but in your local Jupyter notebook, it will be 2.*"
      ],
      "metadata": {
        "id": "YOEW7TUAtMkx"
      }
    },
    {
      "cell_type": "markdown",
      "source": [
        "\n",
        "\n",
        "---\n",
        "\n"
      ],
      "metadata": {
        "id": "xlXqpINZtNBr"
      }
    },
    {
      "cell_type": "markdown",
      "source": [
        "### 03 - Garbage Collection"
      ],
      "metadata": {
        "id": "urSFYDTwtr9g"
      }
    },
    {
      "cell_type": "code",
      "source": [
        "import ctypes\n",
        "import gc"
      ],
      "metadata": {
        "id": "U3--CgREskJ7"
      },
      "execution_count": 22,
      "outputs": []
    },
    {
      "cell_type": "markdown",
      "source": [
        "We use the same function that we used in the lesson on reference counting to calculate the numver of references to a specified object (using its memory address to avoid creating an extra reference)"
      ],
      "metadata": {
        "id": "9xuQEi0ftw3o"
      }
    },
    {
      "cell_type": "code",
      "source": [
        "def ref_count(address):\n",
        "    return ctypes.c_long.from_address(address).value"
      ],
      "metadata": {
        "id": "61idNhd0uVji"
      },
      "execution_count": 23,
      "outputs": []
    },
    {
      "cell_type": "markdown",
      "source": [
        "We create a function that will search the objects in the GC for a specified id and tell us if the object was found or not:"
      ],
      "metadata": {
        "id": "6jK5Z4BYugSe"
      }
    },
    {
      "cell_type": "code",
      "source": [
        "def object_by_id(object_id):\n",
        "    for obj in gc.get_objects():\n",
        "        if id(obj) == object_id:\n",
        "            return \"Object exists\"\n",
        "    return \"Not found\""
      ],
      "metadata": {
        "id": "LacjQyuZue45"
      },
      "execution_count": 24,
      "outputs": []
    },
    {
      "cell_type": "markdown",
      "source": [
        "Next we define two classes that we will use to create a circular reference.\n",
        "\n",
        "Class A's constructor will create an instance of class B and pass itself to class B's constructor that will then store that reference in some instance variable."
      ],
      "metadata": {
        "id": "IPDQCkMc0GyO"
      }
    },
    {
      "cell_type": "code",
      "source": [
        "class A:\n",
        "    def __init__(self):\n",
        "        self.b = B(self)\n",
        "        print('A: self: {0}, b:{1}'.format(hex(id(self)), hex(id(self.b))))"
      ],
      "metadata": {
        "id": "fDMsFxkb1bzd"
      },
      "execution_count": 25,
      "outputs": []
    },
    {
      "cell_type": "code",
      "source": [
        "class B:\n",
        "    def __init__(self, a):\n",
        "        self.a = a\n",
        "        print('B: self: {0}, a: {1}'.format(hex(id(self)), hex(id(self.a))))"
      ],
      "metadata": {
        "id": "H5Fm7jL-0GMe"
      },
      "execution_count": 26,
      "outputs": []
    },
    {
      "cell_type": "markdown",
      "source": [
        "We turn off the GC so we can see how reference counts are affected when the GC does not run and whne it does (by running it manually)"
      ],
      "metadata": {
        "id": "DoplELrc4SF-"
      }
    },
    {
      "cell_type": "code",
      "source": [
        "gc.disable()"
      ],
      "metadata": {
        "id": "w0t1g2wF4Q0g"
      },
      "execution_count": 27,
      "outputs": []
    },
    {
      "cell_type": "markdown",
      "source": [
        "Now we create an instance of A, which will, in turn, create an instance of B which will store a reference to the calling A instance."
      ],
      "metadata": {
        "id": "7XJbfIa14iIB"
      }
    },
    {
      "cell_type": "code",
      "source": [
        "my_var = A()"
      ],
      "metadata": {
        "colab": {
          "base_uri": "https://localhost:8080/"
        },
        "id": "m2ETG0si4hfh",
        "outputId": "b8c48113-136b-4c58-fd08-002ba20250c1"
      },
      "execution_count": 28,
      "outputs": [
        {
          "output_type": "stream",
          "name": "stdout",
          "text": [
            "B: self: 0x7f0cf738f910, a: 0x7f0cf738f850\n",
            "A: self: 0x7f0cf738f850, b:0x7f0cf738f910\n"
          ]
        }
      ]
    },
    {
      "cell_type": "markdown",
      "source": [
        "As we can see A and B's constructors ran, and we also see from the memory addresses that we have a circular reference.\n",
        "\n",
        "In fact `my_var` is also a reference to the same A instance:"
      ],
      "metadata": {
        "id": "iyCUtFB15ENp"
      }
    },
    {
      "cell_type": "code",
      "source": [
        "print(hex(id(my_var)))"
      ],
      "metadata": {
        "colab": {
          "base_uri": "https://localhost:8080/"
        },
        "id": "zwHVgiKd5B89",
        "outputId": "b6536dd0-cbfd-4f14-f877-afb83af267a7"
      },
      "execution_count": 29,
      "outputs": [
        {
          "output_type": "stream",
          "name": "stdout",
          "text": [
            "0x7f0cf738f850\n"
          ]
        }
      ]
    },
    {
      "cell_type": "markdown",
      "source": [
        "Another way to see this:"
      ],
      "metadata": {
        "id": "riBAJZqF5bMb"
      }
    },
    {
      "cell_type": "code",
      "source": [
        "print('a: \\t{0}'.format(hex(id(my_var))))\n",
        "print('a.b: \\t{0}'.format(hex(id(my_var.b))))\n",
        "print('b.a: \\t{0}'.format(hex(id(my_var.b.a))))"
      ],
      "metadata": {
        "colab": {
          "base_uri": "https://localhost:8080/"
        },
        "id": "KUx5I_Jw5aTz",
        "outputId": "74550cd8-09b4-453f-8d81-8bbf33239168"
      },
      "execution_count": 30,
      "outputs": [
        {
          "output_type": "stream",
          "name": "stdout",
          "text": [
            "a: \t0x7f0cf738f850\n",
            "a.b: \t0x7f0cf738f910\n",
            "b.a: \t0x7f0cf738f850\n"
          ]
        }
      ]
    },
    {
      "cell_type": "code",
      "source": [
        "a_id = id(my_var)\n",
        "b_id = id(my_var.b)"
      ],
      "metadata": {
        "id": "ira069C65eQV"
      },
      "execution_count": 31,
      "outputs": []
    },
    {
      "cell_type": "markdown",
      "source": [
        "We can see how many references we have for `a` and `b`"
      ],
      "metadata": {
        "id": "XO43hnWy5g1g"
      }
    },
    {
      "cell_type": "code",
      "source": [
        "my_var = None"
      ],
      "metadata": {
        "id": "wnEgvSNn8IsY"
      },
      "execution_count": 35,
      "outputs": []
    },
    {
      "cell_type": "code",
      "source": [
        "print('refcount(a) = {0}'.format(ref_count(a_id)))\n",
        "print('refcount(b) = {0}'.format(ref_count(b_id)))\n",
        "print('a: {0}'.format(object_by_id(a_id)))\n",
        "print('b: {0}'.format(object_by_id(b_id)))"
      ],
      "metadata": {
        "colab": {
          "base_uri": "https://localhost:8080/"
        },
        "id": "kZHWewxS5gQS",
        "outputId": "fc9773fd-3bbe-4fdd-8a4d-9190fe4a07d3"
      },
      "execution_count": 36,
      "outputs": [
        {
          "output_type": "stream",
          "name": "stdout",
          "text": [
            "refcount(a) = 1\n",
            "refcount(b) = 1\n",
            "a: Object exists\n",
            "b: Object exists\n"
          ]
        }
      ]
    },
    {
      "cell_type": "markdown",
      "source": [
        "As we can see, the reference counts are now both equal to 1 (a pure circular reference), and reference counting alone did not destroy the A and B instances - they're still around. If no garbage collection is performed this would result in a memory leak.\n",
        "\n",
        "Let's run the GC manually and re-check whether the objects still exist:"
      ],
      "metadata": {
        "id": "VAk49XhV58u6"
      }
    },
    {
      "cell_type": "code",
      "source": [
        "gc.collect()\n",
        "print('refcount(a) = {0}'.format(ref_count(a_id)))\n",
        "print('refcount(b) = {0}'.format(ref_count(b_id)))\n",
        "print('a: {0}'.format(object_by_id(a_id)))\n",
        "print('b: {0}'.format(object_by_id(b_id)))"
      ],
      "metadata": {
        "colab": {
          "base_uri": "https://localhost:8080/"
        },
        "id": "X6dDmJgO5p4t",
        "outputId": "ce4b7066-abdf-4acd-c605-22a5f76187fe"
      },
      "execution_count": 37,
      "outputs": [
        {
          "output_type": "stream",
          "name": "stdout",
          "text": [
            "refcount(a) = 0\n",
            "refcount(b) = 0\n",
            "a: Not found\n",
            "b: Not found\n"
          ]
        }
      ]
    },
    {
      "cell_type": "markdown",
      "source": [
        "### 04 - Dynamic vs Static Typing"
      ],
      "metadata": {
        "id": "uxHf7YyC8Vai"
      }
    },
    {
      "cell_type": "markdown",
      "source": [
        "Python is dynamically typed.\n",
        "\n",
        "This means that the type of a variable is simply the type of the object the variable name points to (references).The variable itself has no associated type."
      ],
      "metadata": {
        "id": "7VsarCHT8a6J"
      }
    },
    {
      "cell_type": "code",
      "source": [
        "a = \"hello\""
      ],
      "metadata": {
        "id": "GI2FVgkB806p"
      },
      "execution_count": 38,
      "outputs": []
    },
    {
      "cell_type": "code",
      "source": [
        "type(a)"
      ],
      "metadata": {
        "colab": {
          "base_uri": "https://localhost:8080/"
        },
        "id": "V3ozcnm48aSC",
        "outputId": "09d8dbc0-82dc-4514-a2f8-e681fde3170b"
      },
      "execution_count": 39,
      "outputs": [
        {
          "output_type": "execute_result",
          "data": {
            "text/plain": [
              "str"
            ]
          },
          "metadata": {},
          "execution_count": 39
        }
      ]
    },
    {
      "cell_type": "code",
      "source": [
        "a = 10"
      ],
      "metadata": {
        "id": "Mrohh-2x8Amp"
      },
      "execution_count": 40,
      "outputs": []
    },
    {
      "cell_type": "code",
      "source": [
        "type(a)"
      ],
      "metadata": {
        "colab": {
          "base_uri": "https://localhost:8080/"
        },
        "id": "1xmG0MRU84XC",
        "outputId": "07dc264f-7774-49e6-dfa7-dc897c83464c"
      },
      "execution_count": 41,
      "outputs": [
        {
          "output_type": "execute_result",
          "data": {
            "text/plain": [
              "int"
            ]
          },
          "metadata": {},
          "execution_count": 41
        }
      ]
    },
    {
      "cell_type": "code",
      "source": [
        "a = lambda x: x ** 2"
      ],
      "metadata": {
        "id": "ujIGX6oo85J1"
      },
      "execution_count": 42,
      "outputs": []
    },
    {
      "cell_type": "code",
      "source": [
        "a(2)"
      ],
      "metadata": {
        "colab": {
          "base_uri": "https://localhost:8080/"
        },
        "id": "-QGu-fq-88GU",
        "outputId": "d9499af1-dafb-4e3c-8652-0f691225ca15"
      },
      "execution_count": 43,
      "outputs": [
        {
          "output_type": "execute_result",
          "data": {
            "text/plain": [
              "4"
            ]
          },
          "metadata": {},
          "execution_count": 43
        }
      ]
    },
    {
      "cell_type": "code",
      "source": [
        "type(a)"
      ],
      "metadata": {
        "colab": {
          "base_uri": "https://localhost:8080/"
        },
        "id": "VvVIXaMx88m7",
        "outputId": "a5709cb6-59fb-4e40-b709-bdf74dd2e9f1"
      },
      "execution_count": 44,
      "outputs": [
        {
          "output_type": "execute_result",
          "data": {
            "text/plain": [
              "function"
            ]
          },
          "metadata": {},
          "execution_count": 44
        }
      ]
    },
    {
      "cell_type": "markdown",
      "source": [
        "As you can see from the above examples, the type of the variable `a` changed over time - in fact it was simply the type of the object `a` was referencing at that time. No type was ever attached to the variable name itself."
      ],
      "metadata": {
        "id": "FFxeUw958-wb"
      }
    },
    {
      "cell_type": "markdown",
      "source": [
        "### 05 - Variable Re-Assignment"
      ],
      "metadata": {
        "id": "qLpRyQG09ZIH"
      }
    },
    {
      "cell_type": "markdown",
      "source": [
        "Notice how the memory address of `a` is different every time."
      ],
      "metadata": {
        "id": "KPfInvZP9dlI"
      }
    },
    {
      "cell_type": "code",
      "source": [
        "a = 10\n",
        "hex(id(a))"
      ],
      "metadata": {
        "colab": {
          "base_uri": "https://localhost:8080/",
          "height": 35
        },
        "id": "5dHwHkY689Yv",
        "outputId": "b8979443-b760-475c-a06c-e9827ed284a1"
      },
      "execution_count": 45,
      "outputs": [
        {
          "output_type": "execute_result",
          "data": {
            "text/plain": [
              "'0xa9b8c0'"
            ],
            "application/vnd.google.colaboratory.intrinsic+json": {
              "type": "string"
            }
          },
          "metadata": {},
          "execution_count": 45
        }
      ]
    },
    {
      "cell_type": "code",
      "source": [
        "a = 15\n",
        "hex(id(a))"
      ],
      "metadata": {
        "colab": {
          "base_uri": "https://localhost:8080/",
          "height": 35
        },
        "id": "gUkwg-GI90ud",
        "outputId": "46e028f0-cdef-467b-ae5a-6e640bc35544"
      },
      "execution_count": 47,
      "outputs": [
        {
          "output_type": "execute_result",
          "data": {
            "text/plain": [
              "'0xa9b960'"
            ],
            "application/vnd.google.colaboratory.intrinsic+json": {
              "type": "string"
            }
          },
          "metadata": {},
          "execution_count": 47
        }
      ]
    },
    {
      "cell_type": "code",
      "source": [
        "a = 5\n",
        "hex(id(a))"
      ],
      "metadata": {
        "colab": {
          "base_uri": "https://localhost:8080/",
          "height": 35
        },
        "id": "gqs_vJsy91eU",
        "outputId": "390ea6ec-7eef-48de-e6e4-96e3073d76e3"
      },
      "execution_count": 48,
      "outputs": [
        {
          "output_type": "execute_result",
          "data": {
            "text/plain": [
              "'0xa9b820'"
            ],
            "application/vnd.google.colaboratory.intrinsic+json": {
              "type": "string"
            }
          },
          "metadata": {},
          "execution_count": 48
        }
      ]
    },
    {
      "cell_type": "code",
      "source": [
        "a = a + 1\n",
        "hex(id(a))"
      ],
      "metadata": {
        "colab": {
          "base_uri": "https://localhost:8080/",
          "height": 35
        },
        "id": "aY7dOAHn95_l",
        "outputId": "39abe691-c2eb-4043-f32c-fefb2cc02ecd"
      },
      "execution_count": 49,
      "outputs": [
        {
          "output_type": "execute_result",
          "data": {
            "text/plain": [
              "'0xa9b840'"
            ],
            "application/vnd.google.colaboratory.intrinsic+json": {
              "type": "string"
            }
          },
          "metadata": {},
          "execution_count": 49
        }
      ]
    },
    {
      "cell_type": "markdown",
      "source": [
        "However, look at this:"
      ],
      "metadata": {
        "id": "Ls_eIjSb982P"
      }
    },
    {
      "cell_type": "code",
      "source": [
        "a = 10\n",
        "b = 10\n",
        "print(hex(id(a)))\n",
        "print(hex(id(b)))"
      ],
      "metadata": {
        "colab": {
          "base_uri": "https://localhost:8080/"
        },
        "id": "3FudF9n_98Lo",
        "outputId": "43c5e9e7-eb0d-4bb4-b5f4-ace1fd5c29b8"
      },
      "execution_count": 50,
      "outputs": [
        {
          "output_type": "stream",
          "name": "stdout",
          "text": [
            "0xa9b8c0\n",
            "0xa9b8c0\n"
          ]
        }
      ]
    },
    {
      "cell_type": "markdown",
      "source": [
        "The memory adresses of both `a` and `b` are the same!!"
      ],
      "metadata": {
        "id": "fq_VucXq-EK1"
      }
    },
    {
      "cell_type": "markdown",
      "source": [
        "### 06 - Object Mutability"
      ],
      "metadata": {
        "id": "UGxlI8rr-QFg"
      }
    },
    {
      "cell_type": "markdown",
      "source": [
        "Certain Python built-in object types (aka data types) are mutable.\n",
        "\n",
        "That is, the internal contents (state) of the object in memory can be modified."
      ],
      "metadata": {
        "id": "K6cUmjK3-S7C"
      }
    },
    {
      "cell_type": "code",
      "source": [
        "my_list = [1, 2, 3]\n",
        "print(my_list)\n",
        "print(hex(id(my_list)))"
      ],
      "metadata": {
        "colab": {
          "base_uri": "https://localhost:8080/"
        },
        "id": "UhEnPSko-DG0",
        "outputId": "812dd489-3633-4e4d-81f2-4db3a93437a3"
      },
      "execution_count": 51,
      "outputs": [
        {
          "output_type": "stream",
          "name": "stdout",
          "text": [
            "[1, 2, 3]\n",
            "0x7f0cf73abbe0\n"
          ]
        }
      ]
    },
    {
      "cell_type": "code",
      "source": [
        "my_list.append(4)\n",
        "print(my_list)\n",
        "print(hex(id(my_list)))"
      ],
      "metadata": {
        "colab": {
          "base_uri": "https://localhost:8080/"
        },
        "id": "dPUOhALM-hzJ",
        "outputId": "c60e788a-ee83-4e31-de5f-903263133829"
      },
      "execution_count": 52,
      "outputs": [
        {
          "output_type": "stream",
          "name": "stdout",
          "text": [
            "[1, 2, 3, 4]\n",
            "0x7f0cf73abbe0\n"
          ]
        }
      ]
    },
    {
      "cell_type": "markdown",
      "source": [
        "As you can see, the memory address of `my_list` has not changed.\n",
        "\n",
        "But the contents of `my_list` has changed from [1, 2, 3] to [1, 2, 3, 4].\n"
      ],
      "metadata": {
        "id": "XK9MEOXl-nt-"
      }
    },
    {
      "cell_type": "markdown",
      "source": [
        "\n",
        "\n",
        "---\n",
        "**BE CAREFUL!**\n"
      ],
      "metadata": {
        "id": "m_TOiQGj_GA3"
      }
    },
    {
      "cell_type": "markdown",
      "source": [
        "*On the other hand, consider this:*"
      ],
      "metadata": {
        "id": "6y1ynncU_J8_"
      }
    },
    {
      "cell_type": "code",
      "source": [
        "my_list_1 = [1, 2, 3]\n",
        "print(my_list_1)\n",
        "print(hex(id(my_list_1)))"
      ],
      "metadata": {
        "colab": {
          "base_uri": "https://localhost:8080/"
        },
        "id": "nsSCW-mP-mpU",
        "outputId": "20cbf2f9-9e08-4ce9-cdcc-f3b278b72362"
      },
      "execution_count": 53,
      "outputs": [
        {
          "output_type": "stream",
          "name": "stdout",
          "text": [
            "[1, 2, 3]\n",
            "0x7f0cef981f50\n"
          ]
        }
      ]
    },
    {
      "cell_type": "code",
      "source": [
        "my_list_1 = my_list_1 + [4]\n",
        "print(my_list_1)\n",
        "print(hex(id(my_list_1)))"
      ],
      "metadata": {
        "colab": {
          "base_uri": "https://localhost:8080/"
        },
        "id": "l8eTt06e-61K",
        "outputId": "9728d738-9a05-4360-8f5d-0b90e57e2f30"
      },
      "execution_count": 54,
      "outputs": [
        {
          "output_type": "stream",
          "name": "stdout",
          "text": [
            "[1, 2, 3, 4]\n",
            "0x7f0cef988aa0\n"
          ]
        }
      ]
    },
    {
      "cell_type": "markdown",
      "source": [
        "*Notice here that the memory address of `my_list_1` did change.*\n",
        "\n",
        "*This is because concatenating two lists objects `my_list_1` and `[4]` did not modify the contents of `my_list_1` - instead it created a new list object and re-assigned `my_list_1` to reference this new object.*\n",
        "\n",
        "*Similarly with ditionary objects that are also mutable types.*"
      ],
      "metadata": {
        "id": "BTFws2uu-9xj"
      }
    },
    {
      "cell_type": "markdown",
      "source": [
        "\n",
        "\n",
        "---\n",
        "\n"
      ],
      "metadata": {
        "id": "ux56aZ1j_3zM"
      }
    },
    {
      "cell_type": "code",
      "source": [
        "my_dict = dict(key1 = 'value 1')\n",
        "print(my_dict)\n",
        "print(hex(id(my_dict)))"
      ],
      "metadata": {
        "colab": {
          "base_uri": "https://localhost:8080/"
        },
        "id": "lhZGeeqS-8F7",
        "outputId": "360c077e-058f-4b9f-92ee-3e8bddf35f8f"
      },
      "execution_count": 55,
      "outputs": [
        {
          "output_type": "stream",
          "name": "stdout",
          "text": [
            "{'key1': 'value 1'}\n",
            "0x7f0cef8f80a0\n"
          ]
        }
      ]
    },
    {
      "cell_type": "code",
      "source": [
        "my_dict['key1'] = 'modified value 1'\n",
        "print(my_dict)\n",
        "print(hex(id(my_dict)))"
      ],
      "metadata": {
        "colab": {
          "base_uri": "https://localhost:8080/"
        },
        "id": "fxMukl-8_JTx",
        "outputId": "3b434b8f-c88e-4d2d-e1a9-2ae21392ab5c"
      },
      "execution_count": 56,
      "outputs": [
        {
          "output_type": "stream",
          "name": "stdout",
          "text": [
            "{'key1': 'modified value 1'}\n",
            "0x7f0cef8f80a0\n"
          ]
        }
      ]
    },
    {
      "cell_type": "code",
      "source": [
        "my_dict['key2'] = 'value 2'\n",
        "print(my_dict)\n",
        "print(hex(id(my_dict)))"
      ],
      "metadata": {
        "colab": {
          "base_uri": "https://localhost:8080/"
        },
        "id": "jrqe31xsAGHG",
        "outputId": "7f9554f0-bc8e-4cc1-e934-4158f6e3c1b6"
      },
      "execution_count": 57,
      "outputs": [
        {
          "output_type": "stream",
          "name": "stdout",
          "text": [
            "{'key1': 'modified value 1', 'key2': 'value 2'}\n",
            "0x7f0cef8f80a0\n"
          ]
        }
      ]
    },
    {
      "cell_type": "markdown",
      "source": [
        "Once again we see that while we are modifying the contents of the dictionary, the memory address of `my_dict` has not changed.\n",
        "\n",
        "Now consider the immutable sequence type: tuple\n",
        "\n",
        "The tuple is immutable, so elements cannot be added, removed or replaced."
      ],
      "metadata": {
        "id": "7JyH1WWCASRf"
      }
    },
    {
      "cell_type": "code",
      "source": [
        "t = (1 ,2 ,3)"
      ],
      "metadata": {
        "id": "Bzov2IvyAPCm"
      },
      "execution_count": 58,
      "outputs": []
    },
    {
      "cell_type": "markdown",
      "source": [
        "This tuple will never change at all. It has three elementes, the integers 1, 2 , and 3. This will remain the case as long as `t`'s reference is not changed."
      ],
      "metadata": {
        "id": "msnln1ZcAkno"
      }
    },
    {
      "cell_type": "markdown",
      "source": [
        "\n",
        "\n",
        "---\n",
        "**BE CAREFUL!**\n"
      ],
      "metadata": {
        "id": "DSDxgg5AB6QW"
      }
    },
    {
      "cell_type": "markdown",
      "source": [
        "*But, consider the following tuple:*"
      ],
      "metadata": {
        "id": "4I7lBNLAB7PS"
      }
    },
    {
      "cell_type": "code",
      "source": [
        "a = [1, 2]\n",
        "b = [3, 4]\n",
        "t = (a, b)"
      ],
      "metadata": {
        "id": "tjJF_3H-AkGt"
      },
      "execution_count": 59,
      "outputs": []
    },
    {
      "cell_type": "markdown",
      "source": [
        "*Now, `t` is still immutable, i.e. it contains a reference to the object `a` abd the object `b`. That will never change as long as `t`'s reference is not re-assigned.*\n",
        "\n",
        "*However, the elements `a` and `b` are, themselves, mutable.*"
      ],
      "metadata": {
        "id": "uW9tyyYoA4Lg"
      }
    },
    {
      "cell_type": "code",
      "source": [
        "a.append(3)\n",
        "b.append(5)\n",
        "print(t)"
      ],
      "metadata": {
        "colab": {
          "base_uri": "https://localhost:8080/"
        },
        "id": "TdirfipAA28_",
        "outputId": "81c765b7-c40c-4de5-8778-6b3df5f9e026"
      },
      "execution_count": 60,
      "outputs": [
        {
          "output_type": "stream",
          "name": "stdout",
          "text": [
            "([1, 2, 3], [3, 4, 5])\n"
          ]
        }
      ]
    },
    {
      "cell_type": "markdown",
      "source": [
        "*Observe that the contents of `a` and `b` did change!*\n",
        "\n",
        "*So immutability can be a littlme more subtle than just thinking something can never change.*\n",
        "\n",
        "*The tuple `t` did not change - it contains two elements, that are the references `a` and `b`. And that will not change. But, because the referenced elements are mutable themselves, it appears as though the tuple has changed.*\n",
        "\n",
        "*It  hasn't though - tha distinction is subtle but important to understand!*"
      ],
      "metadata": {
        "id": "XirNTsfWBVAa"
      }
    },
    {
      "cell_type": "markdown",
      "source": [
        "\n",
        "\n",
        "---\n",
        "\n"
      ],
      "metadata": {
        "id": "MX4NiNTSB_j1"
      }
    },
    {
      "cell_type": "markdown",
      "source": [
        "### 07 - Function Arguments and Mutability"
      ],
      "metadata": {
        "id": "Pl4IlZeMDLor"
      }
    },
    {
      "cell_type": "markdown",
      "source": [
        "Consider a function that receives a string argument, and changes the argument in some way:"
      ],
      "metadata": {
        "id": "EYT9p3-SDTgl"
      }
    },
    {
      "cell_type": "code",
      "source": [
        "def process(s):\n",
        "    print('initial s # = {0}'.format(hex(id(s))))\n",
        "    s = s + ' world'\n",
        "    print('s after change # = {0}'.format(hex(id(s))))"
      ],
      "metadata": {
        "id": "1xY-g3VbDXAP"
      },
      "execution_count": 61,
      "outputs": []
    },
    {
      "cell_type": "code",
      "source": [
        "my_var = 'hello'\n",
        "print('my_var # = {0}'.format(hex(id(my_var))))"
      ],
      "metadata": {
        "colab": {
          "base_uri": "https://localhost:8080/"
        },
        "id": "G6dCzzWzBTaJ",
        "outputId": "a8c894b6-a260-4c27-cb15-2019dee47a1a"
      },
      "execution_count": 62,
      "outputs": [
        {
          "output_type": "stream",
          "name": "stdout",
          "text": [
            "my_var # = 0x7f0cfc68fa30\n"
          ]
        }
      ]
    },
    {
      "cell_type": "markdown",
      "source": [
        "Note that when s is received, it is referencing the same object as `my_var`.\n",
        "\n",
        "After we \"modify\" s, s is pointing to a new memory address:"
      ],
      "metadata": {
        "id": "ZGfepy0eHv-7"
      }
    },
    {
      "cell_type": "code",
      "source": [
        "process(my_var)"
      ],
      "metadata": {
        "colab": {
          "base_uri": "https://localhost:8080/"
        },
        "id": "rYtMsBNCGAol",
        "outputId": "91ea89fb-b2f0-4b8f-9e15-c958989b3d2e"
      },
      "execution_count": 63,
      "outputs": [
        {
          "output_type": "stream",
          "name": "stdout",
          "text": [
            "initial s # = 0x7f0cfc68fa30\n",
            "s after change # = 0x7f0cef530db0\n"
          ]
        }
      ]
    },
    {
      "cell_type": "markdown",
      "source": [
        "And our own variable `my_var` is still pointing to the original memory address:"
      ],
      "metadata": {
        "id": "1_0f0OIuICvS"
      }
    },
    {
      "cell_type": "code",
      "source": [
        "print('my_var # = {0}'.format(hex(id(my_var))))"
      ],
      "metadata": {
        "colab": {
          "base_uri": "https://localhost:8080/"
        },
        "id": "L7bVxpiRH-qH",
        "outputId": "e98ad8f1-b697-4476-c1ca-b41227ad0991"
      },
      "execution_count": 64,
      "outputs": [
        {
          "output_type": "stream",
          "name": "stdout",
          "text": [
            "my_var # = 0x7f0cfc68fa30\n"
          ]
        }
      ]
    },
    {
      "cell_type": "markdown",
      "source": [
        "Let's see how this works with mutable objects:"
      ],
      "metadata": {
        "id": "yA6HCHeAKVLm"
      }
    },
    {
      "cell_type": "code",
      "source": [
        "def modify_list(items):\n",
        "    print('initial items # = {0}'.format(hex(id(items))))\n",
        "    if len(items) > 0:\n",
        "        items[0] = items[0] ** 2\n",
        "    items.pop()\n",
        "    items.append(5)\n",
        "    print('final items # = {0}'.format(hex(id(items))))"
      ],
      "metadata": {
        "id": "4vj1O1yyKTAx"
      },
      "execution_count": 65,
      "outputs": []
    },
    {
      "cell_type": "code",
      "source": [
        "my_list = [2, 3, 4]\n",
        "print('my_list # = {0}'.format(hex(id(my_list))))"
      ],
      "metadata": {
        "colab": {
          "base_uri": "https://localhost:8080/"
        },
        "id": "FC6FhUDvKwVN",
        "outputId": "52c6188b-8e7b-4e2f-d397-8827135ae067"
      },
      "execution_count": 66,
      "outputs": [
        {
          "output_type": "stream",
          "name": "stdout",
          "text": [
            "my_list # = 0x7f0cef388f50\n"
          ]
        }
      ]
    },
    {
      "cell_type": "code",
      "source": [
        "modify_list(my_list)"
      ],
      "metadata": {
        "colab": {
          "base_uri": "https://localhost:8080/"
        },
        "id": "rEFu-1vDK5Pi",
        "outputId": "93264d58-58f0-4d0f-9671-46546c79aba8"
      },
      "execution_count": 67,
      "outputs": [
        {
          "output_type": "stream",
          "name": "stdout",
          "text": [
            "initial items # = 0x7f0cef388f50\n",
            "final items # = 0x7f0cef388f50\n"
          ]
        }
      ]
    },
    {
      "cell_type": "code",
      "source": [
        "print(my_list)\n",
        "print('my_list # = {0}'.format(hex(id(my_list))))"
      ],
      "metadata": {
        "colab": {
          "base_uri": "https://localhost:8080/"
        },
        "id": "er9mKxlqK9z8",
        "outputId": "041f2007-f1c0-4bd4-ab88-690800bcf9a0"
      },
      "execution_count": 68,
      "outputs": [
        {
          "output_type": "stream",
          "name": "stdout",
          "text": [
            "[4, 3, 5]\n",
            "my_list # = 0x7f0cef388f50\n"
          ]
        }
      ]
    },
    {
      "cell_type": "markdown",
      "source": [
        "As you can see, thoughout all the code, the memory address referenced by `my_list` and `items` is always the same (shared) reference - we are simply modifying the contents (internal state) of the object at that memory address.\n",
        "\n",
        "Now, even with immutable container objects we have to be careful, e.g. a tuple containing a list (the tuple is immutable, but the list element inside the tuple is mutable)"
      ],
      "metadata": {
        "id": "J3_1ZJmaLR2-"
      }
    },
    {
      "cell_type": "code",
      "source": [
        "def modify_tuple(t):\n",
        "    print('initial t # = {0}'.format(hex(id(t))))\n",
        "    t[0].append(100)\n",
        "    print('final t # = {0}'.format(hex(id(t))))"
      ],
      "metadata": {
        "id": "1gtAvPcOLOsp"
      },
      "execution_count": 69,
      "outputs": []
    },
    {
      "cell_type": "code",
      "source": [
        "my_tuple = ([1, 2], 'a')"
      ],
      "metadata": {
        "id": "pWUPUet_MITG"
      },
      "execution_count": 70,
      "outputs": []
    },
    {
      "cell_type": "code",
      "source": [
        "hex(id(my_tuple))"
      ],
      "metadata": {
        "colab": {
          "base_uri": "https://localhost:8080/",
          "height": 35
        },
        "id": "1L7-QqElMLp9",
        "outputId": "8dab9aa0-3cab-4eda-8ee2-a0a6ce11bdee"
      },
      "execution_count": 71,
      "outputs": [
        {
          "output_type": "execute_result",
          "data": {
            "text/plain": [
              "'0x7f0cef29b410'"
            ],
            "application/vnd.google.colaboratory.intrinsic+json": {
              "type": "string"
            }
          },
          "metadata": {},
          "execution_count": 71
        }
      ]
    },
    {
      "cell_type": "code",
      "source": [
        "modify_tuple(my_tuple)"
      ],
      "metadata": {
        "colab": {
          "base_uri": "https://localhost:8080/"
        },
        "id": "q1QvQxA4MNEA",
        "outputId": "88af3a55-eac4-4711-fb61-b1b8df963416"
      },
      "execution_count": 72,
      "outputs": [
        {
          "output_type": "stream",
          "name": "stdout",
          "text": [
            "initial t # = 0x7f0cef29b410\n",
            "final t # = 0x7f0cef29b410\n"
          ]
        }
      ]
    },
    {
      "cell_type": "code",
      "source": [
        "my_tuple"
      ],
      "metadata": {
        "colab": {
          "base_uri": "https://localhost:8080/"
        },
        "id": "t9xleyNWMPdT",
        "outputId": "0835c343-f449-490c-9d7f-bcf40d677a2a"
      },
      "execution_count": 73,
      "outputs": [
        {
          "output_type": "execute_result",
          "data": {
            "text/plain": [
              "([1, 2, 100], 'a')"
            ]
          },
          "metadata": {},
          "execution_count": 73
        }
      ]
    },
    {
      "cell_type": "markdown",
      "source": [
        "As you can see, the first element of the tuple was mutated."
      ],
      "metadata": {
        "id": "QPXyOHv0MSVi"
      }
    },
    {
      "cell_type": "code",
      "source": [],
      "metadata": {
        "id": "dRTYVProMRh8"
      },
      "execution_count": null,
      "outputs": []
    }
  ]
}