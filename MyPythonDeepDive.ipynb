{
  "nbformat": 4,
  "nbformat_minor": 0,
  "metadata": {
    "colab": {
      "provenance": [],
      "collapsed_sections": [],
      "toc_visible": true,
      "authorship_tag": "ABX9TyPwyHc6mtXSVr/tVwtGcDYm",
      "include_colab_link": true
    },
    "kernelspec": {
      "name": "python3",
      "display_name": "Python 3"
    },
    "language_info": {
      "name": "python"
    }
  },
  "cells": [
    {
      "cell_type": "markdown",
      "metadata": {
        "id": "view-in-github",
        "colab_type": "text"
      },
      "source": [
        "<a href=\"https://colab.research.google.com/github/aserdargun/aserdargun/blob/main/MyPythonDeepDive.ipynb\" target=\"_parent\"><img src=\"https://colab.research.google.com/assets/colab-badge.svg\" alt=\"Open In Colab\"/></a>"
      ]
    },
    {
      "cell_type": "markdown",
      "source": [
        "# INTRODUCTION"
      ],
      "metadata": {
        "id": "OY_w8yR51-Pu"
      }
    },
    {
      "cell_type": "markdown",
      "source": [
        "I am starting with the zen of python. If you write \"import this\" and understand what is this, you will see significant effects on your syntax."
      ],
      "metadata": {
        "id": "UTPh0QApvioa"
      }
    },
    {
      "cell_type": "code",
      "execution_count": null,
      "metadata": {
        "colab": {
          "base_uri": "https://localhost:8080/"
        },
        "id": "yo32NMAXH1Cr",
        "outputId": "b52e759b-6945-4a8b-84f5-6aec7cc2a6eb"
      },
      "outputs": [
        {
          "output_type": "stream",
          "name": "stdout",
          "text": [
            "The Zen of Python, by Tim Peters\n",
            "\n",
            "Beautiful is better than ugly.\n",
            "Explicit is better than implicit.\n",
            "Simple is better than complex.\n",
            "Complex is better than complicated.\n",
            "Flat is better than nested.\n",
            "Sparse is better than dense.\n",
            "Readability counts.\n",
            "Special cases aren't special enough to break the rules.\n",
            "Although practicality beats purity.\n",
            "Errors should never pass silently.\n",
            "Unless explicitly silenced.\n",
            "In the face of ambiguity, refuse the temptation to guess.\n",
            "There should be one-- and preferably only one --obvious way to do it.\n",
            "Although that way may not be obvious at first unless you're Dutch.\n",
            "Now is better than never.\n",
            "Although never is often better than *right* now.\n",
            "If the implementation is hard to explain, it's a bad idea.\n",
            "If the implementation is easy to explain, it may be a good idea.\n",
            "Namespaces are one honking great idea -- let's do more of those!\n"
          ]
        }
      ],
      "source": [
        "import this"
      ]
    },
    {
      "cell_type": "markdown",
      "source": [
        "If you want to have more details on it, you should go https://peps.python.org/pep-0008/ PEP8. PEP is an abbrevation of Python Enchancement Proposals. \n",
        "\n",
        "You can see the PEP index in this https://peps.python.org/pep-0000/"
      ],
      "metadata": {
        "id": "Nlmpup6YzQui"
      }
    },
    {
      "cell_type": "markdown",
      "source": [
        "The resource of this study is from Fred Baptiste's DeepDive Series. Special thanks to Fred Baptiste. https://github.com/aserdargun/python-deepdive\n",
        "\n",
        "* [Part 1](https://www.udemy.com/course/python-3-deep-dive-part-1/?referralCode=E46B931C71EE01845062/): Mainly functional programming\n",
        "* [Part 2](https://www.udemy.com/course/python-3-deep-dive-part-2/?referralCode=3E7AFEF5174F04E5C8D4/): Mainly iterables, iterators and generators\n",
        "* [Part 3](https://www.udemy.com/course/python-3-deep-dive-part-3/?referralCode=C5B0D9AB965B9BF4C49F/): Mainly hash maps\n",
        "* [Part 4](https://www.udemy.com/course/python-3-deep-dive-part-4/?referralCode=3BB758BE4C04FB983E6F/): OOP\n",
        "\n",
        "\n",
        "I only want to emphasize some caveats, also good understanding for me and sharing with others who want to learn Python in details."
      ],
      "metadata": {
        "id": "pJT46SQm0GhR"
      }
    },
    {
      "cell_type": "markdown",
      "source": [
        "# **PART 1: FUNCTIONAL PROGRAMMING**\n"
      ],
      "metadata": {
        "id": "MPyvJeNW1Kee"
      }
    },
    {
      "cell_type": "markdown",
      "source": [
        "## Section 02 - A Quick Refresher"
      ],
      "metadata": {
        "id": "fgBQSVSx37kc"
      }
    },
    {
      "cell_type": "markdown",
      "source": [
        "### 01 - Multi-Line Statements and Strings"
      ],
      "metadata": {
        "id": "mYx0Fr184Bxm"
      }
    },
    {
      "cell_type": "markdown",
      "source": [
        "**Implicit Examples**"
      ],
      "metadata": {
        "id": "D4LadCsM3X3p"
      }
    },
    {
      "cell_type": "markdown",
      "source": [
        "Multi-Line Statement"
      ],
      "metadata": {
        "id": "msrEUo8J5iBi"
      }
    },
    {
      "cell_type": "code",
      "source": [
        "a = [1,\n",
        "     2,\n",
        "     3]"
      ],
      "metadata": {
        "id": "o2dWFHE5vQHF"
      },
      "execution_count": null,
      "outputs": []
    },
    {
      "cell_type": "code",
      "source": [
        "a"
      ],
      "metadata": {
        "colab": {
          "base_uri": "https://localhost:8080/"
        },
        "id": "kADa5Y2F48s9",
        "outputId": "0eeb356d-8d87-4bcf-fc60-cc2c4c28f9f0"
      },
      "execution_count": null,
      "outputs": [
        {
          "output_type": "execute_result",
          "data": {
            "text/plain": [
              "[1, 2, 3]"
            ]
          },
          "metadata": {},
          "execution_count": 3
        }
      ]
    },
    {
      "cell_type": "markdown",
      "source": [
        "Multi-Line Statement with comments to the end of each line."
      ],
      "metadata": {
        "id": "ecwiR_ff5qet"
      }
    },
    {
      "cell_type": "code",
      "source": [
        "a = [1, #first element\n",
        "     2, #second element\n",
        "     3, #third element\n",
        "     ]"
      ],
      "metadata": {
        "id": "TnS1p0wo49ka"
      },
      "execution_count": null,
      "outputs": []
    },
    {
      "cell_type": "code",
      "source": [
        "a"
      ],
      "metadata": {
        "colab": {
          "base_uri": "https://localhost:8080/"
        },
        "id": "gwYjThj15QJg",
        "outputId": "e05e6a40-8fed-41cb-d832-ef0079167b67"
      },
      "execution_count": null,
      "outputs": [
        {
          "output_type": "execute_result",
          "data": {
            "text/plain": [
              "[1, 2, 3]"
            ]
          },
          "metadata": {},
          "execution_count": 5
        }
      ]
    },
    {
      "cell_type": "markdown",
      "source": [
        "\n",
        "\n",
        "---\n",
        "**BE CAREFUL!**\n"
      ],
      "metadata": {
        "id": "21bR4dUsGqwI"
      }
    },
    {
      "cell_type": "markdown",
      "source": [
        "*If you use comments, you must close off the collection on a new line.*"
      ],
      "metadata": {
        "id": "LidAnlJb6TIP"
      }
    },
    {
      "cell_type": "code",
      "source": [
        "a = [1, #first element\n",
        "     2 # second element]"
      ],
      "metadata": {
        "colab": {
          "base_uri": "https://localhost:8080/",
          "height": 131
        },
        "id": "WoQA9SMr6Acw",
        "outputId": "2d400cdd-c068-4268-e11a-0f1d43d472b5"
      },
      "execution_count": null,
      "outputs": [
        {
          "output_type": "error",
          "ename": "SyntaxError",
          "evalue": "ignored",
          "traceback": [
            "\u001b[0;36m  File \u001b[0;32m\"<ipython-input-6-193b73c5495b>\"\u001b[0;36m, line \u001b[0;32m2\u001b[0m\n\u001b[0;31m    2 # second element]\u001b[0m\n\u001b[0m                       ^\u001b[0m\n\u001b[0;31mSyntaxError\u001b[0m\u001b[0;31m:\u001b[0m unexpected EOF while parsing\n"
          ]
        }
      ]
    },
    {
      "cell_type": "markdown",
      "source": [
        "\n",
        "\n",
        "---\n",
        "\n"
      ],
      "metadata": {
        "id": "VJ2-WdcwGscx"
      }
    },
    {
      "cell_type": "markdown",
      "source": [
        "This works the same way for tuples, sets, and dictionaries."
      ],
      "metadata": {
        "id": "D8XD_7-u9WOG"
      }
    },
    {
      "cell_type": "markdown",
      "source": [
        "Tuple"
      ],
      "metadata": {
        "id": "dafq91zC9wSb"
      }
    },
    {
      "cell_type": "code",
      "source": [
        "a = (1, #first element\n",
        "     2, #second element\n",
        "     3, #third element\n",
        "     )"
      ],
      "metadata": {
        "id": "R1pRXnqR5Qnx"
      },
      "execution_count": null,
      "outputs": []
    },
    {
      "cell_type": "code",
      "source": [
        "a"
      ],
      "metadata": {
        "colab": {
          "base_uri": "https://localhost:8080/"
        },
        "id": "HdijBf7d9tDm",
        "outputId": "733c056b-b682-4ea6-e11d-32e753321c14"
      },
      "execution_count": null,
      "outputs": [
        {
          "output_type": "execute_result",
          "data": {
            "text/plain": [
              "(1, 2, 3)"
            ]
          },
          "metadata": {},
          "execution_count": 18
        }
      ]
    },
    {
      "cell_type": "markdown",
      "source": [
        "Set"
      ],
      "metadata": {
        "id": "eow4ML-b9zQZ"
      }
    },
    {
      "cell_type": "code",
      "source": [
        "a = {1, #first element\n",
        "     2, #second element\n",
        "     }"
      ],
      "metadata": {
        "id": "nG5YRvIn9tbY"
      },
      "execution_count": null,
      "outputs": []
    },
    {
      "cell_type": "code",
      "source": [
        "a"
      ],
      "metadata": {
        "colab": {
          "base_uri": "https://localhost:8080/"
        },
        "id": "2FyXRpt498b-",
        "outputId": "28cf92b3-143f-4b9d-feb8-87d67fb39a38"
      },
      "execution_count": null,
      "outputs": [
        {
          "output_type": "execute_result",
          "data": {
            "text/plain": [
              "{1, 2}"
            ]
          },
          "metadata": {},
          "execution_count": 20
        }
      ]
    },
    {
      "cell_type": "markdown",
      "source": [
        "Dictionary"
      ],
      "metadata": {
        "id": "x9cEhG5--HDl"
      }
    },
    {
      "cell_type": "markdown",
      "source": [
        "you can use each of key and value pairs comments in dictionary."
      ],
      "metadata": {
        "id": "iOugr15v-ZyP"
      }
    },
    {
      "cell_type": "code",
      "source": [
        "a = {'key1': 'value1', #comment,\n",
        "     'key2': #comment\n",
        "     'value2' #comment\n",
        "     }"
      ],
      "metadata": {
        "id": "G_xS45i_995I"
      },
      "execution_count": null,
      "outputs": []
    },
    {
      "cell_type": "code",
      "source": [
        "a"
      ],
      "metadata": {
        "colab": {
          "base_uri": "https://localhost:8080/"
        },
        "id": "5VXFOIxH-SRp",
        "outputId": "df92df99-72a4-420d-db5a-917b637b8e20"
      },
      "execution_count": null,
      "outputs": [
        {
          "output_type": "execute_result",
          "data": {
            "text/plain": [
              "{'key1': 'value1', 'key2': 'value2'}"
            ]
          },
          "metadata": {},
          "execution_count": 22
        }
      ]
    },
    {
      "cell_type": "markdown",
      "source": [
        "Function Parameter"
      ],
      "metadata": {
        "id": "f6YLYy5b_YoQ"
      }
    },
    {
      "cell_type": "markdown",
      "source": [
        "A parameter is the variable listed inside the parentheses in the function definition."
      ],
      "metadata": {
        "id": "XfSylmNBAGqk"
      }
    },
    {
      "cell_type": "code",
      "source": [
        "def my_func(a, #some comment\n",
        "            b, c):\n",
        "    print(a, b ,c)"
      ],
      "metadata": {
        "id": "m90lAeKZ_YZQ"
      },
      "execution_count": null,
      "outputs": []
    },
    {
      "cell_type": "markdown",
      "source": [
        "Function Argument"
      ],
      "metadata": {
        "id": "1gytMNVNAMko"
      }
    },
    {
      "cell_type": "markdown",
      "source": [
        "An argument is the value that are sent to the function when it is called."
      ],
      "metadata": {
        "id": "m3TUKVFfAOni"
      }
    },
    {
      "cell_type": "code",
      "source": [
        "my_func(10, #comment\n",
        "        20, #comment\n",
        "        30)"
      ],
      "metadata": {
        "colab": {
          "base_uri": "https://localhost:8080/"
        },
        "id": "A1fqn_7u-wC1",
        "outputId": "6386a8ba-7a55-4946-ee91-5530a0222450"
      },
      "execution_count": null,
      "outputs": [
        {
          "output_type": "stream",
          "name": "stdout",
          "text": [
            "10 20 30\n"
          ]
        }
      ]
    },
    {
      "cell_type": "markdown",
      "source": [
        "**Explicit Examples**"
      ],
      "metadata": {
        "id": "TW4RS-QIBCdd"
      }
    },
    {
      "cell_type": "markdown",
      "source": [
        "You can use the `\\` character to explicitly create multi-line statements."
      ],
      "metadata": {
        "id": "m_n7QI04BLgo"
      }
    },
    {
      "cell_type": "code",
      "source": [
        "a = 10\n",
        "b = 20\n",
        "c = 30\n",
        "if a > 5 \\\n",
        "  and b > 10 \\\n",
        "  and c > 20:\n",
        "  print('yes!!')"
      ],
      "metadata": {
        "colab": {
          "base_uri": "https://localhost:8080/"
        },
        "id": "9as55QUUAkX1",
        "outputId": "826e1dda-87de-4575-9159-de21b757dc51"
      },
      "execution_count": null,
      "outputs": [
        {
          "output_type": "stream",
          "name": "stdout",
          "text": [
            "yes!!\n"
          ]
        }
      ]
    },
    {
      "cell_type": "markdown",
      "source": [
        "The indentation in continued-lines does not matter:"
      ],
      "metadata": {
        "id": "1z9Hv-6qBt2c"
      }
    },
    {
      "cell_type": "code",
      "source": [
        "a = 10\n",
        "b = 20\n",
        "c = 30\n",
        "if a > 5 \\\n",
        "    and b > 10 \\\n",
        "        and c > 20:\n",
        "    print('yes!!')"
      ],
      "metadata": {
        "colab": {
          "base_uri": "https://localhost:8080/"
        },
        "id": "zKev4sbJBz0M",
        "outputId": "5e37115d-9508-44c3-8581-8de63e148f5a"
      },
      "execution_count": null,
      "outputs": [
        {
          "output_type": "stream",
          "name": "stdout",
          "text": [
            "yes!!\n"
          ]
        }
      ]
    },
    {
      "cell_type": "markdown",
      "source": [
        "**Multi-Line Strings**"
      ],
      "metadata": {
        "id": "a61yj2gQCTDF"
      }
    },
    {
      "cell_type": "markdown",
      "source": [
        "You can create multi-line strings by using triple delimiters (single or double quotes)"
      ],
      "metadata": {
        "id": "9sJvo2YJCXoS"
      }
    },
    {
      "cell_type": "code",
      "source": [
        "a = '''this is \n",
        "a multi-line string'''"
      ],
      "metadata": {
        "id": "8VSsNWwbB_81"
      },
      "execution_count": null,
      "outputs": []
    },
    {
      "cell_type": "code",
      "source": [
        "print(a)"
      ],
      "metadata": {
        "colab": {
          "base_uri": "https://localhost:8080/"
        },
        "id": "lcIx46QZClkU",
        "outputId": "ec3b3bf2-1cd6-47b6-939e-a81f60a799c4"
      },
      "execution_count": null,
      "outputs": [
        {
          "output_type": "stream",
          "name": "stdout",
          "text": [
            "this is \n",
            "a multi-line string\n"
          ]
        }
      ]
    },
    {
      "cell_type": "markdown",
      "source": [
        "If you call with a directly in notebook, you will see with escape characters such as `\\n`."
      ],
      "metadata": {
        "id": "AdjlmYZBCp2l"
      }
    },
    {
      "cell_type": "code",
      "source": [
        "a"
      ],
      "metadata": {
        "colab": {
          "base_uri": "https://localhost:8080/",
          "height": 35
        },
        "id": "DP4OrGSjCmPE",
        "outputId": "e8280c01-887c-4f9e-adef-921da5331884"
      },
      "execution_count": null,
      "outputs": [
        {
          "output_type": "execute_result",
          "data": {
            "text/plain": [
              "'this is \\na multi-line string'"
            ],
            "application/vnd.google.colaboratory.intrinsic+json": {
              "type": "string"
            }
          },
          "metadata": {},
          "execution_count": 11
        }
      ]
    },
    {
      "cell_type": "markdown",
      "source": [
        "Any character you type is preserved. You can also mix in escaped characters line any nırmal string. (i.e.: `\\n`)"
      ],
      "metadata": {
        "id": "1ZvfBZCKDB2v"
      }
    },
    {
      "cell_type": "code",
      "source": [
        "a = \"\"\"some items:\\n\n",
        "    1. item 1\n",
        "    2. item 2\"\"\""
      ],
      "metadata": {
        "id": "r7xaA_dwCnPI"
      },
      "execution_count": null,
      "outputs": []
    },
    {
      "cell_type": "code",
      "source": [
        "print(a)"
      ],
      "metadata": {
        "colab": {
          "base_uri": "https://localhost:8080/"
        },
        "id": "eofFGJHHDjHI",
        "outputId": "8341b278-053a-4255-c0a4-7474fe523924"
      },
      "execution_count": null,
      "outputs": [
        {
          "output_type": "stream",
          "name": "stdout",
          "text": [
            "some items:\n",
            "\n",
            "    1. item 1\n",
            "    2. item 2\n"
          ]
        }
      ]
    },
    {
      "cell_type": "markdown",
      "source": [
        "\n",
        "\n",
        "---\n",
        "**BE CAREFUL!**\n"
      ],
      "metadata": {
        "id": "pZbAIh0hGv_S"
      }
    },
    {
      "cell_type": "markdown",
      "source": [
        "*if you indent your multi-line strings - the extra spaces are preserved!*"
      ],
      "metadata": {
        "id": "QJ3oZANuD5Yr"
      }
    },
    {
      "cell_type": "code",
      "source": [
        "def my_func():\n",
        "    a = '''a multi-line string\n",
        "    that is actually indented in the second line'''\n",
        "    return a"
      ],
      "metadata": {
        "id": "vRKpiU4vDkN0"
      },
      "execution_count": null,
      "outputs": []
    },
    {
      "cell_type": "code",
      "source": [
        "print(my_func())"
      ],
      "metadata": {
        "colab": {
          "base_uri": "https://localhost:8080/"
        },
        "id": "6Qz4j3yMEL4O",
        "outputId": "44d41724-a5c2-4b93-e3a5-30c939df4938"
      },
      "execution_count": null,
      "outputs": [
        {
          "output_type": "stream",
          "name": "stdout",
          "text": [
            "a multi-line string\n",
            "    that is actually indented in the second line\n"
          ]
        }
      ]
    },
    {
      "cell_type": "code",
      "source": [
        "def my_func():\n",
        "    a = '''a multi-line string\n",
        "that is not indented in the second line'''\n",
        "    return a"
      ],
      "metadata": {
        "id": "08RKuSa_EMxz"
      },
      "execution_count": null,
      "outputs": []
    },
    {
      "cell_type": "code",
      "source": [
        "print(my_func())"
      ],
      "metadata": {
        "colab": {
          "base_uri": "https://localhost:8080/"
        },
        "id": "TxZFOOkrE2s6",
        "outputId": "9a40b7e4-2691-4106-8869-37d83400700a"
      },
      "execution_count": null,
      "outputs": [
        {
          "output_type": "stream",
          "name": "stdout",
          "text": [
            "a multi-line string\n",
            "that is not indented in the second line\n"
          ]
        }
      ]
    },
    {
      "cell_type": "markdown",
      "source": [
        "\n",
        "\n",
        "---\n",
        "\n",
        "**BE CAREFUL!**"
      ],
      "metadata": {
        "id": "PWKT6IbiGyZv"
      }
    },
    {
      "cell_type": "markdown",
      "source": [
        "*Note that these multi-line strings are not comments - they are real strings and, unlike comments, are part of your compiled code. They are however used to create comments, such as docstrings, that we will cover later in this course.*"
      ],
      "metadata": {
        "id": "7ZrOZAgAFCOe"
      }
    },
    {
      "cell_type": "markdown",
      "source": [
        "\n",
        "\n",
        "---\n",
        "\n",
        "**BE CAREFUL!**"
      ],
      "metadata": {
        "id": "YS8ZIPP7G0I_"
      }
    },
    {
      "cell_type": "markdown",
      "source": [
        "*In general, use `#` to comment your code, and use multi-line strings only when actually needed (like for docstrings).\n",
        "Also, there are no multi-line comments in Python. You simply have to use a `#` on every line.*"
      ],
      "metadata": {
        "id": "iC5nicMGFrIj"
      }
    },
    {
      "cell_type": "code",
      "source": [
        "# this is\n",
        "#   a multi-line\n",
        "#   comment"
      ],
      "metadata": {
        "id": "xpfRM-gAE4Wy"
      },
      "execution_count": null,
      "outputs": []
    },
    {
      "cell_type": "markdown",
      "source": [
        "*The following works, but the above formatting is preferrable.*"
      ],
      "metadata": {
        "id": "joBdYDKZGH1K"
      }
    },
    {
      "cell_type": "code",
      "source": [
        "# this is\n",
        "    # a multi-line\n",
        "    # comment"
      ],
      "metadata": {
        "id": "-B_FQ-4EGDa3"
      },
      "execution_count": null,
      "outputs": []
    },
    {
      "cell_type": "markdown",
      "source": [
        "\n",
        "\n",
        "---\n",
        "\n"
      ],
      "metadata": {
        "id": "AnWBiepdG3WZ"
      }
    },
    {
      "cell_type": "markdown",
      "source": [
        "### 02 - Conditionals"
      ],
      "metadata": {
        "id": "w4LiV36uQnOf"
      }
    },
    {
      "cell_type": "markdown",
      "source": [
        "This is achieved using `if`, `elif` and `else` or the ternary operator (aka conditional expression)"
      ],
      "metadata": {
        "id": "U-6fbvdrbXJ5"
      }
    },
    {
      "cell_type": "code",
      "source": [
        "a = 2\n",
        "if a < 3:\n",
        "    print('a < 3')\n",
        "else:\n",
        "    print('a >= 3')"
      ],
      "metadata": {
        "colab": {
          "base_uri": "https://localhost:8080/"
        },
        "id": "MONbFoNKbrfO",
        "outputId": "4ae41b64-e4af-4bae-89ec-fe14a8a0d844"
      },
      "execution_count": null,
      "outputs": [
        {
          "output_type": "stream",
          "name": "stdout",
          "text": [
            "a < 3\n"
          ]
        }
      ]
    },
    {
      "cell_type": "markdown",
      "source": [
        "`if` statements can be nested."
      ],
      "metadata": {
        "id": "Fr1O62RDb105"
      }
    },
    {
      "cell_type": "code",
      "source": [
        "a = 15\n",
        "\n",
        "if a < 5:\n",
        "    print('a < 5')\n",
        "else:\n",
        "    if a < 10:\n",
        "        print('5 <= a < 10')\n",
        "    else:\n",
        "        print('a >= 10')"
      ],
      "metadata": {
        "colab": {
          "base_uri": "https://localhost:8080/"
        },
        "id": "mtyC3ksIbzgt",
        "outputId": "09fe47e3-a221-40e9-efda-7fc96e07eb59"
      },
      "execution_count": null,
      "outputs": [
        {
          "output_type": "stream",
          "name": "stdout",
          "text": [
            "a >= 10\n"
          ]
        }
      ]
    },
    {
      "cell_type": "markdown",
      "source": [
        "But the `elif` statement provides for better readability."
      ],
      "metadata": {
        "id": "INokNcNXcHtP"
      }
    },
    {
      "cell_type": "code",
      "source": [
        "a = 15\n",
        "\n",
        "if a < 5:\n",
        "    print('a < 5')\n",
        "elif a < 10:\n",
        "    print('5 <= a < 10')\n",
        "else:\n",
        "    print('a >= 10')"
      ],
      "metadata": {
        "colab": {
          "base_uri": "https://localhost:8080/"
        },
        "id": "vuMMkc9ZcCdK",
        "outputId": "e5964793-639b-47b9-a03e-1a8eee73a740"
      },
      "execution_count": null,
      "outputs": [
        {
          "output_type": "stream",
          "name": "stdout",
          "text": [
            "a >= 10\n"
          ]
        }
      ]
    },
    {
      "cell_type": "markdown",
      "source": [
        "Python also provides a conditional expression (ternary operator):\n",
        "\n",
        "`X if (condition) else Y`\n",
        "\n",
        "returns (and evaluates) X if (conditions) is True, otherwise returns (and evaluates) Y"
      ],
      "metadata": {
        "id": "A9bupp_vckgr"
      }
    },
    {
      "cell_type": "code",
      "source": [
        "a = 5\n",
        "res = 'a < 10' if a < 10 else 'a >= 10'\n",
        "print(res)"
      ],
      "metadata": {
        "colab": {
          "base_uri": "https://localhost:8080/"
        },
        "id": "OBMNLm10cc6Z",
        "outputId": "a660c836-8aa0-4689-eafc-de3580d5ec63"
      },
      "execution_count": null,
      "outputs": [
        {
          "output_type": "stream",
          "name": "stdout",
          "text": [
            "a < 10\n"
          ]
        }
      ]
    },
    {
      "cell_type": "code",
      "source": [
        "a = 15\n",
        "res = 'a < 10' if a < 10 else 'a >= 10'\n",
        "print(res)"
      ],
      "metadata": {
        "colab": {
          "base_uri": "https://localhost:8080/"
        },
        "id": "ieGWgPLpc9_E",
        "outputId": "7d62a6f1-a1b5-4b6f-bc8f-62863a0ef477"
      },
      "execution_count": null,
      "outputs": [
        {
          "output_type": "stream",
          "name": "stdout",
          "text": [
            "a >= 10\n"
          ]
        }
      ]
    },
    {
      "cell_type": "markdown",
      "source": [
        "\n",
        "\n",
        "---\n",
        "**BE CAREFUL!**\n"
      ],
      "metadata": {
        "id": "h60yIWLBdWTO"
      }
    },
    {
      "cell_type": "markdown",
      "source": [
        "*Note that X and Y can be any expression, not just literal values:*"
      ],
      "metadata": {
        "id": "ARVmnFE2dYvN"
      }
    },
    {
      "cell_type": "code",
      "source": [
        "def say_hello():\n",
        "    print('Hello!')\n",
        "\n",
        "def say_goodbye():\n",
        "    print('Goodbye!')"
      ],
      "metadata": {
        "id": "fxFq8yyZdIoK"
      },
      "execution_count": null,
      "outputs": []
    },
    {
      "cell_type": "code",
      "source": [
        "a = 5\n",
        "say_hello() if a < 10 else say_goodbye()"
      ],
      "metadata": {
        "colab": {
          "base_uri": "https://localhost:8080/"
        },
        "id": "I2se5d-jl0_7",
        "outputId": "f63c397c-9de0-4b05-99a0-1f1500abbd33"
      },
      "execution_count": null,
      "outputs": [
        {
          "output_type": "stream",
          "name": "stdout",
          "text": [
            "Hello!\n"
          ]
        }
      ]
    },
    {
      "cell_type": "code",
      "source": [
        "a = 15\n",
        "say_hello() if a < 10 else say_goodbye()"
      ],
      "metadata": {
        "colab": {
          "base_uri": "https://localhost:8080/"
        },
        "id": "uTSLom6Dl8B8",
        "outputId": "742b1b4d-2ec7-4c14-e618-abab63b6302e"
      },
      "execution_count": null,
      "outputs": [
        {
          "output_type": "stream",
          "name": "stdout",
          "text": [
            "Goodbye!\n"
          ]
        }
      ]
    },
    {
      "cell_type": "markdown",
      "source": [
        "\n",
        "\n",
        "---\n",
        "\n"
      ],
      "metadata": {
        "id": "RgNkT9cJdXru"
      }
    },
    {
      "cell_type": "markdown",
      "source": [
        "### 03 - Functions"
      ],
      "metadata": {
        "id": "DUieE-gpqOdV"
      }
    },
    {
      "cell_type": "markdown",
      "source": [
        "Python has many built-in functions and methods we can use\n",
        "Some are available by default:"
      ],
      "metadata": {
        "id": "Ps1C_qQlqTq0"
      }
    },
    {
      "cell_type": "code",
      "source": [
        "s = [1, 2, 3]\n",
        "len(s)"
      ],
      "metadata": {
        "colab": {
          "base_uri": "https://localhost:8080/"
        },
        "id": "u8ZxfkFrqhfo",
        "outputId": "c966fdf9-27cd-41b2-e876-13c861a1a306"
      },
      "execution_count": null,
      "outputs": [
        {
          "output_type": "execute_result",
          "data": {
            "text/plain": [
              "3"
            ]
          },
          "metadata": {},
          "execution_count": 40
        }
      ]
    },
    {
      "cell_type": "markdown",
      "source": [
        "While some need to be imported:"
      ],
      "metadata": {
        "id": "xMrGRmZoqmGo"
      }
    },
    {
      "cell_type": "code",
      "source": [
        "from math import sqrt"
      ],
      "metadata": {
        "id": "ikzGJ0__qlvx"
      },
      "execution_count": null,
      "outputs": []
    },
    {
      "cell_type": "code",
      "source": [
        "sqrt(4)"
      ],
      "metadata": {
        "colab": {
          "base_uri": "https://localhost:8080/"
        },
        "id": "nBIRKsP4qkxM",
        "outputId": "1b775cf7-5f79-47a2-e4b5-009978e93e96"
      },
      "execution_count": null,
      "outputs": [
        {
          "output_type": "execute_result",
          "data": {
            "text/plain": [
              "2.0"
            ]
          },
          "metadata": {},
          "execution_count": 42
        }
      ]
    },
    {
      "cell_type": "markdown",
      "source": [
        "Entire modules can be imported:"
      ],
      "metadata": {
        "id": "-3nsSBNWqt7g"
      }
    },
    {
      "cell_type": "code",
      "source": [
        "import math"
      ],
      "metadata": {
        "id": "-pxYOdRrqr5e"
      },
      "execution_count": null,
      "outputs": []
    },
    {
      "cell_type": "code",
      "source": [
        "math.exp(1)"
      ],
      "metadata": {
        "colab": {
          "base_uri": "https://localhost:8080/"
        },
        "id": "Q4KbWy0_qxTL",
        "outputId": "f896515d-5d78-4302-cada-083590a67224"
      },
      "execution_count": null,
      "outputs": [
        {
          "output_type": "execute_result",
          "data": {
            "text/plain": [
              "2.718281828459045"
            ]
          },
          "metadata": {},
          "execution_count": 44
        }
      ]
    },
    {
      "cell_type": "markdown",
      "source": [
        "We can define our own functions:"
      ],
      "metadata": {
        "id": "HS2lQgj4qz6f"
      }
    },
    {
      "cell_type": "code",
      "source": [
        "def func_1():\n",
        "    print('running func1')"
      ],
      "metadata": {
        "id": "1J70TOinqyaF"
      },
      "execution_count": null,
      "outputs": []
    },
    {
      "cell_type": "code",
      "source": [
        "func_1()"
      ],
      "metadata": {
        "colab": {
          "base_uri": "https://localhost:8080/"
        },
        "id": "aX7htV08rQKc",
        "outputId": "aa700d71-1b88-495b-aee0-3c7740039214"
      },
      "execution_count": null,
      "outputs": [
        {
          "output_type": "stream",
          "name": "stdout",
          "text": [
            "running func1\n"
          ]
        }
      ]
    },
    {
      "cell_type": "markdown",
      "source": [
        "\n",
        "\n",
        "---\n",
        "**BE CAREFUL!**\n"
      ],
      "metadata": {
        "id": "0GFFVC0CraRE"
      }
    },
    {
      "cell_type": "markdown",
      "source": [
        "*Note that to \"call\" or \"invoke\" a function we need to use the `()`.\n",
        "Simply using the function name without the `()` refers to the function, but does not call it:* "
      ],
      "metadata": {
        "id": "o-3IwKLFrc4X"
      }
    },
    {
      "cell_type": "code",
      "source": [
        "func_1"
      ],
      "metadata": {
        "colab": {
          "base_uri": "https://localhost:8080/"
        },
        "id": "r9uQD0yNrRON",
        "outputId": "13024804-6461-4408-e38c-3025fcc81128"
      },
      "execution_count": null,
      "outputs": [
        {
          "output_type": "execute_result",
          "data": {
            "text/plain": [
              "<function __main__.func_1()>"
            ]
          },
          "metadata": {},
          "execution_count": 48
        }
      ]
    },
    {
      "cell_type": "markdown",
      "source": [
        "\n",
        "\n",
        "---\n",
        "\n"
      ],
      "metadata": {
        "id": "w7LBaslRrbiT"
      }
    },
    {
      "cell_type": "markdown",
      "source": [
        "*We can also define functions that take parameters:*"
      ],
      "metadata": {
        "id": "tFm1g74vsLU_"
      }
    },
    {
      "cell_type": "code",
      "source": [
        "def func_2(a, b):\n",
        "    return a * b"
      ],
      "metadata": {
        "id": "y2Odn5PVsO0w"
      },
      "execution_count": null,
      "outputs": []
    },
    {
      "cell_type": "markdown",
      "source": [
        "\n",
        "\n",
        "---\n",
        "**BE CAREFUL!**\n"
      ],
      "metadata": {
        "id": "jSw9oB10so0B"
      }
    },
    {
      "cell_type": "markdown",
      "source": [
        "*Note that `a` and `b` can be any type (this is an example of polymorphism - which we will look into more detail later in this course).\n",
        "But the function will fail to run if `a` and `b` are types that are not \"compatible\" with the ` * ` operator:*"
      ],
      "metadata": {
        "id": "SxkG44OysvPI"
      }
    },
    {
      "cell_type": "code",
      "source": [
        "func_2(3, 2)"
      ],
      "metadata": {
        "colab": {
          "base_uri": "https://localhost:8080/"
        },
        "id": "uR5dV-jpspb3",
        "outputId": "ce20d6eb-03c0-4465-df70-ced5b5f70ca6"
      },
      "execution_count": null,
      "outputs": [
        {
          "output_type": "execute_result",
          "data": {
            "text/plain": [
              "6"
            ]
          },
          "metadata": {},
          "execution_count": 50
        }
      ]
    },
    {
      "cell_type": "code",
      "source": [
        "func_2('a', 3)"
      ],
      "metadata": {
        "colab": {
          "base_uri": "https://localhost:8080/",
          "height": 35
        },
        "id": "5OPLXrZwsTBV",
        "outputId": "11dd9f1e-d664-47f0-a4f8-eeb824114688"
      },
      "execution_count": null,
      "outputs": [
        {
          "output_type": "execute_result",
          "data": {
            "text/plain": [
              "'aaa'"
            ],
            "application/vnd.google.colaboratory.intrinsic+json": {
              "type": "string"
            }
          },
          "metadata": {},
          "execution_count": 51
        }
      ]
    },
    {
      "cell_type": "code",
      "source": [
        "func_2('a', 'b')"
      ],
      "metadata": {
        "colab": {
          "base_uri": "https://localhost:8080/",
          "height": 236
        },
        "id": "3Gg_lph5tJqO",
        "outputId": "124718a1-6bdf-4f8d-d275-7167ee55e405"
      },
      "execution_count": null,
      "outputs": [
        {
          "output_type": "error",
          "ename": "TypeError",
          "evalue": "ignored",
          "traceback": [
            "\u001b[0;31m---------------------------------------------------------------------------\u001b[0m",
            "\u001b[0;31mTypeError\u001b[0m                                 Traceback (most recent call last)",
            "\u001b[0;32m<ipython-input-52-f5ef76169988>\u001b[0m in \u001b[0;36m<module>\u001b[0;34m\u001b[0m\n\u001b[0;32m----> 1\u001b[0;31m \u001b[0mfunc_2\u001b[0m\u001b[0;34m(\u001b[0m\u001b[0;34m'a'\u001b[0m\u001b[0;34m,\u001b[0m \u001b[0;34m'b'\u001b[0m\u001b[0;34m)\u001b[0m\u001b[0;34m\u001b[0m\u001b[0;34m\u001b[0m\u001b[0m\n\u001b[0m",
            "\u001b[0;32m<ipython-input-49-94e0d01c7944>\u001b[0m in \u001b[0;36mfunc_2\u001b[0;34m(a, b)\u001b[0m\n\u001b[1;32m      1\u001b[0m \u001b[0;32mdef\u001b[0m \u001b[0mfunc_2\u001b[0m\u001b[0;34m(\u001b[0m\u001b[0ma\u001b[0m\u001b[0;34m,\u001b[0m \u001b[0mb\u001b[0m\u001b[0;34m)\u001b[0m\u001b[0;34m:\u001b[0m\u001b[0;34m\u001b[0m\u001b[0;34m\u001b[0m\u001b[0m\n\u001b[0;32m----> 2\u001b[0;31m     \u001b[0;32mreturn\u001b[0m \u001b[0ma\u001b[0m \u001b[0;34m*\u001b[0m \u001b[0mb\u001b[0m\u001b[0;34m\u001b[0m\u001b[0;34m\u001b[0m\u001b[0m\n\u001b[0m",
            "\u001b[0;31mTypeError\u001b[0m: can't multiply sequence by non-int of type 'str'"
          ]
        }
      ]
    },
    {
      "cell_type": "markdown",
      "source": [
        "\n",
        "\n",
        "---\n",
        "\n"
      ],
      "metadata": {
        "id": "-BUvGWXfsqCx"
      }
    },
    {
      "cell_type": "markdown",
      "source": [
        "It is possible to use type annotations:"
      ],
      "metadata": {
        "id": "Omjd-9pxtdsy"
      }
    },
    {
      "cell_type": "code",
      "source": [
        "def func_3(a: int, b: int):\n",
        "    return a * b"
      ],
      "metadata": {
        "id": "bBSgIPTZtgdv"
      },
      "execution_count": null,
      "outputs": []
    },
    {
      "cell_type": "code",
      "source": [
        "func_3(2 ,3)"
      ],
      "metadata": {
        "colab": {
          "base_uri": "https://localhost:8080/"
        },
        "id": "_ns0NQR3tkua",
        "outputId": "60e0c7db-d6bc-4384-bda4-3d07398abde9"
      },
      "execution_count": null,
      "outputs": [
        {
          "output_type": "execute_result",
          "data": {
            "text/plain": [
              "6"
            ]
          },
          "metadata": {},
          "execution_count": 54
        }
      ]
    },
    {
      "cell_type": "code",
      "source": [
        "func_3('a', 2)"
      ],
      "metadata": {
        "colab": {
          "base_uri": "https://localhost:8080/",
          "height": 35
        },
        "id": "A8vStEnhtmTl",
        "outputId": "f55fbcd5-d98f-4d5c-cc4d-4b7e6eeb045f"
      },
      "execution_count": null,
      "outputs": [
        {
          "output_type": "execute_result",
          "data": {
            "text/plain": [
              "'aa'"
            ],
            "application/vnd.google.colaboratory.intrinsic+json": {
              "type": "string"
            }
          },
          "metadata": {},
          "execution_count": 55
        }
      ]
    },
    {
      "cell_type": "markdown",
      "source": [
        "\n",
        "\n",
        "---\n",
        "**BE CAREFUL!**\n"
      ],
      "metadata": {
        "id": "KtGSmFuYturH"
      }
    },
    {
      "cell_type": "markdown",
      "source": [
        "*But as you can see, these do not enforce a data type! They are simply metadata that can be used by external libraries, and many IDE's.*"
      ],
      "metadata": {
        "id": "D7oiV6yAtvyI"
      }
    },
    {
      "cell_type": "markdown",
      "source": [
        "\n",
        "\n",
        "---\n",
        "\n"
      ],
      "metadata": {
        "id": "FpMgxPgityHj"
      }
    },
    {
      "cell_type": "markdown",
      "source": [
        "Functions are objects, just like integers are objects, and they can be assigned to variables just as an integer can:"
      ],
      "metadata": {
        "id": "fLNGnWhyuB5J"
      }
    },
    {
      "cell_type": "code",
      "source": [
        "my_func = func_3"
      ],
      "metadata": {
        "id": "SdAXSqs8twgd"
      },
      "execution_count": null,
      "outputs": []
    },
    {
      "cell_type": "code",
      "source": [
        "my_func('a', 2)"
      ],
      "metadata": {
        "colab": {
          "base_uri": "https://localhost:8080/",
          "height": 35
        },
        "id": "uDIN0gV8tqZ5",
        "outputId": "dadd66d1-a754-4f15-d067-5b13006d3863"
      },
      "execution_count": null,
      "outputs": [
        {
          "output_type": "execute_result",
          "data": {
            "text/plain": [
              "'aa'"
            ],
            "application/vnd.google.colaboratory.intrinsic+json": {
              "type": "string"
            }
          },
          "metadata": {},
          "execution_count": 57
        }
      ]
    },
    {
      "cell_type": "markdown",
      "source": [
        "\n",
        "\n",
        "---\n",
        "**BE CAREFUL!**\n"
      ],
      "metadata": {
        "id": "JOcRfUlTuU89"
      }
    },
    {
      "cell_type": "markdown",
      "source": [
        "*Functions must always return something. If you do not specify a return value, Python will automatically return the `None` object:*"
      ],
      "metadata": {
        "id": "V3muNLi4uWAv"
      }
    },
    {
      "cell_type": "code",
      "source": [
        "def func_4():\n",
        "    # does something but does not return a value\n",
        "    a = 2"
      ],
      "metadata": {
        "id": "5FGjXXz6uPga"
      },
      "execution_count": null,
      "outputs": []
    },
    {
      "cell_type": "code",
      "source": [
        "res = func_4()"
      ],
      "metadata": {
        "id": "EoVmqsB7urU3"
      },
      "execution_count": null,
      "outputs": []
    },
    {
      "cell_type": "code",
      "source": [
        "print(res)"
      ],
      "metadata": {
        "colab": {
          "base_uri": "https://localhost:8080/"
        },
        "id": "M7dcQt0NuthJ",
        "outputId": "b4101173-d87b-4cdc-9b29-994f9c100f2e"
      },
      "execution_count": null,
      "outputs": [
        {
          "output_type": "stream",
          "name": "stdout",
          "text": [
            "None\n"
          ]
        }
      ]
    },
    {
      "cell_type": "markdown",
      "source": [
        "\n",
        "\n",
        "---\n",
        "\n"
      ],
      "metadata": {
        "id": "S9xtGaEKuV3u"
      }
    },
    {
      "cell_type": "markdown",
      "source": [
        "The `def` keyword is an executable piece of code that creates the function (an instance of the function class) and essentially assigns it to a variable name ( the function name)."
      ],
      "metadata": {
        "id": "vMk4UlnkuzWv"
      }
    },
    {
      "cell_type": "markdown",
      "source": [
        "\n",
        "\n",
        "---\n",
        "**BE CAREFUL!**\n"
      ],
      "metadata": {
        "id": "Oh_5v3_IvKax"
      }
    },
    {
      "cell_type": "markdown",
      "source": [
        "*Note that the function is defined when `def` is reached, but the code inside it is not evaluated until the function is called.\n",
        "This is why we can define functions that call other functions defined later - as long as we don't call them before all the necessary functions are defined.\n",
        "For example, the following will work:*"
      ],
      "metadata": {
        "id": "-mG94d6IvMzI"
      }
    },
    {
      "cell_type": "code",
      "source": [
        "def fn_1():\n",
        "    fn_2()\n",
        "\n",
        "def fn_2():\n",
        "    print('Hello')\n",
        "\n",
        "fn_1()"
      ],
      "metadata": {
        "colab": {
          "base_uri": "https://localhost:8080/"
        },
        "id": "PYFrmNQkvh2t",
        "outputId": "0ddeb14c-a4c1-4324-cf94-59956bc3bd02"
      },
      "execution_count": null,
      "outputs": [
        {
          "output_type": "stream",
          "name": "stdout",
          "text": [
            "Hello\n"
          ]
        }
      ]
    },
    {
      "cell_type": "markdown",
      "source": [
        "*But this will not work:*"
      ],
      "metadata": {
        "id": "ydiZ4yCrv3ZH"
      }
    },
    {
      "cell_type": "code",
      "source": [
        "def fn_3():\n",
        "    fn_4\n",
        "\n",
        "fn_3()\n",
        "\n",
        "def fn_4():\n",
        "    print('Hello')"
      ],
      "metadata": {
        "colab": {
          "base_uri": "https://localhost:8080/",
          "height": 357
        },
        "id": "Qzzqefnivu-A",
        "outputId": "24699942-3477-439d-96df-d163be713ac8"
      },
      "execution_count": null,
      "outputs": [
        {
          "output_type": "error",
          "ename": "NameError",
          "evalue": "ignored",
          "traceback": [
            "\u001b[0;31m---------------------------------------------------------------------------\u001b[0m",
            "\u001b[0;31mNameError\u001b[0m                                 Traceback (most recent call last)",
            "\u001b[0;32m<ipython-input-62-9550e7a77242>\u001b[0m in \u001b[0;36m<module>\u001b[0;34m\u001b[0m\n\u001b[1;32m      2\u001b[0m     \u001b[0mfn_4\u001b[0m\u001b[0;34m\u001b[0m\u001b[0;34m\u001b[0m\u001b[0m\n\u001b[1;32m      3\u001b[0m \u001b[0;34m\u001b[0m\u001b[0m\n\u001b[0;32m----> 4\u001b[0;31m \u001b[0mfn_3\u001b[0m\u001b[0;34m(\u001b[0m\u001b[0;34m)\u001b[0m\u001b[0;34m\u001b[0m\u001b[0;34m\u001b[0m\u001b[0m\n\u001b[0m\u001b[1;32m      5\u001b[0m \u001b[0;34m\u001b[0m\u001b[0m\n\u001b[1;32m      6\u001b[0m \u001b[0;32mdef\u001b[0m \u001b[0mfn_4\u001b[0m\u001b[0;34m(\u001b[0m\u001b[0;34m)\u001b[0m\u001b[0;34m:\u001b[0m\u001b[0;34m\u001b[0m\u001b[0;34m\u001b[0m\u001b[0m\n",
            "\u001b[0;32m<ipython-input-62-9550e7a77242>\u001b[0m in \u001b[0;36mfn_3\u001b[0;34m()\u001b[0m\n\u001b[1;32m      1\u001b[0m \u001b[0;32mdef\u001b[0m \u001b[0mfn_3\u001b[0m\u001b[0;34m(\u001b[0m\u001b[0;34m)\u001b[0m\u001b[0;34m:\u001b[0m\u001b[0;34m\u001b[0m\u001b[0;34m\u001b[0m\u001b[0m\n\u001b[0;32m----> 2\u001b[0;31m     \u001b[0mfn_4\u001b[0m\u001b[0;34m\u001b[0m\u001b[0;34m\u001b[0m\u001b[0m\n\u001b[0m\u001b[1;32m      3\u001b[0m \u001b[0;34m\u001b[0m\u001b[0m\n\u001b[1;32m      4\u001b[0m \u001b[0mfn_3\u001b[0m\u001b[0;34m(\u001b[0m\u001b[0;34m)\u001b[0m\u001b[0;34m\u001b[0m\u001b[0;34m\u001b[0m\u001b[0m\n\u001b[1;32m      5\u001b[0m \u001b[0;34m\u001b[0m\u001b[0m\n",
            "\u001b[0;31mNameError\u001b[0m: name 'fn_4' is not defined"
          ]
        }
      ]
    },
    {
      "cell_type": "markdown",
      "source": [
        "\n",
        "\n",
        "---\n",
        "\n"
      ],
      "metadata": {
        "id": "0h9i3hWVv2Mm"
      }
    },
    {
      "cell_type": "markdown",
      "source": [
        "We also have the `lambda` keyword, that also creates a new function, but does not assign it to any specific name - instead it just returns the function object - which we can, if we wish, assign yo a variable ourselves:"
      ],
      "metadata": {
        "id": "sR8VQFhhwJR9"
      }
    },
    {
      "cell_type": "code",
      "source": [
        "func_5 = lambda x: x ** 2"
      ],
      "metadata": {
        "id": "PLB2IQx-wXHP"
      },
      "execution_count": null,
      "outputs": []
    },
    {
      "cell_type": "code",
      "source": [
        "func_5"
      ],
      "metadata": {
        "colab": {
          "base_uri": "https://localhost:8080/"
        },
        "id": "nOYTFI1kwaaL",
        "outputId": "88af6200-0a73-4a3a-a541-bbf244a22238"
      },
      "execution_count": null,
      "outputs": [
        {
          "output_type": "execute_result",
          "data": {
            "text/plain": [
              "<function __main__.<lambda>(x)>"
            ]
          },
          "metadata": {},
          "execution_count": 64
        }
      ]
    },
    {
      "cell_type": "code",
      "source": [
        "func_5(2)"
      ],
      "metadata": {
        "colab": {
          "base_uri": "https://localhost:8080/"
        },
        "id": "eMD22An3wbkg",
        "outputId": "a022c6f1-b0dc-4aa5-93e2-09d61407e517"
      },
      "execution_count": null,
      "outputs": [
        {
          "output_type": "execute_result",
          "data": {
            "text/plain": [
              "4"
            ]
          },
          "metadata": {},
          "execution_count": 65
        }
      ]
    },
    {
      "cell_type": "markdown",
      "source": [
        "### 04 - The While Loop"
      ],
      "metadata": {
        "id": "-iibcL9XwmF_"
      }
    },
    {
      "cell_type": "markdown",
      "source": [
        "The while loop is a way to repeat a block of code as long as a specified condition is met.\n",
        "\n",
        "```\n",
        "while <exp is true>:\n",
        "    code block\n",
        "```"
      ],
      "metadata": {
        "id": "hGMaflo5wp6V"
      }
    },
    {
      "cell_type": "code",
      "source": [
        "i = 0\n",
        "while i < 5:\n",
        "    print(i)\n",
        "    i += 1"
      ],
      "metadata": {
        "colab": {
          "base_uri": "https://localhost:8080/"
        },
        "id": "dgAFVi2W15TD",
        "outputId": "e7fa06bd-10dc-4ef5-ae8a-fe6285838014"
      },
      "execution_count": null,
      "outputs": [
        {
          "output_type": "stream",
          "name": "stdout",
          "text": [
            "0\n",
            "1\n",
            "2\n",
            "3\n",
            "4\n"
          ]
        }
      ]
    },
    {
      "cell_type": "markdown",
      "source": [
        "\n",
        "\n",
        "---\n",
        "**BE CAREFUL!**\n"
      ],
      "metadata": {
        "id": "d5iBIchd2cBW"
      }
    },
    {
      "cell_type": "markdown",
      "source": [
        "*Note that there is no guarantee that a while loop will execute at all, not even once, because the condition is tested before the loop runs.*"
      ],
      "metadata": {
        "id": "hROR-Yaa2eFU"
      }
    },
    {
      "cell_type": "code",
      "source": [
        "i = 5\n",
        "while i < 5:\n",
        "    print(i)\n",
        "    i += 1"
      ],
      "metadata": {
        "id": "mlxWoTnf2cqu"
      },
      "execution_count": null,
      "outputs": []
    },
    {
      "cell_type": "markdown",
      "source": [
        "*Some languages have a concept of a while loop that is guaranteed to executed at least one:*\n",
        "```\n",
        "do\n",
        "    code block\n",
        "while <exp is true>\n",
        "```\n",
        "*There is no such thing in Python, but it's easy to write code that works that way.*\n"
      ],
      "metadata": {
        "id": "TWR8uxVQ20el"
      }
    },
    {
      "cell_type": "markdown",
      "source": [
        "\n",
        "\n",
        "---\n",
        "\n"
      ],
      "metadata": {
        "id": "ezdXwHW02dCv"
      }
    },
    {
      "cell_type": "markdown",
      "source": [
        "We create an infinite loop and test the condition inside the loop and break out of the loop when the condition becomes false:"
      ],
      "metadata": {
        "id": "NxEFtpJo3UkW"
      }
    },
    {
      "cell_type": "code",
      "source": [
        "i = 5\n",
        "\n",
        "while True:\n",
        "    print(i)\n",
        "    if i >= 5:\n",
        "        break"
      ],
      "metadata": {
        "colab": {
          "base_uri": "https://localhost:8080/"
        },
        "id": "KZcXo97G2PnB",
        "outputId": "484c90da-8189-492b-b3a6-7bf34df8d8c6"
      },
      "execution_count": null,
      "outputs": [
        {
          "output_type": "stream",
          "name": "stdout",
          "text": [
            "5\n"
          ]
        }
      ]
    },
    {
      "cell_type": "markdown",
      "source": [
        "As you can see the loop executed once ( and will always execute at least once, no matter the starting value of `i`.)\n",
        "This is a standard pattern and can be useful in a varity of scenarios.\n",
        "A simple example might be getting repetitive user input until the user performs and action or provides some specific value.\n",
        "we might try it this way:"
      ],
      "metadata": {
        "id": "SmOf4eHy3m2y"
      }
    },
    {
      "cell_type": "code",
      "source": [
        "min_length = 2\n",
        "name = input('Please enter your name:')\n",
        "while not(len(name) >= min_length and name.isprintable() and name.isalpha()):\n",
        "    name = input('Please enter your name:')\n",
        "print('Hello, {0}'.format(name))"
      ],
      "metadata": {
        "colab": {
          "base_uri": "https://localhost:8080/"
        },
        "id": "1TwOVhUL3jml",
        "outputId": "1a581efa-33c0-4faf-c913-7db10bc10fa9"
      },
      "execution_count": null,
      "outputs": [
        {
          "output_type": "stream",
          "name": "stdout",
          "text": [
            "Please enter your name:a123\n",
            "Please enter your name:a\n",
            "Please enter your name:serdar\n",
            "Hello, serdar\n"
          ]
        }
      ]
    },
    {
      "cell_type": "markdown",
      "source": [
        "This works just fine, but notice that we had to write the code to elicit user input twice in our code. This is not good practice, and we can easily clean this up as follows:"
      ],
      "metadata": {
        "id": "XdbVyRRE4pwV"
      }
    },
    {
      "cell_type": "code",
      "source": [
        "min_length = 2\n",
        "\n",
        "while True:\n",
        "    name = input('Please enter your name:')\n",
        "    if len(name) >= min_length and name.isprintable() and name.isalpha():\n",
        "        break\n",
        "\n",
        "print('Hello, {0}'.format(name))"
      ],
      "metadata": {
        "colab": {
          "base_uri": "https://localhost:8080/"
        },
        "id": "-v91qpyf4aUG",
        "outputId": "ea49d74a-9eb2-41a3-cbf5-af27a0ab79f4"
      },
      "execution_count": null,
      "outputs": [
        {
          "output_type": "stream",
          "name": "stdout",
          "text": [
            "Please enter your name:a\n",
            "Please enter your name:123\n",
            "Please enter your name:serdar\n",
            "Hello, serdar\n"
          ]
        }
      ]
    },
    {
      "cell_type": "markdown",
      "source": [
        "We saw how the `break` statement exists the while loop and execution resumes on the line immediately after the while code block.\n",
        "\n",
        "Sometimes, we just want to cut the current iteration short, but continue looping, without exiting the loop itself.\n",
        "\n",
        "This is done using `continue` statement."
      ],
      "metadata": {
        "id": "4Vj9eZwX5LHC"
      }
    },
    {
      "cell_type": "code",
      "source": [
        "a = 0\n",
        "while a < 10:\n",
        "    a += 1\n",
        "    if a % 2:\n",
        "        continue\n",
        "    print(a)"
      ],
      "metadata": {
        "colab": {
          "base_uri": "https://localhost:8080/"
        },
        "id": "IUEZ16-44_iO",
        "outputId": "a30afc4c-da0d-419a-852d-955674a0b2f0"
      },
      "execution_count": null,
      "outputs": [
        {
          "output_type": "stream",
          "name": "stdout",
          "text": [
            "2\n",
            "4\n",
            "6\n",
            "8\n",
            "10\n"
          ]
        }
      ]
    },
    {
      "cell_type": "markdown",
      "source": [
        "\n",
        "\n",
        "---\n",
        "**BE CAREFUL!**\n"
      ],
      "metadata": {
        "id": "IKX7dyKMPSFC"
      }
    },
    {
      "cell_type": "markdown",
      "source": [
        "*The while loop also can be used with an `else` clause!!*\n",
        "\n",
        "*The `else` is executed if the `while` loop terminated without hitting a `break` statement (we say the loop terminated normally)*\n",
        "\n",
        "*Suppose we want to test if some value is present in some list, and if not we want to append it to the list (again there are better ways of doing this):*\n",
        "\n",
        "*First, here's how we might do it wihout the benefit of the `else` clause:*"
      ],
      "metadata": {
        "id": "VuWfr8EA5tJl"
      }
    },
    {
      "cell_type": "code",
      "source": [
        "l = [1, 2, 3]\n",
        "val = 10\n",
        "\n",
        "found = False\n",
        "idx = 0\n",
        "while idx < len(l):\n",
        "    if l[idx] == val:\n",
        "        found = True\n",
        "        break\n",
        "    idx += 1\n",
        "\n",
        "if not found:\n",
        "    l.append(val)\n",
        "print(l)"
      ],
      "metadata": {
        "colab": {
          "base_uri": "https://localhost:8080/"
        },
        "id": "oI4TFIMO5poQ",
        "outputId": "b7840556-eac7-4dac-a2b1-0c5f9b7b1c92"
      },
      "execution_count": null,
      "outputs": [
        {
          "output_type": "stream",
          "name": "stdout",
          "text": [
            "[1, 2, 3, 10]\n"
          ]
        }
      ]
    },
    {
      "cell_type": "markdown",
      "source": [
        "Using the `else` clause is easier:"
      ],
      "metadata": {
        "id": "S6v7XH4i7CwY"
      }
    },
    {
      "cell_type": "code",
      "source": [
        "l = [1, 2, 3]\n",
        "val = 10\n",
        "\n",
        "idx = 0\n",
        "while idx < len(l):\n",
        "    if l[idx] == val:\n",
        "        break\n",
        "    idx += 1\n",
        "else:\n",
        "    l.append(val)\n",
        "\n",
        "print(l)"
      ],
      "metadata": {
        "colab": {
          "base_uri": "https://localhost:8080/"
        },
        "id": "KPurKYXd7AwD",
        "outputId": "1f903755-0619-4820-b30b-991a60cbe380"
      },
      "execution_count": null,
      "outputs": [
        {
          "output_type": "stream",
          "name": "stdout",
          "text": [
            "[1, 2, 3, 10]\n"
          ]
        }
      ]
    },
    {
      "cell_type": "code",
      "source": [
        "l = [1, 2, 3]\n",
        "val = 3\n",
        "\n",
        "idx = 0\n",
        "while idx < len(l):\n",
        "    if l[idx] == val:\n",
        "        break\n",
        "    idx += 1\n",
        "else:\n",
        "    l.append(val)\n",
        "\n",
        "print(l)"
      ],
      "metadata": {
        "colab": {
          "base_uri": "https://localhost:8080/"
        },
        "id": "EWkiS2Q77rUX",
        "outputId": "98534d9c-7422-4e9f-c2cc-0842ee11c73d"
      },
      "execution_count": null,
      "outputs": [
        {
          "output_type": "stream",
          "name": "stdout",
          "text": [
            "[1, 2, 3]\n"
          ]
        }
      ]
    },
    {
      "cell_type": "markdown",
      "source": [
        "\n",
        "\n",
        "---\n",
        "\n"
      ],
      "metadata": {
        "id": "64x6CPpUPqiU"
      }
    },
    {
      "cell_type": "markdown",
      "source": [
        "### 05 - Loop Break and Continue inside a Try...Except...Finally"
      ],
      "metadata": {
        "id": "oUHikNHZ778M"
      }
    },
    {
      "cell_type": "markdown",
      "source": [
        "Recall that in a `try` statement, the `finally` clause always runs:"
      ],
      "metadata": {
        "id": "YdM7Psvk-d7l"
      }
    },
    {
      "cell_type": "code",
      "source": [
        "from six import b\n",
        "a = 10\n",
        "b = 1\n",
        "try:\n",
        "    a / b\n",
        "except ZeroDivisionError:\n",
        "    print('division by 0')\n",
        "finally:\n",
        "    print('this always executes')"
      ],
      "metadata": {
        "colab": {
          "base_uri": "https://localhost:8080/"
        },
        "id": "K3tUkRPS76r_",
        "outputId": "6e384934-e545-4cc5-824a-302f754382fc"
      },
      "execution_count": null,
      "outputs": [
        {
          "output_type": "stream",
          "name": "stdout",
          "text": [
            "this always executes\n"
          ]
        }
      ]
    },
    {
      "cell_type": "code",
      "source": [
        "from six import b\n",
        "a = 10\n",
        "b = 0\n",
        "try:\n",
        "    a / b\n",
        "except ZeroDivisionError:\n",
        "    print('division by 0')\n",
        "finally:\n",
        "    print('this always executes')"
      ],
      "metadata": {
        "colab": {
          "base_uri": "https://localhost:8080/"
        },
        "id": "4Wv3OpH--ucg",
        "outputId": "95d3921c-10ec-49fd-c2cb-e5c33e62c14e"
      },
      "execution_count": null,
      "outputs": [
        {
          "output_type": "stream",
          "name": "stdout",
          "text": [
            "division by 0\n",
            "this always executes\n"
          ]
        }
      ]
    },
    {
      "cell_type": "markdown",
      "source": [
        "So, what happens when using a `try` statement within a `while` loop, and a `continue` or `break` statement is encountered?"
      ],
      "metadata": {
        "id": "21B0Jn8K-6z6"
      }
    },
    {
      "cell_type": "code",
      "source": [
        "a = 0\n",
        "b = 2\n",
        "\n",
        "while a < 3:\n",
        "    print('----------')\n",
        "    a += 1\n",
        "    b -=1\n",
        "    try:\n",
        "        res = a / b\n",
        "    except ZeroDivisionError:\n",
        "        print('{0}, {1} - division by 0'.format(a, b))\n",
        "        res = 0\n",
        "        continue\n",
        "    finally:\n",
        "        print('{0}, {1} - always executes'.format(a, b))\n",
        "    print('{0}, {1} - main loop'.format(a, b))"
      ],
      "metadata": {
        "colab": {
          "base_uri": "https://localhost:8080/"
        },
        "id": "p_AEQuUE-xHB",
        "outputId": "6bb1d52c-9ef3-4642-9de3-ce90b681b850"
      },
      "execution_count": null,
      "outputs": [
        {
          "output_type": "stream",
          "name": "stdout",
          "text": [
            "----------\n",
            "1, 1 - always executes\n",
            "1, 1 - main loop\n",
            "----------\n",
            "2, 0 - division by 0\n",
            "2, 0 - always executes\n",
            "----------\n",
            "3, -1 - always executes\n",
            "3, -1 - main loop\n"
          ]
        }
      ]
    },
    {
      "cell_type": "markdown",
      "source": [
        "As you can see in the above result, the finally code still executed, even though the current iteration was cut short with the continue statement.\n",
        "<p>This works the same with a break statement:"
      ],
      "metadata": {
        "id": "1c-NPAue_r_G"
      }
    },
    {
      "cell_type": "code",
      "source": [
        "a = 0\n",
        "b = 2\n",
        "\n",
        "while a < 3:\n",
        "    print('----------')\n",
        "    a += 1\n",
        "    b -=1\n",
        "    try:\n",
        "        res = a / b\n",
        "    except ZeroDivisionError:\n",
        "        print('{0}, {1} - division by 0'.format(a, b))\n",
        "        res = 0\n",
        "        break\n",
        "    finally:\n",
        "        print('{0}, {1} - always executes'.format(a, b))\n",
        "    print('{0}, {1} - main loop'.format(a, b))"
      ],
      "metadata": {
        "colab": {
          "base_uri": "https://localhost:8080/"
        },
        "id": "CfGnHjre_pH7",
        "outputId": "7807dfc0-3a01-493f-9fcb-61ddea1a2ddf"
      },
      "execution_count": null,
      "outputs": [
        {
          "output_type": "stream",
          "name": "stdout",
          "text": [
            "----------\n",
            "1, 1 - always executes\n",
            "1, 1 - main loop\n",
            "----------\n",
            "2, 0 - division by 0\n",
            "2, 0 - always executes\n"
          ]
        }
      ]
    },
    {
      "cell_type": "markdown",
      "source": [
        "We can even combine all this with the `else` clause:"
      ],
      "metadata": {
        "id": "Sx9fog_6AEqI"
      }
    },
    {
      "cell_type": "code",
      "source": [
        "a = 0\n",
        "b = 2\n",
        "\n",
        "while a < 3:\n",
        "    print('----------')\n",
        "    a += 1\n",
        "    b -=1\n",
        "    try:\n",
        "        res = a / b\n",
        "    except ZeroDivisionError:\n",
        "        print('{0}, {1} - division by 0'.format(a, b))\n",
        "        res = 0\n",
        "        break\n",
        "    finally:\n",
        "        print('{0}, {1} - always executes'.format(a, b))\n",
        "    print('{0}, {1} - main loop'.format(a, b))\n",
        "else:\n",
        "    print('\\n\\nno errors were encountered!')"
      ],
      "metadata": {
        "colab": {
          "base_uri": "https://localhost:8080/"
        },
        "id": "Poytn0R9ADN6",
        "outputId": "4719bedb-ff0f-4bbf-af21-c8a2898129bd"
      },
      "execution_count": null,
      "outputs": [
        {
          "output_type": "stream",
          "name": "stdout",
          "text": [
            "----------\n",
            "1, 1 - always executes\n",
            "1, 1 - main loop\n",
            "----------\n",
            "2, 0 - division by 0\n",
            "2, 0 - always executes\n"
          ]
        }
      ]
    },
    {
      "cell_type": "code",
      "source": [
        "a = 0\n",
        "b = 5\n",
        "\n",
        "while a < 3:\n",
        "    print('----------')\n",
        "    a += 1\n",
        "    b -=1\n",
        "    try:\n",
        "        res = a / b\n",
        "    except ZeroDivisionError:\n",
        "        print('{0}, {1} - division by 0'.format(a, b))\n",
        "        res = 0\n",
        "        break\n",
        "    finally:\n",
        "        print('{0}, {1} - always executes'.format(a, b))\n",
        "    print('{0}, {1} - main loop'.format(a, b))\n",
        "else:\n",
        "    print('\\n\\nno errors were encountered!')"
      ],
      "metadata": {
        "colab": {
          "base_uri": "https://localhost:8080/"
        },
        "id": "oe49LGmLAUTT",
        "outputId": "8915e233-7c0a-44cb-98d9-73a7cb75cf8b"
      },
      "execution_count": null,
      "outputs": [
        {
          "output_type": "stream",
          "name": "stdout",
          "text": [
            "----------\n",
            "1, 4 - always executes\n",
            "1, 4 - main loop\n",
            "----------\n",
            "2, 3 - always executes\n",
            "2, 3 - main loop\n",
            "----------\n",
            "3, 2 - always executes\n",
            "3, 2 - main loop\n",
            "\n",
            "\n",
            "no errors were encountered!\n"
          ]
        }
      ]
    },
    {
      "cell_type": "markdown",
      "source": [
        "### 06 - The For Loop"
      ],
      "metadata": {
        "id": "5PLXfwC4Ay3e"
      }
    },
    {
      "cell_type": "markdown",
      "source": [
        "In Python, an iterable is an object capable of returning values one at a time.\n",
        "\n",
        "Many objects in Python are iterable: lists, strings, file objects and many more."
      ],
      "metadata": {
        "id": "DHYw3dvRBQIc"
      }
    },
    {
      "cell_type": "markdown",
      "source": [
        "\n",
        "\n",
        "---\n",
        "\n",
        "**BE CAREFUL!**"
      ],
      "metadata": {
        "id": "EV-7BSlkBgtS"
      }
    },
    {
      "cell_type": "markdown",
      "source": [
        "*Note: Our definition of an iterable did not state it was a collection of values - we only said it is an object that can return values one at a time - that's a subtle difference that when we look into iterators and generators.*"
      ],
      "metadata": {
        "id": "SV956iMGBntC"
      }
    },
    {
      "cell_type": "markdown",
      "source": [
        "\n",
        "\n",
        "---\n",
        "\n"
      ],
      "metadata": {
        "id": "QVeb5ix7Biyf"
      }
    },
    {
      "cell_type": "markdown",
      "source": [
        "The `for` keyword can be used to iterate an iterable.\n",
        "\n",
        "If you come with a background in another programming language, you have probably seen for loops defined this way:\n",
        "\n",
        "\n",
        "```\n",
        "for (int i=0; i < 5; i++) {\n",
        "    //code block\n",
        "}\n",
        "```\n",
        "This form of the `for` loop is simply a repetition, very similar to a `while` loop - in fact it is equivalent to what we could write in Python as follows:\n"
      ],
      "metadata": {
        "id": "97Q7GFH-CAxU"
      }
    },
    {
      "cell_type": "code",
      "source": [
        "i = 0\n",
        "while i < 5:\n",
        "    #code block\n",
        "    print(i)\n",
        "    i += 1\n",
        "i = None"
      ],
      "metadata": {
        "colab": {
          "base_uri": "https://localhost:8080/"
        },
        "id": "2Duhk3wbAYmI",
        "outputId": "7a87a569-5840-431d-bb9d-c6038a152a33"
      },
      "execution_count": null,
      "outputs": [
        {
          "output_type": "stream",
          "name": "stdout",
          "text": [
            "0\n",
            "1\n",
            "2\n",
            "3\n",
            "4\n"
          ]
        }
      ]
    },
    {
      "cell_type": "markdown",
      "source": [
        "But that's NOT what the `for` statement does in Python - the `for` statement is a way to iterate over iterables, and has nothing to do with the `for` loop we just saw. The closest equivalent we have in Python is the `while` loop written as above.\n",
        "\n",
        "The use the `for` loop in Python, we require an iterable object to work with.\n",
        "\n",
        "A simple iterable object is generated via the `range()` function"
      ],
      "metadata": {
        "id": "Bxnx3KS4C09W"
      }
    },
    {
      "cell_type": "code",
      "source": [
        "for i in range(5):\n",
        "    print(i)"
      ],
      "metadata": {
        "colab": {
          "base_uri": "https://localhost:8080/"
        },
        "id": "xTpHbp5yCxji",
        "outputId": "5d03be74-9c7d-4f8f-899f-da2782ba26cd"
      },
      "execution_count": null,
      "outputs": [
        {
          "output_type": "stream",
          "name": "stdout",
          "text": [
            "0\n",
            "1\n",
            "2\n",
            "3\n",
            "4\n"
          ]
        }
      ]
    },
    {
      "cell_type": "markdown",
      "source": [
        "Many objects are iterable in Python:"
      ],
      "metadata": {
        "id": "lMNSE4GyDXo3"
      }
    },
    {
      "cell_type": "code",
      "source": [
        "for x in [1, 2, 3]:\n",
        "    print(x)"
      ],
      "metadata": {
        "colab": {
          "base_uri": "https://localhost:8080/"
        },
        "id": "NXj8Xe6uDVud",
        "outputId": "141dc3f4-20ea-480c-86a0-379c14fe4f38"
      },
      "execution_count": null,
      "outputs": [
        {
          "output_type": "stream",
          "name": "stdout",
          "text": [
            "1\n",
            "2\n",
            "3\n"
          ]
        }
      ]
    },
    {
      "cell_type": "code",
      "source": [
        "for x in 'hello':\n",
        "    print(x)"
      ],
      "metadata": {
        "colab": {
          "base_uri": "https://localhost:8080/"
        },
        "id": "rgg4RQFmDdag",
        "outputId": "14b3b240-ae52-4a79-a8f6-93ca6858aa66"
      },
      "execution_count": null,
      "outputs": [
        {
          "output_type": "stream",
          "name": "stdout",
          "text": [
            "h\n",
            "e\n",
            "l\n",
            "l\n",
            "o\n"
          ]
        }
      ]
    },
    {
      "cell_type": "code",
      "source": [
        "for x in ('a', 'b', 'c'):\n",
        "    print(x)"
      ],
      "metadata": {
        "colab": {
          "base_uri": "https://localhost:8080/"
        },
        "id": "0aEQgsdjDgLc",
        "outputId": "3d107dfe-77d1-4ae3-ac70-662f6d8cedec"
      },
      "execution_count": null,
      "outputs": [
        {
          "output_type": "stream",
          "name": "stdout",
          "text": [
            "a\n",
            "b\n",
            "c\n"
          ]
        }
      ]
    },
    {
      "cell_type": "markdown",
      "source": [
        "When we iterate over an iterable, each iteration returns the `next` value (or object) in the iterable:"
      ],
      "metadata": {
        "id": "kfb2NlE-DlGb"
      }
    },
    {
      "cell_type": "code",
      "source": [
        "for x in [(1, 2), (3, 4), (5, 6)]:\n",
        "    print(x)"
      ],
      "metadata": {
        "colab": {
          "base_uri": "https://localhost:8080/"
        },
        "id": "BOXGw5FaDkMe",
        "outputId": "6898f9b7-8701-44d6-c1f1-07541b4ccf5e"
      },
      "execution_count": null,
      "outputs": [
        {
          "output_type": "stream",
          "name": "stdout",
          "text": [
            "(1, 2)\n",
            "(3, 4)\n",
            "(5, 6)\n"
          ]
        }
      ]
    },
    {
      "cell_type": "markdown",
      "source": [
        "We can even assign the individual tuple values to specific named variables:"
      ],
      "metadata": {
        "id": "e94CLlBLDze_"
      }
    },
    {
      "cell_type": "code",
      "source": [
        "for i, j in [(1, 2), (3, 4), (5, 6)]:\n",
        "    print(i, j)"
      ],
      "metadata": {
        "colab": {
          "base_uri": "https://localhost:8080/"
        },
        "id": "dPo1IuFGDxwE",
        "outputId": "377e0059-7d28-42ba-b1eb-b003b7accaf9"
      },
      "execution_count": null,
      "outputs": [
        {
          "output_type": "stream",
          "name": "stdout",
          "text": [
            "1 2\n",
            "3 4\n",
            "5 6\n"
          ]
        }
      ]
    },
    {
      "cell_type": "markdown",
      "source": [
        "The `break` and `continue` statements work just as well in `for` loops as they do in `while` loops:"
      ],
      "metadata": {
        "id": "HOR9TBmEEA2q"
      }
    },
    {
      "cell_type": "code",
      "source": [
        "for i in range(5):\n",
        "    if i == 3:\n",
        "        continue\n",
        "    print(i)"
      ],
      "metadata": {
        "colab": {
          "base_uri": "https://localhost:8080/"
        },
        "id": "ZRtJLBZDD9Ei",
        "outputId": "2d8a470d-7299-4080-d679-cbdcc1420c91"
      },
      "execution_count": null,
      "outputs": [
        {
          "output_type": "stream",
          "name": "stdout",
          "text": [
            "0\n",
            "1\n",
            "2\n",
            "4\n"
          ]
        }
      ]
    },
    {
      "cell_type": "code",
      "source": [
        "for i in range(5):\n",
        "    if i == 3:\n",
        "        break\n",
        "    print(i)"
      ],
      "metadata": {
        "colab": {
          "base_uri": "https://localhost:8080/"
        },
        "id": "j6xj0bu1EJ4E",
        "outputId": "fae40c9f-c539-4a41-957c-3df8036c7a1a"
      },
      "execution_count": null,
      "outputs": [
        {
          "output_type": "stream",
          "name": "stdout",
          "text": [
            "0\n",
            "1\n",
            "2\n"
          ]
        }
      ]
    },
    {
      "cell_type": "markdown",
      "source": [
        "\n",
        "\n",
        "---\n",
        "**BE CAREFUL**"
      ],
      "metadata": {
        "id": "1nXUSeaHFAOZ"
      }
    },
    {
      "cell_type": "markdown",
      "source": [
        "*The `for` loop, like the `while` loop, also supports an `else` clause which is executed if and only if the loop terminates normally (i.e. did not exit because of a `break` statement)*"
      ],
      "metadata": {
        "id": "pc9c7nuSEPjT"
      }
    },
    {
      "cell_type": "code",
      "source": [
        "for i in range(1, 5):\n",
        "    print(i)\n",
        "    if i % 7 == 0:\n",
        "        print('multiple of 7 found')\n",
        "        break\n",
        "else:\n",
        "    print('No multiples of 7 encountered')"
      ],
      "metadata": {
        "colab": {
          "base_uri": "https://localhost:8080/"
        },
        "id": "2xBbzGcnEN4u",
        "outputId": "b5781bc3-810c-41ce-906a-c713e213e0d6"
      },
      "execution_count": null,
      "outputs": [
        {
          "output_type": "stream",
          "name": "stdout",
          "text": [
            "1\n",
            "2\n",
            "3\n",
            "4\n",
            "No multiples of 7 encountered\n"
          ]
        }
      ]
    },
    {
      "cell_type": "code",
      "source": [
        "for i in range(1, 8):\n",
        "    print(i)\n",
        "    if i % 7 == 0:\n",
        "        print('multiple of 7 found')\n",
        "        break\n",
        "else:\n",
        "    print('No multiples of 7 encountered')"
      ],
      "metadata": {
        "colab": {
          "base_uri": "https://localhost:8080/"
        },
        "id": "snHX5LG3EmKH",
        "outputId": "4d9f7399-03a5-4b94-d728-80ecc0dfe7a3"
      },
      "execution_count": null,
      "outputs": [
        {
          "output_type": "stream",
          "name": "stdout",
          "text": [
            "1\n",
            "2\n",
            "3\n",
            "4\n",
            "5\n",
            "6\n",
            "7\n",
            "multiple of 7 found\n"
          ]
        }
      ]
    },
    {
      "cell_type": "markdown",
      "source": [
        "\n",
        "\n",
        "---\n",
        "\n"
      ],
      "metadata": {
        "id": "2tCnDgzcFEkP"
      }
    },
    {
      "cell_type": "markdown",
      "source": [
        "Similarly to the `while` loop, `break` and `continue` work just the same in the context of a `try` statement's `finally` clause."
      ],
      "metadata": {
        "id": "fIFTMXMnFMg3"
      }
    },
    {
      "cell_type": "code",
      "source": [
        "for i in range(5):\n",
        "    print('-----------')\n",
        "    try:\n",
        "        10 / (i - 3)\n",
        "    except ZeroDivisionError:\n",
        "        print('divided by 0')\n",
        "        continue\n",
        "    finally:\n",
        "        print('always runs')\n",
        "    print(i)"
      ],
      "metadata": {
        "colab": {
          "base_uri": "https://localhost:8080/"
        },
        "id": "gkh_TemcFUAm",
        "outputId": "45151b03-d439-4fae-9b38-7e7e8a639c15"
      },
      "execution_count": null,
      "outputs": [
        {
          "output_type": "stream",
          "name": "stdout",
          "text": [
            "-----------\n",
            "always runs\n",
            "0\n",
            "-----------\n",
            "always runs\n",
            "1\n",
            "-----------\n",
            "always runs\n",
            "2\n",
            "-----------\n",
            "divided by 0\n",
            "always runs\n",
            "-----------\n",
            "always runs\n",
            "4\n"
          ]
        }
      ]
    },
    {
      "cell_type": "markdown",
      "source": [
        "There are a number of standard techniques to iterate over iterables:"
      ],
      "metadata": {
        "id": "XtUyLF6OFmPw"
      }
    },
    {
      "cell_type": "code",
      "source": [
        "s = 'hello'\n",
        "for c in s:\n",
        "    print(c)"
      ],
      "metadata": {
        "colab": {
          "base_uri": "https://localhost:8080/"
        },
        "id": "ASsw_qTDFiHv",
        "outputId": "f637a8e6-ed58-44fd-d161-6bbefc0f06a4"
      },
      "execution_count": null,
      "outputs": [
        {
          "output_type": "stream",
          "name": "stdout",
          "text": [
            "h\n",
            "e\n",
            "l\n",
            "l\n",
            "o\n"
          ]
        }
      ]
    },
    {
      "cell_type": "markdown",
      "source": [
        "But sometimes, for indexable iterable types (e.g. sequences), we want to also know the index of the item in the loop:"
      ],
      "metadata": {
        "id": "QJW73PedFwWM"
      }
    },
    {
      "cell_type": "code",
      "source": [
        "s = 'hello'\n",
        "i = 0\n",
        "for c in s:\n",
        "    print(i, c)\n",
        "    i += 1"
      ],
      "metadata": {
        "colab": {
          "base_uri": "https://localhost:8080/"
        },
        "id": "KQTQ7GeMFvCt",
        "outputId": "b51f7e3e-20f3-4175-dcdd-ecc56ad42a78"
      },
      "execution_count": null,
      "outputs": [
        {
          "output_type": "stream",
          "name": "stdout",
          "text": [
            "0 h\n",
            "1 e\n",
            "2 l\n",
            "3 l\n",
            "4 o\n"
          ]
        }
      ]
    },
    {
      "cell_type": "markdown",
      "source": [
        "Slightly better approach might be:"
      ],
      "metadata": {
        "id": "L3h7QUeDGD-c"
      }
    },
    {
      "cell_type": "code",
      "source": [
        "s = 'hello'\n",
        "\n",
        "for i in range(len(s)):\n",
        "    print(i, s[i])"
      ],
      "metadata": {
        "colab": {
          "base_uri": "https://localhost:8080/"
        },
        "id": "2TdIbxg6GAgy",
        "outputId": "57cb6788-5857-4660-8ed7-6ad9c5dc8d82"
      },
      "execution_count": null,
      "outputs": [
        {
          "output_type": "stream",
          "name": "stdout",
          "text": [
            "0 h\n",
            "1 e\n",
            "2 l\n",
            "3 l\n",
            "4 o\n"
          ]
        }
      ]
    },
    {
      "cell_type": "markdown",
      "source": [
        "or even better:"
      ],
      "metadata": {
        "id": "ycciCcheGRKI"
      }
    },
    {
      "cell_type": "code",
      "source": [
        "s = 'hello'\n",
        "\n",
        "for i, c in enumerate(s):\n",
        "    print(i, c)"
      ],
      "metadata": {
        "colab": {
          "base_uri": "https://localhost:8080/"
        },
        "id": "KDHUQUJ1GNYA",
        "outputId": "3acd3da5-aa45-4799-e03f-ee9c18314cfe"
      },
      "execution_count": null,
      "outputs": [
        {
          "output_type": "stream",
          "name": "stdout",
          "text": [
            "0 h\n",
            "1 e\n",
            "2 l\n",
            "3 l\n",
            "4 o\n"
          ]
        }
      ]
    },
    {
      "cell_type": "markdown",
      "source": [
        "### 07 - Classes"
      ],
      "metadata": {
        "id": "BnQXJa3gGcui"
      }
    },
    {
      "cell_type": "markdown",
      "source": [
        "**Custom Classes**"
      ],
      "metadata": {
        "id": "jY1XZZ30GfiG"
      }
    },
    {
      "cell_type": "markdown",
      "source": [
        "To create a custom class we use the `class` keyword, and we can initialize class attributes in the special method `__init__`."
      ],
      "metadata": {
        "id": "_jYRafl_Q18y"
      }
    },
    {
      "cell_type": "code",
      "source": [
        "class Rectangle:\n",
        "    def __init__(self, width, height):\n",
        "        self.width = width\n",
        "        self.height = height"
      ],
      "metadata": {
        "id": "JBIGUHa_GW3E"
      },
      "execution_count": null,
      "outputs": []
    },
    {
      "cell_type": "markdown",
      "source": [
        "We create instances of the `Rectangle` class by calling it with arguments that are passed to the `__init__` method as the second and third arguments. The first argument `(self)` is automatically filled in by Python and contains the object being created."
      ],
      "metadata": {
        "id": "JCSQHUf2RQZh"
      }
    },
    {
      "cell_type": "markdown",
      "source": [
        "\n",
        "\n",
        "---\n",
        "**BE CAREFUL!**\n"
      ],
      "metadata": {
        "id": "cJ9zQeWLRlWa"
      }
    },
    {
      "cell_type": "markdown",
      "source": [
        "*Note that using `self` is just a convention (although a good one, and you should use it to make your code more understandable by others), you could really call it whatever (valid) name you choose.*"
      ],
      "metadata": {
        "id": "B4RdeVX5RpkD"
      }
    },
    {
      "cell_type": "markdown",
      "source": [
        "\n",
        "\n",
        "---\n",
        "\n"
      ],
      "metadata": {
        "id": "ISck9D1lRp9f"
      }
    },
    {
      "cell_type": "markdown",
      "source": [
        "But just because you can does not mean you should!"
      ],
      "metadata": {
        "id": "2e-g6mfLSC7C"
      }
    },
    {
      "cell_type": "code",
      "source": [
        "r1 = Rectangle(10, 20)\n",
        "r2 = Rectangle(3, 5)"
      ],
      "metadata": {
        "id": "zzyvoBsCRPGH"
      },
      "execution_count": null,
      "outputs": []
    },
    {
      "cell_type": "code",
      "source": [
        "r1.width"
      ],
      "metadata": {
        "colab": {
          "base_uri": "https://localhost:8080/"
        },
        "id": "NwFMNDw-SMYf",
        "outputId": "53c7fc68-dfd8-4141-9422-88a3568396fe"
      },
      "execution_count": null,
      "outputs": [
        {
          "output_type": "execute_result",
          "data": {
            "text/plain": [
              "10"
            ]
          },
          "metadata": {},
          "execution_count": 105
        }
      ]
    },
    {
      "cell_type": "code",
      "source": [
        "r2.height"
      ],
      "metadata": {
        "colab": {
          "base_uri": "https://localhost:8080/"
        },
        "id": "zSvEuMf-SNwL",
        "outputId": "676e8a1a-a624-4129-b20c-319fd7c4a6f4"
      },
      "execution_count": null,
      "outputs": [
        {
          "output_type": "execute_result",
          "data": {
            "text/plain": [
              "5"
            ]
          },
          "metadata": {},
          "execution_count": 106
        }
      ]
    },
    {
      "cell_type": "markdown",
      "source": [
        "`width` and `height` are attributes of the `Rectangle` class. But since they are just values (not callables), we call them properties.\n",
        "\n",
        "Attributes that are callables are called methods.\n",
        "\n",
        "You'll note that we were able to retrieve the `width` and `height` attributes (properties) using a dot notation, where we specify the object we are interested in, then a dot, then the attribute we are interested in.\n",
        "\n",
        "We can add callable attributes to our class (methods), that will also be referenced using the dot notation.\n",
        "\n",
        "Again, we will create instance methods, which means the method will require the first argument to be the object being used when the method is called."
      ],
      "metadata": {
        "id": "YlC0GqlcSWRL"
      }
    },
    {
      "cell_type": "code",
      "source": [
        "class Rectangle:\n",
        "    def __init__(self, width, height):\n",
        "        self.width = width\n",
        "        self.height = height\n",
        "    \n",
        "    def area(self):\n",
        "        return self.width * self.height\n",
        "\n",
        "    def perimeter(the_referenced_object):\n",
        "        return 2 * (the_referenced_object.width + the_referenced_object.height)"
      ],
      "metadata": {
        "id": "68r6-cLkSPPs"
      },
      "execution_count": null,
      "outputs": []
    },
    {
      "cell_type": "code",
      "source": [
        "r1 = Rectangle(10, 20)"
      ],
      "metadata": {
        "id": "KjeQ1dG2Tvo4"
      },
      "execution_count": null,
      "outputs": []
    },
    {
      "cell_type": "code",
      "source": [
        "r1.area()"
      ],
      "metadata": {
        "colab": {
          "base_uri": "https://localhost:8080/"
        },
        "id": "Y2-r7LQbT-ye",
        "outputId": "61289e60-d68b-4668-aa2a-bcc79c6b1141"
      },
      "execution_count": null,
      "outputs": [
        {
          "output_type": "execute_result",
          "data": {
            "text/plain": [
              "200"
            ]
          },
          "metadata": {},
          "execution_count": 110
        }
      ]
    },
    {
      "cell_type": "markdown",
      "source": [
        "When we ran the above line of code, our object was `r1`, so when `area` was called, Python in fact called the method area in the `Rectangle` class automatically passing `r1` to the `self` parameter.\n",
        "\n",
        "This is why we can use a name other than `self`, such as in the `perimeter` method:"
      ],
      "metadata": {
        "id": "A9Feg4GkUCsl"
      }
    },
    {
      "cell_type": "code",
      "source": [
        "r1.perimeter()"
      ],
      "metadata": {
        "colab": {
          "base_uri": "https://localhost:8080/"
        },
        "id": "uXrEGkgFT_fk",
        "outputId": "1784c289-84ef-4a70-feec-b38d9d517fd6"
      },
      "execution_count": null,
      "outputs": [
        {
          "output_type": "execute_result",
          "data": {
            "text/plain": [
              "60"
            ]
          },
          "metadata": {},
          "execution_count": 111
        }
      ]
    },
    {
      "cell_type": "markdown",
      "source": [
        "Again, I'm just illustrating a point, don't actually do that!"
      ],
      "metadata": {
        "id": "1m7X3h5IUjfZ"
      }
    },
    {
      "cell_type": "code",
      "source": [
        "class Rectangle:\n",
        "    def __init__(self, width, height):\n",
        "        self.width = width\n",
        "        self.height = height\n",
        "    \n",
        "    def area(self):\n",
        "        return self.width * self.height\n",
        "\n",
        "    def perimeter(self):\n",
        "        return 2 * (self.width + self.height)"
      ],
      "metadata": {
        "id": "K-A4Idc5UdrG"
      },
      "execution_count": null,
      "outputs": []
    },
    {
      "cell_type": "code",
      "source": [
        "r1 = Rectangle(10, 20)"
      ],
      "metadata": {
        "id": "IdeVXlA4U6Tx"
      },
      "execution_count": null,
      "outputs": []
    },
    {
      "cell_type": "markdown",
      "source": [
        "Python defines a bunch of special methods that we can use to give our classes functionality that resembles functionality of built-in and standard library objects.\n",
        "\n",
        "Many people refer to them as magic methods, but there's nothing magical about them - unlike magic, they are well documented and understood!!\n",
        "\n",
        "These special methods provide us an easy way to overload operators in Python.\n",
        "\n",
        "For example, we can obtain the string representation of an integer using the built-in `str` function:"
      ],
      "metadata": {
        "id": "k0E_c0mXVRKc"
      }
    },
    {
      "cell_type": "code",
      "source": [
        "str(10)"
      ],
      "metadata": {
        "colab": {
          "base_uri": "https://localhost:8080/",
          "height": 35
        },
        "id": "upJBldZLU-4j",
        "outputId": "b63c934b-5897-4fee-dbe9-38e7ed17179f"
      },
      "execution_count": null,
      "outputs": [
        {
          "output_type": "execute_result",
          "data": {
            "text/plain": [
              "'10'"
            ],
            "application/vnd.google.colaboratory.intrinsic+json": {
              "type": "string"
            }
          },
          "metadata": {},
          "execution_count": 115
        }
      ]
    },
    {
      "cell_type": "markdown",
      "source": [
        "What happens if we try this with our `Rectangle` object?"
      ],
      "metadata": {
        "id": "cpTRVpx5V8zr"
      }
    },
    {
      "cell_type": "code",
      "source": [
        "str(r1)"
      ],
      "metadata": {
        "colab": {
          "base_uri": "https://localhost:8080/",
          "height": 35
        },
        "id": "5EAyTM5oV7up",
        "outputId": "11c9d496-b15c-4e18-e9e1-2f5f1f0970b6"
      },
      "execution_count": null,
      "outputs": [
        {
          "output_type": "execute_result",
          "data": {
            "text/plain": [
              "'<__main__.Rectangle object at 0x7fe790722350>'"
            ],
            "application/vnd.google.colaboratory.intrinsic+json": {
              "type": "string"
            }
          },
          "metadata": {},
          "execution_count": 116
        }
      ]
    },
    {
      "cell_type": "markdown",
      "source": [
        "Not exactly what we might have expected. On the other hand, how is Python supposed to know how to display our rectangle as a string?\n",
        "<p>We could write a method in the class such as:"
      ],
      "metadata": {
        "id": "0bvKrg8wWJTC"
      }
    },
    {
      "cell_type": "code",
      "source": [
        "class Rectangle:\n",
        "    def __init__(self, width, height):\n",
        "        self.width = width\n",
        "        self.height = height\n",
        "    \n",
        "    def area(self):\n",
        "        return self.width * self.height\n",
        "    \n",
        "    def perimeter(self):\n",
        "        return 2 * (self.width + self.height)\n",
        "    \n",
        "    def to_str(self):\n",
        "        return 'Rectangle (width={0}, height={1})'.format(self.width, self.height)"
      ],
      "metadata": {
        "id": "8PcNB2d9WEDF"
      },
      "execution_count": null,
      "outputs": []
    },
    {
      "cell_type": "markdown",
      "source": [
        "So we could get a string from our object as follows:"
      ],
      "metadata": {
        "id": "qPUG7THbW3F1"
      }
    },
    {
      "cell_type": "code",
      "source": [
        "r1 = Rectangle(10, 20)\n",
        "r1.to_str()"
      ],
      "metadata": {
        "colab": {
          "base_uri": "https://localhost:8080/",
          "height": 35
        },
        "id": "N_YMilc0W1z0",
        "outputId": "5e377eb4-b88e-4f9d-af24-5a29c9799449"
      },
      "execution_count": null,
      "outputs": [
        {
          "output_type": "execute_result",
          "data": {
            "text/plain": [
              "'Rectangle (width=10, height=20)'"
            ],
            "application/vnd.google.colaboratory.intrinsic+json": {
              "type": "string"
            }
          },
          "metadata": {},
          "execution_count": 118
        }
      ]
    },
    {
      "cell_type": "markdown",
      "source": [
        "But of course, using the built-in `str` function still does not work:"
      ],
      "metadata": {
        "id": "R_2uARH2XCq-"
      }
    },
    {
      "cell_type": "code",
      "source": [
        "str(r1)"
      ],
      "metadata": {
        "colab": {
          "base_uri": "https://localhost:8080/",
          "height": 35
        },
        "id": "iCnrCRhQW_zc",
        "outputId": "a5458dd5-6a30-4f08-e3f6-b378c0323d19"
      },
      "execution_count": null,
      "outputs": [
        {
          "output_type": "execute_result",
          "data": {
            "text/plain": [
              "'<__main__.Rectangle object at 0x7fe790727f90>'"
            ],
            "application/vnd.google.colaboratory.intrinsic+json": {
              "type": "string"
            }
          },
          "metadata": {},
          "execution_count": 119
        }
      ]
    },
    {
      "cell_type": "markdown",
      "source": [
        "Does this mean we are our of luck, and anyone who writes a class in Python will need to provide some method to do this, and probably come up with their own name for the method too, maybe `to_str`, `make_string`, `stringify`, and who knows what else.\n",
        "\n",
        "Fortunately, this is where these special methods come in. When we call `str(r1)`, Python will first look to see if our class `(Rectangle)` has a special method called  `__str__` .\n",
        "\n",
        "If the `__str__` method is present, then Python will call it and return that value.\n",
        "\n",
        "There's actually another one called `__repr__` which is related, but we'll focus on `__str__` for now.\n",
        "\n",
        "\n",
        "\n",
        "\n",
        "\n",
        "\n"
      ],
      "metadata": {
        "id": "taXsuADfXYVs"
      }
    },
    {
      "cell_type": "code",
      "source": [
        "class Rectangle:\n",
        "    def __init__(self, width, height):\n",
        "        self.width = width\n",
        "        self.height = height\n",
        "        \n",
        "    def area(self):\n",
        "        return self.width * self.height\n",
        "    \n",
        "    def perimeter(self):\n",
        "        return 2 * (self.width + self.height)\n",
        "    \n",
        "    def __str__(self):\n",
        "        return 'Rectangle (width={0}, height={1})'.format(self.width, self.height)"
      ],
      "metadata": {
        "id": "7Zu14JO3XSIu"
      },
      "execution_count": null,
      "outputs": []
    },
    {
      "cell_type": "code",
      "source": [
        "r1 = Rectangle(10, 20)"
      ],
      "metadata": {
        "id": "00QETuRcZBKE"
      },
      "execution_count": null,
      "outputs": []
    },
    {
      "cell_type": "code",
      "source": [
        "str(r1)"
      ],
      "metadata": {
        "colab": {
          "base_uri": "https://localhost:8080/",
          "height": 35
        },
        "id": "Ys4NV35xZDi0",
        "outputId": "3790ef3d-1269-41b2-b728-c69803b2859f"
      },
      "execution_count": null,
      "outputs": [
        {
          "output_type": "execute_result",
          "data": {
            "text/plain": [
              "'Rectangle (width=10, height=20)'"
            ],
            "application/vnd.google.colaboratory.intrinsic+json": {
              "type": "string"
            }
          },
          "metadata": {},
          "execution_count": 122
        }
      ]
    },
    {
      "cell_type": "markdown",
      "source": [
        "However, in Jupyter (and interactive console if you are using that), look what happens here:"
      ],
      "metadata": {
        "id": "qJKeLZ7OZGD1"
      }
    },
    {
      "cell_type": "code",
      "source": [
        "r1"
      ],
      "metadata": {
        "colab": {
          "base_uri": "https://localhost:8080/"
        },
        "id": "Ml68O2iHZEjp",
        "outputId": "e27f2903-dbe9-48f9-f638-d29b0744e880"
      },
      "execution_count": null,
      "outputs": [
        {
          "output_type": "execute_result",
          "data": {
            "text/plain": [
              "<__main__.Rectangle at 0x7fe790897e50>"
            ]
          },
          "metadata": {},
          "execution_count": 123
        }
      ]
    },
    {
      "cell_type": "markdown",
      "source": [
        "As you can see we still get that default. That's because here Python is not converting `r1` to a string, but instead looking for a string representation of the object. It is looking for the `__repr__` method."
      ],
      "metadata": {
        "id": "mfQYeh3DZQyG"
      }
    },
    {
      "cell_type": "code",
      "source": [
        "class Rectangle:\n",
        "    def __init__(self, width, height):\n",
        "        self.width = width\n",
        "        self.height = height\n",
        "        \n",
        "    def area(self):\n",
        "        return self.width * self.height\n",
        "    \n",
        "    def perimeter(self):\n",
        "        return 2 * (self.width + self.height)\n",
        "    \n",
        "    def __str__(self):\n",
        "        return 'Rectangle (width={0}, height={1})'.format(self.width, self.height)\n",
        "    \n",
        "    def __repr__(self):\n",
        "        return 'Rectangle({0}, {1})'.format(self.width, self.height)"
      ],
      "metadata": {
        "id": "wHG0lC7IZOik"
      },
      "execution_count": null,
      "outputs": []
    },
    {
      "cell_type": "code",
      "source": [
        "r1 = Rectangle(10, 20)"
      ],
      "metadata": {
        "id": "9cCL4245a1ef"
      },
      "execution_count": null,
      "outputs": []
    },
    {
      "cell_type": "code",
      "source": [
        "print(r1) # uses __str__"
      ],
      "metadata": {
        "colab": {
          "base_uri": "https://localhost:8080/"
        },
        "id": "SNNfOZ7Ia4RZ",
        "outputId": "c205d41a-e843-4277-e27c-8a74a3dfab94"
      },
      "execution_count": null,
      "outputs": [
        {
          "output_type": "stream",
          "name": "stdout",
          "text": [
            "Rectangle (width=10, height=20)\n"
          ]
        }
      ]
    },
    {
      "cell_type": "code",
      "source": [
        "r1 # uses __repr__"
      ],
      "metadata": {
        "colab": {
          "base_uri": "https://localhost:8080/"
        },
        "id": "0qYLLzp0a7PD",
        "outputId": "35ab84cc-d609-4845-bc34-d9c66bebb8df"
      },
      "execution_count": null,
      "outputs": [
        {
          "output_type": "execute_result",
          "data": {
            "text/plain": [
              "Rectangle(10, 20)"
            ]
          },
          "metadata": {},
          "execution_count": 127
        }
      ]
    },
    {
      "cell_type": "markdown",
      "source": [
        "How about the comparison operators, such as `==` or `<` ?"
      ],
      "metadata": {
        "id": "sCD4oSubbCao"
      }
    },
    {
      "cell_type": "code",
      "source": [
        "r1 = Rectangle(10, 20)\n",
        "r2 = Rectangle(10, 20)"
      ],
      "metadata": {
        "id": "Va2Dz2n9a-_f"
      },
      "execution_count": null,
      "outputs": []
    },
    {
      "cell_type": "code",
      "source": [
        "r1 == r2"
      ],
      "metadata": {
        "colab": {
          "base_uri": "https://localhost:8080/"
        },
        "id": "2CVktgGWbOLa",
        "outputId": "61ffac8a-5c71-4dd3-bd2f-1899d94adc94"
      },
      "execution_count": null,
      "outputs": [
        {
          "output_type": "execute_result",
          "data": {
            "text/plain": [
              "False"
            ]
          },
          "metadata": {},
          "execution_count": 130
        }
      ]
    },
    {
      "cell_type": "markdown",
      "source": [
        "As you can see, Python does not consider `r1` and `r2` as equal (using the `==` operator). Again, how is Python supposed to know that two `Rectangle` objects with the same `height` and `width` should be considered equal?\n",
        "\n",
        "We just need to tell Python how to do it, using the special method `__eq__`\n"
      ],
      "metadata": {
        "id": "hboUI_7FbS8d"
      }
    },
    {
      "cell_type": "code",
      "source": [
        "class Rectangle:\n",
        "    def __init__(self, width, height):\n",
        "        self.width = width\n",
        "        self.height = height\n",
        "        \n",
        "    def area(self):\n",
        "        return self.width * self.height\n",
        "    \n",
        "    def perimeter(self):\n",
        "        return 2 * (self.width + self.height)\n",
        "    \n",
        "    def __str__(self):\n",
        "        return 'Rectangle (width={0}, height={1})'.format(self.width, self.height)\n",
        "    \n",
        "    def __repr__(self):\n",
        "        return 'Rectangle({0}, {1})'.format(self.width, self.height)\n",
        "    \n",
        "    def __eq__(self, other):\n",
        "        print('self={0}, other={1}'.format(self, other))\n",
        "        if isinstance(other, Rectangle):\n",
        "            return (self.width, self.height) == (other.width, other.height)\n",
        "        else:\n",
        "            return False"
      ],
      "metadata": {
        "id": "0-Iaj27fbQz9"
      },
      "execution_count": null,
      "outputs": []
    },
    {
      "cell_type": "code",
      "source": [
        "r1 = Rectangle(10, 20)\n",
        "r2 = Rectangle(10, 20)"
      ],
      "metadata": {
        "id": "NT4VzIlIb7ra"
      },
      "execution_count": null,
      "outputs": []
    },
    {
      "cell_type": "code",
      "source": [
        "r1 is r2"
      ],
      "metadata": {
        "colab": {
          "base_uri": "https://localhost:8080/"
        },
        "id": "cELtb-bCb9su",
        "outputId": "47494d8d-468d-4b49-dcb9-2cf94bdd74b9"
      },
      "execution_count": null,
      "outputs": [
        {
          "output_type": "execute_result",
          "data": {
            "text/plain": [
              "False"
            ]
          },
          "metadata": {},
          "execution_count": 133
        }
      ]
    },
    {
      "cell_type": "code",
      "source": [
        "r1 == r2"
      ],
      "metadata": {
        "colab": {
          "base_uri": "https://localhost:8080/"
        },
        "id": "QKsUUujWb-sy",
        "outputId": "b7659843-d14e-4a0e-f329-5b3ec374ccd8"
      },
      "execution_count": null,
      "outputs": [
        {
          "output_type": "stream",
          "name": "stdout",
          "text": [
            "self=Rectangle (width=10, height=20), other=Rectangle (width=10, height=20)\n"
          ]
        },
        {
          "output_type": "execute_result",
          "data": {
            "text/plain": [
              "True"
            ]
          },
          "metadata": {},
          "execution_count": 134
        }
      ]
    },
    {
      "cell_type": "code",
      "source": [
        "r3 = Rectangle(2, 3)"
      ],
      "metadata": {
        "id": "Ewa-vwdVcAER"
      },
      "execution_count": null,
      "outputs": []
    },
    {
      "cell_type": "markdown",
      "source": [
        "And if we try to compare our `Rectangle` to a different type:"
      ],
      "metadata": {
        "id": "oBWbDOUtcEup"
      }
    },
    {
      "cell_type": "code",
      "source": [
        "r1 == 100"
      ],
      "metadata": {
        "colab": {
          "base_uri": "https://localhost:8080/"
        },
        "id": "SXfqb9jccDwz",
        "outputId": "2e6db0bf-25d2-4e60-ad55-62c47c7f5257"
      },
      "execution_count": null,
      "outputs": [
        {
          "output_type": "stream",
          "name": "stdout",
          "text": [
            "self=Rectangle (width=10, height=20), other=100\n"
          ]
        },
        {
          "output_type": "execute_result",
          "data": {
            "text/plain": [
              "False"
            ]
          },
          "metadata": {},
          "execution_count": 136
        }
      ]
    },
    {
      "cell_type": "markdown",
      "source": [
        "Let's remove that `print` statement - I only put that in so you could see what the arguments were, in practice you should avoid side effects."
      ],
      "metadata": {
        "id": "VrOAVlq9cLJJ"
      }
    },
    {
      "cell_type": "code",
      "source": [
        "class Rectangle:\n",
        "    def __init__(self, width, height):\n",
        "        self.width = width\n",
        "        self.height = height\n",
        "        \n",
        "    def area(self):\n",
        "        return self.width * self.height\n",
        "    \n",
        "    def perimeter(self):\n",
        "        return 2 * (self.width + self.height)\n",
        "    \n",
        "    def __str__(self):\n",
        "        return 'Rectangle (width={0}, height={1})'.format(self.width, self.height)\n",
        "    \n",
        "    def __repr__(self):\n",
        "        return 'Rectangle({0}, {1})'.format(self.width, self.height)\n",
        "    \n",
        "    def __eq__(self, other):\n",
        "        if isinstance(other, Rectangle):\n",
        "            return (self.width, self.height) == (other.width, other.height)\n",
        "        else:\n",
        "            return False"
      ],
      "metadata": {
        "id": "89XKIE3ScJDG"
      },
      "execution_count": null,
      "outputs": []
    },
    {
      "cell_type": "markdown",
      "source": [
        "What about `<`, `>`, `<=`, etc.?\n",
        "\n",
        "Again, Python has special methods we can use to provide that functionality.\n",
        "\n",
        "These are methods such as `__lt__`, `__gt__`, `__le__`, etc."
      ],
      "metadata": {
        "id": "xUQN1X0LcXt0"
      }
    },
    {
      "cell_type": "code",
      "source": [
        "class Rectangle:\n",
        "    def __init__(self, width, height):\n",
        "        self.width = width\n",
        "        self.height = height\n",
        "        \n",
        "    def area(self):\n",
        "        return self.width * self.height\n",
        "    \n",
        "    def perimeter(self):\n",
        "        return 2 * (self.width + self.height)\n",
        "    \n",
        "    def __str__(self):\n",
        "        return 'Rectangle (width={0}, height={1})'.format(self.width, self.height)\n",
        "    \n",
        "    def __repr__(self):\n",
        "        return 'Rectangle({0}, {1})'.format(self.width, self.height)\n",
        "    \n",
        "    def __eq__(self, other):\n",
        "        if isinstance(other, Rectangle):\n",
        "            return (self.width, self.height) == (other.width, other.height)\n",
        "        else:\n",
        "            return False\n",
        "    \n",
        "    def __lt__(self, other):\n",
        "        if isinstance(other, Rectangle):\n",
        "            return self.area() < other.area()\n",
        "        else:\n",
        "            return NotImplemented"
      ],
      "metadata": {
        "id": "gFWitioccWlv"
      },
      "execution_count": null,
      "outputs": []
    },
    {
      "cell_type": "code",
      "source": [
        "r1 = Rectangle(100, 200)\n",
        "r2 = Rectangle(10, 20)"
      ],
      "metadata": {
        "id": "9ukjJLLvcsTc"
      },
      "execution_count": null,
      "outputs": []
    },
    {
      "cell_type": "code",
      "source": [
        "r1 < r2"
      ],
      "metadata": {
        "colab": {
          "base_uri": "https://localhost:8080/"
        },
        "id": "mSWzYL7Zctkf",
        "outputId": "fe1f2ecf-c517-41cf-bb0c-0f28f9916316"
      },
      "execution_count": null,
      "outputs": [
        {
          "output_type": "execute_result",
          "data": {
            "text/plain": [
              "False"
            ]
          },
          "metadata": {},
          "execution_count": 140
        }
      ]
    },
    {
      "cell_type": "code",
      "source": [
        "r2 < r1"
      ],
      "metadata": {
        "colab": {
          "base_uri": "https://localhost:8080/"
        },
        "id": "N1rdJhd9cvrq",
        "outputId": "c6df8748-75b7-40ad-a370-4e7713171140"
      },
      "execution_count": null,
      "outputs": [
        {
          "output_type": "execute_result",
          "data": {
            "text/plain": [
              "True"
            ]
          },
          "metadata": {},
          "execution_count": 141
        }
      ]
    },
    {
      "cell_type": "markdown",
      "source": [
        "What about `>` ?"
      ],
      "metadata": {
        "id": "yirBf4RVcyQ3"
      }
    },
    {
      "cell_type": "code",
      "source": [
        "r1 > r2"
      ],
      "metadata": {
        "colab": {
          "base_uri": "https://localhost:8080/"
        },
        "id": "ng4TtBUqcxGT",
        "outputId": "593f7dc0-389f-4dbd-8cec-2637612d9207"
      },
      "execution_count": null,
      "outputs": [
        {
          "output_type": "execute_result",
          "data": {
            "text/plain": [
              "True"
            ]
          },
          "metadata": {},
          "execution_count": 142
        }
      ]
    },
    {
      "cell_type": "markdown",
      "source": [
        "How did that work? We did not define a `__gt__` method\n",
        "\n",
        "Well, Python cleverly decided that since `r1 > r2` was not implemented, it would give `r2 < r1`\n",
        "\n",
        "a try. And since, `__lt__` is defined, it worked!\n",
        "\n",
        "Of course, `<=` is not going to magically work!"
      ],
      "metadata": {
        "id": "zbsEmrpLc3Yx"
      }
    },
    {
      "cell_type": "code",
      "source": [
        "r1 <= r2"
      ],
      "metadata": {
        "colab": {
          "base_uri": "https://localhost:8080/",
          "height": 166
        },
        "id": "nyFxy8xLc1o8",
        "outputId": "91038747-fd53-4109-d8f5-c80c745d5299"
      },
      "execution_count": null,
      "outputs": [
        {
          "output_type": "error",
          "ename": "TypeError",
          "evalue": "ignored",
          "traceback": [
            "\u001b[0;31m---------------------------------------------------------------------------\u001b[0m",
            "\u001b[0;31mTypeError\u001b[0m                                 Traceback (most recent call last)",
            "\u001b[0;32m<ipython-input-143-66f6bd6240fb>\u001b[0m in \u001b[0;36m<module>\u001b[0;34m\u001b[0m\n\u001b[0;32m----> 1\u001b[0;31m \u001b[0mr1\u001b[0m \u001b[0;34m<=\u001b[0m \u001b[0mr2\u001b[0m\u001b[0;34m\u001b[0m\u001b[0;34m\u001b[0m\u001b[0m\n\u001b[0m",
            "\u001b[0;31mTypeError\u001b[0m: '<=' not supported between instances of 'Rectangle' and 'Rectangle'"
          ]
        }
      ]
    },
    {
      "cell_type": "markdown",
      "source": [
        "If you come from a Java background, you are probably thinking that using \"bare\" properties (direct access), such as `height` and `width` is a terrible design idea.\n",
        "\n",
        "It is for Java, but not for Python.\n",
        "\n",
        "Although you can use bare properties in Java, If you ever need to intercept the getting or setting of a property, you will need to write a method (such as `getWidth` and `setWidth`.) The problem is that if you used a  bare width property for example, a lot of your code might be using `obj.width` (as we have been doing here). The instant you make the `width` private and instead implement getters and setters, you break your code. Hence one of the reasons why in Java we just write getters and setters for properties from the beginning.\n",
        "\n",
        "With Python this is not the case - we can change any bare property into getters and setters without beraking the code that uses that bare property.\n",
        "\n",
        "I'll show you a quick example here, but we'll come back to this topic in much more detail later.\n",
        "Let's take our `Rectangle` class once again. I'll use a simplified version to keep the code short."
      ],
      "metadata": {
        "id": "UPFH_MdVde9S"
      }
    },
    {
      "cell_type": "code",
      "source": [
        "class Rectangle:\n",
        "    def __init__(self, width, height):\n",
        "        self.width = width\n",
        "        self.height = height\n",
        "    \n",
        "    def __repr__(self):\n",
        "        return 'Rectangle({0}, {1})'.format(self.width, self.height)"
      ],
      "metadata": {
        "id": "GcTyU4K2dSeO"
      },
      "execution_count": null,
      "outputs": []
    },
    {
      "cell_type": "code",
      "source": [
        "r1 = Rectangle(10, 20)"
      ],
      "metadata": {
        "id": "7110ALhHe450"
      },
      "execution_count": null,
      "outputs": []
    },
    {
      "cell_type": "code",
      "source": [
        "r1.width"
      ],
      "metadata": {
        "colab": {
          "base_uri": "https://localhost:8080/"
        },
        "id": "d6JwgJFQe72s",
        "outputId": "0b14c6da-e750-4204-afe8-021d08f9aae9"
      },
      "execution_count": null,
      "outputs": [
        {
          "output_type": "execute_result",
          "data": {
            "text/plain": [
              "10"
            ]
          },
          "metadata": {},
          "execution_count": 146
        }
      ]
    },
    {
      "cell_type": "code",
      "source": [
        "r1.width = 100"
      ],
      "metadata": {
        "id": "aQ1UUebWe9Gx"
      },
      "execution_count": null,
      "outputs": []
    },
    {
      "cell_type": "code",
      "source": [
        "r1"
      ],
      "metadata": {
        "colab": {
          "base_uri": "https://localhost:8080/"
        },
        "id": "s2gceerWe-fd",
        "outputId": "3332cf1b-337d-44e4-89c2-03a8ebbdbb12"
      },
      "execution_count": null,
      "outputs": [
        {
          "output_type": "execute_result",
          "data": {
            "text/plain": [
              "Rectangle(100, 20)"
            ]
          },
          "metadata": {},
          "execution_count": 148
        }
      ]
    },
    {
      "cell_type": "markdown",
      "source": [
        "As you saw we can get and set the width property directly.\n",
        "\n",
        "But let's say after this code has been released for a while and users of our class have been using it (and specifically setting and getting the `width` and `height` attribute a lot), but now we want to make sure users cannot set a non-positive value (i.e. `<=` 0) for `width` (or `height`, but we'll focus on `width` as an example).\n",
        "\n",
        "In a language like Java, we would implement `getWidth` and `setWidth` and make width private - which would break any code directly accessing the `width` property.\n",
        "\n",
        "In Python we can use some special decorators (more on those later) to encapsulate our property getters and setters:"
      ],
      "metadata": {
        "id": "dEZOwiCCfAy8"
      }
    },
    {
      "cell_type": "code",
      "source": [
        "class Rectangle:\n",
        "    def __init__(self, width, height):\n",
        "        self._width = width\n",
        "        self._height = height\n",
        "    \n",
        "    def __repr__(self):\n",
        "        return 'Rectangle({0}, {1})'.format(self.width, self.height)\n",
        "    \n",
        "    @property\n",
        "    def width(self):\n",
        "        return self._width\n",
        "    \n",
        "    @width.setter\n",
        "    def width(self, width):\n",
        "        if width <= 0:\n",
        "            raise ValueError('Width must be positive.')\n",
        "        self._width = width\n",
        "    \n",
        "    @property\n",
        "    def height(self):\n",
        "        return self._height\n",
        "    \n",
        "    @height.setter\n",
        "    def height(self, height):\n",
        "        if height <= 0:\n",
        "            raise ValueError('Height must be positive.')\n",
        "        self._height = height"
      ],
      "metadata": {
        "id": "jlAmY0Xge-08"
      },
      "execution_count": null,
      "outputs": []
    },
    {
      "cell_type": "code",
      "source": [
        "r1 = Rectangle(10, 20)"
      ],
      "metadata": {
        "id": "PE4VN_S9gIdZ"
      },
      "execution_count": null,
      "outputs": []
    },
    {
      "cell_type": "code",
      "source": [
        "r1.width"
      ],
      "metadata": {
        "colab": {
          "base_uri": "https://localhost:8080/"
        },
        "id": "SF9uQfMagLWl",
        "outputId": "ca0581d8-98f2-4728-aedd-13e83c6ae11d"
      },
      "execution_count": null,
      "outputs": [
        {
          "output_type": "execute_result",
          "data": {
            "text/plain": [
              "10"
            ]
          },
          "metadata": {},
          "execution_count": 151
        }
      ]
    },
    {
      "cell_type": "code",
      "source": [
        "r1.width = 100"
      ],
      "metadata": {
        "id": "nQSNTuxCgM2d"
      },
      "execution_count": null,
      "outputs": []
    },
    {
      "cell_type": "code",
      "source": [
        "r1"
      ],
      "metadata": {
        "colab": {
          "base_uri": "https://localhost:8080/"
        },
        "id": "L7IhPti0gOKQ",
        "outputId": "b72cfb5b-587f-4c53-eb18-04e310f443cb"
      },
      "execution_count": null,
      "outputs": [
        {
          "output_type": "execute_result",
          "data": {
            "text/plain": [
              "Rectangle(100, 20)"
            ]
          },
          "metadata": {},
          "execution_count": 153
        }
      ]
    },
    {
      "cell_type": "code",
      "source": [
        "r1.width = -10"
      ],
      "metadata": {
        "colab": {
          "base_uri": "https://localhost:8080/",
          "height": 288
        },
        "id": "s-OR5ix4gSZk",
        "outputId": "00ba3a49-bf04-42ea-b08a-785211ec6b15"
      },
      "execution_count": null,
      "outputs": [
        {
          "output_type": "error",
          "ename": "ValueError",
          "evalue": "ignored",
          "traceback": [
            "\u001b[0;31m---------------------------------------------------------------------------\u001b[0m",
            "\u001b[0;31mValueError\u001b[0m                                Traceback (most recent call last)",
            "\u001b[0;32m<ipython-input-154-a9c613e96f90>\u001b[0m in \u001b[0;36m<module>\u001b[0;34m\u001b[0m\n\u001b[0;32m----> 1\u001b[0;31m \u001b[0mr1\u001b[0m\u001b[0;34m.\u001b[0m\u001b[0mwidth\u001b[0m \u001b[0;34m=\u001b[0m \u001b[0;34m-\u001b[0m\u001b[0;36m10\u001b[0m\u001b[0;34m\u001b[0m\u001b[0;34m\u001b[0m\u001b[0m\n\u001b[0m",
            "\u001b[0;32m<ipython-input-149-9d2643061740>\u001b[0m in \u001b[0;36mwidth\u001b[0;34m(self, width)\u001b[0m\n\u001b[1;32m     14\u001b[0m     \u001b[0;32mdef\u001b[0m \u001b[0mwidth\u001b[0m\u001b[0;34m(\u001b[0m\u001b[0mself\u001b[0m\u001b[0;34m,\u001b[0m \u001b[0mwidth\u001b[0m\u001b[0;34m)\u001b[0m\u001b[0;34m:\u001b[0m\u001b[0;34m\u001b[0m\u001b[0;34m\u001b[0m\u001b[0m\n\u001b[1;32m     15\u001b[0m         \u001b[0;32mif\u001b[0m \u001b[0mwidth\u001b[0m \u001b[0;34m<=\u001b[0m \u001b[0;36m0\u001b[0m\u001b[0;34m:\u001b[0m\u001b[0;34m\u001b[0m\u001b[0;34m\u001b[0m\u001b[0m\n\u001b[0;32m---> 16\u001b[0;31m             \u001b[0;32mraise\u001b[0m \u001b[0mValueError\u001b[0m\u001b[0;34m(\u001b[0m\u001b[0;34m'Width must be positive.'\u001b[0m\u001b[0;34m)\u001b[0m\u001b[0;34m\u001b[0m\u001b[0;34m\u001b[0m\u001b[0m\n\u001b[0m\u001b[1;32m     17\u001b[0m         \u001b[0mself\u001b[0m\u001b[0;34m.\u001b[0m\u001b[0m_width\u001b[0m \u001b[0;34m=\u001b[0m \u001b[0mwidth\u001b[0m\u001b[0;34m\u001b[0m\u001b[0;34m\u001b[0m\u001b[0m\n\u001b[1;32m     18\u001b[0m \u001b[0;34m\u001b[0m\u001b[0m\n",
            "\u001b[0;31mValueError\u001b[0m: Width must be positive."
          ]
        }
      ]
    },
    {
      "cell_type": "markdown",
      "source": [
        "There are more things we should do to properly implement all this, in particular we should also be checking the positive and negative values during the `__init__` phase. We do so by using the accessor methods for `height` and `width`:"
      ],
      "metadata": {
        "id": "-PqxUR84gV5N"
      }
    },
    {
      "cell_type": "code",
      "source": [
        "class Rectangle:\n",
        "    def __init__(self, width, height):\n",
        "        self._width = None\n",
        "        self._height = None\n",
        "        # now we call our accessor methods to set the width and height\n",
        "        self.width = width\n",
        "        self.height = height\n",
        "    \n",
        "    def __repr__(self):\n",
        "        return 'Rectangle({0}, {1})'.format(self.width, self.height)\n",
        "    \n",
        "    @property\n",
        "    def width(self):\n",
        "        return self._width\n",
        "    \n",
        "    @width.setter\n",
        "    def width(self, width):\n",
        "        if width <= 0:\n",
        "            raise ValueError('Width must be positive.')\n",
        "        self._width = width\n",
        "    \n",
        "    @property\n",
        "    def height(self):\n",
        "        return self._height\n",
        "    \n",
        "    @height.setter\n",
        "    def height(self, height):\n",
        "        if height <= 0:\n",
        "            raise ValueError('Height must be positive.')\n",
        "        self._height = height"
      ],
      "metadata": {
        "id": "HU5Ui2aEgUt0"
      },
      "execution_count": null,
      "outputs": []
    },
    {
      "cell_type": "code",
      "source": [
        "r1 = Rectangle(0, 10)"
      ],
      "metadata": {
        "colab": {
          "base_uri": "https://localhost:8080/",
          "height": 312
        },
        "id": "HAIjIf10go6Q",
        "outputId": "1b44404c-4843-4ec5-ebca-eb0d47d18849"
      },
      "execution_count": null,
      "outputs": [
        {
          "output_type": "error",
          "ename": "ValueError",
          "evalue": "ignored",
          "traceback": [
            "\u001b[0;31m---------------------------------------------------------------------------\u001b[0m",
            "\u001b[0;31mValueError\u001b[0m                                Traceback (most recent call last)",
            "\u001b[0;32m<ipython-input-156-d129da78b8e7>\u001b[0m in \u001b[0;36m<module>\u001b[0;34m\u001b[0m\n\u001b[0;32m----> 1\u001b[0;31m \u001b[0mr1\u001b[0m \u001b[0;34m=\u001b[0m \u001b[0mRectangle\u001b[0m\u001b[0;34m(\u001b[0m\u001b[0;36m0\u001b[0m\u001b[0;34m,\u001b[0m \u001b[0;36m10\u001b[0m\u001b[0;34m)\u001b[0m\u001b[0;34m\u001b[0m\u001b[0;34m\u001b[0m\u001b[0m\n\u001b[0m",
            "\u001b[0;32m<ipython-input-155-68d2e27efb47>\u001b[0m in \u001b[0;36m__init__\u001b[0;34m(self, width, height)\u001b[0m\n\u001b[1;32m      4\u001b[0m         \u001b[0mself\u001b[0m\u001b[0;34m.\u001b[0m\u001b[0m_height\u001b[0m \u001b[0;34m=\u001b[0m \u001b[0;32mNone\u001b[0m\u001b[0;34m\u001b[0m\u001b[0;34m\u001b[0m\u001b[0m\n\u001b[1;32m      5\u001b[0m         \u001b[0;31m# now we call our accessor methods to set the width and height\u001b[0m\u001b[0;34m\u001b[0m\u001b[0;34m\u001b[0m\u001b[0;34m\u001b[0m\u001b[0m\n\u001b[0;32m----> 6\u001b[0;31m         \u001b[0mself\u001b[0m\u001b[0;34m.\u001b[0m\u001b[0mwidth\u001b[0m \u001b[0;34m=\u001b[0m \u001b[0mwidth\u001b[0m\u001b[0;34m\u001b[0m\u001b[0;34m\u001b[0m\u001b[0m\n\u001b[0m\u001b[1;32m      7\u001b[0m         \u001b[0mself\u001b[0m\u001b[0;34m.\u001b[0m\u001b[0mheight\u001b[0m \u001b[0;34m=\u001b[0m \u001b[0mheight\u001b[0m\u001b[0;34m\u001b[0m\u001b[0;34m\u001b[0m\u001b[0m\n\u001b[1;32m      8\u001b[0m \u001b[0;34m\u001b[0m\u001b[0m\n",
            "\u001b[0;32m<ipython-input-155-68d2e27efb47>\u001b[0m in \u001b[0;36mwidth\u001b[0;34m(self, width)\u001b[0m\n\u001b[1;32m     17\u001b[0m     \u001b[0;32mdef\u001b[0m \u001b[0mwidth\u001b[0m\u001b[0;34m(\u001b[0m\u001b[0mself\u001b[0m\u001b[0;34m,\u001b[0m \u001b[0mwidth\u001b[0m\u001b[0;34m)\u001b[0m\u001b[0;34m:\u001b[0m\u001b[0;34m\u001b[0m\u001b[0;34m\u001b[0m\u001b[0m\n\u001b[1;32m     18\u001b[0m         \u001b[0;32mif\u001b[0m \u001b[0mwidth\u001b[0m \u001b[0;34m<=\u001b[0m \u001b[0;36m0\u001b[0m\u001b[0;34m:\u001b[0m\u001b[0;34m\u001b[0m\u001b[0;34m\u001b[0m\u001b[0m\n\u001b[0;32m---> 19\u001b[0;31m             \u001b[0;32mraise\u001b[0m \u001b[0mValueError\u001b[0m\u001b[0;34m(\u001b[0m\u001b[0;34m'Width must be positive.'\u001b[0m\u001b[0;34m)\u001b[0m\u001b[0;34m\u001b[0m\u001b[0;34m\u001b[0m\u001b[0m\n\u001b[0m\u001b[1;32m     20\u001b[0m         \u001b[0mself\u001b[0m\u001b[0;34m.\u001b[0m\u001b[0m_width\u001b[0m \u001b[0;34m=\u001b[0m \u001b[0mwidth\u001b[0m\u001b[0;34m\u001b[0m\u001b[0;34m\u001b[0m\u001b[0m\n\u001b[1;32m     21\u001b[0m \u001b[0;34m\u001b[0m\u001b[0m\n",
            "\u001b[0;31mValueError\u001b[0m: Width must be positive."
          ]
        }
      ]
    },
    {
      "cell_type": "markdown",
      "source": [
        "There more we should be doing, like checking that the width and height being passed in are numeric types, and so on. Espcially during the `__init__` phase. - we would rather raise an exception when the object is being created rather than delay things and raise an exception when the user calls some method like area - that way the exception will be on the line that creates the object - makes debugging much easier!\n",
        "\n",
        "There are mant more of these special methods, and we'll look in detail at them later in this course."
      ],
      "metadata": {
        "id": "7wfDUSYsgrl2"
      }
    },
    {
      "cell_type": "markdown",
      "source": [
        "## Section 03 - Variables and Memory"
      ],
      "metadata": {
        "id": "QgH3CzU7fix4"
      }
    },
    {
      "cell_type": "markdown",
      "source": [
        "### 01 - Variables and Memory References"
      ],
      "metadata": {
        "id": "Pc-0wIYaf_Ic"
      }
    },
    {
      "cell_type": "markdown",
      "source": [
        "We can find the memory address that a variable references, by using `id()` function.\n",
        "\n",
        "The `id()` function returns the memory address of its argument as a base-10 integer.\n",
        "\n",
        "We can use the function `hex()` to convert the base-10 to base-16"
      ],
      "metadata": {
        "id": "9cwH3Ai3gIc9"
      }
    },
    {
      "cell_type": "code",
      "source": [
        "my_var = 10\n",
        "print('my_var = {0}'.format(my_var))\n",
        "print('memory address of my_var (decimal): {0}'.format(id(my_var)))\n",
        "print('memory address of my_var (hex): {0}'.format(hex(id(my_var))))"
      ],
      "metadata": {
        "colab": {
          "base_uri": "https://localhost:8080/"
        },
        "id": "vsZFdb4tghck",
        "outputId": "7f939aa3-44f1-41d4-ef80-e7617ab41e67"
      },
      "execution_count": null,
      "outputs": [
        {
          "output_type": "stream",
          "name": "stdout",
          "text": [
            "my_var = 10\n",
            "memory address of my_var (decimal): 11122880\n",
            "memory address of my_var (hex): 0xa9b8c0\n"
          ]
        }
      ]
    },
    {
      "cell_type": "code",
      "source": [
        "greeting = 'Hello'\n",
        "print('greeting = {0}'.format(greeting))\n",
        "print('memory address of my_var (decimal): {0}'.format(id(greeting)))\n",
        "print('memory address of my_var (hex): {0}'.format(hex(id(greeting))))"
      ],
      "metadata": {
        "colab": {
          "base_uri": "https://localhost:8080/"
        },
        "id": "9n1gebHpmUCO",
        "outputId": "98a55025-5045-4314-fc99-a4cb41289292"
      },
      "execution_count": null,
      "outputs": [
        {
          "output_type": "stream",
          "name": "stdout",
          "text": [
            "greeting = Hello\n",
            "memory address of my_var (decimal): 139693754789808\n",
            "memory address of my_var (hex): 0x7f0cfca1afb0\n"
          ]
        }
      ]
    },
    {
      "cell_type": "markdown",
      "source": [
        "\n",
        "\n",
        "---\n",
        "**BE CAREFUL!**\n"
      ],
      "metadata": {
        "id": "p4I54ii-mieD"
      }
    },
    {
      "cell_type": "markdown",
      "source": [
        "*Note how the memory address of `my_var` is different from that of `greeting`.*\n",
        "\n",
        "*Strictly speaking, `my_var` is not \"equal\" to 10.*\n",
        "\n",
        "*Instead `my_var` is a reference to an (integer) object (containing the value 10) located at the memory address `id(my_var)`*\n",
        "\n",
        "*Similarly for the variable `greeting`*"
      ],
      "metadata": {
        "id": "P3yTV464mpSd"
      }
    },
    {
      "cell_type": "markdown",
      "source": [
        "\n",
        "\n",
        "---\n",
        "\n"
      ],
      "metadata": {
        "id": "i-4_QuqZmqA1"
      }
    },
    {
      "cell_type": "markdown",
      "source": [
        "### 02 - Reference Counting"
      ],
      "metadata": {
        "id": "FIDMB4CUoWg2"
      }
    },
    {
      "cell_type": "markdown",
      "source": [
        "Method that returns the reference count for a given variable's memory address:"
      ],
      "metadata": {
        "id": "hd5pDDyLoxIz"
      }
    },
    {
      "cell_type": "code",
      "source": [
        "import ctypes\n",
        "\n",
        "def ref_count(address):\n",
        "    return ctypes.c_long.from_address(address).value"
      ],
      "metadata": {
        "id": "3OD3uBiXmjLp"
      },
      "execution_count": null,
      "outputs": []
    },
    {
      "cell_type": "markdown",
      "source": [
        "Let's make a variable, and check it's reference count:"
      ],
      "metadata": {
        "id": "uqudCRoQpnN_"
      }
    },
    {
      "cell_type": "code",
      "source": [
        "my_var = [1, 2, 3, 4]\n",
        "ref_count(id(my_var))"
      ],
      "metadata": {
        "colab": {
          "base_uri": "https://localhost:8080/"
        },
        "id": "3s6w0cZAmgkk",
        "outputId": "a4278264-aa1e-4c83-8fcb-ea43571142ee"
      },
      "execution_count": null,
      "outputs": [
        {
          "output_type": "execute_result",
          "data": {
            "text/plain": [
              "1"
            ]
          },
          "metadata": {},
          "execution_count": 11
        }
      ]
    },
    {
      "cell_type": "markdown",
      "source": [
        "There is another built-in function we can use to obtain the reference count:"
      ],
      "metadata": {
        "id": "ePCcUxc-p-Mx"
      }
    },
    {
      "cell_type": "code",
      "source": [
        "import sys\n",
        "sys.getrefcount(my_var)"
      ],
      "metadata": {
        "colab": {
          "base_uri": "https://localhost:8080/"
        },
        "id": "vzNfkTsipxYt",
        "outputId": "b693dbce-facd-420e-dee4-e96e1c167a12"
      },
      "execution_count": null,
      "outputs": [
        {
          "output_type": "execute_result",
          "data": {
            "text/plain": [
              "3"
            ]
          },
          "metadata": {},
          "execution_count": 12
        }
      ]
    },
    {
      "cell_type": "markdown",
      "source": [
        "But why is this returning 3, instead of the expected 2 we obtained with the previous function?\n",
        "\n",
        "Answer: The `sys.getrefcount()` function takes `my_var` as an argument, this means it receives (and stores) a reference to `my_var`'s memory address also - hence the count is off by 1. So we will use `from_address()` instead.\n",
        "\n",
        "We make another reference to the same reference as `my_var`:"
      ],
      "metadata": {
        "id": "USeRi8EVqN9m"
      }
    },
    {
      "cell_type": "code",
      "source": [
        "other_var = my_var"
      ],
      "metadata": {
        "id": "n3o2eCw3qF19"
      },
      "execution_count": null,
      "outputs": []
    },
    {
      "cell_type": "markdown",
      "source": [
        "Let's look at the memory address of those two variables and the reference counts:"
      ],
      "metadata": {
        "id": "4djYf3wmsFxV"
      }
    },
    {
      "cell_type": "code",
      "source": [
        "print(hex(id(my_var)), hex(id(other_var)))\n",
        "print(ref_count(id(my_var)))"
      ],
      "metadata": {
        "colab": {
          "base_uri": "https://localhost:8080/"
        },
        "id": "Y4GvnSvJsFHV",
        "outputId": "4a1c2ab6-56c8-44c4-c540-b4381546defe"
      },
      "execution_count": null,
      "outputs": [
        {
          "output_type": "stream",
          "name": "stdout",
          "text": [
            "0x7f0cf72fa5f0 0x7f0cf72fa5f0\n",
            "4\n"
          ]
        }
      ]
    },
    {
      "cell_type": "markdown",
      "source": [
        "Force one reference to go away:"
      ],
      "metadata": {
        "id": "4lxraMUjsbjs"
      }
    },
    {
      "cell_type": "code",
      "source": [
        "other_var = None"
      ],
      "metadata": {
        "id": "0zmP4_WKsRdg"
      },
      "execution_count": null,
      "outputs": []
    },
    {
      "cell_type": "markdown",
      "source": [
        "And we look at the reference count again:"
      ],
      "metadata": {
        "id": "KgVtKORCsfMt"
      }
    },
    {
      "cell_type": "code",
      "source": [
        "print(ref_count(id(my_var)))"
      ],
      "metadata": {
        "colab": {
          "base_uri": "https://localhost:8080/"
        },
        "id": "R4EK52Fnsede",
        "outputId": "00e00b44-42d5-4e68-df4c-a66990b7c1d5"
      },
      "execution_count": null,
      "outputs": [
        {
          "output_type": "stream",
          "name": "stdout",
          "text": [
            "2\n"
          ]
        }
      ]
    },
    {
      "cell_type": "markdown",
      "source": [
        "We see that the reference count has gone back to 2.\n",
        "\n",
        "You'll probably never need  to do anythinli like this in Python. Memory management is completely transparent - this is just to illustrate some of what is going behind the scenes as it helps to understand upcoming concepts."
      ],
      "metadata": {
        "id": "Wf_JO3Bqso6P"
      }
    },
    {
      "cell_type": "markdown",
      "source": [
        "\n",
        "\n",
        "---\n",
        "**BE CAREFUL!**\n"
      ],
      "metadata": {
        "id": "enysIZjKtJEH"
      }
    },
    {
      "cell_type": "markdown",
      "source": [
        "*In Google Colab Environment, `getrefcount()` function gives us the value 3, but in your local Jupyter notebook, it will be 2.*"
      ],
      "metadata": {
        "id": "YOEW7TUAtMkx"
      }
    },
    {
      "cell_type": "markdown",
      "source": [
        "\n",
        "\n",
        "---\n",
        "\n"
      ],
      "metadata": {
        "id": "xlXqpINZtNBr"
      }
    },
    {
      "cell_type": "markdown",
      "source": [
        "### 03 - Garbage Collection"
      ],
      "metadata": {
        "id": "urSFYDTwtr9g"
      }
    },
    {
      "cell_type": "code",
      "source": [
        "import ctypes\n",
        "import gc"
      ],
      "metadata": {
        "id": "U3--CgREskJ7"
      },
      "execution_count": null,
      "outputs": []
    },
    {
      "cell_type": "markdown",
      "source": [
        "We use the same function that we used in the lesson on reference counting to calculate the numver of references to a specified object (using its memory address to avoid creating an extra reference)"
      ],
      "metadata": {
        "id": "9xuQEi0ftw3o"
      }
    },
    {
      "cell_type": "code",
      "source": [
        "def ref_count(address):\n",
        "    return ctypes.c_long.from_address(address).value"
      ],
      "metadata": {
        "id": "61idNhd0uVji"
      },
      "execution_count": null,
      "outputs": []
    },
    {
      "cell_type": "markdown",
      "source": [
        "We create a function that will search the objects in the GC for a specified id and tell us if the object was found or not:"
      ],
      "metadata": {
        "id": "6jK5Z4BYugSe"
      }
    },
    {
      "cell_type": "code",
      "source": [
        "def object_by_id(object_id):\n",
        "    for obj in gc.get_objects():\n",
        "        if id(obj) == object_id:\n",
        "            return \"Object exists\"\n",
        "    return \"Not found\""
      ],
      "metadata": {
        "id": "LacjQyuZue45"
      },
      "execution_count": null,
      "outputs": []
    },
    {
      "cell_type": "markdown",
      "source": [
        "Next we define two classes that we will use to create a circular reference.\n",
        "\n",
        "Class A's constructor will create an instance of class B and pass itself to class B's constructor that will then store that reference in some instance variable."
      ],
      "metadata": {
        "id": "IPDQCkMc0GyO"
      }
    },
    {
      "cell_type": "code",
      "source": [
        "class A:\n",
        "    def __init__(self):\n",
        "        self.b = B(self)\n",
        "        print('A: self: {0}, b:{1}'.format(hex(id(self)), hex(id(self.b))))"
      ],
      "metadata": {
        "id": "fDMsFxkb1bzd"
      },
      "execution_count": null,
      "outputs": []
    },
    {
      "cell_type": "code",
      "source": [
        "class B:\n",
        "    def __init__(self, a):\n",
        "        self.a = a\n",
        "        print('B: self: {0}, a: {1}'.format(hex(id(self)), hex(id(self.a))))"
      ],
      "metadata": {
        "id": "H5Fm7jL-0GMe"
      },
      "execution_count": null,
      "outputs": []
    },
    {
      "cell_type": "markdown",
      "source": [
        "We turn off the GC so we can see how reference counts are affected when the GC does not run and whne it does (by running it manually)"
      ],
      "metadata": {
        "id": "DoplELrc4SF-"
      }
    },
    {
      "cell_type": "code",
      "source": [
        "gc.disable()"
      ],
      "metadata": {
        "id": "w0t1g2wF4Q0g"
      },
      "execution_count": null,
      "outputs": []
    },
    {
      "cell_type": "markdown",
      "source": [
        "Now we create an instance of A, which will, in turn, create an instance of B which will store a reference to the calling A instance."
      ],
      "metadata": {
        "id": "7XJbfIa14iIB"
      }
    },
    {
      "cell_type": "code",
      "source": [
        "my_var = A()"
      ],
      "metadata": {
        "colab": {
          "base_uri": "https://localhost:8080/"
        },
        "id": "m2ETG0si4hfh",
        "outputId": "b8c48113-136b-4c58-fd08-002ba20250c1"
      },
      "execution_count": null,
      "outputs": [
        {
          "output_type": "stream",
          "name": "stdout",
          "text": [
            "B: self: 0x7f0cf738f910, a: 0x7f0cf738f850\n",
            "A: self: 0x7f0cf738f850, b:0x7f0cf738f910\n"
          ]
        }
      ]
    },
    {
      "cell_type": "markdown",
      "source": [
        "As we can see A and B's constructors ran, and we also see from the memory addresses that we have a circular reference.\n",
        "\n",
        "In fact `my_var` is also a reference to the same A instance:"
      ],
      "metadata": {
        "id": "iyCUtFB15ENp"
      }
    },
    {
      "cell_type": "code",
      "source": [
        "print(hex(id(my_var)))"
      ],
      "metadata": {
        "colab": {
          "base_uri": "https://localhost:8080/"
        },
        "id": "zwHVgiKd5B89",
        "outputId": "b6536dd0-cbfd-4f14-f877-afb83af267a7"
      },
      "execution_count": null,
      "outputs": [
        {
          "output_type": "stream",
          "name": "stdout",
          "text": [
            "0x7f0cf738f850\n"
          ]
        }
      ]
    },
    {
      "cell_type": "markdown",
      "source": [
        "Another way to see this:"
      ],
      "metadata": {
        "id": "riBAJZqF5bMb"
      }
    },
    {
      "cell_type": "code",
      "source": [
        "print('a: \\t{0}'.format(hex(id(my_var))))\n",
        "print('a.b: \\t{0}'.format(hex(id(my_var.b))))\n",
        "print('b.a: \\t{0}'.format(hex(id(my_var.b.a))))"
      ],
      "metadata": {
        "colab": {
          "base_uri": "https://localhost:8080/"
        },
        "id": "KUx5I_Jw5aTz",
        "outputId": "74550cd8-09b4-453f-8d81-8bbf33239168"
      },
      "execution_count": null,
      "outputs": [
        {
          "output_type": "stream",
          "name": "stdout",
          "text": [
            "a: \t0x7f0cf738f850\n",
            "a.b: \t0x7f0cf738f910\n",
            "b.a: \t0x7f0cf738f850\n"
          ]
        }
      ]
    },
    {
      "cell_type": "code",
      "source": [
        "a_id = id(my_var)\n",
        "b_id = id(my_var.b)"
      ],
      "metadata": {
        "id": "ira069C65eQV"
      },
      "execution_count": null,
      "outputs": []
    },
    {
      "cell_type": "markdown",
      "source": [
        "We can see how many references we have for `a` and `b`"
      ],
      "metadata": {
        "id": "XO43hnWy5g1g"
      }
    },
    {
      "cell_type": "code",
      "source": [
        "my_var = None"
      ],
      "metadata": {
        "id": "wnEgvSNn8IsY"
      },
      "execution_count": null,
      "outputs": []
    },
    {
      "cell_type": "code",
      "source": [
        "print('refcount(a) = {0}'.format(ref_count(a_id)))\n",
        "print('refcount(b) = {0}'.format(ref_count(b_id)))\n",
        "print('a: {0}'.format(object_by_id(a_id)))\n",
        "print('b: {0}'.format(object_by_id(b_id)))"
      ],
      "metadata": {
        "colab": {
          "base_uri": "https://localhost:8080/"
        },
        "id": "kZHWewxS5gQS",
        "outputId": "fc9773fd-3bbe-4fdd-8a4d-9190fe4a07d3"
      },
      "execution_count": null,
      "outputs": [
        {
          "output_type": "stream",
          "name": "stdout",
          "text": [
            "refcount(a) = 1\n",
            "refcount(b) = 1\n",
            "a: Object exists\n",
            "b: Object exists\n"
          ]
        }
      ]
    },
    {
      "cell_type": "markdown",
      "source": [
        "As we can see, the reference counts are now both equal to 1 (a pure circular reference), and reference counting alone did not destroy the A and B instances - they're still around. If no garbage collection is performed this would result in a memory leak.\n",
        "\n",
        "Let's run the GC manually and re-check whether the objects still exist:"
      ],
      "metadata": {
        "id": "VAk49XhV58u6"
      }
    },
    {
      "cell_type": "code",
      "source": [
        "gc.collect()\n",
        "print('refcount(a) = {0}'.format(ref_count(a_id)))\n",
        "print('refcount(b) = {0}'.format(ref_count(b_id)))\n",
        "print('a: {0}'.format(object_by_id(a_id)))\n",
        "print('b: {0}'.format(object_by_id(b_id)))"
      ],
      "metadata": {
        "colab": {
          "base_uri": "https://localhost:8080/"
        },
        "id": "X6dDmJgO5p4t",
        "outputId": "ce4b7066-abdf-4acd-c605-22a5f76187fe"
      },
      "execution_count": null,
      "outputs": [
        {
          "output_type": "stream",
          "name": "stdout",
          "text": [
            "refcount(a) = 0\n",
            "refcount(b) = 0\n",
            "a: Not found\n",
            "b: Not found\n"
          ]
        }
      ]
    },
    {
      "cell_type": "markdown",
      "source": [
        "### 04 - Dynamic vs Static Typing"
      ],
      "metadata": {
        "id": "uxHf7YyC8Vai"
      }
    },
    {
      "cell_type": "markdown",
      "source": [
        "Python is dynamically typed.\n",
        "\n",
        "This means that the type of a variable is simply the type of the object the variable name points to (references).The variable itself has no associated type."
      ],
      "metadata": {
        "id": "7VsarCHT8a6J"
      }
    },
    {
      "cell_type": "code",
      "source": [
        "a = \"hello\""
      ],
      "metadata": {
        "id": "GI2FVgkB806p"
      },
      "execution_count": null,
      "outputs": []
    },
    {
      "cell_type": "code",
      "source": [
        "type(a)"
      ],
      "metadata": {
        "colab": {
          "base_uri": "https://localhost:8080/"
        },
        "id": "V3ozcnm48aSC",
        "outputId": "09d8dbc0-82dc-4514-a2f8-e681fde3170b"
      },
      "execution_count": null,
      "outputs": [
        {
          "output_type": "execute_result",
          "data": {
            "text/plain": [
              "str"
            ]
          },
          "metadata": {},
          "execution_count": 39
        }
      ]
    },
    {
      "cell_type": "code",
      "source": [
        "a = 10"
      ],
      "metadata": {
        "id": "Mrohh-2x8Amp"
      },
      "execution_count": null,
      "outputs": []
    },
    {
      "cell_type": "code",
      "source": [
        "type(a)"
      ],
      "metadata": {
        "colab": {
          "base_uri": "https://localhost:8080/"
        },
        "id": "1xmG0MRU84XC",
        "outputId": "07dc264f-7774-49e6-dfa7-dc897c83464c"
      },
      "execution_count": null,
      "outputs": [
        {
          "output_type": "execute_result",
          "data": {
            "text/plain": [
              "int"
            ]
          },
          "metadata": {},
          "execution_count": 41
        }
      ]
    },
    {
      "cell_type": "code",
      "source": [
        "a = lambda x: x ** 2"
      ],
      "metadata": {
        "id": "ujIGX6oo85J1"
      },
      "execution_count": null,
      "outputs": []
    },
    {
      "cell_type": "code",
      "source": [
        "a(2)"
      ],
      "metadata": {
        "colab": {
          "base_uri": "https://localhost:8080/"
        },
        "id": "-QGu-fq-88GU",
        "outputId": "d9499af1-dafb-4e3c-8652-0f691225ca15"
      },
      "execution_count": null,
      "outputs": [
        {
          "output_type": "execute_result",
          "data": {
            "text/plain": [
              "4"
            ]
          },
          "metadata": {},
          "execution_count": 43
        }
      ]
    },
    {
      "cell_type": "code",
      "source": [
        "type(a)"
      ],
      "metadata": {
        "colab": {
          "base_uri": "https://localhost:8080/"
        },
        "id": "VvVIXaMx88m7",
        "outputId": "a5709cb6-59fb-4e40-b709-bdf74dd2e9f1"
      },
      "execution_count": null,
      "outputs": [
        {
          "output_type": "execute_result",
          "data": {
            "text/plain": [
              "function"
            ]
          },
          "metadata": {},
          "execution_count": 44
        }
      ]
    },
    {
      "cell_type": "markdown",
      "source": [
        "As you can see from the above examples, the type of the variable `a` changed over time - in fact it was simply the type of the object `a` was referencing at that time. No type was ever attached to the variable name itself."
      ],
      "metadata": {
        "id": "FFxeUw958-wb"
      }
    },
    {
      "cell_type": "markdown",
      "source": [
        "### 05 - Variable Re-Assignment"
      ],
      "metadata": {
        "id": "qLpRyQG09ZIH"
      }
    },
    {
      "cell_type": "markdown",
      "source": [
        "Notice how the memory address of `a` is different every time."
      ],
      "metadata": {
        "id": "KPfInvZP9dlI"
      }
    },
    {
      "cell_type": "code",
      "source": [
        "a = 10\n",
        "hex(id(a))"
      ],
      "metadata": {
        "colab": {
          "base_uri": "https://localhost:8080/",
          "height": 35
        },
        "id": "5dHwHkY689Yv",
        "outputId": "b8979443-b760-475c-a06c-e9827ed284a1"
      },
      "execution_count": null,
      "outputs": [
        {
          "output_type": "execute_result",
          "data": {
            "text/plain": [
              "'0xa9b8c0'"
            ],
            "application/vnd.google.colaboratory.intrinsic+json": {
              "type": "string"
            }
          },
          "metadata": {},
          "execution_count": 45
        }
      ]
    },
    {
      "cell_type": "code",
      "source": [
        "a = 15\n",
        "hex(id(a))"
      ],
      "metadata": {
        "colab": {
          "base_uri": "https://localhost:8080/",
          "height": 35
        },
        "id": "gUkwg-GI90ud",
        "outputId": "46e028f0-cdef-467b-ae5a-6e640bc35544"
      },
      "execution_count": null,
      "outputs": [
        {
          "output_type": "execute_result",
          "data": {
            "text/plain": [
              "'0xa9b960'"
            ],
            "application/vnd.google.colaboratory.intrinsic+json": {
              "type": "string"
            }
          },
          "metadata": {},
          "execution_count": 47
        }
      ]
    },
    {
      "cell_type": "code",
      "source": [
        "a = 5\n",
        "hex(id(a))"
      ],
      "metadata": {
        "colab": {
          "base_uri": "https://localhost:8080/",
          "height": 35
        },
        "id": "gqs_vJsy91eU",
        "outputId": "390ea6ec-7eef-48de-e6e4-96e3073d76e3"
      },
      "execution_count": null,
      "outputs": [
        {
          "output_type": "execute_result",
          "data": {
            "text/plain": [
              "'0xa9b820'"
            ],
            "application/vnd.google.colaboratory.intrinsic+json": {
              "type": "string"
            }
          },
          "metadata": {},
          "execution_count": 48
        }
      ]
    },
    {
      "cell_type": "code",
      "source": [
        "a = a + 1\n",
        "hex(id(a))"
      ],
      "metadata": {
        "colab": {
          "base_uri": "https://localhost:8080/",
          "height": 35
        },
        "id": "aY7dOAHn95_l",
        "outputId": "39abe691-c2eb-4043-f32c-fefb2cc02ecd"
      },
      "execution_count": null,
      "outputs": [
        {
          "output_type": "execute_result",
          "data": {
            "text/plain": [
              "'0xa9b840'"
            ],
            "application/vnd.google.colaboratory.intrinsic+json": {
              "type": "string"
            }
          },
          "metadata": {},
          "execution_count": 49
        }
      ]
    },
    {
      "cell_type": "markdown",
      "source": [
        "However, look at this:"
      ],
      "metadata": {
        "id": "Ls_eIjSb982P"
      }
    },
    {
      "cell_type": "code",
      "source": [
        "a = 10\n",
        "b = 10\n",
        "print(hex(id(a)))\n",
        "print(hex(id(b)))"
      ],
      "metadata": {
        "colab": {
          "base_uri": "https://localhost:8080/"
        },
        "id": "3FudF9n_98Lo",
        "outputId": "43c5e9e7-eb0d-4bb4-b5f4-ace1fd5c29b8"
      },
      "execution_count": null,
      "outputs": [
        {
          "output_type": "stream",
          "name": "stdout",
          "text": [
            "0xa9b8c0\n",
            "0xa9b8c0\n"
          ]
        }
      ]
    },
    {
      "cell_type": "markdown",
      "source": [
        "The memory adresses of both `a` and `b` are the same!!"
      ],
      "metadata": {
        "id": "fq_VucXq-EK1"
      }
    },
    {
      "cell_type": "markdown",
      "source": [
        "### 06 - Object Mutability"
      ],
      "metadata": {
        "id": "UGxlI8rr-QFg"
      }
    },
    {
      "cell_type": "markdown",
      "source": [
        "Certain Python built-in object types (aka data types) are mutable.\n",
        "\n",
        "That is, the internal contents (state) of the object in memory can be modified."
      ],
      "metadata": {
        "id": "K6cUmjK3-S7C"
      }
    },
    {
      "cell_type": "code",
      "source": [
        "my_list = [1, 2, 3]\n",
        "print(my_list)\n",
        "print(hex(id(my_list)))"
      ],
      "metadata": {
        "colab": {
          "base_uri": "https://localhost:8080/"
        },
        "id": "UhEnPSko-DG0",
        "outputId": "812dd489-3633-4e4d-81f2-4db3a93437a3"
      },
      "execution_count": null,
      "outputs": [
        {
          "output_type": "stream",
          "name": "stdout",
          "text": [
            "[1, 2, 3]\n",
            "0x7f0cf73abbe0\n"
          ]
        }
      ]
    },
    {
      "cell_type": "code",
      "source": [
        "my_list.append(4)\n",
        "print(my_list)\n",
        "print(hex(id(my_list)))"
      ],
      "metadata": {
        "colab": {
          "base_uri": "https://localhost:8080/"
        },
        "id": "dPUOhALM-hzJ",
        "outputId": "c60e788a-ee83-4e31-de5f-903263133829"
      },
      "execution_count": null,
      "outputs": [
        {
          "output_type": "stream",
          "name": "stdout",
          "text": [
            "[1, 2, 3, 4]\n",
            "0x7f0cf73abbe0\n"
          ]
        }
      ]
    },
    {
      "cell_type": "markdown",
      "source": [
        "As you can see, the memory address of `my_list` has not changed.\n",
        "\n",
        "But the contents of `my_list` has changed from [1, 2, 3] to [1, 2, 3, 4].\n"
      ],
      "metadata": {
        "id": "XK9MEOXl-nt-"
      }
    },
    {
      "cell_type": "markdown",
      "source": [
        "\n",
        "\n",
        "---\n",
        "**BE CAREFUL!**\n"
      ],
      "metadata": {
        "id": "m_TOiQGj_GA3"
      }
    },
    {
      "cell_type": "markdown",
      "source": [
        "*On the other hand, consider this:*"
      ],
      "metadata": {
        "id": "6y1ynncU_J8_"
      }
    },
    {
      "cell_type": "code",
      "source": [
        "my_list_1 = [1, 2, 3]\n",
        "print(my_list_1)\n",
        "print(hex(id(my_list_1)))"
      ],
      "metadata": {
        "colab": {
          "base_uri": "https://localhost:8080/"
        },
        "id": "nsSCW-mP-mpU",
        "outputId": "20cbf2f9-9e08-4ce9-cdcc-f3b278b72362"
      },
      "execution_count": null,
      "outputs": [
        {
          "output_type": "stream",
          "name": "stdout",
          "text": [
            "[1, 2, 3]\n",
            "0x7f0cef981f50\n"
          ]
        }
      ]
    },
    {
      "cell_type": "code",
      "source": [
        "my_list_1 = my_list_1 + [4]\n",
        "print(my_list_1)\n",
        "print(hex(id(my_list_1)))"
      ],
      "metadata": {
        "colab": {
          "base_uri": "https://localhost:8080/"
        },
        "id": "l8eTt06e-61K",
        "outputId": "9728d738-9a05-4360-8f5d-0b90e57e2f30"
      },
      "execution_count": null,
      "outputs": [
        {
          "output_type": "stream",
          "name": "stdout",
          "text": [
            "[1, 2, 3, 4]\n",
            "0x7f0cef988aa0\n"
          ]
        }
      ]
    },
    {
      "cell_type": "markdown",
      "source": [
        "*Notice here that the memory address of `my_list_1` did change.*\n",
        "\n",
        "*This is because concatenating two lists objects `my_list_1` and `[4]` did not modify the contents of `my_list_1` - instead it created a new list object and re-assigned `my_list_1` to reference this new object.*\n",
        "\n",
        "*Similarly with ditionary objects that are also mutable types.*"
      ],
      "metadata": {
        "id": "BTFws2uu-9xj"
      }
    },
    {
      "cell_type": "markdown",
      "source": [
        "\n",
        "\n",
        "---\n",
        "\n"
      ],
      "metadata": {
        "id": "ux56aZ1j_3zM"
      }
    },
    {
      "cell_type": "code",
      "source": [
        "my_dict = dict(key1 = 'value 1')\n",
        "print(my_dict)\n",
        "print(hex(id(my_dict)))"
      ],
      "metadata": {
        "colab": {
          "base_uri": "https://localhost:8080/"
        },
        "id": "lhZGeeqS-8F7",
        "outputId": "360c077e-058f-4b9f-92ee-3e8bddf35f8f"
      },
      "execution_count": null,
      "outputs": [
        {
          "output_type": "stream",
          "name": "stdout",
          "text": [
            "{'key1': 'value 1'}\n",
            "0x7f0cef8f80a0\n"
          ]
        }
      ]
    },
    {
      "cell_type": "code",
      "source": [
        "my_dict['key1'] = 'modified value 1'\n",
        "print(my_dict)\n",
        "print(hex(id(my_dict)))"
      ],
      "metadata": {
        "colab": {
          "base_uri": "https://localhost:8080/"
        },
        "id": "fxMukl-8_JTx",
        "outputId": "3b434b8f-c88e-4d2d-e1a9-2ae21392ab5c"
      },
      "execution_count": null,
      "outputs": [
        {
          "output_type": "stream",
          "name": "stdout",
          "text": [
            "{'key1': 'modified value 1'}\n",
            "0x7f0cef8f80a0\n"
          ]
        }
      ]
    },
    {
      "cell_type": "code",
      "source": [
        "my_dict['key2'] = 'value 2'\n",
        "print(my_dict)\n",
        "print(hex(id(my_dict)))"
      ],
      "metadata": {
        "colab": {
          "base_uri": "https://localhost:8080/"
        },
        "id": "jrqe31xsAGHG",
        "outputId": "7f9554f0-bc8e-4cc1-e934-4158f6e3c1b6"
      },
      "execution_count": null,
      "outputs": [
        {
          "output_type": "stream",
          "name": "stdout",
          "text": [
            "{'key1': 'modified value 1', 'key2': 'value 2'}\n",
            "0x7f0cef8f80a0\n"
          ]
        }
      ]
    },
    {
      "cell_type": "markdown",
      "source": [
        "Once again we see that while we are modifying the contents of the dictionary, the memory address of `my_dict` has not changed.\n",
        "\n",
        "Now consider the immutable sequence type: tuple\n",
        "\n",
        "The tuple is immutable, so elements cannot be added, removed or replaced."
      ],
      "metadata": {
        "id": "7JyH1WWCASRf"
      }
    },
    {
      "cell_type": "code",
      "source": [
        "t = (1 ,2 ,3)"
      ],
      "metadata": {
        "id": "Bzov2IvyAPCm"
      },
      "execution_count": null,
      "outputs": []
    },
    {
      "cell_type": "markdown",
      "source": [
        "This tuple will never change at all. It has three elementes, the integers 1, 2 , and 3. This will remain the case as long as `t`'s reference is not changed."
      ],
      "metadata": {
        "id": "msnln1ZcAkno"
      }
    },
    {
      "cell_type": "markdown",
      "source": [
        "\n",
        "\n",
        "---\n",
        "**BE CAREFUL!**\n"
      ],
      "metadata": {
        "id": "DSDxgg5AB6QW"
      }
    },
    {
      "cell_type": "markdown",
      "source": [
        "*But, consider the following tuple:*"
      ],
      "metadata": {
        "id": "4I7lBNLAB7PS"
      }
    },
    {
      "cell_type": "code",
      "source": [
        "a = [1, 2]\n",
        "b = [3, 4]\n",
        "t = (a, b)"
      ],
      "metadata": {
        "id": "tjJF_3H-AkGt"
      },
      "execution_count": null,
      "outputs": []
    },
    {
      "cell_type": "markdown",
      "source": [
        "*Now, `t` is still immutable, i.e. it contains a reference to the object `a` abd the object `b`. That will never change as long as `t`'s reference is not re-assigned.*\n",
        "\n",
        "*However, the elements `a` and `b` are, themselves, mutable.*"
      ],
      "metadata": {
        "id": "uW9tyyYoA4Lg"
      }
    },
    {
      "cell_type": "code",
      "source": [
        "a.append(3)\n",
        "b.append(5)\n",
        "print(t)"
      ],
      "metadata": {
        "colab": {
          "base_uri": "https://localhost:8080/"
        },
        "id": "TdirfipAA28_",
        "outputId": "81c765b7-c40c-4de5-8778-6b3df5f9e026"
      },
      "execution_count": null,
      "outputs": [
        {
          "output_type": "stream",
          "name": "stdout",
          "text": [
            "([1, 2, 3], [3, 4, 5])\n"
          ]
        }
      ]
    },
    {
      "cell_type": "markdown",
      "source": [
        "*Observe that the contents of `a` and `b` did change!*\n",
        "\n",
        "*So immutability can be a littlme more subtle than just thinking something can never change.*\n",
        "\n",
        "*The tuple `t` did not change - it contains two elements, that are the references `a` and `b`. And that will not change. But, because the referenced elements are mutable themselves, it appears as though the tuple has changed.*\n",
        "\n",
        "*It  hasn't though - tha distinction is subtle but important to understand!*"
      ],
      "metadata": {
        "id": "XirNTsfWBVAa"
      }
    },
    {
      "cell_type": "markdown",
      "source": [
        "\n",
        "\n",
        "---\n",
        "\n"
      ],
      "metadata": {
        "id": "MX4NiNTSB_j1"
      }
    },
    {
      "cell_type": "markdown",
      "source": [
        "### 07 - Function Arguments and Mutability"
      ],
      "metadata": {
        "id": "Pl4IlZeMDLor"
      }
    },
    {
      "cell_type": "markdown",
      "source": [
        "Consider a function that receives a string argument, and changes the argument in some way:"
      ],
      "metadata": {
        "id": "EYT9p3-SDTgl"
      }
    },
    {
      "cell_type": "code",
      "source": [
        "def process(s):\n",
        "    print('initial s # = {0}'.format(hex(id(s))))\n",
        "    s = s + ' world'\n",
        "    print('s after change # = {0}'.format(hex(id(s))))"
      ],
      "metadata": {
        "id": "1xY-g3VbDXAP"
      },
      "execution_count": null,
      "outputs": []
    },
    {
      "cell_type": "code",
      "source": [
        "my_var = 'hello'\n",
        "print('my_var # = {0}'.format(hex(id(my_var))))"
      ],
      "metadata": {
        "colab": {
          "base_uri": "https://localhost:8080/"
        },
        "id": "G6dCzzWzBTaJ",
        "outputId": "a8c894b6-a260-4c27-cb15-2019dee47a1a"
      },
      "execution_count": null,
      "outputs": [
        {
          "output_type": "stream",
          "name": "stdout",
          "text": [
            "my_var # = 0x7f0cfc68fa30\n"
          ]
        }
      ]
    },
    {
      "cell_type": "markdown",
      "source": [
        "Note that when s is received, it is referencing the same object as `my_var`.\n",
        "\n",
        "After we \"modify\" s, s is pointing to a new memory address:"
      ],
      "metadata": {
        "id": "ZGfepy0eHv-7"
      }
    },
    {
      "cell_type": "code",
      "source": [
        "process(my_var)"
      ],
      "metadata": {
        "colab": {
          "base_uri": "https://localhost:8080/"
        },
        "id": "rYtMsBNCGAol",
        "outputId": "91ea89fb-b2f0-4b8f-9e15-c958989b3d2e"
      },
      "execution_count": null,
      "outputs": [
        {
          "output_type": "stream",
          "name": "stdout",
          "text": [
            "initial s # = 0x7f0cfc68fa30\n",
            "s after change # = 0x7f0cef530db0\n"
          ]
        }
      ]
    },
    {
      "cell_type": "markdown",
      "source": [
        "And our own variable `my_var` is still pointing to the original memory address:"
      ],
      "metadata": {
        "id": "1_0f0OIuICvS"
      }
    },
    {
      "cell_type": "code",
      "source": [
        "print('my_var # = {0}'.format(hex(id(my_var))))"
      ],
      "metadata": {
        "colab": {
          "base_uri": "https://localhost:8080/"
        },
        "id": "L7bVxpiRH-qH",
        "outputId": "e98ad8f1-b697-4476-c1ca-b41227ad0991"
      },
      "execution_count": null,
      "outputs": [
        {
          "output_type": "stream",
          "name": "stdout",
          "text": [
            "my_var # = 0x7f0cfc68fa30\n"
          ]
        }
      ]
    },
    {
      "cell_type": "markdown",
      "source": [
        "Let's see how this works with mutable objects:"
      ],
      "metadata": {
        "id": "yA6HCHeAKVLm"
      }
    },
    {
      "cell_type": "code",
      "source": [
        "def modify_list(items):\n",
        "    print('initial items # = {0}'.format(hex(id(items))))\n",
        "    if len(items) > 0:\n",
        "        items[0] = items[0] ** 2\n",
        "    items.pop()\n",
        "    items.append(5)\n",
        "    print('final items # = {0}'.format(hex(id(items))))"
      ],
      "metadata": {
        "id": "4vj1O1yyKTAx"
      },
      "execution_count": null,
      "outputs": []
    },
    {
      "cell_type": "code",
      "source": [
        "my_list = [2, 3, 4]\n",
        "print('my_list # = {0}'.format(hex(id(my_list))))"
      ],
      "metadata": {
        "colab": {
          "base_uri": "https://localhost:8080/"
        },
        "id": "FC6FhUDvKwVN",
        "outputId": "52c6188b-8e7b-4e2f-d397-8827135ae067"
      },
      "execution_count": null,
      "outputs": [
        {
          "output_type": "stream",
          "name": "stdout",
          "text": [
            "my_list # = 0x7f0cef388f50\n"
          ]
        }
      ]
    },
    {
      "cell_type": "code",
      "source": [
        "modify_list(my_list)"
      ],
      "metadata": {
        "colab": {
          "base_uri": "https://localhost:8080/"
        },
        "id": "rEFu-1vDK5Pi",
        "outputId": "93264d58-58f0-4d0f-9671-46546c79aba8"
      },
      "execution_count": null,
      "outputs": [
        {
          "output_type": "stream",
          "name": "stdout",
          "text": [
            "initial items # = 0x7f0cef388f50\n",
            "final items # = 0x7f0cef388f50\n"
          ]
        }
      ]
    },
    {
      "cell_type": "code",
      "source": [
        "print(my_list)\n",
        "print('my_list # = {0}'.format(hex(id(my_list))))"
      ],
      "metadata": {
        "colab": {
          "base_uri": "https://localhost:8080/"
        },
        "id": "er9mKxlqK9z8",
        "outputId": "041f2007-f1c0-4bd4-ab88-690800bcf9a0"
      },
      "execution_count": null,
      "outputs": [
        {
          "output_type": "stream",
          "name": "stdout",
          "text": [
            "[4, 3, 5]\n",
            "my_list # = 0x7f0cef388f50\n"
          ]
        }
      ]
    },
    {
      "cell_type": "markdown",
      "source": [
        "As you can see, thoughout all the code, the memory address referenced by `my_list` and `items` is always the same (shared) reference - we are simply modifying the contents (internal state) of the object at that memory address.\n",
        "\n",
        "Now, even with immutable container objects we have to be careful, e.g. a tuple containing a list (the tuple is immutable, but the list element inside the tuple is mutable)"
      ],
      "metadata": {
        "id": "J3_1ZJmaLR2-"
      }
    },
    {
      "cell_type": "code",
      "source": [
        "def modify_tuple(t):\n",
        "    print('initial t # = {0}'.format(hex(id(t))))\n",
        "    t[0].append(100)\n",
        "    print('final t # = {0}'.format(hex(id(t))))"
      ],
      "metadata": {
        "id": "1gtAvPcOLOsp"
      },
      "execution_count": null,
      "outputs": []
    },
    {
      "cell_type": "code",
      "source": [
        "my_tuple = ([1, 2], 'a')"
      ],
      "metadata": {
        "id": "pWUPUet_MITG"
      },
      "execution_count": null,
      "outputs": []
    },
    {
      "cell_type": "code",
      "source": [
        "hex(id(my_tuple))"
      ],
      "metadata": {
        "colab": {
          "base_uri": "https://localhost:8080/",
          "height": 35
        },
        "id": "1L7-QqElMLp9",
        "outputId": "8dab9aa0-3cab-4eda-8ee2-a0a6ce11bdee"
      },
      "execution_count": null,
      "outputs": [
        {
          "output_type": "execute_result",
          "data": {
            "text/plain": [
              "'0x7f0cef29b410'"
            ],
            "application/vnd.google.colaboratory.intrinsic+json": {
              "type": "string"
            }
          },
          "metadata": {},
          "execution_count": 71
        }
      ]
    },
    {
      "cell_type": "code",
      "source": [
        "modify_tuple(my_tuple)"
      ],
      "metadata": {
        "colab": {
          "base_uri": "https://localhost:8080/"
        },
        "id": "q1QvQxA4MNEA",
        "outputId": "88af3a55-eac4-4711-fb61-b1b8df963416"
      },
      "execution_count": null,
      "outputs": [
        {
          "output_type": "stream",
          "name": "stdout",
          "text": [
            "initial t # = 0x7f0cef29b410\n",
            "final t # = 0x7f0cef29b410\n"
          ]
        }
      ]
    },
    {
      "cell_type": "code",
      "source": [
        "my_tuple"
      ],
      "metadata": {
        "colab": {
          "base_uri": "https://localhost:8080/"
        },
        "id": "t9xleyNWMPdT",
        "outputId": "0835c343-f449-490c-9d7f-bcf40d677a2a"
      },
      "execution_count": null,
      "outputs": [
        {
          "output_type": "execute_result",
          "data": {
            "text/plain": [
              "([1, 2, 100], 'a')"
            ]
          },
          "metadata": {},
          "execution_count": 73
        }
      ]
    },
    {
      "cell_type": "markdown",
      "source": [
        "As you can see, the first element of the tuple was mutated."
      ],
      "metadata": {
        "id": "QPXyOHv0MSVi"
      }
    },
    {
      "cell_type": "markdown",
      "source": [
        "### 08 - Shared References and Mutability"
      ],
      "metadata": {
        "id": "1W-JxmEVf0QH"
      }
    },
    {
      "cell_type": "markdown",
      "source": [
        "The following sets up a shared reference between the variables `my_var_1` and `my_var_2`"
      ],
      "metadata": {
        "id": "kABYLJdUf5Oe"
      }
    },
    {
      "cell_type": "code",
      "source": [
        "my_var_1 = 'hello'\n",
        "my_var_2 = my_var_1\n",
        "print(my_var_1)\n",
        "print(my_var_2)"
      ],
      "metadata": {
        "id": "dRTYVProMRh8",
        "colab": {
          "base_uri": "https://localhost:8080/"
        },
        "outputId": "09e864b9-222d-4d39-fc9f-14b23b699947"
      },
      "execution_count": 1,
      "outputs": [
        {
          "output_type": "stream",
          "name": "stdout",
          "text": [
            "hello\n",
            "hello\n"
          ]
        }
      ]
    },
    {
      "cell_type": "code",
      "source": [
        "print(hex(id(my_var_1)))\n",
        "print(hex(id(my_var_2)))"
      ],
      "metadata": {
        "colab": {
          "base_uri": "https://localhost:8080/"
        },
        "id": "mkaCjgQBgPLB",
        "outputId": "0b3967c7-0dad-43c2-8abb-6ee0206a6a7d"
      },
      "execution_count": 2,
      "outputs": [
        {
          "output_type": "stream",
          "name": "stdout",
          "text": [
            "0x7f52d07a7d70\n",
            "0x7f52d07a7d70\n"
          ]
        }
      ]
    },
    {
      "cell_type": "code",
      "source": [
        "my_var_2 = my_var_2 + ' world!'"
      ],
      "metadata": {
        "id": "YD72RaMVgi73"
      },
      "execution_count": 3,
      "outputs": []
    },
    {
      "cell_type": "code",
      "source": [
        "print(hex(id(my_var_1)))\n",
        "print(hex(id(my_var_2)))"
      ],
      "metadata": {
        "colab": {
          "base_uri": "https://localhost:8080/"
        },
        "id": "ZkHeoYXAgrFw",
        "outputId": "75706ae4-2f1b-4c9c-8ec1-edd70108ac98"
      },
      "execution_count": 4,
      "outputs": [
        {
          "output_type": "stream",
          "name": "stdout",
          "text": [
            "0x7f52d07a7d70\n",
            "0x7f52cb4cb8b0\n"
          ]
        }
      ]
    },
    {
      "cell_type": "markdown",
      "source": [
        "\n",
        "\n",
        "---\n",
        "**BE CAREFUL!**\n"
      ],
      "metadata": {
        "id": "s1kRhpaJg1Y7"
      }
    },
    {
      "cell_type": "markdown",
      "source": [
        "*Be careful if the variable type is mutable!*\n",
        "\n",
        "*Here we create a list `(my_list_1)` and create a variable `(my_list_2)` referencing the same list object:*"
      ],
      "metadata": {
        "id": "nree_m-bg457"
      }
    },
    {
      "cell_type": "code",
      "source": [
        "my_list_1 = [1, 2, 3]\n",
        "my_list_2 = my_list_1\n",
        "print(my_list_1)\n",
        "print(my_list_2)"
      ],
      "metadata": {
        "colab": {
          "base_uri": "https://localhost:8080/"
        },
        "id": "K1gCgeZtgwfq",
        "outputId": "3308b22d-0a2b-4d30-ca62-31745d7ef245"
      },
      "execution_count": 5,
      "outputs": [
        {
          "output_type": "stream",
          "name": "stdout",
          "text": [
            "[1, 2, 3]\n",
            "[1, 2, 3]\n"
          ]
        }
      ]
    },
    {
      "cell_type": "markdown",
      "source": [
        "*As we can see they have the same memory address (shared reference):*"
      ],
      "metadata": {
        "id": "laW3ld2_hmuF"
      }
    },
    {
      "cell_type": "code",
      "source": [
        "print(hex(id(my_list_1)))\n",
        "print(hex(id(my_list_2)))"
      ],
      "metadata": {
        "colab": {
          "base_uri": "https://localhost:8080/"
        },
        "id": "6juScz8nhcnC",
        "outputId": "8b1e54b5-a616-48d7-aedd-31a9905926b4"
      },
      "execution_count": 6,
      "outputs": [
        {
          "output_type": "stream",
          "name": "stdout",
          "text": [
            "0x7f52cb46ea00\n",
            "0x7f52cb46ea00\n"
          ]
        }
      ]
    },
    {
      "cell_type": "markdown",
      "source": [
        "\n",
        "\n",
        "---\n",
        "\n"
      ],
      "metadata": {
        "id": "6EBhx-wMiCOB"
      }
    },
    {
      "cell_type": "markdown",
      "source": [
        "Now we modify the list referenced by `my_list_2`:"
      ],
      "metadata": {
        "id": "85N_C0CAhyhP"
      }
    },
    {
      "cell_type": "code",
      "source": [
        "my_list_2.append(4)"
      ],
      "metadata": {
        "id": "EFtMDjiVhvMZ"
      },
      "execution_count": 7,
      "outputs": []
    },
    {
      "cell_type": "markdown",
      "source": [
        "`my_list_2` has been modified:"
      ],
      "metadata": {
        "id": "raeoZH5AiH0p"
      }
    },
    {
      "cell_type": "code",
      "source": [
        "print(my_list_2)"
      ],
      "metadata": {
        "colab": {
          "base_uri": "https://localhost:8080/"
        },
        "id": "rCwSEpUxiGvB",
        "outputId": "0a94ec89-3897-4d6a-fbb3-a60700c6ae40"
      },
      "execution_count": 8,
      "outputs": [
        {
          "output_type": "stream",
          "name": "stdout",
          "text": [
            "[1, 2, 3, 4]\n"
          ]
        }
      ]
    },
    {
      "cell_type": "markdown",
      "source": [
        "And since my_list_1 references the same list object, it has also changed:"
      ],
      "metadata": {
        "id": "E7RyXtO7iQid"
      }
    },
    {
      "cell_type": "code",
      "source": [
        "print(my_list_1)"
      ],
      "metadata": {
        "colab": {
          "base_uri": "https://localhost:8080/"
        },
        "id": "2Dok-85EiP3m",
        "outputId": "66484233-673f-4659-aca9-33bae1f6b405"
      },
      "execution_count": 9,
      "outputs": [
        {
          "output_type": "stream",
          "name": "stdout",
          "text": [
            "[1, 2, 3, 4]\n"
          ]
        }
      ]
    },
    {
      "cell_type": "markdown",
      "source": [
        "As you can see, both variables still share the same reference:"
      ],
      "metadata": {
        "id": "TqMkxc7Nia7u"
      }
    },
    {
      "cell_type": "code",
      "source": [
        "print(hex(id(my_list_1)))\n",
        "print(hex(id(my_list_2)))"
      ],
      "metadata": {
        "colab": {
          "base_uri": "https://localhost:8080/"
        },
        "id": "q_Ef0yO_iXKm",
        "outputId": "39d1ca1d-cac3-4929-8fef-0807434608e8"
      },
      "execution_count": 10,
      "outputs": [
        {
          "output_type": "stream",
          "name": "stdout",
          "text": [
            "0x7f52cb46ea00\n",
            "0x7f52cb46ea00\n"
          ]
        }
      ]
    },
    {
      "cell_type": "markdown",
      "source": [
        "**Behind the scenes with Python's memory manager**"
      ],
      "metadata": {
        "id": "mRnVSSPoim_H"
      }
    },
    {
      "cell_type": "markdown",
      "source": [
        "Recall from a few lectures back:"
      ],
      "metadata": {
        "id": "8rjpxtzMiuD4"
      }
    },
    {
      "cell_type": "code",
      "source": [
        "a = 10\n",
        "b = 10"
      ],
      "metadata": {
        "id": "74_yqlXpiknY"
      },
      "execution_count": 11,
      "outputs": []
    },
    {
      "cell_type": "code",
      "source": [
        "print(hex(id(a)))\n",
        "print(hex(id(b)))"
      ],
      "metadata": {
        "colab": {
          "base_uri": "https://localhost:8080/"
        },
        "id": "nzZvgFt_iy8B",
        "outputId": "20c2a882-baf2-4d19-9f00-2aa0b026c2d6"
      },
      "execution_count": 12,
      "outputs": [
        {
          "output_type": "stream",
          "name": "stdout",
          "text": [
            "0xa9b8c0\n",
            "0xa9b8c0\n"
          ]
        }
      ]
    },
    {
      "cell_type": "markdown",
      "source": [
        "Same memory address!!\n",
        "\n",
        "This is safe for Python to do because integer objects are immutable.\n",
        "\n",
        "So, even though `a` and `b` initially shared the same memory address, we can never modify a's value by \"modifying\" b' value.\n",
        "\n",
        "The only way to change `b`'s value is to change it's reference, which will never affect `a`."
      ],
      "metadata": {
        "id": "-Jmf9QDci26Z"
      }
    },
    {
      "cell_type": "code",
      "source": [
        "b = 15"
      ],
      "metadata": {
        "id": "DKtm7qxRi2B4"
      },
      "execution_count": 13,
      "outputs": []
    },
    {
      "cell_type": "code",
      "source": [
        "print(hex(id(a)))\n",
        "print(hex(id(b)))"
      ],
      "metadata": {
        "colab": {
          "base_uri": "https://localhost:8080/"
        },
        "id": "BOyrNJqnk5Qz",
        "outputId": "79928d89-b7af-4090-93f0-85b70f44e3e2"
      },
      "execution_count": 14,
      "outputs": [
        {
          "output_type": "stream",
          "name": "stdout",
          "text": [
            "0xa9b8c0\n",
            "0xa9b960\n"
          ]
        }
      ]
    },
    {
      "cell_type": "markdown",
      "source": [
        "However, for mutable objects, Python's memory manager does not do this, since that would not be safe."
      ],
      "metadata": {
        "id": "5AJNiSsmk8_A"
      }
    },
    {
      "cell_type": "code",
      "source": [
        "my_list_1 = [1, 2, 3]\n",
        "my_list_2 = [1, 2 ,3]"
      ],
      "metadata": {
        "id": "Bj_IMcHtk8Nd"
      },
      "execution_count": 15,
      "outputs": []
    },
    {
      "cell_type": "markdown",
      "source": [
        "As you can see, although the two variables were assingend identical \"contents\", the memory addresses are not the same:"
      ],
      "metadata": {
        "id": "kkp4sdzLlKT7"
      }
    },
    {
      "cell_type": "code",
      "source": [
        "print(hex(id(my_list_1)))\n",
        "print(hex(id(my_list_2)))"
      ],
      "metadata": {
        "colab": {
          "base_uri": "https://localhost:8080/"
        },
        "id": "_T5jeTKHlJx4",
        "outputId": "53fe4ba7-a0ec-43be-f4ba-3a30066590be"
      },
      "execution_count": 17,
      "outputs": [
        {
          "output_type": "stream",
          "name": "stdout",
          "text": [
            "0x7f52c3ccd780\n",
            "0x7f52c3d3ceb0\n"
          ]
        }
      ]
    },
    {
      "cell_type": "markdown",
      "source": [
        "### 09 - Variable Equality"
      ],
      "metadata": {
        "id": "mMwhfroblbJz"
      }
    },
    {
      "cell_type": "markdown",
      "source": [
        "From the previous lecture we know that `a` and `b` will have a shared reference:"
      ],
      "metadata": {
        "id": "5UrNKrjLlgAi"
      }
    },
    {
      "cell_type": "code",
      "source": [
        "a = 10\n",
        "b = 10\n",
        "\n",
        "print(hex(id(a)))\n",
        "print(hex(id(b)))"
      ],
      "metadata": {
        "colab": {
          "base_uri": "https://localhost:8080/"
        },
        "id": "-Mjmi9gGlV9a",
        "outputId": "584f02e1-a0c5-44fb-eb59-ab1c1ec381f3"
      },
      "execution_count": 18,
      "outputs": [
        {
          "output_type": "stream",
          "name": "stdout",
          "text": [
            "0xa9b8c0\n",
            "0xa9b8c0\n"
          ]
        }
      ]
    },
    {
      "cell_type": "markdown",
      "source": [
        "When we use the `is` operator, we are comparing t he moemory address references:"
      ],
      "metadata": {
        "id": "DkNvgw2flxRH"
      }
    },
    {
      "cell_type": "code",
      "source": [
        "print(\"a is b \", a is b)"
      ],
      "metadata": {
        "colab": {
          "base_uri": "https://localhost:8080/"
        },
        "id": "BjlSH89mltkH",
        "outputId": "92016d26-1e78-45f9-c7c6-880c3f1058fa"
      },
      "execution_count": 19,
      "outputs": [
        {
          "output_type": "stream",
          "name": "stdout",
          "text": [
            "a is b  True\n"
          ]
        }
      ]
    },
    {
      "cell_type": "markdown",
      "source": [
        "But if we use the `==` operator, we are comparing the contents:"
      ],
      "metadata": {
        "id": "wvGvOix4l57p"
      }
    },
    {
      "cell_type": "code",
      "source": [
        "print(\"a == b\", a == b)"
      ],
      "metadata": {
        "colab": {
          "base_uri": "https://localhost:8080/"
        },
        "id": "kOMkm-O-l4zj",
        "outputId": "dc5fa079-03b0-4961-8a76-1e76fc1b8cd8"
      },
      "execution_count": 20,
      "outputs": [
        {
          "output_type": "stream",
          "name": "stdout",
          "text": [
            "a == b True\n"
          ]
        }
      ]
    },
    {
      "cell_type": "markdown",
      "source": [
        "The following however, do not have a shared reference:"
      ],
      "metadata": {
        "id": "eSNXTdcimCZh"
      }
    },
    {
      "cell_type": "code",
      "source": [
        "a = [1, 2, 3]\n",
        "b = [1, 2, 3]\n",
        "\n",
        "print(hex(id(a)))\n",
        "print(hex(id(b)))"
      ],
      "metadata": {
        "colab": {
          "base_uri": "https://localhost:8080/"
        },
        "id": "KVQpzMx1mBbU",
        "outputId": "788e0d19-08f7-4f3b-cae2-aeb9bd03462d"
      },
      "execution_count": 21,
      "outputs": [
        {
          "output_type": "stream",
          "name": "stdout",
          "text": [
            "0x7f52c3d2d500\n",
            "0x7f52c3d2d280\n"
          ]
        }
      ]
    },
    {
      "cell_type": "markdown",
      "source": [
        "Although they are not the same objects, they do contain the same \"values\""
      ],
      "metadata": {
        "id": "V-S8R16vmitB"
      }
    },
    {
      "cell_type": "code",
      "source": [
        "print(\"a is b\", a is b)\n",
        "print(\"a == b\", a == b)"
      ],
      "metadata": {
        "colab": {
          "base_uri": "https://localhost:8080/"
        },
        "id": "LuxX93UumM4L",
        "outputId": "f0764494-9f6a-4443-c967-8a0dfe2dca9e"
      },
      "execution_count": 22,
      "outputs": [
        {
          "output_type": "stream",
          "name": "stdout",
          "text": [
            "a is b False\n",
            "a == b True\n"
          ]
        }
      ]
    },
    {
      "cell_type": "markdown",
      "source": [
        "Python will attempt to compare values as best as posssible, for example:"
      ],
      "metadata": {
        "id": "SiDY-LqwmtkM"
      }
    },
    {
      "cell_type": "code",
      "source": [
        "a = 10\n",
        "b = 10.0"
      ],
      "metadata": {
        "id": "aHtexCYqmstK"
      },
      "execution_count": 23,
      "outputs": []
    },
    {
      "cell_type": "markdown",
      "source": [
        "These are not the same reference, since one object is an `int` and the other is a `float`"
      ],
      "metadata": {
        "id": "zWYMW2xOm1Ee"
      }
    },
    {
      "cell_type": "code",
      "source": [
        "print(type(a))\n",
        "print(type(b))"
      ],
      "metadata": {
        "colab": {
          "base_uri": "https://localhost:8080/"
        },
        "id": "XRubRmQum0eo",
        "outputId": "407fe647-dd13-4f92-e3ac-77c19c980d71"
      },
      "execution_count": 24,
      "outputs": [
        {
          "output_type": "stream",
          "name": "stdout",
          "text": [
            "<class 'int'>\n",
            "<class 'float'>\n"
          ]
        }
      ]
    },
    {
      "cell_type": "code",
      "source": [
        "print(hex(id(a)))\n",
        "print(hex(id(b)))"
      ],
      "metadata": {
        "colab": {
          "base_uri": "https://localhost:8080/"
        },
        "id": "4BC7yIwom_kD",
        "outputId": "9f9334bb-6df4-4c99-9aab-9183e04a5369"
      },
      "execution_count": 25,
      "outputs": [
        {
          "output_type": "stream",
          "name": "stdout",
          "text": [
            "0xa9b8c0\n",
            "0x7f52c3d19510\n"
          ]
        }
      ]
    },
    {
      "cell_type": "code",
      "source": [
        "print(\"a is b\", a is b)\n",
        "print(\"a == b\", a == b)"
      ],
      "metadata": {
        "colab": {
          "base_uri": "https://localhost:8080/"
        },
        "id": "x6rbH_kEnDD4",
        "outputId": "e5f33b9e-58af-4719-aa57-23868c29d70f"
      },
      "execution_count": 26,
      "outputs": [
        {
          "output_type": "stream",
          "name": "stdout",
          "text": [
            "a is b False\n",
            "a == b True\n"
          ]
        }
      ]
    },
    {
      "cell_type": "markdown",
      "source": [
        "So, even though `a` is an integer 10, and `b` is a float 10.0, the values will still compare as equal.\n",
        "\n",
        "In fact, this will also have the same behavior:"
      ],
      "metadata": {
        "id": "xH-LwMhnnGmd"
      }
    },
    {
      "cell_type": "code",
      "source": [
        "c = 10 + 0j\n",
        "print(type(c))"
      ],
      "metadata": {
        "colab": {
          "base_uri": "https://localhost:8080/"
        },
        "id": "FvBJXl3NnFdz",
        "outputId": "9e13e6e0-e650-4c37-b308-b8825750b03b"
      },
      "execution_count": 27,
      "outputs": [
        {
          "output_type": "stream",
          "name": "stdout",
          "text": [
            "<class 'complex'>\n"
          ]
        }
      ]
    },
    {
      "cell_type": "code",
      "source": [
        "print(\"a is c\", a is c)\n",
        "print(\"a == c\", a == c)"
      ],
      "metadata": {
        "colab": {
          "base_uri": "https://localhost:8080/"
        },
        "id": "45IQi_s4nWdI",
        "outputId": "3c2019e6-978a-4487-872b-8c4dd1a69115"
      },
      "execution_count": 28,
      "outputs": [
        {
          "output_type": "stream",
          "name": "stdout",
          "text": [
            "a is c False\n",
            "a == c True\n"
          ]
        }
      ]
    },
    {
      "cell_type": "markdown",
      "source": [
        "**The None Object**"
      ],
      "metadata": {
        "id": "gFAc9OXgnbRB"
      }
    },
    {
      "cell_type": "markdown",
      "source": [
        "`None` is a built-in \"variable\" of type `NoneType`.\n",
        "\n",
        "Basically the keyword `None` is a reference to an object instance of `NoneType`.\n",
        "\n",
        "NoneType objects are immutable! Python's memory manager will therefore use shared references to the None object."
      ],
      "metadata": {
        "id": "VdmQn4yhnewb"
      }
    },
    {
      "cell_type": "code",
      "source": [
        "print(None)"
      ],
      "metadata": {
        "colab": {
          "base_uri": "https://localhost:8080/"
        },
        "id": "pmFNla4lnZiZ",
        "outputId": "c6460ff6-a563-4da0-b756-1d777046f863"
      },
      "execution_count": 29,
      "outputs": [
        {
          "output_type": "stream",
          "name": "stdout",
          "text": [
            "None\n"
          ]
        }
      ]
    },
    {
      "cell_type": "code",
      "source": [
        "hex(id(None))"
      ],
      "metadata": {
        "colab": {
          "base_uri": "https://localhost:8080/",
          "height": 35
        },
        "id": "zDN2ViHqn-wu",
        "outputId": "ac81d604-40e8-45b9-e577-8e50d13ef3e2"
      },
      "execution_count": 30,
      "outputs": [
        {
          "output_type": "execute_result",
          "data": {
            "text/plain": [
              "'0xa9ae00'"
            ],
            "application/vnd.google.colaboratory.intrinsic+json": {
              "type": "string"
            }
          },
          "metadata": {},
          "execution_count": 30
        }
      ]
    },
    {
      "cell_type": "code",
      "source": [
        "type(None)"
      ],
      "metadata": {
        "colab": {
          "base_uri": "https://localhost:8080/"
        },
        "id": "Cyg_aVlwoHMA",
        "outputId": "f58db88f-d99e-4e96-8445-4f73ac4534f0"
      },
      "execution_count": 32,
      "outputs": [
        {
          "output_type": "execute_result",
          "data": {
            "text/plain": [
              "NoneType"
            ]
          },
          "metadata": {},
          "execution_count": 32
        }
      ]
    },
    {
      "cell_type": "code",
      "source": [
        "a = None\n",
        "print(type(a))\n",
        "print(hex(id(a)))"
      ],
      "metadata": {
        "colab": {
          "base_uri": "https://localhost:8080/"
        },
        "id": "tik9taUyn_8T",
        "outputId": "ae8f3124-31c0-4463-fbac-b281076691d0"
      },
      "execution_count": 31,
      "outputs": [
        {
          "output_type": "stream",
          "name": "stdout",
          "text": [
            "<class 'NoneType'>\n",
            "0xa9ae00\n"
          ]
        }
      ]
    },
    {
      "cell_type": "code",
      "source": [
        "a is None"
      ],
      "metadata": {
        "colab": {
          "base_uri": "https://localhost:8080/"
        },
        "id": "g4alerswoDD6",
        "outputId": "b7a05c0d-00b1-4b0e-843f-449c8bbd2ef8"
      },
      "execution_count": 33,
      "outputs": [
        {
          "output_type": "execute_result",
          "data": {
            "text/plain": [
              "True"
            ]
          },
          "metadata": {},
          "execution_count": 33
        }
      ]
    },
    {
      "cell_type": "code",
      "source": [
        "a == None"
      ],
      "metadata": {
        "colab": {
          "base_uri": "https://localhost:8080/"
        },
        "id": "GsaJrNGFoL0d",
        "outputId": "d8a82490-d10e-4928-eb27-ed8de480038d"
      },
      "execution_count": 34,
      "outputs": [
        {
          "output_type": "execute_result",
          "data": {
            "text/plain": [
              "True"
            ]
          },
          "metadata": {},
          "execution_count": 34
        }
      ]
    },
    {
      "cell_type": "code",
      "source": [
        "b = None\n",
        "hex(id(b))"
      ],
      "metadata": {
        "colab": {
          "base_uri": "https://localhost:8080/",
          "height": 35
        },
        "id": "NJnl0z4doM9T",
        "outputId": "7045977e-c1c8-4be7-dfb9-705037f9e997"
      },
      "execution_count": 36,
      "outputs": [
        {
          "output_type": "execute_result",
          "data": {
            "text/plain": [
              "'0xa9ae00'"
            ],
            "application/vnd.google.colaboratory.intrinsic+json": {
              "type": "string"
            }
          },
          "metadata": {},
          "execution_count": 36
        }
      ]
    },
    {
      "cell_type": "code",
      "source": [
        "a is b"
      ],
      "metadata": {
        "colab": {
          "base_uri": "https://localhost:8080/"
        },
        "id": "qzmqXjvMoN8N",
        "outputId": "72bfeafd-bdf0-4554-b80d-69099d7b5944"
      },
      "execution_count": 37,
      "outputs": [
        {
          "output_type": "execute_result",
          "data": {
            "text/plain": [
              "True"
            ]
          },
          "metadata": {},
          "execution_count": 37
        }
      ]
    },
    {
      "cell_type": "code",
      "source": [
        "a == b"
      ],
      "metadata": {
        "colab": {
          "base_uri": "https://localhost:8080/"
        },
        "id": "i2ZlANWDoV8V",
        "outputId": "f53adbae-a2ba-4b8d-efff-bfda3991f9f7"
      },
      "execution_count": 38,
      "outputs": [
        {
          "output_type": "execute_result",
          "data": {
            "text/plain": [
              "True"
            ]
          },
          "metadata": {},
          "execution_count": 38
        }
      ]
    },
    {
      "cell_type": "code",
      "source": [
        "l = []"
      ],
      "metadata": {
        "id": "VdMpun7moW70"
      },
      "execution_count": 39,
      "outputs": []
    },
    {
      "cell_type": "code",
      "source": [
        "type(l)"
      ],
      "metadata": {
        "colab": {
          "base_uri": "https://localhost:8080/"
        },
        "id": "UxZnGr0zoYSv",
        "outputId": "b304b731-780b-46c0-9b45-348d6615948d"
      },
      "execution_count": 40,
      "outputs": [
        {
          "output_type": "execute_result",
          "data": {
            "text/plain": [
              "list"
            ]
          },
          "metadata": {},
          "execution_count": 40
        }
      ]
    },
    {
      "cell_type": "code",
      "source": [
        "l is None"
      ],
      "metadata": {
        "colab": {
          "base_uri": "https://localhost:8080/"
        },
        "id": "L0_MJPMboZvt",
        "outputId": "37483d2e-f323-4758-dda4-acc266008152"
      },
      "execution_count": 41,
      "outputs": [
        {
          "output_type": "execute_result",
          "data": {
            "text/plain": [
              "False"
            ]
          },
          "metadata": {},
          "execution_count": 41
        }
      ]
    },
    {
      "cell_type": "code",
      "source": [
        "l == None"
      ],
      "metadata": {
        "colab": {
          "base_uri": "https://localhost:8080/"
        },
        "id": "vvpOGawzochp",
        "outputId": "065d30b1-dce2-4027-ca24-68fe6a2106f7"
      },
      "execution_count": 42,
      "outputs": [
        {
          "output_type": "execute_result",
          "data": {
            "text/plain": [
              "False"
            ]
          },
          "metadata": {},
          "execution_count": 42
        }
      ]
    },
    {
      "cell_type": "markdown",
      "source": [
        "### 10 - Everything is an Object"
      ],
      "metadata": {
        "id": "XEXZMQyvokNQ"
      }
    },
    {
      "cell_type": "code",
      "source": [
        "a = 10"
      ],
      "metadata": {
        "id": "tg4vpD-XoeXO"
      },
      "execution_count": 43,
      "outputs": []
    },
    {
      "cell_type": "markdown",
      "source": [
        "`a` is an object of type `int`, i.e. `a` is an instance of the `int` class."
      ],
      "metadata": {
        "id": "gySbmSnfuyiU"
      }
    },
    {
      "cell_type": "code",
      "source": [
        "print(type(a))"
      ],
      "metadata": {
        "colab": {
          "base_uri": "https://localhost:8080/"
        },
        "id": "6AcIgEKOuxHy",
        "outputId": "da2bbfd7-ba8b-4e56-98d4-2a495be86ea3"
      },
      "execution_count": 44,
      "outputs": [
        {
          "output_type": "stream",
          "name": "stdout",
          "text": [
            "<class 'int'>\n"
          ]
        }
      ]
    },
    {
      "cell_type": "markdown",
      "source": [
        "if `int` is a class, we should be able to declare it using standard class instatiation:"
      ],
      "metadata": {
        "id": "TsloVbEMvAkC"
      }
    },
    {
      "cell_type": "code",
      "source": [
        "b = int(10)"
      ],
      "metadata": {
        "id": "H7d1kH6xu_gE"
      },
      "execution_count": 45,
      "outputs": []
    },
    {
      "cell_type": "code",
      "source": [
        "print(b)\n",
        "print(type(b))"
      ],
      "metadata": {
        "colab": {
          "base_uri": "https://localhost:8080/"
        },
        "id": "ftss9aHuvJX7",
        "outputId": "a3272286-9d64-4cb3-f9df-f734f1e29256"
      },
      "execution_count": 47,
      "outputs": [
        {
          "output_type": "stream",
          "name": "stdout",
          "text": [
            "10\n",
            "<class 'int'>\n"
          ]
        }
      ]
    },
    {
      "cell_type": "markdown",
      "source": [
        "We can even request the class documentation:"
      ],
      "metadata": {
        "id": "RZNt3L_9vNJ7"
      }
    },
    {
      "cell_type": "code",
      "source": [
        "help(int)"
      ],
      "metadata": {
        "colab": {
          "base_uri": "https://localhost:8080/"
        },
        "id": "CV8ekCbhvMMy",
        "outputId": "07a997f1-b363-4a12-f639-d631204c7c1e"
      },
      "execution_count": 48,
      "outputs": [
        {
          "output_type": "stream",
          "name": "stdout",
          "text": [
            "Help on class int in module builtins:\n",
            "\n",
            "class int(object)\n",
            " |  int([x]) -> integer\n",
            " |  int(x, base=10) -> integer\n",
            " |  \n",
            " |  Convert a number or string to an integer, or return 0 if no arguments\n",
            " |  are given.  If x is a number, return x.__int__().  For floating point\n",
            " |  numbers, this truncates towards zero.\n",
            " |  \n",
            " |  If x is not a number or if base is given, then x must be a string,\n",
            " |  bytes, or bytearray instance representing an integer literal in the\n",
            " |  given base.  The literal can be preceded by '+' or '-' and be surrounded\n",
            " |  by whitespace.  The base defaults to 10.  Valid bases are 0 and 2-36.\n",
            " |  Base 0 means to interpret the base from the string as an integer literal.\n",
            " |  >>> int('0b100', base=0)\n",
            " |  4\n",
            " |  \n",
            " |  Methods defined here:\n",
            " |  \n",
            " |  __abs__(self, /)\n",
            " |      abs(self)\n",
            " |  \n",
            " |  __add__(self, value, /)\n",
            " |      Return self+value.\n",
            " |  \n",
            " |  __and__(self, value, /)\n",
            " |      Return self&value.\n",
            " |  \n",
            " |  __bool__(self, /)\n",
            " |      self != 0\n",
            " |  \n",
            " |  __ceil__(...)\n",
            " |      Ceiling of an Integral returns itself.\n",
            " |  \n",
            " |  __divmod__(self, value, /)\n",
            " |      Return divmod(self, value).\n",
            " |  \n",
            " |  __eq__(self, value, /)\n",
            " |      Return self==value.\n",
            " |  \n",
            " |  __float__(self, /)\n",
            " |      float(self)\n",
            " |  \n",
            " |  __floor__(...)\n",
            " |      Flooring an Integral returns itself.\n",
            " |  \n",
            " |  __floordiv__(self, value, /)\n",
            " |      Return self//value.\n",
            " |  \n",
            " |  __format__(self, format_spec, /)\n",
            " |      Default object formatter.\n",
            " |  \n",
            " |  __ge__(self, value, /)\n",
            " |      Return self>=value.\n",
            " |  \n",
            " |  __getattribute__(self, name, /)\n",
            " |      Return getattr(self, name).\n",
            " |  \n",
            " |  __getnewargs__(self, /)\n",
            " |  \n",
            " |  __gt__(self, value, /)\n",
            " |      Return self>value.\n",
            " |  \n",
            " |  __hash__(self, /)\n",
            " |      Return hash(self).\n",
            " |  \n",
            " |  __index__(self, /)\n",
            " |      Return self converted to an integer, if self is suitable for use as an index into a list.\n",
            " |  \n",
            " |  __int__(self, /)\n",
            " |      int(self)\n",
            " |  \n",
            " |  __invert__(self, /)\n",
            " |      ~self\n",
            " |  \n",
            " |  __le__(self, value, /)\n",
            " |      Return self<=value.\n",
            " |  \n",
            " |  __lshift__(self, value, /)\n",
            " |      Return self<<value.\n",
            " |  \n",
            " |  __lt__(self, value, /)\n",
            " |      Return self<value.\n",
            " |  \n",
            " |  __mod__(self, value, /)\n",
            " |      Return self%value.\n",
            " |  \n",
            " |  __mul__(self, value, /)\n",
            " |      Return self*value.\n",
            " |  \n",
            " |  __ne__(self, value, /)\n",
            " |      Return self!=value.\n",
            " |  \n",
            " |  __neg__(self, /)\n",
            " |      -self\n",
            " |  \n",
            " |  __or__(self, value, /)\n",
            " |      Return self|value.\n",
            " |  \n",
            " |  __pos__(self, /)\n",
            " |      +self\n",
            " |  \n",
            " |  __pow__(self, value, mod=None, /)\n",
            " |      Return pow(self, value, mod).\n",
            " |  \n",
            " |  __radd__(self, value, /)\n",
            " |      Return value+self.\n",
            " |  \n",
            " |  __rand__(self, value, /)\n",
            " |      Return value&self.\n",
            " |  \n",
            " |  __rdivmod__(self, value, /)\n",
            " |      Return divmod(value, self).\n",
            " |  \n",
            " |  __repr__(self, /)\n",
            " |      Return repr(self).\n",
            " |  \n",
            " |  __rfloordiv__(self, value, /)\n",
            " |      Return value//self.\n",
            " |  \n",
            " |  __rlshift__(self, value, /)\n",
            " |      Return value<<self.\n",
            " |  \n",
            " |  __rmod__(self, value, /)\n",
            " |      Return value%self.\n",
            " |  \n",
            " |  __rmul__(self, value, /)\n",
            " |      Return value*self.\n",
            " |  \n",
            " |  __ror__(self, value, /)\n",
            " |      Return value|self.\n",
            " |  \n",
            " |  __round__(...)\n",
            " |      Rounding an Integral returns itself.\n",
            " |      Rounding with an ndigits argument also returns an integer.\n",
            " |  \n",
            " |  __rpow__(self, value, mod=None, /)\n",
            " |      Return pow(value, self, mod).\n",
            " |  \n",
            " |  __rrshift__(self, value, /)\n",
            " |      Return value>>self.\n",
            " |  \n",
            " |  __rshift__(self, value, /)\n",
            " |      Return self>>value.\n",
            " |  \n",
            " |  __rsub__(self, value, /)\n",
            " |      Return value-self.\n",
            " |  \n",
            " |  __rtruediv__(self, value, /)\n",
            " |      Return value/self.\n",
            " |  \n",
            " |  __rxor__(self, value, /)\n",
            " |      Return value^self.\n",
            " |  \n",
            " |  __sizeof__(self, /)\n",
            " |      Returns size in memory, in bytes.\n",
            " |  \n",
            " |  __str__(self, /)\n",
            " |      Return str(self).\n",
            " |  \n",
            " |  __sub__(self, value, /)\n",
            " |      Return self-value.\n",
            " |  \n",
            " |  __truediv__(self, value, /)\n",
            " |      Return self/value.\n",
            " |  \n",
            " |  __trunc__(...)\n",
            " |      Truncating an Integral returns itself.\n",
            " |  \n",
            " |  __xor__(self, value, /)\n",
            " |      Return self^value.\n",
            " |  \n",
            " |  bit_length(self, /)\n",
            " |      Number of bits necessary to represent self in binary.\n",
            " |      \n",
            " |      >>> bin(37)\n",
            " |      '0b100101'\n",
            " |      >>> (37).bit_length()\n",
            " |      6\n",
            " |  \n",
            " |  conjugate(...)\n",
            " |      Returns self, the complex conjugate of any int.\n",
            " |  \n",
            " |  to_bytes(self, /, length, byteorder, *, signed=False)\n",
            " |      Return an array of bytes representing an integer.\n",
            " |      \n",
            " |      length\n",
            " |        Length of bytes object to use.  An OverflowError is raised if the\n",
            " |        integer is not representable with the given number of bytes.\n",
            " |      byteorder\n",
            " |        The byte order used to represent the integer.  If byteorder is 'big',\n",
            " |        the most significant byte is at the beginning of the byte array.  If\n",
            " |        byteorder is 'little', the most significant byte is at the end of the\n",
            " |        byte array.  To request the native byte order of the host system, use\n",
            " |        `sys.byteorder' as the byte order value.\n",
            " |      signed\n",
            " |        Determines whether two's complement is used to represent the integer.\n",
            " |        If signed is False and a negative integer is given, an OverflowError\n",
            " |        is raised.\n",
            " |  \n",
            " |  ----------------------------------------------------------------------\n",
            " |  Class methods defined here:\n",
            " |  \n",
            " |  from_bytes(bytes, byteorder, *, signed=False) from builtins.type\n",
            " |      Return the integer represented by the given array of bytes.\n",
            " |      \n",
            " |      bytes\n",
            " |        Holds the array of bytes to convert.  The argument must either\n",
            " |        support the buffer protocol or be an iterable object producing bytes.\n",
            " |        Bytes and bytearray are examples of built-in objects that support the\n",
            " |        buffer protocol.\n",
            " |      byteorder\n",
            " |        The byte order used to represent the integer.  If byteorder is 'big',\n",
            " |        the most significant byte is at the beginning of the byte array.  If\n",
            " |        byteorder is 'little', the most significant byte is at the end of the\n",
            " |        byte array.  To request the native byte order of the host system, use\n",
            " |        `sys.byteorder' as the byte order value.\n",
            " |      signed\n",
            " |        Indicates whether two's complement is used to represent the integer.\n",
            " |  \n",
            " |  ----------------------------------------------------------------------\n",
            " |  Static methods defined here:\n",
            " |  \n",
            " |  __new__(*args, **kwargs) from builtins.type\n",
            " |      Create and return a new object.  See help(type) for accurate signature.\n",
            " |  \n",
            " |  ----------------------------------------------------------------------\n",
            " |  Data descriptors defined here:\n",
            " |  \n",
            " |  denominator\n",
            " |      the denominator of a rational number in lowest terms\n",
            " |  \n",
            " |  imag\n",
            " |      the imaginary part of a complex number\n",
            " |  \n",
            " |  numerator\n",
            " |      the numerator of a rational number in lowest terms\n",
            " |  \n",
            " |  real\n",
            " |      the real part of a complex number\n",
            "\n"
          ]
        }
      ]
    },
    {
      "cell_type": "markdown",
      "source": [
        "As we see from the docs, we can even create an `int` using an overloaded constructor:"
      ],
      "metadata": {
        "id": "KuT31BPGz2sJ"
      }
    },
    {
      "cell_type": "code",
      "source": [
        "b = int('10', base=2)"
      ],
      "metadata": {
        "id": "FKQV2ovzvUPt"
      },
      "execution_count": 49,
      "outputs": []
    },
    {
      "cell_type": "code",
      "source": [
        "print(b)\n",
        "print(type(b))"
      ],
      "metadata": {
        "colab": {
          "base_uri": "https://localhost:8080/"
        },
        "id": "1Fyifv7M0DOM",
        "outputId": "c357c369-1fcc-4388-8195-d0ff02feee71"
      },
      "execution_count": 50,
      "outputs": [
        {
          "output_type": "stream",
          "name": "stdout",
          "text": [
            "2\n",
            "<class 'int'>\n"
          ]
        }
      ]
    },
    {
      "cell_type": "markdown",
      "source": [
        "**Functions are Objects too**"
      ],
      "metadata": {
        "id": "rbgAgcSg0HP0"
      }
    },
    {
      "cell_type": "code",
      "source": [
        "def square(a):\n",
        "    return a ** 2"
      ],
      "metadata": {
        "id": "hZSD5ysp0Fdi"
      },
      "execution_count": 51,
      "outputs": []
    },
    {
      "cell_type": "code",
      "source": [
        "type(square)"
      ],
      "metadata": {
        "colab": {
          "base_uri": "https://localhost:8080/"
        },
        "id": "8INmuYNt0Ptp",
        "outputId": "1a2ad9a3-3d3e-4c27-ea60-ffccf4b097ee"
      },
      "execution_count": 52,
      "outputs": [
        {
          "output_type": "execute_result",
          "data": {
            "text/plain": [
              "function"
            ]
          },
          "metadata": {},
          "execution_count": 52
        }
      ]
    },
    {
      "cell_type": "markdown",
      "source": [
        "In fact, we can even assign them to a variable:"
      ],
      "metadata": {
        "id": "MTUTYkbr0SC4"
      }
    },
    {
      "cell_type": "code",
      "source": [
        "f = square"
      ],
      "metadata": {
        "id": "1R6J9Bzk0Q3q"
      },
      "execution_count": 53,
      "outputs": []
    },
    {
      "cell_type": "code",
      "source": [
        "type(f)"
      ],
      "metadata": {
        "colab": {
          "base_uri": "https://localhost:8080/"
        },
        "id": "T09DUsAL0WB9",
        "outputId": "51e900da-4640-46d3-aea6-cf576f41f0d3"
      },
      "execution_count": 54,
      "outputs": [
        {
          "output_type": "execute_result",
          "data": {
            "text/plain": [
              "function"
            ]
          },
          "metadata": {},
          "execution_count": 54
        }
      ]
    },
    {
      "cell_type": "code",
      "source": [
        "f is square"
      ],
      "metadata": {
        "colab": {
          "base_uri": "https://localhost:8080/"
        },
        "id": "Qe6lo4PO0WzX",
        "outputId": "5907541a-8ded-4588-92d8-903916e04ec1"
      },
      "execution_count": 55,
      "outputs": [
        {
          "output_type": "execute_result",
          "data": {
            "text/plain": [
              "True"
            ]
          },
          "metadata": {},
          "execution_count": 55
        }
      ]
    },
    {
      "cell_type": "code",
      "source": [
        "f(2)"
      ],
      "metadata": {
        "colab": {
          "base_uri": "https://localhost:8080/"
        },
        "id": "RSbJlWwD0Xpe",
        "outputId": "45d8d915-04be-4c3d-f9a2-a1d3b80d6d72"
      },
      "execution_count": 56,
      "outputs": [
        {
          "output_type": "execute_result",
          "data": {
            "text/plain": [
              "4"
            ]
          },
          "metadata": {},
          "execution_count": 56
        }
      ]
    },
    {
      "cell_type": "code",
      "source": [
        "type(f(2))"
      ],
      "metadata": {
        "colab": {
          "base_uri": "https://localhost:8080/"
        },
        "id": "CWQPl8ML0YIU",
        "outputId": "602ad7c8-7f95-4a70-ec1d-abff01dbf627"
      },
      "execution_count": 57,
      "outputs": [
        {
          "output_type": "execute_result",
          "data": {
            "text/plain": [
              "int"
            ]
          },
          "metadata": {},
          "execution_count": 57
        }
      ]
    },
    {
      "cell_type": "markdown",
      "source": [
        "A function can return a function:"
      ],
      "metadata": {
        "id": "R7svvTaX0aYg"
      }
    },
    {
      "cell_type": "code",
      "source": [
        "def cube(a):\n",
        "    return a ** 3"
      ],
      "metadata": {
        "id": "lPSsmPYh0ZlG"
      },
      "execution_count": 58,
      "outputs": []
    },
    {
      "cell_type": "code",
      "source": [
        "def select_function(fn_id):\n",
        "    if fn_id == 1:\n",
        "        return square\n",
        "    else:\n",
        "        return cube"
      ],
      "metadata": {
        "id": "3LimZ-FW0gQ2"
      },
      "execution_count": 59,
      "outputs": []
    },
    {
      "cell_type": "code",
      "source": [
        "f = select_function(1)\n",
        "print(hex(id(f)))\n",
        "print(hex(id(square)))\n",
        "print(hex(id(cube)))\n",
        "print(type(f))\n",
        "print('f is square: ', f is square)\n",
        "print('f is cube: ', f is cube)\n",
        "print(f)\n",
        "print(f(2))"
      ],
      "metadata": {
        "colab": {
          "base_uri": "https://localhost:8080/"
        },
        "id": "s0Py0Eli0obc",
        "outputId": "9f8116f3-f4e7-4910-9947-273175adcf55"
      },
      "execution_count": 60,
      "outputs": [
        {
          "output_type": "stream",
          "name": "stdout",
          "text": [
            "0x7f52c3bdb560\n",
            "0x7f52c3bdb560\n",
            "0x7f52c3bdb440\n",
            "<class 'function'>\n",
            "f is square:  True\n",
            "f is cube:  False\n",
            "<function square at 0x7f52c3bdb560>\n",
            "4\n"
          ]
        }
      ]
    },
    {
      "cell_type": "markdown",
      "source": [
        "We could even call it this way:"
      ],
      "metadata": {
        "id": "aU1bSYiC2ACX"
      }
    },
    {
      "cell_type": "code",
      "source": [
        "select_function(1)(5)"
      ],
      "metadata": {
        "colab": {
          "base_uri": "https://localhost:8080/"
        },
        "id": "thWSi9K-056t",
        "outputId": "d0be2287-e06d-474f-83e8-c4af3e12c61e"
      },
      "execution_count": 61,
      "outputs": [
        {
          "output_type": "execute_result",
          "data": {
            "text/plain": [
              "25"
            ]
          },
          "metadata": {},
          "execution_count": 61
        }
      ]
    },
    {
      "cell_type": "markdown",
      "source": [
        "A Function can be passed as an argument to another function.\n",
        "\n",
        "(This example is pretty useless, but it illustrates the point effectively)"
      ],
      "metadata": {
        "id": "KIbR1CVw2GJo"
      }
    },
    {
      "cell_type": "code",
      "source": [
        "def exec_function(fn, n):\n",
        "    return fn(n)"
      ],
      "metadata": {
        "id": "iCko0dRU2E0D"
      },
      "execution_count": 62,
      "outputs": []
    },
    {
      "cell_type": "code",
      "source": [
        "result = exec_function(cube, 2)\n",
        "print(result)"
      ],
      "metadata": {
        "colab": {
          "base_uri": "https://localhost:8080/"
        },
        "id": "gJcR-Hsm2TgT",
        "outputId": "fbf04896-977a-4f5d-cf73-d37d4a3bf1f3"
      },
      "execution_count": 63,
      "outputs": [
        {
          "output_type": "stream",
          "name": "stdout",
          "text": [
            "8\n"
          ]
        }
      ]
    },
    {
      "cell_type": "markdown",
      "source": [
        "### 11 - Python Optimizations - Interning"
      ],
      "metadata": {
        "id": "VUAy6ViZ2kfJ"
      }
    },
    {
      "cell_type": "markdown",
      "source": [
        "Earlier, we saw shared references being created automatically by Python:"
      ],
      "metadata": {
        "id": "59-SFCiy2pyl"
      }
    },
    {
      "cell_type": "code",
      "source": [
        "a = 100\n",
        "b = 100\n",
        "print(id(a))\n",
        "print(id(b))"
      ],
      "metadata": {
        "colab": {
          "base_uri": "https://localhost:8080/"
        },
        "id": "-TFMShry2X6J",
        "outputId": "68093a3a-f1c1-45b2-f6a2-d395f12df402"
      },
      "execution_count": 64,
      "outputs": [
        {
          "output_type": "stream",
          "name": "stdout",
          "text": [
            "11125760\n",
            "11125760\n"
          ]
        }
      ]
    },
    {
      "cell_type": "markdown",
      "source": [
        "Note how `a` and `b` reference the same object."
      ],
      "metadata": {
        "id": "W7RKjwV23HxU"
      }
    },
    {
      "cell_type": "markdown",
      "source": [
        "\n",
        "\n",
        "---\n",
        "**BE CAREFUL!**"
      ],
      "metadata": {
        "id": "M2P8cadn3iQy"
      }
    },
    {
      "cell_type": "markdown",
      "source": [
        "*But consider the following example:*"
      ],
      "metadata": {
        "id": "oxVjpWTX3l8r"
      }
    },
    {
      "cell_type": "code",
      "source": [
        "a = 500\n",
        "b = 500\n",
        "print(id(a))\n",
        "print(id(b))"
      ],
      "metadata": {
        "colab": {
          "base_uri": "https://localhost:8080/"
        },
        "id": "59EHRLN73G2j",
        "outputId": "0725aa37-33a5-4787-d1e3-0f682d3524a9"
      },
      "execution_count": 65,
      "outputs": [
        {
          "output_type": "stream",
          "name": "stdout",
          "text": [
            "139993448788304\n",
            "139993448791536\n"
          ]
        }
      ]
    },
    {
      "cell_type": "markdown",
      "source": [
        "*As you can see, the variables `a` and `b` do not point to the same object!*\n",
        "\n",
        "*This is because Python pre-caches integer objects in the range [-5, 256]*\n",
        "\n",
        "*So for example:*"
      ],
      "metadata": {
        "id": "4DoLimwG3UIj"
      }
    },
    {
      "cell_type": "code",
      "source": [
        "a = 256\n",
        "b = 256\n",
        "print(id(a))\n",
        "print(id(b))"
      ],
      "metadata": {
        "colab": {
          "base_uri": "https://localhost:8080/"
        },
        "id": "csuo6pNG3TVC",
        "outputId": "4da06be1-0b19-4570-cda9-fb6445122476"
      },
      "execution_count": 66,
      "outputs": [
        {
          "output_type": "stream",
          "name": "stdout",
          "text": [
            "11130752\n",
            "11130752\n"
          ]
        }
      ]
    },
    {
      "cell_type": "markdown",
      "source": [
        "*and*"
      ],
      "metadata": {
        "id": "SC6OA_6c348D"
      }
    },
    {
      "cell_type": "code",
      "source": [
        "a = -5\n",
        "b = -5\n",
        "print(id(a))\n",
        "print(id(b))"
      ],
      "metadata": {
        "colab": {
          "base_uri": "https://localhost:8080/"
        },
        "id": "J1KrlZIP34SY",
        "outputId": "10852690-acdc-46fd-bcc6-aa43f9a3ba02"
      },
      "execution_count": 67,
      "outputs": [
        {
          "output_type": "stream",
          "name": "stdout",
          "text": [
            "11122400\n",
            "11122400\n"
          ]
        }
      ]
    },
    {
      "cell_type": "markdown",
      "source": [
        "do have the same reference.\n",
        "\n",
        "*This is called **interning**: Python **interns** the integers in the range [-5, 256].*\n",
        "\n",
        "*The integers in the range [-5, 256] are essentially **singleton** objects.*"
      ],
      "metadata": {
        "id": "XvjluBVC3_BL"
      }
    },
    {
      "cell_type": "code",
      "source": [
        "a = 10\n",
        "b = int(10)\n",
        "c = int('10')\n",
        "d = int('1010', 2)"
      ],
      "metadata": {
        "id": "zY_P7-xi3-Ha"
      },
      "execution_count": 68,
      "outputs": []
    },
    {
      "cell_type": "code",
      "source": [
        "print(a, b, c, d)"
      ],
      "metadata": {
        "colab": {
          "base_uri": "https://localhost:8080/"
        },
        "id": "Ocj_ycZy5YMv",
        "outputId": "339f3058-9c2e-4868-d2db-fd793a71139c"
      },
      "execution_count": 69,
      "outputs": [
        {
          "output_type": "stream",
          "name": "stdout",
          "text": [
            "10 10 10 10\n"
          ]
        }
      ]
    },
    {
      "cell_type": "code",
      "source": [
        "a is b"
      ],
      "metadata": {
        "colab": {
          "base_uri": "https://localhost:8080/"
        },
        "id": "ot6bt_gh5fuh",
        "outputId": "017d08ff-21f5-4a33-ee33-4e5836942b25"
      },
      "execution_count": 70,
      "outputs": [
        {
          "output_type": "execute_result",
          "data": {
            "text/plain": [
              "True"
            ]
          },
          "metadata": {},
          "execution_count": 70
        }
      ]
    },
    {
      "cell_type": "code",
      "source": [
        "a is c"
      ],
      "metadata": {
        "colab": {
          "base_uri": "https://localhost:8080/"
        },
        "id": "eyG_JneI55y6",
        "outputId": "5cb994ab-48ac-4f7b-9af6-e61adb5e310a"
      },
      "execution_count": 71,
      "outputs": [
        {
          "output_type": "execute_result",
          "data": {
            "text/plain": [
              "True"
            ]
          },
          "metadata": {},
          "execution_count": 71
        }
      ]
    },
    {
      "cell_type": "code",
      "source": [
        "a is d"
      ],
      "metadata": {
        "colab": {
          "base_uri": "https://localhost:8080/"
        },
        "id": "w1ArDGIo580T",
        "outputId": "965b79d1-12a1-4a0f-9446-ef1effc9f533"
      },
      "execution_count": 72,
      "outputs": [
        {
          "output_type": "execute_result",
          "data": {
            "text/plain": [
              "True"
            ]
          },
          "metadata": {},
          "execution_count": 72
        }
      ]
    },
    {
      "cell_type": "markdown",
      "source": [
        "As you can see, all these variables were created in different ways, but since the integer object with value 10 behaves like a singleton, they all ended up pointing to the same object in memory."
      ],
      "metadata": {
        "id": "42tOgkid5-pP"
      }
    },
    {
      "cell_type": "markdown",
      "source": [
        "### 12 - Python Optimizations: String Interning"
      ],
      "metadata": {
        "id": "1V0GLwns6naH"
      }
    },
    {
      "cell_type": "markdown",
      "source": [
        "Python will automatically intern certain strings.\n",
        "\n",
        "In particular all the identifiers (variable names, function names, class names, etc) are interned (singleton objects created).\n",
        "\n",
        "Python will also intern string literals that look like identifiers.\n",
        "\n",
        "For example:"
      ],
      "metadata": {
        "id": "w-GFSEko6vHX"
      }
    },
    {
      "cell_type": "code",
      "source": [
        "a = 'hello'\n",
        "b = 'hello'\n",
        "print(id(a))\n",
        "print(id(b))"
      ],
      "metadata": {
        "colab": {
          "base_uri": "https://localhost:8080/"
        },
        "id": "NJlKCaUV6m8_",
        "outputId": "a865d2c1-f3d5-4faf-b1dc-0a5da0ef3393"
      },
      "execution_count": 73,
      "outputs": [
        {
          "output_type": "stream",
          "name": "stdout",
          "text": [
            "139993661734256\n",
            "139993661734256\n"
          ]
        }
      ]
    },
    {
      "cell_type": "markdown",
      "source": [
        "\n",
        "\n",
        "---\n",
        "**BE CAREFUL!**\n"
      ],
      "metadata": {
        "id": "XO0kFNB079u2"
      }
    },
    {
      "cell_type": "markdown",
      "source": [
        "*But not the following:*"
      ],
      "metadata": {
        "id": "6vjcz8Mx7cin"
      }
    },
    {
      "cell_type": "code",
      "source": [
        "a = 'hello, world!'\n",
        "b = 'hello, world!'\n",
        "print(id(a))\n",
        "print(id(b))"
      ],
      "metadata": {
        "colab": {
          "base_uri": "https://localhost:8080/"
        },
        "id": "1YdHR43g59me",
        "outputId": "57d357fb-7ed1-48d7-af4c-8c74da22ffc2"
      },
      "execution_count": 74,
      "outputs": [
        {
          "output_type": "stream",
          "name": "stdout",
          "text": [
            "139993448058480\n",
            "139993448057968\n"
          ]
        }
      ]
    },
    {
      "cell_type": "markdown",
      "source": [
        "\n",
        "\n",
        "---\n",
        "\n"
      ],
      "metadata": {
        "id": "lArs4yQs8Bob"
      }
    },
    {
      "cell_type": "markdown",
      "source": [
        "However, because the following literals resemble identifiers, even though they are quite long, Python will still automatically intern them:"
      ],
      "metadata": {
        "id": "-lH0_OBY7k0M"
      }
    },
    {
      "cell_type": "code",
      "source": [
        "a = 'hello_world'\n",
        "b = 'hello_world'\n",
        "print(id(a))\n",
        "print(id(b))"
      ],
      "metadata": {
        "colab": {
          "base_uri": "https://localhost:8080/"
        },
        "id": "t_DKj9327j9G",
        "outputId": "63a69cc1-313f-4ada-9f55-069d924ab387"
      },
      "execution_count": 75,
      "outputs": [
        {
          "output_type": "stream",
          "name": "stdout",
          "text": [
            "139993448058160\n",
            "139993448058160\n"
          ]
        }
      ]
    },
    {
      "cell_type": "markdown",
      "source": [
        "And even longer:"
      ],
      "metadata": {
        "id": "dUEyVG6T8YAc"
      }
    },
    {
      "cell_type": "code",
      "source": [
        "a = '_this_is_a_long_string_that_could_be_used_as_an_identifier'\n",
        "b = '_this_is_a_long_string_that_could_be_used_as_an_identifier'\n",
        "print(id(a))\n",
        "print(id(b))"
      ],
      "metadata": {
        "colab": {
          "base_uri": "https://localhost:8080/"
        },
        "id": "EpJzuRl08bty",
        "outputId": "eee09a9c-d444-4506-eb5e-1e5fd3bd5b9f"
      },
      "execution_count": 76,
      "outputs": [
        {
          "output_type": "stream",
          "name": "stdout",
          "text": [
            "139993448183824\n",
            "139993448183824\n"
          ]
        }
      ]
    },
    {
      "cell_type": "markdown",
      "source": [
        "Even if the string starts with a digit:"
      ],
      "metadata": {
        "id": "FR39R6zc8dqj"
      }
    },
    {
      "cell_type": "code",
      "source": [
        "a = '1_hello_world'\n",
        "b = '1_hello_world'\n",
        "print(id(a))\n",
        "print(id(b))"
      ],
      "metadata": {
        "colab": {
          "base_uri": "https://localhost:8080/"
        },
        "id": "8tFK3yL88cUS",
        "outputId": "698c99c7-26ea-4999-8281-675585e9c149"
      },
      "execution_count": 77,
      "outputs": [
        {
          "output_type": "stream",
          "name": "stdout",
          "text": [
            "139993448052016\n",
            "139993448052016\n"
          ]
        }
      ]
    },
    {
      "cell_type": "markdown",
      "source": [
        "That was interned (pointer is the same), but look at this one:"
      ],
      "metadata": {
        "id": "eQGgx6zl8sAZ"
      }
    },
    {
      "cell_type": "code",
      "source": [
        "a = '1 hello world'\n",
        "b = '1 hello world'\n",
        "print(id(a))\n",
        "print(id(b))"
      ],
      "metadata": {
        "colab": {
          "base_uri": "https://localhost:8080/"
        },
        "id": "HoLR5jGo8h2M",
        "outputId": "2321d2e6-2892-4030-830f-ca9e2f742c82"
      },
      "execution_count": 78,
      "outputs": [
        {
          "output_type": "stream",
          "name": "stdout",
          "text": [
            "139993448229680\n",
            "139993448229808\n"
          ]
        }
      ]
    },
    {
      "cell_type": "markdown",
      "source": [
        "Interning strings (making them singleton objects) means that testing for string equality can be done faster by comparing the memory address:"
      ],
      "metadata": {
        "id": "kODku2MN80WH"
      }
    },
    {
      "cell_type": "code",
      "source": [
        "a = 'this_is_a_long_string'\n",
        "b = 'this_is_a_long_string'\n",
        "print('a==b:', a == b)\n",
        "print('a is b:', a is b)"
      ],
      "metadata": {
        "colab": {
          "base_uri": "https://localhost:8080/"
        },
        "id": "X0h_iDCk8yhn",
        "outputId": "e334fcbe-2b00-429b-c57d-2a71cc0a06af"
      },
      "execution_count": 79,
      "outputs": [
        {
          "output_type": "stream",
          "name": "stdout",
          "text": [
            "a==b: True\n",
            "a is b: True\n"
          ]
        }
      ]
    },
    {
      "cell_type": "markdown",
      "source": [
        "\n",
        "\n",
        "---\n",
        "**BE CAREFUL!**\n"
      ],
      "metadata": {
        "id": "cAcwYsPi9CVe"
      }
    },
    {
      "cell_type": "markdown",
      "source": [
        "*Note: Remember, using `is` ONLY works if the strings were interned!*\n",
        "\n",
        "*Here's where this technique fails:*"
      ],
      "metadata": {
        "id": "kqxbrBl19GEY"
      }
    },
    {
      "cell_type": "code",
      "source": [
        "a = 'hello world'\n",
        "b = 'hello world'\n",
        "print('a==b:', a==b)\n",
        "print('a is b:', a is b)"
      ],
      "metadata": {
        "colab": {
          "base_uri": "https://localhost:8080/"
        },
        "id": "PFhIVb0-8--s",
        "outputId": "84b982d4-945a-4b4c-a71f-e45319f47652"
      },
      "execution_count": 80,
      "outputs": [
        {
          "output_type": "stream",
          "name": "stdout",
          "text": [
            "a==b: True\n",
            "a is b: False\n"
          ]
        }
      ]
    },
    {
      "cell_type": "markdown",
      "source": [
        "\n",
        "\n",
        "---\n",
        "\n"
      ],
      "metadata": {
        "id": "fTiTnnJo9X9Z"
      }
    },
    {
      "cell_type": "markdown",
      "source": [
        "You can force strings to be interned (but only use it if you have a valid performance optimization need):"
      ],
      "metadata": {
        "id": "Xyw3udiT9Y7Z"
      }
    },
    {
      "cell_type": "code",
      "source": [
        "import sys"
      ],
      "metadata": {
        "id": "C3kwbiYB9WMr"
      },
      "execution_count": 81,
      "outputs": []
    },
    {
      "cell_type": "code",
      "source": [
        "a = sys.intern('hello world')\n",
        "b = sys.intern('hello world')\n",
        "c = 'hello world'\n",
        "print(id(a))\n",
        "print(id(b))\n",
        "print(id(c))"
      ],
      "metadata": {
        "colab": {
          "base_uri": "https://localhost:8080/"
        },
        "id": "x2cyL6YD9m-L",
        "outputId": "c60c3682-ddf8-4702-b950-85fd777507f1"
      },
      "execution_count": 82,
      "outputs": [
        {
          "output_type": "stream",
          "name": "stdout",
          "text": [
            "139993448083824\n",
            "139993448083824\n",
            "139993448083568\n"
          ]
        }
      ]
    },
    {
      "cell_type": "markdown",
      "source": [
        "Notice how `a` and `b` are pointing to the same object, but `c` is NOT.\n",
        "\n",
        "So, since both `a` and `b` were interned we can use `is` to test for equality of the two strings:"
      ],
      "metadata": {
        "id": "ARm-x8xG9pxa"
      }
    },
    {
      "cell_type": "code",
      "source": [
        "print('a==b:', a==b)\n",
        "print('a is b', a is b)"
      ],
      "metadata": {
        "colab": {
          "base_uri": "https://localhost:8080/"
        },
        "id": "AS6t61q29pCz",
        "outputId": "79a28abc-6943-4310-80cf-8e0c769912bd"
      },
      "execution_count": 84,
      "outputs": [
        {
          "output_type": "stream",
          "name": "stdout",
          "text": [
            "a==b: True\n",
            "a is b True\n"
          ]
        }
      ]
    },
    {
      "cell_type": "markdown",
      "source": [
        "So, does interning really make a big speed difference?\n",
        "\n",
        "Yes, but only if you are performing a lot of comparisons.\n",
        "\n",
        "Let's run som quick and dirty benchamarks:"
      ],
      "metadata": {
        "id": "qdk2Q3_I-LVL"
      }
    },
    {
      "cell_type": "code",
      "source": [
        "def compare_using_equals(n):\n",
        "    a = 'a long string that is not interned' * 200\n",
        "    b = 'a long string that is not interned' * 200\n",
        "    for i in range(n):\n",
        "        if a == b:\n",
        "            pass"
      ],
      "metadata": {
        "id": "mwRGJhhr-Acf"
      },
      "execution_count": 85,
      "outputs": []
    },
    {
      "cell_type": "code",
      "source": [
        "def compare_using_interning(n):\n",
        "    a = sys.intern('a long string that is not interned' * 200)\n",
        "    b = sys.intern('a long string that is not interned' * 200)\n",
        "    for i in range(n):\n",
        "        if a is b:\n",
        "            pass"
      ],
      "metadata": {
        "id": "B2KP0wj2-iPz"
      },
      "execution_count": 86,
      "outputs": []
    },
    {
      "cell_type": "code",
      "source": [
        "\n",
        "import time\n",
        "\n",
        "start = time.perf_counter()\n",
        "compare_using_equals(10000000)\n",
        "end = time.perf_counter()\n",
        "\n",
        "print('equality: ', end-start)"
      ],
      "metadata": {
        "colab": {
          "base_uri": "https://localhost:8080/"
        },
        "id": "2jeqazim-jT2",
        "outputId": "8a5e9c55-b2f6-4eeb-f289-7a6836d9ecc1"
      },
      "execution_count": 87,
      "outputs": [
        {
          "output_type": "stream",
          "name": "stdout",
          "text": [
            "equality:  1.61897275299998\n"
          ]
        }
      ]
    },
    {
      "cell_type": "code",
      "source": [
        "start = time.perf_counter()\n",
        "compare_using_interning(10000000)\n",
        "end = time.perf_counter()\n",
        "\n",
        "print('identity: ', end-start)"
      ],
      "metadata": {
        "colab": {
          "base_uri": "https://localhost:8080/"
        },
        "id": "Y_o8JA13-kgm",
        "outputId": "4c9acbd3-8c1c-46cc-8e84-928351616b54"
      },
      "execution_count": 88,
      "outputs": [
        {
          "output_type": "stream",
          "name": "stdout",
          "text": [
            "identity:  0.49664921299972775\n"
          ]
        }
      ]
    },
    {
      "cell_type": "markdown",
      "source": [
        "As you can see, the performance difference, especially for long strings, and for many comparisons, can be quite radical!"
      ],
      "metadata": {
        "id": "tkZH2uCm-m8z"
      }
    },
    {
      "cell_type": "markdown",
      "source": [
        "### 13 - Python Optimizations - PeepHole"
      ],
      "metadata": {
        "id": "qwn5sMv3-9Q5"
      }
    },
    {
      "cell_type": "markdown",
      "source": [
        "Peephole optimizations refer to a certain class of optimization stratigies Python employs during any compilation phases."
      ],
      "metadata": {
        "id": "_b-qAHpx_Ea3"
      }
    },
    {
      "cell_type": "markdown",
      "source": [
        "**Constant Expressions**"
      ],
      "metadata": {
        "id": "lToFCtIl_fBp"
      }
    },
    {
      "cell_type": "markdown",
      "source": [
        "Let's see how Python reduces constant expressions for optimization purposes:"
      ],
      "metadata": {
        "id": "-y14fnSt_iSv"
      }
    },
    {
      "cell_type": "code",
      "source": [
        "def my_func():\n",
        "    a = 24 *60\n",
        "    b = (1, 2) * 5\n",
        "    c = 'abc' * 3\n",
        "    d = 'ab' * 11\n",
        "    e = 'the quick brown fox' * 10\n",
        "    f = [1, 2] * 5"
      ],
      "metadata": {
        "id": "HJmb_2Oj-vIs"
      },
      "execution_count": 89,
      "outputs": []
    },
    {
      "cell_type": "code",
      "source": [
        "my_func.__code__.co_consts"
      ],
      "metadata": {
        "colab": {
          "base_uri": "https://localhost:8080/"
        },
        "id": "Vb7FDKhb_2JZ",
        "outputId": "da2f8d8c-1509-40c3-b2b5-eb673b62ba83"
      },
      "execution_count": 91,
      "outputs": [
        {
          "output_type": "execute_result",
          "data": {
            "text/plain": [
              "(None,\n",
              " 1440,\n",
              " (1, 2, 1, 2, 1, 2, 1, 2, 1, 2),\n",
              " 'abcabcabc',\n",
              " 'ababababababababababab',\n",
              " 'the quick brown foxthe quick brown foxthe quick brown foxthe quick brown foxthe quick brown foxthe quick brown foxthe quick brown foxthe quick brown foxthe quick brown foxthe quick brown fox',\n",
              " 1,\n",
              " 2,\n",
              " 5)"
            ]
          },
          "metadata": {},
          "execution_count": 91
        }
      ]
    },
    {
      "cell_type": "markdown",
      "source": [
        "As you can see in the example above `24 * 60` was pre-calculated and cached as a constant (`1440`).\n",
        "\n",
        "Similarly, `(1, 2) * 5` was cached as `(1, 2, 1, 2, 1, 2, 1, 2, 1, 2)` and `'abc' * 3` was cached as `abcabcabc`\n",
        "\n",
        "On the other hand, note how `'the quick brown fox'* 10` was not pre-calculated (too long).\n",
        "\n",
        "Similarly `[1, 2] * 5` was not pre-calculated either siince a list is mutable, and hence not a constant."
      ],
      "metadata": {
        "id": "jqdD4n_o_95a"
      }
    },
    {
      "cell_type": "markdown",
      "source": [
        "**Membership Tests**"
      ],
      "metadata": {
        "id": "XJOyiW4EAz5Z"
      }
    },
    {
      "cell_type": "markdown",
      "source": [
        "In membership testing, optimizations are applied as can be seen below:"
      ],
      "metadata": {
        "id": "gFkrY_8oA2dM"
      }
    },
    {
      "cell_type": "code",
      "source": [
        "def my_func():\n",
        "    if e in [1, 2, 3]:\n",
        "        pass"
      ],
      "metadata": {
        "id": "JBsKIW2c_6fu"
      },
      "execution_count": 92,
      "outputs": []
    },
    {
      "cell_type": "code",
      "source": [
        "my_func.__code__.co_consts"
      ],
      "metadata": {
        "colab": {
          "base_uri": "https://localhost:8080/"
        },
        "id": "LNpyUNhbA_Dn",
        "outputId": "f8884ae8-b90c-4177-90cf-1cd13c173269"
      },
      "execution_count": 93,
      "outputs": [
        {
          "output_type": "execute_result",
          "data": {
            "text/plain": [
              "(None, (1, 2, 3))"
            ]
          },
          "metadata": {},
          "execution_count": 93
        }
      ]
    },
    {
      "cell_type": "markdown",
      "source": [
        "As you can see, the mutable list `[1, 2, 3]` was converted to an immutable tuple.\n",
        "\n",
        "It is OK to do this here, since we are testing membersip of the list at that point in time, hence it is safe to convert it to a tuple, which is more efficient tan testing membership of a list.\n",
        "\n",
        "In the same way, set membership will be converted to frozen set membership:"
      ],
      "metadata": {
        "id": "NLNth3DVBEHN"
      }
    },
    {
      "cell_type": "code",
      "source": [
        "def my_func():\n",
        "    if e in {1, 2, 3}:\n",
        "        pass"
      ],
      "metadata": {
        "id": "z3gb7ybmBCiC"
      },
      "execution_count": 96,
      "outputs": []
    },
    {
      "cell_type": "code",
      "source": [
        "my_func.__code__.co_consts"
      ],
      "metadata": {
        "colab": {
          "base_uri": "https://localhost:8080/"
        },
        "id": "liqXYs47BrsH",
        "outputId": "4ef4ac54-485c-4adf-8171-0f10792c9b52"
      },
      "execution_count": 97,
      "outputs": [
        {
          "output_type": "execute_result",
          "data": {
            "text/plain": [
              "(None, frozenset({1, 2, 3}))"
            ]
          },
          "metadata": {},
          "execution_count": 97
        }
      ]
    },
    {
      "cell_type": "markdown",
      "source": [
        "In general, when you are writing your code, if you can use `set` membership testing, prefer that over a list or tuple - it is quite a bit more efficien.\n",
        "\n",
        "Let's do a small quick (and dirty) benchmark of this:"
      ],
      "metadata": {
        "id": "orjCmysmBz4N"
      }
    },
    {
      "cell_type": "code",
      "source": [
        "import string\n",
        "import time\n",
        "\n",
        "char_list = list(string.ascii_letters)\n",
        "char_tuple = tuple(string.ascii_letters)\n",
        "char_set = set(string.ascii_letters)\n",
        "\n",
        "print(char_list)\n",
        "print()\n",
        "print(char_tuple)\n",
        "print()\n",
        "print(char_set)"
      ],
      "metadata": {
        "colab": {
          "base_uri": "https://localhost:8080/"
        },
        "id": "ERxzzZY1CL9Y",
        "outputId": "26ab8ec8-bf3c-4f3e-a20b-c2aa66fc2896"
      },
      "execution_count": 98,
      "outputs": [
        {
          "output_type": "stream",
          "name": "stdout",
          "text": [
            "['a', 'b', 'c', 'd', 'e', 'f', 'g', 'h', 'i', 'j', 'k', 'l', 'm', 'n', 'o', 'p', 'q', 'r', 's', 't', 'u', 'v', 'w', 'x', 'y', 'z', 'A', 'B', 'C', 'D', 'E', 'F', 'G', 'H', 'I', 'J', 'K', 'L', 'M', 'N', 'O', 'P', 'Q', 'R', 'S', 'T', 'U', 'V', 'W', 'X', 'Y', 'Z']\n",
            "\n",
            "('a', 'b', 'c', 'd', 'e', 'f', 'g', 'h', 'i', 'j', 'k', 'l', 'm', 'n', 'o', 'p', 'q', 'r', 's', 't', 'u', 'v', 'w', 'x', 'y', 'z', 'A', 'B', 'C', 'D', 'E', 'F', 'G', 'H', 'I', 'J', 'K', 'L', 'M', 'N', 'O', 'P', 'Q', 'R', 'S', 'T', 'U', 'V', 'W', 'X', 'Y', 'Z')\n",
            "\n",
            "{'U', 't', 'V', 'C', 's', 'Z', 'A', 'q', 'y', 'n', 'e', 'G', 'S', 'T', 'W', 'Y', 'b', 'Q', 'l', 'a', 'u', 'c', 'J', 'k', 'm', 'r', 'x', 'g', 'O', 'p', 'F', 'o', 'E', 'M', 'v', 'B', 'P', 'L', 'd', 'H', 'X', 'R', 'z', 'h', 'f', 'i', 'I', 'D', 'N', 'w', 'K', 'j'}\n"
          ]
        }
      ]
    },
    {
      "cell_type": "code",
      "source": [
        "def membership_test(n, container):\n",
        "    for i in range(n):\n",
        "        if 'p' in container:\n",
        "            pass"
      ],
      "metadata": {
        "id": "b2dCJa6TBtGL"
      },
      "execution_count": 99,
      "outputs": []
    },
    {
      "cell_type": "code",
      "source": [
        "start = time.perf_counter()\n",
        "membership_test(10000000, char_list)\n",
        "end = time.perf_counter()\n",
        "print('list membership: ', end-start)"
      ],
      "metadata": {
        "colab": {
          "base_uri": "https://localhost:8080/"
        },
        "id": "7ci7Qz_vDJh0",
        "outputId": "c9d79fbf-ef57-474b-a968-679d13ee4222"
      },
      "execution_count": 100,
      "outputs": [
        {
          "output_type": "stream",
          "name": "stdout",
          "text": [
            "list membership:  3.218021790000421\n"
          ]
        }
      ]
    },
    {
      "cell_type": "code",
      "source": [
        "start = time.perf_counter()\n",
        "membership_test(10000000, char_tuple)\n",
        "end = time.perf_counter()\n",
        "print('tuple membership: ', end-start)"
      ],
      "metadata": {
        "colab": {
          "base_uri": "https://localhost:8080/"
        },
        "id": "Sm7Wkxz8DWcB",
        "outputId": "6994997b-c486-42f4-9952-43a27a441b47"
      },
      "execution_count": 101,
      "outputs": [
        {
          "output_type": "stream",
          "name": "stdout",
          "text": [
            "tuple membership:  3.319882019000943\n"
          ]
        }
      ]
    },
    {
      "cell_type": "code",
      "source": [
        "start = time.perf_counter()\n",
        "membership_test(10000000, char_set)\n",
        "end = time.perf_counter()\n",
        "print('set membership: ', end-start)"
      ],
      "metadata": {
        "colab": {
          "base_uri": "https://localhost:8080/"
        },
        "id": "WPBAcm6PDaFB",
        "outputId": "6394a194-6c79-490f-c960-b3322d583da1"
      },
      "execution_count": 102,
      "outputs": [
        {
          "output_type": "stream",
          "name": "stdout",
          "text": [
            "set membership:  0.6080441869999049\n"
          ]
        }
      ]
    },
    {
      "cell_type": "markdown",
      "source": [
        "As you can see, set membership tests run quite a bit faster - which is not suprising since they are basically dictionary-like objects, so hash maps are used for looking up an item to determine membership."
      ],
      "metadata": {
        "id": "k6YrHUCsDfXn"
      }
    },
    {
      "cell_type": "markdown",
      "source": [
        "## Section 04 - Numeric Types"
      ],
      "metadata": {
        "id": "JQcy6a8tES3I"
      }
    },
    {
      "cell_type": "markdown",
      "source": [
        "### 01 - Integers - Data Type"
      ],
      "metadata": {
        "id": "aOUAFii_Ecm7"
      }
    },
    {
      "cell_type": "markdown",
      "source": [
        "Integers are objects - instances of the `int` class"
      ],
      "metadata": {
        "id": "jJmp4rz9EiRh"
      }
    },
    {
      "cell_type": "code",
      "source": [
        "print(type(100))"
      ],
      "metadata": {
        "colab": {
          "base_uri": "https://localhost:8080/"
        },
        "id": "JD7psBJNDdFz",
        "outputId": "16473630-0ea6-4830-c8d3-4674f37c1cb2"
      },
      "execution_count": 103,
      "outputs": [
        {
          "output_type": "stream",
          "name": "stdout",
          "text": [
            "<class 'int'>\n"
          ]
        }
      ]
    },
    {
      "cell_type": "markdown",
      "source": [
        "They are a variable length data type that can theoretically handle any integer magnitude. This will take up a variable amount of memory that depends on the particular size of the integer."
      ],
      "metadata": {
        "id": "o_VhI1xMNbLv"
      }
    },
    {
      "cell_type": "code",
      "source": [
        "import sys"
      ],
      "metadata": {
        "id": "D66fuG9lNaMn"
      },
      "execution_count": 104,
      "outputs": []
    },
    {
      "cell_type": "markdown",
      "source": [
        "Creating an integer object requires an overhead of 24 bytes."
      ],
      "metadata": {
        "id": "D4yfxuMZPTmh"
      }
    },
    {
      "cell_type": "code",
      "source": [
        "sys.getsizeof(0)"
      ],
      "metadata": {
        "colab": {
          "base_uri": "https://localhost:8080/"
        },
        "id": "hVCotNtIPTAH",
        "outputId": "51f5d148-5c1c-4768-aa7d-7174425d0309"
      },
      "execution_count": 105,
      "outputs": [
        {
          "output_type": "execute_result",
          "data": {
            "text/plain": [
              "24"
            ]
          },
          "metadata": {},
          "execution_count": 105
        }
      ]
    },
    {
      "cell_type": "markdown",
      "source": [
        "Here we see that to store the number 1 required 4 bytes (32 bits) on top of the 24 byte overhead:"
      ],
      "metadata": {
        "id": "r2rFPQCRRwN2"
      }
    },
    {
      "cell_type": "code",
      "source": [
        "sys.getsizeof(1)"
      ],
      "metadata": {
        "colab": {
          "base_uri": "https://localhost:8080/"
        },
        "id": "yo95zv8uRuyw",
        "outputId": "f2720d09-0ee7-4d0b-c25c-97eed3befedf"
      },
      "execution_count": 106,
      "outputs": [
        {
          "output_type": "execute_result",
          "data": {
            "text/plain": [
              "28"
            ]
          },
          "metadata": {},
          "execution_count": 106
        }
      ]
    },
    {
      "cell_type": "markdown",
      "source": [
        "Larger numbers will require more storage space:"
      ],
      "metadata": {
        "id": "WIyCSzV_R6fL"
      }
    },
    {
      "cell_type": "code",
      "source": [
        "sys.getsizeof(2**1000)"
      ],
      "metadata": {
        "colab": {
          "base_uri": "https://localhost:8080/"
        },
        "id": "984_xxuPR5Re",
        "outputId": "9ddff39c-2b88-4196-c5b8-a21a261f0f05"
      },
      "execution_count": 107,
      "outputs": [
        {
          "output_type": "execute_result",
          "data": {
            "text/plain": [
              "160"
            ]
          },
          "metadata": {},
          "execution_count": 107
        }
      ]
    },
    {
      "cell_type": "markdown",
      "source": [
        "Larger integers will also slow down calcultaions."
      ],
      "metadata": {
        "id": "zYa9RhSvSIDR"
      }
    },
    {
      "cell_type": "code",
      "source": [
        "import time"
      ],
      "metadata": {
        "id": "Mb3oPxKqSBk7"
      },
      "execution_count": 108,
      "outputs": []
    },
    {
      "cell_type": "code",
      "source": [
        "def calc(a):\n",
        "    for i in range(10000000):\n",
        "        a * 2"
      ],
      "metadata": {
        "id": "VP1djTQQSL1Y"
      },
      "execution_count": 109,
      "outputs": []
    },
    {
      "cell_type": "markdown",
      "source": [
        "We start with a small integer value for a (10):"
      ],
      "metadata": {
        "id": "S6XwJ0UzSRqO"
      }
    },
    {
      "cell_type": "code",
      "source": [
        "start = time.perf_counter()\n",
        "calc(10)\n",
        "end = time.perf_counter()\n",
        "print(end - start)"
      ],
      "metadata": {
        "colab": {
          "base_uri": "https://localhost:8080/"
        },
        "id": "TEppneYdSPcc",
        "outputId": "ad99647b-26a0-41d3-a14c-43c228fbc9a2"
      },
      "execution_count": 111,
      "outputs": [
        {
          "output_type": "stream",
          "name": "stdout",
          "text": [
            "0.5479005449997203\n"
          ]
        }
      ]
    },
    {
      "cell_type": "markdown",
      "source": [
        "Now we set a to something larger `2**100`:"
      ],
      "metadata": {
        "id": "Iwh-5cz1So8_"
      }
    },
    {
      "cell_type": "code",
      "source": [
        "start = time.perf_counter()\n",
        "calc(2**100)\n",
        "end = time.perf_counter()\n",
        "print(end - start)"
      ],
      "metadata": {
        "colab": {
          "base_uri": "https://localhost:8080/"
        },
        "id": "Ve55JBq-Sea6",
        "outputId": "f121f46a-5147-4877-e6a9-1e03b9f04cf2"
      },
      "execution_count": 112,
      "outputs": [
        {
          "output_type": "stream",
          "name": "stdout",
          "text": [
            "0.8620014549996995\n"
          ]
        }
      ]
    },
    {
      "cell_type": "markdown",
      "source": [
        "Finally we set a to some really large  value `2**10000`"
      ],
      "metadata": {
        "id": "vsnS43KNTA5C"
      }
    },
    {
      "cell_type": "code",
      "source": [
        "start = time.perf_counter()\n",
        "calc(2**10000)\n",
        "end = time.perf_counter()\n",
        "print(end - start)"
      ],
      "metadata": {
        "colab": {
          "base_uri": "https://localhost:8080/"
        },
        "id": "X8zUvnLFS_pi",
        "outputId": "fc43c666-da02-4ebb-9ae0-dc4c8f8f22b6"
      },
      "execution_count": 113,
      "outputs": [
        {
          "output_type": "stream",
          "name": "stdout",
          "text": [
            "4.278356824999719\n"
          ]
        }
      ]
    },
    {
      "cell_type": "markdown",
      "source": [
        "### 02 - Integers - Operations"
      ],
      "metadata": {
        "id": "pUNzyHyMTRT5"
      }
    },
    {
      "cell_type": "markdown",
      "source": [
        "Addition, subtraction, multiplicatin and exponentiation of integers always resul in an integer. (In the case of exponentiation this holds for positive integer exponents.)"
      ],
      "metadata": {
        "id": "3eC9YwPQTXXC"
      }
    },
    {
      "cell_type": "code",
      "source": [
        "type(2 + 3)"
      ],
      "metadata": {
        "colab": {
          "base_uri": "https://localhost:8080/"
        },
        "id": "CHvCrWg1TNaP",
        "outputId": "74b5fe87-216a-4f2d-fd8f-4a9bc1816c70"
      },
      "execution_count": 1,
      "outputs": [
        {
          "output_type": "execute_result",
          "data": {
            "text/plain": [
              "int"
            ]
          },
          "metadata": {},
          "execution_count": 1
        }
      ]
    },
    {
      "cell_type": "code",
      "source": [
        "type(3 - 10)"
      ],
      "metadata": {
        "colab": {
          "base_uri": "https://localhost:8080/"
        },
        "id": "U64Yditnjctp",
        "outputId": "d5e841fb-2e01-40b2-9d26-e985ea3d0443"
      },
      "execution_count": 2,
      "outputs": [
        {
          "output_type": "execute_result",
          "data": {
            "text/plain": [
              "int"
            ]
          },
          "metadata": {},
          "execution_count": 2
        }
      ]
    },
    {
      "cell_type": "code",
      "source": [
        "type(3 * 5)"
      ],
      "metadata": {
        "colab": {
          "base_uri": "https://localhost:8080/"
        },
        "id": "atuOXiANjeTm",
        "outputId": "914fb685-efaa-4d04-b965-b6b1fb1e3122"
      },
      "execution_count": 3,
      "outputs": [
        {
          "output_type": "execute_result",
          "data": {
            "text/plain": [
              "int"
            ]
          },
          "metadata": {},
          "execution_count": 3
        }
      ]
    },
    {
      "cell_type": "code",
      "source": [
        "type(3 ** 4)"
      ],
      "metadata": {
        "colab": {
          "base_uri": "https://localhost:8080/"
        },
        "id": "u3pIyeA0jf2Q",
        "outputId": "3ae4a6ed-b40c-4490-f3cd-3a39646e7cc3"
      },
      "execution_count": 4,
      "outputs": [
        {
          "output_type": "execute_result",
          "data": {
            "text/plain": [
              "int"
            ]
          },
          "metadata": {},
          "execution_count": 4
        }
      ]
    },
    {
      "cell_type": "markdown",
      "source": [
        "But the standard division operator `/` always results in a float value."
      ],
      "metadata": {
        "id": "Sf7Hp3hHjku2"
      }
    },
    {
      "cell_type": "code",
      "source": [
        "type(2 / 3)"
      ],
      "metadata": {
        "colab": {
          "base_uri": "https://localhost:8080/"
        },
        "id": "p6VbwGq-jjhZ",
        "outputId": "09bda27a-8e91-4aed-e398-bab683dbe3df"
      },
      "execution_count": 5,
      "outputs": [
        {
          "output_type": "execute_result",
          "data": {
            "text/plain": [
              "float"
            ]
          },
          "metadata": {},
          "execution_count": 5
        }
      ]
    },
    {
      "cell_type": "code",
      "source": [
        "type(10 / 2)"
      ],
      "metadata": {
        "colab": {
          "base_uri": "https://localhost:8080/"
        },
        "id": "vmGQCShBjsEs",
        "outputId": "c32882fc-f501-4f34-eae4-d95ee9b4f6b5"
      },
      "execution_count": 8,
      "outputs": [
        {
          "output_type": "execute_result",
          "data": {
            "text/plain": [
              "float"
            ]
          },
          "metadata": {},
          "execution_count": 8
        }
      ]
    },
    {
      "cell_type": "markdown",
      "source": [
        "The `math.floor()` method will return the floor of any number."
      ],
      "metadata": {
        "id": "kMh4msdVkB_2"
      }
    },
    {
      "cell_type": "code",
      "source": [
        "import math"
      ],
      "metadata": {
        "id": "tZRLI9Htj5os"
      },
      "execution_count": 9,
      "outputs": []
    },
    {
      "cell_type": "markdown",
      "source": [
        "For non-negative values (>=0), the floor of the value is the same as the integer portion of the value (truncation)"
      ],
      "metadata": {
        "id": "IzlGiQ0LkQ5O"
      }
    },
    {
      "cell_type": "code",
      "source": [
        "math.floor(3.15)"
      ],
      "metadata": {
        "colab": {
          "base_uri": "https://localhost:8080/"
        },
        "id": "qD79i7w_kJFA",
        "outputId": "abc95ac8-d0ff-4760-e101-ba1488fac119"
      },
      "execution_count": 10,
      "outputs": [
        {
          "output_type": "execute_result",
          "data": {
            "text/plain": [
              "3"
            ]
          },
          "metadata": {},
          "execution_count": 10
        }
      ]
    },
    {
      "cell_type": "code",
      "source": [
        "math.floor(3.9999999)"
      ],
      "metadata": {
        "colab": {
          "base_uri": "https://localhost:8080/"
        },
        "id": "43pxNFzckfcs",
        "outputId": "9e24a4d6-d43a-4316-e7ec-ec811ccd98ff"
      },
      "execution_count": 11,
      "outputs": [
        {
          "output_type": "execute_result",
          "data": {
            "text/plain": [
              "3"
            ]
          },
          "metadata": {},
          "execution_count": 11
        }
      ]
    },
    {
      "cell_type": "markdown",
      "source": [
        "However, this is not the case for negative values:"
      ],
      "metadata": {
        "id": "BefC3V9fkkIY"
      }
    },
    {
      "cell_type": "code",
      "source": [
        "math.floor(-3.15)"
      ],
      "metadata": {
        "colab": {
          "base_uri": "https://localhost:8080/"
        },
        "id": "mo_Y46kbkjG4",
        "outputId": "b250fe59-5be0-4f63-f0b4-bce22ac58fa2"
      },
      "execution_count": 12,
      "outputs": [
        {
          "output_type": "execute_result",
          "data": {
            "text/plain": [
              "-4"
            ]
          },
          "metadata": {},
          "execution_count": 12
        }
      ]
    },
    {
      "cell_type": "code",
      "source": [
        "math.floor(-3.0000001)"
      ],
      "metadata": {
        "colab": {
          "base_uri": "https://localhost:8080/"
        },
        "id": "ZRT0GcJBkpT-",
        "outputId": "e143dc69-8d4b-4a2b-9e40-3ddfe16cb5aa"
      },
      "execution_count": 13,
      "outputs": [
        {
          "output_type": "execute_result",
          "data": {
            "text/plain": [
              "-4"
            ]
          },
          "metadata": {},
          "execution_count": 13
        }
      ]
    },
    {
      "cell_type": "markdown",
      "source": [
        "**The Floor Division Operator**\n",
        "\n",
        "The floor division operator `a//b` is the floor of `a / b`\n",
        "\n",
        "i.e. `a // b = math.floor(a / b)`\n",
        "\n",
        "This is true whether `a` and `b` are positive or negative."
      ],
      "metadata": {
        "id": "RWg1HrIJksDV"
      }
    },
    {
      "cell_type": "code",
      "source": [
        "a = 33\n",
        "b = 16\n",
        "print(a/b)\n",
        "print(a//b)\n",
        "print(math.floor(a/b))"
      ],
      "metadata": {
        "colab": {
          "base_uri": "https://localhost:8080/"
        },
        "id": "9NMYilVhkrKV",
        "outputId": "1d581df5-5ac8-4f3b-fbd0-1b0a9f0652be"
      },
      "execution_count": 14,
      "outputs": [
        {
          "output_type": "stream",
          "name": "stdout",
          "text": [
            "2.0625\n",
            "2\n",
            "2\n"
          ]
        }
      ]
    },
    {
      "cell_type": "markdown",
      "source": [
        "For positive numbers, `a//b` is basically the same as truncating (taking the integer portion) of `a / b`.\n",
        "\n",
        "But this is not the case for negative numbers."
      ],
      "metadata": {
        "id": "c9CaGO3SlQX3"
      }
    },
    {
      "cell_type": "code",
      "source": [
        "a = -33\n",
        "b = 16\n",
        "print('{0}/{1} = {2}'.format(a, b, a/b))\n",
        "print('trunc({0}/{1}) = {2}'.format(a, b, math.trunc(a/b)))\n",
        "print('{0}//{1} = {2}'.format(a, b, a//b))\n",
        "print('floor({0}//{1}) = {2}'.format(a, b, math.floor(a/b)))"
      ],
      "metadata": {
        "colab": {
          "base_uri": "https://localhost:8080/"
        },
        "id": "PWZMdQyQlEZ1",
        "outputId": "5b96b3fb-8cbe-42ff-8cf4-cfb0c8b5b677"
      },
      "execution_count": 16,
      "outputs": [
        {
          "output_type": "stream",
          "name": "stdout",
          "text": [
            "-33/16 = -2.0625\n",
            "trunc(-33/16) = -2\n",
            "-33//16 = -3\n",
            "floor(-33//16) = -3\n"
          ]
        }
      ]
    },
    {
      "cell_type": "code",
      "source": [
        "a = 33\n",
        "b = -16\n",
        "print('{0}/{1} = {2}'.format(a, b, a/b))\n",
        "print('trunc({0}/{1}) = {2}'.format(a, b, math.trunc(a/b)))\n",
        "print('{0}//{1} = {2}'.format(a, b, a//b))\n",
        "print('floor({0}//{1}) = {2}'.format(a, b, math.floor(a/b)))"
      ],
      "metadata": {
        "colab": {
          "base_uri": "https://localhost:8080/"
        },
        "id": "H7YjmbLDl9HQ",
        "outputId": "1bc2f933-3f92-4f70-b1d0-679c7cbba248"
      },
      "execution_count": 17,
      "outputs": [
        {
          "output_type": "stream",
          "name": "stdout",
          "text": [
            "33/-16 = -2.0625\n",
            "trunc(33/-16) = -2\n",
            "33//-16 = -3\n",
            "floor(33//-16) = -3\n"
          ]
        }
      ]
    },
    {
      "cell_type": "markdown",
      "source": [
        "**The Modulo Operator**\n",
        "The modulo operator and the floor division operator will always satisfy the following equation:\n",
        "\n",
        "`a = b * (a // b) + a % b`"
      ],
      "metadata": {
        "id": "cANiQgHMmFJG"
      }
    },
    {
      "cell_type": "code",
      "source": [
        "a = 13\n",
        "b = 4\n",
        "print('{0}/{1} = {2}'.format(a, b, a/b))\n",
        "print('{0}//{1} = {2}'.format(a, b, a//b))\n",
        "print('{0}%{1} = {2}'.format(a, b, a%b))\n",
        "print(a == b * (a//b) + a%b)"
      ],
      "metadata": {
        "colab": {
          "base_uri": "https://localhost:8080/"
        },
        "id": "nFsOTKfemEQg",
        "outputId": "7ef75d90-3ef7-46d2-ed2b-bbd434f7d43c"
      },
      "execution_count": 19,
      "outputs": [
        {
          "output_type": "stream",
          "name": "stdout",
          "text": [
            "13/4 = 3.25\n",
            "13//4 = 3\n",
            "13%4 = 1\n",
            "True\n"
          ]
        }
      ]
    },
    {
      "cell_type": "code",
      "source": [
        "a = -13\n",
        "b = 4\n",
        "print('{0}/{1} = {2}'.format(a, b, a/b))\n",
        "print('{0}//{1} = {2}'.format(a, b, a//b))\n",
        "print('{0}%{1} = {2}'.format(a, b, a%b))\n",
        "print(a == b * (a//b) + a%b)"
      ],
      "metadata": {
        "colab": {
          "base_uri": "https://localhost:8080/"
        },
        "id": "f8KPcSe0merk",
        "outputId": "7b9b2bfa-8dd2-4817-82e5-c86f099c107e"
      },
      "execution_count": 20,
      "outputs": [
        {
          "output_type": "stream",
          "name": "stdout",
          "text": [
            "-13/4 = -3.25\n",
            "-13//4 = -4\n",
            "-13%4 = 3\n",
            "True\n"
          ]
        }
      ]
    },
    {
      "cell_type": "code",
      "source": [
        "a = 13\n",
        "b = -4\n",
        "print('{0}/{1} = {2}'.format(a, b, a/b))\n",
        "print('{0}//{1} = {2}'.format(a, b, a//b))\n",
        "print('{0}%{1} = {2}'.format(a, b, a%b))\n",
        "print(a == b * (a//b) + a%b)"
      ],
      "metadata": {
        "colab": {
          "base_uri": "https://localhost:8080/"
        },
        "id": "IlzRmsQrmk8k",
        "outputId": "95e3c7b6-34cf-4103-f7f7-f8ea620200a8"
      },
      "execution_count": 21,
      "outputs": [
        {
          "output_type": "stream",
          "name": "stdout",
          "text": [
            "13/-4 = -3.25\n",
            "13//-4 = -4\n",
            "13%-4 = -3\n",
            "True\n"
          ]
        }
      ]
    },
    {
      "cell_type": "code",
      "source": [
        "a = -13\n",
        "b = -4\n",
        "print('{0}/{1} = {2}'.format(a, b, a/b))\n",
        "print('{0}//{1} = {2}'.format(a, b, a//b))\n",
        "print('{0}%{1} = {2}'.format(a, b, a%b))\n",
        "print(a == b * (a//b) + a%b)"
      ],
      "metadata": {
        "colab": {
          "base_uri": "https://localhost:8080/"
        },
        "id": "uODPbcBkmmy7",
        "outputId": "15ffabad-1a53-4cb2-e3ea-0683228059b1"
      },
      "execution_count": 22,
      "outputs": [
        {
          "output_type": "stream",
          "name": "stdout",
          "text": [
            "-13/-4 = 3.25\n",
            "-13//-4 = 3\n",
            "-13%-4 = -1\n",
            "True\n"
          ]
        }
      ]
    },
    {
      "cell_type": "markdown",
      "source": [
        "### 03 - Integers - Constructors and Bases"
      ],
      "metadata": {
        "id": "_yJl8G8vmsgw"
      }
    },
    {
      "cell_type": "markdown",
      "source": [
        "**Constructors**\n",
        "The `int` class has two constructors"
      ],
      "metadata": {
        "id": "_hz1YDrFmwww"
      }
    },
    {
      "cell_type": "code",
      "source": [
        "help(int)"
      ],
      "metadata": {
        "colab": {
          "base_uri": "https://localhost:8080/"
        },
        "id": "yHwfwdZmmoEZ",
        "outputId": "c0d4c2ec-1b75-4a7c-96b5-b980f1bedf39"
      },
      "execution_count": 23,
      "outputs": [
        {
          "output_type": "stream",
          "name": "stdout",
          "text": [
            "Help on class int in module builtins:\n",
            "\n",
            "class int(object)\n",
            " |  int([x]) -> integer\n",
            " |  int(x, base=10) -> integer\n",
            " |  \n",
            " |  Convert a number or string to an integer, or return 0 if no arguments\n",
            " |  are given.  If x is a number, return x.__int__().  For floating point\n",
            " |  numbers, this truncates towards zero.\n",
            " |  \n",
            " |  If x is not a number or if base is given, then x must be a string,\n",
            " |  bytes, or bytearray instance representing an integer literal in the\n",
            " |  given base.  The literal can be preceded by '+' or '-' and be surrounded\n",
            " |  by whitespace.  The base defaults to 10.  Valid bases are 0 and 2-36.\n",
            " |  Base 0 means to interpret the base from the string as an integer literal.\n",
            " |  >>> int('0b100', base=0)\n",
            " |  4\n",
            " |  \n",
            " |  Methods defined here:\n",
            " |  \n",
            " |  __abs__(self, /)\n",
            " |      abs(self)\n",
            " |  \n",
            " |  __add__(self, value, /)\n",
            " |      Return self+value.\n",
            " |  \n",
            " |  __and__(self, value, /)\n",
            " |      Return self&value.\n",
            " |  \n",
            " |  __bool__(self, /)\n",
            " |      self != 0\n",
            " |  \n",
            " |  __ceil__(...)\n",
            " |      Ceiling of an Integral returns itself.\n",
            " |  \n",
            " |  __divmod__(self, value, /)\n",
            " |      Return divmod(self, value).\n",
            " |  \n",
            " |  __eq__(self, value, /)\n",
            " |      Return self==value.\n",
            " |  \n",
            " |  __float__(self, /)\n",
            " |      float(self)\n",
            " |  \n",
            " |  __floor__(...)\n",
            " |      Flooring an Integral returns itself.\n",
            " |  \n",
            " |  __floordiv__(self, value, /)\n",
            " |      Return self//value.\n",
            " |  \n",
            " |  __format__(self, format_spec, /)\n",
            " |      Default object formatter.\n",
            " |  \n",
            " |  __ge__(self, value, /)\n",
            " |      Return self>=value.\n",
            " |  \n",
            " |  __getattribute__(self, name, /)\n",
            " |      Return getattr(self, name).\n",
            " |  \n",
            " |  __getnewargs__(self, /)\n",
            " |  \n",
            " |  __gt__(self, value, /)\n",
            " |      Return self>value.\n",
            " |  \n",
            " |  __hash__(self, /)\n",
            " |      Return hash(self).\n",
            " |  \n",
            " |  __index__(self, /)\n",
            " |      Return self converted to an integer, if self is suitable for use as an index into a list.\n",
            " |  \n",
            " |  __int__(self, /)\n",
            " |      int(self)\n",
            " |  \n",
            " |  __invert__(self, /)\n",
            " |      ~self\n",
            " |  \n",
            " |  __le__(self, value, /)\n",
            " |      Return self<=value.\n",
            " |  \n",
            " |  __lshift__(self, value, /)\n",
            " |      Return self<<value.\n",
            " |  \n",
            " |  __lt__(self, value, /)\n",
            " |      Return self<value.\n",
            " |  \n",
            " |  __mod__(self, value, /)\n",
            " |      Return self%value.\n",
            " |  \n",
            " |  __mul__(self, value, /)\n",
            " |      Return self*value.\n",
            " |  \n",
            " |  __ne__(self, value, /)\n",
            " |      Return self!=value.\n",
            " |  \n",
            " |  __neg__(self, /)\n",
            " |      -self\n",
            " |  \n",
            " |  __or__(self, value, /)\n",
            " |      Return self|value.\n",
            " |  \n",
            " |  __pos__(self, /)\n",
            " |      +self\n",
            " |  \n",
            " |  __pow__(self, value, mod=None, /)\n",
            " |      Return pow(self, value, mod).\n",
            " |  \n",
            " |  __radd__(self, value, /)\n",
            " |      Return value+self.\n",
            " |  \n",
            " |  __rand__(self, value, /)\n",
            " |      Return value&self.\n",
            " |  \n",
            " |  __rdivmod__(self, value, /)\n",
            " |      Return divmod(value, self).\n",
            " |  \n",
            " |  __repr__(self, /)\n",
            " |      Return repr(self).\n",
            " |  \n",
            " |  __rfloordiv__(self, value, /)\n",
            " |      Return value//self.\n",
            " |  \n",
            " |  __rlshift__(self, value, /)\n",
            " |      Return value<<self.\n",
            " |  \n",
            " |  __rmod__(self, value, /)\n",
            " |      Return value%self.\n",
            " |  \n",
            " |  __rmul__(self, value, /)\n",
            " |      Return value*self.\n",
            " |  \n",
            " |  __ror__(self, value, /)\n",
            " |      Return value|self.\n",
            " |  \n",
            " |  __round__(...)\n",
            " |      Rounding an Integral returns itself.\n",
            " |      Rounding with an ndigits argument also returns an integer.\n",
            " |  \n",
            " |  __rpow__(self, value, mod=None, /)\n",
            " |      Return pow(value, self, mod).\n",
            " |  \n",
            " |  __rrshift__(self, value, /)\n",
            " |      Return value>>self.\n",
            " |  \n",
            " |  __rshift__(self, value, /)\n",
            " |      Return self>>value.\n",
            " |  \n",
            " |  __rsub__(self, value, /)\n",
            " |      Return value-self.\n",
            " |  \n",
            " |  __rtruediv__(self, value, /)\n",
            " |      Return value/self.\n",
            " |  \n",
            " |  __rxor__(self, value, /)\n",
            " |      Return value^self.\n",
            " |  \n",
            " |  __sizeof__(self, /)\n",
            " |      Returns size in memory, in bytes.\n",
            " |  \n",
            " |  __str__(self, /)\n",
            " |      Return str(self).\n",
            " |  \n",
            " |  __sub__(self, value, /)\n",
            " |      Return self-value.\n",
            " |  \n",
            " |  __truediv__(self, value, /)\n",
            " |      Return self/value.\n",
            " |  \n",
            " |  __trunc__(...)\n",
            " |      Truncating an Integral returns itself.\n",
            " |  \n",
            " |  __xor__(self, value, /)\n",
            " |      Return self^value.\n",
            " |  \n",
            " |  bit_length(self, /)\n",
            " |      Number of bits necessary to represent self in binary.\n",
            " |      \n",
            " |      >>> bin(37)\n",
            " |      '0b100101'\n",
            " |      >>> (37).bit_length()\n",
            " |      6\n",
            " |  \n",
            " |  conjugate(...)\n",
            " |      Returns self, the complex conjugate of any int.\n",
            " |  \n",
            " |  to_bytes(self, /, length, byteorder, *, signed=False)\n",
            " |      Return an array of bytes representing an integer.\n",
            " |      \n",
            " |      length\n",
            " |        Length of bytes object to use.  An OverflowError is raised if the\n",
            " |        integer is not representable with the given number of bytes.\n",
            " |      byteorder\n",
            " |        The byte order used to represent the integer.  If byteorder is 'big',\n",
            " |        the most significant byte is at the beginning of the byte array.  If\n",
            " |        byteorder is 'little', the most significant byte is at the end of the\n",
            " |        byte array.  To request the native byte order of the host system, use\n",
            " |        `sys.byteorder' as the byte order value.\n",
            " |      signed\n",
            " |        Determines whether two's complement is used to represent the integer.\n",
            " |        If signed is False and a negative integer is given, an OverflowError\n",
            " |        is raised.\n",
            " |  \n",
            " |  ----------------------------------------------------------------------\n",
            " |  Class methods defined here:\n",
            " |  \n",
            " |  from_bytes(bytes, byteorder, *, signed=False) from builtins.type\n",
            " |      Return the integer represented by the given array of bytes.\n",
            " |      \n",
            " |      bytes\n",
            " |        Holds the array of bytes to convert.  The argument must either\n",
            " |        support the buffer protocol or be an iterable object producing bytes.\n",
            " |        Bytes and bytearray are examples of built-in objects that support the\n",
            " |        buffer protocol.\n",
            " |      byteorder\n",
            " |        The byte order used to represent the integer.  If byteorder is 'big',\n",
            " |        the most significant byte is at the beginning of the byte array.  If\n",
            " |        byteorder is 'little', the most significant byte is at the end of the\n",
            " |        byte array.  To request the native byte order of the host system, use\n",
            " |        `sys.byteorder' as the byte order value.\n",
            " |      signed\n",
            " |        Indicates whether two's complement is used to represent the integer.\n",
            " |  \n",
            " |  ----------------------------------------------------------------------\n",
            " |  Static methods defined here:\n",
            " |  \n",
            " |  __new__(*args, **kwargs) from builtins.type\n",
            " |      Create and return a new object.  See help(type) for accurate signature.\n",
            " |  \n",
            " |  ----------------------------------------------------------------------\n",
            " |  Data descriptors defined here:\n",
            " |  \n",
            " |  denominator\n",
            " |      the denominator of a rational number in lowest terms\n",
            " |  \n",
            " |  imag\n",
            " |      the imaginary part of a complex number\n",
            " |  \n",
            " |  numerator\n",
            " |      the numerator of a rational number in lowest terms\n",
            " |  \n",
            " |  real\n",
            " |      the real part of a complex number\n",
            "\n"
          ]
        }
      ]
    },
    {
      "cell_type": "code",
      "source": [
        "int(10)"
      ],
      "metadata": {
        "colab": {
          "base_uri": "https://localhost:8080/"
        },
        "id": "-sXjuFUGm_ET",
        "outputId": "41d20669-b681-4b21-beab-e4f321b64fc8"
      },
      "execution_count": 24,
      "outputs": [
        {
          "output_type": "execute_result",
          "data": {
            "text/plain": [
              "10"
            ]
          },
          "metadata": {},
          "execution_count": 24
        }
      ]
    },
    {
      "cell_type": "code",
      "source": [
        "int(10.9)"
      ],
      "metadata": {
        "colab": {
          "base_uri": "https://localhost:8080/"
        },
        "id": "cTMXdebHnCrC",
        "outputId": "b1fadb46-c98c-4e59-cb3f-52854d4a8d82"
      },
      "execution_count": 25,
      "outputs": [
        {
          "output_type": "execute_result",
          "data": {
            "text/plain": [
              "10"
            ]
          },
          "metadata": {},
          "execution_count": 25
        }
      ]
    },
    {
      "cell_type": "code",
      "source": [
        "int(-10.9)"
      ],
      "metadata": {
        "colab": {
          "base_uri": "https://localhost:8080/"
        },
        "id": "dnKR-i5mnDrb",
        "outputId": "faf45d9c-b0f2-44df-b7d1-b0a2732cbdd2"
      },
      "execution_count": 26,
      "outputs": [
        {
          "output_type": "execute_result",
          "data": {
            "text/plain": [
              "-10"
            ]
          },
          "metadata": {},
          "execution_count": 26
        }
      ]
    },
    {
      "cell_type": "code",
      "source": [
        "from fractions import Fraction"
      ],
      "metadata": {
        "id": "YgsOaZFMnE9d"
      },
      "execution_count": 27,
      "outputs": []
    },
    {
      "cell_type": "code",
      "source": [
        "a = Fraction(22, 7)"
      ],
      "metadata": {
        "id": "bDEY_TranHe_"
      },
      "execution_count": 28,
      "outputs": []
    },
    {
      "cell_type": "code",
      "source": [
        "a"
      ],
      "metadata": {
        "colab": {
          "base_uri": "https://localhost:8080/"
        },
        "id": "4LCxU8CenI-4",
        "outputId": "a914f52c-7bf9-43ba-e836-29a1650a0641"
      },
      "execution_count": 29,
      "outputs": [
        {
          "output_type": "execute_result",
          "data": {
            "text/plain": [
              "Fraction(22, 7)"
            ]
          },
          "metadata": {},
          "execution_count": 29
        }
      ]
    },
    {
      "cell_type": "code",
      "source": [
        "int(a)"
      ],
      "metadata": {
        "colab": {
          "base_uri": "https://localhost:8080/"
        },
        "id": "R8IN6chonJYW",
        "outputId": "bc208583-d4e9-4c2d-a828-497279c79f5f"
      },
      "execution_count": 30,
      "outputs": [
        {
          "output_type": "execute_result",
          "data": {
            "text/plain": [
              "3"
            ]
          },
          "metadata": {},
          "execution_count": 30
        }
      ]
    },
    {
      "cell_type": "markdown",
      "source": [
        "We can use the second constructor to generate integers (base 10) from strings in any base."
      ],
      "metadata": {
        "id": "upPclTFPnOEX"
      }
    },
    {
      "cell_type": "code",
      "source": [
        "int(\"10\")"
      ],
      "metadata": {
        "colab": {
          "base_uri": "https://localhost:8080/"
        },
        "id": "vuqcq-OqnLyM",
        "outputId": "8d0f4a8d-9f22-4240-a6da-5863e14f7d2e"
      },
      "execution_count": 31,
      "outputs": [
        {
          "output_type": "execute_result",
          "data": {
            "text/plain": [
              "10"
            ]
          },
          "metadata": {},
          "execution_count": 31
        }
      ]
    },
    {
      "cell_type": "code",
      "source": [
        "int(\"101\", 2)"
      ],
      "metadata": {
        "colab": {
          "base_uri": "https://localhost:8080/"
        },
        "id": "pqfhqD13nVg3",
        "outputId": "1ae3fca9-3b94-4b38-cbdc-0681202f8f64"
      },
      "execution_count": 32,
      "outputs": [
        {
          "output_type": "execute_result",
          "data": {
            "text/plain": [
              "5"
            ]
          },
          "metadata": {},
          "execution_count": 32
        }
      ]
    },
    {
      "cell_type": "code",
      "source": [
        "int(\"101\", 2)"
      ],
      "metadata": {
        "colab": {
          "base_uri": "https://localhost:8080/"
        },
        "id": "Zz7AKn8qnXtg",
        "outputId": "233dff71-684c-4158-fc9c-03dbcdb858ac"
      },
      "execution_count": 33,
      "outputs": [
        {
          "output_type": "execute_result",
          "data": {
            "text/plain": [
              "5"
            ]
          },
          "metadata": {},
          "execution_count": 33
        }
      ]
    },
    {
      "cell_type": "code",
      "source": [
        "int(\"101\", base=2)"
      ],
      "metadata": {
        "colab": {
          "base_uri": "https://localhost:8080/"
        },
        "id": "7_nVyJ9BoXuV",
        "outputId": "e470dc8c-cb01-4b94-e5bb-ee39ee59be03"
      },
      "execution_count": 34,
      "outputs": [
        {
          "output_type": "execute_result",
          "data": {
            "text/plain": [
              "5"
            ]
          },
          "metadata": {},
          "execution_count": 34
        }
      ]
    },
    {
      "cell_type": "markdown",
      "source": [
        "Python uses `a-z` for bases from 11 to 36.\n"
      ],
      "metadata": {
        "id": "vfyprorAoo58"
      }
    },
    {
      "cell_type": "markdown",
      "source": [
        "\n",
        "\n",
        "---\n",
        "**BE CAREFUL!**\n"
      ],
      "metadata": {
        "id": "yA9uLFWno8hu"
      }
    },
    {
      "cell_type": "markdown",
      "source": [
        "\n",
        "*Note that the letters are not case sensitive.*"
      ],
      "metadata": {
        "id": "0dfTMMNNpA0N"
      }
    },
    {
      "cell_type": "code",
      "source": [
        "int(\"F1A\", base=16)"
      ],
      "metadata": {
        "colab": {
          "base_uri": "https://localhost:8080/"
        },
        "id": "CA4HKlbXok8q",
        "outputId": "6e4a8b2d-215a-49e5-a662-935ce5801f98"
      },
      "execution_count": 35,
      "outputs": [
        {
          "output_type": "execute_result",
          "data": {
            "text/plain": [
              "3866"
            ]
          },
          "metadata": {},
          "execution_count": 35
        }
      ]
    },
    {
      "cell_type": "code",
      "source": [
        "int(\"f1a\", base=16)"
      ],
      "metadata": {
        "colab": {
          "base_uri": "https://localhost:8080/"
        },
        "id": "3h0sW8AHo2hs",
        "outputId": "436423d9-37db-4c1f-950c-790f9bc137da"
      },
      "execution_count": 36,
      "outputs": [
        {
          "output_type": "execute_result",
          "data": {
            "text/plain": [
              "3866"
            ]
          },
          "metadata": {},
          "execution_count": 36
        }
      ]
    },
    {
      "cell_type": "markdown",
      "source": [
        "*Of course, the string must be a valid number in whatever base you specify.*"
      ],
      "metadata": {
        "id": "ZpaubviNpFZp"
      }
    },
    {
      "cell_type": "code",
      "source": [
        "int('B1A', base=11)"
      ],
      "metadata": {
        "colab": {
          "base_uri": "https://localhost:8080/",
          "height": 166
        },
        "id": "NrGkN9iio5JF",
        "outputId": "8cfde33a-a46a-43f3-eff3-e5aa826dd919"
      },
      "execution_count": 37,
      "outputs": [
        {
          "output_type": "error",
          "ename": "ValueError",
          "evalue": "ignored",
          "traceback": [
            "\u001b[0;31m---------------------------------------------------------------------------\u001b[0m",
            "\u001b[0;31mValueError\u001b[0m                                Traceback (most recent call last)",
            "\u001b[0;32m<ipython-input-37-dd32d9818d3f>\u001b[0m in \u001b[0;36m<module>\u001b[0;34m\u001b[0m\n\u001b[0;32m----> 1\u001b[0;31m \u001b[0mint\u001b[0m\u001b[0;34m(\u001b[0m\u001b[0;34m'B1A'\u001b[0m\u001b[0;34m,\u001b[0m \u001b[0mbase\u001b[0m\u001b[0;34m=\u001b[0m\u001b[0;36m11\u001b[0m\u001b[0;34m)\u001b[0m\u001b[0;34m\u001b[0m\u001b[0;34m\u001b[0m\u001b[0m\n\u001b[0m",
            "\u001b[0;31mValueError\u001b[0m: invalid literal for int() with base 11: 'B1A'"
          ]
        }
      ]
    },
    {
      "cell_type": "code",
      "source": [
        "int('B1A', 12)"
      ],
      "metadata": {
        "colab": {
          "base_uri": "https://localhost:8080/"
        },
        "id": "kBoGAPLRpRDN",
        "outputId": "93b8bf42-6683-4710-8b36-80a82e038d3e"
      },
      "execution_count": 38,
      "outputs": [
        {
          "output_type": "execute_result",
          "data": {
            "text/plain": [
              "1606"
            ]
          },
          "metadata": {},
          "execution_count": 38
        }
      ]
    },
    {
      "cell_type": "markdown",
      "source": [
        "\n",
        "\n",
        "---\n",
        "\n"
      ],
      "metadata": {
        "id": "ahj9T8AapyAG"
      }
    },
    {
      "cell_type": "markdown",
      "source": [
        "**Base Representations**\n",
        "\n",
        "**Built-ins**"
      ],
      "metadata": {
        "id": "r-UXfX6OpX4V"
      }
    },
    {
      "cell_type": "code",
      "source": [
        "bin(10)"
      ],
      "metadata": {
        "colab": {
          "base_uri": "https://localhost:8080/",
          "height": 35
        },
        "id": "7SY5vp-KpUaQ",
        "outputId": "bdcf932e-6ef0-44cd-ece4-12f48449f083"
      },
      "execution_count": 39,
      "outputs": [
        {
          "output_type": "execute_result",
          "data": {
            "text/plain": [
              "'0b1010'"
            ],
            "application/vnd.google.colaboratory.intrinsic+json": {
              "type": "string"
            }
          },
          "metadata": {},
          "execution_count": 39
        }
      ]
    },
    {
      "cell_type": "code",
      "source": [
        "oct(10)"
      ],
      "metadata": {
        "colab": {
          "base_uri": "https://localhost:8080/",
          "height": 35
        },
        "id": "OJ_GEZbdpfMA",
        "outputId": "cf42a4c2-fbd6-44a4-be3c-8ce0db118c0a"
      },
      "execution_count": 40,
      "outputs": [
        {
          "output_type": "execute_result",
          "data": {
            "text/plain": [
              "'0o12'"
            ],
            "application/vnd.google.colaboratory.intrinsic+json": {
              "type": "string"
            }
          },
          "metadata": {},
          "execution_count": 40
        }
      ]
    },
    {
      "cell_type": "code",
      "source": [
        "hex(10)"
      ],
      "metadata": {
        "colab": {
          "base_uri": "https://localhost:8080/",
          "height": 35
        },
        "id": "JcLFPLHqpkC4",
        "outputId": "30f435d6-1ce1-4a29-fd14-df210c0a2d97"
      },
      "execution_count": 41,
      "outputs": [
        {
          "output_type": "execute_result",
          "data": {
            "text/plain": [
              "'0xa'"
            ],
            "application/vnd.google.colaboratory.intrinsic+json": {
              "type": "string"
            }
          },
          "metadata": {},
          "execution_count": 41
        }
      ]
    },
    {
      "cell_type": "markdown",
      "source": [
        "\n",
        "\n",
        "---\n",
        "\n",
        "**BE CAREFUL!**"
      ],
      "metadata": {
        "id": "S61hYkv7ptSE"
      }
    },
    {
      "cell_type": "markdown",
      "source": [
        "*Note the `0b`, `0o`, `0x` prefixes.*\n",
        "\n",
        "*You can use these in your own strings as well, and they correspond to prefixes used in integer literals as well.*"
      ],
      "metadata": {
        "id": "z7pazemmpwdH"
      }
    },
    {
      "cell_type": "code",
      "source": [
        "a = int('1010', 2)\n",
        "b = int('0b1010', 2)\n",
        "c = 0b1010"
      ],
      "metadata": {
        "id": "fj-azhwgpko9"
      },
      "execution_count": 42,
      "outputs": []
    },
    {
      "cell_type": "code",
      "source": [
        "print(a, b, c)"
      ],
      "metadata": {
        "colab": {
          "base_uri": "https://localhost:8080/"
        },
        "id": "os6o-J9tqMK8",
        "outputId": "f42bbe80-c747-4d50-bc35-177246707f61"
      },
      "execution_count": 43,
      "outputs": [
        {
          "output_type": "stream",
          "name": "stdout",
          "text": [
            "10 10 10\n"
          ]
        }
      ]
    },
    {
      "cell_type": "code",
      "source": [
        "a = int('f1a', 16)\n",
        "b = int('0xf1a', 16)\n",
        "c = 0xf1a"
      ],
      "metadata": {
        "id": "lUQuRBMsqNaQ"
      },
      "execution_count": 44,
      "outputs": []
    },
    {
      "cell_type": "code",
      "source": [
        "print(a, b, c)"
      ],
      "metadata": {
        "colab": {
          "base_uri": "https://localhost:8080/"
        },
        "id": "9KZxfw3wqV-T",
        "outputId": "72df3a2f-ef2a-4e24-b19c-66aba5608a03"
      },
      "execution_count": 45,
      "outputs": [
        {
          "output_type": "stream",
          "name": "stdout",
          "text": [
            "3866 3866 3866\n"
          ]
        }
      ]
    },
    {
      "cell_type": "markdown",
      "source": [
        "For literals, the `a-z` characters are not case-sensitive either."
      ],
      "metadata": {
        "id": "4hmuTmIxqZUT"
      }
    },
    {
      "cell_type": "code",
      "source": [
        "a = 0xf1a\n",
        "b = 0xF1a\n",
        "c = 0XF1A"
      ],
      "metadata": {
        "id": "RgsyS2xqqXx7"
      },
      "execution_count": 46,
      "outputs": []
    },
    {
      "cell_type": "code",
      "source": [
        "print(a, b, c)"
      ],
      "metadata": {
        "colab": {
          "base_uri": "https://localhost:8080/"
        },
        "id": "ooZzXxDmqqWp",
        "outputId": "7b67c8f6-0890-4c01-c1b4-90a083ee1097"
      },
      "execution_count": 47,
      "outputs": [
        {
          "output_type": "stream",
          "name": "stdout",
          "text": [
            "3866 3866 3866\n"
          ]
        }
      ]
    },
    {
      "cell_type": "markdown",
      "source": [
        "**Custom Rebasing**"
      ],
      "metadata": {
        "id": "Qj6DKccbqt6X"
      }
    },
    {
      "cell_type": "markdown",
      "source": [
        "Python only provides built-in function to rebase to base 2, 8, 16.\n",
        "\n",
        "For other bases, you have to provide your own algorithm (or leverage some 3rd party library of your choice)"
      ],
      "metadata": {
        "id": "L1xlkUMJqwsf"
      }
    },
    {
      "cell_type": "code",
      "source": [
        "def from_base10(n, b):\n",
        "    if b < 2:\n",
        "        raise ValueError('Base b must be >= 2')\n",
        "    if n < 0:\n",
        "        raise ValueError('Number n must be >= 0')\n",
        "    if n == 0:\n",
        "        return [0]\n",
        "    digits = []\n",
        "    while n > 0:\n",
        "        # m = n % b\n",
        "        # n = n // b\n",
        "        # which is the same as:\n",
        "        n, m = divmod(n, b)\n",
        "        digits.insert(0, m)\n",
        "    return digits"
      ],
      "metadata": {
        "id": "SziLW3Dqqr4f"
      },
      "execution_count": 48,
      "outputs": []
    },
    {
      "cell_type": "code",
      "source": [
        "from_base10(10, 2)"
      ],
      "metadata": {
        "colab": {
          "base_uri": "https://localhost:8080/"
        },
        "id": "eFtqFhCPr4vC",
        "outputId": "1ed32e5b-c42f-4200-99ba-fd4386b7bfa3"
      },
      "execution_count": 50,
      "outputs": [
        {
          "output_type": "execute_result",
          "data": {
            "text/plain": [
              "[1, 0, 1, 0]"
            ]
          },
          "metadata": {},
          "execution_count": 50
        }
      ]
    },
    {
      "cell_type": "code",
      "source": [
        "from_base10(255, 16)"
      ],
      "metadata": {
        "colab": {
          "base_uri": "https://localhost:8080/"
        },
        "id": "Qb2RoGqDr6VY",
        "outputId": "3486f0f9-0858-4df0-9769-a748deb91695"
      },
      "execution_count": 51,
      "outputs": [
        {
          "output_type": "execute_result",
          "data": {
            "text/plain": [
              "[15, 15]"
            ]
          },
          "metadata": {},
          "execution_count": 51
        }
      ]
    },
    {
      "cell_type": "markdown",
      "source": [
        "Next we may want to encode the digits into strings using different characters for each digit in the base."
      ],
      "metadata": {
        "id": "h6Wk0vvVsA-T"
      }
    },
    {
      "cell_type": "code",
      "source": [
        "def encode(digits, digit_map):\n",
        "    # we require that digit_map has at least as many\n",
        "    # characters as the max number in digits\n",
        "    if max(digits) >= len(digit_map):\n",
        "        raise ValueError(\"digit_map is not long enough to encode digits\")\n",
        "    \n",
        "    # we'll see this later, but the following would be better:\n",
        "    encoding = ''.join([digit_map[d] for d in digits])\n",
        "    return encoding"
      ],
      "metadata": {
        "id": "7MbPujUTr_3f"
      },
      "execution_count": 52,
      "outputs": []
    },
    {
      "cell_type": "markdown",
      "source": [
        "Now we can encode any list of digits:"
      ],
      "metadata": {
        "id": "nThRevuluEV4"
      }
    },
    {
      "cell_type": "code",
      "source": [
        "encode([1, 0, 1], \"FT\")"
      ],
      "metadata": {
        "colab": {
          "base_uri": "https://localhost:8080/",
          "height": 35
        },
        "id": "LEzqn7oRuDO1",
        "outputId": "3e2b679e-2fa4-44d7-e9b1-cf0bf0bfe7cb"
      },
      "execution_count": 58,
      "outputs": [
        {
          "output_type": "execute_result",
          "data": {
            "text/plain": [
              "'TFT'"
            ],
            "application/vnd.google.colaboratory.intrinsic+json": {
              "type": "string"
            }
          },
          "metadata": {},
          "execution_count": 58
        }
      ]
    },
    {
      "cell_type": "code",
      "source": [
        "encode([1, 10, 11], '0123456789AB')"
      ],
      "metadata": {
        "colab": {
          "base_uri": "https://localhost:8080/",
          "height": 35
        },
        "id": "J89b2UJDuROX",
        "outputId": "5c65ea30-bcd7-4335-c1fa-21332391a02d"
      },
      "execution_count": 54,
      "outputs": [
        {
          "output_type": "execute_result",
          "data": {
            "text/plain": [
              "'1AB'"
            ],
            "application/vnd.google.colaboratory.intrinsic+json": {
              "type": "string"
            }
          },
          "metadata": {},
          "execution_count": 54
        }
      ]
    },
    {
      "cell_type": "markdown",
      "source": [
        "And we can combine both functions into a sinhle one for easier use:"
      ],
      "metadata": {
        "id": "iuV87jGSuatl"
      }
    },
    {
      "cell_type": "code",
      "source": [
        "def rebase_from10(number, base):\n",
        "    digit_map = '0123456789ABCDEFGHIJKLMNOPQRSTUVWXYZ'\n",
        "    if base < 2 or base > 36:\n",
        "        raise ValueError('Invalid base: 2 <= base <= 36')\n",
        "    # we store the sign of number and maket it positive\n",
        "    # we'll re-insert the sign at the end\n",
        "    sign = -1 if number < 0 else 1\n",
        "    number *= sign\n",
        "\n",
        "    digits = from_base10(number, base)\n",
        "    encoding = encode(digits, digit_map)\n",
        "    if sign == -1:\n",
        "        encoding = '-' + encoding\n",
        "    return encoding"
      ],
      "metadata": {
        "id": "RKGA5--TuWRn"
      },
      "execution_count": 55,
      "outputs": []
    },
    {
      "cell_type": "code",
      "source": [
        "e = rebase_from10(10, 2)\n",
        "print(e)\n",
        "print(int(e, 2))"
      ],
      "metadata": {
        "colab": {
          "base_uri": "https://localhost:8080/"
        },
        "id": "JX08GPlpvNFP",
        "outputId": "b2b40906-05ca-4d5d-baa1-8dfaa219c1bd"
      },
      "execution_count": 57,
      "outputs": [
        {
          "output_type": "stream",
          "name": "stdout",
          "text": [
            "1010\n",
            "10\n"
          ]
        }
      ]
    },
    {
      "cell_type": "code",
      "source": [
        "e = rebase_from10(-10, 2)\n",
        "print(e)\n",
        "print(int(e, 2))"
      ],
      "metadata": {
        "colab": {
          "base_uri": "https://localhost:8080/"
        },
        "id": "ycVcLolKvRoz",
        "outputId": "0bffa279-5312-499b-b253-cc3e39b93267"
      },
      "execution_count": 59,
      "outputs": [
        {
          "output_type": "stream",
          "name": "stdout",
          "text": [
            "-1010\n",
            "-10\n"
          ]
        }
      ]
    },
    {
      "cell_type": "code",
      "source": [
        "rebase_from10(131, 11)"
      ],
      "metadata": {
        "colab": {
          "base_uri": "https://localhost:8080/",
          "height": 35
        },
        "id": "xy0D4u05xIMW",
        "outputId": "9155dd61-05c0-465a-9667-4e2e1235340b"
      },
      "execution_count": 60,
      "outputs": [
        {
          "output_type": "execute_result",
          "data": {
            "text/plain": [
              "'10A'"
            ],
            "application/vnd.google.colaboratory.intrinsic+json": {
              "type": "string"
            }
          },
          "metadata": {},
          "execution_count": 60
        }
      ]
    },
    {
      "cell_type": "code",
      "source": [
        "rebase_from10(4095, 16)"
      ],
      "metadata": {
        "colab": {
          "base_uri": "https://localhost:8080/",
          "height": 35
        },
        "id": "3jPmxPA3xLiP",
        "outputId": "e9cc3394-0fa5-4762-b3c0-26babd41ac19"
      },
      "execution_count": 61,
      "outputs": [
        {
          "output_type": "execute_result",
          "data": {
            "text/plain": [
              "'FFF'"
            ],
            "application/vnd.google.colaboratory.intrinsic+json": {
              "type": "string"
            }
          },
          "metadata": {},
          "execution_count": 61
        }
      ]
    },
    {
      "cell_type": "code",
      "source": [
        "rebase_from10(-4095, 16)"
      ],
      "metadata": {
        "colab": {
          "base_uri": "https://localhost:8080/",
          "height": 35
        },
        "id": "LxsQGfumxOG4",
        "outputId": "52d1984e-d881-41ee-eb20-8b17b9365a50"
      },
      "execution_count": 62,
      "outputs": [
        {
          "output_type": "execute_result",
          "data": {
            "text/plain": [
              "'-FFF'"
            ],
            "application/vnd.google.colaboratory.intrinsic+json": {
              "type": "string"
            }
          },
          "metadata": {},
          "execution_count": 62
        }
      ]
    },
    {
      "cell_type": "markdown",
      "source": [
        "### 04 - Rational Numbers"
      ],
      "metadata": {
        "id": "mfjV__Kpyeex"
      }
    },
    {
      "cell_type": "code",
      "source": [
        "from fractions import Fraction"
      ],
      "metadata": {
        "id": "GKiahS8ExSov"
      },
      "execution_count": 63,
      "outputs": []
    },
    {
      "cell_type": "markdown",
      "source": [
        "We can get some info on the Fraction class:"
      ],
      "metadata": {
        "id": "MOaSj37Lyzne"
      }
    },
    {
      "cell_type": "code",
      "source": [
        "help(Fraction)"
      ],
      "metadata": {
        "colab": {
          "base_uri": "https://localhost:8080/"
        },
        "id": "ym6nqiDUyriy",
        "outputId": "1c05b36b-270e-409d-ed6f-d3e09119a119"
      },
      "execution_count": 64,
      "outputs": [
        {
          "output_type": "stream",
          "name": "stdout",
          "text": [
            "Help on class Fraction in module fractions:\n",
            "\n",
            "class Fraction(numbers.Rational)\n",
            " |  Fraction(numerator=0, denominator=None, *, _normalize=True)\n",
            " |  \n",
            " |  This class implements rational numbers.\n",
            " |  \n",
            " |  In the two-argument form of the constructor, Fraction(8, 6) will\n",
            " |  produce a rational number equivalent to 4/3. Both arguments must\n",
            " |  be Rational. The numerator defaults to 0 and the denominator\n",
            " |  defaults to 1 so that Fraction(3) == 3 and Fraction() == 0.\n",
            " |  \n",
            " |  Fractions can also be constructed from:\n",
            " |  \n",
            " |    - numeric strings similar to those accepted by the\n",
            " |      float constructor (for example, '-2.3' or '1e10')\n",
            " |  \n",
            " |    - strings of the form '123/456'\n",
            " |  \n",
            " |    - float and Decimal instances\n",
            " |  \n",
            " |    - other Rational instances (including integers)\n",
            " |  \n",
            " |  Method resolution order:\n",
            " |      Fraction\n",
            " |      numbers.Rational\n",
            " |      numbers.Real\n",
            " |      numbers.Complex\n",
            " |      numbers.Number\n",
            " |      builtins.object\n",
            " |  \n",
            " |  Methods defined here:\n",
            " |  \n",
            " |  __abs__(a)\n",
            " |      abs(a)\n",
            " |  \n",
            " |  __add__(a, b)\n",
            " |      a + b\n",
            " |  \n",
            " |  __bool__(a)\n",
            " |      a != 0\n",
            " |  \n",
            " |  __ceil__(a)\n",
            " |      Will be math.ceil(a) in 3.0.\n",
            " |  \n",
            " |  __copy__(self)\n",
            " |  \n",
            " |  __deepcopy__(self, memo)\n",
            " |  \n",
            " |  __eq__(a, b)\n",
            " |      a == b\n",
            " |  \n",
            " |  __floor__(a)\n",
            " |      Will be math.floor(a) in 3.0.\n",
            " |  \n",
            " |  __floordiv__(a, b)\n",
            " |      a // b\n",
            " |  \n",
            " |  __ge__(a, b)\n",
            " |      a >= b\n",
            " |  \n",
            " |  __gt__(a, b)\n",
            " |      a > b\n",
            " |  \n",
            " |  __hash__(self)\n",
            " |      hash(self)\n",
            " |  \n",
            " |  __le__(a, b)\n",
            " |      a <= b\n",
            " |  \n",
            " |  __lt__(a, b)\n",
            " |      a < b\n",
            " |  \n",
            " |  __mod__(a, b)\n",
            " |      a % b\n",
            " |  \n",
            " |  __mul__(a, b)\n",
            " |      a * b\n",
            " |  \n",
            " |  __neg__(a)\n",
            " |      -a\n",
            " |  \n",
            " |  __pos__(a)\n",
            " |      +a: Coerces a subclass instance to Fraction\n",
            " |  \n",
            " |  __pow__(a, b)\n",
            " |      a ** b\n",
            " |      \n",
            " |      If b is not an integer, the result will be a float or complex\n",
            " |      since roots are generally irrational. If b is an integer, the\n",
            " |      result will be rational.\n",
            " |  \n",
            " |  __radd__(b, a)\n",
            " |      a + b\n",
            " |  \n",
            " |  __reduce__(self)\n",
            " |      Helper for pickle.\n",
            " |  \n",
            " |  __repr__(self)\n",
            " |      repr(self)\n",
            " |  \n",
            " |  __rfloordiv__(b, a)\n",
            " |      a // b\n",
            " |  \n",
            " |  __rmod__(b, a)\n",
            " |      a % b\n",
            " |  \n",
            " |  __rmul__(b, a)\n",
            " |      a * b\n",
            " |  \n",
            " |  __round__(self, ndigits=None)\n",
            " |      Will be round(self, ndigits) in 3.0.\n",
            " |      \n",
            " |      Rounds half toward even.\n",
            " |  \n",
            " |  __rpow__(b, a)\n",
            " |      a ** b\n",
            " |  \n",
            " |  __rsub__(b, a)\n",
            " |      a - b\n",
            " |  \n",
            " |  __rtruediv__(b, a)\n",
            " |      a / b\n",
            " |  \n",
            " |  __str__(self)\n",
            " |      str(self)\n",
            " |  \n",
            " |  __sub__(a, b)\n",
            " |      a - b\n",
            " |  \n",
            " |  __truediv__(a, b)\n",
            " |      a / b\n",
            " |  \n",
            " |  __trunc__(a)\n",
            " |      trunc(a)\n",
            " |  \n",
            " |  limit_denominator(self, max_denominator=1000000)\n",
            " |      Closest Fraction to self with denominator at most max_denominator.\n",
            " |      \n",
            " |      >>> Fraction('3.141592653589793').limit_denominator(10)\n",
            " |      Fraction(22, 7)\n",
            " |      >>> Fraction('3.141592653589793').limit_denominator(100)\n",
            " |      Fraction(311, 99)\n",
            " |      >>> Fraction(4321, 8765).limit_denominator(10000)\n",
            " |      Fraction(4321, 8765)\n",
            " |  \n",
            " |  ----------------------------------------------------------------------\n",
            " |  Class methods defined here:\n",
            " |  \n",
            " |  from_decimal(dec) from abc.ABCMeta\n",
            " |      Converts a finite Decimal instance to a rational number, exactly.\n",
            " |  \n",
            " |  from_float(f) from abc.ABCMeta\n",
            " |      Converts a finite float to a rational number, exactly.\n",
            " |      \n",
            " |      Beware that Fraction.from_float(0.3) != Fraction(3, 10).\n",
            " |  \n",
            " |  ----------------------------------------------------------------------\n",
            " |  Static methods defined here:\n",
            " |  \n",
            " |  __new__(cls, numerator=0, denominator=None, *, _normalize=True)\n",
            " |      Constructs a Rational.\n",
            " |      \n",
            " |      Takes a string like '3/2' or '1.5', another Rational instance, a\n",
            " |      numerator/denominator pair, or a float.\n",
            " |      \n",
            " |      Examples\n",
            " |      --------\n",
            " |      \n",
            " |      >>> Fraction(10, -8)\n",
            " |      Fraction(-5, 4)\n",
            " |      >>> Fraction(Fraction(1, 7), 5)\n",
            " |      Fraction(1, 35)\n",
            " |      >>> Fraction(Fraction(1, 7), Fraction(2, 3))\n",
            " |      Fraction(3, 14)\n",
            " |      >>> Fraction('314')\n",
            " |      Fraction(314, 1)\n",
            " |      >>> Fraction('-35/4')\n",
            " |      Fraction(-35, 4)\n",
            " |      >>> Fraction('3.1415') # conversion from numeric string\n",
            " |      Fraction(6283, 2000)\n",
            " |      >>> Fraction('-47e-2') # string may include a decimal exponent\n",
            " |      Fraction(-47, 100)\n",
            " |      >>> Fraction(1.47)  # direct construction from float (exact conversion)\n",
            " |      Fraction(6620291452234629, 4503599627370496)\n",
            " |      >>> Fraction(2.25)\n",
            " |      Fraction(9, 4)\n",
            " |      >>> Fraction(Decimal('1.47'))\n",
            " |      Fraction(147, 100)\n",
            " |  \n",
            " |  ----------------------------------------------------------------------\n",
            " |  Data descriptors defined here:\n",
            " |  \n",
            " |  denominator\n",
            " |  \n",
            " |  numerator\n",
            " |  \n",
            " |  ----------------------------------------------------------------------\n",
            " |  Data and other attributes defined here:\n",
            " |  \n",
            " |  __abstractmethods__ = frozenset()\n",
            " |  \n",
            " |  ----------------------------------------------------------------------\n",
            " |  Methods inherited from numbers.Rational:\n",
            " |  \n",
            " |  __float__(self)\n",
            " |      float(self) = self.numerator / self.denominator\n",
            " |      \n",
            " |      It's important that this conversion use the integer's \"true\"\n",
            " |      division rather than casting one side to float before dividing\n",
            " |      so that ratios of huge integers convert without overflowing.\n",
            " |  \n",
            " |  ----------------------------------------------------------------------\n",
            " |  Methods inherited from numbers.Real:\n",
            " |  \n",
            " |  __complex__(self)\n",
            " |      complex(self) == complex(float(self), 0)\n",
            " |  \n",
            " |  __divmod__(self, other)\n",
            " |      divmod(self, other): The pair (self // other, self % other).\n",
            " |      \n",
            " |      Sometimes this can be computed faster than the pair of\n",
            " |      operations.\n",
            " |  \n",
            " |  __rdivmod__(self, other)\n",
            " |      divmod(other, self): The pair (self // other, self % other).\n",
            " |      \n",
            " |      Sometimes this can be computed faster than the pair of\n",
            " |      operations.\n",
            " |  \n",
            " |  conjugate(self)\n",
            " |      Conjugate is a no-op for Reals.\n",
            " |  \n",
            " |  ----------------------------------------------------------------------\n",
            " |  Data descriptors inherited from numbers.Real:\n",
            " |  \n",
            " |  imag\n",
            " |      Real numbers have no imaginary component.\n",
            " |  \n",
            " |  real\n",
            " |      Real numbers are their real component.\n",
            "\n"
          ]
        }
      ]
    },
    {
      "cell_type": "markdown",
      "source": [
        "We can create Fraction objects in a variety of ways:\n",
        "\n",
        "Using integers:"
      ],
      "metadata": {
        "id": "dlGeDZx5y8LW"
      }
    },
    {
      "cell_type": "code",
      "source": [
        "Fraction(1)"
      ],
      "metadata": {
        "colab": {
          "base_uri": "https://localhost:8080/"
        },
        "id": "YaQCeRdty4cG",
        "outputId": "7d41d924-5cc7-4999-e0fa-e50dde287b58"
      },
      "execution_count": 65,
      "outputs": [
        {
          "output_type": "execute_result",
          "data": {
            "text/plain": [
              "Fraction(1, 1)"
            ]
          },
          "metadata": {},
          "execution_count": 65
        }
      ]
    },
    {
      "cell_type": "code",
      "source": [
        "Fraction(1, 3)"
      ],
      "metadata": {
        "colab": {
          "base_uri": "https://localhost:8080/"
        },
        "id": "MXdaPzIdzCLq",
        "outputId": "b1dd0fed-4997-4831-8961-5511c1521b51"
      },
      "execution_count": 66,
      "outputs": [
        {
          "output_type": "execute_result",
          "data": {
            "text/plain": [
              "Fraction(1, 3)"
            ]
          },
          "metadata": {},
          "execution_count": 66
        }
      ]
    },
    {
      "cell_type": "markdown",
      "source": [
        "Using rational numbers:"
      ],
      "metadata": {
        "id": "XAYdYfrwzEUP"
      }
    },
    {
      "cell_type": "code",
      "source": [
        "x = Fraction(2, 3)\n",
        "y = Fraction(3, 4)\n",
        "# 2/3 / 3/4 --> 2/3 * 4/3 --> 8/9\n",
        "Fraction(x, y)"
      ],
      "metadata": {
        "colab": {
          "base_uri": "https://localhost:8080/"
        },
        "id": "yzXOoACvzDrx",
        "outputId": "5bfcf6d6-9411-464d-d502-6482b8b9c6ea"
      },
      "execution_count": 67,
      "outputs": [
        {
          "output_type": "execute_result",
          "data": {
            "text/plain": [
              "Fraction(8, 9)"
            ]
          },
          "metadata": {},
          "execution_count": 67
        }
      ]
    },
    {
      "cell_type": "markdown",
      "source": [
        "Using floats:"
      ],
      "metadata": {
        "id": "xup7asjSzgub"
      }
    },
    {
      "cell_type": "code",
      "source": [
        "Fraction(0.125)"
      ],
      "metadata": {
        "colab": {
          "base_uri": "https://localhost:8080/"
        },
        "id": "-014wIRFzfMA",
        "outputId": "7d82c435-8710-4196-e2e8-ef49d7ef4746"
      },
      "execution_count": 68,
      "outputs": [
        {
          "output_type": "execute_result",
          "data": {
            "text/plain": [
              "Fraction(1, 8)"
            ]
          },
          "metadata": {},
          "execution_count": 68
        }
      ]
    },
    {
      "cell_type": "code",
      "source": [
        "Fraction(0.5)"
      ],
      "metadata": {
        "colab": {
          "base_uri": "https://localhost:8080/"
        },
        "id": "TsFolcCpzkjW",
        "outputId": "0243f73a-4fbb-482a-d72b-8dbbef985e11"
      },
      "execution_count": 69,
      "outputs": [
        {
          "output_type": "execute_result",
          "data": {
            "text/plain": [
              "Fraction(1, 2)"
            ]
          },
          "metadata": {},
          "execution_count": 69
        }
      ]
    },
    {
      "cell_type": "markdown",
      "source": [
        "Using strings:"
      ],
      "metadata": {
        "id": "i8D5WCQqznVG"
      }
    },
    {
      "cell_type": "code",
      "source": [
        "Fraction('10.5')"
      ],
      "metadata": {
        "colab": {
          "base_uri": "https://localhost:8080/"
        },
        "id": "1H_-GcZazmmo",
        "outputId": "0fb8d24d-2732-420d-ea1f-757a4535e003"
      },
      "execution_count": 70,
      "outputs": [
        {
          "output_type": "execute_result",
          "data": {
            "text/plain": [
              "Fraction(21, 2)"
            ]
          },
          "metadata": {},
          "execution_count": 70
        }
      ]
    },
    {
      "cell_type": "code",
      "source": [
        "Fraction('22/7')"
      ],
      "metadata": {
        "colab": {
          "base_uri": "https://localhost:8080/"
        },
        "id": "kx-I562Mztnp",
        "outputId": "83484c21-b29e-4416-e2ba-2bf239de61c5"
      },
      "execution_count": 71,
      "outputs": [
        {
          "output_type": "execute_result",
          "data": {
            "text/plain": [
              "Fraction(22, 7)"
            ]
          },
          "metadata": {},
          "execution_count": 71
        }
      ]
    },
    {
      "cell_type": "markdown",
      "source": [
        "Fractions are automatically reduced:"
      ],
      "metadata": {
        "id": "wCW9_OoYzxwU"
      }
    },
    {
      "cell_type": "code",
      "source": [
        "Fraction(8, 16)"
      ],
      "metadata": {
        "colab": {
          "base_uri": "https://localhost:8080/"
        },
        "id": "KxveDPFPzwCW",
        "outputId": "4ba6a29c-b280-420f-c68a-2faffd0de898"
      },
      "execution_count": 72,
      "outputs": [
        {
          "output_type": "execute_result",
          "data": {
            "text/plain": [
              "Fraction(1, 2)"
            ]
          },
          "metadata": {},
          "execution_count": 72
        }
      ]
    },
    {
      "cell_type": "markdown",
      "source": [
        "Negative sign is attached to the numerator:"
      ],
      "metadata": {
        "id": "sFs-KxShz5-p"
      }
    },
    {
      "cell_type": "code",
      "source": [
        "Fraction(-1, 4)"
      ],
      "metadata": {
        "colab": {
          "base_uri": "https://localhost:8080/"
        },
        "id": "-yi9cPOcz5G3",
        "outputId": "11e80da4-2e47-4a24-a990-40471e355e0e"
      },
      "execution_count": 73,
      "outputs": [
        {
          "output_type": "execute_result",
          "data": {
            "text/plain": [
              "Fraction(-1, 4)"
            ]
          },
          "metadata": {},
          "execution_count": 73
        }
      ]
    },
    {
      "cell_type": "markdown",
      "source": [
        "Standard arithmetic operators are supported:"
      ],
      "metadata": {
        "id": "7iXshp7w0BCb"
      }
    },
    {
      "cell_type": "code",
      "source": [
        "Fraction(1, 3) + Fraction(1, 3) + Fraction(1, 3)"
      ],
      "metadata": {
        "colab": {
          "base_uri": "https://localhost:8080/"
        },
        "id": "p3FyQUM30ARd",
        "outputId": "341684bd-533c-412c-b3d8-91232a0aa6b6"
      },
      "execution_count": 74,
      "outputs": [
        {
          "output_type": "execute_result",
          "data": {
            "text/plain": [
              "Fraction(1, 1)"
            ]
          },
          "metadata": {},
          "execution_count": 74
        }
      ]
    },
    {
      "cell_type": "code",
      "source": [
        "Fraction(1, 2) * Fraction(1, 4)"
      ],
      "metadata": {
        "colab": {
          "base_uri": "https://localhost:8080/"
        },
        "id": "80_Sj3HS0ZLo",
        "outputId": "9551048d-abe2-49c1-98dc-fb23d6747096"
      },
      "execution_count": 76,
      "outputs": [
        {
          "output_type": "execute_result",
          "data": {
            "text/plain": [
              "Fraction(1, 8)"
            ]
          },
          "metadata": {},
          "execution_count": 76
        }
      ]
    },
    {
      "cell_type": "code",
      "source": [
        "Fraction(1, 2) / Fraction(1, 3)"
      ],
      "metadata": {
        "colab": {
          "base_uri": "https://localhost:8080/"
        },
        "id": "ALQrpu-z0XpZ",
        "outputId": "a676f8a5-303e-444a-a720-5ea952858b55"
      },
      "execution_count": 77,
      "outputs": [
        {
          "output_type": "execute_result",
          "data": {
            "text/plain": [
              "Fraction(3, 2)"
            ]
          },
          "metadata": {},
          "execution_count": 77
        }
      ]
    },
    {
      "cell_type": "markdown",
      "source": [
        "We can recover the numerator and denominator (integers):"
      ],
      "metadata": {
        "id": "IApUxIs30o94"
      }
    },
    {
      "cell_type": "code",
      "source": [
        "x = Fraction(22, 7)\n",
        "print(x.numerator)\n",
        "print(x.denominator)"
      ],
      "metadata": {
        "colab": {
          "base_uri": "https://localhost:8080/"
        },
        "id": "nHlZVC7R0nnf",
        "outputId": "089cbfdc-e095-4c7b-9481-63f7d4660d4a"
      },
      "execution_count": 78,
      "outputs": [
        {
          "output_type": "stream",
          "name": "stdout",
          "text": [
            "22\n",
            "7\n"
          ]
        }
      ]
    },
    {
      "cell_type": "markdown",
      "source": [
        "Since floats have finite precision, any float can be convertted to a rational number:"
      ],
      "metadata": {
        "id": "yV50Oyqy0ssu"
      }
    },
    {
      "cell_type": "code",
      "source": [
        "import math\n",
        "x = Fraction(math.pi)\n",
        "print(x)\n",
        "print(float(x))"
      ],
      "metadata": {
        "colab": {
          "base_uri": "https://localhost:8080/"
        },
        "id": "2QkFOHku07ZK",
        "outputId": "8bcdab36-1383-42a8-8223-7af39f7d0b2b"
      },
      "execution_count": 79,
      "outputs": [
        {
          "output_type": "stream",
          "name": "stdout",
          "text": [
            "884279719003555/281474976710656\n",
            "3.141592653589793\n"
          ]
        }
      ]
    },
    {
      "cell_type": "code",
      "source": [
        "x = Fraction(math.sqrt(2))\n",
        "print(x)"
      ],
      "metadata": {
        "colab": {
          "base_uri": "https://localhost:8080/"
        },
        "id": "UupkLYvR1AhT",
        "outputId": "61208c60-b80a-479d-9f24-f91979a820dd"
      },
      "execution_count": 80,
      "outputs": [
        {
          "output_type": "stream",
          "name": "stdout",
          "text": [
            "6369051672525773/4503599627370496\n"
          ]
        }
      ]
    },
    {
      "cell_type": "markdown",
      "source": [
        "\n",
        "\n",
        "---\n",
        "\n",
        "**BE CAREFUL!**"
      ],
      "metadata": {
        "id": "a7sqb6w01JLw"
      }
    },
    {
      "cell_type": "markdown",
      "source": [
        "*Note that these rational values are approximations to the irrational number `pi` and `sqrt(2)`*\n",
        "\n",
        "*Float number representations (as we will examine in future lessons) do not always have an exact representation.*\n",
        "\n",
        "*The number 0.125 (1/8) has an exact representation:*"
      ],
      "metadata": {
        "id": "ZRYaK3Dk1MsW"
      }
    },
    {
      "cell_type": "code",
      "source": [
        "Fraction(0.125)"
      ],
      "metadata": {
        "colab": {
          "base_uri": "https://localhost:8080/"
        },
        "id": "j3YKTfFF1GOv",
        "outputId": "f5d58099-3509-4a69-c84b-db8e4811fae2"
      },
      "execution_count": 81,
      "outputs": [
        {
          "output_type": "execute_result",
          "data": {
            "text/plain": [
              "Fraction(1, 8)"
            ]
          },
          "metadata": {},
          "execution_count": 81
        }
      ]
    },
    {
      "cell_type": "markdown",
      "source": [
        "*and so we see the expected equivalent fraction.*\n",
        "\n",
        "*But, 0.3 (3/10) does not have an exact representation:*"
      ],
      "metadata": {
        "id": "Ty5X-5221pEx"
      }
    },
    {
      "cell_type": "code",
      "source": [
        "Fraction(3, 10)"
      ],
      "metadata": {
        "colab": {
          "base_uri": "https://localhost:8080/"
        },
        "id": "WZtX3UPk1oTg",
        "outputId": "60365dd3-1d93-4276-e8a1-3d3cc80b91db"
      },
      "execution_count": 82,
      "outputs": [
        {
          "output_type": "execute_result",
          "data": {
            "text/plain": [
              "Fraction(3, 10)"
            ]
          },
          "metadata": {},
          "execution_count": 82
        }
      ]
    },
    {
      "cell_type": "markdown",
      "source": [
        "*but*"
      ],
      "metadata": {
        "id": "Uu_P2Pu61zlK"
      }
    },
    {
      "cell_type": "code",
      "source": [
        "Fraction(0.3)"
      ],
      "metadata": {
        "colab": {
          "base_uri": "https://localhost:8080/"
        },
        "id": "6s37RrTN10jO",
        "outputId": "52d6115e-2e15-40d4-aa02-a5b5dd341a67"
      },
      "execution_count": 83,
      "outputs": [
        {
          "output_type": "execute_result",
          "data": {
            "text/plain": [
              "Fraction(5404319552844595, 18014398509481984)"
            ]
          },
          "metadata": {},
          "execution_count": 83
        }
      ]
    },
    {
      "cell_type": "markdown",
      "source": [
        "\n",
        "\n",
        "---\n",
        "\n"
      ],
      "metadata": {
        "id": "KIh9lUSn3POL"
      }
    },
    {
      "cell_type": "markdown",
      "source": [
        "We will study this in upcoming lessons.\n",
        "\n",
        "Bur for now, let's just see a quick explanation:"
      ],
      "metadata": {
        "id": "KW2TYuuK16Gc"
      }
    },
    {
      "cell_type": "code",
      "source": [
        "x = 0.3"
      ],
      "metadata": {
        "id": "PEmLsqBc1y3S"
      },
      "execution_count": 84,
      "outputs": []
    },
    {
      "cell_type": "code",
      "source": [
        "print(x)"
      ],
      "metadata": {
        "colab": {
          "base_uri": "https://localhost:8080/"
        },
        "id": "uD5FBQeP2Ay6",
        "outputId": "13de48ff-9637-4b59-d557-aaf9a67f0786"
      },
      "execution_count": 85,
      "outputs": [
        {
          "output_type": "stream",
          "name": "stdout",
          "text": [
            "0.3\n"
          ]
        }
      ]
    },
    {
      "cell_type": "markdown",
      "source": [
        "Everything looks ok here - why am I saying 0.3 (float) is just an approximation?\n",
        "\n",
        "Python is trying to format the displayed value for readability - so it rounds the number for a better display format!\n",
        "\n",
        "We can instead choose to display the value using a certain number of digits:"
      ],
      "metadata": {
        "id": "aQQkPcWz2CR1"
      }
    },
    {
      "cell_type": "code",
      "source": [
        "format(x, '.5f')"
      ],
      "metadata": {
        "colab": {
          "base_uri": "https://localhost:8080/",
          "height": 35
        },
        "id": "dhqhB_hY2BXo",
        "outputId": "b88a51cc-2fb8-48e2-dc69-0c92afeebfce"
      },
      "execution_count": 86,
      "outputs": [
        {
          "output_type": "execute_result",
          "data": {
            "text/plain": [
              "'0.30000'"
            ],
            "application/vnd.google.colaboratory.intrinsic+json": {
              "type": "string"
            }
          },
          "metadata": {},
          "execution_count": 86
        }
      ]
    },
    {
      "cell_type": "markdown",
      "source": [
        "At 5 digits after the decimal, we might still think 0.3 is an exact representation.\n",
        "\n",
        "But let's display a few more digits:"
      ],
      "metadata": {
        "id": "JQtVgRvP2hnB"
      }
    },
    {
      "cell_type": "code",
      "source": [
        "format(x, '.15f')"
      ],
      "metadata": {
        "colab": {
          "base_uri": "https://localhost:8080/",
          "height": 35
        },
        "id": "fhPpuSEl2d__",
        "outputId": "b8911cc9-b010-4edb-bf55-b0de70795488"
      },
      "execution_count": 87,
      "outputs": [
        {
          "output_type": "execute_result",
          "data": {
            "text/plain": [
              "'0.300000000000000'"
            ],
            "application/vnd.google.colaboratory.intrinsic+json": {
              "type": "string"
            }
          },
          "metadata": {},
          "execution_count": 87
        }
      ]
    },
    {
      "cell_type": "markdown",
      "source": [
        "\n",
        "\n",
        "---\n",
        "**BE CAREFUL!**\n"
      ],
      "metadata": {
        "id": "Sn9kFbl_351a"
      }
    },
    {
      "cell_type": "markdown",
      "source": [
        "*Hmm... 15 digits and still looking good!*\n",
        "\n",
        "*How about 25 digits...*"
      ],
      "metadata": {
        "id": "2jpH7x6S2wFO"
      }
    },
    {
      "cell_type": "code",
      "source": [
        "format(x, '.25f')"
      ],
      "metadata": {
        "colab": {
          "base_uri": "https://localhost:8080/",
          "height": 35
        },
        "id": "6NBd31Uj2vWI",
        "outputId": "8db25bee-c43c-4d65-99f8-023a19368612"
      },
      "execution_count": 88,
      "outputs": [
        {
          "output_type": "execute_result",
          "data": {
            "text/plain": [
              "'0.2999999999999999888977698'"
            ],
            "application/vnd.google.colaboratory.intrinsic+json": {
              "type": "string"
            }
          },
          "metadata": {},
          "execution_count": 88
        }
      ]
    },
    {
      "cell_type": "markdown",
      "source": [
        "\n",
        "\n",
        "---\n",
        "\n"
      ],
      "metadata": {
        "id": "3V5O0KwI3_PA"
      }
    },
    {
      "cell_type": "markdown",
      "source": [
        "Now we see that `x` is not quite 0.3...\n",
        "\n",
        "In fact, we can quantify the delta this way:"
      ],
      "metadata": {
        "id": "SXDG5fjf4F9t"
      }
    },
    {
      "cell_type": "code",
      "source": [
        "delta = Fraction(0.3) - Fraction(3, 10)"
      ],
      "metadata": {
        "id": "d-BFJiZ13-9b"
      },
      "execution_count": 89,
      "outputs": []
    },
    {
      "cell_type": "markdown",
      "source": [
        "Theoretically, delta should be 0, but it's not:"
      ],
      "metadata": {
        "id": "59gDqH6J4SB6"
      }
    },
    {
      "cell_type": "code",
      "source": [
        "delta == 0"
      ],
      "metadata": {
        "colab": {
          "base_uri": "https://localhost:8080/"
        },
        "id": "I9Q2y_jM2-lX",
        "outputId": "d20d2ab6-3c5b-4d6f-b33c-62cb11c0d314"
      },
      "execution_count": 90,
      "outputs": [
        {
          "output_type": "execute_result",
          "data": {
            "text/plain": [
              "False"
            ]
          },
          "metadata": {},
          "execution_count": 90
        }
      ]
    },
    {
      "cell_type": "code",
      "source": [
        "delta"
      ],
      "metadata": {
        "colab": {
          "base_uri": "https://localhost:8080/"
        },
        "id": "8Ra3HNjP4XTS",
        "outputId": "10b24479-2924-41f8-ef12-245bb2f534ae"
      },
      "execution_count": 91,
      "outputs": [
        {
          "output_type": "execute_result",
          "data": {
            "text/plain": [
              "Fraction(-1, 90071992547409920)"
            ]
          },
          "metadata": {},
          "execution_count": 91
        }
      ]
    },
    {
      "cell_type": "markdown",
      "source": [
        "`delta` is a very small number, the above fraction...\n",
        "\n",
        "As a float:"
      ],
      "metadata": {
        "id": "Th9b7qIi4Zsj"
      }
    },
    {
      "cell_type": "code",
      "source": [
        "float(delta)"
      ],
      "metadata": {
        "colab": {
          "base_uri": "https://localhost:8080/"
        },
        "id": "_knTb6Nj4YSY",
        "outputId": "aafdd900-13eb-4d22-ee59-181adeba498d"
      },
      "execution_count": 92,
      "outputs": [
        {
          "output_type": "execute_result",
          "data": {
            "text/plain": [
              "-1.1102230246251566e-17"
            ]
          },
          "metadata": {},
          "execution_count": 92
        }
      ]
    },
    {
      "cell_type": "markdown",
      "source": [
        "**Constraining the denominator**"
      ],
      "metadata": {
        "id": "-Spgyj7S5Nuf"
      }
    },
    {
      "cell_type": "code",
      "source": [
        "x = Fraction(math.pi)\n",
        "print(x)\n",
        "print(format(float(x), '.25f'))"
      ],
      "metadata": {
        "colab": {
          "base_uri": "https://localhost:8080/"
        },
        "id": "KQOelMfH4fvk",
        "outputId": "0d1a5a5a-b036-48db-d451-ebe3fa3dfbff"
      },
      "execution_count": 93,
      "outputs": [
        {
          "output_type": "stream",
          "name": "stdout",
          "text": [
            "884279719003555/281474976710656\n",
            "3.1415926535897931159979635\n"
          ]
        }
      ]
    },
    {
      "cell_type": "code",
      "source": [
        "y = x.limit_denominator(10)\n",
        "print(y)\n",
        "print(format(float(y), '.25f'))"
      ],
      "metadata": {
        "colab": {
          "base_uri": "https://localhost:8080/"
        },
        "id": "lnMM2W925X-5",
        "outputId": "9730397b-cd2c-44c4-e3e9-ea5e7dbc24ca"
      },
      "execution_count": 94,
      "outputs": [
        {
          "output_type": "stream",
          "name": "stdout",
          "text": [
            "22/7\n",
            "3.1428571428571427937015414\n"
          ]
        }
      ]
    },
    {
      "cell_type": "code",
      "source": [
        "y = x.limit_denominator(100)\n",
        "print(y)\n",
        "print(format(float(y), '.25f'))"
      ],
      "metadata": {
        "colab": {
          "base_uri": "https://localhost:8080/"
        },
        "id": "AS9ppHxz5eEz",
        "outputId": "13639b26-2a3b-42bf-9410-1cd7e2ab1d91"
      },
      "execution_count": 95,
      "outputs": [
        {
          "output_type": "stream",
          "name": "stdout",
          "text": [
            "311/99\n",
            "3.1414141414141414365701621\n"
          ]
        }
      ]
    },
    {
      "cell_type": "code",
      "source": [
        "y = x.limit_denominator(500)\n",
        "print(y)\n",
        "print(format(float(y), '.25f'))"
      ],
      "metadata": {
        "colab": {
          "base_uri": "https://localhost:8080/"
        },
        "id": "jR_Bn23x5kTo",
        "outputId": "37d484b8-4cc6-4c2e-8ecf-411a8b10b15e"
      },
      "execution_count": 96,
      "outputs": [
        {
          "output_type": "stream",
          "name": "stdout",
          "text": [
            "355/113\n",
            "3.1415929203539825209645642\n"
          ]
        }
      ]
    },
    {
      "cell_type": "markdown",
      "source": [
        "### 05 - Floats - Internal Representation"
      ],
      "metadata": {
        "id": "aA-j8BAr6FXx"
      }
    },
    {
      "cell_type": "markdown",
      "source": [
        "The `float` class can be used to represent real numbers."
      ],
      "metadata": {
        "id": "PhSap1oa6KUv"
      }
    },
    {
      "cell_type": "code",
      "source": [
        "help(float)"
      ],
      "metadata": {
        "colab": {
          "base_uri": "https://localhost:8080/"
        },
        "id": "OyHhZlTB50e_",
        "outputId": "52061745-8385-4d12-8ddc-e3d44aff262d"
      },
      "execution_count": 97,
      "outputs": [
        {
          "output_type": "stream",
          "name": "stdout",
          "text": [
            "Help on class float in module builtins:\n",
            "\n",
            "class float(object)\n",
            " |  float(x=0, /)\n",
            " |  \n",
            " |  Convert a string or number to a floating point number, if possible.\n",
            " |  \n",
            " |  Methods defined here:\n",
            " |  \n",
            " |  __abs__(self, /)\n",
            " |      abs(self)\n",
            " |  \n",
            " |  __add__(self, value, /)\n",
            " |      Return self+value.\n",
            " |  \n",
            " |  __bool__(self, /)\n",
            " |      self != 0\n",
            " |  \n",
            " |  __divmod__(self, value, /)\n",
            " |      Return divmod(self, value).\n",
            " |  \n",
            " |  __eq__(self, value, /)\n",
            " |      Return self==value.\n",
            " |  \n",
            " |  __float__(self, /)\n",
            " |      float(self)\n",
            " |  \n",
            " |  __floordiv__(self, value, /)\n",
            " |      Return self//value.\n",
            " |  \n",
            " |  __format__(self, format_spec, /)\n",
            " |      Formats the float according to format_spec.\n",
            " |  \n",
            " |  __ge__(self, value, /)\n",
            " |      Return self>=value.\n",
            " |  \n",
            " |  __getattribute__(self, name, /)\n",
            " |      Return getattr(self, name).\n",
            " |  \n",
            " |  __getnewargs__(self, /)\n",
            " |  \n",
            " |  __gt__(self, value, /)\n",
            " |      Return self>value.\n",
            " |  \n",
            " |  __hash__(self, /)\n",
            " |      Return hash(self).\n",
            " |  \n",
            " |  __int__(self, /)\n",
            " |      int(self)\n",
            " |  \n",
            " |  __le__(self, value, /)\n",
            " |      Return self<=value.\n",
            " |  \n",
            " |  __lt__(self, value, /)\n",
            " |      Return self<value.\n",
            " |  \n",
            " |  __mod__(self, value, /)\n",
            " |      Return self%value.\n",
            " |  \n",
            " |  __mul__(self, value, /)\n",
            " |      Return self*value.\n",
            " |  \n",
            " |  __ne__(self, value, /)\n",
            " |      Return self!=value.\n",
            " |  \n",
            " |  __neg__(self, /)\n",
            " |      -self\n",
            " |  \n",
            " |  __pos__(self, /)\n",
            " |      +self\n",
            " |  \n",
            " |  __pow__(self, value, mod=None, /)\n",
            " |      Return pow(self, value, mod).\n",
            " |  \n",
            " |  __radd__(self, value, /)\n",
            " |      Return value+self.\n",
            " |  \n",
            " |  __rdivmod__(self, value, /)\n",
            " |      Return divmod(value, self).\n",
            " |  \n",
            " |  __repr__(self, /)\n",
            " |      Return repr(self).\n",
            " |  \n",
            " |  __rfloordiv__(self, value, /)\n",
            " |      Return value//self.\n",
            " |  \n",
            " |  __rmod__(self, value, /)\n",
            " |      Return value%self.\n",
            " |  \n",
            " |  __rmul__(self, value, /)\n",
            " |      Return value*self.\n",
            " |  \n",
            " |  __round__(self, ndigits=None, /)\n",
            " |      Return the Integral closest to x, rounding half toward even.\n",
            " |      \n",
            " |      When an argument is passed, work like built-in round(x, ndigits).\n",
            " |  \n",
            " |  __rpow__(self, value, mod=None, /)\n",
            " |      Return pow(value, self, mod).\n",
            " |  \n",
            " |  __rsub__(self, value, /)\n",
            " |      Return value-self.\n",
            " |  \n",
            " |  __rtruediv__(self, value, /)\n",
            " |      Return value/self.\n",
            " |  \n",
            " |  __str__(self, /)\n",
            " |      Return str(self).\n",
            " |  \n",
            " |  __sub__(self, value, /)\n",
            " |      Return self-value.\n",
            " |  \n",
            " |  __truediv__(self, value, /)\n",
            " |      Return self/value.\n",
            " |  \n",
            " |  __trunc__(self, /)\n",
            " |      Return the Integral closest to x between 0 and x.\n",
            " |  \n",
            " |  as_integer_ratio(self, /)\n",
            " |      Return integer ratio.\n",
            " |      \n",
            " |      Return a pair of integers, whose ratio is exactly equal to the original float\n",
            " |      and with a positive denominator.\n",
            " |      \n",
            " |      Raise OverflowError on infinities and a ValueError on NaNs.\n",
            " |      \n",
            " |      >>> (10.0).as_integer_ratio()\n",
            " |      (10, 1)\n",
            " |      >>> (0.0).as_integer_ratio()\n",
            " |      (0, 1)\n",
            " |      >>> (-.25).as_integer_ratio()\n",
            " |      (-1, 4)\n",
            " |  \n",
            " |  conjugate(self, /)\n",
            " |      Return self, the complex conjugate of any float.\n",
            " |  \n",
            " |  hex(self, /)\n",
            " |      Return a hexadecimal representation of a floating-point number.\n",
            " |      \n",
            " |      >>> (-0.1).hex()\n",
            " |      '-0x1.999999999999ap-4'\n",
            " |      >>> 3.14159.hex()\n",
            " |      '0x1.921f9f01b866ep+1'\n",
            " |  \n",
            " |  is_integer(self, /)\n",
            " |      Return True if the float is an integer.\n",
            " |  \n",
            " |  ----------------------------------------------------------------------\n",
            " |  Class methods defined here:\n",
            " |  \n",
            " |  __getformat__(typestr, /) from builtins.type\n",
            " |      You probably don't want to use this function.\n",
            " |      \n",
            " |        typestr\n",
            " |          Must be 'double' or 'float'.\n",
            " |      \n",
            " |      It exists mainly to be used in Python's test suite.\n",
            " |      \n",
            " |      This function returns whichever of 'unknown', 'IEEE, big-endian' or 'IEEE,\n",
            " |      little-endian' best describes the format of floating point numbers used by the\n",
            " |      C type named by typestr.\n",
            " |  \n",
            " |  __set_format__(typestr, fmt, /) from builtins.type\n",
            " |      You probably don't want to use this function.\n",
            " |      \n",
            " |        typestr\n",
            " |          Must be 'double' or 'float'.\n",
            " |        fmt\n",
            " |          Must be one of 'unknown', 'IEEE, big-endian' or 'IEEE, little-endian',\n",
            " |          and in addition can only be one of the latter two if it appears to\n",
            " |          match the underlying C reality.\n",
            " |      \n",
            " |      It exists mainly to be used in Python's test suite.\n",
            " |      \n",
            " |      Override the automatic determination of C-level floating point type.\n",
            " |      This affects how floats are converted to and from binary strings.\n",
            " |  \n",
            " |  fromhex(string, /) from builtins.type\n",
            " |      Create a floating-point number from a hexadecimal string.\n",
            " |      \n",
            " |      >>> float.fromhex('0x1.ffffp10')\n",
            " |      2047.984375\n",
            " |      >>> float.fromhex('-0x1p-1074')\n",
            " |      -5e-324\n",
            " |  \n",
            " |  ----------------------------------------------------------------------\n",
            " |  Static methods defined here:\n",
            " |  \n",
            " |  __new__(*args, **kwargs) from builtins.type\n",
            " |      Create and return a new object.  See help(type) for accurate signature.\n",
            " |  \n",
            " |  ----------------------------------------------------------------------\n",
            " |  Data descriptors defined here:\n",
            " |  \n",
            " |  imag\n",
            " |      the imaginary part of a complex number\n",
            " |  \n",
            " |  real\n",
            " |      the real part of a complex number\n",
            "\n"
          ]
        }
      ]
    },
    {
      "cell_type": "markdown",
      "source": [
        "The `float` class has a single constructor, which can take a number or a string and will attempt to convert it to a float."
      ],
      "metadata": {
        "id": "P3vO-B55F-JN"
      }
    },
    {
      "cell_type": "code",
      "source": [
        "float(10)"
      ],
      "metadata": {
        "colab": {
          "base_uri": "https://localhost:8080/"
        },
        "id": "xMmhAARn6XCA",
        "outputId": "40d5a634-dc6a-47dc-a410-ed7375167f6c"
      },
      "execution_count": 98,
      "outputs": [
        {
          "output_type": "execute_result",
          "data": {
            "text/plain": [
              "10.0"
            ]
          },
          "metadata": {},
          "execution_count": 98
        }
      ]
    },
    {
      "cell_type": "code",
      "source": [
        "float(3.14)"
      ],
      "metadata": {
        "colab": {
          "base_uri": "https://localhost:8080/"
        },
        "id": "4j8ZS1kpGJBo",
        "outputId": "c4fdac67-7a1d-4784-b0c9-f2f83fc2b3c9"
      },
      "execution_count": 99,
      "outputs": [
        {
          "output_type": "execute_result",
          "data": {
            "text/plain": [
              "3.14"
            ]
          },
          "metadata": {},
          "execution_count": 99
        }
      ]
    },
    {
      "cell_type": "code",
      "source": [
        "float('0.1')"
      ],
      "metadata": {
        "colab": {
          "base_uri": "https://localhost:8080/"
        },
        "id": "DtMgdni_GKYv",
        "outputId": "aead20b8-87d4-4fe0-9321-4b583b008197"
      },
      "execution_count": 100,
      "outputs": [
        {
          "output_type": "execute_result",
          "data": {
            "text/plain": [
              "0.1"
            ]
          },
          "metadata": {},
          "execution_count": 100
        }
      ]
    },
    {
      "cell_type": "markdown",
      "source": [
        "\n",
        "\n",
        "---\n",
        "\n",
        "**BE CAREFUL**"
      ],
      "metadata": {
        "id": "bZl21O6vGj_q"
      }
    },
    {
      "cell_type": "markdown",
      "source": [
        "*However, strings that represent fractions cannot be converted to floats, unlike the Fraction class we saw earlier.*"
      ],
      "metadata": {
        "id": "qksByV54GM-w"
      }
    },
    {
      "cell_type": "code",
      "source": [
        "float('22/7')"
      ],
      "metadata": {
        "colab": {
          "base_uri": "https://localhost:8080/",
          "height": 166
        },
        "id": "C7Km2DQ7GL8j",
        "outputId": "9ec54394-f611-4f2a-b737-541cf3053604"
      },
      "execution_count": 101,
      "outputs": [
        {
          "output_type": "error",
          "ename": "ValueError",
          "evalue": "ignored",
          "traceback": [
            "\u001b[0;31m---------------------------------------------------------------------------\u001b[0m",
            "\u001b[0;31mValueError\u001b[0m                                Traceback (most recent call last)",
            "\u001b[0;32m<ipython-input-101-b1a86d0295b9>\u001b[0m in \u001b[0;36m<module>\u001b[0;34m\u001b[0m\n\u001b[0;32m----> 1\u001b[0;31m \u001b[0mfloat\u001b[0m\u001b[0;34m(\u001b[0m\u001b[0;34m'22/7'\u001b[0m\u001b[0;34m)\u001b[0m\u001b[0;34m\u001b[0m\u001b[0;34m\u001b[0m\u001b[0m\n\u001b[0m",
            "\u001b[0;31mValueError\u001b[0m: could not convert string to float: '22/7'"
          ]
        }
      ]
    },
    {
      "cell_type": "markdown",
      "source": [
        "*If you really want to get a float from a string such as `'22/7'`, you could first create a `Fraction`, then create a `float` from that:*"
      ],
      "metadata": {
        "id": "kqG7xrDuGpc8"
      }
    },
    {
      "cell_type": "code",
      "source": [
        "from fractions import Fraction"
      ],
      "metadata": {
        "id": "aL1-DUbEGfDO"
      },
      "execution_count": 102,
      "outputs": []
    },
    {
      "cell_type": "code",
      "source": [
        "float(Fraction('22/7'))"
      ],
      "metadata": {
        "colab": {
          "base_uri": "https://localhost:8080/"
        },
        "id": "8aNdED0cG7s5",
        "outputId": "cf0f732b-386b-4cab-b52f-61bc9d863fdc"
      },
      "execution_count": 103,
      "outputs": [
        {
          "output_type": "execute_result",
          "data": {
            "text/plain": [
              "3.142857142857143"
            ]
          },
          "metadata": {},
          "execution_count": 103
        }
      ]
    },
    {
      "cell_type": "markdown",
      "source": [
        "*Floats do not always have an exact representation:*"
      ],
      "metadata": {
        "id": "AYdJe1G0G_rm"
      }
    },
    {
      "cell_type": "code",
      "source": [
        "print(0.1)"
      ],
      "metadata": {
        "colab": {
          "base_uri": "https://localhost:8080/"
        },
        "id": "MB-JZ0WQG-Lg",
        "outputId": "3a71b7c4-eb13-4cd1-81ac-3500b0c94301"
      },
      "execution_count": 104,
      "outputs": [
        {
          "output_type": "stream",
          "name": "stdout",
          "text": [
            "0.1\n"
          ]
        }
      ]
    },
    {
      "cell_type": "markdown",
      "source": [
        "*Although this looks like `0.1` exactly, we need to reveal more digits after the decimal point to see what's going on:*"
      ],
      "metadata": {
        "id": "J3kh9wOJHIWB"
      }
    },
    {
      "cell_type": "code",
      "source": [
        "format(0.1, '.25f')"
      ],
      "metadata": {
        "colab": {
          "base_uri": "https://localhost:8080/",
          "height": 35
        },
        "id": "VXpeYhm_HEg_",
        "outputId": "d888fcef-aafb-4873-c6ad-a55d3b21f65e"
      },
      "execution_count": 105,
      "outputs": [
        {
          "output_type": "execute_result",
          "data": {
            "text/plain": [
              "'0.1000000000000000055511151'"
            ],
            "application/vnd.google.colaboratory.intrinsic+json": {
              "type": "string"
            }
          },
          "metadata": {},
          "execution_count": 105
        }
      ]
    },
    {
      "cell_type": "markdown",
      "source": [
        "*However, certain numbers can be represented exactly in a binary fraction expansion:*"
      ],
      "metadata": {
        "id": "c-30r9oTHVuX"
      }
    },
    {
      "cell_type": "code",
      "source": [
        "format(0.125, '.25f')"
      ],
      "metadata": {
        "colab": {
          "base_uri": "https://localhost:8080/",
          "height": 35
        },
        "id": "YH_oItAaHUvU",
        "outputId": "81404fdf-bc42-481f-f3c8-ed8524771752"
      },
      "execution_count": 106,
      "outputs": [
        {
          "output_type": "execute_result",
          "data": {
            "text/plain": [
              "'0.1250000000000000000000000'"
            ],
            "application/vnd.google.colaboratory.intrinsic+json": {
              "type": "string"
            }
          },
          "metadata": {},
          "execution_count": 106
        }
      ]
    },
    {
      "cell_type": "markdown",
      "source": [
        "*This is because 0.125 is precisely 1/8 or 1/(2^3)*"
      ],
      "metadata": {
        "id": "QH89oSpKHf0e"
      }
    },
    {
      "cell_type": "markdown",
      "source": [
        "\n",
        "\n",
        "---\n",
        "\n"
      ],
      "metadata": {
        "id": "c7UStlopHtVx"
      }
    },
    {
      "cell_type": "code",
      "source": [],
      "metadata": {
        "id": "FFPUmG8vHk7V"
      },
      "execution_count": null,
      "outputs": []
    }
  ]
}