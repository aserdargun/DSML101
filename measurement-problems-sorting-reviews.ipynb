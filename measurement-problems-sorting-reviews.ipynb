{
 "cells": [
  {
   "cell_type": "code",
   "execution_count": 1,
   "id": "8d1432e5",
   "metadata": {
    "_cell_guid": "b1076dfc-b9ad-4769-8c92-a6c4dae69d19",
    "_uuid": "8f2839f25d086af736a60e9eeb907d3b93b6e0e5",
    "execution": {
     "iopub.execute_input": "2022-11-10T12:42:52.284145Z",
     "iopub.status.busy": "2022-11-10T12:42:52.283596Z",
     "iopub.status.idle": "2022-11-10T12:42:52.300322Z",
     "shell.execute_reply": "2022-11-10T12:42:52.298767Z"
    },
    "papermill": {
     "duration": 0.029971,
     "end_time": "2022-11-10T12:42:52.303579",
     "exception": false,
     "start_time": "2022-11-10T12:42:52.273608",
     "status": "completed"
    },
    "tags": []
   },
   "outputs": [],
   "source": [
    "# This Python 3 environment comes with many helpful analytics libraries installed\n",
    "# It is defined by the kaggle/python Docker image: https://github.com/kaggle/docker-python\n",
    "# For example, here's several helpful packages to load\n",
    "\n",
    "import numpy as np # linear algebra\n",
    "import pandas as pd # data processing, CSV file I/O (e.g. pd.read_csv)\n",
    "\n",
    "# Input data files are available in the read-only \"../input/\" directory\n",
    "# For example, running this (by clicking run or pressing Shift+Enter) will list all files under the input directory\n",
    "\n",
    "import os\n",
    "for dirname, _, filenames in os.walk('/kaggle/input'):\n",
    "    for filename in filenames:\n",
    "        print(os.path.join(dirname, filename))\n",
    "\n",
    "# You can write up to 20GB to the current directory (/kaggle/working/) that gets preserved as output when you create a version using \"Save & Run All\" \n",
    "# You can also write temporary files to /kaggle/temp/, but they won't be saved outside of the current session"
   ]
  },
  {
   "cell_type": "code",
   "execution_count": 2,
   "id": "3a62e1b6",
   "metadata": {
    "execution": {
     "iopub.execute_input": "2022-11-10T12:42:52.318713Z",
     "iopub.status.busy": "2022-11-10T12:42:52.317310Z",
     "iopub.status.idle": "2022-11-10T12:42:53.216118Z",
     "shell.execute_reply": "2022-11-10T12:42:53.214678Z"
    },
    "papermill": {
     "duration": 0.910295,
     "end_time": "2022-11-10T12:42:53.219470",
     "exception": false,
     "start_time": "2022-11-10T12:42:52.309175",
     "status": "completed"
    },
    "tags": []
   },
   "outputs": [],
   "source": [
    "import pandas as pd\n",
    "import math\n",
    "import scipy.stats as st\n",
    "\n",
    "pd.set_option('display.max_columns', None)\n",
    "pd.set_option('display.expand_frame_repr', False)\n",
    "pd.set_option('display.float_format', lambda x: '%.5f' % x)"
   ]
  },
  {
   "cell_type": "code",
   "execution_count": 3,
   "id": "fb5b896f",
   "metadata": {
    "execution": {
     "iopub.execute_input": "2022-11-10T12:42:53.232112Z",
     "iopub.status.busy": "2022-11-10T12:42:53.231646Z",
     "iopub.status.idle": "2022-11-10T12:42:53.237276Z",
     "shell.execute_reply": "2022-11-10T12:42:53.236227Z"
    },
    "papermill": {
     "duration": 0.014821,
     "end_time": "2022-11-10T12:42:53.239713",
     "exception": false,
     "start_time": "2022-11-10T12:42:53.224892",
     "status": "completed"
    },
    "tags": []
   },
   "outputs": [],
   "source": [
    "def score_up_down_diff(up, down):\n",
    "    return up - down"
   ]
  },
  {
   "cell_type": "code",
   "execution_count": 4,
   "id": "71a7fd2d",
   "metadata": {
    "execution": {
     "iopub.execute_input": "2022-11-10T12:42:53.252241Z",
     "iopub.status.busy": "2022-11-10T12:42:53.251787Z",
     "iopub.status.idle": "2022-11-10T12:42:53.261328Z",
     "shell.execute_reply": "2022-11-10T12:42:53.259981Z"
    },
    "papermill": {
     "duration": 0.019325,
     "end_time": "2022-11-10T12:42:53.264330",
     "exception": false,
     "start_time": "2022-11-10T12:42:53.245005",
     "status": "completed"
    },
    "tags": []
   },
   "outputs": [
    {
     "data": {
      "text/plain": [
       "200"
      ]
     },
     "execution_count": 4,
     "metadata": {},
     "output_type": "execute_result"
    }
   ],
   "source": [
    "score_up_down_diff(600, 400)"
   ]
  },
  {
   "cell_type": "code",
   "execution_count": 5,
   "id": "0d771ec8",
   "metadata": {
    "execution": {
     "iopub.execute_input": "2022-11-10T12:42:53.276828Z",
     "iopub.status.busy": "2022-11-10T12:42:53.276375Z",
     "iopub.status.idle": "2022-11-10T12:42:53.283152Z",
     "shell.execute_reply": "2022-11-10T12:42:53.281810Z"
    },
    "papermill": {
     "duration": 0.01583,
     "end_time": "2022-11-10T12:42:53.285541",
     "exception": false,
     "start_time": "2022-11-10T12:42:53.269711",
     "status": "completed"
    },
    "tags": []
   },
   "outputs": [
    {
     "data": {
      "text/plain": [
       "1000"
      ]
     },
     "execution_count": 5,
     "metadata": {},
     "output_type": "execute_result"
    }
   ],
   "source": [
    "score_up_down_diff(5500, 4500)"
   ]
  },
  {
   "cell_type": "code",
   "execution_count": 6,
   "id": "69e10b76",
   "metadata": {
    "execution": {
     "iopub.execute_input": "2022-11-10T12:42:53.298367Z",
     "iopub.status.busy": "2022-11-10T12:42:53.297897Z",
     "iopub.status.idle": "2022-11-10T12:42:53.303219Z",
     "shell.execute_reply": "2022-11-10T12:42:53.302263Z"
    },
    "papermill": {
     "duration": 0.014744,
     "end_time": "2022-11-10T12:42:53.305795",
     "exception": false,
     "start_time": "2022-11-10T12:42:53.291051",
     "status": "completed"
    },
    "tags": []
   },
   "outputs": [],
   "source": [
    "def score_average_rating(up, down):\n",
    "    if up + down == 0:\n",
    "        return 0\n",
    "    return up / (up + down)"
   ]
  },
  {
   "cell_type": "code",
   "execution_count": 7,
   "id": "f633140b",
   "metadata": {
    "execution": {
     "iopub.execute_input": "2022-11-10T12:42:53.319178Z",
     "iopub.status.busy": "2022-11-10T12:42:53.318720Z",
     "iopub.status.idle": "2022-11-10T12:42:53.325672Z",
     "shell.execute_reply": "2022-11-10T12:42:53.324481Z"
    },
    "papermill": {
     "duration": 0.016692,
     "end_time": "2022-11-10T12:42:53.328276",
     "exception": false,
     "start_time": "2022-11-10T12:42:53.311584",
     "status": "completed"
    },
    "tags": []
   },
   "outputs": [
    {
     "data": {
      "text/plain": [
       "1.0"
      ]
     },
     "execution_count": 7,
     "metadata": {},
     "output_type": "execute_result"
    }
   ],
   "source": [
    "score_average_rating(2, 0)"
   ]
  },
  {
   "cell_type": "code",
   "execution_count": 8,
   "id": "222ea571",
   "metadata": {
    "execution": {
     "iopub.execute_input": "2022-11-10T12:42:53.341497Z",
     "iopub.status.busy": "2022-11-10T12:42:53.341073Z",
     "iopub.status.idle": "2022-11-10T12:42:53.348449Z",
     "shell.execute_reply": "2022-11-10T12:42:53.347179Z"
    },
    "papermill": {
     "duration": 0.016854,
     "end_time": "2022-11-10T12:42:53.350659",
     "exception": false,
     "start_time": "2022-11-10T12:42:53.333805",
     "status": "completed"
    },
    "tags": []
   },
   "outputs": [
    {
     "data": {
      "text/plain": [
       "0.9900990099009901"
      ]
     },
     "execution_count": 8,
     "metadata": {},
     "output_type": "execute_result"
    }
   ],
   "source": [
    "score_average_rating(100, 1)"
   ]
  },
  {
   "cell_type": "code",
   "execution_count": 9,
   "id": "72456ea5",
   "metadata": {
    "execution": {
     "iopub.execute_input": "2022-11-10T12:42:53.363549Z",
     "iopub.status.busy": "2022-11-10T12:42:53.363179Z",
     "iopub.status.idle": "2022-11-10T12:42:53.371733Z",
     "shell.execute_reply": "2022-11-10T12:42:53.370456Z"
    },
    "papermill": {
     "duration": 0.017947,
     "end_time": "2022-11-10T12:42:53.374216",
     "exception": false,
     "start_time": "2022-11-10T12:42:53.356269",
     "status": "completed"
    },
    "tags": []
   },
   "outputs": [],
   "source": [
    "def wilson_lower_bound(up, down, confidence=0.95):\n",
    "    \"\"\"\n",
    "    Wilson Lower Bound Score Calculation\n",
    "    - WLB Score is admitted as confidence interval lower bound of calculating Bernoulli parameter p\n",
    "    - This calculated score is used for sorting.\n",
    "    - Note:\n",
    "    If scores are between 1 to 5, then scores 1,2,3 are negative and scores of 4, 5 are positive. It fits for bernoulli.\n",
    "    In this case, Some issues occur. It should be done bayesian average rating.\n",
    "\n",
    "    Parameters\n",
    "    ----------\n",
    "    up: int\n",
    "        up count\n",
    "    down: int\n",
    "        down count\n",
    "    confidence: float\n",
    "        confidence\n",
    "\n",
    "    Returns\n",
    "    -------\n",
    "    wilson score: float\n",
    "\n",
    "    \"\"\"\n",
    "    n = up + down\n",
    "    if n == 0:\n",
    "        return 0\n",
    "    z = st.norm.ppf(1 - (1 - confidence) / 2)\n",
    "    phat = 1.0 * up / n\n",
    "    return (phat + z * z / (2 * n) - z * math.sqrt((phat * (1 - phat) + z * z / (4 * n)) / n)) / (1 + z * z / n)"
   ]
  },
  {
   "cell_type": "code",
   "execution_count": 10,
   "id": "bcd682a9",
   "metadata": {
    "execution": {
     "iopub.execute_input": "2022-11-10T12:42:53.387053Z",
     "iopub.status.busy": "2022-11-10T12:42:53.386599Z",
     "iopub.status.idle": "2022-11-10T12:42:53.396335Z",
     "shell.execute_reply": "2022-11-10T12:42:53.395015Z"
    },
    "papermill": {
     "duration": 0.018905,
     "end_time": "2022-11-10T12:42:53.398574",
     "exception": false,
     "start_time": "2022-11-10T12:42:53.379669",
     "status": "completed"
    },
    "tags": []
   },
   "outputs": [
    {
     "data": {
      "text/plain": [
       "0.5693094295142663"
      ]
     },
     "execution_count": 10,
     "metadata": {},
     "output_type": "execute_result"
    }
   ],
   "source": [
    "wilson_lower_bound(600, 400)"
   ]
  },
  {
   "cell_type": "code",
   "execution_count": 11,
   "id": "8a45fd03",
   "metadata": {
    "execution": {
     "iopub.execute_input": "2022-11-10T12:42:53.413455Z",
     "iopub.status.busy": "2022-11-10T12:42:53.412818Z",
     "iopub.status.idle": "2022-11-10T12:42:53.421114Z",
     "shell.execute_reply": "2022-11-10T12:42:53.419862Z"
    },
    "papermill": {
     "duration": 0.017954,
     "end_time": "2022-11-10T12:42:53.423625",
     "exception": false,
     "start_time": "2022-11-10T12:42:53.405671",
     "status": "completed"
    },
    "tags": []
   },
   "outputs": [
    {
     "data": {
      "text/plain": [
       "0.5402319557715324"
      ]
     },
     "execution_count": 11,
     "metadata": {},
     "output_type": "execute_result"
    }
   ],
   "source": [
    "wilson_lower_bound(5500, 4500)"
   ]
  },
  {
   "cell_type": "code",
   "execution_count": 12,
   "id": "6c99ba1a",
   "metadata": {
    "execution": {
     "iopub.execute_input": "2022-11-10T12:42:53.437205Z",
     "iopub.status.busy": "2022-11-10T12:42:53.436742Z",
     "iopub.status.idle": "2022-11-10T12:42:53.444607Z",
     "shell.execute_reply": "2022-11-10T12:42:53.443281Z"
    },
    "papermill": {
     "duration": 0.017699,
     "end_time": "2022-11-10T12:42:53.447069",
     "exception": false,
     "start_time": "2022-11-10T12:42:53.429370",
     "status": "completed"
    },
    "tags": []
   },
   "outputs": [
    {
     "data": {
      "text/plain": [
       "0.3423802275066531"
      ]
     },
     "execution_count": 12,
     "metadata": {},
     "output_type": "execute_result"
    }
   ],
   "source": [
    "wilson_lower_bound(2, 0)"
   ]
  },
  {
   "cell_type": "code",
   "execution_count": 13,
   "id": "bb338a6c",
   "metadata": {
    "execution": {
     "iopub.execute_input": "2022-11-10T12:42:53.461832Z",
     "iopub.status.busy": "2022-11-10T12:42:53.460742Z",
     "iopub.status.idle": "2022-11-10T12:42:53.582646Z",
     "shell.execute_reply": "2022-11-10T12:42:53.581282Z"
    },
    "papermill": {
     "duration": 0.13243,
     "end_time": "2022-11-10T12:42:53.585564",
     "exception": false,
     "start_time": "2022-11-10T12:42:53.453134",
     "status": "completed"
    },
    "tags": []
   },
   "outputs": [
    {
     "data": {
      "text/plain": [
       "0.9460328420055449"
      ]
     },
     "execution_count": 13,
     "metadata": {},
     "output_type": "execute_result"
    }
   ],
   "source": [
    "wilson_lower_bound(100, 1)"
   ]
  },
  {
   "cell_type": "code",
   "execution_count": 14,
   "id": "6067a32c",
   "metadata": {
    "execution": {
     "iopub.execute_input": "2022-11-10T12:42:53.599080Z",
     "iopub.status.busy": "2022-11-10T12:42:53.598661Z",
     "iopub.status.idle": "2022-11-10T12:42:53.609889Z",
     "shell.execute_reply": "2022-11-10T12:42:53.608834Z"
    },
    "papermill": {
     "duration": 0.020866,
     "end_time": "2022-11-10T12:42:53.612371",
     "exception": false,
     "start_time": "2022-11-10T12:42:53.591505",
     "status": "completed"
    },
    "tags": []
   },
   "outputs": [],
   "source": [
    "up = [15, 70, 14, 4, 2, 5, 8, 37, 21, 52, 28, 147, 61, 30, 23, 40, 37, 61, 54, 18, 12, 68]\n",
    "down = [0, 2, 2, 2, 15, 2, 6, 5, 23, 8, 12, 2, 1, 1, 5, 1, 2, 6, 2, 0, 2, 2]\n",
    "comments = pd.DataFrame({\"up\": up, \"down\": down})"
   ]
  },
  {
   "cell_type": "code",
   "execution_count": 15,
   "id": "b6f48870",
   "metadata": {
    "execution": {
     "iopub.execute_input": "2022-11-10T12:42:53.626768Z",
     "iopub.status.busy": "2022-11-10T12:42:53.625870Z",
     "iopub.status.idle": "2022-11-10T12:42:53.641665Z",
     "shell.execute_reply": "2022-11-10T12:42:53.640390Z"
    },
    "papermill": {
     "duration": 0.026041,
     "end_time": "2022-11-10T12:42:53.644373",
     "exception": false,
     "start_time": "2022-11-10T12:42:53.618332",
     "status": "completed"
    },
    "tags": []
   },
   "outputs": [],
   "source": [
    "comments[\"score_pos_neg_diff\"] = comments.apply(lambda x: score_up_down_diff(x[\"up\"],\n",
    "                                                                             x[\"down\"]), axis=1)"
   ]
  },
  {
   "cell_type": "code",
   "execution_count": 16,
   "id": "dd2f818e",
   "metadata": {
    "execution": {
     "iopub.execute_input": "2022-11-10T12:42:53.659520Z",
     "iopub.status.busy": "2022-11-10T12:42:53.658686Z",
     "iopub.status.idle": "2022-11-10T12:42:53.667212Z",
     "shell.execute_reply": "2022-11-10T12:42:53.665993Z"
    },
    "papermill": {
     "duration": 0.018801,
     "end_time": "2022-11-10T12:42:53.669809",
     "exception": false,
     "start_time": "2022-11-10T12:42:53.651008",
     "status": "completed"
    },
    "tags": []
   },
   "outputs": [],
   "source": [
    "comments[\"score_average_rating\"] = comments.apply(lambda x: score_average_rating(x[\"up\"], x[\"down\"]), axis=1)"
   ]
  },
  {
   "cell_type": "code",
   "execution_count": 17,
   "id": "28944fa8",
   "metadata": {
    "execution": {
     "iopub.execute_input": "2022-11-10T12:42:53.683377Z",
     "iopub.status.busy": "2022-11-10T12:42:53.682973Z",
     "iopub.status.idle": "2022-11-10T12:42:53.695666Z",
     "shell.execute_reply": "2022-11-10T12:42:53.694474Z"
    },
    "papermill": {
     "duration": 0.022818,
     "end_time": "2022-11-10T12:42:53.698556",
     "exception": false,
     "start_time": "2022-11-10T12:42:53.675738",
     "status": "completed"
    },
    "tags": []
   },
   "outputs": [],
   "source": [
    "comments[\"wilson_lower_bound\"] = comments.apply(lambda x: wilson_lower_bound(x[\"up\"], x[\"down\"]), axis=1)"
   ]
  },
  {
   "cell_type": "code",
   "execution_count": 18,
   "id": "ef309b21",
   "metadata": {
    "execution": {
     "iopub.execute_input": "2022-11-10T12:42:53.712432Z",
     "iopub.status.busy": "2022-11-10T12:42:53.712021Z",
     "iopub.status.idle": "2022-11-10T12:42:53.732792Z",
     "shell.execute_reply": "2022-11-10T12:42:53.731561Z"
    },
    "papermill": {
     "duration": 0.030908,
     "end_time": "2022-11-10T12:42:53.735399",
     "exception": false,
     "start_time": "2022-11-10T12:42:53.704491",
     "status": "completed"
    },
    "tags": []
   },
   "outputs": [
    {
     "data": {
      "text/html": [
       "<div>\n",
       "<style scoped>\n",
       "    .dataframe tbody tr th:only-of-type {\n",
       "        vertical-align: middle;\n",
       "    }\n",
       "\n",
       "    .dataframe tbody tr th {\n",
       "        vertical-align: top;\n",
       "    }\n",
       "\n",
       "    .dataframe thead th {\n",
       "        text-align: right;\n",
       "    }\n",
       "</style>\n",
       "<table border=\"1\" class=\"dataframe\">\n",
       "  <thead>\n",
       "    <tr style=\"text-align: right;\">\n",
       "      <th></th>\n",
       "      <th>up</th>\n",
       "      <th>down</th>\n",
       "      <th>score_pos_neg_diff</th>\n",
       "      <th>score_average_rating</th>\n",
       "      <th>wilson_lower_bound</th>\n",
       "    </tr>\n",
       "  </thead>\n",
       "  <tbody>\n",
       "    <tr>\n",
       "      <th>11</th>\n",
       "      <td>147</td>\n",
       "      <td>2</td>\n",
       "      <td>145</td>\n",
       "      <td>0.98658</td>\n",
       "      <td>0.95238</td>\n",
       "    </tr>\n",
       "    <tr>\n",
       "      <th>12</th>\n",
       "      <td>61</td>\n",
       "      <td>1</td>\n",
       "      <td>60</td>\n",
       "      <td>0.98387</td>\n",
       "      <td>0.91413</td>\n",
       "    </tr>\n",
       "    <tr>\n",
       "      <th>1</th>\n",
       "      <td>70</td>\n",
       "      <td>2</td>\n",
       "      <td>68</td>\n",
       "      <td>0.97222</td>\n",
       "      <td>0.90426</td>\n",
       "    </tr>\n",
       "    <tr>\n",
       "      <th>21</th>\n",
       "      <td>68</td>\n",
       "      <td>2</td>\n",
       "      <td>66</td>\n",
       "      <td>0.97143</td>\n",
       "      <td>0.90168</td>\n",
       "    </tr>\n",
       "    <tr>\n",
       "      <th>18</th>\n",
       "      <td>54</td>\n",
       "      <td>2</td>\n",
       "      <td>52</td>\n",
       "      <td>0.96429</td>\n",
       "      <td>0.87881</td>\n",
       "    </tr>\n",
       "    <tr>\n",
       "      <th>15</th>\n",
       "      <td>40</td>\n",
       "      <td>1</td>\n",
       "      <td>39</td>\n",
       "      <td>0.97561</td>\n",
       "      <td>0.87405</td>\n",
       "    </tr>\n",
       "    <tr>\n",
       "      <th>13</th>\n",
       "      <td>30</td>\n",
       "      <td>1</td>\n",
       "      <td>29</td>\n",
       "      <td>0.96774</td>\n",
       "      <td>0.83806</td>\n",
       "    </tr>\n",
       "    <tr>\n",
       "      <th>16</th>\n",
       "      <td>37</td>\n",
       "      <td>2</td>\n",
       "      <td>35</td>\n",
       "      <td>0.94872</td>\n",
       "      <td>0.83114</td>\n",
       "    </tr>\n",
       "    <tr>\n",
       "      <th>19</th>\n",
       "      <td>18</td>\n",
       "      <td>0</td>\n",
       "      <td>18</td>\n",
       "      <td>1.00000</td>\n",
       "      <td>0.82412</td>\n",
       "    </tr>\n",
       "    <tr>\n",
       "      <th>17</th>\n",
       "      <td>61</td>\n",
       "      <td>6</td>\n",
       "      <td>55</td>\n",
       "      <td>0.91045</td>\n",
       "      <td>0.81807</td>\n",
       "    </tr>\n",
       "    <tr>\n",
       "      <th>0</th>\n",
       "      <td>15</td>\n",
       "      <td>0</td>\n",
       "      <td>15</td>\n",
       "      <td>1.00000</td>\n",
       "      <td>0.79612</td>\n",
       "    </tr>\n",
       "    <tr>\n",
       "      <th>9</th>\n",
       "      <td>52</td>\n",
       "      <td>8</td>\n",
       "      <td>44</td>\n",
       "      <td>0.86667</td>\n",
       "      <td>0.75835</td>\n",
       "    </tr>\n",
       "    <tr>\n",
       "      <th>7</th>\n",
       "      <td>37</td>\n",
       "      <td>5</td>\n",
       "      <td>32</td>\n",
       "      <td>0.88095</td>\n",
       "      <td>0.75000</td>\n",
       "    </tr>\n",
       "    <tr>\n",
       "      <th>14</th>\n",
       "      <td>23</td>\n",
       "      <td>5</td>\n",
       "      <td>18</td>\n",
       "      <td>0.82143</td>\n",
       "      <td>0.64409</td>\n",
       "    </tr>\n",
       "    <tr>\n",
       "      <th>2</th>\n",
       "      <td>14</td>\n",
       "      <td>2</td>\n",
       "      <td>12</td>\n",
       "      <td>0.87500</td>\n",
       "      <td>0.63977</td>\n",
       "    </tr>\n",
       "    <tr>\n",
       "      <th>20</th>\n",
       "      <td>12</td>\n",
       "      <td>2</td>\n",
       "      <td>10</td>\n",
       "      <td>0.85714</td>\n",
       "      <td>0.60059</td>\n",
       "    </tr>\n",
       "    <tr>\n",
       "      <th>10</th>\n",
       "      <td>28</td>\n",
       "      <td>12</td>\n",
       "      <td>16</td>\n",
       "      <td>0.70000</td>\n",
       "      <td>0.54570</td>\n",
       "    </tr>\n",
       "    <tr>\n",
       "      <th>5</th>\n",
       "      <td>5</td>\n",
       "      <td>2</td>\n",
       "      <td>3</td>\n",
       "      <td>0.71429</td>\n",
       "      <td>0.35893</td>\n",
       "    </tr>\n",
       "    <tr>\n",
       "      <th>8</th>\n",
       "      <td>21</td>\n",
       "      <td>23</td>\n",
       "      <td>-2</td>\n",
       "      <td>0.47727</td>\n",
       "      <td>0.33755</td>\n",
       "    </tr>\n",
       "    <tr>\n",
       "      <th>6</th>\n",
       "      <td>8</td>\n",
       "      <td>6</td>\n",
       "      <td>2</td>\n",
       "      <td>0.57143</td>\n",
       "      <td>0.32591</td>\n",
       "    </tr>\n",
       "    <tr>\n",
       "      <th>3</th>\n",
       "      <td>4</td>\n",
       "      <td>2</td>\n",
       "      <td>2</td>\n",
       "      <td>0.66667</td>\n",
       "      <td>0.29999</td>\n",
       "    </tr>\n",
       "    <tr>\n",
       "      <th>4</th>\n",
       "      <td>2</td>\n",
       "      <td>15</td>\n",
       "      <td>-13</td>\n",
       "      <td>0.11765</td>\n",
       "      <td>0.03288</td>\n",
       "    </tr>\n",
       "  </tbody>\n",
       "</table>\n",
       "</div>"
      ],
      "text/plain": [
       "     up  down  score_pos_neg_diff  score_average_rating  wilson_lower_bound\n",
       "11  147     2                 145               0.98658             0.95238\n",
       "12   61     1                  60               0.98387             0.91413\n",
       "1    70     2                  68               0.97222             0.90426\n",
       "21   68     2                  66               0.97143             0.90168\n",
       "18   54     2                  52               0.96429             0.87881\n",
       "15   40     1                  39               0.97561             0.87405\n",
       "13   30     1                  29               0.96774             0.83806\n",
       "16   37     2                  35               0.94872             0.83114\n",
       "19   18     0                  18               1.00000             0.82412\n",
       "17   61     6                  55               0.91045             0.81807\n",
       "0    15     0                  15               1.00000             0.79612\n",
       "9    52     8                  44               0.86667             0.75835\n",
       "7    37     5                  32               0.88095             0.75000\n",
       "14   23     5                  18               0.82143             0.64409\n",
       "2    14     2                  12               0.87500             0.63977\n",
       "20   12     2                  10               0.85714             0.60059\n",
       "10   28    12                  16               0.70000             0.54570\n",
       "5     5     2                   3               0.71429             0.35893\n",
       "8    21    23                  -2               0.47727             0.33755\n",
       "6     8     6                   2               0.57143             0.32591\n",
       "3     4     2                   2               0.66667             0.29999\n",
       "4     2    15                 -13               0.11765             0.03288"
      ]
     },
     "execution_count": 18,
     "metadata": {},
     "output_type": "execute_result"
    }
   ],
   "source": [
    "comments.sort_values(\"wilson_lower_bound\", ascending=False)"
   ]
  }
 ],
 "metadata": {
  "kernelspec": {
   "display_name": "Python 3",
   "language": "python",
   "name": "python3"
  },
  "language_info": {
   "codemirror_mode": {
    "name": "ipython",
    "version": 3
   },
   "file_extension": ".py",
   "mimetype": "text/x-python",
   "name": "python",
   "nbconvert_exporter": "python",
   "pygments_lexer": "ipython3",
   "version": "3.7.12"
  },
  "papermill": {
   "default_parameters": {},
   "duration": 11.286155,
   "end_time": "2022-11-10T12:42:54.465396",
   "environment_variables": {},
   "exception": null,
   "input_path": "__notebook__.ipynb",
   "output_path": "__notebook__.ipynb",
   "parameters": {},
   "start_time": "2022-11-10T12:42:43.179241",
   "version": "2.3.4"
  }
 },
 "nbformat": 4,
 "nbformat_minor": 5
}
